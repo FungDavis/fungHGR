{
 "metadata": {
  "name": "",
  "signature": "sha256:fedda6ba2b3b8744b38624bb428a177ce7e21ffac01878784c092a758e3b6c94"
 },
 "nbformat": 3,
 "nbformat_minor": 0,
 "worksheets": [
  {
   "cells": [
    {
     "cell_type": "code",
     "collapsed": false,
     "input": [
      "import pandas as pd\n",
      "import numpy as np\n",
      "import json, requests, time"
     ],
     "language": "python",
     "metadata": {},
     "outputs": [],
     "prompt_number": 256
    },
    {
     "cell_type": "code",
     "collapsed": false,
     "input": [
      "cyrillic_translit={u'\\u0410': 'A', u'\\u0430': 'a',u'\\u0411': 'B', u'\\u0431': 'b',u'\\u0412': 'V', u'\\u0432': 'v',u'\\u0413': 'G', u'\\u0433': 'g',u'\\u0414': 'D', u'\\u0434': 'd',u'\\u0415': 'E', u'\\u0435': 'e',u'\\u0416': 'Zh', u'\\u0436': 'zh',u'\\u0417': 'Z', u'\\u0437': 'z',u'\\u0418': 'I', u'\\u0438': 'i',u'\\u0419': 'I', u'\\u0439': 'i',u'\\u041a': 'K', u'\\u043a': 'k',u'\\u041b': 'L', u'\\u043b': 'l',u'\\u041c': 'M', u'\\u043c': 'm',u'\\u041d': 'N', u'\\u043d': 'n',u'\\u041e': 'O', u'\\u043e': 'o',u'\\u041f': 'P', u'\\u043f': 'p',u'\\u0420': 'R', u'\\u0440': 'r',u'\\u0421': 'S', u'\\u0441': 's',u'\\u0422': 'T', u'\\u0442': 't',u'\\u0423': 'U', u'\\u0443': 'u',u'\\u0424': 'F', u'\\u0444': 'f',u'\\u0425': 'Kh', u'\\u0445': 'kh',u'\\u0426': 'Ts', u'\\u0446': 'ts',u'\\u0427': 'Ch', u'\\u0447': 'ch',u'\\u0428': 'Sh', u'\\u0448': 'sh',u'\\u0429': 'Shch', u'\\u0449': 'shch',u'\\u042a': '\"', u'\\u044a': '\"',u'\\u042b': 'Y', u'\\u044b': 'y',u'\\u042c': \"'\", u'\\u044c': \"'\",u'\\u042d': 'E', u'\\u044d': 'e',u'\\u042e': 'Iu', u'\\u044e': 'iu',u'\\u042f': 'Ia', u'\\u044f': 'ia',u'\\u0462': 'E', u'\\u0463': 'e'}\n",
      "\n",
      "def transliterate(word, translit_table):\n",
      "    \"\"\"\n",
      "    Transliterates 'word' based on the key/value pairs in 'translit_table'\n",
      "    \"\"\"\n",
      "    converted_word = ''\n",
      "    for char in word:\n",
      "        transchar = ''\n",
      "        if char in translit_table:\n",
      "            transchar = translit_table[char]\n",
      "        else:\n",
      "            transchar = char\n",
      "        converted_word += transchar\n",
      "    return converted_word"
     ],
     "language": "python",
     "metadata": {},
     "outputs": [],
     "prompt_number": 257
    },
    {
     "cell_type": "code",
     "collapsed": false,
     "input": [
      "def reverse_geocode(lng,lat):\n",
      "    keepgoing = True\n",
      "    while keepgoing == True:\n",
      "        try:\n",
      "            url = \"https://maps.googleapis.com/maps/api/geocode/json\"\n",
      "            Q = {'latlng':\"{},{}\".format(lat,lng)}\n",
      "            R = requests.get(url, params=Q)\n",
      "            print(R.url)\n",
      "            geo_response = R.json()\n",
      "            locality = 'error'\n",
      "            admin1 = 'error'\n",
      "            for component in geo_response['results'][0]['address_components']:\n",
      "                if 'locality' in component['types']:\n",
      "                    locality = component['long_name']\n",
      "                elif 'administrative_area_level_1' in component['types']:\n",
      "                    admin1 = component['long_name']\n",
      "                elif 'country' in component['types']:\n",
      "                    country = component['long_name']\n",
      "                    countryCode = component['short_name']\n",
      "            if locality == 'error': #if no locality in result\n",
      "                for component in geo_response['results'][0]['address_components']:\n",
      "                    if 'administrative_area_level_2' in component['types']:\n",
      "                        locality = component['long_name']\n",
      "            if admin1 == 'error': #if no admin1 in result\n",
      "                for component in geo_response['results'][0]['address_components']:\n",
      "                    if 'administrative_area_level_2' in component['types']:\n",
      "                        admin1 = component['long_name']\n",
      "            if admin1 == 'error': #if no admin1 or admin2 in result\n",
      "                for component in geo_response['results'][0]['address_components']:\n",
      "                    if 'administrative_area_level_3' in component['types']:\n",
      "                        admin1 = component['long_name']\n",
      "            print(\"\\\"{0}, {1}\\\",\\\"{2}\\\",\\\"{3}\\\"\".format(locality,admin1,country,countryCode))\n",
      "            time.sleep(1)\n",
      "            keepgoing = False\n",
      "        except IndexError:\n",
      "            time.sleep(1)\n",
      "            continue\n",
      "        return \"{}, {}\".format(locality,admin1), country, countryCode"
     ],
     "language": "python",
     "metadata": {},
     "outputs": [],
     "prompt_number": 258
    },
    {
     "cell_type": "code",
     "collapsed": false,
     "input": [
      "with open('resources/admindf.json','r',encoding='utf-8') as fp:\n",
      "    admin_lookup = json.load(fp)\n",
      "\n",
      "def partof_lookup(stem,admin_type):\n",
      "    if stem!='\u043d\u043e\u0442_\u0438\u043d_\u0442\u0435x\u0442':\n",
      "        try:\n",
      "            partof = admin_lookup[admin_type][stem]\n",
      "        except KeyError:\n",
      "            print('{} not in admin_lookup, type = {}'.format(stem,admin_type))\n",
      "            partof = None\n",
      "    else:\n",
      "        partof = None\n",
      "    return partof"
     ],
     "language": "python",
     "metadata": {},
     "outputs": [],
     "prompt_number": 259
    },
    {
     "cell_type": "code",
     "collapsed": false,
     "input": [
      "hgr_id = 730\n",
      "url = \"http://api.geonames.org/search?type=json&south=56.709167&west=24.744167&east=32.744167&north=64.709167&name=%D0%A5%D0%B0%D0%BC%D0%B8%D0%BD%D0%B0&username=jaguillette&featureClass=P\"\n",
      "ind = 0\n",
      "file_to_append = \"output/hgr_test_set_5.csv\""
     ],
     "language": "python",
     "metadata": {},
     "outputs": [],
     "prompt_number": 309
    },
    {
     "cell_type": "code",
     "collapsed": false,
     "input": [
      "geodf = pd.DataFrame.from_csv(\"output/geocoded_merged.csv\")\n",
      "loc = geodf.loc[geodf.hgr_id==hgr_id].index.tolist()[0]\n",
      "dataset = pd.DataFrame.from_csv(file_to_append)\n",
      "ind_to_add = max(dataset.index)+1\n",
      "datum = {'geonameId':{},'ru_old_orth':{},'alt_name':{},'partof_id':{},'x_coord':{},'y_coord':{},'ru_featuretype':{},'SOURCE':{},'description':{},'ru_new_orth':{},'lc_trans':{},'pres_loc':{},'pres_country':{},'country_code':{},'beg_yr':{},'end_yr':{},'lc_featuretype':{},'id_featuretype':{},'en_featuretype':{},'xy_type':{},'partof_prov':{},'partof_uezd':{},'partof_prov_name':{},'partof_uezd_name':{}}\n",
      "partof_prov_lookup_dict = dataset[dataset.partof_prov == dataset.index][['partof_prov_name']].to_dict()\n",
      "partof_uezd_lookup_dict = dataset[dataset.partof_uezd == dataset.index][['partof_uezd_name']].to_dict()"
     ],
     "language": "python",
     "metadata": {},
     "outputs": [],
     "prompt_number": 310
    },
    {
     "cell_type": "code",
     "collapsed": false,
     "input": [
      "geodf['admin1_partof'] = geodf.prov_stem.apply(partof_lookup,args=['prov_stem'])\n",
      "geodf['admin2_partof'] = geodf.uezd_stem.apply(partof_lookup,args=['uezd_stem'])"
     ],
     "language": "python",
     "metadata": {},
     "outputs": [
      {
       "output_type": "stream",
       "stream": "stdout",
       "text": [
        "\u0432\u0430\u0433 not in admin_lookup, type = uezd_stem\n",
        "\u043a\u0430\u0440\u043f\u043e\u0432 not in admin_lookup, type = uezd_stem\n"
       ]
      }
     ],
     "prompt_number": 311
    },
    {
     "cell_type": "code",
     "collapsed": false,
     "input": [
      "R = requests.get(url)\n",
      "result_json = R.json()\n",
      "datum['x_coord'][ind_to_add] = result_json['geonames'][ind]['lng']\n",
      "datum['y_coord'][ind_to_add] = result_json['geonames'][ind]['lat']\n",
      "datum['geonameId'][ind_to_add] = \"http://www.geonames.org/{}\".format(result_json['geonames'][ind]['geonameId'])"
     ],
     "language": "python",
     "metadata": {},
     "outputs": [],
     "prompt_number": 312
    },
    {
     "cell_type": "code",
     "collapsed": false,
     "input": [
      "datum['ru_old_orth'][ind_to_add] = geodf.loc[loc,\"name\"]\n",
      "datum['alt_name'][ind_to_add] = geodf.loc[loc,\"alt_name\"]\n",
      "datum['partof_id'][ind_to_add] = geodf.loc[loc,\"partof_id\"]\n",
      "datum['ru_featuretype'][ind_to_add] = geodf.loc[loc,\"_type\"]\n",
      "datum['SOURCE'][ind_to_add] = geodf.loc[loc,\"source_url\"]\n",
      "datum['description'][ind_to_add] = geodf.loc[loc,\"text\"]\n",
      "datum['ru_new_orth'][ind_to_add] = geodf.loc[loc,\"name_modern_sp\"]\n",
      "datum['lc_trans'][ind_to_add] = transliterate(geodf.loc[loc,\"name_modern_sp\"],cyrillic_translit)\n",
      "datum['beg_yr'][ind_to_add] = \"\"\n",
      "datum['end_yr'][ind_to_add] = \"\"\n",
      "datum['lc_featuretype'][ind_to_add] = \"\"\n",
      "datum['id_featuretype'][ind_to_add] = \"\"\n",
      "datum['en_featuretype'][ind_to_add] = \"\"\n",
      "datum['xy_type'][ind_to_add] = \"POINT\"\n",
      "datum['partof_prov'][ind_to_add] = geodf.loc[loc,\"admin1_partof\"]\n",
      "if geodf.loc[loc,\"_type\"] == \"\u0433\u043e\u0440\u043e\u0434\u044a\":\n",
      "    datum['partof_uezd'][ind_to_add] = ind_to_add\n",
      "else:\n",
      "    datum['partof_uezd'][ind_to_add] = geodf.loc[loc,\"admin2_partof\"]\n",
      "datum['partof_prov_name'][ind_to_add] = partof_prov_lookup_dict['partof_prov_name'][geodf.loc[loc,\"admin1_partof\"]]\n",
      "if geodf.loc[loc,\"admin2_partof\"] is not None and not np.isnan(geodf.loc[loc,\"admin2_partof\"]):\n",
      "    datum['partof_uezd_name'][ind_to_add] = partof_uezd_lookup_dict['partof_uezd_name'][geodf.loc[loc,\"admin2_partof\"]]"
     ],
     "language": "python",
     "metadata": {},
     "outputs": [],
     "prompt_number": 313
    },
    {
     "cell_type": "code",
     "collapsed": false,
     "input": [
      "datum['pres_loc'][ind_to_add], datum['pres_country'][ind_to_add], datum['country_code'][ind_to_add] = reverse_geocode(datum['x_coord'][ind_to_add],datum['y_coord'][ind_to_add])"
     ],
     "language": "python",
     "metadata": {},
     "outputs": [
      {
       "output_type": "stream",
       "stream": "stdout",
       "text": [
        "https://maps.googleapis.com/maps/api/geocode/json?latlng=60.56974%2C27.19794\n",
        "\"error, Hamina\",\"Finland\",\"FI\"\n"
       ]
      }
     ],
     "prompt_number": 314
    },
    {
     "cell_type": "code",
     "collapsed": false,
     "input": [
      "dataset = dataset.append(pd.DataFrame(datum))\n",
      "dataset = dataset[[\"ru_old_orth\",\"alt_name\",\"partof_id\",\"x_coord\",\"y_coord\",\"ru_featuretype\",\"SOURCE\",\"description\",\"ru_new_orth\",\"lc_trans\",\"pres_loc\",\"pres_country\",\"country_code\",\"beg_yr\",\"end_yr\",\"lc_featuretype\",\"id_featuretype\",\"en_featuretype\",\"xy_type\",\"partof_prov\",\"partof_uezd\",\"partof_prov_name\",\"partof_uezd_name\",'geonameId']]\n",
      "dataset.index.name = 'uniq_id'\n",
      "dataset.to_csv(file_to_append,encoding='utf=8')"
     ],
     "language": "python",
     "metadata": {},
     "outputs": [],
     "prompt_number": 315
    }
   ],
   "metadata": {}
  }
 ]
}