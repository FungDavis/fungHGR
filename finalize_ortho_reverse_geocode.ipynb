{
 "metadata": {
  "name": "",
  "signature": "sha256:57624ef771f60c80566c7fa6b3c00d56c648b86eb274d9c4a42aa0373b343247"
 },
 "nbformat": 3,
 "nbformat_minor": 0,
 "worksheets": [
  {
   "cells": [
    {
     "cell_type": "code",
     "collapsed": false,
     "input": [
      "import time, requests, json, re\n",
      "import pandas as pd\n",
      "import numpy as np\n",
      "from lxml import html"
     ],
     "language": "python",
     "metadata": {},
     "outputs": [],
     "prompt_number": 9
    },
    {
     "cell_type": "code",
     "collapsed": false,
     "input": [
      "lookup_dict = {}\n",
      "with open(\"special_cases.json\",'r') as fp:\n",
      "    lookup_dict = json.load(fp)\n",
      "\n",
      "def ortho_rules(text,lookup_dict):\n",
      "    \"\"\"\n",
      "    Takes a text string and a lookup dict as input\n",
      "    Removes any lingering html tags\n",
      "    Breaks the string down into component words with split\n",
      "    Uses replacements to modernize orthography\n",
      "    Returns re-assembled text with modern orthography\n",
      "    \"\"\"\n",
      "    if text is not None:\n",
      "        textlist = text.split(' ')\n",
      "        out_list = []\n",
      "        for word in textlist:\n",
      "            if word in [',','.',';',':']:\n",
      "                out_list.append(word)\n",
      "            word = word.strip(',.;:')\n",
      "            if word in lookup_dict:\n",
      "                word = lookup_dict[word]\n",
      "                out_list.append(word)\n",
      "            else:\n",
      "                word = re.sub(\"[\u042a\u044a]$\",'',word)\n",
      "                word = re.sub(r\"^([\u0447\u0435]{0,2}[\u0447]?[\u0432\u0431\u043d\u0440]?[\u0432\u0435\u043e\u0430\u0438])\u0437([\u041f\u0424\u041a\u0422\u0428\u0421\u0427\u043f\u0444\u043a\u0442\u0448\u0441\u0447])\",r\"\\1\u0441\\2\",word,re.IGNORECASE)\n",
      "                word = re.sub(\"\u0430\u0433\u043e$\",\"\u043e\u0433\u043e\",word,re.IGNORECASE)\n",
      "                word = re.sub(\"\u044f\u0433\u043e$\",\"\u0435\u0433\u043e\",word,re.IGNORECASE)\n",
      "                word = re.sub(\"\u044b\u044f$\",\"\u044b\u0435\",word,re.IGNORECASE)\n",
      "                word = re.sub(\"i\u044f$\",\"\u0438\u0435\",word,re.IGNORECASE)\n",
      "                word = word.replace('i','\u0438') #english letter\n",
      "                word = word.replace('I','\u0418') #english letter\n",
      "                word = word.replace('\u0456','\u0438') #cyrillic letter\n",
      "                word = word.replace('\u0406','\u0418') #cyrillic letter\n",
      "                word = word.replace('\u0462','\u0415')\n",
      "                word = word.replace('\u0463','\u0435')\n",
      "                out_list.append(word)\n",
      "        out_str = ' '.join(out_list)\n",
      "        return out_str\n",
      "    else:\n",
      "        return \"None\""
     ],
     "language": "python",
     "metadata": {},
     "outputs": [],
     "prompt_number": 10
    },
    {
     "cell_type": "code",
     "collapsed": false,
     "input": [
      "cyrillic_translit={u'\\u0410': 'A', u'\\u0430': 'a',u'\\u0411': 'B', u'\\u0431': 'b',u'\\u0412': 'V', u'\\u0432': 'v',u'\\u0413': 'G', u'\\u0433': 'g',u'\\u0414': 'D', u'\\u0434': 'd',u'\\u0415': 'E', u'\\u0435': 'e',u'\\u0416': 'Zh', u'\\u0436': 'zh',u'\\u0417': 'Z', u'\\u0437': 'z',u'\\u0418': 'I', u'\\u0438': 'i',u'\\u0419': 'I', u'\\u0439': 'i',u'\\u041a': 'K', u'\\u043a': 'k',u'\\u041b': 'L', u'\\u043b': 'l',u'\\u041c': 'M', u'\\u043c': 'm',u'\\u041d': 'N', u'\\u043d': 'n',u'\\u041e': 'O', u'\\u043e': 'o',u'\\u041f': 'P', u'\\u043f': 'p',u'\\u0420': 'R', u'\\u0440': 'r',u'\\u0421': 'S', u'\\u0441': 's',u'\\u0422': 'T', u'\\u0442': 't',u'\\u0423': 'U', u'\\u0443': 'u',u'\\u0424': 'F', u'\\u0444': 'f',u'\\u0425': 'Kh', u'\\u0445': 'kh',u'\\u0426': 'Ts', u'\\u0446': 'ts',u'\\u0427': 'Ch', u'\\u0447': 'ch',u'\\u0428': 'Sh', u'\\u0448': 'sh',u'\\u0429': 'Shch', u'\\u0449': 'shch',u'\\u042a': '\"', u'\\u044a': '\"',u'\\u042b': 'Y', u'\\u044b': 'y',u'\\u042c': \"'\", u'\\u044c': \"'\",u'\\u042d': 'E', u'\\u044d': 'e',u'\\u042e': 'Iu', u'\\u044e': 'iu',u'\\u042f': 'Ia', u'\\u044f': 'ia',u'\\u0462': 'E', u'\\u0463': 'e'}\n",
      "\n",
      "def transliterate(word, translit_table):\n",
      "    \"\"\"\n",
      "    Transliterates 'word' based on the key/value pairs in 'translit_table'\n",
      "    \"\"\"\n",
      "    converted_word = ''\n",
      "    for char in word:\n",
      "        transchar = ''\n",
      "        if char in translit_table:\n",
      "            transchar = translit_table[char]\n",
      "        else:\n",
      "            transchar = char\n",
      "        converted_word += transchar\n",
      "    return converted_word"
     ],
     "language": "python",
     "metadata": {},
     "outputs": [],
     "prompt_number": 3
    },
    {
     "cell_type": "code",
     "collapsed": false,
     "input": [
      "def reverse_geocode(lng,lat):\n",
      "    keepgoing = True\n",
      "    while keepgoing == True:\n",
      "        try:\n",
      "            url = \"https://maps.googleapis.com/maps/api/geocode/json\"\n",
      "            Q = {'latlng':\"{},{}\".format(lat,lng)}\n",
      "            R = requests.get(url, params=Q)\n",
      "            print(R.url)\n",
      "            geo_response = R.json()\n",
      "            locality = 'error'\n",
      "            for component in geo_response['results'][0]['address_components']:\n",
      "                if 'locality' in component['types']:\n",
      "                    locality = component['long_name']\n",
      "                elif 'administrative_area_level_1' in component['types']:\n",
      "                    admin1 = component['long_name']\n",
      "                elif 'country' in component['types']:\n",
      "                    country = component['long_name']\n",
      "                    countryCode = component['short_name']\n",
      "            if locality == 'error':\n",
      "                for component in geo_response['results'][0]['address_components']:\n",
      "                    if 'administrative_area_level_2' in component['types']:\n",
      "                        locality = component['long_name']\n",
      "            print(\"\\\"{0}, {1}\\\",\\\"{2}\\\",\\\"{3}\\\"\".format(locality,admin1,country,countryCode))\n",
      "            time.sleep(1)\n",
      "            keepgoing = False\n",
      "        except IndexError:\n",
      "            time.sleep(1)\n",
      "            continue\n",
      "        return \"{}, {}\".format(locality,admin1), country, countryCode"
     ],
     "language": "python",
     "metadata": {},
     "outputs": [],
     "prompt_number": 4
    },
    {
     "cell_type": "code",
     "collapsed": false,
     "input": [
      "finalizer = pd.DataFrame.from_csv(\"hgr_test_set.csv\",index_col=None)\n",
      "finalizer.head()"
     ],
     "language": "python",
     "metadata": {},
     "outputs": [
      {
       "html": [
        "<div style=\"max-height:1000px;max-width:1500px;overflow:auto;\">\n",
        "<table border=\"1\" class=\"dataframe\">\n",
        "  <thead>\n",
        "    <tr style=\"text-align: right;\">\n",
        "      <th></th>\n",
        "      <th>uniq_id</th>\n",
        "      <th>ru_old_orth</th>\n",
        "      <th>alt_name</th>\n",
        "      <th>partof_id</th>\n",
        "      <th>x_coord</th>\n",
        "      <th>y_coord</th>\n",
        "      <th>ru_featuretype</th>\n",
        "      <th>SOURCE</th>\n",
        "      <th>description</th>\n",
        "      <th>ru_new_orth</th>\n",
        "      <th>lc_trans</th>\n",
        "      <th>pres_loc</th>\n",
        "      <th>pres_country</th>\n",
        "      <th>country_code</th>\n",
        "      <th>beg_yr</th>\n",
        "      <th>end_yr</th>\n",
        "      <th>lc_featuretype</th>\n",
        "      <th>id_featuretype</th>\n",
        "      <th>en_featuretype</th>\n",
        "      <th>xy_type</th>\n",
        "    </tr>\n",
        "  </thead>\n",
        "  <tbody>\n",
        "    <tr>\n",
        "      <th>0</th>\n",
        "      <td> 1</td>\n",
        "      <td>    \u041c\u043e\u0441\u043a\u043e\u0432\u0441\u043a\u0430\u044f</td>\n",
        "      <td> NaN</td>\n",
        "      <td>NaN</td>\n",
        "      <td> 37.617778</td>\n",
        "      <td> 55.751667</td>\n",
        "      <td>       \u0413\u0443\u0431\u0435\u0440\u043d\u0456\u044f</td>\n",
        "      <td> NaN</td>\n",
        "      <td> NaN</td>\n",
        "      <td>    \u041c\u043e\u0441\u043a\u043e\u0432\u0441\u043a\u0430\u044f</td>\n",
        "      <td>    Moskovskaia</td>\n",
        "      <td>                  Moscow, Moscow</td>\n",
        "      <td> Russia</td>\n",
        "      <td> RU</td>\n",
        "      <td>NaN</td>\n",
        "      <td>NaN</td>\n",
        "      <td>NaN</td>\n",
        "      <td>NaN</td>\n",
        "      <td>NaN</td>\n",
        "      <td> POINT</td>\n",
        "    </tr>\n",
        "    <tr>\n",
        "      <th>1</th>\n",
        "      <td> 2</td>\n",
        "      <td> \u0410\u0440\u0445\u0430\u043d\u0433\u0435\u043b\u044c\u0441\u043a\u043e\u0435</td>\n",
        "      <td> NaN</td>\n",
        "      <td>NaN</td>\n",
        "      <td> 40.533333</td>\n",
        "      <td> 64.533333</td>\n",
        "      <td> \u041d\u0430\u043c\u0463\u0441\u0442\u043d\u0438\u0447\u0435\u0441\u0442\u0432\u043e</td>\n",
        "      <td> NaN</td>\n",
        "      <td> NaN</td>\n",
        "      <td> \u0410\u0440\u0445\u0430\u043d\u0433\u0435\u043b\u044c\u0441\u043a\u043e\u0435</td>\n",
        "      <td> Arkhangel'skoe</td>\n",
        "      <td> Arkhangelsk, Arkhangelsk Oblast</td>\n",
        "      <td> Russia</td>\n",
        "      <td> RU</td>\n",
        "      <td>NaN</td>\n",
        "      <td>NaN</td>\n",
        "      <td>NaN</td>\n",
        "      <td>NaN</td>\n",
        "      <td>NaN</td>\n",
        "      <td> POINT</td>\n",
        "    </tr>\n",
        "    <tr>\n",
        "      <th>2</th>\n",
        "      <td> 3</td>\n",
        "      <td>  \u0412\u043b\u0430\u0434\u0438\u043c\u0435\u0440\u0441\u043a\u043e\u0435</td>\n",
        "      <td> NaN</td>\n",
        "      <td>NaN</td>\n",
        "      <td> 40.416667</td>\n",
        "      <td> 56.133333</td>\n",
        "      <td> \u041d\u0430\u043c\u0463\u0441\u0442\u043d\u0438\u0447\u0435\u0441\u0442\u0432\u043e</td>\n",
        "      <td> NaN</td>\n",
        "      <td> NaN</td>\n",
        "      <td>  \u0412\u043b\u0430\u0434\u0438\u043c\u0435\u0440\u0441\u043a\u043e\u0435</td>\n",
        "      <td>   Vladimerskoe</td>\n",
        "      <td>       Vladimir, Vladimir Oblast</td>\n",
        "      <td> Russia</td>\n",
        "      <td> RU</td>\n",
        "      <td>NaN</td>\n",
        "      <td>NaN</td>\n",
        "      <td>NaN</td>\n",
        "      <td>NaN</td>\n",
        "      <td>NaN</td>\n",
        "      <td> POINT</td>\n",
        "    </tr>\n",
        "    <tr>\n",
        "      <th>3</th>\n",
        "      <td> 4</td>\n",
        "      <td>   \u0412\u043e\u043b\u043e\u0433\u043e\u0434\u0441\u043a\u043e\u0435</td>\n",
        "      <td> NaN</td>\n",
        "      <td>NaN</td>\n",
        "      <td> 39.883333</td>\n",
        "      <td> 59.200000</td>\n",
        "      <td> \u041d\u0430\u043c\u0463\u0441\u0442\u043d\u0438\u0447\u0435\u0441\u0442\u0432\u043e</td>\n",
        "      <td> NaN</td>\n",
        "      <td> NaN</td>\n",
        "      <td>   \u0412\u043e\u043b\u043e\u0433\u043e\u0434\u0441\u043a\u043e\u0435</td>\n",
        "      <td>    Vologodskoe</td>\n",
        "      <td>         Vologda, Vologda Oblast</td>\n",
        "      <td> Russia</td>\n",
        "      <td> RU</td>\n",
        "      <td>NaN</td>\n",
        "      <td>NaN</td>\n",
        "      <td>NaN</td>\n",
        "      <td>NaN</td>\n",
        "      <td>NaN</td>\n",
        "      <td> POINT</td>\n",
        "    </tr>\n",
        "    <tr>\n",
        "      <th>4</th>\n",
        "      <td> 5</td>\n",
        "      <td>   \u0412\u043e\u0440\u043e\u043d\u0435\u0436\u0441\u043a\u043e\u0435</td>\n",
        "      <td> NaN</td>\n",
        "      <td>NaN</td>\n",
        "      <td> 39.210556</td>\n",
        "      <td> 51.671667</td>\n",
        "      <td> \u041d\u0430\u043c\u0463\u0441\u0442\u043d\u0438\u0447\u0435\u0441\u0442\u0432\u043e</td>\n",
        "      <td> NaN</td>\n",
        "      <td> NaN</td>\n",
        "      <td>   \u0412\u043e\u0440\u043e\u043d\u0435\u0436\u0441\u043a\u043e\u0435</td>\n",
        "      <td>   Voronezhskoe</td>\n",
        "      <td>       Voronezh, Voronezh Oblast</td>\n",
        "      <td> Russia</td>\n",
        "      <td> RU</td>\n",
        "      <td>NaN</td>\n",
        "      <td>NaN</td>\n",
        "      <td>NaN</td>\n",
        "      <td>NaN</td>\n",
        "      <td>NaN</td>\n",
        "      <td> POINT</td>\n",
        "    </tr>\n",
        "  </tbody>\n",
        "</table>\n",
        "</div>"
       ],
       "metadata": {},
       "output_type": "pyout",
       "prompt_number": 12,
       "text": [
        "   uniq_id    ru_old_orth alt_name  partof_id    x_coord    y_coord  \\\n",
        "0        1     \u041c\u043e\u0441\u043a\u043e\u0432\u0441\u043a\u0430\u044f      NaN        NaN  37.617778  55.751667   \n",
        "1        2  \u0410\u0440\u0445\u0430\u043d\u0433\u0435\u043b\u044c\u0441\u043a\u043e\u0435      NaN        NaN  40.533333  64.533333   \n",
        "2        3   \u0412\u043b\u0430\u0434\u0438\u043c\u0435\u0440\u0441\u043a\u043e\u0435      NaN        NaN  40.416667  56.133333   \n",
        "3        4    \u0412\u043e\u043b\u043e\u0433\u043e\u0434\u0441\u043a\u043e\u0435      NaN        NaN  39.883333  59.200000   \n",
        "4        5    \u0412\u043e\u0440\u043e\u043d\u0435\u0436\u0441\u043a\u043e\u0435      NaN        NaN  39.210556  51.671667   \n",
        "\n",
        "   ru_featuretype SOURCE description    ru_new_orth        lc_trans  \\\n",
        "0        \u0413\u0443\u0431\u0435\u0440\u043d\u0456\u044f    NaN         NaN     \u041c\u043e\u0441\u043a\u043e\u0432\u0441\u043a\u0430\u044f     Moskovskaia   \n",
        "1  \u041d\u0430\u043c\u0463\u0441\u0442\u043d\u0438\u0447\u0435\u0441\u0442\u0432\u043e    NaN         NaN  \u0410\u0440\u0445\u0430\u043d\u0433\u0435\u043b\u044c\u0441\u043a\u043e\u0435  Arkhangel'skoe   \n",
        "2  \u041d\u0430\u043c\u0463\u0441\u0442\u043d\u0438\u0447\u0435\u0441\u0442\u0432\u043e    NaN         NaN   \u0412\u043b\u0430\u0434\u0438\u043c\u0435\u0440\u0441\u043a\u043e\u0435    Vladimerskoe   \n",
        "3  \u041d\u0430\u043c\u0463\u0441\u0442\u043d\u0438\u0447\u0435\u0441\u0442\u0432\u043e    NaN         NaN    \u0412\u043e\u043b\u043e\u0433\u043e\u0434\u0441\u043a\u043e\u0435     Vologodskoe   \n",
        "4  \u041d\u0430\u043c\u0463\u0441\u0442\u043d\u0438\u0447\u0435\u0441\u0442\u0432\u043e    NaN         NaN    \u0412\u043e\u0440\u043e\u043d\u0435\u0436\u0441\u043a\u043e\u0435    Voronezhskoe   \n",
        "\n",
        "                          pres_loc pres_country country_code  beg_yr  end_yr  \\\n",
        "0                   Moscow, Moscow       Russia           RU     NaN     NaN   \n",
        "1  Arkhangelsk, Arkhangelsk Oblast       Russia           RU     NaN     NaN   \n",
        "2        Vladimir, Vladimir Oblast       Russia           RU     NaN     NaN   \n",
        "3          Vologda, Vologda Oblast       Russia           RU     NaN     NaN   \n",
        "4        Voronezh, Voronezh Oblast       Russia           RU     NaN     NaN   \n",
        "\n",
        "   lc_featuretype  id_featuretype  en_featuretype xy_type  \n",
        "0             NaN             NaN             NaN   POINT  \n",
        "1             NaN             NaN             NaN   POINT  \n",
        "2             NaN             NaN             NaN   POINT  \n",
        "3             NaN             NaN             NaN   POINT  \n",
        "4             NaN             NaN             NaN   POINT  "
       ]
      }
     ],
     "prompt_number": 12
    },
    {
     "cell_type": "code",
     "collapsed": false,
     "input": [
      "finalizer['ru_new_orth'] = finalizer.ru_old_orth.apply(ortho_rules,args=[lookup_dict])"
     ],
     "language": "python",
     "metadata": {},
     "outputs": [],
     "prompt_number": 13
    },
    {
     "cell_type": "code",
     "collapsed": false,
     "input": [
      "finalizer['lc_trans'] = finalizer.ru_new_orth.apply(transliterate,args=[cyrillic_translit])"
     ],
     "language": "python",
     "metadata": {},
     "outputs": [],
     "prompt_number": 14
    },
    {
     "cell_type": "code",
     "collapsed": false,
     "input": [
      "finalizer['pres_loc'], finalizer['country'], finalizer['country_code'] = np.vectorize(reverse_geocode)(finalizer.x_coord,finalizer.y_coord)"
     ],
     "language": "python",
     "metadata": {},
     "outputs": [
      {
       "output_type": "stream",
       "stream": "stdout",
       "text": [
        "https://maps.googleapis.com/maps/api/geocode/json?latlng=55.751667000000005%2C37.617778\n",
        "\"Moscow, Moscow\",\"Russia\",\"RU\"\n",
        "https://maps.googleapis.com/maps/api/geocode/json?latlng=55.751667000000005%2C37.617778"
       ]
      },
      {
       "output_type": "stream",
       "stream": "stdout",
       "text": [
        "\n",
        "\"Moscow, Moscow\",\"Russia\",\"RU\"\n",
        "https://maps.googleapis.com/maps/api/geocode/json?latlng=64.533333%2C40.533333"
       ]
      },
      {
       "output_type": "stream",
       "stream": "stdout",
       "text": [
        "\n",
        "\"Arkhangelsk, Arkhangelsk Oblast\",\"Russia\",\"RU\"\n",
        "https://maps.googleapis.com/maps/api/geocode/json?latlng=56.13333299999999%2C40.416667"
       ]
      },
      {
       "output_type": "stream",
       "stream": "stdout",
       "text": [
        "\n",
        "\"Vladimir, Vladimir Oblast\",\"Russia\",\"RU\"\n",
        "https://maps.googleapis.com/maps/api/geocode/json?latlng=59.2%2C39.883333"
       ]
      },
      {
       "output_type": "stream",
       "stream": "stdout",
       "text": [
        "\n",
        "\"Vologda, Vologda Oblast\",\"Russia\",\"RU\"\n",
        "https://maps.googleapis.com/maps/api/geocode/json?latlng=51.671667%2C39.210556"
       ]
      },
      {
       "output_type": "stream",
       "stream": "stdout",
       "text": [
        "\n",
        "\"Voronezh, Voronezh Oblast\",\"Russia\",\"RU\"\n",
        "https://maps.googleapis.com/maps/api/geocode/json?latlng=60.709167%2C28.744166999999997"
       ]
      },
      {
       "output_type": "stream",
       "stream": "stdout",
       "text": [
        "\n",
        "\"Vyborg, Leningrad Oblast\",\"Russia\",\"RU\"\n",
        "https://maps.googleapis.com/maps/api/geocode/json?latlng=58.6%2C49.65"
       ]
      },
      {
       "output_type": "stream",
       "stream": "stdout",
       "text": [
        "\n",
        "\"Kirov, Kirov Oblast\",\"Russia\",\"RU\"\n",
        "https://maps.googleapis.com/maps/api/geocode/json?latlng=48.466601000000004%2C35.018155"
       ]
      },
      {
       "output_type": "stream",
       "stream": "stdout",
       "text": [
        "\n",
        "\"Dnepropetrovsk, Dnipropetrovsk Oblast\",\"Ukraine\",\"UA\"\n",
        "https://maps.googleapis.com/maps/api/geocode/json?latlng=52.283333%2C104.3"
       ]
      },
      {
       "output_type": "stream",
       "stream": "stdout",
       "text": [
        "\n",
        "\"Irkutsk, Irkutsk Oblast\",\"Russia\",\"RU\"\n",
        "https://maps.googleapis.com/maps/api/geocode/json?latlng=46.323611%2C48.036667"
       ]
      },
      {
       "output_type": "stream",
       "stream": "stdout",
       "text": [
        "\n",
        "\"Astrakhan, Astrakhan Oblast\",\"Russia\",\"RU\"\n",
        "https://maps.googleapis.com/maps/api/geocode/json?latlng=55.790833%2C49.114444"
       ]
      },
      {
       "output_type": "stream",
       "stream": "stdout",
       "text": [
        "\n",
        "\"Kazan, Tatarstan\",\"Russia\",\"RU\"\n",
        "https://maps.googleapis.com/maps/api/geocode/json?latlng=54.533333%2C36.266667"
       ]
      },
      {
       "output_type": "stream",
       "stream": "stdout",
       "text": [
        "\n",
        "\"Kaluga, Kaluga Oblast\",\"Russia\",\"RU\"\n",
        "https://maps.googleapis.com/maps/api/geocode/json?latlng=50.45%2C30.523333"
       ]
      },
      {
       "output_type": "stream",
       "stream": "stdout",
       "text": [
        "\n",
        "\"Kiev, Kyiv city\",\"Ukraine\",\"UA\"\n",
        "https://maps.googleapis.com/maps/api/geocode/json?latlng=57.766667000000005%2C40.933333000000005"
       ]
      },
      {
       "output_type": "stream",
       "stream": "stdout",
       "text": [
        "\n",
        "\"Kostroma, Kostroma Oblast\",\"Russia\",\"RU\"\n",
        "https://maps.googleapis.com/maps/api/geocode/json?latlng=51.716667%2C36.183333000000005"
       ]
      },
      {
       "output_type": "stream",
       "stream": "stdout",
       "text": [
        "\n",
        "\"Kursk, Kursk Oblast\",\"Russia\",\"RU\"\n",
        "https://maps.googleapis.com/maps/api/geocode/json?latlng=53.916667000000004%2C30.35"
       ]
      },
      {
       "output_type": "stream",
       "stream": "stdout",
       "text": [
        "\n",
        "\"Mahilyow, Mogilev Province\",\"Belarus\",\"BY\"\n",
        "https://maps.googleapis.com/maps/api/geocode/json?latlng=56.328669999999995%2C44.00205"
       ]
      },
      {
       "output_type": "stream",
       "stream": "stdout",
       "text": [
        "\n",
        "\"Nizhny Novgorod, Nizhny Novgorod Oblast\",\"Russia\",\"RU\"\n",
        "https://maps.googleapis.com/maps/api/geocode/json?latlng=58.55%2C31.283333000000002"
       ]
      },
      {
       "output_type": "stream",
       "stream": "stdout",
       "text": [
        "\n",
        "\"Veliky Novgorod, Novgorod Oblast\",\"Russia\",\"RU\"\n",
        "https://maps.googleapis.com/maps/api/geocode/json?latlng=51.983333%2C33.266667"
       ]
      },
      {
       "output_type": "stream",
       "stream": "stdout",
       "text": [
        "\n",
        "\"Novhorod-Sivers'kyi, Chernihivs'ka oblast\",\"Ukraine\",\"UA\"\n",
        "https://maps.googleapis.com/maps/api/geocode/json?latlng=61.783333%2C34.35"
       ]
      },
      {
       "output_type": "stream",
       "stream": "stdout",
       "text": [
        "\n",
        "\"Petrozavodsk, Republic of Karelia\",\"Russia\",\"RU\"\n",
        "https://maps.googleapis.com/maps/api/geocode/json?latlng=52.966667%2C36.066666999999995"
       ]
      },
      {
       "output_type": "stream",
       "stream": "stdout",
       "text": [
        "\n",
        "\"Oryol, Oryol Oblast\",\"Russia\",\"RU\"\n",
        "https://maps.googleapis.com/maps/api/geocode/json?latlng=53.2%2C45.0"
       ]
      },
      {
       "output_type": "stream",
       "stream": "stdout",
       "text": [
        "\n",
        "\"Penza, Penza Oblast\",\"Russia\",\"RU\"\n",
        "https://maps.googleapis.com/maps/api/geocode/json?latlng=58.013889%2C56.248889"
       ]
      },
      {
       "output_type": "stream",
       "stream": "stdout",
       "text": [
        "\n",
        "\"Perm, Perm Krai\",\"Russia\",\"RU\"\n",
        "https://maps.googleapis.com/maps/api/geocode/json?latlng=55.483332999999995%2C28.8"
       ]
      },
      {
       "output_type": "stream",
       "stream": "stdout",
       "text": [
        "\n",
        "\"Polatsk, Vitebsk Region\",\"Belarus\",\"BY\"\n",
        "https://maps.googleapis.com/maps/api/geocode/json?latlng=57.816667%2C28.333333000000003"
       ]
      },
      {
       "output_type": "stream",
       "stream": "stdout",
       "text": [
        "\n",
        "\"Pskov, Pskov Oblast\",\"Russia\",\"RU\"\n",
        "https://maps.googleapis.com/maps/api/geocode/json?latlng=59.437222%2C24.745278"
       ]
      },
      {
       "output_type": "stream",
       "stream": "stdout",
       "text": [
        "\n",
        "\"Tallinn, Harju County\",\"Estonia\",\"EE\"\n",
        "https://maps.googleapis.com/maps/api/geocode/json?latlng=56.9475%2C24.106944"
       ]
      },
      {
       "output_type": "stream",
       "stream": "stdout",
       "text": [
        "\n",
        "\"R\u012bga, R\u012bgas pils\u0113ta\",\"Latvia\",\"LV\"\n",
        "https://maps.googleapis.com/maps/api/geocode/json?latlng=54.61666700000001%2C39.716667"
       ]
      },
      {
       "output_type": "stream",
       "stream": "stdout",
       "text": [
        "\n",
        "\"Ryazan, Ryazan Oblast\",\"Russia\",\"RU\"\n",
        "https://maps.googleapis.com/maps/api/geocode/json?latlng=51.533333%2C46.0"
       ]
      },
      {
       "output_type": "stream",
       "stream": "stdout",
       "text": [
        "\n",
        "\"Saratov, Saratov Oblast\",\"Russia\",\"RU\"\n",
        "https://maps.googleapis.com/maps/api/geocode/json?latlng=54.316667%2C48.366667"
       ]
      },
      {
       "output_type": "stream",
       "stream": "stdout",
       "text": [
        "\n",
        "\"Ulyanovsk, Ulyanovsk Oblast\",\"Russia\",\"RU\"\n",
        "https://maps.googleapis.com/maps/api/geocode/json?latlng=54.782778%2C32.045278"
       ]
      },
      {
       "output_type": "stream",
       "stream": "stdout",
       "text": [
        "\n",
        "\"Smolensk, Smolensk Oblast\",\"Russia\",\"RU\"\n",
        "https://maps.googleapis.com/maps/api/geocode/json?latlng=52.716667%2C41.433333000000005"
       ]
      },
      {
       "output_type": "stream",
       "stream": "stdout",
       "text": [
        "\n",
        "\"Tambov, Tambov Oblast\",\"Russia\",\"RU\"\n",
        "https://maps.googleapis.com/maps/api/geocode/json?latlng=56.857828000000005%2C35.921928"
       ]
      },
      {
       "output_type": "stream",
       "stream": "stdout",
       "text": [
        "\n",
        "\"Tver, Tver Oblast\",\"Russia\",\"RU\"\n",
        "https://maps.googleapis.com/maps/api/geocode/json?latlng=58.195278%2C68.25805600000001"
       ]
      },
      {
       "output_type": "stream",
       "stream": "stdout",
       "text": [
        "\n",
        "\"Tobolsk, Tyumen Oblast\",\"Russia\",\"RU\"\n",
        "https://maps.googleapis.com/maps/api/geocode/json?latlng=54.2%2C37.616667"
       ]
      },
      {
       "output_type": "stream",
       "stream": "stdout",
       "text": [
        "\n",
        "\"Tula, Tula Oblast\",\"Russia\",\"RU\"\n",
        "https://maps.googleapis.com/maps/api/geocode/json?latlng=54.733332999999995%2C55.966667"
       ]
      },
      {
       "output_type": "stream",
       "stream": "stdout",
       "text": [
        "\n",
        "\"Ufa, Bashkortostan\",\"Russia\",\"RU\"\n",
        "https://maps.googleapis.com/maps/api/geocode/json?latlng=50.0%2C36.229167"
       ]
      },
      {
       "output_type": "stream",
       "stream": "stdout",
       "text": [
        "\n",
        "\"Kharkiv, Kharkiv Oblast\",\"Ukraine\",\"UA\"\n",
        "https://maps.googleapis.com/maps/api/geocode/json?latlng=51.5%2C31.3"
       ]
      },
      {
       "output_type": "stream",
       "stream": "stdout",
       "text": [
        "\n",
        "\"Chernihiv, Chernihivs'ka oblast\",\"Ukraine\",\"UA\"\n",
        "https://maps.googleapis.com/maps/api/geocode/json?latlng=57.61666700000001%2C39.85"
       ]
      },
      {
       "output_type": "stream",
       "stream": "stdout",
       "text": [
        "\n",
        "\"Yaroslavl, Yaroslavl Oblast\",\"Russia\",\"RU\"\n",
        "https://maps.googleapis.com/maps/api/geocode/json?latlng=54.8421%2C46.5813"
       ]
      },
      {
       "output_type": "stream",
       "stream": "stdout",
       "text": [
        "\n",
        "\"Alatyr', Chuvashia Republic\",\"Russia\",\"RU\"\n",
        "https://maps.googleapis.com/maps/api/geocode/json?latlng=54.505030000000005%2C37.0674"
       ]
      },
      {
       "output_type": "stream",
       "stream": "stdout",
       "text": [
        "\n",
        "\"Aleksin, Tula Oblast\",\"Russia\",\"RU\"\n",
        "https://maps.googleapis.com/maps/api/geocode/json?latlng=55.39485%2C43.83992"
       ]
      },
      {
       "output_type": "stream",
       "stream": "stdout",
       "text": [
        "\n",
        "\"Arzamas, Nizhny Novgorod Oblast\",\"Russia\",\"RU\"\n",
        "https://maps.googleapis.com/maps/api/geocode/json?latlng=50.310359999999996%2C34.898790000000005"
       ]
      },
      {
       "output_type": "stream",
       "stream": "stdout",
       "text": [
        "\n",
        "\"Okhtyrka, Sums'ka oblast\",\"Ukraine\",\"UA\"\n",
        "https://maps.googleapis.com/maps/api/geocode/json?latlng=54.8351%2C30.5725"
       ]
      },
      {
       "output_type": "stream",
       "stream": "stdout",
       "text": [
        "\n",
        "\"Babinavichy, Vitebsk Region\",\"Belarus\",\"BY\"\n",
        "https://maps.googleapis.com/maps/api/geocode/json?latlng=57.785059999999994%2C36.696509999999996"
       ]
      },
      {
       "output_type": "stream",
       "stream": "stdout",
       "text": [
        "\n",
        "\"Bezhetsk, Tver Oblast\",\"Russia\",\"RU\"\n",
        "https://maps.googleapis.com/maps/api/geocode/json?latlng=53.81194%2C36.13194"
       ]
      },
      {
       "output_type": "stream",
       "stream": "stdout",
       "text": [
        "\n",
        "\"Belyov, Tula Oblast\",\"Russia\",\"RU\"\n",
        "https://maps.googleapis.com/maps/api/geocode/json?latlng=52.9395%2C30.4122"
       ]
      },
      {
       "output_type": "stream",
       "stream": "stdout",
       "text": [
        "\n",
        "\"\u0411\u0435\u043b\u0438\u0446\u043a, Homiel Province\",\"Belarus\",\"BY\"\n",
        "https://maps.googleapis.com/maps/api/geocode/json?latlng=54.37445%2C38.51663"
       ]
      },
      {
       "output_type": "stream",
       "stream": "stdout",
       "text": [
        "\n",
        "\"Belgorodskiy, Tula Oblast\",\"Russia\",\"RU\"\n",
        "https://maps.googleapis.com/maps/api/geocode/json?latlng=60.0288%2C37.8084"
       ]
      },
      {
       "output_type": "stream",
       "stream": "stdout",
       "text": [
        "\n",
        "\"Belozersk, Vologda Oblast\",\"Russia\",\"RU\"\n",
        "https://maps.googleapis.com/maps/api/geocode/json?latlng=50.2035%2C38.1067"
       ]
      },
      {
       "output_type": "stream",
       "stream": "stdout",
       "text": [
        "\n",
        "\"Valuyki, Belgorod Oblast\",\"Russia\",\"RU\"\n",
        "https://maps.googleapis.com/maps/api/geocode/json?latlng=56.34%2C30.545170000000002"
       ]
      },
      {
       "output_type": "stream",
       "stream": "stdout",
       "text": [
        "\n",
        "\"Velikiye Luki, Pskov Oblast\",\"Russia\",\"RU\"\n",
        "https://maps.googleapis.com/maps/api/geocode/json?latlng=54.35533%2C38.26843"
       ]
      },
      {
       "output_type": "stream",
       "stream": "stdout",
       "text": [
        "\n",
        "\"Venyov, Tula Oblast\",\"Russia\",\"RU\"\n",
        "https://maps.googleapis.com/maps/api/geocode/json?latlng=55.344719999999995%2C36.17194"
       ]
      },
      {
       "output_type": "stream",
       "stream": "stdout",
       "text": [
        "\n",
        "\"Vereya, Moscow Oblast\",\"Russia\",\"RU\"\n",
        "https://maps.googleapis.com/maps/api/geocode/json?latlng=51.833333%2C107.6"
       ]
      },
      {
       "output_type": "stream",
       "stream": "stdout",
       "text": [
        "\n",
        "\"Ulan-Ude, Buryatia\",\"Russia\",\"RU\"\n",
        "https://maps.googleapis.com/maps/api/geocode/json?latlng=59.2239%2C39.88398"
       ]
      },
      {
       "output_type": "stream",
       "stream": "stdout",
       "text": [
        "\n",
        "\"Vologda, Vologda Oblast\",\"Russia\",\"RU\"\n",
        "https://maps.googleapis.com/maps/api/geocode/json?latlng=56.033609999999996%2C35.969440000000006"
       ]
      },
      {
       "output_type": "stream",
       "stream": "stdout",
       "text": [
        "\n",
        "\"Volokolamsk, Moscow Oblast\",\"Russia\",\"RU\"\n",
        "https://maps.googleapis.com/maps/api/geocode/json?latlng=60.70763%2C28.75283"
       ]
      },
      {
       "output_type": "stream",
       "stream": "stdout",
       "text": [
        "\n",
        "\"Vyborg, Leningrad Oblast\",\"Russia\",\"RU\"\n",
        "https://maps.googleapis.com/maps/api/geocode/json?latlng=50.37112%2C33.990990000000004"
       ]
      },
      {
       "output_type": "stream",
       "stream": "stdout",
       "text": [
        "\n",
        "\"Hadyach, Poltavs'ka oblast\",\"Ukraine\",\"UA\"\n",
        "https://maps.googleapis.com/maps/api/geocode/json?latlng=56.201519999999995%2C42.693509999999996"
       ]
      },
      {
       "output_type": "stream",
       "stream": "stdout",
       "text": [
        "\n",
        "https://maps.googleapis.com/maps/api/geocode/json?latlng=56.201519999999995%2C42.693509999999996"
       ]
      },
      {
       "output_type": "stream",
       "stream": "stdout",
       "text": [
        "\n",
        "\"Gorokhovets, Vladimir Oblast\",\"Russia\",\"RU\"\n",
        "https://maps.googleapis.com/maps/api/geocode/json?latlng=55.88333000000001%2C26.53333"
       ]
      },
      {
       "output_type": "stream",
       "stream": "stdout",
       "text": [
        "\n",
        "\"Daugavpils, Daugavpils pils\u0113ta\",\"Latvia\",\"LV\"\n",
        "https://maps.googleapis.com/maps/api/geocode/json?latlng=56.34485%2C37.52041"
       ]
      },
      {
       "output_type": "stream",
       "stream": "stdout",
       "text": [
        "\n",
        "\"Dmitrov, Moscow Oblast\",\"Russia\",\"RU\"\n",
        "https://maps.googleapis.com/maps/api/geocode/json?latlng=53.25155%2C39.15553"
       ]
      },
      {
       "output_type": "stream",
       "stream": "stdout",
       "text": [
        "\n",
        "\"Dankov, Lipetsk Oblast\",\"Russia\",\"RU\"\n",
        "https://maps.googleapis.com/maps/api/geocode/json?latlng=48.45%2C34.98333"
       ]
      },
      {
       "output_type": "stream",
       "stream": "stdout",
       "text": [
        "\n",
        "\"Dnepropetrovsk, Dnipropetrovsk Oblast\",\"Ukraine\",\"UA\"\n",
        "https://maps.googleapis.com/maps/api/geocode/json?latlng=52.62366%2C38.50169"
       ]
      },
      {
       "output_type": "stream",
       "stream": "stdout",
       "text": [
        "\n",
        "\"Yelets, Lipetsk Oblast\",\"Russia\",\"RU\"\n",
        "https://maps.googleapis.com/maps/api/geocode/json?latlng=53.82526%2C38.551809999999996"
       ]
      },
      {
       "output_type": "stream",
       "stream": "stdout",
       "text": [
        "\n",
        "\"Yepifan, Tula Oblast\",\"Russia\",\"RU\"\n",
        "https://maps.googleapis.com/maps/api/geocode/json?latlng=54.7605%2C38.878409999999995"
       ]
      },
      {
       "output_type": "stream",
       "stream": "stdout",
       "text": [
        "\n",
        "\"Zaraysk, Moscow Oblast\",\"Russia\",\"RU\"\n",
        "https://maps.googleapis.com/maps/api/geocode/json?latlng=55.734019999999994%2C36.85918"
       ]
      },
      {
       "output_type": "stream",
       "stream": "stdout",
       "text": [
        "\n",
        "\"Zvenigorod, Moscow Oblast\",\"Russia\",\"RU\"\n",
        "https://maps.googleapis.com/maps/api/geocode/json?latlng=56.175340000000006%2C34.58935"
       ]
      },
      {
       "output_type": "stream",
       "stream": "stdout",
       "text": [
        "\n",
        "\"Zubtsov, Tver Oblast\",\"Russia\",\"RU\"\n",
        "https://maps.googleapis.com/maps/api/geocode/json?latlng=49.20875%2C37.24848"
       ]
      },
      {
       "output_type": "stream",
       "stream": "stdout",
       "text": [
        "\n",
        "\"Izyum, Kharkiv Oblast\",\"Ukraine\",\"UA\"\n",
        "https://maps.googleapis.com/maps/api/geocode/json?latlng=54.941109999999995%2C41.39528"
       ]
      },
      {
       "output_type": "stream",
       "stream": "stdout",
       "text": [
        "\n",
        "\"Kasimov, Ryazan Oblast\",\"Russia\",\"RU\"\n",
        "https://maps.googleapis.com/maps/api/geocode/json?latlng=57.35917%2C37.608059999999995"
       ]
      },
      {
       "output_type": "stream",
       "stream": "stdout",
       "text": [
        "\n",
        "\"Kashin, Tver Oblast\",\"Russia\",\"RU\"\n",
        "https://maps.googleapis.com/maps/api/geocode/json?latlng=54.844440000000006%2C38.166940000000004"
       ]
      },
      {
       "output_type": "stream",
       "stream": "stdout",
       "text": [
        "\n",
        "\"Kashira, Moscow Oblast\",\"Russia\",\"RU\"\n",
        "https://maps.googleapis.com/maps/api/geocode/json?latlng=53.69157%2C43.05744"
       ]
      },
      {
       "output_type": "stream",
       "stream": "stdout",
       "text": [
        "\n",
        "\"Vadinsk, Penza Oblast\",\"Russia\",\"RU\"\n",
        "https://maps.googleapis.com/maps/api/geocode/json?latlng=57.43914%2C42.12894"
       ]
      },
      {
       "output_type": "stream",
       "stream": "stdout",
       "text": [
        "\n",
        "\"Kineshma, Ivanovo Oblast\",\"Russia\",\"RU\"\n",
        "https://maps.googleapis.com/maps/api/geocode/json?latlng=57.78528000000001%2C108.11193999999999"
       ]
      },
      {
       "output_type": "stream",
       "stream": "stdout",
       "text": [
        "\n",
        "\"Kirensky District, Irkutsk Oblast\",\"Russia\",\"RU\"\n",
        "https://maps.googleapis.com/maps/api/geocode/json?latlng=50.45466%2C30.5238"
       ]
      },
      {
       "output_type": "stream",
       "stream": "stdout",
       "text": [
        "\n",
        "\"Kiev, Kyiv city\",\"Ukraine\",\"UA\"\n",
        "https://maps.googleapis.com/maps/api/geocode/json?latlng=53.6079%2C31.9586"
       ]
      },
      {
       "output_type": "stream",
       "stream": "stdout",
       "text": [
        "\n",
        "\"Klimavichy, Mogilev Province\",\"Belarus\",\"BY\"\n",
        "https://maps.googleapis.com/maps/api/geocode/json?latlng=54.037459999999996%2C35.77159"
       ]
      },
      {
       "output_type": "stream",
       "stream": "stdout",
       "text": [
        "\n",
        "\"Kozelsk, Kaluga Oblast\",\"Russia\",\"RU\"\n",
        "https://maps.googleapis.com/maps/api/geocode/json?latlng=52.8978%2C40.4907"
       ]
      },
      {
       "output_type": "stream",
       "stream": "stdout",
       "text": [
        "\n",
        "\"Michurinsk, Tambov Oblast\",\"Russia\",\"RU\"\n",
        "https://maps.googleapis.com/maps/api/geocode/json?latlng=55.079440000000005%2C38.77833"
       ]
      },
      {
       "output_type": "stream",
       "stream": "stdout",
       "text": [
        "\n",
        "\"Kolomna, Moscow Oblast\",\"Russia\",\"RU\"\n",
        "https://maps.googleapis.com/maps/api/geocode/json?latlng=50.8132%2C37.18598"
       ]
      },
      {
       "output_type": "stream",
       "stream": "stdout",
       "text": [
        "\n",
        "\"Korocha, Belgorod Oblast\",\"Russia\",\"RU\"\n",
        "https://maps.googleapis.com/maps/api/geocode/json?latlng=57.76647%2C40.92686"
       ]
      },
      {
       "output_type": "stream",
       "stream": "stdout",
       "text": [
        "\n",
        "\"Kostroma, Kostroma Oblast\",\"Russia\",\"RU\"\n",
        "https://maps.googleapis.com/maps/api/geocode/json?latlng=54.4253%2C43.789629999999995"
       ]
      },
      {
       "output_type": "stream",
       "stream": "stdout",
       "text": [
        "\n",
        "\"Krasnoslobodsk, Mordovia\",\"Russia\",\"RU\"\n",
        "https://maps.googleapis.com/maps/api/geocode/json?latlng=51.73733%2C36.18735"
       ]
      },
      {
       "output_type": "stream",
       "stream": "stdout",
       "text": [
        "\n",
        "\"Kursk, Kursk Oblast\",\"Russia\",\"RU\"\n",
        "https://maps.googleapis.com/maps/api/geocode/json?latlng=53.01942%2C39.16639"
       ]
      },
      {
       "output_type": "stream",
       "stream": "stdout",
       "text": [
        "\n",
        "\"Lebedyan, Lipetsk Oblast\",\"Russia\",\"RU\"\n",
        "https://maps.googleapis.com/maps/api/geocode/json?latlng=52.425340000000006%2C37.60689"
       ]
      },
      {
       "output_type": "stream",
       "stream": "stdout",
       "text": [
        "\n",
        "\"Livny, Oryol Oblast\",\"Russia\",\"RU\"\n",
        "https://maps.googleapis.com/maps/api/geocode/json?latlng=50.01625%2C32.99694"
       ]
      },
      {
       "output_type": "stream",
       "stream": "stdout",
       "text": [
        "\n",
        "\"Lubny, Poltavs'ka oblast\",\"Ukraine\",\"UA\"\n",
        "https://maps.googleapis.com/maps/api/geocode/json?latlng=58.3625%2C40.684329999999996"
       ]
      },
      {
       "output_type": "stream",
       "stream": "stdout",
       "text": [
        "\n",
        "\"Lyubim, Yaroslavl Oblast\",\"Russia\",\"RU\"\n",
        "https://maps.googleapis.com/maps/api/geocode/json?latlng=65.8401%2C44.2542"
       ]
      },
      {
       "output_type": "stream",
       "stream": "stdout",
       "text": [
        "\n",
        "\"Mezen, Arkhangelsk Oblast\",\"Russia\",\"RU\"\n",
        "https://maps.googleapis.com/maps/api/geocode/json?latlng=49.968540000000004%2C33.60886"
       ]
      },
      {
       "output_type": "stream",
       "stream": "stdout",
       "text": [
        "\n",
        "\"Myrhorod, Poltavs'ka oblast\",\"Ukraine\",\"UA\"\n",
        "https://maps.googleapis.com/maps/api/geocode/json?latlng=51.023%2C35.26233"
       ]
      },
      {
       "output_type": "stream",
       "stream": "stdout",
       "text": [
        "\n",
        "\"Myropillya, Sums'ka oblast\",\"Ukraine\",\"UA\"\n",
        "https://maps.googleapis.com/maps/api/geocode/json?latlng=55.501940000000005%2C36.02722"
       ]
      },
      {
       "output_type": "stream",
       "stream": "stdout",
       "text": [
        "\n",
        "\"Mozhaysk, Moscow Oblast\",\"Russia\",\"RU\"\n",
        "https://maps.googleapis.com/maps/api/geocode/json?latlng=54.0185%2C31.7217"
       ]
      },
      {
       "output_type": "stream",
       "stream": "stdout",
       "text": [
        "\n",
        "\"Mstsislaw, Mogilev Province\",\"Belarus\",\"BY\"\n",
        "https://maps.googleapis.com/maps/api/geocode/json?latlng=53.876540000000006%2C43.69458"
       ]
      },
      {
       "output_type": "stream",
       "stream": "stdout",
       "text": [
        "\n",
        "\"Narovchat, Penza Oblast\",\"Russia\",\"RU\"\n",
        "https://maps.googleapis.com/maps/api/geocode/json?latlng=53.530409999999996%2C43.676629999999996"
       ]
      },
      {
       "output_type": "stream",
       "stream": "stdout",
       "text": [
        "\n",
        "\"Nizhny Lomov, Penza Oblast\",\"Russia\",\"RU\"\n",
        "https://maps.googleapis.com/maps/api/geocode/json?latlng=58.52131%2C31.271040000000003"
       ]
      },
      {
       "output_type": "stream",
       "stream": "stdout",
       "text": [
        "\n",
        "\"Veliky Novgorod, Novgorod Oblast\",\"Russia\",\"RU\"\n",
        "https://maps.googleapis.com/maps/api/geocode/json?latlng=58.52131%2C31.271040000000003"
       ]
      },
      {
       "output_type": "stream",
       "stream": "stdout",
       "text": [
        "\n",
        "\"Veliky Novgorod, Novgorod Oblast\",\"Russia\",\"RU\"\n",
        "https://maps.googleapis.com/maps/api/geocode/json?latlng=51.983333%2C33.266667"
       ]
      },
      {
       "output_type": "stream",
       "stream": "stdout",
       "text": [
        "\n",
        "\"Novhorod-Sivers'kyi, Chernihivs'ka oblast\",\"Ukraine\",\"UA\"\n",
        "https://maps.googleapis.com/maps/api/geocode/json?latlng=52.97387%2C37.04048"
       ]
      },
      {
       "output_type": "stream",
       "stream": "stdout",
       "text": [
        "\n",
        "\"Novosil, Oryol Oblast\",\"Russia\",\"RU\"\n",
        "https://maps.googleapis.com/maps/api/geocode/json?latlng=51.04801%2C31.886879999999998"
       ]
      },
      {
       "output_type": "stream",
       "stream": "stdout",
       "text": [
        "\n",
        "\"Nizhyn, Chernihivs'ka oblast\",\"Ukraine\",\"UA\"\n",
        "https://maps.googleapis.com/maps/api/geocode/json?latlng=51.04801%2C31.886879999999998"
       ]
      },
      {
       "output_type": "stream",
       "stream": "stdout",
       "text": [
        "\n",
        "\"Nizhyn, Chernihivs'ka oblast\",\"Ukraine\",\"UA\"\n",
        "https://maps.googleapis.com/maps/api/geocode/json?latlng=54.5081%2C30.4172"
       ]
      },
      {
       "output_type": "stream",
       "stream": "stdout",
       "text": [
        "\n",
        "\"Orsha, Vitebsk Region\",\"Belarus\",\"BY\"\n",
        "https://maps.googleapis.com/maps/api/geocode/json?latlng=57.34395%2C28.353679999999997"
       ]
      },
      {
       "output_type": "stream",
       "stream": "stdout",
       "text": [
        "\n",
        "\"Ostrov, Pskov Oblast\",\"Russia\",\"RU\"\n",
        "https://maps.googleapis.com/maps/api/geocode/json?latlng=50.08768%2C31.4795"
       ]
      },
      {
       "output_type": "stream",
       "stream": "stdout",
       "text": [
        "\n",
        "\"Pereyaslav-Khmel'nyts'kyi, Kyivs'ka oblast\",\"Ukraine\",\"UA\"\n",
        "https://maps.googleapis.com/maps/api/geocode/json?latlng=57.01039%2C39.26928"
       ]
      },
      {
       "output_type": "stream",
       "stream": "stdout",
       "text": [
        "\n",
        "\"Petrovskoye, Yaroslavl Oblast\",\"Russia\",\"RU\"\n",
        "https://maps.googleapis.com/maps/api/geocode/json?latlng=50.24242%2C32.506209999999996"
       ]
      },
      {
       "output_type": "stream",
       "stream": "stdout",
       "text": [
        "\n",
        "\"Pyryatyn, Poltavs'ka oblast\",\"Ukraine\",\"UA\"\n",
        "https://maps.googleapis.com/maps/api/geocode/json?latlng=49.59373%2C34.540729999999996"
       ]
      },
      {
       "output_type": "stream",
       "stream": "stdout",
       "text": [
        "\n",
        "\"Poltava, Poltavs'ka oblast\",\"Ukraine\",\"UA\"\n",
        "https://maps.googleapis.com/maps/api/geocode/json?latlng=55.4879%2C28.7856"
       ]
      },
      {
       "output_type": "stream",
       "stream": "stdout",
       "text": [
        "\n",
        "\"Polatsk, Vitebsk Region\",\"Belarus\",\"BY\"\n",
        "https://maps.googleapis.com/maps/api/geocode/json?latlng=58.499280000000006%2C39.13531"
       ]
      },
      {
       "output_type": "stream",
       "stream": "stdout",
       "text": [
        "\n",
        "\"Poshekhonye, Yaroslavl Oblast\",\"Russia\",\"RU\"\n",
        "https://maps.googleapis.com/maps/api/geocode/json?latlng=50.59323%2C32.387609999999995"
       ]
      },
      {
       "output_type": "stream",
       "stream": "stdout",
       "text": [
        "\n",
        "\"Pryluky, Chernihivs'ka oblast\",\"Ukraine\",\"UA\"\n",
        "https://maps.googleapis.com/maps/api/geocode/json?latlng=57.8136%2C28.3496"
       ]
      },
      {
       "output_type": "stream",
       "stream": "stdout",
       "text": [
        "\n",
        "\"Pskov, Pskov Oblast\",\"Russia\",\"RU\"\n",
        "https://maps.googleapis.com/maps/api/geocode/json?latlng=53.0934%2C30.0495"
       ]
      },
      {
       "output_type": "stream",
       "stream": "stdout",
       "text": [
        "\n",
        "\"Raha\u010do\u016d, Homiel Province\",\"Belarus\",\"BY\"\n",
        "https://maps.googleapis.com/maps/api/geocode/json?latlng=57.1914%2C39.413940000000004"
       ]
      },
      {
       "output_type": "stream",
       "stream": "stdout",
       "text": [
        "\n",
        "\"Rostov, Yaroslavl Oblast\",\"Russia\",\"RU\"\n",
        "https://maps.googleapis.com/maps/api/geocode/json?latlng=55.698980000000006%2C36.19522"
       ]
      },
      {
       "output_type": "stream",
       "stream": "stdout",
       "text": [
        "\n",
        "\"Ruza, Moscow Oblast\",\"Russia\",\"RU\"\n",
        "https://maps.googleapis.com/maps/api/geocode/json?latlng=53.1783%2C44.7329"
       ]
      },
      {
       "output_type": "stream",
       "stream": "stdout",
       "text": [
        "\n",
        "\"Penzenskiy rayon, Penza Oblast\",\"Russia\",\"RU\"\n",
        "https://maps.googleapis.com/maps/api/geocode/json?latlng=54.1838%2C45.1749"
       ]
      },
      {
       "output_type": "stream",
       "stream": "stdout",
       "text": [
        "\n",
        "\"Saransk, Mordovia\",\"Russia\",\"RU\"\n",
        "https://maps.googleapis.com/maps/api/geocode/json?latlng=51.54056%2C46.00861"
       ]
      },
      {
       "output_type": "stream",
       "stream": "stdout",
       "text": [
        "\n",
        "\"Saratov, Saratov Oblast\",\"Russia\",\"RU\"\n",
        "https://maps.googleapis.com/maps/api/geocode/json?latlng=55.77329%2C48.660509999999995"
       ]
      },
      {
       "output_type": "stream",
       "stream": "stdout",
       "text": [
        "\n",
        "\"Sviyazhsk, Tatarstan\",\"Russia\",\"RU\"\n",
        "https://maps.googleapis.com/maps/api/geocode/json?latlng=54.32824%2C48.38657"
       ]
      },
      {
       "output_type": "stream",
       "stream": "stdout",
       "text": [
        "\n",
        "\"Ulyanovsk, Ulyanovsk Oblast\",\"Russia\",\"RU\"\n",
        "https://maps.googleapis.com/maps/api/geocode/json?latlng=51.52387%2C32.49985"
       ]
      },
      {
       "output_type": "stream",
       "stream": "stdout",
       "text": [
        "\n",
        "\"Sosnytsya, Chernihivs'ka oblast\",\"Ukraine\",\"UA\"\n",
        "https://maps.googleapis.com/maps/api/geocode/json?latlng=53.521%2C30.2454"
       ]
      },
      {
       "output_type": "stream",
       "stream": "stdout",
       "text": [
        "\n",
        "\"Bykhaw, Mogilev Province\",\"Belarus\",\"BY\"\n",
        "https://maps.googleapis.com/maps/api/geocode/json?latlng=52.2405%2C33.67942"
       ]
      },
      {
       "output_type": "stream",
       "stream": "stdout",
       "text": [
        "\n",
        "\"Seredyno-Buds'kyi district, Sums'ka oblast\",\"Ukraine\",\"UA\"\n",
        "https://maps.googleapis.com/maps/api/geocode/json?latlng=56.422740000000005%2C40.44668"
       ]
      },
      {
       "output_type": "stream",
       "stream": "stdout",
       "text": [
        "\n",
        "\"Suzdal, Vladimir Oblast\",\"Russia\",\"RU\"\n",
        "https://maps.googleapis.com/maps/api/geocode/json?latlng=56.85836%2C35.90057"
       ]
      },
      {
       "output_type": "stream",
       "stream": "stdout",
       "text": [
        "\n",
        "\"Tver, Tver Oblast\",\"Russia\",\"RU\"\n",
        "https://maps.googleapis.com/maps/api/geocode/json?latlng=54.630230000000005%2C43.21483"
       ]
      },
      {
       "output_type": "stream",
       "stream": "stdout",
       "text": [
        "\n",
        "\"Temnikov, Mordovia\",\"Russia\",\"RU\"\n",
        "https://maps.googleapis.com/maps/api/geocode/json?latlng=54.2%2C37.616667"
       ]
      },
      {
       "output_type": "stream",
       "stream": "stdout",
       "text": [
        "\n",
        "\"Tula, Tula Oblast\",\"Russia\",\"RU\"\n",
        "https://maps.googleapis.com/maps/api/geocode/json?latlng=49.98081%2C36.252720000000004"
       ]
      },
      {
       "output_type": "stream",
       "stream": "stdout",
       "text": [
        "\n",
        "\"Kharkiv, Kharkiv Oblast\",\"Ukraine\",\"UA\"\n",
        "https://maps.googleapis.com/maps/api/geocode/json?latlng=55.154019999999996%2C61.42915"
       ]
      },
      {
       "output_type": "stream",
       "stream": "stdout",
       "text": [
        "\n",
        "\"Chelyabinsk, Chelyabinsk Oblast\",\"Russia\",\"RU\"\n",
        "https://maps.googleapis.com/maps/api/geocode/json?latlng=53.5689%2C31.3831"
       ]
      },
      {
       "output_type": "stream",
       "stream": "stdout",
       "text": [
        "\n",
        "\"\u010ceryka\u016d, Mogilev Province\",\"Belarus\",\"BY\"\n",
        "https://maps.googleapis.com/maps/api/geocode/json?latlng=51.50551%2C31.284879999999998"
       ]
      },
      {
       "output_type": "stream",
       "stream": "stdout",
       "text": [
        "\n",
        "\"Chernihiv, Chernihivs'ka oblast\",\"Ukraine\",\"UA\"\n",
        "https://maps.googleapis.com/maps/api/geocode/json?latlng=58.75375%2C42.68318"
       ]
      },
      {
       "output_type": "stream",
       "stream": "stdout",
       "text": [
        "\n",
        "\"Chukhloma, Kostroma Oblast\",\"Russia\",\"RU\"\n",
        "https://maps.googleapis.com/maps/api/geocode/json?latlng=54.02576%2C41.711909999999996"
       ]
      },
      {
       "output_type": "stream",
       "stream": "stdout",
       "text": [
        "\n",
        "\"Shatsk, Ryazan Oblast\",\"Russia\",\"RU\"\n",
        "https://maps.googleapis.com/maps/api/geocode/json?latlng=57.320069999999994%2C43.1041"
       ]
      },
      {
       "output_type": "stream",
       "stream": "stdout",
       "text": [
        "\n",
        "\"Yuryevets, Ivanovo Oblast\",\"Russia\",\"RU\"\n",
        "https://maps.googleapis.com/maps/api/geocode/json?latlng=62.16755%2C49.09162"
       ]
      },
      {
       "output_type": "stream",
       "stream": "stdout",
       "text": [
        "\n",
        "\"Lenskiy rayon, Arkhangelsk Oblast\",\"Russia\",\"RU\"\n",
        "https://maps.googleapis.com/maps/api/geocode/json?latlng=57.62987%2C39.87368"
       ]
      },
      {
       "output_type": "stream",
       "stream": "stdout",
       "text": [
        "\n",
        "\"Yaroslavl, Yaroslavl Oblast\",\"Russia\",\"RU\"\n"
       ]
      }
     ],
     "prompt_number": 12
    },
    {
     "cell_type": "code",
     "collapsed": false,
     "input": [
      "finalizer.to_csv(\"finalized.csv\",encoding=\"utf-8\")"
     ],
     "language": "python",
     "metadata": {},
     "outputs": [],
     "prompt_number": 16
    },
    {
     "cell_type": "markdown",
     "metadata": {},
     "source": [
      "This code block preserved because it's the original reverse geocoding block. Not for production use.\n",
      "===================================================================================================="
     ]
    },
    {
     "cell_type": "code",
     "collapsed": false,
     "input": [
      "namiest = [[46.5813,54.8421],[37.0674,54.50503],[43.83992,55.39485],[34.89879,50.31036],[30.5725,54.8351],[36.69651,57.78506],[36.13194,53.81194],[30.4122,52.9395],[38.51663,54.37445],[37.8084,60.0288],[38.1067,50.2035],[30.54517,56.34],[38.26843,54.35533],[36.17194,55.34472],[107.6,51.833333],[39.88398,59.2239],[35.96944,56.03361],[28.75283,60.70763],[33.99099,50.37112],[42.69351,56.20152],[26.53333,55.88333],[37.52041,56.34485],[39.15553,53.25155],[34.98333,48.45],[38.50169,52.62366],[38.55181,53.82526],[38.87841,54.7605],[36.85918,55.73402],[34.58935,56.17534],[37.24848,49.20875],[37.24849,49.20875],[41.39528,54.94111],[37.60806,57.35917],[38.16694,54.84444],[43.05744,53.69157],[42.12894,57.43914],[108.11194,57.78528],[30.5238,50.45466],[31.9586,53.6079],[35.77159,54.03746],[40.4907,52.8978],[38.77833,55.07944],[37.18598,50.8132],[40.92686,57.76647],[43.78963,54.4253],[36.18735,51.73733],[39.16639,53.01942],[37.60689,52.42534],[32.99694,50.01625],[40.68433,58.3625],[44.2542,65.8401],[33.60886,49.96854],[35.26233,51.023],[36.02722,55.50194],[31.7217,54.0185],[43.69458,53.87654],[43.67663,53.53041],[31.27104,58.52131],[31.27104,58.52131],[33.266667,51.983333],[37.04048,52.97387],[31.88688,51.04801],[31.88688,51.04801],[30.4172,54.5081],[28.35368,57.34395],[31.4795,50.08768],[39.26928,57.01039],[32.50621,50.24242],[34.54073,49.59373],[28.7856,55.4879],[39.13531,58.49928],[32.38761,50.59323],[28.3496,57.8136],[30.0495,53.0934],[39.41394,57.1914],[36.19522,55.69898],[44.7329,53.1783],[45.1749,54.1838],[46.00861,51.54056],[48.66051,55.77329],[48.38657,54.32824],[32.49985,51.52387],[30.2454,53.521],[33.67942,52.2405],[40.44668,56.42274],[35.90057,56.85836],[43.21483,54.63023],[37.616667,54.2],[36.25272,49.98081],[61.42915,55.15402],[31.3831,53.5689],[31.28488,51.50551],[42.68318,58.75375],[41.71191,54.02576],[43.1041,57.32007],[49.09162,62.16755],[39.87368,57.62987]]\n",
      "namiest_locations = []\n",
      "for x in namiest:\n",
      "    keepgoing = True\n",
      "    while keepgoing == True:\n",
      "        try:\n",
      "            url = \"https://maps.googleapis.com/maps/api/geocode/json\"\n",
      "            Q = {'latlng':\"{},{}\".format(x[1],x[0])}\n",
      "            R = requests.get(url, params=Q)\n",
      "            #print(R.url)\n",
      "            geo_response = R.json()\n",
      "            locality = 'error'\n",
      "            for component in geo_response['results'][0]['address_components']:\n",
      "                if 'locality' in component['types']:\n",
      "                    locality = component['long_name']\n",
      "                elif 'administrative_area_level_1' in component['types']:\n",
      "                    admin1 = component['long_name']\n",
      "                elif 'country' in component['types']:\n",
      "                    country = component['long_name']\n",
      "                    countryCode = component['short_name']\n",
      "            if locality == 'error':\n",
      "                for component in geo_response['results'][0]['address_components']:\n",
      "                    if 'administrative_area_level_2' in component['types']:\n",
      "                        locality = component['long_name']\n",
      "            outlist = [x[0],x[1],\"{}, {}\".format(locality,admin1),country,countryCode]\n",
      "            namiest_locations.extend(outlist)\n",
      "            print(\"\\\"{0}, {1}\\\",\\\"{2}\\\",\\\"{3}\\\"\".format(locality,admin1,country,countryCode))\n",
      "            time.sleep(1)\n",
      "            keepgoing = False\n",
      "        except IndexError:\n",
      "            continue"
     ],
     "language": "python",
     "metadata": {},
     "outputs": [
      {
       "output_type": "stream",
       "stream": "stdout",
       "text": [
        "\"Alatyr', Chuvashia Republic\",\"Russia\",\"RU\"\n",
        "\"Aleksin, Tula Oblast\",\"Russia\",\"RU\""
       ]
      },
      {
       "output_type": "stream",
       "stream": "stdout",
       "text": [
        "\n",
        "\"Arzamas, Nizhny Novgorod Oblast\",\"Russia\",\"RU\""
       ]
      },
      {
       "output_type": "stream",
       "stream": "stdout",
       "text": [
        "\n",
        "\"Okhtyrka, Sums'ka oblast\",\"Ukraine\",\"UA\""
       ]
      },
      {
       "output_type": "stream",
       "stream": "stdout",
       "text": [
        "\n",
        "\"Babinavichy, Vitebsk Region\",\"Belarus\",\"BY\""
       ]
      },
      {
       "output_type": "stream",
       "stream": "stdout",
       "text": [
        "\n",
        "\"Bezhetsk, Tver Oblast\",\"Russia\",\"RU\""
       ]
      },
      {
       "output_type": "stream",
       "stream": "stdout",
       "text": [
        "\n",
        "\"Belyov, Tula Oblast\",\"Russia\",\"RU\""
       ]
      },
      {
       "output_type": "stream",
       "stream": "stdout",
       "text": [
        "\n",
        "\"\u0411\u0435\u043b\u0438\u0446\u043a, Homiel Province\",\"Belarus\",\"BY\""
       ]
      },
      {
       "output_type": "stream",
       "stream": "stdout",
       "text": [
        "\n",
        "\"Belgorodskiy, Tula Oblast\",\"Russia\",\"RU\""
       ]
      },
      {
       "output_type": "stream",
       "stream": "stdout",
       "text": [
        "\n",
        "\"Belozersk, Vologda Oblast\",\"Russia\",\"RU\""
       ]
      },
      {
       "output_type": "stream",
       "stream": "stdout",
       "text": [
        "\n",
        "\"Valuyki, Belgorod Oblast\",\"Russia\",\"RU\""
       ]
      },
      {
       "output_type": "stream",
       "stream": "stdout",
       "text": [
        "\n",
        "\"Velikiye Luki, Pskov Oblast\",\"Russia\",\"RU\""
       ]
      },
      {
       "output_type": "stream",
       "stream": "stdout",
       "text": [
        "\n",
        "\"Venyov, Tula Oblast\",\"Russia\",\"RU\""
       ]
      },
      {
       "output_type": "stream",
       "stream": "stdout",
       "text": [
        "\n",
        "\"Vereya, Moscow Oblast\",\"Russia\",\"RU\""
       ]
      },
      {
       "output_type": "stream",
       "stream": "stdout",
       "text": [
        "\n",
        "\"Ulan-Ude, Buryatia\",\"Russia\",\"RU\""
       ]
      },
      {
       "output_type": "stream",
       "stream": "stdout",
       "text": [
        "\n",
        "\"Vologda, Vologda Oblast\",\"Russia\",\"RU\""
       ]
      },
      {
       "output_type": "stream",
       "stream": "stdout",
       "text": [
        "\n",
        "\"Volokolamsk, Moscow Oblast\",\"Russia\",\"RU\""
       ]
      },
      {
       "output_type": "stream",
       "stream": "stdout",
       "text": [
        "\n",
        "\"Vyborg, Leningrad Oblast\",\"Russia\",\"RU\""
       ]
      },
      {
       "output_type": "stream",
       "stream": "stdout",
       "text": [
        "\n",
        "\"Hadyach, Poltavs'ka oblast\",\"Ukraine\",\"UA\""
       ]
      },
      {
       "output_type": "stream",
       "stream": "stdout",
       "text": [
        "\n",
        "\"Gorokhovets, Vladimir Oblast\",\"Russia\",\"RU\""
       ]
      },
      {
       "output_type": "stream",
       "stream": "stdout",
       "text": [
        "\n",
        "\"Daugavpils, Daugavpils pils\u0113ta\",\"Latvia\",\"LV\""
       ]
      },
      {
       "output_type": "stream",
       "stream": "stdout",
       "text": [
        "\n",
        "\"Dmitrov, Moscow Oblast\",\"Russia\",\"RU\""
       ]
      },
      {
       "output_type": "stream",
       "stream": "stdout",
       "text": [
        "\n",
        "\"Dankov, Lipetsk Oblast\",\"Russia\",\"RU\""
       ]
      },
      {
       "output_type": "stream",
       "stream": "stdout",
       "text": [
        "\n",
        "\"Dnepropetrovsk, Dnipropetrovsk Oblast\",\"Ukraine\",\"UA\""
       ]
      },
      {
       "output_type": "stream",
       "stream": "stdout",
       "text": [
        "\n",
        "\"Yelets, Lipetsk Oblast\",\"Russia\",\"RU\""
       ]
      },
      {
       "output_type": "stream",
       "stream": "stdout",
       "text": [
        "\n",
        "\"Yepifan, Tula Oblast\",\"Russia\",\"RU\""
       ]
      },
      {
       "output_type": "stream",
       "stream": "stdout",
       "text": [
        "\n",
        "\"Zaraysk, Moscow Oblast\",\"Russia\",\"RU\""
       ]
      },
      {
       "output_type": "stream",
       "stream": "stdout",
       "text": [
        "\n",
        "\"Zvenigorod, Moscow Oblast\",\"Russia\",\"RU\""
       ]
      },
      {
       "output_type": "stream",
       "stream": "stdout",
       "text": [
        "\n",
        "\"Zubtsov, Tver Oblast\",\"Russia\",\"RU\""
       ]
      },
      {
       "output_type": "stream",
       "stream": "stdout",
       "text": [
        "\n",
        "\"Izyum, Kharkiv Oblast\",\"Ukraine\",\"UA\""
       ]
      },
      {
       "output_type": "stream",
       "stream": "stdout",
       "text": [
        "\n",
        "\"Izyum, Kharkiv Oblast\",\"Ukraine\",\"UA\""
       ]
      },
      {
       "output_type": "stream",
       "stream": "stdout",
       "text": [
        "\n",
        "\"Kasimov, Ryazan Oblast\",\"Russia\",\"RU\""
       ]
      },
      {
       "output_type": "stream",
       "stream": "stdout",
       "text": [
        "\n",
        "\"Kashin, Tver Oblast\",\"Russia\",\"RU\""
       ]
      },
      {
       "output_type": "stream",
       "stream": "stdout",
       "text": [
        "\n",
        "\"Kashira, Moscow Oblast\",\"Russia\",\"RU\""
       ]
      },
      {
       "output_type": "stream",
       "stream": "stdout",
       "text": [
        "\n",
        "\"Vadinsk, Penza Oblast\",\"Russia\",\"RU\""
       ]
      },
      {
       "output_type": "stream",
       "stream": "stdout",
       "text": [
        "\n",
        "\"Kineshma, Ivanovo Oblast\",\"Russia\",\"RU\""
       ]
      },
      {
       "output_type": "stream",
       "stream": "stdout",
       "text": [
        "\n",
        "\"Kirensky District, Irkutsk Oblast\",\"Russia\",\"RU\""
       ]
      },
      {
       "output_type": "stream",
       "stream": "stdout",
       "text": [
        "\n",
        "\"Kiev, Kyiv city\",\"Ukraine\",\"UA\""
       ]
      },
      {
       "output_type": "stream",
       "stream": "stdout",
       "text": [
        "\n",
        "\"Klimavichy, Mogilev Province\",\"Belarus\",\"BY\""
       ]
      },
      {
       "output_type": "stream",
       "stream": "stdout",
       "text": [
        "\n",
        "\"Kozelsk, Kaluga Oblast\",\"Russia\",\"RU\""
       ]
      },
      {
       "output_type": "stream",
       "stream": "stdout",
       "text": [
        "\n",
        "\"Michurinsk, Tambov Oblast\",\"Russia\",\"RU\""
       ]
      },
      {
       "output_type": "stream",
       "stream": "stdout",
       "text": [
        "\n",
        "\"Kolomna, Moscow Oblast\",\"Russia\",\"RU\""
       ]
      },
      {
       "output_type": "stream",
       "stream": "stdout",
       "text": [
        "\n",
        "\"Korocha, Belgorod Oblast\",\"Russia\",\"RU\""
       ]
      },
      {
       "output_type": "stream",
       "stream": "stdout",
       "text": [
        "\n",
        "\"Kostroma, Kostroma Oblast\",\"Russia\",\"RU\""
       ]
      },
      {
       "output_type": "stream",
       "stream": "stdout",
       "text": [
        "\n",
        "\"Krasnoslobodsk, Mordovia\",\"Russia\",\"RU\""
       ]
      },
      {
       "output_type": "stream",
       "stream": "stdout",
       "text": [
        "\n",
        "\"Kursk, Kursk Oblast\",\"Russia\",\"RU\""
       ]
      },
      {
       "output_type": "stream",
       "stream": "stdout",
       "text": [
        "\n",
        "\"Lebedyan, Lipetsk Oblast\",\"Russia\",\"RU\""
       ]
      },
      {
       "output_type": "stream",
       "stream": "stdout",
       "text": [
        "\n"
       ]
      },
      {
       "ename": "KeyboardInterrupt",
       "evalue": "",
       "output_type": "pyerr",
       "traceback": [
        "\u001b[1;31m---------------------------------------------------------------------------\u001b[0m\n\u001b[1;31mKeyboardInterrupt\u001b[0m                         Traceback (most recent call last)",
        "\u001b[1;32m<ipython-input-2-5f052c349162>\u001b[0m in \u001b[0;36m<module>\u001b[1;34m()\u001b[0m\n\u001b[0;32m     26\u001b[0m             \u001b[0mnamiest_locations\u001b[0m\u001b[1;33m.\u001b[0m\u001b[0mextend\u001b[0m\u001b[1;33m(\u001b[0m\u001b[0moutlist\u001b[0m\u001b[1;33m)\u001b[0m\u001b[1;33m\u001b[0m\u001b[0m\n\u001b[0;32m     27\u001b[0m             \u001b[0mprint\u001b[0m\u001b[1;33m(\u001b[0m\u001b[1;34m\"\\\"{0}, {1}\\\",\\\"{2}\\\",\\\"{3}\\\"\"\u001b[0m\u001b[1;33m.\u001b[0m\u001b[0mformat\u001b[0m\u001b[1;33m(\u001b[0m\u001b[0mlocality\u001b[0m\u001b[1;33m,\u001b[0m\u001b[0madmin1\u001b[0m\u001b[1;33m,\u001b[0m\u001b[0mcountry\u001b[0m\u001b[1;33m,\u001b[0m\u001b[0mcountryCode\u001b[0m\u001b[1;33m)\u001b[0m\u001b[1;33m)\u001b[0m\u001b[1;33m\u001b[0m\u001b[0m\n\u001b[1;32m---> 28\u001b[1;33m             \u001b[0mtime\u001b[0m\u001b[1;33m.\u001b[0m\u001b[0msleep\u001b[0m\u001b[1;33m(\u001b[0m\u001b[1;36m1\u001b[0m\u001b[1;33m)\u001b[0m\u001b[1;33m\u001b[0m\u001b[0m\n\u001b[0m\u001b[0;32m     29\u001b[0m             \u001b[0mkeepgoing\u001b[0m \u001b[1;33m=\u001b[0m \u001b[1;32mFalse\u001b[0m\u001b[1;33m\u001b[0m\u001b[0m\n\u001b[0;32m     30\u001b[0m         \u001b[1;32mexcept\u001b[0m \u001b[0mIndexError\u001b[0m\u001b[1;33m:\u001b[0m\u001b[1;33m\u001b[0m\u001b[0m\n",
        "\u001b[1;31mKeyboardInterrupt\u001b[0m: "
       ]
      }
     ],
     "prompt_number": 2
    }
   ],
   "metadata": {}
  }
 ]
}