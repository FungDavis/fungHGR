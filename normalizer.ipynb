{
 "metadata": {
  "name": "",
  "signature": "sha256:6476ae051821aa0776319d562672794b825e5a0482faa1ae7c027c477468cc9e"
 },
 "nbformat": 3,
 "nbformat_minor": 0,
 "worksheets": [
  {
   "cells": [
    {
     "cell_type": "code",
     "collapsed": false,
     "input": [
      "import pandas as pd\n",
      "temp = pd.DataFrame.from_csv(\"output/hgr_test_set_5.csv\")\n",
      "temp.to_csv(\"output/hgr_test_set_5.csv\",encoding='utf-8')"
     ],
     "language": "python",
     "metadata": {},
     "outputs": [],
     "prompt_number": 1
    }
   ],
   "metadata": {}
  }
 ]
}