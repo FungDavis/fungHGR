{
 "metadata": {
  "name": "",
  "signature": "sha256:05a10fb278c20702dd75643c56b3e83d8bcff0ec75b706bb5ec856192fc69653"
 },
 "nbformat": 3,
 "nbformat_minor": 0,
 "worksheets": [
  {
   "cells": [
    {
     "cell_type": "code",
     "collapsed": false,
     "input": [
      "import pandas as pd\n",
      "temp = pd.DataFrame.from_csv(\"output/hgr_test_set_5.csv\")\n",
      "temp.to_csv(\"output/hgr_test_set_5.csv\",encoding='utf-8')"
     ],
     "language": "python",
     "metadata": {},
     "outputs": [],
     "prompt_number": 4
    }
   ],
   "metadata": {}
  }
 ]
}