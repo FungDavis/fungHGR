{
 "metadata": {
  "name": "",
  "signature": "sha256:eaa56f3b34790ac7c72743bb1da6e15aa1f9e05efef1d94de39142dde90f73c8"
 },
 "nbformat": 3,
 "nbformat_minor": 0,
 "worksheets": [
  {
   "cells": [
    {
     "cell_type": "code",
     "collapsed": false,
     "input": [
      "placename = \"\u0410\u043b\u0435\u043a\u0441\u0435\u0435\u0432\u043a\u0430\"\n",
      "placeid = 12\n",
      "partof_id = 5\n",
      "fuzz = 1"
     ],
     "language": "python",
     "metadata": {},
     "outputs": [],
     "prompt_number": 1
    },
    {
     "cell_type": "code",
     "collapsed": false,
     "input": [
      "import pandas as pd\n",
      "import numpy as np\n",
      "import json, re, os, time, requests"
     ],
     "language": "python",
     "metadata": {},
     "outputs": [],
     "prompt_number": 2
    },
    {
     "cell_type": "code",
     "collapsed": false,
     "input": [
      "import os\n",
      "def Ensure_dir(d):\n",
      "    \"\"\"Makes sure a directory 'd' exists, and if it doesn't, it creates one.\"\"\"\n",
      "    if not os.path.exists(d):\n",
      "        os.makedirs(d)\n",
      "    return 0"
     ],
     "language": "python",
     "metadata": {},
     "outputs": [],
     "prompt_number": 3
    },
    {
     "cell_type": "code",
     "collapsed": false,
     "input": [
      "def geonames_request(placename,placeid,east=180,west=-180,north=90,south=-90,fuzzy=1):\n",
      "    \"\"\"\n",
      "    Takes a placename and optional bounding box, returns GeoNames response for query in dict form, with added url key\n",
      "    \"\"\"\n",
      "    url = \"http://api.geonames.org/search\"\n",
      "    Q = {'type':'json','username':'jaguillette','featureClass':'P','name':placename,'north':north,'south':south,'east':east,'west':west,'fuzzy':fuzzy}\n",
      "    R = requests.get(url,params=Q)\n",
      "    #print(R.url)\n",
      "    response = R.json()\n",
      "    Q.update({'url':R.url,'hgr_id':int(placeid)})\n",
      "    response.update({'searchinfo':Q})\n",
      "    return response"
     ],
     "language": "python",
     "metadata": {},
     "outputs": [],
     "prompt_number": 4
    },
    {
     "cell_type": "code",
     "collapsed": false,
     "input": [
      "def geo_response_parse(response,save_location=None):\n",
      "    \"\"\"\n",
      "    Takes a dict object from parsing the json of a geonames request, as returned by geonames_request.\n",
      "    Returns a dict of response properties.\n",
      "    \"\"\"\n",
      "    returnlist = []\n",
      "    try:\n",
      "        if response['totalResultsCount'] != 0:\n",
      "            for p in response['geonames']:\n",
      "                mod_dict = {}\n",
      "                for k in p:\n",
      "                    mod_dict[\"gname_{}\".format(k)] = p[k]\n",
      "                returnlist.append(mod_dict)\n",
      "            if save_location is not None:\n",
      "                if not os.path.exists(save_location):\n",
      "                    with open(save_location,'w',encoding='utf-8') as fp:\n",
      "                        json.dump(dict(response),fp,sort_keys=True)\n",
      "            #print(\"{} was found\".format(placename))\n",
      "        else:\n",
      "            returnlist = [{}]\n",
      "        for e in returnlist:\n",
      "            e['url'] = response['searchinfo']['url']\n",
      "            e['hgr_id'] = response['searchinfo']['hgr_id']\n",
      "            e['searched_name'] = response['searchinfo']['name']\n",
      "            e['fuzzy'] = response['searchinfo']['fuzzy']\n",
      "            e['north_bound'] = response['searchinfo']['north']\n",
      "            e['south_bound'] = response['searchinfo']['south']\n",
      "            e['east_bound'] = response['searchinfo']['east']\n",
      "            e['west_bound'] = response['searchinfo']['west']\n",
      "        return returnlist\n",
      "    except KeyError:\n",
      "        print(response['searchinfo']['url'])\n",
      "        return([])"
     ],
     "language": "python",
     "metadata": {},
     "outputs": [],
     "prompt_number": 5
    },
    {
     "cell_type": "code",
     "collapsed": false,
     "input": [
      "with open(\"resources/partof_prov_bounds.json\",'r',encoding = 'utf-8') as fp:\n",
      "    bounding_dict = json.load(fp)"
     ],
     "language": "python",
     "metadata": {},
     "outputs": [],
     "prompt_number": 6
    },
    {
     "cell_type": "code",
     "collapsed": false,
     "input": [
      "bounds = bounding_dict[str(float(partof_id))]\n",
      "W = bounds['boundaries'][0]\n",
      "S = bounds['boundaries'][1]\n",
      "E = bounds['boundaries'][2]\n",
      "N = bounds['boundaries'][3]\n",
      "this_response = geonames_request(placename, placeid, west=W, south=S, east=E, north=N,fuzzy=fuzz)\n",
      "gnames_saved = \"geonames_jsons/{:0>3}_{}_f{}.json\".format(placeid,placename,fuzz)\n",
      "parsed_response = geo_response_parse(this_response,gnames_saved)"
     ],
     "language": "python",
     "metadata": {},
     "outputs": [],
     "prompt_number": 7
    },
    {
     "cell_type": "code",
     "collapsed": false,
     "input": [
      "def dict_to_geojson(gname,add_properties = {}):\n",
      "    gjson = {'type':'FeatureCollection','features':[]}\n",
      "    for r in gname['geonames']:\n",
      "        feature = {'type':'Feature','geometry':{'type':'Point','coordinates':[float(r['lng']),float(r['lat'])]}}\n",
      "        #r.pop('lat')\n",
      "        #r.pop('lng')\n",
      "        feature['properties'] = r\n",
      "        feature['properties'].update(add_properties)\n",
      "        gjson['features'].append(feature)\n",
      "    return(gjson)"
     ],
     "language": "python",
     "metadata": {},
     "outputs": [],
     "prompt_number": 8
    },
    {
     "cell_type": "code",
     "collapsed": false,
     "input": [
      "with open(gnames_saved,\"r\", encoding='utf-8') as fp:\n",
      "    gnames_json = json.load(fp)\n",
      "gnames_geojson = dict_to_geojson(gnames_json)"
     ],
     "language": "python",
     "metadata": {},
     "outputs": [],
     "prompt_number": 9
    },
    {
     "cell_type": "code",
     "collapsed": false,
     "input": [
      "nogeo = pd.DataFrame.from_csv(\"output/process/no_geo.csv\")"
     ],
     "language": "python",
     "metadata": {},
     "outputs": [],
     "prompt_number": 10
    },
    {
     "cell_type": "code",
     "collapsed": false,
     "input": [
      "gnames_geojson_saved = \"geonames_jsons/geojson/{:0>3}_{}_f{}.geojson\".format(placeid,placename,fuzz)\n",
      "mod_dict = {} #I want to indicate that the source of these properties is hgr, so I'm creating a new dict to modify keys.\n",
      "for k in nogeo.loc[placeid].keys():\n",
      "    if (type(nogeo.loc[placeid][k])!=np.int64 and type(nogeo.loc[placeid][k])!=np.float64) and pd.isnull(nogeo.loc[placeid][k])==False:\n",
      "        mod_dict[\"hgr_{}\".format(k.strip(\"_\"))] = nogeo.loc[placeid][k]\n",
      "    elif pd.isnull(nogeo.loc[placeid][k]):\n",
      "        mod_dict[\"hgr_{}\".format(k.strip(\"_\"))] = None\n",
      "    elif type(nogeo.loc[placeid][k])==np.int64:\n",
      "        mod_dict[\"hgr_{}\".format(k.strip(\"_\"))] = int(nogeo.loc[placeid][k])\n",
      "    elif type(nogeo.loc[placeid][k])==np.float64:\n",
      "        mod_dict[\"hgr_{}\".format(k.strip(\"_\"))] = float(nogeo.loc[placeid][k])\n",
      "    for g in gnames_geojson['features']:\n",
      "        g['properties'].update(mod_dict)\n",
      "        g['properties']['UPDATE_SCRIPT'] = \"python add_town_by_geoname_id.py {} {}\".format(gnames_geojson_saved,g['properties']['geonameId'])\n",
      "with open(gnames_geojson_saved,\"w\",encoding='utf-8') as fp:\n",
      "    json.dump(gnames_geojson,fp,sort_keys=True,indent=1)"
     ],
     "language": "python",
     "metadata": {},
     "outputs": [],
     "prompt_number": 20
    },
    {
     "cell_type": "code",
     "collapsed": false,
     "input": [
      "pd.isnull(gnames_geojson['features'][0]['properties']['hgr_alt_name_old_orth'])"
     ],
     "language": "python",
     "metadata": {},
     "outputs": [
      {
       "metadata": {},
       "output_type": "pyout",
       "prompt_number": 19,
       "text": [
        "True"
       ]
      }
     ],
     "prompt_number": 19
    }
   ],
   "metadata": {}
  }
 ]
}