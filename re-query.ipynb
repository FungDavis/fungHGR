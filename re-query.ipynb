{
 "metadata": {
  "name": "",
  "signature": "sha256:30e4a7ede38c40fb283e044a7b248f7d56d2e02f4fcfa1df75a54a34ea67b68f"
 },
 "nbformat": 3,
 "nbformat_minor": 0,
 "worksheets": [
  {
   "cells": [
    {
     "cell_type": "code",
     "collapsed": false,
     "input": [
      "placename = \"\u041f\u0435\u0442\u0440\u043e\u0432\u0441\u043a\u0430\u044f\"\n",
      "placeid = 529\n",
      "partof_id = 4\n",
      "fuzz = 0.7\n",
      "newbounds = True\n",
      "if newbounds:\n",
      "    W, S, E, N = [37.9646,58.5125,41.2812,60.2119]"
     ],
     "language": "python",
     "metadata": {},
     "outputs": [],
     "prompt_number": 37
    },
    {
     "cell_type": "code",
     "collapsed": false,
     "input": [
      "import pandas as pd\n",
      "import numpy as np\n",
      "import json, re, os, time, requests"
     ],
     "language": "python",
     "metadata": {},
     "outputs": [],
     "prompt_number": 38
    },
    {
     "cell_type": "code",
     "collapsed": false,
     "input": [
      "import os\n",
      "def Ensure_dir(d):\n",
      "    \"\"\"Makes sure a directory 'd' exists, and if it doesn't, it creates one.\"\"\"\n",
      "    if not os.path.exists(d):\n",
      "        os.makedirs(d)\n",
      "    return 0"
     ],
     "language": "python",
     "metadata": {},
     "outputs": [],
     "prompt_number": 39
    },
    {
     "cell_type": "code",
     "collapsed": false,
     "input": [
      "def geonames_request(placename,placeid,east=180,west=-180,north=90,south=-90,fuzzy=1):\n",
      "    \"\"\"\n",
      "    Takes a placename and optional bounding box, returns GeoNames response for query in dict form, with added url key\n",
      "    \"\"\"\n",
      "    url = \"http://api.geonames.org/search\"\n",
      "    Q = {'type':'json','username':'jaguillette','featureClass':'P','name':placename,'north':north,'south':south,'east':east,'west':west,'fuzzy':fuzzy}\n",
      "    R = requests.get(url,params=Q)\n",
      "    #print(R.url)\n",
      "    response = R.json()\n",
      "    Q.update({'url':R.url,'hgr_id':int(placeid)})\n",
      "    response.update({'searchinfo':Q})\n",
      "    return response"
     ],
     "language": "python",
     "metadata": {},
     "outputs": [],
     "prompt_number": 40
    },
    {
     "cell_type": "code",
     "collapsed": false,
     "input": [
      "def geo_response_parse(response,save_location=None):\n",
      "    \"\"\"\n",
      "    Takes a dict object from parsing the json of a geonames request, as returned by geonames_request.\n",
      "    Returns a dict of response properties.\n",
      "    \"\"\"\n",
      "    returnlist = []\n",
      "    try:\n",
      "        if response['totalResultsCount'] != 0:\n",
      "            for p in response['geonames']:\n",
      "                mod_dict = {}\n",
      "                for k in p:\n",
      "                    mod_dict[\"gname_{}\".format(k)] = p[k]\n",
      "                returnlist.append(mod_dict)\n",
      "            if save_location is not None:\n",
      "                if not os.path.exists(save_location):\n",
      "                    with open(save_location,'w',encoding='utf-8') as fp:\n",
      "                        json.dump(dict(response),fp,sort_keys=True)\n",
      "            #print(\"{} was found\".format(placename))\n",
      "        else:\n",
      "            returnlist = [{}]\n",
      "        for e in returnlist:\n",
      "            e['url'] = response['searchinfo']['url']\n",
      "            e['hgr_id'] = response['searchinfo']['hgr_id']\n",
      "            e['searched_name'] = response['searchinfo']['name']\n",
      "            e['fuzzy'] = response['searchinfo']['fuzzy']\n",
      "            e['north_bound'] = response['searchinfo']['north']\n",
      "            e['south_bound'] = response['searchinfo']['south']\n",
      "            e['east_bound'] = response['searchinfo']['east']\n",
      "            e['west_bound'] = response['searchinfo']['west']\n",
      "        return returnlist\n",
      "    except KeyError:\n",
      "        print(response['searchinfo']['url'])\n",
      "        return([])"
     ],
     "language": "python",
     "metadata": {},
     "outputs": [],
     "prompt_number": 41
    },
    {
     "cell_type": "code",
     "collapsed": false,
     "input": [
      "with open(\"resources/partof_prov_bounds.json\",'r',encoding = 'utf-8') as fp:\n",
      "    bounding_dict = json.load(fp)"
     ],
     "language": "python",
     "metadata": {},
     "outputs": [],
     "prompt_number": 42
    },
    {
     "cell_type": "code",
     "collapsed": false,
     "input": [
      "if not newbounds:\n",
      "    bounds = bounding_dict[str(float(partof_id))]\n",
      "    W = bounds['boundaries'][0]\n",
      "    S = bounds['boundaries'][1]\n",
      "    E = bounds['boundaries'][2]\n",
      "    N = bounds['boundaries'][3]\n",
      "this_response = geonames_request(placename, placeid, west=W, south=S, east=E, north=N,fuzzy=fuzz)\n",
      "gnames_saved = \"geonames_jsons/{:0>3}_{}_f{}.json\".format(placeid,placename,fuzz)\n",
      "parsed_response = geo_response_parse(this_response,gnames_saved)"
     ],
     "language": "python",
     "metadata": {},
     "outputs": [],
     "prompt_number": 43
    },
    {
     "cell_type": "code",
     "collapsed": false,
     "input": [
      "def dict_to_geojson(gname,add_properties = {}):\n",
      "    gjson = {'type':'FeatureCollection','features':[]}\n",
      "    for r in gname['geonames']:\n",
      "        feature = {'type':'Feature','geometry':{'type':'Point','coordinates':[float(r['lng']),float(r['lat'])]}}\n",
      "        #r.pop('lat')\n",
      "        #r.pop('lng')\n",
      "        feature['properties'] = r\n",
      "        feature['properties'].update(add_properties)\n",
      "        gjson['features'].append(feature)\n",
      "    return(gjson)"
     ],
     "language": "python",
     "metadata": {},
     "outputs": [],
     "prompt_number": 44
    },
    {
     "cell_type": "code",
     "collapsed": false,
     "input": [
      "with open(gnames_saved,\"r\", encoding='utf-8') as fp:\n",
      "    gnames_json = json.load(fp)\n",
      "gnames_geojson = dict_to_geojson(gnames_json)"
     ],
     "language": "python",
     "metadata": {},
     "outputs": [],
     "prompt_number": 45
    },
    {
     "cell_type": "code",
     "collapsed": false,
     "input": [
      "nogeo = pd.DataFrame.from_csv(\"output/process/no_geo.csv\")"
     ],
     "language": "python",
     "metadata": {},
     "outputs": [],
     "prompt_number": 46
    },
    {
     "cell_type": "code",
     "collapsed": false,
     "input": [
      "gnames_geojson_saved = \"geonames_jsons/{:0>3}_{}_f{}.geojson\".format(placeid,placename,fuzz)\n",
      "mod_dict = {} #I want to indicate that the source of these properties is hgr, so I'm creating a new dict to modify keys.\n",
      "for k in nogeo.loc[placeid].keys():\n",
      "    if (type(nogeo.loc[placeid][k])!=np.int64 and type(nogeo.loc[placeid][k])!=np.float64) and pd.isnull(nogeo.loc[placeid][k])==False:\n",
      "        mod_dict[\"hgr_{}\".format(k.strip(\"_\"))] = nogeo.loc[placeid][k]\n",
      "    elif pd.isnull(nogeo.loc[placeid][k]):\n",
      "        mod_dict[\"hgr_{}\".format(k.strip(\"_\"))] = None\n",
      "    elif type(nogeo.loc[placeid][k])==np.int64:\n",
      "        mod_dict[\"hgr_{}\".format(k.strip(\"_\"))] = int(nogeo.loc[placeid][k])\n",
      "    elif type(nogeo.loc[placeid][k])==np.float64:\n",
      "        mod_dict[\"hgr_{}\".format(k.strip(\"_\"))] = float(nogeo.loc[placeid][k])\n",
      "    for g in gnames_geojson['features']:\n",
      "        g['properties'].update(mod_dict)\n",
      "        g['properties']['UPDATE_SCRIPT'] = \"python add_town_by_geoname_id.py {} {}\".format(gnames_geojson_saved.replace(\"geonames_jsons/geojson/\",\"\"),g['properties']['geonameId'])\n",
      "with open(gnames_geojson_saved,\"w\",encoding='utf-8') as fp:\n",
      "    json.dump(gnames_geojson,fp,sort_keys=True,indent=1)\n",
      "print(\"{} features found\".format(len(gnames_geojson['features'])))"
     ],
     "language": "python",
     "metadata": {},
     "outputs": [
      {
       "output_type": "stream",
       "stream": "stdout",
       "text": [
        "7 features found\n"
       ]
      }
     ],
     "prompt_number": 47
    }
   ],
   "metadata": {}
  }
 ]
}