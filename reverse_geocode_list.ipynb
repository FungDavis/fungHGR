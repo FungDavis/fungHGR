{
 "metadata": {
  "name": "",
  "signature": "sha256:4c94503396c9b74ee3717fec69fb48bdd5db5b6ec336695eaf57d0997a37d156"
 },
 "nbformat": 3,
 "nbformat_minor": 0,
 "worksheets": [
  {
   "cells": [
    {
     "cell_type": "code",
     "collapsed": false,
     "input": [
      "import time, requests"
     ],
     "language": "python",
     "metadata": {},
     "outputs": [],
     "prompt_number": 1
    },
    {
     "cell_type": "code",
     "collapsed": false,
     "input": [
      "namiest = [[46.5813,54.8421],[37.0674,54.50503],[43.83992,55.39485],[34.89879,50.31036],[30.5725,54.8351],[36.69651,57.78506],[36.13194,53.81194],[30.4122,52.9395],[38.51663,54.37445],[37.8084,60.0288],[38.1067,50.2035],[30.54517,56.34],[38.26843,54.35533],[36.17194,55.34472],[107.6,51.833333],[39.88398,59.2239],[35.96944,56.03361],[28.75283,60.70763],[33.99099,50.37112],[42.69351,56.20152],[26.53333,55.88333],[37.52041,56.34485],[39.15553,53.25155],[34.98333,48.45],[38.50169,52.62366],[38.55181,53.82526],[38.87841,54.7605],[36.85918,55.73402],[34.58935,56.17534],[37.24848,49.20875],[37.24849,49.20875],[41.39528,54.94111],[37.60806,57.35917],[38.16694,54.84444],[43.05744,53.69157],[42.12894,57.43914],[108.11194,57.78528],[30.5238,50.45466],[31.9586,53.6079],[35.77159,54.03746],[40.4907,52.8978],[38.77833,55.07944],[37.18598,50.8132],[40.92686,57.76647],[43.78963,54.4253],[36.18735,51.73733],[39.16639,53.01942],[37.60689,52.42534],[32.99694,50.01625],[40.68433,58.3625],[44.2542,65.8401],[33.60886,49.96854],[35.26233,51.023],[36.02722,55.50194],[31.7217,54.0185],[43.69458,53.87654],[43.67663,53.53041],[31.27104,58.52131],[31.27104,58.52131],[33.266667,51.983333],[37.04048,52.97387],[31.88688,51.04801],[31.88688,51.04801],[30.4172,54.5081],[28.35368,57.34395],[31.4795,50.08768],[39.26928,57.01039],[32.50621,50.24242],[34.54073,49.59373],[28.7856,55.4879],[39.13531,58.49928],[32.38761,50.59323],[28.3496,57.8136],[30.0495,53.0934],[39.41394,57.1914],[36.19522,55.69898],[44.7329,53.1783],[45.1749,54.1838],[46.00861,51.54056],[48.66051,55.77329],[48.38657,54.32824],[32.49985,51.52387],[30.2454,53.521],[33.67942,52.2405],[40.44668,56.42274],[35.90057,56.85836],[43.21483,54.63023],[37.616667,54.2],[36.25272,49.98081],[61.42915,55.15402],[31.3831,53.5689],[31.28488,51.50551],[42.68318,58.75375],[41.71191,54.02576],[43.1041,57.32007],[49.09162,62.16755],[39.87368,57.62987]]\n",
      "namiest_locations = []\n",
      "for x in namiest:\n",
      "    keepgoing = True\n",
      "    while keepgoing == True:\n",
      "        try:\n",
      "            url = \"https://maps.googleapis.com/maps/api/geocode/json\"\n",
      "            Q = {'latlng':\"{},{}\".format(x[1],x[0])}\n",
      "            R = requests.get(url, params=Q)\n",
      "            #print(R.url)\n",
      "            geo_response = R.json()\n",
      "            for component in geo_response['results'][0]['address_components']:\n",
      "                if 'locality' in component['types']:\n",
      "                    locality = component['long_name']\n",
      "                elif 'administrative_area_level_1' in component['types']:\n",
      "                    admin1 = component['long_name']\n",
      "                elif 'country' in component['types']:\n",
      "                    country = component['long_name']\n",
      "                    countryCode = component['short_name']\n",
      "            outlist = [x[0],x[1],\"{}, {}\".format(locality,admin1),country,countryCode]\n",
      "            namiest_locations.extend(outlist)\n",
      "            print(\"\\\"{0}, {1}\\\",\\\"{2}\\\",\\\"{3}\\\"\".format(locality,admin1,country,countryCode))\n",
      "            time.sleep(1)\n",
      "            keepgoing = False\n",
      "        except IndexError:\n",
      "            continue"
     ],
     "language": "python",
     "metadata": {},
     "outputs": [
      {
       "output_type": "stream",
       "stream": "stdout",
       "text": [
        "\"Alatyr', Chuvashia Republic\",\"Russia\",\"RU\"\n",
        "\"Aleksin, Tula Oblast\",\"Russia\",\"RU\""
       ]
      },
      {
       "output_type": "stream",
       "stream": "stdout",
       "text": [
        "\n",
        "\"Arzamas, Nizhny Novgorod Oblast\",\"Russia\",\"RU\""
       ]
      },
      {
       "output_type": "stream",
       "stream": "stdout",
       "text": [
        "\n",
        "\"Okhtyrka, Sums'ka oblast\",\"Ukraine\",\"UA\""
       ]
      },
      {
       "output_type": "stream",
       "stream": "stdout",
       "text": [
        "\n",
        "\"Babinavichy, Vitebsk Region\",\"Belarus\",\"BY\""
       ]
      },
      {
       "output_type": "stream",
       "stream": "stdout",
       "text": [
        "\n",
        "\"Bezhetsk, Tver Oblast\",\"Russia\",\"RU\""
       ]
      },
      {
       "output_type": "stream",
       "stream": "stdout",
       "text": [
        "\n",
        "\"Belyov, Tula Oblast\",\"Russia\",\"RU\""
       ]
      },
      {
       "output_type": "stream",
       "stream": "stdout",
       "text": [
        "\n",
        "\"\u0411\u0435\u043b\u0438\u0446\u043a, Homiel Province\",\"Belarus\",\"BY\""
       ]
      },
      {
       "output_type": "stream",
       "stream": "stdout",
       "text": [
        "\n",
        "\"Belgorodskiy, Tula Oblast\",\"Russia\",\"RU\""
       ]
      },
      {
       "output_type": "stream",
       "stream": "stdout",
       "text": [
        "\n",
        "\"Belozersk, Vologda Oblast\",\"Russia\",\"RU\""
       ]
      },
      {
       "output_type": "stream",
       "stream": "stdout",
       "text": [
        "\n",
        "\"Valuyki, Belgorod Oblast\",\"Russia\",\"RU\""
       ]
      },
      {
       "output_type": "stream",
       "stream": "stdout",
       "text": [
        "\n",
        "\"Velikiye Luki, Pskov Oblast\",\"Russia\",\"RU\""
       ]
      },
      {
       "output_type": "stream",
       "stream": "stdout",
       "text": [
        "\n",
        "\"Venyov, Tula Oblast\",\"Russia\",\"RU\""
       ]
      },
      {
       "output_type": "stream",
       "stream": "stdout",
       "text": [
        "\n",
        "\"Vereya, Moscow Oblast\",\"Russia\",\"RU\""
       ]
      },
      {
       "output_type": "stream",
       "stream": "stdout",
       "text": [
        "\n",
        "\"Ulan-Ude, Buryatia\",\"Russia\",\"RU\""
       ]
      },
      {
       "output_type": "stream",
       "stream": "stdout",
       "text": [
        "\n",
        "\"Vologda, Vologda Oblast\",\"Russia\",\"RU\""
       ]
      },
      {
       "output_type": "stream",
       "stream": "stdout",
       "text": [
        "\n",
        "\"Volokolamsk, Moscow Oblast\",\"Russia\",\"RU\""
       ]
      },
      {
       "output_type": "stream",
       "stream": "stdout",
       "text": [
        "\n",
        "\"Vyborg, Leningrad Oblast\",\"Russia\",\"RU\""
       ]
      },
      {
       "output_type": "stream",
       "stream": "stdout",
       "text": [
        "\n",
        "\"Hadyach, Poltavs'ka oblast\",\"Ukraine\",\"UA\""
       ]
      },
      {
       "output_type": "stream",
       "stream": "stdout",
       "text": [
        "\n",
        "\"Gorokhovets, Vladimir Oblast\",\"Russia\",\"RU\""
       ]
      },
      {
       "output_type": "stream",
       "stream": "stdout",
       "text": [
        "\n",
        "\"Daugavpils, Daugavpils pils\u0113ta\",\"Latvia\",\"LV\""
       ]
      },
      {
       "output_type": "stream",
       "stream": "stdout",
       "text": [
        "\n",
        "\"Dmitrov, Moscow Oblast\",\"Russia\",\"RU\""
       ]
      },
      {
       "output_type": "stream",
       "stream": "stdout",
       "text": [
        "\n",
        "\"Dankov, Lipetsk Oblast\",\"Russia\",\"RU\""
       ]
      },
      {
       "output_type": "stream",
       "stream": "stdout",
       "text": [
        "\n",
        "\"Dnepropetrovsk, Dnipropetrovsk Oblast\",\"Ukraine\",\"UA\""
       ]
      },
      {
       "output_type": "stream",
       "stream": "stdout",
       "text": [
        "\n",
        "\"Yelets, Lipetsk Oblast\",\"Russia\",\"RU\""
       ]
      },
      {
       "output_type": "stream",
       "stream": "stdout",
       "text": [
        "\n",
        "\"Yepifan, Tula Oblast\",\"Russia\",\"RU\""
       ]
      },
      {
       "output_type": "stream",
       "stream": "stdout",
       "text": [
        "\n",
        "\"Zaraysk, Moscow Oblast\",\"Russia\",\"RU\""
       ]
      },
      {
       "output_type": "stream",
       "stream": "stdout",
       "text": [
        "\n",
        "\"Zvenigorod, Moscow Oblast\",\"Russia\",\"RU\""
       ]
      },
      {
       "output_type": "stream",
       "stream": "stdout",
       "text": [
        "\n",
        "\"Zubtsov, Tver Oblast\",\"Russia\",\"RU\""
       ]
      },
      {
       "output_type": "stream",
       "stream": "stdout",
       "text": [
        "\n",
        "\"Izyum, Kharkiv Oblast\",\"Ukraine\",\"UA\""
       ]
      },
      {
       "output_type": "stream",
       "stream": "stdout",
       "text": [
        "\n",
        "\"Izyum, Kharkiv Oblast\",\"Ukraine\",\"UA\""
       ]
      },
      {
       "output_type": "stream",
       "stream": "stdout",
       "text": [
        "\n",
        "\"Kasimov, Ryazan Oblast\",\"Russia\",\"RU\""
       ]
      },
      {
       "output_type": "stream",
       "stream": "stdout",
       "text": [
        "\n",
        "\"Kashin, Tver Oblast\",\"Russia\",\"RU\""
       ]
      },
      {
       "output_type": "stream",
       "stream": "stdout",
       "text": [
        "\n",
        "\"Kashira, Moscow Oblast\",\"Russia\",\"RU\""
       ]
      },
      {
       "output_type": "stream",
       "stream": "stdout",
       "text": [
        "\n",
        "\"Vadinsk, Penza Oblast\",\"Russia\",\"RU\""
       ]
      },
      {
       "output_type": "stream",
       "stream": "stdout",
       "text": [
        "\n",
        "\"Kineshma, Ivanovo Oblast\",\"Russia\",\"RU\""
       ]
      },
      {
       "output_type": "stream",
       "stream": "stdout",
       "text": [
        "\n",
        "\"Kineshma, Irkutsk Oblast\",\"Russia\",\"RU\""
       ]
      },
      {
       "output_type": "stream",
       "stream": "stdout",
       "text": [
        "\n",
        "\"Kiev, Kyiv city\",\"Ukraine\",\"UA\""
       ]
      },
      {
       "output_type": "stream",
       "stream": "stdout",
       "text": [
        "\n",
        "\"Klimavichy, Mogilev Province\",\"Belarus\",\"BY\""
       ]
      },
      {
       "output_type": "stream",
       "stream": "stdout",
       "text": [
        "\n",
        "\"Kozelsk, Kaluga Oblast\",\"Russia\",\"RU\""
       ]
      },
      {
       "output_type": "stream",
       "stream": "stdout",
       "text": [
        "\n",
        "\"Michurinsk, Tambov Oblast\",\"Russia\",\"RU\""
       ]
      },
      {
       "output_type": "stream",
       "stream": "stdout",
       "text": [
        "\n",
        "\"Kolomna, Moscow Oblast\",\"Russia\",\"RU\""
       ]
      },
      {
       "output_type": "stream",
       "stream": "stdout",
       "text": [
        "\n",
        "\"Korocha, Belgorod Oblast\",\"Russia\",\"RU\""
       ]
      },
      {
       "output_type": "stream",
       "stream": "stdout",
       "text": [
        "\n",
        "\"Kostroma, Kostroma Oblast\",\"Russia\",\"RU\""
       ]
      },
      {
       "output_type": "stream",
       "stream": "stdout",
       "text": [
        "\n",
        "\"Krasnoslobodsk, Mordovia\",\"Russia\",\"RU\""
       ]
      },
      {
       "output_type": "stream",
       "stream": "stdout",
       "text": [
        "\n",
        "\"Kursk, Kursk Oblast\",\"Russia\",\"RU\""
       ]
      },
      {
       "output_type": "stream",
       "stream": "stdout",
       "text": [
        "\n",
        "\"Lebedyan, Lipetsk Oblast\",\"Russia\",\"RU\""
       ]
      },
      {
       "output_type": "stream",
       "stream": "stdout",
       "text": [
        "\n",
        "\"Livny, Oryol Oblast\",\"Russia\",\"RU\""
       ]
      },
      {
       "output_type": "stream",
       "stream": "stdout",
       "text": [
        "\n",
        "\"Lubny, Poltavs'ka oblast\",\"Ukraine\",\"UA\""
       ]
      },
      {
       "output_type": "stream",
       "stream": "stdout",
       "text": [
        "\n",
        "\"Lyubim, Yaroslavl Oblast\",\"Russia\",\"RU\""
       ]
      },
      {
       "output_type": "stream",
       "stream": "stdout",
       "text": [
        "\n",
        "\"Mezen, Arkhangelsk Oblast\",\"Russia\",\"RU\""
       ]
      },
      {
       "output_type": "stream",
       "stream": "stdout",
       "text": [
        "\n",
        "\"Myrhorod, Poltavs'ka oblast\",\"Ukraine\",\"UA\""
       ]
      },
      {
       "output_type": "stream",
       "stream": "stdout",
       "text": [
        "\n",
        "\"Myropillya, Sums'ka oblast\",\"Ukraine\",\"UA\""
       ]
      },
      {
       "output_type": "stream",
       "stream": "stdout",
       "text": [
        "\n",
        "\"Mozhaysk, Moscow Oblast\",\"Russia\",\"RU\""
       ]
      },
      {
       "output_type": "stream",
       "stream": "stdout",
       "text": [
        "\n",
        "\"Mstsislaw, Mogilev Province\",\"Belarus\",\"BY\""
       ]
      },
      {
       "output_type": "stream",
       "stream": "stdout",
       "text": [
        "\n",
        "\"Narovchat, Penza Oblast\",\"Russia\",\"RU\""
       ]
      },
      {
       "output_type": "stream",
       "stream": "stdout",
       "text": [
        "\n",
        "\"Nizhny Lomov, Penza Oblast\",\"Russia\",\"RU\""
       ]
      },
      {
       "output_type": "stream",
       "stream": "stdout",
       "text": [
        "\n",
        "\"Veliky Novgorod, Novgorod Oblast\",\"Russia\",\"RU\""
       ]
      },
      {
       "output_type": "stream",
       "stream": "stdout",
       "text": [
        "\n",
        "\"Veliky Novgorod, Novgorod Oblast\",\"Russia\",\"RU\""
       ]
      },
      {
       "output_type": "stream",
       "stream": "stdout",
       "text": [
        "\n",
        "\"Novhorod-Sivers'kyi, Chernihivs'ka oblast\",\"Ukraine\",\"UA\""
       ]
      },
      {
       "output_type": "stream",
       "stream": "stdout",
       "text": [
        "\n",
        "\"Novosil, Oryol Oblast\",\"Russia\",\"RU\""
       ]
      },
      {
       "output_type": "stream",
       "stream": "stdout",
       "text": [
        "\n",
        "\"Nizhyn, Chernihivs'ka oblast\",\"Ukraine\",\"UA\""
       ]
      },
      {
       "output_type": "stream",
       "stream": "stdout",
       "text": [
        "\n",
        "\"Nizhyn, Chernihivs'ka oblast\",\"Ukraine\",\"UA\""
       ]
      },
      {
       "output_type": "stream",
       "stream": "stdout",
       "text": [
        "\n",
        "\"Orsha, Vitebsk Province\",\"Belarus\",\"BY\""
       ]
      },
      {
       "output_type": "stream",
       "stream": "stdout",
       "text": [
        "\n",
        "\"Ostrov, Pskov Oblast\",\"Russia\",\"RU\""
       ]
      },
      {
       "output_type": "stream",
       "stream": "stdout",
       "text": [
        "\n",
        "\"Pereyaslav-Khmel'nyts'kyi, Kyivs'ka oblast\",\"Ukraine\",\"UA\""
       ]
      },
      {
       "output_type": "stream",
       "stream": "stdout",
       "text": [
        "\n",
        "\"Petrovskoye, Yaroslavl Oblast\",\"Russia\",\"RU\""
       ]
      },
      {
       "output_type": "stream",
       "stream": "stdout",
       "text": [
        "\n",
        "\"Pyryatyn, Poltavs'ka oblast\",\"Ukraine\",\"UA\""
       ]
      },
      {
       "output_type": "stream",
       "stream": "stdout",
       "text": [
        "\n",
        "\"Poltava, Poltavs'ka oblast\",\"Ukraine\",\"UA\""
       ]
      },
      {
       "output_type": "stream",
       "stream": "stdout",
       "text": [
        "\n",
        "\"Polatsk, Vitebsk Region\",\"Belarus\",\"BY\""
       ]
      },
      {
       "output_type": "stream",
       "stream": "stdout",
       "text": [
        "\n",
        "\"Poshekhonye, Yaroslavl Oblast\",\"Russia\",\"RU\""
       ]
      },
      {
       "output_type": "stream",
       "stream": "stdout",
       "text": [
        "\n",
        "\"Pryluky, Chernihivs'ka oblast\",\"Ukraine\",\"UA\""
       ]
      },
      {
       "output_type": "stream",
       "stream": "stdout",
       "text": [
        "\n",
        "\"Pskov, Pskov Oblast\",\"Russia\",\"RU\""
       ]
      },
      {
       "output_type": "stream",
       "stream": "stdout",
       "text": [
        "\n",
        "\"Raha\u010do\u016d, Homiel Province\",\"Belarus\",\"BY\""
       ]
      },
      {
       "output_type": "stream",
       "stream": "stdout",
       "text": [
        "\n",
        "\"Rostov, Yaroslavl Oblast\",\"Russia\",\"RU\""
       ]
      },
      {
       "output_type": "stream",
       "stream": "stdout",
       "text": [
        "\n",
        "\"Ruza, Moscow Oblast\",\"Russia\",\"RU\""
       ]
      },
      {
       "output_type": "stream",
       "stream": "stdout",
       "text": [
        "\n",
        "\"Ruza, Penza Oblast\",\"Russia\",\"RU\""
       ]
      },
      {
       "output_type": "stream",
       "stream": "stdout",
       "text": [
        "\n",
        "\"Saransk, Mordovia\",\"Russia\",\"RU\""
       ]
      },
      {
       "output_type": "stream",
       "stream": "stdout",
       "text": [
        "\n",
        "\"Saratov, Saratov Oblast\",\"Russia\",\"RU\""
       ]
      },
      {
       "output_type": "stream",
       "stream": "stdout",
       "text": [
        "\n",
        "\"Sviyazhsk, Tatarstan\",\"Russia\",\"RU\""
       ]
      },
      {
       "output_type": "stream",
       "stream": "stdout",
       "text": [
        "\n",
        "\"Ulyanovsk, Ulyanovsk Oblast\",\"Russia\",\"RU\""
       ]
      },
      {
       "output_type": "stream",
       "stream": "stdout",
       "text": [
        "\n",
        "\"Sosnytsya, Chernihivs'ka oblast\",\"Ukraine\",\"UA\""
       ]
      },
      {
       "output_type": "stream",
       "stream": "stdout",
       "text": [
        "\n",
        "\"Bykhaw, Mogilev Province\",\"Belarus\",\"BY\""
       ]
      },
      {
       "output_type": "stream",
       "stream": "stdout",
       "text": [
        "\n",
        "\"Bykhaw, Sums'ka oblast\",\"Ukraine\",\"UA\""
       ]
      },
      {
       "output_type": "stream",
       "stream": "stdout",
       "text": [
        "\n",
        "\"Suzdal, Vladimir Oblast\",\"Russia\",\"RU\""
       ]
      },
      {
       "output_type": "stream",
       "stream": "stdout",
       "text": [
        "\n",
        "\"Tver, Tver Oblast\",\"Russia\",\"RU\""
       ]
      },
      {
       "output_type": "stream",
       "stream": "stdout",
       "text": [
        "\n",
        "\"Temnikov, Mordovia\",\"Russia\",\"RU\""
       ]
      },
      {
       "output_type": "stream",
       "stream": "stdout",
       "text": [
        "\n",
        "\"Tula, Tula Oblast\",\"Russia\",\"RU\""
       ]
      },
      {
       "output_type": "stream",
       "stream": "stdout",
       "text": [
        "\n",
        "\"Kharkiv, Kharkiv Oblast\",\"Ukraine\",\"UA\""
       ]
      },
      {
       "output_type": "stream",
       "stream": "stdout",
       "text": [
        "\n",
        "\"Chelyabinsk, Chelyabinsk Oblast\",\"Russia\",\"RU\""
       ]
      },
      {
       "output_type": "stream",
       "stream": "stdout",
       "text": [
        "\n",
        "\"\u010ceryka\u016d, Mogilev Province\",\"Belarus\",\"BY\""
       ]
      },
      {
       "output_type": "stream",
       "stream": "stdout",
       "text": [
        "\n",
        "\"Chernihiv, Chernihivs'ka oblast\",\"Ukraine\",\"UA\""
       ]
      },
      {
       "output_type": "stream",
       "stream": "stdout",
       "text": [
        "\n",
        "\"Chukhloma, Kostroma Oblast\",\"Russia\",\"RU\""
       ]
      },
      {
       "output_type": "stream",
       "stream": "stdout",
       "text": [
        "\n",
        "\"Shatsk, Ryazan Oblast\",\"Russia\",\"RU\""
       ]
      },
      {
       "output_type": "stream",
       "stream": "stdout",
       "text": [
        "\n",
        "\"Yuryevets, Ivanovo Oblast\",\"Russia\",\"RU\""
       ]
      },
      {
       "output_type": "stream",
       "stream": "stdout",
       "text": [
        "\n",
        "\"Yuryevets, Arkhangelsk Oblast\",\"Russia\",\"RU\""
       ]
      },
      {
       "output_type": "stream",
       "stream": "stdout",
       "text": [
        "\n",
        "\"Yaroslavl, Yaroslavl Oblast\",\"Russia\",\"RU\""
       ]
      },
      {
       "output_type": "stream",
       "stream": "stdout",
       "text": [
        "\n"
       ]
      }
     ],
     "prompt_number": 6
    },
    {
     "cell_type": "code",
     "collapsed": false,
     "input": [
      "import os"
     ],
     "language": "python",
     "metadata": {},
     "outputs": [],
     "prompt_number": 7
    },
    {
     "cell_type": "code",
     "collapsed": false,
     "input": [
      "os.path.exists(\"geonames_jsons/{}.json\")"
     ],
     "language": "python",
     "metadata": {},
     "outputs": [
      {
       "metadata": {},
       "output_type": "pyout",
       "prompt_number": 11,
       "text": [
        "False"
       ]
      }
     ],
     "prompt_number": 11
    }
   ],
   "metadata": {}
  }
 ]
}