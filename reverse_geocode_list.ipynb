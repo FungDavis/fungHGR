{
 "metadata": {
  "name": "",
  "signature": "sha256:8eb09bc88b10eaad07242c618f32166196981d146d499c8e78c31a0a2eed9a1e"
 },
 "nbformat": 3,
 "nbformat_minor": 0,
 "worksheets": [
  {
   "cells": [
    {
     "cell_type": "code",
     "collapsed": false,
     "input": [
      "import time, requests"
     ],
     "language": "python",
     "metadata": {},
     "outputs": [],
     "prompt_number": 1
    },
    {
     "cell_type": "code",
     "collapsed": false,
     "input": [
      "namiest = [[37.617778,55.751667],[40.533333,64.533333],[40.416667,56.133333],[39.883333,59.2],[40.416667,56.133333],[39.210556,51.671667],[28.744167,60.709167],[49.65,58.6],[35.018155,48.466601],[104.3,52.283333],[48.036667,46.323611],[49.114444,55.790833],[36.266667,54.533333],[30.523333,50.45],[40.933333,57.766667],[36.183333,51.716667],[30.35,53.916667],[44.00205,56.32867],[31.283333,58.55],[33.266667,51.983333],[34.35,61.783333],[36.066667,52.966667],[45,53.2],[56.248889,58.013889],[28.8,55.483333],[28.333333,57.816667],[24.745278,59.437222],[24.106944,56.9475],[39.716667,54.616667],[46,51.533333],[48.366667,54.316667],[32.045278,54.782778],[41.433333,52.716667],[35.921928,56.857828],[68.258056,58.195278],[37.616667,54.2],[55.966667,54.733333],[36.229167,50],[31.3,51.5],[39.85,57.616667]]\n",
      "for x in namiest:\n",
      "    url = \"https://maps.googleapis.com/maps/api/geocode/json\"\n",
      "    Q = {'latlng':\"{},{}\".format(x[1],x[0])}\n",
      "    R = requests.get(url, params=Q)\n",
      "    geo_response = R.json()\n",
      "    for component in geo_response['results'][0]['address_components']:\n",
      "        if 'locality' in component['types']:\n",
      "            locality = component['long_name']\n",
      "        elif 'administrative_area_level_1' in component['types']:\n",
      "            admin1 = component['long_name']\n",
      "        elif 'country' in component['types']:\n",
      "            country = component['long_name']\n",
      "            countryCode = component['short_name']\n",
      "    print(\"\\\"{0}, {1}\\\",\\\"{2}\\\",\\\"{3}\\\"\".format(locality,admin1,country,countryCode))\n",
      "    time.sleep(1)"
     ],
     "language": "python",
     "metadata": {},
     "outputs": []
    }
   ],
   "metadata": {}
  }
 ]
}