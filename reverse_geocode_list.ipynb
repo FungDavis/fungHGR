{
 "metadata": {
  "name": "",
  "signature": "sha256:1f3e540f7a980c6735bba8011d430f4bfd4283aba6520f0f4426a256ebeb4cd9"
 },
 "nbformat": 3,
 "nbformat_minor": 0,
 "worksheets": [
  {
   "cells": [
    {
     "cell_type": "code",
     "collapsed": false,
     "input": [
      "import time, requests"
     ],
     "language": "python",
     "metadata": {},
     "outputs": [],
     "prompt_number": 1
    },
    {
     "cell_type": "code",
     "collapsed": false,
     "input": [
      "namiest = [[46.5813,54.8421],[37.0674,54.50503],[43.83992,55.39485],[34.89879,50.31036],[30.5725,54.8351],[36.69651,57.78506],[36.13194,53.81194],[30.4122,52.9395],[38.51663,54.37445],[37.8084,60.0288],[38.1067,50.2035],[30.54517,56.34],[38.26843,54.35533],[36.17194,55.34472],[107.6,51.833333],[39.88398,59.2239],[35.96944,56.03361],[28.75283,60.70763],[33.99099,50.37112],[42.69351,56.20152],[26.53333,55.88333],[37.52041,56.34485],[39.15553,53.25155],[34.98333,48.45],[38.50169,52.62366],[38.55181,53.82526],[38.87841,54.7605],[36.85918,55.73402],[34.58935,56.17534],[37.24848,49.20875],[37.24849,49.20875],[41.39528,54.94111],[37.60806,57.35917],[38.16694,54.84444],[43.05744,53.69157],[42.12894,57.43914],[108.11194,57.78528],[30.5238,50.45466],[31.9586,53.6079],[35.77159,54.03746],[40.4907,52.8978],[38.77833,55.07944],[37.18598,50.8132],[40.92686,57.76647],[43.78963,54.4253],[36.18735,51.73733],[39.16639,53.01942],[37.60689,52.42534],[32.99694,50.01625],[40.68433,58.3625],[44.2542,65.8401],[33.60886,49.96854],[35.26233,51.023],[36.02722,55.50194],[31.7217,54.0185],[43.69458,53.87654],[43.67663,53.53041],[31.27104,58.52131],[31.27104,58.52131],[33.266667,51.983333],[37.04048,52.97387],[31.88688,51.04801],[31.88688,51.04801],[30.4172,54.5081],[28.35368,57.34395],[31.4795,50.08768],[39.26928,57.01039],[32.50621,50.24242],[34.54073,49.59373],[28.7856,55.4879],[39.13531,58.49928],[32.38761,50.59323],[28.3496,57.8136],[30.0495,53.0934],[39.41394,57.1914],[36.19522,55.69898],[44.7329,53.1783],[45.1749,54.1838],[46.00861,51.54056],[48.66051,55.77329],[48.38657,54.32824],[32.49985,51.52387],[30.2454,53.521],[33.67942,52.2405],[40.44668,56.42274],[35.90057,56.85836],[43.21483,54.63023],[37.616667,54.2],[36.25272,49.98081],[61.42915,55.15402],[31.3831,53.5689],[31.28488,51.50551],[42.68318,58.75375],[41.71191,54.02576],[43.1041,57.32007],[49.09162,62.16755],[39.87368,57.62987]]\n",
      "for x in namiest:\n",
      "    while keepgoing = True:\n",
      "        try:\n",
      "            url = \"https://maps.googleapis.com/maps/api/geocode/json\"\n",
      "            Q = {'latlng':\"{},{}\".format(x[1],x[0])}\n",
      "            R = requests.get(url, params=Q)\n",
      "            print(R.url)\n",
      "            geo_response = R.json()\n",
      "            for component in geo_response['results'][0]['address_components']:\n",
      "                if 'locality' in component['types']:\n",
      "                    locality = component['long_name']\n",
      "                elif 'administrative_area_level_1' in component['types']:\n",
      "                    admin1 = component['long_name']\n",
      "                elif 'country' in component['types']:\n",
      "                    country = component['long_name']\n",
      "                    countryCode = component['short_name']\n",
      "            print(\"\\\"{0}, {1}\\\",\\\"{2}\\\",\\\"{3}\\\"\".format(locality,admin1,country,countryCode))\n",
      "            time.sleep(1)"
     ],
     "language": "python",
     "metadata": {},
     "outputs": [
      {
       "output_type": "stream",
       "stream": "stdout",
       "text": [
        "https://maps.googleapis.com/maps/api/geocode/json?latlng=54.8421%2C46.5813\n",
        "\"Alatyr', Chuvashia Republic\",\"Russia\",\"RU\"\n",
        "https://maps.googleapis.com/maps/api/geocode/json?latlng=54.50503%2C37.0674"
       ]
      },
      {
       "output_type": "stream",
       "stream": "stdout",
       "text": [
        "\n"
       ]
      },
      {
       "ename": "IndexError",
       "evalue": "list index out of range",
       "output_type": "pyerr",
       "traceback": [
        "\u001b[1;31m---------------------------------------------------------------------------\u001b[0m\n\u001b[1;31mIndexError\u001b[0m                                Traceback (most recent call last)",
        "\u001b[1;32m<ipython-input-4-adaf805e58e6>\u001b[0m in \u001b[0;36m<module>\u001b[1;34m()\u001b[0m\n\u001b[0;32m      6\u001b[0m     \u001b[0mprint\u001b[0m\u001b[1;33m(\u001b[0m\u001b[0mR\u001b[0m\u001b[1;33m.\u001b[0m\u001b[0murl\u001b[0m\u001b[1;33m)\u001b[0m\u001b[1;33m\u001b[0m\u001b[0m\n\u001b[0;32m      7\u001b[0m     \u001b[0mgeo_response\u001b[0m \u001b[1;33m=\u001b[0m \u001b[0mR\u001b[0m\u001b[1;33m.\u001b[0m\u001b[0mjson\u001b[0m\u001b[1;33m(\u001b[0m\u001b[1;33m)\u001b[0m\u001b[1;33m\u001b[0m\u001b[0m\n\u001b[1;32m----> 8\u001b[1;33m     \u001b[1;32mfor\u001b[0m \u001b[0mcomponent\u001b[0m \u001b[1;32min\u001b[0m \u001b[0mgeo_response\u001b[0m\u001b[1;33m[\u001b[0m\u001b[1;34m'results'\u001b[0m\u001b[1;33m]\u001b[0m\u001b[1;33m[\u001b[0m\u001b[1;36m0\u001b[0m\u001b[1;33m]\u001b[0m\u001b[1;33m[\u001b[0m\u001b[1;34m'address_components'\u001b[0m\u001b[1;33m]\u001b[0m\u001b[1;33m:\u001b[0m\u001b[1;33m\u001b[0m\u001b[0m\n\u001b[0m\u001b[0;32m      9\u001b[0m         \u001b[1;32mif\u001b[0m \u001b[1;34m'locality'\u001b[0m \u001b[1;32min\u001b[0m \u001b[0mcomponent\u001b[0m\u001b[1;33m[\u001b[0m\u001b[1;34m'types'\u001b[0m\u001b[1;33m]\u001b[0m\u001b[1;33m:\u001b[0m\u001b[1;33m\u001b[0m\u001b[0m\n\u001b[0;32m     10\u001b[0m             \u001b[0mlocality\u001b[0m \u001b[1;33m=\u001b[0m \u001b[0mcomponent\u001b[0m\u001b[1;33m[\u001b[0m\u001b[1;34m'long_name'\u001b[0m\u001b[1;33m]\u001b[0m\u001b[1;33m\u001b[0m\u001b[0m\n",
        "\u001b[1;31mIndexError\u001b[0m: list index out of range"
       ]
      }
     ],
     "prompt_number": 4
    }
   ],
   "metadata": {}
  }
 ]
}