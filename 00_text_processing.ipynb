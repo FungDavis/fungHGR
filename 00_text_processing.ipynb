{
 "metadata": {
  "name": "",
  "signature": "sha256:b1df2eca20c28e405b3c84ee11eefe78fee1d7ebf7a22f26ab8808e5fee0147b"
 },
 "nbformat": 3,
 "nbformat_minor": 0,
 "worksheets": [
  {
   "cells": [
    {
     "cell_type": "markdown",
     "metadata": {},
     "source": [
      "First: Text Parsing!\n",
      "====================\n",
      "This is where the information that we want is extracted from the text we have."
     ]
    },
    {
     "cell_type": "code",
     "collapsed": false,
     "input": [
      "import re, requests"
     ],
     "language": "python",
     "metadata": {},
     "outputs": [],
     "prompt_number": 79
    },
    {
     "cell_type": "code",
     "collapsed": false,
     "input": [
      "import os\n",
      "def Ensure_dir(d):\n",
      "    \"\"\"Makes sure a directory 'd' exists, and if it doesn't, it creates one.\"\"\"\n",
      "    if not os.path.exists(d):\n",
      "        os.makedirs(d)\n",
      "    return 0"
     ],
     "language": "python",
     "metadata": {},
     "outputs": [],
     "prompt_number": 80
    },
    {
     "cell_type": "code",
     "collapsed": false,
     "input": [
      "def open_texts(file_start_str,first,last):\n",
      "    \"\"\"Creates a dictionary from a set of .htm files.\n",
      "    Assumes all have the same starting string immediately followed by a page number.\n",
      "    Returns a dictionary with page numbers as keys and page contents as values.\"\"\"\n",
      "    out_dict = {}\n",
      "    for i in range(first,last+1):\n",
      "        with open(\"{}{}.htm\".format(file_start_str,i),encoding=\"utf-8\") as htmfile:\n",
      "            out_dict[i] = htmfile.read()\n",
      "    return out_dict"
     ],
     "language": "python",
     "metadata": {},
     "outputs": [],
     "prompt_number": 81
    },
    {
     "cell_type": "markdown",
     "metadata": {},
     "source": [
      "Creating a dictionary called `market_text` and filling it out with key/value pairs corresponding to page numbers and page texts."
     ]
    },
    {
     "cell_type": "code",
     "collapsed": false,
     "input": [
      "market_text = open_texts(\"html/slovar\",10,99)\n",
      "market_text.update(open_texts(\"html/slovar\",102,133)) #skiping page 100-101, no text present"
     ],
     "language": "python",
     "metadata": {},
     "outputs": [],
     "prompt_number": 82
    },
    {
     "cell_type": "markdown",
     "metadata": {},
     "source": [
      "Cleanup cell. Currently fixing some common capitalization errors, and replacing nbsp's with normal spaces."
     ]
    },
    {
     "cell_type": "code",
     "collapsed": false,
     "input": [
      "for p in market_text.keys():\n",
      "    #Capitalization fixes\n",
      "    market_text[p] = re.sub(r\"([> ])\u0412\u042a\",r\"\\1\u0412\u044a\",market_text[p])\n",
      "    market_text[p] = re.sub(r\"([\u0430-\u044f\u0456\u0463\u0473]+)(\u0462)\",r\"\\1\u0463\",market_text[p])\n",
      "    market_text[p] = re.sub(r\"(\u0462)([\u0430-\u044f\u0456\u0463\u0473]+)\",r\"\u0463\\2\",market_text[p])\n",
      "    market_text[p] = re.sub(r\"([\u0430-\u044f\u0456\u0463\u0473]+)(\u042a)\",r\"\\1\u044a\",market_text[p])\n",
      "    #nbsp to normal space\n",
      "    market_text[p] = re.sub(\"&nbsp;\",\" \",market_text[p])"
     ],
     "language": "python",
     "metadata": {},
     "outputs": [],
     "prompt_number": 83
    },
    {
     "cell_type": "code",
     "collapsed": false,
     "input": [
      "def extract_placenames(text_dict):\n",
      "    \"\"\"\n",
      "    Finds placenames, which should be capitalized and at the beginning of paragraphs in text.\n",
      "    Returns dict with name, descriptive text, and page number.\n",
      "    Currently specific to working text\n",
      "    \"\"\"\n",
      "    out_dict = {}\n",
      "    last_entry = \"\"\n",
      "    counter = 1\n",
      "    pages = list(text_dict.keys())\n",
      "    pages.sort()\n",
      "    for p in pages:\n",
      "        # finds trailing descriptions at beginning of page, appends to last entry on previous page.\n",
      "        trail = re.findall(\"<body>\\n<p><span class=\\\"font0\\\">(.*)</span></p>\",text_dict[p])\n",
      "        if len(trail)>0 and len(re.findall(\"^([\u0410-\u042f\u0406\u0462\u0472 .-]+)[<, ]\",trail[0]))==0:\n",
      "            out_dict[last_entry]['description']+=trail[0]\n",
      "        # finds all place names on page, captures descriptions as well. puts into dictionary with name as key and desc as value.\n",
      "        places = re.findall(\">(([\u0410-\u042f\u0406\u0462\u0472 .-]+)[<, ].*)</p>\",text_dict[p])\n",
      "        if len(places)>0:\n",
      "            for v in places:\n",
      "                placename = v[1].strip()\n",
      "                out_dict[counter] = {'ru_old_orth':placename,'description':v[0],'page':p}\n",
      "                counter+=1\n",
      "            last_entry = counter-1\n",
      "    return out_dict"
     ],
     "language": "python",
     "metadata": {},
     "outputs": [],
     "prompt_number": 84
    },
    {
     "cell_type": "code",
     "collapsed": false,
     "input": [
      "market_towns = extract_placenames(market_text) # creating dict market_towns to hold individual place info.\n",
      "market_towns.pop(1,None) #Known extraneous hit at beginning of doc, removed.\n",
      "market_towns.pop(2,None) #Known extraneous hit at beginning of doc, removed."
     ],
     "language": "python",
     "metadata": {},
     "outputs": [
      {
       "metadata": {},
       "output_type": "pyout",
       "prompt_number": 85,
       "text": [
        "{'page': 10,\n",
        " 'description': '\u042f\u0420\u041c\u0410\u0420\u041e\u041a\u042a \u0438 \u0422\u041e\u0420\u0413\u041e\u0412\u042a.</span>',\n",
        " 'ru_old_orth': '\u042f\u0420\u041c\u0410\u0420\u041e\u041a\u042a'}"
       ]
      }
     ],
     "prompt_number": 85
    },
    {
     "cell_type": "markdown",
     "metadata": {},
     "source": [
      "In this cell, we're looking for town types, which will be in italics. We're also looking for administrative divisions based on their titles, both Namiestnichestva and uezd."
     ]
    },
    {
     "cell_type": "code",
     "collapsed": false,
     "input": [
      "from lxml import html\n",
      "def strip_html(text):\n",
      "    return html.fromstring(text).text_content()"
     ],
     "language": "python",
     "metadata": {},
     "outputs": [],
     "prompt_number": 86
    },
    {
     "cell_type": "code",
     "collapsed": false,
     "input": [
      "for t in market_towns:\n",
      "    try:\n",
      "        if \"\u0427\u0410\u0421\u041e\u0412\u041d\u042f\" in market_towns[t]['ru_old_orth']:\n",
      "            town_type = '\u0447\u0430\u0446\u043e\u0432\u043d\u044f'\n",
      "        else:\n",
      "            town_type = re.findall(\"italic;\\\">([[\u0410-\u042f\u0406\u0462\u0472\u0430-\u044f\u0456\u0463\u0473, ]+)</span>\",market_towns[t]['description'])[0]\n",
      "        town_type = town_type.strip(\", \")\n",
      "        txt = market_towns[t]['description']\n",
      "        txt = strip_html(txt)\n",
      "        try:\n",
      "            # regex to find governorships, not all will have these, but the vast majority should.\n",
      "            ru_prov = re.findall(\">?([\u0410-\u042f\u0406\u0462\u0472\u0430-\u044f\u0463\u0456, -]*\u041d\u0430(?:\u043c\u0463){0,1}\u0441\u0442\u043d\u0438\u0447[\u0430\u0435\u043b]\u0441\u0442\u0432[\u0430\u0463](?: \u0441\u0435\u0433\u043e \u0438\u043c\u0435\u043d\u0438){0,1})\",market_towns[t]['description'])[0].strip()\n",
      "        except IndexError:\n",
      "            try:\n",
      "                # regex to find gubernii, for St. Pete and Moscow\n",
      "                ru_prov = re.findall(\">[ ]*([\u0410-\u042f\u0406\u0462\u0472\u0430-\u044f\u0463\u0456,.]+(?: [\u0410-\u042f\u0406\u0462\u0472\u0430-\u044f\u0463\u0456,]+){0,1}\\s+\u0413\u0443\u0431\u0435\u0440\u043d\u0456\u0438)\",market_towns[t]['description'])[0].strip()\n",
      "            except IndexError:\n",
      "                ru_prov = 'not_in_text'\n",
      "        #Attempting to find two different variations on appearance of uyezd\n",
      "        if len(re.findall(r\"[\u0412\u0432][\u042a\u044a] \u0443\u0463\u0437\u0434[\u0443\u0463] \u0433\u043e\u0440\u043e\u0434\u0430 ([\u0410-\u042f\u0406\u0462\u0472\u0430-\u044f\u0463\u0456-]+)\",txt)) != 0: # Looks like \"\u0432\u044a \u0443\u0463\u0437\u0434\u0463 \u0433\u043e\u0440\u043e\u0434\u0430 (name)\"\n",
      "            ru_uezd = re.findall(r\"[\u0412\u0432][\u042a\u044a]\\s+\u0443\u0463\u0437\u0434[\u0443\u0463]\\s+\u0433\u043e\u0440\u043e\u0434\u0430\\s+([\u0410-\u042f\u0406\u0462\u0472\u0430-\u044f\u0463\u0456-]+)\",txt)[0].strip()\n",
      "        else:\n",
      "            try:\n",
      "                ru_uezd = re.findall(r\"([\u0410-\u042f\u0406\u0462\u0472\u0430-\u044f\u0463\u0456]+\\s+\u0443\u0463\u0437\u0434[\u0443\u0463])\",txt)[0].strip() # Looks like \"(name) \u0443\u0463\u0437\u0434\u0463\"\n",
      "            except IndexError:\n",
      "                ru_uezd = 'not_in_text'\n",
      "        #Finding alternate names presented in text\n",
      "        if len(re.findall(r\",([\u0410-\u042f\u0406\u0462\u0472 -]+) \u0442\u043e\u0436\u044c\",txt)) != 0:\n",
      "            alt_name = re.findall(r\",([\u0410-\u042f\u0406\u0462\u0472 -]+) \u0442\u043e\u0436\u044c\",txt)[0].strip() # Looks like \"(name) \u0442\u043e\u0436\u044c\"\n",
      "        else:\n",
      "            if len(re.findall(r\"\u0438\u043b\u0438 ([\u0410-\u042f\u0406\u0462\u0472]+)\",txt)) != 0:\n",
      "                alt_name = re.findall(r\"\u0438\u043b\u0438 ([\u0410-\u042f\u0406\u0462\u0472]+)\",txt)[0] # Looks like \"\u0438\u043b\u0438 (name)\"\n",
      "            else:\n",
      "                alt_name = None\n",
      "        market_towns[t]['alt_name_old_orth']=alt_name\n",
      "        market_towns[t]['ru_old_featuretype']=town_type\n",
      "        market_towns[t]['ru_prov']=ru_prov\n",
      "        market_towns[t]['ru_uezd']=ru_uezd\n",
      "    except IndexError:\n",
      "        print(t)"
     ],
     "language": "python",
     "metadata": {},
     "outputs": [],
     "prompt_number": 87
    },
    {
     "cell_type": "markdown",
     "metadata": {},
     "source": [
      "Pandas!\n",
      "=======\n",
      "Everything has now been put into a pandas dataframe, so no more dicts!\n",
      "Still doing some text parsing and cleanup, but based on the data that we've collected, not the text."
     ]
    },
    {
     "cell_type": "code",
     "collapsed": false,
     "input": [
      "import pandas as pd\n",
      "import numpy as np"
     ],
     "language": "python",
     "metadata": {},
     "outputs": [],
     "prompt_number": 88
    },
    {
     "cell_type": "code",
     "collapsed": false,
     "input": [
      "# creation of pandas dataframe based on previously created dict.\n",
      "market_df = pd.DataFrame.from_dict(market_towns,orient=\"index\")\n",
      "market_df = market_df[['ru_old_orth','alt_name_old_orth','ru_old_featuretype','ru_prov','ru_uezd','description','page']]\n",
      "market_df.head()"
     ],
     "language": "python",
     "metadata": {},
     "outputs": [
      {
       "html": [
        "<div style=\"max-height:1000px;max-width:1500px;overflow:auto;\">\n",
        "<table border=\"1\" class=\"dataframe\">\n",
        "  <thead>\n",
        "    <tr style=\"text-align: right;\">\n",
        "      <th></th>\n",
        "      <th>ru_old_orth</th>\n",
        "      <th>alt_name_old_orth</th>\n",
        "      <th>ru_old_featuretype</th>\n",
        "      <th>ru_prov</th>\n",
        "      <th>ru_uezd</th>\n",
        "      <th>description</th>\n",
        "      <th>page</th>\n",
        "    </tr>\n",
        "  </thead>\n",
        "  <tbody>\n",
        "    <tr>\n",
        "      <th>3</th>\n",
        "      <td>  \u0410\u0412\u0414\u0423\u041b\u041e\u0412\u041e</td>\n",
        "      <td> \u0418\u0412\u0410\u041d\u041e\u0412\u0421\u041a\u041e\u0415</td>\n",
        "      <td>      \u0441\u0435\u043b\u043e</td>\n",
        "      <td>     \u0420\u044f\u0437\u0430\u043d\u0441\u043a\u0430\u0433\u043e \u041d\u0430\u043c\u0463\u0441\u0442\u043d\u0438\u0447\u0435\u0441\u0442\u0432\u0430</td>\n",
        "      <td>   \u0414\u043e\u043d\u043a\u043e\u0432\u0441\u043a\u043e\u043c\u044a \u0443\u0463\u0437\u0434\u0463</td>\n",
        "      <td> \u0410\u0412\u0414\u0423\u041b\u041e\u0412\u041e, \u0418\u0412\u0410\u041d\u041e\u0412\u0421\u041a\u041e\u0415 \u0442\u043e\u0436\u044c, &lt;/span&gt;&lt;span class=...</td>\n",
        "      <td> 10</td>\n",
        "    </tr>\n",
        "    <tr>\n",
        "      <th>4</th>\n",
        "      <td> \u0410\u0412\u0416\u0415\u041d\u0421\u041a\u0410\u042f</td>\n",
        "      <td>       None</td>\n",
        "      <td>   \u0432\u043e\u043b\u043e\u0441\u0442\u044c</td>\n",
        "      <td>   \u0412\u043e\u043b\u043e\u0433\u043e\u0434\u0441\u043a\u0430\u0433\u043e \u041d\u0430\u043c\u0463\u0441\u0442\u043d\u0438\u0447\u0435\u0441\u0442\u0432\u0430</td>\n",
        "      <td>             \u0438 \u0443\u0463\u0437\u0434\u0443</td>\n",
        "      <td> \u0410\u0412\u0416\u0415\u041d\u0421\u041a\u0410\u042f , &lt;/span&gt;&lt;span class=\"font0\" style=\"...</td>\n",
        "      <td> 10</td>\n",
        "    </tr>\n",
        "    <tr>\n",
        "      <th>5</th>\n",
        "      <td> \u0410\u0412\u0420\u0410\u041c\u0406\u0415\u0412\u042a</td>\n",
        "      <td>       None</td>\n",
        "      <td> \u043c\u043e\u043d\u0430\u0441\u0442\u044b\u0440\u044c</td>\n",
        "      <td>   \u041a\u043e\u0441\u0442\u0440\u043e\u043c\u0441\u043a\u0430\u0433\u043e \u041d\u0430\u043c\u0463\u0441\u0442\u043d\u0438\u0447\u0435\u0441\u0442\u0432\u0430</td>\n",
        "      <td>         not_in_text</td>\n",
        "      <td> \u0410\u0412\u0420\u0410\u041c\u0406\u0415\u0412\u042a&lt;/span&gt;&lt;span class=\"font0\" style=\"fon...</td>\n",
        "      <td> 10</td>\n",
        "    </tr>\n",
        "    <tr>\n",
        "      <th>6</th>\n",
        "      <td> \u0410\u0414\u041e\u0412\u0410\u0422\u041e\u0412\u041e</td>\n",
        "      <td>       None</td>\n",
        "      <td>      \u0441\u0435\u043b\u043e</td>\n",
        "      <td> \u041d\u0438\u0436\u0435\u0433\u043e\u0440\u043e\u0434\u0441\u043a\u0430\u0433\u043e \u041d\u0430\u043c\u0463\u0441\u0442\u043d\u0438\u0447\u0435\u0441\u0442\u0432\u0430</td>\n",
        "      <td>   \u0410\u0440\u0437\u0430\u043c\u0430\u0441\u043a\u043e\u043c\u044a \u0443\u0463\u0437\u0434\u0463</td>\n",
        "      <td> \u0410\u0414\u041e\u0412\u0410\u0422\u041e\u0412\u041e, &lt;/span&gt;&lt;span class=\"font0\" style=\"f...</td>\n",
        "      <td> 10</td>\n",
        "    </tr>\n",
        "    <tr>\n",
        "      <th>7</th>\n",
        "      <td>    \u0410\u041a\u0421\u0415\u041b\u042c</td>\n",
        "      <td>       None</td>\n",
        "      <td>      \u0441\u0435\u043b\u043e</td>\n",
        "      <td>    \u0422\u0430\u043c\u0431\u043e\u0432\u0441\u043a\u0430\u0433\u043e \u041d\u0430\u043c\u0463\u0441\u0442\u043d\u0438\u0447\u0435\u0441\u0442\u0432\u0430</td>\n",
        "      <td> \u0422\u0435\u043c\u043d\u0438\u043a\u043e\u0432\u0441\u043a\u043e\u043c\u044a \u0443\u0463\u0437\u0434\u0463</td>\n",
        "      <td> \u0410\u041a\u0421\u0415\u041b\u042c, &lt;/span&gt;&lt;span class=\"font0\" style=\"font...</td>\n",
        "      <td> 10</td>\n",
        "    </tr>\n",
        "  </tbody>\n",
        "</table>\n",
        "</div>"
       ],
       "metadata": {},
       "output_type": "pyout",
       "prompt_number": 89,
       "text": [
        "  ru_old_orth alt_name_old_orth ru_old_featuretype  \\\n",
        "3    \u0410\u0412\u0414\u0423\u041b\u041e\u0412\u041e        \u0418\u0412\u0410\u041d\u041e\u0412\u0421\u041a\u041e\u0415               \u0441\u0435\u043b\u043e   \n",
        "4   \u0410\u0412\u0416\u0415\u041d\u0421\u041a\u0410\u042f              None            \u0432\u043e\u043b\u043e\u0441\u0442\u044c   \n",
        "5   \u0410\u0412\u0420\u0410\u041c\u0406\u0415\u0412\u042a              None          \u043c\u043e\u043d\u0430\u0441\u0442\u044b\u0440\u044c   \n",
        "6   \u0410\u0414\u041e\u0412\u0410\u0422\u041e\u0412\u041e              None               \u0441\u0435\u043b\u043e   \n",
        "7      \u0410\u041a\u0421\u0415\u041b\u042c              None               \u0441\u0435\u043b\u043e   \n",
        "\n",
        "                         ru_prov              ru_uezd  \\\n",
        "3      \u0420\u044f\u0437\u0430\u043d\u0441\u043a\u0430\u0433\u043e \u041d\u0430\u043c\u0463\u0441\u0442\u043d\u0438\u0447\u0435\u0441\u0442\u0432\u0430    \u0414\u043e\u043d\u043a\u043e\u0432\u0441\u043a\u043e\u043c\u044a \u0443\u0463\u0437\u0434\u0463   \n",
        "4    \u0412\u043e\u043b\u043e\u0433\u043e\u0434\u0441\u043a\u0430\u0433\u043e \u041d\u0430\u043c\u0463\u0441\u0442\u043d\u0438\u0447\u0435\u0441\u0442\u0432\u0430              \u0438 \u0443\u0463\u0437\u0434\u0443   \n",
        "5    \u041a\u043e\u0441\u0442\u0440\u043e\u043c\u0441\u043a\u0430\u0433\u043e \u041d\u0430\u043c\u0463\u0441\u0442\u043d\u0438\u0447\u0435\u0441\u0442\u0432\u0430          not_in_text   \n",
        "6  \u041d\u0438\u0436\u0435\u0433\u043e\u0440\u043e\u0434\u0441\u043a\u0430\u0433\u043e \u041d\u0430\u043c\u0463\u0441\u0442\u043d\u0438\u0447\u0435\u0441\u0442\u0432\u0430    \u0410\u0440\u0437\u0430\u043c\u0430\u0441\u043a\u043e\u043c\u044a \u0443\u0463\u0437\u0434\u0463   \n",
        "7     \u0422\u0430\u043c\u0431\u043e\u0432\u0441\u043a\u0430\u0433\u043e \u041d\u0430\u043c\u0463\u0441\u0442\u043d\u0438\u0447\u0435\u0441\u0442\u0432\u0430  \u0422\u0435\u043c\u043d\u0438\u043a\u043e\u0432\u0441\u043a\u043e\u043c\u044a \u0443\u0463\u0437\u0434\u0463   \n",
        "\n",
        "                                         description  page  \n",
        "3  \u0410\u0412\u0414\u0423\u041b\u041e\u0412\u041e, \u0418\u0412\u0410\u041d\u041e\u0412\u0421\u041a\u041e\u0415 \u0442\u043e\u0436\u044c, </span><span class=...    10  \n",
        "4  \u0410\u0412\u0416\u0415\u041d\u0421\u041a\u0410\u042f , </span><span class=\"font0\" style=\"...    10  \n",
        "5  \u0410\u0412\u0420\u0410\u041c\u0406\u0415\u0412\u042a</span><span class=\"font0\" style=\"fon...    10  \n",
        "6  \u0410\u0414\u041e\u0412\u0410\u0422\u041e\u0412\u041e, </span><span class=\"font0\" style=\"f...    10  \n",
        "7  \u0410\u041a\u0421\u0415\u041b\u042c, </span><span class=\"font0\" style=\"font...    10  "
       ]
      }
     ],
     "prompt_number": 89
    },
    {
     "cell_type": "code",
     "collapsed": false,
     "input": [
      "#pd.options.display.max_colwidth = 1000 #sets column width to 1000, should display entire description in df display when run."
     ],
     "language": "python",
     "metadata": {},
     "outputs": [],
     "prompt_number": 90
    },
    {
     "cell_type": "code",
     "collapsed": false,
     "input": [
      "#These are false positives for uyezdi, they mention counties elsewhere in the description\n",
      "market_df.ru_uezd = market_df.ru_uezd.replace(r'[\u0432\u0412]\u044a \u0443\u0463\u0437\u0434\u0463','not_in_text',regex=True)\n",
      "market_df.ru_uezd = market_df.ru_uezd.replace(r'\u0438\u0437\u044a \u0443\u0463\u0437\u0434\u0443','not_in_text',regex=True)"
     ],
     "language": "python",
     "metadata": {},
     "outputs": [],
     "prompt_number": 91
    },
    {
     "cell_type": "markdown",
     "metadata": {},
     "source": [
      "Adding URLs to link to Hathi Trust"
     ]
    },
    {
     "cell_type": "code",
     "collapsed": false,
     "input": [
      "market_df['SOURCE'] = market_df.page.apply(lambda x: \"http://babel.hathitrust.org/cgi/pt?id=uc1.b4583201;view=1up;seq={}\".format(x-1))"
     ],
     "language": "python",
     "metadata": {},
     "outputs": [],
     "prompt_number": 92
    },
    {
     "cell_type": "markdown",
     "metadata": {},
     "source": [
      "Some admin cleanup\n",
      "==================\n",
      "Here's a bit more housekeeping, replacing parts of administrative unit names that don't carry meaning, dealing with variant spellings, and getting rid of html in text descriptions"
     ]
    },
    {
     "cell_type": "code",
     "collapsed": false,
     "input": [
      "# Replacing parts of names that don't carry meaning\n",
      "market_df.ru_prov = market_df.ru_prov.replace('\u0413\u0440\u0430\u0444\u0430 \u0412\u043e\u0440\u043e\u043d\u0446\u043e\u0432\u0430 ','',regex=True) #a count of an area\n",
      "market_df.ru_prov = market_df.ru_prov.replace('\u0413\u0440\u0430\u0444\u0430 \u0428\u0435\u0440\u0435\u043c\u0435\u0442\u0435\u0432\u0430, ','',regex=True) #a count of an area\n",
      "market_df.ru_prov = market_df.ru_prov.replace('\u0413\u0440\u0430\u0444\u0430 \u0413\u0435\u043d\u0434\u0440\u0438\u043a\u043e\u0432\u0430 \u0432\u044a ','',regex=True) #a count of an area\n",
      "market_df.ru_prov = market_df.ru_prov.replace('\u041d\u0435\u043f\u043b\u044e\u0435\u0432\u044b\u0445\u044a, ','',regex=True) #a count of an area\n",
      "market_df.ru_prov = market_df.ru_prov.replace('\u0440\u0430\u0437\u043d\u044b\u0445\u044a \u041f\u043e\u043c\u0463\u0449\u0438\u043a\u043e\u0432\u044a ','',regex=True) #different landlords\n",
      "market_df.ru_prov = market_df.ru_prov.replace('\u0440\u0430\u0437\u043d\u044b\u0445\u044a \u0413\u043e\u0441\u043f\u043e\u0434\u044a ','',regex=True) #various gentlemen\n",
      "market_df.ru_prov = market_df.ru_prov.replace('\u041c\u0435\u043d\u044c\u0448\u0438\u043a\u043e\u0432\u0430 \u0432\u044a ','',regex=True)\n",
      "market_df.ru_prov = market_df.ru_prov.replace('\u041d\u0435\u043f\u043b\u044e\u0435-\u0432\u044b\u0445\u044a, ','',regex=True)\n",
      "market_df.ru_prov = market_df.ru_prov.replace('\u0443\u0440\u0430\u043b\u044c\u0441\u043a\u0438\u0445\u044a \u041a\u043e\u0437\u0430\u043a\u043e\u0432\u044a \u0432\u044a ','',regex=True) #of the Ural Cossacks\n",
      "market_df.ru_prov = market_df.ru_prov.replace('\u0443\u0440\u043e\u0447\u0438\u0449\u0463 \u0421\u043e\u0431\u043e\u0440\u0430 \u041d\u0438\u043a\u043e\u043b\u0430\u044f \u0427\u0443\u0434\u043e\u0442\u0432\u043e\u0440\u0446\u0430 \u0413\u043e\u0441\u0442\u0443\u043d\u0441\u043a\u0430\u0433\u043e, ','',regex=True) #In the tract of the Cathedral of St. Nicholas Gostunskii\n",
      "market_df.ru_prov = market_df.ru_prov.replace(' \u0436\u0435','',regex=True)\n",
      "market_df.ru_prov = market_df.ru_prov.replace(r'^[\u0412\u0432]\u044a ','',regex=True)"
     ],
     "language": "python",
     "metadata": {},
     "outputs": [],
     "prompt_number": 93
    },
    {
     "cell_type": "code",
     "collapsed": false,
     "input": [
      "#market_df.ix[market_df.ru_prov=='\u041d\u0435\u043f\u043b\u044e\u0435\u0432\u044b\u0445\u044a, \u0427\u0435\u0440\u043d\u0438\u0433\u043e\u0432\u0441\u043a\u0430\u0433\u043e \u041d\u0430\u043c\u0463\u0441\u0442\u043d\u0438\u0447\u0435\u0441\u0442\u0432\u0430']"
     ],
     "language": "python",
     "metadata": {},
     "outputs": [],
     "prompt_number": 94
    },
    {
     "cell_type": "code",
     "collapsed": false,
     "input": [
      "market_df.ru_prov.unique()\n",
      "#Use this output to spot check Namiestnichestva for errors"
     ],
     "language": "python",
     "metadata": {},
     "outputs": [
      {
       "metadata": {},
       "output_type": "pyout",
       "prompt_number": 95,
       "text": [
        "array(['\u0420\u044f\u0437\u0430\u043d\u0441\u043a\u0430\u0433\u043e \u041d\u0430\u043c\u0463\u0441\u0442\u043d\u0438\u0447\u0435\u0441\u0442\u0432\u0430', '\u0412\u043e\u043b\u043e\u0433\u043e\u0434\u0441\u043a\u0430\u0433\u043e \u041d\u0430\u043c\u0463\u0441\u0442\u043d\u0438\u0447\u0435\u0441\u0442\u0432\u0430',\n",
        "       '\u041a\u043e\u0441\u0442\u0440\u043e\u043c\u0441\u043a\u0430\u0433\u043e \u041d\u0430\u043c\u0463\u0441\u0442\u043d\u0438\u0447\u0435\u0441\u0442\u0432\u0430', '\u041d\u0438\u0436\u0435\u0433\u043e\u0440\u043e\u0434\u0441\u043a\u0430\u0433\u043e \u041d\u0430\u043c\u0463\u0441\u0442\u043d\u0438\u0447\u0435\u0441\u0442\u0432\u0430',\n",
        "       '\u0422\u0430\u043c\u0431\u043e\u0432\u0441\u043a\u0430\u0433\u043e \u041d\u0430\u043c\u0463\u0441\u0442\u043d\u0438\u0447\u0435\u0441\u0442\u0432\u0430', '\u0421\u0438\u043d\u0431\u0438\u0440\u0441\u043a\u0430\u0433\u043e \u041d\u0430\u043c\u0463\u0441\u0442\u043d\u0438\u0447\u0435\u0441\u0442\u0432\u0430',\n",
        "       '\u042f\u0440\u043e\u0441\u043b\u0430\u0432\u0441\u043a\u0430\u0433\u043e \u041d\u0430\u043c\u0463\u0441\u0442\u043d\u0438\u0447\u0435\u0441\u0442\u0432\u0430', '\u041f\u0435\u043d\u0437\u0435\u043d\u0441\u043a\u0430\u0433\u043e \u041d\u0430\u043c\u0463\u0441\u0442\u043d\u0438\u0447\u0435\u0441\u0442\u0432\u0430',\n",
        "       '\u0422\u0443\u043b\u044c\u0441\u043a\u0430\u0433\u043e \u041d\u0430\u043c\u0463\u0441\u0442\u043d\u0438\u0447\u0435\u0441\u0442\u0432\u0430', '\u0412\u043e\u0440\u043e\u043d\u0435\u0436\u0441\u043a\u043e\u043c\u044a \u041d\u0430\u043c\u0463\u0441\u0442\u043d\u0438\u0447\u0435\u0441\u0442\u0432\u0463',\n",
        "       '\u0415\u043a\u0430\u0442\u0435\u0440\u0438\u043d\u043e\u0441\u043b\u0430\u0432\u0441\u043a\u0430\u0433\u043e \u041d\u0430\u043c\u0463\u0441\u0442\u043d\u0438\u0447\u0435\u0441\u0442\u0432\u0430', '\u041a\u0443\u0440\u0441\u043a\u0430\u0433\u043e \u041d\u0430\u043c\u0463\u0441\u0442\u043d\u0438\u0447\u0435\u0441\u0442\u0432\u0430',\n",
        "       '\u0425\u0430\u0440\u044c\u043a\u043e\u0432\u0441\u043a\u0430\u0433\u043e \u041d\u0430\u043c\u0463\u0441\u0442\u043d\u0438\u0447\u0435\u0441\u0442\u0432\u0430', '\u041c\u043e\u0433\u0438\u043b\u0435\u0432\u0441\u043a\u0430\u0433\u043e \u041d\u0430\u043c\u0463\u0441\u0442\u043d\u0438\u0447\u0435\u0441\u0442\u0432\u0430',\n",
        "       '\u041e\u0440\u043b\u043e\u0432\u0441\u043a\u0430\u0433\u043e \u041d\u0430\u043c\u0463\u0441\u0442\u043d\u0438\u0447\u0435\u0441\u0442\u0432\u0430', '\u041d\u0430\u043c\u0463\u0441\u0442\u043d\u0438\u0447\u0435\u0441\u0442\u0432\u0430 \u0441\u0435\u0433\u043e \u0438\u043c\u0435\u043d\u0438',\n",
        "       '\u041a\u0430\u0432\u043a\u0430\u0437\u0441\u043a\u0430\u0433\u043e \u041d\u0430\u043c\u0463\u0441\u0442\u043d\u0438\u0447\u0435\u0441\u0442\u0432\u0430', '\u0421\u0430\u0440\u0430\u0442\u043e\u0432\u0441\u043a\u0430\u0433\u043e \u041d\u0430\u043c\u0463\u0441\u0442\u043d\u0438\u0447\u0435\u0441\u0442\u0432\u0430',\n",
        "       'not_in_text', '\u041a\u0456\u0435\u0432\u0441\u043a\u0430\u0433\u043e \u041d\u0430\u043c\u0463\u0441\u0442\u043d\u0438\u0447\u0435\u0441\u0442\u0432\u0430', '\u0442\u043e\u0433\u043e \u041d\u0430\u043c\u0463\u0441\u0442\u043d\u0438\u0447\u0435\u0441\u0442\u0432\u0430',\n",
        "       '\u041d\u043e\u0432\u043e\u0433\u043e\u0440\u043e\u0434\u0441\u043a\u0430\u0433\u043e - \u0421\u0463\u0432\u0435\u0440\u0441\u043a\u0430\u0433\u043e \u041d\u0430\u043c\u0463\u0441\u0442\u043d\u0438\u0447\u0435\u0441\u0442\u0432\u0430',\n",
        "       '\u0415\u043a\u0430\u0442\u0435\u0440\u0438\u043d\u043e\u0441\u043b\u0430\u0432\u0441\u043a\u043e\u043c\u044a \u041d\u0430\u043c\u0463\u0441\u0442\u043d\u0438\u0447\u0435\u0441\u0442\u0432\u0463', '\u0427\u0435\u0440\u043d\u0438\u0433\u043e\u0432\u0441\u043a\u0430\u0433\u043e \u041d\u0430\u043c\u0463\u0441\u0442\u043d\u0438\u0447\u0435\u0441\u0442\u0432\u0430',\n",
        "       '\u0421\u0430\u0440\u0430\u0442\u043e\u0432\u0441\u043a\u043e\u043c\u044a \u041d\u0430\u043c\u0463\u0441\u0442\u043d\u0438\u0447\u0435\u0441\u0442\u0432\u0463', '\u0422\u043e\u0431\u043e\u043b\u044c\u0441\u043a\u0430\u0433\u043e \u041d\u0430\u043c\u0463\u0441\u0442\u043d\u0438\u0447\u0435\u0441\u0442\u0432\u0430',\n",
        "       '\u041c\u043e\u0441\u043a\u043e\u0432\u0441\u043a\u043e\u0439 \u0413\u0443\u0431\u0435\u0440\u043d\u0456\u0438', '\u041a\u0430\u0437\u0430\u043d\u0441\u043a\u0430\u0433\u043e \u041d\u0430\u043c\u0463\u0441\u0442\u043d\u0438\u0447\u0435\u0441\u0442\u0432\u0430',\n",
        "       '\u041f\u043e\u043b\u043e\u0442\u0441\u043a\u0430\u0433\u043e \u041d\u0430\u043c\u0463\u0441\u0442\u043d\u0438\u0447\u0435\u0441\u0442\u0432\u0430', '\u0410\u0440\u0445\u0430\u043d\u0433\u0435\u043b\u044c\u0441\u043a\u043e\u043c\u044a \u041d\u0430\u043c\u0463\u0441\u0442\u043d\u0438\u0447\u0435\u0441\u0442\u0432\u0463',\n",
        "       '\u041f\u0435\u0440\u043c\u0441\u043a\u0430\u0433\u043e \u041d\u0430\u043c\u0463\u0441\u0442\u043d\u0438\u0447\u0435\u0441\u0442\u0432\u0430', '\u0423\u0444\u0438\u043c\u0441\u043a\u0430\u0433\u043e \u041d\u0430\u043c\u0463\u0441\u0442\u043d\u0438\u0447\u0435\u0441\u0442\u0432\u0430',\n",
        "       '\u0412\u043b\u0430\u0434\u0438\u043c\u0435\u0440\u0441\u043a\u0430\u0433\u043e \u041d\u0430\u043c\u0463\u0441\u0442\u043d\u0438\u0447\u0435\u0441\u0442\u0432\u0430', '\u0422\u0432\u0435\u0440\u0441\u043a\u0430\u0433\u043e \u041d\u0430\u043c\u0463\u0441\u0442\u043d\u0438\u0447\u0435\u0441\u0442\u0432\u0430',\n",
        "       '\u0421\u0438\u043d\u0431\u0438\u0440\u0441\u043a\u043e\u043c\u044a \u041d\u0430\u043c\u0463\u0441\u0442\u043d\u0438\u0447\u0435\u0441\u0442\u0432\u0463', '\u041d\u043e\u0432\u043e\u0433\u043e\u0440\u043e\u0434\u0441\u043a\u0430\u0433\u043e \u041d\u0430\u043c\u0463\u0441\u0442\u043d\u0438\u0447\u0435\u0441\u0442\u0432\u0430',\n",
        "       '\u041a\u0430\u043b\u0443\u0436\u0441\u043a\u0430\u0433\u043e \u041d\u0430\u043c\u0463\u0441\u0442\u043d\u0438\u0447\u0435\u0441\u0442\u0432\u0430', '\u0421\u043c\u043e\u043b\u0435\u043d\u0441\u043a\u0430\u0433\u043e \u041d\u0430\u043c\u0463\u0441\u0442\u043d\u0438\u0447\u0435\u0441\u0442\u0432\u0430',\n",
        "       '\u0412\u043e\u0440\u043e\u043d\u0435\u0436\u0441\u043a\u0430\u0433\u043e \u041d\u0430\u043c\u0463\u0441\u0442\u043d\u0438\u0447\u0435\u0441\u0442\u0432\u0430', '\u0410\u0440\u0445\u0430\u043d\u0433\u0435\u043b\u044c\u0441\u043a\u0430\u0433\u043e \u041d\u0430\u043c\u0463\u0441\u0442\u043d\u0438\u0447\u0435\u0441\u0442\u0432\u0430',\n",
        "       '\u0420\u0438\u0436\u0441\u043a\u0430\u0433\u043e \u041d\u0430\u043c\u0463\u0441\u0442\u043d\u0438\u0447\u0435\u0441\u0442\u0432\u0430', '\u0427\u0435\u0440\u043d\u0438\u0433\u043e\u0432\u0441\u043a\u0430\u0433\u043e \u041d\u0430\u043c\u0463\u0441\u0442\u043d\u0438\u0447\u043b\u0441\u0442\u0432\u0430',\n",
        "       '\u0418\u0440\u043a\u0443\u0442\u0441\u043a\u0430\u0433\u043e \u041d\u0430\u043c\u0463\u0441\u0442\u043d\u0438\u0447\u0435\u0441\u0442\u0432\u0430', '\u0412\u044b\u0431\u043e\u0440\u0433\u0441\u043a\u0430\u0433\u043e \u041d\u0430\u043c\u0463\u0441\u0442\u043d\u0438\u0447\u0435\u0441\u0442\u0432\u0430',\n",
        "       '\u041f\u0441\u043a\u043e\u0432\u0441\u043a\u0430\u0433\u043e \u041d\u0430\u043c\u0463\u0441\u0442\u043d\u0438\u0447\u0435\u0441\u0442\u0432\u0430', '\u0422\u0430\u043c\u0431\u043e\u0432\u0441\u043a\u043e\u043c\u044a \u041d\u0430\u043c\u0463\u0441\u0442\u043d\u0438\u0447\u0435\u0441\u0442\u0432\u0463',\n",
        "       '\u041e\u043b\u043e\u043d\u0435\u0446\u043a\u0430\u0433\u043e \u041d\u0430\u043c\u0463\u0441\u0442\u043d\u0438\u0447\u0435\u0441\u0442\u0432\u0430', '\u0412\u043e\u043b\u043e\u0434\u0438\u043c\u0435\u0440\u0441\u043a\u0430\u0433\u043e \u041d\u0430\u043c\u0463\u0441\u0442\u043d\u0438\u0447\u0435\u0441\u0442\u0432\u0430',\n",
        "       '\u0420\u0435\u0432\u0435\u043b\u044c\u0441\u043a\u0430\u0433\u043e \u041d\u0430\u043c\u0463\u0441\u0442\u043d\u0438\u0447\u0435\u0441\u0442\u0432\u0430', '\u0422\u0443\u043b\u044c\u0441\u043a\u0430\u0433\u0443 \u041d\u0430\u043c\u0463\u0441\u0442\u043d\u0438\u0447\u0435\u0441\u0442\u0432\u0430',\n",
        "       '\u041f\u0435\u043d\u0437\u0435\u043d\u0441\u043a\u0430\u0433\u043e \u041d\u0430\u043c\u0463\u0441\u0442\u043d\u0438\u0447\u0430\u0441\u0442\u0432\u0430', '\u0412\u043b\u0430\u0434\u0438\u043c\u0435\u0440\u043a\u0430\u0433\u043e \u041d\u0430\u043c\u0463\u0441\u0442\u043d\u0438\u0447\u0435\u0441\u0442\u0432\u0430',\n",
        "       '\u0443\u0444\u0438\u043c\u0441\u043a\u0430\u0433\u043e \u041d\u0430\u043c\u0463\u0441\u0442\u043d\u0438\u0447\u0435\u0441\u0442\u0432\u0430', '\u0442\u043e\u0439 \u0413\u0443\u0431\u0435\u0440\u043d\u0456\u0438',\n",
        "       '\u041a\u0456\u0435\u0432\u0441\u043a\u0430\u0433\u043e \u041d\u0430\u0441\u0442\u043d\u0438\u0447\u0435\u0441\u0442\u0432\u0430', '\u0412\u044f\u0442\u0441\u043a\u0430\u0433\u043e \u041d\u0430\u043c\u0463\u0441\u0442\u043d\u0438\u0447\u0435\u0441\u0442\u0432\u0430',\n",
        "       '\u0421. \u041f\u0435\u0442\u0435\u0440\u0431\u0443\u0440\u0433\u0441\u043a\u043e\u0439 \u0413\u0443\u0431\u0435\u0440\u043d\u0456\u0438', '\u041d\u043e\u0432\u0433\u043e\u0440\u043e\u0434\u0441\u043a\u0430\u0433\u043e \u041d\u0430\u043c\u0463\u0441\u0442\u043d\u0438\u0447\u0435\u0441\u0442\u0432\u0430',\n",
        "       '\u041a\u0430\u0432\u043a\u0430\u0437\u0441\u043a\u043e\u043c\u044a \u041d\u0430\u043c\u0463\u0441\u0442\u043d\u0438\u0447\u0435\u0441\u0442\u0432\u0463'], dtype=object)"
       ]
      }
     ],
     "prompt_number": 95
    },
    {
     "cell_type": "code",
     "collapsed": false,
     "input": [
      "market_df.ru_uezd.unique()\n",
      "#Use this output to spot check uezd for errors"
     ],
     "language": "python",
     "metadata": {},
     "outputs": [
      {
       "metadata": {},
       "output_type": "pyout",
       "prompt_number": 96,
       "text": [
        "array(['\u0414\u043e\u043d\u043a\u043e\u0432\u0441\u043a\u043e\u043c\u044a \u0443\u0463\u0437\u0434\u0463', '\u0438 \u0443\u0463\u0437\u0434\u0443', 'not_in_text', '\u0410\u0440\u0437\u0430\u043c\u0430\u0441\u043a\u043e\u043c\u044a \u0443\u0463\u0437\u0434\u0463',\n",
        "       '\u0422\u0435\u043c\u043d\u0438\u043a\u043e\u0432\u0441\u043a\u043e\u043c\u044a \u0443\u0463\u0437\u0434\u0463', '\u041a\u0435\u0440\u0435\u043d\u0441\u043a\u043e\u043c\u044a \u0443\u0463\u0437\u0434\u0463', '\u0411\u0463\u043b\u043e\u0433\u043e\u0440\u043e\u0434\u0441\u043a\u043e\u043c\u044a \u0443\u0463\u0437\u0434\u0463',\n",
        "       '\u0418\u0437\u044e\u043c\u0441\u043a\u043e\u043c\u044a \u0443\u0463\u0437\u0434\u0463', '\u0420\u043e\u0433\u0430\u0447\u0435\u0432\u0441\u043a\u043e\u043c\u044a \u0443\u0463\u0437\u0434\u0463', '\u0410\u043b\u0430\u0442\u044b\u0440\u044c\u0441\u043a\u043e\u043c\u044a \u0443\u0463\u0437\u0434\u0463',\n",
        "       '\u0415\u043b\u0435\u0446\u043a\u043e\u043c\u044a \u0443\u0463\u0437\u0434\u0463', '\u0412\u0435\u043d\u0435\u0432\u0441\u043a\u043e\u043c\u044a \u0443\u0463\u0437\u0434\u0463', '\u0421\u0430\u0440\u0430\u043d\u0441\u043a\u043e\u043c\u044a \u0443\u0463\u0437\u0434\u0463',\n",
        "       '\u0418\u0437\u044e\u043c\u043e\u0432\u0441\u043a\u043e\u043c\u044a \u0443\u0463\u0437\u0434\u0463', '\u041f\u0435\u0440\u0435\u044f\u0441\u043b\u0430\u0432\u0441\u043a\u043e\u043c\u044a \u0443\u0463\u0437\u0434\u0463', '\u041d\u0463\u0436\u0438\u043d\u0441\u043a\u043e\u043c\u044a \u0443\u0463\u0437\u0434\u0463',\n",
        "       '\u0438 \u0443\u0463\u0437\u0434\u0463', '\u0427\u0443\u0445\u043b\u043e\u043c\u0441\u043a\u043e\u043c\u044a \u0443\u0463\u0437\u0434\u0463', '\u0412\u043e\u043b\u043e\u043a\u043e\u043b\u0430\u043c\u0441\u043a\u043e\u043c\u044a \u0443\u0463\u0437\u0434\u0463',\n",
        "       '\u041a\u0430\u0448\u0438\u0440\u0441\u043a\u043e\u043c\u044a \u0443\u0463\u0437\u0434\u0463', '\u0414\u0438\u043d\u0430\u0431\u0443\u0440\u0433\u0441\u043a\u043e\u043c\u044a \u0443\u0463\u0437\u0434\u0463', '\u0427\u0435\u043b\u044f\u0431\u0438\u043d\u0441\u043a\u043e\u043c\u044a \u0443\u0463\u0437\u0434\u0463',\n",
        "       '\u041c\u0438\u0440\u0433\u043e\u0440\u043e\u0434\u0441\u043a\u043e\u043c\u044a \u0443\u0463\u0437\u0434\u0463', '\u0410\u043b\u0435\u043a\u0441\u0438\u043d\u0441\u043a\u043e\u043c\u044a \u0443\u0463\u0437\u0434\u0463', '\u041d\u0438\u0436\u0435\u043b\u043e\u043c\u043e\u0432\u0441\u043a\u043e\u043c\u044a \u0443\u0463\u0437\u0434\u0463',\n",
        "       '\u0421\u0443\u0437\u0434\u0430\u043b\u044c\u0441\u043a\u043e\u043c\u044a \u0443\u0463\u0437\u0434\u0463', '\u0417\u0443\u0431\u0446\u043e\u0432\u0430', '\u041c\u043e\u0436\u0430\u0439\u0441\u043a\u043e\u043c\u044a \u0443\u0463\u0437\u0434\u0463',\n",
        "       '\u041f\u0435\u0442\u0440\u043e\u0432\u0441\u043a\u043e\u043c\u044a \u0443\u0463\u0437\u0434\u0463', '\u0410\u0445\u0442\u044b\u0440\u0441\u043a\u043e\u043c\u044a \u0443\u0463\u0437\u0434\u0463', '\u041a\u043e\u0437\u0435\u043b\u044c\u0441\u043a\u043e\u043c\u044a \u0443\u0463\u0437\u0434\u0463',\n",
        "       '\u041f\u043e\u043b\u043e\u0442\u0430\u0432\u0441\u043a\u043e\u043c\u044a \u0443\u0463\u0437\u0434\u0463', '\u041d\u043e\u0432\u0433\u043e\u0440\u043e\u0434\u0441\u043a\u043e\u043c\u044a \u0443\u0463\u0437\u0434\u0463', '\u041b\u0443\u0431\u0435\u043d\u0441\u043a\u043e\u043c\u044a \u0443\u0463\u0437\u0434\u0463',\n",
        "       '\u0415\u043f\u0438\u0444\u0430\u043d\u0441\u043a\u043e\u043c\u044a \u0443\u0463\u0437\u0434\u0463', '\u041f\u0438\u0440\u044f\u0442\u0438\u043d\u0441\u043a\u043e\u043c\u044a \u0443\u0463\u0437\u0434\u0463', '\u041f\u043e\u043b\u0442\u0430\u0432\u0441\u043a\u043e\u043c\u044a \u0443\u0463\u0437\u0434\u0463',\n",
        "       '\u041f\u043e\u0448\u0435\u0445\u043e\u043d\u0441\u043a\u043e\u043c\u044a \u0443\u0463\u0437\u0434\u0463', '\u0411\u0463\u043b\u043e\u0437\u0435\u0440\u0441\u043a\u043e\u043c\u044a \u0443\u0463\u0437\u0434\u0463', '\u0412\u0430\u043b\u0443\u0435\u043a\u044a',\n",
        "       '\u041f\u0440\u0438\u043b\u0443\u0446\u043a\u043e\u043c\u044a \u0443\u0463\u0437\u0434\u0463', '\u041c\u0435\u0437\u0435\u043d\u0441\u043a\u043e\u043c\u044a \u0443\u0463\u0437\u0434\u0463', '\u0420\u043e\u0441\u0442\u043e\u0432\u0441\u043a\u043e\u043c\u044a \u0443\u0463\u0437\u0434\u0463',\n",
        "       '\u0413\u0430\u0434\u044f\u0446\u043a\u043e\u043c\u044a \u0443\u0463\u0437\u0434\u0463', '\u0413\u043e\u0440\u043e\u0445\u043e\u0432\u0441\u043a\u043e\u043c\u044a \u0443\u0463\u0437\u0434\u0463', '\u041f\u043e\u043b\u043e\u0442\u0441\u043a\u0430',\n",
        "       '\u041a\u0430\u0448\u0438\u043d\u0441\u043a\u043e\u043c\u044a \u0443\u0463\u0437\u0434\u0463', '\u041a\u0438\u043d\u0435\u0448\u043c\u044b', '\u0412\u0435\u0440\u0435\u0439\u0441\u043a\u043e\u043c\u044a \u0443\u0463\u0437\u0434\u0463', '\u0420\u043e\u0433\u0430\u0447\u0435\u0432\u0430',\n",
        "       '\u0411\u0463\u043b\u0438\u0446\u043a\u043e\u043c\u044a \u0443\u0463\u0437\u0434\u0463', '\u0428\u0430\u0442\u0441\u043a\u043e\u043c\u044a \u0443\u0463\u0437\u0434\u0463', '\u0410\u043b\u0435\u043a\u0441\u0438\u043d\u0430', '\u041b\u044e\u0431\u0438\u043c\u0441\u043a\u043e\u043c\u044a \u0443\u0463\u0437\u0434\u0463',\n",
        "       '\u041e\u0441\u0442\u0440\u043e\u0432\u0441\u043a\u043e\u043c\u044a \u0443\u0463\u0437\u0434\u0463', '\u041e\u0440\u0448\u0430\u043d\u0441\u043a\u043e\u043c\u044a \u0443\u0463\u0437\u0434\u0463', '\u0411\u0463\u043b\u0435\u0432\u0441\u043a\u043e\u043c\u044a \u0443\u0463\u0437\u0434\u0463',\n",
        "       '\u0421\u0442\u0430\u0440\u043e\u0434\u0443\u0431\u043e\u0432\u0441\u043a\u043e\u043c\u044a \u0443\u0463\u0437\u0434\u0463', '\u041a\u043e\u0437\u043b\u043e\u0432\u0441\u043a\u043e\u043c\u044a \u0443\u0463\u0437\u0434\u0463', '\u041a\u043e\u043b\u043e\u043c\u043d\u044b', '\u041e\u0441\u0442\u0440\u043e\u0432\u0430',\n",
        "       '\u041a\u0430\u0441\u0438\u043c\u043e\u0432\u0441\u043a\u043e\u043c\u044a \u0443\u0463\u0437\u0434\u0463', '\u0411\u0463\u0436\u0435\u0446\u043a\u043e\u043c\u044a \u0443\u0463\u0437\u0434\u0463', '\u0421\u0442\u0430\u0440\u043e\u0431\u044b\u0445\u043e\u0432\u0441\u043a\u043e\u043c\u044a \u0443\u0463\u0437\u0434\u0463',\n",
        "       '\u041d\u043e\u0432\u043e\u0441\u0438\u043b\u044f', '\u041a\u0438\u0440\u0435\u043d\u0441\u043a\u0430', '\u0418\u0437\u044e\u043c\u0430', '\u0421\u043e\u0441\u043d\u0438\u0446\u043a\u043e\u043c\u044a \u0443\u0463\u0437\u0434\u0463', '\u041d\u0463\u0436\u0438\u043d\u0430',\n",
        "       '\u0417\u0432\u0435\u043d\u0438\u0433\u043e\u0440\u043e\u0434\u0441\u043a\u043e\u043c\u044a \u0443\u0463\u0437\u0434\u0463', '\u041a\u043e\u0440\u043e\u0447\u0435\u043d\u0441\u043a\u043e\u043c\u044a \u0443\u0463\u0437\u0434\u0463', '\u0410\u0440\u0441\u0430\u043c\u0430\u0437\u0441\u043a\u043e\u043c\u044a \u0443\u0463\u0437\u0434\u0463',\n",
        "       '\u0427\u0435\u043b\u044f\u0431\u0438\u043d\u0441\u043a\u0430', '\u0414\u0438\u043d\u0430\u0431\u0443\u0440\u0433\u0430', '\u0420\u0443\u0437\u0441\u043a\u043e\u043c\u044a \u0443\u0463\u0437\u0434\u0463', '\u041c\u0441\u0442\u0438\u0441\u043b\u0430\u0432\u0441\u043a\u043e\u043c\u044a \u0443\u0463\u0437\u0434\u0463',\n",
        "       '\u0411\u0463\u0436\u0435\u0446\u043a\u0430', '\u042e\u0440\u044c\u0435\u0432\u0446\u0430', '\u041a\u043e\u043b\u043e\u043c\u0435\u043d\u0441\u043a\u043e\u043c\u044a \u0443\u0463\u0437\u0434\u0463', '\u0421\u0432\u0456\u0430\u0436\u0441\u043a\u043e\u043c\u044a \u0443\u0463\u0437\u0434\u0463',\n",
        "       '\u0413\u043e\u0440\u043e\u0445\u043e\u0432\u0435\u0446\u043a\u043e\u043c\u044a \u0443\u0463\u0437\u0434\u0463', '\u0414\u043c\u0438\u0442\u0440\u043e\u0432\u0441\u043a\u043e\u043c\u044a \u0443\u0463\u0437\u0434\u0463', '\u0428\u0430\u0446\u043a\u043e\u043c\u044a \u0443\u0463\u0437\u0434\u0463',\n",
        "       '\u041a\u043b\u0438\u043c\u043e\u0432\u0438\u0446\u043a\u043e\u043c\u044a \u0443\u0463\u0437\u0434\u0463', '\u0410\u0445\u0442\u044b\u0440\u043a\u0438', '\u041d\u0430\u0440\u043e\u0432\u0447\u0430\u0442\u043e\u0432\u0441\u043a\u043e\u043c\u044a \u0443\u0463\u0437\u0434\u0463',\n",
        "       '\u041b\u0435\u0431\u0435\u0434\u044f\u043d\u0438', '\u041b\u0438\u0432\u0435\u043d\u0441\u043a\u043e\u043c\u044a \u0443\u0463\u0437\u0434\u0463', '\u0427\u0435\u0440\u0438\u043a\u043e\u0432\u0441\u043a\u043e\u043c\u044a \u0443\u0463\u0437\u0434\u0463', '\u041c\u0438\u0440\u043e\u043f\u043e\u043b\u044c\u044f',\n",
        "       '\u042f\u0440\u0435\u043d\u0441\u043a\u043e\u043c\u044a \u0443\u0463\u0437\u0434\u0463', '\u0412\u0435\u0440\u0445\u043d\u0435\u0443\u0434\u0438\u043d\u0441\u043a\u0430', '\u0417\u0430\u0440\u0430\u0439\u0441\u043a\u043e\u043c\u044a \u0443\u0463\u0437\u0434\u0463',\n",
        "       '\u0412\u0435\u043b\u0438\u043a\u043e\u043b\u0443\u0446\u043a\u043e\u043c\u044a \u0443\u0463\u0437\u0434\u0463', '\u0425\u0430\u0440\u044c\u043a\u043e\u0432\u0430', '\u0412\u043e\u043b\u043e\u0433\u043e\u0434\u0441\u043a\u043e\u043c\u044a \u0443\u0463\u0437\u0434\u0463', '\u041a\u043e\u0437\u043b\u043e\u0432\u0430',\n",
        "       '\u0411\u0430\u0431\u0438\u043d\u043e\u0432\u0435\u0446\u043a\u043e\u043c\u044a \u0443\u0463\u0437\u0434\u0463', '\u041a\u0440\u0430\u0441\u043d\u043e\u0441\u043b\u043e\u0431\u043e\u0434\u0441\u043a\u0430', '\u0412\u044b\u0442\u0435\u0433\u0440\u044b', '\u041b\u0435\u0431\u0435\u0434\u0438\u043d\u0430',\n",
        "       '\u0415\u043a\u0430\u0442\u0435\u0440\u0438\u043d\u0431\u0443\u0440\u0433\u0441\u043a\u043e\u043c\u044a \u0443\u0463\u0437\u0434\u0463', '\u0411\u0463\u043b\u043e\u0437\u0435\u0440\u0441\u043a\u0430', '\u0421\u0430\u043f\u043e\u0436\u043a\u0430',\n",
        "       '\u0414\u0435\u0440\u043f\u0442\u0441\u043a\u043e\u043c\u044a \u0443\u0463\u0437\u0434\u0463', '\u041a\u0430\u0440\u0430\u0447\u0435\u0432\u0430', '\u042f\u0440\u0435\u043d\u0441\u043a\u0430', '\u041a\u043e\u0440\u043e\u0442\u043e\u044f\u043a\u0441\u043a\u043e\u043c\u044a \u0443\u0463\u0437\u0434\u0463',\n",
        "       '\u0417\u0430\u0440\u0430\u0439\u0441\u043a\u0430', '\u0421\u0463\u043d\u043d\u043e\u043c\u044a \u0443\u0463\u0437\u0434\u0463', '\u0411\u043e\u0433\u043e\u0440\u043e\u0434\u0441\u043a\u043e\u043c\u044a \u0443\u0463\u0437\u0434\u0463', '\u041a\u043e\u0437\u0435\u043b\u044c\u0441\u043a\u0430',\n",
        "       '\u041a\u043e\u0437\u044c\u043c\u043e\u0434\u0435\u043c\u044c\u044f\u043d\u0441\u043a\u0430', '\u0420\u0443\u0437\u044b', '\u0428\u0443\u0438', '\u0412\u043e\u0441\u043a\u0440\u0435\u0441\u0435\u043d\u0441\u043a\u043e\u043c\u044a \u0443\u0463\u0437\u0434\u0463',\n",
        "       '\u041b\u044e\u0431\u0435\u043d\u0441\u043a\u043e\u043c\u044a \u0443\u0463\u0437\u0434\u0463', '\u0415\u0444\u0440\u0435\u043c\u043e\u0432\u0430', '\u0411\u043e\u0440\u043e\u0432\u0441\u043a\u043e\u043c\u044a \u0443\u0463\u0437\u0434\u0463',\n",
        "       '\u041e\u043b\u043e\u043d\u0435\u0446\u043a\u043e\u043c\u044a \u0443\u0463\u0437\u0434\u0463', '\u041e\u043f\u043e\u0447\u0435\u043a\u044a', '\u0426\u0430\u0440\u0435\u0432\u043e\u043a\u043e\u043a\u0448\u0430\u0439\u0441\u043a\u0430',\n",
        "       '\u042e\u0440\u044c\u0435\u0432\u0430-\u041f\u043e\u043b\u044c\u0441\u043a\u0430\u0433\u043e', '\u041f\u043e\u0440\u0445\u043e\u0432\u0430', '\u0420\u043e\u043c\u0435\u043d\u0441\u043a\u043e\u043c\u044a \u0443\u0463\u0437\u0434\u0463',\n",
        "       '\u043c\u0438\u0440\u0433\u043e\u0440\u043e\u0434\u0441\u043a\u043e\u043c\u044a \u0443\u0463\u0437\u0434\u0463', '\u041a\u0443\u0440\u043c\u044b\u0448\u0441\u043a\u043e\u043c\u044a \u0443\u0463\u0437\u0434\u0463', '\u0421\u0443\u043c\u0441\u043a\u043e\u043c\u044a \u0443\u0463\u0437\u0434\u0463',\n",
        "       '\u0412\u0430\u0433\u0438', '\u0422\u0432\u0435\u0440\u0441\u043a\u043e\u043c\u044a \u0443\u0463\u0437\u0434\u0463', '\u0417\u0443\u0431\u0446\u043e\u0432\u0441\u043a\u043e\u043c\u044a \u0443\u0463\u0437\u0434\u0463',\n",
        "       '\u041a\u0430\u0440\u0430\u0447\u0435\u0432\u0441\u043a\u043e\u043c\u044a \u0443\u0463\u0437\u0434\u0463', '\u041b\u0443\u0445\u043e\u0432\u0441\u043a\u043e\u043c\u044a \u0443\u0463\u0437\u0434\u0463', '\u041a\u0430\u0440\u043f\u043e\u0432\u0430',\n",
        "       '\u0426\u0430\u0440\u0435\u0432\u043e\u0441\u0430\u043d\u0447\u0443\u0440\u0441\u043a\u0430', '\u041a\u0435\u0440\u0435\u043d\u0441\u043a\u0430', '\u0413\u043e\u0440\u043e\u0445\u043e\u0432\u0435\u0446\u043a\u043e\u043c \u0443\u0463\u0437\u0434\u0463', '\u0414\u043e\u043d\u043a\u043e\u0432\u0430',\n",
        "       '\u041d\u0435\u0440\u0447\u0438\u043d\u0441\u043a\u043e\u043c\u044a \u0443\u0463\u0437\u0434\u0463', '\u0421\u0442\u0430\u0440\u043e\u0439', '\u0428\u0430\u0442\u0441\u043a\u0430', '\u041f\u043e\u0432\u0463\u043d\u0435\u0446\u043a\u043e\u043c\u044a \u0443\u0463\u0437\u0434\u0463',\n",
        "       '\u0418\u043d\u0441\u0430\u0440\u0441\u043a\u043e\u043c\u044a \u0443\u0463\u0437\u0434\u0463'], dtype=object)"
       ]
      }
     ],
     "prompt_number": 96
    },
    {
     "cell_type": "code",
     "collapsed": false,
     "input": [
      "# Replacing variant spellings of Namiestnichestva and uyezd with a single spelling.\n",
      "market_df.ru_prov = market_df.ru_prov.replace('\u041d\u0430(?:\u043c\u0463){0,1}\u0441\u0442\u043d\u0438\u0447[\u0435\u043b]\u0441\u0442\u0432[\u0430\u0463]','\u041d\u0430\u043c\u0463\u0441\u0442\u043d\u0438\u0447\u0435\u0441\u0442\u0432\u0430',regex=True)\n",
      "market_df.ru_prov = market_df.ru_prov.replace('\u0443\u0463\u0437\u0434[\u0443\u0463]','\u0443\u0463\u0437\u0434\u0463',regex=True)"
     ],
     "language": "python",
     "metadata": {},
     "outputs": [],
     "prompt_number": 97
    },
    {
     "cell_type": "markdown",
     "metadata": {},
     "source": [
      "When is a name not a name?\n",
      "==========================\n",
      "When it's actually a reference to something else in the text!  \n",
      "These next few cells replace phrases that mean \"the same thing as...\" and replace them with what they're talking about.  \n",
      "Anything that uses the `replace_sameas` function is replacing \"horizontally\", so when a city is also a seat of an administrative unit, or a town is in an uyezd that is also a Namiestnichestva.  \n",
      "Anything that has a `replacer` is replacing \"vertically\", when the text is referring to a previous entry."
     ]
    },
    {
     "cell_type": "code",
     "collapsed": false,
     "input": [
      "def replace_sameas(df, original, replacement, match_list, kind=\"\u041d\u0430\u043c\u0463\u0441\u0442\u043d\u0438\u0447\u0435\u0441\u0442\u0432\u0430\"):\n",
      "    \"\"\"\n",
      "    df: dataframe to be modified\n",
      "    original: column name in pandas data frame\n",
      "    replacement: column name in same pandas data frame\n",
      "    match_list: list of strings which, in original, indicate that they should be replaced by the corresponding values in replacement\n",
      "    \n",
      "    For each string in match_list, this function replaces said string in original with the corresponding value in replacement, converted to title case for convenience.\n",
      "    Place types are added after place names for consistent further processing. Type defaults to \u041d\u0430\u043c\u0463\u0441\u0442\u043d\u0438\u0447\u0435\u0441\u0442\u0432\u0430.\n",
      "    This is an in place transformation in the dataframe.\n",
      "    \"\"\"\n",
      "    for match in match_list:\n",
      "        cond = df[original] == match\n",
      "        df[original][cond] = df[replacement][cond].str.title()+\" {}\".format(kind)\n",
      "    return 0"
     ],
     "language": "python",
     "metadata": {},
     "outputs": [],
     "prompt_number": 98
    },
    {
     "cell_type": "code",
     "collapsed": false,
     "input": [
      "replacer = market_df.ix[np.logical_and(market_df.ru_prov == \"\u0442\u043e\u0433\u043e \u041d\u0430\u043c\u0463\u0441\u0442\u043d\u0438\u0447\u0435\u0441\u0442\u0432\u0430\",np.logical_or(market_df.ru_prov==\"\u0438 \u0443\u0463\u0437\u0434\u0443\",market_df.ru_prov==\"\u0438 \u0443\u0463\u0437\u0434\u0463\"))].index.tolist()\n",
      "for x in replacer:\n",
      "    market_df.loc[x,'ru_uezd'] = market_df.loc[x-1]['ru_uezd']\n",
      "    market_df.loc[x,'ru_prov'] = market_df.loc[x-1]['ru_prov']"
     ],
     "language": "python",
     "metadata": {},
     "outputs": [],
     "prompt_number": 99
    },
    {
     "cell_type": "code",
     "collapsed": false,
     "input": [
      "replacer = market_df.ix[market_df.ru_prov == \"\u0442\u043e\u0433\u043e \u041d\u0430\u043c\u0463\u0441\u0442\u043d\u0438\u0447\u0435\u0441\u0442\u0432\u0430\"].index.tolist()\n",
      "for x in replacer:\n",
      "    market_df.loc[x,'ru_prov'] = market_df.loc[x-1]['ru_prov']"
     ],
     "language": "python",
     "metadata": {},
     "outputs": [],
     "prompt_number": 100
    },
    {
     "cell_type": "code",
     "collapsed": false,
     "input": [
      "replacer = market_df.ix[market_df.ru_prov == \"\u0442\u043e\u0439 \u0413\u0443\u0431\u0435\u0440\u043d\u0456\u0438\"].index.tolist()\n",
      "for x in replacer:\n",
      "    market_df.loc[x,'ru_prov'] = market_df.loc[x-1]['ru_prov']"
     ],
     "language": "python",
     "metadata": {},
     "outputs": [],
     "prompt_number": 101
    },
    {
     "cell_type": "code",
     "collapsed": false,
     "input": [
      "# Replacing \"same Namiestnichestva\" statements with appropriate Namiestnichestva name\n",
      "match_list = [\"\u041d\u0430\u043c\u0463\u0441\u0442\u043d\u0438\u0447\u0435\u0441\u0442\u0432\u0430 \u0441\u0435\u0433\u043e \u0438\u043c\u0435\u043d\u0438\"]\n",
      "replace_sameas(market_df,'ru_prov','ru_old_orth',match_list)"
     ],
     "language": "python",
     "metadata": {},
     "outputs": [
      {
       "metadata": {},
       "output_type": "pyout",
       "prompt_number": 102,
       "text": [
        "0"
       ]
      }
     ],
     "prompt_number": 102
    },
    {
     "cell_type": "code",
     "collapsed": false,
     "input": [
      "# Replacing \"and uyezd\" statements with appropriate Namiestnichestva name\n",
      "match_list = [\"\u0438 \u0443\u0463\u0437\u0434\u0443\",\"\u0438 \u0443\u0463\u0437\u0434\u0463\"]\n",
      "replace_sameas(market_df,'ru_uezd','ru_prov',match_list,kind=\"\u0443\u0463\u0437\u0434\u0463\")\n",
      "market_df.ru_uezd = market_df.ru_uezd.replace(r' \u041d\u0430(?:\u043c\u0463){0,1}\u0441\u0442\u043d\u0438\u0447[\u0435\u043b]\u0441\u0442\u0432[\u0430\u0463]','',regex=True)"
     ],
     "language": "python",
     "metadata": {},
     "outputs": [],
     "prompt_number": 103
    },
    {
     "cell_type": "markdown",
     "metadata": {},
     "source": [
      "Stripping html from text, preserving html text in case it's needed"
     ]
    },
    {
     "cell_type": "code",
     "collapsed": false,
     "input": [
      "from lxml import html\n",
      "def strip_html(text):\n",
      "    \"\"\"\n",
      "    Strips HTML entities from variable text\n",
      "    \"\"\"\n",
      "    return html.fromstring(text).text_content()"
     ],
     "language": "python",
     "metadata": {},
     "outputs": [],
     "prompt_number": 104
    },
    {
     "cell_type": "code",
     "collapsed": false,
     "input": [
      "market_df['html_text'] = market_df.description"
     ],
     "language": "python",
     "metadata": {},
     "outputs": [],
     "prompt_number": 105
    },
    {
     "cell_type": "code",
     "collapsed": false,
     "input": [
      "market_df.description = market_df.description.apply(strip_html)"
     ],
     "language": "python",
     "metadata": {},
     "outputs": [],
     "prompt_number": 106
    },
    {
     "cell_type": "markdown",
     "metadata": {},
     "source": [
      "Orthography Modernization\n",
      "========================="
     ]
    },
    {
     "cell_type": "code",
     "collapsed": false,
     "input": [
      "import re,json\n",
      "from lxml import html\n",
      "\n",
      "lookup_dict = {}\n",
      "with open(\"resources/special_cases.json\",'r') as fp:\n",
      "    lookup_dict = json.load(fp)\n",
      "\n",
      "def ortho_rules(text,lookup_dict):\n",
      "    \"\"\"\n",
      "    Takes a text string and a lookup dict as input\n",
      "    Removes any lingering html tags\n",
      "    Breaks the string down into component words with split\n",
      "    Uses replacements to modernize orthography\n",
      "    Returns re-assembled text with modern orthography\n",
      "    \"\"\"\n",
      "    if text is not None:\n",
      "        text = html.fromstring(text).text_content()\n",
      "        textlist = text.split(' ')\n",
      "        out_list = []\n",
      "        for word in textlist:\n",
      "            if word in [',','.',';',':']:\n",
      "                out_list.append(word)\n",
      "            word = word.strip(',.;:')\n",
      "            if word in lookup_dict:\n",
      "                word = lookup_dict[word]\n",
      "                out_list.append(word)\n",
      "            else:\n",
      "                word = re.sub(\"[\u042a\u044a]$\",'',word)\n",
      "                word = re.sub(r\"^([\u0447\u0435]{0,2}[\u0447]?[\u0432\u0431\u043d\u0440]?[\u0432\u0435\u043e\u0430\u0438])\u0437([\u041f\u0424\u041a\u0422\u0428\u0421\u0427\u043f\u0444\u043a\u0442\u0448\u0441\u0447])\",r\"\\1\u0441\\2\",word,re.IGNORECASE)\n",
      "                word = re.sub(\"\u0430\u0433\u043e$\",\"\u043e\u0433\u043e\",word,re.IGNORECASE)\n",
      "                word = re.sub(\"\u044f\u0433\u043e$\",\"\u0435\u0433\u043e\",word,re.IGNORECASE)\n",
      "                word = re.sub(\"\u044b\u044f$\",\"\u044b\u0435\",word,re.IGNORECASE)\n",
      "                word = re.sub(\"i\u044f$\",\"\u0438\u0435\",word,re.IGNORECASE)\n",
      "                word = word.replace('i','\u0438') #english\n",
      "                word = word.replace('I','\u0418') #english\n",
      "                word = word.replace('\u0456','\u0438') #cyrillic\n",
      "                word = word.replace('\u0406','\u0418') #cyrillic\n",
      "                word = word.replace('\u0462','\u0415')\n",
      "                word = word.replace('\u0463','\u0435')\n",
      "                word = word.replace('\u0472','\u0424')\n",
      "                word = word.replace('\u0473','\u0444')\n",
      "                out_list.append(word)\n",
      "        out_str = ' '.join(out_list)\n",
      "        return out_str\n",
      "    else:\n",
      "        return \"None\""
     ],
     "language": "python",
     "metadata": {},
     "outputs": [],
     "prompt_number": 107
    },
    {
     "cell_type": "code",
     "collapsed": false,
     "input": [
      "market_df['ru_new_orth'] = market_df.ru_old_orth.apply(ortho_rules,args=[lookup_dict])\n",
      "market_df['prov_modern_sp'] = market_df.ru_prov.apply(ortho_rules,args=[lookup_dict])\n",
      "market_df['uezd_modern_sp'] = market_df.ru_uezd.apply(ortho_rules,args=[lookup_dict])\n",
      "market_df.head()"
     ],
     "language": "python",
     "metadata": {},
     "outputs": [
      {
       "html": [
        "<div style=\"max-height:1000px;max-width:1500px;overflow:auto;\">\n",
        "<table border=\"1\" class=\"dataframe\">\n",
        "  <thead>\n",
        "    <tr style=\"text-align: right;\">\n",
        "      <th></th>\n",
        "      <th>ru_old_orth</th>\n",
        "      <th>alt_name_old_orth</th>\n",
        "      <th>ru_old_featuretype</th>\n",
        "      <th>ru_prov</th>\n",
        "      <th>ru_uezd</th>\n",
        "      <th>description</th>\n",
        "      <th>page</th>\n",
        "      <th>SOURCE</th>\n",
        "      <th>html_text</th>\n",
        "      <th>ru_new_orth</th>\n",
        "      <th>prov_modern_sp</th>\n",
        "      <th>uezd_modern_sp</th>\n",
        "    </tr>\n",
        "  </thead>\n",
        "  <tbody>\n",
        "    <tr>\n",
        "      <th>3</th>\n",
        "      <td>  \u0410\u0412\u0414\u0423\u041b\u041e\u0412\u041e</td>\n",
        "      <td> \u0418\u0412\u0410\u041d\u041e\u0412\u0421\u041a\u041e\u0415</td>\n",
        "      <td>      \u0441\u0435\u043b\u043e</td>\n",
        "      <td>     \u0420\u044f\u0437\u0430\u043d\u0441\u043a\u0430\u0433\u043e \u041d\u0430\u043c\u0463\u0441\u0442\u043d\u0438\u0447\u0435\u0441\u0442\u0432\u0430</td>\n",
        "      <td>   \u0414\u043e\u043d\u043a\u043e\u0432\u0441\u043a\u043e\u043c\u044a \u0443\u0463\u0437\u0434\u0463</td>\n",
        "      <td> \u0410\u0412\u0414\u0423\u041b\u041e\u0412\u041e, \u0418\u0412\u0410\u041d\u041e\u0412\u0421\u041a\u041e\u0415 \u0442\u043e\u0436\u044c, \u0441\u0435\u043b\u043e \u0420\u044f\u0437\u0430\u043d\u0441\u043a\u0430\u0433\u043e \u041d\u0430\u043c...</td>\n",
        "      <td> 10</td>\n",
        "      <td> http://babel.hathitrust.org/cgi/pt?id=uc1.b458...</td>\n",
        "      <td> \u0410\u0412\u0414\u0423\u041b\u041e\u0412\u041e, \u0418\u0412\u0410\u041d\u041e\u0412\u0421\u041a\u041e\u0415 \u0442\u043e\u0436\u044c, &lt;/span&gt;&lt;span class=...</td>\n",
        "      <td>  \u0410\u0412\u0414\u0423\u041b\u041e\u0412\u041e</td>\n",
        "      <td>     \u0420\u044f\u0437\u0430\u043d\u0441\u043a\u043e\u0433\u043e \u041d\u0430\u043c\u0435\u0441\u0442\u043d\u0438\u0447\u0435\u0441\u0442\u0432\u0430</td>\n",
        "      <td>   \u0414\u043e\u043d\u043a\u043e\u0432\u0441\u043a\u043e\u043c \u0443\u0435\u0437\u0434\u0435</td>\n",
        "    </tr>\n",
        "    <tr>\n",
        "      <th>4</th>\n",
        "      <td> \u0410\u0412\u0416\u0415\u041d\u0421\u041a\u0410\u042f</td>\n",
        "      <td>       None</td>\n",
        "      <td>   \u0432\u043e\u043b\u043e\u0441\u0442\u044c</td>\n",
        "      <td>   \u0412\u043e\u043b\u043e\u0433\u043e\u0434\u0441\u043a\u0430\u0433\u043e \u041d\u0430\u043c\u0463\u0441\u0442\u043d\u0438\u0447\u0435\u0441\u0442\u0432\u0430</td>\n",
        "      <td>  \u0412\u043e\u043b\u043e\u0433\u043e\u0434\u0441\u043a\u0430\u0433\u043e \u0443\u0463\u0437\u0434\u0463</td>\n",
        "      <td> \u0410\u0412\u0416\u0415\u041d\u0421\u041a\u0410\u042f , \u0432\u043e\u043b\u043e\u0441\u0442\u044c \u0412\u043e\u043b\u043e\u0433\u043e\u0434\u0441\u043a\u0430\u0433\u043e \u041d\u0430\u043c\u0463\u0441\u0442\u043d\u0438\u0447\u0435\u0441\u0442\u0432...</td>\n",
        "      <td> 10</td>\n",
        "      <td> http://babel.hathitrust.org/cgi/pt?id=uc1.b458...</td>\n",
        "      <td> \u0410\u0412\u0416\u0415\u041d\u0421\u041a\u0410\u042f , &lt;/span&gt;&lt;span class=\"font0\" style=\"...</td>\n",
        "      <td> \u0410\u0412\u0416\u0415\u041d\u0421\u041a\u0410\u042f</td>\n",
        "      <td>   \u0412\u043e\u043b\u043e\u0433\u043e\u0434\u0441\u043a\u043e\u0433\u043e \u041d\u0430\u043c\u0435\u0441\u0442\u043d\u0438\u0447\u0435\u0441\u0442\u0432\u0430</td>\n",
        "      <td> \u0412\u043e\u043b\u043e\u0433\u043e\u0434\u0441\u043a\u043e\u0433\u043e \u0443\u0435\u0437\u0434\u0435</td>\n",
        "    </tr>\n",
        "    <tr>\n",
        "      <th>5</th>\n",
        "      <td> \u0410\u0412\u0420\u0410\u041c\u0406\u0415\u0412\u042a</td>\n",
        "      <td>       None</td>\n",
        "      <td> \u043c\u043e\u043d\u0430\u0441\u0442\u044b\u0440\u044c</td>\n",
        "      <td>   \u041a\u043e\u0441\u0442\u0440\u043e\u043c\u0441\u043a\u0430\u0433\u043e \u041d\u0430\u043c\u0463\u0441\u0442\u043d\u0438\u0447\u0435\u0441\u0442\u0432\u0430</td>\n",
        "      <td>         not_in_text</td>\n",
        "      <td> \u0410\u0412\u0420\u0410\u041c\u0406\u0415\u0412\u042a, \u043c\u043e\u043d\u0430\u0441\u0442\u044b\u0440\u044c \u041a\u043e\u0441\u0442\u0440\u043e\u043c\u0441\u043a\u0430\u0433\u043e \u041d\u0430\u043c\u0463\u0441\u0442\u043d\u0438\u0447\u0435\u0441\u0442...</td>\n",
        "      <td> 10</td>\n",
        "      <td> http://babel.hathitrust.org/cgi/pt?id=uc1.b458...</td>\n",
        "      <td> \u0410\u0412\u0420\u0410\u041c\u0406\u0415\u0412\u042a&lt;/span&gt;&lt;span class=\"font0\" style=\"fon...</td>\n",
        "      <td>  \u0410\u0412\u0420\u0410\u041c\u0418\u0415\u0412</td>\n",
        "      <td>   \u041a\u043e\u0441\u0442\u0440\u043e\u043c\u0441\u043a\u043e\u0433\u043e \u041d\u0430\u043c\u0435\u0441\u0442\u043d\u0438\u0447\u0435\u0441\u0442\u0432\u0430</td>\n",
        "      <td>        not_\u0438n_text</td>\n",
        "    </tr>\n",
        "    <tr>\n",
        "      <th>6</th>\n",
        "      <td> \u0410\u0414\u041e\u0412\u0410\u0422\u041e\u0412\u041e</td>\n",
        "      <td>       None</td>\n",
        "      <td>      \u0441\u0435\u043b\u043e</td>\n",
        "      <td> \u041d\u0438\u0436\u0435\u0433\u043e\u0440\u043e\u0434\u0441\u043a\u0430\u0433\u043e \u041d\u0430\u043c\u0463\u0441\u0442\u043d\u0438\u0447\u0435\u0441\u0442\u0432\u0430</td>\n",
        "      <td>   \u0410\u0440\u0437\u0430\u043c\u0430\u0441\u043a\u043e\u043c\u044a \u0443\u0463\u0437\u0434\u0463</td>\n",
        "      <td> \u0410\u0414\u041e\u0412\u0410\u0422\u041e\u0412\u041e, \u0441\u0435\u043b\u043e \u041d\u0438\u0436\u0435\u0433\u043e\u0440\u043e\u0434\u0441\u043a\u0430\u0433\u043e \u041d\u0430\u043c\u0463\u0441\u0442\u043d\u0438\u0447\u0435\u0441\u0442\u0432\u0430 ...</td>\n",
        "      <td> 10</td>\n",
        "      <td> http://babel.hathitrust.org/cgi/pt?id=uc1.b458...</td>\n",
        "      <td> \u0410\u0414\u041e\u0412\u0410\u0422\u041e\u0412\u041e, &lt;/span&gt;&lt;span class=\"font0\" style=\"f...</td>\n",
        "      <td> \u0410\u0414\u041e\u0412\u0410\u0422\u041e\u0412\u041e</td>\n",
        "      <td> \u041d\u0438\u0436\u0435\u0433\u043e\u0440\u043e\u0434\u0441\u043a\u043e\u0433\u043e \u041d\u0430\u043c\u0435\u0441\u0442\u043d\u0438\u0447\u0435\u0441\u0442\u0432\u0430</td>\n",
        "      <td>   \u0410\u0440\u0437\u0430\u043c\u0430\u0441\u043a\u043e\u043c \u0443\u0435\u0437\u0434\u0435</td>\n",
        "    </tr>\n",
        "    <tr>\n",
        "      <th>7</th>\n",
        "      <td>    \u0410\u041a\u0421\u0415\u041b\u042c</td>\n",
        "      <td>       None</td>\n",
        "      <td>      \u0441\u0435\u043b\u043e</td>\n",
        "      <td>    \u0422\u0430\u043c\u0431\u043e\u0432\u0441\u043a\u0430\u0433\u043e \u041d\u0430\u043c\u0463\u0441\u0442\u043d\u0438\u0447\u0435\u0441\u0442\u0432\u0430</td>\n",
        "      <td> \u0422\u0435\u043c\u043d\u0438\u043a\u043e\u0432\u0441\u043a\u043e\u043c\u044a \u0443\u0463\u0437\u0434\u0463</td>\n",
        "      <td> \u0410\u041a\u0421\u0415\u041b\u042c, \u0441\u0435\u043b\u043e \u0422\u0430\u043c\u0431\u043e\u0432\u0441\u043a\u0430\u0433\u043e \u041d\u0430\u043c\u0463\u0441\u0442\u043d\u0438\u0447\u0435\u0441\u0442\u0432\u0430 \u0432\u044a \u0422\u0435\u043c...</td>\n",
        "      <td> 10</td>\n",
        "      <td> http://babel.hathitrust.org/cgi/pt?id=uc1.b458...</td>\n",
        "      <td> \u0410\u041a\u0421\u0415\u041b\u042c, &lt;/span&gt;&lt;span class=\"font0\" style=\"font...</td>\n",
        "      <td>    \u0410\u041a\u0421\u0415\u041b\u042c</td>\n",
        "      <td>    \u0422\u0430\u043c\u0431\u043e\u0432\u0441\u043a\u043e\u0433\u043e \u041d\u0430\u043c\u0435\u0441\u0442\u043d\u0438\u0447\u0435\u0441\u0442\u0432\u0430</td>\n",
        "      <td> \u0422\u0435\u043c\u043d\u0438\u043a\u043e\u0432\u0441\u043a\u043e\u043c \u0443\u0435\u0437\u0434\u0435</td>\n",
        "    </tr>\n",
        "  </tbody>\n",
        "</table>\n",
        "</div>"
       ],
       "metadata": {},
       "output_type": "pyout",
       "prompt_number": 108,
       "text": [
        "  ru_old_orth alt_name_old_orth ru_old_featuretype  \\\n",
        "3    \u0410\u0412\u0414\u0423\u041b\u041e\u0412\u041e        \u0418\u0412\u0410\u041d\u041e\u0412\u0421\u041a\u041e\u0415               \u0441\u0435\u043b\u043e   \n",
        "4   \u0410\u0412\u0416\u0415\u041d\u0421\u041a\u0410\u042f              None            \u0432\u043e\u043b\u043e\u0441\u0442\u044c   \n",
        "5   \u0410\u0412\u0420\u0410\u041c\u0406\u0415\u0412\u042a              None          \u043c\u043e\u043d\u0430\u0441\u0442\u044b\u0440\u044c   \n",
        "6   \u0410\u0414\u041e\u0412\u0410\u0422\u041e\u0412\u041e              None               \u0441\u0435\u043b\u043e   \n",
        "7      \u0410\u041a\u0421\u0415\u041b\u042c              None               \u0441\u0435\u043b\u043e   \n",
        "\n",
        "                         ru_prov              ru_uezd  \\\n",
        "3      \u0420\u044f\u0437\u0430\u043d\u0441\u043a\u0430\u0433\u043e \u041d\u0430\u043c\u0463\u0441\u0442\u043d\u0438\u0447\u0435\u0441\u0442\u0432\u0430    \u0414\u043e\u043d\u043a\u043e\u0432\u0441\u043a\u043e\u043c\u044a \u0443\u0463\u0437\u0434\u0463   \n",
        "4    \u0412\u043e\u043b\u043e\u0433\u043e\u0434\u0441\u043a\u0430\u0433\u043e \u041d\u0430\u043c\u0463\u0441\u0442\u043d\u0438\u0447\u0435\u0441\u0442\u0432\u0430   \u0412\u043e\u043b\u043e\u0433\u043e\u0434\u0441\u043a\u0430\u0433\u043e \u0443\u0463\u0437\u0434\u0463   \n",
        "5    \u041a\u043e\u0441\u0442\u0440\u043e\u043c\u0441\u043a\u0430\u0433\u043e \u041d\u0430\u043c\u0463\u0441\u0442\u043d\u0438\u0447\u0435\u0441\u0442\u0432\u0430          not_in_text   \n",
        "6  \u041d\u0438\u0436\u0435\u0433\u043e\u0440\u043e\u0434\u0441\u043a\u0430\u0433\u043e \u041d\u0430\u043c\u0463\u0441\u0442\u043d\u0438\u0447\u0435\u0441\u0442\u0432\u0430    \u0410\u0440\u0437\u0430\u043c\u0430\u0441\u043a\u043e\u043c\u044a \u0443\u0463\u0437\u0434\u0463   \n",
        "7     \u0422\u0430\u043c\u0431\u043e\u0432\u0441\u043a\u0430\u0433\u043e \u041d\u0430\u043c\u0463\u0441\u0442\u043d\u0438\u0447\u0435\u0441\u0442\u0432\u0430  \u0422\u0435\u043c\u043d\u0438\u043a\u043e\u0432\u0441\u043a\u043e\u043c\u044a \u0443\u0463\u0437\u0434\u0463   \n",
        "\n",
        "                                         description  page  \\\n",
        "3  \u0410\u0412\u0414\u0423\u041b\u041e\u0412\u041e, \u0418\u0412\u0410\u041d\u041e\u0412\u0421\u041a\u041e\u0415 \u0442\u043e\u0436\u044c, \u0441\u0435\u043b\u043e \u0420\u044f\u0437\u0430\u043d\u0441\u043a\u0430\u0433\u043e \u041d\u0430\u043c...    10   \n",
        "4  \u0410\u0412\u0416\u0415\u041d\u0421\u041a\u0410\u042f , \u0432\u043e\u043b\u043e\u0441\u0442\u044c \u0412\u043e\u043b\u043e\u0433\u043e\u0434\u0441\u043a\u0430\u0433\u043e \u041d\u0430\u043c\u0463\u0441\u0442\u043d\u0438\u0447\u0435\u0441\u0442\u0432...    10   \n",
        "5  \u0410\u0412\u0420\u0410\u041c\u0406\u0415\u0412\u042a, \u043c\u043e\u043d\u0430\u0441\u0442\u044b\u0440\u044c \u041a\u043e\u0441\u0442\u0440\u043e\u043c\u0441\u043a\u0430\u0433\u043e \u041d\u0430\u043c\u0463\u0441\u0442\u043d\u0438\u0447\u0435\u0441\u0442...    10   \n",
        "6  \u0410\u0414\u041e\u0412\u0410\u0422\u041e\u0412\u041e, \u0441\u0435\u043b\u043e \u041d\u0438\u0436\u0435\u0433\u043e\u0440\u043e\u0434\u0441\u043a\u0430\u0433\u043e \u041d\u0430\u043c\u0463\u0441\u0442\u043d\u0438\u0447\u0435\u0441\u0442\u0432\u0430 ...    10   \n",
        "7  \u0410\u041a\u0421\u0415\u041b\u042c, \u0441\u0435\u043b\u043e \u0422\u0430\u043c\u0431\u043e\u0432\u0441\u043a\u0430\u0433\u043e \u041d\u0430\u043c\u0463\u0441\u0442\u043d\u0438\u0447\u0435\u0441\u0442\u0432\u0430 \u0432\u044a \u0422\u0435\u043c...    10   \n",
        "\n",
        "                                              SOURCE  \\\n",
        "3  http://babel.hathitrust.org/cgi/pt?id=uc1.b458...   \n",
        "4  http://babel.hathitrust.org/cgi/pt?id=uc1.b458...   \n",
        "5  http://babel.hathitrust.org/cgi/pt?id=uc1.b458...   \n",
        "6  http://babel.hathitrust.org/cgi/pt?id=uc1.b458...   \n",
        "7  http://babel.hathitrust.org/cgi/pt?id=uc1.b458...   \n",
        "\n",
        "                                           html_text ru_new_orth  \\\n",
        "3  \u0410\u0412\u0414\u0423\u041b\u041e\u0412\u041e, \u0418\u0412\u0410\u041d\u041e\u0412\u0421\u041a\u041e\u0415 \u0442\u043e\u0436\u044c, </span><span class=...    \u0410\u0412\u0414\u0423\u041b\u041e\u0412\u041e   \n",
        "4  \u0410\u0412\u0416\u0415\u041d\u0421\u041a\u0410\u042f , </span><span class=\"font0\" style=\"...   \u0410\u0412\u0416\u0415\u041d\u0421\u041a\u0410\u042f   \n",
        "5  \u0410\u0412\u0420\u0410\u041c\u0406\u0415\u0412\u042a</span><span class=\"font0\" style=\"fon...    \u0410\u0412\u0420\u0410\u041c\u0418\u0415\u0412   \n",
        "6  \u0410\u0414\u041e\u0412\u0410\u0422\u041e\u0412\u041e, </span><span class=\"font0\" style=\"f...   \u0410\u0414\u041e\u0412\u0410\u0422\u041e\u0412\u041e   \n",
        "7  \u0410\u041a\u0421\u0415\u041b\u042c, </span><span class=\"font0\" style=\"font...      \u0410\u041a\u0421\u0415\u041b\u042c   \n",
        "\n",
        "                  prov_modern_sp      uezd_modern_sp  \n",
        "3      \u0420\u044f\u0437\u0430\u043d\u0441\u043a\u043e\u0433\u043e \u041d\u0430\u043c\u0435\u0441\u0442\u043d\u0438\u0447\u0435\u0441\u0442\u0432\u0430    \u0414\u043e\u043d\u043a\u043e\u0432\u0441\u043a\u043e\u043c \u0443\u0435\u0437\u0434\u0435  \n",
        "4    \u0412\u043e\u043b\u043e\u0433\u043e\u0434\u0441\u043a\u043e\u0433\u043e \u041d\u0430\u043c\u0435\u0441\u0442\u043d\u0438\u0447\u0435\u0441\u0442\u0432\u0430  \u0412\u043e\u043b\u043e\u0433\u043e\u0434\u0441\u043a\u043e\u0433\u043e \u0443\u0435\u0437\u0434\u0435  \n",
        "5    \u041a\u043e\u0441\u0442\u0440\u043e\u043c\u0441\u043a\u043e\u0433\u043e \u041d\u0430\u043c\u0435\u0441\u0442\u043d\u0438\u0447\u0435\u0441\u0442\u0432\u0430         not_\u0438n_text  \n",
        "6  \u041d\u0438\u0436\u0435\u0433\u043e\u0440\u043e\u0434\u0441\u043a\u043e\u0433\u043e \u041d\u0430\u043c\u0435\u0441\u0442\u043d\u0438\u0447\u0435\u0441\u0442\u0432\u0430    \u0410\u0440\u0437\u0430\u043c\u0430\u0441\u043a\u043e\u043c \u0443\u0435\u0437\u0434\u0435  \n",
        "7     \u0422\u0430\u043c\u0431\u043e\u0432\u0441\u043a\u043e\u0433\u043e \u041d\u0430\u043c\u0435\u0441\u0442\u043d\u0438\u0447\u0435\u0441\u0442\u0432\u0430  \u0422\u0435\u043c\u043d\u0438\u043a\u043e\u0432\u0441\u043a\u043e\u043c \u0443\u0435\u0437\u0434\u0435  "
       ]
      }
     ],
     "prompt_number": 108
    },
    {
     "cell_type": "markdown",
     "metadata": {},
     "source": [
      "Lemmatization\n",
      "=============\n",
      "Here's where we start lemmatizing some of the text. `ru_stemmer` below uses the nltk snowball stemmer to generalize terms."
     ]
    },
    {
     "cell_type": "code",
     "collapsed": false,
     "input": [
      "import nltk"
     ],
     "language": "python",
     "metadata": {},
     "outputs": [],
     "prompt_number": 109
    },
    {
     "cell_type": "code",
     "collapsed": false,
     "input": [
      "ru_stemmer = nltk.stem.SnowballStemmer('russian')"
     ],
     "language": "python",
     "metadata": {},
     "outputs": [],
     "prompt_number": 110
    },
    {
     "cell_type": "code",
     "collapsed": false,
     "input": [
      "market_df['prov_stem'] = market_df.prov_modern_sp.replace(' [\u0410-\u042f\u0430-\u044f]+$','',regex=True).apply(ru_stemmer.stem)\n",
      "market_df['uezd_stem'] = market_df.uezd_modern_sp.replace(' \u0443\u0435\u0437\u0434\u0435$','',regex=True).apply(ru_stemmer.stem)"
     ],
     "language": "python",
     "metadata": {},
     "outputs": [],
     "prompt_number": 111
    },
    {
     "cell_type": "code",
     "collapsed": false,
     "input": [
      "#standardizing names from stems\n",
      "market_df.prov_stem = market_df.prov_stem.replace('\u0432\u043b\u0430\u0434\u0438\u043c\u0435\u0440\u043a','\u0432\u043b\u0430\u0434\u0438\u043c\u0435\u0440\u0441\u043a')\n",
      "market_df.prov_stem = market_df.prov_stem.replace('\u0432\u043e\u043b\u043e\u0434\u0438\u043c\u0435\u0440\u0441\u043a','\u0432\u043b\u0430\u0434\u0438\u043c\u0435\u0440\u0441\u043a')\n",
      "market_df.prov_stem = market_df.prov_stem.replace('\u0432\u043e\u0440\u043e\u043d\u0435\u0436','\u0432\u043e\u0440\u043e\u043d\u0435\u0436\u0441\u043a')\n",
      "market_df.prov_stem = market_df.prov_stem.replace('\u0432\u044b\u0431\u043e\u0440\u0433\u0441\u043a','\u0432\u044b\u0431\u043e\u0440\u0433')\n",
      "market_df.prov_stem = market_df.prov_stem.replace('\u043a\u043e\u0441\u0442\u0440\u043e\u043c\u0441\u043a','\u043a\u043e\u0441\u0442\u0440\u043e\u043c\u0430')\n",
      "market_df.prov_stem = market_df.prov_stem.replace('\u043a\u043e\u0441\u0442\u0440\u043e\u043c','\u043a\u043e\u0441\u0442\u0440\u043e\u043c\u0430')\n",
      "market_df.prov_stem = market_df.prov_stem.replace('\u0433\u043e\u0440\u043e\u0445\u043e\u0432\u0441\u043a','\u0433\u043e\u0440\u043e\u0445\u043e\u0432\u0435\u0446\u0441\u043a')\n",
      "market_df.prov_stem = market_df.prov_stem.replace('\u043d\u043e\u0432\u043e\u0433\u043e\u0440\u043e\u0434\u0441\u043a\u043e\u0433\u043e - \u0441\u0435\u0432\u0435\u0440\u0441\u043a','\u043d\u043e\u0432\u043e\u0433\u043e\u0440\u043e\u0434 - \u0441\u0435\u0432\u0435\u0440\u0441\u043a')\n",
      "market_df.prov_stem = market_df.prov_stem.replace('\u043d\u043e\u0432\u043e\u0433\u043e\u0440\u043e\u0434\u0441\u043a','\u043d\u043e\u0432\u0433\u043e\u0440\u043e\u0434\u0441\u043a')\n",
      "market_df.prov_stem = market_df.prov_stem.replace('\u043e\u043b\u043e\u043d\u0435\u0446','\u043e\u043b\u043e\u043d\u0435\u0446\u043a')\n",
      "market_df.prov_stem = market_df.prov_stem.replace('\u043f\u0435\u043d\u0437','\u043f\u0435\u043d\u0437\u0435\u043d\u0441\u043a')\n",
      "market_df.prov_stem = market_df.prov_stem.replace('\u043f\u0435\u0440\u043c','\u043f\u0435\u0440\u043c\u0441\u043a')\n",
      "market_df.prov_stem = market_df.prov_stem.replace('\u043f\u0441\u043a\u043e\u0432','\u043f\u0441\u043a\u043e\u0432\u0441\u043a')\n",
      "market_df.prov_stem = market_df.prov_stem.replace('\u0440\u0438\u0433','\u0440\u0438\u0436\u0441\u043a')\n",
      "market_df.prov_stem = market_df.prov_stem.replace('\u0440\u044f\u0437\u0430\u043d','\u0440\u044f\u0437\u0430\u043d\u0441\u043a')\n",
      "market_df.prov_stem = market_df.prov_stem.replace('\u0441\u0430\u0440\u0430\u0442','\u0441\u0430\u0440\u0430\u0442\u043e\u0432\u0441\u043a')\n",
      "market_df.prov_stem = market_df.prov_stem.replace('\u0442\u0430\u043c\u0431','\u0442\u0430\u043c\u0431\u043e\u0432\u0441\u043a')\n",
      "market_df.prov_stem = market_df.prov_stem.replace('\u0442\u0432\u0435\u0440','\u0442\u0432\u0435\u0440\u0441\u043a')\n",
      "market_df.prov_stem = market_df.prov_stem.replace('\u0442\u0443\u043b','\u0442\u0443\u043b\u044c\u0441\u043a')\n",
      "market_df.prov_stem = market_df.prov_stem.replace('\u0442\u0443\u043b\u044c\u0441\u043a\u0430\u0433','\u0442\u0443\u043b\u044c\u0441\u043a')\n",
      "market_df.prov_stem = market_df.prov_stem.replace('\u0447\u0435\u0440\u043d\u0438\u0433','\u0447\u0435\u0440\u043d\u0438\u0433\u043e\u0432\u0441\u043a')\n",
      "market_df.uezd_stem = market_df.uezd_stem.replace('\u0433\u043e\u0440\u043e\u0445\u043e\u0432\u0441\u043a','\u0433\u043e\u0440\u043e\u0445\u043e\u0432\u0435\u0446\u043a')"
     ],
     "language": "python",
     "metadata": {},
     "outputs": [],
     "prompt_number": 115
    },
    {
     "cell_type": "code",
     "collapsed": false,
     "input": [
      "market_df.prov_stem.unique()"
     ],
     "language": "python",
     "metadata": {},
     "outputs": [
      {
       "metadata": {},
       "output_type": "pyout",
       "prompt_number": 116,
       "text": [
        "array(['\u0440\u044f\u0437\u0430\u043d\u0441\u043a', '\u0432\u043e\u043b\u043e\u0433\u043e\u0434\u0441\u043a', '\u043a\u043e\u0441\u0442\u0440\u043e\u043c\u0430', '\u043d\u0438\u0436\u0435\u0433\u043e\u0440\u043e\u0434\u0441\u043a', '\u0442\u0430\u043c\u0431\u043e\u0432\u0441\u043a',\n",
        "       '\u0441\u0438\u043d\u0431\u0438\u0440\u0441\u043a', '\u044f\u0440\u043e\u0441\u043b\u0430\u0432\u0441\u043a', '\u043f\u0435\u043d\u0437\u0435\u043d\u0441\u043a', '\u0442\u0443\u043b\u044c\u0441\u043a', '\u0432\u043e\u0440\u043e\u043d\u0435\u0436\u0441\u043a',\n",
        "       '\u0435\u043a\u0430\u0442\u0435\u0440\u0438\u043d\u043e\u0441\u043b\u0430\u0432\u0441\u043a', '\u043a\u0443\u0440\u0441\u043a', '\u0445\u0430\u0440\u044c\u043a\u043e\u0432\u0441\u043a', '\u043c\u043e\u0433\u0438\u043b\u0435\u0432\u0441\u043a', '\u043e\u0440\u043b\u043e\u0432\u0441\u043a',\n",
        "       '\u0430\u0440\u0445\u0430\u043d\u0433\u0435\u043b\u044c\u0441\u043a', '\u043a\u0430\u0432\u043a\u0430\u0437\u0441\u043a', '\u0441\u0430\u0440\u0430\u0442\u043e\u0432\u0441\u043a', '\u043d\u043e\u0442_\u0438\u043d_\u0442\u0435x\u0442', '\u043a\u0438\u0435\u0432\u0441\u043a',\n",
        "       '\u043d\u043e\u0432\u043e\u0433\u043e\u0440\u043e\u0434 - \u0441\u0435\u0432\u0435\u0440\u0441\u043a', '\u0447\u0435\u0440\u043d\u0438\u0433\u043e\u0432\u0441\u043a', '\u0442\u043e\u0431\u043e\u043b\u044c\u0441\u043a', '\u043c\u043e\u0441\u043a\u043e\u0432\u0441\u043a',\n",
        "       '\u043a\u0430\u0437\u0430\u043d\u0441\u043a', '\u043f\u043e\u043b\u043e\u0442\u0441\u043a', '\u043f\u0435\u0440\u043c\u0441\u043a', '\u0443\u0444\u0438\u043c\u0441\u043a', '\u0432\u043b\u0430\u0434\u0438\u043c\u0435\u0440\u0441\u043a', '\u0442\u0432\u0435\u0440\u0441\u043a',\n",
        "       '\u043d\u043e\u0432\u0433\u043e\u0440\u043e\u0434\u0441\u043a', '\u043a\u0430\u043b\u0443\u0436\u0441\u043a', '\u0441\u043c\u043e\u043b\u0435\u043d\u0441\u043a', '\u0440\u0438\u0436\u0441\u043a', '\u0438\u0440\u043a\u0443\u0442\u0441\u043a', '\u0432\u044b\u0431\u043e\u0440\u0433',\n",
        "       '\u043f\u0441\u043a\u043e\u0432\u0441\u043a', '\u043e\u043b\u043e\u043d\u0435\u0446\u043a', '\u0440\u0435\u0432\u0435\u043b\u044c\u0441\u043a', '\u0432\u044f\u0442\u0441\u043a', '\u0441 \u043f\u0435\u0442\u0435\u0440\u0431\u0443\u0440\u0433\u0441\u043a'], dtype=object)"
       ]
      }
     ],
     "prompt_number": 116
    },
    {
     "cell_type": "code",
     "collapsed": false,
     "input": [
      "len(market_df.ix[market_df.ru_uezd!='not_in_text'])/len(market_df)"
     ],
     "language": "python",
     "metadata": {},
     "outputs": [
      {
       "metadata": {},
       "output_type": "pyout",
       "prompt_number": 64,
       "text": [
        "0.505"
       ]
      }
     ],
     "prompt_number": 64
    },
    {
     "cell_type": "code",
     "collapsed": false,
     "input": [
      "market_df.ix[np.logical_and(market_df.ru_prov=='not_in_text',market_df.ru_uezd!='not_in_text')][['ru_old_orth','ru_prov','description']]\n",
      "#Spot check to make sure that Namiestnichestva isn't in text, but uezd is."
     ],
     "language": "python",
     "metadata": {},
     "outputs": [
      {
       "html": [
        "<div style=\"max-height:1000px;max-width:1500px;overflow:auto;\">\n",
        "<table border=\"1\" class=\"dataframe\">\n",
        "  <thead>\n",
        "    <tr style=\"text-align: right;\">\n",
        "      <th></th>\n",
        "      <th>ru_old_orth</th>\n",
        "      <th>ru_prov</th>\n",
        "      <th>description</th>\n",
        "    </tr>\n",
        "  </thead>\n",
        "  <tbody>\n",
        "    <tr>\n",
        "      <th>77 </th>\n",
        "      <td>                 \u0411\u0423\u0420\u0415\u0426\u041a\u041e\u0419</td>\n",
        "      <td> not_in_text</td>\n",
        "      <td> \u0411\u0423\u0420\u0415\u0426\u041a\u041e\u0419, \u043f\u043e\u0433\u043e\u0441\u0442\u044a \u0432\u044a \u041d\u043e\u0432\u0433\u043e\u0440\u043e\u0434\u0441\u043a\u043e\u043c\u044a \u0443\u0463\u0437\u0434\u0463. \u0417\u0434\u0463\u0441...</td>\n",
        "    </tr>\n",
        "    <tr>\n",
        "      <th>121</th>\n",
        "      <td>                  \u0412\u041e\u041b\u042b\u041d\u0426\u042b</td>\n",
        "      <td> not_in_text</td>\n",
        "      <td> \u0412\u041e\u041b\u042b\u041d\u0426\u042b, \u043c\u0463\u0441\u0442\u0435\u0447\u043a\u043e \u0432\u044a \u0443\u0463\u0437\u0434\u0463 \u0433\u043e\u0440\u043e\u0434\u0430 \u041f\u043e\u043b\u043e\u0442\u0441\u043a\u0430. \u0417\u0434...</td>\n",
        "    </tr>\n",
        "    <tr>\n",
        "      <th>383</th>\n",
        "      <td>                    \u041b\u0418\u041f\u0426\u042b</td>\n",
        "      <td> not_in_text</td>\n",
        "      <td> \u041b\u0418\u041f\u0426\u042b, \u0441\u043b\u043e\u0431\u043e\u0434\u0430 \u0432\u044a \u0443\u0463\u0437\u0434\u0463 \u0433\u043e\u0440\u043e\u0434\u0430 \u0425\u0430\u0440\u044c\u043a\u043e\u0432\u0430. \u0417\u0434\u0463\u0441\u044c...</td>\n",
        "    </tr>\n",
        "    <tr>\n",
        "      <th>384</th>\n",
        "      <td>                   \u041b\u0418\u0421\u041a\u041e\u0419</td>\n",
        "      <td> not_in_text</td>\n",
        "      <td> \u041b\u0418\u0421\u041a\u041e\u0419 , \u0432\u043e\u043b\u043e\u043a\u044a , \u0447\u0442\u043e \u043d\u0430 \u0421\u0438\u043d\u0433\u0463, \u0432\u044a \u0412\u043e\u043b\u043e\u0433\u043e\u0434\u0441\u043a\u043e\u043c...</td>\n",
        "    </tr>\n",
        "    <tr>\n",
        "      <th>386</th>\n",
        "      <td>                 \u041b\u041e\u041f\u041e\u0422\u041e\u0412\u042a</td>\n",
        "      <td> not_in_text</td>\n",
        "      <td> \u041b\u041e\u041f\u041e\u0422\u041e\u0412\u042a, \u043c\u043e\u043d\u0430\u0441\u0442\u044b\u0440\u044c \u0432\u044a \u0412\u043e\u043b\u043e\u0433\u043e\u0434\u0441\u043a\u043e\u043c\u044a \u0443\u0463\u0437\u0434\u0463. \u0417\u0434\u0463...</td>\n",
        "    </tr>\n",
        "    <tr>\n",
        "      <th>491</th>\n",
        "      <td>                 \u041e\u041b\u042b\u0428\u0410\u041d\u0410\u042f</td>\n",
        "      <td> not_in_text</td>\n",
        "      <td> \u041e\u041b\u042b\u0428\u0410\u041d\u0410\u042f, \u0441\u043b\u043e\u0431\u043e\u0434\u0430 \u0432\u044a \u0443\u0463\u0437\u0434\u0463 \u0433\u043e\u0440\u043e\u0434\u0430 \u0425\u0430\u0440\u044c\u043a\u043e\u0432\u0430. \u0417\u0434...</td>\n",
        "    </tr>\n",
        "    <tr>\n",
        "      <th>518</th>\n",
        "      <td>               \u041f\u0415\u0420\u0415\u041a\u041e\u041f\u0415\u0426\u042a</td>\n",
        "      <td> not_in_text</td>\n",
        "      <td> \u041f\u0415\u0420\u0415\u041a\u041e\u041f\u0415\u0426\u042a , \u043c\u0463\u0441\u0442\u0435\u0447\u043a\u043e \u0432\u044a \u0443\u0463\u0437\u0434\u0463 \u0433\u043e\u0440\u043e\u0434\u0430 \u0425\u0430\u0440\u044c\u043a\u043e\u0432\u0430...</td>\n",
        "    </tr>\n",
        "    <tr>\n",
        "      <th>609</th>\n",
        "      <td> \u0421\u0412\u0418\u0420\u0421\u041a\u041e\u0419 \u0410\u041b\u0415\u041a\u0421\u0410\u041d\u0414\u0420\u041e\u0412\u0421\u041a\u041e\u0419</td>\n",
        "      <td> not_in_text</td>\n",
        "      <td> \u0421\u0412\u0418\u0420\u0421\u041a\u041e\u0419 \u0410\u041b\u0415\u041a\u0421\u0410\u041d\u0414\u0420\u041e\u0412\u0421\u041a\u041e\u0419 , \u043c\u043e\u043d\u0430\u0441\u0442\u044b\u0440\u044c \u0432\u044a \u041e\u043b\u043e\u043d\u0435\u0446...</td>\n",
        "    </tr>\n",
        "    <tr>\n",
        "      <th>675</th>\n",
        "      <td>               \u0422\u0410\u0420\u041d\u042f\u041d\u0421\u041a\u041e\u0419</td>\n",
        "      <td> not_in_text</td>\n",
        "      <td> \u0422\u0410\u0420\u041d\u042f\u041d\u0421\u041a\u041e\u0419, \u0433\u043e\u0440\u043e\u0434\u043e\u043a\u044a \u041a\u043e\u043a\u0448\u0430\u0439\u0441\u043a\u043e\u0439 \u0447\u0435\u0442\u0432\u0435\u0440\u0442\u0438 \u0432\u044a \u0443\u0463...</td>\n",
        "    </tr>\n",
        "    <tr>\n",
        "      <th>692</th>\n",
        "      <td>                \u0422\u041e\u041c\u0410\u0420\u041e\u0412\u041a\u0410</td>\n",
        "      <td> not_in_text</td>\n",
        "      <td> \u0422\u041e\u041c\u0410\u0420\u041e\u0412\u041a\u0410, \u0441\u043b\u043e\u0431\u043e\u0434\u0430 \u0432\u044a \u0443\u0463\u0437\u0434\u0463 \u0433\u043e\u0440\u043e\u0434\u0430 \u041a\u0430\u0440\u043f\u043e\u0432\u0430. \u0412\u044a...</td>\n",
        "    </tr>\n",
        "    <tr>\n",
        "      <th>733</th>\n",
        "      <td>                  \u0425\u0410\u0422\u041e\u041c\u041b\u042c</td>\n",
        "      <td> not_in_text</td>\n",
        "      <td> \u0425\u0410\u0422\u041e\u041c\u041b\u042c, \u0441\u043b\u043e\u0431\u043e\u0434\u0430 \u0432\u044a \u0443\u0463\u0437\u0434\u0463 \u0433\u043e\u0440\u043e\u0434\u0430 \u0425\u0430\u0440\u044c\u043a\u043e\u0432\u0430. \u0417\u0434\u0463...</td>\n",
        "    </tr>\n",
        "    <tr>\n",
        "      <th>747</th>\n",
        "      <td>                    \u0426\u0415\u0412\u041b\u042f</td>\n",
        "      <td> not_in_text</td>\n",
        "      <td> \u0426\u0415\u0412\u041b\u042f, \u0441\u0435\u043b\u043e \u0413. \u0421\u0443\u043c\u0430\u0440\u043e\u043a\u043e\u0432\u0430 \u0432\u044a \u0443\u0463\u0437\u0434\u0463 \u0433\u043e\u0440\u043e\u0434\u0430 \u041e\u043f\u043e\u0447...</td>\n",
        "    </tr>\n",
        "    <tr>\n",
        "      <th>757</th>\n",
        "      <td>              \u0427\u0415\u0420\u0415\u041d\u0427\u0418\u0426\u041a\u041e\u0419</td>\n",
        "      <td> not_in_text</td>\n",
        "      <td> \u0427\u0415\u0420\u0415\u041d\u0427\u0418\u0426\u041a\u041e\u0419, \u043f\u043e\u0433\u043e\u0441\u0442\u044a \u0432\u044a \u0443\u0463\u0437\u0434\u0463 \u0433\u043e\u0440\u043e\u0434\u0430 \u0421\u0442\u0430\u0440\u043e\u0439 \u0420\u0443...</td>\n",
        "    </tr>\n",
        "  </tbody>\n",
        "</table>\n",
        "</div>"
       ],
       "metadata": {},
       "output_type": "pyout",
       "prompt_number": 66,
       "text": [
        "                  ru_old_orth      ru_prov  \\\n",
        "77                   \u0411\u0423\u0420\u0415\u0426\u041a\u041e\u0419  not_in_text   \n",
        "121                   \u0412\u041e\u041b\u042b\u041d\u0426\u042b  not_in_text   \n",
        "383                     \u041b\u0418\u041f\u0426\u042b  not_in_text   \n",
        "384                    \u041b\u0418\u0421\u041a\u041e\u0419  not_in_text   \n",
        "386                  \u041b\u041e\u041f\u041e\u0422\u041e\u0412\u042a  not_in_text   \n",
        "491                  \u041e\u041b\u042b\u0428\u0410\u041d\u0410\u042f  not_in_text   \n",
        "518                \u041f\u0415\u0420\u0415\u041a\u041e\u041f\u0415\u0426\u042a  not_in_text   \n",
        "609  \u0421\u0412\u0418\u0420\u0421\u041a\u041e\u0419 \u0410\u041b\u0415\u041a\u0421\u0410\u041d\u0414\u0420\u041e\u0412\u0421\u041a\u041e\u0419  not_in_text   \n",
        "675                \u0422\u0410\u0420\u041d\u042f\u041d\u0421\u041a\u041e\u0419  not_in_text   \n",
        "692                 \u0422\u041e\u041c\u0410\u0420\u041e\u0412\u041a\u0410  not_in_text   \n",
        "733                   \u0425\u0410\u0422\u041e\u041c\u041b\u042c  not_in_text   \n",
        "747                     \u0426\u0415\u0412\u041b\u042f  not_in_text   \n",
        "757               \u0427\u0415\u0420\u0415\u041d\u0427\u0418\u0426\u041a\u041e\u0419  not_in_text   \n",
        "\n",
        "                                           description  \n",
        "77   \u0411\u0423\u0420\u0415\u0426\u041a\u041e\u0419, \u043f\u043e\u0433\u043e\u0441\u0442\u044a \u0432\u044a \u041d\u043e\u0432\u0433\u043e\u0440\u043e\u0434\u0441\u043a\u043e\u043c\u044a \u0443\u0463\u0437\u0434\u0463. \u0417\u0434\u0463\u0441...  \n",
        "121  \u0412\u041e\u041b\u042b\u041d\u0426\u042b, \u043c\u0463\u0441\u0442\u0435\u0447\u043a\u043e \u0432\u044a \u0443\u0463\u0437\u0434\u0463 \u0433\u043e\u0440\u043e\u0434\u0430 \u041f\u043e\u043b\u043e\u0442\u0441\u043a\u0430. \u0417\u0434...  \n",
        "383  \u041b\u0418\u041f\u0426\u042b, \u0441\u043b\u043e\u0431\u043e\u0434\u0430 \u0432\u044a \u0443\u0463\u0437\u0434\u0463 \u0433\u043e\u0440\u043e\u0434\u0430 \u0425\u0430\u0440\u044c\u043a\u043e\u0432\u0430. \u0417\u0434\u0463\u0441\u044c...  \n",
        "384  \u041b\u0418\u0421\u041a\u041e\u0419 , \u0432\u043e\u043b\u043e\u043a\u044a , \u0447\u0442\u043e \u043d\u0430 \u0421\u0438\u043d\u0433\u0463, \u0432\u044a \u0412\u043e\u043b\u043e\u0433\u043e\u0434\u0441\u043a\u043e\u043c...  \n",
        "386  \u041b\u041e\u041f\u041e\u0422\u041e\u0412\u042a, \u043c\u043e\u043d\u0430\u0441\u0442\u044b\u0440\u044c \u0432\u044a \u0412\u043e\u043b\u043e\u0433\u043e\u0434\u0441\u043a\u043e\u043c\u044a \u0443\u0463\u0437\u0434\u0463. \u0417\u0434\u0463...  \n",
        "491  \u041e\u041b\u042b\u0428\u0410\u041d\u0410\u042f, \u0441\u043b\u043e\u0431\u043e\u0434\u0430 \u0432\u044a \u0443\u0463\u0437\u0434\u0463 \u0433\u043e\u0440\u043e\u0434\u0430 \u0425\u0430\u0440\u044c\u043a\u043e\u0432\u0430. \u0417\u0434...  \n",
        "518  \u041f\u0415\u0420\u0415\u041a\u041e\u041f\u0415\u0426\u042a , \u043c\u0463\u0441\u0442\u0435\u0447\u043a\u043e \u0432\u044a \u0443\u0463\u0437\u0434\u0463 \u0433\u043e\u0440\u043e\u0434\u0430 \u0425\u0430\u0440\u044c\u043a\u043e\u0432\u0430...  \n",
        "609  \u0421\u0412\u0418\u0420\u0421\u041a\u041e\u0419 \u0410\u041b\u0415\u041a\u0421\u0410\u041d\u0414\u0420\u041e\u0412\u0421\u041a\u041e\u0419 , \u043c\u043e\u043d\u0430\u0441\u0442\u044b\u0440\u044c \u0432\u044a \u041e\u043b\u043e\u043d\u0435\u0446...  \n",
        "675  \u0422\u0410\u0420\u041d\u042f\u041d\u0421\u041a\u041e\u0419, \u0433\u043e\u0440\u043e\u0434\u043e\u043a\u044a \u041a\u043e\u043a\u0448\u0430\u0439\u0441\u043a\u043e\u0439 \u0447\u0435\u0442\u0432\u0435\u0440\u0442\u0438 \u0432\u044a \u0443\u0463...  \n",
        "692  \u0422\u041e\u041c\u0410\u0420\u041e\u0412\u041a\u0410, \u0441\u043b\u043e\u0431\u043e\u0434\u0430 \u0432\u044a \u0443\u0463\u0437\u0434\u0463 \u0433\u043e\u0440\u043e\u0434\u0430 \u041a\u0430\u0440\u043f\u043e\u0432\u0430. \u0412\u044a...  \n",
        "733  \u0425\u0410\u0422\u041e\u041c\u041b\u042c, \u0441\u043b\u043e\u0431\u043e\u0434\u0430 \u0432\u044a \u0443\u0463\u0437\u0434\u0463 \u0433\u043e\u0440\u043e\u0434\u0430 \u0425\u0430\u0440\u044c\u043a\u043e\u0432\u0430. \u0417\u0434\u0463...  \n",
        "747  \u0426\u0415\u0412\u041b\u042f, \u0441\u0435\u043b\u043e \u0413. \u0421\u0443\u043c\u0430\u0440\u043e\u043a\u043e\u0432\u0430 \u0432\u044a \u0443\u0463\u0437\u0434\u0463 \u0433\u043e\u0440\u043e\u0434\u0430 \u041e\u043f\u043e\u0447...  \n",
        "757  \u0427\u0415\u0420\u0415\u041d\u0427\u0418\u0426\u041a\u041e\u0419, \u043f\u043e\u0433\u043e\u0441\u0442\u044a \u0432\u044a \u0443\u0463\u0437\u0434\u0463 \u0433\u043e\u0440\u043e\u0434\u0430 \u0421\u0442\u0430\u0440\u043e\u0439 \u0420\u0443...  "
       ]
      }
     ],
     "prompt_number": 66
    },
    {
     "cell_type": "code",
     "collapsed": false,
     "input": [
      "market_df['admin_hierarchy'] = market_df.prov_stem\n",
      "cond = market_df.ru_uezd != 'not_in_text'\n",
      "market_df.admin_hierarchy[cond] = market_df.admin_hierarchy + \"|\" + market_df.uezd_stem"
     ],
     "language": "python",
     "metadata": {},
     "outputs": [],
     "prompt_number": 36
    },
    {
     "cell_type": "code",
     "collapsed": false,
     "input": [
      "market_df.prov_stem.unique()"
     ],
     "language": "python",
     "metadata": {},
     "outputs": [
      {
       "metadata": {},
       "output_type": "pyout",
       "prompt_number": 67,
       "text": [
        "array(['\u0440\u044f\u0437\u0430\u043d\u0441\u043a', '\u0432\u043e\u043b\u043e\u0433\u043e\u0434\u0441\u043a', '\u043a\u043e\u0441\u0442\u0440\u043e\u043c\u0430', '\u043d\u0438\u0436\u0435\u0433\u043e\u0440\u043e\u0434\u0441\u043a', '\u0442\u0430\u043c\u0431\u043e\u0432\u0441\u043a',\n",
        "       '\u0441\u0438\u043d\u0431\u0438\u0440\u0441\u043a', '\u044f\u0440\u043e\u0441\u043b\u0430\u0432\u0441\u043a', '\u043f\u0435\u043d\u0437\u0435\u043d\u0441\u043a', '\u0442\u0443\u043b\u044c\u0441\u043a', '\u0432\u043e\u0440\u043e\u043d\u0435\u0436\u0441\u043a',\n",
        "       '\u0435\u043a\u0430\u0442\u0435\u0440\u0438\u043d\u043e\u0441\u043b\u0430\u0432\u0441\u043a', '\u043a\u0443\u0440\u0441\u043a', '\u0445\u0430\u0440\u044c\u043a\u043e\u0432\u0441\u043a', '\u043c\u043e\u0433\u0438\u043b\u0435\u0432\u0441\u043a', '\u043e\u0440\u043b\u043e\u0432\u0441\u043a',\n",
        "       '\u0430\u0440\u0445\u0430\u043d\u0433\u0435\u043b\u044c\u0441\u043a', '\u043a\u0430\u0432\u043a\u0430\u0437\u0441\u043a', '\u0441\u0430\u0440\u0430\u0442\u043e\u0432\u0441\u043a', '\u043d\u043e\u0442_\u0438\u043d_\u0442\u0435x\u0442', '\u043a\u0438\u0435\u0432\u0441\u043a',\n",
        "       '\u043d\u043e\u0432\u043e\u0433\u043e\u0440\u043e\u0434\u0441\u043a\u043e\u0433\u043e - \u0441\u0435\u0432\u0435\u0440\u0441\u043a', '\u0447\u0435\u0440\u043d\u0438\u0433\u043e\u0432\u0441\u043a', '\u0442\u043e\u0431\u043e\u043b\u044c\u0441\u043a', '\u043c\u043e\u0441\u043a\u043e\u0432\u0441\u043a',\n",
        "       '\u043a\u0430\u0437\u0430\u043d\u0441\u043a', '\u043f\u043e\u043b\u043e\u0442\u0441\u043a', '\u043f\u0435\u0440\u043c\u0441\u043a', '\u0443\u0444\u0438\u043c\u0441\u043a', '\u0432\u043b\u0430\u0434\u0438\u043c\u0435\u0440\u0441\u043a', '\u0442\u0432\u0435\u0440\u0441\u043a',\n",
        "       '\u043d\u043e\u0432\u043e\u0433\u043e\u0440\u043e\u0434\u0441\u043a', '\u043a\u0430\u043b\u0443\u0436\u0441\u043a', '\u0441\u043c\u043e\u043b\u0435\u043d\u0441\u043a', '\u0440\u0438\u0436\u0441\u043a', '\u0438\u0440\u043a\u0443\u0442\u0441\u043a', '\u0432\u044b\u0431\u043e\u0440\u0433',\n",
        "       '\u043f\u0441\u043a\u043e\u0432\u0441\u043a', '\u043e\u043b\u043e\u043d\u0435\u0446\u043a', '\u0440\u0435\u0432\u0435\u043b\u044c\u0441\u043a', '\u0442\u0443\u043b\u044c\u0441\u043a\u0430\u0433', '\u0432\u044f\u0442\u0441\u043a',\n",
        "       '\u0441 \u043f\u0435\u0442\u0435\u0440\u0431\u0443\u0440\u0433\u0441\u043a', '\u043e\u043b\u043e\u043d\u0435\u0446', '\u043f\u0435\u043d\u0437', '\u043f\u0435\u0440\u043c', '\u043f\u0441\u043a\u043e\u0432', '\u0440\u0438\u0433', '\u0440\u044f\u0437\u0430\u043d',\n",
        "       '\u0441\u0430\u0440\u0430\u0442', '\u043d\u043e\u0432\u0433\u043e\u0440\u043e\u0434\u0441\u043a', '\u0442\u0430\u043c\u0431', '\u0442\u0432\u0435\u0440', '\u0442\u0443\u043b', '\u0447\u0435\u0440\u043d\u0438\u0433'], dtype=object)"
       ]
      }
     ],
     "prompt_number": 67
    },
    {
     "cell_type": "code",
     "collapsed": false,
     "input": [
      "market_df[market_df.prov_stem=='\u0440\u044f\u0437\u0430\u043d\u0441\u043a'].uezd_stem.unique()"
     ],
     "language": "python",
     "metadata": {},
     "outputs": [
      {
       "metadata": {},
       "output_type": "pyout",
       "prompt_number": 68,
       "text": [
        "array(['\u0434\u043e\u043d\u043a\u043e\u0432\u0441\u043a', '\u043d\u043e\u0442_\u0438\u043d_\u0442\u0435x\u0442', '\u043a\u0430\u0441\u0438\u043c\u043e\u0432\u0441\u043a', '\u0440\u044f\u0437\u0430\u043d\u0441\u043a', '\u0437\u0430\u0440\u0430\u0439\u0441\u043a',\n",
        "       '\u0441\u0430\u043f\u043e\u0436\u043a', '\u0434\u043e\u043d\u043a\u043e\u0432'], dtype=object)"
       ]
      }
     ],
     "prompt_number": 68
    },
    {
     "cell_type": "markdown",
     "metadata": {},
     "source": [
      "Adding partof IDs"
     ]
    },
    {
     "cell_type": "code",
     "collapsed": false,
     "input": [
      "with open('resources/admindf.json','r',encoding='utf-8') as fp:\n",
      "    admin_lookup = json.load(fp)\n",
      "\n",
      "problem_uezd = []\n",
      "    \n",
      "def f_admin_lookup(hierarchy):\n",
      "    \"\"\"don't try to use this anywhere else without modification. It's pretty dependent on being right here.\"\"\"\n",
      "    admin = hierarchy.split('|')\n",
      "    if len(admin)==1:\n",
      "        if admin[0]!='\u043d\u043e\u0442_\u0438\u043d_\u0442\u0435x\u0442':\n",
      "            try:\n",
      "                partof = admin_lookup['prov_stem'][admin[0]]\n",
      "            except KeyError:\n",
      "                print('{} not in admin_lookup under prov'.format(admin[0]))\n",
      "                partof = None\n",
      "        else:\n",
      "            partof = None\n",
      "    else:\n",
      "        try:\n",
      "            partof = admin_lookup['uezd_stem'][admin[1]]\n",
      "        except KeyError:\n",
      "            print('{} not in admin_lookup under uezd'.format(admin[1]))\n",
      "            problem_uezd.append(admin[1])\n",
      "            partof = None\n",
      "    return partof"
     ],
     "language": "python",
     "metadata": {},
     "outputs": [],
     "prompt_number": 68
    },
    {
     "cell_type": "code",
     "collapsed": false,
     "input": [
      "def partof_lookup(stem,admin_type):\n",
      "    if stem!='\u043d\u043e\u0442_\u0438\u043d_\u0442\u0435x\u0442':\n",
      "        try:\n",
      "            partof = admin_lookup[admin_type][stem]\n",
      "        except KeyError:\n",
      "            print('{} not in admin_lookup, type = {}'.format(stem,admin_type))\n",
      "            partof = None\n",
      "    else:\n",
      "        partof = None\n",
      "    return partof"
     ],
     "language": "python",
     "metadata": {},
     "outputs": [],
     "prompt_number": 69
    },
    {
     "cell_type": "code",
     "collapsed": false,
     "input": [
      "market_df.ix[market_df.uezd_stem=='\u043e\u043f\u043e\u0447\u0435\u043a'][['name','text','ru_prov','prov_modern_sp','ru_uezd','uezd_stem','prov_stem','page']]"
     ],
     "language": "python",
     "metadata": {},
     "outputs": [
      {
       "html": [
        "<div style=\"max-height:1000px;max-width:1500px;overflow:auto;\">\n",
        "<table border=\"1\" class=\"dataframe\">\n",
        "  <thead>\n",
        "    <tr style=\"text-align: right;\">\n",
        "      <th></th>\n",
        "      <th>name</th>\n",
        "      <th>text</th>\n",
        "      <th>ru_prov</th>\n",
        "      <th>prov_modern_sp</th>\n",
        "      <th>ru_uezd</th>\n",
        "      <th>uezd_stem</th>\n",
        "      <th>prov_stem</th>\n",
        "      <th>page</th>\n",
        "    </tr>\n",
        "  </thead>\n",
        "  <tbody>\n",
        "    <tr>\n",
        "      <th>611</th>\n",
        "      <td> \u0421\u0412\u042f\u0422\u041e\u0413\u041e\u0420\u0421\u041a\u041e\u0419</td>\n",
        "      <td> \u0421\u0412\u042f\u0422\u041e\u0413\u041e\u0420\u0421\u041a\u041e\u0419, \u043c\u043e\u043d\u0430\u0441\u0442\u044b\u0440\u044c \u041f\u0441\u043a\u043e\u0432\u0441\u043a\u0430\u0433\u043e \u041d\u0430\u043c\u0463\u0441\u0442\u043d\u0438\u0447\u0435\u0441\u0442\u0432\u0430 \u0432\u044a \u0443\u0463\u0437\u0434\u0463 \u0433\u043e\u0440\u043e\u0434\u0430 \u041e\u043f\u043e\u0447\u0435\u043a\u044a. \u041f\u0440\u0438 \u043d\u0435\u043c\u044a \u0431\u044b\u0432\u0430\u0435\u0442\u044a \u0432\u044a \u0433\u043e\u0434\u0443 \u0434\u0432\u0463 \u044f\u0440\u043c\u0430\u0440\u043a\u0438.</td>\n",
        "      <td> \u041f\u0441\u043a\u043e\u0432\u0441\u043a\u0430\u0433\u043e \u041d\u0430\u043c\u0463\u0441\u0442\u043d\u0438\u0447\u0435\u0441\u0442\u0432\u0430</td>\n",
        "      <td> \u041f\u0441\u043a\u043e\u0432\u0441\u043a\u043e\u0433\u043e \u041d\u0430\u043c\u0435\u0441\u0442\u043d\u0438\u0447\u0435\u0441\u0442\u0432\u0430</td>\n",
        "      <td> \u041e\u043f\u043e\u0447\u0435\u043a\u044a</td>\n",
        "      <td> \u043e\u043f\u043e\u0447\u0435\u043a</td>\n",
        "      <td>     \u043f\u0441\u043a\u043e\u0432\u0441\u043a</td>\n",
        "      <td> 104</td>\n",
        "    </tr>\n",
        "    <tr>\n",
        "      <th>747</th>\n",
        "      <td>        \u0426\u0415\u0412\u041b\u042f</td>\n",
        "      <td>                           \u0426\u0415\u0412\u041b\u042f, \u0441\u0435\u043b\u043e \u0413. \u0421\u0443\u043c\u0430\u0440\u043e\u043a\u043e\u0432\u0430 \u0432\u044a \u0443\u0463\u0437\u0434\u0463 \u0433\u043e\u0440\u043e\u0434\u0430 \u041e\u043f\u043e\u0447\u0435\u043a\u044a. \u0417\u0434\u0463\u0441\u044c \u0431\u044b\u0432\u0430\u0435\u0442\u044a \u043e\u0434\u043d\u0430 \u0432\u044a \u0433\u043e\u0434\u0443 \u044f\u0440\u043c\u0430\u0440\u043a\u0430.</td>\n",
        "      <td>               not_in_text</td>\n",
        "      <td>               not_\u0438n_text</td>\n",
        "      <td> \u041e\u043f\u043e\u0447\u0435\u043a\u044a</td>\n",
        "      <td> \u043e\u043f\u043e\u0447\u0435\u043a</td>\n",
        "      <td> \u043d\u043e\u0442_\u0438\u043d_\u0442\u0435x\u0442</td>\n",
        "      <td> 124</td>\n",
        "    </tr>\n",
        "  </tbody>\n",
        "</table>\n",
        "</div>"
       ],
       "metadata": {},
       "output_type": "pyout",
       "prompt_number": 51,
       "text": [
        "             name  \\\n",
        "611  \u0421\u0412\u042f\u0422\u041e\u0413\u041e\u0420\u0421\u041a\u041e\u0419   \n",
        "747         \u0426\u0415\u0412\u041b\u042f   \n",
        "\n",
        "                                                                                                                 text  \\\n",
        "611  \u0421\u0412\u042f\u0422\u041e\u0413\u041e\u0420\u0421\u041a\u041e\u0419, \u043c\u043e\u043d\u0430\u0441\u0442\u044b\u0440\u044c \u041f\u0441\u043a\u043e\u0432\u0441\u043a\u0430\u0433\u043e \u041d\u0430\u043c\u0463\u0441\u0442\u043d\u0438\u0447\u0435\u0441\u0442\u0432\u0430 \u0432\u044a \u0443\u0463\u0437\u0434\u0463 \u0433\u043e\u0440\u043e\u0434\u0430 \u041e\u043f\u043e\u0447\u0435\u043a\u044a. \u041f\u0440\u0438 \u043d\u0435\u043c\u044a \u0431\u044b\u0432\u0430\u0435\u0442\u044a \u0432\u044a \u0433\u043e\u0434\u0443 \u0434\u0432\u0463 \u044f\u0440\u043c\u0430\u0440\u043a\u0438.   \n",
        "747                            \u0426\u0415\u0412\u041b\u042f, \u0441\u0435\u043b\u043e \u0413. \u0421\u0443\u043c\u0430\u0440\u043e\u043a\u043e\u0432\u0430 \u0432\u044a \u0443\u0463\u0437\u0434\u0463 \u0433\u043e\u0440\u043e\u0434\u0430 \u041e\u043f\u043e\u0447\u0435\u043a\u044a. \u0417\u0434\u0463\u0441\u044c \u0431\u044b\u0432\u0430\u0435\u0442\u044a \u043e\u0434\u043d\u0430 \u0432\u044a \u0433\u043e\u0434\u0443 \u044f\u0440\u043c\u0430\u0440\u043a\u0430.   \n",
        "\n",
        "                       ru_prov             prov_modern_sp  ru_uezd uezd_stem  \\\n",
        "611  \u041f\u0441\u043a\u043e\u0432\u0441\u043a\u0430\u0433\u043e \u041d\u0430\u043c\u0463\u0441\u0442\u043d\u0438\u0447\u0435\u0441\u0442\u0432\u0430  \u041f\u0441\u043a\u043e\u0432\u0441\u043a\u043e\u0433\u043e \u041d\u0430\u043c\u0435\u0441\u0442\u043d\u0438\u0447\u0435\u0441\u0442\u0432\u0430  \u041e\u043f\u043e\u0447\u0435\u043a\u044a    \u043e\u043f\u043e\u0447\u0435\u043a   \n",
        "747                not_in_text                not_\u0438n_text  \u041e\u043f\u043e\u0447\u0435\u043a\u044a    \u043e\u043f\u043e\u0447\u0435\u043a   \n",
        "\n",
        "       prov_stem  page  \n",
        "611      \u043f\u0441\u043a\u043e\u0432\u0441\u043a   104  \n",
        "747  \u043d\u043e\u0442_\u0438\u043d_\u0442\u0435x\u0442   124  "
       ]
      }
     ],
     "prompt_number": 51
    },
    {
     "cell_type": "code",
     "collapsed": false,
     "input": [
      "ortho_rules(\"\u0422\u0410\u0420\u041d\u042f\u041d\u0421\u041a\u041e\u0419, \u0433\u043e\u0440\u043e\u0434\u043e\u043a\u044a \u041a\u043e\u043a\u0448\u0430\u0439\u0441\u043a\u043e\u0439 \u0447\u0435\u0442\u0432\u0435\u0440\u0442\u0438 \u0432\u042a \u0443\u0463\u0437\u0434\u0463 \u0433\u043e\u0440\u043e\u0434\u0430 \u0412\u0430\u0433\u0438. \u0411\u044b\u0432\u0430\u0435\u0442\u042a \u0437\u0434\u0463\u0441\u044c \u0433\u043e\u0434\u043e\u0432\u0430\u044f \u044f\u0440\u043c\u0430\u0440\u043a\u0430, \u043d\u0430\u0447\u0438\u043d\u0430\u044e\u0449\u0430\u044f\u0441\u044f \u0441\u042a 1 \u0413\u0435\u043d\u0432\u0430\u0440\u044f \u0438 \u043f\u0440\u043e\u0434\u043e\u043b\u0436\u0430\u044e\u0449\u0430\u044f\u0441\u044f \u0434\u043e 7 \u0434\u043d\u044f \u0442\u043e\u0433\u043e \u0436\u0435 \u043c\u0463\u0441\u044f\u0446\u0430. \u041a\u0443\u043f\u0446\u044b \u043f\u0440\u0456\u0463\u0437\u0436\u0430\u044e\u0442\u044a \u043d\u0430 \u043e\u043d\u044b\u044f \u0438\u0437\u042a \u0431\u043b\u0438\u0436\u043d\u0438\u0445\u042a \u0433\u043e\u0440\u043e\u0434\u043e\u0432\u042a \u0441\u042a \u0440\u0430\u0437\u043d\u044b\u043c\u0438 \u043c\u0463\u043b\u043e\u0447\u043d\u044b\u043c\u0438 \u043c\u043e\u0441\u043a\u043e\u0442\u0438\u043b\u044c\u043d\u044b\u043c\u0438 \u0438 \u043f\u0440\u043e\u0447\u0438\u043c\u0438 \u0442\u043e\u0432\u0430\u0440\u0430\u043c\u0438.\",lookup_dict)"
     ],
     "language": "python",
     "metadata": {},
     "outputs": [
      {
       "metadata": {},
       "output_type": "pyout",
       "prompt_number": 71,
       "text": [
        "'\u0422\u0410\u0420\u041d\u042f\u041d\u0421\u041a\u041e\u0419 \u0433\u043e\u0440\u043e\u0434\u043e\u043a \u041a\u043e\u043a\u0448\u0430\u0439\u0441\u043a\u043e\u0439 \u0447\u0435\u0442\u0432\u0435\u0440\u0442\u0438 \u0432 \u0443\u0435\u0437\u0434\u0435 \u0433\u043e\u0440\u043e\u0434\u0430 \u0412\u0430\u0433\u0438 \u0411\u044b\u0432\u0430\u0435\u0442 \u0437\u0434\u0435\u0441\u044c \u0433\u043e\u0434\u043e\u0432\u0430\u044f \u044f\u0440\u043c\u0430\u0440\u043a\u0430 \u043d\u0430\u0447\u0438\u043d\u0430\u044e\u0449\u0430\u044f\u0441\u044f \u0441 1 \u0413\u0435\u043d\u0432\u0430\u0440\u044f \u0438 \u043f\u0440\u043e\u0434\u043e\u043b\u0436\u0430\u044e\u0449\u0430\u044f\u0441\u044f \u0434\u043e 7 \u0434\u043d\u044f \u0442\u043e\u0433\u043e \u0436\u0435 \u043c\u0435\u0441\u044f\u0446\u0430 \u041a\u0443\u043f\u0446\u044b \u043f\u0440\u0438\u0435\u0437\u0436\u0430\u044e\u0442 \u043d\u0430 \u043e\u043d\u044b\u0435 \u0438\u0437 \u0431\u043b\u0438\u0436\u043d\u0438\u0445 \u0433\u043e\u0440\u043e\u0434\u043e\u0432 \u0441 \u0440\u0430\u0437\u043d\u044b\u043c\u0438 \u043c\u0435\u043b\u043e\u0447\u043d\u044b\u043c\u0438 \u043c\u043e\u0441\u043a\u043e\u0442\u0438\u043b\u044c\u043d\u044b\u043c\u0438 \u0438 \u043f\u0440\u043e\u0447\u0438\u043c\u0438 \u0442\u043e\u0432\u0430\u0440\u0430\u043c\u0438'"
       ]
      }
     ],
     "prompt_number": 71
    },
    {
     "cell_type": "code",
     "collapsed": false,
     "input": [
      "market_df['partof_id'] = market_df.admin_hierarchy.apply(f_admin_lookup)\n",
      "market_df['admin1_partof'] = market_df.prov_stem.apply(partof_lookup,args=['prov_stem'])\n",
      "market_df['admin2_partof'] = market_df.uezd_stem.apply(partof_lookup,args=['uezd_stem'])"
     ],
     "language": "python",
     "metadata": {},
     "outputs": [
      {
       "output_type": "stream",
       "stream": "stdout",
       "text": [
        "\u0432\u0430\u0433 not in admin_lookup under uezd\n",
        "\u043a\u0430\u0440\u043f\u043e\u0432 not in admin_lookup under uezd\n",
        "\u0432\u0430\u0433 not in admin_lookup, type = uezd_stem\n",
        "\u043a\u0430\u0440\u043f\u043e\u0432 not in admin_lookup, type = uezd_stem\n"
       ]
      }
     ],
     "prompt_number": 72
    },
    {
     "cell_type": "code",
     "collapsed": false,
     "input": [
      "market_df.name = market_df.name.str.title()\n",
      "market_df.alt_name = market_df.alt_name.str.title()\n",
      "market_df.name_modern_sp = market_df.name_modern_sp.str.title()"
     ],
     "language": "python",
     "metadata": {},
     "outputs": [],
     "prompt_number": 73
    },
    {
     "cell_type": "code",
     "collapsed": false,
     "input": [
      "market_df.to_excel(\"output/no_geo.xlsx\",encoding=\"utf-8\")\n",
      "market_df.to_csv(\"output/no_geo.csv\",encoding=\"utf-8\")"
     ],
     "language": "python",
     "metadata": {},
     "outputs": [],
     "prompt_number": 74
    },
    {
     "cell_type": "markdown",
     "metadata": {},
     "source": [
      "Geocoding begins here!\n",
      "======================"
     ]
    },
    {
     "cell_type": "code",
     "collapsed": false,
     "input": [
      "def geonames_request(placename,east=180,west=-180,north=90,south=-90):\n",
      "    \"\"\"\n",
      "    Takes a placename and optional bounding box, returns GeoNames response for query in dict form, with added url key\n",
      "    \"\"\"\n",
      "    url = \"http://api.geonames.org/search\"\n",
      "    Q = {'type':'json','username':'jaguillette','featureClass':'P','name':placename,'north':north,'south':south,'east':east,'west':west}\n",
      "    R = requests.get(url,params=Q)\n",
      "    response = R.json()\n",
      "    response['url'] = R.url\n",
      "    return response"
     ],
     "language": "python",
     "metadata": {},
     "outputs": [],
     "prompt_number": 76
    },
    {
     "cell_type": "code",
     "collapsed": false,
     "input": [
      "def geonames_lookup(placename,placeid,east=180,west=-180,north=90,south=-90):\n",
      "    \"\"\"\n",
      "    Queries geonames for given placename within bounding boxes.\n",
      "    Also queries for alternate spellings if no main spelling is found.\n",
      "    \"\"\"\n",
      "    Ensure_dir(\"geonames_jsons\")\n",
      "    keepgoing = True\n",
      "    returnlist = []\n",
      "    re_list = [[r'(\u041e\u0419)($|\\s)',r'\u0418\u0419\\2'],[r'(\u0441\u043a)($|\\s)',r'\\2'],[r'(\u0432)$',r'\\1\u043e']]\n",
      "    #Generating a list of possible placenames based on above regex.\n",
      "    #Placename will be added, then removed for de-duplication after set operation.\n",
      "    pname_list = [placename]\n",
      "    for pair in pname_list:\n",
      "        pname_list.append(re.sub(pair[0],pair[1],placename))\n",
      "    pname_list = set(pname_list)\n",
      "    pname_list.remove(placename)\n",
      "    #First geocoding attempt\n",
      "    response1 = geonames_request(placename,east=east,west=west,north=north,south=south)\n",
      "    #If there are results from geonames on unaltered name...\n",
      "    if response1['totalResultsCount'] != 0:\n",
      "        for x in range(0,len(geonames_json['geonames'])):\n",
      "            geo_placename = geonames_json['geonames'][x]['name']\n",
      "            geo_admin1 = geonames_json['geonames'][x]['adminName1']\n",
      "            geo_countryname = geonames_json['geonames'][x]['countryName']\n",
      "            geo_lat = geonames_json['geonames'][x]['lat']\n",
      "            geo_lng = geonames_json['geonames'][x]['lng']\n",
      "            geo_id = geonames_json['geonames'][x]['geonameId']\n",
      "            geo_country_code = geonames_json['geonames'][x]['countryCode']\n",
      "            returnlist.append([placeid,geo_placename,placename,geo_admin1,geo_countryname,geo_lat,geo_lng,geo_id,geo_country_code,out_url,'geonames',\"geonames_jsons/{}_{}.json\".format(placename,placeid)])\n",
      "        if not os.path.exists(out_url):\n",
      "            with open(\"geonames_jsons/{}_{}.json\".format(placename,placeid),'w',encoding='utf-8') as jsonfile:\n",
      "                jsonfile.write(R.text)\n",
      "    #If there are no results for an unaltered name, record the attempt, then try variant spellings from pname_list.\n",
      "    else:\n",
      "        geo_placename = \"not_found\"\n",
      "        geo_admin1 = \"not_found\"\n",
      "        geo_countryname = \"not_found\"\n",
      "        geo_lat = \"not_found\"\n",
      "        geo_lng = \"not_found\"\n",
      "        geo_id = \"not_found\"\n",
      "        geo_country_code = \"not_found\"\n",
      "        returnlist.append([placeid,geo_placename,placename,geo_admin1,geo_countryname,geo_lat,geo_lng,geo_id,geo_country_code,out_url,'geonames','None'])\n",
      "        for p in pname_list:\n",
      "            response = geonames_request(p,east=east,west=west,north=north,south=south)\n",
      "            if response['totalResultsCount'] != 0:\n",
      "                for x in range(0,len(geonames_json['geonames'])):\n",
      "                    geo_placename = geonames_json['geonames'][x]['name']\n",
      "                    geo_admin1 = geonames_json['geonames'][x]['adminName1']\n",
      "                    geo_countryname = geonames_json['geonames'][x]['countryName']\n",
      "                    geo_lat = geonames_json['geonames'][x]['lat']\n",
      "                    geo_lng = geonames_json['geonames'][x]['lng']\n",
      "                    geo_id = geonames_json['geonames'][x]['geonameId']\n",
      "                    geo_country_code = geonames_json['geonames'][x]['countryCode']\n",
      "                    returnlist.append([placeid,geo_placename,placename,geo_admin1,geo_countryname,geo_lat,geo_lng,geo_id,geo_country_code,out_url,'geonames',\"geonames_jsons/{}_{}.json\".format(placename,placeid)])\n",
      "                if not os.path.exists(out_url):\n",
      "                    with open(\"geonames_jsons/{}_{}.json\".format(p,placeid),'w',encoding='utf-8') as jsonfile:\n",
      "                        jsonfile.write(R.text)\n",
      "            else:\n",
      "                geo_placename = \"not_found\"\n",
      "                geo_admin1 = \"not_found\"\n",
      "                geo_countryname = \"not_found\"\n",
      "                geo_lat = \"not_found\"\n",
      "                geo_lng = \"not_found\"\n",
      "                geo_id = \"not_found\"\n",
      "                geo_country_code = \"not_found\"\n",
      "                returnlist.append([placeid,geo_placename,placename,geo_admin1,geo_countryname,geo_lat,geo_lng,geo_id,geo_country_code,out_url,'geonames','None'])\n",
      "    return returnlist"
     ],
     "language": "python",
     "metadata": {},
     "outputs": [],
     "prompt_number": 83
    },
    {
     "cell_type": "code",
     "collapsed": false,
     "input": [
      "bounding_dict = {}\n",
      "with open(\"resources/namiestnich_bounds.json\",'r',encoding = 'utf-8') as fp:\n",
      "    bounding_dict = json.load(fp)"
     ],
     "language": "python",
     "metadata": {},
     "outputs": [],
     "prompt_number": 85
    },
    {
     "cell_type": "code",
     "collapsed": false,
     "input": [
      "import time"
     ],
     "language": "python",
     "metadata": {},
     "outputs": [],
     "prompt_number": 86
    },
    {
     "cell_type": "code",
     "collapsed": false,
     "input": [
      "no_prov = len(market_df.ix[market_df.ru_prov=='not_in_text'])\n",
      "no_uezd = len(market_df.ix[market_df.ru_uezd=='not_in_text'])\n",
      "total = len(market_df)\n",
      "print(\"{1} / {0} ({2:.2%}) towns have no Namiestnichestvo recorded\\n{3} / {0} ({4:.2%}) towns have no Uyezd recorded\".format(total,no_prov,no_prov/total,no_uezd,no_uezd/total))"
     ],
     "language": "python",
     "metadata": {},
     "outputs": [
      {
       "output_type": "stream",
       "stream": "stdout",
       "text": [
        "36 / 799 (4.51%) towns have no Namiestnichestvo recorded\n",
        "395 / 799 (49.44%) towns have no Uyezd recorded\n"
       ]
      }
     ],
     "prompt_number": 87
    },
    {
     "cell_type": "markdown",
     "metadata": {},
     "source": [
      "Uyezd Geocoding\n",
      "===============\n",
      "Skip this if you aren't geocoding uyezdi"
     ]
    },
    {
     "cell_type": "code",
     "collapsed": false,
     "input": [
      "uydf = pd.DataFrame(market_df.admin_hierarchy.unique(),columns=['uezd'])\n",
      "uydf = pd.DataFrame(uydf.uezd.str.split('|').tolist(),columns = ['namiest','uezd'])\n",
      "uydf.head()"
     ],
     "language": "python",
     "metadata": {},
     "outputs": [
      {
       "html": [
        "<div style=\"max-height:1000px;max-width:1500px;overflow:auto;\">\n",
        "<table border=\"1\" class=\"dataframe\">\n",
        "  <thead>\n",
        "    <tr style=\"text-align: right;\">\n",
        "      <th></th>\n",
        "      <th>namiest</th>\n",
        "      <th>uezd</th>\n",
        "    </tr>\n",
        "  </thead>\n",
        "  <tbody>\n",
        "    <tr>\n",
        "      <th>0</th>\n",
        "      <td>     \u0440\u044f\u0437\u0430\u043d\u0441\u043a</td>\n",
        "      <td>   \u0434\u043e\u043d\u043a\u043e\u0432\u0441\u043a</td>\n",
        "    </tr>\n",
        "    <tr>\n",
        "      <th>1</th>\n",
        "      <td>   \u0432\u043e\u043b\u043e\u0433\u043e\u0434\u0441\u043a</td>\n",
        "      <td>  \u0432\u043e\u043b\u043e\u0433\u043e\u0434\u0441\u043a</td>\n",
        "    </tr>\n",
        "    <tr>\n",
        "      <th>2</th>\n",
        "      <td>    \u043a\u043e\u0441\u0442\u0440\u043e\u043c\u0430</td>\n",
        "      <td>       None</td>\n",
        "    </tr>\n",
        "    <tr>\n",
        "      <th>3</th>\n",
        "      <td> \u043d\u0438\u0436\u0435\u0433\u043e\u0440\u043e\u0434\u0441\u043a</td>\n",
        "      <td>   \u0430\u0440\u0437\u0430\u043c\u0430\u0441\u043a</td>\n",
        "    </tr>\n",
        "    <tr>\n",
        "      <th>4</th>\n",
        "      <td>    \u0442\u0430\u043c\u0431\u043e\u0432\u0441\u043a</td>\n",
        "      <td> \u0442\u0435\u043c\u043d\u0438\u043a\u043e\u0432\u0441\u043a</td>\n",
        "    </tr>\n",
        "  </tbody>\n",
        "</table>\n",
        "</div>"
       ],
       "metadata": {},
       "output_type": "pyout",
       "prompt_number": 45,
       "text": [
        "       namiest        uezd\n",
        "0      \u0440\u044f\u0437\u0430\u043d\u0441\u043a    \u0434\u043e\u043d\u043a\u043e\u0432\u0441\u043a\n",
        "1    \u0432\u043e\u043b\u043e\u0433\u043e\u0434\u0441\u043a   \u0432\u043e\u043b\u043e\u0433\u043e\u0434\u0441\u043a\n",
        "2     \u043a\u043e\u0441\u0442\u0440\u043e\u043c\u0430        None\n",
        "3  \u043d\u0438\u0436\u0435\u0433\u043e\u0440\u043e\u0434\u0441\u043a    \u0430\u0440\u0437\u0430\u043c\u0430\u0441\u043a\n",
        "4     \u0442\u0430\u043c\u0431\u043e\u0432\u0441\u043a  \u0442\u0435\u043c\u043d\u0438\u043a\u043e\u0432\u0441\u043a"
       ]
      }
     ],
     "prompt_number": 45
    },
    {
     "cell_type": "code",
     "collapsed": false,
     "input": [
      "new_uydf = uydf.ix[uydf.uezd.isin(problem_uezd)]"
     ],
     "language": "python",
     "metadata": {},
     "outputs": [],
     "prompt_number": 46
    },
    {
     "cell_type": "code",
     "collapsed": false,
     "input": [
      "new_uydf.uezd.unique()"
     ],
     "language": "python",
     "metadata": {},
     "outputs": [
      {
       "metadata": {},
       "output_type": "pyout",
       "prompt_number": 47,
       "text": [
        "array(['\u0432\u044b\u0442\u0435\u0433\u0440', '\u043b\u0435\u0431\u0435\u0434\u0438\u043d', '\u0435\u043a\u0430\u0442\u0435\u0440\u0438\u043d\u0431\u0443\u0440\u0433\u0441\u043a', '\u0441\u0430\u043f\u043e\u0436\u043a', '\u0434\u0435\u0440\u043f\u0442\u0441\u043a',\n",
        "       '\u043a\u0430\u0440\u0430\u0447\u0435\u0432', '\u044f\u043a\u0441\u043a', '\u0441\u0435\u043d', '\u0431\u043e\u0433\u043e\u0440\u043e\u0434\u0441\u043a', '\u043a\u043e\u0437\u044c\u043c\u043e\u0434\u0435\u043c\u044c\u044f\u043d\u0441\u043a', '\u0440\u0443\u0437',\n",
        "       '\u0448\u0443', '\u0432\u043e\u0441\u043a\u0440\u0435\u0441\u0435\u043d\u0441\u043a', '\u043b\u044e\u0431\u0435\u043d\u0441\u043a', '\u0435\u0444\u0440\u0435\u043c\u043e\u0432', '\u0431\u043e\u0440\u043e\u0432\u0441\u043a', '\u0430\u043b\u0430\u0442\u044b\u0440\u0441\u043a',\n",
        "       '\u043e\u043f\u043e\u0447\u0435\u043a', '\u0446\u0430\u0440\u0435\u0432\u043e\u043a\u043e\u043a\u0448\u0430\u0439\u0441\u043a', '\u044e\u0440\u044c\u0435\u0432\u0430-\u043f\u043e\u043b\u044c\u0441\u043a', '\u043f\u043e\u0440\u0445\u043e\u0432', '\u043c\u0435\u043d\u0441\u043a',\n",
        "       '\u043f\u043e\u0448\u0435\u0445\u043e\u043d\u0441\u043a\u043e\u043c ', '\u043a\u0443\u0440\u043c\u044b\u0448\u0441\u043a', '\u0440\u043e\u0447\u0435\u043d\u0441\u043a', '\u0441\u0443\u043c\u0441\u043a', '\u0432\u0430\u0433', '\u0437\u0443\u0431\u0446\u043e\u0432\u0441\u043a',\n",
        "       '\u0440\u0430\u0447\u0435\u0432\u0441\u043a', '\u043b\u0443\u0445\u043e\u0432\u0441\u043a', '\u043a\u0430\u0440\u043f\u043e\u0432', '\u0446\u0430\u0440\u0435\u0432\u043e\u0441\u0430\u043d\u0447\u0443\u0440\u0441\u043a', '\u0432\u043e\u043b\u043e\u0434\u0438\u043c\u0435\u0440\u0441\u043a',\n",
        "       '\u0434\u043e\u043d\u043a\u043e\u0432', '\u043d\u0435\u0440\u0447\u0438\u043d\u0441\u043a', '\u0441\u0442\u0430\u0440', '\u043f\u043e\u0432\u0435\u043d\u0435\u0446\u043a', '\u0438\u043d\u0441\u0430\u0440\u0441\u043a'], dtype=object)"
       ]
      }
     ],
     "prompt_number": 47
    },
    {
     "cell_type": "code",
     "collapsed": false,
     "input": [
      "market_df.ix[market_df.uezd_stem=='\u0446\u0430\u0440\u0435\u0432\u043e\u043a\u043e\u043a\u0448\u0430\u0439\u0441\u043a']"
     ],
     "language": "python",
     "metadata": {},
     "outputs": [
      {
       "html": [
        "<div style=\"max-height:1000px;max-width:1500px;overflow:auto;\">\n",
        "<table border=\"1\" class=\"dataframe\">\n",
        "  <thead>\n",
        "    <tr style=\"text-align: right;\">\n",
        "      <th></th>\n",
        "      <th>ru_uezd</th>\n",
        "      <th>alt_name</th>\n",
        "      <th>text</th>\n",
        "      <th>ru_prov</th>\n",
        "      <th>name</th>\n",
        "      <th>_type</th>\n",
        "      <th>page</th>\n",
        "      <th>source_url</th>\n",
        "      <th>html_text</th>\n",
        "      <th>name_modern_sp</th>\n",
        "      <th>prov_modern_sp</th>\n",
        "      <th>uezd_modern_sp</th>\n",
        "      <th>prov_stem</th>\n",
        "      <th>uezd_stem</th>\n",
        "      <th>admin_hierarchy</th>\n",
        "      <th>partof_id</th>\n",
        "    </tr>\n",
        "  </thead>\n",
        "  <tbody>\n",
        "    <tr>\n",
        "      <th>612</th>\n",
        "      <td> \u0426\u0430\u0440\u0435\u0432\u043e\u043a\u043e\u043a\u0448\u0430\u0439\u0441\u043a\u0430</td>\n",
        "      <td> None</td>\n",
        "      <td> \u0421\u0412\u042f\u0422\u041e\u0415 \u041c\u0462\u0421\u0422\u041e , \u0441\u043b\u043e\u0431\u043e\u0434\u0430 \u041a\u0430\u0437\u0430\u043d\u0441\u043a\u0430\u0433\u043e \u041d\u0430\u043c\u0463\u0441\u0442\u043d\u0438\u0447\u0435\u0441\u0442\u0432\u0430 \u0432\u044a \u0443\u0463\u0437\u0434\u0463 \u0433\u043e\u0440\u043e\u0434\u0430 \u0426\u0430\u0440\u0435\u0432\u043e\u043a\u043e\u043a\u0448\u0430\u0439\u0441\u043a\u0430. \u0417\u0434\u0463\u0441\u044c \u0431\u044b\u0432\u0430\u0435\u0442\u044a \u044f\u0440\u043c\u0430\u0440\u043a\u0430 \u0432\u044a \u0410\u0432\u0433\u0443\u0441\u0442\u0463 \u043c\u0463\u0441\u044f\u0446\u0463; \u0442\u043e\u0440\u0433\u0443\u044e\u0442\u044a \u0448\u0435\u043b\u043a\u043e\u0432\u044b\u043c\u0438, \u0431\u0443\u043c\u0430\u0436\u043d\u044b\u043c\u0438, \u0436\u0435\u043b\u0463\u0437\u043d\u044b\u043c\u0438, \u043c\u0463\u0434\u043d\u044b\u043c\u0438 \u0438 \u043f\u0440\u043e\u0447\u0438\u043c\u0438 \u0442\u043e\u0432\u0430\u0440\u0430\u043c\u0438, \u0442\u0430\u043a\u0436\u0435 \u0438 \u043b\u043e\u0448\u0430\u0434\u044c\u043c\u0438.</td>\n",
        "      <td> \u041a\u0430\u0437\u0430\u043d\u0441\u043a\u0430\u0433\u043e \u041d\u0430\u043c\u0463\u0441\u0442\u043d\u0438\u0447\u0435\u0441\u0442\u0432\u0430</td>\n",
        "      <td> \u0421\u0432\u044f\u0442\u043e\u0435 \u041c\u0463\u0441\u0442\u043e</td>\n",
        "      <td> \u0441\u043b\u043e\u0431\u043e\u0434\u0430</td>\n",
        "      <td> 104</td>\n",
        "      <td> http://babel.hathitrust.org/cgi/pt?id=uc1.b4583201;view=1up;seq=103</td>\n",
        "      <td> \u0421\u0412\u042f\u0422\u041e\u0415 \u041c\u0462\u0421\u0422\u041e , &lt;/span&gt;&lt;span class=\"font0\" style=\"font-style:italic;\"&gt;\u0441\u043b\u043e\u0431\u043e\u0434\u0430 &lt;/span&gt;&lt;span class=\"font0\"&gt;\u041a\u0430\u0437\u0430\u043d\u0441\u043a\u0430\u0433\u043e \u041d\u0430\u043c\u0463\u0441\u0442\u043d\u0438\u0447\u0435\u0441\u0442\u0432\u0430 \u0432\u044a \u0443\u0463\u0437\u0434\u0463 \u0433\u043e\u0440\u043e\u0434\u0430 \u0426\u0430\u0440\u0435\u0432\u043e\u043a\u043e\u043a\u0448\u0430\u0439\u0441\u043a\u0430. \u0417\u0434\u0463\u0441\u044c \u0431\u044b\u0432\u0430\u0435\u0442\u044a \u044f\u0440\u043c\u0430\u0440\u043a\u0430 \u0432\u044a \u0410\u0432\u0433\u0443\u0441\u0442\u0463 \u043c\u0463\u0441\u044f\u0446\u0463; \u0442\u043e\u0440\u0433\u0443\u044e\u0442\u044a \u0448\u0435\u043b\u043a\u043e\u0432\u044b\u043c\u0438, \u0431\u0443\u043c\u0430\u0436\u043d\u044b\u043c\u0438, \u0436\u0435\u043b\u0463\u0437\u043d\u044b\u043c\u0438, \u043c\u0463\u0434\u043d\u044b\u043c\u0438 \u0438 \u043f\u0440\u043e\u0447\u0438\u043c\u0438 \u0442\u043e\u0432\u0430\u0440\u0430\u043c\u0438, \u0442\u0430\u043a\u0436\u0435 \u0438 \u043b\u043e\u0448\u0430\u0434\u044c\u043c\u0438.&lt;/span&gt;</td>\n",
        "      <td> \u0421\u0432\u044f\u0442\u043e\u0435 \u041c\u0435\u0441\u0442\u043e</td>\n",
        "      <td> \u041a\u0430\u0437\u0430\u043d\u0441\u043a\u043e\u0433\u043e \u041d\u0430\u043c\u0435\u0441\u0442\u043d\u0438\u0447\u0435\u0441\u0442\u0432\u0430</td>\n",
        "      <td> \u0426\u0430\u0440\u0435\u0432\u043e\u043a\u043e\u043a\u0448\u0430\u0439\u0441\u043a\u0430</td>\n",
        "      <td> \u043a\u0430\u0437\u0430\u043d\u0441\u043a</td>\n",
        "      <td> \u0446\u0430\u0440\u0435\u0432\u043e\u043a\u043e\u043a\u0448\u0430\u0439\u0441\u043a</td>\n",
        "      <td> \u043a\u0430\u0437\u0430\u043d\u0441\u043a|\u0446\u0430\u0440\u0435\u0432\u043e\u043a\u043e\u043a\u0448\u0430\u0439\u0441\u043a</td>\n",
        "      <td>NaN</td>\n",
        "    </tr>\n",
        "  </tbody>\n",
        "</table>\n",
        "</div>"
       ],
       "metadata": {},
       "output_type": "pyout",
       "prompt_number": 55,
       "text": [
        "             ru_uezd alt_name  \\\n",
        "612  \u0426\u0430\u0440\u0435\u0432\u043e\u043a\u043e\u043a\u0448\u0430\u0439\u0441\u043a\u0430     None   \n",
        "\n",
        "                                                                                                                                                                                                                   text  \\\n",
        "612  \u0421\u0412\u042f\u0422\u041e\u0415 \u041c\u0462\u0421\u0422\u041e , \u0441\u043b\u043e\u0431\u043e\u0434\u0430 \u041a\u0430\u0437\u0430\u043d\u0441\u043a\u0430\u0433\u043e \u041d\u0430\u043c\u0463\u0441\u0442\u043d\u0438\u0447\u0435\u0441\u0442\u0432\u0430 \u0432\u044a \u0443\u0463\u0437\u0434\u0463 \u0433\u043e\u0440\u043e\u0434\u0430 \u0426\u0430\u0440\u0435\u0432\u043e\u043a\u043e\u043a\u0448\u0430\u0439\u0441\u043a\u0430. \u0417\u0434\u0463\u0441\u044c \u0431\u044b\u0432\u0430\u0435\u0442\u044a \u044f\u0440\u043c\u0430\u0440\u043a\u0430 \u0432\u044a \u0410\u0432\u0433\u0443\u0441\u0442\u0463 \u043c\u0463\u0441\u044f\u0446\u0463; \u0442\u043e\u0440\u0433\u0443\u044e\u0442\u044a \u0448\u0435\u043b\u043a\u043e\u0432\u044b\u043c\u0438, \u0431\u0443\u043c\u0430\u0436\u043d\u044b\u043c\u0438, \u0436\u0435\u043b\u0463\u0437\u043d\u044b\u043c\u0438, \u043c\u0463\u0434\u043d\u044b\u043c\u0438 \u0438 \u043f\u0440\u043e\u0447\u0438\u043c\u0438 \u0442\u043e\u0432\u0430\u0440\u0430\u043c\u0438, \u0442\u0430\u043a\u0436\u0435 \u0438 \u043b\u043e\u0448\u0430\u0434\u044c\u043c\u0438.   \n",
        "\n",
        "                       ru_prov          name    _type  page  \\\n",
        "612  \u041a\u0430\u0437\u0430\u043d\u0441\u043a\u0430\u0433\u043e \u041d\u0430\u043c\u0463\u0441\u0442\u043d\u0438\u0447\u0435\u0441\u0442\u0432\u0430  \u0421\u0432\u044f\u0442\u043e\u0435 \u041c\u0463\u0441\u0442\u043e  \u0441\u043b\u043e\u0431\u043e\u0434\u0430   104   \n",
        "\n",
        "                                                              source_url  \\\n",
        "612  http://babel.hathitrust.org/cgi/pt?id=uc1.b4583201;view=1up;seq=103   \n",
        "\n",
        "                                                                                                                                                                                                                                                                                                      html_text  \\\n",
        "612  \u0421\u0412\u042f\u0422\u041e\u0415 \u041c\u0462\u0421\u0422\u041e , </span><span class=\"font0\" style=\"font-style:italic;\">\u0441\u043b\u043e\u0431\u043e\u0434\u0430 </span><span class=\"font0\">\u041a\u0430\u0437\u0430\u043d\u0441\u043a\u0430\u0433\u043e \u041d\u0430\u043c\u0463\u0441\u0442\u043d\u0438\u0447\u0435\u0441\u0442\u0432\u0430 \u0432\u044a \u0443\u0463\u0437\u0434\u0463 \u0433\u043e\u0440\u043e\u0434\u0430 \u0426\u0430\u0440\u0435\u0432\u043e\u043a\u043e\u043a\u0448\u0430\u0439\u0441\u043a\u0430. \u0417\u0434\u0463\u0441\u044c \u0431\u044b\u0432\u0430\u0435\u0442\u044a \u044f\u0440\u043c\u0430\u0440\u043a\u0430 \u0432\u044a \u0410\u0432\u0433\u0443\u0441\u0442\u0463 \u043c\u0463\u0441\u044f\u0446\u0463; \u0442\u043e\u0440\u0433\u0443\u044e\u0442\u044a \u0448\u0435\u043b\u043a\u043e\u0432\u044b\u043c\u0438, \u0431\u0443\u043c\u0430\u0436\u043d\u044b\u043c\u0438, \u0436\u0435\u043b\u0463\u0437\u043d\u044b\u043c\u0438, \u043c\u0463\u0434\u043d\u044b\u043c\u0438 \u0438 \u043f\u0440\u043e\u0447\u0438\u043c\u0438 \u0442\u043e\u0432\u0430\u0440\u0430\u043c\u0438, \u0442\u0430\u043a\u0436\u0435 \u0438 \u043b\u043e\u0448\u0430\u0434\u044c\u043c\u0438.</span>   \n",
        "\n",
        "    name_modern_sp             prov_modern_sp   uezd_modern_sp prov_stem  \\\n",
        "612   \u0421\u0432\u044f\u0442\u043e\u0435 \u041c\u0435\u0441\u0442\u043e  \u041a\u0430\u0437\u0430\u043d\u0441\u043a\u043e\u0433\u043e \u041d\u0430\u043c\u0435\u0441\u0442\u043d\u0438\u0447\u0435\u0441\u0442\u0432\u0430  \u0426\u0430\u0440\u0435\u0432\u043e\u043a\u043e\u043a\u0448\u0430\u0439\u0441\u043a\u0430   \u043a\u0430\u0437\u0430\u043d\u0441\u043a   \n",
        "\n",
        "          uezd_stem         admin_hierarchy  partof_id  \n",
        "612  \u0446\u0430\u0440\u0435\u0432\u043e\u043a\u043e\u043a\u0448\u0430\u0439\u0441\u043a  \u043a\u0430\u0437\u0430\u043d\u0441\u043a|\u0446\u0430\u0440\u0435\u0432\u043e\u043a\u043e\u043a\u0448\u0430\u0439\u0441\u043a        NaN  "
       ]
      }
     ],
     "prompt_number": 55
    },
    {
     "cell_type": "code",
     "collapsed": false,
     "input": [
      "ugeo = []\n",
      "problem_prov = []\n",
      "d = 4\n",
      "for x in range(0,len(new_uydf)):\n",
      "    entry = new_uydf.iloc[x]\n",
      "    if entry['uezd'] is not None:\n",
      "        try:\n",
      "            loc = bounding_dict[entry['namiest']]\n",
      "        except KeyError:\n",
      "            print(\"{} is a problem\".format(entry['namiest']))\n",
      "            problem_prov.append(entry['namiest'])\n",
      "            continue\n",
      "        if \"boundaries\" in loc:\n",
      "            W = loc[\"boundaries\"][0]\n",
      "            S = loc[\"boundaries\"][1]\n",
      "            E = loc[\"boundaries\"][2]\n",
      "            N = loc[\"boundaries\"][3]\n",
      "        else:\n",
      "            N = loc[\"center\"][0]+d\n",
      "            S = loc[\"center\"][0]-d\n",
      "            W = loc[\"center\"][1]-d\n",
      "            E = loc[\"center\"][1]+d\n",
      "        ugeo.extend(geonames_lookup(entry['uezd'],entry.name,north=N,south=S,west=W,east=E))\n",
      "        time.sleep(1)"
     ],
     "language": "python",
     "metadata": {},
     "outputs": [
      {
       "output_type": "stream",
       "stream": "stdout",
       "text": [
        "\u0432\u044b\u0442\u0435\u0433\u0440 was not found.\n",
        "\u043b\u0435\u0431\u0435\u0434\u0438\u043d was found."
       ]
      },
      {
       "output_type": "stream",
       "stream": "stdout",
       "text": [
        "\n",
        "New form: \u0435\u043a\u0430\u0442\u0435\u0440\u0438\u043d\u0431\u0443\u0440\u0433"
       ]
      },
      {
       "output_type": "stream",
       "stream": "stdout",
       "text": [
        "\n",
        "\u0435\u043a\u0430\u0442\u0435\u0440\u0438\u043d\u0431\u0443\u0440\u0433 was found."
       ]
      },
      {
       "output_type": "stream",
       "stream": "stdout",
       "text": [
        "\n",
        "\u0441\u0430\u043f\u043e\u0436\u043a was not found."
       ]
      },
      {
       "output_type": "stream",
       "stream": "stdout",
       "text": [
        "\n",
        "New form: \u0434\u0435\u0440\u043f\u0442"
       ]
      },
      {
       "output_type": "stream",
       "stream": "stdout",
       "text": [
        "\n",
        "\u0434\u0435\u0440\u043f\u0442 was found."
       ]
      },
      {
       "output_type": "stream",
       "stream": "stdout",
       "text": [
        "\n",
        "\u043a\u0430\u0440\u0430\u0447\u0435\u0432 was found."
       ]
      },
      {
       "output_type": "stream",
       "stream": "stdout",
       "text": [
        "\n",
        "New form: \u044f\u043a"
       ]
      },
      {
       "output_type": "stream",
       "stream": "stdout",
       "text": [
        "\n",
        "\u044f\u043a was not found."
       ]
      },
      {
       "output_type": "stream",
       "stream": "stdout",
       "text": [
        "\n",
        "\u0441\u0435\u043d was found."
       ]
      },
      {
       "output_type": "stream",
       "stream": "stdout",
       "text": [
        "\n",
        "\u0431\u043e\u0433\u043e\u0440\u043e\u0434\u0441\u043a was found."
       ]
      },
      {
       "output_type": "stream",
       "stream": "stdout",
       "text": [
        "\n",
        "\u043a\u043e\u0437\u044c\u043c\u043e\u0434\u0435\u043c\u044c\u044f\u043d\u0441\u043a was found."
       ]
      },
      {
       "output_type": "stream",
       "stream": "stdout",
       "text": [
        "\n",
        "\u0440\u0443\u0437 was found."
       ]
      },
      {
       "output_type": "stream",
       "stream": "stdout",
       "text": [
        "\n",
        "\u0448\u0443 was found."
       ]
      },
      {
       "output_type": "stream",
       "stream": "stdout",
       "text": [
        "\n",
        "\u0432\u043e\u0441\u043a\u0440\u0435\u0441\u0435\u043d\u0441\u043a was found."
       ]
      },
      {
       "output_type": "stream",
       "stream": "stdout",
       "text": [
        "\n",
        "New form: \u043b\u044e\u0431\u0435\u043d"
       ]
      },
      {
       "output_type": "stream",
       "stream": "stdout",
       "text": [
        "\n",
        "\u043b\u044e\u0431\u0435\u043d was not found."
       ]
      },
      {
       "output_type": "stream",
       "stream": "stdout",
       "text": [
        "\n",
        "\u0435\u0444\u0440\u0435\u043c\u043e\u0432 was found."
       ]
      },
      {
       "output_type": "stream",
       "stream": "stdout",
       "text": [
        "\n",
        "\u0431\u043e\u0440\u043e\u0432\u0441\u043a was found."
       ]
      },
      {
       "output_type": "stream",
       "stream": "stdout",
       "text": [
        "\n",
        "New form: \u0430\u043b\u0430\u0442\u044b\u0440"
       ]
      },
      {
       "output_type": "stream",
       "stream": "stdout",
       "text": [
        "\n",
        "\u0430\u043b\u0430\u0442\u044b\u0440 was found."
       ]
      },
      {
       "output_type": "stream",
       "stream": "stdout",
       "text": [
        "\n",
        "\u043e\u043f\u043e\u0447\u0435\u043a was not found."
       ]
      },
      {
       "output_type": "stream",
       "stream": "stdout",
       "text": [
        "\n",
        "New form: \u0446\u0430\u0440\u0435\u0432\u043e\u043a\u043e\u043a\u0448\u0430\u0439"
       ]
      },
      {
       "output_type": "stream",
       "stream": "stdout",
       "text": [
        "\n",
        "\u0446\u0430\u0440\u0435\u0432\u043e\u043a\u043e\u043a\u0448\u0430\u0439 was not found."
       ]
      },
      {
       "output_type": "stream",
       "stream": "stdout",
       "text": [
        "\n",
        "New form: \u044e\u0440\u044c\u0435\u0432\u0430-\u043f\u043e\u043b\u044c"
       ]
      },
      {
       "output_type": "stream",
       "stream": "stdout",
       "text": [
        "\n",
        "\u044e\u0440\u044c\u0435\u0432\u0430-\u043f\u043e\u043b\u044c was not found."
       ]
      },
      {
       "output_type": "stream",
       "stream": "stdout",
       "text": [
        "\n",
        "\u043f\u043e\u0440\u0445\u043e\u0432 was found."
       ]
      },
      {
       "output_type": "stream",
       "stream": "stdout",
       "text": [
        "\n",
        "New form: \u043c\u0435\u043d"
       ]
      },
      {
       "output_type": "stream",
       "stream": "stdout",
       "text": [
        "\n",
        "\u043c\u0435\u043d was found."
       ]
      },
      {
       "output_type": "stream",
       "stream": "stdout",
       "text": [
        "\n",
        "\u043f\u043e\u0448\u0435\u0445\u043e\u043d\u0441\u043a\u043e\u043c  was not found."
       ]
      },
      {
       "output_type": "stream",
       "stream": "stdout",
       "text": [
        "\n",
        "New form: \u043a\u0443\u0440\u043c\u044b\u0448"
       ]
      },
      {
       "output_type": "stream",
       "stream": "stdout",
       "text": [
        "\n",
        "\u043a\u0443\u0440\u043c\u044b\u0448 was found."
       ]
      },
      {
       "output_type": "stream",
       "stream": "stdout",
       "text": [
        "\n",
        "New form: \u0440\u043e\u0447\u0435\u043d"
       ]
      },
      {
       "output_type": "stream",
       "stream": "stdout",
       "text": [
        "\n",
        "\u0440\u043e\u0447\u0435\u043d was not found."
       ]
      },
      {
       "output_type": "stream",
       "stream": "stdout",
       "text": [
        "\n",
        "New form: \u0441\u0443\u043c"
       ]
      },
      {
       "output_type": "stream",
       "stream": "stdout",
       "text": [
        "\n",
        "\u0441\u0443\u043c was found."
       ]
      },
      {
       "output_type": "stream",
       "stream": "stdout",
       "text": [
        "\n",
        "\u0432\u0430\u0433 was not found."
       ]
      },
      {
       "output_type": "stream",
       "stream": "stdout",
       "text": [
        "\n",
        "New form: \u0437\u0443\u0431\u0446\u043e\u0432"
       ]
      },
      {
       "output_type": "stream",
       "stream": "stdout",
       "text": [
        "\n",
        "\u0437\u0443\u0431\u0446\u043e\u0432 was found."
       ]
      },
      {
       "output_type": "stream",
       "stream": "stdout",
       "text": [
        "\n",
        "New form: \u0440\u0430\u0447\u0435\u0432"
       ]
      },
      {
       "output_type": "stream",
       "stream": "stdout",
       "text": [
        "\n",
        "\u0440\u0430\u0447\u0435\u0432 was not found."
       ]
      },
      {
       "output_type": "stream",
       "stream": "stdout",
       "text": [
        "\n",
        "New form: \u043b\u0443\u0445\u043e\u0432"
       ]
      },
      {
       "output_type": "stream",
       "stream": "stdout",
       "text": [
        "\n",
        "\u043b\u0443\u0445\u043e\u0432 was not found."
       ]
      },
      {
       "output_type": "stream",
       "stream": "stdout",
       "text": [
        "\n",
        "\u043a\u0430\u0440\u043f\u043e\u0432 was found."
       ]
      },
      {
       "output_type": "stream",
       "stream": "stdout",
       "text": [
        "\n",
        "New form: \u0446\u0430\u0440\u0435\u0432\u043e\u0441\u0430\u043d\u0447\u0443\u0440"
       ]
      },
      {
       "output_type": "stream",
       "stream": "stdout",
       "text": [
        "\n",
        "\u0446\u0430\u0440\u0435\u0432\u043e\u0441\u0430\u043d\u0447\u0443\u0440 was not found."
       ]
      },
      {
       "output_type": "stream",
       "stream": "stdout",
       "text": [
        "\n",
        "New form: \u0432\u043e\u043b\u043e\u0434\u0438\u043c\u0435\u0440"
       ]
      },
      {
       "output_type": "stream",
       "stream": "stdout",
       "text": [
        "\n",
        "\u0432\u043e\u043b\u043e\u0434\u0438\u043c\u0435\u0440 was not found."
       ]
      },
      {
       "output_type": "stream",
       "stream": "stdout",
       "text": [
        "\n",
        "\u0434\u043e\u043d\u043a\u043e\u0432 was not found."
       ]
      },
      {
       "output_type": "stream",
       "stream": "stdout",
       "text": [
        "\n",
        "\u043e\u043f\u043e\u0447\u0435\u043a was not found."
       ]
      },
      {
       "output_type": "stream",
       "stream": "stdout",
       "text": [
        "\n",
        "\u043d\u0435\u0440\u0447\u0438\u043d\u0441\u043a was found."
       ]
      },
      {
       "output_type": "stream",
       "stream": "stdout",
       "text": [
        "\n",
        "\u0441\u0442\u0430\u0440 was found."
       ]
      },
      {
       "output_type": "stream",
       "stream": "stdout",
       "text": [
        "\n",
        "\u043f\u043e\u0432\u0435\u043d\u0435\u0446\u043a was not found."
       ]
      },
      {
       "output_type": "stream",
       "stream": "stdout",
       "text": [
        "\n",
        "New form: \u0438\u043d\u0441\u0430\u0440"
       ]
      },
      {
       "output_type": "stream",
       "stream": "stdout",
       "text": [
        "\n",
        "\u0438\u043d\u0441\u0430\u0440 was found."
       ]
      },
      {
       "output_type": "stream",
       "stream": "stdout",
       "text": [
        "\n"
       ]
      }
     ],
     "prompt_number": 49
    },
    {
     "cell_type": "code",
     "collapsed": false,
     "input": [
      "uyGeodf = pd.DataFrame(ugeo,columns=['uy_id','result_placename','searched_placename','admin1','country_name','lat','lng','src_id','country_code','url','src'])\n",
      "uGeodf_merged = pd.merge(uyGeodf,uydf,left_on='uy_id',right_index=True)"
     ],
     "language": "python",
     "metadata": {},
     "outputs": [],
     "prompt_number": 157
    },
    {
     "cell_type": "code",
     "collapsed": false,
     "input": [
      "uGeodf_merged['partof_id'] = uGeodf_merged.namiest.apply(lambda x: bounding_dict[x]['hgr_id'])"
     ],
     "language": "python",
     "metadata": {},
     "outputs": [
      {
       "ename": "NameError",
       "evalue": "name 'uGeodf_merged' is not defined",
       "output_type": "pyerr",
       "traceback": [
        "\u001b[1;31m---------------------------------------------------------------------------\u001b[0m\n\u001b[1;31mNameError\u001b[0m                                 Traceback (most recent call last)",
        "\u001b[1;32m<ipython-input-153-83e3ef65abfc>\u001b[0m in \u001b[0;36m<module>\u001b[1;34m()\u001b[0m\n\u001b[1;32m----> 1\u001b[1;33m \u001b[0muGeodf_merged\u001b[0m\u001b[1;33m[\u001b[0m\u001b[1;34m'partof_id'\u001b[0m\u001b[1;33m]\u001b[0m \u001b[1;33m=\u001b[0m \u001b[0muGeodf_merged\u001b[0m\u001b[1;33m.\u001b[0m\u001b[0mnamiest\u001b[0m\u001b[1;33m.\u001b[0m\u001b[0mapply\u001b[0m\u001b[1;33m(\u001b[0m\u001b[1;32mlambda\u001b[0m \u001b[0mx\u001b[0m\u001b[1;33m:\u001b[0m \u001b[0mbounding_dict\u001b[0m\u001b[1;33m[\u001b[0m\u001b[0mx\u001b[0m\u001b[1;33m]\u001b[0m\u001b[1;33m[\u001b[0m\u001b[1;34m'hgr_id'\u001b[0m\u001b[1;33m]\u001b[0m\u001b[1;33m)\u001b[0m\u001b[1;33m\u001b[0m\u001b[0m\n\u001b[0m",
        "\u001b[1;31mNameError\u001b[0m: name 'uGeodf_merged' is not defined"
       ]
      }
     ],
     "prompt_number": 153
    },
    {
     "cell_type": "code",
     "collapsed": false,
     "input": [
      "uGeodf_merged.result_placename + ', ' + uGeodf_merged.admin1"
     ],
     "language": "python",
     "metadata": {},
     "outputs": [
      {
       "metadata": {},
       "output_type": "pyout",
       "prompt_number": 159,
       "text": [
        "0          not_found, not_found\n",
        "1                Lebedin, Kursk\n",
        "2                 Lebedyn, Sumy\n",
        "3          not_found, not_found\n",
        "4     Yekaterinburg, Sverdlovsk\n",
        "5          not_found, not_found\n",
        "6          not_found, not_found\n",
        "7                  Tartu, Tartu\n",
        "8             Karachev, Brjansk\n",
        "9          not_found, not_found\n",
        "10         not_found, not_found\n",
        "11         Sen\u2019kivka, Chernihiv\n",
        "12            Sen\u2019kovo, Mogilev\n",
        "13           Sen\u2019kovo, Smolensk\n",
        "14             Sen\u2019kov, Mogilev\n",
        "...\n",
        "170                            Staraya Ivanovka, Saratov\n",
        "171                         Staraya F\u00ebdorovka, Mordoviya\n",
        "172                           Staraya Chuncha, Udmurtiya\n",
        "173                               Staroye Tonino, Rjazan\n",
        "174                             Staryy Tyazhin, Kemerovo\n",
        "175                                Staryy Kavdyk, Tjumen\n",
        "176    Staryy Katysh, Khanty-Mansiyskiy Avtonomnyy Okrug\n",
        "177                          Staryy Karapuz, Novosibirsk\n",
        "178                          Staraya Azhinka, Altai Krai\n",
        "179                               Staryy Khogot, Irkutsk\n",
        "180                                 not_found, not_found\n",
        "181                                 not_found, not_found\n",
        "182                                     Insar, Mordoviya\n",
        "183                                     Insar, Mordoviya\n",
        "184                             Insar-Akshino, Mordoviya\n",
        "Length: 185, dtype: object"
       ]
      }
     ],
     "prompt_number": 159
    },
    {
     "cell_type": "code",
     "collapsed": false,
     "input": [
      "uGeodf_merged.to_csv('uyezd_geocoded.csv',encoding='utf-8')"
     ],
     "language": "python",
     "metadata": {},
     "outputs": [],
     "prompt_number": 160
    },
    {
     "cell_type": "code",
     "collapsed": false,
     "input": [
      "udf = pd.DataFrame(output)\n",
      "udf.head()"
     ],
     "language": "python",
     "metadata": {},
     "outputs": [
      {
       "ename": "NameError",
       "evalue": "name 'output' is not defined",
       "output_type": "pyerr",
       "traceback": [
        "\u001b[1;31m---------------------------------------------------------------------------\u001b[0m\n\u001b[1;31mNameError\u001b[0m                                 Traceback (most recent call last)",
        "\u001b[1;32m<ipython-input-530-4433a499cef2>\u001b[0m in \u001b[0;36m<module>\u001b[1;34m()\u001b[0m\n\u001b[1;32m----> 1\u001b[1;33m \u001b[0mudf\u001b[0m \u001b[1;33m=\u001b[0m \u001b[0mpd\u001b[0m\u001b[1;33m.\u001b[0m\u001b[0mDataFrame\u001b[0m\u001b[1;33m(\u001b[0m\u001b[0moutput\u001b[0m\u001b[1;33m)\u001b[0m\u001b[1;33m\u001b[0m\u001b[0m\n\u001b[0m\u001b[0;32m      2\u001b[0m \u001b[0mudf\u001b[0m\u001b[1;33m.\u001b[0m\u001b[0mhead\u001b[0m\u001b[1;33m(\u001b[0m\u001b[1;33m)\u001b[0m\u001b[1;33m\u001b[0m\u001b[0m\n",
        "\u001b[1;31mNameError\u001b[0m: name 'output' is not defined"
       ]
      }
     ],
     "prompt_number": 530
    },
    {
     "cell_type": "code",
     "collapsed": false,
     "input": [
      "udf.to_csv('udf.csv',encoding='utf-8')"
     ],
     "language": "python",
     "metadata": {},
     "outputs": []
    },
    {
     "cell_type": "markdown",
     "metadata": {},
     "source": [
      "Market Town Geocoding\n",
      "====================="
     ]
    },
    {
     "cell_type": "code",
     "collapsed": false,
     "input": [
      "geocoded = []\n",
      "problem_prov = []\n",
      "d = 4\n",
      "for x in range(0,len(market_df)):\n",
      "    entry = market_df.iloc[x]\n",
      "    try:\n",
      "        loc = bounding_dict[entry['prov_stem']]\n",
      "    except KeyError:\n",
      "        print(entry['prov_stem'])\n",
      "        problem_prov.append(entry['prov_stem'])\n",
      "        continue\n",
      "    if \"boundaries\" in loc:\n",
      "        W = loc[\"boundaries\"][0]\n",
      "        S = loc[\"boundaries\"][1]\n",
      "        E = loc[\"boundaries\"][2]\n",
      "        N = loc[\"boundaries\"][3]\n",
      "    else:\n",
      "        N = loc[\"center\"][0]+d\n",
      "        S = loc[\"center\"][0]-d\n",
      "        W = loc[\"center\"][1]-d\n",
      "        E = loc[\"center\"][1]+d\n",
      "    geocoded.extend(geonames_lookup(entry['name_modern_sp'],entry.name,north=N,south=S,west=W,east=E))"
     ],
     "language": "python",
     "metadata": {},
     "outputs": [
      {
       "output_type": "stream",
       "stream": "stdout",
       "text": [
        "\u0410\u0432\u0434\u0443\u043b\u043e\u0432\u043e was found.\n",
        "\u0410\u0432\u0436\u0435\u043d\u0441\u043a\u0430\u044f was not found."
       ]
      },
      {
       "output_type": "stream",
       "stream": "stdout",
       "text": [
        "\n",
        "\u0410\u0432\u0440\u0430\u043c\u0438\u0435\u0432 was not found."
       ]
      },
      {
       "output_type": "stream",
       "stream": "stdout",
       "text": [
        "\n",
        "\u0410\u0434\u043e\u0432\u0430\u0442\u043e\u0432\u043e was not found."
       ]
      },
      {
       "output_type": "stream",
       "stream": "stdout",
       "text": [
        "\n",
        "\u0410\u043a\u0441\u0435\u043b\u044c was found."
       ]
      },
      {
       "output_type": "stream",
       "stream": "stdout",
       "text": [
        "\n",
        "\u0410\u043b\u0430\u0442\u044b\u0440\u044c was found."
       ]
      },
      {
       "output_type": "stream",
       "stream": "stdout",
       "text": [
        "\n",
        "\u0410\u043b\u0435\u043a\u0441\u0430\u043d\u0434\u0440\u043e\u0432\u0430 \u041f\u0443\u0441\u0442\u044b\u043d\u044f was not found."
       ]
      },
      {
       "output_type": "stream",
       "stream": "stdout",
       "text": [
        "\n",
        "\u0410\u043b\u0435\u043a\u0441\u0430\u043d\u0434\u0440\u043e\u0432\u0441\u043a\u043e\u0435 was not found."
       ]
      },
      {
       "output_type": "stream",
       "stream": "stdout",
       "text": [
        "\n",
        "\u0410\u043b\u0435\u043a\u0441\u0438\u043d was found."
       ]
      },
      {
       "output_type": "stream",
       "stream": "stdout",
       "text": [
        "\n",
        "\u0410\u043b\u0435\u043a\u0441\u0435\u0435\u0432\u043a\u0430 was found."
       ]
      },
      {
       "output_type": "stream",
       "stream": "stdout",
       "text": [
        "\n",
        "\u0410\u043b\u0435\u043a\u0441\u0435\u0435\u0432\u0441\u043a\u0430\u044f was not found."
       ]
      },
      {
       "output_type": "stream",
       "stream": "stdout",
       "text": [
        "\n",
        "\u0410\u043b\u0435\u0448\u043d\u044f was found."
       ]
      },
      {
       "output_type": "stream",
       "stream": "stdout",
       "text": [
        "\n",
        "\u0410\u043d\u0430\u0435\u0432\u043e was found."
       ]
      },
      {
       "output_type": "stream",
       "stream": "stdout",
       "text": [
        "\n",
        "\u0410\u043d\u0434\u0440\u0435\u0435\u0432\u043a\u0430 was found."
       ]
      },
      {
       "output_type": "stream",
       "stream": "stdout",
       "text": [
        "\n",
        "\u0410\u043d\u0442\u043e\u043d\u043e\u0432\u043a\u0430 was found."
       ]
      },
      {
       "output_type": "stream",
       "stream": "stdout",
       "text": [
        "\n",
        "\u0410\u043f\u0438\u0447\u0435\u0440\u0441\u043a\u0430\u044f was not found."
       ]
      },
      {
       "output_type": "stream",
       "stream": "stdout",
       "text": [
        "\n",
        "\u0410\u0440\u0433\u0430\u043c\u0430\u0447\u044c\u044f was not found."
       ]
      },
      {
       "output_type": "stream",
       "stream": "stdout",
       "text": [
        "\n",
        "\u0410\u0440\u0437\u0430\u043c\u0430\u0441 was found."
       ]
      },
      {
       "output_type": "stream",
       "stream": "stdout",
       "text": [
        "\n",
        "\u0410\u0440\u0442\u0435\u043c\u043e\u043d\u043e\u0432\u043a\u0430 was not found."
       ]
      },
      {
       "output_type": "stream",
       "stream": "stdout",
       "text": [
        "\n",
        "\u0410\u0440\u0445\u0430\u043d\u0433\u0435\u043b\u044c\u0441\u043a was found."
       ]
      },
      {
       "output_type": "stream",
       "stream": "stdout",
       "text": [
        "\n",
        "\u0410\u0440\u0445\u0430\u043d\u0433\u0435\u043b\u044c\u0441\u043a\u043e\u0435 was found."
       ]
      },
      {
       "output_type": "stream",
       "stream": "stdout",
       "text": [
        "\n",
        "\u0410\u0441\u0430\u043a\u043e\u0432\u043e was not found."
       ]
      },
      {
       "output_type": "stream",
       "stream": "stdout",
       "text": [
        "\n",
        "\u0410\u0441\u0442\u0440\u0430\u0445\u0430\u043d\u044c was found."
       ]
      },
      {
       "output_type": "stream",
       "stream": "stdout",
       "text": [
        "\n",
        "\u0410\u0442\u0435\u043c\u0430\u0440 was found."
       ]
      },
      {
       "output_type": "stream",
       "stream": "stdout",
       "text": [
        "\n",
        "\u0410\u0442\u043a\u0430\u0440\u0441\u043a was found."
       ]
      },
      {
       "output_type": "stream",
       "stream": "stdout",
       "text": [
        "\n",
        "\u0410\u0445\u0442\u044b\u0440\u043a\u0430 was found."
       ]
      },
      {
       "output_type": "stream",
       "stream": "stdout",
       "text": [
        "\n",
        "\u0411\u0430\u0435\u0432\u043a\u0430 was found."
       ]
      },
      {
       "output_type": "stream",
       "stream": "stdout",
       "text": [
        "\n",
        "\u0411\u0430\u043b\u0430\u043a\u043b\u0435\u0435\u0432 was not found."
       ]
      },
      {
       "output_type": "stream",
       "stream": "stdout",
       "text": [
        "\n",
        "\u0411\u0430\u043b\u0430\u0445\u043d\u0430 was found."
       ]
      },
      {
       "output_type": "stream",
       "stream": "stdout",
       "text": [
        "\n",
        "\u0411\u0430\u0440\u044b\u0448\u0435\u0432\u043a\u0430 was found."
       ]
      },
      {
       "output_type": "stream",
       "stream": "stdout",
       "text": [
        "\n",
        "\u0411\u0430\u0441\u0430\u043d\u044c was found."
       ]
      },
      {
       "output_type": "stream",
       "stream": "stdout",
       "text": [
        "\n",
        "\u0411\u0430\u0442\u0440\u0430\u043a was found."
       ]
      },
      {
       "output_type": "stream",
       "stream": "stdout",
       "text": [
        "\n",
        "\u0411\u0430\u0442\u0443\u0440\u0438\u043d was found."
       ]
      },
      {
       "output_type": "stream",
       "stream": "stdout",
       "text": [
        "\n",
        "\u0411\u0430\u0445\u043c\u0430\u0447\u044c was found."
       ]
      },
      {
       "output_type": "stream",
       "stream": "stdout",
       "text": [
        "\n",
        "\u0411\u0435\u0437\u0433\u0438\u043d\u043e\u0432\u043a\u0430 was not found."
       ]
      },
      {
       "output_type": "stream",
       "stream": "stdout",
       "text": [
        "\n",
        "\u0411\u0435\u0440\u0435\u0437\u0438\u043d was not found."
       ]
      },
      {
       "output_type": "stream",
       "stream": "stdout",
       "text": [
        "\n",
        "\u0411\u0435\u0440\u0435\u0437\u043d\u0438\u043a\u0438 was found."
       ]
      },
      {
       "output_type": "stream",
       "stream": "stdout",
       "text": [
        "\n",
        "\u0411\u0435\u0440\u0435\u0437\u043e\u0432 was not found."
       ]
      },
      {
       "output_type": "stream",
       "stream": "stdout",
       "text": [
        "\n",
        "\u0411\u0435\u0440\u0435\u0437\u043e\u0432\u0446\u0430 was not found."
       ]
      },
      {
       "output_type": "stream",
       "stream": "stdout",
       "text": [
        "\n",
        "\u0411\u0435\u0440\u043a\u0443\u043d\u043e\u0432\u0430 was not found."
       ]
      },
      {
       "output_type": "stream",
       "stream": "stdout",
       "text": [
        "\n",
        "\u0411\u0435\u0440\u043d\u0438\u043a\u0438 was found."
       ]
      },
      {
       "output_type": "stream",
       "stream": "stdout",
       "text": [
        "\n",
        "\u0411\u0438\u043b\u044f\u0440\u0441\u043a was found."
       ]
      },
      {
       "output_type": "stream",
       "stream": "stdout",
       "text": [
        "\n",
        "\u0411\u0438\u0440\u0436\u0430 was found."
       ]
      },
      {
       "output_type": "stream",
       "stream": "stdout",
       "text": [
        "\n",
        "\u0411\u043b\u0430\u0433\u043e\u0432\u0435\u0449\u0435\u043d\u0441\u043a\u043e\u0439 \u041f\u0440\u0438\u0445\u043e\u0434 was not found."
       ]
      },
      {
       "output_type": "stream",
       "stream": "stdout",
       "text": [
        "\n",
        "\u0411\u043e\u0431\u0440\u043e\u0432\u0438\u0446\u0430 was found."
       ]
      },
      {
       "output_type": "stream",
       "stream": "stdout",
       "text": [
        "\n",
        "\u0411\u043e\u0431\u0440\u043e\u0432\u0441\u043a\u043e\u0435 was found."
       ]
      },
      {
       "output_type": "stream",
       "stream": "stdout",
       "text": [
        "\n",
        "\u0411\u043e\u0431\u044b\u043b\u0435\u0432\u0441\u043a\u043e\u0435 was not found."
       ]
      },
      {
       "output_type": "stream",
       "stream": "stdout",
       "text": [
        "\n",
        "\u0411\u043e\u0433\u0430\u0442\u0438\u0449\u0435\u0431\u043e was not found."
       ]
      },
      {
       "output_type": "stream",
       "stream": "stdout",
       "text": [
        "\n",
        "\u0411\u043e\u0433\u0430\u0442\u044b\u0439 was found."
       ]
      },
      {
       "output_type": "stream",
       "stream": "stdout",
       "text": [
        "\n",
        "\u0411\u043e\u0433\u0430\u0447\u043a\u0430 was found."
       ]
      },
      {
       "output_type": "stream",
       "stream": "stdout",
       "text": [
        "\n",
        "\u0411\u043e\u0433\u043e\u0434\u0443\u0445\u043e\u0432 was found."
       ]
      },
      {
       "output_type": "stream",
       "stream": "stdout",
       "text": [
        "\n",
        "\u0411\u043e\u0433\u043e\u0440\u043e\u0434\u0438\u0446\u043a was found."
       ]
      },
      {
       "output_type": "stream",
       "stream": "stdout",
       "text": [
        "\n",
        "\u0411\u043e\u0433\u043e\u0440\u043e\u0434\u0438\u0446\u043a was found."
       ]
      },
      {
       "output_type": "stream",
       "stream": "stdout",
       "text": [
        "\n",
        "\u0411\u043e\u0433\u043e\u0440\u043e\u0434\u0438\u0446\u043a\u043e\u0439 \u041a\u0430\u0437\u0430\u043d\u0441\u043a\u043e\u0439 was not found."
       ]
      },
      {
       "output_type": "stream",
       "stream": "stdout",
       "text": [
        "\n",
        "\u0411\u043e\u0433\u043e\u0440\u043e\u0434\u0441\u043a was found."
       ]
      },
      {
       "output_type": "stream",
       "stream": "stdout",
       "text": [
        "\n",
        "\u0411\u043e\u0433\u043e\u044f\u0432\u043b\u0435\u043d\u0441\u043a\u0430\u044f was not found."
       ]
      },
      {
       "output_type": "stream",
       "stream": "stdout",
       "text": [
        "\n",
        "\u0411\u043e\u0433\u043e\u044f\u0432\u043b\u0435\u043d\u0441\u043a\u0430\u044f was not found."
       ]
      },
      {
       "output_type": "stream",
       "stream": "stdout",
       "text": [
        "\n",
        "\u0411\u043e\u0439\u043d\u044f was not found."
       ]
      },
      {
       "output_type": "stream",
       "stream": "stdout",
       "text": [
        "\n",
        "\u0411\u043e\u0440\u0430 was not found."
       ]
      },
      {
       "output_type": "stream",
       "stream": "stdout",
       "text": [
        "\n",
        "\u0411\u043e\u0440\u0437\u043d\u0430 was found."
       ]
      },
      {
       "output_type": "stream",
       "stream": "stdout",
       "text": [
        "\n",
        "\u0411\u043e\u0440\u0438\u0441\u043e\u0432 was not found."
       ]
      },
      {
       "output_type": "stream",
       "stream": "stdout",
       "text": [
        "\n",
        "\u0411\u043e\u0440\u0438\u0441\u043e\u0433\u043b\u0435\u0431\u0441\u043a was found."
       ]
      },
      {
       "output_type": "stream",
       "stream": "stdout",
       "text": [
        "\n",
        "\u0411\u043e\u0440\u0438\u0441\u043e\u0433\u043b\u0435\u0431\u0441\u043a was found."
       ]
      },
      {
       "output_type": "stream",
       "stream": "stdout",
       "text": [
        "\n",
        "\u0411\u043e\u0440\u0438\u0441\u043e\u0433\u043b\u0435\u0431\u0441\u043a\u043e\u0439 was not found."
       ]
      },
      {
       "output_type": "stream",
       "stream": "stdout",
       "text": [
        "\n",
        "\u0411\u043e\u0440\u0438\u0441\u043f\u043e\u043b\u044c was found."
       ]
      },
      {
       "output_type": "stream",
       "stream": "stdout",
       "text": [
        "\n",
        "\u0411\u043e\u0440\u043e\u0432\u0435\u043d\u043a\u0438 was found."
       ]
      },
      {
       "output_type": "stream",
       "stream": "stdout",
       "text": [
        "\n",
        "\u0411\u043e\u0440\u043e\u0432\u0438\u0447\u0438 was found."
       ]
      },
      {
       "output_type": "stream",
       "stream": "stdout",
       "text": [
        "\n",
        "\u0411\u043e\u0440\u043e\u0432\u0441\u043a was found."
       ]
      },
      {
       "output_type": "stream",
       "stream": "stdout",
       "text": [
        "\n",
        "\u0411\u043e\u0440\u043e\u043c\u0434\u044f was not found."
       ]
      },
      {
       "output_type": "stream",
       "stream": "stdout",
       "text": [
        "\n",
        "\u0411\u043e\u0440\u044f\u0442\u0438\u043d\u043e was found."
       ]
      },
      {
       "output_type": "stream",
       "stream": "stdout",
       "text": [
        "\n",
        "\u0411\u0440\u043e\u043d\u043d\u0438\u0446\u044b was found."
       ]
      },
      {
       "output_type": "stream",
       "stream": "stdout",
       "text": [
        "\n",
        "\u0411\u0440\u043e\u043d\u043d\u0438\u0446\u044b was not found."
       ]
      },
      {
       "output_type": "stream",
       "stream": "stdout",
       "text": [
        "\n",
        "\u0411\u0440\u044f\u043d\u0441\u043a was found."
       ]
      },
      {
       "output_type": "stream",
       "stream": "stdout",
       "text": [
        "\n",
        "\u0411\u0443\u0434\u0438\u0447\u044c was not found."
       ]
      },
      {
       "output_type": "stream",
       "stream": "stdout",
       "text": [
        "\n",
        "\u0411\u0443\u0440\u0435\u0446\u043a\u043e\u0439 was not found."
       ]
      },
      {
       "output_type": "stream",
       "stream": "stdout",
       "text": [
        "\n",
        "\u0411\u0443\u0440\u043e\u043c\u043a\u0430 was found."
       ]
      },
      {
       "output_type": "stream",
       "stream": "stdout",
       "text": [
        "\n",
        "\u0411\u0443\u0447\u0430\u043b\u043a\u0438 was found."
       ]
      },
      {
       "output_type": "stream",
       "stream": "stdout",
       "text": [
        "\n",
        "\u0411\u0443\u0448\u043d\u0440\u0432\u043e was not found."
       ]
      },
      {
       "output_type": "stream",
       "stream": "stdout",
       "text": [
        "\n",
        "\u0411\u044b\u043a\u043e\u0432 was found."
       ]
      },
      {
       "output_type": "stream",
       "stream": "stdout",
       "text": [
        "\n",
        "\u0411\u0435\u0436\u0435\u0446\u043a was found."
       ]
      },
      {
       "output_type": "stream",
       "stream": "stdout",
       "text": [
        "\n",
        "\u0411\u0435\u043b\u0430\u044f \u041a\u043e\u043b\u043f\u044c was found."
       ]
      },
      {
       "output_type": "stream",
       "stream": "stdout",
       "text": [
        "\n",
        "\u0411\u0435\u043b\u0433\u043e\u0440\u043e\u0434 was found."
       ]
      },
      {
       "output_type": "stream",
       "stream": "stdout",
       "text": [
        "\n",
        "\u0411\u0435\u043b\u0438\u043a\u0438 was found."
       ]
      },
      {
       "output_type": "stream",
       "stream": "stdout",
       "text": [
        "\n",
        "\u0411\u0435\u043b\u043e\u0435 was found."
       ]
      },
      {
       "output_type": "stream",
       "stream": "stdout",
       "text": [
        "\n",
        "\u0411\u0435\u043b\u043e\u0437\u0435\u0440\u0441\u043a was found."
       ]
      },
      {
       "output_type": "stream",
       "stream": "stdout",
       "text": [
        "\n",
        "\u0411\u0435\u043b\u043e\u0437\u0435\u0440\u0441\u043a\u043e\u0439 \u041a\u0438\u0440\u0438\u043b\u043e\u0432 was not found."
       ]
      },
      {
       "output_type": "stream",
       "stream": "stdout",
       "text": [
        "\n",
        "\u0411\u0435\u043b\u043e\u0439 was not found."
       ]
      },
      {
       "output_type": "stream",
       "stream": "stdout",
       "text": [
        "\n",
        "\u0411\u0435\u043b\u043e\u043a\u0443\u0440\u0438\u043d\u0430 was not found."
       ]
      },
      {
       "output_type": "stream",
       "stream": "stdout",
       "text": [
        "\n",
        "\u0411\u0435\u043b\u043e\u043f\u043e\u043b\u044c\u0435 was found."
       ]
      },
      {
       "output_type": "stream",
       "stream": "stdout",
       "text": [
        "\n",
        "\u0411\u0435\u043b\u043e\u0446\u0435\u0440\u043a\u043e\u0432\u043a\u0430 was not found."
       ]
      },
      {
       "output_type": "stream",
       "stream": "stdout",
       "text": [
        "\n",
        "\u0411\u0435\u043b\u044b\u043d\u0438\u0447\u0438 was found."
       ]
      },
      {
       "output_type": "stream",
       "stream": "stdout",
       "text": [
        "\n",
        "\u0412\u0430\u043b\u0434\u0430\u0439 was found."
       ]
      },
      {
       "output_type": "stream",
       "stream": "stdout",
       "text": [
        "\n",
        "\u0412\u0430\u043b\u043a\u0438 was found."
       ]
      },
      {
       "output_type": "stream",
       "stream": "stdout",
       "text": [
        "\n",
        "\u0412\u0430\u043b\u0443\u0439\u043a\u0438 was found."
       ]
      },
      {
       "output_type": "stream",
       "stream": "stdout",
       "text": [
        "\n",
        "\u0412\u0430\u0440\u0432\u0430 was found."
       ]
      },
      {
       "output_type": "stream",
       "stream": "stdout",
       "text": [
        "\n",
        "\u0411\u0430\u0440\u043a\u043e\u0432 was not found."
       ]
      },
      {
       "output_type": "stream",
       "stream": "stdout",
       "text": [
        "\n",
        "\u0412\u0430\u0448\u043a\u0430 was found."
       ]
      },
      {
       "output_type": "stream",
       "stream": "stdout",
       "text": [
        "\n",
        "\u0412\u0435\u0439\u0434\u0435\u043b\u0435\u0432\u043a\u0430 was found."
       ]
      },
      {
       "output_type": "stream",
       "stream": "stdout",
       "text": [
        "\n",
        "\u0412\u0435\u043b\u0438\u0436 was found."
       ]
      },
      {
       "output_type": "stream",
       "stream": "stdout",
       "text": [
        "\n",
        "\u0412\u0435\u043b\u0438\u043a\u043e\u0435 was found."
       ]
      },
      {
       "output_type": "stream",
       "stream": "stdout",
       "text": [
        "\n",
        "\u0412\u0435\u043d\u0434\u0435\u043d was found."
       ]
      },
      {
       "output_type": "stream",
       "stream": "stdout",
       "text": [
        "\n",
        "\u0412\u0435\u043d\u0435\u0432 was found."
       ]
      },
      {
       "output_type": "stream",
       "stream": "stdout",
       "text": [
        "\n",
        "\u0412\u0435\u043d\u0435\u0432\u0441\u043a\u043e\u0439 \u041d\u0438\u043a\u043e\u043b\u0430\u0435\u0432\u0441\u043a\u043e\u0439 was not found."
       ]
      },
      {
       "output_type": "stream",
       "stream": "stdout",
       "text": [
        "\n",
        "\u0412\u0435\u043f\u0440\u0438\u043a was found."
       ]
      },
      {
       "output_type": "stream",
       "stream": "stdout",
       "text": [
        "\n",
        "\u0412\u0435\u0440\u0435\u044f was found."
       ]
      },
      {
       "output_type": "stream",
       "stream": "stdout",
       "text": [
        "\n",
        "New form: \u0412\u0435\u0440\u0445\u043d\u0438\u0439 \u0423\u0434\u0438\u043d"
       ]
      },
      {
       "output_type": "stream",
       "stream": "stdout",
       "text": [
        "\n",
        "\u0412\u0435\u0440\u0445\u043d\u0438\u0439 \u0423\u0434\u0438\u043d was not found."
       ]
      },
      {
       "output_type": "stream",
       "stream": "stdout",
       "text": [
        "\n",
        "\u0412\u0435\u0440\u0445\u043e\u0432\u0430\u0436\u0441\u043a\u043e\u0439 was not found."
       ]
      },
      {
       "output_type": "stream",
       "stream": "stdout",
       "text": [
        "\n",
        "\u0412\u0435\u0441\u0438\u0435\u0433\u043e\u043d\u0441\u043a was found."
       ]
      },
      {
       "output_type": "stream",
       "stream": "stdout",
       "text": [
        "\n",
        "\u0412\u0438\u043b\u044c\u043c\u0430\u043d\u0441\u0442\u0440\u0430\u043d\u0434 was not found."
       ]
      },
      {
       "output_type": "stream",
       "stream": "stdout",
       "text": [
        "\n",
        "\u0412\u0438\u043b\u044e\u0439\u0441\u043a\u043e\u0435 \u0412\u0435\u0440\u0445\u043d\u0435\u0435 was not found."
       ]
      },
      {
       "output_type": "stream",
       "stream": "stdout",
       "text": [
        "\n",
        "\u0412\u043e\u0435\u0432\u043e\u0434\u0441\u043a\u043e\u0435 was found."
       ]
      },
      {
       "output_type": "stream",
       "stream": "stdout",
       "text": [
        "\n",
        "\u0412\u043e\u0437\u043d\u0435\u0441\u0435\u043d\u0441\u043a\u043e\u0439 was not found."
       ]
      },
      {
       "output_type": "stream",
       "stream": "stdout",
       "text": [
        "\n",
        "\u0412\u043e\u043b\u043c\u0430\u0440 was found."
       ]
      },
      {
       "output_type": "stream",
       "stream": "stdout",
       "text": [
        "\n",
        "\u0412\u043e\u043b\u043e\u0434\u0438\u043c\u0435\u0440\u0435\u0446 was not found."
       ]
      },
      {
       "output_type": "stream",
       "stream": "stdout",
       "text": [
        "\n",
        "\u0412\u043e\u043b\u043e\u043a\u043e\u043b\u0430\u043c\u0441\u043a was found."
       ]
      },
      {
       "output_type": "stream",
       "stream": "stdout",
       "text": [
        "\n",
        "\u0412\u043e\u043b\u043e\u043a\u043e\u043f\u0438\u043d\u0435\u0436\u0441\u043a\u0430\u044f was not found."
       ]
      },
      {
       "output_type": "stream",
       "stream": "stdout",
       "text": [
        "\n",
        "\u0412\u043e\u043b\u0441\u043a was found."
       ]
      },
      {
       "output_type": "stream",
       "stream": "stdout",
       "text": [
        "\n",
        "\u0412\u043e\u043b\u0447\u044c\u044f was found."
       ]
      },
      {
       "output_type": "stream",
       "stream": "stdout",
       "text": [
        "\n",
        "\u0412\u043e\u043b\u044b\u043d\u0446\u044b was found."
       ]
      },
      {
       "output_type": "stream",
       "stream": "stdout",
       "text": [
        "\n",
        "\u0412\u043e\u043b\u044c\u043d\u0430\u044f was not found."
       ]
      },
      {
       "output_type": "stream",
       "stream": "stdout",
       "text": [
        "\n",
        "\u0412\u043e\u0440\u043e\u043d\u0435\u0436 was found."
       ]
      },
      {
       "output_type": "stream",
       "stream": "stdout",
       "text": [
        "\n",
        "\u0412\u043e\u0440\u043e\u043d\u0435\u0436 was found."
       ]
      },
      {
       "output_type": "stream",
       "stream": "stdout",
       "text": [
        "\n",
        "\u0412\u043e\u0440\u043e\u043d\u043a\u043e\u0432 was found."
       ]
      },
      {
       "output_type": "stream",
       "stream": "stdout",
       "text": [
        "\n",
        "\u0412\u043e\u0440\u043e\u043d\u0446\u043e\u0432\u043a\u0430 was found."
       ]
      },
      {
       "output_type": "stream",
       "stream": "stdout",
       "text": [
        "\n",
        "\u0412\u043e\u0441\u043a\u0440\u0435\u0441\u0435\u043d\u0441\u043a was found."
       ]
      },
      {
       "output_type": "stream",
       "stream": "stdout",
       "text": [
        "\n",
        "\u0412\u0440\u0435\u0432 was found."
       ]
      },
      {
       "output_type": "stream",
       "stream": "stdout",
       "text": [
        "\n",
        "\u0412\u044b\u0431\u043e\u0440 was found."
       ]
      },
      {
       "output_type": "stream",
       "stream": "stdout",
       "text": [
        "\n",
        "\u0412\u044b\u0431\u043e\u0440\u0433 was found."
       ]
      },
      {
       "output_type": "stream",
       "stream": "stdout",
       "text": [
        "\n",
        "\u0412\u044b\u0441\u043e\u043a\u043e\u0435 was found."
       ]
      },
      {
       "output_type": "stream",
       "stream": "stdout",
       "text": [
        "\n",
        "\u0412\u044b\u0441\u043e\u043a\u043e\u0435 was found."
       ]
      },
      {
       "output_type": "stream",
       "stream": "stdout",
       "text": [
        "\n",
        "\u0412\u044b\u0442\u0435\u0433\u0440\u0430 was found."
       ]
      },
      {
       "output_type": "stream",
       "stream": "stdout",
       "text": [
        "\n",
        "\u0412\u044c\u0438\u0447\u0443\u0433\u0430 was not found."
       ]
      },
      {
       "output_type": "stream",
       "stream": "stdout",
       "text": [
        "\n",
        "\u0412\u044b\u0448\u0433\u043e\u0440\u043e\u0434 was not found."
       ]
      },
      {
       "output_type": "stream",
       "stream": "stdout",
       "text": [
        "\n",
        "\u0412\u044b\u0448\u0433\u043e\u0440\u043e\u0434 was found."
       ]
      },
      {
       "output_type": "stream",
       "stream": "stdout",
       "text": [
        "\n",
        "\u0412\u044b\u0448\u043d\u0438\u0439 \u0412\u043e\u043b\u043e\u0447\u043e\u043a was not found."
       ]
      },
      {
       "output_type": "stream",
       "stream": "stdout",
       "text": [
        "\n",
        "\u0412\u0435\u0442\u043a\u0430 was found."
       ]
      },
      {
       "output_type": "stream",
       "stream": "stdout",
       "text": [
        "\n",
        "\u0412\u0435\u0442\u043a\u0430 was found."
       ]
      },
      {
       "output_type": "stream",
       "stream": "stdout",
       "text": [
        "\n",
        "\u0412\u044f\u0437\u043d\u0438\u043a\u0438 was found."
       ]
      },
      {
       "output_type": "stream",
       "stream": "stdout",
       "text": [
        "\n",
        "\u0412\u044f\u0437\u043e\u0432\u043d\u0430 was not found."
       ]
      },
      {
       "output_type": "stream",
       "stream": "stdout",
       "text": [
        "\n",
        "\u0413\u0430\u0431\u0437\u0430\u043b\u044c was not found."
       ]
      },
      {
       "output_type": "stream",
       "stream": "stdout",
       "text": [
        "\n",
        "\u0413\u0430\u0432\u0440\u0438\u043b\u043e\u0432\u0430 was found."
       ]
      },
      {
       "output_type": "stream",
       "stream": "stdout",
       "text": [
        "\n",
        "\u0413\u0430\u0433\u0430\u0440\u0438\u043d\u043e was found."
       ]
      },
      {
       "output_type": "stream",
       "stream": "stdout",
       "text": [
        "\n",
        "\u0413\u0430\u0434\u044f\u0447\u044c was found."
       ]
      },
      {
       "output_type": "stream",
       "stream": "stdout",
       "text": [
        "\n",
        "\u0413\u0430\u043b\u044f\u043d\u0438 was not found."
       ]
      },
      {
       "output_type": "stream",
       "stream": "stdout",
       "text": [
        "\n",
        "\u0413\u0430\u0442\u043d\u0438\u0446\u044b was not found."
       ]
      },
      {
       "output_type": "stream",
       "stream": "stdout",
       "text": [
        "\n",
        "\u0413\u0434\u043e\u0432 was found."
       ]
      },
      {
       "output_type": "stream",
       "stream": "stdout",
       "text": [
        "\n",
        "\u0413\u0435\u043d\u043d\u0430\u0434\u0438\u0435\u0432 was not found."
       ]
      },
      {
       "output_type": "stream",
       "stream": "stdout",
       "text": [
        "\n",
        "\u0413\u0435\u0440\u043c\u0430\u043d\u043e\u0432\u0430 was not found."
       ]
      },
      {
       "output_type": "stream",
       "stream": "stdout",
       "text": [
        "\n",
        "\u0413\u0436\u0430\u0442\u044c was not found."
       ]
      },
      {
       "output_type": "stream",
       "stream": "stdout",
       "text": [
        "\n",
        "\u0413\u043b\u0435\u043c\u044f\u0437\u043e\u0432 was not found."
       ]
      },
      {
       "output_type": "stream",
       "stream": "stdout",
       "text": [
        "\n",
        "\u0413\u043b\u0438\u043d\u0441\u043a was found."
       ]
      },
      {
       "output_type": "stream",
       "stream": "stdout",
       "text": [
        "\n",
        "\u0413\u043b\u0438\u043d\u0441\u043a was found."
       ]
      },
      {
       "output_type": "stream",
       "stream": "stdout",
       "text": [
        "\n",
        "\u0413\u043b\u0443\u0445\u043e\u0432 was found."
       ]
      },
      {
       "output_type": "stream",
       "stream": "stdout",
       "text": [
        "\n",
        "\u0413\u043b\u0443\u0448\u0438\u0446\u043a\u043e\u0439 was not found."
       ]
      },
      {
       "output_type": "stream",
       "stream": "stdout",
       "text": [
        "\n",
        "\u0413\u043b\u0435\u0431\u043e\u0432\u043e was found."
       ]
      },
      {
       "output_type": "stream",
       "stream": "stdout",
       "text": [
        "\n",
        "\u0413\u043d\u0438\u043b\u044c\u0441\u043a\u043e\u0439 was not found."
       ]
      },
      {
       "output_type": "stream",
       "stream": "stdout",
       "text": [
        "\n",
        "\u0413\u043e\u0433\u043e\u043b\u0435\u0432 was found."
       ]
      },
      {
       "output_type": "stream",
       "stream": "stdout",
       "text": [
        "\n",
        "\u0413\u043e\u043b\u0442\u0432\u0430 was found."
       ]
      },
      {
       "output_type": "stream",
       "stream": "stdout",
       "text": [
        "\n",
        "\u0413\u043e\u043c\u0435\u043b\u044c was found."
       ]
      },
      {
       "output_type": "stream",
       "stream": "stdout",
       "text": [
        "\n",
        "\u0413\u043e\u043c\u043b\u044f was not found."
       ]
      },
      {
       "output_type": "stream",
       "stream": "stdout",
       "text": [
        "\n",
        "\u0413\u043e\u0440\u0431\u0430\u0442\u043e\u0432 was found."
       ]
      },
      {
       "output_type": "stream",
       "stream": "stdout",
       "text": [
        "\n",
        "\u0413\u043e\u0440\u0438\u0446\u044b was found."
       ]
      },
      {
       "output_type": "stream",
       "stream": "stdout",
       "text": [
        "\n",
        "\u0413\u043e\u0440\u043a\u0438 was found."
       ]
      },
      {
       "output_type": "stream",
       "stream": "stdout",
       "text": [
        "\n",
        "\u0413\u043e\u0440\u043e\u0434\u0438\u0449\u0435 was found."
       ]
      },
      {
       "output_type": "stream",
       "stream": "stdout",
       "text": [
        "\n",
        "\u0413\u043e\u0440\u043e\u0434\u0438\u0449\u0435 was found."
       ]
      },
      {
       "output_type": "stream",
       "stream": "stdout",
       "text": [
        "\n",
        "\u0413\u043e\u0440\u043e\u0434\u043d\u044f was found."
       ]
      },
      {
       "output_type": "stream",
       "stream": "stdout",
       "text": [
        "\n",
        "\u0413\u043e\u0440\u043e\u0434\u043d\u044f was found."
       ]
      },
      {
       "output_type": "stream",
       "stream": "stdout",
       "text": [
        "\n",
        "\u0413\u043e\u0440\u043e\u0434\u043e\u043a was found."
       ]
      },
      {
       "output_type": "stream",
       "stream": "stdout",
       "text": [
        "\n",
        "\u0413\u043e\u0440\u043e\u0445\u043e\u0432\u0435\u0446 was found."
       ]
      },
      {
       "output_type": "stream",
       "stream": "stdout",
       "text": [
        "\n",
        "\u0413\u043e\u0440\u043e\u0448\u0438\u043d was found."
       ]
      },
      {
       "output_type": "stream",
       "stream": "stdout",
       "text": [
        "\n",
        "\u0413\u0440\u0435\u0431\u0435\u043d\u0438\u0448\u043a\u0438 was not found."
       ]
      },
      {
       "output_type": "stream",
       "stream": "stdout",
       "text": [
        "\n",
        "\u0413\u0440\u0435\u043c\u044f\u0447\u0435\u0432 was found."
       ]
      },
      {
       "output_type": "stream",
       "stream": "stdout",
       "text": [
        "\n",
        "\u0413\u0440\u0435\u043c\u044f\u0447\u044c was found."
       ]
      },
      {
       "output_type": "stream",
       "stream": "stdout",
       "text": [
        "\n",
        "\u0413\u0440\u0438\u0442\u0447\u0438\u043d\u043e was found."
       ]
      },
      {
       "output_type": "stream",
       "stream": "stdout",
       "text": [
        "\n",
        "\u0413\u0440\u0443\u043d\u044c was found."
       ]
      },
      {
       "output_type": "stream",
       "stream": "stdout",
       "text": [
        "\n",
        "\u0413\u0440\u044f\u0437\u043d\u043e\u0435 was found."
       ]
      },
      {
       "output_type": "stream",
       "stream": "stdout",
       "text": [
        "\n",
        "\u0413\u0440\u044f\u0437\u043e\u0432\u0435\u0446 was found."
       ]
      },
      {
       "output_type": "stream",
       "stream": "stdout",
       "text": [
        "\n",
        "\u0413\u0443\u0441\u0442\u0438\u043d\u043e\u0432\u043e was not found."
       ]
      },
      {
       "output_type": "stream",
       "stream": "stdout",
       "text": [
        "\n",
        "\u0414\u0430\u0433\u0434\u0430 was found."
       ]
      },
      {
       "output_type": "stream",
       "stream": "stdout",
       "text": [
        "\n",
        "\u0414\u0430\u0439\u043c\u0438\u043d\u043e was not found."
       ]
      },
      {
       "output_type": "stream",
       "stream": "stdout",
       "text": [
        "\n",
        "\u0414\u0430\u043b\u043c\u0430\u0442\u043e\u0432 was not found."
       ]
      },
      {
       "output_type": "stream",
       "stream": "stdout",
       "text": [
        "\n",
        "\u0414\u0432\u0443\u0440\u0435\u0447\u043d\u0430\u044f was found."
       ]
      },
      {
       "output_type": "stream",
       "stream": "stdout",
       "text": [
        "\n",
        "\u0414\u0435\u0439\u043c\u0430\u043d\u043e\u0432\u043a\u0430 was found."
       ]
      },
      {
       "output_type": "stream",
       "stream": "stdout",
       "text": [
        "\n",
        "\u0414\u0435\u043c\u0448\u0438\u043d\u0441\u043a was found."
       ]
      },
      {
       "output_type": "stream",
       "stream": "stdout",
       "text": [
        "\n",
        "\u0414\u0435\u0440\u0433\u0430\u0447\u0438 was found."
       ]
      },
      {
       "output_type": "stream",
       "stream": "stdout",
       "text": [
        "\n",
        "\u0414\u0435\u0440\u043a\u0443\u043b was found."
       ]
      },
      {
       "output_type": "stream",
       "stream": "stdout",
       "text": [
        "\n",
        "\u0414\u0435\u0440\u043f\u0442 was found."
       ]
      },
      {
       "output_type": "stream",
       "stream": "stdout",
       "text": [
        "\n",
        "\u0414\u0438\u043d\u0430\u0431\u0443\u0440\u0433 was not found."
       ]
      },
      {
       "output_type": "stream",
       "stream": "stdout",
       "text": [
        "\n",
        "\u0414\u043c\u0438\u0442\u0440\u043e\u0432 was found."
       ]
      },
      {
       "output_type": "stream",
       "stream": "stdout",
       "text": [
        "\n",
        "\u0414\u043c\u0438\u0442\u0440\u043e\u0432\u043a\u0430 was found."
       ]
      },
      {
       "output_type": "stream",
       "stream": "stdout",
       "text": [
        "\n",
        "\u0414\u043c\u0438\u0442\u0440\u043e\u0432\u0441\u043a\u0430\u044f was not found."
       ]
      },
      {
       "output_type": "stream",
       "stream": "stdout",
       "text": [
        "\n",
        "\u0414\u043e\u0431\u0440\u0430\u044f was found."
       ]
      },
      {
       "output_type": "stream",
       "stream": "stdout",
       "text": [
        "\n",
        "\u0414\u043e\u043c\u043d\u0438\u0446\u043a\u043e\u0439 was not found."
       ]
      },
      {
       "output_type": "stream",
       "stream": "stdout",
       "text": [
        "\n",
        "\u0414\u043e\u043d\u043a\u043e\u0432 was not found."
       ]
      },
      {
       "output_type": "stream",
       "stream": "stdout",
       "text": [
        "\n",
        "\u0414\u043e\u0440\u043e\u0433\u043e\u0431\u0443\u0436 was found."
       ]
      },
      {
       "output_type": "stream",
       "stream": "stdout",
       "text": [
        "\n",
        "\u0414\u0440\u0438\u0446\u0430\u043d\u044b was not found."
       ]
      },
      {
       "output_type": "stream",
       "stream": "stdout",
       "text": [
        "\n",
        "\u0414\u0443\u0431\u0435\u0446\u043a\u043e\u0439 was not found."
       ]
      },
      {
       "output_type": "stream",
       "stream": "stdout",
       "text": [
        "\n",
        "\u0414\u0443\u0431\u043a\u043e\u0432 was not found."
       ]
      },
      {
       "output_type": "stream",
       "stream": "stdout",
       "text": [
        "\n",
        "\u0414\u0443\u0431\u043e\u0432\u043e\u0435 was found."
       ]
      },
      {
       "output_type": "stream",
       "stream": "stdout",
       "text": [
        "\n",
        "\u0414\u0443\u0431\u0440\u043e\u0432\u043a\u0438 was found."
       ]
      },
      {
       "output_type": "stream",
       "stream": "stdout",
       "text": [
        "\n",
        "\u0414\u0443\u0431\u0440\u043e\u0432\u043a\u0438 was found."
       ]
      },
      {
       "output_type": "stream",
       "stream": "stdout",
       "text": [
        "\n",
        "\u0414\u0443\u0431\u0440\u043e\u0432\u043d\u0430 was not found."
       ]
      },
      {
       "output_type": "stream",
       "stream": "stdout",
       "text": [
        "\n",
        "\u0414\u0443\u043a\u0448\u0442\u0438\u043b\u0430\u0433 was not found."
       ]
      },
      {
       "output_type": "stream",
       "stream": "stdout",
       "text": [
        "\n",
        "\u0414\u0443\u043d\u0438\u043b\u043e\u0432\u043e was found."
       ]
      },
      {
       "output_type": "stream",
       "stream": "stdout",
       "text": [
        "\n",
        "\u0414\u0443\u0445\u043e\u0432\u0449\u0438\u043d\u0430 was found."
       ]
      },
      {
       "output_type": "stream",
       "stream": "stdout",
       "text": [
        "\n",
        "\u0414\u0443\u0448\u0430\u0442\u0438\u043d was found."
       ]
      },
      {
       "output_type": "stream",
       "stream": "stdout",
       "text": [
        "\n",
        "\u0414\u0435\u0434\u0438\u043b\u043e\u0432 was not found."
       ]
      },
      {
       "output_type": "stream",
       "stream": "stdout",
       "text": [
        "\n",
        "\u0414\u0435\u0434\u0438\u043d\u043e\u0432\u043e was found."
       ]
      },
      {
       "output_type": "stream",
       "stream": "stdout",
       "text": [
        "\n",
        "\u0415\u0433\u043e\u0440\u044c\u0435\u0432\u0441\u043a\u043e\u0435 \u0417\u0430\u0434\u043d\u0435\u0435 was not found."
       ]
      },
      {
       "output_type": "stream",
       "stream": "stdout",
       "text": [
        "\n",
        "\u0415\u043a\u0430\u0442\u0435\u0440\u0438\u043d\u0438\u043d\u0441\u043a\u0430\u044f was not found."
       ]
      },
      {
       "output_type": "stream",
       "stream": "stdout",
       "text": [
        "\n",
        "\u0415\u043b\u0430\u0442\u043c\u0430 was found."
       ]
      },
      {
       "output_type": "stream",
       "stream": "stdout",
       "text": [
        "\n",
        "\u0415\u043b\u0435\u0446 was found."
       ]
      },
      {
       "output_type": "stream",
       "stream": "stdout",
       "text": [
        "\n",
        "\u0415\u043b\u0438\u043c\u0441\u043a\u043e\u0439 was not found."
       ]
      },
      {
       "output_type": "stream",
       "stream": "stdout",
       "text": [
        "\n",
        "\u0415\u043b\u0438\u0441\u0430\u0432\u0435\u0442\u044a-\u0413\u0440\u0430\u0434 was not found."
       ]
      },
      {
       "output_type": "stream",
       "stream": "stdout",
       "text": [
        "\n",
        "\u0415\u043b\u043d\u0430 was found."
       ]
      },
      {
       "output_type": "stream",
       "stream": "stdout",
       "text": [
        "\n",
        "New form: \u0415\u043d\u0438\u0441\u0435\u0439"
       ]
      },
      {
       "output_type": "stream",
       "stream": "stdout",
       "text": [
        "\n",
        "\u0415\u043d\u0438\u0441\u0435\u0439 was not found."
       ]
      },
      {
       "output_type": "stream",
       "stream": "stdout",
       "text": [
        "\n",
        "\u0415\u043f\u0438\u0444\u0430\u043d\u044c was found."
       ]
      },
      {
       "output_type": "stream",
       "stream": "stdout",
       "text": [
        "\n",
        "\u0415\u0440\u0430\u0445\u0442\u0443\u0440\u0430 was not found."
       ]
      },
      {
       "output_type": "stream",
       "stream": "stdout",
       "text": [
        "\n",
        "\u0415\u0440\u0435\u043c\u0435\u043d\u0446\u043e\u0432\u043e was not found."
       ]
      },
      {
       "output_type": "stream",
       "stream": "stdout",
       "text": [
        "\n",
        "\u0415\u0440\u0435\u043c\u0435\u0435\u0432\u043a\u0430 was not found."
       ]
      },
      {
       "output_type": "stream",
       "stream": "stdout",
       "text": [
        "\n",
        "\u0415\u0441\u043a\u0435 was not found."
       ]
      },
      {
       "output_type": "stream",
       "stream": "stdout",
       "text": [
        "\n",
        "\u0415\u0444\u0440\u0435\u043c\u043e\u0432 was found."
       ]
      },
      {
       "output_type": "stream",
       "stream": "stdout",
       "text": [
        "\n",
        "\u0416\u0438\u0433\u0430\u043d\u0441\u043a was found."
       ]
      },
      {
       "output_type": "stream",
       "stream": "stdout",
       "text": [
        "\n",
        "\u0416\u0438\u0437\u0434\u0440\u0430 was found."
       ]
      },
      {
       "output_type": "stream",
       "stream": "stdout",
       "text": [
        "\n",
        "\u0416\u043e\u0432\u043d\u0438\u043d was not found."
       ]
      },
      {
       "output_type": "stream",
       "stream": "stdout",
       "text": [
        "\n",
        "\u0416\u0443\u0440\u0430\u0432\u0438\u0447\u0438 was found."
       ]
      },
      {
       "output_type": "stream",
       "stream": "stdout",
       "text": [
        "\n",
        "\u0417\u0430\u0434\u0443\u0448\u043d\u043e\u0435 was found."
       ]
      },
      {
       "output_type": "stream",
       "stream": "stdout",
       "text": [
        "\n",
        "\u0417\u0430\u043c\u043e\u0448\u044c\u0435 was found."
       ]
      },
      {
       "output_type": "stream",
       "stream": "stdout",
       "text": [
        "\n",
        "\u0417\u0430\u0440\u0430\u0439\u0441\u043a was found."
       ]
      },
      {
       "output_type": "stream",
       "stream": "stdout",
       "text": [
        "\n",
        "\u0417\u0430\u0440\u0443\u0431\u0438\u043d\u043e was found."
       ]
      },
      {
       "output_type": "stream",
       "stream": "stdout",
       "text": [
        "\n",
        "\u0417\u0430\u0448\u0438\u0432\u0435\u0440\u0441\u043a was found."
       ]
      },
      {
       "output_type": "stream",
       "stream": "stdout",
       "text": [
        "\n",
        "\u0417\u0432\u0435\u043d\u0438\u0433\u043e\u0440\u043e\u0434 was found."
       ]
      },
      {
       "output_type": "stream",
       "stream": "stdout",
       "text": [
        "\n",
        "\u0417\u0435\u043c\u043b\u044f\u043d\u0441\u043a was found."
       ]
      },
      {
       "output_type": "stream",
       "stream": "stdout",
       "text": [
        "\n",
        "\u0417\u0438\u043d\u043a\u043e\u0432 was not found."
       ]
      },
      {
       "output_type": "stream",
       "stream": "stdout",
       "text": [
        "\n",
        "\u0417\u043c\u0435\u0435\u0432\u0435 was not found."
       ]
      },
      {
       "output_type": "stream",
       "stream": "stdout",
       "text": [
        "\n",
        "\u0417\u043c\u0435\u0442\u043d\u0435\u0432 was found."
       ]
      },
      {
       "output_type": "stream",
       "stream": "stdout",
       "text": [
        "\n",
        "\u0417\u043e\u043b\u043e\u0442\u043e\u043d\u043e\u0448\u0430 was found."
       ]
      },
      {
       "output_type": "stream",
       "stream": "stdout",
       "text": [
        "\n",
        "\u0417\u043e\u043b\u043e\u0447\u0435\u0432 was found."
       ]
      },
      {
       "output_type": "stream",
       "stream": "stdout",
       "text": [
        "\n",
        "\u0417\u0443\u0431\u0446\u043e\u0432 was found."
       ]
      },
      {
       "output_type": "stream",
       "stream": "stdout",
       "text": [
        "\n",
        "\u0418\u0432\u0430\u043d\u0433\u043e\u0440\u043e\u0434 was found."
       ]
      },
      {
       "output_type": "stream",
       "stream": "stdout",
       "text": [
        "\n",
        "\u0418\u0432\u0430\u043d\u043e\u0432\u043a\u0430 was found."
       ]
      },
      {
       "output_type": "stream",
       "stream": "stdout",
       "text": [
        "\n",
        "\u0418\u0432\u0430\u043d\u043e\u0432\u043a\u0430 was found."
       ]
      },
      {
       "output_type": "stream",
       "stream": "stdout",
       "text": [
        "\n",
        "\u0418\u0432\u0430\u043d\u043e\u0432\u043e was found."
       ]
      },
      {
       "output_type": "stream",
       "stream": "stdout",
       "text": [
        "\n",
        "\u0418\u0432\u0430\u043d\u043e\u0432\u043e was found."
       ]
      },
      {
       "output_type": "stream",
       "stream": "stdout",
       "text": [
        "\n",
        "\u0418\u0432\u0430\u043d\u043e\u0432\u0441\u043a\u043e\u0435 was found."
       ]
      },
      {
       "output_type": "stream",
       "stream": "stdout",
       "text": [
        "\n",
        "\u0418\u0432\u0430\u043d\u043e\u0432\u0441\u043a\u043e\u0435 was found."
       ]
      },
      {
       "output_type": "stream",
       "stream": "stdout",
       "text": [
        "\n",
        "\u0418\u0432\u0430\u043d\u043e\u0432\u0441\u043a\u043e\u0435 was found."
       ]
      },
      {
       "output_type": "stream",
       "stream": "stdout",
       "text": [
        "\n",
        "\u0418\u0432\u0430\u043d\u043e\u0432\u0446\u044b was not found."
       ]
      },
      {
       "output_type": "stream",
       "stream": "stdout",
       "text": [
        "\n",
        "\u0418\u0432\u0438\u0446\u0430 was found."
       ]
      },
      {
       "output_type": "stream",
       "stream": "stdout",
       "text": [
        "\n",
        "\u0418\u0433\u0440\u0438\u0449\u0438 was found."
       ]
      },
      {
       "output_type": "stream",
       "stream": "stdout",
       "text": [
        "\n",
        "\u0418\u0433\u0443\u043c\u043d\u043e\u0432\u043e was found."
       ]
      },
      {
       "output_type": "stream",
       "stream": "stdout",
       "text": [
        "\n",
        "\u0418\u0437\u043c\u0430\u0439\u043b\u043e\u0432\u043e was found."
       ]
      },
      {
       "output_type": "stream",
       "stream": "stdout",
       "text": [
        "\n",
        "\u0418\u0437\u044e\u043c was found."
       ]
      },
      {
       "output_type": "stream",
       "stream": "stdout",
       "text": [
        "\n",
        "\u0418\u043b\u044c\u0438\u043d\u0441\u043a\u043e\u0435 was found."
       ]
      },
      {
       "output_type": "stream",
       "stream": "stdout",
       "text": [
        "\n",
        "\u0418\u043d\u0436\u0430\u0432\u0435\u043d\u044c\u0435 was not found."
       ]
      },
      {
       "output_type": "stream",
       "stream": "stdout",
       "text": [
        "\n",
        "\u0418\u043d\u0441\u0430\u0440\u0430 was not found."
       ]
      },
      {
       "output_type": "stream",
       "stream": "stdout",
       "text": [
        "\n",
        "\u0418\u0440\u0431\u0438\u0442 was found."
       ]
      },
      {
       "output_type": "stream",
       "stream": "stdout",
       "text": [
        "\n",
        "\u0418\u0440\u043a\u0443\u0442\u0441\u043a was found."
       ]
      },
      {
       "output_type": "stream",
       "stream": "stdout",
       "text": [
        "\n",
        "\u0418\u0441\u0430 was found."
       ]
      },
      {
       "output_type": "stream",
       "stream": "stdout",
       "text": [
        "\n",
        "\u0418\u0441\u0435\u0442\u0441\u043a\u0430\u044f was not found."
       ]
      },
      {
       "output_type": "stream",
       "stream": "stdout",
       "text": [
        "\n",
        "\u0418\u0441\u0442\u0430\u043b\u0435\u043d\u0430 was not found."
       ]
      },
      {
       "output_type": "stream",
       "stream": "stdout",
       "text": [
        "\n",
        "\u0418\u0447\u043d\u0430 was not found."
       ]
      },
      {
       "output_type": "stream",
       "stream": "stdout",
       "text": [
        "\n",
        "\u0418\u043e\u0441\u0438\u0444\u043e\u0432 was not found."
       ]
      },
      {
       "output_type": "stream",
       "stream": "stdout",
       "text": [
        "\n",
        "\u0418\u043e\u0441\u0438\u0444\u043e\u0432 was not found."
       ]
      },
      {
       "output_type": "stream",
       "stream": "stdout",
       "text": [
        "\n",
        "\u041a\u0430\u0434\u0438\u043d was not found."
       ]
      },
      {
       "output_type": "stream",
       "stream": "stdout",
       "text": [
        "\n",
        "\u041a\u0430\u0434\u043e\u043c was found."
       ]
      },
      {
       "output_type": "stream",
       "stream": "stdout",
       "text": [
        "\n",
        "\u041a\u0430\u0437\u0430\u043d\u0441\u043a\u043e\u0439 \u0411\u043e\u0433\u043e\u0440\u043e\u0434\u0438\u0446\u043a\u043e\u0439 was not found."
       ]
      },
      {
       "output_type": "stream",
       "stream": "stdout",
       "text": [
        "\n",
        "\u041a\u0430\u043b\u0438\u0431\u0435\u0440\u0434\u0430 was found."
       ]
      },
      {
       "output_type": "stream",
       "stream": "stdout",
       "text": [
        "\n",
        "\u041a\u0430\u043b\u0438\u043d\u043a\u0438\u043d\u043e was found."
       ]
      },
      {
       "output_type": "stream",
       "stream": "stdout",
       "text": [
        "\n",
        "\u041a\u0430\u043c\u0435\u043d\u0435\u0446 was found."
       ]
      },
      {
       "output_type": "stream",
       "stream": "stdout",
       "text": [
        "\n",
        "\u041a\u0430\u043c\u0435\u043d\u043a\u0430 was found."
       ]
      },
      {
       "output_type": "stream",
       "stream": "stdout",
       "text": [
        "\n",
        "\u041a\u0430\u043c\u044b\u0448\u043d\u044f was found."
       ]
      },
      {
       "output_type": "stream",
       "stream": "stdout",
       "text": [
        "\n",
        "\u041a\u0430\u0440\u0430\u0441\u0443 - \u0411\u0430\u0437\u0430\u0440 was not found."
       ]
      },
      {
       "output_type": "stream",
       "stream": "stdout",
       "text": [
        "\n",
        "\u041a\u0430\u0440\u043b\u043e\u0432\u043a\u0430 was found."
       ]
      },
      {
       "output_type": "stream",
       "stream": "stdout",
       "text": [
        "\n",
        "\u041a\u0430\u0440\u043c was not found."
       ]
      },
      {
       "output_type": "stream",
       "stream": "stdout",
       "text": [
        "\n",
        "\u041a\u0430\u0440\u043e\u0447\u0430 was not found."
       ]
      },
      {
       "output_type": "stream",
       "stream": "stdout",
       "text": [
        "\n",
        "\u041a\u0430\u0440\u043f\u043e\u0432\u043a\u0430 was found."
       ]
      },
      {
       "output_type": "stream",
       "stream": "stdout",
       "text": [
        "\n",
        "\u041a\u0430\u0441\u0438\u043c\u043e\u0432 was found."
       ]
      },
      {
       "output_type": "stream",
       "stream": "stdout",
       "text": [
        "\n",
        "\u041a\u0438\u0442\u0430\u0439\u0441\u043a\u043e\u0439 was not found."
       ]
      },
      {
       "output_type": "stream",
       "stream": "stdout",
       "text": [
        "\n",
        "\u041a\u0430\u0448\u0438\u043d was found."
       ]
      },
      {
       "output_type": "stream",
       "stream": "stdout",
       "text": [
        "\n",
        "\u041a\u0435\u043c\u0430\u0440\u044b was found."
       ]
      },
      {
       "output_type": "stream",
       "stream": "stdout",
       "text": [
        "\n",
        "\u041a\u0435\u0440\u0435\u043d\u0441\u043a was found."
       ]
      },
      {
       "output_type": "stream",
       "stream": "stdout",
       "text": [
        "\n",
        "\u041a\u0435\u0441\u043c\u0435 was not found."
       ]
      },
      {
       "output_type": "stream",
       "stream": "stdout",
       "text": [
        "\n",
        "\u041a\u0435\u0441\u043e\u0432\u0430 \u0413\u043e\u0440\u0430 was found."
       ]
      },
      {
       "output_type": "stream",
       "stream": "stdout",
       "text": [
        "\n",
        "\u041a\u0438\u0434\u0435\u0448\u043a\u0438\u043d\u043e was not found."
       ]
      },
      {
       "output_type": "stream",
       "stream": "stdout",
       "text": [
        "\n",
        "\u041a\u0438\u043c\u0440\u044b was found."
       ]
      },
      {
       "output_type": "stream",
       "stream": "stdout",
       "text": [
        "\n",
        "\u041a\u0438\u043d\u0435\u0448\u043c\u0430 was found."
       ]
      },
      {
       "output_type": "stream",
       "stream": "stdout",
       "text": [
        "\n",
        "\u041a\u0438\u0440\u0435\u043d\u0441\u043a was found."
       ]
      },
      {
       "output_type": "stream",
       "stream": "stdout",
       "text": [
        "\n",
        "\u041a\u0438\u0440\u0438\u043b\u043e\u0432 was not found."
       ]
      },
      {
       "output_type": "stream",
       "stream": "stdout",
       "text": [
        "\n",
        "\u041a\u0438\u0440\u0438\u043b\u043e\u0435\u043e was not found."
       ]
      },
      {
       "output_type": "stream",
       "stream": "stdout",
       "text": [
        "\n",
        "\u041a\u0438\u0440\u0441\u0430\u043d\u043e\u0432 was found."
       ]
      },
      {
       "output_type": "stream",
       "stream": "stdout",
       "text": [
        "\n",
        "\u041a\u0438\u0441\u0442\u0435\u0440 was found."
       ]
      },
      {
       "output_type": "stream",
       "stream": "stdout",
       "text": [
        "\n",
        "\u041a\u0438\u0441\u0442\u0440\u0443\u0441\u0430 was not found."
       ]
      },
      {
       "output_type": "stream",
       "stream": "stdout",
       "text": [
        "\n",
        "\u041a\u0438\u0442\u0430\u0439 - \u0413\u043e\u0440\u043e\u0434\u043e\u043a was not found."
       ]
      },
      {
       "output_type": "stream",
       "stream": "stdout",
       "text": [
        "\n",
        "\u041a\u0438\u0448\u0435\u043d\u044c\u043a\u0430 was not found."
       ]
      },
      {
       "output_type": "stream",
       "stream": "stdout",
       "text": [
        "\n",
        "\u041a\u0438\u0430\u0441\u043e\u0432\u043a\u0430 was not found."
       ]
      },
      {
       "output_type": "stream",
       "stream": "stdout",
       "text": [
        "\n",
        "\u041a\u0438\u0430\u0442\u0430 was not found."
       ]
      },
      {
       "output_type": "stream",
       "stream": "stdout",
       "text": [
        "\n",
        "\u041a\u043b\u0438\u043d was found."
       ]
      },
      {
       "output_type": "stream",
       "stream": "stdout",
       "text": [
        "\n",
        "\u041a\u043b\u044e\u0447\u0435\u0432\u0441\u043a\u0430\u044f was not found."
       ]
      },
      {
       "output_type": "stream",
       "stream": "stdout",
       "text": [
        "\n",
        "\u041a\u043d\u044f\u0433\u0438\u043d\u0438\u043d was not found."
       ]
      },
      {
       "output_type": "stream",
       "stream": "stdout",
       "text": [
        "\n",
        "\u041a\u043e\u0431\u044b\u0437\u0447\u0430 was not found."
       ]
      },
      {
       "output_type": "stream",
       "stream": "stdout",
       "text": [
        "\n",
        "\u041a\u043e\u0431\u044b\u043b\u044f\u043a was not found."
       ]
      },
      {
       "output_type": "stream",
       "stream": "stdout",
       "text": [
        "\n",
        "\u041a\u043e\u0432\u0440\u043e\u0432 was found."
       ]
      },
      {
       "output_type": "stream",
       "stream": "stdout",
       "text": [
        "\n",
        "\u041a\u043e\u0432\u044b\u043c\u0441\u043a\u043e\u0435 was not found."
       ]
      },
      {
       "output_type": "stream",
       "stream": "stdout",
       "text": [
        "\n",
        "\u041a\u043e\u0434\u0438\u043d\u0441\u043a\u043e\u0435 was not found."
       ]
      },
      {
       "output_type": "stream",
       "stream": "stdout",
       "text": [
        "\n",
        "\u041a\u043e\u0436\u0438\u043d\u043e was found."
       ]
      },
      {
       "output_type": "stream",
       "stream": "stdout",
       "text": [
        "\n",
        "\u041a\u043e\u0437\u0435\u043b\u0435\u0446 was found."
       ]
      },
      {
       "output_type": "stream",
       "stream": "stdout",
       "text": [
        "\n",
        "\u041a\u043e\u0437\u0435\u043b\u044c\u0441\u043a was found."
       ]
      },
      {
       "output_type": "stream",
       "stream": "stdout",
       "text": [
        "\n",
        "\u041a\u043e\u0437\u043b\u043e\u0432 was found."
       ]
      },
      {
       "output_type": "stream",
       "stream": "stdout",
       "text": [
        "\n",
        "\u041a\u043e\u0437\u043b\u043e\u0432\u043a\u0430 was found."
       ]
      },
      {
       "output_type": "stream",
       "stream": "stdout",
       "text": [
        "\n",
        "\u041a\u043e\u0437\u043b\u043e\u0432\u0441\u043a\u0430\u044f was not found."
       ]
      },
      {
       "output_type": "stream",
       "stream": "stdout",
       "text": [
        "\n",
        "\u041a\u043e\u043a\u0432\u0438\u043d\u043e was not found."
       ]
      },
      {
       "output_type": "stream",
       "stream": "stdout",
       "text": [
        "\n",
        "\u041a\u043e\u043b\u043e\u043c\u043d\u0430 was found."
       ]
      },
      {
       "output_type": "stream",
       "stream": "stdout",
       "text": [
        "\n",
        "\u041a\u043e\u043b\u044e\u043f\u0430\u043d\u043e\u0432\u043a\u0430 was not found."
       ]
      },
      {
       "output_type": "stream",
       "stream": "stdout",
       "text": [
        "\n",
        "New form: \u041a\u043e\u043c\u0435\u043b\u044c \u041a\u043e\u0440\u043d\u0438\u043b\u0438\u0435\u0432"
       ]
      },
      {
       "output_type": "stream",
       "stream": "stdout",
       "text": [
        "\n",
        "\u041a\u043e\u043c\u0435\u043b\u044c \u041a\u043e\u0440\u043d\u0438\u043b\u0438\u0435\u0432 was not found."
       ]
      },
      {
       "output_type": "stream",
       "stream": "stdout",
       "text": [
        "\n",
        "\u041a\u043e\u043c\u043b\u0438\u0447\u043a\u0438 was not found."
       ]
      },
      {
       "output_type": "stream",
       "stream": "stdout",
       "text": [
        "\n",
        "\u041a\u043e\u043d\u043e\u0431\u0435\u0435\u0432\u043e was found."
       ]
      },
      {
       "output_type": "stream",
       "stream": "stdout",
       "text": [
        "\n",
        "\u041a\u043e\u043d\u043e\u0442\u043e\u043f was found."
       ]
      },
      {
       "output_type": "stream",
       "stream": "stdout",
       "text": [
        "\n",
        "\u041a\u043e\u043d\u0441\u0442\u0430\u043d\u0442\u0438\u043d\u043e\u0432\u043e was not found."
       ]
      },
      {
       "output_type": "stream",
       "stream": "stdout",
       "text": [
        "\n",
        "\u041a\u043e\u043d\u0441\u0442\u0430\u043d\u0442\u0438\u043d\u043e\u0432\u0441\u043a\u043e\u0435 was found."
       ]
      },
      {
       "output_type": "stream",
       "stream": "stdout",
       "text": [
        "\n",
        "\u041a\u043e\u043f\u0440\u0438\u043d\u043e was found."
       ]
      },
      {
       "output_type": "stream",
       "stream": "stdout",
       "text": [
        "\n",
        "\u041a\u043e\u0440\u0435\u043d\u043d\u0430\u044f was not found."
       ]
      },
      {
       "output_type": "stream",
       "stream": "stdout",
       "text": [
        "\n",
        "\u041a\u043e\u0440\u043e\u0432\u0430\u0439 was not found."
       ]
      },
      {
       "output_type": "stream",
       "stream": "stdout",
       "text": [
        "\n",
        "\u041a\u043e\u0440\u043e\u043f was found."
       ]
      },
      {
       "output_type": "stream",
       "stream": "stdout",
       "text": [
        "\n",
        "\u041a\u043e\u0440\u043e\u0442\u043e\u044f\u043a was found."
       ]
      },
      {
       "output_type": "stream",
       "stream": "stdout",
       "text": [
        "\n",
        "\u041a\u043e\u0440\u0441\u0443\u043d\u044c was found."
       ]
      },
      {
       "output_type": "stream",
       "stream": "stdout",
       "text": [
        "\n",
        "\u041a\u043e\u0441\u0442\u0440\u043e\u043c\u0430 was found."
       ]
      },
      {
       "output_type": "stream",
       "stream": "stdout",
       "text": [
        "\n",
        "\u041a\u043e\u0441\u0442\u044e\u043a\u043e\u0432\u0438\u0447\u0438 was found."
       ]
      },
      {
       "output_type": "stream",
       "stream": "stdout",
       "text": [
        "\n",
        "\u041a\u043e\u0442\u0435\u043b\u044c\u0432\u0430 was found."
       ]
      },
      {
       "output_type": "stream",
       "stream": "stdout",
       "text": [
        "\n",
        "\u041a\u043e\u0442\u0435\u043b\u044c\u043d\u0438\u0447\u044c was found."
       ]
      },
      {
       "output_type": "stream",
       "stream": "stdout",
       "text": [
        "\n",
        "\u041a\u043e\u0447\u0435\u043b\u0430\u0435\u0432\u043e was found."
       ]
      },
      {
       "output_type": "stream",
       "stream": "stdout",
       "text": [
        "\n",
        "\u041a\u043e\u0448\u0438\u0440\u0430 was not found."
       ]
      },
      {
       "output_type": "stream",
       "stream": "stdout",
       "text": [
        "\n",
        "\u041a\u0440\u0430\u043f\u0438\u0432\u043d\u0430 was found."
       ]
      },
      {
       "output_type": "stream",
       "stream": "stdout",
       "text": [
        "\n",
        "\u041a\u0440\u0430\u043f\u0438\u0432\u043d\u0430 was found."
       ]
      },
      {
       "output_type": "stream",
       "stream": "stdout",
       "text": [
        "\n",
        "\u041a\u0440\u0430\u0441\u043d\u043e\u0431\u043e\u0440\u0441\u043a was found."
       ]
      },
      {
       "output_type": "stream",
       "stream": "stdout",
       "text": [
        "\n",
        "\u041a\u0440\u0430\u0441\u043d\u043e\u0433\u043e\u0440\u0441\u043a\u0430\u044f was not found."
       ]
      },
      {
       "output_type": "stream",
       "stream": "stdout",
       "text": [
        "\n",
        "\u041a\u0440\u0430\u0441\u043d\u043e\u0435 was found."
       ]
      },
      {
       "output_type": "stream",
       "stream": "stdout",
       "text": [
        "\n",
        "\u041a\u0440\u0430\u0441\u043d\u043e\u0435 was found."
       ]
      },
      {
       "output_type": "stream",
       "stream": "stdout",
       "text": [
        "\n",
        "\u041a\u0440\u0430\u0441\u043d\u043e\u0439 \u041a\u043e\u043b\u044f\u0434\u0438\u043d was not found."
       ]
      },
      {
       "output_type": "stream",
       "stream": "stdout",
       "text": [
        "\n",
        "\u041a\u0440\u0430\u0441\u043d\u043e\u043a\u0430\u043c\u0435\u043d\u0441\u043a\u043e\u0439 was not found."
       ]
      },
      {
       "output_type": "stream",
       "stream": "stdout",
       "text": [
        "\n",
        "\u041a\u0440\u0430\u0441\u043d\u043e\u043a\u0443\u0442\u0441\u043a was found."
       ]
      },
      {
       "output_type": "stream",
       "stream": "stdout",
       "text": [
        "\n",
        "\u041a\u0440\u0430\u0441\u043d\u043e\u043f\u043e\u043b\u044c was found."
       ]
      },
      {
       "output_type": "stream",
       "stream": "stdout",
       "text": [
        "\n",
        "\u041a\u0440\u0430\u0441\u043d\u043e\u043f\u043e\u043b\u044c\u0435 was found."
       ]
      },
      {
       "output_type": "stream",
       "stream": "stdout",
       "text": [
        "\n",
        "\u041a\u0440\u0430\u0441\u043d\u043e\u0441\u043b\u043e\u0431\u043e\u0434\u0441\u043a was found."
       ]
      },
      {
       "output_type": "stream",
       "stream": "stdout",
       "text": [
        "\n",
        "\u041a\u0440\u0435\u043c\u0435\u043d\u043d\u043e\u0439 was not found."
       ]
      },
      {
       "output_type": "stream",
       "stream": "stdout",
       "text": [
        "\n",
        "\u041a\u0440\u0435\u043c\u0435\u043d\u0447\u0443\u0433 was found."
       ]
      },
      {
       "output_type": "stream",
       "stream": "stdout",
       "text": [
        "\n",
        "\u041a\u0440\u0435\u0441\u043b\u0430\u0432\u043b\u044c was not found."
       ]
      },
      {
       "output_type": "stream",
       "stream": "stdout",
       "text": [
        "\n",
        "\u041a\u0440\u0435\u0441\u0442\u0446\u044b was found."
       ]
      },
      {
       "output_type": "stream",
       "stream": "stdout",
       "text": [
        "\n",
        "\u041a\u0440\u0438\u0432\u043e\u043d\u0430\u0432\u043e\u043b\u043e\u0446\u043a\u0430\u044f was not found."
       ]
      },
      {
       "output_type": "stream",
       "stream": "stdout",
       "text": [
        "\n",
        "\u041a\u0440\u0438\u0432\u0446\u043e was not found."
       ]
      },
      {
       "output_type": "stream",
       "stream": "stdout",
       "text": [
        "\n",
        "\u041a\u0440\u0438\u0436\u0431\u0443\u0440\u0433 was not found."
       ]
      },
      {
       "output_type": "stream",
       "stream": "stdout",
       "text": [
        "\n",
        "\u041a\u0440\u043e\u043b\u0435\u0432\u0435\u0446 was found."
       ]
      },
      {
       "output_type": "stream",
       "stream": "stdout",
       "text": [
        "\n",
        "\u041a\u0440\u043e\u043c\u044b was found."
       ]
      },
      {
       "output_type": "stream",
       "stream": "stdout",
       "text": [
        "\n",
        "\u041a\u0440\u044b\u043b\u043e\u0432 was found."
       ]
      },
      {
       "output_type": "stream",
       "stream": "stdout",
       "text": [
        "\n",
        "\u041a\u0440\u044b\u043b\u0435\u0435\u0432\u043e was not found."
       ]
      },
      {
       "output_type": "stream",
       "stream": "stdout",
       "text": [
        "\n",
        "\u041a\u0440\u044e\u043a\u043e\u0432 was not found."
       ]
      },
      {
       "output_type": "stream",
       "stream": "stdout",
       "text": [
        "\n",
        "\u041a\u0443\u0431\u0435\u043d\u0441\u043a\u043e\u0435 was found."
       ]
      },
      {
       "output_type": "stream",
       "stream": "stdout",
       "text": [
        "\n",
        "\u041a\u0443\u0434\u0430\u0440\u0438\u043d\u0441\u043a\u0430\u044f was not found."
       ]
      },
      {
       "output_type": "stream",
       "stream": "stdout",
       "text": [
        "\n",
        "\u041a\u0443\u0437\u043d\u0435\u0446\u043a was found."
       ]
      },
      {
       "output_type": "stream",
       "stream": "stdout",
       "text": [
        "\n",
        "\u041a\u0443\u043c\u0437\u0435\u0440\u0441\u043a\u0430\u044f was not found."
       ]
      },
      {
       "output_type": "stream",
       "stream": "stdout",
       "text": [
        "\n",
        "\u041a\u0443\u043d\u0433\u0443\u0440 was found."
       ]
      },
      {
       "output_type": "stream",
       "stream": "stdout",
       "text": [
        "\n",
        "\u041a\u0443\u043f\u0435\u043d\u043a\u0430 was not found."
       ]
      },
      {
       "output_type": "stream",
       "stream": "stdout",
       "text": [
        "\n",
        "\u041a\u0443\u0440\u0435\u043d\u044c\u043a\u0438 was found."
       ]
      },
      {
       "output_type": "stream",
       "stream": "stdout",
       "text": [
        "\n",
        "\u041a\u0443\u0440\u044c\u044f\u043d\u043e\u0432\u043e was found."
       ]
      },
      {
       "output_type": "stream",
       "stream": "stdout",
       "text": [
        "\n",
        "\u041b\u0430\u0434\u0430 was not found."
       ]
      },
      {
       "output_type": "stream",
       "stream": "stdout",
       "text": [
        "\n",
        "\u041b\u0430\u0434\u0438\u043d\u0441\u043a\u043e\u0439 was not found."
       ]
      },
      {
       "output_type": "stream",
       "stream": "stdout",
       "text": [
        "\n",
        "\u041b\u0430\u0434\u043e\u0433\u0430 \u041d\u043e\u0432\u0430\u044f was found."
       ]
      },
      {
       "output_type": "stream",
       "stream": "stdout",
       "text": [
        "\n",
        "\u041b\u0430\u0437\u043e\u0432\u0438\u0446\u0430 was found."
       ]
      },
      {
       "output_type": "stream",
       "stream": "stdout",
       "text": [
        "\n",
        "\u041b\u0430\u0438\u0448\u0435\u0432 was found."
       ]
      },
      {
       "output_type": "stream",
       "stream": "stdout",
       "text": [
        "\n",
        "\u041b\u0430\u043a\u043d\u043e\u0432\u0430\u0442\u044c was not found."
       ]
      },
      {
       "output_type": "stream",
       "stream": "stdout",
       "text": [
        "\n",
        "\u041b\u0430\u043b\u044c\u0441\u043a was found."
       ]
      },
      {
       "output_type": "stream",
       "stream": "stdout",
       "text": [
        "\n",
        "\u041b\u0430\u043f\u0441\u0442\u0440\u0430\u043d\u0434 was not found."
       ]
      },
      {
       "output_type": "stream",
       "stream": "stdout",
       "text": [
        "\n",
        "\u041b\u0435\u0431\u0435\u0434\u0438\u043d was found."
       ]
      },
      {
       "output_type": "stream",
       "stream": "stdout",
       "text": [
        "\n",
        "\u041b\u0435\u0431\u0435\u0434\u044f\u043d\u044c was found."
       ]
      },
      {
       "output_type": "stream",
       "stream": "stdout",
       "text": [
        "\n",
        "\u041b\u0435\u0432\u043a\u0438\u0435\u0432 was not found."
       ]
      },
      {
       "output_type": "stream",
       "stream": "stdout",
       "text": [
        "\n",
        "\u041b\u0435\u0436\u043d\u0435\u0432\u043e was found."
       ]
      },
      {
       "output_type": "stream",
       "stream": "stdout",
       "text": [
        "\n",
        "\u041b\u0438\u0432\u043d\u044b was found."
       ]
      },
      {
       "output_type": "stream",
       "stream": "stdout",
       "text": [
        "\n",
        "\u041b\u0438\u043c\u0430\u043d\u044c was found."
       ]
      },
      {
       "output_type": "stream",
       "stream": "stdout",
       "text": [
        "\n",
        "\u041b\u0438\u043f\u0435\u0446\u043a was found."
       ]
      },
      {
       "output_type": "stream",
       "stream": "stdout",
       "text": [
        "\n",
        "\u041b\u0438\u043f\u043e\u0432\u0441\u043a\u043e\u0435 was not found."
       ]
      },
      {
       "output_type": "stream",
       "stream": "stdout",
       "text": [
        "\n",
        "\u041b\u0438\u043f\u0446\u044b was found."
       ]
      },
      {
       "output_type": "stream",
       "stream": "stdout",
       "text": [
        "\n",
        "\u041b\u0438\u0441\u043a\u043e\u0439 was not found."
       ]
      },
      {
       "output_type": "stream",
       "stream": "stdout",
       "text": [
        "\n",
        "\u041b\u0438\u0445\u0432\u0438\u043d was found."
       ]
      },
      {
       "output_type": "stream",
       "stream": "stdout",
       "text": [
        "\n",
        "\u041b\u043e\u043f\u043e\u0442\u043e\u0432 was not found."
       ]
      },
      {
       "output_type": "stream",
       "stream": "stdout",
       "text": [
        "\n",
        "\u041b\u043e\u0442\u0441\u0448\u0438\u043d\u043e was not found."
       ]
      },
      {
       "output_type": "stream",
       "stream": "stdout",
       "text": [
        "\n",
        "\u041b\u043e\u0445\u0432\u0438\u0446\u0430 was found."
       ]
      },
      {
       "output_type": "stream",
       "stream": "stdout",
       "text": [
        "\n",
        "\u041b\u0443\u0436\u043a\u0438 was found."
       ]
      },
      {
       "output_type": "stream",
       "stream": "stdout",
       "text": [
        "\n",
        "\u041b\u0443\u043a\u043e\u043c\u043b\u044f was not found."
       ]
      },
      {
       "output_type": "stream",
       "stream": "stdout",
       "text": [
        "\n",
        "\u041b\u0443\u043a\u043e\u044f\u043d\u043e\u0432 was found."
       ]
      },
      {
       "output_type": "stream",
       "stream": "stdout",
       "text": [
        "\n",
        "\u041b\u0443\u0445 was found."
       ]
      },
      {
       "output_type": "stream",
       "stream": "stdout",
       "text": [
        "\n",
        "\u041b\u044c\u0433\u043e\u0432 was found."
       ]
      },
      {
       "output_type": "stream",
       "stream": "stdout",
       "text": [
        "\n",
        "\u041b\u0435\u0432\u044b\u0435 \u041b\u0430\u043c\u043a\u0438 was found."
       ]
      },
      {
       "output_type": "stream",
       "stream": "stdout",
       "text": [
        "\n",
        "\u041b\u044e\u0431\u0430\u0432\u0438\u0447\u0438 was found."
       ]
      },
      {
       "output_type": "stream",
       "stream": "stdout",
       "text": [
        "\n",
        "\u041b\u044e\u0431\u0435\u0447\u044c was found."
       ]
      },
      {
       "output_type": "stream",
       "stream": "stdout",
       "text": [
        "\n",
        "\u041b\u044e\u0431\u0438\u043c was found."
       ]
      },
      {
       "output_type": "stream",
       "stream": "stdout",
       "text": [
        "\n",
        "\u041b\u044e\u0442\u0435\u043d\u043a\u0430 was found."
       ]
      },
      {
       "output_type": "stream",
       "stream": "stdout",
       "text": [
        "\n",
        "\u041b\u044f\u0434\u044b was found."
       ]
      },
      {
       "output_type": "stream",
       "stream": "stdout",
       "text": [
        "\n",
        "\u041b\u044f\u0443\u0434\u0435\u0440\u0430 was not found."
       ]
      },
      {
       "output_type": "stream",
       "stream": "stdout",
       "text": [
        "\n",
        "\u041c\u0430\u043a\u0430\u043b\u043e\u0432\u043e was not found."
       ]
      },
      {
       "output_type": "stream",
       "stream": "stdout",
       "text": [
        "\n",
        "\u041c\u0430\u043a\u0430\u0440\u043e\u0432\u043e was not found."
       ]
      },
      {
       "output_type": "stream",
       "stream": "stdout",
       "text": [
        "\n",
        "\u041c\u0430\u043a\u0430\u0440\u044c\u0435\u0432 was found."
       ]
      },
      {
       "output_type": "stream",
       "stream": "stdout",
       "text": [
        "\n",
        "\u041c\u0430\u043a\u0430\u0440\u044c\u0435\u0432 was found."
       ]
      },
      {
       "output_type": "stream",
       "stream": "stdout",
       "text": [
        "\n",
        "\u041c\u0430\u043b\u0438\u043d\u043e was found."
       ]
      },
      {
       "output_type": "stream",
       "stream": "stdout",
       "text": [
        "\n",
        "New form: \u041c\u0430\u043b\u043e\u0439 \u0410\u0440\u0445\u0430\u043d\u0433\u0435\u043b\u044c"
       ]
      },
      {
       "output_type": "stream",
       "stream": "stdout",
       "text": [
        "\n",
        "\u041c\u0430\u043b\u043e\u0439 \u0410\u0440\u0445\u0430\u043d\u0433\u0435\u043b\u044c was not found."
       ]
      },
      {
       "output_type": "stream",
       "stream": "stdout",
       "text": [
        "\n",
        "\u041c\u0430\u043b\u043e\u0439 \u042f\u0440\u043e\u0441\u043b\u0430\u0432\u0435\u0446 was not found."
       ]
      },
      {
       "output_type": "stream",
       "stream": "stdout",
       "text": [
        "\n",
        "\u041c\u0430\u043b\u044b\u043a\u043e\u0432\u0430 was not found."
       ]
      },
      {
       "output_type": "stream",
       "stream": "stdout",
       "text": [
        "\n",
        "\u041c\u0430\u043d\u0433\u0430\u0437\u0435\u044f was not found."
       ]
      },
      {
       "output_type": "stream",
       "stream": "stdout",
       "text": [
        "\n",
        "\u041c\u0430\u0440\u043a\u0443\u0448\u0435\u0432\u0441\u043a\u0430\u044f was not found."
       ]
      },
      {
       "output_type": "stream",
       "stream": "stdout",
       "text": [
        "\n",
        "\u041c\u0430\u0441\u043b\u0435\u043d\u0441\u043a\u0430\u044f was not found."
       ]
      },
      {
       "output_type": "stream",
       "stream": "stdout",
       "text": [
        "\n",
        "\u041c\u0430\u0441\u043b\u043e\u0432\u0438\u0447\u0438 was not found."
       ]
      },
      {
       "output_type": "stream",
       "stream": "stdout",
       "text": [
        "\n",
        "\u041c\u0430\u0445\u043e\u043d\u043e\u0432\u043e was found."
       ]
      },
      {
       "output_type": "stream",
       "stream": "stdout",
       "text": [
        "\n",
        "\u041c\u0430\u0447\u0443\u0445\u0430 was not found."
       ]
      },
      {
       "output_type": "stream",
       "stream": "stdout",
       "text": [
        "\n",
        "\u041c\u0430\u0448\u0435\u0432 was not found."
       ]
      },
      {
       "output_type": "stream",
       "stream": "stdout",
       "text": [
        "\n",
        "\u041c\u0430\u044f\u043a\u0438 was found."
       ]
      },
      {
       "output_type": "stream",
       "stream": "stdout",
       "text": [
        "\n",
        "\u041c\u0430\u044f\u0447\u043a\u0430 was found."
       ]
      },
      {
       "output_type": "stream",
       "stream": "stdout",
       "text": [
        "\n",
        "\u041c\u0432\u043b\u0438\u043d was not found."
       ]
      },
      {
       "output_type": "stream",
       "stream": "stdout",
       "text": [
        "\n",
        "\u041c\u0435\u0433\u0440\u0430 was found."
       ]
      },
      {
       "output_type": "stream",
       "stream": "stdout",
       "text": [
        "\n",
        "\u041c\u0435\u0434\u044b\u043d\u044c was found."
       ]
      },
      {
       "output_type": "stream",
       "stream": "stdout",
       "text": [
        "\n",
        "\u041c\u0435\u043d\u0430 was found."
       ]
      },
      {
       "output_type": "stream",
       "stream": "stdout",
       "text": [
        "\n",
        "\u041c\u0435\u0440\u0435\u0445\u0432\u0430 was not found."
       ]
      },
      {
       "output_type": "stream",
       "stream": "stdout",
       "text": [
        "\n",
        "\u041c\u0435\u0445\u043e\u043d\u0441\u043a\u043e\u0439 was not found."
       ]
      },
      {
       "output_type": "stream",
       "stream": "stdout",
       "text": [
        "\n",
        "\u041c\u0435\u0449\u043e\u0432\u0441\u043a was found."
       ]
      },
      {
       "output_type": "stream",
       "stream": "stdout",
       "text": [
        "\n",
        "\u041c\u0438\u0436\u0438\u0440\u0438\u0447\u044c was found."
       ]
      },
      {
       "output_type": "stream",
       "stream": "stdout",
       "text": [
        "\n",
        "\u041c\u0438\u043b\u043e\u0441\u043b\u0430\u0432\u0438\u0447\u0438 was found."
       ]
      },
      {
       "output_type": "stream",
       "stream": "stdout",
       "text": [
        "\n",
        "\u041c\u0438\u0440\u0433\u043e\u0440\u043e\u0434 was found."
       ]
      },
      {
       "output_type": "stream",
       "stream": "stdout",
       "text": [
        "\n",
        "\u041c\u0438\u0440\u043e\u043f\u043e\u043b\u044c\u0435 was found."
       ]
      },
      {
       "output_type": "stream",
       "stream": "stdout",
       "text": [
        "\n",
        "\u041c\u0438\u0440\u043e\u0442\u0438\u043d\u043e was found."
       ]
      },
      {
       "output_type": "stream",
       "stream": "stdout",
       "text": [
        "\n",
        "\u041c\u0438\u0442\u044f\u043a\u0438\u043d\u0441\u043a\u0430\u044f was found."
       ]
      },
      {
       "output_type": "stream",
       "stream": "stdout",
       "text": [
        "\n",
        "\u041c\u0438\u0445\u0430\u0439\u043b\u043e\u0432 was found."
       ]
      },
      {
       "output_type": "stream",
       "stream": "stdout",
       "text": [
        "\n",
        "\u041c\u0438\u0445\u0430\u0439\u043b\u043e\u0432\u043a\u0430 was found."
       ]
      },
      {
       "output_type": "stream",
       "stream": "stdout",
       "text": [
        "\n",
        "\u041c\u0438\u0445\u0430\u0439\u043b\u043e\u0432\u043a\u0430 was found."
       ]
      },
      {
       "output_type": "stream",
       "stream": "stdout",
       "text": [
        "\n",
        "\u041c\u0438\u0445\u0430\u0439\u043b\u043e\u0432\u043a\u0430 was found."
       ]
      },
      {
       "output_type": "stream",
       "stream": "stdout",
       "text": [
        "\n",
        "\u041c\u0438\u0445\u0430\u0439\u043b\u043e\u0432\u0441\u043a\u043e\u0439 was not found."
       ]
      },
      {
       "output_type": "stream",
       "stream": "stdout",
       "text": [
        "\n",
        "\u041c\u0438\u0448\u0443\u0440\u0438\u043d \u0420\u043e\u0433 was found."
       ]
      },
      {
       "output_type": "stream",
       "stream": "stdout",
       "text": [
        "\n",
        "\u041c\u043e\u0436\u0430\u0439\u0441\u043a was found."
       ]
      },
      {
       "output_type": "stream",
       "stream": "stdout",
       "text": [
        "\n",
        "\u041c\u043e\u043b\u0432\u0438\u0442\u0438\u043d\u043e was found."
       ]
      },
      {
       "output_type": "stream",
       "stream": "stdout",
       "text": [
        "\n",
        "\u041c\u043e\u043b\u043e\u0433\u0430 was found."
       ]
      },
      {
       "output_type": "stream",
       "stream": "stdout",
       "text": [
        "\n",
        "\u041c\u043e\u043b\u043e\u043a\u043e\u0432\u043e was found."
       ]
      },
      {
       "output_type": "stream",
       "stream": "stdout",
       "text": [
        "\n",
        "\u041c\u043e\u043d\u0430\u0441\u0442\u044b\u0440\u0449\u0438\u043d\u0430 was found."
       ]
      },
      {
       "output_type": "stream",
       "stream": "stdout",
       "text": [
        "\n",
        "New form: \u041c\u043e\u0440\u043e\u043c"
       ]
      },
      {
       "output_type": "stream",
       "stream": "stdout",
       "text": [
        "\n",
        "\u041c\u043e\u0440\u043e\u043c was not found."
       ]
      },
      {
       "output_type": "stream",
       "stream": "stdout",
       "text": [
        "\n",
        "\u041c\u043e\u0440\u0448\u0430\u043d\u0441\u043a was found."
       ]
      },
      {
       "output_type": "stream",
       "stream": "stdout",
       "text": [
        "\n",
        "\u041c\u043e\u0441\u0430\u043b\u044c\u0441\u043a was found."
       ]
      },
      {
       "output_type": "stream",
       "stream": "stdout",
       "text": [
        "\n",
        "\u041c\u043e\u0441\u0442\u043a\u0438 was found."
       ]
      },
      {
       "output_type": "stream",
       "stream": "stdout",
       "text": [
        "\n",
        "\u041c\u043e\u0441\u0442\u043e\u0432\u0441\u043a\u043e\u0435 was found."
       ]
      },
      {
       "output_type": "stream",
       "stream": "stdout",
       "text": [
        "\n",
        "\u041c\u043e\u0446\u044b\u043d\u0430 was not found."
       ]
      },
      {
       "output_type": "stream",
       "stream": "stdout",
       "text": [
        "\n",
        "\u041c\u043e\u0448\u0435\u0439\u043a\u0430 was not found."
       ]
      },
      {
       "output_type": "stream",
       "stream": "stdout",
       "text": [
        "\n",
        "\u041c\u0440\u0438\u043d was found."
       ]
      },
      {
       "output_type": "stream",
       "stream": "stdout",
       "text": [
        "\n",
        "\u041c\u0441\u0442\u0438\u0441\u043b\u0430\u0432\u043b\u044c was found."
       ]
      },
      {
       "output_type": "stream",
       "stream": "stdout",
       "text": [
        "\n",
        "\u041c\u0443\u0440\u0430\u0442\u043e\u0432\u0430 was not found."
       ]
      },
      {
       "output_type": "stream",
       "stream": "stdout",
       "text": [
        "\n",
        "\u041c\u0443\u0440\u0437\u044b\u043d\u043a\u0430 was not found."
       ]
      },
      {
       "output_type": "stream",
       "stream": "stdout",
       "text": [
        "\n",
        "\u041c\u0443\u0440\u0438\u043a\u043e\u0432\u043e was found."
       ]
      },
      {
       "output_type": "stream",
       "stream": "stdout",
       "text": [
        "\n",
        "\u041c\u0443\u0440\u043e\u043c was found."
       ]
      },
      {
       "output_type": "stream",
       "stream": "stdout",
       "text": [
        "\n",
        "\u041c\u0446\u0435\u043d\u0441\u043a was found."
       ]
      },
      {
       "output_type": "stream",
       "stream": "stdout",
       "text": [
        "\n",
        "\u041c\u0448\u0430\u0433\u0430 was found."
       ]
      },
      {
       "output_type": "stream",
       "stream": "stdout",
       "text": [
        "\n",
        "\u041c\u044b\u0448\u043a\u0438\u043d was found."
       ]
      },
      {
       "output_type": "stream",
       "stream": "stdout",
       "text": [
        "\n",
        "\u041c\u044f\u0433\u043a\u043e\u0435 was found."
       ]
      },
      {
       "output_type": "stream",
       "stream": "stdout",
       "text": [
        "\n",
        "\u041d\u0430\u0431\u0434\u0438\u043d was not found."
       ]
      },
      {
       "output_type": "stream",
       "stream": "stdout",
       "text": [
        "\n",
        "\u041d\u0430\u0440\u0432\u0430 was found."
       ]
      },
      {
       "output_type": "stream",
       "stream": "stdout",
       "text": [
        "\n",
        "\u041d\u0430\u0440\u043e\u0432\u0447\u0430\u0442 was found."
       ]
      },
      {
       "output_type": "stream",
       "stream": "stdout",
       "text": [
        "\n",
        "\u041d\u0430\u0441\u043f\u0438\u0449\u0438 was not found."
       ]
      },
      {
       "output_type": "stream",
       "stream": "stdout",
       "text": [
        "\n",
        "\u041d\u0435\u0432\u0435\u043b\u044c was found."
       ]
      },
      {
       "output_type": "stream",
       "stream": "stdout",
       "text": [
        "\n",
        "\u041d\u0435\u043b\u044c\u044f\u043d\u0441\u043a\u043e\u0439 was not found."
       ]
      },
      {
       "output_type": "stream",
       "stream": "stdout",
       "text": [
        "\n",
        "\u041d\u0435\u0434\u0440\u0438\u0433\u0430\u0439\u043b\u043e\u0432 was found."
       ]
      },
      {
       "output_type": "stream",
       "stream": "stdout",
       "text": [
        "\n",
        "\u041d\u0435\u0439\u0448\u043b\u043e\u0442 was not found."
       ]
      },
      {
       "output_type": "stream",
       "stream": "stdout",
       "text": [
        "\n",
        "\u041d\u0435\u0440\u0435\u0445\u0442\u0430 was found."
       ]
      },
      {
       "output_type": "stream",
       "stream": "stdout",
       "text": [
        "\n",
        "\u041d\u0435\u0441\u0442\u0435\u0440\u043e\u0432\u0441\u043a\u043e\u0439 was not found."
       ]
      },
      {
       "output_type": "stream",
       "stream": "stdout",
       "text": [
        "\n",
        "\u041d\u043e\u0432\u043e\u0435\u0437\u0435\u0440\u0441\u043a\u043e\u0439 \u041a\u0438\u0440\u0438\u043b\u043e\u0432 was not found."
       ]
      },
      {
       "output_type": "stream",
       "stream": "stdout",
       "text": [
        "\n",
        "\u041d\u043e\u0432\u043e\u0439 \u041c\u0438\u0440\u0433\u043e\u0440\u043e\u0434 was not found."
       ]
      },
      {
       "output_type": "stream",
       "stream": "stdout",
       "text": [
        "\n",
        "\u041d\u043e\u0432\u043e\u0439 \u041e\u0441\u043a\u043e\u043b was not found."
       ]
      },
      {
       "output_type": "stream",
       "stream": "stdout",
       "text": [
        "\n",
        "\u041d\u043e\u0432\u044b\u0435 \u041c\u043b\u0438\u043d\u044b was not found."
       ]
      },
      {
       "output_type": "stream",
       "stream": "stdout",
       "text": [
        "\n",
        "\u041d\u043e\u0432\u043e\u043d\u0438\u043a\u043e\u043b\u044c\u0441\u043a\u043e\u0435 was found."
       ]
      },
      {
       "output_type": "stream",
       "stream": "stdout",
       "text": [
        "\n",
        "\u041d\u043e\u0432\u043e\u0441\u0438\u043b\u044c was found."
       ]
      },
      {
       "output_type": "stream",
       "stream": "stdout",
       "text": [
        "\n",
        "\u041d\u043e\u0441\u043e\u0432\u0438\u0447\u0438 was found."
       ]
      },
      {
       "output_type": "stream",
       "stream": "stdout",
       "text": [
        "\n",
        "\u041d\u043e\u0441\u043e\u0432\u043a\u0430 was found."
       ]
      },
      {
       "output_type": "stream",
       "stream": "stdout",
       "text": [
        "\n",
        "\u041d\u0443\u0440\u043e\u043c\u0441\u043a\u043e\u0439 was not found."
       ]
      },
      {
       "output_type": "stream",
       "stream": "stdout",
       "text": [
        "\n",
        "\u041d\u0435\u0436\u0438\u043d was found."
       ]
      },
      {
       "output_type": "stream",
       "stream": "stdout",
       "text": [
        "\n",
        "\u041e\u0431\u0435\u0440\u044a-\u041f\u0430\u043b\u0435\u043d was not found."
       ]
      },
      {
       "output_type": "stream",
       "stream": "stdout",
       "text": [
        "\n",
        "\u041e\u0431\u043e\u044f\u043d\u044c was found."
       ]
      },
      {
       "output_type": "stream",
       "stream": "stdout",
       "text": [
        "\n",
        "\u041e\u0431\u0440\u0443\u0431 was found."
       ]
      },
      {
       "output_type": "stream",
       "stream": "stdout",
       "text": [
        "\n",
        "\u041e\u0434\u0438\u043d\u0446\u043e\u0432\u043e was found."
       ]
      },
      {
       "output_type": "stream",
       "stream": "stdout",
       "text": [
        "\n",
        "\u041e\u0434\u043e\u0435\u0432 was found."
       ]
      },
      {
       "output_type": "stream",
       "stream": "stdout",
       "text": [
        "\n",
        "\u041e\u0434\u0440\u0438\u043d \u041d\u0438\u043a\u043e\u043b\u0430\u0435\u0432\u0441\u043a\u043e\u0439 was not found."
       ]
      },
      {
       "output_type": "stream",
       "stream": "stdout",
       "text": [
        "\n",
        "\u041e\u043a\u0432\u0430\u0434\u0441\u043a\u0430\u044f was not found."
       ]
      },
      {
       "output_type": "stream",
       "stream": "stdout",
       "text": [
        "\n",
        "New form: \u041e\u043a\u0443\u043d\u0435\u0432"
       ]
      },
      {
       "output_type": "stream",
       "stream": "stdout",
       "text": [
        "\n",
        "\u041e\u043a\u0443\u043d\u0435\u0432 was not found."
       ]
      },
      {
       "output_type": "stream",
       "stream": "stdout",
       "text": [
        "\n",
        "\u041e\u043b\u0435\u043a\u043c\u0438\u043d\u0441\u043a was found."
       ]
      },
      {
       "output_type": "stream",
       "stream": "stdout",
       "text": [
        "\n",
        "\u041e\u043b\u0438\u0448\u0435\u0432\u043a\u0430 was found."
       ]
      },
      {
       "output_type": "stream",
       "stream": "stdout",
       "text": [
        "\n",
        "\u041e\u043b\u043e\u043d\u0435\u0446 was found."
       ]
      },
      {
       "output_type": "stream",
       "stream": "stdout",
       "text": [
        "\n",
        "\u041e\u043b\u044c\u0445\u043e\u0432\u0430\u0442\u043a\u0430 was found."
       ]
      },
      {
       "output_type": "stream",
       "stream": "stdout",
       "text": [
        "\n",
        "\u041e\u043b\u044b\u0448\u0430\u043d\u0430\u044f was not found."
       ]
      },
      {
       "output_type": "stream",
       "stream": "stdout",
       "text": [
        "\n",
        "\u041e\u043c\u0435\u043b\u044c\u043d\u0438\u043a was found."
       ]
      },
      {
       "output_type": "stream",
       "stream": "stdout",
       "text": [
        "\n",
        "\u041e\u043d\u043e\u0444\u0440\u0438\u0435\u0432\u043e was not found."
       ]
      },
      {
       "output_type": "stream",
       "stream": "stdout",
       "text": [
        "\n",
        "\u041e\u043f\u043e\u0447\u043a\u0430 was found."
       ]
      },
      {
       "output_type": "stream",
       "stream": "stdout",
       "text": [
        "\n",
        "\u041e\u043f\u043e\u0448\u043d\u043e\u0435 was not found."
       ]
      },
      {
       "output_type": "stream",
       "stream": "stdout",
       "text": [
        "\n",
        "\u041e\u043f\u0443\u0448\u043a\u0430 was found."
       ]
      },
      {
       "output_type": "stream",
       "stream": "stdout",
       "text": [
        "\n",
        "\u041e\u0440\u0435\u043d\u0431\u0443\u0440\u0433 was found."
       ]
      },
      {
       "output_type": "stream",
       "stream": "stdout",
       "text": [
        "\n",
        "\u041e\u0440\u043b\u0438\u043a was found."
       ]
      },
      {
       "output_type": "stream",
       "stream": "stdout",
       "text": [
        "\n",
        "\u041e\u0440\u043b\u043e\u0432 was found."
       ]
      },
      {
       "output_type": "stream",
       "stream": "stdout",
       "text": [
        "\n",
        "\u041e\u0440\u0435\u0445\u043e\u0432\u043a\u0430 was found."
       ]
      },
      {
       "output_type": "stream",
       "stream": "stdout",
       "text": [
        "\n",
        "\u041e\u0441\u043a\u0438\u043d\u043e was found."
       ]
      },
      {
       "output_type": "stream",
       "stream": "stdout",
       "text": [
        "\n",
        "\u041e\u0441\u0442\u0430\u043f\u044c\u0435 was found."
       ]
      },
      {
       "output_type": "stream",
       "stream": "stdout",
       "text": [
        "\n",
        "\u041e\u0441\u0442\u0430\u0448\u043a\u043e\u0432 was found."
       ]
      },
      {
       "output_type": "stream",
       "stream": "stdout",
       "text": [
        "\n",
        "\u041e\u0441\u0442\u0435\u0440 was found."
       ]
      },
      {
       "output_type": "stream",
       "stream": "stdout",
       "text": [
        "\n",
        "\u041e\u0441\u0442\u0440\u0430\u043c\u044c\u0435\u0432\u043e was not found."
       ]
      },
      {
       "output_type": "stream",
       "stream": "stdout",
       "text": [
        "\n",
        "\u041e\u0441\u0442\u0440\u043e\u0432 was found."
       ]
      },
      {
       "output_type": "stream",
       "stream": "stdout",
       "text": [
        "\n",
        "\u041e\u0441\u0442\u0440\u043e\u0432\u043d\u044f was not found."
       ]
      },
      {
       "output_type": "stream",
       "stream": "stdout",
       "text": [
        "\n",
        "\u041e\u0441\u0442\u0440\u043e\u0433\u043e\u0436\u0441\u043a was found."
       ]
      },
      {
       "output_type": "stream",
       "stream": "stdout",
       "text": [
        "\n",
        "\u041f\u0430\u0432\u043b\u043e\u0432\u043e was found."
       ]
      },
      {
       "output_type": "stream",
       "stream": "stdout",
       "text": [
        "\n",
        "\u041f\u0430\u0432\u043b\u043e\u0433\u0440\u0430\u0434 was found."
       ]
      },
      {
       "output_type": "stream",
       "stream": "stdout",
       "text": [
        "\n",
        "\u041f\u0430\u0440\u0441\u043a\u043e\u0435 was found."
       ]
      },
      {
       "output_type": "stream",
       "stream": "stdout",
       "text": [
        "\n",
        "\u041f\u0430\u0440\u0444\u0435\u043d\u044c\u0435\u0432\u0430 was not found."
       ]
      },
      {
       "output_type": "stream",
       "stream": "stdout",
       "text": [
        "\n",
        "\u041f\u0430\u0444\u043d\u0443\u0442\u044c\u0435\u0432 was not found."
       ]
      },
      {
       "output_type": "stream",
       "stream": "stdout",
       "text": [
        "\n",
        "\u041f\u0435\u043d\u0430 was found."
       ]
      },
      {
       "output_type": "stream",
       "stream": "stdout",
       "text": [
        "\n",
        "\u041f\u0435\u043d\u0437\u0430 was found."
       ]
      },
      {
       "output_type": "stream",
       "stream": "stdout",
       "text": [
        "\n",
        "\u041f\u0435\u0440\u0435\u0432\u0438\u0446\u043a\u043e\u0439 \u0422\u043e\u0440\u0436\u043e\u043a was not found."
       ]
      },
      {
       "output_type": "stream",
       "stream": "stdout",
       "text": [
        "\n",
        "\u041f\u0435\u0440\u0435\u0432\u043e\u043b\u043e\u0447\u043d\u0430 was found."
       ]
      },
      {
       "output_type": "stream",
       "stream": "stdout",
       "text": [
        "\n",
        "\u041f\u0435\u0440\u0435\u043a\u043e\u043f\u0435\u0446 was not found."
       ]
      },
      {
       "output_type": "stream",
       "stream": "stdout",
       "text": [
        "\n",
        "\u041f\u0435\u0440\u0435\u043c\u044b\u0448\u043b\u044c was found."
       ]
      },
      {
       "output_type": "stream",
       "stream": "stdout",
       "text": [
        "\n",
        "\u041f\u0435\u0440\u0435\u0441\u043b\u0430\u0432\u043b\u044c \u0417\u0430\u043b\u0435\u0441\u043a\u043e\u0439 was not found."
       ]
      },
      {
       "output_type": "stream",
       "stream": "stdout",
       "text": [
        "\n",
        "\u041f\u0435\u0440\u0435\u044f\u0441\u043b\u0430\u0432\u043b\u044c was not found."
       ]
      },
      {
       "output_type": "stream",
       "stream": "stdout",
       "text": [
        "\n",
        "\u041f\u0435\u0440\u043c\u044c was found."
       ]
      },
      {
       "output_type": "stream",
       "stream": "stdout",
       "text": [
        "\n",
        "\u041f\u0435\u0440\u043d\u043e\u0432 was not found."
       ]
      },
      {
       "output_type": "stream",
       "stream": "stdout",
       "text": [
        "\n",
        "\u041f\u0435\u0442\u0440\u043e\u0432\u043a\u0438 was not found."
       ]
      },
      {
       "output_type": "stream",
       "stream": "stdout",
       "text": [
        "\n",
        "\u041f\u0435\u0442\u0440\u043e\u0432\u0441\u043a was found."
       ]
      },
      {
       "output_type": "stream",
       "stream": "stdout",
       "text": [
        "\n",
        "\u041f\u0435\u0442\u0440\u043e\u0432\u0441\u043a was found."
       ]
      },
      {
       "output_type": "stream",
       "stream": "stdout",
       "text": [
        "\n",
        "\u041f\u0435\u0442\u0440\u043e\u0432\u0441\u043a\u0430\u044f was not found."
       ]
      },
      {
       "output_type": "stream",
       "stream": "stdout",
       "text": [
        "\n",
        "\u041f\u0435\u0442\u0440\u043e\u0432\u0441\u043a\u0430\u044f was found."
       ]
      },
      {
       "output_type": "stream",
       "stream": "stdout",
       "text": [
        "\n",
        "\u041f\u0435\u0442\u0440\u043e\u0432\u0441\u043a\u043e\u0435 was found."
       ]
      },
      {
       "output_type": "stream",
       "stream": "stdout",
       "text": [
        "\n",
        "\u041f\u0435\u0442\u0440\u043e\u043c\u0430 was not found."
       ]
      },
      {
       "output_type": "stream",
       "stream": "stdout",
       "text": [
        "\n",
        "\u041f\u0435\u0442\u0440\u043e\u043f\u0430\u0432\u043b\u043e\u0432\u0441\u043a\u043e\u0439 was not found."
       ]
      },
      {
       "output_type": "stream",
       "stream": "stdout",
       "text": [
        "\n",
        "\u041f\u0435\u0447\u0435\u043d\u0435\u0433\u0438 was found."
       ]
      },
      {
       "output_type": "stream",
       "stream": "stdout",
       "text": [
        "\n",
        "\u041f\u0438\u0440\u044f\u0442\u0438\u043d was found."
       ]
      },
      {
       "output_type": "stream",
       "stream": "stdout",
       "text": [
        "\n",
        "\u041f\u0438\u0441\u0430\u0440\u0435\u0432\u043a\u0430 was found."
       ]
      },
      {
       "output_type": "stream",
       "stream": "stdout",
       "text": [
        "\n",
        "\u041f\u0438\u0441\u0446\u043e\u0432\u043e was found."
       ]
      },
      {
       "output_type": "stream",
       "stream": "stdout",
       "text": [
        "\n",
        "\u041f\u043b\u0435\u0441 was found."
       ]
      },
      {
       "output_type": "stream",
       "stream": "stdout",
       "text": [
        "\n",
        "\u041f\u043b\u043e\u0441\u043a\u043e\u0435 was found."
       ]
      },
      {
       "output_type": "stream",
       "stream": "stdout",
       "text": [
        "\n",
        "\u041f\u043b\u043e\u0445\u043e\u043d\u0430 was not found."
       ]
      },
      {
       "output_type": "stream",
       "stream": "stdout",
       "text": [
        "\n",
        "\u041f\u043e\u0432\u043e\u0434\u043d\u0435\u0432\u043e was found."
       ]
      },
      {
       "output_type": "stream",
       "stream": "stdout",
       "text": [
        "\n",
        "\u041f\u043e\u0433\u0430\u0440\u044c was found."
       ]
      },
      {
       "output_type": "stream",
       "stream": "stdout",
       "text": [
        "\n",
        "\u041f\u043e\u0433\u0440\u043e\u043c\u0446\u0430 was not found."
       ]
      },
      {
       "output_type": "stream",
       "stream": "stdout",
       "text": [
        "\n",
        "\u041f\u043e\u0434\u0432\u043e\u0440\u0433\u0430\u043b\u044c\u0441\u043a\u043e\u0435 was not found."
       ]
      },
      {
       "output_type": "stream",
       "stream": "stdout",
       "text": [
        "\n",
        "\u041f\u043e\u0434\u043e\u043b was found."
       ]
      },
      {
       "output_type": "stream",
       "stream": "stdout",
       "text": [
        "\n",
        "\u041f\u043e\u043a\u0440\u043e\u0432\u0441\u043a\u043e\u0435 was found."
       ]
      },
      {
       "output_type": "stream",
       "stream": "stdout",
       "text": [
        "\n",
        "\u041f\u043e\u043a\u0440\u043e\u0432\u0441\u043a\u043e\u0435 was found."
       ]
      },
      {
       "output_type": "stream",
       "stream": "stdout",
       "text": [
        "\n",
        "\u041f\u043e\u043a\u0440\u043e\u0432\u0441\u043a\u043e\u0435 was found."
       ]
      },
      {
       "output_type": "stream",
       "stream": "stdout",
       "text": [
        "\n",
        "\u041f\u043e\u043a\u0440\u043e\u0432\u0441\u043a\u043e\u0435 was found."
       ]
      },
      {
       "output_type": "stream",
       "stream": "stdout",
       "text": [
        "\n",
        "\u041f\u043e\u043b\u043e\u0442\u0441\u043a was found."
       ]
      },
      {
       "output_type": "stream",
       "stream": "stdout",
       "text": [
        "\n",
        "\u041f\u043e\u043b\u0442\u0430\u0432\u0430 was found."
       ]
      },
      {
       "output_type": "stream",
       "stream": "stdout",
       "text": [
        "\n",
        "\u041f\u043e\u043d\u043e\u0440\u043d\u0438\u0446\u0430 was found."
       ]
      },
      {
       "output_type": "stream",
       "stream": "stdout",
       "text": [
        "\n",
        "\u041f\u043e\u0440\u0435\u0447\u044c\u0435 was found."
       ]
      },
      {
       "output_type": "stream",
       "stream": "stdout",
       "text": [
        "\n",
        "\u041f\u043e\u0440\u0435\u0447\u044c\u0435 was found."
       ]
      },
      {
       "output_type": "stream",
       "stream": "stdout",
       "text": [
        "\n",
        "\u041f\u043e\u0442\u043e\u043a was found."
       ]
      },
      {
       "output_type": "stream",
       "stream": "stdout",
       "text": [
        "\n",
        "\u041f\u043e\u0447\u0438\u043d\u043a\u0438 was found."
       ]
      },
      {
       "output_type": "stream",
       "stream": "stdout",
       "text": [
        "\n",
        "\u041f\u043e\u0447\u0438\u043d\u043a\u0438 was found."
       ]
      },
      {
       "output_type": "stream",
       "stream": "stdout",
       "text": [
        "\n",
        "\u041f\u043e\u0448\u0435\u0445\u043e\u043d\u044c was found."
       ]
      },
      {
       "output_type": "stream",
       "stream": "stdout",
       "text": [
        "\n",
        "\u041f\u0440\u0435\u0437\u043c\u0430 was found."
       ]
      },
      {
       "output_type": "stream",
       "stream": "stdout",
       "text": [
        "\n",
        "\u041f\u0440\u0435\u043b\u0438 was found."
       ]
      },
      {
       "output_type": "stream",
       "stream": "stdout",
       "text": [
        "\n",
        "\u041f\u0440\u0438\u043b\u0443\u043a\u0438 was found."
       ]
      },
      {
       "output_type": "stream",
       "stream": "stdout",
       "text": [
        "\n",
        "\u041f\u0440\u043e\u043d\u0441\u043a was found."
       ]
      },
      {
       "output_type": "stream",
       "stream": "stdout",
       "text": [
        "\n",
        "New form: \u041f\u0440\u043e\u043f\u043e\u0439"
       ]
      },
      {
       "output_type": "stream",
       "stream": "stdout",
       "text": [
        "\n",
        "\u041f\u0440\u043e\u043f\u043e\u0439 was not found."
       ]
      },
      {
       "output_type": "stream",
       "stream": "stdout",
       "text": [
        "\n",
        "\u041f\u0440\u043e\u0442\u043e\u043f\u043e\u043f\u043e\u0432\u0430 was found."
       ]
      },
      {
       "output_type": "stream",
       "stream": "stdout",
       "text": [
        "\n",
        "\u041f\u0441\u043a\u043e\u0432 was found."
       ]
      },
      {
       "output_type": "stream",
       "stream": "stdout",
       "text": [
        "\n",
        "\u041f\u0443\u0434\u043e\u0433\u0430 was not found."
       ]
      },
      {
       "output_type": "stream",
       "stream": "stdout",
       "text": [
        "\n",
        "\u041f\u0443\u043f\u043a\u0438 was found."
       ]
      },
      {
       "output_type": "stream",
       "stream": "stdout",
       "text": [
        "\n",
        "\u041f\u0443\u0442\u0438\u0432\u043b\u044c was found."
       ]
      },
      {
       "output_type": "stream",
       "stream": "stdout",
       "text": [
        "\n",
        "\u041f\u0443\u0442\u044f\u0442\u0438\u043d\u043e was found."
       ]
      },
      {
       "output_type": "stream",
       "stream": "stdout",
       "text": [
        "\n",
        "\u041f\u0443\u0448\u0430 was found."
       ]
      },
      {
       "output_type": "stream",
       "stream": "stdout",
       "text": [
        "\n",
        "\u041f\u044f\u0442\u043d\u0438\u0446\u043a\u043e\u0435 was found."
       ]
      },
      {
       "output_type": "stream",
       "stream": "stdout",
       "text": [
        "\n",
        "\u041f\u044f\u0442\u043d\u0438\u0446\u043a\u043e\u0435 was found."
       ]
      },
      {
       "output_type": "stream",
       "stream": "stdout",
       "text": [
        "\n",
        "\u0420\u0430\u043c\u0435\u043d\u044c\u0435 was found."
       ]
      },
      {
       "output_type": "stream",
       "stream": "stdout",
       "text": [
        "\n",
        "\u0420\u0430\u0442\u043a\u043e\u0432\u043a\u0430 was found."
       ]
      },
      {
       "output_type": "stream",
       "stream": "stdout",
       "text": [
        "\n",
        "\u0420\u0430\u0442\u0441\u0431\u0443\u0440\u0433 was not found."
       ]
      },
      {
       "output_type": "stream",
       "stream": "stdout",
       "text": [
        "\n",
        "\u0420\u0430\u0448\u0435\u0432\u043a\u0430 was found."
       ]
      },
      {
       "output_type": "stream",
       "stream": "stdout",
       "text": [
        "\n",
        "\u0420\u0436\u0435\u0432 \u0412\u043e\u043b\u043e\u0434\u0438\u043c\u0435\u0440\u043e\u0432 was not found."
       ]
      },
      {
       "output_type": "stream",
       "stream": "stdout",
       "text": [
        "\n",
        "\u0420\u0436\u0438\u0446\u0430 was not found."
       ]
      },
      {
       "output_type": "stream",
       "stream": "stdout",
       "text": [
        "\n",
        "\u0420\u0438\u0433\u0430 was found."
       ]
      },
      {
       "output_type": "stream",
       "stream": "stdout",
       "text": [
        "\n",
        "\u0420\u043e\u0433\u0430\u0447\u0435\u0432 was found."
       ]
      },
      {
       "output_type": "stream",
       "stream": "stdout",
       "text": [
        "\n",
        "\u0420\u043e\u0433\u0430\u0447\u0435\u0432\u043e was found."
       ]
      },
      {
       "output_type": "stream",
       "stream": "stdout",
       "text": [
        "\n",
        "\u0420\u043e\u0436\u0435\u0441\u0442\u0432\u0435\u043d\u0441\u043a\u043e\u0435 was not found."
       ]
      },
      {
       "output_type": "stream",
       "stream": "stdout",
       "text": [
        "\n",
        "\u0420\u043e\u043b\u043e\u0432\u0441\u043a\u043e\u0435 was not found."
       ]
      },
      {
       "output_type": "stream",
       "stream": "stdout",
       "text": [
        "\n",
        "\u0420\u043e\u043c\u0430\u043d\u043e\u0432 was not found."
       ]
      },
      {
       "output_type": "stream",
       "stream": "stdout",
       "text": [
        "\n",
        "\u0420\u043e\u043c\u0435\u043d was not found."
       ]
      },
      {
       "output_type": "stream",
       "stream": "stdout",
       "text": [
        "\n",
        "\u0420\u043e\u043f\u0441\u043a was found."
       ]
      },
      {
       "output_type": "stream",
       "stream": "stdout",
       "text": [
        "\n",
        "\u0420\u043e\u0441\u0442\u043e\u0432 was found."
       ]
      },
      {
       "output_type": "stream",
       "stream": "stdout",
       "text": [
        "\n",
        "\u0420\u0443\u0431\u0435\u0436\u043d\u0430\u044f was not found."
       ]
      },
      {
       "output_type": "stream",
       "stream": "stdout",
       "text": [
        "\n",
        "\u0420\u0443\u0436\u043d\u043e\u0435 was found."
       ]
      },
      {
       "output_type": "stream",
       "stream": "stdout",
       "text": [
        "\n",
        "\u0420\u0443\u0437\u0430 was found."
       ]
      },
      {
       "output_type": "stream",
       "stream": "stdout",
       "text": [
        "\n",
        "\u0420\u0443\u0448\u043e\u043d\u0430 was not found."
       ]
      },
      {
       "output_type": "stream",
       "stream": "stdout",
       "text": [
        "\n",
        "\u0420\u044b\u0431\u0438\u043d\u0441\u043a was found."
       ]
      },
      {
       "output_type": "stream",
       "stream": "stdout",
       "text": [
        "\n",
        "\u0420\u044b\u0436\u043a\u043e\u0432\u043e was found."
       ]
      },
      {
       "output_type": "stream",
       "stream": "stdout",
       "text": [
        "\n",
        "\u0420\u044b\u0437\u043d was not found."
       ]
      },
      {
       "output_type": "stream",
       "stream": "stdout",
       "text": [
        "\n",
        "\u0420\u044b\u043b\u044c\u0441\u043a was found."
       ]
      },
      {
       "output_type": "stream",
       "stream": "stdout",
       "text": [
        "\n",
        "\u0420\u0435\u0437\u044b\u0446\u044b was not found."
       ]
      },
      {
       "output_type": "stream",
       "stream": "stdout",
       "text": [
        "\n",
        "\u0420\u0435\u043f\u043a\u0438 was found."
       ]
      },
      {
       "output_type": "stream",
       "stream": "stdout",
       "text": [
        "\n",
        "\u0420\u044f\u0436\u0441\u043a was found."
       ]
      },
      {
       "output_type": "stream",
       "stream": "stdout",
       "text": [
        "\n",
        "\u0420\u044f\u0437\u0430\u043d\u044c was found."
       ]
      },
      {
       "output_type": "stream",
       "stream": "stdout",
       "text": [
        "\n",
        "\u0421\u0430\u0432\u0438\u043d \u0421\u0442\u043e\u0440\u043e\u0436\u0435\u0432\u0441\u043a\u0438\u0439 was not found."
       ]
      },
      {
       "output_type": "stream",
       "stream": "stdout",
       "text": [
        "\n",
        "\u0421\u0430\u0432\u0438\u043d\u0438\u0446\u044b was not found."
       ]
      },
      {
       "output_type": "stream",
       "stream": "stdout",
       "text": [
        "\n",
        "\u0421\u0430\u043c\u0430\u0440\u0430 was found."
       ]
      },
      {
       "output_type": "stream",
       "stream": "stdout",
       "text": [
        "\n",
        "\u0421\u0430\u043c\u0431\u043e\u0440\u0441\u043a\u043e\u0439 was not found."
       ]
      },
      {
       "output_type": "stream",
       "stream": "stdout",
       "text": [
        "\n",
        "\u0421\u0430\u043f\u043e\u0436\u043e\u043a was found."
       ]
      },
      {
       "output_type": "stream",
       "stream": "stdout",
       "text": [
        "\n",
        "\u0421\u0430\u0440\u0430\u0442\u043e\u0432 was found."
       ]
      },
      {
       "output_type": "stream",
       "stream": "stdout",
       "text": [
        "\n",
        "\u0421\u0430\u0440\u0431\u0430\u0435\u0432\u043e was found."
       ]
      },
      {
       "output_type": "stream",
       "stream": "stdout",
       "text": [
        "\n",
        "\u0421\u0430\u0441\u043e\u0432\u043e was found."
       ]
      },
      {
       "output_type": "stream",
       "stream": "stdout",
       "text": [
        "\n",
        "\u0421\u0432\u0430\u0442\u043e\u0432\u0430 \u041b\u0443\u0447\u043a\u0430 was not found."
       ]
      },
      {
       "output_type": "stream",
       "stream": "stdout",
       "text": [
        "\n",
        "\u0421\u0432\u0435\u0440\u0436\u0438\u043d was not found."
       ]
      },
      {
       "output_type": "stream",
       "stream": "stdout",
       "text": [
        "\n",
        "\u0421\u0432\u0438\u043d\u0441\u043a\u043e\u0439 was not found."
       ]
      },
      {
       "output_type": "stream",
       "stream": "stdout",
       "text": [
        "\n",
        "\u0421\u0432\u0438\u0440\u0441\u043a\u043e\u0439 \u0410\u043b\u0435\u043a\u0441\u0430\u043d\u0434\u0440\u043e\u0432\u0441\u043a\u043e\u0439 was not found."
       ]
      },
      {
       "output_type": "stream",
       "stream": "stdout",
       "text": [
        "\n",
        "New form: \u0421\u0432\u0438\u0430\u0436"
       ]
      },
      {
       "output_type": "stream",
       "stream": "stdout",
       "text": [
        "\n",
        "\u0421\u0432\u0438\u0430\u0436 was not found."
       ]
      },
      {
       "output_type": "stream",
       "stream": "stdout",
       "text": [
        "\n",
        "\u0421\u0432\u044f\u0442\u043e\u0433\u043e\u0440\u0441\u043a\u043e\u0439 was not found."
       ]
      },
      {
       "output_type": "stream",
       "stream": "stdout",
       "text": [
        "\n",
        "\u0421\u0432\u044f\u0442\u043e\u0435 \u041c\u0435\u0441\u0442\u043e was not found."
       ]
      },
      {
       "output_type": "stream",
       "stream": "stdout",
       "text": [
        "\n",
        "\u0421\u0435\u0431\u0435\u0436 was found."
       ]
      },
      {
       "output_type": "stream",
       "stream": "stdout",
       "text": [
        "\n",
        "\u0421 was found."
       ]
      },
      {
       "output_type": "stream",
       "stream": "stdout",
       "text": [
        "\n",
        "\u0421\u0435\u043c\u0435\u043d\u0434\u0435\u0435\u0432\u043e was not found."
       ]
      },
      {
       "output_type": "stream",
       "stream": "stdout",
       "text": [
        "\n",
        "\u0421\u0435\u043c\u0435\u043d\u043e\u0432 was found."
       ]
      },
      {
       "output_type": "stream",
       "stream": "stdout",
       "text": [
        "\n",
        "\u0421\u0435\u043c\u0435\u043d\u043e\u0432\u0441\u043a\u043e\u0435 was found."
       ]
      },
      {
       "output_type": "stream",
       "stream": "stdout",
       "text": [
        "\n",
        "\u0421\u0435\u043d\u043a\u043e\u0432\u0430 was found."
       ]
      },
      {
       "output_type": "stream",
       "stream": "stdout",
       "text": [
        "\n",
        "\u0421\u0435\u0440\u0433\u0430\u0447\u044c was found."
       ]
      },
      {
       "output_type": "stream",
       "stream": "stdout",
       "text": [
        "\n",
        "\u0421\u0435\u0440\u0434\u043e\u0431\u043e\u043b\u044c was found."
       ]
      },
      {
       "output_type": "stream",
       "stream": "stdout",
       "text": [
        "\n",
        "\u0421\u0435\u0440\u0434\u043e\u0431\u0441\u043a was found."
       ]
      },
      {
       "output_type": "stream",
       "stream": "stdout",
       "text": [
        "\n",
        "\u0421\u0435\u0440\u0435\u0432\u043a\u0430 was not found."
       ]
      },
      {
       "output_type": "stream",
       "stream": "stdout",
       "text": [
        "\n",
        "\u0421\u0435\u0440\u0435\u0433\u0430 was not found."
       ]
      },
      {
       "output_type": "stream",
       "stream": "stdout",
       "text": [
        "\n",
        "\u0421\u0435\u0440\u0435\u0434\u0430 \u0421\u0442\u0440\u0430\u0442\u0438\u043b\u0430\u0442\u0441\u043a\u0430\u044f was not found."
       ]
      },
      {
       "output_type": "stream",
       "stream": "stdout",
       "text": [
        "\n",
        "\u0421\u0435\u0440\u0435\u0434\u0438\u043d\u0430 \u0411\u0443\u0434\u0430 was found."
       ]
      },
      {
       "output_type": "stream",
       "stream": "stdout",
       "text": [
        "\n",
        "\u0421\u0435\u0440\u043f\u0435\u0439\u0441\u043a was found."
       ]
      },
      {
       "output_type": "stream",
       "stream": "stdout",
       "text": [
        "\n",
        "\u0421\u0435\u0440\u043f\u0443\u0445\u043e\u0432 was found."
       ]
      },
      {
       "output_type": "stream",
       "stream": "stdout",
       "text": [
        "\n",
        "\u0421\u0438\u043c was not found."
       ]
      },
      {
       "output_type": "stream",
       "stream": "stdout",
       "text": [
        "\n",
        "\u0421\u0438\u043c\u0435\u043e\u043d\u043e\u0432\u043a\u0430 was not found."
       ]
      },
      {
       "output_type": "stream",
       "stream": "stdout",
       "text": [
        "\n",
        "\u0421\u0438\u043d\u0431\u0438\u0440\u0441\u043a was found."
       ]
      },
      {
       "output_type": "stream",
       "stream": "stdout",
       "text": [
        "\n",
        "\u0421\u0438\u043d\u0441\u043a\u043e\u0439 was not found."
       ]
      },
      {
       "output_type": "stream",
       "stream": "stdout",
       "text": [
        "\n",
        "\u0421\u0438\u043d\u044f\u0432\u043a\u0438 was not found."
       ]
      },
      {
       "output_type": "stream",
       "stream": "stdout",
       "text": [
        "\n",
        "\u0421\u043a\u043e\u043f\u0438\u043d was found."
       ]
      },
      {
       "output_type": "stream",
       "stream": "stdout",
       "text": [
        "\n",
        "\u0421\u043b\u0430\u0432\u0433\u043e\u0440\u043e\u0434\u043a\u0430 was found."
       ]
      },
      {
       "output_type": "stream",
       "stream": "stdout",
       "text": [
        "\n",
        "\u0421\u043b\u043e\u0431\u043e\u0434\u0441\u043a\u043e\u0439 was found."
       ]
      },
      {
       "output_type": "stream",
       "stream": "stdout",
       "text": [
        "\n",
        "\u0421\u043b\u043e\u043b\u044c\u0446\u0430 \u041a\u043e\u043b\u0435\u0441\u043d\u0430\u044f was not found."
       ]
      },
      {
       "output_type": "stream",
       "stream": "stdout",
       "text": [
        "\n",
        "\u0421\u043c\u043e\u043b\u0435\u043d\u0441\u043a was found."
       ]
      },
      {
       "output_type": "stream",
       "stream": "stdout",
       "text": [
        "\n",
        "\u0421\u043c\u0435\u043b\u043e\u0435 was found."
       ]
      },
      {
       "output_type": "stream",
       "stream": "stdout",
       "text": [
        "\n",
        "\u0421\u043e\u043a\u043e\u043b was found."
       ]
      },
      {
       "output_type": "stream",
       "stream": "stdout",
       "text": [
        "\n",
        "\u0421\u043e\u043b\u044c-\u0412\u044b\u0447\u0435\u0433\u043e\u0434\u0441\u043a was found."
       ]
      },
      {
       "output_type": "stream",
       "stream": "stdout",
       "text": [
        "\n",
        "\u0421\u043e\u043b\u044c-\u0413\u0430\u043b\u0438\u0446\u043a\u0430\u044f was not found."
       ]
      },
      {
       "output_type": "stream",
       "stream": "stdout",
       "text": [
        "\n",
        "\u0421\u043e\u043b\u044c\u0446\u043e was not found."
       ]
      },
      {
       "output_type": "stream",
       "stream": "stdout",
       "text": [
        "\n",
        "\u0421\u043e\u0440\u043e\u0447\u0438\u043d\u0446\u044b was found."
       ]
      },
      {
       "output_type": "stream",
       "stream": "stdout",
       "text": [
        "\n",
        "\u0421\u043e\u0441\u043d\u0438\u0446\u0430 was found."
       ]
      },
      {
       "output_type": "stream",
       "stream": "stdout",
       "text": [
        "\n",
        "\u0421\u043f\u0430\u0441 was found."
       ]
      },
      {
       "output_type": "stream",
       "stream": "stdout",
       "text": [
        "\n",
        "\u0421\u043f\u0430\u0441 was found."
       ]
      },
      {
       "output_type": "stream",
       "stream": "stdout",
       "text": [
        "\n",
        "New form: \u0421\u043f\u0430"
       ]
      },
      {
       "output_type": "stream",
       "stream": "stdout",
       "text": [
        "\n",
        "\u0421\u043f\u0430 was not found."
       ]
      },
      {
       "output_type": "stream",
       "stream": "stdout",
       "text": [
        "\n",
        "\u0421\u043f\u0430\u0441\u043a\u043e\u0435 was not found."
       ]
      },
      {
       "output_type": "stream",
       "stream": "stdout",
       "text": [
        "\n",
        "\u0421\u043f\u0438\u0440\u043e\u0432\u043e was found."
       ]
      },
      {
       "output_type": "stream",
       "stream": "stdout",
       "text": [
        "\n",
        "\u0421\u0440\u0435\u0431\u043d\u043e\u0435 was found."
       ]
      },
      {
       "output_type": "stream",
       "stream": "stdout",
       "text": [
        "\n",
        "\u0421\u0442\u0430\u0432\u0440\u043e\u043f\u043e\u043b\u044c was found."
       ]
      },
      {
       "output_type": "stream",
       "stream": "stdout",
       "text": [
        "\n",
        "\u0421\u0442\u0430\u043b\u0435\u0440\u043e\u0432\u0447\u0438\u0437\u043d\u0430 was not found."
       ]
      },
      {
       "output_type": "stream",
       "stream": "stdout",
       "text": [
        "\n",
        "\u0421\u0442\u0430\u0440\u0430\u044f \u0420\u0443\u0437\u0430 was not found."
       ]
      },
      {
       "output_type": "stream",
       "stream": "stdout",
       "text": [
        "\n",
        "\u0421\u0442\u0430\u0440\u0430\u044f \u0420\u044f\u0437\u0430\u043d\u044c was found."
       ]
      },
      {
       "output_type": "stream",
       "stream": "stdout",
       "text": [
        "\n",
        "\u0421\u0442\u0430\u0440\u0438\u043d\u0441\u043a\u043e\u0435 was found."
       ]
      },
      {
       "output_type": "stream",
       "stream": "stdout",
       "text": [
        "\n",
        "\u0421\u0442\u0430\u0440\u0438\u0446\u0430 was found."
       ]
      },
      {
       "output_type": "stream",
       "stream": "stdout",
       "text": [
        "\n",
        "\u0421\u0442\u0430\u0440\u043e\u0434\u0443\u0431 was found."
       ]
      },
      {
       "output_type": "stream",
       "stream": "stdout",
       "text": [
        "\n",
        "\u0421\u0442\u0430\u0440\u043e\u0439 \u0411\u044b\u0445\u043e\u0432 was not found."
       ]
      },
      {
       "output_type": "stream",
       "stream": "stdout",
       "text": [
        "\n",
        "\u0421\u0442\u0430\u0440\u043e\u0439 \u041e\u0441\u043a\u043e\u043b was not found."
       ]
      },
      {
       "output_type": "stream",
       "stream": "stdout",
       "text": [
        "\n",
        "\u0421\u0442\u0430\u0440\u0446\u043e\u0432 \u0423\u0433\u043e\u043b was not found."
       ]
      },
      {
       "output_type": "stream",
       "stream": "stdout",
       "text": [
        "\n",
        "\u0421\u0442\u0435\u0448\u043a\u0438 was not found."
       ]
      },
      {
       "output_type": "stream",
       "stream": "stdout",
       "text": [
        "\n",
        "\u0421\u0442\u043e\u044f\u043d\u0446\u044b was found."
       ]
      },
      {
       "output_type": "stream",
       "stream": "stdout",
       "text": [
        "\n",
        "\u0421\u0442\u0440\u0435\u043b\u0438\u0446\u0430 was found."
       ]
      },
      {
       "output_type": "stream",
       "stream": "stdout",
       "text": [
        "\n",
        "\u0421\u0442\u044b\u0440\u043d\u044f\u043d\u044c\u0438 was not found."
       ]
      },
      {
       "output_type": "stream",
       "stream": "stdout",
       "text": [
        "\n",
        "\u0421\u0443\u0434\u0430\u0439 was found."
       ]
      },
      {
       "output_type": "stream",
       "stream": "stdout",
       "text": [
        "\n",
        "\u0421\u0443\u0434\u0436\u0430 was found."
       ]
      },
      {
       "output_type": "stream",
       "stream": "stdout",
       "text": [
        "\n",
        "\u0421\u0443\u0437\u0434\u0430\u043b\u044c was found."
       ]
      },
      {
       "output_type": "stream",
       "stream": "stdout",
       "text": [
        "\n",
        "\u0421\u0443\u043c\u0441\u043a\u0430\u044f \u0412\u043e\u0440\u043e\u0436\u0431\u0430 was not found."
       ]
      },
      {
       "output_type": "stream",
       "stream": "stdout",
       "text": [
        "\n",
        "\u0421\u0443\u043c\u044b was found."
       ]
      },
      {
       "output_type": "stream",
       "stream": "stdout",
       "text": [
        "\n",
        "\u0421\u0443\u0445\u0430\u0440\u0438 was found."
       ]
      },
      {
       "output_type": "stream",
       "stream": "stdout",
       "text": [
        "\n",
        "\u0421\u044b\u0437\u0440\u0430\u043d\u044c was found."
       ]
      },
      {
       "output_type": "stream",
       "stream": "stdout",
       "text": [
        "\n",
        "\u0421\u0435\u0432\u0441\u043a was found."
       ]
      },
      {
       "output_type": "stream",
       "stream": "stdout",
       "text": [
        "\n",
        "\u0421\u044f\u043c\u0441\u043a\u043e\u0439 was not found."
       ]
      },
      {
       "output_type": "stream",
       "stream": "stdout",
       "text": [
        "\n",
        "\u0422\u0430\u043c\u0431\u043e\u0432 was found."
       ]
      },
      {
       "output_type": "stream",
       "stream": "stdout",
       "text": [
        "\n",
        "\u0422\u0430\u0440\u043d\u044f\u043d\u0441\u043a\u043e\u0439 was not found."
       ]
      },
      {
       "output_type": "stream",
       "stream": "stdout",
       "text": [
        "\n",
        "\u0422\u0430\u0440\u0443\u0441\u0430 was found."
       ]
      },
      {
       "output_type": "stream",
       "stream": "stdout",
       "text": [
        "\n",
        "\u0422\u0430\u0442\u0430\u0440\u0441\u043a was found."
       ]
      },
      {
       "output_type": "stream",
       "stream": "stdout",
       "text": [
        "\n",
        "\u0422\u0432\u0435\u0440\u044c was found."
       ]
      },
      {
       "output_type": "stream",
       "stream": "stdout",
       "text": [
        "\n",
        "\u0422\u0435\u043c\u043d\u0438\u043a\u043e\u0432 was found."
       ]
      },
      {
       "output_type": "stream",
       "stream": "stdout",
       "text": [
        "\n",
        "\u0422\u0435\u043d\u0433\u0443\u0448\u0435\u0432\u0430 was not found."
       ]
      },
      {
       "output_type": "stream",
       "stream": "stdout",
       "text": [
        "\n",
        "\u0422\u0435\u043f\u043b\u043e\u0433\u043e\u0440\u0441\u043a\u0430\u044f \u0411\u043e\u0433\u043e\u0440\u043e\u0434\u0438\u0446\u043a\u0430\u044f was not found."
       ]
      },
      {
       "output_type": "stream",
       "stream": "stdout",
       "text": [
        "\n",
        "\u0422\u0435\u0440\u0435\u0448\u043a\u043e\u0432\u043e was found."
       ]
      },
      {
       "output_type": "stream",
       "stream": "stdout",
       "text": [
        "\n",
        "\u0422\u0435\u0440\u044f\u0435\u0432\u043e was found."
       ]
      },
      {
       "output_type": "stream",
       "stream": "stdout",
       "text": [
        "\n",
        "\u0422\u0435\u0448\u0435\u0432\u0441\u043a\u043e\u0439 was not found."
       ]
      },
      {
       "output_type": "stream",
       "stream": "stdout",
       "text": [
        "\n",
        "\u0422\u0438\u043c was found."
       ]
      },
      {
       "output_type": "stream",
       "stream": "stdout",
       "text": [
        "\n",
        "\u0422\u0438\u0441\u043a\u0430\u0434\u044b was found."
       ]
      },
      {
       "output_type": "stream",
       "stream": "stdout",
       "text": [
        "\n",
        "\u0422\u0438\u0445\u0432\u0438\u043d was found."
       ]
      },
      {
       "output_type": "stream",
       "stream": "stdout",
       "text": [
        "\n",
        "\u0422\u0438\u0445\u043e\u043d\u043e\u0432\u0430 was not found."
       ]
      },
      {
       "output_type": "stream",
       "stream": "stdout",
       "text": [
        "\n",
        "\u0422\u0438\u0445\u043e\u043d\u043e\u0432\u0430 was found."
       ]
      },
      {
       "output_type": "stream",
       "stream": "stdout",
       "text": [
        "\n",
        "\u0422\u0438\u0445\u043e\u043d\u043e\u0432\u0430 was not found."
       ]
      },
      {
       "output_type": "stream",
       "stream": "stdout",
       "text": [
        "\n",
        "\u0422\u043e\u0431\u043e\u043b\u044c\u0441\u043a was found."
       ]
      },
      {
       "output_type": "stream",
       "stream": "stdout",
       "text": [
        "\n",
        "\u0422\u043e\u043c\u0430\u0440\u043e\u0432\u043a\u0430 was found."
       ]
      },
      {
       "output_type": "stream",
       "stream": "stdout",
       "text": [
        "\n",
        "\u0422\u043e\u0440\u0436\u043e\u043a was found."
       ]
      },
      {
       "output_type": "stream",
       "stream": "stdout",
       "text": [
        "\n",
        "\u0422\u043e\u0440\u043e\u043f\u0435\u0446 was found."
       ]
      },
      {
       "output_type": "stream",
       "stream": "stdout",
       "text": [
        "\n",
        "\u0422\u0440\u0435\u0441\u0432\u044f\u0442\u0441\u043a\u043e\u0435 was not found."
       ]
      },
      {
       "output_type": "stream",
       "stream": "stdout",
       "text": [
        "\n",
        "\u0422\u0440\u043e\u0438\u0446\u043a was found."
       ]
      },
      {
       "output_type": "stream",
       "stream": "stdout",
       "text": [
        "\n",
        "\u0422\u0440\u043e\u0438\u0446\u043a\u0430\u044f was found."
       ]
      },
      {
       "output_type": "stream",
       "stream": "stdout",
       "text": [
        "\n",
        "\u0422\u0440\u043e\u0438\u0446\u043a\u0430\u044f \u0421\u0435\u0440\u0433\u0438\u0435\u0432\u0430 was not found."
       ]
      },
      {
       "output_type": "stream",
       "stream": "stdout",
       "text": [
        "\n",
        "\u0422\u0440\u043e\u0438\u0446\u043a\u043e\u0435 was found."
       ]
      },
      {
       "output_type": "stream",
       "stream": "stdout",
       "text": [
        "\n",
        "\u0422\u0440\u043e\u0438\u0446\u043a\u043e\u0439 was not found."
       ]
      },
      {
       "output_type": "stream",
       "stream": "stdout",
       "text": [
        "\n",
        "\u0422\u0440\u0443\u0431\u0447\u0435\u0432\u0441\u043a was found."
       ]
      },
      {
       "output_type": "stream",
       "stream": "stdout",
       "text": [
        "\n",
        "\u0422\u0443\u0433\u043b\u0438\u043d\u0441\u043a\u0430\u044f was not found."
       ]
      },
      {
       "output_type": "stream",
       "stream": "stdout",
       "text": [
        "\n",
        "\u0422\u0443\u043b\u0430 was found."
       ]
      },
      {
       "output_type": "stream",
       "stream": "stdout",
       "text": [
        "\n",
        "\u0422\u0443\u0440\u0435\u0446\u043a\u0430\u044f was not found."
       ]
      },
      {
       "output_type": "stream",
       "stream": "stdout",
       "text": [
        "\n",
        "New form: \u0422\u0443\u0440\u0438\u043d"
       ]
      },
      {
       "output_type": "stream",
       "stream": "stdout",
       "text": [
        "\n",
        "\u0422\u0443\u0440\u0438\u043d was not found."
       ]
      },
      {
       "output_type": "stream",
       "stream": "stdout",
       "text": [
        "\n",
        "\u0422\u0443\u0440\u043a\u0438 was not found."
       ]
      },
      {
       "output_type": "stream",
       "stream": "stdout",
       "text": [
        "\n",
        "\u0422\u0443\u0445\u0438 was not found."
       ]
      },
      {
       "output_type": "stream",
       "stream": "stdout",
       "text": [
        "\n",
        "\u0422\u044e\u0440\u0442\u0435\u043d\u044c was found."
       ]
      },
      {
       "output_type": "stream",
       "stream": "stdout",
       "text": [
        "\n",
        "\u0423\u0433\u043b\u0438\u0447 was found."
       ]
      },
      {
       "output_type": "stream",
       "stream": "stdout",
       "text": [
        "\n",
        "\u0423\u0434\u0430 was found."
       ]
      },
      {
       "output_type": "stream",
       "stream": "stdout",
       "text": [
        "\n",
        "\u0423\u0437\u0435\u043b\u044c was not found."
       ]
      },
      {
       "output_type": "stream",
       "stream": "stdout",
       "text": [
        "\n",
        "\u0423\u043b\u043e\u043c was not found."
       ]
      },
      {
       "output_type": "stream",
       "stream": "stdout",
       "text": [
        "\n",
        "\u0423\u043d\u043a\u043e\u0441\u043e\u0432\u0430 was not found."
       ]
      },
      {
       "output_type": "stream",
       "stream": "stdout",
       "text": [
        "\n",
        "\u0423\u0440\u0430\u0437\u043e\u0432\u0430 was found."
       ]
      },
      {
       "output_type": "stream",
       "stream": "stdout",
       "text": [
        "\n",
        "\u0423\u0440\u0430\u043b\u044c\u0441\u043a was found."
       ]
      },
      {
       "output_type": "stream",
       "stream": "stdout",
       "text": [
        "\n",
        "\u0423\u0441\u043c\u0430\u043d\u044c was found."
       ]
      },
      {
       "output_type": "stream",
       "stream": "stdout",
       "text": [
        "\n",
        "\u0423\u0441\u043f\u0435\u043d\u0441\u043a\u043e\u0439 was not found."
       ]
      },
      {
       "output_type": "stream",
       "stream": "stdout",
       "text": [
        "\n",
        "\u0423\u0441\u0442\u0438\u0432\u0438\u0446\u0430 was found."
       ]
      },
      {
       "output_type": "stream",
       "stream": "stdout",
       "text": [
        "\n",
        "\u0423\u0441\u0442\u044c\u0435 was found."
       ]
      },
      {
       "output_type": "stream",
       "stream": "stdout",
       "text": [
        "\n",
        "\u0423\u0441\u0442\u044c-\u0421\u044b\u0441\u043e\u043b\u044c\u0441\u043a was found."
       ]
      },
      {
       "output_type": "stream",
       "stream": "stdout",
       "text": [
        "\n",
        "\u0423\u0441\u0442\u044e\u0433 \u0412\u0435\u043b\u0438\u043a\u0438\u0439 was found."
       ]
      },
      {
       "output_type": "stream",
       "stream": "stdout",
       "text": [
        "\n",
        "\u0423\u0441\u0442\u044e\u0436\u043d\u0430 \u0416\u0435\u043b\u0435\u0437\u043e\u043f\u043e\u043b\u044c\u0441\u043a\u0430\u044f was not found."
       ]
      },
      {
       "output_type": "stream",
       "stream": "stdout",
       "text": [
        "\n",
        "\u0423\u0442\u0432\u044b\u043c\u0441\u043a\u0430\u044f was not found."
       ]
      },
      {
       "output_type": "stream",
       "stream": "stdout",
       "text": [
        "\n",
        "\u0423\u0442\u0435\u0448\u0435\u0432 was not found."
       ]
      },
      {
       "output_type": "stream",
       "stream": "stdout",
       "text": [
        "\n",
        "\u0423\u0445\u043e\u043b\u043e\u0432\u043e was not found."
       ]
      },
      {
       "output_type": "stream",
       "stream": "stdout",
       "text": [
        "\n",
        "\u0424\u0430\u0442\u0435\u0436 was found."
       ]
      },
      {
       "output_type": "stream",
       "stream": "stdout",
       "text": [
        "\n",
        "\u0424\u0435\u043b\u043b\u0438\u043d was found."
       ]
      },
      {
       "output_type": "stream",
       "stream": "stdout",
       "text": [
        "\n",
        "\u0424\u043b\u043e\u0440\u0438\u0449\u0435\u0432\u0430 was not found."
       ]
      },
      {
       "output_type": "stream",
       "stream": "stdout",
       "text": [
        "\n",
        "\u0424\u043b\u043e\u0440\u043e\u0432\u043e was not found."
       ]
      },
      {
       "output_type": "stream",
       "stream": "stdout",
       "text": [
        "\n",
        "\u0424\u0440\u0438\u0434\u0440\u0438\u0445\u0441\u0433\u0430\u043c was not found."
       ]
      },
      {
       "output_type": "stream",
       "stream": "stdout",
       "text": [
        "\n",
        "\u0425\u0430\u043b\u0447\u044c was found."
       ]
      },
      {
       "output_type": "stream",
       "stream": "stdout",
       "text": [
        "\n",
        "\u0425\u0430\u0440\u044c\u043a\u043e\u0432 was found."
       ]
      },
      {
       "output_type": "stream",
       "stream": "stdout",
       "text": [
        "\n",
        "\u0425\u0430\u0442\u043e\u043c\u043b\u044c was not found."
       ]
      },
      {
       "output_type": "stream",
       "stream": "stdout",
       "text": [
        "\n",
        "\u0425\u0430\u044f\u0447\u0430 was not found."
       ]
      },
      {
       "output_type": "stream",
       "stream": "stdout",
       "text": [
        "\n",
        "\u0425\u0432\u0430\u043b\u044b\u043d\u0441\u043a was found."
       ]
      },
      {
       "output_type": "stream",
       "stream": "stdout",
       "text": [
        "\n",
        "\u0425\u0435\u0440\u0441\u043e\u043d was found."
       ]
      },
      {
       "output_type": "stream",
       "stream": "stdout",
       "text": [
        "\n",
        "\u0425\u043e\u0432\u0430\u043d\u044c was found."
       ]
      },
      {
       "output_type": "stream",
       "stream": "stdout",
       "text": [
        "\n",
        "\u0425\u043e\u043b\u043c \u0423 \u0421\u043f\u0430\u0441\u0430 was not found."
       ]
      },
      {
       "output_type": "stream",
       "stream": "stdout",
       "text": [
        "\n",
        "\u0425\u043e\u043c\u0443\u0442\u0446\u044b was not found."
       ]
      },
      {
       "output_type": "stream",
       "stream": "stdout",
       "text": [
        "\n",
        "New form: \u0425\u043e\u043f\u0435\u0440"
       ]
      },
      {
       "output_type": "stream",
       "stream": "stdout",
       "text": [
        "\n",
        "\u0425\u043e\u043f\u0435\u0440 was found."
       ]
      },
      {
       "output_type": "stream",
       "stream": "stdout",
       "text": [
        "\n",
        "\u0425\u043e\u0440\u043e\u043b was found."
       ]
      },
      {
       "output_type": "stream",
       "stream": "stdout",
       "text": [
        "\n",
        "\u0425\u043e\u0442\u0435\u043d\u044c was found."
       ]
      },
      {
       "output_type": "stream",
       "stream": "stdout",
       "text": [
        "\n",
        "New form: \u0425\u043e\u0442\u044c\u043c\u044b\u0448"
       ]
      },
      {
       "output_type": "stream",
       "stream": "stdout",
       "text": [
        "\n",
        "\u0425\u043e\u0442\u044c\u043c\u044b\u0448 was not found."
       ]
      },
      {
       "output_type": "stream",
       "stream": "stdout",
       "text": [
        "\n",
        "\u0425\u0440\u0443\u0449\u043e\u0432\u043e was not found."
       ]
      },
      {
       "output_type": "stream",
       "stream": "stdout",
       "text": [
        "\n",
        "\u0426\u0430\u0440\u0435\u0432 \u0411\u043e\u0440\u0438\u0441\u043e\u0432 was not found."
       ]
      },
      {
       "output_type": "stream",
       "stream": "stdout",
       "text": [
        "\n",
        "\u0426\u0430\u0440\u0438\u0447\u0435\u043d\u043a\u0430 was not found."
       ]
      },
      {
       "output_type": "stream",
       "stream": "stdout",
       "text": [
        "\n",
        "\u0426\u0435\u0432\u043b\u044f was not found."
       ]
      },
      {
       "output_type": "stream",
       "stream": "stdout",
       "text": [
        "\n",
        "\u0426\u0443\u0440\u0443\u0445\u0430\u0442\u0430\u0435\u0432\u0441\u043a\u043e\u0439 was not found."
       ]
      },
      {
       "output_type": "stream",
       "stream": "stdout",
       "text": [
        "\n",
        "\u0426\u044b\u0431\u0443\u043b\u0435\u0432 was not found."
       ]
      },
      {
       "output_type": "stream",
       "stream": "stdout",
       "text": [
        "\n",
        "New form: \u0426\u044b\u0432\u0438\u043b\u044c"
       ]
      },
      {
       "output_type": "stream",
       "stream": "stdout",
       "text": [
        "\n",
        "\u0426\u044b\u0432\u0438\u043b\u044c was not found."
       ]
      },
      {
       "output_type": "stream",
       "stream": "stdout",
       "text": [
        "\n",
        "\u0427\u0430\u0441\u043e\u0432\u043d\u044f \u0410\u043f\u043e\u0441\u0442\u043e\u043b\u0430 \u0424\u043e\u043c\u044b was not found."
       ]
      },
      {
       "output_type": "stream",
       "stream": "stdout",
       "text": [
        "\n",
        "\u0427\u0430\u0441\u043e\u0432\u043d\u044f \u0421\u0432 \u0414\u0443\u0445\u0430 was not found."
       ]
      },
      {
       "output_type": "stream",
       "stream": "stdout",
       "text": [
        "\n",
        "\u0427\u0430\u0443\u0441\u044c\u0438 was not found."
       ]
      },
      {
       "output_type": "stream",
       "stream": "stdout",
       "text": [
        "\n",
        "New form: \u0427\u0435\u043b\u044f\u0431\u0438\u043d"
       ]
      },
      {
       "output_type": "stream",
       "stream": "stdout",
       "text": [
        "\n",
        "\u0427\u0435\u043b\u044f\u0431\u0438\u043d was not found."
       ]
      },
      {
       "output_type": "stream",
       "stream": "stdout",
       "text": [
        "\n",
        "\u0427\u0435\u043d\u0431\u0430\u0440 was not found."
       ]
      },
      {
       "output_type": "stream",
       "stream": "stdout",
       "text": [
        "\n",
        "\u0427\u0435\u0440\u0434\u044c\u0438\u043d\u044c was not found."
       ]
      },
      {
       "output_type": "stream",
       "stream": "stdout",
       "text": [
        "\n",
        "\u0427\u0435\u0440\u0435\u043d\u0447\u0438\u0446\u043a\u043e\u0439 was not found."
       ]
      },
      {
       "output_type": "stream",
       "stream": "stdout",
       "text": [
        "\n",
        "\u0427\u0435\u0440\u0435\u043f\u043e\u0432\u0435\u0446 was found."
       ]
      },
      {
       "output_type": "stream",
       "stream": "stdout",
       "text": [
        "\n",
        "\u0427\u0435\u0440\u0438\u043a\u043e\u0432 was found."
       ]
      },
      {
       "output_type": "stream",
       "stream": "stdout",
       "text": [
        "\n",
        "\u0427\u0435\u0440\u043b\u044f\u043d\u043a\u043e\u0432\u043e was not found."
       ]
      },
      {
       "output_type": "stream",
       "stream": "stdout",
       "text": [
        "\n",
        "New form: \u0427\u0435\u0440\u043d\u0430\u0432"
       ]
      },
      {
       "output_type": "stream",
       "stream": "stdout",
       "text": [
        "\n",
        "\u0427\u0435\u0440\u043d\u0430\u0432 was not found."
       ]
      },
      {
       "output_type": "stream",
       "stream": "stdout",
       "text": [
        "\n",
        "\u0427\u0435\u0440\u043d\u0438\u0433\u043e\u0432 was found."
       ]
      },
      {
       "output_type": "stream",
       "stream": "stdout",
       "text": [
        "\n",
        "\u0427\u0435\u0440\u0438\u043e\u043e\u0441\u0442\u0440\u043e\u0436\u0441\u043a\u043e\u0439 \u041d\u0438\u043a\u043e\u043b\u0430\u0435\u0432\u0441\u043a\u043e\u0439 was not found."
       ]
      },
      {
       "output_type": "stream",
       "stream": "stdout",
       "text": [
        "\n",
        "\u0427\u0435\u0440\u043d\u0443\u0445\u0438 was found."
       ]
      },
      {
       "output_type": "stream",
       "stream": "stdout",
       "text": [
        "\n",
        "\u0427\u0435\u0440\u043d\u044c was found."
       ]
      },
      {
       "output_type": "stream",
       "stream": "stdout",
       "text": [
        "\n",
        "\u0427\u0435\u0440\u043d\u0435\u0435\u0432 \u041d\u0438\u043a\u043e\u043b\u0430\u0435\u0432\u0441\u043a\u043e\u0439 was not found."
       ]
      },
      {
       "output_type": "stream",
       "stream": "stdout",
       "text": [
        "\n",
        "\u0427\u0435\u0447\u0435\u0440\u0441\u043a was found."
       ]
      },
      {
       "output_type": "stream",
       "stream": "stdout",
       "text": [
        "\n",
        "\u0427\u0438\u0433\u0438\u0440\u0438\u043d\u044a-\u0414\u0443\u0431\u0440\u043e\u0432\u0430 was not found."
       ]
      },
      {
       "output_type": "stream",
       "stream": "stdout",
       "text": [
        "\n",
        "\u0427\u0443\u0433\u0443\u0435\u0432 was found."
       ]
      },
      {
       "output_type": "stream",
       "stream": "stdout",
       "text": [
        "\n",
        "\u0427\u0443\u043f\u0430\u0445\u043e\u0432\u043a\u0430 was found."
       ]
      },
      {
       "output_type": "stream",
       "stream": "stdout",
       "text": [
        "\n",
        "\u0427\u0443\u0445\u043b\u043e\u043c\u0430 was found."
       ]
      },
      {
       "output_type": "stream",
       "stream": "stdout",
       "text": [
        "\n",
        "\u0428\u0430\u0434\u0440\u0438\u043d\u0441\u043a was found."
       ]
      },
      {
       "output_type": "stream",
       "stream": "stdout",
       "text": [
        "\n",
        "\u0428\u0430\u043c\u043e\u0432\u043e was found."
       ]
      },
      {
       "output_type": "stream",
       "stream": "stdout",
       "text": [
        "\n",
        "\u0428\u0430\u0440\u0430\u043f\u0430\u0432\u043e was not found."
       ]
      },
      {
       "output_type": "stream",
       "stream": "stdout",
       "text": [
        "\n",
        "\u0428\u0430\u0440\u0442\u043e\u043b\u0438\u043d\u0441\u043a\u043e\u0439 \u041d\u0438\u043a\u043e\u043b\u0430\u0435\u0432\u0441\u043a\u043e\u0439 was not found."
       ]
      },
      {
       "output_type": "stream",
       "stream": "stdout",
       "text": [
        "\n",
        "\u0428\u0430\u0442\u0441\u043a was found."
       ]
      },
      {
       "output_type": "stream",
       "stream": "stdout",
       "text": [
        "\n",
        "\u0428\u0435\u0448\u043a\u0435\u0435\u0432 was not found."
       ]
      },
      {
       "output_type": "stream",
       "stream": "stdout",
       "text": [
        "\n",
        "\u0428\u0438\u043f\u0438\u043d\u043e was found."
       ]
      },
      {
       "output_type": "stream",
       "stream": "stdout",
       "text": [
        "\n",
        "\u0428\u0438\u0448\u0430\u043a\u0438 was found."
       ]
      },
      {
       "output_type": "stream",
       "stream": "stdout",
       "text": [
        "\n",
        "\u0428\u043a\u043b\u043e\u0432 was found."
       ]
      },
      {
       "output_type": "stream",
       "stream": "stdout",
       "text": [
        "\n",
        "\u0428\u043e\u043a\u0438\u043d\u043e was found."
       ]
      },
      {
       "output_type": "stream",
       "stream": "stdout",
       "text": [
        "\n",
        "New form: \u0428\u0443\u043b\u0433\u0438\u043d"
       ]
      },
      {
       "output_type": "stream",
       "stream": "stdout",
       "text": [
        "\n",
        "\u0428\u0443\u043b\u0433\u0438\u043d was not found."
       ]
      },
      {
       "output_type": "stream",
       "stream": "stdout",
       "text": [
        "\n",
        "\u0428\u0443\u043c\u044f\u0447\u0438 was found."
       ]
      },
      {
       "output_type": "stream",
       "stream": "stdout",
       "text": [
        "\n",
        "\u0428\u0443\u043d\u0433\u0441\u043a\u043e\u0439 was not found."
       ]
      },
      {
       "output_type": "stream",
       "stream": "stdout",
       "text": [
        "\n",
        "\u0428\u0443\u044f was found."
       ]
      },
      {
       "output_type": "stream",
       "stream": "stdout",
       "text": [
        "\n",
        "\u0429\u0438\u0433\u0440\u044b was found."
       ]
      },
      {
       "output_type": "stream",
       "stream": "stdout",
       "text": [
        "\n",
        "\u042e\u043d\u0430\u043a\u043e\u0432\u043a\u0430 was found."
       ]
      },
      {
       "output_type": "stream",
       "stream": "stdout",
       "text": [
        "\n",
        "\u042e\u0440\u044c\u0435\u0432 \u041f\u043e\u043b\u044c\u0441\u043a\u0438\u0439 was found."
       ]
      },
      {
       "output_type": "stream",
       "stream": "stdout",
       "text": [
        "\n",
        "\u042e\u0440\u044c\u0435\u0432\u0435\u0446 \u041f\u043e\u0432\u043e\u043b\u0433\u0441\u043a\u0438\u0439 was not found."
       ]
      },
      {
       "output_type": "stream",
       "stream": "stdout",
       "text": [
        "\n",
        "\u042f\u0431\u043b\u0443\u043d\u043e\u0432 was not found."
       ]
      },
      {
       "output_type": "stream",
       "stream": "stdout",
       "text": [
        "\n",
        "\u042f\u0433\u043e\u0442\u0438\u043d was found."
       ]
      },
      {
       "output_type": "stream",
       "stream": "stdout",
       "text": [
        "\n",
        "\u042f\u0434\u0440\u0438\u043d was found."
       ]
      },
      {
       "output_type": "stream",
       "stream": "stdout",
       "text": [
        "\n",
        "\u042f\u0437\u044b\u043a\u043e\u0432\u043e was found."
       ]
      },
      {
       "output_type": "stream",
       "stream": "stdout",
       "text": [
        "\n",
        "\u042f\u043c\u043f\u043e\u043b\u044c was found."
       ]
      },
      {
       "output_type": "stream",
       "stream": "stdout",
       "text": [
        "\n",
        "\u042f\u043c\u043f\u043e\u043b\u044c was found."
       ]
      },
      {
       "output_type": "stream",
       "stream": "stdout",
       "text": [
        "\n",
        "\u042f\u043c\u0441\u043a\u0430\u044f was found."
       ]
      },
      {
       "output_type": "stream",
       "stream": "stdout",
       "text": [
        "\n",
        "\u042f\u0440\u0430\u043d\u0441\u043a was found."
       ]
      },
      {
       "output_type": "stream",
       "stream": "stdout",
       "text": [
        "\n",
        "\u042f\u0440\u0435\u043d\u0441\u043a was found."
       ]
      },
      {
       "output_type": "stream",
       "stream": "stdout",
       "text": [
        "\n",
        "\u042f\u0440\u0435\u0441\u043a\u0438 was found."
       ]
      },
      {
       "output_type": "stream",
       "stream": "stdout",
       "text": [
        "\n",
        "\u042f\u0440\u043e\u0441\u043b\u0430\u0432\u043b\u044c was found."
       ]
      },
      {
       "output_type": "stream",
       "stream": "stdout",
       "text": [
        "\n",
        "\u042f\u0448 was not found."
       ]
      },
      {
       "output_type": "stream",
       "stream": "stdout",
       "text": [
        "\n"
       ]
      }
     ],
     "prompt_number": 52
    },
    {
     "cell_type": "code",
     "collapsed": false,
     "input": [
      "problem_prov"
     ],
     "language": "python",
     "metadata": {},
     "outputs": [
      {
       "metadata": {},
       "output_type": "pyout",
       "prompt_number": 53,
       "text": [
        "[]"
       ]
      }
     ],
     "prompt_number": 53
    },
    {
     "cell_type": "code",
     "collapsed": false,
     "input": [
      "geodf = pd.DataFrame(geocoded,columns=['hgr_id','result_placename','searched_placename','admin1','country_name','lat','lng','src_id','country_code','url','src','local_result'])"
     ],
     "language": "python",
     "metadata": {},
     "outputs": [],
     "prompt_number": 54
    },
    {
     "cell_type": "code",
     "collapsed": false,
     "input": [
      "len(geodf)"
     ],
     "language": "python",
     "metadata": {},
     "outputs": [
      {
       "metadata": {},
       "output_type": "pyout",
       "prompt_number": 55,
       "text": [
        "2265"
       ]
      }
     ],
     "prompt_number": 55
    },
    {
     "cell_type": "code",
     "collapsed": false,
     "input": [
      "geodf.to_excel('geocoded.xlsx',encoding='utf-8')"
     ],
     "language": "python",
     "metadata": {},
     "outputs": [
      {
       "output_type": "stream",
       "stream": "stderr",
       "text": [
        "/home/jeremy/anaconda3/lib/python3.4/site-packages/xlsxwriter/worksheet.py:827: UserWarning: Ignoring URL 'http://api.geonames.org/search?type=json&south=60.3600075373&west=27.4506621361&east=58.6121673584&north=70.1894276115&name=%D0%91%D0%BB%D0%B0%D0%B3%D0%BE%D0%B2%D0%B5%D1%89%D0%B5%D0%BD%D1%81%D0%BA%D0%BE%D0%B9+%D0%9F%D1%80%D0%B8%D1%85%D0%BE%D0%B4&username=jaguillette&featureClass=P' > 255 characters since it exceeds Excel's limit for URLS\n",
        "  \"Excel's limit for URLS\" % url)\n",
        "/home/jeremy/anaconda3/lib/python3.4/site-packages/xlsxwriter/worksheet.py:827: UserWarning: Ignoring URL 'http://api.geonames.org/search?type=json&south=52.3247&west=41.8373&east=46.7277&north=54.837&name=%D0%91%D0%BE%D0%B3%D0%BE%D1%80%D0%BE%D0%B4%D0%B8%D1%86%D0%BA%D0%BE%D0%B9+%D0%9A%D0%B0%D0%B7%D0%B0%D0%BD%D1%81%D0%BA%D0%BE%D0%B9&username=jaguillette&featureClass=P' > 255 characters since it exceeds Excel's limit for URLS\n",
        "  \"Excel's limit for URLS\" % url)\n",
        "/home/jeremy/anaconda3/lib/python3.4/site-packages/xlsxwriter/worksheet.py:827: UserWarning: Ignoring URL 'http://api.geonames.org/search?type=json&south=52.8329&west=35.5421&east=39.6827&north=55.0867&name=%D0%92%D0%B5%D0%BD%D0%B5%D0%B2%D1%81%D0%BA%D0%BE%D0%B9+%D0%9D%D0%B8%D0%BA%D0%BE%D0%BB%D0%B0%D0%B5%D0%B2%D1%81%D0%BA%D0%BE%D0%B9&username=jaguillette&featureClass=P' > 255 characters since it exceeds Excel's limit for URLS\n",
        "  \"Excel's limit for URLS\" % url)\n",
        "/home/jeremy/anaconda3/lib/python3.4/site-packages/xlsxwriter/worksheet.py:827: UserWarning: Ignoring URL 'http://api.geonames.org/search?type=json&south=52.3247&west=41.8373&east=46.7277&north=54.837&name=%D0%9A%D0%B0%D0%B7%D0%B0%D0%BD%D1%81%D0%BA%D0%BE%D0%B9+%D0%91%D0%BE%D0%B3%D0%BE%D1%80%D0%BE%D0%B4%D0%B8%D1%86%D0%BA%D0%BE%D0%B9&username=jaguillette&featureClass=P' > 255 characters since it exceeds Excel's limit for URLS\n",
        "  \"Excel's limit for URLS\" % url)\n",
        "/home/jeremy/anaconda3/lib/python3.4/site-packages/xlsxwriter/worksheet.py:827: UserWarning: Ignoring URL 'http://api.geonames.org/search?type=json&south=38.6&west=24.8&east=180&north=78.0&name=%D0%A1%D0%B2%D0%B8%D1%80%D1%81%D0%BA%D0%BE%D0%B9+%D0%90%D0%BB%D0%B5%D0%BA%D1%81%D0%B0%D0%BD%D0%B4%D1%80%D0%BE%D0%B2%D1%81%D0%BA%D0%BE%D0%B9&username=jaguillette&featureClass=P' > 255 characters since it exceeds Excel's limit for URLS\n",
        "  \"Excel's limit for URLS\" % url)\n"
       ]
      },
      {
       "output_type": "stream",
       "stream": "stderr",
       "text": [
        "/home/jeremy/anaconda3/lib/python3.4/site-packages/xlsxwriter/worksheet.py:827: UserWarning: Ignoring URL 'http://api.geonames.org/search?type=json&south=57.25&west=37.83&east=57.25&north=64.08&name=%D0%A2%D0%B5%D0%BF%D0%BB%D0%BE%D0%B3%D0%BE%D1%80%D1%81%D0%BA%D0%B0%D1%8F+%D0%91%D0%BE%D0%B3%D0%BE%D1%80%D0%BE%D0%B4%D0%B8%D1%86%D0%BA%D0%B0%D1%8F&username=jaguillette&featureClass=P' > 255 characters since it exceeds Excel's limit for URLS\n",
        "  \"Excel's limit for URLS\" % url)\n",
        "/home/jeremy/anaconda3/lib/python3.4/site-packages/xlsxwriter/worksheet.py:827: UserWarning: Ignoring URL 'http://api.geonames.org/search?type=json&south=55.1937102573&west=24.1218047142&east=32.1900482178&north=59.0651312501&name=%D0%A7%D0%B0%D1%81%D0%BE%D0%B2%D0%BD%D1%8F+%D0%90%D0%BF%D0%BE%D1%81%D1%82%D0%BE%D0%BB%D0%B0+%D0%A4%D0%BE%D0%BC%D1%8B&username=jaguillette&featureClass=P' > 255 characters since it exceeds Excel's limit for URLS\n",
        "  \"Excel's limit for URLS\" % url)\n",
        "/home/jeremy/anaconda3/lib/python3.4/site-packages/xlsxwriter/worksheet.py:827: UserWarning: Ignoring URL 'http://api.geonames.org/search?type=json&south=53.616667&west=35.85&east=43.85&north=61.616667&name=%D0%A7%D0%B5%D1%80%D0%B8%D0%BE%D0%BE%D1%81%D1%82%D1%80%D0%BE%D0%B6%D1%81%D0%BA%D0%BE%D0%B9+%D0%9D%D0%B8%D0%BA%D0%BE%D0%BB%D0%B0%D0%B5%D0%B2%D1%81%D0%BA%D0%BE%D0%B9&username=jaguillette&featureClass=P' > 255 characters since it exceeds Excel's limit for URLS\n",
        "  \"Excel's limit for URLS\" % url)\n",
        "/home/jeremy/anaconda3/lib/python3.4/site-packages/xlsxwriter/worksheet.py:827: UserWarning: Ignoring URL 'http://api.geonames.org/search?type=json&south=48.716667&west=37.433333&east=45.433333&north=56.716667&name=%D0%A7%D0%B5%D1%80%D0%BD%D0%B5%D0%B5%D0%B2+%D0%9D%D0%B8%D0%BA%D0%BE%D0%BB%D0%B0%D0%B5%D0%B2%D1%81%D0%BA%D0%BE%D0%B9&username=jaguillette&featureClass=P' > 255 characters since it exceeds Excel's limit for URLS\n",
        "  \"Excel's limit for URLS\" % url)\n",
        "/home/jeremy/anaconda3/lib/python3.4/site-packages/xlsxwriter/worksheet.py:827: UserWarning: Ignoring URL 'http://api.geonames.org/search?type=json&south=52.133333&west=36.416667&east=44.416667&north=60.133333&name=%D0%A8%D0%B0%D1%80%D1%82%D0%BE%D0%BB%D0%B8%D0%BD%D1%81%D0%BA%D0%BE%D0%B9+%D0%9D%D0%B8%D0%BA%D0%BE%D0%BB%D0%B0%D0%B5%D0%B2%D1%81%D0%BA%D0%BE%D0%B9&username=jaguillette&featureClass=P' > 255 characters since it exceeds Excel's limit for URLS\n",
        "  \"Excel's limit for URLS\" % url)\n"
       ]
      }
     ],
     "prompt_number": 56
    },
    {
     "cell_type": "code",
     "collapsed": false,
     "input": [
      "nfdf = geodf.ix[geodf.result_placename=='not_found']\n",
      "len(nfdf)"
     ],
     "language": "python",
     "metadata": {},
     "outputs": [
      {
       "metadata": {},
       "output_type": "pyout",
       "prompt_number": 57,
       "text": [
        "318"
       ]
      }
     ],
     "prompt_number": 57
    },
    {
     "cell_type": "code",
     "collapsed": false,
     "input": [
      "f_unique = len(geodf.ix[geodf.result_placename!='not_found'].hgr_id.unique())\n",
      "nf_unique = len(geodf.ix[geodf.result_placename=='not_found'].hgr_id.unique())\n",
      "total = len(geodf.hgr_id.unique())\n",
      "overlap = (nf_unique + f_unique) - total #overlap caused by changing spelling. \n",
      "print(\"{0} found\\n{1} not found\\n{2} total\\n{3:.2%} returned results from geonames\".format(f_unique,nf_unique-overlap,total,f_unique/total))"
     ],
     "language": "python",
     "metadata": {},
     "outputs": [
      {
       "output_type": "stream",
       "stream": "stdout",
       "text": [
        "497 found\n",
        "302 not found\n",
        "799 total\n",
        "62.20% returned results from geonames\n"
       ]
      }
     ],
     "prompt_number": 58
    },
    {
     "cell_type": "code",
     "collapsed": false,
     "input": [
      "finding_counts = geodf.ix[geodf.result_placename!='not_found'].pivot_table(index='hgr_id',values='lat',aggfunc=lambda x: len(x.unique()))\n",
      "fdf = pd.DataFrame(finding_counts)"
     ],
     "language": "python",
     "metadata": {},
     "outputs": [],
     "prompt_number": 59
    },
    {
     "cell_type": "code",
     "collapsed": false,
     "input": [
      "fdf.ix[fdf.lat!=1].describe()"
     ],
     "language": "python",
     "metadata": {},
     "outputs": [
      {
       "html": [
        "<div style=\"max-height:1000px;max-width:1500px;overflow:auto;\">\n",
        "<table border=\"1\" class=\"dataframe\">\n",
        "  <thead>\n",
        "    <tr style=\"text-align: right;\">\n",
        "      <th></th>\n",
        "      <th>lat</th>\n",
        "    </tr>\n",
        "  </thead>\n",
        "  <tbody>\n",
        "    <tr>\n",
        "      <th>count</th>\n",
        "      <td> 233.000000</td>\n",
        "    </tr>\n",
        "    <tr>\n",
        "      <th>mean</th>\n",
        "      <td>   7.201717</td>\n",
        "    </tr>\n",
        "    <tr>\n",
        "      <th>std</th>\n",
        "      <td>  10.643421</td>\n",
        "    </tr>\n",
        "    <tr>\n",
        "      <th>min</th>\n",
        "      <td>   2.000000</td>\n",
        "    </tr>\n",
        "    <tr>\n",
        "      <th>25%</th>\n",
        "      <td>   2.000000</td>\n",
        "    </tr>\n",
        "    <tr>\n",
        "      <th>50%</th>\n",
        "      <td>   3.000000</td>\n",
        "    </tr>\n",
        "    <tr>\n",
        "      <th>75%</th>\n",
        "      <td>   7.000000</td>\n",
        "    </tr>\n",
        "    <tr>\n",
        "      <th>max</th>\n",
        "      <td>  86.000000</td>\n",
        "    </tr>\n",
        "  </tbody>\n",
        "</table>\n",
        "</div>"
       ],
       "metadata": {},
       "output_type": "pyout",
       "prompt_number": 61,
       "text": [
        "              lat\n",
        "count  233.000000\n",
        "mean     7.201717\n",
        "std     10.643421\n",
        "min      2.000000\n",
        "25%      2.000000\n",
        "50%      3.000000\n",
        "75%      7.000000\n",
        "max     86.000000"
       ]
      }
     ],
     "prompt_number": 61
    },
    {
     "cell_type": "code",
     "collapsed": false,
     "input": [
      "too_many = len(fdf.ix[fdf.lat!=1])\n",
      "just_right = len(fdf.ix[fdf.lat==1])\n",
      "no_results = len(geodf.ix[geodf.result_placename=='not_found'].hgr_id.unique())\n",
      "total = len(market_df)\n",
      "print(\"Too many (>1)\\t{0}\\t{1:.2%}\\nJust right\\t{2}\\t{3:.2%}\\nNo results from Geonames\\t{4}\\t{5:.2%}\".format(too_many,too_many/total,just_right,just_right/total,no_results-overlap,(no_results-overlap)/total))"
     ],
     "language": "python",
     "metadata": {},
     "outputs": [
      {
       "output_type": "stream",
       "stream": "stdout",
       "text": [
        "Too many (>1)\t233\t29.16%\n",
        "Just right\t264\t33.04%\n",
        "No results from Geonames\t302\t37.80%\n"
       ]
      }
     ],
     "prompt_number": 62
    },
    {
     "cell_type": "code",
     "collapsed": false,
     "input": [
      "geodf_merged = pd.merge(geodf,market_df,left_on='hgr_id',right_index=True)\n",
      "geodf_merged = geodf_merged[['hgr_id', 'name', 'alt_name', 'partof_id', 'lng', 'lat', '_type', 'source_url', 'text', 'name_modern_sp', 'result_placename','searched_placename', 'admin1', 'country_name', 'src_id', 'country_code', 'url', 'local_result', 'src', 'ru_prov', 'prov_modern_sp', 'prov_stem', 'ru_uezd','uezd_modern_sp','uezd_stem', 'page']]"
     ],
     "language": "python",
     "metadata": {},
     "outputs": [],
     "prompt_number": 64
    },
    {
     "cell_type": "markdown",
     "metadata": {},
     "source": [
      "The following cell gives information that can help improve the precision of the results. The pct column shows how disproportionate the number of responses is to the number of queries, so that problematic namiestnichestva can be dealt with."
     ]
    },
    {
     "cell_type": "code",
     "collapsed": false,
     "input": [
      "prov_precision_1 = pd.DataFrame(geodf_merged.ix[geodf_merged.result_placename != 'not_found'].pivot_table(index='prov_stem',values='hgr_id',aggfunc=lambda x: len(x.unique())))\n",
      "prov_precision_2 = pd.DataFrame(geodf_merged.ix[geodf_merged.result_placename != 'not_found'].pivot_table(index='prov_stem',values='lat',aggfunc=lambda x: len(x.unique())))\n",
      "prov_precision = pd.merge(prov_precision_1,prov_precision_2,left_index=True,right_index=True)\n",
      "prov_precision['pct'] = prov_precision.lat/prov_precision.hgr_id*100\n",
      "prov_precision.sort(columns='pct',ascending=False)"
     ],
     "language": "python",
     "metadata": {},
     "outputs": [
      {
       "html": [
        "<div style=\"max-height:1000px;max-width:1500px;overflow:auto;\">\n",
        "<table border=\"1\" class=\"dataframe\">\n",
        "  <thead>\n",
        "    <tr style=\"text-align: right;\">\n",
        "      <th></th>\n",
        "      <th>hgr_id</th>\n",
        "      <th>lat</th>\n",
        "      <th>pct</th>\n",
        "    </tr>\n",
        "    <tr>\n",
        "      <th>prov_stem</th>\n",
        "      <th></th>\n",
        "      <th></th>\n",
        "      <th></th>\n",
        "    </tr>\n",
        "  </thead>\n",
        "  <tbody>\n",
        "    <tr>\n",
        "      <th>\u043a\u0443\u0440\u0441\u043a</th>\n",
        "      <td> 13</td>\n",
        "      <td> 115</td>\n",
        "      <td> 884.615385</td>\n",
        "    </tr>\n",
        "    <tr>\n",
        "      <th>\u0442\u0432\u0435\u0440\u0441\u043a</th>\n",
        "      <td> 17</td>\n",
        "      <td> 140</td>\n",
        "      <td> 823.529412</td>\n",
        "    </tr>\n",
        "    <tr>\n",
        "      <th>\u043e\u0440\u043b\u043e\u0432\u0441\u043a</th>\n",
        "      <td> 12</td>\n",
        "      <td>  85</td>\n",
        "      <td> 708.333333</td>\n",
        "    </tr>\n",
        "    <tr>\n",
        "      <th>\u0441\u043c\u043e\u043b\u0435\u043d\u0441\u043a</th>\n",
        "      <td>  5</td>\n",
        "      <td>  31</td>\n",
        "      <td> 620.000000</td>\n",
        "    </tr>\n",
        "    <tr>\n",
        "      <th>\u043f\u0435\u043d\u0437\u0435\u043d\u0441\u043a</th>\n",
        "      <td> 11</td>\n",
        "      <td>  63</td>\n",
        "      <td> 572.727273</td>\n",
        "    </tr>\n",
        "    <tr>\n",
        "      <th>\u043f\u0441\u043a\u043e\u0432\u0441\u043a</th>\n",
        "      <td>  6</td>\n",
        "      <td>  33</td>\n",
        "      <td> 550.000000</td>\n",
        "    </tr>\n",
        "    <tr>\n",
        "      <th>\u043a\u043e\u0441\u0442\u0440\u043e\u043c\u0430</th>\n",
        "      <td> 12</td>\n",
        "      <td>  63</td>\n",
        "      <td> 525.000000</td>\n",
        "    </tr>\n",
        "    <tr>\n",
        "      <th>\u043c\u043e\u0441\u043a\u043e\u0432\u0441\u043a</th>\n",
        "      <td> 32</td>\n",
        "      <td> 167</td>\n",
        "      <td> 521.875000</td>\n",
        "    </tr>\n",
        "    <tr>\n",
        "      <th>\u0432\u043e\u0440\u043e\u043d\u0435\u0436\u0441\u043a</th>\n",
        "      <td> 12</td>\n",
        "      <td>  62</td>\n",
        "      <td> 516.666667</td>\n",
        "    </tr>\n",
        "    <tr>\n",
        "      <th>\u0445\u0430\u0440\u044c\u043a\u043e\u0432\u0441\u043a</th>\n",
        "      <td> 30</td>\n",
        "      <td> 154</td>\n",
        "      <td> 513.333333</td>\n",
        "    </tr>\n",
        "    <tr>\n",
        "      <th>\u043d\u043e\u0442_\u0438\u043d_\u0442\u0435x\u0442</th>\n",
        "      <td> 18</td>\n",
        "      <td>  92</td>\n",
        "      <td> 511.111111</td>\n",
        "    </tr>\n",
        "    <tr>\n",
        "      <th>\u044f\u0440\u043e\u0441\u043b\u0430\u0432\u0441\u043a</th>\n",
        "      <td> 15</td>\n",
        "      <td>  74</td>\n",
        "      <td> 493.333333</td>\n",
        "    </tr>\n",
        "    <tr>\n",
        "      <th>\u0432\u043e\u043b\u043e\u0433\u043e\u0434\u0441\u043a</th>\n",
        "      <td> 13</td>\n",
        "      <td>  64</td>\n",
        "      <td> 492.307692</td>\n",
        "    </tr>\n",
        "    <tr>\n",
        "      <th>\u043a\u0430\u0437\u0430\u043d\u0441\u043a</th>\n",
        "      <td>  3</td>\n",
        "      <td>  12</td>\n",
        "      <td> 400.000000</td>\n",
        "    </tr>\n",
        "    <tr>\n",
        "      <th>\u0432\u043b\u0430\u0434\u0438\u043c\u0435\u0440\u0441\u043a</th>\n",
        "      <td> 14</td>\n",
        "      <td>  54</td>\n",
        "      <td> 385.714286</td>\n",
        "    </tr>\n",
        "    <tr>\n",
        "      <th>\u043d\u0438\u0436\u0435\u0433\u043e\u0440\u043e\u0434\u0441\u043a</th>\n",
        "      <td> 10</td>\n",
        "      <td>  38</td>\n",
        "      <td> 380.000000</td>\n",
        "    </tr>\n",
        "    <tr>\n",
        "      <th>\u0447\u0435\u0440\u043d\u0438\u0433\u043e\u0432\u0441\u043a</th>\n",
        "      <td> 25</td>\n",
        "      <td>  93</td>\n",
        "      <td> 372.000000</td>\n",
        "    </tr>\n",
        "    <tr>\n",
        "      <th>\u043f\u043e\u043b\u043e\u0442\u0441\u043a</th>\n",
        "      <td> 13</td>\n",
        "      <td>  46</td>\n",
        "      <td> 353.846154</td>\n",
        "    </tr>\n",
        "    <tr>\n",
        "      <th>\u0442\u0430\u043c\u0431\u043e\u0432\u0441\u043a</th>\n",
        "      <td> 25</td>\n",
        "      <td>  80</td>\n",
        "      <td> 320.000000</td>\n",
        "    </tr>\n",
        "    <tr>\n",
        "      <th>\u043c\u043e\u0433\u0438\u043b\u0435\u0432\u0441\u043a</th>\n",
        "      <td> 26</td>\n",
        "      <td>  83</td>\n",
        "      <td> 319.230769</td>\n",
        "    </tr>\n",
        "    <tr>\n",
        "      <th>\u043d\u043e\u0432\u043e\u0433\u043e\u0440\u043e\u0434\u0441\u043a</th>\n",
        "      <td>  7</td>\n",
        "      <td>  21</td>\n",
        "      <td> 300.000000</td>\n",
        "    </tr>\n",
        "    <tr>\n",
        "      <th>\u043f\u0435\u0440\u043c</th>\n",
        "      <td>  1</td>\n",
        "      <td>   3</td>\n",
        "      <td> 300.000000</td>\n",
        "    </tr>\n",
        "    <tr>\n",
        "      <th>\u0442\u0443\u043b\u044c\u0441\u043a</th>\n",
        "      <td> 26</td>\n",
        "      <td>  73</td>\n",
        "      <td> 280.769231</td>\n",
        "    </tr>\n",
        "    <tr>\n",
        "      <th>\u0441 \u043f\u0435\u0442\u0435\u0440\u0431\u0443\u0440\u0433\u0441\u043a</th>\n",
        "      <td>  2</td>\n",
        "      <td>   5</td>\n",
        "      <td> 250.000000</td>\n",
        "    </tr>\n",
        "    <tr>\n",
        "      <th>\u0435\u043a\u0430\u0442\u0435\u0440\u0438\u043d\u043e\u0441\u043b\u0430\u0432\u0441\u043a</th>\n",
        "      <td> 15</td>\n",
        "      <td>  35</td>\n",
        "      <td> 233.333333</td>\n",
        "    </tr>\n",
        "    <tr>\n",
        "      <th>\u043a\u0430\u043b\u0443\u0436\u0441\u043a</th>\n",
        "      <td> 14</td>\n",
        "      <td>  32</td>\n",
        "      <td> 228.571429</td>\n",
        "    </tr>\n",
        "    <tr>\n",
        "      <th>\u0441\u0438\u043d\u0431\u0438\u0440\u0441\u043a</th>\n",
        "      <td> 11</td>\n",
        "      <td>  25</td>\n",
        "      <td> 227.272727</td>\n",
        "    </tr>\n",
        "    <tr>\n",
        "      <th>\u043d\u043e\u0432\u043e\u0433\u043e\u0440\u043e\u0434\u0441\u043a\u043e\u0433\u043e - \u0441\u0435\u0432\u0435\u0440\u0441\u043a</th>\n",
        "      <td> 13</td>\n",
        "      <td>  28</td>\n",
        "      <td> 215.384615</td>\n",
        "    </tr>\n",
        "    <tr>\n",
        "      <th>\u0447\u0435\u0440\u043d\u0438\u0433</th>\n",
        "      <td>  1</td>\n",
        "      <td>   2</td>\n",
        "      <td> 200.000000</td>\n",
        "    </tr>\n",
        "    <tr>\n",
        "      <th>\u0440\u044f\u0437\u0430\u043d</th>\n",
        "      <td>  1</td>\n",
        "      <td>   2</td>\n",
        "      <td> 200.000000</td>\n",
        "    </tr>\n",
        "    <tr>\n",
        "      <th>\u043f\u0435\u0440\u043c\u0441\u043a</th>\n",
        "      <td>  4</td>\n",
        "      <td>   8</td>\n",
        "      <td> 200.000000</td>\n",
        "    </tr>\n",
        "    <tr>\n",
        "      <th>\u043f\u0441\u043a\u043e\u0432</th>\n",
        "      <td>  1</td>\n",
        "      <td>   2</td>\n",
        "      <td> 200.000000</td>\n",
        "    </tr>\n",
        "    <tr>\n",
        "      <th>\u043f\u0435\u043d\u0437</th>\n",
        "      <td>  1</td>\n",
        "      <td>   2</td>\n",
        "      <td> 200.000000</td>\n",
        "    </tr>\n",
        "    <tr>\n",
        "      <th>\u0432\u044f\u0442\u0441\u043a</th>\n",
        "      <td>  3</td>\n",
        "      <td>   6</td>\n",
        "      <td> 200.000000</td>\n",
        "    </tr>\n",
        "    <tr>\n",
        "      <th>\u0440\u0438\u0433</th>\n",
        "      <td>  1</td>\n",
        "      <td>   2</td>\n",
        "      <td> 200.000000</td>\n",
        "    </tr>\n",
        "    <tr>\n",
        "      <th>\u0440\u044f\u0437\u0430\u043d\u0441\u043a</th>\n",
        "      <td> 12</td>\n",
        "      <td>  23</td>\n",
        "      <td> 191.666667</td>\n",
        "    </tr>\n",
        "    <tr>\n",
        "      <th>\u043a\u0438\u0435\u0432\u0441\u043a</th>\n",
        "      <td> 34</td>\n",
        "      <td>  58</td>\n",
        "      <td> 170.588235</td>\n",
        "    </tr>\n",
        "    <tr>\n",
        "      <th>\u0438\u0440\u043a\u0443\u0442\u0441\u043a</th>\n",
        "      <td>  7</td>\n",
        "      <td>  11</td>\n",
        "      <td> 157.142857</td>\n",
        "    </tr>\n",
        "    <tr>\n",
        "      <th>\u043e\u043b\u043e\u043d\u0435\u0446\u043a</th>\n",
        "      <td>  2</td>\n",
        "      <td>   3</td>\n",
        "      <td> 150.000000</td>\n",
        "    </tr>\n",
        "    <tr>\n",
        "      <th>\u0443\u0444\u0438\u043c\u0441\u043a</th>\n",
        "      <td>  2</td>\n",
        "      <td>   3</td>\n",
        "      <td> 150.000000</td>\n",
        "    </tr>\n",
        "    <tr>\n",
        "      <th>\u0441\u0430\u0440\u0430\u0442\u043e\u0432\u0441\u043a</th>\n",
        "      <td>  9</td>\n",
        "      <td>  11</td>\n",
        "      <td> 122.222222</td>\n",
        "    </tr>\n",
        "    <tr>\n",
        "      <th>\u0440\u0438\u0436\u0441\u043a</th>\n",
        "      <td>  4</td>\n",
        "      <td>   4</td>\n",
        "      <td> 100.000000</td>\n",
        "    </tr>\n",
        "    <tr>\n",
        "      <th>\u043a\u0430\u0432\u043a\u0430\u0437\u0441\u043a</th>\n",
        "      <td>  2</td>\n",
        "      <td>   2</td>\n",
        "      <td> 100.000000</td>\n",
        "    </tr>\n",
        "    <tr>\n",
        "      <th>\u0432\u044b\u0431\u043e\u0440\u0433</th>\n",
        "      <td>  2</td>\n",
        "      <td>   2</td>\n",
        "      <td> 100.000000</td>\n",
        "    </tr>\n",
        "    <tr>\n",
        "      <th>\u0442\u0443\u043b\u044c\u0441\u043a\u0430\u0433</th>\n",
        "      <td>  1</td>\n",
        "      <td>   1</td>\n",
        "      <td> 100.000000</td>\n",
        "    </tr>\n",
        "    <tr>\n",
        "      <th>\u0442\u0432\u0435\u0440</th>\n",
        "      <td>  1</td>\n",
        "      <td>   1</td>\n",
        "      <td> 100.000000</td>\n",
        "    </tr>\n",
        "    <tr>\n",
        "      <th>\u0442\u0443\u043b</th>\n",
        "      <td>  1</td>\n",
        "      <td>   1</td>\n",
        "      <td> 100.000000</td>\n",
        "    </tr>\n",
        "    <tr>\n",
        "      <th>\u0442\u043e\u0431\u043e\u043b\u044c\u0441\u043a</th>\n",
        "      <td>  2</td>\n",
        "      <td>   2</td>\n",
        "      <td> 100.000000</td>\n",
        "    </tr>\n",
        "    <tr>\n",
        "      <th>\u043e\u043b\u043e\u043d\u0435\u0446</th>\n",
        "      <td>  1</td>\n",
        "      <td>   1</td>\n",
        "      <td> 100.000000</td>\n",
        "    </tr>\n",
        "    <tr>\n",
        "      <th>\u0442\u0430\u043c\u0431</th>\n",
        "      <td>  1</td>\n",
        "      <td>   1</td>\n",
        "      <td> 100.000000</td>\n",
        "    </tr>\n",
        "    <tr>\n",
        "      <th>\u0441\u0430\u0440\u0430\u0442</th>\n",
        "      <td>  1</td>\n",
        "      <td>   1</td>\n",
        "      <td> 100.000000</td>\n",
        "    </tr>\n",
        "    <tr>\n",
        "      <th>\u0430\u0440\u0445\u0430\u043d\u0433\u0435\u043b\u044c\u0441\u043a</th>\n",
        "      <td>  2</td>\n",
        "      <td>   2</td>\n",
        "      <td> 100.000000</td>\n",
        "    </tr>\n",
        "  </tbody>\n",
        "</table>\n",
        "</div>"
       ],
       "metadata": {},
       "output_type": "pyout",
       "prompt_number": 65,
       "text": [
        "                          hgr_id  lat         pct\n",
        "prov_stem                                        \n",
        "\u043a\u0443\u0440\u0441\u043a                         13  115  884.615385\n",
        "\u0442\u0432\u0435\u0440\u0441\u043a                        17  140  823.529412\n",
        "\u043e\u0440\u043b\u043e\u0432\u0441\u043a                       12   85  708.333333\n",
        "\u0441\u043c\u043e\u043b\u0435\u043d\u0441\u043a                       5   31  620.000000\n",
        "\u043f\u0435\u043d\u0437\u0435\u043d\u0441\u043a                      11   63  572.727273\n",
        "\u043f\u0441\u043a\u043e\u0432\u0441\u043a                        6   33  550.000000\n",
        "\u043a\u043e\u0441\u0442\u0440\u043e\u043c\u0430                      12   63  525.000000\n",
        "\u043c\u043e\u0441\u043a\u043e\u0432\u0441\u043a                      32  167  521.875000\n",
        "\u0432\u043e\u0440\u043e\u043d\u0435\u0436\u0441\u043a                     12   62  516.666667\n",
        "\u0445\u0430\u0440\u044c\u043a\u043e\u0432\u0441\u043a                     30  154  513.333333\n",
        "\u043d\u043e\u0442_\u0438\u043d_\u0442\u0435x\u0442                   18   92  511.111111\n",
        "\u044f\u0440\u043e\u0441\u043b\u0430\u0432\u0441\u043a                     15   74  493.333333\n",
        "\u0432\u043e\u043b\u043e\u0433\u043e\u0434\u0441\u043a                     13   64  492.307692\n",
        "\u043a\u0430\u0437\u0430\u043d\u0441\u043a                        3   12  400.000000\n",
        "\u0432\u043b\u0430\u0434\u0438\u043c\u0435\u0440\u0441\u043a                    14   54  385.714286\n",
        "\u043d\u0438\u0436\u0435\u0433\u043e\u0440\u043e\u0434\u0441\u043a                   10   38  380.000000\n",
        "\u0447\u0435\u0440\u043d\u0438\u0433\u043e\u0432\u0441\u043a                    25   93  372.000000\n",
        "\u043f\u043e\u043b\u043e\u0442\u0441\u043a                       13   46  353.846154\n",
        "\u0442\u0430\u043c\u0431\u043e\u0432\u0441\u043a                      25   80  320.000000\n",
        "\u043c\u043e\u0433\u0438\u043b\u0435\u0432\u0441\u043a                     26   83  319.230769\n",
        "\u043d\u043e\u0432\u043e\u0433\u043e\u0440\u043e\u0434\u0441\u043a                    7   21  300.000000\n",
        "\u043f\u0435\u0440\u043c                           1    3  300.000000\n",
        "\u0442\u0443\u043b\u044c\u0441\u043a                        26   73  280.769231\n",
        "\u0441 \u043f\u0435\u0442\u0435\u0440\u0431\u0443\u0440\u0433\u0441\u043a                  2    5  250.000000\n",
        "\u0435\u043a\u0430\u0442\u0435\u0440\u0438\u043d\u043e\u0441\u043b\u0430\u0432\u0441\u043a               15   35  233.333333\n",
        "\u043a\u0430\u043b\u0443\u0436\u0441\u043a                       14   32  228.571429\n",
        "\u0441\u0438\u043d\u0431\u0438\u0440\u0441\u043a                      11   25  227.272727\n",
        "\u043d\u043e\u0432\u043e\u0433\u043e\u0440\u043e\u0434\u0441\u043a\u043e\u0433\u043e - \u0441\u0435\u0432\u0435\u0440\u0441\u043a      13   28  215.384615\n",
        "\u0447\u0435\u0440\u043d\u0438\u0433                         1    2  200.000000\n",
        "\u0440\u044f\u0437\u0430\u043d                          1    2  200.000000\n",
        "\u043f\u0435\u0440\u043c\u0441\u043a                         4    8  200.000000\n",
        "\u043f\u0441\u043a\u043e\u0432                          1    2  200.000000\n",
        "\u043f\u0435\u043d\u0437                           1    2  200.000000\n",
        "\u0432\u044f\u0442\u0441\u043a                          3    6  200.000000\n",
        "\u0440\u0438\u0433                            1    2  200.000000\n",
        "\u0440\u044f\u0437\u0430\u043d\u0441\u043a                       12   23  191.666667\n",
        "\u043a\u0438\u0435\u0432\u0441\u043a                        34   58  170.588235\n",
        "\u0438\u0440\u043a\u0443\u0442\u0441\u043a                        7   11  157.142857\n",
        "\u043e\u043b\u043e\u043d\u0435\u0446\u043a                        2    3  150.000000\n",
        "\u0443\u0444\u0438\u043c\u0441\u043a                         2    3  150.000000\n",
        "\u0441\u0430\u0440\u0430\u0442\u043e\u0432\u0441\u043a                      9   11  122.222222\n",
        "\u0440\u0438\u0436\u0441\u043a                          4    4  100.000000\n",
        "\u043a\u0430\u0432\u043a\u0430\u0437\u0441\u043a                       2    2  100.000000\n",
        "\u0432\u044b\u0431\u043e\u0440\u0433                         2    2  100.000000\n",
        "\u0442\u0443\u043b\u044c\u0441\u043a\u0430\u0433                       1    1  100.000000\n",
        "\u0442\u0432\u0435\u0440                           1    1  100.000000\n",
        "\u0442\u0443\u043b                            1    1  100.000000\n",
        "\u0442\u043e\u0431\u043e\u043b\u044c\u0441\u043a                       2    2  100.000000\n",
        "\u043e\u043b\u043e\u043d\u0435\u0446                         1    1  100.000000\n",
        "\u0442\u0430\u043c\u0431                           1    1  100.000000\n",
        "\u0441\u0430\u0440\u0430\u0442                          1    1  100.000000\n",
        "\u0430\u0440\u0445\u0430\u043d\u0433\u0435\u043b\u044c\u0441\u043a                    2    2  100.000000"
       ]
      }
     ],
     "prompt_number": 65
    },
    {
     "cell_type": "markdown",
     "metadata": {},
     "source": [
      "The following dataframe view shows the percent of place names for a given namiestnichestva which returned no results when sent to geonames."
     ]
    },
    {
     "cell_type": "code",
     "collapsed": false,
     "input": [
      "prov_recall_1 = pd.DataFrame(geodf_merged.pivot_table(index='prov_stem',values='hgr_id',aggfunc=lambda x: len(x.unique())))\n",
      "prov_recall_2 = pd.DataFrame(geodf_merged.ix[geodf_merged.result_placename == 'not_found'].pivot_table(index='prov_stem',values='hgr_id',aggfunc=lambda x: len(x.unique())))\n",
      "prov_recall = pd.merge(prov_recall_1,prov_recall_2,left_index=True,right_index=True)\n",
      "prov_recall['pct'] = prov_recall.hgr_id_y/prov_recall.hgr_id_x*100\n",
      "prov_recall.sort(columns='pct',ascending=False)"
     ],
     "language": "python",
     "metadata": {},
     "outputs": [
      {
       "html": [
        "<div style=\"max-height:1000px;max-width:1500px;overflow:auto;\">\n",
        "<table border=\"1\" class=\"dataframe\">\n",
        "  <thead>\n",
        "    <tr style=\"text-align: right;\">\n",
        "      <th></th>\n",
        "      <th>hgr_id_x</th>\n",
        "      <th>hgr_id_y</th>\n",
        "      <th>pct</th>\n",
        "    </tr>\n",
        "    <tr>\n",
        "      <th>prov_stem</th>\n",
        "      <th></th>\n",
        "      <th></th>\n",
        "      <th></th>\n",
        "    </tr>\n",
        "  </thead>\n",
        "  <tbody>\n",
        "    <tr>\n",
        "      <th>\u043d\u043e\u0432\u0433\u043e\u0440\u043e\u0434\u0441\u043a</th>\n",
        "      <td>  1</td>\n",
        "      <td>  1</td>\n",
        "      <td> 100.000000</td>\n",
        "    </tr>\n",
        "    <tr>\n",
        "      <th>\u0440\u0435\u0432\u0435\u043b\u044c\u0441\u043a</th>\n",
        "      <td>  1</td>\n",
        "      <td>  1</td>\n",
        "      <td> 100.000000</td>\n",
        "    </tr>\n",
        "    <tr>\n",
        "      <th>\u0443\u0444\u0438\u043c\u0441\u043a</th>\n",
        "      <td>  8</td>\n",
        "      <td>  6</td>\n",
        "      <td>  75.000000</td>\n",
        "    </tr>\n",
        "    <tr>\n",
        "      <th>\u043f\u0441\u043a\u043e\u0432\u0441\u043a</th>\n",
        "      <td> 20</td>\n",
        "      <td> 14</td>\n",
        "      <td>  70.000000</td>\n",
        "    </tr>\n",
        "    <tr>\n",
        "      <th>\u0432\u044b\u0431\u043e\u0440\u0433</th>\n",
        "      <td>  6</td>\n",
        "      <td>  4</td>\n",
        "      <td>  66.666667</td>\n",
        "    </tr>\n",
        "    <tr>\n",
        "      <th>\u0442\u043e\u0431\u043e\u043b\u044c\u0441\u043a</th>\n",
        "      <td>  6</td>\n",
        "      <td>  4</td>\n",
        "      <td>  66.666667</td>\n",
        "    </tr>\n",
        "    <tr>\n",
        "      <th>\u0435\u043a\u0430\u0442\u0435\u0440\u0438\u043d\u043e\u0441\u043b\u0430\u0432\u0441\u043a</th>\n",
        "      <td> 43</td>\n",
        "      <td> 28</td>\n",
        "      <td>  65.116279</td>\n",
        "    </tr>\n",
        "    <tr>\n",
        "      <th>\u043f\u043e\u043b\u043e\u0442\u0441\u043a</th>\n",
        "      <td> 31</td>\n",
        "      <td> 18</td>\n",
        "      <td>  58.064516</td>\n",
        "    </tr>\n",
        "    <tr>\n",
        "      <th>\u043a\u0430\u0437\u0430\u043d\u0441\u043a</th>\n",
        "      <td>  7</td>\n",
        "      <td>  4</td>\n",
        "      <td>  57.142857</td>\n",
        "    </tr>\n",
        "    <tr>\n",
        "      <th>\u0432\u043e\u043b\u043e\u0433\u043e\u0434\u0441\u043a</th>\n",
        "      <td> 27</td>\n",
        "      <td> 14</td>\n",
        "      <td>  51.851852</td>\n",
        "    </tr>\n",
        "    <tr>\n",
        "      <th>\u043d\u043e\u0442_\u0438\u043d_\u0442\u0435x\u0442</th>\n",
        "      <td> 37</td>\n",
        "      <td> 19</td>\n",
        "      <td>  51.351351</td>\n",
        "    </tr>\n",
        "    <tr>\n",
        "      <th>\u0430\u0440\u0445\u0430\u043d\u0433\u0435\u043b\u044c\u0441\u043a</th>\n",
        "      <td>  4</td>\n",
        "      <td>  2</td>\n",
        "      <td>  50.000000</td>\n",
        "    </tr>\n",
        "    <tr>\n",
        "      <th>\u043f\u0435\u0440\u043c\u0441\u043a</th>\n",
        "      <td>  8</td>\n",
        "      <td>  4</td>\n",
        "      <td>  50.000000</td>\n",
        "    </tr>\n",
        "    <tr>\n",
        "      <th>\u043e\u043b\u043e\u043d\u0435\u0446\u043a</th>\n",
        "      <td>  4</td>\n",
        "      <td>  2</td>\n",
        "      <td>  50.000000</td>\n",
        "    </tr>\n",
        "    <tr>\n",
        "      <th>\u043d\u043e\u0432\u043e\u0433\u043e\u0440\u043e\u0434\u0441\u043a</th>\n",
        "      <td> 13</td>\n",
        "      <td>  6</td>\n",
        "      <td>  46.153846</td>\n",
        "    </tr>\n",
        "    <tr>\n",
        "      <th>\u043f\u0435\u043d\u0437\u0435\u043d\u0441\u043a</th>\n",
        "      <td> 20</td>\n",
        "      <td>  9</td>\n",
        "      <td>  45.000000</td>\n",
        "    </tr>\n",
        "    <tr>\n",
        "      <th>\u044f\u0440\u043e\u0441\u043b\u0430\u0432\u0441\u043a</th>\n",
        "      <td> 27</td>\n",
        "      <td> 12</td>\n",
        "      <td>  44.444444</td>\n",
        "    </tr>\n",
        "    <tr>\n",
        "      <th>\u043a\u043e\u0441\u0442\u0440\u043e\u043c\u0430</th>\n",
        "      <td> 21</td>\n",
        "      <td>  9</td>\n",
        "      <td>  42.857143</td>\n",
        "    </tr>\n",
        "    <tr>\n",
        "      <th>\u0440\u044f\u0437\u0430\u043d\u0441\u043a</th>\n",
        "      <td> 19</td>\n",
        "      <td>  7</td>\n",
        "      <td>  36.842105</td>\n",
        "    </tr>\n",
        "    <tr>\n",
        "      <th>\u0438\u0440\u043a\u0443\u0442\u0441\u043a</th>\n",
        "      <td> 11</td>\n",
        "      <td>  4</td>\n",
        "      <td>  36.363636</td>\n",
        "    </tr>\n",
        "    <tr>\n",
        "      <th>\u0432\u043b\u0430\u0434\u0438\u043c\u0435\u0440\u0441\u043a</th>\n",
        "      <td> 22</td>\n",
        "      <td>  8</td>\n",
        "      <td>  36.363636</td>\n",
        "    </tr>\n",
        "    <tr>\n",
        "      <th>\u043a\u0438\u0435\u0432\u0441\u043a</th>\n",
        "      <td> 52</td>\n",
        "      <td> 18</td>\n",
        "      <td>  34.615385</td>\n",
        "    </tr>\n",
        "    <tr>\n",
        "      <th>\u0440\u0438\u0436\u0441\u043a</th>\n",
        "      <td>  6</td>\n",
        "      <td>  2</td>\n",
        "      <td>  33.333333</td>\n",
        "    </tr>\n",
        "    <tr>\n",
        "      <th>\u043e\u0440\u043b\u043e\u0432\u0441\u043a</th>\n",
        "      <td> 18</td>\n",
        "      <td>  6</td>\n",
        "      <td>  33.333333</td>\n",
        "    </tr>\n",
        "    <tr>\n",
        "      <th>\u0442\u0432\u0435\u0440\u0441\u043a</th>\n",
        "      <td> 25</td>\n",
        "      <td>  8</td>\n",
        "      <td>  32.000000</td>\n",
        "    </tr>\n",
        "    <tr>\n",
        "      <th>\u0441\u0438\u043d\u0431\u0438\u0440\u0441\u043a</th>\n",
        "      <td> 16</td>\n",
        "      <td>  5</td>\n",
        "      <td>  31.250000</td>\n",
        "    </tr>\n",
        "    <tr>\n",
        "      <th>\u043a\u0430\u043b\u0443\u0436\u0441\u043a</th>\n",
        "      <td> 20</td>\n",
        "      <td>  6</td>\n",
        "      <td>  30.000000</td>\n",
        "    </tr>\n",
        "    <tr>\n",
        "      <th>\u043c\u043e\u0433\u0438\u043b\u0435\u0432\u0441\u043a</th>\n",
        "      <td> 37</td>\n",
        "      <td> 11</td>\n",
        "      <td>  29.729730</td>\n",
        "    </tr>\n",
        "    <tr>\n",
        "      <th>\u0442\u0443\u043b\u044c\u0441\u043a</th>\n",
        "      <td> 37</td>\n",
        "      <td> 11</td>\n",
        "      <td>  29.729730</td>\n",
        "    </tr>\n",
        "    <tr>\n",
        "      <th>\u0447\u0435\u0440\u043d\u0438\u0433\u043e\u0432\u0441\u043a</th>\n",
        "      <td> 35</td>\n",
        "      <td> 10</td>\n",
        "      <td>  28.571429</td>\n",
        "    </tr>\n",
        "    <tr>\n",
        "      <th>\u0445\u0430\u0440\u044c\u043a\u043e\u0432\u0441\u043a</th>\n",
        "      <td> 42</td>\n",
        "      <td> 12</td>\n",
        "      <td>  28.571429</td>\n",
        "    </tr>\n",
        "    <tr>\n",
        "      <th>\u0441\u043c\u043e\u043b\u0435\u043d\u0441\u043a</th>\n",
        "      <td>  7</td>\n",
        "      <td>  2</td>\n",
        "      <td>  28.571429</td>\n",
        "    </tr>\n",
        "    <tr>\n",
        "      <th>\u043a\u0443\u0440\u0441\u043a</th>\n",
        "      <td> 18</td>\n",
        "      <td>  5</td>\n",
        "      <td>  27.777778</td>\n",
        "    </tr>\n",
        "    <tr>\n",
        "      <th>\u043c\u043e\u0441\u043a\u043e\u0432\u0441\u043a</th>\n",
        "      <td> 44</td>\n",
        "      <td> 12</td>\n",
        "      <td>  27.272727</td>\n",
        "    </tr>\n",
        "    <tr>\n",
        "      <th>\u0432\u044f\u0442\u0441\u043a</th>\n",
        "      <td>  4</td>\n",
        "      <td>  1</td>\n",
        "      <td>  25.000000</td>\n",
        "    </tr>\n",
        "    <tr>\n",
        "      <th>\u0442\u0430\u043c\u0431\u043e\u0432\u0441\u043a</th>\n",
        "      <td> 33</td>\n",
        "      <td>  8</td>\n",
        "      <td>  24.242424</td>\n",
        "    </tr>\n",
        "    <tr>\n",
        "      <th>\u043d\u0438\u0436\u0435\u0433\u043e\u0440\u043e\u0434\u0441\u043a</th>\n",
        "      <td> 13</td>\n",
        "      <td>  3</td>\n",
        "      <td>  23.076923</td>\n",
        "    </tr>\n",
        "    <tr>\n",
        "      <th>\u0432\u043e\u0440\u043e\u043d\u0435\u0436\u0441\u043a</th>\n",
        "      <td> 15</td>\n",
        "      <td>  3</td>\n",
        "      <td>  20.000000</td>\n",
        "    </tr>\n",
        "    <tr>\n",
        "      <th>\u043d\u043e\u0432\u043e\u0433\u043e\u0440\u043e\u0434\u0441\u043a\u043e\u0433\u043e - \u0441\u0435\u0432\u0435\u0440\u0441\u043a</th>\n",
        "      <td> 16</td>\n",
        "      <td>  3</td>\n",
        "      <td>  18.750000</td>\n",
        "    </tr>\n",
        "    <tr>\n",
        "      <th>\u0441\u0430\u0440\u0430\u0442\u043e\u0432\u0441\u043a</th>\n",
        "      <td>  9</td>\n",
        "      <td>  1</td>\n",
        "      <td>  11.111111</td>\n",
        "    </tr>\n",
        "  </tbody>\n",
        "</table>\n",
        "</div>"
       ],
       "metadata": {},
       "output_type": "pyout",
       "prompt_number": 66,
       "text": [
        "                          hgr_id_x  hgr_id_y         pct\n",
        "prov_stem                                               \n",
        "\u043d\u043e\u0432\u0433\u043e\u0440\u043e\u0434\u0441\u043a                       1         1  100.000000\n",
        "\u0440\u0435\u0432\u0435\u043b\u044c\u0441\u043a                         1         1  100.000000\n",
        "\u0443\u0444\u0438\u043c\u0441\u043a                           8         6   75.000000\n",
        "\u043f\u0441\u043a\u043e\u0432\u0441\u043a                         20        14   70.000000\n",
        "\u0432\u044b\u0431\u043e\u0440\u0433                           6         4   66.666667\n",
        "\u0442\u043e\u0431\u043e\u043b\u044c\u0441\u043a                         6         4   66.666667\n",
        "\u0435\u043a\u0430\u0442\u0435\u0440\u0438\u043d\u043e\u0441\u043b\u0430\u0432\u0441\u043a                 43        28   65.116279\n",
        "\u043f\u043e\u043b\u043e\u0442\u0441\u043a                         31        18   58.064516\n",
        "\u043a\u0430\u0437\u0430\u043d\u0441\u043a                          7         4   57.142857\n",
        "\u0432\u043e\u043b\u043e\u0433\u043e\u0434\u0441\u043a                       27        14   51.851852\n",
        "\u043d\u043e\u0442_\u0438\u043d_\u0442\u0435x\u0442                     37        19   51.351351\n",
        "\u0430\u0440\u0445\u0430\u043d\u0433\u0435\u043b\u044c\u0441\u043a                      4         2   50.000000\n",
        "\u043f\u0435\u0440\u043c\u0441\u043a                           8         4   50.000000\n",
        "\u043e\u043b\u043e\u043d\u0435\u0446\u043a                          4         2   50.000000\n",
        "\u043d\u043e\u0432\u043e\u0433\u043e\u0440\u043e\u0434\u0441\u043a                     13         6   46.153846\n",
        "\u043f\u0435\u043d\u0437\u0435\u043d\u0441\u043a                        20         9   45.000000\n",
        "\u044f\u0440\u043e\u0441\u043b\u0430\u0432\u0441\u043a                       27        12   44.444444\n",
        "\u043a\u043e\u0441\u0442\u0440\u043e\u043c\u0430                        21         9   42.857143\n",
        "\u0440\u044f\u0437\u0430\u043d\u0441\u043a                         19         7   36.842105\n",
        "\u0438\u0440\u043a\u0443\u0442\u0441\u043a                         11         4   36.363636\n",
        "\u0432\u043b\u0430\u0434\u0438\u043c\u0435\u0440\u0441\u043a                      22         8   36.363636\n",
        "\u043a\u0438\u0435\u0432\u0441\u043a                          52        18   34.615385\n",
        "\u0440\u0438\u0436\u0441\u043a                            6         2   33.333333\n",
        "\u043e\u0440\u043b\u043e\u0432\u0441\u043a                         18         6   33.333333\n",
        "\u0442\u0432\u0435\u0440\u0441\u043a                          25         8   32.000000\n",
        "\u0441\u0438\u043d\u0431\u0438\u0440\u0441\u043a                        16         5   31.250000\n",
        "\u043a\u0430\u043b\u0443\u0436\u0441\u043a                         20         6   30.000000\n",
        "\u043c\u043e\u0433\u0438\u043b\u0435\u0432\u0441\u043a                       37        11   29.729730\n",
        "\u0442\u0443\u043b\u044c\u0441\u043a                          37        11   29.729730\n",
        "\u0447\u0435\u0440\u043d\u0438\u0433\u043e\u0432\u0441\u043a                      35        10   28.571429\n",
        "\u0445\u0430\u0440\u044c\u043a\u043e\u0432\u0441\u043a                       42        12   28.571429\n",
        "\u0441\u043c\u043e\u043b\u0435\u043d\u0441\u043a                         7         2   28.571429\n",
        "\u043a\u0443\u0440\u0441\u043a                           18         5   27.777778\n",
        "\u043c\u043e\u0441\u043a\u043e\u0432\u0441\u043a                        44        12   27.272727\n",
        "\u0432\u044f\u0442\u0441\u043a                            4         1   25.000000\n",
        "\u0442\u0430\u043c\u0431\u043e\u0432\u0441\u043a                        33         8   24.242424\n",
        "\u043d\u0438\u0436\u0435\u0433\u043e\u0440\u043e\u0434\u0441\u043a                     13         3   23.076923\n",
        "\u0432\u043e\u0440\u043e\u043d\u0435\u0436\u0441\u043a                       15         3   20.000000\n",
        "\u043d\u043e\u0432\u043e\u0433\u043e\u0440\u043e\u0434\u0441\u043a\u043e\u0433\u043e - \u0441\u0435\u0432\u0435\u0440\u0441\u043a        16         3   18.750000\n",
        "\u0441\u0430\u0440\u0430\u0442\u043e\u0432\u0441\u043a                        9         1   11.111111"
       ]
      }
     ],
     "prompt_number": 66
    },
    {
     "cell_type": "code",
     "collapsed": false,
     "input": [
      "prov_recall.pct.describe()"
     ],
     "language": "python",
     "metadata": {},
     "outputs": [
      {
       "metadata": {},
       "output_type": "pyout",
       "prompt_number": 67,
       "text": [
        "count     40.000000\n",
        "mean      42.920544\n",
        "std       20.300324\n",
        "min       11.111111\n",
        "25%       28.571429\n",
        "50%       36.363636\n",
        "75%       51.476476\n",
        "max      100.000000\n",
        "dtype: float64"
       ]
      }
     ],
     "prompt_number": 67
    },
    {
     "cell_type": "code",
     "collapsed": false,
     "input": [
      "cyrillic_translit={u'\\u0410': 'A', u'\\u0430': 'a',u'\\u0411': 'B', u'\\u0431': 'b',u'\\u0412': 'V', u'\\u0432': 'v',u'\\u0413': 'G', u'\\u0433': 'g',u'\\u0414': 'D', u'\\u0434': 'd',u'\\u0415': 'E', u'\\u0435': 'e',u'\\u0416': 'Zh', u'\\u0436': 'zh',u'\\u0417': 'Z', u'\\u0437': 'z',u'\\u0418': 'I', u'\\u0438': 'i',u'\\u0419': 'I', u'\\u0439': 'i',u'\\u041a': 'K', u'\\u043a': 'k',u'\\u041b': 'L', u'\\u043b': 'l',u'\\u041c': 'M', u'\\u043c': 'm',u'\\u041d': 'N', u'\\u043d': 'n',u'\\u041e': 'O', u'\\u043e': 'o',u'\\u041f': 'P', u'\\u043f': 'p',u'\\u0420': 'R', u'\\u0440': 'r',u'\\u0421': 'S', u'\\u0441': 's',u'\\u0422': 'T', u'\\u0442': 't',u'\\u0423': 'U', u'\\u0443': 'u',u'\\u0424': 'F', u'\\u0444': 'f',u'\\u0425': 'Kh', u'\\u0445': 'kh',u'\\u0426': 'Ts', u'\\u0446': 'ts',u'\\u0427': 'Ch', u'\\u0447': 'ch',u'\\u0428': 'Sh', u'\\u0448': 'sh',u'\\u0429': 'Shch', u'\\u0449': 'shch',u'\\u042a': '\"', u'\\u044a': '\"',u'\\u042b': 'Y', u'\\u044b': 'y',u'\\u042c': \"'\", u'\\u044c': \"'\",u'\\u042d': 'E', u'\\u044d': 'e',u'\\u042e': 'Iu', u'\\u044e': 'iu',u'\\u042f': 'Ia', u'\\u044f': 'ia',u'\\u0462': 'Ie', u'\\u0463': 'ie'}\n",
      "\n",
      "def transliterate(word, translit_table):\n",
      "    \"\"\"\n",
      "    Transliterates 'word' based on the key/value pairs in 'translit_table'\n",
      "    \"\"\"\n",
      "    converted_word = ''\n",
      "    for char in word:\n",
      "        transchar = ''\n",
      "        if char in translit_table:\n",
      "            transchar = translit_table[char]\n",
      "        else:\n",
      "            transchar = char\n",
      "        converted_word += transchar\n",
      "    return converted_word"
     ],
     "language": "python",
     "metadata": {},
     "outputs": [],
     "prompt_number": 68
    },
    {
     "cell_type": "code",
     "collapsed": false,
     "input": [
      "transliterate(\"\u0420\u043e\u043c\u0435\u043d\u0441\u043a\u0438\u0439\",cyrillic_translit)"
     ],
     "language": "python",
     "metadata": {},
     "outputs": [
      {
       "metadata": {},
       "output_type": "pyout",
       "prompt_number": 69,
       "text": [
        "'Romenskii'"
       ]
      }
     ],
     "prompt_number": 69
    },
    {
     "cell_type": "code",
     "collapsed": false,
     "input": [
      "geodf_merged['lc_translit'] = geodf_merged.name.apply(lambda text: transliterate(text,cyrillic_translit))"
     ],
     "language": "python",
     "metadata": {},
     "outputs": [],
     "prompt_number": 70
    },
    {
     "cell_type": "code",
     "collapsed": true,
     "input": [
      "geodf_merged.to_excel('geocoded_merged.xlsx',encoding = 'utf-8')\n",
      "geodf_merged.to_csv('geocoded_merged.csv',encoding = 'utf-8')"
     ],
     "language": "python",
     "metadata": {},
     "outputs": [],
     "prompt_number": 72
    },
    {
     "cell_type": "code",
     "collapsed": false,
     "input": [
      "def reverse_geocode(lng,lat):\n",
      "    keepgoing = True\n",
      "    while keepgoing == True:\n",
      "        try:\n",
      "            url = \"https://maps.googleapis.com/maps/api/geocode/json\"\n",
      "            Q = {'latlng':\"{},{}\".format(lat,lng)}\n",
      "            R = requests.get(url, params=Q)\n",
      "            print(R.url)\n",
      "            geo_response = R.json()\n",
      "            locality = 'error'\n",
      "            for component in geo_response['results'][0]['address_components']:\n",
      "                if 'locality' in component['types']:\n",
      "                    locality = component['long_name']\n",
      "                elif 'administrative_area_level_1' in component['types']:\n",
      "                    admin1 = component['long_name']\n",
      "                elif 'country' in component['types']:\n",
      "                    country = component['long_name']\n",
      "                    countryCode = component['short_name']\n",
      "            if locality == 'error':\n",
      "                for component in geo_response['results'][0]['address_components']:\n",
      "                    if 'administrative_area_level_2' in component['types']:\n",
      "                        locality = component['long_name']\n",
      "            print(\"\\\"{0}, {1}\\\",\\\"{2}\\\",\\\"{3}\\\"\".format(locality,admin1,country,countryCode))\n",
      "            time.sleep(1)\n",
      "            keepgoing = False\n",
      "        except IndexError:\n",
      "            time.sleep(1)\n",
      "            continue\n",
      "        return \"{}, {}\".format(locality,admin1), country, countryCode"
     ],
     "language": "python",
     "metadata": {},
     "outputs": [],
     "prompt_number": 71
    },
    {
     "cell_type": "code",
     "collapsed": false,
     "input": [
      "geodf_merged[np.logical_and(geodf_merged._type == '\u0433\u043e\u0440\u043e\u0434\u044a',geodf_merged.prov_stem=='\u043c\u043e\u0441\u043a\u043e\u0432\u0441\u043a')]"
     ],
     "language": "python",
     "metadata": {},
     "outputs": [
      {
       "html": [
        "<div style=\"max-height:1000px;max-width:1500px;overflow:auto;\">\n",
        "<table border=\"1\" class=\"dataframe\">\n",
        "  <thead>\n",
        "    <tr style=\"text-align: right;\">\n",
        "      <th></th>\n",
        "      <th>hgr_id</th>\n",
        "      <th>name</th>\n",
        "      <th>alt_name</th>\n",
        "      <th>partof_id</th>\n",
        "      <th>lng</th>\n",
        "      <th>lat</th>\n",
        "      <th>_type</th>\n",
        "      <th>source_url</th>\n",
        "      <th>text</th>\n",
        "      <th>name_modern_sp</th>\n",
        "      <th>...</th>\n",
        "      <th>local_result</th>\n",
        "      <th>src</th>\n",
        "      <th>ru_prov</th>\n",
        "      <th>prov_modern_sp</th>\n",
        "      <th>prov_stem</th>\n",
        "      <th>ru_uezd</th>\n",
        "      <th>uezd_modern_sp</th>\n",
        "      <th>uezd_stem</th>\n",
        "      <th>page</th>\n",
        "      <th>lc_translit</th>\n",
        "    </tr>\n",
        "  </thead>\n",
        "  <tbody>\n",
        "    <tr>\n",
        "      <th>143 </th>\n",
        "      <td>  57</td>\n",
        "      <td>   \u0411\u043e\u0433\u043e\u0440\u043e\u0434\u0441\u043a\u044a</td>\n",
        "      <td> None</td>\n",
        "      <td> 1</td>\n",
        "      <td>    38.45</td>\n",
        "      <td>    55.85</td>\n",
        "      <td> \u0433\u043e\u0440\u043e\u0434\u044a</td>\n",
        "      <td> http://babel.hathitrust.org/cgi/pt?id=uc1.b458...</td>\n",
        "      <td> \u0411\u041e\u0413\u041e\u0420\u041e\u0414\u0421\u041a\u042a, \u0433\u043e\u0440\u043e\u0434\u044a \u041c\u043e\u0441\u043a\u043e\u0432\u0441\u043a\u043e\u0439 \u0413\u0443\u0431\u0435\u0440\u043d\u0456\u0438. \u0412\u044a \u043d\u0435\u043c...</td>\n",
        "      <td>   \u0411\u043e\u0433\u043e\u0440\u043e\u0434\u0441\u043a</td>\n",
        "      <td>...</td>\n",
        "      <td>    geonames_jsons/\u0411\u043e\u0433\u043e\u0440\u043e\u0434\u0441\u043a_57.json</td>\n",
        "      <td> geonames</td>\n",
        "      <td> \u041c\u043e\u0441\u043a\u043e\u0432\u0441\u043a\u043e\u0439 \u0413\u0443\u0431\u0435\u0440\u043d\u0456\u0438</td>\n",
        "      <td> \u041c\u043e\u0441\u043a\u043e\u0432\u0441\u043a\u043e\u0439 \u0413\u0443\u0431\u0435\u0440\u043d\u0438\u0438</td>\n",
        "      <td> \u043c\u043e\u0441\u043a\u043e\u0432\u0441\u043a</td>\n",
        "      <td> not_in_text</td>\n",
        "      <td> not_\u0438n_text</td>\n",
        "      <td> \u043d\u043e\u0442_\u0438\u043d_\u0442\u0435x\u0442</td>\n",
        "      <td>  19</td>\n",
        "      <td>   Bogorodsk\"</td>\n",
        "    </tr>\n",
        "    <tr>\n",
        "      <th>164 </th>\n",
        "      <td>  73</td>\n",
        "      <td>     \u0411\u0440\u043e\u043d\u043d\u0438\u0446\u044b</td>\n",
        "      <td> None</td>\n",
        "      <td> 1</td>\n",
        "      <td> 38.26188</td>\n",
        "      <td> 55.42112</td>\n",
        "      <td> \u0433\u043e\u0440\u043e\u0434\u044a</td>\n",
        "      <td> http://babel.hathitrust.org/cgi/pt?id=uc1.b458...</td>\n",
        "      <td> \u0411\u0420\u041e\u041d\u041d\u0418\u0426\u042b, \u0433\u043e\u0440\u043e\u0434\u044a \u041c\u043e\u0441\u043a\u043e\u0432\u0441\u043a\u043e\u0439 \u0413\u0443\u0431\u0435\u0440\u043d\u0456\u0438. \u0412\u044a \u043d\u0435\u043c\u044a,...</td>\n",
        "      <td>    \u0411\u0440\u043e\u043d\u043d\u0438\u0446\u044b</td>\n",
        "      <td>...</td>\n",
        "      <td>     geonames_jsons/\u0411\u0440\u043e\u043d\u043d\u0438\u0446\u044b_73.json</td>\n",
        "      <td> geonames</td>\n",
        "      <td> \u041c\u043e\u0441\u043a\u043e\u0432\u0441\u043a\u043e\u0439 \u0413\u0443\u0431\u0435\u0440\u043d\u0456\u0438</td>\n",
        "      <td> \u041c\u043e\u0441\u043a\u043e\u0432\u0441\u043a\u043e\u0439 \u0413\u0443\u0431\u0435\u0440\u043d\u0438\u0438</td>\n",
        "      <td> \u043c\u043e\u0441\u043a\u043e\u0432\u0441\u043a</td>\n",
        "      <td> not_in_text</td>\n",
        "      <td> not_\u0438n_text</td>\n",
        "      <td> \u043d\u043e\u0442_\u0438\u043d_\u0442\u0435x\u0442</td>\n",
        "      <td>  22</td>\n",
        "      <td>    Bronnitsy</td>\n",
        "    </tr>\n",
        "    <tr>\n",
        "      <th>238 </th>\n",
        "      <td> 107</td>\n",
        "      <td>        \u0412\u0435\u0440\u0435\u044f</td>\n",
        "      <td> None</td>\n",
        "      <td> 1</td>\n",
        "      <td> 39.09766</td>\n",
        "      <td> 55.77373</td>\n",
        "      <td> \u0433\u043e\u0440\u043e\u0434\u044a</td>\n",
        "      <td> http://babel.hathitrust.org/cgi/pt?id=uc1.b458...</td>\n",
        "      <td> \u0412\u0415\u0420\u0415\u042f, \u0433\u043e\u0440\u043e\u0434\u044a \u041c\u043e\u0441\u043a\u043e\u0432\u0441\u043a\u043e\u0439 \u0413\u0443\u0431\u0435\u0440\u043d\u0456\u0438 \u0438 \u041f\u0440\u043e\u0432\u0438\u043d\u0446\u0456\u0438....</td>\n",
        "      <td>       \u0412\u0435\u0440\u0435\u044f</td>\n",
        "      <td>...</td>\n",
        "      <td>       geonames_jsons/\u0412\u0435\u0440\u0435\u044f_107.json</td>\n",
        "      <td> geonames</td>\n",
        "      <td> \u041c\u043e\u0441\u043a\u043e\u0432\u0441\u043a\u043e\u0439 \u0413\u0443\u0431\u0435\u0440\u043d\u0456\u0438</td>\n",
        "      <td> \u041c\u043e\u0441\u043a\u043e\u0432\u0441\u043a\u043e\u0439 \u0413\u0443\u0431\u0435\u0440\u043d\u0438\u0438</td>\n",
        "      <td> \u043c\u043e\u0441\u043a\u043e\u0432\u0441\u043a</td>\n",
        "      <td> not_in_text</td>\n",
        "      <td> not_\u0438n_text</td>\n",
        "      <td> \u043d\u043e\u0442_\u0438\u043d_\u0442\u0435x\u0442</td>\n",
        "      <td>  27</td>\n",
        "      <td>       Vereia</td>\n",
        "    </tr>\n",
        "    <tr>\n",
        "      <th>239 </th>\n",
        "      <td> 107</td>\n",
        "      <td>        \u0412\u0435\u0440\u0435\u044f</td>\n",
        "      <td> None</td>\n",
        "      <td> 1</td>\n",
        "      <td> 36.17194</td>\n",
        "      <td> 55.34472</td>\n",
        "      <td> \u0433\u043e\u0440\u043e\u0434\u044a</td>\n",
        "      <td> http://babel.hathitrust.org/cgi/pt?id=uc1.b458...</td>\n",
        "      <td> \u0412\u0415\u0420\u0415\u042f, \u0433\u043e\u0440\u043e\u0434\u044a \u041c\u043e\u0441\u043a\u043e\u0432\u0441\u043a\u043e\u0439 \u0413\u0443\u0431\u0435\u0440\u043d\u0456\u0438 \u0438 \u041f\u0440\u043e\u0432\u0438\u043d\u0446\u0456\u0438....</td>\n",
        "      <td>       \u0412\u0435\u0440\u0435\u044f</td>\n",
        "      <td>...</td>\n",
        "      <td>       geonames_jsons/\u0412\u0435\u0440\u0435\u044f_107.json</td>\n",
        "      <td> geonames</td>\n",
        "      <td> \u041c\u043e\u0441\u043a\u043e\u0432\u0441\u043a\u043e\u0439 \u0413\u0443\u0431\u0435\u0440\u043d\u0456\u0438</td>\n",
        "      <td> \u041c\u043e\u0441\u043a\u043e\u0432\u0441\u043a\u043e\u0439 \u0413\u0443\u0431\u0435\u0440\u043d\u0438\u0438</td>\n",
        "      <td> \u043c\u043e\u0441\u043a\u043e\u0432\u0441\u043a</td>\n",
        "      <td> not_in_text</td>\n",
        "      <td> not_\u0438n_text</td>\n",
        "      <td> \u043d\u043e\u0442_\u0438\u043d_\u0442\u0435x\u0442</td>\n",
        "      <td>  27</td>\n",
        "      <td>       Vereia</td>\n",
        "    </tr>\n",
        "    <tr>\n",
        "      <th>240 </th>\n",
        "      <td> 107</td>\n",
        "      <td>        \u0412\u0435\u0440\u0435\u044f</td>\n",
        "      <td> None</td>\n",
        "      <td> 1</td>\n",
        "      <td> 38.03917</td>\n",
        "      <td> 55.61472</td>\n",
        "      <td> \u0433\u043e\u0440\u043e\u0434\u044a</td>\n",
        "      <td> http://babel.hathitrust.org/cgi/pt?id=uc1.b458...</td>\n",
        "      <td> \u0412\u0415\u0420\u0415\u042f, \u0433\u043e\u0440\u043e\u0434\u044a \u041c\u043e\u0441\u043a\u043e\u0432\u0441\u043a\u043e\u0439 \u0413\u0443\u0431\u0435\u0440\u043d\u0456\u0438 \u0438 \u041f\u0440\u043e\u0432\u0438\u043d\u0446\u0456\u0438....</td>\n",
        "      <td>       \u0412\u0435\u0440\u0435\u044f</td>\n",
        "      <td>...</td>\n",
        "      <td>       geonames_jsons/\u0412\u0435\u0440\u0435\u044f_107.json</td>\n",
        "      <td> geonames</td>\n",
        "      <td> \u041c\u043e\u0441\u043a\u043e\u0432\u0441\u043a\u043e\u0439 \u0413\u0443\u0431\u0435\u0440\u043d\u0456\u0438</td>\n",
        "      <td> \u041c\u043e\u0441\u043a\u043e\u0432\u0441\u043a\u043e\u0439 \u0413\u0443\u0431\u0435\u0440\u043d\u0438\u0438</td>\n",
        "      <td> \u043c\u043e\u0441\u043a\u043e\u0432\u0441\u043a</td>\n",
        "      <td> not_in_text</td>\n",
        "      <td> not_\u0438n_text</td>\n",
        "      <td> \u043d\u043e\u0442_\u0438\u043d_\u0442\u0435x\u0442</td>\n",
        "      <td>  27</td>\n",
        "      <td>       Vereia</td>\n",
        "    </tr>\n",
        "    <tr>\n",
        "      <th>252 </th>\n",
        "      <td> 117</td>\n",
        "      <td> \u0412\u043e\u043b\u043e\u043a\u043e\u043b\u0430\u043c\u0441\u043a\u044a</td>\n",
        "      <td> None</td>\n",
        "      <td> 1</td>\n",
        "      <td> 35.96944</td>\n",
        "      <td> 56.03361</td>\n",
        "      <td> \u0433\u043e\u0440\u043e\u0434\u044a</td>\n",
        "      <td> http://babel.hathitrust.org/cgi/pt?id=uc1.b458...</td>\n",
        "      <td> \u0412\u041e\u041b\u041e\u041a\u041e\u041b\u0410\u041c\u0421\u041a\u042a, \u0433\u043e\u0440\u043e\u0434\u044a \u041c\u043e\u0441\u043a\u043e\u0432\u0441\u043a\u043e\u0439 \u0413\u0443\u0431\u0435\u0440\u043d\u0456\u0438 \u0438 \u041f\u0440\u043e...</td>\n",
        "      <td> \u0412\u043e\u043b\u043e\u043a\u043e\u043b\u0430\u043c\u0441\u043a</td>\n",
        "      <td>...</td>\n",
        "      <td> geonames_jsons/\u0412\u043e\u043b\u043e\u043a\u043e\u043b\u0430\u043c\u0441\u043a_117.json</td>\n",
        "      <td> geonames</td>\n",
        "      <td> \u041c\u043e\u0441\u043a\u043e\u0432\u0441\u043a\u043e\u0439 \u0413\u0443\u0431\u0435\u0440\u043d\u0456\u0438</td>\n",
        "      <td> \u041c\u043e\u0441\u043a\u043e\u0432\u0441\u043a\u043e\u0439 \u0413\u0443\u0431\u0435\u0440\u043d\u0438\u0438</td>\n",
        "      <td> \u043c\u043e\u0441\u043a\u043e\u0432\u0441\u043a</td>\n",
        "      <td> not_in_text</td>\n",
        "      <td> not_\u0438n_text</td>\n",
        "      <td> \u043d\u043e\u0442_\u0438\u043d_\u0442\u0435x\u0442</td>\n",
        "      <td>  28</td>\n",
        "      <td> Volokolamsk\"</td>\n",
        "    </tr>\n",
        "    <tr>\n",
        "      <th>253 </th>\n",
        "      <td> 117</td>\n",
        "      <td> \u0412\u043e\u043b\u043e\u043a\u043e\u043b\u0430\u043c\u0441\u043a\u044a</td>\n",
        "      <td> None</td>\n",
        "      <td> 1</td>\n",
        "      <td> 35.92156</td>\n",
        "      <td> 56.00011</td>\n",
        "      <td> \u0433\u043e\u0440\u043e\u0434\u044a</td>\n",
        "      <td> http://babel.hathitrust.org/cgi/pt?id=uc1.b458...</td>\n",
        "      <td> \u0412\u041e\u041b\u041e\u041a\u041e\u041b\u0410\u041c\u0421\u041a\u042a, \u0433\u043e\u0440\u043e\u0434\u044a \u041c\u043e\u0441\u043a\u043e\u0432\u0441\u043a\u043e\u0439 \u0413\u0443\u0431\u0435\u0440\u043d\u0456\u0438 \u0438 \u041f\u0440\u043e...</td>\n",
        "      <td> \u0412\u043e\u043b\u043e\u043a\u043e\u043b\u0430\u043c\u0441\u043a</td>\n",
        "      <td>...</td>\n",
        "      <td> geonames_jsons/\u0412\u043e\u043b\u043e\u043a\u043e\u043b\u0430\u043c\u0441\u043a_117.json</td>\n",
        "      <td> geonames</td>\n",
        "      <td> \u041c\u043e\u0441\u043a\u043e\u0432\u0441\u043a\u043e\u0439 \u0413\u0443\u0431\u0435\u0440\u043d\u0456\u0438</td>\n",
        "      <td> \u041c\u043e\u0441\u043a\u043e\u0432\u0441\u043a\u043e\u0439 \u0413\u0443\u0431\u0435\u0440\u043d\u0438\u0438</td>\n",
        "      <td> \u043c\u043e\u0441\u043a\u043e\u0432\u0441\u043a</td>\n",
        "      <td> not_in_text</td>\n",
        "      <td> not_\u0438n_text</td>\n",
        "      <td> \u043d\u043e\u0442_\u0438\u043d_\u0442\u0435x\u0442</td>\n",
        "      <td>  28</td>\n",
        "      <td> Volokolamsk\"</td>\n",
        "    </tr>\n",
        "    <tr>\n",
        "      <th>272 </th>\n",
        "      <td> 127</td>\n",
        "      <td> \u0412\u043e\u0441\u043a\u0440\u0435\u0441\u0435\u043d\u0441\u043a\u044a</td>\n",
        "      <td> None</td>\n",
        "      <td> 1</td>\n",
        "      <td> 38.65264</td>\n",
        "      <td> 55.31733</td>\n",
        "      <td> \u0433\u043e\u0440\u043e\u0434\u044a</td>\n",
        "      <td> http://babel.hathitrust.org/cgi/pt?id=uc1.b458...</td>\n",
        "      <td> \u0412\u041e\u0421\u041a\u0420\u0415\u0421\u0415\u041d\u0421\u041a\u042a, \u0433\u043e\u0440\u043e\u0434\u044a \u041c\u043e\u0441\u043a\u043e\u0432\u0441\u043a\u043e\u0439 \u0413\u0443\u0431\u0435\u0440\u043d\u0456\u0438. \u0412\u044a \u043d...</td>\n",
        "      <td> \u0412\u043e\u0441\u043a\u0440\u0435\u0441\u0435\u043d\u0441\u043a</td>\n",
        "      <td>...</td>\n",
        "      <td> geonames_jsons/\u0412\u043e\u0441\u043a\u0440\u0435\u0441\u0435\u043d\u0441\u043a_127.json</td>\n",
        "      <td> geonames</td>\n",
        "      <td> \u041c\u043e\u0441\u043a\u043e\u0432\u0441\u043a\u043e\u0439 \u0413\u0443\u0431\u0435\u0440\u043d\u0456\u0438</td>\n",
        "      <td> \u041c\u043e\u0441\u043a\u043e\u0432\u0441\u043a\u043e\u0439 \u0413\u0443\u0431\u0435\u0440\u043d\u0438\u0438</td>\n",
        "      <td> \u043c\u043e\u0441\u043a\u043e\u0432\u0441\u043a</td>\n",
        "      <td> not_in_text</td>\n",
        "      <td> not_\u0438n_text</td>\n",
        "      <td> \u043d\u043e\u0442_\u0438\u043d_\u0442\u0435x\u0442</td>\n",
        "      <td>  30</td>\n",
        "      <td> Voskresensk\"</td>\n",
        "    </tr>\n",
        "    <tr>\n",
        "      <th>273 </th>\n",
        "      <td> 127</td>\n",
        "      <td> \u0412\u043e\u0441\u043a\u0440\u0435\u0441\u0435\u043d\u0441\u043a\u044a</td>\n",
        "      <td> None</td>\n",
        "      <td> 1</td>\n",
        "      <td> 34.93861</td>\n",
        "      <td> 55.64583</td>\n",
        "      <td> \u0433\u043e\u0440\u043e\u0434\u044a</td>\n",
        "      <td> http://babel.hathitrust.org/cgi/pt?id=uc1.b458...</td>\n",
        "      <td> \u0412\u041e\u0421\u041a\u0420\u0415\u0421\u0415\u041d\u0421\u041a\u042a, \u0433\u043e\u0440\u043e\u0434\u044a \u041c\u043e\u0441\u043a\u043e\u0432\u0441\u043a\u043e\u0439 \u0413\u0443\u0431\u0435\u0440\u043d\u0456\u0438. \u0412\u044a \u043d...</td>\n",
        "      <td> \u0412\u043e\u0441\u043a\u0440\u0435\u0441\u0435\u043d\u0441\u043a</td>\n",
        "      <td>...</td>\n",
        "      <td> geonames_jsons/\u0412\u043e\u0441\u043a\u0440\u0435\u0441\u0435\u043d\u0441\u043a_127.json</td>\n",
        "      <td> geonames</td>\n",
        "      <td> \u041c\u043e\u0441\u043a\u043e\u0432\u0441\u043a\u043e\u0439 \u0413\u0443\u0431\u0435\u0440\u043d\u0456\u0438</td>\n",
        "      <td> \u041c\u043e\u0441\u043a\u043e\u0432\u0441\u043a\u043e\u0439 \u0413\u0443\u0431\u0435\u0440\u043d\u0438\u0438</td>\n",
        "      <td> \u043c\u043e\u0441\u043a\u043e\u0432\u0441\u043a</td>\n",
        "      <td> not_in_text</td>\n",
        "      <td> not_\u0438n_text</td>\n",
        "      <td> \u043d\u043e\u0442_\u0438\u043d_\u0442\u0435x\u0442</td>\n",
        "      <td>  30</td>\n",
        "      <td> Voskresensk\"</td>\n",
        "    </tr>\n",
        "    <tr>\n",
        "      <th>274 </th>\n",
        "      <td> 127</td>\n",
        "      <td> \u0412\u043e\u0441\u043a\u0440\u0435\u0441\u0435\u043d\u0441\u043a\u044a</td>\n",
        "      <td> None</td>\n",
        "      <td> 1</td>\n",
        "      <td> 35.11667</td>\n",
        "      <td> 54.98333</td>\n",
        "      <td> \u0433\u043e\u0440\u043e\u0434\u044a</td>\n",
        "      <td> http://babel.hathitrust.org/cgi/pt?id=uc1.b458...</td>\n",
        "      <td> \u0412\u041e\u0421\u041a\u0420\u0415\u0421\u0415\u041d\u0421\u041a\u042a, \u0433\u043e\u0440\u043e\u0434\u044a \u041c\u043e\u0441\u043a\u043e\u0432\u0441\u043a\u043e\u0439 \u0413\u0443\u0431\u0435\u0440\u043d\u0456\u0438. \u0412\u044a \u043d...</td>\n",
        "      <td> \u0412\u043e\u0441\u043a\u0440\u0435\u0441\u0435\u043d\u0441\u043a</td>\n",
        "      <td>...</td>\n",
        "      <td> geonames_jsons/\u0412\u043e\u0441\u043a\u0440\u0435\u0441\u0435\u043d\u0441\u043a_127.json</td>\n",
        "      <td> geonames</td>\n",
        "      <td> \u041c\u043e\u0441\u043a\u043e\u0432\u0441\u043a\u043e\u0439 \u0413\u0443\u0431\u0435\u0440\u043d\u0456\u0438</td>\n",
        "      <td> \u041c\u043e\u0441\u043a\u043e\u0432\u0441\u043a\u043e\u0439 \u0413\u0443\u0431\u0435\u0440\u043d\u0438\u0438</td>\n",
        "      <td> \u043c\u043e\u0441\u043a\u043e\u0432\u0441\u043a</td>\n",
        "      <td> not_in_text</td>\n",
        "      <td> not_\u0438n_text</td>\n",
        "      <td> \u043d\u043e\u0442_\u0438\u043d_\u0442\u0435x\u0442</td>\n",
        "      <td>  30</td>\n",
        "      <td> Voskresensk\"</td>\n",
        "    </tr>\n",
        "    <tr>\n",
        "      <th>275 </th>\n",
        "      <td> 127</td>\n",
        "      <td> \u0412\u043e\u0441\u043a\u0440\u0435\u0441\u0435\u043d\u0441\u043a\u044a</td>\n",
        "      <td> None</td>\n",
        "      <td> 1</td>\n",
        "      <td> 36.63196</td>\n",
        "      <td> 55.84154</td>\n",
        "      <td> \u0433\u043e\u0440\u043e\u0434\u044a</td>\n",
        "      <td> http://babel.hathitrust.org/cgi/pt?id=uc1.b458...</td>\n",
        "      <td> \u0412\u041e\u0421\u041a\u0420\u0415\u0421\u0415\u041d\u0421\u041a\u042a, \u0433\u043e\u0440\u043e\u0434\u044a \u041c\u043e\u0441\u043a\u043e\u0432\u0441\u043a\u043e\u0439 \u0413\u0443\u0431\u0435\u0440\u043d\u0456\u0438. \u0412\u044a \u043d...</td>\n",
        "      <td> \u0412\u043e\u0441\u043a\u0440\u0435\u0441\u0435\u043d\u0441\u043a</td>\n",
        "      <td>...</td>\n",
        "      <td> geonames_jsons/\u0412\u043e\u0441\u043a\u0440\u0435\u0441\u0435\u043d\u0441\u043a_127.json</td>\n",
        "      <td> geonames</td>\n",
        "      <td> \u041c\u043e\u0441\u043a\u043e\u0432\u0441\u043a\u043e\u0439 \u0413\u0443\u0431\u0435\u0440\u043d\u0456\u0438</td>\n",
        "      <td> \u041c\u043e\u0441\u043a\u043e\u0432\u0441\u043a\u043e\u0439 \u0413\u0443\u0431\u0435\u0440\u043d\u0438\u0438</td>\n",
        "      <td> \u043c\u043e\u0441\u043a\u043e\u0432\u0441\u043a</td>\n",
        "      <td> not_in_text</td>\n",
        "      <td> not_\u0438n_text</td>\n",
        "      <td> \u043d\u043e\u0442_\u0438\u043d_\u0442\u0435x\u0442</td>\n",
        "      <td>  30</td>\n",
        "      <td> Voskresensk\"</td>\n",
        "    </tr>\n",
        "    <tr>\n",
        "      <th>276 </th>\n",
        "      <td> 127</td>\n",
        "      <td> \u0412\u043e\u0441\u043a\u0440\u0435\u0441\u0435\u043d\u0441\u043a\u044a</td>\n",
        "      <td> None</td>\n",
        "      <td> 1</td>\n",
        "      <td> 36.86867</td>\n",
        "      <td> 55.91997</td>\n",
        "      <td> \u0433\u043e\u0440\u043e\u0434\u044a</td>\n",
        "      <td> http://babel.hathitrust.org/cgi/pt?id=uc1.b458...</td>\n",
        "      <td> \u0412\u041e\u0421\u041a\u0420\u0415\u0421\u0415\u041d\u0421\u041a\u042a, \u0433\u043e\u0440\u043e\u0434\u044a \u041c\u043e\u0441\u043a\u043e\u0432\u0441\u043a\u043e\u0439 \u0413\u0443\u0431\u0435\u0440\u043d\u0456\u0438. \u0412\u044a \u043d...</td>\n",
        "      <td> \u0412\u043e\u0441\u043a\u0440\u0435\u0441\u0435\u043d\u0441\u043a</td>\n",
        "      <td>...</td>\n",
        "      <td> geonames_jsons/\u0412\u043e\u0441\u043a\u0440\u0435\u0441\u0435\u043d\u0441\u043a_127.json</td>\n",
        "      <td> geonames</td>\n",
        "      <td> \u041c\u043e\u0441\u043a\u043e\u0432\u0441\u043a\u043e\u0439 \u0413\u0443\u0431\u0435\u0440\u043d\u0456\u0438</td>\n",
        "      <td> \u041c\u043e\u0441\u043a\u043e\u0432\u0441\u043a\u043e\u0439 \u0413\u0443\u0431\u0435\u0440\u043d\u0438\u0438</td>\n",
        "      <td> \u043c\u043e\u0441\u043a\u043e\u0432\u0441\u043a</td>\n",
        "      <td> not_in_text</td>\n",
        "      <td> not_\u0438n_text</td>\n",
        "      <td> \u043d\u043e\u0442_\u0438\u043d_\u0442\u0435x\u0442</td>\n",
        "      <td>  30</td>\n",
        "      <td> Voskresensk\"</td>\n",
        "    </tr>\n",
        "    <tr>\n",
        "      <th>510 </th>\n",
        "      <td> 191</td>\n",
        "      <td>     \u0414\u043c\u0438\u0442\u0440\u043e\u0432\u044a</td>\n",
        "      <td> None</td>\n",
        "      <td> 1</td>\n",
        "      <td> 37.52041</td>\n",
        "      <td> 56.34485</td>\n",
        "      <td> \u0433\u043e\u0440\u043e\u0434\u044a</td>\n",
        "      <td> http://babel.hathitrust.org/cgi/pt?id=uc1.b458...</td>\n",
        "      <td> \u0414\u041c\u0418\u0422\u0420\u041e\u0412\u042a, \u0433\u043e\u0440\u043e\u0434\u044a \u041c\u043e\u0441\u043a\u043e\u0432\u0441\u043a\u043e\u0439 \u0413\u0443\u0431\u0435\u0440\u043d\u0456\u0438. \u0412\u044a \u043e\u043d\u043e\u043c\u044a...</td>\n",
        "      <td>     \u0414\u043c\u0438\u0442\u0440\u043e\u0432</td>\n",
        "      <td>...</td>\n",
        "      <td>     geonames_jsons/\u0414\u043c\u0438\u0442\u0440\u043e\u0432_191.json</td>\n",
        "      <td> geonames</td>\n",
        "      <td> \u041c\u043e\u0441\u043a\u043e\u0432\u0441\u043a\u043e\u0439 \u0413\u0443\u0431\u0435\u0440\u043d\u0456\u0438</td>\n",
        "      <td> \u041c\u043e\u0441\u043a\u043e\u0432\u0441\u043a\u043e\u0439 \u0413\u0443\u0431\u0435\u0440\u043d\u0438\u0438</td>\n",
        "      <td> \u043c\u043e\u0441\u043a\u043e\u0432\u0441\u043a</td>\n",
        "      <td> not_in_text</td>\n",
        "      <td> not_\u0438n_text</td>\n",
        "      <td> \u043d\u043e\u0442_\u0438\u043d_\u0442\u0435x\u0442</td>\n",
        "      <td>  39</td>\n",
        "      <td>     Dmitrov\"</td>\n",
        "    </tr>\n",
        "    <tr>\n",
        "      <th>589 </th>\n",
        "      <td> 234</td>\n",
        "      <td>  \u0417\u0432\u0435\u043d\u0438\u0433\u043e\u0440\u043e\u0434\u044a</td>\n",
        "      <td> None</td>\n",
        "      <td> 1</td>\n",
        "      <td> 36.85918</td>\n",
        "      <td> 55.73402</td>\n",
        "      <td> \u0433\u043e\u0440\u043e\u0434\u044a</td>\n",
        "      <td> http://babel.hathitrust.org/cgi/pt?id=uc1.b458...</td>\n",
        "      <td> \u0417\u0412\u0415\u041d\u0418\u0413\u041e\u0420\u041e\u0414\u042a, \u0433\u043e\u0440\u043e\u0434\u044a \u041c\u043e\u0441\u043a\u043e\u0432\u0441\u043a\u043e\u0439 \u0413\u0443\u0431\u0435\u0440\u043d\u0456\u0438. \u0411\u044b\u0432\u0430\u0435...</td>\n",
        "      <td>  \u0417\u0432\u0435\u043d\u0438\u0433\u043e\u0440\u043e\u0434</td>\n",
        "      <td>...</td>\n",
        "      <td>  geonames_jsons/\u0417\u0432\u0435\u043d\u0438\u0433\u043e\u0440\u043e\u0434_234.json</td>\n",
        "      <td> geonames</td>\n",
        "      <td> \u041c\u043e\u0441\u043a\u043e\u0432\u0441\u043a\u043e\u0439 \u0413\u0443\u0431\u0435\u0440\u043d\u0456\u0438</td>\n",
        "      <td> \u041c\u043e\u0441\u043a\u043e\u0432\u0441\u043a\u043e\u0439 \u0413\u0443\u0431\u0435\u0440\u043d\u0438\u0438</td>\n",
        "      <td> \u043c\u043e\u0441\u043a\u043e\u0432\u0441\u043a</td>\n",
        "      <td> not_in_text</td>\n",
        "      <td> not_\u0438n_text</td>\n",
        "      <td> \u043d\u043e\u0442_\u0438\u043d_\u0442\u0435x\u0442</td>\n",
        "      <td>  45</td>\n",
        "      <td>  Zvenigorod\"</td>\n",
        "    </tr>\n",
        "    <tr>\n",
        "      <th>899 </th>\n",
        "      <td> 300</td>\n",
        "      <td>        \u041a\u043b\u0438\u043d\u044a</td>\n",
        "      <td> None</td>\n",
        "      <td> 1</td>\n",
        "      <td> 36.73333</td>\n",
        "      <td> 56.33333</td>\n",
        "      <td> \u0433\u043e\u0440\u043e\u0434\u044a</td>\n",
        "      <td> http://babel.hathitrust.org/cgi/pt?id=uc1.b458...</td>\n",
        "      <td> \u041a\u041b\u0418\u041d\u042a, \u0433\u043e\u0440\u043e\u0434\u044a \u041c\u043e\u0441\u043a\u043e\u0432\u0441\u043a\u043e\u0439 \u0413\u0443\u0431\u0435\u0440\u043d\u0456\u0438. \u0412\u044a \u043e\u043d\u043e\u043c\u044a \u0431\u044b...</td>\n",
        "      <td>        \u041a\u043b\u0438\u043d</td>\n",
        "      <td>...</td>\n",
        "      <td>        geonames_jsons/\u041a\u043b\u0438\u043d_300.json</td>\n",
        "      <td> geonames</td>\n",
        "      <td> \u041c\u043e\u0441\u043a\u043e\u0432\u0441\u043a\u043e\u0439 \u0413\u0443\u0431\u0435\u0440\u043d\u0456\u0438</td>\n",
        "      <td> \u041c\u043e\u0441\u043a\u043e\u0432\u0441\u043a\u043e\u0439 \u0413\u0443\u0431\u0435\u0440\u043d\u0438\u0438</td>\n",
        "      <td> \u043c\u043e\u0441\u043a\u043e\u0432\u0441\u043a</td>\n",
        "      <td> not_in_text</td>\n",
        "      <td> not_\u0438n_text</td>\n",
        "      <td> \u043d\u043e\u0442_\u0438\u043d_\u0442\u0435x\u0442</td>\n",
        "      <td>  55</td>\n",
        "      <td>        Klin\"</td>\n",
        "    </tr>\n",
        "    <tr>\n",
        "      <th>900 </th>\n",
        "      <td> 300</td>\n",
        "      <td>        \u041a\u043b\u0438\u043d\u044a</td>\n",
        "      <td> None</td>\n",
        "      <td> 1</td>\n",
        "      <td>    39.85</td>\n",
        "      <td> 55.18333</td>\n",
        "      <td> \u0433\u043e\u0440\u043e\u0434\u044a</td>\n",
        "      <td> http://babel.hathitrust.org/cgi/pt?id=uc1.b458...</td>\n",
        "      <td> \u041a\u041b\u0418\u041d\u042a, \u0433\u043e\u0440\u043e\u0434\u044a \u041c\u043e\u0441\u043a\u043e\u0432\u0441\u043a\u043e\u0439 \u0413\u0443\u0431\u0435\u0440\u043d\u0456\u0438. \u0412\u044a \u043e\u043d\u043e\u043c\u044a \u0431\u044b...</td>\n",
        "      <td>        \u041a\u043b\u0438\u043d</td>\n",
        "      <td>...</td>\n",
        "      <td>        geonames_jsons/\u041a\u043b\u0438\u043d_300.json</td>\n",
        "      <td> geonames</td>\n",
        "      <td> \u041c\u043e\u0441\u043a\u043e\u0432\u0441\u043a\u043e\u0439 \u0413\u0443\u0431\u0435\u0440\u043d\u0456\u0438</td>\n",
        "      <td> \u041c\u043e\u0441\u043a\u043e\u0432\u0441\u043a\u043e\u0439 \u0413\u0443\u0431\u0435\u0440\u043d\u0438\u0438</td>\n",
        "      <td> \u043c\u043e\u0441\u043a\u043e\u0432\u0441\u043a</td>\n",
        "      <td> not_in_text</td>\n",
        "      <td> not_\u0438n_text</td>\n",
        "      <td> \u043d\u043e\u0442_\u0438\u043d_\u0442\u0435x\u0442</td>\n",
        "      <td>  55</td>\n",
        "      <td>        Klin\"</td>\n",
        "    </tr>\n",
        "    <tr>\n",
        "      <th>901 </th>\n",
        "      <td> 300</td>\n",
        "      <td>        \u041a\u043b\u0438\u043d\u044a</td>\n",
        "      <td> None</td>\n",
        "      <td> 1</td>\n",
        "      <td> 38.13949</td>\n",
        "      <td>  54.3836</td>\n",
        "      <td> \u0433\u043e\u0440\u043e\u0434\u044a</td>\n",
        "      <td> http://babel.hathitrust.org/cgi/pt?id=uc1.b458...</td>\n",
        "      <td> \u041a\u041b\u0418\u041d\u042a, \u0433\u043e\u0440\u043e\u0434\u044a \u041c\u043e\u0441\u043a\u043e\u0432\u0441\u043a\u043e\u0439 \u0413\u0443\u0431\u0435\u0440\u043d\u0456\u0438. \u0412\u044a \u043e\u043d\u043e\u043c\u044a \u0431\u044b...</td>\n",
        "      <td>        \u041a\u043b\u0438\u043d</td>\n",
        "      <td>...</td>\n",
        "      <td>        geonames_jsons/\u041a\u043b\u0438\u043d_300.json</td>\n",
        "      <td> geonames</td>\n",
        "      <td> \u041c\u043e\u0441\u043a\u043e\u0432\u0441\u043a\u043e\u0439 \u0413\u0443\u0431\u0435\u0440\u043d\u0456\u0438</td>\n",
        "      <td> \u041c\u043e\u0441\u043a\u043e\u0432\u0441\u043a\u043e\u0439 \u0413\u0443\u0431\u0435\u0440\u043d\u0438\u0438</td>\n",
        "      <td> \u043c\u043e\u0441\u043a\u043e\u0432\u0441\u043a</td>\n",
        "      <td> not_in_text</td>\n",
        "      <td> not_\u0438n_text</td>\n",
        "      <td> \u043d\u043e\u0442_\u0438\u043d_\u0442\u0435x\u0442</td>\n",
        "      <td>  55</td>\n",
        "      <td>        Klin\"</td>\n",
        "    </tr>\n",
        "    <tr>\n",
        "      <th>902 </th>\n",
        "      <td> 300</td>\n",
        "      <td>        \u041a\u043b\u0438\u043d\u044a</td>\n",
        "      <td> None</td>\n",
        "      <td> 1</td>\n",
        "      <td> 36.33333</td>\n",
        "      <td> 55.31667</td>\n",
        "      <td> \u0433\u043e\u0440\u043e\u0434\u044a</td>\n",
        "      <td> http://babel.hathitrust.org/cgi/pt?id=uc1.b458...</td>\n",
        "      <td> \u041a\u041b\u0418\u041d\u042a, \u0433\u043e\u0440\u043e\u0434\u044a \u041c\u043e\u0441\u043a\u043e\u0432\u0441\u043a\u043e\u0439 \u0413\u0443\u0431\u0435\u0440\u043d\u0456\u0438. \u0412\u044a \u043e\u043d\u043e\u043c\u044a \u0431\u044b...</td>\n",
        "      <td>        \u041a\u043b\u0438\u043d</td>\n",
        "      <td>...</td>\n",
        "      <td>        geonames_jsons/\u041a\u043b\u0438\u043d_300.json</td>\n",
        "      <td> geonames</td>\n",
        "      <td> \u041c\u043e\u0441\u043a\u043e\u0432\u0441\u043a\u043e\u0439 \u0413\u0443\u0431\u0435\u0440\u043d\u0456\u0438</td>\n",
        "      <td> \u041c\u043e\u0441\u043a\u043e\u0432\u0441\u043a\u043e\u0439 \u0413\u0443\u0431\u0435\u0440\u043d\u0438\u0438</td>\n",
        "      <td> \u043c\u043e\u0441\u043a\u043e\u0432\u0441\u043a</td>\n",
        "      <td> not_in_text</td>\n",
        "      <td> not_\u0438n_text</td>\n",
        "      <td> \u043d\u043e\u0442_\u0438\u043d_\u0442\u0435x\u0442</td>\n",
        "      <td>  55</td>\n",
        "      <td>        Klin\"</td>\n",
        "    </tr>\n",
        "    <tr>\n",
        "      <th>903 </th>\n",
        "      <td> 300</td>\n",
        "      <td>        \u041a\u043b\u0438\u043d\u044a</td>\n",
        "      <td> None</td>\n",
        "      <td> 1</td>\n",
        "      <td> 39.22319</td>\n",
        "      <td> 54.74463</td>\n",
        "      <td> \u0433\u043e\u0440\u043e\u0434\u044a</td>\n",
        "      <td> http://babel.hathitrust.org/cgi/pt?id=uc1.b458...</td>\n",
        "      <td> \u041a\u041b\u0418\u041d\u042a, \u0433\u043e\u0440\u043e\u0434\u044a \u041c\u043e\u0441\u043a\u043e\u0432\u0441\u043a\u043e\u0439 \u0413\u0443\u0431\u0435\u0440\u043d\u0456\u0438. \u0412\u044a \u043e\u043d\u043e\u043c\u044a \u0431\u044b...</td>\n",
        "      <td>        \u041a\u043b\u0438\u043d</td>\n",
        "      <td>...</td>\n",
        "      <td>        geonames_jsons/\u041a\u043b\u0438\u043d_300.json</td>\n",
        "      <td> geonames</td>\n",
        "      <td> \u041c\u043e\u0441\u043a\u043e\u0432\u0441\u043a\u043e\u0439 \u0413\u0443\u0431\u0435\u0440\u043d\u0456\u0438</td>\n",
        "      <td> \u041c\u043e\u0441\u043a\u043e\u0432\u0441\u043a\u043e\u0439 \u0413\u0443\u0431\u0435\u0440\u043d\u0438\u0438</td>\n",
        "      <td> \u043c\u043e\u0441\u043a\u043e\u0432\u0441\u043a</td>\n",
        "      <td> not_in_text</td>\n",
        "      <td> not_\u0438n_text</td>\n",
        "      <td> \u043d\u043e\u0442_\u0438\u043d_\u0442\u0435x\u0442</td>\n",
        "      <td>  55</td>\n",
        "      <td>        Klin\"</td>\n",
        "    </tr>\n",
        "    <tr>\n",
        "      <th>904 </th>\n",
        "      <td> 300</td>\n",
        "      <td>        \u041a\u043b\u0438\u043d\u044a</td>\n",
        "      <td> None</td>\n",
        "      <td> 1</td>\n",
        "      <td>  39.4779</td>\n",
        "      <td>  56.4489</td>\n",
        "      <td> \u0433\u043e\u0440\u043e\u0434\u044a</td>\n",
        "      <td> http://babel.hathitrust.org/cgi/pt?id=uc1.b458...</td>\n",
        "      <td> \u041a\u041b\u0418\u041d\u042a, \u0433\u043e\u0440\u043e\u0434\u044a \u041c\u043e\u0441\u043a\u043e\u0432\u0441\u043a\u043e\u0439 \u0413\u0443\u0431\u0435\u0440\u043d\u0456\u0438. \u0412\u044a \u043e\u043d\u043e\u043c\u044a \u0431\u044b...</td>\n",
        "      <td>        \u041a\u043b\u0438\u043d</td>\n",
        "      <td>...</td>\n",
        "      <td>        geonames_jsons/\u041a\u043b\u0438\u043d_300.json</td>\n",
        "      <td> geonames</td>\n",
        "      <td> \u041c\u043e\u0441\u043a\u043e\u0432\u0441\u043a\u043e\u0439 \u0413\u0443\u0431\u0435\u0440\u043d\u0456\u0438</td>\n",
        "      <td> \u041c\u043e\u0441\u043a\u043e\u0432\u0441\u043a\u043e\u0439 \u0413\u0443\u0431\u0435\u0440\u043d\u0438\u0438</td>\n",
        "      <td> \u043c\u043e\u0441\u043a\u043e\u0432\u0441\u043a</td>\n",
        "      <td> not_in_text</td>\n",
        "      <td> not_\u0438n_text</td>\n",
        "      <td> \u043d\u043e\u0442_\u0438\u043d_\u0442\u0435x\u0442</td>\n",
        "      <td>  55</td>\n",
        "      <td>        Klin\"</td>\n",
        "    </tr>\n",
        "    <tr>\n",
        "      <th>943 </th>\n",
        "      <td> 315</td>\n",
        "      <td>      \u041a\u043e\u043b\u043e\u043c\u043d\u0430</td>\n",
        "      <td> None</td>\n",
        "      <td> 1</td>\n",
        "      <td> 38.77833</td>\n",
        "      <td> 55.07944</td>\n",
        "      <td> \u0433\u043e\u0440\u043e\u0434\u044a</td>\n",
        "      <td> http://babel.hathitrust.org/cgi/pt?id=uc1.b458...</td>\n",
        "      <td> \u041a\u041e\u041b\u041e\u041c\u041d\u0410, \u0433\u043e\u0440\u043e\u0434\u044a \u041c\u043e\u0441\u043a\u043e\u0432\u0441\u043a\u043e\u0439 \u0413\u0443\u0431\u0435\u0440\u043d\u0456\u0438. \u0412\u044a \u043d\u0435\u043c\u044a \u0435...</td>\n",
        "      <td>     \u041a\u043e\u043b\u043e\u043c\u043d\u0430</td>\n",
        "      <td>...</td>\n",
        "      <td>     geonames_jsons/\u041a\u043e\u043b\u043e\u043c\u043d\u0430_315.json</td>\n",
        "      <td> geonames</td>\n",
        "      <td> \u041c\u043e\u0441\u043a\u043e\u0432\u0441\u043a\u043e\u0439 \u0413\u0443\u0431\u0435\u0440\u043d\u0456\u0438</td>\n",
        "      <td> \u041c\u043e\u0441\u043a\u043e\u0432\u0441\u043a\u043e\u0439 \u0413\u0443\u0431\u0435\u0440\u043d\u0438\u0438</td>\n",
        "      <td> \u043c\u043e\u0441\u043a\u043e\u0432\u0441\u043a</td>\n",
        "      <td> not_in_text</td>\n",
        "      <td> not_\u0438n_text</td>\n",
        "      <td> \u043d\u043e\u0442_\u0438\u043d_\u0442\u0435x\u0442</td>\n",
        "      <td>  57</td>\n",
        "      <td>      Kolomna</td>\n",
        "    </tr>\n",
        "    <tr>\n",
        "      <th>1333</th>\n",
        "      <td> 437</td>\n",
        "      <td>     \u041c\u043e\u0436\u0430\u0439\u0441\u043a\u044a</td>\n",
        "      <td> None</td>\n",
        "      <td> 1</td>\n",
        "      <td> 36.02722</td>\n",
        "      <td> 55.50194</td>\n",
        "      <td> \u0433\u043e\u0440\u043e\u0434\u044a</td>\n",
        "      <td> http://babel.hathitrust.org/cgi/pt?id=uc1.b458...</td>\n",
        "      <td> \u041c\u041e\u0416\u0410\u0419\u0421\u041a\u042a, \u0433\u043e\u0440\u043e\u0434\u044a \u041c\u043e\u0441\u043a\u043e\u0432\u0441\u043a\u043e\u0439 \u0413\u0443\u0431\u0435\u0440\u043d\u0456\u0438. \u0412\u044a \u043e\u043d\u043e\u043c\u044a...</td>\n",
        "      <td>     \u041c\u043e\u0436\u0430\u0439\u0441\u043a</td>\n",
        "      <td>...</td>\n",
        "      <td>     geonames_jsons/\u041c\u043e\u0436\u0430\u0439\u0441\u043a_437.json</td>\n",
        "      <td> geonames</td>\n",
        "      <td> \u041c\u043e\u0441\u043a\u043e\u0432\u0441\u043a\u043e\u0439 \u0413\u0443\u0431\u0435\u0440\u043d\u0456\u0438</td>\n",
        "      <td> \u041c\u043e\u0441\u043a\u043e\u0432\u0441\u043a\u043e\u0439 \u0413\u0443\u0431\u0435\u0440\u043d\u0438\u0438</td>\n",
        "      <td> \u043c\u043e\u0441\u043a\u043e\u0432\u0441\u043a</td>\n",
        "      <td> not_in_text</td>\n",
        "      <td> not_\u0438n_text</td>\n",
        "      <td> \u043d\u043e\u0442_\u0438\u043d_\u0442\u0435x\u0442</td>\n",
        "      <td>  75</td>\n",
        "      <td>    Mozhaisk\"</td>\n",
        "    </tr>\n",
        "    <tr>\n",
        "      <th>1610</th>\n",
        "      <td> 543</td>\n",
        "      <td>       \u041f\u043e\u0434\u043e\u043b\u044a</td>\n",
        "      <td> None</td>\n",
        "      <td> 1</td>\n",
        "      <td> 37.55472</td>\n",
        "      <td> 55.42418</td>\n",
        "      <td> \u0433\u043e\u0440\u043e\u0434\u044a</td>\n",
        "      <td> http://babel.hathitrust.org/cgi/pt?id=uc1.b458...</td>\n",
        "      <td> \u041f\u041e\u0414\u041e\u041b\u042a, \u0433\u043e\u0440\u043e\u0434\u044a \u041c\u043e\u0441\u043a\u043e\u0432\u0441\u043a\u043e\u0439 \u0413\u0443\u0431\u0435\u0440\u043d\u0456\u0438. \u0412\u044a \u043d\u0435\u043c\u044a \u043a\u0430...</td>\n",
        "      <td>       \u041f\u043e\u0434\u043e\u043b</td>\n",
        "      <td>...</td>\n",
        "      <td>       geonames_jsons/\u041f\u043e\u0434\u043e\u043b_543.json</td>\n",
        "      <td> geonames</td>\n",
        "      <td> \u041c\u043e\u0441\u043a\u043e\u0432\u0441\u043a\u043e\u0439 \u0413\u0443\u0431\u0435\u0440\u043d\u0456\u0438</td>\n",
        "      <td> \u041c\u043e\u0441\u043a\u043e\u0432\u0441\u043a\u043e\u0439 \u0413\u0443\u0431\u0435\u0440\u043d\u0438\u0438</td>\n",
        "      <td> \u043c\u043e\u0441\u043a\u043e\u0432\u0441\u043a</td>\n",
        "      <td> not_in_text</td>\n",
        "      <td> not_\u0438n_text</td>\n",
        "      <td> \u043d\u043e\u0442_\u0438\u043d_\u0442\u0435x\u0442</td>\n",
        "      <td>  90</td>\n",
        "      <td>       Podol\"</td>\n",
        "    </tr>\n",
        "    <tr>\n",
        "      <th>1611</th>\n",
        "      <td> 543</td>\n",
        "      <td>       \u041f\u043e\u0434\u043e\u043b\u044a</td>\n",
        "      <td> None</td>\n",
        "      <td> 1</td>\n",
        "      <td> 40.33333</td>\n",
        "      <td> 56.01667</td>\n",
        "      <td> \u0433\u043e\u0440\u043e\u0434\u044a</td>\n",
        "      <td> http://babel.hathitrust.org/cgi/pt?id=uc1.b458...</td>\n",
        "      <td> \u041f\u041e\u0414\u041e\u041b\u042a, \u0433\u043e\u0440\u043e\u0434\u044a \u041c\u043e\u0441\u043a\u043e\u0432\u0441\u043a\u043e\u0439 \u0413\u0443\u0431\u0435\u0440\u043d\u0456\u0438. \u0412\u044a \u043d\u0435\u043c\u044a \u043a\u0430...</td>\n",
        "      <td>       \u041f\u043e\u0434\u043e\u043b</td>\n",
        "      <td>...</td>\n",
        "      <td>       geonames_jsons/\u041f\u043e\u0434\u043e\u043b_543.json</td>\n",
        "      <td> geonames</td>\n",
        "      <td> \u041c\u043e\u0441\u043a\u043e\u0432\u0441\u043a\u043e\u0439 \u0413\u0443\u0431\u0435\u0440\u043d\u0456\u0438</td>\n",
        "      <td> \u041c\u043e\u0441\u043a\u043e\u0432\u0441\u043a\u043e\u0439 \u0413\u0443\u0431\u0435\u0440\u043d\u0438\u0438</td>\n",
        "      <td> \u043c\u043e\u0441\u043a\u043e\u0432\u0441\u043a</td>\n",
        "      <td> not_in_text</td>\n",
        "      <td> not_\u0438n_text</td>\n",
        "      <td> \u043d\u043e\u0442_\u0438\u043d_\u0442\u0435x\u0442</td>\n",
        "      <td>  90</td>\n",
        "      <td>       Podol\"</td>\n",
        "    </tr>\n",
        "    <tr>\n",
        "      <th>1612</th>\n",
        "      <td> 543</td>\n",
        "      <td>       \u041f\u043e\u0434\u043e\u043b\u044a</td>\n",
        "      <td> None</td>\n",
        "      <td> 1</td>\n",
        "      <td> 35.98975</td>\n",
        "      <td> 54.91086</td>\n",
        "      <td> \u0433\u043e\u0440\u043e\u0434\u044a</td>\n",
        "      <td> http://babel.hathitrust.org/cgi/pt?id=uc1.b458...</td>\n",
        "      <td> \u041f\u041e\u0414\u041e\u041b\u042a, \u0433\u043e\u0440\u043e\u0434\u044a \u041c\u043e\u0441\u043a\u043e\u0432\u0441\u043a\u043e\u0439 \u0413\u0443\u0431\u0435\u0440\u043d\u0456\u0438. \u0412\u044a \u043d\u0435\u043c\u044a \u043a\u0430...</td>\n",
        "      <td>       \u041f\u043e\u0434\u043e\u043b</td>\n",
        "      <td>...</td>\n",
        "      <td>       geonames_jsons/\u041f\u043e\u0434\u043e\u043b_543.json</td>\n",
        "      <td> geonames</td>\n",
        "      <td> \u041c\u043e\u0441\u043a\u043e\u0432\u0441\u043a\u043e\u0439 \u0413\u0443\u0431\u0435\u0440\u043d\u0456\u0438</td>\n",
        "      <td> \u041c\u043e\u0441\u043a\u043e\u0432\u0441\u043a\u043e\u0439 \u0413\u0443\u0431\u0435\u0440\u043d\u0438\u0438</td>\n",
        "      <td> \u043c\u043e\u0441\u043a\u043e\u0432\u0441\u043a</td>\n",
        "      <td> not_in_text</td>\n",
        "      <td> not_\u0438n_text</td>\n",
        "      <td> \u043d\u043e\u0442_\u0438\u043d_\u0442\u0435x\u0442</td>\n",
        "      <td>  90</td>\n",
        "      <td>       Podol\"</td>\n",
        "    </tr>\n",
        "    <tr>\n",
        "      <th>1613</th>\n",
        "      <td> 543</td>\n",
        "      <td>       \u041f\u043e\u0434\u043e\u043b\u044a</td>\n",
        "      <td> None</td>\n",
        "      <td> 1</td>\n",
        "      <td> 34.75433</td>\n",
        "      <td> 55.85931</td>\n",
        "      <td> \u0433\u043e\u0440\u043e\u0434\u044a</td>\n",
        "      <td> http://babel.hathitrust.org/cgi/pt?id=uc1.b458...</td>\n",
        "      <td> \u041f\u041e\u0414\u041e\u041b\u042a, \u0433\u043e\u0440\u043e\u0434\u044a \u041c\u043e\u0441\u043a\u043e\u0432\u0441\u043a\u043e\u0439 \u0413\u0443\u0431\u0435\u0440\u043d\u0456\u0438. \u0412\u044a \u043d\u0435\u043c\u044a \u043a\u0430...</td>\n",
        "      <td>       \u041f\u043e\u0434\u043e\u043b</td>\n",
        "      <td>...</td>\n",
        "      <td>       geonames_jsons/\u041f\u043e\u0434\u043e\u043b_543.json</td>\n",
        "      <td> geonames</td>\n",
        "      <td> \u041c\u043e\u0441\u043a\u043e\u0432\u0441\u043a\u043e\u0439 \u0413\u0443\u0431\u0435\u0440\u043d\u0456\u0438</td>\n",
        "      <td> \u041c\u043e\u0441\u043a\u043e\u0432\u0441\u043a\u043e\u0439 \u0413\u0443\u0431\u0435\u0440\u043d\u0438\u0438</td>\n",
        "      <td> \u043c\u043e\u0441\u043a\u043e\u0432\u0441\u043a</td>\n",
        "      <td> not_in_text</td>\n",
        "      <td> not_\u0438n_text</td>\n",
        "      <td> \u043d\u043e\u0442_\u0438\u043d_\u0442\u0435x\u0442</td>\n",
        "      <td>  90</td>\n",
        "      <td>       Podol\"</td>\n",
        "    </tr>\n",
        "    <tr>\n",
        "      <th>1798</th>\n",
        "      <td> 588</td>\n",
        "      <td>         \u0420\u0443\u0437\u0430</td>\n",
        "      <td> None</td>\n",
        "      <td> 1</td>\n",
        "      <td> 36.19522</td>\n",
        "      <td> 55.69898</td>\n",
        "      <td> \u0433\u043e\u0440\u043e\u0434\u044a</td>\n",
        "      <td> http://babel.hathitrust.org/cgi/pt?id=uc1.b458...</td>\n",
        "      <td> \u0420\u0423\u0417\u0410 , \u0433\u043e\u0440\u043e\u0434\u044a \u041c\u043e\u0441\u043a\u043e\u0432\u0441\u043a\u043e\u0439 \u0413\u0443\u0431\u0435\u0440\u043d\u0456\u0438. \u0412\u044a \u043e\u043d\u043e\u043c\u044a \u0432\u044a...</td>\n",
        "      <td>        \u0420\u0443\u0437\u0430</td>\n",
        "      <td>...</td>\n",
        "      <td>        geonames_jsons/\u0420\u0443\u0437\u0430_588.json</td>\n",
        "      <td> geonames</td>\n",
        "      <td> \u041c\u043e\u0441\u043a\u043e\u0432\u0441\u043a\u043e\u0439 \u0413\u0443\u0431\u0435\u0440\u043d\u0456\u0438</td>\n",
        "      <td> \u041c\u043e\u0441\u043a\u043e\u0432\u0441\u043a\u043e\u0439 \u0413\u0443\u0431\u0435\u0440\u043d\u0438\u0438</td>\n",
        "      <td> \u043c\u043e\u0441\u043a\u043e\u0432\u0441\u043a</td>\n",
        "      <td> not_in_text</td>\n",
        "      <td> not_\u0438n_text</td>\n",
        "      <td> \u043d\u043e\u0442_\u0438\u043d_\u0442\u0435x\u0442</td>\n",
        "      <td>  98</td>\n",
        "      <td>         Ruza</td>\n",
        "    </tr>\n",
        "    <tr>\n",
        "      <th>1799</th>\n",
        "      <td> 588</td>\n",
        "      <td>         \u0420\u0443\u0437\u0430</td>\n",
        "      <td> None</td>\n",
        "      <td> 1</td>\n",
        "      <td> 36.33105</td>\n",
        "      <td> 55.64929</td>\n",
        "      <td> \u0433\u043e\u0440\u043e\u0434\u044a</td>\n",
        "      <td> http://babel.hathitrust.org/cgi/pt?id=uc1.b458...</td>\n",
        "      <td> \u0420\u0423\u0417\u0410 , \u0433\u043e\u0440\u043e\u0434\u044a \u041c\u043e\u0441\u043a\u043e\u0432\u0441\u043a\u043e\u0439 \u0413\u0443\u0431\u0435\u0440\u043d\u0456\u0438. \u0412\u044a \u043e\u043d\u043e\u043c\u044a \u0432\u044a...</td>\n",
        "      <td>        \u0420\u0443\u0437\u0430</td>\n",
        "      <td>...</td>\n",
        "      <td>        geonames_jsons/\u0420\u0443\u0437\u0430_588.json</td>\n",
        "      <td> geonames</td>\n",
        "      <td> \u041c\u043e\u0441\u043a\u043e\u0432\u0441\u043a\u043e\u0439 \u0413\u0443\u0431\u0435\u0440\u043d\u0456\u0438</td>\n",
        "      <td> \u041c\u043e\u0441\u043a\u043e\u0432\u0441\u043a\u043e\u0439 \u0413\u0443\u0431\u0435\u0440\u043d\u0438\u0438</td>\n",
        "      <td> \u043c\u043e\u0441\u043a\u043e\u0432\u0441\u043a</td>\n",
        "      <td> not_in_text</td>\n",
        "      <td> not_\u0438n_text</td>\n",
        "      <td> \u043d\u043e\u0442_\u0438\u043d_\u0442\u0435x\u0442</td>\n",
        "      <td>  98</td>\n",
        "      <td>         Ruza</td>\n",
        "    </tr>\n",
        "    <tr>\n",
        "      <th>1891</th>\n",
        "      <td> 627</td>\n",
        "      <td>    \u0421\u0435\u0440\u043f\u0443\u0445\u043e\u0432\u044a</td>\n",
        "      <td> None</td>\n",
        "      <td> 1</td>\n",
        "      <td> 37.41114</td>\n",
        "      <td> 54.91578</td>\n",
        "      <td> \u0433\u043e\u0440\u043e\u0434\u044a</td>\n",
        "      <td> http://babel.hathitrust.org/cgi/pt?id=uc1.b458...</td>\n",
        "      <td> \u0421\u0415\u0420\u041f\u0423\u0425\u041e\u0412\u042a, \u0441\u044a 1782 \u0433\u043e\u0434\u0443 \u0433\u043e\u0440\u043e\u0434\u044a \u041c\u043e\u0441\u043a\u043e\u0432\u0441\u043a\u043e\u0439 \u0413\u0443\u0431\u0435...</td>\n",
        "      <td>    \u0421\u0435\u0440\u043f\u0443\u0445\u043e\u0432</td>\n",
        "      <td>...</td>\n",
        "      <td>    geonames_jsons/\u0421\u0435\u0440\u043f\u0443\u0445\u043e\u0432_627.json</td>\n",
        "      <td> geonames</td>\n",
        "      <td> \u041c\u043e\u0441\u043a\u043e\u0432\u0441\u043a\u043e\u0439 \u0413\u0443\u0431\u0435\u0440\u043d\u0456\u0438</td>\n",
        "      <td> \u041c\u043e\u0441\u043a\u043e\u0432\u0441\u043a\u043e\u0439 \u0413\u0443\u0431\u0435\u0440\u043d\u0438\u0438</td>\n",
        "      <td> \u043c\u043e\u0441\u043a\u043e\u0432\u0441\u043a</td>\n",
        "      <td> not_in_text</td>\n",
        "      <td> not_\u0438n_text</td>\n",
        "      <td> \u043d\u043e\u0442_\u0438\u043d_\u0442\u0435x\u0442</td>\n",
        "      <td> 106</td>\n",
        "      <td>   Serpukhov\"</td>\n",
        "    </tr>\n",
        "  </tbody>\n",
        "</table>\n",
        "<p>29 rows \u00d7 27 columns</p>\n",
        "</div>"
       ],
       "metadata": {},
       "output_type": "pyout",
       "prompt_number": 83,
       "text": [
        "      hgr_id          name alt_name  partof_id       lng       lat   _type  \\\n",
        "143       57    \u0411\u043e\u0433\u043e\u0440\u043e\u0434\u0441\u043a\u044a     None          1     38.45     55.85  \u0433\u043e\u0440\u043e\u0434\u044a   \n",
        "164       73      \u0411\u0440\u043e\u043d\u043d\u0438\u0446\u044b     None          1  38.26188  55.42112  \u0433\u043e\u0440\u043e\u0434\u044a   \n",
        "238      107         \u0412\u0435\u0440\u0435\u044f     None          1  39.09766  55.77373  \u0433\u043e\u0440\u043e\u0434\u044a   \n",
        "239      107         \u0412\u0435\u0440\u0435\u044f     None          1  36.17194  55.34472  \u0433\u043e\u0440\u043e\u0434\u044a   \n",
        "240      107         \u0412\u0435\u0440\u0435\u044f     None          1  38.03917  55.61472  \u0433\u043e\u0440\u043e\u0434\u044a   \n",
        "252      117  \u0412\u043e\u043b\u043e\u043a\u043e\u043b\u0430\u043c\u0441\u043a\u044a     None          1  35.96944  56.03361  \u0433\u043e\u0440\u043e\u0434\u044a   \n",
        "253      117  \u0412\u043e\u043b\u043e\u043a\u043e\u043b\u0430\u043c\u0441\u043a\u044a     None          1  35.92156  56.00011  \u0433\u043e\u0440\u043e\u0434\u044a   \n",
        "272      127  \u0412\u043e\u0441\u043a\u0440\u0435\u0441\u0435\u043d\u0441\u043a\u044a     None          1  38.65264  55.31733  \u0433\u043e\u0440\u043e\u0434\u044a   \n",
        "273      127  \u0412\u043e\u0441\u043a\u0440\u0435\u0441\u0435\u043d\u0441\u043a\u044a     None          1  34.93861  55.64583  \u0433\u043e\u0440\u043e\u0434\u044a   \n",
        "274      127  \u0412\u043e\u0441\u043a\u0440\u0435\u0441\u0435\u043d\u0441\u043a\u044a     None          1  35.11667  54.98333  \u0433\u043e\u0440\u043e\u0434\u044a   \n",
        "275      127  \u0412\u043e\u0441\u043a\u0440\u0435\u0441\u0435\u043d\u0441\u043a\u044a     None          1  36.63196  55.84154  \u0433\u043e\u0440\u043e\u0434\u044a   \n",
        "276      127  \u0412\u043e\u0441\u043a\u0440\u0435\u0441\u0435\u043d\u0441\u043a\u044a     None          1  36.86867  55.91997  \u0433\u043e\u0440\u043e\u0434\u044a   \n",
        "510      191      \u0414\u043c\u0438\u0442\u0440\u043e\u0432\u044a     None          1  37.52041  56.34485  \u0433\u043e\u0440\u043e\u0434\u044a   \n",
        "589      234   \u0417\u0432\u0435\u043d\u0438\u0433\u043e\u0440\u043e\u0434\u044a     None          1  36.85918  55.73402  \u0433\u043e\u0440\u043e\u0434\u044a   \n",
        "899      300         \u041a\u043b\u0438\u043d\u044a     None          1  36.73333  56.33333  \u0433\u043e\u0440\u043e\u0434\u044a   \n",
        "900      300         \u041a\u043b\u0438\u043d\u044a     None          1     39.85  55.18333  \u0433\u043e\u0440\u043e\u0434\u044a   \n",
        "901      300         \u041a\u043b\u0438\u043d\u044a     None          1  38.13949   54.3836  \u0433\u043e\u0440\u043e\u0434\u044a   \n",
        "902      300         \u041a\u043b\u0438\u043d\u044a     None          1  36.33333  55.31667  \u0433\u043e\u0440\u043e\u0434\u044a   \n",
        "903      300         \u041a\u043b\u0438\u043d\u044a     None          1  39.22319  54.74463  \u0433\u043e\u0440\u043e\u0434\u044a   \n",
        "904      300         \u041a\u043b\u0438\u043d\u044a     None          1   39.4779   56.4489  \u0433\u043e\u0440\u043e\u0434\u044a   \n",
        "943      315       \u041a\u043e\u043b\u043e\u043c\u043d\u0430     None          1  38.77833  55.07944  \u0433\u043e\u0440\u043e\u0434\u044a   \n",
        "1333     437      \u041c\u043e\u0436\u0430\u0439\u0441\u043a\u044a     None          1  36.02722  55.50194  \u0433\u043e\u0440\u043e\u0434\u044a   \n",
        "1610     543        \u041f\u043e\u0434\u043e\u043b\u044a     None          1  37.55472  55.42418  \u0433\u043e\u0440\u043e\u0434\u044a   \n",
        "1611     543        \u041f\u043e\u0434\u043e\u043b\u044a     None          1  40.33333  56.01667  \u0433\u043e\u0440\u043e\u0434\u044a   \n",
        "1612     543        \u041f\u043e\u0434\u043e\u043b\u044a     None          1  35.98975  54.91086  \u0433\u043e\u0440\u043e\u0434\u044a   \n",
        "1613     543        \u041f\u043e\u0434\u043e\u043b\u044a     None          1  34.75433  55.85931  \u0433\u043e\u0440\u043e\u0434\u044a   \n",
        "1798     588          \u0420\u0443\u0437\u0430     None          1  36.19522  55.69898  \u0433\u043e\u0440\u043e\u0434\u044a   \n",
        "1799     588          \u0420\u0443\u0437\u0430     None          1  36.33105  55.64929  \u0433\u043e\u0440\u043e\u0434\u044a   \n",
        "1891     627     \u0421\u0435\u0440\u043f\u0443\u0445\u043e\u0432\u044a     None          1  37.41114  54.91578  \u0433\u043e\u0440\u043e\u0434\u044a   \n",
        "\n",
        "                                             source_url  \\\n",
        "143   http://babel.hathitrust.org/cgi/pt?id=uc1.b458...   \n",
        "164   http://babel.hathitrust.org/cgi/pt?id=uc1.b458...   \n",
        "238   http://babel.hathitrust.org/cgi/pt?id=uc1.b458...   \n",
        "239   http://babel.hathitrust.org/cgi/pt?id=uc1.b458...   \n",
        "240   http://babel.hathitrust.org/cgi/pt?id=uc1.b458...   \n",
        "252   http://babel.hathitrust.org/cgi/pt?id=uc1.b458...   \n",
        "253   http://babel.hathitrust.org/cgi/pt?id=uc1.b458...   \n",
        "272   http://babel.hathitrust.org/cgi/pt?id=uc1.b458...   \n",
        "273   http://babel.hathitrust.org/cgi/pt?id=uc1.b458...   \n",
        "274   http://babel.hathitrust.org/cgi/pt?id=uc1.b458...   \n",
        "275   http://babel.hathitrust.org/cgi/pt?id=uc1.b458...   \n",
        "276   http://babel.hathitrust.org/cgi/pt?id=uc1.b458...   \n",
        "510   http://babel.hathitrust.org/cgi/pt?id=uc1.b458...   \n",
        "589   http://babel.hathitrust.org/cgi/pt?id=uc1.b458...   \n",
        "899   http://babel.hathitrust.org/cgi/pt?id=uc1.b458...   \n",
        "900   http://babel.hathitrust.org/cgi/pt?id=uc1.b458...   \n",
        "901   http://babel.hathitrust.org/cgi/pt?id=uc1.b458...   \n",
        "902   http://babel.hathitrust.org/cgi/pt?id=uc1.b458...   \n",
        "903   http://babel.hathitrust.org/cgi/pt?id=uc1.b458...   \n",
        "904   http://babel.hathitrust.org/cgi/pt?id=uc1.b458...   \n",
        "943   http://babel.hathitrust.org/cgi/pt?id=uc1.b458...   \n",
        "1333  http://babel.hathitrust.org/cgi/pt?id=uc1.b458...   \n",
        "1610  http://babel.hathitrust.org/cgi/pt?id=uc1.b458...   \n",
        "1611  http://babel.hathitrust.org/cgi/pt?id=uc1.b458...   \n",
        "1612  http://babel.hathitrust.org/cgi/pt?id=uc1.b458...   \n",
        "1613  http://babel.hathitrust.org/cgi/pt?id=uc1.b458...   \n",
        "1798  http://babel.hathitrust.org/cgi/pt?id=uc1.b458...   \n",
        "1799  http://babel.hathitrust.org/cgi/pt?id=uc1.b458...   \n",
        "1891  http://babel.hathitrust.org/cgi/pt?id=uc1.b458...   \n",
        "\n",
        "                                                   text name_modern_sp  \\\n",
        "143   \u0411\u041e\u0413\u041e\u0420\u041e\u0414\u0421\u041a\u042a, \u0433\u043e\u0440\u043e\u0434\u044a \u041c\u043e\u0441\u043a\u043e\u0432\u0441\u043a\u043e\u0439 \u0413\u0443\u0431\u0435\u0440\u043d\u0456\u0438. \u0412\u044a \u043d\u0435\u043c...      \u0411\u043e\u0433\u043e\u0440\u043e\u0434\u0441\u043a   \n",
        "164   \u0411\u0420\u041e\u041d\u041d\u0418\u0426\u042b, \u0433\u043e\u0440\u043e\u0434\u044a \u041c\u043e\u0441\u043a\u043e\u0432\u0441\u043a\u043e\u0439 \u0413\u0443\u0431\u0435\u0440\u043d\u0456\u0438. \u0412\u044a \u043d\u0435\u043c\u044a,...       \u0411\u0440\u043e\u043d\u043d\u0438\u0446\u044b   \n",
        "238   \u0412\u0415\u0420\u0415\u042f, \u0433\u043e\u0440\u043e\u0434\u044a \u041c\u043e\u0441\u043a\u043e\u0432\u0441\u043a\u043e\u0439 \u0413\u0443\u0431\u0435\u0440\u043d\u0456\u0438 \u0438 \u041f\u0440\u043e\u0432\u0438\u043d\u0446\u0456\u0438....          \u0412\u0435\u0440\u0435\u044f   \n",
        "239   \u0412\u0415\u0420\u0415\u042f, \u0433\u043e\u0440\u043e\u0434\u044a \u041c\u043e\u0441\u043a\u043e\u0432\u0441\u043a\u043e\u0439 \u0413\u0443\u0431\u0435\u0440\u043d\u0456\u0438 \u0438 \u041f\u0440\u043e\u0432\u0438\u043d\u0446\u0456\u0438....          \u0412\u0435\u0440\u0435\u044f   \n",
        "240   \u0412\u0415\u0420\u0415\u042f, \u0433\u043e\u0440\u043e\u0434\u044a \u041c\u043e\u0441\u043a\u043e\u0432\u0441\u043a\u043e\u0439 \u0413\u0443\u0431\u0435\u0440\u043d\u0456\u0438 \u0438 \u041f\u0440\u043e\u0432\u0438\u043d\u0446\u0456\u0438....          \u0412\u0435\u0440\u0435\u044f   \n",
        "252   \u0412\u041e\u041b\u041e\u041a\u041e\u041b\u0410\u041c\u0421\u041a\u042a, \u0433\u043e\u0440\u043e\u0434\u044a \u041c\u043e\u0441\u043a\u043e\u0432\u0441\u043a\u043e\u0439 \u0413\u0443\u0431\u0435\u0440\u043d\u0456\u0438 \u0438 \u041f\u0440\u043e...    \u0412\u043e\u043b\u043e\u043a\u043e\u043b\u0430\u043c\u0441\u043a   \n",
        "253   \u0412\u041e\u041b\u041e\u041a\u041e\u041b\u0410\u041c\u0421\u041a\u042a, \u0433\u043e\u0440\u043e\u0434\u044a \u041c\u043e\u0441\u043a\u043e\u0432\u0441\u043a\u043e\u0439 \u0413\u0443\u0431\u0435\u0440\u043d\u0456\u0438 \u0438 \u041f\u0440\u043e...    \u0412\u043e\u043b\u043e\u043a\u043e\u043b\u0430\u043c\u0441\u043a   \n",
        "272   \u0412\u041e\u0421\u041a\u0420\u0415\u0421\u0415\u041d\u0421\u041a\u042a, \u0433\u043e\u0440\u043e\u0434\u044a \u041c\u043e\u0441\u043a\u043e\u0432\u0441\u043a\u043e\u0439 \u0413\u0443\u0431\u0435\u0440\u043d\u0456\u0438. \u0412\u044a \u043d...    \u0412\u043e\u0441\u043a\u0440\u0435\u0441\u0435\u043d\u0441\u043a   \n",
        "273   \u0412\u041e\u0421\u041a\u0420\u0415\u0421\u0415\u041d\u0421\u041a\u042a, \u0433\u043e\u0440\u043e\u0434\u044a \u041c\u043e\u0441\u043a\u043e\u0432\u0441\u043a\u043e\u0439 \u0413\u0443\u0431\u0435\u0440\u043d\u0456\u0438. \u0412\u044a \u043d...    \u0412\u043e\u0441\u043a\u0440\u0435\u0441\u0435\u043d\u0441\u043a   \n",
        "274   \u0412\u041e\u0421\u041a\u0420\u0415\u0421\u0415\u041d\u0421\u041a\u042a, \u0433\u043e\u0440\u043e\u0434\u044a \u041c\u043e\u0441\u043a\u043e\u0432\u0441\u043a\u043e\u0439 \u0413\u0443\u0431\u0435\u0440\u043d\u0456\u0438. \u0412\u044a \u043d...    \u0412\u043e\u0441\u043a\u0440\u0435\u0441\u0435\u043d\u0441\u043a   \n",
        "275   \u0412\u041e\u0421\u041a\u0420\u0415\u0421\u0415\u041d\u0421\u041a\u042a, \u0433\u043e\u0440\u043e\u0434\u044a \u041c\u043e\u0441\u043a\u043e\u0432\u0441\u043a\u043e\u0439 \u0413\u0443\u0431\u0435\u0440\u043d\u0456\u0438. \u0412\u044a \u043d...    \u0412\u043e\u0441\u043a\u0440\u0435\u0441\u0435\u043d\u0441\u043a   \n",
        "276   \u0412\u041e\u0421\u041a\u0420\u0415\u0421\u0415\u041d\u0421\u041a\u042a, \u0433\u043e\u0440\u043e\u0434\u044a \u041c\u043e\u0441\u043a\u043e\u0432\u0441\u043a\u043e\u0439 \u0413\u0443\u0431\u0435\u0440\u043d\u0456\u0438. \u0412\u044a \u043d...    \u0412\u043e\u0441\u043a\u0440\u0435\u0441\u0435\u043d\u0441\u043a   \n",
        "510   \u0414\u041c\u0418\u0422\u0420\u041e\u0412\u042a, \u0433\u043e\u0440\u043e\u0434\u044a \u041c\u043e\u0441\u043a\u043e\u0432\u0441\u043a\u043e\u0439 \u0413\u0443\u0431\u0435\u0440\u043d\u0456\u0438. \u0412\u044a \u043e\u043d\u043e\u043c\u044a...        \u0414\u043c\u0438\u0442\u0440\u043e\u0432   \n",
        "589   \u0417\u0412\u0415\u041d\u0418\u0413\u041e\u0420\u041e\u0414\u042a, \u0433\u043e\u0440\u043e\u0434\u044a \u041c\u043e\u0441\u043a\u043e\u0432\u0441\u043a\u043e\u0439 \u0413\u0443\u0431\u0435\u0440\u043d\u0456\u0438. \u0411\u044b\u0432\u0430\u0435...     \u0417\u0432\u0435\u043d\u0438\u0433\u043e\u0440\u043e\u0434   \n",
        "899   \u041a\u041b\u0418\u041d\u042a, \u0433\u043e\u0440\u043e\u0434\u044a \u041c\u043e\u0441\u043a\u043e\u0432\u0441\u043a\u043e\u0439 \u0413\u0443\u0431\u0435\u0440\u043d\u0456\u0438. \u0412\u044a \u043e\u043d\u043e\u043c\u044a \u0431\u044b...           \u041a\u043b\u0438\u043d   \n",
        "900   \u041a\u041b\u0418\u041d\u042a, \u0433\u043e\u0440\u043e\u0434\u044a \u041c\u043e\u0441\u043a\u043e\u0432\u0441\u043a\u043e\u0439 \u0413\u0443\u0431\u0435\u0440\u043d\u0456\u0438. \u0412\u044a \u043e\u043d\u043e\u043c\u044a \u0431\u044b...           \u041a\u043b\u0438\u043d   \n",
        "901   \u041a\u041b\u0418\u041d\u042a, \u0433\u043e\u0440\u043e\u0434\u044a \u041c\u043e\u0441\u043a\u043e\u0432\u0441\u043a\u043e\u0439 \u0413\u0443\u0431\u0435\u0440\u043d\u0456\u0438. \u0412\u044a \u043e\u043d\u043e\u043c\u044a \u0431\u044b...           \u041a\u043b\u0438\u043d   \n",
        "902   \u041a\u041b\u0418\u041d\u042a, \u0433\u043e\u0440\u043e\u0434\u044a \u041c\u043e\u0441\u043a\u043e\u0432\u0441\u043a\u043e\u0439 \u0413\u0443\u0431\u0435\u0440\u043d\u0456\u0438. \u0412\u044a \u043e\u043d\u043e\u043c\u044a \u0431\u044b...           \u041a\u043b\u0438\u043d   \n",
        "903   \u041a\u041b\u0418\u041d\u042a, \u0433\u043e\u0440\u043e\u0434\u044a \u041c\u043e\u0441\u043a\u043e\u0432\u0441\u043a\u043e\u0439 \u0413\u0443\u0431\u0435\u0440\u043d\u0456\u0438. \u0412\u044a \u043e\u043d\u043e\u043c\u044a \u0431\u044b...           \u041a\u043b\u0438\u043d   \n",
        "904   \u041a\u041b\u0418\u041d\u042a, \u0433\u043e\u0440\u043e\u0434\u044a \u041c\u043e\u0441\u043a\u043e\u0432\u0441\u043a\u043e\u0439 \u0413\u0443\u0431\u0435\u0440\u043d\u0456\u0438. \u0412\u044a \u043e\u043d\u043e\u043c\u044a \u0431\u044b...           \u041a\u043b\u0438\u043d   \n",
        "943   \u041a\u041e\u041b\u041e\u041c\u041d\u0410, \u0433\u043e\u0440\u043e\u0434\u044a \u041c\u043e\u0441\u043a\u043e\u0432\u0441\u043a\u043e\u0439 \u0413\u0443\u0431\u0435\u0440\u043d\u0456\u0438. \u0412\u044a \u043d\u0435\u043c\u044a \u0435...        \u041a\u043e\u043b\u043e\u043c\u043d\u0430   \n",
        "1333  \u041c\u041e\u0416\u0410\u0419\u0421\u041a\u042a, \u0433\u043e\u0440\u043e\u0434\u044a \u041c\u043e\u0441\u043a\u043e\u0432\u0441\u043a\u043e\u0439 \u0413\u0443\u0431\u0435\u0440\u043d\u0456\u0438. \u0412\u044a \u043e\u043d\u043e\u043c\u044a...        \u041c\u043e\u0436\u0430\u0439\u0441\u043a   \n",
        "1610  \u041f\u041e\u0414\u041e\u041b\u042a, \u0433\u043e\u0440\u043e\u0434\u044a \u041c\u043e\u0441\u043a\u043e\u0432\u0441\u043a\u043e\u0439 \u0413\u0443\u0431\u0435\u0440\u043d\u0456\u0438. \u0412\u044a \u043d\u0435\u043c\u044a \u043a\u0430...          \u041f\u043e\u0434\u043e\u043b   \n",
        "1611  \u041f\u041e\u0414\u041e\u041b\u042a, \u0433\u043e\u0440\u043e\u0434\u044a \u041c\u043e\u0441\u043a\u043e\u0432\u0441\u043a\u043e\u0439 \u0413\u0443\u0431\u0435\u0440\u043d\u0456\u0438. \u0412\u044a \u043d\u0435\u043c\u044a \u043a\u0430...          \u041f\u043e\u0434\u043e\u043b   \n",
        "1612  \u041f\u041e\u0414\u041e\u041b\u042a, \u0433\u043e\u0440\u043e\u0434\u044a \u041c\u043e\u0441\u043a\u043e\u0432\u0441\u043a\u043e\u0439 \u0413\u0443\u0431\u0435\u0440\u043d\u0456\u0438. \u0412\u044a \u043d\u0435\u043c\u044a \u043a\u0430...          \u041f\u043e\u0434\u043e\u043b   \n",
        "1613  \u041f\u041e\u0414\u041e\u041b\u042a, \u0433\u043e\u0440\u043e\u0434\u044a \u041c\u043e\u0441\u043a\u043e\u0432\u0441\u043a\u043e\u0439 \u0413\u0443\u0431\u0435\u0440\u043d\u0456\u0438. \u0412\u044a \u043d\u0435\u043c\u044a \u043a\u0430...          \u041f\u043e\u0434\u043e\u043b   \n",
        "1798  \u0420\u0423\u0417\u0410 , \u0433\u043e\u0440\u043e\u0434\u044a \u041c\u043e\u0441\u043a\u043e\u0432\u0441\u043a\u043e\u0439 \u0413\u0443\u0431\u0435\u0440\u043d\u0456\u0438. \u0412\u044a \u043e\u043d\u043e\u043c\u044a \u0432\u044a...           \u0420\u0443\u0437\u0430   \n",
        "1799  \u0420\u0423\u0417\u0410 , \u0433\u043e\u0440\u043e\u0434\u044a \u041c\u043e\u0441\u043a\u043e\u0432\u0441\u043a\u043e\u0439 \u0413\u0443\u0431\u0435\u0440\u043d\u0456\u0438. \u0412\u044a \u043e\u043d\u043e\u043c\u044a \u0432\u044a...           \u0420\u0443\u0437\u0430   \n",
        "1891  \u0421\u0415\u0420\u041f\u0423\u0425\u041e\u0412\u042a, \u0441\u044a 1782 \u0433\u043e\u0434\u0443 \u0433\u043e\u0440\u043e\u0434\u044a \u041c\u043e\u0441\u043a\u043e\u0432\u0441\u043a\u043e\u0439 \u0413\u0443\u0431\u0435...       \u0421\u0435\u0440\u043f\u0443\u0445\u043e\u0432   \n",
        "\n",
        "          ...                               local_result       src  \\\n",
        "143       ...           geonames_jsons/\u0411\u043e\u0433\u043e\u0440\u043e\u0434\u0441\u043a_57.json  geonames   \n",
        "164       ...            geonames_jsons/\u0411\u0440\u043e\u043d\u043d\u0438\u0446\u044b_73.json  geonames   \n",
        "238       ...              geonames_jsons/\u0412\u0435\u0440\u0435\u044f_107.json  geonames   \n",
        "239       ...              geonames_jsons/\u0412\u0435\u0440\u0435\u044f_107.json  geonames   \n",
        "240       ...              geonames_jsons/\u0412\u0435\u0440\u0435\u044f_107.json  geonames   \n",
        "252       ...        geonames_jsons/\u0412\u043e\u043b\u043e\u043a\u043e\u043b\u0430\u043c\u0441\u043a_117.json  geonames   \n",
        "253       ...        geonames_jsons/\u0412\u043e\u043b\u043e\u043a\u043e\u043b\u0430\u043c\u0441\u043a_117.json  geonames   \n",
        "272       ...        geonames_jsons/\u0412\u043e\u0441\u043a\u0440\u0435\u0441\u0435\u043d\u0441\u043a_127.json  geonames   \n",
        "273       ...        geonames_jsons/\u0412\u043e\u0441\u043a\u0440\u0435\u0441\u0435\u043d\u0441\u043a_127.json  geonames   \n",
        "274       ...        geonames_jsons/\u0412\u043e\u0441\u043a\u0440\u0435\u0441\u0435\u043d\u0441\u043a_127.json  geonames   \n",
        "275       ...        geonames_jsons/\u0412\u043e\u0441\u043a\u0440\u0435\u0441\u0435\u043d\u0441\u043a_127.json  geonames   \n",
        "276       ...        geonames_jsons/\u0412\u043e\u0441\u043a\u0440\u0435\u0441\u0435\u043d\u0441\u043a_127.json  geonames   \n",
        "510       ...            geonames_jsons/\u0414\u043c\u0438\u0442\u0440\u043e\u0432_191.json  geonames   \n",
        "589       ...         geonames_jsons/\u0417\u0432\u0435\u043d\u0438\u0433\u043e\u0440\u043e\u0434_234.json  geonames   \n",
        "899       ...               geonames_jsons/\u041a\u043b\u0438\u043d_300.json  geonames   \n",
        "900       ...               geonames_jsons/\u041a\u043b\u0438\u043d_300.json  geonames   \n",
        "901       ...               geonames_jsons/\u041a\u043b\u0438\u043d_300.json  geonames   \n",
        "902       ...               geonames_jsons/\u041a\u043b\u0438\u043d_300.json  geonames   \n",
        "903       ...               geonames_jsons/\u041a\u043b\u0438\u043d_300.json  geonames   \n",
        "904       ...               geonames_jsons/\u041a\u043b\u0438\u043d_300.json  geonames   \n",
        "943       ...            geonames_jsons/\u041a\u043e\u043b\u043e\u043c\u043d\u0430_315.json  geonames   \n",
        "1333      ...            geonames_jsons/\u041c\u043e\u0436\u0430\u0439\u0441\u043a_437.json  geonames   \n",
        "1610      ...              geonames_jsons/\u041f\u043e\u0434\u043e\u043b_543.json  geonames   \n",
        "1611      ...              geonames_jsons/\u041f\u043e\u0434\u043e\u043b_543.json  geonames   \n",
        "1612      ...              geonames_jsons/\u041f\u043e\u0434\u043e\u043b_543.json  geonames   \n",
        "1613      ...              geonames_jsons/\u041f\u043e\u0434\u043e\u043b_543.json  geonames   \n",
        "1798      ...               geonames_jsons/\u0420\u0443\u0437\u0430_588.json  geonames   \n",
        "1799      ...               geonames_jsons/\u0420\u0443\u0437\u0430_588.json  geonames   \n",
        "1891      ...           geonames_jsons/\u0421\u0435\u0440\u043f\u0443\u0445\u043e\u0432_627.json  geonames   \n",
        "\n",
        "                  ru_prov       prov_modern_sp prov_stem      ru_uezd  \\\n",
        "143   \u041c\u043e\u0441\u043a\u043e\u0432\u0441\u043a\u043e\u0439 \u0413\u0443\u0431\u0435\u0440\u043d\u0456\u0438  \u041c\u043e\u0441\u043a\u043e\u0432\u0441\u043a\u043e\u0439 \u0413\u0443\u0431\u0435\u0440\u043d\u0438\u0438  \u043c\u043e\u0441\u043a\u043e\u0432\u0441\u043a  not_in_text   \n",
        "164   \u041c\u043e\u0441\u043a\u043e\u0432\u0441\u043a\u043e\u0439 \u0413\u0443\u0431\u0435\u0440\u043d\u0456\u0438  \u041c\u043e\u0441\u043a\u043e\u0432\u0441\u043a\u043e\u0439 \u0413\u0443\u0431\u0435\u0440\u043d\u0438\u0438  \u043c\u043e\u0441\u043a\u043e\u0432\u0441\u043a  not_in_text   \n",
        "238   \u041c\u043e\u0441\u043a\u043e\u0432\u0441\u043a\u043e\u0439 \u0413\u0443\u0431\u0435\u0440\u043d\u0456\u0438  \u041c\u043e\u0441\u043a\u043e\u0432\u0441\u043a\u043e\u0439 \u0413\u0443\u0431\u0435\u0440\u043d\u0438\u0438  \u043c\u043e\u0441\u043a\u043e\u0432\u0441\u043a  not_in_text   \n",
        "239   \u041c\u043e\u0441\u043a\u043e\u0432\u0441\u043a\u043e\u0439 \u0413\u0443\u0431\u0435\u0440\u043d\u0456\u0438  \u041c\u043e\u0441\u043a\u043e\u0432\u0441\u043a\u043e\u0439 \u0413\u0443\u0431\u0435\u0440\u043d\u0438\u0438  \u043c\u043e\u0441\u043a\u043e\u0432\u0441\u043a  not_in_text   \n",
        "240   \u041c\u043e\u0441\u043a\u043e\u0432\u0441\u043a\u043e\u0439 \u0413\u0443\u0431\u0435\u0440\u043d\u0456\u0438  \u041c\u043e\u0441\u043a\u043e\u0432\u0441\u043a\u043e\u0439 \u0413\u0443\u0431\u0435\u0440\u043d\u0438\u0438  \u043c\u043e\u0441\u043a\u043e\u0432\u0441\u043a  not_in_text   \n",
        "252   \u041c\u043e\u0441\u043a\u043e\u0432\u0441\u043a\u043e\u0439 \u0413\u0443\u0431\u0435\u0440\u043d\u0456\u0438  \u041c\u043e\u0441\u043a\u043e\u0432\u0441\u043a\u043e\u0439 \u0413\u0443\u0431\u0435\u0440\u043d\u0438\u0438  \u043c\u043e\u0441\u043a\u043e\u0432\u0441\u043a  not_in_text   \n",
        "253   \u041c\u043e\u0441\u043a\u043e\u0432\u0441\u043a\u043e\u0439 \u0413\u0443\u0431\u0435\u0440\u043d\u0456\u0438  \u041c\u043e\u0441\u043a\u043e\u0432\u0441\u043a\u043e\u0439 \u0413\u0443\u0431\u0435\u0440\u043d\u0438\u0438  \u043c\u043e\u0441\u043a\u043e\u0432\u0441\u043a  not_in_text   \n",
        "272   \u041c\u043e\u0441\u043a\u043e\u0432\u0441\u043a\u043e\u0439 \u0413\u0443\u0431\u0435\u0440\u043d\u0456\u0438  \u041c\u043e\u0441\u043a\u043e\u0432\u0441\u043a\u043e\u0439 \u0413\u0443\u0431\u0435\u0440\u043d\u0438\u0438  \u043c\u043e\u0441\u043a\u043e\u0432\u0441\u043a  not_in_text   \n",
        "273   \u041c\u043e\u0441\u043a\u043e\u0432\u0441\u043a\u043e\u0439 \u0413\u0443\u0431\u0435\u0440\u043d\u0456\u0438  \u041c\u043e\u0441\u043a\u043e\u0432\u0441\u043a\u043e\u0439 \u0413\u0443\u0431\u0435\u0440\u043d\u0438\u0438  \u043c\u043e\u0441\u043a\u043e\u0432\u0441\u043a  not_in_text   \n",
        "274   \u041c\u043e\u0441\u043a\u043e\u0432\u0441\u043a\u043e\u0439 \u0413\u0443\u0431\u0435\u0440\u043d\u0456\u0438  \u041c\u043e\u0441\u043a\u043e\u0432\u0441\u043a\u043e\u0439 \u0413\u0443\u0431\u0435\u0440\u043d\u0438\u0438  \u043c\u043e\u0441\u043a\u043e\u0432\u0441\u043a  not_in_text   \n",
        "275   \u041c\u043e\u0441\u043a\u043e\u0432\u0441\u043a\u043e\u0439 \u0413\u0443\u0431\u0435\u0440\u043d\u0456\u0438  \u041c\u043e\u0441\u043a\u043e\u0432\u0441\u043a\u043e\u0439 \u0413\u0443\u0431\u0435\u0440\u043d\u0438\u0438  \u043c\u043e\u0441\u043a\u043e\u0432\u0441\u043a  not_in_text   \n",
        "276   \u041c\u043e\u0441\u043a\u043e\u0432\u0441\u043a\u043e\u0439 \u0413\u0443\u0431\u0435\u0440\u043d\u0456\u0438  \u041c\u043e\u0441\u043a\u043e\u0432\u0441\u043a\u043e\u0439 \u0413\u0443\u0431\u0435\u0440\u043d\u0438\u0438  \u043c\u043e\u0441\u043a\u043e\u0432\u0441\u043a  not_in_text   \n",
        "510   \u041c\u043e\u0441\u043a\u043e\u0432\u0441\u043a\u043e\u0439 \u0413\u0443\u0431\u0435\u0440\u043d\u0456\u0438  \u041c\u043e\u0441\u043a\u043e\u0432\u0441\u043a\u043e\u0439 \u0413\u0443\u0431\u0435\u0440\u043d\u0438\u0438  \u043c\u043e\u0441\u043a\u043e\u0432\u0441\u043a  not_in_text   \n",
        "589   \u041c\u043e\u0441\u043a\u043e\u0432\u0441\u043a\u043e\u0439 \u0413\u0443\u0431\u0435\u0440\u043d\u0456\u0438  \u041c\u043e\u0441\u043a\u043e\u0432\u0441\u043a\u043e\u0439 \u0413\u0443\u0431\u0435\u0440\u043d\u0438\u0438  \u043c\u043e\u0441\u043a\u043e\u0432\u0441\u043a  not_in_text   \n",
        "899   \u041c\u043e\u0441\u043a\u043e\u0432\u0441\u043a\u043e\u0439 \u0413\u0443\u0431\u0435\u0440\u043d\u0456\u0438  \u041c\u043e\u0441\u043a\u043e\u0432\u0441\u043a\u043e\u0439 \u0413\u0443\u0431\u0435\u0440\u043d\u0438\u0438  \u043c\u043e\u0441\u043a\u043e\u0432\u0441\u043a  not_in_text   \n",
        "900   \u041c\u043e\u0441\u043a\u043e\u0432\u0441\u043a\u043e\u0439 \u0413\u0443\u0431\u0435\u0440\u043d\u0456\u0438  \u041c\u043e\u0441\u043a\u043e\u0432\u0441\u043a\u043e\u0439 \u0413\u0443\u0431\u0435\u0440\u043d\u0438\u0438  \u043c\u043e\u0441\u043a\u043e\u0432\u0441\u043a  not_in_text   \n",
        "901   \u041c\u043e\u0441\u043a\u043e\u0432\u0441\u043a\u043e\u0439 \u0413\u0443\u0431\u0435\u0440\u043d\u0456\u0438  \u041c\u043e\u0441\u043a\u043e\u0432\u0441\u043a\u043e\u0439 \u0413\u0443\u0431\u0435\u0440\u043d\u0438\u0438  \u043c\u043e\u0441\u043a\u043e\u0432\u0441\u043a  not_in_text   \n",
        "902   \u041c\u043e\u0441\u043a\u043e\u0432\u0441\u043a\u043e\u0439 \u0413\u0443\u0431\u0435\u0440\u043d\u0456\u0438  \u041c\u043e\u0441\u043a\u043e\u0432\u0441\u043a\u043e\u0439 \u0413\u0443\u0431\u0435\u0440\u043d\u0438\u0438  \u043c\u043e\u0441\u043a\u043e\u0432\u0441\u043a  not_in_text   \n",
        "903   \u041c\u043e\u0441\u043a\u043e\u0432\u0441\u043a\u043e\u0439 \u0413\u0443\u0431\u0435\u0440\u043d\u0456\u0438  \u041c\u043e\u0441\u043a\u043e\u0432\u0441\u043a\u043e\u0439 \u0413\u0443\u0431\u0435\u0440\u043d\u0438\u0438  \u043c\u043e\u0441\u043a\u043e\u0432\u0441\u043a  not_in_text   \n",
        "904   \u041c\u043e\u0441\u043a\u043e\u0432\u0441\u043a\u043e\u0439 \u0413\u0443\u0431\u0435\u0440\u043d\u0456\u0438  \u041c\u043e\u0441\u043a\u043e\u0432\u0441\u043a\u043e\u0439 \u0413\u0443\u0431\u0435\u0440\u043d\u0438\u0438  \u043c\u043e\u0441\u043a\u043e\u0432\u0441\u043a  not_in_text   \n",
        "943   \u041c\u043e\u0441\u043a\u043e\u0432\u0441\u043a\u043e\u0439 \u0413\u0443\u0431\u0435\u0440\u043d\u0456\u0438  \u041c\u043e\u0441\u043a\u043e\u0432\u0441\u043a\u043e\u0439 \u0413\u0443\u0431\u0435\u0440\u043d\u0438\u0438  \u043c\u043e\u0441\u043a\u043e\u0432\u0441\u043a  not_in_text   \n",
        "1333  \u041c\u043e\u0441\u043a\u043e\u0432\u0441\u043a\u043e\u0439 \u0413\u0443\u0431\u0435\u0440\u043d\u0456\u0438  \u041c\u043e\u0441\u043a\u043e\u0432\u0441\u043a\u043e\u0439 \u0413\u0443\u0431\u0435\u0440\u043d\u0438\u0438  \u043c\u043e\u0441\u043a\u043e\u0432\u0441\u043a  not_in_text   \n",
        "1610  \u041c\u043e\u0441\u043a\u043e\u0432\u0441\u043a\u043e\u0439 \u0413\u0443\u0431\u0435\u0440\u043d\u0456\u0438  \u041c\u043e\u0441\u043a\u043e\u0432\u0441\u043a\u043e\u0439 \u0413\u0443\u0431\u0435\u0440\u043d\u0438\u0438  \u043c\u043e\u0441\u043a\u043e\u0432\u0441\u043a  not_in_text   \n",
        "1611  \u041c\u043e\u0441\u043a\u043e\u0432\u0441\u043a\u043e\u0439 \u0413\u0443\u0431\u0435\u0440\u043d\u0456\u0438  \u041c\u043e\u0441\u043a\u043e\u0432\u0441\u043a\u043e\u0439 \u0413\u0443\u0431\u0435\u0440\u043d\u0438\u0438  \u043c\u043e\u0441\u043a\u043e\u0432\u0441\u043a  not_in_text   \n",
        "1612  \u041c\u043e\u0441\u043a\u043e\u0432\u0441\u043a\u043e\u0439 \u0413\u0443\u0431\u0435\u0440\u043d\u0456\u0438  \u041c\u043e\u0441\u043a\u043e\u0432\u0441\u043a\u043e\u0439 \u0413\u0443\u0431\u0435\u0440\u043d\u0438\u0438  \u043c\u043e\u0441\u043a\u043e\u0432\u0441\u043a  not_in_text   \n",
        "1613  \u041c\u043e\u0441\u043a\u043e\u0432\u0441\u043a\u043e\u0439 \u0413\u0443\u0431\u0435\u0440\u043d\u0456\u0438  \u041c\u043e\u0441\u043a\u043e\u0432\u0441\u043a\u043e\u0439 \u0413\u0443\u0431\u0435\u0440\u043d\u0438\u0438  \u043c\u043e\u0441\u043a\u043e\u0432\u0441\u043a  not_in_text   \n",
        "1798  \u041c\u043e\u0441\u043a\u043e\u0432\u0441\u043a\u043e\u0439 \u0413\u0443\u0431\u0435\u0440\u043d\u0456\u0438  \u041c\u043e\u0441\u043a\u043e\u0432\u0441\u043a\u043e\u0439 \u0413\u0443\u0431\u0435\u0440\u043d\u0438\u0438  \u043c\u043e\u0441\u043a\u043e\u0432\u0441\u043a  not_in_text   \n",
        "1799  \u041c\u043e\u0441\u043a\u043e\u0432\u0441\u043a\u043e\u0439 \u0413\u0443\u0431\u0435\u0440\u043d\u0456\u0438  \u041c\u043e\u0441\u043a\u043e\u0432\u0441\u043a\u043e\u0439 \u0413\u0443\u0431\u0435\u0440\u043d\u0438\u0438  \u043c\u043e\u0441\u043a\u043e\u0432\u0441\u043a  not_in_text   \n",
        "1891  \u041c\u043e\u0441\u043a\u043e\u0432\u0441\u043a\u043e\u0439 \u0413\u0443\u0431\u0435\u0440\u043d\u0456\u0438  \u041c\u043e\u0441\u043a\u043e\u0432\u0441\u043a\u043e\u0439 \u0413\u0443\u0431\u0435\u0440\u043d\u0438\u0438  \u043c\u043e\u0441\u043a\u043e\u0432\u0441\u043a  not_in_text   \n",
        "\n",
        "     uezd_modern_sp    uezd_stem page   lc_translit  \n",
        "143     not_\u0438n_text  \u043d\u043e\u0442_\u0438\u043d_\u0442\u0435x\u0442   19    Bogorodsk\"  \n",
        "164     not_\u0438n_text  \u043d\u043e\u0442_\u0438\u043d_\u0442\u0435x\u0442   22     Bronnitsy  \n",
        "238     not_\u0438n_text  \u043d\u043e\u0442_\u0438\u043d_\u0442\u0435x\u0442   27        Vereia  \n",
        "239     not_\u0438n_text  \u043d\u043e\u0442_\u0438\u043d_\u0442\u0435x\u0442   27        Vereia  \n",
        "240     not_\u0438n_text  \u043d\u043e\u0442_\u0438\u043d_\u0442\u0435x\u0442   27        Vereia  \n",
        "252     not_\u0438n_text  \u043d\u043e\u0442_\u0438\u043d_\u0442\u0435x\u0442   28  Volokolamsk\"  \n",
        "253     not_\u0438n_text  \u043d\u043e\u0442_\u0438\u043d_\u0442\u0435x\u0442   28  Volokolamsk\"  \n",
        "272     not_\u0438n_text  \u043d\u043e\u0442_\u0438\u043d_\u0442\u0435x\u0442   30  Voskresensk\"  \n",
        "273     not_\u0438n_text  \u043d\u043e\u0442_\u0438\u043d_\u0442\u0435x\u0442   30  Voskresensk\"  \n",
        "274     not_\u0438n_text  \u043d\u043e\u0442_\u0438\u043d_\u0442\u0435x\u0442   30  Voskresensk\"  \n",
        "275     not_\u0438n_text  \u043d\u043e\u0442_\u0438\u043d_\u0442\u0435x\u0442   30  Voskresensk\"  \n",
        "276     not_\u0438n_text  \u043d\u043e\u0442_\u0438\u043d_\u0442\u0435x\u0442   30  Voskresensk\"  \n",
        "510     not_\u0438n_text  \u043d\u043e\u0442_\u0438\u043d_\u0442\u0435x\u0442   39      Dmitrov\"  \n",
        "589     not_\u0438n_text  \u043d\u043e\u0442_\u0438\u043d_\u0442\u0435x\u0442   45   Zvenigorod\"  \n",
        "899     not_\u0438n_text  \u043d\u043e\u0442_\u0438\u043d_\u0442\u0435x\u0442   55         Klin\"  \n",
        "900     not_\u0438n_text  \u043d\u043e\u0442_\u0438\u043d_\u0442\u0435x\u0442   55         Klin\"  \n",
        "901     not_\u0438n_text  \u043d\u043e\u0442_\u0438\u043d_\u0442\u0435x\u0442   55         Klin\"  \n",
        "902     not_\u0438n_text  \u043d\u043e\u0442_\u0438\u043d_\u0442\u0435x\u0442   55         Klin\"  \n",
        "903     not_\u0438n_text  \u043d\u043e\u0442_\u0438\u043d_\u0442\u0435x\u0442   55         Klin\"  \n",
        "904     not_\u0438n_text  \u043d\u043e\u0442_\u0438\u043d_\u0442\u0435x\u0442   55         Klin\"  \n",
        "943     not_\u0438n_text  \u043d\u043e\u0442_\u0438\u043d_\u0442\u0435x\u0442   57       Kolomna  \n",
        "1333    not_\u0438n_text  \u043d\u043e\u0442_\u0438\u043d_\u0442\u0435x\u0442   75     Mozhaisk\"  \n",
        "1610    not_\u0438n_text  \u043d\u043e\u0442_\u0438\u043d_\u0442\u0435x\u0442   90        Podol\"  \n",
        "1611    not_\u0438n_text  \u043d\u043e\u0442_\u0438\u043d_\u0442\u0435x\u0442   90        Podol\"  \n",
        "1612    not_\u0438n_text  \u043d\u043e\u0442_\u0438\u043d_\u0442\u0435x\u0442   90        Podol\"  \n",
        "1613    not_\u0438n_text  \u043d\u043e\u0442_\u0438\u043d_\u0442\u0435x\u0442   90        Podol\"  \n",
        "1798    not_\u0438n_text  \u043d\u043e\u0442_\u0438\u043d_\u0442\u0435x\u0442   98          Ruza  \n",
        "1799    not_\u0438n_text  \u043d\u043e\u0442_\u0438\u043d_\u0442\u0435x\u0442   98          Ruza  \n",
        "1891    not_\u0438n_text  \u043d\u043e\u0442_\u0438\u043d_\u0442\u0435x\u0442  106    Serpukhov\"  \n",
        "\n",
        "[29 rows x 27 columns]"
       ]
      }
     ],
     "prompt_number": 83
    },
    {
     "cell_type": "code",
     "collapsed": false,
     "input": [
      "single_results = pd.merge(fdf.ix[fdf.lat==1],geodf_merged,left_index=True,right_on='hgr_id')\n",
      "single_results = single_results.ix[single_results.result_placename!='not_found']"
     ],
     "language": "python",
     "metadata": {},
     "outputs": []
    },
    {
     "cell_type": "markdown",
     "metadata": {},
     "source": [
      "The next cell contains some sort of dark sorcery. I'll try to explain it as best I can. I'm not sure exactly how, but vectorize seems to be a way to get a function that takes multiple inputs to take those inputs from two series, in this case dataframe columns. Not only am I using a function that takes multiple values as input, that function also spits out three different values for output. That's actually the relatively simple part, as I just listed the new columns in the order that the outputs are returned. A stackoverflow suggestion for a function with multiple outputs, but only one input, was to zip them together. I'm not sure why, but that seems to turn the output sideways in this case, so don't zip when you're using np.vectorize to do this. Respect the sorcery that is np."
     ]
    },
    {
     "cell_type": "code",
     "collapsed": false,
     "input": [
      "single_results['pres_loc'], single_results['country'], single_results['country_code'] = np.vectorize(reverse_geocode)(single_results.lng,single_results.lat_y)"
     ],
     "language": "python",
     "metadata": {},
     "outputs": []
    },
    {
     "cell_type": "code",
     "collapsed": false,
     "input": [
      "single_results = single_results[['lat_x', 'hgr_id', 'name', 'alt_name', 'partof_id', 'lng', 'lat_y', '_type', 'source_url', 'text', 'name_modern_sp', 'lc_translit', 'pres_loc', 'country', 'country_code', 'result_placename', 'searched_placename', 'admin1', 'country_name', 'src_id', 'url', 'local_result', 'src', 'ru_prov', 'prov_modern_sp', 'prov_stem', 'ru_uezd', 'page']]"
     ],
     "language": "python",
     "metadata": {},
     "outputs": []
    },
    {
     "cell_type": "code",
     "collapsed": false,
     "input": [
      "single_results.name_modern_sp = single_results.name_modern_sp.str.title()"
     ],
     "language": "python",
     "metadata": {},
     "outputs": []
    },
    {
     "cell_type": "code",
     "collapsed": false,
     "input": [
      "single_results.to_csv('single_results.csv',encoding='utf-8')"
     ],
     "language": "python",
     "metadata": {},
     "outputs": []
    },
    {
     "cell_type": "code",
     "collapsed": false,
     "input": [
      "not_found_merged = geodf_merged.ix[geodf_merged.result_placename == 'not_found']"
     ],
     "language": "python",
     "metadata": {},
     "outputs": []
    },
    {
     "cell_type": "code",
     "collapsed": false,
     "input": [
      "not_found_merged.to_excel('not_found_bounded.xlsx',encoding='utf-8')\n",
      "not_found_merged.to_csv('not_found_bounded.csv',encoding='utf-8')"
     ],
     "language": "python",
     "metadata": {},
     "outputs": []
    },
    {
     "cell_type": "code",
     "collapsed": false,
     "input": [
      "citysort = pd.DataFrame(geodf_merged.pivot_table(index='name',values='lat',aggfunc=lambda x: len(x.unique()))).sort(columns='lat',ascending=False)\n",
      "citysort['cum_sum'] = citysort.lat.cumsum()\n",
      "citysort['cum_perc'] = 100*citysort.cum_sum/citysort.lat.sum()\n",
      "citysort"
     ],
     "language": "python",
     "metadata": {},
     "outputs": []
    },
    {
     "cell_type": "code",
     "collapsed": false,
     "input": [
      "R = requests.get('http://api.geonames.org/search?featureCode=PPL&type=json&north=55.671667&east=43.210556&username=jaguillette&west=35.210556&name=%D0%90%D0%9B%D0%95%D0%9A%D0%A1%D0%95%D0%95%D0%92%D0%9A%D0%90&south=47.671667&adminCode1=76')\n",
      "test = R.json()\n",
      "for k in test['geonames']:\n",
      "    print('{}\\t{}'.format(k['lat'],k['lng']))"
     ],
     "language": "python",
     "metadata": {},
     "outputs": []
    },
    {
     "cell_type": "code",
     "collapsed": false,
     "input": [
      "geodf_merged.ix[geodf_merged.hgr_id==265].url.tolist()"
     ],
     "language": "python",
     "metadata": {},
     "outputs": []
    },
    {
     "cell_type": "code",
     "collapsed": true,
     "input": [
      "print(len(market_df.ix[geodf_merged.ru_prov!='not_in_text']))\n",
      "print(len(market_df.ix[geodf_merged.ru_uezd!='not_in_text']))"
     ],
     "language": "python",
     "metadata": {},
     "outputs": []
    },
    {
     "cell_type": "markdown",
     "metadata": {},
     "source": [
      "Kiev Experiment\n",
      "===============\n",
      "Trying to narrow results with bounding rectangles"
     ]
    },
    {
     "cell_type": "markdown",
     "metadata": {},
     "source": [
      "No bounding rectangle"
     ]
    },
    {
     "cell_type": "code",
     "collapsed": false,
     "input": [
      "kiev = market_df.ix[market_df.prov_stem == '\u043a\u0438\u0435\u0432\u0441\u043a']"
     ],
     "language": "python",
     "metadata": {},
     "outputs": []
    },
    {
     "cell_type": "code",
     "collapsed": false,
     "input": [
      "kiev_geocoded = []\n",
      "for x in range(0,len(kiev)):\n",
      "    entry = kiev.iloc[x]\n",
      "    kiev_geocoded.extend(geonames_lookup(entry['name_modern_sp'],entry.name))"
     ],
     "language": "python",
     "metadata": {},
     "outputs": []
    },
    {
     "cell_type": "code",
     "collapsed": false,
     "input": [
      "kiev_geo_df = pd.DataFrame(kiev_geocoded,columns=['hgr_id','placename','admin1','country_name','lat','lng','src_id','country_code','url','src'])\n",
      "len(kiev_geo_df)"
     ],
     "language": "python",
     "metadata": {},
     "outputs": []
    },
    {
     "cell_type": "code",
     "collapsed": false,
     "input": [
      "kiev_geo_df.to_excel('kiev_unbound.xlsx',encoding='utf-8')"
     ],
     "language": "python",
     "metadata": {},
     "outputs": []
    },
    {
     "cell_type": "markdown",
     "metadata": {},
     "source": [
      "Now we try a bounding rectangle"
     ]
    },
    {
     "cell_type": "code",
     "collapsed": false,
     "input": [
      "kiev_bounded = []\n",
      "for x in range(0,len(kiev)):\n",
      "    entry = kiev.iloc[x]\n",
      "    kiev_bounded.extend(geonames_lookup(entry['name_modern_sp'],entry.name,north=51.49413,south=49.08008,east=34.35625,west=29.72503))"
     ],
     "language": "python",
     "metadata": {},
     "outputs": []
    },
    {
     "cell_type": "code",
     "collapsed": false,
     "input": [
      "kiev_bounded_df = pd.DataFrame(kiev_bounded,columns=['hgr_id','placename','admin1','country_name','lat','lng','src_id','country_code','url','src'])"
     ],
     "language": "python",
     "metadata": {},
     "outputs": []
    },
    {
     "cell_type": "code",
     "collapsed": false,
     "input": [
      "kiev_bound_merged = pd.merge(kiev_bounded_df,market_df,left_on='hgr_id',right_index=True)\n",
      "kiev_bound_merged = kiev_bound_merged[['hgr_id', 'name', 'name_modern_sp', 'placename', 'admin1', 'country_name', 'lat', 'lng', 'src_id', 'country_code', 'url', 'src', 'ru_prov', 'prov_modern_sp', 'prov_stem', 'ru_uezd', 'page', 'text', '_type']]"
     ],
     "language": "python",
     "metadata": {},
     "outputs": []
    },
    {
     "cell_type": "code",
     "collapsed": false,
     "input": [
      "kiev_bound_merged.ix[kiev_bound_merged.placename=='not_found'].to_excel('kiev_not_found.xlsx',encoding='utf-8')"
     ],
     "language": "python",
     "metadata": {},
     "outputs": []
    },
    {
     "cell_type": "code",
     "collapsed": false,
     "input": [
      "kiev_bound_merged.ix[kiev_bound_merged.placename!='not_found'].to_excel('kiev_found.xlsx',encoding='utf-8')"
     ],
     "language": "python",
     "metadata": {},
     "outputs": []
    },
    {
     "cell_type": "code",
     "collapsed": true,
     "input": [
      "market_df.ix[market_df.geo_placename == 'not_found'].to_excel('not_found.xlsx', encoding='utf-8')"
     ],
     "language": "python",
     "metadata": {},
     "outputs": []
    },
    {
     "cell_type": "code",
     "collapsed": false,
     "input": [
      "market_df.to_excel('market_towns.xlsx', encoding=\"utf-8\")"
     ],
     "language": "python",
     "metadata": {},
     "outputs": []
    },
    {
     "cell_type": "markdown",
     "metadata": {},
     "source": [
      "Google Geocoding\n",
      "================\n",
      "Hasn't been worked on in a while. Kind of shabby."
     ]
    },
    {
     "cell_type": "code",
     "collapsed": false,
     "input": [
      "def google_lookup(placename):\n",
      "    url = \"https://maps.googleapis.com/maps/api/geocode/json?address={}\".format(placename)\n",
      "    R = requests.get(url)\n",
      "    google_json = R.json()\n",
      "    Ensure_dir(\"google_jsons\")\n",
      "    try:\n",
      "        google_placename = google_json['results'][0]['formatted_address']\n",
      "        google_lat = google_json['results'][0]['geometry']['location']['lat']\n",
      "        google_lng = google_json['results'][0]['geometry']['location']['lng']\n",
      "        with open(\"google_jsons/{}.json\".format(placename),'w') as jsonfile:\n",
      "            jsonfile.write(R.text)\n",
      "    except IndexError:\n",
      "        google_placename = \"not_found\"\n",
      "        google_lat = \"not_found\"\n",
      "        google_lng = \"not_found\"\n",
      "    return google_placename, google_lat, google_lng, url"
     ],
     "language": "python",
     "metadata": {},
     "outputs": []
    },
    {
     "cell_type": "code",
     "collapsed": false,
     "input": [
      "google_lookup(\"\u0410\u0412\u0414\u0423\u041b\u041e\u0412\u041e\")"
     ],
     "language": "python",
     "metadata": {},
     "outputs": []
    },
    {
     "cell_type": "code",
     "collapsed": false,
     "input": [
      "market_df['google_reconcile'], market_df['google_lat'], market_df['google_lng'], market_df['google_url'] = zip(*market_df[\"name\"].map(google_lookup))"
     ],
     "language": "python",
     "metadata": {},
     "outputs": []
    },
    {
     "cell_type": "code",
     "collapsed": false,
     "input": [
      "def str_comb(df):\n",
      "    return \"{} is a {}\".format(df[0],df[1])\n",
      "test = market_df[['name','_type']].apply(str_comb,axis=1)\n",
      "print(test)"
     ],
     "language": "python",
     "metadata": {},
     "outputs": []
    }
   ],
   "metadata": {}
  }
 ]
}