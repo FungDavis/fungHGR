{
 "cells": [
  {
   "cell_type": "markdown",
   "metadata": {},
   "source": [
    "First: Text Parsing!\n",
    "====================\n",
    "This is where the information that we want is extracted from the text we have."
   ]
  },
  {
   "cell_type": "code",
   "execution_count": 16,
   "metadata": {
    "collapsed": false
   },
   "outputs": [],
   "source": [
    "import re, requests, json, datetime"
   ]
  },
  {
   "cell_type": "code",
   "execution_count": 17,
   "metadata": {
    "collapsed": false
   },
   "outputs": [],
   "source": [
    "import os\n",
    "def Ensure_dir(d):\n",
    "    \"\"\"Makes sure a directory 'd' exists, and if it doesn't, it creates one.\"\"\"\n",
    "    if not os.path.exists(d):\n",
    "        os.makedirs(d)\n",
    "    return 0"
   ]
  },
  {
   "cell_type": "code",
   "execution_count": 18,
   "metadata": {
    "collapsed": false
   },
   "outputs": [],
   "source": [
    "def open_texts(file_start_str,first,last):\n",
    "    \"\"\"Creates a dictionary from a set of .htm files.\n",
    "    Assumes all have the same starting string immediately followed by a page number.\n",
    "    Returns a dictionary with page numbers as keys and page contents as values.\"\"\"\n",
    "    out_dict = {}\n",
    "    for i in range(first,last+1):\n",
    "        with open(\"{}{}.htm\".format(file_start_str,i),encoding=\"utf-8\") as htmfile:\n",
    "            out_dict[i] = htmfile.read()\n",
    "    return out_dict"
   ]
  },
  {
   "cell_type": "markdown",
   "metadata": {},
   "source": [
    "Creating a dictionary called `market_text` and filling it out with key/value pairs corresponding to page numbers and page texts."
   ]
  },
  {
   "cell_type": "code",
   "execution_count": 19,
   "metadata": {
    "collapsed": false
   },
   "outputs": [],
   "source": [
    "market_text = open_texts(\"html/slovar\",10,99)\n",
    "market_text.update(open_texts(\"html/slovar\",102,133)) #skiping page 100-101, no text present"
   ]
  },
  {
   "cell_type": "markdown",
   "metadata": {},
   "source": [
    "Cleanup cell. Currently fixing some common capitalization errors, and replacing nbsp's with normal spaces."
   ]
  },
  {
   "cell_type": "code",
   "execution_count": 20,
   "metadata": {
    "collapsed": false
   },
   "outputs": [],
   "source": [
    "for p in market_text.keys():\n",
    "    #nbsp to normal space\n",
    "    market_text[p] = re.sub(\"&nbsp;\",\" \",market_text[p])\n",
    "    #Capitalization fixes\n",
    "    market_text[p] = re.sub(r\"([> ])ВЪ\",r\"\\1Въ\",market_text[p])\n",
    "    market_text[p] = re.sub(r\"([а-яіѣѳ]+)(Ѣ)\",r\"\\1ѣ\",market_text[p])\n",
    "    market_text[p] = re.sub(r\"(Ѣ)([а-яіѣѳ]+)\",r\"ѣ\\2\",market_text[p])\n",
    "    market_text[p] = re.sub(r\"([а-яіѣѳ]+)(Ъ)\",r\"\\1ъ\",market_text[p])"
   ]
  },
  {
   "cell_type": "code",
   "execution_count": 21,
   "metadata": {
    "collapsed": false
   },
   "outputs": [],
   "source": [
    "def extract_entries(text_dict,entrymatch,tailmatch,entry_name='name_old_orth',entry_text='description_old_orth'):\n",
    "    \"\"\"\n",
    "    Extracts entries from text dict. Takes dict with format {pageNumber: pageText...} \n",
    "    and returns dict with entry name and text as well as page number from dict.\n",
    "    \n",
    "    text_dict: dict with format {pageNumber: text...} created with previous function open_texts.\n",
    "    \n",
    "    entrymatch: regex string to match entry name and text. Regex should be formatted so that \n",
    "    entry name is captured in entry text, entry text is in first capture group, and entry \n",
    "    name is in first capture group, e.g. r\">(([А-ЯІѢѲ .-]+)[<, ].*)</p>\".\n",
    "    \n",
    "    tailmatch: regex string to match tail from previous entry at beginning of page.\n",
    "    \n",
    "    entry_name: string to be used as key for entry name.\n",
    "    \n",
    "    entry_text: string to be used as key for entry text.\n",
    "    \"\"\"\n",
    "    out_dict = {}\n",
    "    last_entry = \"\"\n",
    "    counter = 1\n",
    "    pages = list(text_dict.keys())\n",
    "    pages.sort()\n",
    "    for p in pages:\n",
    "        # finds trailing descriptions at beginning of page, appends to last entry on previous page.\n",
    "        trail = re.findall(tailmatch,text_dict[p])\n",
    "        if len(trail)>0 and len(re.findall(entrymatch,trail[0]))==0:\n",
    "            out_dict[last_entry][entry_text]+=trail[0]\n",
    "        # finds all place names on page, captures descriptions as well. puts into dictionary with name as key and desc as value.\n",
    "        places = re.findall(entrymatch,text_dict[p])\n",
    "        if len(places)>0:\n",
    "            for v in places:\n",
    "                placename = v[1].strip()\n",
    "                out_dict[counter] = {entry_name:placename,entry_text:v[0],'page':p}\n",
    "                counter+=1\n",
    "            last_entry = counter-1\n",
    "    return out_dict"
   ]
  },
  {
   "cell_type": "code",
   "execution_count": 22,
   "metadata": {
    "collapsed": false
   },
   "outputs": [
    {
     "data": {
      "text/plain": [
       "[]"
      ]
     },
     "execution_count": 22,
     "metadata": {},
     "output_type": "execute_result"
    }
   ],
   "source": [
    "test = \">ОМЕЛЬНИКЪ, </span><span class=\\\"font0\\\" style=\\\"font-style:italic;\\\">мѣстечко</span><span class=\\\"font0\\\"> Кіевскаго Намѣстничества въ Миргородскомъ уѣздѣ. Въ ономъ бываетъ въ году двѣ ярмарки : одна Іюля 20, а другая Октябру 14; торгуютъ на оныхъ пріѣзжіе изъ уѣзду жители разными мѣлочными товарами, тамъ родящимися и дѣлающимися, какъ - то хлѣбомъ , горячимъ виномъ, разиымъ скотомъ, овчинами , кожами и проч. иногда пріѣзжаютъ и Великороссійскіе купцы съ краснымъ товаромъ.\"\n",
    "re.findall(r\">(([А-ЯІѢѲ .-]+)[<, ].*)</p>\",test)"
   ]
  },
  {
   "cell_type": "code",
   "execution_count": 23,
   "metadata": {
    "collapsed": false
   },
   "outputs": [
    {
     "data": {
      "text/plain": [
       "{'description_old_orth': 'ЯРМАРОКЪ и ТОРГОВЪ.</span>',\n",
       " 'name_old_orth': 'ЯРМАРОКЪ',\n",
       " 'page': 10}"
      ]
     },
     "execution_count": 23,
     "metadata": {},
     "output_type": "execute_result"
    }
   ],
   "source": [
    "market_towns = extract_entries(market_text,r\">(([А-ЯІѢѲ .-]+)[<, ].*)</p>\",r\"<body>\\s+(<p><span class=\\\"font0\\\">.*</span></p>)\") # creating dict market_towns to hold individual place info.\n",
    "market_towns.pop(1,None) #Known extraneous hit at beginning of doc, removed.\n",
    "market_towns.pop(2,None) #Known extraneous hit at beginning of doc, removed."
   ]
  },
  {
   "cell_type": "markdown",
   "metadata": {},
   "source": [
    "In this cell, we're looking for town types, which will be in italics. We're also looking for administrative divisions based on their titles, both Namiestnichestva and uezd."
   ]
  },
  {
   "cell_type": "code",
   "execution_count": 24,
   "metadata": {
    "collapsed": false
   },
   "outputs": [],
   "source": [
    "from lxml import html\n",
    "def strip_html(text):\n",
    "    return html.fromstring(text).text_content()"
   ]
  },
  {
   "cell_type": "code",
   "execution_count": 25,
   "metadata": {
    "collapsed": false
   },
   "outputs": [],
   "source": [
    "def extract_value(entrydict,val_name,val_regex,entry_text_key='description_old_orth',strip_val=\" \",strip_html=False):\n",
    "    \"\"\"\n",
    "    Extracts a value from a dict with some text value with key entry_text_key. Uses val_regex to extract a value and\n",
    "    add it to the entrydict, which is the return value.\n",
    "    \n",
    "    entrydict: dict with some entry that has text from which individual values can be extracted.\n",
    "    \n",
    "    val_name: name of the value to be extracted. This will be used as the key to modify entrydict.\n",
    "    \n",
    "    val_regex: a regular expression string or a list of regular expression strings. These will be used to extract\n",
    "    the desired value from the text in entrydict. If passing a list, the first regular expression to find a match \n",
    "    will be used to create the value k:v pair. Also note that if no regular expressions find matches, entrydict will \n",
    "    be returned without modification.\n",
    "    \n",
    "    entry_text_key: key which corresponds to the text with values to be extracted in entrydict\n",
    "    \n",
    "    strip_val: value will be passed to a str.strip() to be applied to the value extracted. Defaults to \" \", which is \n",
    "    default behavior for str.strip()\n",
    "    \n",
    "    strip_html: whether html tags should be removed or not. If set to true, html tags will be stripped from text.\n",
    "    Defaults to False.\n",
    "    \"\"\"\n",
    "    entry_text = entrydict[entry_text_key]\n",
    "    if strip_html:\n",
    "        entry_text = html.fromstring(entry_text).text_content()\n",
    "    if type(val_regex) == str:\n",
    "        val_regex = [val_regex]\n",
    "    for r in val_regex:\n",
    "        if len(re.findall(r,entry_text))!=0:\n",
    "            entrydict[val_name]=re.findall(r,entry_text)[0].strip(strip_val)\n",
    "            break\n",
    "    return(entrydict)"
   ]
  },
  {
   "cell_type": "code",
   "execution_count": 26,
   "metadata": {
    "collapsed": false
   },
   "outputs": [],
   "source": [
    "prov_regex = [r\">?([А-ЯІѢѲа-яѣі, -]*На(?:мѣ){0,1}стнич[аел]ств[аѣ](?: сего имени){0,1})\",r\">[ ]*([А-ЯІѢѲа-яѣі,.]+(?: [А-ЯІѢѲа-яѣі,]+){0,1}\\s+Губерніи)\"]\n",
    "uezd_regex = [r\"[Вв][Ъъ] уѣзд[уѣ] города ([А-ЯІѢѲа-яѣі-]+)\",r\"([А-ЯІѢѲа-яѣі]+\\s+уѣзд[уѣ])\"]\n",
    "type_regex = r\"italic;\\\">([[А-ЯІѢѲа-яіѣѳ, ]+)</span>\"\n",
    "alt_name_regex = [r\",([А-ЯІѢѲ -]+) тожь\",r\"или ([А-ЯІѢѲ]+)\",r\"правильнѣе ([А-ЯІѢѲ]+)\"]"
   ]
  },
  {
   "cell_type": "code",
   "execution_count": 27,
   "metadata": {
    "collapsed": false
   },
   "outputs": [],
   "source": [
    "for t in market_towns:\n",
    "    market_towns[t].update(extract_value(market_towns[t],'featuretype_old_orth',type_regex,strip_val=\", \"))\n",
    "    market_towns[t].update(extract_value(market_towns[t],'alt_name_old_orth',alt_name_regex,strip_html=True))\n",
    "    market_towns[t].update(extract_value(market_towns[t],'admin1_old_orth',prov_regex))\n",
    "    market_towns[t].update(extract_value(market_towns[t],'admin2_old_orth',uezd_regex,strip_html=True))\n",
    "    if \"ЧАСОВНЯ\" in market_towns[t]['name_old_orth']:\n",
    "        market_towns[t]['featuretype_old_orth'] = 'чацовня'"
   ]
  },
  {
   "cell_type": "markdown",
   "metadata": {},
   "source": [
    "Validation\n",
    "==========\n",
    "The next two code blocks are to find entries that may need to be separated in the OCR text. It does this by looking for sequences of capitalized letters, and comparing them to the names found previously. If there's a sequence of capitalized letters that isn't a name or an alternate name, it will be printed below the second code block. Look up the place name in the pandas dataframe a few cells down to see if it looks like two entries have been unintentionally merged. If this is the case, check the OCR text and fix it, then re-run to make sure it worked. Sometimes there will be capitalized words that are not part of another entry, so watch out for those.  \n",
    "  \n",
    "This is a very important process to get right. If entries are merged, this can mess up the indexing of text entries, and that can sever the link between entries in the text and entries that have been geocoded, making it much harder to update geocoded entries with changes from the OCR text."
   ]
  },
  {
   "cell_type": "code",
   "execution_count": 28,
   "metadata": {
    "collapsed": false
   },
   "outputs": [],
   "source": [
    "for t in market_towns:\n",
    "    caps = re.findall(r\"([А-ЯІѢѲ]+)[<, .]\",market_towns[t]['description_old_orth'])\n",
    "    caps = [c.strip() for c in caps]\n",
    "    if len(caps)==0:\n",
    "        print(\"This is confusing, entry has no strings of capital letters: {}\".format(market_towns[t]['description_old_orth']))\n",
    "    elif len(caps)>1:\n",
    "        for c in caps:\n",
    "            if c==market_towns[t]['name_old_orth']:\n",
    "                caps.pop(caps.index(c))\n",
    "                break\n",
    "        for c in caps:\n",
    "            if 'alt_name_old_orth' in market_towns[t] and c==market_towns[t]['alt_name_old_orth']:\n",
    "                caps.pop(caps.index(c))\n",
    "                break\n",
    "        for c in caps:\n",
    "            if len(c)==1:\n",
    "                caps.pop(caps.index(c))\n",
    "        if \" \".join(caps)==market_towns[t]['name_old_orth']:\n",
    "            caps = []\n",
    "        if \" - \".join(caps)==market_towns[t]['name_old_orth']:\n",
    "            caps = []\n",
    "        if len(caps)!=0:\n",
    "            market_towns[t]['extra_caps'] = caps"
   ]
  },
  {
   "cell_type": "code",
   "execution_count": 29,
   "metadata": {
    "collapsed": false
   },
   "outputs": [
    {
     "name": "stdout",
     "output_type": "stream",
     "text": [
      "['ВИЛЮЙСКОЕ', 'ВЕРХНЕЕ', 'СРЕДНЕЕ']\n",
      "Place name: ВИЛЮЙСКОЕ ВЕРХНЕЕ\n",
      "\n",
      "['КОЛПИНѢ']\n",
      "Place name: ПЯТНИЦКОЕ\n",
      "\n",
      "['БЕРЕНДѢЕВѢ']\n",
      "Place name: ПЯТНИЦКОЕ\n",
      "\n",
      "['ВЫЧЕГОДСКЪ']\n",
      "Place name: СОЛЬ-ВЫЧЕГОДСКЪ\n",
      "\n",
      "['ХОЛМУ']\n",
      "Place name: СПАСЪ\n",
      "\n",
      "['ЯМЩИКАХЪ']\n",
      "Place name: СПАСЪ\n",
      "\n",
      "['ХОЛМЪ', 'СПАСА']\n",
      "Place name: ХОЛМЪ У СПАСА\n",
      "\n",
      "['ЧАСОВНЯ', 'СВ', 'ДУХА']\n",
      "Place name: ЧАСОВНЯ СВ. ДУХА\n",
      "\n"
     ]
    }
   ],
   "source": [
    "for t in market_towns:\n",
    "    if 'extra_caps' in market_towns[t]:\n",
    "        print(\"{}\".format(market_towns[t]['extra_caps']))\n",
    "        print(\"Place name: {}\".format(market_towns[t]['name_old_orth']))\n",
    "        if 'alt_name_old_orth' in market_towns[t]:\n",
    "            print(\"Alt name: {}\".format(market_towns[t]['alt_name_old_orth']))\n",
    "        print(\"\")"
   ]
  },
  {
   "cell_type": "code",
   "execution_count": 30,
   "metadata": {
    "collapsed": false
   },
   "outputs": [],
   "source": [
    "with open(\"output/enhanced_dataset.json\",\"r\") as fp:\n",
    "    original_dataset = json.load(fp)\n",
    "for k,v in market_towns.items():\n",
    "    if k in original_dataset:\n",
    "        for k1,v1 in v:\n",
    "            if k1 in original_dataset[k]:\n",
    "                if v1 != original_dataset[k][k1]:\n",
    "                    v['query_datetime'] = datetime.datetime.strftime(datetime.datetime.now(),\"%Y-%m-%dT%H:%M:%S\")\n",
    "                    break"
   ]
  },
  {
   "cell_type": "markdown",
   "metadata": {},
   "source": [
    "Pandas!\n",
    "=======\n",
    "Everything has now been put into a pandas dataframe, so no more dicts!\n",
    "Still doing some text parsing and cleanup, but based on the data that we've collected, not the text."
   ]
  },
  {
   "cell_type": "code",
   "execution_count": 31,
   "metadata": {
    "collapsed": false
   },
   "outputs": [],
   "source": [
    "import pandas as pd\n",
    "import numpy as np"
   ]
  },
  {
   "cell_type": "code",
   "execution_count": 32,
   "metadata": {
    "collapsed": false
   },
   "outputs": [
    {
     "data": {
      "text/html": [
       "<div style=\"max-height:1000px;max-width:1500px;overflow:auto;\">\n",
       "<table border=\"1\" class=\"dataframe\">\n",
       "  <thead>\n",
       "    <tr style=\"text-align: right;\">\n",
       "      <th></th>\n",
       "      <th>name_old_orth</th>\n",
       "      <th>alt_name_old_orth</th>\n",
       "      <th>featuretype_old_orth</th>\n",
       "      <th>admin1_old_orth</th>\n",
       "      <th>admin2_old_orth</th>\n",
       "      <th>description_old_orth</th>\n",
       "      <th>page</th>\n",
       "    </tr>\n",
       "  </thead>\n",
       "  <tbody>\n",
       "    <tr>\n",
       "      <th>3</th>\n",
       "      <td>  АВДУЛОВО</td>\n",
       "      <td> ИВАНОВСКОЕ</td>\n",
       "      <td>      село</td>\n",
       "      <td>     Рязанскаго Намѣстничества</td>\n",
       "      <td>   Донковскомъ уѣздѣ</td>\n",
       "      <td> АВДУЛОВО, ИВАНОВСКОЕ тожь, &lt;/span&gt;&lt;span class=...</td>\n",
       "      <td> 10</td>\n",
       "    </tr>\n",
       "    <tr>\n",
       "      <th>4</th>\n",
       "      <td> АВЖЕНСКАЯ</td>\n",
       "      <td>       None</td>\n",
       "      <td>   волость</td>\n",
       "      <td>   Вологодскаго Намѣстничества</td>\n",
       "      <td>             и уѣзду</td>\n",
       "      <td> АВЖЕНСКАЯ , &lt;/span&gt;&lt;span class=\"font0\" style=\"...</td>\n",
       "      <td> 10</td>\n",
       "    </tr>\n",
       "    <tr>\n",
       "      <th>5</th>\n",
       "      <td> АВРАМІЕВЪ</td>\n",
       "      <td>       None</td>\n",
       "      <td> монастырь</td>\n",
       "      <td>   Костромскаго Намѣстничества</td>\n",
       "      <td>                None</td>\n",
       "      <td> АВРАМІЕВЪ&lt;/span&gt;&lt;span class=\"font0\" style=\"fon...</td>\n",
       "      <td> 10</td>\n",
       "    </tr>\n",
       "    <tr>\n",
       "      <th>6</th>\n",
       "      <td> АДОВАТОВО</td>\n",
       "      <td>       None</td>\n",
       "      <td>      село</td>\n",
       "      <td> Нижегородскаго Намѣстничества</td>\n",
       "      <td>   Арзамаскомъ уѣздѣ</td>\n",
       "      <td> АДОВАТОВО, &lt;/span&gt;&lt;span class=\"font0\" style=\"f...</td>\n",
       "      <td> 10</td>\n",
       "    </tr>\n",
       "    <tr>\n",
       "      <th>7</th>\n",
       "      <td>    АКСЕЛЬ</td>\n",
       "      <td>       None</td>\n",
       "      <td>      село</td>\n",
       "      <td>    Тамбовскаго Намѣстничества</td>\n",
       "      <td> Темниковскомъ уѣздѣ</td>\n",
       "      <td> АКСЕЛЬ, &lt;/span&gt;&lt;span class=\"font0\" style=\"font...</td>\n",
       "      <td> 10</td>\n",
       "    </tr>\n",
       "  </tbody>\n",
       "</table>\n",
       "</div>"
      ],
      "text/plain": [
       "  name_old_orth alt_name_old_orth featuretype_old_orth  \\\n",
       "3      АВДУЛОВО        ИВАНОВСКОЕ                 село   \n",
       "4     АВЖЕНСКАЯ              None              волость   \n",
       "5     АВРАМІЕВЪ              None            монастырь   \n",
       "6     АДОВАТОВО              None                 село   \n",
       "7        АКСЕЛЬ              None                 село   \n",
       "\n",
       "                 admin1_old_orth      admin2_old_orth  \\\n",
       "3      Рязанскаго Намѣстничества    Донковскомъ уѣздѣ   \n",
       "4    Вологодскаго Намѣстничества              и уѣзду   \n",
       "5    Костромскаго Намѣстничества                 None   \n",
       "6  Нижегородскаго Намѣстничества    Арзамаскомъ уѣздѣ   \n",
       "7     Тамбовскаго Намѣстничества  Темниковскомъ уѣздѣ   \n",
       "\n",
       "                                description_old_orth  page  \n",
       "3  АВДУЛОВО, ИВАНОВСКОЕ тожь, </span><span class=...    10  \n",
       "4  АВЖЕНСКАЯ , </span><span class=\"font0\" style=\"...    10  \n",
       "5  АВРАМІЕВЪ</span><span class=\"font0\" style=\"fon...    10  \n",
       "6  АДОВАТОВО, </span><span class=\"font0\" style=\"f...    10  \n",
       "7  АКСЕЛЬ, </span><span class=\"font0\" style=\"font...    10  "
      ]
     },
     "execution_count": 32,
     "metadata": {},
     "output_type": "execute_result"
    }
   ],
   "source": [
    "# creation of pandas dataframe based on previously created dict.\n",
    "market_df = pd.DataFrame.from_dict(market_towns,orient=\"index\")\n",
    "market_df = market_df[['name_old_orth','alt_name_old_orth','featuretype_old_orth','admin1_old_orth','admin2_old_orth','description_old_orth','page']]\n",
    "market_df.head()"
   ]
  },
  {
   "cell_type": "code",
   "execution_count": 33,
   "metadata": {
    "collapsed": false
   },
   "outputs": [
    {
     "data": {
      "text/html": [
       "<div style=\"max-height:1000px;max-width:1500px;overflow:auto;\">\n",
       "<table border=\"1\" class=\"dataframe\">\n",
       "  <thead>\n",
       "    <tr style=\"text-align: right;\">\n",
       "      <th></th>\n",
       "      <th>name_old_orth</th>\n",
       "      <th>alt_name_old_orth</th>\n",
       "      <th>featuretype_old_orth</th>\n",
       "      <th>admin1_old_orth</th>\n",
       "      <th>admin2_old_orth</th>\n",
       "      <th>description_old_orth</th>\n",
       "      <th>page</th>\n",
       "    </tr>\n",
       "  </thead>\n",
       "  <tbody>\n",
       "    <tr>\n",
       "      <th>122</th>\n",
       "      <td> ВОЛЬНАЯ</td>\n",
       "      <td> None</td>\n",
       "      <td> слобода</td>\n",
       "      <td> Харьковскаго Намѣстничества</td>\n",
       "      <td> Бѣлогородскомъ уѣздѣ</td>\n",
       "      <td> ВОЛЬНАЯ, &lt;/span&gt;&lt;span class=\"font0\" style=\"fon...</td>\n",
       "      <td> 29</td>\n",
       "    </tr>\n",
       "  </tbody>\n",
       "</table>\n",
       "</div>"
      ],
      "text/plain": [
       "    name_old_orth alt_name_old_orth featuretype_old_orth  \\\n",
       "122       ВОЛЬНАЯ              None              слобода   \n",
       "\n",
       "                 admin1_old_orth       admin2_old_orth  \\\n",
       "122  Харьковскаго Намѣстничества  Бѣлогородскомъ уѣздѣ   \n",
       "\n",
       "                                  description_old_orth  page  \n",
       "122  ВОЛЬНАЯ, </span><span class=\"font0\" style=\"fon...    29  "
      ]
     },
     "execution_count": 33,
     "metadata": {},
     "output_type": "execute_result"
    }
   ],
   "source": [
    "market_df[market_df.name_old_orth=='ВОЛЬНАЯ']"
   ]
  },
  {
   "cell_type": "code",
   "execution_count": 34,
   "metadata": {
    "collapsed": false
   },
   "outputs": [],
   "source": [
    "#pd.options.display.max_colwidth = 2000 #sets column width to 1000, should display entire description in df display when run."
   ]
  },
  {
   "cell_type": "code",
   "execution_count": 35,
   "metadata": {
    "collapsed": false
   },
   "outputs": [],
   "source": [
    "#These are false positives for uyezdi, they mention counties elsewhere in the description\n",
    "market_df.admin2_old_orth = market_df.admin2_old_orth.replace(r'[вВ]ъ уѣздѣ',\"not_in_text\",regex=True)\n",
    "market_df.admin2_old_orth = market_df.admin2_old_orth.replace(r'изъ уѣзду',\"not_in_text\",regex=True)"
   ]
  },
  {
   "cell_type": "markdown",
   "metadata": {},
   "source": [
    "Adding URLs to link to Hathi Trust"
   ]
  },
  {
   "cell_type": "code",
   "execution_count": 36,
   "metadata": {
    "collapsed": false
   },
   "outputs": [],
   "source": [
    "market_df['SOURCE'] = market_df.page.apply(lambda x: \"http://babel.hathitrust.org/cgi/pt?id=uc1.b4583201;view=1up;seq={}\".format(x-1))"
   ]
  },
  {
   "cell_type": "markdown",
   "metadata": {},
   "source": [
    "Some admin cleanup\n",
    "==================\n",
    "Here's a bit more housekeeping, replacing parts of administrative unit names that don't carry meaning, dealing with variant spellings, and getting rid of html in text descriptions"
   ]
  },
  {
   "cell_type": "code",
   "execution_count": 37,
   "metadata": {
    "collapsed": false
   },
   "outputs": [],
   "source": [
    "# Replacing parts of names that don't carry meaning\n",
    "market_df.admin1_old_orth = market_df.admin1_old_orth.replace('Графа Воронцова ','',regex=True) #a count of an area\n",
    "market_df.admin1_old_orth = market_df.admin1_old_orth.replace('Графа Шереметева, ','',regex=True) #a count of an area\n",
    "market_df.admin1_old_orth = market_df.admin1_old_orth.replace('Графа Гендрикова въ ','',regex=True) #a count of an area\n",
    "market_df.admin1_old_orth = market_df.admin1_old_orth.replace('Неплюевыхъ, ','',regex=True) #a count of an area\n",
    "market_df.admin1_old_orth = market_df.admin1_old_orth.replace('разныхъ Помѣщиковъ ','',regex=True) #different landlords\n",
    "market_df.admin1_old_orth = market_df.admin1_old_orth.replace('разныхъ Господъ ','',regex=True) #various gentlemen\n",
    "market_df.admin1_old_orth = market_df.admin1_old_orth.replace('Меньшикова въ ','',regex=True)\n",
    "market_df.admin1_old_orth = market_df.admin1_old_orth.replace('Неплюе-выхъ, ','',regex=True)\n",
    "market_df.admin1_old_orth = market_df.admin1_old_orth.replace('уральскихъ Козаковъ въ ','',regex=True) #of the Ural Cossacks\n",
    "market_df.admin1_old_orth = market_df.admin1_old_orth.replace('урочищѣ Собора Николая Чудотворца Гостунскаго, ','',regex=True) #In the tract of the Cathedral of St. Nicholas Gostunskii\n",
    "market_df.admin1_old_orth = market_df.admin1_old_orth.replace(' же','',regex=True)\n",
    "market_df.admin1_old_orth = market_df.admin1_old_orth.replace(r'^[Вв]ъ ','',regex=True)"
   ]
  },
  {
   "cell_type": "code",
   "execution_count": 38,
   "metadata": {
    "collapsed": false
   },
   "outputs": [],
   "source": [
    "#market_df.ix[market_df.admin1_old_orth=='Неплюевыхъ, Черниговскаго Намѣстничества']"
   ]
  },
  {
   "cell_type": "code",
   "execution_count": 39,
   "metadata": {
    "collapsed": false
   },
   "outputs": [],
   "source": [
    "#market_df.admin1_old_orth.unique()\n",
    "#Use this output to spot check Namiestnichestva for errors"
   ]
  },
  {
   "cell_type": "code",
   "execution_count": 40,
   "metadata": {
    "collapsed": false
   },
   "outputs": [],
   "source": [
    "#market_df.admin2_old_orth.unique()\n",
    "#Use this output to spot check uezd for errors"
   ]
  },
  {
   "cell_type": "code",
   "execution_count": 41,
   "metadata": {
    "collapsed": false
   },
   "outputs": [],
   "source": [
    "# Replacing variant spellings of Namiestnichestva and uyezd with a single spelling.\n",
    "market_df.admin1_old_orth = market_df.admin1_old_orth.replace('На(?:мѣ){0,1}стнич[ел]ств[аѣ]','Намѣстничества',regex=True)\n",
    "market_df.admin1_old_orth = market_df.admin1_old_orth.replace('уѣзд[уѣ]','уѣздѣ',regex=True)"
   ]
  },
  {
   "cell_type": "markdown",
   "metadata": {},
   "source": [
    "When is a name not a name?\n",
    "==========================\n",
    "When it's actually a reference to something else in the text!  \n",
    "These next few cells replace phrases that mean \"the same thing as...\" and replace them with what they're talking about.  \n",
    "Anything that uses the `replace_sameas` function is replacing \"horizontally\", so when a city is also a seat of an administrative unit, or a town is in an uyezd that is also a Namiestnichestva.  \n",
    "Anything that has a `replacer` is replacing \"vertically\", when the text is referring to a previous entry."
   ]
  },
  {
   "cell_type": "code",
   "execution_count": 42,
   "metadata": {
    "collapsed": false
   },
   "outputs": [],
   "source": [
    "def replace_sameas(df, original, replacement, match_list, kind=\"Намѣстничества\"):\n",
    "    \"\"\"\n",
    "    df: dataframe to be modified\n",
    "    original: column name in pandas data frame\n",
    "    replacement: column name in same pandas data frame\n",
    "    match_list: list of strings which, in original, indicate that they should be replaced by the corresponding values in replacement\n",
    "    \n",
    "    For each string in match_list, this function replaces said string in original with the corresponding value in replacement, converted to title case for convenience.\n",
    "    Place types are added after place names for consistent further processing. Type defaults to Намѣстничества.\n",
    "    This is an in place transformation in the dataframe.\n",
    "    \"\"\"\n",
    "    for match in match_list:\n",
    "        cond = df[original] == match\n",
    "        df[original][cond] = df[replacement][cond].str.title()+\" {}\".format(kind)\n",
    "    return 0"
   ]
  },
  {
   "cell_type": "code",
   "execution_count": 43,
   "metadata": {
    "collapsed": false
   },
   "outputs": [],
   "source": [
    "replacer = market_df.ix[np.logical_and(market_df.admin1_old_orth == \"того Намѣстничества\",np.logical_or(market_df.admin1_old_orth==\"и уѣзду\",market_df.admin1_old_orth==\"и уѣздѣ\"))].index.tolist()\n",
    "for x in replacer:\n",
    "    market_df.loc[x,'admin2_old_orth'] = market_df.loc[x-1]['admin2_old_orth']\n",
    "    market_df.loc[x,'admin1_old_orth'] = market_df.loc[x-1]['admin1_old_orth']"
   ]
  },
  {
   "cell_type": "code",
   "execution_count": 44,
   "metadata": {
    "collapsed": false
   },
   "outputs": [],
   "source": [
    "replacer = market_df.ix[market_df.admin1_old_orth == \"того Намѣстничества\"].index.tolist()\n",
    "for x in replacer:\n",
    "    market_df.loc[x,'admin1_old_orth'] = market_df.loc[x-1]['admin1_old_orth']"
   ]
  },
  {
   "cell_type": "code",
   "execution_count": 45,
   "metadata": {
    "collapsed": false
   },
   "outputs": [],
   "source": [
    "replacer = market_df.ix[market_df.admin1_old_orth == \"той Губерніи\"].index.tolist()\n",
    "for x in replacer:\n",
    "    market_df.loc[x,'admin1_old_orth'] = market_df.loc[x-1]['admin1_old_orth']"
   ]
  },
  {
   "cell_type": "code",
   "execution_count": 46,
   "metadata": {
    "collapsed": false
   },
   "outputs": [
    {
     "data": {
      "text/plain": [
       "0"
      ]
     },
     "execution_count": 46,
     "metadata": {},
     "output_type": "execute_result"
    }
   ],
   "source": [
    "# Replacing \"same Namiestnichestva\" statements with appropriate Namiestnichestva name\n",
    "match_list = [\"Намѣстничества сего имени\"]\n",
    "replace_sameas(market_df,'admin1_old_orth','name_old_orth',match_list)"
   ]
  },
  {
   "cell_type": "code",
   "execution_count": 47,
   "metadata": {
    "collapsed": false
   },
   "outputs": [],
   "source": [
    "# Replacing \"and uyezd\" statements with appropriate Namiestnichestva name\n",
    "match_list = [\"и уѣзду\",\"и уѣздѣ\"]\n",
    "replace_sameas(market_df,'admin2_old_orth','admin1_old_orth',match_list,kind=\"уѣздѣ\")\n",
    "market_df.admin2_old_orth = market_df.admin2_old_orth.replace(r' На(?:мѣ){0,1}стнич[ел]ств[аѣ]','',regex=True)"
   ]
  },
  {
   "cell_type": "markdown",
   "metadata": {},
   "source": [
    "Stripping html from text, preserving html text in case it's needed"
   ]
  },
  {
   "cell_type": "code",
   "execution_count": 48,
   "metadata": {
    "collapsed": false
   },
   "outputs": [],
   "source": [
    "from lxml import html\n",
    "def strip_html(text):\n",
    "    \"\"\"\n",
    "    Strips HTML entities from variable text\n",
    "    \"\"\"\n",
    "    return html.fromstring(text).text_content()"
   ]
  },
  {
   "cell_type": "code",
   "execution_count": 49,
   "metadata": {
    "collapsed": false
   },
   "outputs": [],
   "source": [
    "market_df['html_text'] = market_df.description_old_orth"
   ]
  },
  {
   "cell_type": "code",
   "execution_count": 50,
   "metadata": {
    "collapsed": false
   },
   "outputs": [],
   "source": [
    "market_df.description_old_orth = market_df.description_old_orth.apply(strip_html)"
   ]
  },
  {
   "cell_type": "markdown",
   "metadata": {},
   "source": [
    "Orthography Modernization\n",
    "========================="
   ]
  },
  {
   "cell_type": "code",
   "execution_count": 51,
   "metadata": {
    "collapsed": false
   },
   "outputs": [],
   "source": [
    "import re,json\n",
    "from lxml import html\n",
    "\n",
    "with open(\"resources/special_cases.json\",'r',encoding='utf-8') as fp:\n",
    "    lookup_dict = json.load(fp)\n",
    "\n",
    "def ortho_rules(text,lookup_dict):\n",
    "    \"\"\"\n",
    "    Takes a text string and a lookup dict as input\n",
    "    Removes any lingering html tags\n",
    "    Breaks the string down into component words with split\n",
    "    Uses replacements to modernize orthography\n",
    "    Returns re-assembled text with modern orthography\n",
    "    \"\"\"\n",
    "    if type(text)==str:\n",
    "        text = html.fromstring(text).text_content()\n",
    "        textlist = text.split(' ')\n",
    "        out_list = []\n",
    "        for word in textlist:\n",
    "            if word in [',','.',';',':']:\n",
    "                out_list.append(word)\n",
    "                continue\n",
    "            punct = \"\"\n",
    "            if len(re.findall(r\"([,.;:])$\",word))!=0:\n",
    "                   punct = re.findall(r\"([,.;:])$\",word)[0]\n",
    "            word = word.strip(',.;:')\n",
    "            if word in lookup_dict:\n",
    "                word = lookup_dict[word]\n",
    "                out_list.append(word)\n",
    "            else:\n",
    "                word = re.sub(\"[Ъъ]$\",'',word)\n",
    "                word = re.sub(r\"^([че]{0,2}[ч]?[вбнр]?[веоаи])з([ПФКТШСЧпфктшсч])\",r\"\\1с\\2\",word,re.IGNORECASE)\n",
    "                word = re.sub(\"аго$\",\"ого\",word,re.IGNORECASE)\n",
    "                word = re.sub(\"яго$\",\"его\",word,re.IGNORECASE)\n",
    "                word = re.sub(\"ыя$\",\"ые\",word,re.IGNORECASE)\n",
    "                word = re.sub(\"iя$\",\"ие\",word,re.IGNORECASE)\n",
    "                word = word.replace('i','и') #english\n",
    "                word = word.replace('I','И') #english\n",
    "                word = word.replace('і','и') #cyrillic\n",
    "                word = word.replace('І','И') #cyrillic\n",
    "                word = word.replace('Ѣ','Е')\n",
    "                word = word.replace('ѣ','е')\n",
    "                word = word.replace('Ѳ','Ф')\n",
    "                word = word.replace('ѳ','ф')\n",
    "                word += punct\n",
    "                out_list.append(word)\n",
    "        out_str = ' '.join(out_list)\n",
    "        return out_str\n",
    "    else:\n",
    "        return None"
   ]
  },
  {
   "cell_type": "code",
   "execution_count": 52,
   "metadata": {
    "collapsed": false
   },
   "outputs": [
    {
     "data": {
      "text/plain": [
       "'ВЕРХОВАЖСКОЙ, посад Вологодского Наместничества. Здесь бывает ярмарка около 15 числа Марша месяца потри дни. Останавливаются здесь купцы с товарами едущие с Благовещенской Важенской ярмарки; также съезжается туда и крестьянство с своими для продажи приуготовлениями.'"
      ]
     },
     "execution_count": 52,
     "metadata": {},
     "output_type": "execute_result"
    }
   ],
   "source": [
    "text = \"ВЕРХОВАЖСКОЙ, посадъ Вологодскаго Намѣстничества. Здѣсь бываетъ ярмарка около 15 числа Марша мѣсяца потри дни. Останавливаются здѣсь купцы съ товарами ѣдущіе съ Благовѣщенской Важенской ярмарки; также съѣзжается туда и крестьянство съ своими для продажи пріуготовленіями.\"\n",
    "ortho_rules(text,lookup_dict)"
   ]
  },
  {
   "cell_type": "code",
   "execution_count": 53,
   "metadata": {
    "collapsed": false
   },
   "outputs": [],
   "source": [
    "market_df['name_new_orth'] = market_df.name_old_orth.apply(ortho_rules,args=[lookup_dict])"
   ]
  },
  {
   "cell_type": "code",
   "execution_count": 54,
   "metadata": {
    "collapsed": false
   },
   "outputs": [
    {
     "data": {
      "text/plain": [
       "3                 АВДУЛОВО\n",
       "4                АВЖЕНСКАЯ\n",
       "5                АВРАМІЕВЪ\n",
       "6                АДОВАТОВО\n",
       "7                   АКСЕЛЬ\n",
       "8                  АЛАТЫРЬ\n",
       "9     АЛЕКСАНДРОВА ПУСТЫНЯ\n",
       "10         АЛЕКСАНДРОВСКОЕ\n",
       "11                АЛЕКСИНЪ\n",
       "12              АЛЕКСѢЕВКА\n",
       "13            АЛЕКСѢЕВСКАЯ\n",
       "14                  АЛЕШНЯ\n",
       "15                  АНАЕВО\n",
       "16               АНДРЕЕВКА\n",
       "17               АНТОНОВКА\n",
       "...\n",
       "790        ЮРЬЕВЪ ПОЛЬСКІЙ\n",
       "791    ЮРЬЕВЕЦЪ ПОВОЛГСКІЙ\n",
       "792               ЯБЛУНОВЪ\n",
       "793                ЯГОТИНЪ\n",
       "794                 ЯДРИНЪ\n",
       "795                ЯЗЫКОВО\n",
       "796                ЯКУТСКЪ\n",
       "797                 ЯМПОЛЬ\n",
       "798                 ЯМПОЛЬ\n",
       "799                 ЯМСКАЯ\n",
       "800                ЯРАНСКЪ\n",
       "801                ЯРЕНСКЪ\n",
       "802                 ЯРЕСКИ\n",
       "803              ЯРОСЛАВЛЬ\n",
       "804                    ЯШЪ\n",
       "Name: name_old_orth, Length: 802, dtype: object"
      ]
     },
     "execution_count": 54,
     "metadata": {},
     "output_type": "execute_result"
    }
   ],
   "source": [
    "market_df.name_old_orth"
   ]
  },
  {
   "cell_type": "code",
   "execution_count": 55,
   "metadata": {
    "collapsed": false
   },
   "outputs": [],
   "source": [
    "market_df['alt_name_new_orth'] = market_df.alt_name_old_orth.apply(ortho_rules,args=[lookup_dict])\n",
    "market_df['admin1_new_orth'] = market_df.admin1_old_orth.apply(ortho_rules,args=[lookup_dict])\n",
    "market_df['admin2_new_orth'] = market_df.admin2_old_orth.apply(ortho_rules,args=[lookup_dict])\n",
    "#market_df.head()"
   ]
  },
  {
   "cell_type": "markdown",
   "metadata": {},
   "source": [
    "Lemmatization\n",
    "=============\n",
    "Here's where we start lemmatizing some of the text. `ru_stemmer` below uses the nltk snowball stemmer to generalize terms."
   ]
  },
  {
   "cell_type": "code",
   "execution_count": 56,
   "metadata": {
    "collapsed": false
   },
   "outputs": [],
   "source": [
    "import nltk"
   ]
  },
  {
   "cell_type": "code",
   "execution_count": 57,
   "metadata": {
    "collapsed": false
   },
   "outputs": [],
   "source": [
    "ru_stemmer = nltk.stem.SnowballStemmer('russian')"
   ]
  },
  {
   "cell_type": "code",
   "execution_count": 58,
   "metadata": {
    "collapsed": false
   },
   "outputs": [],
   "source": [
    "market_df['admin1_stem'] = market_df[market_df.admin1_new_orth.isnull()==False].admin1_new_orth.replace(' [А-Яа-я]+$','',regex=True).apply(ru_stemmer.stem)\n",
    "market_df['admin2_stem'] = market_df[market_df.admin2_new_orth.isnull()==False].admin2_new_orth.replace(' уезде$','',regex=True).apply(ru_stemmer.stem)"
   ]
  },
  {
   "cell_type": "code",
   "execution_count": 59,
   "metadata": {
    "collapsed": false
   },
   "outputs": [],
   "source": [
    "#standardizing admin1 names from stems\n",
    "market_df.admin1_stem = market_df.admin1_stem.replace('владимерк','владимерск')\n",
    "market_df.admin1_stem = market_df.admin1_stem.replace('володимерск','владимерск')\n",
    "market_df.admin1_stem = market_df.admin1_stem.replace('воронеж','воронежск')\n",
    "market_df.admin1_stem = market_df.admin1_stem.replace('выборгск','выборг')\n",
    "market_df.admin1_stem = market_df.admin1_stem.replace('костромск','кострома')\n",
    "market_df.admin1_stem = market_df.admin1_stem.replace('костром','кострома')\n",
    "market_df.admin1_stem = market_df.admin1_stem.replace('гороховск','гороховецск')\n",
    "market_df.admin1_stem = market_df.admin1_stem.replace('новогородского - северск','новогород - северск')\n",
    "market_df.admin1_stem = market_df.admin1_stem.replace('новогородск','новгородск')\n",
    "market_df.admin1_stem = market_df.admin1_stem.replace('олонец','олонецк')\n",
    "market_df.admin1_stem = market_df.admin1_stem.replace('пенз','пензенск')\n",
    "market_df.admin1_stem = market_df.admin1_stem.replace('перм','пермск')\n",
    "market_df.admin1_stem = market_df.admin1_stem.replace('псков','псковск')\n",
    "market_df.admin1_stem = market_df.admin1_stem.replace('риг','рижск')\n",
    "market_df.admin1_stem = market_df.admin1_stem.replace('рязан','рязанск')\n",
    "market_df.admin1_stem = market_df.admin1_stem.replace('сарат','саратовск')\n",
    "market_df.admin1_stem = market_df.admin1_stem.replace('тамб','тамбовск')\n",
    "market_df.admin1_stem = market_df.admin1_stem.replace('твер','тверск')\n",
    "market_df.admin1_stem = market_df.admin1_stem.replace('тул','тульск')\n",
    "market_df.admin1_stem = market_df.admin1_stem.replace('тульскаг','тульск')\n",
    "market_df.admin1_stem = market_df.admin1_stem.replace('черниг','черниговск')\n",
    "market_df.admin1_stem = market_df.admin1_stem.replace('ярославл','ярославск')\n",
    "market_df.admin1_stem = market_df.admin1_stem.replace('харьк','харьковск')\n",
    "market_df.admin1_stem = market_df.admin1_stem.replace('с. петербургск','с петербургск')\n",
    "market_df.admin1_stem = market_df.admin1_stem.replace('симбирск','синбирск')\n",
    "market_df.admin1_stem = market_df.admin1_stem.replace('новогородскаго-северск','новогород - северск')"
   ]
  },
  {
   "cell_type": "code",
   "execution_count": 60,
   "metadata": {
    "collapsed": false
   },
   "outputs": [],
   "source": [
    "#standardizing admin2 names from stems\n",
    "market_df.admin2_stem = market_df.admin2_stem.replace('гороховск','гороховецк')\n",
    "market_df.admin2_stem = market_df.admin2_stem.replace('алатырск','алатырьск')\n",
    "market_df.admin2_stem = market_df.admin2_stem.replace('харьков','харьковск')"
   ]
  },
  {
   "cell_type": "code",
   "execution_count": 61,
   "metadata": {
    "collapsed": false
   },
   "outputs": [],
   "source": [
    "market_df.ix[market_df.featuretype_old_orth=='городъ','admin2_stem'] = market_df.name_new_orth.str.lower()"
   ]
  },
  {
   "cell_type": "code",
   "execution_count": 62,
   "metadata": {
    "collapsed": false
   },
   "outputs": [
    {
     "data": {
      "text/plain": [
       "array(['рязанск', 'вологодск', 'кострома', 'нижегородск', 'тамбовск',\n",
       "       'синбирск', 'ярославск', 'пензенск', 'тульск', 'воронежск',\n",
       "       'екатеринославск', 'курск', 'харьковск', 'могилевск', 'орловск',\n",
       "       'архангельск', 'кавказск', 'саратовск', nan, 'киевск',\n",
       "       'новогород - северск', 'черниговск', 'тобольск', 'московск',\n",
       "       'казанск', 'полотск', 'пермск', 'уфимск', 'владимерск', 'тверск',\n",
       "       'новгородск', 'калужск', 'смоленск', 'рижск', 'иркутск', 'выборг',\n",
       "       'псковск', 'олонецк', 'ревельск', 'вятск', 'с петербургск'], dtype=object)"
      ]
     },
     "execution_count": 62,
     "metadata": {},
     "output_type": "execute_result"
    }
   ],
   "source": [
    "market_df.admin1_stem.unique()"
   ]
  },
  {
   "cell_type": "code",
   "execution_count": 63,
   "metadata": {
    "collapsed": false
   },
   "outputs": [
    {
     "data": {
      "text/plain": [
       "0.5399002493765586"
      ]
     },
     "execution_count": 63,
     "metadata": {},
     "output_type": "execute_result"
    }
   ],
   "source": [
    "len(market_df.ix[market_df.admin2_old_orth.isnull()==False])/len(market_df)"
   ]
  },
  {
   "cell_type": "code",
   "execution_count": 64,
   "metadata": {
    "collapsed": false
   },
   "outputs": [
    {
     "data": {
      "text/html": [
       "<div style=\"max-height:1000px;max-width:1500px;overflow:auto;\">\n",
       "<table border=\"1\" class=\"dataframe\">\n",
       "  <thead>\n",
       "    <tr style=\"text-align: right;\">\n",
       "      <th></th>\n",
       "      <th>name_old_orth</th>\n",
       "      <th>admin1_old_orth</th>\n",
       "      <th>description_old_orth</th>\n",
       "    </tr>\n",
       "  </thead>\n",
       "  <tbody>\n",
       "    <tr>\n",
       "      <th>77 </th>\n",
       "      <td>                 БУРЕЦКОЙ</td>\n",
       "      <td> None</td>\n",
       "      <td> БУРЕЦКОЙ, погостъ въ Новгородскомъ уѣздѣ. Здѣс...</td>\n",
       "    </tr>\n",
       "    <tr>\n",
       "      <th>121</th>\n",
       "      <td>                  ВОЛЫНЦЫ</td>\n",
       "      <td> None</td>\n",
       "      <td> ВОЛЫНЦЫ, мѣстечко въ уѣздѣ города Полотска. Зд...</td>\n",
       "    </tr>\n",
       "    <tr>\n",
       "      <th>383</th>\n",
       "      <td>                    ЛИПЦЫ</td>\n",
       "      <td> None</td>\n",
       "      <td> ЛИПЦЫ, слобода въ уѣздѣ города Харькова. Здѣсь...</td>\n",
       "    </tr>\n",
       "    <tr>\n",
       "      <th>384</th>\n",
       "      <td>                   ЛИСКОЙ</td>\n",
       "      <td> None</td>\n",
       "      <td> ЛИСКОЙ , волокъ , что на Сингѣ, въ Вологодском...</td>\n",
       "    </tr>\n",
       "    <tr>\n",
       "      <th>386</th>\n",
       "      <td>                 ЛОПОТОВЪ</td>\n",
       "      <td> None</td>\n",
       "      <td> ЛОПОТОВЪ, монастырь въ Вологодскомъ уѣздѣ. Здѣ...</td>\n",
       "    </tr>\n",
       "    <tr>\n",
       "      <th>492</th>\n",
       "      <td>                 ОЛЫШАНАЯ</td>\n",
       "      <td> None</td>\n",
       "      <td> ОЛЫШАНАЯ, слобода въ уѣздѣ города Харькова. Зд...</td>\n",
       "    </tr>\n",
       "    <tr>\n",
       "      <th>519</th>\n",
       "      <td>               ПЕРЕКОПЕЦЪ</td>\n",
       "      <td> None</td>\n",
       "      <td> ПЕРЕКОПЕЦЪ , мѣстечко въ уѣздѣ города Харькова...</td>\n",
       "    </tr>\n",
       "    <tr>\n",
       "      <th>611</th>\n",
       "      <td> СВИРСКОЙ АЛЕКСАНДРОВСКОЙ</td>\n",
       "      <td> None</td>\n",
       "      <td> СВИРСКОЙ АЛЕКСАНДРОВСКОЙ , монастырь въ Олонец...</td>\n",
       "    </tr>\n",
       "    <tr>\n",
       "      <th>677</th>\n",
       "      <td>               ТАРНЯНСКОЙ</td>\n",
       "      <td> None</td>\n",
       "      <td> ТАРНЯНСКОЙ, городокъ Кокшайской четверти въ уѣ...</td>\n",
       "    </tr>\n",
       "    <tr>\n",
       "      <th>694</th>\n",
       "      <td>                ТОМАРОВКА</td>\n",
       "      <td> None</td>\n",
       "      <td> ТОМАРОВКА, слобода въ уѣздѣ города Карпова. Въ...</td>\n",
       "    </tr>\n",
       "    <tr>\n",
       "      <th>735</th>\n",
       "      <td>                  ХАТОМЛЬ</td>\n",
       "      <td> None</td>\n",
       "      <td> ХАТОМЛЬ, слобода въ уѣздѣ города Харькова. Здѣ...</td>\n",
       "    </tr>\n",
       "    <tr>\n",
       "      <th>749</th>\n",
       "      <td>                    ЦЕВЛЯ</td>\n",
       "      <td> None</td>\n",
       "      <td> ЦЕВЛЯ, село Г. Сумарокова въ уѣздѣ города Опоч...</td>\n",
       "    </tr>\n",
       "    <tr>\n",
       "      <th>759</th>\n",
       "      <td>              ЧЕРЕНЧИЦКОЙ</td>\n",
       "      <td> None</td>\n",
       "      <td> ЧЕРЕНЧИЦКОЙ, погостъ въ уѣздѣ города Старой Ру...</td>\n",
       "    </tr>\n",
       "  </tbody>\n",
       "</table>\n",
       "</div>"
      ],
      "text/plain": [
       "                name_old_orth admin1_old_orth  \\\n",
       "77                   БУРЕЦКОЙ            None   \n",
       "121                   ВОЛЫНЦЫ            None   \n",
       "383                     ЛИПЦЫ            None   \n",
       "384                    ЛИСКОЙ            None   \n",
       "386                  ЛОПОТОВЪ            None   \n",
       "492                  ОЛЫШАНАЯ            None   \n",
       "519                ПЕРЕКОПЕЦЪ            None   \n",
       "611  СВИРСКОЙ АЛЕКСАНДРОВСКОЙ            None   \n",
       "677                ТАРНЯНСКОЙ            None   \n",
       "694                 ТОМАРОВКА            None   \n",
       "735                   ХАТОМЛЬ            None   \n",
       "749                     ЦЕВЛЯ            None   \n",
       "759               ЧЕРЕНЧИЦКОЙ            None   \n",
       "\n",
       "                                  description_old_orth  \n",
       "77   БУРЕЦКОЙ, погостъ въ Новгородскомъ уѣздѣ. Здѣс...  \n",
       "121  ВОЛЫНЦЫ, мѣстечко въ уѣздѣ города Полотска. Зд...  \n",
       "383  ЛИПЦЫ, слобода въ уѣздѣ города Харькова. Здѣсь...  \n",
       "384  ЛИСКОЙ , волокъ , что на Сингѣ, въ Вологодском...  \n",
       "386  ЛОПОТОВЪ, монастырь въ Вологодскомъ уѣздѣ. Здѣ...  \n",
       "492  ОЛЫШАНАЯ, слобода въ уѣздѣ города Харькова. Зд...  \n",
       "519  ПЕРЕКОПЕЦЪ , мѣстечко въ уѣздѣ города Харькова...  \n",
       "611  СВИРСКОЙ АЛЕКСАНДРОВСКОЙ , монастырь въ Олонец...  \n",
       "677  ТАРНЯНСКОЙ, городокъ Кокшайской четверти въ уѣ...  \n",
       "694  ТОМАРОВКА, слобода въ уѣздѣ города Карпова. Въ...  \n",
       "735  ХАТОМЛЬ, слобода въ уѣздѣ города Харькова. Здѣ...  \n",
       "749  ЦЕВЛЯ, село Г. Сумарокова въ уѣздѣ города Опоч...  \n",
       "759  ЧЕРЕНЧИЦКОЙ, погостъ въ уѣздѣ города Старой Ру...  "
      ]
     },
     "execution_count": 64,
     "metadata": {},
     "output_type": "execute_result"
    }
   ],
   "source": [
    "market_df.ix[np.logical_and(market_df.admin1_old_orth.isnull(),market_df.admin2_old_orth.isnull()==False)][['name_old_orth','admin1_old_orth','description_old_orth']]\n",
    "#Spot check to make sure that Namiestnichestva isn't in text, but uezd is."
   ]
  },
  {
   "cell_type": "code",
   "execution_count": 65,
   "metadata": {
    "collapsed": false
   },
   "outputs": [],
   "source": [
    "market_df.admin2_stem.fillna(value='not_in_text',inplace=True)\n",
    "market_df.admin1_stem.fillna(value='not_in_text',inplace=True)"
   ]
  },
  {
   "cell_type": "markdown",
   "metadata": {},
   "source": [
    "Adding partof IDs\n",
    "================="
   ]
  },
  {
   "cell_type": "code",
   "execution_count": 66,
   "metadata": {
    "collapsed": false
   },
   "outputs": [],
   "source": [
    "with open(\"resources/place_adj.json\",\"r\",encoding='utf-8') as fp:\n",
    "    adj_dict = json.load(fp)"
   ]
  },
  {
   "cell_type": "code",
   "execution_count": 67,
   "metadata": {
    "collapsed": false
   },
   "outputs": [],
   "source": [
    "def dedupe_dict(to_dedupe):\n",
    "    \"\"\"\n",
    "    removes key/value pairs that are the same as one another\n",
    "    \"\"\"\n",
    "    to_pop = []\n",
    "    for a in to_dedupe:\n",
    "        if a == to_dedupe[a]:\n",
    "            to_pop.append(a)\n",
    "    for v in to_pop:\n",
    "        to_dedupe.pop(v)"
   ]
  },
  {
   "cell_type": "code",
   "execution_count": 68,
   "metadata": {
    "collapsed": false
   },
   "outputs": [],
   "source": [
    "dedupe_dict(adj_dict)"
   ]
  },
  {
   "cell_type": "code",
   "execution_count": 69,
   "metadata": {
    "collapsed": false
   },
   "outputs": [],
   "source": [
    "# replaces non-adjectival stems with adjectival stems\n",
    "market_df.admin2_stem.replace(adj_dict,inplace=True)"
   ]
  },
  {
   "cell_type": "code",
   "execution_count": 70,
   "metadata": {
    "collapsed": false
   },
   "outputs": [],
   "source": [
    "market_df['admin_hierarchy'] = market_df.admin1_stem\n",
    "cond = market_df.admin2_stem.notnull()\n",
    "market_df.admin_hierarchy[cond] = market_df.admin_hierarchy + \"|\" + market_df.admin2_stem"
   ]
  },
  {
   "cell_type": "code",
   "execution_count": 71,
   "metadata": {
    "collapsed": false
   },
   "outputs": [],
   "source": [
    "with open(\"resources/admin_lookup.json\",\"r\",encoding='utf-8') as fp:\n",
    "    new_lookup = json.load(fp)"
   ]
  },
  {
   "cell_type": "code",
   "execution_count": 72,
   "metadata": {
    "collapsed": false
   },
   "outputs": [],
   "source": [
    "errlist = []"
   ]
  },
  {
   "cell_type": "code",
   "execution_count": 73,
   "metadata": {
    "collapsed": true
   },
   "outputs": [],
   "source": [
    "def partof_prov_lookup(admin_hierarchy,lookup=new_lookup):\n",
    "    admins = admin_hierarchy.split('|')\n",
    "    admin1_stem = admins[0]\n",
    "    admin2_stem = admins[1]\n",
    "    if admin1_stem == 'not_in_text':\n",
    "        admin1 = None\n",
    "    if admin2_stem == 'not_in_text':\n",
    "        admin2 = None\n",
    "    if admin1_stem != 'not_in_text' and admin1_stem in lookup:\n",
    "        admin1 = lookup[admin1_stem]['id']\n",
    "        if admin2_stem != 'not_in_text' and admin2_stem in lookup[admin1_stem]:\n",
    "            admin2 = lookup[admin1_stem][admin2_stem]['id']\n",
    "        else:\n",
    "            if admin2_stem != 'not_in_text':\n",
    "                print(\"{} was not found in lookup under admin1: {}\".format(admin2_stem,admin1_stem))\n",
    "                admin2 = None\n",
    "                errlist.append(admin2_stem)\n",
    "    else:\n",
    "        if admin1_stem != 'not_in_text':\n",
    "            print(\"{} was not found in lookup as admin1.\".format(admin1_stem))\n",
    "            admin1 = None\n",
    "            admin2 = None\n",
    "        else:\n",
    "            admin2 = None\n",
    "            for p in lookup:\n",
    "                if admin2_stem in lookup[p]:\n",
    "                    admin1 = lookup[p]['id']\n",
    "                    admin2 = lookup[p][admin2_stem]['id']\n",
    "                    #print(\"CHECK ME: {}|{}\".format(admin1,admin2))\n",
    "                    break\n",
    "    try:\n",
    "        return admin1,admin2\n",
    "    except UnboundLocalError:\n",
    "        print(\"UNBOUND: {}, {}\".format(admin1_stem,admin2_stem))\n",
    "        return None,None"
   ]
  },
  {
   "cell_type": "code",
   "execution_count": 74,
   "metadata": {
    "collapsed": false
   },
   "outputs": [],
   "source": [
    "market_df['admin1_partofID'], market_df['admin2_partofID'] = '', ''"
   ]
  },
  {
   "cell_type": "code",
   "execution_count": 75,
   "metadata": {
    "collapsed": false
   },
   "outputs": [
    {
     "name": "stdout",
     "output_type": "stream",
     "text": [
      "белополье was not found in lookup under admin1: харьковск\n",
      "венденск was not found in lookup under admin1: рижск\n",
      "волск was not found in lookup under admin1: саратовск\n",
      "мглинск was not found in lookup under admin1: черниговск\n",
      "глухов was not found in lookup under admin1: новогород - северск\n",
      "грязовецк was not found in lookup under admin1: вологодск\n",
      "енисейск was not found in lookup under admin1: тобольск\n",
      "золочев was not found in lookup under admin1: харьковск\n",
      "клинск was not found in lookup under admin1: московск\n",
      "конотоп was not found in lookup under admin1: новогород - северск\n",
      "короп was not found in lookup under admin1: новогород - северск\n",
      "корсунь was not found in lookup under admin1: синбирск\n",
      "кошира was not found in lookup under admin1: тульск\n",
      "кременчуг was not found in lookup under admin1: екатеринославск\n",
      "крестцы was not found in lookup under admin1: новгородск\n",
      "кролевец was not found in lookup under admin1: новогород - северск\n",
      "кунгур was not found in lookup under admin1: пермск\n",
      "ладога новая was not found in lookup under admin1: с петербургск\n",
      "михайлов was not found in lookup under admin1: рязанск\n",
      "нарва was not found in lookup under admin1: с петербургск\n",
      "невель was not found in lookup under admin1: полотск\n",
      "нерехта was not found in lookup under admin1: кострома\n",
      "новой миргород was not found in lookup under admin1: екатеринославск\n",
      "новой оскол was not found in lookup under admin1: курск\n",
      "обоянь was not found in lookup under admin1: курск\n",
      "олекминск was not found in lookup under admin1: иркутск\n",
      "оренбург was not found in lookup under admin1: уфимск\n",
      "остер was not found in lookup under admin1: киевск\n",
      "пирятинск was not found in lookup under admin1: киевск\n",
      "погарь was not found in lookup under admin1: новогород - северск\n",
      "тюмен was not found in lookup under admin1: тобольск\n",
      "руза was not found in lookup under admin1: московск\n",
      "самара was not found in lookup under admin1: синбирск\n",
      "себеж was not found in lookup under admin1: полотск\n",
      "сердоболь was not found in lookup under admin1: выборг\n",
      "пошехонском  was not found in lookup under admin1: ярославск\n",
      "сызрань was not found in lookup under admin1: синбирск\n",
      "торжок was not found in lookup under admin1: тверск\n",
      "троицк was not found in lookup under admin1: пензенск\n",
      "устюг великий was not found in lookup under admin1: вологодск\n",
      "устюжна железопольская was not found in lookup under admin1: новгородск\n",
      "хорол was not found in lookup under admin1: киевск\n",
      "ченбар was not found in lookup under admin1: пензенск\n",
      "шешкеев was not found in lookup under admin1: пензенск\n",
      "юрьевец поволгский was not found in lookup under admin1: кострома\n",
      "якутск was not found in lookup under admin1: иркутск\n"
     ]
    }
   ],
   "source": [
    "market_df['admin1_partofID'], market_df['admin2_partofID'] = zip(*market_df.admin_hierarchy.apply(partof_prov_lookup))"
   ]
  },
  {
   "cell_type": "code",
   "execution_count": 76,
   "metadata": {
    "collapsed": false
   },
   "outputs": [],
   "source": [
    "with open(\"resources/partof_prov_bounds.json\",\"r\",encoding='utf-8') as fp:\n",
    "    popb = json.load(fp)\n",
    "market_df['admin1_std_name'] = market_df.admin1_partofID.apply(lambda x: popb[str(float(x))]['name'] if x is not None else None)"
   ]
  },
  {
   "cell_type": "code",
   "execution_count": 77,
   "metadata": {
    "collapsed": false
   },
   "outputs": [
    {
     "data": {
      "text/plain": [
       "46"
      ]
     },
     "execution_count": 77,
     "metadata": {},
     "output_type": "execute_result"
    }
   ],
   "source": [
    "errlist = set(errlist)\n",
    "errlist = list(errlist)\n",
    "errlist.sort()\n",
    "len(errlist)"
   ]
  },
  {
   "cell_type": "code",
   "execution_count": 78,
   "metadata": {
    "collapsed": false
   },
   "outputs": [],
   "source": [
    "#market_df[market_df.featuretype_old_orth==\"городъ\"].admin2_stem.unique()"
   ]
  },
  {
   "cell_type": "code",
   "execution_count": 79,
   "metadata": {
    "collapsed": false
   },
   "outputs": [],
   "source": [
    "market_df.admin1_partofID = market_df.admin1_partofID.replace(0,np.nan)\n",
    "market_df.admin2_partofID = market_df.admin2_partofID.replace(0,np.nan)"
   ]
  },
  {
   "cell_type": "code",
   "execution_count": 80,
   "metadata": {
    "collapsed": false
   },
   "outputs": [],
   "source": [
    "market_df['partof_id'] = np.nan"
   ]
  },
  {
   "cell_type": "code",
   "execution_count": 81,
   "metadata": {
    "collapsed": false
   },
   "outputs": [],
   "source": [
    "market_df.ix[market_df.admin2_partofID.isnull()==False,'partof_id'] = market_df.admin2_partofID\n",
    "market_df.ix[market_df.admin2_partofID.isnull(),'partof_id'] = market_df.admin1_partofID"
   ]
  },
  {
   "cell_type": "markdown",
   "metadata": {},
   "source": [
    "This cell is useful for making sure that things that don't have partof IDs really are the odd ducks that they seem like they should be, and not the result of an OCR error."
   ]
  },
  {
   "cell_type": "code",
   "execution_count": 82,
   "metadata": {
    "collapsed": false
   },
   "outputs": [],
   "source": [
    "#market_df[market_df.partof_id.isnull()][['name_old_orth','description_old_orth']]"
   ]
  },
  {
   "cell_type": "code",
   "execution_count": 83,
   "metadata": {
    "collapsed": false
   },
   "outputs": [],
   "source": [
    "market_df.name_old_orth = market_df.name_old_orth.str.title()\n",
    "market_df.name_new_orth = market_df.name_new_orth.str.title()\n",
    "market_df.alt_name_old_orth = market_df.alt_name_old_orth.str.title()\n",
    "market_df.alt_name_new_orth = market_df.alt_name_new_orth.str.title()"
   ]
  },
  {
   "cell_type": "code",
   "execution_count": 84,
   "metadata": {
    "collapsed": false
   },
   "outputs": [],
   "source": [
    "market_df['txt_id'] = market_df.index"
   ]
  },
  {
   "cell_type": "code",
   "execution_count": 85,
   "metadata": {
    "collapsed": false
   },
   "outputs": [],
   "source": [
    "market_df.to_excel(\"output/process/no_geo.xlsx\",encoding=\"utf-8\")\n",
    "market_df.to_csv(\"output/process/no_geo.csv\",encoding=\"utf-8\")"
   ]
  }
 ],
 "metadata": {
  "kernelspec": {
   "display_name": "Python 3",
   "language": "python",
   "name": "python3"
  },
  "language_info": {
   "codemirror_mode": {
    "name": "ipython",
    "version": 3
   },
   "file_extension": ".py",
   "mimetype": "text/x-python",
   "name": "python",
   "nbconvert_exporter": "python",
   "pygments_lexer": "ipython3",
   "version": "3.4.1"
  }
 },
 "nbformat": 4,
 "nbformat_minor": 0
}
