{
 "metadata": {
  "name": "",
  "signature": "sha256:35eebf055004ed90aa4789f2b59248d718cf35fce114d5ec51d13b9e67833dfb"
 },
 "nbformat": 3,
 "nbformat_minor": 0,
 "worksheets": [
  {
   "cells": [
    {
     "cell_type": "markdown",
     "metadata": {},
     "source": [
      "First: Text Parsing!\n",
      "====================\n",
      "This is where the information that we want is extracted from the text we have."
     ]
    },
    {
     "cell_type": "code",
     "collapsed": false,
     "input": [
      "import re, requests"
     ],
     "language": "python",
     "metadata": {},
     "outputs": [],
     "prompt_number": 1
    },
    {
     "cell_type": "code",
     "collapsed": false,
     "input": [
      "import os\n",
      "def Ensure_dir(d):\n",
      "    \"\"\"Makes sure a directory 'd' exists, and if it doesn't, it creates one.\"\"\"\n",
      "    if not os.path.exists(d):\n",
      "        os.makedirs(d)\n",
      "    return 0"
     ],
     "language": "python",
     "metadata": {},
     "outputs": [],
     "prompt_number": 2
    },
    {
     "cell_type": "code",
     "collapsed": false,
     "input": [
      "def open_texts(file_start_str,first,last):\n",
      "    \"\"\"Creates a dictionary from a set of .htm files.\n",
      "    Assumes all have the same starting string immediately followed by a page number.\n",
      "    Returns a dictionary with page numbers as keys and page contents as values.\"\"\"\n",
      "    out_dict = {}\n",
      "    for i in range(first,last+1):\n",
      "        with open(\"{}{}.htm\".format(file_start_str,i),encoding=\"utf-8\") as htmfile:\n",
      "            out_dict[i] = htmfile.read()\n",
      "    return out_dict"
     ],
     "language": "python",
     "metadata": {},
     "outputs": [],
     "prompt_number": 3
    },
    {
     "cell_type": "markdown",
     "metadata": {},
     "source": [
      "Creating a dictionary called `market_text` and filling it out with key/value pairs corresponding to page numbers and page texts."
     ]
    },
    {
     "cell_type": "code",
     "collapsed": false,
     "input": [
      "market_text = open_texts(\"html/slovar\",10,99)\n",
      "market_text.update(open_texts(\"html/slovar\",102,133)) #skiping page 100-101, no text present"
     ],
     "language": "python",
     "metadata": {},
     "outputs": [],
     "prompt_number": 4
    },
    {
     "cell_type": "markdown",
     "metadata": {},
     "source": [
      "Cleanup cell. Currently fixing some common capitalization errors, and replacing nbsp's with normal spaces."
     ]
    },
    {
     "cell_type": "code",
     "collapsed": false,
     "input": [
      "for p in market_text.keys():\n",
      "    #nbsp to normal space\n",
      "    market_text[p] = re.sub(\"&nbsp;\",\" \",market_text[p])\n",
      "    #Capitalization fixes\n",
      "    market_text[p] = re.sub(r\"([> ])\u0412\u042a\",r\"\\1\u0412\u044a\",market_text[p])\n",
      "    market_text[p] = re.sub(r\"([\u0430-\u044f\u0456\u0463\u0473]+)(\u0462)\",r\"\\1\u0463\",market_text[p])\n",
      "    market_text[p] = re.sub(r\"(\u0462)([\u0430-\u044f\u0456\u0463\u0473]+)\",r\"\u0463\\2\",market_text[p])\n",
      "    market_text[p] = re.sub(r\"([\u0430-\u044f\u0456\u0463\u0473]+)(\u042a)\",r\"\\1\u044a\",market_text[p])"
     ],
     "language": "python",
     "metadata": {},
     "outputs": [],
     "prompt_number": 5
    },
    {
     "cell_type": "code",
     "collapsed": false,
     "input": [
      "def extract_entries(text_dict,entrymatch,tailmatch,entry_name='ru_old_orth',entry_text='description'):\n",
      "    \"\"\"\n",
      "    Extracts entries from text dict. Takes dict with format {pageNumber: pageText...} \n",
      "    and returns dict with entry name and text as well as page number from dict.\n",
      "    \n",
      "    text_dict: dict with format {pageNumber: text...} created with previous function open_texts.\n",
      "    \n",
      "    entrymatch: regex string to match entry name and text. Regex should be formatted so that \n",
      "    entry name is captured in entry text, entry text is in first capture group, and entry \n",
      "    name is in first capture group, e.g. r\">(([\u0410-\u042f\u0406\u0462\u0472 .-]+)[<, ].*)</p>\".\n",
      "    \n",
      "    tailmatch: regex string to match tail from previous entry at beginning of page.\n",
      "    \n",
      "    entry_name: string to be used as key for entry name.\n",
      "    \n",
      "    entry_text: string to be used as key for entry text.\n",
      "    \"\"\"\n",
      "    out_dict = {}\n",
      "    last_entry = \"\"\n",
      "    counter = 1\n",
      "    pages = list(text_dict.keys())\n",
      "    pages.sort()\n",
      "    for p in pages:\n",
      "        # finds trailing descriptions at beginning of page, appends to last entry on previous page.\n",
      "        trail = re.findall(tailmatch,text_dict[p])\n",
      "        if len(trail)>0 and len(re.findall(entrymatch,trail[0]))==0:\n",
      "            out_dict[last_entry]['description']+=trail[0]\n",
      "        # finds all place names on page, captures descriptions as well. puts into dictionary with name as key and desc as value.\n",
      "        places = re.findall(entrymatch,text_dict[p])\n",
      "        if len(places)>0:\n",
      "            for v in places:\n",
      "                placename = v[1].strip()\n",
      "                out_dict[counter] = {'ru_old_orth':placename,'description':v[0],'page':p}\n",
      "                counter+=1\n",
      "            last_entry = counter-1\n",
      "    return out_dict"
     ],
     "language": "python",
     "metadata": {},
     "outputs": [],
     "prompt_number": 6
    },
    {
     "cell_type": "code",
     "collapsed": false,
     "input": [
      "test = \">\u041e\u041c\u0415\u041b\u042c\u041d\u0418\u041a\u042a, </span><span class=\\\"font0\\\" style=\\\"font-style:italic;\\\">\u043c\u0463\u0441\u0442\u0435\u0447\u043a\u043e</span><span class=\\\"font0\\\"> \u041a\u0456\u0435\u0432\u0441\u043a\u0430\u0433\u043e \u041d\u0430\u043c\u0463\u0441\u0442\u043d\u0438\u0447\u0435\u0441\u0442\u0432\u0430 \u0432\u044a \u041c\u0438\u0440\u0433\u043e\u0440\u043e\u0434\u0441\u043a\u043e\u043c\u044a \u0443\u0463\u0437\u0434\u0463. \u0412\u044a \u043e\u043d\u043e\u043c\u044a \u0431\u044b\u0432\u0430\u0435\u0442\u044a \u0432\u044a \u0433\u043e\u0434\u0443 \u0434\u0432\u0463 \u044f\u0440\u043c\u0430\u0440\u043a\u0438 : \u043e\u0434\u043d\u0430 \u0406\u044e\u043b\u044f 20, \u0430 \u0434\u0440\u0443\u0433\u0430\u044f \u041e\u043a\u0442\u044f\u0431\u0440\u0443 14; \u0442\u043e\u0440\u0433\u0443\u044e\u0442\u044a \u043d\u0430 \u043e\u043d\u044b\u0445\u044a \u043f\u0440\u0456\u0463\u0437\u0436\u0456\u0435 \u0438\u0437\u044a \u0443\u0463\u0437\u0434\u0443 \u0436\u0438\u0442\u0435\u043b\u0438 \u0440\u0430\u0437\u043d\u044b\u043c\u0438 \u043c\u0463\u043b\u043e\u0447\u043d\u044b\u043c\u0438 \u0442\u043e\u0432\u0430\u0440\u0430\u043c\u0438, \u0442\u0430\u043c\u044a \u0440\u043e\u0434\u044f\u0449\u0438\u043c\u0438\u0441\u044f \u0438 \u0434\u0463\u043b\u0430\u044e\u0449\u0438\u043c\u0438\u0441\u044f, \u043a\u0430\u043a\u044a - \u0442\u043e \u0445\u043b\u0463\u0431\u043e\u043c\u044a , \u0433\u043e\u0440\u044f\u0447\u0438\u043c\u044a \u0432\u0438\u043d\u043e\u043c\u044a, \u0440\u0430\u0437\u0438\u044b\u043c\u044a \u0441\u043a\u043e\u0442\u043e\u043c\u044a, \u043e\u0432\u0447\u0438\u043d\u0430\u043c\u0438 , \u043a\u043e\u0436\u0430\u043c\u0438 \u0438 \u043f\u0440\u043e\u0447. \u0438\u043d\u043e\u0433\u0434\u0430 \u043f\u0440\u0456\u0463\u0437\u0436\u0430\u044e\u0442\u044a \u0438 \u0412\u0435\u043b\u0438\u043a\u043e\u0440\u043e\u0441\u0441\u0456\u0439\u0441\u043a\u0456\u0435 \u043a\u0443\u043f\u0446\u044b \u0441\u044a \u043a\u0440\u0430\u0441\u043d\u044b\u043c\u044a \u0442\u043e\u0432\u0430\u0440\u043e\u043c\u044a.\"\n",
      "re.findall(r\">(([\u0410-\u042f\u0406\u0462\u0472 .-]+)[<, ].*)</p>\",test)"
     ],
     "language": "python",
     "metadata": {},
     "outputs": [
      {
       "metadata": {},
       "output_type": "pyout",
       "prompt_number": 7,
       "text": [
        "[]"
       ]
      }
     ],
     "prompt_number": 7
    },
    {
     "cell_type": "code",
     "collapsed": false,
     "input": [
      "market_towns = extract_entries(market_text,r\">(([\u0410-\u042f\u0406\u0462\u0472 .-]+)[<, ].*)</p>\",r\"<body>\\n(<p><span class=\\\"font0\\\">.*</span></p>)\") # creating dict market_towns to hold individual place info.\n",
      "market_towns.pop(1,None) #Known extraneous hit at beginning of doc, removed.\n",
      "market_towns.pop(2,None) #Known extraneous hit at beginning of doc, removed."
     ],
     "language": "python",
     "metadata": {},
     "outputs": [
      {
       "metadata": {},
       "output_type": "pyout",
       "prompt_number": 8,
       "text": [
        "{'page': 10,\n",
        " 'ru_old_orth': '\u042f\u0420\u041c\u0410\u0420\u041e\u041a\u042a',\n",
        " 'description': '\u042f\u0420\u041c\u0410\u0420\u041e\u041a\u042a \u0438 \u0422\u041e\u0420\u0413\u041e\u0412\u042a.</span>'}"
       ]
      }
     ],
     "prompt_number": 8
    },
    {
     "cell_type": "markdown",
     "metadata": {},
     "source": [
      "In this cell, we're looking for town types, which will be in italics. We're also looking for administrative divisions based on their titles, both Namiestnichestva and uezd."
     ]
    },
    {
     "cell_type": "code",
     "collapsed": false,
     "input": [
      "from lxml import html\n",
      "def strip_html(text):\n",
      "    return html.fromstring(text).text_content()"
     ],
     "language": "python",
     "metadata": {},
     "outputs": [],
     "prompt_number": 9
    },
    {
     "cell_type": "code",
     "collapsed": false,
     "input": [
      "def extract_value(entrydict,val_name,val_regex,entry_text_key='description',strip_val=\" \",strip_html=False):\n",
      "    \"\"\"\n",
      "    Extracts a value from a dict with some text value with key entry_text_key. Uses val_regex to extract a value and\n",
      "    add it to the entrydict, which is the return value.\n",
      "    \n",
      "    entrydict: dict with some entry that has text from which individual values can be extracted.\n",
      "    \n",
      "    val_name: name of the value to be extracted. This will be used as the key to modify entrydict.\n",
      "    \n",
      "    val_regex: a regular expression string or a list of regular expression strings. These will be used to extract\n",
      "    the desired value from the text in entrydict. If passing a list, the first regular expression to find a match \n",
      "    will be used to create the value k:v pair. Also note that if no regular expressions find matches, entrydict will \n",
      "    be returned without modification.\n",
      "    \n",
      "    entry_text_key: key which corresponds to the text with values to be extracted in entrydict\n",
      "    \n",
      "    strip_val: value will be passed to a str.strip() to be applied to the value extracted. Defaults to \" \", which is \n",
      "    default behavior for str.strip()\n",
      "    \n",
      "    strip_html: whether html tags should be removed or not. If set to true, html tags will be stripped from text.\n",
      "    Defaults to False.\n",
      "    \"\"\"\n",
      "    entry_text = entrydict[entry_text_key]\n",
      "    if strip_html:\n",
      "        entry_text = html.fromstring(entry_text).text_content()\n",
      "    if type(val_regex) == str:\n",
      "        val_regex = [val_regex]\n",
      "    for r in val_regex:\n",
      "        if len(re.findall(r,entry_text))!=0:\n",
      "            entrydict[val_name]=re.findall(r,entry_text)[0].strip(strip_val)\n",
      "            break\n",
      "    return(entrydict)"
     ],
     "language": "python",
     "metadata": {},
     "outputs": [],
     "prompt_number": 10
    },
    {
     "cell_type": "code",
     "collapsed": false,
     "input": [
      "prov_regex = [r\">?([\u0410-\u042f\u0406\u0462\u0472\u0430-\u044f\u0463\u0456, -]*\u041d\u0430(?:\u043c\u0463){0,1}\u0441\u0442\u043d\u0438\u0447[\u0430\u0435\u043b]\u0441\u0442\u0432[\u0430\u0463](?: \u0441\u0435\u0433\u043e \u0438\u043c\u0435\u043d\u0438){0,1})\",r\">[ ]*([\u0410-\u042f\u0406\u0462\u0472\u0430-\u044f\u0463\u0456,.]+(?: [\u0410-\u042f\u0406\u0462\u0472\u0430-\u044f\u0463\u0456,]+){0,1}\\s+\u0413\u0443\u0431\u0435\u0440\u043d\u0456\u0438)\"]\n",
      "uezd_regex = [r\"[\u0412\u0432][\u042a\u044a] \u0443\u0463\u0437\u0434[\u0443\u0463] \u0433\u043e\u0440\u043e\u0434\u0430 ([\u0410-\u042f\u0406\u0462\u0472\u0430-\u044f\u0463\u0456-]+)\",r\"([\u0410-\u042f\u0406\u0462\u0472\u0430-\u044f\u0463\u0456]+\\s+\u0443\u0463\u0437\u0434[\u0443\u0463])\"]\n",
      "type_regex = r\"italic;\\\">([[\u0410-\u042f\u0406\u0462\u0472\u0430-\u044f\u0456\u0463\u0473, ]+)</span>\"\n",
      "alt_name_regex = [r\",([\u0410-\u042f\u0406\u0462\u0472 -]+) \u0442\u043e\u0436\u044c\",r\"\u0438\u043b\u0438 ([\u0410-\u042f\u0406\u0462\u0472]+)\",r\"\u043f\u0440\u0430\u0432\u0438\u043b\u044c\u043d\u0463\u0435 ([\u0410-\u042f\u0406\u0462\u0472]+)\"]"
     ],
     "language": "python",
     "metadata": {},
     "outputs": [],
     "prompt_number": 11
    },
    {
     "cell_type": "code",
     "collapsed": false,
     "input": [
      "for t in market_towns:\n",
      "    market_towns[t].update(extract_value(market_towns[t],'ru_old_featuretype',type_regex,strip_val=\", \"))\n",
      "    market_towns[t].update(extract_value(market_towns[t],'alt_name_old_orth',alt_name_regex,strip_html=True))\n",
      "    market_towns[t].update(extract_value(market_towns[t],'ru_prov',prov_regex))\n",
      "    market_towns[t].update(extract_value(market_towns[t],'ru_uezd',uezd_regex,strip_html=True))\n",
      "    if \"\u0427\u0410\u0421\u041e\u0412\u041d\u042f\" in market_towns[t]['ru_old_orth']:\n",
      "        market_towns[t]['ru_old_featuretype'] = '\u0447\u0430\u0446\u043e\u0432\u043d\u044f'"
     ],
     "language": "python",
     "metadata": {},
     "outputs": [],
     "prompt_number": 12
    },
    {
     "cell_type": "markdown",
     "metadata": {},
     "source": [
      "Validation\n",
      "==========\n",
      "The next two code blocks are to find entries that may need to be separated in the OCR text. It does this by looking for sequences of capitalized letters, and comparing them to the names found previously. If there's a sequence of capitalized letters that isn't a name or an alternate name, it will be printed below the second code block. Look up the place name in the pandas dataframe a few cells down to see if it looks like two entries have been unintentionally merged. If this is the case, check the OCR text and fix it, then re-run to make sure it worked. Sometimes there will be capitalized words that are not part of another entry, so watch out for those.  \n",
      "  \n",
      "This is a very important process to get right. If entries are merged, this can mess up the indexing of text entries, and that can sever the link between entries in the text and entries that have been geocoded, making it much harder to update geocoded entries with changes from the OCR text."
     ]
    },
    {
     "cell_type": "code",
     "collapsed": false,
     "input": [
      "for t in market_towns:\n",
      "    caps = re.findall(r\"([\u0410-\u042f\u0406\u0462\u0472]+)[<, .]\",market_towns[t]['description'])\n",
      "    caps = [c.strip() for c in caps]\n",
      "    if len(caps)==0:\n",
      "        print(\"This is confusing, entry has no strings of capital letters: {}\".format(market_towns[t]['description']))\n",
      "    elif len(caps)>1:\n",
      "        for c in caps:\n",
      "            if c==market_towns[t]['ru_old_orth']:\n",
      "                caps.pop(caps.index(c))\n",
      "                break\n",
      "        for c in caps:\n",
      "            if 'alt_name_old_orth' in market_towns[t] and c==market_towns[t]['alt_name_old_orth']:\n",
      "                caps.pop(caps.index(c))\n",
      "                break\n",
      "        for c in caps:\n",
      "            if len(c)==1:\n",
      "                caps.pop(caps.index(c))\n",
      "        if \" \".join(caps)==market_towns[t]['ru_old_orth']:\n",
      "            caps = []\n",
      "        if \" - \".join(caps)==market_towns[t]['ru_old_orth']:\n",
      "            caps = []\n",
      "        if len(caps)!=0:\n",
      "            market_towns[t]['extra_caps'] = caps"
     ],
     "language": "python",
     "metadata": {},
     "outputs": [],
     "prompt_number": 13
    },
    {
     "cell_type": "code",
     "collapsed": false,
     "input": [
      "for t in market_towns:\n",
      "    if 'extra_caps' in market_towns[t]:\n",
      "        print(\"{}\".format(market_towns[t]['extra_caps']))\n",
      "        print(\"Place name: {}\".format(market_towns[t]['ru_old_orth']))\n",
      "        if 'alt_name_old_orth' in market_towns[t]:\n",
      "            print(\"Alt name: {}\".format(market_towns[t]['alt_name_old_orth']))\n",
      "        print(\"\")"
     ],
     "language": "python",
     "metadata": {},
     "outputs": [
      {
       "output_type": "stream",
       "stream": "stdout",
       "text": [
        "['\u0412\u0418\u041b\u042e\u0419\u0421\u041a\u041e\u0415', '\u0412\u0415\u0420\u0425\u041d\u0415\u0415', '\u0421\u0420\u0415\u0414\u041d\u0415\u0415']\n",
        "Place name: \u0412\u0418\u041b\u042e\u0419\u0421\u041a\u041e\u0415 \u0412\u0415\u0420\u0425\u041d\u0415\u0415\n",
        "\n",
        "['\u041a\u041e\u041b\u041f\u0418\u041d\u0462']\n",
        "Place name: \u041f\u042f\u0422\u041d\u0418\u0426\u041a\u041e\u0415\n",
        "\n",
        "['\u0411\u0415\u0420\u0415\u041d\u0414\u0462\u0415\u0412\u0462']\n",
        "Place name: \u041f\u042f\u0422\u041d\u0418\u0426\u041a\u041e\u0415\n",
        "\n",
        "['\u0412\u042b\u0427\u0415\u0413\u041e\u0414\u0421\u041a\u042a']\n",
        "Place name: \u0421\u041e\u041b\u042c-\u0412\u042b\u0427\u0415\u0413\u041e\u0414\u0421\u041a\u042a\n",
        "\n",
        "['\u0425\u041e\u041b\u041c\u0423']\n",
        "Place name: \u0421\u041f\u0410\u0421\u042a\n",
        "\n",
        "['\u042f\u041c\u0429\u0418\u041a\u0410\u0425\u042a']\n",
        "Place name: \u0421\u041f\u0410\u0421\u042a\n",
        "\n",
        "['\u0425\u041e\u041b\u041c\u042a', '\u0421\u041f\u0410\u0421\u0410']\n",
        "Place name: \u0425\u041e\u041b\u041c\u042a \u0423 \u0421\u041f\u0410\u0421\u0410\n",
        "\n",
        "['\u0427\u0410\u0421\u041e\u0412\u041d\u042f', '\u0421\u0412', '\u0414\u0423\u0425\u0410']\n",
        "Place name: \u0427\u0410\u0421\u041e\u0412\u041d\u042f \u0421\u0412. \u0414\u0423\u0425\u0410\n",
        "\n"
       ]
      }
     ],
     "prompt_number": 15
    },
    {
     "cell_type": "markdown",
     "metadata": {},
     "source": [
      "Pandas!\n",
      "=======\n",
      "Everything has now been put into a pandas dataframe, so no more dicts!\n",
      "Still doing some text parsing and cleanup, but based on the data that we've collected, not the text."
     ]
    },
    {
     "cell_type": "code",
     "collapsed": false,
     "input": [
      "import pandas as pd\n",
      "import numpy as np"
     ],
     "language": "python",
     "metadata": {},
     "outputs": [],
     "prompt_number": 14
    },
    {
     "cell_type": "code",
     "collapsed": false,
     "input": [
      "# creation of pandas dataframe based on previously created dict.\n",
      "market_df = pd.DataFrame.from_dict(market_towns,orient=\"index\")\n",
      "market_df = market_df[['ru_old_orth','alt_name_old_orth','ru_old_featuretype','ru_prov','ru_uezd','description','page']]\n",
      "market_df.head()"
     ],
     "language": "python",
     "metadata": {},
     "outputs": [
      {
       "html": [
        "<div style=\"max-height:1000px;max-width:1500px;overflow:auto;\">\n",
        "<table border=\"1\" class=\"dataframe\">\n",
        "  <thead>\n",
        "    <tr style=\"text-align: right;\">\n",
        "      <th></th>\n",
        "      <th>ru_old_orth</th>\n",
        "      <th>alt_name_old_orth</th>\n",
        "      <th>ru_old_featuretype</th>\n",
        "      <th>ru_prov</th>\n",
        "      <th>ru_uezd</th>\n",
        "      <th>description</th>\n",
        "      <th>page</th>\n",
        "    </tr>\n",
        "  </thead>\n",
        "  <tbody>\n",
        "    <tr>\n",
        "      <th>3</th>\n",
        "      <td>  \u0410\u0412\u0414\u0423\u041b\u041e\u0412\u041e</td>\n",
        "      <td> \u0418\u0412\u0410\u041d\u041e\u0412\u0421\u041a\u041e\u0415</td>\n",
        "      <td>      \u0441\u0435\u043b\u043e</td>\n",
        "      <td>     \u0420\u044f\u0437\u0430\u043d\u0441\u043a\u0430\u0433\u043e \u041d\u0430\u043c\u0463\u0441\u0442\u043d\u0438\u0447\u0435\u0441\u0442\u0432\u0430</td>\n",
        "      <td>   \u0414\u043e\u043d\u043a\u043e\u0432\u0441\u043a\u043e\u043c\u044a \u0443\u0463\u0437\u0434\u0463</td>\n",
        "      <td> \u0410\u0412\u0414\u0423\u041b\u041e\u0412\u041e, \u0418\u0412\u0410\u041d\u041e\u0412\u0421\u041a\u041e\u0415 \u0442\u043e\u0436\u044c, &lt;/span&gt;&lt;span class=...</td>\n",
        "      <td> 10</td>\n",
        "    </tr>\n",
        "    <tr>\n",
        "      <th>4</th>\n",
        "      <td> \u0410\u0412\u0416\u0415\u041d\u0421\u041a\u0410\u042f</td>\n",
        "      <td>       None</td>\n",
        "      <td>   \u0432\u043e\u043b\u043e\u0441\u0442\u044c</td>\n",
        "      <td>   \u0412\u043e\u043b\u043e\u0433\u043e\u0434\u0441\u043a\u0430\u0433\u043e \u041d\u0430\u043c\u0463\u0441\u0442\u043d\u0438\u0447\u0435\u0441\u0442\u0432\u0430</td>\n",
        "      <td>             \u0438 \u0443\u0463\u0437\u0434\u0443</td>\n",
        "      <td> \u0410\u0412\u0416\u0415\u041d\u0421\u041a\u0410\u042f , &lt;/span&gt;&lt;span class=\"font0\" style=\"...</td>\n",
        "      <td> 10</td>\n",
        "    </tr>\n",
        "    <tr>\n",
        "      <th>5</th>\n",
        "      <td> \u0410\u0412\u0420\u0410\u041c\u0406\u0415\u0412\u042a</td>\n",
        "      <td>       None</td>\n",
        "      <td> \u043c\u043e\u043d\u0430\u0441\u0442\u044b\u0440\u044c</td>\n",
        "      <td>   \u041a\u043e\u0441\u0442\u0440\u043e\u043c\u0441\u043a\u0430\u0433\u043e \u041d\u0430\u043c\u0463\u0441\u0442\u043d\u0438\u0447\u0435\u0441\u0442\u0432\u0430</td>\n",
        "      <td>                None</td>\n",
        "      <td> \u0410\u0412\u0420\u0410\u041c\u0406\u0415\u0412\u042a&lt;/span&gt;&lt;span class=\"font0\" style=\"fon...</td>\n",
        "      <td> 10</td>\n",
        "    </tr>\n",
        "    <tr>\n",
        "      <th>6</th>\n",
        "      <td> \u0410\u0414\u041e\u0412\u0410\u0422\u041e\u0412\u041e</td>\n",
        "      <td>       None</td>\n",
        "      <td>      \u0441\u0435\u043b\u043e</td>\n",
        "      <td> \u041d\u0438\u0436\u0435\u0433\u043e\u0440\u043e\u0434\u0441\u043a\u0430\u0433\u043e \u041d\u0430\u043c\u0463\u0441\u0442\u043d\u0438\u0447\u0435\u0441\u0442\u0432\u0430</td>\n",
        "      <td>   \u0410\u0440\u0437\u0430\u043c\u0430\u0441\u043a\u043e\u043c\u044a \u0443\u0463\u0437\u0434\u0463</td>\n",
        "      <td> \u0410\u0414\u041e\u0412\u0410\u0422\u041e\u0412\u041e, &lt;/span&gt;&lt;span class=\"font0\" style=\"f...</td>\n",
        "      <td> 10</td>\n",
        "    </tr>\n",
        "    <tr>\n",
        "      <th>7</th>\n",
        "      <td>    \u0410\u041a\u0421\u0415\u041b\u042c</td>\n",
        "      <td>       None</td>\n",
        "      <td>      \u0441\u0435\u043b\u043e</td>\n",
        "      <td>    \u0422\u0430\u043c\u0431\u043e\u0432\u0441\u043a\u0430\u0433\u043e \u041d\u0430\u043c\u0463\u0441\u0442\u043d\u0438\u0447\u0435\u0441\u0442\u0432\u0430</td>\n",
        "      <td> \u0422\u0435\u043c\u043d\u0438\u043a\u043e\u0432\u0441\u043a\u043e\u043c\u044a \u0443\u0463\u0437\u0434\u0463</td>\n",
        "      <td> \u0410\u041a\u0421\u0415\u041b\u042c, &lt;/span&gt;&lt;span class=\"font0\" style=\"font...</td>\n",
        "      <td> 10</td>\n",
        "    </tr>\n",
        "  </tbody>\n",
        "</table>\n",
        "</div>"
       ],
       "metadata": {},
       "output_type": "pyout",
       "prompt_number": 15,
       "text": [
        "  ru_old_orth alt_name_old_orth ru_old_featuretype  \\\n",
        "3    \u0410\u0412\u0414\u0423\u041b\u041e\u0412\u041e        \u0418\u0412\u0410\u041d\u041e\u0412\u0421\u041a\u041e\u0415               \u0441\u0435\u043b\u043e   \n",
        "4   \u0410\u0412\u0416\u0415\u041d\u0421\u041a\u0410\u042f              None            \u0432\u043e\u043b\u043e\u0441\u0442\u044c   \n",
        "5   \u0410\u0412\u0420\u0410\u041c\u0406\u0415\u0412\u042a              None          \u043c\u043e\u043d\u0430\u0441\u0442\u044b\u0440\u044c   \n",
        "6   \u0410\u0414\u041e\u0412\u0410\u0422\u041e\u0412\u041e              None               \u0441\u0435\u043b\u043e   \n",
        "7      \u0410\u041a\u0421\u0415\u041b\u042c              None               \u0441\u0435\u043b\u043e   \n",
        "\n",
        "                         ru_prov              ru_uezd  \\\n",
        "3      \u0420\u044f\u0437\u0430\u043d\u0441\u043a\u0430\u0433\u043e \u041d\u0430\u043c\u0463\u0441\u0442\u043d\u0438\u0447\u0435\u0441\u0442\u0432\u0430    \u0414\u043e\u043d\u043a\u043e\u0432\u0441\u043a\u043e\u043c\u044a \u0443\u0463\u0437\u0434\u0463   \n",
        "4    \u0412\u043e\u043b\u043e\u0433\u043e\u0434\u0441\u043a\u0430\u0433\u043e \u041d\u0430\u043c\u0463\u0441\u0442\u043d\u0438\u0447\u0435\u0441\u0442\u0432\u0430              \u0438 \u0443\u0463\u0437\u0434\u0443   \n",
        "5    \u041a\u043e\u0441\u0442\u0440\u043e\u043c\u0441\u043a\u0430\u0433\u043e \u041d\u0430\u043c\u0463\u0441\u0442\u043d\u0438\u0447\u0435\u0441\u0442\u0432\u0430                 None   \n",
        "6  \u041d\u0438\u0436\u0435\u0433\u043e\u0440\u043e\u0434\u0441\u043a\u0430\u0433\u043e \u041d\u0430\u043c\u0463\u0441\u0442\u043d\u0438\u0447\u0435\u0441\u0442\u0432\u0430    \u0410\u0440\u0437\u0430\u043c\u0430\u0441\u043a\u043e\u043c\u044a \u0443\u0463\u0437\u0434\u0463   \n",
        "7     \u0422\u0430\u043c\u0431\u043e\u0432\u0441\u043a\u0430\u0433\u043e \u041d\u0430\u043c\u0463\u0441\u0442\u043d\u0438\u0447\u0435\u0441\u0442\u0432\u0430  \u0422\u0435\u043c\u043d\u0438\u043a\u043e\u0432\u0441\u043a\u043e\u043c\u044a \u0443\u0463\u0437\u0434\u0463   \n",
        "\n",
        "                                         description  page  \n",
        "3  \u0410\u0412\u0414\u0423\u041b\u041e\u0412\u041e, \u0418\u0412\u0410\u041d\u041e\u0412\u0421\u041a\u041e\u0415 \u0442\u043e\u0436\u044c, </span><span class=...    10  \n",
        "4  \u0410\u0412\u0416\u0415\u041d\u0421\u041a\u0410\u042f , </span><span class=\"font0\" style=\"...    10  \n",
        "5  \u0410\u0412\u0420\u0410\u041c\u0406\u0415\u0412\u042a</span><span class=\"font0\" style=\"fon...    10  \n",
        "6  \u0410\u0414\u041e\u0412\u0410\u0422\u041e\u0412\u041e, </span><span class=\"font0\" style=\"f...    10  \n",
        "7  \u0410\u041a\u0421\u0415\u041b\u042c, </span><span class=\"font0\" style=\"font...    10  "
       ]
      }
     ],
     "prompt_number": 15
    },
    {
     "cell_type": "code",
     "collapsed": false,
     "input": [
      "market_df[market_df.ru_old_orth=='\u0412\u041e\u041b\u042c\u041d\u0410\u042f']"
     ],
     "language": "python",
     "metadata": {},
     "outputs": [
      {
       "html": [
        "<div style=\"max-height:1000px;max-width:1500px;overflow:auto;\">\n",
        "<table border=\"1\" class=\"dataframe\">\n",
        "  <thead>\n",
        "    <tr style=\"text-align: right;\">\n",
        "      <th></th>\n",
        "      <th>ru_old_orth</th>\n",
        "      <th>alt_name_old_orth</th>\n",
        "      <th>ru_old_featuretype</th>\n",
        "      <th>ru_prov</th>\n",
        "      <th>ru_uezd</th>\n",
        "      <th>description</th>\n",
        "      <th>page</th>\n",
        "    </tr>\n",
        "  </thead>\n",
        "  <tbody>\n",
        "    <tr>\n",
        "      <th>122</th>\n",
        "      <td> \u0412\u041e\u041b\u042c\u041d\u0410\u042f</td>\n",
        "      <td> None</td>\n",
        "      <td> \u0441\u043b\u043e\u0431\u043e\u0434\u0430</td>\n",
        "      <td> \u0425\u0430\u0440\u044c\u043a\u043e\u0432\u0441\u043a\u0430\u0433\u043e \u041d\u0430\u043c\u0463\u0441\u0442\u043d\u0438\u0447\u0435\u0441\u0442\u0432\u0430</td>\n",
        "      <td> \u0411\u0463\u043b\u043e\u0433\u043e\u0440\u043e\u0434\u0441\u043a\u043e\u043c\u044a \u0443\u0463\u0437\u0434\u0463</td>\n",
        "      <td> \u0412\u041e\u041b\u042c\u041d\u0410\u042f, &lt;/span&gt;&lt;span class=\"font0\" style=\"font-style:italic;\"&gt;\u0441\u043b\u043e\u0431\u043e\u0434\u0430&lt;/span&gt;&lt;span class=\"font0\"&gt; \u0425\u0430\u0440\u044c\u043a\u043e\u0432\u0441\u043a\u0430\u0433\u043e \u041d\u0430\u043c\u0463\u0441\u0442\u043d\u0438\u0447\u0435\u0441\u0442\u0432\u0430 \u0432\u044a \u0411\u0463\u043b\u043e\u0433\u043e\u0440\u043e\u0434\u0441\u043a\u043e\u043c\u044a \u0443\u0463\u0437\u0434\u0463. \u0412\u044a \u043e\u043d\u043e\u0439 \u0431\u044b\u0432\u0430\u044e\u0442\u044a \u0433\u043e\u0434\u043e\u0432\u044b\u044f \u044f\u0440\u043c\u0430\u0440\u043a\u0438 : \u043f\u0435\u0440\u0432\u0430\u044f \u0424\u0435\u0432\u0440\u0430\u043b\u044f 2, \u0432\u044a \u0434\u0435\u043d\u044c \u0421\u0440\u0463\u0442\u0435\u043d\u0456\u044f \u0413\u043e\u0441\u043f\u043e\u0434\u043d\u044f, \u0432\u0442\u043e\u0440\u0430\u044f \u041c\u0430\u0456\u044f 9, \u0432\u044a \u0434\u0435\u043d\u044c \u0427\u0443\u0434\u043e\u0442\u0432\u043e\u0440\u0446\u0430 \u041d\u0438\u043a\u043e\u043b\u0430\u044f , \u0442\u0440\u0435\u0442\u0456\u044f \u0432\u044a \u0434\u0435\u0441\u044f\u0442\u0443\u044e \u043f\u044f\u0442\u043d\u0438\u0446\u0443 , \u0447\u0435\u0442\u0432\u0435\u0440\u0442\u0430\u044f \u0410\u0432\u0433\u0443\u0441\u0442\u0430 15 \u0434\u043d\u044f, \u0432\u044a \u0434\u0435\u043d\u044c \u0423\u0441\u043f\u0435\u043d\u0456\u044f. \u041f\u0440\u0456\u0463\u0437\u0436\u0430\u044e\u0442\u044a \u043d\u0430 \u043e\u043d\u044b\u044f \u043a\u0443\u043f\u0446\u044b \u0438\u0437\u044a . \u0431\u043b\u0438\u0437\u044a \u043b\u0435\u0436\u0430\u0449\u0438\u0445\u044a \u0433\u043e\u0440\u043e\u0434\u043e\u0432\u044a; \u0442\u043e\u0440\u0433\u0443\u044e\u0442\u044a \u0441\u0443\u043a\u043d\u0430\u043c\u0438, \u0448\u0435\u043b\u043a\u043e\u0432\u044b\u043c\u0438, \u0431\u0443\u043c\u0430\u0436\u043d\u044b\u043c\u0438 \u0438 \u043d\u0430\u0431\u043e\u0439\u0447\u0430\u0442\u044b\u043c\u0438 \u0442\u043e\u0432\u0430\u0440\u0430\u043c\u0438 , \u043f\u043e\u043b\u043e\u0442\u043d\u043e\u043c\u044a , \u0436\u0435\u043b\u0463\u0437\u043e\u043c\u044a, \u043f\u043e\u0441\u0443\u0434\u043e\u044e \u0438 \u043f\u0440\u043e\u0447.&lt;/span&gt;\u0412\u041e\u0420\u041e\u041d\u0415\u0416\u042a, &lt;/span&gt;&lt;span class=\"font0\" style=\"font-style:italic;\"&gt;\u0433\u043b\u0430\u0432\u043d\u044b\u0439 \u0433\u043e\u0440\u043e\u0434\u044a&lt;/span&gt;&lt;span class=\"font0\"&gt; \u041d\u0430\u043c\u0463\u0441\u0442\u043d\u0438\u0447\u0435\u0441\u0442\u0432\u0430 \u0441\u0435\u0433\u043e \u0438\u043c\u0435\u043d\u0438. \u0412\u044a \u043d\u0435\u043c\u044a, \u043a\u0440\u043e\u043c\u0463 \u0435\u0436\u0435\u043d\u0435\u0434\u0463\u043b\u044c\u043d\u044b\u0445\u044a \u043f\u043e \u043f\u043e\u043d\u0435\u0434\u0463\u043b\u044c\u043d\u0438\u043a\u0430\u043c\u044a , \u0441\u0435\u0440\u0435\u0434\u0430\u043c\u044a \u0438 \u043f\u044f\u0442\u043d\u0438\u0446\u0430\u043c\u044a \u0442\u043e\u0440\u0433\u043e\u0432\u044a , \u0431\u044b\u0432\u0430\u044e\u0442\u044a \u0432\u044a \u0433\u043e\u0434\u0443 \u0434\u0432\u0463 \u044f\u0440\u043c\u0430\u0440\u043a\u0438: \u043f\u0435\u0440\u0432\u0430\u044f \u0432\u044a \u0433\u043e\u0440\u043e\u0434\u0463 \u043e \u0434\u0435\u0441\u044f\u0442\u043e\u0439 \u043f\u044f\u0442\u043d\u0438\u0446\u0463 , \u0430 \u043f\u043e\u0441\u043b\u0463\u0434\u043d\u044f\u044f \u043f\u0440\u0438 \u0441\u043b\u043e\u0431\u043e\u0434\u0463 &lt;/span&gt;&lt;span class=\"font0\" style=\"font-style:italic;\"&gt;\u0427\u0438\u0436\u043e\u0432\u043a\u0463&lt;/span&gt;&lt;span class=\"font0\"&gt; \u0432\u044a 29 \u0434\u0435\u043d\u044c \u0410\u0432\u0433\u0443\u0441\u0442\u0430.</td>\n",
        "      <td> 29</td>\n",
        "    </tr>\n",
        "  </tbody>\n",
        "</table>\n",
        "</div>"
       ],
       "metadata": {},
       "output_type": "pyout",
       "prompt_number": 22,
       "text": [
        "    ru_old_orth alt_name_old_orth ru_old_featuretype  \\\n",
        "122     \u0412\u041e\u041b\u042c\u041d\u0410\u042f              None            \u0441\u043b\u043e\u0431\u043e\u0434\u0430   \n",
        "\n",
        "                         ru_prov               ru_uezd  \\\n",
        "122  \u0425\u0430\u0440\u044c\u043a\u043e\u0432\u0441\u043a\u0430\u0433\u043e \u041d\u0430\u043c\u0463\u0441\u0442\u043d\u0438\u0447\u0435\u0441\u0442\u0432\u0430  \u0411\u0463\u043b\u043e\u0433\u043e\u0440\u043e\u0434\u0441\u043a\u043e\u043c\u044a \u0443\u0463\u0437\u0434\u0463   \n",
        "\n",
        "                                                                                                                                                                                                                                                                                                                                                                                                                                                                                                                                                                                                                                                                                                                                                                                                                                                                                                                                                  description  \\\n",
        "122  \u0412\u041e\u041b\u042c\u041d\u0410\u042f, </span><span class=\"font0\" style=\"font-style:italic;\">\u0441\u043b\u043e\u0431\u043e\u0434\u0430</span><span class=\"font0\"> \u0425\u0430\u0440\u044c\u043a\u043e\u0432\u0441\u043a\u0430\u0433\u043e \u041d\u0430\u043c\u0463\u0441\u0442\u043d\u0438\u0447\u0435\u0441\u0442\u0432\u0430 \u0432\u044a \u0411\u0463\u043b\u043e\u0433\u043e\u0440\u043e\u0434\u0441\u043a\u043e\u043c\u044a \u0443\u0463\u0437\u0434\u0463. \u0412\u044a \u043e\u043d\u043e\u0439 \u0431\u044b\u0432\u0430\u044e\u0442\u044a \u0433\u043e\u0434\u043e\u0432\u044b\u044f \u044f\u0440\u043c\u0430\u0440\u043a\u0438 : \u043f\u0435\u0440\u0432\u0430\u044f \u0424\u0435\u0432\u0440\u0430\u043b\u044f 2, \u0432\u044a \u0434\u0435\u043d\u044c \u0421\u0440\u0463\u0442\u0435\u043d\u0456\u044f \u0413\u043e\u0441\u043f\u043e\u0434\u043d\u044f, \u0432\u0442\u043e\u0440\u0430\u044f \u041c\u0430\u0456\u044f 9, \u0432\u044a \u0434\u0435\u043d\u044c \u0427\u0443\u0434\u043e\u0442\u0432\u043e\u0440\u0446\u0430 \u041d\u0438\u043a\u043e\u043b\u0430\u044f , \u0442\u0440\u0435\u0442\u0456\u044f \u0432\u044a \u0434\u0435\u0441\u044f\u0442\u0443\u044e \u043f\u044f\u0442\u043d\u0438\u0446\u0443 , \u0447\u0435\u0442\u0432\u0435\u0440\u0442\u0430\u044f \u0410\u0432\u0433\u0443\u0441\u0442\u0430 15 \u0434\u043d\u044f, \u0432\u044a \u0434\u0435\u043d\u044c \u0423\u0441\u043f\u0435\u043d\u0456\u044f. \u041f\u0440\u0456\u0463\u0437\u0436\u0430\u044e\u0442\u044a \u043d\u0430 \u043e\u043d\u044b\u044f \u043a\u0443\u043f\u0446\u044b \u0438\u0437\u044a . \u0431\u043b\u0438\u0437\u044a \u043b\u0435\u0436\u0430\u0449\u0438\u0445\u044a \u0433\u043e\u0440\u043e\u0434\u043e\u0432\u044a; \u0442\u043e\u0440\u0433\u0443\u044e\u0442\u044a \u0441\u0443\u043a\u043d\u0430\u043c\u0438, \u0448\u0435\u043b\u043a\u043e\u0432\u044b\u043c\u0438, \u0431\u0443\u043c\u0430\u0436\u043d\u044b\u043c\u0438 \u0438 \u043d\u0430\u0431\u043e\u0439\u0447\u0430\u0442\u044b\u043c\u0438 \u0442\u043e\u0432\u0430\u0440\u0430\u043c\u0438 , \u043f\u043e\u043b\u043e\u0442\u043d\u043e\u043c\u044a , \u0436\u0435\u043b\u0463\u0437\u043e\u043c\u044a, \u043f\u043e\u0441\u0443\u0434\u043e\u044e \u0438 \u043f\u0440\u043e\u0447.</span>\u0412\u041e\u0420\u041e\u041d\u0415\u0416\u042a, </span><span class=\"font0\" style=\"font-style:italic;\">\u0433\u043b\u0430\u0432\u043d\u044b\u0439 \u0433\u043e\u0440\u043e\u0434\u044a</span><span class=\"font0\"> \u041d\u0430\u043c\u0463\u0441\u0442\u043d\u0438\u0447\u0435\u0441\u0442\u0432\u0430 \u0441\u0435\u0433\u043e \u0438\u043c\u0435\u043d\u0438. \u0412\u044a \u043d\u0435\u043c\u044a, \u043a\u0440\u043e\u043c\u0463 \u0435\u0436\u0435\u043d\u0435\u0434\u0463\u043b\u044c\u043d\u044b\u0445\u044a \u043f\u043e \u043f\u043e\u043d\u0435\u0434\u0463\u043b\u044c\u043d\u0438\u043a\u0430\u043c\u044a , \u0441\u0435\u0440\u0435\u0434\u0430\u043c\u044a \u0438 \u043f\u044f\u0442\u043d\u0438\u0446\u0430\u043c\u044a \u0442\u043e\u0440\u0433\u043e\u0432\u044a , \u0431\u044b\u0432\u0430\u044e\u0442\u044a \u0432\u044a \u0433\u043e\u0434\u0443 \u0434\u0432\u0463 \u044f\u0440\u043c\u0430\u0440\u043a\u0438: \u043f\u0435\u0440\u0432\u0430\u044f \u0432\u044a \u0433\u043e\u0440\u043e\u0434\u0463 \u043e \u0434\u0435\u0441\u044f\u0442\u043e\u0439 \u043f\u044f\u0442\u043d\u0438\u0446\u0463 , \u0430 \u043f\u043e\u0441\u043b\u0463\u0434\u043d\u044f\u044f \u043f\u0440\u0438 \u0441\u043b\u043e\u0431\u043e\u0434\u0463 </span><span class=\"font0\" style=\"font-style:italic;\">\u0427\u0438\u0436\u043e\u0432\u043a\u0463</span><span class=\"font0\"> \u0432\u044a 29 \u0434\u0435\u043d\u044c \u0410\u0432\u0433\u0443\u0441\u0442\u0430.   \n",
        "\n",
        "     page  \n",
        "122    29  "
       ]
      }
     ],
     "prompt_number": 22
    },
    {
     "cell_type": "code",
     "collapsed": false,
     "input": [
      "pd.options.display.max_colwidth = 2000 #sets column width to 1000, should display entire description in df display when run."
     ],
     "language": "python",
     "metadata": {},
     "outputs": [],
     "prompt_number": 20
    },
    {
     "cell_type": "code",
     "collapsed": false,
     "input": [
      "#These are false positives for uyezdi, they mention counties elsewhere in the description\n",
      "market_df.ru_uezd = market_df.ru_uezd.replace(r'[\u0432\u0412]\u044a \u0443\u0463\u0437\u0434\u0463',None,regex=True)\n",
      "market_df.ru_uezd = market_df.ru_uezd.replace(r'\u0438\u0437\u044a \u0443\u0463\u0437\u0434\u0443',None,regex=True)"
     ],
     "language": "python",
     "metadata": {},
     "outputs": [],
     "prompt_number": 59
    },
    {
     "cell_type": "markdown",
     "metadata": {},
     "source": [
      "Adding URLs to link to Hathi Trust"
     ]
    },
    {
     "cell_type": "code",
     "collapsed": false,
     "input": [
      "market_df['SOURCE'] = market_df.page.apply(lambda x: \"http://babel.hathitrust.org/cgi/pt?id=uc1.b4583201;view=1up;seq={}\".format(x-1))"
     ],
     "language": "python",
     "metadata": {},
     "outputs": [],
     "prompt_number": 60
    },
    {
     "cell_type": "markdown",
     "metadata": {},
     "source": [
      "Some admin cleanup\n",
      "==================\n",
      "Here's a bit more housekeeping, replacing parts of administrative unit names that don't carry meaning, dealing with variant spellings, and getting rid of html in text descriptions"
     ]
    },
    {
     "cell_type": "code",
     "collapsed": false,
     "input": [
      "# Replacing parts of names that don't carry meaning\n",
      "market_df.ru_prov = market_df.ru_prov.replace('\u0413\u0440\u0430\u0444\u0430 \u0412\u043e\u0440\u043e\u043d\u0446\u043e\u0432\u0430 ','',regex=True) #a count of an area\n",
      "market_df.ru_prov = market_df.ru_prov.replace('\u0413\u0440\u0430\u0444\u0430 \u0428\u0435\u0440\u0435\u043c\u0435\u0442\u0435\u0432\u0430, ','',regex=True) #a count of an area\n",
      "market_df.ru_prov = market_df.ru_prov.replace('\u0413\u0440\u0430\u0444\u0430 \u0413\u0435\u043d\u0434\u0440\u0438\u043a\u043e\u0432\u0430 \u0432\u044a ','',regex=True) #a count of an area\n",
      "market_df.ru_prov = market_df.ru_prov.replace('\u041d\u0435\u043f\u043b\u044e\u0435\u0432\u044b\u0445\u044a, ','',regex=True) #a count of an area\n",
      "market_df.ru_prov = market_df.ru_prov.replace('\u0440\u0430\u0437\u043d\u044b\u0445\u044a \u041f\u043e\u043c\u0463\u0449\u0438\u043a\u043e\u0432\u044a ','',regex=True) #different landlords\n",
      "market_df.ru_prov = market_df.ru_prov.replace('\u0440\u0430\u0437\u043d\u044b\u0445\u044a \u0413\u043e\u0441\u043f\u043e\u0434\u044a ','',regex=True) #various gentlemen\n",
      "market_df.ru_prov = market_df.ru_prov.replace('\u041c\u0435\u043d\u044c\u0448\u0438\u043a\u043e\u0432\u0430 \u0432\u044a ','',regex=True)\n",
      "market_df.ru_prov = market_df.ru_prov.replace('\u041d\u0435\u043f\u043b\u044e\u0435-\u0432\u044b\u0445\u044a, ','',regex=True)\n",
      "market_df.ru_prov = market_df.ru_prov.replace('\u0443\u0440\u0430\u043b\u044c\u0441\u043a\u0438\u0445\u044a \u041a\u043e\u0437\u0430\u043a\u043e\u0432\u044a \u0432\u044a ','',regex=True) #of the Ural Cossacks\n",
      "market_df.ru_prov = market_df.ru_prov.replace('\u0443\u0440\u043e\u0447\u0438\u0449\u0463 \u0421\u043e\u0431\u043e\u0440\u0430 \u041d\u0438\u043a\u043e\u043b\u0430\u044f \u0427\u0443\u0434\u043e\u0442\u0432\u043e\u0440\u0446\u0430 \u0413\u043e\u0441\u0442\u0443\u043d\u0441\u043a\u0430\u0433\u043e, ','',regex=True) #In the tract of the Cathedral of St. Nicholas Gostunskii\n",
      "market_df.ru_prov = market_df.ru_prov.replace(' \u0436\u0435','',regex=True)\n",
      "market_df.ru_prov = market_df.ru_prov.replace(r'^[\u0412\u0432]\u044a ','',regex=True)"
     ],
     "language": "python",
     "metadata": {},
     "outputs": [],
     "prompt_number": 61
    },
    {
     "cell_type": "code",
     "collapsed": false,
     "input": [
      "#market_df.ix[market_df.ru_prov=='\u041d\u0435\u043f\u043b\u044e\u0435\u0432\u044b\u0445\u044a, \u0427\u0435\u0440\u043d\u0438\u0433\u043e\u0432\u0441\u043a\u0430\u0433\u043e \u041d\u0430\u043c\u0463\u0441\u0442\u043d\u0438\u0447\u0435\u0441\u0442\u0432\u0430']"
     ],
     "language": "python",
     "metadata": {},
     "outputs": [],
     "prompt_number": 62
    },
    {
     "cell_type": "code",
     "collapsed": false,
     "input": [
      "#market_df.ru_prov.unique()\n",
      "#Use this output to spot check Namiestnichestva for errors"
     ],
     "language": "python",
     "metadata": {},
     "outputs": [],
     "prompt_number": 63
    },
    {
     "cell_type": "code",
     "collapsed": false,
     "input": [
      "#market_df.ru_uezd.unique()\n",
      "#Use this output to spot check uezd for errors"
     ],
     "language": "python",
     "metadata": {},
     "outputs": [],
     "prompt_number": 64
    },
    {
     "cell_type": "code",
     "collapsed": false,
     "input": [
      "# Replacing variant spellings of Namiestnichestva and uyezd with a single spelling.\n",
      "market_df.ru_prov = market_df.ru_prov.replace('\u041d\u0430(?:\u043c\u0463){0,1}\u0441\u0442\u043d\u0438\u0447[\u0435\u043b]\u0441\u0442\u0432[\u0430\u0463]','\u041d\u0430\u043c\u0463\u0441\u0442\u043d\u0438\u0447\u0435\u0441\u0442\u0432\u0430',regex=True)\n",
      "market_df.ru_prov = market_df.ru_prov.replace('\u0443\u0463\u0437\u0434[\u0443\u0463]','\u0443\u0463\u0437\u0434\u0463',regex=True)"
     ],
     "language": "python",
     "metadata": {},
     "outputs": [],
     "prompt_number": 65
    },
    {
     "cell_type": "markdown",
     "metadata": {},
     "source": [
      "When is a name not a name?\n",
      "==========================\n",
      "When it's actually a reference to something else in the text!  \n",
      "These next few cells replace phrases that mean \"the same thing as...\" and replace them with what they're talking about.  \n",
      "Anything that uses the `replace_sameas` function is replacing \"horizontally\", so when a city is also a seat of an administrative unit, or a town is in an uyezd that is also a Namiestnichestva.  \n",
      "Anything that has a `replacer` is replacing \"vertically\", when the text is referring to a previous entry."
     ]
    },
    {
     "cell_type": "code",
     "collapsed": false,
     "input": [
      "def replace_sameas(df, original, replacement, match_list, kind=\"\u041d\u0430\u043c\u0463\u0441\u0442\u043d\u0438\u0447\u0435\u0441\u0442\u0432\u0430\"):\n",
      "    \"\"\"\n",
      "    df: dataframe to be modified\n",
      "    original: column name in pandas data frame\n",
      "    replacement: column name in same pandas data frame\n",
      "    match_list: list of strings which, in original, indicate that they should be replaced by the corresponding values in replacement\n",
      "    \n",
      "    For each string in match_list, this function replaces said string in original with the corresponding value in replacement, converted to title case for convenience.\n",
      "    Place types are added after place names for consistent further processing. Type defaults to \u041d\u0430\u043c\u0463\u0441\u0442\u043d\u0438\u0447\u0435\u0441\u0442\u0432\u0430.\n",
      "    This is an in place transformation in the dataframe.\n",
      "    \"\"\"\n",
      "    for match in match_list:\n",
      "        cond = df[original] == match\n",
      "        df[original][cond] = df[replacement][cond].str.title()+\" {}\".format(kind)\n",
      "    return 0"
     ],
     "language": "python",
     "metadata": {},
     "outputs": [],
     "prompt_number": 66
    },
    {
     "cell_type": "code",
     "collapsed": false,
     "input": [
      "replacer = market_df.ix[np.logical_and(market_df.ru_prov == \"\u0442\u043e\u0433\u043e \u041d\u0430\u043c\u0463\u0441\u0442\u043d\u0438\u0447\u0435\u0441\u0442\u0432\u0430\",np.logical_or(market_df.ru_prov==\"\u0438 \u0443\u0463\u0437\u0434\u0443\",market_df.ru_prov==\"\u0438 \u0443\u0463\u0437\u0434\u0463\"))].index.tolist()\n",
      "for x in replacer:\n",
      "    market_df.loc[x,'ru_uezd'] = market_df.loc[x-1]['ru_uezd']\n",
      "    market_df.loc[x,'ru_prov'] = market_df.loc[x-1]['ru_prov']"
     ],
     "language": "python",
     "metadata": {},
     "outputs": [],
     "prompt_number": 67
    },
    {
     "cell_type": "code",
     "collapsed": false,
     "input": [
      "replacer = market_df.ix[market_df.ru_prov == \"\u0442\u043e\u0433\u043e \u041d\u0430\u043c\u0463\u0441\u0442\u043d\u0438\u0447\u0435\u0441\u0442\u0432\u0430\"].index.tolist()\n",
      "for x in replacer:\n",
      "    market_df.loc[x,'ru_prov'] = market_df.loc[x-1]['ru_prov']"
     ],
     "language": "python",
     "metadata": {},
     "outputs": [],
     "prompt_number": 68
    },
    {
     "cell_type": "code",
     "collapsed": false,
     "input": [
      "replacer = market_df.ix[market_df.ru_prov == \"\u0442\u043e\u0439 \u0413\u0443\u0431\u0435\u0440\u043d\u0456\u0438\"].index.tolist()\n",
      "for x in replacer:\n",
      "    market_df.loc[x,'ru_prov'] = market_df.loc[x-1]['ru_prov']"
     ],
     "language": "python",
     "metadata": {},
     "outputs": [],
     "prompt_number": 69
    },
    {
     "cell_type": "code",
     "collapsed": false,
     "input": [
      "# Replacing \"same Namiestnichestva\" statements with appropriate Namiestnichestva name\n",
      "match_list = [\"\u041d\u0430\u043c\u0463\u0441\u0442\u043d\u0438\u0447\u0435\u0441\u0442\u0432\u0430 \u0441\u0435\u0433\u043e \u0438\u043c\u0435\u043d\u0438\"]\n",
      "replace_sameas(market_df,'ru_prov','ru_old_orth',match_list)"
     ],
     "language": "python",
     "metadata": {},
     "outputs": [
      {
       "metadata": {},
       "output_type": "pyout",
       "prompt_number": 70,
       "text": [
        "0"
       ]
      }
     ],
     "prompt_number": 70
    },
    {
     "cell_type": "code",
     "collapsed": false,
     "input": [
      "# Replacing \"and uyezd\" statements with appropriate Namiestnichestva name\n",
      "match_list = [\"\u0438 \u0443\u0463\u0437\u0434\u0443\",\"\u0438 \u0443\u0463\u0437\u0434\u0463\"]\n",
      "replace_sameas(market_df,'ru_uezd','ru_prov',match_list,kind=\"\u0443\u0463\u0437\u0434\u0463\")\n",
      "market_df.ru_uezd = market_df.ru_uezd.replace(r' \u041d\u0430(?:\u043c\u0463){0,1}\u0441\u0442\u043d\u0438\u0447[\u0435\u043b]\u0441\u0442\u0432[\u0430\u0463]','',regex=True)"
     ],
     "language": "python",
     "metadata": {},
     "outputs": [],
     "prompt_number": 71
    },
    {
     "cell_type": "markdown",
     "metadata": {},
     "source": [
      "Stripping html from text, preserving html text in case it's needed"
     ]
    },
    {
     "cell_type": "code",
     "collapsed": false,
     "input": [
      "from lxml import html\n",
      "def strip_html(text):\n",
      "    \"\"\"\n",
      "    Strips HTML entities from variable text\n",
      "    \"\"\"\n",
      "    return html.fromstring(text).text_content()"
     ],
     "language": "python",
     "metadata": {},
     "outputs": [],
     "prompt_number": 72
    },
    {
     "cell_type": "code",
     "collapsed": false,
     "input": [
      "market_df['html_text'] = market_df.description"
     ],
     "language": "python",
     "metadata": {},
     "outputs": [],
     "prompt_number": 73
    },
    {
     "cell_type": "code",
     "collapsed": false,
     "input": [
      "market_df.description = market_df.description.apply(strip_html)"
     ],
     "language": "python",
     "metadata": {},
     "outputs": [],
     "prompt_number": 74
    },
    {
     "cell_type": "markdown",
     "metadata": {},
     "source": [
      "Orthography Modernization\n",
      "========================="
     ]
    },
    {
     "cell_type": "code",
     "collapsed": false,
     "input": [
      "import re,json\n",
      "from lxml import html\n",
      "\n",
      "with open(\"resources/special_cases.json\",'r',encoding='utf-8') as fp:\n",
      "    lookup_dict = json.load(fp)\n",
      "\n",
      "def ortho_rules(text,lookup_dict):\n",
      "    \"\"\"\n",
      "    Takes a text string and a lookup dict as input\n",
      "    Removes any lingering html tags\n",
      "    Breaks the string down into component words with split\n",
      "    Uses replacements to modernize orthography\n",
      "    Returns re-assembled text with modern orthography\n",
      "    \"\"\"\n",
      "    if text is not None:\n",
      "        text = html.fromstring(text).text_content()\n",
      "        textlist = text.split(' ')\n",
      "        out_list = []\n",
      "        for word in textlist:\n",
      "            if word in [',','.',';',':']:\n",
      "                out_list.append(word)\n",
      "            word = word.strip(',.;:')\n",
      "            if word in lookup_dict:\n",
      "                word = lookup_dict[word]\n",
      "                out_list.append(word)\n",
      "            else:\n",
      "                word = re.sub(\"[\u042a\u044a]$\",'',word)\n",
      "                word = re.sub(r\"^([\u0447\u0435]{0,2}[\u0447]?[\u0432\u0431\u043d\u0440]?[\u0432\u0435\u043e\u0430\u0438])\u0437([\u041f\u0424\u041a\u0422\u0428\u0421\u0427\u043f\u0444\u043a\u0442\u0448\u0441\u0447])\",r\"\\1\u0441\\2\",word,re.IGNORECASE)\n",
      "                word = re.sub(\"\u0430\u0433\u043e$\",\"\u043e\u0433\u043e\",word,re.IGNORECASE)\n",
      "                word = re.sub(\"\u044f\u0433\u043e$\",\"\u0435\u0433\u043e\",word,re.IGNORECASE)\n",
      "                word = re.sub(\"\u044b\u044f$\",\"\u044b\u0435\",word,re.IGNORECASE)\n",
      "                word = re.sub(\"i\u044f$\",\"\u0438\u0435\",word,re.IGNORECASE)\n",
      "                word = word.replace('i','\u0438') #english\n",
      "                word = word.replace('I','\u0418') #english\n",
      "                word = word.replace('\u0456','\u0438') #cyrillic\n",
      "                word = word.replace('\u0406','\u0418') #cyrillic\n",
      "                word = word.replace('\u0462','\u0415')\n",
      "                word = word.replace('\u0463','\u0435')\n",
      "                word = word.replace('\u0472','\u0424')\n",
      "                word = word.replace('\u0473','\u0444')\n",
      "                out_list.append(word)\n",
      "        out_str = ' '.join(out_list)\n",
      "        return out_str\n",
      "    else:\n",
      "        return \"None\""
     ],
     "language": "python",
     "metadata": {},
     "outputs": [],
     "prompt_number": 75
    },
    {
     "cell_type": "code",
     "collapsed": false,
     "input": [
      "market_df['ru_new_orth'] = market_df.ru_old_orth.apply(ortho_rules,args=[lookup_dict])\n",
      "market_df['prov_modern_sp'] = market_df.ru_prov.apply(ortho_rules,args=[lookup_dict])\n",
      "market_df['uezd_modern_sp'] = market_df.ru_uezd.apply(ortho_rules,args=[lookup_dict])\n",
      "#market_df.head()"
     ],
     "language": "python",
     "metadata": {},
     "outputs": [],
     "prompt_number": 76
    },
    {
     "cell_type": "markdown",
     "metadata": {},
     "source": [
      "Lemmatization\n",
      "=============\n",
      "Here's where we start lemmatizing some of the text. `ru_stemmer` below uses the nltk snowball stemmer to generalize terms."
     ]
    },
    {
     "cell_type": "code",
     "collapsed": false,
     "input": [
      "import nltk"
     ],
     "language": "python",
     "metadata": {},
     "outputs": [],
     "prompt_number": 77
    },
    {
     "cell_type": "code",
     "collapsed": false,
     "input": [
      "ru_stemmer = nltk.stem.SnowballStemmer('russian')"
     ],
     "language": "python",
     "metadata": {},
     "outputs": [],
     "prompt_number": 78
    },
    {
     "cell_type": "code",
     "collapsed": false,
     "input": [
      "market_df['prov_stem'] = market_df.prov_modern_sp.replace(' [\u0410-\u042f\u0430-\u044f]+$','',regex=True).apply(ru_stemmer.stem)\n",
      "market_df['uezd_stem'] = market_df.uezd_modern_sp.replace(' \u0443\u0435\u0437\u0434\u0435$','',regex=True).apply(ru_stemmer.stem)"
     ],
     "language": "python",
     "metadata": {},
     "outputs": [],
     "prompt_number": 79
    },
    {
     "cell_type": "code",
     "collapsed": false,
     "input": [
      "#standardizing names from stems\n",
      "market_df.prov_stem = market_df.prov_stem.replace('\u0432\u043b\u0430\u0434\u0438\u043c\u0435\u0440\u043a','\u0432\u043b\u0430\u0434\u0438\u043c\u0435\u0440\u0441\u043a')\n",
      "market_df.prov_stem = market_df.prov_stem.replace('\u0432\u043e\u043b\u043e\u0434\u0438\u043c\u0435\u0440\u0441\u043a','\u0432\u043b\u0430\u0434\u0438\u043c\u0435\u0440\u0441\u043a')\n",
      "market_df.prov_stem = market_df.prov_stem.replace('\u0432\u043e\u0440\u043e\u043d\u0435\u0436','\u0432\u043e\u0440\u043e\u043d\u0435\u0436\u0441\u043a')\n",
      "market_df.prov_stem = market_df.prov_stem.replace('\u0432\u044b\u0431\u043e\u0440\u0433\u0441\u043a','\u0432\u044b\u0431\u043e\u0440\u0433')\n",
      "market_df.prov_stem = market_df.prov_stem.replace('\u043a\u043e\u0441\u0442\u0440\u043e\u043c\u0441\u043a','\u043a\u043e\u0441\u0442\u0440\u043e\u043c\u0430')\n",
      "market_df.prov_stem = market_df.prov_stem.replace('\u043a\u043e\u0441\u0442\u0440\u043e\u043c','\u043a\u043e\u0441\u0442\u0440\u043e\u043c\u0430')\n",
      "market_df.prov_stem = market_df.prov_stem.replace('\u0433\u043e\u0440\u043e\u0445\u043e\u0432\u0441\u043a','\u0433\u043e\u0440\u043e\u0445\u043e\u0432\u0435\u0446\u0441\u043a')\n",
      "market_df.prov_stem = market_df.prov_stem.replace('\u043d\u043e\u0432\u043e\u0433\u043e\u0440\u043e\u0434\u0441\u043a\u043e\u0433\u043e - \u0441\u0435\u0432\u0435\u0440\u0441\u043a','\u043d\u043e\u0432\u043e\u0433\u043e\u0440\u043e\u0434 - \u0441\u0435\u0432\u0435\u0440\u0441\u043a')\n",
      "market_df.prov_stem = market_df.prov_stem.replace('\u043d\u043e\u0432\u043e\u0433\u043e\u0440\u043e\u0434\u0441\u043a','\u043d\u043e\u0432\u0433\u043e\u0440\u043e\u0434\u0441\u043a')\n",
      "market_df.prov_stem = market_df.prov_stem.replace('\u043e\u043b\u043e\u043d\u0435\u0446','\u043e\u043b\u043e\u043d\u0435\u0446\u043a')\n",
      "market_df.prov_stem = market_df.prov_stem.replace('\u043f\u0435\u043d\u0437','\u043f\u0435\u043d\u0437\u0435\u043d\u0441\u043a')\n",
      "market_df.prov_stem = market_df.prov_stem.replace('\u043f\u0435\u0440\u043c','\u043f\u0435\u0440\u043c\u0441\u043a')\n",
      "market_df.prov_stem = market_df.prov_stem.replace('\u043f\u0441\u043a\u043e\u0432','\u043f\u0441\u043a\u043e\u0432\u0441\u043a')\n",
      "market_df.prov_stem = market_df.prov_stem.replace('\u0440\u0438\u0433','\u0440\u0438\u0436\u0441\u043a')\n",
      "market_df.prov_stem = market_df.prov_stem.replace('\u0440\u044f\u0437\u0430\u043d','\u0440\u044f\u0437\u0430\u043d\u0441\u043a')\n",
      "market_df.prov_stem = market_df.prov_stem.replace('\u0441\u0430\u0440\u0430\u0442','\u0441\u0430\u0440\u0430\u0442\u043e\u0432\u0441\u043a')\n",
      "market_df.prov_stem = market_df.prov_stem.replace('\u0442\u0430\u043c\u0431','\u0442\u0430\u043c\u0431\u043e\u0432\u0441\u043a')\n",
      "market_df.prov_stem = market_df.prov_stem.replace('\u0442\u0432\u0435\u0440','\u0442\u0432\u0435\u0440\u0441\u043a')\n",
      "market_df.prov_stem = market_df.prov_stem.replace('\u0442\u0443\u043b','\u0442\u0443\u043b\u044c\u0441\u043a')\n",
      "market_df.prov_stem = market_df.prov_stem.replace('\u0442\u0443\u043b\u044c\u0441\u043a\u0430\u0433','\u0442\u0443\u043b\u044c\u0441\u043a')\n",
      "market_df.prov_stem = market_df.prov_stem.replace('\u0447\u0435\u0440\u043d\u0438\u0433','\u0447\u0435\u0440\u043d\u0438\u0433\u043e\u0432\u0441\u043a')\n",
      "market_df.prov_stem = market_df.prov_stem.replace('\u044f\u0440\u043e\u0441\u043b\u0430\u0432\u043b','\u044f\u0440\u043e\u0441\u043b\u0430\u0432\u0441\u043a')\n",
      "market_df.prov_stem = market_df.prov_stem.replace('\u0445\u0430\u0440\u044c\u043a','\u0445\u0430\u0440\u044c\u043a\u043e\u0432\u0441\u043a')\n",
      "market_df.uezd_stem = market_df.uezd_stem.replace('\u0433\u043e\u0440\u043e\u0445\u043e\u0432\u0441\u043a','\u0433\u043e\u0440\u043e\u0445\u043e\u0432\u0435\u0446\u043a')"
     ],
     "language": "python",
     "metadata": {},
     "outputs": [],
     "prompt_number": 80
    },
    {
     "cell_type": "code",
     "collapsed": false,
     "input": [
      "market_df.ix[market_df.ru_old_featuretype=='\u0433\u043e\u0440\u043e\u0434\u044a','uezd_stem'] = market_df.ru_new_orth.str.lower()"
     ],
     "language": "python",
     "metadata": {},
     "outputs": [],
     "prompt_number": 81
    },
    {
     "cell_type": "code",
     "collapsed": false,
     "input": [
      "market_df.prov_stem.unique()"
     ],
     "language": "python",
     "metadata": {},
     "outputs": [
      {
       "metadata": {},
       "output_type": "pyout",
       "prompt_number": 82,
       "text": [
        "array(['\u0440\u044f\u0437\u0430\u043d\u0441\u043a', '\u0432\u043e\u043b\u043e\u0433\u043e\u0434\u0441\u043a', '\u043a\u043e\u0441\u0442\u0440\u043e\u043c\u0430', '\u043d\u0438\u0436\u0435\u0433\u043e\u0440\u043e\u0434\u0441\u043a', '\u0442\u0430\u043c\u0431\u043e\u0432\u0441\u043a',\n",
        "       '\u0441\u0438\u043d\u0431\u0438\u0440\u0441\u043a', '\u044f\u0440\u043e\u0441\u043b\u0430\u0432\u0441\u043a', '\u043f\u0435\u043d\u0437\u0435\u043d\u0441\u043a', '\u0442\u0443\u043b\u044c\u0441\u043a', '\u0432\u043e\u0440\u043e\u043d\u0435\u0436\u0441\u043a',\n",
        "       '\u0435\u043a\u0430\u0442\u0435\u0440\u0438\u043d\u043e\u0441\u043b\u0430\u0432\u0441\u043a', '\u043a\u0443\u0440\u0441\u043a', '\u0445\u0430\u0440\u044c\u043a\u043e\u0432\u0441\u043a', '\u043c\u043e\u0433\u0438\u043b\u0435\u0432\u0441\u043a', '\u043e\u0440\u043b\u043e\u0432\u0441\u043a',\n",
        "       '\u0430\u0440\u0445\u0430\u043d\u0433\u0435\u043b\u044c\u0441\u043a', '\u043a\u0430\u0432\u043a\u0430\u0437\u0441\u043a', '\u0441\u0430\u0440\u0430\u0442\u043e\u0432\u0441\u043a', 'Non', '\u043a\u0438\u0435\u0432\u0441\u043a',\n",
        "       '\u043d\u043e\u0432\u043e\u0433\u043e\u0440\u043e\u0434 - \u0441\u0435\u0432\u0435\u0440\u0441\u043a', '\u0447\u0435\u0440\u043d\u0438\u0433\u043e\u0432\u0441\u043a', '\u0442\u043e\u0431\u043e\u043b\u044c\u0441\u043a', '\u043c\u043e\u0441\u043a\u043e\u0432\u0441\u043a',\n",
        "       '\u043a\u0430\u0437\u0430\u043d\u0441\u043a', '\u043f\u043e\u043b\u043e\u0442\u0441\u043a', '\u043f\u0435\u0440\u043c\u0441\u043a', '\u0443\u0444\u0438\u043c\u0441\u043a', '\u0432\u043b\u0430\u0434\u0438\u043c\u0435\u0440\u0441\u043a', '\u0442\u0432\u0435\u0440\u0441\u043a',\n",
        "       '\u043d\u043e\u0432\u0433\u043e\u0440\u043e\u0434\u0441\u043a', '\u043a\u0430\u043b\u0443\u0436\u0441\u043a', '\u0441\u043c\u043e\u043b\u0435\u043d\u0441\u043a', '\u0440\u0438\u0436\u0441\u043a', '\u0438\u0440\u043a\u0443\u0442\u0441\u043a', '\u0432\u044b\u0431\u043e\u0440\u0433',\n",
        "       '\u043f\u0441\u043a\u043e\u0432\u0441\u043a', '\u043e\u043b\u043e\u043d\u0435\u0446\u043a', '\u0440\u0435\u0432\u0435\u043b\u044c\u0441\u043a', '\u0432\u044f\u0442\u0441\u043a', '\u0441 \u043f\u0435\u0442\u0435\u0440\u0431\u0443\u0440\u0433\u0441\u043a'], dtype=object)"
       ]
      }
     ],
     "prompt_number": 82
    },
    {
     "cell_type": "code",
     "collapsed": false,
     "input": [
      "len(market_df.ix[market_df.ru_uezd.isnull()==False])/len(market_df)"
     ],
     "language": "python",
     "metadata": {},
     "outputs": [
      {
       "metadata": {},
       "output_type": "pyout",
       "prompt_number": 89,
       "text": [
        "0.5405742821473158"
       ]
      }
     ],
     "prompt_number": 89
    },
    {
     "cell_type": "code",
     "collapsed": false,
     "input": [
      "market_df.ix[np.logical_and(market_df.ru_prov.isnull(),market_df.ru_uezd.isnull()==False)][['ru_old_orth','ru_prov','description']]\n",
      "#Spot check to make sure that Namiestnichestva isn't in text, but uezd is."
     ],
     "language": "python",
     "metadata": {},
     "outputs": [
      {
       "html": [
        "<div style=\"max-height:1000px;max-width:1500px;overflow:auto;\">\n",
        "<table border=\"1\" class=\"dataframe\">\n",
        "  <thead>\n",
        "    <tr style=\"text-align: right;\">\n",
        "      <th></th>\n",
        "      <th>ru_old_orth</th>\n",
        "      <th>ru_prov</th>\n",
        "      <th>description</th>\n",
        "    </tr>\n",
        "  </thead>\n",
        "  <tbody>\n",
        "    <tr>\n",
        "      <th>77 </th>\n",
        "      <td>                 \u0411\u0423\u0420\u0415\u0426\u041a\u041e\u0419</td>\n",
        "      <td> None</td>\n",
        "      <td> \u0411\u0423\u0420\u0415\u0426\u041a\u041e\u0419, \u043f\u043e\u0433\u043e\u0441\u0442\u044a \u0432\u044a \u041d\u043e\u0432\u0433\u043e\u0440\u043e\u0434\u0441\u043a\u043e\u043c\u044a \u0443\u0463\u0437\u0434\u0463. \u0417\u0434\u0463\u0441...</td>\n",
        "    </tr>\n",
        "    <tr>\n",
        "      <th>121</th>\n",
        "      <td>                  \u0412\u041e\u041b\u042b\u041d\u0426\u042b</td>\n",
        "      <td> None</td>\n",
        "      <td> \u0412\u041e\u041b\u042b\u041d\u0426\u042b, \u043c\u0463\u0441\u0442\u0435\u0447\u043a\u043e \u0432\u044a \u0443\u0463\u0437\u0434\u0463 \u0433\u043e\u0440\u043e\u0434\u0430 \u041f\u043e\u043b\u043e\u0442\u0441\u043a\u0430. \u0417\u0434...</td>\n",
        "    </tr>\n",
        "    <tr>\n",
        "      <th>383</th>\n",
        "      <td>                    \u041b\u0418\u041f\u0426\u042b</td>\n",
        "      <td> None</td>\n",
        "      <td> \u041b\u0418\u041f\u0426\u042b, \u0441\u043b\u043e\u0431\u043e\u0434\u0430 \u0432\u044a \u0443\u0463\u0437\u0434\u0463 \u0433\u043e\u0440\u043e\u0434\u0430 \u0425\u0430\u0440\u044c\u043a\u043e\u0432\u0430. \u0417\u0434\u0463\u0441\u044c...</td>\n",
        "    </tr>\n",
        "    <tr>\n",
        "      <th>384</th>\n",
        "      <td>                   \u041b\u0418\u0421\u041a\u041e\u0419</td>\n",
        "      <td> None</td>\n",
        "      <td> \u041b\u0418\u0421\u041a\u041e\u0419 , \u0432\u043e\u043b\u043e\u043a\u044a , \u0447\u0442\u043e \u043d\u0430 \u0421\u0438\u043d\u0433\u0463, \u0432\u044a \u0412\u043e\u043b\u043e\u0433\u043e\u0434\u0441\u043a\u043e\u043c...</td>\n",
        "    </tr>\n",
        "    <tr>\n",
        "      <th>519</th>\n",
        "      <td>               \u041f\u0415\u0420\u0415\u041a\u041e\u041f\u0415\u0426\u042a</td>\n",
        "      <td> None</td>\n",
        "      <td> \u041f\u0415\u0420\u0415\u041a\u041e\u041f\u0415\u0426\u042a , \u043c\u0463\u0441\u0442\u0435\u0447\u043a\u043e \u0432\u044a \u0443\u0463\u0437\u0434\u0463 \u0433\u043e\u0440\u043e\u0434\u0430 \u0425\u0430\u0440\u044c\u043a\u043e\u0432\u0430...</td>\n",
        "    </tr>\n",
        "    <tr>\n",
        "      <th>610</th>\n",
        "      <td> \u0421\u0412\u0418\u0420\u0421\u041a\u041e\u0419 \u0410\u041b\u0415\u041a\u0421\u0410\u041d\u0414\u0420\u041e\u0412\u0421\u041a\u041e\u0419</td>\n",
        "      <td> None</td>\n",
        "      <td> \u0421\u0412\u0418\u0420\u0421\u041a\u041e\u0419 \u0410\u041b\u0415\u041a\u0421\u0410\u041d\u0414\u0420\u041e\u0412\u0421\u041a\u041e\u0419 , \u043c\u043e\u043d\u0430\u0441\u0442\u044b\u0440\u044c \u0432\u044a \u041e\u043b\u043e\u043d\u0435\u0446...</td>\n",
        "    </tr>\n",
        "    <tr>\n",
        "      <th>676</th>\n",
        "      <td>               \u0422\u0410\u0420\u041d\u042f\u041d\u0421\u041a\u041e\u0419</td>\n",
        "      <td> None</td>\n",
        "      <td> \u0422\u0410\u0420\u041d\u042f\u041d\u0421\u041a\u041e\u0419, \u0433\u043e\u0440\u043e\u0434\u043e\u043a\u044a \u041a\u043e\u043a\u0448\u0430\u0439\u0441\u043a\u043e\u0439 \u0447\u0435\u0442\u0432\u0435\u0440\u0442\u0438 \u0432\u044a \u0443\u0463...</td>\n",
        "    </tr>\n",
        "    <tr>\n",
        "      <th>693</th>\n",
        "      <td>                \u0422\u041e\u041c\u0410\u0420\u041e\u0412\u041a\u0410</td>\n",
        "      <td> None</td>\n",
        "      <td> \u0422\u041e\u041c\u0410\u0420\u041e\u0412\u041a\u0410, \u0441\u043b\u043e\u0431\u043e\u0434\u0430 \u0432\u044a \u0443\u0463\u0437\u0434\u0463 \u0433\u043e\u0440\u043e\u0434\u0430 \u041a\u0430\u0440\u043f\u043e\u0432\u0430. \u0412\u044a...</td>\n",
        "    </tr>\n",
        "    <tr>\n",
        "      <th>748</th>\n",
        "      <td>                    \u0426\u0415\u0412\u041b\u042f</td>\n",
        "      <td> None</td>\n",
        "      <td> \u0426\u0415\u0412\u041b\u042f, \u0441\u0435\u043b\u043e \u0413. \u0421\u0443\u043c\u0430\u0440\u043e\u043a\u043e\u0432\u0430 \u0432\u044a \u0443\u0463\u0437\u0434\u0463 \u0433\u043e\u0440\u043e\u0434\u0430 \u041e\u043f\u043e\u0447...</td>\n",
        "    </tr>\n",
        "    <tr>\n",
        "      <th>758</th>\n",
        "      <td>              \u0427\u0415\u0420\u0415\u041d\u0427\u0418\u0426\u041a\u041e\u0419</td>\n",
        "      <td> None</td>\n",
        "      <td> \u0427\u0415\u0420\u0415\u041d\u0427\u0418\u0426\u041a\u041e\u0419, \u043f\u043e\u0433\u043e\u0441\u0442\u044a \u0432\u044a \u0443\u0463\u0437\u0434\u0463 \u0433\u043e\u0440\u043e\u0434\u0430 \u0421\u0442\u0430\u0440\u043e\u0439 \u0420\u0443...</td>\n",
        "    </tr>\n",
        "  </tbody>\n",
        "</table>\n",
        "</div>"
       ],
       "metadata": {},
       "output_type": "pyout",
       "prompt_number": 84,
       "text": [
        "                  ru_old_orth ru_prov  \\\n",
        "77                   \u0411\u0423\u0420\u0415\u0426\u041a\u041e\u0419    None   \n",
        "121                   \u0412\u041e\u041b\u042b\u041d\u0426\u042b    None   \n",
        "383                     \u041b\u0418\u041f\u0426\u042b    None   \n",
        "384                    \u041b\u0418\u0421\u041a\u041e\u0419    None   \n",
        "519                \u041f\u0415\u0420\u0415\u041a\u041e\u041f\u0415\u0426\u042a    None   \n",
        "610  \u0421\u0412\u0418\u0420\u0421\u041a\u041e\u0419 \u0410\u041b\u0415\u041a\u0421\u0410\u041d\u0414\u0420\u041e\u0412\u0421\u041a\u041e\u0419    None   \n",
        "676                \u0422\u0410\u0420\u041d\u042f\u041d\u0421\u041a\u041e\u0419    None   \n",
        "693                 \u0422\u041e\u041c\u0410\u0420\u041e\u0412\u041a\u0410    None   \n",
        "748                     \u0426\u0415\u0412\u041b\u042f    None   \n",
        "758               \u0427\u0415\u0420\u0415\u041d\u0427\u0418\u0426\u041a\u041e\u0419    None   \n",
        "\n",
        "                                           description  \n",
        "77   \u0411\u0423\u0420\u0415\u0426\u041a\u041e\u0419, \u043f\u043e\u0433\u043e\u0441\u0442\u044a \u0432\u044a \u041d\u043e\u0432\u0433\u043e\u0440\u043e\u0434\u0441\u043a\u043e\u043c\u044a \u0443\u0463\u0437\u0434\u0463. \u0417\u0434\u0463\u0441...  \n",
        "121  \u0412\u041e\u041b\u042b\u041d\u0426\u042b, \u043c\u0463\u0441\u0442\u0435\u0447\u043a\u043e \u0432\u044a \u0443\u0463\u0437\u0434\u0463 \u0433\u043e\u0440\u043e\u0434\u0430 \u041f\u043e\u043b\u043e\u0442\u0441\u043a\u0430. \u0417\u0434...  \n",
        "383  \u041b\u0418\u041f\u0426\u042b, \u0441\u043b\u043e\u0431\u043e\u0434\u0430 \u0432\u044a \u0443\u0463\u0437\u0434\u0463 \u0433\u043e\u0440\u043e\u0434\u0430 \u0425\u0430\u0440\u044c\u043a\u043e\u0432\u0430. \u0417\u0434\u0463\u0441\u044c...  \n",
        "384  \u041b\u0418\u0421\u041a\u041e\u0419 , \u0432\u043e\u043b\u043e\u043a\u044a , \u0447\u0442\u043e \u043d\u0430 \u0421\u0438\u043d\u0433\u0463, \u0432\u044a \u0412\u043e\u043b\u043e\u0433\u043e\u0434\u0441\u043a\u043e\u043c...  \n",
        "519  \u041f\u0415\u0420\u0415\u041a\u041e\u041f\u0415\u0426\u042a , \u043c\u0463\u0441\u0442\u0435\u0447\u043a\u043e \u0432\u044a \u0443\u0463\u0437\u0434\u0463 \u0433\u043e\u0440\u043e\u0434\u0430 \u0425\u0430\u0440\u044c\u043a\u043e\u0432\u0430...  \n",
        "610  \u0421\u0412\u0418\u0420\u0421\u041a\u041e\u0419 \u0410\u041b\u0415\u041a\u0421\u0410\u041d\u0414\u0420\u041e\u0412\u0421\u041a\u041e\u0419 , \u043c\u043e\u043d\u0430\u0441\u0442\u044b\u0440\u044c \u0432\u044a \u041e\u043b\u043e\u043d\u0435\u0446...  \n",
        "676  \u0422\u0410\u0420\u041d\u042f\u041d\u0421\u041a\u041e\u0419, \u0433\u043e\u0440\u043e\u0434\u043e\u043a\u044a \u041a\u043e\u043a\u0448\u0430\u0439\u0441\u043a\u043e\u0439 \u0447\u0435\u0442\u0432\u0435\u0440\u0442\u0438 \u0432\u044a \u0443\u0463...  \n",
        "693  \u0422\u041e\u041c\u0410\u0420\u041e\u0412\u041a\u0410, \u0441\u043b\u043e\u0431\u043e\u0434\u0430 \u0432\u044a \u0443\u0463\u0437\u0434\u0463 \u0433\u043e\u0440\u043e\u0434\u0430 \u041a\u0430\u0440\u043f\u043e\u0432\u0430. \u0412\u044a...  \n",
        "748  \u0426\u0415\u0412\u041b\u042f, \u0441\u0435\u043b\u043e \u0413. \u0421\u0443\u043c\u0430\u0440\u043e\u043a\u043e\u0432\u0430 \u0432\u044a \u0443\u0463\u0437\u0434\u0463 \u0433\u043e\u0440\u043e\u0434\u0430 \u041e\u043f\u043e\u0447...  \n",
        "758  \u0427\u0415\u0420\u0415\u041d\u0427\u0418\u0426\u041a\u041e\u0419, \u043f\u043e\u0433\u043e\u0441\u0442\u044a \u0432\u044a \u0443\u0463\u0437\u0434\u0463 \u0433\u043e\u0440\u043e\u0434\u0430 \u0421\u0442\u0430\u0440\u043e\u0439 \u0420\u0443...  "
       ]
      }
     ],
     "prompt_number": 84
    },
    {
     "cell_type": "code",
     "collapsed": false,
     "input": [
      "market_df['admin_hierarchy'] = market_df.prov_stem\n",
      "cond = market_df.ru_uezd != 'not_in_text'\n",
      "market_df.admin_hierarchy[cond] = market_df.admin_hierarchy + \"|\" + market_df.uezd_stem"
     ],
     "language": "python",
     "metadata": {},
     "outputs": [],
     "prompt_number": 85
    },
    {
     "cell_type": "markdown",
     "metadata": {},
     "source": [
      "Adding partof IDs"
     ]
    },
    {
     "cell_type": "code",
     "collapsed": false,
     "input": [
      "def partof_prov_lookup(admin1_stem,admin2_stem,lookup):\n",
      "    if admin1_stem in lookup:\n",
      "        admin1 = lookup[admin1_stem]['id']\n",
      "        if admin2_stem in lookup[admin1_stem]:\n",
      "            admin2 = lookup[admin1_stem][admin2_stem]['id']\n",
      "        else:\n",
      "            print(\"{} was not found in lookup under admin1: {}\".format(admin2_stem,admin1_stem))\n",
      "            admin2 = 'error_not_found'\n",
      "    else:\n",
      "        print(\"{} was not found in lookup\".format(admin1_stem))\n",
      "        admin1 = 'error_not_found'\n",
      "        admin2 = 'error_not_found'\n",
      "    return admin1,admin2"
     ],
     "language": "python",
     "metadata": {},
     "outputs": [],
     "prompt_number": 86
    },
    {
     "cell_type": "code",
     "collapsed": false,
     "input": [
      "with open(\"resources/admin_lookup.json\",\"r\",encoding='utf-8') as fp:\n",
      "    new_lookup = json.load(fp)"
     ],
     "language": "python",
     "metadata": {},
     "outputs": [],
     "prompt_number": 87
    },
    {
     "cell_type": "code",
     "collapsed": false,
     "input": [
      "market_df['admin1_partofID'], market_df['admin2_partofID'] = np.vectorize(partof_prov_lookup)(market_df.prov_stem,market_df.uezd_stem,new_lookup)"
     ],
     "language": "python",
     "metadata": {},
     "outputs": [
      {
       "output_type": "stream",
       "stream": "stdout",
       "text": [
        "\u0430\u043b\u0430\u0442\u044b\u0440\u044c was not found in lookup under admin1: \u0441\u0438\u043d\u0431\u0438\u0440\u0441\u043a\n",
        "\u0430\u0440\u0437\u0430\u043c\u0430\u0441 was not found in lookup under admin1: \u043d\u0438\u0436\u0435\u0433\u043e\u0440\u043e\u0434\u0441\u043a\n",
        "\u0430\u0441\u0442\u0440\u0430\u0445\u0430\u043d\u044c was not found in lookup under admin1: \u043a\u0430\u0432\u043a\u0430\u0437\u0441\u043a\n",
        "\u0430\u0442\u043a\u0430\u0440\u0441\u043a was not found in lookup under admin1: \u0441\u0430\u0440\u0430\u0442\u043e\u0432\u0441\u043a\n",
        "\u0430\u0445\u0442\u044b\u0440\u043a\u0430 was not found in lookup under admin1: \u0445\u0430\u0440\u044c\u043a\u043e\u0432\u0441\u043a\n",
        "\u0431\u0430\u043b\u0430\u0445\u043d\u0430 was not found in lookup under admin1: \u043d\u0438\u0436\u0435\u0433\u043e\u0440\u043e\u0434\u0441\u043a\n",
        "\u0431\u0435\u0440\u0435\u0437\u0438\u043d was not found in lookup under admin1: \u0447\u0435\u0440\u043d\u0438\u0433\u043e\u0432\u0441\u043a\n",
        "\u0431\u0435\u0440\u0435\u0437\u043e\u0432 was not found in lookup under admin1: \u0442\u043e\u0431\u043e\u043b\u044c\u0441\u043a\n",
        "\u0431\u043e\u0433\u0430\u0442\u044b\u0439 was not found in lookup under admin1: \u043a\u0443\u0440\u0441\u043a\n",
        "\u0431\u043e\u0433\u043e\u0434\u0443\u0445\u043e\u0432 was not found in lookup under admin1: \u0445\u0430\u0440\u044c\u043a\u043e\u0432\u0441\u043a\n",
        "\u0431\u043e\u0433\u043e\u0440\u043e\u0434\u0438\u0446\u043a was not found in lookup under admin1: \u0442\u0443\u043b\u044c\u0441\u043a\n",
        "\u0431\u043e\u0440\u0437\u043d\u0430 was not found in lookup under admin1: \u0447\u0435\u0440\u043d\u0438\u0433\u043e\u0432\u0441\u043a\n",
        "\u0431\u043e\u0440\u043e\u0432\u0438\u0447\u0438 was not found in lookup under admin1: \u043d\u043e\u0432\u0433\u043e\u0440\u043e\u0434\u0441\u043a\n",
        "\u0431\u0440\u043e\u043d\u043d\u0438\u0446\u044b was not found in lookup under admin1: \u043c\u043e\u0441\u043a\u043e\u0432\u0441\u043a\n",
        "\u0431\u0440\u044f\u043d\u0441\u043a was not found in lookup under admin1: \u043e\u0440\u043b\u043e\u0432\u0441\u043a\n",
        "\u0431\u0435\u043b\u0433\u043e\u0440\u043e\u0434 was not found in lookup under admin1: \u043a\u0443\u0440\u0441\u043a\n",
        "\u0431\u0435\u043b\u043e\u0439 was not found in lookup under admin1: \u0441\u043c\u043e\u043b\u0435\u043d\u0441\u043a\n",
        "\u0431\u0435\u043b\u043e\u043f\u043e\u043b\u044c\u0435 was not found in lookup under admin1: \u0445\u0430\u0440\u044c\u043a\u043e\u0432\u0441\u043a\n",
        "\u0432\u0430\u043b\u0434\u0430\u0439 was not found in lookup under admin1: \u043d\u043e\u0432\u0433\u043e\u0440\u043e\u0434\u0441\u043a\n",
        "\u0432\u0430\u043b\u043a\u0438 was not found in lookup under admin1: \u0445\u0430\u0440\u044c\u043a\u043e\u0432\u0441\u043a\n",
        "\u0432\u0430\u043b\u0443\u0439\u043a\u0438 was not found in lookup under admin1: \u0432\u043e\u0440\u043e\u043d\u0435\u0436\u0441\u043a\n",
        "\u0432\u0435\u043b\u0438\u0436 was not found in lookup under admin1: \u043f\u043e\u043b\u043e\u0442\u0441\u043a\n",
        "\u0432\u0435\u043d\u0434\u0435\u043d was not found in lookup under admin1: \u0440\u0438\u0436\u0441\u043a\n",
        "\u0432\u0435\u043d\u0435\u0432 was not found in lookup under admin1: \u0442\u0443\u043b\u044c\u0441\u043a\n",
        "\u0432\u0435\u0440\u0435\u044f was not found in lookup under admin1: \u043c\u043e\u0441\u043a\u043e\u0432\u0441\u043a\n",
        "\u0432\u0435\u0440\u0445\u043d\u0438\u0439 \u0443\u0434\u0438\u043d\u0441\u043a was not found in lookup under admin1: \u0438\u0440\u043a\u0443\u0442\u0441\u043a\n",
        "\u0432\u0435\u0441\u0438\u0435\u0433\u043e\u043d\u0441\u043a was not found in lookup under admin1: \u0442\u0432\u0435\u0440\u0441\u043a\n",
        "\u0432\u0438\u043b\u044c\u043c\u0430\u043d\u0441\u0442\u0440\u0430\u043d\u0434 was not found in lookup under admin1: \u0432\u044b\u0431\u043e\u0440\u0433\n",
        "\u0432\u043e\u043b\u043c\u0430\u0440 was not found in lookup under admin1: \u0440\u0438\u0436\u0441\u043a\n",
        "\u0432\u043e\u043b\u0441\u043a was not found in lookup under admin1: \u0441\u0430\u0440\u0430\u0442\u043e\u0432\u0441\u043a\n",
        "\u0432\u044b\u0442\u0435\u0433\u0440\u0430 was not found in lookup under admin1: \u043e\u043b\u043e\u043d\u0435\u0446\u043a\n",
        "\u0432\u044b\u0448\u043d\u0438\u0439 \u0432\u043e\u043b\u043e\u0447\u043e\u043a was not found in lookup under admin1: \u0442\u0432\u0435\u0440\u0441\u043a\n",
        "\u0432\u044f\u0437\u043d\u0438\u043a\u0438 was not found in lookup under admin1: \u0432\u043b\u0430\u0434\u0438\u043c\u0435\u0440\u0441\u043a\n",
        "\u0433\u0430\u0431\u0437\u0430\u043b\u044c was not found in lookup under admin1: \u0440\u0435\u0432\u0435\u043b\u044c\u0441\u043a\n",
        "\u0433\u0430\u0434\u044f\u0447\u044c was not found in lookup under admin1: \u0447\u0435\u0440\u043d\u0438\u0433\u043e\u0432\u0441\u043a\n",
        "\u0433\u0434\u043e\u0432 was not found in lookup under admin1: \u043f\u0441\u043a\u043e\u0432\u0441\u043a\n",
        "\u0433\u0436\u0430\u0442\u044c was not found in lookup under admin1: \u0441\u043c\u043e\u043b\u0435\u043d\u0441\u043a\n",
        "\u0433\u043b\u0438\u043d\u0441\u043a was not found in lookup under admin1: \u0447\u0435\u0440\u043d\u0438\u0433\u043e\u0432\u0441\u043a\n",
        "\u0433\u043b\u0443\u0445\u043e\u0432 was not found in lookup under admin1: \u043d\u043e\u0432\u043e\u0433\u043e\u0440\u043e\u0434 - \u0441\u0435\u0432\u0435\u0440\u0441\u043a\n",
        "\u0433\u043e\u043b\u0442\u0432\u0430 was not found in lookup under admin1: \u043a\u0438\u0435\u0432\u0441\u043a\n",
        "\u0433\u043e\u0440\u0431\u0430\u0442\u043e\u0432 was not found in lookup under admin1: \u043d\u0438\u0436\u0435\u0433\u043e\u0440\u043e\u0434\u0441\u043a\n",
        "\u0433\u043e\u0440\u043e\u0434\u043d\u044f was not found in lookup under admin1: \u0447\u0435\u0440\u043d\u0438\u0433\u043e\u0432\u0441\u043a\n",
        "\u0433\u043e\u0440\u043e\u0445\u043e\u0432\u0435\u0446 was not found in lookup under admin1: \u0432\u043b\u0430\u0434\u0438\u043c\u0435\u0440\u0441\u043a\n",
        "\u0433\u0440\u044f\u0437\u043e\u0432\u0435\u0446 was not found in lookup under admin1: \u0432\u043e\u043b\u043e\u0433\u043e\u0434\u0441\u043a\n",
        "\u0434\u0430\u043b\u043c\u0430\u0442\u043e\u0432 was not found in lookup under admin1: \u043f\u0435\u0440\u043c\u0441\u043a\n",
        "\u0434\u0435\u0440\u043f\u0442 was not found in lookup under admin1: \u0440\u0438\u0436\u0441\u043a\n",
        "\u0434\u043c\u0438\u0442\u0440\u043e\u0432 was not found in lookup under admin1: \u043c\u043e\u0441\u043a\u043e\u0432\u0441\u043a\n",
        "\u0434\u043e\u0440\u043e\u0433\u043e\u0431\u0443\u0436 was not found in lookup under admin1: \u0441\u043c\u043e\u043b\u0435\u043d\u0441\u043a\n",
        "\u0434\u0443\u0445\u043e\u0432\u0449\u0438\u043d\u0430 was not found in lookup under admin1: \u0441\u043c\u043e\u043b\u0435\u043d\u0441\u043a\n",
        "\u0435\u043b\u0430\u0442\u043c\u0430 was not found in lookup under admin1: \u0442\u0430\u043c\u0431\u043e\u0432\u0441\u043a\n",
        "\u0435\u043b\u0435\u0446 was not found in lookup under admin1: \u043e\u0440\u043b\u043e\u0432\u0441\u043a\n",
        "\u0435\u043b\u0438\u0441\u0430\u0432\u0435\u0442\u044a-\u0433\u0440\u0430\u0434 was not found in lookup under admin1: \u0435\u043a\u0430\u0442\u0435\u0440\u0438\u043d\u043e\u0441\u043b\u0430\u0432\u0441\u043a\n",
        "\u0435\u043b\u043d\u0430 was not found in lookup under admin1: \u0441\u043c\u043e\u043b\u0435\u043d\u0441\u043a\n",
        "\u0435\u043d\u0438\u0441\u0435\u0439\u0441\u043a was not found in lookup under admin1: \u0442\u043e\u0431\u043e\u043b\u044c\u0441\u043a\n",
        "\u0435\u043f\u0438\u0444\u0430\u043d\u044c was not found in lookup under admin1: \u0442\u0443\u043b\u044c\u0441\u043a\n",
        "\u0436\u0438\u0433\u0430\u043d\u0441\u043a was not found in lookup under admin1: \u0438\u0440\u043a\u0443\u0442\u0441\u043a\n",
        "\u0436\u0438\u0437\u0434\u0440\u0430 was not found in lookup under admin1: \u043a\u0430\u043b\u0443\u0436\u0441\u043a\n",
        "\u0437\u0430\u0448\u0438\u0432\u0435\u0440\u0441\u043a was not found in lookup under admin1: \u0438\u0440\u043a\u0443\u0442\u0441\u043a\n",
        "\u0437\u0432\u0435\u043d\u0438\u0433\u043e\u0440\u043e\u0434 was not found in lookup under admin1: \u043c\u043e\u0441\u043a\u043e\u0432\u0441\u043a\n",
        "\u0437\u0435\u043c\u043b\u044f\u043d\u0441\u043a was not found in lookup under admin1: \u0432\u043e\u0440\u043e\u043d\u0435\u0436\u0441\u043a\n",
        "\u0437\u0438\u043d\u043a\u043e\u0432 was not found in lookup under admin1: \u0447\u0435\u0440\u043d\u0438\u0433\u043e\u0432\u0441\u043a\n",
        "\u0437\u043e\u043b\u043e\u0442\u043e\u043d\u043e\u0448\u0430 was not found in lookup under admin1: \u043a\u0438\u0435\u0432\u0441\u043a\n",
        "\u0437\u043e\u043b\u043e\u0447\u0435\u0432 was not found in lookup under admin1: \u0445\u0430\u0440\u044c\u043a\u043e\u0432\u0441\u043a\n",
        "\u0438\u043d\u0441\u0430\u0440\u0430 was not found in lookup under admin1: \u043f\u0435\u043d\u0437\u0435\u043d\u0441\u043a\n",
        "\u0438\u0440\u0431\u0438\u0442 was not found in lookup under admin1: \u043f\u0435\u0440\u043c\u0441\u043a\n",
        "\u043a\u0430\u0440\u043e\u0447\u0430 was not found in lookup under admin1: \u043a\u0443\u0440\u0441\u043a\n",
        "\u043a\u0430\u0441\u0438\u043c\u043e\u0432 was not found in lookup under admin1: \u0440\u044f\u0437\u0430\u043d\u0441\u043a\n",
        "\u043a\u0430\u0448\u0438\u043d was not found in lookup under admin1: \u0442\u0432\u0435\u0440\u0441\u043a\n",
        "\u043a\u0438\u043d\u0435\u0448\u043c\u0430 was not found in lookup under admin1: \u043a\u043e\u0441\u0442\u0440\u043e\u043c\u0430\n",
        "\u043a\u0438\u0440\u0438\u043b\u043e\u0432 was not found in lookup under admin1: \u043d\u043e\u0432\u0433\u043e\u0440\u043e\u0434\u0441\u043a\n",
        "\u043a\u0438\u0440\u0441\u0430\u043d\u043e\u0432 was not found in lookup under admin1: \u0442\u0430\u043c\u0431\u043e\u0432\u0441\u043a\n",
        "\u043a\u043b\u0438\u043d was not found in lookup under admin1: \u043c\u043e\u0441\u043a\u043e\u0432\u0441\u043a\n",
        "\u043a\u043d\u044f\u0433\u0438\u043d\u0438\u043d was not found in lookup under admin1: \u043d\u0438\u0436\u0435\u0433\u043e\u0440\u043e\u0434\u0441\u043a\n",
        "\u043a\u043e\u0432\u0440\u043e\u0432 was not found in lookup under admin1: \u0432\u043b\u0430\u0434\u0438\u043c\u0435\u0440\u0441\u043a\n",
        "\u043a\u043e\u0437\u0435\u043b\u0435\u0446 was not found in lookup under admin1: \u043a\u0438\u0435\u0432\u0441\u043a\n",
        "\u043a\u043e\u043b\u043e\u043c\u043d\u0430 was not found in lookup under admin1: \u043c\u043e\u0441\u043a\u043e\u0432\u0441\u043a\n",
        "\u043a\u043e\u043d\u043e\u0442\u043e\u043f was not found in lookup under admin1: \u043d\u043e\u0432\u043e\u0433\u043e\u0440\u043e\u0434 - \u0441\u0435\u0432\u0435\u0440\u0441\u043a\n",
        "\u043a\u043e\u0440\u043e\u043f was not found in lookup under admin1: \u043d\u043e\u0432\u043e\u0433\u043e\u0440\u043e\u0434 - \u0441\u0435\u0432\u0435\u0440\u0441\u043a\n",
        "\u043a\u043e\u0440\u043e\u0442\u043e\u044f\u043a was not found in lookup under admin1: \u0432\u043e\u0440\u043e\u043d\u0435\u0436\u0441\u043a\n",
        "\u043a\u043e\u0440\u0441\u0443\u043d\u044c was not found in lookup under admin1: \u0441\u0438\u043d\u0431\u0438\u0440\u0441\u043a\n",
        "\u043a\u043e\u0442\u0435\u043b\u044c\u043d\u0438\u0447\u044c was not found in lookup under admin1: \u0432\u044f\u0442\u0441\u043a\n",
        "\u043a\u043e\u0448\u0438\u0440\u0430 was not found in lookup under admin1: \u0442\u0443\u043b\u044c\u0441\u043a\n",
        "\u043a\u0440\u0430\u043f\u0438\u0432\u043d\u0430 was not found in lookup under admin1: \u0442\u0443\u043b\u044c\u0441\u043a\n",
        "\u043a\u0440\u0430\u0441\u043d\u043e\u0431\u043e\u0440\u0441\u043a was not found in lookup under admin1: \u0432\u043e\u043b\u043e\u0433\u043e\u0434\u0441\u043a\n",
        "\u043a\u0440\u0430\u0441\u043d\u043e\u043a\u0443\u0442\u0441\u043a was not found in lookup under admin1: \u0445\u0430\u0440\u044c\u043a\u043e\u0432\u0441\u043a\n",
        "\u043a\u0440\u0435\u043c\u0435\u043d\u0447\u0443\u0433 was not found in lookup under admin1: \u0435\u043a\u0430\u0442\u0435\u0440\u0438\u043d\u043e\u0441\u043b\u0430\u0432\u0441\u043a\n",
        "\u043a\u0440\u0435\u0441\u0442\u0446\u044b was not found in lookup under admin1: \u043d\u043e\u0432\u0433\u043e\u0440\u043e\u0434\u0441\u043a\n",
        "\u043a\u0440\u043e\u043b\u0435\u0432\u0435\u0446 was not found in lookup under admin1: \u043d\u043e\u0432\u043e\u0433\u043e\u0440\u043e\u0434 - \u0441\u0435\u0432\u0435\u0440\u0441\u043a\n",
        "\u043a\u0440\u043e\u043c\u044b was not found in lookup under admin1: \u043e\u0440\u043b\u043e\u0432\u0441\u043a\n",
        "\u043a\u0443\u0437\u043d\u0435\u0446\u043a was not found in lookup under admin1: \u0441\u0430\u0440\u0430\u0442\u043e\u0432\u0441\u043a\n",
        "\u043a\u0443\u043d\u0433\u0443\u0440 was not found in lookup under admin1: \u043f\u0435\u0440\u043c\u0441\u043a\n",
        "\u043b\u0430\u0434\u043e\u0433\u0430 \u043d\u043e\u0432\u0430\u044f was not found in lookup under admin1: \u0441 \u043f\u0435\u0442\u0435\u0440\u0431\u0443\u0440\u0433\u0441\u043a\n",
        "\u043b\u0430\u0438\u0448\u0435\u0432 was not found in lookup under admin1: \u043a\u0430\u0437\u0430\u043d\u0441\u043a\n",
        "\u043b\u0430\u043b\u044c\u0441\u043a was not found in lookup under admin1: \u0432\u043e\u043b\u043e\u0433\u043e\u0434\u0441\u043a\n",
        "\u043b\u0435\u0431\u0435\u0434\u044f\u043d\u044c was not found in lookup under admin1: \u0442\u0430\u043c\u0431\u043e\u0432\u0441\u043a\n",
        "\u043b\u0438\u0432\u043d\u044b was not found in lookup under admin1: \u043e\u0440\u043b\u043e\u0432\u0441\u043a\n",
        "\u043b\u0438\u043f\u0435\u0446\u043a was not found in lookup under admin1: \u0442\u0430\u043c\u0431\u043e\u0432\u0441\u043a\n",
        "\u043b\u0438\u0445\u0432\u0438\u043d was not found in lookup under admin1: \u043a\u0430\u043b\u0443\u0436\u0441\u043a\n",
        "\u043b\u043e\u0445\u0432\u0438\u0446\u0430 was not found in lookup under admin1: \u0447\u0435\u0440\u043d\u0438\u0433\u043e\u0432\u0441\u043a\n",
        "\u043b\u0443\u0431\u043d\u044b was not found in lookup under admin1: \u043a\u0438\u0435\u0432\u0441\u043a\n",
        "\u043b\u0443\u043a\u043e\u044f\u043d\u043e\u0432 was not found in lookup under admin1: \u043d\u0438\u0436\u0435\u0433\u043e\u0440\u043e\u0434\u0441\u043a\n",
        "\u043b\u0443\u0445 was not found in lookup under admin1: \u043a\u043e\u0441\u0442\u0440\u043e\u043c\u0430\n",
        "\u043b\u044c\u0433\u043e\u0432 was not found in lookup under admin1: \u043a\u0443\u0440\u0441\u043a\n",
        "\u043b\u044e\u0431\u0438\u043c was not found in lookup under admin1: \u044f\u0440\u043e\u0441\u043b\u0430\u0432\u0441\u043a\n",
        "\u043c\u0430\u043a\u0430\u0440\u044c\u0435\u0432 was not found in lookup under admin1: \u043d\u0438\u0436\u0435\u0433\u043e\u0440\u043e\u0434\u0441\u043a\n",
        "\u043c\u0430\u043a\u0430\u0440\u044c\u0435\u0432 was not found in lookup under admin1: \u043a\u043e\u0441\u0442\u0440\u043e\u043c\u0430\n",
        "\u043c\u0430\u043b\u043e\u0439 \u0430\u0440\u0445\u0430\u043d\u0433\u0435\u043b\u044c\u0441\u043a was not found in lookup under admin1: \u043e\u0440\u043b\u043e\u0432\u0441\u043a\n",
        "\u043c\u0430\u043b\u043e\u0439 \u044f\u0440\u043e\u0441\u043b\u0430\u0432\u0435\u0446 was not found in lookup under admin1: \u043a\u0430\u043b\u0443\u0436\u0441\u043a\n",
        "\u043c\u0430\u043d\u0433\u0430\u0437\u0435\u044f was not found in lookup under admin1: \u0442\u043e\u0431\u043e\u043b\u044c\u0441\u043a\n",
        "\u043c\u0433\u043b\u0438\u043d was not found in lookup under admin1: \u043d\u043e\u0432\u043e\u0433\u043e\u0440\u043e\u0434 - \u0441\u0435\u0432\u0435\u0440\u0441\u043a\n",
        "\u043c\u0435\u0434\u044b\u043d\u044c was not found in lookup under admin1: \u043a\u0430\u043b\u0443\u0436\u0441\u043a\n",
        "\u043c\u0435\u0449\u043e\u0432\u0441\u043a was not found in lookup under admin1: \u043a\u0430\u043b\u0443\u0436\u0441\u043a\n",
        "\u043c\u0438\u0440\u0433\u043e\u0440\u043e\u0434 was not found in lookup under admin1: \u043a\u0438\u0435\u0432\u0441\u043a\n",
        "\u043c\u0438\u0440\u043e\u043f\u043e\u043b\u044c\u0435 was not found in lookup under admin1: \u0445\u0430\u0440\u044c\u043a\u043e\u0432\u0441\u043a\n",
        "\u043c\u0438\u0445\u0430\u0439\u043b\u043e\u0432 was not found in lookup under admin1: \u0440\u044f\u0437\u0430\u043d\u0441\u043a\n",
        "\u043c\u043e\u043b\u043e\u0433\u0430 was not found in lookup under admin1: \u044f\u0440\u043e\u0441\u043b\u0430\u0432\u0441\u043a\n",
        "\u043c\u043e\u0440\u0448\u0430\u043d\u0441\u043a was not found in lookup under admin1: \u0442\u0430\u043c\u0431\u043e\u0432\u0441\u043a\n",
        "\u043c\u043e\u0441\u0430\u043b\u044c\u0441\u043a was not found in lookup under admin1: \u043a\u0430\u043b\u0443\u0436\u0441\u043a\n",
        "\u043c\u0441\u0442\u0438\u0441\u043b\u0430\u0432\u043b\u044c was not found in lookup under admin1: \u043c\u043e\u0433\u0438\u043b\u0435\u0432\u0441\u043a\n",
        "\u043c\u0443\u0440\u043e\u043c was not found in lookup under admin1: \u0432\u043b\u0430\u0434\u0438\u043c\u0435\u0440\u0441\u043a\n",
        "\u043c\u0446\u0435\u043d\u0441\u043a was not found in lookup under admin1: \u043e\u0440\u043b\u043e\u0432\u0441\u043a\n",
        "\u043c\u044b\u0448\u043a\u0438\u043d was not found in lookup under admin1: \u044f\u0440\u043e\u0441\u043b\u0430\u0432\u0441\u043a\n",
        "\u043d\u0430\u0440\u0432\u0430 was not found in lookup under admin1: \u0441 \u043f\u0435\u0442\u0435\u0440\u0431\u0443\u0440\u0433\u0441\u043a\n",
        "\u043d\u0430\u0440\u043e\u0432\u0447\u0430\u0442 was not found in lookup under admin1: \u043f\u0435\u043d\u0437\u0435\u043d\u0441\u043a\n",
        "\u043d\u0435\u0432\u0435\u043b\u044c was not found in lookup under admin1: \u043f\u043e\u043b\u043e\u0442\u0441\u043a\n",
        "\u043d\u0435\u0434\u0440\u0438\u0433\u0430\u0439\u043b\u043e\u0432 was not found in lookup under admin1: \u0445\u0430\u0440\u044c\u043a\u043e\u0432\u0441\u043a\n",
        "\u043d\u0435\u0439\u0448\u043b\u043e\u0442 was not found in lookup under admin1: \u0432\u044b\u0431\u043e\u0440\u0433\n",
        "\u043d\u0435\u0440\u0435\u0445\u0442\u0430 was not found in lookup under admin1: \u043a\u043e\u0441\u0442\u0440\u043e\u043c\u0430\n",
        "\u043d\u043e\u0432\u043e\u0439 \u043c\u0438\u0440\u0433\u043e\u0440\u043e\u0434 was not found in lookup under admin1: \u0435\u043a\u0430\u0442\u0435\u0440\u0438\u043d\u043e\u0441\u043b\u0430\u0432\u0441\u043a\n",
        "\u043d\u043e\u0432\u043e\u0439 \u043e\u0441\u043a\u043e\u043b was not found in lookup under admin1: \u043a\u0443\u0440\u0441\u043a\n",
        "\u043d\u043e\u0432\u043e\u0441\u0438\u043b\u044c was not found in lookup under admin1: \u0442\u0443\u043b\u044c\u0441\u043a\n",
        "\u043e\u0431\u043e\u044f\u043d\u044c was not found in lookup under admin1: \u043a\u0443\u0440\u0441\u043a\n",
        "\u043e\u0434\u043e\u0435\u0432 was not found in lookup under admin1: \u0442\u0443\u043b\u044c\u0441\u043a\n",
        "\u043e\u043b\u0435\u043a\u043c\u0438\u043d\u0441\u043a was not found in lookup under admin1: \u0438\u0440\u043a\u0443\u0442\u0441\u043a\n",
        "\u043e\u043f\u043e\u0447\u043a\u0430 was not found in lookup under admin1: \u043f\u0441\u043a\u043e\u0432\u0441\u043a\n",
        "\u043e\u0440\u0435\u043d\u0431\u0443\u0440\u0433 was not found in lookup under admin1: \u0443\u0444\u0438\u043c\u0441\u043a\n",
        "\u043e\u0441\u0442\u0430\u0448\u043a\u043e\u0432 was not found in lookup under admin1: \u0442\u0432\u0435\u0440\u0441\u043a\n",
        "\u043e\u0441\u0442\u0435\u0440 was not found in lookup under admin1: \u043a\u0438\u0435\u0432\u0441\u043a\n",
        "\u043e\u0441\u0442\u0440\u043e\u0433\u043e\u0436\u0441\u043a was not found in lookup under admin1: \u0432\u043e\u0440\u043e\u043d\u0435\u0436\u0441\u043a\n",
        "\u043f\u0430\u0432\u043b\u043e\u0433\u0440\u0430\u0434 was not found in lookup under admin1: \u0435\u043a\u0430\u0442\u0435\u0440\u0438\u043d\u043e\u0441\u043b\u0430\u0432\u0441\u043a\n",
        "\u043f\u0435\u0440\u0435\u043c\u044b\u0448\u043b\u044c was not found in lookup under admin1: \u043a\u0430\u043b\u0443\u0436\u0441\u043a\n",
        "\u043f\u0435\u0440\u0435\u0441\u043b\u0430\u0432\u043b\u044c \u0437\u0430\u043b\u0435\u0441\u043a\u043e\u0439 was not found in lookup under admin1: \u0432\u043b\u0430\u0434\u0438\u043c\u0435\u0440\u0441\u043a\n",
        "\u043f\u0435\u0440\u0435\u044f\u0441\u043b\u0430\u0432\u043b\u044c was not found in lookup under admin1: \u043a\u0438\u0435\u0432\u0441\u043a\n",
        "\u043f\u0435\u0440\u043d\u043e\u0432 was not found in lookup under admin1: \u0440\u0438\u0436\u0441\u043a\n",
        "\u043f\u0438\u0440\u044f\u0442\u0438\u043d was not found in lookup under admin1: \u043a\u0438\u0435\u0432\u0441\u043a\n",
        "\u043f\u043b\u0435\u0441 was not found in lookup under admin1: \u043a\u043e\u0441\u0442\u0440\u043e\u043c\u0430\n",
        "\u043f\u043e\u0433\u0430\u0440\u044c was not found in lookup under admin1: \u043d\u043e\u0432\u043e\u0433\u043e\u0440\u043e\u0434 - \u0441\u0435\u0432\u0435\u0440\u0441\u043a\n",
        "\u043f\u043e\u0434\u043e\u043b was not found in lookup under admin1: \u043c\u043e\u0441\u043a\u043e\u0432\u0441\u043a\n",
        "\u043f\u043e\u043b\u0442\u0430\u0432\u0430 was not found in lookup under admin1: \u0435\u043a\u0430\u0442\u0435\u0440\u0438\u043d\u043e\u0441\u043b\u0430\u0432\u0441\u043a\n",
        "\u043f\u043e\u0440\u0435\u0447\u044c\u0435 was not found in lookup under admin1: \u0441\u043c\u043e\u043b\u0435\u043d\u0441\u043a\n",
        "\u043f\u043e\u0447\u0438\u043d\u043a\u0438 was not found in lookup under admin1: \u043d\u0438\u0436\u0435\u0433\u043e\u0440\u043e\u0434\u0441\u043a\n",
        "\u043f\u043e\u0448\u0435\u0445\u043e\u043d\u044c was not found in lookup under admin1: \u044f\u0440\u043e\u0441\u043b\u0430\u0432\u0441\u043a\n",
        "\u043f\u0440\u0438\u043b\u0443\u043a\u0438 was not found in lookup under admin1: \u0447\u0435\u0440\u043d\u0438\u0433\u043e\u0432\u0441\u043a\n",
        "\u043f\u0440\u043e\u043d\u0441\u043a was not found in lookup under admin1: \u0440\u044f\u0437\u0430\u043d\u0441\u043a\n",
        "\u043f\u0443\u0434\u043e\u0433\u0430 was not found in lookup under admin1: \u043e\u043b\u043e\u043d\u0435\u0446\u043a\n",
        "\u043f\u0443\u0442\u0438\u0432\u043b\u044c was not found in lookup under admin1: \u043a\u0443\u0440\u0441\u043a\n",
        "\u0440\u0436\u0435\u0432 \u0432\u043e\u043b\u043e\u0434\u0438\u043c\u0435\u0440\u043e\u0432 was not found in lookup under admin1: \u0442\u0432\u0435\u0440\u0441\u043a\n",
        "\u0440\u043e\u043c\u0430\u043d\u043e\u0432 was not found in lookup under admin1: \u044f\u0440\u043e\u0441\u043b\u0430\u0432\u0441\u043a\n",
        "\u0440\u043e\u043c\u0435\u043d was not found in lookup under admin1: \u0447\u0435\u0440\u043d\u0438\u0433\u043e\u0432\u0441\u043a\n",
        "\u0440\u043e\u0441\u0442\u043e\u0432 was not found in lookup under admin1: \u044f\u0440\u043e\u0441\u043b\u0430\u0432\u0441\u043a\n",
        "\u0440\u0443\u0437\u0430 was not found in lookup under admin1: \u043c\u043e\u0441\u043a\u043e\u0432\u0441\u043a\n",
        "\u0440\u044b\u0431\u0438\u043d\u0441\u043a was not found in lookup under admin1: \u044f\u0440\u043e\u0441\u043b\u0430\u0432\u0441\u043a\n",
        "\u0440\u044b\u043b\u044c\u0441\u043a was not found in lookup under admin1: \u043a\u0443\u0440\u0441\u043a\n",
        "\u0440\u0435\u0437\u044b\u0446\u044b was not found in lookup under admin1: \u043f\u043e\u043b\u043e\u0442\u0441\u043a\n",
        "\u0440\u044f\u0436\u0441\u043a was not found in lookup under admin1: \u0440\u044f\u0437\u0430\u043d\u0441\u043a\n",
        "\u0441\u0430\u043c\u0430\u0440\u0430 was not found in lookup under admin1: \u0441\u0438\u043d\u0431\u0438\u0440\u0441\u043a\n",
        "\u0441\u0430\u043f\u043e\u0436\u043e\u043a was not found in lookup under admin1: \u0440\u044f\u0437\u0430\u043d\u0441\u043a\n",
        "\u0441\u0435\u0431\u0435\u0436 was not found in lookup under admin1: \u043f\u043e\u043b\u043e\u0442\u0441\u043a\n",
        "\u0441\u0435\u043c\u0435\u043d\u043e\u0432 was not found in lookup under admin1: \u043d\u0438\u0436\u0435\u0433\u043e\u0440\u043e\u0434\u0441\u043a\n",
        "\u0441\u0435\u0440\u0433\u0430\u0447\u044c was not found in lookup under admin1: \u043d\u0438\u0436\u0435\u0433\u043e\u0440\u043e\u0434\u0441\u043a\n",
        "\u0441\u0435\u0440\u0434\u043e\u0431\u043e\u043b\u044c was not found in lookup under admin1: \u0432\u044b\u0431\u043e\u0440\u0433\n",
        "\u0441\u0435\u0440\u0434\u043e\u0431\u0441\u043a was not found in lookup under admin1: \u0441\u0430\u0440\u0430\u0442\u043e\u0432\u0441\u043a\n",
        "\u0441\u0435\u0440\u043f\u0435\u0439\u0441\u043a was not found in lookup under admin1: \u043a\u0430\u043b\u0443\u0436\u0441\u043a\n",
        "\u0441\u0435\u0440\u043f\u0443\u0445\u043e\u0432 was not found in lookup under admin1: \u043c\u043e\u0441\u043a\u043e\u0432\u0441\u043a\n",
        "\u0441\u043a\u043e\u043f\u0438\u043d was not found in lookup under admin1: \u0440\u044f\u0437\u0430\u043d\u0441\u043a\n",
        "\u0441\u043b\u043e\u0431\u043e\u0434\u0441\u043a\u043e\u0439 was not found in lookup under admin1: \u0432\u044f\u0442\u0441\u043a\n",
        "\u0441\u043e\u043b\u044c-\u0432\u044b\u0447\u0435\u0433\u043e\u0434\u0441\u043a was not found in lookup under admin1: \u0432\u043e\u043b\u043e\u0433\u043e\u0434\u0441\u043a\n",
        "\u0441\u043e\u043b\u044c-\u0433\u0430\u043b\u0438\u0446\u043a\u0430\u044f was not found in lookup under admin1: \u043a\u043e\u0441\u0442\u0440\u043e\u043c\u0430\n",
        "\u0441\u043e\u0441\u043d\u0438\u0446\u0430 was not found in lookup under admin1: \u043d\u043e\u0432\u043e\u0433\u043e\u0440\u043e\u0434 - \u0441\u0435\u0432\u0435\u0440\u0441\u043a\n",
        "\u0441\u043f\u0430\u0441\u043a was not found in lookup under admin1: \u0442\u0430\u043c\u0431\u043e\u0432\u0441\u043a\n",
        "\u0441\u0442\u0430\u0432\u0440\u043e\u043f\u043e\u043b\u044c was not found in lookup under admin1: \u0441\u0438\u043d\u0431\u0438\u0440\u0441\u043a\n",
        "\u0441\u0442\u0430\u0440\u0430\u044f \u0440\u0443\u0437\u0430 was not found in lookup under admin1: \u043d\u043e\u0432\u0433\u043e\u0440\u043e\u0434\u0441\u043a\n",
        "\u0441\u0442\u0430\u0440\u0438\u0446\u0430 was not found in lookup under admin1: \u0442\u0432\u0435\u0440\u0441\u043a\n",
        "\u0441\u0442\u0430\u0440\u043e\u0434\u0443\u0431 was not found in lookup under admin1: \u043d\u043e\u0432\u043e\u0433\u043e\u0440\u043e\u0434 - \u0441\u0435\u0432\u0435\u0440\u0441\u043a\n",
        "\u0441\u0442\u0430\u0440\u043e\u0439 \u0431\u044b\u0445\u043e\u0432 was not found in lookup under admin1: \u043c\u043e\u0433\u0438\u043b\u0435\u0432\u0441\u043a\n",
        "\u0441\u0442\u0430\u0440\u043e\u0439 \u043e\u0441\u043a\u043e\u043b was not found in lookup under admin1: \u043a\u0443\u0440\u0441\u043a\n",
        "\u0441\u0443\u0434\u0436\u0430 was not found in lookup under admin1: \u043a\u0443\u0440\u0441\u043a\n",
        "\u0441\u0443\u0437\u0434\u0430\u043b\u044c was not found in lookup under admin1: \u0432\u043b\u0430\u0434\u0438\u043c\u0435\u0440\u0441\u043a\n",
        "\u0441\u0443\u043c\u044b was not found in lookup under admin1: \u0445\u0430\u0440\u044c\u043a\u043e\u0432\u0441\u043a\n",
        "\u0441\u044b\u0437\u0440\u0430\u043d\u044c was not found in lookup under admin1: \u0441\u0438\u043d\u0431\u0438\u0440\u0441\u043a\n",
        "\u0441\u0435\u0432\u0441\u043a was not found in lookup under admin1: \u043e\u0440\u043b\u043e\u0432\u0441\u043a\n",
        "\u0442\u0430\u0440\u0443\u0441\u0430 was not found in lookup under admin1: \u043a\u0430\u043b\u0443\u0436\u0441\u043a\n",
        "\u0442\u0435\u043c\u043d\u0438\u043a\u043e\u0432 was not found in lookup under admin1: \u0442\u0430\u043c\u0431\u043e\u0432\u0441\u043a\n",
        "\u0442\u0438\u043c was not found in lookup under admin1: \u043a\u0443\u0440\u0441\u043a\n",
        "\u0442\u0438\u0445\u0432\u0438\u043d was not found in lookup under admin1: \u043d\u043e\u0432\u0433\u043e\u0440\u043e\u0434\u0441\u043a\n",
        "\u0442\u043e\u0440\u0436\u043e\u043a was not found in lookup under admin1: \u0442\u0432\u0435\u0440\u0441\u043a\n",
        "\u0442\u043e\u0440\u043e\u043f\u0435\u0446 was not found in lookup under admin1: \u043f\u0441\u043a\u043e\u0432\u0441\u043a\n",
        "\u0442\u0440\u043e\u0438\u0446\u043a was not found in lookup under admin1: \u043f\u0435\u043d\u0437\u0435\u043d\u0441\u043a\n",
        "\u0442\u0440\u0443\u0431\u0447\u0435\u0432\u0441\u043a was not found in lookup under admin1: \u043e\u0440\u043b\u043e\u0432\u0441\u043a\n",
        "\u0442\u0443\u043b\u0430 was not found in lookup under admin1: \u0442\u0443\u043b\u044c\u0441\u043a\n",
        "\u0442\u0443\u0440\u0438\u043d\u0441\u043a was not found in lookup under admin1: \u0442\u043e\u0431\u043e\u043b\u044c\u0441\u043a\n",
        "\u0443\u0433\u043b\u0438\u0447 was not found in lookup under admin1: \u044f\u0440\u043e\u0441\u043b\u0430\u0432\u0441\u043a\n",
        "\u0443\u0441\u043c\u0430\u043d\u044c was not found in lookup under admin1: \u0442\u0430\u043c\u0431\u043e\u0432\u0441\u043a\n",
        "\u0443\u0441\u0442\u044c-\u0441\u044b\u0441\u043e\u043b\u044c\u0441\u043a was not found in lookup under admin1: \u0432\u043e\u043b\u043e\u0433\u043e\u0434\u0441\u043a\n",
        "\u0443\u0441\u0442\u044e\u0433 \u0432\u0435\u043b\u0438\u043a\u0438\u0439 was not found in lookup under admin1: \u0432\u043e\u043b\u043e\u0433\u043e\u0434\u0441\u043a\n",
        "\u0443\u0441\u0442\u044e\u0436\u043d\u0430 \u0436\u0435\u043b\u0435\u0437\u043e\u043f\u043e\u043b\u044c\u0441\u043a\u0430\u044f was not found in lookup under admin1: \u043d\u043e\u0432\u0433\u043e\u0440\u043e\u0434\u0441\u043a\n",
        "\u0444\u0430\u0442\u0435\u0436 was not found in lookup under admin1: \u043a\u0443\u0440\u0441\u043a\n",
        "\u0444\u0435\u043b\u043b\u0438\u043d was not found in lookup under admin1: \u0440\u0438\u0436\u0441\u043a\n",
        "\u0444\u0440\u0438\u0434\u0440\u0438\u0445\u0441\u0433\u0430\u043c was not found in lookup under admin1: \u0432\u044b\u0431\u043e\u0440\u0433\n",
        "\u0445\u0432\u0430\u043b\u044b\u043d\u0441\u043a was not found in lookup under admin1: \u0441\u0430\u0440\u0430\u0442\u043e\u0432\u0441\u043a\n",
        "\u0445\u0435\u0440\u0441\u043e\u043d was not found in lookup under admin1: \u0435\u043a\u0430\u0442\u0435\u0440\u0438\u043d\u043e\u0441\u043b\u0430\u0432\u0441\u043a\n",
        "\u0445\u043e\u043f\u0435\u0440\u0441\u043a was not found in lookup under admin1: \u0441\u0430\u0440\u0430\u0442\u043e\u0432\u0441\u043a\n",
        "\u0445\u043e\u0440\u043e\u043b was not found in lookup under admin1: \u043a\u0438\u0435\u0432\u0441\u043a\n",
        "\u0445\u043e\u0442\u044c\u043c\u044b\u0448\u0441\u043a was not found in lookup under admin1: \u0445\u0430\u0440\u044c\u043a\u043e\u0432\u0441\u043a\n",
        "\u0446\u044b\u0432\u0438\u043b\u044c\u0441\u043a was not found in lookup under admin1: \u043a\u0430\u0437\u0430\u043d\u0441\u043a\n",
        "\u0447\u0430\u0443\u0441\u044b was not found in lookup under admin1: \u043c\u043e\u0433\u0438\u043b\u0435\u0432\u0441\u043a\n",
        "\u0447\u0435\u043d\u0431\u0430\u0440 was not found in lookup under admin1: \u043f\u0435\u043d\u0437\u0435\u043d\u0441\u043a\n",
        "\u0447\u0435\u0440\u0434\u044b\u043d\u044c was not found in lookup under admin1: \u043f\u0435\u0440\u043c\u0441\u043a\n",
        "\u0447\u0435\u0440\u0435\u043f\u043e\u0432\u0435\u0446 was not found in lookup under admin1: \u043d\u043e\u0432\u0433\u043e\u0440\u043e\u0434\u0441\u043a\n",
        "\u0447\u0435\u0440\u0438\u043a\u043e\u0432 was not found in lookup under admin1: \u043c\u043e\u0433\u0438\u043b\u0435\u0432\u0441\u043a\n",
        "\u0447\u0435\u0440\u043d\u044c was not found in lookup under admin1: \u0442\u0443\u043b\u044c\u0441\u043a\n",
        "\u0447\u0443\u0433\u0443\u0435\u0432 was not found in lookup under admin1: \u0445\u0430\u0440\u044c\u043a\u043e\u0432\u0441\u043a\n",
        "\u0447\u0443\u0445\u043b\u043e\u043c\u0430 was not found in lookup under admin1: \u043a\u043e\u0441\u0442\u0440\u043e\u043c\u0430\n",
        "\u0448\u0430\u0434\u0440\u0438\u043d\u0441\u043a was not found in lookup under admin1: \u043f\u0435\u0440\u043c\u0441\u043a\n",
        "\u0448\u0435\u0448\u043a\u0435\u0435\u0432 was not found in lookup under admin1: \u043f\u0435\u043d\u0437\u0435\u043d\u0441\u043a\n",
        "\u0448\u0443\u044f was not found in lookup under admin1: \u0432\u043b\u0430\u0434\u0438\u043c\u0435\u0440\u0441\u043a\n",
        "\u0449\u0438\u0433\u0440\u044b was not found in lookup under admin1: \u043a\u0443\u0440\u0441\u043a\n",
        "\u044e\u0440\u044c\u0435\u0432 \u043f\u043e\u043b\u044c\u0441\u043a\u0438\u0439 was not found in lookup under admin1: \u0432\u043b\u0430\u0434\u0438\u043c\u0435\u0440\u0441\u043a\n",
        "\u044e\u0440\u044c\u0435\u0432\u0435\u0446 \u043f\u043e\u0432\u043e\u043b\u0433\u0441\u043a\u0438\u0439 was not found in lookup under admin1: \u043a\u043e\u0441\u0442\u0440\u043e\u043c\u0430\n",
        "\u044f\u0434\u0440\u0438\u043d was not found in lookup under admin1: \u043a\u0430\u0437\u0430\u043d\u0441\u043a\n",
        "\u044f\u043a\u0443\u0442\u0441\u043a was not found in lookup under admin1: \u0438\u0440\u043a\u0443\u0442\u0441\u043a\n",
        "\u044f\u0440\u0430\u043d\u0441\u043a was not found in lookup under admin1: \u0432\u044f\u0442\u0441\u043a\n"
       ]
      },
      {
       "ename": "ValueError",
       "evalue": "invalid literal for int() with base 10: 'error_not_found'",
       "output_type": "pyerr",
       "traceback": [
        "\u001b[1;31m---------------------------------------------------------------------------\u001b[0m\n\u001b[1;31mValueError\u001b[0m                                Traceback (most recent call last)",
        "\u001b[1;32m<ipython-input-45-bd6b215a91c2>\u001b[0m in \u001b[0;36m<module>\u001b[1;34m()\u001b[0m\n\u001b[1;32m----> 1\u001b[1;33m \u001b[0mmarket_df\u001b[0m\u001b[1;33m[\u001b[0m\u001b[1;34m'admin1_partofID'\u001b[0m\u001b[1;33m]\u001b[0m\u001b[1;33m,\u001b[0m \u001b[0mmarket_df\u001b[0m\u001b[1;33m[\u001b[0m\u001b[1;34m'admin2_partofID'\u001b[0m\u001b[1;33m]\u001b[0m \u001b[1;33m=\u001b[0m \u001b[0mnp\u001b[0m\u001b[1;33m.\u001b[0m\u001b[0mvectorize\u001b[0m\u001b[1;33m(\u001b[0m\u001b[0mpartof_prov_lookup\u001b[0m\u001b[1;33m)\u001b[0m\u001b[1;33m(\u001b[0m\u001b[0mmarket_df\u001b[0m\u001b[1;33m.\u001b[0m\u001b[0mprov_stem\u001b[0m\u001b[1;33m,\u001b[0m\u001b[0mmarket_df\u001b[0m\u001b[1;33m.\u001b[0m\u001b[0muezd_stem\u001b[0m\u001b[1;33m,\u001b[0m\u001b[0mnew_lookup\u001b[0m\u001b[1;33m)\u001b[0m\u001b[1;33m\u001b[0m\u001b[0m\n\u001b[0m",
        "\u001b[1;32m/home/jeremy/anaconda3/lib/python3.4/site-packages/numpy/lib/function_base.py\u001b[0m in \u001b[0;36m__call__\u001b[1;34m(self, *args, **kwargs)\u001b[0m\n\u001b[0;32m   1571\u001b[0m             \u001b[0mvargs\u001b[0m\u001b[1;33m.\u001b[0m\u001b[0mextend\u001b[0m\u001b[1;33m(\u001b[0m\u001b[1;33m[\u001b[0m\u001b[0mkwargs\u001b[0m\u001b[1;33m[\u001b[0m\u001b[0m_n\u001b[0m\u001b[1;33m]\u001b[0m \u001b[1;32mfor\u001b[0m \u001b[0m_n\u001b[0m \u001b[1;32min\u001b[0m \u001b[0mnames\u001b[0m\u001b[1;33m]\u001b[0m\u001b[1;33m)\u001b[0m\u001b[1;33m\u001b[0m\u001b[0m\n\u001b[0;32m   1572\u001b[0m \u001b[1;33m\u001b[0m\u001b[0m\n\u001b[1;32m-> 1573\u001b[1;33m         \u001b[1;32mreturn\u001b[0m \u001b[0mself\u001b[0m\u001b[1;33m.\u001b[0m\u001b[0m_vectorize_call\u001b[0m\u001b[1;33m(\u001b[0m\u001b[0mfunc\u001b[0m\u001b[1;33m=\u001b[0m\u001b[0mfunc\u001b[0m\u001b[1;33m,\u001b[0m \u001b[0margs\u001b[0m\u001b[1;33m=\u001b[0m\u001b[0mvargs\u001b[0m\u001b[1;33m)\u001b[0m\u001b[1;33m\u001b[0m\u001b[0m\n\u001b[0m\u001b[0;32m   1574\u001b[0m \u001b[1;33m\u001b[0m\u001b[0m\n\u001b[0;32m   1575\u001b[0m     \u001b[1;32mdef\u001b[0m \u001b[0m_get_ufunc_and_otypes\u001b[0m\u001b[1;33m(\u001b[0m\u001b[0mself\u001b[0m\u001b[1;33m,\u001b[0m \u001b[0mfunc\u001b[0m\u001b[1;33m,\u001b[0m \u001b[0margs\u001b[0m\u001b[1;33m)\u001b[0m\u001b[1;33m:\u001b[0m\u001b[1;33m\u001b[0m\u001b[0m\n",
        "\u001b[1;32m/home/jeremy/anaconda3/lib/python3.4/site-packages/numpy/lib/function_base.py\u001b[0m in \u001b[0;36m_vectorize_call\u001b[1;34m(self, func, args)\u001b[0m\n\u001b[0;32m   1644\u001b[0m             \u001b[1;32melse\u001b[0m\u001b[1;33m:\u001b[0m\u001b[1;33m\u001b[0m\u001b[0m\n\u001b[0;32m   1645\u001b[0m                 _res = tuple([array(_x, copy=False, subok=True, dtype=_t)\n\u001b[1;32m-> 1646\u001b[1;33m                               for _x, _t in zip(outputs, otypes)])\n\u001b[0m\u001b[0;32m   1647\u001b[0m         \u001b[1;32mreturn\u001b[0m \u001b[0m_res\u001b[0m\u001b[1;33m\u001b[0m\u001b[0m\n\u001b[0;32m   1648\u001b[0m \u001b[1;33m\u001b[0m\u001b[0m\n",
        "\u001b[1;32m/home/jeremy/anaconda3/lib/python3.4/site-packages/numpy/lib/function_base.py\u001b[0m in \u001b[0;36m<listcomp>\u001b[1;34m(.0)\u001b[0m\n\u001b[0;32m   1644\u001b[0m             \u001b[1;32melse\u001b[0m\u001b[1;33m:\u001b[0m\u001b[1;33m\u001b[0m\u001b[0m\n\u001b[0;32m   1645\u001b[0m                 _res = tuple([array(_x, copy=False, subok=True, dtype=_t)\n\u001b[1;32m-> 1646\u001b[1;33m                               for _x, _t in zip(outputs, otypes)])\n\u001b[0m\u001b[0;32m   1647\u001b[0m         \u001b[1;32mreturn\u001b[0m \u001b[0m_res\u001b[0m\u001b[1;33m\u001b[0m\u001b[0m\n\u001b[0;32m   1648\u001b[0m \u001b[1;33m\u001b[0m\u001b[0m\n",
        "\u001b[1;31mValueError\u001b[0m: invalid literal for int() with base 10: 'error_not_found'"
       ]
      }
     ],
     "prompt_number": 45
    },
    {
     "cell_type": "code",
     "collapsed": false,
     "input": [
      "#market_df[market_df.ru_old_featuretype==\"\u0433\u043e\u0440\u043e\u0434\u044a\"].uezd_stem.unique()"
     ],
     "language": "python",
     "metadata": {},
     "outputs": [],
     "prompt_number": 492
    },
    {
     "cell_type": "code",
     "collapsed": false,
     "input": [
      "market_df.admin1_partofID = market_df.admin1_partofID.replace(0,np.nan)\n",
      "market_df.admin2_partofID = market_df.admin2_partofID.replace(0,np.nan)"
     ],
     "language": "python",
     "metadata": {},
     "outputs": [],
     "prompt_number": 462
    },
    {
     "cell_type": "code",
     "collapsed": false,
     "input": [
      "market_df['partof_id'] = np.nan"
     ],
     "language": "python",
     "metadata": {},
     "outputs": [],
     "prompt_number": 463
    },
    {
     "cell_type": "code",
     "collapsed": false,
     "input": [
      "market_df.ix[market_df.admin2_partofID.isnull()==False,'partof_id'] = market_df.admin2_partofID\n",
      "market_df.ix[market_df.admin2_partofID.isnull(),'partof_id'] = market_df.admin1_partofID"
     ],
     "language": "python",
     "metadata": {},
     "outputs": [],
     "prompt_number": 464
    },
    {
     "cell_type": "markdown",
     "metadata": {},
     "source": [
      "This cell is useful for making sure that things that don't have partof IDs really are the odd ducks that they seem like they should be, and not the result of an OCR error."
     ]
    },
    {
     "cell_type": "code",
     "collapsed": false,
     "input": [
      "#market_df[market_df.partof_id.isnull()][['ru_old_orth','description']]"
     ],
     "language": "python",
     "metadata": {},
     "outputs": [],
     "prompt_number": 465
    },
    {
     "cell_type": "code",
     "collapsed": false,
     "input": [
      "#handy ortho updater for figuring out what a description means. Update orthography, then throw it at google translate.\n",
      "txt = \"\u0412\u041e\u041b\u041e\u041a\u041e\u041f\u0418\u041d\u0415\u0416\u0421\u041a\u0410\u042f , \u0434\u0435\u0440\u0435\u0432\u043d\u044f \u0432\u044a \u0414\u0432\u0438\u043d\u0441\u043a\u043e\u0439 \u041f\u0440\u043e\u0432\u0438\u043d\u0446\u0456\u0438 \u0431\u043b\u0438\u0437\u044a \u0440\u0443\u0431\u0435\u0436\u0430 \u041a\u0435\u0432\u0440\u043e\u043b\u044c\u0441\u043a\u0430\u0433\u043e. \u0417\u0434\u0463\u0441\u044c \u0431\u044b\u0432\u0430\u0435\u0442\u044a \u0432\u044a \u0433\u043e\u0434\u0443 \u044f\u0440\u043c\u0430\u0440\u043a\u0430, \u0438\u043c\u0435\u043d\u0443\u0435\u043c\u0430\u044f \u0412\u043e\u043b\u043e\u043a\u043e\u043f\u0438\u043d\u0435\u0436\u0441\u043a\u0430\u044f, \u0432\u044a \u043f\u0435\u0440\u0432\u044b\u0445\u044a \u0447\u0438\u0441\u043b\u0430\u0445\u044a \u0414\u0435\u043a\u0430\u0431\u0440\u044f \u043c\u0463\u0441\u044f\u0446\u0430; \u0430 \u043f\u043e \u0442\u043e\u043c\u0443 \u0437\u043e\u0432\u0435\u0442\u0441\u044f \u0438 \u041d\u0438\u043a\u043e\u043b\u044c\u0441\u043a\u043e\u044e. \u041f\u043e \u0431\u043e\u043b\u044c\u0448\u0435\u0439 \u0447\u0430\u0441\u0442\u0438 \u043d\u0430 \u0441\u0456\u044e \u044f\u0440\u043c\u0430\u0440\u043a\u0443 \u043f\u0440\u0456\u0463\u0437\u0436\u0430\u044e\u0442\u044a \u0410\u0440\u0445\u0430\u043d\u0433\u0435\u043b\u044c\u0441\u043a\u0456\u0435 \u0438 \u0425\u043e\u043b\u043c\u043e\u0433\u043e\u0440\u0441\u043a\u0456\u0435 \u043a\u0443\u043f\u0446\u044b \u0441\u044a \u0442\u043e\u0432\u0430\u0440\u0430\u043c\u0438 \u043d\u0435 \u0432\u044b\u0441\u043e\u043a\u043e\u0439 \u0446\u0463\u043d\u044b \u0434\u043b\u044f \u043f\u0440\u043e\u0434\u0430\u0436\u0438 \u043a\u0440\u0435\u0441\u0442\u044c\u044f\u043d\u0430\u043c\u044a \u0438 \u0434\u043b\u044f \u043f\u043e\u043a\u0443\u043f\u043a\u0438 \u0443 \u043d\u0438\u0445\u044a \u0434\u0435\u0440\u0435\u0432\u0435\u043d\u0441\u043a\u0438\u0445\u044a \u0442\u043e\u0432\u0430\u0440\u043e\u0432\u044a , \u043d\u0430 \u0447\u0442\u043e \u043f\u0440\u0438\u0432\u043e\u0437\u044f\u0442\u044a \u0441\u044a \u0441\u043e\u0431\u043e\u044e \u0434\u0435\u043d\u044c\u0433\u0438.\"\n",
      "ortho_rules(txt,lookup_dict)"
     ],
     "language": "python",
     "metadata": {},
     "outputs": [
      {
       "metadata": {},
       "output_type": "pyout",
       "prompt_number": 466,
       "text": [
        "'\u0412\u041e\u041b\u041e\u041a\u041e\u041f\u0418\u041d\u0415\u0416\u0421\u041a\u0410\u042f ,  \u0434\u0435\u0440\u0435\u0432\u043d\u044f \u0432 \u0414\u0432\u0438\u043d\u0441\u043a\u043e\u0439 \u041f\u0440\u043e\u0432\u0438\u043d\u0446\u0438\u0438 \u0431\u043b\u0438\u0437 \u0440\u0443\u0431\u0435\u0436\u0430 \u041a\u0435\u0432\u0440\u043e\u043b\u044c\u0441\u043a\u043e\u0433\u043e \u0417\u0434\u0435\u0441\u044c \u0431\u044b\u0432\u0430\u0435\u0442 \u0432 \u0433\u043e\u0434\u0443 \u044f\u0440\u043c\u0430\u0440\u043a\u0430 \u0438\u043c\u0435\u043d\u0443\u0435\u043c\u0430\u044f \u0412\u043e\u043b\u043e\u043a\u043e\u043f\u0438\u043d\u0435\u0436\u0441\u043a\u0430\u044f \u0432 \u043f\u0435\u0440\u0432\u044b\u0445 \u0447\u0438\u0441\u043b\u0430\u0445 \u0414\u0435\u043a\u0430\u0431\u0440\u044f \u043c\u0435\u0441\u044f\u0446\u0430 \u0430 \u043f\u043e \u0442\u043e\u043c\u0443 \u0437\u043e\u0432\u0435\u0442\u0441\u044f \u0438 \u041d\u0438\u043a\u043e\u043b\u044c\u0441\u043a\u043e\u044e \u041f\u043e \u0431\u043e\u043b\u044c\u0448\u0435\u0439 \u0447\u0430\u0441\u0442\u0438 \u043d\u0430 \u0441\u0438\u044e \u044f\u0440\u043c\u0430\u0440\u043a\u0443 \u043f\u0440\u0438\u0435\u0437\u0436\u0430\u044e\u0442 \u0410\u0440\u0445\u0430\u043d\u0433\u0435\u043b\u044c\u0441\u043a\u0438\u0435 \u0438 \u0425\u043e\u043b\u043c\u043e\u0433\u043e\u0440\u0441\u043a\u0438\u0435 \u043a\u0443\u043f\u0446\u044b \u0441 \u0442\u043e\u0432\u0430\u0440\u0430\u043c\u0438 \u043d\u0435 \u0432\u044b\u0441\u043e\u043a\u043e\u0439 \u0446\u0435\u043d\u044b \u0434\u043b\u044f \u043f\u0440\u043e\u0434\u0430\u0436\u0438 \u043a\u0440\u0435\u0441\u0442\u044c\u044f\u043d\u0430\u043c \u0438 \u0434\u043b\u044f \u043f\u043e\u043a\u0443\u043f\u043a\u0438 \u0443 \u043d\u0438\u0445 \u0434\u0435\u0440\u0435\u0432\u0435\u043d\u0441\u043a\u0438\u0445 \u0442\u043e\u0432\u0430\u0440\u043e\u0432 ,  \u043d\u0430 \u0447\u0442\u043e \u043f\u0440\u0438\u0432\u043e\u0437\u044f\u0442 \u0441 \u0441\u043e\u0431\u043e\u044e \u0434\u0435\u043d\u044c\u0433\u0438'"
       ]
      }
     ],
     "prompt_number": 466
    },
    {
     "cell_type": "code",
     "collapsed": false,
     "input": [
      "market_df.ru_old_orth = market_df.ru_old_orth.str.title()\n",
      "market_df.ru_new_orth = market_df.ru_new_orth.str.title()\n",
      "market_df.alt_name_old_orth = market_df.alt_name_old_orth.str.title()"
     ],
     "language": "python",
     "metadata": {},
     "outputs": [],
     "prompt_number": 467
    },
    {
     "cell_type": "code",
     "collapsed": false,
     "input": [
      "market_df.to_excel(\"output/process/no_geo.xlsx\",encoding=\"utf-8\")\n",
      "market_df.to_csv(\"output/process/no_geo.csv\",encoding=\"utf-8\")"
     ],
     "language": "python",
     "metadata": {},
     "outputs": [],
     "prompt_number": 470
    },
    {
     "cell_type": "code",
     "collapsed": false,
     "input": [
      "market_df.loc[15]"
     ],
     "language": "python",
     "metadata": {},
     "outputs": [
      {
       "metadata": {},
       "output_type": "pyout",
       "prompt_number": 471,
       "text": [
        "ru_old_orth                                                                                                                                                                                                                                                                                                     \u0410\u043d\u0430\u0435\u0432\u043e\n",
        "alt_name_old_orth                                                                                                                                                                                                                                                                                                 None\n",
        "ru_old_featuretype                                                                                                                                                                                                                                                                                                \u0441\u0435\u043b\u043e\n",
        "ru_prov                                                                                                                                                                                                                                                                                     \u0422\u0430\u043c\u0431\u043e\u0432\u0441\u043a\u0430\u0433\u043e \u041d\u0430\u043c\u0463\u0441\u0442\u043d\u0438\u0447\u0435\u0441\u0442\u0432\u0430\n",
        "ru_uezd                                                                                                                                                                                                                                                                                                    not_in_text\n",
        "description                                                                                                   \u0410\u041d\u0410\u0415\u0412\u041e, \u0441\u0435\u043b\u043e \u0422\u0430\u043c\u0431\u043e\u0432\u0441\u043a\u0430\u0433\u043e \u041d\u0430\u043c\u0463\u0441\u0442\u043d\u0438\u0447\u0435\u0441\u0442\u0432\u0430 \u043e\u043a\u043e\u043b\u043e \u043f\u043e\u0441\u0430\u0434\u0430 \u041a\u0430\u0434\u043e\u043c\u0430; \u0437\u0434\u0463\u0441\u044c \u043e\u0434\u043d\u0430 \u0431\u044b\u0432\u0430\u0435\u0442\u044a \u044f\u0440\u043c\u0430\u0440\u043a\u0430 \u0432\u044a \u0433\u043e\u0434\u0443, \u043d\u0430 \u043a\u043e\u0442\u043e\u0440\u0443\u044e \u043f\u0440\u0456\u0463\u0437\u0436\u0430\u044e\u0442\u044a \u043a\u0443\u043f\u0446\u044b \u0438\u0437\u044a \u0431\u043b\u0438\u0436\u043d\u0438\u0445\u044a \u0433\u043e\u0440\u043e\u0434\u043e\u0432\u044a\u0441\u044a \u0448\u0435\u043b\u043a\u043e\u0432\u044b\u043c\u0438 , \u0431\u0443\u043c\u0430\u0436\u043d\u044b\u043c\u0438 \u0438 \u0434\u0440\u0443\u0433\u0438\u043c\u0438 \u043c\u0463\u0434\u043e\u0447\u043d\u044b\u043c\u0438 \u0442\u043e\u0432\u0430\u0440\u0430\u043c\u0438.\n",
        "page                                                                                                                                                                                                                                                                                                                11\n",
        "SOURCE                                                                                                                                                                                                                                              http://babel.hathitrust.org/cgi/pt?id=uc1.b4583201;view=1up;seq=10\n",
        "html_text             \u0410\u041d\u0410\u0415\u0412\u041e, </span><span class=\"font0\" style=\"font-style:italic;\">\u0441\u0435\u043b\u043e</span><span class=\"font0\"> \u0422\u0430\u043c\u0431\u043e\u0432\u0441\u043a\u0430\u0433\u043e \u041d\u0430\u043c\u0463\u0441\u0442\u043d\u0438\u0447\u0435\u0441\u0442\u0432\u0430 \u043e\u043a\u043e\u043b\u043e \u043f\u043e\u0441\u0430\u0434\u0430 \u041a\u0430\u0434\u043e\u043c\u0430; \u0437\u0434\u0463\u0441\u044c \u043e\u0434\u043d\u0430 \u0431\u044b\u0432\u0430\u0435\u0442\u044a \u044f\u0440\u043c\u0430\u0440\u043a\u0430 \u0432\u044a \u0433\u043e\u0434\u0443, \u043d\u0430 \u043a\u043e\u0442\u043e\u0440\u0443\u044e \u043f\u0440\u0456\u0463\u0437\u0436\u0430\u044e\u0442\u044a \u043a\u0443\u043f\u0446\u044b \u0438\u0437\u044a \u0431\u043b\u0438\u0436\u043d\u0438\u0445\u044a \u0433\u043e\u0440\u043e\u0434\u043e\u0432\u044a</span>\u0441\u044a \u0448\u0435\u043b\u043a\u043e\u0432\u044b\u043c\u0438 , \u0431\u0443\u043c\u0430\u0436\u043d\u044b\u043c\u0438 \u0438 \u0434\u0440\u0443\u0433\u0438\u043c\u0438 \u043c\u0463\u0434\u043e\u0447\u043d\u044b\u043c\u0438 \u0442\u043e\u0432\u0430\u0440\u0430\u043c\u0438.\n",
        "ru_new_orth                                                                                                                                                                                                                                                                                                     \u0410\u043d\u0430\u0435\u0432\u043e\n",
        "prov_modern_sp                                                                                                                                                                                                                                                                              \u0422\u0430\u043c\u0431\u043e\u0432\u0441\u043a\u043e\u0433\u043e \u041d\u0430\u043c\u0435\u0441\u0442\u043d\u0438\u0447\u0435\u0441\u0442\u0432\u0430\n",
        "uezd_modern_sp                                                                                                                                                                                                                                                                                             not_\u0438n_text\n",
        "prov_stem                                                                                                                                                                                                                                                                                                     \u0442\u0430\u043c\u0431\u043e\u0432\u0441\u043a\n",
        "uezd_stem                                                                                                                                                                                                                                                                                                  \u043d\u043e\u0442_\u0438\u043d_\u0442\u0435x\u0442\n",
        "admin_hierarchy                                                                                                                                                                                                                                                                                               \u0442\u0430\u043c\u0431\u043e\u0432\u0441\u043a\n",
        "admin1_partofID                                                                                                                                                                                                                                                                                                     32\n",
        "admin2_partofID                                                                                                                                                                                                                                                                                                    NaN\n",
        "partof_id                                                                                                                                                                                                                                                                                                           32\n",
        "Name: 15, dtype: object"
       ]
      }
     ],
     "prompt_number": 471
    },
    {
     "cell_type": "code",
     "collapsed": false,
     "input": [
      "market_df[market_df.ru_old_orth=='\u0410\u0440\u0445\u0430\u043d\u0433\u0435\u043b\u044c\u0441\u043a\u044a']"
     ],
     "language": "python",
     "metadata": {},
     "outputs": [
      {
       "html": [
        "<div style=\"max-height:1000px;max-width:1500px;overflow:auto;\">\n",
        "<table border=\"1\" class=\"dataframe\">\n",
        "  <thead>\n",
        "    <tr style=\"text-align: right;\">\n",
        "      <th></th>\n",
        "      <th>ru_old_orth</th>\n",
        "      <th>alt_name_old_orth</th>\n",
        "      <th>ru_old_featuretype</th>\n",
        "      <th>ru_prov</th>\n",
        "      <th>ru_uezd</th>\n",
        "      <th>description</th>\n",
        "      <th>page</th>\n",
        "      <th>SOURCE</th>\n",
        "      <th>html_text</th>\n",
        "      <th>ru_new_orth</th>\n",
        "      <th>prov_modern_sp</th>\n",
        "      <th>uezd_modern_sp</th>\n",
        "      <th>prov_stem</th>\n",
        "      <th>uezd_stem</th>\n",
        "      <th>admin_hierarchy</th>\n",
        "      <th>admin1_partofID</th>\n",
        "      <th>admin2_partofID</th>\n",
        "      <th>partof_id</th>\n",
        "    </tr>\n",
        "  </thead>\n",
        "  <tbody>\n",
        "    <tr>\n",
        "      <th>22</th>\n",
        "      <td> \u0410\u0440\u0445\u0430\u043d\u0433\u0435\u043b\u044c\u0441\u043a\u044a</td>\n",
        "      <td> None</td>\n",
        "      <td> \u0433\u043b\u0430\u0432\u043d\u044b\u0439 \u0433\u043e\u0440\u043e\u0434\u044a</td>\n",
        "      <td> \u0410\u0440\u0445\u0430\u043d\u0433\u0435\u043b\u044c\u0441\u043a\u044a \u041d\u0430\u043c\u0463\u0441\u0442\u043d\u0438\u0447\u0435\u0441\u0442\u0432\u0430</td>\n",
        "      <td> not_in_text</td>\n",
        "      <td> \u0410\u0420\u0425\u0410\u041d\u0413\u0415\u041b\u042c\u0421\u041a\u042a, \u0433\u043b\u0430\u0432\u043d\u044b\u0439 \u0433\u043e\u0440\u043e\u0434\u044a \u041d\u0430\u043c\u0463\u0441\u0442\u043d\u0438\u0447\u0435\u0441\u0442\u0432\u0430 \u0441\u0435\u0433\u043e \u0438\u043c\u0435\u043d\u0438. \u0412\u044a \u043d\u0435\u043c\u044a \u0431\u044b\u0432\u0430\u0435\u0442\u044a \u043a\u0430\u0436\u0434\u043e\u0439 \u0433\u043e\u0434\u044a \u044f\u0440\u043c\u0430\u0440\u043a\u0430 , \u043a\u043e...</td>\n",
        "      <td> 12</td>\n",
        "      <td> http://babel.hathitrust.org/cgi/pt?id=uc1.b4583201;view=1up;seq=11</td>\n",
        "      <td> \u0410\u0420\u0425\u0410\u041d\u0413\u0415\u041b\u042c\u0421\u041a\u042a, &lt;/span&gt;&lt;span class=\"font0\" style=\"font-style:italic;\"&gt;\u0433\u043b\u0430\u0432\u043d\u044b\u0439 \u0433\u043e\u0440\u043e\u0434\u044a&lt;/span&gt;&lt;span c...</td>\n",
        "      <td> \u0410\u0440\u0445\u0430\u043d\u0433\u0435\u043b\u044c\u0441\u043a</td>\n",
        "      <td> \u0410\u0440\u0445\u0430\u043d\u0433\u0435\u043b\u044c\u0441\u043a \u041d\u0430\u043c\u0435\u0441\u0442\u043d\u0438\u0447\u0435\u0441\u0442\u0432\u0430</td>\n",
        "      <td> not_\u0438n_text</td>\n",
        "      <td> \u0430\u0440\u0445\u0430\u043d\u0433\u0435\u043b\u044c\u0441\u043a</td>\n",
        "      <td> \u043d\u043e\u0442_\u0438\u043d_\u0442\u0435x\u0442</td>\n",
        "      <td> \u0430\u0440\u0445\u0430\u043d\u0433\u0435\u043b\u044c\u0441\u043a</td>\n",
        "      <td> 2</td>\n",
        "      <td>NaN</td>\n",
        "      <td> 2</td>\n",
        "    </tr>\n",
        "  </tbody>\n",
        "</table>\n",
        "</div>"
       ],
       "metadata": {},
       "output_type": "pyout",
       "prompt_number": 476,
       "text": [
        "     ru_old_orth alt_name_old_orth ru_old_featuretype  \\\n",
        "22  \u0410\u0440\u0445\u0430\u043d\u0433\u0435\u043b\u044c\u0441\u043a\u044a              None     \u0433\u043b\u0430\u0432\u043d\u044b\u0439 \u0433\u043e\u0440\u043e\u0434\u044a   \n",
        "\n",
        "                        ru_prov      ru_uezd  \\\n",
        "22  \u0410\u0440\u0445\u0430\u043d\u0433\u0435\u043b\u044c\u0441\u043a\u044a \u041d\u0430\u043c\u0463\u0441\u0442\u043d\u0438\u0447\u0435\u0441\u0442\u0432\u0430  not_in_text   \n",
        "\n",
        "                                                                                            description  \\\n",
        "22  \u0410\u0420\u0425\u0410\u041d\u0413\u0415\u041b\u042c\u0421\u041a\u042a, \u0433\u043b\u0430\u0432\u043d\u044b\u0439 \u0433\u043e\u0440\u043e\u0434\u044a \u041d\u0430\u043c\u0463\u0441\u0442\u043d\u0438\u0447\u0435\u0441\u0442\u0432\u0430 \u0441\u0435\u0433\u043e \u0438\u043c\u0435\u043d\u0438. \u0412\u044a \u043d\u0435\u043c\u044a \u0431\u044b\u0432\u0430\u0435\u0442\u044a \u043a\u0430\u0436\u0434\u043e\u0439 \u0433\u043e\u0434\u044a \u044f\u0440\u043c\u0430\u0440\u043a\u0430 , \u043a\u043e...   \n",
        "\n",
        "    page                                                              SOURCE  \\\n",
        "22    12  http://babel.hathitrust.org/cgi/pt?id=uc1.b4583201;view=1up;seq=11   \n",
        "\n",
        "                                                                                              html_text  \\\n",
        "22  \u0410\u0420\u0425\u0410\u041d\u0413\u0415\u041b\u042c\u0421\u041a\u042a, </span><span class=\"font0\" style=\"font-style:italic;\">\u0433\u043b\u0430\u0432\u043d\u044b\u0439 \u0433\u043e\u0440\u043e\u0434\u044a</span><span c...   \n",
        "\n",
        "    ru_new_orth              prov_modern_sp uezd_modern_sp    prov_stem  \\\n",
        "22  \u0410\u0440\u0445\u0430\u043d\u0433\u0435\u043b\u044c\u0441\u043a  \u0410\u0440\u0445\u0430\u043d\u0433\u0435\u043b\u044c\u0441\u043a \u041d\u0430\u043c\u0435\u0441\u0442\u043d\u0438\u0447\u0435\u0441\u0442\u0432\u0430    not_\u0438n_text  \u0430\u0440\u0445\u0430\u043d\u0433\u0435\u043b\u044c\u0441\u043a   \n",
        "\n",
        "      uezd_stem admin_hierarchy  admin1_partofID  admin2_partofID  partof_id  \n",
        "22  \u043d\u043e\u0442_\u0438\u043d_\u0442\u0435x\u0442     \u0430\u0440\u0445\u0430\u043d\u0433\u0435\u043b\u044c\u0441\u043a                2              NaN          2  "
       ]
      }
     ],
     "prompt_number": 476
    }
   ],
   "metadata": {}
  }
 ]
}