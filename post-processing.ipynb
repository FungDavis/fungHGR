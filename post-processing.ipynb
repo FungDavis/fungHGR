{
 "metadata": {
  "name": "",
  "signature": "sha256:72093a1ebe0b3bd08af2b1db4d74f35e796ce7f3febef26aa866fef7f078415e"
 },
 "nbformat": 3,
 "nbformat_minor": 0,
 "worksheets": [
  {
   "cells": [
    {
     "cell_type": "code",
     "collapsed": false,
     "input": [
      "import pandas as pd\n",
      "import numpy as np\n",
      "import json, re, requests, time"
     ],
     "language": "python",
     "metadata": {},
     "outputs": [],
     "prompt_number": 1
    },
    {
     "cell_type": "markdown",
     "metadata": {},
     "source": [
      "Setup functions\n",
      "===============\n",
      "Includes:\n",
      "* Reverse Geocode\n",
      "* Transliteration\n",
      "* Orthography modernization"
     ]
    },
    {
     "cell_type": "code",
     "collapsed": false,
     "input": [
      "def reverse_geocode(lng,lat):\n",
      "    keepgoing = True\n",
      "    while keepgoing == True:\n",
      "        try:\n",
      "            url = \"https://maps.googleapis.com/maps/api/geocode/json\"\n",
      "            Q = {'latlng':\"{},{}\".format(lat,lng)}\n",
      "            R = requests.get(url, params=Q)\n",
      "            print(R.url)\n",
      "            geo_response = R.json()\n",
      "            locality = 'error'\n",
      "            for component in geo_response['results'][0]['address_components']:\n",
      "                if 'locality' in component['types']:\n",
      "                    locality = component['long_name']\n",
      "                elif 'administrative_area_level_1' in component['types']:\n",
      "                    admin1 = component['long_name']\n",
      "                elif 'country' in component['types']:\n",
      "                    country = component['long_name']\n",
      "                    countryCode = component['short_name']\n",
      "            if locality == 'error':\n",
      "                for component in geo_response['results'][0]['address_components']:\n",
      "                    if 'administrative_area_level_2' in component['types']:\n",
      "                        locality = component['long_name']\n",
      "            print(\"\\\"{0}, {1}\\\",\\\"{2}\\\",\\\"{3}\\\"\".format(locality,admin1,country,countryCode))\n",
      "            time.sleep(1)\n",
      "            keepgoing = False\n",
      "        except IndexError:\n",
      "            time.sleep(1)\n",
      "            continue\n",
      "        return \"{}, {}\".format(locality,admin1), country, countryCode"
     ],
     "language": "python",
     "metadata": {},
     "outputs": [],
     "prompt_number": 27
    },
    {
     "cell_type": "code",
     "collapsed": false,
     "input": [
      "cyrillic_translit={u'\\u0410': 'A', u'\\u0430': 'a',u'\\u0411': 'B', u'\\u0431': 'b',u'\\u0412': 'V', u'\\u0432': 'v',u'\\u0413': 'G', u'\\u0433': 'g',u'\\u0414': 'D', u'\\u0434': 'd',u'\\u0415': 'E', u'\\u0435': 'e',u'\\u0416': 'Zh', u'\\u0436': 'zh',u'\\u0417': 'Z', u'\\u0437': 'z',u'\\u0418': 'I', u'\\u0438': 'i',u'\\u0419': 'I', u'\\u0439': 'i',u'\\u041a': 'K', u'\\u043a': 'k',u'\\u041b': 'L', u'\\u043b': 'l',u'\\u041c': 'M', u'\\u043c': 'm',u'\\u041d': 'N', u'\\u043d': 'n',u'\\u041e': 'O', u'\\u043e': 'o',u'\\u041f': 'P', u'\\u043f': 'p',u'\\u0420': 'R', u'\\u0440': 'r',u'\\u0421': 'S', u'\\u0441': 's',u'\\u0422': 'T', u'\\u0442': 't',u'\\u0423': 'U', u'\\u0443': 'u',u'\\u0424': 'F', u'\\u0444': 'f',u'\\u0425': 'Kh', u'\\u0445': 'kh',u'\\u0426': 'Ts', u'\\u0446': 'ts',u'\\u0427': 'Ch', u'\\u0447': 'ch',u'\\u0428': 'Sh', u'\\u0448': 'sh',u'\\u0429': 'Shch', u'\\u0449': 'shch',u'\\u042a': '\"', u'\\u044a': '\"',u'\\u042b': 'Y', u'\\u044b': 'y',u'\\u042c': \"'\", u'\\u044c': \"'\",u'\\u042d': 'E', u'\\u044d': 'e',u'\\u042e': 'Iu', u'\\u044e': 'iu',u'\\u042f': 'Ia', u'\\u044f': 'ia',u'\\u0462': 'E', u'\\u0463': 'e'}\n",
      "\n",
      "def transliterate(word, translit_table):\n",
      "    \"\"\"\n",
      "    Transliterates 'word' based on the key/value pairs in 'translit_table'\n",
      "    \"\"\"\n",
      "    converted_word = ''\n",
      "    for char in word:\n",
      "        transchar = ''\n",
      "        if char in translit_table:\n",
      "            transchar = translit_table[char]\n",
      "        else:\n",
      "            transchar = char\n",
      "        converted_word += transchar\n",
      "    return converted_word"
     ],
     "language": "python",
     "metadata": {},
     "outputs": [],
     "prompt_number": 28
    },
    {
     "cell_type": "code",
     "collapsed": false,
     "input": [
      "import re,json\n",
      "from lxml import html\n",
      "\n",
      "lookup_dict = {}\n",
      "with open(\"special_cases.json\",'r') as fp:\n",
      "    lookup_dict = json.load(fp)\n",
      "\n",
      "def ortho_rules(text,lookup_dict):\n",
      "    \"\"\"\n",
      "    Takes a text string and a lookup dict as input\n",
      "    Removes any lingering html tags\n",
      "    Breaks the string down into component words with split\n",
      "    Uses replacements to modernize orthography\n",
      "    Returns re-assembled text with modern orthography\n",
      "    \"\"\"\n",
      "    if text is not None:\n",
      "        text = html.fromstring(text).text_content()\n",
      "        textlist = text.split(' ')\n",
      "        out_list = []\n",
      "        for word in textlist:\n",
      "            if word in [',','.',';',':']:\n",
      "                out_list.append(word)\n",
      "            word = word.strip(',.;:')\n",
      "            if word in lookup_dict:\n",
      "                word = lookup_dict[word]\n",
      "                out_list.append(word)\n",
      "            else:\n",
      "                word = re.sub(\"[\u042a\u044a]$\",'',word)\n",
      "                word = re.sub(r\"^([\u0447\u0435]{0,2}[\u0447]?[\u0432\u0431\u043d\u0440]?[\u0432\u0435\u043e\u0430\u0438])\u0437([\u041f\u0424\u041a\u0422\u0428\u0421\u0427\u043f\u0444\u043a\u0442\u0448\u0441\u0447])\",r\"\\1\u0441\\2\",word,re.IGNORECASE)\n",
      "                word = re.sub(\"\u0430\u0433\u043e$\",\"\u043e\u0433\u043e\",word,re.IGNORECASE)\n",
      "                word = re.sub(\"\u044f\u0433\u043e$\",\"\u0435\u0433\u043e\",word,re.IGNORECASE)\n",
      "                word = re.sub(\"\u044b\u044f$\",\"\u044b\u0435\",word,re.IGNORECASE)\n",
      "                word = re.sub(\"i\u044f$\",\"\u0438\u0435\",word,re.IGNORECASE)\n",
      "                word = word.replace('i','\u0438') #english\n",
      "                word = word.replace('I','\u0418') #english\n",
      "                word = word.replace('\u0456','\u0438') #cyrillic\n",
      "                word = word.replace('\u0406','\u0418') #cyrillic\n",
      "                word = word.replace('\u0462','\u0415')\n",
      "                word = word.replace('\u0463','\u0435')\n",
      "                word = word.replace('\u0472','\u0424')\n",
      "                word = word.replace('\u0473','\u0444')\n",
      "                out_list.append(word)\n",
      "        out_str = ' '.join(out_list)\n",
      "        return out_str\n",
      "    else:\n",
      "        return \"None\""
     ],
     "language": "python",
     "metadata": {},
     "outputs": [],
     "prompt_number": 29
    },
    {
     "cell_type": "code",
     "collapsed": false,
     "input": [
      "ortho_rules(\"\u0411\u041e\u0413\u041e\u0420\u041e\u0414\u0418\u0426\u041a\u042a, \u0433\u043e\u0440\u043e\u0434\u044a \u0422\u0443\u043b\u044c\u0441\u043a\u0430\u0433\u043e \u041d\u0430\u043c\u0463\u0441\u0442\u043d\u0438\u0447\u0435\u0441\u0442\u0432\u0430. \u0412\u044a \u0441\u0435\u043c\u044a \u0433\u043e\u0440\u043e\u0434\u0463 \u0431\u044b\u0432\u0430\u0435\u0442\u044a \u044f\u0440\u043c\u0430\u0440\u043a\u0430 \u0406\u044e\u043b\u044f 7 \u0438 8 \u0434\u043d\u044f, \u043d\u0430 \u043a\u043e\u0442\u043e\u0440\u0443\u044e \u0438\u0437\u044a \u0433\u043e\u0440\u043e\u0434\u043e\u0432\u044a \u0422\u0443\u043b\u044b , \u0415\u043f\u0438\u0444\u0430\u043d\u0438, \u041a\u0440\u043e\u043f\u0438\u0432\u043d\u044b , \u0414\u0463\u0434\u0438\u043b\u043e\u0432\u0430, \u0415\u0444\u0440\u0435\u043c\u043e\u0432\u0430 \u0438 \u0414\u043e\u043d\u043a\u043e\u0432\u0430 \u043f\u0440\u0438\u0432\u043e\u0437\u044f\u0442\u044a \u043c\u0463\u043b\u043e\u0447\u043d\u044b\u0435 \u043a\u0440\u0430\u0441\u043d\u044b\u0435 \u0442\u043e\u0432\u0430\u0440\u044b , \u0430 \u043e\u043d\u044b\u0445\u044a \u0433\u043e\u0440\u043e\u0434\u043e\u0432\u044a \u0438\u0437\u044a \u0443\u0463\u0437\u0434\u043e\u0432\u044a \u043a\u0440\u0435\u0441\u0442\u044c\u044f\u043d\u0435 \u043a\u043e\u043b\u0435\u0441\u044b \u0438 \u043b\u044b\u043a\u0438.\",lookup_dict)"
     ],
     "language": "python",
     "metadata": {},
     "outputs": [
      {
       "metadata": {},
       "output_type": "pyout",
       "prompt_number": 50,
       "text": [
        "'\u0411\u041e\u0413\u041e\u0420\u041e\u0414\u0418\u0426\u041a \u0433\u043e\u0440\u043e\u0434 \u0422\u0443\u043b\u044c\u0441\u043a\u043e\u0433\u043e \u041d\u0430\u043c\u0435\u0441\u0442\u043d\u0438\u0447\u0435\u0441\u0442\u0432\u0430 \u0412 \u0441\u0435\u043c \u0433\u043e\u0440\u043e\u0434\u0435 \u0431\u044b\u0432\u0430\u0435\u0442 \u044f\u0440\u043c\u0430\u0440\u043a\u0430 \u0418\u044e\u043b\u044f 7 \u0438 8 \u0434\u043d\u044f \u043d\u0430 \u043a\u043e\u0442\u043e\u0440\u0443\u044e \u0438\u0437 \u0433\u043e\u0440\u043e\u0434\u043e\u0432 \u0422\u0443\u043b\u044b ,  \u0415\u043f\u0438\u0444\u0430\u043d\u0438 \u041a\u0440\u043e\u043f\u0438\u0432\u043d\u044b ,  \u0414\u0435\u0434\u0438\u043b\u043e\u0432\u0430 \u0415\u0444\u0440\u0435\u043c\u043e\u0432\u0430 \u0438 \u0414\u043e\u043d\u043a\u043e\u0432\u0430 \u043f\u0440\u0438\u0432\u043e\u0437\u044f\u0442 \u043c\u0435\u043b\u043e\u0447\u043d\u044b\u0435 \u043a\u0440\u0430\u0441\u043d\u044b\u0435 \u0442\u043e\u0432\u0430\u0440\u044b ,  \u0430 \u043e\u043d\u044b\u0445 \u0433\u043e\u0440\u043e\u0434\u043e\u0432 \u0438\u0437 \u0443\u0435\u0437\u0434\u043e\u0432 \u043a\u0440\u0435\u0441\u0442\u044c\u044f\u043d\u0435 \u043a\u043e\u043b\u0435\u0441\u044b \u0438 \u043b\u044b\u043a\u0438'"
       ]
      }
     ],
     "prompt_number": 50
    },
    {
     "cell_type": "markdown",
     "metadata": {},
     "source": [
      "Main post-processing\n",
      "====================\n",
      "This is the on purpose stuff to be scaled up.  \n",
      "It finds single results so that they can be added to the final data set."
     ]
    },
    {
     "cell_type": "code",
     "collapsed": false,
     "input": [
      "geodf_merged = pd.DataFrame.from_csv(\"geocoded_merged.csv\")"
     ],
     "language": "python",
     "metadata": {},
     "outputs": [],
     "prompt_number": 2
    },
    {
     "cell_type": "code",
     "collapsed": false,
     "input": [
      "finding_counts = geodf_merged.ix[geodf_merged.result_placename!='not_found'].pivot_table(index='hgr_id',values='lat',aggfunc=lambda x: len(x.unique()))\n",
      "fdf = pd.DataFrame(finding_counts)\n",
      "single_results = pd.merge(fdf.ix[fdf.lat==1],geodf_merged,left_index=True,right_on='hgr_id')\n",
      "single_results = single_results.ix[single_results.result_placename!='not_found']"
     ],
     "language": "python",
     "metadata": {},
     "outputs": [],
     "prompt_number": 3
    },
    {
     "cell_type": "code",
     "collapsed": false,
     "input": [
      "hgr_set = pd.DataFrame.from_csv(\"hgr_test_set_2.csv\")"
     ],
     "language": "python",
     "metadata": {},
     "outputs": [],
     "prompt_number": 4
    },
    {
     "cell_type": "code",
     "collapsed": false,
     "input": [
      "single_results['isold'] = single_results.text.isin(hgr_set.description)\n",
      "new_single_results = single_results.ix[single_results.isold==False]"
     ],
     "language": "python",
     "metadata": {},
     "outputs": [],
     "prompt_number": 5
    },
    {
     "cell_type": "markdown",
     "metadata": {},
     "source": [
      "Secondary processing\n",
      "====================\n",
      "Tread lightly, this part gets messy"
     ]
    },
    {
     "cell_type": "code",
     "collapsed": false,
     "input": [
      "to_be_processed = pd.DataFrame.from_csv(\"hgr_test_set_2.csv\")\n",
      "to_be_processed.columns"
     ],
     "language": "python",
     "metadata": {},
     "outputs": [
      {
       "metadata": {},
       "output_type": "pyout",
       "prompt_number": 6,
       "text": [
        "Index(['ru_old_orth', 'alt_name', 'partof_id', 'x_coord', 'y_coord', 'ru_featuretype', 'SOURCE', 'description', 'ru_new_orth', 'lc_trans', 'pres_loc', 'pres_country', 'country_code', 'beg_yr', 'end_yr', 'lc_featuretype', 'id_featuretype', 'en_featuretype', 'xy_type', 'partof_prov', 'partof_uezd'], dtype='object')"
       ]
      }
     ],
     "prompt_number": 6
    },
    {
     "cell_type": "code",
     "collapsed": false,
     "input": [
      "to_be_processed['ru_new_orth'] = to_be_processed.ru_old_orth.apply(ortho_rules,args=[lookup_dict])"
     ],
     "language": "python",
     "metadata": {},
     "outputs": [],
     "prompt_number": 10
    },
    {
     "cell_type": "code",
     "collapsed": false,
     "input": [
      "to_be_processed.lc_trans = to_be_processed.ru_new_orth.apply(transliterate,args=[cyrillic_translit])"
     ],
     "language": "python",
     "metadata": {},
     "outputs": [],
     "prompt_number": 11
    },
    {
     "cell_type": "code",
     "collapsed": false,
     "input": [
      "to_be_processed['pres_loc'], to_be_processed['pres_country'], to_be_processed['country_code'] = np.vectorize(reverse_geocode)(to_be_processed.x_coord,to_be_processed.y_coord)"
     ],
     "language": "python",
     "metadata": {},
     "outputs": [
      {
       "output_type": "stream",
       "stream": "stdout",
       "text": [
        "https://maps.googleapis.com/maps/api/geocode/json?latlng=55.751667000000005%2C37.617778\n",
        "\"Moscow, Moscow\",\"Russia\",\"RU\"\n",
        "https://maps.googleapis.com/maps/api/geocode/json?latlng=55.751667000000005%2C37.617778"
       ]
      },
      {
       "output_type": "stream",
       "stream": "stdout",
       "text": [
        "\n",
        "\"Moscow, Moscow\",\"Russia\",\"RU\"\n",
        "https://maps.googleapis.com/maps/api/geocode/json?latlng=64.533333%2C40.533333"
       ]
      },
      {
       "output_type": "stream",
       "stream": "stdout",
       "text": [
        "\n",
        "\"Arkhangelsk, Arkhangelsk Oblast\",\"Russia\",\"RU\"\n",
        "https://maps.googleapis.com/maps/api/geocode/json?latlng=56.13333299999999%2C40.416667"
       ]
      },
      {
       "output_type": "stream",
       "stream": "stdout",
       "text": [
        "\n",
        "\"Vladimir, Vladimir Oblast\",\"Russia\",\"RU\"\n",
        "https://maps.googleapis.com/maps/api/geocode/json?latlng=59.2%2C39.883333"
       ]
      },
      {
       "output_type": "stream",
       "stream": "stdout",
       "text": [
        "\n",
        "\"Vologda, Vologda Oblast\",\"Russia\",\"RU\"\n",
        "https://maps.googleapis.com/maps/api/geocode/json?latlng=51.671667%2C39.210556"
       ]
      },
      {
       "output_type": "stream",
       "stream": "stdout",
       "text": [
        "\n",
        "\"Voronezh, Voronezh Oblast\",\"Russia\",\"RU\"\n",
        "https://maps.googleapis.com/maps/api/geocode/json?latlng=60.709167%2C28.744166999999997"
       ]
      },
      {
       "output_type": "stream",
       "stream": "stdout",
       "text": [
        "\n",
        "\"Vyborg, Leningrad Oblast\",\"Russia\",\"RU\"\n"
       ]
      },
      {
       "ename": "KeyboardInterrupt",
       "evalue": "",
       "output_type": "pyerr",
       "traceback": [
        "\u001b[1;31m---------------------------------------------------------------------------\u001b[0m\n\u001b[1;31mKeyboardInterrupt\u001b[0m                         Traceback (most recent call last)",
        "\u001b[1;32m<ipython-input-12-30c5d6b808ff>\u001b[0m in \u001b[0;36m<module>\u001b[1;34m()\u001b[0m\n\u001b[1;32m----> 1\u001b[1;33m \u001b[0mto_be_processed\u001b[0m\u001b[1;33m[\u001b[0m\u001b[1;34m'pres_loc'\u001b[0m\u001b[1;33m]\u001b[0m\u001b[1;33m,\u001b[0m \u001b[0mto_be_processed\u001b[0m\u001b[1;33m[\u001b[0m\u001b[1;34m'pres_country'\u001b[0m\u001b[1;33m]\u001b[0m\u001b[1;33m,\u001b[0m \u001b[0mto_be_processed\u001b[0m\u001b[1;33m[\u001b[0m\u001b[1;34m'country_code'\u001b[0m\u001b[1;33m]\u001b[0m \u001b[1;33m=\u001b[0m \u001b[0mnp\u001b[0m\u001b[1;33m.\u001b[0m\u001b[0mvectorize\u001b[0m\u001b[1;33m(\u001b[0m\u001b[0mreverse_geocode\u001b[0m\u001b[1;33m)\u001b[0m\u001b[1;33m(\u001b[0m\u001b[0mto_be_processed\u001b[0m\u001b[1;33m.\u001b[0m\u001b[0mx_coord\u001b[0m\u001b[1;33m,\u001b[0m\u001b[0mto_be_processed\u001b[0m\u001b[1;33m.\u001b[0m\u001b[0my_coord\u001b[0m\u001b[1;33m)\u001b[0m\u001b[1;33m\u001b[0m\u001b[0m\n\u001b[0m",
        "\u001b[1;32mc:\\Anaconda3\\lib\\site-packages\\numpy\\lib\\function_base.py\u001b[0m in \u001b[0;36m__call__\u001b[1;34m(self, *args, **kwargs)\u001b[0m\n\u001b[0;32m   1686\u001b[0m             \u001b[0mvargs\u001b[0m\u001b[1;33m.\u001b[0m\u001b[0mextend\u001b[0m\u001b[1;33m(\u001b[0m\u001b[1;33m[\u001b[0m\u001b[0mkwargs\u001b[0m\u001b[1;33m[\u001b[0m\u001b[0m_n\u001b[0m\u001b[1;33m]\u001b[0m \u001b[1;32mfor\u001b[0m \u001b[0m_n\u001b[0m \u001b[1;32min\u001b[0m \u001b[0mnames\u001b[0m\u001b[1;33m]\u001b[0m\u001b[1;33m)\u001b[0m\u001b[1;33m\u001b[0m\u001b[0m\n\u001b[0;32m   1687\u001b[0m \u001b[1;33m\u001b[0m\u001b[0m\n\u001b[1;32m-> 1688\u001b[1;33m         \u001b[1;32mreturn\u001b[0m \u001b[0mself\u001b[0m\u001b[1;33m.\u001b[0m\u001b[0m_vectorize_call\u001b[0m\u001b[1;33m(\u001b[0m\u001b[0mfunc\u001b[0m\u001b[1;33m=\u001b[0m\u001b[0mfunc\u001b[0m\u001b[1;33m,\u001b[0m \u001b[0margs\u001b[0m\u001b[1;33m=\u001b[0m\u001b[0mvargs\u001b[0m\u001b[1;33m)\u001b[0m\u001b[1;33m\u001b[0m\u001b[0m\n\u001b[0m\u001b[0;32m   1689\u001b[0m \u001b[1;33m\u001b[0m\u001b[0m\n\u001b[0;32m   1690\u001b[0m     \u001b[1;32mdef\u001b[0m \u001b[0m_get_ufunc_and_otypes\u001b[0m\u001b[1;33m(\u001b[0m\u001b[0mself\u001b[0m\u001b[1;33m,\u001b[0m \u001b[0mfunc\u001b[0m\u001b[1;33m,\u001b[0m \u001b[0margs\u001b[0m\u001b[1;33m)\u001b[0m\u001b[1;33m:\u001b[0m\u001b[1;33m\u001b[0m\u001b[0m\n",
        "\u001b[1;32mc:\\Anaconda3\\lib\\site-packages\\numpy\\lib\\function_base.py\u001b[0m in \u001b[0;36m_vectorize_call\u001b[1;34m(self, func, args)\u001b[0m\n\u001b[0;32m   1755\u001b[0m                       for _a in args]\n\u001b[0;32m   1756\u001b[0m \u001b[1;33m\u001b[0m\u001b[0m\n\u001b[1;32m-> 1757\u001b[1;33m             \u001b[0moutputs\u001b[0m \u001b[1;33m=\u001b[0m \u001b[0mufunc\u001b[0m\u001b[1;33m(\u001b[0m\u001b[1;33m*\u001b[0m\u001b[0minputs\u001b[0m\u001b[1;33m)\u001b[0m\u001b[1;33m\u001b[0m\u001b[0m\n\u001b[0m\u001b[0;32m   1758\u001b[0m \u001b[1;33m\u001b[0m\u001b[0m\n\u001b[0;32m   1759\u001b[0m             \u001b[1;32mif\u001b[0m \u001b[0mufunc\u001b[0m\u001b[1;33m.\u001b[0m\u001b[0mnout\u001b[0m \u001b[1;33m==\u001b[0m \u001b[1;36m1\u001b[0m\u001b[1;33m:\u001b[0m\u001b[1;33m\u001b[0m\u001b[0m\n",
        "\u001b[1;32m<ipython-input-6-d99744f4d9dd>\u001b[0m in \u001b[0;36mreverse_geocode\u001b[1;34m(lng, lat)\u001b[0m\n\u001b[0;32m     22\u001b[0m                         \u001b[0mlocality\u001b[0m \u001b[1;33m=\u001b[0m \u001b[0mcomponent\u001b[0m\u001b[1;33m[\u001b[0m\u001b[1;34m'long_name'\u001b[0m\u001b[1;33m]\u001b[0m\u001b[1;33m\u001b[0m\u001b[0m\n\u001b[0;32m     23\u001b[0m             \u001b[0mprint\u001b[0m\u001b[1;33m(\u001b[0m\u001b[1;34m\"\\\"{0}, {1}\\\",\\\"{2}\\\",\\\"{3}\\\"\"\u001b[0m\u001b[1;33m.\u001b[0m\u001b[0mformat\u001b[0m\u001b[1;33m(\u001b[0m\u001b[0mlocality\u001b[0m\u001b[1;33m,\u001b[0m\u001b[0madmin1\u001b[0m\u001b[1;33m,\u001b[0m\u001b[0mcountry\u001b[0m\u001b[1;33m,\u001b[0m\u001b[0mcountryCode\u001b[0m\u001b[1;33m)\u001b[0m\u001b[1;33m)\u001b[0m\u001b[1;33m\u001b[0m\u001b[0m\n\u001b[1;32m---> 24\u001b[1;33m             \u001b[0mtime\u001b[0m\u001b[1;33m.\u001b[0m\u001b[0msleep\u001b[0m\u001b[1;33m(\u001b[0m\u001b[1;36m1\u001b[0m\u001b[1;33m)\u001b[0m\u001b[1;33m\u001b[0m\u001b[0m\n\u001b[0m\u001b[0;32m     25\u001b[0m             \u001b[0mkeepgoing\u001b[0m \u001b[1;33m=\u001b[0m \u001b[1;32mFalse\u001b[0m\u001b[1;33m\u001b[0m\u001b[0m\n\u001b[0;32m     26\u001b[0m         \u001b[1;32mexcept\u001b[0m \u001b[0mIndexError\u001b[0m\u001b[1;33m:\u001b[0m\u001b[1;33m\u001b[0m\u001b[0m\n",
        "\u001b[1;31mKeyboardInterrupt\u001b[0m: "
       ]
      }
     ],
     "prompt_number": 12
    },
    {
     "cell_type": "markdown",
     "metadata": {},
     "source": [
      "Putting in partof names\n",
      "=======================\n",
      "Better a name than an ID for display. Drive space is cheap."
     ]
    },
    {
     "cell_type": "code",
     "collapsed": false,
     "input": [
      "cond = to_be_processed.ru_featuretype.isin([\"\u0413\u0443\u0431\u0435\u0440\u043d\u0456\u044f\",\"\u041d\u0430\u043c\u0463\u0441\u0442\u043d\u0438\u0447\u0435\u0441\u0442\u0432\u043e\",\"\u041e\u0431\u043b\u0430\u0441\u0442\u044c\"])\n",
      "to_be_processed['partof_prov_name'] = to_be_processed[cond]['ru_old_orth'] + \" \" + to_be_processed.ru_featuretype"
     ],
     "language": "python",
     "metadata": {},
     "outputs": [],
     "prompt_number": 14
    },
    {
     "cell_type": "code",
     "collapsed": false,
     "input": [
      "cond = to_be_processed.ru_featuretype.isin([\"\u0443\u0435\u0437\u0434\"])\n",
      "to_be_processed['partof_uezd_name'] = to_be_processed[cond]['ru_old_orth'] + \" \" + to_be_processed.ru_featuretype"
     ],
     "language": "python",
     "metadata": {},
     "outputs": [],
     "prompt_number": 15
    },
    {
     "cell_type": "code",
     "collapsed": false,
     "input": [
      "to_be_processed.to_csv(\"hgr_test_set_3.csv\",encoding='utf-8')"
     ],
     "language": "python",
     "metadata": {},
     "outputs": [],
     "prompt_number": 16
    },
    {
     "cell_type": "markdown",
     "metadata": {},
     "source": [
      "Changing partof IDs\n",
      "===================\n",
      "Making it so that stuff that was part of an uezd can now be part of the namiest of the same name as uezd if need be."
     ]
    },
    {
     "cell_type": "code",
     "collapsed": false,
     "input": [
      "more_process = pd.DataFrame.from_csv(\"hgr_test_set_3.csv\")"
     ],
     "language": "python",
     "metadata": {},
     "outputs": [],
     "prompt_number": 17
    },
    {
     "cell_type": "code",
     "collapsed": false,
     "input": [
      "more_process.sort(columns=[\"ru_featuretype\",\"ru_old_orth\"],inplace=True)"
     ],
     "language": "python",
     "metadata": {},
     "outputs": [],
     "prompt_number": 20
    },
    {
     "cell_type": "code",
     "collapsed": false,
     "input": [
      "nam_uezd_list = more_process.ix[more_process.ru_featuretype.isin([\"\u0413\u0443\u0431\u0435\u0440\u043d\u0456\u044f\",\"\u041d\u0430\u043c\u0463\u0441\u0442\u043d\u0438\u0447\u0435\u0441\u0442\u0432\u043e\",\"\u041e\u0431\u043b\u0430\u0441\u0442\u044c\"])].partof_uezd_name.tolist()"
     ],
     "language": "python",
     "metadata": {},
     "outputs": [],
     "prompt_number": 24
    },
    {
     "cell_type": "code",
     "collapsed": false,
     "input": [
      "cond1 = more_process.ru_featuretype=='\u0443\u0435\u0437\u0434'\n",
      "cond2 = more_process.partof_uezd_name.isin(nam_uezd_list)\n",
      "uezd_to_namest = more_process[cond1][cond2][['partof_id']].to_dict()"
     ],
     "language": "python",
     "metadata": {},
     "outputs": [],
     "prompt_number": 29
    },
    {
     "cell_type": "code",
     "collapsed": false,
     "input": [
      "def keychange(k):\n",
      "    if k in uezd_to_namest:\n",
      "        return uezd_to_namest[k]\n",
      "    else:\n",
      "        return k"
     ],
     "language": "python",
     "metadata": {},
     "outputs": [],
     "prompt_number": 30
    },
    {
     "cell_type": "code",
     "collapsed": false,
     "input": [
      "more_process.partof_id = more_process.partof_id.apply(keychange)"
     ],
     "language": "python",
     "metadata": {},
     "outputs": [],
     "prompt_number": 32
    },
    {
     "cell_type": "code",
     "collapsed": false,
     "input": [
      "partof_prov_lookup = more_process.ix[more_process.partof_prov_name.notnull()].partof_prov_name.to_dict()\n",
      "partof_uezd_lookup = more_process.ix[more_process.partof_uezd_name.notnull()].partof_uezd_name.to_dict()"
     ],
     "language": "python",
     "metadata": {},
     "outputs": [],
     "prompt_number": 40
    },
    {
     "cell_type": "code",
     "collapsed": false,
     "input": [
      "more_process.partof_prov_name = more_process.partof_prov.apply(lambda x: partof_prov_lookup[x])\n",
      "def keychange(k):\n",
      "    if k in partof_uezd_lookup:\n",
      "        return partof_uezd_lookup[k]\n",
      "    else:\n",
      "        return k\n",
      "more_process.partof_uezd_name = more_process.partof_uezd.apply(keychange)"
     ],
     "language": "python",
     "metadata": {},
     "outputs": [],
     "prompt_number": 45
    },
    {
     "cell_type": "code",
     "collapsed": false,
     "input": [
      "more_process.to_csv(\"hgr_test_set_4.csv\",encoding='utf-8')"
     ],
     "language": "python",
     "metadata": {},
     "outputs": [],
     "prompt_number": 46
    },
    {
     "cell_type": "markdown",
     "metadata": {},
     "source": [
      "De-duplicating stuff\n",
      "====================\n",
      "There are some uezd and namiest that are in the text as certain kinds of towns that I then duplicated. Now I have to put in more work on top of the work I put in to de-duplicate them. sigh."
     ]
    },
    {
     "cell_type": "code",
     "collapsed": false,
     "input": [
      "dedupe = pd.DataFrame.from_csv(\"hgr_test_set_4.csv\")\n",
      "dupe_cond = dedupe.x_coord.duplicated()\n",
      "xdupe = dedupe[dupe_cond].x_coord.unique().tolist()\n",
      "test = xdupe[1]"
     ],
     "language": "python",
     "metadata": {},
     "outputs": [],
     "prompt_number": 182
    },
    {
     "cell_type": "code",
     "collapsed": false,
     "input": [
      "dedupe.columns"
     ],
     "language": "python",
     "metadata": {},
     "outputs": [
      {
       "metadata": {},
       "output_type": "pyout",
       "prompt_number": 178,
       "text": [
        "Index(['ru_old_orth', 'alt_name', 'partof_id', 'x_coord', 'y_coord', 'ru_featuretype', 'SOURCE', 'description', 'ru_new_orth', 'lc_trans', 'pres_loc', 'pres_country', 'country_code', 'beg_yr', 'end_yr', 'lc_featuretype', 'id_featuretype', 'en_featuretype', 'xy_type', 'partof_prov', 'partof_uezd', 'partof_prov_name', 'partof_uezd_name'], dtype='object')"
       ]
      }
     ],
     "prompt_number": 178
    },
    {
     "cell_type": "code",
     "collapsed": false,
     "input": [
      "for test in xdupe:\n",
      "    print(test)\n",
      "    ind1 = int(dedupe[dedupe.x_coord==test][dedupe.ru_featuretype=='\u0443\u0435\u0437\u0434'].index)\n",
      "    ind2 = int(dedupe[dedupe.x_coord==test][dedupe.ru_featuretype=='\u0433\u043e\u0440\u043e\u0434\u044a'].index)\n",
      "    dedupe.loc[ind1:ind1].ru_old_orth = dedupe.loc[ind2].ru_old_orth\n",
      "    dedupe.loc[ind1:ind1].ru_featuretype = dedupe.loc[ind2].ru_featuretype\n",
      "    dedupe.loc[ind1:ind1].SOURCE = dedupe.loc[ind2].SOURCE\n",
      "    dedupe.loc[ind1:ind1].description = dedupe.loc[ind2].description\n",
      "    dedupe.loc[ind1:ind1].pres_loc = dedupe.loc[ind2].pres_loc\n",
      "    dedupe.loc[ind1:ind1].pres_country = dedupe.loc[ind2].pres_country\n",
      "    dedupe.loc[ind1:ind1].country_code = dedupe.loc[ind2].country_code\n",
      "    dedupe.drop(ind2,inplace=True)"
     ],
     "language": "python",
     "metadata": {},
     "outputs": [
      {
       "output_type": "stream",
       "stream": "stdout",
       "text": [
        "37.0674\n",
        "38.1067\n",
        "36.44811\n",
        "33.990990000000004"
       ]
      },
      {
       "output_type": "stream",
       "stream": "stdout",
       "text": [
        "\n",
        "42.693509999999996\n",
        "26.72509\n",
        "37.52041"
       ]
      },
      {
       "output_type": "stream",
       "stream": "stdout",
       "text": [
        "\n",
        "38.50169\n",
        "38.551809999999996\n",
        "38.09924"
       ]
      },
      {
       "output_type": "stream",
       "stream": "stdout",
       "text": [
        "\n",
        "38.878409999999995\n",
        "36.85918\n",
        "34.58935"
       ]
      },
      {
       "output_type": "stream",
       "stream": "stdout",
       "text": [
        "\n",
        "37.24848\n",
        "37.608059999999995\n",
        "43.05744"
       ]
      },
      {
       "output_type": "stream",
       "stream": "stdout",
       "text": [
        "\n",
        "42.12894\n",
        "108.11193999999999\n",
        "35.77159"
       ]
      },
      {
       "output_type": "stream",
       "stream": "stdout",
       "text": [
        "\n",
        "38.77833\n",
        "39.17677\n",
        "43.789629999999995"
       ]
      },
      {
       "output_type": "stream",
       "stream": "stdout",
       "text": [
        "\n",
        "37.60689\n",
        "42.258379999999995\n",
        "40.684329999999996"
       ]
      },
      {
       "output_type": "stream",
       "stream": "stdout",
       "text": [
        "\n",
        "33.60886\n",
        "35.26233\n",
        "36.02722"
       ]
      },
      {
       "output_type": "stream",
       "stream": "stdout",
       "text": [
        "\n",
        "31.7217\n",
        "43.69458\n",
        "37.04048"
       ]
      },
      {
       "output_type": "stream",
       "stream": "stdout",
       "text": [
        "\n",
        "32.506209999999996\n",
        "39.13531\n",
        "30.0495"
       ]
      },
      {
       "output_type": "stream",
       "stream": "stdout",
       "text": [
        "\n",
        "39.413940000000004\n",
        "40.44668\n",
        "34.800290000000004"
       ]
      },
      {
       "output_type": "stream",
       "stream": "stdout",
       "text": [
        "\n",
        "43.21483\n",
        "31.3831\n",
        "42.68318"
       ]
      },
      {
       "output_type": "stream",
       "stream": "stdout",
       "text": [
        "\n",
        "41.388329999999996\n",
        "39.679109999999994\n",
        "49.09162"
       ]
      },
      {
       "output_type": "stream",
       "stream": "stdout",
       "text": [
        "\n"
       ]
      }
     ],
     "prompt_number": 183
    },
    {
     "cell_type": "code",
     "collapsed": false,
     "input": [
      "dedupe[dedupe.x_coord==43.789629999999995]"
     ],
     "language": "python",
     "metadata": {},
     "outputs": [
      {
       "html": [
        "<div style=\"max-height:1000px;max-width:1500px;overflow:auto;\">\n",
        "<table border=\"1\" class=\"dataframe\">\n",
        "  <thead>\n",
        "    <tr style=\"text-align: right;\">\n",
        "      <th></th>\n",
        "      <th>ru_old_orth</th>\n",
        "      <th>alt_name</th>\n",
        "      <th>partof_id</th>\n",
        "      <th>x_coord</th>\n",
        "      <th>y_coord</th>\n",
        "      <th>ru_featuretype</th>\n",
        "      <th>SOURCE</th>\n",
        "      <th>description</th>\n",
        "      <th>ru_new_orth</th>\n",
        "      <th>lc_trans</th>\n",
        "      <th>...</th>\n",
        "      <th>beg_yr</th>\n",
        "      <th>end_yr</th>\n",
        "      <th>lc_featuretype</th>\n",
        "      <th>id_featuretype</th>\n",
        "      <th>en_featuretype</th>\n",
        "      <th>xy_type</th>\n",
        "      <th>partof_prov</th>\n",
        "      <th>partof_uezd</th>\n",
        "      <th>partof_prov_name</th>\n",
        "      <th>partof_uezd_name</th>\n",
        "    </tr>\n",
        "    <tr>\n",
        "      <th>uniq_id</th>\n",
        "      <th></th>\n",
        "      <th></th>\n",
        "      <th></th>\n",
        "      <th></th>\n",
        "      <th></th>\n",
        "      <th></th>\n",
        "      <th></th>\n",
        "      <th></th>\n",
        "      <th></th>\n",
        "      <th></th>\n",
        "      <th></th>\n",
        "      <th></th>\n",
        "      <th></th>\n",
        "      <th></th>\n",
        "      <th></th>\n",
        "      <th></th>\n",
        "      <th></th>\n",
        "      <th></th>\n",
        "      <th></th>\n",
        "      <th></th>\n",
        "      <th></th>\n",
        "    </tr>\n",
        "  </thead>\n",
        "  <tbody>\n",
        "    <tr>\n",
        "      <th>84</th>\n",
        "      <td> \u041a\u0440\u0430\u0441\u043d\u043e\u0441\u043b\u043e\u0431\u043e\u0434\u0441\u043a\u044a</td>\n",
        "      <td> NaN</td>\n",
        "      <td> 22</td>\n",
        "      <td> 43.78963</td>\n",
        "      <td> 54.4253</td>\n",
        "      <td> \u0433\u043e\u0440\u043e\u0434\u044a</td>\n",
        "      <td> http://babel.hathitrust.org/cgi/pt?id=uc1.b458...</td>\n",
        "      <td> \u041a\u0420\u0410\u0421\u041d\u041e\u0421\u041b\u041e\u0411\u041e\u0414\u0421\u041a\u042a , \u0433\u043e\u0440\u043e\u0434\u044a \u041f\u0435\u043d\u0437\u0435\u043d\u0441\u043a\u0430\u0433\u043e \u041d\u0430\u043c\u0463\u0441\u0442\u043d\u0438\u0447...</td>\n",
        "      <td> \u041a\u0440\u0430\u0441\u043d\u043e\u0441\u043b\u043e\u0431\u043e\u0434\u0441\u043a\u0438\u0439</td>\n",
        "      <td> Krasnoslobodskii</td>\n",
        "      <td>...</td>\n",
        "      <td>NaN</td>\n",
        "      <td>NaN</td>\n",
        "      <td>NaN</td>\n",
        "      <td>NaN</td>\n",
        "      <td>NaN</td>\n",
        "      <td> POINT</td>\n",
        "      <td> 22</td>\n",
        "      <td> 84</td>\n",
        "      <td> \u041f\u0435\u043d\u0437\u0435\u043d\u0441\u043a\u043e\u0435 \u041d\u0430\u043c\u0463\u0441\u0442\u043d\u0438\u0447\u0435\u0441\u0442\u0432\u043e</td>\n",
        "      <td> \u041a\u0440\u0430\u0441\u043d\u043e\u0441\u043b\u043e\u0431\u043e\u0434\u0441\u043a\u0438\u0439 \u0443\u0435\u0437\u0434</td>\n",
        "    </tr>\n",
        "  </tbody>\n",
        "</table>\n",
        "<p>1 rows \u00d7 23 columns</p>\n",
        "</div>"
       ],
       "metadata": {},
       "output_type": "pyout",
       "prompt_number": 184,
       "text": [
        "             ru_old_orth alt_name  partof_id   x_coord  y_coord  \\\n",
        "uniq_id                                                           \n",
        "84       \u041a\u0440\u0430\u0441\u043d\u043e\u0441\u043b\u043e\u0431\u043e\u0434\u0441\u043a\u044a      NaN         22  43.78963  54.4253   \n",
        "\n",
        "        ru_featuretype                                             SOURCE  \\\n",
        "uniq_id                                                                     \n",
        "84              \u0433\u043e\u0440\u043e\u0434\u044a  http://babel.hathitrust.org/cgi/pt?id=uc1.b458...   \n",
        "\n",
        "                                               description       ru_new_orth  \\\n",
        "uniq_id                                                                        \n",
        "84       \u041a\u0420\u0410\u0421\u041d\u041e\u0421\u041b\u041e\u0411\u041e\u0414\u0421\u041a\u042a , \u0433\u043e\u0440\u043e\u0434\u044a \u041f\u0435\u043d\u0437\u0435\u043d\u0441\u043a\u0430\u0433\u043e \u041d\u0430\u043c\u0463\u0441\u0442\u043d\u0438\u0447...  \u041a\u0440\u0430\u0441\u043d\u043e\u0441\u043b\u043e\u0431\u043e\u0434\u0441\u043a\u0438\u0439   \n",
        "\n",
        "                 lc_trans        ...        beg_yr end_yr lc_featuretype  \\\n",
        "uniq_id                          ...                                       \n",
        "84       Krasnoslobodskii        ...           NaN    NaN            NaN   \n",
        "\n",
        "         id_featuretype  en_featuretype  xy_type  partof_prov  partof_uezd  \\\n",
        "uniq_id                                                                      \n",
        "84                  NaN             NaN    POINT           22           84   \n",
        "\n",
        "                  partof_prov_name       partof_uezd_name  \n",
        "uniq_id                                                    \n",
        "84       \u041f\u0435\u043d\u0437\u0435\u043d\u0441\u043a\u043e\u0435 \u041d\u0430\u043c\u0463\u0441\u0442\u043d\u0438\u0447\u0435\u0441\u0442\u0432\u043e  \u041a\u0440\u0430\u0441\u043d\u043e\u0441\u043b\u043e\u0431\u043e\u0434\u0441\u043a\u0438\u0439 \u0443\u0435\u0437\u0434  \n",
        "\n",
        "[1 rows x 23 columns]"
       ]
      }
     ],
     "prompt_number": 184
    },
    {
     "cell_type": "code",
     "collapsed": false,
     "input": [
      "dedupe.to_csv(\"hgr_test_set_5.csv\",encoding='utf-8')"
     ],
     "language": "python",
     "metadata": {},
     "outputs": [],
     "prompt_number": 185
    },
    {
     "cell_type": "code",
     "collapsed": false,
     "input": [
      "dedupe.tail()"
     ],
     "language": "python",
     "metadata": {},
     "outputs": [
      {
       "html": [
        "<div style=\"max-height:1000px;max-width:1500px;overflow:auto;\">\n",
        "<table border=\"1\" class=\"dataframe\">\n",
        "  <thead>\n",
        "    <tr style=\"text-align: right;\">\n",
        "      <th></th>\n",
        "      <th>ru_old_orth</th>\n",
        "      <th>alt_name</th>\n",
        "      <th>partof_id</th>\n",
        "      <th>x_coord</th>\n",
        "      <th>y_coord</th>\n",
        "      <th>ru_featuretype</th>\n",
        "      <th>SOURCE</th>\n",
        "      <th>description</th>\n",
        "      <th>ru_new_orth</th>\n",
        "      <th>lc_trans</th>\n",
        "      <th>...</th>\n",
        "      <th>beg_yr</th>\n",
        "      <th>end_yr</th>\n",
        "      <th>lc_featuretype</th>\n",
        "      <th>id_featuretype</th>\n",
        "      <th>en_featuretype</th>\n",
        "      <th>xy_type</th>\n",
        "      <th>partof_prov</th>\n",
        "      <th>partof_uezd</th>\n",
        "      <th>partof_prov_name</th>\n",
        "      <th>partof_uezd_name</th>\n",
        "    </tr>\n",
        "    <tr>\n",
        "      <th>uniq_id</th>\n",
        "      <th></th>\n",
        "      <th></th>\n",
        "      <th></th>\n",
        "      <th></th>\n",
        "      <th></th>\n",
        "      <th></th>\n",
        "      <th></th>\n",
        "      <th></th>\n",
        "      <th></th>\n",
        "      <th></th>\n",
        "      <th></th>\n",
        "      <th></th>\n",
        "      <th></th>\n",
        "      <th></th>\n",
        "      <th></th>\n",
        "      <th></th>\n",
        "      <th></th>\n",
        "      <th></th>\n",
        "      <th></th>\n",
        "      <th></th>\n",
        "      <th></th>\n",
        "    </tr>\n",
        "  </thead>\n",
        "  <tbody>\n",
        "    <tr>\n",
        "      <th>134</th>\n",
        "      <td>     \u042e\u0440\u044c\u0435\u0432\u0446\u043a\u0438\u0439</td>\n",
        "      <td> NaN</td>\n",
        "      <td> 14</td>\n",
        "      <td> 43.10410</td>\n",
        "      <td> 57.32007</td>\n",
        "      <td>           \u0443\u0435\u0437\u0434</td>\n",
        "      <td>                                               NaN</td>\n",
        "      <td>                                               NaN</td>\n",
        "      <td>   \u042e\u0440\u044c\u0435\u0432\u0446\u043a\u0438\u0439</td>\n",
        "      <td>    Iur'evtskii</td>\n",
        "      <td>...</td>\n",
        "      <td>NaN</td>\n",
        "      <td>NaN</td>\n",
        "      <td>NaN</td>\n",
        "      <td>NaN</td>\n",
        "      <td>NaN</td>\n",
        "      <td> POINT</td>\n",
        "      <td> 14</td>\n",
        "      <td> 134</td>\n",
        "      <td>       \u041a\u043e\u0441\u0442\u0440\u043e\u043c\u0441\u043a\u043e\u0435 \u041d\u0430\u043c\u0463\u0441\u0442\u043d\u0438\u0447\u0435\u0441\u0442\u0432\u043e</td>\n",
        "      <td>   \u042e\u0440\u044c\u0435\u0432\u0446\u043a\u0438\u0439 \u0443\u0435\u0437\u0434</td>\n",
        "    </tr>\n",
        "    <tr>\n",
        "      <th>135</th>\n",
        "      <td>      \u042f\u0440\u0435\u043d\u0441\u043a\u0438\u0439</td>\n",
        "      <td> NaN</td>\n",
        "      <td>  4</td>\n",
        "      <td> 49.09162</td>\n",
        "      <td> 62.16755</td>\n",
        "      <td>           \u0443\u0435\u0437\u0434</td>\n",
        "      <td>                                               NaN</td>\n",
        "      <td>                                               NaN</td>\n",
        "      <td>    \u042f\u0440\u0435\u043d\u0441\u043a\u0438\u0439</td>\n",
        "      <td>      Iarenskii</td>\n",
        "      <td>...</td>\n",
        "      <td>NaN</td>\n",
        "      <td>NaN</td>\n",
        "      <td>NaN</td>\n",
        "      <td>NaN</td>\n",
        "      <td>NaN</td>\n",
        "      <td> POINT</td>\n",
        "      <td>  4</td>\n",
        "      <td> 135</td>\n",
        "      <td>       \u0412\u043e\u043b\u043e\u0433\u043e\u0434\u0441\u043a\u043e\u0435 \u041d\u0430\u043c\u0463\u0441\u0442\u043d\u0438\u0447\u0435\u0441\u0442\u0432\u043e</td>\n",
        "      <td>    \u042f\u0440\u0435\u043d\u0441\u043a\u0438\u0439 \u0443\u0435\u0437\u0434</td>\n",
        "    </tr>\n",
        "    <tr>\n",
        "      <th>136</th>\n",
        "      <td>   \u042f\u0440\u043e\u0441\u043b\u0430\u0432\u0441\u043a\u0438\u0439</td>\n",
        "      <td> NaN</td>\n",
        "      <td> 39</td>\n",
        "      <td> 39.87368</td>\n",
        "      <td> 57.62987</td>\n",
        "      <td>           \u0443\u0435\u0437\u0434</td>\n",
        "      <td>                                               NaN</td>\n",
        "      <td>                                               NaN</td>\n",
        "      <td> \u042f\u0440\u043e\u0441\u043b\u0430\u0432\u0441\u043a\u0438\u0439</td>\n",
        "      <td>   Iaroslavskii</td>\n",
        "      <td>...</td>\n",
        "      <td>NaN</td>\n",
        "      <td>NaN</td>\n",
        "      <td>NaN</td>\n",
        "      <td>NaN</td>\n",
        "      <td>NaN</td>\n",
        "      <td> POINT</td>\n",
        "      <td> 39</td>\n",
        "      <td> 136</td>\n",
        "      <td>       \u042f\u0440\u043e\u0441\u043b\u0430\u0432\u0441\u043a\u043e\u0435 \u041d\u0430\u043c\u0463\u0441\u0442\u043d\u0438\u0447\u0435\u0441\u0442\u0432\u043e</td>\n",
        "      <td> \u042f\u0440\u043e\u0441\u043b\u0430\u0432\u0441\u043a\u0438\u0439 \u0443\u0435\u0437\u0434</td>\n",
        "    </tr>\n",
        "    <tr>\n",
        "      <th>339</th>\n",
        "      <td>       \u041e\u043b\u043e\u043d\u0435\u0446\u044a</td>\n",
        "      <td> NaN</td>\n",
        "      <td> 20</td>\n",
        "      <td> 32.96976</td>\n",
        "      <td> 60.98475</td>\n",
        "      <td> \u0443\u0463\u0437\u0434\u043d\u044b\u0439 \u0433\u043e\u0440\u043e\u0434\u044a</td>\n",
        "      <td> http://babel.hathitrust.org/cgi/pt?id=uc1.b458...</td>\n",
        "      <td> \u041e\u041b\u041e\u041d\u0415\u0426\u042a, \u0443\u0463\u0437\u0434\u043d\u044b\u0439 \u0433\u043e\u0440\u043e\u0434\u044a \u041d\u0430\u043c\u0463\u0441\u0442\u043d\u0438\u0447\u0435\u0441\u0442\u0432\u0430 \u0441\u0435\u0433\u043e \u0438\u043c...</td>\n",
        "      <td>      \u041e\u043b\u043e\u043d\u0435\u0446</td>\n",
        "      <td>       Olonets\"</td>\n",
        "      <td>...</td>\n",
        "      <td>NaN</td>\n",
        "      <td>NaN</td>\n",
        "      <td>NaN</td>\n",
        "      <td>NaN</td>\n",
        "      <td>NaN</td>\n",
        "      <td> POINT</td>\n",
        "      <td> 20</td>\n",
        "      <td> NaN</td>\n",
        "      <td>         \u041e\u043b\u043e\u043d\u0435\u0446\u043a\u043e\u0435 \u041d\u0430\u043c\u0463\u0441\u0442\u043d\u0438\u0447\u0435\u0441\u0442\u0432\u043e</td>\n",
        "      <td>              NaN</td>\n",
        "    </tr>\n",
        "    <tr>\n",
        "      <th>317</th>\n",
        "      <td> \u041c\u0438\u0448\u0443\u0440\u0438\u043d\u044a \u0420\u043e\u0433\u044a</td>\n",
        "      <td> NaN</td>\n",
        "      <td>  8</td>\n",
        "      <td> 33.94792</td>\n",
        "      <td> 48.81817</td>\n",
        "      <td>          \u0448\u0430\u043d\u0446\u044a</td>\n",
        "      <td> http://babel.hathitrust.org/cgi/pt?id=uc1.b458...</td>\n",
        "      <td> \u041c\u0418\u0428\u0423\u0420\u0418\u041d\u042a \u0420\u041e\u0413\u042a, \u0448\u0430\u043d\u0446\u044a \u0415\u043a\u0430\u0442\u0435\u0440\u0438\u043d\u043e\u0441\u043b\u0430\u0432\u0441\u043a\u0430\u0433\u043e \u041d\u0430\u043c\u0463\u0441\u0442...</td>\n",
        "      <td> \u041c\u0438\u0448\u0443\u0440\u0438\u043d \u0420\u043e\u0433</td>\n",
        "      <td> Mishurin\" Rog\"</td>\n",
        "      <td>...</td>\n",
        "      <td>NaN</td>\n",
        "      <td>NaN</td>\n",
        "      <td>NaN</td>\n",
        "      <td>NaN</td>\n",
        "      <td>NaN</td>\n",
        "      <td> POINT</td>\n",
        "      <td>  8</td>\n",
        "      <td> NaN</td>\n",
        "      <td> \u0415\u043a\u0430\u0442\u0435\u0440\u0438\u043d\u043e\u0441\u043b\u0430\u0432\u0441\u043a\u043e\u0435 \u041d\u0430\u043c\u0463\u0441\u0442\u043d\u0438\u0447\u0435\u0441\u0442\u0432\u043e</td>\n",
        "      <td>              NaN</td>\n",
        "    </tr>\n",
        "  </tbody>\n",
        "</table>\n",
        "<p>5 rows \u00d7 23 columns</p>\n",
        "</div>"
       ],
       "metadata": {},
       "output_type": "pyout",
       "prompt_number": 129,
       "text": [
        "           ru_old_orth alt_name  partof_id   x_coord   y_coord  \\\n",
        "uniq_id                                                          \n",
        "134          \u042e\u0440\u044c\u0435\u0432\u0446\u043a\u0438\u0439      NaN         14  43.10410  57.32007   \n",
        "135           \u042f\u0440\u0435\u043d\u0441\u043a\u0438\u0439      NaN          4  49.09162  62.16755   \n",
        "136        \u042f\u0440\u043e\u0441\u043b\u0430\u0432\u0441\u043a\u0438\u0439      NaN         39  39.87368  57.62987   \n",
        "339            \u041e\u043b\u043e\u043d\u0435\u0446\u044a      NaN         20  32.96976  60.98475   \n",
        "317      \u041c\u0438\u0448\u0443\u0440\u0438\u043d\u044a \u0420\u043e\u0433\u044a      NaN          8  33.94792  48.81817   \n",
        "\n",
        "         ru_featuretype                                             SOURCE  \\\n",
        "uniq_id                                                                      \n",
        "134                \u0443\u0435\u0437\u0434                                                NaN   \n",
        "135                \u0443\u0435\u0437\u0434                                                NaN   \n",
        "136                \u0443\u0435\u0437\u0434                                                NaN   \n",
        "339      \u0443\u0463\u0437\u0434\u043d\u044b\u0439 \u0433\u043e\u0440\u043e\u0434\u044a  http://babel.hathitrust.org/cgi/pt?id=uc1.b458...   \n",
        "317               \u0448\u0430\u043d\u0446\u044a  http://babel.hathitrust.org/cgi/pt?id=uc1.b458...   \n",
        "\n",
        "                                               description  ru_new_orth  \\\n",
        "uniq_id                                                                   \n",
        "134                                                    NaN    \u042e\u0440\u044c\u0435\u0432\u0446\u043a\u0438\u0439   \n",
        "135                                                    NaN     \u042f\u0440\u0435\u043d\u0441\u043a\u0438\u0439   \n",
        "136                                                    NaN  \u042f\u0440\u043e\u0441\u043b\u0430\u0432\u0441\u043a\u0438\u0439   \n",
        "339      \u041e\u041b\u041e\u041d\u0415\u0426\u042a, \u0443\u0463\u0437\u0434\u043d\u044b\u0439 \u0433\u043e\u0440\u043e\u0434\u044a \u041d\u0430\u043c\u0463\u0441\u0442\u043d\u0438\u0447\u0435\u0441\u0442\u0432\u0430 \u0441\u0435\u0433\u043e \u0438\u043c...       \u041e\u043b\u043e\u043d\u0435\u0446   \n",
        "317      \u041c\u0418\u0428\u0423\u0420\u0418\u041d\u042a \u0420\u041e\u0413\u042a, \u0448\u0430\u043d\u0446\u044a \u0415\u043a\u0430\u0442\u0435\u0440\u0438\u043d\u043e\u0441\u043b\u0430\u0432\u0441\u043a\u0430\u0433\u043e \u041d\u0430\u043c\u0463\u0441\u0442...  \u041c\u0438\u0448\u0443\u0440\u0438\u043d \u0420\u043e\u0433   \n",
        "\n",
        "               lc_trans       ...       beg_yr end_yr lc_featuretype  \\\n",
        "uniq_id                       ...                                      \n",
        "134         Iur'evtskii       ...          NaN    NaN            NaN   \n",
        "135           Iarenskii       ...          NaN    NaN            NaN   \n",
        "136        Iaroslavskii       ...          NaN    NaN            NaN   \n",
        "339            Olonets\"       ...          NaN    NaN            NaN   \n",
        "317      Mishurin\" Rog\"       ...          NaN    NaN            NaN   \n",
        "\n",
        "         id_featuretype  en_featuretype  xy_type  partof_prov  partof_uezd  \\\n",
        "uniq_id                                                                      \n",
        "134                 NaN             NaN    POINT           14          134   \n",
        "135                 NaN             NaN    POINT            4          135   \n",
        "136                 NaN             NaN    POINT           39          136   \n",
        "339                 NaN             NaN    POINT           20          NaN   \n",
        "317                 NaN             NaN    POINT            8          NaN   \n",
        "\n",
        "                         partof_prov_name  partof_uezd_name  \n",
        "uniq_id                                                      \n",
        "134            \u041a\u043e\u0441\u0442\u0440\u043e\u043c\u0441\u043a\u043e\u0435 \u041d\u0430\u043c\u0463\u0441\u0442\u043d\u0438\u0447\u0435\u0441\u0442\u0432\u043e    \u042e\u0440\u044c\u0435\u0432\u0446\u043a\u0438\u0439 \u0443\u0435\u0437\u0434  \n",
        "135            \u0412\u043e\u043b\u043e\u0433\u043e\u0434\u0441\u043a\u043e\u0435 \u041d\u0430\u043c\u0463\u0441\u0442\u043d\u0438\u0447\u0435\u0441\u0442\u0432\u043e     \u042f\u0440\u0435\u043d\u0441\u043a\u0438\u0439 \u0443\u0435\u0437\u0434  \n",
        "136            \u042f\u0440\u043e\u0441\u043b\u0430\u0432\u0441\u043a\u043e\u0435 \u041d\u0430\u043c\u0463\u0441\u0442\u043d\u0438\u0447\u0435\u0441\u0442\u0432\u043e  \u042f\u0440\u043e\u0441\u043b\u0430\u0432\u0441\u043a\u0438\u0439 \u0443\u0435\u0437\u0434  \n",
        "339              \u041e\u043b\u043e\u043d\u0435\u0446\u043a\u043e\u0435 \u041d\u0430\u043c\u0463\u0441\u0442\u043d\u0438\u0447\u0435\u0441\u0442\u0432\u043e               NaN  \n",
        "317      \u0415\u043a\u0430\u0442\u0435\u0440\u0438\u043d\u043e\u0441\u043b\u0430\u0432\u0441\u043a\u043e\u0435 \u041d\u0430\u043c\u0463\u0441\u0442\u043d\u0438\u0447\u0435\u0441\u0442\u0432\u043e               NaN  \n",
        "\n",
        "[5 rows x 23 columns]"
       ]
      }
     ],
     "prompt_number": 129
    },
    {
     "cell_type": "code",
     "collapsed": false,
     "input": [
      "new_single_results['pres_loc'], new_single_results['country'], new_single_results['country_code'] = np.vectorize(reverse_geocode)(new_single_results.lng,new_single_results.lat_y)"
     ],
     "language": "python",
     "metadata": {},
     "outputs": []
    },
    {
     "cell_type": "code",
     "collapsed": false,
     "input": [
      "new_single_results = new_single_results[['lat_x', 'hgr_id', 'name', 'alt_name', 'partof_id', 'lng', 'lat_y', '_type', 'source_url', 'text', 'name_modern_sp', 'lc_translit', 'pres_loc', 'country', 'country_code', 'result_placename', 'searched_placename', 'admin1', 'country_name', 'src_id', 'url', 'src', 'ru_prov', 'prov_modern_sp', 'prov_stem', 'ru_uezd', 'page']]"
     ],
     "language": "python",
     "metadata": {},
     "outputs": []
    },
    {
     "cell_type": "code",
     "collapsed": false,
     "input": [
      "new_single_results.to_csv(\"new_single_results.csv\",encoding='utf-8')"
     ],
     "language": "python",
     "metadata": {},
     "outputs": []
    },
    {
     "cell_type": "code",
     "collapsed": false,
     "input": [
      "uezd = geodf_merged.uezd_stem.unique()\n",
      "uezd.sort()\n",
      "print(uezd)"
     ],
     "language": "python",
     "metadata": {},
     "outputs": []
    },
    {
     "cell_type": "code",
     "collapsed": false,
     "input": [
      "pd.options.display.max_colwidth = 1000"
     ],
     "language": "python",
     "metadata": {},
     "outputs": []
    },
    {
     "cell_type": "code",
     "collapsed": false,
     "input": [
      "geodf_merged.ix[geodf_merged.uezd_stem=='\u043f\u0438\u0440\u044f\u0442\u0438\u043d\u0441\u043a'][['name','text','ru_prov','ru_uezd']]"
     ],
     "language": "python",
     "metadata": {},
     "outputs": []
    },
    {
     "cell_type": "code",
     "collapsed": false,
     "input": [
      "geodf_merged.ix[geodf_merged.name=='\u041f\u0438\u0440\u044f\u0442\u0438\u043d\u044a'][['name','text','ru_prov','ru_uezd']]"
     ],
     "language": "python",
     "metadata": {},
     "outputs": []
    },
    {
     "cell_type": "code",
     "collapsed": false,
     "input": [
      "geodf_merged.columns"
     ],
     "language": "python",
     "metadata": {},
     "outputs": [
      {
       "metadata": {},
       "output_type": "pyout",
       "prompt_number": 14,
       "text": [
        "Index(['hgr_id', 'name', 'alt_name', 'partof_id', 'lng', 'lat', '_type', 'source_url', 'text', 'name_modern_sp', 'result_placename', 'searched_placename', 'admin1', 'country_name', 'src_id', 'country_code', 'url', 'src', 'ru_prov', 'prov_modern_sp', 'prov_stem', 'ru_uezd', 'uezd_modern_sp', 'uezd_stem', 'page', 'lc_translit'], dtype='object')"
       ]
      }
     ],
     "prompt_number": 14
    },
    {
     "cell_type": "code",
     "collapsed": false,
     "input": [
      "geodf_merged.ix[geodf_merged.country_name == 'not_found'].to_csv('not_found_bounded.csv',encoding='utf-8')"
     ],
     "language": "python",
     "metadata": {},
     "outputs": [],
     "prompt_number": 18
    }
   ],
   "metadata": {}
  }
 ]
}