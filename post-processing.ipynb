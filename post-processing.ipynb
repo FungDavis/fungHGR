{
 "metadata": {
  "name": "",
  "signature": "sha256:df61b2d1de977b6259679f7380e709af5bad98304707ef4e47215d9bdf58c8a9"
 },
 "nbformat": 3,
 "nbformat_minor": 0,
 "worksheets": [
  {
   "cells": [
    {
     "cell_type": "code",
     "collapsed": false,
     "input": [
      "import pandas as pd\n",
      "import numpy as np\n",
      "import json, re, requests, time"
     ],
     "language": "python",
     "metadata": {},
     "outputs": [],
     "prompt_number": 1
    },
    {
     "cell_type": "code",
     "collapsed": false,
     "input": [
      "geodf_merged = pd.DataFrame.from_csv(\"geocoded_merged.csv\")"
     ],
     "language": "python",
     "metadata": {},
     "outputs": [],
     "prompt_number": 2
    },
    {
     "cell_type": "code",
     "collapsed": false,
     "input": [
      "finding_counts = geodf_merged.ix[geodf_merged.result_placename!='not_found'].pivot_table(index='hgr_id',values='lat',aggfunc=lambda x: len(x.unique()))\n",
      "fdf = pd.DataFrame(finding_counts)\n",
      "single_results = pd.merge(fdf.ix[fdf.lat==1],geodf_merged,left_index=True,right_on='hgr_id')\n",
      "single_results = single_results.ix[single_results.result_placename!='not_found']"
     ],
     "language": "python",
     "metadata": {},
     "outputs": [],
     "prompt_number": 3
    },
    {
     "cell_type": "code",
     "collapsed": false,
     "input": [
      "hgr_set = pd.DataFrame.from_csv(\"hgr_test_set_2.csv\")"
     ],
     "language": "python",
     "metadata": {},
     "outputs": [],
     "prompt_number": 4
    },
    {
     "cell_type": "code",
     "collapsed": false,
     "input": [
      "single_results['isold'] = single_results.text.isin(hgr_set.description)\n",
      "new_single_results = single_results.ix[single_results.isold==False]"
     ],
     "language": "python",
     "metadata": {},
     "outputs": [],
     "prompt_number": 5
    },
    {
     "cell_type": "code",
     "collapsed": false,
     "input": [
      "def reverse_geocode(lng,lat):\n",
      "    keepgoing = True\n",
      "    while keepgoing == True:\n",
      "        try:\n",
      "            url = \"https://maps.googleapis.com/maps/api/geocode/json\"\n",
      "            Q = {'latlng':\"{},{}\".format(lat,lng)}\n",
      "            R = requests.get(url, params=Q)\n",
      "            print(R.url)\n",
      "            geo_response = R.json()\n",
      "            locality = 'error'\n",
      "            for component in geo_response['results'][0]['address_components']:\n",
      "                if 'locality' in component['types']:\n",
      "                    locality = component['long_name']\n",
      "                elif 'administrative_area_level_1' in component['types']:\n",
      "                    admin1 = component['long_name']\n",
      "                elif 'country' in component['types']:\n",
      "                    country = component['long_name']\n",
      "                    countryCode = component['short_name']\n",
      "            if locality == 'error':\n",
      "                for component in geo_response['results'][0]['address_components']:\n",
      "                    if 'administrative_area_level_2' in component['types']:\n",
      "                        locality = component['long_name']\n",
      "            print(\"\\\"{0}, {1}\\\",\\\"{2}\\\",\\\"{3}\\\"\".format(locality,admin1,country,countryCode))\n",
      "            time.sleep(1)\n",
      "            keepgoing = False\n",
      "        except IndexError:\n",
      "            time.sleep(1)\n",
      "            continue\n",
      "        return \"{}, {}\".format(locality,admin1), country, countryCode"
     ],
     "language": "python",
     "metadata": {},
     "outputs": [],
     "prompt_number": 6
    },
    {
     "cell_type": "code",
     "collapsed": false,
     "input": [
      "cyrillic_translit={u'\\u0410': 'A', u'\\u0430': 'a',u'\\u0411': 'B', u'\\u0431': 'b',u'\\u0412': 'V', u'\\u0432': 'v',u'\\u0413': 'G', u'\\u0433': 'g',u'\\u0414': 'D', u'\\u0434': 'd',u'\\u0415': 'E', u'\\u0435': 'e',u'\\u0416': 'Zh', u'\\u0436': 'zh',u'\\u0417': 'Z', u'\\u0437': 'z',u'\\u0418': 'I', u'\\u0438': 'i',u'\\u0419': 'I', u'\\u0439': 'i',u'\\u041a': 'K', u'\\u043a': 'k',u'\\u041b': 'L', u'\\u043b': 'l',u'\\u041c': 'M', u'\\u043c': 'm',u'\\u041d': 'N', u'\\u043d': 'n',u'\\u041e': 'O', u'\\u043e': 'o',u'\\u041f': 'P', u'\\u043f': 'p',u'\\u0420': 'R', u'\\u0440': 'r',u'\\u0421': 'S', u'\\u0441': 's',u'\\u0422': 'T', u'\\u0442': 't',u'\\u0423': 'U', u'\\u0443': 'u',u'\\u0424': 'F', u'\\u0444': 'f',u'\\u0425': 'Kh', u'\\u0445': 'kh',u'\\u0426': 'Ts', u'\\u0446': 'ts',u'\\u0427': 'Ch', u'\\u0447': 'ch',u'\\u0428': 'Sh', u'\\u0448': 'sh',u'\\u0429': 'Shch', u'\\u0449': 'shch',u'\\u042a': '\"', u'\\u044a': '\"',u'\\u042b': 'Y', u'\\u044b': 'y',u'\\u042c': \"'\", u'\\u044c': \"'\",u'\\u042d': 'E', u'\\u044d': 'e',u'\\u042e': 'Iu', u'\\u044e': 'iu',u'\\u042f': 'Ia', u'\\u044f': 'ia',u'\\u0462': 'E', u'\\u0463': 'e'}\n",
      "\n",
      "def transliterate(word, translit_table):\n",
      "    \"\"\"\n",
      "    Transliterates 'word' based on the key/value pairs in 'translit_table'\n",
      "    \"\"\"\n",
      "    converted_word = ''\n",
      "    for char in word:\n",
      "        transchar = ''\n",
      "        if char in translit_table:\n",
      "            transchar = translit_table[char]\n",
      "        else:\n",
      "            transchar = char\n",
      "        converted_word += transchar\n",
      "    return converted_word"
     ],
     "language": "python",
     "metadata": {},
     "outputs": [],
     "prompt_number": 7
    },
    {
     "cell_type": "code",
     "collapsed": false,
     "input": [
      "to_be_processed = pd.DataFrame.from_csv(\"hgr_test_set_2.csv\")\n",
      "to_be_processed.columns"
     ],
     "language": "python",
     "metadata": {},
     "outputs": [
      {
       "metadata": {},
       "output_type": "pyout",
       "prompt_number": 6,
       "text": [
        "Index(['ru_old_orth', 'alt_name', 'partof_id', 'x_coord', 'y_coord', 'ru_featuretype', 'SOURCE', 'description', 'ru_new_orth', 'lc_trans', 'pres_loc', 'pres_country', 'country_code', 'beg_yr', 'end_yr', 'lc_featuretype', 'id_featuretype', 'en_featuretype', 'xy_type', 'partof_prov', 'partof_uezd'], dtype='object')"
       ]
      }
     ],
     "prompt_number": 6
    },
    {
     "cell_type": "code",
     "collapsed": false,
     "input": [
      "import re,json\n",
      "from lxml import html\n",
      "\n",
      "lookup_dict = {}\n",
      "with open(\"special_cases.json\",'r') as fp:\n",
      "    lookup_dict = json.load(fp)\n",
      "\n",
      "def ortho_rules(text,lookup_dict):\n",
      "    \"\"\"\n",
      "    Takes a text string and a lookup dict as input\n",
      "    Removes any lingering html tags\n",
      "    Breaks the string down into component words with split\n",
      "    Uses replacements to modernize orthography\n",
      "    Returns re-assembled text with modern orthography\n",
      "    \"\"\"\n",
      "    if text is not None:\n",
      "        text = html.fromstring(text).text_content()\n",
      "        textlist = text.split(' ')\n",
      "        out_list = []\n",
      "        for word in textlist:\n",
      "            if word in [',','.',';',':']:\n",
      "                out_list.append(word)\n",
      "            word = word.strip(',.;:')\n",
      "            if word in lookup_dict:\n",
      "                word = lookup_dict[word]\n",
      "                out_list.append(word)\n",
      "            else:\n",
      "                word = re.sub(\"[\u042a\u044a]$\",'',word)\n",
      "                word = re.sub(r\"^([\u0447\u0435]{0,2}[\u0447]?[\u0432\u0431\u043d\u0440]?[\u0432\u0435\u043e\u0430\u0438])\u0437([\u041f\u0424\u041a\u0422\u0428\u0421\u0427\u043f\u0444\u043a\u0442\u0448\u0441\u0447])\",r\"\\1\u0441\\2\",word,re.IGNORECASE)\n",
      "                word = re.sub(\"\u0430\u0433\u043e$\",\"\u043e\u0433\u043e\",word,re.IGNORECASE)\n",
      "                word = re.sub(\"\u044f\u0433\u043e$\",\"\u0435\u0433\u043e\",word,re.IGNORECASE)\n",
      "                word = re.sub(\"\u044b\u044f$\",\"\u044b\u0435\",word,re.IGNORECASE)\n",
      "                word = re.sub(\"i\u044f$\",\"\u0438\u0435\",word,re.IGNORECASE)\n",
      "                word = word.replace('i','\u0438') #english\n",
      "                word = word.replace('I','\u0418') #english\n",
      "                word = word.replace('\u0456','\u0438') #cyrillic\n",
      "                word = word.replace('\u0406','\u0418') #cyrillic\n",
      "                word = word.replace('\u0462','\u0415')\n",
      "                word = word.replace('\u0463','\u0435')\n",
      "                word = word.replace('\u0472','\u0424')\n",
      "                word = word.replace('\u0473','\u0444')\n",
      "                out_list.append(word)\n",
      "        out_str = ' '.join(out_list)\n",
      "        return out_str\n",
      "    else:\n",
      "        return \"None\""
     ],
     "language": "python",
     "metadata": {},
     "outputs": [],
     "prompt_number": 7
    },
    {
     "cell_type": "code",
     "collapsed": false,
     "input": [
      "ortho_rules(\"\u0423\u0420\u0410\u041b\u042c\u0421\u041a\u042a, \u0433\u043b\u0430\u0432\u043d\u044b\u0439 \u0433\u043e\u0440\u043e\u0434\u044a \u0443\u0440\u0430\u043b\u044c\u0441\u043a\u0438\u0445\u044a \u041a\u043e\u0437\u0430\u043a\u043e\u0432\u044a \u0432\u044a \u041a\u0430\u0432\u043a\u0430\u0437\u0441\u043a\u043e\u043c\u044a \u041d\u0430\u043c\u0463\u0441\u0442\u043d\u0438\u0447\u0435\u0441\u0442\u0432\u0463. \u0417\u0434\u0463\u0441\u044c \u0431\u044b\u0432\u0430\u044e\u0442\u044a \u044f\u0440\u043c\u0430\u0440\u043a\u0438 \u0432\u044a \u0406\u044e\u043d\u0463 , \u0406\u044e\u043b\u0463, \u0432\u044a \u0421\u0435\u043d\u0442\u044f\u0431\u0440\u0463, \u041e\u043a\u0442\u044f\u0431\u0440\u0463, \u0432\u044a \u0413\u0435\u043d\u0432\u0430\u0440\u0463 \u0438 \u0424\u0435\u0432\u0440\u0430\u043b\u0463 \u043c\u0463\u0441\u044f\u0446\u0430\u0445\u044a; \u043f\u0440\u0456\u0463\u0437\u0436\u0430\u044e\u0442\u044a \u0440\u0430\u0437\u043d\u044b\u0445\u044a \u0433\u043e\u0440\u043e\u0434\u043e\u0432\u044a \u043a\u0443\u043f\u0446\u044b, \u043f\u0440\u0438\u0432\u043e\u0437\u044f\u0442\u044a \u0445\u043b\u0463\u0431\u044a, \u0448\u0435\u043b\u043a\u043e\u0432\u044b\u0435 \u0438 \u0431\u0443\u043c\u0430\u0436\u043d\u044b\u0435 \u0442\u043e\u0432\u0430\u0440\u044b, \u0448\u0435\u0440\u0441\u0442\u044f\u043d\u044b\u044f \u043c\u0430\u0442\u0435\u0440\u0456\u0438 , \u0441\u0443\u043a\u043d\u0430 \u0438 \u043f\u0440\u043e\u0447\u0435\u0435; \u0437\u0434\u0463\u0441\u044c \u043f\u043e\u043a\u0443\u043f\u0430\u044e\u0442\u044a \u0440\u0430\u0437\u043d\u044b\u0445\u044a \u0440\u043e\u0434\u043e\u0432\u044a \u0440\u044b\u0431\u0443, \u0438\u043a\u0440\u0443 , \u043a\u043b\u0435\u0439 , \u0441\u0442\u0435\u043f\u043d\u044b\u0445\u044a \u0437\u0432\u0463\u0440\u0435\u0439, \u043a\u0430\u043a\u044a-\u0442\u043e \u043b\u0438\u0441\u0438\u0446\u044a, \u0432\u043e\u043b\u043a\u043e\u0432\u044a, \u0437\u0430\u0439\u0446\u043e\u0432\u044a, \u043a\u0443\u0448\u0430\u043a\u0438 \u0438 \u0441\u0435\u0440\u043c\u044f\u0436\u043d\u044b\u044f \u043f\u043e\u043b\u043e\u0442\u043d\u0430.\",lookup_dict)"
     ],
     "language": "python",
     "metadata": {},
     "outputs": [
      {
       "metadata": {},
       "output_type": "pyout",
       "prompt_number": 47,
       "text": [
        "'\u0423\u0420\u0410\u041b\u042c\u0421\u041a \u0433\u043b\u0430\u0432\u043d\u044b\u0439 \u0433\u043e\u0440\u043e\u0434 \u0443\u0440\u0430\u043b\u044c\u0441\u043a\u0438\u0445 \u041a\u043e\u0437\u0430\u043a\u043e\u0432 \u0432 \u041a\u0430\u0432\u043a\u0430\u0437\u0441\u043a\u043e\u043c \u041d\u0430\u043c\u0435\u0441\u0442\u043d\u0438\u0447\u0435\u0441\u0442\u0432\u0435 \u0417\u0434\u0435\u0441\u044c \u0431\u044b\u0432\u0430\u044e\u0442 \u044f\u0440\u043c\u0430\u0440\u043a\u0438 \u0432 \u0418\u044e\u043d\u0435 ,  \u0418\u044e\u043b\u0435 \u0432 \u0421\u0435\u043d\u0442\u044f\u0431\u0440\u0435 \u041e\u043a\u0442\u044f\u0431\u0440\u0435 \u0432 \u0413\u0435\u043d\u0432\u0430\u0440\u0435 \u0438 \u0424\u0435\u0432\u0440\u0430\u043b\u0435 \u043c\u0435\u0441\u044f\u0446\u0430\u0445 \u043f\u0440\u0438\u0435\u0437\u0436\u0430\u044e\u0442 \u0440\u0430\u0437\u043d\u044b\u0445 \u0433\u043e\u0440\u043e\u0434\u043e\u0432 \u043a\u0443\u043f\u0446\u044b \u043f\u0440\u0438\u0432\u043e\u0437\u044f\u0442 \u0445\u043b\u0435\u0431 \u0448\u0435\u043b\u043a\u043e\u0432\u044b\u0435 \u0438 \u0431\u0443\u043c\u0430\u0436\u043d\u044b\u0435 \u0442\u043e\u0432\u0430\u0440\u044b \u0448\u0435\u0440\u0441\u0442\u044f\u043d\u044b\u0435 \u043c\u0430\u0442\u0435\u0440\u0438\u0438 ,  \u0441\u0443\u043a\u043d\u0430 \u0438 \u043f\u0440\u043e\u0447\u0435\u0435 \u0437\u0434\u0435\u0441\u044c \u043f\u043e\u043a\u0443\u043f\u0430\u044e\u0442 \u0440\u0430\u0437\u043d\u044b\u0445 \u0440\u043e\u0434\u043e\u0432 \u0440\u044b\u0431\u0443 \u0438\u043a\u0440\u0443 ,  \u043a\u043b\u0435\u0439 ,  \u0441\u0442\u0435\u043f\u043d\u044b\u0445 \u0437\u0432\u0435\u0440\u0435\u0439 \u043a\u0430\u043a\u044a-\u0442\u043e \u043b\u0438\u0441\u0438\u0446 \u0432\u043e\u043b\u043a\u043e\u0432 \u0437\u0430\u0439\u0446\u043e\u0432 \u043a\u0443\u0448\u0430\u043a\u0438 \u0438 \u0441\u0435\u0440\u043c\u044f\u0436\u043d\u044b\u0435 \u043f\u043e\u043b\u043e\u0442\u043d\u0430'"
       ]
      }
     ],
     "prompt_number": 47
    },
    {
     "cell_type": "code",
     "collapsed": false,
     "input": [
      "to_be_processed['ru_new_orth'] = to_be_processed.ru_old_orth.apply(ortho_rules,args=[lookup_dict])"
     ],
     "language": "python",
     "metadata": {},
     "outputs": [],
     "prompt_number": 10
    },
    {
     "cell_type": "code",
     "collapsed": false,
     "input": [
      "to_be_processed.lc_trans = to_be_processed.ru_new_orth.apply(transliterate,args=[cyrillic_translit])"
     ],
     "language": "python",
     "metadata": {},
     "outputs": [],
     "prompt_number": 11
    },
    {
     "cell_type": "code",
     "collapsed": false,
     "input": [
      "to_be_processed['pres_loc'], to_be_processed['pres_country'], to_be_processed['country_code'] = np.vectorize(reverse_geocode)(to_be_processed.x_coord,to_be_processed.y_coord)"
     ],
     "language": "python",
     "metadata": {},
     "outputs": [
      {
       "output_type": "stream",
       "stream": "stdout",
       "text": [
        "https://maps.googleapis.com/maps/api/geocode/json?latlng=55.751667000000005%2C37.617778\n",
        "\"Moscow, Moscow\",\"Russia\",\"RU\"\n",
        "https://maps.googleapis.com/maps/api/geocode/json?latlng=55.751667000000005%2C37.617778"
       ]
      },
      {
       "output_type": "stream",
       "stream": "stdout",
       "text": [
        "\n",
        "\"Moscow, Moscow\",\"Russia\",\"RU\"\n",
        "https://maps.googleapis.com/maps/api/geocode/json?latlng=64.533333%2C40.533333"
       ]
      },
      {
       "output_type": "stream",
       "stream": "stdout",
       "text": [
        "\n",
        "\"Arkhangelsk, Arkhangelsk Oblast\",\"Russia\",\"RU\"\n",
        "https://maps.googleapis.com/maps/api/geocode/json?latlng=56.13333299999999%2C40.416667"
       ]
      },
      {
       "output_type": "stream",
       "stream": "stdout",
       "text": [
        "\n",
        "\"Vladimir, Vladimir Oblast\",\"Russia\",\"RU\"\n",
        "https://maps.googleapis.com/maps/api/geocode/json?latlng=59.2%2C39.883333"
       ]
      },
      {
       "output_type": "stream",
       "stream": "stdout",
       "text": [
        "\n",
        "\"Vologda, Vologda Oblast\",\"Russia\",\"RU\"\n",
        "https://maps.googleapis.com/maps/api/geocode/json?latlng=51.671667%2C39.210556"
       ]
      },
      {
       "output_type": "stream",
       "stream": "stdout",
       "text": [
        "\n",
        "\"Voronezh, Voronezh Oblast\",\"Russia\",\"RU\"\n",
        "https://maps.googleapis.com/maps/api/geocode/json?latlng=60.709167%2C28.744166999999997"
       ]
      },
      {
       "output_type": "stream",
       "stream": "stdout",
       "text": [
        "\n",
        "\"Vyborg, Leningrad Oblast\",\"Russia\",\"RU\"\n"
       ]
      },
      {
       "ename": "KeyboardInterrupt",
       "evalue": "",
       "output_type": "pyerr",
       "traceback": [
        "\u001b[1;31m---------------------------------------------------------------------------\u001b[0m\n\u001b[1;31mKeyboardInterrupt\u001b[0m                         Traceback (most recent call last)",
        "\u001b[1;32m<ipython-input-12-30c5d6b808ff>\u001b[0m in \u001b[0;36m<module>\u001b[1;34m()\u001b[0m\n\u001b[1;32m----> 1\u001b[1;33m \u001b[0mto_be_processed\u001b[0m\u001b[1;33m[\u001b[0m\u001b[1;34m'pres_loc'\u001b[0m\u001b[1;33m]\u001b[0m\u001b[1;33m,\u001b[0m \u001b[0mto_be_processed\u001b[0m\u001b[1;33m[\u001b[0m\u001b[1;34m'pres_country'\u001b[0m\u001b[1;33m]\u001b[0m\u001b[1;33m,\u001b[0m \u001b[0mto_be_processed\u001b[0m\u001b[1;33m[\u001b[0m\u001b[1;34m'country_code'\u001b[0m\u001b[1;33m]\u001b[0m \u001b[1;33m=\u001b[0m \u001b[0mnp\u001b[0m\u001b[1;33m.\u001b[0m\u001b[0mvectorize\u001b[0m\u001b[1;33m(\u001b[0m\u001b[0mreverse_geocode\u001b[0m\u001b[1;33m)\u001b[0m\u001b[1;33m(\u001b[0m\u001b[0mto_be_processed\u001b[0m\u001b[1;33m.\u001b[0m\u001b[0mx_coord\u001b[0m\u001b[1;33m,\u001b[0m\u001b[0mto_be_processed\u001b[0m\u001b[1;33m.\u001b[0m\u001b[0my_coord\u001b[0m\u001b[1;33m)\u001b[0m\u001b[1;33m\u001b[0m\u001b[0m\n\u001b[0m",
        "\u001b[1;32mc:\\Anaconda3\\lib\\site-packages\\numpy\\lib\\function_base.py\u001b[0m in \u001b[0;36m__call__\u001b[1;34m(self, *args, **kwargs)\u001b[0m\n\u001b[0;32m   1686\u001b[0m             \u001b[0mvargs\u001b[0m\u001b[1;33m.\u001b[0m\u001b[0mextend\u001b[0m\u001b[1;33m(\u001b[0m\u001b[1;33m[\u001b[0m\u001b[0mkwargs\u001b[0m\u001b[1;33m[\u001b[0m\u001b[0m_n\u001b[0m\u001b[1;33m]\u001b[0m \u001b[1;32mfor\u001b[0m \u001b[0m_n\u001b[0m \u001b[1;32min\u001b[0m \u001b[0mnames\u001b[0m\u001b[1;33m]\u001b[0m\u001b[1;33m)\u001b[0m\u001b[1;33m\u001b[0m\u001b[0m\n\u001b[0;32m   1687\u001b[0m \u001b[1;33m\u001b[0m\u001b[0m\n\u001b[1;32m-> 1688\u001b[1;33m         \u001b[1;32mreturn\u001b[0m \u001b[0mself\u001b[0m\u001b[1;33m.\u001b[0m\u001b[0m_vectorize_call\u001b[0m\u001b[1;33m(\u001b[0m\u001b[0mfunc\u001b[0m\u001b[1;33m=\u001b[0m\u001b[0mfunc\u001b[0m\u001b[1;33m,\u001b[0m \u001b[0margs\u001b[0m\u001b[1;33m=\u001b[0m\u001b[0mvargs\u001b[0m\u001b[1;33m)\u001b[0m\u001b[1;33m\u001b[0m\u001b[0m\n\u001b[0m\u001b[0;32m   1689\u001b[0m \u001b[1;33m\u001b[0m\u001b[0m\n\u001b[0;32m   1690\u001b[0m     \u001b[1;32mdef\u001b[0m \u001b[0m_get_ufunc_and_otypes\u001b[0m\u001b[1;33m(\u001b[0m\u001b[0mself\u001b[0m\u001b[1;33m,\u001b[0m \u001b[0mfunc\u001b[0m\u001b[1;33m,\u001b[0m \u001b[0margs\u001b[0m\u001b[1;33m)\u001b[0m\u001b[1;33m:\u001b[0m\u001b[1;33m\u001b[0m\u001b[0m\n",
        "\u001b[1;32mc:\\Anaconda3\\lib\\site-packages\\numpy\\lib\\function_base.py\u001b[0m in \u001b[0;36m_vectorize_call\u001b[1;34m(self, func, args)\u001b[0m\n\u001b[0;32m   1755\u001b[0m                       for _a in args]\n\u001b[0;32m   1756\u001b[0m \u001b[1;33m\u001b[0m\u001b[0m\n\u001b[1;32m-> 1757\u001b[1;33m             \u001b[0moutputs\u001b[0m \u001b[1;33m=\u001b[0m \u001b[0mufunc\u001b[0m\u001b[1;33m(\u001b[0m\u001b[1;33m*\u001b[0m\u001b[0minputs\u001b[0m\u001b[1;33m)\u001b[0m\u001b[1;33m\u001b[0m\u001b[0m\n\u001b[0m\u001b[0;32m   1758\u001b[0m \u001b[1;33m\u001b[0m\u001b[0m\n\u001b[0;32m   1759\u001b[0m             \u001b[1;32mif\u001b[0m \u001b[0mufunc\u001b[0m\u001b[1;33m.\u001b[0m\u001b[0mnout\u001b[0m \u001b[1;33m==\u001b[0m \u001b[1;36m1\u001b[0m\u001b[1;33m:\u001b[0m\u001b[1;33m\u001b[0m\u001b[0m\n",
        "\u001b[1;32m<ipython-input-6-d99744f4d9dd>\u001b[0m in \u001b[0;36mreverse_geocode\u001b[1;34m(lng, lat)\u001b[0m\n\u001b[0;32m     22\u001b[0m                         \u001b[0mlocality\u001b[0m \u001b[1;33m=\u001b[0m \u001b[0mcomponent\u001b[0m\u001b[1;33m[\u001b[0m\u001b[1;34m'long_name'\u001b[0m\u001b[1;33m]\u001b[0m\u001b[1;33m\u001b[0m\u001b[0m\n\u001b[0;32m     23\u001b[0m             \u001b[0mprint\u001b[0m\u001b[1;33m(\u001b[0m\u001b[1;34m\"\\\"{0}, {1}\\\",\\\"{2}\\\",\\\"{3}\\\"\"\u001b[0m\u001b[1;33m.\u001b[0m\u001b[0mformat\u001b[0m\u001b[1;33m(\u001b[0m\u001b[0mlocality\u001b[0m\u001b[1;33m,\u001b[0m\u001b[0madmin1\u001b[0m\u001b[1;33m,\u001b[0m\u001b[0mcountry\u001b[0m\u001b[1;33m,\u001b[0m\u001b[0mcountryCode\u001b[0m\u001b[1;33m)\u001b[0m\u001b[1;33m)\u001b[0m\u001b[1;33m\u001b[0m\u001b[0m\n\u001b[1;32m---> 24\u001b[1;33m             \u001b[0mtime\u001b[0m\u001b[1;33m.\u001b[0m\u001b[0msleep\u001b[0m\u001b[1;33m(\u001b[0m\u001b[1;36m1\u001b[0m\u001b[1;33m)\u001b[0m\u001b[1;33m\u001b[0m\u001b[0m\n\u001b[0m\u001b[0;32m     25\u001b[0m             \u001b[0mkeepgoing\u001b[0m \u001b[1;33m=\u001b[0m \u001b[1;32mFalse\u001b[0m\u001b[1;33m\u001b[0m\u001b[0m\n\u001b[0;32m     26\u001b[0m         \u001b[1;32mexcept\u001b[0m \u001b[0mIndexError\u001b[0m\u001b[1;33m:\u001b[0m\u001b[1;33m\u001b[0m\u001b[0m\n",
        "\u001b[1;31mKeyboardInterrupt\u001b[0m: "
       ]
      }
     ],
     "prompt_number": 12
    },
    {
     "cell_type": "code",
     "collapsed": false,
     "input": [
      "cond = to_be_processed.ru_featuretype.isin([\"\u0413\u0443\u0431\u0435\u0440\u043d\u0456\u044f\",\"\u041d\u0430\u043c\u0463\u0441\u0442\u043d\u0438\u0447\u0435\u0441\u0442\u0432\u043e\",\"\u041e\u0431\u043b\u0430\u0441\u0442\u044c\"])\n",
      "to_be_processed['partof_prov_name'] = to_be_processed[cond]['ru_old_orth'] + \" \" + to_be_processed.ru_featuretype"
     ],
     "language": "python",
     "metadata": {},
     "outputs": [],
     "prompt_number": 14
    },
    {
     "cell_type": "code",
     "collapsed": false,
     "input": [
      "cond = to_be_processed.ru_featuretype.isin([\"\u0443\u0435\u0437\u0434\"])\n",
      "to_be_processed['partof_uezd_name'] = to_be_processed[cond]['ru_old_orth'] + \" \" + to_be_processed.ru_featuretype"
     ],
     "language": "python",
     "metadata": {},
     "outputs": [],
     "prompt_number": 15
    },
    {
     "cell_type": "code",
     "collapsed": false,
     "input": [
      "to_be_processed.to_csv(\"hgr_test_set_3.csv\",encoding='utf-8')"
     ],
     "language": "python",
     "metadata": {},
     "outputs": [],
     "prompt_number": 16
    },
    {
     "cell_type": "code",
     "collapsed": false,
     "input": [
      "more_process = pd.DataFrame.from_csv(\"hgr_test_set_3.csv\")"
     ],
     "language": "python",
     "metadata": {},
     "outputs": [],
     "prompt_number": 17
    },
    {
     "cell_type": "code",
     "collapsed": false,
     "input": [
      "more_process.sort(columns=[\"ru_featuretype\",\"ru_old_orth\"],inplace=True)"
     ],
     "language": "python",
     "metadata": {},
     "outputs": [],
     "prompt_number": 20
    },
    {
     "cell_type": "code",
     "collapsed": false,
     "input": [
      "nam_uezd_list = more_process.ix[more_process.ru_featuretype.isin([\"\u0413\u0443\u0431\u0435\u0440\u043d\u0456\u044f\",\"\u041d\u0430\u043c\u0463\u0441\u0442\u043d\u0438\u0447\u0435\u0441\u0442\u0432\u043e\",\"\u041e\u0431\u043b\u0430\u0441\u0442\u044c\"])].partof_uezd_name.tolist()"
     ],
     "language": "python",
     "metadata": {},
     "outputs": [],
     "prompt_number": 24
    },
    {
     "cell_type": "code",
     "collapsed": false,
     "input": [
      "cond1 = more_process.ru_featuretype=='\u0443\u0435\u0437\u0434'\n",
      "cond2 = more_process.partof_uezd_name.isin(nam_uezd_list)\n",
      "uezd_to_namest = more_process[cond1][cond2][['partof_id']].to_dict()"
     ],
     "language": "python",
     "metadata": {},
     "outputs": [],
     "prompt_number": 29
    },
    {
     "cell_type": "code",
     "collapsed": false,
     "input": [
      "def keychange(k):\n",
      "    if k in uezd_to_namest:\n",
      "        return uezd_to_namest[k]\n",
      "    else:\n",
      "        return k"
     ],
     "language": "python",
     "metadata": {},
     "outputs": [],
     "prompt_number": 30
    },
    {
     "cell_type": "code",
     "collapsed": false,
     "input": [
      "more_process.partof_id = more_process.partof_id.apply(keychange)"
     ],
     "language": "python",
     "metadata": {},
     "outputs": [],
     "prompt_number": 32
    },
    {
     "cell_type": "code",
     "collapsed": false,
     "input": [
      "partof_prov_lookup = more_process.ix[more_process.partof_prov_name.notnull()].partof_prov_name.to_dict()\n",
      "partof_uezd_lookup = more_process.ix[more_process.partof_uezd_name.notnull()].partof_uezd_name.to_dict()"
     ],
     "language": "python",
     "metadata": {},
     "outputs": [],
     "prompt_number": 40
    },
    {
     "cell_type": "code",
     "collapsed": false,
     "input": [
      "more_process.partof_prov_name = more_process.partof_prov.apply(lambda x: partof_prov_lookup[x])\n",
      "def keychange(k):\n",
      "    if k in partof_uezd_lookup:\n",
      "        return partof_uezd_lookup[k]\n",
      "    else:\n",
      "        return k\n",
      "more_process.partof_uezd_name = more_process.partof_uezd.apply(keychange)"
     ],
     "language": "python",
     "metadata": {},
     "outputs": [],
     "prompt_number": 45
    },
    {
     "cell_type": "code",
     "collapsed": false,
     "input": [
      "more_process.to_csv(\"hgr_test_set_4.csv\",encoding='utf-8')"
     ],
     "language": "python",
     "metadata": {},
     "outputs": [],
     "prompt_number": 46
    },
    {
     "cell_type": "code",
     "collapsed": false,
     "input": [
      "new_single_results['pres_loc'], new_single_results['country'], new_single_results['country_code'] = np.vectorize(reverse_geocode)(new_single_results.lng,new_single_results.lat_y)"
     ],
     "language": "python",
     "metadata": {},
     "outputs": []
    },
    {
     "cell_type": "code",
     "collapsed": false,
     "input": [
      "new_single_results = new_single_results[['lat_x', 'hgr_id', 'name', 'alt_name', 'partof_id', 'lng', 'lat_y', '_type', 'source_url', 'text', 'name_modern_sp', 'lc_translit', 'pres_loc', 'country', 'country_code', 'result_placename', 'searched_placename', 'admin1', 'country_name', 'src_id', 'url', 'src', 'ru_prov', 'prov_modern_sp', 'prov_stem', 'ru_uezd', 'page']]"
     ],
     "language": "python",
     "metadata": {},
     "outputs": []
    },
    {
     "cell_type": "code",
     "collapsed": false,
     "input": [
      "new_single_results.to_csv(\"new_single_results.csv\",encoding='utf-8')"
     ],
     "language": "python",
     "metadata": {},
     "outputs": []
    },
    {
     "cell_type": "code",
     "collapsed": false,
     "input": [
      "uezd = geodf_merged.uezd_stem.unique()\n",
      "uezd.sort()\n",
      "print(uezd)"
     ],
     "language": "python",
     "metadata": {},
     "outputs": []
    },
    {
     "cell_type": "code",
     "collapsed": false,
     "input": [
      "pd.options.display.max_colwidth = 1000"
     ],
     "language": "python",
     "metadata": {},
     "outputs": []
    },
    {
     "cell_type": "code",
     "collapsed": false,
     "input": [
      "geodf_merged.ix[geodf_merged.uezd_stem=='\u043f\u0438\u0440\u044f\u0442\u0438\u043d\u0441\u043a'][['name','text','ru_prov','ru_uezd']]"
     ],
     "language": "python",
     "metadata": {},
     "outputs": []
    },
    {
     "cell_type": "code",
     "collapsed": false,
     "input": [
      "geodf_merged.ix[geodf_merged.name=='\u041f\u0438\u0440\u044f\u0442\u0438\u043d\u044a'][['name','text','ru_prov','ru_uezd']]"
     ],
     "language": "python",
     "metadata": {},
     "outputs": []
    },
    {
     "cell_type": "code",
     "collapsed": false,
     "input": [
      "geodf_merged.columns"
     ],
     "language": "python",
     "metadata": {},
     "outputs": [
      {
       "metadata": {},
       "output_type": "pyout",
       "prompt_number": 14,
       "text": [
        "Index(['hgr_id', 'name', 'alt_name', 'partof_id', 'lng', 'lat', '_type', 'source_url', 'text', 'name_modern_sp', 'result_placename', 'searched_placename', 'admin1', 'country_name', 'src_id', 'country_code', 'url', 'src', 'ru_prov', 'prov_modern_sp', 'prov_stem', 'ru_uezd', 'uezd_modern_sp', 'uezd_stem', 'page', 'lc_translit'], dtype='object')"
       ]
      }
     ],
     "prompt_number": 14
    },
    {
     "cell_type": "code",
     "collapsed": false,
     "input": [
      "geodf_merged.ix[geodf_merged.country_name == 'not_found'].to_csv('not_found_bounded.csv',encoding='utf-8')"
     ],
     "language": "python",
     "metadata": {},
     "outputs": [],
     "prompt_number": 18
    }
   ],
   "metadata": {}
  }
 ]
}