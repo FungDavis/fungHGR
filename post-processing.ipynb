{
 "metadata": {
  "name": "",
  "signature": "sha256:fa7fee51091af76db66de94f3ba35de03d6b91991e338d9fa172f184c488381d"
 },
 "nbformat": 3,
 "nbformat_minor": 0,
 "worksheets": [
  {
   "cells": [
    {
     "cell_type": "code",
     "collapsed": false,
     "input": [
      "import pandas as pd\n",
      "import numpy as np\n",
      "import json, re, requests, time"
     ],
     "language": "python",
     "metadata": {},
     "outputs": [],
     "prompt_number": 17
    },
    {
     "cell_type": "code",
     "collapsed": false,
     "input": [
      "geodf_merged = pd.DataFrame.from_csv(\"geocoded_merged.csv\")"
     ],
     "language": "python",
     "metadata": {},
     "outputs": [],
     "prompt_number": 18
    },
    {
     "cell_type": "code",
     "collapsed": false,
     "input": [
      "finding_counts = geodf_merged.ix[geodf_merged.result_placename!='not_found'].pivot_table(index='hgr_id',values='lat',aggfunc=lambda x: len(x.unique()))\n",
      "fdf = pd.DataFrame(finding_counts)\n",
      "single_results = pd.merge(fdf.ix[fdf.lat==1],geodf_merged,left_index=True,right_on='hgr_id')\n",
      "single_results = single_results.ix[single_results.result_placename!='not_found']"
     ],
     "language": "python",
     "metadata": {},
     "outputs": [],
     "prompt_number": 19
    },
    {
     "cell_type": "code",
     "collapsed": false,
     "input": [
      "hgr_set = pd.DataFrame.from_csv(\"hgr_test_set_2.csv\")"
     ],
     "language": "python",
     "metadata": {},
     "outputs": [],
     "prompt_number": 20
    },
    {
     "cell_type": "code",
     "collapsed": false,
     "input": [
      "single_results['isold'] = single_results.text.isin(hgr_set.description)\n",
      "new_single_results = single_results.ix[single_results.isold==False]"
     ],
     "language": "python",
     "metadata": {},
     "outputs": [],
     "prompt_number": 21
    },
    {
     "cell_type": "code",
     "collapsed": false,
     "input": [
      "def reverse_geocode(lng,lat):\n",
      "    keepgoing = True\n",
      "    while keepgoing == True:\n",
      "        try:\n",
      "            url = \"https://maps.googleapis.com/maps/api/geocode/json\"\n",
      "            Q = {'latlng':\"{},{}\".format(lat,lng)}\n",
      "            R = requests.get(url, params=Q)\n",
      "            print(R.url)\n",
      "            geo_response = R.json()\n",
      "            locality = 'error'\n",
      "            for component in geo_response['results'][0]['address_components']:\n",
      "                if 'locality' in component['types']:\n",
      "                    locality = component['long_name']\n",
      "                elif 'administrative_area_level_1' in component['types']:\n",
      "                    admin1 = component['long_name']\n",
      "                elif 'country' in component['types']:\n",
      "                    country = component['long_name']\n",
      "                    countryCode = component['short_name']\n",
      "            if locality == 'error':\n",
      "                for component in geo_response['results'][0]['address_components']:\n",
      "                    if 'administrative_area_level_2' in component['types']:\n",
      "                        locality = component['long_name']\n",
      "            print(\"\\\"{0}, {1}\\\",\\\"{2}\\\",\\\"{3}\\\"\".format(locality,admin1,country,countryCode))\n",
      "            time.sleep(1)\n",
      "            keepgoing = False\n",
      "        except IndexError:\n",
      "            time.sleep(1)\n",
      "            continue\n",
      "        return \"{}, {}\".format(locality,admin1), country, countryCode"
     ],
     "language": "python",
     "metadata": {},
     "outputs": [],
     "prompt_number": 22
    },
    {
     "cell_type": "code",
     "collapsed": false,
     "input": [
      "cyrillic_translit={u'\\u0410': 'A', u'\\u0430': 'a',u'\\u0411': 'B', u'\\u0431': 'b',u'\\u0412': 'V', u'\\u0432': 'v',u'\\u0413': 'G', u'\\u0433': 'g',u'\\u0414': 'D', u'\\u0434': 'd',u'\\u0415': 'E', u'\\u0435': 'e',u'\\u0416': 'Zh', u'\\u0436': 'zh',u'\\u0417': 'Z', u'\\u0437': 'z',u'\\u0418': 'I', u'\\u0438': 'i',u'\\u0419': 'I', u'\\u0439': 'i',u'\\u041a': 'K', u'\\u043a': 'k',u'\\u041b': 'L', u'\\u043b': 'l',u'\\u041c': 'M', u'\\u043c': 'm',u'\\u041d': 'N', u'\\u043d': 'n',u'\\u041e': 'O', u'\\u043e': 'o',u'\\u041f': 'P', u'\\u043f': 'p',u'\\u0420': 'R', u'\\u0440': 'r',u'\\u0421': 'S', u'\\u0441': 's',u'\\u0422': 'T', u'\\u0442': 't',u'\\u0423': 'U', u'\\u0443': 'u',u'\\u0424': 'F', u'\\u0444': 'f',u'\\u0425': 'Kh', u'\\u0445': 'kh',u'\\u0426': 'Ts', u'\\u0446': 'ts',u'\\u0427': 'Ch', u'\\u0447': 'ch',u'\\u0428': 'Sh', u'\\u0448': 'sh',u'\\u0429': 'Shch', u'\\u0449': 'shch',u'\\u042a': '\"', u'\\u044a': '\"',u'\\u042b': 'Y', u'\\u044b': 'y',u'\\u042c': \"'\", u'\\u044c': \"'\",u'\\u042d': 'E', u'\\u044d': 'e',u'\\u042e': 'Iu', u'\\u044e': 'iu',u'\\u042f': 'Ia', u'\\u044f': 'ia',u'\\u0462': 'E', u'\\u0463': 'e'}\n",
      "\n",
      "def transliterate(word, translit_table):\n",
      "    \"\"\"\n",
      "    Transliterates 'word' based on the key/value pairs in 'translit_table'\n",
      "    \"\"\"\n",
      "    converted_word = ''\n",
      "    for char in word:\n",
      "        transchar = ''\n",
      "        if char in translit_table:\n",
      "            transchar = translit_table[char]\n",
      "        else:\n",
      "            transchar = char\n",
      "        converted_word += transchar\n",
      "    return converted_word"
     ],
     "language": "python",
     "metadata": {},
     "outputs": [],
     "prompt_number": 23
    },
    {
     "cell_type": "code",
     "collapsed": false,
     "input": [
      "to_be_processed = pd.DataFrame.from_csv(\"hgr_test_set_2.csv\")\n",
      "to_be_processed.columns"
     ],
     "language": "python",
     "metadata": {},
     "outputs": [
      {
       "metadata": {},
       "output_type": "pyout",
       "prompt_number": 9,
       "text": [
        "Index(['ru_old_orth', 'alt_name', 'partof_id', 'x_coord', 'y_coord', 'ru_featuretype', 'SOURCE', 'description', 'ru_new_orth', 'lc_trans', 'pres_loc', 'pres_country', 'country_code', 'beg_yr', 'end_yr', 'lc_featuretype', 'id_featuretype', 'en_featuretype', 'xy_type', 'partof_prov', 'partof_uezd'], dtype='object')"
       ]
      }
     ],
     "prompt_number": 9
    },
    {
     "cell_type": "code",
     "collapsed": false,
     "input": [
      "import re,json\n",
      "from lxml import html\n",
      "\n",
      "lookup_dict = {}\n",
      "with open(\"special_cases.json\",'r') as fp:\n",
      "    lookup_dict = json.load(fp)\n",
      "\n",
      "def ortho_rules(text,lookup_dict):\n",
      "    \"\"\"\n",
      "    Takes a text string and a lookup dict as input\n",
      "    Removes any lingering html tags\n",
      "    Breaks the string down into component words with split\n",
      "    Uses replacements to modernize orthography\n",
      "    Returns re-assembled text with modern orthography\n",
      "    \"\"\"\n",
      "    if text is not None:\n",
      "        text = html.fromstring(text).text_content()\n",
      "        textlist = text.split(' ')\n",
      "        out_list = []\n",
      "        for word in textlist:\n",
      "            if word in [',','.',';',':']:\n",
      "                out_list.append(word)\n",
      "            word = word.strip(',.;:')\n",
      "            if word in lookup_dict:\n",
      "                word = lookup_dict[word]\n",
      "                out_list.append(word)\n",
      "            else:\n",
      "                word = re.sub(\"[\u042a\u044a]$\",'',word)\n",
      "                word = re.sub(r\"^([\u0447\u0435]{0,2}[\u0447]?[\u0432\u0431\u043d\u0440]?[\u0432\u0435\u043e\u0430\u0438])\u0437([\u041f\u0424\u041a\u0422\u0428\u0421\u0427\u043f\u0444\u043a\u0442\u0448\u0441\u0447])\",r\"\\1\u0441\\2\",word,re.IGNORECASE)\n",
      "                word = re.sub(\"\u0430\u0433\u043e$\",\"\u043e\u0433\u043e\",word,re.IGNORECASE)\n",
      "                word = re.sub(\"\u044f\u0433\u043e$\",\"\u0435\u0433\u043e\",word,re.IGNORECASE)\n",
      "                word = re.sub(\"\u044b\u044f$\",\"\u044b\u0435\",word,re.IGNORECASE)\n",
      "                word = re.sub(\"i\u044f$\",\"\u0438\u0435\",word,re.IGNORECASE)\n",
      "                word = word.replace('i','\u0438') #english\n",
      "                word = word.replace('I','\u0418') #english\n",
      "                word = word.replace('\u0456','\u0438') #cyrillic\n",
      "                word = word.replace('\u0406','\u0418') #cyrillic\n",
      "                word = word.replace('\u0462','\u0415')\n",
      "                word = word.replace('\u0463','\u0435')\n",
      "                word = word.replace('\u0472','\u0424')\n",
      "                word = word.replace('\u0473','\u0444')\n",
      "                out_list.append(word)\n",
      "        out_str = ' '.join(out_list)\n",
      "        return out_str\n",
      "    else:\n",
      "        return \"None\""
     ],
     "language": "python",
     "metadata": {},
     "outputs": [],
     "prompt_number": 11
    },
    {
     "cell_type": "code",
     "collapsed": false,
     "input": [
      "to_be_processed['ru_new_orth'] = to_be_processed.ru_old_orth.apply(ortho_rules,args=[lookup_dict])"
     ],
     "language": "python",
     "metadata": {},
     "outputs": [],
     "prompt_number": 12
    },
    {
     "cell_type": "code",
     "collapsed": false,
     "input": [
      "to_be_processed.lc_trans = to_be_processed.ru_new_orth.apply(transliterate,args=[cyrillic_translit])"
     ],
     "language": "python",
     "metadata": {},
     "outputs": [],
     "prompt_number": 13
    },
    {
     "cell_type": "code",
     "collapsed": false,
     "input": [
      "to_be_processed['pres_loc'], to_be_processed['pres_country'], to_be_processed['country_code'] = np.vectorize(reverse_geocode)(to_be_processed.x_coord,to_be_processed.y_coord)"
     ],
     "language": "python",
     "metadata": {},
     "outputs": [
      {
       "output_type": "stream",
       "stream": "stdout",
       "text": [
        "https://maps.googleapis.com/maps/api/geocode/json?latlng=55.751667000000005%2C37.617778\n",
        "\"Moscow, Moscow\",\"Russia\",\"RU\"\n",
        "https://maps.googleapis.com/maps/api/geocode/json?latlng=55.751667000000005%2C37.617778"
       ]
      },
      {
       "output_type": "stream",
       "stream": "stdout",
       "text": [
        "\n",
        "\"Moscow, Moscow\",\"Russia\",\"RU\"\n",
        "https://maps.googleapis.com/maps/api/geocode/json?latlng=64.533333%2C40.533333"
       ]
      },
      {
       "output_type": "stream",
       "stream": "stdout",
       "text": [
        "\n",
        "\"Arkhangelsk, Arkhangelsk Oblast\",\"Russia\",\"RU\"\n",
        "https://maps.googleapis.com/maps/api/geocode/json?latlng=56.13333299999999%2C40.416667"
       ]
      },
      {
       "output_type": "stream",
       "stream": "stdout",
       "text": [
        "\n",
        "\"Vladimir, Vladimir Oblast\",\"Russia\",\"RU\"\n",
        "https://maps.googleapis.com/maps/api/geocode/json?latlng=59.2%2C39.883333"
       ]
      },
      {
       "output_type": "stream",
       "stream": "stdout",
       "text": [
        "\n",
        "\"Vologda, Vologda Oblast\",\"Russia\",\"RU\"\n",
        "https://maps.googleapis.com/maps/api/geocode/json?latlng=51.671667%2C39.210556"
       ]
      },
      {
       "output_type": "stream",
       "stream": "stdout",
       "text": [
        "\n",
        "\"Voronezh, Voronezh Oblast\",\"Russia\",\"RU\"\n",
        "https://maps.googleapis.com/maps/api/geocode/json?latlng=60.709167%2C28.744166999999997"
       ]
      },
      {
       "output_type": "stream",
       "stream": "stdout",
       "text": [
        "\n",
        "\"Vyborg, Leningrad Oblast\",\"Russia\",\"RU\"\n",
        "https://maps.googleapis.com/maps/api/geocode/json?latlng=58.6%2C49.65"
       ]
      },
      {
       "output_type": "stream",
       "stream": "stdout",
       "text": [
        "\n",
        "\"Kirov, Kirov Oblast\",\"Russia\",\"RU\"\n",
        "https://maps.googleapis.com/maps/api/geocode/json?latlng=48.466601000000004%2C35.018155"
       ]
      },
      {
       "output_type": "stream",
       "stream": "stdout",
       "text": [
        "\n",
        "\"Dnepropetrovsk, Dnipropetrovsk Oblast\",\"Ukraine\",\"UA\"\n",
        "https://maps.googleapis.com/maps/api/geocode/json?latlng=52.283333%2C104.3"
       ]
      },
      {
       "output_type": "stream",
       "stream": "stdout",
       "text": [
        "\n",
        "\"Irkutsk, Irkutsk Oblast\",\"Russia\",\"RU\"\n",
        "https://maps.googleapis.com/maps/api/geocode/json?latlng=46.323611%2C48.036667"
       ]
      },
      {
       "output_type": "stream",
       "stream": "stdout",
       "text": [
        "\n",
        "\"Astrakhan, Astrakhan Oblast\",\"Russia\",\"RU\"\n",
        "https://maps.googleapis.com/maps/api/geocode/json?latlng=55.790833%2C49.114444"
       ]
      },
      {
       "output_type": "stream",
       "stream": "stdout",
       "text": [
        "\n",
        "\"Kazan, Tatarstan\",\"Russia\",\"RU\"\n",
        "https://maps.googleapis.com/maps/api/geocode/json?latlng=54.533333%2C36.266667"
       ]
      },
      {
       "output_type": "stream",
       "stream": "stdout",
       "text": [
        "\n",
        "\"Kaluga, Kaluga Oblast\",\"Russia\",\"RU\"\n",
        "https://maps.googleapis.com/maps/api/geocode/json?latlng=50.45%2C30.523333"
       ]
      },
      {
       "output_type": "stream",
       "stream": "stdout",
       "text": [
        "\n",
        "\"Kiev, Kyiv city\",\"Ukraine\",\"UA\"\n",
        "https://maps.googleapis.com/maps/api/geocode/json?latlng=57.766667000000005%2C40.933333000000005"
       ]
      },
      {
       "output_type": "stream",
       "stream": "stdout",
       "text": [
        "\n",
        "\"Kostroma, Kostroma Oblast\",\"Russia\",\"RU\"\n",
        "https://maps.googleapis.com/maps/api/geocode/json?latlng=51.716667%2C36.183333000000005"
       ]
      },
      {
       "output_type": "stream",
       "stream": "stdout",
       "text": [
        "\n",
        "\"Kursk, Kursk Oblast\",\"Russia\",\"RU\"\n",
        "https://maps.googleapis.com/maps/api/geocode/json?latlng=53.916667000000004%2C30.35"
       ]
      },
      {
       "output_type": "stream",
       "stream": "stdout",
       "text": [
        "\n",
        "\"Mahilyow, Mogilev Province\",\"Belarus\",\"BY\"\n",
        "https://maps.googleapis.com/maps/api/geocode/json?latlng=56.328669999999995%2C44.00205"
       ]
      },
      {
       "output_type": "stream",
       "stream": "stdout",
       "text": [
        "\n",
        "\"Nizhny Novgorod, Nizhny Novgorod Oblast\",\"Russia\",\"RU\"\n",
        "https://maps.googleapis.com/maps/api/geocode/json?latlng=58.55%2C31.283333000000002"
       ]
      },
      {
       "output_type": "stream",
       "stream": "stdout",
       "text": [
        "\n",
        "\"Veliky Novgorod, Novgorod Oblast\",\"Russia\",\"RU\"\n",
        "https://maps.googleapis.com/maps/api/geocode/json?latlng=51.983333%2C33.266667"
       ]
      },
      {
       "output_type": "stream",
       "stream": "stdout",
       "text": [
        "\n",
        "\"Novhorod-Sivers'kyi, Chernihivs'ka oblast\",\"Ukraine\",\"UA\"\n",
        "https://maps.googleapis.com/maps/api/geocode/json?latlng=61.783333%2C34.35"
       ]
      },
      {
       "output_type": "stream",
       "stream": "stdout",
       "text": [
        "\n",
        "\"Petrozavodsk, Republic of Karelia\",\"Russia\",\"RU\"\n",
        "https://maps.googleapis.com/maps/api/geocode/json?latlng=52.966667%2C36.066666999999995"
       ]
      },
      {
       "output_type": "stream",
       "stream": "stdout",
       "text": [
        "\n",
        "\"Oryol, Oryol Oblast\",\"Russia\",\"RU\"\n",
        "https://maps.googleapis.com/maps/api/geocode/json?latlng=53.2%2C45.0"
       ]
      },
      {
       "output_type": "stream",
       "stream": "stdout",
       "text": [
        "\n",
        "\"Penza, Penza Oblast\",\"Russia\",\"RU\"\n",
        "https://maps.googleapis.com/maps/api/geocode/json?latlng=58.013889%2C56.248889"
       ]
      },
      {
       "output_type": "stream",
       "stream": "stdout",
       "text": [
        "\n",
        "\"Perm, Perm Krai\",\"Russia\",\"RU\"\n",
        "https://maps.googleapis.com/maps/api/geocode/json?latlng=55.483332999999995%2C28.8"
       ]
      },
      {
       "output_type": "stream",
       "stream": "stdout",
       "text": [
        "\n",
        "\"Polatsk, Vitebsk Region\",\"Belarus\",\"BY\"\n",
        "https://maps.googleapis.com/maps/api/geocode/json?latlng=57.816667%2C28.333333000000003"
       ]
      },
      {
       "output_type": "stream",
       "stream": "stdout",
       "text": [
        "\n",
        "\"Pskov, Pskov Oblast\",\"Russia\",\"RU\"\n",
        "https://maps.googleapis.com/maps/api/geocode/json?latlng=59.437222%2C24.745278"
       ]
      },
      {
       "output_type": "stream",
       "stream": "stdout",
       "text": [
        "\n",
        "\"Tallinn, Harju County\",\"Estonia\",\"EE\"\n",
        "https://maps.googleapis.com/maps/api/geocode/json?latlng=56.9475%2C24.106944"
       ]
      },
      {
       "output_type": "stream",
       "stream": "stdout",
       "text": [
        "\n",
        "\"R\u012bga, R\u012bgas pils\u0113ta\",\"Latvia\",\"LV\"\n",
        "https://maps.googleapis.com/maps/api/geocode/json?latlng=54.61666700000001%2C39.716667"
       ]
      },
      {
       "output_type": "stream",
       "stream": "stdout",
       "text": [
        "\n",
        "\"Ryazan, Ryazan Oblast\",\"Russia\",\"RU\"\n",
        "https://maps.googleapis.com/maps/api/geocode/json?latlng=51.533333%2C46.0"
       ]
      },
      {
       "output_type": "stream",
       "stream": "stdout",
       "text": [
        "\n",
        "\"Saratov, Saratov Oblast\",\"Russia\",\"RU\"\n",
        "https://maps.googleapis.com/maps/api/geocode/json?latlng=54.316667%2C48.366667"
       ]
      },
      {
       "output_type": "stream",
       "stream": "stdout",
       "text": [
        "\n",
        "\"Ulyanovsk, Ulyanovsk Oblast\",\"Russia\",\"RU\"\n",
        "https://maps.googleapis.com/maps/api/geocode/json?latlng=54.782778%2C32.045278"
       ]
      },
      {
       "output_type": "stream",
       "stream": "stdout",
       "text": [
        "\n",
        "\"Smolensk, Smolensk Oblast\",\"Russia\",\"RU\"\n",
        "https://maps.googleapis.com/maps/api/geocode/json?latlng=52.716667%2C41.433333000000005"
       ]
      },
      {
       "output_type": "stream",
       "stream": "stdout",
       "text": [
        "\n",
        "\"Tambov, Tambov Oblast\",\"Russia\",\"RU\"\n",
        "https://maps.googleapis.com/maps/api/geocode/json?latlng=56.857828000000005%2C35.921928"
       ]
      },
      {
       "output_type": "stream",
       "stream": "stdout",
       "text": [
        "\n",
        "\"Tver, Tver Oblast\",\"Russia\",\"RU\"\n",
        "https://maps.googleapis.com/maps/api/geocode/json?latlng=58.195278%2C68.25805600000001"
       ]
      },
      {
       "output_type": "stream",
       "stream": "stdout",
       "text": [
        "\n",
        "\"Tobolsk, Tyumen Oblast\",\"Russia\",\"RU\"\n",
        "https://maps.googleapis.com/maps/api/geocode/json?latlng=54.2%2C37.616667"
       ]
      },
      {
       "output_type": "stream",
       "stream": "stdout",
       "text": [
        "\n",
        "\"Tula, Tula Oblast\",\"Russia\",\"RU\"\n",
        "https://maps.googleapis.com/maps/api/geocode/json?latlng=54.733332999999995%2C55.966667"
       ]
      },
      {
       "output_type": "stream",
       "stream": "stdout",
       "text": [
        "\n",
        "\"Ufa, Bashkortostan\",\"Russia\",\"RU\"\n",
        "https://maps.googleapis.com/maps/api/geocode/json?latlng=50.0%2C36.229167"
       ]
      },
      {
       "output_type": "stream",
       "stream": "stdout",
       "text": [
        "\n",
        "\"Kharkiv, Kharkiv Oblast\",\"Ukraine\",\"UA\"\n",
        "https://maps.googleapis.com/maps/api/geocode/json?latlng=51.5%2C31.3"
       ]
      },
      {
       "output_type": "stream",
       "stream": "stdout",
       "text": [
        "\n",
        "\"Chernihiv, Chernihivs'ka oblast\",\"Ukraine\",\"UA\"\n",
        "https://maps.googleapis.com/maps/api/geocode/json?latlng=57.61666700000001%2C39.85"
       ]
      },
      {
       "output_type": "stream",
       "stream": "stdout",
       "text": [
        "\n",
        "\"Yaroslavl, Yaroslavl Oblast\",\"Russia\",\"RU\"\n",
        "https://maps.googleapis.com/maps/api/geocode/json?latlng=54.8421%2C46.5813"
       ]
      },
      {
       "output_type": "stream",
       "stream": "stdout",
       "text": [
        "\n",
        "\"Alatyr', Chuvashia Republic\",\"Russia\",\"RU\"\n",
        "https://maps.googleapis.com/maps/api/geocode/json?latlng=54.505030000000005%2C37.0674"
       ]
      },
      {
       "output_type": "stream",
       "stream": "stdout",
       "text": [
        "\n",
        "\"Aleksin, Tula Oblast\",\"Russia\",\"RU\"\n",
        "https://maps.googleapis.com/maps/api/geocode/json?latlng=55.39485%2C43.83992"
       ]
      },
      {
       "output_type": "stream",
       "stream": "stdout",
       "text": [
        "\n",
        "\"Arzamas, Nizhny Novgorod Oblast\",\"Russia\",\"RU\"\n",
        "https://maps.googleapis.com/maps/api/geocode/json?latlng=50.310359999999996%2C34.898790000000005"
       ]
      },
      {
       "output_type": "stream",
       "stream": "stdout",
       "text": [
        "\n",
        "\"Okhtyrka, Sums'ka oblast\",\"Ukraine\",\"UA\"\n",
        "https://maps.googleapis.com/maps/api/geocode/json?latlng=54.8351%2C30.5725"
       ]
      },
      {
       "output_type": "stream",
       "stream": "stdout",
       "text": [
        "\n",
        "\"Babinavichy, Vitebsk Region\",\"Belarus\",\"BY\"\n",
        "https://maps.googleapis.com/maps/api/geocode/json?latlng=57.785059999999994%2C36.696509999999996"
       ]
      },
      {
       "output_type": "stream",
       "stream": "stdout",
       "text": [
        "\n",
        "\"Bezhetsk, Tver Oblast\",\"Russia\",\"RU\"\n",
        "https://maps.googleapis.com/maps/api/geocode/json?latlng=53.81194%2C36.13194"
       ]
      },
      {
       "output_type": "stream",
       "stream": "stdout",
       "text": [
        "\n",
        "\"Belyov, Tula Oblast\",\"Russia\",\"RU\"\n",
        "https://maps.googleapis.com/maps/api/geocode/json?latlng=52.9395%2C30.4122"
       ]
      },
      {
       "output_type": "stream",
       "stream": "stdout",
       "text": [
        "\n",
        "\"\u0411\u0435\u043b\u0438\u0446\u043a, Homiel Province\",\"Belarus\",\"BY\"\n",
        "https://maps.googleapis.com/maps/api/geocode/json?latlng=50.6%2C36.6"
       ]
      },
      {
       "output_type": "stream",
       "stream": "stdout",
       "text": [
        "\n",
        "\"Belgorod, Belgorod Oblast\",\"Russia\",\"RU\"\n",
        "https://maps.googleapis.com/maps/api/geocode/json?latlng=60.0288%2C37.8084"
       ]
      },
      {
       "output_type": "stream",
       "stream": "stdout",
       "text": [
        "\n",
        "https://maps.googleapis.com/maps/api/geocode/json?latlng=60.0288%2C37.8084"
       ]
      },
      {
       "output_type": "stream",
       "stream": "stdout",
       "text": [
        "\n",
        "\"Belozersk, Vologda Oblast\",\"Russia\",\"RU\"\n",
        "https://maps.googleapis.com/maps/api/geocode/json?latlng=50.2035%2C38.1067"
       ]
      },
      {
       "output_type": "stream",
       "stream": "stdout",
       "text": [
        "\n",
        "\"Valuyki, Belgorod Oblast\",\"Russia\",\"RU\"\n",
        "https://maps.googleapis.com/maps/api/geocode/json?latlng=56.34%2C30.545170000000002"
       ]
      },
      {
       "output_type": "stream",
       "stream": "stdout",
       "text": [
        "\n",
        "\"Velikiye Luki, Pskov Oblast\",\"Russia\",\"RU\"\n",
        "https://maps.googleapis.com/maps/api/geocode/json?latlng=54.35533%2C38.26843"
       ]
      },
      {
       "output_type": "stream",
       "stream": "stdout",
       "text": [
        "\n",
        "\"Venyov, Tula Oblast\",\"Russia\",\"RU\"\n",
        "https://maps.googleapis.com/maps/api/geocode/json?latlng=55.344719999999995%2C36.17194"
       ]
      },
      {
       "output_type": "stream",
       "stream": "stdout",
       "text": [
        "\n",
        "\"Vereya, Moscow Oblast\",\"Russia\",\"RU\"\n",
        "https://maps.googleapis.com/maps/api/geocode/json?latlng=51.833333%2C107.6"
       ]
      },
      {
       "output_type": "stream",
       "stream": "stdout",
       "text": [
        "\n",
        "\"Ulan-Ude, Buryatia\",\"Russia\",\"RU\"\n",
        "https://maps.googleapis.com/maps/api/geocode/json?latlng=59.2239%2C39.88398"
       ]
      },
      {
       "output_type": "stream",
       "stream": "stdout",
       "text": [
        "\n",
        "\"Vologda, Vologda Oblast\",\"Russia\",\"RU\"\n",
        "https://maps.googleapis.com/maps/api/geocode/json?latlng=56.033609999999996%2C35.969440000000006"
       ]
      },
      {
       "output_type": "stream",
       "stream": "stdout",
       "text": [
        "\n",
        "\"Volokolamsk, Moscow Oblast\",\"Russia\",\"RU\"\n",
        "https://maps.googleapis.com/maps/api/geocode/json?latlng=60.70763%2C28.75283"
       ]
      },
      {
       "output_type": "stream",
       "stream": "stdout",
       "text": [
        "\n",
        "\"Vyborg, Leningrad Oblast\",\"Russia\",\"RU\"\n",
        "https://maps.googleapis.com/maps/api/geocode/json?latlng=50.37112%2C33.990990000000004"
       ]
      },
      {
       "output_type": "stream",
       "stream": "stdout",
       "text": [
        "\n",
        "\"Hadyach, Poltavs'ka oblast\",\"Ukraine\",\"UA\"\n",
        "https://maps.googleapis.com/maps/api/geocode/json?latlng=56.201519999999995%2C42.693509999999996"
       ]
      },
      {
       "output_type": "stream",
       "stream": "stdout",
       "text": [
        "\n",
        "\"Gorokhovets, Vladimir Oblast\",\"Russia\",\"RU\"\n",
        "https://maps.googleapis.com/maps/api/geocode/json?latlng=55.88333000000001%2C26.53333"
       ]
      },
      {
       "output_type": "stream",
       "stream": "stdout",
       "text": [
        "\n",
        "\"Daugavpils, Daugavpils pils\u0113ta\",\"Latvia\",\"LV\"\n",
        "https://maps.googleapis.com/maps/api/geocode/json?latlng=56.34485%2C37.52041"
       ]
      },
      {
       "output_type": "stream",
       "stream": "stdout",
       "text": [
        "\n",
        "\"Dmitrov, Moscow Oblast\",\"Russia\",\"RU\"\n",
        "https://maps.googleapis.com/maps/api/geocode/json?latlng=53.25155%2C39.15553"
       ]
      },
      {
       "output_type": "stream",
       "stream": "stdout",
       "text": [
        "\n",
        "\"Dankov, Lipetsk Oblast\",\"Russia\",\"RU\"\n",
        "https://maps.googleapis.com/maps/api/geocode/json?latlng=48.45%2C34.98333"
       ]
      },
      {
       "output_type": "stream",
       "stream": "stdout",
       "text": [
        "\n",
        "\"Dnepropetrovsk, Dnipropetrovsk Oblast\",\"Ukraine\",\"UA\"\n",
        "https://maps.googleapis.com/maps/api/geocode/json?latlng=52.62366%2C38.50169"
       ]
      },
      {
       "output_type": "stream",
       "stream": "stdout",
       "text": [
        "\n",
        "\"Yelets, Lipetsk Oblast\",\"Russia\",\"RU\"\n",
        "https://maps.googleapis.com/maps/api/geocode/json?latlng=53.82526%2C38.551809999999996"
       ]
      },
      {
       "output_type": "stream",
       "stream": "stdout",
       "text": [
        "\n",
        "\"Yepifan, Tula Oblast\",\"Russia\",\"RU\"\n",
        "https://maps.googleapis.com/maps/api/geocode/json?latlng=54.7605%2C38.878409999999995"
       ]
      },
      {
       "output_type": "stream",
       "stream": "stdout",
       "text": [
        "\n",
        "\"Zaraysk, Moscow Oblast\",\"Russia\",\"RU\"\n",
        "https://maps.googleapis.com/maps/api/geocode/json?latlng=55.734019999999994%2C36.85918"
       ]
      },
      {
       "output_type": "stream",
       "stream": "stdout",
       "text": [
        "\n",
        "\"Zvenigorod, Moscow Oblast\",\"Russia\",\"RU\"\n",
        "https://maps.googleapis.com/maps/api/geocode/json?latlng=56.175340000000006%2C34.58935"
       ]
      },
      {
       "output_type": "stream",
       "stream": "stdout",
       "text": [
        "\n",
        "\"Zubtsov, Tver Oblast\",\"Russia\",\"RU\"\n",
        "https://maps.googleapis.com/maps/api/geocode/json?latlng=49.20875%2C37.24848"
       ]
      },
      {
       "output_type": "stream",
       "stream": "stdout",
       "text": [
        "\n",
        "\"Izyum, Kharkiv Oblast\",\"Ukraine\",\"UA\"\n",
        "https://maps.googleapis.com/maps/api/geocode/json?latlng=54.941109999999995%2C41.39528"
       ]
      },
      {
       "output_type": "stream",
       "stream": "stdout",
       "text": [
        "\n",
        "\"Kasimov, Ryazan Oblast\",\"Russia\",\"RU\"\n",
        "https://maps.googleapis.com/maps/api/geocode/json?latlng=57.35917%2C37.608059999999995"
       ]
      },
      {
       "output_type": "stream",
       "stream": "stdout",
       "text": [
        "\n",
        "\"Kashin, Tver Oblast\",\"Russia\",\"RU\"\n",
        "https://maps.googleapis.com/maps/api/geocode/json?latlng=54.844440000000006%2C38.166940000000004"
       ]
      },
      {
       "output_type": "stream",
       "stream": "stdout",
       "text": [
        "\n",
        "\"Kashira, Moscow Oblast\",\"Russia\",\"RU\"\n",
        "https://maps.googleapis.com/maps/api/geocode/json?latlng=53.69157%2C43.05744"
       ]
      },
      {
       "output_type": "stream",
       "stream": "stdout",
       "text": [
        "\n",
        "\"Vadinsk, Penza Oblast\",\"Russia\",\"RU\"\n",
        "https://maps.googleapis.com/maps/api/geocode/json?latlng=57.43914%2C42.12894"
       ]
      },
      {
       "output_type": "stream",
       "stream": "stdout",
       "text": [
        "\n",
        "\"Kineshma, Ivanovo Oblast\",\"Russia\",\"RU\"\n",
        "https://maps.googleapis.com/maps/api/geocode/json?latlng=57.78528000000001%2C108.11193999999999"
       ]
      },
      {
       "output_type": "stream",
       "stream": "stdout",
       "text": [
        "\n",
        "\"Kirensky District, Irkutsk Oblast\",\"Russia\",\"RU\"\n",
        "https://maps.googleapis.com/maps/api/geocode/json?latlng=50.45466%2C30.5238"
       ]
      },
      {
       "output_type": "stream",
       "stream": "stdout",
       "text": [
        "\n",
        "\"Kiev, Kyiv city\",\"Ukraine\",\"UA\"\n",
        "https://maps.googleapis.com/maps/api/geocode/json?latlng=53.6079%2C31.9586"
       ]
      },
      {
       "output_type": "stream",
       "stream": "stdout",
       "text": [
        "\n",
        "\"Klimavichy, Mogilev Province\",\"Belarus\",\"BY\"\n",
        "https://maps.googleapis.com/maps/api/geocode/json?latlng=54.037459999999996%2C35.77159"
       ]
      },
      {
       "output_type": "stream",
       "stream": "stdout",
       "text": [
        "\n",
        "\"Kozelsk, Kaluga Oblast\",\"Russia\",\"RU\"\n",
        "https://maps.googleapis.com/maps/api/geocode/json?latlng=52.8978%2C40.4907"
       ]
      },
      {
       "output_type": "stream",
       "stream": "stdout",
       "text": [
        "\n",
        "\"Michurinsk, Tambov Oblast\",\"Russia\",\"RU\"\n",
        "https://maps.googleapis.com/maps/api/geocode/json?latlng=55.079440000000005%2C38.77833"
       ]
      },
      {
       "output_type": "stream",
       "stream": "stdout",
       "text": [
        "\n",
        "\"Kolomna, Moscow Oblast\",\"Russia\",\"RU\"\n",
        "https://maps.googleapis.com/maps/api/geocode/json?latlng=50.8132%2C37.18598"
       ]
      },
      {
       "output_type": "stream",
       "stream": "stdout",
       "text": [
        "\n",
        "\"Korocha, Belgorod Oblast\",\"Russia\",\"RU\"\n",
        "https://maps.googleapis.com/maps/api/geocode/json?latlng=57.76647%2C40.92686"
       ]
      },
      {
       "output_type": "stream",
       "stream": "stdout",
       "text": [
        "\n",
        "\"Kostroma, Kostroma Oblast\",\"Russia\",\"RU\"\n",
        "https://maps.googleapis.com/maps/api/geocode/json?latlng=54.4253%2C43.789629999999995"
       ]
      },
      {
       "output_type": "stream",
       "stream": "stdout",
       "text": [
        "\n",
        "\"Krasnoslobodsk, Mordovia\",\"Russia\",\"RU\"\n",
        "https://maps.googleapis.com/maps/api/geocode/json?latlng=51.73733%2C36.18735"
       ]
      },
      {
       "output_type": "stream",
       "stream": "stdout",
       "text": [
        "\n",
        "\"Kursk, Kursk Oblast\",\"Russia\",\"RU\"\n",
        "https://maps.googleapis.com/maps/api/geocode/json?latlng=53.01942%2C39.16639"
       ]
      },
      {
       "output_type": "stream",
       "stream": "stdout",
       "text": [
        "\n",
        "\"Lebedyan, Lipetsk Oblast\",\"Russia\",\"RU\"\n",
        "https://maps.googleapis.com/maps/api/geocode/json?latlng=52.425340000000006%2C37.60689"
       ]
      },
      {
       "output_type": "stream",
       "stream": "stdout",
       "text": [
        "\n",
        "\"Livny, Oryol Oblast\",\"Russia\",\"RU\"\n",
        "https://maps.googleapis.com/maps/api/geocode/json?latlng=50.01625%2C32.99694"
       ]
      },
      {
       "output_type": "stream",
       "stream": "stdout",
       "text": [
        "\n",
        "\"Lubny, Poltavs'ka oblast\",\"Ukraine\",\"UA\"\n",
        "https://maps.googleapis.com/maps/api/geocode/json?latlng=58.3625%2C40.684329999999996"
       ]
      },
      {
       "output_type": "stream",
       "stream": "stdout",
       "text": [
        "\n",
        "\"Lyubim, Yaroslavl Oblast\",\"Russia\",\"RU\"\n",
        "https://maps.googleapis.com/maps/api/geocode/json?latlng=65.8401%2C44.2542"
       ]
      },
      {
       "output_type": "stream",
       "stream": "stdout",
       "text": [
        "\n",
        "\"Mezen, Arkhangelsk Oblast\",\"Russia\",\"RU\"\n",
        "https://maps.googleapis.com/maps/api/geocode/json?latlng=49.968540000000004%2C33.60886"
       ]
      },
      {
       "output_type": "stream",
       "stream": "stdout",
       "text": [
        "\n",
        "\"Myrhorod, Poltavs'ka oblast\",\"Ukraine\",\"UA\"\n",
        "https://maps.googleapis.com/maps/api/geocode/json?latlng=51.023%2C35.26233"
       ]
      },
      {
       "output_type": "stream",
       "stream": "stdout",
       "text": [
        "\n",
        "\"Myropillya, Sums'ka oblast\",\"Ukraine\",\"UA\"\n",
        "https://maps.googleapis.com/maps/api/geocode/json?latlng=55.501940000000005%2C36.02722"
       ]
      },
      {
       "output_type": "stream",
       "stream": "stdout",
       "text": [
        "\n",
        "\"Mozhaysk, Moscow Oblast\",\"Russia\",\"RU\"\n",
        "https://maps.googleapis.com/maps/api/geocode/json?latlng=54.0185%2C31.7217"
       ]
      },
      {
       "output_type": "stream",
       "stream": "stdout",
       "text": [
        "\n",
        "\"Mstsislaw, Mogilev Province\",\"Belarus\",\"BY\"\n",
        "https://maps.googleapis.com/maps/api/geocode/json?latlng=53.876540000000006%2C43.69458"
       ]
      },
      {
       "output_type": "stream",
       "stream": "stdout",
       "text": [
        "\n",
        "\"Narovchat, Penza Oblast\",\"Russia\",\"RU\"\n",
        "https://maps.googleapis.com/maps/api/geocode/json?latlng=53.530409999999996%2C43.676629999999996"
       ]
      },
      {
       "output_type": "stream",
       "stream": "stdout",
       "text": [
        "\n",
        "\"Nizhny Lomov, Penza Oblast\",\"Russia\",\"RU\"\n",
        "https://maps.googleapis.com/maps/api/geocode/json?latlng=58.52131%2C31.271040000000003"
       ]
      },
      {
       "output_type": "stream",
       "stream": "stdout",
       "text": [
        "\n",
        "\"Veliky Novgorod, Novgorod Oblast\",\"Russia\",\"RU\"\n",
        "https://maps.googleapis.com/maps/api/geocode/json?latlng=51.983333%2C33.266667"
       ]
      },
      {
       "output_type": "stream",
       "stream": "stdout",
       "text": [
        "\n",
        "\"Novhorod-Sivers'kyi, Chernihivs'ka oblast\",\"Ukraine\",\"UA\"\n",
        "https://maps.googleapis.com/maps/api/geocode/json?latlng=52.97387%2C37.04048"
       ]
      },
      {
       "output_type": "stream",
       "stream": "stdout",
       "text": [
        "\n",
        "\"Novosil, Oryol Oblast\",\"Russia\",\"RU\"\n",
        "https://maps.googleapis.com/maps/api/geocode/json?latlng=51.04801%2C31.886879999999998"
       ]
      },
      {
       "output_type": "stream",
       "stream": "stdout",
       "text": [
        "\n",
        "\"Nizhyn, Chernihivs'ka oblast\",\"Ukraine\",\"UA\"\n",
        "https://maps.googleapis.com/maps/api/geocode/json?latlng=54.5081%2C30.4172"
       ]
      },
      {
       "output_type": "stream",
       "stream": "stdout",
       "text": [
        "\n",
        "\"Orsha, Vitebsk Region\",\"Belarus\",\"BY\"\n",
        "https://maps.googleapis.com/maps/api/geocode/json?latlng=57.34395%2C28.353679999999997"
       ]
      },
      {
       "output_type": "stream",
       "stream": "stdout",
       "text": [
        "\n",
        "\"Ostrov, Pskov Oblast\",\"Russia\",\"RU\"\n",
        "https://maps.googleapis.com/maps/api/geocode/json?latlng=50.08768%2C31.4795"
       ]
      },
      {
       "output_type": "stream",
       "stream": "stdout",
       "text": [
        "\n",
        "\"Pereyaslav-Khmel'nyts'kyi, Kyivs'ka oblast\",\"Ukraine\",\"UA\"\n",
        "https://maps.googleapis.com/maps/api/geocode/json?latlng=57.01039%2C39.26928"
       ]
      },
      {
       "output_type": "stream",
       "stream": "stdout",
       "text": [
        "\n",
        "\"Petrovskoye, Yaroslavl Oblast\",\"Russia\",\"RU\"\n",
        "https://maps.googleapis.com/maps/api/geocode/json?latlng=50.24242%2C32.506209999999996"
       ]
      },
      {
       "output_type": "stream",
       "stream": "stdout",
       "text": [
        "\n",
        "\"Pyryatyn, Poltavs'ka oblast\",\"Ukraine\",\"UA\"\n",
        "https://maps.googleapis.com/maps/api/geocode/json?latlng=49.59373%2C34.540729999999996"
       ]
      },
      {
       "output_type": "stream",
       "stream": "stdout",
       "text": [
        "\n",
        "\"Poltava, Poltavs'ka oblast\",\"Ukraine\",\"UA\"\n",
        "https://maps.googleapis.com/maps/api/geocode/json?latlng=55.4879%2C28.7856"
       ]
      },
      {
       "output_type": "stream",
       "stream": "stdout",
       "text": [
        "\n",
        "\"Polatsk, Vitebsk Region\",\"Belarus\",\"BY\"\n",
        "https://maps.googleapis.com/maps/api/geocode/json?latlng=58.499280000000006%2C39.13531"
       ]
      },
      {
       "output_type": "stream",
       "stream": "stdout",
       "text": [
        "\n",
        "\"Poshekhonye, Yaroslavl Oblast\",\"Russia\",\"RU\"\n",
        "https://maps.googleapis.com/maps/api/geocode/json?latlng=50.59323%2C32.387609999999995"
       ]
      },
      {
       "output_type": "stream",
       "stream": "stdout",
       "text": [
        "\n",
        "\"Pryluky, Chernihivs'ka oblast\",\"Ukraine\",\"UA\"\n",
        "https://maps.googleapis.com/maps/api/geocode/json?latlng=57.8136%2C28.3496"
       ]
      },
      {
       "output_type": "stream",
       "stream": "stdout",
       "text": [
        "\n",
        "\"Pskov, Pskov Oblast\",\"Russia\",\"RU\"\n",
        "https://maps.googleapis.com/maps/api/geocode/json?latlng=53.0934%2C30.0495"
       ]
      },
      {
       "output_type": "stream",
       "stream": "stdout",
       "text": [
        "\n",
        "\"Raha\u010do\u016d, Homiel Province\",\"Belarus\",\"BY\"\n",
        "https://maps.googleapis.com/maps/api/geocode/json?latlng=57.1914%2C39.413940000000004"
       ]
      },
      {
       "output_type": "stream",
       "stream": "stdout",
       "text": [
        "\n",
        "\"Rostov, Yaroslavl Oblast\",\"Russia\",\"RU\"\n",
        "https://maps.googleapis.com/maps/api/geocode/json?latlng=55.698980000000006%2C36.19522"
       ]
      },
      {
       "output_type": "stream",
       "stream": "stdout",
       "text": [
        "\n",
        "\"Ruza, Moscow Oblast\",\"Russia\",\"RU\"\n",
        "https://maps.googleapis.com/maps/api/geocode/json?latlng=54.61666700000001%2C39.716667"
       ]
      },
      {
       "output_type": "stream",
       "stream": "stdout",
       "text": [
        "\n",
        "\"Ryazan, Ryazan Oblast\",\"Russia\",\"RU\"\n",
        "https://maps.googleapis.com/maps/api/geocode/json?latlng=54.1838%2C45.1749"
       ]
      },
      {
       "output_type": "stream",
       "stream": "stdout",
       "text": [
        "\n",
        "\"Saransk, Mordovia\",\"Russia\",\"RU\"\n",
        "https://maps.googleapis.com/maps/api/geocode/json?latlng=51.54056%2C46.00861"
       ]
      },
      {
       "output_type": "stream",
       "stream": "stdout",
       "text": [
        "\n",
        "\"Saratov, Saratov Oblast\",\"Russia\",\"RU\"\n",
        "https://maps.googleapis.com/maps/api/geocode/json?latlng=55.77329%2C48.660509999999995"
       ]
      },
      {
       "output_type": "stream",
       "stream": "stdout",
       "text": [
        "\n",
        "\"Sviyazhsk, Tatarstan\",\"Russia\",\"RU\"\n",
        "https://maps.googleapis.com/maps/api/geocode/json?latlng=54.32824%2C48.38657"
       ]
      },
      {
       "output_type": "stream",
       "stream": "stdout",
       "text": [
        "\n",
        "\"Ulyanovsk, Ulyanovsk Oblast\",\"Russia\",\"RU\"\n",
        "https://maps.googleapis.com/maps/api/geocode/json?latlng=51.52387%2C32.49985"
       ]
      },
      {
       "output_type": "stream",
       "stream": "stdout",
       "text": [
        "\n",
        "\"Sosnytsya, Chernihivs'ka oblast\",\"Ukraine\",\"UA\"\n",
        "https://maps.googleapis.com/maps/api/geocode/json?latlng=53.521%2C30.2454"
       ]
      },
      {
       "output_type": "stream",
       "stream": "stdout",
       "text": [
        "\n",
        "\"Bykhaw, Mogilev Province\",\"Belarus\",\"BY\"\n",
        "https://maps.googleapis.com/maps/api/geocode/json?latlng=52.2405%2C33.67942"
       ]
      },
      {
       "output_type": "stream",
       "stream": "stdout",
       "text": [
        "\n",
        "\"Seredyno-Buds'kyi district, Sums'ka oblast\",\"Ukraine\",\"UA\"\n",
        "https://maps.googleapis.com/maps/api/geocode/json?latlng=56.422740000000005%2C40.44668"
       ]
      },
      {
       "output_type": "stream",
       "stream": "stdout",
       "text": [
        "\n",
        "\"Suzdal, Vladimir Oblast\",\"Russia\",\"RU\"\n",
        "https://maps.googleapis.com/maps/api/geocode/json?latlng=56.85836%2C35.90057"
       ]
      },
      {
       "output_type": "stream",
       "stream": "stdout",
       "text": [
        "\n",
        "\"Tver, Tver Oblast\",\"Russia\",\"RU\"\n",
        "https://maps.googleapis.com/maps/api/geocode/json?latlng=54.630230000000005%2C43.21483"
       ]
      },
      {
       "output_type": "stream",
       "stream": "stdout",
       "text": [
        "\n",
        "\"Temnikov, Mordovia\",\"Russia\",\"RU\"\n",
        "https://maps.googleapis.com/maps/api/geocode/json?latlng=54.2%2C37.616667"
       ]
      },
      {
       "output_type": "stream",
       "stream": "stdout",
       "text": [
        "\n",
        "\"Tula, Tula Oblast\",\"Russia\",\"RU\"\n",
        "https://maps.googleapis.com/maps/api/geocode/json?latlng=49.98081%2C36.252720000000004"
       ]
      },
      {
       "output_type": "stream",
       "stream": "stdout",
       "text": [
        "\n",
        "\"Kharkiv, Kharkiv Oblast\",\"Ukraine\",\"UA\"\n",
        "https://maps.googleapis.com/maps/api/geocode/json?latlng=55.154019999999996%2C61.42915"
       ]
      },
      {
       "output_type": "stream",
       "stream": "stdout",
       "text": [
        "\n",
        "\"Chelyabinsk, Chelyabinsk Oblast\",\"Russia\",\"RU\"\n",
        "https://maps.googleapis.com/maps/api/geocode/json?latlng=53.5689%2C31.3831"
       ]
      },
      {
       "output_type": "stream",
       "stream": "stdout",
       "text": [
        "\n",
        "\"\u010ceryka\u016d, Mogilev Province\",\"Belarus\",\"BY\"\n",
        "https://maps.googleapis.com/maps/api/geocode/json?latlng=51.50551%2C31.284879999999998"
       ]
      },
      {
       "output_type": "stream",
       "stream": "stdout",
       "text": [
        "\n",
        "\"Chernihiv, Chernihivs'ka oblast\",\"Ukraine\",\"UA\"\n",
        "https://maps.googleapis.com/maps/api/geocode/json?latlng=58.75375%2C42.68318"
       ]
      },
      {
       "output_type": "stream",
       "stream": "stdout",
       "text": [
        "\n",
        "\"Chukhloma, Kostroma Oblast\",\"Russia\",\"RU\"\n",
        "https://maps.googleapis.com/maps/api/geocode/json?latlng=54.02576%2C41.711909999999996"
       ]
      },
      {
       "output_type": "stream",
       "stream": "stdout",
       "text": [
        "\n",
        "\"Shatsk, Ryazan Oblast\",\"Russia\",\"RU\"\n",
        "https://maps.googleapis.com/maps/api/geocode/json?latlng=57.320069999999994%2C43.1041"
       ]
      },
      {
       "output_type": "stream",
       "stream": "stdout",
       "text": [
        "\n",
        "\"Yuryevets, Ivanovo Oblast\",\"Russia\",\"RU\"\n",
        "https://maps.googleapis.com/maps/api/geocode/json?latlng=62.16755%2C49.09162"
       ]
      },
      {
       "output_type": "stream",
       "stream": "stdout",
       "text": [
        "\n",
        "\"Lenskiy rayon, Arkhangelsk Oblast\",\"Russia\",\"RU\"\n",
        "https://maps.googleapis.com/maps/api/geocode/json?latlng=57.62987%2C39.87368"
       ]
      },
      {
       "output_type": "stream",
       "stream": "stdout",
       "text": [
        "\n",
        "\"Yaroslavl, Yaroslavl Oblast\",\"Russia\",\"RU\"\n",
        "https://maps.googleapis.com/maps/api/geocode/json?latlng=54.505030000000005%2C37.0674"
       ]
      },
      {
       "output_type": "stream",
       "stream": "stdout",
       "text": [
        "\n",
        "\"Aleksin, Tula Oblast\",\"Russia\",\"RU\"\n",
        "https://maps.googleapis.com/maps/api/geocode/json?latlng=54.2354%2C42.5668"
       ]
      },
      {
       "output_type": "stream",
       "stream": "stdout",
       "text": [
        "\n",
        "\"Zubovo-Polyansky District, Mordovia\",\"Russia\",\"RU\"\n",
        "https://maps.googleapis.com/maps/api/geocode/json?latlng=64.5401%2C40.5433"
       ]
      },
      {
       "output_type": "stream",
       "stream": "stdout",
       "text": [
        "\n",
        "\"Arkhangelsk, Arkhangelsk Oblast\",\"Russia\",\"RU\"\n",
        "https://maps.googleapis.com/maps/api/geocode/json?latlng=46.34968%2C48.04076"
       ]
      },
      {
       "output_type": "stream",
       "stream": "stdout",
       "text": [
        "\n",
        "\"Astrakhan, Astrakhan Oblast\",\"Russia\",\"RU\"\n",
        "https://maps.googleapis.com/maps/api/geocode/json?latlng=54.180969999999995%2C45.40909"
       ]
      },
      {
       "output_type": "stream",
       "stream": "stdout",
       "text": [
        "\n",
        "\"Lyambirsky District, Mordovia\",\"Russia\",\"RU\"\n",
        "https://maps.googleapis.com/maps/api/geocode/json?latlng=51.87185%2C45.00775"
       ]
      },
      {
       "output_type": "stream",
       "stream": "stdout",
       "text": [
        "\n",
        "\"Atkarsk, Saratov Oblast\",\"Russia\",\"RU\"\n",
        "https://maps.googleapis.com/maps/api/geocode/json?latlng=50.310359999999996%2C34.898790000000005"
       ]
      },
      {
       "output_type": "stream",
       "stream": "stdout",
       "text": [
        "\n",
        "\"Okhtyrka, Sums'ka oblast\",\"Ukraine\",\"UA\"\n",
        "https://maps.googleapis.com/maps/api/geocode/json?latlng=50.36098%2C31.32173"
       ]
      },
      {
       "output_type": "stream",
       "stream": "stdout",
       "text": [
        "\n",
        "\"Baryshivka, Kyivs'ka oblast\",\"Ukraine\",\"UA\"\n",
        "https://maps.googleapis.com/maps/api/geocode/json?latlng=51.34567%2C32.87794"
       ]
      },
      {
       "output_type": "stream",
       "stream": "stdout",
       "text": [
        "\n",
        "\"Baturyn, Chernihivs'ka oblast\",\"Ukraine\",\"UA\"\n",
        "https://maps.googleapis.com/maps/api/geocode/json?latlng=51.74309%2C46.6978"
       ]
      },
      {
       "output_type": "stream",
       "stream": "stdout",
       "text": [
        "\n",
        "\"Voskresensky District, Saratov Oblast\",\"Russia\",\"RU\"\n",
        "https://maps.googleapis.com/maps/api/geocode/json?latlng=54.98358%2C50.38671"
       ]
      },
      {
       "output_type": "stream",
       "stream": "stdout",
       "text": [
        "\n",
        "\"Bilyarsk, Tatarstan\",\"Russia\",\"RU\"\n",
        "https://maps.googleapis.com/maps/api/geocode/json?latlng=56.4063%2C25.77221"
       ]
      },
      {
       "output_type": "stream",
       "stream": "stdout",
       "text": [
        "\n",
        "\"Bir\u017ei, Sala Municipality\",\"Latvia\",\"LV\"\n",
        "https://maps.googleapis.com/maps/api/geocode/json?latlng=50.74693%2C31.3948"
       ]
      },
      {
       "output_type": "stream",
       "stream": "stdout",
       "text": [
        "\n",
        "\"Bobrovytsya, Chernihivs'ka oblast\",\"Ukraine\",\"UA\"\n",
        "https://maps.googleapis.com/maps/api/geocode/json?latlng=50.16466%2C35.52765"
       ]
      },
      {
       "output_type": "stream",
       "stream": "stdout",
       "text": [
        "\n",
        "\"Bohodukhiv, Kharkiv Oblast\",\"Ukraine\",\"UA\"\n",
        "https://maps.googleapis.com/maps/api/geocode/json?latlng=55.85%2C38.45"
       ]
      },
      {
       "output_type": "stream",
       "stream": "stdout",
       "text": [
        "\n",
        "\"Noginsk, Moscow Oblast\",\"Russia\",\"RU\"\n",
        "https://maps.googleapis.com/maps/api/geocode/json?latlng=51.25464%2C32.4269"
       ]
      },
      {
       "output_type": "stream",
       "stream": "stdout",
       "text": [
        "\n",
        "\"Borzna, Chernihivs'ka oblast\",\"Ukraine\",\"UA\"\n",
        "https://maps.googleapis.com/maps/api/geocode/json?latlng=51.367129999999996%2C42.08494"
       ]
      },
      {
       "output_type": "stream",
       "stream": "stdout",
       "text": [
        "\n",
        "\"Borisoglebsk, Voronezh Oblast\",\"Russia\",\"RU\"\n",
        "https://maps.googleapis.com/maps/api/geocode/json?latlng=50.35269%2C30.955009999999998"
       ]
      },
      {
       "output_type": "stream",
       "stream": "stdout",
       "text": [
        "\n",
        "\"Boryspil', Kyivs'ka oblast\",\"Ukraine\",\"UA\"\n",
        "https://maps.googleapis.com/maps/api/geocode/json?latlng=49.047959999999996%2C38.56367"
       ]
      },
      {
       "output_type": "stream",
       "stream": "stdout",
       "text": [
        "\n",
        "\"Boroven'ky, Luhans'ka oblast\",\"Ukraine\",\"UA\"\n",
        "https://maps.googleapis.com/maps/api/geocode/json?latlng=55.20639%2C36.48611"
       ]
      },
      {
       "output_type": "stream",
       "stream": "stdout",
       "text": [
        "\n",
        "\"Borovsk, Kaluga Oblast\",\"Russia\",\"RU\"\n",
        "https://maps.googleapis.com/maps/api/geocode/json?latlng=55.421119999999995%2C38.26188"
       ]
      },
      {
       "output_type": "stream",
       "stream": "stdout",
       "text": [
        "\n",
        "\"Bronnitsy, Moscow Oblast\",\"Russia\",\"RU\"\n",
        "https://maps.googleapis.com/maps/api/geocode/json?latlng=53.25209%2C34.37167"
       ]
      },
      {
       "output_type": "stream",
       "stream": "stdout",
       "text": [
        "\n",
        "\"Bryansk, Bryansk Oblast\",\"Russia\",\"RU\"\n",
        "https://maps.googleapis.com/maps/api/geocode/json?latlng=53.7559%2C38.77664"
       ]
      },
      {
       "output_type": "stream",
       "stream": "stdout",
       "text": [
        "\n",
        "\"Kimovsky District, Tula Oblast\",\"Russia\",\"RU\"\n",
        "https://maps.googleapis.com/maps/api/geocode/json?latlng=57.785059999999994%2C36.696509999999996"
       ]
      },
      {
       "output_type": "stream",
       "stream": "stdout",
       "text": [
        "\n",
        "\"Bezhetsk, Tver Oblast\",\"Russia\",\"RU\"\n",
        "https://maps.googleapis.com/maps/api/geocode/json?latlng=56.09183%2C35.664590000000004"
       ]
      },
      {
       "output_type": "stream",
       "stream": "stdout",
       "text": [
        "\n",
        "\"Belaya Kolp', Moscow Oblast\",\"Russia\",\"RU\"\n",
        "https://maps.googleapis.com/maps/api/geocode/json?latlng=60.0288%2C37.8084"
       ]
      },
      {
       "output_type": "stream",
       "stream": "stdout",
       "text": [
        "\n",
        "\"Belozersk, Vologda Oblast\",\"Russia\",\"RU\"\n",
        "https://maps.googleapis.com/maps/api/geocode/json?latlng=51.15016%2C34.312870000000004"
       ]
      },
      {
       "output_type": "stream",
       "stream": "stdout",
       "text": [
        "\n",
        "\"Bilopillya, Sums'ka oblast\",\"Ukraine\",\"UA\"\n",
        "https://maps.googleapis.com/maps/api/geocode/json?latlng=50.2035%2C38.1067"
       ]
      },
      {
       "output_type": "stream",
       "stream": "stdout",
       "text": [
        "\n",
        "\"Valuyki, Belgorod Oblast\",\"Russia\",\"RU\"\n",
        "https://maps.googleapis.com/maps/api/geocode/json?latlng=50.49503%2C32.71968"
       ]
      },
      {
       "output_type": "stream",
       "stream": "stdout",
       "text": [
        "\n",
        "\"Varva, Chernihivs'ka oblast\",\"Ukraine\",\"UA\"\n",
        "https://maps.googleapis.com/maps/api/geocode/json?latlng=64.8827%2C45.7464"
       ]
      },
      {
       "output_type": "stream",
       "stream": "stdout",
       "text": [
        "\n",
        "\"Melospolye, Arkhangelsk Oblast\",\"Russia\",\"RU\"\n",
        "https://maps.googleapis.com/maps/api/geocode/json?latlng=50.1521%2C38.4492"
       ]
      },
      {
       "output_type": "stream",
       "stream": "stdout",
       "text": [
        "\n",
        "\"Veydelevka, Belgorod Oblast\",\"Russia\",\"RU\"\n",
        "https://maps.googleapis.com/maps/api/geocode/json?latlng=55.60564%2C31.19673"
       ]
      },
      {
       "output_type": "stream",
       "stream": "stdout",
       "text": [
        "\n",
        "\"Velizh, Smolensk Oblast\",\"Russia\",\"RU\"\n",
        "https://maps.googleapis.com/maps/api/geocode/json?latlng=57.31188%2C25.27456"
       ]
      },
      {
       "output_type": "stream",
       "stream": "stdout",
       "text": [
        "\n",
        "\"C\u0113sis, C\u0113sis Municipality\",\"Latvia\",\"LV\"\n",
        "https://maps.googleapis.com/maps/api/geocode/json?latlng=58.66398%2C37.2604"
       ]
      },
      {
       "output_type": "stream",
       "stream": "stdout",
       "text": [
        "\n",
        "\"Vesyegonsk, Tver Oblast\",\"Russia\",\"RU\"\n",
        "https://maps.googleapis.com/maps/api/geocode/json?latlng=57.54108000000001%2C25.42751"
       ]
      },
      {
       "output_type": "stream",
       "stream": "stdout",
       "text": [
        "\n",
        "\"Valmiera, Valmieras pils\u0113ta\",\"Latvia\",\"LV\"\n",
        "https://maps.googleapis.com/maps/api/geocode/json?latlng=51.67204%2C39.1843"
       ]
      },
      {
       "output_type": "stream",
       "stream": "stdout",
       "text": [
        "\n",
        "\"Voronezh, Voronezh Oblast\",\"Russia\",\"RU\"\n",
        "https://maps.googleapis.com/maps/api/geocode/json?latlng=51.77572%2C33.45944"
       ]
      },
      {
       "output_type": "stream",
       "stream": "stdout",
       "text": [
        "\n",
        "\"Voronizh, Sums'ka oblast\",\"Ukraine\",\"UA\"\n",
        "https://maps.googleapis.com/maps/api/geocode/json?latlng=50.22235%2C30.89967"
       ]
      },
      {
       "output_type": "stream",
       "stream": "stdout",
       "text": [
        "\n",
        "\"Voron'kiv, Kyivs'ka oblast\",\"Ukraine\",\"UA\"\n",
        "https://maps.googleapis.com/maps/api/geocode/json?latlng=57.205569999999994%2C28.84938"
       ]
      },
      {
       "output_type": "stream",
       "stream": "stdout",
       "text": [
        "\n",
        "\"Pushkinogorsky District, Pskov Oblast\",\"Russia\",\"RU\"\n",
        "https://maps.googleapis.com/maps/api/geocode/json?latlng=60.70763%2C28.75283"
       ]
      },
      {
       "output_type": "stream",
       "stream": "stdout",
       "text": [
        "\n",
        "\"Vyborg, Leningrad Oblast\",\"Russia\",\"RU\"\n",
        "https://maps.googleapis.com/maps/api/geocode/json?latlng=61.00636%2C36.44811"
       ]
      },
      {
       "output_type": "stream",
       "stream": "stdout",
       "text": [
        "\n",
        "\"Vytegra, Vologda Oblast\",\"Russia\",\"RU\"\n",
        "https://maps.googleapis.com/maps/api/geocode/json?latlng=56.24057%2C42.15563"
       ]
      },
      {
       "output_type": "stream",
       "stream": "stdout",
       "text": [
        "\n",
        "\"Vyazniki, Vladimir Oblast\",\"Russia\",\"RU\"\n",
        "https://maps.googleapis.com/maps/api/geocode/json?latlng=50.37112%2C33.990990000000004"
       ]
      },
      {
       "output_type": "stream",
       "stream": "stdout",
       "text": [
        "\n",
        "\"Hadyach, Poltavs'ka oblast\",\"Ukraine\",\"UA\"\n",
        "https://maps.googleapis.com/maps/api/geocode/json?latlng=58.744240000000005%2C27.819770000000002"
       ]
      },
      {
       "output_type": "stream",
       "stream": "stdout",
       "text": [
        "\n",
        "\"Gdov, Pskov Oblast\",\"Russia\",\"RU\"\n",
        "https://maps.googleapis.com/maps/api/geocode/json?latlng=48.95619%2C32.89946"
       ]
      },
      {
       "output_type": "stream",
       "stream": "stdout",
       "text": [
        "\n",
        "\"Hlyns'k, Kirovohrads'ka oblast\",\"Ukraine\",\"UA\"\n",
        "https://maps.googleapis.com/maps/api/geocode/json?latlng=50.518640000000005%2C31.022409999999997"
       ]
      },
      {
       "output_type": "stream",
       "stream": "stdout",
       "text": [
        "\n",
        "\"Hoholiv, Kyivs'ka oblast\",\"Ukraine\",\"UA\"\n",
        "https://maps.googleapis.com/maps/api/geocode/json?latlng=49.4202%2C33.85422"
       ]
      },
      {
       "output_type": "stream",
       "stream": "stdout",
       "text": [
        "\n",
        "\"Hovtva, Poltavs'ka oblast\",\"Ukraine\",\"UA\"\n",
        "https://maps.googleapis.com/maps/api/geocode/json?latlng=56.1311%2C43.063629999999996"
       ]
      },
      {
       "output_type": "stream",
       "stream": "stdout",
       "text": [
        "\n",
        "\"Gorbatov, Nizhny Novgorod Oblast\",\"Russia\",\"RU\"\n",
        "https://maps.googleapis.com/maps/api/geocode/json?latlng=56.201519999999995%2C42.693509999999996"
       ]
      },
      {
       "output_type": "stream",
       "stream": "stdout",
       "text": [
        "\n",
        "\"Gorokhovets, Vladimir Oblast\",\"Russia\",\"RU\"\n",
        "https://maps.googleapis.com/maps/api/geocode/json?latlng=49.6548%2C32.73911"
       ]
      },
      {
       "output_type": "stream",
       "stream": "stdout",
       "text": [
        "\n",
        "\"Horoshyne, Poltavs'ka oblast\",\"Ukraine\",\"UA\"\n",
        "https://maps.googleapis.com/maps/api/geocode/json?latlng=54.13149%2C38.6607"
       ]
      },
      {
       "output_type": "stream",
       "stream": "stdout",
       "text": [
        "\n",
        "\"Gremyachee, Tula Oblast\",\"Russia\",\"RU\"\n",
        "https://maps.googleapis.com/maps/api/geocode/json?latlng=54.604169999999996%2C38.10556"
       ]
      },
      {
       "output_type": "stream",
       "stream": "stdout",
       "text": [
        "\n",
        "\"Venyovsky District, Tula Oblast\",\"Russia\",\"RU\"\n",
        "https://maps.googleapis.com/maps/api/geocode/json?latlng=54.0418%2C39.1179"
       ]
      },
      {
       "output_type": "stream",
       "stream": "stdout",
       "text": [
        "\n",
        "\"Gryaznoye, Ryazan Oblast\",\"Russia\",\"RU\"\n",
        "https://maps.googleapis.com/maps/api/geocode/json?latlng=58.88%2C40.2525"
       ]
      },
      {
       "output_type": "stream",
       "stream": "stdout",
       "text": [
        "\n",
        "\"Gryazovets, Vologda Oblast\",\"Russia\",\"RU\"\n",
        "https://maps.googleapis.com/maps/api/geocode/json?latlng=56.095119999999994%2C27.537229999999997"
       ]
      },
      {
       "output_type": "stream",
       "stream": "stdout",
       "text": [
        "\n",
        "\"Dagda, Dagdas novads\",\"Latvia\",\"LV\"\n",
        "https://maps.googleapis.com/maps/api/geocode/json?latlng=49.850190000000005%2C37.68262"
       ]
      },
      {
       "output_type": "stream",
       "stream": "stdout",
       "text": [
        "\n",
        "\"Dvorichna, Kharkiv Oblast\",\"Ukraine\",\"UA\"\n",
        "https://maps.googleapis.com/maps/api/geocode/json?latlng=50.214%2C32.62939"
       ]
      },
      {
       "output_type": "stream",
       "stream": "stdout",
       "text": [
        "\n",
        "\"Deimanivka, Poltavs'ka oblast\",\"Ukraine\",\"UA\"\n",
        "https://maps.googleapis.com/maps/api/geocode/json?latlng=58.38061999999999%2C26.72509"
       ]
      },
      {
       "output_type": "stream",
       "stream": "stdout",
       "text": [
        "\n",
        "\"Tartu, Tartu County\",\"Estonia\",\"EE\"\n",
        "https://maps.googleapis.com/maps/api/geocode/json?latlng=56.34485%2C37.52041"
       ]
      },
      {
       "output_type": "stream",
       "stream": "stdout",
       "text": [
        "\n",
        "\"Dmitrov, Moscow Oblast\",\"Russia\",\"RU\"\n",
        "https://maps.googleapis.com/maps/api/geocode/json?latlng=52.73333%2C37.7"
       ]
      },
      {
       "output_type": "stream",
       "stream": "stdout",
       "text": [
        "\n",
        "\"Krasnozorensky District, Oryol Oblast\",\"Russia\",\"RU\"\n",
        "https://maps.googleapis.com/maps/api/geocode/json?latlng=53.06666%2C32.273709999999994"
       ]
      },
      {
       "output_type": "stream",
       "stream": "stdout",
       "text": [
        "\n",
        "\"Dushatin, Bryansk Oblast\",\"Russia\",\"RU\"\n",
        "https://maps.googleapis.com/maps/api/geocode/json?latlng=55.05594%2C39.126999999999995"
       ]
      },
      {
       "output_type": "stream",
       "stream": "stdout",
       "text": [
        "\n",
        "\"Dedinovo, Moscow Oblast\",\"Russia\",\"RU\"\n",
        "https://maps.googleapis.com/maps/api/geocode/json?latlng=54.9675%2C41.75083"
       ]
      },
      {
       "output_type": "stream",
       "stream": "stdout",
       "text": [
        "\n",
        "\"Elatma, Ryazan Oblast\",\"Russia\",\"RU\"\n",
        "https://maps.googleapis.com/maps/api/geocode/json?latlng=54.57864%2C33.18373"
       ]
      },
      {
       "output_type": "stream",
       "stream": "stdout",
       "text": [
        "\n",
        "\"Yelnya, Smolensk Oblast\",\"Russia\",\"RU\"\n",
        "https://maps.googleapis.com/maps/api/geocode/json?latlng=53.82526%2C38.551809999999996"
       ]
      },
      {
       "output_type": "stream",
       "stream": "stdout",
       "text": [
        "\n",
        "\"Yepifan, Tula Oblast\",\"Russia\",\"RU\"\n",
        "https://maps.googleapis.com/maps/api/geocode/json?latlng=53.14806%2C38.09924"
       ]
      },
      {
       "output_type": "stream",
       "stream": "stdout",
       "text": [
        "\n",
        "\"Yefremov, Tula Oblast\",\"Russia\",\"RU\"\n",
        "https://maps.googleapis.com/maps/api/geocode/json?latlng=66.76601%2C123.37418000000001"
       ]
      },
      {
       "output_type": "stream",
       "stream": "stdout",
       "text": [
        "\n",
        "\"Zhigansky District, Sakha Republic\",\"Russia\",\"RU\"\n",
        "https://maps.googleapis.com/maps/api/geocode/json?latlng=53.74596%2C34.739509999999996"
       ]
      },
      {
       "output_type": "stream",
       "stream": "stdout",
       "text": [
        "\n",
        "\"Zhizdra, Kaluga Oblast\",\"Russia\",\"RU\"\n",
        "https://maps.googleapis.com/maps/api/geocode/json?latlng=52.98556%2C36.987559999999995"
       ]
      },
      {
       "output_type": "stream",
       "stream": "stdout",
       "text": [
        "\n",
        "\"Novosilsky District, Oryol Oblast\",\"Russia\",\"RU\"\n",
        "https://maps.googleapis.com/maps/api/geocode/json?latlng=60.0693%2C39.5481"
       ]
      },
      {
       "output_type": "stream",
       "stream": "stdout",
       "text": [
        "\n",
        "\"error, Vologda Oblast\",\"Russia\",\"RU\"\n",
        "https://maps.googleapis.com/maps/api/geocode/json?latlng=54.7605%2C38.878409999999995"
       ]
      },
      {
       "output_type": "stream",
       "stream": "stdout",
       "text": [
        "\n",
        "\"Zaraysk, Moscow Oblast\",\"Russia\",\"RU\"\n",
        "https://maps.googleapis.com/maps/api/geocode/json?latlng=67.45%2C142.61667"
       ]
      },
      {
       "output_type": "stream",
       "stream": "stdout",
       "text": [
        "\n",
        "\"error, Sakha Republic\",\"Russia\",\"RU\"\n",
        "https://maps.googleapis.com/maps/api/geocode/json?latlng=55.734019999999994%2C36.85918"
       ]
      },
      {
       "output_type": "stream",
       "stream": "stdout",
       "text": [
        "\n",
        "\"Zvenigorod, Moscow Oblast\",\"Russia\",\"RU\"\n",
        "https://maps.googleapis.com/maps/api/geocode/json?latlng=51.9041%2C38.7334"
       ]
      },
      {
       "output_type": "stream",
       "stream": "stdout",
       "text": [
        "\n",
        "\"Zemlyansk, Voronezh Oblast\",\"Russia\",\"RU\"\n",
        "https://maps.googleapis.com/maps/api/geocode/json?latlng=51.5804%2C32.728190000000005"
       ]
      },
      {
       "output_type": "stream",
       "stream": "stdout",
       "text": [
        "\n",
        "\"Zmitniv, Chernihivs'ka oblast\",\"Ukraine\",\"UA\"\n",
        "https://maps.googleapis.com/maps/api/geocode/json?latlng=49.66832%2C32.04047"
       ]
      },
      {
       "output_type": "stream",
       "stream": "stdout",
       "text": [
        "\n",
        "\"Zolotonosha, Cherkas'ka oblast\",\"Ukraine\",\"UA\"\n",
        "https://maps.googleapis.com/maps/api/geocode/json?latlng=56.175340000000006%2C34.58935"
       ]
      },
      {
       "output_type": "stream",
       "stream": "stdout",
       "text": [
        "\n",
        "\"Zubtsov, Tver Oblast\",\"Russia\",\"RU\"\n",
        "https://maps.googleapis.com/maps/api/geocode/json?latlng=49.20875%2C37.24848"
       ]
      },
      {
       "output_type": "stream",
       "stream": "stdout",
       "text": [
        "\n",
        "\"Izyum, Kharkiv Oblast\",\"Ukraine\",\"UA\"\n",
        "https://maps.googleapis.com/maps/api/geocode/json?latlng=48.6%2C48.3"
       ]
      },
      {
       "output_type": "stream",
       "stream": "stdout",
       "text": [
        "\n",
        "\"Bokey Orda District, West Kazakhstan Province\",\"Kazakhstan\",\"KZ\"\n",
        "https://maps.googleapis.com/maps/api/geocode/json?latlng=48.96564%2C33.70805"
       ]
      },
      {
       "output_type": "stream",
       "stream": "stdout",
       "text": [
        "\n",
        "\"Keleberda, Poltavs'ka oblast\",\"Ukraine\",\"UA\"\n",
        "https://maps.googleapis.com/maps/api/geocode/json?latlng=56.71666999999999%2C37.73333"
       ]
      },
      {
       "output_type": "stream",
       "stream": "stdout",
       "text": [
        "\n",
        "\"Taldomsky District, Moscow Oblast\",\"Russia\",\"RU\"\n",
        "https://maps.googleapis.com/maps/api/geocode/json?latlng=50.18359%2C33.68269"
       ]
      },
      {
       "output_type": "stream",
       "stream": "stdout",
       "text": [
        "\n",
        "\"Komyshnya, Poltavs'ka oblast\",\"Ukraine\",\"UA\"\n",
        "https://maps.googleapis.com/maps/api/geocode/json?latlng=57.35917%2C37.608059999999995"
       ]
      },
      {
       "output_type": "stream",
       "stream": "stdout",
       "text": [
        "\n",
        "\"Kashin, Tver Oblast\",\"Russia\",\"RU\"\n",
        "https://maps.googleapis.com/maps/api/geocode/json?latlng=53.69157%2C43.05744"
       ]
      },
      {
       "output_type": "stream",
       "stream": "stdout",
       "text": [
        "\n",
        "\"Vadinsk, Penza Oblast\",\"Russia\",\"RU\"\n",
        "https://maps.googleapis.com/maps/api/geocode/json?latlng=57.58361%2C37.29222"
       ]
      },
      {
       "output_type": "stream",
       "stream": "stdout",
       "text": [
        "\n",
        "\"Kesova Gora, Tver Oblast\",\"Russia\",\"RU\"\n",
        "https://maps.googleapis.com/maps/api/geocode/json?latlng=56.86666999999999%2C37.35"
       ]
      },
      {
       "output_type": "stream",
       "stream": "stdout",
       "text": [
        "\n",
        "\"Kimry, Tver Oblast\",\"Russia\",\"RU\"\n",
        "https://maps.googleapis.com/maps/api/geocode/json?latlng=57.43914%2C42.12894"
       ]
      },
      {
       "output_type": "stream",
       "stream": "stdout",
       "text": [
        "\n",
        "\"Kineshma, Ivanovo Oblast\",\"Russia\",\"RU\"\n",
        "https://maps.googleapis.com/maps/api/geocode/json?latlng=57.78528000000001%2C108.11193999999999"
       ]
      },
      {
       "output_type": "stream",
       "stream": "stdout",
       "text": [
        "\n",
        "\"Kirensky District, Irkutsk Oblast\",\"Russia\",\"RU\"\n",
        "https://maps.googleapis.com/maps/api/geocode/json?latlng=52.40773%2C33.10627"
       ]
      },
      {
       "output_type": "stream",
       "stream": "stdout",
       "text": [
        "\n",
        "\"Kistyor, Bryansk Oblast\",\"Russia\",\"RU\"\n",
        "https://maps.googleapis.com/maps/api/geocode/json?latlng=56.35722%2C41.31917"
       ]
      },
      {
       "output_type": "stream",
       "stream": "stdout",
       "text": [
        "\n",
        "\"Kovrov, Vladimir Oblast\",\"Russia\",\"RU\"\n",
        "https://maps.googleapis.com/maps/api/geocode/json?latlng=50.913340000000005%2C31.1214"
       ]
      },
      {
       "output_type": "stream",
       "stream": "stdout",
       "text": [
        "\n",
        "\"Kozelets', Chernihivs'ka oblast\",\"Ukraine\",\"UA\"\n",
        "https://maps.googleapis.com/maps/api/geocode/json?latlng=54.037459999999996%2C35.77159"
       ]
      },
      {
       "output_type": "stream",
       "stream": "stdout",
       "text": [
        "\n",
        "\"Kozelsk, Kaluga Oblast\",\"Russia\",\"RU\"\n",
        "https://maps.googleapis.com/maps/api/geocode/json?latlng=55.079440000000005%2C38.77833"
       ]
      },
      {
       "output_type": "stream",
       "stream": "stdout",
       "text": [
        "\n",
        "\"Kolomna, Moscow Oblast\",\"Russia\",\"RU\"\n",
        "https://maps.googleapis.com/maps/api/geocode/json?latlng=50.98665%2C39.17677"
       ]
      },
      {
       "output_type": "stream",
       "stream": "stdout",
       "text": [
        "\n",
        "\"Korotoyak, Voronezh Oblast\",\"Russia\",\"RU\"\n",
        "https://maps.googleapis.com/maps/api/geocode/json?latlng=54.1829%2C46.62978"
       ]
      },
      {
       "output_type": "stream",
       "stream": "stdout",
       "text": [
        "\n",
        "\"Karsunsky District, Ulyanovsk Oblast\",\"Russia\",\"RU\"\n",
        "https://maps.googleapis.com/maps/api/geocode/json?latlng=57.76647%2C40.92686"
       ]
      },
      {
       "output_type": "stream",
       "stream": "stdout",
       "text": [
        "\n",
        "\"Kostroma, Kostroma Oblast\",\"Russia\",\"RU\"\n",
        "https://maps.googleapis.com/maps/api/geocode/json?latlng=50.06864%2C34.75862"
       ]
      },
      {
       "output_type": "stream",
       "stream": "stdout",
       "text": [
        "\n",
        "\"Kotel'va, Poltavs'ka oblast\",\"Ukraine\",\"UA\"\n",
        "https://maps.googleapis.com/maps/api/geocode/json?latlng=58.3089%2C48.348"
       ]
      },
      {
       "output_type": "stream",
       "stream": "stdout",
       "text": [
        "\n",
        "\"Kotelnich, Kirov Oblast\",\"Russia\",\"RU\"\n",
        "https://maps.googleapis.com/maps/api/geocode/json?latlng=54.01948%2C44.04707"
       ]
      },
      {
       "output_type": "stream",
       "stream": "stdout",
       "text": [
        "\n",
        "\"Kovylkinsky District, Mordovia\",\"Russia\",\"RU\"\n",
        "https://maps.googleapis.com/maps/api/geocode/json?latlng=53.94234%2C37.15744"
       ]
      },
      {
       "output_type": "stream",
       "stream": "stdout",
       "text": [
        "\n",
        "\"Krapivna, Tula Oblast\",\"Russia\",\"RU\"\n",
        "https://maps.googleapis.com/maps/api/geocode/json?latlng=49.63637%2C32.16478"
       ]
      },
      {
       "output_type": "stream",
       "stream": "stdout",
       "text": [
        "\n",
        "\"Kropyvna, Cherkas'ka oblast\",\"Ukraine\",\"UA\"\n",
        "https://maps.googleapis.com/maps/api/geocode/json?latlng=61.55978%2C45.93396"
       ]
      },
      {
       "output_type": "stream",
       "stream": "stdout",
       "text": [
        "\n",
        "\"Krasnoborsk, Arkhangelsk Oblast\",\"Russia\",\"RU\"\n",
        "https://maps.googleapis.com/maps/api/geocode/json?latlng=50.06602%2C35.16275"
       ]
      },
      {
       "output_type": "stream",
       "stream": "stdout",
       "text": [
        "\n",
        "\"Krasnokuts'k, Kharkiv Oblast\",\"Ukraine\",\"UA\"\n",
        "https://maps.googleapis.com/maps/api/geocode/json?latlng=50.77458%2C35.25965"
       ]
      },
      {
       "output_type": "stream",
       "stream": "stdout",
       "text": [
        "\n",
        "\"Krasnopillya, Sums'ka oblast\",\"Ukraine\",\"UA\"\n",
        "https://maps.googleapis.com/maps/api/geocode/json?latlng=54.4253%2C43.789629999999995"
       ]
      },
      {
       "output_type": "stream",
       "stream": "stdout",
       "text": [
        "\n",
        "\"Krasnoslobodsk, Mordovia\",\"Russia\",\"RU\"\n",
        "https://maps.googleapis.com/maps/api/geocode/json?latlng=52.687619999999995%2C35.76665"
       ]
      },
      {
       "output_type": "stream",
       "stream": "stdout",
       "text": [
        "\n",
        "\"Kromy, Oryol Oblast\",\"Russia\",\"RU\"\n",
        "https://maps.googleapis.com/maps/api/geocode/json?latlng=49.04894%2C33.24106"
       ]
      },
      {
       "output_type": "stream",
       "stream": "stdout",
       "text": [
        "\n",
        "\"Svitlovods'k, Kirovohrads'ka oblast\",\"Ukraine\",\"UA\"\n",
        "https://maps.googleapis.com/maps/api/geocode/json?latlng=59.43387%2C39.669129999999996"
       ]
      },
      {
       "output_type": "stream",
       "stream": "stdout",
       "text": [
        "\n",
        "\"Kubenskoye, Vologda Oblast\",\"Russia\",\"RU\"\n",
        "https://maps.googleapis.com/maps/api/geocode/json?latlng=53.11675%2C46.60037"
       ]
      },
      {
       "output_type": "stream",
       "stream": "stdout",
       "text": [
        "\n",
        "\"Kuznetsk, Penza Oblast\",\"Russia\",\"RU\"\n",
        "https://maps.googleapis.com/maps/api/geocode/json?latlng=50.211859999999994%2C32.74462"
       ]
      },
      {
       "output_type": "stream",
       "stream": "stdout",
       "text": [
        "\n",
        "\"Kurin'ka, Poltavs'ka oblast\",\"Ukraine\",\"UA\"\n",
        "https://maps.googleapis.com/maps/api/geocode/json?latlng=53.5617%2C32.0163"
       ]
      },
      {
       "output_type": "stream",
       "stream": "stdout",
       "text": [
        "\n",
        "\"Klimavichy District, Mogilev Province\",\"Belarus\",\"BY\"\n",
        "https://maps.googleapis.com/maps/api/geocode/json?latlng=55.40464%2C49.55037"
       ]
      },
      {
       "output_type": "stream",
       "stream": "stdout",
       "text": [
        "\n",
        "\"Laishevo, Tatarstan\",\"Russia\",\"RU\"\n",
        "https://maps.googleapis.com/maps/api/geocode/json?latlng=60.74146%2C47.58617"
       ]
      },
      {
       "output_type": "stream",
       "stream": "stdout",
       "text": [
        "\n",
        "\"Luzsky District, Kirov Oblast\",\"Russia\",\"RU\"\n",
        "https://maps.googleapis.com/maps/api/geocode/json?latlng=52.425340000000006%2C37.60689"
       ]
      },
      {
       "output_type": "stream",
       "stream": "stdout",
       "text": [
        "\n",
        "\"Livny, Oryol Oblast\",\"Russia\",\"RU\"\n",
        "https://maps.googleapis.com/maps/api/geocode/json?latlng=52.60311%2C39.57076"
       ]
      },
      {
       "output_type": "stream",
       "stream": "stdout",
       "text": [
        "\n",
        "\"Lipetsk, Lipetsk Oblast\",\"Russia\",\"RU\"\n",
        "https://maps.googleapis.com/maps/api/geocode/json?latlng=54.09685%2C36.24499"
       ]
      },
      {
       "output_type": "stream",
       "stream": "stdout",
       "text": [
        "\n",
        "\"Chekalin, Tula Oblast\",\"Russia\",\"RU\"\n",
        "https://maps.googleapis.com/maps/api/geocode/json?latlng=50.36776%2C33.26024"
       ]
      },
      {
       "output_type": "stream",
       "stream": "stdout",
       "text": [
        "\n",
        "\"Lokhvytsya, Poltavs'ka oblast\",\"Ukraine\",\"UA\"\n",
        "https://maps.googleapis.com/maps/api/geocode/json?latlng=57.01242%2C42.258379999999995"
       ]
      },
      {
       "output_type": "stream",
       "stream": "stdout",
       "text": [
        "\n",
        "\"Lukh, Ivanovo Oblast\",\"Russia\",\"RU\"\n",
        "https://maps.googleapis.com/maps/api/geocode/json?latlng=51.7026%2C30.65692"
       ]
      },
      {
       "output_type": "stream",
       "stream": "stdout",
       "text": [
        "\n",
        "\"Lyubech, Chernihivs'ka oblast\",\"Ukraine\",\"UA\"\n",
        "https://maps.googleapis.com/maps/api/geocode/json?latlng=58.3625%2C40.684329999999996"
       ]
      },
      {
       "output_type": "stream",
       "stream": "stdout",
       "text": [
        "\n",
        "\"Lyubim, Yaroslavl Oblast\",\"Russia\",\"RU\"\n",
        "https://maps.googleapis.com/maps/api/geocode/json?latlng=50.210840000000005%2C34.0367"
       ]
      },
      {
       "output_type": "stream",
       "stream": "stdout",
       "text": [
        "\n",
        "\"Lyuten'ka, Poltavs'ka oblast\",\"Ukraine\",\"UA\"\n",
        "https://maps.googleapis.com/maps/api/geocode/json?latlng=57.88501%2C43.8049"
       ]
      },
      {
       "output_type": "stream",
       "stream": "stdout",
       "text": [
        "\n",
        "\"Makaryev, Kostroma Oblast\",\"Russia\",\"RU\"\n",
        "https://maps.googleapis.com/maps/api/geocode/json?latlng=47.42018%2C40.09132"
       ]
      },
      {
       "output_type": "stream",
       "stream": "stdout",
       "text": [
        "\n",
        "\"Novocherkassk, Rostov Oblast\",\"Russia\",\"RU\"\n",
        "https://maps.googleapis.com/maps/api/geocode/json?latlng=61.00636%2C36.44811"
       ]
      },
      {
       "output_type": "stream",
       "stream": "stdout",
       "text": [
        "\n",
        "\"Vytegra, Vologda Oblast\",\"Russia\",\"RU\"\n",
        "https://maps.googleapis.com/maps/api/geocode/json?latlng=50.58518%2C34.4849"
       ]
      },
      {
       "output_type": "stream",
       "stream": "stdout",
       "text": [
        "\n",
        "\"Lebedyn, Sums'ka oblast\",\"Ukraine\",\"UA\"\n",
        "https://maps.googleapis.com/maps/api/geocode/json?latlng=56.8519%2C60.6122"
       ]
      },
      {
       "output_type": "stream",
       "stream": "stdout",
       "text": [
        "\n",
        "\"Yekaterinburg, Sverdlovsk Oblast\",\"Russia\",\"RU\"\n",
        "https://maps.googleapis.com/maps/api/geocode/json?latlng=53.94194%2C40.68056"
       ]
      },
      {
       "output_type": "stream",
       "stream": "stdout",
       "text": [
        "\n",
        "\"Sapozhok, Ryazan Oblast\",\"Russia\",\"RU\"\n",
        "https://maps.googleapis.com/maps/api/geocode/json?latlng=58.38061999999999%2C26.72509"
       ]
      },
      {
       "output_type": "stream",
       "stream": "stdout",
       "text": [
        "\n",
        "\"Tartu, Tartu County\",\"Estonia\",\"EE\"\n",
        "https://maps.googleapis.com/maps/api/geocode/json?latlng=53.12291999999999%2C34.985170000000004"
       ]
      },
      {
       "output_type": "stream",
       "stream": "stdout",
       "text": [
        "\n",
        "\"Karachev, Bryansk Oblast\",\"Russia\",\"RU\"\n",
        "https://maps.googleapis.com/maps/api/geocode/json?latlng=50.98665%2C39.17677"
       ]
      },
      {
       "output_type": "stream",
       "stream": "stdout",
       "text": [
        "\n",
        "\"Korotoyak, Voronezh Oblast\",\"Russia\",\"RU\"\n",
        "https://maps.googleapis.com/maps/api/geocode/json?latlng=54.8108%2C29.7086"
       ]
      },
      {
       "output_type": "stream",
       "stream": "stdout",
       "text": [
        "\n",
        "\"Senno, Vitebsk Region\",\"Belarus\",\"BY\"\n",
        "https://maps.googleapis.com/maps/api/geocode/json?latlng=55.85%2C38.45"
       ]
      },
      {
       "output_type": "stream",
       "stream": "stdout",
       "text": [
        "\n",
        "\"Noginsk, Moscow Oblast\",\"Russia\",\"RU\"\n",
        "https://maps.googleapis.com/maps/api/geocode/json?latlng=56.3419%2C46.56353"
       ]
      },
      {
       "output_type": "stream",
       "stream": "stdout",
       "text": [
        "\n",
        "\"Kozmodemyansk, Mari El\",\"Russia\",\"RU\"\n",
        "https://maps.googleapis.com/maps/api/geocode/json?latlng=55.91996999999999%2C36.86867"
       ]
      },
      {
       "output_type": "stream",
       "stream": "stdout",
       "text": [
        "\n",
        "\"Istra, Moscow Oblast\",\"Russia\",\"RU\"\n",
        "https://maps.googleapis.com/maps/api/geocode/json?latlng=50.01625%2C32.99694"
       ]
      },
      {
       "output_type": "stream",
       "stream": "stdout",
       "text": [
        "\n",
        "\"Lubny, Poltavs'ka oblast\",\"Ukraine\",\"UA\"\n",
        "https://maps.googleapis.com/maps/api/geocode/json?latlng=53.14806%2C38.09924"
       ]
      },
      {
       "output_type": "stream",
       "stream": "stdout",
       "text": [
        "\n",
        "\"Yefremov, Tula Oblast\",\"Russia\",\"RU\"\n",
        "https://maps.googleapis.com/maps/api/geocode/json?latlng=55.20639%2C36.48611"
       ]
      },
      {
       "output_type": "stream",
       "stream": "stdout",
       "text": [
        "\n",
        "\"Borovsk, Kaluga Oblast\",\"Russia\",\"RU\"\n",
        "https://maps.googleapis.com/maps/api/geocode/json?latlng=56.710480000000004%2C28.66174"
       ]
      },
      {
       "output_type": "stream",
       "stream": "stdout",
       "text": [
        "\n",
        "\"Opochka, Pskov Oblast\",\"Russia\",\"RU\"\n",
        "https://maps.googleapis.com/maps/api/geocode/json?latlng=56.638769999999994%2C47.89078"
       ]
      },
      {
       "output_type": "stream",
       "stream": "stdout",
       "text": [
        "\n",
        "\"Yoshkar-Ola, Mari El\",\"Russia\",\"RU\"\n",
        "https://maps.googleapis.com/maps/api/geocode/json?latlng=56.50339%2C39.679109999999994"
       ]
      },
      {
       "output_type": "stream",
       "stream": "stdout",
       "text": [
        "\n",
        "\"Yuryev-Polsky, Vladimir Oblast\",\"Russia\",\"RU\"\n",
        "https://maps.googleapis.com/maps/api/geocode/json?latlng=57.76501999999999%2C29.55612"
       ]
      },
      {
       "output_type": "stream",
       "stream": "stdout",
       "text": [
        "\n",
        "\"Porkhov, Pskov Oblast\",\"Russia\",\"RU\"\n",
        "https://maps.googleapis.com/maps/api/geocode/json?latlng=58.499280000000006%2C39.13531"
       ]
      },
      {
       "output_type": "stream",
       "stream": "stdout",
       "text": [
        "\n",
        "\"Poshekhonye, Yaroslavl Oblast\",\"Russia\",\"RU\"\n",
        "https://maps.googleapis.com/maps/api/geocode/json?latlng=55.83336%2C46.073370000000004"
       ]
      },
      {
       "output_type": "stream",
       "stream": "stdout",
       "text": [
        "\n",
        "\"Kurmysh, Nizhny Novgorod Oblast\",\"Russia\",\"RU\"\n",
        "https://maps.googleapis.com/maps/api/geocode/json?latlng=50.9216%2C34.800290000000004"
       ]
      },
      {
       "output_type": "stream",
       "stream": "stdout",
       "text": [
        "\n",
        "\"Sumy, Sums'ka oblast\",\"Ukraine\",\"UA\"\n",
        "https://maps.googleapis.com/maps/api/geocode/json?latlng=56.175340000000006%2C34.58935"
       ]
      },
      {
       "output_type": "stream",
       "stream": "stdout",
       "text": [
        "\n",
        "\"Zubtsov, Tver Oblast\",\"Russia\",\"RU\"\n",
        "https://maps.googleapis.com/maps/api/geocode/json?latlng=57.01242%2C42.258379999999995"
       ]
      },
      {
       "output_type": "stream",
       "stream": "stdout",
       "text": [
        "\n",
        "\"Lukh, Ivanovo Oblast\",\"Russia\",\"RU\"\n",
        "https://maps.googleapis.com/maps/api/geocode/json?latlng=56.94125%2C47.24987"
       ]
      },
      {
       "output_type": "stream",
       "stream": "stdout",
       "text": [
        "\n",
        "\"Sanchursk, Kirov Oblast\",\"Russia\",\"RU\"\n",
        "https://maps.googleapis.com/maps/api/geocode/json?latlng=56.13655%2C40.39658"
       ]
      },
      {
       "output_type": "stream",
       "stream": "stdout",
       "text": [
        "\n",
        "\"Vladimir, Vladimir Oblast\",\"Russia\",\"RU\"\n",
        "https://maps.googleapis.com/maps/api/geocode/json?latlng=53.25155%2C39.15553"
       ]
      },
      {
       "output_type": "stream",
       "stream": "stdout",
       "text": [
        "\n",
        "\"Dankov, Lipetsk Oblast\",\"Russia\",\"RU\"\n",
        "https://maps.googleapis.com/maps/api/geocode/json?latlng=51.98333%2C116.58333"
       ]
      },
      {
       "output_type": "stream",
       "stream": "stdout",
       "text": [
        "\n",
        "\"Nerchinsk, Zabaykalsky Krai\",\"Russia\",\"RU\"\n",
        "https://maps.googleapis.com/maps/api/geocode/json?latlng=55.64929%2C36.33105"
       ]
      },
      {
       "output_type": "stream",
       "stream": "stdout",
       "text": [
        "\n",
        "\"Staraya Ruza, Moscow Oblast\",\"Russia\",\"RU\"\n",
        "https://maps.googleapis.com/maps/api/geocode/json?latlng=62.8487%2C34.826209999999996"
       ]
      },
      {
       "output_type": "stream",
       "stream": "stdout",
       "text": [
        "\n",
        "\"Povenets, Republic of Karelia\",\"Russia\",\"RU\"\n",
        "https://maps.googleapis.com/maps/api/geocode/json?latlng=53.86531%2C44.37382"
       ]
      },
      {
       "output_type": "stream",
       "stream": "stdout",
       "text": [
        "\n",
        "\"Insarsky District, Mordovia\",\"Russia\",\"RU\"\n"
       ]
      }
     ],
     "prompt_number": 14
    },
    {
     "cell_type": "code",
     "collapsed": false,
     "input": [
      "to_be_processed.to_csv(\"hgr_test_set_3.csv\",encoding='utf-8')"
     ],
     "language": "python",
     "metadata": {},
     "outputs": [],
     "prompt_number": 16
    },
    {
     "cell_type": "code",
     "collapsed": false,
     "input": [
      "new_single_results['pres_loc'], new_single_results['country'], new_single_results['country_code'] = np.vectorize(reverse_geocode)(new_single_results.lng,new_single_results.lat_y)"
     ],
     "language": "python",
     "metadata": {},
     "outputs": [
      {
       "output_type": "stream",
       "stream": "stdout",
       "text": [
        "https://maps.googleapis.com/maps/api/geocode/json?latlng=57.50211%2C64.16392\n",
        "\"Slobodo-Turinskiy rayon, Sverdlovsk Oblast\",\"Russia\",\"RU\"\n",
        "https://maps.googleapis.com/maps/api/geocode/json?latlng=57.50211%2C64.16392"
       ]
      },
      {
       "output_type": "stream",
       "stream": "stdout",
       "text": [
        "\n",
        "\"Slobodo-Turinskiy rayon, Sverdlovsk Oblast\",\"Russia\",\"RU\"\n",
        "https://maps.googleapis.com/maps/api/geocode/json?latlng=53.77166%2C38.12408"
       ]
      },
      {
       "output_type": "stream",
       "stream": "stdout",
       "text": [
        "\n",
        "\"Bogoroditsk, Tula Oblast\",\"Russia\",\"RU\"\n",
        "https://maps.googleapis.com/maps/api/geocode/json?latlng=53.77166%2C38.12408"
       ]
      },
      {
       "output_type": "stream",
       "stream": "stdout",
       "text": [
        "\n",
        "\"Bogoroditsk, Tula Oblast\",\"Russia\",\"RU\"\n",
        "https://maps.googleapis.com/maps/api/geocode/json?latlng=54.34461%2C35.55015"
       ]
      },
      {
       "output_type": "stream",
       "stream": "stdout",
       "text": [
        "\n",
        "\"Meshchovsky District, Kaluga Oblast\",\"Russia\",\"RU\"\n",
        "https://maps.googleapis.com/maps/api/geocode/json?latlng=50.49503%2C32.71968"
       ]
      },
      {
       "output_type": "stream",
       "stream": "stdout",
       "text": [
        "\n",
        "\"Varva, Chernihivs'ka oblast\",\"Ukraine\",\"UA\"\n",
        "https://maps.googleapis.com/maps/api/geocode/json?latlng=52.62366%2C38.50169"
       ]
      },
      {
       "output_type": "stream",
       "stream": "stdout",
       "text": [
        "\n",
        "\"Yelets, Lipetsk Oblast\",\"Russia\",\"RU\"\n",
        "https://maps.googleapis.com/maps/api/geocode/json?latlng=57.67052%2C63.071"
       ]
      },
      {
       "output_type": "stream",
       "stream": "stdout",
       "text": [
        "\n",
        "\"Irbit, Sverdlovsk Oblast\",\"Russia\",\"RU\"\n",
        "https://maps.googleapis.com/maps/api/geocode/json?latlng=60.10246%2C32.30191"
       ]
      },
      {
       "output_type": "stream",
       "stream": "stdout",
       "text": [
        "\n",
        "\"Novaya Ladoga, Leningrad Oblast\",\"Russia\",\"RU\"\n",
        "https://maps.googleapis.com/maps/api/geocode/json?latlng=50.21084%2C34.0367"
       ]
      },
      {
       "output_type": "stream",
       "stream": "stdout",
       "text": [
        "\n",
        "\"Lyuten'ka, Poltavs'ka oblast\",\"Ukraine\",\"UA\"\n",
        "https://maps.googleapis.com/maps/api/geocode/json?latlng=57.88501%2C43.8049"
       ]
      },
      {
       "output_type": "stream",
       "stream": "stdout",
       "text": [
        "\n",
        "\"Makaryev, Kostroma Oblast\",\"Russia\",\"RU\"\n",
        "https://maps.googleapis.com/maps/api/geocode/json?latlng=52.90838%2C39.7671"
       ]
      },
      {
       "output_type": "stream",
       "stream": "stdout",
       "text": [
        "\n",
        "\"Makhonovo, Lipetsk Oblast\",\"Russia\",\"RU\"\n",
        "https://maps.googleapis.com/maps/api/geocode/json?latlng=48.946%2C37.62433"
       ]
      },
      {
       "output_type": "stream",
       "stream": "stdout",
       "text": [
        "\n",
        "\"Mayaky, Donetsk Oblast\",\"Ukraine\",\"UA\"\n",
        "https://maps.googleapis.com/maps/api/geocode/json?latlng=54.96917%2C35.85861"
       ]
      },
      {
       "output_type": "stream",
       "stream": "stdout",
       "text": [
        "\n",
        "\"Medyn, Kaluga Oblast\",\"Russia\",\"RU\"\n",
        "https://maps.googleapis.com/maps/api/geocode/json?latlng=51.5217%2C32.21568"
       ]
      },
      {
       "output_type": "stream",
       "stream": "stdout",
       "text": [
        "\n",
        "\"Mena, Chernihivs'ka oblast\",\"Ukraine\",\"UA\"\n",
        "https://maps.googleapis.com/maps/api/geocode/json?latlng=54.32444%2C35.28083"
       ]
      },
      {
       "output_type": "stream",
       "stream": "stdout",
       "text": [
        "\n",
        "\"Meshchovsk, Kaluga Oblast\",\"Russia\",\"RU\"\n",
        "https://maps.googleapis.com/maps/api/geocode/json?latlng=53.6882%2C32.253"
       ]
      },
      {
       "output_type": "stream",
       "stream": "stdout",
       "text": [
        "\n",
        "\"Klimavichy District, Mogilev Province\",\"Belarus\",\"BY\"\n",
        "https://maps.googleapis.com/maps/api/geocode/json?latlng=49.96854%2C33.60886"
       ]
      },
      {
       "output_type": "stream",
       "stream": "stdout",
       "text": [
        "\n",
        "\"Myrhorod, Poltavs'ka oblast\",\"Ukraine\",\"UA\"\n",
        "https://maps.googleapis.com/maps/api/geocode/json?latlng=51.023%2C35.26233"
       ]
      },
      {
       "output_type": "stream",
       "stream": "stdout",
       "text": [
        "\n",
        "\"Myropillya, Sums'ka oblast\",\"Ukraine\",\"UA\"\n",
        "https://maps.googleapis.com/maps/api/geocode/json?latlng=54.63291%2C37.70476"
       ]
      },
      {
       "output_type": "stream",
       "stream": "stdout",
       "text": [
        "\n",
        "\"Mirotinskiy, Tula Oblast\",\"Russia\",\"RU\"\n",
        "https://maps.googleapis.com/maps/api/geocode/json?latlng=48.6104%2C39.7831"
       ]
      },
      {
       "output_type": "stream",
       "stream": "stdout",
       "text": [
        "\n",
        "\"Mityakinskaya, Rostov Oblast\",\"Russia\",\"RU\"\n",
        "https://maps.googleapis.com/maps/api/geocode/json?latlng=54.2298%2C39.0269"
       ]
      },
      {
       "output_type": "stream",
       "stream": "stdout",
       "text": [
        "\n",
        "\"Mikhaylov, Ryazan Oblast\",\"Russia\",\"RU\"\n",
        "https://maps.googleapis.com/maps/api/geocode/json?latlng=48.81817%2C33.94792"
       ]
      },
      {
       "output_type": "stream",
       "stream": "stdout",
       "text": [
        "\n",
        "\"Myshuryn Rih, Dnipropetrovsk Oblast\",\"Ukraine\",\"UA\"\n",
        "https://maps.googleapis.com/maps/api/geocode/json?latlng=55.50194%2C36.02722"
       ]
      },
      {
       "output_type": "stream",
       "stream": "stdout",
       "text": [
        "\n",
        "\"Mozhaysk, Moscow Oblast\",\"Russia\",\"RU\"\n",
        "https://maps.googleapis.com/maps/api/geocode/json?latlng=58.14881%2C41.59483"
       ]
      },
      {
       "output_type": "stream",
       "stream": "stdout",
       "text": [
        "\n",
        "\"Susaninsky District, Kostroma Oblast\",\"Russia\",\"RU\"\n",
        "https://maps.googleapis.com/maps/api/geocode/json?latlng=54.34961%2C31.83795"
       ]
      },
      {
       "output_type": "stream",
       "stream": "stdout",
       "text": [
        "\n",
        "\"Monastyrshchina, Smolensk Oblast\",\"Russia\",\"RU\"\n",
        "https://maps.googleapis.com/maps/api/geocode/json?latlng=53.44354%2C41.81065"
       ]
      },
      {
       "output_type": "stream",
       "stream": "stdout",
       "text": [
        "\n",
        "\"Morshansk, Tambov Oblast\",\"Russia\",\"RU\"\n",
        "https://maps.googleapis.com/maps/api/geocode/json?latlng=54.48806%2C34.98167"
       ]
      },
      {
       "output_type": "stream",
       "stream": "stdout",
       "text": [
        "\n",
        "\"Mosalsk, Kaluga Oblast\",\"Russia\",\"RU\"\n",
        "https://maps.googleapis.com/maps/api/geocode/json?latlng=49.34553%2C38.47943"
       ]
      },
      {
       "output_type": "stream",
       "stream": "stdout",
       "text": [
        "\n",
        "\"Mistky, Luhans'ka oblast\",\"Ukraine\",\"UA\"\n",
        "https://maps.googleapis.com/maps/api/geocode/json?latlng=56.54404%2C57.02846"
       ]
      },
      {
       "output_type": "stream",
       "stream": "stdout",
       "text": [
        "\n",
        "\"Sars, Perm Krai\",\"Russia\",\"RU\"\n",
        "https://maps.googleapis.com/maps/api/geocode/json?latlng=51.05368%2C31.55242"
       ]
      },
      {
       "output_type": "stream",
       "stream": "stdout",
       "text": [
        "\n",
        "\"Mryn, Chernihivs'ka oblast\",\"Ukraine\",\"UA\"\n",
        "https://maps.googleapis.com/maps/api/geocode/json?latlng=54.0185%2C31.7217"
       ]
      },
      {
       "output_type": "stream",
       "stream": "stdout",
       "text": [
        "\n",
        "\"Mstsislaw, Mogilev Province\",\"Belarus\",\"BY\"\n",
        "https://maps.googleapis.com/maps/api/geocode/json?latlng=55.99461%2C35.37"
       ]
      },
      {
       "output_type": "stream",
       "stream": "stdout",
       "text": [
        "\n",
        "\"Murikovo, Moscow Oblast\",\"Russia\",\"RU\"\n",
        "https://maps.googleapis.com/maps/api/geocode/json?latlng=55.575%2C42.0426"
       ]
      },
      {
       "output_type": "stream",
       "stream": "stdout",
       "text": [
        "\n",
        "\"Murom, Vladimir Oblast\",\"Russia\",\"RU\"\n",
        "https://maps.googleapis.com/maps/api/geocode/json?latlng=53.27657%2C36.57334"
       ]
      },
      {
       "output_type": "stream",
       "stream": "stdout",
       "text": [
        "\n",
        "\"Mtsensk, Oryol Oblast\",\"Russia\",\"RU\"\n",
        "https://maps.googleapis.com/maps/api/geocode/json?latlng=57.78973%2C38.45448"
       ]
      },
      {
       "output_type": "stream",
       "stream": "stdout",
       "text": [
        "\n",
        "\"Myshkin, Yaroslavl Oblast\",\"Russia\",\"RU\"\n",
        "https://maps.googleapis.com/maps/api/geocode/json?latlng=53.87654%2C43.69458"
       ]
      },
      {
       "output_type": "stream",
       "stream": "stdout",
       "text": [
        "\n",
        "\"Narovchat, Penza Oblast\",\"Russia\",\"RU\"\n",
        "https://maps.googleapis.com/maps/api/geocode/json?latlng=50.83398%2C33.87626"
       ]
      },
      {
       "output_type": "stream",
       "stream": "stdout",
       "text": [
        "\n",
        "\"Nedryhailiv, Sums'ka oblast\",\"Ukraine\",\"UA\"\n",
        "https://maps.googleapis.com/maps/api/geocode/json?latlng=52.97387%2C37.04048"
       ]
      },
      {
       "output_type": "stream",
       "stream": "stdout",
       "text": [
        "\n",
        "\"Novosil, Oryol Oblast\",\"Russia\",\"RU\"\n",
        "https://maps.googleapis.com/maps/api/geocode/json?latlng=50.93152%2C31.58282"
       ]
      },
      {
       "output_type": "stream",
       "stream": "stdout",
       "text": [
        "\n",
        "\"Nosivka, Chernihivs'ka oblast\",\"Ukraine\",\"UA\"\n",
        "https://maps.googleapis.com/maps/api/geocode/json?latlng=51.20981%2C36.27919"
       ]
      },
      {
       "output_type": "stream",
       "stream": "stdout",
       "text": [
        "\n",
        "\"Oboyan, Kursk Oblast\",\"Russia\",\"RU\"\n",
        "https://maps.googleapis.com/maps/api/geocode/json?latlng=56.65394%2C32.33557"
       ]
      },
      {
       "output_type": "stream",
       "stream": "stdout",
       "text": [
        "\n",
        "\"Obrub, Tver Oblast\",\"Russia\",\"RU\"\n",
        "https://maps.googleapis.com/maps/api/geocode/json?latlng=53.93933%2C36.68639"
       ]
      },
      {
       "output_type": "stream",
       "stream": "stdout",
       "text": [
        "\n",
        "\"Odoyev, Tula Oblast\",\"Russia\",\"RU\"\n",
        "https://maps.googleapis.com/maps/api/geocode/json?latlng=60.3743%2C120.4203"
       ]
      },
      {
       "output_type": "stream",
       "stream": "stdout",
       "text": [
        "\n",
        "\"Olekminskiy ulus, Sakha Republic\",\"Russia\",\"RU\"\n",
        "https://maps.googleapis.com/maps/api/geocode/json?latlng=60.98475%2C32.96976"
       ]
      },
      {
       "output_type": "stream",
       "stream": "stdout",
       "text": [
        "\n",
        "\"Olonets, Republic of Karelia\",\"Russia\",\"RU\"\n",
        "https://maps.googleapis.com/maps/api/geocode/json?latlng=49.20765%2C33.54568"
       ]
      },
      {
       "output_type": "stream",
       "stream": "stdout",
       "text": [
        "\n",
        "\"Omel'nyk, Poltavs'ka oblast\",\"Ukraine\",\"UA\"\n",
        "https://maps.googleapis.com/maps/api/geocode/json?latlng=52.60643%2C41.48117"
       ]
      },
      {
       "output_type": "stream",
       "stream": "stdout",
       "text": [
        "\n",
        "\"Kotovsk, Tambov Oblast\",\"Russia\",\"RU\"\n",
        "https://maps.googleapis.com/maps/api/geocode/json?latlng=49.54487%2C33.76977"
       ]
      },
      {
       "output_type": "stream",
       "stream": "stdout",
       "text": [
        "\n",
        "\"Ostap'je, Poltavs'ka oblast\",\"Ukraine\",\"UA\"\n",
        "https://maps.googleapis.com/maps/api/geocode/json?latlng=57.14667%2C33.10753"
       ]
      },
      {
       "output_type": "stream",
       "stream": "stdout",
       "text": [
        "\n",
        "\"Ostashkov, Tver Oblast\",\"Russia\",\"RU\"\n",
        "https://maps.googleapis.com/maps/api/geocode/json?latlng=50.8664%2C39.07561"
       ]
      },
      {
       "output_type": "stream",
       "stream": "stdout",
       "text": [
        "\n",
        "\"Ostrogozhsk, Voronezh Oblast\",\"Russia\",\"RU\"\n",
        "https://maps.googleapis.com/maps/api/geocode/json?latlng=57.01225%2C41.71092"
       ]
      },
      {
       "output_type": "stream",
       "stream": "stdout",
       "text": [
        "\n",
        "\"Parskoye, Ivanovo Oblast\",\"Russia\",\"RU\"\n",
        "https://maps.googleapis.com/maps/api/geocode/json?latlng=51.60722%2C35.48917"
       ]
      },
      {
       "output_type": "stream",
       "stream": "stdout",
       "text": [
        "\n",
        "\"Kurchatovsky District, Kursk Oblast\",\"Russia\",\"RU\"\n",
        "https://maps.googleapis.com/maps/api/geocode/json?latlng=48.89004%2C34.06931"
       ]
      },
      {
       "output_type": "stream",
       "stream": "stdout",
       "text": [
        "\n",
        "\"Svitlohirs'ke, Poltavs'ka oblast\",\"Ukraine\",\"UA\"\n",
        "https://maps.googleapis.com/maps/api/geocode/json?latlng=54.26313%2C36.16063"
       ]
      },
      {
       "output_type": "stream",
       "stream": "stdout",
       "text": [
        "\n",
        "\"Peremyshl, Kaluga Oblast\",\"Russia\",\"RU\"\n",
        "https://maps.googleapis.com/maps/api/geocode/json?latlng=52.30639%2C45.39167"
       ]
      },
      {
       "output_type": "stream",
       "stream": "stdout",
       "text": [
        "\n",
        "\"Petrovsk, Saratov Oblast\",\"Russia\",\"RU\"\n",
        "https://maps.googleapis.com/maps/api/geocode/json?latlng=49.87167%2C36.93472"
       ]
      },
      {
       "output_type": "stream",
       "stream": "stdout",
       "text": [
        "\n",
        "\"Pechenihy, Kharkiv Oblast\",\"Ukraine\",\"UA\"\n",
        "https://maps.googleapis.com/maps/api/geocode/json?latlng=50.24242%2C32.50621"
       ]
      },
      {
       "output_type": "stream",
       "stream": "stdout",
       "text": [
        "\n",
        "\"Pyryatyn, Poltavs'ka oblast\",\"Ukraine\",\"UA\"\n",
        "https://maps.googleapis.com/maps/api/geocode/json?latlng=57.45862%2C41.51579"
       ]
      },
      {
       "output_type": "stream",
       "stream": "stdout",
       "text": [
        "\n",
        "\"Plyos, Ivanovo Oblast\",\"Russia\",\"RU\"\n",
        "https://maps.googleapis.com/maps/api/geocode/json?latlng=57.24028%2C66.79389"
       ]
      },
      {
       "output_type": "stream",
       "stream": "stdout",
       "text": [
        "\n",
        "\"Pokrovskoye, Tyumen Oblast\",\"Russia\",\"RU\"\n",
        "https://maps.googleapis.com/maps/api/geocode/json?latlng=55.4879%2C28.7856"
       ]
      },
      {
       "output_type": "stream",
       "stream": "stdout",
       "text": [
        "\n",
        "\"Polatsk, Vitebsk Region\",\"Belarus\",\"BY\"\n",
        "https://maps.googleapis.com/maps/api/geocode/json?latlng=51.72622%2C32.85255"
       ]
      },
      {
       "output_type": "stream",
       "stream": "stdout",
       "text": [
        "\n",
        "\"Ponornytsya, Chernihivs'ka oblast\",\"Ukraine\",\"UA\"\n",
        "https://maps.googleapis.com/maps/api/geocode/json?latlng=49.77022%2C31.04966"
       ]
      },
      {
       "output_type": "stream",
       "stream": "stdout",
       "text": [
        "\n",
        "\"Myronivs'kyi district, Kyivs'ka oblast\",\"Ukraine\",\"UA\"\n",
        "https://maps.googleapis.com/maps/api/geocode/json?latlng=58.49928%2C39.13531"
       ]
      },
      {
       "output_type": "stream",
       "stream": "stdout",
       "text": [
        "\n",
        "\"Poshekhonye, Yaroslavl Oblast\",\"Russia\",\"RU\"\n",
        "https://maps.googleapis.com/maps/api/geocode/json?latlng=56.40132%2C27.1325"
       ]
      },
      {
       "output_type": "stream",
       "stream": "stdout",
       "text": [
        "\n",
        "\"Prezma, R\u0113zekne Municipality\",\"Latvia\",\"LV\"\n",
        "https://maps.googleapis.com/maps/api/geocode/json?latlng=56.29444%2C26.72459"
       ]
      },
      {
       "output_type": "stream",
       "stream": "stdout",
       "text": [
        "\n",
        "\"Prei\u013ci, Prei\u013ci Municipality\",\"Latvia\",\"LV\"\n",
        "https://maps.googleapis.com/maps/api/geocode/json?latlng=52.92251%2C36.46653"
       ]
      },
      {
       "output_type": "stream",
       "stream": "stdout",
       "text": [
        "\n",
        "\"Zalegoshchensky District, Oryol Oblast\",\"Russia\",\"RU\"\n",
        "https://maps.googleapis.com/maps/api/geocode/json?latlng=51.33745%2C33.87066"
       ]
      },
      {
       "output_type": "stream",
       "stream": "stdout",
       "text": [
        "\n",
        "\"Putyvl', Sums'ka oblast\",\"Ukraine\",\"UA\"\n",
        "https://maps.googleapis.com/maps/api/geocode/json?latlng=56.23333%2C27.21667"
       ]
      },
      {
       "output_type": "stream",
       "stream": "stdout",
       "text": [
        "\n",
        "\"Pu\u0161a, R\u0113zekne Municipality\",\"Latvia\",\"LV\"\n",
        "https://maps.googleapis.com/maps/api/geocode/json?latlng=54.30443%2C37.34742"
       ]
      },
      {
       "output_type": "stream",
       "stream": "stdout",
       "text": [
        "\n",
        "\"Pyatnitskoye, Tula Oblast\",\"Russia\",\"RU\"\n",
        "https://maps.googleapis.com/maps/api/geocode/json?latlng=49.75083%2C37.59472"
       ]
      },
      {
       "output_type": "stream",
       "stream": "stdout",
       "text": [
        "\n",
        "\"Kup'yans'kyi district, Kharkiv Oblast\",\"Ukraine\",\"UA\"\n",
        "https://maps.googleapis.com/maps/api/geocode/json?latlng=50.22562%2C33.88896"
       ]
      },
      {
       "output_type": "stream",
       "stream": "stdout",
       "text": [
        "\n",
        "\"Rashivka, Poltavs'ka oblast\",\"Ukraine\",\"UA\"\n",
        "https://maps.googleapis.com/maps/api/geocode/json?latlng=53.0934%2C30.0495"
       ]
      },
      {
       "output_type": "stream",
       "stream": "stdout",
       "text": [
        "\n",
        "\"Raha\u010do\u016d, Homiel Province\",\"Belarus\",\"BY\"\n",
        "https://maps.googleapis.com/maps/api/geocode/json?latlng=57.1914%2C39.41394"
       ]
      },
      {
       "output_type": "stream",
       "stream": "stdout",
       "text": [
        "\n",
        "\"Rostov, Yaroslavl Oblast\",\"Russia\",\"RU\"\n",
        "https://maps.googleapis.com/maps/api/geocode/json?latlng=52.962%2C34.76467"
       ]
      },
      {
       "output_type": "stream",
       "stream": "stdout",
       "text": [
        "\n",
        "\"Ruzhnoye, Bryansk Oblast\",\"Russia\",\"RU\"\n",
        "https://maps.googleapis.com/maps/api/geocode/json?latlng=58.0446%2C38.84259"
       ]
      },
      {
       "output_type": "stream",
       "stream": "stdout",
       "text": [
        "\n",
        "\"Rybinsk, Yaroslavl Oblast\",\"Russia\",\"RU\"\n",
        "https://maps.googleapis.com/maps/api/geocode/json?latlng=51.5655%2C34.6822"
       ]
      },
      {
       "output_type": "stream",
       "stream": "stdout",
       "text": [
        "\n",
        "\"Rylsk, Kursk Oblast\",\"Russia\",\"RU\"\n",
        "https://maps.googleapis.com/maps/api/geocode/json?latlng=53.7038%2C40.1109"
       ]
      },
      {
       "output_type": "stream",
       "stream": "stdout",
       "text": [
        "\n",
        "\"Ryazhsk, Ryazan Oblast\",\"Russia\",\"RU\"\n",
        "https://maps.googleapis.com/maps/api/geocode/json?latlng=53.20007%2C50.15"
       ]
      },
      {
       "output_type": "stream",
       "stream": "stdout",
       "text": [
        "\n",
        "\"Samara, Samara Oblast\",\"Russia\",\"RU\"\n",
        "https://maps.googleapis.com/maps/api/geocode/json?latlng=51.54056%2C46.00861"
       ]
      },
      {
       "output_type": "stream",
       "stream": "stdout",
       "text": [
        "\n",
        "\"Saratov, Saratov Oblast\",\"Russia\",\"RU\"\n",
        "https://maps.googleapis.com/maps/api/geocode/json?latlng=55.05685%2C45.863"
       ]
      },
      {
       "output_type": "stream",
       "stream": "stdout",
       "text": [
        "\n",
        "\"Sechenovsky District, Nizhny Novgorod Oblast\",\"Russia\",\"RU\"\n",
        "https://maps.googleapis.com/maps/api/geocode/json?latlng=49.88974%2C35.1886"
       ]
      },
      {
       "output_type": "stream",
       "stream": "stdout",
       "text": [
        "\n",
        "\"error, Kharkiv Oblast\",\"Ukraine\",\"UA\"\n",
        "https://maps.googleapis.com/maps/api/geocode/json?latlng=55.53079%2C45.46611"
       ]
      },
      {
       "output_type": "stream",
       "stream": "stdout",
       "text": [
        "\n",
        "\"Sergach, Nizhny Novgorod Oblast\",\"Russia\",\"RU\"\n",
        "https://maps.googleapis.com/maps/api/geocode/json?latlng=61.69459%2C30.67434"
       ]
      },
      {
       "output_type": "stream",
       "stream": "stdout",
       "text": [
        "\n",
        "\"Sortavala, Republic of Karelia\",\"Russia\",\"RU\"\n",
        "https://maps.googleapis.com/maps/api/geocode/json?latlng=52.45861%2C44.21689"
       ]
      },
      {
       "output_type": "stream",
       "stream": "stdout",
       "text": [
        "\n",
        "\"Serdobsk, Penza Oblast\",\"Russia\",\"RU\"\n",
        "https://maps.googleapis.com/maps/api/geocode/json?latlng=52.18903%2C34.03639"
       ]
      },
      {
       "output_type": "stream",
       "stream": "stdout",
       "text": [
        "\n",
        "\"Seredyna-Buda, Sums'ka oblast\",\"Ukraine\",\"UA\"\n",
        "https://maps.googleapis.com/maps/api/geocode/json?latlng=54.33583%2C34.98889"
       ]
      },
      {
       "output_type": "stream",
       "stream": "stdout",
       "text": [
        "\n",
        "\"Serpeysk, Kaluga Oblast\",\"Russia\",\"RU\"\n",
        "https://maps.googleapis.com/maps/api/geocode/json?latlng=54.91578%2C37.41114"
       ]
      },
      {
       "output_type": "stream",
       "stream": "stdout",
       "text": [
        "\n",
        "\"Serpukhov, Moscow Oblast\",\"Russia\",\"RU\"\n",
        "https://maps.googleapis.com/maps/api/geocode/json?latlng=54.32824%2C48.38657"
       ]
      },
      {
       "output_type": "stream",
       "stream": "stdout",
       "text": [
        "\n",
        "\"Ulyanovsk, Ulyanovsk Oblast\",\"Russia\",\"RU\"\n",
        "https://maps.googleapis.com/maps/api/geocode/json?latlng=54.7818%2C32.0401"
       ]
      },
      {
       "output_type": "stream",
       "stream": "stdout",
       "text": [
        "\n",
        "\"Smolensk, Smolensk Oblast\",\"Russia\",\"RU\"\n",
        "https://maps.googleapis.com/maps/api/geocode/json?latlng=50.92601%2C33.58499"
       ]
      },
      {
       "output_type": "stream",
       "stream": "stdout",
       "text": [
        "\n",
        "\"Smile, Sums'ka oblast\",\"Ukraine\",\"UA\"\n",
        "https://maps.googleapis.com/maps/api/geocode/json?latlng=61.33046%2C46.91559"
       ]
      },
      {
       "output_type": "stream",
       "stream": "stdout",
       "text": [
        "\n",
        "\"Solvychegodsk, Arkhangelsk Oblast\",\"Russia\",\"RU\"\n",
        "https://maps.googleapis.com/maps/api/geocode/json?latlng=50.66384%2C32.91867"
       ]
      },
      {
       "output_type": "stream",
       "stream": "stdout",
       "text": [
        "\n",
        "\"Sribne, Chernihivs'ka oblast\",\"Ukraine\",\"UA\"\n",
        "https://maps.googleapis.com/maps/api/geocode/json?latlng=53.5303%2C49.3461"
       ]
      },
      {
       "output_type": "stream",
       "stream": "stdout",
       "text": [
        "\n",
        "\"Tolyatti, Samara Oblast\",\"Russia\",\"RU\"\n",
        "https://maps.googleapis.com/maps/api/geocode/json?latlng=54.4062%2C40.4287"
       ]
      },
      {
       "output_type": "stream",
       "stream": "stdout",
       "text": [
        "\n",
        "\"Spassky District, Ryazan Oblast\",\"Russia\",\"RU\"\n",
        "https://maps.googleapis.com/maps/api/geocode/json?latlng=55.60512%2C45.69645"
       ]
      },
      {
       "output_type": "stream",
       "stream": "stdout",
       "text": [
        "\n",
        "\"Pilna, Nizhny Novgorod Oblast\",\"Russia\",\"RU\"\n",
        "https://maps.googleapis.com/maps/api/geocode/json?latlng=56.98333%2C36.81667"
       ]
      },
      {
       "output_type": "stream",
       "stream": "stdout",
       "text": [
        "\n",
        "\"Goritsy, Tver Oblast\",\"Russia\",\"RU\"\n",
        "https://maps.googleapis.com/maps/api/geocode/json?latlng=58.97754%2C43.13026"
       ]
      },
      {
       "output_type": "stream",
       "stream": "stdout",
       "text": [
        "\n",
        "\"Suday, Kostroma Oblast\",\"Russia\",\"RU\"\n",
        "https://maps.googleapis.com/maps/api/geocode/json?latlng=51.1976%2C35.2726"
       ]
      },
      {
       "output_type": "stream",
       "stream": "stdout",
       "text": [
        "\n",
        "\"Sudzha, Kursk Oblast\",\"Russia\",\"RU\"\n",
        "https://maps.googleapis.com/maps/api/geocode/json?latlng=56.42274%2C40.44668"
       ]
      },
      {
       "output_type": "stream",
       "stream": "stdout",
       "text": [
        "\n",
        "\"Suzdal, Vladimir Oblast\",\"Russia\",\"RU\"\n",
        "https://maps.googleapis.com/maps/api/geocode/json?latlng=50.9216%2C34.80029"
       ]
      },
      {
       "output_type": "stream",
       "stream": "stdout",
       "text": [
        "\n",
        "\"Sumy, Sums'ka oblast\",\"Ukraine\",\"UA\"\n",
        "https://maps.googleapis.com/maps/api/geocode/json?latlng=53.9581%2C30.7045"
       ]
      },
      {
       "output_type": "stream",
       "stream": "stdout",
       "text": [
        "\n",
        "\"\u0421\u0443\u0445\u0430\u0440\u044b, Mogilev Province\",\"Belarus\",\"BY\"\n",
        "https://maps.googleapis.com/maps/api/geocode/json?latlng=52.1491%2C34.4926"
       ]
      },
      {
       "output_type": "stream",
       "stream": "stdout",
       "text": [
        "\n",
        "\"Sevsk, Bryansk Oblast\",\"Russia\",\"RU\"\n",
        "https://maps.googleapis.com/maps/api/geocode/json?latlng=52.73169%2C41.44326"
       ]
      },
      {
       "output_type": "stream",
       "stream": "stdout",
       "text": [
        "\n",
        "\"Tambov, Tambov Oblast\",\"Russia\",\"RU\"\n",
        "https://maps.googleapis.com/maps/api/geocode/json?latlng=54.72436%2C37.17272"
       ]
      },
      {
       "output_type": "stream",
       "stream": "stdout",
       "text": [
        "\n",
        "\"Tarusa, Kaluga Oblast\",\"Russia\",\"RU\"\n",
        "https://maps.googleapis.com/maps/api/geocode/json?latlng=56.85836%2C35.90057"
       ]
      },
      {
       "output_type": "stream",
       "stream": "stdout",
       "text": [
        "\n",
        "\"Tver, Tver Oblast\",\"Russia\",\"RU\"\n",
        "https://maps.googleapis.com/maps/api/geocode/json?latlng=54.63023%2C43.21483"
       ]
      },
      {
       "output_type": "stream",
       "stream": "stdout",
       "text": [
        "\n",
        "\"Temnikov, Mordovia\",\"Russia\",\"RU\"\n",
        "https://maps.googleapis.com/maps/api/geocode/json?latlng=56.45016%2C27.05126"
       ]
      },
      {
       "output_type": "stream",
       "stream": "stdout",
       "text": [
        "\n",
        "\"Tisk\u0101di, R\u0113zekne Municipality\",\"Latvia\",\"LV\"\n",
        "https://maps.googleapis.com/maps/api/geocode/json?latlng=59.64511%2C33.52937"
       ]
      },
      {
       "output_type": "stream",
       "stream": "stdout",
       "text": [
        "\n",
        "\"Tikhvin, Leningrad Oblast\",\"Russia\",\"RU\"\n",
        "https://maps.googleapis.com/maps/api/geocode/json?latlng=54.63884%2C36.15534"
       ]
      },
      {
       "output_type": "stream",
       "stream": "stdout",
       "text": [
        "\n",
        "\"Tikhonova Pustyn', Kaluga Oblast\",\"Russia\",\"RU\"\n",
        "https://maps.googleapis.com/maps/api/geocode/json?latlng=58.19807%2C68.25457"
       ]
      },
      {
       "output_type": "stream",
       "stream": "stdout",
       "text": [
        "\n",
        "\"Tobolsk, Tyumen Oblast\",\"Russia\",\"RU\"\n",
        "https://maps.googleapis.com/maps/api/geocode/json?latlng=50.68338%2C36.23309"
       ]
      },
      {
       "output_type": "stream",
       "stream": "stdout",
       "text": [
        "\n",
        "\"Tomarovka, Belgorod Oblast\",\"Russia\",\"RU\"\n",
        "https://maps.googleapis.com/maps/api/geocode/json?latlng=56.49779%2C31.63528"
       ]
      },
      {
       "output_type": "stream",
       "stream": "stdout",
       "text": [
        "\n",
        "\"Toropets, Tver Oblast\",\"Russia\",\"RU\"\n",
        "https://maps.googleapis.com/maps/api/geocode/json?latlng=54.09013%2C43.82312"
       ]
      },
      {
       "output_type": "stream",
       "stream": "stdout",
       "text": [
        "\n",
        "\"Kovylkinsky District, Mordovia\",\"Russia\",\"RU\"\n",
        "https://maps.googleapis.com/maps/api/geocode/json?latlng=62.3598%2C44.0139"
       ]
      },
      {
       "output_type": "stream",
       "stream": "stdout",
       "text": [
        "\n",
        "\"error, Arkhangelsk Oblast\",\"Russia\",\"RU\"\n",
        "https://maps.googleapis.com/maps/api/geocode/json?latlng=54.19609%2C37.61822"
       ]
      },
      {
       "output_type": "stream",
       "stream": "stdout",
       "text": [
        "\n",
        "\"Tula, Tula Oblast\",\"Russia\",\"RU\"\n",
        "https://maps.googleapis.com/maps/api/geocode/json?latlng=53.13139%2C38.48336"
       ]
      },
      {
       "output_type": "stream",
       "stream": "stdout",
       "text": [
        "\n",
        "\"Shilovo, Tula Oblast\",\"Russia\",\"RU\"\n",
        "https://maps.googleapis.com/maps/api/geocode/json?latlng=57.5275%2C38.33167"
       ]
      },
      {
       "output_type": "stream",
       "stream": "stdout",
       "text": [
        "\n",
        "\"Uglich, Yaroslavl Oblast\",\"Russia\",\"RU\"\n",
        "https://maps.googleapis.com/maps/api/geocode/json?latlng=50.0836%2C38.0395"
       ]
      },
      {
       "output_type": "stream",
       "stream": "stdout",
       "text": [
        "\n",
        "\"Urazovo, Belgorod Oblast\",\"Russia\",\"RU\"\n",
        "https://maps.googleapis.com/maps/api/geocode/json?latlng=51.23333%2C51.36667"
       ]
      },
      {
       "output_type": "stream",
       "stream": "stdout",
       "text": [
        "\n",
        "\"Uralsk, West Kazakhstan Province\",\"Kazakhstan\",\"KZ\"\n",
        "https://maps.googleapis.com/maps/api/geocode/json?latlng=49.86076%2C33.80293"
       ]
      },
      {
       "output_type": "stream",
       "stream": "stdout",
       "text": [
        "\n",
        "\"Ustyvytsya, Poltavs'ka oblast\",\"Ukraine\",\"UA\"\n",
        "https://maps.googleapis.com/maps/api/geocode/json?latlng=61.67642%2C50.80994"
       ]
      },
      {
       "output_type": "stream",
       "stream": "stdout",
       "text": [
        "\n",
        "\"Syktyvkar, Komi Republic\",\"Russia\",\"RU\"\n",
        "https://maps.googleapis.com/maps/api/geocode/json?latlng=60.76186%2C46.31352"
       ]
      },
      {
       "output_type": "stream",
       "stream": "stdout",
       "text": [
        "\n",
        "\"Veliky Ustyug, Vologda Oblast\",\"Russia\",\"RU\"\n",
        "https://maps.googleapis.com/maps/api/geocode/json?latlng=52.0891%2C35.8632"
       ]
      },
      {
       "output_type": "stream",
       "stream": "stdout",
       "text": [
        "\n",
        "\"Fatezh, Kursk Oblast\",\"Russia\",\"RU\"\n",
        "https://maps.googleapis.com/maps/api/geocode/json?latlng=58.36389%2C25.59"
       ]
      },
      {
       "output_type": "stream",
       "stream": "stdout",
       "text": [
        "\n",
        "\"Viljandi, Viljandi County\",\"Estonia\",\"EE\"\n",
        "https://maps.googleapis.com/maps/api/geocode/json?latlng=52.4906%2C48.1058"
       ]
      },
      {
       "output_type": "stream",
       "stream": "stdout",
       "text": [
        "\n",
        "\"Khvalynsk, Saratov Oblast\",\"Russia\",\"RU\"\n",
        "https://maps.googleapis.com/maps/api/geocode/json?latlng=46.65581%2C32.6178"
       ]
      },
      {
       "output_type": "stream",
       "stream": "stdout",
       "text": [
        "\n",
        "\"Kherson, Khersons'ka oblast\",\"Ukraine\",\"UA\"\n",
        "https://maps.googleapis.com/maps/api/geocode/json?latlng=55.99746%2C35.50309"
       ]
      },
      {
       "output_type": "stream",
       "stream": "stdout",
       "text": [
        "\n",
        "\"Khovan', Moscow Oblast\",\"Russia\",\"RU\"\n",
        "https://maps.googleapis.com/maps/api/geocode/json?latlng=51.08113%2C34.77089"
       ]
      },
      {
       "output_type": "stream",
       "stream": "stdout",
       "text": [
        "\n",
        "\"Khotin', Sums'ka oblast\",\"Ukraine\",\"UA\"\n",
        "https://maps.googleapis.com/maps/api/geocode/json?latlng=59.13333%2C37.9"
       ]
      },
      {
       "output_type": "stream",
       "stream": "stdout",
       "text": [
        "\n",
        "\"Cherepovets, Vologda Oblast\",\"Russia\",\"RU\"\n",
        "https://maps.googleapis.com/maps/api/geocode/json?latlng=53.5689%2C31.3831"
       ]
      },
      {
       "output_type": "stream",
       "stream": "stdout",
       "text": [
        "\n",
        "\"\u010ceryka\u016d, Mogilev Province\",\"Belarus\",\"BY\"\n",
        "https://maps.googleapis.com/maps/api/geocode/json?latlng=50.26732%2C32.94196"
       ]
      },
      {
       "output_type": "stream",
       "stream": "stdout",
       "text": [
        "\n",
        "\"Chornukhy, Poltavs'ka oblast\",\"Ukraine\",\"UA\"\n",
        "https://maps.googleapis.com/maps/api/geocode/json?latlng=52.9164%2C30.9179"
       ]
      },
      {
       "output_type": "stream",
       "stream": "stdout",
       "text": [
        "\n",
        "\"\u010ca\u010dersk, Homiel Province\",\"Belarus\",\"BY\"\n",
        "https://maps.googleapis.com/maps/api/geocode/json?latlng=49.83588%2C36.68803"
       ]
      },
      {
       "output_type": "stream",
       "stream": "stdout",
       "text": [
        "\n",
        "\"Chuhuiv, Kharkiv Oblast\",\"Ukraine\",\"UA\"\n",
        "https://maps.googleapis.com/maps/api/geocode/json?latlng=50.3766%2C34.58107"
       ]
      },
      {
       "output_type": "stream",
       "stream": "stdout",
       "text": [
        "\n",
        "\"Okhtyrs'kyi district, Sums'ka oblast\",\"Ukraine\",\"UA\"\n",
        "https://maps.googleapis.com/maps/api/geocode/json?latlng=58.75375%2C42.68318"
       ]
      },
      {
       "output_type": "stream",
       "stream": "stdout",
       "text": [
        "\n",
        "\"Chukhloma, Kostroma Oblast\",\"Russia\",\"RU\"\n",
        "https://maps.googleapis.com/maps/api/geocode/json?latlng=54.1895%2C31.3557"
       ]
      },
      {
       "output_type": "stream",
       "stream": "stdout",
       "text": [
        "\n",
        "\"Shamava, Mogilev Province\",\"Belarus\",\"BY\"\n",
        "https://maps.googleapis.com/maps/api/geocode/json?latlng=53.85833%2C32.42417"
       ]
      },
      {
       "output_type": "stream",
       "stream": "stdout",
       "text": [
        "\n",
        "\"Shumyachi, Smolensk Oblast\",\"Russia\",\"RU\"\n",
        "https://maps.googleapis.com/maps/api/geocode/json?latlng=56.84865%2C41.38833"
       ]
      },
      {
       "output_type": "stream",
       "stream": "stdout",
       "text": [
        "\n",
        "\"Shuya, Ivanovo Oblast\",\"Russia\",\"RU\"\n",
        "https://maps.googleapis.com/maps/api/geocode/json?latlng=51.12215%2C35.04061"
       ]
      },
      {
       "output_type": "stream",
       "stream": "stdout",
       "text": [
        "\n",
        "\"Yunakivka, Sums'ka oblast\",\"Ukraine\",\"UA\"\n",
        "https://maps.googleapis.com/maps/api/geocode/json?latlng=56.50339%2C39.67911"
       ]
      },
      {
       "output_type": "stream",
       "stream": "stdout",
       "text": [
        "\n",
        "\"Yuryev-Polsky, Vladimir Oblast\",\"Russia\",\"RU\"\n",
        "https://maps.googleapis.com/maps/api/geocode/json?latlng=50.27975%2C31.76246"
       ]
      },
      {
       "output_type": "stream",
       "stream": "stdout",
       "text": [
        "\n",
        "\"Yahotyn, Kyivs'ka oblast\",\"Ukraine\",\"UA\"\n",
        "https://maps.googleapis.com/maps/api/geocode/json?latlng=55.94052%2C46.20622"
       ]
      },
      {
       "output_type": "stream",
       "stream": "stdout",
       "text": [
        "\n",
        "\"Yadrin, Chuvashia Republic\",\"Russia\",\"RU\"\n",
        "https://maps.googleapis.com/maps/api/geocode/json?latlng=48.93555%2C37.95634"
       ]
      },
      {
       "output_type": "stream",
       "stream": "stdout",
       "text": [
        "\n",
        "\"error, Donetsk Oblast\",\"Ukraine\",\"UA\"\n",
        "https://maps.googleapis.com/maps/api/geocode/json?latlng=54.58449%2C43.57015"
       ]
      },
      {
       "output_type": "stream",
       "stream": "stdout",
       "text": [
        "\n",
        "\"Temnikovsky District, Mordovia\",\"Russia\",\"RU\"\n",
        "https://maps.googleapis.com/maps/api/geocode/json?latlng=62.16755%2C49.09162"
       ]
      },
      {
       "output_type": "stream",
       "stream": "stdout",
       "text": [
        "\n",
        "\"Lenskiy rayon, Arkhangelsk Oblast\",\"Russia\",\"RU\"\n"
       ]
      },
      {
       "output_type": "stream",
       "stream": "stderr",
       "text": [
        "-c:1: SettingWithCopyWarning: A value is trying to be set on a copy of a slice from a DataFrame.\n",
        "Try using .loc[row_index,col_indexer] = value instead\n"
       ]
      }
     ],
     "prompt_number": 25
    },
    {
     "cell_type": "code",
     "collapsed": false,
     "input": [
      "new_single_results = new_single_results[['lat_x', 'hgr_id', 'name', 'alt_name', 'partof_id', 'lng', 'lat_y', '_type', 'source_url', 'text', 'name_modern_sp', 'lc_translit', 'pres_loc', 'country', 'country_code', 'result_placename', 'searched_placename', 'admin1', 'country_name', 'src_id', 'url', 'src', 'ru_prov', 'prov_modern_sp', 'prov_stem', 'ru_uezd', 'page']]"
     ],
     "language": "python",
     "metadata": {},
     "outputs": [],
     "prompt_number": 26
    },
    {
     "cell_type": "code",
     "collapsed": false,
     "input": [
      "new_single_results.to_csv(\"new_single_results.csv\",encoding='utf-8')"
     ],
     "language": "python",
     "metadata": {},
     "outputs": [],
     "prompt_number": 27
    },
    {
     "cell_type": "code",
     "collapsed": false,
     "input": [
      "geodf_merged.columns"
     ],
     "language": "python",
     "metadata": {},
     "outputs": []
    }
   ],
   "metadata": {}
  }
 ]
}