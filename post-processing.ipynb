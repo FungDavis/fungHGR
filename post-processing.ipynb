{
 "metadata": {
  "name": "",
  "signature": "sha256:b2e2a5dc5ce9761c29051cc80f9ea5a4447c867df8c857fadb8c668b447186a6"
 },
 "nbformat": 3,
 "nbformat_minor": 0,
 "worksheets": [
  {
   "cells": [
    {
     "cell_type": "code",
     "collapsed": false,
     "input": [
      "import pandas as pd\n",
      "import numpy as np\n",
      "import json, re, requests, time"
     ],
     "language": "python",
     "metadata": {},
     "outputs": [],
     "prompt_number": 19
    },
    {
     "cell_type": "code",
     "collapsed": false,
     "input": [
      "geodf_merged = pd.DataFrame.from_csv(\"geocoded_merged.csv\")"
     ],
     "language": "python",
     "metadata": {},
     "outputs": [],
     "prompt_number": 3
    },
    {
     "cell_type": "code",
     "collapsed": false,
     "input": [
      "finding_counts = geodf_merged.ix[geodf_merged.result_placename!='not_found'].pivot_table(index='hgr_id',values='lat',aggfunc=lambda x: len(x.unique()))\n",
      "fdf = pd.DataFrame(finding_counts)\n",
      "single_results = pd.merge(fdf.ix[fdf.lat==1],geodf_merged,left_index=True,right_on='hgr_id')\n",
      "single_results = single_results.ix[single_results.result_placename!='not_found']"
     ],
     "language": "python",
     "metadata": {},
     "outputs": [],
     "prompt_number": 5
    },
    {
     "cell_type": "code",
     "collapsed": false,
     "input": [
      "hgr_set = pd.DataFrame.from_csv(\"hgr_test_set_2.csv\")"
     ],
     "language": "python",
     "metadata": {},
     "outputs": [],
     "prompt_number": 6
    },
    {
     "cell_type": "code",
     "collapsed": false,
     "input": [
      "single_results['isold'] = single_results.text.isin(hgr_set.description)\n",
      "new_single_results = single_results.ix[single_results.isold==False]"
     ],
     "language": "python",
     "metadata": {},
     "outputs": [],
     "prompt_number": 14
    },
    {
     "cell_type": "code",
     "collapsed": false,
     "input": [
      "def reverse_geocode(lng,lat):\n",
      "    keepgoing = True\n",
      "    while keepgoing == True:\n",
      "        try:\n",
      "            url = \"https://maps.googleapis.com/maps/api/geocode/json\"\n",
      "            Q = {'latlng':\"{},{}\".format(lat,lng)}\n",
      "            R = requests.get(url, params=Q)\n",
      "            print(R.url)\n",
      "            geo_response = R.json()\n",
      "            locality = 'error'\n",
      "            for component in geo_response['results'][0]['address_components']:\n",
      "                if 'locality' in component['types']:\n",
      "                    locality = component['long_name']\n",
      "                elif 'administrative_area_level_1' in component['types']:\n",
      "                    admin1 = component['long_name']\n",
      "                elif 'country' in component['types']:\n",
      "                    country = component['long_name']\n",
      "                    countryCode = component['short_name']\n",
      "            if locality == 'error':\n",
      "                for component in geo_response['results'][0]['address_components']:\n",
      "                    if 'administrative_area_level_2' in component['types']:\n",
      "                        locality = component['long_name']\n",
      "            print(\"\\\"{0}, {1}\\\",\\\"{2}\\\",\\\"{3}\\\"\".format(locality,admin1,country,countryCode))\n",
      "            time.sleep(1)\n",
      "            keepgoing = False\n",
      "        except IndexError:\n",
      "            time.sleep(1)\n",
      "            continue\n",
      "        return \"{}, {}\".format(locality,admin1), country, countryCode"
     ],
     "language": "python",
     "metadata": {},
     "outputs": [],
     "prompt_number": 15
    },
    {
     "cell_type": "code",
     "collapsed": false,
     "input": [
      "new_single_results['pres_loc'], new_single_results['country'], new_single_results['country_code'] = np.vectorize(reverse_geocode)(new_single_results.lng,new_single_results.lat_y)"
     ],
     "language": "python",
     "metadata": {},
     "outputs": [
      {
       "output_type": "stream",
       "stream": "stdout",
       "text": [
        "https://maps.googleapis.com/maps/api/geocode/json?latlng=57.50211%2C64.16392\n",
        "\"Slobodo-Turinskiy rayon, Sverdlovsk Oblast\",\"Russia\",\"RU\"\n",
        "https://maps.googleapis.com/maps/api/geocode/json?latlng=57.50211%2C64.16392"
       ]
      },
      {
       "output_type": "stream",
       "stream": "stdout",
       "text": [
        "\n",
        "\"Slobodo-Turinskiy rayon, Sverdlovsk Oblast\",\"Russia\",\"RU\"\n",
        "https://maps.googleapis.com/maps/api/geocode/json?latlng=53.77166%2C38.12408"
       ]
      },
      {
       "output_type": "stream",
       "stream": "stdout",
       "text": [
        "\n",
        "\"Bogoroditsk, Tula Oblast\",\"Russia\",\"RU\"\n",
        "https://maps.googleapis.com/maps/api/geocode/json?latlng=53.77166%2C38.12408"
       ]
      },
      {
       "output_type": "stream",
       "stream": "stdout",
       "text": [
        "\n",
        "\"Bogoroditsk, Tula Oblast\",\"Russia\",\"RU\"\n",
        "https://maps.googleapis.com/maps/api/geocode/json?latlng=54.34461%2C35.55015"
       ]
      },
      {
       "output_type": "stream",
       "stream": "stdout",
       "text": [
        "\n",
        "\"Meshchovsky District, Kaluga Oblast\",\"Russia\",\"RU\"\n",
        "https://maps.googleapis.com/maps/api/geocode/json?latlng=50.49503%2C32.71968"
       ]
      },
      {
       "output_type": "stream",
       "stream": "stdout",
       "text": [
        "\n",
        "\"Varva, Chernihivs'ka oblast\",\"Ukraine\",\"UA\"\n",
        "https://maps.googleapis.com/maps/api/geocode/json?latlng=52.62366%2C38.50169"
       ]
      },
      {
       "output_type": "stream",
       "stream": "stdout",
       "text": [
        "\n",
        "\"Yelets, Lipetsk Oblast\",\"Russia\",\"RU\"\n",
        "https://maps.googleapis.com/maps/api/geocode/json?latlng=57.67052%2C63.071"
       ]
      },
      {
       "output_type": "stream",
       "stream": "stdout",
       "text": [
        "\n",
        "\"Irbit, Sverdlovsk Oblast\",\"Russia\",\"RU\"\n",
        "https://maps.googleapis.com/maps/api/geocode/json?latlng=60.10246%2C32.30191"
       ]
      },
      {
       "output_type": "stream",
       "stream": "stdout",
       "text": [
        "\n",
        "\"Novaya Ladoga, Leningrad Oblast\",\"Russia\",\"RU\"\n",
        "https://maps.googleapis.com/maps/api/geocode/json?latlng=50.21084%2C34.0367"
       ]
      },
      {
       "output_type": "stream",
       "stream": "stdout",
       "text": [
        "\n",
        "\"Lyuten'ka, Poltavs'ka oblast\",\"Ukraine\",\"UA\"\n",
        "https://maps.googleapis.com/maps/api/geocode/json?latlng=57.88501%2C43.8049"
       ]
      },
      {
       "output_type": "stream",
       "stream": "stdout",
       "text": [
        "\n",
        "\"Makaryev, Kostroma Oblast\",\"Russia\",\"RU\"\n",
        "https://maps.googleapis.com/maps/api/geocode/json?latlng=52.90838%2C39.7671"
       ]
      },
      {
       "output_type": "stream",
       "stream": "stdout",
       "text": [
        "\n",
        "\"Makhonovo, Lipetsk Oblast\",\"Russia\",\"RU\"\n",
        "https://maps.googleapis.com/maps/api/geocode/json?latlng=48.946%2C37.62433"
       ]
      },
      {
       "output_type": "stream",
       "stream": "stdout",
       "text": [
        "\n",
        "\"Mayaky, Donetsk Oblast\",\"Ukraine\",\"UA\"\n",
        "https://maps.googleapis.com/maps/api/geocode/json?latlng=54.96917%2C35.85861"
       ]
      },
      {
       "output_type": "stream",
       "stream": "stdout",
       "text": [
        "\n",
        "\"Medyn, Kaluga Oblast\",\"Russia\",\"RU\"\n",
        "https://maps.googleapis.com/maps/api/geocode/json?latlng=51.5217%2C32.21568"
       ]
      },
      {
       "output_type": "stream",
       "stream": "stdout",
       "text": [
        "\n",
        "\"Mena, Chernihivs'ka oblast\",\"Ukraine\",\"UA\"\n",
        "https://maps.googleapis.com/maps/api/geocode/json?latlng=54.32444%2C35.28083"
       ]
      },
      {
       "output_type": "stream",
       "stream": "stdout",
       "text": [
        "\n",
        "\"Meshchovsk, Kaluga Oblast\",\"Russia\",\"RU\"\n",
        "https://maps.googleapis.com/maps/api/geocode/json?latlng=53.6882%2C32.253"
       ]
      },
      {
       "output_type": "stream",
       "stream": "stdout",
       "text": [
        "\n",
        "\"Klimavichy District, Mogilev Province\",\"Belarus\",\"BY\"\n",
        "https://maps.googleapis.com/maps/api/geocode/json?latlng=49.96854%2C33.60886"
       ]
      },
      {
       "output_type": "stream",
       "stream": "stdout",
       "text": [
        "\n",
        "\"Myrhorod, Poltavs'ka oblast\",\"Ukraine\",\"UA\"\n",
        "https://maps.googleapis.com/maps/api/geocode/json?latlng=51.023%2C35.26233"
       ]
      },
      {
       "output_type": "stream",
       "stream": "stdout",
       "text": [
        "\n",
        "\"Myropillya, Sums'ka oblast\",\"Ukraine\",\"UA\"\n",
        "https://maps.googleapis.com/maps/api/geocode/json?latlng=54.63291%2C37.70476"
       ]
      },
      {
       "output_type": "stream",
       "stream": "stdout",
       "text": [
        "\n",
        "\"Mirotinskiy, Tula Oblast\",\"Russia\",\"RU\"\n",
        "https://maps.googleapis.com/maps/api/geocode/json?latlng=48.6104%2C39.7831"
       ]
      },
      {
       "output_type": "stream",
       "stream": "stdout",
       "text": [
        "\n",
        "\"Mityakinskaya, Rostov Oblast\",\"Russia\",\"RU\"\n",
        "https://maps.googleapis.com/maps/api/geocode/json?latlng=54.2298%2C39.0269"
       ]
      },
      {
       "output_type": "stream",
       "stream": "stdout",
       "text": [
        "\n",
        "\"Mikhaylov, Ryazan Oblast\",\"Russia\",\"RU\"\n",
        "https://maps.googleapis.com/maps/api/geocode/json?latlng=48.81817%2C33.94792"
       ]
      },
      {
       "output_type": "stream",
       "stream": "stdout",
       "text": [
        "\n",
        "\"Myshuryn Rih, Dnipropetrovsk Oblast\",\"Ukraine\",\"UA\"\n",
        "https://maps.googleapis.com/maps/api/geocode/json?latlng=55.50194%2C36.02722"
       ]
      },
      {
       "output_type": "stream",
       "stream": "stdout",
       "text": [
        "\n",
        "\"Mozhaysk, Moscow Oblast\",\"Russia\",\"RU\"\n",
        "https://maps.googleapis.com/maps/api/geocode/json?latlng=58.14881%2C41.59483"
       ]
      },
      {
       "output_type": "stream",
       "stream": "stdout",
       "text": [
        "\n",
        "\"Susaninsky District, Kostroma Oblast\",\"Russia\",\"RU\"\n",
        "https://maps.googleapis.com/maps/api/geocode/json?latlng=54.34961%2C31.83795"
       ]
      },
      {
       "output_type": "stream",
       "stream": "stdout",
       "text": [
        "\n",
        "\"Monastyrshchina, Smolensk Oblast\",\"Russia\",\"RU\"\n",
        "https://maps.googleapis.com/maps/api/geocode/json?latlng=53.44354%2C41.81065"
       ]
      },
      {
       "output_type": "stream",
       "stream": "stdout",
       "text": [
        "\n",
        "\"Morshansk, Tambov Oblast\",\"Russia\",\"RU\"\n",
        "https://maps.googleapis.com/maps/api/geocode/json?latlng=54.48806%2C34.98167"
       ]
      },
      {
       "output_type": "stream",
       "stream": "stdout",
       "text": [
        "\n",
        "\"Mosalsk, Kaluga Oblast\",\"Russia\",\"RU\"\n",
        "https://maps.googleapis.com/maps/api/geocode/json?latlng=49.34553%2C38.47943"
       ]
      },
      {
       "output_type": "stream",
       "stream": "stdout",
       "text": [
        "\n",
        "\"Mistky, Luhans'ka oblast\",\"Ukraine\",\"UA\"\n",
        "https://maps.googleapis.com/maps/api/geocode/json?latlng=56.54404%2C57.02846"
       ]
      },
      {
       "output_type": "stream",
       "stream": "stdout",
       "text": [
        "\n",
        "\"Sars, Perm Krai\",\"Russia\",\"RU\"\n",
        "https://maps.googleapis.com/maps/api/geocode/json?latlng=51.05368%2C31.55242"
       ]
      },
      {
       "output_type": "stream",
       "stream": "stdout",
       "text": [
        "\n",
        "\"Mryn, Chernihivs'ka oblast\",\"Ukraine\",\"UA\"\n",
        "https://maps.googleapis.com/maps/api/geocode/json?latlng=54.0185%2C31.7217"
       ]
      },
      {
       "output_type": "stream",
       "stream": "stdout",
       "text": [
        "\n",
        "\"Mstsislaw, Mogilev Province\",\"Belarus\",\"BY\"\n",
        "https://maps.googleapis.com/maps/api/geocode/json?latlng=55.99461%2C35.37"
       ]
      },
      {
       "output_type": "stream",
       "stream": "stdout",
       "text": [
        "\n",
        "\"Murikovo, Moscow Oblast\",\"Russia\",\"RU\"\n",
        "https://maps.googleapis.com/maps/api/geocode/json?latlng=55.575%2C42.0426"
       ]
      },
      {
       "output_type": "stream",
       "stream": "stdout",
       "text": [
        "\n",
        "\"Murom, Vladimir Oblast\",\"Russia\",\"RU\"\n",
        "https://maps.googleapis.com/maps/api/geocode/json?latlng=53.27657%2C36.57334"
       ]
      },
      {
       "output_type": "stream",
       "stream": "stdout",
       "text": [
        "\n",
        "\"Mtsensk, Oryol Oblast\",\"Russia\",\"RU\"\n",
        "https://maps.googleapis.com/maps/api/geocode/json?latlng=57.78973%2C38.45448"
       ]
      },
      {
       "output_type": "stream",
       "stream": "stdout",
       "text": [
        "\n",
        "\"Myshkin, Yaroslavl Oblast\",\"Russia\",\"RU\"\n",
        "https://maps.googleapis.com/maps/api/geocode/json?latlng=53.87654%2C43.69458"
       ]
      },
      {
       "output_type": "stream",
       "stream": "stdout",
       "text": [
        "\n",
        "\"Narovchat, Penza Oblast\",\"Russia\",\"RU\"\n",
        "https://maps.googleapis.com/maps/api/geocode/json?latlng=50.83398%2C33.87626"
       ]
      },
      {
       "output_type": "stream",
       "stream": "stdout",
       "text": [
        "\n",
        "\"Nedryhailiv, Sums'ka oblast\",\"Ukraine\",\"UA\"\n",
        "https://maps.googleapis.com/maps/api/geocode/json?latlng=52.97387%2C37.04048"
       ]
      },
      {
       "output_type": "stream",
       "stream": "stdout",
       "text": [
        "\n",
        "\"Novosil, Oryol Oblast\",\"Russia\",\"RU\"\n",
        "https://maps.googleapis.com/maps/api/geocode/json?latlng=50.93152%2C31.58282"
       ]
      },
      {
       "output_type": "stream",
       "stream": "stdout",
       "text": [
        "\n",
        "\"Nosivka, Chernihivs'ka oblast\",\"Ukraine\",\"UA\"\n",
        "https://maps.googleapis.com/maps/api/geocode/json?latlng=51.20981%2C36.27919"
       ]
      },
      {
       "output_type": "stream",
       "stream": "stdout",
       "text": [
        "\n",
        "\"Oboyan, Kursk Oblast\",\"Russia\",\"RU\"\n",
        "https://maps.googleapis.com/maps/api/geocode/json?latlng=56.65394%2C32.33557"
       ]
      },
      {
       "output_type": "stream",
       "stream": "stdout",
       "text": [
        "\n",
        "\"Obrub, Tver Oblast\",\"Russia\",\"RU\"\n",
        "https://maps.googleapis.com/maps/api/geocode/json?latlng=53.93933%2C36.68639"
       ]
      },
      {
       "output_type": "stream",
       "stream": "stdout",
       "text": [
        "\n",
        "\"Odoyev, Tula Oblast\",\"Russia\",\"RU\"\n",
        "https://maps.googleapis.com/maps/api/geocode/json?latlng=60.3743%2C120.4203"
       ]
      },
      {
       "output_type": "stream",
       "stream": "stdout",
       "text": [
        "\n",
        "\"Olekminskiy ulus, Sakha Republic\",\"Russia\",\"RU\"\n",
        "https://maps.googleapis.com/maps/api/geocode/json?latlng=60.98475%2C32.96976"
       ]
      },
      {
       "output_type": "stream",
       "stream": "stdout",
       "text": [
        "\n",
        "\"Olonets, Republic of Karelia\",\"Russia\",\"RU\"\n",
        "https://maps.googleapis.com/maps/api/geocode/json?latlng=49.20765%2C33.54568"
       ]
      },
      {
       "output_type": "stream",
       "stream": "stdout",
       "text": [
        "\n",
        "\"Omel'nyk, Poltavs'ka oblast\",\"Ukraine\",\"UA\"\n",
        "https://maps.googleapis.com/maps/api/geocode/json?latlng=52.60643%2C41.48117"
       ]
      },
      {
       "output_type": "stream",
       "stream": "stdout",
       "text": [
        "\n",
        "\"Kotovsk, Tambov Oblast\",\"Russia\",\"RU\"\n",
        "https://maps.googleapis.com/maps/api/geocode/json?latlng=49.54487%2C33.76977"
       ]
      },
      {
       "output_type": "stream",
       "stream": "stdout",
       "text": [
        "\n",
        "\"Ostap'je, Poltavs'ka oblast\",\"Ukraine\",\"UA\"\n",
        "https://maps.googleapis.com/maps/api/geocode/json?latlng=57.14667%2C33.10753"
       ]
      },
      {
       "output_type": "stream",
       "stream": "stdout",
       "text": [
        "\n",
        "\"Ostashkov, Tver Oblast\",\"Russia\",\"RU\"\n",
        "https://maps.googleapis.com/maps/api/geocode/json?latlng=50.8664%2C39.07561"
       ]
      },
      {
       "output_type": "stream",
       "stream": "stdout",
       "text": [
        "\n",
        "\"Ostrogozhsk, Voronezh Oblast\",\"Russia\",\"RU\"\n",
        "https://maps.googleapis.com/maps/api/geocode/json?latlng=57.01225%2C41.71092"
       ]
      },
      {
       "output_type": "stream",
       "stream": "stdout",
       "text": [
        "\n",
        "\"Parskoye, Ivanovo Oblast\",\"Russia\",\"RU\"\n",
        "https://maps.googleapis.com/maps/api/geocode/json?latlng=51.60722%2C35.48917"
       ]
      },
      {
       "output_type": "stream",
       "stream": "stdout",
       "text": [
        "\n",
        "\"Kurchatovsky District, Kursk Oblast\",\"Russia\",\"RU\"\n",
        "https://maps.googleapis.com/maps/api/geocode/json?latlng=48.89004%2C34.06931"
       ]
      },
      {
       "output_type": "stream",
       "stream": "stdout",
       "text": [
        "\n",
        "\"Svitlohirs'ke, Poltavs'ka oblast\",\"Ukraine\",\"UA\"\n",
        "https://maps.googleapis.com/maps/api/geocode/json?latlng=54.26313%2C36.16063"
       ]
      },
      {
       "output_type": "stream",
       "stream": "stdout",
       "text": [
        "\n",
        "\"Peremyshl, Kaluga Oblast\",\"Russia\",\"RU\"\n",
        "https://maps.googleapis.com/maps/api/geocode/json?latlng=52.30639%2C45.39167"
       ]
      },
      {
       "output_type": "stream",
       "stream": "stdout",
       "text": [
        "\n",
        "\"Petrovsk, Saratov Oblast\",\"Russia\",\"RU\"\n",
        "https://maps.googleapis.com/maps/api/geocode/json?latlng=49.87167%2C36.93472"
       ]
      },
      {
       "output_type": "stream",
       "stream": "stdout",
       "text": [
        "\n",
        "\"Pechenihy, Kharkiv Oblast\",\"Ukraine\",\"UA\"\n",
        "https://maps.googleapis.com/maps/api/geocode/json?latlng=50.24242%2C32.50621"
       ]
      },
      {
       "output_type": "stream",
       "stream": "stdout",
       "text": [
        "\n",
        "\"Pyryatyn, Poltavs'ka oblast\",\"Ukraine\",\"UA\"\n",
        "https://maps.googleapis.com/maps/api/geocode/json?latlng=57.45862%2C41.51579"
       ]
      },
      {
       "output_type": "stream",
       "stream": "stdout",
       "text": [
        "\n",
        "\"Plyos, Ivanovo Oblast\",\"Russia\",\"RU\"\n",
        "https://maps.googleapis.com/maps/api/geocode/json?latlng=57.24028%2C66.79389"
       ]
      },
      {
       "output_type": "stream",
       "stream": "stdout",
       "text": [
        "\n",
        "\"Pokrovskoye, Tyumen Oblast\",\"Russia\",\"RU\"\n",
        "https://maps.googleapis.com/maps/api/geocode/json?latlng=55.4879%2C28.7856"
       ]
      },
      {
       "output_type": "stream",
       "stream": "stdout",
       "text": [
        "\n",
        "\"Polatsk, Vitebsk Region\",\"Belarus\",\"BY\"\n",
        "https://maps.googleapis.com/maps/api/geocode/json?latlng=51.72622%2C32.85255"
       ]
      },
      {
       "output_type": "stream",
       "stream": "stdout",
       "text": [
        "\n",
        "\"Ponornytsya, Chernihivs'ka oblast\",\"Ukraine\",\"UA\"\n",
        "https://maps.googleapis.com/maps/api/geocode/json?latlng=49.77022%2C31.04966"
       ]
      },
      {
       "output_type": "stream",
       "stream": "stdout",
       "text": [
        "\n",
        "\"Myronivs'kyi district, Kyivs'ka oblast\",\"Ukraine\",\"UA\"\n",
        "https://maps.googleapis.com/maps/api/geocode/json?latlng=58.49928%2C39.13531"
       ]
      },
      {
       "output_type": "stream",
       "stream": "stdout",
       "text": [
        "\n",
        "\"Poshekhonye, Yaroslavl Oblast\",\"Russia\",\"RU\"\n",
        "https://maps.googleapis.com/maps/api/geocode/json?latlng=56.40132%2C27.1325"
       ]
      },
      {
       "output_type": "stream",
       "stream": "stdout",
       "text": [
        "\n",
        "\"Prezma, R\u0113zekne Municipality\",\"Latvia\",\"LV\"\n",
        "https://maps.googleapis.com/maps/api/geocode/json?latlng=56.29444%2C26.72459"
       ]
      },
      {
       "output_type": "stream",
       "stream": "stdout",
       "text": [
        "\n",
        "\"Prei\u013ci, Prei\u013ci Municipality\",\"Latvia\",\"LV\"\n",
        "https://maps.googleapis.com/maps/api/geocode/json?latlng=52.92251%2C36.46653"
       ]
      },
      {
       "output_type": "stream",
       "stream": "stdout",
       "text": [
        "\n",
        "\"Zalegoshchensky District, Oryol Oblast\",\"Russia\",\"RU\"\n",
        "https://maps.googleapis.com/maps/api/geocode/json?latlng=51.33745%2C33.87066"
       ]
      },
      {
       "output_type": "stream",
       "stream": "stdout",
       "text": [
        "\n",
        "\"Putyvl', Sums'ka oblast\",\"Ukraine\",\"UA\"\n",
        "https://maps.googleapis.com/maps/api/geocode/json?latlng=56.23333%2C27.21667"
       ]
      },
      {
       "output_type": "stream",
       "stream": "stdout",
       "text": [
        "\n",
        "\"Pu\u0161a, R\u0113zekne Municipality\",\"Latvia\",\"LV\"\n",
        "https://maps.googleapis.com/maps/api/geocode/json?latlng=54.30443%2C37.34742"
       ]
      },
      {
       "output_type": "stream",
       "stream": "stdout",
       "text": [
        "\n",
        "\"Pyatnitskoye, Tula Oblast\",\"Russia\",\"RU\"\n",
        "https://maps.googleapis.com/maps/api/geocode/json?latlng=49.75083%2C37.59472"
       ]
      },
      {
       "output_type": "stream",
       "stream": "stdout",
       "text": [
        "\n",
        "\"Kup'yans'kyi district, Kharkiv Oblast\",\"Ukraine\",\"UA\"\n",
        "https://maps.googleapis.com/maps/api/geocode/json?latlng=50.22562%2C33.88896"
       ]
      },
      {
       "output_type": "stream",
       "stream": "stdout",
       "text": [
        "\n",
        "\"Rashivka, Poltavs'ka oblast\",\"Ukraine\",\"UA\"\n",
        "https://maps.googleapis.com/maps/api/geocode/json?latlng=53.0934%2C30.0495"
       ]
      },
      {
       "output_type": "stream",
       "stream": "stdout",
       "text": [
        "\n",
        "\"Raha\u010do\u016d, Homiel Province\",\"Belarus\",\"BY\"\n",
        "https://maps.googleapis.com/maps/api/geocode/json?latlng=57.1914%2C39.41394"
       ]
      },
      {
       "output_type": "stream",
       "stream": "stdout",
       "text": [
        "\n",
        "\"Rostov, Yaroslavl Oblast\",\"Russia\",\"RU\"\n",
        "https://maps.googleapis.com/maps/api/geocode/json?latlng=52.962%2C34.76467"
       ]
      },
      {
       "output_type": "stream",
       "stream": "stdout",
       "text": [
        "\n",
        "\"Ruzhnoye, Bryansk Oblast\",\"Russia\",\"RU\"\n",
        "https://maps.googleapis.com/maps/api/geocode/json?latlng=58.0446%2C38.84259"
       ]
      },
      {
       "output_type": "stream",
       "stream": "stdout",
       "text": [
        "\n",
        "\"Rybinsk, Yaroslavl Oblast\",\"Russia\",\"RU\"\n",
        "https://maps.googleapis.com/maps/api/geocode/json?latlng=51.5655%2C34.6822"
       ]
      },
      {
       "output_type": "stream",
       "stream": "stdout",
       "text": [
        "\n",
        "\"Rylsk, Kursk Oblast\",\"Russia\",\"RU\"\n",
        "https://maps.googleapis.com/maps/api/geocode/json?latlng=53.7038%2C40.1109"
       ]
      },
      {
       "output_type": "stream",
       "stream": "stdout",
       "text": [
        "\n",
        "\"Ryazhsk, Ryazan Oblast\",\"Russia\",\"RU\"\n",
        "https://maps.googleapis.com/maps/api/geocode/json?latlng=53.20007%2C50.15"
       ]
      },
      {
       "output_type": "stream",
       "stream": "stdout",
       "text": [
        "\n",
        "\"Samara, Samara Oblast\",\"Russia\",\"RU\"\n",
        "https://maps.googleapis.com/maps/api/geocode/json?latlng=51.54056%2C46.00861"
       ]
      },
      {
       "output_type": "stream",
       "stream": "stdout",
       "text": [
        "\n",
        "\"Saratov, Saratov Oblast\",\"Russia\",\"RU\"\n",
        "https://maps.googleapis.com/maps/api/geocode/json?latlng=55.05685%2C45.863"
       ]
      },
      {
       "output_type": "stream",
       "stream": "stdout",
       "text": [
        "\n",
        "\"Sechenovsky District, Nizhny Novgorod Oblast\",\"Russia\",\"RU\"\n",
        "https://maps.googleapis.com/maps/api/geocode/json?latlng=49.88974%2C35.1886"
       ]
      },
      {
       "output_type": "stream",
       "stream": "stdout",
       "text": [
        "\n",
        "\"error, Kharkiv Oblast\",\"Ukraine\",\"UA\"\n",
        "https://maps.googleapis.com/maps/api/geocode/json?latlng=55.53079%2C45.46611"
       ]
      },
      {
       "output_type": "stream",
       "stream": "stdout",
       "text": [
        "\n",
        "\"Sergach, Nizhny Novgorod Oblast\",\"Russia\",\"RU\"\n",
        "https://maps.googleapis.com/maps/api/geocode/json?latlng=61.69459%2C30.67434"
       ]
      },
      {
       "output_type": "stream",
       "stream": "stdout",
       "text": [
        "\n",
        "\"Sortavala, Republic of Karelia\",\"Russia\",\"RU\"\n",
        "https://maps.googleapis.com/maps/api/geocode/json?latlng=52.45861%2C44.21689"
       ]
      },
      {
       "output_type": "stream",
       "stream": "stdout",
       "text": [
        "\n",
        "\"Serdobsk, Penza Oblast\",\"Russia\",\"RU\"\n",
        "https://maps.googleapis.com/maps/api/geocode/json?latlng=52.18903%2C34.03639"
       ]
      },
      {
       "output_type": "stream",
       "stream": "stdout",
       "text": [
        "\n",
        "\"Seredyna-Buda, Sums'ka oblast\",\"Ukraine\",\"UA\"\n",
        "https://maps.googleapis.com/maps/api/geocode/json?latlng=54.33583%2C34.98889"
       ]
      },
      {
       "output_type": "stream",
       "stream": "stdout",
       "text": [
        "\n",
        "\"Serpeysk, Kaluga Oblast\",\"Russia\",\"RU\"\n",
        "https://maps.googleapis.com/maps/api/geocode/json?latlng=54.91578%2C37.41114"
       ]
      },
      {
       "output_type": "stream",
       "stream": "stdout",
       "text": [
        "\n",
        "\"Serpukhov, Moscow Oblast\",\"Russia\",\"RU\"\n",
        "https://maps.googleapis.com/maps/api/geocode/json?latlng=54.32824%2C48.38657"
       ]
      },
      {
       "output_type": "stream",
       "stream": "stdout",
       "text": [
        "\n",
        "\"Ulyanovsk, Ulyanovsk Oblast\",\"Russia\",\"RU\"\n",
        "https://maps.googleapis.com/maps/api/geocode/json?latlng=54.7818%2C32.0401"
       ]
      },
      {
       "output_type": "stream",
       "stream": "stdout",
       "text": [
        "\n",
        "\"Smolensk, Smolensk Oblast\",\"Russia\",\"RU\"\n",
        "https://maps.googleapis.com/maps/api/geocode/json?latlng=50.92601%2C33.58499"
       ]
      },
      {
       "output_type": "stream",
       "stream": "stdout",
       "text": [
        "\n",
        "\"Smile, Sums'ka oblast\",\"Ukraine\",\"UA\"\n",
        "https://maps.googleapis.com/maps/api/geocode/json?latlng=61.33046%2C46.91559"
       ]
      },
      {
       "output_type": "stream",
       "stream": "stdout",
       "text": [
        "\n",
        "\"Solvychegodsk, Arkhangelsk Oblast\",\"Russia\",\"RU\"\n",
        "https://maps.googleapis.com/maps/api/geocode/json?latlng=50.66384%2C32.91867"
       ]
      },
      {
       "output_type": "stream",
       "stream": "stdout",
       "text": [
        "\n",
        "\"Sribne, Chernihivs'ka oblast\",\"Ukraine\",\"UA\"\n",
        "https://maps.googleapis.com/maps/api/geocode/json?latlng=53.5303%2C49.3461"
       ]
      },
      {
       "output_type": "stream",
       "stream": "stdout",
       "text": [
        "\n",
        "\"Tolyatti, Samara Oblast\",\"Russia\",\"RU\"\n",
        "https://maps.googleapis.com/maps/api/geocode/json?latlng=54.4062%2C40.4287"
       ]
      },
      {
       "output_type": "stream",
       "stream": "stdout",
       "text": [
        "\n",
        "\"Spassky District, Ryazan Oblast\",\"Russia\",\"RU\"\n",
        "https://maps.googleapis.com/maps/api/geocode/json?latlng=55.60512%2C45.69645"
       ]
      },
      {
       "output_type": "stream",
       "stream": "stdout",
       "text": [
        "\n",
        "\"Pilna, Nizhny Novgorod Oblast\",\"Russia\",\"RU\"\n",
        "https://maps.googleapis.com/maps/api/geocode/json?latlng=56.98333%2C36.81667"
       ]
      },
      {
       "output_type": "stream",
       "stream": "stdout",
       "text": [
        "\n",
        "\"Goritsy, Tver Oblast\",\"Russia\",\"RU\"\n",
        "https://maps.googleapis.com/maps/api/geocode/json?latlng=58.97754%2C43.13026"
       ]
      },
      {
       "output_type": "stream",
       "stream": "stdout",
       "text": [
        "\n",
        "\"Suday, Kostroma Oblast\",\"Russia\",\"RU\"\n",
        "https://maps.googleapis.com/maps/api/geocode/json?latlng=51.1976%2C35.2726"
       ]
      },
      {
       "output_type": "stream",
       "stream": "stdout",
       "text": [
        "\n",
        "\"Sudzha, Kursk Oblast\",\"Russia\",\"RU\"\n",
        "https://maps.googleapis.com/maps/api/geocode/json?latlng=56.42274%2C40.44668"
       ]
      },
      {
       "output_type": "stream",
       "stream": "stdout",
       "text": [
        "\n",
        "\"Suzdal, Vladimir Oblast\",\"Russia\",\"RU\"\n",
        "https://maps.googleapis.com/maps/api/geocode/json?latlng=50.9216%2C34.80029"
       ]
      },
      {
       "output_type": "stream",
       "stream": "stdout",
       "text": [
        "\n",
        "\"Sumy, Sums'ka oblast\",\"Ukraine\",\"UA\"\n",
        "https://maps.googleapis.com/maps/api/geocode/json?latlng=53.9581%2C30.7045"
       ]
      },
      {
       "output_type": "stream",
       "stream": "stdout",
       "text": [
        "\n",
        "\"\u0421\u0443\u0445\u0430\u0440\u044b, Mogilev Province\",\"Belarus\",\"BY\"\n",
        "https://maps.googleapis.com/maps/api/geocode/json?latlng=52.1491%2C34.4926"
       ]
      },
      {
       "output_type": "stream",
       "stream": "stdout",
       "text": [
        "\n",
        "\"Sevsk, Bryansk Oblast\",\"Russia\",\"RU\"\n",
        "https://maps.googleapis.com/maps/api/geocode/json?latlng=52.73169%2C41.44326"
       ]
      },
      {
       "output_type": "stream",
       "stream": "stdout",
       "text": [
        "\n",
        "\"Tambov, Tambov Oblast\",\"Russia\",\"RU\"\n",
        "https://maps.googleapis.com/maps/api/geocode/json?latlng=54.72436%2C37.17272"
       ]
      },
      {
       "output_type": "stream",
       "stream": "stdout",
       "text": [
        "\n",
        "\"Tarusa, Kaluga Oblast\",\"Russia\",\"RU\"\n",
        "https://maps.googleapis.com/maps/api/geocode/json?latlng=56.85836%2C35.90057"
       ]
      },
      {
       "output_type": "stream",
       "stream": "stdout",
       "text": [
        "\n",
        "\"Tver, Tver Oblast\",\"Russia\",\"RU\"\n",
        "https://maps.googleapis.com/maps/api/geocode/json?latlng=54.63023%2C43.21483"
       ]
      },
      {
       "output_type": "stream",
       "stream": "stdout",
       "text": [
        "\n",
        "\"Temnikov, Mordovia\",\"Russia\",\"RU\"\n",
        "https://maps.googleapis.com/maps/api/geocode/json?latlng=56.45016%2C27.05126"
       ]
      },
      {
       "output_type": "stream",
       "stream": "stdout",
       "text": [
        "\n",
        "\"Tisk\u0101di, R\u0113zekne Municipality\",\"Latvia\",\"LV\"\n",
        "https://maps.googleapis.com/maps/api/geocode/json?latlng=59.64511%2C33.52937"
       ]
      },
      {
       "output_type": "stream",
       "stream": "stdout",
       "text": [
        "\n",
        "\"Tikhvin, Leningrad Oblast\",\"Russia\",\"RU\"\n",
        "https://maps.googleapis.com/maps/api/geocode/json?latlng=54.63884%2C36.15534"
       ]
      },
      {
       "output_type": "stream",
       "stream": "stdout",
       "text": [
        "\n",
        "\"Tikhonova Pustyn', Kaluga Oblast\",\"Russia\",\"RU\"\n",
        "https://maps.googleapis.com/maps/api/geocode/json?latlng=58.19807%2C68.25457"
       ]
      },
      {
       "output_type": "stream",
       "stream": "stdout",
       "text": [
        "\n",
        "\"Tobolsk, Tyumen Oblast\",\"Russia\",\"RU\"\n",
        "https://maps.googleapis.com/maps/api/geocode/json?latlng=50.68338%2C36.23309"
       ]
      },
      {
       "output_type": "stream",
       "stream": "stdout",
       "text": [
        "\n",
        "\"Tomarovka, Belgorod Oblast\",\"Russia\",\"RU\"\n",
        "https://maps.googleapis.com/maps/api/geocode/json?latlng=56.49779%2C31.63528"
       ]
      },
      {
       "output_type": "stream",
       "stream": "stdout",
       "text": [
        "\n",
        "\"Toropets, Tver Oblast\",\"Russia\",\"RU\"\n",
        "https://maps.googleapis.com/maps/api/geocode/json?latlng=54.09013%2C43.82312"
       ]
      },
      {
       "output_type": "stream",
       "stream": "stdout",
       "text": [
        "\n",
        "\"Kovylkinsky District, Mordovia\",\"Russia\",\"RU\"\n",
        "https://maps.googleapis.com/maps/api/geocode/json?latlng=62.3598%2C44.0139"
       ]
      },
      {
       "output_type": "stream",
       "stream": "stdout",
       "text": [
        "\n",
        "\"error, Arkhangelsk Oblast\",\"Russia\",\"RU\"\n",
        "https://maps.googleapis.com/maps/api/geocode/json?latlng=54.19609%2C37.61822"
       ]
      },
      {
       "output_type": "stream",
       "stream": "stdout",
       "text": [
        "\n",
        "\"Tula, Tula Oblast\",\"Russia\",\"RU\"\n",
        "https://maps.googleapis.com/maps/api/geocode/json?latlng=53.13139%2C38.48336"
       ]
      },
      {
       "output_type": "stream",
       "stream": "stdout",
       "text": [
        "\n",
        "\"Shilovo, Tula Oblast\",\"Russia\",\"RU\"\n",
        "https://maps.googleapis.com/maps/api/geocode/json?latlng=57.5275%2C38.33167"
       ]
      },
      {
       "output_type": "stream",
       "stream": "stdout",
       "text": [
        "\n",
        "\"Uglich, Yaroslavl Oblast\",\"Russia\",\"RU\"\n",
        "https://maps.googleapis.com/maps/api/geocode/json?latlng=50.0836%2C38.0395"
       ]
      },
      {
       "output_type": "stream",
       "stream": "stdout",
       "text": [
        "\n",
        "\"Urazovo, Belgorod Oblast\",\"Russia\",\"RU\"\n",
        "https://maps.googleapis.com/maps/api/geocode/json?latlng=51.23333%2C51.36667"
       ]
      },
      {
       "output_type": "stream",
       "stream": "stdout",
       "text": [
        "\n",
        "\"Uralsk, West Kazakhstan Province\",\"Kazakhstan\",\"KZ\"\n",
        "https://maps.googleapis.com/maps/api/geocode/json?latlng=49.86076%2C33.80293"
       ]
      },
      {
       "output_type": "stream",
       "stream": "stdout",
       "text": [
        "\n",
        "\"Ustyvytsya, Poltavs'ka oblast\",\"Ukraine\",\"UA\"\n",
        "https://maps.googleapis.com/maps/api/geocode/json?latlng=61.67642%2C50.80994"
       ]
      },
      {
       "output_type": "stream",
       "stream": "stdout",
       "text": [
        "\n",
        "\"Syktyvkar, Komi Republic\",\"Russia\",\"RU\"\n",
        "https://maps.googleapis.com/maps/api/geocode/json?latlng=60.76186%2C46.31352"
       ]
      },
      {
       "output_type": "stream",
       "stream": "stdout",
       "text": [
        "\n",
        "\"Veliky Ustyug, Vologda Oblast\",\"Russia\",\"RU\"\n",
        "https://maps.googleapis.com/maps/api/geocode/json?latlng=52.0891%2C35.8632"
       ]
      },
      {
       "output_type": "stream",
       "stream": "stdout",
       "text": [
        "\n",
        "\"Fatezh, Kursk Oblast\",\"Russia\",\"RU\"\n",
        "https://maps.googleapis.com/maps/api/geocode/json?latlng=58.36389%2C25.59"
       ]
      },
      {
       "output_type": "stream",
       "stream": "stdout",
       "text": [
        "\n",
        "\"Viljandi, Viljandi County\",\"Estonia\",\"EE\"\n",
        "https://maps.googleapis.com/maps/api/geocode/json?latlng=52.4906%2C48.1058"
       ]
      },
      {
       "output_type": "stream",
       "stream": "stdout",
       "text": [
        "\n",
        "\"Khvalynsk, Saratov Oblast\",\"Russia\",\"RU\"\n",
        "https://maps.googleapis.com/maps/api/geocode/json?latlng=46.65581%2C32.6178"
       ]
      },
      {
       "output_type": "stream",
       "stream": "stdout",
       "text": [
        "\n",
        "\"Kherson, Khersons'ka oblast\",\"Ukraine\",\"UA\"\n",
        "https://maps.googleapis.com/maps/api/geocode/json?latlng=55.99746%2C35.50309"
       ]
      },
      {
       "output_type": "stream",
       "stream": "stdout",
       "text": [
        "\n",
        "\"Khovan', Moscow Oblast\",\"Russia\",\"RU\"\n",
        "https://maps.googleapis.com/maps/api/geocode/json?latlng=51.08113%2C34.77089"
       ]
      },
      {
       "output_type": "stream",
       "stream": "stdout",
       "text": [
        "\n",
        "\"Khotin', Sums'ka oblast\",\"Ukraine\",\"UA\"\n",
        "https://maps.googleapis.com/maps/api/geocode/json?latlng=59.13333%2C37.9"
       ]
      },
      {
       "output_type": "stream",
       "stream": "stdout",
       "text": [
        "\n",
        "\"Cherepovets, Vologda Oblast\",\"Russia\",\"RU\"\n",
        "https://maps.googleapis.com/maps/api/geocode/json?latlng=53.5689%2C31.3831"
       ]
      },
      {
       "output_type": "stream",
       "stream": "stdout",
       "text": [
        "\n",
        "\"\u010ceryka\u016d, Mogilev Province\",\"Belarus\",\"BY\"\n",
        "https://maps.googleapis.com/maps/api/geocode/json?latlng=50.26732%2C32.94196"
       ]
      },
      {
       "output_type": "stream",
       "stream": "stdout",
       "text": [
        "\n",
        "\"Chornukhy, Poltavs'ka oblast\",\"Ukraine\",\"UA\"\n",
        "https://maps.googleapis.com/maps/api/geocode/json?latlng=52.9164%2C30.9179"
       ]
      },
      {
       "output_type": "stream",
       "stream": "stdout",
       "text": [
        "\n",
        "\"\u010ca\u010dersk, Homiel Province\",\"Belarus\",\"BY\"\n",
        "https://maps.googleapis.com/maps/api/geocode/json?latlng=49.83588%2C36.68803"
       ]
      },
      {
       "output_type": "stream",
       "stream": "stdout",
       "text": [
        "\n",
        "\"Chuhuiv, Kharkiv Oblast\",\"Ukraine\",\"UA\"\n",
        "https://maps.googleapis.com/maps/api/geocode/json?latlng=50.3766%2C34.58107"
       ]
      },
      {
       "output_type": "stream",
       "stream": "stdout",
       "text": [
        "\n",
        "\"Okhtyrs'kyi district, Sums'ka oblast\",\"Ukraine\",\"UA\"\n",
        "https://maps.googleapis.com/maps/api/geocode/json?latlng=58.75375%2C42.68318"
       ]
      },
      {
       "output_type": "stream",
       "stream": "stdout",
       "text": [
        "\n",
        "\"Chukhloma, Kostroma Oblast\",\"Russia\",\"RU\"\n",
        "https://maps.googleapis.com/maps/api/geocode/json?latlng=54.1895%2C31.3557"
       ]
      },
      {
       "output_type": "stream",
       "stream": "stdout",
       "text": [
        "\n",
        "\"Shamava, Mogilev Province\",\"Belarus\",\"BY\"\n",
        "https://maps.googleapis.com/maps/api/geocode/json?latlng=53.85833%2C32.42417"
       ]
      },
      {
       "output_type": "stream",
       "stream": "stdout",
       "text": [
        "\n",
        "\"Shumyachi, Smolensk Oblast\",\"Russia\",\"RU\"\n",
        "https://maps.googleapis.com/maps/api/geocode/json?latlng=56.84865%2C41.38833"
       ]
      },
      {
       "output_type": "stream",
       "stream": "stdout",
       "text": [
        "\n",
        "\"Shuya, Ivanovo Oblast\",\"Russia\",\"RU\"\n",
        "https://maps.googleapis.com/maps/api/geocode/json?latlng=51.12215%2C35.04061"
       ]
      },
      {
       "output_type": "stream",
       "stream": "stdout",
       "text": [
        "\n",
        "\"Yunakivka, Sums'ka oblast\",\"Ukraine\",\"UA\"\n",
        "https://maps.googleapis.com/maps/api/geocode/json?latlng=56.50339%2C39.67911"
       ]
      },
      {
       "output_type": "stream",
       "stream": "stdout",
       "text": [
        "\n",
        "\"Yuryev-Polsky, Vladimir Oblast\",\"Russia\",\"RU\"\n",
        "https://maps.googleapis.com/maps/api/geocode/json?latlng=50.27975%2C31.76246"
       ]
      },
      {
       "output_type": "stream",
       "stream": "stdout",
       "text": [
        "\n",
        "\"Yahotyn, Kyivs'ka oblast\",\"Ukraine\",\"UA\"\n",
        "https://maps.googleapis.com/maps/api/geocode/json?latlng=55.94052%2C46.20622"
       ]
      },
      {
       "output_type": "stream",
       "stream": "stdout",
       "text": [
        "\n",
        "\"Yadrin, Chuvashia Republic\",\"Russia\",\"RU\"\n",
        "https://maps.googleapis.com/maps/api/geocode/json?latlng=48.93555%2C37.95634"
       ]
      },
      {
       "output_type": "stream",
       "stream": "stdout",
       "text": [
        "\n",
        "\"error, Donetsk Oblast\",\"Ukraine\",\"UA\"\n",
        "https://maps.googleapis.com/maps/api/geocode/json?latlng=54.58449%2C43.57015"
       ]
      },
      {
       "output_type": "stream",
       "stream": "stdout",
       "text": [
        "\n",
        "\"Temnikovsky District, Mordovia\",\"Russia\",\"RU\"\n",
        "https://maps.googleapis.com/maps/api/geocode/json?latlng=62.16755%2C49.09162"
       ]
      },
      {
       "output_type": "stream",
       "stream": "stdout",
       "text": [
        "\n",
        "\"Lenskiy rayon, Arkhangelsk Oblast\",\"Russia\",\"RU\"\n"
       ]
      },
      {
       "output_type": "stream",
       "stream": "stderr",
       "text": [
        "-c:1: SettingWithCopyWarning: A value is trying to be set on a copy of a slice from a DataFrame.\n",
        "Try using .loc[row_index,col_indexer] = value instead\n"
       ]
      }
     ],
     "prompt_number": 20
    },
    {
     "cell_type": "code",
     "collapsed": false,
     "input": [
      "new_single_results = new_single_results[['lat_x', 'hgr_id', 'name', 'alt_name', 'partof_id', 'lng', 'lat_y', '_type', 'source_url', 'text', 'name_modern_sp', 'lc_translit', 'pres_loc', 'country', 'country_code', 'result_placename', 'searched_placename', 'admin1', 'country_name', 'src_id', 'url', 'src', 'ru_prov', 'prov_modern_sp', 'prov_stem', 'ru_uezd', 'page']]"
     ],
     "language": "python",
     "metadata": {},
     "outputs": [],
     "prompt_number": 24
    },
    {
     "cell_type": "code",
     "collapsed": false,
     "input": [
      "new_single_results.to_csv(\"new_single_results.csv\",encoding='utf-8')"
     ],
     "language": "python",
     "metadata": {},
     "outputs": [],
     "prompt_number": 26
    },
    {
     "cell_type": "code",
     "collapsed": false,
     "input": [
      "geodf_merged.columns"
     ],
     "language": "python",
     "metadata": {},
     "outputs": [
      {
       "metadata": {},
       "output_type": "pyout",
       "prompt_number": 28,
       "text": [
        "Index(['hgr_id', 'name', 'alt_name', 'partof_id', 'lng', 'lat', '_type', 'source_url', 'text', 'name_modern_sp', 'result_placename', 'searched_placename', 'admin1', 'country_name', 'src_id', 'country_code', 'url', 'src', 'ru_prov', 'prov_modern_sp', 'prov_stem', 'ru_uezd', 'page', 'lc_translit'], dtype='object')"
       ]
      }
     ],
     "prompt_number": 28
    }
   ],
   "metadata": {}
  }
 ]
}