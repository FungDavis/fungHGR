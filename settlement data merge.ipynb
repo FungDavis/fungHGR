{
 "metadata": {
  "name": "",
  "signature": "sha256:eaa60b7b87cb1ed8491dd19c69df0a792dd0b5140a081c342f0c62935a883f0c"
 },
 "nbformat": 3,
 "nbformat_minor": 0,
 "worksheets": [
  {
   "cells": [
    {
     "cell_type": "code",
     "collapsed": false,
     "input": [
      "import pandas as pd\n",
      "import numpy as np\n",
      "import json, re"
     ],
     "language": "python",
     "metadata": {},
     "outputs": [],
     "prompt_number": 75
    },
    {
     "cell_type": "code",
     "collapsed": false,
     "input": [
      "settlements = pd.DataFrame.from_csv(\"imperiia/settlementsCoordinates.csv\",index_col=None)"
     ],
     "language": "python",
     "metadata": {},
     "outputs": [],
     "prompt_number": 3
    },
    {
     "cell_type": "code",
     "collapsed": false,
     "input": [
      "settlements.ix[settlements.Placename.str[0]=='A'].sort(columns='Placename')"
     ],
     "language": "python",
     "metadata": {},
     "outputs": [
      {
       "html": [
        "<div style=\"max-height:1000px;max-width:1500px;overflow:auto;\">\n",
        "<table border=\"1\" class=\"dataframe\">\n",
        "  <thead>\n",
        "    <tr style=\"text-align: right;\">\n",
        "      <th></th>\n",
        "      <th>wkt_geom</th>\n",
        "      <th>OBJECTID_1</th>\n",
        "      <th>Post</th>\n",
        "      <th>Category</th>\n",
        "      <th>Group</th>\n",
        "      <th>Placename</th>\n",
        "      <th>REGION</th>\n",
        "      <th>SHEET</th>\n",
        "      <th>UnitID</th>\n",
        "      <th>Status</th>\n",
        "      <th>Uz_name</th>\n",
        "      <th>Prov_name</th>\n",
        "      <th>XCOORD</th>\n",
        "      <th>YCOORD</th>\n",
        "      <th>Unnamed: 14</th>\n",
        "    </tr>\n",
        "  </thead>\n",
        "  <tbody>\n",
        "    <tr>\n",
        "      <th>12798</th>\n",
        "      <td> POINT(91.43041286975326898 54.07299062549596158)</td>\n",
        "      <td> 17248</td>\n",
        "      <td> 1</td>\n",
        "      <td> minor town (mestechko)</td>\n",
        "      <td>          urban</td>\n",
        "      <td>                     Abakanskoi</td>\n",
        "      <td>    E5</td>\n",
        "      <td> Atlas 055</td>\n",
        "      <td> 594</td>\n",
        "      <td>                Regular</td>\n",
        "      <td>                          Minusinsk</td>\n",
        "      <td>        Eniseiskaia</td>\n",
        "      <td> 91.430413</td>\n",
        "      <td> 54.072991</td>\n",
        "      <td>NaN</td>\n",
        "    </tr>\n",
        "    <tr>\n",
        "      <th>12809</th>\n",
        "      <td> POINT(90.48199111753585555 52.78614772924987619)</td>\n",
        "      <td> 17264</td>\n",
        "      <td> 0</td>\n",
        "      <td> minor town (mestechko)</td>\n",
        "      <td>          urban</td>\n",
        "      <td> Abakanskoi pogranichnoi karaul</td>\n",
        "      <td>    E5</td>\n",
        "      <td> Atlas 055</td>\n",
        "      <td> 594</td>\n",
        "      <td>                Regular</td>\n",
        "      <td>                          Minusinsk</td>\n",
        "      <td>        Eniseiskaia</td>\n",
        "      <td> 90.481991</td>\n",
        "      <td> 52.786148</td>\n",
        "      <td>NaN</td>\n",
        "    </tr>\n",
        "    <tr>\n",
        "      <th>1363 </th>\n",
        "      <td>  POINT(42.1269762558866816 42.23037730856881922)</td>\n",
        "      <td>   800</td>\n",
        "      <td> 1</td>\n",
        "      <td>             post house</td>\n",
        "      <td> infrastructure</td>\n",
        "      <td>                     Abakinskoi</td>\n",
        "      <td>     3</td>\n",
        "      <td> Atlas 047</td>\n",
        "      <td> 109</td>\n",
        "      <td>               Caucasus</td>\n",
        "      <td>                         Mingreliia</td>\n",
        "      <td>            Gruziia</td>\n",
        "      <td> 42.126976</td>\n",
        "      <td> 42.230377</td>\n",
        "      <td>NaN</td>\n",
        "    </tr>\n",
        "    <tr>\n",
        "      <th>12746</th>\n",
        "      <td>  POINT(93.0879249539475353 58.24913043186739969)</td>\n",
        "      <td> 17383</td>\n",
        "      <td> 1</td>\n",
        "      <td>     village (derevnia)</td>\n",
        "      <td>          rural</td>\n",
        "      <td>                  Abalakovskaia</td>\n",
        "      <td>    E1</td>\n",
        "      <td> Atlas 055</td>\n",
        "      <td> 590</td>\n",
        "      <td>                Regular</td>\n",
        "      <td>                           Enisejsk</td>\n",
        "      <td>        Eniseiskaia</td>\n",
        "      <td> 93.087925</td>\n",
        "      <td> 58.249130</td>\n",
        "      <td>NaN</td>\n",
        "    </tr>\n",
        "    <tr>\n",
        "      <th>1193 </th>\n",
        "      <td> POINT(46.91707259700463339 55.73006382293508665)</td>\n",
        "      <td>   148</td>\n",
        "      <td> 0</td>\n",
        "      <td>     village (derevnia)</td>\n",
        "      <td>          rural</td>\n",
        "      <td>                       Abasheva</td>\n",
        "      <td>     8</td>\n",
        "      <td> Atlas 041</td>\n",
        "      <td>  68</td>\n",
        "      <td>                Regular</td>\n",
        "      <td>                             Iadrin</td>\n",
        "      <td>         Kazanskaia</td>\n",
        "      <td> 46.917073</td>\n",
        "      <td> 55.730064</td>\n",
        "      <td>NaN</td>\n",
        "    </tr>\n",
        "    <tr>\n",
        "      <th>13146</th>\n",
        "      <td> POINT(70.03582614913331383 56.10425517974144327)</td>\n",
        "      <td> 14687</td>\n",
        "      <td> 1</td>\n",
        "      <td>        selo or sloboda</td>\n",
        "      <td>          rural</td>\n",
        "      <td>                       Abatskoe</td>\n",
        "      <td>   G12</td>\n",
        "      <td> Atlas 053</td>\n",
        "      <td> 612</td>\n",
        "      <td>                Regular</td>\n",
        "      <td>                              Ishim</td>\n",
        "      <td>        Tobol'skaia</td>\n",
        "      <td> 70.035826</td>\n",
        "      <td> 56.104255</td>\n",
        "      <td>NaN</td>\n",
        "    </tr>\n",
        "    <tr>\n",
        "      <th>1802 </th>\n",
        "      <td> POINT(37.82856225313371823 49.57561171875862982)</td>\n",
        "      <td>  6376</td>\n",
        "      <td> 0</td>\n",
        "      <td>     village (derevnia)</td>\n",
        "      <td>          rural</td>\n",
        "      <td>                          Abazy</td>\n",
        "      <td>     2</td>\n",
        "      <td> Atlas 025</td>\n",
        "      <td> 149</td>\n",
        "      <td>                Regular</td>\n",
        "      <td>                           Kupiansk</td>\n",
        "      <td>      Khar'kovskaia</td>\n",
        "      <td> 37.828562</td>\n",
        "      <td> 49.575612</td>\n",
        "      <td>NaN</td>\n",
        "    </tr>\n",
        "    <tr>\n",
        "      <th>3283 </th>\n",
        "      <td> POINT(22.93811297354699263 63.68233442911332531)</td>\n",
        "      <td>  2963</td>\n",
        "      <td> 1</td>\n",
        "      <td>             post house</td>\n",
        "      <td> infrastructure</td>\n",
        "      <td>                         Abbors</td>\n",
        "      <td>  VI 1</td>\n",
        "      <td> Atlas 061</td>\n",
        "      <td> 243</td>\n",
        "      <td> Grand Duchy of Finland</td>\n",
        "      <td>          Korskhol'ms Norra Fegderi</td>\n",
        "      <td>         Vazovskaia</td>\n",
        "      <td> 22.938113</td>\n",
        "      <td> 63.682334</td>\n",
        "      <td>NaN</td>\n",
        "    </tr>\n",
        "    <tr>\n",
        "      <th>1515 </th>\n",
        "      <td> POINT(48.42727544091064118 39.94200740541526073)</td>\n",
        "      <td>   559</td>\n",
        "      <td> 1</td>\n",
        "      <td>     village (derevnia)</td>\n",
        "      <td>          rural</td>\n",
        "      <td>                  Abdel'ianskoi</td>\n",
        "      <td>    20</td>\n",
        "      <td> Atlas 047</td>\n",
        "      <td> 127</td>\n",
        "      <td>               Caucasus</td>\n",
        "      <td>               Khanstvo Shirvanskoe</td>\n",
        "      <td>            Gruziia</td>\n",
        "      <td> 48.427275</td>\n",
        "      <td> 39.942007</td>\n",
        "      <td>NaN</td>\n",
        "    </tr>\n",
        "    <tr>\n",
        "      <th>1081 </th>\n",
        "      <td>  POINT(50.59587480684207605 54.3951375094094729)</td>\n",
        "      <td>   229</td>\n",
        "      <td> 0</td>\n",
        "      <td>        selo or sloboda</td>\n",
        "      <td>          rural</td>\n",
        "      <td>                  Abdrakhmanovo</td>\n",
        "      <td>    12</td>\n",
        "      <td> Atlas 041</td>\n",
        "      <td>  61</td>\n",
        "      <td>                Regular</td>\n",
        "      <td>                        Chistopol'e</td>\n",
        "      <td>         Kazanskaia</td>\n",
        "      <td> 50.595875</td>\n",
        "      <td> 54.395138</td>\n",
        "      <td>NaN</td>\n",
        "    </tr>\n",
        "    <tr>\n",
        "      <th>59   </th>\n",
        "      <td> POINT(53.65736342033825679 52.83051478154295921)</td>\n",
        "      <td>  5076</td>\n",
        "      <td> 0</td>\n",
        "      <td>     village (derevnia)</td>\n",
        "      <td>          rural</td>\n",
        "      <td>                       Abdulova</td>\n",
        "      <td>     2</td>\n",
        "      <td> Atlas 052</td>\n",
        "      <td>   2</td>\n",
        "      <td>                Regular</td>\n",
        "      <td>                           Orenburg</td>\n",
        "      <td>      Orenburgskaia</td>\n",
        "      <td> 53.657363</td>\n",
        "      <td> 52.830515</td>\n",
        "      <td>NaN</td>\n",
        "    </tr>\n",
        "    <tr>\n",
        "      <th>11956</th>\n",
        "      <td>    POINT(25.591010167290559 55.9576987867247766)</td>\n",
        "      <td> 13776</td>\n",
        "      <td> 0</td>\n",
        "      <td> minor town (mestechko)</td>\n",
        "      <td>          urban</td>\n",
        "      <td>                          Abel'</td>\n",
        "      <td>     4</td>\n",
        "      <td> Atlas 007</td>\n",
        "      <td> 520</td>\n",
        "      <td>                Regular</td>\n",
        "      <td>                             Vil'no</td>\n",
        "      <td>         Vilenskaia</td>\n",
        "      <td>  25.59101</td>\n",
        "      <td> 55.957699</td>\n",
        "      <td>NaN</td>\n",
        "    </tr>\n",
        "    <tr>\n",
        "      <th>12   </th>\n",
        "      <td> POINT(50.96638847970323383 50.19211835920874876)</td>\n",
        "      <td>  5051</td>\n",
        "      <td> 1</td>\n",
        "      <td>             post house</td>\n",
        "      <td> infrastructure</td>\n",
        "      <td>                  Abishchenskoi</td>\n",
        "      <td>     1</td>\n",
        "      <td> Atlas 052</td>\n",
        "      <td>   1</td>\n",
        "      <td>                Regular</td>\n",
        "      <td>                            Ural'sk</td>\n",
        "      <td>      Orenburgskaia</td>\n",
        "      <td> 50.966388</td>\n",
        "      <td> 50.192118</td>\n",
        "      <td>NaN</td>\n",
        "    </tr>\n",
        "    <tr>\n",
        "      <th>8477 </th>\n",
        "      <td> POINT(36.67920720463369122 58.58526576858202617)</td>\n",
        "      <td> 12552</td>\n",
        "      <td> 0</td>\n",
        "      <td>        selo or sloboda</td>\n",
        "      <td>          rural</td>\n",
        "      <td>                      Abliazino</td>\n",
        "      <td>    12</td>\n",
        "      <td> Atlas 020</td>\n",
        "      <td> 461</td>\n",
        "      <td>                Regular</td>\n",
        "      <td>         Krasnoj Kholm (Ves'egonsk)</td>\n",
        "      <td>          Tverskaia</td>\n",
        "      <td> 36.679207</td>\n",
        "      <td> 58.585266</td>\n",
        "      <td>NaN</td>\n",
        "    </tr>\n",
        "    <tr>\n",
        "      <th>3479 </th>\n",
        "      <td> POINT(22.17275598509158741 60.45312241253161289)</td>\n",
        "      <td>  2432</td>\n",
        "      <td> 1</td>\n",
        "      <td>        provincial town</td>\n",
        "      <td>          urban</td>\n",
        "      <td>                            Abo</td>\n",
        "      <td>   I 6</td>\n",
        "      <td> Atlas 061</td>\n",
        "      <td> 252</td>\n",
        "      <td> Grand Duchy of Finland</td>\n",
        "      <td>                              Pikie</td>\n",
        "      <td>          Adovskaia</td>\n",
        "      <td> 22.172756</td>\n",
        "      <td> 60.453122</td>\n",
        "      <td>NaN</td>\n",
        "    </tr>\n",
        "    <tr>\n",
        "      <th>8277 </th>\n",
        "      <td> POINT(33.35314733129740006 57.14116228618936333)</td>\n",
        "      <td> 12400</td>\n",
        "      <td> 0</td>\n",
        "      <td>        selo or sloboda</td>\n",
        "      <td>          rural</td>\n",
        "      <td>                      Abramkovo</td>\n",
        "      <td>     3</td>\n",
        "      <td> Atlas 020</td>\n",
        "      <td> 452</td>\n",
        "      <td>                Regular</td>\n",
        "      <td>                          Ostashkov</td>\n",
        "      <td>          Tverskaia</td>\n",
        "      <td> 33.353147</td>\n",
        "      <td> 57.141162</td>\n",
        "      <td>NaN</td>\n",
        "    </tr>\n",
        "    <tr>\n",
        "      <th>7410 </th>\n",
        "      <td> POINT(45.47250209215031447 55.03032071901858302)</td>\n",
        "      <td>  8135</td>\n",
        "      <td> 1</td>\n",
        "      <td>     village (derevnia)</td>\n",
        "      <td>          rural</td>\n",
        "      <td>                       Abramova</td>\n",
        "      <td>     4</td>\n",
        "      <td> Atlas 039</td>\n",
        "      <td> 385</td>\n",
        "      <td>                Regular</td>\n",
        "      <td>                            Sergach</td>\n",
        "      <td>    Nizhegorodskaia</td>\n",
        "      <td> 45.472502</td>\n",
        "      <td> 55.030321</td>\n",
        "      <td>NaN</td>\n",
        "    </tr>\n",
        "    <tr>\n",
        "      <th>10658</th>\n",
        "      <td> POINT(42.66809294012559661 50.83073563911920445)</td>\n",
        "      <td> 15993</td>\n",
        "      <td> 0</td>\n",
        "      <td>                 khutor</td>\n",
        "      <td>          rural</td>\n",
        "      <td>                       Abramovv</td>\n",
        "      <td>     7</td>\n",
        "      <td> Atlas 044</td>\n",
        "      <td>  89</td>\n",
        "      <td>                Regular</td>\n",
        "      <td>                         Khoperskoe</td>\n",
        "      <td>   Don Cossack Host</td>\n",
        "      <td> 42.668093</td>\n",
        "      <td> 50.830736</td>\n",
        "      <td>NaN</td>\n",
        "    </tr>\n",
        "    <tr>\n",
        "      <th>3870 </th>\n",
        "      <td>  POINT(33.7324200770520406 51.91313561292694345)</td>\n",
        "      <td>  3598</td>\n",
        "      <td> 0</td>\n",
        "      <td>        selo or sloboda</td>\n",
        "      <td>          rural</td>\n",
        "      <td>                    Abrazheevka</td>\n",
        "      <td>     9</td>\n",
        "      <td> Atlas 023</td>\n",
        "      <td> 301</td>\n",
        "      <td>                Regular</td>\n",
        "      <td>                            Glukhov</td>\n",
        "      <td>     Chernigovskaia</td>\n",
        "      <td>  33.73242</td>\n",
        "      <td> 51.913136</td>\n",
        "      <td>NaN</td>\n",
        "    </tr>\n",
        "    <tr>\n",
        "      <th>10709</th>\n",
        "      <td> POINT(41.38138102545649133 49.97402712038167039)</td>\n",
        "      <td> 16042</td>\n",
        "      <td> 1</td>\n",
        "      <td>             post house</td>\n",
        "      <td> infrastructure</td>\n",
        "      <td>                     Abrivskaia</td>\n",
        "      <td>     6</td>\n",
        "      <td> Atlas 044</td>\n",
        "      <td>  90</td>\n",
        "      <td>                Regular</td>\n",
        "      <td>                  Ust' Medveditskoe</td>\n",
        "      <td>   Don Cossack Host</td>\n",
        "      <td> 41.381381</td>\n",
        "      <td> 49.974027</td>\n",
        "      <td>NaN</td>\n",
        "    </tr>\n",
        "    <tr>\n",
        "      <th>9450 </th>\n",
        "      <td> POINT(25.50547147745149346 56.19127781108991826)</td>\n",
        "      <td>  9195</td>\n",
        "      <td> 0</td>\n",
        "      <td>                korchma</td>\n",
        "      <td> infrastructure</td>\n",
        "      <td>                       Absernen</td>\n",
        "      <td>   V i</td>\n",
        "      <td> Atlas 008</td>\n",
        "      <td> 505</td>\n",
        "      <td>                Regular</td>\n",
        "      <td>                      Fridrikhshtat</td>\n",
        "      <td>      Kurliandskaia</td>\n",
        "      <td> 25.505471</td>\n",
        "      <td> 56.191278</td>\n",
        "      <td>NaN</td>\n",
        "    </tr>\n",
        "    <tr>\n",
        "      <th>12778</th>\n",
        "      <td> POINT(94.39912180235009487 55.10271841310444785)</td>\n",
        "      <td> 17229</td>\n",
        "      <td> 0</td>\n",
        "      <td>     village (derevnia)</td>\n",
        "      <td>          rural</td>\n",
        "      <td>                      Abugakova</td>\n",
        "      <td>    E3</td>\n",
        "      <td> Atlas 055</td>\n",
        "      <td> 592</td>\n",
        "      <td>                Regular</td>\n",
        "      <td>                        Krasnoiarsk</td>\n",
        "      <td>        Eniseiskaia</td>\n",
        "      <td> 94.399122</td>\n",
        "      <td> 55.102718</td>\n",
        "      <td>NaN</td>\n",
        "    </tr>\n",
        "    <tr>\n",
        "      <th>9895 </th>\n",
        "      <td> POINT(73.84682443458892465 54.62223326015431724)</td>\n",
        "      <td>  9833</td>\n",
        "      <td> 1</td>\n",
        "      <td>               forepost</td>\n",
        "      <td>       military</td>\n",
        "      <td>                     Achairskoi</td>\n",
        "      <td>     H</td>\n",
        "      <td> Atlas 056</td>\n",
        "      <td> 616</td>\n",
        "      <td>                Regular</td>\n",
        "      <td>                               Omsk</td>\n",
        "      <td>            Omskaia</td>\n",
        "      <td> 73.846824</td>\n",
        "      <td> 54.622233</td>\n",
        "      <td>NaN</td>\n",
        "    </tr>\n",
        "    <tr>\n",
        "      <th>13203</th>\n",
        "      <td> POINT(70.96170303037511928 56.61918528377140802)</td>\n",
        "      <td> 14695</td>\n",
        "      <td> 1</td>\n",
        "      <td>     village (derevnia)</td>\n",
        "      <td>          rural</td>\n",
        "      <td>                       Achimova</td>\n",
        "      <td>   G14</td>\n",
        "      <td> Atlas 053</td>\n",
        "      <td> 614</td>\n",
        "      <td>                Regular</td>\n",
        "      <td>                               Tara</td>\n",
        "      <td>        Tobol'skaia</td>\n",
        "      <td> 70.961703</td>\n",
        "      <td> 56.619185</td>\n",
        "      <td>NaN</td>\n",
        "    </tr>\n",
        "    <tr>\n",
        "      <th>12786</th>\n",
        "      <td> POINT(90.96979531525964546 56.22277839613310135)</td>\n",
        "      <td> 17211</td>\n",
        "      <td> 1</td>\n",
        "      <td>              uezd town</td>\n",
        "      <td>          urban</td>\n",
        "      <td>                        Achinsk</td>\n",
        "      <td>    E4</td>\n",
        "      <td> Atlas 055</td>\n",
        "      <td> 593</td>\n",
        "      <td>                Regular</td>\n",
        "      <td>                            Achinsk</td>\n",
        "      <td>        Eniseiskaia</td>\n",
        "      <td> 90.969795</td>\n",
        "      <td> 56.222778</td>\n",
        "      <td>NaN</td>\n",
        "    </tr>\n",
        "    <tr>\n",
        "      <th>446  </th>\n",
        "      <td>  POINT(57.82180126721335967 56.7615225341734515)</td>\n",
        "      <td>  5632</td>\n",
        "      <td> 1</td>\n",
        "      <td>               fortress</td>\n",
        "      <td>       military</td>\n",
        "      <td>                     Achitskaia</td>\n",
        "      <td>     5</td>\n",
        "      <td> Atlas 051</td>\n",
        "      <td>  17</td>\n",
        "      <td>                Regular</td>\n",
        "      <td>                       Krasnoufimsk</td>\n",
        "      <td>          Permskaia</td>\n",
        "      <td> 57.821801</td>\n",
        "      <td> 56.761523</td>\n",
        "      <td>NaN</td>\n",
        "    </tr>\n",
        "    <tr>\n",
        "      <th>1538 </th>\n",
        "      <td> POINT(47.99899642894918372 41.96819959888658502)</td>\n",
        "      <td>   517</td>\n",
        "      <td> 1</td>\n",
        "      <td>     village (derevnia)</td>\n",
        "      <td>          rural</td>\n",
        "      <td>                       Achkhaba</td>\n",
        "      <td>    18</td>\n",
        "      <td> Atlas 047</td>\n",
        "      <td> 129</td>\n",
        "      <td>               Caucasus</td>\n",
        "      <td>                   Iuzhnoj Dagestan</td>\n",
        "      <td>            Gruziia</td>\n",
        "      <td> 47.998996</td>\n",
        "      <td> 41.968200</td>\n",
        "      <td>NaN</td>\n",
        "    </tr>\n",
        "    <tr>\n",
        "      <th>440  </th>\n",
        "      <td> POINT(57.02696671496925518 56.36414077786283627)</td>\n",
        "      <td>  5624</td>\n",
        "      <td> 0</td>\n",
        "      <td>     village (derevnia)</td>\n",
        "      <td>          rural</td>\n",
        "      <td>                          Adel'</td>\n",
        "      <td>     5</td>\n",
        "      <td> Atlas 051</td>\n",
        "      <td>  17</td>\n",
        "      <td>                Regular</td>\n",
        "      <td>                       Krasnoufimsk</td>\n",
        "      <td>          Permskaia</td>\n",
        "      <td> 57.026967</td>\n",
        "      <td> 56.364141</td>\n",
        "      <td>NaN</td>\n",
        "    </tr>\n",
        "    <tr>\n",
        "      <th>1959 </th>\n",
        "      <td> POINT(28.94724243140746367 46.09039240392943526)</td>\n",
        "      <td>  1401</td>\n",
        "      <td> 0</td>\n",
        "      <td>     village (derevnia)</td>\n",
        "      <td>          rural</td>\n",
        "      <td>                 Adel'bairaktar</td>\n",
        "      <td>    Fa</td>\n",
        "      <td> Atlas 017</td>\n",
        "      <td> 163</td>\n",
        "      <td>                Regular</td>\n",
        "      <td> German colonists &amp; Polish settlers</td>\n",
        "      <td>      Bessarabskaia</td>\n",
        "      <td> 28.947242</td>\n",
        "      <td> 46.090392</td>\n",
        "      <td>NaN</td>\n",
        "    </tr>\n",
        "    <tr>\n",
        "      <th>2028 </th>\n",
        "      <td> POINT(29.07521385760070487 46.29610380882163412)</td>\n",
        "      <td>  1385</td>\n",
        "      <td> 0</td>\n",
        "      <td>     village (derevnia)</td>\n",
        "      <td>          rural</td>\n",
        "      <td>                   Adlichamurza</td>\n",
        "      <td>     D</td>\n",
        "      <td> Atlas 017</td>\n",
        "      <td> 173</td>\n",
        "      <td>                Regular</td>\n",
        "      <td>                            Bendery</td>\n",
        "      <td>      Bessarabskaia</td>\n",
        "      <td> 29.075214</td>\n",
        "      <td> 46.296104</td>\n",
        "      <td>NaN</td>\n",
        "    </tr>\n",
        "    <tr>\n",
        "      <th>...</th>\n",
        "      <td>...</td>\n",
        "      <td>...</td>\n",
        "      <td>...</td>\n",
        "      <td>...</td>\n",
        "      <td>...</td>\n",
        "      <td>...</td>\n",
        "      <td>...</td>\n",
        "      <td>...</td>\n",
        "      <td>...</td>\n",
        "      <td>...</td>\n",
        "      <td>...</td>\n",
        "      <td>...</td>\n",
        "      <td>...</td>\n",
        "      <td>...</td>\n",
        "      <td>...</td>\n",
        "    </tr>\n",
        "    <tr>\n",
        "      <th>155  </th>\n",
        "      <td> POINT(57.11381366581428409 53.21295391972505939)</td>\n",
        "      <td>  5490</td>\n",
        "      <td> 0</td>\n",
        "      <td>     village (derevnia)</td>\n",
        "      <td>          rural</td>\n",
        "      <td>                       Atiakova</td>\n",
        "      <td>     4</td>\n",
        "      <td> Atlas 052</td>\n",
        "      <td>   4</td>\n",
        "      <td>                Regular</td>\n",
        "      <td>                     Verkhneural'sk</td>\n",
        "      <td>      Orenburgskaia</td>\n",
        "      <td> 57.113814</td>\n",
        "      <td> 53.212954</td>\n",
        "      <td>NaN</td>\n",
        "    </tr>\n",
        "    <tr>\n",
        "      <th>5006 </th>\n",
        "      <td>  POINT(45.7327347286177428 55.06546900972153935)</td>\n",
        "      <td> 10217</td>\n",
        "      <td> 0</td>\n",
        "      <td>        selo or sloboda</td>\n",
        "      <td>          rural</td>\n",
        "      <td>                      Atiashevo</td>\n",
        "      <td>     1</td>\n",
        "      <td> Atlas 042</td>\n",
        "      <td>  69</td>\n",
        "      <td>                Regular</td>\n",
        "      <td>                            Kurmysh</td>\n",
        "      <td>        Simbirskaia</td>\n",
        "      <td> 45.732735</td>\n",
        "      <td> 55.065469</td>\n",
        "      <td>NaN</td>\n",
        "    </tr>\n",
        "    <tr>\n",
        "      <th>5144 </th>\n",
        "      <td> POINT(46.14416447611204575 54.53893494932039943)</td>\n",
        "      <td> 10234</td>\n",
        "      <td> 0</td>\n",
        "      <td>        selo or sloboda</td>\n",
        "      <td>          rural</td>\n",
        "      <td>                      Atiashevo</td>\n",
        "      <td>     7</td>\n",
        "      <td> Atlas 042</td>\n",
        "      <td>  75</td>\n",
        "      <td>                Regular</td>\n",
        "      <td>                            Ardatov</td>\n",
        "      <td>        Simbirskaia</td>\n",
        "      <td> 46.144164</td>\n",
        "      <td> 54.538935</td>\n",
        "      <td>NaN</td>\n",
        "    </tr>\n",
        "    <tr>\n",
        "      <th>458  </th>\n",
        "      <td> POINT(59.38964409550452217 56.72836775193160008)</td>\n",
        "      <td>  5890</td>\n",
        "      <td> 0</td>\n",
        "      <td>                factory</td>\n",
        "      <td>       economic</td>\n",
        "      <td>                       Atigskoi</td>\n",
        "      <td>     5</td>\n",
        "      <td> Atlas 051</td>\n",
        "      <td>  17</td>\n",
        "      <td>                Regular</td>\n",
        "      <td>                       Krasnoufimsk</td>\n",
        "      <td>          Permskaia</td>\n",
        "      <td> 59.389644</td>\n",
        "      <td> 56.728368</td>\n",
        "      <td>NaN</td>\n",
        "    </tr>\n",
        "    <tr>\n",
        "      <th>5399 </th>\n",
        "      <td> POINT(44.91027172909731036 51.86525587962401573)</td>\n",
        "      <td> 10471</td>\n",
        "      <td> 1</td>\n",
        "      <td>              uezd town</td>\n",
        "      <td>          urban</td>\n",
        "      <td>                        Atkarsk</td>\n",
        "      <td>     8</td>\n",
        "      <td> Atlas 043</td>\n",
        "      <td>  86</td>\n",
        "      <td>                Regular</td>\n",
        "      <td>                            Atkarsk</td>\n",
        "      <td>       Saratovskaia</td>\n",
        "      <td> 44.910272</td>\n",
        "      <td> 51.865256</td>\n",
        "      <td>NaN</td>\n",
        "    </tr>\n",
        "    <tr>\n",
        "      <th>7382 </th>\n",
        "      <td> POINT(44.20590202765698251 55.01024011903001565)</td>\n",
        "      <td>  8162</td>\n",
        "      <td> 0</td>\n",
        "      <td>        selo or sloboda</td>\n",
        "      <td>          rural</td>\n",
        "      <td>                      Atkun'evo</td>\n",
        "      <td>     2</td>\n",
        "      <td> Atlas 039</td>\n",
        "      <td> 383</td>\n",
        "      <td>                Regular</td>\n",
        "      <td>                          Lukoianov</td>\n",
        "      <td>    Nizhegorodskaia</td>\n",
        "      <td> 44.205902</td>\n",
        "      <td> 55.010240</td>\n",
        "      <td>NaN</td>\n",
        "    </tr>\n",
        "    <tr>\n",
        "      <th>7124 </th>\n",
        "      <td> POINT(44.18742833663303315 53.25121724660463229)</td>\n",
        "      <td>  7925</td>\n",
        "      <td> 0</td>\n",
        "      <td>        selo or sloboda</td>\n",
        "      <td>          rural</td>\n",
        "      <td>           Atmis Fedorovka tozh</td>\n",
        "      <td>     2</td>\n",
        "      <td> Atlas 040</td>\n",
        "      <td> 373</td>\n",
        "      <td>                Regular</td>\n",
        "      <td>                              Penza</td>\n",
        "      <td>        Penzenskaia</td>\n",
        "      <td> 44.187428</td>\n",
        "      <td> 53.251217</td>\n",
        "      <td>NaN</td>\n",
        "    </tr>\n",
        "    <tr>\n",
        "      <th>3103 </th>\n",
        "      <td> POINT(27.64749809187591012 64.92342462495142286)</td>\n",
        "      <td>  2648</td>\n",
        "      <td> 0</td>\n",
        "      <td>     village (derevnia)</td>\n",
        "      <td>          rural</td>\n",
        "      <td>                          Aukho</td>\n",
        "      <td> BII 1</td>\n",
        "      <td> Atlas 061</td>\n",
        "      <td> 238</td>\n",
        "      <td> Grand Duchy of Finland</td>\n",
        "      <td>                             Kaiana</td>\n",
        "      <td>      Uleobordskaia</td>\n",
        "      <td> 27.647498</td>\n",
        "      <td> 64.923425</td>\n",
        "      <td>NaN</td>\n",
        "    </tr>\n",
        "    <tr>\n",
        "      <th>3619 </th>\n",
        "      <td> POINT(24.96609940411784834 61.29116415231364812)</td>\n",
        "      <td>  1998</td>\n",
        "      <td> 1</td>\n",
        "      <td>     village (derevnia)</td>\n",
        "      <td>          rural</td>\n",
        "      <td>                         Autois</td>\n",
        "      <td>  II 1</td>\n",
        "      <td> Atlas 061</td>\n",
        "      <td> 260</td>\n",
        "      <td> Grand Duchy of Finland</td>\n",
        "      <td>              Borgo &amp; E're Khollola</td>\n",
        "      <td>          Tavastgus</td>\n",
        "      <td> 24.966099</td>\n",
        "      <td> 61.291164</td>\n",
        "      <td>NaN</td>\n",
        "    </tr>\n",
        "    <tr>\n",
        "      <th>9405 </th>\n",
        "      <td> POINT(23.33793590917683503 56.50736766886008411)</td>\n",
        "      <td>  9147</td>\n",
        "      <td> 0</td>\n",
        "      <td>        selo or sloboda</td>\n",
        "      <td>          rural</td>\n",
        "      <td>                       Auttsgof</td>\n",
        "      <td>  IV g</td>\n",
        "      <td> Atlas 008</td>\n",
        "      <td> 502</td>\n",
        "      <td>                Regular</td>\n",
        "      <td>                             Doblen</td>\n",
        "      <td>      Kurliandskaia</td>\n",
        "      <td> 23.337936</td>\n",
        "      <td> 56.507368</td>\n",
        "      <td>NaN</td>\n",
        "    </tr>\n",
        "    <tr>\n",
        "      <th>12728</th>\n",
        "      <td> POINT(90.20791038175548238 68.55416197892728292)</td>\n",
        "      <td> 17347</td>\n",
        "      <td> 0</td>\n",
        "      <td>     village (derevnia)</td>\n",
        "      <td>          rural</td>\n",
        "      <td>                      Avamskaia</td>\n",
        "      <td>    E1</td>\n",
        "      <td> Atlas 055</td>\n",
        "      <td> 590</td>\n",
        "      <td>                Regular</td>\n",
        "      <td>                           Enisejsk</td>\n",
        "      <td>        Eniseiskaia</td>\n",
        "      <td>  90.20791</td>\n",
        "      <td> 68.554162</td>\n",
        "      <td>NaN</td>\n",
        "    </tr>\n",
        "    <tr>\n",
        "      <th>11940</th>\n",
        "      <td> POINT(25.14474173131190327 55.45237558642541131)</td>\n",
        "      <td> 13694</td>\n",
        "      <td> 0</td>\n",
        "      <td> minor town (mestechko)</td>\n",
        "      <td>          urban</td>\n",
        "      <td>                         Avanty</td>\n",
        "      <td>     4</td>\n",
        "      <td> Atlas 007</td>\n",
        "      <td> 520</td>\n",
        "      <td>                Regular</td>\n",
        "      <td>                             Vil'no</td>\n",
        "      <td>         Vilenskaia</td>\n",
        "      <td> 25.144742</td>\n",
        "      <td> 55.452376</td>\n",
        "      <td>NaN</td>\n",
        "    </tr>\n",
        "    <tr>\n",
        "      <th>3852 </th>\n",
        "      <td> POINT(32.92397577707145473 51.74572813369105262)</td>\n",
        "      <td>  3613</td>\n",
        "      <td> 1</td>\n",
        "      <td>        selo or sloboda</td>\n",
        "      <td>          rural</td>\n",
        "      <td>                       Avdeevka</td>\n",
        "      <td>     7</td>\n",
        "      <td> Atlas 023</td>\n",
        "      <td> 299</td>\n",
        "      <td>                Regular</td>\n",
        "      <td>                           Sosnitsa</td>\n",
        "      <td>     Chernigovskaia</td>\n",
        "      <td> 32.923976</td>\n",
        "      <td> 51.745728</td>\n",
        "      <td>NaN</td>\n",
        "    </tr>\n",
        "    <tr>\n",
        "      <th>1632 </th>\n",
        "      <td> POINT(37.56445510706384994 48.14987830226613852)</td>\n",
        "      <td>  1004</td>\n",
        "      <td> 0</td>\n",
        "      <td>     village (derevnia)</td>\n",
        "      <td>          rural</td>\n",
        "      <td>                       Avdeevka</td>\n",
        "      <td>     2</td>\n",
        "      <td> Atlas 026</td>\n",
        "      <td> 141</td>\n",
        "      <td>                Regular</td>\n",
        "      <td>                            Bakhmut</td>\n",
        "      <td> Ekaterinoslavskaia</td>\n",
        "      <td> 37.564455</td>\n",
        "      <td> 48.149878</td>\n",
        "      <td>NaN</td>\n",
        "    </tr>\n",
        "    <tr>\n",
        "      <th>11676</th>\n",
        "      <td> POINT(26.99799531637078331 56.90856320581766425)</td>\n",
        "      <td> 13564</td>\n",
        "      <td> 0</td>\n",
        "      <td>     village (derevnia)</td>\n",
        "      <td>          rural</td>\n",
        "      <td>                      Avgustova</td>\n",
        "      <td>     1</td>\n",
        "      <td> Atlas 013</td>\n",
        "      <td> 507</td>\n",
        "      <td>                Regular</td>\n",
        "      <td>                            Liutsyn</td>\n",
        "      <td>         Vitebskaia</td>\n",
        "      <td> 26.997995</td>\n",
        "      <td> 56.908563</td>\n",
        "      <td>NaN</td>\n",
        "    </tr>\n",
        "    <tr>\n",
        "      <th>12533</th>\n",
        "      <td>  POINT(22.97114734218764553 53.8011468770504635)</td>\n",
        "      <td> 14158</td>\n",
        "      <td> 1</td>\n",
        "      <td> minor town (mestechko)</td>\n",
        "      <td>          urban</td>\n",
        "      <td>                      Avgustovo</td>\n",
        "      <td>  VIII</td>\n",
        "      <td> Atlas 003</td>\n",
        "      <td> 580</td>\n",
        "      <td>                 Poland</td>\n",
        "      <td>                       Avgustovskoe</td>\n",
        "      <td>  Kingdom of Poland</td>\n",
        "      <td> 22.971147</td>\n",
        "      <td> 53.801147</td>\n",
        "      <td>NaN</td>\n",
        "    </tr>\n",
        "    <tr>\n",
        "      <th>4336 </th>\n",
        "      <td> POINT(38.09737388300880667 58.38617929800398088)</td>\n",
        "      <td>  4142</td>\n",
        "      <td> 0</td>\n",
        "      <td>     village (derevnia)</td>\n",
        "      <td>          rural</td>\n",
        "      <td>                   Avinchishchi</td>\n",
        "      <td>     5</td>\n",
        "      <td> Atlas 032</td>\n",
        "      <td> 444</td>\n",
        "      <td>                Regular</td>\n",
        "      <td>                             Mologa</td>\n",
        "      <td>      Iaroslavskaia</td>\n",
        "      <td> 38.097374</td>\n",
        "      <td> 58.386179</td>\n",
        "      <td>NaN</td>\n",
        "    </tr>\n",
        "    <tr>\n",
        "      <th>11686</th>\n",
        "      <td>  POINT(27.05560983678822495 56.0364830862804979)</td>\n",
        "      <td> 13486</td>\n",
        "      <td> 0</td>\n",
        "      <td>        selo or sloboda</td>\n",
        "      <td>          rural</td>\n",
        "      <td>                         Avliia</td>\n",
        "      <td>     2</td>\n",
        "      <td> Atlas 013</td>\n",
        "      <td> 508</td>\n",
        "      <td>                Regular</td>\n",
        "      <td>                        Kreslavl(?)</td>\n",
        "      <td>         Vitebskaia</td>\n",
        "      <td>  27.05561</td>\n",
        "      <td> 56.036483</td>\n",
        "      <td>NaN</td>\n",
        "    </tr>\n",
        "    <tr>\n",
        "      <th>10687</th>\n",
        "      <td> POINT(44.04221289161638708 49.84790740938773723)</td>\n",
        "      <td> 15959</td>\n",
        "      <td> 0</td>\n",
        "      <td>                 khutor</td>\n",
        "      <td>          rural</td>\n",
        "      <td>                        Avramov</td>\n",
        "      <td>     6</td>\n",
        "      <td> Atlas 044</td>\n",
        "      <td>  90</td>\n",
        "      <td>                Regular</td>\n",
        "      <td>                  Ust' Medveditskoe</td>\n",
        "      <td>   Don Cossack Host</td>\n",
        "      <td> 44.042213</td>\n",
        "      <td> 49.847907</td>\n",
        "      <td>NaN</td>\n",
        "    </tr>\n",
        "    <tr>\n",
        "      <th>11087</th>\n",
        "      <td> POINT(33.28113288987968588 48.50002337967364952)</td>\n",
        "      <td> 16332</td>\n",
        "      <td> 0</td>\n",
        "      <td>        selo or sloboda</td>\n",
        "      <td>          rural</td>\n",
        "      <td>                      Avramovka</td>\n",
        "      <td>     5</td>\n",
        "      <td> Atlas 018</td>\n",
        "      <td> 162</td>\n",
        "      <td>                Regular</td>\n",
        "      <td>                       Aleksandriia</td>\n",
        "      <td>       Khersonskaia</td>\n",
        "      <td> 33.281133</td>\n",
        "      <td> 48.500023</td>\n",
        "      <td>NaN</td>\n",
        "    </tr>\n",
        "    <tr>\n",
        "      <th>962  </th>\n",
        "      <td> POINT(47.11498096753992115 55.82057949472089575)</td>\n",
        "      <td>   125</td>\n",
        "      <td> 0</td>\n",
        "      <td>        selo or sloboda</td>\n",
        "      <td>          rural</td>\n",
        "      <td>                       Avramovo</td>\n",
        "      <td>     1</td>\n",
        "      <td> Atlas 041</td>\n",
        "      <td>  57</td>\n",
        "      <td>                Regular</td>\n",
        "      <td>                     Kuzmodemliansk</td>\n",
        "      <td>         Kazanskaia</td>\n",
        "      <td> 47.114981</td>\n",
        "      <td> 55.820579</td>\n",
        "      <td>NaN</td>\n",
        "    </tr>\n",
        "    <tr>\n",
        "      <th>12089</th>\n",
        "      <td> POINT(26.31537031091842849 49.67162616407276943)</td>\n",
        "      <td> 16987</td>\n",
        "      <td> 0</td>\n",
        "      <td>        selo or sloboda</td>\n",
        "      <td>          rural</td>\n",
        "      <td>                        Avratin</td>\n",
        "      <td>     1</td>\n",
        "      <td> Atlas 005</td>\n",
        "      <td> 548</td>\n",
        "      <td>                Regular</td>\n",
        "      <td>                  Starokonstantinov</td>\n",
        "      <td>         Volynskaia</td>\n",
        "      <td>  26.31537</td>\n",
        "      <td> 49.671626</td>\n",
        "      <td>NaN</td>\n",
        "    </tr>\n",
        "    <tr>\n",
        "      <th>9648 </th>\n",
        "      <td> POINT(26.29055568141033561 51.94110454217312878)</td>\n",
        "      <td>  9484</td>\n",
        "      <td> 0</td>\n",
        "      <td>     village (derevnia)</td>\n",
        "      <td>          rural</td>\n",
        "      <td>                      Avsemirov</td>\n",
        "      <td>     8</td>\n",
        "      <td> Atlas 014</td>\n",
        "      <td> 533</td>\n",
        "      <td>                Regular</td>\n",
        "      <td>                              Pinsk</td>\n",
        "      <td>           Minskaia</td>\n",
        "      <td> 26.290556</td>\n",
        "      <td> 51.941105</td>\n",
        "      <td>NaN</td>\n",
        "    </tr>\n",
        "    <tr>\n",
        "      <th>11696</th>\n",
        "      <td>  POINT(26.2020025184878449 56.16250396097370867)</td>\n",
        "      <td> 13539</td>\n",
        "      <td> 1</td>\n",
        "      <td>     village (derevnia)</td>\n",
        "      <td>          rural</td>\n",
        "      <td>                       Avsenovo</td>\n",
        "      <td>     2</td>\n",
        "      <td> Atlas 013</td>\n",
        "      <td> 508</td>\n",
        "      <td>                Regular</td>\n",
        "      <td>                        Kreslavl(?)</td>\n",
        "      <td>         Vitebskaia</td>\n",
        "      <td> 26.202003</td>\n",
        "      <td> 56.162504</td>\n",
        "      <td>NaN</td>\n",
        "    </tr>\n",
        "    <tr>\n",
        "      <th>8625 </th>\n",
        "      <td> POINT(35.74260748415094469 59.89713342512734329)</td>\n",
        "      <td>  8775</td>\n",
        "      <td> 0</td>\n",
        "      <td>        selo or sloboda</td>\n",
        "      <td>          rural</td>\n",
        "      <td>                          Avzha</td>\n",
        "      <td>     9</td>\n",
        "      <td> Atlas 019</td>\n",
        "      <td> 468</td>\n",
        "      <td>                Regular</td>\n",
        "      <td>                          Belozersk</td>\n",
        "      <td>      Novgorodskaia</td>\n",
        "      <td> 35.742607</td>\n",
        "      <td> 59.897133</td>\n",
        "      <td>NaN</td>\n",
        "    </tr>\n",
        "    <tr>\n",
        "      <th>255  </th>\n",
        "      <td> POINT(55.89338707315873478 55.53240018729543692)</td>\n",
        "      <td>  5181</td>\n",
        "      <td> 1</td>\n",
        "      <td>     village (derevnia)</td>\n",
        "      <td>          rural</td>\n",
        "      <td>                      Azamatova</td>\n",
        "      <td>    10</td>\n",
        "      <td> Atlas 052</td>\n",
        "      <td>   9</td>\n",
        "      <td>                Regular</td>\n",
        "      <td>                              Birsk</td>\n",
        "      <td>      Orenburgskaia</td>\n",
        "      <td> 55.893387</td>\n",
        "      <td> 55.532400</td>\n",
        "      <td>NaN</td>\n",
        "    </tr>\n",
        "    <tr>\n",
        "      <th>4108 </th>\n",
        "      <td> POINT(34.16994350896658261 54.56906798132065006)</td>\n",
        "      <td>  3919</td>\n",
        "      <td> 0</td>\n",
        "      <td>        selo or sloboda</td>\n",
        "      <td>          rural</td>\n",
        "      <td>                        Azarovo</td>\n",
        "      <td>     4</td>\n",
        "      <td> Atlas 030</td>\n",
        "      <td> 408</td>\n",
        "      <td>                Regular</td>\n",
        "      <td>                           Massalsk</td>\n",
        "      <td>        Kaluzhskaia</td>\n",
        "      <td> 34.169944</td>\n",
        "      <td> 54.569068</td>\n",
        "      <td>NaN</td>\n",
        "    </tr>\n",
        "    <tr>\n",
        "      <th>7072 </th>\n",
        "      <td>  POINT(41.6733974010686623 54.66369999160711757)</td>\n",
        "      <td> 11780</td>\n",
        "      <td> 0</td>\n",
        "      <td>        selo or sloboda</td>\n",
        "      <td>          rural</td>\n",
        "      <td>                         Azeevo</td>\n",
        "      <td>    11</td>\n",
        "      <td> Atlas 036</td>\n",
        "      <td> 370</td>\n",
        "      <td>                Regular</td>\n",
        "      <td>                             Elatom</td>\n",
        "      <td>        Tambovskaia</td>\n",
        "      <td> 41.673397</td>\n",
        "      <td> 54.663700</td>\n",
        "      <td>NaN</td>\n",
        "    </tr>\n",
        "    <tr>\n",
        "      <th>7609 </th>\n",
        "      <td> POINT(35.42976882979837683 52.31434968088618831)</td>\n",
        "      <td>  8424</td>\n",
        "      <td> 0</td>\n",
        "      <td>        selo or sloboda</td>\n",
        "      <td>          rural</td>\n",
        "      <td>                         Azhevo</td>\n",
        "      <td>     3</td>\n",
        "      <td> Atlas 029</td>\n",
        "      <td> 395</td>\n",
        "      <td>                Regular</td>\n",
        "      <td>                          Dmitrovsk</td>\n",
        "      <td>         Orlovskaia</td>\n",
        "      <td> 35.429769</td>\n",
        "      <td> 52.314350</td>\n",
        "      <td>NaN</td>\n",
        "    </tr>\n",
        "    <tr>\n",
        "      <th>10866</th>\n",
        "      <td> POINT(39.16787997545767297 47.10031136360923654)</td>\n",
        "      <td> 15867</td>\n",
        "      <td> 0</td>\n",
        "      <td>               fortress</td>\n",
        "      <td>       military</td>\n",
        "      <td>                           Azov</td>\n",
        "      <td>     9</td>\n",
        "      <td> Atlas 044</td>\n",
        "      <td>  97</td>\n",
        "      <td>                Regular</td>\n",
        "      <td>                             Rostov</td>\n",
        "      <td>   Don Cossack Host</td>\n",
        "      <td>  39.16788</td>\n",
        "      <td> 47.100311</td>\n",
        "      <td>NaN</td>\n",
        "    </tr>\n",
        "  </tbody>\n",
        "</table>\n",
        "<p>455 rows \u00d7 15 columns</p>\n",
        "</div>"
       ],
       "metadata": {},
       "output_type": "pyout",
       "prompt_number": 4,
       "text": [
        "                                               wkt_geom  OBJECTID_1  Post  \\\n",
        "12798  POINT(91.43041286975326898 54.07299062549596158)       17248     1   \n",
        "12809  POINT(90.48199111753585555 52.78614772924987619)       17264     0   \n",
        "1363    POINT(42.1269762558866816 42.23037730856881922)         800     1   \n",
        "12746   POINT(93.0879249539475353 58.24913043186739969)       17383     1   \n",
        "1193   POINT(46.91707259700463339 55.73006382293508665)         148     0   \n",
        "13146  POINT(70.03582614913331383 56.10425517974144327)       14687     1   \n",
        "1802   POINT(37.82856225313371823 49.57561171875862982)        6376     0   \n",
        "3283   POINT(22.93811297354699263 63.68233442911332531)        2963     1   \n",
        "1515   POINT(48.42727544091064118 39.94200740541526073)         559     1   \n",
        "1081    POINT(50.59587480684207605 54.3951375094094729)         229     0   \n",
        "59     POINT(53.65736342033825679 52.83051478154295921)        5076     0   \n",
        "11956     POINT(25.591010167290559 55.9576987867247766)       13776     0   \n",
        "12     POINT(50.96638847970323383 50.19211835920874876)        5051     1   \n",
        "8477   POINT(36.67920720463369122 58.58526576858202617)       12552     0   \n",
        "3479   POINT(22.17275598509158741 60.45312241253161289)        2432     1   \n",
        "8277   POINT(33.35314733129740006 57.14116228618936333)       12400     0   \n",
        "7410   POINT(45.47250209215031447 55.03032071901858302)        8135     1   \n",
        "10658  POINT(42.66809294012559661 50.83073563911920445)       15993     0   \n",
        "3870    POINT(33.7324200770520406 51.91313561292694345)        3598     0   \n",
        "10709  POINT(41.38138102545649133 49.97402712038167039)       16042     1   \n",
        "9450   POINT(25.50547147745149346 56.19127781108991826)        9195     0   \n",
        "12778  POINT(94.39912180235009487 55.10271841310444785)       17229     0   \n",
        "9895   POINT(73.84682443458892465 54.62223326015431724)        9833     1   \n",
        "13203  POINT(70.96170303037511928 56.61918528377140802)       14695     1   \n",
        "12786  POINT(90.96979531525964546 56.22277839613310135)       17211     1   \n",
        "446     POINT(57.82180126721335967 56.7615225341734515)        5632     1   \n",
        "1538   POINT(47.99899642894918372 41.96819959888658502)         517     1   \n",
        "440    POINT(57.02696671496925518 56.36414077786283627)        5624     0   \n",
        "1959   POINT(28.94724243140746367 46.09039240392943526)        1401     0   \n",
        "2028   POINT(29.07521385760070487 46.29610380882163412)        1385     0   \n",
        "...                                                 ...         ...   ...   \n",
        "155    POINT(57.11381366581428409 53.21295391972505939)        5490     0   \n",
        "5006    POINT(45.7327347286177428 55.06546900972153935)       10217     0   \n",
        "5144   POINT(46.14416447611204575 54.53893494932039943)       10234     0   \n",
        "458    POINT(59.38964409550452217 56.72836775193160008)        5890     0   \n",
        "5399   POINT(44.91027172909731036 51.86525587962401573)       10471     1   \n",
        "7382   POINT(44.20590202765698251 55.01024011903001565)        8162     0   \n",
        "7124   POINT(44.18742833663303315 53.25121724660463229)        7925     0   \n",
        "3103   POINT(27.64749809187591012 64.92342462495142286)        2648     0   \n",
        "3619   POINT(24.96609940411784834 61.29116415231364812)        1998     1   \n",
        "9405   POINT(23.33793590917683503 56.50736766886008411)        9147     0   \n",
        "12728  POINT(90.20791038175548238 68.55416197892728292)       17347     0   \n",
        "11940  POINT(25.14474173131190327 55.45237558642541131)       13694     0   \n",
        "3852   POINT(32.92397577707145473 51.74572813369105262)        3613     1   \n",
        "1632   POINT(37.56445510706384994 48.14987830226613852)        1004     0   \n",
        "11676  POINT(26.99799531637078331 56.90856320581766425)       13564     0   \n",
        "12533   POINT(22.97114734218764553 53.8011468770504635)       14158     1   \n",
        "4336   POINT(38.09737388300880667 58.38617929800398088)        4142     0   \n",
        "11686   POINT(27.05560983678822495 56.0364830862804979)       13486     0   \n",
        "10687  POINT(44.04221289161638708 49.84790740938773723)       15959     0   \n",
        "11087  POINT(33.28113288987968588 48.50002337967364952)       16332     0   \n",
        "962    POINT(47.11498096753992115 55.82057949472089575)         125     0   \n",
        "12089  POINT(26.31537031091842849 49.67162616407276943)       16987     0   \n",
        "9648   POINT(26.29055568141033561 51.94110454217312878)        9484     0   \n",
        "11696   POINT(26.2020025184878449 56.16250396097370867)       13539     1   \n",
        "8625   POINT(35.74260748415094469 59.89713342512734329)        8775     0   \n",
        "255    POINT(55.89338707315873478 55.53240018729543692)        5181     1   \n",
        "4108   POINT(34.16994350896658261 54.56906798132065006)        3919     0   \n",
        "7072    POINT(41.6733974010686623 54.66369999160711757)       11780     0   \n",
        "7609   POINT(35.42976882979837683 52.31434968088618831)        8424     0   \n",
        "10866  POINT(39.16787997545767297 47.10031136360923654)       15867     0   \n",
        "\n",
        "                     Category           Group                       Placename  \\\n",
        "12798  minor town (mestechko)           urban                      Abakanskoi   \n",
        "12809  minor town (mestechko)           urban  Abakanskoi pogranichnoi karaul   \n",
        "1363               post house  infrastructure                      Abakinskoi   \n",
        "12746      village (derevnia)           rural                   Abalakovskaia   \n",
        "1193       village (derevnia)           rural                        Abasheva   \n",
        "13146         selo or sloboda           rural                        Abatskoe   \n",
        "1802       village (derevnia)           rural                           Abazy   \n",
        "3283               post house  infrastructure                          Abbors   \n",
        "1515       village (derevnia)           rural                   Abdel'ianskoi   \n",
        "1081          selo or sloboda           rural                   Abdrakhmanovo   \n",
        "59         village (derevnia)           rural                        Abdulova   \n",
        "11956  minor town (mestechko)           urban                           Abel'   \n",
        "12                 post house  infrastructure                   Abishchenskoi   \n",
        "8477          selo or sloboda           rural                       Abliazino   \n",
        "3479          provincial town           urban                             Abo   \n",
        "8277          selo or sloboda           rural                       Abramkovo   \n",
        "7410       village (derevnia)           rural                        Abramova   \n",
        "10658                  khutor           rural                        Abramovv   \n",
        "3870          selo or sloboda           rural                     Abrazheevka   \n",
        "10709              post house  infrastructure                      Abrivskaia   \n",
        "9450                  korchma  infrastructure                        Absernen   \n",
        "12778      village (derevnia)           rural                       Abugakova   \n",
        "9895                 forepost        military                      Achairskoi   \n",
        "13203      village (derevnia)           rural                        Achimova   \n",
        "12786               uezd town           urban                         Achinsk   \n",
        "446                  fortress        military                      Achitskaia   \n",
        "1538       village (derevnia)           rural                        Achkhaba   \n",
        "440        village (derevnia)           rural                           Adel'   \n",
        "1959       village (derevnia)           rural                  Adel'bairaktar   \n",
        "2028       village (derevnia)           rural                    Adlichamurza   \n",
        "...                       ...             ...                             ...   \n",
        "155        village (derevnia)           rural                        Atiakova   \n",
        "5006          selo or sloboda           rural                       Atiashevo   \n",
        "5144          selo or sloboda           rural                       Atiashevo   \n",
        "458                   factory        economic                        Atigskoi   \n",
        "5399                uezd town           urban                         Atkarsk   \n",
        "7382          selo or sloboda           rural                       Atkun'evo   \n",
        "7124          selo or sloboda           rural            Atmis Fedorovka tozh   \n",
        "3103       village (derevnia)           rural                           Aukho   \n",
        "3619       village (derevnia)           rural                          Autois   \n",
        "9405          selo or sloboda           rural                        Auttsgof   \n",
        "12728      village (derevnia)           rural                       Avamskaia   \n",
        "11940  minor town (mestechko)           urban                          Avanty   \n",
        "3852          selo or sloboda           rural                        Avdeevka   \n",
        "1632       village (derevnia)           rural                        Avdeevka   \n",
        "11676      village (derevnia)           rural                       Avgustova   \n",
        "12533  minor town (mestechko)           urban                       Avgustovo   \n",
        "4336       village (derevnia)           rural                    Avinchishchi   \n",
        "11686         selo or sloboda           rural                          Avliia   \n",
        "10687                  khutor           rural                         Avramov   \n",
        "11087         selo or sloboda           rural                       Avramovka   \n",
        "962           selo or sloboda           rural                        Avramovo   \n",
        "12089         selo or sloboda           rural                         Avratin   \n",
        "9648       village (derevnia)           rural                       Avsemirov   \n",
        "11696      village (derevnia)           rural                        Avsenovo   \n",
        "8625          selo or sloboda           rural                           Avzha   \n",
        "255        village (derevnia)           rural                       Azamatova   \n",
        "4108          selo or sloboda           rural                         Azarovo   \n",
        "7072          selo or sloboda           rural                          Azeevo   \n",
        "7609          selo or sloboda           rural                          Azhevo   \n",
        "10866                fortress        military                            Azov   \n",
        "\n",
        "      REGION      SHEET UnitID                  Status  \\\n",
        "12798     E5  Atlas 055    594                 Regular   \n",
        "12809     E5  Atlas 055    594                 Regular   \n",
        "1363       3  Atlas 047    109                Caucasus   \n",
        "12746     E1  Atlas 055    590                 Regular   \n",
        "1193       8  Atlas 041     68                 Regular   \n",
        "13146    G12  Atlas 053    612                 Regular   \n",
        "1802       2  Atlas 025    149                 Regular   \n",
        "3283    VI 1  Atlas 061    243  Grand Duchy of Finland   \n",
        "1515      20  Atlas 047    127                Caucasus   \n",
        "1081      12  Atlas 041     61                 Regular   \n",
        "59         2  Atlas 052      2                 Regular   \n",
        "11956      4  Atlas 007    520                 Regular   \n",
        "12         1  Atlas 052      1                 Regular   \n",
        "8477      12  Atlas 020    461                 Regular   \n",
        "3479     I 6  Atlas 061    252  Grand Duchy of Finland   \n",
        "8277       3  Atlas 020    452                 Regular   \n",
        "7410       4  Atlas 039    385                 Regular   \n",
        "10658      7  Atlas 044     89                 Regular   \n",
        "3870       9  Atlas 023    301                 Regular   \n",
        "10709      6  Atlas 044     90                 Regular   \n",
        "9450     V i  Atlas 008    505                 Regular   \n",
        "12778     E3  Atlas 055    592                 Regular   \n",
        "9895       H  Atlas 056    616                 Regular   \n",
        "13203    G14  Atlas 053    614                 Regular   \n",
        "12786     E4  Atlas 055    593                 Regular   \n",
        "446        5  Atlas 051     17                 Regular   \n",
        "1538      18  Atlas 047    129                Caucasus   \n",
        "440        5  Atlas 051     17                 Regular   \n",
        "1959      Fa  Atlas 017    163                 Regular   \n",
        "2028       D  Atlas 017    173                 Regular   \n",
        "...      ...        ...    ...                     ...   \n",
        "155        4  Atlas 052      4                 Regular   \n",
        "5006       1  Atlas 042     69                 Regular   \n",
        "5144       7  Atlas 042     75                 Regular   \n",
        "458        5  Atlas 051     17                 Regular   \n",
        "5399       8  Atlas 043     86                 Regular   \n",
        "7382       2  Atlas 039    383                 Regular   \n",
        "7124       2  Atlas 040    373                 Regular   \n",
        "3103   BII 1  Atlas 061    238  Grand Duchy of Finland   \n",
        "3619    II 1  Atlas 061    260  Grand Duchy of Finland   \n",
        "9405    IV g  Atlas 008    502                 Regular   \n",
        "12728     E1  Atlas 055    590                 Regular   \n",
        "11940      4  Atlas 007    520                 Regular   \n",
        "3852       7  Atlas 023    299                 Regular   \n",
        "1632       2  Atlas 026    141                 Regular   \n",
        "11676      1  Atlas 013    507                 Regular   \n",
        "12533   VIII  Atlas 003    580                  Poland   \n",
        "4336       5  Atlas 032    444                 Regular   \n",
        "11686      2  Atlas 013    508                 Regular   \n",
        "10687      6  Atlas 044     90                 Regular   \n",
        "11087      5  Atlas 018    162                 Regular   \n",
        "962        1  Atlas 041     57                 Regular   \n",
        "12089      1  Atlas 005    548                 Regular   \n",
        "9648       8  Atlas 014    533                 Regular   \n",
        "11696      2  Atlas 013    508                 Regular   \n",
        "8625       9  Atlas 019    468                 Regular   \n",
        "255       10  Atlas 052      9                 Regular   \n",
        "4108       4  Atlas 030    408                 Regular   \n",
        "7072      11  Atlas 036    370                 Regular   \n",
        "7609       3  Atlas 029    395                 Regular   \n",
        "10866      9  Atlas 044     97                 Regular   \n",
        "\n",
        "                                  Uz_name           Prov_name     XCOORD  \\\n",
        "12798                           Minusinsk         Eniseiskaia  91.430413   \n",
        "12809                           Minusinsk         Eniseiskaia  90.481991   \n",
        "1363                           Mingreliia             Gruziia  42.126976   \n",
        "12746                            Enisejsk         Eniseiskaia  93.087925   \n",
        "1193                               Iadrin          Kazanskaia  46.917073   \n",
        "13146                               Ishim         Tobol'skaia  70.035826   \n",
        "1802                             Kupiansk       Khar'kovskaia  37.828562   \n",
        "3283            Korskhol'ms Norra Fegderi          Vazovskaia  22.938113   \n",
        "1515                 Khanstvo Shirvanskoe             Gruziia  48.427275   \n",
        "1081                          Chistopol'e          Kazanskaia  50.595875   \n",
        "59                               Orenburg       Orenburgskaia  53.657363   \n",
        "11956                              Vil'no          Vilenskaia   25.59101   \n",
        "12                                Ural'sk       Orenburgskaia  50.966388   \n",
        "8477           Krasnoj Kholm (Ves'egonsk)           Tverskaia  36.679207   \n",
        "3479                                Pikie           Adovskaia  22.172756   \n",
        "8277                            Ostashkov           Tverskaia  33.353147   \n",
        "7410                              Sergach     Nizhegorodskaia  45.472502   \n",
        "10658                          Khoperskoe    Don Cossack Host  42.668093   \n",
        "3870                              Glukhov      Chernigovskaia   33.73242   \n",
        "10709                   Ust' Medveditskoe    Don Cossack Host  41.381381   \n",
        "9450                        Fridrikhshtat       Kurliandskaia  25.505471   \n",
        "12778                         Krasnoiarsk         Eniseiskaia  94.399122   \n",
        "9895                                 Omsk             Omskaia  73.846824   \n",
        "13203                                Tara         Tobol'skaia  70.961703   \n",
        "12786                             Achinsk         Eniseiskaia  90.969795   \n",
        "446                          Krasnoufimsk           Permskaia  57.821801   \n",
        "1538                     Iuzhnoj Dagestan             Gruziia  47.998996   \n",
        "440                          Krasnoufimsk           Permskaia  57.026967   \n",
        "1959   German colonists & Polish settlers       Bessarabskaia  28.947242   \n",
        "2028                              Bendery       Bessarabskaia  29.075214   \n",
        "...                                   ...                 ...        ...   \n",
        "155                        Verkhneural'sk       Orenburgskaia  57.113814   \n",
        "5006                              Kurmysh         Simbirskaia  45.732735   \n",
        "5144                              Ardatov         Simbirskaia  46.144164   \n",
        "458                          Krasnoufimsk           Permskaia  59.389644   \n",
        "5399                              Atkarsk        Saratovskaia  44.910272   \n",
        "7382                            Lukoianov     Nizhegorodskaia  44.205902   \n",
        "7124                                Penza         Penzenskaia  44.187428   \n",
        "3103                               Kaiana       Uleobordskaia  27.647498   \n",
        "3619                Borgo & E're Khollola           Tavastgus  24.966099   \n",
        "9405                               Doblen       Kurliandskaia  23.337936   \n",
        "12728                            Enisejsk         Eniseiskaia   90.20791   \n",
        "11940                              Vil'no          Vilenskaia  25.144742   \n",
        "3852                             Sosnitsa      Chernigovskaia  32.923976   \n",
        "1632                              Bakhmut  Ekaterinoslavskaia  37.564455   \n",
        "11676                             Liutsyn          Vitebskaia  26.997995   \n",
        "12533                        Avgustovskoe   Kingdom of Poland  22.971147   \n",
        "4336                               Mologa       Iaroslavskaia  38.097374   \n",
        "11686                         Kreslavl(?)          Vitebskaia   27.05561   \n",
        "10687                   Ust' Medveditskoe    Don Cossack Host  44.042213   \n",
        "11087                        Aleksandriia        Khersonskaia  33.281133   \n",
        "962                        Kuzmodemliansk          Kazanskaia  47.114981   \n",
        "12089                   Starokonstantinov          Volynskaia   26.31537   \n",
        "9648                                Pinsk            Minskaia  26.290556   \n",
        "11696                         Kreslavl(?)          Vitebskaia  26.202003   \n",
        "8625                            Belozersk       Novgorodskaia  35.742607   \n",
        "255                                 Birsk       Orenburgskaia  55.893387   \n",
        "4108                             Massalsk         Kaluzhskaia  34.169944   \n",
        "7072                               Elatom         Tambovskaia  41.673397   \n",
        "7609                            Dmitrovsk          Orlovskaia  35.429769   \n",
        "10866                              Rostov    Don Cossack Host   39.16788   \n",
        "\n",
        "          YCOORD  Unnamed: 14  \n",
        "12798  54.072991          NaN  \n",
        "12809  52.786148          NaN  \n",
        "1363   42.230377          NaN  \n",
        "12746  58.249130          NaN  \n",
        "1193   55.730064          NaN  \n",
        "13146  56.104255          NaN  \n",
        "1802   49.575612          NaN  \n",
        "3283   63.682334          NaN  \n",
        "1515   39.942007          NaN  \n",
        "1081   54.395138          NaN  \n",
        "59     52.830515          NaN  \n",
        "11956  55.957699          NaN  \n",
        "12     50.192118          NaN  \n",
        "8477   58.585266          NaN  \n",
        "3479   60.453122          NaN  \n",
        "8277   57.141162          NaN  \n",
        "7410   55.030321          NaN  \n",
        "10658  50.830736          NaN  \n",
        "3870   51.913136          NaN  \n",
        "10709  49.974027          NaN  \n",
        "9450   56.191278          NaN  \n",
        "12778  55.102718          NaN  \n",
        "9895   54.622233          NaN  \n",
        "13203  56.619185          NaN  \n",
        "12786  56.222778          NaN  \n",
        "446    56.761523          NaN  \n",
        "1538   41.968200          NaN  \n",
        "440    56.364141          NaN  \n",
        "1959   46.090392          NaN  \n",
        "2028   46.296104          NaN  \n",
        "...          ...          ...  \n",
        "155    53.212954          NaN  \n",
        "5006   55.065469          NaN  \n",
        "5144   54.538935          NaN  \n",
        "458    56.728368          NaN  \n",
        "5399   51.865256          NaN  \n",
        "7382   55.010240          NaN  \n",
        "7124   53.251217          NaN  \n",
        "3103   64.923425          NaN  \n",
        "3619   61.291164          NaN  \n",
        "9405   56.507368          NaN  \n",
        "12728  68.554162          NaN  \n",
        "11940  55.452376          NaN  \n",
        "3852   51.745728          NaN  \n",
        "1632   48.149878          NaN  \n",
        "11676  56.908563          NaN  \n",
        "12533  53.801147          NaN  \n",
        "4336   58.386179          NaN  \n",
        "11686  56.036483          NaN  \n",
        "10687  49.847907          NaN  \n",
        "11087  48.500023          NaN  \n",
        "962    55.820579          NaN  \n",
        "12089  49.671626          NaN  \n",
        "9648   51.941105          NaN  \n",
        "11696  56.162504          NaN  \n",
        "8625   59.897133          NaN  \n",
        "255    55.532400          NaN  \n",
        "4108   54.569068          NaN  \n",
        "7072   54.663700          NaN  \n",
        "7609   52.314350          NaN  \n",
        "10866  47.100311          NaN  \n",
        "\n",
        "[455 rows x 15 columns]"
       ]
      }
     ],
     "prompt_number": 4
    },
    {
     "cell_type": "code",
     "collapsed": false,
     "input": [
      "#settlements.to_json(\"settlements.json\")"
     ],
     "language": "python",
     "metadata": {},
     "outputs": [],
     "prompt_number": 33
    },
    {
     "cell_type": "code",
     "collapsed": false,
     "input": [
      "with open(\"resources/admindf.json\",\"r\",encoding=\"utf-8\") as fp:\n",
      "    admin = json.load(fp)"
     ],
     "language": "python",
     "metadata": {},
     "outputs": [],
     "prompt_number": 6
    },
    {
     "cell_type": "code",
     "collapsed": false,
     "input": [
      "nfdf = pd.DataFrame.from_csv('output/no_geo.csv')"
     ],
     "language": "python",
     "metadata": {},
     "outputs": [],
     "prompt_number": 7
    },
    {
     "cell_type": "code",
     "collapsed": false,
     "input": [
      "nfdf.head()"
     ],
     "language": "python",
     "metadata": {},
     "outputs": [
      {
       "html": [
        "<div style=\"max-height:1000px;max-width:1500px;overflow:auto;\">\n",
        "<table border=\"1\" class=\"dataframe\">\n",
        "  <thead>\n",
        "    <tr style=\"text-align: right;\">\n",
        "      <th></th>\n",
        "      <th>ru_prov</th>\n",
        "      <th>ru_uezd</th>\n",
        "      <th>page</th>\n",
        "      <th>text</th>\n",
        "      <th>name</th>\n",
        "      <th>alt_name</th>\n",
        "      <th>_type</th>\n",
        "      <th>source_url</th>\n",
        "      <th>html_text</th>\n",
        "      <th>name_modern_sp</th>\n",
        "      <th>prov_modern_sp</th>\n",
        "      <th>uezd_modern_sp</th>\n",
        "      <th>prov_stem</th>\n",
        "      <th>uezd_stem</th>\n",
        "      <th>admin_hierarchy</th>\n",
        "      <th>partof_id</th>\n",
        "      <th>admin1_partof</th>\n",
        "      <th>admin2_partof</th>\n",
        "    </tr>\n",
        "  </thead>\n",
        "  <tbody>\n",
        "    <tr>\n",
        "      <th>3</th>\n",
        "      <td>     \u0420\u044f\u0437\u0430\u043d\u0441\u043a\u0430\u0433\u043e \u041d\u0430\u043c\u0463\u0441\u0442\u043d\u0438\u0447\u0435\u0441\u0442\u0432\u0430</td>\n",
        "      <td>   \u0414\u043e\u043d\u043a\u043e\u0432\u0441\u043a\u043e\u043c\u044a \u0443\u0463\u0437\u0434\u0463</td>\n",
        "      <td> 10</td>\n",
        "      <td> \u0410\u0412\u0414\u0423\u041b\u041e\u0412\u041e, \u0418\u0412\u0410\u041d\u041e\u0412\u0421\u041a\u041e\u0415 \u0442\u043e\u0436\u044c, \u0441\u0435\u043b\u043e \u0420\u044f\u0437\u0430\u043d\u0441\u043a\u0430\u0433\u043e \u041d\u0430\u043c...</td>\n",
        "      <td>  \u0410\u0432\u0434\u0443\u043b\u043e\u0432\u043e</td>\n",
        "      <td> \u0418\u0432\u0430\u043d\u043e\u0432\u0441\u043a\u043e\u0435</td>\n",
        "      <td>      \u0441\u0435\u043b\u043e</td>\n",
        "      <td> http://babel.hathitrust.org/cgi/pt?id=uc1.b458...</td>\n",
        "      <td> \u0410\u0412\u0414\u0423\u041b\u041e\u0412\u041e, \u0418\u0412\u0410\u041d\u041e\u0412\u0421\u041a\u041e\u0415 \u0442\u043e\u0436\u044c, &lt;/span&gt;&lt;span class=...</td>\n",
        "      <td>  \u0410\u0432\u0434\u0443\u043b\u043e\u0432\u043e</td>\n",
        "      <td>     \u0420\u044f\u0437\u0430\u043d\u0441\u043a\u043e\u0433\u043e \u041d\u0430\u043c\u0435\u0441\u0442\u043d\u0438\u0447\u0435\u0441\u0442\u0432\u0430</td>\n",
        "      <td>   \u0414\u043e\u043d\u043a\u043e\u0432\u0441\u043a\u043e\u043c \u0443\u0435\u0437\u0434\u0435</td>\n",
        "      <td>     \u0440\u044f\u0437\u0430\u043d\u0441\u043a</td>\n",
        "      <td>    \u0434\u043e\u043d\u043a\u043e\u0432\u0441\u043a</td>\n",
        "      <td>     \u0440\u044f\u0437\u0430\u043d\u0441\u043a|\u0434\u043e\u043d\u043a\u043e\u0432\u0441\u043a</td>\n",
        "      <td>  62</td>\n",
        "      <td> 28</td>\n",
        "      <td>  62</td>\n",
        "    </tr>\n",
        "    <tr>\n",
        "      <th>4</th>\n",
        "      <td>   \u0412\u043e\u043b\u043e\u0433\u043e\u0434\u0441\u043a\u0430\u0433\u043e \u041d\u0430\u043c\u0463\u0441\u0442\u043d\u0438\u0447\u0435\u0441\u0442\u0432\u0430</td>\n",
        "      <td>  \u0412\u043e\u043b\u043e\u0433\u043e\u0434\u0441\u043a\u0430\u0433\u043e \u0443\u0463\u0437\u0434\u0463</td>\n",
        "      <td> 10</td>\n",
        "      <td> \u0410\u0412\u0416\u0415\u041d\u0421\u041a\u0410\u042f , \u0432\u043e\u043b\u043e\u0441\u0442\u044c \u0412\u043e\u043b\u043e\u0433\u043e\u0434\u0441\u043a\u0430\u0433\u043e \u041d\u0430\u043c\u0463\u0441\u0442\u043d\u0438\u0447\u0435\u0441\u0442\u0432...</td>\n",
        "      <td> \u0410\u0432\u0436\u0435\u043d\u0441\u043a\u0430\u044f</td>\n",
        "      <td>        NaN</td>\n",
        "      <td>   \u0432\u043e\u043b\u043e\u0441\u0442\u044c</td>\n",
        "      <td> http://babel.hathitrust.org/cgi/pt?id=uc1.b458...</td>\n",
        "      <td> \u0410\u0412\u0416\u0415\u041d\u0421\u041a\u0410\u042f , &lt;/span&gt;&lt;span class=\"font0\" style=\"...</td>\n",
        "      <td> \u0410\u0432\u0436\u0435\u043d\u0441\u043a\u0430\u044f</td>\n",
        "      <td>   \u0412\u043e\u043b\u043e\u0433\u043e\u0434\u0441\u043a\u043e\u0433\u043e \u041d\u0430\u043c\u0435\u0441\u0442\u043d\u0438\u0447\u0435\u0441\u0442\u0432\u0430</td>\n",
        "      <td> \u0412\u043e\u043b\u043e\u0433\u043e\u0434\u0441\u043a\u043e\u0433\u043e \u0443\u0435\u0437\u0434\u0435</td>\n",
        "      <td>   \u0432\u043e\u043b\u043e\u0433\u043e\u0434\u0441\u043a</td>\n",
        "      <td>   \u0432\u043e\u043b\u043e\u0433\u043e\u0434\u0441\u043a</td>\n",
        "      <td>  \u0432\u043e\u043b\u043e\u0433\u043e\u0434\u0441\u043a|\u0432\u043e\u043b\u043e\u0433\u043e\u0434\u0441\u043a</td>\n",
        "      <td>  55</td>\n",
        "      <td>  4</td>\n",
        "      <td>  55</td>\n",
        "    </tr>\n",
        "    <tr>\n",
        "      <th>5</th>\n",
        "      <td>   \u041a\u043e\u0441\u0442\u0440\u043e\u043c\u0441\u043a\u0430\u0433\u043e \u041d\u0430\u043c\u0463\u0441\u0442\u043d\u0438\u0447\u0435\u0441\u0442\u0432\u0430</td>\n",
        "      <td>         not_in_text</td>\n",
        "      <td> 10</td>\n",
        "      <td> \u0410\u0412\u0420\u0410\u041c\u0406\u0415\u0412\u042a, \u043c\u043e\u043d\u0430\u0441\u0442\u044b\u0440\u044c \u041a\u043e\u0441\u0442\u0440\u043e\u043c\u0441\u043a\u0430\u0433\u043e \u041d\u0430\u043c\u0463\u0441\u0442\u043d\u0438\u0447\u0435\u0441\u0442...</td>\n",
        "      <td> \u0410\u0432\u0440\u0430\u043c\u0456\u0435\u0432\u044a</td>\n",
        "      <td>        NaN</td>\n",
        "      <td> \u043c\u043e\u043d\u0430\u0441\u0442\u044b\u0440\u044c</td>\n",
        "      <td> http://babel.hathitrust.org/cgi/pt?id=uc1.b458...</td>\n",
        "      <td> \u0410\u0412\u0420\u0410\u041c\u0406\u0415\u0412\u042a&lt;/span&gt;&lt;span class=\"font0\" style=\"fon...</td>\n",
        "      <td>  \u0410\u0432\u0440\u0430\u043c\u0438\u0435\u0432</td>\n",
        "      <td>   \u041a\u043e\u0441\u0442\u0440\u043e\u043c\u0441\u043a\u043e\u0433\u043e \u041d\u0430\u043c\u0435\u0441\u0442\u043d\u0438\u0447\u0435\u0441\u0442\u0432\u0430</td>\n",
        "      <td>        not_\u0438n_text</td>\n",
        "      <td>    \u043a\u043e\u0441\u0442\u0440\u043e\u043c\u0430</td>\n",
        "      <td> \u043d\u043e\u0442_\u0438\u043d_\u0442\u0435x\u0442</td>\n",
        "      <td>             \u043a\u043e\u0441\u0442\u0440\u043e\u043c\u0430</td>\n",
        "      <td>  14</td>\n",
        "      <td> 14</td>\n",
        "      <td> NaN</td>\n",
        "    </tr>\n",
        "    <tr>\n",
        "      <th>6</th>\n",
        "      <td> \u041d\u0438\u0436\u0435\u0433\u043e\u0440\u043e\u0434\u0441\u043a\u0430\u0433\u043e \u041d\u0430\u043c\u0463\u0441\u0442\u043d\u0438\u0447\u0435\u0441\u0442\u0432\u0430</td>\n",
        "      <td>   \u0410\u0440\u0437\u0430\u043c\u0430\u0441\u043a\u043e\u043c\u044a \u0443\u0463\u0437\u0434\u0463</td>\n",
        "      <td> 10</td>\n",
        "      <td> \u0410\u0414\u041e\u0412\u0410\u0422\u041e\u0412\u041e, \u0441\u0435\u043b\u043e \u041d\u0438\u0436\u0435\u0433\u043e\u0440\u043e\u0434\u0441\u043a\u0430\u0433\u043e \u041d\u0430\u043c\u0463\u0441\u0442\u043d\u0438\u0447\u0435\u0441\u0442\u0432\u0430 ...</td>\n",
        "      <td> \u0410\u0434\u043e\u0432\u0430\u0442\u043e\u0432\u043e</td>\n",
        "      <td>        NaN</td>\n",
        "      <td>      \u0441\u0435\u043b\u043e</td>\n",
        "      <td> http://babel.hathitrust.org/cgi/pt?id=uc1.b458...</td>\n",
        "      <td> \u0410\u0414\u041e\u0412\u0410\u0422\u041e\u0412\u041e, &lt;/span&gt;&lt;span class=\"font0\" style=\"f...</td>\n",
        "      <td> \u0410\u0434\u043e\u0432\u0430\u0442\u043e\u0432\u043e</td>\n",
        "      <td> \u041d\u0438\u0436\u0435\u0433\u043e\u0440\u043e\u0434\u0441\u043a\u043e\u0433\u043e \u041d\u0430\u043c\u0435\u0441\u0442\u043d\u0438\u0447\u0435\u0441\u0442\u0432\u0430</td>\n",
        "      <td>   \u0410\u0440\u0437\u0430\u043c\u0430\u0441\u043a\u043e\u043c \u0443\u0435\u0437\u0434\u0435</td>\n",
        "      <td> \u043d\u0438\u0436\u0435\u0433\u043e\u0440\u043e\u0434\u0441\u043a</td>\n",
        "      <td>    \u0430\u0440\u0437\u0430\u043c\u0430\u0441\u043a</td>\n",
        "      <td> \u043d\u0438\u0436\u0435\u0433\u043e\u0440\u043e\u0434\u0441\u043a|\u0430\u0440\u0437\u0430\u043c\u0430\u0441\u043a</td>\n",
        "      <td>  42</td>\n",
        "      <td> 17</td>\n",
        "      <td>  42</td>\n",
        "    </tr>\n",
        "    <tr>\n",
        "      <th>7</th>\n",
        "      <td>    \u0422\u0430\u043c\u0431\u043e\u0432\u0441\u043a\u0430\u0433\u043e \u041d\u0430\u043c\u0463\u0441\u0442\u043d\u0438\u0447\u0435\u0441\u0442\u0432\u0430</td>\n",
        "      <td> \u0422\u0435\u043c\u043d\u0438\u043a\u043e\u0432\u0441\u043a\u043e\u043c\u044a \u0443\u0463\u0437\u0434\u0463</td>\n",
        "      <td> 10</td>\n",
        "      <td> \u0410\u041a\u0421\u0415\u041b\u042c, \u0441\u0435\u043b\u043e \u0422\u0430\u043c\u0431\u043e\u0432\u0441\u043a\u0430\u0433\u043e \u041d\u0430\u043c\u0463\u0441\u0442\u043d\u0438\u0447\u0435\u0441\u0442\u0432\u0430 \u0432\u044a \u0422\u0435\u043c...</td>\n",
        "      <td>    \u0410\u043a\u0441\u0435\u043b\u044c</td>\n",
        "      <td>        NaN</td>\n",
        "      <td>      \u0441\u0435\u043b\u043e</td>\n",
        "      <td> http://babel.hathitrust.org/cgi/pt?id=uc1.b458...</td>\n",
        "      <td> \u0410\u041a\u0421\u0415\u041b\u042c, &lt;/span&gt;&lt;span class=\"font0\" style=\"font...</td>\n",
        "      <td>    \u0410\u043a\u0441\u0435\u043b\u044c</td>\n",
        "      <td>    \u0422\u0430\u043c\u0431\u043e\u0432\u0441\u043a\u043e\u0433\u043e \u041d\u0430\u043c\u0435\u0441\u0442\u043d\u0438\u0447\u0435\u0441\u0442\u0432\u0430</td>\n",
        "      <td> \u0422\u0435\u043c\u043d\u0438\u043a\u043e\u0432\u0441\u043a\u043e\u043c \u0443\u0435\u0437\u0434\u0435</td>\n",
        "      <td>    \u0442\u0430\u043c\u0431\u043e\u0432\u0441\u043a</td>\n",
        "      <td>  \u0442\u0435\u043c\u043d\u0438\u043a\u043e\u0432\u0441\u043a</td>\n",
        "      <td>  \u0442\u0430\u043c\u0431\u043e\u0432\u0441\u043a|\u0442\u0435\u043c\u043d\u0438\u043a\u043e\u0432\u0441\u043a</td>\n",
        "      <td> 126</td>\n",
        "      <td> 32</td>\n",
        "      <td> 126</td>\n",
        "    </tr>\n",
        "  </tbody>\n",
        "</table>\n",
        "</div>"
       ],
       "metadata": {},
       "output_type": "pyout",
       "prompt_number": 8,
       "text": [
        "                         ru_prov              ru_uezd  page  \\\n",
        "3      \u0420\u044f\u0437\u0430\u043d\u0441\u043a\u0430\u0433\u043e \u041d\u0430\u043c\u0463\u0441\u0442\u043d\u0438\u0447\u0435\u0441\u0442\u0432\u0430    \u0414\u043e\u043d\u043a\u043e\u0432\u0441\u043a\u043e\u043c\u044a \u0443\u0463\u0437\u0434\u0463    10   \n",
        "4    \u0412\u043e\u043b\u043e\u0433\u043e\u0434\u0441\u043a\u0430\u0433\u043e \u041d\u0430\u043c\u0463\u0441\u0442\u043d\u0438\u0447\u0435\u0441\u0442\u0432\u0430   \u0412\u043e\u043b\u043e\u0433\u043e\u0434\u0441\u043a\u0430\u0433\u043e \u0443\u0463\u0437\u0434\u0463    10   \n",
        "5    \u041a\u043e\u0441\u0442\u0440\u043e\u043c\u0441\u043a\u0430\u0433\u043e \u041d\u0430\u043c\u0463\u0441\u0442\u043d\u0438\u0447\u0435\u0441\u0442\u0432\u0430          not_in_text    10   \n",
        "6  \u041d\u0438\u0436\u0435\u0433\u043e\u0440\u043e\u0434\u0441\u043a\u0430\u0433\u043e \u041d\u0430\u043c\u0463\u0441\u0442\u043d\u0438\u0447\u0435\u0441\u0442\u0432\u0430    \u0410\u0440\u0437\u0430\u043c\u0430\u0441\u043a\u043e\u043c\u044a \u0443\u0463\u0437\u0434\u0463    10   \n",
        "7     \u0422\u0430\u043c\u0431\u043e\u0432\u0441\u043a\u0430\u0433\u043e \u041d\u0430\u043c\u0463\u0441\u0442\u043d\u0438\u0447\u0435\u0441\u0442\u0432\u0430  \u0422\u0435\u043c\u043d\u0438\u043a\u043e\u0432\u0441\u043a\u043e\u043c\u044a \u0443\u0463\u0437\u0434\u0463    10   \n",
        "\n",
        "                                                text       name    alt_name  \\\n",
        "3  \u0410\u0412\u0414\u0423\u041b\u041e\u0412\u041e, \u0418\u0412\u0410\u041d\u041e\u0412\u0421\u041a\u041e\u0415 \u0442\u043e\u0436\u044c, \u0441\u0435\u043b\u043e \u0420\u044f\u0437\u0430\u043d\u0441\u043a\u0430\u0433\u043e \u041d\u0430\u043c...   \u0410\u0432\u0434\u0443\u043b\u043e\u0432\u043e  \u0418\u0432\u0430\u043d\u043e\u0432\u0441\u043a\u043e\u0435   \n",
        "4  \u0410\u0412\u0416\u0415\u041d\u0421\u041a\u0410\u042f , \u0432\u043e\u043b\u043e\u0441\u0442\u044c \u0412\u043e\u043b\u043e\u0433\u043e\u0434\u0441\u043a\u0430\u0433\u043e \u041d\u0430\u043c\u0463\u0441\u0442\u043d\u0438\u0447\u0435\u0441\u0442\u0432...  \u0410\u0432\u0436\u0435\u043d\u0441\u043a\u0430\u044f         NaN   \n",
        "5  \u0410\u0412\u0420\u0410\u041c\u0406\u0415\u0412\u042a, \u043c\u043e\u043d\u0430\u0441\u0442\u044b\u0440\u044c \u041a\u043e\u0441\u0442\u0440\u043e\u043c\u0441\u043a\u0430\u0433\u043e \u041d\u0430\u043c\u0463\u0441\u0442\u043d\u0438\u0447\u0435\u0441\u0442...  \u0410\u0432\u0440\u0430\u043c\u0456\u0435\u0432\u044a         NaN   \n",
        "6  \u0410\u0414\u041e\u0412\u0410\u0422\u041e\u0412\u041e, \u0441\u0435\u043b\u043e \u041d\u0438\u0436\u0435\u0433\u043e\u0440\u043e\u0434\u0441\u043a\u0430\u0433\u043e \u041d\u0430\u043c\u0463\u0441\u0442\u043d\u0438\u0447\u0435\u0441\u0442\u0432\u0430 ...  \u0410\u0434\u043e\u0432\u0430\u0442\u043e\u0432\u043e         NaN   \n",
        "7  \u0410\u041a\u0421\u0415\u041b\u042c, \u0441\u0435\u043b\u043e \u0422\u0430\u043c\u0431\u043e\u0432\u0441\u043a\u0430\u0433\u043e \u041d\u0430\u043c\u0463\u0441\u0442\u043d\u0438\u0447\u0435\u0441\u0442\u0432\u0430 \u0432\u044a \u0422\u0435\u043c...     \u0410\u043a\u0441\u0435\u043b\u044c         NaN   \n",
        "\n",
        "       _type                                         source_url  \\\n",
        "3       \u0441\u0435\u043b\u043e  http://babel.hathitrust.org/cgi/pt?id=uc1.b458...   \n",
        "4    \u0432\u043e\u043b\u043e\u0441\u0442\u044c  http://babel.hathitrust.org/cgi/pt?id=uc1.b458...   \n",
        "5  \u043c\u043e\u043d\u0430\u0441\u0442\u044b\u0440\u044c  http://babel.hathitrust.org/cgi/pt?id=uc1.b458...   \n",
        "6       \u0441\u0435\u043b\u043e  http://babel.hathitrust.org/cgi/pt?id=uc1.b458...   \n",
        "7       \u0441\u0435\u043b\u043e  http://babel.hathitrust.org/cgi/pt?id=uc1.b458...   \n",
        "\n",
        "                                           html_text name_modern_sp  \\\n",
        "3  \u0410\u0412\u0414\u0423\u041b\u041e\u0412\u041e, \u0418\u0412\u0410\u041d\u041e\u0412\u0421\u041a\u041e\u0415 \u0442\u043e\u0436\u044c, </span><span class=...       \u0410\u0432\u0434\u0443\u043b\u043e\u0432\u043e   \n",
        "4  \u0410\u0412\u0416\u0415\u041d\u0421\u041a\u0410\u042f , </span><span class=\"font0\" style=\"...      \u0410\u0432\u0436\u0435\u043d\u0441\u043a\u0430\u044f   \n",
        "5  \u0410\u0412\u0420\u0410\u041c\u0406\u0415\u0412\u042a</span><span class=\"font0\" style=\"fon...       \u0410\u0432\u0440\u0430\u043c\u0438\u0435\u0432   \n",
        "6  \u0410\u0414\u041e\u0412\u0410\u0422\u041e\u0412\u041e, </span><span class=\"font0\" style=\"f...      \u0410\u0434\u043e\u0432\u0430\u0442\u043e\u0432\u043e   \n",
        "7  \u0410\u041a\u0421\u0415\u041b\u042c, </span><span class=\"font0\" style=\"font...         \u0410\u043a\u0441\u0435\u043b\u044c   \n",
        "\n",
        "                  prov_modern_sp      uezd_modern_sp    prov_stem  \\\n",
        "3      \u0420\u044f\u0437\u0430\u043d\u0441\u043a\u043e\u0433\u043e \u041d\u0430\u043c\u0435\u0441\u0442\u043d\u0438\u0447\u0435\u0441\u0442\u0432\u0430    \u0414\u043e\u043d\u043a\u043e\u0432\u0441\u043a\u043e\u043c \u0443\u0435\u0437\u0434\u0435      \u0440\u044f\u0437\u0430\u043d\u0441\u043a   \n",
        "4    \u0412\u043e\u043b\u043e\u0433\u043e\u0434\u0441\u043a\u043e\u0433\u043e \u041d\u0430\u043c\u0435\u0441\u0442\u043d\u0438\u0447\u0435\u0441\u0442\u0432\u0430  \u0412\u043e\u043b\u043e\u0433\u043e\u0434\u0441\u043a\u043e\u0433\u043e \u0443\u0435\u0437\u0434\u0435    \u0432\u043e\u043b\u043e\u0433\u043e\u0434\u0441\u043a   \n",
        "5    \u041a\u043e\u0441\u0442\u0440\u043e\u043c\u0441\u043a\u043e\u0433\u043e \u041d\u0430\u043c\u0435\u0441\u0442\u043d\u0438\u0447\u0435\u0441\u0442\u0432\u0430         not_\u0438n_text     \u043a\u043e\u0441\u0442\u0440\u043e\u043c\u0430   \n",
        "6  \u041d\u0438\u0436\u0435\u0433\u043e\u0440\u043e\u0434\u0441\u043a\u043e\u0433\u043e \u041d\u0430\u043c\u0435\u0441\u0442\u043d\u0438\u0447\u0435\u0441\u0442\u0432\u0430    \u0410\u0440\u0437\u0430\u043c\u0430\u0441\u043a\u043e\u043c \u0443\u0435\u0437\u0434\u0435  \u043d\u0438\u0436\u0435\u0433\u043e\u0440\u043e\u0434\u0441\u043a   \n",
        "7     \u0422\u0430\u043c\u0431\u043e\u0432\u0441\u043a\u043e\u0433\u043e \u041d\u0430\u043c\u0435\u0441\u0442\u043d\u0438\u0447\u0435\u0441\u0442\u0432\u0430  \u0422\u0435\u043c\u043d\u0438\u043a\u043e\u0432\u0441\u043a\u043e\u043c \u0443\u0435\u0437\u0434\u0435     \u0442\u0430\u043c\u0431\u043e\u0432\u0441\u043a   \n",
        "\n",
        "     uezd_stem       admin_hierarchy  partof_id  admin1_partof  admin2_partof  \n",
        "3     \u0434\u043e\u043d\u043a\u043e\u0432\u0441\u043a      \u0440\u044f\u0437\u0430\u043d\u0441\u043a|\u0434\u043e\u043d\u043a\u043e\u0432\u0441\u043a         62             28             62  \n",
        "4    \u0432\u043e\u043b\u043e\u0433\u043e\u0434\u0441\u043a   \u0432\u043e\u043b\u043e\u0433\u043e\u0434\u0441\u043a|\u0432\u043e\u043b\u043e\u0433\u043e\u0434\u0441\u043a         55              4             55  \n",
        "5  \u043d\u043e\u0442_\u0438\u043d_\u0442\u0435x\u0442              \u043a\u043e\u0441\u0442\u0440\u043e\u043c\u0430         14             14            NaN  \n",
        "6     \u0430\u0440\u0437\u0430\u043c\u0430\u0441\u043a  \u043d\u0438\u0436\u0435\u0433\u043e\u0440\u043e\u0434\u0441\u043a|\u0430\u0440\u0437\u0430\u043c\u0430\u0441\u043a         42             17             42  \n",
        "7   \u0442\u0435\u043c\u043d\u0438\u043a\u043e\u0432\u0441\u043a   \u0442\u0430\u043c\u0431\u043e\u0432\u0441\u043a|\u0442\u0435\u043c\u043d\u0438\u043a\u043e\u0432\u0441\u043a        126             32            126  "
       ]
      }
     ],
     "prompt_number": 8
    },
    {
     "cell_type": "code",
     "collapsed": false,
     "input": [
      "\"\u0419\u042c\u042a\u0410\u0415\u0418\u041e\u0423\u042d\u042e\u042f\u0401\u042b\"+\"\u0419\u042c\u042a\u0410\u0415\u0418\u041e\u0423\u042d\u042e\u042f\u0401\u042b\".lower()"
     ],
     "language": "python",
     "metadata": {},
     "outputs": [
      {
       "metadata": {},
       "output_type": "pyout",
       "prompt_number": 30,
       "text": [
        "'\u0419\u042c\u042a\u0410\u0415\u0418\u041e\u0423\u042d\u042e\u042f\u0401\u042b\u0439\u044c\u044a\u0430\u0435\u0438\u043e\u0443\u044d\u044e\u044f\u0451\u044b'"
       ]
      }
     ],
     "prompt_number": 30
    },
    {
     "cell_type": "code",
     "collapsed": false,
     "input": [
      "import re"
     ],
     "language": "python",
     "metadata": {},
     "outputs": [],
     "prompt_number": 25
    },
    {
     "cell_type": "code",
     "collapsed": false,
     "input": [
      "lc_cyrillic_translit={u'\\u0410': 'A', u'\\u0430': 'a',u'\\u0411': 'B', u'\\u0431': 'b',u'\\u0412': 'V', u'\\u0432': 'v',u'\\u0413': 'G', u'\\u0433': 'g',u'\\u0414': 'D', u'\\u0434': 'd',u'\\u0415': 'E', u'\\u0435': 'e',u'\\u0416': 'Zh', u'\\u0436': 'zh',u'\\u0417': 'Z', u'\\u0437': 'z',u'\\u0418': 'I', u'\\u0438': 'i',u'\\u0419': 'I', u'\\u0439': 'i',u'\\u041a': 'K', u'\\u043a': 'k',u'\\u041b': 'L', u'\\u043b': 'l',u'\\u041c': 'M', u'\\u043c': 'm',u'\\u041d': 'N', u'\\u043d': 'n',u'\\u041e': 'O', u'\\u043e': 'o',u'\\u041f': 'P', u'\\u043f': 'p',u'\\u0420': 'R', u'\\u0440': 'r',u'\\u0421': 'S', u'\\u0441': 's',u'\\u0422': 'T', u'\\u0442': 't',u'\\u0423': 'U', u'\\u0443': 'u',u'\\u0424': 'F', u'\\u0444': 'f',u'\\u0425': 'Kh', u'\\u0445': 'kh',u'\\u0426': 'Ts', u'\\u0446': 'ts',u'\\u0427': 'Ch', u'\\u0447': 'ch',u'\\u0428': 'Sh', u'\\u0448': 'sh',u'\\u0429': 'Shch', u'\\u0449': 'shch',u'\\u042a': '\"', u'\\u044a': '\"',u'\\u042b': 'Y', u'\\u044b': 'y',u'\\u042c': \"'\", u'\\u044c': \"'\",u'\\u042d': 'E', u'\\u044d': 'e',u'\\u042e': 'Iu', u'\\u044e': 'iu',u'\\u042f': 'Ia', u'\\u044f': 'ia',u'\\u0462': 'E', u'\\u0463': 'e'}\n",
      "bgn_translit = {\"special_cases\":[[r\"([\u0419\u042c\u042a\u0410\u0415\u0418\u041e\u0423\u042d\u042e\u042f\u0401\u042b\u0439\u044c\u044a\u0430\u0435\u0438\u043e\u0443\u044d\u044e\u044f\u0451\u044b])\u0435\",r\"\\1ye\"],[r\"([\u0419\u042c\u042a\u0410\u0415\u0418\u041e\u0423\u042d\u042e\u042f\u0401\u042b\u0439\u044c\u044a\u0430\u0435\u0438\u043e\u0443\u044d\u044e\u044f\u0451\u044b])\u0415\",r\"\\1Ye\"],[r\"([\u0419\u042c\u042a\u0410\u0415\u0418\u041e\u0423\u042d\u042e\u042f\u0401\u042b\u0439\u044c\u044a\u0430\u0435\u0438\u043e\u0443\u044d\u044e\u044f\u0451\u044b])\u0451\",r\"\\1y\u00eb\"],[r\"([\u0419\u042c\u042a\u0410\u0415\u0418\u041e\u0423\u042d\u042e\u042f\u0401\u042b\u0439\u044c\u044a\u0430\u0435\u0438\u043e\u0443\u044d\u044e\u044f\u0451\u044b])\u0451\",r\"\\1y\u00eb\"],[r\"([\u0419\u042c\u042a\u0410\u0415\u0418\u041e\u0423\u042d\u042e\u042f\u0401\u042b\u0439\u044c\u044a\u0430\u0435\u0438\u043e\u0443\u044d\u044e\u044f\u0451\u044b])\u0401\",r\"\\1Y\u00eb\"],[r\"^\u0415\",r\"Ye\"],[r\"^\u0435\",r\"ye\"],[r\"^\u0401\",r\"Y\u00eb\"],[r\"^\u0451\",r\"y\u00eb\"]],u'\\u0410': 'A', u'\\u0430': 'a', u'\\u0411': 'B', u'\\u0431': 'b', u'\\u0412': 'V', u'\\u0432': 'v', u'\\u0413': 'G', u'\\u0433': 'g', u'\\u0414': 'D', u'\\u0434': 'd', u'\\u0415': 'E', u'\\u0435': 'e', u'\\u0416': 'Zh', u'\\u0436': 'zh', u'\\u0417': 'Z', u'\\u0437': 'z', u'\\u0418': 'I', u'\\u0438': 'i', u'\\u0419': 'Y', u'\\u0439': 'y', u'\\u041a': 'K', u'\\u043a': 'k', u'\\u041b': 'L', u'\\u043b': 'l', u'\\u041c': 'M', u'\\u043c': 'm', u'\\u041d': 'N', u'\\u043d': 'n', u'\\u041e': 'O', u'\\u043e': 'o', u'\\u041f': 'P', u'\\u043f': 'p', u'\\u0420': 'R', u'\\u0440': 'r', u'\\u0421': 'S', u'\\u0441': 's', u'\\u0422': 'T', u'\\u0442': 't', u'\\u0423': 'U', u'\\u0443': 'u', u'\\u0424': 'F', u'\\u0444': 'f', u'\\u0425': 'Kh', u'\\u0445': 'kh', u'\\u0426': 'Ts', u'\\u0446': 'ts', u'\\u0427': 'Ch', u'\\u0447': 'ch', u'\\u0428': 'Sh', u'\\u0448': 'sh', u'\\u0429': 'Shch', u'\\u0449': 'shch', u'\\u042a': '\"', u'\\u044a': '\"', u'\\u042b': 'Y', u'\\u044b': 'y', u'\\u042c': \"'\", u'\\u044c': \"'\", u'\\u042d': 'E', u'\\u044d': 'e', u'\\u042e': 'Yu', u'\\u044e': 'yu', u'\\u042f': 'Ya', u'\\u044f': 'ya'}\n",
      "\n",
      "def transliterate(word, translit_table):\n",
      "    \"\"\"\n",
      "    Transliterates 'word' based on the key/value pairs in 'translit_table'\n",
      "    \"\"\"\n",
      "    if \"special_cases\" in translit_table.keys():\n",
      "        for pair in translit_table['special_cases']:\n",
      "            word = re.sub(pair[0],pair[1],word)\n",
      "    converted_word = ''\n",
      "    for char in word:\n",
      "        transchar = ''\n",
      "        if char in translit_table:\n",
      "            transchar = translit_table[char]\n",
      "        else:\n",
      "            transchar = char\n",
      "        converted_word += transchar\n",
      "    return converted_word"
     ],
     "language": "python",
     "metadata": {},
     "outputs": [],
     "prompt_number": 39
    },
    {
     "cell_type": "code",
     "collapsed": false,
     "input": [
      "nfdf['lc_translit'] = nfdf.name_modern_sp.apply(transliterate,args=[lc_cyrillic_translit])"
     ],
     "language": "python",
     "metadata": {},
     "outputs": [],
     "prompt_number": 10
    },
    {
     "cell_type": "code",
     "collapsed": false,
     "input": [
      "matches = []\n",
      "for n in nfdf.lc_translit:\n",
      "    if n in settlements.Placename.tolist():\n",
      "        matches.append(n)"
     ],
     "language": "python",
     "metadata": {},
     "outputs": [],
     "prompt_number": 11
    },
    {
     "cell_type": "code",
     "collapsed": false,
     "input": [
      "settle_matches = settlements.ix[settlements.Placename.isin(matches)]\n",
      "nfdf_matches = nfdf.ix[nfdf.lc_translit.isin(matches)]\n",
      "merged = pd.merge(settle_matches,nfdf_matches,left_on='Placename',right_on='lc_translit')\n",
      "merged.to_csv('imperiia/settle_merge.csv',encoding='utf-8')"
     ],
     "language": "python",
     "metadata": {},
     "outputs": [],
     "prompt_number": 15
    },
    {
     "cell_type": "code",
     "collapsed": false,
     "input": [
      "import nltk"
     ],
     "language": "python",
     "metadata": {},
     "outputs": [],
     "prompt_number": 13
    },
    {
     "cell_type": "code",
     "collapsed": false,
     "input": [
      "ru_stemmer = nltk.stem.SnowballStemmer('russian')"
     ],
     "language": "python",
     "metadata": {},
     "outputs": [],
     "prompt_number": 14
    },
    {
     "cell_type": "code",
     "collapsed": false,
     "input": [
      "merged['translit_prov_stem'] = merged.prov_stem.apply(lambda text: transliterate(text,cyrillic_translit))"
     ],
     "language": "python",
     "metadata": {},
     "outputs": [],
     "prompt_number": 16
    },
    {
     "cell_type": "code",
     "collapsed": false,
     "input": [
      "merged['settle_prov_stem'] = merged.Prov_name.apply(ru_stemmer.stem)\n",
      "merged['settle_prov_stem'] = merged.settle_prov_stem.apply(ru_stemmer.stem).str.lower()"
     ],
     "language": "python",
     "metadata": {},
     "outputs": [],
     "prompt_number": 17
    },
    {
     "cell_type": "code",
     "collapsed": false,
     "input": [
      "merged[['settle_prov_stem','translit_prov_stem']]"
     ],
     "language": "python",
     "metadata": {},
     "outputs": [
      {
       "html": [
        "<div style=\"max-height:1000px;max-width:1500px;overflow:auto;\">\n",
        "<table border=\"1\" class=\"dataframe\">\n",
        "  <thead>\n",
        "    <tr style=\"text-align: right;\">\n",
        "      <th></th>\n",
        "      <th>settle_prov_stem</th>\n",
        "      <th>translit_prov_stem</th>\n",
        "    </tr>\n",
        "  </thead>\n",
        "  <tbody>\n",
        "    <tr>\n",
        "      <th>0   </th>\n",
        "      <td>             orenburgsk</td>\n",
        "      <td>    kavkazsk</td>\n",
        "    </tr>\n",
        "    <tr>\n",
        "      <th>1   </th>\n",
        "      <td>             orenburgsk</td>\n",
        "      <td>  voronezhsk</td>\n",
        "    </tr>\n",
        "    <tr>\n",
        "      <th>2   </th>\n",
        "      <td>                 viatsk</td>\n",
        "      <td>  voronezhsk</td>\n",
        "    </tr>\n",
        "    <tr>\n",
        "      <th>3   </th>\n",
        "      <td>             orenburgsk</td>\n",
        "      <td>      ufimsk</td>\n",
        "    </tr>\n",
        "    <tr>\n",
        "      <th>4   </th>\n",
        "      <td>             orenburgsk</td>\n",
        "      <td>    tambovsk</td>\n",
        "    </tr>\n",
        "    <tr>\n",
        "      <th>5   </th>\n",
        "      <td>           arkhangel'sk</td>\n",
        "      <td>    tambovsk</td>\n",
        "    </tr>\n",
        "    <tr>\n",
        "      <th>6   </th>\n",
        "      <td>               tobol'sk</td>\n",
        "      <td>    tambovsk</td>\n",
        "    </tr>\n",
        "    <tr>\n",
        "      <th>7   </th>\n",
        "      <td>             orenburgsk</td>\n",
        "      <td>  khar'kovsk</td>\n",
        "    </tr>\n",
        "    <tr>\n",
        "      <th>8   </th>\n",
        "      <td>        ekaterinoslavsk</td>\n",
        "      <td>  khar'kovsk</td>\n",
        "    </tr>\n",
        "    <tr>\n",
        "      <th>9   </th>\n",
        "      <td>        ekaterinoslavsk</td>\n",
        "      <td>  khar'kovsk</td>\n",
        "    </tr>\n",
        "    <tr>\n",
        "      <th>10  </th>\n",
        "      <td>        ekaterinoslavsk</td>\n",
        "      <td>  khar'kovsk</td>\n",
        "    </tr>\n",
        "    <tr>\n",
        "      <th>11  </th>\n",
        "      <td>             khar'kovsk</td>\n",
        "      <td>  khar'kovsk</td>\n",
        "    </tr>\n",
        "    <tr>\n",
        "      <th>12  </th>\n",
        "      <td>            chernigovsk</td>\n",
        "      <td>  khar'kovsk</td>\n",
        "    </tr>\n",
        "    <tr>\n",
        "      <th>13  </th>\n",
        "      <td>               poltavsk</td>\n",
        "      <td>  khar'kovsk</td>\n",
        "    </tr>\n",
        "    <tr>\n",
        "      <th>14  </th>\n",
        "      <td>                  kursk</td>\n",
        "      <td>  khar'kovsk</td>\n",
        "    </tr>\n",
        "    <tr>\n",
        "      <th>15  </th>\n",
        "      <td>             orenburgsk</td>\n",
        "      <td>  voronezhsk</td>\n",
        "    </tr>\n",
        "    <tr>\n",
        "      <th>16  </th>\n",
        "      <td>             orenburgsk</td>\n",
        "      <td>  voronezhsk</td>\n",
        "    </tr>\n",
        "    <tr>\n",
        "      <th>17  </th>\n",
        "      <td>        ekaterinoslavsk</td>\n",
        "      <td>  voronezhsk</td>\n",
        "    </tr>\n",
        "    <tr>\n",
        "      <th>18  </th>\n",
        "      <td>        ekaterinoslavsk</td>\n",
        "      <td>  voronezhsk</td>\n",
        "    </tr>\n",
        "    <tr>\n",
        "      <th>19  </th>\n",
        "      <td>             khar'kovsk</td>\n",
        "      <td>  voronezhsk</td>\n",
        "    </tr>\n",
        "    <tr>\n",
        "      <th>20  </th>\n",
        "      <td>                irkutsk</td>\n",
        "      <td>  voronezhsk</td>\n",
        "    </tr>\n",
        "    <tr>\n",
        "      <th>21  </th>\n",
        "      <td>              saratovsk</td>\n",
        "      <td>  voronezhsk</td>\n",
        "    </tr>\n",
        "    <tr>\n",
        "      <th>22  </th>\n",
        "      <td>          don cossack h</td>\n",
        "      <td>  voronezhsk</td>\n",
        "    </tr>\n",
        "    <tr>\n",
        "      <th>23  </th>\n",
        "      <td>             voronezhsk</td>\n",
        "      <td>  voronezhsk</td>\n",
        "    </tr>\n",
        "    <tr>\n",
        "      <th>24  </th>\n",
        "      <td>             orenburgsk</td>\n",
        "      <td>    penzensk</td>\n",
        "    </tr>\n",
        "    <tr>\n",
        "      <th>25  </th>\n",
        "      <td>               penzensk</td>\n",
        "      <td>    penzensk</td>\n",
        "    </tr>\n",
        "    <tr>\n",
        "      <th>26  </th>\n",
        "      <td>             orenburgsk</td>\n",
        "      <td>      ufimsk</td>\n",
        "    </tr>\n",
        "    <tr>\n",
        "      <th>27  </th>\n",
        "      <td>                 permsk</td>\n",
        "      <td>      permsk</td>\n",
        "    </tr>\n",
        "    <tr>\n",
        "      <th>28  </th>\n",
        "      <td>                 permsk</td>\n",
        "      <td>      permsk</td>\n",
        "    </tr>\n",
        "    <tr>\n",
        "      <th>29  </th>\n",
        "      <td>                 permsk</td>\n",
        "      <td>     orlovsk</td>\n",
        "    </tr>\n",
        "    <tr>\n",
        "      <th>...</th>\n",
        "      <td>...</td>\n",
        "      <td>...</td>\n",
        "    </tr>\n",
        "    <tr>\n",
        "      <th>976 </th>\n",
        "      <td>             voronezhsk</td>\n",
        "      <td>  voronezhsk</td>\n",
        "    </tr>\n",
        "    <tr>\n",
        "      <th>977 </th>\n",
        "      <td>             voronezhsk</td>\n",
        "      <td>  voronezhsk</td>\n",
        "    </tr>\n",
        "    <tr>\n",
        "      <th>978 </th>\n",
        "      <td>             voronezhsk</td>\n",
        "      <td>    tambovsk</td>\n",
        "    </tr>\n",
        "    <tr>\n",
        "      <th>979 </th>\n",
        "      <td>             voronezhsk</td>\n",
        "      <td>  voronezhsk</td>\n",
        "    </tr>\n",
        "    <tr>\n",
        "      <th>980 </th>\n",
        "      <td>             voronezhsk</td>\n",
        "      <td>  voronezhsk</td>\n",
        "    </tr>\n",
        "    <tr>\n",
        "      <th>981 </th>\n",
        "      <td>                pskovsk</td>\n",
        "      <td>     pskovsk</td>\n",
        "    </tr>\n",
        "    <tr>\n",
        "      <th>982 </th>\n",
        "      <td>                pskovsk</td>\n",
        "      <td>     pskovsk</td>\n",
        "    </tr>\n",
        "    <tr>\n",
        "      <th>983 </th>\n",
        "      <td>                pskovsk</td>\n",
        "      <td>     pskovsk</td>\n",
        "    </tr>\n",
        "    <tr>\n",
        "      <th>984 </th>\n",
        "      <td>                pskovsk</td>\n",
        "      <td>    tambovsk</td>\n",
        "    </tr>\n",
        "    <tr>\n",
        "      <th>985 </th>\n",
        "      <td>                vitebsk</td>\n",
        "      <td>    moskovsk</td>\n",
        "    </tr>\n",
        "    <tr>\n",
        "      <th>986 </th>\n",
        "      <td>                vitebsk</td>\n",
        "      <td> not_in_text</td>\n",
        "    </tr>\n",
        "    <tr>\n",
        "      <th>987 </th>\n",
        "      <td>                vitebsk</td>\n",
        "      <td>   vologodsk</td>\n",
        "    </tr>\n",
        "    <tr>\n",
        "      <th>988 </th>\n",
        "      <td>                vitebsk</td>\n",
        "      <td>     polotsk</td>\n",
        "    </tr>\n",
        "    <tr>\n",
        "      <th>989 </th>\n",
        "      <td>                vitebsk</td>\n",
        "      <td>     polotsk</td>\n",
        "    </tr>\n",
        "    <tr>\n",
        "      <th>990 </th>\n",
        "      <td>                vitebsk</td>\n",
        "      <td>     polotsk</td>\n",
        "    </tr>\n",
        "    <tr>\n",
        "      <th>991 </th>\n",
        "      <td>                vitebsk</td>\n",
        "      <td>     polotsk</td>\n",
        "    </tr>\n",
        "    <tr>\n",
        "      <th>992 </th>\n",
        "      <td>                vitebsk</td>\n",
        "      <td>     polotsk</td>\n",
        "    </tr>\n",
        "    <tr>\n",
        "      <th>993 </th>\n",
        "      <td>                vitebsk</td>\n",
        "      <td>     polotsk</td>\n",
        "    </tr>\n",
        "    <tr>\n",
        "      <th>994 </th>\n",
        "      <td>                vitebsk</td>\n",
        "      <td>     polotsk</td>\n",
        "    </tr>\n",
        "    <tr>\n",
        "      <th>995 </th>\n",
        "      <td>                vitebsk</td>\n",
        "      <td>     polotsk</td>\n",
        "    </tr>\n",
        "    <tr>\n",
        "      <th>996 </th>\n",
        "      <td>                vitebsk</td>\n",
        "      <td>     polotsk</td>\n",
        "    </tr>\n",
        "    <tr>\n",
        "      <th>997 </th>\n",
        "      <td>                iakutsk</td>\n",
        "      <td>     irkutsk</td>\n",
        "    </tr>\n",
        "    <tr>\n",
        "      <th>998 </th>\n",
        "      <td>                iakutsk</td>\n",
        "      <td>     irkutsk</td>\n",
        "    </tr>\n",
        "    <tr>\n",
        "      <th>999 </th>\n",
        "      <td>                iakutsk</td>\n",
        "      <td>     irkutsk</td>\n",
        "    </tr>\n",
        "    <tr>\n",
        "      <th>1000</th>\n",
        "      <td>               eniseisk</td>\n",
        "      <td>    tobol'sk</td>\n",
        "    </tr>\n",
        "    <tr>\n",
        "      <th>1001</th>\n",
        "      <td>               tobol'sk</td>\n",
        "      <td>    tobol'sk</td>\n",
        "    </tr>\n",
        "    <tr>\n",
        "      <th>1002</th>\n",
        "      <td>               tobol'sk</td>\n",
        "      <td>    tobol'sk</td>\n",
        "    </tr>\n",
        "    <tr>\n",
        "      <th>1003</th>\n",
        "      <td>               tobol'sk</td>\n",
        "      <td>      ufimsk</td>\n",
        "    </tr>\n",
        "    <tr>\n",
        "      <th>1004</th>\n",
        "      <td>               tobol'sk</td>\n",
        "      <td>    tobol'sk</td>\n",
        "    </tr>\n",
        "    <tr>\n",
        "      <th>1005</th>\n",
        "      <td> grand duchy of finland</td>\n",
        "      <td>      vyborg</td>\n",
        "    </tr>\n",
        "  </tbody>\n",
        "</table>\n",
        "<p>1006 rows \u00d7 2 columns</p>\n",
        "</div>"
       ],
       "metadata": {},
       "output_type": "pyout",
       "prompt_number": 18,
       "text": [
        "            settle_prov_stem translit_prov_stem\n",
        "0                 orenburgsk           kavkazsk\n",
        "1                 orenburgsk         voronezhsk\n",
        "2                     viatsk         voronezhsk\n",
        "3                 orenburgsk             ufimsk\n",
        "4                 orenburgsk           tambovsk\n",
        "5               arkhangel'sk           tambovsk\n",
        "6                   tobol'sk           tambovsk\n",
        "7                 orenburgsk         khar'kovsk\n",
        "8            ekaterinoslavsk         khar'kovsk\n",
        "9            ekaterinoslavsk         khar'kovsk\n",
        "10           ekaterinoslavsk         khar'kovsk\n",
        "11                khar'kovsk         khar'kovsk\n",
        "12               chernigovsk         khar'kovsk\n",
        "13                  poltavsk         khar'kovsk\n",
        "14                     kursk         khar'kovsk\n",
        "15                orenburgsk         voronezhsk\n",
        "16                orenburgsk         voronezhsk\n",
        "17           ekaterinoslavsk         voronezhsk\n",
        "18           ekaterinoslavsk         voronezhsk\n",
        "19                khar'kovsk         voronezhsk\n",
        "20                   irkutsk         voronezhsk\n",
        "21                 saratovsk         voronezhsk\n",
        "22             don cossack h         voronezhsk\n",
        "23                voronezhsk         voronezhsk\n",
        "24                orenburgsk           penzensk\n",
        "25                  penzensk           penzensk\n",
        "26                orenburgsk             ufimsk\n",
        "27                    permsk             permsk\n",
        "28                    permsk             permsk\n",
        "29                    permsk            orlovsk\n",
        "...                      ...                ...\n",
        "976               voronezhsk         voronezhsk\n",
        "977               voronezhsk         voronezhsk\n",
        "978               voronezhsk           tambovsk\n",
        "979               voronezhsk         voronezhsk\n",
        "980               voronezhsk         voronezhsk\n",
        "981                  pskovsk            pskovsk\n",
        "982                  pskovsk            pskovsk\n",
        "983                  pskovsk            pskovsk\n",
        "984                  pskovsk           tambovsk\n",
        "985                  vitebsk           moskovsk\n",
        "986                  vitebsk        not_in_text\n",
        "987                  vitebsk          vologodsk\n",
        "988                  vitebsk            polotsk\n",
        "989                  vitebsk            polotsk\n",
        "990                  vitebsk            polotsk\n",
        "991                  vitebsk            polotsk\n",
        "992                  vitebsk            polotsk\n",
        "993                  vitebsk            polotsk\n",
        "994                  vitebsk            polotsk\n",
        "995                  vitebsk            polotsk\n",
        "996                  vitebsk            polotsk\n",
        "997                  iakutsk            irkutsk\n",
        "998                  iakutsk            irkutsk\n",
        "999                  iakutsk            irkutsk\n",
        "1000                eniseisk           tobol'sk\n",
        "1001                tobol'sk           tobol'sk\n",
        "1002                tobol'sk           tobol'sk\n",
        "1003                tobol'sk             ufimsk\n",
        "1004                tobol'sk           tobol'sk\n",
        "1005  grand duchy of finland             vyborg\n",
        "\n",
        "[1006 rows x 2 columns]"
       ]
      }
     ],
     "prompt_number": 18
    },
    {
     "cell_type": "code",
     "collapsed": false,
     "input": [
      "matches = merged.ix[merged.settle_prov_stem == merged.translit_prov_stem]\n",
      "matches.to_csv('all_settle_matches.csv',encoding='utf-8')"
     ],
     "language": "python",
     "metadata": {},
     "outputs": [],
     "prompt_number": 19
    },
    {
     "cell_type": "code",
     "collapsed": false,
     "input": [
      "matches[['Placename','Prov_name','Uz_name','lc_translit','ru_prov','ru_uezd']].head()"
     ],
     "language": "python",
     "metadata": {},
     "outputs": [
      {
       "html": [
        "<div style=\"max-height:1000px;max-width:1500px;overflow:auto;\">\n",
        "<table border=\"1\" class=\"dataframe\">\n",
        "  <thead>\n",
        "    <tr style=\"text-align: right;\">\n",
        "      <th></th>\n",
        "      <th>Placename</th>\n",
        "      <th>Prov_name</th>\n",
        "      <th>Uz_name</th>\n",
        "      <th>lc_translit</th>\n",
        "      <th>ru_prov</th>\n",
        "      <th>ru_uezd</th>\n",
        "    </tr>\n",
        "  </thead>\n",
        "  <tbody>\n",
        "    <tr>\n",
        "      <th>11</th>\n",
        "      <td>  Andreevka</td>\n",
        "      <td> Khar'kovskaia</td>\n",
        "      <td>      Zmiev (or Chuguev?)</td>\n",
        "      <td>  Andreevka</td>\n",
        "      <td> \u0425\u0430\u0440\u044c\u043a\u043e\u0432\u0441\u043a\u0430\u0433\u043e \u041d\u0430\u043c\u0463\u0441\u0442\u043d\u0438\u0447\u0435\u0441\u0442\u0432\u0430</td>\n",
        "      <td> \u0418\u0437\u044e\u043c\u0441\u043a\u043e\u043c\u044a \u0443\u0463\u0437\u0434\u0463</td>\n",
        "    </tr>\n",
        "    <tr>\n",
        "      <th>23</th>\n",
        "      <td> Alekseevka</td>\n",
        "      <td> Voronezhskaia</td>\n",
        "      <td>              Starobel'sk</td>\n",
        "      <td> Alekseevka</td>\n",
        "      <td> \u0412\u043e\u0440\u043e\u043d\u0435\u0436\u0441\u043a\u043e\u043c\u044a \u041d\u0430\u043c\u0463\u0441\u0442\u043d\u0438\u0447\u0435\u0441\u0442\u0432\u0430</td>\n",
        "      <td>     not_in_text</td>\n",
        "    </tr>\n",
        "    <tr>\n",
        "      <th>25</th>\n",
        "      <td>    Troitsk</td>\n",
        "      <td>   Penzenskaia</td>\n",
        "      <td> Krasnoslobodsk (Troitsk)</td>\n",
        "      <td>    Troitsk</td>\n",
        "      <td>  \u041f\u0435\u043d\u0437\u0435\u043d\u0441\u043a\u0430\u0433\u043e \u041d\u0430\u043c\u0463\u0441\u0442\u043d\u0438\u0447\u0435\u0441\u0442\u0432\u0430</td>\n",
        "      <td>     not_in_text</td>\n",
        "    </tr>\n",
        "    <tr>\n",
        "      <th>27</th>\n",
        "      <td>  Shadrinsk</td>\n",
        "      <td>     Permskaia</td>\n",
        "      <td>                Shadrinsk</td>\n",
        "      <td>  Shadrinsk</td>\n",
        "      <td>    \u041f\u0435\u0440\u043c\u0441\u043a\u0430\u0433\u043e \u041d\u0430\u043c\u0463\u0441\u0442\u043d\u0438\u0447\u0435\u0441\u0442\u0432\u0430</td>\n",
        "      <td>     not_in_text</td>\n",
        "    </tr>\n",
        "    <tr>\n",
        "      <th>28</th>\n",
        "      <td>      Irbit</td>\n",
        "      <td>     Permskaia</td>\n",
        "      <td>                    Irbit</td>\n",
        "      <td>      Irbit</td>\n",
        "      <td>    \u041f\u0435\u0440\u043c\u0441\u043a\u0430\u0433\u043e \u041d\u0430\u043c\u0463\u0441\u0442\u043d\u0438\u0447\u0435\u0441\u0442\u0432\u0430</td>\n",
        "      <td>     not_in_text</td>\n",
        "    </tr>\n",
        "  </tbody>\n",
        "</table>\n",
        "</div>"
       ],
       "metadata": {},
       "output_type": "pyout",
       "prompt_number": 43,
       "text": [
        "     Placename      Prov_name                   Uz_name lc_translit  \\\n",
        "11   Andreevka  Khar'kovskaia       Zmiev (or Chuguev?)   Andreevka   \n",
        "23  Alekseevka  Voronezhskaia               Starobel'sk  Alekseevka   \n",
        "25     Troitsk    Penzenskaia  Krasnoslobodsk (Troitsk)     Troitsk   \n",
        "27   Shadrinsk      Permskaia                 Shadrinsk   Shadrinsk   \n",
        "28       Irbit      Permskaia                     Irbit       Irbit   \n",
        "\n",
        "                        ru_prov          ru_uezd  \n",
        "11  \u0425\u0430\u0440\u044c\u043a\u043e\u0432\u0441\u043a\u0430\u0433\u043e \u041d\u0430\u043c\u0463\u0441\u0442\u043d\u0438\u0447\u0435\u0441\u0442\u0432\u0430  \u0418\u0437\u044e\u043c\u0441\u043a\u043e\u043c\u044a \u0443\u0463\u0437\u0434\u0463  \n",
        "23  \u0412\u043e\u0440\u043e\u043d\u0435\u0436\u0441\u043a\u043e\u043c\u044a \u041d\u0430\u043c\u0463\u0441\u0442\u043d\u0438\u0447\u0435\u0441\u0442\u0432\u0430      not_in_text  \n",
        "25   \u041f\u0435\u043d\u0437\u0435\u043d\u0441\u043a\u0430\u0433\u043e \u041d\u0430\u043c\u0463\u0441\u0442\u043d\u0438\u0447\u0435\u0441\u0442\u0432\u0430      not_in_text  \n",
        "27     \u041f\u0435\u0440\u043c\u0441\u043a\u0430\u0433\u043e \u041d\u0430\u043c\u0463\u0441\u0442\u043d\u0438\u0447\u0435\u0441\u0442\u0432\u0430      not_in_text  \n",
        "28     \u041f\u0435\u0440\u043c\u0441\u043a\u0430\u0433\u043e \u041d\u0430\u043c\u0463\u0441\u0442\u043d\u0438\u0447\u0435\u0441\u0442\u0432\u0430      not_in_text  "
       ]
      }
     ],
     "prompt_number": 43
    },
    {
     "cell_type": "code",
     "collapsed": false,
     "input": [
      "matches[['name','alt_name','partof_id','XCOORD','YCOORD','_type','source_url','text']]"
     ],
     "language": "python",
     "metadata": {},
     "outputs": [
      {
       "html": [
        "<div style=\"max-height:1000px;max-width:1500px;overflow:auto;\">\n",
        "<table border=\"1\" class=\"dataframe\">\n",
        "  <thead>\n",
        "    <tr style=\"text-align: right;\">\n",
        "      <th></th>\n",
        "      <th>name</th>\n",
        "      <th>alt_name</th>\n",
        "      <th>partof_id</th>\n",
        "      <th>XCOORD</th>\n",
        "      <th>YCOORD</th>\n",
        "      <th>_type</th>\n",
        "      <th>source_url</th>\n",
        "      <th>text</th>\n",
        "    </tr>\n",
        "  </thead>\n",
        "  <tbody>\n",
        "    <tr>\n",
        "      <th>11  </th>\n",
        "      <td>     \u0410\u043d\u0434\u0440\u0435\u0435\u0432\u043a\u0430</td>\n",
        "      <td>    NaN</td>\n",
        "      <td>  69</td>\n",
        "      <td> 36.672298</td>\n",
        "      <td> 49.525859</td>\n",
        "      <td>        \u0441\u043b\u043e\u0431\u043e\u0434\u0430</td>\n",
        "      <td> http://babel.hathitrust.org/cgi/pt?id=uc1.b458...</td>\n",
        "      <td> \u0410\u041d\u0414\u0420\u0415\u0415\u0412\u041a\u0410, \u0441\u043b\u043e\u0431\u043e\u0434\u0430 \u0425\u0430\u0440\u044c\u043a\u043e\u0432\u0441\u043a\u0430\u0433\u043e \u041d\u0430\u043c\u0463\u0441\u0442\u043d\u0438\u0447\u0435\u0441\u0442\u0432\u0430...</td>\n",
        "    </tr>\n",
        "    <tr>\n",
        "      <th>23  </th>\n",
        "      <td>    \u0410\u043b\u0435\u043a\u0441\u0463\u0435\u0432\u043a\u0430</td>\n",
        "      <td>    NaN</td>\n",
        "      <td>   5</td>\n",
        "      <td> 39.045304</td>\n",
        "      <td> 49.015631</td>\n",
        "      <td>        \u0441\u043b\u043e\u0431\u043e\u0434\u0430</td>\n",
        "      <td> http://babel.hathitrust.org/cgi/pt?id=uc1.b458...</td>\n",
        "      <td> \u0410\u041b\u0415\u041a\u0421\u0462\u0415\u0412\u041a\u0410, \u0441\u043b\u043e\u0431\u043e\u0434\u0430 \u0413\u0440\u0430\u0444\u0430 \u0428\u0435\u0440\u0435\u043c\u0435\u0442\u0435\u0432\u0430, \u0432\u044a \u0412\u043e\u0440\u043e\u043d...</td>\n",
        "    </tr>\n",
        "    <tr>\n",
        "      <th>25  </th>\n",
        "      <td>       \u0422\u0440\u043e\u0438\u0446\u043a\u044a</td>\n",
        "      <td>    NaN</td>\n",
        "      <td>  22</td>\n",
        "      <td> 43.677981</td>\n",
        "      <td> 54.190731</td>\n",
        "      <td>           \u0440\u043e\u0434\u044a</td>\n",
        "      <td> http://babel.hathitrust.org/cgi/pt?id=uc1.b458...</td>\n",
        "      <td> \u0422\u0420\u041e\u0418\u0426\u041a\u042a, \u0441\u044a 1780 \u0433\u043e\u0434\u0443 \u0440\u043e\u0434\u044a \u041f\u0435\u043d\u0437\u0435\u043d\u0441\u043a\u0430\u0433\u043e \u041d\u0430\u043c\u0463\u0441\u0442\u043d...</td>\n",
        "    </tr>\n",
        "    <tr>\n",
        "      <th>27  </th>\n",
        "      <td>     \u0428\u0430\u0434\u0440\u0438\u043d\u0441\u043a\u044a</td>\n",
        "      <td>    NaN</td>\n",
        "      <td>  23</td>\n",
        "      <td> 63.593559</td>\n",
        "      <td> 55.973286</td>\n",
        "      <td>         \u0433\u043e\u0440\u043e\u0434\u044a</td>\n",
        "      <td> http://babel.hathitrust.org/cgi/pt?id=uc1.b458...</td>\n",
        "      <td> \u0428\u0410\u0414\u0420\u0418\u041d\u0421\u041a\u042a, \u0441\u044a 1781 \u0433\u043e\u0434\u0443 \u0433\u043e\u0440\u043e\u0434\u044a \u041f\u0435\u0440\u043c\u0441\u043a\u0430\u0433\u043e \u041d\u0430\u043c\u0463\u0441...</td>\n",
        "    </tr>\n",
        "    <tr>\n",
        "      <th>28  </th>\n",
        "      <td>        \u0418\u0440\u0431\u0438\u0442\u044a</td>\n",
        "      <td>    NaN</td>\n",
        "      <td>  23</td>\n",
        "      <td> 63.203104</td>\n",
        "      <td> 57.528819</td>\n",
        "      <td>         \u0433\u043e\u0440\u043e\u0434\u044a</td>\n",
        "      <td> http://babel.hathitrust.org/cgi/pt?id=uc1.b458...</td>\n",
        "      <td> \u0418\u0420\u0411\u0418\u0422\u042a, \u0433\u043e\u0440\u043e\u0434\u044a \u041f\u0435\u0440\u043c\u0441\u043a\u0430\u0433\u043e \u041d\u0430\u043c\u0463\u0441\u0442\u043d\u0438\u0447\u0435\u0441\u0442\u0432\u0430. \u0417\u0434\u0463\u0441\u044c...</td>\n",
        "    </tr>\n",
        "    <tr>\n",
        "      <th>56  </th>\n",
        "      <td>    \u041f\u043e\u043a\u0440\u043e\u0432\u0441\u043a\u043e\u0435</td>\n",
        "      <td>    NaN</td>\n",
        "      <td> 115</td>\n",
        "      <td> 37.387057</td>\n",
        "      <td> 55.750661</td>\n",
        "      <td>           \u0441\u0435\u043b\u043e</td>\n",
        "      <td> http://babel.hathitrust.org/cgi/pt?id=uc1.b458...</td>\n",
        "      <td> \u041f\u041e\u041a\u0420\u041e\u0412\u0421\u041a\u041e\u0415, \u0441\u0435\u043b\u043e \u041c\u043e\u0441\u043a\u043e\u0432\u0441\u043a\u043e\u0439 \u0413\u0443\u0431\u0435\u0440\u043d\u0456\u0438 \u0432\u044a \u0443\u0463\u0437\u0434\u0463 ...</td>\n",
        "    </tr>\n",
        "    <tr>\n",
        "      <th>60  </th>\n",
        "      <td>    \u041f\u043e\u043a\u0440\u043e\u0432\u0441\u043a\u043e\u0435</td>\n",
        "      <td>    NaN</td>\n",
        "      <td> 115</td>\n",
        "      <td> 38.014248</td>\n",
        "      <td> 55.622179</td>\n",
        "      <td>           \u0441\u0435\u043b\u043e</td>\n",
        "      <td> http://babel.hathitrust.org/cgi/pt?id=uc1.b458...</td>\n",
        "      <td> \u041f\u041e\u041a\u0420\u041e\u0412\u0421\u041a\u041e\u0415, \u0441\u0435\u043b\u043e \u041c\u043e\u0441\u043a\u043e\u0432\u0441\u043a\u043e\u0439 \u0413\u0443\u0431\u0435\u0440\u043d\u0456\u0438 \u0432\u044a \u0443\u0463\u0437\u0434\u0463 ...</td>\n",
        "    </tr>\n",
        "    <tr>\n",
        "      <th>64  </th>\n",
        "      <td>    \u041f\u043e\u043a\u0440\u043e\u0432\u0441\u043a\u043e\u0435</td>\n",
        "      <td>    NaN</td>\n",
        "      <td> 115</td>\n",
        "      <td> 37.042598</td>\n",
        "      <td> 56.408362</td>\n",
        "      <td>           \u0441\u0435\u043b\u043e</td>\n",
        "      <td> http://babel.hathitrust.org/cgi/pt?id=uc1.b458...</td>\n",
        "      <td> \u041f\u041e\u041a\u0420\u041e\u0412\u0421\u041a\u041e\u0415, \u0441\u0435\u043b\u043e \u041c\u043e\u0441\u043a\u043e\u0432\u0441\u043a\u043e\u0439 \u0413\u0443\u0431\u0435\u0440\u043d\u0456\u0438 \u0432\u044a \u0443\u0463\u0437\u0434\u0463 ...</td>\n",
        "    </tr>\n",
        "    <tr>\n",
        "      <th>97  </th>\n",
        "      <td>    \u041f\u043e\u043a\u0440\u043e\u0432\u0441\u043a\u043e\u0435</td>\n",
        "      <td> \u041b\u044e\u0431\u043e\u0448\u0430</td>\n",
        "      <td>  87</td>\n",
        "      <td> 38.978965</td>\n",
        "      <td> 52.789522</td>\n",
        "      <td>           \u0441\u0435\u043b\u043e</td>\n",
        "      <td> http://babel.hathitrust.org/cgi/pt?id=uc1.b458...</td>\n",
        "      <td> \u041f\u041e\u041a\u0420\u041e\u0412\u0421\u041a\u041e\u0415 , \u041b\u042e\u0411\u041e\u0428\u0410 \u0442\u043e\u0436\u044c, \u0441\u0435\u043b\u043e \u041e\u0440\u043b\u043e\u0432\u0441\u043a\u0430\u0433\u043e \u041d\u0430\u043c\u0463...</td>\n",
        "    </tr>\n",
        "    <tr>\n",
        "      <th>148 </th>\n",
        "      <td>      \u0422\u0440\u043e\u0438\u0446\u043a\u043e\u0435</td>\n",
        "      <td>    NaN</td>\n",
        "      <td>  67</td>\n",
        "      <td>  37.37474</td>\n",
        "      <td> 55.421126</td>\n",
        "      <td>           \u0441\u0435\u043b\u043e</td>\n",
        "      <td> http://babel.hathitrust.org/cgi/pt?id=uc1.b458...</td>\n",
        "      <td> \u0422\u0420\u041e\u0418\u0426\u041a\u041e\u0415, \u0441\u0435\u043b\u043e \u041c\u043e\u0441\u043a\u043e\u0432\u0441\u043a\u043e\u0439 \u0413\u0443\u0431\u0435\u0440\u043d\u0456\u0438 \u0432\u044a \u0417\u0432\u0435\u043d\u0438\u0433\u043e\u0440...</td>\n",
        "    </tr>\n",
        "    <tr>\n",
        "      <th>149 </th>\n",
        "      <td>      \u0422\u0440\u043e\u0438\u0446\u043a\u043e\u0435</td>\n",
        "      <td>    NaN</td>\n",
        "      <td>  67</td>\n",
        "      <td> 36.924095</td>\n",
        "      <td> 55.666928</td>\n",
        "      <td>           \u0441\u0435\u043b\u043e</td>\n",
        "      <td> http://babel.hathitrust.org/cgi/pt?id=uc1.b458...</td>\n",
        "      <td> \u0422\u0420\u041e\u0418\u0426\u041a\u041e\u0415, \u0441\u0435\u043b\u043e \u041c\u043e\u0441\u043a\u043e\u0432\u0441\u043a\u043e\u0439 \u0413\u0443\u0431\u0435\u0440\u043d\u0456\u0438 \u0432\u044a \u0417\u0432\u0435\u043d\u0438\u0433\u043e\u0440...</td>\n",
        "    </tr>\n",
        "    <tr>\n",
        "      <th>150 </th>\n",
        "      <td>      \u0422\u0440\u043e\u0438\u0446\u043a\u043e\u0435</td>\n",
        "      <td>    NaN</td>\n",
        "      <td>  67</td>\n",
        "      <td> 36.917441</td>\n",
        "      <td> 56.012155</td>\n",
        "      <td>           \u0441\u0435\u043b\u043e</td>\n",
        "      <td> http://babel.hathitrust.org/cgi/pt?id=uc1.b458...</td>\n",
        "      <td> \u0422\u0420\u041e\u0418\u0426\u041a\u041e\u0415, \u0441\u0435\u043b\u043e \u041c\u043e\u0441\u043a\u043e\u0432\u0441\u043a\u043e\u0439 \u0413\u0443\u0431\u0435\u0440\u043d\u0456\u0438 \u0432\u044a \u0417\u0432\u0435\u043d\u0438\u0433\u043e\u0440...</td>\n",
        "    </tr>\n",
        "    <tr>\n",
        "      <th>151 </th>\n",
        "      <td>      \u0422\u0440\u043e\u0438\u0446\u043a\u043e\u0435</td>\n",
        "      <td>    NaN</td>\n",
        "      <td>  67</td>\n",
        "      <td> 36.733209</td>\n",
        "      <td> 56.226838</td>\n",
        "      <td>           \u0441\u0435\u043b\u043e</td>\n",
        "      <td> http://babel.hathitrust.org/cgi/pt?id=uc1.b458...</td>\n",
        "      <td> \u0422\u0420\u041e\u0418\u0426\u041a\u041e\u0415, \u0441\u0435\u043b\u043e \u041c\u043e\u0441\u043a\u043e\u0432\u0441\u043a\u043e\u0439 \u0413\u0443\u0431\u0435\u0440\u043d\u0456\u0438 \u0432\u044a \u0417\u0432\u0435\u043d\u0438\u0433\u043e\u0440...</td>\n",
        "    </tr>\n",
        "    <tr>\n",
        "      <th>181 </th>\n",
        "      <td>     \u0418\u043b\u044c\u0438\u043d\u0441\u043a\u043e\u0435</td>\n",
        "      <td>    NaN</td>\n",
        "      <td>  73</td>\n",
        "      <td> 37.450647</td>\n",
        "      <td> 53.769685</td>\n",
        "      <td>           \u0441\u0435\u043b\u043e</td>\n",
        "      <td> http://babel.hathitrust.org/cgi/pt?id=uc1.b458...</td>\n",
        "      <td> \u0418\u041b\u042c\u0418\u041d\u0421\u041a\u041e\u0415, \u0441\u0435\u043b\u043e \u0422\u0443\u043b\u044c\u0441\u043a\u0430\u0433\u043e \u041d\u0430\u043c\u0463\u0441\u0442\u043d\u0438\u0447\u0435\u0441\u0442\u0432\u0430 \u0432\u044a \u041a\u0430...</td>\n",
        "    </tr>\n",
        "    <tr>\n",
        "      <th>203 </th>\n",
        "      <td> \u0420\u043e\u0436\u0435\u0441\u0442\u0432\u0435\u043d\u0441\u043a\u043e\u0435</td>\n",
        "      <td>    NaN</td>\n",
        "      <td> 276</td>\n",
        "      <td> 36.975171</td>\n",
        "      <td> 53.668498</td>\n",
        "      <td>           \u0441\u0435\u043b\u043e</td>\n",
        "      <td> http://babel.hathitrust.org/cgi/pt?id=uc1.b458...</td>\n",
        "      <td> \u0420\u041e\u0416\u0415\u0421\u0422\u0412\u0415\u041d\u0421\u041a\u041e\u0415, \u0441\u0435\u043b\u043e \u0422\u0443\u043b\u044c\u0441\u043a\u0430\u0433\u043e \u041d\u0430\u043c\u0463\u0441\u0442\u043d\u0438\u0447\u0435\u0441\u0442\u0432\u0430 \u0432...</td>\n",
        "    </tr>\n",
        "    <tr>\n",
        "      <th>226 </th>\n",
        "      <td>    \u0418\u0432\u0430\u043d\u043e\u0432\u0441\u043a\u043e\u0435</td>\n",
        "      <td>    NaN</td>\n",
        "      <td>  67</td>\n",
        "      <td> 37.049042</td>\n",
        "      <td> 55.785073</td>\n",
        "      <td>           \u0441\u0435\u043b\u043e</td>\n",
        "      <td> http://babel.hathitrust.org/cgi/pt?id=uc1.b458...</td>\n",
        "      <td> \u0418\u0412\u0410\u041d\u041e\u0412\u0421\u041a\u041e\u0415, \u0441\u0435\u043b\u043e \u041c\u043e\u0441\u043a\u043e\u0432\u0441\u043a\u043e\u0439 \u0413\u0443\u0431\u0435\u0440\u043d\u0456\u0438 \u0432\u044a \u0417\u0432\u0435\u043d\u0438\u0433...</td>\n",
        "    </tr>\n",
        "    <tr>\n",
        "      <th>229 </th>\n",
        "      <td>    \u0418\u0432\u0430\u043d\u043e\u0432\u0441\u043a\u043e\u0435</td>\n",
        "      <td>    NaN</td>\n",
        "      <td>  67</td>\n",
        "      <td> 35.451096</td>\n",
        "      <td> 56.204261</td>\n",
        "      <td>           \u0441\u0435\u043b\u043e</td>\n",
        "      <td> http://babel.hathitrust.org/cgi/pt?id=uc1.b458...</td>\n",
        "      <td> \u0418\u0412\u0410\u041d\u041e\u0412\u0421\u041a\u041e\u0415, \u0441\u0435\u043b\u043e \u041c\u043e\u0441\u043a\u043e\u0432\u0441\u043a\u043e\u0439 \u0413\u0443\u0431\u0435\u0440\u043d\u0456\u0438 \u0432\u044a \u0417\u0432\u0435\u043d\u0438\u0433...</td>\n",
        "    </tr>\n",
        "    <tr>\n",
        "      <th>307 </th>\n",
        "      <td>      \u0413\u043e\u0440\u043e\u0434\u0438\u0449\u0435</td>\n",
        "      <td>    NaN</td>\n",
        "      <td>  88</td>\n",
        "      <td>  31.46346</td>\n",
        "      <td> 49.318178</td>\n",
        "      <td>       \u043c\u0463\u0441\u0442\u0435\u0447\u043a\u043e</td>\n",
        "      <td> http://babel.hathitrust.org/cgi/pt?id=uc1.b458...</td>\n",
        "      <td> \u0413\u041e\u0420\u041e\u0414\u0418\u0429\u0415 , \u043c\u0463\u0441\u0442\u0435\u0447\u043a\u043e \u041a\u0456\u0435\u0432\u0441\u043a\u0430\u0433\u043e \u041d\u0430\u043c\u0463\u0441\u0442\u043d\u0438\u0447\u0435\u0441\u0442\u0432\u0430 \u0432...</td>\n",
        "    </tr>\n",
        "    <tr>\n",
        "      <th>308 </th>\n",
        "      <td>      \u0413\u043e\u0440\u043e\u0434\u0438\u0449\u0435</td>\n",
        "      <td>    NaN</td>\n",
        "      <td>  91</td>\n",
        "      <td>  31.46346</td>\n",
        "      <td> 49.318178</td>\n",
        "      <td>       \u043c\u0463\u0441\u0442\u0435\u0447\u043a\u043e</td>\n",
        "      <td> http://babel.hathitrust.org/cgi/pt?id=uc1.b458...</td>\n",
        "      <td> \u0413\u041e\u0420\u041e\u0414\u0418\u0429\u0415, \u043c\u0463\u0441\u0442\u0435\u0447\u043a\u043e \u0442\u043e\u0433\u043e \u0436\u0435 \u041d\u0430\u043c\u0463\u0441\u0442\u043d\u0438\u0447\u0435\u0441\u0442\u0432\u0430 \u0432\u044a \u041c...</td>\n",
        "    </tr>\n",
        "    <tr>\n",
        "      <th>309 </th>\n",
        "      <td>      \u0413\u043e\u0440\u043e\u0434\u0438\u0449\u0435</td>\n",
        "      <td>    NaN</td>\n",
        "      <td>  88</td>\n",
        "      <td>  29.15317</td>\n",
        "      <td> 49.991301</td>\n",
        "      <td>       \u043c\u0463\u0441\u0442\u0435\u0447\u043a\u043e</td>\n",
        "      <td> http://babel.hathitrust.org/cgi/pt?id=uc1.b458...</td>\n",
        "      <td> \u0413\u041e\u0420\u041e\u0414\u0418\u0429\u0415 , \u043c\u0463\u0441\u0442\u0435\u0447\u043a\u043e \u041a\u0456\u0435\u0432\u0441\u043a\u0430\u0433\u043e \u041d\u0430\u043c\u0463\u0441\u0442\u043d\u0438\u0447\u0435\u0441\u0442\u0432\u0430 \u0432...</td>\n",
        "    </tr>\n",
        "    <tr>\n",
        "      <th>310 </th>\n",
        "      <td>      \u0413\u043e\u0440\u043e\u0434\u0438\u0449\u0435</td>\n",
        "      <td>    NaN</td>\n",
        "      <td>  91</td>\n",
        "      <td>  29.15317</td>\n",
        "      <td> 49.991301</td>\n",
        "      <td>       \u043c\u0463\u0441\u0442\u0435\u0447\u043a\u043e</td>\n",
        "      <td> http://babel.hathitrust.org/cgi/pt?id=uc1.b458...</td>\n",
        "      <td> \u0413\u041e\u0420\u041e\u0414\u0418\u0429\u0415, \u043c\u0463\u0441\u0442\u0435\u0447\u043a\u043e \u0442\u043e\u0433\u043e \u0436\u0435 \u041d\u0430\u043c\u0463\u0441\u0442\u043d\u0438\u0447\u0435\u0441\u0442\u0432\u0430 \u0432\u044a \u041c...</td>\n",
        "    </tr>\n",
        "    <tr>\n",
        "      <th>358 </th>\n",
        "      <td>       \u0421\u043f\u0430\u0441\u043a\u043e\u0435</td>\n",
        "      <td>    NaN</td>\n",
        "      <td> 110</td>\n",
        "      <td> 40.453412</td>\n",
        "      <td> 57.761175</td>\n",
        "      <td>           \u0441\u0435\u043b\u043e</td>\n",
        "      <td> http://babel.hathitrust.org/cgi/pt?id=uc1.b458...</td>\n",
        "      <td> \u0421\u041f\u0410\u0421\u041a\u041e\u0415, \u0441\u0435\u043b\u043e \u042f\u0440\u043e\u0441\u043b\u0430\u0432\u0441\u043a\u0430\u0433\u043e \u041d\u0430\u043c\u0463\u0441\u0442\u043d\u0438\u0447\u0435\u0441\u0442\u0432\u0430 \u0432\u044a \u041f...</td>\n",
        "    </tr>\n",
        "    <tr>\n",
        "      <th>399 </th>\n",
        "      <td>   \u0421\u0435\u043c\u0435\u043d\u043e\u0432\u0441\u043a\u043e\u0435</td>\n",
        "      <td>    NaN</td>\n",
        "      <td> 110</td>\n",
        "      <td> 39.205694</td>\n",
        "      <td> 57.362046</td>\n",
        "      <td>           \u0441\u0435\u043b\u043e</td>\n",
        "      <td> http://babel.hathitrust.org/cgi/pt?id=uc1.b458...</td>\n",
        "      <td> \u0421\u0415\u041c\u0415\u041d\u041e\u0412\u0421\u041a\u041e\u0415 , \u0441\u0435\u043b\u043e \u042f\u0440\u043e\u0441\u043b\u0430\u0432\u0441\u043a\u0430\u0433\u043e \u041d\u0430\u043c\u0463\u0441\u0442\u043d\u0438\u0447\u0435\u0441\u0442\u0432\u0430...</td>\n",
        "    </tr>\n",
        "    <tr>\n",
        "      <th>405 </th>\n",
        "      <td>      \u0411\u0438\u043b\u044f\u0440\u0441\u043a\u044a</td>\n",
        "      <td>    NaN</td>\n",
        "      <td>  11</td>\n",
        "      <td> 50.492031</td>\n",
        "      <td> 54.892785</td>\n",
        "      <td>      \u043f\u0440\u0438\u0433\u043e\u0440\u043e\u0434\u044a</td>\n",
        "      <td> http://babel.hathitrust.org/cgi/pt?id=uc1.b458...</td>\n",
        "      <td> \u0411\u0418\u041b\u042f\u0420\u0421\u041a\u042a, \u043f\u0440\u0438\u0433\u043e\u0440\u043e\u0434\u044a \u041a\u0430\u0437\u0430\u043d\u0441\u043a\u0430\u0433\u043e \u041d\u0430\u043c\u0463\u0441\u0442\u043d\u0438\u0447\u0435\u0441\u0442\u0432\u0430....</td>\n",
        "    </tr>\n",
        "    <tr>\n",
        "      <th>406 </th>\n",
        "      <td>       \u041b\u0430\u0438\u0448\u0435\u0432\u044a</td>\n",
        "      <td>    NaN</td>\n",
        "      <td>  11</td>\n",
        "      <td> 49.688558</td>\n",
        "      <td> 55.339226</td>\n",
        "      <td>         \u0433\u043e\u0440\u043e\u0434\u044a</td>\n",
        "      <td> http://babel.hathitrust.org/cgi/pt?id=uc1.b458...</td>\n",
        "      <td> \u041b\u0410\u0418\u0428\u0415\u0412\u042a, \u0433\u043e\u0440\u043e\u0434\u044a \u041a\u0430\u0437\u0430\u043d\u0441\u043a\u0430\u0433\u043e \u041d\u0430\u043c\u0463\u0441\u0442\u043d\u0438\u0447\u0435\u0441\u0442\u0432\u0430. \u0412\u044a\u043e...</td>\n",
        "    </tr>\n",
        "    <tr>\n",
        "      <th>408 </th>\n",
        "      <td>        \u0421\u043f\u0430\u0441\u043a\u044a</td>\n",
        "      <td>    NaN</td>\n",
        "      <td>  32</td>\n",
        "      <td> 43.013525</td>\n",
        "      <td> 54.066350</td>\n",
        "      <td>         \u0433\u043e\u0440\u043e\u0434\u044a</td>\n",
        "      <td> http://babel.hathitrust.org/cgi/pt?id=uc1.b458...</td>\n",
        "      <td> \u0421\u041f\u0410\u0421\u041a\u042a, \u0441\u044a 1779 \u0433\u043e\u0434\u0443 \u0433\u043e\u0440\u043e\u0434\u044a \u0422\u0430\u043c\u0431\u043e\u0432\u0441\u043a\u0430\u0433\u043e \u041d\u0430\u043c\u0463\u0441\u0442...</td>\n",
        "    </tr>\n",
        "    <tr>\n",
        "      <th>410 </th>\n",
        "      <td>     \u0426\u044b\u0432\u0438\u043b\u044c\u0441\u043a\u044a</td>\n",
        "      <td>    NaN</td>\n",
        "      <td>  11</td>\n",
        "      <td> 47.668387</td>\n",
        "      <td> 55.737351</td>\n",
        "      <td>         \u0433\u043e\u0440\u043e\u0434\u044a</td>\n",
        "      <td> http://babel.hathitrust.org/cgi/pt?id=uc1.b458...</td>\n",
        "      <td> \u0426\u042b\u0412\u0418\u041b\u042c\u0421\u041a\u042a, \u0441\u044a 1781 \u0433\u043e\u0434\u0443 \u0433\u043e\u0440\u043e\u0434\u044a \u041a\u0430\u0437\u0430\u043d\u0441\u043a\u0430\u0433\u043e \u041d\u0430\u043c\u0463...</td>\n",
        "    </tr>\n",
        "    <tr>\n",
        "      <th>421 </th>\n",
        "      <td>    \u041c\u0438\u0445\u0430\u0439\u043b\u043e\u0432\u043a\u0430</td>\n",
        "      <td>    NaN</td>\n",
        "      <td> 265</td>\n",
        "      <td> 35.608109</td>\n",
        "      <td> 49.668204</td>\n",
        "      <td>           \u0441\u0435\u043b\u043e</td>\n",
        "      <td> http://babel.hathitrust.org/cgi/pt?id=uc1.b458...</td>\n",
        "      <td> \u041c\u0418\u0425\u0410\u0419\u041b\u041e\u0412\u041a\u0410, \u0441\u0435\u043b\u043e \u0425\u0430\u0440\u044c\u043a\u043e\u0432\u0441\u043a\u0430\u0433\u043e \u041d\u0430\u043c\u0463\u0441\u0442\u043d\u0438\u0447\u0435\u0441\u0442\u0432\u0430 \u0432...</td>\n",
        "    </tr>\n",
        "    <tr>\n",
        "      <th>478 </th>\n",
        "      <td>         \u0411\u0463\u043b\u043e\u0439</td>\n",
        "      <td>    NaN</td>\n",
        "      <td>  31</td>\n",
        "      <td>  32.92948</td>\n",
        "      <td> 55.848054</td>\n",
        "      <td>         \u0433\u043e\u0440\u043e\u0434\u044a</td>\n",
        "      <td> http://babel.hathitrust.org/cgi/pt?id=uc1.b458...</td>\n",
        "      <td> \u0411\u0462\u041b\u041e\u0419, \u0433\u043e\u0440\u043e\u0434\u044a \u0421\u043c\u043e\u043b\u0435\u043d\u0441\u043a\u0430\u0433\u043e \u041d\u0430\u043c\u0463\u0441\u0442\u043d\u0438\u0447\u0435\u0441\u0442\u0432\u0430. \u0412\u044a \u043e...</td>\n",
        "    </tr>\n",
        "    <tr>\n",
        "      <th>483 </th>\n",
        "      <td>      \u0418\u0432\u0430\u043d\u043e\u0432\u043a\u0430</td>\n",
        "      <td>    NaN</td>\n",
        "      <td> 128</td>\n",
        "      <td> 37.374723</td>\n",
        "      <td> 48.633910</td>\n",
        "      <td>        \u0441\u043b\u043e\u0431\u043e\u0434\u0430</td>\n",
        "      <td> http://babel.hathitrust.org/cgi/pt?id=uc1.b458...</td>\n",
        "      <td> \u0418\u0412\u0410\u041d\u041e\u0412\u041a\u0410, \u0441\u043b\u043e\u0431\u043e\u0434\u0430 \u0425\u0430\u0440\u044c\u043a\u043e\u0432\u0441\u043a\u0430\u0433\u043e \u041d\u0430\u043c\u0463\u0441\u0442\u043d\u0438\u0447\u0435\u0441\u0442\u0432\u0430 ...</td>\n",
        "    </tr>\n",
        "    <tr>\n",
        "      <th>...</th>\n",
        "      <td>...</td>\n",
        "      <td>...</td>\n",
        "      <td>...</td>\n",
        "      <td>...</td>\n",
        "      <td>...</td>\n",
        "      <td>...</td>\n",
        "      <td>...</td>\n",
        "      <td>...</td>\n",
        "    </tr>\n",
        "    <tr>\n",
        "      <th>921 </th>\n",
        "      <td>      \u0410\u043b\u0435\u043a\u0441\u0438\u043d\u044a</td>\n",
        "      <td>    NaN</td>\n",
        "      <td>  35</td>\n",
        "      <td> 36.905396</td>\n",
        "      <td> 54.548461</td>\n",
        "      <td>         \u0433\u043e\u0440\u043e\u0434\u044a</td>\n",
        "      <td> http://babel.hathitrust.org/cgi/pt?id=uc1.b458...</td>\n",
        "      <td> \u0410\u041b\u0415\u041a\u0421\u0418\u041d\u042a, \u0433\u043e\u0440\u043e\u0434\u044a \u0422\u0443\u043b\u044c\u0441\u043a\u0430\u0433\u043e \u041d\u0430\u043c\u0463\u0441\u0442\u043d\u0438\u0447\u0435\u0441\u0442\u0432\u0430. \u0417\u0434\u0463...</td>\n",
        "    </tr>\n",
        "    <tr>\n",
        "      <th>922 </th>\n",
        "      <td>       \u0421\u043a\u043e\u043f\u0438\u043d\u044a</td>\n",
        "      <td>    NaN</td>\n",
        "      <td>  28</td>\n",
        "      <td> 39.371598</td>\n",
        "      <td> 53.809233</td>\n",
        "      <td>         \u0433\u043e\u0440\u043e\u0434\u044a</td>\n",
        "      <td> http://babel.hathitrust.org/cgi/pt?id=uc1.b458...</td>\n",
        "      <td> \u0421\u041a\u041e\u041f\u0418\u041d\u042a, \u0441\u044a 1778 \u0433\u043e\u0434\u0443 \u0433\u043e\u0440\u043e\u0434\u044a \u0420\u044f\u0437\u0430\u043d\u0441\u043a\u0430\u0433\u043e \u041d\u0430\u043c\u0463\u0441\u0442...</td>\n",
        "    </tr>\n",
        "    <tr>\n",
        "      <th>923 </th>\n",
        "      <td>        \u0420\u044f\u0436\u0441\u043a\u044a</td>\n",
        "      <td>    NaN</td>\n",
        "      <td>  28</td>\n",
        "      <td> 39.877424</td>\n",
        "      <td> 53.704285</td>\n",
        "      <td>         \u0433\u043e\u0440\u043e\u0434\u044a</td>\n",
        "      <td> http://babel.hathitrust.org/cgi/pt?id=uc1.b458...</td>\n",
        "      <td> \u0420\u042f\u0416\u0421\u041a\u042a, \u0433\u043e\u0440\u043e\u0434\u044a \u0420\u044f\u0437\u0430\u043d\u0441\u043a\u0430\u0433\u043e \u041d\u0430\u043c\u0463\u0441\u0442\u043d\u0438\u0447\u0435\u0441\u0442\u0432\u0430. \u0417\u0434\u0463\u0441...</td>\n",
        "    </tr>\n",
        "    <tr>\n",
        "      <th>925 </th>\n",
        "      <td>      \u0421\u0430\u043f\u043e\u0436\u043e\u043a\u044a</td>\n",
        "      <td>    NaN</td>\n",
        "      <td>  28</td>\n",
        "      <td> 40.430882</td>\n",
        "      <td> 53.942399</td>\n",
        "      <td>         \u0433\u043e\u0440\u043e\u0434\u044a</td>\n",
        "      <td> http://babel.hathitrust.org/cgi/pt?id=uc1.b458...</td>\n",
        "      <td> \u0421\u0410\u041f\u041e\u0416\u041e\u041a\u042a, \u0441\u044a 1778 \u0433\u043e\u0434\u0443 \u0433\u043e\u0440\u043e\u0434\u044a \u0420\u044f\u0437\u0430\u043d\u0441\u043a\u0430\u0433\u043e \u041d\u0430\u043c\u0463\u0441...</td>\n",
        "    </tr>\n",
        "    <tr>\n",
        "      <th>926 </th>\n",
        "      <td>     \u041c\u0438\u0445\u0430\u0439\u043b\u043e\u0432\u044a</td>\n",
        "      <td>    NaN</td>\n",
        "      <td>  28</td>\n",
        "      <td> 38.837395</td>\n",
        "      <td> 54.222129</td>\n",
        "      <td>         \u0433\u043e\u0440\u043e\u0434\u044a</td>\n",
        "      <td> http://babel.hathitrust.org/cgi/pt?id=uc1.b458...</td>\n",
        "      <td> \u041c\u0418\u0425\u0410\u0419\u041b\u041e\u0412\u042a, \u0433\u043e\u0440\u043e\u0434\u044a \u0420\u044f\u0437\u0430\u043d\u0441\u043a\u0430\u0433\u043e \u041d\u0430\u043c\u0463\u0441\u0442\u043d\u0438\u0447\u0435\u0441\u0442\u0432\u0430. \u0412...</td>\n",
        "    </tr>\n",
        "    <tr>\n",
        "      <th>927 </th>\n",
        "      <td>       \u041f\u0440\u043e\u043d\u0441\u043a\u044a</td>\n",
        "      <td>    NaN</td>\n",
        "      <td>  28</td>\n",
        "      <td>  39.39082</td>\n",
        "      <td> 54.086948</td>\n",
        "      <td>         \u0433\u043e\u0440\u043e\u0434\u044a</td>\n",
        "      <td> http://babel.hathitrust.org/cgi/pt?id=uc1.b458...</td>\n",
        "      <td> \u041f\u0420\u041e\u041d\u0421\u041a\u042a , \u0433\u043e\u0440\u043e\u0434\u044a \u0420\u044f\u0437\u0430\u043d\u0441\u043a\u0430\u0433\u043e \u041d\u0430\u043c\u0463\u0441\u0442\u043d\u0438\u0447\u0435\u0441\u0442\u0432\u0430. \u0412\u044a...</td>\n",
        "    </tr>\n",
        "    <tr>\n",
        "      <th>928 </th>\n",
        "      <td>      \u0417\u0430\u0440\u0430\u0439\u0441\u043a\u044a</td>\n",
        "      <td>    NaN</td>\n",
        "      <td>  28</td>\n",
        "      <td> 38.578636</td>\n",
        "      <td> 54.726366</td>\n",
        "      <td>         \u0433\u043e\u0440\u043e\u0434\u044a</td>\n",
        "      <td> http://babel.hathitrust.org/cgi/pt?id=uc1.b458...</td>\n",
        "      <td> \u0417\u0410\u0420\u0410\u0419\u0421\u041a\u042a , \u0433\u043e\u0440\u043e\u0434\u044a \u0420\u044f\u0437\u0430\u043d\u0441\u043a\u0430\u0433\u043e \u041d\u0430\u043c\u0463\u0441\u0442\u043d\u0438\u0447\u0435\u0441\u0442\u0432\u0430. \u0412...</td>\n",
        "    </tr>\n",
        "    <tr>\n",
        "      <th>930 </th>\n",
        "      <td>      \u041a\u0430\u0441\u0438\u043c\u043e\u0432\u044a</td>\n",
        "      <td>    NaN</td>\n",
        "      <td>  28</td>\n",
        "      <td> 41.081324</td>\n",
        "      <td> 54.856786</td>\n",
        "      <td>         \u0433\u043e\u0440\u043e\u0434\u044a</td>\n",
        "      <td> http://babel.hathitrust.org/cgi/pt?id=uc1.b458...</td>\n",
        "      <td> \u041a\u0410\u0421\u0418\u041c\u041e\u0412\u042a, \u0433\u043e\u0440\u043e\u0434\u044a \u0442\u043e\u0433\u043e \u0436\u0435 \u041d\u0430\u043c\u0463\u0441\u0442\u043d\u0438\u0447\u0435\u0441\u0442\u0432\u0430. \u0412\u044a \u043d\u0435...</td>\n",
        "    </tr>\n",
        "    <tr>\n",
        "      <th>931 </th>\n",
        "      <td>         \u0421\u043f\u0430\u0441\u044a</td>\n",
        "      <td>    NaN</td>\n",
        "      <td>  45</td>\n",
        "      <td> 33.384393</td>\n",
        "      <td> 56.181478</td>\n",
        "      <td>           \u0441\u0435\u043b\u043e</td>\n",
        "      <td> http://babel.hathitrust.org/cgi/pt?id=uc1.b458...</td>\n",
        "      <td> \u0421\u041f\u0410\u0421\u042a \u043d\u0430 \u0425\u041e\u041b\u041c\u0423, \u0441\u0435\u043b\u043e \u0422\u0432\u0435\u0440\u0441\u043a\u0430\u0433\u043e \u041d\u0430\u043c\u0463\u0441\u0442\u043d\u0438\u0447\u0435\u0441\u0442\u0432\u0430 ...</td>\n",
        "    </tr>\n",
        "    <tr>\n",
        "      <th>933 </th>\n",
        "      <td>       \u0417\u0443\u0431\u0446\u043e\u0432\u044a</td>\n",
        "      <td>    NaN</td>\n",
        "      <td>  33</td>\n",
        "      <td> 34.599547</td>\n",
        "      <td> 56.249566</td>\n",
        "      <td>         \u0433\u043e\u0440\u043e\u0434\u044a</td>\n",
        "      <td> http://babel.hathitrust.org/cgi/pt?id=uc1.b458...</td>\n",
        "      <td> \u0417\u0423\u0411\u0426\u041e\u0412\u042a, \u0433\u043e\u0440\u043e\u0434\u044a \u0422\u0432\u0435\u0440\u0441\u043a\u0430\u0433\u043e \u041d\u0430\u043c\u0463\u0441\u0442\u043d\u0438\u0447\u0435\u0441\u0442\u0432\u0430. \u0412\u044a \u0441...</td>\n",
        "    </tr>\n",
        "    <tr>\n",
        "      <th>934 </th>\n",
        "      <td>     \u041e\u0441\u0442\u0430\u0448\u043a\u043e\u0432\u044a</td>\n",
        "      <td>    NaN</td>\n",
        "      <td>  33</td>\n",
        "      <td> 33.209206</td>\n",
        "      <td> 57.161508</td>\n",
        "      <td>         \u0433\u043e\u0440\u043e\u0434\u044a</td>\n",
        "      <td> http://babel.hathitrust.org/cgi/pt?id=uc1.b458...</td>\n",
        "      <td> \u041e\u0421\u0422\u0410\u0428\u041a\u041e\u0412\u042a, \u0433\u043e\u0440\u043e\u0434\u044a \u0422\u0432\u0435\u0440\u0441\u043a\u0430\u0433\u043e \u041d\u0430\u043c\u0463\u0441\u0442\u043d\u0438\u0447\u0435\u0441\u0442\u0432\u0430. \u0412\u044a...</td>\n",
        "    </tr>\n",
        "    <tr>\n",
        "      <th>935 </th>\n",
        "      <td>       \u0421\u0442\u0430\u0440\u0438\u0446\u0430</td>\n",
        "      <td>    NaN</td>\n",
        "      <td>  33</td>\n",
        "      <td> 34.979732</td>\n",
        "      <td> 56.569504</td>\n",
        "      <td>         \u0433\u043e\u0440\u043e\u0434\u044a</td>\n",
        "      <td> http://babel.hathitrust.org/cgi/pt?id=uc1.b458...</td>\n",
        "      <td> \u0421\u0422\u0410\u0420\u0418\u0426\u0410 , \u0441\u044a 1775 \u0433\u043e\u0434\u0443 \u0433\u043e\u0440\u043e\u0434\u044a \u0422\u0432\u0435\u0440\u0441\u043a\u0430\u0433\u043e \u041d\u0430\u043c\u0463\u0441\u0442...</td>\n",
        "    </tr>\n",
        "    <tr>\n",
        "      <th>940 </th>\n",
        "      <td>        \u041a\u0430\u0448\u0438\u043d\u044a</td>\n",
        "      <td>    NaN</td>\n",
        "      <td>  33</td>\n",
        "      <td> 37.634908</td>\n",
        "      <td> 57.348766</td>\n",
        "      <td>         \u0433\u043e\u0440\u043e\u0434\u044a</td>\n",
        "      <td> http://babel.hathitrust.org/cgi/pt?id=uc1.b458...</td>\n",
        "      <td> \u041a\u0410\u0428\u0418\u041d\u042a , \u0433\u043e\u0440\u043e\u0434\u044a \u0422\u0432\u0435\u0440\u0441\u043a\u0430\u0433\u043e \u041d\u0430\u043c\u0463\u0441\u0442\u043d\u0438\u0447\u0435\u0441\u0442\u0432\u0430. \u0417\u0434\u0463\u0441...</td>\n",
        "    </tr>\n",
        "    <tr>\n",
        "      <th>961 </th>\n",
        "      <td>     \u0413\u0440\u044f\u0437\u043e\u0432\u0435\u0446\u044a</td>\n",
        "      <td>    NaN</td>\n",
        "      <td>   4</td>\n",
        "      <td> 40.438154</td>\n",
        "      <td> 58.799058</td>\n",
        "      <td>         \u0433\u043e\u0440\u043e\u0434\u044a</td>\n",
        "      <td> http://babel.hathitrust.org/cgi/pt?id=uc1.b458...</td>\n",
        "      <td> \u0413\u0420\u042f\u0417\u041e\u0412\u0415\u0426\u042a, \u0433\u043e\u0440\u043e\u0434\u044a \u0412\u043e\u043b\u043e\u0433\u043e\u0434\u0441\u043a\u0430\u0433\u043e \u041d\u0430\u043c\u0463\u0441\u0442\u043d\u0438\u0447\u0435\u0441\u0442\u0432\u0430....</td>\n",
        "    </tr>\n",
        "    <tr>\n",
        "      <th>962 </th>\n",
        "      <td>       \u041b\u0430\u043b\u044c\u0441\u043a\u044a</td>\n",
        "      <td>    NaN</td>\n",
        "      <td>   4</td>\n",
        "      <td> 47.427564</td>\n",
        "      <td> 60.695618</td>\n",
        "      <td>         \u0433\u043e\u0440\u043e\u0434\u044a</td>\n",
        "      <td> http://babel.hathitrust.org/cgi/pt?id=uc1.b458...</td>\n",
        "      <td> \u041b\u0410\u041b\u042c\u0421\u041a\u042a, \u0433\u043e\u0440\u043e\u0434\u044a \u0412\u043e\u043b\u043e\u0433\u043e\u0434\u0441\u043a\u0430\u0433\u043e \u041d\u0430\u043c\u0463\u0441\u0442\u043d\u0438\u0447\u0435\u0441\u0442\u0432\u0430. \u0417...</td>\n",
        "    </tr>\n",
        "    <tr>\n",
        "      <th>963 </th>\n",
        "      <td>  \u041a\u0440\u0430\u0441\u043d\u043e\u0431\u043e\u0440\u0441\u043a\u044a</td>\n",
        "      <td>    NaN</td>\n",
        "      <td>   4</td>\n",
        "      <td> 45.847173</td>\n",
        "      <td> 61.567177</td>\n",
        "      <td>         \u0433\u043e\u0440\u043e\u0434\u044a</td>\n",
        "      <td> http://babel.hathitrust.org/cgi/pt?id=uc1.b458...</td>\n",
        "      <td> \u041a\u0420\u0410\u0421\u041d\u041e\u0411\u041e\u0420\u0421\u041a\u042a , \u0433\u043e\u0440\u043e\u0434\u044a \u0412\u043e\u043b\u043e\u0433\u043e\u0434\u0441\u043a\u0430\u0433\u043e \u041d\u0430\u043c\u0463\u0441\u0442\u043d\u0438\u0447\u0435\u0441...</td>\n",
        "    </tr>\n",
        "    <tr>\n",
        "      <th>964 </th>\n",
        "      <td>       \u042f\u0440\u0435\u043d\u0441\u043a\u044a</td>\n",
        "      <td>    NaN</td>\n",
        "      <td>   4</td>\n",
        "      <td> 49.211047</td>\n",
        "      <td> 61.849154</td>\n",
        "      <td>         \u0433\u043e\u0440\u043e\u0434\u044a</td>\n",
        "      <td> http://babel.hathitrust.org/cgi/pt?id=uc1.b458...</td>\n",
        "      <td> \u042f\u0420\u0415\u041d\u0421\u041a\u042a, \u0441\u044a 1780 \u0433\u043e\u0434\u0443 \u0433\u043e\u0440\u043e\u0434\u044a \u0412\u043e\u043b\u043e\u0433\u043e\u0434\u0441\u043a\u0430\u0433\u043e \u041d\u0430\u043c\u0463...</td>\n",
        "    </tr>\n",
        "    <tr>\n",
        "      <th>965 </th>\n",
        "      <td>    \u0421\u043b\u043e\u0431\u043e\u0434\u0441\u043a\u043e\u0439</td>\n",
        "      <td>    NaN</td>\n",
        "      <td>   7</td>\n",
        "      <td> 50.265712</td>\n",
        "      <td> 58.504775</td>\n",
        "      <td>         \u0433\u043e\u0440\u043e\u0434\u044a</td>\n",
        "      <td> http://babel.hathitrust.org/cgi/pt?id=uc1.b458...</td>\n",
        "      <td> \u0421\u041b\u041e\u0411\u041e\u0414\u0421\u041a\u041e\u0419, \u0441\u044a 1781 \u0433\u043e\u0434\u0443 \u0433\u043e\u0440\u043e\u0434\u044a \u0412\u044f\u0442\u0441\u043a\u0430\u0433\u043e \u041d\u0430\u043c\u0463\u0441...</td>\n",
        "    </tr>\n",
        "    <tr>\n",
        "      <th>968 </th>\n",
        "      <td>    \u041a\u043e\u0442\u0435\u043b\u044c\u043d\u0438\u0447\u044c</td>\n",
        "      <td>    NaN</td>\n",
        "      <td>   7</td>\n",
        "      <td> 48.582582</td>\n",
        "      <td> 58.089810</td>\n",
        "      <td>         \u0433\u043e\u0440\u043e\u0434\u044a</td>\n",
        "      <td> http://babel.hathitrust.org/cgi/pt?id=uc1.b458...</td>\n",
        "      <td> \u041a\u041e\u0422\u0415\u041b\u042c\u041d\u0418\u0427\u042c, \u0433\u043e\u0440\u043e\u0434\u044a \u0412\u044f\u0442\u0441\u043a\u0430\u0433\u043e \u041d\u0430\u043c\u0463\u0441\u0442\u043d\u0438\u0447\u0435\u0441\u0442\u0432\u0430. \u0412\u044a...</td>\n",
        "    </tr>\n",
        "    <tr>\n",
        "      <th>969 </th>\n",
        "      <td>       \u042f\u0440\u0430\u043d\u0441\u043a\u044a</td>\n",
        "      <td>    NaN</td>\n",
        "      <td>   7</td>\n",
        "      <td>  48.25988</td>\n",
        "      <td> 57.135444</td>\n",
        "      <td>         \u0433\u043e\u0440\u043e\u0434\u044a</td>\n",
        "      <td> http://babel.hathitrust.org/cgi/pt?id=uc1.b458...</td>\n",
        "      <td> \u042f\u0420\u0410\u041d\u0421\u041a\u042a, \u0441\u044a 1781 \u0433\u043e\u0434\u0443 \u0433\u043e\u0440\u043e\u0434\u044a \u0412\u044f\u0442\u0441\u043a\u0430\u0433\u043e \u041d\u0430\u043c\u0463\u0441\u0442\u043d\u0438...</td>\n",
        "    </tr>\n",
        "    <tr>\n",
        "      <th>976 </th>\n",
        "      <td>       \u0412\u0430\u043b\u0443\u0439\u043a\u0438</td>\n",
        "      <td>    NaN</td>\n",
        "      <td>   5</td>\n",
        "      <td> 38.124145</td>\n",
        "      <td> 50.171106</td>\n",
        "      <td>         \u0433\u043e\u0440\u043e\u0434\u044a</td>\n",
        "      <td> http://babel.hathitrust.org/cgi/pt?id=uc1.b458...</td>\n",
        "      <td> \u0412\u0410\u041b\u0423\u0419\u041a\u0418, \u0433\u043e\u0440\u043e\u0434\u044a \u0412\u043e\u0440\u043e\u043d\u0435\u0436\u0441\u043a\u0430\u0433\u043e \u041d\u0430\u043c\u0463\u0441\u0442\u043d\u0438\u0447\u0435\u0441\u0442\u0432\u0430. \u0412...</td>\n",
        "    </tr>\n",
        "    <tr>\n",
        "      <th>977 </th>\n",
        "      <td>   \u041e\u0441\u0442\u0440\u043e\u0433\u043e\u0436\u0441\u043a\u044a</td>\n",
        "      <td>    NaN</td>\n",
        "      <td>   5</td>\n",
        "      <td> 39.185104</td>\n",
        "      <td> 50.848793</td>\n",
        "      <td>         \u0433\u043e\u0440\u043e\u0434\u044a</td>\n",
        "      <td> http://babel.hathitrust.org/cgi/pt?id=uc1.b458...</td>\n",
        "      <td> \u041e\u0421\u0422\u0420\u041e\u0413\u041e\u0416\u0421\u041a\u042a, \u0433\u043e\u0440\u043e\u0434\u044a \u0412\u043e\u0440\u043e\u043d\u0435\u0436\u0441\u043a\u0430\u0433\u043e \u041d\u0430\u043c\u0463\u0441\u0442\u043d\u0438\u0447\u0435\u0441\u0442\u0432...</td>\n",
        "    </tr>\n",
        "    <tr>\n",
        "      <th>979 </th>\n",
        "      <td>     \u041a\u043e\u0440\u043e\u0442\u043e\u044f\u043a\u044a</td>\n",
        "      <td>    NaN</td>\n",
        "      <td>   5</td>\n",
        "      <td> 39.327654</td>\n",
        "      <td> 50.977176</td>\n",
        "      <td>         \u0433\u043e\u0440\u043e\u0434\u044a</td>\n",
        "      <td> http://babel.hathitrust.org/cgi/pt?id=uc1.b458...</td>\n",
        "      <td> \u041a\u041e\u0420\u041e\u0422\u041e\u042f\u041a\u042a, \u0433\u043e\u0440\u043e\u0434\u044a \u0412\u043e\u0440\u043e\u043d\u0435\u0436\u0441\u043a\u0430\u0433\u043e \u041d\u0430\u043c\u0463\u0441\u0442\u043d\u0438\u0447\u0435\u0441\u0442\u0432\u0430....</td>\n",
        "    </tr>\n",
        "    <tr>\n",
        "      <th>980 </th>\n",
        "      <td>     \u0417\u0435\u043c\u043b\u044f\u043d\u0441\u043a\u044a</td>\n",
        "      <td>    NaN</td>\n",
        "      <td>   5</td>\n",
        "      <td> 38.917408</td>\n",
        "      <td> 51.879358</td>\n",
        "      <td>         \u0433\u043e\u0440\u043e\u0434\u044a</td>\n",
        "      <td> http://babel.hathitrust.org/cgi/pt?id=uc1.b458...</td>\n",
        "      <td> \u0417\u0415\u041c\u041b\u042f\u041d\u0421\u041a\u042a , \u0433\u043e\u0440\u043e\u0434\u044a \u0412\u043e\u0440\u043e\u043d\u0435\u0436\u0441\u043a\u0430\u0433\u043e \u041d\u0430\u043c\u0463\u0441\u0442\u043d\u0438\u0447\u0435\u0441\u0442\u0432\u0430...</td>\n",
        "    </tr>\n",
        "    <tr>\n",
        "      <th>981 </th>\n",
        "      <td>      \u0422\u043e\u0440\u043e\u043f\u0435\u0446\u044a</td>\n",
        "      <td>    NaN</td>\n",
        "      <td>  25</td>\n",
        "      <td> 31.496176</td>\n",
        "      <td> 56.415124</td>\n",
        "      <td>         \u0433\u043e\u0440\u043e\u0434\u044a</td>\n",
        "      <td> http://babel.hathitrust.org/cgi/pt?id=uc1.b458...</td>\n",
        "      <td> \u0422\u041e\u0420\u041e\u041f\u0415\u0426\u042a, \u0441\u044a 1777 \u0433\u043e\u0434\u0443 \u0433\u043e\u0440\u043e\u0434\u044a \u041f\u0441\u043a\u043e\u0432\u0441\u043a\u0430\u0433\u043e \u041d\u0430\u043c\u0463\u0441...</td>\n",
        "    </tr>\n",
        "    <tr>\n",
        "      <th>982 </th>\n",
        "      <td>  \u0421\u0432\u044f\u0442\u043e\u0433\u043e\u0440\u0441\u043a\u043e\u0439</td>\n",
        "      <td>    NaN</td>\n",
        "      <td> 278</td>\n",
        "      <td> 28.892161</td>\n",
        "      <td> 56.964870</td>\n",
        "      <td>      \u043c\u043e\u043d\u0430\u0441\u0442\u044b\u0440\u044c</td>\n",
        "      <td> http://babel.hathitrust.org/cgi/pt?id=uc1.b458...</td>\n",
        "      <td> \u0421\u0412\u042f\u0422\u041e\u0413\u041e\u0420\u0421\u041a\u041e\u0419, \u043c\u043e\u043d\u0430\u0441\u0442\u044b\u0440\u044c \u041f\u0441\u043a\u043e\u0432\u0441\u043a\u0430\u0433\u043e \u041d\u0430\u043c\u0463\u0441\u0442\u043d\u0438\u0447\u0435\u0441...</td>\n",
        "    </tr>\n",
        "    <tr>\n",
        "      <th>983 </th>\n",
        "      <td>        \u041e\u043f\u043e\u0447\u043a\u0430</td>\n",
        "      <td>    NaN</td>\n",
        "      <td>  25</td>\n",
        "      <td> 28.651571</td>\n",
        "      <td> 56.677090</td>\n",
        "      <td>         \u0433\u043e\u0440\u043e\u0434\u044a</td>\n",
        "      <td> http://babel.hathitrust.org/cgi/pt?id=uc1.b458...</td>\n",
        "      <td> \u041e\u041f\u041e\u0427\u041a\u0410, \u0433\u043e\u0440\u043e\u0434\u044a \u041f\u0441\u043a\u043e\u0432\u0441\u043a\u0430\u0433\u043e \u041d\u0430\u043c\u0463\u0441\u0442\u043d\u0438\u0447\u0435\u0441\u0442\u0432\u0430. \u0412\u044a \u0441...</td>\n",
        "    </tr>\n",
        "    <tr>\n",
        "      <th>1001</th>\n",
        "      <td>      \u0411\u0435\u0440\u0435\u0437\u043e\u0432\u044a</td>\n",
        "      <td>    NaN</td>\n",
        "      <td>  34</td>\n",
        "      <td> 67.278432</td>\n",
        "      <td> 63.939236</td>\n",
        "      <td>         \u0433\u043e\u0440\u043e\u0434\u044a</td>\n",
        "      <td> http://babel.hathitrust.org/cgi/pt?id=uc1.b458...</td>\n",
        "      <td> \u0411\u0415\u0420\u0415\u0417\u041e\u0412\u042a, \u0433\u043e\u0440\u043e\u0434\u044a \u0422\u043e\u0431\u043e\u043b\u044c\u0441\u043a\u0430\u0433\u043e \u041d\u0430\u043c\u0463\u0441\u0442\u043d\u0438\u0447\u0435\u0441\u0442\u0432\u0430. \u0421...</td>\n",
        "    </tr>\n",
        "    <tr>\n",
        "      <th>1002</th>\n",
        "      <td>      \u0422\u0443\u0440\u0438\u043d\u0441\u043a\u044a</td>\n",
        "      <td>    NaN</td>\n",
        "      <td>  34</td>\n",
        "      <td> 63.814293</td>\n",
        "      <td> 57.862237</td>\n",
        "      <td>         \u0433\u043e\u0440\u043e\u0434\u044a</td>\n",
        "      <td> http://babel.hathitrust.org/cgi/pt?id=uc1.b458...</td>\n",
        "      <td> \u0422\u0423\u0420\u0418\u041d\u0421\u041a\u042a, \u0441\u044a 1782 \u0433\u043e\u0434\u0443 \u0433\u043e\u0440\u043e\u0434\u044a \u0422\u043e\u0431\u043e\u043b\u044c\u0441\u043a\u0430\u0433\u043e \u041d\u0430\u043c\u0463...</td>\n",
        "    </tr>\n",
        "    <tr>\n",
        "      <th>1004</th>\n",
        "      <td>     \u0422\u043e\u0431\u043e\u043b\u044c\u0441\u043a\u044a</td>\n",
        "      <td>    NaN</td>\n",
        "      <td>  34</td>\n",
        "      <td> 68.075814</td>\n",
        "      <td> 58.198838</td>\n",
        "      <td> \u0433\u043b\u0430\u0432\u043d\u044b\u0439 \u0433\u043e\u0440\u043e\u0434\u044a</td>\n",
        "      <td> http://babel.hathitrust.org/cgi/pt?id=uc1.b458...</td>\n",
        "      <td> \u0422\u041e\u0411\u041e\u041b\u042c\u0421\u041a\u042a, \u0441\u044a 1782 \u0433\u043e\u0434\u0443 \u0433\u043b\u0430\u0432\u043d\u044b\u0439 \u0433\u043e\u0440\u043e\u0434\u044a \u041d\u0430\u043c\u0463\u0441\u0442\u043d...</td>\n",
        "    </tr>\n",
        "  </tbody>\n",
        "</table>\n",
        "<p>216 rows \u00d7 8 columns</p>\n",
        "</div>"
       ],
       "metadata": {},
       "output_type": "pyout",
       "prompt_number": 21,
       "text": [
        "               name alt_name  partof_id     XCOORD     YCOORD           _type  \\\n",
        "11        \u0410\u043d\u0434\u0440\u0435\u0435\u0432\u043a\u0430      NaN         69  36.672298  49.525859         \u0441\u043b\u043e\u0431\u043e\u0434\u0430   \n",
        "23       \u0410\u043b\u0435\u043a\u0441\u0463\u0435\u0432\u043a\u0430      NaN          5  39.045304  49.015631         \u0441\u043b\u043e\u0431\u043e\u0434\u0430   \n",
        "25          \u0422\u0440\u043e\u0438\u0446\u043a\u044a      NaN         22  43.677981  54.190731            \u0440\u043e\u0434\u044a   \n",
        "27        \u0428\u0430\u0434\u0440\u0438\u043d\u0441\u043a\u044a      NaN         23  63.593559  55.973286          \u0433\u043e\u0440\u043e\u0434\u044a   \n",
        "28           \u0418\u0440\u0431\u0438\u0442\u044a      NaN         23  63.203104  57.528819          \u0433\u043e\u0440\u043e\u0434\u044a   \n",
        "56       \u041f\u043e\u043a\u0440\u043e\u0432\u0441\u043a\u043e\u0435      NaN        115  37.387057  55.750661            \u0441\u0435\u043b\u043e   \n",
        "60       \u041f\u043e\u043a\u0440\u043e\u0432\u0441\u043a\u043e\u0435      NaN        115  38.014248  55.622179            \u0441\u0435\u043b\u043e   \n",
        "64       \u041f\u043e\u043a\u0440\u043e\u0432\u0441\u043a\u043e\u0435      NaN        115  37.042598  56.408362            \u0441\u0435\u043b\u043e   \n",
        "97       \u041f\u043e\u043a\u0440\u043e\u0432\u0441\u043a\u043e\u0435   \u041b\u044e\u0431\u043e\u0448\u0430         87  38.978965  52.789522            \u0441\u0435\u043b\u043e   \n",
        "148        \u0422\u0440\u043e\u0438\u0446\u043a\u043e\u0435      NaN         67   37.37474  55.421126            \u0441\u0435\u043b\u043e   \n",
        "149        \u0422\u0440\u043e\u0438\u0446\u043a\u043e\u0435      NaN         67  36.924095  55.666928            \u0441\u0435\u043b\u043e   \n",
        "150        \u0422\u0440\u043e\u0438\u0446\u043a\u043e\u0435      NaN         67  36.917441  56.012155            \u0441\u0435\u043b\u043e   \n",
        "151        \u0422\u0440\u043e\u0438\u0446\u043a\u043e\u0435      NaN         67  36.733209  56.226838            \u0441\u0435\u043b\u043e   \n",
        "181       \u0418\u043b\u044c\u0438\u043d\u0441\u043a\u043e\u0435      NaN         73  37.450647  53.769685            \u0441\u0435\u043b\u043e   \n",
        "203   \u0420\u043e\u0436\u0435\u0441\u0442\u0432\u0435\u043d\u0441\u043a\u043e\u0435      NaN        276  36.975171  53.668498            \u0441\u0435\u043b\u043e   \n",
        "226      \u0418\u0432\u0430\u043d\u043e\u0432\u0441\u043a\u043e\u0435      NaN         67  37.049042  55.785073            \u0441\u0435\u043b\u043e   \n",
        "229      \u0418\u0432\u0430\u043d\u043e\u0432\u0441\u043a\u043e\u0435      NaN         67  35.451096  56.204261            \u0441\u0435\u043b\u043e   \n",
        "307        \u0413\u043e\u0440\u043e\u0434\u0438\u0449\u0435      NaN         88   31.46346  49.318178        \u043c\u0463\u0441\u0442\u0435\u0447\u043a\u043e   \n",
        "308        \u0413\u043e\u0440\u043e\u0434\u0438\u0449\u0435      NaN         91   31.46346  49.318178        \u043c\u0463\u0441\u0442\u0435\u0447\u043a\u043e   \n",
        "309        \u0413\u043e\u0440\u043e\u0434\u0438\u0449\u0435      NaN         88   29.15317  49.991301        \u043c\u0463\u0441\u0442\u0435\u0447\u043a\u043e   \n",
        "310        \u0413\u043e\u0440\u043e\u0434\u0438\u0449\u0435      NaN         91   29.15317  49.991301        \u043c\u0463\u0441\u0442\u0435\u0447\u043a\u043e   \n",
        "358         \u0421\u043f\u0430\u0441\u043a\u043e\u0435      NaN        110  40.453412  57.761175            \u0441\u0435\u043b\u043e   \n",
        "399     \u0421\u0435\u043c\u0435\u043d\u043e\u0432\u0441\u043a\u043e\u0435      NaN        110  39.205694  57.362046            \u0441\u0435\u043b\u043e   \n",
        "405        \u0411\u0438\u043b\u044f\u0440\u0441\u043a\u044a      NaN         11  50.492031  54.892785       \u043f\u0440\u0438\u0433\u043e\u0440\u043e\u0434\u044a   \n",
        "406         \u041b\u0430\u0438\u0448\u0435\u0432\u044a      NaN         11  49.688558  55.339226          \u0433\u043e\u0440\u043e\u0434\u044a   \n",
        "408          \u0421\u043f\u0430\u0441\u043a\u044a      NaN         32  43.013525  54.066350          \u0433\u043e\u0440\u043e\u0434\u044a   \n",
        "410       \u0426\u044b\u0432\u0438\u043b\u044c\u0441\u043a\u044a      NaN         11  47.668387  55.737351          \u0433\u043e\u0440\u043e\u0434\u044a   \n",
        "421      \u041c\u0438\u0445\u0430\u0439\u043b\u043e\u0432\u043a\u0430      NaN        265  35.608109  49.668204            \u0441\u0435\u043b\u043e   \n",
        "478           \u0411\u0463\u043b\u043e\u0439      NaN         31   32.92948  55.848054          \u0433\u043e\u0440\u043e\u0434\u044a   \n",
        "483        \u0418\u0432\u0430\u043d\u043e\u0432\u043a\u0430      NaN        128  37.374723  48.633910         \u0441\u043b\u043e\u0431\u043e\u0434\u0430   \n",
        "...             ...      ...        ...        ...        ...             ...   \n",
        "921        \u0410\u043b\u0435\u043a\u0441\u0438\u043d\u044a      NaN         35  36.905396  54.548461          \u0433\u043e\u0440\u043e\u0434\u044a   \n",
        "922         \u0421\u043a\u043e\u043f\u0438\u043d\u044a      NaN         28  39.371598  53.809233          \u0433\u043e\u0440\u043e\u0434\u044a   \n",
        "923          \u0420\u044f\u0436\u0441\u043a\u044a      NaN         28  39.877424  53.704285          \u0433\u043e\u0440\u043e\u0434\u044a   \n",
        "925        \u0421\u0430\u043f\u043e\u0436\u043e\u043a\u044a      NaN         28  40.430882  53.942399          \u0433\u043e\u0440\u043e\u0434\u044a   \n",
        "926       \u041c\u0438\u0445\u0430\u0439\u043b\u043e\u0432\u044a      NaN         28  38.837395  54.222129          \u0433\u043e\u0440\u043e\u0434\u044a   \n",
        "927         \u041f\u0440\u043e\u043d\u0441\u043a\u044a      NaN         28   39.39082  54.086948          \u0433\u043e\u0440\u043e\u0434\u044a   \n",
        "928        \u0417\u0430\u0440\u0430\u0439\u0441\u043a\u044a      NaN         28  38.578636  54.726366          \u0433\u043e\u0440\u043e\u0434\u044a   \n",
        "930        \u041a\u0430\u0441\u0438\u043c\u043e\u0432\u044a      NaN         28  41.081324  54.856786          \u0433\u043e\u0440\u043e\u0434\u044a   \n",
        "931           \u0421\u043f\u0430\u0441\u044a      NaN         45  33.384393  56.181478            \u0441\u0435\u043b\u043e   \n",
        "933         \u0417\u0443\u0431\u0446\u043e\u0432\u044a      NaN         33  34.599547  56.249566          \u0433\u043e\u0440\u043e\u0434\u044a   \n",
        "934       \u041e\u0441\u0442\u0430\u0448\u043a\u043e\u0432\u044a      NaN         33  33.209206  57.161508          \u0433\u043e\u0440\u043e\u0434\u044a   \n",
        "935         \u0421\u0442\u0430\u0440\u0438\u0446\u0430      NaN         33  34.979732  56.569504          \u0433\u043e\u0440\u043e\u0434\u044a   \n",
        "940          \u041a\u0430\u0448\u0438\u043d\u044a      NaN         33  37.634908  57.348766          \u0433\u043e\u0440\u043e\u0434\u044a   \n",
        "961       \u0413\u0440\u044f\u0437\u043e\u0432\u0435\u0446\u044a      NaN          4  40.438154  58.799058          \u0433\u043e\u0440\u043e\u0434\u044a   \n",
        "962         \u041b\u0430\u043b\u044c\u0441\u043a\u044a      NaN          4  47.427564  60.695618          \u0433\u043e\u0440\u043e\u0434\u044a   \n",
        "963    \u041a\u0440\u0430\u0441\u043d\u043e\u0431\u043e\u0440\u0441\u043a\u044a      NaN          4  45.847173  61.567177          \u0433\u043e\u0440\u043e\u0434\u044a   \n",
        "964         \u042f\u0440\u0435\u043d\u0441\u043a\u044a      NaN          4  49.211047  61.849154          \u0433\u043e\u0440\u043e\u0434\u044a   \n",
        "965      \u0421\u043b\u043e\u0431\u043e\u0434\u0441\u043a\u043e\u0439      NaN          7  50.265712  58.504775          \u0433\u043e\u0440\u043e\u0434\u044a   \n",
        "968      \u041a\u043e\u0442\u0435\u043b\u044c\u043d\u0438\u0447\u044c      NaN          7  48.582582  58.089810          \u0433\u043e\u0440\u043e\u0434\u044a   \n",
        "969         \u042f\u0440\u0430\u043d\u0441\u043a\u044a      NaN          7   48.25988  57.135444          \u0433\u043e\u0440\u043e\u0434\u044a   \n",
        "976         \u0412\u0430\u043b\u0443\u0439\u043a\u0438      NaN          5  38.124145  50.171106          \u0433\u043e\u0440\u043e\u0434\u044a   \n",
        "977     \u041e\u0441\u0442\u0440\u043e\u0433\u043e\u0436\u0441\u043a\u044a      NaN          5  39.185104  50.848793          \u0433\u043e\u0440\u043e\u0434\u044a   \n",
        "979       \u041a\u043e\u0440\u043e\u0442\u043e\u044f\u043a\u044a      NaN          5  39.327654  50.977176          \u0433\u043e\u0440\u043e\u0434\u044a   \n",
        "980       \u0417\u0435\u043c\u043b\u044f\u043d\u0441\u043a\u044a      NaN          5  38.917408  51.879358          \u0433\u043e\u0440\u043e\u0434\u044a   \n",
        "981        \u0422\u043e\u0440\u043e\u043f\u0435\u0446\u044a      NaN         25  31.496176  56.415124          \u0433\u043e\u0440\u043e\u0434\u044a   \n",
        "982    \u0421\u0432\u044f\u0442\u043e\u0433\u043e\u0440\u0441\u043a\u043e\u0439      NaN        278  28.892161  56.964870       \u043c\u043e\u043d\u0430\u0441\u0442\u044b\u0440\u044c   \n",
        "983          \u041e\u043f\u043e\u0447\u043a\u0430      NaN         25  28.651571  56.677090          \u0433\u043e\u0440\u043e\u0434\u044a   \n",
        "1001       \u0411\u0435\u0440\u0435\u0437\u043e\u0432\u044a      NaN         34  67.278432  63.939236          \u0433\u043e\u0440\u043e\u0434\u044a   \n",
        "1002       \u0422\u0443\u0440\u0438\u043d\u0441\u043a\u044a      NaN         34  63.814293  57.862237          \u0433\u043e\u0440\u043e\u0434\u044a   \n",
        "1004      \u0422\u043e\u0431\u043e\u043b\u044c\u0441\u043a\u044a      NaN         34  68.075814  58.198838  \u0433\u043b\u0430\u0432\u043d\u044b\u0439 \u0433\u043e\u0440\u043e\u0434\u044a   \n",
        "\n",
        "                                             source_url  \\\n",
        "11    http://babel.hathitrust.org/cgi/pt?id=uc1.b458...   \n",
        "23    http://babel.hathitrust.org/cgi/pt?id=uc1.b458...   \n",
        "25    http://babel.hathitrust.org/cgi/pt?id=uc1.b458...   \n",
        "27    http://babel.hathitrust.org/cgi/pt?id=uc1.b458...   \n",
        "28    http://babel.hathitrust.org/cgi/pt?id=uc1.b458...   \n",
        "56    http://babel.hathitrust.org/cgi/pt?id=uc1.b458...   \n",
        "60    http://babel.hathitrust.org/cgi/pt?id=uc1.b458...   \n",
        "64    http://babel.hathitrust.org/cgi/pt?id=uc1.b458...   \n",
        "97    http://babel.hathitrust.org/cgi/pt?id=uc1.b458...   \n",
        "148   http://babel.hathitrust.org/cgi/pt?id=uc1.b458...   \n",
        "149   http://babel.hathitrust.org/cgi/pt?id=uc1.b458...   \n",
        "150   http://babel.hathitrust.org/cgi/pt?id=uc1.b458...   \n",
        "151   http://babel.hathitrust.org/cgi/pt?id=uc1.b458...   \n",
        "181   http://babel.hathitrust.org/cgi/pt?id=uc1.b458...   \n",
        "203   http://babel.hathitrust.org/cgi/pt?id=uc1.b458...   \n",
        "226   http://babel.hathitrust.org/cgi/pt?id=uc1.b458...   \n",
        "229   http://babel.hathitrust.org/cgi/pt?id=uc1.b458...   \n",
        "307   http://babel.hathitrust.org/cgi/pt?id=uc1.b458...   \n",
        "308   http://babel.hathitrust.org/cgi/pt?id=uc1.b458...   \n",
        "309   http://babel.hathitrust.org/cgi/pt?id=uc1.b458...   \n",
        "310   http://babel.hathitrust.org/cgi/pt?id=uc1.b458...   \n",
        "358   http://babel.hathitrust.org/cgi/pt?id=uc1.b458...   \n",
        "399   http://babel.hathitrust.org/cgi/pt?id=uc1.b458...   \n",
        "405   http://babel.hathitrust.org/cgi/pt?id=uc1.b458...   \n",
        "406   http://babel.hathitrust.org/cgi/pt?id=uc1.b458...   \n",
        "408   http://babel.hathitrust.org/cgi/pt?id=uc1.b458...   \n",
        "410   http://babel.hathitrust.org/cgi/pt?id=uc1.b458...   \n",
        "421   http://babel.hathitrust.org/cgi/pt?id=uc1.b458...   \n",
        "478   http://babel.hathitrust.org/cgi/pt?id=uc1.b458...   \n",
        "483   http://babel.hathitrust.org/cgi/pt?id=uc1.b458...   \n",
        "...                                                 ...   \n",
        "921   http://babel.hathitrust.org/cgi/pt?id=uc1.b458...   \n",
        "922   http://babel.hathitrust.org/cgi/pt?id=uc1.b458...   \n",
        "923   http://babel.hathitrust.org/cgi/pt?id=uc1.b458...   \n",
        "925   http://babel.hathitrust.org/cgi/pt?id=uc1.b458...   \n",
        "926   http://babel.hathitrust.org/cgi/pt?id=uc1.b458...   \n",
        "927   http://babel.hathitrust.org/cgi/pt?id=uc1.b458...   \n",
        "928   http://babel.hathitrust.org/cgi/pt?id=uc1.b458...   \n",
        "930   http://babel.hathitrust.org/cgi/pt?id=uc1.b458...   \n",
        "931   http://babel.hathitrust.org/cgi/pt?id=uc1.b458...   \n",
        "933   http://babel.hathitrust.org/cgi/pt?id=uc1.b458...   \n",
        "934   http://babel.hathitrust.org/cgi/pt?id=uc1.b458...   \n",
        "935   http://babel.hathitrust.org/cgi/pt?id=uc1.b458...   \n",
        "940   http://babel.hathitrust.org/cgi/pt?id=uc1.b458...   \n",
        "961   http://babel.hathitrust.org/cgi/pt?id=uc1.b458...   \n",
        "962   http://babel.hathitrust.org/cgi/pt?id=uc1.b458...   \n",
        "963   http://babel.hathitrust.org/cgi/pt?id=uc1.b458...   \n",
        "964   http://babel.hathitrust.org/cgi/pt?id=uc1.b458...   \n",
        "965   http://babel.hathitrust.org/cgi/pt?id=uc1.b458...   \n",
        "968   http://babel.hathitrust.org/cgi/pt?id=uc1.b458...   \n",
        "969   http://babel.hathitrust.org/cgi/pt?id=uc1.b458...   \n",
        "976   http://babel.hathitrust.org/cgi/pt?id=uc1.b458...   \n",
        "977   http://babel.hathitrust.org/cgi/pt?id=uc1.b458...   \n",
        "979   http://babel.hathitrust.org/cgi/pt?id=uc1.b458...   \n",
        "980   http://babel.hathitrust.org/cgi/pt?id=uc1.b458...   \n",
        "981   http://babel.hathitrust.org/cgi/pt?id=uc1.b458...   \n",
        "982   http://babel.hathitrust.org/cgi/pt?id=uc1.b458...   \n",
        "983   http://babel.hathitrust.org/cgi/pt?id=uc1.b458...   \n",
        "1001  http://babel.hathitrust.org/cgi/pt?id=uc1.b458...   \n",
        "1002  http://babel.hathitrust.org/cgi/pt?id=uc1.b458...   \n",
        "1004  http://babel.hathitrust.org/cgi/pt?id=uc1.b458...   \n",
        "\n",
        "                                                   text  \n",
        "11    \u0410\u041d\u0414\u0420\u0415\u0415\u0412\u041a\u0410, \u0441\u043b\u043e\u0431\u043e\u0434\u0430 \u0425\u0430\u0440\u044c\u043a\u043e\u0432\u0441\u043a\u0430\u0433\u043e \u041d\u0430\u043c\u0463\u0441\u0442\u043d\u0438\u0447\u0435\u0441\u0442\u0432\u0430...  \n",
        "23    \u0410\u041b\u0415\u041a\u0421\u0462\u0415\u0412\u041a\u0410, \u0441\u043b\u043e\u0431\u043e\u0434\u0430 \u0413\u0440\u0430\u0444\u0430 \u0428\u0435\u0440\u0435\u043c\u0435\u0442\u0435\u0432\u0430, \u0432\u044a \u0412\u043e\u0440\u043e\u043d...  \n",
        "25    \u0422\u0420\u041e\u0418\u0426\u041a\u042a, \u0441\u044a 1780 \u0433\u043e\u0434\u0443 \u0440\u043e\u0434\u044a \u041f\u0435\u043d\u0437\u0435\u043d\u0441\u043a\u0430\u0433\u043e \u041d\u0430\u043c\u0463\u0441\u0442\u043d...  \n",
        "27    \u0428\u0410\u0414\u0420\u0418\u041d\u0421\u041a\u042a, \u0441\u044a 1781 \u0433\u043e\u0434\u0443 \u0433\u043e\u0440\u043e\u0434\u044a \u041f\u0435\u0440\u043c\u0441\u043a\u0430\u0433\u043e \u041d\u0430\u043c\u0463\u0441...  \n",
        "28    \u0418\u0420\u0411\u0418\u0422\u042a, \u0433\u043e\u0440\u043e\u0434\u044a \u041f\u0435\u0440\u043c\u0441\u043a\u0430\u0433\u043e \u041d\u0430\u043c\u0463\u0441\u0442\u043d\u0438\u0447\u0435\u0441\u0442\u0432\u0430. \u0417\u0434\u0463\u0441\u044c...  \n",
        "56    \u041f\u041e\u041a\u0420\u041e\u0412\u0421\u041a\u041e\u0415, \u0441\u0435\u043b\u043e \u041c\u043e\u0441\u043a\u043e\u0432\u0441\u043a\u043e\u0439 \u0413\u0443\u0431\u0435\u0440\u043d\u0456\u0438 \u0432\u044a \u0443\u0463\u0437\u0434\u0463 ...  \n",
        "60    \u041f\u041e\u041a\u0420\u041e\u0412\u0421\u041a\u041e\u0415, \u0441\u0435\u043b\u043e \u041c\u043e\u0441\u043a\u043e\u0432\u0441\u043a\u043e\u0439 \u0413\u0443\u0431\u0435\u0440\u043d\u0456\u0438 \u0432\u044a \u0443\u0463\u0437\u0434\u0463 ...  \n",
        "64    \u041f\u041e\u041a\u0420\u041e\u0412\u0421\u041a\u041e\u0415, \u0441\u0435\u043b\u043e \u041c\u043e\u0441\u043a\u043e\u0432\u0441\u043a\u043e\u0439 \u0413\u0443\u0431\u0435\u0440\u043d\u0456\u0438 \u0432\u044a \u0443\u0463\u0437\u0434\u0463 ...  \n",
        "97    \u041f\u041e\u041a\u0420\u041e\u0412\u0421\u041a\u041e\u0415 , \u041b\u042e\u0411\u041e\u0428\u0410 \u0442\u043e\u0436\u044c, \u0441\u0435\u043b\u043e \u041e\u0440\u043b\u043e\u0432\u0441\u043a\u0430\u0433\u043e \u041d\u0430\u043c\u0463...  \n",
        "148   \u0422\u0420\u041e\u0418\u0426\u041a\u041e\u0415, \u0441\u0435\u043b\u043e \u041c\u043e\u0441\u043a\u043e\u0432\u0441\u043a\u043e\u0439 \u0413\u0443\u0431\u0435\u0440\u043d\u0456\u0438 \u0432\u044a \u0417\u0432\u0435\u043d\u0438\u0433\u043e\u0440...  \n",
        "149   \u0422\u0420\u041e\u0418\u0426\u041a\u041e\u0415, \u0441\u0435\u043b\u043e \u041c\u043e\u0441\u043a\u043e\u0432\u0441\u043a\u043e\u0439 \u0413\u0443\u0431\u0435\u0440\u043d\u0456\u0438 \u0432\u044a \u0417\u0432\u0435\u043d\u0438\u0433\u043e\u0440...  \n",
        "150   \u0422\u0420\u041e\u0418\u0426\u041a\u041e\u0415, \u0441\u0435\u043b\u043e \u041c\u043e\u0441\u043a\u043e\u0432\u0441\u043a\u043e\u0439 \u0413\u0443\u0431\u0435\u0440\u043d\u0456\u0438 \u0432\u044a \u0417\u0432\u0435\u043d\u0438\u0433\u043e\u0440...  \n",
        "151   \u0422\u0420\u041e\u0418\u0426\u041a\u041e\u0415, \u0441\u0435\u043b\u043e \u041c\u043e\u0441\u043a\u043e\u0432\u0441\u043a\u043e\u0439 \u0413\u0443\u0431\u0435\u0440\u043d\u0456\u0438 \u0432\u044a \u0417\u0432\u0435\u043d\u0438\u0433\u043e\u0440...  \n",
        "181   \u0418\u041b\u042c\u0418\u041d\u0421\u041a\u041e\u0415, \u0441\u0435\u043b\u043e \u0422\u0443\u043b\u044c\u0441\u043a\u0430\u0433\u043e \u041d\u0430\u043c\u0463\u0441\u0442\u043d\u0438\u0447\u0435\u0441\u0442\u0432\u0430 \u0432\u044a \u041a\u0430...  \n",
        "203   \u0420\u041e\u0416\u0415\u0421\u0422\u0412\u0415\u041d\u0421\u041a\u041e\u0415, \u0441\u0435\u043b\u043e \u0422\u0443\u043b\u044c\u0441\u043a\u0430\u0433\u043e \u041d\u0430\u043c\u0463\u0441\u0442\u043d\u0438\u0447\u0435\u0441\u0442\u0432\u0430 \u0432...  \n",
        "226   \u0418\u0412\u0410\u041d\u041e\u0412\u0421\u041a\u041e\u0415, \u0441\u0435\u043b\u043e \u041c\u043e\u0441\u043a\u043e\u0432\u0441\u043a\u043e\u0439 \u0413\u0443\u0431\u0435\u0440\u043d\u0456\u0438 \u0432\u044a \u0417\u0432\u0435\u043d\u0438\u0433...  \n",
        "229   \u0418\u0412\u0410\u041d\u041e\u0412\u0421\u041a\u041e\u0415, \u0441\u0435\u043b\u043e \u041c\u043e\u0441\u043a\u043e\u0432\u0441\u043a\u043e\u0439 \u0413\u0443\u0431\u0435\u0440\u043d\u0456\u0438 \u0432\u044a \u0417\u0432\u0435\u043d\u0438\u0433...  \n",
        "307   \u0413\u041e\u0420\u041e\u0414\u0418\u0429\u0415 , \u043c\u0463\u0441\u0442\u0435\u0447\u043a\u043e \u041a\u0456\u0435\u0432\u0441\u043a\u0430\u0433\u043e \u041d\u0430\u043c\u0463\u0441\u0442\u043d\u0438\u0447\u0435\u0441\u0442\u0432\u0430 \u0432...  \n",
        "308   \u0413\u041e\u0420\u041e\u0414\u0418\u0429\u0415, \u043c\u0463\u0441\u0442\u0435\u0447\u043a\u043e \u0442\u043e\u0433\u043e \u0436\u0435 \u041d\u0430\u043c\u0463\u0441\u0442\u043d\u0438\u0447\u0435\u0441\u0442\u0432\u0430 \u0432\u044a \u041c...  \n",
        "309   \u0413\u041e\u0420\u041e\u0414\u0418\u0429\u0415 , \u043c\u0463\u0441\u0442\u0435\u0447\u043a\u043e \u041a\u0456\u0435\u0432\u0441\u043a\u0430\u0433\u043e \u041d\u0430\u043c\u0463\u0441\u0442\u043d\u0438\u0447\u0435\u0441\u0442\u0432\u0430 \u0432...  \n",
        "310   \u0413\u041e\u0420\u041e\u0414\u0418\u0429\u0415, \u043c\u0463\u0441\u0442\u0435\u0447\u043a\u043e \u0442\u043e\u0433\u043e \u0436\u0435 \u041d\u0430\u043c\u0463\u0441\u0442\u043d\u0438\u0447\u0435\u0441\u0442\u0432\u0430 \u0432\u044a \u041c...  \n",
        "358   \u0421\u041f\u0410\u0421\u041a\u041e\u0415, \u0441\u0435\u043b\u043e \u042f\u0440\u043e\u0441\u043b\u0430\u0432\u0441\u043a\u0430\u0433\u043e \u041d\u0430\u043c\u0463\u0441\u0442\u043d\u0438\u0447\u0435\u0441\u0442\u0432\u0430 \u0432\u044a \u041f...  \n",
        "399   \u0421\u0415\u041c\u0415\u041d\u041e\u0412\u0421\u041a\u041e\u0415 , \u0441\u0435\u043b\u043e \u042f\u0440\u043e\u0441\u043b\u0430\u0432\u0441\u043a\u0430\u0433\u043e \u041d\u0430\u043c\u0463\u0441\u0442\u043d\u0438\u0447\u0435\u0441\u0442\u0432\u0430...  \n",
        "405   \u0411\u0418\u041b\u042f\u0420\u0421\u041a\u042a, \u043f\u0440\u0438\u0433\u043e\u0440\u043e\u0434\u044a \u041a\u0430\u0437\u0430\u043d\u0441\u043a\u0430\u0433\u043e \u041d\u0430\u043c\u0463\u0441\u0442\u043d\u0438\u0447\u0435\u0441\u0442\u0432\u0430....  \n",
        "406   \u041b\u0410\u0418\u0428\u0415\u0412\u042a, \u0433\u043e\u0440\u043e\u0434\u044a \u041a\u0430\u0437\u0430\u043d\u0441\u043a\u0430\u0433\u043e \u041d\u0430\u043c\u0463\u0441\u0442\u043d\u0438\u0447\u0435\u0441\u0442\u0432\u0430. \u0412\u044a\u043e...  \n",
        "408   \u0421\u041f\u0410\u0421\u041a\u042a, \u0441\u044a 1779 \u0433\u043e\u0434\u0443 \u0433\u043e\u0440\u043e\u0434\u044a \u0422\u0430\u043c\u0431\u043e\u0432\u0441\u043a\u0430\u0433\u043e \u041d\u0430\u043c\u0463\u0441\u0442...  \n",
        "410   \u0426\u042b\u0412\u0418\u041b\u042c\u0421\u041a\u042a, \u0441\u044a 1781 \u0433\u043e\u0434\u0443 \u0433\u043e\u0440\u043e\u0434\u044a \u041a\u0430\u0437\u0430\u043d\u0441\u043a\u0430\u0433\u043e \u041d\u0430\u043c\u0463...  \n",
        "421   \u041c\u0418\u0425\u0410\u0419\u041b\u041e\u0412\u041a\u0410, \u0441\u0435\u043b\u043e \u0425\u0430\u0440\u044c\u043a\u043e\u0432\u0441\u043a\u0430\u0433\u043e \u041d\u0430\u043c\u0463\u0441\u0442\u043d\u0438\u0447\u0435\u0441\u0442\u0432\u0430 \u0432...  \n",
        "478   \u0411\u0462\u041b\u041e\u0419, \u0433\u043e\u0440\u043e\u0434\u044a \u0421\u043c\u043e\u043b\u0435\u043d\u0441\u043a\u0430\u0433\u043e \u041d\u0430\u043c\u0463\u0441\u0442\u043d\u0438\u0447\u0435\u0441\u0442\u0432\u0430. \u0412\u044a \u043e...  \n",
        "483   \u0418\u0412\u0410\u041d\u041e\u0412\u041a\u0410, \u0441\u043b\u043e\u0431\u043e\u0434\u0430 \u0425\u0430\u0440\u044c\u043a\u043e\u0432\u0441\u043a\u0430\u0433\u043e \u041d\u0430\u043c\u0463\u0441\u0442\u043d\u0438\u0447\u0435\u0441\u0442\u0432\u0430 ...  \n",
        "...                                                 ...  \n",
        "921   \u0410\u041b\u0415\u041a\u0421\u0418\u041d\u042a, \u0433\u043e\u0440\u043e\u0434\u044a \u0422\u0443\u043b\u044c\u0441\u043a\u0430\u0433\u043e \u041d\u0430\u043c\u0463\u0441\u0442\u043d\u0438\u0447\u0435\u0441\u0442\u0432\u0430. \u0417\u0434\u0463...  \n",
        "922   \u0421\u041a\u041e\u041f\u0418\u041d\u042a, \u0441\u044a 1778 \u0433\u043e\u0434\u0443 \u0433\u043e\u0440\u043e\u0434\u044a \u0420\u044f\u0437\u0430\u043d\u0441\u043a\u0430\u0433\u043e \u041d\u0430\u043c\u0463\u0441\u0442...  \n",
        "923   \u0420\u042f\u0416\u0421\u041a\u042a, \u0433\u043e\u0440\u043e\u0434\u044a \u0420\u044f\u0437\u0430\u043d\u0441\u043a\u0430\u0433\u043e \u041d\u0430\u043c\u0463\u0441\u0442\u043d\u0438\u0447\u0435\u0441\u0442\u0432\u0430. \u0417\u0434\u0463\u0441...  \n",
        "925   \u0421\u0410\u041f\u041e\u0416\u041e\u041a\u042a, \u0441\u044a 1778 \u0433\u043e\u0434\u0443 \u0433\u043e\u0440\u043e\u0434\u044a \u0420\u044f\u0437\u0430\u043d\u0441\u043a\u0430\u0433\u043e \u041d\u0430\u043c\u0463\u0441...  \n",
        "926   \u041c\u0418\u0425\u0410\u0419\u041b\u041e\u0412\u042a, \u0433\u043e\u0440\u043e\u0434\u044a \u0420\u044f\u0437\u0430\u043d\u0441\u043a\u0430\u0433\u043e \u041d\u0430\u043c\u0463\u0441\u0442\u043d\u0438\u0447\u0435\u0441\u0442\u0432\u0430. \u0412...  \n",
        "927   \u041f\u0420\u041e\u041d\u0421\u041a\u042a , \u0433\u043e\u0440\u043e\u0434\u044a \u0420\u044f\u0437\u0430\u043d\u0441\u043a\u0430\u0433\u043e \u041d\u0430\u043c\u0463\u0441\u0442\u043d\u0438\u0447\u0435\u0441\u0442\u0432\u0430. \u0412\u044a...  \n",
        "928   \u0417\u0410\u0420\u0410\u0419\u0421\u041a\u042a , \u0433\u043e\u0440\u043e\u0434\u044a \u0420\u044f\u0437\u0430\u043d\u0441\u043a\u0430\u0433\u043e \u041d\u0430\u043c\u0463\u0441\u0442\u043d\u0438\u0447\u0435\u0441\u0442\u0432\u0430. \u0412...  \n",
        "930   \u041a\u0410\u0421\u0418\u041c\u041e\u0412\u042a, \u0433\u043e\u0440\u043e\u0434\u044a \u0442\u043e\u0433\u043e \u0436\u0435 \u041d\u0430\u043c\u0463\u0441\u0442\u043d\u0438\u0447\u0435\u0441\u0442\u0432\u0430. \u0412\u044a \u043d\u0435...  \n",
        "931   \u0421\u041f\u0410\u0421\u042a \u043d\u0430 \u0425\u041e\u041b\u041c\u0423, \u0441\u0435\u043b\u043e \u0422\u0432\u0435\u0440\u0441\u043a\u0430\u0433\u043e \u041d\u0430\u043c\u0463\u0441\u0442\u043d\u0438\u0447\u0435\u0441\u0442\u0432\u0430 ...  \n",
        "933   \u0417\u0423\u0411\u0426\u041e\u0412\u042a, \u0433\u043e\u0440\u043e\u0434\u044a \u0422\u0432\u0435\u0440\u0441\u043a\u0430\u0433\u043e \u041d\u0430\u043c\u0463\u0441\u0442\u043d\u0438\u0447\u0435\u0441\u0442\u0432\u0430. \u0412\u044a \u0441...  \n",
        "934   \u041e\u0421\u0422\u0410\u0428\u041a\u041e\u0412\u042a, \u0433\u043e\u0440\u043e\u0434\u044a \u0422\u0432\u0435\u0440\u0441\u043a\u0430\u0433\u043e \u041d\u0430\u043c\u0463\u0441\u0442\u043d\u0438\u0447\u0435\u0441\u0442\u0432\u0430. \u0412\u044a...  \n",
        "935   \u0421\u0422\u0410\u0420\u0418\u0426\u0410 , \u0441\u044a 1775 \u0433\u043e\u0434\u0443 \u0433\u043e\u0440\u043e\u0434\u044a \u0422\u0432\u0435\u0440\u0441\u043a\u0430\u0433\u043e \u041d\u0430\u043c\u0463\u0441\u0442...  \n",
        "940   \u041a\u0410\u0428\u0418\u041d\u042a , \u0433\u043e\u0440\u043e\u0434\u044a \u0422\u0432\u0435\u0440\u0441\u043a\u0430\u0433\u043e \u041d\u0430\u043c\u0463\u0441\u0442\u043d\u0438\u0447\u0435\u0441\u0442\u0432\u0430. \u0417\u0434\u0463\u0441...  \n",
        "961   \u0413\u0420\u042f\u0417\u041e\u0412\u0415\u0426\u042a, \u0433\u043e\u0440\u043e\u0434\u044a \u0412\u043e\u043b\u043e\u0433\u043e\u0434\u0441\u043a\u0430\u0433\u043e \u041d\u0430\u043c\u0463\u0441\u0442\u043d\u0438\u0447\u0435\u0441\u0442\u0432\u0430....  \n",
        "962   \u041b\u0410\u041b\u042c\u0421\u041a\u042a, \u0433\u043e\u0440\u043e\u0434\u044a \u0412\u043e\u043b\u043e\u0433\u043e\u0434\u0441\u043a\u0430\u0433\u043e \u041d\u0430\u043c\u0463\u0441\u0442\u043d\u0438\u0447\u0435\u0441\u0442\u0432\u0430. \u0417...  \n",
        "963   \u041a\u0420\u0410\u0421\u041d\u041e\u0411\u041e\u0420\u0421\u041a\u042a , \u0433\u043e\u0440\u043e\u0434\u044a \u0412\u043e\u043b\u043e\u0433\u043e\u0434\u0441\u043a\u0430\u0433\u043e \u041d\u0430\u043c\u0463\u0441\u0442\u043d\u0438\u0447\u0435\u0441...  \n",
        "964   \u042f\u0420\u0415\u041d\u0421\u041a\u042a, \u0441\u044a 1780 \u0433\u043e\u0434\u0443 \u0433\u043e\u0440\u043e\u0434\u044a \u0412\u043e\u043b\u043e\u0433\u043e\u0434\u0441\u043a\u0430\u0433\u043e \u041d\u0430\u043c\u0463...  \n",
        "965   \u0421\u041b\u041e\u0411\u041e\u0414\u0421\u041a\u041e\u0419, \u0441\u044a 1781 \u0433\u043e\u0434\u0443 \u0433\u043e\u0440\u043e\u0434\u044a \u0412\u044f\u0442\u0441\u043a\u0430\u0433\u043e \u041d\u0430\u043c\u0463\u0441...  \n",
        "968   \u041a\u041e\u0422\u0415\u041b\u042c\u041d\u0418\u0427\u042c, \u0433\u043e\u0440\u043e\u0434\u044a \u0412\u044f\u0442\u0441\u043a\u0430\u0433\u043e \u041d\u0430\u043c\u0463\u0441\u0442\u043d\u0438\u0447\u0435\u0441\u0442\u0432\u0430. \u0412\u044a...  \n",
        "969   \u042f\u0420\u0410\u041d\u0421\u041a\u042a, \u0441\u044a 1781 \u0433\u043e\u0434\u0443 \u0433\u043e\u0440\u043e\u0434\u044a \u0412\u044f\u0442\u0441\u043a\u0430\u0433\u043e \u041d\u0430\u043c\u0463\u0441\u0442\u043d\u0438...  \n",
        "976   \u0412\u0410\u041b\u0423\u0419\u041a\u0418, \u0433\u043e\u0440\u043e\u0434\u044a \u0412\u043e\u0440\u043e\u043d\u0435\u0436\u0441\u043a\u0430\u0433\u043e \u041d\u0430\u043c\u0463\u0441\u0442\u043d\u0438\u0447\u0435\u0441\u0442\u0432\u0430. \u0412...  \n",
        "977   \u041e\u0421\u0422\u0420\u041e\u0413\u041e\u0416\u0421\u041a\u042a, \u0433\u043e\u0440\u043e\u0434\u044a \u0412\u043e\u0440\u043e\u043d\u0435\u0436\u0441\u043a\u0430\u0433\u043e \u041d\u0430\u043c\u0463\u0441\u0442\u043d\u0438\u0447\u0435\u0441\u0442\u0432...  \n",
        "979   \u041a\u041e\u0420\u041e\u0422\u041e\u042f\u041a\u042a, \u0433\u043e\u0440\u043e\u0434\u044a \u0412\u043e\u0440\u043e\u043d\u0435\u0436\u0441\u043a\u0430\u0433\u043e \u041d\u0430\u043c\u0463\u0441\u0442\u043d\u0438\u0447\u0435\u0441\u0442\u0432\u0430....  \n",
        "980   \u0417\u0415\u041c\u041b\u042f\u041d\u0421\u041a\u042a , \u0433\u043e\u0440\u043e\u0434\u044a \u0412\u043e\u0440\u043e\u043d\u0435\u0436\u0441\u043a\u0430\u0433\u043e \u041d\u0430\u043c\u0463\u0441\u0442\u043d\u0438\u0447\u0435\u0441\u0442\u0432\u0430...  \n",
        "981   \u0422\u041e\u0420\u041e\u041f\u0415\u0426\u042a, \u0441\u044a 1777 \u0433\u043e\u0434\u0443 \u0433\u043e\u0440\u043e\u0434\u044a \u041f\u0441\u043a\u043e\u0432\u0441\u043a\u0430\u0433\u043e \u041d\u0430\u043c\u0463\u0441...  \n",
        "982   \u0421\u0412\u042f\u0422\u041e\u0413\u041e\u0420\u0421\u041a\u041e\u0419, \u043c\u043e\u043d\u0430\u0441\u0442\u044b\u0440\u044c \u041f\u0441\u043a\u043e\u0432\u0441\u043a\u0430\u0433\u043e \u041d\u0430\u043c\u0463\u0441\u0442\u043d\u0438\u0447\u0435\u0441...  \n",
        "983   \u041e\u041f\u041e\u0427\u041a\u0410, \u0433\u043e\u0440\u043e\u0434\u044a \u041f\u0441\u043a\u043e\u0432\u0441\u043a\u0430\u0433\u043e \u041d\u0430\u043c\u0463\u0441\u0442\u043d\u0438\u0447\u0435\u0441\u0442\u0432\u0430. \u0412\u044a \u0441...  \n",
        "1001  \u0411\u0415\u0420\u0415\u0417\u041e\u0412\u042a, \u0433\u043e\u0440\u043e\u0434\u044a \u0422\u043e\u0431\u043e\u043b\u044c\u0441\u043a\u0430\u0433\u043e \u041d\u0430\u043c\u0463\u0441\u0442\u043d\u0438\u0447\u0435\u0441\u0442\u0432\u0430. \u0421...  \n",
        "1002  \u0422\u0423\u0420\u0418\u041d\u0421\u041a\u042a, \u0441\u044a 1782 \u0433\u043e\u0434\u0443 \u0433\u043e\u0440\u043e\u0434\u044a \u0422\u043e\u0431\u043e\u043b\u044c\u0441\u043a\u0430\u0433\u043e \u041d\u0430\u043c\u0463...  \n",
        "1004  \u0422\u041e\u0411\u041e\u041b\u042c\u0421\u041a\u042a, \u0441\u044a 1782 \u0433\u043e\u0434\u0443 \u0433\u043b\u0430\u0432\u043d\u044b\u0439 \u0433\u043e\u0440\u043e\u0434\u044a \u041d\u0430\u043c\u0463\u0441\u0442\u043d...  \n",
        "\n",
        "[216 rows x 8 columns]"
       ]
      }
     ],
     "prompt_number": 21
    },
    {
     "cell_type": "code",
     "collapsed": false,
     "input": [
      "import requests, time\n",
      "def refine_loc(x,y,name):\n",
      "    url = \"http://api.geonames.org/search\"\n",
      "    north = float(y)+.6\n",
      "    south = float(y)-.6\n",
      "    east = float(x)+.6\n",
      "    west = float(x)-.6\n",
      "    name = transliterate(name,bgn_translit)\n",
      "    Q = {'type':'json','username':'jaguillette','featureClass':'P','name':name,'north':north,'south':south,'east':east,'west':west}\n",
      "    R = requests.get(url,params=Q)\n",
      "    georesponse = R.json()\n",
      "    time.sleep(1)\n",
      "    try:\n",
      "        print(georesponse['geonames'][0]['name'])\n",
      "        return georesponse['geonames'][0]['lng'], georesponse['geonames'][0]['lat']\n",
      "    except IndexError:\n",
      "        print(\"{} was not found\".format(name))\n",
      "        print(R.url)\n",
      "        return x, y"
     ],
     "language": "python",
     "metadata": {},
     "outputs": [],
     "prompt_number": 48
    },
    {
     "cell_type": "code",
     "collapsed": false,
     "input": [
      "import numpy as np"
     ],
     "language": "python",
     "metadata": {},
     "outputs": [],
     "prompt_number": 46
    },
    {
     "cell_type": "code",
     "collapsed": false,
     "input": [
      "matches['new_xcoord'], matches['new_ycoord'] = np.vectorize(refine_loc)(matches.XCOORD,matches.YCOORD,matches.name_modern_sp)"
     ],
     "language": "python",
     "metadata": {},
     "outputs": [
      {
       "output_type": "stream",
       "stream": "stdout",
       "text": [
        "Andreyevka\n",
        "Andreyevka"
       ]
      },
      {
       "output_type": "stream",
       "stream": "stdout",
       "text": [
        "\n",
        "Alekseyevka"
       ]
      },
      {
       "output_type": "stream",
       "stream": "stdout",
       "text": [
        "\n",
        "Troitsk"
       ]
      },
      {
       "output_type": "stream",
       "stream": "stdout",
       "text": [
        "\n",
        "Shadrinsk"
       ]
      },
      {
       "output_type": "stream",
       "stream": "stdout",
       "text": [
        "\n",
        "Irbit"
       ]
      },
      {
       "output_type": "stream",
       "stream": "stdout",
       "text": [
        "\n",
        "Pokrovskoye"
       ]
      },
      {
       "output_type": "stream",
       "stream": "stdout",
       "text": [
        "\n",
        "Pokrovskoye"
       ]
      },
      {
       "output_type": "stream",
       "stream": "stdout",
       "text": [
        "\n",
        "Pokrovskoye"
       ]
      },
      {
       "output_type": "stream",
       "stream": "stdout",
       "text": [
        "\n",
        "Pokrovskoye"
       ]
      },
      {
       "output_type": "stream",
       "stream": "stdout",
       "text": [
        "\n",
        "Troitskoye"
       ]
      },
      {
       "output_type": "stream",
       "stream": "stdout",
       "text": [
        "\n",
        "Troitskoye"
       ]
      },
      {
       "output_type": "stream",
       "stream": "stdout",
       "text": [
        "\n",
        "Troitskoye"
       ]
      },
      {
       "output_type": "stream",
       "stream": "stdout",
       "text": [
        "\n",
        "Troitskoye"
       ]
      },
      {
       "output_type": "stream",
       "stream": "stdout",
       "text": [
        "\n",
        "Bredikhino"
       ]
      },
      {
       "output_type": "stream",
       "stream": "stdout",
       "text": [
        "\n",
        "Rozhestvenskoye was not found"
       ]
      },
      {
       "output_type": "stream",
       "stream": "stdout",
       "text": [
        "\n",
        "http://api.geonames.org/search?name=Rozhestvenskoye&username=jaguillette&featureClass=P&east=37.575171000000005&type=json&south=53.068498&west=36.375171&north=54.268498\n",
        "Ivanovskoye"
       ]
      },
      {
       "output_type": "stream",
       "stream": "stdout",
       "text": [
        "\n",
        "Ivanovskoye"
       ]
      },
      {
       "output_type": "stream",
       "stream": "stdout",
       "text": [
        "\n",
        "Horodyshche"
       ]
      },
      {
       "output_type": "stream",
       "stream": "stdout",
       "text": [
        "\n",
        "Horodyshche"
       ]
      },
      {
       "output_type": "stream",
       "stream": "stdout",
       "text": [
        "\n",
        "Gorodishche"
       ]
      },
      {
       "output_type": "stream",
       "stream": "stdout",
       "text": [
        "\n",
        "Gorodishche"
       ]
      },
      {
       "output_type": "stream",
       "stream": "stdout",
       "text": [
        "\n",
        "Spaskoye was not found"
       ]
      },
      {
       "output_type": "stream",
       "stream": "stdout",
       "text": [
        "\n",
        "http://api.geonames.org/search?name=Spaskoye&username=jaguillette&featureClass=P&east=41.053412&type=json&south=57.161175&west=39.853412&north=58.361175\n",
        "Sem\u00ebnovskoye"
       ]
      },
      {
       "output_type": "stream",
       "stream": "stdout",
       "text": [
        "\n",
        "Bilyarsk"
       ]
      },
      {
       "output_type": "stream",
       "stream": "stdout",
       "text": [
        "\n",
        "Laishevo"
       ]
      },
      {
       "output_type": "stream",
       "stream": "stdout",
       "text": [
        "\n",
        "Spask was not found"
       ]
      },
      {
       "output_type": "stream",
       "stream": "stdout",
       "text": [
        "\n",
        "http://api.geonames.org/search?name=Spask&username=jaguillette&featureClass=P&east=43.613525&type=json&south=53.46635&west=42.413525&north=54.66635\n",
        "Tsyvil'sk was not found"
       ]
      },
      {
       "output_type": "stream",
       "stream": "stdout",
       "text": [
        "\n",
        "http://api.geonames.org/search?name=Tsyvil%27sk&username=jaguillette&featureClass=P&east=48.268387000000004&type=json&south=55.137351&west=47.068387&north=56.337351000000005\n",
        "Novomykhaylivka"
       ]
      },
      {
       "output_type": "stream",
       "stream": "stdout",
       "text": [
        "\n",
        "Beloy was not found"
       ]
      },
      {
       "output_type": "stream",
       "stream": "stdout",
       "text": [
        "\n",
        "http://api.geonames.org/search?name=Beloy&username=jaguillette&featureClass=P&east=33.52948&type=json&south=55.248054&west=32.32948&north=56.448054000000006\n",
        "Ivanivka"
       ]
      },
      {
       "output_type": "stream",
       "stream": "stdout",
       "text": [
        "\n",
        "Ivanovka"
       ]
      },
      {
       "output_type": "stream",
       "stream": "stdout",
       "text": [
        "\n",
        "Ivanovka"
       ]
      },
      {
       "output_type": "stream",
       "stream": "stdout",
       "text": [
        "\n",
        "Novo-Ivanovka"
       ]
      },
      {
       "output_type": "stream",
       "stream": "stdout",
       "text": [
        "\n",
        "Karlovka was not found"
       ]
      },
      {
       "output_type": "stream",
       "stream": "stdout",
       "text": [
        "\n",
        "http://api.geonames.org/search?name=Karlovka&username=jaguillette&featureClass=P&east=36.512892&type=json&south=46.88798499999999&west=35.312892&north=48.087984999999996\n",
        "Novopetrivka"
       ]
      },
      {
       "output_type": "stream",
       "stream": "stdout",
       "text": [
        "\n",
        "Pavlohrad"
       ]
      },
      {
       "output_type": "stream",
       "stream": "stdout",
       "text": [
        "\n",
        "Mayaki"
       ]
      },
      {
       "output_type": "stream",
       "stream": "stdout",
       "text": [
        "\n",
        "Yampol'"
       ]
      },
      {
       "output_type": "stream",
       "stream": "stdout",
       "text": [
        "\n",
        "Yampil'"
       ]
      },
      {
       "output_type": "stream",
       "stream": "stdout",
       "text": [
        "\n",
        "Izyum"
       ]
      },
      {
       "output_type": "stream",
       "stream": "stdout",
       "text": [
        "\n",
        "Dvorichna"
       ]
      },
      {
       "output_type": "stream",
       "stream": "stdout",
       "text": [
        "\n",
        "Svatova Luchka was not found"
       ]
      },
      {
       "output_type": "stream",
       "stream": "stdout",
       "text": [
        "\n",
        "http://api.geonames.org/search?name=Svatova+Luchka&username=jaguillette&featureClass=P&east=38.663939&type=json&south=48.751971&west=37.463938999999996&north=49.951971\n",
        "Kam\u2019yanka"
       ]
      },
      {
       "output_type": "stream",
       "stream": "stdout",
       "text": [
        "\n",
        "Chuhuyiv"
       ]
      },
      {
       "output_type": "stream",
       "stream": "stdout",
       "text": [
        "\n",
        "Ol\u2019khovatka"
       ]
      },
      {
       "output_type": "stream",
       "stream": "stdout",
       "text": [
        "\n",
        "Valky"
       ]
      },
      {
       "output_type": "stream",
       "stream": "stdout",
       "text": [
        "\n",
        "Krasnokutsk"
       ]
      },
      {
       "output_type": "stream",
       "stream": "stdout",
       "text": [
        "\n",
        "Bohodukhiv"
       ]
      },
      {
       "output_type": "stream",
       "stream": "stdout",
       "text": [
        "\n",
        "Okhtyrka"
       ]
      },
      {
       "output_type": "stream",
       "stream": "stdout",
       "text": [
        "\n",
        "Sumy"
       ]
      },
      {
       "output_type": "stream",
       "stream": "stdout",
       "text": [
        "\n",
        "Khotin'"
       ]
      },
      {
       "output_type": "stream",
       "stream": "stdout",
       "text": [
        "\n",
        "Bilopillya"
       ]
      },
      {
       "output_type": "stream",
       "stream": "stdout",
       "text": [
        "\n",
        "Vorozhba"
       ]
      },
      {
       "output_type": "stream",
       "stream": "stdout",
       "text": [
        "\n",
        "Lebedyn"
       ]
      },
      {
       "output_type": "stream",
       "stream": "stdout",
       "text": [
        "\n",
        "Bogorodsk"
       ]
      },
      {
       "output_type": "stream",
       "stream": "stdout",
       "text": [
        "\n",
        "Bronnitsy"
       ]
      },
      {
       "output_type": "stream",
       "stream": "stdout",
       "text": [
        "\n",
        "Lesnoye Konobeyevo"
       ]
      },
      {
       "output_type": "stream",
       "stream": "stdout",
       "text": [
        "\n",
        "Serpukhov"
       ]
      },
      {
       "output_type": "stream",
       "stream": "stdout",
       "text": [
        "\n",
        "Horki"
       ]
      },
      {
       "output_type": "stream",
       "stream": "stdout",
       "text": [
        "\n",
        "Vereya"
       ]
      },
      {
       "output_type": "stream",
       "stream": "stdout",
       "text": [
        "\n",
        "Kolomna"
       ]
      },
      {
       "output_type": "stream",
       "stream": "stdout",
       "text": [
        "\n",
        "Malino"
       ]
      },
      {
       "output_type": "stream",
       "stream": "stdout",
       "text": [
        "\n",
        "Voskresenki"
       ]
      },
      {
       "output_type": "stream",
       "stream": "stdout",
       "text": [
        "\n",
        "Zvenigorod"
       ]
      },
      {
       "output_type": "stream",
       "stream": "stdout",
       "text": [
        "\n",
        "Ruza"
       ]
      },
      {
       "output_type": "stream",
       "stream": "stdout",
       "text": [
        "\n",
        "Mozhaysk"
       ]
      },
      {
       "output_type": "stream",
       "stream": "stdout",
       "text": [
        "\n",
        "Borisov was not found"
       ]
      },
      {
       "output_type": "stream",
       "stream": "stdout",
       "text": [
        "\n",
        "http://api.geonames.org/search?name=Borisov&username=jaguillette&featureClass=P&east=36.615939000000004&type=json&south=54.829097&west=35.415939&north=56.029097\n",
        "Porech\u2019ye"
       ]
      },
      {
       "output_type": "stream",
       "stream": "stdout",
       "text": [
        "\n",
        "Volokolamsk"
       ]
      },
      {
       "output_type": "stream",
       "stream": "stdout",
       "text": [
        "\n",
        "Klin"
       ]
      },
      {
       "output_type": "stream",
       "stream": "stdout",
       "text": [
        "\n",
        "Dmitrov"
       ]
      },
      {
       "output_type": "stream",
       "stream": "stdout",
       "text": [
        "\n",
        "Ramen'ye"
       ]
      },
      {
       "output_type": "stream",
       "stream": "stdout",
       "text": [
        "\n",
        "Arkhangelsk"
       ]
      },
      {
       "output_type": "stream",
       "stream": "stdout",
       "text": [
        "\n",
        "Vytegra"
       ]
      },
      {
       "output_type": "stream",
       "stream": "stdout",
       "text": [
        "\n",
        "Serdobol\u2019"
       ]
      },
      {
       "output_type": "stream",
       "stream": "stdout",
       "text": [
        "\n",
        "Vil'manstrand was not found"
       ]
      },
      {
       "output_type": "stream",
       "stream": "stdout",
       "text": [
        "\n",
        "http://api.geonames.org/search?name=Vil%27manstrand&username=jaguillette&featureClass=P&east=28.831957000000003&type=json&south=60.448829&west=27.631957&north=61.648829000000006\n",
        "Novyy Bykiv"
       ]
      },
      {
       "output_type": "stream",
       "stream": "stdout",
       "text": [
        "\n",
        "Vepryk"
       ]
      },
      {
       "output_type": "stream",
       "stream": "stdout",
       "text": [
        "\n",
        "Nizhyn"
       ]
      },
      {
       "output_type": "stream",
       "stream": "stdout",
       "text": [
        "\n",
        "Borzna"
       ]
      },
      {
       "output_type": "stream",
       "stream": "stdout",
       "text": [
        "\n",
        "Romen was not found"
       ]
      },
      {
       "output_type": "stream",
       "stream": "stdout",
       "text": [
        "\n",
        "http://api.geonames.org/search?name=Romen&username=jaguillette&featureClass=P&east=33.798877000000005&type=json&south=50.34679&west=32.598877&north=51.54679\n",
        "Mena"
       ]
      },
      {
       "output_type": "stream",
       "stream": "stdout",
       "text": [
        "\n",
        "Voronezh"
       ]
      },
      {
       "output_type": "stream",
       "stream": "stdout",
       "text": [
        "\n",
        "Horodnya"
       ]
      },
      {
       "output_type": "stream",
       "stream": "stdout",
       "text": [
        "\n",
        "Ripky"
       ]
      },
      {
       "output_type": "stream",
       "stream": "stdout",
       "text": [
        "\n",
        "Zhizdra"
       ]
      },
      {
       "output_type": "stream",
       "stream": "stdout",
       "text": [
        "\n",
        "Kozel'sk"
       ]
      },
      {
       "output_type": "stream",
       "stream": "stdout",
       "text": [
        "\n",
        "Dobraya was not found"
       ]
      },
      {
       "output_type": "stream",
       "stream": "stdout",
       "text": [
        "\n",
        "http://api.geonames.org/search?name=Dobraya&username=jaguillette&featureClass=P&east=38.96577&type=json&south=48.599542&west=37.765769999999996&north=49.799542\n",
        "Chekalin"
       ]
      },
      {
       "output_type": "stream",
       "stream": "stdout",
       "text": [
        "\n",
        "Meshchovsk"
       ]
      },
      {
       "output_type": "stream",
       "stream": "stdout",
       "text": [
        "\n",
        "Serpeysk"
       ]
      },
      {
       "output_type": "stream",
       "stream": "stdout",
       "text": [
        "\n",
        "Peremyshl'"
       ]
      },
      {
       "output_type": "stream",
       "stream": "stdout",
       "text": [
        "\n",
        "Tarusa"
       ]
      },
      {
       "output_type": "stream",
       "stream": "stdout",
       "text": [
        "\n",
        "Borovsk"
       ]
      },
      {
       "output_type": "stream",
       "stream": "stdout",
       "text": [
        "\n",
        "Rostov"
       ]
      },
      {
       "output_type": "stream",
       "stream": "stdout",
       "text": [
        "\n",
        "Petrovskoye"
       ]
      },
      {
       "output_type": "stream",
       "stream": "stdout",
       "text": [
        "\n",
        "Petrovsk"
       ]
      },
      {
       "output_type": "stream",
       "stream": "stdout",
       "text": [
        "\n",
        "Myshkin"
       ]
      },
      {
       "output_type": "stream",
       "stream": "stdout",
       "text": [
        "\n",
        "Uglich"
       ]
      },
      {
       "output_type": "stream",
       "stream": "stdout",
       "text": [
        "\n",
        "Velikoye"
       ]
      },
      {
       "output_type": "stream",
       "stream": "stdout",
       "text": [
        "\n",
        "Mologa was not found"
       ]
      },
      {
       "output_type": "stream",
       "stream": "stdout",
       "text": [
        "\n",
        "http://api.geonames.org/search?name=Mologa&username=jaguillette&featureClass=P&east=39.17269&type=json&south=57.57251899999999&west=37.97269&north=58.772518999999996\n",
        "Glebovo"
       ]
      },
      {
       "output_type": "stream",
       "stream": "stdout",
       "text": [
        "\n",
        "Glebovo was not found"
       ]
      },
      {
       "output_type": "stream",
       "stream": "stdout",
       "text": [
        "\n",
        "http://api.geonames.org/search?name=Glebovo&username=jaguillette&featureClass=P&east=40.172395&type=json&south=57.997664&west=38.972395&north=59.197664\n",
        "Rybinsk"
       ]
      },
      {
       "output_type": "stream",
       "stream": "stdout",
       "text": [
        "\n",
        "Tutayev"
       ]
      },
      {
       "output_type": "stream",
       "stream": "stdout",
       "text": [
        "\n",
        "Romanov was not found"
       ]
      },
      {
       "output_type": "stream",
       "stream": "stdout",
       "text": [
        "\n",
        "http://api.geonames.org/search?name=Romanov&username=jaguillette&featureClass=P&east=40.333490000000005&type=json&south=57.279741&west=39.13349&north=58.479741000000004\n",
        "Lyubim"
       ]
      },
      {
       "output_type": "stream",
       "stream": "stdout",
       "text": [
        "\n",
        "Bol'shaya Kudara"
       ]
      },
      {
       "output_type": "stream",
       "stream": "stdout",
       "text": [
        "\n",
        "Irkutsk"
       ]
      },
      {
       "output_type": "stream",
       "stream": "stdout",
       "text": [
        "\n",
        "Kirensk"
       ]
      },
      {
       "output_type": "stream",
       "stream": "stdout",
       "text": [
        "\n",
        "Khvalynsk"
       ]
      },
      {
       "output_type": "stream",
       "stream": "stdout",
       "text": [
        "\n",
        "Kuznetsk"
       ]
      },
      {
       "output_type": "stream",
       "stream": "stdout",
       "text": [
        "\n",
        "Bereznyaki"
       ]
      },
      {
       "output_type": "stream",
       "stream": "stdout",
       "text": [
        "\n",
        "Atkarsk"
       ]
      },
      {
       "output_type": "stream",
       "stream": "stdout",
       "text": [
        "\n",
        "Troitsk"
       ]
      },
      {
       "output_type": "stream",
       "stream": "stdout",
       "text": [
        "\n",
        "Kromy"
       ]
      },
      {
       "output_type": "stream",
       "stream": "stdout",
       "text": [
        "\n",
        "Ostrov"
       ]
      },
      {
       "output_type": "stream",
       "stream": "stdout",
       "text": [
        "\n",
        "Krapivna"
       ]
      },
      {
       "output_type": "stream",
       "stream": "stdout",
       "text": [
        "\n",
        "Potok was not found"
       ]
      },
      {
       "output_type": "stream",
       "stream": "stdout",
       "text": [
        "\n",
        "http://api.geonames.org/search?name=Potok&username=jaguillette&featureClass=P&east=30.466289&type=json&south=50.508047999999995&west=29.266288999999997&north=51.708048\n",
        "Nosovichi"
       ]
      },
      {
       "output_type": "stream",
       "stream": "stdout",
       "text": [
        "\n",
        "Gomel"
       ]
      },
      {
       "output_type": "stream",
       "stream": "stdout",
       "text": [
        "\n",
        "Vetka"
       ]
      },
      {
       "output_type": "stream",
       "stream": "stdout",
       "text": [
        "\n",
        "Vetka"
       ]
      },
      {
       "output_type": "stream",
       "stream": "stdout",
       "text": [
        "\n",
        "Rahachow"
       ]
      },
      {
       "output_type": "stream",
       "stream": "stdout",
       "text": [
        "\n",
        "Chachersk"
       ]
      },
      {
       "output_type": "stream",
       "stream": "stdout",
       "text": [
        "\n",
        "Novyye Zhuravichi"
       ]
      },
      {
       "output_type": "stream",
       "stream": "stdout",
       "text": [
        "\n",
        "Slawharad"
       ]
      },
      {
       "output_type": "stream",
       "stream": "stdout",
       "text": [
        "\n",
        "Shklow"
       ]
      },
      {
       "output_type": "stream",
       "stream": "stdout",
       "text": [
        "\n",
        "Sukhari"
       ]
      },
      {
       "output_type": "stream",
       "stream": "stdout",
       "text": [
        "\n",
        "Shamovo"
       ]
      },
      {
       "output_type": "stream",
       "stream": "stdout",
       "text": [
        "\n",
        "Mstsislaw"
       ]
      },
      {
       "output_type": "stream",
       "stream": "stdout",
       "text": [
        "\n",
        "Monastyrshchina"
       ]
      },
      {
       "output_type": "stream",
       "stream": "stdout",
       "text": [
        "\n",
        "Ploskoye"
       ]
      },
      {
       "output_type": "stream",
       "stream": "stdout",
       "text": [
        "\n",
        "Dubrovna was not found"
       ]
      },
      {
       "output_type": "stream",
       "stream": "stdout",
       "text": [
        "\n",
        "http://api.geonames.org/search?name=Dubrovna&username=jaguillette&featureClass=P&east=31.183541&type=json&south=53.98910699999999&west=29.983541&north=55.18910699999999\n",
        "Lyady"
       ]
      },
      {
       "output_type": "stream",
       "stream": "stdout",
       "text": [
        "\n",
        "Lyubavichi"
       ]
      },
      {
       "output_type": "stream",
       "stream": "stdout",
       "text": [
        "\n",
        "Dukhovshchina"
       ]
      },
      {
       "output_type": "stream",
       "stream": "stdout",
       "text": [
        "\n",
        "Dukhovshchina"
       ]
      },
      {
       "output_type": "stream",
       "stream": "stdout",
       "text": [
        "\n",
        "Smolensk"
       ]
      },
      {
       "output_type": "stream",
       "stream": "stdout",
       "text": [
        "\n",
        "Dorogobuzh"
       ]
      },
      {
       "output_type": "stream",
       "stream": "stdout",
       "text": [
        "\n",
        "Karocha was not found"
       ]
      },
      {
       "output_type": "stream",
       "stream": "stdout",
       "text": [
        "\n",
        "http://api.geonames.org/search?name=Karocha&username=jaguillette&featureClass=P&east=37.935137000000005&type=json&south=50.259997999999996&west=36.735137&north=51.459998\n",
        "Putyvl'"
       ]
      },
      {
       "output_type": "stream",
       "stream": "stdout",
       "text": [
        "\n",
        "Ryl'sk"
       ]
      },
      {
       "output_type": "stream",
       "stream": "stdout",
       "text": [
        "\n",
        "Sudzha"
       ]
      },
      {
       "output_type": "stream",
       "stream": "stdout",
       "text": [
        "\n",
        "L'govskiy"
       ]
      },
      {
       "output_type": "stream",
       "stream": "stdout",
       "text": [
        "\n",
        "Tim"
       ]
      },
      {
       "output_type": "stream",
       "stream": "stdout",
       "text": [
        "\n",
        "Fatezh"
       ]
      },
      {
       "output_type": "stream",
       "stream": "stdout",
       "text": [
        "\n",
        "Shchigry"
       ]
      },
      {
       "output_type": "stream",
       "stream": "stdout",
       "text": [
        "\n",
        "Usman'"
       ]
      },
      {
       "output_type": "stream",
       "stream": "stdout",
       "text": [
        "\n",
        "D\u00ebmshinka"
       ]
      },
      {
       "output_type": "stream",
       "stream": "stdout",
       "text": [
        "\n",
        "Kirsanov"
       ]
      },
      {
       "output_type": "stream",
       "stream": "stdout",
       "text": [
        "\n",
        "Lipetsk"
       ]
      },
      {
       "output_type": "stream",
       "stream": "stdout",
       "text": [
        "\n",
        "Morshansk"
       ]
      },
      {
       "output_type": "stream",
       "stream": "stdout",
       "text": [
        "\n",
        "Kadom"
       ]
      },
      {
       "output_type": "stream",
       "stream": "stdout",
       "text": [
        "\n",
        "Temnikov"
       ]
      },
      {
       "output_type": "stream",
       "stream": "stdout",
       "text": [
        "\n",
        "Vadinsk"
       ]
      },
      {
       "output_type": "stream",
       "stream": "stdout",
       "text": [
        "\n",
        "Kochelayevo"
       ]
      },
      {
       "output_type": "stream",
       "stream": "stdout",
       "text": [
        "\n",
        "Insara was not found"
       ]
      },
      {
       "output_type": "stream",
       "stream": "stdout",
       "text": [
        "\n",
        "http://api.geonames.org/search?name=Insara&username=jaguillette&featureClass=P&east=45.308023&type=json&south=53.440681999999995&west=44.108022999999996&north=54.640682\n",
        "Insara was not found"
       ]
      },
      {
       "output_type": "stream",
       "stream": "stdout",
       "text": [
        "\n",
        "http://api.geonames.org/search?name=Insara&username=jaguillette&featureClass=P&east=44.828993000000004&type=json&south=53.306399&west=43.628993&north=54.506399\n",
        "Voyevodskoye"
       ]
      },
      {
       "output_type": "stream",
       "stream": "stdout",
       "text": [
        "\n",
        "Atemar"
       ]
      },
      {
       "output_type": "stream",
       "stream": "stdout",
       "text": [
        "\n",
        "Krasnoslobodsk"
       ]
      },
      {
       "output_type": "stream",
       "stream": "stdout",
       "text": [
        "\n",
        "Slobodskiye Dubrovki"
       ]
      },
      {
       "output_type": "stream",
       "stream": "stdout",
       "text": [
        "\n",
        "Pochinki"
       ]
      },
      {
       "output_type": "stream",
       "stream": "stdout",
       "text": [
        "\n",
        "Lukoyanov"
       ]
      },
      {
       "output_type": "stream",
       "stream": "stdout",
       "text": [
        "\n",
        "Arzamas"
       ]
      },
      {
       "output_type": "stream",
       "stream": "stdout",
       "text": [
        "\n",
        "Sergach"
       ]
      },
      {
       "output_type": "stream",
       "stream": "stdout",
       "text": [
        "\n",
        "Knyaginino"
       ]
      },
      {
       "output_type": "stream",
       "stream": "stdout",
       "text": [
        "\n",
        "Gorbatov"
       ]
      },
      {
       "output_type": "stream",
       "stream": "stdout",
       "text": [
        "\n",
        "Goritsy"
       ]
      },
      {
       "output_type": "stream",
       "stream": "stdout",
       "text": [
        "\n",
        "Balakhna"
       ]
      },
      {
       "output_type": "stream",
       "stream": "stdout",
       "text": [
        "\n",
        "Semyonov"
       ]
      },
      {
       "output_type": "stream",
       "stream": "stdout",
       "text": [
        "\n",
        "Sevsk"
       ]
      },
      {
       "output_type": "stream",
       "stream": "stdout",
       "text": [
        "\n",
        "Trubch\u00ebvsk"
       ]
      },
      {
       "output_type": "stream",
       "stream": "stdout",
       "text": [
        "\n",
        "Yelets"
       ]
      },
      {
       "output_type": "stream",
       "stream": "stdout",
       "text": [
        "\n",
        "Livny"
       ]
      },
      {
       "output_type": "stream",
       "stream": "stdout",
       "text": [
        "\n",
        "Bryansk"
       ]
      },
      {
       "output_type": "stream",
       "stream": "stdout",
       "text": [
        "\n",
        "Mtsensk"
       ]
      },
      {
       "output_type": "stream",
       "stream": "stdout",
       "text": [
        "\n",
        "Novosil'"
       ]
      },
      {
       "output_type": "stream",
       "stream": "stdout",
       "text": [
        "\n",
        "Yefremov"
       ]
      },
      {
       "output_type": "stream",
       "stream": "stdout",
       "text": [
        "\n",
        "Chern'"
       ]
      },
      {
       "output_type": "stream",
       "stream": "stdout",
       "text": [
        "\n",
        "Odoyev"
       ]
      },
      {
       "output_type": "stream",
       "stream": "stdout",
       "text": [
        "\n",
        "Bogoroditsk"
       ]
      },
      {
       "output_type": "stream",
       "stream": "stdout",
       "text": [
        "\n",
        "Bogoroditsk"
       ]
      },
      {
       "output_type": "stream",
       "stream": "stdout",
       "text": [
        "\n",
        "Yepifan'"
       ]
      },
      {
       "output_type": "stream",
       "stream": "stdout",
       "text": [
        "\n",
        "Ven\u00ebv"
       ]
      },
      {
       "output_type": "stream",
       "stream": "stdout",
       "text": [
        "\n",
        "Aleksin"
       ]
      },
      {
       "output_type": "stream",
       "stream": "stdout",
       "text": [
        "\n",
        "Skopin"
       ]
      },
      {
       "output_type": "stream",
       "stream": "stdout",
       "text": [
        "\n",
        "Ryazhsk"
       ]
      },
      {
       "output_type": "stream",
       "stream": "stdout",
       "text": [
        "\n",
        "Sapozhok"
       ]
      },
      {
       "output_type": "stream",
       "stream": "stdout",
       "text": [
        "\n",
        "Mikhaylov"
       ]
      },
      {
       "output_type": "stream",
       "stream": "stdout",
       "text": [
        "\n",
        "Pronsk"
       ]
      },
      {
       "output_type": "stream",
       "stream": "stdout",
       "text": [
        "\n",
        "Zaraysk"
       ]
      },
      {
       "output_type": "stream",
       "stream": "stdout",
       "text": [
        "\n",
        "Kasimov"
       ]
      },
      {
       "output_type": "stream",
       "stream": "stdout",
       "text": [
        "\n",
        "Spas"
       ]
      },
      {
       "output_type": "stream",
       "stream": "stdout",
       "text": [
        "\n",
        "Zubtsov"
       ]
      },
      {
       "output_type": "stream",
       "stream": "stdout",
       "text": [
        "\n",
        "Ostashkov"
       ]
      },
      {
       "output_type": "stream",
       "stream": "stdout",
       "text": [
        "\n",
        "Staritsa"
       ]
      },
      {
       "output_type": "stream",
       "stream": "stdout",
       "text": [
        "\n",
        "Kashin"
       ]
      },
      {
       "output_type": "stream",
       "stream": "stdout",
       "text": [
        "\n",
        "Gryazovets"
       ]
      },
      {
       "output_type": "stream",
       "stream": "stdout",
       "text": [
        "\n",
        "Lal'sk"
       ]
      },
      {
       "output_type": "stream",
       "stream": "stdout",
       "text": [
        "\n",
        "Krasnoborsk"
       ]
      },
      {
       "output_type": "stream",
       "stream": "stdout",
       "text": [
        "\n",
        "Yarensk"
       ]
      },
      {
       "output_type": "stream",
       "stream": "stdout",
       "text": [
        "\n",
        "Slobodskoy"
       ]
      },
      {
       "output_type": "stream",
       "stream": "stdout",
       "text": [
        "\n",
        "Kotel'nich"
       ]
      },
      {
       "output_type": "stream",
       "stream": "stdout",
       "text": [
        "\n",
        "Yaransk"
       ]
      },
      {
       "output_type": "stream",
       "stream": "stdout",
       "text": [
        "\n",
        "Valuyki"
       ]
      },
      {
       "output_type": "stream",
       "stream": "stdout",
       "text": [
        "\n",
        "Ostrogozhsk"
       ]
      },
      {
       "output_type": "stream",
       "stream": "stdout",
       "text": [
        "\n",
        "Korotoyak"
       ]
      },
      {
       "output_type": "stream",
       "stream": "stdout",
       "text": [
        "\n",
        "Zemlyansk"
       ]
      },
      {
       "output_type": "stream",
       "stream": "stdout",
       "text": [
        "\n",
        "Toropets"
       ]
      },
      {
       "output_type": "stream",
       "stream": "stdout",
       "text": [
        "\n",
        "Svyatogorskoy was not found"
       ]
      },
      {
       "output_type": "stream",
       "stream": "stdout",
       "text": [
        "\n",
        "http://api.geonames.org/search?name=Svyatogorskoy&username=jaguillette&featureClass=P&east=29.492161000000003&type=json&south=56.364869999999996&west=28.292161&north=57.56487\n",
        "Opochka"
       ]
      },
      {
       "output_type": "stream",
       "stream": "stdout",
       "text": [
        "\n",
        "Berezov was not found"
       ]
      },
      {
       "output_type": "stream",
       "stream": "stdout",
       "text": [
        "\n",
        "http://api.geonames.org/search?name=Berezov&username=jaguillette&featureClass=P&east=67.87843199999999&type=json&south=63.339236&west=66.678432&north=64.539236\n",
        "Turinsk"
       ]
      },
      {
       "output_type": "stream",
       "stream": "stdout",
       "text": [
        "\n",
        "Tobol'sk"
       ]
      },
      {
       "output_type": "stream",
       "stream": "stdout",
       "text": [
        "\n"
       ]
      }
     ],
     "prompt_number": 50
    },
    {
     "cell_type": "code",
     "collapsed": false,
     "input": [
      "matches.to_csv(\"imperiia/all_settle_matches_updated.csv\",encoding='utf-8')"
     ],
     "language": "python",
     "metadata": {},
     "outputs": [],
     "prompt_number": 52
    },
    {
     "cell_type": "code",
     "collapsed": false,
     "input": [
      "current_towns = pd.DataFrame.from_csv('output/hgr_test_set_5.csv')"
     ],
     "language": "python",
     "metadata": {},
     "outputs": [],
     "prompt_number": 53
    },
    {
     "cell_type": "code",
     "collapsed": false,
     "input": [
      "matches[matches.text.isin(current_towns.description.tolist())==False].to_csv(\"imperiia/new_settle_matches_updated.csv\",encoding='utf-8')"
     ],
     "language": "python",
     "metadata": {},
     "outputs": [],
     "prompt_number": 56
    },
    {
     "cell_type": "code",
     "collapsed": false,
     "input": [
      "new_matches = pd.DataFrame.from_csv(\"imperiia/new_settle_matches_updated.csv\")"
     ],
     "language": "python",
     "metadata": {},
     "outputs": [],
     "prompt_number": 57
    },
    {
     "cell_type": "code",
     "collapsed": false,
     "input": [
      "new_data = new_matches[[\"name\",\"alt_name\",\"partof_id\",\"new_xcoord\",\"new_ycoord\",\"_type\",\"source_url\",\"text\",\"name_modern_sp\",\"lc_translit\",\"admin1_partof\",\"admin2_partof\"]]"
     ],
     "language": "python",
     "metadata": {},
     "outputs": [],
     "prompt_number": 74
    },
    {
     "cell_type": "code",
     "collapsed": false,
     "input": [
      "def reverse_geocode(lng,lat):\n",
      "    keepgoing = True\n",
      "    while keepgoing == True:\n",
      "        try:\n",
      "            url = \"https://maps.googleapis.com/maps/api/geocode/json\"\n",
      "            Q = {'latlng':\"{},{}\".format(lat,lng)}\n",
      "            R = requests.get(url, params=Q)\n",
      "            #print(R.url)\n",
      "            geo_response = R.json()\n",
      "            locality = 'error'\n",
      "            admin1 = \"\"\n",
      "            for component in geo_response['results'][0]['address_components']:\n",
      "                if 'locality' in component['types']:\n",
      "                    locality = component['long_name']\n",
      "                elif 'administrative_area_level_1' in component['types']:\n",
      "                    admin1 = component['long_name']\n",
      "                elif 'country' in component['types']:\n",
      "                    country = component['long_name']\n",
      "                    countryCode = component['short_name']\n",
      "            if locality == 'error':\n",
      "                for component in geo_response['results'][0]['address_components']:\n",
      "                    if 'administrative_area_level_2' in component['types']:\n",
      "                        locality = component['long_name']\n",
      "            print(\"\\\"{0}, {1}\\\",\\\"{2}\\\",\\\"{3}\\\"\".format(locality,admin1,country,countryCode))\n",
      "            time.sleep(1)\n",
      "            keepgoing = False\n",
      "        except IndexError:\n",
      "            time.sleep(1)\n",
      "            continue\n",
      "        return \"{}, {}\".format(locality,admin1), country, countryCode"
     ],
     "language": "python",
     "metadata": {},
     "outputs": [],
     "prompt_number": 94
    },
    {
     "cell_type": "code",
     "collapsed": false,
     "input": [
      "new_data['pres_loc'], new_data['pres_country'], new_data['country_code'] = np.vectorize(reverse_geocode)(new_data.new_xcoord,new_data.new_ycoord)"
     ],
     "language": "python",
     "metadata": {},
     "outputs": [
      {
       "output_type": "stream",
       "stream": "stdout",
       "text": [
        "\"Andriivka, Kharkiv Oblast\",\"Ukraine\",\"UA\"\n",
        "\"Andriivka, Kharkiv Oblast\",\"Ukraine\",\"UA\""
       ]
      },
      {
       "output_type": "stream",
       "stream": "stdout",
       "text": [
        "\n",
        "\"Novoaidars'kyi district, Luhans'ka oblast\",\"Ukraine\",\"UA\""
       ]
      },
      {
       "output_type": "stream",
       "stream": "stdout",
       "text": [
        "\n",
        "\"Shadrinsk, Kurgan Oblast\",\"Russia\",\"RU\""
       ]
      },
      {
       "output_type": "stream",
       "stream": "stdout",
       "text": [
        "\n",
        "\"Pokrovskoye, Lipetsk Oblast\",\"Russia\",\"RU\""
       ]
      },
      {
       "output_type": "stream",
       "stream": "stdout",
       "text": [
        "\n",
        "\"Troitskoye, Moscow Oblast\",\"Russia\",\"RU\""
       ]
      },
      {
       "output_type": "stream",
       "stream": "stdout",
       "text": [
        "\n",
        "\"Dubensky District, Tula Oblast\",\"Russia\",\"RU\""
       ]
      },
      {
       "output_type": "stream",
       "stream": "stdout",
       "text": [
        "\n",
        "\"Plavsk, Tula Oblast\",\"Russia\",\"RU\""
       ]
      },
      {
       "output_type": "stream",
       "stream": "stdout",
       "text": [
        "\n",
        "\"Ivanovskoye, Moscow Oblast\",\"Russia\",\"RU\""
       ]
      },
      {
       "output_type": "stream",
       "stream": "stdout",
       "text": [
        "\n",
        "\"Nekrasovsky District, Yaroslavl Oblast\",\"Russia\",\"RU\""
       ]
      },
      {
       "output_type": "stream",
       "stream": "stdout",
       "text": [
        "\n",
        "\"Semenovskoye, Yaroslavl Oblast\",\"Russia\",\"RU\""
       ]
      },
      {
       "output_type": "stream",
       "stream": "stdout",
       "text": [
        "\n",
        "\"Zubovo-Polyansky District, Mordovia\",\"Russia\",\"RU\""
       ]
      },
      {
       "output_type": "stream",
       "stream": "stdout",
       "text": [
        "\n",
        "\"Tsivilskiy rayon, Chuvashia Republic\",\"Russia\",\"RU\""
       ]
      },
      {
       "output_type": "stream",
       "stream": "stdout",
       "text": [
        "\n",
        "\"error, Kharkiv Oblast\",\"Ukraine\",\"UA\""
       ]
      },
      {
       "output_type": "stream",
       "stream": "stdout",
       "text": [
        "\n",
        "\"Bely, Tver Oblast\",\"Russia\",\"RU\""
       ]
      },
      {
       "output_type": "stream",
       "stream": "stdout",
       "text": [
        "\n",
        "\"Kolomats'kyi district, Kharkiv Oblast\",\"Ukraine\",\"UA\""
       ]
      },
      {
       "output_type": "stream",
       "stream": "stdout",
       "text": [
        "\n",
        "\"Orikhivs'kyi district, Zaporiz'ka oblast\",\"Ukraine\",\"UA\""
       ]
      },
      {
       "output_type": "stream",
       "stream": "stdout",
       "text": [
        "\n",
        "\"Novopetrivka, Zaporiz'ka oblast\",\"Ukraine\",\"UA\""
       ]
      },
      {
       "output_type": "stream",
       "stream": "stdout",
       "text": [
        "\n",
        "\"Pavlohrad, Dnipropetrovsk Oblast\",\"Ukraine\",\"UA\""
       ]
      },
      {
       "output_type": "stream",
       "stream": "stdout",
       "text": [
        "\n",
        "\"Yampil', Sums'ka oblast\",\"Ukraine\",\"UA\""
       ]
      },
      {
       "output_type": "stream",
       "stream": "stdout",
       "text": [
        "\n",
        "\"Svativs'kyi district, Luhans'ka oblast\",\"Ukraine\",\"UA\""
       ]
      },
      {
       "output_type": "stream",
       "stream": "stdout",
       "text": [
        "\n",
        "\"Dvorichans'kyi district, Kharkiv Oblast\",\"Ukraine\",\"UA\""
       ]
      },
      {
       "output_type": "stream",
       "stream": "stdout",
       "text": [
        "\n",
        "\"Olkhovatka, Belgorod Oblast\",\"Russia\",\"RU\""
       ]
      },
      {
       "output_type": "stream",
       "stream": "stdout",
       "text": [
        "\n",
        "\"Valky, Kharkiv Oblast\",\"Ukraine\",\"UA\""
       ]
      },
      {
       "output_type": "stream",
       "stream": "stdout",
       "text": [
        "\n",
        "\"Vorozhba, Sums'ka oblast\",\"Ukraine\",\"UA\""
       ]
      },
      {
       "output_type": "stream",
       "stream": "stdout",
       "text": [
        "\n",
        "\"Lebedyn, Sums'ka oblast\",\"Ukraine\",\"UA\""
       ]
      },
      {
       "output_type": "stream",
       "stream": "stdout",
       "text": [
        "\n",
        "\"Shatsky District, Ryazan Oblast\",\"Russia\",\"RU\""
       ]
      },
      {
       "output_type": "stream",
       "stream": "stdout",
       "text": [
        "\n",
        "\"Horki, Mogilev Province\",\"Belarus\",\"BY\""
       ]
      },
      {
       "output_type": "stream",
       "stream": "stdout",
       "text": [
        "\n",
        "\"Malino, Moscow Oblast\",\"Russia\",\"RU\""
       ]
      },
      {
       "output_type": "stream",
       "stream": "stdout",
       "text": [
        "\n",
        "\"Borisovo, Moscow Oblast\",\"Russia\",\"RU\""
       ]
      },
      {
       "output_type": "stream",
       "stream": "stdout",
       "text": [
        "\n",
        "\"Porechye, Smolensk Oblast\",\"Russia\",\"RU\""
       ]
      },
      {
       "output_type": "stream",
       "stream": "stdout",
       "text": [
        "\n",
        "\"Dmitrovsky District, Moscow Oblast\",\"Russia\",\"RU\""
       ]
      },
      {
       "output_type": "stream",
       "stream": "stdout",
       "text": [
        "\n",
        "\"error, \",\"Finland\",\"FI\""
       ]
      },
      {
       "output_type": "stream",
       "stream": "stdout",
       "text": [
        "\n",
        "\"Bobrovyts'kyi district, Chernihivs'ka oblast\",\"Ukraine\",\"UA\""
       ]
      },
      {
       "output_type": "stream",
       "stream": "stdout",
       "text": [
        "\n",
        "\"Vepryk, Chernihivs'ka oblast\",\"Ukraine\",\"UA\""
       ]
      },
      {
       "output_type": "stream",
       "stream": "stdout",
       "text": [
        "\n",
        "\"Nizhyn, Chernihivs'ka oblast\",\"Ukraine\",\"UA\""
       ]
      },
      {
       "output_type": "stream",
       "stream": "stdout",
       "text": [
        "\n",
        "\"Konotops'kyi district, Sums'ka oblast\",\"Ukraine\",\"UA\""
       ]
      },
      {
       "output_type": "stream",
       "stream": "stdout",
       "text": [
        "\n",
        "\"Horodnya, Chernihivs'ka oblast\",\"Ukraine\",\"UA\""
       ]
      },
      {
       "output_type": "stream",
       "stream": "stdout",
       "text": [
        "\n",
        "\"Ripky, Chernihivs'ka oblast\",\"Ukraine\",\"UA\""
       ]
      },
      {
       "output_type": "stream",
       "stream": "stdout",
       "text": [
        "\n",
        "\"Petrovskoye, Yaroslavl Oblast\",\"Russia\",\"RU\""
       ]
      },
      {
       "output_type": "stream",
       "stream": "stdout",
       "text": [
        "\n",
        "\"Velikoye, Yaroslavl Oblast\",\"Russia\",\"RU\""
       ]
      },
      {
       "output_type": "stream",
       "stream": "stdout",
       "text": [
        "\n",
        "\"Rybinsk, Yaroslavl Oblast\",\"Russia\",\"RU\""
       ]
      },
      {
       "output_type": "stream",
       "stream": "stdout",
       "text": [
        "\n",
        "\"Rybinsky District, Yaroslavl Oblast\",\"Russia\",\"RU\""
       ]
      },
      {
       "output_type": "stream",
       "stream": "stdout",
       "text": [
        "\n",
        "\"error, Yaroslavl Oblast\",\"Russia\",\"RU\""
       ]
      },
      {
       "output_type": "stream",
       "stream": "stdout",
       "text": [
        "\n",
        "\"Tutayev, Yaroslavl Oblast\",\"Russia\",\"RU\""
       ]
      },
      {
       "output_type": "stream",
       "stream": "stdout",
       "text": [
        "\n",
        "\"Yaroslavl, Yaroslavl Oblast\",\"Russia\",\"RU\""
       ]
      },
      {
       "output_type": "stream",
       "stream": "stdout",
       "text": [
        "\n",
        "\"Kyakhtinsky District, Buryatia\",\"Russia\",\"RU\""
       ]
      },
      {
       "output_type": "stream",
       "stream": "stdout",
       "text": [
        "\n",
        "\"Irkutsk, Irkutsk Oblast\",\"Russia\",\"RU\""
       ]
      },
      {
       "output_type": "stream",
       "stream": "stdout",
       "text": [
        "\n",
        "\"Ostrov, Pskov Oblast\",\"Russia\",\"RU\""
       ]
      },
      {
       "output_type": "stream",
       "stream": "stdout",
       "text": [
        "\n",
        "\"Dobrush District, Homiel Province\",\"Belarus\",\"BY\""
       ]
      },
      {
       "output_type": "stream",
       "stream": "stdout",
       "text": [
        "\n",
        "\"Gomel, Homiel Province\",\"Belarus\",\"BY\""
       ]
      },
      {
       "output_type": "stream",
       "stream": "stdout",
       "text": [
        "\n",
        "\"Buda-Kashalyova District, Homiel Province\",\"Belarus\",\"BY\""
       ]
      },
      {
       "output_type": "stream",
       "stream": "stdout",
       "text": [
        "\n",
        "\"\u041a\u0440\u0435\u0441\u0442\u043e\u043f\u043e\u043b\u044c\u0435, Homiel Province\",\"Belarus\",\"BY\""
       ]
      },
      {
       "output_type": "stream",
       "stream": "stdout",
       "text": [
        "\n",
        "\"Sla\u016dharad, Mogilev Province\",\"Belarus\",\"BY\""
       ]
      },
      {
       "output_type": "stream",
       "stream": "stdout",
       "text": [
        "\n",
        "\"Shklo\u016d, Mogilev Province\",\"Belarus\",\"BY\""
       ]
      },
      {
       "output_type": "stream",
       "stream": "stdout",
       "text": [
        "\n",
        "\"Novoderevenkovsky District, Oryol Oblast\",\"Russia\",\"RU\""
       ]
      },
      {
       "output_type": "stream",
       "stream": "stdout",
       "text": [
        "\n",
        "\"Dubrowna District, Vitebsk Region\",\"Belarus\",\"BY\""
       ]
      },
      {
       "output_type": "stream",
       "stream": "stdout",
       "text": [
        "\n",
        "\"Liady, Vitebsk Region\",\"Belarus\",\"BY\""
       ]
      },
      {
       "output_type": "stream",
       "stream": "stdout",
       "text": [
        "\n",
        "\"Lyubavichi, Smolensk Oblast\",\"Russia\",\"RU\""
       ]
      },
      {
       "output_type": "stream",
       "stream": "stdout",
       "text": [
        "\n",
        "\"Dukhovshchina, Smolensk Oblast\",\"Russia\",\"RU\""
       ]
      },
      {
       "output_type": "stream",
       "stream": "stdout",
       "text": [
        "\n",
        "\"Safonovo, Smolensk Oblast\",\"Russia\",\"RU\""
       ]
      },
      {
       "output_type": "stream",
       "stream": "stdout",
       "text": [
        "\n",
        "\"Yablonovo, Belgorod Oblast\",\"Russia\",\"RU\""
       ]
      },
      {
       "output_type": "stream",
       "stream": "stdout",
       "text": [
        "\n",
        "\"Lgov, Kursk Oblast\",\"Russia\",\"RU\""
       ]
      },
      {
       "output_type": "stream",
       "stream": "stdout",
       "text": [
        "\n",
        "\"Tim, Kursk Oblast\",\"Russia\",\"RU\""
       ]
      },
      {
       "output_type": "stream",
       "stream": "stdout",
       "text": [
        "\n",
        "\"Shchigry, Kursk Oblast\",\"Russia\",\"RU\""
       ]
      },
      {
       "output_type": "stream",
       "stream": "stdout",
       "text": [
        "\n",
        "\"Usman, Lipetsk Oblast\",\"Russia\",\"RU\""
       ]
      },
      {
       "output_type": "stream",
       "stream": "stdout",
       "text": [
        "\n",
        "\"Demshinka, Lipetsk Oblast\",\"Russia\",\"RU\""
       ]
      },
      {
       "output_type": "stream",
       "stream": "stdout",
       "text": [
        "\n",
        "\"Kirsanov, Tambov Oblast\",\"Russia\",\"RU\""
       ]
      },
      {
       "output_type": "stream",
       "stream": "stdout",
       "text": [
        "\n",
        "\"Kadom, Ryazan Oblast\",\"Russia\",\"RU\""
       ]
      },
      {
       "output_type": "stream",
       "stream": "stdout",
       "text": [
        "\n",
        "\"Insarsky District, Mordovia\",\"Russia\",\"RU\""
       ]
      },
      {
       "output_type": "stream",
       "stream": "stdout",
       "text": [
        "\n",
        "\"Luninsky District, Penza Oblast\",\"Russia\",\"RU\""
       ]
      },
      {
       "output_type": "stream",
       "stream": "stdout",
       "text": [
        "\n",
        "\"Krasnoslobodsky District, Mordovia\",\"Russia\",\"RU\""
       ]
      },
      {
       "output_type": "stream",
       "stream": "stdout",
       "text": [
        "\n",
        "\"Pochinki, Nizhny Novgorod Oblast\",\"Russia\",\"RU\""
       ]
      },
      {
       "output_type": "stream",
       "stream": "stdout",
       "text": [
        "\n",
        "\"Lukoyanov, Nizhny Novgorod Oblast\",\"Russia\",\"RU\""
       ]
      },
      {
       "output_type": "stream",
       "stream": "stdout",
       "text": [
        "\n",
        "\"Arzamas, Nizhny Novgorod Oblast\",\"Russia\",\"RU\""
       ]
      },
      {
       "output_type": "stream",
       "stream": "stdout",
       "text": [
        "\n",
        "\"Knyaginino, Nizhny Novgorod Oblast\",\"Russia\",\"RU\""
       ]
      },
      {
       "output_type": "stream",
       "stream": "stdout",
       "text": [
        "\n",
        "\"Goritsy, Tver Oblast\",\"Russia\",\"RU\""
       ]
      },
      {
       "output_type": "stream",
       "stream": "stdout",
       "text": [
        "\n",
        "\"Balakhna, Nizhny Novgorod Oblast\",\"Russia\",\"RU\""
       ]
      },
      {
       "output_type": "stream",
       "stream": "stdout",
       "text": [
        "\n",
        "\"Semyonov, Nizhny Novgorod Oblast\",\"Russia\",\"RU\""
       ]
      },
      {
       "output_type": "stream",
       "stream": "stdout",
       "text": [
        "\n",
        "\"Trubchevsk, Bryansk Oblast\",\"Russia\",\"RU\""
       ]
      },
      {
       "output_type": "stream",
       "stream": "stdout",
       "text": [
        "\n",
        "\"Chern', Tula Oblast\",\"Russia\",\"RU\""
       ]
      },
      {
       "output_type": "stream",
       "stream": "stdout",
       "text": [
        "\n",
        "\"Venyov, Tula Oblast\",\"Russia\",\"RU\""
       ]
      },
      {
       "output_type": "stream",
       "stream": "stdout",
       "text": [
        "\n",
        "\"Skopin, Ryazan Oblast\",\"Russia\",\"RU\""
       ]
      },
      {
       "output_type": "stream",
       "stream": "stdout",
       "text": [
        "\n",
        "\"Sapozhok, Ryazan Oblast\",\"Russia\",\"RU\""
       ]
      },
      {
       "output_type": "stream",
       "stream": "stdout",
       "text": [
        "\n",
        "\"Pronsk, Ryazan Oblast\",\"Russia\",\"RU\""
       ]
      },
      {
       "output_type": "stream",
       "stream": "stdout",
       "text": [
        "\n",
        "\"Kasimov, Ryazan Oblast\",\"Russia\",\"RU\""
       ]
      },
      {
       "output_type": "stream",
       "stream": "stdout",
       "text": [
        "\n",
        "\"Belsky District, Tver Oblast\",\"Russia\",\"RU\""
       ]
      },
      {
       "output_type": "stream",
       "stream": "stdout",
       "text": [
        "\n",
        "\"Staritsa, Tver Oblast\",\"Russia\",\"RU\""
       ]
      },
      {
       "output_type": "stream",
       "stream": "stdout",
       "text": [
        "\n",
        "\"Slobodskoy, Kirov Oblast\",\"Russia\",\"RU\""
       ]
      },
      {
       "output_type": "stream",
       "stream": "stdout",
       "text": [
        "\n",
        "\"Yaransk, Kirov Oblast\",\"Russia\",\"RU\""
       ]
      },
      {
       "output_type": "stream",
       "stream": "stdout",
       "text": [
        "\n",
        "\"Pushkinskiye Gory, Pskov Oblast\",\"Russia\",\"RU\""
       ]
      },
      {
       "output_type": "stream",
       "stream": "stdout",
       "text": [
        "\n",
        "\"Opochka, Pskov Oblast\",\"Russia\",\"RU\""
       ]
      },
      {
       "output_type": "stream",
       "stream": "stdout",
       "text": [
        "\n",
        "\"error, \",\"Russia\",\"RU\""
       ]
      },
      {
       "output_type": "stream",
       "stream": "stdout",
       "text": [
        "\n",
        "\"Turinsk, Sverdlovsk Oblast\",\"Russia\",\"RU\""
       ]
      },
      {
       "output_type": "stream",
       "stream": "stdout",
       "text": [
        "\n"
       ]
      }
     ],
     "prompt_number": 95
    },
    {
     "cell_type": "code",
     "collapsed": false,
     "input": [
      "dataset = pd.DataFrame.from_csv(\"output/hgr_test_set_5.csv\")"
     ],
     "language": "python",
     "metadata": {},
     "outputs": [],
     "prompt_number": 78
    },
    {
     "cell_type": "code",
     "collapsed": false,
     "input": [
      "partof_prov_lookup_dict = dataset[dataset.partof_prov == dataset.index][['partof_prov_name']].to_dict()\n",
      "partof_uezd_lookup_dict = dataset[dataset.partof_uezd == dataset.index][['partof_uezd_name']].to_dict()"
     ],
     "language": "python",
     "metadata": {},
     "outputs": [],
     "prompt_number": 79
    },
    {
     "cell_type": "code",
     "collapsed": false,
     "input": [
      "new_data['partof_prov_name'] = new_data.admin1_partof.apply(lambda x: partof_prov_lookup_dict['partof_prov_name'][x])"
     ],
     "language": "python",
     "metadata": {},
     "outputs": [],
     "prompt_number": 80
    },
    {
     "cell_type": "code",
     "collapsed": false,
     "input": [
      "def uezd_lookup(i):\n",
      "    if not np.isnan(i):\n",
      "        return partof_uezd_lookup_dict['partof_uezd_name'][i]\n",
      "    else:\n",
      "        return None"
     ],
     "language": "python",
     "metadata": {},
     "outputs": [],
     "prompt_number": 83
    },
    {
     "cell_type": "code",
     "collapsed": false,
     "input": [
      "new_data.admin2_partof = new_data.admin2_partof.replace(102.0,101.0)\n",
      "new_data['partof_uezd_name'] = new_data.admin2_partof.apply(uezd_lookup)"
     ],
     "language": "python",
     "metadata": {},
     "outputs": [
      {
       "output_type": "stream",
       "stream": "stderr",
       "text": [
        "c:\\Anaconda3\\lib\\site-packages\\pandas\\core\\generic.py:1858: SettingWithCopyWarning: A value is trying to be set on a copy of a slice from a DataFrame.\n",
        "Try using .loc[row_index,col_indexer] = value instead\n",
        "  self[name] = value\n"
       ]
      }
     ],
     "prompt_number": 85
    },
    {
     "cell_type": "code",
     "collapsed": false,
     "input": [
      "new_data.to_csv(\"imperiia/matches_clean.csv\",encoding='utf-8')"
     ],
     "language": "python",
     "metadata": {},
     "outputs": [],
     "prompt_number": 86
    },
    {
     "cell_type": "code",
     "collapsed": false,
     "input": [
      "new_data.columns"
     ],
     "language": "python",
     "metadata": {},
     "outputs": [
      {
       "metadata": {},
       "output_type": "pyout",
       "prompt_number": 90,
       "text": [
        "Index(['name', 'alt_name', 'partof_id', 'new_xcoord', 'new_ycoord', '_type', 'source_url', 'text', 'name_modern_sp', 'lc_translit', 'admin1_partof', 'admin2_partof', 'partof_prov_name', 'partof_uezd_name'], dtype='object')"
       ]
      }
     ],
     "prompt_number": 90
    },
    {
     "cell_type": "markdown",
     "metadata": {},
     "source": [
      "Working with admin dict creation\n",
      "================================\n",
      "This should go in its own notebook, but not today."
     ]
    },
    {
     "cell_type": "code",
     "collapsed": false,
     "input": [
      "admdf = pd.DataFrame.from_dict(admin)\n",
      "admdf['name']=admdf.index\n",
      "admdf"
     ],
     "language": "python",
     "metadata": {},
     "outputs": [
      {
       "html": [
        "<div style=\"max-height:1000px;max-width:1500px;overflow:auto;\">\n",
        "<table border=\"1\" class=\"dataframe\">\n",
        "  <thead>\n",
        "    <tr style=\"text-align: right;\">\n",
        "      <th></th>\n",
        "      <th>prov_stem</th>\n",
        "      <th>uezd_stem</th>\n",
        "      <th>name</th>\n",
        "    </tr>\n",
        "  </thead>\n",
        "  <tbody>\n",
        "    <tr>\n",
        "      <th>\u0430\u043b\u0430\u0442\u044b\u0440\u044c\u0441\u043a</th>\n",
        "      <td>NaN</td>\n",
        "      <td>  40</td>\n",
        "      <td>      \u0430\u043b\u0430\u0442\u044b\u0440\u044c\u0441\u043a</td>\n",
        "    </tr>\n",
        "    <tr>\n",
        "      <th>\u0430\u043b\u0435\u043a\u0441\u0438\u043d</th>\n",
        "      <td>NaN</td>\n",
        "      <td>  41</td>\n",
        "      <td>        \u0430\u043b\u0435\u043a\u0441\u0438\u043d</td>\n",
        "    </tr>\n",
        "    <tr>\n",
        "      <th>\u0430\u043b\u0435\u043a\u0441\u0438\u043d\u0441\u043a</th>\n",
        "      <td>NaN</td>\n",
        "      <td>  41</td>\n",
        "      <td>      \u0430\u043b\u0435\u043a\u0441\u0438\u043d\u0441\u043a</td>\n",
        "    </tr>\n",
        "    <tr>\n",
        "      <th>\u0430\u0440\u0437\u0430\u043c\u0430\u0441\u043a</th>\n",
        "      <td>NaN</td>\n",
        "      <td>  42</td>\n",
        "      <td>       \u0430\u0440\u0437\u0430\u043c\u0430\u0441\u043a</td>\n",
        "    </tr>\n",
        "    <tr>\n",
        "      <th>\u0430\u0440\u0441\u0430\u043c\u0430\u0437\u0441\u043a</th>\n",
        "      <td>NaN</td>\n",
        "      <td>  42</td>\n",
        "      <td>      \u0430\u0440\u0441\u0430\u043c\u0430\u0437\u0441\u043a</td>\n",
        "    </tr>\n",
        "    <tr>\n",
        "      <th>\u0430\u0440\u0445\u0430\u043d\u0433\u0435\u043b\u044c\u0441\u043a</th>\n",
        "      <td>  2</td>\n",
        "      <td>   2</td>\n",
        "      <td>    \u0430\u0440\u0445\u0430\u043d\u0433\u0435\u043b\u044c\u0441\u043a</td>\n",
        "    </tr>\n",
        "    <tr>\n",
        "      <th>\u0430\u0445\u0442\u044b\u0440\u043a</th>\n",
        "      <td>NaN</td>\n",
        "      <td>  43</td>\n",
        "      <td>         \u0430\u0445\u0442\u044b\u0440\u043a</td>\n",
        "    </tr>\n",
        "    <tr>\n",
        "      <th>\u0430\u0445\u0442\u044b\u0440\u0441\u043a</th>\n",
        "      <td>NaN</td>\n",
        "      <td>  43</td>\n",
        "      <td>        \u0430\u0445\u0442\u044b\u0440\u0441\u043a</td>\n",
        "    </tr>\n",
        "    <tr>\n",
        "      <th>\u0431\u0430\u0431\u0438\u043d\u043e\u0432\u0435\u0446\u043a</th>\n",
        "      <td>NaN</td>\n",
        "      <td>  44</td>\n",
        "      <td>     \u0431\u0430\u0431\u0438\u043d\u043e\u0432\u0435\u0446\u043a</td>\n",
        "    </tr>\n",
        "    <tr>\n",
        "      <th>\u0431\u0435\u0436\u0435\u0446\u043a</th>\n",
        "      <td>NaN</td>\n",
        "      <td>  45</td>\n",
        "      <td>         \u0431\u0435\u0436\u0435\u0446\u043a</td>\n",
        "    </tr>\n",
        "    <tr>\n",
        "      <th>\u0431\u0435\u043b\u0435\u0432\u0441\u043a</th>\n",
        "      <td>NaN</td>\n",
        "      <td>  46</td>\n",
        "      <td>        \u0431\u0435\u043b\u0435\u0432\u0441\u043a</td>\n",
        "    </tr>\n",
        "    <tr>\n",
        "      <th>\u0431\u0435\u043b\u0438\u0446\u043a</th>\n",
        "      <td>NaN</td>\n",
        "      <td>  47</td>\n",
        "      <td>         \u0431\u0435\u043b\u0438\u0446\u043a</td>\n",
        "    </tr>\n",
        "    <tr>\n",
        "      <th>\u0431\u0435\u043b\u043e\u0433\u043e\u0440\u043e\u0434\u0441\u043a</th>\n",
        "      <td>NaN</td>\n",
        "      <td>  48</td>\n",
        "      <td>    \u0431\u0435\u043b\u043e\u0433\u043e\u0440\u043e\u0434\u0441\u043a</td>\n",
        "    </tr>\n",
        "    <tr>\n",
        "      <th>\u0431\u0435\u043b\u043e\u0437\u0435\u0440\u0441\u043a</th>\n",
        "      <td>NaN</td>\n",
        "      <td>  49</td>\n",
        "      <td>      \u0431\u0435\u043b\u043e\u0437\u0435\u0440\u0441\u043a</td>\n",
        "    </tr>\n",
        "    <tr>\n",
        "      <th>\u0431\u043e\u0433\u043e\u0440\u043e\u0434\u0441\u043a</th>\n",
        "      <td>NaN</td>\n",
        "      <td> 272</td>\n",
        "      <td>      \u0431\u043e\u0433\u043e\u0440\u043e\u0434\u0441\u043a</td>\n",
        "    </tr>\n",
        "    <tr>\n",
        "      <th>\u0431\u043e\u0440\u043e\u0432\u0441\u043a</th>\n",
        "      <td>NaN</td>\n",
        "      <td> 277</td>\n",
        "      <td>        \u0431\u043e\u0440\u043e\u0432\u0441\u043a</td>\n",
        "    </tr>\n",
        "    <tr>\n",
        "      <th>\u0432\u0430\u043b\u0443\u0435\u043a</th>\n",
        "      <td>NaN</td>\n",
        "      <td>  50</td>\n",
        "      <td>         \u0432\u0430\u043b\u0443\u0435\u043a</td>\n",
        "    </tr>\n",
        "    <tr>\n",
        "      <th>\u0432\u0435\u043b\u0438\u043a\u043e\u043b\u0443\u0446\u043a</th>\n",
        "      <td>NaN</td>\n",
        "      <td>  51</td>\n",
        "      <td>     \u0432\u0435\u043b\u0438\u043a\u043e\u043b\u0443\u0446\u043a</td>\n",
        "    </tr>\n",
        "    <tr>\n",
        "      <th>\u0432\u0435\u043d\u0435\u0432\u0441\u043a</th>\n",
        "      <td>NaN</td>\n",
        "      <td>  52</td>\n",
        "      <td>        \u0432\u0435\u043d\u0435\u0432\u0441\u043a</td>\n",
        "    </tr>\n",
        "    <tr>\n",
        "      <th>\u0432\u0435\u0440\u0435\u0439\u0441\u043a</th>\n",
        "      <td>NaN</td>\n",
        "      <td>  53</td>\n",
        "      <td>        \u0432\u0435\u0440\u0435\u0439\u0441\u043a</td>\n",
        "    </tr>\n",
        "    <tr>\n",
        "      <th>\u0432\u0435\u0440\u0445\u043d\u0435\u0443\u0434\u0438\u0432\u0441\u043a</th>\n",
        "      <td>NaN</td>\n",
        "      <td>  54</td>\n",
        "      <td>   \u0432\u0435\u0440\u0445\u043d\u0435\u0443\u0434\u0438\u0432\u0441\u043a</td>\n",
        "    </tr>\n",
        "    <tr>\n",
        "      <th>\u0432\u043b\u0430\u0434\u0438\u043c\u0435\u0440\u0441\u043a</th>\n",
        "      <td>  3</td>\n",
        "      <td> 288</td>\n",
        "      <td>     \u0432\u043b\u0430\u0434\u0438\u043c\u0435\u0440\u0441\u043a</td>\n",
        "    </tr>\n",
        "    <tr>\n",
        "      <th>\u0432\u043e\u043b\u043e\u0433\u043e\u0434\u0441\u043a</th>\n",
        "      <td>  4</td>\n",
        "      <td>  55</td>\n",
        "      <td>      \u0432\u043e\u043b\u043e\u0433\u043e\u0434\u0441\u043a</td>\n",
        "    </tr>\n",
        "    <tr>\n",
        "      <th>\u0432\u043e\u043b\u043e\u0434\u0438\u043c\u0435\u0440\u0441\u043a</th>\n",
        "      <td>NaN</td>\n",
        "      <td> 288</td>\n",
        "      <td>    \u0432\u043e\u043b\u043e\u0434\u0438\u043c\u0435\u0440\u0441\u043a</td>\n",
        "    </tr>\n",
        "    <tr>\n",
        "      <th>\u0432\u043e\u043b\u043e\u043a\u043e\u043b\u0430\u043c\u0441\u043a</th>\n",
        "      <td>NaN</td>\n",
        "      <td>  56</td>\n",
        "      <td>    \u0432\u043e\u043b\u043e\u043a\u043e\u043b\u0430\u043c\u0441\u043a</td>\n",
        "    </tr>\n",
        "    <tr>\n",
        "      <th>\u0432\u043e\u0440\u043e\u043d\u0435\u0436\u0441\u043a</th>\n",
        "      <td>  5</td>\n",
        "      <td> NaN</td>\n",
        "      <td>      \u0432\u043e\u0440\u043e\u043d\u0435\u0436\u0441\u043a</td>\n",
        "    </tr>\n",
        "    <tr>\n",
        "      <th>\u0432\u043e\u0441\u043a\u0440\u0435\u0441\u0435\u043d\u0441\u043a</th>\n",
        "      <td>NaN</td>\n",
        "      <td> 274</td>\n",
        "      <td>    \u0432\u043e\u0441\u043a\u0440\u0435\u0441\u0435\u043d\u0441\u043a</td>\n",
        "    </tr>\n",
        "    <tr>\n",
        "      <th>\u0432\u044b\u0431\u043e\u0440\u0433</th>\n",
        "      <td>  6</td>\n",
        "      <td> NaN</td>\n",
        "      <td>         \u0432\u044b\u0431\u043e\u0440\u0433</td>\n",
        "    </tr>\n",
        "    <tr>\n",
        "      <th>\u0432\u044b\u0431\u043e\u0440\u0433\u0441\u043a</th>\n",
        "      <td>NaN</td>\n",
        "      <td>  57</td>\n",
        "      <td>       \u0432\u044b\u0431\u043e\u0440\u0433\u0441\u043a</td>\n",
        "    </tr>\n",
        "    <tr>\n",
        "      <th>\u0432\u044b\u0442\u0435\u0433\u0440</th>\n",
        "      <td>NaN</td>\n",
        "      <td> 264</td>\n",
        "      <td>         \u0432\u044b\u0442\u0435\u0433\u0440</td>\n",
        "    </tr>\n",
        "    <tr>\n",
        "      <th>...</th>\n",
        "      <td>...</td>\n",
        "      <td>...</td>\n",
        "      <td>...</td>\n",
        "    </tr>\n",
        "    <tr>\n",
        "      <th>\u0441\u0442\u0430\u0440\u043e\u0431\u044b\u0445\u043e\u0432\u0441\u043a</th>\n",
        "      <td>NaN</td>\n",
        "      <td> 122</td>\n",
        "      <td>   \u0441\u0442\u0430\u0440\u043e\u0431\u044b\u0445\u043e\u0432\u0441\u043a</td>\n",
        "    </tr>\n",
        "    <tr>\n",
        "      <th>\u0441\u0442\u0430\u0440\u043e\u0434\u0443\u0431\u043e\u0432\u0441\u043a</th>\n",
        "      <td>NaN</td>\n",
        "      <td> 123</td>\n",
        "      <td>   \u0441\u0442\u0430\u0440\u043e\u0434\u0443\u0431\u043e\u0432\u0441\u043a</td>\n",
        "    </tr>\n",
        "    <tr>\n",
        "      <th>\u0441\u0443\u0437\u0434\u0430\u043b\u044c\u0441\u043a</th>\n",
        "      <td>NaN</td>\n",
        "      <td> 124</td>\n",
        "      <td>      \u0441\u0443\u0437\u0434\u0430\u043b\u044c\u0441\u043a</td>\n",
        "    </tr>\n",
        "    <tr>\n",
        "      <th>\u0441\u0443\u043c\u0441\u043a</th>\n",
        "      <td>NaN</td>\n",
        "      <td> 284</td>\n",
        "      <td>          \u0441\u0443\u043c\u0441\u043a</td>\n",
        "    </tr>\n",
        "    <tr>\n",
        "      <th>\u0442\u0430\u043c\u0431</th>\n",
        "      <td> 32</td>\n",
        "      <td> NaN</td>\n",
        "      <td>           \u0442\u0430\u043c\u0431</td>\n",
        "    </tr>\n",
        "    <tr>\n",
        "      <th>\u0442\u0430\u043c\u0431\u043e\u0432\u0441\u043a</th>\n",
        "      <td> 32</td>\n",
        "      <td> NaN</td>\n",
        "      <td>       \u0442\u0430\u043c\u0431\u043e\u0432\u0441\u043a</td>\n",
        "    </tr>\n",
        "    <tr>\n",
        "      <th>\u0442\u0432\u0435\u0440</th>\n",
        "      <td> 33</td>\n",
        "      <td> NaN</td>\n",
        "      <td>           \u0442\u0432\u0435\u0440</td>\n",
        "    </tr>\n",
        "    <tr>\n",
        "      <th>\u0442\u0432\u0435\u0440\u0441\u043a</th>\n",
        "      <td> 33</td>\n",
        "      <td> 125</td>\n",
        "      <td>         \u0442\u0432\u0435\u0440\u0441\u043a</td>\n",
        "    </tr>\n",
        "    <tr>\n",
        "      <th>\u0442\u0435\u043c\u043d\u0438\u043a\u043e\u0432\u0441\u043a</th>\n",
        "      <td>NaN</td>\n",
        "      <td> 126</td>\n",
        "      <td>     \u0442\u0435\u043c\u043d\u0438\u043a\u043e\u0432\u0441\u043a</td>\n",
        "    </tr>\n",
        "    <tr>\n",
        "      <th>\u0442\u043e\u0431\u043e\u043b\u044c\u0441\u043a</th>\n",
        "      <td> 34</td>\n",
        "      <td> NaN</td>\n",
        "      <td>       \u0442\u043e\u0431\u043e\u043b\u044c\u0441\u043a</td>\n",
        "    </tr>\n",
        "    <tr>\n",
        "      <th>\u0442\u0443\u043b</th>\n",
        "      <td> 35</td>\n",
        "      <td> NaN</td>\n",
        "      <td>            \u0442\u0443\u043b</td>\n",
        "    </tr>\n",
        "    <tr>\n",
        "      <th>\u0442\u0443\u043b\u044c\u0441\u043a</th>\n",
        "      <td> 35</td>\n",
        "      <td> 127</td>\n",
        "      <td>         \u0442\u0443\u043b\u044c\u0441\u043a</td>\n",
        "    </tr>\n",
        "    <tr>\n",
        "      <th>\u0442\u0443\u043b\u044c\u0441\u043a\u0430\u0433</th>\n",
        "      <td> 35</td>\n",
        "      <td> NaN</td>\n",
        "      <td>       \u0442\u0443\u043b\u044c\u0441\u043a\u0430\u0433</td>\n",
        "    </tr>\n",
        "    <tr>\n",
        "      <th>\u0443\u0444\u0438\u043c\u0441\u043a</th>\n",
        "      <td> 36</td>\n",
        "      <td> NaN</td>\n",
        "      <td>         \u0443\u0444\u0438\u043c\u0441\u043a</td>\n",
        "    </tr>\n",
        "    <tr>\n",
        "      <th>\u0445\u0430\u0440\u044c\u043a\u043e\u0432</th>\n",
        "      <td>NaN</td>\n",
        "      <td> 128</td>\n",
        "      <td>        \u0445\u0430\u0440\u044c\u043a\u043e\u0432</td>\n",
        "    </tr>\n",
        "    <tr>\n",
        "      <th>\u0445\u0430\u0440\u044c\u043a\u043e\u0432\u0441\u043a</th>\n",
        "      <td> 37</td>\n",
        "      <td> 128</td>\n",
        "      <td>      \u0445\u0430\u0440\u044c\u043a\u043e\u0432\u0441\u043a</td>\n",
        "    </tr>\n",
        "    <tr>\n",
        "      <th>\u0446\u0430\u0440\u0435\u0432\u043e\u043a\u043e\u043a\u0448\u0430\u0439\u0441\u043a</th>\n",
        "      <td>NaN</td>\n",
        "      <td> 279</td>\n",
        "      <td> \u0446\u0430\u0440\u0435\u0432\u043e\u043a\u043e\u043a\u0448\u0430\u0439\u0441\u043a</td>\n",
        "    </tr>\n",
        "    <tr>\n",
        "      <th>\u0446\u0430\u0440\u0435\u0432\u043e\u0441\u0430\u043d\u0447\u0443\u0440\u0441\u043a</th>\n",
        "      <td>NaN</td>\n",
        "      <td> 287</td>\n",
        "      <td> \u0446\u0430\u0440\u0435\u0432\u043e\u0441\u0430\u043d\u0447\u0443\u0440\u0441\u043a</td>\n",
        "    </tr>\n",
        "    <tr>\n",
        "      <th>\u0447\u0435\u043b\u044f\u0431\u0438\u043d\u0441\u043a</th>\n",
        "      <td>NaN</td>\n",
        "      <td> 129</td>\n",
        "      <td>      \u0447\u0435\u043b\u044f\u0431\u0438\u043d\u0441\u043a</td>\n",
        "    </tr>\n",
        "    <tr>\n",
        "      <th>\u0447\u0435\u0440\u0438\u043a\u043e\u0432\u0441\u043a</th>\n",
        "      <td>NaN</td>\n",
        "      <td> 130</td>\n",
        "      <td>      \u0447\u0435\u0440\u0438\u043a\u043e\u0432\u0441\u043a</td>\n",
        "    </tr>\n",
        "    <tr>\n",
        "      <th>\u0447\u0435\u0440\u043d\u0438\u0433</th>\n",
        "      <td>NaN</td>\n",
        "      <td> NaN</td>\n",
        "      <td>         \u0447\u0435\u0440\u043d\u0438\u0433</td>\n",
        "    </tr>\n",
        "    <tr>\n",
        "      <th>\u0447\u0435\u0440\u043d\u0438\u0433\u043e\u0432\u0441\u043a</th>\n",
        "      <td> 38</td>\n",
        "      <td> 131</td>\n",
        "      <td>     \u0447\u0435\u0440\u043d\u0438\u0433\u043e\u0432\u0441\u043a</td>\n",
        "    </tr>\n",
        "    <tr>\n",
        "      <th>\u0447\u0443\u0445\u043b\u043e\u043c\u0441\u043a</th>\n",
        "      <td>NaN</td>\n",
        "      <td> 132</td>\n",
        "      <td>       \u0447\u0443\u0445\u043b\u043e\u043c\u0441\u043a</td>\n",
        "    </tr>\n",
        "    <tr>\n",
        "      <th>\u0448\u0430\u0442\u0441\u043a</th>\n",
        "      <td>NaN</td>\n",
        "      <td> 133</td>\n",
        "      <td>          \u0448\u0430\u0442\u0441\u043a</td>\n",
        "    </tr>\n",
        "    <tr>\n",
        "      <th>\u0448\u0430\u0446\u043a</th>\n",
        "      <td>NaN</td>\n",
        "      <td> 133</td>\n",
        "      <td>           \u0448\u0430\u0446\u043a</td>\n",
        "    </tr>\n",
        "    <tr>\n",
        "      <th>\u0448\u0443</th>\n",
        "      <td>NaN</td>\n",
        "      <td> 294</td>\n",
        "      <td>             \u0448\u0443</td>\n",
        "    </tr>\n",
        "    <tr>\n",
        "      <th>\u044e\u0440\u044c\u0435\u0432\u0430-\u043f\u043e\u043b\u044c\u0441\u043a</th>\n",
        "      <td>NaN</td>\n",
        "      <td> 280</td>\n",
        "      <td>  \u044e\u0440\u044c\u0435\u0432\u0430-\u043f\u043e\u043b\u044c\u0441\u043a</td>\n",
        "    </tr>\n",
        "    <tr>\n",
        "      <th>\u044e\u0440\u044c\u0435\u0432\u0446</th>\n",
        "      <td>NaN</td>\n",
        "      <td> 134</td>\n",
        "      <td>         \u044e\u0440\u044c\u0435\u0432\u0446</td>\n",
        "    </tr>\n",
        "    <tr>\n",
        "      <th>\u044f\u0440\u0435\u043d\u0441\u043a</th>\n",
        "      <td>NaN</td>\n",
        "      <td> 135</td>\n",
        "      <td>         \u044f\u0440\u0435\u043d\u0441\u043a</td>\n",
        "    </tr>\n",
        "    <tr>\n",
        "      <th>\u044f\u0440\u043e\u0441\u043b\u0430\u0432\u0441\u043a</th>\n",
        "      <td> 39</td>\n",
        "      <td> 136</td>\n",
        "      <td>      \u044f\u0440\u043e\u0441\u043b\u0430\u0432\u0441\u043a</td>\n",
        "    </tr>\n",
        "  </tbody>\n",
        "</table>\n",
        "<p>182 rows \u00d7 3 columns</p>\n",
        "</div>"
       ],
       "metadata": {},
       "output_type": "pyout",
       "prompt_number": 78,
       "text": [
        "                prov_stem  uezd_stem            name\n",
        "\u0430\u043b\u0430\u0442\u044b\u0440\u044c\u0441\u043a             NaN         40       \u0430\u043b\u0430\u0442\u044b\u0440\u044c\u0441\u043a\n",
        "\u0430\u043b\u0435\u043a\u0441\u0438\u043d               NaN         41         \u0430\u043b\u0435\u043a\u0441\u0438\u043d\n",
        "\u0430\u043b\u0435\u043a\u0441\u0438\u043d\u0441\u043a             NaN         41       \u0430\u043b\u0435\u043a\u0441\u0438\u043d\u0441\u043a\n",
        "\u0430\u0440\u0437\u0430\u043c\u0430\u0441\u043a              NaN         42        \u0430\u0440\u0437\u0430\u043c\u0430\u0441\u043a\n",
        "\u0430\u0440\u0441\u0430\u043c\u0430\u0437\u0441\u043a             NaN         42       \u0430\u0440\u0441\u0430\u043c\u0430\u0437\u0441\u043a\n",
        "\u0430\u0440\u0445\u0430\u043d\u0433\u0435\u043b\u044c\u0441\u043a             2          2     \u0430\u0440\u0445\u0430\u043d\u0433\u0435\u043b\u044c\u0441\u043a\n",
        "\u0430\u0445\u0442\u044b\u0440\u043a                NaN         43          \u0430\u0445\u0442\u044b\u0440\u043a\n",
        "\u0430\u0445\u0442\u044b\u0440\u0441\u043a               NaN         43         \u0430\u0445\u0442\u044b\u0440\u0441\u043a\n",
        "\u0431\u0430\u0431\u0438\u043d\u043e\u0432\u0435\u0446\u043a            NaN         44      \u0431\u0430\u0431\u0438\u043d\u043e\u0432\u0435\u0446\u043a\n",
        "\u0431\u0435\u0436\u0435\u0446\u043a                NaN         45          \u0431\u0435\u0436\u0435\u0446\u043a\n",
        "\u0431\u0435\u043b\u0435\u0432\u0441\u043a               NaN         46         \u0431\u0435\u043b\u0435\u0432\u0441\u043a\n",
        "\u0431\u0435\u043b\u0438\u0446\u043a                NaN         47          \u0431\u0435\u043b\u0438\u0446\u043a\n",
        "\u0431\u0435\u043b\u043e\u0433\u043e\u0440\u043e\u0434\u0441\u043a           NaN         48     \u0431\u0435\u043b\u043e\u0433\u043e\u0440\u043e\u0434\u0441\u043a\n",
        "\u0431\u0435\u043b\u043e\u0437\u0435\u0440\u0441\u043a             NaN         49       \u0431\u0435\u043b\u043e\u0437\u0435\u0440\u0441\u043a\n",
        "\u0431\u043e\u0433\u043e\u0440\u043e\u0434\u0441\u043a             NaN        272       \u0431\u043e\u0433\u043e\u0440\u043e\u0434\u0441\u043a\n",
        "\u0431\u043e\u0440\u043e\u0432\u0441\u043a               NaN        277         \u0431\u043e\u0440\u043e\u0432\u0441\u043a\n",
        "\u0432\u0430\u043b\u0443\u0435\u043a                NaN         50          \u0432\u0430\u043b\u0443\u0435\u043a\n",
        "\u0432\u0435\u043b\u0438\u043a\u043e\u043b\u0443\u0446\u043a            NaN         51      \u0432\u0435\u043b\u0438\u043a\u043e\u043b\u0443\u0446\u043a\n",
        "\u0432\u0435\u043d\u0435\u0432\u0441\u043a               NaN         52         \u0432\u0435\u043d\u0435\u0432\u0441\u043a\n",
        "\u0432\u0435\u0440\u0435\u0439\u0441\u043a               NaN         53         \u0432\u0435\u0440\u0435\u0439\u0441\u043a\n",
        "\u0432\u0435\u0440\u0445\u043d\u0435\u0443\u0434\u0438\u0432\u0441\u043a          NaN         54    \u0432\u0435\u0440\u0445\u043d\u0435\u0443\u0434\u0438\u0432\u0441\u043a\n",
        "\u0432\u043b\u0430\u0434\u0438\u043c\u0435\u0440\u0441\u043a              3        288      \u0432\u043b\u0430\u0434\u0438\u043c\u0435\u0440\u0441\u043a\n",
        "\u0432\u043e\u043b\u043e\u0433\u043e\u0434\u0441\u043a               4         55       \u0432\u043e\u043b\u043e\u0433\u043e\u0434\u0441\u043a\n",
        "\u0432\u043e\u043b\u043e\u0434\u0438\u043c\u0435\u0440\u0441\u043a           NaN        288     \u0432\u043e\u043b\u043e\u0434\u0438\u043c\u0435\u0440\u0441\u043a\n",
        "\u0432\u043e\u043b\u043e\u043a\u043e\u043b\u0430\u043c\u0441\u043a           NaN         56     \u0432\u043e\u043b\u043e\u043a\u043e\u043b\u0430\u043c\u0441\u043a\n",
        "\u0432\u043e\u0440\u043e\u043d\u0435\u0436\u0441\u043a               5        NaN       \u0432\u043e\u0440\u043e\u043d\u0435\u0436\u0441\u043a\n",
        "\u0432\u043e\u0441\u043a\u0440\u0435\u0441\u0435\u043d\u0441\u043a           NaN        274     \u0432\u043e\u0441\u043a\u0440\u0435\u0441\u0435\u043d\u0441\u043a\n",
        "\u0432\u044b\u0431\u043e\u0440\u0433                  6        NaN          \u0432\u044b\u0431\u043e\u0440\u0433\n",
        "\u0432\u044b\u0431\u043e\u0440\u0433\u0441\u043a              NaN         57        \u0432\u044b\u0431\u043e\u0440\u0433\u0441\u043a\n",
        "\u0432\u044b\u0442\u0435\u0433\u0440                NaN        264          \u0432\u044b\u0442\u0435\u0433\u0440\n",
        "...                   ...        ...             ...\n",
        "\u0441\u0442\u0430\u0440\u043e\u0431\u044b\u0445\u043e\u0432\u0441\u043a          NaN        122    \u0441\u0442\u0430\u0440\u043e\u0431\u044b\u0445\u043e\u0432\u0441\u043a\n",
        "\u0441\u0442\u0430\u0440\u043e\u0434\u0443\u0431\u043e\u0432\u0441\u043a          NaN        123    \u0441\u0442\u0430\u0440\u043e\u0434\u0443\u0431\u043e\u0432\u0441\u043a\n",
        "\u0441\u0443\u0437\u0434\u0430\u043b\u044c\u0441\u043a             NaN        124       \u0441\u0443\u0437\u0434\u0430\u043b\u044c\u0441\u043a\n",
        "\u0441\u0443\u043c\u0441\u043a                 NaN        284           \u0441\u0443\u043c\u0441\u043a\n",
        "\u0442\u0430\u043c\u0431                   32        NaN            \u0442\u0430\u043c\u0431\n",
        "\u0442\u0430\u043c\u0431\u043e\u0432\u0441\u043a               32        NaN        \u0442\u0430\u043c\u0431\u043e\u0432\u0441\u043a\n",
        "\u0442\u0432\u0435\u0440                   33        NaN            \u0442\u0432\u0435\u0440\n",
        "\u0442\u0432\u0435\u0440\u0441\u043a                 33        125          \u0442\u0432\u0435\u0440\u0441\u043a\n",
        "\u0442\u0435\u043c\u043d\u0438\u043a\u043e\u0432\u0441\u043a            NaN        126      \u0442\u0435\u043c\u043d\u0438\u043a\u043e\u0432\u0441\u043a\n",
        "\u0442\u043e\u0431\u043e\u043b\u044c\u0441\u043a               34        NaN        \u0442\u043e\u0431\u043e\u043b\u044c\u0441\u043a\n",
        "\u0442\u0443\u043b                    35        NaN             \u0442\u0443\u043b\n",
        "\u0442\u0443\u043b\u044c\u0441\u043a                 35        127          \u0442\u0443\u043b\u044c\u0441\u043a\n",
        "\u0442\u0443\u043b\u044c\u0441\u043a\u0430\u0433               35        NaN        \u0442\u0443\u043b\u044c\u0441\u043a\u0430\u0433\n",
        "\u0443\u0444\u0438\u043c\u0441\u043a                 36        NaN          \u0443\u0444\u0438\u043c\u0441\u043a\n",
        "\u0445\u0430\u0440\u044c\u043a\u043e\u0432               NaN        128         \u0445\u0430\u0440\u044c\u043a\u043e\u0432\n",
        "\u0445\u0430\u0440\u044c\u043a\u043e\u0432\u0441\u043a              37        128       \u0445\u0430\u0440\u044c\u043a\u043e\u0432\u0441\u043a\n",
        "\u0446\u0430\u0440\u0435\u0432\u043e\u043a\u043e\u043a\u0448\u0430\u0439\u0441\u043a        NaN        279  \u0446\u0430\u0440\u0435\u0432\u043e\u043a\u043e\u043a\u0448\u0430\u0439\u0441\u043a\n",
        "\u0446\u0430\u0440\u0435\u0432\u043e\u0441\u0430\u043d\u0447\u0443\u0440\u0441\u043a        NaN        287  \u0446\u0430\u0440\u0435\u0432\u043e\u0441\u0430\u043d\u0447\u0443\u0440\u0441\u043a\n",
        "\u0447\u0435\u043b\u044f\u0431\u0438\u043d\u0441\u043a             NaN        129       \u0447\u0435\u043b\u044f\u0431\u0438\u043d\u0441\u043a\n",
        "\u0447\u0435\u0440\u0438\u043a\u043e\u0432\u0441\u043a             NaN        130       \u0447\u0435\u0440\u0438\u043a\u043e\u0432\u0441\u043a\n",
        "\u0447\u0435\u0440\u043d\u0438\u0433                NaN        NaN          \u0447\u0435\u0440\u043d\u0438\u0433\n",
        "\u0447\u0435\u0440\u043d\u0438\u0433\u043e\u0432\u0441\u043a             38        131      \u0447\u0435\u0440\u043d\u0438\u0433\u043e\u0432\u0441\u043a\n",
        "\u0447\u0443\u0445\u043b\u043e\u043c\u0441\u043a              NaN        132        \u0447\u0443\u0445\u043b\u043e\u043c\u0441\u043a\n",
        "\u0448\u0430\u0442\u0441\u043a                 NaN        133           \u0448\u0430\u0442\u0441\u043a\n",
        "\u0448\u0430\u0446\u043a                  NaN        133            \u0448\u0430\u0446\u043a\n",
        "\u0448\u0443                    NaN        294              \u0448\u0443\n",
        "\u044e\u0440\u044c\u0435\u0432\u0430-\u043f\u043e\u043b\u044c\u0441\u043a         NaN        280   \u044e\u0440\u044c\u0435\u0432\u0430-\u043f\u043e\u043b\u044c\u0441\u043a\n",
        "\u044e\u0440\u044c\u0435\u0432\u0446                NaN        134          \u044e\u0440\u044c\u0435\u0432\u0446\n",
        "\u044f\u0440\u0435\u043d\u0441\u043a                NaN        135          \u044f\u0440\u0435\u043d\u0441\u043a\n",
        "\u044f\u0440\u043e\u0441\u043b\u0430\u0432\u0441\u043a              39        136       \u044f\u0440\u043e\u0441\u043b\u0430\u0432\u0441\u043a\n",
        "\n",
        "[182 rows x 3 columns]"
       ]
      }
     ],
     "prompt_number": 78
    },
    {
     "cell_type": "code",
     "collapsed": false,
     "input": [
      "import nltk\n",
      "ru_stemmer = nltk.stem.SnowballStemmer('russian')\n",
      "\n",
      "import re,json\n",
      "from lxml import html\n",
      "\n",
      "lookup_dict = {}\n",
      "with open(\"special_cases.json\",'r') as fp:\n",
      "    lookup_dict = json.load(fp)\n",
      "\n",
      "def ortho_rules(text,lookup_dict):\n",
      "    \"\"\"\n",
      "    Takes a text string and a lookup dict as input\n",
      "    Removes any lingering html tags\n",
      "    Breaks the string down into component words with split\n",
      "    Uses replacements to modernize orthography\n",
      "    Returns re-assembled text with modern orthography\n",
      "    \"\"\"\n",
      "    if text is not None:\n",
      "        text = html.fromstring(text).text_content()\n",
      "        textlist = text.split(' ')\n",
      "        out_list = []\n",
      "        for word in textlist:\n",
      "            if word in [',','.',';',':']:\n",
      "                out_list.append(word)\n",
      "            word = word.strip(',.;:')\n",
      "            if word in lookup_dict:\n",
      "                word = lookup_dict[word]\n",
      "                out_list.append(word)\n",
      "            else:\n",
      "                word = re.sub(\"[\u042a\u044a]$\",'',word)\n",
      "                word = re.sub(r\"^([\u0447\u0435]{0,2}[\u0447]?[\u0432\u0431\u043d\u0440]?[\u0432\u0435\u043e\u0430\u0438])\u0437([\u041f\u0424\u041a\u0422\u0428\u0421\u0427\u043f\u0444\u043a\u0442\u0448\u0441\u0447])\",r\"\\1\u0441\\2\",word,re.IGNORECASE)\n",
      "                word = re.sub(\"\u0430\u0433\u043e$\",\"\u043e\u0433\u043e\",word,re.IGNORECASE)\n",
      "                word = re.sub(\"\u044f\u0433\u043e$\",\"\u0435\u0433\u043e\",word,re.IGNORECASE)\n",
      "                word = re.sub(\"\u044b\u044f$\",\"\u044b\u0435\",word,re.IGNORECASE)\n",
      "                word = re.sub(\"i\u044f$\",\"\u0438\u0435\",word,re.IGNORECASE)\n",
      "                word = word.replace('i','\u0438') #english\n",
      "                word = word.replace('I','\u0418') #english\n",
      "                word = word.replace('\u0456','\u0438') #cyrillic\n",
      "                word = word.replace('\u0406','\u0418') #cyrillic\n",
      "                word = word.replace('\u0462','\u0415')\n",
      "                word = word.replace('\u0463','\u0435')\n",
      "                out_list.append(word)\n",
      "        out_str = ' '.join(out_list)\n",
      "        return out_str\n",
      "    else:\n",
      "        return \"None\""
     ],
     "language": "python",
     "metadata": {},
     "outputs": [],
     "prompt_number": 23
    },
    {
     "cell_type": "code",
     "collapsed": false,
     "input": [
      "admdf['name_stem'] = admdf.name.apply(ortho_rules,args=[lookup_dict]).apply(ru_stemmer.stem)"
     ],
     "language": "python",
     "metadata": {},
     "outputs": [],
     "prompt_number": 26
    },
    {
     "cell_type": "code",
     "collapsed": false,
     "input": [
      "admdf.to_json('admindf.json')"
     ],
     "language": "python",
     "metadata": {},
     "outputs": [],
     "prompt_number": 31
    },
    {
     "cell_type": "code",
     "collapsed": false,
     "input": [
      "admdf.pivot_table(index='name_stem').to_json('admindf.json')"
     ],
     "language": "python",
     "metadata": {},
     "outputs": [],
     "prompt_number": 33
    },
    {
     "cell_type": "code",
     "collapsed": false,
     "input": [
      "with open('admindf.json','r') as fp:\n",
      "    admin_lookup = json.load(fp)"
     ],
     "language": "python",
     "metadata": {},
     "outputs": [],
     "prompt_number": 34
    },
    {
     "cell_type": "code",
     "collapsed": false,
     "input": [
      "admin_lookup['uezd_stem']['\u0434\u043e\u043d\u043a\u043e\u0432\u0441\u043a']"
     ],
     "language": "python",
     "metadata": {},
     "outputs": [
      {
       "metadata": {},
       "output_type": "pyout",
       "prompt_number": 35,
       "text": [
        "62.0"
       ]
      }
     ],
     "prompt_number": 35
    }
   ],
   "metadata": {}
  }
 ]
}