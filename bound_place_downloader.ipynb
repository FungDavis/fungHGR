{
 "metadata": {
  "name": "",
  "signature": "sha256:c662c2bd41f6fdf539d9353ff7105f9e326fa8ca84c666dc33afc08db477e6d3"
 },
 "nbformat": 3,
 "nbformat_minor": 0,
 "worksheets": [
  {
   "cells": [
    {
     "cell_type": "code",
     "collapsed": false,
     "input": [
      "import time, requests"
     ],
     "language": "python",
     "metadata": {},
     "outputs": [],
     "prompt_number": 68
    },
    {
     "cell_type": "code",
     "collapsed": false,
     "input": [
      "south=47.716667\n",
      "west=32.183333\n",
      "east=40.183333\n",
      "north=55.716667\n",
      "spacing = 1"
     ],
     "language": "python",
     "metadata": {},
     "outputs": [],
     "prompt_number": 50
    },
    {
     "cell_type": "code",
     "collapsed": false,
     "input": [
      "nslist = []\n",
      "while south < north:\n",
      "    nslist.append(south)\n",
      "    south+=spacing\n",
      "nslist.append(north)"
     ],
     "language": "python",
     "metadata": {},
     "outputs": [],
     "prompt_number": 51
    },
    {
     "cell_type": "code",
     "collapsed": false,
     "input": [
      "welist = []\n",
      "while west < east:\n",
      "    welist.append(west)\n",
      "    west+=spacing\n",
      "welist.append(east)"
     ],
     "language": "python",
     "metadata": {},
     "outputs": [],
     "prompt_number": 52
    },
    {
     "cell_type": "code",
     "collapsed": false,
     "input": [
      "coordslist = []\n",
      "for s in range(0,len(nslist)-1):\n",
      "    for w in range(0,len(welist)-1):\n",
      "        out = {}\n",
      "        out['north'] = nslist[s+1]\n",
      "        out['south'] = nslist[s]\n",
      "        out['east'] = welist[w+1]\n",
      "        out['west'] = welist[w]\n",
      "        coordslist.append(out)"
     ],
     "language": "python",
     "metadata": {},
     "outputs": [],
     "prompt_number": 53
    },
    {
     "cell_type": "code",
     "collapsed": false,
     "input": [
      "c = coordslist[0]\n",
      "area_places = []\n",
      "url = \"http://api.geonames.org/search\"\n",
      "Q = {\"type\":'json','username':'jaguillette','featureClass':'P','south':c['south'],'north':c['north'],'east':c['east'],'west':c['west']}\n",
      "R = requests.get(url,params=Q)\n",
      "print(R.url)\n",
      "response = R.json()\n",
      "if response['totalResultsCount'] > 5000:\n",
      "    print('Too many results. Need to shrink spacing')\n",
      "else:\n",
      "    area_places.extend(response['geonames'])\n",
      "    resultsCount = response['totalResultsCount']\n",
      "    for p in range(100,resultsCount,100):\n",
      "        Q['startrow'] = p\n",
      "        R = requests.get(url,params=Q)\n",
      "        print(R.url)\n",
      "        response = R.json()\n",
      "        area_places.extend(response['geonames'])"
     ],
     "language": "python",
     "metadata": {},
     "outputs": [
      {
       "output_type": "stream",
       "stream": "stdout",
       "text": [
        "http://api.geonames.org/search?north=48.716667&featureClass=P&username=jaguillette&west=32.183333&type=json&east=33.183333&south=47.716667\n",
        "http://api.geonames.org/search?startrow=100&featureClass=P&username=jaguillette&west=32.183333&type=json&east=33.183333&north=48.716667&south=47.716667"
       ]
      },
      {
       "output_type": "stream",
       "stream": "stdout",
       "text": [
        "\n",
        "http://api.geonames.org/search?startrow=200&featureClass=P&username=jaguillette&west=32.183333&type=json&east=33.183333&north=48.716667&south=47.716667"
       ]
      },
      {
       "output_type": "stream",
       "stream": "stdout",
       "text": [
        "\n"
       ]
      }
     ],
     "prompt_number": 66
    },
    {
     "cell_type": "code",
     "collapsed": false,
     "input": [
      "area_places"
     ],
     "language": "python",
     "metadata": {},
     "outputs": [
      {
       "metadata": {},
       "output_type": "pyout",
       "prompt_number": 67,
       "text": [
        "[{'toponymName': 'Kirovohrad',\n",
        "  'name': 'Kirovohrad',\n",
        "  'fclName': 'city, village,...',\n",
        "  'countryName': 'Ukraine',\n",
        "  'lat': '48.5132',\n",
        "  'countryCode': 'UA',\n",
        "  'adminCode1': '10',\n",
        "  'population': 249454,\n",
        "  'fcode': 'PPLA',\n",
        "  'adminName1': 'Kirovohrad',\n",
        "  'lng': '32.2597',\n",
        "  'countryId': '690791',\n",
        "  'fcl': 'P',\n",
        "  'geonameId': 705812,\n",
        "  'fcodeName': 'seat of a first-order administrative division'},\n",
        " {'toponymName': 'Oleksandriya',\n",
        "  'name': 'Oleksandriya',\n",
        "  'fclName': 'city, village,...',\n",
        "  'countryName': 'Ukraine',\n",
        "  'lat': '48.66961',\n",
        "  'countryCode': 'UA',\n",
        "  'adminCode1': '10',\n",
        "  'population': 103000,\n",
        "  'fcode': 'PPLA2',\n",
        "  'adminName1': 'Kirovohrad',\n",
        "  'lng': '33.11593',\n",
        "  'countryId': '690791',\n",
        "  'fcl': 'P',\n",
        "  'geonameId': 698625,\n",
        "  'fcodeName': 'seat of a second-order administrative division'},\n",
        " {'toponymName': 'Znomenka',\n",
        "  'name': 'Znam\u201dyanka',\n",
        "  'fclName': 'city, village,...',\n",
        "  'countryName': 'Ukraine',\n",
        "  'lat': '48.71278',\n",
        "  'countryCode': 'UA',\n",
        "  'adminCode1': '10',\n",
        "  'population': 28318,\n",
        "  'fcode': 'PPLA2',\n",
        "  'adminName1': 'Kirovohrad',\n",
        "  'lng': '32.66472',\n",
        "  'countryId': '690791',\n",
        "  'fcl': 'P',\n",
        "  'geonameId': 686919,\n",
        "  'fcodeName': 'seat of a second-order administrative division'},\n",
        " {'toponymName': \"Dolyns'ka\",\n",
        "  'name': \"Dolyns'ka\",\n",
        "  'fclName': 'city, village,...',\n",
        "  'countryName': 'Ukraine',\n",
        "  'lat': '48.11041',\n",
        "  'countryCode': 'UA',\n",
        "  'adminCode1': '10',\n",
        "  'population': 34267,\n",
        "  'fcode': 'PPL',\n",
        "  'adminName1': 'Kirovohrad',\n",
        "  'lng': '32.76449',\n",
        "  'countryId': '690791',\n",
        "  'fcl': 'P',\n",
        "  'geonameId': 709782,\n",
        "  'fcodeName': 'populated place'},\n",
        " {'toponymName': 'Pantayivka',\n",
        "  'name': 'Pantayivka',\n",
        "  'fclName': 'city, village,...',\n",
        "  'countryName': 'Ukraine',\n",
        "  'lat': '48.674',\n",
        "  'countryCode': 'UA',\n",
        "  'adminCode1': '10',\n",
        "  'population': 2918,\n",
        "  'fcode': 'PPL',\n",
        "  'adminName1': 'Kirovohrad',\n",
        "  'lng': '32.8841',\n",
        "  'countryId': '690791',\n",
        "  'fcl': 'P',\n",
        "  'geonameId': 698008,\n",
        "  'fcodeName': 'populated place'},\n",
        " {'toponymName': 'Novyy Starodub',\n",
        "  'name': 'Novyy Starodub',\n",
        "  'fclName': 'city, village,...',\n",
        "  'countryName': 'Ukraine',\n",
        "  'lat': '48.5158',\n",
        "  'countryCode': 'UA',\n",
        "  'adminCode1': '10',\n",
        "  'population': 4777,\n",
        "  'fcode': 'PPL',\n",
        "  'adminName1': 'Kirovohrad',\n",
        "  'lng': '33.17329',\n",
        "  'countryId': '690791',\n",
        "  'fcl': 'P',\n",
        "  'geonameId': 698869,\n",
        "  'fcodeName': 'populated place'},\n",
        " {'toponymName': 'Nova Praha',\n",
        "  'name': 'Nova Praha',\n",
        "  'fclName': 'city, village,...',\n",
        "  'countryName': 'Ukraine',\n",
        "  'lat': '48.56821',\n",
        "  'countryCode': 'UA',\n",
        "  'adminCode1': '10',\n",
        "  'population': 7513,\n",
        "  'fcode': 'PPL',\n",
        "  'adminName1': 'Kirovohrad',\n",
        "  'lng': '32.90273',\n",
        "  'countryId': '690791',\n",
        "  'fcl': 'P',\n",
        "  'geonameId': 699802,\n",
        "  'fcodeName': 'populated place'},\n",
        " {'toponymName': 'Dymytrove',\n",
        "  'name': 'Dymytrove',\n",
        "  'fclName': 'city, village,...',\n",
        "  'countryName': 'Ukraine',\n",
        "  'lat': '48.60767',\n",
        "  'countryCode': 'UA',\n",
        "  'adminCode1': '10',\n",
        "  'population': 5410,\n",
        "  'fcode': 'PPL',\n",
        "  'adminName1': 'Kirovohrad',\n",
        "  'lng': '32.98347',\n",
        "  'countryId': '690791',\n",
        "  'fcl': 'P',\n",
        "  'geonameId': 710032,\n",
        "  'fcodeName': 'populated place'},\n",
        " {'toponymName': 'Molodizhne',\n",
        "  'name': 'Molodizhne',\n",
        "  'fclName': 'city, village,...',\n",
        "  'countryName': 'Ukraine',\n",
        "  'lat': '48.17732',\n",
        "  'countryCode': 'UA',\n",
        "  'adminCode1': '10',\n",
        "  'population': 1541,\n",
        "  'fcode': 'PPL',\n",
        "  'adminName1': 'Kirovohrad',\n",
        "  'lng': '32.66015',\n",
        "  'countryId': '690791',\n",
        "  'fcl': 'P',\n",
        "  'geonameId': 700834,\n",
        "  'fcodeName': 'populated place'},\n",
        " {'toponymName': 'Ustynivka',\n",
        "  'name': 'Ustynivka',\n",
        "  'fclName': 'city, village,...',\n",
        "  'countryName': 'Ukraine',\n",
        "  'lat': '47.95507',\n",
        "  'countryCode': 'UA',\n",
        "  'adminCode1': '10',\n",
        "  'population': 4003,\n",
        "  'fcode': 'PPLA2',\n",
        "  'adminName1': 'Kirovohrad',\n",
        "  'lng': '32.53674',\n",
        "  'countryId': '690791',\n",
        "  'fcl': 'P',\n",
        "  'geonameId': 690600,\n",
        "  'fcodeName': 'seat of a second-order administrative division'},\n",
        " {'toponymName': 'Kompaniyivka',\n",
        "  'name': 'Kompaniyivka',\n",
        "  'fclName': 'city, village,...',\n",
        "  'countryName': 'Ukraine',\n",
        "  'lat': '48.25115',\n",
        "  'countryCode': 'UA',\n",
        "  'adminCode1': '10',\n",
        "  'population': 4934,\n",
        "  'fcode': 'PPLA2',\n",
        "  'adminName1': 'Kirovohrad',\n",
        "  'lng': '32.20795',\n",
        "  'countryId': '690791',\n",
        "  'fcl': 'P',\n",
        "  'geonameId': 705198,\n",
        "  'fcodeName': 'seat of a second-order administrative division'},\n",
        " {'toponymName': 'Kazanka',\n",
        "  'name': 'Kazanka',\n",
        "  'fclName': 'city, village,...',\n",
        "  'countryName': 'Ukraine',\n",
        "  'lat': '47.84625',\n",
        "  'countryCode': 'UA',\n",
        "  'adminCode1': '16',\n",
        "  'population': 8010,\n",
        "  'fcode': 'PPLA2',\n",
        "  'adminName1': 'Mykolaiv',\n",
        "  'lng': '32.82177',\n",
        "  'countryId': '690791',\n",
        "  'fcl': 'P',\n",
        "  'geonameId': 706580,\n",
        "  'fcodeName': 'seat of a second-order administrative division'},\n",
        " {'toponymName': 'Subottsi',\n",
        "  'name': 'Subottsi',\n",
        "  'fclName': 'city, village,...',\n",
        "  'countryName': 'Ukraine',\n",
        "  'lat': '48.65545',\n",
        "  'countryCode': 'UA',\n",
        "  'adminCode1': '10',\n",
        "  'population': 3095,\n",
        "  'fcode': 'PPL',\n",
        "  'adminName1': 'Kirovohrad',\n",
        "  'lng': '32.52093',\n",
        "  'countryId': '690791',\n",
        "  'fcl': 'P',\n",
        "  'geonameId': 692317,\n",
        "  'fcodeName': 'populated place'},\n",
        " {'toponymName': 'Adzhamka',\n",
        "  'name': 'Adzhamka',\n",
        "  'fclName': 'city, village,...',\n",
        "  'countryName': 'Ukraine',\n",
        "  'lat': '48.54244',\n",
        "  'countryCode': 'UA',\n",
        "  'adminCode1': '10',\n",
        "  'population': 3859,\n",
        "  'fcode': 'PPL',\n",
        "  'adminName1': 'Kirovohrad',\n",
        "  'lng': '32.53542',\n",
        "  'countryId': '690791',\n",
        "  'fcl': 'P',\n",
        "  'geonameId': 713784,\n",
        "  'fcodeName': 'populated place'},\n",
        " {'toponymName': 'Novhorodka',\n",
        "  'name': 'Novhorodka',\n",
        "  'fclName': 'city, village,...',\n",
        "  'countryName': 'Ukraine',\n",
        "  'lat': '48.36506',\n",
        "  'countryCode': 'UA',\n",
        "  'adminCode1': '10',\n",
        "  'population': 6405,\n",
        "  'fcode': 'PPLA2',\n",
        "  'adminName1': 'Kirovohrad',\n",
        "  'lng': '32.65785',\n",
        "  'countryId': '690791',\n",
        "  'fcl': 'P',\n",
        "  'geonameId': 699756,\n",
        "  'fcodeName': 'seat of a second-order administrative division'},\n",
        " {'toponymName': 'Vysokiye Bayraki',\n",
        "  'name': 'Vysokiye Bayraki',\n",
        "  'fclName': 'city, village,...',\n",
        "  'countryName': 'Ukraine',\n",
        "  'lat': '48.60695',\n",
        "  'countryCode': 'UA',\n",
        "  'adminCode1': '10',\n",
        "  'population': 0,\n",
        "  'fcode': 'PPL',\n",
        "  'adminName1': 'Kirovohrad',\n",
        "  'lng': '32.33692',\n",
        "  'countryId': '690791',\n",
        "  'fcl': 'P',\n",
        "  'geonameId': 688694,\n",
        "  'fcodeName': 'populated place'},\n",
        " {'toponymName': 'Vershino-Kamenka',\n",
        "  'name': 'Vershyno-Kam\u201dyanka',\n",
        "  'fclName': 'city, village,...',\n",
        "  'countryName': 'Ukraine',\n",
        "  'lat': '48.44231',\n",
        "  'countryCode': 'UA',\n",
        "  'adminCode1': '10',\n",
        "  'population': 0,\n",
        "  'fcode': 'PPL',\n",
        "  'adminName1': 'Kirovohrad',\n",
        "  'lng': '32.72524',\n",
        "  'countryId': '690791',\n",
        "  'fcl': 'P',\n",
        "  'geonameId': 689786,\n",
        "  'fcodeName': 'populated place'},\n",
        " {'toponymName': 'Ingulo-Kamenka',\n",
        "  'name': 'Ingulo-Kamenka',\n",
        "  'fclName': 'city, village,...',\n",
        "  'countryName': 'Ukraine',\n",
        "  'lat': '48.26522',\n",
        "  'countryCode': 'UA',\n",
        "  'adminCode1': '10',\n",
        "  'population': 0,\n",
        "  'fcode': 'PPL',\n",
        "  'adminName1': 'Kirovohrad',\n",
        "  'lng': '32.51804',\n",
        "  'countryId': '690791',\n",
        "  'fcl': 'P',\n",
        "  'geonameId': 707596,\n",
        "  'fcodeName': 'populated place'},\n",
        " {'toponymName': 'Holovkivka',\n",
        "  'name': 'Holovkivka',\n",
        "  'fclName': 'city, village,...',\n",
        "  'countryName': 'Ukraine',\n",
        "  'lat': '48.57414',\n",
        "  'countryCode': 'UA',\n",
        "  'adminCode1': '10',\n",
        "  'population': 0,\n",
        "  'fcode': 'PPL',\n",
        "  'adminName1': 'Kirovohrad',\n",
        "  'lng': '33.06219',\n",
        "  'countryId': '690791',\n",
        "  'fcl': 'P',\n",
        "  'geonameId': 708561,\n",
        "  'fcodeName': 'populated place'},\n",
        " {'toponymName': 'Kutsivka',\n",
        "  'name': 'Kutsivka',\n",
        "  'fclName': 'city, village,...',\n",
        "  'countryName': 'Ukraine',\n",
        "  'lat': '48.31697',\n",
        "  'countryCode': 'UA',\n",
        "  'adminCode1': '10',\n",
        "  'population': 0,\n",
        "  'fcode': 'PPL',\n",
        "  'adminName1': 'Kirovohrad',\n",
        "  'lng': '32.78896',\n",
        "  'countryId': '690791',\n",
        "  'fcl': 'P',\n",
        "  'geonameId': 828202,\n",
        "  'fcodeName': 'populated place'},\n",
        " {'toponymName': 'Novoromanivka',\n",
        "  'name': 'Novoromanivka',\n",
        "  'fclName': 'city, village,...',\n",
        "  'countryName': 'Ukraine',\n",
        "  'lat': '48.62439',\n",
        "  'countryCode': 'UA',\n",
        "  'adminCode1': '10',\n",
        "  'population': 0,\n",
        "  'fcode': 'PPL',\n",
        "  'adminName1': 'Kirovohrad',\n",
        "  'lng': '32.58306',\n",
        "  'countryId': '690791',\n",
        "  'fcl': 'P',\n",
        "  'geonameId': 828204,\n",
        "  'fcodeName': 'populated place'},\n",
        " {'toponymName': 'Kirove',\n",
        "  'name': 'Kirove',\n",
        "  'fclName': 'city, village,...',\n",
        "  'countryName': 'Ukraine',\n",
        "  'lat': '48.20178',\n",
        "  'countryCode': 'UA',\n",
        "  'adminCode1': '10',\n",
        "  'population': 0,\n",
        "  'fcode': 'PPL',\n",
        "  'adminName1': 'Kirovohrad',\n",
        "  'lng': '33.07661',\n",
        "  'countryId': '690791',\n",
        "  'fcl': 'P',\n",
        "  'geonameId': 829085,\n",
        "  'fcodeName': 'populated place'},\n",
        " {'toponymName': 'Veselivka',\n",
        "  'name': 'Veselivka',\n",
        "  'fclName': 'city, village,...',\n",
        "  'countryName': 'Ukraine',\n",
        "  'lat': '48.56427',\n",
        "  'countryCode': 'UA',\n",
        "  'adminCode1': '10',\n",
        "  'population': 0,\n",
        "  'fcode': 'PPL',\n",
        "  'adminName1': 'Kirovohrad',\n",
        "  'lng': '32.45216',\n",
        "  'countryId': '690791',\n",
        "  'fcl': 'P',\n",
        "  'geonameId': 829090,\n",
        "  'fcodeName': 'populated place'},\n",
        " {'toponymName': 'Poltavskiy',\n",
        "  'name': 'Poltavskiy',\n",
        "  'fclName': 'city, village,...',\n",
        "  'countryName': 'Ukraine',\n",
        "  'lat': '48.16435',\n",
        "  'countryCode': 'UA',\n",
        "  'adminCode1': '10',\n",
        "  'population': 0,\n",
        "  'fcode': 'PPL',\n",
        "  'adminName1': 'Kirovohrad',\n",
        "  'lng': '32.19779',\n",
        "  'countryId': '690791',\n",
        "  'fcl': 'P',\n",
        "  'geonameId': 696631,\n",
        "  'fcodeName': 'populated place'},\n",
        " {'toponymName': 'Pokrovs\u2019ke',\n",
        "  'name': \"Pokrovs'ke\",\n",
        "  'fclName': 'city, village,...',\n",
        "  'countryName': 'Ukraine',\n",
        "  'lat': '48.44238',\n",
        "  'countryCode': 'UA',\n",
        "  'adminCode1': '10',\n",
        "  'population': 0,\n",
        "  'fcode': 'PPL',\n",
        "  'adminName1': 'Kirovohrad',\n",
        "  'lng': '32.46279',\n",
        "  'countryId': '690791',\n",
        "  'fcl': 'P',\n",
        "  'geonameId': 696719,\n",
        "  'fcodeName': 'populated place'},\n",
        " {'toponymName': 'Ositnyazhka',\n",
        "  'name': 'Ositnyazhka',\n",
        "  'fclName': 'city, village,...',\n",
        "  'countryName': 'Ukraine',\n",
        "  'lat': '48.67994',\n",
        "  'countryCode': 'UA',\n",
        "  'adminCode1': '10',\n",
        "  'population': 0,\n",
        "  'fcode': 'PPL',\n",
        "  'adminName1': 'Kirovohrad',\n",
        "  'lng': '32.19198',\n",
        "  'countryId': '690791',\n",
        "  'fcl': 'P',\n",
        "  'geonameId': 698306,\n",
        "  'fcodeName': 'populated place'},\n",
        " {'toponymName': 'Novyy Kremenchuk',\n",
        "  'name': 'Novyy Kremenchuk',\n",
        "  'fclName': 'city, village,...',\n",
        "  'countryName': 'Ukraine',\n",
        "  'lat': '47.94836',\n",
        "  'countryCode': 'UA',\n",
        "  'adminCode1': '04',\n",
        "  'population': 0,\n",
        "  'fcode': 'PPL',\n",
        "  'adminName1': 'Dnipropetrovsk',\n",
        "  'lng': '33.03593',\n",
        "  'countryId': '690791',\n",
        "  'fcl': 'P',\n",
        "  'geonameId': 698902,\n",
        "  'fcodeName': 'populated place'},\n",
        " {'toponymName': 'Novoskelevatka',\n",
        "  'name': 'Novoskelevatka',\n",
        "  'fclName': 'city, village,...',\n",
        "  'countryName': 'Ukraine',\n",
        "  'lat': '48.02602',\n",
        "  'countryCode': 'UA',\n",
        "  'adminCode1': '16',\n",
        "  'population': 0,\n",
        "  'fcode': 'PPL',\n",
        "  'adminName1': 'Mykolaiv',\n",
        "  'lng': '32.95652',\n",
        "  'countryId': '690791',\n",
        "  'fcl': 'P',\n",
        "  'geonameId': 699147,\n",
        "  'fcodeName': 'populated place'},\n",
        " {'toponymName': 'Chernyakhivka',\n",
        "  'name': 'Chernyakhivka',\n",
        "  'fclName': 'city, village,...',\n",
        "  'countryName': 'Ukraine',\n",
        "  'lat': '48.56667',\n",
        "  'countryCode': 'UA',\n",
        "  'adminCode1': '10',\n",
        "  'population': 0,\n",
        "  'fcode': 'PPL',\n",
        "  'adminName1': 'Kirovohrad',\n",
        "  'lng': '32.43333',\n",
        "  'countryId': '690791',\n",
        "  'fcl': 'P',\n",
        "  'geonameId': 710661,\n",
        "  'fcodeName': 'populated place'},\n",
        " {'toponymName': 'Bratolyubovka',\n",
        "  'name': 'Bratolyubovka',\n",
        "  'fclName': 'city, village,...',\n",
        "  'countryName': 'Ukraine',\n",
        "  'lat': '48.21113',\n",
        "  'countryCode': 'UA',\n",
        "  'adminCode1': '10',\n",
        "  'population': 0,\n",
        "  'fcode': 'PPL',\n",
        "  'adminName1': 'Kirovohrad',\n",
        "  'lng': '32.95152',\n",
        "  'countryId': '690791',\n",
        "  'fcl': 'P',\n",
        "  'geonameId': 711464,\n",
        "  'fcodeName': 'populated place'},\n",
        " {'toponymName': 'Bokovo',\n",
        "  'name': 'Bokovo',\n",
        "  'fclName': 'city, village,...',\n",
        "  'countryName': 'Ukraine',\n",
        "  'lat': '48.21667',\n",
        "  'countryCode': 'UA',\n",
        "  'adminCode1': '10',\n",
        "  'population': 0,\n",
        "  'fcode': 'PPL',\n",
        "  'adminName1': 'Kirovohrad',\n",
        "  'lng': '33.08333',\n",
        "  'countryId': '690791',\n",
        "  'fcl': 'P',\n",
        "  'geonameId': 711856,\n",
        "  'fcodeName': 'populated place'},\n",
        " {'toponymName': 'Balakhovka',\n",
        "  'name': 'Balakhovka',\n",
        "  'fclName': 'city, village,...',\n",
        "  'countryName': 'Ukraine',\n",
        "  'lat': '48.46387',\n",
        "  'countryCode': 'UA',\n",
        "  'adminCode1': '10',\n",
        "  'population': 0,\n",
        "  'fcode': 'PPL',\n",
        "  'adminName1': 'Kirovohrad',\n",
        "  'lng': '33.17957',\n",
        "  'countryId': '690791',\n",
        "  'fcl': 'P',\n",
        "  'geonameId': 712932,\n",
        "  'fcodeName': 'populated place'},\n",
        " {'toponymName': 'Moshoryne',\n",
        "  'name': 'Moshoryne',\n",
        "  'fclName': 'city, village,...',\n",
        "  'countryName': 'Ukraine',\n",
        "  'lat': '48.62595',\n",
        "  'countryCode': 'UA',\n",
        "  'adminCode1': '10',\n",
        "  'population': 0,\n",
        "  'fcode': 'PPL',\n",
        "  'adminName1': 'Kirovohrad',\n",
        "  'lng': '32.71368',\n",
        "  'countryId': '690791',\n",
        "  'fcl': 'P',\n",
        "  'geonameId': 700728,\n",
        "  'fcodeName': 'populated place'},\n",
        " {'toponymName': 'Mytrofanivka',\n",
        "  'name': 'Mytrofanivka',\n",
        "  'fclName': 'city, village,...',\n",
        "  'countryName': 'Ukraine',\n",
        "  'lat': '48.50278',\n",
        "  'countryCode': 'UA',\n",
        "  'adminCode1': '10',\n",
        "  'population': 0,\n",
        "  'fcode': 'PPL',\n",
        "  'adminName1': 'Kirovohrad',\n",
        "  'lng': '32.71354',\n",
        "  'countryId': '690791',\n",
        "  'fcl': 'P',\n",
        "  'geonameId': 700983,\n",
        "  'fcodeName': 'populated place'},\n",
        " {'toponymName': 'Mirolyubovka',\n",
        "  'name': 'Mirolyubovka',\n",
        "  'fclName': 'city, village,...',\n",
        "  'countryName': 'Ukraine',\n",
        "  'lat': '47.80426',\n",
        "  'countryCode': 'UA',\n",
        "  'adminCode1': '16',\n",
        "  'population': 0,\n",
        "  'fcode': 'PPL',\n",
        "  'adminName1': 'Mykolaiv',\n",
        "  'lng': '32.32962',\n",
        "  'countryId': '690791',\n",
        "  'fcl': 'P',\n",
        "  'geonameId': 701046,\n",
        "  'fcodeName': 'populated place'},\n",
        " {'toponymName': 'Lozovatka',\n",
        "  'name': 'Lozovatka',\n",
        "  'fclName': 'city, village,...',\n",
        "  'countryName': 'Ukraine',\n",
        "  'lat': '48.15821',\n",
        "  'countryCode': 'UA',\n",
        "  'adminCode1': '10',\n",
        "  'population': 0,\n",
        "  'fcode': 'PPL',\n",
        "  'adminName1': 'Kirovohrad',\n",
        "  'lng': '32.36909',\n",
        "  'countryId': '690791',\n",
        "  'fcl': 'P',\n",
        "  'geonameId': 702773,\n",
        "  'fcodeName': 'populated place'},\n",
        " {'toponymName': 'Zeleny Stav',\n",
        "  'name': 'Zeleny Stav',\n",
        "  'fclName': 'city, village,...',\n",
        "  'countryName': 'Ukraine',\n",
        "  'lat': '47.71902',\n",
        "  'countryCode': 'UA',\n",
        "  'adminCode1': '04',\n",
        "  'population': 0,\n",
        "  'fcode': 'PPL',\n",
        "  'adminName1': 'Dnipropetrovsk',\n",
        "  'lng': '33.06242',\n",
        "  'countryId': '690791',\n",
        "  'fcl': 'P',\n",
        "  'geonameId': 687314,\n",
        "  'fcodeName': 'populated place'},\n",
        " {'toponymName': 'Vodyana',\n",
        "  'name': 'Vodyana',\n",
        "  'fclName': 'city, village,...',\n",
        "  'countryName': 'Ukraine',\n",
        "  'lat': '48.34827',\n",
        "  'countryCode': 'UA',\n",
        "  'adminCode1': '10',\n",
        "  'population': 0,\n",
        "  'fcode': 'PPL',\n",
        "  'adminName1': 'Kirovohrad',\n",
        "  'lng': '33.09337',\n",
        "  'countryId': '690791',\n",
        "  'fcl': 'P',\n",
        "  'geonameId': 689337,\n",
        "  'fcodeName': 'populated place'},\n",
        " {'toponymName': 'Vasil\u2019yevka',\n",
        "  'name': \"Vasil'yevka\",\n",
        "  'fclName': 'city, village,...',\n",
        "  'countryName': 'Ukraine',\n",
        "  'lat': '48.25827',\n",
        "  'countryCode': 'UA',\n",
        "  'adminCode1': '10',\n",
        "  'population': 0,\n",
        "  'fcode': 'PPL',\n",
        "  'adminName1': 'Kirovohrad',\n",
        "  'lng': '32.80849',\n",
        "  'countryId': '690791',\n",
        "  'fcl': 'P',\n",
        "  'geonameId': 690364,\n",
        "  'fcodeName': 'populated place'},\n",
        " {'toponymName': 'Varvarovka',\n",
        "  'name': 'Varvarovka',\n",
        "  'fclName': 'city, village,...',\n",
        "  'countryName': 'Ukraine',\n",
        "  'lat': '48.26376',\n",
        "  'countryCode': 'UA',\n",
        "  'adminCode1': '10',\n",
        "  'population': 0,\n",
        "  'fcode': 'PPL',\n",
        "  'adminName1': 'Kirovohrad',\n",
        "  'lng': '33.04719',\n",
        "  'countryId': '690791',\n",
        "  'fcl': 'P',\n",
        "  'geonameId': 690457,\n",
        "  'fcodeName': 'populated place'},\n",
        " {'toponymName': 'Kovalevka Number Two',\n",
        "  'name': 'Kovalevka Number Two',\n",
        "  'fclName': 'city, village,...',\n",
        "  'countryName': 'Ukraine',\n",
        "  'lat': '48',\n",
        "  'countryCode': 'UA',\n",
        "  'adminCode1': '10',\n",
        "  'population': 0,\n",
        "  'fcode': 'PPL',\n",
        "  'adminName1': 'Kirovohrad',\n",
        "  'lng': '32.58333',\n",
        "  'countryId': '690791',\n",
        "  'fcl': 'P',\n",
        "  'geonameId': 704628,\n",
        "  'fcodeName': 'populated place'},\n",
        " {'toponymName': 'Klintsy',\n",
        "  'name': 'Klintsy',\n",
        "  'fclName': 'city, village,...',\n",
        "  'countryName': 'Ukraine',\n",
        "  'lat': '48.42868',\n",
        "  'countryCode': 'UA',\n",
        "  'adminCode1': '10',\n",
        "  'population': 0,\n",
        "  'fcode': 'PPL',\n",
        "  'adminName1': 'Kirovohrad',\n",
        "  'lng': '32.378',\n",
        "  'countryId': '690791',\n",
        "  'fcl': 'P',\n",
        "  'geonameId': 705631,\n",
        "  'fcodeName': 'populated place'},\n",
        " {'toponymName': 'Khutor Shevchenko Nomer Pervyy',\n",
        "  'name': 'Khutor Shevchenko Nomer Pervyy',\n",
        "  'fclName': 'city, village,...',\n",
        "  'countryName': 'Ukraine',\n",
        "  'lat': '47.98333',\n",
        "  'countryCode': 'UA',\n",
        "  'adminCode1': '16',\n",
        "  'population': 0,\n",
        "  'fcode': 'PPL',\n",
        "  'adminName1': 'Mykolaiv',\n",
        "  'lng': '32.71667',\n",
        "  'countryId': '690791',\n",
        "  'fcl': 'P',\n",
        "  'geonameId': 705989,\n",
        "  'fcodeName': 'populated place'},\n",
        " {'toponymName': 'Kamenka',\n",
        "  'name': 'Kamenka',\n",
        "  'fclName': 'city, village,...',\n",
        "  'countryName': 'Ukraine',\n",
        "  'lat': '47.86667',\n",
        "  'countryCode': 'UA',\n",
        "  'adminCode1': '10',\n",
        "  'population': 0,\n",
        "  'fcode': 'PPL',\n",
        "  'adminName1': 'Kirovohrad',\n",
        "  'lng': '32.2',\n",
        "  'countryId': '690791',\n",
        "  'fcl': 'P',\n",
        "  'geonameId': 707060,\n",
        "  'fcodeName': 'populated place'},\n",
        " {'toponymName': 'Gurivka',\n",
        "  'name': 'Gurivka',\n",
        "  'fclName': 'city, village,...',\n",
        "  'countryName': 'Ukraine',\n",
        "  'lat': '48.09979',\n",
        "  'countryCode': 'UA',\n",
        "  'adminCode1': '10',\n",
        "  'population': 0,\n",
        "  'fcode': 'PPL',\n",
        "  'adminName1': 'Kirovohrad',\n",
        "  'lng': '33.10088',\n",
        "  'countryId': '690791',\n",
        "  'fcl': 'P',\n",
        "  'geonameId': 707868,\n",
        "  'fcodeName': 'populated place'},\n",
        " {'toponymName': 'Trepivka',\n",
        "  'name': 'Trepivka',\n",
        "  'fclName': 'city, village,...',\n",
        "  'countryName': 'Ukraine',\n",
        "  'lat': '48.68931',\n",
        "  'countryCode': 'UA',\n",
        "  'adminCode1': '10',\n",
        "  'population': 0,\n",
        "  'fcode': 'PPL',\n",
        "  'adminName1': 'Kirovohrad',\n",
        "  'lng': '32.36416',\n",
        "  'countryId': '690791',\n",
        "  'fcl': 'P',\n",
        "  'geonameId': 691326,\n",
        "  'fcodeName': 'populated place'},\n",
        " {'toponymName': 'Svitlopil\u2019',\n",
        "  'name': 'Svitlopil\u2019',\n",
        "  'fclName': 'city, village,...',\n",
        "  'countryName': 'Ukraine',\n",
        "  'lat': '48.60177',\n",
        "  'countryCode': 'UA',\n",
        "  'adminCode1': '10',\n",
        "  'population': 0,\n",
        "  'fcode': 'PPL',\n",
        "  'adminName1': 'Kirovohrad',\n",
        "  'lng': '32.8141',\n",
        "  'countryId': '690791',\n",
        "  'fcl': 'P',\n",
        "  'geonameId': 692088,\n",
        "  'fcodeName': 'populated place'},\n",
        " {'toponymName': 'Batyzman',\n",
        "  'name': \"Sukhodol'skoye\",\n",
        "  'fclName': 'city, village,...',\n",
        "  'countryName': 'Ukraine',\n",
        "  'lat': '48.23845',\n",
        "  'countryCode': 'UA',\n",
        "  'adminCode1': '10',\n",
        "  'population': 0,\n",
        "  'fcode': 'PPL',\n",
        "  'adminName1': 'Kirovohrad',\n",
        "  'lng': '32.70694',\n",
        "  'countryId': '690791',\n",
        "  'fcl': 'P',\n",
        "  'geonameId': 692253,\n",
        "  'fcodeName': 'populated place'},\n",
        " {'toponymName': 'Spasovo',\n",
        "  'name': 'Spasovo',\n",
        "  'fclName': 'city, village,...',\n",
        "  'countryName': 'Ukraine',\n",
        "  'lat': '48.41552',\n",
        "  'countryCode': 'UA',\n",
        "  'adminCode1': '10',\n",
        "  'population': 0,\n",
        "  'fcode': 'PPL',\n",
        "  'adminName1': 'Kirovohrad',\n",
        "  'lng': '33.05566',\n",
        "  'countryId': '690791',\n",
        "  'fcl': 'P',\n",
        "  'geonameId': 693037,\n",
        "  'fcodeName': 'populated place'},\n",
        " {'toponymName': 'Sontsevo',\n",
        "  'name': 'Sontsevo',\n",
        "  'fclName': 'city, village,...',\n",
        "  'countryName': 'Ukraine',\n",
        "  'lat': '47.86622',\n",
        "  'countryCode': 'UA',\n",
        "  'adminCode1': '10',\n",
        "  'population': 0,\n",
        "  'fcode': 'PPL',\n",
        "  'adminName1': 'Kirovohrad',\n",
        "  'lng': '32.51795',\n",
        "  'countryId': '690791',\n",
        "  'fcl': 'P',\n",
        "  'geonameId': 693149,\n",
        "  'fcodeName': 'populated place'},\n",
        " {'toponymName': 'Sofiyevo-Geykovka',\n",
        "  'name': 'Sofiyevo-Geykovka',\n",
        "  'fclName': 'city, village,...',\n",
        "  'countryName': 'Ukraine',\n",
        "  'lat': '48.01667',\n",
        "  'countryCode': 'UA',\n",
        "  'adminCode1': '04',\n",
        "  'population': 0,\n",
        "  'fcode': 'PPL',\n",
        "  'adminName1': 'Dnipropetrovsk',\n",
        "  'lng': '33.11667',\n",
        "  'countryId': '690791',\n",
        "  'fcl': 'P',\n",
        "  'geonameId': 693305,\n",
        "  'fcodeName': 'populated place'},\n",
        " {'toponymName': 'Sasovka',\n",
        "  'name': 'Sasovka',\n",
        "  'fclName': 'city, village,...',\n",
        "  'countryName': 'Ukraine',\n",
        "  'lat': '48.28691',\n",
        "  'countryCode': 'UA',\n",
        "  'adminCode1': '10',\n",
        "  'population': 0,\n",
        "  'fcode': 'PPL',\n",
        "  'adminName1': 'Kirovohrad',\n",
        "  'lng': '32.33371',\n",
        "  'countryId': '690791',\n",
        "  'fcl': 'P',\n",
        "  'geonameId': 694777,\n",
        "  'fcodeName': 'populated place'},\n",
        " {'toponymName': 'Berezuvatka',\n",
        "  'name': 'Berezuvatka',\n",
        "  'fclName': 'city, village,...',\n",
        "  'countryName': 'Ukraine',\n",
        "  'lat': '48.0129',\n",
        "  'countryCode': 'UA',\n",
        "  'adminCode1': '10',\n",
        "  'population': 0,\n",
        "  'fcode': 'PPL',\n",
        "  'adminName1': 'Kirovohrad',\n",
        "  'lng': '32.6035',\n",
        "  'countryId': '690791',\n",
        "  'fcl': 'P',\n",
        "  'geonameId': 7500754,\n",
        "  'fcodeName': 'populated place'},\n",
        " {'toponymName': 'Novooleksandrivka',\n",
        "  'name': 'Novooleksandrivka',\n",
        "  'fclName': 'city, village,...',\n",
        "  'countryName': 'Ukraine',\n",
        "  'lat': '48.55134',\n",
        "  'countryCode': 'UA',\n",
        "  'adminCode1': '10',\n",
        "  'population': 0,\n",
        "  'fcode': 'PPL',\n",
        "  'adminName1': 'Kirovohrad',\n",
        "  'lng': '32.64571',\n",
        "  'countryId': '690791',\n",
        "  'fcl': 'P',\n",
        "  'geonameId': 829104,\n",
        "  'fcodeName': 'populated place'},\n",
        " {'toponymName': 'Ranneye Utro',\n",
        "  'name': 'Ranneye Utro',\n",
        "  'fclName': 'city, village,...',\n",
        "  'countryName': 'Ukraine',\n",
        "  'lat': '47.93333',\n",
        "  'countryCode': 'UA',\n",
        "  'adminCode1': '04',\n",
        "  'population': 0,\n",
        "  'fcode': 'PPL',\n",
        "  'adminName1': 'Dnipropetrovsk',\n",
        "  'lng': '33.05',\n",
        "  'countryId': '690791',\n",
        "  'fcl': 'P',\n",
        "  'geonameId': 695818,\n",
        "  'fcodeName': 'populated place'},\n",
        " {'toponymName': 'Pushkino',\n",
        "  'name': 'Pushkino',\n",
        "  'fclName': 'city, village,...',\n",
        "  'countryName': 'Ukraine',\n",
        "  'lat': '48.7',\n",
        "  'countryCode': 'UA',\n",
        "  'adminCode1': '10',\n",
        "  'population': 0,\n",
        "  'fcode': 'PPL',\n",
        "  'adminName1': 'Kirovohrad',\n",
        "  'lng': '32.2',\n",
        "  'countryId': '690791',\n",
        "  'fcl': 'P',\n",
        "  'geonameId': 696039,\n",
        "  'fcodeName': 'populated place'},\n",
        " {'toponymName': 'Petropavlovka',\n",
        "  'name': 'Petropavlovka',\n",
        "  'fclName': 'city, village,...',\n",
        "  'countryName': 'Ukraine',\n",
        "  'lat': '47.76667',\n",
        "  'countryCode': 'UA',\n",
        "  'adminCode1': '16',\n",
        "  'population': 0,\n",
        "  'fcode': 'PPL',\n",
        "  'adminName1': 'Mykolaiv',\n",
        "  'lng': '32.28333',\n",
        "  'countryId': '690791',\n",
        "  'fcl': 'P',\n",
        "  'geonameId': 697427,\n",
        "  'fcodeName': 'populated place'},\n",
        " {'toponymName': 'Perepelitsyno',\n",
        "  'name': 'Perepelitsyno',\n",
        "  'fclName': 'city, village,...',\n",
        "  'countryName': 'Ukraine',\n",
        "  'lat': '48.11667',\n",
        "  'countryCode': 'UA',\n",
        "  'adminCode1': '10',\n",
        "  'population': 0,\n",
        "  'fcode': 'PPL',\n",
        "  'adminName1': 'Kirovohrad',\n",
        "  'lng': '32.33333',\n",
        "  'countryId': '690791',\n",
        "  'fcl': 'P',\n",
        "  'geonameId': 697688,\n",
        "  'fcodeName': 'populated place'},\n",
        " {'toponymName': 'Novyy Mir',\n",
        "  'name': 'Novyy Mir',\n",
        "  'fclName': 'city, village,...',\n",
        "  'countryName': 'Ukraine',\n",
        "  'lat': '47.93237',\n",
        "  'countryCode': 'UA',\n",
        "  'adminCode1': '04',\n",
        "  'population': 0,\n",
        "  'fcode': 'PPL',\n",
        "  'adminName1': 'Dnipropetrovsk',\n",
        "  'lng': '33.09975',\n",
        "  'countryId': '690791',\n",
        "  'fcl': 'P',\n",
        "  'geonameId': 698889,\n",
        "  'fcodeName': 'populated place'},\n",
        " {'toponymName': 'Novovladimirovka',\n",
        "  'name': 'Novovladimirovka',\n",
        "  'fclName': 'city, village,...',\n",
        "  'countryName': 'Ukraine',\n",
        "  'lat': '47.79829',\n",
        "  'countryCode': 'UA',\n",
        "  'adminCode1': '16',\n",
        "  'population': 0,\n",
        "  'fcode': 'PPL',\n",
        "  'adminName1': 'Mykolaiv',\n",
        "  'lng': '32.99954',\n",
        "  'countryId': '690791',\n",
        "  'fcl': 'P',\n",
        "  'geonameId': 699044,\n",
        "  'fcodeName': 'populated place'},\n",
        " {'toponymName': 'Novo-Ustinovka',\n",
        "  'name': 'Novo-Ustinovka',\n",
        "  'fclName': 'city, village,...',\n",
        "  'countryName': 'Ukraine',\n",
        "  'lat': '47.95063',\n",
        "  'countryCode': 'UA',\n",
        "  'adminCode1': '10',\n",
        "  'population': 0,\n",
        "  'fcode': 'PPL',\n",
        "  'adminName1': 'Kirovohrad',\n",
        "  'lng': '32.67456',\n",
        "  'countryId': '690791',\n",
        "  'fcl': 'P',\n",
        "  'geonameId': 699063,\n",
        "  'fcodeName': 'populated place'},\n",
        " {'toponymName': 'Stavrakova',\n",
        "  'name': 'Stavrakova',\n",
        "  'fclName': 'city, village,...',\n",
        "  'countryName': 'Ukraine',\n",
        "  'lat': '47.91667',\n",
        "  'countryCode': 'UA',\n",
        "  'adminCode1': '10',\n",
        "  'population': 0,\n",
        "  'fcode': 'PPL',\n",
        "  'adminName1': 'Kirovohrad',\n",
        "  'lng': '32.61667',\n",
        "  'countryId': '690791',\n",
        "  'fcl': 'P',\n",
        "  'geonameId': 699170,\n",
        "  'fcodeName': 'populated place'},\n",
        " {'toponymName': 'Boykovo',\n",
        "  'name': 'Boykovo',\n",
        "  'fclName': 'city, village,...',\n",
        "  'countryName': 'Ukraine',\n",
        "  'lat': '47.81667',\n",
        "  'countryCode': 'UA',\n",
        "  'adminCode1': '16',\n",
        "  'population': 0,\n",
        "  'fcode': 'PPL',\n",
        "  'adminName1': 'Mykolaiv',\n",
        "  'lng': '33',\n",
        "  'countryId': '690791',\n",
        "  'fcl': 'P',\n",
        "  'geonameId': 699198,\n",
        "  'fcodeName': 'populated place'},\n",
        " {'toponymName': 'Novo-Nikolayevka',\n",
        "  'name': 'Novo-Nikolayevka',\n",
        "  'fclName': 'city, village,...',\n",
        "  'countryName': 'Ukraine',\n",
        "  'lat': '47.84351',\n",
        "  'countryCode': 'UA',\n",
        "  'adminCode1': '10',\n",
        "  'population': 0,\n",
        "  'fcode': 'PPL',\n",
        "  'adminName1': 'Kirovohrad',\n",
        "  'lng': '32.2062',\n",
        "  'countryId': '690791',\n",
        "  'fcl': 'P',\n",
        "  'geonameId': 699416,\n",
        "  'fcodeName': 'populated place'},\n",
        " {'toponymName': 'Novolazarevka',\n",
        "  'name': 'Novolazarevka',\n",
        "  'fclName': 'city, village,...',\n",
        "  'countryName': 'Ukraine',\n",
        "  'lat': '47.77706',\n",
        "  'countryCode': 'UA',\n",
        "  'adminCode1': '16',\n",
        "  'population': 0,\n",
        "  'fcode': 'PPL',\n",
        "  'adminName1': 'Mykolaiv',\n",
        "  'lng': '32.97057',\n",
        "  'countryId': '690791',\n",
        "  'fcl': 'P',\n",
        "  'geonameId': 699487,\n",
        "  'fcodeName': 'populated place'},\n",
        " {'toponymName': 'Novogrigor\u2019yevka Pervaya',\n",
        "  'name': 'Novogrigor\u2019yevka Pervaya',\n",
        "  'fclName': 'city, village,...',\n",
        "  'countryName': 'Ukraine',\n",
        "  'lat': '48.20241',\n",
        "  'countryCode': 'UA',\n",
        "  'adminCode1': '10',\n",
        "  'population': 0,\n",
        "  'fcode': 'PPL',\n",
        "  'adminName1': 'Kirovohrad',\n",
        "  'lng': '32.6695',\n",
        "  'countryId': '690791',\n",
        "  'fcl': 'P',\n",
        "  'geonameId': 699561,\n",
        "  'fcodeName': 'populated place'},\n",
        " {'toponymName': 'Novaya Andreyevka',\n",
        "  'name': 'Novaya Andreyevka',\n",
        "  'fclName': 'city, village,...',\n",
        "  'countryName': 'Ukraine',\n",
        "  'lat': '48.42155',\n",
        "  'countryCode': 'UA',\n",
        "  'adminCode1': '10',\n",
        "  'population': 0,\n",
        "  'fcode': 'PPL',\n",
        "  'adminName1': 'Kirovohrad',\n",
        "  'lng': '32.59406',\n",
        "  'countryId': '690791',\n",
        "  'fcl': 'P',\n",
        "  'geonameId': 699890,\n",
        "  'fcodeName': 'populated place'},\n",
        " {'toponymName': 'Dubivka',\n",
        "  'name': 'Dubivka',\n",
        "  'fclName': 'city, village,...',\n",
        "  'countryName': 'Ukraine',\n",
        "  'lat': '48.46713',\n",
        "  'countryCode': 'UA',\n",
        "  'adminCode1': '10',\n",
        "  'population': 0,\n",
        "  'fcode': 'PPL',\n",
        "  'adminName1': 'Kirovohrad',\n",
        "  'lng': '33.01865',\n",
        "  'countryId': '690791',\n",
        "  'fcl': 'P',\n",
        "  'geonameId': 709554,\n",
        "  'fcodeName': 'populated place'},\n",
        " {'toponymName': 'Donino-Kamenka',\n",
        "  'name': 'Donino-Kamenka',\n",
        "  'fclName': 'city, village,...',\n",
        "  'countryName': 'Ukraine',\n",
        "  'lat': '48.67286',\n",
        "  'countryCode': 'UA',\n",
        "  'adminCode1': '10',\n",
        "  'population': 0,\n",
        "  'fcode': 'PPL',\n",
        "  'adminName1': 'Kirovohrad',\n",
        "  'lng': '32.3035',\n",
        "  'countryId': '690791',\n",
        "  'fcl': 'P',\n",
        "  'geonameId': 709706,\n",
        "  'fcodeName': 'populated place'},\n",
        " {'toponymName': 'Dmitrovka',\n",
        "  'name': 'Dmitrovka',\n",
        "  'fclName': 'city, village,...',\n",
        "  'countryName': 'Ukraine',\n",
        "  'lat': '47.95894',\n",
        "  'countryCode': 'UA',\n",
        "  'adminCode1': '16',\n",
        "  'population': 0,\n",
        "  'fcode': 'PPL',\n",
        "  'adminName1': 'Mykolaiv',\n",
        "  'lng': '32.74343',\n",
        "  'countryId': '690791',\n",
        "  'fcl': 'P',\n",
        "  'geonameId': 709986,\n",
        "  'fcodeName': 'populated place'},\n",
        " {'toponymName': 'Dmitro-Belovka',\n",
        "  'name': 'Dmitro-Belovka',\n",
        "  'fclName': 'city, village,...',\n",
        "  'countryName': 'Ukraine',\n",
        "  'lat': '47.93461',\n",
        "  'countryCode': 'UA',\n",
        "  'adminCode1': '16',\n",
        "  'population': 0,\n",
        "  'fcode': 'PPL',\n",
        "  'adminName1': 'Mykolaiv',\n",
        "  'lng': '32.79107',\n",
        "  'countryId': '690791',\n",
        "  'fcl': 'P',\n",
        "  'geonameId': 710000,\n",
        "  'fcodeName': 'populated place'},\n",
        " {'toponymName': 'Chervonyy Yar',\n",
        "  'name': 'Chervonyy Yar',\n",
        "  'fclName': 'city, village,...',\n",
        "  'countryName': 'Ukraine',\n",
        "  'lat': '48.51175',\n",
        "  'countryCode': 'UA',\n",
        "  'adminCode1': '10',\n",
        "  'population': 0,\n",
        "  'fcode': 'PPL',\n",
        "  'adminName1': 'Kirovohrad',\n",
        "  'lng': '32.60688',\n",
        "  'countryId': '690791',\n",
        "  'fcl': 'P',\n",
        "  'geonameId': 710498,\n",
        "  'fcodeName': 'populated place'},\n",
        " {'toponymName': 'Chernyakhovka',\n",
        "  'name': 'Chernyakhovka',\n",
        "  'fclName': 'city, village,...',\n",
        "  'countryName': 'Ukraine',\n",
        "  'lat': '48.5',\n",
        "  'countryCode': 'UA',\n",
        "  'adminCode1': '10',\n",
        "  'population': 0,\n",
        "  'fcode': 'PPL',\n",
        "  'adminName1': 'Kirovohrad',\n",
        "  'lng': '32.21667',\n",
        "  'countryId': '690791',\n",
        "  'fcl': 'P',\n",
        "  'geonameId': 710662,\n",
        "  'fcodeName': 'populated place'},\n",
        " {'toponymName': 'Bol\u2019shaya Severinka',\n",
        "  'name': 'Bol\u2019shaya Severinka',\n",
        "  'fclName': 'city, village,...',\n",
        "  'countryName': 'Ukraine',\n",
        "  'lat': '48.60858',\n",
        "  'countryCode': 'UA',\n",
        "  'adminCode1': '10',\n",
        "  'population': 0,\n",
        "  'fcode': 'PPL',\n",
        "  'adminName1': 'Kirovohrad',\n",
        "  'lng': '32.22505',\n",
        "  'countryId': '690791',\n",
        "  'fcl': 'P',\n",
        "  'geonameId': 711785,\n",
        "  'fcodeName': 'populated place'},\n",
        " {'toponymName': 'Shcherbino',\n",
        "  'name': 'Shcherbino',\n",
        "  'fclName': 'city, village,...',\n",
        "  'countryName': 'Ukraine',\n",
        "  'lat': '47.98333',\n",
        "  'countryCode': 'UA',\n",
        "  'adminCode1': '16',\n",
        "  'population': 0,\n",
        "  'fcode': 'PPL',\n",
        "  'adminName1': 'Mykolaiv',\n",
        "  'lng': '32.98333',\n",
        "  'countryId': '690791',\n",
        "  'fcl': 'P',\n",
        "  'geonameId': 711806,\n",
        "  'fcodeName': 'populated place'},\n",
        " {'toponymName': 'Bol\u2019shaya Danilovka',\n",
        "  'name': 'Bol\u2019shaya Danilovka',\n",
        "  'fclName': 'city, village,...',\n",
        "  'countryName': 'Ukraine',\n",
        "  'lat': '47.98026',\n",
        "  'countryCode': 'UA',\n",
        "  'adminCode1': '10',\n",
        "  'population': 0,\n",
        "  'fcode': 'PPL',\n",
        "  'adminName1': 'Kirovohrad',\n",
        "  'lng': '32.86908',\n",
        "  'countryId': '690791',\n",
        "  'fcl': 'P',\n",
        "  'geonameId': 711809,\n",
        "  'fcodeName': 'populated place'},\n",
        " {'toponymName': 'Chechelevka',\n",
        "  'name': 'Chechelevka',\n",
        "  'fclName': 'city, village,...',\n",
        "  'countryName': 'Ukraine',\n",
        "  'lat': '48.36071',\n",
        "  'countryCode': 'UA',\n",
        "  'adminCode1': '10',\n",
        "  'population': 0,\n",
        "  'fcode': 'PPL',\n",
        "  'adminName1': 'Kirovohrad',\n",
        "  'lng': '32.76143',\n",
        "  'countryId': '690791',\n",
        "  'fcl': 'P',\n",
        "  'geonameId': 711813,\n",
        "  'fcodeName': 'populated place'},\n",
        " {'toponymName': 'Aleksandrovka',\n",
        "  'name': 'Aleksandrovka',\n",
        "  'fclName': 'city, village,...',\n",
        "  'countryName': 'Ukraine',\n",
        "  'lat': '47.78333',\n",
        "  'countryCode': 'UA',\n",
        "  'adminCode1': '16',\n",
        "  'population': 0,\n",
        "  'fcode': 'PPL',\n",
        "  'adminName1': 'Mykolaiv',\n",
        "  'lng': '32.68333',\n",
        "  'countryId': '690791',\n",
        "  'fcl': 'P',\n",
        "  'geonameId': 711826,\n",
        "  'fcodeName': 'populated place'},\n",
        " {'toponymName': 'Bereznegovatskoye',\n",
        "  'name': 'Bereznegovatskoye',\n",
        "  'fclName': 'city, village,...',\n",
        "  'countryName': 'Ukraine',\n",
        "  'lat': '47.74833',\n",
        "  'countryCode': 'UA',\n",
        "  'adminCode1': '16',\n",
        "  'population': 0,\n",
        "  'fcode': 'PPL',\n",
        "  'adminName1': 'Mykolaiv',\n",
        "  'lng': '32.27792',\n",
        "  'countryId': '690791',\n",
        "  'fcl': 'P',\n",
        "  'geonameId': 712337,\n",
        "  'fcodeName': 'populated place'},\n",
        " {'toponymName': 'Bereslavka',\n",
        "  'name': 'Bereslavka',\n",
        "  'fclName': 'city, village,...',\n",
        "  'countryName': 'Ukraine',\n",
        "  'lat': '47.89273',\n",
        "  'countryCode': 'UA',\n",
        "  'adminCode1': '10',\n",
        "  'population': 0,\n",
        "  'fcode': 'PPL',\n",
        "  'adminName1': 'Kirovohrad',\n",
        "  'lng': '32.29424',\n",
        "  'countryId': '690791',\n",
        "  'fcl': 'P',\n",
        "  'geonameId': 712418,\n",
        "  'fcodeName': 'populated place'},\n",
        " {'toponymName': 'Annovka',\n",
        "  'name': 'Annovka',\n",
        "  'fclName': 'city, village,...',\n",
        "  'countryName': 'Ukraine',\n",
        "  'lat': '48.15923',\n",
        "  'countryCode': 'UA',\n",
        "  'adminCode1': '10',\n",
        "  'population': 0,\n",
        "  'fcode': 'PPL',\n",
        "  'adminName1': 'Kirovohrad',\n",
        "  'lng': '33.10492',\n",
        "  'countryId': '690791',\n",
        "  'fcl': 'P',\n",
        "  'geonameId': 713340,\n",
        "  'fcodeName': 'populated place'},\n",
        " {'toponymName': 'Anno-Trebinovka',\n",
        "  'name': 'Anno-Trebinovka',\n",
        "  'fclName': 'city, village,...',\n",
        "  'countryName': 'Ukraine',\n",
        "  'lat': '47.87405',\n",
        "  'countryCode': 'UA',\n",
        "  'adminCode1': '10',\n",
        "  'population': 0,\n",
        "  'fcode': 'PPL',\n",
        "  'adminName1': 'Kirovohrad',\n",
        "  'lng': '32.41748',\n",
        "  'countryId': '690791',\n",
        "  'fcl': 'P',\n",
        "  'geonameId': 713357,\n",
        "  'fcodeName': 'populated place'},\n",
        " {'toponymName': 'Anastas\u2019yevka',\n",
        "  'name': 'Anastas\u2019yevka',\n",
        "  'fclName': 'city, village,...',\n",
        "  'countryName': 'Ukraine',\n",
        "  'lat': '47.71818',\n",
        "  'countryCode': 'UA',\n",
        "  'adminCode1': '16',\n",
        "  'population': 0,\n",
        "  'fcode': 'PPL',\n",
        "  'adminName1': 'Mykolaiv',\n",
        "  'lng': '32.68888',\n",
        "  'countryId': '690791',\n",
        "  'fcl': 'P',\n",
        "  'geonameId': 713493,\n",
        "  'fcodeName': 'populated place'},\n",
        " {'toponymName': 'Nikanorovka',\n",
        "  'name': 'Nikanorovka',\n",
        "  'fclName': 'city, village,...',\n",
        "  'countryName': 'Ukraine',\n",
        "  'lat': '47.9507',\n",
        "  'countryCode': 'UA',\n",
        "  'adminCode1': '10',\n",
        "  'population': 0,\n",
        "  'fcode': 'PPL',\n",
        "  'adminName1': 'Kirovohrad',\n",
        "  'lng': '32.30078',\n",
        "  'countryId': '690791',\n",
        "  'fcl': 'P',\n",
        "  'geonameId': 700209,\n",
        "  'fcodeName': 'populated place'},\n",
        " {'toponymName': 'Neglyadovka',\n",
        "  'name': 'Neglyadovka',\n",
        "  'fclName': 'city, village,...',\n",
        "  'countryName': 'Ukraine',\n",
        "  'lat': '48.1766',\n",
        "  'countryCode': 'UA',\n",
        "  'adminCode1': '10',\n",
        "  'population': 0,\n",
        "  'fcode': 'PPL',\n",
        "  'adminName1': 'Kirovohrad',\n",
        "  'lng': '32.42168',\n",
        "  'countryId': '690791',\n",
        "  'fcl': 'P',\n",
        "  'geonameId': 700365,\n",
        "  'fcodeName': 'populated place'},\n",
        " {'toponymName': 'Moloshnyy',\n",
        "  'name': 'Moloshnyy',\n",
        "  'fclName': 'city, village,...',\n",
        "  'countryName': 'Ukraine',\n",
        "  'lat': '47.93333',\n",
        "  'countryCode': 'UA',\n",
        "  'adminCode1': '10',\n",
        "  'population': 0,\n",
        "  'fcode': 'PPL',\n",
        "  'adminName1': 'Kirovohrad',\n",
        "  'lng': '32.65',\n",
        "  'countryId': '690791',\n",
        "  'fcl': 'P',\n",
        "  'geonameId': 700819,\n",
        "  'fcodeName': 'populated place'},\n",
        " {'toponymName': 'Medovoye',\n",
        "  'name': 'Medovoye',\n",
        "  'fclName': 'city, village,...',\n",
        "  'countryName': 'Ukraine',\n",
        "  'lat': '47.84994',\n",
        "  'countryCode': 'UA',\n",
        "  'adminCode1': '10',\n",
        "  'population': 0,\n",
        "  'fcode': 'PPL',\n",
        "  'adminName1': 'Kirovohrad',\n",
        "  'lng': '32.62156',\n",
        "  'countryId': '690791',\n",
        "  'fcl': 'P',\n",
        "  'geonameId': 701457,\n",
        "  'fcodeName': 'populated place'},\n",
        " {'toponymName': 'Malinovka Pervaya',\n",
        "  'name': 'Malinovka Pervaya',\n",
        "  'fclName': 'city, village,...',\n",
        "  'countryName': 'Ukraine',\n",
        "  'lat': '47.75',\n",
        "  'countryCode': 'UA',\n",
        "  'adminCode1': '04',\n",
        "  'population': 0,\n",
        "  'fcode': 'PPL',\n",
        "  'adminName1': 'Dnipropetrovsk',\n",
        "  'lng': '33.08333',\n",
        "  'countryId': '690791',\n",
        "  'fcl': 'P',\n",
        "  'geonameId': 702095,\n",
        "  'fcodeName': 'populated place'},\n",
        " {'toponymName': 'Krasnyy',\n",
        "  'name': 'Krasnyy',\n",
        "  'fclName': 'city, village,...',\n",
        "  'countryName': 'Ukraine',\n",
        "  'lat': '47.83333',\n",
        "  'countryCode': 'UA',\n",
        "  'adminCode1': '10',\n",
        "  'population': 0,\n",
        "  'fcode': 'PPL',\n",
        "  'adminName1': 'Kirovohrad',\n",
        "  'lng': '32.28333',\n",
        "  'countryId': '690791',\n",
        "  'fcl': 'P',\n",
        "  'geonameId': 704236,\n",
        "  'fcodeName': 'populated place'},\n",
        " {'toponymName': 'Znamenka Vtoraya',\n",
        "  'name': 'Znamenka Vtoraya',\n",
        "  'fclName': 'city, village,...',\n",
        "  'countryName': 'Ukraine',\n",
        "  'lat': '48.71143',\n",
        "  'countryCode': 'UA',\n",
        "  'adminCode1': '10',\n",
        "  'population': 0,\n",
        "  'fcode': 'PPL',\n",
        "  'adminName1': 'Kirovohrad',\n",
        "  'lng': '32.59174',\n",
        "  'countryId': '690791',\n",
        "  'fcl': 'P',\n",
        "  'geonameId': 686915,\n",
        "  'fcodeName': 'populated place'},\n",
        " {'toponymName': 'Zlatopo',\n",
        "  'name': 'Zlatopo',\n",
        "  'fclName': 'city, village,...',\n",
        "  'countryName': 'Ukraine',\n",
        "  'lat': '47.73333',\n",
        "  'countryCode': 'UA',\n",
        "  'adminCode1': '16',\n",
        "  'population': 0,\n",
        "  'fcode': 'PPL',\n",
        "  'adminName1': 'Mykolaiv',\n",
        "  'lng': '32.23333',\n",
        "  'countryId': '690791',\n",
        "  'fcl': 'P',\n",
        "  'geonameId': 686942,\n",
        "  'fcodeName': 'populated place'},\n",
        " {'toponymName': 'Zhovtnevoye',\n",
        "  'name': 'Zhovtnevoye',\n",
        "  'fclName': 'city, village,...',\n",
        "  'countryName': 'Ukraine',\n",
        "  'lat': '48.10508',\n",
        "  'countryCode': 'UA',\n",
        "  'adminCode1': '10',\n",
        "  'population': 0,\n",
        "  'fcode': 'PPL',\n",
        "  'adminName1': 'Kirovohrad',\n",
        "  'lng': '32.59157',\n",
        "  'countryId': '690791',\n",
        "  'fcl': 'P',\n",
        "  'geonameId': 687076,\n",
        "  'fcodeName': 'populated place'},\n",
        " {'toponymName': 'Zel\u00ebnyy Lug',\n",
        "  'name': 'Zel\u00ebnyy Lug',\n",
        "  'fclName': 'city, village,...',\n",
        "  'countryName': 'Ukraine',\n",
        "  'lat': '47.89572',\n",
        "  'countryCode': 'UA',\n",
        "  'adminCode1': '04',\n",
        "  'population': 0,\n",
        "  'fcode': 'PPL',\n",
        "  'adminName1': 'Dnipropetrovsk',\n",
        "  'lng': '33.15286',\n",
        "  'countryId': '690791',\n",
        "  'fcl': 'P',\n",
        "  'geonameId': 687318,\n",
        "  'fcodeName': 'populated place'},\n",
        " {'toponymName': 'Voynivka',\n",
        "  'name': 'Voynivka',\n",
        "  'fclName': 'city, village,...',\n",
        "  'countryName': 'Ukraine',\n",
        "  'lat': '48.70028',\n",
        "  'countryCode': 'UA',\n",
        "  'adminCode1': '10',\n",
        "  'population': 0,\n",
        "  'fcode': 'PPL',\n",
        "  'adminName1': 'Kirovohrad',\n",
        "  'lng': '33.06827',\n",
        "  'countryId': '690791',\n",
        "  'fcl': 'P',\n",
        "  'geonameId': 688892,\n",
        "  'fcodeName': 'populated place'},\n",
        " {'toponymName': 'Ves\u00eblyy Podol',\n",
        "  'name': 'Ves\u00eblyy Podol',\n",
        "  'fclName': 'city, village,...',\n",
        "  'countryName': 'Ukraine',\n",
        "  'lat': '47.79157',\n",
        "  'countryCode': 'UA',\n",
        "  'adminCode1': '16',\n",
        "  'population': 0,\n",
        "  'fcode': 'PPL',\n",
        "  'adminName1': 'Mykolaiv',\n",
        "  'lng': '32.2734',\n",
        "  'countryId': '690791',\n",
        "  'fcl': 'P',\n",
        "  'geonameId': 689673,\n",
        "  'fcodeName': 'populated place'},\n",
        " {'toponymName': 'Vesely Gay',\n",
        "  'name': 'Vesely Gay',\n",
        "  'fclName': 'city, village,...',\n",
        "  'countryName': 'Ukraine',\n",
        "  'lat': '47.74406',\n",
        "  'countryCode': 'UA',\n",
        "  'adminCode1': '16',\n",
        "  'population': 0,\n",
        "  'fcode': 'PPL',\n",
        "  'adminName1': 'Mykolaiv',\n",
        "  'lng': '33.01391',\n",
        "  'countryId': '690791',\n",
        "  'fcl': 'P',\n",
        "  'geonameId': 689696,\n",
        "  'fcodeName': 'populated place'},\n",
        " {'toponymName': 'Verblyuzhka',\n",
        "  'name': 'Verblyuzhka',\n",
        "  'fclName': 'city, village,...',\n",
        "  'countryName': 'Ukraine',\n",
        "  'lat': '48.32226',\n",
        "  'countryCode': 'UA',\n",
        "  'adminCode1': '10',\n",
        "  'population': 0,\n",
        "  'fcode': 'PPL',\n",
        "  'adminName1': 'Kirovohrad',\n",
        "  'lng': '32.87861',\n",
        "  'countryId': '690791',\n",
        "  'fcl': 'P',\n",
        "  'geonameId': 689992,\n",
        "  'fcodeName': 'populated place'},\n",
        " {'toponymName': 'Varvarovka',\n",
        "  'name': 'Varvarovka',\n",
        "  'fclName': 'city, village,...',\n",
        "  'countryName': 'Ukraine',\n",
        "  'lat': '47.9',\n",
        "  'countryCode': 'UA',\n",
        "  'adminCode1': '10',\n",
        "  'population': 0,\n",
        "  'fcode': 'PPL',\n",
        "  'adminName1': 'Kirovohrad',\n",
        "  'lng': '32.2',\n",
        "  'countryId': '690791',\n",
        "  'fcl': 'P',\n",
        "  'geonameId': 690462,\n",
        "  'fcodeName': 'populated place'},\n",
        " {'toponymName': 'Uteshnoye',\n",
        "  'name': 'Uteshnoye',\n",
        "  'fclName': 'city, village,...',\n",
        "  'countryName': 'Ukraine',\n",
        "  'lat': '48.13333',\n",
        "  'countryCode': 'UA',\n",
        "  'adminCode1': '10',\n",
        "  'population': 0,\n",
        "  'fcode': 'PPL',\n",
        "  'adminName1': 'Kirovohrad',\n",
        "  'lng': '33.01667',\n",
        "  'countryId': '690791',\n",
        "  'fcl': 'P',\n",
        "  'geonameId': 690576,\n",
        "  'fcodeName': 'populated place'},\n",
        " {'toponymName': 'Koloniya Gromokley',\n",
        "  'name': 'Koloniya Gromokley',\n",
        "  'fclName': 'city, village,...',\n",
        "  'countryName': 'Ukraine',\n",
        "  'lat': '47.89136',\n",
        "  'countryCode': 'UA',\n",
        "  'adminCode1': '10',\n",
        "  'population': 0,\n",
        "  'fcode': 'PPL',\n",
        "  'adminName1': 'Kirovohrad',\n",
        "  'lng': '32.32913',\n",
        "  'countryId': '690791',\n",
        "  'fcl': 'P',\n",
        "  'geonameId': 705371,\n",
        "  'fcodeName': 'populated place'},\n",
        " {'toponymName': 'Kirovohrad',\n",
        "  'name': 'Kirovohrad',\n",
        "  'fclName': 'city, village,...',\n",
        "  'countryName': 'Ukraine',\n",
        "  'lat': '48.5132',\n",
        "  'countryCode': 'UA',\n",
        "  'adminCode1': '10',\n",
        "  'population': 249454,\n",
        "  'fcode': 'PPLA',\n",
        "  'adminName1': 'Kirovohrad',\n",
        "  'lng': '32.2597',\n",
        "  'countryId': '690791',\n",
        "  'fcl': 'P',\n",
        "  'geonameId': 705812,\n",
        "  'fcodeName': 'seat of a first-order administrative division'},\n",
        " {'toponymName': 'Oleksandriya',\n",
        "  'name': 'Oleksandriya',\n",
        "  'fclName': 'city, village,...',\n",
        "  'countryName': 'Ukraine',\n",
        "  'lat': '48.66961',\n",
        "  'countryCode': 'UA',\n",
        "  'adminCode1': '10',\n",
        "  'population': 103000,\n",
        "  'fcode': 'PPLA2',\n",
        "  'adminName1': 'Kirovohrad',\n",
        "  'lng': '33.11593',\n",
        "  'countryId': '690791',\n",
        "  'fcl': 'P',\n",
        "  'geonameId': 698625,\n",
        "  'fcodeName': 'seat of a second-order administrative division'},\n",
        " {'toponymName': 'Znomenka',\n",
        "  'name': 'Znam\u201dyanka',\n",
        "  'fclName': 'city, village,...',\n",
        "  'countryName': 'Ukraine',\n",
        "  'lat': '48.71278',\n",
        "  'countryCode': 'UA',\n",
        "  'adminCode1': '10',\n",
        "  'population': 28318,\n",
        "  'fcode': 'PPLA2',\n",
        "  'adminName1': 'Kirovohrad',\n",
        "  'lng': '32.66472',\n",
        "  'countryId': '690791',\n",
        "  'fcl': 'P',\n",
        "  'geonameId': 686919,\n",
        "  'fcodeName': 'seat of a second-order administrative division'},\n",
        " {'toponymName': \"Dolyns'ka\",\n",
        "  'name': \"Dolyns'ka\",\n",
        "  'fclName': 'city, village,...',\n",
        "  'countryName': 'Ukraine',\n",
        "  'lat': '48.11041',\n",
        "  'countryCode': 'UA',\n",
        "  'adminCode1': '10',\n",
        "  'population': 34267,\n",
        "  'fcode': 'PPL',\n",
        "  'adminName1': 'Kirovohrad',\n",
        "  'lng': '32.76449',\n",
        "  'countryId': '690791',\n",
        "  'fcl': 'P',\n",
        "  'geonameId': 709782,\n",
        "  'fcodeName': 'populated place'},\n",
        " {'toponymName': 'Pantayivka',\n",
        "  'name': 'Pantayivka',\n",
        "  'fclName': 'city, village,...',\n",
        "  'countryName': 'Ukraine',\n",
        "  'lat': '48.674',\n",
        "  'countryCode': 'UA',\n",
        "  'adminCode1': '10',\n",
        "  'population': 2918,\n",
        "  'fcode': 'PPL',\n",
        "  'adminName1': 'Kirovohrad',\n",
        "  'lng': '32.8841',\n",
        "  'countryId': '690791',\n",
        "  'fcl': 'P',\n",
        "  'geonameId': 698008,\n",
        "  'fcodeName': 'populated place'},\n",
        " {'toponymName': 'Novyy Starodub',\n",
        "  'name': 'Novyy Starodub',\n",
        "  'fclName': 'city, village,...',\n",
        "  'countryName': 'Ukraine',\n",
        "  'lat': '48.5158',\n",
        "  'countryCode': 'UA',\n",
        "  'adminCode1': '10',\n",
        "  'population': 4777,\n",
        "  'fcode': 'PPL',\n",
        "  'adminName1': 'Kirovohrad',\n",
        "  'lng': '33.17329',\n",
        "  'countryId': '690791',\n",
        "  'fcl': 'P',\n",
        "  'geonameId': 698869,\n",
        "  'fcodeName': 'populated place'},\n",
        " {'toponymName': 'Nova Praha',\n",
        "  'name': 'Nova Praha',\n",
        "  'fclName': 'city, village,...',\n",
        "  'countryName': 'Ukraine',\n",
        "  'lat': '48.56821',\n",
        "  'countryCode': 'UA',\n",
        "  'adminCode1': '10',\n",
        "  'population': 7513,\n",
        "  'fcode': 'PPL',\n",
        "  'adminName1': 'Kirovohrad',\n",
        "  'lng': '32.90273',\n",
        "  'countryId': '690791',\n",
        "  'fcl': 'P',\n",
        "  'geonameId': 699802,\n",
        "  'fcodeName': 'populated place'},\n",
        " {'toponymName': 'Dymytrove',\n",
        "  'name': 'Dymytrove',\n",
        "  'fclName': 'city, village,...',\n",
        "  'countryName': 'Ukraine',\n",
        "  'lat': '48.60767',\n",
        "  'countryCode': 'UA',\n",
        "  'adminCode1': '10',\n",
        "  'population': 5410,\n",
        "  'fcode': 'PPL',\n",
        "  'adminName1': 'Kirovohrad',\n",
        "  'lng': '32.98347',\n",
        "  'countryId': '690791',\n",
        "  'fcl': 'P',\n",
        "  'geonameId': 710032,\n",
        "  'fcodeName': 'populated place'},\n",
        " {'toponymName': 'Molodizhne',\n",
        "  'name': 'Molodizhne',\n",
        "  'fclName': 'city, village,...',\n",
        "  'countryName': 'Ukraine',\n",
        "  'lat': '48.17732',\n",
        "  'countryCode': 'UA',\n",
        "  'adminCode1': '10',\n",
        "  'population': 1541,\n",
        "  'fcode': 'PPL',\n",
        "  'adminName1': 'Kirovohrad',\n",
        "  'lng': '32.66015',\n",
        "  'countryId': '690791',\n",
        "  'fcl': 'P',\n",
        "  'geonameId': 700834,\n",
        "  'fcodeName': 'populated place'},\n",
        " {'toponymName': 'Ustynivka',\n",
        "  'name': 'Ustynivka',\n",
        "  'fclName': 'city, village,...',\n",
        "  'countryName': 'Ukraine',\n",
        "  'lat': '47.95507',\n",
        "  'countryCode': 'UA',\n",
        "  'adminCode1': '10',\n",
        "  'population': 4003,\n",
        "  'fcode': 'PPLA2',\n",
        "  'adminName1': 'Kirovohrad',\n",
        "  'lng': '32.53674',\n",
        "  'countryId': '690791',\n",
        "  'fcl': 'P',\n",
        "  'geonameId': 690600,\n",
        "  'fcodeName': 'seat of a second-order administrative division'},\n",
        " {'toponymName': 'Kompaniyivka',\n",
        "  'name': 'Kompaniyivka',\n",
        "  'fclName': 'city, village,...',\n",
        "  'countryName': 'Ukraine',\n",
        "  'lat': '48.25115',\n",
        "  'countryCode': 'UA',\n",
        "  'adminCode1': '10',\n",
        "  'population': 4934,\n",
        "  'fcode': 'PPLA2',\n",
        "  'adminName1': 'Kirovohrad',\n",
        "  'lng': '32.20795',\n",
        "  'countryId': '690791',\n",
        "  'fcl': 'P',\n",
        "  'geonameId': 705198,\n",
        "  'fcodeName': 'seat of a second-order administrative division'},\n",
        " {'toponymName': 'Kazanka',\n",
        "  'name': 'Kazanka',\n",
        "  'fclName': 'city, village,...',\n",
        "  'countryName': 'Ukraine',\n",
        "  'lat': '47.84625',\n",
        "  'countryCode': 'UA',\n",
        "  'adminCode1': '16',\n",
        "  'population': 8010,\n",
        "  'fcode': 'PPLA2',\n",
        "  'adminName1': 'Mykolaiv',\n",
        "  'lng': '32.82177',\n",
        "  'countryId': '690791',\n",
        "  'fcl': 'P',\n",
        "  'geonameId': 706580,\n",
        "  'fcodeName': 'seat of a second-order administrative division'},\n",
        " {'toponymName': 'Subottsi',\n",
        "  'name': 'Subottsi',\n",
        "  'fclName': 'city, village,...',\n",
        "  'countryName': 'Ukraine',\n",
        "  'lat': '48.65545',\n",
        "  'countryCode': 'UA',\n",
        "  'adminCode1': '10',\n",
        "  'population': 3095,\n",
        "  'fcode': 'PPL',\n",
        "  'adminName1': 'Kirovohrad',\n",
        "  'lng': '32.52093',\n",
        "  'countryId': '690791',\n",
        "  'fcl': 'P',\n",
        "  'geonameId': 692317,\n",
        "  'fcodeName': 'populated place'},\n",
        " {'toponymName': 'Adzhamka',\n",
        "  'name': 'Adzhamka',\n",
        "  'fclName': 'city, village,...',\n",
        "  'countryName': 'Ukraine',\n",
        "  'lat': '48.54244',\n",
        "  'countryCode': 'UA',\n",
        "  'adminCode1': '10',\n",
        "  'population': 3859,\n",
        "  'fcode': 'PPL',\n",
        "  'adminName1': 'Kirovohrad',\n",
        "  'lng': '32.53542',\n",
        "  'countryId': '690791',\n",
        "  'fcl': 'P',\n",
        "  'geonameId': 713784,\n",
        "  'fcodeName': 'populated place'},\n",
        " {'toponymName': 'Novhorodka',\n",
        "  'name': 'Novhorodka',\n",
        "  'fclName': 'city, village,...',\n",
        "  'countryName': 'Ukraine',\n",
        "  'lat': '48.36506',\n",
        "  'countryCode': 'UA',\n",
        "  'adminCode1': '10',\n",
        "  'population': 6405,\n",
        "  'fcode': 'PPLA2',\n",
        "  'adminName1': 'Kirovohrad',\n",
        "  'lng': '32.65785',\n",
        "  'countryId': '690791',\n",
        "  'fcl': 'P',\n",
        "  'geonameId': 699756,\n",
        "  'fcodeName': 'seat of a second-order administrative division'},\n",
        " {'toponymName': 'Vysokiye Bayraki',\n",
        "  'name': 'Vysokiye Bayraki',\n",
        "  'fclName': 'city, village,...',\n",
        "  'countryName': 'Ukraine',\n",
        "  'lat': '48.60695',\n",
        "  'countryCode': 'UA',\n",
        "  'adminCode1': '10',\n",
        "  'population': 0,\n",
        "  'fcode': 'PPL',\n",
        "  'adminName1': 'Kirovohrad',\n",
        "  'lng': '32.33692',\n",
        "  'countryId': '690791',\n",
        "  'fcl': 'P',\n",
        "  'geonameId': 688694,\n",
        "  'fcodeName': 'populated place'},\n",
        " {'toponymName': 'Vershino-Kamenka',\n",
        "  'name': 'Vershyno-Kam\u201dyanka',\n",
        "  'fclName': 'city, village,...',\n",
        "  'countryName': 'Ukraine',\n",
        "  'lat': '48.44231',\n",
        "  'countryCode': 'UA',\n",
        "  'adminCode1': '10',\n",
        "  'population': 0,\n",
        "  'fcode': 'PPL',\n",
        "  'adminName1': 'Kirovohrad',\n",
        "  'lng': '32.72524',\n",
        "  'countryId': '690791',\n",
        "  'fcl': 'P',\n",
        "  'geonameId': 689786,\n",
        "  'fcodeName': 'populated place'},\n",
        " {'toponymName': 'Ingulo-Kamenka',\n",
        "  'name': 'Ingulo-Kamenka',\n",
        "  'fclName': 'city, village,...',\n",
        "  'countryName': 'Ukraine',\n",
        "  'lat': '48.26522',\n",
        "  'countryCode': 'UA',\n",
        "  'adminCode1': '10',\n",
        "  'population': 0,\n",
        "  'fcode': 'PPL',\n",
        "  'adminName1': 'Kirovohrad',\n",
        "  'lng': '32.51804',\n",
        "  'countryId': '690791',\n",
        "  'fcl': 'P',\n",
        "  'geonameId': 707596,\n",
        "  'fcodeName': 'populated place'},\n",
        " {'toponymName': 'Holovkivka',\n",
        "  'name': 'Holovkivka',\n",
        "  'fclName': 'city, village,...',\n",
        "  'countryName': 'Ukraine',\n",
        "  'lat': '48.57414',\n",
        "  'countryCode': 'UA',\n",
        "  'adminCode1': '10',\n",
        "  'population': 0,\n",
        "  'fcode': 'PPL',\n",
        "  'adminName1': 'Kirovohrad',\n",
        "  'lng': '33.06219',\n",
        "  'countryId': '690791',\n",
        "  'fcl': 'P',\n",
        "  'geonameId': 708561,\n",
        "  'fcodeName': 'populated place'},\n",
        " {'toponymName': 'Kutsivka',\n",
        "  'name': 'Kutsivka',\n",
        "  'fclName': 'city, village,...',\n",
        "  'countryName': 'Ukraine',\n",
        "  'lat': '48.31697',\n",
        "  'countryCode': 'UA',\n",
        "  'adminCode1': '10',\n",
        "  'population': 0,\n",
        "  'fcode': 'PPL',\n",
        "  'adminName1': 'Kirovohrad',\n",
        "  'lng': '32.78896',\n",
        "  'countryId': '690791',\n",
        "  'fcl': 'P',\n",
        "  'geonameId': 828202,\n",
        "  'fcodeName': 'populated place'},\n",
        " {'toponymName': 'Novoromanivka',\n",
        "  'name': 'Novoromanivka',\n",
        "  'fclName': 'city, village,...',\n",
        "  'countryName': 'Ukraine',\n",
        "  'lat': '48.62439',\n",
        "  'countryCode': 'UA',\n",
        "  'adminCode1': '10',\n",
        "  'population': 0,\n",
        "  'fcode': 'PPL',\n",
        "  'adminName1': 'Kirovohrad',\n",
        "  'lng': '32.58306',\n",
        "  'countryId': '690791',\n",
        "  'fcl': 'P',\n",
        "  'geonameId': 828204,\n",
        "  'fcodeName': 'populated place'},\n",
        " {'toponymName': 'Kirove',\n",
        "  'name': 'Kirove',\n",
        "  'fclName': 'city, village,...',\n",
        "  'countryName': 'Ukraine',\n",
        "  'lat': '48.20178',\n",
        "  'countryCode': 'UA',\n",
        "  'adminCode1': '10',\n",
        "  'population': 0,\n",
        "  'fcode': 'PPL',\n",
        "  'adminName1': 'Kirovohrad',\n",
        "  'lng': '33.07661',\n",
        "  'countryId': '690791',\n",
        "  'fcl': 'P',\n",
        "  'geonameId': 829085,\n",
        "  'fcodeName': 'populated place'},\n",
        " {'toponymName': 'Veselivka',\n",
        "  'name': 'Veselivka',\n",
        "  'fclName': 'city, village,...',\n",
        "  'countryName': 'Ukraine',\n",
        "  'lat': '48.56427',\n",
        "  'countryCode': 'UA',\n",
        "  'adminCode1': '10',\n",
        "  'population': 0,\n",
        "  'fcode': 'PPL',\n",
        "  'adminName1': 'Kirovohrad',\n",
        "  'lng': '32.45216',\n",
        "  'countryId': '690791',\n",
        "  'fcl': 'P',\n",
        "  'geonameId': 829090,\n",
        "  'fcodeName': 'populated place'},\n",
        " {'toponymName': 'Poltavskiy',\n",
        "  'name': 'Poltavskiy',\n",
        "  'fclName': 'city, village,...',\n",
        "  'countryName': 'Ukraine',\n",
        "  'lat': '48.16435',\n",
        "  'countryCode': 'UA',\n",
        "  'adminCode1': '10',\n",
        "  'population': 0,\n",
        "  'fcode': 'PPL',\n",
        "  'adminName1': 'Kirovohrad',\n",
        "  'lng': '32.19779',\n",
        "  'countryId': '690791',\n",
        "  'fcl': 'P',\n",
        "  'geonameId': 696631,\n",
        "  'fcodeName': 'populated place'},\n",
        " {'toponymName': 'Pokrovs\u2019ke',\n",
        "  'name': \"Pokrovs'ke\",\n",
        "  'fclName': 'city, village,...',\n",
        "  'countryName': 'Ukraine',\n",
        "  'lat': '48.44238',\n",
        "  'countryCode': 'UA',\n",
        "  'adminCode1': '10',\n",
        "  'population': 0,\n",
        "  'fcode': 'PPL',\n",
        "  'adminName1': 'Kirovohrad',\n",
        "  'lng': '32.46279',\n",
        "  'countryId': '690791',\n",
        "  'fcl': 'P',\n",
        "  'geonameId': 696719,\n",
        "  'fcodeName': 'populated place'},\n",
        " {'toponymName': 'Ositnyazhka',\n",
        "  'name': 'Ositnyazhka',\n",
        "  'fclName': 'city, village,...',\n",
        "  'countryName': 'Ukraine',\n",
        "  'lat': '48.67994',\n",
        "  'countryCode': 'UA',\n",
        "  'adminCode1': '10',\n",
        "  'population': 0,\n",
        "  'fcode': 'PPL',\n",
        "  'adminName1': 'Kirovohrad',\n",
        "  'lng': '32.19198',\n",
        "  'countryId': '690791',\n",
        "  'fcl': 'P',\n",
        "  'geonameId': 698306,\n",
        "  'fcodeName': 'populated place'},\n",
        " {'toponymName': 'Novyy Kremenchuk',\n",
        "  'name': 'Novyy Kremenchuk',\n",
        "  'fclName': 'city, village,...',\n",
        "  'countryName': 'Ukraine',\n",
        "  'lat': '47.94836',\n",
        "  'countryCode': 'UA',\n",
        "  'adminCode1': '04',\n",
        "  'population': 0,\n",
        "  'fcode': 'PPL',\n",
        "  'adminName1': 'Dnipropetrovsk',\n",
        "  'lng': '33.03593',\n",
        "  'countryId': '690791',\n",
        "  'fcl': 'P',\n",
        "  'geonameId': 698902,\n",
        "  'fcodeName': 'populated place'},\n",
        " {'toponymName': 'Novoskelevatka',\n",
        "  'name': 'Novoskelevatka',\n",
        "  'fclName': 'city, village,...',\n",
        "  'countryName': 'Ukraine',\n",
        "  'lat': '48.02602',\n",
        "  'countryCode': 'UA',\n",
        "  'adminCode1': '16',\n",
        "  'population': 0,\n",
        "  'fcode': 'PPL',\n",
        "  'adminName1': 'Mykolaiv',\n",
        "  'lng': '32.95652',\n",
        "  'countryId': '690791',\n",
        "  'fcl': 'P',\n",
        "  'geonameId': 699147,\n",
        "  'fcodeName': 'populated place'},\n",
        " {'toponymName': 'Chernyakhivka',\n",
        "  'name': 'Chernyakhivka',\n",
        "  'fclName': 'city, village,...',\n",
        "  'countryName': 'Ukraine',\n",
        "  'lat': '48.56667',\n",
        "  'countryCode': 'UA',\n",
        "  'adminCode1': '10',\n",
        "  'population': 0,\n",
        "  'fcode': 'PPL',\n",
        "  'adminName1': 'Kirovohrad',\n",
        "  'lng': '32.43333',\n",
        "  'countryId': '690791',\n",
        "  'fcl': 'P',\n",
        "  'geonameId': 710661,\n",
        "  'fcodeName': 'populated place'},\n",
        " {'toponymName': 'Bratolyubovka',\n",
        "  'name': 'Bratolyubovka',\n",
        "  'fclName': 'city, village,...',\n",
        "  'countryName': 'Ukraine',\n",
        "  'lat': '48.21113',\n",
        "  'countryCode': 'UA',\n",
        "  'adminCode1': '10',\n",
        "  'population': 0,\n",
        "  'fcode': 'PPL',\n",
        "  'adminName1': 'Kirovohrad',\n",
        "  'lng': '32.95152',\n",
        "  'countryId': '690791',\n",
        "  'fcl': 'P',\n",
        "  'geonameId': 711464,\n",
        "  'fcodeName': 'populated place'},\n",
        " {'toponymName': 'Bokovo',\n",
        "  'name': 'Bokovo',\n",
        "  'fclName': 'city, village,...',\n",
        "  'countryName': 'Ukraine',\n",
        "  'lat': '48.21667',\n",
        "  'countryCode': 'UA',\n",
        "  'adminCode1': '10',\n",
        "  'population': 0,\n",
        "  'fcode': 'PPL',\n",
        "  'adminName1': 'Kirovohrad',\n",
        "  'lng': '33.08333',\n",
        "  'countryId': '690791',\n",
        "  'fcl': 'P',\n",
        "  'geonameId': 711856,\n",
        "  'fcodeName': 'populated place'},\n",
        " {'toponymName': 'Balakhovka',\n",
        "  'name': 'Balakhovka',\n",
        "  'fclName': 'city, village,...',\n",
        "  'countryName': 'Ukraine',\n",
        "  'lat': '48.46387',\n",
        "  'countryCode': 'UA',\n",
        "  'adminCode1': '10',\n",
        "  'population': 0,\n",
        "  'fcode': 'PPL',\n",
        "  'adminName1': 'Kirovohrad',\n",
        "  'lng': '33.17957',\n",
        "  'countryId': '690791',\n",
        "  'fcl': 'P',\n",
        "  'geonameId': 712932,\n",
        "  'fcodeName': 'populated place'},\n",
        " {'toponymName': 'Moshoryne',\n",
        "  'name': 'Moshoryne',\n",
        "  'fclName': 'city, village,...',\n",
        "  'countryName': 'Ukraine',\n",
        "  'lat': '48.62595',\n",
        "  'countryCode': 'UA',\n",
        "  'adminCode1': '10',\n",
        "  'population': 0,\n",
        "  'fcode': 'PPL',\n",
        "  'adminName1': 'Kirovohrad',\n",
        "  'lng': '32.71368',\n",
        "  'countryId': '690791',\n",
        "  'fcl': 'P',\n",
        "  'geonameId': 700728,\n",
        "  'fcodeName': 'populated place'},\n",
        " {'toponymName': 'Mytrofanivka',\n",
        "  'name': 'Mytrofanivka',\n",
        "  'fclName': 'city, village,...',\n",
        "  'countryName': 'Ukraine',\n",
        "  'lat': '48.50278',\n",
        "  'countryCode': 'UA',\n",
        "  'adminCode1': '10',\n",
        "  'population': 0,\n",
        "  'fcode': 'PPL',\n",
        "  'adminName1': 'Kirovohrad',\n",
        "  'lng': '32.71354',\n",
        "  'countryId': '690791',\n",
        "  'fcl': 'P',\n",
        "  'geonameId': 700983,\n",
        "  'fcodeName': 'populated place'},\n",
        " {'toponymName': 'Mirolyubovka',\n",
        "  'name': 'Mirolyubovka',\n",
        "  'fclName': 'city, village,...',\n",
        "  'countryName': 'Ukraine',\n",
        "  'lat': '47.80426',\n",
        "  'countryCode': 'UA',\n",
        "  'adminCode1': '16',\n",
        "  'population': 0,\n",
        "  'fcode': 'PPL',\n",
        "  'adminName1': 'Mykolaiv',\n",
        "  'lng': '32.32962',\n",
        "  'countryId': '690791',\n",
        "  'fcl': 'P',\n",
        "  'geonameId': 701046,\n",
        "  'fcodeName': 'populated place'},\n",
        " {'toponymName': 'Lozovatka',\n",
        "  'name': 'Lozovatka',\n",
        "  'fclName': 'city, village,...',\n",
        "  'countryName': 'Ukraine',\n",
        "  'lat': '48.15821',\n",
        "  'countryCode': 'UA',\n",
        "  'adminCode1': '10',\n",
        "  'population': 0,\n",
        "  'fcode': 'PPL',\n",
        "  'adminName1': 'Kirovohrad',\n",
        "  'lng': '32.36909',\n",
        "  'countryId': '690791',\n",
        "  'fcl': 'P',\n",
        "  'geonameId': 702773,\n",
        "  'fcodeName': 'populated place'},\n",
        " {'toponymName': 'Zeleny Stav',\n",
        "  'name': 'Zeleny Stav',\n",
        "  'fclName': 'city, village,...',\n",
        "  'countryName': 'Ukraine',\n",
        "  'lat': '47.71902',\n",
        "  'countryCode': 'UA',\n",
        "  'adminCode1': '04',\n",
        "  'population': 0,\n",
        "  'fcode': 'PPL',\n",
        "  'adminName1': 'Dnipropetrovsk',\n",
        "  'lng': '33.06242',\n",
        "  'countryId': '690791',\n",
        "  'fcl': 'P',\n",
        "  'geonameId': 687314,\n",
        "  'fcodeName': 'populated place'},\n",
        " {'toponymName': 'Vodyana',\n",
        "  'name': 'Vodyana',\n",
        "  'fclName': 'city, village,...',\n",
        "  'countryName': 'Ukraine',\n",
        "  'lat': '48.34827',\n",
        "  'countryCode': 'UA',\n",
        "  'adminCode1': '10',\n",
        "  'population': 0,\n",
        "  'fcode': 'PPL',\n",
        "  'adminName1': 'Kirovohrad',\n",
        "  'lng': '33.09337',\n",
        "  'countryId': '690791',\n",
        "  'fcl': 'P',\n",
        "  'geonameId': 689337,\n",
        "  'fcodeName': 'populated place'},\n",
        " {'toponymName': 'Vasil\u2019yevka',\n",
        "  'name': \"Vasil'yevka\",\n",
        "  'fclName': 'city, village,...',\n",
        "  'countryName': 'Ukraine',\n",
        "  'lat': '48.25827',\n",
        "  'countryCode': 'UA',\n",
        "  'adminCode1': '10',\n",
        "  'population': 0,\n",
        "  'fcode': 'PPL',\n",
        "  'adminName1': 'Kirovohrad',\n",
        "  'lng': '32.80849',\n",
        "  'countryId': '690791',\n",
        "  'fcl': 'P',\n",
        "  'geonameId': 690364,\n",
        "  'fcodeName': 'populated place'},\n",
        " {'toponymName': 'Varvarovka',\n",
        "  'name': 'Varvarovka',\n",
        "  'fclName': 'city, village,...',\n",
        "  'countryName': 'Ukraine',\n",
        "  'lat': '48.26376',\n",
        "  'countryCode': 'UA',\n",
        "  'adminCode1': '10',\n",
        "  'population': 0,\n",
        "  'fcode': 'PPL',\n",
        "  'adminName1': 'Kirovohrad',\n",
        "  'lng': '33.04719',\n",
        "  'countryId': '690791',\n",
        "  'fcl': 'P',\n",
        "  'geonameId': 690457,\n",
        "  'fcodeName': 'populated place'},\n",
        " {'toponymName': 'Kovalevka Number Two',\n",
        "  'name': 'Kovalevka Number Two',\n",
        "  'fclName': 'city, village,...',\n",
        "  'countryName': 'Ukraine',\n",
        "  'lat': '48',\n",
        "  'countryCode': 'UA',\n",
        "  'adminCode1': '10',\n",
        "  'population': 0,\n",
        "  'fcode': 'PPL',\n",
        "  'adminName1': 'Kirovohrad',\n",
        "  'lng': '32.58333',\n",
        "  'countryId': '690791',\n",
        "  'fcl': 'P',\n",
        "  'geonameId': 704628,\n",
        "  'fcodeName': 'populated place'},\n",
        " {'toponymName': 'Klintsy',\n",
        "  'name': 'Klintsy',\n",
        "  'fclName': 'city, village,...',\n",
        "  'countryName': 'Ukraine',\n",
        "  'lat': '48.42868',\n",
        "  'countryCode': 'UA',\n",
        "  'adminCode1': '10',\n",
        "  'population': 0,\n",
        "  'fcode': 'PPL',\n",
        "  'adminName1': 'Kirovohrad',\n",
        "  'lng': '32.378',\n",
        "  'countryId': '690791',\n",
        "  'fcl': 'P',\n",
        "  'geonameId': 705631,\n",
        "  'fcodeName': 'populated place'},\n",
        " {'toponymName': 'Khutor Shevchenko Nomer Pervyy',\n",
        "  'name': 'Khutor Shevchenko Nomer Pervyy',\n",
        "  'fclName': 'city, village,...',\n",
        "  'countryName': 'Ukraine',\n",
        "  'lat': '47.98333',\n",
        "  'countryCode': 'UA',\n",
        "  'adminCode1': '16',\n",
        "  'population': 0,\n",
        "  'fcode': 'PPL',\n",
        "  'adminName1': 'Mykolaiv',\n",
        "  'lng': '32.71667',\n",
        "  'countryId': '690791',\n",
        "  'fcl': 'P',\n",
        "  'geonameId': 705989,\n",
        "  'fcodeName': 'populated place'},\n",
        " {'toponymName': 'Kamenka',\n",
        "  'name': 'Kamenka',\n",
        "  'fclName': 'city, village,...',\n",
        "  'countryName': 'Ukraine',\n",
        "  'lat': '47.86667',\n",
        "  'countryCode': 'UA',\n",
        "  'adminCode1': '10',\n",
        "  'population': 0,\n",
        "  'fcode': 'PPL',\n",
        "  'adminName1': 'Kirovohrad',\n",
        "  'lng': '32.2',\n",
        "  'countryId': '690791',\n",
        "  'fcl': 'P',\n",
        "  'geonameId': 707060,\n",
        "  'fcodeName': 'populated place'},\n",
        " {'toponymName': 'Gurivka',\n",
        "  'name': 'Gurivka',\n",
        "  'fclName': 'city, village,...',\n",
        "  'countryName': 'Ukraine',\n",
        "  'lat': '48.09979',\n",
        "  'countryCode': 'UA',\n",
        "  'adminCode1': '10',\n",
        "  'population': 0,\n",
        "  'fcode': 'PPL',\n",
        "  'adminName1': 'Kirovohrad',\n",
        "  'lng': '33.10088',\n",
        "  'countryId': '690791',\n",
        "  'fcl': 'P',\n",
        "  'geonameId': 707868,\n",
        "  'fcodeName': 'populated place'},\n",
        " {'toponymName': 'Trepivka',\n",
        "  'name': 'Trepivka',\n",
        "  'fclName': 'city, village,...',\n",
        "  'countryName': 'Ukraine',\n",
        "  'lat': '48.68931',\n",
        "  'countryCode': 'UA',\n",
        "  'adminCode1': '10',\n",
        "  'population': 0,\n",
        "  'fcode': 'PPL',\n",
        "  'adminName1': 'Kirovohrad',\n",
        "  'lng': '32.36416',\n",
        "  'countryId': '690791',\n",
        "  'fcl': 'P',\n",
        "  'geonameId': 691326,\n",
        "  'fcodeName': 'populated place'},\n",
        " {'toponymName': 'Svitlopil\u2019',\n",
        "  'name': 'Svitlopil\u2019',\n",
        "  'fclName': 'city, village,...',\n",
        "  'countryName': 'Ukraine',\n",
        "  'lat': '48.60177',\n",
        "  'countryCode': 'UA',\n",
        "  'adminCode1': '10',\n",
        "  'population': 0,\n",
        "  'fcode': 'PPL',\n",
        "  'adminName1': 'Kirovohrad',\n",
        "  'lng': '32.8141',\n",
        "  'countryId': '690791',\n",
        "  'fcl': 'P',\n",
        "  'geonameId': 692088,\n",
        "  'fcodeName': 'populated place'},\n",
        " {'toponymName': 'Batyzman',\n",
        "  'name': \"Sukhodol'skoye\",\n",
        "  'fclName': 'city, village,...',\n",
        "  'countryName': 'Ukraine',\n",
        "  'lat': '48.23845',\n",
        "  'countryCode': 'UA',\n",
        "  'adminCode1': '10',\n",
        "  'population': 0,\n",
        "  'fcode': 'PPL',\n",
        "  'adminName1': 'Kirovohrad',\n",
        "  'lng': '32.70694',\n",
        "  'countryId': '690791',\n",
        "  'fcl': 'P',\n",
        "  'geonameId': 692253,\n",
        "  'fcodeName': 'populated place'},\n",
        " {'toponymName': 'Spasovo',\n",
        "  'name': 'Spasovo',\n",
        "  'fclName': 'city, village,...',\n",
        "  'countryName': 'Ukraine',\n",
        "  'lat': '48.41552',\n",
        "  'countryCode': 'UA',\n",
        "  'adminCode1': '10',\n",
        "  'population': 0,\n",
        "  'fcode': 'PPL',\n",
        "  'adminName1': 'Kirovohrad',\n",
        "  'lng': '33.05566',\n",
        "  'countryId': '690791',\n",
        "  'fcl': 'P',\n",
        "  'geonameId': 693037,\n",
        "  'fcodeName': 'populated place'},\n",
        " {'toponymName': 'Sontsevo',\n",
        "  'name': 'Sontsevo',\n",
        "  'fclName': 'city, village,...',\n",
        "  'countryName': 'Ukraine',\n",
        "  'lat': '47.86622',\n",
        "  'countryCode': 'UA',\n",
        "  'adminCode1': '10',\n",
        "  'population': 0,\n",
        "  'fcode': 'PPL',\n",
        "  'adminName1': 'Kirovohrad',\n",
        "  'lng': '32.51795',\n",
        "  'countryId': '690791',\n",
        "  'fcl': 'P',\n",
        "  'geonameId': 693149,\n",
        "  'fcodeName': 'populated place'},\n",
        " {'toponymName': 'Sofiyevo-Geykovka',\n",
        "  'name': 'Sofiyevo-Geykovka',\n",
        "  'fclName': 'city, village,...',\n",
        "  'countryName': 'Ukraine',\n",
        "  'lat': '48.01667',\n",
        "  'countryCode': 'UA',\n",
        "  'adminCode1': '04',\n",
        "  'population': 0,\n",
        "  'fcode': 'PPL',\n",
        "  'adminName1': 'Dnipropetrovsk',\n",
        "  'lng': '33.11667',\n",
        "  'countryId': '690791',\n",
        "  'fcl': 'P',\n",
        "  'geonameId': 693305,\n",
        "  'fcodeName': 'populated place'},\n",
        " {'toponymName': 'Sasovka',\n",
        "  'name': 'Sasovka',\n",
        "  'fclName': 'city, village,...',\n",
        "  'countryName': 'Ukraine',\n",
        "  'lat': '48.28691',\n",
        "  'countryCode': 'UA',\n",
        "  'adminCode1': '10',\n",
        "  'population': 0,\n",
        "  'fcode': 'PPL',\n",
        "  'adminName1': 'Kirovohrad',\n",
        "  'lng': '32.33371',\n",
        "  'countryId': '690791',\n",
        "  'fcl': 'P',\n",
        "  'geonameId': 694777,\n",
        "  'fcodeName': 'populated place'},\n",
        " {'toponymName': 'Berezuvatka',\n",
        "  'name': 'Berezuvatka',\n",
        "  'fclName': 'city, village,...',\n",
        "  'countryName': 'Ukraine',\n",
        "  'lat': '48.0129',\n",
        "  'countryCode': 'UA',\n",
        "  'adminCode1': '10',\n",
        "  'population': 0,\n",
        "  'fcode': 'PPL',\n",
        "  'adminName1': 'Kirovohrad',\n",
        "  'lng': '32.6035',\n",
        "  'countryId': '690791',\n",
        "  'fcl': 'P',\n",
        "  'geonameId': 7500754,\n",
        "  'fcodeName': 'populated place'},\n",
        " {'toponymName': 'Novooleksandrivka',\n",
        "  'name': 'Novooleksandrivka',\n",
        "  'fclName': 'city, village,...',\n",
        "  'countryName': 'Ukraine',\n",
        "  'lat': '48.55134',\n",
        "  'countryCode': 'UA',\n",
        "  'adminCode1': '10',\n",
        "  'population': 0,\n",
        "  'fcode': 'PPL',\n",
        "  'adminName1': 'Kirovohrad',\n",
        "  'lng': '32.64571',\n",
        "  'countryId': '690791',\n",
        "  'fcl': 'P',\n",
        "  'geonameId': 829104,\n",
        "  'fcodeName': 'populated place'},\n",
        " {'toponymName': 'Ranneye Utro',\n",
        "  'name': 'Ranneye Utro',\n",
        "  'fclName': 'city, village,...',\n",
        "  'countryName': 'Ukraine',\n",
        "  'lat': '47.93333',\n",
        "  'countryCode': 'UA',\n",
        "  'adminCode1': '04',\n",
        "  'population': 0,\n",
        "  'fcode': 'PPL',\n",
        "  'adminName1': 'Dnipropetrovsk',\n",
        "  'lng': '33.05',\n",
        "  'countryId': '690791',\n",
        "  'fcl': 'P',\n",
        "  'geonameId': 695818,\n",
        "  'fcodeName': 'populated place'},\n",
        " {'toponymName': 'Pushkino',\n",
        "  'name': 'Pushkino',\n",
        "  'fclName': 'city, village,...',\n",
        "  'countryName': 'Ukraine',\n",
        "  'lat': '48.7',\n",
        "  'countryCode': 'UA',\n",
        "  'adminCode1': '10',\n",
        "  'population': 0,\n",
        "  'fcode': 'PPL',\n",
        "  'adminName1': 'Kirovohrad',\n",
        "  'lng': '32.2',\n",
        "  'countryId': '690791',\n",
        "  'fcl': 'P',\n",
        "  'geonameId': 696039,\n",
        "  'fcodeName': 'populated place'},\n",
        " {'toponymName': 'Petropavlovka',\n",
        "  'name': 'Petropavlovka',\n",
        "  'fclName': 'city, village,...',\n",
        "  'countryName': 'Ukraine',\n",
        "  'lat': '47.76667',\n",
        "  'countryCode': 'UA',\n",
        "  'adminCode1': '16',\n",
        "  'population': 0,\n",
        "  'fcode': 'PPL',\n",
        "  'adminName1': 'Mykolaiv',\n",
        "  'lng': '32.28333',\n",
        "  'countryId': '690791',\n",
        "  'fcl': 'P',\n",
        "  'geonameId': 697427,\n",
        "  'fcodeName': 'populated place'},\n",
        " {'toponymName': 'Perepelitsyno',\n",
        "  'name': 'Perepelitsyno',\n",
        "  'fclName': 'city, village,...',\n",
        "  'countryName': 'Ukraine',\n",
        "  'lat': '48.11667',\n",
        "  'countryCode': 'UA',\n",
        "  'adminCode1': '10',\n",
        "  'population': 0,\n",
        "  'fcode': 'PPL',\n",
        "  'adminName1': 'Kirovohrad',\n",
        "  'lng': '32.33333',\n",
        "  'countryId': '690791',\n",
        "  'fcl': 'P',\n",
        "  'geonameId': 697688,\n",
        "  'fcodeName': 'populated place'},\n",
        " {'toponymName': 'Novyy Mir',\n",
        "  'name': 'Novyy Mir',\n",
        "  'fclName': 'city, village,...',\n",
        "  'countryName': 'Ukraine',\n",
        "  'lat': '47.93237',\n",
        "  'countryCode': 'UA',\n",
        "  'adminCode1': '04',\n",
        "  'population': 0,\n",
        "  'fcode': 'PPL',\n",
        "  'adminName1': 'Dnipropetrovsk',\n",
        "  'lng': '33.09975',\n",
        "  'countryId': '690791',\n",
        "  'fcl': 'P',\n",
        "  'geonameId': 698889,\n",
        "  'fcodeName': 'populated place'},\n",
        " {'toponymName': 'Novovladimirovka',\n",
        "  'name': 'Novovladimirovka',\n",
        "  'fclName': 'city, village,...',\n",
        "  'countryName': 'Ukraine',\n",
        "  'lat': '47.79829',\n",
        "  'countryCode': 'UA',\n",
        "  'adminCode1': '16',\n",
        "  'population': 0,\n",
        "  'fcode': 'PPL',\n",
        "  'adminName1': 'Mykolaiv',\n",
        "  'lng': '32.99954',\n",
        "  'countryId': '690791',\n",
        "  'fcl': 'P',\n",
        "  'geonameId': 699044,\n",
        "  'fcodeName': 'populated place'},\n",
        " {'toponymName': 'Novo-Ustinovka',\n",
        "  'name': 'Novo-Ustinovka',\n",
        "  'fclName': 'city, village,...',\n",
        "  'countryName': 'Ukraine',\n",
        "  'lat': '47.95063',\n",
        "  'countryCode': 'UA',\n",
        "  'adminCode1': '10',\n",
        "  'population': 0,\n",
        "  'fcode': 'PPL',\n",
        "  'adminName1': 'Kirovohrad',\n",
        "  'lng': '32.67456',\n",
        "  'countryId': '690791',\n",
        "  'fcl': 'P',\n",
        "  'geonameId': 699063,\n",
        "  'fcodeName': 'populated place'},\n",
        " {'toponymName': 'Stavrakova',\n",
        "  'name': 'Stavrakova',\n",
        "  'fclName': 'city, village,...',\n",
        "  'countryName': 'Ukraine',\n",
        "  'lat': '47.91667',\n",
        "  'countryCode': 'UA',\n",
        "  'adminCode1': '10',\n",
        "  'population': 0,\n",
        "  'fcode': 'PPL',\n",
        "  'adminName1': 'Kirovohrad',\n",
        "  'lng': '32.61667',\n",
        "  'countryId': '690791',\n",
        "  'fcl': 'P',\n",
        "  'geonameId': 699170,\n",
        "  'fcodeName': 'populated place'},\n",
        " {'toponymName': 'Boykovo',\n",
        "  'name': 'Boykovo',\n",
        "  'fclName': 'city, village,...',\n",
        "  'countryName': 'Ukraine',\n",
        "  'lat': '47.81667',\n",
        "  'countryCode': 'UA',\n",
        "  'adminCode1': '16',\n",
        "  'population': 0,\n",
        "  'fcode': 'PPL',\n",
        "  'adminName1': 'Mykolaiv',\n",
        "  'lng': '33',\n",
        "  'countryId': '690791',\n",
        "  'fcl': 'P',\n",
        "  'geonameId': 699198,\n",
        "  'fcodeName': 'populated place'},\n",
        " {'toponymName': 'Novo-Nikolayevka',\n",
        "  'name': 'Novo-Nikolayevka',\n",
        "  'fclName': 'city, village,...',\n",
        "  'countryName': 'Ukraine',\n",
        "  'lat': '47.84351',\n",
        "  'countryCode': 'UA',\n",
        "  'adminCode1': '10',\n",
        "  'population': 0,\n",
        "  'fcode': 'PPL',\n",
        "  'adminName1': 'Kirovohrad',\n",
        "  'lng': '32.2062',\n",
        "  'countryId': '690791',\n",
        "  'fcl': 'P',\n",
        "  'geonameId': 699416,\n",
        "  'fcodeName': 'populated place'},\n",
        " {'toponymName': 'Novolazarevka',\n",
        "  'name': 'Novolazarevka',\n",
        "  'fclName': 'city, village,...',\n",
        "  'countryName': 'Ukraine',\n",
        "  'lat': '47.77706',\n",
        "  'countryCode': 'UA',\n",
        "  'adminCode1': '16',\n",
        "  'population': 0,\n",
        "  'fcode': 'PPL',\n",
        "  'adminName1': 'Mykolaiv',\n",
        "  'lng': '32.97057',\n",
        "  'countryId': '690791',\n",
        "  'fcl': 'P',\n",
        "  'geonameId': 699487,\n",
        "  'fcodeName': 'populated place'},\n",
        " {'toponymName': 'Novogrigor\u2019yevka Pervaya',\n",
        "  'name': 'Novogrigor\u2019yevka Pervaya',\n",
        "  'fclName': 'city, village,...',\n",
        "  'countryName': 'Ukraine',\n",
        "  'lat': '48.20241',\n",
        "  'countryCode': 'UA',\n",
        "  'adminCode1': '10',\n",
        "  'population': 0,\n",
        "  'fcode': 'PPL',\n",
        "  'adminName1': 'Kirovohrad',\n",
        "  'lng': '32.6695',\n",
        "  'countryId': '690791',\n",
        "  'fcl': 'P',\n",
        "  'geonameId': 699561,\n",
        "  'fcodeName': 'populated place'},\n",
        " {'toponymName': 'Novaya Andreyevka',\n",
        "  'name': 'Novaya Andreyevka',\n",
        "  'fclName': 'city, village,...',\n",
        "  'countryName': 'Ukraine',\n",
        "  'lat': '48.42155',\n",
        "  'countryCode': 'UA',\n",
        "  'adminCode1': '10',\n",
        "  'population': 0,\n",
        "  'fcode': 'PPL',\n",
        "  'adminName1': 'Kirovohrad',\n",
        "  'lng': '32.59406',\n",
        "  'countryId': '690791',\n",
        "  'fcl': 'P',\n",
        "  'geonameId': 699890,\n",
        "  'fcodeName': 'populated place'},\n",
        " {'toponymName': 'Dubivka',\n",
        "  'name': 'Dubivka',\n",
        "  'fclName': 'city, village,...',\n",
        "  'countryName': 'Ukraine',\n",
        "  'lat': '48.46713',\n",
        "  'countryCode': 'UA',\n",
        "  'adminCode1': '10',\n",
        "  'population': 0,\n",
        "  'fcode': 'PPL',\n",
        "  'adminName1': 'Kirovohrad',\n",
        "  'lng': '33.01865',\n",
        "  'countryId': '690791',\n",
        "  'fcl': 'P',\n",
        "  'geonameId': 709554,\n",
        "  'fcodeName': 'populated place'},\n",
        " {'toponymName': 'Donino-Kamenka',\n",
        "  'name': 'Donino-Kamenka',\n",
        "  'fclName': 'city, village,...',\n",
        "  'countryName': 'Ukraine',\n",
        "  'lat': '48.67286',\n",
        "  'countryCode': 'UA',\n",
        "  'adminCode1': '10',\n",
        "  'population': 0,\n",
        "  'fcode': 'PPL',\n",
        "  'adminName1': 'Kirovohrad',\n",
        "  'lng': '32.3035',\n",
        "  'countryId': '690791',\n",
        "  'fcl': 'P',\n",
        "  'geonameId': 709706,\n",
        "  'fcodeName': 'populated place'},\n",
        " {'toponymName': 'Dmitrovka',\n",
        "  'name': 'Dmitrovka',\n",
        "  'fclName': 'city, village,...',\n",
        "  'countryName': 'Ukraine',\n",
        "  'lat': '47.95894',\n",
        "  'countryCode': 'UA',\n",
        "  'adminCode1': '16',\n",
        "  'population': 0,\n",
        "  'fcode': 'PPL',\n",
        "  'adminName1': 'Mykolaiv',\n",
        "  'lng': '32.74343',\n",
        "  'countryId': '690791',\n",
        "  'fcl': 'P',\n",
        "  'geonameId': 709986,\n",
        "  'fcodeName': 'populated place'},\n",
        " {'toponymName': 'Dmitro-Belovka',\n",
        "  'name': 'Dmitro-Belovka',\n",
        "  'fclName': 'city, village,...',\n",
        "  'countryName': 'Ukraine',\n",
        "  'lat': '47.93461',\n",
        "  'countryCode': 'UA',\n",
        "  'adminCode1': '16',\n",
        "  'population': 0,\n",
        "  'fcode': 'PPL',\n",
        "  'adminName1': 'Mykolaiv',\n",
        "  'lng': '32.79107',\n",
        "  'countryId': '690791',\n",
        "  'fcl': 'P',\n",
        "  'geonameId': 710000,\n",
        "  'fcodeName': 'populated place'},\n",
        " {'toponymName': 'Chervonyy Yar',\n",
        "  'name': 'Chervonyy Yar',\n",
        "  'fclName': 'city, village,...',\n",
        "  'countryName': 'Ukraine',\n",
        "  'lat': '48.51175',\n",
        "  'countryCode': 'UA',\n",
        "  'adminCode1': '10',\n",
        "  'population': 0,\n",
        "  'fcode': 'PPL',\n",
        "  'adminName1': 'Kirovohrad',\n",
        "  'lng': '32.60688',\n",
        "  'countryId': '690791',\n",
        "  'fcl': 'P',\n",
        "  'geonameId': 710498,\n",
        "  'fcodeName': 'populated place'},\n",
        " {'toponymName': 'Chernyakhovka',\n",
        "  'name': 'Chernyakhovka',\n",
        "  'fclName': 'city, village,...',\n",
        "  'countryName': 'Ukraine',\n",
        "  'lat': '48.5',\n",
        "  'countryCode': 'UA',\n",
        "  'adminCode1': '10',\n",
        "  'population': 0,\n",
        "  'fcode': 'PPL',\n",
        "  'adminName1': 'Kirovohrad',\n",
        "  'lng': '32.21667',\n",
        "  'countryId': '690791',\n",
        "  'fcl': 'P',\n",
        "  'geonameId': 710662,\n",
        "  'fcodeName': 'populated place'},\n",
        " {'toponymName': 'Bol\u2019shaya Severinka',\n",
        "  'name': 'Bol\u2019shaya Severinka',\n",
        "  'fclName': 'city, village,...',\n",
        "  'countryName': 'Ukraine',\n",
        "  'lat': '48.60858',\n",
        "  'countryCode': 'UA',\n",
        "  'adminCode1': '10',\n",
        "  'population': 0,\n",
        "  'fcode': 'PPL',\n",
        "  'adminName1': 'Kirovohrad',\n",
        "  'lng': '32.22505',\n",
        "  'countryId': '690791',\n",
        "  'fcl': 'P',\n",
        "  'geonameId': 711785,\n",
        "  'fcodeName': 'populated place'},\n",
        " {'toponymName': 'Shcherbino',\n",
        "  'name': 'Shcherbino',\n",
        "  'fclName': 'city, village,...',\n",
        "  'countryName': 'Ukraine',\n",
        "  'lat': '47.98333',\n",
        "  'countryCode': 'UA',\n",
        "  'adminCode1': '16',\n",
        "  'population': 0,\n",
        "  'fcode': 'PPL',\n",
        "  'adminName1': 'Mykolaiv',\n",
        "  'lng': '32.98333',\n",
        "  'countryId': '690791',\n",
        "  'fcl': 'P',\n",
        "  'geonameId': 711806,\n",
        "  'fcodeName': 'populated place'},\n",
        " {'toponymName': 'Bol\u2019shaya Danilovka',\n",
        "  'name': 'Bol\u2019shaya Danilovka',\n",
        "  'fclName': 'city, village,...',\n",
        "  'countryName': 'Ukraine',\n",
        "  'lat': '47.98026',\n",
        "  'countryCode': 'UA',\n",
        "  'adminCode1': '10',\n",
        "  'population': 0,\n",
        "  'fcode': 'PPL',\n",
        "  'adminName1': 'Kirovohrad',\n",
        "  'lng': '32.86908',\n",
        "  'countryId': '690791',\n",
        "  'fcl': 'P',\n",
        "  'geonameId': 711809,\n",
        "  'fcodeName': 'populated place'},\n",
        " {'toponymName': 'Chechelevka',\n",
        "  'name': 'Chechelevka',\n",
        "  'fclName': 'city, village,...',\n",
        "  'countryName': 'Ukraine',\n",
        "  'lat': '48.36071',\n",
        "  'countryCode': 'UA',\n",
        "  'adminCode1': '10',\n",
        "  'population': 0,\n",
        "  'fcode': 'PPL',\n",
        "  'adminName1': 'Kirovohrad',\n",
        "  'lng': '32.76143',\n",
        "  'countryId': '690791',\n",
        "  'fcl': 'P',\n",
        "  'geonameId': 711813,\n",
        "  'fcodeName': 'populated place'},\n",
        " {'toponymName': 'Aleksandrovka',\n",
        "  'name': 'Aleksandrovka',\n",
        "  'fclName': 'city, village,...',\n",
        "  'countryName': 'Ukraine',\n",
        "  'lat': '47.78333',\n",
        "  'countryCode': 'UA',\n",
        "  'adminCode1': '16',\n",
        "  'population': 0,\n",
        "  'fcode': 'PPL',\n",
        "  'adminName1': 'Mykolaiv',\n",
        "  'lng': '32.68333',\n",
        "  'countryId': '690791',\n",
        "  'fcl': 'P',\n",
        "  'geonameId': 711826,\n",
        "  'fcodeName': 'populated place'},\n",
        " {'toponymName': 'Bereznegovatskoye',\n",
        "  'name': 'Bereznegovatskoye',\n",
        "  'fclName': 'city, village,...',\n",
        "  'countryName': 'Ukraine',\n",
        "  'lat': '47.74833',\n",
        "  'countryCode': 'UA',\n",
        "  'adminCode1': '16',\n",
        "  'population': 0,\n",
        "  'fcode': 'PPL',\n",
        "  'adminName1': 'Mykolaiv',\n",
        "  'lng': '32.27792',\n",
        "  'countryId': '690791',\n",
        "  'fcl': 'P',\n",
        "  'geonameId': 712337,\n",
        "  'fcodeName': 'populated place'},\n",
        " {'toponymName': 'Bereslavka',\n",
        "  'name': 'Bereslavka',\n",
        "  'fclName': 'city, village,...',\n",
        "  'countryName': 'Ukraine',\n",
        "  'lat': '47.89273',\n",
        "  'countryCode': 'UA',\n",
        "  'adminCode1': '10',\n",
        "  'population': 0,\n",
        "  'fcode': 'PPL',\n",
        "  'adminName1': 'Kirovohrad',\n",
        "  'lng': '32.29424',\n",
        "  'countryId': '690791',\n",
        "  'fcl': 'P',\n",
        "  'geonameId': 712418,\n",
        "  'fcodeName': 'populated place'},\n",
        " {'toponymName': 'Annovka',\n",
        "  'name': 'Annovka',\n",
        "  'fclName': 'city, village,...',\n",
        "  'countryName': 'Ukraine',\n",
        "  'lat': '48.15923',\n",
        "  'countryCode': 'UA',\n",
        "  'adminCode1': '10',\n",
        "  'population': 0,\n",
        "  'fcode': 'PPL',\n",
        "  'adminName1': 'Kirovohrad',\n",
        "  'lng': '33.10492',\n",
        "  'countryId': '690791',\n",
        "  'fcl': 'P',\n",
        "  'geonameId': 713340,\n",
        "  'fcodeName': 'populated place'},\n",
        " {'toponymName': 'Anno-Trebinovka',\n",
        "  'name': 'Anno-Trebinovka',\n",
        "  'fclName': 'city, village,...',\n",
        "  'countryName': 'Ukraine',\n",
        "  'lat': '47.87405',\n",
        "  'countryCode': 'UA',\n",
        "  'adminCode1': '10',\n",
        "  'population': 0,\n",
        "  'fcode': 'PPL',\n",
        "  'adminName1': 'Kirovohrad',\n",
        "  'lng': '32.41748',\n",
        "  'countryId': '690791',\n",
        "  'fcl': 'P',\n",
        "  'geonameId': 713357,\n",
        "  'fcodeName': 'populated place'},\n",
        " {'toponymName': 'Anastas\u2019yevka',\n",
        "  'name': 'Anastas\u2019yevka',\n",
        "  'fclName': 'city, village,...',\n",
        "  'countryName': 'Ukraine',\n",
        "  'lat': '47.71818',\n",
        "  'countryCode': 'UA',\n",
        "  'adminCode1': '16',\n",
        "  'population': 0,\n",
        "  'fcode': 'PPL',\n",
        "  'adminName1': 'Mykolaiv',\n",
        "  'lng': '32.68888',\n",
        "  'countryId': '690791',\n",
        "  'fcl': 'P',\n",
        "  'geonameId': 713493,\n",
        "  'fcodeName': 'populated place'},\n",
        " {'toponymName': 'Nikanorovka',\n",
        "  'name': 'Nikanorovka',\n",
        "  'fclName': 'city, village,...',\n",
        "  'countryName': 'Ukraine',\n",
        "  'lat': '47.9507',\n",
        "  'countryCode': 'UA',\n",
        "  'adminCode1': '10',\n",
        "  'population': 0,\n",
        "  'fcode': 'PPL',\n",
        "  'adminName1': 'Kirovohrad',\n",
        "  'lng': '32.30078',\n",
        "  'countryId': '690791',\n",
        "  'fcl': 'P',\n",
        "  'geonameId': 700209,\n",
        "  'fcodeName': 'populated place'},\n",
        " {'toponymName': 'Neglyadovka',\n",
        "  'name': 'Neglyadovka',\n",
        "  'fclName': 'city, village,...',\n",
        "  'countryName': 'Ukraine',\n",
        "  'lat': '48.1766',\n",
        "  'countryCode': 'UA',\n",
        "  'adminCode1': '10',\n",
        "  'population': 0,\n",
        "  'fcode': 'PPL',\n",
        "  'adminName1': 'Kirovohrad',\n",
        "  'lng': '32.42168',\n",
        "  'countryId': '690791',\n",
        "  'fcl': 'P',\n",
        "  'geonameId': 700365,\n",
        "  'fcodeName': 'populated place'},\n",
        " {'toponymName': 'Moloshnyy',\n",
        "  'name': 'Moloshnyy',\n",
        "  'fclName': 'city, village,...',\n",
        "  'countryName': 'Ukraine',\n",
        "  'lat': '47.93333',\n",
        "  'countryCode': 'UA',\n",
        "  'adminCode1': '10',\n",
        "  'population': 0,\n",
        "  'fcode': 'PPL',\n",
        "  'adminName1': 'Kirovohrad',\n",
        "  'lng': '32.65',\n",
        "  'countryId': '690791',\n",
        "  'fcl': 'P',\n",
        "  'geonameId': 700819,\n",
        "  'fcodeName': 'populated place'},\n",
        " {'toponymName': 'Medovoye',\n",
        "  'name': 'Medovoye',\n",
        "  'fclName': 'city, village,...',\n",
        "  'countryName': 'Ukraine',\n",
        "  'lat': '47.84994',\n",
        "  'countryCode': 'UA',\n",
        "  'adminCode1': '10',\n",
        "  'population': 0,\n",
        "  'fcode': 'PPL',\n",
        "  'adminName1': 'Kirovohrad',\n",
        "  'lng': '32.62156',\n",
        "  'countryId': '690791',\n",
        "  'fcl': 'P',\n",
        "  'geonameId': 701457,\n",
        "  'fcodeName': 'populated place'},\n",
        " {'toponymName': 'Malinovka Pervaya',\n",
        "  'name': 'Malinovka Pervaya',\n",
        "  'fclName': 'city, village,...',\n",
        "  'countryName': 'Ukraine',\n",
        "  'lat': '47.75',\n",
        "  'countryCode': 'UA',\n",
        "  'adminCode1': '04',\n",
        "  'population': 0,\n",
        "  'fcode': 'PPL',\n",
        "  'adminName1': 'Dnipropetrovsk',\n",
        "  'lng': '33.08333',\n",
        "  'countryId': '690791',\n",
        "  'fcl': 'P',\n",
        "  'geonameId': 702095,\n",
        "  'fcodeName': 'populated place'},\n",
        " {'toponymName': 'Krasnyy',\n",
        "  'name': 'Krasnyy',\n",
        "  'fclName': 'city, village,...',\n",
        "  'countryName': 'Ukraine',\n",
        "  'lat': '47.83333',\n",
        "  'countryCode': 'UA',\n",
        "  'adminCode1': '10',\n",
        "  'population': 0,\n",
        "  'fcode': 'PPL',\n",
        "  'adminName1': 'Kirovohrad',\n",
        "  'lng': '32.28333',\n",
        "  'countryId': '690791',\n",
        "  'fcl': 'P',\n",
        "  'geonameId': 704236,\n",
        "  'fcodeName': 'populated place'},\n",
        " {'toponymName': 'Znamenka Vtoraya',\n",
        "  'name': 'Znamenka Vtoraya',\n",
        "  'fclName': 'city, village,...',\n",
        "  'countryName': 'Ukraine',\n",
        "  'lat': '48.71143',\n",
        "  'countryCode': 'UA',\n",
        "  'adminCode1': '10',\n",
        "  'population': 0,\n",
        "  'fcode': 'PPL',\n",
        "  'adminName1': 'Kirovohrad',\n",
        "  'lng': '32.59174',\n",
        "  'countryId': '690791',\n",
        "  'fcl': 'P',\n",
        "  'geonameId': 686915,\n",
        "  'fcodeName': 'populated place'},\n",
        " {'toponymName': 'Zlatopo',\n",
        "  'name': 'Zlatopo',\n",
        "  'fclName': 'city, village,...',\n",
        "  'countryName': 'Ukraine',\n",
        "  'lat': '47.73333',\n",
        "  'countryCode': 'UA',\n",
        "  'adminCode1': '16',\n",
        "  'population': 0,\n",
        "  'fcode': 'PPL',\n",
        "  'adminName1': 'Mykolaiv',\n",
        "  'lng': '32.23333',\n",
        "  'countryId': '690791',\n",
        "  'fcl': 'P',\n",
        "  'geonameId': 686942,\n",
        "  'fcodeName': 'populated place'},\n",
        " {'toponymName': 'Zhovtnevoye',\n",
        "  'name': 'Zhovtnevoye',\n",
        "  'fclName': 'city, village,...',\n",
        "  'countryName': 'Ukraine',\n",
        "  'lat': '48.10508',\n",
        "  'countryCode': 'UA',\n",
        "  'adminCode1': '10',\n",
        "  'population': 0,\n",
        "  'fcode': 'PPL',\n",
        "  'adminName1': 'Kirovohrad',\n",
        "  'lng': '32.59157',\n",
        "  'countryId': '690791',\n",
        "  'fcl': 'P',\n",
        "  'geonameId': 687076,\n",
        "  'fcodeName': 'populated place'},\n",
        " {'toponymName': 'Zel\u00ebnyy Lug',\n",
        "  'name': 'Zel\u00ebnyy Lug',\n",
        "  'fclName': 'city, village,...',\n",
        "  'countryName': 'Ukraine',\n",
        "  'lat': '47.89572',\n",
        "  'countryCode': 'UA',\n",
        "  'adminCode1': '04',\n",
        "  'population': 0,\n",
        "  'fcode': 'PPL',\n",
        "  'adminName1': 'Dnipropetrovsk',\n",
        "  'lng': '33.15286',\n",
        "  'countryId': '690791',\n",
        "  'fcl': 'P',\n",
        "  'geonameId': 687318,\n",
        "  'fcodeName': 'populated place'},\n",
        " {'toponymName': 'Voynivka',\n",
        "  'name': 'Voynivka',\n",
        "  'fclName': 'city, village,...',\n",
        "  'countryName': 'Ukraine',\n",
        "  'lat': '48.70028',\n",
        "  'countryCode': 'UA',\n",
        "  'adminCode1': '10',\n",
        "  'population': 0,\n",
        "  'fcode': 'PPL',\n",
        "  'adminName1': 'Kirovohrad',\n",
        "  'lng': '33.06827',\n",
        "  'countryId': '690791',\n",
        "  'fcl': 'P',\n",
        "  'geonameId': 688892,\n",
        "  'fcodeName': 'populated place'},\n",
        " {'toponymName': 'Ves\u00eblyy Podol',\n",
        "  'name': 'Ves\u00eblyy Podol',\n",
        "  'fclName': 'city, village,...',\n",
        "  'countryName': 'Ukraine',\n",
        "  'lat': '47.79157',\n",
        "  'countryCode': 'UA',\n",
        "  'adminCode1': '16',\n",
        "  'population': 0,\n",
        "  'fcode': 'PPL',\n",
        "  'adminName1': 'Mykolaiv',\n",
        "  'lng': '32.2734',\n",
        "  'countryId': '690791',\n",
        "  'fcl': 'P',\n",
        "  'geonameId': 689673,\n",
        "  'fcodeName': 'populated place'},\n",
        " {'toponymName': 'Vesely Gay',\n",
        "  'name': 'Vesely Gay',\n",
        "  'fclName': 'city, village,...',\n",
        "  'countryName': 'Ukraine',\n",
        "  'lat': '47.74406',\n",
        "  'countryCode': 'UA',\n",
        "  'adminCode1': '16',\n",
        "  'population': 0,\n",
        "  'fcode': 'PPL',\n",
        "  'adminName1': 'Mykolaiv',\n",
        "  'lng': '33.01391',\n",
        "  'countryId': '690791',\n",
        "  'fcl': 'P',\n",
        "  'geonameId': 689696,\n",
        "  'fcodeName': 'populated place'},\n",
        " {'toponymName': 'Verblyuzhka',\n",
        "  'name': 'Verblyuzhka',\n",
        "  'fclName': 'city, village,...',\n",
        "  'countryName': 'Ukraine',\n",
        "  'lat': '48.32226',\n",
        "  'countryCode': 'UA',\n",
        "  'adminCode1': '10',\n",
        "  'population': 0,\n",
        "  'fcode': 'PPL',\n",
        "  'adminName1': 'Kirovohrad',\n",
        "  'lng': '32.87861',\n",
        "  'countryId': '690791',\n",
        "  'fcl': 'P',\n",
        "  'geonameId': 689992,\n",
        "  'fcodeName': 'populated place'},\n",
        " {'toponymName': 'Varvarovka',\n",
        "  'name': 'Varvarovka',\n",
        "  'fclName': 'city, village,...',\n",
        "  'countryName': 'Ukraine',\n",
        "  'lat': '47.9',\n",
        "  'countryCode': 'UA',\n",
        "  'adminCode1': '10',\n",
        "  'population': 0,\n",
        "  'fcode': 'PPL',\n",
        "  'adminName1': 'Kirovohrad',\n",
        "  'lng': '32.2',\n",
        "  'countryId': '690791',\n",
        "  'fcl': 'P',\n",
        "  'geonameId': 690462,\n",
        "  'fcodeName': 'populated place'},\n",
        " {'toponymName': 'Uteshnoye',\n",
        "  'name': 'Uteshnoye',\n",
        "  'fclName': 'city, village,...',\n",
        "  'countryName': 'Ukraine',\n",
        "  'lat': '48.13333',\n",
        "  'countryCode': 'UA',\n",
        "  'adminCode1': '10',\n",
        "  'population': 0,\n",
        "  'fcode': 'PPL',\n",
        "  'adminName1': 'Kirovohrad',\n",
        "  'lng': '33.01667',\n",
        "  'countryId': '690791',\n",
        "  'fcl': 'P',\n",
        "  'geonameId': 690576,\n",
        "  'fcodeName': 'populated place'},\n",
        " {'toponymName': 'Koloniya Gromokley',\n",
        "  'name': 'Koloniya Gromokley',\n",
        "  'fclName': 'city, village,...',\n",
        "  'countryName': 'Ukraine',\n",
        "  'lat': '47.89136',\n",
        "  'countryCode': 'UA',\n",
        "  'adminCode1': '10',\n",
        "  'population': 0,\n",
        "  'fcode': 'PPL',\n",
        "  'adminName1': 'Kirovohrad',\n",
        "  'lng': '32.32913',\n",
        "  'countryId': '690791',\n",
        "  'fcl': 'P',\n",
        "  'geonameId': 705371,\n",
        "  'fcodeName': 'populated place'},\n",
        " {'toponymName': 'Kirovohrad',\n",
        "  'name': 'Kirovohrad',\n",
        "  'fclName': 'city, village,...',\n",
        "  'countryName': 'Ukraine',\n",
        "  'lat': '48.5132',\n",
        "  'countryCode': 'UA',\n",
        "  'adminCode1': '10',\n",
        "  'population': 249454,\n",
        "  'fcode': 'PPLA',\n",
        "  'adminName1': 'Kirovohrad',\n",
        "  'lng': '32.2597',\n",
        "  'countryId': '690791',\n",
        "  'fcl': 'P',\n",
        "  'geonameId': 705812,\n",
        "  'fcodeName': 'seat of a first-order administrative division'},\n",
        " {'toponymName': 'Oleksandriya',\n",
        "  'name': 'Oleksandriya',\n",
        "  'fclName': 'city, village,...',\n",
        "  'countryName': 'Ukraine',\n",
        "  'lat': '48.66961',\n",
        "  'countryCode': 'UA',\n",
        "  'adminCode1': '10',\n",
        "  'population': 103000,\n",
        "  'fcode': 'PPLA2',\n",
        "  'adminName1': 'Kirovohrad',\n",
        "  'lng': '33.11593',\n",
        "  'countryId': '690791',\n",
        "  'fcl': 'P',\n",
        "  'geonameId': 698625,\n",
        "  'fcodeName': 'seat of a second-order administrative division'},\n",
        " {'toponymName': 'Znomenka',\n",
        "  'name': 'Znam\u201dyanka',\n",
        "  'fclName': 'city, village,...',\n",
        "  'countryName': 'Ukraine',\n",
        "  'lat': '48.71278',\n",
        "  'countryCode': 'UA',\n",
        "  'adminCode1': '10',\n",
        "  'population': 28318,\n",
        "  'fcode': 'PPLA2',\n",
        "  'adminName1': 'Kirovohrad',\n",
        "  'lng': '32.66472',\n",
        "  'countryId': '690791',\n",
        "  'fcl': 'P',\n",
        "  'geonameId': 686919,\n",
        "  'fcodeName': 'seat of a second-order administrative division'},\n",
        " {'toponymName': \"Dolyns'ka\",\n",
        "  'name': \"Dolyns'ka\",\n",
        "  'fclName': 'city, village,...',\n",
        "  'countryName': 'Ukraine',\n",
        "  'lat': '48.11041',\n",
        "  'countryCode': 'UA',\n",
        "  'adminCode1': '10',\n",
        "  'population': 34267,\n",
        "  'fcode': 'PPL',\n",
        "  'adminName1': 'Kirovohrad',\n",
        "  'lng': '32.76449',\n",
        "  'countryId': '690791',\n",
        "  'fcl': 'P',\n",
        "  'geonameId': 709782,\n",
        "  'fcodeName': 'populated place'},\n",
        " {'toponymName': 'Pantayivka',\n",
        "  'name': 'Pantayivka',\n",
        "  'fclName': 'city, village,...',\n",
        "  'countryName': 'Ukraine',\n",
        "  'lat': '48.674',\n",
        "  'countryCode': 'UA',\n",
        "  'adminCode1': '10',\n",
        "  'population': 2918,\n",
        "  'fcode': 'PPL',\n",
        "  'adminName1': 'Kirovohrad',\n",
        "  'lng': '32.8841',\n",
        "  'countryId': '690791',\n",
        "  'fcl': 'P',\n",
        "  'geonameId': 698008,\n",
        "  'fcodeName': 'populated place'},\n",
        " {'toponymName': 'Novyy Starodub',\n",
        "  'name': 'Novyy Starodub',\n",
        "  'fclName': 'city, village,...',\n",
        "  'countryName': 'Ukraine',\n",
        "  'lat': '48.5158',\n",
        "  'countryCode': 'UA',\n",
        "  'adminCode1': '10',\n",
        "  'population': 4777,\n",
        "  'fcode': 'PPL',\n",
        "  'adminName1': 'Kirovohrad',\n",
        "  'lng': '33.17329',\n",
        "  'countryId': '690791',\n",
        "  'fcl': 'P',\n",
        "  'geonameId': 698869,\n",
        "  'fcodeName': 'populated place'},\n",
        " {'toponymName': 'Nova Praha',\n",
        "  'name': 'Nova Praha',\n",
        "  'fclName': 'city, village,...',\n",
        "  'countryName': 'Ukraine',\n",
        "  'lat': '48.56821',\n",
        "  'countryCode': 'UA',\n",
        "  'adminCode1': '10',\n",
        "  'population': 7513,\n",
        "  'fcode': 'PPL',\n",
        "  'adminName1': 'Kirovohrad',\n",
        "  'lng': '32.90273',\n",
        "  'countryId': '690791',\n",
        "  'fcl': 'P',\n",
        "  'geonameId': 699802,\n",
        "  'fcodeName': 'populated place'},\n",
        " {'toponymName': 'Dymytrove',\n",
        "  'name': 'Dymytrove',\n",
        "  'fclName': 'city, village,...',\n",
        "  'countryName': 'Ukraine',\n",
        "  'lat': '48.60767',\n",
        "  'countryCode': 'UA',\n",
        "  'adminCode1': '10',\n",
        "  'population': 5410,\n",
        "  'fcode': 'PPL',\n",
        "  'adminName1': 'Kirovohrad',\n",
        "  'lng': '32.98347',\n",
        "  'countryId': '690791',\n",
        "  'fcl': 'P',\n",
        "  'geonameId': 710032,\n",
        "  'fcodeName': 'populated place'},\n",
        " {'toponymName': 'Molodizhne',\n",
        "  'name': 'Molodizhne',\n",
        "  'fclName': 'city, village,...',\n",
        "  'countryName': 'Ukraine',\n",
        "  'lat': '48.17732',\n",
        "  'countryCode': 'UA',\n",
        "  'adminCode1': '10',\n",
        "  'population': 1541,\n",
        "  'fcode': 'PPL',\n",
        "  'adminName1': 'Kirovohrad',\n",
        "  'lng': '32.66015',\n",
        "  'countryId': '690791',\n",
        "  'fcl': 'P',\n",
        "  'geonameId': 700834,\n",
        "  'fcodeName': 'populated place'},\n",
        " {'toponymName': 'Ustynivka',\n",
        "  'name': 'Ustynivka',\n",
        "  'fclName': 'city, village,...',\n",
        "  'countryName': 'Ukraine',\n",
        "  'lat': '47.95507',\n",
        "  'countryCode': 'UA',\n",
        "  'adminCode1': '10',\n",
        "  'population': 4003,\n",
        "  'fcode': 'PPLA2',\n",
        "  'adminName1': 'Kirovohrad',\n",
        "  'lng': '32.53674',\n",
        "  'countryId': '690791',\n",
        "  'fcl': 'P',\n",
        "  'geonameId': 690600,\n",
        "  'fcodeName': 'seat of a second-order administrative division'},\n",
        " {'toponymName': 'Kompaniyivka',\n",
        "  'name': 'Kompaniyivka',\n",
        "  'fclName': 'city, village,...',\n",
        "  'countryName': 'Ukraine',\n",
        "  'lat': '48.25115',\n",
        "  'countryCode': 'UA',\n",
        "  'adminCode1': '10',\n",
        "  'population': 4934,\n",
        "  'fcode': 'PPLA2',\n",
        "  'adminName1': 'Kirovohrad',\n",
        "  'lng': '32.20795',\n",
        "  'countryId': '690791',\n",
        "  'fcl': 'P',\n",
        "  'geonameId': 705198,\n",
        "  'fcodeName': 'seat of a second-order administrative division'},\n",
        " {'toponymName': 'Kazanka',\n",
        "  'name': 'Kazanka',\n",
        "  'fclName': 'city, village,...',\n",
        "  'countryName': 'Ukraine',\n",
        "  'lat': '47.84625',\n",
        "  'countryCode': 'UA',\n",
        "  'adminCode1': '16',\n",
        "  'population': 8010,\n",
        "  'fcode': 'PPLA2',\n",
        "  'adminName1': 'Mykolaiv',\n",
        "  'lng': '32.82177',\n",
        "  'countryId': '690791',\n",
        "  'fcl': 'P',\n",
        "  'geonameId': 706580,\n",
        "  'fcodeName': 'seat of a second-order administrative division'},\n",
        " {'toponymName': 'Subottsi',\n",
        "  'name': 'Subottsi',\n",
        "  'fclName': 'city, village,...',\n",
        "  'countryName': 'Ukraine',\n",
        "  'lat': '48.65545',\n",
        "  'countryCode': 'UA',\n",
        "  'adminCode1': '10',\n",
        "  'population': 3095,\n",
        "  'fcode': 'PPL',\n",
        "  'adminName1': 'Kirovohrad',\n",
        "  'lng': '32.52093',\n",
        "  'countryId': '690791',\n",
        "  'fcl': 'P',\n",
        "  'geonameId': 692317,\n",
        "  'fcodeName': 'populated place'},\n",
        " {'toponymName': 'Adzhamka',\n",
        "  'name': 'Adzhamka',\n",
        "  'fclName': 'city, village,...',\n",
        "  'countryName': 'Ukraine',\n",
        "  'lat': '48.54244',\n",
        "  'countryCode': 'UA',\n",
        "  'adminCode1': '10',\n",
        "  'population': 3859,\n",
        "  'fcode': 'PPL',\n",
        "  'adminName1': 'Kirovohrad',\n",
        "  'lng': '32.53542',\n",
        "  'countryId': '690791',\n",
        "  'fcl': 'P',\n",
        "  'geonameId': 713784,\n",
        "  'fcodeName': 'populated place'},\n",
        " {'toponymName': 'Novhorodka',\n",
        "  'name': 'Novhorodka',\n",
        "  'fclName': 'city, village,...',\n",
        "  'countryName': 'Ukraine',\n",
        "  'lat': '48.36506',\n",
        "  'countryCode': 'UA',\n",
        "  'adminCode1': '10',\n",
        "  'population': 6405,\n",
        "  'fcode': 'PPLA2',\n",
        "  'adminName1': 'Kirovohrad',\n",
        "  'lng': '32.65785',\n",
        "  'countryId': '690791',\n",
        "  'fcl': 'P',\n",
        "  'geonameId': 699756,\n",
        "  'fcodeName': 'seat of a second-order administrative division'},\n",
        " {'toponymName': 'Vysokiye Bayraki',\n",
        "  'name': 'Vysokiye Bayraki',\n",
        "  'fclName': 'city, village,...',\n",
        "  'countryName': 'Ukraine',\n",
        "  'lat': '48.60695',\n",
        "  'countryCode': 'UA',\n",
        "  'adminCode1': '10',\n",
        "  'population': 0,\n",
        "  'fcode': 'PPL',\n",
        "  'adminName1': 'Kirovohrad',\n",
        "  'lng': '32.33692',\n",
        "  'countryId': '690791',\n",
        "  'fcl': 'P',\n",
        "  'geonameId': 688694,\n",
        "  'fcodeName': 'populated place'},\n",
        " {'toponymName': 'Vershino-Kamenka',\n",
        "  'name': 'Vershyno-Kam\u201dyanka',\n",
        "  'fclName': 'city, village,...',\n",
        "  'countryName': 'Ukraine',\n",
        "  'lat': '48.44231',\n",
        "  'countryCode': 'UA',\n",
        "  'adminCode1': '10',\n",
        "  'population': 0,\n",
        "  'fcode': 'PPL',\n",
        "  'adminName1': 'Kirovohrad',\n",
        "  'lng': '32.72524',\n",
        "  'countryId': '690791',\n",
        "  'fcl': 'P',\n",
        "  'geonameId': 689786,\n",
        "  'fcodeName': 'populated place'},\n",
        " {'toponymName': 'Ingulo-Kamenka',\n",
        "  'name': 'Ingulo-Kamenka',\n",
        "  'fclName': 'city, village,...',\n",
        "  'countryName': 'Ukraine',\n",
        "  'lat': '48.26522',\n",
        "  'countryCode': 'UA',\n",
        "  'adminCode1': '10',\n",
        "  'population': 0,\n",
        "  'fcode': 'PPL',\n",
        "  'adminName1': 'Kirovohrad',\n",
        "  'lng': '32.51804',\n",
        "  'countryId': '690791',\n",
        "  'fcl': 'P',\n",
        "  'geonameId': 707596,\n",
        "  'fcodeName': 'populated place'},\n",
        " {'toponymName': 'Holovkivka',\n",
        "  'name': 'Holovkivka',\n",
        "  'fclName': 'city, village,...',\n",
        "  'countryName': 'Ukraine',\n",
        "  'lat': '48.57414',\n",
        "  'countryCode': 'UA',\n",
        "  'adminCode1': '10',\n",
        "  'population': 0,\n",
        "  'fcode': 'PPL',\n",
        "  'adminName1': 'Kirovohrad',\n",
        "  'lng': '33.06219',\n",
        "  'countryId': '690791',\n",
        "  'fcl': 'P',\n",
        "  'geonameId': 708561,\n",
        "  'fcodeName': 'populated place'},\n",
        " {'toponymName': 'Kutsivka',\n",
        "  'name': 'Kutsivka',\n",
        "  'fclName': 'city, village,...',\n",
        "  'countryName': 'Ukraine',\n",
        "  'lat': '48.31697',\n",
        "  'countryCode': 'UA',\n",
        "  'adminCode1': '10',\n",
        "  'population': 0,\n",
        "  'fcode': 'PPL',\n",
        "  'adminName1': 'Kirovohrad',\n",
        "  'lng': '32.78896',\n",
        "  'countryId': '690791',\n",
        "  'fcl': 'P',\n",
        "  'geonameId': 828202,\n",
        "  'fcodeName': 'populated place'},\n",
        " {'toponymName': 'Novoromanivka',\n",
        "  'name': 'Novoromanivka',\n",
        "  'fclName': 'city, village,...',\n",
        "  'countryName': 'Ukraine',\n",
        "  'lat': '48.62439',\n",
        "  'countryCode': 'UA',\n",
        "  'adminCode1': '10',\n",
        "  'population': 0,\n",
        "  'fcode': 'PPL',\n",
        "  'adminName1': 'Kirovohrad',\n",
        "  'lng': '32.58306',\n",
        "  'countryId': '690791',\n",
        "  'fcl': 'P',\n",
        "  'geonameId': 828204,\n",
        "  'fcodeName': 'populated place'},\n",
        " {'toponymName': 'Kirove',\n",
        "  'name': 'Kirove',\n",
        "  'fclName': 'city, village,...',\n",
        "  'countryName': 'Ukraine',\n",
        "  'lat': '48.20178',\n",
        "  'countryCode': 'UA',\n",
        "  'adminCode1': '10',\n",
        "  'population': 0,\n",
        "  'fcode': 'PPL',\n",
        "  'adminName1': 'Kirovohrad',\n",
        "  'lng': '33.07661',\n",
        "  'countryId': '690791',\n",
        "  'fcl': 'P',\n",
        "  'geonameId': 829085,\n",
        "  'fcodeName': 'populated place'},\n",
        " {'toponymName': 'Veselivka',\n",
        "  'name': 'Veselivka',\n",
        "  'fclName': 'city, village,...',\n",
        "  'countryName': 'Ukraine',\n",
        "  'lat': '48.56427',\n",
        "  'countryCode': 'UA',\n",
        "  'adminCode1': '10',\n",
        "  'population': 0,\n",
        "  'fcode': 'PPL',\n",
        "  'adminName1': 'Kirovohrad',\n",
        "  'lng': '32.45216',\n",
        "  'countryId': '690791',\n",
        "  'fcl': 'P',\n",
        "  'geonameId': 829090,\n",
        "  'fcodeName': 'populated place'},\n",
        " {'toponymName': 'Poltavskiy',\n",
        "  'name': 'Poltavskiy',\n",
        "  'fclName': 'city, village,...',\n",
        "  'countryName': 'Ukraine',\n",
        "  'lat': '48.16435',\n",
        "  'countryCode': 'UA',\n",
        "  'adminCode1': '10',\n",
        "  'population': 0,\n",
        "  'fcode': 'PPL',\n",
        "  'adminName1': 'Kirovohrad',\n",
        "  'lng': '32.19779',\n",
        "  'countryId': '690791',\n",
        "  'fcl': 'P',\n",
        "  'geonameId': 696631,\n",
        "  'fcodeName': 'populated place'},\n",
        " {'toponymName': 'Pokrovs\u2019ke',\n",
        "  'name': \"Pokrovs'ke\",\n",
        "  'fclName': 'city, village,...',\n",
        "  'countryName': 'Ukraine',\n",
        "  'lat': '48.44238',\n",
        "  'countryCode': 'UA',\n",
        "  'adminCode1': '10',\n",
        "  'population': 0,\n",
        "  'fcode': 'PPL',\n",
        "  'adminName1': 'Kirovohrad',\n",
        "  'lng': '32.46279',\n",
        "  'countryId': '690791',\n",
        "  'fcl': 'P',\n",
        "  'geonameId': 696719,\n",
        "  'fcodeName': 'populated place'},\n",
        " {'toponymName': 'Ositnyazhka',\n",
        "  'name': 'Ositnyazhka',\n",
        "  'fclName': 'city, village,...',\n",
        "  'countryName': 'Ukraine',\n",
        "  'lat': '48.67994',\n",
        "  'countryCode': 'UA',\n",
        "  'adminCode1': '10',\n",
        "  'population': 0,\n",
        "  'fcode': 'PPL',\n",
        "  'adminName1': 'Kirovohrad',\n",
        "  'lng': '32.19198',\n",
        "  'countryId': '690791',\n",
        "  'fcl': 'P',\n",
        "  'geonameId': 698306,\n",
        "  'fcodeName': 'populated place'},\n",
        " {'toponymName': 'Novyy Kremenchuk',\n",
        "  'name': 'Novyy Kremenchuk',\n",
        "  'fclName': 'city, village,...',\n",
        "  'countryName': 'Ukraine',\n",
        "  'lat': '47.94836',\n",
        "  'countryCode': 'UA',\n",
        "  'adminCode1': '04',\n",
        "  'population': 0,\n",
        "  'fcode': 'PPL',\n",
        "  'adminName1': 'Dnipropetrovsk',\n",
        "  'lng': '33.03593',\n",
        "  'countryId': '690791',\n",
        "  'fcl': 'P',\n",
        "  'geonameId': 698902,\n",
        "  'fcodeName': 'populated place'},\n",
        " {'toponymName': 'Novoskelevatka',\n",
        "  'name': 'Novoskelevatka',\n",
        "  'fclName': 'city, village,...',\n",
        "  'countryName': 'Ukraine',\n",
        "  'lat': '48.02602',\n",
        "  'countryCode': 'UA',\n",
        "  'adminCode1': '16',\n",
        "  'population': 0,\n",
        "  'fcode': 'PPL',\n",
        "  'adminName1': 'Mykolaiv',\n",
        "  'lng': '32.95652',\n",
        "  'countryId': '690791',\n",
        "  'fcl': 'P',\n",
        "  'geonameId': 699147,\n",
        "  'fcodeName': 'populated place'},\n",
        " {'toponymName': 'Chernyakhivka',\n",
        "  'name': 'Chernyakhivka',\n",
        "  'fclName': 'city, village,...',\n",
        "  'countryName': 'Ukraine',\n",
        "  'lat': '48.56667',\n",
        "  'countryCode': 'UA',\n",
        "  'adminCode1': '10',\n",
        "  'population': 0,\n",
        "  'fcode': 'PPL',\n",
        "  'adminName1': 'Kirovohrad',\n",
        "  'lng': '32.43333',\n",
        "  'countryId': '690791',\n",
        "  'fcl': 'P',\n",
        "  'geonameId': 710661,\n",
        "  'fcodeName': 'populated place'},\n",
        " {'toponymName': 'Bratolyubovka',\n",
        "  'name': 'Bratolyubovka',\n",
        "  'fclName': 'city, village,...',\n",
        "  'countryName': 'Ukraine',\n",
        "  'lat': '48.21113',\n",
        "  'countryCode': 'UA',\n",
        "  'adminCode1': '10',\n",
        "  'population': 0,\n",
        "  'fcode': 'PPL',\n",
        "  'adminName1': 'Kirovohrad',\n",
        "  'lng': '32.95152',\n",
        "  'countryId': '690791',\n",
        "  'fcl': 'P',\n",
        "  'geonameId': 711464,\n",
        "  'fcodeName': 'populated place'},\n",
        " {'toponymName': 'Bokovo',\n",
        "  'name': 'Bokovo',\n",
        "  'fclName': 'city, village,...',\n",
        "  'countryName': 'Ukraine',\n",
        "  'lat': '48.21667',\n",
        "  'countryCode': 'UA',\n",
        "  'adminCode1': '10',\n",
        "  'population': 0,\n",
        "  'fcode': 'PPL',\n",
        "  'adminName1': 'Kirovohrad',\n",
        "  'lng': '33.08333',\n",
        "  'countryId': '690791',\n",
        "  'fcl': 'P',\n",
        "  'geonameId': 711856,\n",
        "  'fcodeName': 'populated place'},\n",
        " {'toponymName': 'Balakhovka',\n",
        "  'name': 'Balakhovka',\n",
        "  'fclName': 'city, village,...',\n",
        "  'countryName': 'Ukraine',\n",
        "  'lat': '48.46387',\n",
        "  'countryCode': 'UA',\n",
        "  'adminCode1': '10',\n",
        "  'population': 0,\n",
        "  'fcode': 'PPL',\n",
        "  'adminName1': 'Kirovohrad',\n",
        "  'lng': '33.17957',\n",
        "  'countryId': '690791',\n",
        "  'fcl': 'P',\n",
        "  'geonameId': 712932,\n",
        "  'fcodeName': 'populated place'},\n",
        " {'toponymName': 'Moshoryne',\n",
        "  'name': 'Moshoryne',\n",
        "  'fclName': 'city, village,...',\n",
        "  'countryName': 'Ukraine',\n",
        "  'lat': '48.62595',\n",
        "  'countryCode': 'UA',\n",
        "  'adminCode1': '10',\n",
        "  'population': 0,\n",
        "  'fcode': 'PPL',\n",
        "  'adminName1': 'Kirovohrad',\n",
        "  'lng': '32.71368',\n",
        "  'countryId': '690791',\n",
        "  'fcl': 'P',\n",
        "  'geonameId': 700728,\n",
        "  'fcodeName': 'populated place'},\n",
        " {'toponymName': 'Mytrofanivka',\n",
        "  'name': 'Mytrofanivka',\n",
        "  'fclName': 'city, village,...',\n",
        "  'countryName': 'Ukraine',\n",
        "  'lat': '48.50278',\n",
        "  'countryCode': 'UA',\n",
        "  'adminCode1': '10',\n",
        "  'population': 0,\n",
        "  'fcode': 'PPL',\n",
        "  'adminName1': 'Kirovohrad',\n",
        "  'lng': '32.71354',\n",
        "  'countryId': '690791',\n",
        "  'fcl': 'P',\n",
        "  'geonameId': 700983,\n",
        "  'fcodeName': 'populated place'},\n",
        " {'toponymName': 'Mirolyubovka',\n",
        "  'name': 'Mirolyubovka',\n",
        "  'fclName': 'city, village,...',\n",
        "  'countryName': 'Ukraine',\n",
        "  'lat': '47.80426',\n",
        "  'countryCode': 'UA',\n",
        "  'adminCode1': '16',\n",
        "  'population': 0,\n",
        "  'fcode': 'PPL',\n",
        "  'adminName1': 'Mykolaiv',\n",
        "  'lng': '32.32962',\n",
        "  'countryId': '690791',\n",
        "  'fcl': 'P',\n",
        "  'geonameId': 701046,\n",
        "  'fcodeName': 'populated place'},\n",
        " {'toponymName': 'Lozovatka',\n",
        "  'name': 'Lozovatka',\n",
        "  'fclName': 'city, village,...',\n",
        "  'countryName': 'Ukraine',\n",
        "  'lat': '48.15821',\n",
        "  'countryCode': 'UA',\n",
        "  'adminCode1': '10',\n",
        "  'population': 0,\n",
        "  'fcode': 'PPL',\n",
        "  'adminName1': 'Kirovohrad',\n",
        "  'lng': '32.36909',\n",
        "  'countryId': '690791',\n",
        "  'fcl': 'P',\n",
        "  'geonameId': 702773,\n",
        "  'fcodeName': 'populated place'},\n",
        " {'toponymName': 'Zeleny Stav',\n",
        "  'name': 'Zeleny Stav',\n",
        "  'fclName': 'city, village,...',\n",
        "  'countryName': 'Ukraine',\n",
        "  'lat': '47.71902',\n",
        "  'countryCode': 'UA',\n",
        "  'adminCode1': '04',\n",
        "  'population': 0,\n",
        "  'fcode': 'PPL',\n",
        "  'adminName1': 'Dnipropetrovsk',\n",
        "  'lng': '33.06242',\n",
        "  'countryId': '690791',\n",
        "  'fcl': 'P',\n",
        "  'geonameId': 687314,\n",
        "  'fcodeName': 'populated place'},\n",
        " {'toponymName': 'Vodyana',\n",
        "  'name': 'Vodyana',\n",
        "  'fclName': 'city, village,...',\n",
        "  'countryName': 'Ukraine',\n",
        "  'lat': '48.34827',\n",
        "  'countryCode': 'UA',\n",
        "  'adminCode1': '10',\n",
        "  'population': 0,\n",
        "  'fcode': 'PPL',\n",
        "  'adminName1': 'Kirovohrad',\n",
        "  'lng': '33.09337',\n",
        "  'countryId': '690791',\n",
        "  'fcl': 'P',\n",
        "  'geonameId': 689337,\n",
        "  'fcodeName': 'populated place'},\n",
        " {'toponymName': 'Vasil\u2019yevka',\n",
        "  'name': \"Vasil'yevka\",\n",
        "  'fclName': 'city, village,...',\n",
        "  'countryName': 'Ukraine',\n",
        "  'lat': '48.25827',\n",
        "  'countryCode': 'UA',\n",
        "  'adminCode1': '10',\n",
        "  'population': 0,\n",
        "  'fcode': 'PPL',\n",
        "  'adminName1': 'Kirovohrad',\n",
        "  'lng': '32.80849',\n",
        "  'countryId': '690791',\n",
        "  'fcl': 'P',\n",
        "  'geonameId': 690364,\n",
        "  'fcodeName': 'populated place'},\n",
        " {'toponymName': 'Varvarovka',\n",
        "  'name': 'Varvarovka',\n",
        "  'fclName': 'city, village,...',\n",
        "  'countryName': 'Ukraine',\n",
        "  'lat': '48.26376',\n",
        "  'countryCode': 'UA',\n",
        "  'adminCode1': '10',\n",
        "  'population': 0,\n",
        "  'fcode': 'PPL',\n",
        "  'adminName1': 'Kirovohrad',\n",
        "  'lng': '33.04719',\n",
        "  'countryId': '690791',\n",
        "  'fcl': 'P',\n",
        "  'geonameId': 690457,\n",
        "  'fcodeName': 'populated place'},\n",
        " {'toponymName': 'Kovalevka Number Two',\n",
        "  'name': 'Kovalevka Number Two',\n",
        "  'fclName': 'city, village,...',\n",
        "  'countryName': 'Ukraine',\n",
        "  'lat': '48',\n",
        "  'countryCode': 'UA',\n",
        "  'adminCode1': '10',\n",
        "  'population': 0,\n",
        "  'fcode': 'PPL',\n",
        "  'adminName1': 'Kirovohrad',\n",
        "  'lng': '32.58333',\n",
        "  'countryId': '690791',\n",
        "  'fcl': 'P',\n",
        "  'geonameId': 704628,\n",
        "  'fcodeName': 'populated place'},\n",
        " {'toponymName': 'Klintsy',\n",
        "  'name': 'Klintsy',\n",
        "  'fclName': 'city, village,...',\n",
        "  'countryName': 'Ukraine',\n",
        "  'lat': '48.42868',\n",
        "  'countryCode': 'UA',\n",
        "  'adminCode1': '10',\n",
        "  'population': 0,\n",
        "  'fcode': 'PPL',\n",
        "  'adminName1': 'Kirovohrad',\n",
        "  'lng': '32.378',\n",
        "  'countryId': '690791',\n",
        "  'fcl': 'P',\n",
        "  'geonameId': 705631,\n",
        "  'fcodeName': 'populated place'},\n",
        " {'toponymName': 'Khutor Shevchenko Nomer Pervyy',\n",
        "  'name': 'Khutor Shevchenko Nomer Pervyy',\n",
        "  'fclName': 'city, village,...',\n",
        "  'countryName': 'Ukraine',\n",
        "  'lat': '47.98333',\n",
        "  'countryCode': 'UA',\n",
        "  'adminCode1': '16',\n",
        "  'population': 0,\n",
        "  'fcode': 'PPL',\n",
        "  'adminName1': 'Mykolaiv',\n",
        "  'lng': '32.71667',\n",
        "  'countryId': '690791',\n",
        "  'fcl': 'P',\n",
        "  'geonameId': 705989,\n",
        "  'fcodeName': 'populated place'},\n",
        " {'toponymName': 'Kamenka',\n",
        "  'name': 'Kamenka',\n",
        "  'fclName': 'city, village,...',\n",
        "  'countryName': 'Ukraine',\n",
        "  'lat': '47.86667',\n",
        "  'countryCode': 'UA',\n",
        "  'adminCode1': '10',\n",
        "  'population': 0,\n",
        "  'fcode': 'PPL',\n",
        "  'adminName1': 'Kirovohrad',\n",
        "  'lng': '32.2',\n",
        "  'countryId': '690791',\n",
        "  'fcl': 'P',\n",
        "  'geonameId': 707060,\n",
        "  'fcodeName': 'populated place'},\n",
        " {'toponymName': 'Gurivka',\n",
        "  'name': 'Gurivka',\n",
        "  'fclName': 'city, village,...',\n",
        "  'countryName': 'Ukraine',\n",
        "  'lat': '48.09979',\n",
        "  'countryCode': 'UA',\n",
        "  'adminCode1': '10',\n",
        "  'population': 0,\n",
        "  'fcode': 'PPL',\n",
        "  'adminName1': 'Kirovohrad',\n",
        "  'lng': '33.10088',\n",
        "  'countryId': '690791',\n",
        "  'fcl': 'P',\n",
        "  'geonameId': 707868,\n",
        "  'fcodeName': 'populated place'},\n",
        " {'toponymName': 'Trepivka',\n",
        "  'name': 'Trepivka',\n",
        "  'fclName': 'city, village,...',\n",
        "  'countryName': 'Ukraine',\n",
        "  'lat': '48.68931',\n",
        "  'countryCode': 'UA',\n",
        "  'adminCode1': '10',\n",
        "  'population': 0,\n",
        "  'fcode': 'PPL',\n",
        "  'adminName1': 'Kirovohrad',\n",
        "  'lng': '32.36416',\n",
        "  'countryId': '690791',\n",
        "  'fcl': 'P',\n",
        "  'geonameId': 691326,\n",
        "  'fcodeName': 'populated place'},\n",
        " {'toponymName': 'Svitlopil\u2019',\n",
        "  'name': 'Svitlopil\u2019',\n",
        "  'fclName': 'city, village,...',\n",
        "  'countryName': 'Ukraine',\n",
        "  'lat': '48.60177',\n",
        "  'countryCode': 'UA',\n",
        "  'adminCode1': '10',\n",
        "  'population': 0,\n",
        "  'fcode': 'PPL',\n",
        "  'adminName1': 'Kirovohrad',\n",
        "  'lng': '32.8141',\n",
        "  'countryId': '690791',\n",
        "  'fcl': 'P',\n",
        "  'geonameId': 692088,\n",
        "  'fcodeName': 'populated place'},\n",
        " {'toponymName': 'Batyzman',\n",
        "  'name': \"Sukhodol'skoye\",\n",
        "  'fclName': 'city, village,...',\n",
        "  'countryName': 'Ukraine',\n",
        "  'lat': '48.23845',\n",
        "  'countryCode': 'UA',\n",
        "  'adminCode1': '10',\n",
        "  'population': 0,\n",
        "  'fcode': 'PPL',\n",
        "  'adminName1': 'Kirovohrad',\n",
        "  'lng': '32.70694',\n",
        "  'countryId': '690791',\n",
        "  'fcl': 'P',\n",
        "  'geonameId': 692253,\n",
        "  'fcodeName': 'populated place'},\n",
        " {'toponymName': 'Spasovo',\n",
        "  'name': 'Spasovo',\n",
        "  'fclName': 'city, village,...',\n",
        "  'countryName': 'Ukraine',\n",
        "  'lat': '48.41552',\n",
        "  'countryCode': 'UA',\n",
        "  'adminCode1': '10',\n",
        "  'population': 0,\n",
        "  'fcode': 'PPL',\n",
        "  'adminName1': 'Kirovohrad',\n",
        "  'lng': '33.05566',\n",
        "  'countryId': '690791',\n",
        "  'fcl': 'P',\n",
        "  'geonameId': 693037,\n",
        "  'fcodeName': 'populated place'},\n",
        " {'toponymName': 'Sontsevo',\n",
        "  'name': 'Sontsevo',\n",
        "  'fclName': 'city, village,...',\n",
        "  'countryName': 'Ukraine',\n",
        "  'lat': '47.86622',\n",
        "  'countryCode': 'UA',\n",
        "  'adminCode1': '10',\n",
        "  'population': 0,\n",
        "  'fcode': 'PPL',\n",
        "  'adminName1': 'Kirovohrad',\n",
        "  'lng': '32.51795',\n",
        "  'countryId': '690791',\n",
        "  'fcl': 'P',\n",
        "  'geonameId': 693149,\n",
        "  'fcodeName': 'populated place'},\n",
        " {'toponymName': 'Sofiyevo-Geykovka',\n",
        "  'name': 'Sofiyevo-Geykovka',\n",
        "  'fclName': 'city, village,...',\n",
        "  'countryName': 'Ukraine',\n",
        "  'lat': '48.01667',\n",
        "  'countryCode': 'UA',\n",
        "  'adminCode1': '04',\n",
        "  'population': 0,\n",
        "  'fcode': 'PPL',\n",
        "  'adminName1': 'Dnipropetrovsk',\n",
        "  'lng': '33.11667',\n",
        "  'countryId': '690791',\n",
        "  'fcl': 'P',\n",
        "  'geonameId': 693305,\n",
        "  'fcodeName': 'populated place'},\n",
        " {'toponymName': 'Sasovka',\n",
        "  'name': 'Sasovka',\n",
        "  'fclName': 'city, village,...',\n",
        "  'countryName': 'Ukraine',\n",
        "  'lat': '48.28691',\n",
        "  'countryCode': 'UA',\n",
        "  'adminCode1': '10',\n",
        "  'population': 0,\n",
        "  'fcode': 'PPL',\n",
        "  'adminName1': 'Kirovohrad',\n",
        "  'lng': '32.33371',\n",
        "  'countryId': '690791',\n",
        "  'fcl': 'P',\n",
        "  'geonameId': 694777,\n",
        "  'fcodeName': 'populated place'},\n",
        " {'toponymName': 'Berezuvatka',\n",
        "  'name': 'Berezuvatka',\n",
        "  'fclName': 'city, village,...',\n",
        "  'countryName': 'Ukraine',\n",
        "  'lat': '48.0129',\n",
        "  'countryCode': 'UA',\n",
        "  'adminCode1': '10',\n",
        "  'population': 0,\n",
        "  'fcode': 'PPL',\n",
        "  'adminName1': 'Kirovohrad',\n",
        "  'lng': '32.6035',\n",
        "  'countryId': '690791',\n",
        "  'fcl': 'P',\n",
        "  'geonameId': 7500754,\n",
        "  'fcodeName': 'populated place'},\n",
        " {'toponymName': 'Novooleksandrivka',\n",
        "  'name': 'Novooleksandrivka',\n",
        "  'fclName': 'city, village,...',\n",
        "  'countryName': 'Ukraine',\n",
        "  'lat': '48.55134',\n",
        "  'countryCode': 'UA',\n",
        "  'adminCode1': '10',\n",
        "  'population': 0,\n",
        "  'fcode': 'PPL',\n",
        "  'adminName1': 'Kirovohrad',\n",
        "  'lng': '32.64571',\n",
        "  'countryId': '690791',\n",
        "  'fcl': 'P',\n",
        "  'geonameId': 829104,\n",
        "  'fcodeName': 'populated place'},\n",
        " {'toponymName': 'Ranneye Utro',\n",
        "  'name': 'Ranneye Utro',\n",
        "  'fclName': 'city, village,...',\n",
        "  'countryName': 'Ukraine',\n",
        "  'lat': '47.93333',\n",
        "  'countryCode': 'UA',\n",
        "  'adminCode1': '04',\n",
        "  'population': 0,\n",
        "  'fcode': 'PPL',\n",
        "  'adminName1': 'Dnipropetrovsk',\n",
        "  'lng': '33.05',\n",
        "  'countryId': '690791',\n",
        "  'fcl': 'P',\n",
        "  'geonameId': 695818,\n",
        "  'fcodeName': 'populated place'},\n",
        " {'toponymName': 'Pushkino',\n",
        "  'name': 'Pushkino',\n",
        "  'fclName': 'city, village,...',\n",
        "  'countryName': 'Ukraine',\n",
        "  'lat': '48.7',\n",
        "  'countryCode': 'UA',\n",
        "  'adminCode1': '10',\n",
        "  'population': 0,\n",
        "  'fcode': 'PPL',\n",
        "  'adminName1': 'Kirovohrad',\n",
        "  'lng': '32.2',\n",
        "  'countryId': '690791',\n",
        "  'fcl': 'P',\n",
        "  'geonameId': 696039,\n",
        "  'fcodeName': 'populated place'},\n",
        " {'toponymName': 'Petropavlovka',\n",
        "  'name': 'Petropavlovka',\n",
        "  'fclName': 'city, village,...',\n",
        "  'countryName': 'Ukraine',\n",
        "  'lat': '47.76667',\n",
        "  'countryCode': 'UA',\n",
        "  'adminCode1': '16',\n",
        "  'population': 0,\n",
        "  'fcode': 'PPL',\n",
        "  'adminName1': 'Mykolaiv',\n",
        "  'lng': '32.28333',\n",
        "  'countryId': '690791',\n",
        "  'fcl': 'P',\n",
        "  'geonameId': 697427,\n",
        "  'fcodeName': 'populated place'},\n",
        " {'toponymName': 'Perepelitsyno',\n",
        "  'name': 'Perepelitsyno',\n",
        "  'fclName': 'city, village,...',\n",
        "  'countryName': 'Ukraine',\n",
        "  'lat': '48.11667',\n",
        "  'countryCode': 'UA',\n",
        "  'adminCode1': '10',\n",
        "  'population': 0,\n",
        "  'fcode': 'PPL',\n",
        "  'adminName1': 'Kirovohrad',\n",
        "  'lng': '32.33333',\n",
        "  'countryId': '690791',\n",
        "  'fcl': 'P',\n",
        "  'geonameId': 697688,\n",
        "  'fcodeName': 'populated place'},\n",
        " {'toponymName': 'Novyy Mir',\n",
        "  'name': 'Novyy Mir',\n",
        "  'fclName': 'city, village,...',\n",
        "  'countryName': 'Ukraine',\n",
        "  'lat': '47.93237',\n",
        "  'countryCode': 'UA',\n",
        "  'adminCode1': '04',\n",
        "  'population': 0,\n",
        "  'fcode': 'PPL',\n",
        "  'adminName1': 'Dnipropetrovsk',\n",
        "  'lng': '33.09975',\n",
        "  'countryId': '690791',\n",
        "  'fcl': 'P',\n",
        "  'geonameId': 698889,\n",
        "  'fcodeName': 'populated place'},\n",
        " {'toponymName': 'Novovladimirovka',\n",
        "  'name': 'Novovladimirovka',\n",
        "  'fclName': 'city, village,...',\n",
        "  'countryName': 'Ukraine',\n",
        "  'lat': '47.79829',\n",
        "  'countryCode': 'UA',\n",
        "  'adminCode1': '16',\n",
        "  'population': 0,\n",
        "  'fcode': 'PPL',\n",
        "  'adminName1': 'Mykolaiv',\n",
        "  'lng': '32.99954',\n",
        "  'countryId': '690791',\n",
        "  'fcl': 'P',\n",
        "  'geonameId': 699044,\n",
        "  'fcodeName': 'populated place'},\n",
        " {'toponymName': 'Novo-Ustinovka',\n",
        "  'name': 'Novo-Ustinovka',\n",
        "  'fclName': 'city, village,...',\n",
        "  'countryName': 'Ukraine',\n",
        "  'lat': '47.95063',\n",
        "  'countryCode': 'UA',\n",
        "  'adminCode1': '10',\n",
        "  'population': 0,\n",
        "  'fcode': 'PPL',\n",
        "  'adminName1': 'Kirovohrad',\n",
        "  'lng': '32.67456',\n",
        "  'countryId': '690791',\n",
        "  'fcl': 'P',\n",
        "  'geonameId': 699063,\n",
        "  'fcodeName': 'populated place'},\n",
        " {'toponymName': 'Stavrakova',\n",
        "  'name': 'Stavrakova',\n",
        "  'fclName': 'city, village,...',\n",
        "  'countryName': 'Ukraine',\n",
        "  'lat': '47.91667',\n",
        "  'countryCode': 'UA',\n",
        "  'adminCode1': '10',\n",
        "  'population': 0,\n",
        "  'fcode': 'PPL',\n",
        "  'adminName1': 'Kirovohrad',\n",
        "  'lng': '32.61667',\n",
        "  'countryId': '690791',\n",
        "  'fcl': 'P',\n",
        "  'geonameId': 699170,\n",
        "  'fcodeName': 'populated place'},\n",
        " {'toponymName': 'Boykovo',\n",
        "  'name': 'Boykovo',\n",
        "  'fclName': 'city, village,...',\n",
        "  'countryName': 'Ukraine',\n",
        "  'lat': '47.81667',\n",
        "  'countryCode': 'UA',\n",
        "  'adminCode1': '16',\n",
        "  'population': 0,\n",
        "  'fcode': 'PPL',\n",
        "  'adminName1': 'Mykolaiv',\n",
        "  'lng': '33',\n",
        "  'countryId': '690791',\n",
        "  'fcl': 'P',\n",
        "  'geonameId': 699198,\n",
        "  'fcodeName': 'populated place'},\n",
        " {'toponymName': 'Novo-Nikolayevka',\n",
        "  'name': 'Novo-Nikolayevka',\n",
        "  'fclName': 'city, village,...',\n",
        "  'countryName': 'Ukraine',\n",
        "  'lat': '47.84351',\n",
        "  'countryCode': 'UA',\n",
        "  'adminCode1': '10',\n",
        "  'population': 0,\n",
        "  'fcode': 'PPL',\n",
        "  'adminName1': 'Kirovohrad',\n",
        "  'lng': '32.2062',\n",
        "  'countryId': '690791',\n",
        "  'fcl': 'P',\n",
        "  'geonameId': 699416,\n",
        "  'fcodeName': 'populated place'},\n",
        " {'toponymName': 'Novolazarevka',\n",
        "  'name': 'Novolazarevka',\n",
        "  'fclName': 'city, village,...',\n",
        "  'countryName': 'Ukraine',\n",
        "  'lat': '47.77706',\n",
        "  'countryCode': 'UA',\n",
        "  'adminCode1': '16',\n",
        "  'population': 0,\n",
        "  'fcode': 'PPL',\n",
        "  'adminName1': 'Mykolaiv',\n",
        "  'lng': '32.97057',\n",
        "  'countryId': '690791',\n",
        "  'fcl': 'P',\n",
        "  'geonameId': 699487,\n",
        "  'fcodeName': 'populated place'},\n",
        " {'toponymName': 'Novogrigor\u2019yevka Pervaya',\n",
        "  'name': 'Novogrigor\u2019yevka Pervaya',\n",
        "  'fclName': 'city, village,...',\n",
        "  'countryName': 'Ukraine',\n",
        "  'lat': '48.20241',\n",
        "  'countryCode': 'UA',\n",
        "  'adminCode1': '10',\n",
        "  'population': 0,\n",
        "  'fcode': 'PPL',\n",
        "  'adminName1': 'Kirovohrad',\n",
        "  'lng': '32.6695',\n",
        "  'countryId': '690791',\n",
        "  'fcl': 'P',\n",
        "  'geonameId': 699561,\n",
        "  'fcodeName': 'populated place'},\n",
        " {'toponymName': 'Novaya Andreyevka',\n",
        "  'name': 'Novaya Andreyevka',\n",
        "  'fclName': 'city, village,...',\n",
        "  'countryName': 'Ukraine',\n",
        "  'lat': '48.42155',\n",
        "  'countryCode': 'UA',\n",
        "  'adminCode1': '10',\n",
        "  'population': 0,\n",
        "  'fcode': 'PPL',\n",
        "  'adminName1': 'Kirovohrad',\n",
        "  'lng': '32.59406',\n",
        "  'countryId': '690791',\n",
        "  'fcl': 'P',\n",
        "  'geonameId': 699890,\n",
        "  'fcodeName': 'populated place'},\n",
        " {'toponymName': 'Dubivka',\n",
        "  'name': 'Dubivka',\n",
        "  'fclName': 'city, village,...',\n",
        "  'countryName': 'Ukraine',\n",
        "  'lat': '48.46713',\n",
        "  'countryCode': 'UA',\n",
        "  'adminCode1': '10',\n",
        "  'population': 0,\n",
        "  'fcode': 'PPL',\n",
        "  'adminName1': 'Kirovohrad',\n",
        "  'lng': '33.01865',\n",
        "  'countryId': '690791',\n",
        "  'fcl': 'P',\n",
        "  'geonameId': 709554,\n",
        "  'fcodeName': 'populated place'},\n",
        " {'toponymName': 'Donino-Kamenka',\n",
        "  'name': 'Donino-Kamenka',\n",
        "  'fclName': 'city, village,...',\n",
        "  'countryName': 'Ukraine',\n",
        "  'lat': '48.67286',\n",
        "  'countryCode': 'UA',\n",
        "  'adminCode1': '10',\n",
        "  'population': 0,\n",
        "  'fcode': 'PPL',\n",
        "  'adminName1': 'Kirovohrad',\n",
        "  'lng': '32.3035',\n",
        "  'countryId': '690791',\n",
        "  'fcl': 'P',\n",
        "  'geonameId': 709706,\n",
        "  'fcodeName': 'populated place'},\n",
        " {'toponymName': 'Dmitrovka',\n",
        "  'name': 'Dmitrovka',\n",
        "  'fclName': 'city, village,...',\n",
        "  'countryName': 'Ukraine',\n",
        "  'lat': '47.95894',\n",
        "  'countryCode': 'UA',\n",
        "  'adminCode1': '16',\n",
        "  'population': 0,\n",
        "  'fcode': 'PPL',\n",
        "  'adminName1': 'Mykolaiv',\n",
        "  'lng': '32.74343',\n",
        "  'countryId': '690791',\n",
        "  'fcl': 'P',\n",
        "  'geonameId': 709986,\n",
        "  'fcodeName': 'populated place'},\n",
        " {'toponymName': 'Dmitro-Belovka',\n",
        "  'name': 'Dmitro-Belovka',\n",
        "  'fclName': 'city, village,...',\n",
        "  'countryName': 'Ukraine',\n",
        "  'lat': '47.93461',\n",
        "  'countryCode': 'UA',\n",
        "  'adminCode1': '16',\n",
        "  'population': 0,\n",
        "  'fcode': 'PPL',\n",
        "  'adminName1': 'Mykolaiv',\n",
        "  'lng': '32.79107',\n",
        "  'countryId': '690791',\n",
        "  'fcl': 'P',\n",
        "  'geonameId': 710000,\n",
        "  'fcodeName': 'populated place'},\n",
        " {'toponymName': 'Chervonyy Yar',\n",
        "  'name': 'Chervonyy Yar',\n",
        "  'fclName': 'city, village,...',\n",
        "  'countryName': 'Ukraine',\n",
        "  'lat': '48.51175',\n",
        "  'countryCode': 'UA',\n",
        "  'adminCode1': '10',\n",
        "  'population': 0,\n",
        "  'fcode': 'PPL',\n",
        "  'adminName1': 'Kirovohrad',\n",
        "  'lng': '32.60688',\n",
        "  'countryId': '690791',\n",
        "  'fcl': 'P',\n",
        "  'geonameId': 710498,\n",
        "  'fcodeName': 'populated place'},\n",
        " {'toponymName': 'Chernyakhovka',\n",
        "  'name': 'Chernyakhovka',\n",
        "  'fclName': 'city, village,...',\n",
        "  'countryName': 'Ukraine',\n",
        "  'lat': '48.5',\n",
        "  'countryCode': 'UA',\n",
        "  'adminCode1': '10',\n",
        "  'population': 0,\n",
        "  'fcode': 'PPL',\n",
        "  'adminName1': 'Kirovohrad',\n",
        "  'lng': '32.21667',\n",
        "  'countryId': '690791',\n",
        "  'fcl': 'P',\n",
        "  'geonameId': 710662,\n",
        "  'fcodeName': 'populated place'},\n",
        " {'toponymName': 'Bol\u2019shaya Severinka',\n",
        "  'name': 'Bol\u2019shaya Severinka',\n",
        "  'fclName': 'city, village,...',\n",
        "  'countryName': 'Ukraine',\n",
        "  'lat': '48.60858',\n",
        "  'countryCode': 'UA',\n",
        "  'adminCode1': '10',\n",
        "  'population': 0,\n",
        "  'fcode': 'PPL',\n",
        "  'adminName1': 'Kirovohrad',\n",
        "  'lng': '32.22505',\n",
        "  'countryId': '690791',\n",
        "  'fcl': 'P',\n",
        "  'geonameId': 711785,\n",
        "  'fcodeName': 'populated place'},\n",
        " {'toponymName': 'Shcherbino',\n",
        "  'name': 'Shcherbino',\n",
        "  'fclName': 'city, village,...',\n",
        "  'countryName': 'Ukraine',\n",
        "  'lat': '47.98333',\n",
        "  'countryCode': 'UA',\n",
        "  'adminCode1': '16',\n",
        "  'population': 0,\n",
        "  'fcode': 'PPL',\n",
        "  'adminName1': 'Mykolaiv',\n",
        "  'lng': '32.98333',\n",
        "  'countryId': '690791',\n",
        "  'fcl': 'P',\n",
        "  'geonameId': 711806,\n",
        "  'fcodeName': 'populated place'},\n",
        " {'toponymName': 'Bol\u2019shaya Danilovka',\n",
        "  'name': 'Bol\u2019shaya Danilovka',\n",
        "  'fclName': 'city, village,...',\n",
        "  'countryName': 'Ukraine',\n",
        "  'lat': '47.98026',\n",
        "  'countryCode': 'UA',\n",
        "  'adminCode1': '10',\n",
        "  'population': 0,\n",
        "  'fcode': 'PPL',\n",
        "  'adminName1': 'Kirovohrad',\n",
        "  'lng': '32.86908',\n",
        "  'countryId': '690791',\n",
        "  'fcl': 'P',\n",
        "  'geonameId': 711809,\n",
        "  'fcodeName': 'populated place'},\n",
        " {'toponymName': 'Chechelevka',\n",
        "  'name': 'Chechelevka',\n",
        "  'fclName': 'city, village,...',\n",
        "  'countryName': 'Ukraine',\n",
        "  'lat': '48.36071',\n",
        "  'countryCode': 'UA',\n",
        "  'adminCode1': '10',\n",
        "  'population': 0,\n",
        "  'fcode': 'PPL',\n",
        "  'adminName1': 'Kirovohrad',\n",
        "  'lng': '32.76143',\n",
        "  'countryId': '690791',\n",
        "  'fcl': 'P',\n",
        "  'geonameId': 711813,\n",
        "  'fcodeName': 'populated place'},\n",
        " {'toponymName': 'Aleksandrovka',\n",
        "  'name': 'Aleksandrovka',\n",
        "  'fclName': 'city, village,...',\n",
        "  'countryName': 'Ukraine',\n",
        "  'lat': '47.78333',\n",
        "  'countryCode': 'UA',\n",
        "  'adminCode1': '16',\n",
        "  'population': 0,\n",
        "  'fcode': 'PPL',\n",
        "  'adminName1': 'Mykolaiv',\n",
        "  'lng': '32.68333',\n",
        "  'countryId': '690791',\n",
        "  'fcl': 'P',\n",
        "  'geonameId': 711826,\n",
        "  'fcodeName': 'populated place'},\n",
        " {'toponymName': 'Bereznegovatskoye',\n",
        "  'name': 'Bereznegovatskoye',\n",
        "  'fclName': 'city, village,...',\n",
        "  'countryName': 'Ukraine',\n",
        "  'lat': '47.74833',\n",
        "  'countryCode': 'UA',\n",
        "  'adminCode1': '16',\n",
        "  'population': 0,\n",
        "  'fcode': 'PPL',\n",
        "  'adminName1': 'Mykolaiv',\n",
        "  'lng': '32.27792',\n",
        "  'countryId': '690791',\n",
        "  'fcl': 'P',\n",
        "  'geonameId': 712337,\n",
        "  'fcodeName': 'populated place'},\n",
        " {'toponymName': 'Bereslavka',\n",
        "  'name': 'Bereslavka',\n",
        "  'fclName': 'city, village,...',\n",
        "  'countryName': 'Ukraine',\n",
        "  'lat': '47.89273',\n",
        "  'countryCode': 'UA',\n",
        "  'adminCode1': '10',\n",
        "  'population': 0,\n",
        "  'fcode': 'PPL',\n",
        "  'adminName1': 'Kirovohrad',\n",
        "  'lng': '32.29424',\n",
        "  'countryId': '690791',\n",
        "  'fcl': 'P',\n",
        "  'geonameId': 712418,\n",
        "  'fcodeName': 'populated place'},\n",
        " {'toponymName': 'Annovka',\n",
        "  'name': 'Annovka',\n",
        "  'fclName': 'city, village,...',\n",
        "  'countryName': 'Ukraine',\n",
        "  'lat': '48.15923',\n",
        "  'countryCode': 'UA',\n",
        "  'adminCode1': '10',\n",
        "  'population': 0,\n",
        "  'fcode': 'PPL',\n",
        "  'adminName1': 'Kirovohrad',\n",
        "  'lng': '33.10492',\n",
        "  'countryId': '690791',\n",
        "  'fcl': 'P',\n",
        "  'geonameId': 713340,\n",
        "  'fcodeName': 'populated place'},\n",
        " {'toponymName': 'Anno-Trebinovka',\n",
        "  'name': 'Anno-Trebinovka',\n",
        "  'fclName': 'city, village,...',\n",
        "  'countryName': 'Ukraine',\n",
        "  'lat': '47.87405',\n",
        "  'countryCode': 'UA',\n",
        "  'adminCode1': '10',\n",
        "  'population': 0,\n",
        "  'fcode': 'PPL',\n",
        "  'adminName1': 'Kirovohrad',\n",
        "  'lng': '32.41748',\n",
        "  'countryId': '690791',\n",
        "  'fcl': 'P',\n",
        "  'geonameId': 713357,\n",
        "  'fcodeName': 'populated place'},\n",
        " {'toponymName': 'Anastas\u2019yevka',\n",
        "  'name': 'Anastas\u2019yevka',\n",
        "  'fclName': 'city, village,...',\n",
        "  'countryName': 'Ukraine',\n",
        "  'lat': '47.71818',\n",
        "  'countryCode': 'UA',\n",
        "  'adminCode1': '16',\n",
        "  'population': 0,\n",
        "  'fcode': 'PPL',\n",
        "  'adminName1': 'Mykolaiv',\n",
        "  'lng': '32.68888',\n",
        "  'countryId': '690791',\n",
        "  'fcl': 'P',\n",
        "  'geonameId': 713493,\n",
        "  'fcodeName': 'populated place'},\n",
        " {'toponymName': 'Nikanorovka',\n",
        "  'name': 'Nikanorovka',\n",
        "  'fclName': 'city, village,...',\n",
        "  'countryName': 'Ukraine',\n",
        "  'lat': '47.9507',\n",
        "  'countryCode': 'UA',\n",
        "  'adminCode1': '10',\n",
        "  'population': 0,\n",
        "  'fcode': 'PPL',\n",
        "  'adminName1': 'Kirovohrad',\n",
        "  'lng': '32.30078',\n",
        "  'countryId': '690791',\n",
        "  'fcl': 'P',\n",
        "  'geonameId': 700209,\n",
        "  'fcodeName': 'populated place'},\n",
        " {'toponymName': 'Neglyadovka',\n",
        "  'name': 'Neglyadovka',\n",
        "  'fclName': 'city, village,...',\n",
        "  'countryName': 'Ukraine',\n",
        "  'lat': '48.1766',\n",
        "  'countryCode': 'UA',\n",
        "  'adminCode1': '10',\n",
        "  'population': 0,\n",
        "  'fcode': 'PPL',\n",
        "  'adminName1': 'Kirovohrad',\n",
        "  'lng': '32.42168',\n",
        "  'countryId': '690791',\n",
        "  'fcl': 'P',\n",
        "  'geonameId': 700365,\n",
        "  'fcodeName': 'populated place'},\n",
        " {'toponymName': 'Moloshnyy',\n",
        "  'name': 'Moloshnyy',\n",
        "  'fclName': 'city, village,...',\n",
        "  'countryName': 'Ukraine',\n",
        "  'lat': '47.93333',\n",
        "  'countryCode': 'UA',\n",
        "  'adminCode1': '10',\n",
        "  'population': 0,\n",
        "  'fcode': 'PPL',\n",
        "  'adminName1': 'Kirovohrad',\n",
        "  'lng': '32.65',\n",
        "  'countryId': '690791',\n",
        "  'fcl': 'P',\n",
        "  'geonameId': 700819,\n",
        "  'fcodeName': 'populated place'},\n",
        " {'toponymName': 'Medovoye',\n",
        "  'name': 'Medovoye',\n",
        "  'fclName': 'city, village,...',\n",
        "  'countryName': 'Ukraine',\n",
        "  'lat': '47.84994',\n",
        "  'countryCode': 'UA',\n",
        "  'adminCode1': '10',\n",
        "  'population': 0,\n",
        "  'fcode': 'PPL',\n",
        "  'adminName1': 'Kirovohrad',\n",
        "  'lng': '32.62156',\n",
        "  'countryId': '690791',\n",
        "  'fcl': 'P',\n",
        "  'geonameId': 701457,\n",
        "  'fcodeName': 'populated place'},\n",
        " {'toponymName': 'Malinovka Pervaya',\n",
        "  'name': 'Malinovka Pervaya',\n",
        "  'fclName': 'city, village,...',\n",
        "  'countryName': 'Ukraine',\n",
        "  'lat': '47.75',\n",
        "  'countryCode': 'UA',\n",
        "  'adminCode1': '04',\n",
        "  'population': 0,\n",
        "  'fcode': 'PPL',\n",
        "  'adminName1': 'Dnipropetrovsk',\n",
        "  'lng': '33.08333',\n",
        "  'countryId': '690791',\n",
        "  'fcl': 'P',\n",
        "  'geonameId': 702095,\n",
        "  'fcodeName': 'populated place'},\n",
        " {'toponymName': 'Krasnyy',\n",
        "  'name': 'Krasnyy',\n",
        "  'fclName': 'city, village,...',\n",
        "  'countryName': 'Ukraine',\n",
        "  'lat': '47.83333',\n",
        "  'countryCode': 'UA',\n",
        "  'adminCode1': '10',\n",
        "  'population': 0,\n",
        "  'fcode': 'PPL',\n",
        "  'adminName1': 'Kirovohrad',\n",
        "  'lng': '32.28333',\n",
        "  'countryId': '690791',\n",
        "  'fcl': 'P',\n",
        "  'geonameId': 704236,\n",
        "  'fcodeName': 'populated place'},\n",
        " {'toponymName': 'Znamenka Vtoraya',\n",
        "  'name': 'Znamenka Vtoraya',\n",
        "  'fclName': 'city, village,...',\n",
        "  'countryName': 'Ukraine',\n",
        "  'lat': '48.71143',\n",
        "  'countryCode': 'UA',\n",
        "  'adminCode1': '10',\n",
        "  'population': 0,\n",
        "  'fcode': 'PPL',\n",
        "  'adminName1': 'Kirovohrad',\n",
        "  'lng': '32.59174',\n",
        "  'countryId': '690791',\n",
        "  'fcl': 'P',\n",
        "  'geonameId': 686915,\n",
        "  'fcodeName': 'populated place'},\n",
        " {'toponymName': 'Zlatopo',\n",
        "  'name': 'Zlatopo',\n",
        "  'fclName': 'city, village,...',\n",
        "  'countryName': 'Ukraine',\n",
        "  'lat': '47.73333',\n",
        "  'countryCode': 'UA',\n",
        "  'adminCode1': '16',\n",
        "  'population': 0,\n",
        "  'fcode': 'PPL',\n",
        "  'adminName1': 'Mykolaiv',\n",
        "  'lng': '32.23333',\n",
        "  'countryId': '690791',\n",
        "  'fcl': 'P',\n",
        "  'geonameId': 686942,\n",
        "  'fcodeName': 'populated place'},\n",
        " {'toponymName': 'Zhovtnevoye',\n",
        "  'name': 'Zhovtnevoye',\n",
        "  'fclName': 'city, village,...',\n",
        "  'countryName': 'Ukraine',\n",
        "  'lat': '48.10508',\n",
        "  'countryCode': 'UA',\n",
        "  'adminCode1': '10',\n",
        "  'population': 0,\n",
        "  'fcode': 'PPL',\n",
        "  'adminName1': 'Kirovohrad',\n",
        "  'lng': '32.59157',\n",
        "  'countryId': '690791',\n",
        "  'fcl': 'P',\n",
        "  'geonameId': 687076,\n",
        "  'fcodeName': 'populated place'},\n",
        " {'toponymName': 'Zel\u00ebnyy Lug',\n",
        "  'name': 'Zel\u00ebnyy Lug',\n",
        "  'fclName': 'city, village,...',\n",
        "  'countryName': 'Ukraine',\n",
        "  'lat': '47.89572',\n",
        "  'countryCode': 'UA',\n",
        "  'adminCode1': '04',\n",
        "  'population': 0,\n",
        "  'fcode': 'PPL',\n",
        "  'adminName1': 'Dnipropetrovsk',\n",
        "  'lng': '33.15286',\n",
        "  'countryId': '690791',\n",
        "  'fcl': 'P',\n",
        "  'geonameId': 687318,\n",
        "  'fcodeName': 'populated place'},\n",
        " {'toponymName': 'Voynivka',\n",
        "  'name': 'Voynivka',\n",
        "  'fclName': 'city, village,...',\n",
        "  'countryName': 'Ukraine',\n",
        "  'lat': '48.70028',\n",
        "  'countryCode': 'UA',\n",
        "  'adminCode1': '10',\n",
        "  'population': 0,\n",
        "  'fcode': 'PPL',\n",
        "  'adminName1': 'Kirovohrad',\n",
        "  'lng': '33.06827',\n",
        "  'countryId': '690791',\n",
        "  'fcl': 'P',\n",
        "  'geonameId': 688892,\n",
        "  'fcodeName': 'populated place'},\n",
        " {'toponymName': 'Ves\u00eblyy Podol',\n",
        "  'name': 'Ves\u00eblyy Podol',\n",
        "  'fclName': 'city, village,...',\n",
        "  'countryName': 'Ukraine',\n",
        "  'lat': '47.79157',\n",
        "  'countryCode': 'UA',\n",
        "  'adminCode1': '16',\n",
        "  'population': 0,\n",
        "  'fcode': 'PPL',\n",
        "  'adminName1': 'Mykolaiv',\n",
        "  'lng': '32.2734',\n",
        "  'countryId': '690791',\n",
        "  'fcl': 'P',\n",
        "  'geonameId': 689673,\n",
        "  'fcodeName': 'populated place'},\n",
        " {'toponymName': 'Vesely Gay',\n",
        "  'name': 'Vesely Gay',\n",
        "  'fclName': 'city, village,...',\n",
        "  'countryName': 'Ukraine',\n",
        "  'lat': '47.74406',\n",
        "  'countryCode': 'UA',\n",
        "  'adminCode1': '16',\n",
        "  'population': 0,\n",
        "  'fcode': 'PPL',\n",
        "  'adminName1': 'Mykolaiv',\n",
        "  'lng': '33.01391',\n",
        "  'countryId': '690791',\n",
        "  'fcl': 'P',\n",
        "  'geonameId': 689696,\n",
        "  'fcodeName': 'populated place'},\n",
        " {'toponymName': 'Verblyuzhka',\n",
        "  'name': 'Verblyuzhka',\n",
        "  'fclName': 'city, village,...',\n",
        "  'countryName': 'Ukraine',\n",
        "  'lat': '48.32226',\n",
        "  'countryCode': 'UA',\n",
        "  'adminCode1': '10',\n",
        "  'population': 0,\n",
        "  'fcode': 'PPL',\n",
        "  'adminName1': 'Kirovohrad',\n",
        "  'lng': '32.87861',\n",
        "  'countryId': '690791',\n",
        "  'fcl': 'P',\n",
        "  'geonameId': 689992,\n",
        "  'fcodeName': 'populated place'},\n",
        " {'toponymName': 'Varvarovka',\n",
        "  'name': 'Varvarovka',\n",
        "  'fclName': 'city, village,...',\n",
        "  'countryName': 'Ukraine',\n",
        "  'lat': '47.9',\n",
        "  'countryCode': 'UA',\n",
        "  'adminCode1': '10',\n",
        "  'population': 0,\n",
        "  'fcode': 'PPL',\n",
        "  'adminName1': 'Kirovohrad',\n",
        "  'lng': '32.2',\n",
        "  'countryId': '690791',\n",
        "  'fcl': 'P',\n",
        "  'geonameId': 690462,\n",
        "  'fcodeName': 'populated place'},\n",
        " {'toponymName': 'Uteshnoye',\n",
        "  'name': 'Uteshnoye',\n",
        "  'fclName': 'city, village,...',\n",
        "  'countryName': 'Ukraine',\n",
        "  'lat': '48.13333',\n",
        "  'countryCode': 'UA',\n",
        "  'adminCode1': '10',\n",
        "  'population': 0,\n",
        "  'fcode': 'PPL',\n",
        "  'adminName1': 'Kirovohrad',\n",
        "  'lng': '33.01667',\n",
        "  'countryId': '690791',\n",
        "  'fcl': 'P',\n",
        "  'geonameId': 690576,\n",
        "  'fcodeName': 'populated place'},\n",
        " {'toponymName': 'Koloniya Gromokley',\n",
        "  'name': 'Koloniya Gromokley',\n",
        "  'fclName': 'city, village,...',\n",
        "  'countryName': 'Ukraine',\n",
        "  'lat': '47.89136',\n",
        "  'countryCode': 'UA',\n",
        "  'adminCode1': '10',\n",
        "  'population': 0,\n",
        "  'fcode': 'PPL',\n",
        "  'adminName1': 'Kirovohrad',\n",
        "  'lng': '32.32913',\n",
        "  'countryId': '690791',\n",
        "  'fcl': 'P',\n",
        "  'geonameId': 705371,\n",
        "  'fcodeName': 'populated place'}]"
       ]
      }
     ],
     "prompt_number": 67
    },
    {
     "cell_type": "code",
     "collapsed": false,
     "input": [
      "import time\n",
      "area_places = []\n",
      "for c in coordslist:\n",
      "    url = \"http://api.geonames.org/search\"\n",
      "    Q = {\"type\":'json','username':'jaguillette','featureClass':'P','south':c['south'],'north':c['north'],'east':c['east'],'west':c['west']}\n",
      "    R = requests.get(url,params=Q)\n",
      "    print(R.url)\n",
      "    response = R.json()\n",
      "    if response['totalResultsCount'] > 5000:\n",
      "        print('Too many results. Need to shrink spacing')\n",
      "        time.sleep(1)\n",
      "    else:\n",
      "        area_places.extend(response['geonames'])\n",
      "        resultsCount = response['totalResultsCount']\n",
      "        time.sleep(1)\n",
      "        for p in range(100,resultsCount,100):\n",
      "            Q['startrow'] = p\n",
      "            R = requests.get(url,params=Q)\n",
      "            print(R.url)\n",
      "            response = R.json()\n",
      "            area_places.extend(response['geonames'])\n",
      "            time.sleep(1)"
     ],
     "language": "python",
     "metadata": {},
     "outputs": [
      {
       "output_type": "stream",
       "stream": "stdout",
       "text": [
        "http://api.geonames.org/search?north=48.716667&featureClass=P&username=jaguillette&west=32.183333&type=json&east=33.183333&south=47.716667\n",
        "http://api.geonames.org/search?startrow=100&featureClass=P&username=jaguillette&west=32.183333&type=json&east=33.183333&north=48.716667&south=47.716667"
       ]
      },
      {
       "output_type": "stream",
       "stream": "stdout",
       "text": [
        "\n",
        "http://api.geonames.org/search?startrow=200&featureClass=P&username=jaguillette&west=32.183333&type=json&east=33.183333&north=48.716667&south=47.716667"
       ]
      },
      {
       "output_type": "stream",
       "stream": "stdout",
       "text": [
        "\n",
        "http://api.geonames.org/search?north=48.716667&featureClass=P&username=jaguillette&west=33.183333&type=json&east=34.183333&south=47.716667"
       ]
      },
      {
       "output_type": "stream",
       "stream": "stdout",
       "text": [
        "\n",
        "http://api.geonames.org/search?startrow=100&featureClass=P&username=jaguillette&west=33.183333&type=json&east=34.183333&north=48.716667&south=47.716667"
       ]
      },
      {
       "output_type": "stream",
       "stream": "stdout",
       "text": [
        "\n",
        "http://api.geonames.org/search?startrow=200&featureClass=P&username=jaguillette&west=33.183333&type=json&east=34.183333&north=48.716667&south=47.716667"
       ]
      },
      {
       "output_type": "stream",
       "stream": "stdout",
       "text": [
        "\n",
        "http://api.geonames.org/search?north=48.716667&featureClass=P&username=jaguillette&west=34.183333&type=json&east=35.183333&south=47.716667"
       ]
      },
      {
       "output_type": "stream",
       "stream": "stdout",
       "text": [
        "\n",
        "http://api.geonames.org/search?startrow=100&featureClass=P&username=jaguillette&west=34.183333&type=json&east=35.183333&north=48.716667&south=47.716667"
       ]
      },
      {
       "output_type": "stream",
       "stream": "stdout",
       "text": [
        "\n",
        "http://api.geonames.org/search?startrow=200&featureClass=P&username=jaguillette&west=34.183333&type=json&east=35.183333&north=48.716667&south=47.716667"
       ]
      },
      {
       "output_type": "stream",
       "stream": "stdout",
       "text": [
        "\n",
        "http://api.geonames.org/search?startrow=300&featureClass=P&username=jaguillette&west=34.183333&type=json&east=35.183333&north=48.716667&south=47.716667"
       ]
      },
      {
       "output_type": "stream",
       "stream": "stdout",
       "text": [
        "\n",
        "http://api.geonames.org/search?north=48.716667&featureClass=P&username=jaguillette&west=35.183333&type=json&east=36.183333&south=47.716667"
       ]
      },
      {
       "output_type": "stream",
       "stream": "stdout",
       "text": [
        "\n",
        "http://api.geonames.org/search?startrow=100&featureClass=P&username=jaguillette&west=35.183333&type=json&east=36.183333&north=48.716667&south=47.716667"
       ]
      },
      {
       "output_type": "stream",
       "stream": "stdout",
       "text": [
        "\n",
        "http://api.geonames.org/search?startrow=200&featureClass=P&username=jaguillette&west=35.183333&type=json&east=36.183333&north=48.716667&south=47.716667"
       ]
      },
      {
       "output_type": "stream",
       "stream": "stdout",
       "text": [
        "\n",
        "http://api.geonames.org/search?startrow=300&featureClass=P&username=jaguillette&west=35.183333&type=json&east=36.183333&north=48.716667&south=47.716667"
       ]
      },
      {
       "output_type": "stream",
       "stream": "stdout",
       "text": [
        "\n",
        "http://api.geonames.org/search?startrow=400&featureClass=P&username=jaguillette&west=35.183333&type=json&east=36.183333&north=48.716667&south=47.716667"
       ]
      },
      {
       "output_type": "stream",
       "stream": "stdout",
       "text": [
        "\n",
        "http://api.geonames.org/search?north=48.716667&featureClass=P&username=jaguillette&west=36.183333&type=json&east=37.183333&south=47.716667"
       ]
      },
      {
       "output_type": "stream",
       "stream": "stdout",
       "text": [
        "\n",
        "http://api.geonames.org/search?startrow=100&featureClass=P&username=jaguillette&west=36.183333&type=json&east=37.183333&north=48.716667&south=47.716667"
       ]
      },
      {
       "output_type": "stream",
       "stream": "stdout",
       "text": [
        "\n",
        "http://api.geonames.org/search?startrow=200&featureClass=P&username=jaguillette&west=36.183333&type=json&east=37.183333&north=48.716667&south=47.716667"
       ]
      },
      {
       "output_type": "stream",
       "stream": "stdout",
       "text": [
        "\n",
        "http://api.geonames.org/search?startrow=300&featureClass=P&username=jaguillette&west=36.183333&type=json&east=37.183333&north=48.716667&south=47.716667"
       ]
      },
      {
       "output_type": "stream",
       "stream": "stdout",
       "text": [
        "\n",
        "http://api.geonames.org/search?north=48.716667&featureClass=P&username=jaguillette&west=37.183333&type=json&east=38.183333&south=47.716667"
       ]
      },
      {
       "output_type": "stream",
       "stream": "stdout",
       "text": [
        "\n",
        "http://api.geonames.org/search?startrow=100&featureClass=P&username=jaguillette&west=37.183333&type=json&east=38.183333&north=48.716667&south=47.716667"
       ]
      },
      {
       "output_type": "stream",
       "stream": "stdout",
       "text": [
        "\n",
        "http://api.geonames.org/search?startrow=200&featureClass=P&username=jaguillette&west=37.183333&type=json&east=38.183333&north=48.716667&south=47.716667"
       ]
      },
      {
       "output_type": "stream",
       "stream": "stdout",
       "text": [
        "\n",
        "http://api.geonames.org/search?startrow=300&featureClass=P&username=jaguillette&west=37.183333&type=json&east=38.183333&north=48.716667&south=47.716667"
       ]
      },
      {
       "output_type": "stream",
       "stream": "stdout",
       "text": [
        "\n",
        "http://api.geonames.org/search?startrow=400&featureClass=P&username=jaguillette&west=37.183333&type=json&east=38.183333&north=48.716667&south=47.716667"
       ]
      },
      {
       "output_type": "stream",
       "stream": "stdout",
       "text": [
        "\n",
        "http://api.geonames.org/search?startrow=500&featureClass=P&username=jaguillette&west=37.183333&type=json&east=38.183333&north=48.716667&south=47.716667"
       ]
      },
      {
       "output_type": "stream",
       "stream": "stdout",
       "text": [
        "\n",
        "http://api.geonames.org/search?north=48.716667&featureClass=P&username=jaguillette&west=38.183333&type=json&east=39.183333&south=47.716667"
       ]
      },
      {
       "output_type": "stream",
       "stream": "stdout",
       "text": [
        "\n",
        "http://api.geonames.org/search?startrow=100&featureClass=P&username=jaguillette&west=38.183333&type=json&east=39.183333&north=48.716667&south=47.716667"
       ]
      },
      {
       "output_type": "stream",
       "stream": "stdout",
       "text": [
        "\n",
        "http://api.geonames.org/search?startrow=200&featureClass=P&username=jaguillette&west=38.183333&type=json&east=39.183333&north=48.716667&south=47.716667"
       ]
      },
      {
       "output_type": "stream",
       "stream": "stdout",
       "text": [
        "\n",
        "http://api.geonames.org/search?startrow=300&featureClass=P&username=jaguillette&west=38.183333&type=json&east=39.183333&north=48.716667&south=47.716667"
       ]
      },
      {
       "output_type": "stream",
       "stream": "stdout",
       "text": [
        "\n",
        "http://api.geonames.org/search?startrow=400&featureClass=P&username=jaguillette&west=38.183333&type=json&east=39.183333&north=48.716667&south=47.716667"
       ]
      },
      {
       "output_type": "stream",
       "stream": "stdout",
       "text": [
        "\n",
        "http://api.geonames.org/search?startrow=500&featureClass=P&username=jaguillette&west=38.183333&type=json&east=39.183333&north=48.716667&south=47.716667"
       ]
      },
      {
       "output_type": "stream",
       "stream": "stdout",
       "text": [
        "\n",
        "http://api.geonames.org/search?startrow=600&featureClass=P&username=jaguillette&west=38.183333&type=json&east=39.183333&north=48.716667&south=47.716667"
       ]
      },
      {
       "output_type": "stream",
       "stream": "stdout",
       "text": [
        "\n",
        "http://api.geonames.org/search?north=48.716667&featureClass=P&username=jaguillette&west=39.183333&type=json&east=40.183333&south=47.716667"
       ]
      },
      {
       "output_type": "stream",
       "stream": "stdout",
       "text": [
        "\n",
        "http://api.geonames.org/search?startrow=100&featureClass=P&username=jaguillette&west=39.183333&type=json&east=40.183333&north=48.716667&south=47.716667"
       ]
      },
      {
       "output_type": "stream",
       "stream": "stdout",
       "text": [
        "\n",
        "http://api.geonames.org/search?startrow=200&featureClass=P&username=jaguillette&west=39.183333&type=json&east=40.183333&north=48.716667&south=47.716667"
       ]
      },
      {
       "output_type": "stream",
       "stream": "stdout",
       "text": [
        "\n",
        "http://api.geonames.org/search?startrow=300&featureClass=P&username=jaguillette&west=39.183333&type=json&east=40.183333&north=48.716667&south=47.716667"
       ]
      },
      {
       "output_type": "stream",
       "stream": "stdout",
       "text": [
        "\n",
        "http://api.geonames.org/search?startrow=400&featureClass=P&username=jaguillette&west=39.183333&type=json&east=40.183333&north=48.716667&south=47.716667"
       ]
      },
      {
       "output_type": "stream",
       "stream": "stdout",
       "text": [
        "\n",
        "http://api.geonames.org/search?startrow=500&featureClass=P&username=jaguillette&west=39.183333&type=json&east=40.183333&north=48.716667&south=47.716667"
       ]
      },
      {
       "output_type": "stream",
       "stream": "stdout",
       "text": [
        "\n",
        "http://api.geonames.org/search?north=49.716667&featureClass=P&username=jaguillette&west=32.183333&type=json&east=33.183333&south=48.716667"
       ]
      },
      {
       "output_type": "stream",
       "stream": "stdout",
       "text": [
        "\n",
        "http://api.geonames.org/search?startrow=100&featureClass=P&username=jaguillette&west=32.183333&type=json&east=33.183333&north=49.716667&south=48.716667"
       ]
      },
      {
       "output_type": "stream",
       "stream": "stdout",
       "text": [
        "\n",
        "http://api.geonames.org/search?north=49.716667&featureClass=P&username=jaguillette&west=33.183333&type=json&east=34.183333&south=48.716667"
       ]
      },
      {
       "output_type": "stream",
       "stream": "stdout",
       "text": [
        "\n",
        "http://api.geonames.org/search?startrow=100&featureClass=P&username=jaguillette&west=33.183333&type=json&east=34.183333&north=49.716667&south=48.716667"
       ]
      },
      {
       "output_type": "stream",
       "stream": "stdout",
       "text": [
        "\n",
        "http://api.geonames.org/search?startrow=200&featureClass=P&username=jaguillette&west=33.183333&type=json&east=34.183333&north=49.716667&south=48.716667"
       ]
      },
      {
       "output_type": "stream",
       "stream": "stdout",
       "text": [
        "\n",
        "http://api.geonames.org/search?north=49.716667&featureClass=P&username=jaguillette&west=34.183333&type=json&east=35.183333&south=48.716667"
       ]
      },
      {
       "output_type": "stream",
       "stream": "stdout",
       "text": [
        "\n",
        "http://api.geonames.org/search?startrow=100&featureClass=P&username=jaguillette&west=34.183333&type=json&east=35.183333&north=49.716667&south=48.716667"
       ]
      },
      {
       "output_type": "stream",
       "stream": "stdout",
       "text": [
        "\n",
        "http://api.geonames.org/search?startrow=200&featureClass=P&username=jaguillette&west=34.183333&type=json&east=35.183333&north=49.716667&south=48.716667"
       ]
      },
      {
       "output_type": "stream",
       "stream": "stdout",
       "text": [
        "\n",
        "http://api.geonames.org/search?startrow=300&featureClass=P&username=jaguillette&west=34.183333&type=json&east=35.183333&north=49.716667&south=48.716667"
       ]
      },
      {
       "output_type": "stream",
       "stream": "stdout",
       "text": [
        "\n",
        "http://api.geonames.org/search?north=49.716667&featureClass=P&username=jaguillette&west=35.183333&type=json&east=36.183333&south=48.716667"
       ]
      },
      {
       "output_type": "stream",
       "stream": "stdout",
       "text": [
        "\n",
        "http://api.geonames.org/search?startrow=100&featureClass=P&username=jaguillette&west=35.183333&type=json&east=36.183333&north=49.716667&south=48.716667"
       ]
      },
      {
       "output_type": "stream",
       "stream": "stdout",
       "text": [
        "\n",
        "http://api.geonames.org/search?startrow=200&featureClass=P&username=jaguillette&west=35.183333&type=json&east=36.183333&north=49.716667&south=48.716667"
       ]
      },
      {
       "output_type": "stream",
       "stream": "stdout",
       "text": [
        "\n",
        "http://api.geonames.org/search?startrow=300&featureClass=P&username=jaguillette&west=35.183333&type=json&east=36.183333&north=49.716667&south=48.716667"
       ]
      },
      {
       "output_type": "stream",
       "stream": "stdout",
       "text": [
        "\n",
        "http://api.geonames.org/search?startrow=400&featureClass=P&username=jaguillette&west=35.183333&type=json&east=36.183333&north=49.716667&south=48.716667"
       ]
      },
      {
       "output_type": "stream",
       "stream": "stdout",
       "text": [
        "\n",
        "http://api.geonames.org/search?north=49.716667&featureClass=P&username=jaguillette&west=36.183333&type=json&east=37.183333&south=48.716667"
       ]
      },
      {
       "output_type": "stream",
       "stream": "stdout",
       "text": [
        "\n",
        "http://api.geonames.org/search?startrow=100&featureClass=P&username=jaguillette&west=36.183333&type=json&east=37.183333&north=49.716667&south=48.716667"
       ]
      },
      {
       "output_type": "stream",
       "stream": "stdout",
       "text": [
        "\n",
        "http://api.geonames.org/search?startrow=200&featureClass=P&username=jaguillette&west=36.183333&type=json&east=37.183333&north=49.716667&south=48.716667"
       ]
      },
      {
       "output_type": "stream",
       "stream": "stdout",
       "text": [
        "\n",
        "http://api.geonames.org/search?startrow=300&featureClass=P&username=jaguillette&west=36.183333&type=json&east=37.183333&north=49.716667&south=48.716667"
       ]
      },
      {
       "output_type": "stream",
       "stream": "stdout",
       "text": [
        "\n",
        "http://api.geonames.org/search?startrow=400&featureClass=P&username=jaguillette&west=36.183333&type=json&east=37.183333&north=49.716667&south=48.716667"
       ]
      },
      {
       "output_type": "stream",
       "stream": "stdout",
       "text": [
        "\n",
        "http://api.geonames.org/search?north=49.716667&featureClass=P&username=jaguillette&west=37.183333&type=json&east=38.183333&south=48.716667"
       ]
      },
      {
       "output_type": "stream",
       "stream": "stdout",
       "text": [
        "\n",
        "http://api.geonames.org/search?startrow=100&featureClass=P&username=jaguillette&west=37.183333&type=json&east=38.183333&north=49.716667&south=48.716667"
       ]
      },
      {
       "output_type": "stream",
       "stream": "stdout",
       "text": [
        "\n",
        "http://api.geonames.org/search?startrow=200&featureClass=P&username=jaguillette&west=37.183333&type=json&east=38.183333&north=49.716667&south=48.716667"
       ]
      },
      {
       "output_type": "stream",
       "stream": "stdout",
       "text": [
        "\n",
        "http://api.geonames.org/search?startrow=300&featureClass=P&username=jaguillette&west=37.183333&type=json&east=38.183333&north=49.716667&south=48.716667"
       ]
      },
      {
       "output_type": "stream",
       "stream": "stdout",
       "text": [
        "\n",
        "http://api.geonames.org/search?startrow=400&featureClass=P&username=jaguillette&west=37.183333&type=json&east=38.183333&north=49.716667&south=48.716667"
       ]
      },
      {
       "output_type": "stream",
       "stream": "stdout",
       "text": [
        "\n",
        "http://api.geonames.org/search?north=49.716667&featureClass=P&username=jaguillette&west=38.183333&type=json&east=39.183333&south=48.716667"
       ]
      },
      {
       "output_type": "stream",
       "stream": "stdout",
       "text": [
        "\n",
        "http://api.geonames.org/search?startrow=100&featureClass=P&username=jaguillette&west=38.183333&type=json&east=39.183333&north=49.716667&south=48.716667"
       ]
      },
      {
       "output_type": "stream",
       "stream": "stdout",
       "text": [
        "\n",
        "http://api.geonames.org/search?startrow=200&featureClass=P&username=jaguillette&west=38.183333&type=json&east=39.183333&north=49.716667&south=48.716667"
       ]
      },
      {
       "output_type": "stream",
       "stream": "stdout",
       "text": [
        "\n",
        "http://api.geonames.org/search?startrow=300&featureClass=P&username=jaguillette&west=38.183333&type=json&east=39.183333&north=49.716667&south=48.716667"
       ]
      },
      {
       "output_type": "stream",
       "stream": "stdout",
       "text": [
        "\n",
        "http://api.geonames.org/search?north=49.716667&featureClass=P&username=jaguillette&west=39.183333&type=json&east=40.183333&south=48.716667"
       ]
      },
      {
       "output_type": "stream",
       "stream": "stdout",
       "text": [
        "\n",
        "http://api.geonames.org/search?startrow=100&featureClass=P&username=jaguillette&west=39.183333&type=json&east=40.183333&north=49.716667&south=48.716667"
       ]
      },
      {
       "output_type": "stream",
       "stream": "stdout",
       "text": [
        "\n",
        "http://api.geonames.org/search?startrow=200&featureClass=P&username=jaguillette&west=39.183333&type=json&east=40.183333&north=49.716667&south=48.716667"
       ]
      },
      {
       "output_type": "stream",
       "stream": "stdout",
       "text": [
        "\n",
        "http://api.geonames.org/search?startrow=300&featureClass=P&username=jaguillette&west=39.183333&type=json&east=40.183333&north=49.716667&south=48.716667"
       ]
      },
      {
       "output_type": "stream",
       "stream": "stdout",
       "text": [
        "\n",
        "http://api.geonames.org/search?north=50.716667&featureClass=P&username=jaguillette&west=32.183333&type=json&east=33.183333&south=49.716667"
       ]
      },
      {
       "output_type": "stream",
       "stream": "stdout",
       "text": [
        "\n",
        "http://api.geonames.org/search?startrow=100&featureClass=P&username=jaguillette&west=32.183333&type=json&east=33.183333&north=50.716667&south=49.716667"
       ]
      },
      {
       "output_type": "stream",
       "stream": "stdout",
       "text": [
        "\n",
        "http://api.geonames.org/search?startrow=200&featureClass=P&username=jaguillette&west=32.183333&type=json&east=33.183333&north=50.716667&south=49.716667"
       ]
      },
      {
       "output_type": "stream",
       "stream": "stdout",
       "text": [
        "\n",
        "http://api.geonames.org/search?startrow=300&featureClass=P&username=jaguillette&west=32.183333&type=json&east=33.183333&north=50.716667&south=49.716667"
       ]
      },
      {
       "output_type": "stream",
       "stream": "stdout",
       "text": [
        "\n",
        "http://api.geonames.org/search?startrow=400&featureClass=P&username=jaguillette&west=32.183333&type=json&east=33.183333&north=50.716667&south=49.716667"
       ]
      },
      {
       "output_type": "stream",
       "stream": "stdout",
       "text": [
        "\n",
        "http://api.geonames.org/search?north=50.716667&featureClass=P&username=jaguillette&west=33.183333&type=json&east=34.183333&south=49.716667"
       ]
      },
      {
       "output_type": "stream",
       "stream": "stdout",
       "text": [
        "\n",
        "http://api.geonames.org/search?startrow=100&featureClass=P&username=jaguillette&west=33.183333&type=json&east=34.183333&north=50.716667&south=49.716667"
       ]
      },
      {
       "output_type": "stream",
       "stream": "stdout",
       "text": [
        "\n",
        "http://api.geonames.org/search?startrow=200&featureClass=P&username=jaguillette&west=33.183333&type=json&east=34.183333&north=50.716667&south=49.716667"
       ]
      },
      {
       "output_type": "stream",
       "stream": "stdout",
       "text": [
        "\n",
        "http://api.geonames.org/search?startrow=300&featureClass=P&username=jaguillette&west=33.183333&type=json&east=34.183333&north=50.716667&south=49.716667"
       ]
      },
      {
       "output_type": "stream",
       "stream": "stdout",
       "text": [
        "\n",
        "http://api.geonames.org/search?startrow=400&featureClass=P&username=jaguillette&west=33.183333&type=json&east=34.183333&north=50.716667&south=49.716667"
       ]
      },
      {
       "output_type": "stream",
       "stream": "stdout",
       "text": [
        "\n",
        "http://api.geonames.org/search?startrow=500&featureClass=P&username=jaguillette&west=33.183333&type=json&east=34.183333&north=50.716667&south=49.716667"
       ]
      },
      {
       "output_type": "stream",
       "stream": "stdout",
       "text": [
        "\n",
        "http://api.geonames.org/search?startrow=600&featureClass=P&username=jaguillette&west=33.183333&type=json&east=34.183333&north=50.716667&south=49.716667"
       ]
      },
      {
       "output_type": "stream",
       "stream": "stdout",
       "text": [
        "\n",
        "http://api.geonames.org/search?north=50.716667&featureClass=P&username=jaguillette&west=34.183333&type=json&east=35.183333&south=49.716667"
       ]
      },
      {
       "output_type": "stream",
       "stream": "stdout",
       "text": [
        "\n",
        "http://api.geonames.org/search?startrow=100&featureClass=P&username=jaguillette&west=34.183333&type=json&east=35.183333&north=50.716667&south=49.716667"
       ]
      },
      {
       "output_type": "stream",
       "stream": "stdout",
       "text": [
        "\n",
        "http://api.geonames.org/search?startrow=200&featureClass=P&username=jaguillette&west=34.183333&type=json&east=35.183333&north=50.716667&south=49.716667"
       ]
      },
      {
       "output_type": "stream",
       "stream": "stdout",
       "text": [
        "\n",
        "http://api.geonames.org/search?startrow=300&featureClass=P&username=jaguillette&west=34.183333&type=json&east=35.183333&north=50.716667&south=49.716667"
       ]
      },
      {
       "output_type": "stream",
       "stream": "stdout",
       "text": [
        "\n",
        "http://api.geonames.org/search?startrow=400&featureClass=P&username=jaguillette&west=34.183333&type=json&east=35.183333&north=50.716667&south=49.716667"
       ]
      },
      {
       "output_type": "stream",
       "stream": "stdout",
       "text": [
        "\n",
        "http://api.geonames.org/search?startrow=500&featureClass=P&username=jaguillette&west=34.183333&type=json&east=35.183333&north=50.716667&south=49.716667"
       ]
      },
      {
       "output_type": "stream",
       "stream": "stdout",
       "text": [
        "\n",
        "http://api.geonames.org/search?startrow=600&featureClass=P&username=jaguillette&west=34.183333&type=json&east=35.183333&north=50.716667&south=49.716667"
       ]
      },
      {
       "output_type": "stream",
       "stream": "stdout",
       "text": [
        "\n",
        "http://api.geonames.org/search?north=50.716667&featureClass=P&username=jaguillette&west=35.183333&type=json&east=36.183333&south=49.716667"
       ]
      },
      {
       "output_type": "stream",
       "stream": "stdout",
       "text": [
        "\n",
        "http://api.geonames.org/search?startrow=100&featureClass=P&username=jaguillette&west=35.183333&type=json&east=36.183333&north=50.716667&south=49.716667"
       ]
      },
      {
       "output_type": "stream",
       "stream": "stdout",
       "text": [
        "\n",
        "http://api.geonames.org/search?startrow=200&featureClass=P&username=jaguillette&west=35.183333&type=json&east=36.183333&north=50.716667&south=49.716667"
       ]
      },
      {
       "output_type": "stream",
       "stream": "stdout",
       "text": [
        "\n",
        "http://api.geonames.org/search?startrow=300&featureClass=P&username=jaguillette&west=35.183333&type=json&east=36.183333&north=50.716667&south=49.716667"
       ]
      },
      {
       "output_type": "stream",
       "stream": "stdout",
       "text": [
        "\n",
        "http://api.geonames.org/search?startrow=400&featureClass=P&username=jaguillette&west=35.183333&type=json&east=36.183333&north=50.716667&south=49.716667"
       ]
      },
      {
       "output_type": "stream",
       "stream": "stdout",
       "text": [
        "\n",
        "http://api.geonames.org/search?startrow=500&featureClass=P&username=jaguillette&west=35.183333&type=json&east=36.183333&north=50.716667&south=49.716667"
       ]
      },
      {
       "output_type": "stream",
       "stream": "stdout",
       "text": [
        "\n",
        "http://api.geonames.org/search?startrow=600&featureClass=P&username=jaguillette&west=35.183333&type=json&east=36.183333&north=50.716667&south=49.716667"
       ]
      },
      {
       "output_type": "stream",
       "stream": "stdout",
       "text": [
        "\n",
        "http://api.geonames.org/search?startrow=700&featureClass=P&username=jaguillette&west=35.183333&type=json&east=36.183333&north=50.716667&south=49.716667"
       ]
      },
      {
       "output_type": "stream",
       "stream": "stdout",
       "text": [
        "\n",
        "http://api.geonames.org/search?north=50.716667&featureClass=P&username=jaguillette&west=36.183333&type=json&east=37.183333&south=49.716667"
       ]
      },
      {
       "output_type": "stream",
       "stream": "stdout",
       "text": [
        "\n",
        "http://api.geonames.org/search?startrow=100&featureClass=P&username=jaguillette&west=36.183333&type=json&east=37.183333&north=50.716667&south=49.716667"
       ]
      },
      {
       "output_type": "stream",
       "stream": "stdout",
       "text": [
        "\n",
        "http://api.geonames.org/search?startrow=200&featureClass=P&username=jaguillette&west=36.183333&type=json&east=37.183333&north=50.716667&south=49.716667"
       ]
      },
      {
       "output_type": "stream",
       "stream": "stdout",
       "text": [
        "\n",
        "http://api.geonames.org/search?startrow=300&featureClass=P&username=jaguillette&west=36.183333&type=json&east=37.183333&north=50.716667&south=49.716667"
       ]
      },
      {
       "output_type": "stream",
       "stream": "stdout",
       "text": [
        "\n",
        "http://api.geonames.org/search?startrow=400&featureClass=P&username=jaguillette&west=36.183333&type=json&east=37.183333&north=50.716667&south=49.716667"
       ]
      },
      {
       "output_type": "stream",
       "stream": "stdout",
       "text": [
        "\n",
        "http://api.geonames.org/search?startrow=500&featureClass=P&username=jaguillette&west=36.183333&type=json&east=37.183333&north=50.716667&south=49.716667"
       ]
      },
      {
       "output_type": "stream",
       "stream": "stdout",
       "text": [
        "\n",
        "http://api.geonames.org/search?startrow=600&featureClass=P&username=jaguillette&west=36.183333&type=json&east=37.183333&north=50.716667&south=49.716667"
       ]
      },
      {
       "output_type": "stream",
       "stream": "stdout",
       "text": [
        "\n",
        "http://api.geonames.org/search?north=50.716667&featureClass=P&username=jaguillette&west=37.183333&type=json&east=38.183333&south=49.716667"
       ]
      },
      {
       "output_type": "stream",
       "stream": "stdout",
       "text": [
        "\n",
        "http://api.geonames.org/search?startrow=100&featureClass=P&username=jaguillette&west=37.183333&type=json&east=38.183333&north=50.716667&south=49.716667"
       ]
      },
      {
       "output_type": "stream",
       "stream": "stdout",
       "text": [
        "\n",
        "http://api.geonames.org/search?startrow=200&featureClass=P&username=jaguillette&west=37.183333&type=json&east=38.183333&north=50.716667&south=49.716667"
       ]
      },
      {
       "output_type": "stream",
       "stream": "stdout",
       "text": [
        "\n",
        "http://api.geonames.org/search?startrow=300&featureClass=P&username=jaguillette&west=37.183333&type=json&east=38.183333&north=50.716667&south=49.716667"
       ]
      },
      {
       "output_type": "stream",
       "stream": "stdout",
       "text": [
        "\n",
        "http://api.geonames.org/search?startrow=400&featureClass=P&username=jaguillette&west=37.183333&type=json&east=38.183333&north=50.716667&south=49.716667"
       ]
      },
      {
       "output_type": "stream",
       "stream": "stdout",
       "text": [
        "\n",
        "http://api.geonames.org/search?startrow=500&featureClass=P&username=jaguillette&west=37.183333&type=json&east=38.183333&north=50.716667&south=49.716667"
       ]
      },
      {
       "output_type": "stream",
       "stream": "stdout",
       "text": [
        "\n",
        "http://api.geonames.org/search?startrow=600&featureClass=P&username=jaguillette&west=37.183333&type=json&east=38.183333&north=50.716667&south=49.716667"
       ]
      },
      {
       "output_type": "stream",
       "stream": "stdout",
       "text": [
        "\n",
        "http://api.geonames.org/search?startrow=700&featureClass=P&username=jaguillette&west=37.183333&type=json&east=38.183333&north=50.716667&south=49.716667"
       ]
      },
      {
       "output_type": "stream",
       "stream": "stdout",
       "text": [
        "\n",
        "http://api.geonames.org/search?north=50.716667&featureClass=P&username=jaguillette&west=38.183333&type=json&east=39.183333&south=49.716667"
       ]
      },
      {
       "output_type": "stream",
       "stream": "stdout",
       "text": [
        "\n",
        "http://api.geonames.org/search?startrow=100&featureClass=P&username=jaguillette&west=38.183333&type=json&east=39.183333&north=50.716667&south=49.716667"
       ]
      },
      {
       "output_type": "stream",
       "stream": "stdout",
       "text": [
        "\n",
        "http://api.geonames.org/search?startrow=200&featureClass=P&username=jaguillette&west=38.183333&type=json&east=39.183333&north=50.716667&south=49.716667"
       ]
      },
      {
       "output_type": "stream",
       "stream": "stdout",
       "text": [
        "\n",
        "http://api.geonames.org/search?startrow=300&featureClass=P&username=jaguillette&west=38.183333&type=json&east=39.183333&north=50.716667&south=49.716667"
       ]
      },
      {
       "output_type": "stream",
       "stream": "stdout",
       "text": [
        "\n",
        "http://api.geonames.org/search?startrow=400&featureClass=P&username=jaguillette&west=38.183333&type=json&east=39.183333&north=50.716667&south=49.716667"
       ]
      },
      {
       "output_type": "stream",
       "stream": "stdout",
       "text": [
        "\n",
        "http://api.geonames.org/search?north=50.716667&featureClass=P&username=jaguillette&west=39.183333&type=json&east=40.183333&south=49.716667"
       ]
      },
      {
       "output_type": "stream",
       "stream": "stdout",
       "text": [
        "\n",
        "http://api.geonames.org/search?startrow=100&featureClass=P&username=jaguillette&west=39.183333&type=json&east=40.183333&north=50.716667&south=49.716667"
       ]
      },
      {
       "output_type": "stream",
       "stream": "stdout",
       "text": [
        "\n",
        "http://api.geonames.org/search?startrow=200&featureClass=P&username=jaguillette&west=39.183333&type=json&east=40.183333&north=50.716667&south=49.716667"
       ]
      },
      {
       "output_type": "stream",
       "stream": "stdout",
       "text": [
        "\n",
        "http://api.geonames.org/search?startrow=300&featureClass=P&username=jaguillette&west=39.183333&type=json&east=40.183333&north=50.716667&south=49.716667"
       ]
      },
      {
       "output_type": "stream",
       "stream": "stdout",
       "text": [
        "\n",
        "http://api.geonames.org/search?north=51.716667&featureClass=P&username=jaguillette&west=32.183333&type=json&east=33.183333&south=50.716667"
       ]
      },
      {
       "output_type": "stream",
       "stream": "stdout",
       "text": [
        "\n",
        "http://api.geonames.org/search?startrow=100&featureClass=P&username=jaguillette&west=32.183333&type=json&east=33.183333&north=51.716667&south=50.716667"
       ]
      },
      {
       "output_type": "stream",
       "stream": "stdout",
       "text": [
        "\n",
        "http://api.geonames.org/search?startrow=200&featureClass=P&username=jaguillette&west=32.183333&type=json&east=33.183333&north=51.716667&south=50.716667"
       ]
      },
      {
       "output_type": "stream",
       "stream": "stdout",
       "text": [
        "\n",
        "http://api.geonames.org/search?startrow=300&featureClass=P&username=jaguillette&west=32.183333&type=json&east=33.183333&north=51.716667&south=50.716667"
       ]
      },
      {
       "output_type": "stream",
       "stream": "stdout",
       "text": [
        "\n",
        "http://api.geonames.org/search?startrow=400&featureClass=P&username=jaguillette&west=32.183333&type=json&east=33.183333&north=51.716667&south=50.716667"
       ]
      },
      {
       "output_type": "stream",
       "stream": "stdout",
       "text": [
        "\n",
        "http://api.geonames.org/search?north=51.716667&featureClass=P&username=jaguillette&west=33.183333&type=json&east=34.183333&south=50.716667"
       ]
      },
      {
       "output_type": "stream",
       "stream": "stdout",
       "text": [
        "\n",
        "http://api.geonames.org/search?startrow=100&featureClass=P&username=jaguillette&west=33.183333&type=json&east=34.183333&north=51.716667&south=50.716667"
       ]
      },
      {
       "output_type": "stream",
       "stream": "stdout",
       "text": [
        "\n",
        "http://api.geonames.org/search?startrow=200&featureClass=P&username=jaguillette&west=33.183333&type=json&east=34.183333&north=51.716667&south=50.716667"
       ]
      },
      {
       "output_type": "stream",
       "stream": "stdout",
       "text": [
        "\n",
        "http://api.geonames.org/search?startrow=300&featureClass=P&username=jaguillette&west=33.183333&type=json&east=34.183333&north=51.716667&south=50.716667"
       ]
      },
      {
       "output_type": "stream",
       "stream": "stdout",
       "text": [
        "\n",
        "http://api.geonames.org/search?startrow=400&featureClass=P&username=jaguillette&west=33.183333&type=json&east=34.183333&north=51.716667&south=50.716667"
       ]
      },
      {
       "output_type": "stream",
       "stream": "stdout",
       "text": [
        "\n",
        "http://api.geonames.org/search?startrow=500&featureClass=P&username=jaguillette&west=33.183333&type=json&east=34.183333&north=51.716667&south=50.716667"
       ]
      },
      {
       "output_type": "stream",
       "stream": "stdout",
       "text": [
        "\n",
        "http://api.geonames.org/search?north=51.716667&featureClass=P&username=jaguillette&west=34.183333&type=json&east=35.183333&south=50.716667"
       ]
      },
      {
       "output_type": "stream",
       "stream": "stdout",
       "text": [
        "\n",
        "http://api.geonames.org/search?startrow=100&featureClass=P&username=jaguillette&west=34.183333&type=json&east=35.183333&north=51.716667&south=50.716667"
       ]
      },
      {
       "output_type": "stream",
       "stream": "stdout",
       "text": [
        "\n",
        "http://api.geonames.org/search?startrow=200&featureClass=P&username=jaguillette&west=34.183333&type=json&east=35.183333&north=51.716667&south=50.716667"
       ]
      },
      {
       "output_type": "stream",
       "stream": "stdout",
       "text": [
        "\n",
        "http://api.geonames.org/search?startrow=300&featureClass=P&username=jaguillette&west=34.183333&type=json&east=35.183333&north=51.716667&south=50.716667"
       ]
      },
      {
       "output_type": "stream",
       "stream": "stdout",
       "text": [
        "\n",
        "http://api.geonames.org/search?startrow=400&featureClass=P&username=jaguillette&west=34.183333&type=json&east=35.183333&north=51.716667&south=50.716667"
       ]
      },
      {
       "output_type": "stream",
       "stream": "stdout",
       "text": [
        "\n",
        "http://api.geonames.org/search?startrow=500&featureClass=P&username=jaguillette&west=34.183333&type=json&east=35.183333&north=51.716667&south=50.716667"
       ]
      },
      {
       "output_type": "stream",
       "stream": "stdout",
       "text": [
        "\n",
        "http://api.geonames.org/search?startrow=600&featureClass=P&username=jaguillette&west=34.183333&type=json&east=35.183333&north=51.716667&south=50.716667"
       ]
      },
      {
       "output_type": "stream",
       "stream": "stdout",
       "text": [
        "\n",
        "http://api.geonames.org/search?north=51.716667&featureClass=P&username=jaguillette&west=35.183333&type=json&east=36.183333&south=50.716667"
       ]
      },
      {
       "output_type": "stream",
       "stream": "stdout",
       "text": [
        "\n",
        "http://api.geonames.org/search?startrow=100&featureClass=P&username=jaguillette&west=35.183333&type=json&east=36.183333&north=51.716667&south=50.716667"
       ]
      },
      {
       "output_type": "stream",
       "stream": "stdout",
       "text": [
        "\n",
        "http://api.geonames.org/search?startrow=200&featureClass=P&username=jaguillette&west=35.183333&type=json&east=36.183333&north=51.716667&south=50.716667"
       ]
      },
      {
       "output_type": "stream",
       "stream": "stdout",
       "text": [
        "\n",
        "http://api.geonames.org/search?startrow=300&featureClass=P&username=jaguillette&west=35.183333&type=json&east=36.183333&north=51.716667&south=50.716667"
       ]
      },
      {
       "output_type": "stream",
       "stream": "stdout",
       "text": [
        "\n",
        "http://api.geonames.org/search?startrow=400&featureClass=P&username=jaguillette&west=35.183333&type=json&east=36.183333&north=51.716667&south=50.716667"
       ]
      },
      {
       "output_type": "stream",
       "stream": "stdout",
       "text": [
        "\n",
        "http://api.geonames.org/search?startrow=500&featureClass=P&username=jaguillette&west=35.183333&type=json&east=36.183333&north=51.716667&south=50.716667"
       ]
      },
      {
       "output_type": "stream",
       "stream": "stdout",
       "text": [
        "\n",
        "http://api.geonames.org/search?startrow=600&featureClass=P&username=jaguillette&west=35.183333&type=json&east=36.183333&north=51.716667&south=50.716667"
       ]
      },
      {
       "output_type": "stream",
       "stream": "stdout",
       "text": [
        "\n",
        "http://api.geonames.org/search?startrow=700&featureClass=P&username=jaguillette&west=35.183333&type=json&east=36.183333&north=51.716667&south=50.716667"
       ]
      },
      {
       "output_type": "stream",
       "stream": "stdout",
       "text": [
        "\n",
        "http://api.geonames.org/search?north=51.716667&featureClass=P&username=jaguillette&west=36.183333&type=json&east=37.183333&south=50.716667"
       ]
      },
      {
       "output_type": "stream",
       "stream": "stdout",
       "text": [
        "\n",
        "http://api.geonames.org/search?startrow=100&featureClass=P&username=jaguillette&west=36.183333&type=json&east=37.183333&north=51.716667&south=50.716667"
       ]
      },
      {
       "output_type": "stream",
       "stream": "stdout",
       "text": [
        "\n",
        "http://api.geonames.org/search?startrow=200&featureClass=P&username=jaguillette&west=36.183333&type=json&east=37.183333&north=51.716667&south=50.716667"
       ]
      },
      {
       "output_type": "stream",
       "stream": "stdout",
       "text": [
        "\n",
        "http://api.geonames.org/search?startrow=300&featureClass=P&username=jaguillette&west=36.183333&type=json&east=37.183333&north=51.716667&south=50.716667"
       ]
      },
      {
       "output_type": "stream",
       "stream": "stdout",
       "text": [
        "\n",
        "http://api.geonames.org/search?startrow=400&featureClass=P&username=jaguillette&west=36.183333&type=json&east=37.183333&north=51.716667&south=50.716667"
       ]
      },
      {
       "output_type": "stream",
       "stream": "stdout",
       "text": [
        "\n",
        "http://api.geonames.org/search?startrow=500&featureClass=P&username=jaguillette&west=36.183333&type=json&east=37.183333&north=51.716667&south=50.716667"
       ]
      },
      {
       "output_type": "stream",
       "stream": "stdout",
       "text": [
        "\n",
        "http://api.geonames.org/search?startrow=600&featureClass=P&username=jaguillette&west=36.183333&type=json&east=37.183333&north=51.716667&south=50.716667"
       ]
      },
      {
       "output_type": "stream",
       "stream": "stdout",
       "text": [
        "\n",
        "http://api.geonames.org/search?startrow=700&featureClass=P&username=jaguillette&west=36.183333&type=json&east=37.183333&north=51.716667&south=50.716667"
       ]
      },
      {
       "output_type": "stream",
       "stream": "stdout",
       "text": [
        "\n",
        "http://api.geonames.org/search?north=51.716667&featureClass=P&username=jaguillette&west=37.183333&type=json&east=38.183333&south=50.716667"
       ]
      },
      {
       "output_type": "stream",
       "stream": "stdout",
       "text": [
        "\n",
        "http://api.geonames.org/search?startrow=100&featureClass=P&username=jaguillette&west=37.183333&type=json&east=38.183333&north=51.716667&south=50.716667"
       ]
      },
      {
       "output_type": "stream",
       "stream": "stdout",
       "text": [
        "\n",
        "http://api.geonames.org/search?startrow=200&featureClass=P&username=jaguillette&west=37.183333&type=json&east=38.183333&north=51.716667&south=50.716667"
       ]
      },
      {
       "output_type": "stream",
       "stream": "stdout",
       "text": [
        "\n",
        "http://api.geonames.org/search?startrow=300&featureClass=P&username=jaguillette&west=37.183333&type=json&east=38.183333&north=51.716667&south=50.716667"
       ]
      },
      {
       "output_type": "stream",
       "stream": "stdout",
       "text": [
        "\n",
        "http://api.geonames.org/search?startrow=400&featureClass=P&username=jaguillette&west=37.183333&type=json&east=38.183333&north=51.716667&south=50.716667"
       ]
      },
      {
       "output_type": "stream",
       "stream": "stdout",
       "text": [
        "\n",
        "http://api.geonames.org/search?startrow=500&featureClass=P&username=jaguillette&west=37.183333&type=json&east=38.183333&north=51.716667&south=50.716667"
       ]
      },
      {
       "output_type": "stream",
       "stream": "stdout",
       "text": [
        "\n",
        "http://api.geonames.org/search?startrow=600&featureClass=P&username=jaguillette&west=37.183333&type=json&east=38.183333&north=51.716667&south=50.716667"
       ]
      },
      {
       "output_type": "stream",
       "stream": "stdout",
       "text": [
        "\n",
        "http://api.geonames.org/search?north=51.716667&featureClass=P&username=jaguillette&west=38.183333&type=json&east=39.183333&south=50.716667"
       ]
      },
      {
       "output_type": "stream",
       "stream": "stdout",
       "text": [
        "\n",
        "http://api.geonames.org/search?startrow=100&featureClass=P&username=jaguillette&west=38.183333&type=json&east=39.183333&north=51.716667&south=50.716667"
       ]
      },
      {
       "output_type": "stream",
       "stream": "stdout",
       "text": [
        "\n",
        "http://api.geonames.org/search?startrow=200&featureClass=P&username=jaguillette&west=38.183333&type=json&east=39.183333&north=51.716667&south=50.716667"
       ]
      },
      {
       "output_type": "stream",
       "stream": "stdout",
       "text": [
        "\n",
        "http://api.geonames.org/search?startrow=300&featureClass=P&username=jaguillette&west=38.183333&type=json&east=39.183333&north=51.716667&south=50.716667"
       ]
      },
      {
       "output_type": "stream",
       "stream": "stdout",
       "text": [
        "\n",
        "http://api.geonames.org/search?startrow=400&featureClass=P&username=jaguillette&west=38.183333&type=json&east=39.183333&north=51.716667&south=50.716667"
       ]
      },
      {
       "output_type": "stream",
       "stream": "stdout",
       "text": [
        "\n",
        "http://api.geonames.org/search?north=51.716667&featureClass=P&username=jaguillette&west=39.183333&type=json&east=40.183333&south=50.716667"
       ]
      },
      {
       "output_type": "stream",
       "stream": "stdout",
       "text": [
        "\n",
        "http://api.geonames.org/search?startrow=100&featureClass=P&username=jaguillette&west=39.183333&type=json&east=40.183333&north=51.716667&south=50.716667"
       ]
      },
      {
       "output_type": "stream",
       "stream": "stdout",
       "text": [
        "\n",
        "http://api.geonames.org/search?startrow=200&featureClass=P&username=jaguillette&west=39.183333&type=json&east=40.183333&north=51.716667&south=50.716667"
       ]
      },
      {
       "output_type": "stream",
       "stream": "stdout",
       "text": [
        "\n",
        "http://api.geonames.org/search?startrow=300&featureClass=P&username=jaguillette&west=39.183333&type=json&east=40.183333&north=51.716667&south=50.716667"
       ]
      },
      {
       "output_type": "stream",
       "stream": "stdout",
       "text": [
        "\n",
        "http://api.geonames.org/search?north=52.716667&featureClass=P&username=jaguillette&west=32.183333&type=json&east=33.183333&south=51.716667"
       ]
      },
      {
       "output_type": "stream",
       "stream": "stdout",
       "text": [
        "\n",
        "http://api.geonames.org/search?startrow=100&featureClass=P&username=jaguillette&west=32.183333&type=json&east=33.183333&north=52.716667&south=51.716667"
       ]
      },
      {
       "output_type": "stream",
       "stream": "stdout",
       "text": [
        "\n",
        "http://api.geonames.org/search?startrow=200&featureClass=P&username=jaguillette&west=32.183333&type=json&east=33.183333&north=52.716667&south=51.716667"
       ]
      },
      {
       "output_type": "stream",
       "stream": "stdout",
       "text": [
        "\n",
        "http://api.geonames.org/search?startrow=300&featureClass=P&username=jaguillette&west=32.183333&type=json&east=33.183333&north=52.716667&south=51.716667"
       ]
      },
      {
       "output_type": "stream",
       "stream": "stdout",
       "text": [
        "\n",
        "http://api.geonames.org/search?startrow=400&featureClass=P&username=jaguillette&west=32.183333&type=json&east=33.183333&north=52.716667&south=51.716667"
       ]
      },
      {
       "output_type": "stream",
       "stream": "stdout",
       "text": [
        "\n",
        "http://api.geonames.org/search?startrow=500&featureClass=P&username=jaguillette&west=32.183333&type=json&east=33.183333&north=52.716667&south=51.716667"
       ]
      },
      {
       "output_type": "stream",
       "stream": "stdout",
       "text": [
        "\n",
        "http://api.geonames.org/search?startrow=600&featureClass=P&username=jaguillette&west=32.183333&type=json&east=33.183333&north=52.716667&south=51.716667"
       ]
      },
      {
       "output_type": "stream",
       "stream": "stdout",
       "text": [
        "\n",
        "http://api.geonames.org/search?north=52.716667&featureClass=P&username=jaguillette&west=33.183333&type=json&east=34.183333&south=51.716667"
       ]
      },
      {
       "output_type": "stream",
       "stream": "stdout",
       "text": [
        "\n",
        "http://api.geonames.org/search?startrow=100&featureClass=P&username=jaguillette&west=33.183333&type=json&east=34.183333&north=52.716667&south=51.716667"
       ]
      },
      {
       "output_type": "stream",
       "stream": "stdout",
       "text": [
        "\n",
        "http://api.geonames.org/search?startrow=200&featureClass=P&username=jaguillette&west=33.183333&type=json&east=34.183333&north=52.716667&south=51.716667"
       ]
      },
      {
       "output_type": "stream",
       "stream": "stdout",
       "text": [
        "\n",
        "http://api.geonames.org/search?startrow=300&featureClass=P&username=jaguillette&west=33.183333&type=json&east=34.183333&north=52.716667&south=51.716667"
       ]
      },
      {
       "output_type": "stream",
       "stream": "stdout",
       "text": [
        "\n",
        "http://api.geonames.org/search?startrow=400&featureClass=P&username=jaguillette&west=33.183333&type=json&east=34.183333&north=52.716667&south=51.716667"
       ]
      },
      {
       "output_type": "stream",
       "stream": "stdout",
       "text": [
        "\n",
        "http://api.geonames.org/search?startrow=500&featureClass=P&username=jaguillette&west=33.183333&type=json&east=34.183333&north=52.716667&south=51.716667"
       ]
      },
      {
       "output_type": "stream",
       "stream": "stdout",
       "text": [
        "\n",
        "http://api.geonames.org/search?north=52.716667&featureClass=P&username=jaguillette&west=34.183333&type=json&east=35.183333&south=51.716667"
       ]
      },
      {
       "output_type": "stream",
       "stream": "stdout",
       "text": [
        "\n",
        "http://api.geonames.org/search?startrow=100&featureClass=P&username=jaguillette&west=34.183333&type=json&east=35.183333&north=52.716667&south=51.716667"
       ]
      },
      {
       "output_type": "stream",
       "stream": "stdout",
       "text": [
        "\n",
        "http://api.geonames.org/search?startrow=200&featureClass=P&username=jaguillette&west=34.183333&type=json&east=35.183333&north=52.716667&south=51.716667"
       ]
      },
      {
       "output_type": "stream",
       "stream": "stdout",
       "text": [
        "\n",
        "http://api.geonames.org/search?startrow=300&featureClass=P&username=jaguillette&west=34.183333&type=json&east=35.183333&north=52.716667&south=51.716667"
       ]
      },
      {
       "output_type": "stream",
       "stream": "stdout",
       "text": [
        "\n",
        "http://api.geonames.org/search?startrow=400&featureClass=P&username=jaguillette&west=34.183333&type=json&east=35.183333&north=52.716667&south=51.716667"
       ]
      },
      {
       "output_type": "stream",
       "stream": "stdout",
       "text": [
        "\n",
        "http://api.geonames.org/search?startrow=500&featureClass=P&username=jaguillette&west=34.183333&type=json&east=35.183333&north=52.716667&south=51.716667"
       ]
      },
      {
       "output_type": "stream",
       "stream": "stdout",
       "text": [
        "\n",
        "http://api.geonames.org/search?startrow=600&featureClass=P&username=jaguillette&west=34.183333&type=json&east=35.183333&north=52.716667&south=51.716667"
       ]
      },
      {
       "output_type": "stream",
       "stream": "stdout",
       "text": [
        "\n",
        "http://api.geonames.org/search?startrow=700&featureClass=P&username=jaguillette&west=34.183333&type=json&east=35.183333&north=52.716667&south=51.716667"
       ]
      },
      {
       "output_type": "stream",
       "stream": "stdout",
       "text": [
        "\n",
        "http://api.geonames.org/search?startrow=800&featureClass=P&username=jaguillette&west=34.183333&type=json&east=35.183333&north=52.716667&south=51.716667"
       ]
      },
      {
       "output_type": "stream",
       "stream": "stdout",
       "text": [
        "\n",
        "http://api.geonames.org/search?startrow=900&featureClass=P&username=jaguillette&west=34.183333&type=json&east=35.183333&north=52.716667&south=51.716667"
       ]
      },
      {
       "output_type": "stream",
       "stream": "stdout",
       "text": [
        "\n",
        "http://api.geonames.org/search?north=52.716667&featureClass=P&username=jaguillette&west=35.183333&type=json&east=36.183333&south=51.716667"
       ]
      },
      {
       "output_type": "stream",
       "stream": "stdout",
       "text": [
        "\n",
        "http://api.geonames.org/search?startrow=100&featureClass=P&username=jaguillette&west=35.183333&type=json&east=36.183333&north=52.716667&south=51.716667"
       ]
      },
      {
       "output_type": "stream",
       "stream": "stdout",
       "text": [
        "\n",
        "http://api.geonames.org/search?startrow=200&featureClass=P&username=jaguillette&west=35.183333&type=json&east=36.183333&north=52.716667&south=51.716667"
       ]
      },
      {
       "output_type": "stream",
       "stream": "stdout",
       "text": [
        "\n",
        "http://api.geonames.org/search?startrow=300&featureClass=P&username=jaguillette&west=35.183333&type=json&east=36.183333&north=52.716667&south=51.716667"
       ]
      },
      {
       "output_type": "stream",
       "stream": "stdout",
       "text": [
        "\n",
        "http://api.geonames.org/search?startrow=400&featureClass=P&username=jaguillette&west=35.183333&type=json&east=36.183333&north=52.716667&south=51.716667"
       ]
      },
      {
       "output_type": "stream",
       "stream": "stdout",
       "text": [
        "\n",
        "http://api.geonames.org/search?startrow=500&featureClass=P&username=jaguillette&west=35.183333&type=json&east=36.183333&north=52.716667&south=51.716667"
       ]
      },
      {
       "output_type": "stream",
       "stream": "stdout",
       "text": [
        "\n",
        "http://api.geonames.org/search?startrow=600&featureClass=P&username=jaguillette&west=35.183333&type=json&east=36.183333&north=52.716667&south=51.716667"
       ]
      },
      {
       "output_type": "stream",
       "stream": "stdout",
       "text": [
        "\n",
        "http://api.geonames.org/search?startrow=700&featureClass=P&username=jaguillette&west=35.183333&type=json&east=36.183333&north=52.716667&south=51.716667"
       ]
      },
      {
       "output_type": "stream",
       "stream": "stdout",
       "text": [
        "\n",
        "http://api.geonames.org/search?startrow=800&featureClass=P&username=jaguillette&west=35.183333&type=json&east=36.183333&north=52.716667&south=51.716667"
       ]
      },
      {
       "output_type": "stream",
       "stream": "stdout",
       "text": [
        "\n",
        "http://api.geonames.org/search?startrow=900&featureClass=P&username=jaguillette&west=35.183333&type=json&east=36.183333&north=52.716667&south=51.716667"
       ]
      },
      {
       "output_type": "stream",
       "stream": "stdout",
       "text": [
        "\n",
        "http://api.geonames.org/search?startrow=1000&featureClass=P&username=jaguillette&west=35.183333&type=json&east=36.183333&north=52.716667&south=51.716667"
       ]
      },
      {
       "output_type": "stream",
       "stream": "stdout",
       "text": [
        "\n",
        "http://api.geonames.org/search?north=52.716667&featureClass=P&username=jaguillette&west=36.183333&type=json&east=37.183333&south=51.716667"
       ]
      },
      {
       "output_type": "stream",
       "stream": "stdout",
       "text": [
        "\n",
        "http://api.geonames.org/search?startrow=100&featureClass=P&username=jaguillette&west=36.183333&type=json&east=37.183333&north=52.716667&south=51.716667"
       ]
      },
      {
       "output_type": "stream",
       "stream": "stdout",
       "text": [
        "\n",
        "http://api.geonames.org/search?startrow=200&featureClass=P&username=jaguillette&west=36.183333&type=json&east=37.183333&north=52.716667&south=51.716667"
       ]
      },
      {
       "output_type": "stream",
       "stream": "stdout",
       "text": [
        "\n",
        "http://api.geonames.org/search?startrow=300&featureClass=P&username=jaguillette&west=36.183333&type=json&east=37.183333&north=52.716667&south=51.716667"
       ]
      },
      {
       "output_type": "stream",
       "stream": "stdout",
       "text": [
        "\n",
        "http://api.geonames.org/search?startrow=400&featureClass=P&username=jaguillette&west=36.183333&type=json&east=37.183333&north=52.716667&south=51.716667"
       ]
      },
      {
       "output_type": "stream",
       "stream": "stdout",
       "text": [
        "\n",
        "http://api.geonames.org/search?startrow=500&featureClass=P&username=jaguillette&west=36.183333&type=json&east=37.183333&north=52.716667&south=51.716667"
       ]
      },
      {
       "output_type": "stream",
       "stream": "stdout",
       "text": [
        "\n",
        "http://api.geonames.org/search?startrow=600&featureClass=P&username=jaguillette&west=36.183333&type=json&east=37.183333&north=52.716667&south=51.716667"
       ]
      },
      {
       "output_type": "stream",
       "stream": "stdout",
       "text": [
        "\n",
        "http://api.geonames.org/search?startrow=700&featureClass=P&username=jaguillette&west=36.183333&type=json&east=37.183333&north=52.716667&south=51.716667"
       ]
      },
      {
       "output_type": "stream",
       "stream": "stdout",
       "text": [
        "\n",
        "http://api.geonames.org/search?startrow=800&featureClass=P&username=jaguillette&west=36.183333&type=json&east=37.183333&north=52.716667&south=51.716667"
       ]
      },
      {
       "output_type": "stream",
       "stream": "stdout",
       "text": [
        "\n",
        "http://api.geonames.org/search?startrow=900&featureClass=P&username=jaguillette&west=36.183333&type=json&east=37.183333&north=52.716667&south=51.716667"
       ]
      },
      {
       "output_type": "stream",
       "stream": "stdout",
       "text": [
        "\n",
        "http://api.geonames.org/search?startrow=1000&featureClass=P&username=jaguillette&west=36.183333&type=json&east=37.183333&north=52.716667&south=51.716667"
       ]
      },
      {
       "output_type": "stream",
       "stream": "stdout",
       "text": [
        "\n",
        "http://api.geonames.org/search?north=52.716667&featureClass=P&username=jaguillette&west=37.183333&type=json&east=38.183333&south=51.716667"
       ]
      },
      {
       "output_type": "stream",
       "stream": "stdout",
       "text": [
        "\n",
        "http://api.geonames.org/search?startrow=100&featureClass=P&username=jaguillette&west=37.183333&type=json&east=38.183333&north=52.716667&south=51.716667"
       ]
      },
      {
       "output_type": "stream",
       "stream": "stdout",
       "text": [
        "\n",
        "http://api.geonames.org/search?startrow=200&featureClass=P&username=jaguillette&west=37.183333&type=json&east=38.183333&north=52.716667&south=51.716667"
       ]
      },
      {
       "output_type": "stream",
       "stream": "stdout",
       "text": [
        "\n",
        "http://api.geonames.org/search?startrow=300&featureClass=P&username=jaguillette&west=37.183333&type=json&east=38.183333&north=52.716667&south=51.716667"
       ]
      },
      {
       "output_type": "stream",
       "stream": "stdout",
       "text": [
        "\n",
        "http://api.geonames.org/search?startrow=400&featureClass=P&username=jaguillette&west=37.183333&type=json&east=38.183333&north=52.716667&south=51.716667"
       ]
      },
      {
       "output_type": "stream",
       "stream": "stdout",
       "text": [
        "\n",
        "http://api.geonames.org/search?startrow=500&featureClass=P&username=jaguillette&west=37.183333&type=json&east=38.183333&north=52.716667&south=51.716667"
       ]
      },
      {
       "output_type": "stream",
       "stream": "stdout",
       "text": [
        "\n",
        "http://api.geonames.org/search?startrow=600&featureClass=P&username=jaguillette&west=37.183333&type=json&east=38.183333&north=52.716667&south=51.716667"
       ]
      },
      {
       "output_type": "stream",
       "stream": "stdout",
       "text": [
        "\n",
        "http://api.geonames.org/search?startrow=700&featureClass=P&username=jaguillette&west=37.183333&type=json&east=38.183333&north=52.716667&south=51.716667"
       ]
      },
      {
       "output_type": "stream",
       "stream": "stdout",
       "text": [
        "\n",
        "http://api.geonames.org/search?startrow=800&featureClass=P&username=jaguillette&west=37.183333&type=json&east=38.183333&north=52.716667&south=51.716667"
       ]
      },
      {
       "output_type": "stream",
       "stream": "stdout",
       "text": [
        "\n",
        "http://api.geonames.org/search?north=52.716667&featureClass=P&username=jaguillette&west=38.183333&type=json&east=39.183333&south=51.716667"
       ]
      },
      {
       "output_type": "stream",
       "stream": "stdout",
       "text": [
        "\n",
        "http://api.geonames.org/search?startrow=100&featureClass=P&username=jaguillette&west=38.183333&type=json&east=39.183333&north=52.716667&south=51.716667"
       ]
      },
      {
       "output_type": "stream",
       "stream": "stdout",
       "text": [
        "\n",
        "http://api.geonames.org/search?startrow=200&featureClass=P&username=jaguillette&west=38.183333&type=json&east=39.183333&north=52.716667&south=51.716667"
       ]
      },
      {
       "output_type": "stream",
       "stream": "stdout",
       "text": [
        "\n",
        "http://api.geonames.org/search?startrow=300&featureClass=P&username=jaguillette&west=38.183333&type=json&east=39.183333&north=52.716667&south=51.716667"
       ]
      },
      {
       "output_type": "stream",
       "stream": "stdout",
       "text": [
        "\n",
        "http://api.geonames.org/search?startrow=400&featureClass=P&username=jaguillette&west=38.183333&type=json&east=39.183333&north=52.716667&south=51.716667"
       ]
      },
      {
       "output_type": "stream",
       "stream": "stdout",
       "text": [
        "\n",
        "http://api.geonames.org/search?startrow=500&featureClass=P&username=jaguillette&west=38.183333&type=json&east=39.183333&north=52.716667&south=51.716667"
       ]
      },
      {
       "output_type": "stream",
       "stream": "stdout",
       "text": [
        "\n",
        "http://api.geonames.org/search?startrow=600&featureClass=P&username=jaguillette&west=38.183333&type=json&east=39.183333&north=52.716667&south=51.716667"
       ]
      },
      {
       "output_type": "stream",
       "stream": "stdout",
       "text": [
        "\n",
        "http://api.geonames.org/search?north=52.716667&featureClass=P&username=jaguillette&west=39.183333&type=json&east=40.183333&south=51.716667"
       ]
      },
      {
       "output_type": "stream",
       "stream": "stdout",
       "text": [
        "\n",
        "http://api.geonames.org/search?startrow=100&featureClass=P&username=jaguillette&west=39.183333&type=json&east=40.183333&north=52.716667&south=51.716667"
       ]
      },
      {
       "output_type": "stream",
       "stream": "stdout",
       "text": [
        "\n",
        "http://api.geonames.org/search?startrow=200&featureClass=P&username=jaguillette&west=39.183333&type=json&east=40.183333&north=52.716667&south=51.716667"
       ]
      },
      {
       "output_type": "stream",
       "stream": "stdout",
       "text": [
        "\n",
        "http://api.geonames.org/search?startrow=300&featureClass=P&username=jaguillette&west=39.183333&type=json&east=40.183333&north=52.716667&south=51.716667"
       ]
      },
      {
       "output_type": "stream",
       "stream": "stdout",
       "text": [
        "\n",
        "http://api.geonames.org/search?startrow=400&featureClass=P&username=jaguillette&west=39.183333&type=json&east=40.183333&north=52.716667&south=51.716667"
       ]
      },
      {
       "output_type": "stream",
       "stream": "stdout",
       "text": [
        "\n",
        "http://api.geonames.org/search?north=53.716667&featureClass=P&username=jaguillette&west=32.183333&type=json&east=33.183333&south=52.716667"
       ]
      },
      {
       "output_type": "stream",
       "stream": "stdout",
       "text": [
        "\n",
        "http://api.geonames.org/search?startrow=100&featureClass=P&username=jaguillette&west=32.183333&type=json&east=33.183333&north=53.716667&south=52.716667"
       ]
      },
      {
       "output_type": "stream",
       "stream": "stdout",
       "text": [
        "\n",
        "http://api.geonames.org/search?startrow=200&featureClass=P&username=jaguillette&west=32.183333&type=json&east=33.183333&north=53.716667&south=52.716667"
       ]
      },
      {
       "output_type": "stream",
       "stream": "stdout",
       "text": [
        "\n",
        "http://api.geonames.org/search?startrow=300&featureClass=P&username=jaguillette&west=32.183333&type=json&east=33.183333&north=53.716667&south=52.716667"
       ]
      },
      {
       "output_type": "stream",
       "stream": "stdout",
       "text": [
        "\n",
        "http://api.geonames.org/search?startrow=400&featureClass=P&username=jaguillette&west=32.183333&type=json&east=33.183333&north=53.716667&south=52.716667"
       ]
      },
      {
       "output_type": "stream",
       "stream": "stdout",
       "text": [
        "\n",
        "http://api.geonames.org/search?startrow=500&featureClass=P&username=jaguillette&west=32.183333&type=json&east=33.183333&north=53.716667&south=52.716667"
       ]
      },
      {
       "output_type": "stream",
       "stream": "stdout",
       "text": [
        "\n",
        "http://api.geonames.org/search?startrow=600&featureClass=P&username=jaguillette&west=32.183333&type=json&east=33.183333&north=53.716667&south=52.716667"
       ]
      },
      {
       "output_type": "stream",
       "stream": "stdout",
       "text": [
        "\n",
        "http://api.geonames.org/search?startrow=700&featureClass=P&username=jaguillette&west=32.183333&type=json&east=33.183333&north=53.716667&south=52.716667"
       ]
      },
      {
       "output_type": "stream",
       "stream": "stdout",
       "text": [
        "\n",
        "http://api.geonames.org/search?startrow=800&featureClass=P&username=jaguillette&west=32.183333&type=json&east=33.183333&north=53.716667&south=52.716667"
       ]
      },
      {
       "output_type": "stream",
       "stream": "stdout",
       "text": [
        "\n",
        "http://api.geonames.org/search?north=53.716667&featureClass=P&username=jaguillette&west=33.183333&type=json&east=34.183333&south=52.716667"
       ]
      },
      {
       "output_type": "stream",
       "stream": "stdout",
       "text": [
        "\n",
        "http://api.geonames.org/search?startrow=100&featureClass=P&username=jaguillette&west=33.183333&type=json&east=34.183333&north=53.716667&south=52.716667"
       ]
      },
      {
       "output_type": "stream",
       "stream": "stdout",
       "text": [
        "\n",
        "http://api.geonames.org/search?startrow=200&featureClass=P&username=jaguillette&west=33.183333&type=json&east=34.183333&north=53.716667&south=52.716667"
       ]
      },
      {
       "output_type": "stream",
       "stream": "stdout",
       "text": [
        "\n",
        "http://api.geonames.org/search?startrow=300&featureClass=P&username=jaguillette&west=33.183333&type=json&east=34.183333&north=53.716667&south=52.716667"
       ]
      },
      {
       "output_type": "stream",
       "stream": "stdout",
       "text": [
        "\n",
        "http://api.geonames.org/search?startrow=400&featureClass=P&username=jaguillette&west=33.183333&type=json&east=34.183333&north=53.716667&south=52.716667"
       ]
      },
      {
       "output_type": "stream",
       "stream": "stdout",
       "text": [
        "\n",
        "http://api.geonames.org/search?startrow=500&featureClass=P&username=jaguillette&west=33.183333&type=json&east=34.183333&north=53.716667&south=52.716667"
       ]
      },
      {
       "output_type": "stream",
       "stream": "stdout",
       "text": [
        "\n",
        "http://api.geonames.org/search?startrow=600&featureClass=P&username=jaguillette&west=33.183333&type=json&east=34.183333&north=53.716667&south=52.716667"
       ]
      },
      {
       "output_type": "stream",
       "stream": "stdout",
       "text": [
        "\n",
        "http://api.geonames.org/search?startrow=700&featureClass=P&username=jaguillette&west=33.183333&type=json&east=34.183333&north=53.716667&south=52.716667"
       ]
      },
      {
       "output_type": "stream",
       "stream": "stdout",
       "text": [
        "\n",
        "http://api.geonames.org/search?startrow=800&featureClass=P&username=jaguillette&west=33.183333&type=json&east=34.183333&north=53.716667&south=52.716667"
       ]
      },
      {
       "output_type": "stream",
       "stream": "stdout",
       "text": [
        "\n",
        "http://api.geonames.org/search?startrow=900&featureClass=P&username=jaguillette&west=33.183333&type=json&east=34.183333&north=53.716667&south=52.716667"
       ]
      },
      {
       "output_type": "stream",
       "stream": "stdout",
       "text": [
        "\n",
        "http://api.geonames.org/search?north=53.716667&featureClass=P&username=jaguillette&west=34.183333&type=json&east=35.183333&south=52.716667"
       ]
      },
      {
       "output_type": "stream",
       "stream": "stdout",
       "text": [
        "\n",
        "http://api.geonames.org/search?startrow=100&featureClass=P&username=jaguillette&west=34.183333&type=json&east=35.183333&north=53.716667&south=52.716667"
       ]
      },
      {
       "output_type": "stream",
       "stream": "stdout",
       "text": [
        "\n",
        "http://api.geonames.org/search?startrow=200&featureClass=P&username=jaguillette&west=34.183333&type=json&east=35.183333&north=53.716667&south=52.716667"
       ]
      },
      {
       "output_type": "stream",
       "stream": "stdout",
       "text": [
        "\n",
        "http://api.geonames.org/search?startrow=300&featureClass=P&username=jaguillette&west=34.183333&type=json&east=35.183333&north=53.716667&south=52.716667"
       ]
      },
      {
       "output_type": "stream",
       "stream": "stdout",
       "text": [
        "\n",
        "http://api.geonames.org/search?startrow=400&featureClass=P&username=jaguillette&west=34.183333&type=json&east=35.183333&north=53.716667&south=52.716667"
       ]
      },
      {
       "output_type": "stream",
       "stream": "stdout",
       "text": [
        "\n",
        "http://api.geonames.org/search?startrow=500&featureClass=P&username=jaguillette&west=34.183333&type=json&east=35.183333&north=53.716667&south=52.716667"
       ]
      },
      {
       "output_type": "stream",
       "stream": "stdout",
       "text": [
        "\n",
        "http://api.geonames.org/search?startrow=600&featureClass=P&username=jaguillette&west=34.183333&type=json&east=35.183333&north=53.716667&south=52.716667"
       ]
      },
      {
       "output_type": "stream",
       "stream": "stdout",
       "text": [
        "\n",
        "http://api.geonames.org/search?north=53.716667&featureClass=P&username=jaguillette&west=35.183333&type=json&east=36.183333&south=52.716667"
       ]
      },
      {
       "output_type": "stream",
       "stream": "stdout",
       "text": [
        "\n",
        "http://api.geonames.org/search?startrow=100&featureClass=P&username=jaguillette&west=35.183333&type=json&east=36.183333&north=53.716667&south=52.716667"
       ]
      },
      {
       "output_type": "stream",
       "stream": "stdout",
       "text": [
        "\n",
        "http://api.geonames.org/search?startrow=200&featureClass=P&username=jaguillette&west=35.183333&type=json&east=36.183333&north=53.716667&south=52.716667"
       ]
      },
      {
       "output_type": "stream",
       "stream": "stdout",
       "text": [
        "\n",
        "http://api.geonames.org/search?startrow=300&featureClass=P&username=jaguillette&west=35.183333&type=json&east=36.183333&north=53.716667&south=52.716667"
       ]
      },
      {
       "output_type": "stream",
       "stream": "stdout",
       "text": [
        "\n",
        "http://api.geonames.org/search?startrow=400&featureClass=P&username=jaguillette&west=35.183333&type=json&east=36.183333&north=53.716667&south=52.716667"
       ]
      },
      {
       "output_type": "stream",
       "stream": "stdout",
       "text": [
        "\n",
        "http://api.geonames.org/search?startrow=500&featureClass=P&username=jaguillette&west=35.183333&type=json&east=36.183333&north=53.716667&south=52.716667"
       ]
      },
      {
       "output_type": "stream",
       "stream": "stdout",
       "text": [
        "\n",
        "http://api.geonames.org/search?startrow=600&featureClass=P&username=jaguillette&west=35.183333&type=json&east=36.183333&north=53.716667&south=52.716667"
       ]
      },
      {
       "output_type": "stream",
       "stream": "stdout",
       "text": [
        "\n",
        "http://api.geonames.org/search?startrow=700&featureClass=P&username=jaguillette&west=35.183333&type=json&east=36.183333&north=53.716667&south=52.716667"
       ]
      },
      {
       "output_type": "stream",
       "stream": "stdout",
       "text": [
        "\n",
        "http://api.geonames.org/search?startrow=800&featureClass=P&username=jaguillette&west=35.183333&type=json&east=36.183333&north=53.716667&south=52.716667"
       ]
      },
      {
       "output_type": "stream",
       "stream": "stdout",
       "text": [
        "\n",
        "http://api.geonames.org/search?startrow=900&featureClass=P&username=jaguillette&west=35.183333&type=json&east=36.183333&north=53.716667&south=52.716667"
       ]
      },
      {
       "output_type": "stream",
       "stream": "stdout",
       "text": [
        "\n",
        "http://api.geonames.org/search?startrow=1000&featureClass=P&username=jaguillette&west=35.183333&type=json&east=36.183333&north=53.716667&south=52.716667"
       ]
      },
      {
       "output_type": "stream",
       "stream": "stdout",
       "text": [
        "\n",
        "http://api.geonames.org/search?startrow=1100&featureClass=P&username=jaguillette&west=35.183333&type=json&east=36.183333&north=53.716667&south=52.716667"
       ]
      },
      {
       "output_type": "stream",
       "stream": "stdout",
       "text": [
        "\n",
        "http://api.geonames.org/search?north=53.716667&featureClass=P&username=jaguillette&west=36.183333&type=json&east=37.183333&south=52.716667"
       ]
      },
      {
       "output_type": "stream",
       "stream": "stdout",
       "text": [
        "\n",
        "http://api.geonames.org/search?startrow=100&featureClass=P&username=jaguillette&west=36.183333&type=json&east=37.183333&north=53.716667&south=52.716667"
       ]
      },
      {
       "output_type": "stream",
       "stream": "stdout",
       "text": [
        "\n",
        "http://api.geonames.org/search?startrow=200&featureClass=P&username=jaguillette&west=36.183333&type=json&east=37.183333&north=53.716667&south=52.716667"
       ]
      },
      {
       "output_type": "stream",
       "stream": "stdout",
       "text": [
        "\n",
        "http://api.geonames.org/search?startrow=300&featureClass=P&username=jaguillette&west=36.183333&type=json&east=37.183333&north=53.716667&south=52.716667"
       ]
      },
      {
       "output_type": "stream",
       "stream": "stdout",
       "text": [
        "\n",
        "http://api.geonames.org/search?startrow=400&featureClass=P&username=jaguillette&west=36.183333&type=json&east=37.183333&north=53.716667&south=52.716667"
       ]
      },
      {
       "output_type": "stream",
       "stream": "stdout",
       "text": [
        "\n",
        "http://api.geonames.org/search?startrow=500&featureClass=P&username=jaguillette&west=36.183333&type=json&east=37.183333&north=53.716667&south=52.716667"
       ]
      },
      {
       "output_type": "stream",
       "stream": "stdout",
       "text": [
        "\n",
        "http://api.geonames.org/search?startrow=600&featureClass=P&username=jaguillette&west=36.183333&type=json&east=37.183333&north=53.716667&south=52.716667"
       ]
      },
      {
       "output_type": "stream",
       "stream": "stdout",
       "text": [
        "\n",
        "http://api.geonames.org/search?startrow=700&featureClass=P&username=jaguillette&west=36.183333&type=json&east=37.183333&north=53.716667&south=52.716667"
       ]
      },
      {
       "output_type": "stream",
       "stream": "stdout",
       "text": [
        "\n",
        "http://api.geonames.org/search?startrow=800&featureClass=P&username=jaguillette&west=36.183333&type=json&east=37.183333&north=53.716667&south=52.716667"
       ]
      },
      {
       "output_type": "stream",
       "stream": "stdout",
       "text": [
        "\n",
        "http://api.geonames.org/search?startrow=900&featureClass=P&username=jaguillette&west=36.183333&type=json&east=37.183333&north=53.716667&south=52.716667"
       ]
      },
      {
       "output_type": "stream",
       "stream": "stdout",
       "text": [
        "\n",
        "http://api.geonames.org/search?startrow=1000&featureClass=P&username=jaguillette&west=36.183333&type=json&east=37.183333&north=53.716667&south=52.716667"
       ]
      },
      {
       "output_type": "stream",
       "stream": "stdout",
       "text": [
        "\n",
        "http://api.geonames.org/search?startrow=1100&featureClass=P&username=jaguillette&west=36.183333&type=json&east=37.183333&north=53.716667&south=52.716667"
       ]
      },
      {
       "output_type": "stream",
       "stream": "stdout",
       "text": [
        "\n",
        "http://api.geonames.org/search?north=53.716667&featureClass=P&username=jaguillette&west=37.183333&type=json&east=38.183333&south=52.716667"
       ]
      },
      {
       "output_type": "stream",
       "stream": "stdout",
       "text": [
        "\n",
        "http://api.geonames.org/search?startrow=100&featureClass=P&username=jaguillette&west=37.183333&type=json&east=38.183333&north=53.716667&south=52.716667"
       ]
      },
      {
       "output_type": "stream",
       "stream": "stdout",
       "text": [
        "\n",
        "http://api.geonames.org/search?startrow=200&featureClass=P&username=jaguillette&west=37.183333&type=json&east=38.183333&north=53.716667&south=52.716667"
       ]
      },
      {
       "output_type": "stream",
       "stream": "stdout",
       "text": [
        "\n",
        "http://api.geonames.org/search?startrow=300&featureClass=P&username=jaguillette&west=37.183333&type=json&east=38.183333&north=53.716667&south=52.716667"
       ]
      },
      {
       "output_type": "stream",
       "stream": "stdout",
       "text": [
        "\n",
        "http://api.geonames.org/search?startrow=400&featureClass=P&username=jaguillette&west=37.183333&type=json&east=38.183333&north=53.716667&south=52.716667"
       ]
      },
      {
       "output_type": "stream",
       "stream": "stdout",
       "text": [
        "\n",
        "http://api.geonames.org/search?startrow=500&featureClass=P&username=jaguillette&west=37.183333&type=json&east=38.183333&north=53.716667&south=52.716667"
       ]
      },
      {
       "output_type": "stream",
       "stream": "stdout",
       "text": [
        "\n",
        "http://api.geonames.org/search?startrow=600&featureClass=P&username=jaguillette&west=37.183333&type=json&east=38.183333&north=53.716667&south=52.716667"
       ]
      },
      {
       "output_type": "stream",
       "stream": "stdout",
       "text": [
        "\n",
        "http://api.geonames.org/search?startrow=700&featureClass=P&username=jaguillette&west=37.183333&type=json&east=38.183333&north=53.716667&south=52.716667"
       ]
      },
      {
       "output_type": "stream",
       "stream": "stdout",
       "text": [
        "\n",
        "http://api.geonames.org/search?startrow=800&featureClass=P&username=jaguillette&west=37.183333&type=json&east=38.183333&north=53.716667&south=52.716667"
       ]
      },
      {
       "output_type": "stream",
       "stream": "stdout",
       "text": [
        "\n",
        "http://api.geonames.org/search?startrow=900&featureClass=P&username=jaguillette&west=37.183333&type=json&east=38.183333&north=53.716667&south=52.716667"
       ]
      },
      {
       "output_type": "stream",
       "stream": "stdout",
       "text": [
        "\n",
        "http://api.geonames.org/search?north=53.716667&featureClass=P&username=jaguillette&west=38.183333&type=json&east=39.183333&south=52.716667"
       ]
      },
      {
       "output_type": "stream",
       "stream": "stdout",
       "text": [
        "\n",
        "http://api.geonames.org/search?startrow=100&featureClass=P&username=jaguillette&west=38.183333&type=json&east=39.183333&north=53.716667&south=52.716667"
       ]
      },
      {
       "output_type": "stream",
       "stream": "stdout",
       "text": [
        "\n",
        "http://api.geonames.org/search?startrow=200&featureClass=P&username=jaguillette&west=38.183333&type=json&east=39.183333&north=53.716667&south=52.716667"
       ]
      },
      {
       "output_type": "stream",
       "stream": "stdout",
       "text": [
        "\n",
        "http://api.geonames.org/search?startrow=300&featureClass=P&username=jaguillette&west=38.183333&type=json&east=39.183333&north=53.716667&south=52.716667"
       ]
      },
      {
       "output_type": "stream",
       "stream": "stdout",
       "text": [
        "\n",
        "http://api.geonames.org/search?startrow=400&featureClass=P&username=jaguillette&west=38.183333&type=json&east=39.183333&north=53.716667&south=52.716667"
       ]
      },
      {
       "output_type": "stream",
       "stream": "stdout",
       "text": [
        "\n",
        "http://api.geonames.org/search?startrow=500&featureClass=P&username=jaguillette&west=38.183333&type=json&east=39.183333&north=53.716667&south=52.716667"
       ]
      },
      {
       "output_type": "stream",
       "stream": "stdout",
       "text": [
        "\n",
        "http://api.geonames.org/search?startrow=600&featureClass=P&username=jaguillette&west=38.183333&type=json&east=39.183333&north=53.716667&south=52.716667"
       ]
      },
      {
       "output_type": "stream",
       "stream": "stdout",
       "text": [
        "\n",
        "http://api.geonames.org/search?startrow=700&featureClass=P&username=jaguillette&west=38.183333&type=json&east=39.183333&north=53.716667&south=52.716667"
       ]
      },
      {
       "output_type": "stream",
       "stream": "stdout",
       "text": [
        "\n",
        "http://api.geonames.org/search?startrow=800&featureClass=P&username=jaguillette&west=38.183333&type=json&east=39.183333&north=53.716667&south=52.716667"
       ]
      },
      {
       "output_type": "stream",
       "stream": "stdout",
       "text": [
        "\n",
        "http://api.geonames.org/search?north=53.716667&featureClass=P&username=jaguillette&west=39.183333&type=json&east=40.183333&south=52.716667"
       ]
      },
      {
       "output_type": "stream",
       "stream": "stdout",
       "text": [
        "\n",
        "http://api.geonames.org/search?startrow=100&featureClass=P&username=jaguillette&west=39.183333&type=json&east=40.183333&north=53.716667&south=52.716667"
       ]
      },
      {
       "output_type": "stream",
       "stream": "stdout",
       "text": [
        "\n",
        "http://api.geonames.org/search?startrow=200&featureClass=P&username=jaguillette&west=39.183333&type=json&east=40.183333&north=53.716667&south=52.716667"
       ]
      },
      {
       "output_type": "stream",
       "stream": "stdout",
       "text": [
        "\n",
        "http://api.geonames.org/search?startrow=300&featureClass=P&username=jaguillette&west=39.183333&type=json&east=40.183333&north=53.716667&south=52.716667"
       ]
      },
      {
       "output_type": "stream",
       "stream": "stdout",
       "text": [
        "\n",
        "http://api.geonames.org/search?startrow=400&featureClass=P&username=jaguillette&west=39.183333&type=json&east=40.183333&north=53.716667&south=52.716667"
       ]
      },
      {
       "output_type": "stream",
       "stream": "stdout",
       "text": [
        "\n",
        "http://api.geonames.org/search?startrow=500&featureClass=P&username=jaguillette&west=39.183333&type=json&east=40.183333&north=53.716667&south=52.716667"
       ]
      },
      {
       "output_type": "stream",
       "stream": "stdout",
       "text": [
        "\n",
        "http://api.geonames.org/search?north=54.716667&featureClass=P&username=jaguillette&west=32.183333&type=json&east=33.183333&south=53.716667"
       ]
      },
      {
       "output_type": "stream",
       "stream": "stdout",
       "text": [
        "\n",
        "http://api.geonames.org/search?startrow=100&featureClass=P&username=jaguillette&west=32.183333&type=json&east=33.183333&north=54.716667&south=53.716667"
       ]
      },
      {
       "output_type": "stream",
       "stream": "stdout",
       "text": [
        "\n",
        "http://api.geonames.org/search?startrow=200&featureClass=P&username=jaguillette&west=32.183333&type=json&east=33.183333&north=54.716667&south=53.716667"
       ]
      },
      {
       "output_type": "stream",
       "stream": "stdout",
       "text": [
        "\n",
        "http://api.geonames.org/search?startrow=300&featureClass=P&username=jaguillette&west=32.183333&type=json&east=33.183333&north=54.716667&south=53.716667"
       ]
      },
      {
       "output_type": "stream",
       "stream": "stdout",
       "text": [
        "\n",
        "http://api.geonames.org/search?startrow=400&featureClass=P&username=jaguillette&west=32.183333&type=json&east=33.183333&north=54.716667&south=53.716667"
       ]
      },
      {
       "output_type": "stream",
       "stream": "stdout",
       "text": [
        "\n",
        "http://api.geonames.org/search?startrow=500&featureClass=P&username=jaguillette&west=32.183333&type=json&east=33.183333&north=54.716667&south=53.716667"
       ]
      },
      {
       "output_type": "stream",
       "stream": "stdout",
       "text": [
        "\n",
        "http://api.geonames.org/search?startrow=600&featureClass=P&username=jaguillette&west=32.183333&type=json&east=33.183333&north=54.716667&south=53.716667"
       ]
      },
      {
       "output_type": "stream",
       "stream": "stdout",
       "text": [
        "\n",
        "http://api.geonames.org/search?startrow=700&featureClass=P&username=jaguillette&west=32.183333&type=json&east=33.183333&north=54.716667&south=53.716667"
       ]
      },
      {
       "output_type": "stream",
       "stream": "stdout",
       "text": [
        "\n",
        "http://api.geonames.org/search?startrow=800&featureClass=P&username=jaguillette&west=32.183333&type=json&east=33.183333&north=54.716667&south=53.716667"
       ]
      },
      {
       "output_type": "stream",
       "stream": "stdout",
       "text": [
        "\n",
        "http://api.geonames.org/search?startrow=900&featureClass=P&username=jaguillette&west=32.183333&type=json&east=33.183333&north=54.716667&south=53.716667"
       ]
      },
      {
       "output_type": "stream",
       "stream": "stdout",
       "text": [
        "\n",
        "http://api.geonames.org/search?startrow=1000&featureClass=P&username=jaguillette&west=32.183333&type=json&east=33.183333&north=54.716667&south=53.716667"
       ]
      },
      {
       "output_type": "stream",
       "stream": "stdout",
       "text": [
        "\n",
        "http://api.geonames.org/search?north=54.716667&featureClass=P&username=jaguillette&west=33.183333&type=json&east=34.183333&south=53.716667"
       ]
      },
      {
       "output_type": "stream",
       "stream": "stdout",
       "text": [
        "\n",
        "http://api.geonames.org/search?startrow=100&featureClass=P&username=jaguillette&west=33.183333&type=json&east=34.183333&north=54.716667&south=53.716667"
       ]
      },
      {
       "output_type": "stream",
       "stream": "stdout",
       "text": [
        "\n",
        "http://api.geonames.org/search?startrow=200&featureClass=P&username=jaguillette&west=33.183333&type=json&east=34.183333&north=54.716667&south=53.716667"
       ]
      },
      {
       "output_type": "stream",
       "stream": "stdout",
       "text": [
        "\n",
        "http://api.geonames.org/search?startrow=300&featureClass=P&username=jaguillette&west=33.183333&type=json&east=34.183333&north=54.716667&south=53.716667"
       ]
      },
      {
       "output_type": "stream",
       "stream": "stdout",
       "text": [
        "\n",
        "http://api.geonames.org/search?startrow=400&featureClass=P&username=jaguillette&west=33.183333&type=json&east=34.183333&north=54.716667&south=53.716667"
       ]
      },
      {
       "output_type": "stream",
       "stream": "stdout",
       "text": [
        "\n",
        "http://api.geonames.org/search?startrow=500&featureClass=P&username=jaguillette&west=33.183333&type=json&east=34.183333&north=54.716667&south=53.716667"
       ]
      },
      {
       "output_type": "stream",
       "stream": "stdout",
       "text": [
        "\n",
        "http://api.geonames.org/search?startrow=600&featureClass=P&username=jaguillette&west=33.183333&type=json&east=34.183333&north=54.716667&south=53.716667"
       ]
      },
      {
       "output_type": "stream",
       "stream": "stdout",
       "text": [
        "\n",
        "http://api.geonames.org/search?startrow=700&featureClass=P&username=jaguillette&west=33.183333&type=json&east=34.183333&north=54.716667&south=53.716667"
       ]
      },
      {
       "output_type": "stream",
       "stream": "stdout",
       "text": [
        "\n",
        "http://api.geonames.org/search?startrow=800&featureClass=P&username=jaguillette&west=33.183333&type=json&east=34.183333&north=54.716667&south=53.716667"
       ]
      },
      {
       "output_type": "stream",
       "stream": "stdout",
       "text": [
        "\n",
        "http://api.geonames.org/search?startrow=900&featureClass=P&username=jaguillette&west=33.183333&type=json&east=34.183333&north=54.716667&south=53.716667"
       ]
      },
      {
       "output_type": "stream",
       "stream": "stdout",
       "text": [
        "\n",
        "http://api.geonames.org/search?north=54.716667&featureClass=P&username=jaguillette&west=34.183333&type=json&east=35.183333&south=53.716667"
       ]
      },
      {
       "output_type": "stream",
       "stream": "stdout",
       "text": [
        "\n",
        "http://api.geonames.org/search?startrow=100&featureClass=P&username=jaguillette&west=34.183333&type=json&east=35.183333&north=54.716667&south=53.716667"
       ]
      },
      {
       "output_type": "stream",
       "stream": "stdout",
       "text": [
        "\n",
        "http://api.geonames.org/search?startrow=200&featureClass=P&username=jaguillette&west=34.183333&type=json&east=35.183333&north=54.716667&south=53.716667"
       ]
      },
      {
       "output_type": "stream",
       "stream": "stdout",
       "text": [
        "\n",
        "http://api.geonames.org/search?startrow=300&featureClass=P&username=jaguillette&west=34.183333&type=json&east=35.183333&north=54.716667&south=53.716667"
       ]
      },
      {
       "output_type": "stream",
       "stream": "stdout",
       "text": [
        "\n",
        "http://api.geonames.org/search?startrow=400&featureClass=P&username=jaguillette&west=34.183333&type=json&east=35.183333&north=54.716667&south=53.716667"
       ]
      },
      {
       "output_type": "stream",
       "stream": "stdout",
       "text": [
        "\n",
        "http://api.geonames.org/search?startrow=500&featureClass=P&username=jaguillette&west=34.183333&type=json&east=35.183333&north=54.716667&south=53.716667"
       ]
      },
      {
       "output_type": "stream",
       "stream": "stdout",
       "text": [
        "\n",
        "http://api.geonames.org/search?startrow=600&featureClass=P&username=jaguillette&west=34.183333&type=json&east=35.183333&north=54.716667&south=53.716667"
       ]
      },
      {
       "output_type": "stream",
       "stream": "stdout",
       "text": [
        "\n",
        "http://api.geonames.org/search?startrow=700&featureClass=P&username=jaguillette&west=34.183333&type=json&east=35.183333&north=54.716667&south=53.716667"
       ]
      },
      {
       "output_type": "stream",
       "stream": "stdout",
       "text": [
        "\n",
        "http://api.geonames.org/search?north=54.716667&featureClass=P&username=jaguillette&west=35.183333&type=json&east=36.183333&south=53.716667"
       ]
      },
      {
       "output_type": "stream",
       "stream": "stdout",
       "text": [
        "\n",
        "http://api.geonames.org/search?startrow=100&featureClass=P&username=jaguillette&west=35.183333&type=json&east=36.183333&north=54.716667&south=53.716667"
       ]
      },
      {
       "output_type": "stream",
       "stream": "stdout",
       "text": [
        "\n",
        "http://api.geonames.org/search?startrow=200&featureClass=P&username=jaguillette&west=35.183333&type=json&east=36.183333&north=54.716667&south=53.716667"
       ]
      },
      {
       "output_type": "stream",
       "stream": "stdout",
       "text": [
        "\n",
        "http://api.geonames.org/search?startrow=300&featureClass=P&username=jaguillette&west=35.183333&type=json&east=36.183333&north=54.716667&south=53.716667"
       ]
      },
      {
       "output_type": "stream",
       "stream": "stdout",
       "text": [
        "\n",
        "http://api.geonames.org/search?startrow=400&featureClass=P&username=jaguillette&west=35.183333&type=json&east=36.183333&north=54.716667&south=53.716667"
       ]
      },
      {
       "output_type": "stream",
       "stream": "stdout",
       "text": [
        "\n",
        "http://api.geonames.org/search?startrow=500&featureClass=P&username=jaguillette&west=35.183333&type=json&east=36.183333&north=54.716667&south=53.716667"
       ]
      },
      {
       "output_type": "stream",
       "stream": "stdout",
       "text": [
        "\n",
        "http://api.geonames.org/search?startrow=600&featureClass=P&username=jaguillette&west=35.183333&type=json&east=36.183333&north=54.716667&south=53.716667"
       ]
      },
      {
       "output_type": "stream",
       "stream": "stdout",
       "text": [
        "\n",
        "http://api.geonames.org/search?startrow=700&featureClass=P&username=jaguillette&west=35.183333&type=json&east=36.183333&north=54.716667&south=53.716667"
       ]
      },
      {
       "output_type": "stream",
       "stream": "stdout",
       "text": [
        "\n",
        "http://api.geonames.org/search?startrow=800&featureClass=P&username=jaguillette&west=35.183333&type=json&east=36.183333&north=54.716667&south=53.716667"
       ]
      },
      {
       "output_type": "stream",
       "stream": "stdout",
       "text": [
        "\n",
        "http://api.geonames.org/search?startrow=900&featureClass=P&username=jaguillette&west=35.183333&type=json&east=36.183333&north=54.716667&south=53.716667"
       ]
      },
      {
       "output_type": "stream",
       "stream": "stdout",
       "text": [
        "\n",
        "http://api.geonames.org/search?startrow=1000&featureClass=P&username=jaguillette&west=35.183333&type=json&east=36.183333&north=54.716667&south=53.716667"
       ]
      },
      {
       "output_type": "stream",
       "stream": "stdout",
       "text": [
        "\n",
        "http://api.geonames.org/search?north=54.716667&featureClass=P&username=jaguillette&west=36.183333&type=json&east=37.183333&south=53.716667"
       ]
      },
      {
       "output_type": "stream",
       "stream": "stdout",
       "text": [
        "\n",
        "http://api.geonames.org/search?startrow=100&featureClass=P&username=jaguillette&west=36.183333&type=json&east=37.183333&north=54.716667&south=53.716667"
       ]
      },
      {
       "output_type": "stream",
       "stream": "stdout",
       "text": [
        "\n",
        "http://api.geonames.org/search?startrow=200&featureClass=P&username=jaguillette&west=36.183333&type=json&east=37.183333&north=54.716667&south=53.716667"
       ]
      },
      {
       "output_type": "stream",
       "stream": "stdout",
       "text": [
        "\n",
        "http://api.geonames.org/search?startrow=300&featureClass=P&username=jaguillette&west=36.183333&type=json&east=37.183333&north=54.716667&south=53.716667"
       ]
      },
      {
       "output_type": "stream",
       "stream": "stdout",
       "text": [
        "\n",
        "http://api.geonames.org/search?startrow=400&featureClass=P&username=jaguillette&west=36.183333&type=json&east=37.183333&north=54.716667&south=53.716667"
       ]
      },
      {
       "output_type": "stream",
       "stream": "stdout",
       "text": [
        "\n",
        "http://api.geonames.org/search?startrow=500&featureClass=P&username=jaguillette&west=36.183333&type=json&east=37.183333&north=54.716667&south=53.716667"
       ]
      },
      {
       "output_type": "stream",
       "stream": "stdout",
       "text": [
        "\n",
        "http://api.geonames.org/search?startrow=600&featureClass=P&username=jaguillette&west=36.183333&type=json&east=37.183333&north=54.716667&south=53.716667"
       ]
      },
      {
       "output_type": "stream",
       "stream": "stdout",
       "text": [
        "\n",
        "http://api.geonames.org/search?startrow=700&featureClass=P&username=jaguillette&west=36.183333&type=json&east=37.183333&north=54.716667&south=53.716667"
       ]
      },
      {
       "output_type": "stream",
       "stream": "stdout",
       "text": [
        "\n",
        "http://api.geonames.org/search?startrow=800&featureClass=P&username=jaguillette&west=36.183333&type=json&east=37.183333&north=54.716667&south=53.716667"
       ]
      },
      {
       "output_type": "stream",
       "stream": "stdout",
       "text": [
        "\n",
        "http://api.geonames.org/search?startrow=900&featureClass=P&username=jaguillette&west=36.183333&type=json&east=37.183333&north=54.716667&south=53.716667"
       ]
      },
      {
       "output_type": "stream",
       "stream": "stdout",
       "text": [
        "\n",
        "http://api.geonames.org/search?north=54.716667&featureClass=P&username=jaguillette&west=37.183333&type=json&east=38.183333&south=53.716667"
       ]
      },
      {
       "output_type": "stream",
       "stream": "stdout",
       "text": [
        "\n",
        "http://api.geonames.org/search?startrow=100&featureClass=P&username=jaguillette&west=37.183333&type=json&east=38.183333&north=54.716667&south=53.716667"
       ]
      },
      {
       "output_type": "stream",
       "stream": "stdout",
       "text": [
        "\n",
        "http://api.geonames.org/search?startrow=200&featureClass=P&username=jaguillette&west=37.183333&type=json&east=38.183333&north=54.716667&south=53.716667"
       ]
      },
      {
       "output_type": "stream",
       "stream": "stdout",
       "text": [
        "\n",
        "http://api.geonames.org/search?startrow=300&featureClass=P&username=jaguillette&west=37.183333&type=json&east=38.183333&north=54.716667&south=53.716667"
       ]
      },
      {
       "output_type": "stream",
       "stream": "stdout",
       "text": [
        "\n",
        "http://api.geonames.org/search?startrow=400&featureClass=P&username=jaguillette&west=37.183333&type=json&east=38.183333&north=54.716667&south=53.716667"
       ]
      },
      {
       "output_type": "stream",
       "stream": "stdout",
       "text": [
        "\n",
        "http://api.geonames.org/search?startrow=500&featureClass=P&username=jaguillette&west=37.183333&type=json&east=38.183333&north=54.716667&south=53.716667"
       ]
      },
      {
       "output_type": "stream",
       "stream": "stdout",
       "text": [
        "\n",
        "http://api.geonames.org/search?startrow=600&featureClass=P&username=jaguillette&west=37.183333&type=json&east=38.183333&north=54.716667&south=53.716667"
       ]
      },
      {
       "output_type": "stream",
       "stream": "stdout",
       "text": [
        "\n",
        "http://api.geonames.org/search?startrow=700&featureClass=P&username=jaguillette&west=37.183333&type=json&east=38.183333&north=54.716667&south=53.716667"
       ]
      },
      {
       "output_type": "stream",
       "stream": "stdout",
       "text": [
        "\n",
        "http://api.geonames.org/search?startrow=800&featureClass=P&username=jaguillette&west=37.183333&type=json&east=38.183333&north=54.716667&south=53.716667"
       ]
      },
      {
       "output_type": "stream",
       "stream": "stdout",
       "text": [
        "\n",
        "http://api.geonames.org/search?startrow=900&featureClass=P&username=jaguillette&west=37.183333&type=json&east=38.183333&north=54.716667&south=53.716667"
       ]
      },
      {
       "output_type": "stream",
       "stream": "stdout",
       "text": [
        "\n",
        "http://api.geonames.org/search?startrow=1000&featureClass=P&username=jaguillette&west=37.183333&type=json&east=38.183333&north=54.716667&south=53.716667"
       ]
      },
      {
       "output_type": "stream",
       "stream": "stdout",
       "text": [
        "\n",
        "http://api.geonames.org/search?north=54.716667&featureClass=P&username=jaguillette&west=38.183333&type=json&east=39.183333&south=53.716667"
       ]
      },
      {
       "output_type": "stream",
       "stream": "stdout",
       "text": [
        "\n",
        "http://api.geonames.org/search?startrow=100&featureClass=P&username=jaguillette&west=38.183333&type=json&east=39.183333&north=54.716667&south=53.716667"
       ]
      },
      {
       "output_type": "stream",
       "stream": "stdout",
       "text": [
        "\n",
        "http://api.geonames.org/search?startrow=200&featureClass=P&username=jaguillette&west=38.183333&type=json&east=39.183333&north=54.716667&south=53.716667"
       ]
      },
      {
       "output_type": "stream",
       "stream": "stdout",
       "text": [
        "\n",
        "http://api.geonames.org/search?startrow=300&featureClass=P&username=jaguillette&west=38.183333&type=json&east=39.183333&north=54.716667&south=53.716667"
       ]
      },
      {
       "output_type": "stream",
       "stream": "stdout",
       "text": [
        "\n",
        "http://api.geonames.org/search?startrow=400&featureClass=P&username=jaguillette&west=38.183333&type=json&east=39.183333&north=54.716667&south=53.716667"
       ]
      },
      {
       "output_type": "stream",
       "stream": "stdout",
       "text": [
        "\n",
        "http://api.geonames.org/search?startrow=500&featureClass=P&username=jaguillette&west=38.183333&type=json&east=39.183333&north=54.716667&south=53.716667"
       ]
      },
      {
       "output_type": "stream",
       "stream": "stdout",
       "text": [
        "\n",
        "http://api.geonames.org/search?startrow=600&featureClass=P&username=jaguillette&west=38.183333&type=json&east=39.183333&north=54.716667&south=53.716667"
       ]
      },
      {
       "output_type": "stream",
       "stream": "stdout",
       "text": [
        "\n",
        "http://api.geonames.org/search?startrow=700&featureClass=P&username=jaguillette&west=38.183333&type=json&east=39.183333&north=54.716667&south=53.716667"
       ]
      },
      {
       "output_type": "stream",
       "stream": "stdout",
       "text": [
        "\n",
        "http://api.geonames.org/search?startrow=800&featureClass=P&username=jaguillette&west=38.183333&type=json&east=39.183333&north=54.716667&south=53.716667"
       ]
      },
      {
       "output_type": "stream",
       "stream": "stdout",
       "text": [
        "\n",
        "http://api.geonames.org/search?startrow=900&featureClass=P&username=jaguillette&west=38.183333&type=json&east=39.183333&north=54.716667&south=53.716667"
       ]
      },
      {
       "output_type": "stream",
       "stream": "stdout",
       "text": [
        "\n",
        "http://api.geonames.org/search?north=54.716667&featureClass=P&username=jaguillette&west=39.183333&type=json&east=40.183333&south=53.716667"
       ]
      },
      {
       "output_type": "stream",
       "stream": "stdout",
       "text": [
        "\n",
        "http://api.geonames.org/search?startrow=100&featureClass=P&username=jaguillette&west=39.183333&type=json&east=40.183333&north=54.716667&south=53.716667"
       ]
      },
      {
       "output_type": "stream",
       "stream": "stdout",
       "text": [
        "\n",
        "http://api.geonames.org/search?startrow=200&featureClass=P&username=jaguillette&west=39.183333&type=json&east=40.183333&north=54.716667&south=53.716667"
       ]
      },
      {
       "output_type": "stream",
       "stream": "stdout",
       "text": [
        "\n",
        "http://api.geonames.org/search?startrow=300&featureClass=P&username=jaguillette&west=39.183333&type=json&east=40.183333&north=54.716667&south=53.716667"
       ]
      },
      {
       "output_type": "stream",
       "stream": "stdout",
       "text": [
        "\n",
        "http://api.geonames.org/search?startrow=400&featureClass=P&username=jaguillette&west=39.183333&type=json&east=40.183333&north=54.716667&south=53.716667"
       ]
      },
      {
       "output_type": "stream",
       "stream": "stdout",
       "text": [
        "\n",
        "http://api.geonames.org/search?startrow=500&featureClass=P&username=jaguillette&west=39.183333&type=json&east=40.183333&north=54.716667&south=53.716667"
       ]
      },
      {
       "output_type": "stream",
       "stream": "stdout",
       "text": [
        "\n",
        "http://api.geonames.org/search?startrow=600&featureClass=P&username=jaguillette&west=39.183333&type=json&east=40.183333&north=54.716667&south=53.716667"
       ]
      },
      {
       "output_type": "stream",
       "stream": "stdout",
       "text": [
        "\n",
        "http://api.geonames.org/search?startrow=700&featureClass=P&username=jaguillette&west=39.183333&type=json&east=40.183333&north=54.716667&south=53.716667"
       ]
      },
      {
       "output_type": "stream",
       "stream": "stdout",
       "text": [
        "\n",
        "http://api.geonames.org/search?north=55.716667&featureClass=P&username=jaguillette&west=32.183333&type=json&east=33.183333&south=54.716667"
       ]
      },
      {
       "output_type": "stream",
       "stream": "stdout",
       "text": [
        "\n",
        "http://api.geonames.org/search?startrow=100&featureClass=P&username=jaguillette&west=32.183333&type=json&east=33.183333&north=55.716667&south=54.716667"
       ]
      },
      {
       "output_type": "stream",
       "stream": "stdout",
       "text": [
        "\n",
        "http://api.geonames.org/search?startrow=200&featureClass=P&username=jaguillette&west=32.183333&type=json&east=33.183333&north=55.716667&south=54.716667"
       ]
      },
      {
       "output_type": "stream",
       "stream": "stdout",
       "text": [
        "\n",
        "http://api.geonames.org/search?startrow=300&featureClass=P&username=jaguillette&west=32.183333&type=json&east=33.183333&north=55.716667&south=54.716667"
       ]
      },
      {
       "output_type": "stream",
       "stream": "stdout",
       "text": [
        "\n",
        "http://api.geonames.org/search?startrow=400&featureClass=P&username=jaguillette&west=32.183333&type=json&east=33.183333&north=55.716667&south=54.716667"
       ]
      },
      {
       "output_type": "stream",
       "stream": "stdout",
       "text": [
        "\n",
        "http://api.geonames.org/search?startrow=500&featureClass=P&username=jaguillette&west=32.183333&type=json&east=33.183333&north=55.716667&south=54.716667"
       ]
      },
      {
       "output_type": "stream",
       "stream": "stdout",
       "text": [
        "\n",
        "http://api.geonames.org/search?startrow=600&featureClass=P&username=jaguillette&west=32.183333&type=json&east=33.183333&north=55.716667&south=54.716667"
       ]
      },
      {
       "output_type": "stream",
       "stream": "stdout",
       "text": [
        "\n",
        "http://api.geonames.org/search?startrow=700&featureClass=P&username=jaguillette&west=32.183333&type=json&east=33.183333&north=55.716667&south=54.716667"
       ]
      },
      {
       "output_type": "stream",
       "stream": "stdout",
       "text": [
        "\n",
        "http://api.geonames.org/search?startrow=800&featureClass=P&username=jaguillette&west=32.183333&type=json&east=33.183333&north=55.716667&south=54.716667"
       ]
      },
      {
       "output_type": "stream",
       "stream": "stdout",
       "text": [
        "\n",
        "http://api.geonames.org/search?startrow=900&featureClass=P&username=jaguillette&west=32.183333&type=json&east=33.183333&north=55.716667&south=54.716667"
       ]
      },
      {
       "output_type": "stream",
       "stream": "stdout",
       "text": [
        "\n",
        "http://api.geonames.org/search?startrow=1000&featureClass=P&username=jaguillette&west=32.183333&type=json&east=33.183333&north=55.716667&south=54.716667"
       ]
      },
      {
       "output_type": "stream",
       "stream": "stdout",
       "text": [
        "\n",
        "http://api.geonames.org/search?startrow=1100&featureClass=P&username=jaguillette&west=32.183333&type=json&east=33.183333&north=55.716667&south=54.716667"
       ]
      },
      {
       "output_type": "stream",
       "stream": "stdout",
       "text": [
        "\n",
        "http://api.geonames.org/search?north=55.716667&featureClass=P&username=jaguillette&west=33.183333&type=json&east=34.183333&south=54.716667"
       ]
      },
      {
       "output_type": "stream",
       "stream": "stdout",
       "text": [
        "\n",
        "http://api.geonames.org/search?startrow=100&featureClass=P&username=jaguillette&west=33.183333&type=json&east=34.183333&north=55.716667&south=54.716667"
       ]
      },
      {
       "output_type": "stream",
       "stream": "stdout",
       "text": [
        "\n",
        "http://api.geonames.org/search?startrow=200&featureClass=P&username=jaguillette&west=33.183333&type=json&east=34.183333&north=55.716667&south=54.716667"
       ]
      },
      {
       "output_type": "stream",
       "stream": "stdout",
       "text": [
        "\n",
        "http://api.geonames.org/search?startrow=300&featureClass=P&username=jaguillette&west=33.183333&type=json&east=34.183333&north=55.716667&south=54.716667"
       ]
      },
      {
       "output_type": "stream",
       "stream": "stdout",
       "text": [
        "\n",
        "http://api.geonames.org/search?startrow=400&featureClass=P&username=jaguillette&west=33.183333&type=json&east=34.183333&north=55.716667&south=54.716667"
       ]
      },
      {
       "output_type": "stream",
       "stream": "stdout",
       "text": [
        "\n",
        "http://api.geonames.org/search?startrow=500&featureClass=P&username=jaguillette&west=33.183333&type=json&east=34.183333&north=55.716667&south=54.716667"
       ]
      },
      {
       "output_type": "stream",
       "stream": "stdout",
       "text": [
        "\n",
        "http://api.geonames.org/search?startrow=600&featureClass=P&username=jaguillette&west=33.183333&type=json&east=34.183333&north=55.716667&south=54.716667"
       ]
      },
      {
       "output_type": "stream",
       "stream": "stdout",
       "text": [
        "\n",
        "http://api.geonames.org/search?startrow=700&featureClass=P&username=jaguillette&west=33.183333&type=json&east=34.183333&north=55.716667&south=54.716667"
       ]
      },
      {
       "output_type": "stream",
       "stream": "stdout",
       "text": [
        "\n",
        "http://api.geonames.org/search?startrow=800&featureClass=P&username=jaguillette&west=33.183333&type=json&east=34.183333&north=55.716667&south=54.716667"
       ]
      },
      {
       "output_type": "stream",
       "stream": "stdout",
       "text": [
        "\n",
        "http://api.geonames.org/search?startrow=900&featureClass=P&username=jaguillette&west=33.183333&type=json&east=34.183333&north=55.716667&south=54.716667"
       ]
      },
      {
       "output_type": "stream",
       "stream": "stdout",
       "text": [
        "\n",
        "http://api.geonames.org/search?startrow=1000&featureClass=P&username=jaguillette&west=33.183333&type=json&east=34.183333&north=55.716667&south=54.716667"
       ]
      },
      {
       "output_type": "stream",
       "stream": "stdout",
       "text": [
        "\n",
        "http://api.geonames.org/search?north=55.716667&featureClass=P&username=jaguillette&west=34.183333&type=json&east=35.183333&south=54.716667"
       ]
      },
      {
       "output_type": "stream",
       "stream": "stdout",
       "text": [
        "\n",
        "http://api.geonames.org/search?startrow=100&featureClass=P&username=jaguillette&west=34.183333&type=json&east=35.183333&north=55.716667&south=54.716667"
       ]
      },
      {
       "output_type": "stream",
       "stream": "stdout",
       "text": [
        "\n",
        "http://api.geonames.org/search?startrow=200&featureClass=P&username=jaguillette&west=34.183333&type=json&east=35.183333&north=55.716667&south=54.716667"
       ]
      },
      {
       "output_type": "stream",
       "stream": "stdout",
       "text": [
        "\n",
        "http://api.geonames.org/search?startrow=300&featureClass=P&username=jaguillette&west=34.183333&type=json&east=35.183333&north=55.716667&south=54.716667"
       ]
      },
      {
       "output_type": "stream",
       "stream": "stdout",
       "text": [
        "\n",
        "http://api.geonames.org/search?startrow=400&featureClass=P&username=jaguillette&west=34.183333&type=json&east=35.183333&north=55.716667&south=54.716667"
       ]
      },
      {
       "output_type": "stream",
       "stream": "stdout",
       "text": [
        "\n",
        "http://api.geonames.org/search?startrow=500&featureClass=P&username=jaguillette&west=34.183333&type=json&east=35.183333&north=55.716667&south=54.716667"
       ]
      },
      {
       "output_type": "stream",
       "stream": "stdout",
       "text": [
        "\n",
        "http://api.geonames.org/search?startrow=600&featureClass=P&username=jaguillette&west=34.183333&type=json&east=35.183333&north=55.716667&south=54.716667"
       ]
      },
      {
       "output_type": "stream",
       "stream": "stdout",
       "text": [
        "\n",
        "http://api.geonames.org/search?startrow=700&featureClass=P&username=jaguillette&west=34.183333&type=json&east=35.183333&north=55.716667&south=54.716667"
       ]
      },
      {
       "output_type": "stream",
       "stream": "stdout",
       "text": [
        "\n",
        "http://api.geonames.org/search?startrow=800&featureClass=P&username=jaguillette&west=34.183333&type=json&east=35.183333&north=55.716667&south=54.716667"
       ]
      },
      {
       "output_type": "stream",
       "stream": "stdout",
       "text": [
        "\n",
        "http://api.geonames.org/search?startrow=900&featureClass=P&username=jaguillette&west=34.183333&type=json&east=35.183333&north=55.716667&south=54.716667"
       ]
      },
      {
       "output_type": "stream",
       "stream": "stdout",
       "text": [
        "\n",
        "http://api.geonames.org/search?startrow=1000&featureClass=P&username=jaguillette&west=34.183333&type=json&east=35.183333&north=55.716667&south=54.716667"
       ]
      },
      {
       "output_type": "stream",
       "stream": "stdout",
       "text": [
        "\n",
        "http://api.geonames.org/search?startrow=1100&featureClass=P&username=jaguillette&west=34.183333&type=json&east=35.183333&north=55.716667&south=54.716667"
       ]
      },
      {
       "output_type": "stream",
       "stream": "stdout",
       "text": [
        "\n",
        "http://api.geonames.org/search?north=55.716667&featureClass=P&username=jaguillette&west=35.183333&type=json&east=36.183333&south=54.716667"
       ]
      },
      {
       "output_type": "stream",
       "stream": "stdout",
       "text": [
        "\n",
        "http://api.geonames.org/search?startrow=100&featureClass=P&username=jaguillette&west=35.183333&type=json&east=36.183333&north=55.716667&south=54.716667"
       ]
      },
      {
       "output_type": "stream",
       "stream": "stdout",
       "text": [
        "\n",
        "http://api.geonames.org/search?startrow=200&featureClass=P&username=jaguillette&west=35.183333&type=json&east=36.183333&north=55.716667&south=54.716667"
       ]
      },
      {
       "output_type": "stream",
       "stream": "stdout",
       "text": [
        "\n",
        "http://api.geonames.org/search?startrow=300&featureClass=P&username=jaguillette&west=35.183333&type=json&east=36.183333&north=55.716667&south=54.716667"
       ]
      },
      {
       "output_type": "stream",
       "stream": "stdout",
       "text": [
        "\n",
        "http://api.geonames.org/search?startrow=400&featureClass=P&username=jaguillette&west=35.183333&type=json&east=36.183333&north=55.716667&south=54.716667"
       ]
      },
      {
       "output_type": "stream",
       "stream": "stdout",
       "text": [
        "\n",
        "http://api.geonames.org/search?startrow=500&featureClass=P&username=jaguillette&west=35.183333&type=json&east=36.183333&north=55.716667&south=54.716667"
       ]
      },
      {
       "output_type": "stream",
       "stream": "stdout",
       "text": [
        "\n",
        "http://api.geonames.org/search?startrow=600&featureClass=P&username=jaguillette&west=35.183333&type=json&east=36.183333&north=55.716667&south=54.716667"
       ]
      },
      {
       "output_type": "stream",
       "stream": "stdout",
       "text": [
        "\n",
        "http://api.geonames.org/search?startrow=700&featureClass=P&username=jaguillette&west=35.183333&type=json&east=36.183333&north=55.716667&south=54.716667"
       ]
      },
      {
       "output_type": "stream",
       "stream": "stdout",
       "text": [
        "\n",
        "http://api.geonames.org/search?startrow=800&featureClass=P&username=jaguillette&west=35.183333&type=json&east=36.183333&north=55.716667&south=54.716667"
       ]
      },
      {
       "output_type": "stream",
       "stream": "stdout",
       "text": [
        "\n",
        "http://api.geonames.org/search?startrow=900&featureClass=P&username=jaguillette&west=35.183333&type=json&east=36.183333&north=55.716667&south=54.716667"
       ]
      },
      {
       "output_type": "stream",
       "stream": "stdout",
       "text": [
        "\n",
        "http://api.geonames.org/search?north=55.716667&featureClass=P&username=jaguillette&west=36.183333&type=json&east=37.183333&south=54.716667"
       ]
      },
      {
       "output_type": "stream",
       "stream": "stdout",
       "text": [
        "\n",
        "http://api.geonames.org/search?startrow=100&featureClass=P&username=jaguillette&west=36.183333&type=json&east=37.183333&north=55.716667&south=54.716667"
       ]
      },
      {
       "output_type": "stream",
       "stream": "stdout",
       "text": [
        "\n",
        "http://api.geonames.org/search?startrow=200&featureClass=P&username=jaguillette&west=36.183333&type=json&east=37.183333&north=55.716667&south=54.716667"
       ]
      },
      {
       "output_type": "stream",
       "stream": "stdout",
       "text": [
        "\n",
        "http://api.geonames.org/search?startrow=300&featureClass=P&username=jaguillette&west=36.183333&type=json&east=37.183333&north=55.716667&south=54.716667"
       ]
      },
      {
       "output_type": "stream",
       "stream": "stdout",
       "text": [
        "\n",
        "http://api.geonames.org/search?startrow=400&featureClass=P&username=jaguillette&west=36.183333&type=json&east=37.183333&north=55.716667&south=54.716667"
       ]
      },
      {
       "output_type": "stream",
       "stream": "stdout",
       "text": [
        "\n",
        "http://api.geonames.org/search?startrow=500&featureClass=P&username=jaguillette&west=36.183333&type=json&east=37.183333&north=55.716667&south=54.716667"
       ]
      },
      {
       "output_type": "stream",
       "stream": "stdout",
       "text": [
        "\n",
        "http://api.geonames.org/search?startrow=600&featureClass=P&username=jaguillette&west=36.183333&type=json&east=37.183333&north=55.716667&south=54.716667"
       ]
      },
      {
       "output_type": "stream",
       "stream": "stdout",
       "text": [
        "\n",
        "http://api.geonames.org/search?startrow=700&featureClass=P&username=jaguillette&west=36.183333&type=json&east=37.183333&north=55.716667&south=54.716667"
       ]
      },
      {
       "output_type": "stream",
       "stream": "stdout",
       "text": [
        "\n",
        "http://api.geonames.org/search?startrow=800&featureClass=P&username=jaguillette&west=36.183333&type=json&east=37.183333&north=55.716667&south=54.716667"
       ]
      },
      {
       "output_type": "stream",
       "stream": "stdout",
       "text": [
        "\n",
        "http://api.geonames.org/search?startrow=900&featureClass=P&username=jaguillette&west=36.183333&type=json&east=37.183333&north=55.716667&south=54.716667"
       ]
      },
      {
       "output_type": "stream",
       "stream": "stdout",
       "text": [
        "\n",
        "http://api.geonames.org/search?north=55.716667&featureClass=P&username=jaguillette&west=37.183333&type=json&east=38.183333&south=54.716667"
       ]
      },
      {
       "output_type": "stream",
       "stream": "stdout",
       "text": [
        "\n",
        "http://api.geonames.org/search?startrow=100&featureClass=P&username=jaguillette&west=37.183333&type=json&east=38.183333&north=55.716667&south=54.716667"
       ]
      },
      {
       "output_type": "stream",
       "stream": "stdout",
       "text": [
        "\n",
        "http://api.geonames.org/search?startrow=200&featureClass=P&username=jaguillette&west=37.183333&type=json&east=38.183333&north=55.716667&south=54.716667"
       ]
      },
      {
       "output_type": "stream",
       "stream": "stdout",
       "text": [
        "\n",
        "http://api.geonames.org/search?startrow=300&featureClass=P&username=jaguillette&west=37.183333&type=json&east=38.183333&north=55.716667&south=54.716667"
       ]
      },
      {
       "output_type": "stream",
       "stream": "stdout",
       "text": [
        "\n",
        "http://api.geonames.org/search?startrow=400&featureClass=P&username=jaguillette&west=37.183333&type=json&east=38.183333&north=55.716667&south=54.716667"
       ]
      },
      {
       "output_type": "stream",
       "stream": "stdout",
       "text": [
        "\n",
        "http://api.geonames.org/search?startrow=500&featureClass=P&username=jaguillette&west=37.183333&type=json&east=38.183333&north=55.716667&south=54.716667"
       ]
      },
      {
       "output_type": "stream",
       "stream": "stdout",
       "text": [
        "\n",
        "http://api.geonames.org/search?startrow=600&featureClass=P&username=jaguillette&west=37.183333&type=json&east=38.183333&north=55.716667&south=54.716667"
       ]
      },
      {
       "output_type": "stream",
       "stream": "stdout",
       "text": [
        "\n",
        "http://api.geonames.org/search?startrow=700&featureClass=P&username=jaguillette&west=37.183333&type=json&east=38.183333&north=55.716667&south=54.716667"
       ]
      },
      {
       "output_type": "stream",
       "stream": "stdout",
       "text": [
        "\n",
        "http://api.geonames.org/search?startrow=800&featureClass=P&username=jaguillette&west=37.183333&type=json&east=38.183333&north=55.716667&south=54.716667"
       ]
      },
      {
       "output_type": "stream",
       "stream": "stdout",
       "text": [
        "\n",
        "http://api.geonames.org/search?startrow=900&featureClass=P&username=jaguillette&west=37.183333&type=json&east=38.183333&north=55.716667&south=54.716667"
       ]
      },
      {
       "output_type": "stream",
       "stream": "stdout",
       "text": [
        "\n",
        "http://api.geonames.org/search?startrow=1000&featureClass=P&username=jaguillette&west=37.183333&type=json&east=38.183333&north=55.716667&south=54.716667"
       ]
      },
      {
       "output_type": "stream",
       "stream": "stdout",
       "text": [
        "\n",
        "http://api.geonames.org/search?startrow=1100&featureClass=P&username=jaguillette&west=37.183333&type=json&east=38.183333&north=55.716667&south=54.716667"
       ]
      },
      {
       "output_type": "stream",
       "stream": "stdout",
       "text": [
        "\n",
        "http://api.geonames.org/search?startrow=1200&featureClass=P&username=jaguillette&west=37.183333&type=json&east=38.183333&north=55.716667&south=54.716667"
       ]
      },
      {
       "output_type": "stream",
       "stream": "stdout",
       "text": [
        "\n",
        "http://api.geonames.org/search?north=55.716667&featureClass=P&username=jaguillette&west=38.183333&type=json&east=39.183333&south=54.716667"
       ]
      },
      {
       "output_type": "stream",
       "stream": "stdout",
       "text": [
        "\n",
        "http://api.geonames.org/search?startrow=100&featureClass=P&username=jaguillette&west=38.183333&type=json&east=39.183333&north=55.716667&south=54.716667"
       ]
      },
      {
       "output_type": "stream",
       "stream": "stdout",
       "text": [
        "\n",
        "http://api.geonames.org/search?startrow=200&featureClass=P&username=jaguillette&west=38.183333&type=json&east=39.183333&north=55.716667&south=54.716667"
       ]
      },
      {
       "output_type": "stream",
       "stream": "stdout",
       "text": [
        "\n",
        "http://api.geonames.org/search?startrow=300&featureClass=P&username=jaguillette&west=38.183333&type=json&east=39.183333&north=55.716667&south=54.716667"
       ]
      },
      {
       "output_type": "stream",
       "stream": "stdout",
       "text": [
        "\n",
        "http://api.geonames.org/search?startrow=400&featureClass=P&username=jaguillette&west=38.183333&type=json&east=39.183333&north=55.716667&south=54.716667"
       ]
      },
      {
       "output_type": "stream",
       "stream": "stdout",
       "text": [
        "\n",
        "http://api.geonames.org/search?startrow=500&featureClass=P&username=jaguillette&west=38.183333&type=json&east=39.183333&north=55.716667&south=54.716667"
       ]
      },
      {
       "output_type": "stream",
       "stream": "stdout",
       "text": [
        "\n",
        "http://api.geonames.org/search?startrow=600&featureClass=P&username=jaguillette&west=38.183333&type=json&east=39.183333&north=55.716667&south=54.716667"
       ]
      },
      {
       "output_type": "stream",
       "stream": "stdout",
       "text": [
        "\n",
        "http://api.geonames.org/search?startrow=700&featureClass=P&username=jaguillette&west=38.183333&type=json&east=39.183333&north=55.716667&south=54.716667"
       ]
      },
      {
       "output_type": "stream",
       "stream": "stdout",
       "text": [
        "\n",
        "http://api.geonames.org/search?startrow=800&featureClass=P&username=jaguillette&west=38.183333&type=json&east=39.183333&north=55.716667&south=54.716667"
       ]
      },
      {
       "output_type": "stream",
       "stream": "stdout",
       "text": [
        "\n",
        "http://api.geonames.org/search?north=55.716667&featureClass=P&username=jaguillette&west=39.183333&type=json&east=40.183333&south=54.716667"
       ]
      },
      {
       "output_type": "stream",
       "stream": "stdout",
       "text": [
        "\n",
        "http://api.geonames.org/search?startrow=100&featureClass=P&username=jaguillette&west=39.183333&type=json&east=40.183333&north=55.716667&south=54.716667"
       ]
      },
      {
       "output_type": "stream",
       "stream": "stdout",
       "text": [
        "\n",
        "http://api.geonames.org/search?startrow=200&featureClass=P&username=jaguillette&west=39.183333&type=json&east=40.183333&north=55.716667&south=54.716667"
       ]
      },
      {
       "output_type": "stream",
       "stream": "stdout",
       "text": [
        "\n",
        "http://api.geonames.org/search?startrow=300&featureClass=P&username=jaguillette&west=39.183333&type=json&east=40.183333&north=55.716667&south=54.716667"
       ]
      },
      {
       "output_type": "stream",
       "stream": "stdout",
       "text": [
        "\n",
        "http://api.geonames.org/search?startrow=400&featureClass=P&username=jaguillette&west=39.183333&type=json&east=40.183333&north=55.716667&south=54.716667"
       ]
      },
      {
       "output_type": "stream",
       "stream": "stdout",
       "text": [
        "\n",
        "http://api.geonames.org/search?startrow=500&featureClass=P&username=jaguillette&west=39.183333&type=json&east=40.183333&north=55.716667&south=54.716667"
       ]
      },
      {
       "output_type": "stream",
       "stream": "stdout",
       "text": [
        "\n"
       ]
      }
     ],
     "prompt_number": 69
    },
    {
     "cell_type": "code",
     "collapsed": false,
     "input": [
      "geoname_json = {'totalResultsCount':len(area_places),'geonames':area_places}\n",
      "import json\n",
      "with open(\"resources/\u043a\u0443\u0440\u0441\u043a_places.json\",'w+') as fp:\n",
      "    json.dump(geoname_json, fp)"
     ],
     "language": "python",
     "metadata": {},
     "outputs": [],
     "prompt_number": 72
    }
   ],
   "metadata": {}
  }
 ]
}