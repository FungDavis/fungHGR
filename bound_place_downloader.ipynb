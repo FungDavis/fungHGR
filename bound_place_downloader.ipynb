{
 "metadata": {
  "name": "",
  "signature": "sha256:900025553ecf75311df410465aa45c511f78309f04f1f8ae921a517dbc331118"
 },
 "nbformat": 3,
 "nbformat_minor": 0,
 "worksheets": [
  {
   "cells": [
    {
     "cell_type": "code",
     "collapsed": false,
     "input": [
      "import time, requests, json"
     ],
     "language": "python",
     "metadata": {},
     "outputs": [],
     "prompt_number": 60
    },
    {
     "cell_type": "code",
     "collapsed": false,
     "input": [
      "bounds = [91.4,46.5,180,90]\n",
      "west=bounds[0]\n",
      "south=bounds[1]\n",
      "east=bounds[2]\n",
      "north=bounds[3]\n",
      "spacing = 1"
     ],
     "language": "python",
     "metadata": {},
     "outputs": [],
     "prompt_number": 61
    },
    {
     "cell_type": "code",
     "collapsed": false,
     "input": [
      "nslist = []\n",
      "while south < north:\n",
      "    nslist.append(south)\n",
      "    south+=spacing\n",
      "nslist.append(north)"
     ],
     "language": "python",
     "metadata": {},
     "outputs": [],
     "prompt_number": 62
    },
    {
     "cell_type": "code",
     "collapsed": false,
     "input": [
      "welist = []\n",
      "while west < east:\n",
      "    welist.append(west)\n",
      "    west+=spacing\n",
      "welist.append(east)"
     ],
     "language": "python",
     "metadata": {},
     "outputs": [],
     "prompt_number": 63
    },
    {
     "cell_type": "code",
     "collapsed": false,
     "input": [
      "coordslist = []\n",
      "for s in range(0,len(nslist)-1):\n",
      "    for w in range(0,len(welist)-1):\n",
      "        out = {}\n",
      "        out['north'] = nslist[s+1]\n",
      "        out['south'] = nslist[s]\n",
      "        out['east'] = welist[w+1]\n",
      "        out['west'] = welist[w]\n",
      "        coordslist.append(out)"
     ],
     "language": "python",
     "metadata": {},
     "outputs": [],
     "prompt_number": 64
    },
    {
     "cell_type": "code",
     "collapsed": false,
     "input": [
      "c = coordslist[0]\n",
      "area_places = []\n",
      "url = \"http://api.geonames.org/search\"\n",
      "Q = {\"type\":'json','username':'jaguillette','featureClass':'P','south':c['south'],'north':c['north'],'east':c['east'],'west':c['west']}\n",
      "R = requests.get(url,params=Q)\n",
      "print(R.url)\n",
      "response = R.json()\n",
      "if response['totalResultsCount'] > 5000:\n",
      "    print('Too many results. Need to shrink spacing')\n",
      "else:\n",
      "    area_places.extend(response['geonames'])\n",
      "    resultsCount = response['totalResultsCount']\n",
      "    for p in range(100,resultsCount,100):\n",
      "        Q['startRow'] = p\n",
      "        R = requests.get(url,params=Q)\n",
      "        print(R.url)\n",
      "        response = R.json()\n",
      "        area_places.extend(response['geonames'])"
     ],
     "language": "python",
     "metadata": {},
     "outputs": [
      {
       "output_type": "stream",
       "stream": "stdout",
       "text": [
        "http://api.geonames.org/search?featureClass=P&type=json&username=jaguillette&west=29.6&south=46.07&north=47.07&east=30.6\n",
        "http://api.geonames.org/search?featureClass=P&startRow=100&type=json&username=jaguillette&west=29.6&south=46.07&north=47.07&east=30.6"
       ]
      },
      {
       "output_type": "stream",
       "stream": "stdout",
       "text": [
        "\n",
        "http://api.geonames.org/search?featureClass=P&startRow=200&type=json&username=jaguillette&west=29.6&south=46.07&north=47.07&east=30.6"
       ]
      },
      {
       "output_type": "stream",
       "stream": "stdout",
       "text": [
        "\n",
        "http://api.geonames.org/search?featureClass=P&startRow=300&type=json&username=jaguillette&west=29.6&south=46.07&north=47.07&east=30.6"
       ]
      },
      {
       "output_type": "stream",
       "stream": "stdout",
       "text": [
        "\n"
       ]
      }
     ],
     "prompt_number": 6
    },
    {
     "cell_type": "code",
     "collapsed": false,
     "input": [
      "area_places"
     ],
     "language": "python",
     "metadata": {},
     "outputs": [
      {
       "metadata": {},
       "output_type": "pyout",
       "prompt_number": 7,
       "text": [
        "[{'name': 'Tiraspol',\n",
        "  'population': 157000,\n",
        "  'countryName': 'Moldova',\n",
        "  'adminName1': 'St\u00eenga Nistrului',\n",
        "  'fclName': 'city, village,...',\n",
        "  'countryCode': 'MD',\n",
        "  'lng': '29.64333',\n",
        "  'toponymName': 'Tiraspol',\n",
        "  'fcode': 'PPLA',\n",
        "  'fcodeName': 'seat of a first-order administrative division',\n",
        "  'countryId': '617790',\n",
        "  'adminCode1': '58',\n",
        "  'geonameId': 617239,\n",
        "  'lat': '46.84028',\n",
        "  'fcl': 'P'},\n",
        " {'name': 'Bilhorod-Dnistrovs\u2019kyy',\n",
        "  'population': 50201,\n",
        "  'countryName': 'Ukraine',\n",
        "  'adminName1': 'Odessa',\n",
        "  'fclName': 'city, village,...',\n",
        "  'countryCode': 'UA',\n",
        "  'lng': '30.34938',\n",
        "  'toponymName': 'Bilhorod-Dnistrovs\u2019kyy',\n",
        "  'fcode': 'PPLA2',\n",
        "  'fcodeName': 'seat of a second-order administrative division',\n",
        "  'countryId': '690791',\n",
        "  'adminCode1': '17',\n",
        "  'geonameId': 712160,\n",
        "  'lat': '46.1952',\n",
        "  'fcl': 'P'},\n",
        " {'name': '\u015etefan Vod\u0103',\n",
        "  'population': 7700,\n",
        "  'countryName': 'Moldova',\n",
        "  'adminName1': '\u015etefan-Vod\u0103',\n",
        "  'fclName': 'city, village,...',\n",
        "  'countryCode': 'MD',\n",
        "  'lng': '29.66306',\n",
        "  'toponymName': '\u015etefan Vod\u0103',\n",
        "  'fcode': 'PPLA',\n",
        "  'fcodeName': 'seat of a first-order administrative division',\n",
        "  'countryId': '617790',\n",
        "  'adminCode1': '88',\n",
        "  'geonameId': 617284,\n",
        "  'lat': '46.51528',\n",
        "  'fcl': 'P'},\n",
        " {'name': 'Slobozia',\n",
        "  'population': 15356,\n",
        "  'countryName': 'Moldova',\n",
        "  'adminName1': 'St\u00eenga Nistrului',\n",
        "  'fclName': 'city, village,...',\n",
        "  'countryCode': 'MD',\n",
        "  'lng': '29.70778',\n",
        "  'toponymName': 'Slobozia',\n",
        "  'fcode': 'PPL',\n",
        "  'fcodeName': 'populated place',\n",
        "  'countryId': '617790',\n",
        "  'adminCode1': '58',\n",
        "  'geonameId': 617381,\n",
        "  'lat': '46.72806',\n",
        "  'fcl': 'P'},\n",
        " {'name': 'Dnestrovsc',\n",
        "  'population': 10426,\n",
        "  'countryName': 'Moldova',\n",
        "  'adminName1': 'St\u00eenga Nistrului',\n",
        "  'fclName': 'city, village,...',\n",
        "  'countryCode': 'MD',\n",
        "  'lng': '29.91333',\n",
        "  'toponymName': 'Dnestrovsc',\n",
        "  'fcode': 'PPL',\n",
        "  'fcodeName': 'populated place',\n",
        "  'countryId': '617790',\n",
        "  'adminCode1': '58',\n",
        "  'geonameId': 618387,\n",
        "  'lat': '46.62222',\n",
        "  'fcl': 'P'},\n",
        " {'name': 'Ovidiopol',\n",
        "  'population': 11818,\n",
        "  'countryName': 'Ukraine',\n",
        "  'adminName1': 'Odessa',\n",
        "  'fclName': 'city, village,...',\n",
        "  'countryCode': 'UA',\n",
        "  'lng': '30.44127',\n",
        "  'toponymName': 'Ovidiopol\u2019',\n",
        "  'fcode': 'PPL',\n",
        "  'fcodeName': 'populated place',\n",
        "  'countryId': '690791',\n",
        "  'adminCode1': '17',\n",
        "  'geonameId': 698138,\n",
        "  'lat': '46.24998',\n",
        "  'fcl': 'P'},\n",
        " {'name': 'Bilyayivka',\n",
        "  'population': 13762,\n",
        "  'countryName': 'Ukraine',\n",
        "  'adminName1': 'Odessa',\n",
        "  'fclName': 'city, village,...',\n",
        "  'countryCode': 'UA',\n",
        "  'lng': '30.21678',\n",
        "  'toponymName': 'Bilyayivka',\n",
        "  'fcode': 'PPLA2',\n",
        "  'fcodeName': 'seat of a second-order administrative division',\n",
        "  'countryId': '690791',\n",
        "  'adminCode1': '17',\n",
        "  'geonameId': 712488,\n",
        "  'lat': '46.48319',\n",
        "  'fcl': 'P'},\n",
        " {'name': 'Starokozache',\n",
        "  'population': 5108,\n",
        "  'countryName': 'Ukraine',\n",
        "  'adminName1': 'Odessa',\n",
        "  'fclName': 'city, village,...',\n",
        "  'countryCode': 'UA',\n",
        "  'lng': '29.98528',\n",
        "  'toponymName': 'Starokozache',\n",
        "  'fcode': 'PPL',\n",
        "  'fcodeName': 'populated place',\n",
        "  'countryId': '690791',\n",
        "  'adminCode1': '17',\n",
        "  'geonameId': 692819,\n",
        "  'lat': '46.33722',\n",
        "  'fcl': 'P'},\n",
        " {'name': 'Rozdil\u2019na',\n",
        "  'population': 17615,\n",
        "  'countryName': 'Ukraine',\n",
        "  'adminName1': 'Odessa',\n",
        "  'fclName': 'city, village,...',\n",
        "  'countryCode': 'UA',\n",
        "  'lng': '30.07919',\n",
        "  'toponymName': 'Rozdil\u2019na',\n",
        "  'fcode': 'PPL',\n",
        "  'fcodeName': 'populated place',\n",
        "  'countryId': '690791',\n",
        "  'adminCode1': '17',\n",
        "  'geonameId': 695344,\n",
        "  'lat': '46.84334',\n",
        "  'fcl': 'P'},\n",
        " {'name': 'Pervomaisc',\n",
        "  'population': 7300,\n",
        "  'countryName': 'Moldova',\n",
        "  'adminName1': 'St\u00eenga Nistrului',\n",
        "  'fclName': 'city, village,...',\n",
        "  'countryCode': 'MD',\n",
        "  'lng': '29.95861',\n",
        "  'toponymName': 'Pervomaisc',\n",
        "  'fcode': 'PPL',\n",
        "  'fcodeName': 'populated place',\n",
        "  'countryId': '617790',\n",
        "  'adminCode1': '58',\n",
        "  'geonameId': 617602,\n",
        "  'lat': '46.73389',\n",
        "  'fcl': 'P'},\n",
        " {'name': 'Marianca de Jos',\n",
        "  'population': 0,\n",
        "  'countryName': 'Moldova',\n",
        "  'adminName1': '\u015etefan-Vod\u0103',\n",
        "  'fclName': 'city, village,...',\n",
        "  'countryCode': 'MD',\n",
        "  'lng': '29.60139',\n",
        "  'toponymName': 'Marianca de Jos',\n",
        "  'fcode': 'PPL',\n",
        "  'fcodeName': 'populated place',\n",
        "  'countryId': '617790',\n",
        "  'adminCode1': '88',\n",
        "  'geonameId': 617745,\n",
        "  'lat': '46.52056',\n",
        "  'fcl': 'P'},\n",
        " {'name': 'Crasnoe',\n",
        "  'population': 4200,\n",
        "  'countryName': 'Moldova',\n",
        "  'adminName1': 'St\u00eenga Nistrului',\n",
        "  'fclName': 'city, village,...',\n",
        "  'countryCode': 'MD',\n",
        "  'lng': '29.80472',\n",
        "  'toponymName': 'Crasnoe',\n",
        "  'fcode': 'PPL',\n",
        "  'fcodeName': 'populated place',\n",
        "  'countryId': '617790',\n",
        "  'adminCode1': '58',\n",
        "  'geonameId': 617973,\n",
        "  'lat': '46.65139',\n",
        "  'fcl': 'P'},\n",
        " {'name': 'Chi\u0163cani',\n",
        "  'population': 9000,\n",
        "  'countryName': 'Moldova',\n",
        "  'adminName1': 'C\u0103u\u015feni',\n",
        "  'fclName': 'city, village,...',\n",
        "  'countryCode': 'MD',\n",
        "  'lng': '29.61682',\n",
        "  'toponymName': 'Chi\u0163cani',\n",
        "  'fcode': 'PPL',\n",
        "  'fcodeName': 'populated place',\n",
        "  'countryId': '617790',\n",
        "  'adminCode1': '67',\n",
        "  'geonameId': 618067,\n",
        "  'lat': '46.78296',\n",
        "  'fcl': 'P'},\n",
        " {'name': 'Teplodar',\n",
        "  'population': 8502,\n",
        "  'countryName': 'Ukraine',\n",
        "  'adminName1': 'Odessa',\n",
        "  'fclName': 'city, village,...',\n",
        "  'countryCode': 'UA',\n",
        "  'lng': '30.32521',\n",
        "  'toponymName': 'Teplodar',\n",
        "  'fcode': 'PPL',\n",
        "  'fcodeName': 'populated place',\n",
        "  'countryId': '690791',\n",
        "  'adminCode1': '17',\n",
        "  'geonameId': 865087,\n",
        "  'lat': '46.50585',\n",
        "  'fcl': 'P'},\n",
        " {'name': 'Plakhtiyivka',\n",
        "  'population': 5038,\n",
        "  'countryName': 'Ukraine',\n",
        "  'adminName1': 'Odessa',\n",
        "  'fclName': 'city, village,...',\n",
        "  'countryCode': 'UA',\n",
        "  'lng': '29.72169',\n",
        "  'toponymName': 'Plakhtiyivka',\n",
        "  'fcode': 'PPL',\n",
        "  'fcodeName': 'populated place',\n",
        "  'countryId': '690791',\n",
        "  'adminCode1': '17',\n",
        "  'geonameId': 697126,\n",
        "  'lat': '46.1006',\n",
        "  'fcl': 'P'},\n",
        " {'name': 'Lymanske',\n",
        "  'population': 8600,\n",
        "  'countryName': 'Ukraine',\n",
        "  'adminName1': 'Odessa',\n",
        "  'fclName': 'city, village,...',\n",
        "  'countryCode': 'UA',\n",
        "  'lng': '29.96722',\n",
        "  'toponymName': 'Lymanske',\n",
        "  'fcode': 'PPL',\n",
        "  'fcodeName': 'populated place',\n",
        "  'countryId': '690791',\n",
        "  'adminCode1': '17',\n",
        "  'geonameId': 703061,\n",
        "  'lat': '46.6557',\n",
        "  'fcl': 'P'},\n",
        " {'name': 'Karolino-Buhaz',\n",
        "  'population': 2241,\n",
        "  'countryName': 'Ukraine',\n",
        "  'adminName1': 'Odessa',\n",
        "  'fclName': 'city, village,...',\n",
        "  'countryCode': 'UA',\n",
        "  'lng': '30.52609',\n",
        "  'toponymName': 'Karolino-Buhaz',\n",
        "  'fcode': 'PPL',\n",
        "  'fcodeName': 'populated place',\n",
        "  'countryId': '690791',\n",
        "  'adminCode1': '17',\n",
        "  'geonameId': 687556,\n",
        "  'lat': '46.14492',\n",
        "  'fcl': 'P'},\n",
        " {'name': 'Zatoka',\n",
        "  'population': 1391,\n",
        "  'countryName': 'Ukraine',\n",
        "  'adminName1': 'Odessa',\n",
        "  'fclName': 'city, village,...',\n",
        "  'countryCode': 'UA',\n",
        "  'lng': '30.46538',\n",
        "  'toponymName': 'Zatoka',\n",
        "  'fcode': 'PPL',\n",
        "  'fcodeName': 'populated place',\n",
        "  'countryId': '690791',\n",
        "  'adminCode1': '17',\n",
        "  'geonameId': 687557,\n",
        "  'lat': '46.07251',\n",
        "  'fcl': 'P'},\n",
        " {'name': 'Velykoploske',\n",
        "  'population': 3192,\n",
        "  'countryName': 'Ukraine',\n",
        "  'adminName1': 'Odessa',\n",
        "  'fclName': 'city, village,...',\n",
        "  'countryCode': 'UA',\n",
        "  'lng': '29.67171',\n",
        "  'toponymName': 'Velykoploske',\n",
        "  'fcode': 'PPL',\n",
        "  'fcodeName': 'populated place',\n",
        "  'countryId': '690791',\n",
        "  'adminCode1': '17',\n",
        "  'geonameId': 690035,\n",
        "  'lat': '47.01254',\n",
        "  'fcl': 'P'},\n",
        " {'name': 'Shabo',\n",
        "  'population': 6886,\n",
        "  'countryName': 'Ukraine',\n",
        "  'adminName1': 'Odessa',\n",
        "  'fclName': 'city, village,...',\n",
        "  'countryCode': 'UA',\n",
        "  'lng': '30.38595',\n",
        "  'toponymName': 'Shabo',\n",
        "  'fcode': 'PPL',\n",
        "  'fcodeName': 'populated place',\n",
        "  'countryId': '690791',\n",
        "  'adminCode1': '17',\n",
        "  'geonameId': 694392,\n",
        "  'lat': '46.13262',\n",
        "  'fcl': 'P'},\n",
        " {'name': 'Volintiri',\n",
        "  'population': 0,\n",
        "  'countryName': 'Moldova',\n",
        "  'adminName1': '\u015etefan-Vod\u0103',\n",
        "  'fclName': 'city, village,...',\n",
        "  'countryCode': 'MD',\n",
        "  'lng': '29.60583',\n",
        "  'toponymName': 'Volintiri',\n",
        "  'fcode': 'PPL',\n",
        "  'fcodeName': 'populated place',\n",
        "  'countryId': '617790',\n",
        "  'adminCode1': '88',\n",
        "  'geonameId': 617107,\n",
        "  'lat': '46.42667',\n",
        "  'fcl': 'P'},\n",
        " {'name': 'Vladimirovca',\n",
        "  'population': 0,\n",
        "  'countryName': 'Moldova',\n",
        "  'adminName1': 'St\u00eenga Nistrului',\n",
        "  'fclName': 'city, village,...',\n",
        "  'countryCode': 'MD',\n",
        "  'lng': '29.82472',\n",
        "  'toponymName': 'Vladimirovca',\n",
        "  'fcode': 'PPL',\n",
        "  'fcodeName': 'populated place',\n",
        "  'countryId': '617790',\n",
        "  'adminCode1': '58',\n",
        "  'geonameId': 617114,\n",
        "  'lat': '46.84444',\n",
        "  'fcl': 'P'},\n",
        " {'name': 'Prioziornoe',\n",
        "  'population': 0,\n",
        "  'countryName': 'Moldova',\n",
        "  'adminName1': 'St\u00eenga Nistrului',\n",
        "  'fclName': 'city, village,...',\n",
        "  'countryCode': 'MD',\n",
        "  'lng': '29.93333',\n",
        "  'toponymName': 'Prioziornoe',\n",
        "  'fcode': 'PPL',\n",
        "  'fcodeName': 'populated place',\n",
        "  'countryId': '617790',\n",
        "  'adminCode1': '58',\n",
        "  'geonameId': 617146,\n",
        "  'lat': '46.8',\n",
        "  'fcl': 'P'},\n",
        " {'name': 'Tudora',\n",
        "  'population': 0,\n",
        "  'countryName': 'Moldova',\n",
        "  'adminName1': '\u015etefan-Vod\u0103',\n",
        "  'fclName': 'city, village,...',\n",
        "  'countryCode': 'MD',\n",
        "  'lng': '30.0425',\n",
        "  'toponymName': 'Tudora',\n",
        "  'fcode': 'PPL',\n",
        "  'fcodeName': 'populated place',\n",
        "  'countryId': '617790',\n",
        "  'adminCode1': '88',\n",
        "  'geonameId': 617190,\n",
        "  'lat': '46.435',\n",
        "  'fcl': 'P'},\n",
        " {'name': 'Talmaz',\n",
        "  'population': 0,\n",
        "  'countryName': 'Moldova',\n",
        "  'adminName1': '\u015etefan-Vod\u0103',\n",
        "  'fclName': 'city, village,...',\n",
        "  'countryCode': 'MD',\n",
        "  'lng': '29.66472',\n",
        "  'toponymName': 'Talmaz',\n",
        "  'fcode': 'PPL',\n",
        "  'fcodeName': 'populated place',\n",
        "  'countryId': '617790',\n",
        "  'adminCode1': '88',\n",
        "  'geonameId': 617272,\n",
        "  'lat': '46.63583',\n",
        "  'fcl': 'P'},\n",
        " {'name': 'Sucleia',\n",
        "  'population': 0,\n",
        "  'countryName': 'Moldova',\n",
        "  'adminName1': 'St\u00eenga Nistrului',\n",
        "  'fclName': 'city, village,...',\n",
        "  'countryCode': 'MD',\n",
        "  'lng': '29.65972',\n",
        "  'toponymName': 'Sucleia',\n",
        "  'fcode': 'PPL',\n",
        "  'fcodeName': 'populated place',\n",
        "  'countryId': '617790',\n",
        "  'adminCode1': '58',\n",
        "  'geonameId': 617291,\n",
        "  'lat': '46.82111',\n",
        "  'fcl': 'P'},\n",
        " {'name': 'Slobozia',\n",
        "  'population': 0,\n",
        "  'countryName': 'Moldova',\n",
        "  'adminName1': '\u015etefan-Vod\u0103',\n",
        "  'fclName': 'city, village,...',\n",
        "  'countryCode': 'MD',\n",
        "  'lng': '29.74028',\n",
        "  'toponymName': 'Slobozia',\n",
        "  'fcode': 'PPL',\n",
        "  'fcodeName': 'populated place',\n",
        "  'countryId': '617790',\n",
        "  'adminCode1': '88',\n",
        "  'geonameId': 617387,\n",
        "  'lat': '46.50806',\n",
        "  'fcl': 'P'},\n",
        " {'name': 'R\u0103sc\u0103ie\u0163i',\n",
        "  'population': 0,\n",
        "  'countryName': 'Moldova',\n",
        "  'adminName1': '\u015etefan-Vod\u0103',\n",
        "  'fclName': 'city, village,...',\n",
        "  'countryCode': 'MD',\n",
        "  'lng': '29.77611',\n",
        "  'toponymName': 'R\u0103sc\u0103ie\u0163i',\n",
        "  'fcode': 'PPL',\n",
        "  'fcodeName': 'populated place',\n",
        "  'countryId': '617790',\n",
        "  'adminCode1': '88',\n",
        "  'geonameId': 617525,\n",
        "  'lat': '46.57444',\n",
        "  'fcl': 'P'},\n",
        " {'name': 'Purcari',\n",
        "  'population': 0,\n",
        "  'countryName': 'Moldova',\n",
        "  'adminName1': '\u015etefan-Vod\u0103',\n",
        "  'fclName': 'city, village,...',\n",
        "  'countryCode': 'MD',\n",
        "  'lng': '29.86028',\n",
        "  'toponymName': 'Purcari',\n",
        "  'fcode': 'PPL',\n",
        "  'fcodeName': 'populated place',\n",
        "  'countryId': '617790',\n",
        "  'adminCode1': '88',\n",
        "  'geonameId': 617542,\n",
        "  'lat': '46.53694',\n",
        "  'fcl': 'P'},\n",
        " {'name': 'Palanca',\n",
        "  'population': 0,\n",
        "  'countryName': 'Moldova',\n",
        "  'adminName1': '\u015etefan-Vod\u0103',\n",
        "  'fclName': 'city, village,...',\n",
        "  'countryCode': 'MD',\n",
        "  'lng': '30.09611',\n",
        "  'toponymName': 'Palanca',\n",
        "  'fcode': 'PPL',\n",
        "  'fcodeName': 'populated place',\n",
        "  'countryId': '617790',\n",
        "  'adminCode1': '88',\n",
        "  'geonameId': 617633,\n",
        "  'lat': '46.40861',\n",
        "  'fcl': 'P'},\n",
        " {'name': 'Ol\u0103ne\u015fti',\n",
        "  'population': 0,\n",
        "  'countryName': 'Moldova',\n",
        "  'adminName1': '\u015etefan-Vod\u0103',\n",
        "  'fclName': 'city, village,...',\n",
        "  'countryCode': 'MD',\n",
        "  'lng': '29.91806',\n",
        "  'toponymName': 'Ol\u0103ne\u015fti',\n",
        "  'fcode': 'PPL',\n",
        "  'fcodeName': 'populated place',\n",
        "  'countryId': '617790',\n",
        "  'adminCode1': '88',\n",
        "  'geonameId': 617648,\n",
        "  'lat': '46.49556',\n",
        "  'fcl': 'P'},\n",
        " {'name': 'Nezavertailovca',\n",
        "  'population': 0,\n",
        "  'countryName': 'Moldova',\n",
        "  'adminName1': 'St\u00eenga Nistrului',\n",
        "  'fclName': 'city, village,...',\n",
        "  'countryCode': 'MD',\n",
        "  'lng': '29.93139',\n",
        "  'toponymName': 'Nezavertailovca',\n",
        "  'fcode': 'PPL',\n",
        "  'fcodeName': 'populated place',\n",
        "  'countryId': '617790',\n",
        "  'adminCode1': '58',\n",
        "  'geonameId': 617763,\n",
        "  'lat': '46.60778',\n",
        "  'fcl': 'P'},\n",
        " {'name': 'Corotna',\n",
        "  'population': 0,\n",
        "  'countryName': 'Moldova',\n",
        "  'adminName1': 'St\u00eenga Nistrului',\n",
        "  'fclName': 'city, village,...',\n",
        "  'countryCode': 'MD',\n",
        "  'lng': '29.85944',\n",
        "  'toponymName': 'Corotna',\n",
        "  'fcode': 'PPL',\n",
        "  'fcodeName': 'populated place',\n",
        "  'countryId': '617790',\n",
        "  'adminCode1': '58',\n",
        "  'geonameId': 618016,\n",
        "  'lat': '46.62917',\n",
        "  'fcl': 'P'},\n",
        " {'name': 'Crocmaz',\n",
        "  'population': 0,\n",
        "  'countryName': 'Moldova',\n",
        "  'adminName1': '\u015etefan-Vod\u0103',\n",
        "  'fclName': 'city, village,...',\n",
        "  'countryCode': 'MD',\n",
        "  'lng': '29.9825',\n",
        "  'toponymName': 'Crocmaz',\n",
        "  'fcode': 'PPL',\n",
        "  'fcodeName': 'populated place',\n",
        "  'countryId': '617790',\n",
        "  'adminCode1': '88',\n",
        "  'geonameId': 618022,\n",
        "  'lat': '46.45194',\n",
        "  'fcl': 'P'},\n",
        " {'name': 'Copanca',\n",
        "  'population': 0,\n",
        "  'countryName': 'Moldova',\n",
        "  'adminName1': 'C\u0103u\u015feni',\n",
        "  'fclName': 'city, village,...',\n",
        "  'countryCode': 'MD',\n",
        "  'lng': '29.62056',\n",
        "  'toponymName': 'Copanca',\n",
        "  'fcode': 'PPL',\n",
        "  'fcodeName': 'populated place',\n",
        "  'countryId': '617790',\n",
        "  'adminCode1': '67',\n",
        "  'geonameId': 618029,\n",
        "  'lat': '46.71694',\n",
        "  'fcl': 'P'},\n",
        " {'name': 'Caraga\u015f',\n",
        "  'population': 0,\n",
        "  'countryName': 'Moldova',\n",
        "  'adminName1': 'St\u00eenga Nistrului',\n",
        "  'fclName': 'city, village,...',\n",
        "  'countryCode': 'MD',\n",
        "  'lng': '29.67972',\n",
        "  'toponymName': 'Caraga\u015f',\n",
        "  'fcode': 'PPL',\n",
        "  'fcodeName': 'populated place',\n",
        "  'countryId': '617790',\n",
        "  'adminCode1': '58',\n",
        "  'geonameId': 618135,\n",
        "  'lat': '46.77778',\n",
        "  'fcl': 'P'},\n",
        " {'name': 'Carahasani',\n",
        "  'population': 0,\n",
        "  'countryName': 'Moldova',\n",
        "  'adminName1': '\u015etefan-Vod\u0103',\n",
        "  'fclName': 'city, village,...',\n",
        "  'countryCode': 'MD',\n",
        "  'lng': '29.81222',\n",
        "  'toponymName': 'Carahasani',\n",
        "  'fcode': 'PPL',\n",
        "  'fcodeName': 'populated place',\n",
        "  'countryId': '617790',\n",
        "  'adminCode1': '88',\n",
        "  'geonameId': 618136,\n",
        "  'lat': '46.4675',\n",
        "  'fcl': 'P'},\n",
        " {'name': 'C\u0103plani',\n",
        "  'population': 0,\n",
        "  'countryName': 'Moldova',\n",
        "  'adminName1': '\u015etefan-Vod\u0103',\n",
        "  'fclName': 'city, village,...',\n",
        "  'countryCode': 'MD',\n",
        "  'lng': '29.87139',\n",
        "  'toponymName': 'C\u0103plani',\n",
        "  'fcode': 'PPL',\n",
        "  'fcodeName': 'populated place',\n",
        "  'countryId': '617790',\n",
        "  'adminCode1': '88',\n",
        "  'geonameId': 618140,\n",
        "  'lat': '46.38722',\n",
        "  'fcl': 'P'},\n",
        " {'name': 'Hlinaia',\n",
        "  'population': 0,\n",
        "  'countryName': 'Moldova',\n",
        "  'adminName1': 'St\u00eenga Nistrului',\n",
        "  'fclName': 'city, village,...',\n",
        "  'countryCode': 'MD',\n",
        "  'lng': '29.81389',\n",
        "  'toponymName': 'Hlinaia',\n",
        "  'fcode': 'PPL',\n",
        "  'fcodeName': 'populated place',\n",
        "  'countryId': '617790',\n",
        "  'adminCode1': '58',\n",
        "  'geonameId': 618197,\n",
        "  'lat': '46.63417',\n",
        "  'fcl': 'P'},\n",
        " {'name': 'Frunz\u0103',\n",
        "  'population': 0,\n",
        "  'countryName': 'Moldova',\n",
        "  'adminName1': 'St\u00eenga Nistrului',\n",
        "  'fclName': 'city, village,...',\n",
        "  'countryCode': 'MD',\n",
        "  'lng': '29.88028',\n",
        "  'toponymName': 'Frunz\u0103',\n",
        "  'fcode': 'PPL',\n",
        "  'fcodeName': 'populated place',\n",
        "  'countryId': '617790',\n",
        "  'adminCode1': '58',\n",
        "  'geonameId': 618321,\n",
        "  'lat': '46.82833',\n",
        "  'fcl': 'P'},\n",
        " {'name': 'Nove',\n",
        "  'population': 0,\n",
        "  'countryName': 'Ukraine',\n",
        "  'adminName1': 'Odessa',\n",
        "  'fclName': 'city, village,...',\n",
        "  'countryCode': 'UA',\n",
        "  'lng': '29.87122',\n",
        "  'toponymName': 'Nove',\n",
        "  'fcode': 'PPL',\n",
        "  'fcodeName': 'populated place',\n",
        "  'countryId': '690791',\n",
        "  'adminCode1': '17',\n",
        "  'geonameId': 864129,\n",
        "  'lat': '46.88754',\n",
        "  'fcl': 'P'},\n",
        " {'name': 'Cremenciug',\n",
        "  'population': 0,\n",
        "  'countryName': 'Moldova',\n",
        "  'adminName1': 'C\u0103u\u015feni',\n",
        "  'fclName': 'city, village,...',\n",
        "  'countryCode': 'MD',\n",
        "  'lng': '29.67389',\n",
        "  'toponymName': 'Cremenciug',\n",
        "  'fcode': 'PPL',\n",
        "  'fcodeName': 'populated place',\n",
        "  'countryId': '617790',\n",
        "  'adminCode1': '67',\n",
        "  'geonameId': 824140,\n",
        "  'lat': '46.70861',\n",
        "  'fcl': 'P'},\n",
        " {'name': 'Ocheretovka',\n",
        "  'population': 0,\n",
        "  'countryName': 'Ukraine',\n",
        "  'adminName1': 'Odessa',\n",
        "  'fclName': 'city, village,...',\n",
        "  'countryCode': 'UA',\n",
        "  'lng': '29.98083',\n",
        "  'toponymName': 'Ocheretovka',\n",
        "  'fcode': 'PPL',\n",
        "  'fcodeName': 'populated place',\n",
        "  'countryId': '690791',\n",
        "  'adminCode1': '17',\n",
        "  'geonameId': 698751,\n",
        "  'lat': '46.70861',\n",
        "  'fcl': 'P'},\n",
        " {'name': 'Mykolayivka-Novorosiys\u2019ka',\n",
        "  'population': 0,\n",
        "  'countryName': 'Ukraine',\n",
        "  'adminName1': 'Odessa',\n",
        "  'fclName': 'city, village,...',\n",
        "  'countryCode': 'UA',\n",
        "  'lng': '29.90417',\n",
        "  'toponymName': 'Mykolayivka-Novorosiys\u2019ka',\n",
        "  'fcode': 'PPL',\n",
        "  'fcodeName': 'populated place',\n",
        "  'countryId': '690791',\n",
        "  'adminCode1': '17',\n",
        "  'geonameId': 700092,\n",
        "  'lat': '46.13444',\n",
        "  'fcl': 'P'},\n",
        " {'name': 'Pshenychne',\n",
        "  'population': 0,\n",
        "  'countryName': 'Ukraine',\n",
        "  'adminName1': 'Odessa',\n",
        "  'fclName': 'city, village,...',\n",
        "  'countryCode': 'UA',\n",
        "  'lng': '29.63243',\n",
        "  'toponymName': 'Pshenychne',\n",
        "  'fcode': 'PPL',\n",
        "  'fcodeName': 'populated place',\n",
        "  'countryId': '690791',\n",
        "  'adminCode1': '17',\n",
        "  'geonameId': 701240,\n",
        "  'lat': '46.285',\n",
        "  'fcl': 'P'},\n",
        " {'name': 'Kuchurhan',\n",
        "  'population': 0,\n",
        "  'countryName': 'Ukraine',\n",
        "  'adminName1': 'Odessa',\n",
        "  'fclName': 'city, village,...',\n",
        "  'countryCode': 'UA',\n",
        "  'lng': '29.97963',\n",
        "  'toponymName': 'Kuchurhan',\n",
        "  'fcode': 'PPL',\n",
        "  'fcodeName': 'populated place',\n",
        "  'countryId': '690791',\n",
        "  'adminCode1': '17',\n",
        "  'geonameId': 703789,\n",
        "  'lat': '46.72867',\n",
        "  'fcl': 'P'},\n",
        " {'name': 'Kryva Balka',\n",
        "  'population': 0,\n",
        "  'countryName': 'Ukraine',\n",
        "  'adminName1': 'Odessa',\n",
        "  'fclName': 'city, village,...',\n",
        "  'countryCode': 'UA',\n",
        "  'lng': '29.89385',\n",
        "  'toponymName': 'Kryva Balka',\n",
        "  'fcode': 'PPL',\n",
        "  'fcodeName': 'populated place',\n",
        "  'countryId': '690791',\n",
        "  'adminCode1': '17',\n",
        "  'geonameId': 704052,\n",
        "  'lat': '46.19473',\n",
        "  'fcl': 'P'},\n",
        " {'name': 'Velikodolinskoye',\n",
        "  'population': 0,\n",
        "  'countryName': 'Ukraine',\n",
        "  'adminName1': 'Odessa',\n",
        "  'fclName': 'city, village,...',\n",
        "  'countryCode': 'UA',\n",
        "  'lng': '30.57859',\n",
        "  'toponymName': 'Velikodolinskoye',\n",
        "  'fcode': 'PPL',\n",
        "  'fcodeName': 'populated place',\n",
        "  'countryId': '690791',\n",
        "  'adminCode1': '17',\n",
        "  'geonameId': 690082,\n",
        "  'lat': '46.34239',\n",
        "  'fcl': 'P'},\n",
        " {'name': 'Uspenivka',\n",
        "  'population': 0,\n",
        "  'countryName': 'Ukraine',\n",
        "  'adminName1': 'Odessa',\n",
        "  'fclName': 'city, village,...',\n",
        "  'countryCode': 'UA',\n",
        "  'lng': '29.86985',\n",
        "  'toponymName': 'Uspenivka',\n",
        "  'fcode': 'PPL',\n",
        "  'fcodeName': 'populated place',\n",
        "  'countryId': '690791',\n",
        "  'adminCode1': '17',\n",
        "  'geonameId': 690625,\n",
        "  'lat': '46.18509',\n",
        "  'fcl': 'P'},\n",
        " {'name': 'Udobnoye',\n",
        "  'population': 0,\n",
        "  'countryName': 'Ukraine',\n",
        "  'adminName1': 'Odessa',\n",
        "  'fclName': 'city, village,...',\n",
        "  'countryCode': 'UA',\n",
        "  'lng': '30.04796',\n",
        "  'toponymName': 'Udobnoye',\n",
        "  'fcode': 'PPL',\n",
        "  'fcodeName': 'populated place',\n",
        "  'countryId': '690791',\n",
        "  'adminCode1': '17',\n",
        "  'geonameId': 690834,\n",
        "  'lat': '46.38148',\n",
        "  'fcl': 'P'},\n",
        " {'name': 'Karnaleyevka',\n",
        "  'population': 0,\n",
        "  'countryName': 'Ukraine',\n",
        "  'adminName1': 'Odessa',\n",
        "  'fclName': 'city, village,...',\n",
        "  'countryCode': 'UA',\n",
        "  'lng': '30.0273',\n",
        "  'toponymName': 'Karnaleyevka',\n",
        "  'fcode': 'PPL',\n",
        "  'fcodeName': 'populated place',\n",
        "  'countryId': '690791',\n",
        "  'adminCode1': '17',\n",
        "  'geonameId': 706738,\n",
        "  'lat': '46.21938',\n",
        "  'fcl': 'P'},\n",
        " {'name': 'Ivanivka',\n",
        "  'population': 3028,\n",
        "  'countryName': 'Ukraine',\n",
        "  'adminName1': 'Odessa',\n",
        "  'fclName': 'city, village,...',\n",
        "  'countryCode': 'UA',\n",
        "  'lng': '30.46998',\n",
        "  'toponymName': 'Ivanivka',\n",
        "  'fcode': 'PPLA2',\n",
        "  'fcodeName': 'seat of a second-order administrative division',\n",
        "  'countryId': '690791',\n",
        "  'adminCode1': '17',\n",
        "  'geonameId': 707451,\n",
        "  'lat': '46.97569',\n",
        "  'fcl': 'P'},\n",
        " {'name': 'Hradenytsi',\n",
        "  'population': 0,\n",
        "  'countryName': 'Ukraine',\n",
        "  'adminName1': 'Odessa',\n",
        "  'fclName': 'city, village,...',\n",
        "  'countryCode': 'UA',\n",
        "  'lng': '29.99653',\n",
        "  'toponymName': 'Hradenytsi',\n",
        "  'fcode': 'PPL',\n",
        "  'fcodeName': 'populated place',\n",
        "  'countryId': '690791',\n",
        "  'adminCode1': '17',\n",
        "  'geonameId': 707750,\n",
        "  'lat': '46.59957',\n",
        "  'fcl': 'P'},\n",
        " {'name': 'Stara Tsarychanka',\n",
        "  'population': 0,\n",
        "  'countryName': 'Ukraine',\n",
        "  'adminName1': 'Odessa',\n",
        "  'fclName': 'city, village,...',\n",
        "  'countryCode': 'UA',\n",
        "  'lng': '29.85977',\n",
        "  'toponymName': 'Stara Tsarychanka',\n",
        "  'fcode': 'PPL',\n",
        "  'fcodeName': 'populated place',\n",
        "  'countryId': '690791',\n",
        "  'adminCode1': '17',\n",
        "  'geonameId': 692863,\n",
        "  'lat': '46.29051',\n",
        "  'fcl': 'P'},\n",
        " {'name': 'Rus\u2019koivanivka',\n",
        "  'population': 0,\n",
        "  'countryName': 'Ukraine',\n",
        "  'adminName1': 'Odessa',\n",
        "  'fclName': 'city, village,...',\n",
        "  'countryCode': 'UA',\n",
        "  'lng': '29.76468',\n",
        "  'toponymName': 'Rus\u2019koivanivka',\n",
        "  'fcode': 'PPL',\n",
        "  'fcodeName': 'populated place',\n",
        "  'countryId': '690791',\n",
        "  'adminCode1': '17',\n",
        "  'geonameId': 695100,\n",
        "  'lat': '46.37496',\n",
        "  'fcl': 'P'},\n",
        " {'name': 'Cioburciu',\n",
        "  'population': 0,\n",
        "  'countryName': 'Moldova',\n",
        "  'adminName1': 'St\u00eenga Nistrului',\n",
        "  'fclName': 'city, village,...',\n",
        "  'countryCode': 'MD',\n",
        "  'lng': '29.74917',\n",
        "  'toponymName': 'Cioburciu',\n",
        "  'fcode': 'PPL',\n",
        "  'fcodeName': 'populated place',\n",
        "  'countryId': '617790',\n",
        "  'adminCode1': '58',\n",
        "  'geonameId': 618423,\n",
        "  'lat': '46.68306',\n",
        "  'fcl': 'P'},\n",
        " {'name': 'Cioburciu',\n",
        "  'population': 0,\n",
        "  'countryName': 'Moldova',\n",
        "  'adminName1': '\u015etefan-Vod\u0103',\n",
        "  'fclName': 'city, village,...',\n",
        "  'countryCode': 'MD',\n",
        "  'lng': '29.70833',\n",
        "  'toponymName': 'Cioburciu',\n",
        "  'fcode': 'PPL',\n",
        "  'fcodeName': 'populated place',\n",
        "  'countryId': '617790',\n",
        "  'adminCode1': '88',\n",
        "  'geonameId': 618424,\n",
        "  'lat': '46.60028',\n",
        "  'fcl': 'P'},\n",
        " {'name': 'Blijnii Hutor',\n",
        "  'population': 0,\n",
        "  'countryName': 'Moldova',\n",
        "  'adminName1': 'St\u00eenga Nistrului',\n",
        "  'fclName': 'city, village,...',\n",
        "  'countryCode': 'MD',\n",
        "  'lng': '29.64333',\n",
        "  'toponymName': 'Blijnii Hutor',\n",
        "  'fcode': 'PPL',\n",
        "  'fcodeName': 'populated place',\n",
        "  'countryId': '617790',\n",
        "  'adminCode1': '58',\n",
        "  'geonameId': 618556,\n",
        "  'lat': '46.88417',\n",
        "  'fcl': 'P'},\n",
        " {'name': 'Uiutnoe',\n",
        "  'population': 0,\n",
        "  'countryName': 'Moldova',\n",
        "  'adminName1': 'St\u00eenga Nistrului',\n",
        "  'fclName': 'city, village,...',\n",
        "  'countryCode': 'MD',\n",
        "  'lng': '29.86611',\n",
        "  'toponymName': 'Uiutnoe',\n",
        "  'fcode': 'PPL',\n",
        "  'fcodeName': 'populated place',\n",
        "  'countryId': '617790',\n",
        "  'adminCode1': '58',\n",
        "  'geonameId': 617167,\n",
        "  'lat': '46.84056',\n",
        "  'fcl': 'P'},\n",
        " {'name': '\u015etef\u0103ne\u015fti',\n",
        "  'population': 0,\n",
        "  'countryName': 'Moldova',\n",
        "  'adminName1': '\u015etefan-Vod\u0103',\n",
        "  'fclName': 'city, village,...',\n",
        "  'countryCode': 'MD',\n",
        "  'lng': '29.68778',\n",
        "  'toponymName': '\u015etef\u0103ne\u015fti',\n",
        "  'fcode': 'PPL',\n",
        "  'fcodeName': 'populated place',\n",
        "  'countryId': '617790',\n",
        "  'adminCode1': '88',\n",
        "  'geonameId': 617316,\n",
        "  'lat': '46.44583',\n",
        "  'fcl': 'P'},\n",
        " {'name': 'Andria\u015fevca Veche',\n",
        "  'population': 0,\n",
        "  'countryName': 'Moldova',\n",
        "  'adminName1': 'St\u00eenga Nistrului',\n",
        "  'fclName': 'city, village,...',\n",
        "  'countryCode': 'MD',\n",
        "  'lng': '29.97056',\n",
        "  'toponymName': 'Andria\u015fevca Veche',\n",
        "  'fcode': 'PPL',\n",
        "  'fcodeName': 'populated place',\n",
        "  'countryId': '617790',\n",
        "  'adminCode1': '58',\n",
        "  'geonameId': 617358,\n",
        "  'lat': '46.82278',\n",
        "  'fcl': 'P'},\n",
        " {'name': 'Novocotovsc',\n",
        "  'population': 0,\n",
        "  'countryName': 'Moldova',\n",
        "  'adminName1': 'St\u00eenga Nistrului',\n",
        "  'fclName': 'city, village,...',\n",
        "  'countryCode': 'MD',\n",
        "  'lng': '29.955',\n",
        "  'toponymName': 'Novocotovsc',\n",
        "  'fcode': 'PPL',\n",
        "  'fcodeName': 'populated place',\n",
        "  'countryId': '617790',\n",
        "  'adminCode1': '58',\n",
        "  'geonameId': 617712,\n",
        "  'lat': '46.76556',\n",
        "  'fcl': 'P'},\n",
        " {'name': 'Andria\u015fevca Nou\u0103',\n",
        "  'population': 0,\n",
        "  'countryName': 'Moldova',\n",
        "  'adminName1': 'St\u00eenga Nistrului',\n",
        "  'fclName': 'city, village,...',\n",
        "  'countryCode': 'MD',\n",
        "  'lng': '29.95583',\n",
        "  'toponymName': 'Andria\u015fevca Nou\u0103',\n",
        "  'fcode': 'PPL',\n",
        "  'fcodeName': 'populated place',\n",
        "  'countryId': '617790',\n",
        "  'adminCode1': '58',\n",
        "  'geonameId': 617741,\n",
        "  'lat': '46.83361',\n",
        "  'fcl': 'P'},\n",
        " {'name': 'Nicolscoe',\n",
        "  'population': 0,\n",
        "  'countryName': 'Moldova',\n",
        "  'adminName1': 'St\u00eenga Nistrului',\n",
        "  'fclName': 'city, village,...',\n",
        "  'countryCode': 'MD',\n",
        "  'lng': '29.85722',\n",
        "  'toponymName': 'Nicolscoe',\n",
        "  'fcode': 'PPL',\n",
        "  'fcodeName': 'populated place',\n",
        "  'countryId': '617790',\n",
        "  'adminCode1': '58',\n",
        "  'geonameId': 617758,\n",
        "  'lat': '46.87611',\n",
        "  'fcl': 'P'},\n",
        " {'name': 'Rozalivka',\n",
        "  'population': 0,\n",
        "  'countryName': 'Ukraine',\n",
        "  'adminName1': 'Odessa',\n",
        "  'fclName': 'city, village,...',\n",
        "  'countryCode': 'UA',\n",
        "  'lng': '29.98154',\n",
        "  'toponymName': 'Rozalivka',\n",
        "  'fcode': 'PPL',\n",
        "  'fcodeName': 'populated place',\n",
        "  'countryId': '690791',\n",
        "  'adminCode1': '17',\n",
        "  'geonameId': 695348,\n",
        "  'lat': '46.82412',\n",
        "  'fcl': 'P'},\n",
        " {'name': 'Roylyanka',\n",
        "  'population': 0,\n",
        "  'countryName': 'Ukraine',\n",
        "  'adminName1': 'Odessa',\n",
        "  'fclName': 'city, village,...',\n",
        "  'countryCode': 'UA',\n",
        "  'lng': '29.78944',\n",
        "  'toponymName': 'Roylyanka',\n",
        "  'fcode': 'PPL',\n",
        "  'fcodeName': 'populated place',\n",
        "  'countryId': '690791',\n",
        "  'adminCode1': '17',\n",
        "  'geonameId': 695355,\n",
        "  'lat': '46.28667',\n",
        "  'fcl': 'P'},\n",
        " {'name': 'Romanivka',\n",
        "  'population': 0,\n",
        "  'countryName': 'Ukraine',\n",
        "  'adminName1': 'Odessa',\n",
        "  'fclName': 'city, village,...',\n",
        "  'countryCode': 'UA',\n",
        "  'lng': '29.96906',\n",
        "  'toponymName': 'Romanivka',\n",
        "  'fcode': 'PPL',\n",
        "  'fcodeName': 'populated place',\n",
        "  'countryId': '690791',\n",
        "  'adminCode1': '17',\n",
        "  'geonameId': 695461,\n",
        "  'lat': '46.09729',\n",
        "  'fcl': 'P'},\n",
        " {'name': 'Podgornoye',\n",
        "  'population': 0,\n",
        "  'countryName': 'Ukraine',\n",
        "  'adminName1': 'Odessa',\n",
        "  'fclName': 'city, village,...',\n",
        "  'countryCode': 'UA',\n",
        "  'lng': '30.02299',\n",
        "  'toponymName': 'Podgornoye',\n",
        "  'fcode': 'PPL',\n",
        "  'fcodeName': 'populated place',\n",
        "  'countryId': '690791',\n",
        "  'adminCode1': '17',\n",
        "  'geonameId': 696958,\n",
        "  'lat': '46.25699',\n",
        "  'fcl': 'P'},\n",
        " {'name': 'Petro-Yevdokiyevka',\n",
        "  'population': 0,\n",
        "  'countryName': 'Ukraine',\n",
        "  'adminName1': 'Odessa',\n",
        "  'fclName': 'city, village,...',\n",
        "  'countryCode': 'UA',\n",
        "  'lng': '30.18436',\n",
        "  'toponymName': 'Petro-Yevdokiyevka',\n",
        "  'fcode': 'PPL',\n",
        "  'fcodeName': 'populated place',\n",
        "  'countryId': '690791',\n",
        "  'adminCode1': '17',\n",
        "  'geonameId': 697268,\n",
        "  'lat': '46.82246',\n",
        "  'fcl': 'P'},\n",
        " {'name': 'Petrovka',\n",
        "  'population': 0,\n",
        "  'countryName': 'Ukraine',\n",
        "  'adminName1': 'Odessa',\n",
        "  'fclName': 'city, village,...',\n",
        "  'countryCode': 'UA',\n",
        "  'lng': '30.31667',\n",
        "  'toponymName': 'Petrovka',\n",
        "  'fcode': 'PPL',\n",
        "  'fcodeName': 'populated place',\n",
        "  'countryId': '690791',\n",
        "  'adminCode1': '17',\n",
        "  'geonameId': 697386,\n",
        "  'lat': '46.88333',\n",
        "  'fcl': 'P'},\n",
        " {'name': 'Petrivka',\n",
        "  'population': 0,\n",
        "  'countryName': 'Ukraine',\n",
        "  'adminName1': 'Odessa',\n",
        "  'fclName': 'city, village,...',\n",
        "  'countryCode': 'UA',\n",
        "  'lng': '29.95469',\n",
        "  'toponymName': 'Petrivka',\n",
        "  'fcode': 'PPL',\n",
        "  'fcodeName': 'populated place',\n",
        "  'countryId': '690791',\n",
        "  'adminCode1': '17',\n",
        "  'geonameId': 697392,\n",
        "  'lat': '46.31141',\n",
        "  'fcl': 'P'},\n",
        " {'name': 'Pershe Travnya',\n",
        "  'population': 0,\n",
        "  'countryName': 'Ukraine',\n",
        "  'adminName1': 'Odessa',\n",
        "  'fclName': 'city, village,...',\n",
        "  'countryCode': 'UA',\n",
        "  'lng': '30.33699',\n",
        "  'toponymName': 'Pershe Travnya',\n",
        "  'fcode': 'PPL',\n",
        "  'fcodeName': 'populated place',\n",
        "  'countryId': '690791',\n",
        "  'adminCode1': '17',\n",
        "  'geonameId': 697621,\n",
        "  'lat': '46.64872',\n",
        "  'fcl': 'P'},\n",
        " {'name': 'Otradovo',\n",
        "  'population': 0,\n",
        "  'countryName': 'Ukraine',\n",
        "  'adminName1': 'Odessa',\n",
        "  'fclName': 'city, village,...',\n",
        "  'countryCode': 'UA',\n",
        "  'lng': '30.44508',\n",
        "  'toponymName': 'Otradovo',\n",
        "  'fcode': 'PPL',\n",
        "  'fcodeName': 'populated place',\n",
        "  'countryId': '690791',\n",
        "  'adminCode1': '17',\n",
        "  'geonameId': 698150,\n",
        "  'lat': '46.68578',\n",
        "  'fcl': 'P'},\n",
        " {'name': 'Novoselivka',\n",
        "  'population': 0,\n",
        "  'countryName': 'Ukraine',\n",
        "  'adminName1': 'Odessa',\n",
        "  'fclName': 'city, village,...',\n",
        "  'countryCode': 'UA',\n",
        "  'lng': '29.92387',\n",
        "  'toponymName': 'Novoselivka',\n",
        "  'fcode': 'PPL',\n",
        "  'fcodeName': 'populated place',\n",
        "  'countryId': '690791',\n",
        "  'adminCode1': '17',\n",
        "  'geonameId': 699214,\n",
        "  'lat': '46.98876',\n",
        "  'fcl': 'P'},\n",
        " {'name': 'Novosavyts\u2019ke',\n",
        "  'population': 0,\n",
        "  'countryName': 'Ukraine',\n",
        "  'adminName1': 'Odessa',\n",
        "  'fclName': 'city, village,...',\n",
        "  'countryCode': 'UA',\n",
        "  'lng': '29.76326',\n",
        "  'toponymName': 'Novosavyts\u2019ke',\n",
        "  'fcode': 'PPL',\n",
        "  'fcodeName': 'populated place',\n",
        "  'countryId': '690791',\n",
        "  'adminCode1': '17',\n",
        "  'geonameId': 699292,\n",
        "  'lat': '46.98668',\n",
        "  'fcl': 'P'},\n",
        " {'name': 'Novopetrivka',\n",
        "  'population': 0,\n",
        "  'countryName': 'Ukraine',\n",
        "  'adminName1': 'Odessa',\n",
        "  'fclName': 'city, village,...',\n",
        "  'countryCode': 'UA',\n",
        "  'lng': '29.88977',\n",
        "  'toponymName': 'Novopetrivka',\n",
        "  'fcode': 'PPL',\n",
        "  'fcodeName': 'populated place',\n",
        "  'countryId': '690791',\n",
        "  'adminCode1': '17',\n",
        "  'geonameId': 699347,\n",
        "  'lat': '47.04188',\n",
        "  'fcl': 'P'},\n",
        " {'name': 'Novoantonivka',\n",
        "  'population': 0,\n",
        "  'countryName': 'Ukraine',\n",
        "  'adminName1': 'Odessa',\n",
        "  'fclName': 'city, village,...',\n",
        "  'countryCode': 'UA',\n",
        "  'lng': '29.75048',\n",
        "  'toponymName': 'Novoantonivka',\n",
        "  'fcode': 'PPL',\n",
        "  'fcodeName': 'populated place',\n",
        "  'countryId': '690791',\n",
        "  'adminCode1': '17',\n",
        "  'geonameId': 699686,\n",
        "  'lat': '47.05196',\n",
        "  'fcl': 'P'},\n",
        " {'name': 'Nova Tsarychanka',\n",
        "  'population': 0,\n",
        "  'countryName': 'Ukraine',\n",
        "  'adminName1': 'Odessa',\n",
        "  'fclName': 'city, village,...',\n",
        "  'countryCode': 'UA',\n",
        "  'lng': '29.88083',\n",
        "  'toponymName': 'Nova Tsarychanka',\n",
        "  'fcode': 'PPL',\n",
        "  'fcodeName': 'populated place',\n",
        "  'countryId': '690791',\n",
        "  'adminCode1': '17',\n",
        "  'geonameId': 699786,\n",
        "  'lat': '46.25361',\n",
        "  'fcl': 'P'},\n",
        " {'name': 'Faraonivka',\n",
        "  'population': 0,\n",
        "  'countryName': 'Ukraine',\n",
        "  'adminName1': 'Odessa',\n",
        "  'fclName': 'city, village,...',\n",
        "  'countryCode': 'UA',\n",
        "  'lng': '29.62021',\n",
        "  'toponymName': 'Faraonivka',\n",
        "  'fcode': 'PPL',\n",
        "  'fcodeName': 'populated place',\n",
        "  'countryId': '690791',\n",
        "  'adminCode1': '17',\n",
        "  'geonameId': 709258,\n",
        "  'lat': '46.32309',\n",
        "  'fcl': 'P'},\n",
        " {'name': 'Dzerzhyns\u2019ke',\n",
        "  'population': 0,\n",
        "  'countryName': 'Ukraine',\n",
        "  'adminName1': 'Odessa',\n",
        "  'fclName': 'city, village,...',\n",
        "  'countryCode': 'UA',\n",
        "  'lng': '29.81163',\n",
        "  'toponymName': 'Dzerzhyns\u2019ke',\n",
        "  'fcode': 'PPL',\n",
        "  'fcodeName': 'populated place',\n",
        "  'countryId': '690791',\n",
        "  'adminCode1': '17',\n",
        "  'geonameId': 709355,\n",
        "  'lat': '46.92543',\n",
        "  'fcl': 'P'},\n",
        " {'name': 'Dal\u2019nichen\u2019',\n",
        "  'population': 0,\n",
        "  'countryName': 'Ukraine',\n",
        "  'adminName1': 'Odessa',\n",
        "  'fclName': 'city, village,...',\n",
        "  'countryCode': 'UA',\n",
        "  'lng': '29.67912',\n",
        "  'toponymName': 'Dal\u2019nichen\u2019',\n",
        "  'fcode': 'PPL',\n",
        "  'fcodeName': 'populated place',\n",
        "  'countryId': '690791',\n",
        "  'adminCode1': '17',\n",
        "  'geonameId': 710318,\n",
        "  'lat': '46.40596',\n",
        "  'fcl': 'P'},\n",
        " {'name': 'Chystovodne',\n",
        "  'population': 0,\n",
        "  'countryName': 'Ukraine',\n",
        "  'adminName1': 'Odessa',\n",
        "  'fclName': 'city, village,...',\n",
        "  'countryCode': 'UA',\n",
        "  'lng': '29.75955',\n",
        "  'toponymName': 'Chystovodne',\n",
        "  'fcode': 'PPL',\n",
        "  'fcodeName': 'populated place',\n",
        "  'countryId': '690791',\n",
        "  'adminCode1': '17',\n",
        "  'geonameId': 710446,\n",
        "  'lat': '46.44001',\n",
        "  'fcl': 'P'},\n",
        " {'name': 'Chervonoznamenka',\n",
        "  'population': 0,\n",
        "  'countryName': 'Ukraine',\n",
        "  'adminName1': 'Odessa',\n",
        "  'fclName': 'city, village,...',\n",
        "  'countryCode': 'UA',\n",
        "  'lng': '30.29464',\n",
        "  'toponymName': 'Chervonoznamenka',\n",
        "  'fcode': 'PPL',\n",
        "  'fcodeName': 'populated place',\n",
        "  'countryId': '690791',\n",
        "  'adminCode1': '17',\n",
        "  'geonameId': 710531,\n",
        "  'lat': '47.02087',\n",
        "  'fcl': 'P'},\n",
        " {'name': 'Bykoza',\n",
        "  'population': 0,\n",
        "  'countryName': 'Ukraine',\n",
        "  'adminName1': 'Odessa',\n",
        "  'fclName': 'city, village,...',\n",
        "  'countryCode': 'UA',\n",
        "  'lng': '30.17777',\n",
        "  'toponymName': 'Bykoza',\n",
        "  'fcode': 'PPL',\n",
        "  'fcodeName': 'populated place',\n",
        "  'countryId': '690791',\n",
        "  'adminCode1': '17',\n",
        "  'geonameId': 711018,\n",
        "  'lat': '46.19004',\n",
        "  'fcl': 'P'},\n",
        " {'name': 'Budenovka',\n",
        "  'population': 0,\n",
        "  'countryName': 'Ukraine',\n",
        "  'adminName1': 'Odessa',\n",
        "  'fclName': 'city, village,...',\n",
        "  'countryCode': 'UA',\n",
        "  'lng': '30.3',\n",
        "  'toponymName': 'Budenovka',\n",
        "  'fcode': 'PPL',\n",
        "  'fcodeName': 'populated place',\n",
        "  'countryId': '690791',\n",
        "  'adminCode1': '17',\n",
        "  'geonameId': 711314,\n",
        "  'lat': '46.81667',\n",
        "  'fcl': 'P'},\n",
        " {'name': 'Blagoyevo',\n",
        "  'population': 0,\n",
        "  'countryName': 'Ukraine',\n",
        "  'adminName1': 'Odessa',\n",
        "  'fclName': 'city, village,...',\n",
        "  'countryCode': 'UA',\n",
        "  'lng': '30.06667',\n",
        "  'toponymName': 'Blagoyevo',\n",
        "  'fcode': 'PPL',\n",
        "  'fcodeName': 'populated place',\n",
        "  'countryId': '690791',\n",
        "  'adminCode1': '17',\n",
        "  'geonameId': 712070,\n",
        "  'lat': '47',\n",
        "  'fcl': 'P'},\n",
        " {'name': 'Blahodatne',\n",
        "  'population': 0,\n",
        "  'countryName': 'Ukraine',\n",
        "  'adminName1': 'Odessa',\n",
        "  'fclName': 'city, village,...',\n",
        "  'countryCode': 'UA',\n",
        "  'lng': '29.64494',\n",
        "  'toponymName': 'Blahodatne',\n",
        "  'fcode': 'PPL',\n",
        "  'fcodeName': 'populated place',\n",
        "  'countryId': '690791',\n",
        "  'adminCode1': '17',\n",
        "  'geonameId': 712097,\n",
        "  'lat': '46.25893',\n",
        "  'fcl': 'P'},\n",
        " {'name': 'Berezan\u2019',\n",
        "  'population': 0,\n",
        "  'countryName': 'Ukraine',\n",
        "  'adminName1': 'Odessa',\n",
        "  'fclName': 'city, village,...',\n",
        "  'countryCode': 'UA',\n",
        "  'lng': '30.43291',\n",
        "  'toponymName': 'Berezan\u2019',\n",
        "  'fcode': 'PPL',\n",
        "  'fcodeName': 'populated place',\n",
        "  'countryId': '690791',\n",
        "  'adminCode1': '17',\n",
        "  'geonameId': 712390,\n",
        "  'lat': '46.56918',\n",
        "  'fcl': 'P'},\n",
        " {'name': 'Baraboy Pervyy',\n",
        "  'population': 0,\n",
        "  'countryName': 'Ukraine',\n",
        "  'adminName1': 'Odessa',\n",
        "  'fclName': 'city, village,...',\n",
        "  'countryCode': 'UA',\n",
        "  'lng': '30.51667',\n",
        "  'toponymName': 'Baraboy Pervyy',\n",
        "  'fcode': 'PPL',\n",
        "  'fcodeName': 'populated place',\n",
        "  'countryId': '690791',\n",
        "  'adminCode1': '17',\n",
        "  'geonameId': 712853,\n",
        "  'lat': '46.3',\n",
        "  'fcl': 'P'},\n",
        " {'name': 'Antono Kovach',\n",
        "  'population': 0,\n",
        "  'countryName': 'Ukraine',\n",
        "  'adminName1': 'Odessa',\n",
        "  'fclName': 'city, village,...',\n",
        "  'countryCode': 'UA',\n",
        "  'lng': '29.75983',\n",
        "  'toponymName': 'Antono Kovach',\n",
        "  'fcode': 'PPL',\n",
        "  'fcodeName': 'populated place',\n",
        "  'countryId': '690791',\n",
        "  'adminCode1': '17',\n",
        "  'geonameId': 713313,\n",
        "  'lat': '46.9436',\n",
        "  'fcl': 'P'},\n",
        " {'name': 'Anhelinivka',\n",
        "  'population': 0,\n",
        "  'countryName': 'Ukraine',\n",
        "  'adminName1': 'Odessa',\n",
        "  'fclName': 'city, village,...',\n",
        "  'countryCode': 'UA',\n",
        "  'lng': '29.94621',\n",
        "  'toponymName': 'Anhelinivka',\n",
        "  'fcode': 'PPL',\n",
        "  'fcodeName': 'populated place',\n",
        "  'countryId': '690791',\n",
        "  'adminCode1': '17',\n",
        "  'geonameId': 713376,\n",
        "  'lat': '46.89659',\n",
        "  'fcl': 'P'},\n",
        " {'name': 'Andreyen\u2019',\n",
        "  'population': 0,\n",
        "  'countryName': 'Ukraine',\n",
        "  'adminName1': 'Odessa',\n",
        "  'fclName': 'city, village,...',\n",
        "  'countryCode': 'UA',\n",
        "  'lng': '30.08585',\n",
        "  'toponymName': 'Andreyen\u2019',\n",
        "  'fcode': 'PPL',\n",
        "  'fcodeName': 'populated place',\n",
        "  'countryId': '690791',\n",
        "  'adminCode1': '17',\n",
        "  'geonameId': 713481,\n",
        "  'lat': '46.22061',\n",
        "  'fcl': 'P'},\n",
        " {'name': 'Oleksiyivka',\n",
        "  'population': 0,\n",
        "  'countryName': 'Ukraine',\n",
        "  'adminName1': 'Odessa',\n",
        "  'fclName': 'city, village,...',\n",
        "  'countryCode': 'UA',\n",
        "  'lng': '30.06738',\n",
        "  'toponymName': 'Oleksiyivka',\n",
        "  'fcode': 'PPL',\n",
        "  'fcodeName': 'populated place',\n",
        "  'countryId': '690791',\n",
        "  'adminCode1': '17',\n",
        "  'geonameId': 713575,\n",
        "  'lat': '46.11482',\n",
        "  'fcl': 'P'},\n",
        " {'name': 'Mykolayivka',\n",
        "  'population': 0,\n",
        "  'countryName': 'Ukraine',\n",
        "  'adminName1': 'Odessa',\n",
        "  'fclName': 'city, village,...',\n",
        "  'countryCode': 'UA',\n",
        "  'lng': '30.35813',\n",
        "  'toponymName': 'Mykolayivka',\n",
        "  'fcode': 'PPL',\n",
        "  'fcodeName': 'populated place',\n",
        "  'countryId': '690791',\n",
        "  'adminCode1': '17',\n",
        "  'geonameId': 700175,\n",
        "  'lat': '46.28281',\n",
        "  'fcl': 'P'},\n",
        " {'name': 'Nehrove',\n",
        "  'population': 0,\n",
        "  'countryName': 'Ukraine',\n",
        "  'adminName1': 'Odessa',\n",
        "  'fclName': 'city, village,...',\n",
        "  'countryCode': 'UA',\n",
        "  'lng': '29.65528',\n",
        "  'toponymName': 'Nehrove',\n",
        "  'fcode': 'PPL',\n",
        "  'fcodeName': 'populated place',\n",
        "  'countryId': '690791',\n",
        "  'adminCode1': '17',\n",
        "  'geonameId': 700358,\n",
        "  'lat': '46.20028',\n",
        "  'fcl': 'P'},\n",
        " {'name': 'Khadzhider',\n",
        "  'population': 0,\n",
        "  'countryName': 'Ukraine',\n",
        "  'adminName1': 'Odessa',\n",
        "  'fclName': 'city, village,...',\n",
        "  'countryCode': 'UA',\n",
        "  'lng': '29.88828',\n",
        "  'toponymName': 'Khadzhider',\n",
        "  'fcode': 'PPL',\n",
        "  'fcodeName': 'populated place',\n",
        "  'countryId': '690791',\n",
        "  'adminCode1': '17',\n",
        "  'geonameId': 700504,\n",
        "  'lat': '46.21777',\n",
        "  'fcl': 'P'},\n",
        " {'name': 'Nadezhda',\n",
        "  'population': 0,\n",
        "  'countryName': 'Ukraine',\n",
        "  'adminName1': 'Odessa',\n",
        "  'fclName': 'city, village,...',\n",
        "  'countryCode': 'UA',\n",
        "  'lng': '29.65043',\n",
        "  'toponymName': 'Nadezhda',\n",
        "  'fcode': 'PPL',\n",
        "  'fcodeName': 'populated place',\n",
        "  'countryId': '690791',\n",
        "  'adminCode1': '17',\n",
        "  'geonameId': 700535,\n",
        "  'lat': '46.22236',\n",
        "  'fcl': 'P'},\n",
        " {'name': 'Monashi',\n",
        "  'population': 0,\n",
        "  'countryName': 'Ukraine',\n",
        "  'adminName1': 'Odessa',\n",
        "  'fclName': 'city, village,...',\n",
        "  'countryCode': 'UA',\n",
        "  'lng': '30.05683',\n",
        "  'toponymName': 'Monashi',\n",
        "  'fcode': 'PPL',\n",
        "  'fcodeName': 'populated place',\n",
        "  'countryId': '690791',\n",
        "  'adminCode1': '17',\n",
        "  'geonameId': 700809,\n",
        "  'lat': '46.16339',\n",
        "  'fcl': 'P'},\n",
        " {'name': 'Molodove',\n",
        "  'population': 0,\n",
        "  'countryName': 'Ukraine',\n",
        "  'adminName1': 'Odessa',\n",
        "  'fclName': 'city, village,...',\n",
        "  'countryCode': 'UA',\n",
        "  'lng': '29.65201',\n",
        "  'toponymName': 'Molodove',\n",
        "  'fcode': 'PPL',\n",
        "  'fcodeName': 'populated place',\n",
        "  'countryId': '690791',\n",
        "  'adminCode1': '17',\n",
        "  'geonameId': 700827,\n",
        "  'lat': '46.2147',\n",
        "  'fcl': 'P'},\n",
        " {'name': 'Moldava',\n",
        "  'population': 0,\n",
        "  'countryName': 'Ukraine',\n",
        "  'adminName1': 'Odessa',\n",
        "  'fclName': 'city, village,...',\n",
        "  'countryCode': 'UA',\n",
        "  'lng': '30.43333',\n",
        "  'toponymName': 'Moldava',\n",
        "  'fcode': 'PPL',\n",
        "  'fcodeName': 'populated place',\n",
        "  'countryId': '690791',\n",
        "  'adminCode1': '17',\n",
        "  'geonameId': 700853,\n",
        "  'lat': '46.23333',\n",
        "  'fcl': 'P'},\n",
        " {'name': 'Myrnopillya',\n",
        "  'population': 0,\n",
        "  'countryName': 'Ukraine',\n",
        "  'adminName1': 'Odessa',\n",
        "  'fclName': 'city, village,...',\n",
        "  'countryCode': 'UA',\n",
        "  'lng': '29.64353',\n",
        "  'toponymName': 'Myrnopillya',\n",
        "  'fcode': 'PPL',\n",
        "  'fcodeName': 'populated place',\n",
        "  'countryId': '690791',\n",
        "  'adminCode1': '17',\n",
        "  'geonameId': 701066,\n",
        "  'lat': '46.16315',\n",
        "  'fcl': 'P'},\n",
        " {'name': 'Mar\u2019yanovka',\n",
        "  'population': 0,\n",
        "  'countryName': 'Ukraine',\n",
        "  'adminName1': 'Odessa',\n",
        "  'fclName': 'city, village,...',\n",
        "  'countryCode': 'UA',\n",
        "  'lng': '30.4663',\n",
        "  'toponymName': 'Mar\u2019yanovka',\n",
        "  'fcode': 'PPL',\n",
        "  'fcodeName': 'populated place',\n",
        "  'countryId': '690791',\n",
        "  'adminCode1': '17',\n",
        "  'geonameId': 701733,\n",
        "  'lat': '46.38633',\n",
        "  'fcl': 'P'},\n",
        " {'name': 'Markivka',\n",
        "  'population': 0,\n",
        "  'countryName': 'Ukraine',\n",
        "  'adminName1': 'Odessa',\n",
        "  'fclName': 'city, village,...',\n",
        "  'countryCode': 'UA',\n",
        "  'lng': '29.94906',\n",
        "  'toponymName': 'Markivka',\n",
        "  'fcode': 'PPL',\n",
        "  'fcodeName': 'populated place',\n",
        "  'countryId': '690791',\n",
        "  'adminCode1': '17',\n",
        "  'geonameId': 701799,\n",
        "  'lat': '46.92918',\n",
        "  'fcl': 'P'},\n",
        " {'name': 'Marazleyevka',\n",
        "  'population': 0,\n",
        "  'countryName': 'Ukraine',\n",
        "  'adminName1': 'Odessa',\n",
        "  'fclName': 'city, village,...',\n",
        "  'countryCode': 'UA',\n",
        "  'lng': '30.0509',\n",
        "  'toponymName': 'Marazleyevka',\n",
        "  'fcode': 'PPL',\n",
        "  'fcodeName': 'populated place',\n",
        "  'countryId': '690791',\n",
        "  'adminCode1': '17',\n",
        "  'geonameId': 701870,\n",
        "  'lat': '46.09596',\n",
        "  'fcl': 'P'},\n",
        " {'name': 'Maloploske',\n",
        "  'population': 0,\n",
        "  'countryName': 'Ukraine',\n",
        "  'adminName1': 'Odessa',\n",
        "  'fclName': 'city, village,...',\n",
        "  'countryCode': 'UA',\n",
        "  'lng': '29.74151',\n",
        "  'toponymName': 'Maloploske',\n",
        "  'fcode': 'PPL',\n",
        "  'fcodeName': 'populated place',\n",
        "  'countryId': '690791',\n",
        "  'adminCode1': '17',\n",
        "  'geonameId': 702044,\n",
        "  'lat': '47.01259',\n",
        "  'fcl': 'P'},\n",
        " {'name': 'Malinovka',\n",
        "  'population': 0,\n",
        "  'countryName': 'Ukraine',\n",
        "  'adminName1': 'Odessa',\n",
        "  'fclName': 'city, village,...',\n",
        "  'countryCode': 'UA',\n",
        "  'lng': '30.38347',\n",
        "  'toponymName': 'Malinovka',\n",
        "  'fcode': 'PPL',\n",
        "  'fcodeName': 'populated place',\n",
        "  'countryId': '690791',\n",
        "  'adminCode1': '17',\n",
        "  'geonameId': 702108,\n",
        "  'lat': '46.94261',\n",
        "  'fcl': 'P'},\n",
        " {'name': 'Malaya Mar\u2019yanovka',\n",
        "  'population': 0,\n",
        "  'countryName': 'Ukraine',\n",
        "  'adminName1': 'Odessa',\n",
        "  'fclName': 'city, village,...',\n",
        "  'countryCode': 'UA',\n",
        "  'lng': '30.05',\n",
        "  'toponymName': 'Malaya Mar\u2019yanovka',\n",
        "  'fcode': 'PPL',\n",
        "  'fcodeName': 'populated place',\n",
        "  'countryId': '690791',\n",
        "  'adminCode1': '17',\n",
        "  'geonameId': 702200,\n",
        "  'lat': '46.1',\n",
        "  'fcl': 'P'},\n",
        " {'name': 'Lozovyy',\n",
        "  'population': 0,\n",
        "  'countryName': 'Ukraine',\n",
        "  'adminName1': 'Odessa',\n",
        "  'fclName': 'city, village,...',\n",
        "  'countryCode': 'UA',\n",
        "  'lng': '30.22475',\n",
        "  'toponymName': 'Lozovyy',\n",
        "  'fcode': 'PPL',\n",
        "  'fcodeName': 'populated place',\n",
        "  'countryId': '690791',\n",
        "  'adminCode1': '17',\n",
        "  'geonameId': 702731,\n",
        "  'lat': '46.94126',\n",
        "  'fcl': 'P'},\n",
        " {'name': 'Krutoyarivka',\n",
        "  'population': 0,\n",
        "  'countryName': 'Ukraine',\n",
        "  'adminName1': 'Odessa',\n",
        "  'fclName': 'city, village,...',\n",
        "  'countryCode': 'UA',\n",
        "  'lng': '29.82133',\n",
        "  'toponymName': 'Krutoyarivka',\n",
        "  'fcode': 'PPL',\n",
        "  'fcodeName': 'populated place',\n",
        "  'countryId': '690791',\n",
        "  'adminCode1': '17',\n",
        "  'geonameId': 703910,\n",
        "  'lat': '46.35936',\n",
        "  'fcl': 'P'},\n",
        " {'name': 'Krasnyy',\n",
        "  'population': 0,\n",
        "  'countryName': 'Ukraine',\n",
        "  'adminName1': 'Odessa',\n",
        "  'fclName': 'city, village,...',\n",
        "  'countryCode': 'UA',\n",
        "  'lng': '30.55',\n",
        "  'toponymName': 'Krasnyy',\n",
        "  'fcode': 'PPL',\n",
        "  'fcodeName': 'populated place',\n",
        "  'countryId': '690791',\n",
        "  'adminCode1': '17',\n",
        "  'geonameId': 704242,\n",
        "  'lat': '46.95',\n",
        "  'fcl': 'P'},\n",
        " {'name': 'Zirka',\n",
        "  'population': 0,\n",
        "  'countryName': 'Ukraine',\n",
        "  'adminName1': 'Odessa',\n",
        "  'fclName': 'city, village,...',\n",
        "  'countryCode': 'UA',\n",
        "  'lng': '30.43333',\n",
        "  'toponymName': 'Zirka',\n",
        "  'fcode': 'PPL',\n",
        "  'fcodeName': 'populated place',\n",
        "  'countryId': '690791',\n",
        "  'adminCode1': '17',\n",
        "  'geonameId': 686945,\n",
        "  'lat': '46.63333',\n",
        "  'fcl': 'P'},\n",
        " {'name': 'Zelenovka',\n",
        "  'population': 0,\n",
        "  'countryName': 'Ukraine',\n",
        "  'adminName1': 'Odessa',\n",
        "  'fclName': 'city, village,...',\n",
        "  'countryCode': 'UA',\n",
        "  'lng': '30.00471',\n",
        "  'toponymName': 'Zelenovka',\n",
        "  'fcode': 'PPL',\n",
        "  'fcodeName': 'populated place',\n",
        "  'countryId': '690791',\n",
        "  'adminCode1': '17',\n",
        "  'geonameId': 687384,\n",
        "  'lat': '46.29634',\n",
        "  'fcl': 'P'},\n",
        " {'name': 'Zabary',\n",
        "  'population': 0,\n",
        "  'countryName': 'Ukraine',\n",
        "  'adminName1': 'Odessa',\n",
        "  'fclName': 'city, village,...',\n",
        "  'countryCode': 'UA',\n",
        "  'lng': '29.74965',\n",
        "  'toponymName': 'Zabary',\n",
        "  'fcode': 'PPL',\n",
        "  'fcodeName': 'populated place',\n",
        "  'countryId': '690791',\n",
        "  'adminCode1': '17',\n",
        "  'geonameId': 687981,\n",
        "  'lat': '46.30332',\n",
        "  'fcl': 'P'},\n",
        " {'name': 'Yegorovka',\n",
        "  'population': 0,\n",
        "  'countryName': 'Ukraine',\n",
        "  'adminName1': 'Odessa',\n",
        "  'fclName': 'city, village,...',\n",
        "  'countryCode': 'UA',\n",
        "  'lng': '30.40822',\n",
        "  'toponymName': 'Yegorovka',\n",
        "  'fcode': 'PPL',\n",
        "  'fcodeName': 'populated place',\n",
        "  'countryId': '690791',\n",
        "  'adminCode1': '17',\n",
        "  'geonameId': 688257,\n",
        "  'lat': '46.7198',\n",
        "  'fcl': 'P'},\n",
        " {'name': 'Yas\u2019ki',\n",
        "  'population': 0,\n",
        "  'countryName': 'Ukraine',\n",
        "  'adminName1': 'Odessa',\n",
        "  'fclName': 'city, village,...',\n",
        "  'countryCode': 'UA',\n",
        "  'lng': '30.07378',\n",
        "  'toponymName': 'Yas\u2019ki',\n",
        "  'fcode': 'PPL',\n",
        "  'fcodeName': 'populated place',\n",
        "  'countryId': '690791',\n",
        "  'adminCode1': '17',\n",
        "  'geonameId': 688361,\n",
        "  'lat': '46.51025',\n",
        "  'fcl': 'P'},\n",
        " {'name': 'Yaroslavka',\n",
        "  'population': 0,\n",
        "  'countryName': 'Ukraine',\n",
        "  'adminName1': 'Odessa',\n",
        "  'fclName': 'city, village,...',\n",
        "  'countryCode': 'UA',\n",
        "  'lng': '29.875',\n",
        "  'toponymName': 'Yaroslavka',\n",
        "  'fcode': 'PPL',\n",
        "  'fcodeName': 'populated place',\n",
        "  'countryId': '690791',\n",
        "  'adminCode1': '17',\n",
        "  'geonameId': 688423,\n",
        "  'lat': '46.07722',\n",
        "  'fcl': 'P'},\n",
        " {'name': 'Vyselok Akkermanskiy',\n",
        "  'population': 0,\n",
        "  'countryName': 'Ukraine',\n",
        "  'adminName1': 'Odessa',\n",
        "  'fclName': 'city, village,...',\n",
        "  'countryCode': 'UA',\n",
        "  'lng': '30.21667',\n",
        "  'toponymName': 'Vyselok Akkermanskiy',\n",
        "  'fcode': 'PPL',\n",
        "  'fcodeName': 'populated place',\n",
        "  'countryId': '690791',\n",
        "  'adminCode1': '17',\n",
        "  'geonameId': 688729,\n",
        "  'lat': '46.23333',\n",
        "  'fcl': 'P'},\n",
        " {'name': 'Vladimirovka',\n",
        "  'population': 0,\n",
        "  'countryName': 'Ukraine',\n",
        "  'adminName1': 'Odessa',\n",
        "  'fclName': 'city, village,...',\n",
        "  'countryCode': 'UA',\n",
        "  'lng': '30.07497',\n",
        "  'toponymName': 'Vladimirovka',\n",
        "  'fcode': 'PPL',\n",
        "  'fcodeName': 'populated place',\n",
        "  'countryId': '690791',\n",
        "  'adminCode1': '17',\n",
        "  'geonameId': 689412,\n",
        "  'lat': '46.82158',\n",
        "  'fcl': 'P'},\n",
        " {'name': 'Volodymyrivka',\n",
        "  'population': 0,\n",
        "  'countryName': 'Ukraine',\n",
        "  'adminName1': 'Odessa',\n",
        "  'fclName': 'city, village,...',\n",
        "  'countryCode': 'UA',\n",
        "  'lng': '29.74028',\n",
        "  'toponymName': 'Volodymyrivka',\n",
        "  'fcode': 'PPL',\n",
        "  'fcodeName': 'populated place',\n",
        "  'countryId': '690791',\n",
        "  'adminCode1': '17',\n",
        "  'geonameId': 689417,\n",
        "  'lat': '46.41935',\n",
        "  'fcl': 'P'},\n",
        " {'name': 'Velikiy Dal\u2019nik',\n",
        "  'population': 0,\n",
        "  'countryName': 'Ukraine',\n",
        "  'adminName1': 'Odessa',\n",
        "  'fclName': 'city, village,...',\n",
        "  'countryCode': 'UA',\n",
        "  'lng': '30.55763',\n",
        "  'toponymName': 'Velikiy Dal\u2019nik',\n",
        "  'fcode': 'PPL',\n",
        "  'fcodeName': 'populated place',\n",
        "  'countryId': '690791',\n",
        "  'adminCode1': '17',\n",
        "  'geonameId': 690189,\n",
        "  'lat': '46.47758',\n",
        "  'fcl': 'P'},\n",
        " {'name': 'Novokonstantynivka',\n",
        "  'population': 0,\n",
        "  'countryName': 'Ukraine',\n",
        "  'adminName1': 'Odessa',\n",
        "  'fclName': 'city, village,...',\n",
        "  'countryCode': 'UA',\n",
        "  'lng': '29.97071',\n",
        "  'toponymName': 'Novokonstantynivka',\n",
        "  'fcode': 'PPL',\n",
        "  'fcodeName': 'populated place',\n",
        "  'countryId': '690791',\n",
        "  'adminCode1': '17',\n",
        "  'geonameId': 705113,\n",
        "  'lat': '46.9524',\n",
        "  'fcl': 'P'},\n",
        " {'name': 'Pryvillya',\n",
        "  'population': 0,\n",
        "  'countryName': 'Ukraine',\n",
        "  'adminName1': 'Odessa',\n",
        "  'fclName': 'city, village,...',\n",
        "  'countryCode': 'UA',\n",
        "  'lng': '29.77346',\n",
        "  'toponymName': 'Pryvillya',\n",
        "  'fcode': 'PPL',\n",
        "  'fcodeName': 'populated place',\n",
        "  'countryId': '690791',\n",
        "  'adminCode1': '17',\n",
        "  'geonameId': 706007,\n",
        "  'lat': '47.05633',\n",
        "  'fcl': 'P'},\n",
        " {'name': 'Vakars\u2019ke',\n",
        "  'population': 0,\n",
        "  'countryName': 'Ukraine',\n",
        "  'adminName1': 'Odessa',\n",
        "  'fclName': 'city, village,...',\n",
        "  'countryCode': 'UA',\n",
        "  'lng': '29.93706',\n",
        "  'toponymName': 'Vakars\u2019ke',\n",
        "  'fcode': 'PPL',\n",
        "  'fcodeName': 'populated place',\n",
        "  'countryId': '690791',\n",
        "  'adminCode1': '17',\n",
        "  'geonameId': 706139,\n",
        "  'lat': '47.0635',\n",
        "  'fcl': 'P'},\n",
        " {'name': 'Kazatskoye',\n",
        "  'population': 0,\n",
        "  'countryName': 'Ukraine',\n",
        "  'adminName1': 'Odessa',\n",
        "  'fclName': 'city, village,...',\n",
        "  'countryCode': 'UA',\n",
        "  'lng': '30.0452',\n",
        "  'toponymName': 'Kazatskoye',\n",
        "  'fcode': 'PPL',\n",
        "  'fcodeName': 'populated place',\n",
        "  'countryId': '690791',\n",
        "  'adminCode1': '17',\n",
        "  'geonameId': 706567,\n",
        "  'lat': '46.34881',\n",
        "  'fcl': 'P'},\n",
        " {'name': 'Kardamycheve',\n",
        "  'population': 0,\n",
        "  'countryName': 'Ukraine',\n",
        "  'adminName1': 'Odessa',\n",
        "  'fclName': 'city, village,...',\n",
        "  'countryCode': 'UA',\n",
        "  'lng': '29.91544',\n",
        "  'toponymName': 'Kardamycheve',\n",
        "  'fcode': 'PPL',\n",
        "  'fcodeName': 'populated place',\n",
        "  'countryId': '690791',\n",
        "  'adminCode1': '17',\n",
        "  'geonameId': 706772,\n",
        "  'lat': '46.96236',\n",
        "  'fcl': 'P'},\n",
        " {'name': 'Kapokleyevka',\n",
        "  'population': 0,\n",
        "  'countryName': 'Ukraine',\n",
        "  'adminName1': 'Odessa',\n",
        "  'fclName': 'city, village,...',\n",
        "  'countryCode': 'UA',\n",
        "  'lng': '30.20657',\n",
        "  'toponymName': 'Kapokleyevka',\n",
        "  'fcode': 'PPL',\n",
        "  'fcodeName': 'populated place',\n",
        "  'countryId': '690791',\n",
        "  'adminCode1': '17',\n",
        "  'geonameId': 706871,\n",
        "  'lat': '46.80795',\n",
        "  'fcl': 'P'},\n",
        " {'name': 'Kamyshevka Vtoraya',\n",
        "  'population': 3352,\n",
        "  'countryName': 'Ukraine',\n",
        "  'adminName1': 'Odessa',\n",
        "  'fclName': 'city, village,...',\n",
        "  'countryCode': 'UA',\n",
        "  'lng': '29.83333',\n",
        "  'toponymName': 'Kamyshevka Vtoraya',\n",
        "  'fcode': 'PPL',\n",
        "  'fcodeName': 'populated place',\n",
        "  'countryId': '690791',\n",
        "  'adminCode1': '17',\n",
        "  'geonameId': 706921,\n",
        "  'lat': '46.23333',\n",
        "  'fcl': 'P'},\n",
        " {'name': 'Ignatovo',\n",
        "  'population': 0,\n",
        "  'countryName': 'Ukraine',\n",
        "  'adminName1': 'Odessa',\n",
        "  'fclName': 'city, village,...',\n",
        "  'countryCode': 'UA',\n",
        "  'lng': '30.48333',\n",
        "  'toponymName': 'Ignatovo',\n",
        "  'fcode': 'PPL',\n",
        "  'fcodeName': 'populated place',\n",
        "  'countryId': '690791',\n",
        "  'adminCode1': '17',\n",
        "  'geonameId': 707734,\n",
        "  'lat': '46.83333',\n",
        "  'fcl': 'P'},\n",
        " {'name': 'Hirs\u2019ke',\n",
        "  'population': 0,\n",
        "  'countryName': 'Ukraine',\n",
        "  'adminName1': 'Odessa',\n",
        "  'fclName': 'city, village,...',\n",
        "  'countryCode': 'UA',\n",
        "  'lng': '29.93056',\n",
        "  'toponymName': 'Hirs\u2019ke',\n",
        "  'fcode': 'PPL',\n",
        "  'fcodeName': 'populated place',\n",
        "  'countryId': '690791',\n",
        "  'adminCode1': '17',\n",
        "  'geonameId': 708275,\n",
        "  'lat': '46.97111',\n",
        "  'fcl': 'P'},\n",
        " {'name': 'Goncharovka',\n",
        "  'population': 0,\n",
        "  'countryName': 'Ukraine',\n",
        "  'adminName1': 'Odessa',\n",
        "  'fclName': 'city, village,...',\n",
        "  'countryCode': 'UA',\n",
        "  'lng': '30.07023',\n",
        "  'toponymName': 'Goncharovka',\n",
        "  'fcode': 'PPL',\n",
        "  'fcodeName': 'populated place',\n",
        "  'countryId': '690791',\n",
        "  'adminCode1': '17',\n",
        "  'geonameId': 708505,\n",
        "  'lat': '46.23642',\n",
        "  'fcl': 'P'},\n",
        " {'name': 'Galle',\n",
        "  'population': 0,\n",
        "  'countryName': 'Ukraine',\n",
        "  'adminName1': 'Odessa',\n",
        "  'fclName': 'city, village,...',\n",
        "  'countryCode': 'UA',\n",
        "  'lng': '30.03333',\n",
        "  'toponymName': 'Galle',\n",
        "  'fcode': 'PPL',\n",
        "  'fcodeName': 'populated place',\n",
        "  'countryId': '690791',\n",
        "  'adminCode1': '17',\n",
        "  'geonameId': 709018,\n",
        "  'lat': '46.15',\n",
        "  'fcl': 'P'},\n",
        " {'name': 'Trud-Kutok',\n",
        "  'population': 276,\n",
        "  'countryName': 'Ukraine',\n",
        "  'adminName1': 'Odessa',\n",
        "  'fclName': 'city, village,...',\n",
        "  'countryCode': 'UA',\n",
        "  'lng': '30.01156',\n",
        "  'toponymName': 'Trud-Kutok',\n",
        "  'fcode': 'PPL',\n",
        "  'fcodeName': 'populated place',\n",
        "  'countryId': '690791',\n",
        "  'adminCode1': '17',\n",
        "  'geonameId': 691189,\n",
        "  'lat': '46.75586',\n",
        "  'fcl': 'P'},\n",
        " {'name': 'Artema',\n",
        "  'population': 0,\n",
        "  'countryName': 'Ukraine',\n",
        "  'adminName1': 'Odessa',\n",
        "  'fclName': 'city, village,...',\n",
        "  'countryCode': 'UA',\n",
        "  'lng': '29.87089',\n",
        "  'toponymName': 'Artema',\n",
        "  'fcode': 'PPL',\n",
        "  'fcodeName': 'populated place',\n",
        "  'countryId': '690791',\n",
        "  'adminCode1': '17',\n",
        "  'geonameId': 691208,\n",
        "  'lat': '46.97856',\n",
        "  'fcl': 'P'},\n",
        " {'name': 'Trostyanets\u2019',\n",
        "  'population': 0,\n",
        "  'countryName': 'Ukraine',\n",
        "  'adminName1': 'Odessa',\n",
        "  'fclName': 'city, village,...',\n",
        "  'countryCode': 'UA',\n",
        "  'lng': '29.78425',\n",
        "  'toponymName': 'Trostyanets\u2019',\n",
        "  'fcode': 'PPL',\n",
        "  'fcodeName': 'populated place',\n",
        "  'countryId': '690791',\n",
        "  'adminCode1': '17',\n",
        "  'geonameId': 691250,\n",
        "  'lat': '47.03423',\n",
        "  'fcl': 'P'},\n",
        " {'name': 'Try Krynytsi',\n",
        "  'population': 0,\n",
        "  'countryName': 'Ukraine',\n",
        "  'adminName1': 'Odessa',\n",
        "  'fclName': 'city, village,...',\n",
        "  'countryCode': 'UA',\n",
        "  'lng': '29.98079',\n",
        "  'toponymName': 'Try Krynytsi',\n",
        "  'fcode': 'PPL',\n",
        "  'fcodeName': 'populated place',\n",
        "  'countryId': '690791',\n",
        "  'adminCode1': '17',\n",
        "  'geonameId': 691309,\n",
        "  'lat': '47.05451',\n",
        "  'fcl': 'P'},\n",
        " {'name': 'Slavyanoserbka',\n",
        "  'population': 0,\n",
        "  'countryName': 'Ukraine',\n",
        "  'adminName1': 'Odessa',\n",
        "  'fclName': 'city, village,...',\n",
        "  'countryCode': 'UA',\n",
        "  'lng': '29.70005',\n",
        "  'toponymName': 'Slavyanoserbka',\n",
        "  'fcode': 'PPL',\n",
        "  'fcodeName': 'populated place',\n",
        "  'countryId': '690791',\n",
        "  'adminCode1': '17',\n",
        "  'geonameId': 693470,\n",
        "  'lat': '46.95852',\n",
        "  'fcl': 'P'},\n",
        " {'name': 'Shem\u00ebtovka',\n",
        "  'population': 0,\n",
        "  'countryName': 'Ukraine',\n",
        "  'adminName1': 'Odessa',\n",
        "  'fclName': 'city, village,...',\n",
        "  'countryCode': 'UA',\n",
        "  'lng': '30.35312',\n",
        "  'toponymName': 'Shem\u00ebtovka',\n",
        "  'fcode': 'PPL',\n",
        "  'fcodeName': 'populated place',\n",
        "  'countryId': '690791',\n",
        "  'adminCode1': '17',\n",
        "  'geonameId': 694230,\n",
        "  'lat': '46.83011',\n",
        "  'fcl': 'P'},\n",
        " {'name': 'Sem\u00ebnovka',\n",
        "  'population': 0,\n",
        "  'countryName': 'Ukraine',\n",
        "  'adminName1': 'Odessa',\n",
        "  'fclName': 'city, village,...',\n",
        "  'countryCode': 'UA',\n",
        "  'lng': '30.12388',\n",
        "  'toponymName': 'Sem\u00ebnovka',\n",
        "  'fcode': 'PPL',\n",
        "  'fcodeName': 'populated place',\n",
        "  'countryId': '690791',\n",
        "  'adminCode1': '17',\n",
        "  'geonameId': 694625,\n",
        "  'lat': '46.28252',\n",
        "  'fcl': 'P'},\n",
        " {'name': 'Antone\u015fti',\n",
        "  'population': 0,\n",
        "  'countryName': 'Moldova',\n",
        "  'adminName1': '\u015etefan-Vod\u0103',\n",
        "  'fclName': 'city, village,...',\n",
        "  'countryCode': 'MD',\n",
        "  'lng': '29.84861',\n",
        "  'toponymName': 'Antone\u015fti',\n",
        "  'fcode': 'PPL',\n",
        "  'fcodeName': 'populated place',\n",
        "  'countryId': '617790',\n",
        "  'adminCode1': '88',\n",
        "  'geonameId': 618637,\n",
        "  'lat': '46.49611',\n",
        "  'fcl': 'P'},\n",
        " {'name': 'Novosavi\u0163caia',\n",
        "  'population': 0,\n",
        "  'countryName': 'Moldova',\n",
        "  'adminName1': 'St\u00eenga Nistrului',\n",
        "  'fclName': 'city, village,...',\n",
        "  'countryCode': 'MD',\n",
        "  'lng': '29.86861',\n",
        "  'toponymName': 'Novosavi\u0163caia',\n",
        "  'fcode': 'PPL',\n",
        "  'fcodeName': 'populated place',\n",
        "  'countryId': '617790',\n",
        "  'adminCode1': '58',\n",
        "  'geonameId': 617710,\n",
        "  'lat': '46.80611',\n",
        "  'fcl': 'P'},\n",
        " {'name': 'Constantinovca',\n",
        "  'population': 0,\n",
        "  'countryName': 'Moldova',\n",
        "  'adminName1': 'St\u00eenga Nistrului',\n",
        "  'fclName': 'city, village,...',\n",
        "  'countryCode': 'MD',\n",
        "  'lng': '29.84583',\n",
        "  'toponymName': 'Constantinovca',\n",
        "  'fcode': 'PPL',\n",
        "  'fcodeName': 'populated place',\n",
        "  'countryId': '617790',\n",
        "  'adminCode1': '58',\n",
        "  'geonameId': 618033,\n",
        "  'lat': '46.85222',\n",
        "  'fcl': 'P'},\n",
        " {'name': 'Khutor Vladimirovka',\n",
        "  'population': 0,\n",
        "  'countryName': 'Moldova',\n",
        "  'adminName1': 'St\u00eenga Nistrului',\n",
        "  'fclName': 'city, village,...',\n",
        "  'countryCode': 'MD',\n",
        "  'lng': '29.79472',\n",
        "  'toponymName': 'Khutor Vladimirovka',\n",
        "  'fcode': 'PPL',\n",
        "  'fcodeName': 'populated place',\n",
        "  'countryId': '617790',\n",
        "  'adminCode1': '58',\n",
        "  'geonameId': 618087,\n",
        "  'lat': '46.83389',\n",
        "  'fcl': 'P'},\n",
        " {'name': 'Adjiler',\n",
        "  'population': 0,\n",
        "  'countryName': 'Moldova',\n",
        "  'adminName1': '\u015etefan-Vod\u0103',\n",
        "  'fclName': 'city, village,...',\n",
        "  'countryCode': 'MD',\n",
        "  'lng': '29.62083',\n",
        "  'toponymName': 'Adjiler',\n",
        "  'fcode': 'PPL',\n",
        "  'fcodeName': 'populated place',\n",
        "  'countryId': '617790',\n",
        "  'adminCode1': '88',\n",
        "  'geonameId': 618104,\n",
        "  'lat': '46.49278',\n",
        "  'fcl': 'P'},\n",
        " {'name': 'Kalkatova Balka',\n",
        "  'population': 0,\n",
        "  'countryName': 'Moldova',\n",
        "  'adminName1': 'St\u00eenga Nistrului',\n",
        "  'fclName': 'city, village,...',\n",
        "  'countryCode': 'MD',\n",
        "  'lng': '29.67056',\n",
        "  'toponymName': 'Kalkatova Balka',\n",
        "  'fcode': 'PPL',\n",
        "  'fcodeName': 'populated place',\n",
        "  'countryId': '617790',\n",
        "  'adminCode1': '58',\n",
        "  'geonameId': 618156,\n",
        "  'lat': '46.85583',\n",
        "  'fcl': 'P'},\n",
        " {'name': 'Velykorybal\u2019s\u2019ke',\n",
        "  'population': 0,\n",
        "  'countryName': 'Ukraine',\n",
        "  'adminName1': 'Odessa',\n",
        "  'fclName': 'city, village,...',\n",
        "  'countryCode': 'UA',\n",
        "  'lng': '29.84528',\n",
        "  'toponymName': 'Velykorybal\u2019s\u2019ke',\n",
        "  'fcode': 'PPL',\n",
        "  'fcodeName': 'populated place',\n",
        "  'countryId': '690791',\n",
        "  'adminCode1': '17',\n",
        "  'geonameId': 863681,\n",
        "  'lat': '46.07639',\n",
        "  'fcl': 'P'},\n",
        " {'name': 'Kamyshivka Persha',\n",
        "  'population': 0,\n",
        "  'countryName': 'Ukraine',\n",
        "  'adminName1': 'Odessa',\n",
        "  'fclName': 'city, village,...',\n",
        "  'countryCode': 'UA',\n",
        "  'lng': '29.85156',\n",
        "  'toponymName': 'Kamyshivka Persha',\n",
        "  'fcode': 'PPL',\n",
        "  'fcodeName': 'populated place',\n",
        "  'countryId': '690791',\n",
        "  'adminCode1': '17',\n",
        "  'geonameId': 863682,\n",
        "  'lat': '46.21162',\n",
        "  'fcl': 'P'},\n",
        " {'name': 'Luhove',\n",
        "  'population': 0,\n",
        "  'countryName': 'Ukraine',\n",
        "  'adminName1': 'Odessa',\n",
        "  'fclName': 'city, village,...',\n",
        "  'countryCode': 'UA',\n",
        "  'lng': '29.83167',\n",
        "  'toponymName': 'Luhove',\n",
        "  'fcode': 'PPL',\n",
        "  'fcodeName': 'populated place',\n",
        "  'countryId': '690791',\n",
        "  'adminCode1': '17',\n",
        "  'geonameId': 863683,\n",
        "  'lat': '46.25361',\n",
        "  'fcl': 'P'},\n",
        " {'name': 'Kamenka',\n",
        "  'population': 0,\n",
        "  'countryName': 'Ukraine',\n",
        "  'adminName1': 'Odessa',\n",
        "  'fclName': 'city, village,...',\n",
        "  'countryCode': 'UA',\n",
        "  'lng': '29.64333',\n",
        "  'toponymName': 'Kamenka',\n",
        "  'fcode': 'PPL',\n",
        "  'fcodeName': 'populated place',\n",
        "  'countryId': '690791',\n",
        "  'adminCode1': '17',\n",
        "  'geonameId': 863684,\n",
        "  'lat': '46.17917',\n",
        "  'fcl': 'P'},\n",
        " {'name': 'Nova Ivanivka',\n",
        "  'population': 0,\n",
        "  'countryName': 'Ukraine',\n",
        "  'adminName1': 'Odessa',\n",
        "  'fclName': 'city, village,...',\n",
        "  'countryCode': 'UA',\n",
        "  'lng': '29.64028',\n",
        "  'toponymName': 'Nova Ivanivka',\n",
        "  'fcode': 'PPL',\n",
        "  'fcodeName': 'populated place',\n",
        "  'countryId': '690791',\n",
        "  'adminCode1': '17',\n",
        "  'geonameId': 863685,\n",
        "  'lat': '46.18972',\n",
        "  'fcl': 'P'},\n",
        " {'name': 'Pasichne',\n",
        "  'population': 0,\n",
        "  'countryName': 'Ukraine',\n",
        "  'adminName1': 'Odessa',\n",
        "  'fclName': 'city, village,...',\n",
        "  'countryCode': 'UA',\n",
        "  'lng': '29.61871',\n",
        "  'toponymName': 'Pasichne',\n",
        "  'fcode': 'PPL',\n",
        "  'fcodeName': 'populated place',\n",
        "  'countryId': '690791',\n",
        "  'adminCode1': '17',\n",
        "  'geonameId': 864083,\n",
        "  'lat': '46.20126',\n",
        "  'fcl': 'P'},\n",
        " {'name': 'Pavlivka',\n",
        "  'population': 738,\n",
        "  'countryName': 'Ukraine',\n",
        "  'adminName1': 'Odessa',\n",
        "  'fclName': 'city, village,...',\n",
        "  'countryCode': 'UA',\n",
        "  'lng': '29.98683',\n",
        "  'toponymName': 'Pavlivka',\n",
        "  'fcode': 'PPL',\n",
        "  'fcodeName': 'populated place',\n",
        "  'countryId': '690791',\n",
        "  'adminCode1': '17',\n",
        "  'geonameId': 864124,\n",
        "  'lat': '46.76044',\n",
        "  'fcl': 'P'},\n",
        " {'name': 'Luchyns\u2019ke',\n",
        "  'population': 0,\n",
        "  'countryName': 'Ukraine',\n",
        "  'adminName1': 'Odessa',\n",
        "  'fclName': 'city, village,...',\n",
        "  'countryCode': 'UA',\n",
        "  'lng': '29.94875',\n",
        "  'toponymName': 'Luchyns\u2019ke',\n",
        "  'fcode': 'PPL',\n",
        "  'fcodeName': 'populated place',\n",
        "  'countryId': '690791',\n",
        "  'adminCode1': '17',\n",
        "  'geonameId': 864126,\n",
        "  'lat': '46.86197',\n",
        "  'fcl': 'P'},\n",
        " {'name': 'Oleh',\n",
        "  'population': 0,\n",
        "  'countryName': 'Ukraine',\n",
        "  'adminName1': 'Odessa',\n",
        "  'fclName': 'city, village,...',\n",
        "  'countryCode': 'UA',\n",
        "  'lng': '29.74573',\n",
        "  'toponymName': 'Oleh',\n",
        "  'fcode': 'PPL',\n",
        "  'fcodeName': 'populated place',\n",
        "  'countryId': '690791',\n",
        "  'adminCode1': '17',\n",
        "  'geonameId': 864127,\n",
        "  'lat': '46.92567',\n",
        "  'fcl': 'P'},\n",
        " {'name': 'Yurkivka',\n",
        "  'population': 0,\n",
        "  'countryName': 'Ukraine',\n",
        "  'adminName1': 'Odessa',\n",
        "  'fclName': 'city, village,...',\n",
        "  'countryCode': 'UA',\n",
        "  'lng': '29.82329',\n",
        "  'toponymName': 'Yurkivka',\n",
        "  'fcode': 'PPL',\n",
        "  'fcodeName': 'populated place',\n",
        "  'countryId': '690791',\n",
        "  'adminCode1': '17',\n",
        "  'geonameId': 864128,\n",
        "  'lat': '46.9926',\n",
        "  'fcl': 'P'},\n",
        " {'name': 'Trud-Hrebenyk',\n",
        "  'population': 0,\n",
        "  'countryName': 'Ukraine',\n",
        "  'adminName1': 'Odessa',\n",
        "  'fclName': 'city, village,...',\n",
        "  'countryCode': 'UA',\n",
        "  'lng': '29.89681',\n",
        "  'toponymName': 'Trud-Hrebenyk',\n",
        "  'fcode': 'PPL',\n",
        "  'fcodeName': 'populated place',\n",
        "  'countryId': '690791',\n",
        "  'adminCode1': '17',\n",
        "  'geonameId': 864130,\n",
        "  'lat': '46.90918',\n",
        "  'fcl': 'P'},\n",
        " {'name': 'Plavneve',\n",
        "  'population': 0,\n",
        "  'countryName': 'Ukraine',\n",
        "  'adminName1': 'Odessa',\n",
        "  'fclName': 'city, village,...',\n",
        "  'countryCode': 'UA',\n",
        "  'lng': '29.93813',\n",
        "  'toponymName': 'Plavneve',\n",
        "  'fcode': 'PPL',\n",
        "  'fcodeName': 'populated place',\n",
        "  'countryId': '690791',\n",
        "  'adminCode1': '17',\n",
        "  'geonameId': 864131,\n",
        "  'lat': '46.93974',\n",
        "  'fcl': 'P'},\n",
        " {'name': 'Novokrasne',\n",
        "  'population': 0,\n",
        "  'countryName': 'Ukraine',\n",
        "  'adminName1': 'Odessa',\n",
        "  'fclName': 'city, village,...',\n",
        "  'countryCode': 'UA',\n",
        "  'lng': '29.97357',\n",
        "  'toponymName': 'Novokrasne',\n",
        "  'fcode': 'PPL',\n",
        "  'fcodeName': 'populated place',\n",
        "  'countryId': '690791',\n",
        "  'adminCode1': '17',\n",
        "  'geonameId': 864132,\n",
        "  'lat': '46.7953',\n",
        "  'fcl': 'P'},\n",
        " {'name': 'Vii\u015foara',\n",
        "  'population': 0,\n",
        "  'countryName': 'Moldova',\n",
        "  'adminName1': '\u015etefan-Vod\u0103',\n",
        "  'fclName': 'city, village,...',\n",
        "  'countryCode': 'MD',\n",
        "  'lng': '29.82556',\n",
        "  'toponymName': 'Vii\u015foara',\n",
        "  'fcode': 'PPL',\n",
        "  'fcodeName': 'populated place',\n",
        "  'countryId': '617790',\n",
        "  'adminCode1': '88',\n",
        "  'geonameId': 831482,\n",
        "  'lat': '46.54694',\n",
        "  'fcl': 'P'},\n",
        " {'name': 'R\u0103sc\u0103ie\u0163ii Noi',\n",
        "  'population': 0,\n",
        "  'countryName': 'Moldova',\n",
        "  'adminName1': '\u015etefan-Vod\u0103',\n",
        "  'fclName': 'city, village,...',\n",
        "  'countryCode': 'MD',\n",
        "  'lng': '29.77333',\n",
        "  'toponymName': 'R\u0103sc\u0103ie\u0163ii Noi',\n",
        "  'fcode': 'PPL',\n",
        "  'fcodeName': 'populated place',\n",
        "  'countryId': '617790',\n",
        "  'adminCode1': '88',\n",
        "  'geonameId': 831483,\n",
        "  'lat': '46.5325',\n",
        "  'fcl': 'P'},\n",
        " {'name': 'Roshiye',\n",
        "  'population': 0,\n",
        "  'countryName': 'Ukraine',\n",
        "  'adminName1': 'Odessa',\n",
        "  'fclName': 'city, village,...',\n",
        "  'countryCode': 'UA',\n",
        "  'lng': '30.1',\n",
        "  'toponymName': 'Roshiye',\n",
        "  'fcode': 'PPL',\n",
        "  'fcodeName': 'populated place',\n",
        "  'countryId': '690791',\n",
        "  'adminCode1': '17',\n",
        "  'geonameId': 695451,\n",
        "  'lat': '46.33333',\n",
        "  'fcl': 'P'},\n",
        " {'name': 'Roksolany',\n",
        "  'population': 0,\n",
        "  'countryName': 'Ukraine',\n",
        "  'adminName1': 'Odessa',\n",
        "  'fclName': 'city, village,...',\n",
        "  'countryCode': 'UA',\n",
        "  'lng': '30.45461',\n",
        "  'toponymName': 'Roksolany',\n",
        "  'fcode': 'PPL',\n",
        "  'fcodeName': 'populated place',\n",
        "  'countryId': '690791',\n",
        "  'adminCode1': '17',\n",
        "  'geonameId': 695513,\n",
        "  'lat': '46.17432',\n",
        "  'fcl': 'P'},\n",
        " {'name': 'Potashenkovo',\n",
        "  'population': 0,\n",
        "  'countryName': 'Ukraine',\n",
        "  'adminName1': 'Odessa',\n",
        "  'fclName': 'city, village,...',\n",
        "  'countryCode': 'UA',\n",
        "  'lng': '30.33033',\n",
        "  'toponymName': 'Potashenkovo',\n",
        "  'fcode': 'PPL',\n",
        "  'fcodeName': 'populated place',\n",
        "  'countryId': '690791',\n",
        "  'adminCode1': '17',\n",
        "  'geonameId': 696431,\n",
        "  'lat': '46.87706',\n",
        "  'fcl': 'P'},\n",
        " {'name': 'Ponyatovka',\n",
        "  'population': 0,\n",
        "  'countryName': 'Ukraine',\n",
        "  'adminName1': 'Odessa',\n",
        "  'fclName': 'city, village,...',\n",
        "  'countryCode': 'UA',\n",
        "  'lng': '30.16592',\n",
        "  'toponymName': 'Ponyatovka',\n",
        "  'fcode': 'PPL',\n",
        "  'fcodeName': 'populated place',\n",
        "  'countryId': '690791',\n",
        "  'adminCode1': '17',\n",
        "  'geonameId': 696570,\n",
        "  'lat': '46.90332',\n",
        "  'fcl': 'P'},\n",
        " {'name': 'Polevoye',\n",
        "  'population': 0,\n",
        "  'countryName': 'Ukraine',\n",
        "  'adminName1': 'Odessa',\n",
        "  'fclName': 'city, village,...',\n",
        "  'countryCode': 'UA',\n",
        "  'lng': '30.2233',\n",
        "  'toponymName': 'Polevoye',\n",
        "  'fcode': 'PPL',\n",
        "  'fcodeName': 'populated place',\n",
        "  'countryId': '690791',\n",
        "  'adminCode1': '17',\n",
        "  'geonameId': 696699,\n",
        "  'lat': '46.12577',\n",
        "  'fcl': 'P'},\n",
        " {'name': 'Podkoliny',\n",
        "  'population': 0,\n",
        "  'countryName': 'Ukraine',\n",
        "  'adminName1': 'Odessa',\n",
        "  'fclName': 'city, village,...',\n",
        "  'countryCode': 'UA',\n",
        "  'lng': '30.06667',\n",
        "  'toponymName': 'Podkoliny',\n",
        "  'fcode': 'PPL',\n",
        "  'fcodeName': 'populated place',\n",
        "  'countryId': '690791',\n",
        "  'adminCode1': '17',\n",
        "  'geonameId': 696923,\n",
        "  'lat': '47.03333',\n",
        "  'fcl': 'P'},\n",
        " {'name': 'Platonivka',\n",
        "  'population': 0,\n",
        "  'countryName': 'Ukraine',\n",
        "  'adminName1': 'Odessa',\n",
        "  'fclName': 'city, village,...',\n",
        "  'countryCode': 'UA',\n",
        "  'lng': '29.72339',\n",
        "  'toponymName': 'Platonivka',\n",
        "  'fcode': 'PPL',\n",
        "  'fcodeName': 'populated place',\n",
        "  'countryId': '690791',\n",
        "  'adminCode1': '17',\n",
        "  'geonameId': 697122,\n",
        "  'lat': '47.06454',\n",
        "  'fcl': 'P'},\n",
        " {'name': 'Petrodolinskoye',\n",
        "  'population': 0,\n",
        "  'countryName': 'Ukraine',\n",
        "  'adminName1': 'Odessa',\n",
        "  'fclName': 'city, village,...',\n",
        "  'countryCode': 'UA',\n",
        "  'lng': '30.4028',\n",
        "  'toponymName': 'Petrodolinskoye',\n",
        "  'fcode': 'PPL',\n",
        "  'fcodeName': 'populated place',\n",
        "  'countryId': '690791',\n",
        "  'adminCode1': '17',\n",
        "  'geonameId': 697445,\n",
        "  'lat': '46.4349',\n",
        "  'fcl': 'P'},\n",
        " {'name': 'Pervomayskiy',\n",
        "  'population': 0,\n",
        "  'countryName': 'Ukraine',\n",
        "  'adminName1': 'Odessa',\n",
        "  'fclName': 'city, village,...',\n",
        "  'countryCode': 'UA',\n",
        "  'lng': '30.55',\n",
        "  'toponymName': 'Pervomayskiy',\n",
        "  'fcode': 'PPL',\n",
        "  'fcodeName': 'populated place',\n",
        "  'countryId': '690791',\n",
        "  'adminCode1': '17',\n",
        "  'geonameId': 697587,\n",
        "  'lat': '46.18333',\n",
        "  'fcl': 'P'},\n",
        " {'name': 'Parkantsy',\n",
        "  'population': 0,\n",
        "  'countryName': 'Ukraine',\n",
        "  'adminName1': 'Odessa',\n",
        "  'fclName': 'city, village,...',\n",
        "  'countryCode': 'UA',\n",
        "  'lng': '30.04629',\n",
        "  'toponymName': 'Parkantsy',\n",
        "  'fcode': 'PPL',\n",
        "  'fcodeName': 'populated place',\n",
        "  'countryId': '690791',\n",
        "  'adminCode1': '17',\n",
        "  'geonameId': 697977,\n",
        "  'lat': '46.94408',\n",
        "  'fcl': 'P'},\n",
        " {'name': 'Paliyevka',\n",
        "  'population': 0,\n",
        "  'countryName': 'Ukraine',\n",
        "  'adminName1': 'Odessa',\n",
        "  'fclName': 'city, village,...',\n",
        "  'countryCode': 'UA',\n",
        "  'lng': '30.47109',\n",
        "  'toponymName': 'Paliyevka',\n",
        "  'fcode': 'PPL',\n",
        "  'fcodeName': 'populated place',\n",
        "  'countryId': '690791',\n",
        "  'adminCode1': '17',\n",
        "  'geonameId': 698044,\n",
        "  'lat': '46.6472',\n",
        "  'fcl': 'P'},\n",
        " {'name': 'Orel',\n",
        "  'population': 0,\n",
        "  'countryName': 'Ukraine',\n",
        "  'adminName1': 'Odessa',\n",
        "  'fclName': 'city, village,...',\n",
        "  'countryCode': 'UA',\n",
        "  'lng': '29.77778',\n",
        "  'toponymName': 'Orel',\n",
        "  'fcode': 'PPL',\n",
        "  'fcodeName': 'populated place',\n",
        "  'countryId': '690791',\n",
        "  'adminCode1': '17',\n",
        "  'geonameId': 698406,\n",
        "  'lat': '47.02213',\n",
        "  'fcl': 'P'},\n",
        " {'name': 'Ochererovka',\n",
        "  'population': 0,\n",
        "  'countryName': 'Ukraine',\n",
        "  'adminName1': 'Odessa',\n",
        "  'fclName': 'city, village,...',\n",
        "  'countryCode': 'UA',\n",
        "  'lng': '30.16667',\n",
        "  'toponymName': 'Ochererovka',\n",
        "  'fcode': 'PPL',\n",
        "  'fcodeName': 'populated place',\n",
        "  'countryId': '690791',\n",
        "  'adminCode1': '17',\n",
        "  'geonameId': 698761,\n",
        "  'lat': '46.73333',\n",
        "  'fcl': 'P'},\n",
        " {'name': 'Novyy Grebenik',\n",
        "  'population': 0,\n",
        "  'countryName': 'Ukraine',\n",
        "  'adminName1': 'Odessa',\n",
        "  'fclName': 'city, village,...',\n",
        "  'countryCode': 'UA',\n",
        "  'lng': '30.08367',\n",
        "  'toponymName': 'Novyy Grebenik',\n",
        "  'fcode': 'PPL',\n",
        "  'fcodeName': 'populated place',\n",
        "  'countryId': '690791',\n",
        "  'adminCode1': '17',\n",
        "  'geonameId': 698911,\n",
        "  'lat': '46.92053',\n",
        "  'fcl': 'P'},\n",
        " {'name': 'Novyy',\n",
        "  'population': 0,\n",
        "  'countryName': 'Ukraine',\n",
        "  'adminName1': 'Odessa',\n",
        "  'fclName': 'city, village,...',\n",
        "  'countryCode': 'UA',\n",
        "  'lng': '30.31667',\n",
        "  'toponymName': 'Novyy',\n",
        "  'fcode': 'PPL',\n",
        "  'fcodeName': 'populated place',\n",
        "  'countryId': '690791',\n",
        "  'adminCode1': '17',\n",
        "  'geonameId': 698963,\n",
        "  'lat': '46.6',\n",
        "  'fcl': 'P'},\n",
        " {'name': 'Novo-Vandalinovka',\n",
        "  'population': 0,\n",
        "  'countryName': 'Ukraine',\n",
        "  'adminName1': 'Odessa',\n",
        "  'fclName': 'city, village,...',\n",
        "  'countryCode': 'UA',\n",
        "  'lng': '30.5',\n",
        "  'toponymName': 'Novo-Vandalinovka',\n",
        "  'fcode': 'PPL',\n",
        "  'fcodeName': 'populated place',\n",
        "  'countryId': '690791',\n",
        "  'adminCode1': '17',\n",
        "  'geonameId': 699062,\n",
        "  'lat': '46.9',\n",
        "  'fcl': 'P'},\n",
        " {'name': 'Rostovtsevo',\n",
        "  'population': 0,\n",
        "  'countryName': 'Ukraine',\n",
        "  'adminName1': 'Odessa',\n",
        "  'fclName': 'city, village,...',\n",
        "  'countryCode': 'UA',\n",
        "  'lng': '30.28333',\n",
        "  'toponymName': 'Rostovtsevo',\n",
        "  'fcode': 'PPL',\n",
        "  'fcodeName': 'populated place',\n",
        "  'countryId': '690791',\n",
        "  'adminCode1': '17',\n",
        "  'geonameId': 699248,\n",
        "  'lat': '46.91667',\n",
        "  'fcl': 'P'},\n",
        " {'name': 'Novogradkovka',\n",
        "  'population': 0,\n",
        "  'countryName': 'Ukraine',\n",
        "  'adminName1': 'Odessa',\n",
        "  'fclName': 'city, village,...',\n",
        "  'countryCode': 'UA',\n",
        "  'lng': '30.48148',\n",
        "  'toponymName': 'Novogradkovka',\n",
        "  'fcode': 'PPL',\n",
        "  'fcodeName': 'populated place',\n",
        "  'countryId': '690791',\n",
        "  'adminCode1': '17',\n",
        "  'geonameId': 699590,\n",
        "  'lat': '46.3593',\n",
        "  'fcl': 'P'},\n",
        " {'name': 'Novo-Dmitriyevka',\n",
        "  'population': 0,\n",
        "  'countryName': 'Ukraine',\n",
        "  'adminName1': 'Odessa',\n",
        "  'fclName': 'city, village,...',\n",
        "  'countryCode': 'UA',\n",
        "  'lng': '30.29933',\n",
        "  'toponymName': 'Novo-Dmitriyevka',\n",
        "  'fcode': 'PPL',\n",
        "  'fcodeName': 'populated place',\n",
        "  'countryId': '690791',\n",
        "  'adminCode1': '17',\n",
        "  'geonameId': 699630,\n",
        "  'lat': '46.78528',\n",
        "  'fcl': 'P'},\n",
        " {'name': 'Novo-Belyayevka',\n",
        "  'population': 0,\n",
        "  'countryName': 'Ukraine',\n",
        "  'adminName1': 'Odessa',\n",
        "  'fclName': 'city, village,...',\n",
        "  'countryCode': 'UA',\n",
        "  'lng': '30.43333',\n",
        "  'toponymName': 'Novo-Belyayevka',\n",
        "  'fcode': 'PPL',\n",
        "  'fcodeName': 'populated place',\n",
        "  'countryId': '690791',\n",
        "  'adminCode1': '17',\n",
        "  'geonameId': 699666,\n",
        "  'lat': '46.55',\n",
        "  'fcl': 'P'},\n",
        " {'name': 'Dobroaleksandrovka',\n",
        "  'population': 0,\n",
        "  'countryName': 'Ukraine',\n",
        "  'adminName1': 'Odessa',\n",
        "  'fclName': 'city, village,...',\n",
        "  'countryCode': 'UA',\n",
        "  'lng': '30.4849',\n",
        "  'toponymName': 'Dobroaleksandrovka',\n",
        "  'fcode': 'PPL',\n",
        "  'fcodeName': 'populated place',\n",
        "  'countryId': '690791',\n",
        "  'adminCode1': '17',\n",
        "  'geonameId': 709916,\n",
        "  'lat': '46.33861',\n",
        "  'fcl': 'P'},\n",
        " {'name': 'Cherkesy',\n",
        "  'population': 0,\n",
        "  'countryName': 'Ukraine',\n",
        "  'adminName1': 'Odessa',\n",
        "  'fclName': 'city, village,...',\n",
        "  'countryCode': 'UA',\n",
        "  'lng': '30.21225',\n",
        "  'toponymName': 'Cherkesy',\n",
        "  'fcode': 'PPL',\n",
        "  'fcodeName': 'populated place',\n",
        "  'countryId': '690791',\n",
        "  'adminCode1': '17',\n",
        "  'geonameId': 710789,\n",
        "  'lat': '46.07815',\n",
        "  'fcl': 'P'},\n",
        " {'name': 'Buhay',\n",
        "  'population': 0,\n",
        "  'countryName': 'Ukraine',\n",
        "  'adminName1': 'Odessa',\n",
        "  'fclName': 'city, village,...',\n",
        "  'countryCode': 'UA',\n",
        "  'lng': '29.85183',\n",
        "  'toponymName': 'Buhay',\n",
        "  'fcode': 'PPL',\n",
        "  'fcodeName': 'populated place',\n",
        "  'countryId': '690791',\n",
        "  'adminCode1': '17',\n",
        "  'geonameId': 711249,\n",
        "  'lat': '46.92189',\n",
        "  'fcl': 'P'},\n",
        " {'name': 'Tsezarevka',\n",
        "  'population': 0,\n",
        "  'countryName': 'Ukraine',\n",
        "  'adminName1': 'Odessa',\n",
        "  'fclName': 'city, village,...',\n",
        "  'countryCode': 'UA',\n",
        "  'lng': '30.3',\n",
        "  'toponymName': 'Tsezarevka',\n",
        "  'fcode': 'PPL',\n",
        "  'fcodeName': 'populated place',\n",
        "  'countryId': '690791',\n",
        "  'adminCode1': '17',\n",
        "  'geonameId': 711313,\n",
        "  'lat': '47',\n",
        "  'fcl': 'P'},\n",
        " {'name': 'Bol\u2019shaya Balka',\n",
        "  'population': 0,\n",
        "  'countryName': 'Ukraine',\n",
        "  'adminName1': 'Odessa',\n",
        "  'fclName': 'city, village,...',\n",
        "  'countryCode': 'UA',\n",
        "  'lng': '30.6',\n",
        "  'toponymName': 'Bol\u2019shaya Balka',\n",
        "  'fcode': 'PPL',\n",
        "  'fcodeName': 'populated place',\n",
        "  'countryId': '690791',\n",
        "  'adminCode1': '17',\n",
        "  'geonameId': 711820,\n",
        "  'lat': '46.56667',\n",
        "  'fcl': 'P'},\n",
        " {'name': 'Betsilovo',\n",
        "  'population': 0,\n",
        "  'countryName': 'Ukraine',\n",
        "  'adminName1': 'Odessa',\n",
        "  'fclName': 'city, village,...',\n",
        "  'countryCode': 'UA',\n",
        "  'lng': '30.25058',\n",
        "  'toponymName': 'Betsilovo',\n",
        "  'fcode': 'PPL',\n",
        "  'fcodeName': 'populated place',\n",
        "  'countryId': '690791',\n",
        "  'adminCode1': '17',\n",
        "  'geonameId': 712211,\n",
        "  'lat': '46.86785',\n",
        "  'fcl': 'P'},\n",
        " {'name': 'Berbery',\n",
        "  'population': 0,\n",
        "  'countryName': 'Ukraine',\n",
        "  'adminName1': 'Odessa',\n",
        "  'fclName': 'city, village,...',\n",
        "  'countryCode': 'UA',\n",
        "  'lng': '30.28333',\n",
        "  'toponymName': 'Berbery',\n",
        "  'fcode': 'PPL',\n",
        "  'fcodeName': 'populated place',\n",
        "  'countryId': '690791',\n",
        "  'adminCode1': '17',\n",
        "  'geonameId': 712461,\n",
        "  'lat': '47.05',\n",
        "  'fcl': 'P'},\n",
        " {'name': 'Baraboy Vtoroy',\n",
        "  'population': 0,\n",
        "  'countryName': 'Ukraine',\n",
        "  'adminName1': 'Odessa',\n",
        "  'fclName': 'city, village,...',\n",
        "  'countryCode': 'UA',\n",
        "  'lng': '30.51667',\n",
        "  'toponymName': 'Baraboy Vtoroy',\n",
        "  'fcode': 'PPL',\n",
        "  'fcodeName': 'populated place',\n",
        "  'countryId': '690791',\n",
        "  'adminCode1': '17',\n",
        "  'geonameId': 712851,\n",
        "  'lat': '46.26667',\n",
        "  'fcl': 'P'},\n",
        " {'name': 'Balkovka',\n",
        "  'population': 0,\n",
        "  'countryName': 'Ukraine',\n",
        "  'adminName1': 'Odessa',\n",
        "  'fclName': 'city, village,...',\n",
        "  'countryCode': 'UA',\n",
        "  'lng': '30.5978',\n",
        "  'toponymName': 'Balkovka',\n",
        "  'fcode': 'PPL',\n",
        "  'fcodeName': 'populated place',\n",
        "  'countryId': '690791',\n",
        "  'adminCode1': '17',\n",
        "  'geonameId': 712890,\n",
        "  'lat': '46.84904',\n",
        "  'fcl': 'P'},\n",
        " {'name': 'Balkovka',\n",
        "  'population': 0,\n",
        "  'countryName': 'Ukraine',\n",
        "  'adminName1': 'Odessa',\n",
        "  'fclName': 'city, village,...',\n",
        "  'countryCode': 'UA',\n",
        "  'lng': '30.16609',\n",
        "  'toponymName': 'Balkovka',\n",
        "  'fcode': 'PPL',\n",
        "  'fcodeName': 'populated place',\n",
        "  'countryId': '690791',\n",
        "  'adminCode1': '17',\n",
        "  'geonameId': 712891,\n",
        "  'lat': '46.84846',\n",
        "  'fcl': 'P'},\n",
        " {'name': 'Bakalovo',\n",
        "  'population': 0,\n",
        "  'countryName': 'Ukraine',\n",
        "  'adminName1': 'Odessa',\n",
        "  'fclName': 'city, village,...',\n",
        "  'countryCode': 'UA',\n",
        "  'lng': '30.11524',\n",
        "  'toponymName': 'Bakalovo',\n",
        "  'fcode': 'PPL',\n",
        "  'fcodeName': 'populated place',\n",
        "  'countryId': '690791',\n",
        "  'adminCode1': '17',\n",
        "  'geonameId': 712975,\n",
        "  'lat': '46.882',\n",
        "  'fcl': 'P'},\n",
        " {'name': 'Atestovo',\n",
        "  'population': 0,\n",
        "  'countryName': 'Ukraine',\n",
        "  'adminName1': 'Odessa',\n",
        "  'fclName': 'city, village,...',\n",
        "  'countryCode': 'UA',\n",
        "  'lng': '30.548',\n",
        "  'toponymName': 'Atestovo',\n",
        "  'fcode': 'PPL',\n",
        "  'fcodeName': 'populated place',\n",
        "  'countryId': '690791',\n",
        "  'adminCode1': '17',\n",
        "  'geonameId': 713135,\n",
        "  'lat': '46.63271',\n",
        "  'fcl': 'P'},\n",
        " {'name': 'Amvrosiyevo',\n",
        "  'population': 0,\n",
        "  'countryName': 'Ukraine',\n",
        "  'adminName1': 'Odessa',\n",
        "  'fclName': 'city, village,...',\n",
        "  'countryCode': 'UA',\n",
        "  'lng': '30.08333',\n",
        "  'toponymName': 'Amvrosiyevo',\n",
        "  'fcode': 'PPL',\n",
        "  'fcodeName': 'populated place',\n",
        "  'countryId': '690791',\n",
        "  'adminCode1': '17',\n",
        "  'geonameId': 713503,\n",
        "  'lat': '46.81667',\n",
        "  'fcl': 'P'},\n",
        " {'name': 'Nalivaykovo',\n",
        "  'population': 0,\n",
        "  'countryName': 'Ukraine',\n",
        "  'adminName1': 'Odessa',\n",
        "  'fclName': 'city, village,...',\n",
        "  'countryCode': 'UA',\n",
        "  'lng': '30.10079',\n",
        "  'toponymName': 'Nalivaykovo',\n",
        "  'fcode': 'PPL',\n",
        "  'fcodeName': 'populated place',\n",
        "  'countryId': '690791',\n",
        "  'adminCode1': '17',\n",
        "  'geonameId': 700463,\n",
        "  'lat': '47.03625',\n",
        "  'fcl': 'P'},\n",
        " {'name': 'Nadlimanskoye',\n",
        "  'population': 0,\n",
        "  'countryName': 'Ukraine',\n",
        "  'adminName1': 'Odessa',\n",
        "  'fclName': 'city, village,...',\n",
        "  'countryCode': 'UA',\n",
        "  'lng': '30.33329',\n",
        "  'toponymName': 'Nadlimanskoye',\n",
        "  'fcode': 'PPL',\n",
        "  'fcodeName': 'populated place',\n",
        "  'countryId': '690791',\n",
        "  'adminCode1': '17',\n",
        "  'geonameId': 700512,\n",
        "  'lat': '46.37404',\n",
        "  'fcl': 'P'},\n",
        " {'name': 'Mirnoye',\n",
        "  'population': 0,\n",
        "  'countryName': 'Ukraine',\n",
        "  'adminName1': 'Odessa',\n",
        "  'fclName': 'city, village,...',\n",
        "  'countryCode': 'UA',\n",
        "  'lng': '30.36667',\n",
        "  'toponymName': 'Mirnoye',\n",
        "  'fcode': 'PPL',\n",
        "  'fcodeName': 'populated place',\n",
        "  'countryId': '690791',\n",
        "  'adminCode1': '17',\n",
        "  'geonameId': 701063,\n",
        "  'lat': '46.46667',\n",
        "  'fcl': 'P'},\n",
        " {'name': 'Milliardovka',\n",
        "  'population': 0,\n",
        "  'countryName': 'Ukraine',\n",
        "  'adminName1': 'Odessa',\n",
        "  'fclName': 'city, village,...',\n",
        "  'countryCode': 'UA',\n",
        "  'lng': '30.20472',\n",
        "  'toponymName': 'Milliardovka',\n",
        "  'fcode': 'PPL',\n",
        "  'fcodeName': 'populated place',\n",
        "  'countryId': '690791',\n",
        "  'adminCode1': '17',\n",
        "  'geonameId': 701112,\n",
        "  'lat': '46.75245',\n",
        "  'fcl': 'P'},\n",
        " {'name': 'Mikhaylovka',\n",
        "  'population': 0,\n",
        "  'countryName': 'Ukraine',\n",
        "  'adminName1': 'Odessa',\n",
        "  'fclName': 'city, village,...',\n",
        "  'countryCode': 'UA',\n",
        "  'lng': '30.26819',\n",
        "  'toponymName': 'Mikhaylovka',\n",
        "  'fcode': 'PPL',\n",
        "  'fcodeName': 'populated place',\n",
        "  'countryId': '690791',\n",
        "  'adminCode1': '17',\n",
        "  'geonameId': 701238,\n",
        "  'lat': '46.67733',\n",
        "  'fcl': 'P'},\n",
        " {'name': 'Matyshevka',\n",
        "  'population': 0,\n",
        "  'countryName': 'Ukraine',\n",
        "  'adminName1': 'Odessa',\n",
        "  'fclName': 'city, village,...',\n",
        "  'countryCode': 'UA',\n",
        "  'lng': '30.0548',\n",
        "  'toponymName': 'Matyshevka',\n",
        "  'fcode': 'PPL',\n",
        "  'fcodeName': 'populated place',\n",
        "  'countryId': '690791',\n",
        "  'adminCode1': '17',\n",
        "  'geonameId': 701574,\n",
        "  'lat': '46.83356',\n",
        "  'fcl': 'P'},\n",
        " {'name': 'Malolyubovka',\n",
        "  'population': 0,\n",
        "  'countryName': 'Ukraine',\n",
        "  'adminName1': 'Odessa',\n",
        "  'fclName': 'city, village,...',\n",
        "  'countryCode': 'UA',\n",
        "  'lng': '30',\n",
        "  'toponymName': 'Malolyubovka',\n",
        "  'fcode': 'PPL',\n",
        "  'fcodeName': 'populated place',\n",
        "  'countryId': '690791',\n",
        "  'adminCode1': '17',\n",
        "  'geonameId': 702068,\n",
        "  'lat': '46.81667',\n",
        "  'fcl': 'P'},\n",
        " {'name': 'Lyubotayevka',\n",
        "  'population': 0,\n",
        "  'countryName': 'Ukraine',\n",
        "  'adminName1': 'Odessa',\n",
        "  'fclName': 'city, village,...',\n",
        "  'countryCode': 'UA',\n",
        "  'lng': '30.56613',\n",
        "  'toponymName': 'Lyubotayevka',\n",
        "  'fcode': 'PPL',\n",
        "  'fcodeName': 'populated place',\n",
        "  'countryId': '690791',\n",
        "  'adminCode1': '17',\n",
        "  'geonameId': 702418,\n",
        "  'lat': '47.05399',\n",
        "  'fcl': 'P'},\n",
        " {'name': 'Krasnyy Pereselenets',\n",
        "  'population': 0,\n",
        "  'countryName': 'Ukraine',\n",
        "  'adminName1': 'Odessa',\n",
        "  'fclName': 'city, village,...',\n",
        "  'countryCode': 'UA',\n",
        "  'lng': '30.45',\n",
        "  'toponymName': 'Krasnyy Pereselenets',\n",
        "  'fcode': 'PPL',\n",
        "  'fcodeName': 'populated place',\n",
        "  'countryId': '690791',\n",
        "  'adminCode1': '17',\n",
        "  'geonameId': 704188,\n",
        "  'lat': '46.46667',\n",
        "  'fcl': 'P'},\n",
        " {'name': 'Kozlovka',\n",
        "  'population': 0,\n",
        "  'countryName': 'Ukraine',\n",
        "  'adminName1': 'Odessa',\n",
        "  'fclName': 'city, village,...',\n",
        "  'countryCode': 'UA',\n",
        "  'lng': '30.45413',\n",
        "  'toponymName': 'Kozlovka',\n",
        "  'fcode': 'PPL',\n",
        "  'fcodeName': 'populated place',\n",
        "  'countryId': '690791',\n",
        "  'adminCode1': '17',\n",
        "  'geonameId': 704536,\n",
        "  'lat': '47.06956',\n",
        "  'fcl': 'P'},\n",
        " {'name': 'Tudorovo',\n",
        "  'population': 0,\n",
        "  'countryName': 'Ukraine',\n",
        "  'adminName1': '',\n",
        "  'fclName': 'city, village,...',\n",
        "  'countryCode': 'UA',\n",
        "  'lng': '30.05',\n",
        "  'toponymName': 'Tudorovo',\n",
        "  'fcode': 'PPL',\n",
        "  'fcodeName': 'populated place',\n",
        "  'countryId': '690791',\n",
        "  'adminCode1': '00',\n",
        "  'geonameId': 686731,\n",
        "  'lat': '46.43333',\n",
        "  'fcl': 'P'},\n",
        " {'name': 'Zhelty Khutor',\n",
        "  'population': 0,\n",
        "  'countryName': 'Ukraine',\n",
        "  'adminName1': 'Odessa',\n",
        "  'fclName': 'city, village,...',\n",
        "  'countryCode': 'UA',\n",
        "  'lng': '30.46667',\n",
        "  'toponymName': 'Zhelty Khutor',\n",
        "  'fcode': 'PPL',\n",
        "  'fcodeName': 'populated place',\n",
        "  'countryId': '690791',\n",
        "  'adminCode1': '17',\n",
        "  'geonameId': 687194,\n",
        "  'lat': '46.85',\n",
        "  'fcl': 'P'},\n",
        " {'name': 'Yuzhnoye',\n",
        "  'population': 0,\n",
        "  'countryName': 'Ukraine',\n",
        "  'adminName1': 'Odessa',\n",
        "  'fclName': 'city, village,...',\n",
        "  'countryCode': 'UA',\n",
        "  'lng': '30.15',\n",
        "  'toponymName': 'Yuzhnoye',\n",
        "  'fcode': 'PPL',\n",
        "  'fcodeName': 'populated place',\n",
        "  'countryId': '690791',\n",
        "  'adminCode1': '17',\n",
        "  'geonameId': 687993,\n",
        "  'lat': '46.26667',\n",
        "  'fcl': 'P'},\n",
        " {'name': 'Yeremeyevka',\n",
        "  'population': 0,\n",
        "  'countryName': 'Ukraine',\n",
        "  'adminName1': 'Odessa',\n",
        "  'fclName': 'city, village,...',\n",
        "  'countryCode': 'UA',\n",
        "  'lng': '30.37225',\n",
        "  'toponymName': 'Yeremeyevka',\n",
        "  'fcode': 'PPL',\n",
        "  'fcodeName': 'populated place',\n",
        "  'countryId': '690791',\n",
        "  'adminCode1': '17',\n",
        "  'geonameId': 688135,\n",
        "  'lat': '46.79282',\n",
        "  'fcl': 'P'},\n",
        " {'name': 'Yakovlivka',\n",
        "  'population': 0,\n",
        "  'countryName': 'Ukraine',\n",
        "  'adminName1': 'Odessa',\n",
        "  'fclName': 'city, village,...',\n",
        "  'countryCode': 'UA',\n",
        "  'lng': '29.96121',\n",
        "  'toponymName': 'Yakovlivka',\n",
        "  'fcode': 'PPL',\n",
        "  'fcodeName': 'populated place',\n",
        "  'countryId': '690791',\n",
        "  'adminCode1': '17',\n",
        "  'geonameId': 688559,\n",
        "  'lat': '46.86347',\n",
        "  'fcl': 'P'},\n",
        " {'name': 'Vorovskiy',\n",
        "  'population': 0,\n",
        "  'countryName': 'Ukraine',\n",
        "  'adminName1': 'Odessa',\n",
        "  'fclName': 'city, village,...',\n",
        "  'countryCode': 'UA',\n",
        "  'lng': '30.4',\n",
        "  'toponymName': 'Vorovskiy',\n",
        "  'fcode': 'PPL',\n",
        "  'fcodeName': 'populated place',\n",
        "  'countryId': '690791',\n",
        "  'adminCode1': '17',\n",
        "  'geonameId': 688964,\n",
        "  'lat': '46.65',\n",
        "  'fcl': 'P'},\n",
        " {'name': 'Vinogradar\u2019',\n",
        "  'population': 0,\n",
        "  'countryName': 'Ukraine',\n",
        "  'adminName1': 'Odessa',\n",
        "  'fclName': 'city, village,...',\n",
        "  'countryCode': 'UA',\n",
        "  'lng': '30.34644',\n",
        "  'toponymName': 'Vinogradar\u2019',\n",
        "  'fcode': 'PPL',\n",
        "  'fcodeName': 'populated place',\n",
        "  'countryId': '690791',\n",
        "  'adminCode1': '17',\n",
        "  'geonameId': 689554,\n",
        "  'lat': '46.67213',\n",
        "  'fcl': 'P'},\n",
        " {'name': 'Vazhnyy',\n",
        "  'population': 0,\n",
        "  'countryName': 'Ukraine',\n",
        "  'adminName1': 'Odessa',\n",
        "  'fclName': 'city, village,...',\n",
        "  'countryCode': 'UA',\n",
        "  'lng': '30.45056',\n",
        "  'toponymName': 'Vazhnyy',\n",
        "  'fcode': 'PPL',\n",
        "  'fcodeName': 'populated place',\n",
        "  'countryId': '690791',\n",
        "  'adminCode1': '17',\n",
        "  'geonameId': 690306,\n",
        "  'lat': '46.57032',\n",
        "  'fcl': 'P'},\n",
        " {'name': 'Vakulovka',\n",
        "  'population': 0,\n",
        "  'countryName': 'Ukraine',\n",
        "  'adminName1': 'Odessa',\n",
        "  'fclName': 'city, village,...',\n",
        "  'countryCode': 'UA',\n",
        "  'lng': '30.31818',\n",
        "  'toponymName': 'Vakulovka',\n",
        "  'fcode': 'PPL',\n",
        "  'fcodeName': 'populated place',\n",
        "  'countryId': '690791',\n",
        "  'adminCode1': '17',\n",
        "  'geonameId': 690522,\n",
        "  'lat': '46.69428',\n",
        "  'fcl': 'P'},\n",
        " {'name': 'Konoplyanoye',\n",
        "  'population': 0,\n",
        "  'countryName': 'Ukraine',\n",
        "  'adminName1': 'Odessa',\n",
        "  'fclName': 'city, village,...',\n",
        "  'countryCode': 'UA',\n",
        "  'lng': '30.47812',\n",
        "  'toponymName': 'Konoplyanoye',\n",
        "  'fcode': 'PPL',\n",
        "  'fcodeName': 'populated place',\n",
        "  'countryId': '690791',\n",
        "  'adminCode1': '17',\n",
        "  'geonameId': 705139,\n",
        "  'lat': '47.04619',\n",
        "  'fcl': 'P'},\n",
        " {'name': 'Kistel\u2019nytsya',\n",
        "  'population': 0,\n",
        "  'countryName': 'Ukraine',\n",
        "  'adminName1': 'Odessa',\n",
        "  'fclName': 'city, village,...',\n",
        "  'countryCode': 'UA',\n",
        "  'lng': '29.74077',\n",
        "  'toponymName': 'Kistel\u2019nytsya',\n",
        "  'fcode': 'PPL',\n",
        "  'fcodeName': 'populated place',\n",
        "  'countryId': '690791',\n",
        "  'adminCode1': '17',\n",
        "  'geonameId': 705748,\n",
        "  'lat': '47.06438',\n",
        "  'fcl': 'P'},\n",
        " {'name': 'Khutor Shimiotovo',\n",
        "  'population': 0,\n",
        "  'countryName': 'Ukraine',\n",
        "  'adminName1': 'Odessa',\n",
        "  'fclName': 'city, village,...',\n",
        "  'countryCode': 'UA',\n",
        "  'lng': '30.46667',\n",
        "  'toponymName': 'Khutor Shimiotovo',\n",
        "  'fcode': 'PPL',\n",
        "  'fcodeName': 'populated place',\n",
        "  'countryId': '690791',\n",
        "  'adminCode1': '17',\n",
        "  'geonameId': 705986,\n",
        "  'lat': '46.83333',\n",
        "  'fcl': 'P'},\n",
        " {'name': 'Khutor Novyy Iozefstal\u2019',\n",
        "  'population': 0,\n",
        "  'countryName': 'Ukraine',\n",
        "  'adminName1': 'Odessa',\n",
        "  'fclName': 'city, village,...',\n",
        "  'countryCode': 'UA',\n",
        "  'lng': '30.48333',\n",
        "  'toponymName': 'Khutor Novyy Iozefstal\u2019',\n",
        "  'fcode': 'PPL',\n",
        "  'fcodeName': 'populated place',\n",
        "  'countryId': '690791',\n",
        "  'adminCode1': '17',\n",
        "  'geonameId': 706030,\n",
        "  'lat': '46.66667',\n",
        "  'fcl': 'P'},\n",
        " {'name': 'Khutor Betsilivs\u2019kiy',\n",
        "  'population': 0,\n",
        "  'countryName': 'Ukraine',\n",
        "  'adminName1': 'Odessa',\n",
        "  'fclName': 'city, village,...',\n",
        "  'countryCode': 'UA',\n",
        "  'lng': '30.28333',\n",
        "  'toponymName': 'Khutor Betsilivs\u2019kiy',\n",
        "  'fcode': 'PPL',\n",
        "  'fcodeName': 'populated place',\n",
        "  'countryId': '690791',\n",
        "  'adminCode1': '17',\n",
        "  'geonameId': 706128,\n",
        "  'lat': '46.86667',\n",
        "  'fcl': 'P'},\n",
        " {'name': 'Khristianovka',\n",
        "  'population': 0,\n",
        "  'countryName': 'Ukraine',\n",
        "  'adminName1': 'Odessa',\n",
        "  'fclName': 'city, village,...',\n",
        "  'countryCode': 'UA',\n",
        "  'lng': '30.43333',\n",
        "  'toponymName': 'Khristianovka',\n",
        "  'fcode': 'PPL',\n",
        "  'fcodeName': 'populated place',\n",
        "  'countryId': '690791',\n",
        "  'adminCode1': '17',\n",
        "  'geonameId': 706201,\n",
        "  'lat': '46.71667',\n",
        "  'fcl': 'P'},\n",
        " {'name': 'Kamenka',\n",
        "  'population': 0,\n",
        "  'countryName': 'Ukraine',\n",
        "  'adminName1': 'Odessa',\n",
        "  'fclName': 'city, village,...',\n",
        "  'countryCode': 'UA',\n",
        "  'lng': '30.24121',\n",
        "  'toponymName': 'Kamenka',\n",
        "  'fcode': 'PPL',\n",
        "  'fcodeName': 'populated place',\n",
        "  'countryId': '690791',\n",
        "  'adminCode1': '17',\n",
        "  'geonameId': 707069,\n",
        "  'lat': '46.63528',\n",
        "  'fcl': 'P'},\n",
        " {'name': 'Kalantayevka',\n",
        "  'population': 0,\n",
        "  'countryName': 'Ukraine',\n",
        "  'adminName1': 'Odessa',\n",
        "  'fclName': 'city, village,...',\n",
        "  'countryCode': 'UA',\n",
        "  'lng': '30.28114',\n",
        "  'toponymName': 'Kalantayevka',\n",
        "  'fcode': 'PPL',\n",
        "  'fcodeName': 'populated place',\n",
        "  'countryId': '690791',\n",
        "  'adminCode1': '17',\n",
        "  'geonameId': 707225,\n",
        "  'lat': '46.7208',\n",
        "  'fcl': 'P'},\n",
        " {'name': 'Iosipovka',\n",
        "  'population': 0,\n",
        "  'countryName': 'Ukraine',\n",
        "  'adminName1': 'Odessa',\n",
        "  'fclName': 'city, village,...',\n",
        "  'countryCode': 'UA',\n",
        "  'lng': '30.43728',\n",
        "  'toponymName': 'Iosipovka',\n",
        "  'fcode': 'PPL',\n",
        "  'fcodeName': 'populated place',\n",
        "  'countryId': '690791',\n",
        "  'adminCode1': '17',\n",
        "  'geonameId': 707582,\n",
        "  'lat': '46.40623',\n",
        "  'fcl': 'P'},\n",
        " {'name': 'Hnylyakove',\n",
        "  'population': 0,\n",
        "  'countryName': 'Ukraine',\n",
        "  'adminName1': 'Odessa',\n",
        "  'fclName': 'city, village,...',\n",
        "  'countryCode': 'UA',\n",
        "  'lng': '30.55',\n",
        "  'toponymName': 'Hnylyakove',\n",
        "  'fcode': 'PPL',\n",
        "  'fcodeName': 'populated place',\n",
        "  'countryId': '690791',\n",
        "  'adminCode1': '17',\n",
        "  'geonameId': 707756,\n",
        "  'lat': '46.58333',\n",
        "  'fcl': 'P'},\n",
        " {'name': 'Gribovka',\n",
        "  'population': 450,\n",
        "  'countryName': 'Ukraine',\n",
        "  'adminName1': 'Odessa',\n",
        "  'fclName': 'city, village,...',\n",
        "  'countryCode': 'UA',\n",
        "  'lng': '30.56601',\n",
        "  'toponymName': 'Gribovka',\n",
        "  'fcode': 'PPL',\n",
        "  'fcodeName': 'populated place',\n",
        "  'countryId': '690791',\n",
        "  'adminCode1': '17',\n",
        "  'geonameId': 708126,\n",
        "  'lat': '46.20941',\n",
        "  'fcl': 'P'},\n",
        " {'name': 'Hrebenyky',\n",
        "  'population': 0,\n",
        "  'countryName': 'Ukraine',\n",
        "  'adminName1': 'Odessa',\n",
        "  'fclName': 'city, village,...',\n",
        "  'countryCode': 'UA',\n",
        "  'lng': '29.80777',\n",
        "  'toponymName': 'Hrebenyky',\n",
        "  'fcode': 'PPL',\n",
        "  'fcodeName': 'populated place',\n",
        "  'countryId': '690791',\n",
        "  'adminCode1': '17',\n",
        "  'geonameId': 708185,\n",
        "  'lat': '46.8897',\n",
        "  'fcl': 'P'},\n",
        " {'name': 'Hayivka',\n",
        "  'population': 0,\n",
        "  'countryName': 'Ukraine',\n",
        "  'adminName1': 'Odessa',\n",
        "  'fclName': 'city, village,...',\n",
        "  'countryCode': 'UA',\n",
        "  'lng': '29.9262',\n",
        "  'toponymName': 'Hayivka',\n",
        "  'fcode': 'PPL',\n",
        "  'fcodeName': 'populated place',\n",
        "  'countryId': '690791',\n",
        "  'adminCode1': '17',\n",
        "  'geonameId': 708906,\n",
        "  'lat': '46.91158',\n",
        "  'fcl': 'P'},\n",
        " {'name': 'Turlaki',\n",
        "  'population': 0,\n",
        "  'countryName': 'Ukraine',\n",
        "  'adminName1': 'Odessa',\n",
        "  'fclName': 'city, village,...',\n",
        "  'countryCode': 'UA',\n",
        "  'lng': '30.25',\n",
        "  'toponymName': 'Turlaki',\n",
        "  'fcode': 'PPL',\n",
        "  'fcodeName': 'populated place',\n",
        "  'countryId': '690791',\n",
        "  'adminCode1': '17',\n",
        "  'geonameId': 690955,\n",
        "  'lat': '46.18333',\n",
        "  'fcl': 'P'},\n",
        " {'name': 'Tamarovka',\n",
        "  'population': 0,\n",
        "  'countryName': 'Ukraine',\n",
        "  'adminName1': 'Odessa',\n",
        "  'fclName': 'city, village,...',\n",
        "  'countryCode': 'UA',\n",
        "  'lng': '30.08333',\n",
        "  'toponymName': 'Tamarovka',\n",
        "  'fcode': 'PPL',\n",
        "  'fcodeName': 'populated place',\n",
        "  'countryId': '690791',\n",
        "  'adminCode1': '17',\n",
        "  'geonameId': 691928,\n",
        "  'lat': '46.78333',\n",
        "  'fcl': 'P'},\n",
        " {'name': 'Sukhomlinovo',\n",
        "  'population': 0,\n",
        "  'countryName': 'Ukraine',\n",
        "  'adminName1': 'Odessa',\n",
        "  'fclName': 'city, village,...',\n",
        "  'countryCode': 'UA',\n",
        "  'lng': '30.3628',\n",
        "  'toponymName': 'Sukhomlinovo',\n",
        "  'fcode': 'PPL',\n",
        "  'fcodeName': 'populated place',\n",
        "  'countryId': '690791',\n",
        "  'adminCode1': '17',\n",
        "  'geonameId': 692242,\n",
        "  'lat': '46.97638',\n",
        "  'fcl': 'P'},\n",
        " {'name': 'Strasburg',\n",
        "  'population': 0,\n",
        "  'countryName': 'Ukraine',\n",
        "  'adminName1': 'Odessa',\n",
        "  'fclName': 'city, village,...',\n",
        "  'countryCode': 'UA',\n",
        "  'lng': '30.06667',\n",
        "  'toponymName': 'Strasburg',\n",
        "  'fcode': 'PPL',\n",
        "  'fcodeName': 'populated place',\n",
        "  'countryId': '690791',\n",
        "  'adminCode1': '17',\n",
        "  'geonameId': 692462,\n",
        "  'lat': '46.08333',\n",
        "  'fcl': 'P'},\n",
        " {'name': 'Stepanivka',\n",
        "  'population': 1720,\n",
        "  'countryName': 'Ukraine',\n",
        "  'adminName1': 'Odessa',\n",
        "  'fclName': 'city, village,...',\n",
        "  'countryCode': 'UA',\n",
        "  'lng': '29.98684',\n",
        "  'toponymName': 'Stepanivka',\n",
        "  'fcode': 'PPL',\n",
        "  'fcodeName': 'populated place',\n",
        "  'countryId': '690791',\n",
        "  'adminCode1': '17',\n",
        "  'geonameId': 692604,\n",
        "  'lat': '46.79489',\n",
        "  'fcl': 'P'},\n",
        " {'name': 'Slobodzeya',\n",
        "  'population': 0,\n",
        "  'countryName': 'Ukraine',\n",
        "  'adminName1': 'Odessa',\n",
        "  'fclName': 'city, village,...',\n",
        "  'countryCode': 'UA',\n",
        "  'lng': '30.1',\n",
        "  'toponymName': 'Slobodzeya',\n",
        "  'fcode': 'PPL',\n",
        "  'fcodeName': 'populated place',\n",
        "  'countryId': '690791',\n",
        "  'adminCode1': '17',\n",
        "  'geonameId': 693483,\n",
        "  'lat': '46.88333',\n",
        "  'fcl': 'P'},\n",
        " {'name': 'Shirokiy',\n",
        "  'population': 0,\n",
        "  'countryName': 'Ukraine',\n",
        "  'adminName1': 'Odessa',\n",
        "  'fclName': 'city, village,...',\n",
        "  'countryCode': 'UA',\n",
        "  'lng': '30.03605',\n",
        "  'toponymName': 'Shirokiy',\n",
        "  'fcode': 'PPL',\n",
        "  'fcodeName': 'populated place',\n",
        "  'countryId': '690791',\n",
        "  'adminCode1': '17',\n",
        "  'geonameId': 694052,\n",
        "  'lat': '46.89763',\n",
        "  'fcl': 'P'},\n",
        " {'name': 'Shirokaya Balka',\n",
        "  'population': 0,\n",
        "  'countryName': 'Ukraine',\n",
        "  'adminName1': 'Odessa',\n",
        "  'fclName': 'city, village,...',\n",
        "  'countryCode': 'UA',\n",
        "  'lng': '30.35385',\n",
        "  'toponymName': 'Shirokaya Balka',\n",
        "  'fcode': 'PPL',\n",
        "  'fcodeName': 'populated place',\n",
        "  'countryId': '690791',\n",
        "  'adminCode1': '17',\n",
        "  'geonameId': 694062,\n",
        "  'lat': '46.53509',\n",
        "  'fcl': 'P'},\n",
        " {'name': 'Shimke',\n",
        "  'population': 0,\n",
        "  'countryName': 'Ukraine',\n",
        "  'adminName1': 'Odessa',\n",
        "  'fclName': 'city, village,...',\n",
        "  'countryCode': 'UA',\n",
        "  'lng': '29.96667',\n",
        "  'toponymName': 'Shimke',\n",
        "  'fcode': 'PPL',\n",
        "  'fcodeName': 'populated place',\n",
        "  'countryId': '690791',\n",
        "  'adminCode1': '17',\n",
        "  'geonameId': 694081,\n",
        "  'lat': '46.15',\n",
        "  'fcl': 'P'},\n",
        " {'name': 'Shevchenkovo',\n",
        "  'population': 0,\n",
        "  'countryName': 'Ukraine',\n",
        "  'adminName1': 'Odessa',\n",
        "  'fclName': 'city, village,...',\n",
        "  'countryCode': 'UA',\n",
        "  'lng': '30.09965',\n",
        "  'toponymName': 'Shevchenkovo',\n",
        "  'fcode': 'PPL',\n",
        "  'fcodeName': 'populated place',\n",
        "  'countryId': '690791',\n",
        "  'adminCode1': '17',\n",
        "  'geonameId': 694147,\n",
        "  'lat': '46.9409',\n",
        "  'fcl': 'P'},\n",
        " {'name': 'Sherovo',\n",
        "  'population': 0,\n",
        "  'countryName': 'Ukraine',\n",
        "  'adminName1': 'Odessa',\n",
        "  'fclName': 'city, village,...',\n",
        "  'countryCode': 'UA',\n",
        "  'lng': '30.4803',\n",
        "  'toponymName': 'Sherovo',\n",
        "  'fcode': 'PPL',\n",
        "  'fcodeName': 'populated place',\n",
        "  'countryId': '690791',\n",
        "  'adminCode1': '17',\n",
        "  'geonameId': 694207,\n",
        "  'lat': '47.01067',\n",
        "  'fcl': 'P'},\n",
        " {'name': 'Shcherbanka',\n",
        "  'population': 0,\n",
        "  'countryName': 'Ukraine',\n",
        "  'adminName1': 'Odessa',\n",
        "  'fclName': 'city, village,...',\n",
        "  'countryCode': 'UA',\n",
        "  'lng': '30.18636',\n",
        "  'toponymName': 'Shcherbanka',\n",
        "  'fcode': 'PPL',\n",
        "  'fcodeName': 'populated place',\n",
        "  'countryId': '690791',\n",
        "  'adminCode1': '17',\n",
        "  'geonameId': 694294,\n",
        "  'lat': '46.69338',\n",
        "  'fcl': 'P'},\n",
        " {'name': 'Sekretar\u00ebvka',\n",
        "  'population': 0,\n",
        "  'countryName': 'Ukraine',\n",
        "  'adminName1': 'Odessa',\n",
        "  'fclName': 'city, village,...',\n",
        "  'countryCode': 'UA',\n",
        "  'lng': '30.28443',\n",
        "  'toponymName': 'Sekretar\u00ebvka',\n",
        "  'fcode': 'PPL',\n",
        "  'fcodeName': 'populated place',\n",
        "  'countryId': '690791',\n",
        "  'adminCode1': '17',\n",
        "  'geonameId': 694701,\n",
        "  'lat': '46.66177',\n",
        "  'fcl': 'P'},\n",
        " {'name': 'Stepove',\n",
        "  'population': 1549,\n",
        "  'countryName': 'Ukraine',\n",
        "  'adminName1': 'Odessa',\n",
        "  'fclName': 'city, village,...',\n",
        "  'countryCode': 'UA',\n",
        "  'lng': '30.07919',\n",
        "  'toponymName': 'Stepove',\n",
        "  'fcode': 'PPL',\n",
        "  'fcodeName': 'populated place',\n",
        "  'countryId': '690791',\n",
        "  'adminCode1': '17',\n",
        "  'geonameId': 7303923,\n",
        "  'lat': '46.70385',\n",
        "  'fcl': 'P'},\n",
        " {'name': 'Adamovka',\n",
        "  'population': 0,\n",
        "  'countryName': 'Ukraine',\n",
        "  'adminName1': 'Odessa',\n",
        "  'fclName': 'city, village,...',\n",
        "  'countryCode': 'UA',\n",
        "  'lng': '30.50064',\n",
        "  'toponymName': 'Adamovka',\n",
        "  'fcode': 'PPL',\n",
        "  'fcodeName': 'populated place',\n",
        "  'countryId': '690791',\n",
        "  'adminCode1': '17',\n",
        "  'geonameId': 713804,\n",
        "  'lat': '46.89695',\n",
        "  'fcl': 'P'},\n",
        " {'name': 'Safronovka',\n",
        "  'population': 0,\n",
        "  'countryName': 'Moldova',\n",
        "  'adminName1': 'St\u00eenga Nistrului',\n",
        "  'fclName': 'city, village,...',\n",
        "  'countryCode': 'MD',\n",
        "  'lng': '29.85',\n",
        "  'toponymName': 'Safronovka',\n",
        "  'fcode': 'PPL',\n",
        "  'fcodeName': 'populated place',\n",
        "  'countryId': '617790',\n",
        "  'adminCode1': '58',\n",
        "  'geonameId': 617476,\n",
        "  'lat': '46.83333',\n",
        "  'fcl': 'P'},\n",
        " {'name': 'Mykhaylivka',\n",
        "  'population': 0,\n",
        "  'countryName': 'Ukraine',\n",
        "  'adminName1': 'Odessa',\n",
        "  'fclName': 'city, village,...',\n",
        "  'countryCode': 'UA',\n",
        "  'lng': '29.86556',\n",
        "  'toponymName': 'Mykhaylivka',\n",
        "  'fcode': 'PPL',\n",
        "  'fcodeName': 'populated place',\n",
        "  'countryId': '690791',\n",
        "  'adminCode1': '17',\n",
        "  'geonameId': 864866,\n",
        "  'lat': '47.0675',\n",
        "  'fcl': 'P'},\n",
        " {'name': 'Galka',\n",
        "  'population': 0,\n",
        "  'countryName': 'Ukraine',\n",
        "  'adminName1': 'Odessa',\n",
        "  'fclName': 'city, village,...',\n",
        "  'countryCode': 'UA',\n",
        "  'lng': '29.84472',\n",
        "  'toponymName': 'Galka',\n",
        "  'fcode': 'PPL',\n",
        "  'fcodeName': 'populated place',\n",
        "  'countryId': '690791',\n",
        "  'adminCode1': '17',\n",
        "  'geonameId': 864867,\n",
        "  'lat': '47.06722',\n",
        "  'fcl': 'P'},\n",
        " {'name': 'Radostnoye',\n",
        "  'population': 0,\n",
        "  'countryName': 'Ukraine',\n",
        "  'adminName1': 'Odessa',\n",
        "  'fclName': 'city, village,...',\n",
        "  'countryCode': 'UA',\n",
        "  'lng': '30.33928',\n",
        "  'toponymName': 'Radostnoye',\n",
        "  'fcode': 'PPL',\n",
        "  'fcodeName': 'populated place',\n",
        "  'countryId': '690791',\n",
        "  'adminCode1': '17',\n",
        "  'geonameId': 695903,\n",
        "  'lat': '47.0002',\n",
        "  'fcl': 'P'},\n",
        " {'name': 'Prokhorovo',\n",
        "  'population': 0,\n",
        "  'countryName': 'Ukraine',\n",
        "  'adminName1': 'Odessa',\n",
        "  'fclName': 'city, village,...',\n",
        "  'countryCode': 'UA',\n",
        "  'lng': '30.46722',\n",
        "  'toponymName': 'Prokhorovo',\n",
        "  'fcode': 'PPL',\n",
        "  'fcodeName': 'populated place',\n",
        "  'countryId': '690791',\n",
        "  'adminCode1': '17',\n",
        "  'geonameId': 696184,\n",
        "  'lat': '47.00484',\n",
        "  'fcl': 'P'},\n",
        " {'name': 'Pokrovka',\n",
        "  'population': 453,\n",
        "  'countryName': 'Ukraine',\n",
        "  'adminName1': 'Odessa',\n",
        "  'fclName': 'city, village,...',\n",
        "  'countryCode': 'UA',\n",
        "  'lng': '30.13893',\n",
        "  'toponymName': 'Pokrovka',\n",
        "  'fcode': 'PPL',\n",
        "  'fcodeName': 'populated place',\n",
        "  'countryId': '690791',\n",
        "  'adminCode1': '17',\n",
        "  'geonameId': 696738,\n",
        "  'lat': '46.78055',\n",
        "  'fcl': 'P'},\n",
        " {'name': 'Petrovskiy',\n",
        "  'population': 0,\n",
        "  'countryName': 'Ukraine',\n",
        "  'adminName1': 'Odessa',\n",
        "  'fclName': 'city, village,...',\n",
        "  'countryCode': 'UA',\n",
        "  'lng': '30.0298',\n",
        "  'toponymName': 'Petrovskiy',\n",
        "  'fcode': 'PPL',\n",
        "  'fcodeName': 'populated place',\n",
        "  'countryId': '690791',\n",
        "  'adminCode1': '17',\n",
        "  'geonameId': 697315,\n",
        "  'lat': '46.94552',\n",
        "  'fcl': 'P'},\n",
        " {'name': 'Petrovskiy',\n",
        "  'population': 0,\n",
        "  'countryName': 'Ukraine',\n",
        "  'adminName1': 'Odessa',\n",
        "  'fclName': 'city, village,...',\n",
        "  'countryCode': 'UA',\n",
        "  'lng': '30.37118',\n",
        "  'toponymName': 'Petrovskiy',\n",
        "  'fcode': 'PPL',\n",
        "  'fcodeName': 'populated place',\n",
        "  'countryId': '690791',\n",
        "  'adminCode1': '17',\n",
        "  'geonameId': 697316,\n",
        "  'lat': '46.58718',\n",
        "  'fcl': 'P'},\n",
        " {'name': 'Ol\u2019gino',\n",
        "  'population': 0,\n",
        "  'countryName': 'Ukraine',\n",
        "  'adminName1': 'Odessa',\n",
        "  'fclName': 'city, village,...',\n",
        "  'countryCode': 'UA',\n",
        "  'lng': '30.46667',\n",
        "  'toponymName': 'Ol\u2019gino',\n",
        "  'fcode': 'PPL',\n",
        "  'fcodeName': 'populated place',\n",
        "  'countryId': '690791',\n",
        "  'adminCode1': '17',\n",
        "  'geonameId': 698581,\n",
        "  'lat': '47',\n",
        "  'fcl': 'P'},\n",
        " {'name': 'Novo-Yekaterinovka',\n",
        "  'population': 0,\n",
        "  'countryName': 'Ukraine',\n",
        "  'adminName1': 'Odessa',\n",
        "  'fclName': 'city, village,...',\n",
        "  'countryCode': 'UA',\n",
        "  'lng': '29.75889',\n",
        "  'toponymName': 'Novo-Yekaterinovka',\n",
        "  'fcode': 'PPL',\n",
        "  'fcodeName': 'populated place',\n",
        "  'countryId': '690791',\n",
        "  'adminCode1': '17',\n",
        "  'geonameId': 699010,\n",
        "  'lat': '46.9925',\n",
        "  'fcl': 'P'},\n",
        " {'name': 'Novo-Kurtivka',\n",
        "  'population': 0,\n",
        "  'countryName': 'Ukraine',\n",
        "  'adminName1': 'Odessa',\n",
        "  'fclName': 'city, village,...',\n",
        "  'countryCode': 'UA',\n",
        "  'lng': '30.25',\n",
        "  'toponymName': 'Novo-Kurtivka',\n",
        "  'fcode': 'PPL',\n",
        "  'fcodeName': 'populated place',\n",
        "  'countryId': '690791',\n",
        "  'adminCode1': '17',\n",
        "  'geonameId': 699490,\n",
        "  'lat': '46.78333',\n",
        "  'fcl': 'P'},\n",
        " {'name': 'Novo-Antonivka',\n",
        "  'population': 0,\n",
        "  'countryName': 'Ukraine',\n",
        "  'adminName1': 'Odessa',\n",
        "  'fclName': 'city, village,...',\n",
        "  'countryCode': 'UA',\n",
        "  'lng': '30.1',\n",
        "  'toponymName': 'Novo-Antonivka',\n",
        "  'fcode': 'PPL',\n",
        "  'fcodeName': 'populated place',\n",
        "  'countryId': '690791',\n",
        "  'adminCode1': '17',\n",
        "  'geonameId': 699687,\n",
        "  'lat': '46.76667',\n",
        "  'fcl': 'P'},\n",
        " {'name': 'Novaya Milolyubovka',\n",
        "  'population': 0,\n",
        "  'countryName': 'Ukraine',\n",
        "  'adminName1': 'Odessa',\n",
        "  'fclName': 'city, village,...',\n",
        "  'countryCode': 'UA',\n",
        "  'lng': '30.06667',\n",
        "  'toponymName': 'Novaya Milolyubovka',\n",
        "  'fcode': 'PPL',\n",
        "  'fcodeName': 'populated place',\n",
        "  'countryId': '690791',\n",
        "  'adminCode1': '17',\n",
        "  'geonameId': 699819,\n",
        "  'lat': '46.81667',\n",
        "  'fcl': 'P'},\n",
        " {'name': 'Novaya Emetovka',\n",
        "  'population': 0,\n",
        "  'countryName': 'Ukraine',\n",
        "  'adminName1': 'Odessa',\n",
        "  'fclName': 'city, village,...',\n",
        "  'countryCode': 'UA',\n",
        "  'lng': '30.53255',\n",
        "  'toponymName': 'Novaya Emetovka',\n",
        "  'fcode': 'PPL',\n",
        "  'fcodeName': 'populated place',\n",
        "  'countryId': '690791',\n",
        "  'adminCode1': '17',\n",
        "  'geonameId': 699863,\n",
        "  'lat': '46.73109',\n",
        "  'fcl': 'P'},\n",
        " {'name': 'Novaya Betsilivka',\n",
        "  'population': 0,\n",
        "  'countryName': 'Ukraine',\n",
        "  'adminName1': 'Odessa',\n",
        "  'fclName': 'city, village,...',\n",
        "  'countryCode': 'UA',\n",
        "  'lng': '30.23333',\n",
        "  'toponymName': 'Novaya Betsilivka',\n",
        "  'fcode': 'PPL',\n",
        "  'fcodeName': 'populated place',\n",
        "  'countryId': '690791',\n",
        "  'adminCode1': '17',\n",
        "  'geonameId': 699884,\n",
        "  'lat': '46.88333',\n",
        "  'fcl': 'P'},\n",
        " {'name': 'Fominka',\n",
        "  'population': 0,\n",
        "  'countryName': 'Ukraine',\n",
        "  'adminName1': 'Odessa',\n",
        "  'fclName': 'city, village,...',\n",
        "  'countryCode': 'UA',\n",
        "  'lng': '30.45',\n",
        "  'toponymName': 'Fominka',\n",
        "  'fcode': 'PPL',\n",
        "  'fcodeName': 'populated place',\n",
        "  'countryId': '690791',\n",
        "  'adminCode1': '17',\n",
        "  'geonameId': 709117,\n",
        "  'lat': '46.7',\n",
        "  'fcl': 'P'},\n",
        " {'name': 'Dobrozhanovo',\n",
        "  'population': 0,\n",
        "  'countryName': 'Ukraine',\n",
        "  'adminName1': 'Odessa',\n",
        "  'fclName': 'city, village,...',\n",
        "  'countryCode': 'UA',\n",
        "  'lng': '30.335',\n",
        "  'toponymName': 'Dobrozhanovo',\n",
        "  'fcode': 'PPL',\n",
        "  'fcodeName': 'populated place',\n",
        "  'countryId': '690791',\n",
        "  'adminCode1': '17',\n",
        "  'geonameId': 709863,\n",
        "  'lat': '46.53775',\n",
        "  'fcl': 'P'},\n",
        " {'name': 'D\u00ebminsk',\n",
        "  'population': 0,\n",
        "  'countryName': 'Ukraine',\n",
        "  'adminName1': 'Odessa',\n",
        "  'fclName': 'city, village,...',\n",
        "  'countryCode': 'UA',\n",
        "  'lng': '29.95278',\n",
        "  'toponymName': 'D\u00ebminsk',\n",
        "  'fcode': 'PPL',\n",
        "  'fcodeName': 'populated place',\n",
        "  'countryId': '690791',\n",
        "  'adminCode1': '17',\n",
        "  'geonameId': 710177,\n",
        "  'lat': '46.88528',\n",
        "  'fcl': 'P'},\n",
        " {'name': 'Danilovka',\n",
        "  'population': 0,\n",
        "  'countryName': 'Ukraine',\n",
        "  'adminName1': 'Odessa',\n",
        "  'fclName': 'city, village,...',\n",
        "  'countryCode': 'UA',\n",
        "  'lng': '30.12879',\n",
        "  'toponymName': 'Danilovka',\n",
        "  'fcode': 'PPL',\n",
        "  'fcodeName': 'populated place',\n",
        "  'countryId': '690791',\n",
        "  'adminCode1': '17',\n",
        "  'geonameId': 710296,\n",
        "  'lat': '46.99307',\n",
        "  'fcl': 'P'},\n",
        " {'name': 'Dal\u2019nik',\n",
        "  'population': 0,\n",
        "  'countryName': 'Ukraine',\n",
        "  'adminName1': 'Odessa',\n",
        "  'fclName': 'city, village,...',\n",
        "  'countryCode': 'UA',\n",
        "  'lng': '30.53021',\n",
        "  'toponymName': 'Dal\u2019nik',\n",
        "  'fcode': 'PPL',\n",
        "  'fcodeName': 'populated place',\n",
        "  'countryId': '690791',\n",
        "  'adminCode1': '17',\n",
        "  'geonameId': 710317,\n",
        "  'lat': '46.22758',\n",
        "  'fcl': 'P'},\n",
        " {'name': 'Dachnoye',\n",
        "  'population': 0,\n",
        "  'countryName': 'Ukraine',\n",
        "  'adminName1': 'Odessa',\n",
        "  'fclName': 'city, village,...',\n",
        "  'countryCode': 'UA',\n",
        "  'lng': '30.54823',\n",
        "  'toponymName': 'Dachnoye',\n",
        "  'fcode': 'PPL',\n",
        "  'fcodeName': 'populated place',\n",
        "  'countryId': '690791',\n",
        "  'adminCode1': '17',\n",
        "  'geonameId': 710333,\n",
        "  'lat': '46.58442',\n",
        "  'fcl': 'P'},\n",
        " {'name': 'Buzinovo',\n",
        "  'population': 0,\n",
        "  'countryName': 'Ukraine',\n",
        "  'adminName1': 'Odessa',\n",
        "  'fclName': 'city, village,...',\n",
        "  'countryCode': 'UA',\n",
        "  'lng': '30.48569',\n",
        "  'toponymName': 'Buzinovo',\n",
        "  'fcode': 'PPL',\n",
        "  'fcodeName': 'populated place',\n",
        "  'countryId': '690791',\n",
        "  'adminCode1': '17',\n",
        "  'geonameId': 711057,\n",
        "  'lat': '46.98762',\n",
        "  'fcl': 'P'},\n",
        " {'name': 'Budyachki',\n",
        "  'population': 0,\n",
        "  'countryName': 'Ukraine',\n",
        "  'adminName1': 'Odessa',\n",
        "  'fclName': 'city, village,...',\n",
        "  'countryCode': 'UA',\n",
        "  'lng': '30.35396',\n",
        "  'toponymName': 'Budyachki',\n",
        "  'fcode': 'PPL',\n",
        "  'fcodeName': 'populated place',\n",
        "  'countryId': '690791',\n",
        "  'adminCode1': '17',\n",
        "  'geonameId': 711262,\n",
        "  'lat': '46.69745',\n",
        "  'fcl': 'P'},\n",
        " {'name': 'Broshevanovka',\n",
        "  'population': 0,\n",
        "  'countryName': 'Ukraine',\n",
        "  'adminName1': 'Odessa',\n",
        "  'fclName': 'city, village,...',\n",
        "  'countryCode': 'UA',\n",
        "  'lng': '30.16667',\n",
        "  'toponymName': 'Broshevanovka',\n",
        "  'fcode': 'PPL',\n",
        "  'fcodeName': 'populated place',\n",
        "  'countryId': '690791',\n",
        "  'adminCode1': '17',\n",
        "  'geonameId': 711402,\n",
        "  'lat': '47.06667',\n",
        "  'fcl': 'P'},\n",
        " {'name': 'Brinovka',\n",
        "  'population': 0,\n",
        "  'countryName': 'Ukraine',\n",
        "  'adminName1': 'Odessa',\n",
        "  'fclName': 'city, village,...',\n",
        "  'countryCode': 'UA',\n",
        "  'lng': '30.38217',\n",
        "  'toponymName': 'Brinovka',\n",
        "  'fcode': 'PPL',\n",
        "  'fcodeName': 'populated place',\n",
        "  'countryId': '690791',\n",
        "  'adminCode1': '17',\n",
        "  'geonameId': 711432,\n",
        "  'lat': '46.75993',\n",
        "  'fcl': 'P'},\n",
        " {'name': 'Bol\u2019shaya Karpivka',\n",
        "  'population': 0,\n",
        "  'countryName': 'Ukraine',\n",
        "  'adminName1': 'Odessa',\n",
        "  'fclName': 'city, village,...',\n",
        "  'countryCode': 'UA',\n",
        "  'lng': '30.26667',\n",
        "  'toponymName': 'Bol\u2019shaya Karpivka',\n",
        "  'fcode': 'PPL',\n",
        "  'fcodeName': 'populated place',\n",
        "  'countryId': '690791',\n",
        "  'adminCode1': '17',\n",
        "  'geonameId': 711801,\n",
        "  'lat': '46.78333',\n",
        "  'fcl': 'P'},\n",
        " {'name': \"Bol'shaya F\u00ebdorovka\",\n",
        "  'population': 0,\n",
        "  'countryName': 'Ukraine',\n",
        "  'adminName1': 'Odessa',\n",
        "  'fclName': 'city, village,...',\n",
        "  'countryCode': 'UA',\n",
        "  'lng': '29.94694',\n",
        "  'toponymName': \"Bol'shaya F\u00ebdorovka\",\n",
        "  'fcode': 'PPL',\n",
        "  'fcodeName': 'populated place',\n",
        "  'countryId': '690791',\n",
        "  'adminCode1': '17',\n",
        "  'geonameId': 711807,\n",
        "  'lat': '46.87611',\n",
        "  'fcl': 'P'},\n",
        " {'name': 'Bogunovo',\n",
        "  'population': 0,\n",
        "  'countryName': 'Ukraine',\n",
        "  'adminName1': 'Odessa',\n",
        "  'fclName': 'city, village,...',\n",
        "  'countryCode': 'UA',\n",
        "  'lng': '30.46069',\n",
        "  'toponymName': 'Bogunovo',\n",
        "  'fcode': 'PPL',\n",
        "  'fcodeName': 'populated place',\n",
        "  'countryId': '690791',\n",
        "  'adminCode1': '17',\n",
        "  'geonameId': 711871,\n",
        "  'lat': '47.0275',\n",
        "  'fcl': 'P'},\n",
        " {'name': 'Bognatovka',\n",
        "  'population': 0,\n",
        "  'countryName': 'Ukraine',\n",
        "  'adminName1': 'Odessa',\n",
        "  'fclName': 'city, village,...',\n",
        "  'countryCode': 'UA',\n",
        "  'lng': '30.48334',\n",
        "  'toponymName': 'Bognatovka',\n",
        "  'fcode': 'PPL',\n",
        "  'fcodeName': 'populated place',\n",
        "  'countryId': '690791',\n",
        "  'adminCode1': '17',\n",
        "  'geonameId': 711902,\n",
        "  'lat': '46.7748',\n",
        "  'fcl': 'P'},\n",
        " {'name': 'Blonskoye',\n",
        "  'population': 0,\n",
        "  'countryName': 'Ukraine',\n",
        "  'adminName1': 'Odessa',\n",
        "  'fclName': 'city, village,...',\n",
        "  'countryCode': 'UA',\n",
        "  'lng': '30.44443',\n",
        "  'toponymName': 'Blonskoye',\n",
        "  'fcode': 'PPL',\n",
        "  'fcodeName': 'populated place',\n",
        "  'countryId': '690791',\n",
        "  'adminCode1': '17',\n",
        "  'geonameId': 712038,\n",
        "  'lat': '46.86502',\n",
        "  'fcl': 'P'},\n",
        " {'name': 'Belousovka',\n",
        "  'population': 0,\n",
        "  'countryName': 'Ukraine',\n",
        "  'adminName1': 'Odessa',\n",
        "  'fclName': 'city, village,...',\n",
        "  'countryCode': 'UA',\n",
        "  'lng': '30.35',\n",
        "  'toponymName': 'Belousovka',\n",
        "  'fcode': 'PPL',\n",
        "  'fcodeName': 'populated place',\n",
        "  'countryId': '690791',\n",
        "  'adminCode1': '17',\n",
        "  'geonameId': 712536,\n",
        "  'lat': '46.83333',\n",
        "  'fcl': 'P'},\n",
        " {'name': 'Belka',\n",
        "  'population': 0,\n",
        "  'countryName': 'Ukraine',\n",
        "  'adminName1': 'Odessa',\n",
        "  'fclName': 'city, village,...',\n",
        "  'countryCode': 'UA',\n",
        "  'lng': '30.42674',\n",
        "  'toponymName': 'Belka',\n",
        "  'fcode': 'PPL',\n",
        "  'fcodeName': 'populated place',\n",
        "  'countryId': '690791',\n",
        "  'adminCode1': '17',\n",
        "  'geonameId': 712609,\n",
        "  'lat': '46.89812',\n",
        "  'fcl': 'P'},\n",
        " {'name': 'Baranovo',\n",
        "  'population': 0,\n",
        "  'countryName': 'Ukraine',\n",
        "  'adminName1': 'Odessa',\n",
        "  'fclName': 'city, village,...',\n",
        "  'countryCode': 'UA',\n",
        "  'lng': '30.4057',\n",
        "  'toponymName': 'Baranovo',\n",
        "  'fcode': 'PPL',\n",
        "  'fcodeName': 'populated place',\n",
        "  'countryId': '690791',\n",
        "  'adminCode1': '17',\n",
        "  'geonameId': 712833,\n",
        "  'lat': '46.94161',\n",
        "  'fcl': 'P'},\n",
        " {'name': 'Baraboy Tretiy',\n",
        "  'population': 0,\n",
        "  'countryName': 'Ukraine',\n",
        "  'adminName1': 'Odessa',\n",
        "  'fclName': 'city, village,...',\n",
        "  'countryCode': 'UA',\n",
        "  'lng': '30.53118',\n",
        "  'toponymName': 'Baraboy Tretiy',\n",
        "  'fcode': 'PPL',\n",
        "  'fcodeName': 'populated place',\n",
        "  'countryId': '690791',\n",
        "  'adminCode1': '17',\n",
        "  'geonameId': 712852,\n",
        "  'lat': '46.25658',\n",
        "  'fcl': 'P'},\n",
        " {'name': \"Anastas'yevka\",\n",
        "  'population': 0,\n",
        "  'countryName': 'Ukraine',\n",
        "  'adminName1': 'Odessa',\n",
        "  'fclName': 'city, village,...',\n",
        "  'countryCode': 'UA',\n",
        "  'lng': '29.90056',\n",
        "  'toponymName': \"Anastas'yevka\",\n",
        "  'fcode': 'PPL',\n",
        "  'fcodeName': 'populated place',\n",
        "  'countryId': '690791',\n",
        "  'adminCode1': '17',\n",
        "  'geonameId': 713494,\n",
        "  'lat': '47.02556',\n",
        "  'fcl': 'P'},\n",
        " {'name': 'Aleksandrovka',\n",
        "  'population': 0,\n",
        "  'countryName': 'Ukraine',\n",
        "  'adminName1': 'Odessa',\n",
        "  'fclName': 'city, village,...',\n",
        "  'countryCode': 'UA',\n",
        "  'lng': '30.6',\n",
        "  'toponymName': 'Aleksandrovka',\n",
        "  'fcode': 'PPL',\n",
        "  'fcodeName': 'populated place',\n",
        "  'countryId': '690791',\n",
        "  'adminCode1': '17',\n",
        "  'geonameId': 713674,\n",
        "  'lat': '46.86667',\n",
        "  'fcl': 'P'},\n",
        " {'name': 'Nikolayevka',\n",
        "  'population': 0,\n",
        "  'countryName': 'Ukraine',\n",
        "  'adminName1': 'Odessa',\n",
        "  'fclName': 'city, village,...',\n",
        "  'countryCode': 'UA',\n",
        "  'lng': '30.28889',\n",
        "  'toponymName': 'Nikolayevka',\n",
        "  'fcode': 'PPL',\n",
        "  'fcodeName': 'populated place',\n",
        "  'countryId': '690791',\n",
        "  'adminCode1': '17',\n",
        "  'geonameId': 700172,\n",
        "  'lat': '46.64013',\n",
        "  'fcl': 'P'},\n",
        " {'name': 'Nikaritsovo',\n",
        "  'population': 0,\n",
        "  'countryName': 'Ukraine',\n",
        "  'adminName1': 'Odessa',\n",
        "  'fclName': 'city, village,...',\n",
        "  'countryCode': 'UA',\n",
        "  'lng': '29.90833',\n",
        "  'toponymName': 'Nikaritsovo',\n",
        "  'fcode': 'PPL',\n",
        "  'fcodeName': 'populated place',\n",
        "  'countryId': '690791',\n",
        "  'adminCode1': '17',\n",
        "  'geonameId': 700207,\n",
        "  'lat': '46.99222',\n",
        "  'fcl': 'P'},\n",
        " {'name': 'Nadiya',\n",
        "  'population': 0,\n",
        "  'countryName': 'Ukraine',\n",
        "  'adminName1': 'Odessa',\n",
        "  'fclName': 'city, village,...',\n",
        "  'countryCode': 'UA',\n",
        "  'lng': '30.06239',\n",
        "  'toponymName': 'Nadiya',\n",
        "  'fcode': 'PPL',\n",
        "  'fcodeName': 'populated place',\n",
        "  'countryId': '690791',\n",
        "  'adminCode1': '17',\n",
        "  'geonameId': 700519,\n",
        "  'lat': '46.96276',\n",
        "  'fcl': 'P'},\n",
        " {'name': 'Morozovka',\n",
        "  'population': 0,\n",
        "  'countryName': 'Ukraine',\n",
        "  'adminName1': 'Odessa',\n",
        "  'fclName': 'city, village,...',\n",
        "  'countryCode': 'UA',\n",
        "  'lng': '30.56667',\n",
        "  'toponymName': 'Morozovka',\n",
        "  'fcode': 'PPL',\n",
        "  'fcodeName': 'populated place',\n",
        "  'countryId': '690791',\n",
        "  'adminCode1': '17',\n",
        "  'geonameId': 700768,\n",
        "  'lat': '46.66667',\n",
        "  'fcl': 'P'},\n",
        " {'name': 'Mologa',\n",
        "  'population': 0,\n",
        "  'countryName': 'Ukraine',\n",
        "  'adminName1': 'Odessa',\n",
        "  'fclName': 'city, village,...',\n",
        "  'countryCode': 'UA',\n",
        "  'lng': '30.22815',\n",
        "  'toponymName': 'Mologa',\n",
        "  'fcode': 'PPL',\n",
        "  'fcodeName': 'populated place',\n",
        "  'countryId': '690791',\n",
        "  'adminCode1': '17',\n",
        "  'geonameId': 700823,\n",
        "  'lat': '46.21643',\n",
        "  'fcl': 'P'},\n",
        " {'name': 'Migayevo',\n",
        "  'population': 0,\n",
        "  'countryName': 'Ukraine',\n",
        "  'adminName1': 'Odessa',\n",
        "  'fclName': 'city, village,...',\n",
        "  'countryCode': 'UA',\n",
        "  'lng': '30.04429',\n",
        "  'toponymName': 'Migayevo',\n",
        "  'fcode': 'PPL',\n",
        "  'fcodeName': 'populated place',\n",
        "  'countryId': '690791',\n",
        "  'adminCode1': '17',\n",
        "  'geonameId': 701277,\n",
        "  'lat': '46.98793',\n",
        "  'fcl': 'P'},\n",
        " {'name': 'Migai',\n",
        "  'population': 0,\n",
        "  'countryName': 'Ukraine',\n",
        "  'adminName1': 'Odessa',\n",
        "  'fclName': 'city, village,...',\n",
        "  'countryCode': 'UA',\n",
        "  'lng': '30.00519',\n",
        "  'toponymName': 'Migai',\n",
        "  'fcode': 'PPL',\n",
        "  'fcodeName': 'populated place',\n",
        "  'countryId': '690791',\n",
        "  'adminCode1': '17',\n",
        "  'geonameId': 701280,\n",
        "  'lat': '47.01148',\n",
        "  'fcl': 'P'},\n",
        " {'name': 'Michurina',\n",
        "  'population': 0,\n",
        "  'countryName': 'Ukraine',\n",
        "  'adminName1': 'Odessa',\n",
        "  'fclName': 'city, village,...',\n",
        "  'countryCode': 'UA',\n",
        "  'lng': '30.15',\n",
        "  'toponymName': 'Michurina',\n",
        "  'fcode': 'PPL',\n",
        "  'fcodeName': 'populated place',\n",
        "  'countryId': '690791',\n",
        "  'adminCode1': '17',\n",
        "  'geonameId': 701283,\n",
        "  'lat': '46.91667',\n",
        "  'fcl': 'P'},\n",
        " {'name': 'Mayaki',\n",
        "  'population': 0,\n",
        "  'countryName': 'Ukraine',\n",
        "  'adminName1': 'Odessa',\n",
        "  'fclName': 'city, village,...',\n",
        "  'countryCode': 'UA',\n",
        "  'lng': '30.27413',\n",
        "  'toponymName': 'Mayaki',\n",
        "  'fcode': 'PPL',\n",
        "  'fcodeName': 'populated place',\n",
        "  'countryId': '690791',\n",
        "  'adminCode1': '17',\n",
        "  'geonameId': 701561,\n",
        "  'lat': '46.41748',\n",
        "  'fcl': 'P'},\n",
        " {'name': \"Mar'yanovka\",\n",
        "  'population': 0,\n",
        "  'countryName': 'Ukraine',\n",
        "  'adminName1': 'Odessa',\n",
        "  'fclName': 'city, village,...',\n",
        "  'countryCode': 'UA',\n",
        "  'lng': '29.96667',\n",
        "  'toponymName': \"Mar'yanovka\",\n",
        "  'fcode': 'PPL',\n",
        "  'fcodeName': 'populated place',\n",
        "  'countryId': '690791',\n",
        "  'adminCode1': '17',\n",
        "  'geonameId': 701729,\n",
        "  'lat': '46.85',\n",
        "  'fcl': 'P'},\n",
        " {'name': \"Mariyenfel'd\",\n",
        "  'population': 0,\n",
        "  'countryName': 'Ukraine',\n",
        "  'adminName1': '',\n",
        "  'fclName': 'city, village,...',\n",
        "  'countryCode': 'UA',\n",
        "  'lng': '29.68333',\n",
        "  'toponymName': \"Mariyenfel'd\",\n",
        "  'fcode': 'PPL',\n",
        "  'fcodeName': 'populated place',\n",
        "  'countryId': '690791',\n",
        "  'adminCode1': '00',\n",
        "  'geonameId': 701819,\n",
        "  'lat': '46.41667',\n",
        "  'fcl': 'P'},\n",
        " {'name': 'Marinovka',\n",
        "  'population': 0,\n",
        "  'countryName': 'Ukraine',\n",
        "  'adminName1': 'Odessa',\n",
        "  'fclName': 'city, village,...',\n",
        "  'countryCode': 'UA',\n",
        "  'lng': '30.52907',\n",
        "  'toponymName': 'Marinovka',\n",
        "  'fcode': 'PPL',\n",
        "  'fcodeName': 'populated place',\n",
        "  'countryId': '690791',\n",
        "  'adminCode1': '17',\n",
        "  'geonameId': 701836,\n",
        "  'lat': '46.75934',\n",
        "  'fcl': 'P'},\n",
        " {'name': 'Selyshche Manukhyna',\n",
        "  'population': 0,\n",
        "  'countryName': 'Ukraine',\n",
        "  'adminName1': 'Odessa',\n",
        "  'fclName': 'city, village,...',\n",
        "  'countryCode': 'UA',\n",
        "  'lng': '29.95222',\n",
        "  'toponymName': 'Selyshche Manukhyna',\n",
        "  'fcode': 'PPL',\n",
        "  'fcodeName': 'populated place',\n",
        "  'countryId': '690791',\n",
        "  'adminCode1': '17',\n",
        "  'geonameId': 701885,\n",
        "  'lat': '47.01722',\n",
        "  'fcl': 'P'},\n",
        " {'name': 'Maloye Festerovo',\n",
        "  'population': 0,\n",
        "  'countryName': 'Ukraine',\n",
        "  'adminName1': 'Odessa',\n",
        "  'fclName': 'city, village,...',\n",
        "  'countryCode': 'UA',\n",
        "  'lng': '30.5',\n",
        "  'toponymName': 'Maloye Festerovo',\n",
        "  'fcode': 'PPL',\n",
        "  'fcodeName': 'populated place',\n",
        "  'countryId': '690791',\n",
        "  'adminCode1': '17',\n",
        "  'geonameId': 702048,\n",
        "  'lat': '46.73333',\n",
        "  'fcl': 'P'},\n",
        " {'name': 'Lenintal\u2019',\n",
        "  'population': 0,\n",
        "  'countryName': 'Ukraine',\n",
        "  'adminName1': 'Odessa',\n",
        "  'fclName': 'city, village,...',\n",
        "  'countryCode': 'UA',\n",
        "  'lng': '30.46605',\n",
        "  'toponymName': 'Lenintal\u2019',\n",
        "  'fcode': 'PPL',\n",
        "  'fcodeName': 'populated place',\n",
        "  'countryId': '690791',\n",
        "  'adminCode1': '17',\n",
        "  'geonameId': 703220,\n",
        "  'lat': '46.42863',\n",
        "  'fcl': 'P'},\n",
        " {'name': 'Kuyal\u2019nik',\n",
        "  'population': 0,\n",
        "  'countryName': 'Ukraine',\n",
        "  'adminName1': 'Odessa',\n",
        "  'fclName': 'city, village,...',\n",
        "  'countryCode': 'UA',\n",
        "  'lng': '30.5',\n",
        "  'toponymName': 'Kuyal\u2019nik',\n",
        "  'fcode': 'PPL',\n",
        "  'fcodeName': 'populated place',\n",
        "  'countryId': '690791',\n",
        "  'adminCode1': '17',\n",
        "  'geonameId': 703503,\n",
        "  'lat': '46.93333',\n",
        "  'fcl': 'P'},\n",
        " {'name': 'Zhelepivo',\n",
        "  'population': 0,\n",
        "  'countryName': 'Ukraine',\n",
        "  'adminName1': 'Odessa',\n",
        "  'fclName': 'city, village,...',\n",
        "  'countryCode': 'UA',\n",
        "  'lng': '30.30333',\n",
        "  'toponymName': 'Zhelepivo',\n",
        "  'fcode': 'PPL',\n",
        "  'fcodeName': 'populated place',\n",
        "  'countryId': '690791',\n",
        "  'adminCode1': '17',\n",
        "  'geonameId': 687218,\n",
        "  'lat': '46.95685',\n",
        "  'fcl': 'P'},\n",
        " {'name': 'Yevgen\u2019yevka',\n",
        "  'population': 0,\n",
        "  'countryName': 'Ukraine',\n",
        "  'adminName1': 'Odessa',\n",
        "  'fclName': 'city, village,...',\n",
        "  'countryCode': 'UA',\n",
        "  'lng': '30.48333',\n",
        "  'toponymName': 'Yevgen\u2019yevka',\n",
        "  'fcode': 'PPL',\n",
        "  'fcodeName': 'populated place',\n",
        "  'countryId': '690791',\n",
        "  'adminCode1': '17',\n",
        "  'geonameId': 688110,\n",
        "  'lat': '47.06667',\n",
        "  'fcl': 'P'},\n",
        " {'name': \"Yelizavetpol'\",\n",
        "  'population': 0,\n",
        "  'countryName': 'Ukraine',\n",
        "  'adminName1': 'Odessa',\n",
        "  'fclName': 'city, village,...',\n",
        "  'countryCode': 'UA',\n",
        "  'lng': '29.94806',\n",
        "  'toponymName': \"Yelizavetpol'\",\n",
        "  'fcode': 'PPL',\n",
        "  'fcodeName': 'populated place',\n",
        "  'countryId': '690791',\n",
        "  'adminCode1': '17',\n",
        "  'geonameId': 688165,\n",
        "  'lat': '46.85306',\n",
        "  'fcl': 'P'},\n",
        " {'name': 'Yelizavetovka',\n",
        "  'population': 0,\n",
        "  'countryName': 'Ukraine',\n",
        "  'adminName1': 'Odessa',\n",
        "  'fclName': 'city, village,...',\n",
        "  'countryCode': 'UA',\n",
        "  'lng': '30.5022',\n",
        "  'toponymName': 'Yelizavetovka',\n",
        "  'fcode': 'PPL',\n",
        "  'fcodeName': 'populated place',\n",
        "  'countryId': '690791',\n",
        "  'adminCode1': '17',\n",
        "  'geonameId': 688184,\n",
        "  'lat': '46.69575',\n",
        "  'fcl': 'P'},\n",
        " {'name': 'Yankulishino',\n",
        "  'population': 0,\n",
        "  'countryName': 'Ukraine',\n",
        "  'adminName1': 'Odessa',\n",
        "  'fclName': 'city, village,...',\n",
        "  'countryCode': 'UA',\n",
        "  'lng': '30.4',\n",
        "  'toponymName': 'Yankulishino',\n",
        "  'fcode': 'PPL',\n",
        "  'fcodeName': 'populated place',\n",
        "  'countryId': '690791',\n",
        "  'adminCode1': '17',\n",
        "  'geonameId': 688481,\n",
        "  'lat': '46.75',\n",
        "  'fcl': 'P'},\n",
        " {'name': 'Yamkin',\n",
        "  'population': 0,\n",
        "  'countryName': 'Ukraine',\n",
        "  'adminName1': 'Odessa',\n",
        "  'fclName': 'city, village,...',\n",
        "  'countryCode': 'UA',\n",
        "  'lng': '30.58333',\n",
        "  'toponymName': 'Yamkin',\n",
        "  'fcode': 'PPL',\n",
        "  'fcodeName': 'populated place',\n",
        "  'countryId': '690791',\n",
        "  'adminCode1': '17',\n",
        "  'geonameId': 688516,\n",
        "  'lat': '46.78333',\n",
        "  'fcl': 'P'},\n",
        " {'name': 'Vygoda',\n",
        "  'population': 0,\n",
        "  'countryName': 'Ukraine',\n",
        "  'adminName1': 'Odessa',\n",
        "  'fclName': 'city, village,...',\n",
        "  'countryCode': 'UA',\n",
        "  'lng': '30.4036',\n",
        "  'toponymName': 'Vygoda',\n",
        "  'fcode': 'PPL',\n",
        "  'fcodeName': 'populated place',\n",
        "  'countryId': '690791',\n",
        "  'adminCode1': '17',\n",
        "  'geonameId': 688772,\n",
        "  'lat': '46.61672',\n",
        "  'fcl': 'P'},\n",
        " {'name': 'Verbany',\n",
        "  'population': 0,\n",
        "  'countryName': 'Ukraine',\n",
        "  'adminName1': 'Odessa',\n",
        "  'fclName': 'city, village,...',\n",
        "  'countryCode': 'UA',\n",
        "  'lng': '30.01667',\n",
        "  'toponymName': 'Verbany',\n",
        "  'fcode': 'PPL',\n",
        "  'fcodeName': 'populated place',\n",
        "  'countryId': '690791',\n",
        "  'adminCode1': '17',\n",
        "  'geonameId': 690017,\n",
        "  'lat': '47',\n",
        "  'fcl': 'P'},\n",
        " {'name': 'Velizarovo',\n",
        "  'population': 0,\n",
        "  'countryName': 'Ukraine',\n",
        "  'adminName1': 'Odessa',\n",
        "  'fclName': 'city, village,...',\n",
        "  'countryCode': 'UA',\n",
        "  'lng': '30.06677',\n",
        "  'toponymName': 'Velizarovo',\n",
        "  'fcode': 'PPL',\n",
        "  'fcodeName': 'populated place',\n",
        "  'countryId': '690791',\n",
        "  'adminCode1': '17',\n",
        "  'geonameId': 690050,\n",
        "  'lat': '46.88411',\n",
        "  'fcl': 'P'},\n",
        " {'name': 'Vasilevka',\n",
        "  'population': 0,\n",
        "  'countryName': 'Ukraine',\n",
        "  'adminName1': 'Odessa',\n",
        "  'fclName': 'city, village,...',\n",
        "  'countryCode': 'UA',\n",
        "  'lng': '30.30195',\n",
        "  'toponymName': 'Vasilevka',\n",
        "  'fcode': 'PPL',\n",
        "  'fcodeName': 'populated place',\n",
        "  'countryId': '690791',\n",
        "  'adminCode1': '17',\n",
        "  'geonameId': 690389,\n",
        "  'lat': '46.61301',\n",
        "  'fcl': 'P'},\n",
        " {'name': 'Vapnyarka',\n",
        "  'population': 0,\n",
        "  'countryName': 'Ukraine',\n",
        "  'adminName1': 'Odessa',\n",
        "  'fclName': 'city, village,...',\n",
        "  'countryCode': 'UA',\n",
        "  'lng': '30.03145',\n",
        "  'toponymName': 'Vapnyarka',\n",
        "  'fcode': 'PPL',\n",
        "  'fcodeName': 'populated place',\n",
        "  'countryId': '690791',\n",
        "  'adminCode1': '17',\n",
        "  'geonameId': 690486,\n",
        "  'lat': '46.9591',\n",
        "  'fcl': 'P'},\n",
        " {'name': 'Koshary',\n",
        "  'population': 0,\n",
        "  'countryName': 'Ukraine',\n",
        "  'adminName1': 'Odessa',\n",
        "  'fclName': 'city, village,...',\n",
        "  'countryCode': 'UA',\n",
        "  'lng': '30.16667',\n",
        "  'toponymName': 'Koshary',\n",
        "  'fcode': 'PPL',\n",
        "  'fcodeName': 'populated place',\n",
        "  'countryId': '690791',\n",
        "  'adminCode1': '17',\n",
        "  'geonameId': 704817,\n",
        "  'lat': '46.96667',\n",
        "  'fcl': 'P'},\n",
        " {'name': 'Koshara',\n",
        "  'population': 0,\n",
        "  'countryName': 'Ukraine',\n",
        "  'adminName1': 'Odessa',\n",
        "  'fclName': 'city, village,...',\n",
        "  'countryCode': 'UA',\n",
        "  'lng': '30.53333',\n",
        "  'toponymName': 'Koshara',\n",
        "  'fcode': 'PPL',\n",
        "  'fcodeName': 'populated place',\n",
        "  'countryId': '690791',\n",
        "  'adminCode1': '17',\n",
        "  'geonameId': 704824,\n",
        "  'lat': '46.7',\n",
        "  'fcl': 'P'},\n",
        " {'name': 'Konstantinivka',\n",
        "  'population': 0,\n",
        "  'countryName': 'Ukraine',\n",
        "  'adminName1': 'Odessa',\n",
        "  'fclName': 'city, village,...',\n",
        "  'countryCode': 'UA',\n",
        "  'lng': '30.26667',\n",
        "  'toponymName': 'Konstantinivka',\n",
        "  'fcode': 'PPL',\n",
        "  'fcodeName': 'populated place',\n",
        "  'countryId': '690791',\n",
        "  'adminCode1': '17',\n",
        "  'geonameId': 705124,\n",
        "  'lat': '46.83333',\n",
        "  'fcl': 'P'},\n",
        " {'name': 'Komarivka',\n",
        "  'population': 0,\n",
        "  'countryName': 'Ukraine',\n",
        "  'adminName1': 'Odessa',\n",
        "  'fclName': 'city, village,...',\n",
        "  'countryCode': 'UA',\n",
        "  'lng': '30.1',\n",
        "  'toponymName': 'Komarivka',\n",
        "  'fcode': 'PPL',\n",
        "  'fcodeName': 'populated place',\n",
        "  'countryId': '690791',\n",
        "  'adminCode1': '17',\n",
        "  'geonameId': 705267,\n",
        "  'lat': '46.91667',\n",
        "  'fcl': 'P'},\n",
        " {'name': 'Khutor Karla Libknekhta',\n",
        "  'population': 0,\n",
        "  'countryName': 'Ukraine',\n",
        "  'adminName1': 'Odessa',\n",
        "  'fclName': 'city, village,...',\n",
        "  'countryCode': 'UA',\n",
        "  'lng': '30.13333',\n",
        "  'toponymName': 'Khutor Karla Libknekhta',\n",
        "  'fcode': 'PPL',\n",
        "  'fcodeName': 'populated place',\n",
        "  'countryId': '690791',\n",
        "  'adminCode1': '17',\n",
        "  'geonameId': 706079,\n",
        "  'lat': '46.63333',\n",
        "  'fcl': 'P'},\n",
        " {'name': 'Kholodnaya Balka',\n",
        "  'population': 0,\n",
        "  'countryName': 'Ukraine',\n",
        "  'adminName1': 'Odessa',\n",
        "  'fclName': 'city, village,...',\n",
        "  'countryCode': 'UA',\n",
        "  'lng': '30.58554',\n",
        "  'toponymName': 'Kholodnaya Balka',\n",
        "  'fcode': 'PPL',\n",
        "  'fcodeName': 'populated place',\n",
        "  'countryId': '690791',\n",
        "  'adminCode1': '17',\n",
        "  'geonameId': 706333,\n",
        "  'lat': '46.60487',\n",
        "  'fcl': 'P'},\n",
        " {'name': 'Kantemir',\n",
        "  'population': 0,\n",
        "  'countryName': 'Ukraine',\n",
        "  'adminName1': 'Odessa',\n",
        "  'fclName': 'city, village,...',\n",
        "  'countryCode': 'UA',\n",
        "  'lng': '29.6',\n",
        "  'toponymName': 'Kantemir',\n",
        "  'fcode': 'PPL',\n",
        "  'fcodeName': 'populated place',\n",
        "  'countryId': '690791',\n",
        "  'adminCode1': '17',\n",
        "  'geonameId': 706892,\n",
        "  'lat': '46.21667',\n",
        "  'fcl': 'P'},\n",
        " {'name': 'Kagarlyk',\n",
        "  'population': 0,\n",
        "  'countryName': 'Ukraine',\n",
        "  'adminName1': 'Odessa',\n",
        "  'fclName': 'city, village,...',\n",
        "  'countryCode': 'UA',\n",
        "  'lng': '30.19587',\n",
        "  'toponymName': 'Kagarlyk',\n",
        "  'fcode': 'PPL',\n",
        "  'fcodeName': 'populated place',\n",
        "  'countryId': '690791',\n",
        "  'adminCode1': '17',\n",
        "  'geonameId': 707252,\n",
        "  'lat': '46.60071',\n",
        "  'fcl': 'P'},\n",
        " {'name': 'Getmantsy',\n",
        "  'population': 0,\n",
        "  'countryName': 'Ukraine',\n",
        "  'adminName1': 'Odessa',\n",
        "  'fclName': 'city, village,...',\n",
        "  'countryCode': 'UA',\n",
        "  'lng': '30.00922',\n",
        "  'toponymName': 'Getmantsy',\n",
        "  'fcode': 'PPL',\n",
        "  'fcodeName': 'populated place',\n",
        "  'countryId': '690791',\n",
        "  'adminCode1': '17',\n",
        "  'geonameId': 708834,\n",
        "  'lat': '46.91232',\n",
        "  'fcl': 'P'},\n",
        " {'name': \"Trostyanets'-Druhyy\",\n",
        "  'population': 0,\n",
        "  'countryName': 'Ukraine',\n",
        "  'adminName1': 'Odessa',\n",
        "  'fclName': 'city, village,...',\n",
        "  'countryCode': 'UA',\n",
        "  'lng': '29.87667',\n",
        "  'toponymName': \"Trostyanets'-Druhyy\",\n",
        "  'fcode': 'PPL',\n",
        "  'fcodeName': 'populated place',\n",
        "  'countryId': '690791',\n",
        "  'adminCode1': '17',\n",
        "  'geonameId': 691267,\n",
        "  'lat': '47.03583',\n",
        "  'fcl': 'P'},\n",
        " {'name': 'Troitskoye',\n",
        "  'population': 0,\n",
        "  'countryName': 'Ukraine',\n",
        "  'adminName1': 'Odessa',\n",
        "  'fclName': 'city, village,...',\n",
        "  'countryCode': 'UA',\n",
        "  'lng': '30.02346',\n",
        "  'toponymName': 'Troitskoye',\n",
        "  'fcode': 'PPL',\n",
        "  'fcodeName': 'populated place',\n",
        "  'countryId': '690791',\n",
        "  'adminCode1': '17',\n",
        "  'geonameId': 691291,\n",
        "  'lat': '46.54168',\n",
        "  'fcl': 'P'},\n",
        " {'name': 'Tolstukha',\n",
        "  'population': 0,\n",
        "  'countryName': 'Ukraine',\n",
        "  'adminName1': 'Odessa',\n",
        "  'fclName': 'city, village,...',\n",
        "  'countryCode': 'UA',\n",
        "  'lng': '29.92556',\n",
        "  'toponymName': 'Tolstukha',\n",
        "  'fcode': 'PPL',\n",
        "  'fcodeName': 'populated place',\n",
        "  'countryId': '690791',\n",
        "  'adminCode1': '17',\n",
        "  'geonameId': 691441,\n",
        "  'lat': '46.91167',\n",
        "  'fcl': 'P'},\n",
        " {'name': 'Tolmach\u00ebvka',\n",
        "  'population': 0,\n",
        "  'countryName': 'Ukraine',\n",
        "  'adminName1': 'Odessa',\n",
        "  'fclName': 'city, village,...',\n",
        "  'countryCode': 'UA',\n",
        "  'lng': '30.18333',\n",
        "  'toponymName': 'Tolmach\u00ebvka',\n",
        "  'fcode': 'PPL',\n",
        "  'fcodeName': 'populated place',\n",
        "  'countryId': '690791',\n",
        "  'adminCode1': '17',\n",
        "  'geonameId': 691455,\n",
        "  'lat': '47.05',\n",
        "  'fcl': 'P'},\n",
        " {'name': 'Ternovka',\n",
        "  'population': 0,\n",
        "  'countryName': 'Ukraine',\n",
        "  'adminName1': 'Odessa',\n",
        "  'fclName': 'city, village,...',\n",
        "  'countryCode': 'UA',\n",
        "  'lng': '30.55',\n",
        "  'toponymName': 'Ternovka',\n",
        "  'fcode': 'PPL',\n",
        "  'fcodeName': 'populated place',\n",
        "  'countryId': '690791',\n",
        "  'adminCode1': '17',\n",
        "  'geonameId': 691633,\n",
        "  'lat': '46.15',\n",
        "  'fcl': 'P'},\n",
        " {'name': 'Tarasovka',\n",
        "  'population': 0,\n",
        "  'countryName': 'Ukraine',\n",
        "  'adminName1': 'Odessa',\n",
        "  'fclName': 'city, village,...',\n",
        "  'countryCode': 'UA',\n",
        "  'lng': '30.56519',\n",
        "  'toponymName': 'Tarasovka',\n",
        "  'fcode': 'PPL',\n",
        "  'fcodeName': 'populated place',\n",
        "  'countryId': '690791',\n",
        "  'adminCode1': '17',\n",
        "  'geonameId': 691890,\n",
        "  'lat': '47.02303',\n",
        "  'fcl': 'P'},\n",
        " {'name': 'Tarasovka',\n",
        "  'population': 0,\n",
        "  'countryName': 'Ukraine',\n",
        "  'adminName1': 'Odessa',\n",
        "  'fclName': 'city, village,...',\n",
        "  'countryCode': 'UA',\n",
        "  'lng': '30.55',\n",
        "  'toponymName': 'Tarasovka',\n",
        "  'fcode': 'PPL',\n",
        "  'fcodeName': 'populated place',\n",
        "  'countryId': '690791',\n",
        "  'adminCode1': '17',\n",
        "  'geonameId': 691891,\n",
        "  'lat': '46.85',\n",
        "  'fcl': 'P'},\n",
        " {'name': 'Svinooz\u00ebrka',\n",
        "  'population': 0,\n",
        "  'countryName': 'Ukraine',\n",
        "  'adminName1': 'Odessa',\n",
        "  'fclName': 'city, village,...',\n",
        "  'countryCode': 'UA',\n",
        "  'lng': '30.36667',\n",
        "  'toponymName': 'Svinooz\u00ebrka',\n",
        "  'fcode': 'PPL',\n",
        "  'fcodeName': 'populated place',\n",
        "  'countryId': '690791',\n",
        "  'adminCode1': '17',\n",
        "  'geonameId': 692059,\n",
        "  'lat': '46.75',\n",
        "  'fcl': 'P'},\n",
        " {'name': 'Sukhiy Khutor',\n",
        "  'population': 0,\n",
        "  'countryName': 'Ukraine',\n",
        "  'adminName1': 'Odessa',\n",
        "  'fclName': 'city, village,...',\n",
        "  'countryCode': 'UA',\n",
        "  'lng': '30.1',\n",
        "  'toponymName': 'Sukhiy Khutor',\n",
        "  'fcode': 'PPL',\n",
        "  'fcodeName': 'populated place',\n",
        "  'countryId': '690791',\n",
        "  'adminCode1': '17',\n",
        "  'geonameId': 692266,\n",
        "  'lat': '46.96667',\n",
        "  'fcl': 'P'},\n",
        " {'name': 'Stoykovo',\n",
        "  'population': 0,\n",
        "  'countryName': 'Ukraine',\n",
        "  'adminName1': 'Odessa',\n",
        "  'fclName': 'city, village,...',\n",
        "  'countryCode': 'UA',\n",
        "  'lng': '29.96667',\n",
        "  'toponymName': 'Stoykovo',\n",
        "  'fcode': 'PPL',\n",
        "  'fcodeName': 'populated place',\n",
        "  'countryId': '690791',\n",
        "  'adminCode1': '17',\n",
        "  'geonameId': 692471,\n",
        "  'lat': '46.85',\n",
        "  'fcl': 'P'},\n",
        " {'name': 'Staraya Vandalinka',\n",
        "  'population': 0,\n",
        "  'countryName': 'Ukraine',\n",
        "  'adminName1': 'Odessa',\n",
        "  'fclName': 'city, village,...',\n",
        "  'countryCode': 'UA',\n",
        "  'lng': '30.53102',\n",
        "  'toponymName': 'Staraya Vandalinka',\n",
        "  'fcode': 'PPL',\n",
        "  'fcodeName': 'populated place',\n",
        "  'countryId': '690791',\n",
        "  'adminCode1': '17',\n",
        "  'geonameId': 692859,\n",
        "  'lat': '46.80129',\n",
        "  'fcl': 'P'},\n",
        " {'name': 'Staraya Emetovka',\n",
        "  'population': 0,\n",
        "  'countryName': 'Ukraine',\n",
        "  'adminName1': 'Odessa',\n",
        "  'fclName': 'city, village,...',\n",
        "  'countryCode': 'UA',\n",
        "  'lng': '30.59716',\n",
        "  'toponymName': 'Staraya Emetovka',\n",
        "  'fcode': 'PPL',\n",
        "  'fcodeName': 'populated place',\n",
        "  'countryId': '690791',\n",
        "  'adminCode1': '17',\n",
        "  'geonameId': 692906,\n",
        "  'lat': '46.73155',\n",
        "  'fcl': 'P'},\n",
        " {'name': 'Sokolovka',\n",
        "  'population': 0,\n",
        "  'countryName': 'Ukraine',\n",
        "  'adminName1': 'Odessa',\n",
        "  'fclName': 'city, village,...',\n",
        "  'countryCode': 'UA',\n",
        "  'lng': '30.36667',\n",
        "  'toponymName': 'Sokolovka',\n",
        "  'fcode': 'PPL',\n",
        "  'fcodeName': 'populated place',\n",
        "  'countryId': '690791',\n",
        "  'adminCode1': '17',\n",
        "  'geonameId': 693260,\n",
        "  'lat': '46.78333',\n",
        "  'fcl': 'P'},\n",
        " {'name': 'Slobodzeya',\n",
        "  'population': 0,\n",
        "  'countryName': 'Ukraine',\n",
        "  'adminName1': 'Odessa',\n",
        "  'fclName': 'city, village,...',\n",
        "  'countryCode': 'UA',\n",
        "  'lng': '30.08333',\n",
        "  'toponymName': 'Slobodzeya',\n",
        "  'fcode': 'PPL',\n",
        "  'fcodeName': 'populated place',\n",
        "  'countryId': '690791',\n",
        "  'adminCode1': '17',\n",
        "  'geonameId': 693482,\n",
        "  'lat': '46.93333',\n",
        "  'fcl': 'P'},\n",
        " {'name': 'Shevchenko',\n",
        "  'population': 0,\n",
        "  'countryName': 'Ukraine',\n",
        "  'adminName1': 'Odessa',\n",
        "  'fclName': 'city, village,...',\n",
        "  'countryCode': 'UA',\n",
        "  'lng': '30.11667',\n",
        "  'toponymName': 'Shevchenko',\n",
        "  'fcode': 'PPL',\n",
        "  'fcodeName': 'populated place',\n",
        "  'countryId': '690791',\n",
        "  'adminCode1': '17',\n",
        "  'geonameId': 694186,\n",
        "  'lat': '46.8',\n",
        "  'fcl': 'P'},\n",
        " {'name': 'Shatsy',\n",
        "  'population': 0,\n",
        "  'countryName': 'Ukraine',\n",
        "  'adminName1': 'Odessa',\n",
        "  'fclName': 'city, village,...',\n",
        "  'countryCode': 'UA',\n",
        "  'lng': '29.96028',\n",
        "  'toponymName': 'Shatsy',\n",
        "  'fcode': 'PPL',\n",
        "  'fcodeName': 'populated place',\n",
        "  'countryId': '690791',\n",
        "  'adminCode1': '17',\n",
        "  'geonameId': 694332,\n",
        "  'lat': '46.87472',\n",
        "  'fcl': 'P'},\n",
        " {'name': 'Severinovka',\n",
        "  'population': 0,\n",
        "  'countryName': 'Ukraine',\n",
        "  'adminName1': 'Odessa',\n",
        "  'fclName': 'city, village,...',\n",
        "  'countryCode': 'UA',\n",
        "  'lng': '30.58095',\n",
        "  'toponymName': 'Severinovka',\n",
        "  'fcode': 'PPL',\n",
        "  'fcodeName': 'populated place',\n",
        "  'countryId': '690791',\n",
        "  'adminCode1': '17',\n",
        "  'geonameId': 694421,\n",
        "  'lat': '46.82953',\n",
        "  'fcl': 'P'},\n",
        " {'name': \"Rybal'skoye\",\n",
        "  'population': 0,\n",
        "  'countryName': 'Ukraine',\n",
        "  'adminName1': '',\n",
        "  'fclName': 'city, village,...',\n",
        "  'countryCode': 'UA',\n",
        "  'lng': '29.95778',\n",
        "  'toponymName': \"Rybal'skoye\",\n",
        "  'fcode': 'PPL',\n",
        "  'fcodeName': 'populated place',\n",
        "  'countryId': '690791',\n",
        "  'adminCode1': '00',\n",
        "  'geonameId': 695046,\n",
        "  'lat': '46.64861',\n",
        "  'fcl': 'P'},\n",
        " {'name': 'Velykodolinske',\n",
        "  'population': 0,\n",
        "  'countryName': 'Ukraine',\n",
        "  'adminName1': 'Odessa',\n",
        "  'fclName': 'city, village,...',\n",
        "  'countryCode': 'UA',\n",
        "  'lng': '30.5813',\n",
        "  'toponymName': 'Velykodolinske',\n",
        "  'fcode': 'PPL',\n",
        "  'fcodeName': 'populated place',\n",
        "  'countryId': '690791',\n",
        "  'adminCode1': '17',\n",
        "  'geonameId': 8521690,\n",
        "  'lat': '46.33875',\n",
        "  'fcl': 'P'},\n",
        " {'name': 'Oktyabr\u2019skiy',\n",
        "  'population': 0,\n",
        "  'countryName': 'Moldova',\n",
        "  'adminName1': 'St\u00eenga Nistrului',\n",
        "  'fclName': 'city, village,...',\n",
        "  'countryCode': 'MD',\n",
        "  'lng': '29.66139',\n",
        "  'toponymName': 'Oktyabr\u2019skiy',\n",
        "  'fcode': 'PPLX',\n",
        "  'fcodeName': 'section of populated place',\n",
        "  'countryId': '617790',\n",
        "  'adminCode1': '58',\n",
        "  'geonameId': 829944,\n",
        "  'lat': '46.83583',\n",
        "  'fcl': 'P'},\n",
        " {'name': 'Peremozhnoye',\n",
        "  'population': 0,\n",
        "  'countryName': 'Ukraine',\n",
        "  'adminName1': 'Odessa',\n",
        "  'fclName': 'city, village,...',\n",
        "  'countryCode': 'UA',\n",
        "  'lng': '30.26667',\n",
        "  'toponymName': 'Peremozhnoye',\n",
        "  'fcode': 'PPLX',\n",
        "  'fcodeName': 'section of populated place',\n",
        "  'countryId': '690791',\n",
        "  'adminCode1': '17',\n",
        "  'geonameId': 697696,\n",
        "  'lat': '46.23333',\n",
        "  'fcl': 'P'},\n",
        " {'name': 'Vypaskoye',\n",
        "  'population': 0,\n",
        "  'countryName': 'Ukraine',\n",
        "  'adminName1': 'Odessa',\n",
        "  'fclName': 'city, village,...',\n",
        "  'countryCode': 'UA',\n",
        "  'lng': '30.26667',\n",
        "  'toponymName': 'Vypaskoye',\n",
        "  'fcode': 'PPLX',\n",
        "  'fcodeName': 'section of populated place',\n",
        "  'countryId': '690791',\n",
        "  'adminCode1': '17',\n",
        "  'geonameId': 688744,\n",
        "  'lat': '46.19938',\n",
        "  'fcl': 'P'},\n",
        " {'name': 'Sukholuzh\u2019ye',\n",
        "  'population': 0,\n",
        "  'countryName': 'Ukraine',\n",
        "  'adminName1': 'Odessa',\n",
        "  'fclName': 'city, village,...',\n",
        "  'countryCode': 'UA',\n",
        "  'lng': '30.27781',\n",
        "  'toponymName': 'Sukholuzh\u2019ye',\n",
        "  'fcode': 'PPLX',\n",
        "  'fcodeName': 'section of populated place',\n",
        "  'countryId': '690791',\n",
        "  'adminCode1': '17',\n",
        "  'geonameId': 692244,\n",
        "  'lat': '46.22169',\n",
        "  'fcl': 'P'}]"
       ]
      }
     ],
     "prompt_number": 7
    },
    {
     "cell_type": "code",
     "collapsed": false,
     "input": [
      "import time\n",
      "area_places = []\n",
      "for c in coordslist:\n",
      "    url = \"http://api.geonames.org/search\"\n",
      "    Q = {\"type\":'json','username':'jaguillette','featureClass':'P','south':c['south'],'north':c['north'],'east':c['east'],'west':c['west']}\n",
      "    R = requests.get(url,params=Q)\n",
      "    print(R.url)\n",
      "    response = R.json()\n",
      "    if response['totalResultsCount'] > 5000:\n",
      "        print('Too many results. Need to shrink spacing')\n",
      "        time.sleep(1)\n",
      "    else:\n",
      "        area_places.extend(response['geonames'])\n",
      "        resultsCount = response['totalResultsCount']\n",
      "        time.sleep(1)\n",
      "        for p in range(100,resultsCount,100):\n",
      "            Q['startRow'] = p\n",
      "            R = requests.get(url,params=Q)\n",
      "            print(R.url)\n",
      "            response = R.json()\n",
      "            area_places.extend(response['geonames'])\n",
      "            time.sleep(1)"
     ],
     "language": "python",
     "metadata": {},
     "outputs": [
      {
       "output_type": "stream",
       "stream": "stdout",
       "text": [
        "http://api.geonames.org/search?featureClass=P&type=json&username=jaguillette&west=91.4&south=46.5&north=47.5&east=92.4\n",
        "http://api.geonames.org/search?featureClass=P&type=json&username=jaguillette&west=92.4&south=46.5&north=47.5&east=93.4"
       ]
      },
      {
       "output_type": "stream",
       "stream": "stdout",
       "text": [
        "\n",
        "http://api.geonames.org/search?featureClass=P&type=json&username=jaguillette&west=93.4&south=46.5&north=47.5&east=94.4"
       ]
      },
      {
       "output_type": "stream",
       "stream": "stdout",
       "text": [
        "\n",
        "http://api.geonames.org/search?featureClass=P&type=json&username=jaguillette&west=94.4&south=46.5&north=47.5&east=95.4"
       ]
      },
      {
       "output_type": "stream",
       "stream": "stdout",
       "text": [
        "\n",
        "http://api.geonames.org/search?featureClass=P&type=json&username=jaguillette&west=95.4&south=46.5&north=47.5&east=96.4"
       ]
      },
      {
       "output_type": "stream",
       "stream": "stdout",
       "text": [
        "\n",
        "http://api.geonames.org/search?featureClass=P&type=json&username=jaguillette&west=96.4&south=46.5&north=47.5&east=97.4"
       ]
      },
      {
       "output_type": "stream",
       "stream": "stdout",
       "text": [
        "\n",
        "http://api.geonames.org/search?featureClass=P&type=json&username=jaguillette&west=97.4&south=46.5&north=47.5&east=98.4"
       ]
      },
      {
       "output_type": "stream",
       "stream": "stdout",
       "text": [
        "\n",
        "http://api.geonames.org/search?featureClass=P&type=json&username=jaguillette&west=98.4&south=46.5&north=47.5&east=99.4"
       ]
      },
      {
       "output_type": "stream",
       "stream": "stdout",
       "text": [
        "\n",
        "http://api.geonames.org/search?featureClass=P&type=json&username=jaguillette&west=99.4&south=46.5&north=47.5&east=100.4"
       ]
      },
      {
       "output_type": "stream",
       "stream": "stdout",
       "text": [
        "\n",
        "http://api.geonames.org/search?featureClass=P&type=json&username=jaguillette&west=100.4&south=46.5&north=47.5&east=101.4"
       ]
      },
      {
       "output_type": "stream",
       "stream": "stdout",
       "text": [
        "\n",
        "http://api.geonames.org/search?featureClass=P&type=json&username=jaguillette&west=101.4&south=46.5&north=47.5&east=102.4"
       ]
      },
      {
       "output_type": "stream",
       "stream": "stdout",
       "text": [
        "\n",
        "http://api.geonames.org/search?featureClass=P&type=json&username=jaguillette&west=102.4&south=46.5&north=47.5&east=103.4"
       ]
      },
      {
       "output_type": "stream",
       "stream": "stdout",
       "text": [
        "\n",
        "http://api.geonames.org/search?featureClass=P&type=json&username=jaguillette&west=103.4&south=46.5&north=47.5&east=104.4"
       ]
      },
      {
       "output_type": "stream",
       "stream": "stdout",
       "text": [
        "\n",
        "http://api.geonames.org/search?featureClass=P&type=json&username=jaguillette&west=104.4&south=46.5&north=47.5&east=105.4"
       ]
      },
      {
       "output_type": "stream",
       "stream": "stdout",
       "text": [
        "\n",
        "http://api.geonames.org/search?featureClass=P&type=json&username=jaguillette&west=105.4&south=46.5&north=47.5&east=106.4"
       ]
      },
      {
       "output_type": "stream",
       "stream": "stdout",
       "text": [
        "\n",
        "http://api.geonames.org/search?featureClass=P&type=json&username=jaguillette&west=106.4&south=46.5&north=47.5&east=107.4"
       ]
      },
      {
       "output_type": "stream",
       "stream": "stdout",
       "text": [
        "\n",
        "http://api.geonames.org/search?featureClass=P&type=json&username=jaguillette&west=107.4&south=46.5&north=47.5&east=108.4"
       ]
      },
      {
       "output_type": "stream",
       "stream": "stdout",
       "text": [
        "\n",
        "http://api.geonames.org/search?featureClass=P&type=json&username=jaguillette&west=108.4&south=46.5&north=47.5&east=109.4"
       ]
      },
      {
       "output_type": "stream",
       "stream": "stdout",
       "text": [
        "\n",
        "http://api.geonames.org/search?featureClass=P&type=json&username=jaguillette&west=109.4&south=46.5&north=47.5&east=110.4"
       ]
      },
      {
       "output_type": "stream",
       "stream": "stdout",
       "text": [
        "\n",
        "http://api.geonames.org/search?featureClass=P&type=json&username=jaguillette&west=110.4&south=46.5&north=47.5&east=111.4"
       ]
      },
      {
       "output_type": "stream",
       "stream": "stdout",
       "text": [
        "\n",
        "http://api.geonames.org/search?featureClass=P&type=json&username=jaguillette&west=111.4&south=46.5&north=47.5&east=112.4"
       ]
      },
      {
       "output_type": "stream",
       "stream": "stdout",
       "text": [
        "\n",
        "http://api.geonames.org/search?featureClass=P&type=json&username=jaguillette&west=112.4&south=46.5&north=47.5&east=113.4"
       ]
      },
      {
       "output_type": "stream",
       "stream": "stdout",
       "text": [
        "\n",
        "http://api.geonames.org/search?featureClass=P&type=json&username=jaguillette&west=113.4&south=46.5&north=47.5&east=114.4"
       ]
      },
      {
       "output_type": "stream",
       "stream": "stdout",
       "text": [
        "\n",
        "http://api.geonames.org/search?featureClass=P&type=json&username=jaguillette&west=114.4&south=46.5&north=47.5&east=115.4"
       ]
      },
      {
       "output_type": "stream",
       "stream": "stdout",
       "text": [
        "\n",
        "http://api.geonames.org/search?featureClass=P&type=json&username=jaguillette&west=115.4&south=46.5&north=47.5&east=116.4"
       ]
      },
      {
       "output_type": "stream",
       "stream": "stdout",
       "text": [
        "\n",
        "http://api.geonames.org/search?featureClass=P&type=json&username=jaguillette&west=116.4&south=46.5&north=47.5&east=117.4"
       ]
      },
      {
       "output_type": "stream",
       "stream": "stdout",
       "text": [
        "\n",
        "http://api.geonames.org/search?featureClass=P&type=json&username=jaguillette&west=117.4&south=46.5&north=47.5&east=118.4"
       ]
      },
      {
       "output_type": "stream",
       "stream": "stdout",
       "text": [
        "\n",
        "http://api.geonames.org/search?featureClass=P&type=json&username=jaguillette&west=118.4&south=46.5&north=47.5&east=119.4"
       ]
      },
      {
       "output_type": "stream",
       "stream": "stdout",
       "text": [
        "\n",
        "http://api.geonames.org/search?featureClass=P&type=json&username=jaguillette&west=119.4&south=46.5&north=47.5&east=120.4"
       ]
      },
      {
       "output_type": "stream",
       "stream": "stdout",
       "text": [
        "\n",
        "http://api.geonames.org/search?featureClass=P&type=json&username=jaguillette&west=120.4&south=46.5&north=47.5&east=121.4"
       ]
      },
      {
       "output_type": "stream",
       "stream": "stdout",
       "text": [
        "\n",
        "http://api.geonames.org/search?featureClass=P&type=json&username=jaguillette&west=121.4&south=46.5&north=47.5&east=122.4"
       ]
      },
      {
       "output_type": "stream",
       "stream": "stdout",
       "text": [
        "\n",
        "http://api.geonames.org/search?featureClass=P&type=json&username=jaguillette&west=122.4&south=46.5&north=47.5&east=123.4"
       ]
      },
      {
       "output_type": "stream",
       "stream": "stdout",
       "text": [
        "\n",
        "http://api.geonames.org/search?featureClass=P&type=json&username=jaguillette&west=123.4&south=46.5&north=47.5&east=124.4"
       ]
      },
      {
       "output_type": "stream",
       "stream": "stdout",
       "text": [
        "\n",
        "http://api.geonames.org/search?featureClass=P&startRow=100&type=json&username=jaguillette&west=123.4&south=46.5&north=47.5&east=124.4"
       ]
      },
      {
       "output_type": "stream",
       "stream": "stdout",
       "text": [
        "\n",
        "http://api.geonames.org/search?featureClass=P&type=json&username=jaguillette&west=124.4&south=46.5&north=47.5&east=125.4"
       ]
      },
      {
       "output_type": "stream",
       "stream": "stdout",
       "text": [
        "\n",
        "http://api.geonames.org/search?featureClass=P&startRow=100&type=json&username=jaguillette&west=124.4&south=46.5&north=47.5&east=125.4"
       ]
      },
      {
       "output_type": "stream",
       "stream": "stdout",
       "text": [
        "\n",
        "http://api.geonames.org/search?featureClass=P&startRow=200&type=json&username=jaguillette&west=124.4&south=46.5&north=47.5&east=125.4"
       ]
      },
      {
       "output_type": "stream",
       "stream": "stdout",
       "text": [
        "\n",
        "http://api.geonames.org/search?featureClass=P&startRow=300&type=json&username=jaguillette&west=124.4&south=46.5&north=47.5&east=125.4"
       ]
      },
      {
       "output_type": "stream",
       "stream": "stdout",
       "text": [
        "\n",
        "http://api.geonames.org/search?featureClass=P&startRow=400&type=json&username=jaguillette&west=124.4&south=46.5&north=47.5&east=125.4"
       ]
      },
      {
       "output_type": "stream",
       "stream": "stdout",
       "text": [
        "\n",
        "http://api.geonames.org/search?featureClass=P&type=json&username=jaguillette&west=125.4&south=46.5&north=47.5&east=126.4"
       ]
      },
      {
       "output_type": "stream",
       "stream": "stdout",
       "text": [
        "\n",
        "http://api.geonames.org/search?featureClass=P&startRow=100&type=json&username=jaguillette&west=125.4&south=46.5&north=47.5&east=126.4"
       ]
      },
      {
       "output_type": "stream",
       "stream": "stdout",
       "text": [
        "\n",
        "http://api.geonames.org/search?featureClass=P&type=json&username=jaguillette&west=126.4&south=46.5&north=47.5&east=127.4"
       ]
      },
      {
       "output_type": "stream",
       "stream": "stdout",
       "text": [
        "\n",
        "http://api.geonames.org/search?featureClass=P&startRow=100&type=json&username=jaguillette&west=126.4&south=46.5&north=47.5&east=127.4"
       ]
      },
      {
       "output_type": "stream",
       "stream": "stdout",
       "text": [
        "\n",
        "http://api.geonames.org/search?featureClass=P&type=json&username=jaguillette&west=127.4&south=46.5&north=47.5&east=128.4"
       ]
      },
      {
       "output_type": "stream",
       "stream": "stdout",
       "text": [
        "\n",
        "http://api.geonames.org/search?featureClass=P&type=json&username=jaguillette&west=128.4&south=46.5&north=47.5&east=129.4"
       ]
      },
      {
       "output_type": "stream",
       "stream": "stdout",
       "text": [
        "\n",
        "http://api.geonames.org/search?featureClass=P&type=json&username=jaguillette&west=129.4&south=46.5&north=47.5&east=130.4"
       ]
      },
      {
       "output_type": "stream",
       "stream": "stdout",
       "text": [
        "\n",
        "http://api.geonames.org/search?featureClass=P&startRow=100&type=json&username=jaguillette&west=129.4&south=46.5&north=47.5&east=130.4"
       ]
      },
      {
       "output_type": "stream",
       "stream": "stdout",
       "text": [
        "\n",
        "http://api.geonames.org/search?featureClass=P&type=json&username=jaguillette&west=130.4&south=46.5&north=47.5&east=131.4"
       ]
      },
      {
       "output_type": "stream",
       "stream": "stdout",
       "text": [
        "\n",
        "http://api.geonames.org/search?featureClass=P&startRow=100&type=json&username=jaguillette&west=130.4&south=46.5&north=47.5&east=131.4"
       ]
      },
      {
       "output_type": "stream",
       "stream": "stdout",
       "text": [
        "\n",
        "http://api.geonames.org/search?featureClass=P&type=json&username=jaguillette&west=131.4&south=46.5&north=47.5&east=132.4"
       ]
      },
      {
       "output_type": "stream",
       "stream": "stdout",
       "text": [
        "\n",
        "http://api.geonames.org/search?featureClass=P&type=json&username=jaguillette&west=132.4&south=46.5&north=47.5&east=133.4"
       ]
      },
      {
       "output_type": "stream",
       "stream": "stdout",
       "text": [
        "\n",
        "http://api.geonames.org/search?featureClass=P&type=json&username=jaguillette&west=133.4&south=46.5&north=47.5&east=134.4"
       ]
      },
      {
       "output_type": "stream",
       "stream": "stdout",
       "text": [
        "\n",
        "http://api.geonames.org/search?featureClass=P&type=json&username=jaguillette&west=134.4&south=46.5&north=47.5&east=135.4"
       ]
      },
      {
       "output_type": "stream",
       "stream": "stdout",
       "text": [
        "\n",
        "http://api.geonames.org/search?featureClass=P&type=json&username=jaguillette&west=135.4&south=46.5&north=47.5&east=136.4"
       ]
      },
      {
       "output_type": "stream",
       "stream": "stdout",
       "text": [
        "\n",
        "http://api.geonames.org/search?featureClass=P&type=json&username=jaguillette&west=136.4&south=46.5&north=47.5&east=137.4"
       ]
      },
      {
       "output_type": "stream",
       "stream": "stdout",
       "text": [
        "\n",
        "http://api.geonames.org/search?featureClass=P&type=json&username=jaguillette&west=137.4&south=46.5&north=47.5&east=138.4"
       ]
      },
      {
       "output_type": "stream",
       "stream": "stdout",
       "text": [
        "\n",
        "http://api.geonames.org/search?featureClass=P&type=json&username=jaguillette&west=138.4&south=46.5&north=47.5&east=139.4"
       ]
      },
      {
       "output_type": "stream",
       "stream": "stdout",
       "text": [
        "\n",
        "http://api.geonames.org/search?featureClass=P&type=json&username=jaguillette&west=139.4&south=46.5&north=47.5&east=140.4"
       ]
      },
      {
       "output_type": "stream",
       "stream": "stdout",
       "text": [
        "\n",
        "http://api.geonames.org/search?featureClass=P&type=json&username=jaguillette&west=140.4&south=46.5&north=47.5&east=141.4"
       ]
      },
      {
       "output_type": "stream",
       "stream": "stdout",
       "text": [
        "\n",
        "http://api.geonames.org/search?featureClass=P&type=json&username=jaguillette&west=141.4&south=46.5&north=47.5&east=142.4"
       ]
      },
      {
       "output_type": "stream",
       "stream": "stdout",
       "text": [
        "\n",
        "http://api.geonames.org/search?featureClass=P&type=json&username=jaguillette&west=142.4&south=46.5&north=47.5&east=143.4"
       ]
      },
      {
       "output_type": "stream",
       "stream": "stdout",
       "text": [
        "\n",
        "http://api.geonames.org/search?featureClass=P&type=json&username=jaguillette&west=143.4&south=46.5&north=47.5&east=144.4"
       ]
      },
      {
       "output_type": "stream",
       "stream": "stdout",
       "text": [
        "\n",
        "http://api.geonames.org/search?featureClass=P&type=json&username=jaguillette&west=144.4&south=46.5&north=47.5&east=145.4"
       ]
      },
      {
       "output_type": "stream",
       "stream": "stdout",
       "text": [
        "\n",
        "http://api.geonames.org/search?featureClass=P&type=json&username=jaguillette&west=145.4&south=46.5&north=47.5&east=146.4"
       ]
      },
      {
       "output_type": "stream",
       "stream": "stdout",
       "text": [
        "\n",
        "http://api.geonames.org/search?featureClass=P&type=json&username=jaguillette&west=146.4&south=46.5&north=47.5&east=147.4"
       ]
      },
      {
       "output_type": "stream",
       "stream": "stdout",
       "text": [
        "\n",
        "http://api.geonames.org/search?featureClass=P&type=json&username=jaguillette&west=147.4&south=46.5&north=47.5&east=148.4"
       ]
      },
      {
       "output_type": "stream",
       "stream": "stdout",
       "text": [
        "\n",
        "http://api.geonames.org/search?featureClass=P&type=json&username=jaguillette&west=148.4&south=46.5&north=47.5&east=149.4"
       ]
      },
      {
       "output_type": "stream",
       "stream": "stdout",
       "text": [
        "\n",
        "http://api.geonames.org/search?featureClass=P&type=json&username=jaguillette&west=149.4&south=46.5&north=47.5&east=150.4"
       ]
      },
      {
       "output_type": "stream",
       "stream": "stdout",
       "text": [
        "\n",
        "http://api.geonames.org/search?featureClass=P&type=json&username=jaguillette&west=150.4&south=46.5&north=47.5&east=151.4"
       ]
      },
      {
       "output_type": "stream",
       "stream": "stdout",
       "text": [
        "\n",
        "http://api.geonames.org/search?featureClass=P&type=json&username=jaguillette&west=151.4&south=46.5&north=47.5&east=152.4"
       ]
      },
      {
       "output_type": "stream",
       "stream": "stdout",
       "text": [
        "\n",
        "http://api.geonames.org/search?featureClass=P&type=json&username=jaguillette&west=152.4&south=46.5&north=47.5&east=153.4"
       ]
      },
      {
       "output_type": "stream",
       "stream": "stdout",
       "text": [
        "\n",
        "http://api.geonames.org/search?featureClass=P&type=json&username=jaguillette&west=153.4&south=46.5&north=47.5&east=154.4"
       ]
      },
      {
       "output_type": "stream",
       "stream": "stdout",
       "text": [
        "\n",
        "http://api.geonames.org/search?featureClass=P&type=json&username=jaguillette&west=154.4&south=46.5&north=47.5&east=155.4"
       ]
      },
      {
       "output_type": "stream",
       "stream": "stdout",
       "text": [
        "\n",
        "http://api.geonames.org/search?featureClass=P&type=json&username=jaguillette&west=155.4&south=46.5&north=47.5&east=156.4"
       ]
      },
      {
       "output_type": "stream",
       "stream": "stdout",
       "text": [
        "\n",
        "http://api.geonames.org/search?featureClass=P&type=json&username=jaguillette&west=156.4&south=46.5&north=47.5&east=157.4"
       ]
      },
      {
       "output_type": "stream",
       "stream": "stdout",
       "text": [
        "\n",
        "http://api.geonames.org/search?featureClass=P&type=json&username=jaguillette&west=157.4&south=46.5&north=47.5&east=158.4"
       ]
      },
      {
       "output_type": "stream",
       "stream": "stdout",
       "text": [
        "\n",
        "http://api.geonames.org/search?featureClass=P&type=json&username=jaguillette&west=158.4&south=46.5&north=47.5&east=159.4"
       ]
      },
      {
       "output_type": "stream",
       "stream": "stdout",
       "text": [
        "\n",
        "http://api.geonames.org/search?featureClass=P&type=json&username=jaguillette&west=159.4&south=46.5&north=47.5&east=160.4"
       ]
      },
      {
       "output_type": "stream",
       "stream": "stdout",
       "text": [
        "\n",
        "http://api.geonames.org/search?featureClass=P&type=json&username=jaguillette&west=160.4&south=46.5&north=47.5&east=161.4"
       ]
      },
      {
       "output_type": "stream",
       "stream": "stdout",
       "text": [
        "\n",
        "http://api.geonames.org/search?featureClass=P&type=json&username=jaguillette&west=161.4&south=46.5&north=47.5&east=162.4"
       ]
      },
      {
       "output_type": "stream",
       "stream": "stdout",
       "text": [
        "\n",
        "http://api.geonames.org/search?featureClass=P&type=json&username=jaguillette&west=162.4&south=46.5&north=47.5&east=163.4"
       ]
      },
      {
       "output_type": "stream",
       "stream": "stdout",
       "text": [
        "\n",
        "http://api.geonames.org/search?featureClass=P&type=json&username=jaguillette&west=163.4&south=46.5&north=47.5&east=164.4"
       ]
      },
      {
       "output_type": "stream",
       "stream": "stdout",
       "text": [
        "\n",
        "http://api.geonames.org/search?featureClass=P&type=json&username=jaguillette&west=164.4&south=46.5&north=47.5&east=165.4"
       ]
      },
      {
       "output_type": "stream",
       "stream": "stdout",
       "text": [
        "\n",
        "http://api.geonames.org/search?featureClass=P&type=json&username=jaguillette&west=165.4&south=46.5&north=47.5&east=166.4"
       ]
      },
      {
       "output_type": "stream",
       "stream": "stdout",
       "text": [
        "\n",
        "http://api.geonames.org/search?featureClass=P&type=json&username=jaguillette&west=166.4&south=46.5&north=47.5&east=167.4"
       ]
      },
      {
       "output_type": "stream",
       "stream": "stdout",
       "text": [
        "\n",
        "http://api.geonames.org/search?featureClass=P&type=json&username=jaguillette&west=167.4&south=46.5&north=47.5&east=168.4"
       ]
      },
      {
       "output_type": "stream",
       "stream": "stdout",
       "text": [
        "\n",
        "http://api.geonames.org/search?featureClass=P&type=json&username=jaguillette&west=168.4&south=46.5&north=47.5&east=169.4"
       ]
      },
      {
       "output_type": "stream",
       "stream": "stdout",
       "text": [
        "\n",
        "http://api.geonames.org/search?featureClass=P&type=json&username=jaguillette&west=169.4&south=46.5&north=47.5&east=170.4"
       ]
      },
      {
       "output_type": "stream",
       "stream": "stdout",
       "text": [
        "\n",
        "http://api.geonames.org/search?featureClass=P&type=json&username=jaguillette&west=170.4&south=46.5&north=47.5&east=171.4"
       ]
      },
      {
       "output_type": "stream",
       "stream": "stdout",
       "text": [
        "\n",
        "http://api.geonames.org/search?featureClass=P&type=json&username=jaguillette&west=171.4&south=46.5&north=47.5&east=172.4"
       ]
      },
      {
       "output_type": "stream",
       "stream": "stdout",
       "text": [
        "\n",
        "http://api.geonames.org/search?featureClass=P&type=json&username=jaguillette&west=172.4&south=46.5&north=47.5&east=173.4"
       ]
      },
      {
       "output_type": "stream",
       "stream": "stdout",
       "text": [
        "\n",
        "http://api.geonames.org/search?featureClass=P&type=json&username=jaguillette&west=173.4&south=46.5&north=47.5&east=174.4"
       ]
      },
      {
       "output_type": "stream",
       "stream": "stdout",
       "text": [
        "\n",
        "http://api.geonames.org/search?featureClass=P&type=json&username=jaguillette&west=174.4&south=46.5&north=47.5&east=175.4"
       ]
      },
      {
       "output_type": "stream",
       "stream": "stdout",
       "text": [
        "\n",
        "http://api.geonames.org/search?featureClass=P&type=json&username=jaguillette&west=175.4&south=46.5&north=47.5&east=176.4"
       ]
      },
      {
       "output_type": "stream",
       "stream": "stdout",
       "text": [
        "\n",
        "http://api.geonames.org/search?featureClass=P&type=json&username=jaguillette&west=176.4&south=46.5&north=47.5&east=177.4"
       ]
      },
      {
       "output_type": "stream",
       "stream": "stdout",
       "text": [
        "\n",
        "http://api.geonames.org/search?featureClass=P&type=json&username=jaguillette&west=177.4&south=46.5&north=47.5&east=178.4"
       ]
      },
      {
       "output_type": "stream",
       "stream": "stdout",
       "text": [
        "\n",
        "http://api.geonames.org/search?featureClass=P&type=json&username=jaguillette&west=178.4&south=46.5&north=47.5&east=179.4"
       ]
      },
      {
       "output_type": "stream",
       "stream": "stdout",
       "text": [
        "\n",
        "http://api.geonames.org/search?featureClass=P&type=json&username=jaguillette&west=179.4&south=46.5&north=47.5&east=180"
       ]
      },
      {
       "output_type": "stream",
       "stream": "stdout",
       "text": [
        "\n",
        "http://api.geonames.org/search?featureClass=P&type=json&username=jaguillette&west=91.4&south=47.5&north=48.5&east=92.4"
       ]
      },
      {
       "output_type": "stream",
       "stream": "stdout",
       "text": [
        "\n",
        "http://api.geonames.org/search?featureClass=P&type=json&username=jaguillette&west=92.4&south=47.5&north=48.5&east=93.4"
       ]
      },
      {
       "output_type": "stream",
       "stream": "stdout",
       "text": [
        "\n",
        "http://api.geonames.org/search?featureClass=P&type=json&username=jaguillette&west=93.4&south=47.5&north=48.5&east=94.4"
       ]
      },
      {
       "output_type": "stream",
       "stream": "stdout",
       "text": [
        "\n",
        "http://api.geonames.org/search?featureClass=P&type=json&username=jaguillette&west=94.4&south=47.5&north=48.5&east=95.4"
       ]
      },
      {
       "output_type": "stream",
       "stream": "stdout",
       "text": [
        "\n",
        "http://api.geonames.org/search?featureClass=P&type=json&username=jaguillette&west=95.4&south=47.5&north=48.5&east=96.4"
       ]
      },
      {
       "output_type": "stream",
       "stream": "stdout",
       "text": [
        "\n",
        "http://api.geonames.org/search?featureClass=P&type=json&username=jaguillette&west=96.4&south=47.5&north=48.5&east=97.4"
       ]
      },
      {
       "output_type": "stream",
       "stream": "stdout",
       "text": [
        "\n",
        "http://api.geonames.org/search?featureClass=P&type=json&username=jaguillette&west=97.4&south=47.5&north=48.5&east=98.4"
       ]
      },
      {
       "output_type": "stream",
       "stream": "stdout",
       "text": [
        "\n",
        "http://api.geonames.org/search?featureClass=P&type=json&username=jaguillette&west=98.4&south=47.5&north=48.5&east=99.4"
       ]
      },
      {
       "output_type": "stream",
       "stream": "stdout",
       "text": [
        "\n",
        "http://api.geonames.org/search?featureClass=P&type=json&username=jaguillette&west=99.4&south=47.5&north=48.5&east=100.4"
       ]
      },
      {
       "output_type": "stream",
       "stream": "stdout",
       "text": [
        "\n",
        "http://api.geonames.org/search?featureClass=P&type=json&username=jaguillette&west=100.4&south=47.5&north=48.5&east=101.4"
       ]
      },
      {
       "output_type": "stream",
       "stream": "stdout",
       "text": [
        "\n",
        "http://api.geonames.org/search?featureClass=P&type=json&username=jaguillette&west=101.4&south=47.5&north=48.5&east=102.4"
       ]
      },
      {
       "output_type": "stream",
       "stream": "stdout",
       "text": [
        "\n",
        "http://api.geonames.org/search?featureClass=P&type=json&username=jaguillette&west=102.4&south=47.5&north=48.5&east=103.4"
       ]
      },
      {
       "output_type": "stream",
       "stream": "stdout",
       "text": [
        "\n",
        "http://api.geonames.org/search?featureClass=P&type=json&username=jaguillette&west=103.4&south=47.5&north=48.5&east=104.4"
       ]
      },
      {
       "output_type": "stream",
       "stream": "stdout",
       "text": [
        "\n",
        "http://api.geonames.org/search?featureClass=P&type=json&username=jaguillette&west=104.4&south=47.5&north=48.5&east=105.4"
       ]
      },
      {
       "output_type": "stream",
       "stream": "stdout",
       "text": [
        "\n",
        "http://api.geonames.org/search?featureClass=P&type=json&username=jaguillette&west=105.4&south=47.5&north=48.5&east=106.4"
       ]
      },
      {
       "output_type": "stream",
       "stream": "stdout",
       "text": [
        "\n",
        "http://api.geonames.org/search?featureClass=P&type=json&username=jaguillette&west=106.4&south=47.5&north=48.5&east=107.4"
       ]
      },
      {
       "output_type": "stream",
       "stream": "stdout",
       "text": [
        "\n",
        "http://api.geonames.org/search?featureClass=P&type=json&username=jaguillette&west=107.4&south=47.5&north=48.5&east=108.4"
       ]
      },
      {
       "output_type": "stream",
       "stream": "stdout",
       "text": [
        "\n",
        "http://api.geonames.org/search?featureClass=P&type=json&username=jaguillette&west=108.4&south=47.5&north=48.5&east=109.4"
       ]
      },
      {
       "output_type": "stream",
       "stream": "stdout",
       "text": [
        "\n",
        "http://api.geonames.org/search?featureClass=P&type=json&username=jaguillette&west=109.4&south=47.5&north=48.5&east=110.4"
       ]
      },
      {
       "output_type": "stream",
       "stream": "stdout",
       "text": [
        "\n",
        "http://api.geonames.org/search?featureClass=P&type=json&username=jaguillette&west=110.4&south=47.5&north=48.5&east=111.4"
       ]
      },
      {
       "output_type": "stream",
       "stream": "stdout",
       "text": [
        "\n",
        "http://api.geonames.org/search?featureClass=P&type=json&username=jaguillette&west=111.4&south=47.5&north=48.5&east=112.4"
       ]
      },
      {
       "output_type": "stream",
       "stream": "stdout",
       "text": [
        "\n",
        "http://api.geonames.org/search?featureClass=P&type=json&username=jaguillette&west=112.4&south=47.5&north=48.5&east=113.4"
       ]
      },
      {
       "output_type": "stream",
       "stream": "stdout",
       "text": [
        "\n",
        "http://api.geonames.org/search?featureClass=P&type=json&username=jaguillette&west=113.4&south=47.5&north=48.5&east=114.4"
       ]
      },
      {
       "output_type": "stream",
       "stream": "stdout",
       "text": [
        "\n",
        "http://api.geonames.org/search?featureClass=P&type=json&username=jaguillette&west=114.4&south=47.5&north=48.5&east=115.4"
       ]
      },
      {
       "output_type": "stream",
       "stream": "stdout",
       "text": [
        "\n",
        "http://api.geonames.org/search?featureClass=P&type=json&username=jaguillette&west=115.4&south=47.5&north=48.5&east=116.4"
       ]
      },
      {
       "output_type": "stream",
       "stream": "stdout",
       "text": [
        "\n",
        "http://api.geonames.org/search?featureClass=P&type=json&username=jaguillette&west=116.4&south=47.5&north=48.5&east=117.4"
       ]
      },
      {
       "output_type": "stream",
       "stream": "stdout",
       "text": [
        "\n",
        "http://api.geonames.org/search?featureClass=P&type=json&username=jaguillette&west=117.4&south=47.5&north=48.5&east=118.4"
       ]
      },
      {
       "output_type": "stream",
       "stream": "stdout",
       "text": [
        "\n",
        "http://api.geonames.org/search?featureClass=P&type=json&username=jaguillette&west=118.4&south=47.5&north=48.5&east=119.4"
       ]
      },
      {
       "output_type": "stream",
       "stream": "stdout",
       "text": [
        "\n",
        "http://api.geonames.org/search?featureClass=P&type=json&username=jaguillette&west=119.4&south=47.5&north=48.5&east=120.4"
       ]
      },
      {
       "output_type": "stream",
       "stream": "stdout",
       "text": [
        "\n",
        "http://api.geonames.org/search?featureClass=P&type=json&username=jaguillette&west=120.4&south=47.5&north=48.5&east=121.4"
       ]
      },
      {
       "output_type": "stream",
       "stream": "stdout",
       "text": [
        "\n",
        "http://api.geonames.org/search?featureClass=P&type=json&username=jaguillette&west=121.4&south=47.5&north=48.5&east=122.4"
       ]
      },
      {
       "output_type": "stream",
       "stream": "stdout",
       "text": [
        "\n",
        "http://api.geonames.org/search?featureClass=P&type=json&username=jaguillette&west=122.4&south=47.5&north=48.5&east=123.4"
       ]
      },
      {
       "output_type": "stream",
       "stream": "stdout",
       "text": [
        "\n",
        "http://api.geonames.org/search?featureClass=P&startRow=100&type=json&username=jaguillette&west=122.4&south=47.5&north=48.5&east=123.4"
       ]
      },
      {
       "output_type": "stream",
       "stream": "stdout",
       "text": [
        "\n",
        "http://api.geonames.org/search?featureClass=P&startRow=200&type=json&username=jaguillette&west=122.4&south=47.5&north=48.5&east=123.4"
       ]
      },
      {
       "output_type": "stream",
       "stream": "stdout",
       "text": [
        "\n",
        "http://api.geonames.org/search?featureClass=P&startRow=300&type=json&username=jaguillette&west=122.4&south=47.5&north=48.5&east=123.4"
       ]
      },
      {
       "output_type": "stream",
       "stream": "stdout",
       "text": [
        "\n",
        "http://api.geonames.org/search?featureClass=P&startRow=400&type=json&username=jaguillette&west=122.4&south=47.5&north=48.5&east=123.4"
       ]
      },
      {
       "output_type": "stream",
       "stream": "stdout",
       "text": [
        "\n",
        "http://api.geonames.org/search?featureClass=P&startRow=500&type=json&username=jaguillette&west=122.4&south=47.5&north=48.5&east=123.4"
       ]
      },
      {
       "output_type": "stream",
       "stream": "stdout",
       "text": [
        "\n",
        "http://api.geonames.org/search?featureClass=P&type=json&username=jaguillette&west=123.4&south=47.5&north=48.5&east=124.4"
       ]
      },
      {
       "output_type": "stream",
       "stream": "stdout",
       "text": [
        "\n",
        "http://api.geonames.org/search?featureClass=P&startRow=100&type=json&username=jaguillette&west=123.4&south=47.5&north=48.5&east=124.4"
       ]
      },
      {
       "output_type": "stream",
       "stream": "stdout",
       "text": [
        "\n",
        "http://api.geonames.org/search?featureClass=P&startRow=200&type=json&username=jaguillette&west=123.4&south=47.5&north=48.5&east=124.4"
       ]
      },
      {
       "output_type": "stream",
       "stream": "stdout",
       "text": [
        "\n",
        "http://api.geonames.org/search?featureClass=P&startRow=300&type=json&username=jaguillette&west=123.4&south=47.5&north=48.5&east=124.4"
       ]
      },
      {
       "output_type": "stream",
       "stream": "stdout",
       "text": [
        "\n",
        "http://api.geonames.org/search?featureClass=P&startRow=400&type=json&username=jaguillette&west=123.4&south=47.5&north=48.5&east=124.4"
       ]
      },
      {
       "output_type": "stream",
       "stream": "stdout",
       "text": [
        "\n",
        "http://api.geonames.org/search?featureClass=P&startRow=500&type=json&username=jaguillette&west=123.4&south=47.5&north=48.5&east=124.4"
       ]
      },
      {
       "output_type": "stream",
       "stream": "stdout",
       "text": [
        "\n",
        "http://api.geonames.org/search?featureClass=P&type=json&username=jaguillette&west=124.4&south=47.5&north=48.5&east=125.4"
       ]
      },
      {
       "output_type": "stream",
       "stream": "stdout",
       "text": [
        "\n",
        "http://api.geonames.org/search?featureClass=P&startRow=100&type=json&username=jaguillette&west=124.4&south=47.5&north=48.5&east=125.4"
       ]
      },
      {
       "output_type": "stream",
       "stream": "stdout",
       "text": [
        "\n",
        "http://api.geonames.org/search?featureClass=P&startRow=200&type=json&username=jaguillette&west=124.4&south=47.5&north=48.5&east=125.4"
       ]
      },
      {
       "output_type": "stream",
       "stream": "stdout",
       "text": [
        "\n",
        "http://api.geonames.org/search?featureClass=P&type=json&username=jaguillette&west=125.4&south=47.5&north=48.5&east=126.4"
       ]
      },
      {
       "output_type": "stream",
       "stream": "stdout",
       "text": [
        "\n",
        "http://api.geonames.org/search?featureClass=P&startRow=100&type=json&username=jaguillette&west=125.4&south=47.5&north=48.5&east=126.4"
       ]
      },
      {
       "output_type": "stream",
       "stream": "stdout",
       "text": [
        "\n",
        "http://api.geonames.org/search?featureClass=P&startRow=200&type=json&username=jaguillette&west=125.4&south=47.5&north=48.5&east=126.4"
       ]
      },
      {
       "output_type": "stream",
       "stream": "stdout",
       "text": [
        "\n",
        "http://api.geonames.org/search?featureClass=P&type=json&username=jaguillette&west=126.4&south=47.5&north=48.5&east=127.4"
       ]
      },
      {
       "output_type": "stream",
       "stream": "stdout",
       "text": [
        "\n",
        "http://api.geonames.org/search?featureClass=P&startRow=100&type=json&username=jaguillette&west=126.4&south=47.5&north=48.5&east=127.4"
       ]
      },
      {
       "output_type": "stream",
       "stream": "stdout",
       "text": [
        "\n",
        "http://api.geonames.org/search?featureClass=P&startRow=200&type=json&username=jaguillette&west=126.4&south=47.5&north=48.5&east=127.4"
       ]
      },
      {
       "output_type": "stream",
       "stream": "stdout",
       "text": [
        "\n",
        "http://api.geonames.org/search?featureClass=P&startRow=300&type=json&username=jaguillette&west=126.4&south=47.5&north=48.5&east=127.4"
       ]
      },
      {
       "output_type": "stream",
       "stream": "stdout",
       "text": [
        "\n",
        "http://api.geonames.org/search?featureClass=P&type=json&username=jaguillette&west=127.4&south=47.5&north=48.5&east=128.4"
       ]
      },
      {
       "output_type": "stream",
       "stream": "stdout",
       "text": [
        "\n",
        "http://api.geonames.org/search?featureClass=P&type=json&username=jaguillette&west=128.4&south=47.5&north=48.5&east=129.4"
       ]
      },
      {
       "output_type": "stream",
       "stream": "stdout",
       "text": [
        "\n",
        "http://api.geonames.org/search?featureClass=P&startRow=100&type=json&username=jaguillette&west=128.4&south=47.5&north=48.5&east=129.4"
       ]
      },
      {
       "output_type": "stream",
       "stream": "stdout",
       "text": [
        "\n",
        "http://api.geonames.org/search?featureClass=P&type=json&username=jaguillette&west=129.4&south=47.5&north=48.5&east=130.4"
       ]
      },
      {
       "output_type": "stream",
       "stream": "stdout",
       "text": [
        "\n",
        "http://api.geonames.org/search?featureClass=P&startRow=100&type=json&username=jaguillette&west=129.4&south=47.5&north=48.5&east=130.4"
       ]
      },
      {
       "output_type": "stream",
       "stream": "stdout",
       "text": [
        "\n",
        "http://api.geonames.org/search?featureClass=P&type=json&username=jaguillette&west=130.4&south=47.5&north=48.5&east=131.4"
       ]
      },
      {
       "output_type": "stream",
       "stream": "stdout",
       "text": [
        "\n",
        "http://api.geonames.org/search?featureClass=P&startRow=100&type=json&username=jaguillette&west=130.4&south=47.5&north=48.5&east=131.4"
       ]
      },
      {
       "output_type": "stream",
       "stream": "stdout",
       "text": [
        "\n",
        "http://api.geonames.org/search?featureClass=P&type=json&username=jaguillette&west=131.4&south=47.5&north=48.5&east=132.4"
       ]
      },
      {
       "output_type": "stream",
       "stream": "stdout",
       "text": [
        "\n",
        "http://api.geonames.org/search?featureClass=P&type=json&username=jaguillette&west=132.4&south=47.5&north=48.5&east=133.4"
       ]
      },
      {
       "output_type": "stream",
       "stream": "stdout",
       "text": [
        "\n",
        "http://api.geonames.org/search?featureClass=P&type=json&username=jaguillette&west=133.4&south=47.5&north=48.5&east=134.4"
       ]
      },
      {
       "output_type": "stream",
       "stream": "stdout",
       "text": [
        "\n",
        "http://api.geonames.org/search?featureClass=P&type=json&username=jaguillette&west=134.4&south=47.5&north=48.5&east=135.4"
       ]
      },
      {
       "output_type": "stream",
       "stream": "stdout",
       "text": [
        "\n",
        "http://api.geonames.org/search?featureClass=P&startRow=100&type=json&username=jaguillette&west=134.4&south=47.5&north=48.5&east=135.4"
       ]
      },
      {
       "output_type": "stream",
       "stream": "stdout",
       "text": [
        "\n",
        "http://api.geonames.org/search?featureClass=P&type=json&username=jaguillette&west=135.4&south=47.5&north=48.5&east=136.4"
       ]
      },
      {
       "output_type": "stream",
       "stream": "stdout",
       "text": [
        "\n",
        "http://api.geonames.org/search?featureClass=P&type=json&username=jaguillette&west=136.4&south=47.5&north=48.5&east=137.4"
       ]
      },
      {
       "output_type": "stream",
       "stream": "stdout",
       "text": [
        "\n",
        "http://api.geonames.org/search?featureClass=P&type=json&username=jaguillette&west=137.4&south=47.5&north=48.5&east=138.4"
       ]
      },
      {
       "output_type": "stream",
       "stream": "stdout",
       "text": [
        "\n",
        "http://api.geonames.org/search?featureClass=P&type=json&username=jaguillette&west=138.4&south=47.5&north=48.5&east=139.4"
       ]
      },
      {
       "output_type": "stream",
       "stream": "stdout",
       "text": [
        "\n",
        "http://api.geonames.org/search?featureClass=P&type=json&username=jaguillette&west=139.4&south=47.5&north=48.5&east=140.4"
       ]
      },
      {
       "output_type": "stream",
       "stream": "stdout",
       "text": [
        "\n",
        "http://api.geonames.org/search?featureClass=P&type=json&username=jaguillette&west=140.4&south=47.5&north=48.5&east=141.4"
       ]
      },
      {
       "output_type": "stream",
       "stream": "stdout",
       "text": [
        "\n",
        "http://api.geonames.org/search?featureClass=P&type=json&username=jaguillette&west=141.4&south=47.5&north=48.5&east=142.4"
       ]
      },
      {
       "output_type": "stream",
       "stream": "stdout",
       "text": [
        "\n",
        "http://api.geonames.org/search?featureClass=P&type=json&username=jaguillette&west=142.4&south=47.5&north=48.5&east=143.4"
       ]
      },
      {
       "output_type": "stream",
       "stream": "stdout",
       "text": [
        "\n",
        "http://api.geonames.org/search?featureClass=P&type=json&username=jaguillette&west=143.4&south=47.5&north=48.5&east=144.4"
       ]
      },
      {
       "output_type": "stream",
       "stream": "stdout",
       "text": [
        "\n",
        "http://api.geonames.org/search?featureClass=P&type=json&username=jaguillette&west=144.4&south=47.5&north=48.5&east=145.4"
       ]
      },
      {
       "output_type": "stream",
       "stream": "stdout",
       "text": [
        "\n",
        "http://api.geonames.org/search?featureClass=P&type=json&username=jaguillette&west=145.4&south=47.5&north=48.5&east=146.4"
       ]
      },
      {
       "output_type": "stream",
       "stream": "stdout",
       "text": [
        "\n",
        "http://api.geonames.org/search?featureClass=P&type=json&username=jaguillette&west=146.4&south=47.5&north=48.5&east=147.4"
       ]
      },
      {
       "output_type": "stream",
       "stream": "stdout",
       "text": [
        "\n",
        "http://api.geonames.org/search?featureClass=P&type=json&username=jaguillette&west=147.4&south=47.5&north=48.5&east=148.4"
       ]
      },
      {
       "output_type": "stream",
       "stream": "stdout",
       "text": [
        "\n",
        "http://api.geonames.org/search?featureClass=P&type=json&username=jaguillette&west=148.4&south=47.5&north=48.5&east=149.4"
       ]
      },
      {
       "output_type": "stream",
       "stream": "stdout",
       "text": [
        "\n",
        "http://api.geonames.org/search?featureClass=P&type=json&username=jaguillette&west=149.4&south=47.5&north=48.5&east=150.4"
       ]
      },
      {
       "output_type": "stream",
       "stream": "stdout",
       "text": [
        "\n",
        "http://api.geonames.org/search?featureClass=P&type=json&username=jaguillette&west=150.4&south=47.5&north=48.5&east=151.4"
       ]
      },
      {
       "output_type": "stream",
       "stream": "stdout",
       "text": [
        "\n",
        "http://api.geonames.org/search?featureClass=P&type=json&username=jaguillette&west=151.4&south=47.5&north=48.5&east=152.4"
       ]
      },
      {
       "output_type": "stream",
       "stream": "stdout",
       "text": [
        "\n",
        "http://api.geonames.org/search?featureClass=P&type=json&username=jaguillette&west=152.4&south=47.5&north=48.5&east=153.4"
       ]
      },
      {
       "output_type": "stream",
       "stream": "stdout",
       "text": [
        "\n",
        "http://api.geonames.org/search?featureClass=P&type=json&username=jaguillette&west=153.4&south=47.5&north=48.5&east=154.4"
       ]
      },
      {
       "output_type": "stream",
       "stream": "stdout",
       "text": [
        "\n",
        "http://api.geonames.org/search?featureClass=P&type=json&username=jaguillette&west=154.4&south=47.5&north=48.5&east=155.4"
       ]
      },
      {
       "output_type": "stream",
       "stream": "stdout",
       "text": [
        "\n",
        "http://api.geonames.org/search?featureClass=P&type=json&username=jaguillette&west=155.4&south=47.5&north=48.5&east=156.4"
       ]
      },
      {
       "output_type": "stream",
       "stream": "stdout",
       "text": [
        "\n",
        "http://api.geonames.org/search?featureClass=P&type=json&username=jaguillette&west=156.4&south=47.5&north=48.5&east=157.4"
       ]
      },
      {
       "output_type": "stream",
       "stream": "stdout",
       "text": [
        "\n",
        "http://api.geonames.org/search?featureClass=P&type=json&username=jaguillette&west=157.4&south=47.5&north=48.5&east=158.4"
       ]
      },
      {
       "output_type": "stream",
       "stream": "stdout",
       "text": [
        "\n",
        "http://api.geonames.org/search?featureClass=P&type=json&username=jaguillette&west=158.4&south=47.5&north=48.5&east=159.4"
       ]
      },
      {
       "output_type": "stream",
       "stream": "stdout",
       "text": [
        "\n",
        "http://api.geonames.org/search?featureClass=P&type=json&username=jaguillette&west=159.4&south=47.5&north=48.5&east=160.4"
       ]
      },
      {
       "output_type": "stream",
       "stream": "stdout",
       "text": [
        "\n",
        "http://api.geonames.org/search?featureClass=P&type=json&username=jaguillette&west=160.4&south=47.5&north=48.5&east=161.4"
       ]
      },
      {
       "output_type": "stream",
       "stream": "stdout",
       "text": [
        "\n",
        "http://api.geonames.org/search?featureClass=P&type=json&username=jaguillette&west=161.4&south=47.5&north=48.5&east=162.4"
       ]
      },
      {
       "output_type": "stream",
       "stream": "stdout",
       "text": [
        "\n",
        "http://api.geonames.org/search?featureClass=P&type=json&username=jaguillette&west=162.4&south=47.5&north=48.5&east=163.4"
       ]
      },
      {
       "output_type": "stream",
       "stream": "stdout",
       "text": [
        "\n",
        "http://api.geonames.org/search?featureClass=P&type=json&username=jaguillette&west=163.4&south=47.5&north=48.5&east=164.4"
       ]
      },
      {
       "output_type": "stream",
       "stream": "stdout",
       "text": [
        "\n",
        "http://api.geonames.org/search?featureClass=P&type=json&username=jaguillette&west=164.4&south=47.5&north=48.5&east=165.4"
       ]
      },
      {
       "output_type": "stream",
       "stream": "stdout",
       "text": [
        "\n",
        "http://api.geonames.org/search?featureClass=P&type=json&username=jaguillette&west=165.4&south=47.5&north=48.5&east=166.4"
       ]
      },
      {
       "output_type": "stream",
       "stream": "stdout",
       "text": [
        "\n",
        "http://api.geonames.org/search?featureClass=P&type=json&username=jaguillette&west=166.4&south=47.5&north=48.5&east=167.4"
       ]
      },
      {
       "output_type": "stream",
       "stream": "stdout",
       "text": [
        "\n",
        "http://api.geonames.org/search?featureClass=P&type=json&username=jaguillette&west=167.4&south=47.5&north=48.5&east=168.4"
       ]
      },
      {
       "output_type": "stream",
       "stream": "stdout",
       "text": [
        "\n",
        "http://api.geonames.org/search?featureClass=P&type=json&username=jaguillette&west=168.4&south=47.5&north=48.5&east=169.4"
       ]
      },
      {
       "output_type": "stream",
       "stream": "stdout",
       "text": [
        "\n",
        "http://api.geonames.org/search?featureClass=P&type=json&username=jaguillette&west=169.4&south=47.5&north=48.5&east=170.4"
       ]
      },
      {
       "output_type": "stream",
       "stream": "stdout",
       "text": [
        "\n",
        "http://api.geonames.org/search?featureClass=P&type=json&username=jaguillette&west=170.4&south=47.5&north=48.5&east=171.4"
       ]
      },
      {
       "output_type": "stream",
       "stream": "stdout",
       "text": [
        "\n",
        "http://api.geonames.org/search?featureClass=P&type=json&username=jaguillette&west=171.4&south=47.5&north=48.5&east=172.4"
       ]
      },
      {
       "output_type": "stream",
       "stream": "stdout",
       "text": [
        "\n",
        "http://api.geonames.org/search?featureClass=P&type=json&username=jaguillette&west=172.4&south=47.5&north=48.5&east=173.4"
       ]
      },
      {
       "output_type": "stream",
       "stream": "stdout",
       "text": [
        "\n",
        "http://api.geonames.org/search?featureClass=P&type=json&username=jaguillette&west=173.4&south=47.5&north=48.5&east=174.4"
       ]
      },
      {
       "output_type": "stream",
       "stream": "stdout",
       "text": [
        "\n",
        "http://api.geonames.org/search?featureClass=P&type=json&username=jaguillette&west=174.4&south=47.5&north=48.5&east=175.4"
       ]
      },
      {
       "output_type": "stream",
       "stream": "stdout",
       "text": [
        "\n",
        "http://api.geonames.org/search?featureClass=P&type=json&username=jaguillette&west=175.4&south=47.5&north=48.5&east=176.4"
       ]
      },
      {
       "output_type": "stream",
       "stream": "stdout",
       "text": [
        "\n",
        "http://api.geonames.org/search?featureClass=P&type=json&username=jaguillette&west=176.4&south=47.5&north=48.5&east=177.4"
       ]
      },
      {
       "output_type": "stream",
       "stream": "stdout",
       "text": [
        "\n",
        "http://api.geonames.org/search?featureClass=P&type=json&username=jaguillette&west=177.4&south=47.5&north=48.5&east=178.4"
       ]
      },
      {
       "output_type": "stream",
       "stream": "stdout",
       "text": [
        "\n",
        "http://api.geonames.org/search?featureClass=P&type=json&username=jaguillette&west=178.4&south=47.5&north=48.5&east=179.4"
       ]
      },
      {
       "output_type": "stream",
       "stream": "stdout",
       "text": [
        "\n",
        "http://api.geonames.org/search?featureClass=P&type=json&username=jaguillette&west=179.4&south=47.5&north=48.5&east=180"
       ]
      },
      {
       "output_type": "stream",
       "stream": "stdout",
       "text": [
        "\n",
        "http://api.geonames.org/search?featureClass=P&type=json&username=jaguillette&west=91.4&south=48.5&north=49.5&east=92.4"
       ]
      },
      {
       "output_type": "stream",
       "stream": "stdout",
       "text": [
        "\n",
        "http://api.geonames.org/search?featureClass=P&type=json&username=jaguillette&west=92.4&south=48.5&north=49.5&east=93.4"
       ]
      },
      {
       "output_type": "stream",
       "stream": "stdout",
       "text": [
        "\n",
        "http://api.geonames.org/search?featureClass=P&type=json&username=jaguillette&west=93.4&south=48.5&north=49.5&east=94.4"
       ]
      },
      {
       "output_type": "stream",
       "stream": "stdout",
       "text": [
        "\n",
        "http://api.geonames.org/search?featureClass=P&type=json&username=jaguillette&west=94.4&south=48.5&north=49.5&east=95.4"
       ]
      },
      {
       "output_type": "stream",
       "stream": "stdout",
       "text": [
        "\n",
        "http://api.geonames.org/search?featureClass=P&type=json&username=jaguillette&west=95.4&south=48.5&north=49.5&east=96.4"
       ]
      },
      {
       "output_type": "stream",
       "stream": "stdout",
       "text": [
        "\n",
        "http://api.geonames.org/search?featureClass=P&type=json&username=jaguillette&west=96.4&south=48.5&north=49.5&east=97.4"
       ]
      },
      {
       "output_type": "stream",
       "stream": "stdout",
       "text": [
        "\n",
        "http://api.geonames.org/search?featureClass=P&type=json&username=jaguillette&west=97.4&south=48.5&north=49.5&east=98.4"
       ]
      },
      {
       "output_type": "stream",
       "stream": "stdout",
       "text": [
        "\n",
        "http://api.geonames.org/search?featureClass=P&type=json&username=jaguillette&west=98.4&south=48.5&north=49.5&east=99.4"
       ]
      },
      {
       "output_type": "stream",
       "stream": "stdout",
       "text": [
        "\n",
        "http://api.geonames.org/search?featureClass=P&type=json&username=jaguillette&west=99.4&south=48.5&north=49.5&east=100.4"
       ]
      },
      {
       "output_type": "stream",
       "stream": "stdout",
       "text": [
        "\n",
        "http://api.geonames.org/search?featureClass=P&type=json&username=jaguillette&west=100.4&south=48.5&north=49.5&east=101.4"
       ]
      },
      {
       "output_type": "stream",
       "stream": "stdout",
       "text": [
        "\n",
        "http://api.geonames.org/search?featureClass=P&type=json&username=jaguillette&west=101.4&south=48.5&north=49.5&east=102.4"
       ]
      },
      {
       "output_type": "stream",
       "stream": "stdout",
       "text": [
        "\n",
        "http://api.geonames.org/search?featureClass=P&type=json&username=jaguillette&west=102.4&south=48.5&north=49.5&east=103.4"
       ]
      },
      {
       "output_type": "stream",
       "stream": "stdout",
       "text": [
        "\n",
        "http://api.geonames.org/search?featureClass=P&type=json&username=jaguillette&west=103.4&south=48.5&north=49.5&east=104.4"
       ]
      },
      {
       "output_type": "stream",
       "stream": "stdout",
       "text": [
        "\n",
        "http://api.geonames.org/search?featureClass=P&type=json&username=jaguillette&west=104.4&south=48.5&north=49.5&east=105.4"
       ]
      },
      {
       "output_type": "stream",
       "stream": "stdout",
       "text": [
        "\n",
        "http://api.geonames.org/search?featureClass=P&type=json&username=jaguillette&west=105.4&south=48.5&north=49.5&east=106.4"
       ]
      },
      {
       "output_type": "stream",
       "stream": "stdout",
       "text": [
        "\n",
        "http://api.geonames.org/search?featureClass=P&type=json&username=jaguillette&west=106.4&south=48.5&north=49.5&east=107.4"
       ]
      },
      {
       "output_type": "stream",
       "stream": "stdout",
       "text": [
        "\n",
        "http://api.geonames.org/search?featureClass=P&type=json&username=jaguillette&west=107.4&south=48.5&north=49.5&east=108.4"
       ]
      },
      {
       "output_type": "stream",
       "stream": "stdout",
       "text": [
        "\n",
        "http://api.geonames.org/search?featureClass=P&type=json&username=jaguillette&west=108.4&south=48.5&north=49.5&east=109.4"
       ]
      },
      {
       "output_type": "stream",
       "stream": "stdout",
       "text": [
        "\n",
        "http://api.geonames.org/search?featureClass=P&type=json&username=jaguillette&west=109.4&south=48.5&north=49.5&east=110.4"
       ]
      },
      {
       "output_type": "stream",
       "stream": "stdout",
       "text": [
        "\n",
        "http://api.geonames.org/search?featureClass=P&type=json&username=jaguillette&west=110.4&south=48.5&north=49.5&east=111.4"
       ]
      },
      {
       "output_type": "stream",
       "stream": "stdout",
       "text": [
        "\n",
        "http://api.geonames.org/search?featureClass=P&type=json&username=jaguillette&west=111.4&south=48.5&north=49.5&east=112.4"
       ]
      },
      {
       "output_type": "stream",
       "stream": "stdout",
       "text": [
        "\n",
        "http://api.geonames.org/search?featureClass=P&type=json&username=jaguillette&west=112.4&south=48.5&north=49.5&east=113.4"
       ]
      },
      {
       "output_type": "stream",
       "stream": "stdout",
       "text": [
        "\n",
        "http://api.geonames.org/search?featureClass=P&type=json&username=jaguillette&west=113.4&south=48.5&north=49.5&east=114.4"
       ]
      },
      {
       "output_type": "stream",
       "stream": "stdout",
       "text": [
        "\n",
        "http://api.geonames.org/search?featureClass=P&type=json&username=jaguillette&west=114.4&south=48.5&north=49.5&east=115.4"
       ]
      },
      {
       "output_type": "stream",
       "stream": "stdout",
       "text": [
        "\n",
        "http://api.geonames.org/search?featureClass=P&type=json&username=jaguillette&west=115.4&south=48.5&north=49.5&east=116.4"
       ]
      },
      {
       "output_type": "stream",
       "stream": "stdout",
       "text": [
        "\n",
        "http://api.geonames.org/search?featureClass=P&type=json&username=jaguillette&west=116.4&south=48.5&north=49.5&east=117.4"
       ]
      },
      {
       "output_type": "stream",
       "stream": "stdout",
       "text": [
        "\n",
        "http://api.geonames.org/search?featureClass=P&type=json&username=jaguillette&west=117.4&south=48.5&north=49.5&east=118.4"
       ]
      },
      {
       "output_type": "stream",
       "stream": "stdout",
       "text": [
        "\n",
        "http://api.geonames.org/search?featureClass=P&type=json&username=jaguillette&west=118.4&south=48.5&north=49.5&east=119.4"
       ]
      },
      {
       "output_type": "stream",
       "stream": "stdout",
       "text": [
        "\n",
        "http://api.geonames.org/search?featureClass=P&type=json&username=jaguillette&west=119.4&south=48.5&north=49.5&east=120.4"
       ]
      },
      {
       "output_type": "stream",
       "stream": "stdout",
       "text": [
        "\n",
        "http://api.geonames.org/search?featureClass=P&startRow=100&type=json&username=jaguillette&west=119.4&south=48.5&north=49.5&east=120.4"
       ]
      },
      {
       "output_type": "stream",
       "stream": "stdout",
       "text": [
        "\n",
        "http://api.geonames.org/search?featureClass=P&type=json&username=jaguillette&west=120.4&south=48.5&north=49.5&east=121.4"
       ]
      },
      {
       "output_type": "stream",
       "stream": "stdout",
       "text": [
        "\n",
        "http://api.geonames.org/search?featureClass=P&type=json&username=jaguillette&west=121.4&south=48.5&north=49.5&east=122.4"
       ]
      },
      {
       "output_type": "stream",
       "stream": "stdout",
       "text": [
        "\n",
        "http://api.geonames.org/search?featureClass=P&type=json&username=jaguillette&west=122.4&south=48.5&north=49.5&east=123.4"
       ]
      },
      {
       "output_type": "stream",
       "stream": "stdout",
       "text": [
        "\n",
        "http://api.geonames.org/search?featureClass=P&type=json&username=jaguillette&west=123.4&south=48.5&north=49.5&east=124.4"
       ]
      },
      {
       "output_type": "stream",
       "stream": "stdout",
       "text": [
        "\n",
        "http://api.geonames.org/search?featureClass=P&startRow=100&type=json&username=jaguillette&west=123.4&south=48.5&north=49.5&east=124.4"
       ]
      },
      {
       "output_type": "stream",
       "stream": "stdout",
       "text": [
        "\n",
        "http://api.geonames.org/search?featureClass=P&startRow=200&type=json&username=jaguillette&west=123.4&south=48.5&north=49.5&east=124.4"
       ]
      },
      {
       "output_type": "stream",
       "stream": "stdout",
       "text": [
        "\n",
        "http://api.geonames.org/search?featureClass=P&startRow=300&type=json&username=jaguillette&west=123.4&south=48.5&north=49.5&east=124.4"
       ]
      },
      {
       "output_type": "stream",
       "stream": "stdout",
       "text": [
        "\n",
        "http://api.geonames.org/search?featureClass=P&type=json&username=jaguillette&west=124.4&south=48.5&north=49.5&east=125.4"
       ]
      },
      {
       "output_type": "stream",
       "stream": "stdout",
       "text": [
        "\n",
        "http://api.geonames.org/search?featureClass=P&startRow=100&type=json&username=jaguillette&west=124.4&south=48.5&north=49.5&east=125.4"
       ]
      },
      {
       "output_type": "stream",
       "stream": "stdout",
       "text": [
        "\n",
        "http://api.geonames.org/search?featureClass=P&startRow=200&type=json&username=jaguillette&west=124.4&south=48.5&north=49.5&east=125.4"
       ]
      },
      {
       "output_type": "stream",
       "stream": "stdout",
       "text": [
        "\n",
        "http://api.geonames.org/search?featureClass=P&type=json&username=jaguillette&west=125.4&south=48.5&north=49.5&east=126.4"
       ]
      },
      {
       "output_type": "stream",
       "stream": "stdout",
       "text": [
        "\n",
        "http://api.geonames.org/search?featureClass=P&startRow=100&type=json&username=jaguillette&west=125.4&south=48.5&north=49.5&east=126.4"
       ]
      },
      {
       "output_type": "stream",
       "stream": "stdout",
       "text": [
        "\n",
        "http://api.geonames.org/search?featureClass=P&type=json&username=jaguillette&west=126.4&south=48.5&north=49.5&east=127.4"
       ]
      },
      {
       "output_type": "stream",
       "stream": "stdout",
       "text": [
        "\n",
        "http://api.geonames.org/search?featureClass=P&type=json&username=jaguillette&west=127.4&south=48.5&north=49.5&east=128.4"
       ]
      },
      {
       "output_type": "stream",
       "stream": "stdout",
       "text": [
        "\n",
        "http://api.geonames.org/search?featureClass=P&type=json&username=jaguillette&west=128.4&south=48.5&north=49.5&east=129.4"
       ]
      },
      {
       "output_type": "stream",
       "stream": "stdout",
       "text": [
        "\n",
        "http://api.geonames.org/search?featureClass=P&type=json&username=jaguillette&west=129.4&south=48.5&north=49.5&east=130.4"
       ]
      },
      {
       "output_type": "stream",
       "stream": "stdout",
       "text": [
        "\n",
        "http://api.geonames.org/search?featureClass=P&startRow=100&type=json&username=jaguillette&west=129.4&south=48.5&north=49.5&east=130.4"
       ]
      },
      {
       "output_type": "stream",
       "stream": "stdout",
       "text": [
        "\n",
        "http://api.geonames.org/search?featureClass=P&type=json&username=jaguillette&west=130.4&south=48.5&north=49.5&east=131.4"
       ]
      },
      {
       "output_type": "stream",
       "stream": "stdout",
       "text": [
        "\n",
        "http://api.geonames.org/search?featureClass=P&type=json&username=jaguillette&west=131.4&south=48.5&north=49.5&east=132.4"
       ]
      },
      {
       "output_type": "stream",
       "stream": "stdout",
       "text": [
        "\n",
        "http://api.geonames.org/search?featureClass=P&type=json&username=jaguillette&west=132.4&south=48.5&north=49.5&east=133.4"
       ]
      },
      {
       "output_type": "stream",
       "stream": "stdout",
       "text": [
        "\n",
        "http://api.geonames.org/search?featureClass=P&type=json&username=jaguillette&west=133.4&south=48.5&north=49.5&east=134.4"
       ]
      },
      {
       "output_type": "stream",
       "stream": "stdout",
       "text": [
        "\n",
        "http://api.geonames.org/search?featureClass=P&type=json&username=jaguillette&west=134.4&south=48.5&north=49.5&east=135.4"
       ]
      },
      {
       "output_type": "stream",
       "stream": "stdout",
       "text": [
        "\n",
        "http://api.geonames.org/search?featureClass=P&type=json&username=jaguillette&west=135.4&south=48.5&north=49.5&east=136.4"
       ]
      },
      {
       "output_type": "stream",
       "stream": "stdout",
       "text": [
        "\n",
        "http://api.geonames.org/search?featureClass=P&type=json&username=jaguillette&west=136.4&south=48.5&north=49.5&east=137.4"
       ]
      },
      {
       "output_type": "stream",
       "stream": "stdout",
       "text": [
        "\n",
        "http://api.geonames.org/search?featureClass=P&type=json&username=jaguillette&west=137.4&south=48.5&north=49.5&east=138.4"
       ]
      },
      {
       "output_type": "stream",
       "stream": "stdout",
       "text": [
        "\n",
        "http://api.geonames.org/search?featureClass=P&type=json&username=jaguillette&west=138.4&south=48.5&north=49.5&east=139.4"
       ]
      },
      {
       "output_type": "stream",
       "stream": "stdout",
       "text": [
        "\n",
        "http://api.geonames.org/search?featureClass=P&type=json&username=jaguillette&west=139.4&south=48.5&north=49.5&east=140.4"
       ]
      },
      {
       "output_type": "stream",
       "stream": "stdout",
       "text": [
        "\n",
        "http://api.geonames.org/search?featureClass=P&type=json&username=jaguillette&west=140.4&south=48.5&north=49.5&east=141.4"
       ]
      },
      {
       "output_type": "stream",
       "stream": "stdout",
       "text": [
        "\n",
        "http://api.geonames.org/search?featureClass=P&type=json&username=jaguillette&west=141.4&south=48.5&north=49.5&east=142.4"
       ]
      },
      {
       "output_type": "stream",
       "stream": "stdout",
       "text": [
        "\n",
        "http://api.geonames.org/search?featureClass=P&type=json&username=jaguillette&west=142.4&south=48.5&north=49.5&east=143.4"
       ]
      },
      {
       "output_type": "stream",
       "stream": "stdout",
       "text": [
        "\n",
        "http://api.geonames.org/search?featureClass=P&type=json&username=jaguillette&west=143.4&south=48.5&north=49.5&east=144.4"
       ]
      },
      {
       "output_type": "stream",
       "stream": "stdout",
       "text": [
        "\n",
        "http://api.geonames.org/search?featureClass=P&type=json&username=jaguillette&west=144.4&south=48.5&north=49.5&east=145.4"
       ]
      },
      {
       "output_type": "stream",
       "stream": "stdout",
       "text": [
        "\n",
        "http://api.geonames.org/search?featureClass=P&type=json&username=jaguillette&west=145.4&south=48.5&north=49.5&east=146.4"
       ]
      },
      {
       "output_type": "stream",
       "stream": "stdout",
       "text": [
        "\n",
        "http://api.geonames.org/search?featureClass=P&type=json&username=jaguillette&west=146.4&south=48.5&north=49.5&east=147.4"
       ]
      },
      {
       "output_type": "stream",
       "stream": "stdout",
       "text": [
        "\n",
        "http://api.geonames.org/search?featureClass=P&type=json&username=jaguillette&west=147.4&south=48.5&north=49.5&east=148.4"
       ]
      },
      {
       "output_type": "stream",
       "stream": "stdout",
       "text": [
        "\n",
        "http://api.geonames.org/search?featureClass=P&type=json&username=jaguillette&west=148.4&south=48.5&north=49.5&east=149.4"
       ]
      },
      {
       "output_type": "stream",
       "stream": "stdout",
       "text": [
        "\n",
        "http://api.geonames.org/search?featureClass=P&type=json&username=jaguillette&west=149.4&south=48.5&north=49.5&east=150.4"
       ]
      },
      {
       "output_type": "stream",
       "stream": "stdout",
       "text": [
        "\n",
        "http://api.geonames.org/search?featureClass=P&type=json&username=jaguillette&west=150.4&south=48.5&north=49.5&east=151.4"
       ]
      },
      {
       "output_type": "stream",
       "stream": "stdout",
       "text": [
        "\n",
        "http://api.geonames.org/search?featureClass=P&type=json&username=jaguillette&west=151.4&south=48.5&north=49.5&east=152.4"
       ]
      },
      {
       "output_type": "stream",
       "stream": "stdout",
       "text": [
        "\n",
        "http://api.geonames.org/search?featureClass=P&type=json&username=jaguillette&west=152.4&south=48.5&north=49.5&east=153.4"
       ]
      },
      {
       "output_type": "stream",
       "stream": "stdout",
       "text": [
        "\n",
        "http://api.geonames.org/search?featureClass=P&type=json&username=jaguillette&west=153.4&south=48.5&north=49.5&east=154.4"
       ]
      },
      {
       "output_type": "stream",
       "stream": "stdout",
       "text": [
        "\n",
        "http://api.geonames.org/search?featureClass=P&type=json&username=jaguillette&west=154.4&south=48.5&north=49.5&east=155.4"
       ]
      },
      {
       "output_type": "stream",
       "stream": "stdout",
       "text": [
        "\n",
        "http://api.geonames.org/search?featureClass=P&type=json&username=jaguillette&west=155.4&south=48.5&north=49.5&east=156.4"
       ]
      },
      {
       "output_type": "stream",
       "stream": "stdout",
       "text": [
        "\n",
        "http://api.geonames.org/search?featureClass=P&type=json&username=jaguillette&west=156.4&south=48.5&north=49.5&east=157.4"
       ]
      },
      {
       "output_type": "stream",
       "stream": "stdout",
       "text": [
        "\n",
        "http://api.geonames.org/search?featureClass=P&type=json&username=jaguillette&west=157.4&south=48.5&north=49.5&east=158.4"
       ]
      },
      {
       "output_type": "stream",
       "stream": "stdout",
       "text": [
        "\n",
        "http://api.geonames.org/search?featureClass=P&type=json&username=jaguillette&west=158.4&south=48.5&north=49.5&east=159.4"
       ]
      },
      {
       "output_type": "stream",
       "stream": "stdout",
       "text": [
        "\n",
        "http://api.geonames.org/search?featureClass=P&type=json&username=jaguillette&west=159.4&south=48.5&north=49.5&east=160.4"
       ]
      },
      {
       "output_type": "stream",
       "stream": "stdout",
       "text": [
        "\n",
        "http://api.geonames.org/search?featureClass=P&type=json&username=jaguillette&west=160.4&south=48.5&north=49.5&east=161.4"
       ]
      },
      {
       "output_type": "stream",
       "stream": "stdout",
       "text": [
        "\n",
        "http://api.geonames.org/search?featureClass=P&type=json&username=jaguillette&west=161.4&south=48.5&north=49.5&east=162.4"
       ]
      },
      {
       "output_type": "stream",
       "stream": "stdout",
       "text": [
        "\n",
        "http://api.geonames.org/search?featureClass=P&type=json&username=jaguillette&west=162.4&south=48.5&north=49.5&east=163.4"
       ]
      },
      {
       "output_type": "stream",
       "stream": "stdout",
       "text": [
        "\n",
        "http://api.geonames.org/search?featureClass=P&type=json&username=jaguillette&west=163.4&south=48.5&north=49.5&east=164.4"
       ]
      },
      {
       "output_type": "stream",
       "stream": "stdout",
       "text": [
        "\n",
        "http://api.geonames.org/search?featureClass=P&type=json&username=jaguillette&west=164.4&south=48.5&north=49.5&east=165.4"
       ]
      },
      {
       "output_type": "stream",
       "stream": "stdout",
       "text": [
        "\n",
        "http://api.geonames.org/search?featureClass=P&type=json&username=jaguillette&west=165.4&south=48.5&north=49.5&east=166.4"
       ]
      },
      {
       "output_type": "stream",
       "stream": "stdout",
       "text": [
        "\n",
        "http://api.geonames.org/search?featureClass=P&type=json&username=jaguillette&west=166.4&south=48.5&north=49.5&east=167.4"
       ]
      },
      {
       "output_type": "stream",
       "stream": "stdout",
       "text": [
        "\n",
        "http://api.geonames.org/search?featureClass=P&type=json&username=jaguillette&west=167.4&south=48.5&north=49.5&east=168.4"
       ]
      },
      {
       "output_type": "stream",
       "stream": "stdout",
       "text": [
        "\n",
        "http://api.geonames.org/search?featureClass=P&type=json&username=jaguillette&west=168.4&south=48.5&north=49.5&east=169.4"
       ]
      },
      {
       "output_type": "stream",
       "stream": "stdout",
       "text": [
        "\n",
        "http://api.geonames.org/search?featureClass=P&type=json&username=jaguillette&west=169.4&south=48.5&north=49.5&east=170.4"
       ]
      },
      {
       "output_type": "stream",
       "stream": "stdout",
       "text": [
        "\n",
        "http://api.geonames.org/search?featureClass=P&type=json&username=jaguillette&west=170.4&south=48.5&north=49.5&east=171.4"
       ]
      },
      {
       "output_type": "stream",
       "stream": "stdout",
       "text": [
        "\n",
        "http://api.geonames.org/search?featureClass=P&type=json&username=jaguillette&west=171.4&south=48.5&north=49.5&east=172.4"
       ]
      },
      {
       "output_type": "stream",
       "stream": "stdout",
       "text": [
        "\n",
        "http://api.geonames.org/search?featureClass=P&type=json&username=jaguillette&west=172.4&south=48.5&north=49.5&east=173.4"
       ]
      },
      {
       "output_type": "stream",
       "stream": "stdout",
       "text": [
        "\n",
        "http://api.geonames.org/search?featureClass=P&type=json&username=jaguillette&west=173.4&south=48.5&north=49.5&east=174.4"
       ]
      },
      {
       "output_type": "stream",
       "stream": "stdout",
       "text": [
        "\n",
        "http://api.geonames.org/search?featureClass=P&type=json&username=jaguillette&west=174.4&south=48.5&north=49.5&east=175.4"
       ]
      },
      {
       "output_type": "stream",
       "stream": "stdout",
       "text": [
        "\n",
        "http://api.geonames.org/search?featureClass=P&type=json&username=jaguillette&west=175.4&south=48.5&north=49.5&east=176.4"
       ]
      },
      {
       "output_type": "stream",
       "stream": "stdout",
       "text": [
        "\n",
        "http://api.geonames.org/search?featureClass=P&type=json&username=jaguillette&west=176.4&south=48.5&north=49.5&east=177.4"
       ]
      },
      {
       "output_type": "stream",
       "stream": "stdout",
       "text": [
        "\n",
        "http://api.geonames.org/search?featureClass=P&type=json&username=jaguillette&west=177.4&south=48.5&north=49.5&east=178.4"
       ]
      },
      {
       "output_type": "stream",
       "stream": "stdout",
       "text": [
        "\n",
        "http://api.geonames.org/search?featureClass=P&type=json&username=jaguillette&west=178.4&south=48.5&north=49.5&east=179.4"
       ]
      },
      {
       "output_type": "stream",
       "stream": "stdout",
       "text": [
        "\n",
        "http://api.geonames.org/search?featureClass=P&type=json&username=jaguillette&west=179.4&south=48.5&north=49.5&east=180"
       ]
      },
      {
       "output_type": "stream",
       "stream": "stdout",
       "text": [
        "\n",
        "http://api.geonames.org/search?featureClass=P&type=json&username=jaguillette&west=91.4&south=49.5&north=50.5&east=92.4"
       ]
      },
      {
       "output_type": "stream",
       "stream": "stdout",
       "text": [
        "\n",
        "http://api.geonames.org/search?featureClass=P&type=json&username=jaguillette&west=92.4&south=49.5&north=50.5&east=93.4"
       ]
      },
      {
       "output_type": "stream",
       "stream": "stdout",
       "text": [
        "\n",
        "http://api.geonames.org/search?featureClass=P&type=json&username=jaguillette&west=93.4&south=49.5&north=50.5&east=94.4"
       ]
      },
      {
       "output_type": "stream",
       "stream": "stdout",
       "text": [
        "\n",
        "http://api.geonames.org/search?featureClass=P&type=json&username=jaguillette&west=94.4&south=49.5&north=50.5&east=95.4"
       ]
      },
      {
       "output_type": "stream",
       "stream": "stdout",
       "text": [
        "\n",
        "http://api.geonames.org/search?featureClass=P&type=json&username=jaguillette&west=95.4&south=49.5&north=50.5&east=96.4"
       ]
      },
      {
       "output_type": "stream",
       "stream": "stdout",
       "text": [
        "\n",
        "http://api.geonames.org/search?featureClass=P&type=json&username=jaguillette&west=96.4&south=49.5&north=50.5&east=97.4"
       ]
      },
      {
       "output_type": "stream",
       "stream": "stdout",
       "text": [
        "\n",
        "http://api.geonames.org/search?featureClass=P&type=json&username=jaguillette&west=97.4&south=49.5&north=50.5&east=98.4"
       ]
      },
      {
       "output_type": "stream",
       "stream": "stdout",
       "text": [
        "\n",
        "http://api.geonames.org/search?featureClass=P&type=json&username=jaguillette&west=98.4&south=49.5&north=50.5&east=99.4"
       ]
      },
      {
       "output_type": "stream",
       "stream": "stdout",
       "text": [
        "\n",
        "http://api.geonames.org/search?featureClass=P&type=json&username=jaguillette&west=99.4&south=49.5&north=50.5&east=100.4"
       ]
      },
      {
       "output_type": "stream",
       "stream": "stdout",
       "text": [
        "\n",
        "http://api.geonames.org/search?featureClass=P&type=json&username=jaguillette&west=100.4&south=49.5&north=50.5&east=101.4"
       ]
      },
      {
       "output_type": "stream",
       "stream": "stdout",
       "text": [
        "\n",
        "http://api.geonames.org/search?featureClass=P&type=json&username=jaguillette&west=101.4&south=49.5&north=50.5&east=102.4"
       ]
      },
      {
       "output_type": "stream",
       "stream": "stdout",
       "text": [
        "\n",
        "http://api.geonames.org/search?featureClass=P&type=json&username=jaguillette&west=102.4&south=49.5&north=50.5&east=103.4"
       ]
      },
      {
       "output_type": "stream",
       "stream": "stdout",
       "text": [
        "\n",
        "http://api.geonames.org/search?featureClass=P&type=json&username=jaguillette&west=103.4&south=49.5&north=50.5&east=104.4"
       ]
      },
      {
       "output_type": "stream",
       "stream": "stdout",
       "text": [
        "\n",
        "http://api.geonames.org/search?featureClass=P&type=json&username=jaguillette&west=104.4&south=49.5&north=50.5&east=105.4"
       ]
      },
      {
       "output_type": "stream",
       "stream": "stdout",
       "text": [
        "\n",
        "http://api.geonames.org/search?featureClass=P&type=json&username=jaguillette&west=105.4&south=49.5&north=50.5&east=106.4"
       ]
      },
      {
       "output_type": "stream",
       "stream": "stdout",
       "text": [
        "\n",
        "http://api.geonames.org/search?featureClass=P&type=json&username=jaguillette&west=106.4&south=49.5&north=50.5&east=107.4"
       ]
      },
      {
       "output_type": "stream",
       "stream": "stdout",
       "text": [
        "\n",
        "http://api.geonames.org/search?featureClass=P&type=json&username=jaguillette&west=107.4&south=49.5&north=50.5&east=108.4"
       ]
      },
      {
       "output_type": "stream",
       "stream": "stdout",
       "text": [
        "\n",
        "http://api.geonames.org/search?featureClass=P&type=json&username=jaguillette&west=108.4&south=49.5&north=50.5&east=109.4"
       ]
      },
      {
       "output_type": "stream",
       "stream": "stdout",
       "text": [
        "\n",
        "http://api.geonames.org/search?featureClass=P&type=json&username=jaguillette&west=109.4&south=49.5&north=50.5&east=110.4"
       ]
      },
      {
       "output_type": "stream",
       "stream": "stdout",
       "text": [
        "\n",
        "http://api.geonames.org/search?featureClass=P&type=json&username=jaguillette&west=110.4&south=49.5&north=50.5&east=111.4"
       ]
      },
      {
       "output_type": "stream",
       "stream": "stdout",
       "text": [
        "\n",
        "http://api.geonames.org/search?featureClass=P&type=json&username=jaguillette&west=111.4&south=49.5&north=50.5&east=112.4"
       ]
      },
      {
       "output_type": "stream",
       "stream": "stdout",
       "text": [
        "\n",
        "http://api.geonames.org/search?featureClass=P&type=json&username=jaguillette&west=112.4&south=49.5&north=50.5&east=113.4"
       ]
      },
      {
       "output_type": "stream",
       "stream": "stdout",
       "text": [
        "\n",
        "http://api.geonames.org/search?featureClass=P&type=json&username=jaguillette&west=113.4&south=49.5&north=50.5&east=114.4"
       ]
      },
      {
       "output_type": "stream",
       "stream": "stdout",
       "text": [
        "\n",
        "http://api.geonames.org/search?featureClass=P&type=json&username=jaguillette&west=114.4&south=49.5&north=50.5&east=115.4"
       ]
      },
      {
       "output_type": "stream",
       "stream": "stdout",
       "text": [
        "\n",
        "http://api.geonames.org/search?featureClass=P&type=json&username=jaguillette&west=115.4&south=49.5&north=50.5&east=116.4"
       ]
      },
      {
       "output_type": "stream",
       "stream": "stdout",
       "text": [
        "\n",
        "http://api.geonames.org/search?featureClass=P&type=json&username=jaguillette&west=116.4&south=49.5&north=50.5&east=117.4"
       ]
      },
      {
       "output_type": "stream",
       "stream": "stdout",
       "text": [
        "\n",
        "http://api.geonames.org/search?featureClass=P&type=json&username=jaguillette&west=117.4&south=49.5&north=50.5&east=118.4"
       ]
      },
      {
       "output_type": "stream",
       "stream": "stdout",
       "text": [
        "\n",
        "http://api.geonames.org/search?featureClass=P&type=json&username=jaguillette&west=118.4&south=49.5&north=50.5&east=119.4"
       ]
      },
      {
       "output_type": "stream",
       "stream": "stdout",
       "text": [
        "\n",
        "http://api.geonames.org/search?featureClass=P&type=json&username=jaguillette&west=119.4&south=49.5&north=50.5&east=120.4"
       ]
      },
      {
       "output_type": "stream",
       "stream": "stdout",
       "text": [
        "\n",
        "http://api.geonames.org/search?featureClass=P&type=json&username=jaguillette&west=120.4&south=49.5&north=50.5&east=121.4"
       ]
      },
      {
       "output_type": "stream",
       "stream": "stdout",
       "text": [
        "\n",
        "http://api.geonames.org/search?featureClass=P&type=json&username=jaguillette&west=121.4&south=49.5&north=50.5&east=122.4"
       ]
      },
      {
       "output_type": "stream",
       "stream": "stdout",
       "text": [
        "\n",
        "http://api.geonames.org/search?featureClass=P&type=json&username=jaguillette&west=122.4&south=49.5&north=50.5&east=123.4"
       ]
      },
      {
       "output_type": "stream",
       "stream": "stdout",
       "text": [
        "\n",
        "http://api.geonames.org/search?featureClass=P&type=json&username=jaguillette&west=123.4&south=49.5&north=50.5&east=124.4"
       ]
      },
      {
       "output_type": "stream",
       "stream": "stdout",
       "text": [
        "\n",
        "http://api.geonames.org/search?featureClass=P&type=json&username=jaguillette&west=124.4&south=49.5&north=50.5&east=125.4"
       ]
      },
      {
       "output_type": "stream",
       "stream": "stdout",
       "text": [
        "\n",
        "http://api.geonames.org/search?featureClass=P&startRow=100&type=json&username=jaguillette&west=124.4&south=49.5&north=50.5&east=125.4"
       ]
      },
      {
       "output_type": "stream",
       "stream": "stdout",
       "text": [
        "\n",
        "http://api.geonames.org/search?featureClass=P&type=json&username=jaguillette&west=125.4&south=49.5&north=50.5&east=126.4"
       ]
      },
      {
       "output_type": "stream",
       "stream": "stdout",
       "text": [
        "\n",
        "http://api.geonames.org/search?featureClass=P&startRow=100&type=json&username=jaguillette&west=125.4&south=49.5&north=50.5&east=126.4"
       ]
      },
      {
       "output_type": "stream",
       "stream": "stdout",
       "text": [
        "\n",
        "http://api.geonames.org/search?featureClass=P&type=json&username=jaguillette&west=126.4&south=49.5&north=50.5&east=127.4"
       ]
      },
      {
       "output_type": "stream",
       "stream": "stdout",
       "text": [
        "\n",
        "http://api.geonames.org/search?featureClass=P&type=json&username=jaguillette&west=127.4&south=49.5&north=50.5&east=128.4"
       ]
      },
      {
       "output_type": "stream",
       "stream": "stdout",
       "text": [
        "\n",
        "http://api.geonames.org/search?featureClass=P&startRow=100&type=json&username=jaguillette&west=127.4&south=49.5&north=50.5&east=128.4"
       ]
      },
      {
       "output_type": "stream",
       "stream": "stdout",
       "text": [
        "\n",
        "http://api.geonames.org/search?featureClass=P&type=json&username=jaguillette&west=128.4&south=49.5&north=50.5&east=129.4"
       ]
      },
      {
       "output_type": "stream",
       "stream": "stdout",
       "text": [
        "\n",
        "http://api.geonames.org/search?featureClass=P&type=json&username=jaguillette&west=129.4&south=49.5&north=50.5&east=130.4"
       ]
      },
      {
       "output_type": "stream",
       "stream": "stdout",
       "text": [
        "\n",
        "http://api.geonames.org/search?featureClass=P&type=json&username=jaguillette&west=130.4&south=49.5&north=50.5&east=131.4"
       ]
      },
      {
       "output_type": "stream",
       "stream": "stdout",
       "text": [
        "\n",
        "http://api.geonames.org/search?featureClass=P&type=json&username=jaguillette&west=131.4&south=49.5&north=50.5&east=132.4"
       ]
      },
      {
       "output_type": "stream",
       "stream": "stdout",
       "text": [
        "\n",
        "http://api.geonames.org/search?featureClass=P&type=json&username=jaguillette&west=132.4&south=49.5&north=50.5&east=133.4"
       ]
      },
      {
       "output_type": "stream",
       "stream": "stdout",
       "text": [
        "\n",
        "http://api.geonames.org/search?featureClass=P&type=json&username=jaguillette&west=133.4&south=49.5&north=50.5&east=134.4"
       ]
      },
      {
       "output_type": "stream",
       "stream": "stdout",
       "text": [
        "\n",
        "http://api.geonames.org/search?featureClass=P&type=json&username=jaguillette&west=134.4&south=49.5&north=50.5&east=135.4"
       ]
      },
      {
       "output_type": "stream",
       "stream": "stdout",
       "text": [
        "\n",
        "http://api.geonames.org/search?featureClass=P&type=json&username=jaguillette&west=135.4&south=49.5&north=50.5&east=136.4"
       ]
      },
      {
       "output_type": "stream",
       "stream": "stdout",
       "text": [
        "\n",
        "http://api.geonames.org/search?featureClass=P&type=json&username=jaguillette&west=136.4&south=49.5&north=50.5&east=137.4"
       ]
      },
      {
       "output_type": "stream",
       "stream": "stdout",
       "text": [
        "\n",
        "http://api.geonames.org/search?featureClass=P&type=json&username=jaguillette&west=137.4&south=49.5&north=50.5&east=138.4"
       ]
      },
      {
       "output_type": "stream",
       "stream": "stdout",
       "text": [
        "\n",
        "http://api.geonames.org/search?featureClass=P&type=json&username=jaguillette&west=138.4&south=49.5&north=50.5&east=139.4"
       ]
      },
      {
       "output_type": "stream",
       "stream": "stdout",
       "text": [
        "\n",
        "http://api.geonames.org/search?featureClass=P&type=json&username=jaguillette&west=139.4&south=49.5&north=50.5&east=140.4"
       ]
      },
      {
       "output_type": "stream",
       "stream": "stdout",
       "text": [
        "\n",
        "http://api.geonames.org/search?featureClass=P&type=json&username=jaguillette&west=140.4&south=49.5&north=50.5&east=141.4"
       ]
      },
      {
       "output_type": "stream",
       "stream": "stdout",
       "text": [
        "\n",
        "http://api.geonames.org/search?featureClass=P&type=json&username=jaguillette&west=141.4&south=49.5&north=50.5&east=142.4"
       ]
      },
      {
       "output_type": "stream",
       "stream": "stdout",
       "text": [
        "\n",
        "http://api.geonames.org/search?featureClass=P&type=json&username=jaguillette&west=142.4&south=49.5&north=50.5&east=143.4"
       ]
      },
      {
       "output_type": "stream",
       "stream": "stdout",
       "text": [
        "\n",
        "http://api.geonames.org/search?featureClass=P&type=json&username=jaguillette&west=143.4&south=49.5&north=50.5&east=144.4"
       ]
      },
      {
       "output_type": "stream",
       "stream": "stdout",
       "text": [
        "\n",
        "http://api.geonames.org/search?featureClass=P&type=json&username=jaguillette&west=144.4&south=49.5&north=50.5&east=145.4"
       ]
      },
      {
       "output_type": "stream",
       "stream": "stdout",
       "text": [
        "\n",
        "http://api.geonames.org/search?featureClass=P&type=json&username=jaguillette&west=145.4&south=49.5&north=50.5&east=146.4"
       ]
      },
      {
       "output_type": "stream",
       "stream": "stdout",
       "text": [
        "\n",
        "http://api.geonames.org/search?featureClass=P&type=json&username=jaguillette&west=146.4&south=49.5&north=50.5&east=147.4"
       ]
      },
      {
       "output_type": "stream",
       "stream": "stdout",
       "text": [
        "\n",
        "http://api.geonames.org/search?featureClass=P&type=json&username=jaguillette&west=147.4&south=49.5&north=50.5&east=148.4"
       ]
      },
      {
       "output_type": "stream",
       "stream": "stdout",
       "text": [
        "\n",
        "http://api.geonames.org/search?featureClass=P&type=json&username=jaguillette&west=148.4&south=49.5&north=50.5&east=149.4"
       ]
      },
      {
       "output_type": "stream",
       "stream": "stdout",
       "text": [
        "\n",
        "http://api.geonames.org/search?featureClass=P&type=json&username=jaguillette&west=149.4&south=49.5&north=50.5&east=150.4"
       ]
      },
      {
       "output_type": "stream",
       "stream": "stdout",
       "text": [
        "\n",
        "http://api.geonames.org/search?featureClass=P&type=json&username=jaguillette&west=150.4&south=49.5&north=50.5&east=151.4"
       ]
      },
      {
       "output_type": "stream",
       "stream": "stdout",
       "text": [
        "\n",
        "http://api.geonames.org/search?featureClass=P&type=json&username=jaguillette&west=151.4&south=49.5&north=50.5&east=152.4"
       ]
      },
      {
       "output_type": "stream",
       "stream": "stdout",
       "text": [
        "\n",
        "http://api.geonames.org/search?featureClass=P&type=json&username=jaguillette&west=152.4&south=49.5&north=50.5&east=153.4"
       ]
      },
      {
       "output_type": "stream",
       "stream": "stdout",
       "text": [
        "\n",
        "http://api.geonames.org/search?featureClass=P&type=json&username=jaguillette&west=153.4&south=49.5&north=50.5&east=154.4"
       ]
      },
      {
       "output_type": "stream",
       "stream": "stdout",
       "text": [
        "\n",
        "http://api.geonames.org/search?featureClass=P&type=json&username=jaguillette&west=154.4&south=49.5&north=50.5&east=155.4"
       ]
      },
      {
       "output_type": "stream",
       "stream": "stdout",
       "text": [
        "\n",
        "http://api.geonames.org/search?featureClass=P&type=json&username=jaguillette&west=155.4&south=49.5&north=50.5&east=156.4"
       ]
      },
      {
       "output_type": "stream",
       "stream": "stdout",
       "text": [
        "\n",
        "http://api.geonames.org/search?featureClass=P&type=json&username=jaguillette&west=156.4&south=49.5&north=50.5&east=157.4"
       ]
      },
      {
       "output_type": "stream",
       "stream": "stdout",
       "text": [
        "\n",
        "http://api.geonames.org/search?featureClass=P&type=json&username=jaguillette&west=157.4&south=49.5&north=50.5&east=158.4"
       ]
      },
      {
       "output_type": "stream",
       "stream": "stdout",
       "text": [
        "\n",
        "http://api.geonames.org/search?featureClass=P&type=json&username=jaguillette&west=158.4&south=49.5&north=50.5&east=159.4"
       ]
      },
      {
       "output_type": "stream",
       "stream": "stdout",
       "text": [
        "\n",
        "http://api.geonames.org/search?featureClass=P&type=json&username=jaguillette&west=159.4&south=49.5&north=50.5&east=160.4"
       ]
      },
      {
       "output_type": "stream",
       "stream": "stdout",
       "text": [
        "\n",
        "http://api.geonames.org/search?featureClass=P&type=json&username=jaguillette&west=160.4&south=49.5&north=50.5&east=161.4"
       ]
      },
      {
       "output_type": "stream",
       "stream": "stdout",
       "text": [
        "\n",
        "http://api.geonames.org/search?featureClass=P&type=json&username=jaguillette&west=161.4&south=49.5&north=50.5&east=162.4"
       ]
      },
      {
       "output_type": "stream",
       "stream": "stdout",
       "text": [
        "\n",
        "http://api.geonames.org/search?featureClass=P&type=json&username=jaguillette&west=162.4&south=49.5&north=50.5&east=163.4"
       ]
      },
      {
       "output_type": "stream",
       "stream": "stdout",
       "text": [
        "\n",
        "http://api.geonames.org/search?featureClass=P&type=json&username=jaguillette&west=163.4&south=49.5&north=50.5&east=164.4"
       ]
      },
      {
       "output_type": "stream",
       "stream": "stdout",
       "text": [
        "\n",
        "http://api.geonames.org/search?featureClass=P&type=json&username=jaguillette&west=164.4&south=49.5&north=50.5&east=165.4"
       ]
      },
      {
       "output_type": "stream",
       "stream": "stdout",
       "text": [
        "\n",
        "http://api.geonames.org/search?featureClass=P&type=json&username=jaguillette&west=165.4&south=49.5&north=50.5&east=166.4"
       ]
      },
      {
       "output_type": "stream",
       "stream": "stdout",
       "text": [
        "\n",
        "http://api.geonames.org/search?featureClass=P&type=json&username=jaguillette&west=166.4&south=49.5&north=50.5&east=167.4"
       ]
      },
      {
       "output_type": "stream",
       "stream": "stdout",
       "text": [
        "\n",
        "http://api.geonames.org/search?featureClass=P&type=json&username=jaguillette&west=167.4&south=49.5&north=50.5&east=168.4"
       ]
      },
      {
       "output_type": "stream",
       "stream": "stdout",
       "text": [
        "\n",
        "http://api.geonames.org/search?featureClass=P&type=json&username=jaguillette&west=168.4&south=49.5&north=50.5&east=169.4"
       ]
      },
      {
       "output_type": "stream",
       "stream": "stdout",
       "text": [
        "\n",
        "http://api.geonames.org/search?featureClass=P&type=json&username=jaguillette&west=169.4&south=49.5&north=50.5&east=170.4"
       ]
      },
      {
       "output_type": "stream",
       "stream": "stdout",
       "text": [
        "\n",
        "http://api.geonames.org/search?featureClass=P&type=json&username=jaguillette&west=170.4&south=49.5&north=50.5&east=171.4"
       ]
      },
      {
       "output_type": "stream",
       "stream": "stdout",
       "text": [
        "\n",
        "http://api.geonames.org/search?featureClass=P&type=json&username=jaguillette&west=171.4&south=49.5&north=50.5&east=172.4"
       ]
      },
      {
       "output_type": "stream",
       "stream": "stdout",
       "text": [
        "\n",
        "http://api.geonames.org/search?featureClass=P&type=json&username=jaguillette&west=172.4&south=49.5&north=50.5&east=173.4"
       ]
      },
      {
       "output_type": "stream",
       "stream": "stdout",
       "text": [
        "\n",
        "http://api.geonames.org/search?featureClass=P&type=json&username=jaguillette&west=173.4&south=49.5&north=50.5&east=174.4"
       ]
      },
      {
       "output_type": "stream",
       "stream": "stdout",
       "text": [
        "\n",
        "http://api.geonames.org/search?featureClass=P&type=json&username=jaguillette&west=174.4&south=49.5&north=50.5&east=175.4"
       ]
      },
      {
       "output_type": "stream",
       "stream": "stdout",
       "text": [
        "\n",
        "http://api.geonames.org/search?featureClass=P&type=json&username=jaguillette&west=175.4&south=49.5&north=50.5&east=176.4"
       ]
      },
      {
       "output_type": "stream",
       "stream": "stdout",
       "text": [
        "\n",
        "http://api.geonames.org/search?featureClass=P&type=json&username=jaguillette&west=176.4&south=49.5&north=50.5&east=177.4"
       ]
      },
      {
       "output_type": "stream",
       "stream": "stdout",
       "text": [
        "\n",
        "http://api.geonames.org/search?featureClass=P&type=json&username=jaguillette&west=177.4&south=49.5&north=50.5&east=178.4"
       ]
      },
      {
       "output_type": "stream",
       "stream": "stdout",
       "text": [
        "\n",
        "http://api.geonames.org/search?featureClass=P&type=json&username=jaguillette&west=178.4&south=49.5&north=50.5&east=179.4"
       ]
      },
      {
       "output_type": "stream",
       "stream": "stdout",
       "text": [
        "\n",
        "http://api.geonames.org/search?featureClass=P&type=json&username=jaguillette&west=179.4&south=49.5&north=50.5&east=180"
       ]
      },
      {
       "output_type": "stream",
       "stream": "stdout",
       "text": [
        "\n",
        "http://api.geonames.org/search?featureClass=P&type=json&username=jaguillette&west=91.4&south=50.5&north=51.5&east=92.4"
       ]
      },
      {
       "output_type": "stream",
       "stream": "stdout",
       "text": [
        "\n",
        "http://api.geonames.org/search?featureClass=P&type=json&username=jaguillette&west=92.4&south=50.5&north=51.5&east=93.4"
       ]
      },
      {
       "output_type": "stream",
       "stream": "stdout",
       "text": [
        "\n",
        "http://api.geonames.org/search?featureClass=P&type=json&username=jaguillette&west=93.4&south=50.5&north=51.5&east=94.4"
       ]
      },
      {
       "output_type": "stream",
       "stream": "stdout",
       "text": [
        "\n",
        "http://api.geonames.org/search?featureClass=P&type=json&username=jaguillette&west=94.4&south=50.5&north=51.5&east=95.4"
       ]
      },
      {
       "output_type": "stream",
       "stream": "stdout",
       "text": [
        "\n",
        "http://api.geonames.org/search?featureClass=P&type=json&username=jaguillette&west=95.4&south=50.5&north=51.5&east=96.4"
       ]
      },
      {
       "output_type": "stream",
       "stream": "stdout",
       "text": [
        "\n",
        "http://api.geonames.org/search?featureClass=P&type=json&username=jaguillette&west=96.4&south=50.5&north=51.5&east=97.4"
       ]
      },
      {
       "output_type": "stream",
       "stream": "stdout",
       "text": [
        "\n",
        "http://api.geonames.org/search?featureClass=P&type=json&username=jaguillette&west=97.4&south=50.5&north=51.5&east=98.4"
       ]
      },
      {
       "output_type": "stream",
       "stream": "stdout",
       "text": [
        "\n",
        "http://api.geonames.org/search?featureClass=P&type=json&username=jaguillette&west=98.4&south=50.5&north=51.5&east=99.4"
       ]
      },
      {
       "output_type": "stream",
       "stream": "stdout",
       "text": [
        "\n",
        "http://api.geonames.org/search?featureClass=P&type=json&username=jaguillette&west=99.4&south=50.5&north=51.5&east=100.4"
       ]
      },
      {
       "output_type": "stream",
       "stream": "stdout",
       "text": [
        "\n",
        "http://api.geonames.org/search?featureClass=P&type=json&username=jaguillette&west=100.4&south=50.5&north=51.5&east=101.4"
       ]
      },
      {
       "output_type": "stream",
       "stream": "stdout",
       "text": [
        "\n",
        "http://api.geonames.org/search?featureClass=P&type=json&username=jaguillette&west=101.4&south=50.5&north=51.5&east=102.4"
       ]
      },
      {
       "output_type": "stream",
       "stream": "stdout",
       "text": [
        "\n",
        "http://api.geonames.org/search?featureClass=P&type=json&username=jaguillette&west=102.4&south=50.5&north=51.5&east=103.4"
       ]
      },
      {
       "output_type": "stream",
       "stream": "stdout",
       "text": [
        "\n",
        "http://api.geonames.org/search?featureClass=P&type=json&username=jaguillette&west=103.4&south=50.5&north=51.5&east=104.4"
       ]
      },
      {
       "output_type": "stream",
       "stream": "stdout",
       "text": [
        "\n",
        "http://api.geonames.org/search?featureClass=P&type=json&username=jaguillette&west=104.4&south=50.5&north=51.5&east=105.4"
       ]
      },
      {
       "output_type": "stream",
       "stream": "stdout",
       "text": [
        "\n",
        "http://api.geonames.org/search?featureClass=P&type=json&username=jaguillette&west=105.4&south=50.5&north=51.5&east=106.4"
       ]
      },
      {
       "output_type": "stream",
       "stream": "stdout",
       "text": [
        "\n",
        "http://api.geonames.org/search?featureClass=P&type=json&username=jaguillette&west=106.4&south=50.5&north=51.5&east=107.4"
       ]
      },
      {
       "output_type": "stream",
       "stream": "stdout",
       "text": [
        "\n",
        "http://api.geonames.org/search?featureClass=P&type=json&username=jaguillette&west=107.4&south=50.5&north=51.5&east=108.4"
       ]
      },
      {
       "output_type": "stream",
       "stream": "stdout",
       "text": [
        "\n",
        "http://api.geonames.org/search?featureClass=P&type=json&username=jaguillette&west=108.4&south=50.5&north=51.5&east=109.4"
       ]
      },
      {
       "output_type": "stream",
       "stream": "stdout",
       "text": [
        "\n",
        "http://api.geonames.org/search?featureClass=P&type=json&username=jaguillette&west=109.4&south=50.5&north=51.5&east=110.4"
       ]
      },
      {
       "output_type": "stream",
       "stream": "stdout",
       "text": [
        "\n",
        "http://api.geonames.org/search?featureClass=P&type=json&username=jaguillette&west=110.4&south=50.5&north=51.5&east=111.4"
       ]
      },
      {
       "output_type": "stream",
       "stream": "stdout",
       "text": [
        "\n",
        "http://api.geonames.org/search?featureClass=P&type=json&username=jaguillette&west=111.4&south=50.5&north=51.5&east=112.4"
       ]
      },
      {
       "output_type": "stream",
       "stream": "stdout",
       "text": [
        "\n",
        "http://api.geonames.org/search?featureClass=P&type=json&username=jaguillette&west=112.4&south=50.5&north=51.5&east=113.4"
       ]
      },
      {
       "output_type": "stream",
       "stream": "stdout",
       "text": [
        "\n",
        "http://api.geonames.org/search?featureClass=P&type=json&username=jaguillette&west=113.4&south=50.5&north=51.5&east=114.4"
       ]
      },
      {
       "output_type": "stream",
       "stream": "stdout",
       "text": [
        "\n",
        "http://api.geonames.org/search?featureClass=P&type=json&username=jaguillette&west=114.4&south=50.5&north=51.5&east=115.4"
       ]
      },
      {
       "output_type": "stream",
       "stream": "stdout",
       "text": [
        "\n",
        "http://api.geonames.org/search?featureClass=P&type=json&username=jaguillette&west=115.4&south=50.5&north=51.5&east=116.4"
       ]
      },
      {
       "output_type": "stream",
       "stream": "stdout",
       "text": [
        "\n",
        "http://api.geonames.org/search?featureClass=P&type=json&username=jaguillette&west=116.4&south=50.5&north=51.5&east=117.4"
       ]
      },
      {
       "output_type": "stream",
       "stream": "stdout",
       "text": [
        "\n",
        "http://api.geonames.org/search?featureClass=P&type=json&username=jaguillette&west=117.4&south=50.5&north=51.5&east=118.4"
       ]
      },
      {
       "output_type": "stream",
       "stream": "stdout",
       "text": [
        "\n",
        "http://api.geonames.org/search?featureClass=P&type=json&username=jaguillette&west=118.4&south=50.5&north=51.5&east=119.4"
       ]
      },
      {
       "output_type": "stream",
       "stream": "stdout",
       "text": [
        "\n",
        "http://api.geonames.org/search?featureClass=P&type=json&username=jaguillette&west=119.4&south=50.5&north=51.5&east=120.4"
       ]
      },
      {
       "output_type": "stream",
       "stream": "stdout",
       "text": [
        "\n",
        "http://api.geonames.org/search?featureClass=P&type=json&username=jaguillette&west=120.4&south=50.5&north=51.5&east=121.4"
       ]
      },
      {
       "output_type": "stream",
       "stream": "stdout",
       "text": [
        "\n",
        "http://api.geonames.org/search?featureClass=P&type=json&username=jaguillette&west=121.4&south=50.5&north=51.5&east=122.4"
       ]
      },
      {
       "output_type": "stream",
       "stream": "stdout",
       "text": [
        "\n",
        "http://api.geonames.org/search?featureClass=P&type=json&username=jaguillette&west=122.4&south=50.5&north=51.5&east=123.4"
       ]
      },
      {
       "output_type": "stream",
       "stream": "stdout",
       "text": [
        "\n",
        "http://api.geonames.org/search?featureClass=P&type=json&username=jaguillette&west=123.4&south=50.5&north=51.5&east=124.4"
       ]
      },
      {
       "output_type": "stream",
       "stream": "stdout",
       "text": [
        "\n",
        "http://api.geonames.org/search?featureClass=P&type=json&username=jaguillette&west=124.4&south=50.5&north=51.5&east=125.4"
       ]
      },
      {
       "output_type": "stream",
       "stream": "stdout",
       "text": [
        "\n",
        "http://api.geonames.org/search?featureClass=P&type=json&username=jaguillette&west=125.4&south=50.5&north=51.5&east=126.4"
       ]
      },
      {
       "output_type": "stream",
       "stream": "stdout",
       "text": [
        "\n",
        "http://api.geonames.org/search?featureClass=P&type=json&username=jaguillette&west=126.4&south=50.5&north=51.5&east=127.4"
       ]
      },
      {
       "output_type": "stream",
       "stream": "stdout",
       "text": [
        "\n",
        "http://api.geonames.org/search?featureClass=P&type=json&username=jaguillette&west=127.4&south=50.5&north=51.5&east=128.4"
       ]
      },
      {
       "output_type": "stream",
       "stream": "stdout",
       "text": [
        "\n",
        "http://api.geonames.org/search?featureClass=P&type=json&username=jaguillette&west=128.4&south=50.5&north=51.5&east=129.4"
       ]
      },
      {
       "output_type": "stream",
       "stream": "stdout",
       "text": [
        "\n",
        "http://api.geonames.org/search?featureClass=P&startRow=100&type=json&username=jaguillette&west=128.4&south=50.5&north=51.5&east=129.4"
       ]
      },
      {
       "output_type": "stream",
       "stream": "stdout",
       "text": [
        "\n",
        "http://api.geonames.org/search?featureClass=P&type=json&username=jaguillette&west=129.4&south=50.5&north=51.5&east=130.4"
       ]
      },
      {
       "output_type": "stream",
       "stream": "stdout",
       "text": [
        "\n",
        "http://api.geonames.org/search?featureClass=P&type=json&username=jaguillette&west=130.4&south=50.5&north=51.5&east=131.4"
       ]
      },
      {
       "output_type": "stream",
       "stream": "stdout",
       "text": [
        "\n",
        "http://api.geonames.org/search?featureClass=P&type=json&username=jaguillette&west=131.4&south=50.5&north=51.5&east=132.4"
       ]
      },
      {
       "output_type": "stream",
       "stream": "stdout",
       "text": [
        "\n",
        "http://api.geonames.org/search?featureClass=P&type=json&username=jaguillette&west=132.4&south=50.5&north=51.5&east=133.4"
       ]
      },
      {
       "output_type": "stream",
       "stream": "stdout",
       "text": [
        "\n",
        "http://api.geonames.org/search?featureClass=P&type=json&username=jaguillette&west=133.4&south=50.5&north=51.5&east=134.4"
       ]
      },
      {
       "output_type": "stream",
       "stream": "stdout",
       "text": [
        "\n",
        "http://api.geonames.org/search?featureClass=P&type=json&username=jaguillette&west=134.4&south=50.5&north=51.5&east=135.4"
       ]
      },
      {
       "output_type": "stream",
       "stream": "stdout",
       "text": [
        "\n",
        "http://api.geonames.org/search?featureClass=P&type=json&username=jaguillette&west=135.4&south=50.5&north=51.5&east=136.4"
       ]
      },
      {
       "output_type": "stream",
       "stream": "stdout",
       "text": [
        "\n",
        "http://api.geonames.org/search?featureClass=P&type=json&username=jaguillette&west=136.4&south=50.5&north=51.5&east=137.4"
       ]
      },
      {
       "output_type": "stream",
       "stream": "stdout",
       "text": [
        "\n",
        "http://api.geonames.org/search?featureClass=P&type=json&username=jaguillette&west=137.4&south=50.5&north=51.5&east=138.4"
       ]
      },
      {
       "output_type": "stream",
       "stream": "stdout",
       "text": [
        "\n",
        "http://api.geonames.org/search?featureClass=P&type=json&username=jaguillette&west=138.4&south=50.5&north=51.5&east=139.4"
       ]
      },
      {
       "output_type": "stream",
       "stream": "stdout",
       "text": [
        "\n",
        "http://api.geonames.org/search?featureClass=P&type=json&username=jaguillette&west=139.4&south=50.5&north=51.5&east=140.4"
       ]
      },
      {
       "output_type": "stream",
       "stream": "stdout",
       "text": [
        "\n",
        "http://api.geonames.org/search?featureClass=P&type=json&username=jaguillette&west=140.4&south=50.5&north=51.5&east=141.4"
       ]
      },
      {
       "output_type": "stream",
       "stream": "stdout",
       "text": [
        "\n",
        "http://api.geonames.org/search?featureClass=P&type=json&username=jaguillette&west=141.4&south=50.5&north=51.5&east=142.4"
       ]
      },
      {
       "output_type": "stream",
       "stream": "stdout",
       "text": [
        "\n",
        "http://api.geonames.org/search?featureClass=P&type=json&username=jaguillette&west=142.4&south=50.5&north=51.5&east=143.4"
       ]
      },
      {
       "output_type": "stream",
       "stream": "stdout",
       "text": [
        "\n",
        "http://api.geonames.org/search?featureClass=P&type=json&username=jaguillette&west=143.4&south=50.5&north=51.5&east=144.4"
       ]
      },
      {
       "output_type": "stream",
       "stream": "stdout",
       "text": [
        "\n",
        "http://api.geonames.org/search?featureClass=P&type=json&username=jaguillette&west=144.4&south=50.5&north=51.5&east=145.4"
       ]
      },
      {
       "output_type": "stream",
       "stream": "stdout",
       "text": [
        "\n",
        "http://api.geonames.org/search?featureClass=P&type=json&username=jaguillette&west=145.4&south=50.5&north=51.5&east=146.4"
       ]
      },
      {
       "output_type": "stream",
       "stream": "stdout",
       "text": [
        "\n",
        "http://api.geonames.org/search?featureClass=P&type=json&username=jaguillette&west=146.4&south=50.5&north=51.5&east=147.4"
       ]
      },
      {
       "output_type": "stream",
       "stream": "stdout",
       "text": [
        "\n",
        "http://api.geonames.org/search?featureClass=P&type=json&username=jaguillette&west=147.4&south=50.5&north=51.5&east=148.4"
       ]
      },
      {
       "output_type": "stream",
       "stream": "stdout",
       "text": [
        "\n",
        "http://api.geonames.org/search?featureClass=P&type=json&username=jaguillette&west=148.4&south=50.5&north=51.5&east=149.4"
       ]
      },
      {
       "output_type": "stream",
       "stream": "stdout",
       "text": [
        "\n",
        "http://api.geonames.org/search?featureClass=P&type=json&username=jaguillette&west=149.4&south=50.5&north=51.5&east=150.4"
       ]
      },
      {
       "output_type": "stream",
       "stream": "stdout",
       "text": [
        "\n",
        "http://api.geonames.org/search?featureClass=P&type=json&username=jaguillette&west=150.4&south=50.5&north=51.5&east=151.4"
       ]
      },
      {
       "output_type": "stream",
       "stream": "stdout",
       "text": [
        "\n",
        "http://api.geonames.org/search?featureClass=P&type=json&username=jaguillette&west=151.4&south=50.5&north=51.5&east=152.4"
       ]
      },
      {
       "output_type": "stream",
       "stream": "stdout",
       "text": [
        "\n",
        "http://api.geonames.org/search?featureClass=P&type=json&username=jaguillette&west=152.4&south=50.5&north=51.5&east=153.4"
       ]
      },
      {
       "output_type": "stream",
       "stream": "stdout",
       "text": [
        "\n",
        "http://api.geonames.org/search?featureClass=P&type=json&username=jaguillette&west=153.4&south=50.5&north=51.5&east=154.4"
       ]
      },
      {
       "output_type": "stream",
       "stream": "stdout",
       "text": [
        "\n",
        "http://api.geonames.org/search?featureClass=P&type=json&username=jaguillette&west=154.4&south=50.5&north=51.5&east=155.4"
       ]
      },
      {
       "output_type": "stream",
       "stream": "stdout",
       "text": [
        "\n",
        "http://api.geonames.org/search?featureClass=P&type=json&username=jaguillette&west=155.4&south=50.5&north=51.5&east=156.4"
       ]
      },
      {
       "output_type": "stream",
       "stream": "stdout",
       "text": [
        "\n",
        "http://api.geonames.org/search?featureClass=P&type=json&username=jaguillette&west=156.4&south=50.5&north=51.5&east=157.4"
       ]
      },
      {
       "output_type": "stream",
       "stream": "stdout",
       "text": [
        "\n",
        "http://api.geonames.org/search?featureClass=P&type=json&username=jaguillette&west=157.4&south=50.5&north=51.5&east=158.4"
       ]
      },
      {
       "output_type": "stream",
       "stream": "stdout",
       "text": [
        "\n",
        "http://api.geonames.org/search?featureClass=P&type=json&username=jaguillette&west=158.4&south=50.5&north=51.5&east=159.4"
       ]
      },
      {
       "output_type": "stream",
       "stream": "stdout",
       "text": [
        "\n",
        "http://api.geonames.org/search?featureClass=P&type=json&username=jaguillette&west=159.4&south=50.5&north=51.5&east=160.4"
       ]
      },
      {
       "output_type": "stream",
       "stream": "stdout",
       "text": [
        "\n",
        "http://api.geonames.org/search?featureClass=P&type=json&username=jaguillette&west=160.4&south=50.5&north=51.5&east=161.4"
       ]
      },
      {
       "output_type": "stream",
       "stream": "stdout",
       "text": [
        "\n",
        "http://api.geonames.org/search?featureClass=P&type=json&username=jaguillette&west=161.4&south=50.5&north=51.5&east=162.4"
       ]
      },
      {
       "output_type": "stream",
       "stream": "stdout",
       "text": [
        "\n",
        "http://api.geonames.org/search?featureClass=P&type=json&username=jaguillette&west=162.4&south=50.5&north=51.5&east=163.4"
       ]
      },
      {
       "output_type": "stream",
       "stream": "stdout",
       "text": [
        "\n",
        "http://api.geonames.org/search?featureClass=P&type=json&username=jaguillette&west=163.4&south=50.5&north=51.5&east=164.4"
       ]
      },
      {
       "output_type": "stream",
       "stream": "stdout",
       "text": [
        "\n",
        "http://api.geonames.org/search?featureClass=P&type=json&username=jaguillette&west=164.4&south=50.5&north=51.5&east=165.4"
       ]
      },
      {
       "output_type": "stream",
       "stream": "stdout",
       "text": [
        "\n",
        "http://api.geonames.org/search?featureClass=P&type=json&username=jaguillette&west=165.4&south=50.5&north=51.5&east=166.4"
       ]
      },
      {
       "output_type": "stream",
       "stream": "stdout",
       "text": [
        "\n",
        "http://api.geonames.org/search?featureClass=P&type=json&username=jaguillette&west=166.4&south=50.5&north=51.5&east=167.4"
       ]
      },
      {
       "output_type": "stream",
       "stream": "stdout",
       "text": [
        "\n",
        "http://api.geonames.org/search?featureClass=P&type=json&username=jaguillette&west=167.4&south=50.5&north=51.5&east=168.4"
       ]
      },
      {
       "output_type": "stream",
       "stream": "stdout",
       "text": [
        "\n",
        "http://api.geonames.org/search?featureClass=P&type=json&username=jaguillette&west=168.4&south=50.5&north=51.5&east=169.4"
       ]
      },
      {
       "output_type": "stream",
       "stream": "stdout",
       "text": [
        "\n",
        "http://api.geonames.org/search?featureClass=P&type=json&username=jaguillette&west=169.4&south=50.5&north=51.5&east=170.4"
       ]
      },
      {
       "output_type": "stream",
       "stream": "stdout",
       "text": [
        "\n",
        "http://api.geonames.org/search?featureClass=P&type=json&username=jaguillette&west=170.4&south=50.5&north=51.5&east=171.4"
       ]
      },
      {
       "output_type": "stream",
       "stream": "stdout",
       "text": [
        "\n",
        "http://api.geonames.org/search?featureClass=P&type=json&username=jaguillette&west=171.4&south=50.5&north=51.5&east=172.4"
       ]
      },
      {
       "output_type": "stream",
       "stream": "stdout",
       "text": [
        "\n",
        "http://api.geonames.org/search?featureClass=P&type=json&username=jaguillette&west=172.4&south=50.5&north=51.5&east=173.4"
       ]
      },
      {
       "output_type": "stream",
       "stream": "stdout",
       "text": [
        "\n",
        "http://api.geonames.org/search?featureClass=P&type=json&username=jaguillette&west=173.4&south=50.5&north=51.5&east=174.4"
       ]
      },
      {
       "output_type": "stream",
       "stream": "stdout",
       "text": [
        "\n",
        "http://api.geonames.org/search?featureClass=P&type=json&username=jaguillette&west=174.4&south=50.5&north=51.5&east=175.4"
       ]
      },
      {
       "output_type": "stream",
       "stream": "stdout",
       "text": [
        "\n",
        "http://api.geonames.org/search?featureClass=P&type=json&username=jaguillette&west=175.4&south=50.5&north=51.5&east=176.4"
       ]
      },
      {
       "output_type": "stream",
       "stream": "stdout",
       "text": [
        "\n",
        "http://api.geonames.org/search?featureClass=P&type=json&username=jaguillette&west=176.4&south=50.5&north=51.5&east=177.4"
       ]
      },
      {
       "output_type": "stream",
       "stream": "stdout",
       "text": [
        "\n",
        "http://api.geonames.org/search?featureClass=P&type=json&username=jaguillette&west=177.4&south=50.5&north=51.5&east=178.4"
       ]
      },
      {
       "output_type": "stream",
       "stream": "stdout",
       "text": [
        "\n",
        "http://api.geonames.org/search?featureClass=P&type=json&username=jaguillette&west=178.4&south=50.5&north=51.5&east=179.4"
       ]
      },
      {
       "output_type": "stream",
       "stream": "stdout",
       "text": [
        "\n",
        "http://api.geonames.org/search?featureClass=P&type=json&username=jaguillette&west=179.4&south=50.5&north=51.5&east=180"
       ]
      },
      {
       "output_type": "stream",
       "stream": "stdout",
       "text": [
        "\n",
        "http://api.geonames.org/search?featureClass=P&type=json&username=jaguillette&west=91.4&south=51.5&north=52.5&east=92.4"
       ]
      },
      {
       "output_type": "stream",
       "stream": "stdout",
       "text": [
        "\n",
        "http://api.geonames.org/search?featureClass=P&type=json&username=jaguillette&west=92.4&south=51.5&north=52.5&east=93.4"
       ]
      },
      {
       "output_type": "stream",
       "stream": "stdout",
       "text": [
        "\n",
        "http://api.geonames.org/search?featureClass=P&type=json&username=jaguillette&west=93.4&south=51.5&north=52.5&east=94.4"
       ]
      },
      {
       "output_type": "stream",
       "stream": "stdout",
       "text": [
        "\n",
        "http://api.geonames.org/search?featureClass=P&type=json&username=jaguillette&west=94.4&south=51.5&north=52.5&east=95.4"
       ]
      },
      {
       "output_type": "stream",
       "stream": "stdout",
       "text": [
        "\n",
        "http://api.geonames.org/search?featureClass=P&type=json&username=jaguillette&west=95.4&south=51.5&north=52.5&east=96.4"
       ]
      },
      {
       "output_type": "stream",
       "stream": "stdout",
       "text": [
        "\n",
        "http://api.geonames.org/search?featureClass=P&type=json&username=jaguillette&west=96.4&south=51.5&north=52.5&east=97.4"
       ]
      },
      {
       "output_type": "stream",
       "stream": "stdout",
       "text": [
        "\n",
        "http://api.geonames.org/search?featureClass=P&type=json&username=jaguillette&west=97.4&south=51.5&north=52.5&east=98.4"
       ]
      },
      {
       "output_type": "stream",
       "stream": "stdout",
       "text": [
        "\n",
        "http://api.geonames.org/search?featureClass=P&type=json&username=jaguillette&west=98.4&south=51.5&north=52.5&east=99.4"
       ]
      },
      {
       "output_type": "stream",
       "stream": "stdout",
       "text": [
        "\n",
        "http://api.geonames.org/search?featureClass=P&type=json&username=jaguillette&west=99.4&south=51.5&north=52.5&east=100.4"
       ]
      },
      {
       "output_type": "stream",
       "stream": "stdout",
       "text": [
        "\n",
        "http://api.geonames.org/search?featureClass=P&type=json&username=jaguillette&west=100.4&south=51.5&north=52.5&east=101.4"
       ]
      },
      {
       "output_type": "stream",
       "stream": "stdout",
       "text": [
        "\n",
        "http://api.geonames.org/search?featureClass=P&type=json&username=jaguillette&west=101.4&south=51.5&north=52.5&east=102.4"
       ]
      },
      {
       "output_type": "stream",
       "stream": "stdout",
       "text": [
        "\n",
        "http://api.geonames.org/search?featureClass=P&type=json&username=jaguillette&west=102.4&south=51.5&north=52.5&east=103.4"
       ]
      },
      {
       "output_type": "stream",
       "stream": "stdout",
       "text": [
        "\n",
        "http://api.geonames.org/search?featureClass=P&type=json&username=jaguillette&west=103.4&south=51.5&north=52.5&east=104.4"
       ]
      },
      {
       "output_type": "stream",
       "stream": "stdout",
       "text": [
        "\n",
        "http://api.geonames.org/search?featureClass=P&startRow=100&type=json&username=jaguillette&west=103.4&south=51.5&north=52.5&east=104.4"
       ]
      },
      {
       "output_type": "stream",
       "stream": "stdout",
       "text": [
        "\n",
        "http://api.geonames.org/search?featureClass=P&type=json&username=jaguillette&west=104.4&south=51.5&north=52.5&east=105.4"
       ]
      },
      {
       "output_type": "stream",
       "stream": "stdout",
       "text": [
        "\n",
        "http://api.geonames.org/search?featureClass=P&type=json&username=jaguillette&west=105.4&south=51.5&north=52.5&east=106.4"
       ]
      },
      {
       "output_type": "stream",
       "stream": "stdout",
       "text": [
        "\n",
        "http://api.geonames.org/search?featureClass=P&type=json&username=jaguillette&west=106.4&south=51.5&north=52.5&east=107.4"
       ]
      },
      {
       "output_type": "stream",
       "stream": "stdout",
       "text": [
        "\n",
        "http://api.geonames.org/search?featureClass=P&type=json&username=jaguillette&west=107.4&south=51.5&north=52.5&east=108.4"
       ]
      },
      {
       "output_type": "stream",
       "stream": "stdout",
       "text": [
        "\n",
        "http://api.geonames.org/search?featureClass=P&startRow=100&type=json&username=jaguillette&west=107.4&south=51.5&north=52.5&east=108.4"
       ]
      },
      {
       "output_type": "stream",
       "stream": "stdout",
       "text": [
        "\n",
        "http://api.geonames.org/search?featureClass=P&type=json&username=jaguillette&west=108.4&south=51.5&north=52.5&east=109.4"
       ]
      },
      {
       "output_type": "stream",
       "stream": "stdout",
       "text": [
        "\n",
        "http://api.geonames.org/search?featureClass=P&type=json&username=jaguillette&west=109.4&south=51.5&north=52.5&east=110.4"
       ]
      },
      {
       "output_type": "stream",
       "stream": "stdout",
       "text": [
        "\n",
        "http://api.geonames.org/search?featureClass=P&type=json&username=jaguillette&west=110.4&south=51.5&north=52.5&east=111.4"
       ]
      },
      {
       "output_type": "stream",
       "stream": "stdout",
       "text": [
        "\n",
        "http://api.geonames.org/search?featureClass=P&type=json&username=jaguillette&west=111.4&south=51.5&north=52.5&east=112.4"
       ]
      },
      {
       "output_type": "stream",
       "stream": "stdout",
       "text": [
        "\n",
        "http://api.geonames.org/search?featureClass=P&type=json&username=jaguillette&west=112.4&south=51.5&north=52.5&east=113.4"
       ]
      },
      {
       "output_type": "stream",
       "stream": "stdout",
       "text": [
        "\n",
        "http://api.geonames.org/search?featureClass=P&type=json&username=jaguillette&west=113.4&south=51.5&north=52.5&east=114.4"
       ]
      },
      {
       "output_type": "stream",
       "stream": "stdout",
       "text": [
        "\n",
        "http://api.geonames.org/search?featureClass=P&type=json&username=jaguillette&west=114.4&south=51.5&north=52.5&east=115.4"
       ]
      },
      {
       "output_type": "stream",
       "stream": "stdout",
       "text": [
        "\n",
        "http://api.geonames.org/search?featureClass=P&type=json&username=jaguillette&west=115.4&south=51.5&north=52.5&east=116.4"
       ]
      },
      {
       "output_type": "stream",
       "stream": "stdout",
       "text": [
        "\n",
        "http://api.geonames.org/search?featureClass=P&type=json&username=jaguillette&west=116.4&south=51.5&north=52.5&east=117.4"
       ]
      },
      {
       "output_type": "stream",
       "stream": "stdout",
       "text": [
        "\n",
        "http://api.geonames.org/search?featureClass=P&type=json&username=jaguillette&west=117.4&south=51.5&north=52.5&east=118.4"
       ]
      },
      {
       "output_type": "stream",
       "stream": "stdout",
       "text": [
        "\n",
        "http://api.geonames.org/search?featureClass=P&type=json&username=jaguillette&west=118.4&south=51.5&north=52.5&east=119.4"
       ]
      },
      {
       "output_type": "stream",
       "stream": "stdout",
       "text": [
        "\n",
        "http://api.geonames.org/search?featureClass=P&type=json&username=jaguillette&west=119.4&south=51.5&north=52.5&east=120.4"
       ]
      },
      {
       "output_type": "stream",
       "stream": "stdout",
       "text": [
        "\n",
        "http://api.geonames.org/search?featureClass=P&type=json&username=jaguillette&west=120.4&south=51.5&north=52.5&east=121.4"
       ]
      },
      {
       "output_type": "stream",
       "stream": "stdout",
       "text": [
        "\n",
        "http://api.geonames.org/search?featureClass=P&type=json&username=jaguillette&west=121.4&south=51.5&north=52.5&east=122.4"
       ]
      },
      {
       "output_type": "stream",
       "stream": "stdout",
       "text": [
        "\n",
        "http://api.geonames.org/search?featureClass=P&type=json&username=jaguillette&west=122.4&south=51.5&north=52.5&east=123.4"
       ]
      },
      {
       "output_type": "stream",
       "stream": "stdout",
       "text": [
        "\n",
        "http://api.geonames.org/search?featureClass=P&type=json&username=jaguillette&west=123.4&south=51.5&north=52.5&east=124.4"
       ]
      },
      {
       "output_type": "stream",
       "stream": "stdout",
       "text": [
        "\n",
        "http://api.geonames.org/search?featureClass=P&type=json&username=jaguillette&west=124.4&south=51.5&north=52.5&east=125.4"
       ]
      },
      {
       "output_type": "stream",
       "stream": "stdout",
       "text": [
        "\n",
        "http://api.geonames.org/search?featureClass=P&type=json&username=jaguillette&west=125.4&south=51.5&north=52.5&east=126.4"
       ]
      },
      {
       "output_type": "stream",
       "stream": "stdout",
       "text": [
        "\n",
        "http://api.geonames.org/search?featureClass=P&type=json&username=jaguillette&west=126.4&south=51.5&north=52.5&east=127.4"
       ]
      },
      {
       "output_type": "stream",
       "stream": "stdout",
       "text": [
        "\n",
        "http://api.geonames.org/search?featureClass=P&type=json&username=jaguillette&west=127.4&south=51.5&north=52.5&east=128.4"
       ]
      },
      {
       "output_type": "stream",
       "stream": "stdout",
       "text": [
        "\n",
        "http://api.geonames.org/search?featureClass=P&type=json&username=jaguillette&west=128.4&south=51.5&north=52.5&east=129.4"
       ]
      },
      {
       "output_type": "stream",
       "stream": "stdout",
       "text": [
        "\n",
        "http://api.geonames.org/search?featureClass=P&type=json&username=jaguillette&west=129.4&south=51.5&north=52.5&east=130.4"
       ]
      },
      {
       "output_type": "stream",
       "stream": "stdout",
       "text": [
        "\n",
        "http://api.geonames.org/search?featureClass=P&type=json&username=jaguillette&west=130.4&south=51.5&north=52.5&east=131.4"
       ]
      },
      {
       "output_type": "stream",
       "stream": "stdout",
       "text": [
        "\n",
        "http://api.geonames.org/search?featureClass=P&type=json&username=jaguillette&west=131.4&south=51.5&north=52.5&east=132.4"
       ]
      },
      {
       "output_type": "stream",
       "stream": "stdout",
       "text": [
        "\n",
        "http://api.geonames.org/search?featureClass=P&type=json&username=jaguillette&west=132.4&south=51.5&north=52.5&east=133.4"
       ]
      },
      {
       "output_type": "stream",
       "stream": "stdout",
       "text": [
        "\n",
        "http://api.geonames.org/search?featureClass=P&type=json&username=jaguillette&west=133.4&south=51.5&north=52.5&east=134.4"
       ]
      },
      {
       "output_type": "stream",
       "stream": "stdout",
       "text": [
        "\n",
        "http://api.geonames.org/search?featureClass=P&type=json&username=jaguillette&west=134.4&south=51.5&north=52.5&east=135.4"
       ]
      },
      {
       "output_type": "stream",
       "stream": "stdout",
       "text": [
        "\n",
        "http://api.geonames.org/search?featureClass=P&type=json&username=jaguillette&west=135.4&south=51.5&north=52.5&east=136.4"
       ]
      },
      {
       "output_type": "stream",
       "stream": "stdout",
       "text": [
        "\n",
        "http://api.geonames.org/search?featureClass=P&type=json&username=jaguillette&west=136.4&south=51.5&north=52.5&east=137.4"
       ]
      },
      {
       "output_type": "stream",
       "stream": "stdout",
       "text": [
        "\n",
        "http://api.geonames.org/search?featureClass=P&type=json&username=jaguillette&west=137.4&south=51.5&north=52.5&east=138.4"
       ]
      },
      {
       "output_type": "stream",
       "stream": "stdout",
       "text": [
        "\n",
        "http://api.geonames.org/search?featureClass=P&type=json&username=jaguillette&west=138.4&south=51.5&north=52.5&east=139.4"
       ]
      },
      {
       "output_type": "stream",
       "stream": "stdout",
       "text": [
        "\n",
        "http://api.geonames.org/search?featureClass=P&type=json&username=jaguillette&west=139.4&south=51.5&north=52.5&east=140.4"
       ]
      },
      {
       "output_type": "stream",
       "stream": "stdout",
       "text": [
        "\n",
        "http://api.geonames.org/search?featureClass=P&type=json&username=jaguillette&west=140.4&south=51.5&north=52.5&east=141.4"
       ]
      },
      {
       "output_type": "stream",
       "stream": "stdout",
       "text": [
        "\n",
        "http://api.geonames.org/search?featureClass=P&type=json&username=jaguillette&west=141.4&south=51.5&north=52.5&east=142.4"
       ]
      },
      {
       "output_type": "stream",
       "stream": "stdout",
       "text": [
        "\n",
        "http://api.geonames.org/search?featureClass=P&type=json&username=jaguillette&west=142.4&south=51.5&north=52.5&east=143.4"
       ]
      },
      {
       "output_type": "stream",
       "stream": "stdout",
       "text": [
        "\n",
        "http://api.geonames.org/search?featureClass=P&type=json&username=jaguillette&west=143.4&south=51.5&north=52.5&east=144.4"
       ]
      },
      {
       "output_type": "stream",
       "stream": "stdout",
       "text": [
        "\n",
        "http://api.geonames.org/search?featureClass=P&type=json&username=jaguillette&west=144.4&south=51.5&north=52.5&east=145.4"
       ]
      },
      {
       "output_type": "stream",
       "stream": "stdout",
       "text": [
        "\n",
        "http://api.geonames.org/search?featureClass=P&type=json&username=jaguillette&west=145.4&south=51.5&north=52.5&east=146.4"
       ]
      },
      {
       "output_type": "stream",
       "stream": "stdout",
       "text": [
        "\n",
        "http://api.geonames.org/search?featureClass=P&type=json&username=jaguillette&west=146.4&south=51.5&north=52.5&east=147.4"
       ]
      },
      {
       "output_type": "stream",
       "stream": "stdout",
       "text": [
        "\n",
        "http://api.geonames.org/search?featureClass=P&type=json&username=jaguillette&west=147.4&south=51.5&north=52.5&east=148.4"
       ]
      },
      {
       "output_type": "stream",
       "stream": "stdout",
       "text": [
        "\n",
        "http://api.geonames.org/search?featureClass=P&type=json&username=jaguillette&west=148.4&south=51.5&north=52.5&east=149.4"
       ]
      },
      {
       "output_type": "stream",
       "stream": "stdout",
       "text": [
        "\n",
        "http://api.geonames.org/search?featureClass=P&type=json&username=jaguillette&west=149.4&south=51.5&north=52.5&east=150.4"
       ]
      },
      {
       "output_type": "stream",
       "stream": "stdout",
       "text": [
        "\n",
        "http://api.geonames.org/search?featureClass=P&type=json&username=jaguillette&west=150.4&south=51.5&north=52.5&east=151.4"
       ]
      },
      {
       "output_type": "stream",
       "stream": "stdout",
       "text": [
        "\n",
        "http://api.geonames.org/search?featureClass=P&type=json&username=jaguillette&west=151.4&south=51.5&north=52.5&east=152.4"
       ]
      },
      {
       "output_type": "stream",
       "stream": "stdout",
       "text": [
        "\n",
        "http://api.geonames.org/search?featureClass=P&type=json&username=jaguillette&west=152.4&south=51.5&north=52.5&east=153.4"
       ]
      },
      {
       "output_type": "stream",
       "stream": "stdout",
       "text": [
        "\n",
        "http://api.geonames.org/search?featureClass=P&type=json&username=jaguillette&west=153.4&south=51.5&north=52.5&east=154.4"
       ]
      },
      {
       "output_type": "stream",
       "stream": "stdout",
       "text": [
        "\n",
        "http://api.geonames.org/search?featureClass=P&type=json&username=jaguillette&west=154.4&south=51.5&north=52.5&east=155.4"
       ]
      },
      {
       "output_type": "stream",
       "stream": "stdout",
       "text": [
        "\n",
        "http://api.geonames.org/search?featureClass=P&type=json&username=jaguillette&west=155.4&south=51.5&north=52.5&east=156.4"
       ]
      },
      {
       "output_type": "stream",
       "stream": "stdout",
       "text": [
        "\n",
        "http://api.geonames.org/search?featureClass=P&type=json&username=jaguillette&west=156.4&south=51.5&north=52.5&east=157.4"
       ]
      },
      {
       "output_type": "stream",
       "stream": "stdout",
       "text": [
        "\n",
        "http://api.geonames.org/search?featureClass=P&type=json&username=jaguillette&west=157.4&south=51.5&north=52.5&east=158.4"
       ]
      },
      {
       "output_type": "stream",
       "stream": "stdout",
       "text": [
        "\n",
        "http://api.geonames.org/search?featureClass=P&type=json&username=jaguillette&west=158.4&south=51.5&north=52.5&east=159.4"
       ]
      },
      {
       "output_type": "stream",
       "stream": "stdout",
       "text": [
        "\n",
        "http://api.geonames.org/search?featureClass=P&type=json&username=jaguillette&west=159.4&south=51.5&north=52.5&east=160.4"
       ]
      },
      {
       "output_type": "stream",
       "stream": "stdout",
       "text": [
        "\n",
        "http://api.geonames.org/search?featureClass=P&type=json&username=jaguillette&west=160.4&south=51.5&north=52.5&east=161.4"
       ]
      },
      {
       "output_type": "stream",
       "stream": "stdout",
       "text": [
        "\n",
        "http://api.geonames.org/search?featureClass=P&type=json&username=jaguillette&west=161.4&south=51.5&north=52.5&east=162.4"
       ]
      },
      {
       "output_type": "stream",
       "stream": "stdout",
       "text": [
        "\n",
        "http://api.geonames.org/search?featureClass=P&type=json&username=jaguillette&west=162.4&south=51.5&north=52.5&east=163.4"
       ]
      },
      {
       "output_type": "stream",
       "stream": "stdout",
       "text": [
        "\n",
        "http://api.geonames.org/search?featureClass=P&type=json&username=jaguillette&west=163.4&south=51.5&north=52.5&east=164.4"
       ]
      },
      {
       "output_type": "stream",
       "stream": "stdout",
       "text": [
        "\n",
        "http://api.geonames.org/search?featureClass=P&type=json&username=jaguillette&west=164.4&south=51.5&north=52.5&east=165.4"
       ]
      },
      {
       "output_type": "stream",
       "stream": "stdout",
       "text": [
        "\n",
        "http://api.geonames.org/search?featureClass=P&type=json&username=jaguillette&west=165.4&south=51.5&north=52.5&east=166.4"
       ]
      },
      {
       "output_type": "stream",
       "stream": "stdout",
       "text": [
        "\n",
        "http://api.geonames.org/search?featureClass=P&type=json&username=jaguillette&west=166.4&south=51.5&north=52.5&east=167.4"
       ]
      },
      {
       "output_type": "stream",
       "stream": "stdout",
       "text": [
        "\n",
        "http://api.geonames.org/search?featureClass=P&type=json&username=jaguillette&west=167.4&south=51.5&north=52.5&east=168.4"
       ]
      },
      {
       "output_type": "stream",
       "stream": "stdout",
       "text": [
        "\n",
        "http://api.geonames.org/search?featureClass=P&type=json&username=jaguillette&west=168.4&south=51.5&north=52.5&east=169.4"
       ]
      },
      {
       "output_type": "stream",
       "stream": "stdout",
       "text": [
        "\n",
        "http://api.geonames.org/search?featureClass=P&type=json&username=jaguillette&west=169.4&south=51.5&north=52.5&east=170.4"
       ]
      },
      {
       "output_type": "stream",
       "stream": "stdout",
       "text": [
        "\n",
        "http://api.geonames.org/search?featureClass=P&type=json&username=jaguillette&west=170.4&south=51.5&north=52.5&east=171.4"
       ]
      },
      {
       "output_type": "stream",
       "stream": "stdout",
       "text": [
        "\n",
        "http://api.geonames.org/search?featureClass=P&type=json&username=jaguillette&west=171.4&south=51.5&north=52.5&east=172.4"
       ]
      },
      {
       "output_type": "stream",
       "stream": "stdout",
       "text": [
        "\n",
        "http://api.geonames.org/search?featureClass=P&type=json&username=jaguillette&west=172.4&south=51.5&north=52.5&east=173.4"
       ]
      },
      {
       "output_type": "stream",
       "stream": "stdout",
       "text": [
        "\n",
        "http://api.geonames.org/search?featureClass=P&type=json&username=jaguillette&west=173.4&south=51.5&north=52.5&east=174.4"
       ]
      },
      {
       "output_type": "stream",
       "stream": "stdout",
       "text": [
        "\n",
        "http://api.geonames.org/search?featureClass=P&type=json&username=jaguillette&west=174.4&south=51.5&north=52.5&east=175.4"
       ]
      },
      {
       "output_type": "stream",
       "stream": "stdout",
       "text": [
        "\n",
        "http://api.geonames.org/search?featureClass=P&type=json&username=jaguillette&west=175.4&south=51.5&north=52.5&east=176.4"
       ]
      },
      {
       "output_type": "stream",
       "stream": "stdout",
       "text": [
        "\n",
        "http://api.geonames.org/search?featureClass=P&type=json&username=jaguillette&west=176.4&south=51.5&north=52.5&east=177.4"
       ]
      },
      {
       "output_type": "stream",
       "stream": "stdout",
       "text": [
        "\n",
        "http://api.geonames.org/search?featureClass=P&type=json&username=jaguillette&west=177.4&south=51.5&north=52.5&east=178.4"
       ]
      },
      {
       "output_type": "stream",
       "stream": "stdout",
       "text": [
        "\n",
        "http://api.geonames.org/search?featureClass=P&type=json&username=jaguillette&west=178.4&south=51.5&north=52.5&east=179.4"
       ]
      },
      {
       "output_type": "stream",
       "stream": "stdout",
       "text": [
        "\n",
        "http://api.geonames.org/search?featureClass=P&type=json&username=jaguillette&west=179.4&south=51.5&north=52.5&east=180"
       ]
      },
      {
       "output_type": "stream",
       "stream": "stdout",
       "text": [
        "\n",
        "http://api.geonames.org/search?featureClass=P&type=json&username=jaguillette&west=91.4&south=52.5&north=53.5&east=92.4"
       ]
      },
      {
       "output_type": "stream",
       "stream": "stdout",
       "text": [
        "\n",
        "http://api.geonames.org/search?featureClass=P&type=json&username=jaguillette&west=92.4&south=52.5&north=53.5&east=93.4"
       ]
      },
      {
       "output_type": "stream",
       "stream": "stdout",
       "text": [
        "\n",
        "http://api.geonames.org/search?featureClass=P&type=json&username=jaguillette&west=93.4&south=52.5&north=53.5&east=94.4"
       ]
      },
      {
       "output_type": "stream",
       "stream": "stdout",
       "text": [
        "\n",
        "http://api.geonames.org/search?featureClass=P&type=json&username=jaguillette&west=94.4&south=52.5&north=53.5&east=95.4"
       ]
      },
      {
       "output_type": "stream",
       "stream": "stdout",
       "text": [
        "\n",
        "http://api.geonames.org/search?featureClass=P&type=json&username=jaguillette&west=95.4&south=52.5&north=53.5&east=96.4"
       ]
      },
      {
       "output_type": "stream",
       "stream": "stdout",
       "text": [
        "\n",
        "http://api.geonames.org/search?featureClass=P&type=json&username=jaguillette&west=96.4&south=52.5&north=53.5&east=97.4"
       ]
      },
      {
       "output_type": "stream",
       "stream": "stdout",
       "text": [
        "\n",
        "http://api.geonames.org/search?featureClass=P&type=json&username=jaguillette&west=97.4&south=52.5&north=53.5&east=98.4"
       ]
      },
      {
       "output_type": "stream",
       "stream": "stdout",
       "text": [
        "\n",
        "http://api.geonames.org/search?featureClass=P&type=json&username=jaguillette&west=98.4&south=52.5&north=53.5&east=99.4"
       ]
      },
      {
       "output_type": "stream",
       "stream": "stdout",
       "text": [
        "\n",
        "http://api.geonames.org/search?featureClass=P&type=json&username=jaguillette&west=99.4&south=52.5&north=53.5&east=100.4"
       ]
      },
      {
       "output_type": "stream",
       "stream": "stdout",
       "text": [
        "\n",
        "http://api.geonames.org/search?featureClass=P&type=json&username=jaguillette&west=100.4&south=52.5&north=53.5&east=101.4"
       ]
      },
      {
       "output_type": "stream",
       "stream": "stdout",
       "text": [
        "\n",
        "http://api.geonames.org/search?featureClass=P&type=json&username=jaguillette&west=101.4&south=52.5&north=53.5&east=102.4"
       ]
      },
      {
       "output_type": "stream",
       "stream": "stdout",
       "text": [
        "\n",
        "http://api.geonames.org/search?featureClass=P&type=json&username=jaguillette&west=102.4&south=52.5&north=53.5&east=103.4"
       ]
      },
      {
       "output_type": "stream",
       "stream": "stdout",
       "text": [
        "\n",
        "http://api.geonames.org/search?featureClass=P&startRow=100&type=json&username=jaguillette&west=102.4&south=52.5&north=53.5&east=103.4"
       ]
      },
      {
       "output_type": "stream",
       "stream": "stdout",
       "text": [
        "\n",
        "http://api.geonames.org/search?featureClass=P&startRow=200&type=json&username=jaguillette&west=102.4&south=52.5&north=53.5&east=103.4"
       ]
      },
      {
       "output_type": "stream",
       "stream": "stdout",
       "text": [
        "\n",
        "http://api.geonames.org/search?featureClass=P&type=json&username=jaguillette&west=103.4&south=52.5&north=53.5&east=104.4"
       ]
      },
      {
       "output_type": "stream",
       "stream": "stdout",
       "text": [
        "\n",
        "http://api.geonames.org/search?featureClass=P&startRow=100&type=json&username=jaguillette&west=103.4&south=52.5&north=53.5&east=104.4"
       ]
      },
      {
       "output_type": "stream",
       "stream": "stdout",
       "text": [
        "\n",
        "http://api.geonames.org/search?featureClass=P&type=json&username=jaguillette&west=104.4&south=52.5&north=53.5&east=105.4"
       ]
      },
      {
       "output_type": "stream",
       "stream": "stdout",
       "text": [
        "\n",
        "http://api.geonames.org/search?featureClass=P&startRow=100&type=json&username=jaguillette&west=104.4&south=52.5&north=53.5&east=105.4"
       ]
      },
      {
       "output_type": "stream",
       "stream": "stdout",
       "text": [
        "\n",
        "http://api.geonames.org/search?featureClass=P&type=json&username=jaguillette&west=105.4&south=52.5&north=53.5&east=106.4"
       ]
      },
      {
       "output_type": "stream",
       "stream": "stdout",
       "text": [
        "\n",
        "http://api.geonames.org/search?featureClass=P&type=json&username=jaguillette&west=106.4&south=52.5&north=53.5&east=107.4"
       ]
      },
      {
       "output_type": "stream",
       "stream": "stdout",
       "text": [
        "\n",
        "http://api.geonames.org/search?featureClass=P&type=json&username=jaguillette&west=107.4&south=52.5&north=53.5&east=108.4"
       ]
      },
      {
       "output_type": "stream",
       "stream": "stdout",
       "text": [
        "\n",
        "http://api.geonames.org/search?featureClass=P&type=json&username=jaguillette&west=108.4&south=52.5&north=53.5&east=109.4"
       ]
      },
      {
       "output_type": "stream",
       "stream": "stdout",
       "text": [
        "\n",
        "http://api.geonames.org/search?featureClass=P&type=json&username=jaguillette&west=109.4&south=52.5&north=53.5&east=110.4"
       ]
      },
      {
       "output_type": "stream",
       "stream": "stdout",
       "text": [
        "\n",
        "http://api.geonames.org/search?featureClass=P&type=json&username=jaguillette&west=110.4&south=52.5&north=53.5&east=111.4"
       ]
      },
      {
       "output_type": "stream",
       "stream": "stdout",
       "text": [
        "\n",
        "http://api.geonames.org/search?featureClass=P&type=json&username=jaguillette&west=111.4&south=52.5&north=53.5&east=112.4"
       ]
      },
      {
       "output_type": "stream",
       "stream": "stdout",
       "text": [
        "\n",
        "http://api.geonames.org/search?featureClass=P&type=json&username=jaguillette&west=112.4&south=52.5&north=53.5&east=113.4"
       ]
      },
      {
       "output_type": "stream",
       "stream": "stdout",
       "text": [
        "\n",
        "http://api.geonames.org/search?featureClass=P&type=json&username=jaguillette&west=113.4&south=52.5&north=53.5&east=114.4"
       ]
      },
      {
       "output_type": "stream",
       "stream": "stdout",
       "text": [
        "\n",
        "http://api.geonames.org/search?featureClass=P&type=json&username=jaguillette&west=114.4&south=52.5&north=53.5&east=115.4"
       ]
      },
      {
       "output_type": "stream",
       "stream": "stdout",
       "text": [
        "\n",
        "http://api.geonames.org/search?featureClass=P&type=json&username=jaguillette&west=115.4&south=52.5&north=53.5&east=116.4"
       ]
      },
      {
       "output_type": "stream",
       "stream": "stdout",
       "text": [
        "\n",
        "http://api.geonames.org/search?featureClass=P&type=json&username=jaguillette&west=116.4&south=52.5&north=53.5&east=117.4"
       ]
      },
      {
       "output_type": "stream",
       "stream": "stdout",
       "text": [
        "\n",
        "http://api.geonames.org/search?featureClass=P&type=json&username=jaguillette&west=117.4&south=52.5&north=53.5&east=118.4"
       ]
      },
      {
       "output_type": "stream",
       "stream": "stdout",
       "text": [
        "\n",
        "http://api.geonames.org/search?featureClass=P&type=json&username=jaguillette&west=118.4&south=52.5&north=53.5&east=119.4"
       ]
      },
      {
       "output_type": "stream",
       "stream": "stdout",
       "text": [
        "\n",
        "http://api.geonames.org/search?featureClass=P&type=json&username=jaguillette&west=119.4&south=52.5&north=53.5&east=120.4"
       ]
      },
      {
       "output_type": "stream",
       "stream": "stdout",
       "text": [
        "\n",
        "http://api.geonames.org/search?featureClass=P&type=json&username=jaguillette&west=120.4&south=52.5&north=53.5&east=121.4"
       ]
      },
      {
       "output_type": "stream",
       "stream": "stdout",
       "text": [
        "\n",
        "http://api.geonames.org/search?featureClass=P&type=json&username=jaguillette&west=121.4&south=52.5&north=53.5&east=122.4"
       ]
      },
      {
       "output_type": "stream",
       "stream": "stdout",
       "text": [
        "\n",
        "http://api.geonames.org/search?featureClass=P&type=json&username=jaguillette&west=122.4&south=52.5&north=53.5&east=123.4"
       ]
      },
      {
       "output_type": "stream",
       "stream": "stdout",
       "text": [
        "\n",
        "http://api.geonames.org/search?featureClass=P&type=json&username=jaguillette&west=123.4&south=52.5&north=53.5&east=124.4"
       ]
      },
      {
       "output_type": "stream",
       "stream": "stdout",
       "text": [
        "\n",
        "http://api.geonames.org/search?featureClass=P&type=json&username=jaguillette&west=124.4&south=52.5&north=53.5&east=125.4"
       ]
      },
      {
       "output_type": "stream",
       "stream": "stdout",
       "text": [
        "\n",
        "http://api.geonames.org/search?featureClass=P&type=json&username=jaguillette&west=125.4&south=52.5&north=53.5&east=126.4"
       ]
      },
      {
       "output_type": "stream",
       "stream": "stdout",
       "text": [
        "\n",
        "http://api.geonames.org/search?featureClass=P&type=json&username=jaguillette&west=126.4&south=52.5&north=53.5&east=127.4"
       ]
      },
      {
       "output_type": "stream",
       "stream": "stdout",
       "text": [
        "\n",
        "http://api.geonames.org/search?featureClass=P&type=json&username=jaguillette&west=127.4&south=52.5&north=53.5&east=128.4"
       ]
      },
      {
       "output_type": "stream",
       "stream": "stdout",
       "text": [
        "\n",
        "http://api.geonames.org/search?featureClass=P&type=json&username=jaguillette&west=128.4&south=52.5&north=53.5&east=129.4"
       ]
      },
      {
       "output_type": "stream",
       "stream": "stdout",
       "text": [
        "\n",
        "http://api.geonames.org/search?featureClass=P&type=json&username=jaguillette&west=129.4&south=52.5&north=53.5&east=130.4"
       ]
      },
      {
       "output_type": "stream",
       "stream": "stdout",
       "text": [
        "\n",
        "http://api.geonames.org/search?featureClass=P&type=json&username=jaguillette&west=130.4&south=52.5&north=53.5&east=131.4"
       ]
      },
      {
       "output_type": "stream",
       "stream": "stdout",
       "text": [
        "\n",
        "http://api.geonames.org/search?featureClass=P&type=json&username=jaguillette&west=131.4&south=52.5&north=53.5&east=132.4"
       ]
      },
      {
       "output_type": "stream",
       "stream": "stdout",
       "text": [
        "\n",
        "http://api.geonames.org/search?featureClass=P&type=json&username=jaguillette&west=132.4&south=52.5&north=53.5&east=133.4"
       ]
      },
      {
       "output_type": "stream",
       "stream": "stdout",
       "text": [
        "\n",
        "http://api.geonames.org/search?featureClass=P&type=json&username=jaguillette&west=133.4&south=52.5&north=53.5&east=134.4"
       ]
      },
      {
       "output_type": "stream",
       "stream": "stdout",
       "text": [
        "\n",
        "http://api.geonames.org/search?featureClass=P&type=json&username=jaguillette&west=134.4&south=52.5&north=53.5&east=135.4"
       ]
      },
      {
       "output_type": "stream",
       "stream": "stdout",
       "text": [
        "\n",
        "http://api.geonames.org/search?featureClass=P&type=json&username=jaguillette&west=135.4&south=52.5&north=53.5&east=136.4"
       ]
      },
      {
       "output_type": "stream",
       "stream": "stdout",
       "text": [
        "\n",
        "http://api.geonames.org/search?featureClass=P&type=json&username=jaguillette&west=136.4&south=52.5&north=53.5&east=137.4"
       ]
      },
      {
       "output_type": "stream",
       "stream": "stdout",
       "text": [
        "\n",
        "http://api.geonames.org/search?featureClass=P&type=json&username=jaguillette&west=137.4&south=52.5&north=53.5&east=138.4"
       ]
      },
      {
       "output_type": "stream",
       "stream": "stdout",
       "text": [
        "\n",
        "http://api.geonames.org/search?featureClass=P&type=json&username=jaguillette&west=138.4&south=52.5&north=53.5&east=139.4"
       ]
      },
      {
       "output_type": "stream",
       "stream": "stdout",
       "text": [
        "\n",
        "http://api.geonames.org/search?featureClass=P&type=json&username=jaguillette&west=139.4&south=52.5&north=53.5&east=140.4"
       ]
      },
      {
       "output_type": "stream",
       "stream": "stdout",
       "text": [
        "\n",
        "http://api.geonames.org/search?featureClass=P&type=json&username=jaguillette&west=140.4&south=52.5&north=53.5&east=141.4"
       ]
      },
      {
       "output_type": "stream",
       "stream": "stdout",
       "text": [
        "\n",
        "http://api.geonames.org/search?featureClass=P&type=json&username=jaguillette&west=141.4&south=52.5&north=53.5&east=142.4"
       ]
      },
      {
       "output_type": "stream",
       "stream": "stdout",
       "text": [
        "\n",
        "http://api.geonames.org/search?featureClass=P&type=json&username=jaguillette&west=142.4&south=52.5&north=53.5&east=143.4"
       ]
      },
      {
       "output_type": "stream",
       "stream": "stdout",
       "text": [
        "\n",
        "http://api.geonames.org/search?featureClass=P&type=json&username=jaguillette&west=143.4&south=52.5&north=53.5&east=144.4"
       ]
      },
      {
       "output_type": "stream",
       "stream": "stdout",
       "text": [
        "\n",
        "http://api.geonames.org/search?featureClass=P&type=json&username=jaguillette&west=144.4&south=52.5&north=53.5&east=145.4"
       ]
      },
      {
       "output_type": "stream",
       "stream": "stdout",
       "text": [
        "\n",
        "http://api.geonames.org/search?featureClass=P&type=json&username=jaguillette&west=145.4&south=52.5&north=53.5&east=146.4"
       ]
      },
      {
       "output_type": "stream",
       "stream": "stdout",
       "text": [
        "\n",
        "http://api.geonames.org/search?featureClass=P&type=json&username=jaguillette&west=146.4&south=52.5&north=53.5&east=147.4"
       ]
      },
      {
       "output_type": "stream",
       "stream": "stdout",
       "text": [
        "\n",
        "http://api.geonames.org/search?featureClass=P&type=json&username=jaguillette&west=147.4&south=52.5&north=53.5&east=148.4"
       ]
      },
      {
       "output_type": "stream",
       "stream": "stdout",
       "text": [
        "\n",
        "http://api.geonames.org/search?featureClass=P&type=json&username=jaguillette&west=148.4&south=52.5&north=53.5&east=149.4"
       ]
      },
      {
       "output_type": "stream",
       "stream": "stdout",
       "text": [
        "\n",
        "http://api.geonames.org/search?featureClass=P&type=json&username=jaguillette&west=149.4&south=52.5&north=53.5&east=150.4"
       ]
      },
      {
       "output_type": "stream",
       "stream": "stdout",
       "text": [
        "\n",
        "http://api.geonames.org/search?featureClass=P&type=json&username=jaguillette&west=150.4&south=52.5&north=53.5&east=151.4"
       ]
      },
      {
       "output_type": "stream",
       "stream": "stdout",
       "text": [
        "\n",
        "http://api.geonames.org/search?featureClass=P&type=json&username=jaguillette&west=151.4&south=52.5&north=53.5&east=152.4"
       ]
      },
      {
       "output_type": "stream",
       "stream": "stdout",
       "text": [
        "\n",
        "http://api.geonames.org/search?featureClass=P&type=json&username=jaguillette&west=152.4&south=52.5&north=53.5&east=153.4"
       ]
      },
      {
       "output_type": "stream",
       "stream": "stdout",
       "text": [
        "\n",
        "http://api.geonames.org/search?featureClass=P&type=json&username=jaguillette&west=153.4&south=52.5&north=53.5&east=154.4"
       ]
      },
      {
       "output_type": "stream",
       "stream": "stdout",
       "text": [
        "\n",
        "http://api.geonames.org/search?featureClass=P&type=json&username=jaguillette&west=154.4&south=52.5&north=53.5&east=155.4"
       ]
      },
      {
       "output_type": "stream",
       "stream": "stdout",
       "text": [
        "\n",
        "http://api.geonames.org/search?featureClass=P&type=json&username=jaguillette&west=155.4&south=52.5&north=53.5&east=156.4"
       ]
      },
      {
       "output_type": "stream",
       "stream": "stdout",
       "text": [
        "\n",
        "http://api.geonames.org/search?featureClass=P&type=json&username=jaguillette&west=156.4&south=52.5&north=53.5&east=157.4"
       ]
      },
      {
       "output_type": "stream",
       "stream": "stdout",
       "text": [
        "\n",
        "http://api.geonames.org/search?featureClass=P&type=json&username=jaguillette&west=157.4&south=52.5&north=53.5&east=158.4"
       ]
      },
      {
       "output_type": "stream",
       "stream": "stdout",
       "text": [
        "\n",
        "http://api.geonames.org/search?featureClass=P&type=json&username=jaguillette&west=158.4&south=52.5&north=53.5&east=159.4"
       ]
      },
      {
       "output_type": "stream",
       "stream": "stdout",
       "text": [
        "\n",
        "http://api.geonames.org/search?featureClass=P&type=json&username=jaguillette&west=159.4&south=52.5&north=53.5&east=160.4"
       ]
      },
      {
       "output_type": "stream",
       "stream": "stdout",
       "text": [
        "\n",
        "http://api.geonames.org/search?featureClass=P&type=json&username=jaguillette&west=160.4&south=52.5&north=53.5&east=161.4"
       ]
      },
      {
       "output_type": "stream",
       "stream": "stdout",
       "text": [
        "\n",
        "http://api.geonames.org/search?featureClass=P&type=json&username=jaguillette&west=161.4&south=52.5&north=53.5&east=162.4"
       ]
      },
      {
       "output_type": "stream",
       "stream": "stdout",
       "text": [
        "\n",
        "http://api.geonames.org/search?featureClass=P&type=json&username=jaguillette&west=162.4&south=52.5&north=53.5&east=163.4"
       ]
      },
      {
       "output_type": "stream",
       "stream": "stdout",
       "text": [
        "\n",
        "http://api.geonames.org/search?featureClass=P&type=json&username=jaguillette&west=163.4&south=52.5&north=53.5&east=164.4"
       ]
      },
      {
       "output_type": "stream",
       "stream": "stdout",
       "text": [
        "\n",
        "http://api.geonames.org/search?featureClass=P&type=json&username=jaguillette&west=164.4&south=52.5&north=53.5&east=165.4"
       ]
      },
      {
       "output_type": "stream",
       "stream": "stdout",
       "text": [
        "\n",
        "http://api.geonames.org/search?featureClass=P&type=json&username=jaguillette&west=165.4&south=52.5&north=53.5&east=166.4"
       ]
      },
      {
       "output_type": "stream",
       "stream": "stdout",
       "text": [
        "\n",
        "http://api.geonames.org/search?featureClass=P&type=json&username=jaguillette&west=166.4&south=52.5&north=53.5&east=167.4"
       ]
      },
      {
       "output_type": "stream",
       "stream": "stdout",
       "text": [
        "\n",
        "http://api.geonames.org/search?featureClass=P&type=json&username=jaguillette&west=167.4&south=52.5&north=53.5&east=168.4"
       ]
      },
      {
       "output_type": "stream",
       "stream": "stdout",
       "text": [
        "\n",
        "http://api.geonames.org/search?featureClass=P&type=json&username=jaguillette&west=168.4&south=52.5&north=53.5&east=169.4"
       ]
      },
      {
       "output_type": "stream",
       "stream": "stdout",
       "text": [
        "\n",
        "http://api.geonames.org/search?featureClass=P&type=json&username=jaguillette&west=169.4&south=52.5&north=53.5&east=170.4"
       ]
      },
      {
       "output_type": "stream",
       "stream": "stdout",
       "text": [
        "\n",
        "http://api.geonames.org/search?featureClass=P&type=json&username=jaguillette&west=170.4&south=52.5&north=53.5&east=171.4"
       ]
      },
      {
       "output_type": "stream",
       "stream": "stdout",
       "text": [
        "\n",
        "http://api.geonames.org/search?featureClass=P&type=json&username=jaguillette&west=171.4&south=52.5&north=53.5&east=172.4"
       ]
      },
      {
       "output_type": "stream",
       "stream": "stdout",
       "text": [
        "\n",
        "http://api.geonames.org/search?featureClass=P&type=json&username=jaguillette&west=172.4&south=52.5&north=53.5&east=173.4"
       ]
      },
      {
       "output_type": "stream",
       "stream": "stdout",
       "text": [
        "\n",
        "http://api.geonames.org/search?featureClass=P&type=json&username=jaguillette&west=173.4&south=52.5&north=53.5&east=174.4"
       ]
      },
      {
       "output_type": "stream",
       "stream": "stdout",
       "text": [
        "\n",
        "http://api.geonames.org/search?featureClass=P&type=json&username=jaguillette&west=174.4&south=52.5&north=53.5&east=175.4"
       ]
      },
      {
       "output_type": "stream",
       "stream": "stdout",
       "text": [
        "\n",
        "http://api.geonames.org/search?featureClass=P&type=json&username=jaguillette&west=175.4&south=52.5&north=53.5&east=176.4"
       ]
      },
      {
       "output_type": "stream",
       "stream": "stdout",
       "text": [
        "\n",
        "http://api.geonames.org/search?featureClass=P&type=json&username=jaguillette&west=176.4&south=52.5&north=53.5&east=177.4"
       ]
      },
      {
       "output_type": "stream",
       "stream": "stdout",
       "text": [
        "\n",
        "http://api.geonames.org/search?featureClass=P&type=json&username=jaguillette&west=177.4&south=52.5&north=53.5&east=178.4"
       ]
      },
      {
       "output_type": "stream",
       "stream": "stdout",
       "text": [
        "\n",
        "http://api.geonames.org/search?featureClass=P&type=json&username=jaguillette&west=178.4&south=52.5&north=53.5&east=179.4"
       ]
      },
      {
       "output_type": "stream",
       "stream": "stdout",
       "text": [
        "\n",
        "http://api.geonames.org/search?featureClass=P&type=json&username=jaguillette&west=179.4&south=52.5&north=53.5&east=180"
       ]
      },
      {
       "output_type": "stream",
       "stream": "stdout",
       "text": [
        "\n",
        "http://api.geonames.org/search?featureClass=P&type=json&username=jaguillette&west=91.4&south=53.5&north=54.5&east=92.4"
       ]
      },
      {
       "output_type": "stream",
       "stream": "stdout",
       "text": [
        "\n",
        "http://api.geonames.org/search?featureClass=P&startRow=100&type=json&username=jaguillette&west=91.4&south=53.5&north=54.5&east=92.4"
       ]
      },
      {
       "output_type": "stream",
       "stream": "stdout",
       "text": [
        "\n",
        "http://api.geonames.org/search?featureClass=P&type=json&username=jaguillette&west=92.4&south=53.5&north=54.5&east=93.4"
       ]
      },
      {
       "output_type": "stream",
       "stream": "stdout",
       "text": [
        "\n",
        "http://api.geonames.org/search?featureClass=P&startRow=100&type=json&username=jaguillette&west=92.4&south=53.5&north=54.5&east=93.4"
       ]
      },
      {
       "output_type": "stream",
       "stream": "stdout",
       "text": [
        "\n",
        "http://api.geonames.org/search?featureClass=P&type=json&username=jaguillette&west=93.4&south=53.5&north=54.5&east=94.4"
       ]
      },
      {
       "output_type": "stream",
       "stream": "stdout",
       "text": [
        "\n",
        "http://api.geonames.org/search?featureClass=P&type=json&username=jaguillette&west=94.4&south=53.5&north=54.5&east=95.4"
       ]
      },
      {
       "output_type": "stream",
       "stream": "stdout",
       "text": [
        "\n",
        "http://api.geonames.org/search?featureClass=P&type=json&username=jaguillette&west=95.4&south=53.5&north=54.5&east=96.4"
       ]
      },
      {
       "output_type": "stream",
       "stream": "stdout",
       "text": [
        "\n",
        "http://api.geonames.org/search?featureClass=P&type=json&username=jaguillette&west=96.4&south=53.5&north=54.5&east=97.4"
       ]
      },
      {
       "output_type": "stream",
       "stream": "stdout",
       "text": [
        "\n",
        "http://api.geonames.org/search?featureClass=P&type=json&username=jaguillette&west=97.4&south=53.5&north=54.5&east=98.4"
       ]
      },
      {
       "output_type": "stream",
       "stream": "stdout",
       "text": [
        "\n",
        "http://api.geonames.org/search?featureClass=P&type=json&username=jaguillette&west=98.4&south=53.5&north=54.5&east=99.4"
       ]
      },
      {
       "output_type": "stream",
       "stream": "stdout",
       "text": [
        "\n",
        "http://api.geonames.org/search?featureClass=P&type=json&username=jaguillette&west=99.4&south=53.5&north=54.5&east=100.4"
       ]
      },
      {
       "output_type": "stream",
       "stream": "stdout",
       "text": [
        "\n",
        "http://api.geonames.org/search?featureClass=P&type=json&username=jaguillette&west=100.4&south=53.5&north=54.5&east=101.4"
       ]
      },
      {
       "output_type": "stream",
       "stream": "stdout",
       "text": [
        "\n",
        "http://api.geonames.org/search?featureClass=P&type=json&username=jaguillette&west=101.4&south=53.5&north=54.5&east=102.4"
       ]
      },
      {
       "output_type": "stream",
       "stream": "stdout",
       "text": [
        "\n",
        "http://api.geonames.org/search?featureClass=P&startRow=100&type=json&username=jaguillette&west=101.4&south=53.5&north=54.5&east=102.4"
       ]
      },
      {
       "output_type": "stream",
       "stream": "stdout",
       "text": [
        "\n",
        "http://api.geonames.org/search?featureClass=P&type=json&username=jaguillette&west=102.4&south=53.5&north=54.5&east=103.4"
       ]
      },
      {
       "output_type": "stream",
       "stream": "stdout",
       "text": [
        "\n",
        "http://api.geonames.org/search?featureClass=P&startRow=100&type=json&username=jaguillette&west=102.4&south=53.5&north=54.5&east=103.4"
       ]
      },
      {
       "output_type": "stream",
       "stream": "stdout",
       "text": [
        "\n",
        "http://api.geonames.org/search?featureClass=P&type=json&username=jaguillette&west=103.4&south=53.5&north=54.5&east=104.4"
       ]
      },
      {
       "output_type": "stream",
       "stream": "stdout",
       "text": [
        "\n",
        "http://api.geonames.org/search?featureClass=P&type=json&username=jaguillette&west=104.4&south=53.5&north=54.5&east=105.4"
       ]
      },
      {
       "output_type": "stream",
       "stream": "stdout",
       "text": [
        "\n",
        "http://api.geonames.org/search?featureClass=P&type=json&username=jaguillette&west=105.4&south=53.5&north=54.5&east=106.4"
       ]
      },
      {
       "output_type": "stream",
       "stream": "stdout",
       "text": [
        "\n",
        "http://api.geonames.org/search?featureClass=P&type=json&username=jaguillette&west=106.4&south=53.5&north=54.5&east=107.4"
       ]
      },
      {
       "output_type": "stream",
       "stream": "stdout",
       "text": [
        "\n",
        "http://api.geonames.org/search?featureClass=P&type=json&username=jaguillette&west=107.4&south=53.5&north=54.5&east=108.4"
       ]
      },
      {
       "output_type": "stream",
       "stream": "stdout",
       "text": [
        "\n",
        "http://api.geonames.org/search?featureClass=P&type=json&username=jaguillette&west=108.4&south=53.5&north=54.5&east=109.4"
       ]
      },
      {
       "output_type": "stream",
       "stream": "stdout",
       "text": [
        "\n",
        "http://api.geonames.org/search?featureClass=P&type=json&username=jaguillette&west=109.4&south=53.5&north=54.5&east=110.4"
       ]
      },
      {
       "output_type": "stream",
       "stream": "stdout",
       "text": [
        "\n",
        "http://api.geonames.org/search?featureClass=P&type=json&username=jaguillette&west=110.4&south=53.5&north=54.5&east=111.4"
       ]
      },
      {
       "output_type": "stream",
       "stream": "stdout",
       "text": [
        "\n",
        "http://api.geonames.org/search?featureClass=P&type=json&username=jaguillette&west=111.4&south=53.5&north=54.5&east=112.4"
       ]
      },
      {
       "output_type": "stream",
       "stream": "stdout",
       "text": [
        "\n",
        "http://api.geonames.org/search?featureClass=P&type=json&username=jaguillette&west=112.4&south=53.5&north=54.5&east=113.4"
       ]
      },
      {
       "output_type": "stream",
       "stream": "stdout",
       "text": [
        "\n",
        "http://api.geonames.org/search?featureClass=P&type=json&username=jaguillette&west=113.4&south=53.5&north=54.5&east=114.4"
       ]
      },
      {
       "output_type": "stream",
       "stream": "stdout",
       "text": [
        "\n",
        "http://api.geonames.org/search?featureClass=P&type=json&username=jaguillette&west=114.4&south=53.5&north=54.5&east=115.4"
       ]
      },
      {
       "output_type": "stream",
       "stream": "stdout",
       "text": [
        "\n",
        "http://api.geonames.org/search?featureClass=P&type=json&username=jaguillette&west=115.4&south=53.5&north=54.5&east=116.4"
       ]
      },
      {
       "output_type": "stream",
       "stream": "stdout",
       "text": [
        "\n",
        "http://api.geonames.org/search?featureClass=P&type=json&username=jaguillette&west=116.4&south=53.5&north=54.5&east=117.4"
       ]
      },
      {
       "output_type": "stream",
       "stream": "stdout",
       "text": [
        "\n",
        "http://api.geonames.org/search?featureClass=P&type=json&username=jaguillette&west=117.4&south=53.5&north=54.5&east=118.4"
       ]
      },
      {
       "output_type": "stream",
       "stream": "stdout",
       "text": [
        "\n",
        "http://api.geonames.org/search?featureClass=P&type=json&username=jaguillette&west=118.4&south=53.5&north=54.5&east=119.4"
       ]
      },
      {
       "output_type": "stream",
       "stream": "stdout",
       "text": [
        "\n",
        "http://api.geonames.org/search?featureClass=P&type=json&username=jaguillette&west=119.4&south=53.5&north=54.5&east=120.4"
       ]
      },
      {
       "output_type": "stream",
       "stream": "stdout",
       "text": [
        "\n",
        "http://api.geonames.org/search?featureClass=P&type=json&username=jaguillette&west=120.4&south=53.5&north=54.5&east=121.4"
       ]
      },
      {
       "output_type": "stream",
       "stream": "stdout",
       "text": [
        "\n",
        "http://api.geonames.org/search?featureClass=P&type=json&username=jaguillette&west=121.4&south=53.5&north=54.5&east=122.4"
       ]
      },
      {
       "output_type": "stream",
       "stream": "stdout",
       "text": [
        "\n",
        "http://api.geonames.org/search?featureClass=P&type=json&username=jaguillette&west=122.4&south=53.5&north=54.5&east=123.4"
       ]
      },
      {
       "output_type": "stream",
       "stream": "stdout",
       "text": [
        "\n",
        "http://api.geonames.org/search?featureClass=P&type=json&username=jaguillette&west=123.4&south=53.5&north=54.5&east=124.4"
       ]
      },
      {
       "output_type": "stream",
       "stream": "stdout",
       "text": [
        "\n",
        "http://api.geonames.org/search?featureClass=P&type=json&username=jaguillette&west=124.4&south=53.5&north=54.5&east=125.4"
       ]
      },
      {
       "output_type": "stream",
       "stream": "stdout",
       "text": [
        "\n",
        "http://api.geonames.org/search?featureClass=P&type=json&username=jaguillette&west=125.4&south=53.5&north=54.5&east=126.4"
       ]
      },
      {
       "output_type": "stream",
       "stream": "stdout",
       "text": [
        "\n",
        "http://api.geonames.org/search?featureClass=P&type=json&username=jaguillette&west=126.4&south=53.5&north=54.5&east=127.4"
       ]
      },
      {
       "output_type": "stream",
       "stream": "stdout",
       "text": [
        "\n",
        "http://api.geonames.org/search?featureClass=P&type=json&username=jaguillette&west=127.4&south=53.5&north=54.5&east=128.4"
       ]
      },
      {
       "output_type": "stream",
       "stream": "stdout",
       "text": [
        "\n",
        "http://api.geonames.org/search?featureClass=P&type=json&username=jaguillette&west=128.4&south=53.5&north=54.5&east=129.4"
       ]
      },
      {
       "output_type": "stream",
       "stream": "stdout",
       "text": [
        "\n",
        "http://api.geonames.org/search?featureClass=P&type=json&username=jaguillette&west=129.4&south=53.5&north=54.5&east=130.4"
       ]
      },
      {
       "output_type": "stream",
       "stream": "stdout",
       "text": [
        "\n",
        "http://api.geonames.org/search?featureClass=P&type=json&username=jaguillette&west=130.4&south=53.5&north=54.5&east=131.4"
       ]
      },
      {
       "output_type": "stream",
       "stream": "stdout",
       "text": [
        "\n",
        "http://api.geonames.org/search?featureClass=P&type=json&username=jaguillette&west=131.4&south=53.5&north=54.5&east=132.4"
       ]
      },
      {
       "output_type": "stream",
       "stream": "stdout",
       "text": [
        "\n",
        "http://api.geonames.org/search?featureClass=P&type=json&username=jaguillette&west=132.4&south=53.5&north=54.5&east=133.4"
       ]
      },
      {
       "output_type": "stream",
       "stream": "stdout",
       "text": [
        "\n",
        "http://api.geonames.org/search?featureClass=P&type=json&username=jaguillette&west=133.4&south=53.5&north=54.5&east=134.4"
       ]
      },
      {
       "output_type": "stream",
       "stream": "stdout",
       "text": [
        "\n",
        "http://api.geonames.org/search?featureClass=P&type=json&username=jaguillette&west=134.4&south=53.5&north=54.5&east=135.4"
       ]
      },
      {
       "output_type": "stream",
       "stream": "stdout",
       "text": [
        "\n",
        "http://api.geonames.org/search?featureClass=P&type=json&username=jaguillette&west=135.4&south=53.5&north=54.5&east=136.4"
       ]
      },
      {
       "output_type": "stream",
       "stream": "stdout",
       "text": [
        "\n",
        "http://api.geonames.org/search?featureClass=P&type=json&username=jaguillette&west=136.4&south=53.5&north=54.5&east=137.4"
       ]
      },
      {
       "output_type": "stream",
       "stream": "stdout",
       "text": [
        "\n",
        "http://api.geonames.org/search?featureClass=P&type=json&username=jaguillette&west=137.4&south=53.5&north=54.5&east=138.4"
       ]
      },
      {
       "output_type": "stream",
       "stream": "stdout",
       "text": [
        "\n",
        "http://api.geonames.org/search?featureClass=P&type=json&username=jaguillette&west=138.4&south=53.5&north=54.5&east=139.4"
       ]
      },
      {
       "output_type": "stream",
       "stream": "stdout",
       "text": [
        "\n",
        "http://api.geonames.org/search?featureClass=P&type=json&username=jaguillette&west=139.4&south=53.5&north=54.5&east=140.4"
       ]
      },
      {
       "output_type": "stream",
       "stream": "stdout",
       "text": [
        "\n",
        "http://api.geonames.org/search?featureClass=P&type=json&username=jaguillette&west=140.4&south=53.5&north=54.5&east=141.4"
       ]
      },
      {
       "output_type": "stream",
       "stream": "stdout",
       "text": [
        "\n",
        "http://api.geonames.org/search?featureClass=P&type=json&username=jaguillette&west=141.4&south=53.5&north=54.5&east=142.4"
       ]
      },
      {
       "output_type": "stream",
       "stream": "stdout",
       "text": [
        "\n",
        "http://api.geonames.org/search?featureClass=P&type=json&username=jaguillette&west=142.4&south=53.5&north=54.5&east=143.4"
       ]
      },
      {
       "output_type": "stream",
       "stream": "stdout",
       "text": [
        "\n",
        "http://api.geonames.org/search?featureClass=P&type=json&username=jaguillette&west=143.4&south=53.5&north=54.5&east=144.4"
       ]
      },
      {
       "output_type": "stream",
       "stream": "stdout",
       "text": [
        "\n",
        "http://api.geonames.org/search?featureClass=P&type=json&username=jaguillette&west=144.4&south=53.5&north=54.5&east=145.4"
       ]
      },
      {
       "output_type": "stream",
       "stream": "stdout",
       "text": [
        "\n",
        "http://api.geonames.org/search?featureClass=P&type=json&username=jaguillette&west=145.4&south=53.5&north=54.5&east=146.4"
       ]
      },
      {
       "output_type": "stream",
       "stream": "stdout",
       "text": [
        "\n",
        "http://api.geonames.org/search?featureClass=P&type=json&username=jaguillette&west=146.4&south=53.5&north=54.5&east=147.4"
       ]
      },
      {
       "output_type": "stream",
       "stream": "stdout",
       "text": [
        "\n",
        "http://api.geonames.org/search?featureClass=P&type=json&username=jaguillette&west=147.4&south=53.5&north=54.5&east=148.4"
       ]
      },
      {
       "output_type": "stream",
       "stream": "stdout",
       "text": [
        "\n",
        "http://api.geonames.org/search?featureClass=P&type=json&username=jaguillette&west=148.4&south=53.5&north=54.5&east=149.4"
       ]
      },
      {
       "output_type": "stream",
       "stream": "stdout",
       "text": [
        "\n",
        "http://api.geonames.org/search?featureClass=P&type=json&username=jaguillette&west=149.4&south=53.5&north=54.5&east=150.4"
       ]
      },
      {
       "output_type": "stream",
       "stream": "stdout",
       "text": [
        "\n",
        "http://api.geonames.org/search?featureClass=P&type=json&username=jaguillette&west=150.4&south=53.5&north=54.5&east=151.4"
       ]
      },
      {
       "output_type": "stream",
       "stream": "stdout",
       "text": [
        "\n",
        "http://api.geonames.org/search?featureClass=P&type=json&username=jaguillette&west=151.4&south=53.5&north=54.5&east=152.4"
       ]
      },
      {
       "output_type": "stream",
       "stream": "stdout",
       "text": [
        "\n",
        "http://api.geonames.org/search?featureClass=P&type=json&username=jaguillette&west=152.4&south=53.5&north=54.5&east=153.4"
       ]
      },
      {
       "output_type": "stream",
       "stream": "stdout",
       "text": [
        "\n",
        "http://api.geonames.org/search?featureClass=P&type=json&username=jaguillette&west=153.4&south=53.5&north=54.5&east=154.4"
       ]
      },
      {
       "output_type": "stream",
       "stream": "stdout",
       "text": [
        "\n",
        "http://api.geonames.org/search?featureClass=P&type=json&username=jaguillette&west=154.4&south=53.5&north=54.5&east=155.4"
       ]
      },
      {
       "output_type": "stream",
       "stream": "stdout",
       "text": [
        "\n",
        "http://api.geonames.org/search?featureClass=P&type=json&username=jaguillette&west=155.4&south=53.5&north=54.5&east=156.4"
       ]
      },
      {
       "output_type": "stream",
       "stream": "stdout",
       "text": [
        "\n",
        "http://api.geonames.org/search?featureClass=P&type=json&username=jaguillette&west=156.4&south=53.5&north=54.5&east=157.4"
       ]
      },
      {
       "output_type": "stream",
       "stream": "stdout",
       "text": [
        "\n",
        "http://api.geonames.org/search?featureClass=P&type=json&username=jaguillette&west=157.4&south=53.5&north=54.5&east=158.4"
       ]
      },
      {
       "output_type": "stream",
       "stream": "stdout",
       "text": [
        "\n",
        "http://api.geonames.org/search?featureClass=P&type=json&username=jaguillette&west=158.4&south=53.5&north=54.5&east=159.4"
       ]
      },
      {
       "output_type": "stream",
       "stream": "stdout",
       "text": [
        "\n",
        "http://api.geonames.org/search?featureClass=P&type=json&username=jaguillette&west=159.4&south=53.5&north=54.5&east=160.4"
       ]
      },
      {
       "output_type": "stream",
       "stream": "stdout",
       "text": [
        "\n",
        "http://api.geonames.org/search?featureClass=P&type=json&username=jaguillette&west=160.4&south=53.5&north=54.5&east=161.4"
       ]
      },
      {
       "output_type": "stream",
       "stream": "stdout",
       "text": [
        "\n",
        "http://api.geonames.org/search?featureClass=P&type=json&username=jaguillette&west=161.4&south=53.5&north=54.5&east=162.4"
       ]
      },
      {
       "output_type": "stream",
       "stream": "stdout",
       "text": [
        "\n",
        "http://api.geonames.org/search?featureClass=P&type=json&username=jaguillette&west=162.4&south=53.5&north=54.5&east=163.4"
       ]
      },
      {
       "output_type": "stream",
       "stream": "stdout",
       "text": [
        "\n",
        "http://api.geonames.org/search?featureClass=P&type=json&username=jaguillette&west=163.4&south=53.5&north=54.5&east=164.4"
       ]
      },
      {
       "output_type": "stream",
       "stream": "stdout",
       "text": [
        "\n",
        "http://api.geonames.org/search?featureClass=P&type=json&username=jaguillette&west=164.4&south=53.5&north=54.5&east=165.4"
       ]
      },
      {
       "output_type": "stream",
       "stream": "stdout",
       "text": [
        "\n",
        "http://api.geonames.org/search?featureClass=P&type=json&username=jaguillette&west=165.4&south=53.5&north=54.5&east=166.4"
       ]
      },
      {
       "output_type": "stream",
       "stream": "stdout",
       "text": [
        "\n",
        "http://api.geonames.org/search?featureClass=P&type=json&username=jaguillette&west=166.4&south=53.5&north=54.5&east=167.4"
       ]
      },
      {
       "output_type": "stream",
       "stream": "stdout",
       "text": [
        "\n",
        "http://api.geonames.org/search?featureClass=P&type=json&username=jaguillette&west=167.4&south=53.5&north=54.5&east=168.4"
       ]
      },
      {
       "output_type": "stream",
       "stream": "stdout",
       "text": [
        "\n",
        "http://api.geonames.org/search?featureClass=P&type=json&username=jaguillette&west=168.4&south=53.5&north=54.5&east=169.4"
       ]
      },
      {
       "output_type": "stream",
       "stream": "stdout",
       "text": [
        "\n",
        "http://api.geonames.org/search?featureClass=P&type=json&username=jaguillette&west=169.4&south=53.5&north=54.5&east=170.4"
       ]
      },
      {
       "output_type": "stream",
       "stream": "stdout",
       "text": [
        "\n",
        "http://api.geonames.org/search?featureClass=P&type=json&username=jaguillette&west=170.4&south=53.5&north=54.5&east=171.4"
       ]
      },
      {
       "output_type": "stream",
       "stream": "stdout",
       "text": [
        "\n",
        "http://api.geonames.org/search?featureClass=P&type=json&username=jaguillette&west=171.4&south=53.5&north=54.5&east=172.4"
       ]
      },
      {
       "output_type": "stream",
       "stream": "stdout",
       "text": [
        "\n",
        "http://api.geonames.org/search?featureClass=P&type=json&username=jaguillette&west=172.4&south=53.5&north=54.5&east=173.4"
       ]
      },
      {
       "output_type": "stream",
       "stream": "stdout",
       "text": [
        "\n",
        "http://api.geonames.org/search?featureClass=P&type=json&username=jaguillette&west=173.4&south=53.5&north=54.5&east=174.4"
       ]
      },
      {
       "output_type": "stream",
       "stream": "stdout",
       "text": [
        "\n",
        "http://api.geonames.org/search?featureClass=P&type=json&username=jaguillette&west=174.4&south=53.5&north=54.5&east=175.4"
       ]
      },
      {
       "output_type": "stream",
       "stream": "stdout",
       "text": [
        "\n",
        "http://api.geonames.org/search?featureClass=P&type=json&username=jaguillette&west=175.4&south=53.5&north=54.5&east=176.4"
       ]
      },
      {
       "output_type": "stream",
       "stream": "stdout",
       "text": [
        "\n",
        "http://api.geonames.org/search?featureClass=P&type=json&username=jaguillette&west=176.4&south=53.5&north=54.5&east=177.4"
       ]
      },
      {
       "output_type": "stream",
       "stream": "stdout",
       "text": [
        "\n",
        "http://api.geonames.org/search?featureClass=P&type=json&username=jaguillette&west=177.4&south=53.5&north=54.5&east=178.4"
       ]
      },
      {
       "output_type": "stream",
       "stream": "stdout",
       "text": [
        "\n",
        "http://api.geonames.org/search?featureClass=P&type=json&username=jaguillette&west=178.4&south=53.5&north=54.5&east=179.4"
       ]
      },
      {
       "output_type": "stream",
       "stream": "stdout",
       "text": [
        "\n",
        "http://api.geonames.org/search?featureClass=P&type=json&username=jaguillette&west=179.4&south=53.5&north=54.5&east=180"
       ]
      },
      {
       "output_type": "stream",
       "stream": "stdout",
       "text": [
        "\n",
        "http://api.geonames.org/search?featureClass=P&type=json&username=jaguillette&west=91.4&south=54.5&north=55.5&east=92.4"
       ]
      },
      {
       "output_type": "stream",
       "stream": "stdout",
       "text": [
        "\n",
        "http://api.geonames.org/search?featureClass=P&type=json&username=jaguillette&west=92.4&south=54.5&north=55.5&east=93.4"
       ]
      },
      {
       "output_type": "stream",
       "stream": "stdout",
       "text": [
        "\n",
        "http://api.geonames.org/search?featureClass=P&type=json&username=jaguillette&west=93.4&south=54.5&north=55.5&east=94.4"
       ]
      },
      {
       "output_type": "stream",
       "stream": "stdout",
       "text": [
        "\n",
        "http://api.geonames.org/search?featureClass=P&type=json&username=jaguillette&west=94.4&south=54.5&north=55.5&east=95.4"
       ]
      },
      {
       "output_type": "stream",
       "stream": "stdout",
       "text": [
        "\n",
        "http://api.geonames.org/search?featureClass=P&type=json&username=jaguillette&west=95.4&south=54.5&north=55.5&east=96.4"
       ]
      },
      {
       "output_type": "stream",
       "stream": "stdout",
       "text": [
        "\n",
        "http://api.geonames.org/search?featureClass=P&type=json&username=jaguillette&west=96.4&south=54.5&north=55.5&east=97.4"
       ]
      },
      {
       "output_type": "stream",
       "stream": "stdout",
       "text": [
        "\n",
        "http://api.geonames.org/search?featureClass=P&type=json&username=jaguillette&west=97.4&south=54.5&north=55.5&east=98.4"
       ]
      },
      {
       "output_type": "stream",
       "stream": "stdout",
       "text": [
        "\n",
        "http://api.geonames.org/search?featureClass=P&type=json&username=jaguillette&west=98.4&south=54.5&north=55.5&east=99.4"
       ]
      },
      {
       "output_type": "stream",
       "stream": "stdout",
       "text": [
        "\n",
        "http://api.geonames.org/search?featureClass=P&type=json&username=jaguillette&west=99.4&south=54.5&north=55.5&east=100.4"
       ]
      },
      {
       "output_type": "stream",
       "stream": "stdout",
       "text": [
        "\n",
        "http://api.geonames.org/search?featureClass=P&type=json&username=jaguillette&west=100.4&south=54.5&north=55.5&east=101.4"
       ]
      },
      {
       "output_type": "stream",
       "stream": "stdout",
       "text": [
        "\n",
        "http://api.geonames.org/search?featureClass=P&type=json&username=jaguillette&west=101.4&south=54.5&north=55.5&east=102.4"
       ]
      },
      {
       "output_type": "stream",
       "stream": "stdout",
       "text": [
        "\n",
        "http://api.geonames.org/search?featureClass=P&type=json&username=jaguillette&west=102.4&south=54.5&north=55.5&east=103.4"
       ]
      },
      {
       "output_type": "stream",
       "stream": "stdout",
       "text": [
        "\n",
        "http://api.geonames.org/search?featureClass=P&type=json&username=jaguillette&west=103.4&south=54.5&north=55.5&east=104.4"
       ]
      },
      {
       "output_type": "stream",
       "stream": "stdout",
       "text": [
        "\n",
        "http://api.geonames.org/search?featureClass=P&type=json&username=jaguillette&west=104.4&south=54.5&north=55.5&east=105.4"
       ]
      },
      {
       "output_type": "stream",
       "stream": "stdout",
       "text": [
        "\n",
        "http://api.geonames.org/search?featureClass=P&type=json&username=jaguillette&west=105.4&south=54.5&north=55.5&east=106.4"
       ]
      },
      {
       "output_type": "stream",
       "stream": "stdout",
       "text": [
        "\n",
        "http://api.geonames.org/search?featureClass=P&type=json&username=jaguillette&west=106.4&south=54.5&north=55.5&east=107.4"
       ]
      },
      {
       "output_type": "stream",
       "stream": "stdout",
       "text": [
        "\n",
        "http://api.geonames.org/search?featureClass=P&type=json&username=jaguillette&west=107.4&south=54.5&north=55.5&east=108.4"
       ]
      },
      {
       "output_type": "stream",
       "stream": "stdout",
       "text": [
        "\n",
        "http://api.geonames.org/search?featureClass=P&type=json&username=jaguillette&west=108.4&south=54.5&north=55.5&east=109.4"
       ]
      },
      {
       "output_type": "stream",
       "stream": "stdout",
       "text": [
        "\n",
        "http://api.geonames.org/search?featureClass=P&type=json&username=jaguillette&west=109.4&south=54.5&north=55.5&east=110.4"
       ]
      },
      {
       "output_type": "stream",
       "stream": "stdout",
       "text": [
        "\n",
        "http://api.geonames.org/search?featureClass=P&type=json&username=jaguillette&west=110.4&south=54.5&north=55.5&east=111.4"
       ]
      },
      {
       "output_type": "stream",
       "stream": "stdout",
       "text": [
        "\n",
        "http://api.geonames.org/search?featureClass=P&type=json&username=jaguillette&west=111.4&south=54.5&north=55.5&east=112.4"
       ]
      },
      {
       "output_type": "stream",
       "stream": "stdout",
       "text": [
        "\n",
        "http://api.geonames.org/search?featureClass=P&type=json&username=jaguillette&west=112.4&south=54.5&north=55.5&east=113.4"
       ]
      },
      {
       "output_type": "stream",
       "stream": "stdout",
       "text": [
        "\n",
        "http://api.geonames.org/search?featureClass=P&type=json&username=jaguillette&west=113.4&south=54.5&north=55.5&east=114.4"
       ]
      },
      {
       "output_type": "stream",
       "stream": "stdout",
       "text": [
        "\n",
        "http://api.geonames.org/search?featureClass=P&type=json&username=jaguillette&west=114.4&south=54.5&north=55.5&east=115.4"
       ]
      },
      {
       "output_type": "stream",
       "stream": "stdout",
       "text": [
        "\n",
        "http://api.geonames.org/search?featureClass=P&type=json&username=jaguillette&west=115.4&south=54.5&north=55.5&east=116.4"
       ]
      },
      {
       "output_type": "stream",
       "stream": "stdout",
       "text": [
        "\n",
        "http://api.geonames.org/search?featureClass=P&type=json&username=jaguillette&west=116.4&south=54.5&north=55.5&east=117.4"
       ]
      },
      {
       "output_type": "stream",
       "stream": "stdout",
       "text": [
        "\n",
        "http://api.geonames.org/search?featureClass=P&type=json&username=jaguillette&west=117.4&south=54.5&north=55.5&east=118.4"
       ]
      },
      {
       "output_type": "stream",
       "stream": "stdout",
       "text": [
        "\n",
        "http://api.geonames.org/search?featureClass=P&type=json&username=jaguillette&west=118.4&south=54.5&north=55.5&east=119.4"
       ]
      },
      {
       "output_type": "stream",
       "stream": "stdout",
       "text": [
        "\n",
        "http://api.geonames.org/search?featureClass=P&type=json&username=jaguillette&west=119.4&south=54.5&north=55.5&east=120.4"
       ]
      },
      {
       "output_type": "stream",
       "stream": "stdout",
       "text": [
        "\n",
        "http://api.geonames.org/search?featureClass=P&type=json&username=jaguillette&west=120.4&south=54.5&north=55.5&east=121.4"
       ]
      },
      {
       "output_type": "stream",
       "stream": "stdout",
       "text": [
        "\n",
        "http://api.geonames.org/search?featureClass=P&type=json&username=jaguillette&west=121.4&south=54.5&north=55.5&east=122.4"
       ]
      },
      {
       "output_type": "stream",
       "stream": "stdout",
       "text": [
        "\n",
        "http://api.geonames.org/search?featureClass=P&type=json&username=jaguillette&west=122.4&south=54.5&north=55.5&east=123.4"
       ]
      },
      {
       "output_type": "stream",
       "stream": "stdout",
       "text": [
        "\n",
        "http://api.geonames.org/search?featureClass=P&type=json&username=jaguillette&west=123.4&south=54.5&north=55.5&east=124.4"
       ]
      },
      {
       "output_type": "stream",
       "stream": "stdout",
       "text": [
        "\n",
        "http://api.geonames.org/search?featureClass=P&type=json&username=jaguillette&west=124.4&south=54.5&north=55.5&east=125.4"
       ]
      },
      {
       "output_type": "stream",
       "stream": "stdout",
       "text": [
        "\n",
        "http://api.geonames.org/search?featureClass=P&type=json&username=jaguillette&west=125.4&south=54.5&north=55.5&east=126.4"
       ]
      },
      {
       "output_type": "stream",
       "stream": "stdout",
       "text": [
        "\n",
        "http://api.geonames.org/search?featureClass=P&type=json&username=jaguillette&west=126.4&south=54.5&north=55.5&east=127.4"
       ]
      },
      {
       "output_type": "stream",
       "stream": "stdout",
       "text": [
        "\n",
        "http://api.geonames.org/search?featureClass=P&type=json&username=jaguillette&west=127.4&south=54.5&north=55.5&east=128.4"
       ]
      },
      {
       "output_type": "stream",
       "stream": "stdout",
       "text": [
        "\n",
        "http://api.geonames.org/search?featureClass=P&type=json&username=jaguillette&west=128.4&south=54.5&north=55.5&east=129.4"
       ]
      },
      {
       "output_type": "stream",
       "stream": "stdout",
       "text": [
        "\n",
        "http://api.geonames.org/search?featureClass=P&type=json&username=jaguillette&west=129.4&south=54.5&north=55.5&east=130.4"
       ]
      },
      {
       "output_type": "stream",
       "stream": "stdout",
       "text": [
        "\n",
        "http://api.geonames.org/search?featureClass=P&type=json&username=jaguillette&west=130.4&south=54.5&north=55.5&east=131.4"
       ]
      },
      {
       "output_type": "stream",
       "stream": "stdout",
       "text": [
        "\n",
        "http://api.geonames.org/search?featureClass=P&type=json&username=jaguillette&west=131.4&south=54.5&north=55.5&east=132.4"
       ]
      },
      {
       "output_type": "stream",
       "stream": "stdout",
       "text": [
        "\n",
        "http://api.geonames.org/search?featureClass=P&type=json&username=jaguillette&west=132.4&south=54.5&north=55.5&east=133.4"
       ]
      },
      {
       "output_type": "stream",
       "stream": "stdout",
       "text": [
        "\n",
        "http://api.geonames.org/search?featureClass=P&type=json&username=jaguillette&west=133.4&south=54.5&north=55.5&east=134.4"
       ]
      },
      {
       "output_type": "stream",
       "stream": "stdout",
       "text": [
        "\n",
        "http://api.geonames.org/search?featureClass=P&type=json&username=jaguillette&west=134.4&south=54.5&north=55.5&east=135.4"
       ]
      },
      {
       "output_type": "stream",
       "stream": "stdout",
       "text": [
        "\n",
        "http://api.geonames.org/search?featureClass=P&type=json&username=jaguillette&west=135.4&south=54.5&north=55.5&east=136.4"
       ]
      },
      {
       "output_type": "stream",
       "stream": "stdout",
       "text": [
        "\n",
        "http://api.geonames.org/search?featureClass=P&type=json&username=jaguillette&west=136.4&south=54.5&north=55.5&east=137.4"
       ]
      },
      {
       "output_type": "stream",
       "stream": "stdout",
       "text": [
        "\n",
        "http://api.geonames.org/search?featureClass=P&type=json&username=jaguillette&west=137.4&south=54.5&north=55.5&east=138.4"
       ]
      },
      {
       "output_type": "stream",
       "stream": "stdout",
       "text": [
        "\n",
        "http://api.geonames.org/search?featureClass=P&type=json&username=jaguillette&west=138.4&south=54.5&north=55.5&east=139.4"
       ]
      },
      {
       "output_type": "stream",
       "stream": "stdout",
       "text": [
        "\n",
        "http://api.geonames.org/search?featureClass=P&type=json&username=jaguillette&west=139.4&south=54.5&north=55.5&east=140.4"
       ]
      },
      {
       "output_type": "stream",
       "stream": "stdout",
       "text": [
        "\n",
        "http://api.geonames.org/search?featureClass=P&type=json&username=jaguillette&west=140.4&south=54.5&north=55.5&east=141.4"
       ]
      },
      {
       "output_type": "stream",
       "stream": "stdout",
       "text": [
        "\n",
        "http://api.geonames.org/search?featureClass=P&type=json&username=jaguillette&west=141.4&south=54.5&north=55.5&east=142.4"
       ]
      },
      {
       "output_type": "stream",
       "stream": "stdout",
       "text": [
        "\n",
        "http://api.geonames.org/search?featureClass=P&type=json&username=jaguillette&west=142.4&south=54.5&north=55.5&east=143.4"
       ]
      },
      {
       "output_type": "stream",
       "stream": "stdout",
       "text": [
        "\n",
        "http://api.geonames.org/search?featureClass=P&type=json&username=jaguillette&west=143.4&south=54.5&north=55.5&east=144.4"
       ]
      },
      {
       "output_type": "stream",
       "stream": "stdout",
       "text": [
        "\n",
        "http://api.geonames.org/search?featureClass=P&type=json&username=jaguillette&west=144.4&south=54.5&north=55.5&east=145.4"
       ]
      },
      {
       "output_type": "stream",
       "stream": "stdout",
       "text": [
        "\n",
        "http://api.geonames.org/search?featureClass=P&type=json&username=jaguillette&west=145.4&south=54.5&north=55.5&east=146.4"
       ]
      },
      {
       "output_type": "stream",
       "stream": "stdout",
       "text": [
        "\n",
        "http://api.geonames.org/search?featureClass=P&type=json&username=jaguillette&west=146.4&south=54.5&north=55.5&east=147.4"
       ]
      },
      {
       "output_type": "stream",
       "stream": "stdout",
       "text": [
        "\n",
        "http://api.geonames.org/search?featureClass=P&type=json&username=jaguillette&west=147.4&south=54.5&north=55.5&east=148.4"
       ]
      },
      {
       "output_type": "stream",
       "stream": "stdout",
       "text": [
        "\n",
        "http://api.geonames.org/search?featureClass=P&type=json&username=jaguillette&west=148.4&south=54.5&north=55.5&east=149.4"
       ]
      },
      {
       "output_type": "stream",
       "stream": "stdout",
       "text": [
        "\n",
        "http://api.geonames.org/search?featureClass=P&type=json&username=jaguillette&west=149.4&south=54.5&north=55.5&east=150.4"
       ]
      },
      {
       "output_type": "stream",
       "stream": "stdout",
       "text": [
        "\n",
        "http://api.geonames.org/search?featureClass=P&type=json&username=jaguillette&west=150.4&south=54.5&north=55.5&east=151.4"
       ]
      },
      {
       "output_type": "stream",
       "stream": "stdout",
       "text": [
        "\n",
        "http://api.geonames.org/search?featureClass=P&type=json&username=jaguillette&west=151.4&south=54.5&north=55.5&east=152.4"
       ]
      },
      {
       "output_type": "stream",
       "stream": "stdout",
       "text": [
        "\n",
        "http://api.geonames.org/search?featureClass=P&type=json&username=jaguillette&west=152.4&south=54.5&north=55.5&east=153.4"
       ]
      },
      {
       "output_type": "stream",
       "stream": "stdout",
       "text": [
        "\n",
        "http://api.geonames.org/search?featureClass=P&type=json&username=jaguillette&west=153.4&south=54.5&north=55.5&east=154.4"
       ]
      },
      {
       "output_type": "stream",
       "stream": "stdout",
       "text": [
        "\n",
        "http://api.geonames.org/search?featureClass=P&type=json&username=jaguillette&west=154.4&south=54.5&north=55.5&east=155.4"
       ]
      },
      {
       "output_type": "stream",
       "stream": "stdout",
       "text": [
        "\n",
        "http://api.geonames.org/search?featureClass=P&type=json&username=jaguillette&west=155.4&south=54.5&north=55.5&east=156.4"
       ]
      },
      {
       "output_type": "stream",
       "stream": "stdout",
       "text": [
        "\n",
        "http://api.geonames.org/search?featureClass=P&type=json&username=jaguillette&west=156.4&south=54.5&north=55.5&east=157.4"
       ]
      },
      {
       "output_type": "stream",
       "stream": "stdout",
       "text": [
        "\n",
        "http://api.geonames.org/search?featureClass=P&type=json&username=jaguillette&west=157.4&south=54.5&north=55.5&east=158.4"
       ]
      },
      {
       "output_type": "stream",
       "stream": "stdout",
       "text": [
        "\n",
        "http://api.geonames.org/search?featureClass=P&type=json&username=jaguillette&west=158.4&south=54.5&north=55.5&east=159.4"
       ]
      },
      {
       "output_type": "stream",
       "stream": "stdout",
       "text": [
        "\n",
        "http://api.geonames.org/search?featureClass=P&type=json&username=jaguillette&west=159.4&south=54.5&north=55.5&east=160.4"
       ]
      },
      {
       "output_type": "stream",
       "stream": "stdout",
       "text": [
        "\n",
        "http://api.geonames.org/search?featureClass=P&type=json&username=jaguillette&west=160.4&south=54.5&north=55.5&east=161.4"
       ]
      },
      {
       "output_type": "stream",
       "stream": "stdout",
       "text": [
        "\n",
        "http://api.geonames.org/search?featureClass=P&type=json&username=jaguillette&west=161.4&south=54.5&north=55.5&east=162.4"
       ]
      },
      {
       "output_type": "stream",
       "stream": "stdout",
       "text": [
        "\n",
        "http://api.geonames.org/search?featureClass=P&type=json&username=jaguillette&west=162.4&south=54.5&north=55.5&east=163.4"
       ]
      },
      {
       "output_type": "stream",
       "stream": "stdout",
       "text": [
        "\n",
        "http://api.geonames.org/search?featureClass=P&type=json&username=jaguillette&west=163.4&south=54.5&north=55.5&east=164.4"
       ]
      },
      {
       "output_type": "stream",
       "stream": "stdout",
       "text": [
        "\n",
        "http://api.geonames.org/search?featureClass=P&type=json&username=jaguillette&west=164.4&south=54.5&north=55.5&east=165.4"
       ]
      },
      {
       "output_type": "stream",
       "stream": "stdout",
       "text": [
        "\n",
        "http://api.geonames.org/search?featureClass=P&type=json&username=jaguillette&west=165.4&south=54.5&north=55.5&east=166.4"
       ]
      },
      {
       "output_type": "stream",
       "stream": "stdout",
       "text": [
        "\n",
        "http://api.geonames.org/search?featureClass=P&type=json&username=jaguillette&west=166.4&south=54.5&north=55.5&east=167.4"
       ]
      },
      {
       "output_type": "stream",
       "stream": "stdout",
       "text": [
        "\n",
        "http://api.geonames.org/search?featureClass=P&type=json&username=jaguillette&west=167.4&south=54.5&north=55.5&east=168.4"
       ]
      },
      {
       "output_type": "stream",
       "stream": "stdout",
       "text": [
        "\n",
        "http://api.geonames.org/search?featureClass=P&type=json&username=jaguillette&west=168.4&south=54.5&north=55.5&east=169.4"
       ]
      },
      {
       "output_type": "stream",
       "stream": "stdout",
       "text": [
        "\n",
        "http://api.geonames.org/search?featureClass=P&type=json&username=jaguillette&west=169.4&south=54.5&north=55.5&east=170.4"
       ]
      },
      {
       "output_type": "stream",
       "stream": "stdout",
       "text": [
        "\n",
        "http://api.geonames.org/search?featureClass=P&type=json&username=jaguillette&west=170.4&south=54.5&north=55.5&east=171.4"
       ]
      },
      {
       "output_type": "stream",
       "stream": "stdout",
       "text": [
        "\n",
        "http://api.geonames.org/search?featureClass=P&type=json&username=jaguillette&west=171.4&south=54.5&north=55.5&east=172.4"
       ]
      },
      {
       "output_type": "stream",
       "stream": "stdout",
       "text": [
        "\n",
        "http://api.geonames.org/search?featureClass=P&type=json&username=jaguillette&west=172.4&south=54.5&north=55.5&east=173.4"
       ]
      },
      {
       "output_type": "stream",
       "stream": "stdout",
       "text": [
        "\n",
        "http://api.geonames.org/search?featureClass=P&type=json&username=jaguillette&west=173.4&south=54.5&north=55.5&east=174.4"
       ]
      },
      {
       "output_type": "stream",
       "stream": "stdout",
       "text": [
        "\n",
        "http://api.geonames.org/search?featureClass=P&type=json&username=jaguillette&west=174.4&south=54.5&north=55.5&east=175.4"
       ]
      },
      {
       "output_type": "stream",
       "stream": "stdout",
       "text": [
        "\n",
        "http://api.geonames.org/search?featureClass=P&type=json&username=jaguillette&west=175.4&south=54.5&north=55.5&east=176.4"
       ]
      },
      {
       "output_type": "stream",
       "stream": "stdout",
       "text": [
        "\n",
        "http://api.geonames.org/search?featureClass=P&type=json&username=jaguillette&west=176.4&south=54.5&north=55.5&east=177.4"
       ]
      },
      {
       "output_type": "stream",
       "stream": "stdout",
       "text": [
        "\n",
        "http://api.geonames.org/search?featureClass=P&type=json&username=jaguillette&west=177.4&south=54.5&north=55.5&east=178.4"
       ]
      },
      {
       "output_type": "stream",
       "stream": "stdout",
       "text": [
        "\n",
        "http://api.geonames.org/search?featureClass=P&type=json&username=jaguillette&west=178.4&south=54.5&north=55.5&east=179.4"
       ]
      },
      {
       "output_type": "stream",
       "stream": "stdout",
       "text": [
        "\n",
        "http://api.geonames.org/search?featureClass=P&type=json&username=jaguillette&west=179.4&south=54.5&north=55.5&east=180"
       ]
      },
      {
       "output_type": "stream",
       "stream": "stdout",
       "text": [
        "\n",
        "http://api.geonames.org/search?featureClass=P&type=json&username=jaguillette&west=91.4&south=55.5&north=56.5&east=92.4"
       ]
      },
      {
       "output_type": "stream",
       "stream": "stdout",
       "text": [
        "\n",
        "http://api.geonames.org/search?featureClass=P&type=json&username=jaguillette&west=92.4&south=55.5&north=56.5&east=93.4"
       ]
      },
      {
       "output_type": "stream",
       "stream": "stdout",
       "text": [
        "\n",
        "http://api.geonames.org/search?featureClass=P&startRow=100&type=json&username=jaguillette&west=92.4&south=55.5&north=56.5&east=93.4"
       ]
      },
      {
       "output_type": "stream",
       "stream": "stdout",
       "text": [
        "\n",
        "http://api.geonames.org/search?featureClass=P&type=json&username=jaguillette&west=93.4&south=55.5&north=56.5&east=94.4"
       ]
      },
      {
       "output_type": "stream",
       "stream": "stdout",
       "text": [
        "\n",
        "http://api.geonames.org/search?featureClass=P&type=json&username=jaguillette&west=94.4&south=55.5&north=56.5&east=95.4"
       ]
      },
      {
       "output_type": "stream",
       "stream": "stdout",
       "text": [
        "\n",
        "http://api.geonames.org/search?featureClass=P&startRow=100&type=json&username=jaguillette&west=94.4&south=55.5&north=56.5&east=95.4"
       ]
      },
      {
       "output_type": "stream",
       "stream": "stdout",
       "text": [
        "\n",
        "http://api.geonames.org/search?featureClass=P&type=json&username=jaguillette&west=95.4&south=55.5&north=56.5&east=96.4"
       ]
      },
      {
       "output_type": "stream",
       "stream": "stdout",
       "text": [
        "\n",
        "http://api.geonames.org/search?featureClass=P&startRow=100&type=json&username=jaguillette&west=95.4&south=55.5&north=56.5&east=96.4"
       ]
      },
      {
       "output_type": "stream",
       "stream": "stdout",
       "text": [
        "\n",
        "http://api.geonames.org/search?featureClass=P&type=json&username=jaguillette&west=96.4&south=55.5&north=56.5&east=97.4"
       ]
      },
      {
       "output_type": "stream",
       "stream": "stdout",
       "text": [
        "\n",
        "http://api.geonames.org/search?featureClass=P&type=json&username=jaguillette&west=97.4&south=55.5&north=56.5&east=98.4"
       ]
      },
      {
       "output_type": "stream",
       "stream": "stdout",
       "text": [
        "\n",
        "http://api.geonames.org/search?featureClass=P&type=json&username=jaguillette&west=98.4&south=55.5&north=56.5&east=99.4"
       ]
      },
      {
       "output_type": "stream",
       "stream": "stdout",
       "text": [
        "\n",
        "http://api.geonames.org/search?featureClass=P&type=json&username=jaguillette&west=99.4&south=55.5&north=56.5&east=100.4"
       ]
      },
      {
       "output_type": "stream",
       "stream": "stdout",
       "text": [
        "\n",
        "http://api.geonames.org/search?featureClass=P&type=json&username=jaguillette&west=100.4&south=55.5&north=56.5&east=101.4"
       ]
      },
      {
       "output_type": "stream",
       "stream": "stdout",
       "text": [
        "\n",
        "http://api.geonames.org/search?featureClass=P&type=json&username=jaguillette&west=101.4&south=55.5&north=56.5&east=102.4"
       ]
      },
      {
       "output_type": "stream",
       "stream": "stdout",
       "text": [
        "\n",
        "http://api.geonames.org/search?featureClass=P&type=json&username=jaguillette&west=102.4&south=55.5&north=56.5&east=103.4"
       ]
      },
      {
       "output_type": "stream",
       "stream": "stdout",
       "text": [
        "\n",
        "http://api.geonames.org/search?featureClass=P&type=json&username=jaguillette&west=103.4&south=55.5&north=56.5&east=104.4"
       ]
      },
      {
       "output_type": "stream",
       "stream": "stdout",
       "text": [
        "\n",
        "http://api.geonames.org/search?featureClass=P&type=json&username=jaguillette&west=104.4&south=55.5&north=56.5&east=105.4"
       ]
      },
      {
       "output_type": "stream",
       "stream": "stdout",
       "text": [
        "\n",
        "http://api.geonames.org/search?featureClass=P&type=json&username=jaguillette&west=105.4&south=55.5&north=56.5&east=106.4"
       ]
      },
      {
       "output_type": "stream",
       "stream": "stdout",
       "text": [
        "\n",
        "http://api.geonames.org/search?featureClass=P&type=json&username=jaguillette&west=106.4&south=55.5&north=56.5&east=107.4"
       ]
      },
      {
       "output_type": "stream",
       "stream": "stdout",
       "text": [
        "\n",
        "http://api.geonames.org/search?featureClass=P&type=json&username=jaguillette&west=107.4&south=55.5&north=56.5&east=108.4"
       ]
      },
      {
       "output_type": "stream",
       "stream": "stdout",
       "text": [
        "\n",
        "http://api.geonames.org/search?featureClass=P&type=json&username=jaguillette&west=108.4&south=55.5&north=56.5&east=109.4"
       ]
      },
      {
       "output_type": "stream",
       "stream": "stdout",
       "text": [
        "\n",
        "http://api.geonames.org/search?featureClass=P&type=json&username=jaguillette&west=109.4&south=55.5&north=56.5&east=110.4"
       ]
      },
      {
       "output_type": "stream",
       "stream": "stdout",
       "text": [
        "\n",
        "http://api.geonames.org/search?featureClass=P&type=json&username=jaguillette&west=110.4&south=55.5&north=56.5&east=111.4"
       ]
      },
      {
       "output_type": "stream",
       "stream": "stdout",
       "text": [
        "\n",
        "http://api.geonames.org/search?featureClass=P&type=json&username=jaguillette&west=111.4&south=55.5&north=56.5&east=112.4"
       ]
      },
      {
       "output_type": "stream",
       "stream": "stdout",
       "text": [
        "\n",
        "http://api.geonames.org/search?featureClass=P&type=json&username=jaguillette&west=112.4&south=55.5&north=56.5&east=113.4"
       ]
      },
      {
       "output_type": "stream",
       "stream": "stdout",
       "text": [
        "\n",
        "http://api.geonames.org/search?featureClass=P&type=json&username=jaguillette&west=113.4&south=55.5&north=56.5&east=114.4"
       ]
      },
      {
       "output_type": "stream",
       "stream": "stdout",
       "text": [
        "\n",
        "http://api.geonames.org/search?featureClass=P&type=json&username=jaguillette&west=114.4&south=55.5&north=56.5&east=115.4"
       ]
      },
      {
       "output_type": "stream",
       "stream": "stdout",
       "text": [
        "\n",
        "http://api.geonames.org/search?featureClass=P&type=json&username=jaguillette&west=115.4&south=55.5&north=56.5&east=116.4"
       ]
      },
      {
       "output_type": "stream",
       "stream": "stdout",
       "text": [
        "\n",
        "http://api.geonames.org/search?featureClass=P&type=json&username=jaguillette&west=116.4&south=55.5&north=56.5&east=117.4"
       ]
      },
      {
       "output_type": "stream",
       "stream": "stdout",
       "text": [
        "\n",
        "http://api.geonames.org/search?featureClass=P&type=json&username=jaguillette&west=117.4&south=55.5&north=56.5&east=118.4"
       ]
      },
      {
       "output_type": "stream",
       "stream": "stdout",
       "text": [
        "\n",
        "http://api.geonames.org/search?featureClass=P&type=json&username=jaguillette&west=118.4&south=55.5&north=56.5&east=119.4"
       ]
      },
      {
       "output_type": "stream",
       "stream": "stdout",
       "text": [
        "\n",
        "http://api.geonames.org/search?featureClass=P&type=json&username=jaguillette&west=119.4&south=55.5&north=56.5&east=120.4"
       ]
      },
      {
       "output_type": "stream",
       "stream": "stdout",
       "text": [
        "\n",
        "http://api.geonames.org/search?featureClass=P&type=json&username=jaguillette&west=120.4&south=55.5&north=56.5&east=121.4"
       ]
      },
      {
       "output_type": "stream",
       "stream": "stdout",
       "text": [
        "\n",
        "http://api.geonames.org/search?featureClass=P&type=json&username=jaguillette&west=121.4&south=55.5&north=56.5&east=122.4"
       ]
      },
      {
       "output_type": "stream",
       "stream": "stdout",
       "text": [
        "\n",
        "http://api.geonames.org/search?featureClass=P&type=json&username=jaguillette&west=122.4&south=55.5&north=56.5&east=123.4"
       ]
      },
      {
       "output_type": "stream",
       "stream": "stdout",
       "text": [
        "\n",
        "http://api.geonames.org/search?featureClass=P&type=json&username=jaguillette&west=123.4&south=55.5&north=56.5&east=124.4"
       ]
      },
      {
       "output_type": "stream",
       "stream": "stdout",
       "text": [
        "\n",
        "http://api.geonames.org/search?featureClass=P&type=json&username=jaguillette&west=124.4&south=55.5&north=56.5&east=125.4"
       ]
      },
      {
       "output_type": "stream",
       "stream": "stdout",
       "text": [
        "\n",
        "http://api.geonames.org/search?featureClass=P&type=json&username=jaguillette&west=125.4&south=55.5&north=56.5&east=126.4"
       ]
      },
      {
       "output_type": "stream",
       "stream": "stdout",
       "text": [
        "\n",
        "http://api.geonames.org/search?featureClass=P&type=json&username=jaguillette&west=126.4&south=55.5&north=56.5&east=127.4"
       ]
      },
      {
       "output_type": "stream",
       "stream": "stdout",
       "text": [
        "\n",
        "http://api.geonames.org/search?featureClass=P&type=json&username=jaguillette&west=127.4&south=55.5&north=56.5&east=128.4"
       ]
      },
      {
       "output_type": "stream",
       "stream": "stdout",
       "text": [
        "\n",
        "http://api.geonames.org/search?featureClass=P&type=json&username=jaguillette&west=128.4&south=55.5&north=56.5&east=129.4"
       ]
      },
      {
       "output_type": "stream",
       "stream": "stdout",
       "text": [
        "\n",
        "http://api.geonames.org/search?featureClass=P&type=json&username=jaguillette&west=129.4&south=55.5&north=56.5&east=130.4"
       ]
      },
      {
       "output_type": "stream",
       "stream": "stdout",
       "text": [
        "\n",
        "http://api.geonames.org/search?featureClass=P&type=json&username=jaguillette&west=130.4&south=55.5&north=56.5&east=131.4"
       ]
      },
      {
       "output_type": "stream",
       "stream": "stdout",
       "text": [
        "\n",
        "http://api.geonames.org/search?featureClass=P&type=json&username=jaguillette&west=131.4&south=55.5&north=56.5&east=132.4"
       ]
      },
      {
       "output_type": "stream",
       "stream": "stdout",
       "text": [
        "\n",
        "http://api.geonames.org/search?featureClass=P&type=json&username=jaguillette&west=132.4&south=55.5&north=56.5&east=133.4"
       ]
      },
      {
       "output_type": "stream",
       "stream": "stdout",
       "text": [
        "\n",
        "http://api.geonames.org/search?featureClass=P&type=json&username=jaguillette&west=133.4&south=55.5&north=56.5&east=134.4"
       ]
      },
      {
       "output_type": "stream",
       "stream": "stdout",
       "text": [
        "\n",
        "http://api.geonames.org/search?featureClass=P&type=json&username=jaguillette&west=134.4&south=55.5&north=56.5&east=135.4"
       ]
      },
      {
       "output_type": "stream",
       "stream": "stdout",
       "text": [
        "\n",
        "http://api.geonames.org/search?featureClass=P&type=json&username=jaguillette&west=135.4&south=55.5&north=56.5&east=136.4"
       ]
      },
      {
       "output_type": "stream",
       "stream": "stdout",
       "text": [
        "\n",
        "http://api.geonames.org/search?featureClass=P&type=json&username=jaguillette&west=136.4&south=55.5&north=56.5&east=137.4"
       ]
      },
      {
       "output_type": "stream",
       "stream": "stdout",
       "text": [
        "\n",
        "http://api.geonames.org/search?featureClass=P&type=json&username=jaguillette&west=137.4&south=55.5&north=56.5&east=138.4"
       ]
      },
      {
       "output_type": "stream",
       "stream": "stdout",
       "text": [
        "\n",
        "http://api.geonames.org/search?featureClass=P&type=json&username=jaguillette&west=138.4&south=55.5&north=56.5&east=139.4"
       ]
      },
      {
       "output_type": "stream",
       "stream": "stdout",
       "text": [
        "\n",
        "http://api.geonames.org/search?featureClass=P&type=json&username=jaguillette&west=139.4&south=55.5&north=56.5&east=140.4"
       ]
      },
      {
       "output_type": "stream",
       "stream": "stdout",
       "text": [
        "\n",
        "http://api.geonames.org/search?featureClass=P&type=json&username=jaguillette&west=140.4&south=55.5&north=56.5&east=141.4"
       ]
      },
      {
       "output_type": "stream",
       "stream": "stdout",
       "text": [
        "\n",
        "http://api.geonames.org/search?featureClass=P&type=json&username=jaguillette&west=141.4&south=55.5&north=56.5&east=142.4"
       ]
      },
      {
       "output_type": "stream",
       "stream": "stdout",
       "text": [
        "\n",
        "http://api.geonames.org/search?featureClass=P&type=json&username=jaguillette&west=142.4&south=55.5&north=56.5&east=143.4"
       ]
      },
      {
       "output_type": "stream",
       "stream": "stdout",
       "text": [
        "\n",
        "http://api.geonames.org/search?featureClass=P&type=json&username=jaguillette&west=143.4&south=55.5&north=56.5&east=144.4"
       ]
      },
      {
       "output_type": "stream",
       "stream": "stdout",
       "text": [
        "\n",
        "http://api.geonames.org/search?featureClass=P&type=json&username=jaguillette&west=144.4&south=55.5&north=56.5&east=145.4"
       ]
      },
      {
       "output_type": "stream",
       "stream": "stdout",
       "text": [
        "\n",
        "http://api.geonames.org/search?featureClass=P&type=json&username=jaguillette&west=145.4&south=55.5&north=56.5&east=146.4"
       ]
      },
      {
       "output_type": "stream",
       "stream": "stdout",
       "text": [
        "\n",
        "http://api.geonames.org/search?featureClass=P&type=json&username=jaguillette&west=146.4&south=55.5&north=56.5&east=147.4"
       ]
      },
      {
       "output_type": "stream",
       "stream": "stdout",
       "text": [
        "\n",
        "http://api.geonames.org/search?featureClass=P&type=json&username=jaguillette&west=147.4&south=55.5&north=56.5&east=148.4"
       ]
      },
      {
       "output_type": "stream",
       "stream": "stdout",
       "text": [
        "\n",
        "http://api.geonames.org/search?featureClass=P&type=json&username=jaguillette&west=148.4&south=55.5&north=56.5&east=149.4"
       ]
      },
      {
       "output_type": "stream",
       "stream": "stdout",
       "text": [
        "\n",
        "http://api.geonames.org/search?featureClass=P&type=json&username=jaguillette&west=149.4&south=55.5&north=56.5&east=150.4"
       ]
      },
      {
       "output_type": "stream",
       "stream": "stdout",
       "text": [
        "\n",
        "http://api.geonames.org/search?featureClass=P&type=json&username=jaguillette&west=150.4&south=55.5&north=56.5&east=151.4"
       ]
      },
      {
       "output_type": "stream",
       "stream": "stdout",
       "text": [
        "\n",
        "http://api.geonames.org/search?featureClass=P&type=json&username=jaguillette&west=151.4&south=55.5&north=56.5&east=152.4"
       ]
      },
      {
       "output_type": "stream",
       "stream": "stdout",
       "text": [
        "\n",
        "http://api.geonames.org/search?featureClass=P&type=json&username=jaguillette&west=152.4&south=55.5&north=56.5&east=153.4"
       ]
      },
      {
       "output_type": "stream",
       "stream": "stdout",
       "text": [
        "\n",
        "http://api.geonames.org/search?featureClass=P&type=json&username=jaguillette&west=153.4&south=55.5&north=56.5&east=154.4"
       ]
      },
      {
       "output_type": "stream",
       "stream": "stdout",
       "text": [
        "\n",
        "http://api.geonames.org/search?featureClass=P&type=json&username=jaguillette&west=154.4&south=55.5&north=56.5&east=155.4"
       ]
      },
      {
       "output_type": "stream",
       "stream": "stdout",
       "text": [
        "\n",
        "http://api.geonames.org/search?featureClass=P&type=json&username=jaguillette&west=155.4&south=55.5&north=56.5&east=156.4"
       ]
      },
      {
       "output_type": "stream",
       "stream": "stdout",
       "text": [
        "\n",
        "http://api.geonames.org/search?featureClass=P&type=json&username=jaguillette&west=156.4&south=55.5&north=56.5&east=157.4"
       ]
      },
      {
       "output_type": "stream",
       "stream": "stdout",
       "text": [
        "\n",
        "http://api.geonames.org/search?featureClass=P&type=json&username=jaguillette&west=157.4&south=55.5&north=56.5&east=158.4"
       ]
      },
      {
       "output_type": "stream",
       "stream": "stdout",
       "text": [
        "\n",
        "http://api.geonames.org/search?featureClass=P&type=json&username=jaguillette&west=158.4&south=55.5&north=56.5&east=159.4"
       ]
      },
      {
       "output_type": "stream",
       "stream": "stdout",
       "text": [
        "\n",
        "http://api.geonames.org/search?featureClass=P&type=json&username=jaguillette&west=159.4&south=55.5&north=56.5&east=160.4"
       ]
      },
      {
       "output_type": "stream",
       "stream": "stdout",
       "text": [
        "\n",
        "http://api.geonames.org/search?featureClass=P&type=json&username=jaguillette&west=160.4&south=55.5&north=56.5&east=161.4"
       ]
      },
      {
       "output_type": "stream",
       "stream": "stdout",
       "text": [
        "\n",
        "http://api.geonames.org/search?featureClass=P&type=json&username=jaguillette&west=161.4&south=55.5&north=56.5&east=162.4"
       ]
      },
      {
       "output_type": "stream",
       "stream": "stdout",
       "text": [
        "\n",
        "http://api.geonames.org/search?featureClass=P&type=json&username=jaguillette&west=162.4&south=55.5&north=56.5&east=163.4"
       ]
      },
      {
       "output_type": "stream",
       "stream": "stdout",
       "text": [
        "\n",
        "http://api.geonames.org/search?featureClass=P&type=json&username=jaguillette&west=163.4&south=55.5&north=56.5&east=164.4"
       ]
      },
      {
       "output_type": "stream",
       "stream": "stdout",
       "text": [
        "\n",
        "http://api.geonames.org/search?featureClass=P&type=json&username=jaguillette&west=164.4&south=55.5&north=56.5&east=165.4"
       ]
      },
      {
       "output_type": "stream",
       "stream": "stdout",
       "text": [
        "\n",
        "http://api.geonames.org/search?featureClass=P&type=json&username=jaguillette&west=165.4&south=55.5&north=56.5&east=166.4"
       ]
      },
      {
       "output_type": "stream",
       "stream": "stdout",
       "text": [
        "\n",
        "http://api.geonames.org/search?featureClass=P&type=json&username=jaguillette&west=166.4&south=55.5&north=56.5&east=167.4"
       ]
      },
      {
       "output_type": "stream",
       "stream": "stdout",
       "text": [
        "\n",
        "http://api.geonames.org/search?featureClass=P&type=json&username=jaguillette&west=167.4&south=55.5&north=56.5&east=168.4"
       ]
      },
      {
       "output_type": "stream",
       "stream": "stdout",
       "text": [
        "\n",
        "http://api.geonames.org/search?featureClass=P&type=json&username=jaguillette&west=168.4&south=55.5&north=56.5&east=169.4"
       ]
      },
      {
       "output_type": "stream",
       "stream": "stdout",
       "text": [
        "\n",
        "http://api.geonames.org/search?featureClass=P&type=json&username=jaguillette&west=169.4&south=55.5&north=56.5&east=170.4"
       ]
      },
      {
       "output_type": "stream",
       "stream": "stdout",
       "text": [
        "\n",
        "http://api.geonames.org/search?featureClass=P&type=json&username=jaguillette&west=170.4&south=55.5&north=56.5&east=171.4"
       ]
      },
      {
       "output_type": "stream",
       "stream": "stdout",
       "text": [
        "\n",
        "http://api.geonames.org/search?featureClass=P&type=json&username=jaguillette&west=171.4&south=55.5&north=56.5&east=172.4"
       ]
      },
      {
       "output_type": "stream",
       "stream": "stdout",
       "text": [
        "\n",
        "http://api.geonames.org/search?featureClass=P&type=json&username=jaguillette&west=172.4&south=55.5&north=56.5&east=173.4"
       ]
      },
      {
       "output_type": "stream",
       "stream": "stdout",
       "text": [
        "\n",
        "http://api.geonames.org/search?featureClass=P&type=json&username=jaguillette&west=173.4&south=55.5&north=56.5&east=174.4"
       ]
      },
      {
       "output_type": "stream",
       "stream": "stdout",
       "text": [
        "\n",
        "http://api.geonames.org/search?featureClass=P&type=json&username=jaguillette&west=174.4&south=55.5&north=56.5&east=175.4"
       ]
      },
      {
       "output_type": "stream",
       "stream": "stdout",
       "text": [
        "\n",
        "http://api.geonames.org/search?featureClass=P&type=json&username=jaguillette&west=175.4&south=55.5&north=56.5&east=176.4"
       ]
      },
      {
       "output_type": "stream",
       "stream": "stdout",
       "text": [
        "\n",
        "http://api.geonames.org/search?featureClass=P&type=json&username=jaguillette&west=176.4&south=55.5&north=56.5&east=177.4"
       ]
      },
      {
       "output_type": "stream",
       "stream": "stdout",
       "text": [
        "\n",
        "http://api.geonames.org/search?featureClass=P&type=json&username=jaguillette&west=177.4&south=55.5&north=56.5&east=178.4"
       ]
      },
      {
       "output_type": "stream",
       "stream": "stdout",
       "text": [
        "\n",
        "http://api.geonames.org/search?featureClass=P&type=json&username=jaguillette&west=178.4&south=55.5&north=56.5&east=179.4"
       ]
      },
      {
       "output_type": "stream",
       "stream": "stdout",
       "text": [
        "\n",
        "http://api.geonames.org/search?featureClass=P&type=json&username=jaguillette&west=179.4&south=55.5&north=56.5&east=180"
       ]
      },
      {
       "output_type": "stream",
       "stream": "stdout",
       "text": [
        "\n",
        "http://api.geonames.org/search?featureClass=P&type=json&username=jaguillette&west=91.4&south=56.5&north=57.5&east=92.4"
       ]
      },
      {
       "output_type": "stream",
       "stream": "stdout",
       "text": [
        "\n",
        "http://api.geonames.org/search?featureClass=P&type=json&username=jaguillette&west=92.4&south=56.5&north=57.5&east=93.4"
       ]
      },
      {
       "output_type": "stream",
       "stream": "stdout",
       "text": [
        "\n",
        "http://api.geonames.org/search?featureClass=P&type=json&username=jaguillette&west=93.4&south=56.5&north=57.5&east=94.4"
       ]
      },
      {
       "output_type": "stream",
       "stream": "stdout",
       "text": [
        "\n",
        "http://api.geonames.org/search?featureClass=P&type=json&username=jaguillette&west=94.4&south=56.5&north=57.5&east=95.4"
       ]
      },
      {
       "output_type": "stream",
       "stream": "stdout",
       "text": [
        "\n",
        "http://api.geonames.org/search?featureClass=P&type=json&username=jaguillette&west=95.4&south=56.5&north=57.5&east=96.4"
       ]
      },
      {
       "output_type": "stream",
       "stream": "stdout",
       "text": [
        "\n",
        "http://api.geonames.org/search?featureClass=P&startRow=100&type=json&username=jaguillette&west=95.4&south=56.5&north=57.5&east=96.4"
       ]
      },
      {
       "output_type": "stream",
       "stream": "stdout",
       "text": [
        "\n",
        "http://api.geonames.org/search?featureClass=P&type=json&username=jaguillette&west=96.4&south=56.5&north=57.5&east=97.4"
       ]
      },
      {
       "output_type": "stream",
       "stream": "stdout",
       "text": [
        "\n",
        "http://api.geonames.org/search?featureClass=P&type=json&username=jaguillette&west=97.4&south=56.5&north=57.5&east=98.4"
       ]
      },
      {
       "output_type": "stream",
       "stream": "stdout",
       "text": [
        "\n",
        "http://api.geonames.org/search?featureClass=P&type=json&username=jaguillette&west=98.4&south=56.5&north=57.5&east=99.4"
       ]
      },
      {
       "output_type": "stream",
       "stream": "stdout",
       "text": [
        "\n",
        "http://api.geonames.org/search?featureClass=P&type=json&username=jaguillette&west=99.4&south=56.5&north=57.5&east=100.4"
       ]
      },
      {
       "output_type": "stream",
       "stream": "stdout",
       "text": [
        "\n",
        "http://api.geonames.org/search?featureClass=P&type=json&username=jaguillette&west=100.4&south=56.5&north=57.5&east=101.4"
       ]
      },
      {
       "output_type": "stream",
       "stream": "stdout",
       "text": [
        "\n",
        "http://api.geonames.org/search?featureClass=P&type=json&username=jaguillette&west=101.4&south=56.5&north=57.5&east=102.4"
       ]
      },
      {
       "output_type": "stream",
       "stream": "stdout",
       "text": [
        "\n",
        "http://api.geonames.org/search?featureClass=P&type=json&username=jaguillette&west=102.4&south=56.5&north=57.5&east=103.4"
       ]
      },
      {
       "output_type": "stream",
       "stream": "stdout",
       "text": [
        "\n",
        "http://api.geonames.org/search?featureClass=P&type=json&username=jaguillette&west=103.4&south=56.5&north=57.5&east=104.4"
       ]
      },
      {
       "output_type": "stream",
       "stream": "stdout",
       "text": [
        "\n",
        "http://api.geonames.org/search?featureClass=P&type=json&username=jaguillette&west=104.4&south=56.5&north=57.5&east=105.4"
       ]
      },
      {
       "output_type": "stream",
       "stream": "stdout",
       "text": [
        "\n",
        "http://api.geonames.org/search?featureClass=P&type=json&username=jaguillette&west=105.4&south=56.5&north=57.5&east=106.4"
       ]
      },
      {
       "output_type": "stream",
       "stream": "stdout",
       "text": [
        "\n",
        "http://api.geonames.org/search?featureClass=P&type=json&username=jaguillette&west=106.4&south=56.5&north=57.5&east=107.4"
       ]
      },
      {
       "output_type": "stream",
       "stream": "stdout",
       "text": [
        "\n",
        "http://api.geonames.org/search?featureClass=P&type=json&username=jaguillette&west=107.4&south=56.5&north=57.5&east=108.4"
       ]
      },
      {
       "output_type": "stream",
       "stream": "stdout",
       "text": [
        "\n",
        "http://api.geonames.org/search?featureClass=P&type=json&username=jaguillette&west=108.4&south=56.5&north=57.5&east=109.4"
       ]
      },
      {
       "output_type": "stream",
       "stream": "stdout",
       "text": [
        "\n",
        "http://api.geonames.org/search?featureClass=P&type=json&username=jaguillette&west=109.4&south=56.5&north=57.5&east=110.4"
       ]
      },
      {
       "output_type": "stream",
       "stream": "stdout",
       "text": [
        "\n",
        "http://api.geonames.org/search?featureClass=P&type=json&username=jaguillette&west=110.4&south=56.5&north=57.5&east=111.4"
       ]
      },
      {
       "output_type": "stream",
       "stream": "stdout",
       "text": [
        "\n",
        "http://api.geonames.org/search?featureClass=P&type=json&username=jaguillette&west=111.4&south=56.5&north=57.5&east=112.4"
       ]
      },
      {
       "output_type": "stream",
       "stream": "stdout",
       "text": [
        "\n",
        "http://api.geonames.org/search?featureClass=P&type=json&username=jaguillette&west=112.4&south=56.5&north=57.5&east=113.4"
       ]
      },
      {
       "output_type": "stream",
       "stream": "stdout",
       "text": [
        "\n",
        "http://api.geonames.org/search?featureClass=P&type=json&username=jaguillette&west=113.4&south=56.5&north=57.5&east=114.4"
       ]
      },
      {
       "output_type": "stream",
       "stream": "stdout",
       "text": [
        "\n",
        "http://api.geonames.org/search?featureClass=P&type=json&username=jaguillette&west=114.4&south=56.5&north=57.5&east=115.4"
       ]
      },
      {
       "output_type": "stream",
       "stream": "stdout",
       "text": [
        "\n",
        "http://api.geonames.org/search?featureClass=P&type=json&username=jaguillette&west=115.4&south=56.5&north=57.5&east=116.4"
       ]
      },
      {
       "output_type": "stream",
       "stream": "stdout",
       "text": [
        "\n",
        "http://api.geonames.org/search?featureClass=P&type=json&username=jaguillette&west=116.4&south=56.5&north=57.5&east=117.4"
       ]
      },
      {
       "output_type": "stream",
       "stream": "stdout",
       "text": [
        "\n",
        "http://api.geonames.org/search?featureClass=P&type=json&username=jaguillette&west=117.4&south=56.5&north=57.5&east=118.4"
       ]
      },
      {
       "output_type": "stream",
       "stream": "stdout",
       "text": [
        "\n",
        "http://api.geonames.org/search?featureClass=P&type=json&username=jaguillette&west=118.4&south=56.5&north=57.5&east=119.4"
       ]
      },
      {
       "output_type": "stream",
       "stream": "stdout",
       "text": [
        "\n",
        "http://api.geonames.org/search?featureClass=P&type=json&username=jaguillette&west=119.4&south=56.5&north=57.5&east=120.4"
       ]
      },
      {
       "output_type": "stream",
       "stream": "stdout",
       "text": [
        "\n",
        "http://api.geonames.org/search?featureClass=P&type=json&username=jaguillette&west=120.4&south=56.5&north=57.5&east=121.4"
       ]
      },
      {
       "output_type": "stream",
       "stream": "stdout",
       "text": [
        "\n",
        "http://api.geonames.org/search?featureClass=P&type=json&username=jaguillette&west=121.4&south=56.5&north=57.5&east=122.4"
       ]
      },
      {
       "output_type": "stream",
       "stream": "stdout",
       "text": [
        "\n",
        "http://api.geonames.org/search?featureClass=P&type=json&username=jaguillette&west=122.4&south=56.5&north=57.5&east=123.4"
       ]
      },
      {
       "output_type": "stream",
       "stream": "stdout",
       "text": [
        "\n",
        "http://api.geonames.org/search?featureClass=P&type=json&username=jaguillette&west=123.4&south=56.5&north=57.5&east=124.4"
       ]
      },
      {
       "output_type": "stream",
       "stream": "stdout",
       "text": [
        "\n",
        "http://api.geonames.org/search?featureClass=P&type=json&username=jaguillette&west=124.4&south=56.5&north=57.5&east=125.4"
       ]
      },
      {
       "output_type": "stream",
       "stream": "stdout",
       "text": [
        "\n",
        "http://api.geonames.org/search?featureClass=P&type=json&username=jaguillette&west=125.4&south=56.5&north=57.5&east=126.4"
       ]
      },
      {
       "output_type": "stream",
       "stream": "stdout",
       "text": [
        "\n",
        "http://api.geonames.org/search?featureClass=P&type=json&username=jaguillette&west=126.4&south=56.5&north=57.5&east=127.4"
       ]
      },
      {
       "output_type": "stream",
       "stream": "stdout",
       "text": [
        "\n",
        "http://api.geonames.org/search?featureClass=P&type=json&username=jaguillette&west=127.4&south=56.5&north=57.5&east=128.4"
       ]
      },
      {
       "output_type": "stream",
       "stream": "stdout",
       "text": [
        "\n",
        "http://api.geonames.org/search?featureClass=P&type=json&username=jaguillette&west=128.4&south=56.5&north=57.5&east=129.4"
       ]
      },
      {
       "output_type": "stream",
       "stream": "stdout",
       "text": [
        "\n",
        "http://api.geonames.org/search?featureClass=P&type=json&username=jaguillette&west=129.4&south=56.5&north=57.5&east=130.4"
       ]
      },
      {
       "output_type": "stream",
       "stream": "stdout",
       "text": [
        "\n",
        "http://api.geonames.org/search?featureClass=P&type=json&username=jaguillette&west=130.4&south=56.5&north=57.5&east=131.4"
       ]
      },
      {
       "output_type": "stream",
       "stream": "stdout",
       "text": [
        "\n",
        "http://api.geonames.org/search?featureClass=P&type=json&username=jaguillette&west=131.4&south=56.5&north=57.5&east=132.4"
       ]
      },
      {
       "output_type": "stream",
       "stream": "stdout",
       "text": [
        "\n",
        "http://api.geonames.org/search?featureClass=P&type=json&username=jaguillette&west=132.4&south=56.5&north=57.5&east=133.4"
       ]
      },
      {
       "output_type": "stream",
       "stream": "stdout",
       "text": [
        "\n",
        "http://api.geonames.org/search?featureClass=P&type=json&username=jaguillette&west=133.4&south=56.5&north=57.5&east=134.4"
       ]
      },
      {
       "output_type": "stream",
       "stream": "stdout",
       "text": [
        "\n",
        "http://api.geonames.org/search?featureClass=P&type=json&username=jaguillette&west=134.4&south=56.5&north=57.5&east=135.4"
       ]
      },
      {
       "output_type": "stream",
       "stream": "stdout",
       "text": [
        "\n",
        "http://api.geonames.org/search?featureClass=P&type=json&username=jaguillette&west=135.4&south=56.5&north=57.5&east=136.4"
       ]
      },
      {
       "output_type": "stream",
       "stream": "stdout",
       "text": [
        "\n",
        "http://api.geonames.org/search?featureClass=P&type=json&username=jaguillette&west=136.4&south=56.5&north=57.5&east=137.4"
       ]
      },
      {
       "output_type": "stream",
       "stream": "stdout",
       "text": [
        "\n",
        "http://api.geonames.org/search?featureClass=P&type=json&username=jaguillette&west=137.4&south=56.5&north=57.5&east=138.4"
       ]
      },
      {
       "output_type": "stream",
       "stream": "stdout",
       "text": [
        "\n",
        "http://api.geonames.org/search?featureClass=P&type=json&username=jaguillette&west=138.4&south=56.5&north=57.5&east=139.4"
       ]
      },
      {
       "output_type": "stream",
       "stream": "stdout",
       "text": [
        "\n",
        "http://api.geonames.org/search?featureClass=P&type=json&username=jaguillette&west=139.4&south=56.5&north=57.5&east=140.4"
       ]
      },
      {
       "output_type": "stream",
       "stream": "stdout",
       "text": [
        "\n",
        "http://api.geonames.org/search?featureClass=P&type=json&username=jaguillette&west=140.4&south=56.5&north=57.5&east=141.4"
       ]
      },
      {
       "output_type": "stream",
       "stream": "stdout",
       "text": [
        "\n",
        "http://api.geonames.org/search?featureClass=P&type=json&username=jaguillette&west=141.4&south=56.5&north=57.5&east=142.4"
       ]
      },
      {
       "output_type": "stream",
       "stream": "stdout",
       "text": [
        "\n",
        "http://api.geonames.org/search?featureClass=P&type=json&username=jaguillette&west=142.4&south=56.5&north=57.5&east=143.4"
       ]
      },
      {
       "output_type": "stream",
       "stream": "stdout",
       "text": [
        "\n",
        "http://api.geonames.org/search?featureClass=P&type=json&username=jaguillette&west=143.4&south=56.5&north=57.5&east=144.4"
       ]
      },
      {
       "output_type": "stream",
       "stream": "stdout",
       "text": [
        "\n",
        "http://api.geonames.org/search?featureClass=P&type=json&username=jaguillette&west=144.4&south=56.5&north=57.5&east=145.4"
       ]
      },
      {
       "output_type": "stream",
       "stream": "stdout",
       "text": [
        "\n",
        "http://api.geonames.org/search?featureClass=P&type=json&username=jaguillette&west=145.4&south=56.5&north=57.5&east=146.4"
       ]
      },
      {
       "output_type": "stream",
       "stream": "stdout",
       "text": [
        "\n",
        "http://api.geonames.org/search?featureClass=P&type=json&username=jaguillette&west=146.4&south=56.5&north=57.5&east=147.4"
       ]
      },
      {
       "output_type": "stream",
       "stream": "stdout",
       "text": [
        "\n",
        "http://api.geonames.org/search?featureClass=P&type=json&username=jaguillette&west=147.4&south=56.5&north=57.5&east=148.4"
       ]
      },
      {
       "output_type": "stream",
       "stream": "stdout",
       "text": [
        "\n",
        "http://api.geonames.org/search?featureClass=P&type=json&username=jaguillette&west=148.4&south=56.5&north=57.5&east=149.4"
       ]
      },
      {
       "output_type": "stream",
       "stream": "stdout",
       "text": [
        "\n",
        "http://api.geonames.org/search?featureClass=P&type=json&username=jaguillette&west=149.4&south=56.5&north=57.5&east=150.4"
       ]
      },
      {
       "output_type": "stream",
       "stream": "stdout",
       "text": [
        "\n",
        "http://api.geonames.org/search?featureClass=P&type=json&username=jaguillette&west=150.4&south=56.5&north=57.5&east=151.4"
       ]
      },
      {
       "output_type": "stream",
       "stream": "stdout",
       "text": [
        "\n",
        "http://api.geonames.org/search?featureClass=P&type=json&username=jaguillette&west=151.4&south=56.5&north=57.5&east=152.4"
       ]
      },
      {
       "output_type": "stream",
       "stream": "stdout",
       "text": [
        "\n",
        "http://api.geonames.org/search?featureClass=P&type=json&username=jaguillette&west=152.4&south=56.5&north=57.5&east=153.4"
       ]
      },
      {
       "output_type": "stream",
       "stream": "stdout",
       "text": [
        "\n",
        "http://api.geonames.org/search?featureClass=P&type=json&username=jaguillette&west=153.4&south=56.5&north=57.5&east=154.4"
       ]
      },
      {
       "output_type": "stream",
       "stream": "stdout",
       "text": [
        "\n",
        "http://api.geonames.org/search?featureClass=P&type=json&username=jaguillette&west=154.4&south=56.5&north=57.5&east=155.4"
       ]
      },
      {
       "output_type": "stream",
       "stream": "stdout",
       "text": [
        "\n",
        "http://api.geonames.org/search?featureClass=P&type=json&username=jaguillette&west=155.4&south=56.5&north=57.5&east=156.4"
       ]
      },
      {
       "output_type": "stream",
       "stream": "stdout",
       "text": [
        "\n",
        "http://api.geonames.org/search?featureClass=P&type=json&username=jaguillette&west=156.4&south=56.5&north=57.5&east=157.4"
       ]
      },
      {
       "output_type": "stream",
       "stream": "stdout",
       "text": [
        "\n",
        "http://api.geonames.org/search?featureClass=P&type=json&username=jaguillette&west=157.4&south=56.5&north=57.5&east=158.4"
       ]
      },
      {
       "output_type": "stream",
       "stream": "stdout",
       "text": [
        "\n",
        "http://api.geonames.org/search?featureClass=P&type=json&username=jaguillette&west=158.4&south=56.5&north=57.5&east=159.4"
       ]
      },
      {
       "output_type": "stream",
       "stream": "stdout",
       "text": [
        "\n",
        "http://api.geonames.org/search?featureClass=P&type=json&username=jaguillette&west=159.4&south=56.5&north=57.5&east=160.4"
       ]
      },
      {
       "output_type": "stream",
       "stream": "stdout",
       "text": [
        "\n",
        "http://api.geonames.org/search?featureClass=P&type=json&username=jaguillette&west=160.4&south=56.5&north=57.5&east=161.4"
       ]
      },
      {
       "output_type": "stream",
       "stream": "stdout",
       "text": [
        "\n",
        "http://api.geonames.org/search?featureClass=P&type=json&username=jaguillette&west=161.4&south=56.5&north=57.5&east=162.4"
       ]
      },
      {
       "output_type": "stream",
       "stream": "stdout",
       "text": [
        "\n",
        "http://api.geonames.org/search?featureClass=P&type=json&username=jaguillette&west=162.4&south=56.5&north=57.5&east=163.4"
       ]
      },
      {
       "output_type": "stream",
       "stream": "stdout",
       "text": [
        "\n",
        "http://api.geonames.org/search?featureClass=P&type=json&username=jaguillette&west=163.4&south=56.5&north=57.5&east=164.4"
       ]
      },
      {
       "output_type": "stream",
       "stream": "stdout",
       "text": [
        "\n",
        "http://api.geonames.org/search?featureClass=P&type=json&username=jaguillette&west=164.4&south=56.5&north=57.5&east=165.4"
       ]
      },
      {
       "output_type": "stream",
       "stream": "stdout",
       "text": [
        "\n",
        "http://api.geonames.org/search?featureClass=P&type=json&username=jaguillette&west=165.4&south=56.5&north=57.5&east=166.4"
       ]
      },
      {
       "output_type": "stream",
       "stream": "stdout",
       "text": [
        "\n",
        "http://api.geonames.org/search?featureClass=P&type=json&username=jaguillette&west=166.4&south=56.5&north=57.5&east=167.4"
       ]
      },
      {
       "output_type": "stream",
       "stream": "stdout",
       "text": [
        "\n",
        "http://api.geonames.org/search?featureClass=P&type=json&username=jaguillette&west=167.4&south=56.5&north=57.5&east=168.4"
       ]
      },
      {
       "output_type": "stream",
       "stream": "stdout",
       "text": [
        "\n",
        "http://api.geonames.org/search?featureClass=P&type=json&username=jaguillette&west=168.4&south=56.5&north=57.5&east=169.4"
       ]
      },
      {
       "output_type": "stream",
       "stream": "stdout",
       "text": [
        "\n",
        "http://api.geonames.org/search?featureClass=P&type=json&username=jaguillette&west=169.4&south=56.5&north=57.5&east=170.4"
       ]
      },
      {
       "output_type": "stream",
       "stream": "stdout",
       "text": [
        "\n",
        "http://api.geonames.org/search?featureClass=P&type=json&username=jaguillette&west=170.4&south=56.5&north=57.5&east=171.4"
       ]
      },
      {
       "output_type": "stream",
       "stream": "stdout",
       "text": [
        "\n",
        "http://api.geonames.org/search?featureClass=P&type=json&username=jaguillette&west=171.4&south=56.5&north=57.5&east=172.4"
       ]
      },
      {
       "output_type": "stream",
       "stream": "stdout",
       "text": [
        "\n",
        "http://api.geonames.org/search?featureClass=P&type=json&username=jaguillette&west=172.4&south=56.5&north=57.5&east=173.4"
       ]
      },
      {
       "output_type": "stream",
       "stream": "stdout",
       "text": [
        "\n",
        "http://api.geonames.org/search?featureClass=P&type=json&username=jaguillette&west=173.4&south=56.5&north=57.5&east=174.4"
       ]
      },
      {
       "output_type": "stream",
       "stream": "stdout",
       "text": [
        "\n",
        "http://api.geonames.org/search?featureClass=P&type=json&username=jaguillette&west=174.4&south=56.5&north=57.5&east=175.4"
       ]
      },
      {
       "output_type": "stream",
       "stream": "stdout",
       "text": [
        "\n",
        "http://api.geonames.org/search?featureClass=P&type=json&username=jaguillette&west=175.4&south=56.5&north=57.5&east=176.4"
       ]
      },
      {
       "output_type": "stream",
       "stream": "stdout",
       "text": [
        "\n",
        "http://api.geonames.org/search?featureClass=P&type=json&username=jaguillette&west=176.4&south=56.5&north=57.5&east=177.4"
       ]
      },
      {
       "output_type": "stream",
       "stream": "stdout",
       "text": [
        "\n",
        "http://api.geonames.org/search?featureClass=P&type=json&username=jaguillette&west=177.4&south=56.5&north=57.5&east=178.4"
       ]
      },
      {
       "output_type": "stream",
       "stream": "stdout",
       "text": [
        "\n",
        "http://api.geonames.org/search?featureClass=P&type=json&username=jaguillette&west=178.4&south=56.5&north=57.5&east=179.4"
       ]
      },
      {
       "output_type": "stream",
       "stream": "stdout",
       "text": [
        "\n",
        "http://api.geonames.org/search?featureClass=P&type=json&username=jaguillette&west=179.4&south=56.5&north=57.5&east=180"
       ]
      },
      {
       "output_type": "stream",
       "stream": "stdout",
       "text": [
        "\n",
        "http://api.geonames.org/search?featureClass=P&type=json&username=jaguillette&west=91.4&south=57.5&north=58.5&east=92.4"
       ]
      },
      {
       "output_type": "stream",
       "stream": "stdout",
       "text": [
        "\n",
        "http://api.geonames.org/search?featureClass=P&type=json&username=jaguillette&west=92.4&south=57.5&north=58.5&east=93.4"
       ]
      },
      {
       "output_type": "stream",
       "stream": "stdout",
       "text": [
        "\n",
        "http://api.geonames.org/search?featureClass=P&type=json&username=jaguillette&west=93.4&south=57.5&north=58.5&east=94.4"
       ]
      },
      {
       "output_type": "stream",
       "stream": "stdout",
       "text": [
        "\n",
        "http://api.geonames.org/search?featureClass=P&type=json&username=jaguillette&west=94.4&south=57.5&north=58.5&east=95.4"
       ]
      },
      {
       "output_type": "stream",
       "stream": "stdout",
       "text": [
        "\n",
        "http://api.geonames.org/search?featureClass=P&type=json&username=jaguillette&west=95.4&south=57.5&north=58.5&east=96.4"
       ]
      },
      {
       "output_type": "stream",
       "stream": "stdout",
       "text": [
        "\n",
        "http://api.geonames.org/search?featureClass=P&type=json&username=jaguillette&west=96.4&south=57.5&north=58.5&east=97.4"
       ]
      },
      {
       "output_type": "stream",
       "stream": "stdout",
       "text": [
        "\n",
        "http://api.geonames.org/search?featureClass=P&type=json&username=jaguillette&west=97.4&south=57.5&north=58.5&east=98.4"
       ]
      },
      {
       "output_type": "stream",
       "stream": "stdout",
       "text": [
        "\n",
        "http://api.geonames.org/search?featureClass=P&type=json&username=jaguillette&west=98.4&south=57.5&north=58.5&east=99.4"
       ]
      },
      {
       "output_type": "stream",
       "stream": "stdout",
       "text": [
        "\n",
        "http://api.geonames.org/search?featureClass=P&type=json&username=jaguillette&west=99.4&south=57.5&north=58.5&east=100.4"
       ]
      },
      {
       "output_type": "stream",
       "stream": "stdout",
       "text": [
        "\n",
        "http://api.geonames.org/search?featureClass=P&type=json&username=jaguillette&west=100.4&south=57.5&north=58.5&east=101.4"
       ]
      },
      {
       "output_type": "stream",
       "stream": "stdout",
       "text": [
        "\n",
        "http://api.geonames.org/search?featureClass=P&type=json&username=jaguillette&west=101.4&south=57.5&north=58.5&east=102.4"
       ]
      },
      {
       "output_type": "stream",
       "stream": "stdout",
       "text": [
        "\n",
        "http://api.geonames.org/search?featureClass=P&type=json&username=jaguillette&west=102.4&south=57.5&north=58.5&east=103.4"
       ]
      },
      {
       "output_type": "stream",
       "stream": "stdout",
       "text": [
        "\n",
        "http://api.geonames.org/search?featureClass=P&type=json&username=jaguillette&west=103.4&south=57.5&north=58.5&east=104.4"
       ]
      },
      {
       "output_type": "stream",
       "stream": "stdout",
       "text": [
        "\n",
        "http://api.geonames.org/search?featureClass=P&type=json&username=jaguillette&west=104.4&south=57.5&north=58.5&east=105.4"
       ]
      },
      {
       "output_type": "stream",
       "stream": "stdout",
       "text": [
        "\n",
        "http://api.geonames.org/search?featureClass=P&type=json&username=jaguillette&west=105.4&south=57.5&north=58.5&east=106.4"
       ]
      },
      {
       "output_type": "stream",
       "stream": "stdout",
       "text": [
        "\n",
        "http://api.geonames.org/search?featureClass=P&type=json&username=jaguillette&west=106.4&south=57.5&north=58.5&east=107.4"
       ]
      },
      {
       "output_type": "stream",
       "stream": "stdout",
       "text": [
        "\n",
        "http://api.geonames.org/search?featureClass=P&type=json&username=jaguillette&west=107.4&south=57.5&north=58.5&east=108.4"
       ]
      },
      {
       "output_type": "stream",
       "stream": "stdout",
       "text": [
        "\n",
        "http://api.geonames.org/search?featureClass=P&type=json&username=jaguillette&west=108.4&south=57.5&north=58.5&east=109.4"
       ]
      },
      {
       "output_type": "stream",
       "stream": "stdout",
       "text": [
        "\n",
        "http://api.geonames.org/search?featureClass=P&type=json&username=jaguillette&west=109.4&south=57.5&north=58.5&east=110.4"
       ]
      },
      {
       "output_type": "stream",
       "stream": "stdout",
       "text": [
        "\n",
        "http://api.geonames.org/search?featureClass=P&type=json&username=jaguillette&west=110.4&south=57.5&north=58.5&east=111.4"
       ]
      },
      {
       "output_type": "stream",
       "stream": "stdout",
       "text": [
        "\n",
        "http://api.geonames.org/search?featureClass=P&type=json&username=jaguillette&west=111.4&south=57.5&north=58.5&east=112.4"
       ]
      },
      {
       "output_type": "stream",
       "stream": "stdout",
       "text": [
        "\n",
        "http://api.geonames.org/search?featureClass=P&type=json&username=jaguillette&west=112.4&south=57.5&north=58.5&east=113.4"
       ]
      },
      {
       "output_type": "stream",
       "stream": "stdout",
       "text": [
        "\n",
        "http://api.geonames.org/search?featureClass=P&type=json&username=jaguillette&west=113.4&south=57.5&north=58.5&east=114.4"
       ]
      },
      {
       "output_type": "stream",
       "stream": "stdout",
       "text": [
        "\n",
        "http://api.geonames.org/search?featureClass=P&type=json&username=jaguillette&west=114.4&south=57.5&north=58.5&east=115.4"
       ]
      },
      {
       "output_type": "stream",
       "stream": "stdout",
       "text": [
        "\n",
        "http://api.geonames.org/search?featureClass=P&type=json&username=jaguillette&west=115.4&south=57.5&north=58.5&east=116.4"
       ]
      },
      {
       "output_type": "stream",
       "stream": "stdout",
       "text": [
        "\n",
        "http://api.geonames.org/search?featureClass=P&type=json&username=jaguillette&west=116.4&south=57.5&north=58.5&east=117.4"
       ]
      },
      {
       "output_type": "stream",
       "stream": "stdout",
       "text": [
        "\n",
        "http://api.geonames.org/search?featureClass=P&type=json&username=jaguillette&west=117.4&south=57.5&north=58.5&east=118.4"
       ]
      },
      {
       "output_type": "stream",
       "stream": "stdout",
       "text": [
        "\n",
        "http://api.geonames.org/search?featureClass=P&type=json&username=jaguillette&west=118.4&south=57.5&north=58.5&east=119.4"
       ]
      },
      {
       "output_type": "stream",
       "stream": "stdout",
       "text": [
        "\n",
        "http://api.geonames.org/search?featureClass=P&type=json&username=jaguillette&west=119.4&south=57.5&north=58.5&east=120.4"
       ]
      },
      {
       "output_type": "stream",
       "stream": "stdout",
       "text": [
        "\n",
        "http://api.geonames.org/search?featureClass=P&type=json&username=jaguillette&west=120.4&south=57.5&north=58.5&east=121.4"
       ]
      },
      {
       "output_type": "stream",
       "stream": "stdout",
       "text": [
        "\n",
        "http://api.geonames.org/search?featureClass=P&type=json&username=jaguillette&west=121.4&south=57.5&north=58.5&east=122.4"
       ]
      },
      {
       "output_type": "stream",
       "stream": "stdout",
       "text": [
        "\n",
        "http://api.geonames.org/search?featureClass=P&type=json&username=jaguillette&west=122.4&south=57.5&north=58.5&east=123.4"
       ]
      },
      {
       "output_type": "stream",
       "stream": "stdout",
       "text": [
        "\n",
        "http://api.geonames.org/search?featureClass=P&type=json&username=jaguillette&west=123.4&south=57.5&north=58.5&east=124.4"
       ]
      },
      {
       "output_type": "stream",
       "stream": "stdout",
       "text": [
        "\n",
        "http://api.geonames.org/search?featureClass=P&type=json&username=jaguillette&west=124.4&south=57.5&north=58.5&east=125.4"
       ]
      },
      {
       "output_type": "stream",
       "stream": "stdout",
       "text": [
        "\n",
        "http://api.geonames.org/search?featureClass=P&type=json&username=jaguillette&west=125.4&south=57.5&north=58.5&east=126.4"
       ]
      },
      {
       "output_type": "stream",
       "stream": "stdout",
       "text": [
        "\n",
        "http://api.geonames.org/search?featureClass=P&type=json&username=jaguillette&west=126.4&south=57.5&north=58.5&east=127.4"
       ]
      },
      {
       "output_type": "stream",
       "stream": "stdout",
       "text": [
        "\n",
        "http://api.geonames.org/search?featureClass=P&type=json&username=jaguillette&west=127.4&south=57.5&north=58.5&east=128.4"
       ]
      },
      {
       "output_type": "stream",
       "stream": "stdout",
       "text": [
        "\n",
        "http://api.geonames.org/search?featureClass=P&type=json&username=jaguillette&west=128.4&south=57.5&north=58.5&east=129.4"
       ]
      },
      {
       "output_type": "stream",
       "stream": "stdout",
       "text": [
        "\n",
        "http://api.geonames.org/search?featureClass=P&type=json&username=jaguillette&west=129.4&south=57.5&north=58.5&east=130.4"
       ]
      },
      {
       "output_type": "stream",
       "stream": "stdout",
       "text": [
        "\n",
        "http://api.geonames.org/search?featureClass=P&type=json&username=jaguillette&west=130.4&south=57.5&north=58.5&east=131.4"
       ]
      },
      {
       "output_type": "stream",
       "stream": "stdout",
       "text": [
        "\n",
        "http://api.geonames.org/search?featureClass=P&type=json&username=jaguillette&west=131.4&south=57.5&north=58.5&east=132.4"
       ]
      },
      {
       "output_type": "stream",
       "stream": "stdout",
       "text": [
        "\n",
        "http://api.geonames.org/search?featureClass=P&type=json&username=jaguillette&west=132.4&south=57.5&north=58.5&east=133.4"
       ]
      },
      {
       "output_type": "stream",
       "stream": "stdout",
       "text": [
        "\n",
        "http://api.geonames.org/search?featureClass=P&type=json&username=jaguillette&west=133.4&south=57.5&north=58.5&east=134.4"
       ]
      },
      {
       "output_type": "stream",
       "stream": "stdout",
       "text": [
        "\n",
        "http://api.geonames.org/search?featureClass=P&type=json&username=jaguillette&west=134.4&south=57.5&north=58.5&east=135.4"
       ]
      },
      {
       "output_type": "stream",
       "stream": "stdout",
       "text": [
        "\n",
        "http://api.geonames.org/search?featureClass=P&type=json&username=jaguillette&west=135.4&south=57.5&north=58.5&east=136.4"
       ]
      },
      {
       "output_type": "stream",
       "stream": "stdout",
       "text": [
        "\n",
        "http://api.geonames.org/search?featureClass=P&type=json&username=jaguillette&west=136.4&south=57.5&north=58.5&east=137.4"
       ]
      },
      {
       "output_type": "stream",
       "stream": "stdout",
       "text": [
        "\n",
        "http://api.geonames.org/search?featureClass=P&type=json&username=jaguillette&west=137.4&south=57.5&north=58.5&east=138.4"
       ]
      },
      {
       "output_type": "stream",
       "stream": "stdout",
       "text": [
        "\n",
        "http://api.geonames.org/search?featureClass=P&type=json&username=jaguillette&west=138.4&south=57.5&north=58.5&east=139.4"
       ]
      },
      {
       "output_type": "stream",
       "stream": "stdout",
       "text": [
        "\n",
        "http://api.geonames.org/search?featureClass=P&type=json&username=jaguillette&west=139.4&south=57.5&north=58.5&east=140.4"
       ]
      },
      {
       "output_type": "stream",
       "stream": "stdout",
       "text": [
        "\n",
        "http://api.geonames.org/search?featureClass=P&type=json&username=jaguillette&west=140.4&south=57.5&north=58.5&east=141.4"
       ]
      },
      {
       "output_type": "stream",
       "stream": "stdout",
       "text": [
        "\n",
        "http://api.geonames.org/search?featureClass=P&type=json&username=jaguillette&west=141.4&south=57.5&north=58.5&east=142.4"
       ]
      },
      {
       "output_type": "stream",
       "stream": "stdout",
       "text": [
        "\n",
        "http://api.geonames.org/search?featureClass=P&type=json&username=jaguillette&west=142.4&south=57.5&north=58.5&east=143.4"
       ]
      },
      {
       "output_type": "stream",
       "stream": "stdout",
       "text": [
        "\n",
        "http://api.geonames.org/search?featureClass=P&type=json&username=jaguillette&west=143.4&south=57.5&north=58.5&east=144.4"
       ]
      },
      {
       "output_type": "stream",
       "stream": "stdout",
       "text": [
        "\n",
        "http://api.geonames.org/search?featureClass=P&type=json&username=jaguillette&west=144.4&south=57.5&north=58.5&east=145.4"
       ]
      },
      {
       "output_type": "stream",
       "stream": "stdout",
       "text": [
        "\n",
        "http://api.geonames.org/search?featureClass=P&type=json&username=jaguillette&west=145.4&south=57.5&north=58.5&east=146.4"
       ]
      },
      {
       "output_type": "stream",
       "stream": "stdout",
       "text": [
        "\n",
        "http://api.geonames.org/search?featureClass=P&type=json&username=jaguillette&west=146.4&south=57.5&north=58.5&east=147.4"
       ]
      },
      {
       "output_type": "stream",
       "stream": "stdout",
       "text": [
        "\n",
        "http://api.geonames.org/search?featureClass=P&type=json&username=jaguillette&west=147.4&south=57.5&north=58.5&east=148.4"
       ]
      },
      {
       "output_type": "stream",
       "stream": "stdout",
       "text": [
        "\n",
        "http://api.geonames.org/search?featureClass=P&type=json&username=jaguillette&west=148.4&south=57.5&north=58.5&east=149.4"
       ]
      },
      {
       "output_type": "stream",
       "stream": "stdout",
       "text": [
        "\n",
        "http://api.geonames.org/search?featureClass=P&type=json&username=jaguillette&west=149.4&south=57.5&north=58.5&east=150.4"
       ]
      },
      {
       "output_type": "stream",
       "stream": "stdout",
       "text": [
        "\n",
        "http://api.geonames.org/search?featureClass=P&type=json&username=jaguillette&west=150.4&south=57.5&north=58.5&east=151.4"
       ]
      },
      {
       "output_type": "stream",
       "stream": "stdout",
       "text": [
        "\n",
        "http://api.geonames.org/search?featureClass=P&type=json&username=jaguillette&west=151.4&south=57.5&north=58.5&east=152.4"
       ]
      },
      {
       "output_type": "stream",
       "stream": "stdout",
       "text": [
        "\n",
        "http://api.geonames.org/search?featureClass=P&type=json&username=jaguillette&west=152.4&south=57.5&north=58.5&east=153.4"
       ]
      },
      {
       "output_type": "stream",
       "stream": "stdout",
       "text": [
        "\n",
        "http://api.geonames.org/search?featureClass=P&type=json&username=jaguillette&west=153.4&south=57.5&north=58.5&east=154.4"
       ]
      },
      {
       "output_type": "stream",
       "stream": "stdout",
       "text": [
        "\n",
        "http://api.geonames.org/search?featureClass=P&type=json&username=jaguillette&west=154.4&south=57.5&north=58.5&east=155.4"
       ]
      },
      {
       "output_type": "stream",
       "stream": "stdout",
       "text": [
        "\n",
        "http://api.geonames.org/search?featureClass=P&type=json&username=jaguillette&west=155.4&south=57.5&north=58.5&east=156.4"
       ]
      },
      {
       "output_type": "stream",
       "stream": "stdout",
       "text": [
        "\n",
        "http://api.geonames.org/search?featureClass=P&type=json&username=jaguillette&west=156.4&south=57.5&north=58.5&east=157.4"
       ]
      },
      {
       "output_type": "stream",
       "stream": "stdout",
       "text": [
        "\n",
        "http://api.geonames.org/search?featureClass=P&type=json&username=jaguillette&west=157.4&south=57.5&north=58.5&east=158.4"
       ]
      },
      {
       "output_type": "stream",
       "stream": "stdout",
       "text": [
        "\n",
        "http://api.geonames.org/search?featureClass=P&type=json&username=jaguillette&west=158.4&south=57.5&north=58.5&east=159.4"
       ]
      },
      {
       "output_type": "stream",
       "stream": "stdout",
       "text": [
        "\n",
        "http://api.geonames.org/search?featureClass=P&type=json&username=jaguillette&west=159.4&south=57.5&north=58.5&east=160.4"
       ]
      },
      {
       "output_type": "stream",
       "stream": "stdout",
       "text": [
        "\n",
        "http://api.geonames.org/search?featureClass=P&type=json&username=jaguillette&west=160.4&south=57.5&north=58.5&east=161.4"
       ]
      },
      {
       "output_type": "stream",
       "stream": "stdout",
       "text": [
        "\n",
        "http://api.geonames.org/search?featureClass=P&type=json&username=jaguillette&west=161.4&south=57.5&north=58.5&east=162.4"
       ]
      },
      {
       "output_type": "stream",
       "stream": "stdout",
       "text": [
        "\n",
        "http://api.geonames.org/search?featureClass=P&type=json&username=jaguillette&west=162.4&south=57.5&north=58.5&east=163.4"
       ]
      },
      {
       "output_type": "stream",
       "stream": "stdout",
       "text": [
        "\n",
        "http://api.geonames.org/search?featureClass=P&type=json&username=jaguillette&west=163.4&south=57.5&north=58.5&east=164.4"
       ]
      },
      {
       "output_type": "stream",
       "stream": "stdout",
       "text": [
        "\n",
        "http://api.geonames.org/search?featureClass=P&type=json&username=jaguillette&west=164.4&south=57.5&north=58.5&east=165.4"
       ]
      },
      {
       "output_type": "stream",
       "stream": "stdout",
       "text": [
        "\n",
        "http://api.geonames.org/search?featureClass=P&type=json&username=jaguillette&west=165.4&south=57.5&north=58.5&east=166.4"
       ]
      },
      {
       "output_type": "stream",
       "stream": "stdout",
       "text": [
        "\n",
        "http://api.geonames.org/search?featureClass=P&type=json&username=jaguillette&west=166.4&south=57.5&north=58.5&east=167.4"
       ]
      },
      {
       "output_type": "stream",
       "stream": "stdout",
       "text": [
        "\n",
        "http://api.geonames.org/search?featureClass=P&type=json&username=jaguillette&west=167.4&south=57.5&north=58.5&east=168.4"
       ]
      },
      {
       "output_type": "stream",
       "stream": "stdout",
       "text": [
        "\n",
        "http://api.geonames.org/search?featureClass=P&type=json&username=jaguillette&west=168.4&south=57.5&north=58.5&east=169.4"
       ]
      },
      {
       "output_type": "stream",
       "stream": "stdout",
       "text": [
        "\n",
        "http://api.geonames.org/search?featureClass=P&type=json&username=jaguillette&west=169.4&south=57.5&north=58.5&east=170.4"
       ]
      },
      {
       "output_type": "stream",
       "stream": "stdout",
       "text": [
        "\n",
        "http://api.geonames.org/search?featureClass=P&type=json&username=jaguillette&west=170.4&south=57.5&north=58.5&east=171.4"
       ]
      },
      {
       "output_type": "stream",
       "stream": "stdout",
       "text": [
        "\n",
        "http://api.geonames.org/search?featureClass=P&type=json&username=jaguillette&west=171.4&south=57.5&north=58.5&east=172.4"
       ]
      },
      {
       "output_type": "stream",
       "stream": "stdout",
       "text": [
        "\n",
        "http://api.geonames.org/search?featureClass=P&type=json&username=jaguillette&west=172.4&south=57.5&north=58.5&east=173.4"
       ]
      },
      {
       "output_type": "stream",
       "stream": "stdout",
       "text": [
        "\n",
        "http://api.geonames.org/search?featureClass=P&type=json&username=jaguillette&west=173.4&south=57.5&north=58.5&east=174.4"
       ]
      },
      {
       "output_type": "stream",
       "stream": "stdout",
       "text": [
        "\n",
        "http://api.geonames.org/search?featureClass=P&type=json&username=jaguillette&west=174.4&south=57.5&north=58.5&east=175.4"
       ]
      },
      {
       "output_type": "stream",
       "stream": "stdout",
       "text": [
        "\n",
        "http://api.geonames.org/search?featureClass=P&type=json&username=jaguillette&west=175.4&south=57.5&north=58.5&east=176.4"
       ]
      },
      {
       "output_type": "stream",
       "stream": "stdout",
       "text": [
        "\n",
        "http://api.geonames.org/search?featureClass=P&type=json&username=jaguillette&west=176.4&south=57.5&north=58.5&east=177.4"
       ]
      },
      {
       "output_type": "stream",
       "stream": "stdout",
       "text": [
        "\n",
        "http://api.geonames.org/search?featureClass=P&type=json&username=jaguillette&west=177.4&south=57.5&north=58.5&east=178.4"
       ]
      },
      {
       "output_type": "stream",
       "stream": "stdout",
       "text": [
        "\n",
        "http://api.geonames.org/search?featureClass=P&type=json&username=jaguillette&west=178.4&south=57.5&north=58.5&east=179.4"
       ]
      },
      {
       "output_type": "stream",
       "stream": "stdout",
       "text": [
        "\n",
        "http://api.geonames.org/search?featureClass=P&type=json&username=jaguillette&west=179.4&south=57.5&north=58.5&east=180"
       ]
      },
      {
       "output_type": "stream",
       "stream": "stdout",
       "text": [
        "\n",
        "http://api.geonames.org/search?featureClass=P&type=json&username=jaguillette&west=91.4&south=58.5&north=59.5&east=92.4"
       ]
      },
      {
       "output_type": "stream",
       "stream": "stdout",
       "text": [
        "\n",
        "http://api.geonames.org/search?featureClass=P&type=json&username=jaguillette&west=92.4&south=58.5&north=59.5&east=93.4"
       ]
      },
      {
       "output_type": "stream",
       "stream": "stdout",
       "text": [
        "\n",
        "http://api.geonames.org/search?featureClass=P&type=json&username=jaguillette&west=93.4&south=58.5&north=59.5&east=94.4"
       ]
      },
      {
       "output_type": "stream",
       "stream": "stdout",
       "text": [
        "\n",
        "http://api.geonames.org/search?featureClass=P&type=json&username=jaguillette&west=94.4&south=58.5&north=59.5&east=95.4"
       ]
      },
      {
       "output_type": "stream",
       "stream": "stdout",
       "text": [
        "\n",
        "http://api.geonames.org/search?featureClass=P&type=json&username=jaguillette&west=95.4&south=58.5&north=59.5&east=96.4"
       ]
      },
      {
       "output_type": "stream",
       "stream": "stdout",
       "text": [
        "\n",
        "http://api.geonames.org/search?featureClass=P&type=json&username=jaguillette&west=96.4&south=58.5&north=59.5&east=97.4"
       ]
      },
      {
       "output_type": "stream",
       "stream": "stdout",
       "text": [
        "\n",
        "http://api.geonames.org/search?featureClass=P&type=json&username=jaguillette&west=97.4&south=58.5&north=59.5&east=98.4"
       ]
      },
      {
       "output_type": "stream",
       "stream": "stdout",
       "text": [
        "\n",
        "http://api.geonames.org/search?featureClass=P&type=json&username=jaguillette&west=98.4&south=58.5&north=59.5&east=99.4"
       ]
      },
      {
       "output_type": "stream",
       "stream": "stdout",
       "text": [
        "\n",
        "http://api.geonames.org/search?featureClass=P&type=json&username=jaguillette&west=99.4&south=58.5&north=59.5&east=100.4"
       ]
      },
      {
       "output_type": "stream",
       "stream": "stdout",
       "text": [
        "\n",
        "http://api.geonames.org/search?featureClass=P&type=json&username=jaguillette&west=100.4&south=58.5&north=59.5&east=101.4"
       ]
      },
      {
       "output_type": "stream",
       "stream": "stdout",
       "text": [
        "\n",
        "http://api.geonames.org/search?featureClass=P&type=json&username=jaguillette&west=101.4&south=58.5&north=59.5&east=102.4"
       ]
      },
      {
       "output_type": "stream",
       "stream": "stdout",
       "text": [
        "\n",
        "http://api.geonames.org/search?featureClass=P&type=json&username=jaguillette&west=102.4&south=58.5&north=59.5&east=103.4"
       ]
      },
      {
       "output_type": "stream",
       "stream": "stdout",
       "text": [
        "\n",
        "http://api.geonames.org/search?featureClass=P&type=json&username=jaguillette&west=103.4&south=58.5&north=59.5&east=104.4"
       ]
      },
      {
       "output_type": "stream",
       "stream": "stdout",
       "text": [
        "\n",
        "http://api.geonames.org/search?featureClass=P&type=json&username=jaguillette&west=104.4&south=58.5&north=59.5&east=105.4"
       ]
      },
      {
       "output_type": "stream",
       "stream": "stdout",
       "text": [
        "\n",
        "http://api.geonames.org/search?featureClass=P&type=json&username=jaguillette&west=105.4&south=58.5&north=59.5&east=106.4"
       ]
      },
      {
       "output_type": "stream",
       "stream": "stdout",
       "text": [
        "\n",
        "http://api.geonames.org/search?featureClass=P&type=json&username=jaguillette&west=106.4&south=58.5&north=59.5&east=107.4"
       ]
      },
      {
       "output_type": "stream",
       "stream": "stdout",
       "text": [
        "\n",
        "http://api.geonames.org/search?featureClass=P&type=json&username=jaguillette&west=107.4&south=58.5&north=59.5&east=108.4"
       ]
      },
      {
       "output_type": "stream",
       "stream": "stdout",
       "text": [
        "\n",
        "http://api.geonames.org/search?featureClass=P&type=json&username=jaguillette&west=108.4&south=58.5&north=59.5&east=109.4"
       ]
      },
      {
       "output_type": "stream",
       "stream": "stdout",
       "text": [
        "\n",
        "http://api.geonames.org/search?featureClass=P&type=json&username=jaguillette&west=109.4&south=58.5&north=59.5&east=110.4"
       ]
      },
      {
       "output_type": "stream",
       "stream": "stdout",
       "text": [
        "\n",
        "http://api.geonames.org/search?featureClass=P&type=json&username=jaguillette&west=110.4&south=58.5&north=59.5&east=111.4"
       ]
      },
      {
       "output_type": "stream",
       "stream": "stdout",
       "text": [
        "\n",
        "http://api.geonames.org/search?featureClass=P&type=json&username=jaguillette&west=111.4&south=58.5&north=59.5&east=112.4"
       ]
      },
      {
       "output_type": "stream",
       "stream": "stdout",
       "text": [
        "\n",
        "http://api.geonames.org/search?featureClass=P&type=json&username=jaguillette&west=112.4&south=58.5&north=59.5&east=113.4"
       ]
      },
      {
       "output_type": "stream",
       "stream": "stdout",
       "text": [
        "\n",
        "http://api.geonames.org/search?featureClass=P&type=json&username=jaguillette&west=113.4&south=58.5&north=59.5&east=114.4"
       ]
      },
      {
       "output_type": "stream",
       "stream": "stdout",
       "text": [
        "\n",
        "http://api.geonames.org/search?featureClass=P&type=json&username=jaguillette&west=114.4&south=58.5&north=59.5&east=115.4"
       ]
      },
      {
       "output_type": "stream",
       "stream": "stdout",
       "text": [
        "\n",
        "http://api.geonames.org/search?featureClass=P&type=json&username=jaguillette&west=115.4&south=58.5&north=59.5&east=116.4"
       ]
      },
      {
       "output_type": "stream",
       "stream": "stdout",
       "text": [
        "\n",
        "http://api.geonames.org/search?featureClass=P&type=json&username=jaguillette&west=116.4&south=58.5&north=59.5&east=117.4"
       ]
      },
      {
       "output_type": "stream",
       "stream": "stdout",
       "text": [
        "\n",
        "http://api.geonames.org/search?featureClass=P&type=json&username=jaguillette&west=117.4&south=58.5&north=59.5&east=118.4"
       ]
      },
      {
       "output_type": "stream",
       "stream": "stdout",
       "text": [
        "\n",
        "http://api.geonames.org/search?featureClass=P&type=json&username=jaguillette&west=118.4&south=58.5&north=59.5&east=119.4"
       ]
      },
      {
       "output_type": "stream",
       "stream": "stdout",
       "text": [
        "\n",
        "http://api.geonames.org/search?featureClass=P&type=json&username=jaguillette&west=119.4&south=58.5&north=59.5&east=120.4"
       ]
      },
      {
       "output_type": "stream",
       "stream": "stdout",
       "text": [
        "\n",
        "http://api.geonames.org/search?featureClass=P&type=json&username=jaguillette&west=120.4&south=58.5&north=59.5&east=121.4"
       ]
      },
      {
       "output_type": "stream",
       "stream": "stdout",
       "text": [
        "\n",
        "http://api.geonames.org/search?featureClass=P&type=json&username=jaguillette&west=121.4&south=58.5&north=59.5&east=122.4"
       ]
      },
      {
       "output_type": "stream",
       "stream": "stdout",
       "text": [
        "\n",
        "http://api.geonames.org/search?featureClass=P&type=json&username=jaguillette&west=122.4&south=58.5&north=59.5&east=123.4"
       ]
      },
      {
       "output_type": "stream",
       "stream": "stdout",
       "text": [
        "\n",
        "http://api.geonames.org/search?featureClass=P&type=json&username=jaguillette&west=123.4&south=58.5&north=59.5&east=124.4"
       ]
      },
      {
       "output_type": "stream",
       "stream": "stdout",
       "text": [
        "\n",
        "http://api.geonames.org/search?featureClass=P&type=json&username=jaguillette&west=124.4&south=58.5&north=59.5&east=125.4"
       ]
      },
      {
       "output_type": "stream",
       "stream": "stdout",
       "text": [
        "\n",
        "http://api.geonames.org/search?featureClass=P&type=json&username=jaguillette&west=125.4&south=58.5&north=59.5&east=126.4"
       ]
      },
      {
       "output_type": "stream",
       "stream": "stdout",
       "text": [
        "\n",
        "http://api.geonames.org/search?featureClass=P&type=json&username=jaguillette&west=126.4&south=58.5&north=59.5&east=127.4"
       ]
      },
      {
       "output_type": "stream",
       "stream": "stdout",
       "text": [
        "\n",
        "http://api.geonames.org/search?featureClass=P&type=json&username=jaguillette&west=127.4&south=58.5&north=59.5&east=128.4"
       ]
      },
      {
       "output_type": "stream",
       "stream": "stdout",
       "text": [
        "\n",
        "http://api.geonames.org/search?featureClass=P&type=json&username=jaguillette&west=128.4&south=58.5&north=59.5&east=129.4"
       ]
      },
      {
       "output_type": "stream",
       "stream": "stdout",
       "text": [
        "\n",
        "http://api.geonames.org/search?featureClass=P&type=json&username=jaguillette&west=129.4&south=58.5&north=59.5&east=130.4"
       ]
      },
      {
       "output_type": "stream",
       "stream": "stdout",
       "text": [
        "\n",
        "http://api.geonames.org/search?featureClass=P&type=json&username=jaguillette&west=130.4&south=58.5&north=59.5&east=131.4"
       ]
      },
      {
       "output_type": "stream",
       "stream": "stdout",
       "text": [
        "\n",
        "http://api.geonames.org/search?featureClass=P&type=json&username=jaguillette&west=131.4&south=58.5&north=59.5&east=132.4"
       ]
      },
      {
       "output_type": "stream",
       "stream": "stdout",
       "text": [
        "\n",
        "http://api.geonames.org/search?featureClass=P&type=json&username=jaguillette&west=132.4&south=58.5&north=59.5&east=133.4"
       ]
      },
      {
       "output_type": "stream",
       "stream": "stdout",
       "text": [
        "\n",
        "http://api.geonames.org/search?featureClass=P&type=json&username=jaguillette&west=133.4&south=58.5&north=59.5&east=134.4"
       ]
      },
      {
       "output_type": "stream",
       "stream": "stdout",
       "text": [
        "\n",
        "http://api.geonames.org/search?featureClass=P&type=json&username=jaguillette&west=134.4&south=58.5&north=59.5&east=135.4"
       ]
      },
      {
       "output_type": "stream",
       "stream": "stdout",
       "text": [
        "\n",
        "http://api.geonames.org/search?featureClass=P&type=json&username=jaguillette&west=135.4&south=58.5&north=59.5&east=136.4"
       ]
      },
      {
       "output_type": "stream",
       "stream": "stdout",
       "text": [
        "\n",
        "http://api.geonames.org/search?featureClass=P&type=json&username=jaguillette&west=136.4&south=58.5&north=59.5&east=137.4"
       ]
      },
      {
       "output_type": "stream",
       "stream": "stdout",
       "text": [
        "\n",
        "http://api.geonames.org/search?featureClass=P&type=json&username=jaguillette&west=137.4&south=58.5&north=59.5&east=138.4"
       ]
      },
      {
       "output_type": "stream",
       "stream": "stdout",
       "text": [
        "\n",
        "http://api.geonames.org/search?featureClass=P&type=json&username=jaguillette&west=138.4&south=58.5&north=59.5&east=139.4"
       ]
      },
      {
       "output_type": "stream",
       "stream": "stdout",
       "text": [
        "\n",
        "http://api.geonames.org/search?featureClass=P&type=json&username=jaguillette&west=139.4&south=58.5&north=59.5&east=140.4"
       ]
      },
      {
       "output_type": "stream",
       "stream": "stdout",
       "text": [
        "\n",
        "http://api.geonames.org/search?featureClass=P&type=json&username=jaguillette&west=140.4&south=58.5&north=59.5&east=141.4"
       ]
      },
      {
       "output_type": "stream",
       "stream": "stdout",
       "text": [
        "\n",
        "http://api.geonames.org/search?featureClass=P&type=json&username=jaguillette&west=141.4&south=58.5&north=59.5&east=142.4"
       ]
      },
      {
       "output_type": "stream",
       "stream": "stdout",
       "text": [
        "\n",
        "http://api.geonames.org/search?featureClass=P&type=json&username=jaguillette&west=142.4&south=58.5&north=59.5&east=143.4"
       ]
      },
      {
       "output_type": "stream",
       "stream": "stdout",
       "text": [
        "\n",
        "http://api.geonames.org/search?featureClass=P&type=json&username=jaguillette&west=143.4&south=58.5&north=59.5&east=144.4"
       ]
      },
      {
       "output_type": "stream",
       "stream": "stdout",
       "text": [
        "\n",
        "http://api.geonames.org/search?featureClass=P&type=json&username=jaguillette&west=144.4&south=58.5&north=59.5&east=145.4"
       ]
      },
      {
       "output_type": "stream",
       "stream": "stdout",
       "text": [
        "\n",
        "http://api.geonames.org/search?featureClass=P&type=json&username=jaguillette&west=145.4&south=58.5&north=59.5&east=146.4"
       ]
      },
      {
       "output_type": "stream",
       "stream": "stdout",
       "text": [
        "\n",
        "http://api.geonames.org/search?featureClass=P&type=json&username=jaguillette&west=146.4&south=58.5&north=59.5&east=147.4"
       ]
      },
      {
       "output_type": "stream",
       "stream": "stdout",
       "text": [
        "\n",
        "http://api.geonames.org/search?featureClass=P&type=json&username=jaguillette&west=147.4&south=58.5&north=59.5&east=148.4"
       ]
      },
      {
       "output_type": "stream",
       "stream": "stdout",
       "text": [
        "\n",
        "http://api.geonames.org/search?featureClass=P&type=json&username=jaguillette&west=148.4&south=58.5&north=59.5&east=149.4"
       ]
      },
      {
       "output_type": "stream",
       "stream": "stdout",
       "text": [
        "\n",
        "http://api.geonames.org/search?featureClass=P&type=json&username=jaguillette&west=149.4&south=58.5&north=59.5&east=150.4"
       ]
      },
      {
       "output_type": "stream",
       "stream": "stdout",
       "text": [
        "\n",
        "http://api.geonames.org/search?featureClass=P&type=json&username=jaguillette&west=150.4&south=58.5&north=59.5&east=151.4"
       ]
      },
      {
       "output_type": "stream",
       "stream": "stdout",
       "text": [
        "\n",
        "http://api.geonames.org/search?featureClass=P&type=json&username=jaguillette&west=151.4&south=58.5&north=59.5&east=152.4"
       ]
      },
      {
       "output_type": "stream",
       "stream": "stdout",
       "text": [
        "\n",
        "http://api.geonames.org/search?featureClass=P&type=json&username=jaguillette&west=152.4&south=58.5&north=59.5&east=153.4"
       ]
      },
      {
       "output_type": "stream",
       "stream": "stdout",
       "text": [
        "\n",
        "http://api.geonames.org/search?featureClass=P&type=json&username=jaguillette&west=153.4&south=58.5&north=59.5&east=154.4"
       ]
      },
      {
       "output_type": "stream",
       "stream": "stdout",
       "text": [
        "\n",
        "http://api.geonames.org/search?featureClass=P&type=json&username=jaguillette&west=154.4&south=58.5&north=59.5&east=155.4"
       ]
      },
      {
       "output_type": "stream",
       "stream": "stdout",
       "text": [
        "\n",
        "http://api.geonames.org/search?featureClass=P&type=json&username=jaguillette&west=155.4&south=58.5&north=59.5&east=156.4"
       ]
      },
      {
       "output_type": "stream",
       "stream": "stdout",
       "text": [
        "\n",
        "http://api.geonames.org/search?featureClass=P&type=json&username=jaguillette&west=156.4&south=58.5&north=59.5&east=157.4"
       ]
      },
      {
       "output_type": "stream",
       "stream": "stdout",
       "text": [
        "\n",
        "http://api.geonames.org/search?featureClass=P&type=json&username=jaguillette&west=157.4&south=58.5&north=59.5&east=158.4"
       ]
      },
      {
       "output_type": "stream",
       "stream": "stdout",
       "text": [
        "\n",
        "http://api.geonames.org/search?featureClass=P&type=json&username=jaguillette&west=158.4&south=58.5&north=59.5&east=159.4"
       ]
      },
      {
       "output_type": "stream",
       "stream": "stdout",
       "text": [
        "\n",
        "http://api.geonames.org/search?featureClass=P&type=json&username=jaguillette&west=159.4&south=58.5&north=59.5&east=160.4"
       ]
      },
      {
       "output_type": "stream",
       "stream": "stdout",
       "text": [
        "\n",
        "http://api.geonames.org/search?featureClass=P&type=json&username=jaguillette&west=160.4&south=58.5&north=59.5&east=161.4"
       ]
      },
      {
       "output_type": "stream",
       "stream": "stdout",
       "text": [
        "\n",
        "http://api.geonames.org/search?featureClass=P&type=json&username=jaguillette&west=161.4&south=58.5&north=59.5&east=162.4"
       ]
      },
      {
       "output_type": "stream",
       "stream": "stdout",
       "text": [
        "\n",
        "http://api.geonames.org/search?featureClass=P&type=json&username=jaguillette&west=162.4&south=58.5&north=59.5&east=163.4"
       ]
      },
      {
       "output_type": "stream",
       "stream": "stdout",
       "text": [
        "\n",
        "http://api.geonames.org/search?featureClass=P&type=json&username=jaguillette&west=163.4&south=58.5&north=59.5&east=164.4"
       ]
      },
      {
       "output_type": "stream",
       "stream": "stdout",
       "text": [
        "\n",
        "http://api.geonames.org/search?featureClass=P&type=json&username=jaguillette&west=164.4&south=58.5&north=59.5&east=165.4"
       ]
      },
      {
       "output_type": "stream",
       "stream": "stdout",
       "text": [
        "\n",
        "http://api.geonames.org/search?featureClass=P&type=json&username=jaguillette&west=165.4&south=58.5&north=59.5&east=166.4"
       ]
      },
      {
       "output_type": "stream",
       "stream": "stdout",
       "text": [
        "\n",
        "http://api.geonames.org/search?featureClass=P&type=json&username=jaguillette&west=166.4&south=58.5&north=59.5&east=167.4"
       ]
      },
      {
       "output_type": "stream",
       "stream": "stdout",
       "text": [
        "\n",
        "http://api.geonames.org/search?featureClass=P&type=json&username=jaguillette&west=167.4&south=58.5&north=59.5&east=168.4"
       ]
      },
      {
       "output_type": "stream",
       "stream": "stdout",
       "text": [
        "\n",
        "http://api.geonames.org/search?featureClass=P&type=json&username=jaguillette&west=168.4&south=58.5&north=59.5&east=169.4"
       ]
      },
      {
       "output_type": "stream",
       "stream": "stdout",
       "text": [
        "\n",
        "http://api.geonames.org/search?featureClass=P&type=json&username=jaguillette&west=169.4&south=58.5&north=59.5&east=170.4"
       ]
      },
      {
       "output_type": "stream",
       "stream": "stdout",
       "text": [
        "\n",
        "http://api.geonames.org/search?featureClass=P&type=json&username=jaguillette&west=170.4&south=58.5&north=59.5&east=171.4"
       ]
      },
      {
       "output_type": "stream",
       "stream": "stdout",
       "text": [
        "\n",
        "http://api.geonames.org/search?featureClass=P&type=json&username=jaguillette&west=171.4&south=58.5&north=59.5&east=172.4"
       ]
      },
      {
       "output_type": "stream",
       "stream": "stdout",
       "text": [
        "\n",
        "http://api.geonames.org/search?featureClass=P&type=json&username=jaguillette&west=172.4&south=58.5&north=59.5&east=173.4"
       ]
      },
      {
       "output_type": "stream",
       "stream": "stdout",
       "text": [
        "\n",
        "http://api.geonames.org/search?featureClass=P&type=json&username=jaguillette&west=173.4&south=58.5&north=59.5&east=174.4"
       ]
      },
      {
       "output_type": "stream",
       "stream": "stdout",
       "text": [
        "\n",
        "http://api.geonames.org/search?featureClass=P&type=json&username=jaguillette&west=174.4&south=58.5&north=59.5&east=175.4"
       ]
      },
      {
       "output_type": "stream",
       "stream": "stdout",
       "text": [
        "\n",
        "http://api.geonames.org/search?featureClass=P&type=json&username=jaguillette&west=175.4&south=58.5&north=59.5&east=176.4"
       ]
      },
      {
       "output_type": "stream",
       "stream": "stdout",
       "text": [
        "\n",
        "http://api.geonames.org/search?featureClass=P&type=json&username=jaguillette&west=176.4&south=58.5&north=59.5&east=177.4"
       ]
      },
      {
       "output_type": "stream",
       "stream": "stdout",
       "text": [
        "\n",
        "http://api.geonames.org/search?featureClass=P&type=json&username=jaguillette&west=177.4&south=58.5&north=59.5&east=178.4"
       ]
      },
      {
       "output_type": "stream",
       "stream": "stdout",
       "text": [
        "\n",
        "http://api.geonames.org/search?featureClass=P&type=json&username=jaguillette&west=178.4&south=58.5&north=59.5&east=179.4"
       ]
      },
      {
       "output_type": "stream",
       "stream": "stdout",
       "text": [
        "\n",
        "http://api.geonames.org/search?featureClass=P&type=json&username=jaguillette&west=179.4&south=58.5&north=59.5&east=180"
       ]
      },
      {
       "output_type": "stream",
       "stream": "stdout",
       "text": [
        "\n",
        "http://api.geonames.org/search?featureClass=P&type=json&username=jaguillette&west=91.4&south=59.5&north=60.5&east=92.4"
       ]
      },
      {
       "output_type": "stream",
       "stream": "stdout",
       "text": [
        "\n",
        "http://api.geonames.org/search?featureClass=P&type=json&username=jaguillette&west=92.4&south=59.5&north=60.5&east=93.4"
       ]
      },
      {
       "output_type": "stream",
       "stream": "stdout",
       "text": [
        "\n",
        "http://api.geonames.org/search?featureClass=P&type=json&username=jaguillette&west=93.4&south=59.5&north=60.5&east=94.4"
       ]
      },
      {
       "output_type": "stream",
       "stream": "stdout",
       "text": [
        "\n",
        "http://api.geonames.org/search?featureClass=P&type=json&username=jaguillette&west=94.4&south=59.5&north=60.5&east=95.4"
       ]
      },
      {
       "output_type": "stream",
       "stream": "stdout",
       "text": [
        "\n",
        "http://api.geonames.org/search?featureClass=P&type=json&username=jaguillette&west=95.4&south=59.5&north=60.5&east=96.4"
       ]
      },
      {
       "output_type": "stream",
       "stream": "stdout",
       "text": [
        "\n",
        "http://api.geonames.org/search?featureClass=P&type=json&username=jaguillette&west=96.4&south=59.5&north=60.5&east=97.4"
       ]
      },
      {
       "output_type": "stream",
       "stream": "stdout",
       "text": [
        "\n",
        "http://api.geonames.org/search?featureClass=P&type=json&username=jaguillette&west=97.4&south=59.5&north=60.5&east=98.4"
       ]
      },
      {
       "output_type": "stream",
       "stream": "stdout",
       "text": [
        "\n",
        "http://api.geonames.org/search?featureClass=P&type=json&username=jaguillette&west=98.4&south=59.5&north=60.5&east=99.4"
       ]
      },
      {
       "output_type": "stream",
       "stream": "stdout",
       "text": [
        "\n",
        "http://api.geonames.org/search?featureClass=P&type=json&username=jaguillette&west=99.4&south=59.5&north=60.5&east=100.4"
       ]
      },
      {
       "output_type": "stream",
       "stream": "stdout",
       "text": [
        "\n",
        "http://api.geonames.org/search?featureClass=P&type=json&username=jaguillette&west=100.4&south=59.5&north=60.5&east=101.4"
       ]
      },
      {
       "output_type": "stream",
       "stream": "stdout",
       "text": [
        "\n",
        "http://api.geonames.org/search?featureClass=P&type=json&username=jaguillette&west=101.4&south=59.5&north=60.5&east=102.4"
       ]
      },
      {
       "output_type": "stream",
       "stream": "stdout",
       "text": [
        "\n",
        "http://api.geonames.org/search?featureClass=P&type=json&username=jaguillette&west=102.4&south=59.5&north=60.5&east=103.4"
       ]
      },
      {
       "output_type": "stream",
       "stream": "stdout",
       "text": [
        "\n",
        "http://api.geonames.org/search?featureClass=P&type=json&username=jaguillette&west=103.4&south=59.5&north=60.5&east=104.4"
       ]
      },
      {
       "output_type": "stream",
       "stream": "stdout",
       "text": [
        "\n",
        "http://api.geonames.org/search?featureClass=P&type=json&username=jaguillette&west=104.4&south=59.5&north=60.5&east=105.4"
       ]
      },
      {
       "output_type": "stream",
       "stream": "stdout",
       "text": [
        "\n",
        "http://api.geonames.org/search?featureClass=P&type=json&username=jaguillette&west=105.4&south=59.5&north=60.5&east=106.4"
       ]
      },
      {
       "output_type": "stream",
       "stream": "stdout",
       "text": [
        "\n",
        "http://api.geonames.org/search?featureClass=P&type=json&username=jaguillette&west=106.4&south=59.5&north=60.5&east=107.4"
       ]
      },
      {
       "output_type": "stream",
       "stream": "stdout",
       "text": [
        "\n",
        "http://api.geonames.org/search?featureClass=P&type=json&username=jaguillette&west=107.4&south=59.5&north=60.5&east=108.4"
       ]
      },
      {
       "output_type": "stream",
       "stream": "stdout",
       "text": [
        "\n",
        "http://api.geonames.org/search?featureClass=P&type=json&username=jaguillette&west=108.4&south=59.5&north=60.5&east=109.4"
       ]
      },
      {
       "output_type": "stream",
       "stream": "stdout",
       "text": [
        "\n",
        "http://api.geonames.org/search?featureClass=P&type=json&username=jaguillette&west=109.4&south=59.5&north=60.5&east=110.4"
       ]
      },
      {
       "output_type": "stream",
       "stream": "stdout",
       "text": [
        "\n",
        "http://api.geonames.org/search?featureClass=P&type=json&username=jaguillette&west=110.4&south=59.5&north=60.5&east=111.4"
       ]
      },
      {
       "output_type": "stream",
       "stream": "stdout",
       "text": [
        "\n",
        "http://api.geonames.org/search?featureClass=P&type=json&username=jaguillette&west=111.4&south=59.5&north=60.5&east=112.4"
       ]
      },
      {
       "output_type": "stream",
       "stream": "stdout",
       "text": [
        "\n",
        "http://api.geonames.org/search?featureClass=P&type=json&username=jaguillette&west=112.4&south=59.5&north=60.5&east=113.4"
       ]
      },
      {
       "output_type": "stream",
       "stream": "stdout",
       "text": [
        "\n",
        "http://api.geonames.org/search?featureClass=P&type=json&username=jaguillette&west=113.4&south=59.5&north=60.5&east=114.4"
       ]
      },
      {
       "output_type": "stream",
       "stream": "stdout",
       "text": [
        "\n",
        "http://api.geonames.org/search?featureClass=P&type=json&username=jaguillette&west=114.4&south=59.5&north=60.5&east=115.4"
       ]
      },
      {
       "output_type": "stream",
       "stream": "stdout",
       "text": [
        "\n",
        "http://api.geonames.org/search?featureClass=P&type=json&username=jaguillette&west=115.4&south=59.5&north=60.5&east=116.4"
       ]
      },
      {
       "output_type": "stream",
       "stream": "stdout",
       "text": [
        "\n",
        "http://api.geonames.org/search?featureClass=P&type=json&username=jaguillette&west=116.4&south=59.5&north=60.5&east=117.4"
       ]
      },
      {
       "output_type": "stream",
       "stream": "stdout",
       "text": [
        "\n",
        "http://api.geonames.org/search?featureClass=P&type=json&username=jaguillette&west=117.4&south=59.5&north=60.5&east=118.4"
       ]
      },
      {
       "output_type": "stream",
       "stream": "stdout",
       "text": [
        "\n",
        "http://api.geonames.org/search?featureClass=P&type=json&username=jaguillette&west=118.4&south=59.5&north=60.5&east=119.4"
       ]
      },
      {
       "output_type": "stream",
       "stream": "stdout",
       "text": [
        "\n",
        "http://api.geonames.org/search?featureClass=P&type=json&username=jaguillette&west=119.4&south=59.5&north=60.5&east=120.4"
       ]
      },
      {
       "output_type": "stream",
       "stream": "stdout",
       "text": [
        "\n",
        "http://api.geonames.org/search?featureClass=P&type=json&username=jaguillette&west=120.4&south=59.5&north=60.5&east=121.4"
       ]
      },
      {
       "output_type": "stream",
       "stream": "stdout",
       "text": [
        "\n",
        "http://api.geonames.org/search?featureClass=P&type=json&username=jaguillette&west=121.4&south=59.5&north=60.5&east=122.4"
       ]
      },
      {
       "output_type": "stream",
       "stream": "stdout",
       "text": [
        "\n",
        "http://api.geonames.org/search?featureClass=P&type=json&username=jaguillette&west=122.4&south=59.5&north=60.5&east=123.4"
       ]
      },
      {
       "output_type": "stream",
       "stream": "stdout",
       "text": [
        "\n",
        "http://api.geonames.org/search?featureClass=P&type=json&username=jaguillette&west=123.4&south=59.5&north=60.5&east=124.4"
       ]
      },
      {
       "output_type": "stream",
       "stream": "stdout",
       "text": [
        "\n",
        "http://api.geonames.org/search?featureClass=P&type=json&username=jaguillette&west=124.4&south=59.5&north=60.5&east=125.4"
       ]
      },
      {
       "output_type": "stream",
       "stream": "stdout",
       "text": [
        "\n",
        "http://api.geonames.org/search?featureClass=P&type=json&username=jaguillette&west=125.4&south=59.5&north=60.5&east=126.4"
       ]
      },
      {
       "output_type": "stream",
       "stream": "stdout",
       "text": [
        "\n",
        "http://api.geonames.org/search?featureClass=P&type=json&username=jaguillette&west=126.4&south=59.5&north=60.5&east=127.4"
       ]
      },
      {
       "output_type": "stream",
       "stream": "stdout",
       "text": [
        "\n",
        "http://api.geonames.org/search?featureClass=P&type=json&username=jaguillette&west=127.4&south=59.5&north=60.5&east=128.4"
       ]
      },
      {
       "output_type": "stream",
       "stream": "stdout",
       "text": [
        "\n",
        "http://api.geonames.org/search?featureClass=P&type=json&username=jaguillette&west=128.4&south=59.5&north=60.5&east=129.4"
       ]
      },
      {
       "output_type": "stream",
       "stream": "stdout",
       "text": [
        "\n",
        "http://api.geonames.org/search?featureClass=P&type=json&username=jaguillette&west=129.4&south=59.5&north=60.5&east=130.4"
       ]
      },
      {
       "output_type": "stream",
       "stream": "stdout",
       "text": [
        "\n",
        "http://api.geonames.org/search?featureClass=P&type=json&username=jaguillette&west=130.4&south=59.5&north=60.5&east=131.4"
       ]
      },
      {
       "output_type": "stream",
       "stream": "stdout",
       "text": [
        "\n",
        "http://api.geonames.org/search?featureClass=P&type=json&username=jaguillette&west=131.4&south=59.5&north=60.5&east=132.4"
       ]
      },
      {
       "output_type": "stream",
       "stream": "stdout",
       "text": [
        "\n",
        "http://api.geonames.org/search?featureClass=P&type=json&username=jaguillette&west=132.4&south=59.5&north=60.5&east=133.4"
       ]
      },
      {
       "output_type": "stream",
       "stream": "stdout",
       "text": [
        "\n",
        "http://api.geonames.org/search?featureClass=P&type=json&username=jaguillette&west=133.4&south=59.5&north=60.5&east=134.4"
       ]
      },
      {
       "output_type": "stream",
       "stream": "stdout",
       "text": [
        "\n",
        "http://api.geonames.org/search?featureClass=P&type=json&username=jaguillette&west=134.4&south=59.5&north=60.5&east=135.4"
       ]
      },
      {
       "output_type": "stream",
       "stream": "stdout",
       "text": [
        "\n",
        "http://api.geonames.org/search?featureClass=P&type=json&username=jaguillette&west=135.4&south=59.5&north=60.5&east=136.4"
       ]
      },
      {
       "output_type": "stream",
       "stream": "stdout",
       "text": [
        "\n",
        "http://api.geonames.org/search?featureClass=P&type=json&username=jaguillette&west=136.4&south=59.5&north=60.5&east=137.4"
       ]
      },
      {
       "output_type": "stream",
       "stream": "stdout",
       "text": [
        "\n",
        "http://api.geonames.org/search?featureClass=P&type=json&username=jaguillette&west=137.4&south=59.5&north=60.5&east=138.4"
       ]
      },
      {
       "output_type": "stream",
       "stream": "stdout",
       "text": [
        "\n",
        "http://api.geonames.org/search?featureClass=P&type=json&username=jaguillette&west=138.4&south=59.5&north=60.5&east=139.4"
       ]
      },
      {
       "output_type": "stream",
       "stream": "stdout",
       "text": [
        "\n",
        "http://api.geonames.org/search?featureClass=P&type=json&username=jaguillette&west=139.4&south=59.5&north=60.5&east=140.4"
       ]
      },
      {
       "output_type": "stream",
       "stream": "stdout",
       "text": [
        "\n",
        "http://api.geonames.org/search?featureClass=P&type=json&username=jaguillette&west=140.4&south=59.5&north=60.5&east=141.4"
       ]
      },
      {
       "output_type": "stream",
       "stream": "stdout",
       "text": [
        "\n",
        "http://api.geonames.org/search?featureClass=P&type=json&username=jaguillette&west=141.4&south=59.5&north=60.5&east=142.4"
       ]
      },
      {
       "output_type": "stream",
       "stream": "stdout",
       "text": [
        "\n",
        "http://api.geonames.org/search?featureClass=P&type=json&username=jaguillette&west=142.4&south=59.5&north=60.5&east=143.4"
       ]
      },
      {
       "output_type": "stream",
       "stream": "stdout",
       "text": [
        "\n",
        "http://api.geonames.org/search?featureClass=P&type=json&username=jaguillette&west=143.4&south=59.5&north=60.5&east=144.4"
       ]
      },
      {
       "output_type": "stream",
       "stream": "stdout",
       "text": [
        "\n",
        "http://api.geonames.org/search?featureClass=P&type=json&username=jaguillette&west=144.4&south=59.5&north=60.5&east=145.4"
       ]
      },
      {
       "output_type": "stream",
       "stream": "stdout",
       "text": [
        "\n",
        "http://api.geonames.org/search?featureClass=P&type=json&username=jaguillette&west=145.4&south=59.5&north=60.5&east=146.4"
       ]
      },
      {
       "output_type": "stream",
       "stream": "stdout",
       "text": [
        "\n",
        "http://api.geonames.org/search?featureClass=P&type=json&username=jaguillette&west=146.4&south=59.5&north=60.5&east=147.4"
       ]
      },
      {
       "output_type": "stream",
       "stream": "stdout",
       "text": [
        "\n",
        "http://api.geonames.org/search?featureClass=P&type=json&username=jaguillette&west=147.4&south=59.5&north=60.5&east=148.4"
       ]
      },
      {
       "output_type": "stream",
       "stream": "stdout",
       "text": [
        "\n",
        "http://api.geonames.org/search?featureClass=P&type=json&username=jaguillette&west=148.4&south=59.5&north=60.5&east=149.4"
       ]
      },
      {
       "output_type": "stream",
       "stream": "stdout",
       "text": [
        "\n",
        "http://api.geonames.org/search?featureClass=P&type=json&username=jaguillette&west=149.4&south=59.5&north=60.5&east=150.4"
       ]
      },
      {
       "output_type": "stream",
       "stream": "stdout",
       "text": [
        "\n",
        "http://api.geonames.org/search?featureClass=P&type=json&username=jaguillette&west=150.4&south=59.5&north=60.5&east=151.4"
       ]
      },
      {
       "output_type": "stream",
       "stream": "stdout",
       "text": [
        "\n",
        "http://api.geonames.org/search?featureClass=P&type=json&username=jaguillette&west=151.4&south=59.5&north=60.5&east=152.4"
       ]
      },
      {
       "output_type": "stream",
       "stream": "stdout",
       "text": [
        "\n",
        "http://api.geonames.org/search?featureClass=P&type=json&username=jaguillette&west=152.4&south=59.5&north=60.5&east=153.4"
       ]
      },
      {
       "output_type": "stream",
       "stream": "stdout",
       "text": [
        "\n",
        "http://api.geonames.org/search?featureClass=P&type=json&username=jaguillette&west=153.4&south=59.5&north=60.5&east=154.4"
       ]
      },
      {
       "output_type": "stream",
       "stream": "stdout",
       "text": [
        "\n",
        "http://api.geonames.org/search?featureClass=P&type=json&username=jaguillette&west=154.4&south=59.5&north=60.5&east=155.4"
       ]
      },
      {
       "output_type": "stream",
       "stream": "stdout",
       "text": [
        "\n",
        "http://api.geonames.org/search?featureClass=P&type=json&username=jaguillette&west=155.4&south=59.5&north=60.5&east=156.4"
       ]
      },
      {
       "output_type": "stream",
       "stream": "stdout",
       "text": [
        "\n",
        "http://api.geonames.org/search?featureClass=P&type=json&username=jaguillette&west=156.4&south=59.5&north=60.5&east=157.4"
       ]
      },
      {
       "output_type": "stream",
       "stream": "stdout",
       "text": [
        "\n",
        "http://api.geonames.org/search?featureClass=P&type=json&username=jaguillette&west=157.4&south=59.5&north=60.5&east=158.4"
       ]
      },
      {
       "output_type": "stream",
       "stream": "stdout",
       "text": [
        "\n",
        "http://api.geonames.org/search?featureClass=P&type=json&username=jaguillette&west=158.4&south=59.5&north=60.5&east=159.4"
       ]
      },
      {
       "output_type": "stream",
       "stream": "stdout",
       "text": [
        "\n",
        "http://api.geonames.org/search?featureClass=P&type=json&username=jaguillette&west=159.4&south=59.5&north=60.5&east=160.4"
       ]
      },
      {
       "output_type": "stream",
       "stream": "stdout",
       "text": [
        "\n",
        "http://api.geonames.org/search?featureClass=P&type=json&username=jaguillette&west=160.4&south=59.5&north=60.5&east=161.4"
       ]
      },
      {
       "output_type": "stream",
       "stream": "stdout",
       "text": [
        "\n",
        "http://api.geonames.org/search?featureClass=P&type=json&username=jaguillette&west=161.4&south=59.5&north=60.5&east=162.4"
       ]
      },
      {
       "output_type": "stream",
       "stream": "stdout",
       "text": [
        "\n",
        "http://api.geonames.org/search?featureClass=P&type=json&username=jaguillette&west=162.4&south=59.5&north=60.5&east=163.4"
       ]
      },
      {
       "output_type": "stream",
       "stream": "stdout",
       "text": [
        "\n",
        "http://api.geonames.org/search?featureClass=P&type=json&username=jaguillette&west=163.4&south=59.5&north=60.5&east=164.4"
       ]
      },
      {
       "output_type": "stream",
       "stream": "stdout",
       "text": [
        "\n",
        "http://api.geonames.org/search?featureClass=P&type=json&username=jaguillette&west=164.4&south=59.5&north=60.5&east=165.4"
       ]
      },
      {
       "output_type": "stream",
       "stream": "stdout",
       "text": [
        "\n",
        "http://api.geonames.org/search?featureClass=P&type=json&username=jaguillette&west=165.4&south=59.5&north=60.5&east=166.4"
       ]
      },
      {
       "output_type": "stream",
       "stream": "stdout",
       "text": [
        "\n",
        "http://api.geonames.org/search?featureClass=P&type=json&username=jaguillette&west=166.4&south=59.5&north=60.5&east=167.4"
       ]
      },
      {
       "output_type": "stream",
       "stream": "stdout",
       "text": [
        "\n",
        "http://api.geonames.org/search?featureClass=P&type=json&username=jaguillette&west=167.4&south=59.5&north=60.5&east=168.4"
       ]
      },
      {
       "output_type": "stream",
       "stream": "stdout",
       "text": [
        "\n",
        "http://api.geonames.org/search?featureClass=P&type=json&username=jaguillette&west=168.4&south=59.5&north=60.5&east=169.4"
       ]
      },
      {
       "output_type": "stream",
       "stream": "stdout",
       "text": [
        "\n",
        "http://api.geonames.org/search?featureClass=P&type=json&username=jaguillette&west=169.4&south=59.5&north=60.5&east=170.4"
       ]
      },
      {
       "output_type": "stream",
       "stream": "stdout",
       "text": [
        "\n",
        "http://api.geonames.org/search?featureClass=P&type=json&username=jaguillette&west=170.4&south=59.5&north=60.5&east=171.4"
       ]
      },
      {
       "output_type": "stream",
       "stream": "stdout",
       "text": [
        "\n",
        "http://api.geonames.org/search?featureClass=P&type=json&username=jaguillette&west=171.4&south=59.5&north=60.5&east=172.4"
       ]
      },
      {
       "output_type": "stream",
       "stream": "stdout",
       "text": [
        "\n",
        "http://api.geonames.org/search?featureClass=P&type=json&username=jaguillette&west=172.4&south=59.5&north=60.5&east=173.4"
       ]
      },
      {
       "output_type": "stream",
       "stream": "stdout",
       "text": [
        "\n",
        "http://api.geonames.org/search?featureClass=P&type=json&username=jaguillette&west=173.4&south=59.5&north=60.5&east=174.4"
       ]
      },
      {
       "output_type": "stream",
       "stream": "stdout",
       "text": [
        "\n",
        "http://api.geonames.org/search?featureClass=P&type=json&username=jaguillette&west=174.4&south=59.5&north=60.5&east=175.4"
       ]
      },
      {
       "output_type": "stream",
       "stream": "stdout",
       "text": [
        "\n",
        "http://api.geonames.org/search?featureClass=P&type=json&username=jaguillette&west=175.4&south=59.5&north=60.5&east=176.4"
       ]
      },
      {
       "output_type": "stream",
       "stream": "stdout",
       "text": [
        "\n",
        "http://api.geonames.org/search?featureClass=P&type=json&username=jaguillette&west=176.4&south=59.5&north=60.5&east=177.4"
       ]
      },
      {
       "output_type": "stream",
       "stream": "stdout",
       "text": [
        "\n",
        "http://api.geonames.org/search?featureClass=P&type=json&username=jaguillette&west=177.4&south=59.5&north=60.5&east=178.4"
       ]
      },
      {
       "output_type": "stream",
       "stream": "stdout",
       "text": [
        "\n",
        "http://api.geonames.org/search?featureClass=P&type=json&username=jaguillette&west=178.4&south=59.5&north=60.5&east=179.4"
       ]
      },
      {
       "output_type": "stream",
       "stream": "stdout",
       "text": [
        "\n",
        "http://api.geonames.org/search?featureClass=P&type=json&username=jaguillette&west=179.4&south=59.5&north=60.5&east=180"
       ]
      },
      {
       "output_type": "stream",
       "stream": "stdout",
       "text": [
        "\n",
        "http://api.geonames.org/search?featureClass=P&type=json&username=jaguillette&west=91.4&south=60.5&north=61.5&east=92.4"
       ]
      },
      {
       "output_type": "stream",
       "stream": "stdout",
       "text": [
        "\n",
        "http://api.geonames.org/search?featureClass=P&type=json&username=jaguillette&west=92.4&south=60.5&north=61.5&east=93.4"
       ]
      },
      {
       "output_type": "stream",
       "stream": "stdout",
       "text": [
        "\n",
        "http://api.geonames.org/search?featureClass=P&type=json&username=jaguillette&west=93.4&south=60.5&north=61.5&east=94.4"
       ]
      },
      {
       "output_type": "stream",
       "stream": "stdout",
       "text": [
        "\n",
        "http://api.geonames.org/search?featureClass=P&type=json&username=jaguillette&west=94.4&south=60.5&north=61.5&east=95.4"
       ]
      },
      {
       "output_type": "stream",
       "stream": "stdout",
       "text": [
        "\n",
        "http://api.geonames.org/search?featureClass=P&type=json&username=jaguillette&west=95.4&south=60.5&north=61.5&east=96.4"
       ]
      },
      {
       "output_type": "stream",
       "stream": "stdout",
       "text": [
        "\n",
        "http://api.geonames.org/search?featureClass=P&type=json&username=jaguillette&west=96.4&south=60.5&north=61.5&east=97.4"
       ]
      },
      {
       "output_type": "stream",
       "stream": "stdout",
       "text": [
        "\n",
        "http://api.geonames.org/search?featureClass=P&type=json&username=jaguillette&west=97.4&south=60.5&north=61.5&east=98.4"
       ]
      },
      {
       "output_type": "stream",
       "stream": "stdout",
       "text": [
        "\n",
        "http://api.geonames.org/search?featureClass=P&type=json&username=jaguillette&west=98.4&south=60.5&north=61.5&east=99.4"
       ]
      },
      {
       "output_type": "stream",
       "stream": "stdout",
       "text": [
        "\n",
        "http://api.geonames.org/search?featureClass=P&type=json&username=jaguillette&west=99.4&south=60.5&north=61.5&east=100.4"
       ]
      },
      {
       "output_type": "stream",
       "stream": "stdout",
       "text": [
        "\n",
        "http://api.geonames.org/search?featureClass=P&type=json&username=jaguillette&west=100.4&south=60.5&north=61.5&east=101.4"
       ]
      },
      {
       "output_type": "stream",
       "stream": "stdout",
       "text": [
        "\n",
        "http://api.geonames.org/search?featureClass=P&type=json&username=jaguillette&west=101.4&south=60.5&north=61.5&east=102.4"
       ]
      },
      {
       "output_type": "stream",
       "stream": "stdout",
       "text": [
        "\n",
        "http://api.geonames.org/search?featureClass=P&type=json&username=jaguillette&west=102.4&south=60.5&north=61.5&east=103.4"
       ]
      },
      {
       "output_type": "stream",
       "stream": "stdout",
       "text": [
        "\n",
        "http://api.geonames.org/search?featureClass=P&type=json&username=jaguillette&west=103.4&south=60.5&north=61.5&east=104.4"
       ]
      },
      {
       "output_type": "stream",
       "stream": "stdout",
       "text": [
        "\n",
        "http://api.geonames.org/search?featureClass=P&type=json&username=jaguillette&west=104.4&south=60.5&north=61.5&east=105.4"
       ]
      },
      {
       "output_type": "stream",
       "stream": "stdout",
       "text": [
        "\n",
        "http://api.geonames.org/search?featureClass=P&type=json&username=jaguillette&west=105.4&south=60.5&north=61.5&east=106.4"
       ]
      },
      {
       "output_type": "stream",
       "stream": "stdout",
       "text": [
        "\n",
        "http://api.geonames.org/search?featureClass=P&type=json&username=jaguillette&west=106.4&south=60.5&north=61.5&east=107.4"
       ]
      },
      {
       "output_type": "stream",
       "stream": "stdout",
       "text": [
        "\n",
        "http://api.geonames.org/search?featureClass=P&type=json&username=jaguillette&west=107.4&south=60.5&north=61.5&east=108.4"
       ]
      },
      {
       "output_type": "stream",
       "stream": "stdout",
       "text": [
        "\n",
        "http://api.geonames.org/search?featureClass=P&type=json&username=jaguillette&west=108.4&south=60.5&north=61.5&east=109.4"
       ]
      },
      {
       "output_type": "stream",
       "stream": "stdout",
       "text": [
        "\n",
        "http://api.geonames.org/search?featureClass=P&type=json&username=jaguillette&west=109.4&south=60.5&north=61.5&east=110.4"
       ]
      },
      {
       "output_type": "stream",
       "stream": "stdout",
       "text": [
        "\n",
        "http://api.geonames.org/search?featureClass=P&type=json&username=jaguillette&west=110.4&south=60.5&north=61.5&east=111.4"
       ]
      },
      {
       "output_type": "stream",
       "stream": "stdout",
       "text": [
        "\n",
        "http://api.geonames.org/search?featureClass=P&type=json&username=jaguillette&west=111.4&south=60.5&north=61.5&east=112.4"
       ]
      },
      {
       "output_type": "stream",
       "stream": "stdout",
       "text": [
        "\n",
        "http://api.geonames.org/search?featureClass=P&type=json&username=jaguillette&west=112.4&south=60.5&north=61.5&east=113.4"
       ]
      },
      {
       "output_type": "stream",
       "stream": "stdout",
       "text": [
        "\n",
        "http://api.geonames.org/search?featureClass=P&type=json&username=jaguillette&west=113.4&south=60.5&north=61.5&east=114.4"
       ]
      },
      {
       "output_type": "stream",
       "stream": "stdout",
       "text": [
        "\n",
        "http://api.geonames.org/search?featureClass=P&type=json&username=jaguillette&west=114.4&south=60.5&north=61.5&east=115.4"
       ]
      },
      {
       "output_type": "stream",
       "stream": "stdout",
       "text": [
        "\n",
        "http://api.geonames.org/search?featureClass=P&type=json&username=jaguillette&west=115.4&south=60.5&north=61.5&east=116.4"
       ]
      },
      {
       "output_type": "stream",
       "stream": "stdout",
       "text": [
        "\n",
        "http://api.geonames.org/search?featureClass=P&type=json&username=jaguillette&west=116.4&south=60.5&north=61.5&east=117.4"
       ]
      },
      {
       "output_type": "stream",
       "stream": "stdout",
       "text": [
        "\n",
        "http://api.geonames.org/search?featureClass=P&type=json&username=jaguillette&west=117.4&south=60.5&north=61.5&east=118.4"
       ]
      },
      {
       "output_type": "stream",
       "stream": "stdout",
       "text": [
        "\n",
        "http://api.geonames.org/search?featureClass=P&type=json&username=jaguillette&west=118.4&south=60.5&north=61.5&east=119.4"
       ]
      },
      {
       "output_type": "stream",
       "stream": "stdout",
       "text": [
        "\n",
        "http://api.geonames.org/search?featureClass=P&type=json&username=jaguillette&west=119.4&south=60.5&north=61.5&east=120.4"
       ]
      },
      {
       "output_type": "stream",
       "stream": "stdout",
       "text": [
        "\n",
        "http://api.geonames.org/search?featureClass=P&type=json&username=jaguillette&west=120.4&south=60.5&north=61.5&east=121.4"
       ]
      },
      {
       "output_type": "stream",
       "stream": "stdout",
       "text": [
        "\n",
        "http://api.geonames.org/search?featureClass=P&type=json&username=jaguillette&west=121.4&south=60.5&north=61.5&east=122.4"
       ]
      },
      {
       "output_type": "stream",
       "stream": "stdout",
       "text": [
        "\n",
        "http://api.geonames.org/search?featureClass=P&type=json&username=jaguillette&west=122.4&south=60.5&north=61.5&east=123.4"
       ]
      },
      {
       "output_type": "stream",
       "stream": "stdout",
       "text": [
        "\n",
        "http://api.geonames.org/search?featureClass=P&type=json&username=jaguillette&west=123.4&south=60.5&north=61.5&east=124.4"
       ]
      },
      {
       "output_type": "stream",
       "stream": "stdout",
       "text": [
        "\n",
        "http://api.geonames.org/search?featureClass=P&type=json&username=jaguillette&west=124.4&south=60.5&north=61.5&east=125.4"
       ]
      },
      {
       "output_type": "stream",
       "stream": "stdout",
       "text": [
        "\n",
        "http://api.geonames.org/search?featureClass=P&type=json&username=jaguillette&west=125.4&south=60.5&north=61.5&east=126.4"
       ]
      },
      {
       "output_type": "stream",
       "stream": "stdout",
       "text": [
        "\n",
        "http://api.geonames.org/search?featureClass=P&type=json&username=jaguillette&west=126.4&south=60.5&north=61.5&east=127.4"
       ]
      },
      {
       "output_type": "stream",
       "stream": "stdout",
       "text": [
        "\n",
        "http://api.geonames.org/search?featureClass=P&type=json&username=jaguillette&west=127.4&south=60.5&north=61.5&east=128.4"
       ]
      },
      {
       "output_type": "stream",
       "stream": "stdout",
       "text": [
        "\n",
        "http://api.geonames.org/search?featureClass=P&type=json&username=jaguillette&west=128.4&south=60.5&north=61.5&east=129.4"
       ]
      },
      {
       "output_type": "stream",
       "stream": "stdout",
       "text": [
        "\n",
        "http://api.geonames.org/search?featureClass=P&type=json&username=jaguillette&west=129.4&south=60.5&north=61.5&east=130.4"
       ]
      },
      {
       "output_type": "stream",
       "stream": "stdout",
       "text": [
        "\n",
        "http://api.geonames.org/search?featureClass=P&type=json&username=jaguillette&west=130.4&south=60.5&north=61.5&east=131.4"
       ]
      },
      {
       "output_type": "stream",
       "stream": "stdout",
       "text": [
        "\n",
        "http://api.geonames.org/search?featureClass=P&type=json&username=jaguillette&west=131.4&south=60.5&north=61.5&east=132.4"
       ]
      },
      {
       "output_type": "stream",
       "stream": "stdout",
       "text": [
        "\n",
        "http://api.geonames.org/search?featureClass=P&type=json&username=jaguillette&west=132.4&south=60.5&north=61.5&east=133.4"
       ]
      },
      {
       "output_type": "stream",
       "stream": "stdout",
       "text": [
        "\n",
        "http://api.geonames.org/search?featureClass=P&type=json&username=jaguillette&west=133.4&south=60.5&north=61.5&east=134.4"
       ]
      },
      {
       "output_type": "stream",
       "stream": "stdout",
       "text": [
        "\n",
        "http://api.geonames.org/search?featureClass=P&type=json&username=jaguillette&west=134.4&south=60.5&north=61.5&east=135.4"
       ]
      },
      {
       "output_type": "stream",
       "stream": "stdout",
       "text": [
        "\n",
        "http://api.geonames.org/search?featureClass=P&type=json&username=jaguillette&west=135.4&south=60.5&north=61.5&east=136.4"
       ]
      },
      {
       "output_type": "stream",
       "stream": "stdout",
       "text": [
        "\n",
        "http://api.geonames.org/search?featureClass=P&type=json&username=jaguillette&west=136.4&south=60.5&north=61.5&east=137.4"
       ]
      },
      {
       "output_type": "stream",
       "stream": "stdout",
       "text": [
        "\n",
        "http://api.geonames.org/search?featureClass=P&type=json&username=jaguillette&west=137.4&south=60.5&north=61.5&east=138.4"
       ]
      },
      {
       "output_type": "stream",
       "stream": "stdout",
       "text": [
        "\n",
        "http://api.geonames.org/search?featureClass=P&type=json&username=jaguillette&west=138.4&south=60.5&north=61.5&east=139.4"
       ]
      },
      {
       "output_type": "stream",
       "stream": "stdout",
       "text": [
        "\n",
        "http://api.geonames.org/search?featureClass=P&type=json&username=jaguillette&west=139.4&south=60.5&north=61.5&east=140.4"
       ]
      },
      {
       "output_type": "stream",
       "stream": "stdout",
       "text": [
        "\n",
        "http://api.geonames.org/search?featureClass=P&type=json&username=jaguillette&west=140.4&south=60.5&north=61.5&east=141.4"
       ]
      },
      {
       "output_type": "stream",
       "stream": "stdout",
       "text": [
        "\n",
        "http://api.geonames.org/search?featureClass=P&type=json&username=jaguillette&west=141.4&south=60.5&north=61.5&east=142.4"
       ]
      },
      {
       "output_type": "stream",
       "stream": "stdout",
       "text": [
        "\n",
        "http://api.geonames.org/search?featureClass=P&type=json&username=jaguillette&west=142.4&south=60.5&north=61.5&east=143.4"
       ]
      },
      {
       "output_type": "stream",
       "stream": "stdout",
       "text": [
        "\n",
        "http://api.geonames.org/search?featureClass=P&type=json&username=jaguillette&west=143.4&south=60.5&north=61.5&east=144.4"
       ]
      },
      {
       "output_type": "stream",
       "stream": "stdout",
       "text": [
        "\n",
        "http://api.geonames.org/search?featureClass=P&type=json&username=jaguillette&west=144.4&south=60.5&north=61.5&east=145.4"
       ]
      },
      {
       "output_type": "stream",
       "stream": "stdout",
       "text": [
        "\n",
        "http://api.geonames.org/search?featureClass=P&type=json&username=jaguillette&west=145.4&south=60.5&north=61.5&east=146.4"
       ]
      },
      {
       "output_type": "stream",
       "stream": "stdout",
       "text": [
        "\n",
        "http://api.geonames.org/search?featureClass=P&type=json&username=jaguillette&west=146.4&south=60.5&north=61.5&east=147.4"
       ]
      },
      {
       "output_type": "stream",
       "stream": "stdout",
       "text": [
        "\n",
        "http://api.geonames.org/search?featureClass=P&type=json&username=jaguillette&west=147.4&south=60.5&north=61.5&east=148.4"
       ]
      },
      {
       "output_type": "stream",
       "stream": "stdout",
       "text": [
        "\n",
        "http://api.geonames.org/search?featureClass=P&type=json&username=jaguillette&west=148.4&south=60.5&north=61.5&east=149.4"
       ]
      },
      {
       "output_type": "stream",
       "stream": "stdout",
       "text": [
        "\n",
        "http://api.geonames.org/search?featureClass=P&type=json&username=jaguillette&west=149.4&south=60.5&north=61.5&east=150.4"
       ]
      },
      {
       "output_type": "stream",
       "stream": "stdout",
       "text": [
        "\n",
        "http://api.geonames.org/search?featureClass=P&type=json&username=jaguillette&west=150.4&south=60.5&north=61.5&east=151.4"
       ]
      },
      {
       "output_type": "stream",
       "stream": "stdout",
       "text": [
        "\n",
        "http://api.geonames.org/search?featureClass=P&type=json&username=jaguillette&west=151.4&south=60.5&north=61.5&east=152.4"
       ]
      },
      {
       "output_type": "stream",
       "stream": "stdout",
       "text": [
        "\n",
        "http://api.geonames.org/search?featureClass=P&type=json&username=jaguillette&west=152.4&south=60.5&north=61.5&east=153.4"
       ]
      },
      {
       "output_type": "stream",
       "stream": "stdout",
       "text": [
        "\n",
        "http://api.geonames.org/search?featureClass=P&type=json&username=jaguillette&west=153.4&south=60.5&north=61.5&east=154.4"
       ]
      },
      {
       "output_type": "stream",
       "stream": "stdout",
       "text": [
        "\n",
        "http://api.geonames.org/search?featureClass=P&type=json&username=jaguillette&west=154.4&south=60.5&north=61.5&east=155.4"
       ]
      },
      {
       "output_type": "stream",
       "stream": "stdout",
       "text": [
        "\n",
        "http://api.geonames.org/search?featureClass=P&type=json&username=jaguillette&west=155.4&south=60.5&north=61.5&east=156.4"
       ]
      },
      {
       "output_type": "stream",
       "stream": "stdout",
       "text": [
        "\n",
        "http://api.geonames.org/search?featureClass=P&type=json&username=jaguillette&west=156.4&south=60.5&north=61.5&east=157.4"
       ]
      },
      {
       "output_type": "stream",
       "stream": "stdout",
       "text": [
        "\n",
        "http://api.geonames.org/search?featureClass=P&type=json&username=jaguillette&west=157.4&south=60.5&north=61.5&east=158.4"
       ]
      },
      {
       "output_type": "stream",
       "stream": "stdout",
       "text": [
        "\n",
        "http://api.geonames.org/search?featureClass=P&type=json&username=jaguillette&west=158.4&south=60.5&north=61.5&east=159.4"
       ]
      },
      {
       "output_type": "stream",
       "stream": "stdout",
       "text": [
        "\n",
        "http://api.geonames.org/search?featureClass=P&type=json&username=jaguillette&west=159.4&south=60.5&north=61.5&east=160.4"
       ]
      },
      {
       "output_type": "stream",
       "stream": "stdout",
       "text": [
        "\n",
        "http://api.geonames.org/search?featureClass=P&type=json&username=jaguillette&west=160.4&south=60.5&north=61.5&east=161.4"
       ]
      },
      {
       "output_type": "stream",
       "stream": "stdout",
       "text": [
        "\n",
        "http://api.geonames.org/search?featureClass=P&type=json&username=jaguillette&west=161.4&south=60.5&north=61.5&east=162.4"
       ]
      },
      {
       "output_type": "stream",
       "stream": "stdout",
       "text": [
        "\n",
        "http://api.geonames.org/search?featureClass=P&type=json&username=jaguillette&west=162.4&south=60.5&north=61.5&east=163.4"
       ]
      },
      {
       "output_type": "stream",
       "stream": "stdout",
       "text": [
        "\n",
        "http://api.geonames.org/search?featureClass=P&type=json&username=jaguillette&west=163.4&south=60.5&north=61.5&east=164.4"
       ]
      },
      {
       "output_type": "stream",
       "stream": "stdout",
       "text": [
        "\n",
        "http://api.geonames.org/search?featureClass=P&type=json&username=jaguillette&west=164.4&south=60.5&north=61.5&east=165.4"
       ]
      },
      {
       "output_type": "stream",
       "stream": "stdout",
       "text": [
        "\n",
        "http://api.geonames.org/search?featureClass=P&type=json&username=jaguillette&west=165.4&south=60.5&north=61.5&east=166.4"
       ]
      },
      {
       "output_type": "stream",
       "stream": "stdout",
       "text": [
        "\n",
        "http://api.geonames.org/search?featureClass=P&type=json&username=jaguillette&west=166.4&south=60.5&north=61.5&east=167.4"
       ]
      },
      {
       "output_type": "stream",
       "stream": "stdout",
       "text": [
        "\n",
        "http://api.geonames.org/search?featureClass=P&type=json&username=jaguillette&west=167.4&south=60.5&north=61.5&east=168.4"
       ]
      },
      {
       "output_type": "stream",
       "stream": "stdout",
       "text": [
        "\n",
        "http://api.geonames.org/search?featureClass=P&type=json&username=jaguillette&west=168.4&south=60.5&north=61.5&east=169.4"
       ]
      },
      {
       "output_type": "stream",
       "stream": "stdout",
       "text": [
        "\n",
        "http://api.geonames.org/search?featureClass=P&type=json&username=jaguillette&west=169.4&south=60.5&north=61.5&east=170.4"
       ]
      },
      {
       "output_type": "stream",
       "stream": "stdout",
       "text": [
        "\n",
        "http://api.geonames.org/search?featureClass=P&type=json&username=jaguillette&west=170.4&south=60.5&north=61.5&east=171.4"
       ]
      },
      {
       "output_type": "stream",
       "stream": "stdout",
       "text": [
        "\n",
        "http://api.geonames.org/search?featureClass=P&type=json&username=jaguillette&west=171.4&south=60.5&north=61.5&east=172.4"
       ]
      },
      {
       "output_type": "stream",
       "stream": "stdout",
       "text": [
        "\n",
        "http://api.geonames.org/search?featureClass=P&type=json&username=jaguillette&west=172.4&south=60.5&north=61.5&east=173.4"
       ]
      },
      {
       "output_type": "stream",
       "stream": "stdout",
       "text": [
        "\n",
        "http://api.geonames.org/search?featureClass=P&type=json&username=jaguillette&west=173.4&south=60.5&north=61.5&east=174.4"
       ]
      },
      {
       "output_type": "stream",
       "stream": "stdout",
       "text": [
        "\n",
        "http://api.geonames.org/search?featureClass=P&type=json&username=jaguillette&west=174.4&south=60.5&north=61.5&east=175.4"
       ]
      },
      {
       "output_type": "stream",
       "stream": "stdout",
       "text": [
        "\n",
        "http://api.geonames.org/search?featureClass=P&type=json&username=jaguillette&west=175.4&south=60.5&north=61.5&east=176.4"
       ]
      },
      {
       "output_type": "stream",
       "stream": "stdout",
       "text": [
        "\n",
        "http://api.geonames.org/search?featureClass=P&type=json&username=jaguillette&west=176.4&south=60.5&north=61.5&east=177.4"
       ]
      },
      {
       "output_type": "stream",
       "stream": "stdout",
       "text": [
        "\n",
        "http://api.geonames.org/search?featureClass=P&type=json&username=jaguillette&west=177.4&south=60.5&north=61.5&east=178.4"
       ]
      },
      {
       "output_type": "stream",
       "stream": "stdout",
       "text": [
        "\n",
        "http://api.geonames.org/search?featureClass=P&type=json&username=jaguillette&west=178.4&south=60.5&north=61.5&east=179.4"
       ]
      },
      {
       "output_type": "stream",
       "stream": "stdout",
       "text": [
        "\n",
        "http://api.geonames.org/search?featureClass=P&type=json&username=jaguillette&west=179.4&south=60.5&north=61.5&east=180"
       ]
      },
      {
       "output_type": "stream",
       "stream": "stdout",
       "text": [
        "\n",
        "http://api.geonames.org/search?featureClass=P&type=json&username=jaguillette&west=91.4&south=61.5&north=62.5&east=92.4"
       ]
      },
      {
       "output_type": "stream",
       "stream": "stdout",
       "text": [
        "\n",
        "http://api.geonames.org/search?featureClass=P&type=json&username=jaguillette&west=92.4&south=61.5&north=62.5&east=93.4"
       ]
      },
      {
       "output_type": "stream",
       "stream": "stdout",
       "text": [
        "\n",
        "http://api.geonames.org/search?featureClass=P&type=json&username=jaguillette&west=93.4&south=61.5&north=62.5&east=94.4"
       ]
      },
      {
       "output_type": "stream",
       "stream": "stdout",
       "text": [
        "\n",
        "http://api.geonames.org/search?featureClass=P&type=json&username=jaguillette&west=94.4&south=61.5&north=62.5&east=95.4"
       ]
      },
      {
       "output_type": "stream",
       "stream": "stdout",
       "text": [
        "\n",
        "http://api.geonames.org/search?featureClass=P&type=json&username=jaguillette&west=95.4&south=61.5&north=62.5&east=96.4"
       ]
      },
      {
       "output_type": "stream",
       "stream": "stdout",
       "text": [
        "\n",
        "http://api.geonames.org/search?featureClass=P&type=json&username=jaguillette&west=96.4&south=61.5&north=62.5&east=97.4"
       ]
      },
      {
       "output_type": "stream",
       "stream": "stdout",
       "text": [
        "\n",
        "http://api.geonames.org/search?featureClass=P&type=json&username=jaguillette&west=97.4&south=61.5&north=62.5&east=98.4"
       ]
      },
      {
       "output_type": "stream",
       "stream": "stdout",
       "text": [
        "\n",
        "http://api.geonames.org/search?featureClass=P&type=json&username=jaguillette&west=98.4&south=61.5&north=62.5&east=99.4"
       ]
      },
      {
       "output_type": "stream",
       "stream": "stdout",
       "text": [
        "\n",
        "http://api.geonames.org/search?featureClass=P&type=json&username=jaguillette&west=99.4&south=61.5&north=62.5&east=100.4"
       ]
      },
      {
       "output_type": "stream",
       "stream": "stdout",
       "text": [
        "\n",
        "http://api.geonames.org/search?featureClass=P&type=json&username=jaguillette&west=100.4&south=61.5&north=62.5&east=101.4"
       ]
      },
      {
       "output_type": "stream",
       "stream": "stdout",
       "text": [
        "\n",
        "http://api.geonames.org/search?featureClass=P&type=json&username=jaguillette&west=101.4&south=61.5&north=62.5&east=102.4"
       ]
      },
      {
       "output_type": "stream",
       "stream": "stdout",
       "text": [
        "\n",
        "http://api.geonames.org/search?featureClass=P&type=json&username=jaguillette&west=102.4&south=61.5&north=62.5&east=103.4"
       ]
      },
      {
       "output_type": "stream",
       "stream": "stdout",
       "text": [
        "\n",
        "http://api.geonames.org/search?featureClass=P&type=json&username=jaguillette&west=103.4&south=61.5&north=62.5&east=104.4"
       ]
      },
      {
       "output_type": "stream",
       "stream": "stdout",
       "text": [
        "\n",
        "http://api.geonames.org/search?featureClass=P&type=json&username=jaguillette&west=104.4&south=61.5&north=62.5&east=105.4"
       ]
      },
      {
       "output_type": "stream",
       "stream": "stdout",
       "text": [
        "\n",
        "http://api.geonames.org/search?featureClass=P&type=json&username=jaguillette&west=105.4&south=61.5&north=62.5&east=106.4"
       ]
      },
      {
       "output_type": "stream",
       "stream": "stdout",
       "text": [
        "\n",
        "http://api.geonames.org/search?featureClass=P&type=json&username=jaguillette&west=106.4&south=61.5&north=62.5&east=107.4"
       ]
      },
      {
       "output_type": "stream",
       "stream": "stdout",
       "text": [
        "\n",
        "http://api.geonames.org/search?featureClass=P&type=json&username=jaguillette&west=107.4&south=61.5&north=62.5&east=108.4"
       ]
      },
      {
       "output_type": "stream",
       "stream": "stdout",
       "text": [
        "\n",
        "http://api.geonames.org/search?featureClass=P&type=json&username=jaguillette&west=108.4&south=61.5&north=62.5&east=109.4"
       ]
      },
      {
       "output_type": "stream",
       "stream": "stdout",
       "text": [
        "\n",
        "http://api.geonames.org/search?featureClass=P&type=json&username=jaguillette&west=109.4&south=61.5&north=62.5&east=110.4"
       ]
      },
      {
       "output_type": "stream",
       "stream": "stdout",
       "text": [
        "\n",
        "http://api.geonames.org/search?featureClass=P&type=json&username=jaguillette&west=110.4&south=61.5&north=62.5&east=111.4"
       ]
      },
      {
       "output_type": "stream",
       "stream": "stdout",
       "text": [
        "\n",
        "http://api.geonames.org/search?featureClass=P&type=json&username=jaguillette&west=111.4&south=61.5&north=62.5&east=112.4"
       ]
      },
      {
       "output_type": "stream",
       "stream": "stdout",
       "text": [
        "\n",
        "http://api.geonames.org/search?featureClass=P&type=json&username=jaguillette&west=112.4&south=61.5&north=62.5&east=113.4"
       ]
      },
      {
       "output_type": "stream",
       "stream": "stdout",
       "text": [
        "\n",
        "http://api.geonames.org/search?featureClass=P&type=json&username=jaguillette&west=113.4&south=61.5&north=62.5&east=114.4"
       ]
      },
      {
       "output_type": "stream",
       "stream": "stdout",
       "text": [
        "\n",
        "http://api.geonames.org/search?featureClass=P&type=json&username=jaguillette&west=114.4&south=61.5&north=62.5&east=115.4"
       ]
      },
      {
       "output_type": "stream",
       "stream": "stdout",
       "text": [
        "\n",
        "http://api.geonames.org/search?featureClass=P&type=json&username=jaguillette&west=115.4&south=61.5&north=62.5&east=116.4"
       ]
      },
      {
       "output_type": "stream",
       "stream": "stdout",
       "text": [
        "\n",
        "http://api.geonames.org/search?featureClass=P&type=json&username=jaguillette&west=116.4&south=61.5&north=62.5&east=117.4"
       ]
      },
      {
       "output_type": "stream",
       "stream": "stdout",
       "text": [
        "\n",
        "http://api.geonames.org/search?featureClass=P&type=json&username=jaguillette&west=117.4&south=61.5&north=62.5&east=118.4"
       ]
      },
      {
       "output_type": "stream",
       "stream": "stdout",
       "text": [
        "\n",
        "http://api.geonames.org/search?featureClass=P&type=json&username=jaguillette&west=118.4&south=61.5&north=62.5&east=119.4"
       ]
      },
      {
       "output_type": "stream",
       "stream": "stdout",
       "text": [
        "\n",
        "http://api.geonames.org/search?featureClass=P&type=json&username=jaguillette&west=119.4&south=61.5&north=62.5&east=120.4"
       ]
      },
      {
       "output_type": "stream",
       "stream": "stdout",
       "text": [
        "\n",
        "http://api.geonames.org/search?featureClass=P&type=json&username=jaguillette&west=120.4&south=61.5&north=62.5&east=121.4"
       ]
      },
      {
       "output_type": "stream",
       "stream": "stdout",
       "text": [
        "\n",
        "http://api.geonames.org/search?featureClass=P&type=json&username=jaguillette&west=121.4&south=61.5&north=62.5&east=122.4"
       ]
      },
      {
       "output_type": "stream",
       "stream": "stdout",
       "text": [
        "\n",
        "http://api.geonames.org/search?featureClass=P&type=json&username=jaguillette&west=122.4&south=61.5&north=62.5&east=123.4"
       ]
      },
      {
       "output_type": "stream",
       "stream": "stdout",
       "text": [
        "\n",
        "http://api.geonames.org/search?featureClass=P&type=json&username=jaguillette&west=123.4&south=61.5&north=62.5&east=124.4"
       ]
      },
      {
       "output_type": "stream",
       "stream": "stdout",
       "text": [
        "\n",
        "http://api.geonames.org/search?featureClass=P&type=json&username=jaguillette&west=124.4&south=61.5&north=62.5&east=125.4"
       ]
      },
      {
       "output_type": "stream",
       "stream": "stdout",
       "text": [
        "\n",
        "http://api.geonames.org/search?featureClass=P&type=json&username=jaguillette&west=125.4&south=61.5&north=62.5&east=126.4"
       ]
      },
      {
       "output_type": "stream",
       "stream": "stdout",
       "text": [
        "\n",
        "http://api.geonames.org/search?featureClass=P&type=json&username=jaguillette&west=126.4&south=61.5&north=62.5&east=127.4"
       ]
      },
      {
       "output_type": "stream",
       "stream": "stdout",
       "text": [
        "\n",
        "http://api.geonames.org/search?featureClass=P&type=json&username=jaguillette&west=127.4&south=61.5&north=62.5&east=128.4"
       ]
      },
      {
       "output_type": "stream",
       "stream": "stdout",
       "text": [
        "\n",
        "http://api.geonames.org/search?featureClass=P&type=json&username=jaguillette&west=128.4&south=61.5&north=62.5&east=129.4"
       ]
      },
      {
       "output_type": "stream",
       "stream": "stdout",
       "text": [
        "\n",
        "http://api.geonames.org/search?featureClass=P&type=json&username=jaguillette&west=129.4&south=61.5&north=62.5&east=130.4"
       ]
      },
      {
       "output_type": "stream",
       "stream": "stdout",
       "text": [
        "\n",
        "http://api.geonames.org/search?featureClass=P&type=json&username=jaguillette&west=130.4&south=61.5&north=62.5&east=131.4"
       ]
      },
      {
       "output_type": "stream",
       "stream": "stdout",
       "text": [
        "\n",
        "http://api.geonames.org/search?featureClass=P&type=json&username=jaguillette&west=131.4&south=61.5&north=62.5&east=132.4"
       ]
      },
      {
       "output_type": "stream",
       "stream": "stdout",
       "text": [
        "\n",
        "http://api.geonames.org/search?featureClass=P&type=json&username=jaguillette&west=132.4&south=61.5&north=62.5&east=133.4"
       ]
      },
      {
       "output_type": "stream",
       "stream": "stdout",
       "text": [
        "\n",
        "http://api.geonames.org/search?featureClass=P&type=json&username=jaguillette&west=133.4&south=61.5&north=62.5&east=134.4"
       ]
      },
      {
       "output_type": "stream",
       "stream": "stdout",
       "text": [
        "\n",
        "http://api.geonames.org/search?featureClass=P&type=json&username=jaguillette&west=134.4&south=61.5&north=62.5&east=135.4"
       ]
      },
      {
       "output_type": "stream",
       "stream": "stdout",
       "text": [
        "\n",
        "http://api.geonames.org/search?featureClass=P&type=json&username=jaguillette&west=135.4&south=61.5&north=62.5&east=136.4"
       ]
      },
      {
       "output_type": "stream",
       "stream": "stdout",
       "text": [
        "\n",
        "http://api.geonames.org/search?featureClass=P&type=json&username=jaguillette&west=136.4&south=61.5&north=62.5&east=137.4"
       ]
      },
      {
       "output_type": "stream",
       "stream": "stdout",
       "text": [
        "\n",
        "http://api.geonames.org/search?featureClass=P&type=json&username=jaguillette&west=137.4&south=61.5&north=62.5&east=138.4"
       ]
      },
      {
       "output_type": "stream",
       "stream": "stdout",
       "text": [
        "\n",
        "http://api.geonames.org/search?featureClass=P&type=json&username=jaguillette&west=138.4&south=61.5&north=62.5&east=139.4"
       ]
      },
      {
       "output_type": "stream",
       "stream": "stdout",
       "text": [
        "\n",
        "http://api.geonames.org/search?featureClass=P&type=json&username=jaguillette&west=139.4&south=61.5&north=62.5&east=140.4"
       ]
      },
      {
       "output_type": "stream",
       "stream": "stdout",
       "text": [
        "\n",
        "http://api.geonames.org/search?featureClass=P&type=json&username=jaguillette&west=140.4&south=61.5&north=62.5&east=141.4"
       ]
      },
      {
       "output_type": "stream",
       "stream": "stdout",
       "text": [
        "\n",
        "http://api.geonames.org/search?featureClass=P&type=json&username=jaguillette&west=141.4&south=61.5&north=62.5&east=142.4"
       ]
      },
      {
       "output_type": "stream",
       "stream": "stdout",
       "text": [
        "\n",
        "http://api.geonames.org/search?featureClass=P&type=json&username=jaguillette&west=142.4&south=61.5&north=62.5&east=143.4"
       ]
      },
      {
       "output_type": "stream",
       "stream": "stdout",
       "text": [
        "\n",
        "http://api.geonames.org/search?featureClass=P&type=json&username=jaguillette&west=143.4&south=61.5&north=62.5&east=144.4"
       ]
      },
      {
       "output_type": "stream",
       "stream": "stdout",
       "text": [
        "\n",
        "http://api.geonames.org/search?featureClass=P&type=json&username=jaguillette&west=144.4&south=61.5&north=62.5&east=145.4"
       ]
      },
      {
       "output_type": "stream",
       "stream": "stdout",
       "text": [
        "\n",
        "http://api.geonames.org/search?featureClass=P&type=json&username=jaguillette&west=145.4&south=61.5&north=62.5&east=146.4"
       ]
      },
      {
       "output_type": "stream",
       "stream": "stdout",
       "text": [
        "\n",
        "http://api.geonames.org/search?featureClass=P&type=json&username=jaguillette&west=146.4&south=61.5&north=62.5&east=147.4"
       ]
      },
      {
       "output_type": "stream",
       "stream": "stdout",
       "text": [
        "\n",
        "http://api.geonames.org/search?featureClass=P&type=json&username=jaguillette&west=147.4&south=61.5&north=62.5&east=148.4"
       ]
      },
      {
       "output_type": "stream",
       "stream": "stdout",
       "text": [
        "\n",
        "http://api.geonames.org/search?featureClass=P&type=json&username=jaguillette&west=148.4&south=61.5&north=62.5&east=149.4"
       ]
      },
      {
       "output_type": "stream",
       "stream": "stdout",
       "text": [
        "\n",
        "http://api.geonames.org/search?featureClass=P&type=json&username=jaguillette&west=149.4&south=61.5&north=62.5&east=150.4"
       ]
      },
      {
       "output_type": "stream",
       "stream": "stdout",
       "text": [
        "\n",
        "http://api.geonames.org/search?featureClass=P&type=json&username=jaguillette&west=150.4&south=61.5&north=62.5&east=151.4"
       ]
      },
      {
       "output_type": "stream",
       "stream": "stdout",
       "text": [
        "\n",
        "http://api.geonames.org/search?featureClass=P&type=json&username=jaguillette&west=151.4&south=61.5&north=62.5&east=152.4"
       ]
      },
      {
       "output_type": "stream",
       "stream": "stdout",
       "text": [
        "\n",
        "http://api.geonames.org/search?featureClass=P&type=json&username=jaguillette&west=152.4&south=61.5&north=62.5&east=153.4"
       ]
      },
      {
       "output_type": "stream",
       "stream": "stdout",
       "text": [
        "\n",
        "http://api.geonames.org/search?featureClass=P&type=json&username=jaguillette&west=153.4&south=61.5&north=62.5&east=154.4"
       ]
      },
      {
       "output_type": "stream",
       "stream": "stdout",
       "text": [
        "\n",
        "http://api.geonames.org/search?featureClass=P&type=json&username=jaguillette&west=154.4&south=61.5&north=62.5&east=155.4"
       ]
      },
      {
       "output_type": "stream",
       "stream": "stdout",
       "text": [
        "\n",
        "http://api.geonames.org/search?featureClass=P&type=json&username=jaguillette&west=155.4&south=61.5&north=62.5&east=156.4"
       ]
      },
      {
       "output_type": "stream",
       "stream": "stdout",
       "text": [
        "\n",
        "http://api.geonames.org/search?featureClass=P&type=json&username=jaguillette&west=156.4&south=61.5&north=62.5&east=157.4"
       ]
      },
      {
       "output_type": "stream",
       "stream": "stdout",
       "text": [
        "\n",
        "http://api.geonames.org/search?featureClass=P&type=json&username=jaguillette&west=157.4&south=61.5&north=62.5&east=158.4"
       ]
      },
      {
       "output_type": "stream",
       "stream": "stdout",
       "text": [
        "\n",
        "http://api.geonames.org/search?featureClass=P&type=json&username=jaguillette&west=158.4&south=61.5&north=62.5&east=159.4"
       ]
      },
      {
       "output_type": "stream",
       "stream": "stdout",
       "text": [
        "\n",
        "http://api.geonames.org/search?featureClass=P&type=json&username=jaguillette&west=159.4&south=61.5&north=62.5&east=160.4"
       ]
      },
      {
       "output_type": "stream",
       "stream": "stdout",
       "text": [
        "\n",
        "http://api.geonames.org/search?featureClass=P&type=json&username=jaguillette&west=160.4&south=61.5&north=62.5&east=161.4"
       ]
      },
      {
       "output_type": "stream",
       "stream": "stdout",
       "text": [
        "\n",
        "http://api.geonames.org/search?featureClass=P&type=json&username=jaguillette&west=161.4&south=61.5&north=62.5&east=162.4"
       ]
      },
      {
       "output_type": "stream",
       "stream": "stdout",
       "text": [
        "\n",
        "http://api.geonames.org/search?featureClass=P&type=json&username=jaguillette&west=162.4&south=61.5&north=62.5&east=163.4"
       ]
      },
      {
       "output_type": "stream",
       "stream": "stdout",
       "text": [
        "\n",
        "http://api.geonames.org/search?featureClass=P&type=json&username=jaguillette&west=163.4&south=61.5&north=62.5&east=164.4"
       ]
      },
      {
       "output_type": "stream",
       "stream": "stdout",
       "text": [
        "\n",
        "http://api.geonames.org/search?featureClass=P&type=json&username=jaguillette&west=164.4&south=61.5&north=62.5&east=165.4"
       ]
      },
      {
       "output_type": "stream",
       "stream": "stdout",
       "text": [
        "\n",
        "http://api.geonames.org/search?featureClass=P&type=json&username=jaguillette&west=165.4&south=61.5&north=62.5&east=166.4"
       ]
      },
      {
       "output_type": "stream",
       "stream": "stdout",
       "text": [
        "\n",
        "http://api.geonames.org/search?featureClass=P&type=json&username=jaguillette&west=166.4&south=61.5&north=62.5&east=167.4"
       ]
      },
      {
       "output_type": "stream",
       "stream": "stdout",
       "text": [
        "\n",
        "http://api.geonames.org/search?featureClass=P&type=json&username=jaguillette&west=167.4&south=61.5&north=62.5&east=168.4"
       ]
      },
      {
       "output_type": "stream",
       "stream": "stdout",
       "text": [
        "\n",
        "http://api.geonames.org/search?featureClass=P&type=json&username=jaguillette&west=168.4&south=61.5&north=62.5&east=169.4"
       ]
      },
      {
       "output_type": "stream",
       "stream": "stdout",
       "text": [
        "\n",
        "http://api.geonames.org/search?featureClass=P&type=json&username=jaguillette&west=169.4&south=61.5&north=62.5&east=170.4"
       ]
      },
      {
       "output_type": "stream",
       "stream": "stdout",
       "text": [
        "\n",
        "http://api.geonames.org/search?featureClass=P&type=json&username=jaguillette&west=170.4&south=61.5&north=62.5&east=171.4"
       ]
      },
      {
       "output_type": "stream",
       "stream": "stdout",
       "text": [
        "\n",
        "http://api.geonames.org/search?featureClass=P&type=json&username=jaguillette&west=171.4&south=61.5&north=62.5&east=172.4"
       ]
      },
      {
       "output_type": "stream",
       "stream": "stdout",
       "text": [
        "\n",
        "http://api.geonames.org/search?featureClass=P&type=json&username=jaguillette&west=172.4&south=61.5&north=62.5&east=173.4"
       ]
      },
      {
       "output_type": "stream",
       "stream": "stdout",
       "text": [
        "\n",
        "http://api.geonames.org/search?featureClass=P&type=json&username=jaguillette&west=173.4&south=61.5&north=62.5&east=174.4"
       ]
      },
      {
       "output_type": "stream",
       "stream": "stdout",
       "text": [
        "\n",
        "http://api.geonames.org/search?featureClass=P&type=json&username=jaguillette&west=174.4&south=61.5&north=62.5&east=175.4"
       ]
      },
      {
       "output_type": "stream",
       "stream": "stdout",
       "text": [
        "\n",
        "http://api.geonames.org/search?featureClass=P&type=json&username=jaguillette&west=175.4&south=61.5&north=62.5&east=176.4"
       ]
      },
      {
       "output_type": "stream",
       "stream": "stdout",
       "text": [
        "\n",
        "http://api.geonames.org/search?featureClass=P&type=json&username=jaguillette&west=176.4&south=61.5&north=62.5&east=177.4"
       ]
      },
      {
       "output_type": "stream",
       "stream": "stdout",
       "text": [
        "\n",
        "http://api.geonames.org/search?featureClass=P&type=json&username=jaguillette&west=177.4&south=61.5&north=62.5&east=178.4"
       ]
      },
      {
       "output_type": "stream",
       "stream": "stdout",
       "text": [
        "\n",
        "http://api.geonames.org/search?featureClass=P&type=json&username=jaguillette&west=178.4&south=61.5&north=62.5&east=179.4"
       ]
      },
      {
       "output_type": "stream",
       "stream": "stdout",
       "text": [
        "\n",
        "http://api.geonames.org/search?featureClass=P&type=json&username=jaguillette&west=179.4&south=61.5&north=62.5&east=180"
       ]
      },
      {
       "output_type": "stream",
       "stream": "stdout",
       "text": [
        "\n",
        "http://api.geonames.org/search?featureClass=P&type=json&username=jaguillette&west=91.4&south=62.5&north=63.5&east=92.4"
       ]
      },
      {
       "output_type": "stream",
       "stream": "stdout",
       "text": [
        "\n",
        "http://api.geonames.org/search?featureClass=P&type=json&username=jaguillette&west=92.4&south=62.5&north=63.5&east=93.4"
       ]
      },
      {
       "output_type": "stream",
       "stream": "stdout",
       "text": [
        "\n",
        "http://api.geonames.org/search?featureClass=P&type=json&username=jaguillette&west=93.4&south=62.5&north=63.5&east=94.4"
       ]
      },
      {
       "output_type": "stream",
       "stream": "stdout",
       "text": [
        "\n",
        "http://api.geonames.org/search?featureClass=P&type=json&username=jaguillette&west=94.4&south=62.5&north=63.5&east=95.4"
       ]
      },
      {
       "output_type": "stream",
       "stream": "stdout",
       "text": [
        "\n",
        "http://api.geonames.org/search?featureClass=P&type=json&username=jaguillette&west=95.4&south=62.5&north=63.5&east=96.4"
       ]
      },
      {
       "output_type": "stream",
       "stream": "stdout",
       "text": [
        "\n",
        "http://api.geonames.org/search?featureClass=P&type=json&username=jaguillette&west=96.4&south=62.5&north=63.5&east=97.4"
       ]
      },
      {
       "output_type": "stream",
       "stream": "stdout",
       "text": [
        "\n",
        "http://api.geonames.org/search?featureClass=P&type=json&username=jaguillette&west=97.4&south=62.5&north=63.5&east=98.4"
       ]
      },
      {
       "output_type": "stream",
       "stream": "stdout",
       "text": [
        "\n",
        "http://api.geonames.org/search?featureClass=P&type=json&username=jaguillette&west=98.4&south=62.5&north=63.5&east=99.4"
       ]
      },
      {
       "output_type": "stream",
       "stream": "stdout",
       "text": [
        "\n",
        "http://api.geonames.org/search?featureClass=P&type=json&username=jaguillette&west=99.4&south=62.5&north=63.5&east=100.4"
       ]
      },
      {
       "output_type": "stream",
       "stream": "stdout",
       "text": [
        "\n",
        "http://api.geonames.org/search?featureClass=P&type=json&username=jaguillette&west=100.4&south=62.5&north=63.5&east=101.4"
       ]
      },
      {
       "output_type": "stream",
       "stream": "stdout",
       "text": [
        "\n",
        "http://api.geonames.org/search?featureClass=P&type=json&username=jaguillette&west=101.4&south=62.5&north=63.5&east=102.4"
       ]
      },
      {
       "output_type": "stream",
       "stream": "stdout",
       "text": [
        "\n",
        "http://api.geonames.org/search?featureClass=P&type=json&username=jaguillette&west=102.4&south=62.5&north=63.5&east=103.4"
       ]
      },
      {
       "output_type": "stream",
       "stream": "stdout",
       "text": [
        "\n",
        "http://api.geonames.org/search?featureClass=P&type=json&username=jaguillette&west=103.4&south=62.5&north=63.5&east=104.4"
       ]
      },
      {
       "output_type": "stream",
       "stream": "stdout",
       "text": [
        "\n",
        "http://api.geonames.org/search?featureClass=P&type=json&username=jaguillette&west=104.4&south=62.5&north=63.5&east=105.4"
       ]
      },
      {
       "output_type": "stream",
       "stream": "stdout",
       "text": [
        "\n",
        "http://api.geonames.org/search?featureClass=P&type=json&username=jaguillette&west=105.4&south=62.5&north=63.5&east=106.4"
       ]
      },
      {
       "output_type": "stream",
       "stream": "stdout",
       "text": [
        "\n",
        "http://api.geonames.org/search?featureClass=P&type=json&username=jaguillette&west=106.4&south=62.5&north=63.5&east=107.4"
       ]
      },
      {
       "output_type": "stream",
       "stream": "stdout",
       "text": [
        "\n",
        "http://api.geonames.org/search?featureClass=P&type=json&username=jaguillette&west=107.4&south=62.5&north=63.5&east=108.4"
       ]
      },
      {
       "output_type": "stream",
       "stream": "stdout",
       "text": [
        "\n",
        "http://api.geonames.org/search?featureClass=P&type=json&username=jaguillette&west=108.4&south=62.5&north=63.5&east=109.4"
       ]
      },
      {
       "output_type": "stream",
       "stream": "stdout",
       "text": [
        "\n",
        "http://api.geonames.org/search?featureClass=P&type=json&username=jaguillette&west=109.4&south=62.5&north=63.5&east=110.4"
       ]
      },
      {
       "output_type": "stream",
       "stream": "stdout",
       "text": [
        "\n",
        "http://api.geonames.org/search?featureClass=P&type=json&username=jaguillette&west=110.4&south=62.5&north=63.5&east=111.4"
       ]
      },
      {
       "output_type": "stream",
       "stream": "stdout",
       "text": [
        "\n",
        "http://api.geonames.org/search?featureClass=P&type=json&username=jaguillette&west=111.4&south=62.5&north=63.5&east=112.4"
       ]
      },
      {
       "output_type": "stream",
       "stream": "stdout",
       "text": [
        "\n",
        "http://api.geonames.org/search?featureClass=P&type=json&username=jaguillette&west=112.4&south=62.5&north=63.5&east=113.4"
       ]
      },
      {
       "output_type": "stream",
       "stream": "stdout",
       "text": [
        "\n",
        "http://api.geonames.org/search?featureClass=P&type=json&username=jaguillette&west=113.4&south=62.5&north=63.5&east=114.4"
       ]
      },
      {
       "output_type": "stream",
       "stream": "stdout",
       "text": [
        "\n",
        "http://api.geonames.org/search?featureClass=P&type=json&username=jaguillette&west=114.4&south=62.5&north=63.5&east=115.4"
       ]
      },
      {
       "output_type": "stream",
       "stream": "stdout",
       "text": [
        "\n",
        "http://api.geonames.org/search?featureClass=P&type=json&username=jaguillette&west=115.4&south=62.5&north=63.5&east=116.4"
       ]
      },
      {
       "output_type": "stream",
       "stream": "stdout",
       "text": [
        "\n",
        "http://api.geonames.org/search?featureClass=P&type=json&username=jaguillette&west=116.4&south=62.5&north=63.5&east=117.4"
       ]
      },
      {
       "output_type": "stream",
       "stream": "stdout",
       "text": [
        "\n",
        "http://api.geonames.org/search?featureClass=P&type=json&username=jaguillette&west=117.4&south=62.5&north=63.5&east=118.4"
       ]
      },
      {
       "output_type": "stream",
       "stream": "stdout",
       "text": [
        "\n",
        "http://api.geonames.org/search?featureClass=P&type=json&username=jaguillette&west=118.4&south=62.5&north=63.5&east=119.4"
       ]
      },
      {
       "output_type": "stream",
       "stream": "stdout",
       "text": [
        "\n",
        "http://api.geonames.org/search?featureClass=P&type=json&username=jaguillette&west=119.4&south=62.5&north=63.5&east=120.4"
       ]
      },
      {
       "output_type": "stream",
       "stream": "stdout",
       "text": [
        "\n",
        "http://api.geonames.org/search?featureClass=P&type=json&username=jaguillette&west=120.4&south=62.5&north=63.5&east=121.4"
       ]
      },
      {
       "output_type": "stream",
       "stream": "stdout",
       "text": [
        "\n",
        "http://api.geonames.org/search?featureClass=P&type=json&username=jaguillette&west=121.4&south=62.5&north=63.5&east=122.4"
       ]
      },
      {
       "output_type": "stream",
       "stream": "stdout",
       "text": [
        "\n",
        "http://api.geonames.org/search?featureClass=P&type=json&username=jaguillette&west=122.4&south=62.5&north=63.5&east=123.4"
       ]
      },
      {
       "output_type": "stream",
       "stream": "stdout",
       "text": [
        "\n",
        "http://api.geonames.org/search?featureClass=P&type=json&username=jaguillette&west=123.4&south=62.5&north=63.5&east=124.4"
       ]
      },
      {
       "output_type": "stream",
       "stream": "stdout",
       "text": [
        "\n",
        "http://api.geonames.org/search?featureClass=P&type=json&username=jaguillette&west=124.4&south=62.5&north=63.5&east=125.4"
       ]
      },
      {
       "output_type": "stream",
       "stream": "stdout",
       "text": [
        "\n",
        "http://api.geonames.org/search?featureClass=P&type=json&username=jaguillette&west=125.4&south=62.5&north=63.5&east=126.4"
       ]
      },
      {
       "output_type": "stream",
       "stream": "stdout",
       "text": [
        "\n",
        "http://api.geonames.org/search?featureClass=P&type=json&username=jaguillette&west=126.4&south=62.5&north=63.5&east=127.4"
       ]
      },
      {
       "output_type": "stream",
       "stream": "stdout",
       "text": [
        "\n",
        "http://api.geonames.org/search?featureClass=P&type=json&username=jaguillette&west=127.4&south=62.5&north=63.5&east=128.4"
       ]
      },
      {
       "output_type": "stream",
       "stream": "stdout",
       "text": [
        "\n",
        "http://api.geonames.org/search?featureClass=P&type=json&username=jaguillette&west=128.4&south=62.5&north=63.5&east=129.4"
       ]
      },
      {
       "output_type": "stream",
       "stream": "stdout",
       "text": [
        "\n",
        "http://api.geonames.org/search?featureClass=P&type=json&username=jaguillette&west=129.4&south=62.5&north=63.5&east=130.4"
       ]
      },
      {
       "output_type": "stream",
       "stream": "stdout",
       "text": [
        "\n",
        "http://api.geonames.org/search?featureClass=P&type=json&username=jaguillette&west=130.4&south=62.5&north=63.5&east=131.4"
       ]
      },
      {
       "output_type": "stream",
       "stream": "stdout",
       "text": [
        "\n",
        "http://api.geonames.org/search?featureClass=P&type=json&username=jaguillette&west=131.4&south=62.5&north=63.5&east=132.4"
       ]
      },
      {
       "output_type": "stream",
       "stream": "stdout",
       "text": [
        "\n",
        "http://api.geonames.org/search?featureClass=P&type=json&username=jaguillette&west=132.4&south=62.5&north=63.5&east=133.4"
       ]
      },
      {
       "output_type": "stream",
       "stream": "stdout",
       "text": [
        "\n",
        "http://api.geonames.org/search?featureClass=P&type=json&username=jaguillette&west=133.4&south=62.5&north=63.5&east=134.4"
       ]
      },
      {
       "output_type": "stream",
       "stream": "stdout",
       "text": [
        "\n",
        "http://api.geonames.org/search?featureClass=P&type=json&username=jaguillette&west=134.4&south=62.5&north=63.5&east=135.4"
       ]
      },
      {
       "output_type": "stream",
       "stream": "stdout",
       "text": [
        "\n",
        "http://api.geonames.org/search?featureClass=P&type=json&username=jaguillette&west=135.4&south=62.5&north=63.5&east=136.4"
       ]
      },
      {
       "output_type": "stream",
       "stream": "stdout",
       "text": [
        "\n",
        "http://api.geonames.org/search?featureClass=P&type=json&username=jaguillette&west=136.4&south=62.5&north=63.5&east=137.4"
       ]
      },
      {
       "output_type": "stream",
       "stream": "stdout",
       "text": [
        "\n",
        "http://api.geonames.org/search?featureClass=P&type=json&username=jaguillette&west=137.4&south=62.5&north=63.5&east=138.4"
       ]
      },
      {
       "output_type": "stream",
       "stream": "stdout",
       "text": [
        "\n",
        "http://api.geonames.org/search?featureClass=P&type=json&username=jaguillette&west=138.4&south=62.5&north=63.5&east=139.4"
       ]
      },
      {
       "output_type": "stream",
       "stream": "stdout",
       "text": [
        "\n",
        "http://api.geonames.org/search?featureClass=P&type=json&username=jaguillette&west=139.4&south=62.5&north=63.5&east=140.4"
       ]
      },
      {
       "output_type": "stream",
       "stream": "stdout",
       "text": [
        "\n",
        "http://api.geonames.org/search?featureClass=P&type=json&username=jaguillette&west=140.4&south=62.5&north=63.5&east=141.4"
       ]
      },
      {
       "output_type": "stream",
       "stream": "stdout",
       "text": [
        "\n",
        "http://api.geonames.org/search?featureClass=P&type=json&username=jaguillette&west=141.4&south=62.5&north=63.5&east=142.4"
       ]
      },
      {
       "output_type": "stream",
       "stream": "stdout",
       "text": [
        "\n",
        "http://api.geonames.org/search?featureClass=P&type=json&username=jaguillette&west=142.4&south=62.5&north=63.5&east=143.4"
       ]
      },
      {
       "output_type": "stream",
       "stream": "stdout",
       "text": [
        "\n",
        "http://api.geonames.org/search?featureClass=P&type=json&username=jaguillette&west=143.4&south=62.5&north=63.5&east=144.4"
       ]
      },
      {
       "output_type": "stream",
       "stream": "stdout",
       "text": [
        "\n",
        "http://api.geonames.org/search?featureClass=P&type=json&username=jaguillette&west=144.4&south=62.5&north=63.5&east=145.4"
       ]
      },
      {
       "output_type": "stream",
       "stream": "stdout",
       "text": [
        "\n",
        "http://api.geonames.org/search?featureClass=P&type=json&username=jaguillette&west=145.4&south=62.5&north=63.5&east=146.4"
       ]
      },
      {
       "output_type": "stream",
       "stream": "stdout",
       "text": [
        "\n",
        "http://api.geonames.org/search?featureClass=P&type=json&username=jaguillette&west=146.4&south=62.5&north=63.5&east=147.4"
       ]
      },
      {
       "output_type": "stream",
       "stream": "stdout",
       "text": [
        "\n",
        "http://api.geonames.org/search?featureClass=P&type=json&username=jaguillette&west=147.4&south=62.5&north=63.5&east=148.4"
       ]
      },
      {
       "output_type": "stream",
       "stream": "stdout",
       "text": [
        "\n",
        "http://api.geonames.org/search?featureClass=P&type=json&username=jaguillette&west=148.4&south=62.5&north=63.5&east=149.4"
       ]
      },
      {
       "output_type": "stream",
       "stream": "stdout",
       "text": [
        "\n",
        "http://api.geonames.org/search?featureClass=P&type=json&username=jaguillette&west=149.4&south=62.5&north=63.5&east=150.4"
       ]
      },
      {
       "output_type": "stream",
       "stream": "stdout",
       "text": [
        "\n",
        "http://api.geonames.org/search?featureClass=P&type=json&username=jaguillette&west=150.4&south=62.5&north=63.5&east=151.4"
       ]
      },
      {
       "output_type": "stream",
       "stream": "stdout",
       "text": [
        "\n",
        "http://api.geonames.org/search?featureClass=P&type=json&username=jaguillette&west=151.4&south=62.5&north=63.5&east=152.4"
       ]
      },
      {
       "output_type": "stream",
       "stream": "stdout",
       "text": [
        "\n",
        "http://api.geonames.org/search?featureClass=P&type=json&username=jaguillette&west=152.4&south=62.5&north=63.5&east=153.4"
       ]
      },
      {
       "output_type": "stream",
       "stream": "stdout",
       "text": [
        "\n",
        "http://api.geonames.org/search?featureClass=P&type=json&username=jaguillette&west=153.4&south=62.5&north=63.5&east=154.4"
       ]
      },
      {
       "output_type": "stream",
       "stream": "stdout",
       "text": [
        "\n",
        "http://api.geonames.org/search?featureClass=P&type=json&username=jaguillette&west=154.4&south=62.5&north=63.5&east=155.4"
       ]
      },
      {
       "output_type": "stream",
       "stream": "stdout",
       "text": [
        "\n",
        "http://api.geonames.org/search?featureClass=P&type=json&username=jaguillette&west=155.4&south=62.5&north=63.5&east=156.4"
       ]
      },
      {
       "output_type": "stream",
       "stream": "stdout",
       "text": [
        "\n",
        "http://api.geonames.org/search?featureClass=P&type=json&username=jaguillette&west=156.4&south=62.5&north=63.5&east=157.4"
       ]
      },
      {
       "output_type": "stream",
       "stream": "stdout",
       "text": [
        "\n",
        "http://api.geonames.org/search?featureClass=P&type=json&username=jaguillette&west=157.4&south=62.5&north=63.5&east=158.4"
       ]
      },
      {
       "output_type": "stream",
       "stream": "stdout",
       "text": [
        "\n",
        "http://api.geonames.org/search?featureClass=P&type=json&username=jaguillette&west=158.4&south=62.5&north=63.5&east=159.4"
       ]
      },
      {
       "output_type": "stream",
       "stream": "stdout",
       "text": [
        "\n",
        "http://api.geonames.org/search?featureClass=P&type=json&username=jaguillette&west=159.4&south=62.5&north=63.5&east=160.4"
       ]
      },
      {
       "output_type": "stream",
       "stream": "stdout",
       "text": [
        "\n",
        "http://api.geonames.org/search?featureClass=P&type=json&username=jaguillette&west=160.4&south=62.5&north=63.5&east=161.4"
       ]
      },
      {
       "output_type": "stream",
       "stream": "stdout",
       "text": [
        "\n",
        "http://api.geonames.org/search?featureClass=P&type=json&username=jaguillette&west=161.4&south=62.5&north=63.5&east=162.4"
       ]
      },
      {
       "output_type": "stream",
       "stream": "stdout",
       "text": [
        "\n",
        "http://api.geonames.org/search?featureClass=P&type=json&username=jaguillette&west=162.4&south=62.5&north=63.5&east=163.4"
       ]
      },
      {
       "output_type": "stream",
       "stream": "stdout",
       "text": [
        "\n",
        "http://api.geonames.org/search?featureClass=P&type=json&username=jaguillette&west=163.4&south=62.5&north=63.5&east=164.4"
       ]
      },
      {
       "output_type": "stream",
       "stream": "stdout",
       "text": [
        "\n",
        "http://api.geonames.org/search?featureClass=P&type=json&username=jaguillette&west=164.4&south=62.5&north=63.5&east=165.4"
       ]
      },
      {
       "output_type": "stream",
       "stream": "stdout",
       "text": [
        "\n",
        "http://api.geonames.org/search?featureClass=P&type=json&username=jaguillette&west=165.4&south=62.5&north=63.5&east=166.4"
       ]
      },
      {
       "output_type": "stream",
       "stream": "stdout",
       "text": [
        "\n",
        "http://api.geonames.org/search?featureClass=P&type=json&username=jaguillette&west=166.4&south=62.5&north=63.5&east=167.4"
       ]
      },
      {
       "output_type": "stream",
       "stream": "stdout",
       "text": [
        "\n",
        "http://api.geonames.org/search?featureClass=P&type=json&username=jaguillette&west=167.4&south=62.5&north=63.5&east=168.4"
       ]
      },
      {
       "output_type": "stream",
       "stream": "stdout",
       "text": [
        "\n",
        "http://api.geonames.org/search?featureClass=P&type=json&username=jaguillette&west=168.4&south=62.5&north=63.5&east=169.4"
       ]
      },
      {
       "output_type": "stream",
       "stream": "stdout",
       "text": [
        "\n",
        "http://api.geonames.org/search?featureClass=P&type=json&username=jaguillette&west=169.4&south=62.5&north=63.5&east=170.4"
       ]
      },
      {
       "output_type": "stream",
       "stream": "stdout",
       "text": [
        "\n",
        "http://api.geonames.org/search?featureClass=P&type=json&username=jaguillette&west=170.4&south=62.5&north=63.5&east=171.4"
       ]
      },
      {
       "output_type": "stream",
       "stream": "stdout",
       "text": [
        "\n",
        "http://api.geonames.org/search?featureClass=P&type=json&username=jaguillette&west=171.4&south=62.5&north=63.5&east=172.4"
       ]
      },
      {
       "output_type": "stream",
       "stream": "stdout",
       "text": [
        "\n",
        "http://api.geonames.org/search?featureClass=P&type=json&username=jaguillette&west=172.4&south=62.5&north=63.5&east=173.4"
       ]
      },
      {
       "output_type": "stream",
       "stream": "stdout",
       "text": [
        "\n",
        "http://api.geonames.org/search?featureClass=P&type=json&username=jaguillette&west=173.4&south=62.5&north=63.5&east=174.4"
       ]
      },
      {
       "output_type": "stream",
       "stream": "stdout",
       "text": [
        "\n",
        "http://api.geonames.org/search?featureClass=P&type=json&username=jaguillette&west=174.4&south=62.5&north=63.5&east=175.4"
       ]
      },
      {
       "output_type": "stream",
       "stream": "stdout",
       "text": [
        "\n",
        "http://api.geonames.org/search?featureClass=P&type=json&username=jaguillette&west=175.4&south=62.5&north=63.5&east=176.4"
       ]
      },
      {
       "output_type": "stream",
       "stream": "stdout",
       "text": [
        "\n",
        "http://api.geonames.org/search?featureClass=P&type=json&username=jaguillette&west=176.4&south=62.5&north=63.5&east=177.4"
       ]
      },
      {
       "output_type": "stream",
       "stream": "stdout",
       "text": [
        "\n",
        "http://api.geonames.org/search?featureClass=P&type=json&username=jaguillette&west=177.4&south=62.5&north=63.5&east=178.4"
       ]
      },
      {
       "output_type": "stream",
       "stream": "stdout",
       "text": [
        "\n",
        "http://api.geonames.org/search?featureClass=P&type=json&username=jaguillette&west=178.4&south=62.5&north=63.5&east=179.4"
       ]
      },
      {
       "output_type": "stream",
       "stream": "stdout",
       "text": [
        "\n",
        "http://api.geonames.org/search?featureClass=P&type=json&username=jaguillette&west=179.4&south=62.5&north=63.5&east=180"
       ]
      },
      {
       "output_type": "stream",
       "stream": "stdout",
       "text": [
        "\n",
        "http://api.geonames.org/search?featureClass=P&type=json&username=jaguillette&west=91.4&south=63.5&north=64.5&east=92.4"
       ]
      },
      {
       "output_type": "stream",
       "stream": "stdout",
       "text": [
        "\n",
        "http://api.geonames.org/search?featureClass=P&type=json&username=jaguillette&west=92.4&south=63.5&north=64.5&east=93.4"
       ]
      },
      {
       "output_type": "stream",
       "stream": "stdout",
       "text": [
        "\n",
        "http://api.geonames.org/search?featureClass=P&type=json&username=jaguillette&west=93.4&south=63.5&north=64.5&east=94.4"
       ]
      },
      {
       "output_type": "stream",
       "stream": "stdout",
       "text": [
        "\n",
        "http://api.geonames.org/search?featureClass=P&type=json&username=jaguillette&west=94.4&south=63.5&north=64.5&east=95.4"
       ]
      },
      {
       "output_type": "stream",
       "stream": "stdout",
       "text": [
        "\n"
       ]
      },
      {
       "ename": "KeyboardInterrupt",
       "evalue": "",
       "output_type": "pyerr",
       "traceback": [
        "\u001b[1;31m---------------------------------------------------------------------------\u001b[0m\n\u001b[1;31mKeyboardInterrupt\u001b[0m                         Traceback (most recent call last)",
        "\u001b[1;32m<ipython-input-65-799eca89aee3>\u001b[0m in \u001b[0;36m<module>\u001b[1;34m()\u001b[0m\n\u001b[0;32m     13\u001b[0m         \u001b[0marea_places\u001b[0m\u001b[1;33m.\u001b[0m\u001b[0mextend\u001b[0m\u001b[1;33m(\u001b[0m\u001b[0mresponse\u001b[0m\u001b[1;33m[\u001b[0m\u001b[1;34m'geonames'\u001b[0m\u001b[1;33m]\u001b[0m\u001b[1;33m)\u001b[0m\u001b[1;33m\u001b[0m\u001b[0m\n\u001b[0;32m     14\u001b[0m         \u001b[0mresultsCount\u001b[0m \u001b[1;33m=\u001b[0m \u001b[0mresponse\u001b[0m\u001b[1;33m[\u001b[0m\u001b[1;34m'totalResultsCount'\u001b[0m\u001b[1;33m]\u001b[0m\u001b[1;33m\u001b[0m\u001b[0m\n\u001b[1;32m---> 15\u001b[1;33m         \u001b[0mtime\u001b[0m\u001b[1;33m.\u001b[0m\u001b[0msleep\u001b[0m\u001b[1;33m(\u001b[0m\u001b[1;36m1\u001b[0m\u001b[1;33m)\u001b[0m\u001b[1;33m\u001b[0m\u001b[0m\n\u001b[0m\u001b[0;32m     16\u001b[0m         \u001b[1;32mfor\u001b[0m \u001b[0mp\u001b[0m \u001b[1;32min\u001b[0m \u001b[0mrange\u001b[0m\u001b[1;33m(\u001b[0m\u001b[1;36m100\u001b[0m\u001b[1;33m,\u001b[0m\u001b[0mresultsCount\u001b[0m\u001b[1;33m,\u001b[0m\u001b[1;36m100\u001b[0m\u001b[1;33m)\u001b[0m\u001b[1;33m:\u001b[0m\u001b[1;33m\u001b[0m\u001b[0m\n\u001b[0;32m     17\u001b[0m             \u001b[0mQ\u001b[0m\u001b[1;33m[\u001b[0m\u001b[1;34m'startRow'\u001b[0m\u001b[1;33m]\u001b[0m \u001b[1;33m=\u001b[0m \u001b[0mp\u001b[0m\u001b[1;33m\u001b[0m\u001b[0m\n",
        "\u001b[1;31mKeyboardInterrupt\u001b[0m: "
       ]
      }
     ],
     "prompt_number": 65
    },
    {
     "cell_type": "code",
     "collapsed": false,
     "input": [
      "geoname_json = {'totalResultsCount':len(area_places),'geonames':area_places}\n",
      "with open(\"resources/irkutsk_places.json\",'w+') as fp:\n",
      "    json.dump(geoname_json, fp)"
     ],
     "language": "python",
     "metadata": {},
     "outputs": [],
     "prompt_number": 59
    }
   ],
   "metadata": {}
  }
 ]
}