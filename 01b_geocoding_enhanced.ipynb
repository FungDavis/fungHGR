{
 "metadata": {
  "name": "",
  "signature": "sha256:cfd1a2cb72429ac26a5da8a60290687bb1c5abcee4109ed9c158f42f4ac9d871"
 },
 "nbformat": 3,
 "nbformat_minor": 0,
 "worksheets": [
  {
   "cells": [
    {
     "cell_type": "markdown",
     "metadata": {},
     "source": [
      "Geocoding with additional metadata\n",
      "==================================\n",
      "*JSON-style data format*  \n",
      "This geocoding process is based on the old, table-based one, but uses JSON data structures instead. This will, with any luck, be good for the eventual goal of putting all of this in MongoDB"
     ]
    },
    {
     "cell_type": "code",
     "collapsed": false,
     "input": [
      "import pandas as pd\n",
      "import numpy as np\n",
      "import requests, re, json, os, time"
     ],
     "language": "python",
     "metadata": {},
     "outputs": [],
     "prompt_number": 1
    },
    {
     "cell_type": "code",
     "collapsed": false,
     "input": [
      "with open(\"output/enhanced_dataset.json\",\"r\",encoding=\"utf-8\") as fp:\n",
      "    market_db = json.load(fp)"
     ],
     "language": "python",
     "metadata": {},
     "outputs": [],
     "prompt_number": 2
    },
    {
     "cell_type": "code",
     "collapsed": false,
     "input": [
      "import os\n",
      "def Ensure_dir(d):\n",
      "    \"\"\"Makes sure a directory 'd' exists, and if it doesn't, it creates one.\"\"\"\n",
      "    if not os.path.exists(d):\n",
      "        os.makedirs(d)\n",
      "    return 0"
     ],
     "language": "python",
     "metadata": {},
     "outputs": [],
     "prompt_number": 3
    },
    {
     "cell_type": "markdown",
     "metadata": {},
     "source": [
      "Geocoding begins here!\n",
      "======================"
     ]
    },
    {
     "cell_type": "code",
     "collapsed": false,
     "input": [
      "def geonames_request(placename,placeid,east=180,west=-180,north=90,south=-90,fuzzy=1):\n",
      "    \"\"\"\n",
      "    Takes a placename and optional bounding box, returns GeoNames response for query in dict form, with added url key\n",
      "    \"\"\"\n",
      "    url = \"http://api.geonames.org/search\"\n",
      "    Q = {'type':'json','username':'jaguillette','featureClass':'P','name':placename,'north':north,'south':south,'east':east,'west':west,'fuzzy':fuzzy}\n",
      "    R = requests.get(url,params=Q)\n",
      "    #print(R.url)\n",
      "    response = R.json()\n",
      "    Q.update({'url':R.url,'hgr_id':int(placeid)})\n",
      "    response.update({'searchinfo':Q})\n",
      "    return response"
     ],
     "language": "python",
     "metadata": {},
     "outputs": [],
     "prompt_number": 4
    },
    {
     "cell_type": "code",
     "collapsed": false,
     "input": [
      "def geo_response_parse(response,save_location=None):\n",
      "    \"\"\"\n",
      "    Takes a dict object from parsing the json of a geonames request, as returned by geonames_request.\n",
      "    Returns a dict of response properties.\n",
      "    \"\"\"\n",
      "    returnlist = []\n",
      "    try:\n",
      "        if response['totalResultsCount'] != 0:\n",
      "            for p in response['geonames']:\n",
      "                mod_dict = {}\n",
      "                for k in p:\n",
      "                    mod_dict[\"gname_{}\".format(k)] = p[k]\n",
      "                returnlist.append(mod_dict)\n",
      "            if save_location is not None:\n",
      "                if not os.path.exists(save_location):\n",
      "                    with open(save_location,'w',encoding='utf-8') as fp:\n",
      "                        json.dump(dict(response),fp,sort_keys=True)\n",
      "            #print(\"{} was found\".format(placename))\n",
      "        else:\n",
      "            returnlist = [{}]\n",
      "        for e in returnlist:\n",
      "            e['url'] = response['searchinfo']['url']\n",
      "            e['hgr_id'] = response['searchinfo']['hgr_id']\n",
      "            e['searched_name'] = response['searchinfo']['name']\n",
      "            e['fuzzy'] = response['searchinfo']['fuzzy']\n",
      "            e['north_bound'] = response['searchinfo']['north']\n",
      "            e['south_bound'] = response['searchinfo']['south']\n",
      "            e['east_bound'] = response['searchinfo']['east']\n",
      "            e['west_bound'] = response['searchinfo']['west']\n",
      "        return returnlist\n",
      "    except KeyError:\n",
      "        print(response['searchinfo']['url'])\n",
      "        return([])"
     ],
     "language": "python",
     "metadata": {},
     "outputs": [],
     "prompt_number": 5
    },
    {
     "cell_type": "code",
     "collapsed": false,
     "input": [
      "def fuzz_geonames(placename,placeid,north,south,east,west,returnlist):\n",
      "    keepgoing = True\n",
      "    fuzzy = .9\n",
      "    while keepgoing:\n",
      "        response = geonames_request(placename,placeid,east=east,west=west,north=north,south=south,fuzzy=fuzzy)\n",
      "        save_loc = \"geonames_jsons/{}_{}_f{:.2}.json\".format(placeid,placename.replace(\" \",\"_\"),fuzzy)\n",
      "        parsed = geo_response_parse(response,save_location=save_loc)\n",
      "        returnlist.extend(parsed)\n",
      "        if any('gname_geonameId' in d for d in parsed):\n",
      "            keepgoing=False\n",
      "        else:\n",
      "            fuzzy = fuzzy-.1\n",
      "            if fuzzy<0:\n",
      "                print(\"{} was not found at max fuzz.\".format(placename))\n",
      "                keepgoing = False\n",
      "            time.sleep(1)\n",
      "        return returnlist"
     ],
     "language": "python",
     "metadata": {},
     "outputs": [],
     "prompt_number": 6
    },
    {
     "cell_type": "code",
     "collapsed": false,
     "input": [
      "def geonames_lookup(placename,placeid,east=180,west=-180,north=90,south=-90,alt_name=None):\n",
      "    \"\"\"\n",
      "    Queries geonames for given placename within bounding boxes.\n",
      "    Also queries for alternate spellings if no main spelling is found.\n",
      "    \"\"\"\n",
      "    Ensure_dir(\"geonames_jsons\")\n",
      "    returnlist = []\n",
      "    re_list = [[r'(\u043e\u0439)($|\\s)',r'\u0438\u0439\\2'],[r'(\u0441\u043a)($|\\s)',r'\\2'],[r'(\u0432)$',r'\\1\u043e']]\n",
      "    #Generating a list of possible placenames based on above regex.\n",
      "    #Placename will be added, then removed for de-duplication after set operation.\n",
      "    pname_list = [placename]\n",
      "    if alt_name is not None:\n",
      "        pname_list.append(alt_name)\n",
      "    for pair in re_list:\n",
      "        pname_list.append(re.sub(pair[0],pair[1],placename))\n",
      "    pname_list = set(pname_list)\n",
      "    pname_list.remove(placename)\n",
      "    #First geocoding attempt\n",
      "    response1 = geonames_request(placename,placeid,east=east,west=west,north=north,south=south)\n",
      "    #print(\"Now querying {}...\".format(placename))\n",
      "    time.sleep(1)\n",
      "    save_loc = \"geonames_jsons/{}_{}.json\".format(placeid,placename.replace(\" \",\"_\"))\n",
      "    parsed1 = geo_response_parse(response1,save_location=save_loc)\n",
      "    returnlist.extend(parsed1)\n",
      "    if not any('gname_geonameId' in d for d in parsed1):\n",
      "        for p in pname_list:\n",
      "            time.sleep(1)\n",
      "            print(\"Querying alternate name {}\".format(p))\n",
      "            response = geonames_request(p,placeid,east=east,west=west,north=north,south=south)\n",
      "            save_loc = \"geonames_jsons/{}_{}.json\".format(placeid,p.replace(\" \",\"_\"))\n",
      "            parsed = geo_response_parse(response,save_location=save_loc)\n",
      "            returnlist.extend(parsed)\n",
      "    if not any('gname_geonameId' in d for d in returnlist):\n",
      "        returnlist = fuzz_geonames(placename,placeid,north,south,east,west,returnlist)\n",
      "        if alt_name is not None:\n",
      "            returnlist = fuzz_geonames(alt_name,placeid,north,south,east,west,returnlist)\n",
      "    return returnlist"
     ],
     "language": "python",
     "metadata": {},
     "outputs": [],
     "prompt_number": 7
    },
    {
     "cell_type": "code",
     "collapsed": false,
     "input": [
      "with open(\"resources/partof_prov_bounds.json\",'r',encoding = 'utf-8') as fp:\n",
      "    bounding_dict = json.load(fp)"
     ],
     "language": "python",
     "metadata": {},
     "outputs": [],
     "prompt_number": 8
    },
    {
     "cell_type": "markdown",
     "metadata": {},
     "source": [
      "*Old Code*  \n",
      "no_prov = len(market_df.ix[market_df.admin1_partofID.isnull()])\n",
      "no_uezd = len(market_df.ix[market_df.admin2_partofID.isnull()])\n",
      "total = len(market_df)\n",
      "print(\"{1} / {0} ({2:.2%}) towns have no Namiestnichestvo recorded\\n{3} / {0} ({4:.2%}) towns have no Uyezd recorded\".format(total,no_prov,no_prov/total,no_uezd,no_uezd/total))"
     ]
    },
    {
     "cell_type": "markdown",
     "metadata": {},
     "source": [
      "Market Town Geocoding\n",
      "====================="
     ]
    },
    {
     "cell_type": "code",
     "collapsed": false,
     "input": [
      "geocoded = []\n",
      "problem_prov = []\n",
      "d = 4\n",
      "for k,v in market_db.items():\n",
      "    if 'geo' not in v.keys():\n",
      "        alt = v['alt_name_new_orth']\n",
      "        if v[\"admin1_partofID\"] is None or v[\"admin1_partofID\"] in ['not_in_text','\u043d\u043e\u0442_\u0438\u043d_\u0442\u0435x\u0442']:\n",
      "            geocoded.extend(geonames_lookup(v['ru_new_orth'],k,alt_name=alt))\n",
      "        else:\n",
      "            try:\n",
      "                loc = bounding_dict[str(v['admin1_partofID'])]\n",
      "            except KeyError:\n",
      "                print(v['admin1_partofID'])\n",
      "                problem_prov.append(v['admin1.partofID'])\n",
      "                continue\n",
      "            except ValueError:\n",
      "                N, S, E, W = 90, -90, 180, -180\n",
      "            if \"boundaries\" in loc:\n",
      "                W, S, E, N = loc[\"boundaries\"][0], loc[\"boundaries\"][1], loc[\"boundaries\"][2], loc[\"boundaries\"][3]\n",
      "            else:\n",
      "                N, S, E, W = loc[\"center\"][0]+d, loc[\"center\"][0]-d, loc[\"center\"][1]-d, loc[\"center\"][1]+d\n",
      "            geocoded.extend(geonames_lookup(v['ru_new_orth'],k,north=N,south=S,west=W,east=E,alt_name=alt))\n",
      "        print(\"Looked up {}.\".format(v['ru_new_orth']))"
     ],
     "language": "python",
     "metadata": {},
     "outputs": [
      {
       "output_type": "stream",
       "stream": "stdout",
       "text": [
        "Looked up \u041b\u0443\u0436\u043a\u0438.\n",
        "Looked up \u041c\u0430\u0441\u043b\u0435\u043d\u0441\u043a\u0430\u044f."
       ]
      },
      {
       "output_type": "stream",
       "stream": "stdout",
       "text": [
        "\n",
        "Looked up \u041d\u043e\u0432\u043e\u043d\u0438\u043a\u043e\u043b\u044c\u0441\u043a\u043e\u0435."
       ]
      },
      {
       "output_type": "stream",
       "stream": "stdout",
       "text": [
        "\n",
        "Looked up \u0427\u0430\u0441\u043e\u0432\u043d\u044f \u0410\u043f\u043e\u0441\u0442\u043e\u043b\u0430 \u0424\u043e\u043c\u044b."
       ]
      },
      {
       "output_type": "stream",
       "stream": "stdout",
       "text": [
        "\n",
        "Looked up \u041c\u044f\u0433\u043a\u043e\u0435."
       ]
      },
      {
       "output_type": "stream",
       "stream": "stdout",
       "text": [
        "\n",
        "Looked up \u0410\u043d\u0442\u043e\u043d\u043e\u0432\u043a\u0430."
       ]
      },
      {
       "output_type": "stream",
       "stream": "stdout",
       "text": [
        "\n",
        "Looked up \u0413\u043e\u0440\u043e\u0434\u043e\u043a."
       ]
      },
      {
       "output_type": "stream",
       "stream": "stdout",
       "text": [
        "\n",
        "Querying alternate name \u0427\u0435\u0440\u0438\u043e\u043e\u0441\u0442\u0440\u043e\u0436\u0441\u043a\u0438\u0439 \u041d\u0438\u043a\u043e\u043b\u0430\u0435\u0432\u0441\u043a\u0438\u0439"
       ]
      },
      {
       "output_type": "stream",
       "stream": "stdout",
       "text": [
        "\n",
        "Looked up \u0427\u0435\u0440\u0438\u043e\u043e\u0441\u0442\u0440\u043e\u0436\u0441\u043a\u043e\u0439 \u041d\u0438\u043a\u043e\u043b\u0430\u0435\u0432\u0441\u043a\u043e\u0439."
       ]
      },
      {
       "output_type": "stream",
       "stream": "stdout",
       "text": [
        "\n",
        "Looked up \u0421\u0442\u0430\u0440\u043e\u0434\u0443\u0431."
       ]
      },
      {
       "output_type": "stream",
       "stream": "stdout",
       "text": [
        "\n",
        "Looked up \u041f\u0435\u043d\u0430."
       ]
      },
      {
       "output_type": "stream",
       "stream": "stdout",
       "text": [
        "\n",
        "Looked up \u041a\u0440\u0430\u0441\u043d\u043e\u0435."
       ]
      },
      {
       "output_type": "stream",
       "stream": "stdout",
       "text": [
        "\n",
        "Querying alternate name \u0427\u0435\u0440\u043d\u0435\u0435\u0432 \u041d\u0438\u043a\u043e\u043b\u0430\u0435\u0432\u0441\u043a\u0438\u0439"
       ]
      },
      {
       "output_type": "stream",
       "stream": "stdout",
       "text": [
        "\n",
        "Looked up \u0427\u0435\u0440\u043d\u0435\u0435\u0432 \u041d\u0438\u043a\u043e\u043b\u0430\u0435\u0432\u0441\u043a\u043e\u0439."
       ]
      },
      {
       "output_type": "stream",
       "stream": "stdout",
       "text": [
        "\n",
        "Looked up \u0418\u0447\u043d\u0430."
       ]
      },
      {
       "output_type": "stream",
       "stream": "stdout",
       "text": [
        "\n",
        "Looked up \u041f\u043e\u0440\u0435\u0447\u044c\u0435."
       ]
      },
      {
       "output_type": "stream",
       "stream": "stdout",
       "text": [
        "\n",
        "Querying alternate name \u0413\u043b\u0435\u043c\u044f\u0437\u043e\u0432\u043e"
       ]
      },
      {
       "output_type": "stream",
       "stream": "stdout",
       "text": [
        "\n",
        "Looked up \u0413\u043b\u0435\u043c\u044f\u0437\u043e\u0432."
       ]
      },
      {
       "output_type": "stream",
       "stream": "stdout",
       "text": [
        "\n",
        "Looked up \u041e\u0440\u0435\u043d\u0431\u0443\u0440\u0433."
       ]
      },
      {
       "output_type": "stream",
       "stream": "stdout",
       "text": [
        "\n",
        "Looked up \u041d\u0435\u0432\u0435\u043b\u044c."
       ]
      },
      {
       "output_type": "stream",
       "stream": "stdout",
       "text": [
        "\n",
        "Looked up \u041a\u0443\u043d\u0433\u0443\u0440."
       ]
      },
      {
       "output_type": "stream",
       "stream": "stdout",
       "text": [
        "\n",
        "Querying alternate name \u0425\u0430\u043b\u0430\u043d\u044c"
       ]
      },
      {
       "output_type": "stream",
       "stream": "stdout",
       "text": [
        "\n",
        "Looked up \u0415\u043a\u0430\u0442\u0435\u0440\u0438\u043d\u0438\u043d\u0441\u043a\u0430\u044f."
       ]
      },
      {
       "output_type": "stream",
       "stream": "stdout",
       "text": [
        "\n",
        "Looked up \u041a\u0440\u0435\u043c\u0435\u043d\u0447\u0443\u0433."
       ]
      },
      {
       "output_type": "stream",
       "stream": "stdout",
       "text": [
        "\n",
        "Looked up \u0425\u0440\u0443\u0449\u043e\u0432\u043e."
       ]
      },
      {
       "output_type": "stream",
       "stream": "stdout",
       "text": [
        "\n",
        "Looked up \u0411\u0435\u0437\u0433\u0438\u043d\u043e\u0432\u043a\u0430."
       ]
      },
      {
       "output_type": "stream",
       "stream": "stdout",
       "text": [
        "\n",
        "Querying alternate name \u041b\u0435\u0432\u043a\u0438\u0435\u0432\u043e"
       ]
      },
      {
       "output_type": "stream",
       "stream": "stdout",
       "text": [
        "\n",
        "Looked up \u041b\u0435\u0432\u043a\u0438\u0435\u0432."
       ]
      },
      {
       "output_type": "stream",
       "stream": "stdout",
       "text": [
        "\n",
        "Looked up \u041a\u043e\u0431\u044b\u043b\u044f\u043a."
       ]
      },
      {
       "output_type": "stream",
       "stream": "stdout",
       "text": [
        "\n",
        "Looked up \u0428\u0438\u043f\u0438\u043d\u043e."
       ]
      },
      {
       "output_type": "stream",
       "stream": "stdout",
       "text": [
        "\n",
        "Looked up \u0424\u043b\u043e\u0440\u0438\u0449\u0435\u0432\u0430."
       ]
      },
      {
       "output_type": "stream",
       "stream": "stdout",
       "text": [
        "\n",
        "Looked up \u041f\u043e\u043a\u0440\u043e\u0432\u0441\u043a\u043e\u0435."
       ]
      },
      {
       "output_type": "stream",
       "stream": "stdout",
       "text": [
        "\n",
        "Looked up \u041c\u043e\u0448\u0435\u0439\u043a\u0430."
       ]
      },
      {
       "output_type": "stream",
       "stream": "stdout",
       "text": [
        "\n",
        "Looked up \u0414\u0435\u0440\u0433\u0430\u0447\u0438."
       ]
      },
      {
       "output_type": "stream",
       "stream": "stdout",
       "text": [
        "\n",
        "Looked up \u041c\u0430\u0447\u0443\u0445\u0430."
       ]
      },
      {
       "output_type": "stream",
       "stream": "stdout",
       "text": [
        "\n",
        "Looked up \u0418\u0432\u0438\u0446\u0430."
       ]
      },
      {
       "output_type": "stream",
       "stream": "stdout",
       "text": [
        "\n",
        "Looked up \u0413\u0430\u0432\u0440\u0438\u043b\u043e\u0432\u0430."
       ]
      },
      {
       "output_type": "stream",
       "stream": "stdout",
       "text": [
        "\n",
        "Looked up \u0411\u0435\u043b\u0438\u043a\u0438."
       ]
      },
      {
       "output_type": "stream",
       "stream": "stdout",
       "text": [
        "\n",
        "Querying alternate name \u041d\u0435\u043b\u044c\u044f\u043d\u0441\u043a\u0438\u0439"
       ]
      },
      {
       "output_type": "stream",
       "stream": "stdout",
       "text": [
        "\n",
        "Looked up \u041d\u0435\u043b\u044c\u044f\u043d\u0441\u043a\u043e\u0439."
       ]
      },
      {
       "output_type": "stream",
       "stream": "stdout",
       "text": [
        "\n",
        "Looked up \u041a\u0440\u044b\u043b\u0435\u0435\u0432\u043e."
       ]
      },
      {
       "output_type": "stream",
       "stream": "stdout",
       "text": [
        "\n",
        "Looked up \u041b\u0443\u0431\u043d\u044b."
       ]
      },
      {
       "output_type": "stream",
       "stream": "stdout",
       "text": [
        "\n",
        "Looked up \u041a\u043e\u0436\u0438\u043d\u043e."
       ]
      },
      {
       "output_type": "stream",
       "stream": "stdout",
       "text": [
        "\n",
        "Looked up \u0420\u0438\u0433\u0430."
       ]
      },
      {
       "output_type": "stream",
       "stream": "stdout",
       "text": [
        "\n",
        "Querying alternate name \u041b\u0430\u0434\u0438\u043d\u0441\u043a\u0438\u0439"
       ]
      },
      {
       "output_type": "stream",
       "stream": "stdout",
       "text": [
        "\n",
        "Looked up \u041b\u0430\u0434\u0438\u043d\u0441\u043a\u043e\u0439."
       ]
      },
      {
       "output_type": "stream",
       "stream": "stdout",
       "text": [
        "\n",
        "Looked up \u0428\u043e\u043a\u0438\u043d\u043e."
       ]
      },
      {
       "output_type": "stream",
       "stream": "stdout",
       "text": [
        "\n",
        "Looked up \u041e\u0441\u0442\u0435\u0440."
       ]
      },
      {
       "output_type": "stream",
       "stream": "stdout",
       "text": [
        "\n",
        "Looked up \u041a\u043e\u0440\u043e\u0432\u0430\u0439."
       ]
      },
      {
       "output_type": "stream",
       "stream": "stdout",
       "text": [
        "\n",
        "Querying alternate name \u041a\u043e\u043a\u043e\u0432\u0438\u043d\u043e"
       ]
      },
      {
       "output_type": "stream",
       "stream": "stdout",
       "text": [
        "\n",
        "Looked up \u041a\u043e\u043a\u0432\u0438\u043d\u043e."
       ]
      },
      {
       "output_type": "stream",
       "stream": "stdout",
       "text": [
        "\n",
        "Looked up \u0412\u0435\u0442\u043a\u0430."
       ]
      },
      {
       "output_type": "stream",
       "stream": "stdout",
       "text": [
        "\n",
        "Looked up \u0413\u043b\u0438\u043d\u0441\u043a."
       ]
      },
      {
       "output_type": "stream",
       "stream": "stdout",
       "text": [
        "\n",
        "Querying alternate name \u0421\u0435\u0434\u043d\u0435\u0432\u043e"
       ]
      },
      {
       "output_type": "stream",
       "stream": "stdout",
       "text": [
        "\n",
        "Looked up \u0421\u0435\u0434\u043d\u0435\u0432."
       ]
      },
      {
       "output_type": "stream",
       "stream": "stdout",
       "text": [
        "\n",
        "Looked up \u0411\u0430\u0435\u0432\u043a\u0430."
       ]
      },
      {
       "output_type": "stream",
       "stream": "stdout",
       "text": [
        "\n",
        "Looked up \u0421\u0442\u0435\u0448\u043a\u0438."
       ]
      },
      {
       "output_type": "stream",
       "stream": "stdout",
       "text": [
        "\n",
        "Looked up \u041a\u0430\u0440\u0430\u0441\u0443 - \u0411\u0430\u0437\u0430\u0440."
       ]
      },
      {
       "output_type": "stream",
       "stream": "stdout",
       "text": [
        "\n",
        "Looked up \u0414\u0435\u0440\u043a\u0443\u043b."
       ]
      },
      {
       "output_type": "stream",
       "stream": "stdout",
       "text": [
        "\n",
        "Looked up \u041e\u0441\u043a\u0438\u043d\u043e."
       ]
      },
      {
       "output_type": "stream",
       "stream": "stdout",
       "text": [
        "\n",
        "Looked up \u0411\u043e\u0433\u0430\u0447\u043a\u0430."
       ]
      },
      {
       "output_type": "stream",
       "stream": "stdout",
       "text": [
        "\n",
        "Looked up \u041a\u0438\u0441\u0442\u0440\u0443\u0441\u0430."
       ]
      },
      {
       "output_type": "stream",
       "stream": "stdout",
       "text": [
        "\n",
        "Looked up \u0411\u043e\u0439\u043d\u044f."
       ]
      },
      {
       "output_type": "stream",
       "stream": "stdout",
       "text": [
        "\n",
        "Looked up \u0421\u043e\u043b\u044c\u0446\u043e."
       ]
      },
      {
       "output_type": "stream",
       "stream": "stdout",
       "text": [
        "\n",
        "Looked up \u041a\u0435\u0441\u043c\u0435."
       ]
      },
      {
       "output_type": "stream",
       "stream": "stdout",
       "text": [
        "\n",
        "Looked up \u041f\u043e\u0433\u0440\u043e\u043c\u0446\u0430."
       ]
      },
      {
       "output_type": "stream",
       "stream": "stdout",
       "text": [
        "\n",
        "Looked up \u0411\u0435\u0440\u043a\u0443\u043d\u043e\u0432\u0430."
       ]
      },
      {
       "output_type": "stream",
       "stream": "stdout",
       "text": [
        "\n",
        "Looked up \u041f\u043e\u043a\u0440\u043e\u0432\u0441\u043a\u043e\u0435."
       ]
      },
      {
       "output_type": "stream",
       "stream": "stdout",
       "text": [
        "\n",
        "Looked up \u0423\u0442\u0432\u044b\u043c\u0441\u043a\u0430\u044f."
       ]
      },
      {
       "output_type": "stream",
       "stream": "stdout",
       "text": [
        "\n",
        "Querying alternate name \u041a\u043e\u043b\u044b\u043c\u0441\u043a\u043e\u0435"
       ]
      },
      {
       "output_type": "stream",
       "stream": "stdout",
       "text": [
        "\n",
        "Looked up \u041a\u043e\u0432\u044b\u043c\u0441\u043a\u043e\u0435."
       ]
      },
      {
       "output_type": "stream",
       "stream": "stdout",
       "text": [
        "\n",
        "Querying alternate name \u0414\u0443\u0431\u0435\u0446\u043a\u0438\u0439"
       ]
      },
      {
       "output_type": "stream",
       "stream": "stdout",
       "text": [
        "\n",
        "Looked up \u0414\u0443\u0431\u0435\u0446\u043a\u043e\u0439."
       ]
      },
      {
       "output_type": "stream",
       "stream": "stdout",
       "text": [
        "\n",
        "Looked up \u0422\u0438\u0445\u043e\u043d\u043e\u0432\u0430."
       ]
      },
      {
       "output_type": "stream",
       "stream": "stdout",
       "text": [
        "\n",
        "Querying alternate name \u041a\u043e\u043c\u0435\u043b\u044c \u041a\u043e\u0440\u043d\u0438\u043b\u0438\u0435\u0432"
       ]
      },
      {
       "output_type": "stream",
       "stream": "stdout",
       "text": [
        "\n",
        "Querying alternate name \u041a\u043e\u043c\u0435\u043b\u044c\u0441\u043a \u041a\u043e\u0440\u043d\u0438\u043b\u0438\u0435\u0432\u043e"
       ]
      },
      {
       "output_type": "stream",
       "stream": "stdout",
       "text": [
        "\n",
        "Looked up \u041a\u043e\u043c\u0435\u043b\u044c\u0441\u043a \u041a\u043e\u0440\u043d\u0438\u043b\u0438\u0435\u0432."
       ]
      },
      {
       "output_type": "stream",
       "stream": "stdout",
       "text": [
        "\n",
        "Looked up \u0411\u0430\u0445\u043c\u0430\u0447\u044c."
       ]
      },
      {
       "output_type": "stream",
       "stream": "stdout",
       "text": [
        "\n",
        "Looked up \u041f\u043e\u0432\u043e\u0434\u043d\u0435\u0432\u043e."
       ]
      },
      {
       "output_type": "stream",
       "stream": "stdout",
       "text": [
        "\n",
        "Looked up \u0425\u043e\u043b\u043c \u0423 \u0421\u043f\u0430\u0441\u0430."
       ]
      },
      {
       "output_type": "stream",
       "stream": "stdout",
       "text": [
        "\n",
        "Querying alternate name \u0413\u043b\u0443\u0448\u0438\u0446\u043a\u0438\u0439"
       ]
      },
      {
       "output_type": "stream",
       "stream": "stdout",
       "text": [
        "\n",
        "Looked up \u0413\u043b\u0443\u0448\u0438\u0446\u043a\u043e\u0439."
       ]
      },
      {
       "output_type": "stream",
       "stream": "stdout",
       "text": [
        "\n",
        "Looked up \u041e\u043b\u044b\u0448\u0430\u043d\u0430\u044f."
       ]
      },
      {
       "output_type": "stream",
       "stream": "stdout",
       "text": [
        "\n",
        "Looked up \u0421\u0430\u0441\u043e\u0432\u043e."
       ]
      },
      {
       "output_type": "stream",
       "stream": "stdout",
       "text": [
        "\n",
        "Looked up \u041f\u0443\u0442\u044f\u0442\u0438\u043d\u043e."
       ]
      },
      {
       "output_type": "stream",
       "stream": "stdout",
       "text": [
        "\n",
        "Looked up \u041b\u0438\u043f\u043e\u0432\u0441\u043a\u043e\u0435."
       ]
      },
      {
       "output_type": "stream",
       "stream": "stdout",
       "text": [
        "\n",
        "Looked up \u041f\u0438\u0441\u0446\u043e\u0432\u043e."
       ]
      },
      {
       "output_type": "stream",
       "stream": "stdout",
       "text": [
        "\n",
        "Looked up \u041a\u0440\u0438\u0432\u043e\u043d\u0430\u0432\u043e\u043b\u043e\u0446\u043a\u0430\u044f."
       ]
      },
      {
       "output_type": "stream",
       "stream": "stdout",
       "text": [
        "\n",
        "Looked up \u0421\u0442\u0440\u0435\u043b\u0438\u0446\u0430."
       ]
      },
      {
       "output_type": "stream",
       "stream": "stdout",
       "text": [
        "\n",
        "Looked up \u041f\u0441\u043a\u043e\u0432."
       ]
      },
      {
       "output_type": "stream",
       "stream": "stdout",
       "text": [
        "\n",
        "Looked up \u0415\u043d\u0438\u0441\u0435\u0439\u0441\u043a."
       ]
      },
      {
       "output_type": "stream",
       "stream": "stdout",
       "text": [
        "\n",
        "Looked up \u041a\u0443\u043f\u0435\u043d\u043a\u0430."
       ]
      },
      {
       "output_type": "stream",
       "stream": "stdout",
       "text": [
        "\n",
        "Looked up \u0421\u043e\u0441\u043d\u0438\u0446\u0430."
       ]
      },
      {
       "output_type": "stream",
       "stream": "stdout",
       "text": [
        "\n",
        "Looked up \u041d\u043e\u0432\u044b\u0435 \u041c\u043b\u0438\u043d\u044b."
       ]
      },
      {
       "output_type": "stream",
       "stream": "stdout",
       "text": [
        "\n",
        "Looked up \u041a\u043b\u044e\u0447\u0435\u0432\u0441\u043a\u0430\u044f."
       ]
      },
      {
       "output_type": "stream",
       "stream": "stdout",
       "text": [
        "\n",
        "Looked up \u041b\u0435\u0431\u0435\u0434\u044f\u043d\u044c."
       ]
      },
      {
       "output_type": "stream",
       "stream": "stdout",
       "text": [
        "\n",
        "Looked up \u0422\u0443\u0433\u043b\u0438\u043d\u0441\u043a\u0430\u044f."
       ]
      },
      {
       "output_type": "stream",
       "stream": "stdout",
       "text": [
        "\n",
        "Looked up \u0428\u0430\u0442\u0441\u043a."
       ]
      },
      {
       "output_type": "stream",
       "stream": "stdout",
       "text": [
        "\n",
        "Looked up \u0411\u043e\u0433\u0430\u0442\u0438\u0449\u0435\u0431\u043e."
       ]
      },
      {
       "output_type": "stream",
       "stream": "stdout",
       "text": [
        "\n",
        "Querying alternate name \u041a\u0430\u0437\u0430\u043d\u0441\u043a\u0438\u0439 \u0411\u043e\u0433\u043e\u0440\u043e\u0434\u0438\u0446\u043a\u0438\u0439"
       ]
      },
      {
       "output_type": "stream",
       "stream": "stdout",
       "text": [
        "\n",
        "Looked up \u041a\u0430\u0437\u0430\u043d\u0441\u043a\u043e\u0439 \u0411\u043e\u0433\u043e\u0440\u043e\u0434\u0438\u0446\u043a\u043e\u0439."
       ]
      },
      {
       "output_type": "stream",
       "stream": "stdout",
       "text": [
        "\n",
        "Looked up \u041a\u043e\u043c\u043b\u0438\u0447\u043a\u0438."
       ]
      },
      {
       "output_type": "stream",
       "stream": "stdout",
       "text": [
        "\n",
        "Looked up \u041f\u0443\u043f\u043a\u0438."
       ]
      },
      {
       "output_type": "stream",
       "stream": "stdout",
       "text": [
        "\n",
        "Looked up \u0423\u0437\u0435\u043b\u044c."
       ]
      },
      {
       "output_type": "stream",
       "stream": "stdout",
       "text": [
        "\n",
        "Looked up \u041f\u044f\u0442\u043d\u0438\u0446\u043a\u043e\u0435."
       ]
      },
      {
       "output_type": "stream",
       "stream": "stdout",
       "text": [
        "\n",
        "Querying alternate name \u041c\u043e\u0440\u043e\u043c"
       ]
      },
      {
       "output_type": "stream",
       "stream": "stdout",
       "text": [
        "\n",
        "Querying alternate name \u041c\u043e\u0440\u043e\u043c\u0435\u0441\u043a"
       ]
      },
      {
       "output_type": "stream",
       "stream": "stdout",
       "text": [
        "\n",
        "Looked up \u041c\u043e\u0440\u043e\u043c\u0441\u043a."
       ]
      },
      {
       "output_type": "stream",
       "stream": "stdout",
       "text": [
        "\n",
        "Querying alternate name \u0418\u043e\u0441\u0438\u0444\u043e\u0432\u043e"
       ]
      },
      {
       "output_type": "stream",
       "stream": "stdout",
       "text": [
        "\n",
        "Looked up \u0418\u043e\u0441\u0438\u0444\u043e\u0432."
       ]
      },
      {
       "output_type": "stream",
       "stream": "stdout",
       "text": [
        "\n",
        "Looked up \u041c\u0430\u0448\u0435\u0432."
       ]
      },
      {
       "output_type": "stream",
       "stream": "stdout",
       "text": [
        "\n",
        "Looked up \u0411\u0430\u0442\u0440\u0430\u043a."
       ]
      },
      {
       "output_type": "stream",
       "stream": "stdout",
       "text": [
        "\n",
        "Looked up \u041a\u043e\u0431\u044b\u0437\u0447\u0430."
       ]
      },
      {
       "output_type": "stream",
       "stream": "stdout",
       "text": [
        "\n",
        "Querying alternate name \u041a\u0440\u0430\u0441\u043d\u043e\u043a\u0430\u043c\u0435\u043d\u0441\u043a\u0438\u0439"
       ]
      },
      {
       "output_type": "stream",
       "stream": "stdout",
       "text": [
        "\n",
        "Looked up \u041a\u0440\u0430\u0441\u043d\u043e\u043a\u0430\u043c\u0435\u043d\u0441\u043a\u043e\u0439."
       ]
      },
      {
       "output_type": "stream",
       "stream": "stdout",
       "text": [
        "\n",
        "Looked up \u0410\u0434\u043e\u0432\u0430\u0442\u043e\u0432\u043e."
       ]
      },
      {
       "output_type": "stream",
       "stream": "stdout",
       "text": [
        "\n",
        "Looked up \u041e\u0440\u043b\u0438\u043a."
       ]
      },
      {
       "output_type": "stream",
       "stream": "stdout",
       "text": [
        "\n",
        "Querying alternate name \u0427\u0435\u0440\u0435\u043d\u0447\u0438\u0446\u043a\u0438\u0439"
       ]
      },
      {
       "output_type": "stream",
       "stream": "stdout",
       "text": [
        "\n",
        "Looked up \u0427\u0435\u0440\u0435\u043d\u0447\u0438\u0446\u043a\u043e\u0439."
       ]
      },
      {
       "output_type": "stream",
       "stream": "stdout",
       "text": [
        "\n",
        "Looked up \u041f\u043e\u0447\u0438\u043d\u043a\u0438."
       ]
      },
      {
       "output_type": "stream",
       "stream": "stdout",
       "text": [
        "\n",
        "Looked up \u0423\u0445\u043e\u043b\u043e\u0432\u043e."
       ]
      },
      {
       "output_type": "stream",
       "stream": "stdout",
       "text": [
        "\n",
        "Looked up \u0413\u043b\u0443\u0445\u043e\u0432."
       ]
      },
      {
       "output_type": "stream",
       "stream": "stdout",
       "text": [
        "\n",
        "Querying alternate name \u0411\u0435\u043b\u043e\u0437\u0435\u0440\u0441\u043a\u043e\u0439 \u041a\u0438\u0440\u0438\u043b\u043e\u0432\u043e"
       ]
      },
      {
       "output_type": "stream",
       "stream": "stdout",
       "text": [
        "\n",
        "Querying alternate name \u0411\u0435\u043b\u043e\u0437\u0435\u0440\u0441\u043a\u0438\u0439 \u041a\u0438\u0440\u0438\u043b\u043e\u0432"
       ]
      },
      {
       "output_type": "stream",
       "stream": "stdout",
       "text": [
        "\n",
        "Looked up \u0411\u0435\u043b\u043e\u0437\u0435\u0440\u0441\u043a\u043e\u0439 \u041a\u0438\u0440\u0438\u043b\u043e\u0432."
       ]
      },
      {
       "output_type": "stream",
       "stream": "stdout",
       "text": [
        "\n",
        "Looked up \u041b\u0435\u0432\u044b\u0435 \u041b\u0430\u043c\u043a\u0438."
       ]
      },
      {
       "output_type": "stream",
       "stream": "stdout",
       "text": [
        "\n",
        "Looked up \u041b\u0443\u043a\u043e\u043c\u043b\u044f."
       ]
      },
      {
       "output_type": "stream",
       "stream": "stdout",
       "text": [
        "\n",
        "Looked up \u0412\u044b\u0448\u0433\u043e\u0440\u043e\u0434."
       ]
      },
      {
       "output_type": "stream",
       "stream": "stdout",
       "text": [
        "\n",
        "Looked up \u0411\u0443\u0448\u043d\u0440\u0432\u043e."
       ]
      },
      {
       "output_type": "stream",
       "stream": "stdout",
       "text": [
        "\n",
        "Looked up \u0410\u0440\u0445\u0430\u043d\u0433\u0435\u043b\u044c\u0441\u043a\u043e\u0435."
       ]
      },
      {
       "output_type": "stream",
       "stream": "stdout",
       "text": [
        "\n",
        "Looked up \u0411\u0435\u043b\u043e\u0446\u0435\u0440\u043a\u043e\u0432\u043a\u0430."
       ]
      },
      {
       "output_type": "stream",
       "stream": "stdout",
       "text": [
        "\n",
        "Looked up \u041c\u0430\u0440\u043a\u0443\u0448\u0435\u0432\u0441\u043a\u0430\u044f."
       ]
      },
      {
       "output_type": "stream",
       "stream": "stdout",
       "text": [
        "\n",
        "Looked up \u0411\u0435\u043b\u043e\u0435."
       ]
      },
      {
       "output_type": "stream",
       "stream": "stdout",
       "text": [
        "\n",
        "Looked up \u0427\u0438\u0433\u0438\u0440\u0438\u043d\u044a-\u0414\u0443\u0431\u0440\u043e\u0432\u0430."
       ]
      },
      {
       "output_type": "stream",
       "stream": "stdout",
       "text": [
        "\n",
        "Looked up \u0422\u0438\u0445\u043e\u043d\u043e\u0432\u0430."
       ]
      },
      {
       "output_type": "stream",
       "stream": "stdout",
       "text": [
        "\n",
        "Looked up \u0410\u0441\u0430\u043a\u043e\u0432\u043e."
       ]
      },
      {
       "output_type": "stream",
       "stream": "stdout",
       "text": [
        "\n",
        "Looked up \u0411\u0443\u0434\u0438\u0447\u044c."
       ]
      },
      {
       "output_type": "stream",
       "stream": "stdout",
       "text": [
        "\n",
        "Looked up \u0411\u043e\u0431\u044b\u043b\u0435\u0432\u0441\u043a\u043e\u0435."
       ]
      },
      {
       "output_type": "stream",
       "stream": "stdout",
       "text": [
        "\n",
        "Querying alternate name \u0421\u044f\u043c\u0441\u043a\u0438\u0439"
       ]
      },
      {
       "output_type": "stream",
       "stream": "stdout",
       "text": [
        "\n",
        "Looked up \u0421\u044f\u043c\u0441\u043a\u043e\u0439."
       ]
      },
      {
       "output_type": "stream",
       "stream": "stdout",
       "text": [
        "\n",
        "Looked up \u041a\u0438\u0430\u0442\u0430."
       ]
      },
      {
       "output_type": "stream",
       "stream": "stdout",
       "text": [
        "\n",
        "Querying alternate name \u041a\u0440\u0435\u043c\u0435\u043d\u043d\u0438\u0439"
       ]
      },
      {
       "output_type": "stream",
       "stream": "stdout",
       "text": [
        "\n",
        "Looked up \u041a\u0440\u0435\u043c\u0435\u043d\u043d\u043e\u0439."
       ]
      },
      {
       "output_type": "stream",
       "stream": "stdout",
       "text": [
        "\n",
        "Querying alternate name \u0414\u0443\u0431\u043a\u043e\u0432\u043e"
       ]
      },
      {
       "output_type": "stream",
       "stream": "stdout",
       "text": [
        "\n",
        "Looked up \u0414\u0443\u0431\u043a\u043e\u0432."
       ]
      },
      {
       "output_type": "stream",
       "stream": "stdout",
       "text": [
        "\n",
        "Looked up \u0411\u043e\u0433\u043e\u044f\u0432\u043b\u0435\u043d\u0441\u043a\u0430\u044f."
       ]
      },
      {
       "output_type": "stream",
       "stream": "stdout",
       "text": [
        "\n",
        "Looked up \u041a\u0440\u0438\u0436\u0431\u0443\u0440\u0433."
       ]
      },
      {
       "output_type": "stream",
       "stream": "stdout",
       "text": [
        "\n",
        "Looked up \u0427\u0435\u0440\u043b\u044f\u043d\u043a\u043e\u0432\u043e."
       ]
      },
      {
       "output_type": "stream",
       "stream": "stdout",
       "text": [
        "\n",
        "Looked up \u041d\u0435\u0440\u0435\u0445\u0442\u0430."
       ]
      },
      {
       "output_type": "stream",
       "stream": "stdout",
       "text": [
        "\n",
        "Looked up \u041a\u0438\u0442\u0430\u0439 - \u0413\u043e\u0440\u043e\u0434\u043e\u043a."
       ]
      },
      {
       "output_type": "stream",
       "stream": "stdout",
       "text": [
        "\n",
        "Looked up \u0427\u0430\u0441\u043e\u0432\u043d\u044f \u0421\u0432. \u0414\u0443\u0445\u0430."
       ]
      },
      {
       "output_type": "stream",
       "stream": "stdout",
       "text": [
        "\n",
        "Looked up \u0422\u0435\u043d\u0433\u0443\u0448\u0435\u0432\u0430."
       ]
      },
      {
       "output_type": "stream",
       "stream": "stdout",
       "text": [
        "\n",
        "Looked up \u0421\u0432\u0435\u0440\u0436\u0438\u043d."
       ]
      },
      {
       "output_type": "stream",
       "stream": "stdout",
       "text": [
        "\n",
        "Looked up \u041c\u0438\u0436\u0438\u0440\u0438\u0447\u044c."
       ]
      },
      {
       "output_type": "stream",
       "stream": "stdout",
       "text": [
        "\n",
        "Looked up \u041f\u0435\u0442\u0440\u043e\u0432\u043a\u0438."
       ]
      },
      {
       "output_type": "stream",
       "stream": "stdout",
       "text": [
        "\n",
        "Looked up \u0417\u043c\u0435\u0435\u0432\u0435."
       ]
      },
      {
       "output_type": "stream",
       "stream": "stdout",
       "text": [
        "\n",
        "Looked up \u041b\u0438\u043f\u0446\u044b."
       ]
      },
      {
       "output_type": "stream",
       "stream": "stdout",
       "text": [
        "\n",
        "Looked up \u0422\u0443\u0440\u043a\u0438."
       ]
      },
      {
       "output_type": "stream",
       "stream": "stdout",
       "text": [
        "\n",
        "Looked up \u041e\u0440\u043b\u043e\u0432."
       ]
      },
      {
       "output_type": "stream",
       "stream": "stdout",
       "text": [
        "\n",
        "Looked up \u0426\u0430\u0440\u0438\u0447\u0435\u043d\u043a\u0430."
       ]
      },
      {
       "output_type": "stream",
       "stream": "stdout",
       "text": [
        "\n",
        "Querying alternate name \u0421\u0432\u0438\u043d\u0441\u043a\u0438\u0439"
       ]
      },
      {
       "output_type": "stream",
       "stream": "stdout",
       "text": [
        "\n",
        "Looked up \u0421\u0432\u0438\u043d\u0441\u043a\u043e\u0439."
       ]
      },
      {
       "output_type": "stream",
       "stream": "stdout",
       "text": [
        "\n",
        "Looked up \u0413\u043e\u0440\u043e\u0434\u043d\u044f."
       ]
      },
      {
       "output_type": "stream",
       "stream": "stdout",
       "text": [
        "\n",
        "Querying alternate name \u0427\u0435\u0440\u043d\u0430\u0432"
       ]
      },
      {
       "output_type": "stream",
       "stream": "stdout",
       "text": [
        "\n",
        "Looked up \u0427\u0435\u0440\u043d\u0430\u0432\u0441\u043a."
       ]
      },
      {
       "output_type": "stream",
       "stream": "stdout",
       "text": [
        "\n",
        "Looked up \u0423\u0441\u0442\u044c\u0435."
       ]
      },
      {
       "output_type": "stream",
       "stream": "stdout",
       "text": [
        "\n",
        "Looked up \u0413\u0440\u0435\u0431\u0435\u043d\u0438\u0448\u043a\u0438."
       ]
      },
      {
       "output_type": "stream",
       "stream": "stdout",
       "text": [
        "\n",
        "Looked up \u041a\u043e\u043d\u0441\u0442\u0430\u043d\u0442\u0438\u043d\u043e\u0432\u043e."
       ]
      },
      {
       "output_type": "stream",
       "stream": "stdout",
       "text": [
        "\n",
        "Looked up \u041c\u0443\u0440\u0430\u0442\u043e\u0432\u0430."
       ]
      },
      {
       "output_type": "stream",
       "stream": "stdout",
       "text": [
        "\n",
        "Querying alternate name \u041d\u043e\u0432\u0438\u0439 \u041c\u0438\u0440\u0433\u043e\u0440\u043e\u0434"
       ]
      },
      {
       "output_type": "stream",
       "stream": "stdout",
       "text": [
        "\n",
        "Looked up \u041d\u043e\u0432\u043e\u0439 \u041c\u0438\u0440\u0433\u043e\u0440\u043e\u0434."
       ]
      },
      {
       "output_type": "stream",
       "stream": "stdout",
       "text": [
        "\n",
        "Looked up \u041a\u043e\u043b\u044e\u043f\u0430\u043d\u043e\u0432\u043a\u0430."
       ]
      },
      {
       "output_type": "stream",
       "stream": "stdout",
       "text": [
        "\n",
        "Querying alternate name \u0423\u0442\u0435\u0448\u0435\u0432\u043e"
       ]
      },
      {
       "output_type": "stream",
       "stream": "stdout",
       "text": [
        "\n",
        "Looked up \u0423\u0442\u0435\u0448\u0435\u0432."
       ]
      },
      {
       "output_type": "stream",
       "stream": "stdout",
       "text": [
        "\n",
        "Looked up \u041c\u0430\u043a\u0430\u043b\u043e\u0432\u043e."
       ]
      },
      {
       "output_type": "stream",
       "stream": "stdout",
       "text": [
        "\n",
        "Looked up \u0418\u0441\u0435\u0442\u0441\u043a\u0430\u044f."
       ]
      },
      {
       "output_type": "stream",
       "stream": "stdout",
       "text": [
        "\n",
        "Looked up \u041e\u043b\u0438\u0448\u0435\u0432\u043a\u0430."
       ]
      },
      {
       "output_type": "stream",
       "stream": "stdout",
       "text": [
        "\n",
        "Looked up \u041c\u0438\u0445\u0430\u0439\u043b\u043e\u0432\u043a\u0430."
       ]
      },
      {
       "output_type": "stream",
       "stream": "stdout",
       "text": [
        "\n",
        "Looked up \u0422\u0435\u0440\u0435\u0448\u043a\u043e\u0432\u043e."
       ]
      },
      {
       "output_type": "stream",
       "stream": "stdout",
       "text": [
        "\n",
        "Looked up \u0410\u0440\u0433\u0430\u043c\u0430\u0447\u044c\u044f."
       ]
      },
      {
       "output_type": "stream",
       "stream": "stdout",
       "text": [
        "\n",
        "Looked up \u0414\u0443\u0431\u043e\u0432\u043e\u0435."
       ]
      },
      {
       "output_type": "stream",
       "stream": "stdout",
       "text": [
        "\n",
        "Looked up \u0417\u0430\u0440\u0443\u0431\u0438\u043d\u043e."
       ]
      },
      {
       "output_type": "stream",
       "stream": "stdout",
       "text": [
        "\n",
        "Querying alternate name \u041d\u0435\u0441\u0442\u0435\u0440\u043e\u0432\u0441\u043a\u0438\u0439"
       ]
      },
      {
       "output_type": "stream",
       "stream": "stdout",
       "text": [
        "\n",
        "Looked up \u041d\u0435\u0441\u0442\u0435\u0440\u043e\u0432\u0441\u043a\u043e\u0439."
       ]
      },
      {
       "output_type": "stream",
       "stream": "stdout",
       "text": [
        "\n",
        "Looked up \u041b\u044f\u0443\u0434\u0435\u0440\u0430."
       ]
      },
      {
       "output_type": "stream",
       "stream": "stdout",
       "text": [
        "\n",
        "Looked up \u0417\u043e\u043b\u043e\u0447\u0435\u0432."
       ]
      },
      {
       "output_type": "stream",
       "stream": "stdout",
       "text": [
        "\n",
        "Looked up \u041f\u043e\u043b\u0442\u0430\u0432\u0430."
       ]
      },
      {
       "output_type": "stream",
       "stream": "stdout",
       "text": [
        "\n",
        "Querying alternate name \u0412\u0435\u043d\u0435\u0432\u0441\u043a\u0438\u0439 \u041d\u0438\u043a\u043e\u043b\u0430\u0435\u0432\u0441\u043a\u0438\u0439"
       ]
      },
      {
       "output_type": "stream",
       "stream": "stdout",
       "text": [
        "\n",
        "Looked up \u0412\u0435\u043d\u0435\u0432\u0441\u043a\u043e\u0439 \u041d\u0438\u043a\u043e\u043b\u0430\u0435\u0432\u0441\u043a\u043e\u0439."
       ]
      },
      {
       "output_type": "stream",
       "stream": "stdout",
       "text": [
        "\n",
        "Looked up \u0415\u0441\u043a\u0435."
       ]
      },
      {
       "output_type": "stream",
       "stream": "stdout",
       "text": [
        "\n",
        "Looked up \u0422\u0435\u0440\u044f\u0435\u0432\u043e."
       ]
      },
      {
       "output_type": "stream",
       "stream": "stdout",
       "text": [
        "\n",
        "Looked up \u0411\u0430\u0441\u0430\u043d\u044c."
       ]
      },
      {
       "output_type": "stream",
       "stream": "stdout",
       "text": [
        "\n",
        "Looked up \u0411\u0435\u0440\u043d\u0438\u043a\u0438."
       ]
      },
      {
       "output_type": "stream",
       "stream": "stdout",
       "text": [
        "\n",
        "Looked up \u0421\u043b\u0430\u0432\u0433\u043e\u0440\u043e\u0434\u043a\u0430."
       ]
      },
      {
       "output_type": "stream",
       "stream": "stdout",
       "text": [
        "\n",
        "Looked up \u0428\u0438\u0448\u0430\u043a\u0438."
       ]
      },
      {
       "output_type": "stream",
       "stream": "stdout",
       "text": [
        "\n",
        "Looked up \u041a\u0438\u0434\u0435\u0448\u043a\u0438\u043d\u043e."
       ]
      },
      {
       "output_type": "stream",
       "stream": "stdout",
       "text": [
        "\n",
        "Looked up \u041e\u043a\u0432\u0430\u0434\u0441\u043a\u0430\u044f."
       ]
      },
      {
       "output_type": "stream",
       "stream": "stdout",
       "text": [
        "\n",
        "Looked up \u0418\u0432\u0430\u043d\u043e\u0432\u0446\u044b."
       ]
      },
      {
       "output_type": "stream",
       "stream": "stdout",
       "text": [
        "\n",
        "Looked up \u0411\u043e\u0440\u043e\u043c\u0434\u044f."
       ]
      },
      {
       "output_type": "stream",
       "stream": "stdout",
       "text": [
        "\n",
        "Looked up \u0414\u043c\u0438\u0442\u0440\u043e\u0432\u043a\u0430."
       ]
      },
      {
       "output_type": "stream",
       "stream": "stdout",
       "text": [
        "\n",
        "Looked up \u041f\u0435\u043d\u0437\u0430."
       ]
      },
      {
       "output_type": "stream",
       "stream": "stdout",
       "text": [
        "\n",
        "Looked up \u041c\u0430\u043b\u044b\u043a\u043e\u0432\u0430."
       ]
      },
      {
       "output_type": "stream",
       "stream": "stdout",
       "text": [
        "\n",
        "Querying alternate name \u041d\u043e\u0432\u043e\u0435\u0437\u0435\u0440\u0441\u043a\u0438\u0439 \u041a\u0438\u0440\u0438\u043b\u043e\u0432"
       ]
      },
      {
       "output_type": "stream",
       "stream": "stdout",
       "text": [
        "\n",
        "Querying alternate name \u041d\u043e\u0432\u043e\u0435\u0437\u0435\u0440\u0441\u043a\u043e\u0439 \u041a\u0438\u0440\u0438\u043b\u043e\u0432\u043e"
       ]
      },
      {
       "output_type": "stream",
       "stream": "stdout",
       "text": [
        "\n",
        "Looked up \u041d\u043e\u0432\u043e\u0435\u0437\u0435\u0440\u0441\u043a\u043e\u0439 \u041a\u0438\u0440\u0438\u043b\u043e\u0432."
       ]
      },
      {
       "output_type": "stream",
       "stream": "stdout",
       "text": [
        "\n",
        "Looked up \u0421\u0442\u0430\u043b\u0435\u0440\u043e\u0432\u0447\u0438\u0437\u043d\u0430."
       ]
      },
      {
       "output_type": "stream",
       "stream": "stdout",
       "text": [
        "\n",
        "Querying alternate name \u041d\u043e\u0432\u0438\u0439 \u041e\u0441\u043a\u043e\u043b"
       ]
      },
      {
       "output_type": "stream",
       "stream": "stdout",
       "text": [
        "\n",
        "Looked up \u041d\u043e\u0432\u043e\u0439 \u041e\u0441\u043a\u043e\u043b."
       ]
      },
      {
       "output_type": "stream",
       "stream": "stdout",
       "text": [
        "\n",
        "Looked up \u0410\u043a\u0441\u0435\u043b\u044c."
       ]
      },
      {
       "output_type": "stream",
       "stream": "stdout",
       "text": [
        "\n",
        "Querying alternate name \u0423\u0440\u0435\u043d\u044c"
       ]
      },
      {
       "output_type": "stream",
       "stream": "stdout",
       "text": [
        "\n",
        "Looked up \u0422\u0440\u0435\u0441\u0432\u044f\u0442\u0441\u043a\u043e\u0435."
       ]
      },
      {
       "output_type": "stream",
       "stream": "stdout",
       "text": [
        "\n",
        "Querying alternate name \u0422\u0435\u0448\u0435\u0432\u0441\u043a\u0438\u0439"
       ]
      },
      {
       "output_type": "stream",
       "stream": "stdout",
       "text": [
        "\n",
        "Looked up \u0422\u0435\u0448\u0435\u0432\u0441\u043a\u043e\u0439."
       ]
      },
      {
       "output_type": "stream",
       "stream": "stdout",
       "text": [
        "\n",
        "Looked up \u041b\u043e\u0442\u0441\u0448\u0438\u043d\u043e."
       ]
      },
      {
       "output_type": "stream",
       "stream": "stdout",
       "text": [
        "\n",
        "Querying alternate name \u0421\u0432\u0438\u0440\u0441\u043a\u0438\u0439 \u0410\u043b\u0435\u043a\u0441\u0430\u043d\u0434\u0440\u043e\u0432\u0441\u043a\u0438\u0439"
       ]
      },
      {
       "output_type": "stream",
       "stream": "stdout",
       "text": [
        "\n",
        "Looked up \u0421\u0432\u0438\u0440\u0441\u043a\u043e\u0439 \u0410\u043b\u0435\u043a\u0441\u0430\u043d\u0434\u0440\u043e\u0432\u0441\u043a\u043e\u0439."
       ]
      },
      {
       "output_type": "stream",
       "stream": "stdout",
       "text": [
        "\n",
        "Looked up \u0414\u0443\u043a\u0448\u0442\u0438\u043b\u0430\u0433."
       ]
      },
      {
       "output_type": "stream",
       "stream": "stdout",
       "text": [
        "\n",
        "Looked up \u0421\u0438\u043d\u044f\u0432\u043a\u0438."
       ]
      },
      {
       "output_type": "stream",
       "stream": "stdout",
       "text": [
        "\n",
        "Querying alternate name \u041f\u0430\u0444\u043d\u0443\u0442\u044c\u0435\u0432\u043e"
       ]
      },
      {
       "output_type": "stream",
       "stream": "stdout",
       "text": [
        "\n",
        "Looked up \u041f\u0430\u0444\u043d\u0443\u0442\u044c\u0435\u0432."
       ]
      },
      {
       "output_type": "stream",
       "stream": "stdout",
       "text": [
        "\n",
        "Querying alternate name \u0421\u0430\u043c\u0431\u043e\u0440\u0441\u043a\u0438\u0439"
       ]
      },
      {
       "output_type": "stream",
       "stream": "stdout",
       "text": [
        "\n",
        "Looked up \u0421\u0430\u043c\u0431\u043e\u0440\u0441\u043a\u043e\u0439."
       ]
      },
      {
       "output_type": "stream",
       "stream": "stdout",
       "text": [
        "\n",
        "Looked up \u0414\u0443\u043d\u0438\u043b\u043e\u0432\u043e."
       ]
      },
      {
       "output_type": "stream",
       "stream": "stdout",
       "text": [
        "\n",
        "Looked up \u0420\u0443\u0431\u0435\u0436\u043d\u0430\u044f."
       ]
      },
      {
       "output_type": "stream",
       "stream": "stdout",
       "text": [
        "\n",
        "Looked up \u041f\u0435\u0442\u0440\u043e\u0432\u0441\u043a\u043e\u0435."
       ]
      },
      {
       "output_type": "stream",
       "stream": "stdout",
       "text": [
        "\n",
        "Looked up \u0415\u0440\u0435\u043c\u0435\u043d\u0446\u043e\u0432\u043e."
       ]
      },
      {
       "output_type": "stream",
       "stream": "stdout",
       "text": [
        "\n",
        "Looked up \u041a\u0435\u043c\u0430\u0440\u044b."
       ]
      },
      {
       "output_type": "stream",
       "stream": "stdout",
       "text": [
        "\n",
        "Looked up \u0410\u043f\u0438\u0447\u0435\u0440\u0441\u043a\u0430\u044f."
       ]
      },
      {
       "output_type": "stream",
       "stream": "stdout",
       "text": [
        "\n",
        "Looked up \u0420\u0443\u0448\u043e\u043d\u0430."
       ]
      },
      {
       "output_type": "stream",
       "stream": "stdout",
       "text": [
        "\n",
        "Querying alternate name \u041e\u043a\u0443\u043d\u0435\u0432"
       ]
      },
      {
       "output_type": "stream",
       "stream": "stdout",
       "text": [
        "\n",
        "Looked up \u041e\u043a\u0443\u043d\u0435\u0432\u0441\u043a."
       ]
      },
      {
       "output_type": "stream",
       "stream": "stdout",
       "text": [
        "\n",
        "Querying alternate name \u0413\u0435\u043d\u043d\u0430\u0434\u0438\u0435\u0432\u043e"
       ]
      },
      {
       "output_type": "stream",
       "stream": "stdout",
       "text": [
        "\n",
        "Looked up \u0413\u0435\u043d\u043d\u0430\u0434\u0438\u0435\u0432."
       ]
      },
      {
       "output_type": "stream",
       "stream": "stdout",
       "text": [
        "\n",
        "Looked up \u0412\u044f\u0437\u043e\u0432\u043d\u0430."
       ]
      },
      {
       "output_type": "stream",
       "stream": "stdout",
       "text": [
        "\n",
        "Looked up \u041c\u0443\u0440\u0437\u044b\u043d\u043a\u0430."
       ]
      },
      {
       "output_type": "stream",
       "stream": "stdout",
       "text": [
        "\n",
        "Looked up \u041f\u0435\u0440\u0435\u043a\u043e\u043f\u0435\u0446."
       ]
      },
      {
       "output_type": "stream",
       "stream": "stdout",
       "text": [
        "\n",
        "Querying alternate name \u0426\u044b\u0431\u0443\u043b\u0435\u0432\u043e"
       ]
      },
      {
       "output_type": "stream",
       "stream": "stdout",
       "text": [
        "\n",
        "Looked up \u0426\u044b\u0431\u0443\u043b\u0435\u0432."
       ]
      },
      {
       "output_type": "stream",
       "stream": "stdout",
       "text": [
        "\n",
        "Looked up \u0420\u043e\u043b\u043e\u0432\u0441\u043a\u043e\u0435."
       ]
      },
      {
       "output_type": "stream",
       "stream": "stdout",
       "text": [
        "\n",
        "Looked up \u041d\u0430\u0441\u043f\u0438\u0449\u0438."
       ]
      },
      {
       "output_type": "stream",
       "stream": "stdout",
       "text": [
        "\n",
        "Looked up \u0410\u043b\u0435\u0448\u043d\u044f."
       ]
      },
      {
       "output_type": "stream",
       "stream": "stdout",
       "text": [
        "\n",
        "Looked up \u0418\u043d\u0436\u0430\u0432\u0435\u043d\u044c\u0435."
       ]
      },
      {
       "output_type": "stream",
       "stream": "stdout",
       "text": [
        "\n",
        "Querying alternate name \u0428\u0430\u0440\u0442\u043e\u043b\u0438\u043d\u0441\u043a\u0438\u0439 \u041d\u0438\u043a\u043e\u043b\u0430\u0435\u0432\u0441\u043a\u0438\u0439"
       ]
      },
      {
       "output_type": "stream",
       "stream": "stdout",
       "text": [
        "\n",
        "Looked up \u0428\u0430\u0440\u0442\u043e\u043b\u0438\u043d\u0441\u043a\u043e\u0439 \u041d\u0438\u043a\u043e\u043b\u0430\u0435\u0432\u0441\u043a\u043e\u0439."
       ]
      },
      {
       "output_type": "stream",
       "stream": "stdout",
       "text": [
        "\n",
        "Looked up \u0413\u0443\u0441\u0442\u0438\u043d\u043e\u0432\u043e."
       ]
      },
      {
       "output_type": "stream",
       "stream": "stdout",
       "text": [
        "\n",
        "Looked up \u0412\u043e\u043b\u043e\u043a\u043e\u043f\u0438\u043d\u0435\u0436\u0441\u043a\u0430\u044f."
       ]
      },
      {
       "output_type": "stream",
       "stream": "stdout",
       "text": [
        "\n",
        "Looked up \u041a\u0440\u0430\u0441\u043d\u043e\u0433\u043e\u0440\u0441\u043a\u0430\u044f."
       ]
      },
      {
       "output_type": "stream",
       "stream": "stdout",
       "text": [
        "\n",
        "Looked up \u041e\u0434\u0438\u043d\u0446\u043e\u0432\u043e."
       ]
      },
      {
       "output_type": "stream",
       "stream": "stdout",
       "text": [
        "\n",
        "Querying alternate name \u0411\u043b\u0430\u0433\u043e\u0432\u0435\u0449\u0435\u043d\u0441\u043a\u0438\u0439 \u041f\u0440\u0438\u0445\u043e\u0434"
       ]
      },
      {
       "output_type": "stream",
       "stream": "stdout",
       "text": [
        "\n",
        "Looked up \u0411\u043b\u0430\u0433\u043e\u0432\u0435\u0449\u0435\u043d\u0441\u043a\u043e\u0439 \u041f\u0440\u0438\u0445\u043e\u0434."
       ]
      },
      {
       "output_type": "stream",
       "stream": "stdout",
       "text": [
        "\n",
        "Looked up \u0420\u044b\u0436\u043a\u043e\u0432\u043e."
       ]
      },
      {
       "output_type": "stream",
       "stream": "stdout",
       "text": [
        "\n",
        "Looked up \u041c\u0430\u043a\u0430\u0440\u043e\u0432\u043e."
       ]
      },
      {
       "output_type": "stream",
       "stream": "stdout",
       "text": [
        "\n",
        "Looked up \u0423\u0434\u0430."
       ]
      },
      {
       "output_type": "stream",
       "stream": "stdout",
       "text": [
        "\n",
        "Looked up \u0411\u0443\u0440\u043e\u043c\u043a\u0430."
       ]
      },
      {
       "output_type": "stream",
       "stream": "stdout",
       "text": [
        "\n",
        "Looked up \u0427\u0435\u0440\u043d\u0438\u0433\u043e\u0432."
       ]
      },
      {
       "output_type": "stream",
       "stream": "stdout",
       "text": [
        "\n",
        "Looked up \u041a\u0440\u0435\u0441\u0442\u0446\u044b."
       ]
      },
      {
       "output_type": "stream",
       "stream": "stdout",
       "text": [
        "\n",
        "Looked up \u0421\u0432\u044f\u0442\u043e\u0435 \u041c\u0435\u0441\u0442\u043e."
       ]
      },
      {
       "output_type": "stream",
       "stream": "stdout",
       "text": [
        "\n",
        "Querying alternate name \u041a\u0438\u0442\u0430\u0439\u0441\u043a\u0438\u0439"
       ]
      },
      {
       "output_type": "stream",
       "stream": "stdout",
       "text": [
        "\n",
        "Looked up \u041a\u0438\u0442\u0430\u0439\u0441\u043a\u043e\u0439."
       ]
      },
      {
       "output_type": "stream",
       "stream": "stdout",
       "text": [
        "\n",
        "Looked up \u041a\u0440\u0435\u0441\u043b\u0430\u0432\u043b\u044c."
       ]
      },
      {
       "output_type": "stream",
       "stream": "stdout",
       "text": [
        "\n",
        "Looked up \u041a\u0440\u0438\u0432\u0446\u043e."
       ]
      },
      {
       "output_type": "stream",
       "stream": "stdout",
       "text": [
        "\n",
        "Looked up \u0411\u0435\u0440\u0435\u0437\u043e\u0432\u0446\u0430."
       ]
      },
      {
       "output_type": "stream",
       "stream": "stdout",
       "text": [
        "\n",
        "Looked up \u0413\u043e\u0440\u043e\u0434\u0438\u0449\u0435."
       ]
      },
      {
       "output_type": "stream",
       "stream": "stdout",
       "text": [
        "\n",
        "Looked up \u0428\u0430\u0440\u0430\u043f\u0430\u0432\u043e."
       ]
      },
      {
       "output_type": "stream",
       "stream": "stdout",
       "text": [
        "\n",
        "Looked up \u041f\u043e\u0434\u0432\u043e\u0440\u0433\u0430\u043b\u044c\u0441\u043a\u043e\u0435."
       ]
      },
      {
       "output_type": "stream",
       "stream": "stdout",
       "text": [
        "\n",
        "Looked up \u0418\u0432\u0430\u043d\u043e\u0432\u043e."
       ]
      },
      {
       "output_type": "stream",
       "stream": "stdout",
       "text": [
        "\n",
        "Looked up \u0418\u0441\u0442\u0430\u043b\u0435\u043d\u0430."
       ]
      },
      {
       "output_type": "stream",
       "stream": "stdout",
       "text": [
        "\n",
        "Looked up \u0410\u0432\u0436\u0435\u043d\u0441\u043a\u0430\u044f."
       ]
      },
      {
       "output_type": "stream",
       "stream": "stdout",
       "text": [
        "\n",
        "Querying alternate name \u042f\u0431\u043b\u0443\u043d\u043e\u0432\u043e"
       ]
      },
      {
       "output_type": "stream",
       "stream": "stdout",
       "text": [
        "\n",
        "Looked up \u042f\u0431\u043b\u0443\u043d\u043e\u0432."
       ]
      },
      {
       "output_type": "stream",
       "stream": "stdout",
       "text": [
        "\n",
        "Looked up \u041b\u0430\u0434\u0430."
       ]
      },
      {
       "output_type": "stream",
       "stream": "stdout",
       "text": [
        "\n",
        "Looked up \u0413\u043e\u0440\u043e\u0434\u0438\u0449\u0435."
       ]
      },
      {
       "output_type": "stream",
       "stream": "stdout",
       "text": [
        "\n",
        "Looked up \u0421\u0438\u043c\u0435\u043e\u043d\u043e\u0432\u043a\u0430."
       ]
      },
      {
       "output_type": "stream",
       "stream": "stdout",
       "text": [
        "\n",
        "Looked up \u041a\u043e\u043d\u0441\u0442\u0430\u043d\u0442\u0438\u043d\u043e\u0432\u0441\u043a\u043e\u0435."
       ]
      },
      {
       "output_type": "stream",
       "stream": "stdout",
       "text": [
        "\n",
        "Looked up \u041a\u0430\u0440\u043c."
       ]
      },
      {
       "output_type": "stream",
       "stream": "stdout",
       "text": [
        "\n",
        "Looked up \u0423\u043d\u043a\u043e\u0441\u043e\u0432\u0430."
       ]
      },
      {
       "output_type": "stream",
       "stream": "stdout",
       "text": [
        "\n",
        "Looked up \u0421\u044b\u0437\u0440\u0430\u043d\u044c."
       ]
      },
      {
       "output_type": "stream",
       "stream": "stdout",
       "text": [
        "\n",
        "Looked up \u0411\u0435\u043b\u043e\u043a\u0443\u0440\u0438\u043d\u0430."
       ]
      },
      {
       "output_type": "stream",
       "stream": "stdout",
       "text": [
        "\n",
        "Querying alternate name \u0411\u043e\u0433\u043e\u0440\u043e\u0434\u0438\u0446\u043a\u0438\u0439 \u041a\u0430\u0437\u0430\u043d\u0441\u043a\u0438\u0439"
       ]
      },
      {
       "output_type": "stream",
       "stream": "stdout",
       "text": [
        "\n",
        "Looked up \u0411\u043e\u0433\u043e\u0440\u043e\u0434\u0438\u0446\u043a\u043e\u0439 \u041a\u0430\u0437\u0430\u043d\u0441\u043a\u043e\u0439."
       ]
      },
      {
       "output_type": "stream",
       "stream": "stdout",
       "text": [
        "\n",
        "Looked up \u041b\u0435\u0436\u043d\u0435\u0432\u043e."
       ]
      },
      {
       "output_type": "stream",
       "stream": "stdout",
       "text": [
        "\n",
        "Looked up \u0416\u043e\u0432\u043d\u0438\u043d."
       ]
      },
      {
       "output_type": "stream",
       "stream": "stdout",
       "text": [
        "\n",
        "Looked up \u041a\u0438\u0448\u0435\u043d\u044c\u043a\u0430."
       ]
      },
      {
       "output_type": "stream",
       "stream": "stdout",
       "text": [
        "\n",
        "Looked up \u0412\u043e\u043b\u044c\u043d\u0430\u044f."
       ]
      },
      {
       "output_type": "stream",
       "stream": "stdout",
       "text": [
        "\n",
        "Looked up \u041a\u0430\u0434\u0438\u043d."
       ]
      },
      {
       "output_type": "stream",
       "stream": "stdout",
       "text": [
        "\n",
        "Looked up \u041a\u0430\u0440\u043f\u043e\u0432\u043a\u0430."
       ]
      },
      {
       "output_type": "stream",
       "stream": "stdout",
       "text": [
        "\n",
        "Querying alternate name \u041b\u043e\u043f\u043e\u0442\u043e\u0432\u043e"
       ]
      },
      {
       "output_type": "stream",
       "stream": "stdout",
       "text": [
        "\n",
        "Looked up \u041b\u043e\u043f\u043e\u0442\u043e\u0432."
       ]
      },
      {
       "output_type": "stream",
       "stream": "stdout",
       "text": [
        "\n",
        "Looked up \u0418\u0432\u0430\u043d\u043e\u0432\u043e."
       ]
      },
      {
       "output_type": "stream",
       "stream": "stdout",
       "text": [
        "\n",
        "Querying alternate name \u0413\u043d\u0438\u043b\u044c\u0441\u043a\u0438\u0439"
       ]
      },
      {
       "output_type": "stream",
       "stream": "stdout",
       "text": [
        "\n",
        "Looked up \u0413\u043d\u0438\u043b\u044c\u0441\u043a\u043e\u0439."
       ]
      },
      {
       "output_type": "stream",
       "stream": "stdout",
       "text": [
        "\n",
        "Looked up \u0411\u0435\u043b\u044b\u043d\u0438\u0447\u0438."
       ]
      },
      {
       "output_type": "stream",
       "stream": "stdout",
       "text": [
        "\n",
        "Looked up \u0413\u0430\u043b\u044f\u043d\u0438."
       ]
      },
      {
       "output_type": "stream",
       "stream": "stdout",
       "text": [
        "\n",
        "Looked up \u041c\u0430\u044f\u0447\u043a\u0430."
       ]
      },
      {
       "output_type": "stream",
       "stream": "stdout",
       "text": [
        "\n",
        "Looked up \u041d\u0430\u0431\u0434\u0438\u043d."
       ]
      },
      {
       "output_type": "stream",
       "stream": "stdout",
       "text": [
        "\n",
        "Looked up \u042f\u0440\u0435\u0441\u043a\u0438."
       ]
      },
      {
       "output_type": "stream",
       "stream": "stdout",
       "text": [
        "\n",
        "Looked up \u0414\u043c\u0438\u0442\u0440\u043e\u0432\u0441\u043a\u0430\u044f."
       ]
      },
      {
       "output_type": "stream",
       "stream": "stdout",
       "text": [
        "\n",
        "Looked up \u0418\u0432\u0430\u043d\u043e\u0432\u0441\u043a\u043e\u0435."
       ]
      },
      {
       "output_type": "stream",
       "stream": "stdout",
       "text": [
        "\n",
        "Querying alternate name \u0414\u043e\u043c\u043d\u0438\u0446\u043a\u0438\u0439"
       ]
      },
      {
       "output_type": "stream",
       "stream": "stdout",
       "text": [
        "\n",
        "Looked up \u0414\u043e\u043c\u043d\u0438\u0446\u043a\u043e\u0439."
       ]
      },
      {
       "output_type": "stream",
       "stream": "stdout",
       "text": [
        "\n",
        "Looked up \u041a\u043e\u0437\u043b\u043e\u0432\u0441\u043a\u0430\u044f."
       ]
      },
      {
       "output_type": "stream",
       "stream": "stdout",
       "text": [
        "\n",
        "Looked up \u0423\u043b\u043e\u043c."
       ]
      },
      {
       "output_type": "stream",
       "stream": "stdout",
       "text": [
        "\n",
        "Looked up \u041a\u043e\u043f\u0440\u0438\u043d\u043e."
       ]
      },
      {
       "output_type": "stream",
       "stream": "stdout",
       "text": [
        "\n",
        "Querying alternate name \u0411\u0430\u0440\u043a\u043e\u0432\u043e"
       ]
      },
      {
       "output_type": "stream",
       "stream": "stdout",
       "text": [
        "\n",
        "Looked up \u0411\u0430\u0440\u043a\u043e\u0432."
       ]
      },
      {
       "output_type": "stream",
       "stream": "stdout",
       "text": [
        "\n",
        "Looked up \u041f\u0435\u0442\u0440\u043e\u043c\u0430."
       ]
      },
      {
       "output_type": "stream",
       "stream": "stdout",
       "text": [
        "\n",
        "Looked up \u041b\u0438\u043c\u0430\u043d\u044c."
       ]
      },
      {
       "output_type": "stream",
       "stream": "stdout",
       "text": [
        "\n",
        "Querying alternate name \u041a\u0440\u044e\u043a\u043e\u0432\u043e"
       ]
      },
      {
       "output_type": "stream",
       "stream": "stdout",
       "text": [
        "\n",
        "Looked up \u041a\u0440\u044e\u043a\u043e\u0432."
       ]
      },
      {
       "output_type": "stream",
       "stream": "stdout",
       "text": [
        "\n",
        "Querying alternate name \u0420\u043e\u043f"
       ]
      },
      {
       "output_type": "stream",
       "stream": "stdout",
       "text": [
        "\n",
        "Looked up \u0420\u043e\u043f\u0441\u043a."
       ]
      },
      {
       "output_type": "stream",
       "stream": "stdout",
       "text": [
        "\n",
        "Looked up \u0412\u044b\u0448\u0433\u043e\u0440\u043e\u0434."
       ]
      },
      {
       "output_type": "stream",
       "stream": "stdout",
       "text": [
        "\n",
        "Looked up \u0421\u0430\u0432\u0438\u043d\u0438\u0446\u044b."
       ]
      },
      {
       "output_type": "stream",
       "stream": "stdout",
       "text": [
        "\n",
        "Looked up \u0420\u0436\u0438\u0446\u0430."
       ]
      },
      {
       "output_type": "stream",
       "stream": "stdout",
       "text": [
        "\n",
        "Querying alternate name \u0422\u0430\u0440\u043d\u044f\u043d\u0441\u043a\u0438\u0439"
       ]
      },
      {
       "output_type": "stream",
       "stream": "stdout",
       "text": [
        "\n",
        "Looked up \u0422\u0430\u0440\u043d\u044f\u043d\u0441\u043a\u043e\u0439."
       ]
      },
      {
       "output_type": "stream",
       "stream": "stdout",
       "text": [
        "\n",
        "Looked up \u0422\u0440\u043e\u0438\u0446\u043a\u0430\u044f \u0421\u0435\u0440\u0433\u0438\u0435\u0432\u0430."
       ]
      },
      {
       "output_type": "stream",
       "stream": "stdout",
       "text": [
        "\n",
        "Querying alternate name \u041f\u0435\u0440\u0435\u0432\u0438\u0446\u043a\u0438\u0439 \u0422\u043e\u0440\u0436\u043e\u043a"
       ]
      },
      {
       "output_type": "stream",
       "stream": "stdout",
       "text": [
        "\n",
        "Looked up \u041f\u0435\u0440\u0435\u0432\u0438\u0446\u043a\u043e\u0439 \u0422\u043e\u0440\u0436\u043e\u043a."
       ]
      },
      {
       "output_type": "stream",
       "stream": "stdout",
       "text": [
        "\n",
        "Looked up \u0412\u044b\u0441\u043e\u043a\u043e\u0435."
       ]
      },
      {
       "output_type": "stream",
       "stream": "stdout",
       "text": [
        "\n",
        "Looked up \u041c\u0448\u0430\u0433\u0430."
       ]
      },
      {
       "output_type": "stream",
       "stream": "stdout",
       "text": [
        "\n",
        "Looked up \u0421\u0435\u0440\u0435\u0432\u043a\u0430."
       ]
      },
      {
       "output_type": "stream",
       "stream": "stdout",
       "text": [
        "\n",
        "Looked up \u041e\u0441\u0442\u0440\u043e\u0432\u043d\u044f."
       ]
      },
      {
       "output_type": "stream",
       "stream": "stdout",
       "text": [
        "\n",
        "Querying alternate name \u0415\u043b\u0438\u043c\u0441\u043a\u0438\u0439"
       ]
      },
      {
       "output_type": "stream",
       "stream": "stdout",
       "text": [
        "\n",
        "Looked up \u0415\u043b\u0438\u043c\u0441\u043a\u043e\u0439."
       ]
      },
      {
       "output_type": "stream",
       "stream": "stdout",
       "text": [
        "\n",
        "Querying alternate name \u0410\u0432\u0440\u0430\u043c\u0438\u0435\u0432\u043e"
       ]
      },
      {
       "output_type": "stream",
       "stream": "stdout",
       "text": [
        "\n",
        "Looked up \u0410\u0432\u0440\u0430\u043c\u0438\u0435\u0432."
       ]
      },
      {
       "output_type": "stream",
       "stream": "stdout",
       "text": [
        "\n",
        "Looked up \u0421\u043f\u0430\u0441."
       ]
      },
      {
       "output_type": "stream",
       "stream": "stdout",
       "text": [
        "\n",
        "Querying alternate name \u0411\u0430\u043b\u0430\u043a\u043b\u0435\u0435\u0432\u043e"
       ]
      },
      {
       "output_type": "stream",
       "stream": "stdout",
       "text": [
        "\n",
        "Looked up \u0411\u0430\u043b\u0430\u043a\u043b\u0435\u0435\u0432."
       ]
      },
      {
       "output_type": "stream",
       "stream": "stdout",
       "text": [
        "\n",
        "Looked up \u041a\u0440\u043e\u043b\u0435\u0432\u0435\u0446."
       ]
      },
      {
       "output_type": "stream",
       "stream": "stdout",
       "text": [
        "\n",
        "Looked up \u041c\u0430\u0441\u043b\u043e\u0432\u0438\u0447\u0438."
       ]
      },
      {
       "output_type": "stream",
       "stream": "stdout",
       "text": [
        "\n",
        "Looked up \u0413\u0440\u0443\u043d\u044c."
       ]
      },
      {
       "output_type": "stream",
       "stream": "stdout",
       "text": [
        "\n",
        "Looked up \u041a\u0438\u0430\u0441\u043e\u0432\u043a\u0430."
       ]
      },
      {
       "output_type": "stream",
       "stream": "stdout",
       "text": [
        "\n",
        "Querying alternate name \u0411\u0443\u0440\u0435\u0446\u043a\u0438\u0439"
       ]
      },
      {
       "output_type": "stream",
       "stream": "stdout",
       "text": [
        "\n",
        "Looked up \u0411\u0443\u0440\u0435\u0446\u043a\u043e\u0439."
       ]
      },
      {
       "output_type": "stream",
       "stream": "stdout",
       "text": [
        "\n",
        "Looked up \u0421\u0435\u0431\u0435\u0436."
       ]
      },
      {
       "output_type": "stream",
       "stream": "stdout",
       "text": [
        "\n",
        "Looked up \u0418\u0432\u0430\u043d\u043e\u0432\u0441\u043a\u043e\u0435."
       ]
      },
      {
       "output_type": "stream",
       "stream": "stdout",
       "text": [
        "\n",
        "Looked up \u042f\u0437\u044b\u043a\u043e\u0432\u043e."
       ]
      },
      {
       "output_type": "stream",
       "stream": "stdout",
       "text": [
        "\n",
        "Looked up \u0421\u043e\u0440\u043e\u0447\u0438\u043d\u0446\u044b."
       ]
      },
      {
       "output_type": "stream",
       "stream": "stdout",
       "text": [
        "\n",
        "Looked up \u041a\u043e\u043d\u043e\u0442\u043e\u043f."
       ]
      },
      {
       "output_type": "stream",
       "stream": "stdout",
       "text": [
        "\n",
        "Looked up \u0415\u0433\u043e\u0440\u044c\u0435\u0432\u0441\u043a\u043e\u0435 \u0417\u0430\u0434\u043d\u0435\u0435."
       ]
      },
      {
       "output_type": "stream",
       "stream": "stdout",
       "text": [
        "\n",
        "Looked up \u0426\u0435\u0432\u043b\u044f."
       ]
      },
      {
       "output_type": "stream",
       "stream": "stdout",
       "text": [
        "\n",
        "Looked up \u0421\u043f\u0438\u0440\u043e\u0432\u043e."
       ]
      },
      {
       "output_type": "stream",
       "stream": "stdout",
       "text": [
        "\n",
        "Looked up \u0425\u0430\u0440\u044c\u043a\u043e\u0432."
       ]
      },
      {
       "output_type": "stream",
       "stream": "stdout",
       "text": [
        "\n",
        "Looked up \u041a\u043e\u0434\u0438\u043d\u0441\u043a\u043e\u0435."
       ]
      },
      {
       "output_type": "stream",
       "stream": "stdout",
       "text": [
        "\n",
        "Looked up \u0414\u0440\u0438\u0446\u0430\u043d\u044b."
       ]
      },
      {
       "output_type": "stream",
       "stream": "stdout",
       "text": [
        "\n",
        "Looked up \u041a\u043e\u0437\u043b\u043e\u0432\u043a\u0430."
       ]
      },
      {
       "output_type": "stream",
       "stream": "stdout",
       "text": [
        "\n",
        "Looked up \u041f\u0430\u0432\u043b\u043e\u0432\u043e."
       ]
      },
      {
       "output_type": "stream",
       "stream": "stdout",
       "text": [
        "\n",
        "Looked up \u0421\u0438\u043c."
       ]
      },
      {
       "output_type": "stream",
       "stream": "stdout",
       "text": [
        "\n",
        "Looked up \u0422\u0435\u043f\u043b\u043e\u0433\u043e\u0440\u0441\u043a\u0430\u044f \u0411\u043e\u0433\u043e\u0440\u043e\u0434\u0438\u0446\u043a\u0430\u044f."
       ]
      },
      {
       "output_type": "stream",
       "stream": "stdout",
       "text": [
        "\n",
        "Looked up \u0413\u043e\u043c\u043b\u044f."
       ]
      },
      {
       "output_type": "stream",
       "stream": "stdout",
       "text": [
        "\n",
        "Looked up \u041f\u0430\u0440\u0444\u0435\u043d\u044c\u0435\u0432\u0430."
       ]
      },
      {
       "output_type": "stream",
       "stream": "stdout",
       "text": [
        "\n",
        "Querying alternate name \u0414\u0430\u0439\u043c\u0438\u043a"
       ]
      },
      {
       "output_type": "stream",
       "stream": "stdout",
       "text": [
        "\n",
        "Looked up \u0414\u0430\u0439\u043c\u0438\u043d\u043e."
       ]
      },
      {
       "output_type": "stream",
       "stream": "stdout",
       "text": [
        "\n",
        "Looked up \u0418\u0433\u0440\u0438\u0449\u0438."
       ]
      },
      {
       "output_type": "stream",
       "stream": "stdout",
       "text": [
        "\n",
        "Looked up \u041a\u0440\u0430\u0441\u043d\u043e\u043f\u043e\u043b\u044c."
       ]
      },
      {
       "output_type": "stream",
       "stream": "stdout",
       "text": [
        "\n",
        "Looked up \u041a\u0440\u0430\u0441\u043d\u043e\u0435."
       ]
      },
      {
       "output_type": "stream",
       "stream": "stdout",
       "text": [
        "\n",
        "Looked up \u0418\u0433\u0443\u043c\u043d\u043e\u0432\u043e."
       ]
      },
      {
       "output_type": "stream",
       "stream": "stdout",
       "text": [
        "\n",
        "Looked up \u0421\u0430\u0440\u0430\u043d\u0441\u043a."
       ]
      },
      {
       "output_type": "stream",
       "stream": "stdout",
       "text": [
        "\n",
        "Looked up \u041e\u0440\u0435\u0445\u043e\u0432\u043a\u0430."
       ]
      },
      {
       "output_type": "stream",
       "stream": "stdout",
       "text": [
        "\n",
        "Looked up \u041a\u0443\u043c\u0437\u0435\u0440\u0441\u043a\u0430\u044f."
       ]
      },
      {
       "output_type": "stream",
       "stream": "stdout",
       "text": [
        "\n",
        "Looked up \u0422\u0443\u0445\u0438."
       ]
      },
      {
       "output_type": "stream",
       "stream": "stdout",
       "text": [
        "\n",
        "Looked up \u041c\u0435\u0440\u0435\u0445\u0432\u0430."
       ]
      },
      {
       "output_type": "stream",
       "stream": "stdout",
       "text": [
        "\n",
        "Looked up \u0421\u043b\u043e\u043b\u044c\u0446\u0430 \u041a\u043e\u043b\u0435\u0441\u043d\u0430\u044f."
       ]
      },
      {
       "output_type": "stream",
       "stream": "stdout",
       "text": [
        "\n",
        "Looked up \u0411\u043e\u0433\u043e\u044f\u0432\u043b\u0435\u043d\u0441\u043a\u0430\u044f."
       ]
      },
      {
       "output_type": "stream",
       "stream": "stdout",
       "text": [
        "\n",
        "Looked up \u0425\u0430\u043b\u0447\u044c."
       ]
      },
      {
       "output_type": "stream",
       "stream": "stdout",
       "text": [
        "\n",
        "Querying alternate name \u0428\u0443\u043b\u0433\u0438\u043d"
       ]
      },
      {
       "output_type": "stream",
       "stream": "stdout",
       "text": [
        "\n",
        "Looked up \u0428\u0443\u043b\u0433\u0438\u043d\u0441\u043a."
       ]
      },
      {
       "output_type": "stream",
       "stream": "stdout",
       "text": [
        "\n",
        "Looked up \u041a\u043e\u0440\u0435\u043d\u043d\u0430\u044f."
       ]
      },
      {
       "output_type": "stream",
       "stream": "stdout",
       "text": [
        "\n",
        "Looked up \u041f\u0435\u0442\u0440\u043e\u0432\u0441\u043a\u0430\u044f."
       ]
      },
      {
       "output_type": "stream",
       "stream": "stdout",
       "text": [
        "\n",
        "Looked up \u041f\u0438\u0441\u0430\u0440\u0435\u0432\u043a\u0430."
       ]
      },
      {
       "output_type": "stream",
       "stream": "stdout",
       "text": [
        "\n",
        "Looked up \u041e\u043f\u043e\u0448\u043d\u043e\u0435."
       ]
      },
      {
       "output_type": "stream",
       "stream": "stdout",
       "text": [
        "\n",
        "Looked up \u041e\u043d\u043e\u0444\u0440\u0438\u0435\u0432\u043e."
       ]
      },
      {
       "output_type": "stream",
       "stream": "stdout",
       "text": [
        "\n",
        "Looked up \u0412\u043e\u043b\u044b\u043d\u0446\u044b."
       ]
      },
      {
       "output_type": "stream",
       "stream": "stdout",
       "text": [
        "\n",
        "Looked up \u0425\u043e\u043c\u0443\u0442\u0446\u044b."
       ]
      },
      {
       "output_type": "stream",
       "stream": "stdout",
       "text": [
        "\n",
        "Looked up \u0424\u043b\u043e\u0440\u043e\u0432\u043e."
       ]
      },
      {
       "output_type": "stream",
       "stream": "stdout",
       "text": [
        "\n",
        "Looked up \u041b\u0430\u043a\u043d\u043e\u0432\u0430\u0442\u044c."
       ]
      },
      {
       "output_type": "stream",
       "stream": "stdout",
       "text": [
        "\n",
        "Querying alternate name \u0422\u0440\u043e\u0438\u0446\u043a\u0438\u0439"
       ]
      },
      {
       "output_type": "stream",
       "stream": "stdout",
       "text": [
        "\n",
        "Looked up \u0422\u0440\u043e\u0438\u0446\u043a\u043e\u0439."
       ]
      },
      {
       "output_type": "stream",
       "stream": "stdout",
       "text": [
        "\n",
        "Looked up \u0421\u0435\u0440\u0435\u0434\u0430 \u0421\u0442\u0440\u0430\u0442\u0438\u043b\u0430\u0442\u0441\u043a\u0430\u044f."
       ]
      },
      {
       "output_type": "stream",
       "stream": "stdout",
       "text": [
        "\n",
        "Looked up \u0413\u0430\u0433\u0430\u0440\u0438\u043d\u043e."
       ]
      },
      {
       "output_type": "stream",
       "stream": "stdout",
       "text": [
        "\n",
        "Looked up \u0413\u0435\u0440\u043c\u0430\u043d\u043e\u0432\u0430."
       ]
      },
      {
       "output_type": "stream",
       "stream": "stdout",
       "text": [
        "\n",
        "Querying alternate name \u0426\u0443\u0440\u0443\u0445\u0430\u0442\u0430\u0435\u0432\u0441\u043a\u0438\u0439"
       ]
      },
      {
       "output_type": "stream",
       "stream": "stdout",
       "text": [
        "\n",
        "Looked up \u0426\u0443\u0440\u0443\u0445\u0430\u0442\u0430\u0435\u0432\u0441\u043a\u043e\u0439."
       ]
      },
      {
       "output_type": "stream",
       "stream": "stdout",
       "text": [
        "\n",
        "Looked up \u0425\u043e\u0440\u043e\u043b."
       ]
      },
      {
       "output_type": "stream",
       "stream": "stdout",
       "text": [
        "\n",
        "Looked up \u0422\u0443\u0440\u0435\u0446\u043a\u0430\u044f."
       ]
      },
      {
       "output_type": "stream",
       "stream": "stdout",
       "text": [
        "\n",
        "Querying alternate name \u041c\u0435\u0445\u043e\u043d\u0441\u043a\u0438\u0439"
       ]
      },
      {
       "output_type": "stream",
       "stream": "stdout",
       "text": [
        "\n",
        "Looked up \u041c\u0435\u0445\u043e\u043d\u0441\u043a\u043e\u0439."
       ]
      },
      {
       "output_type": "stream",
       "stream": "stdout",
       "text": [
        "\n",
        "Looked up \u0418\u0437\u043c\u0430\u0439\u043b\u043e\u0432\u043e."
       ]
      },
      {
       "output_type": "stream",
       "stream": "stdout",
       "text": [
        "\n",
        "Querying alternate name \u041a\u043e\u0433\u0443\u0435\u0432\u0430"
       ]
      },
      {
       "output_type": "stream",
       "stream": "stdout",
       "text": [
        "\n",
        "Looked up \u0421\u0442\u0430\u0440\u0446\u043e\u0432 \u0423\u0433\u043e\u043b."
       ]
      },
      {
       "output_type": "stream",
       "stream": "stdout",
       "text": [
        "\n",
        "Looked up \u041c\u0435\u0433\u0440\u0430."
       ]
      },
      {
       "output_type": "stream",
       "stream": "stdout",
       "text": [
        "\n",
        "Looked up \u0420\u043e\u0433\u0430\u0447\u0435\u0432\u043e."
       ]
      },
      {
       "output_type": "stream",
       "stream": "stdout",
       "text": [
        "\n",
        "Looked up \u041f\u043b\u043e\u0445\u043e\u043d\u0430."
       ]
      },
      {
       "output_type": "stream",
       "stream": "stdout",
       "text": [
        "\n",
        "Querying alternate name \u041f\u0430\u0432\u0448\u0438\u043d\u043e"
       ]
      },
      {
       "output_type": "stream",
       "stream": "stdout",
       "text": [
        "\n",
        "Looked up \u0413\u0430\u0442\u043d\u0438\u0446\u044b."
       ]
      },
      {
       "output_type": "stream",
       "stream": "stdout",
       "text": [
        "\n",
        "Looked up \u0410\u043b\u0435\u043a\u0441\u0430\u043d\u0434\u0440\u043e\u0432\u0430 \u041f\u0443\u0441\u0442\u044b\u043d\u044f."
       ]
      },
      {
       "output_type": "stream",
       "stream": "stdout",
       "text": [
        "\n",
        "Looked up \u0421\u043e\u043a\u043e\u043b."
       ]
      },
      {
       "output_type": "stream",
       "stream": "stdout",
       "text": [
        "\n",
        "Looked up \u0420\u044f\u0437\u0430\u043d\u044c."
       ]
      },
      {
       "output_type": "stream",
       "stream": "stdout",
       "text": [
        "\n",
        "Looked up \u0411\u043e\u0440\u0430."
       ]
      },
      {
       "output_type": "stream",
       "stream": "stdout",
       "text": [
        "\n",
        "Looked up \u041f\u0435\u0440\u043c\u044c."
       ]
      },
      {
       "output_type": "stream",
       "stream": "stdout",
       "text": [
        "\n",
        "Querying alternate name \u0426\u0430\u0440\u0435\u0432 \u0411\u043e\u0440\u0438\u0441\u043e\u0432\u043e"
       ]
      },
      {
       "output_type": "stream",
       "stream": "stdout",
       "text": [
        "\n",
        "Looked up \u0426\u0430\u0440\u0435\u0432 \u0411\u043e\u0440\u0438\u0441\u043e\u0432."
       ]
      },
      {
       "output_type": "stream",
       "stream": "stdout",
       "text": [
        "\n",
        "Looked up \u041c\u043e\u043b\u043e\u043a\u043e\u0432\u043e."
       ]
      },
      {
       "output_type": "stream",
       "stream": "stdout",
       "text": [
        "\n",
        "Looked up \u0422\u043e\u0440\u0436\u043e\u043a."
       ]
      },
      {
       "output_type": "stream",
       "stream": "stdout",
       "text": [
        "\n",
        "Looked up \u0421\u0435\u0440\u0435\u0433\u0430."
       ]
      },
      {
       "output_type": "stream",
       "stream": "stdout",
       "text": [
        "\n",
        "Querying alternate name \u0414\u0435\u0434\u0438\u043b\u043e\u0432\u043e"
       ]
      },
      {
       "output_type": "stream",
       "stream": "stdout",
       "text": [
        "\n",
        "Looked up \u0414\u0435\u0434\u0438\u043b\u043e\u0432."
       ]
      },
      {
       "output_type": "stream",
       "stream": "stdout",
       "text": [
        "\n",
        "Looked up \u0415\u0440\u0430\u0445\u0442\u0443\u0440\u0430."
       ]
      },
      {
       "output_type": "stream",
       "stream": "stdout",
       "text": [
        "\n",
        "Looked up \u041a\u043e\u0437\u043b\u043e\u0432."
       ]
      },
      {
       "output_type": "stream",
       "stream": "stdout",
       "text": [
        "\n",
        "Looked up \u041e\u0431\u0435\u0440 - \u041f\u0430\u043b\u0435\u043d."
       ]
      },
      {
       "output_type": "stream",
       "stream": "stdout",
       "text": [
        "\n",
        "Looked up \u0414\u0443\u0431\u0440\u043e\u0432\u043a\u0438."
       ]
      },
      {
       "output_type": "stream",
       "stream": "stdout",
       "text": [
        "\n",
        "Looked up \u0425\u0430\u0442\u043e\u043c\u043b\u044c."
       ]
      },
      {
       "output_type": "stream",
       "stream": "stdout",
       "text": [
        "\n",
        "Querying alternate name \u041c\u0438\u0445\u0430\u0439\u043b\u043e\u0432\u0441\u043a\u0438\u0439"
       ]
      },
      {
       "output_type": "stream",
       "stream": "stdout",
       "text": [
        "\n",
        "Looked up \u041c\u0438\u0445\u0430\u0439\u043b\u043e\u0432\u0441\u043a\u043e\u0439."
       ]
      },
      {
       "output_type": "stream",
       "stream": "stdout",
       "text": [
        "\n",
        "Querying alternate name \u041d\u0443\u0440\u043e\u043c\u0441\u043a\u0438\u0439"
       ]
      },
      {
       "output_type": "stream",
       "stream": "stdout",
       "text": [
        "\n",
        "Looked up \u041d\u0443\u0440\u043e\u043c\u0441\u043a\u043e\u0439."
       ]
      },
      {
       "output_type": "stream",
       "stream": "stdout",
       "text": [
        "\n",
        "Looked up \u0418\u0432\u0430\u043d\u0433\u043e\u0440\u043e\u0434."
       ]
      },
      {
       "output_type": "stream",
       "stream": "stdout",
       "text": [
        "\n",
        "Looked up \u0422\u0430\u0442\u0430\u0440\u0441\u043a."
       ]
      },
      {
       "output_type": "stream",
       "stream": "stdout",
       "text": [
        "\n",
        "Looked up \u041b\u0430\u043f\u0441\u0442\u0440\u0430\u043d\u0434."
       ]
      },
      {
       "output_type": "stream",
       "stream": "stdout",
       "text": [
        "\n",
        "Looked up \u041c\u0438\u0445\u0430\u0439\u043b\u043e\u0432\u043a\u0430."
       ]
      },
      {
       "output_type": "stream",
       "stream": "stdout",
       "text": [
        "\n",
        "Querying alternate name \u041e\u0434\u0440\u0438\u043d \u041d\u0438\u043a\u043e\u043b\u0430\u0435\u0432\u0441\u043a\u0438\u0439"
       ]
      },
      {
       "output_type": "stream",
       "stream": "stdout",
       "text": [
        "\n",
        "Looked up \u041e\u0434\u0440\u0438\u043d \u041d\u0438\u043a\u043e\u043b\u0430\u0435\u0432\u0441\u043a\u043e\u0439."
       ]
      },
      {
       "output_type": "stream",
       "stream": "stdout",
       "text": [
        "\n",
        "Looked up \u042f\u0440\u043e\u0441\u043b\u0430\u0432\u043b\u044c."
       ]
      },
      {
       "output_type": "stream",
       "stream": "stdout",
       "text": [
        "\n",
        "Looked up \u0420\u044b\u0437\u043d."
       ]
      },
      {
       "output_type": "stream",
       "stream": "stdout",
       "text": [
        "\n",
        "Looked up \u042f\u043a\u0443\u0442\u0441\u043a."
       ]
      },
      {
       "output_type": "stream",
       "stream": "stdout",
       "text": [
        "\n",
        "Looked up \u0421\u0430\u0432\u0438\u043d \u0421\u0442\u043e\u0440\u043e\u0436\u0435\u0432\u0441\u043a\u0438\u0439."
       ]
      },
      {
       "output_type": "stream",
       "stream": "stdout",
       "text": [
        "\n",
        "Looked up \u041a\u0443\u0440\u044c\u044f\u043d\u043e\u0432\u043e."
       ]
      },
      {
       "output_type": "stream",
       "stream": "stdout",
       "text": [
        "\n",
        "Looked up \u041d\u0430\u0440\u0432\u0430."
       ]
      },
      {
       "output_type": "stream",
       "stream": "stdout",
       "text": [
        "\n",
        "Looked up \u041c\u043e\u0446\u044b\u043d\u0430."
       ]
      },
      {
       "output_type": "stream",
       "stream": "stdout",
       "text": [
        "\n",
        "Looked up \u041e\u0441\u0442\u0440\u0430\u043c\u044c\u0435\u0432\u043e."
       ]
      },
      {
       "output_type": "stream",
       "stream": "stdout",
       "text": [
        "\n",
        "Looked up \u041a\u0430\u043c\u0435\u043d\u0435\u0446."
       ]
      },
      {
       "output_type": "stream",
       "stream": "stdout",
       "text": [
        "\n",
        "Querying alternate name \u0421\u0438\u043d\u0441\u043a\u0438\u0439"
       ]
      },
      {
       "output_type": "stream",
       "stream": "stdout",
       "text": [
        "\n",
        "Looked up \u0421\u0438\u043d\u0441\u043a\u043e\u0439."
       ]
      },
      {
       "output_type": "stream",
       "stream": "stdout",
       "text": [
        "\n",
        "Looked up \u0412\u043e\u043b\u0447\u044c\u044f."
       ]
      },
      {
       "output_type": "stream",
       "stream": "stdout",
       "text": [
        "\n",
        "Looked up \u041a\u0438\u0440\u0438\u043b\u043e\u0435\u043e."
       ]
      },
      {
       "output_type": "stream",
       "stream": "stdout",
       "text": [
        "\n",
        "Looked up \u041f\u0440\u0438\u043b\u0443\u043a\u0438."
       ]
      },
      {
       "output_type": "stream",
       "stream": "stdout",
       "text": [
        "\n",
        "Looked up \u041a\u043e\u0441\u0442\u044e\u043a\u043e\u0432\u0438\u0447\u0438."
       ]
      },
      {
       "output_type": "stream",
       "stream": "stdout",
       "text": [
        "\n",
        "Looked up \u042f\u0448."
       ]
      },
      {
       "output_type": "stream",
       "stream": "stdout",
       "text": [
        "\n",
        "Looked up \u0425\u0430\u044f\u0447\u0430."
       ]
      },
      {
       "output_type": "stream",
       "stream": "stdout",
       "text": [
        "\n",
        "Looked up \u0413\u0440\u0435\u043c\u044f\u0447\u044c."
       ]
      },
      {
       "output_type": "stream",
       "stream": "stdout",
       "text": [
        "\n",
        "Looked up \u0418\u0432\u0430\u043d\u043e\u0432\u043a\u0430."
       ]
      },
      {
       "output_type": "stream",
       "stream": "stdout",
       "text": [
        "\n",
        "Querying alternate name \u041b\u0438\u0441\u043a\u0438\u0439"
       ]
      },
      {
       "output_type": "stream",
       "stream": "stdout",
       "text": [
        "\n",
        "Looked up \u041b\u0438\u0441\u043a\u043e\u0439."
       ]
      },
      {
       "output_type": "stream",
       "stream": "stdout",
       "text": [
        "\n",
        "Looked up \u0410\u043b\u0435\u043a\u0441\u0435\u0435\u0432\u0441\u043a\u0430\u044f."
       ]
      },
      {
       "output_type": "stream",
       "stream": "stdout",
       "text": [
        "\n",
        "Looked up \u0420\u0430\u0442\u0441\u0431\u0443\u0440\u0433."
       ]
      },
      {
       "output_type": "stream",
       "stream": "stdout",
       "text": [
        "\n",
        "Looked up \u0410\u0440\u0442\u0435\u043c\u043e\u043d\u043e\u0432\u043a\u0430."
       ]
      },
      {
       "output_type": "stream",
       "stream": "stdout",
       "text": [
        "\n",
        "Looked up \u0412\u044b\u0441\u043e\u043a\u043e\u0435."
       ]
      },
      {
       "output_type": "stream",
       "stream": "stdout",
       "text": [
        "\n",
        "Looked up \u0411\u0440\u043e\u043d\u043d\u0438\u0446\u044b."
       ]
      },
      {
       "output_type": "stream",
       "stream": "stdout",
       "text": [
        "\n",
        "Looked up \u0415\u0440\u0435\u043c\u0435\u0435\u0432\u043a\u0430."
       ]
      },
      {
       "output_type": "stream",
       "stream": "stdout",
       "text": [
        "\n",
        "Looked up \u0421\u0435\u043c\u0435\u043d\u0434\u0435\u0435\u0432\u043e."
       ]
      },
      {
       "output_type": "stream",
       "stream": "stdout",
       "text": [
        "\n",
        "Querying alternate name \u0418\u043e\u0441\u0438\u0444\u043e\u0432\u043e"
       ]
      },
      {
       "output_type": "stream",
       "stream": "stdout",
       "text": [
        "\n",
        "Looked up \u0418\u043e\u0441\u0438\u0444\u043e\u0432."
       ]
      },
      {
       "output_type": "stream",
       "stream": "stdout",
       "text": [
        "\n",
        "Looked up \u0421\u0442\u044b\u0440\u043d\u044f\u043d\u044c\u0438."
       ]
      },
      {
       "output_type": "stream",
       "stream": "stdout",
       "text": [
        "\n",
        "Looked up \u041f\u043e\u0433\u0430\u0440\u044c."
       ]
      },
      {
       "output_type": "stream",
       "stream": "stdout",
       "text": [
        "\n",
        "Looked up \u0412\u044b\u0447\u0443\u0433\u0430."
       ]
      },
      {
       "output_type": "stream",
       "stream": "stdout",
       "text": [
        "\n",
        "Querying alternate name \u0428\u0443\u043d\u0433\u0441\u043a\u0438\u0439"
       ]
      },
      {
       "output_type": "stream",
       "stream": "stdout",
       "text": [
        "\n",
        "Looked up \u0428\u0443\u043d\u0433\u0441\u043a\u043e\u0439."
       ]
      },
      {
       "output_type": "stream",
       "stream": "stdout",
       "text": [
        "\n",
        "Looked up \u041a\u043e\u0440\u043e\u043f."
       ]
      },
      {
       "output_type": "stream",
       "stream": "stdout",
       "text": [
        "\n"
       ]
      }
     ],
     "prompt_number": 9
    },
    {
     "cell_type": "code",
     "collapsed": false,
     "input": [
      "geocoded"
     ],
     "language": "python",
     "metadata": {},
     "outputs": [
      {
       "metadata": {},
       "output_type": "pyout",
       "prompt_number": 42,
       "text": [
        "[{'fuzzy': 1,\n",
        "  'south_bound': 52.8329,\n",
        "  'north_bound': 55.0867,\n",
        "  'searched_name': '\u041a\u043e\u043b\u044e\u043f\u0430\u043d\u043e\u0432\u043a\u0430',\n",
        "  'hgr_id': 315,\n",
        "  'url': 'http://api.geonames.org/search?username=jaguillette&fuzzy=1&type=json&name=%D0%9A%D0%BE%D0%BB%D1%8E%D0%BF%D0%B0%D0%BD%D0%BE%D0%B2%D0%BA%D0%B0&south=52.8329&east=39.6827&north=55.0867&west=35.5421&featureClass=P',\n",
        "  'east_bound': 39.6827,\n",
        "  'west_bound': 35.5421},\n",
        " {'fuzzy': 0.9,\n",
        "  'south_bound': 52.8329,\n",
        "  'north_bound': 55.0867,\n",
        "  'searched_name': '\u041a\u043e\u043b\u044e\u043f\u0430\u043d\u043e\u0432\u043a\u0430',\n",
        "  'hgr_id': 315,\n",
        "  'url': 'http://api.geonames.org/search?username=jaguillette&fuzzy=0.9&type=json&name=%D0%9A%D0%BE%D0%BB%D1%8E%D0%BF%D0%B0%D0%BD%D0%BE%D0%B2%D0%BA%D0%B0&south=52.8329&east=39.6827&north=55.0867&west=35.5421&featureClass=P',\n",
        "  'east_bound': 39.6827,\n",
        "  'west_bound': 35.5421},\n",
        " {'fuzzy': 1,\n",
        "  'south_bound': 52.857828,\n",
        "  'north_bound': 60.857828,\n",
        "  'searched_name': '\u041a\u0435\u0441\u043e\u0432\u0430 \u0413\u043e\u0440\u0430',\n",
        "  'hgr_id': 285,\n",
        "  'url': 'http://api.geonames.org/search?username=jaguillette&fuzzy=1&type=json&name=%D0%9A%D0%B5%D1%81%D0%BE%D0%B2%D0%B0+%D0%93%D0%BE%D1%80%D0%B0&south=52.857828&east=31.921928&north=60.857828&west=39.921928&featureClass=P',\n",
        "  'east_bound': 31.921928,\n",
        "  'west_bound': 39.921928},\n",
        " {'fuzzy': 0.9,\n",
        "  'south_bound': 52.857828,\n",
        "  'north_bound': 60.857828,\n",
        "  'searched_name': '\u041a\u0435\u0441\u043e\u0432\u0430 \u0413\u043e\u0440\u0430',\n",
        "  'hgr_id': 285,\n",
        "  'url': 'http://api.geonames.org/search?username=jaguillette&fuzzy=0.9&type=json&name=%D0%9A%D0%B5%D1%81%D0%BE%D0%B2%D0%B0+%D0%93%D0%BE%D1%80%D0%B0&south=52.857828&east=31.921928&north=60.857828&west=39.921928&featureClass=P',\n",
        "  'east_bound': 31.921928,\n",
        "  'west_bound': 39.921928},\n",
        " {'south_bound': 49.08008,\n",
        "  'searched_name': '\u041a\u0440\u0430\u043f\u0438\u0432\u043d\u0430',\n",
        "  'gname_countryName': 'Ukraine',\n",
        "  'gname_countryId': '690791',\n",
        "  'gname_fcode': 'PPL',\n",
        "  'gname_countryCode': 'UA',\n",
        "  'west_bound': 29.72503,\n",
        "  'gname_toponymName': 'Krapivna',\n",
        "  'hgr_id': 335,\n",
        "  'gname_fclName': 'city, village,...',\n",
        "  'gname_lng': '32.16478',\n",
        "  'gname_fcl': 'P',\n",
        "  'gname_geonameId': 704503,\n",
        "  'fuzzy': 1,\n",
        "  'gname_population': 0,\n",
        "  'gname_fcodeName': 'populated place',\n",
        "  'east_bound': 34.35625,\n",
        "  'north_bound': 51.49413,\n",
        "  'gname_name': 'Krapivna',\n",
        "  'gname_adminCode1': '01',\n",
        "  'url': 'http://api.geonames.org/search?username=jaguillette&fuzzy=1&type=json&name=%D0%9A%D1%80%D0%B0%D0%BF%D0%B8%D0%B2%D0%BD%D0%B0&south=49.08008&east=34.35625&north=51.49413&west=29.72503&featureClass=P',\n",
        "  'gname_adminName1': 'Cherkasy',\n",
        "  'gname_lat': '49.63637'},\n",
        " {'south_bound': 53.2604,\n",
        "  'searched_name': '\u041b\u0438\u0445\u0432\u0438\u043d',\n",
        "  'gname_countryName': 'Russia',\n",
        "  'gname_countryId': '2017370',\n",
        "  'gname_fcode': 'PPL',\n",
        "  'gname_countryCode': 'RU',\n",
        "  'west_bound': 33.3881,\n",
        "  'gname_toponymName': 'Chekalin',\n",
        "  'hgr_id': 384,\n",
        "  'gname_fclName': 'city, village,...',\n",
        "  'gname_lng': '36.24499',\n",
        "  'gname_fcl': 'P',\n",
        "  'gname_geonameId': 569615,\n",
        "  'fuzzy': 1,\n",
        "  'gname_population': 1105,\n",
        "  'gname_fcodeName': 'populated place',\n",
        "  'east_bound': 37.3796,\n",
        "  'north_bound': 55.374,\n",
        "  'gname_name': 'Chekalin',\n",
        "  'gname_adminCode1': '76',\n",
        "  'url': 'http://api.geonames.org/search?username=jaguillette&fuzzy=1&type=json&name=%D0%9B%D0%B8%D1%85%D0%B2%D0%B8%D0%BD&south=53.2604&east=37.3796&north=55.374&west=33.3881&featureClass=P',\n",
        "  'gname_adminName1': 'Tula',\n",
        "  'gname_lat': '54.09685'},\n",
        " {'south_bound': 46.07,\n",
        "  'searched_name': '\u041e\u0440\u043b\u0438\u043a',\n",
        "  'gname_countryName': 'Ukraine',\n",
        "  'gname_countryId': '690791',\n",
        "  'gname_fcode': 'PPL',\n",
        "  'gname_countryCode': 'UA',\n",
        "  'west_bound': 29.6,\n",
        "  'gname_toponymName': 'Orlik',\n",
        "  'hgr_id': 497,\n",
        "  'gname_fclName': 'city, village,...',\n",
        "  'gname_lng': '34.23514',\n",
        "  'gname_fcl': 'P',\n",
        "  'gname_geonameId': 698394,\n",
        "  'fuzzy': 1,\n",
        "  'gname_population': 0,\n",
        "  'gname_fcodeName': 'populated place',\n",
        "  'east_bound': 39.14,\n",
        "  'north_bound': 49.99,\n",
        "  'gname_name': 'Orlik',\n",
        "  'gname_adminCode1': '18',\n",
        "  'url': 'http://api.geonames.org/search?username=jaguillette&fuzzy=1&type=json&name=%D0%9E%D1%80%D0%BB%D0%B8%D0%BA&south=46.07&east=39.14&north=49.99&west=29.6&featureClass=P',\n",
        "  'gname_adminName1': 'Poltava',\n",
        "  'gname_lat': '48.85998'},\n",
        " {'south_bound': 46.07,\n",
        "  'searched_name': '\u041e\u0440\u043b\u0438\u043a',\n",
        "  'gname_countryName': 'Ukraine',\n",
        "  'gname_countryId': '690791',\n",
        "  'gname_fcode': 'PPL',\n",
        "  'gname_countryCode': 'UA',\n",
        "  'west_bound': 29.6,\n",
        "  'gname_toponymName': 'Krasnyy Orlik',\n",
        "  'hgr_id': 497,\n",
        "  'gname_fclName': 'city, village,...',\n",
        "  'gname_lng': '33.98333',\n",
        "  'gname_fcl': 'P',\n",
        "  'gname_geonameId': 704192,\n",
        "  'fuzzy': 1,\n",
        "  'gname_population': 0,\n",
        "  'gname_fcodeName': 'populated place',\n",
        "  'east_bound': 39.14,\n",
        "  'north_bound': 49.99,\n",
        "  'gname_name': 'Krasnyy Orlik',\n",
        "  'gname_adminCode1': '04',\n",
        "  'url': 'http://api.geonames.org/search?username=jaguillette&fuzzy=1&type=json&name=%D0%9E%D1%80%D0%BB%D0%B8%D0%BA&south=46.07&east=39.14&north=49.99&west=29.6&featureClass=P',\n",
        "  'gname_adminName1': 'Dnipropetrovsk',\n",
        "  'gname_lat': '48.2'},\n",
        " {'south_bound': 46.07,\n",
        "  'searched_name': '\u041e\u0440\u043b\u0438\u043a',\n",
        "  'gname_countryName': 'Ukraine',\n",
        "  'gname_countryId': '690791',\n",
        "  'gname_fcode': 'PPLX',\n",
        "  'gname_countryCode': 'UA',\n",
        "  'west_bound': 29.6,\n",
        "  'gname_toponymName': 'Novyy Orlik',\n",
        "  'hgr_id': 497,\n",
        "  'gname_fclName': 'city, village,...',\n",
        "  'gname_lng': '34.2',\n",
        "  'gname_fcl': 'P',\n",
        "  'gname_geonameId': 698883,\n",
        "  'fuzzy': 1,\n",
        "  'gname_population': 0,\n",
        "  'gname_fcodeName': 'section of populated place',\n",
        "  'east_bound': 39.14,\n",
        "  'north_bound': 49.99,\n",
        "  'gname_name': 'Novyy Orlik',\n",
        "  'gname_adminCode1': '18',\n",
        "  'url': 'http://api.geonames.org/search?username=jaguillette&fuzzy=1&type=json&name=%D0%9E%D1%80%D0%BB%D0%B8%D0%BA&south=46.07&east=39.14&north=49.99&west=29.6&featureClass=P',\n",
        "  'gname_adminName1': 'Poltava',\n",
        "  'gname_lat': '48.81667'},\n",
        " {'south_bound': 46.07,\n",
        "  'searched_name': '\u041e\u0440\u043b\u0438\u043a',\n",
        "  'gname_countryName': 'Ukraine',\n",
        "  'gname_countryId': '690791',\n",
        "  'gname_fcode': 'PPLX',\n",
        "  'gname_countryCode': 'UA',\n",
        "  'west_bound': 29.6,\n",
        "  'gname_toponymName': 'Staryy Orlik',\n",
        "  'hgr_id': 497,\n",
        "  'gname_fclName': 'city, village,...',\n",
        "  'gname_lng': '34.23333',\n",
        "  'gname_fcl': 'P',\n",
        "  'gname_geonameId': 692705,\n",
        "  'fuzzy': 1,\n",
        "  'gname_population': 0,\n",
        "  'gname_fcodeName': 'section of populated place',\n",
        "  'east_bound': 39.14,\n",
        "  'north_bound': 49.99,\n",
        "  'gname_name': 'Staryy Orlik',\n",
        "  'gname_adminCode1': '18',\n",
        "  'url': 'http://api.geonames.org/search?username=jaguillette&fuzzy=1&type=json&name=%D0%9E%D1%80%D0%BB%D0%B8%D0%BA&south=46.07&east=39.14&north=49.99&west=29.6&featureClass=P',\n",
        "  'gname_adminName1': 'Poltava',\n",
        "  'gname_lat': '48.78333'},\n",
        " {'south_bound': 58.4716,\n",
        "  'searched_name': '\u041b\u0430\u043b\u044c\u0441\u043a',\n",
        "  'gname_countryName': 'Russia',\n",
        "  'gname_countryId': '2017370',\n",
        "  'gname_fcode': 'PPL',\n",
        "  'gname_countryCode': 'RU',\n",
        "  'west_bound': 38.3571,\n",
        "  'gname_toponymName': 'Lal\u2019sk',\n",
        "  'hgr_id': 372,\n",
        "  'gname_fclName': 'city, village,...',\n",
        "  'gname_lng': '47.58617',\n",
        "  'gname_fcl': 'P',\n",
        "  'gname_geonameId': 537094,\n",
        "  'fuzzy': 1,\n",
        "  'gname_population': 4400,\n",
        "  'gname_fcodeName': 'populated place',\n",
        "  'east_bound': 59.4701,\n",
        "  'north_bound': 64.5238,\n",
        "  'gname_name': \"Lal'sk\",\n",
        "  'gname_adminCode1': '33',\n",
        "  'url': 'http://api.geonames.org/search?username=jaguillette&fuzzy=1&type=json&name=%D0%9B%D0%B0%D0%BB%D1%8C%D1%81%D0%BA&south=58.4716&east=59.4701&north=64.5238&west=38.3571&featureClass=P',\n",
        "  'gname_adminName1': 'Kirov',\n",
        "  'gname_lat': '60.74146'},\n",
        " {'fuzzy': 1,\n",
        "  'south_bound': 46.07,\n",
        "  'north_bound': 49.99,\n",
        "  'searched_name': '\u0414\u043c\u0438\u0442\u0440\u043e\u0432\u0441\u043a\u0430\u044f',\n",
        "  'hgr_id': 192,\n",
        "  'url': 'http://api.geonames.org/search?username=jaguillette&fuzzy=1&type=json&name=%D0%94%D0%BC%D0%B8%D1%82%D1%80%D0%BE%D0%B2%D1%81%D0%BA%D0%B0%D1%8F&south=46.07&east=39.14&north=49.99&west=29.6&featureClass=P',\n",
        "  'east_bound': 39.14,\n",
        "  'west_bound': 29.6},\n",
        " {'fuzzy': 0.9,\n",
        "  'south_bound': 46.07,\n",
        "  'north_bound': 49.99,\n",
        "  'searched_name': '\u0414\u043c\u0438\u0442\u0440\u043e\u0432\u0441\u043a\u0430\u044f',\n",
        "  'hgr_id': 192,\n",
        "  'url': 'http://api.geonames.org/search?username=jaguillette&fuzzy=0.9&type=json&name=%D0%94%D0%BC%D0%B8%D1%82%D1%80%D0%BE%D0%B2%D1%81%D0%BA%D0%B0%D1%8F&south=46.07&east=39.14&north=49.99&west=29.6&featureClass=P',\n",
        "  'east_bound': 39.14,\n",
        "  'west_bound': 29.6},\n",
        " {'fuzzy': 1,\n",
        "  'south_bound': 48.716667,\n",
        "  'north_bound': 56.716667,\n",
        "  'searched_name': '\u0421\u0430\u0441\u043e\u0432\u043e',\n",
        "  'hgr_id': 674,\n",
        "  'url': 'http://api.geonames.org/search?username=jaguillette&fuzzy=1&type=json&name=%D0%A1%D0%B0%D1%81%D0%BE%D0%B2%D0%BE&south=48.716667&east=37.433333&north=56.716667&west=45.433333&featureClass=P',\n",
        "  'east_bound': 37.433333,\n",
        "  'west_bound': 45.433333},\n",
        " {'fuzzy': 0.9,\n",
        "  'south_bound': 48.716667,\n",
        "  'north_bound': 56.716667,\n",
        "  'searched_name': '\u0421\u0430\u0441\u043e\u0432\u043e',\n",
        "  'hgr_id': 674,\n",
        "  'url': 'http://api.geonames.org/search?username=jaguillette&fuzzy=0.9&type=json&name=%D0%A1%D0%B0%D1%81%D0%BE%D0%B2%D0%BE&south=48.716667&east=37.433333&north=56.716667&west=45.433333&featureClass=P',\n",
        "  'east_bound': 37.433333,\n",
        "  'west_bound': 45.433333},\n",
        " {'fuzzy': 1,\n",
        "  'south_bound': 52.3247,\n",
        "  'north_bound': 54.837,\n",
        "  'searched_name': '\u0427\u0435\u043d\u0431\u0430\u0440',\n",
        "  'hgr_id': 755,\n",
        "  'url': 'http://api.geonames.org/search?username=jaguillette&fuzzy=1&type=json&name=%D0%A7%D0%B5%D0%BD%D0%B1%D0%B0%D1%80&south=52.3247&east=46.7277&north=54.837&west=41.8373&featureClass=P',\n",
        "  'east_bound': 46.7277,\n",
        "  'west_bound': 41.8373},\n",
        " {'fuzzy': 0.9,\n",
        "  'south_bound': 52.3247,\n",
        "  'north_bound': 54.837,\n",
        "  'searched_name': '\u0427\u0435\u043d\u0431\u0430\u0440',\n",
        "  'hgr_id': 755,\n",
        "  'url': 'http://api.geonames.org/search?username=jaguillette&fuzzy=0.9&type=json&name=%D0%A7%D0%B5%D0%BD%D0%B1%D0%B0%D1%80&south=52.3247&east=46.7277&north=54.837&west=41.8373&featureClass=P',\n",
        "  'east_bound': 46.7277,\n",
        "  'west_bound': 41.8373},\n",
        " {'south_bound': 47.716667,\n",
        "  'searched_name': '\u041c\u0438\u0445\u0430\u0439\u043b\u043e\u0432\u043a\u0430',\n",
        "  'gname_countryName': 'Russia',\n",
        "  'gname_countryId': '2017370',\n",
        "  'gname_fcode': 'PPL',\n",
        "  'gname_countryCode': 'RU',\n",
        "  'west_bound': 40.183333,\n",
        "  'gname_toponymName': 'Mikhaylovka',\n",
        "  'hgr_id': 434,\n",
        "  'gname_fclName': 'city, village,...',\n",
        "  'gname_lng': '119.43379',\n",
        "  'gname_fcl': 'P',\n",
        "  'gname_geonameId': 2020005,\n",
        "  'fuzzy': 1,\n",
        "  'gname_population': 0,\n",
        "  'gname_fcodeName': 'populated place',\n",
        "  'east_bound': 32.183333,\n",
        "  'north_bound': 55.716667,\n",
        "  'gname_name': 'Mikhaylovka',\n",
        "  'gname_adminCode1': '93',\n",
        "  'url': 'http://api.geonames.org/search?username=jaguillette&fuzzy=1&type=json&name=%D0%9C%D0%B8%D1%85%D0%B0%D0%B9%D0%BB%D0%BE%D0%B2%D0%BA%D0%B0&south=47.716667&east=32.183333&north=55.716667&west=40.183333&featureClass=P',\n",
        "  'gname_adminName1': 'Transbaikal Territory',\n",
        "  'gname_lat': '51.1148'},\n",
        " {'south_bound': 47.716667,\n",
        "  'searched_name': '\u041c\u0438\u0445\u0430\u0439\u043b\u043e\u0432\u043a\u0430',\n",
        "  'gname_countryName': 'Russia',\n",
        "  'gname_countryId': '2017370',\n",
        "  'gname_fcode': 'PPL',\n",
        "  'gname_countryCode': 'RU',\n",
        "  'west_bound': 40.183333,\n",
        "  'gname_toponymName': 'Mikhaylovka',\n",
        "  'hgr_id': 434,\n",
        "  'gname_fclName': 'city, village,...',\n",
        "  'gname_lng': '104.15611',\n",
        "  'gname_fcl': 'P',\n",
        "  'gname_geonameId': 2020007,\n",
        "  'fuzzy': 1,\n",
        "  'gname_population': 0,\n",
        "  'gname_fcodeName': 'populated place',\n",
        "  'east_bound': 32.183333,\n",
        "  'north_bound': 55.716667,\n",
        "  'gname_name': 'Mikhaylovka',\n",
        "  'gname_adminCode1': '11',\n",
        "  'url': 'http://api.geonames.org/search?username=jaguillette&fuzzy=1&type=json&name=%D0%9C%D0%B8%D1%85%D0%B0%D0%B9%D0%BB%D0%BE%D0%B2%D0%BA%D0%B0&south=47.716667&east=32.183333&north=55.716667&west=40.183333&featureClass=P',\n",
        "  'gname_adminName1': 'Respublika Buryatiya',\n",
        "  'gname_lat': '50.40694'},\n",
        " {'south_bound': 47.716667,\n",
        "  'searched_name': '\u041c\u0438\u0445\u0430\u0439\u043b\u043e\u0432\u043a\u0430',\n",
        "  'gname_countryName': 'Russia',\n",
        "  'gname_countryId': '2017370',\n",
        "  'gname_fcode': 'PPL',\n",
        "  'gname_countryCode': 'RU',\n",
        "  'west_bound': 40.183333,\n",
        "  'gname_toponymName': 'Mikhaylovka',\n",
        "  'hgr_id': 434,\n",
        "  'gname_fclName': 'city, village,...',\n",
        "  'gname_lng': '75.2479',\n",
        "  'gname_fcl': 'P',\n",
        "  'gname_geonameId': 1498846,\n",
        "  'fuzzy': 1,\n",
        "  'gname_population': 0,\n",
        "  'gname_fcodeName': 'populated place',\n",
        "  'east_bound': 32.183333,\n",
        "  'north_bound': 55.716667,\n",
        "  'gname_name': 'Mikhaylovka',\n",
        "  'gname_adminCode1': '54',\n",
        "  'url': 'http://api.geonames.org/search?username=jaguillette&fuzzy=1&type=json&name=%D0%9C%D0%B8%D1%85%D0%B0%D0%B9%D0%BB%D0%BE%D0%B2%D0%BA%D0%B0&south=47.716667&east=32.183333&north=55.716667&west=40.183333&featureClass=P',\n",
        "  'gname_adminName1': 'Omsk',\n",
        "  'gname_lat': '54.1508'},\n",
        " {'south_bound': 47.716667,\n",
        "  'searched_name': '\u041c\u0438\u0445\u0430\u0439\u043b\u043e\u0432\u043a\u0430',\n",
        "  'gname_countryName': 'Russia',\n",
        "  'gname_countryId': '2017370',\n",
        "  'gname_fcode': 'PPL',\n",
        "  'gname_countryCode': 'RU',\n",
        "  'west_bound': 40.183333,\n",
        "  'gname_toponymName': 'Mikhaylovka',\n",
        "  'hgr_id': 434,\n",
        "  'gname_fclName': 'city, village,...',\n",
        "  'gname_lng': '55.89193',\n",
        "  'gname_fcl': 'P',\n",
        "  'gname_geonameId': 526875,\n",
        "  'fuzzy': 1,\n",
        "  'gname_population': 4344,\n",
        "  'gname_fcodeName': 'populated place',\n",
        "  'east_bound': 32.183333,\n",
        "  'north_bound': 55.716667,\n",
        "  'gname_name': 'Mikhaylovka',\n",
        "  'gname_adminCode1': '08',\n",
        "  'url': 'http://api.geonames.org/search?username=jaguillette&fuzzy=1&type=json&name=%D0%9C%D0%B8%D1%85%D0%B0%D0%B9%D0%BB%D0%BE%D0%B2%D0%BA%D0%B0&south=47.716667&east=32.183333&north=55.716667&west=40.183333&featureClass=P',\n",
        "  'gname_adminName1': 'Bashkortostan',\n",
        "  'gname_lat': '54.805'},\n",
        " {'south_bound': 47.716667,\n",
        "  'searched_name': '\u041c\u0438\u0445\u0430\u0439\u043b\u043e\u0432\u043a\u0430',\n",
        "  'gname_countryName': 'Russia',\n",
        "  'gname_countryId': '2017370',\n",
        "  'gname_fcode': 'PPL',\n",
        "  'gname_countryCode': 'RU',\n",
        "  'west_bound': 40.183333,\n",
        "  'gname_toponymName': 'Mikhaylovka',\n",
        "  'hgr_id': 434,\n",
        "  'gname_fclName': 'city, village,...',\n",
        "  'gname_lng': '103.2846',\n",
        "  'gname_fcl': 'P',\n",
        "  'gname_geonameId': 2020001,\n",
        "  'fuzzy': 1,\n",
        "  'gname_population': 0,\n",
        "  'gname_fcodeName': 'populated place',\n",
        "  'east_bound': 32.183333,\n",
        "  'north_bound': 55.716667,\n",
        "  'gname_name': 'Mikhaylovka',\n",
        "  'gname_adminCode1': '20',\n",
        "  'url': 'http://api.geonames.org/search?username=jaguillette&fuzzy=1&type=json&name=%D0%9C%D0%B8%D1%85%D0%B0%D0%B9%D0%BB%D0%BE%D0%B2%D0%BA%D0%B0&south=47.716667&east=32.183333&north=55.716667&west=40.183333&featureClass=P',\n",
        "  'gname_adminName1': 'Irkutsk',\n",
        "  'gname_lat': '52.9589'},\n",
        " {'south_bound': 47.716667,\n",
        "  'searched_name': '\u041c\u0438\u0445\u0430\u0439\u043b\u043e\u0432\u043a\u0430',\n",
        "  'gname_countryName': 'Russia',\n",
        "  'gname_countryId': '2017370',\n",
        "  'gname_fcode': 'PPL',\n",
        "  'gname_countryCode': 'RU',\n",
        "  'west_bound': 40.183333,\n",
        "  'gname_toponymName': 'Mikhaylovka',\n",
        "  'hgr_id': 434,\n",
        "  'gname_fclName': 'city, village,...',\n",
        "  'gname_lng': '110.47236',\n",
        "  'gname_fcl': 'P',\n",
        "  'gname_geonameId': 2020003,\n",
        "  'fuzzy': 1,\n",
        "  'gname_population': 0,\n",
        "  'gname_fcodeName': 'populated place',\n",
        "  'east_bound': 32.183333,\n",
        "  'north_bound': 55.716667,\n",
        "  'gname_name': 'Mikhaylovka',\n",
        "  'gname_adminCode1': '11',\n",
        "  'url': 'http://api.geonames.org/search?username=jaguillette&fuzzy=1&type=json&name=%D0%9C%D0%B8%D1%85%D0%B0%D0%B9%D0%BB%D0%BE%D0%B2%D0%BA%D0%B0&south=47.716667&east=32.183333&north=55.716667&west=40.183333&featureClass=P',\n",
        "  'gname_adminName1': 'Respublika Buryatiya',\n",
        "  'gname_lat': '51.89322'},\n",
        " {'south_bound': 47.716667,\n",
        "  'searched_name': '\u041c\u0438\u0445\u0430\u0439\u043b\u043e\u0432\u043a\u0430',\n",
        "  'gname_countryName': 'Russia',\n",
        "  'gname_countryId': '2017370',\n",
        "  'gname_fcode': 'PPL',\n",
        "  'gname_countryCode': 'RU',\n",
        "  'west_bound': 40.183333,\n",
        "  'gname_toponymName': 'Mikhaylovka',\n",
        "  'hgr_id': 434,\n",
        "  'gname_fclName': 'city, village,...',\n",
        "  'gname_lng': '128.66804',\n",
        "  'gname_fcl': 'P',\n",
        "  'gname_geonameId': 2020004,\n",
        "  'fuzzy': 1,\n",
        "  'gname_population': 0,\n",
        "  'gname_fcodeName': 'populated place',\n",
        "  'east_bound': 32.183333,\n",
        "  'north_bound': 55.716667,\n",
        "  'gname_name': 'Mikhaylovka',\n",
        "  'gname_adminCode1': '05',\n",
        "  'url': 'http://api.geonames.org/search?username=jaguillette&fuzzy=1&type=json&name=%D0%9C%D0%B8%D1%85%D0%B0%D0%B9%D0%BB%D0%BE%D0%B2%D0%BA%D0%B0&south=47.716667&east=32.183333&north=55.716667&west=40.183333&featureClass=P',\n",
        "  'gname_adminName1': 'Amur',\n",
        "  'gname_lat': '51.45231'},\n",
        " {'south_bound': 47.716667,\n",
        "  'searched_name': '\u041c\u0438\u0445\u0430\u0439\u043b\u043e\u0432\u043a\u0430',\n",
        "  'gname_countryName': 'Russia',\n",
        "  'gname_countryId': '2017370',\n",
        "  'gname_fcode': 'PPL',\n",
        "  'gname_countryCode': 'RU',\n",
        "  'west_bound': 40.183333,\n",
        "  'gname_toponymName': 'Mikhaylovka',\n",
        "  'hgr_id': 434,\n",
        "  'gname_fclName': 'city, village,...',\n",
        "  'gname_lng': '127.36868',\n",
        "  'gname_fcl': 'P',\n",
        "  'gname_geonameId': 2020006,\n",
        "  'fuzzy': 1,\n",
        "  'gname_population': 0,\n",
        "  'gname_fcodeName': 'populated place',\n",
        "  'east_bound': 32.183333,\n",
        "  'north_bound': 55.716667,\n",
        "  'gname_name': 'Mikhaylovka',\n",
        "  'gname_adminCode1': '05',\n",
        "  'url': 'http://api.geonames.org/search?username=jaguillette&fuzzy=1&type=json&name=%D0%9C%D0%B8%D1%85%D0%B0%D0%B9%D0%BB%D0%BE%D0%B2%D0%BA%D0%B0&south=47.716667&east=32.183333&north=55.716667&west=40.183333&featureClass=P',\n",
        "  'gname_adminName1': 'Amur',\n",
        "  'gname_lat': '50.63539'},\n",
        " {'south_bound': 47.716667,\n",
        "  'searched_name': '\u041c\u0438\u0445\u0430\u0439\u043b\u043e\u0432\u043a\u0430',\n",
        "  'gname_countryName': 'Russia',\n",
        "  'gname_countryId': '2017370',\n",
        "  'gname_fcode': 'PPL',\n",
        "  'gname_countryCode': 'RU',\n",
        "  'west_bound': 40.183333,\n",
        "  'gname_toponymName': 'Mikhaylovka',\n",
        "  'hgr_id': 434,\n",
        "  'gname_fclName': 'city, village,...',\n",
        "  'gname_lng': '81.96139',\n",
        "  'gname_fcl': 'P',\n",
        "  'gname_geonameId': 1498777,\n",
        "  'fuzzy': 1,\n",
        "  'gname_population': 0,\n",
        "  'gname_fcodeName': 'populated place',\n",
        "  'east_bound': 32.183333,\n",
        "  'north_bound': 55.716667,\n",
        "  'gname_name': 'Mikhaylovka',\n",
        "  'gname_adminCode1': '04',\n",
        "  'url': 'http://api.geonames.org/search?username=jaguillette&fuzzy=1&type=json&name=%D0%9C%D0%B8%D1%85%D0%B0%D0%B9%D0%BB%D0%BE%D0%B2%D0%BA%D0%B0&south=47.716667&east=32.183333&north=55.716667&west=40.183333&featureClass=P',\n",
        "  'gname_adminName1': 'Altai Krai',\n",
        "  'gname_lat': '50.81389'},\n",
        " {'south_bound': 47.716667,\n",
        "  'searched_name': '\u041c\u0438\u0445\u0430\u0439\u043b\u043e\u0432\u043a\u0430',\n",
        "  'gname_countryName': 'Russia',\n",
        "  'gname_countryId': '2017370',\n",
        "  'gname_fcode': 'PPL',\n",
        "  'gname_countryCode': 'RU',\n",
        "  'west_bound': 40.183333,\n",
        "  'gname_toponymName': 'Mikhaylovka',\n",
        "  'hgr_id': 434,\n",
        "  'gname_fclName': 'city, village,...',\n",
        "  'gname_lng': '72.97282',\n",
        "  'gname_fcl': 'P',\n",
        "  'gname_geonameId': 1498821,\n",
        "  'fuzzy': 1,\n",
        "  'gname_population': 0,\n",
        "  'gname_fcodeName': 'populated place',\n",
        "  'east_bound': 32.183333,\n",
        "  'north_bound': 55.716667,\n",
        "  'gname_name': 'Mikhaylovka',\n",
        "  'gname_adminCode1': '54',\n",
        "  'url': 'http://api.geonames.org/search?username=jaguillette&fuzzy=1&type=json&name=%D0%9C%D0%B8%D1%85%D0%B0%D0%B9%D0%BB%D0%BE%D0%B2%D0%BA%D0%B0&south=47.716667&east=32.183333&north=55.716667&west=40.183333&featureClass=P',\n",
        "  'gname_adminName1': 'Omsk',\n",
        "  'gname_lat': '55.66608'},\n",
        " {'south_bound': 47.716667,\n",
        "  'searched_name': '\u041c\u0438\u0445\u0430\u0439\u043b\u043e\u0432\u043a\u0430',\n",
        "  'gname_countryName': 'Russia',\n",
        "  'gname_countryId': '2017370',\n",
        "  'gname_fcode': 'PPL',\n",
        "  'gname_countryCode': 'RU',\n",
        "  'west_bound': 40.183333,\n",
        "  'gname_toponymName': 'Mikhaylovka',\n",
        "  'hgr_id': 434,\n",
        "  'gname_fclName': 'city, village,...',\n",
        "  'gname_lng': '66.49444',\n",
        "  'gname_fcl': 'P',\n",
        "  'gname_geonameId': 1498823,\n",
        "  'fuzzy': 1,\n",
        "  'gname_population': 0,\n",
        "  'gname_fcodeName': 'populated place',\n",
        "  'east_bound': 32.183333,\n",
        "  'north_bound': 55.716667,\n",
        "  'gname_name': 'Mikhaylovka',\n",
        "  'gname_adminCode1': '40',\n",
        "  'url': 'http://api.geonames.org/search?username=jaguillette&fuzzy=1&type=json&name=%D0%9C%D0%B8%D1%85%D0%B0%D0%B9%D0%BB%D0%BE%D0%B2%D0%BA%D0%B0&south=47.716667&east=32.183333&north=55.716667&west=40.183333&featureClass=P',\n",
        "  'gname_adminName1': 'Kurgan',\n",
        "  'gname_lat': '55.6325'},\n",
        " {'south_bound': 47.716667,\n",
        "  'searched_name': '\u041c\u0438\u0445\u0430\u0439\u043b\u043e\u0432\u043a\u0430',\n",
        "  'gname_countryName': 'Russia',\n",
        "  'gname_countryId': '2017370',\n",
        "  'gname_fcode': 'PPL',\n",
        "  'gname_countryCode': 'RU',\n",
        "  'west_bound': 40.183333,\n",
        "  'gname_toponymName': 'Mikhaylovka',\n",
        "  'hgr_id': 434,\n",
        "  'gname_fclName': 'city, village,...',\n",
        "  'gname_lng': '71.22526',\n",
        "  'gname_fcl': 'P',\n",
        "  'gname_geonameId': 1498828,\n",
        "  'fuzzy': 1,\n",
        "  'gname_population': 0,\n",
        "  'gname_fcodeName': 'populated place',\n",
        "  'east_bound': 32.183333,\n",
        "  'north_bound': 55.716667,\n",
        "  'gname_name': 'Mikhaylovka',\n",
        "  'gname_adminCode1': '54',\n",
        "  'url': 'http://api.geonames.org/search?username=jaguillette&fuzzy=1&type=json&name=%D0%9C%D0%B8%D1%85%D0%B0%D0%B9%D0%BB%D0%BE%D0%B2%D0%BA%D0%B0&south=47.716667&east=32.183333&north=55.716667&west=40.183333&featureClass=P',\n",
        "  'gname_adminName1': 'Omsk',\n",
        "  'gname_lat': '55.58524'},\n",
        " {'south_bound': 47.716667,\n",
        "  'searched_name': '\u041c\u0438\u0445\u0430\u0439\u043b\u043e\u0432\u043a\u0430',\n",
        "  'gname_countryName': 'Russia',\n",
        "  'gname_countryId': '2017370',\n",
        "  'gname_fcode': 'PPL',\n",
        "  'gname_countryCode': 'RU',\n",
        "  'west_bound': 40.183333,\n",
        "  'gname_toponymName': 'Mikhaylovka',\n",
        "  'hgr_id': 434,\n",
        "  'gname_fclName': 'city, village,...',\n",
        "  'gname_lng': '62.5032',\n",
        "  'gname_fcl': 'P',\n",
        "  'gname_geonameId': 1498831,\n",
        "  'fuzzy': 1,\n",
        "  'gname_population': 0,\n",
        "  'gname_fcodeName': 'populated place',\n",
        "  'east_bound': 32.183333,\n",
        "  'north_bound': 55.716667,\n",
        "  'gname_name': 'Mikhaylovka',\n",
        "  'gname_adminCode1': '40',\n",
        "  'url': 'http://api.geonames.org/search?username=jaguillette&fuzzy=1&type=json&name=%D0%9C%D0%B8%D1%85%D0%B0%D0%B9%D0%BB%D0%BE%D0%B2%D0%BA%D0%B0&south=47.716667&east=32.183333&north=55.716667&west=40.183333&featureClass=P',\n",
        "  'gname_adminName1': 'Kurgan',\n",
        "  'gname_lat': '55.4402'},\n",
        " {'south_bound': 47.716667,\n",
        "  'searched_name': '\u041c\u0438\u0445\u0430\u0439\u043b\u043e\u0432\u043a\u0430',\n",
        "  'gname_countryName': 'Russia',\n",
        "  'gname_countryId': '2017370',\n",
        "  'gname_fcode': 'PPL',\n",
        "  'gname_countryCode': 'RU',\n",
        "  'west_bound': 40.183333,\n",
        "  'gname_toponymName': 'Mikhaylovka',\n",
        "  'hgr_id': 434,\n",
        "  'gname_fclName': 'city, village,...',\n",
        "  'gname_lng': '83.6213',\n",
        "  'gname_fcl': 'P',\n",
        "  'gname_geonameId': 1498834,\n",
        "  'fuzzy': 1,\n",
        "  'gname_population': 0,\n",
        "  'gname_fcodeName': 'populated place',\n",
        "  'east_bound': 32.183333,\n",
        "  'north_bound': 55.716667,\n",
        "  'gname_name': 'Mikhaylovka',\n",
        "  'gname_adminCode1': '53',\n",
        "  'url': 'http://api.geonames.org/search?username=jaguillette&fuzzy=1&type=json&name=%D0%9C%D0%B8%D1%85%D0%B0%D0%B9%D0%BB%D0%BE%D0%B2%D0%BA%D0%B0&south=47.716667&east=32.183333&north=55.716667&west=40.183333&featureClass=P',\n",
        "  'gname_adminName1': 'Novosibirsk',\n",
        "  'gname_lat': '54.8953'},\n",
        " {'south_bound': 47.716667,\n",
        "  'searched_name': '\u041c\u0438\u0445\u0430\u0439\u043b\u043e\u0432\u043a\u0430',\n",
        "  'gname_countryName': 'Russia',\n",
        "  'gname_countryId': '2017370',\n",
        "  'gname_fcode': 'PPL',\n",
        "  'gname_countryCode': 'RU',\n",
        "  'west_bound': 40.183333,\n",
        "  'gname_toponymName': 'Mikhaylovka',\n",
        "  'hgr_id': 434,\n",
        "  'gname_fclName': 'city, village,...',\n",
        "  'gname_lng': '72.71587',\n",
        "  'gname_fcl': 'P',\n",
        "  'gname_geonameId': 1498836,\n",
        "  'fuzzy': 1,\n",
        "  'gname_population': 0,\n",
        "  'gname_fcodeName': 'populated place',\n",
        "  'east_bound': 32.183333,\n",
        "  'north_bound': 55.716667,\n",
        "  'gname_name': 'Mikhaylovka',\n",
        "  'gname_adminCode1': '54',\n",
        "  'url': 'http://api.geonames.org/search?username=jaguillette&fuzzy=1&type=json&name=%D0%9C%D0%B8%D1%85%D0%B0%D0%B9%D0%BB%D0%BE%D0%B2%D0%BA%D0%B0&south=47.716667&east=32.183333&north=55.716667&west=40.183333&featureClass=P',\n",
        "  'gname_adminName1': 'Omsk',\n",
        "  'gname_lat': '54.80822'},\n",
        " {'south_bound': 47.716667,\n",
        "  'searched_name': '\u041c\u0438\u0445\u0430\u0439\u043b\u043e\u0432\u043a\u0430',\n",
        "  'gname_countryName': 'Russia',\n",
        "  'gname_countryId': '2017370',\n",
        "  'gname_fcode': 'PPL',\n",
        "  'gname_countryCode': 'RU',\n",
        "  'west_bound': 40.183333,\n",
        "  'gname_toponymName': 'Mikhaylovka',\n",
        "  'hgr_id': 434,\n",
        "  'gname_fclName': 'city, village,...',\n",
        "  'gname_lng': '75.19531',\n",
        "  'gname_fcl': 'P',\n",
        "  'gname_geonameId': 1498838,\n",
        "  'fuzzy': 1,\n",
        "  'gname_population': 0,\n",
        "  'gname_fcodeName': 'populated place',\n",
        "  'east_bound': 32.183333,\n",
        "  'north_bound': 55.716667,\n",
        "  'gname_name': 'Mikhaylovka',\n",
        "  'gname_adminCode1': '54',\n",
        "  'url': 'http://api.geonames.org/search?username=jaguillette&fuzzy=1&type=json&name=%D0%9C%D0%B8%D1%85%D0%B0%D0%B9%D0%BB%D0%BE%D0%B2%D0%BA%D0%B0&south=47.716667&east=32.183333&north=55.716667&west=40.183333&featureClass=P',\n",
        "  'gname_adminName1': 'Omsk',\n",
        "  'gname_lat': '54.73024'},\n",
        " {'south_bound': 47.716667,\n",
        "  'searched_name': '\u041c\u0438\u0445\u0430\u0439\u043b\u043e\u0432\u043a\u0430',\n",
        "  'gname_countryName': 'Russia',\n",
        "  'gname_countryId': '2017370',\n",
        "  'gname_fcode': 'PPL',\n",
        "  'gname_countryCode': 'RU',\n",
        "  'west_bound': 40.183333,\n",
        "  'gname_toponymName': 'Mikhaylovka',\n",
        "  'hgr_id': 434,\n",
        "  'gname_fclName': 'city, village,...',\n",
        "  'gname_lng': '83.0931',\n",
        "  'gname_fcl': 'P',\n",
        "  'gname_geonameId': 1498841,\n",
        "  'fuzzy': 1,\n",
        "  'gname_population': 0,\n",
        "  'gname_fcodeName': 'populated place',\n",
        "  'east_bound': 32.183333,\n",
        "  'north_bound': 55.716667,\n",
        "  'gname_name': 'Mikhaylovka',\n",
        "  'gname_adminCode1': '53',\n",
        "  'url': 'http://api.geonames.org/search?username=jaguillette&fuzzy=1&type=json&name=%D0%9C%D0%B8%D1%85%D0%B0%D0%B9%D0%BB%D0%BE%D0%B2%D0%BA%D0%B0&south=47.716667&east=32.183333&north=55.716667&west=40.183333&featureClass=P',\n",
        "  'gname_adminName1': 'Novosibirsk',\n",
        "  'gname_lat': '54.4292'},\n",
        " {'south_bound': 47.716667,\n",
        "  'searched_name': '\u041c\u0438\u0445\u0430\u0439\u043b\u043e\u0432\u043a\u0430',\n",
        "  'gname_countryName': 'Russia',\n",
        "  'gname_countryId': '2017370',\n",
        "  'gname_fcode': 'PPL',\n",
        "  'gname_countryCode': 'RU',\n",
        "  'west_bound': 40.183333,\n",
        "  'gname_toponymName': 'Mikhaylovka',\n",
        "  'hgr_id': 434,\n",
        "  'gname_fclName': 'city, village,...',\n",
        "  'gname_lng': '78.04918',\n",
        "  'gname_fcl': 'P',\n",
        "  'gname_geonameId': 1498850,\n",
        "  'fuzzy': 1,\n",
        "  'gname_population': 0,\n",
        "  'gname_fcodeName': 'populated place',\n",
        "  'east_bound': 32.183333,\n",
        "  'north_bound': 55.716667,\n",
        "  'gname_name': 'Mikhaylovka',\n",
        "  'gname_adminCode1': '53',\n",
        "  'url': 'http://api.geonames.org/search?username=jaguillette&fuzzy=1&type=json&name=%D0%9C%D0%B8%D1%85%D0%B0%D0%B9%D0%BB%D0%BE%D0%B2%D0%BA%D0%B0&south=47.716667&east=32.183333&north=55.716667&west=40.183333&featureClass=P',\n",
        "  'gname_adminName1': 'Novosibirsk',\n",
        "  'gname_lat': '53.64347'},\n",
        " {'south_bound': 47.716667,\n",
        "  'searched_name': '\u041c\u0438\u0445\u0430\u0439\u043b\u043e\u0432\u043a\u0430',\n",
        "  'gname_countryName': 'Russia',\n",
        "  'gname_countryId': '2017370',\n",
        "  'gname_fcode': 'PPL',\n",
        "  'gname_countryCode': 'RU',\n",
        "  'west_bound': 40.183333,\n",
        "  'gname_toponymName': 'Mikhaylovka',\n",
        "  'hgr_id': 434,\n",
        "  'gname_fclName': 'city, village,...',\n",
        "  'gname_lng': '78.1583',\n",
        "  'gname_fcl': 'P',\n",
        "  'gname_geonameId': 1498853,\n",
        "  'fuzzy': 1,\n",
        "  'gname_population': 0,\n",
        "  'gname_fcodeName': 'populated place',\n",
        "  'east_bound': 32.183333,\n",
        "  'north_bound': 55.716667,\n",
        "  'gname_name': 'Mikhaylovka',\n",
        "  'gname_adminCode1': '04',\n",
        "  'url': 'http://api.geonames.org/search?username=jaguillette&fuzzy=1&type=json&name=%D0%9C%D0%B8%D1%85%D0%B0%D0%B9%D0%BB%D0%BE%D0%B2%D0%BA%D0%B0&south=47.716667&east=32.183333&north=55.716667&west=40.183333&featureClass=P',\n",
        "  'gname_adminName1': 'Altai Krai',\n",
        "  'gname_lat': '53.2449'},\n",
        " {'south_bound': 47.716667,\n",
        "  'searched_name': '\u041c\u0438\u0445\u0430\u0439\u043b\u043e\u0432\u043a\u0430',\n",
        "  'gname_countryName': 'Russia',\n",
        "  'gname_countryId': '2017370',\n",
        "  'gname_fcode': 'PPL',\n",
        "  'gname_countryCode': 'RU',\n",
        "  'west_bound': 40.183333,\n",
        "  'gname_toponymName': 'Mikhaylovka',\n",
        "  'hgr_id': 434,\n",
        "  'gname_fclName': 'city, village,...',\n",
        "  'gname_lng': '86.66667',\n",
        "  'gname_fcl': 'P',\n",
        "  'gname_geonameId': 1498857,\n",
        "  'fuzzy': 1,\n",
        "  'gname_population': 0,\n",
        "  'gname_fcodeName': 'populated place',\n",
        "  'east_bound': 32.183333,\n",
        "  'north_bound': 55.716667,\n",
        "  'gname_name': 'Mikhaylovka',\n",
        "  'gname_adminCode1': '04',\n",
        "  'url': 'http://api.geonames.org/search?username=jaguillette&fuzzy=1&type=json&name=%D0%9C%D0%B8%D1%85%D0%B0%D0%B9%D0%BB%D0%BE%D0%B2%D0%BA%D0%B0&south=47.716667&east=32.183333&north=55.716667&west=40.183333&featureClass=P',\n",
        "  'gname_adminName1': 'Altai Krai',\n",
        "  'gname_lat': '52.21667'},\n",
        " {'south_bound': 47.716667,\n",
        "  'searched_name': '\u041c\u0438\u0445\u0430\u0439\u043b\u043e\u0432\u043a\u0430',\n",
        "  'gname_countryName': 'Russia',\n",
        "  'gname_countryId': '2017370',\n",
        "  'gname_fcode': 'PPL',\n",
        "  'gname_countryCode': 'RU',\n",
        "  'west_bound': 40.183333,\n",
        "  'gname_toponymName': 'Mikhaylovka',\n",
        "  'hgr_id': 434,\n",
        "  'gname_fclName': 'city, village,...',\n",
        "  'gname_lng': '82.13333',\n",
        "  'gname_fcl': 'P',\n",
        "  'gname_geonameId': 1498858,\n",
        "  'fuzzy': 1,\n",
        "  'gname_population': 0,\n",
        "  'gname_fcodeName': 'populated place',\n",
        "  'east_bound': 32.183333,\n",
        "  'north_bound': 55.716667,\n",
        "  'gname_name': 'Mikhaylovka',\n",
        "  'gname_adminCode1': '04',\n",
        "  'url': 'http://api.geonames.org/search?username=jaguillette&fuzzy=1&type=json&name=%D0%9C%D0%B8%D1%85%D0%B0%D0%B9%D0%BB%D0%BE%D0%B2%D0%BA%D0%B0&south=47.716667&east=32.183333&north=55.716667&west=40.183333&featureClass=P',\n",
        "  'gname_adminName1': 'Altai Krai',\n",
        "  'gname_lat': '51.51667'},\n",
        " {'south_bound': 47.716667,\n",
        "  'searched_name': '\u041c\u0438\u0445\u0430\u0439\u043b\u043e\u0432\u043a\u0430',\n",
        "  'gname_countryName': 'Russia',\n",
        "  'gname_countryId': '2017370',\n",
        "  'gname_fcode': 'PPL',\n",
        "  'gname_countryCode': 'RU',\n",
        "  'west_bound': 40.183333,\n",
        "  'gname_toponymName': 'Mikhaylovka',\n",
        "  'hgr_id': 434,\n",
        "  'gname_fclName': 'city, village,...',\n",
        "  'gname_lng': '57.0761',\n",
        "  'gname_fcl': 'P',\n",
        "  'gname_geonameId': 526878,\n",
        "  'fuzzy': 1,\n",
        "  'gname_population': 0,\n",
        "  'gname_fcodeName': 'populated place',\n",
        "  'east_bound': 32.183333,\n",
        "  'north_bound': 55.716667,\n",
        "  'gname_name': 'Mikhaylovka',\n",
        "  'gname_adminCode1': '08',\n",
        "  'url': 'http://api.geonames.org/search?username=jaguillette&fuzzy=1&type=json&name=%D0%9C%D0%B8%D1%85%D0%B0%D0%B9%D0%BB%D0%BE%D0%B2%D0%BA%D0%B0&south=47.716667&east=32.183333&north=55.716667&west=40.183333&featureClass=P',\n",
        "  'gname_adminName1': 'Bashkortostan',\n",
        "  'gname_lat': '54.6117'},\n",
        " {'south_bound': 47.716667,\n",
        "  'searched_name': '\u041c\u0438\u0445\u0430\u0439\u043b\u043e\u0432\u043a\u0430',\n",
        "  'gname_countryName': 'Russia',\n",
        "  'gname_countryId': '2017370',\n",
        "  'gname_fcode': 'PPL',\n",
        "  'gname_countryCode': 'RU',\n",
        "  'west_bound': 40.183333,\n",
        "  'gname_toponymName': 'Mikhaylovka',\n",
        "  'hgr_id': 434,\n",
        "  'gname_fclName': 'city, village,...',\n",
        "  'gname_lng': '52.56577',\n",
        "  'gname_fcl': 'P',\n",
        "  'gname_geonameId': 526885,\n",
        "  'fuzzy': 1,\n",
        "  'gname_population': 0,\n",
        "  'gname_fcodeName': 'populated place',\n",
        "  'east_bound': 32.183333,\n",
        "  'north_bound': 55.716667,\n",
        "  'gname_name': 'Mikhaylovka',\n",
        "  'gname_adminCode1': '73',\n",
        "  'url': 'http://api.geonames.org/search?username=jaguillette&fuzzy=1&type=json&name=%D0%9C%D0%B8%D1%85%D0%B0%D0%B9%D0%BB%D0%BE%D0%B2%D0%BA%D0%B0&south=47.716667&east=32.183333&north=55.716667&west=40.183333&featureClass=P',\n",
        "  'gname_adminName1': 'Tatarstan',\n",
        "  'gname_lat': '54.43978'},\n",
        " {'south_bound': 47.716667,\n",
        "  'searched_name': '\u041c\u0438\u0445\u0430\u0439\u043b\u043e\u0432\u043a\u0430',\n",
        "  'gname_countryName': 'Russia',\n",
        "  'gname_countryId': '2017370',\n",
        "  'gname_fcode': 'PPL',\n",
        "  'gname_countryCode': 'RU',\n",
        "  'west_bound': 40.183333,\n",
        "  'gname_toponymName': 'Mikhaylovka',\n",
        "  'hgr_id': 434,\n",
        "  'gname_fclName': 'city, village,...',\n",
        "  'gname_lng': '52.4662',\n",
        "  'gname_fcl': 'P',\n",
        "  'gname_geonameId': 526914,\n",
        "  'fuzzy': 1,\n",
        "  'gname_population': 0,\n",
        "  'gname_fcodeName': 'populated place',\n",
        "  'east_bound': 32.183333,\n",
        "  'north_bound': 55.716667,\n",
        "  'gname_name': 'Mikhaylovka',\n",
        "  'gname_adminCode1': '55',\n",
        "  'url': 'http://api.geonames.org/search?username=jaguillette&fuzzy=1&type=json&name=%D0%9C%D0%B8%D1%85%D0%B0%D0%B9%D0%BB%D0%BE%D0%B2%D0%BA%D0%B0&south=47.716667&east=32.183333&north=55.716667&west=40.183333&featureClass=P',\n",
        "  'gname_adminName1': 'Orenburg',\n",
        "  'gname_lat': '53.6777'},\n",
        " {'south_bound': 47.716667,\n",
        "  'searched_name': '\u041c\u0438\u0445\u0430\u0439\u043b\u043e\u0432\u043a\u0430',\n",
        "  'gname_countryName': 'Russia',\n",
        "  'gname_countryId': '2017370',\n",
        "  'gname_fcode': 'PPL',\n",
        "  'gname_countryCode': 'RU',\n",
        "  'west_bound': 40.183333,\n",
        "  'gname_toponymName': 'Mikhaylovka',\n",
        "  'hgr_id': 434,\n",
        "  'gname_fclName': 'city, village,...',\n",
        "  'gname_lng': '48.3181',\n",
        "  'gname_fcl': 'P',\n",
        "  'gname_geonameId': 526919,\n",
        "  'fuzzy': 1,\n",
        "  'gname_population': 0,\n",
        "  'gname_fcodeName': 'populated place',\n",
        "  'east_bound': 32.183333,\n",
        "  'north_bound': 55.716667,\n",
        "  'gname_name': 'Mikhaylovka',\n",
        "  'gname_adminCode1': '81',\n",
        "  'url': 'http://api.geonames.org/search?username=jaguillette&fuzzy=1&type=json&name=%D0%9C%D0%B8%D1%85%D0%B0%D0%B9%D0%BB%D0%BE%D0%B2%D0%BA%D0%B0&south=47.716667&east=32.183333&north=55.716667&west=40.183333&featureClass=P',\n",
        "  'gname_adminName1': 'Ulyanovsk',\n",
        "  'gname_lat': '53.5385'},\n",
        " {'south_bound': 47.716667,\n",
        "  'searched_name': '\u041c\u0438\u0445\u0430\u0439\u043b\u043e\u0432\u043a\u0430',\n",
        "  'gname_countryName': 'Russia',\n",
        "  'gname_countryId': '2017370',\n",
        "  'gname_fcode': 'PPL',\n",
        "  'gname_countryCode': 'RU',\n",
        "  'west_bound': 40.183333,\n",
        "  'gname_toponymName': 'Mikhaylovka',\n",
        "  'hgr_id': 434,\n",
        "  'gname_fclName': 'city, village,...',\n",
        "  'gname_lng': '44.49694',\n",
        "  'gname_fcl': 'P',\n",
        "  'gname_geonameId': 526921,\n",
        "  'fuzzy': 1,\n",
        "  'gname_population': 0,\n",
        "  'gname_fcodeName': 'populated place',\n",
        "  'east_bound': 32.183333,\n",
        "  'north_bound': 55.716667,\n",
        "  'gname_name': 'Mikhaylovka',\n",
        "  'gname_adminCode1': '57',\n",
        "  'url': 'http://api.geonames.org/search?username=jaguillette&fuzzy=1&type=json&name=%D0%9C%D0%B8%D1%85%D0%B0%D0%B9%D0%BB%D0%BE%D0%B2%D0%BA%D0%B0&south=47.716667&east=32.183333&north=55.716667&west=40.183333&featureClass=P',\n",
        "  'gname_adminName1': 'Penza',\n",
        "  'gname_lat': '53.4716'},\n",
        " {'south_bound': 47.716667,\n",
        "  'searched_name': '\u041c\u0438\u0445\u0430\u0439\u043b\u043e\u0432\u043a\u0430',\n",
        "  'gname_countryName': 'Russia',\n",
        "  'gname_countryId': '2017370',\n",
        "  'gname_fcode': 'PPL',\n",
        "  'gname_countryCode': 'RU',\n",
        "  'west_bound': 40.183333,\n",
        "  'gname_toponymName': 'Mikhaylovka',\n",
        "  'hgr_id': 434,\n",
        "  'gname_fclName': 'city, village,...',\n",
        "  'gname_lng': '58.7225',\n",
        "  'gname_fcl': 'P',\n",
        "  'gname_geonameId': 526922,\n",
        "  'fuzzy': 1,\n",
        "  'gname_population': 0,\n",
        "  'gname_fcodeName': 'populated place',\n",
        "  'east_bound': 32.183333,\n",
        "  'north_bound': 55.716667,\n",
        "  'gname_name': 'Mikhaylovka',\n",
        "  'gname_adminCode1': '08',\n",
        "  'url': 'http://api.geonames.org/search?username=jaguillette&fuzzy=1&type=json&name=%D0%9C%D0%B8%D1%85%D0%B0%D0%B9%D0%BB%D0%BE%D0%B2%D0%BA%D0%B0&south=47.716667&east=32.183333&north=55.716667&west=40.183333&featureClass=P',\n",
        "  'gname_adminName1': 'Bashkortostan',\n",
        "  'gname_lat': '53.4442'},\n",
        " {'south_bound': 47.716667,\n",
        "  'searched_name': '\u041c\u0438\u0445\u0430\u0439\u043b\u043e\u0432\u043a\u0430',\n",
        "  'gname_countryName': 'Russia',\n",
        "  'gname_countryId': '2017370',\n",
        "  'gname_fcode': 'PPL',\n",
        "  'gname_countryCode': 'RU',\n",
        "  'west_bound': 40.183333,\n",
        "  'gname_toponymName': 'Mikhaylovka',\n",
        "  'hgr_id': 434,\n",
        "  'gname_fclName': 'city, village,...',\n",
        "  'gname_lng': '59.7984',\n",
        "  'gname_fcl': 'P',\n",
        "  'gname_geonameId': 526930,\n",
        "  'fuzzy': 1,\n",
        "  'gname_population': 0,\n",
        "  'gname_fcodeName': 'populated place',\n",
        "  'east_bound': 32.183333,\n",
        "  'north_bound': 55.716667,\n",
        "  'gname_name': 'Mikhaylovka',\n",
        "  'gname_adminCode1': '13',\n",
        "  'url': 'http://api.geonames.org/search?username=jaguillette&fuzzy=1&type=json&name=%D0%9C%D0%B8%D1%85%D0%B0%D0%B9%D0%BB%D0%BE%D0%B2%D0%BA%D0%B0&south=47.716667&east=32.183333&north=55.716667&west=40.183333&featureClass=P',\n",
        "  'gname_adminName1': 'Chelyabinsk',\n",
        "  'gname_lat': '53.1735'},\n",
        " {'south_bound': 47.716667,\n",
        "  'searched_name': '\u041c\u0438\u0445\u0430\u0439\u043b\u043e\u0432\u043a\u0430',\n",
        "  'gname_countryName': 'Russia',\n",
        "  'gname_countryId': '2017370',\n",
        "  'gname_fcode': 'PPL',\n",
        "  'gname_countryCode': 'RU',\n",
        "  'west_bound': 40.183333,\n",
        "  'gname_toponymName': 'Mikhaylovka',\n",
        "  'hgr_id': 434,\n",
        "  'gname_fclName': 'city, village,...',\n",
        "  'gname_lng': '55.3',\n",
        "  'gname_fcl': 'P',\n",
        "  'gname_geonameId': 526937,\n",
        "  'fuzzy': 1,\n",
        "  'gname_population': 0,\n",
        "  'gname_fcodeName': 'populated place',\n",
        "  'east_bound': 32.183333,\n",
        "  'north_bound': 55.716667,\n",
        "  'gname_name': 'Mikhaylovka',\n",
        "  'gname_adminCode1': '08',\n",
        "  'url': 'http://api.geonames.org/search?username=jaguillette&fuzzy=1&type=json&name=%D0%9C%D0%B8%D1%85%D0%B0%D0%B9%D0%BB%D0%BE%D0%B2%D0%BA%D0%B0&south=47.716667&east=32.183333&north=55.716667&west=40.183333&featureClass=P',\n",
        "  'gname_adminName1': 'Bashkortostan',\n",
        "  'gname_lat': '52.93333'},\n",
        " {'south_bound': 47.716667,\n",
        "  'searched_name': '\u041c\u0438\u0445\u0430\u0439\u043b\u043e\u0432\u043a\u0430',\n",
        "  'gname_countryName': 'Russia',\n",
        "  'gname_countryId': '2017370',\n",
        "  'gname_fcode': 'PPL',\n",
        "  'gname_countryCode': 'RU',\n",
        "  'west_bound': 40.183333,\n",
        "  'gname_toponymName': 'Mikhaylovka',\n",
        "  'hgr_id': 434,\n",
        "  'gname_fclName': 'city, village,...',\n",
        "  'gname_lng': '54.73333',\n",
        "  'gname_fcl': 'P',\n",
        "  'gname_geonameId': 526958,\n",
        "  'fuzzy': 1,\n",
        "  'gname_population': 0,\n",
        "  'gname_fcodeName': 'populated place',\n",
        "  'east_bound': 32.183333,\n",
        "  'north_bound': 55.716667,\n",
        "  'gname_name': 'Mikhaylovka',\n",
        "  'gname_adminCode1': '55',\n",
        "  'url': 'http://api.geonames.org/search?username=jaguillette&fuzzy=1&type=json&name=%D0%9C%D0%B8%D1%85%D0%B0%D0%B9%D0%BB%D0%BE%D0%B2%D0%BA%D0%B0&south=47.716667&east=32.183333&north=55.716667&west=40.183333&featureClass=P',\n",
        "  'gname_adminName1': 'Orenburg',\n",
        "  'gname_lat': '52.56667'},\n",
        " {'south_bound': 47.716667,\n",
        "  'searched_name': '\u041c\u0438\u0445\u0430\u0439\u043b\u043e\u0432\u043a\u0430',\n",
        "  'gname_countryName': 'Russia',\n",
        "  'gname_countryId': '2017370',\n",
        "  'gname_fcode': 'PPL',\n",
        "  'gname_countryCode': 'RU',\n",
        "  'west_bound': 40.183333,\n",
        "  'gname_toponymName': 'Mikhaylovka',\n",
        "  'hgr_id': 434,\n",
        "  'gname_fclName': 'city, village,...',\n",
        "  'gname_lng': '51.9465',\n",
        "  'gname_fcl': 'P',\n",
        "  'gname_geonameId': 526962,\n",
        "  'fuzzy': 1,\n",
        "  'gname_population': 0,\n",
        "  'gname_fcodeName': 'populated place',\n",
        "  'east_bound': 32.183333,\n",
        "  'north_bound': 55.716667,\n",
        "  'gname_name': 'Mikhaylovka',\n",
        "  'gname_adminCode1': '55',\n",
        "  'url': 'http://api.geonames.org/search?username=jaguillette&fuzzy=1&type=json&name=%D0%9C%D0%B8%D1%85%D0%B0%D0%B9%D0%BB%D0%BE%D0%B2%D0%BA%D0%B0&south=47.716667&east=32.183333&north=55.716667&west=40.183333&featureClass=P',\n",
        "  'gname_adminName1': 'Orenburg',\n",
        "  'gname_lat': '52.393'},\n",
        " {'south_bound': 47.716667,\n",
        "  'searched_name': '\u041c\u0438\u0445\u0430\u0439\u043b\u043e\u0432\u043a\u0430',\n",
        "  'gname_countryName': 'Russia',\n",
        "  'gname_countryId': '2017370',\n",
        "  'gname_fcode': 'PPL',\n",
        "  'gname_countryCode': 'RU',\n",
        "  'west_bound': 40.183333,\n",
        "  'gname_toponymName': 'Mikhaylovka',\n",
        "  'hgr_id': 434,\n",
        "  'gname_fclName': 'city, village,...',\n",
        "  'gname_lng': '55.71667',\n",
        "  'gname_fcl': 'P',\n",
        "  'gname_geonameId': 526963,\n",
        "  'fuzzy': 1,\n",
        "  'gname_population': 0,\n",
        "  'gname_fcodeName': 'populated place',\n",
        "  'east_bound': 32.183333,\n",
        "  'north_bound': 55.716667,\n",
        "  'gname_name': 'Mikhaylovka',\n",
        "  'gname_adminCode1': '55',\n",
        "  'url': 'http://api.geonames.org/search?username=jaguillette&fuzzy=1&type=json&name=%D0%9C%D0%B8%D1%85%D0%B0%D0%B9%D0%BB%D0%BE%D0%B2%D0%BA%D0%B0&south=47.716667&east=32.183333&north=55.716667&west=40.183333&featureClass=P',\n",
        "  'gname_adminName1': 'Orenburg',\n",
        "  'gname_lat': '52.36667'},\n",
        " {'south_bound': 47.716667,\n",
        "  'searched_name': '\u041c\u0438\u0445\u0430\u0439\u043b\u043e\u0432\u043a\u0430',\n",
        "  'gname_countryName': 'Russia',\n",
        "  'gname_countryId': '2017370',\n",
        "  'gname_fcode': 'PPL',\n",
        "  'gname_countryCode': 'RU',\n",
        "  'west_bound': 40.183333,\n",
        "  'gname_toponymName': 'Mikhaylovka',\n",
        "  'hgr_id': 434,\n",
        "  'gname_fclName': 'city, village,...',\n",
        "  'gname_lng': '40.9403',\n",
        "  'gname_fcl': 'P',\n",
        "  'gname_geonameId': 526971,\n",
        "  'fuzzy': 1,\n",
        "  'gname_population': 0,\n",
        "  'gname_fcodeName': 'populated place',\n",
        "  'east_bound': 32.183333,\n",
        "  'north_bound': 55.716667,\n",
        "  'gname_name': 'Mikhaylovka',\n",
        "  'gname_adminCode1': '72',\n",
        "  'url': 'http://api.geonames.org/search?username=jaguillette&fuzzy=1&type=json&name=%D0%9C%D0%B8%D1%85%D0%B0%D0%B9%D0%BB%D0%BE%D0%B2%D0%BA%D0%B0&south=47.716667&east=32.183333&north=55.716667&west=40.183333&featureClass=P',\n",
        "  'gname_adminName1': 'Tambov',\n",
        "  'gname_lat': '52.1788'},\n",
        " {'south_bound': 47.716667,\n",
        "  'searched_name': '\u041c\u0438\u0445\u0430\u0439\u043b\u043e\u0432\u043a\u0430',\n",
        "  'gname_countryName': 'Russia',\n",
        "  'gname_countryId': '2017370',\n",
        "  'gname_fcode': 'PPL',\n",
        "  'gname_countryCode': 'RU',\n",
        "  'west_bound': 40.183333,\n",
        "  'gname_toponymName': 'Mikhaylovka',\n",
        "  'hgr_id': 434,\n",
        "  'gname_fclName': 'city, village,...',\n",
        "  'gname_lng': '57.8634',\n",
        "  'gname_fcl': 'P',\n",
        "  'gname_geonameId': 526975,\n",
        "  'fuzzy': 1,\n",
        "  'gname_population': 0,\n",
        "  'gname_fcodeName': 'populated place',\n",
        "  'east_bound': 32.183333,\n",
        "  'north_bound': 55.716667,\n",
        "  'gname_name': 'Mikhaylovka',\n",
        "  'gname_adminCode1': '08',\n",
        "  'url': 'http://api.geonames.org/search?username=jaguillette&fuzzy=1&type=json&name=%D0%9C%D0%B8%D1%85%D0%B0%D0%B9%D0%BB%D0%BE%D0%B2%D0%BA%D0%B0&south=47.716667&east=32.183333&north=55.716667&west=40.183333&featureClass=P',\n",
        "  'gname_adminName1': 'Bashkortostan',\n",
        "  'gname_lat': '52.039'},\n",
        " {'south_bound': 47.716667,\n",
        "  'searched_name': '\u041c\u0438\u0445\u0430\u0439\u043b\u043e\u0432\u043a\u0430',\n",
        "  'gname_countryName': 'Russia',\n",
        "  'gname_countryId': '2017370',\n",
        "  'gname_fcode': 'PPL',\n",
        "  'gname_countryCode': 'RU',\n",
        "  'west_bound': 40.183333,\n",
        "  'gname_toponymName': 'Mikhaylovka',\n",
        "  'hgr_id': 434,\n",
        "  'gname_fclName': 'city, village,...',\n",
        "  'gname_lng': '45.71635',\n",
        "  'gname_fcl': 'P',\n",
        "  'gname_geonameId': 526998,\n",
        "  'fuzzy': 1,\n",
        "  'gname_population': 0,\n",
        "  'gname_fcodeName': 'populated place',\n",
        "  'east_bound': 32.183333,\n",
        "  'north_bound': 55.716667,\n",
        "  'gname_name': 'Mikhaylovka',\n",
        "  'gname_adminCode1': '67',\n",
        "  'url': 'http://api.geonames.org/search?username=jaguillette&fuzzy=1&type=json&name=%D0%9C%D0%B8%D1%85%D0%B0%D0%B9%D0%BB%D0%BE%D0%B2%D0%BA%D0%B0&south=47.716667&east=32.183333&north=55.716667&west=40.183333&featureClass=P',\n",
        "  'gname_adminName1': 'Saratov',\n",
        "  'gname_lat': '51.49436'},\n",
        " {'south_bound': 47.716667,\n",
        "  'searched_name': '\u041c\u0438\u0445\u0430\u0439\u043b\u043e\u0432\u043a\u0430',\n",
        "  'gname_countryName': 'Russia',\n",
        "  'gname_countryId': '2017370',\n",
        "  'gname_fcode': 'PPL',\n",
        "  'gname_countryCode': 'RU',\n",
        "  'west_bound': 40.183333,\n",
        "  'gname_toponymName': 'Mikhaylovka',\n",
        "  'hgr_id': 434,\n",
        "  'gname_fclName': 'city, village,...',\n",
        "  'gname_lng': '48.5064',\n",
        "  'gname_fcl': 'P',\n",
        "  'gname_geonameId': 527004,\n",
        "  'fuzzy': 1,\n",
        "  'gname_population': 0,\n",
        "  'gname_fcodeName': 'populated place',\n",
        "  'east_bound': 32.183333,\n",
        "  'north_bound': 55.716667,\n",
        "  'gname_name': 'Mikhaylovka',\n",
        "  'gname_adminCode1': '67',\n",
        "  'url': 'http://api.geonames.org/search?username=jaguillette&fuzzy=1&type=json&name=%D0%9C%D0%B8%D1%85%D0%B0%D0%B9%D0%BB%D0%BE%D0%B2%D0%BA%D0%B0&south=47.716667&east=32.183333&north=55.716667&west=40.183333&featureClass=P',\n",
        "  'gname_adminName1': 'Saratov',\n",
        "  'gname_lat': '51.3093'},\n",
        " {'south_bound': 47.716667,\n",
        "  'searched_name': '\u041c\u0438\u0445\u0430\u0439\u043b\u043e\u0432\u043a\u0430',\n",
        "  'gname_countryName': 'Russia',\n",
        "  'gname_countryId': '2017370',\n",
        "  'gname_fcode': 'PPL',\n",
        "  'gname_countryCode': 'RU',\n",
        "  'west_bound': 40.183333,\n",
        "  'gname_toponymName': 'Mikhaylovka',\n",
        "  'hgr_id': 434,\n",
        "  'gname_fclName': 'city, village,...',\n",
        "  'gname_lng': '40.2345',\n",
        "  'gname_fcl': 'P',\n",
        "  'gname_geonameId': 527010,\n",
        "  'fuzzy': 1,\n",
        "  'gname_population': 0,\n",
        "  'gname_fcodeName': 'populated place',\n",
        "  'east_bound': 32.183333,\n",
        "  'north_bound': 55.716667,\n",
        "  'gname_name': 'Mikhaylovka',\n",
        "  'gname_adminCode1': '86',\n",
        "  'url': 'http://api.geonames.org/search?username=jaguillette&fuzzy=1&type=json&name=%D0%9C%D0%B8%D1%85%D0%B0%D0%B9%D0%BB%D0%BE%D0%B2%D0%BA%D0%B0&south=47.716667&east=32.183333&north=55.716667&west=40.183333&featureClass=P',\n",
        "  'gname_adminName1': 'Voronezj',\n",
        "  'gname_lat': '50.5247'},\n",
        " {'south_bound': 47.716667,\n",
        "  'searched_name': '\u041c\u0438\u0445\u0430\u0439\u043b\u043e\u0432\u043a\u0430',\n",
        "  'gname_countryName': 'Russia',\n",
        "  'gname_countryId': '2017370',\n",
        "  'gname_fcode': 'PPL',\n",
        "  'gname_countryCode': 'RU',\n",
        "  'west_bound': 40.183333,\n",
        "  'gname_toponymName': 'Mikhaylovka',\n",
        "  'hgr_id': 434,\n",
        "  'gname_fclName': 'city, village,...',\n",
        "  'gname_lng': '52.98648',\n",
        "  'gname_fcl': 'P',\n",
        "  'gname_geonameId': 532088,\n",
        "  'fuzzy': 1,\n",
        "  'gname_population': 0,\n",
        "  'gname_fcodeName': 'populated place',\n",
        "  'east_bound': 32.183333,\n",
        "  'north_bound': 55.716667,\n",
        "  'gname_name': 'Makhaylovka',\n",
        "  'gname_adminCode1': '55',\n",
        "  'url': 'http://api.geonames.org/search?username=jaguillette&fuzzy=1&type=json&name=%D0%9C%D0%B8%D1%85%D0%B0%D0%B9%D0%BB%D0%BE%D0%B2%D0%BA%D0%B0&south=47.716667&east=32.183333&north=55.716667&west=40.183333&featureClass=P',\n",
        "  'gname_adminName1': 'Orenburg',\n",
        "  'gname_lat': '53.7238'},\n",
        " {'south_bound': 47.716667,\n",
        "  'searched_name': '\u041c\u0438\u0445\u0430\u0439\u043b\u043e\u0432\u043a\u0430',\n",
        "  'gname_countryName': 'Russia',\n",
        "  'gname_countryId': '2017370',\n",
        "  'gname_fcode': 'PPL',\n",
        "  'gname_countryCode': 'RU',\n",
        "  'west_bound': 40.183333,\n",
        "  'gname_toponymName': 'Mikhaylovka',\n",
        "  'hgr_id': 434,\n",
        "  'gname_fclName': 'city, village,...',\n",
        "  'gname_lng': '43.2379',\n",
        "  'gname_fcl': 'P',\n",
        "  'gname_geonameId': 527012,\n",
        "  'fuzzy': 1,\n",
        "  'gname_population': 58898,\n",
        "  'gname_fcodeName': 'populated place',\n",
        "  'east_bound': 32.183333,\n",
        "  'north_bound': 55.716667,\n",
        "  'gname_name': 'Mikhaylovka',\n",
        "  'gname_adminCode1': '84',\n",
        "  'url': 'http://api.geonames.org/search?username=jaguillette&fuzzy=1&type=json&name=%D0%9C%D0%B8%D1%85%D0%B0%D0%B9%D0%BB%D0%BE%D0%B2%D0%BA%D0%B0&south=47.716667&east=32.183333&north=55.716667&west=40.183333&featureClass=P',\n",
        "  'gname_adminName1': 'Volgograd',\n",
        "  'gname_lat': '50.06'},\n",
        " {'south_bound': 47.716667,\n",
        "  'searched_name': '\u041c\u0438\u0445\u0430\u0439\u043b\u043e\u0432\u043a\u0430',\n",
        "  'gname_countryName': 'Russia',\n",
        "  'gname_countryId': '2017370',\n",
        "  'gname_fcode': 'PPL',\n",
        "  'gname_countryCode': 'RU',\n",
        "  'west_bound': 40.183333,\n",
        "  'gname_toponymName': 'Mikhaylovka',\n",
        "  'hgr_id': 434,\n",
        "  'gname_fclName': 'city, village,...',\n",
        "  'gname_lng': '128.84528',\n",
        "  'gname_fcl': 'P',\n",
        "  'gname_geonameId': 2020008,\n",
        "  'fuzzy': 1,\n",
        "  'gname_population': 0,\n",
        "  'gname_fcodeName': 'populated place',\n",
        "  'east_bound': 32.183333,\n",
        "  'north_bound': 55.716667,\n",
        "  'gname_name': 'Mikhaylovka',\n",
        "  'gname_adminCode1': '05',\n",
        "  'url': 'http://api.geonames.org/search?username=jaguillette&fuzzy=1&type=json&name=%D0%9C%D0%B8%D1%85%D0%B0%D0%B9%D0%BB%D0%BE%D0%B2%D0%BA%D0%B0&south=47.716667&east=32.183333&north=55.716667&west=40.183333&featureClass=P',\n",
        "  'gname_adminName1': 'Amur',\n",
        "  'gname_lat': '49.91626'},\n",
        " {'south_bound': 47.716667,\n",
        "  'searched_name': '\u041c\u0438\u0445\u0430\u0439\u043b\u043e\u0432\u043a\u0430',\n",
        "  'gname_countryName': 'Russia',\n",
        "  'gname_countryId': '2017370',\n",
        "  'gname_fcode': 'PPL',\n",
        "  'gname_countryCode': 'RU',\n",
        "  'west_bound': 40.183333,\n",
        "  'gname_toponymName': 'Mikhaylovka',\n",
        "  'hgr_id': 434,\n",
        "  'gname_fclName': 'city, village,...',\n",
        "  'gname_lng': '60.59865',\n",
        "  'gname_fcl': 'P',\n",
        "  'gname_geonameId': 1492834,\n",
        "  'fuzzy': 1,\n",
        "  'gname_population': 0,\n",
        "  'gname_fcodeName': 'populated place',\n",
        "  'east_bound': 32.183333,\n",
        "  'north_bound': 55.716667,\n",
        "  'gname_name': 'Mikhaylovka',\n",
        "  'gname_adminCode1': '13',\n",
        "  'url': 'http://api.geonames.org/search?username=jaguillette&fuzzy=1&type=json&name=%D0%9C%D0%B8%D1%85%D0%B0%D0%B9%D0%BB%D0%BE%D0%B2%D0%BA%D0%B0&south=47.716667&east=32.183333&north=55.716667&west=40.183333&featureClass=P',\n",
        "  'gname_adminName1': 'Chelyabinsk',\n",
        "  'gname_lat': '54.42657'},\n",
        " {'south_bound': 47.716667,\n",
        "  'searched_name': '\u041c\u0438\u0445\u0430\u0439\u043b\u043e\u0432\u043a\u0430',\n",
        "  'gname_countryName': 'Russia',\n",
        "  'gname_countryId': '2017370',\n",
        "  'gname_fcode': 'PPL',\n",
        "  'gname_countryCode': 'RU',\n",
        "  'west_bound': 40.183333,\n",
        "  'gname_toponymName': 'Mikhaylovka',\n",
        "  'hgr_id': 434,\n",
        "  'gname_fclName': 'city, village,...',\n",
        "  'gname_lng': '54.98333',\n",
        "  'gname_fcl': 'P',\n",
        "  'gname_geonameId': 526787,\n",
        "  'fuzzy': 1,\n",
        "  'gname_population': 0,\n",
        "  'gname_fcodeName': 'populated place',\n",
        "  'east_bound': 32.183333,\n",
        "  'north_bound': 55.716667,\n",
        "  'gname_name': 'Mikhaylovskiy',\n",
        "  'gname_adminCode1': '55',\n",
        "  'url': 'http://api.geonames.org/search?username=jaguillette&fuzzy=1&type=json&name=%D0%9C%D0%B8%D1%85%D0%B0%D0%B9%D0%BB%D0%BE%D0%B2%D0%BA%D0%B0&south=47.716667&east=32.183333&north=55.716667&west=40.183333&featureClass=P',\n",
        "  'gname_adminName1': 'Orenburg',\n",
        "  'gname_lat': '52.16667'},\n",
        " {'south_bound': 47.716667,\n",
        "  'searched_name': '\u041c\u0438\u0445\u0430\u0439\u043b\u043e\u0432\u043a\u0430',\n",
        "  'gname_countryName': 'Russia',\n",
        "  'gname_countryId': '2017370',\n",
        "  'gname_fcode': 'PPL',\n",
        "  'gname_countryCode': 'RU',\n",
        "  'west_bound': 40.183333,\n",
        "  'gname_toponymName': 'Mikhaylovka',\n",
        "  'hgr_id': 434,\n",
        "  'gname_fclName': 'city, village,...',\n",
        "  'gname_lng': '42.90341',\n",
        "  'gname_fcl': 'P',\n",
        "  'gname_geonameId': 527001,\n",
        "  'fuzzy': 1,\n",
        "  'gname_population': 0,\n",
        "  'gname_fcodeName': 'populated place',\n",
        "  'east_bound': 32.183333,\n",
        "  'north_bound': 55.716667,\n",
        "  'gname_name': 'Mikhaylovka',\n",
        "  'gname_adminCode1': '67',\n",
        "  'url': 'http://api.geonames.org/search?username=jaguillette&fuzzy=1&type=json&name=%D0%9C%D0%B8%D1%85%D0%B0%D0%B9%D0%BB%D0%BE%D0%B2%D0%BA%D0%B0&south=47.716667&east=32.183333&north=55.716667&west=40.183333&featureClass=P',\n",
        "  'gname_adminName1': 'Saratov',\n",
        "  'gname_lat': '51.3671'},\n",
        " {'south_bound': 47.716667,\n",
        "  'searched_name': '\u041c\u0438\u0445\u0430\u0439\u043b\u043e\u0432\u043a\u0430',\n",
        "  'gname_countryName': 'Russia',\n",
        "  'gname_countryId': '2017370',\n",
        "  'gname_fcode': 'PPL',\n",
        "  'gname_countryCode': 'RU',\n",
        "  'west_bound': 40.183333,\n",
        "  'gname_toponymName': 'Mikhaylovka',\n",
        "  'hgr_id': 434,\n",
        "  'gname_fclName': 'city, village,...',\n",
        "  'gname_lng': '62.8709',\n",
        "  'gname_fcl': 'P',\n",
        "  'gname_geonameId': 1498822,\n",
        "  'fuzzy': 1,\n",
        "  'gname_population': 0,\n",
        "  'gname_fcodeName': 'populated place',\n",
        "  'east_bound': 32.183333,\n",
        "  'north_bound': 55.716667,\n",
        "  'gname_name': 'Mikhaylovka',\n",
        "  'gname_adminCode1': '40',\n",
        "  'url': 'http://api.geonames.org/search?username=jaguillette&fuzzy=1&type=json&name=%D0%9C%D0%B8%D1%85%D0%B0%D0%B9%D0%BB%D0%BE%D0%B2%D0%BA%D0%B0&south=47.716667&east=32.183333&north=55.716667&west=40.183333&featureClass=P',\n",
        "  'gname_adminName1': 'Kurgan',\n",
        "  'gname_lat': '55.6499'},\n",
        " {'south_bound': 47.716667,\n",
        "  'searched_name': '\u041c\u0438\u0445\u0430\u0439\u043b\u043e\u0432\u043a\u0430',\n",
        "  'gname_countryName': 'Russia',\n",
        "  'gname_countryId': '2017370',\n",
        "  'gname_fcode': 'PPL',\n",
        "  'gname_countryCode': 'RU',\n",
        "  'west_bound': 40.183333,\n",
        "  'gname_toponymName': 'Mikhaylovka',\n",
        "  'hgr_id': 434,\n",
        "  'gname_fclName': 'city, village,...',\n",
        "  'gname_lng': '79.36058',\n",
        "  'gname_fcl': 'P',\n",
        "  'gname_geonameId': 1498825,\n",
        "  'fuzzy': 1,\n",
        "  'gname_population': 0,\n",
        "  'gname_fcodeName': 'populated place',\n",
        "  'east_bound': 32.183333,\n",
        "  'north_bound': 55.716667,\n",
        "  'gname_name': 'Mikhaylovka',\n",
        "  'gname_adminCode1': '53',\n",
        "  'url': 'http://api.geonames.org/search?username=jaguillette&fuzzy=1&type=json&name=%D0%9C%D0%B8%D1%85%D0%B0%D0%B9%D0%BB%D0%BE%D0%B2%D0%BA%D0%B0&south=47.716667&east=32.183333&north=55.716667&west=40.183333&featureClass=P',\n",
        "  'gname_adminName1': 'Novosibirsk',\n",
        "  'gname_lat': '55.58776'},\n",
        " {'south_bound': 47.716667,\n",
        "  'searched_name': '\u041c\u0438\u0445\u0430\u0439\u043b\u043e\u0432\u043a\u0430',\n",
        "  'gname_countryName': 'Russia',\n",
        "  'gname_countryId': '2017370',\n",
        "  'gname_fcode': 'PPL',\n",
        "  'gname_countryCode': 'RU',\n",
        "  'west_bound': 40.183333,\n",
        "  'gname_toponymName': 'Mikhaylovka',\n",
        "  'hgr_id': 434,\n",
        "  'gname_fclName': 'city, village,...',\n",
        "  'gname_lng': '75.57324',\n",
        "  'gname_fcl': 'P',\n",
        "  'gname_geonameId': 1498829,\n",
        "  'fuzzy': 1,\n",
        "  'gname_population': 0,\n",
        "  'gname_fcodeName': 'populated place',\n",
        "  'east_bound': 32.183333,\n",
        "  'north_bound': 55.716667,\n",
        "  'gname_name': 'Mikhaylovka',\n",
        "  'gname_adminCode1': '53',\n",
        "  'url': 'http://api.geonames.org/search?username=jaguillette&fuzzy=1&type=json&name=%D0%9C%D0%B8%D1%85%D0%B0%D0%B9%D0%BB%D0%BE%D0%B2%D0%BA%D0%B0&south=47.716667&east=32.183333&north=55.716667&west=40.183333&featureClass=P',\n",
        "  'gname_adminName1': 'Novosibirsk',\n",
        "  'gname_lat': '55.49765'},\n",
        " {'south_bound': 47.716667,\n",
        "  'searched_name': '\u041c\u0438\u0445\u0430\u0439\u043b\u043e\u0432\u043a\u0430',\n",
        "  'gname_countryName': 'Russia',\n",
        "  'gname_countryId': '2017370',\n",
        "  'gname_fcode': 'PPL',\n",
        "  'gname_countryCode': 'RU',\n",
        "  'west_bound': 40.183333,\n",
        "  'gname_toponymName': 'Mikhaylovka',\n",
        "  'hgr_id': 434,\n",
        "  'gname_fclName': 'city, village,...',\n",
        "  'gname_lng': '70.08528',\n",
        "  'gname_fcl': 'P',\n",
        "  'gname_geonameId': 1498832,\n",
        "  'fuzzy': 1,\n",
        "  'gname_population': 0,\n",
        "  'gname_fcodeName': 'populated place',\n",
        "  'east_bound': 32.183333,\n",
        "  'north_bound': 55.716667,\n",
        "  'gname_name': 'Mikhaylovka',\n",
        "  'gname_adminCode1': '78',\n",
        "  'url': 'http://api.geonames.org/search?username=jaguillette&fuzzy=1&type=json&name=%D0%9C%D0%B8%D1%85%D0%B0%D0%B9%D0%BB%D0%BE%D0%B2%D0%BA%D0%B0&south=47.716667&east=32.183333&north=55.716667&west=40.183333&featureClass=P',\n",
        "  'gname_adminName1': 'Tjumen',\n",
        "  'gname_lat': '55.26105'},\n",
        " {'south_bound': 47.716667,\n",
        "  'searched_name': '\u041c\u0438\u0445\u0430\u0439\u043b\u043e\u0432\u043a\u0430',\n",
        "  'gname_countryName': 'Russia',\n",
        "  'gname_countryId': '2017370',\n",
        "  'gname_fcode': 'PPL',\n",
        "  'gname_countryCode': 'RU',\n",
        "  'west_bound': 40.183333,\n",
        "  'gname_toponymName': 'Mikhaylovka',\n",
        "  'hgr_id': 434,\n",
        "  'gname_fclName': 'city, village,...',\n",
        "  'gname_lng': '74.27467',\n",
        "  'gname_fcl': 'P',\n",
        "  'gname_geonameId': 1498837,\n",
        "  'fuzzy': 1,\n",
        "  'gname_population': 0,\n",
        "  'gname_fcodeName': 'populated place',\n",
        "  'east_bound': 32.183333,\n",
        "  'north_bound': 55.716667,\n",
        "  'gname_name': 'Mikhaylovka',\n",
        "  'gname_adminCode1': '54',\n",
        "  'url': 'http://api.geonames.org/search?username=jaguillette&fuzzy=1&type=json&name=%D0%9C%D0%B8%D1%85%D0%B0%D0%B9%D0%BB%D0%BE%D0%B2%D0%BA%D0%B0&south=47.716667&east=32.183333&north=55.716667&west=40.183333&featureClass=P',\n",
        "  'gname_adminName1': 'Omsk',\n",
        "  'gname_lat': '54.76379'},\n",
        " {'south_bound': 47.716667,\n",
        "  'searched_name': '\u041c\u0438\u0445\u0430\u0439\u043b\u043e\u0432\u043a\u0430',\n",
        "  'gname_countryName': 'Russia',\n",
        "  'gname_countryId': '2017370',\n",
        "  'gname_fcode': 'PPL',\n",
        "  'gname_countryCode': 'RU',\n",
        "  'west_bound': 40.183333,\n",
        "  'gname_toponymName': 'Mikhaylovka',\n",
        "  'hgr_id': 434,\n",
        "  'gname_fclName': 'city, village,...',\n",
        "  'gname_lng': '78.5632',\n",
        "  'gname_fcl': 'P',\n",
        "  'gname_geonameId': 1498839,\n",
        "  'fuzzy': 1,\n",
        "  'gname_population': 0,\n",
        "  'gname_fcodeName': 'populated place',\n",
        "  'east_bound': 32.183333,\n",
        "  'north_bound': 55.716667,\n",
        "  'gname_name': 'Mikhaylovka',\n",
        "  'gname_adminCode1': '53',\n",
        "  'url': 'http://api.geonames.org/search?username=jaguillette&fuzzy=1&type=json&name=%D0%9C%D0%B8%D1%85%D0%B0%D0%B9%D0%BB%D0%BE%D0%B2%D0%BA%D0%B0&south=47.716667&east=32.183333&north=55.716667&west=40.183333&featureClass=P',\n",
        "  'gname_adminName1': 'Novosibirsk',\n",
        "  'gname_lat': '54.56666'},\n",
        " {'south_bound': 47.716667,\n",
        "  'searched_name': '\u041c\u0438\u0445\u0430\u0439\u043b\u043e\u0432\u043a\u0430',\n",
        "  'gname_countryName': 'Russia',\n",
        "  'gname_countryId': '2017370',\n",
        "  'gname_fcode': 'PPL',\n",
        "  'gname_countryCode': 'RU',\n",
        "  'west_bound': 40.183333,\n",
        "  'gname_toponymName': 'Mikhaylovka',\n",
        "  'hgr_id': 434,\n",
        "  'gname_fclName': 'city, village,...',\n",
        "  'gname_lng': '79.953',\n",
        "  'gname_fcl': 'P',\n",
        "  'gname_geonameId': 1498852,\n",
        "  'fuzzy': 1,\n",
        "  'gname_population': 0,\n",
        "  'gname_fcodeName': 'populated place',\n",
        "  'east_bound': 32.183333,\n",
        "  'north_bound': 55.716667,\n",
        "  'gname_name': 'Mikhaylovka',\n",
        "  'gname_adminCode1': '04',\n",
        "  'url': 'http://api.geonames.org/search?username=jaguillette&fuzzy=1&type=json&name=%D0%9C%D0%B8%D1%85%D0%B0%D0%B9%D0%BB%D0%BE%D0%B2%D0%BA%D0%B0&south=47.716667&east=32.183333&north=55.716667&west=40.183333&featureClass=P',\n",
        "  'gname_adminName1': 'Altai Krai',\n",
        "  'gname_lat': '53.5087'},\n",
        " {'south_bound': 47.716667,\n",
        "  'searched_name': '\u041c\u0438\u0445\u0430\u0439\u043b\u043e\u0432\u043a\u0430',\n",
        "  'gname_countryName': 'Russia',\n",
        "  'gname_countryId': '2017370',\n",
        "  'gname_fcode': 'PPL',\n",
        "  'gname_countryCode': 'RU',\n",
        "  'west_bound': 40.183333,\n",
        "  'gname_toponymName': 'Mikhaylovka',\n",
        "  'hgr_id': 434,\n",
        "  'gname_fclName': 'city, village,...',\n",
        "  'gname_lng': '57.93468',\n",
        "  'gname_fcl': 'P',\n",
        "  'gname_geonameId': 526863,\n",
        "  'fuzzy': 1,\n",
        "  'gname_population': 0,\n",
        "  'gname_fcodeName': 'populated place',\n",
        "  'east_bound': 32.183333,\n",
        "  'north_bound': 55.716667,\n",
        "  'gname_name': 'Mikhaylovka',\n",
        "  'gname_adminCode1': '08',\n",
        "  'url': 'http://api.geonames.org/search?username=jaguillette&fuzzy=1&type=json&name=%D0%9C%D0%B8%D1%85%D0%B0%D0%B9%D0%BB%D0%BE%D0%B2%D0%BA%D0%B0&south=47.716667&east=32.183333&north=55.716667&west=40.183333&featureClass=P',\n",
        "  'gname_adminName1': 'Bashkortostan',\n",
        "  'gname_lat': '55.57831'},\n",
        " {'south_bound': 47.716667,\n",
        "  'searched_name': '\u041c\u0438\u0445\u0430\u0439\u043b\u043e\u0432\u043a\u0430',\n",
        "  'gname_countryName': 'Russia',\n",
        "  'gname_countryId': '2017370',\n",
        "  'gname_fcode': 'PPL',\n",
        "  'gname_countryCode': 'RU',\n",
        "  'west_bound': 40.183333,\n",
        "  'gname_toponymName': 'Mikhaylovka',\n",
        "  'hgr_id': 434,\n",
        "  'gname_fclName': 'city, village,...',\n",
        "  'gname_lng': '52.92936',\n",
        "  'gname_fcl': 'P',\n",
        "  'gname_geonameId': 526865,\n",
        "  'fuzzy': 1,\n",
        "  'gname_population': 0,\n",
        "  'gname_fcodeName': 'populated place',\n",
        "  'east_bound': 32.183333,\n",
        "  'north_bound': 55.716667,\n",
        "  'gname_name': 'Mikhaylovka',\n",
        "  'gname_adminCode1': '73',\n",
        "  'url': 'http://api.geonames.org/search?username=jaguillette&fuzzy=1&type=json&name=%D0%9C%D0%B8%D1%85%D0%B0%D0%B9%D0%BB%D0%BE%D0%B2%D0%BA%D0%B0&south=47.716667&east=32.183333&north=55.716667&west=40.183333&featureClass=P',\n",
        "  'gname_adminName1': 'Tatarstan',\n",
        "  'gname_lat': '55.24381'},\n",
        " {'south_bound': 47.716667,\n",
        "  'searched_name': '\u041c\u0438\u0445\u0430\u0439\u043b\u043e\u0432\u043a\u0430',\n",
        "  'gname_countryName': 'Russia',\n",
        "  'gname_countryId': '2017370',\n",
        "  'gname_fcode': 'PPL',\n",
        "  'gname_countryCode': 'RU',\n",
        "  'west_bound': 40.183333,\n",
        "  'gname_toponymName': 'Mikhaylovka',\n",
        "  'hgr_id': 434,\n",
        "  'gname_fclName': 'city, village,...',\n",
        "  'gname_lng': '54.63333',\n",
        "  'gname_fcl': 'P',\n",
        "  'gname_geonameId': 526883,\n",
        "  'fuzzy': 1,\n",
        "  'gname_population': 0,\n",
        "  'gname_fcodeName': 'populated place',\n",
        "  'east_bound': 32.183333,\n",
        "  'north_bound': 55.716667,\n",
        "  'gname_name': 'Mikhaylovka',\n",
        "  'gname_adminCode1': '08',\n",
        "  'url': 'http://api.geonames.org/search?username=jaguillette&fuzzy=1&type=json&name=%D0%9C%D0%B8%D1%85%D0%B0%D0%B9%D0%BB%D0%BE%D0%B2%D0%BA%D0%B0&south=47.716667&east=32.183333&north=55.716667&west=40.183333&featureClass=P',\n",
        "  'gname_adminName1': 'Bashkortostan',\n",
        "  'gname_lat': '54.51667'},\n",
        " {'south_bound': 47.716667,\n",
        "  'searched_name': '\u041c\u0438\u0445\u0430\u0439\u043b\u043e\u0432\u043a\u0430',\n",
        "  'gname_countryName': 'Russia',\n",
        "  'gname_countryId': '2017370',\n",
        "  'gname_fcode': 'PPL',\n",
        "  'gname_countryCode': 'RU',\n",
        "  'west_bound': 40.183333,\n",
        "  'gname_toponymName': 'Mikhaylovka',\n",
        "  'hgr_id': 434,\n",
        "  'gname_fclName': 'city, village,...',\n",
        "  'gname_lng': '41.97361',\n",
        "  'gname_fcl': 'P',\n",
        "  'gname_geonameId': 526920,\n",
        "  'fuzzy': 1,\n",
        "  'gname_population': 0,\n",
        "  'gname_fcodeName': 'populated place',\n",
        "  'east_bound': 32.183333,\n",
        "  'north_bound': 55.716667,\n",
        "  'gname_name': 'Mikhaylovka',\n",
        "  'gname_adminCode1': '72',\n",
        "  'url': 'http://api.geonames.org/search?username=jaguillette&fuzzy=1&type=json&name=%D0%9C%D0%B8%D1%85%D0%B0%D0%B9%D0%BB%D0%BE%D0%B2%D0%BA%D0%B0&south=47.716667&east=32.183333&north=55.716667&west=40.183333&featureClass=P',\n",
        "  'gname_adminName1': 'Tambov',\n",
        "  'gname_lat': '53.48639'},\n",
        " {'south_bound': 47.716667,\n",
        "  'searched_name': '\u041c\u0438\u0445\u0430\u0439\u043b\u043e\u0432\u043a\u0430',\n",
        "  'gname_countryName': 'Russia',\n",
        "  'gname_countryId': '2017370',\n",
        "  'gname_fcode': 'PPL',\n",
        "  'gname_countryCode': 'RU',\n",
        "  'west_bound': 40.183333,\n",
        "  'gname_toponymName': 'Mikhaylovka',\n",
        "  'hgr_id': 434,\n",
        "  'gname_fclName': 'city, village,...',\n",
        "  'gname_lng': '59.19778',\n",
        "  'gname_fcl': 'P',\n",
        "  'gname_geonameId': 526950,\n",
        "  'fuzzy': 1,\n",
        "  'gname_population': 0,\n",
        "  'gname_fcodeName': 'populated place',\n",
        "  'east_bound': 32.183333,\n",
        "  'north_bound': 55.716667,\n",
        "  'gname_name': 'Mikhaylovka',\n",
        "  'gname_adminCode1': '13',\n",
        "  'url': 'http://api.geonames.org/search?username=jaguillette&fuzzy=1&type=json&name=%D0%9C%D0%B8%D1%85%D0%B0%D0%B9%D0%BB%D0%BE%D0%B2%D0%BA%D0%B0&south=47.716667&east=32.183333&north=55.716667&west=40.183333&featureClass=P',\n",
        "  'gname_adminName1': 'Chelyabinsk',\n",
        "  'gname_lat': '52.67972'},\n",
        " {'south_bound': 47.716667,\n",
        "  'searched_name': '\u041c\u0438\u0445\u0430\u0439\u043b\u043e\u0432\u043a\u0430',\n",
        "  'gname_countryName': 'Russia',\n",
        "  'gname_countryId': '2017370',\n",
        "  'gname_fcode': 'PPL',\n",
        "  'gname_countryCode': 'RU',\n",
        "  'west_bound': 40.183333,\n",
        "  'gname_toponymName': 'Mikhaylovka',\n",
        "  'hgr_id': 434,\n",
        "  'gname_fclName': 'city, village,...',\n",
        "  'gname_lng': '43.22221',\n",
        "  'gname_fcl': 'P',\n",
        "  'gname_geonameId': 6419966,\n",
        "  'fuzzy': 1,\n",
        "  'gname_population': 0,\n",
        "  'gname_fcodeName': 'populated place',\n",
        "  'east_bound': 32.183333,\n",
        "  'north_bound': 55.716667,\n",
        "  'gname_name': 'Mikhaylovka',\n",
        "  'gname_adminCode1': '51',\n",
        "  'url': 'http://api.geonames.org/search?username=jaguillette&fuzzy=1&type=json&name=%D0%9C%D0%B8%D1%85%D0%B0%D0%B9%D0%BB%D0%BE%D0%B2%D0%BA%D0%B0&south=47.716667&east=32.183333&north=55.716667&west=40.183333&featureClass=P',\n",
        "  'gname_adminName1': 'Nizjnij Novgorod',\n",
        "  'gname_lat': '55.65242'},\n",
        " {'south_bound': 47.716667,\n",
        "  'searched_name': '\u041c\u0438\u0445\u0430\u0439\u043b\u043e\u0432\u043a\u0430',\n",
        "  'gname_countryName': 'Russia',\n",
        "  'gname_countryId': '2017370',\n",
        "  'gname_fcode': 'PPL',\n",
        "  'gname_countryCode': 'RU',\n",
        "  'west_bound': 40.183333,\n",
        "  'gname_toponymName': 'Mikhaylovka',\n",
        "  'hgr_id': 434,\n",
        "  'gname_fclName': 'city, village,...',\n",
        "  'gname_lng': '114.15',\n",
        "  'gname_fcl': 'P',\n",
        "  'gname_geonameId': 2020000,\n",
        "  'fuzzy': 1,\n",
        "  'gname_population': 0,\n",
        "  'gname_fcodeName': 'populated place',\n",
        "  'east_bound': 32.183333,\n",
        "  'north_bound': 55.716667,\n",
        "  'gname_name': 'Mikhaylovka',\n",
        "  'gname_adminCode1': '11',\n",
        "  'url': 'http://api.geonames.org/search?username=jaguillette&fuzzy=1&type=json&name=%D0%9C%D0%B8%D1%85%D0%B0%D0%B9%D0%BB%D0%BE%D0%B2%D0%BA%D0%B0&south=47.716667&east=32.183333&north=55.716667&west=40.183333&featureClass=P',\n",
        "  'gname_adminName1': 'Respublika Buryatiya',\n",
        "  'gname_lat': '55.5'},\n",
        " {'south_bound': 47.716667,\n",
        "  'searched_name': '\u041c\u0438\u0445\u0430\u0439\u043b\u043e\u0432\u043a\u0430',\n",
        "  'gname_countryName': 'Russia',\n",
        "  'gname_countryId': '2017370',\n",
        "  'gname_fcode': 'PPL',\n",
        "  'gname_countryCode': 'RU',\n",
        "  'west_bound': 40.183333,\n",
        "  'gname_toponymName': 'Mikhaylovka',\n",
        "  'hgr_id': 434,\n",
        "  'gname_fclName': 'city, village,...',\n",
        "  'gname_lng': '135.5',\n",
        "  'gname_fcl': 'P',\n",
        "  'gname_geonameId': 2020010,\n",
        "  'fuzzy': 1,\n",
        "  'gname_population': 0,\n",
        "  'gname_fcodeName': 'populated place',\n",
        "  'east_bound': 32.183333,\n",
        "  'north_bound': 55.716667,\n",
        "  'gname_name': 'Mikhaylovka',\n",
        "  'gname_adminCode1': '30',\n",
        "  'url': 'http://api.geonames.org/search?username=jaguillette&fuzzy=1&type=json&name=%D0%9C%D0%B8%D1%85%D0%B0%D0%B9%D0%BB%D0%BE%D0%B2%D0%BA%D0%B0&south=47.716667&east=32.183333&north=55.716667&west=40.183333&featureClass=P',\n",
        "  'gname_adminName1': 'Khabarovsk Krai',\n",
        "  'gname_lat': '48.03333'},\n",
        " {'south_bound': 47.716667,\n",
        "  'searched_name': '\u041c\u0438\u0445\u0430\u0439\u043b\u043e\u0432\u043a\u0430',\n",
        "  'gname_countryName': 'Russia',\n",
        "  'gname_countryId': '2017370',\n",
        "  'gname_fcode': 'PPL',\n",
        "  'gname_countryCode': 'RU',\n",
        "  'west_bound': 40.183333,\n",
        "  'gname_toponymName': 'Mikhaylovka',\n",
        "  'hgr_id': 434,\n",
        "  'gname_fclName': 'city, village,...',\n",
        "  'gname_lng': '72.13333',\n",
        "  'gname_fcl': 'P',\n",
        "  'gname_geonameId': 1498820,\n",
        "  'fuzzy': 1,\n",
        "  'gname_population': 0,\n",
        "  'gname_fcodeName': 'populated place',\n",
        "  'east_bound': 32.183333,\n",
        "  'north_bound': 55.716667,\n",
        "  'gname_name': 'Mikhaylovka',\n",
        "  'gname_adminCode1': '54',\n",
        "  'url': 'http://api.geonames.org/search?username=jaguillette&fuzzy=1&type=json&name=%D0%9C%D0%B8%D1%85%D0%B0%D0%B9%D0%BB%D0%BE%D0%B2%D0%BA%D0%B0&south=47.716667&east=32.183333&north=55.716667&west=40.183333&featureClass=P',\n",
        "  'gname_adminName1': 'Omsk',\n",
        "  'gname_lat': '55.7'},\n",
        " {'south_bound': 47.716667,\n",
        "  'searched_name': '\u041c\u0438\u0445\u0430\u0439\u043b\u043e\u0432\u043a\u0430',\n",
        "  'gname_countryName': 'Russia',\n",
        "  'gname_countryId': '2017370',\n",
        "  'gname_fcode': 'PPL',\n",
        "  'gname_countryCode': 'RU',\n",
        "  'west_bound': 40.183333,\n",
        "  'gname_toponymName': 'Mikhaylovka',\n",
        "  'hgr_id': 434,\n",
        "  'gname_fclName': 'city, village,...',\n",
        "  'gname_lng': '73.53333',\n",
        "  'gname_fcl': 'P',\n",
        "  'gname_geonameId': 1498830,\n",
        "  'fuzzy': 1,\n",
        "  'gname_population': 0,\n",
        "  'gname_fcodeName': 'populated place',\n",
        "  'east_bound': 32.183333,\n",
        "  'north_bound': 55.716667,\n",
        "  'gname_name': 'Mikhaylovka',\n",
        "  'gname_adminCode1': '54',\n",
        "  'url': 'http://api.geonames.org/search?username=jaguillette&fuzzy=1&type=json&name=%D0%9C%D0%B8%D1%85%D0%B0%D0%B9%D0%BB%D0%BE%D0%B2%D0%BA%D0%B0&south=47.716667&east=32.183333&north=55.716667&west=40.183333&featureClass=P',\n",
        "  'gname_adminName1': 'Omsk',\n",
        "  'gname_lat': '55.45'},\n",
        " {'south_bound': 47.716667,\n",
        "  'searched_name': '\u041c\u0438\u0445\u0430\u0439\u043b\u043e\u0432\u043a\u0430',\n",
        "  'gname_countryName': 'Russia',\n",
        "  'gname_countryId': '2017370',\n",
        "  'gname_fcode': 'PPL',\n",
        "  'gname_countryCode': 'RU',\n",
        "  'west_bound': 40.183333,\n",
        "  'gname_toponymName': 'Mikhaylovka',\n",
        "  'hgr_id': 434,\n",
        "  'gname_fclName': 'city, village,...',\n",
        "  'gname_lng': '83.76667',\n",
        "  'gname_fcl': 'P',\n",
        "  'gname_geonameId': 1498842,\n",
        "  'fuzzy': 1,\n",
        "  'gname_population': 0,\n",
        "  'gname_fcodeName': 'populated place',\n",
        "  'east_bound': 32.183333,\n",
        "  'north_bound': 55.716667,\n",
        "  'gname_name': 'Mikhaylovka',\n",
        "  'gname_adminCode1': '53',\n",
        "  'url': 'http://api.geonames.org/search?username=jaguillette&fuzzy=1&type=json&name=%D0%9C%D0%B8%D1%85%D0%B0%D0%B9%D0%BB%D0%BE%D0%B2%D0%BA%D0%B0&south=47.716667&east=32.183333&north=55.716667&west=40.183333&featureClass=P',\n",
        "  'gname_adminName1': 'Novosibirsk',\n",
        "  'gname_lat': '54.41667'},\n",
        " {'south_bound': 47.716667,\n",
        "  'searched_name': '\u041c\u0438\u0445\u0430\u0439\u043b\u043e\u0432\u043a\u0430',\n",
        "  'gname_countryName': 'Russia',\n",
        "  'gname_countryId': '2017370',\n",
        "  'gname_fcode': 'PPL',\n",
        "  'gname_countryCode': 'RU',\n",
        "  'west_bound': 40.183333,\n",
        "  'gname_toponymName': 'Mikhaylovka',\n",
        "  'hgr_id': 434,\n",
        "  'gname_fclName': 'city, village,...',\n",
        "  'gname_lng': '62.0067',\n",
        "  'gname_fcl': 'P',\n",
        "  'gname_geonameId': 1498843,\n",
        "  'fuzzy': 1,\n",
        "  'gname_population': 0,\n",
        "  'gname_fcodeName': 'populated place',\n",
        "  'east_bound': 32.183333,\n",
        "  'north_bound': 55.716667,\n",
        "  'gname_name': 'Mikhaylovka',\n",
        "  'gname_adminCode1': '13',\n",
        "  'url': 'http://api.geonames.org/search?username=jaguillette&fuzzy=1&type=json&name=%D0%9C%D0%B8%D1%85%D0%B0%D0%B9%D0%BB%D0%BE%D0%B2%D0%BA%D0%B0&south=47.716667&east=32.183333&north=55.716667&west=40.183333&featureClass=P',\n",
        "  'gname_adminName1': 'Chelyabinsk',\n",
        "  'gname_lat': '54.3976'},\n",
        " {'south_bound': 47.716667,\n",
        "  'searched_name': '\u041c\u0438\u0445\u0430\u0439\u043b\u043e\u0432\u043a\u0430',\n",
        "  'gname_countryName': 'Russia',\n",
        "  'gname_countryId': '2017370',\n",
        "  'gname_fcode': 'PPL',\n",
        "  'gname_countryCode': 'RU',\n",
        "  'west_bound': 40.183333,\n",
        "  'gname_toponymName': 'Mikhaylovka',\n",
        "  'hgr_id': 434,\n",
        "  'gname_fclName': 'city, village,...',\n",
        "  'gname_lng': '61.63333',\n",
        "  'gname_fcl': 'P',\n",
        "  'gname_geonameId': 1498844,\n",
        "  'fuzzy': 1,\n",
        "  'gname_population': 0,\n",
        "  'gname_fcodeName': 'populated place',\n",
        "  'east_bound': 32.183333,\n",
        "  'north_bound': 55.716667,\n",
        "  'gname_name': 'Mikhaylovka',\n",
        "  'gname_adminCode1': '13',\n",
        "  'url': 'http://api.geonames.org/search?username=jaguillette&fuzzy=1&type=json&name=%D0%9C%D0%B8%D1%85%D0%B0%D0%B9%D0%BB%D0%BE%D0%B2%D0%BA%D0%B0&south=47.716667&east=32.183333&north=55.716667&west=40.183333&featureClass=P',\n",
        "  'gname_adminName1': 'Chelyabinsk',\n",
        "  'gname_lat': '54.3'},\n",
        " {'south_bound': 47.716667,\n",
        "  'searched_name': '\u041c\u0438\u0445\u0430\u0439\u043b\u043e\u0432\u043a\u0430',\n",
        "  'gname_countryName': 'Russia',\n",
        "  'gname_countryId': '2017370',\n",
        "  'gname_fcode': 'PPL',\n",
        "  'gname_countryCode': 'RU',\n",
        "  'west_bound': 40.183333,\n",
        "  'gname_toponymName': 'Mikhaylovka',\n",
        "  'hgr_id': 434,\n",
        "  'gname_fclName': 'city, village,...',\n",
        "  'gname_lng': '79.06667',\n",
        "  'gname_fcl': 'P',\n",
        "  'gname_geonameId': 1498849,\n",
        "  'fuzzy': 1,\n",
        "  'gname_population': 0,\n",
        "  'gname_fcodeName': 'populated place',\n",
        "  'east_bound': 32.183333,\n",
        "  'north_bound': 55.716667,\n",
        "  'gname_name': 'Mikhaylovka',\n",
        "  'gname_adminCode1': '04',\n",
        "  'url': 'http://api.geonames.org/search?username=jaguillette&fuzzy=1&type=json&name=%D0%9C%D0%B8%D1%85%D0%B0%D0%B9%D0%BB%D0%BE%D0%B2%D0%BA%D0%B0&south=47.716667&east=32.183333&north=55.716667&west=40.183333&featureClass=P',\n",
        "  'gname_adminName1': 'Altai Krai',\n",
        "  'gname_lat': '53.63333'},\n",
        " {'south_bound': 47.716667,\n",
        "  'searched_name': '\u041c\u0438\u0445\u0430\u0439\u043b\u043e\u0432\u043a\u0430',\n",
        "  'gname_countryName': 'Russia',\n",
        "  'gname_countryId': '2017370',\n",
        "  'gname_fcode': 'PPL',\n",
        "  'gname_countryCode': 'RU',\n",
        "  'west_bound': 40.183333,\n",
        "  'gname_toponymName': 'Mikhaylovka',\n",
        "  'hgr_id': 434,\n",
        "  'gname_fclName': 'city, village,...',\n",
        "  'gname_lng': '87.0125',\n",
        "  'gname_fcl': 'P',\n",
        "  'gname_geonameId': 1498851,\n",
        "  'fuzzy': 1,\n",
        "  'gname_population': 0,\n",
        "  'gname_fcodeName': 'populated place',\n",
        "  'east_bound': 32.183333,\n",
        "  'north_bound': 55.716667,\n",
        "  'gname_name': 'Mikhaylovka',\n",
        "  'gname_adminCode1': '29',\n",
        "  'url': 'http://api.geonames.org/search?username=jaguillette&fuzzy=1&type=json&name=%D0%9C%D0%B8%D1%85%D0%B0%D0%B9%D0%BB%D0%BE%D0%B2%D0%BA%D0%B0&south=47.716667&east=32.183333&north=55.716667&west=40.183333&featureClass=P',\n",
        "  'gname_adminName1': 'Kemerovo',\n",
        "  'gname_lat': '53.6305'},\n",
        " {'south_bound': 47.716667,\n",
        "  'searched_name': '\u041c\u0438\u0445\u0430\u0439\u043b\u043e\u0432\u043a\u0430',\n",
        "  'gname_countryName': 'Russia',\n",
        "  'gname_countryId': '2017370',\n",
        "  'gname_fcode': 'PPL',\n",
        "  'gname_countryCode': 'RU',\n",
        "  'west_bound': 40.183333,\n",
        "  'gname_toponymName': 'Mikhaylovka',\n",
        "  'hgr_id': 434,\n",
        "  'gname_fclName': 'city, village,...',\n",
        "  'gname_lng': '80.45',\n",
        "  'gname_fcl': 'P',\n",
        "  'gname_geonameId': 1498854,\n",
        "  'fuzzy': 1,\n",
        "  'gname_population': 0,\n",
        "  'gname_fcodeName': 'populated place',\n",
        "  'east_bound': 32.183333,\n",
        "  'north_bound': 55.716667,\n",
        "  'gname_name': 'Mikhaylovka',\n",
        "  'gname_adminCode1': '04',\n",
        "  'url': 'http://api.geonames.org/search?username=jaguillette&fuzzy=1&type=json&name=%D0%9C%D0%B8%D1%85%D0%B0%D0%B9%D0%BB%D0%BE%D0%B2%D0%BA%D0%B0&south=47.716667&east=32.183333&north=55.716667&west=40.183333&featureClass=P',\n",
        "  'gname_adminName1': 'Altai Krai',\n",
        "  'gname_lat': '52.61667'},\n",
        " {'south_bound': 47.716667,\n",
        "  'searched_name': '\u041c\u0438\u0445\u0430\u0439\u043b\u043e\u0432\u043a\u0430',\n",
        "  'gname_countryName': 'Russia',\n",
        "  'gname_countryId': '2017370',\n",
        "  'gname_fcode': 'PPL',\n",
        "  'gname_countryCode': 'RU',\n",
        "  'west_bound': 40.183333,\n",
        "  'gname_toponymName': 'Mikhaylovka',\n",
        "  'hgr_id': 434,\n",
        "  'gname_fclName': 'city, village,...',\n",
        "  'gname_lng': '32.00539',\n",
        "  'gname_fcl': 'P',\n",
        "  'gname_geonameId': 819073,\n",
        "  'fuzzy': 1,\n",
        "  'gname_population': 0,\n",
        "  'gname_fcodeName': 'populated place',\n",
        "  'east_bound': 32.183333,\n",
        "  'north_bound': 55.716667,\n",
        "  'gname_name': 'Mikhaylovka',\n",
        "  'gname_adminCode1': '10',\n",
        "  'url': 'http://api.geonames.org/search?username=jaguillette&fuzzy=1&type=json&name=%D0%9C%D0%B8%D1%85%D0%B0%D0%B9%D0%BB%D0%BE%D0%B2%D0%BA%D0%B0&south=47.716667&east=32.183333&north=55.716667&west=40.183333&featureClass=P',\n",
        "  'gname_adminName1': 'Brjansk',\n",
        "  'gname_lat': '52.9229'},\n",
        " {'south_bound': 47.716667,\n",
        "  'searched_name': '\u041c\u0438\u0445\u0430\u0439\u043b\u043e\u0432\u043a\u0430',\n",
        "  'gname_countryName': 'Russia',\n",
        "  'gname_countryId': '2017370',\n",
        "  'gname_fcode': 'PPL',\n",
        "  'gname_countryCode': 'RU',\n",
        "  'west_bound': 40.183333,\n",
        "  'gname_toponymName': 'Mikhaylovka',\n",
        "  'hgr_id': 434,\n",
        "  'gname_fclName': 'city, village,...',\n",
        "  'gname_lng': '32.06136',\n",
        "  'gname_fcl': 'P',\n",
        "  'gname_geonameId': 815327,\n",
        "  'fuzzy': 1,\n",
        "  'gname_population': 0,\n",
        "  'gname_fcodeName': 'populated place',\n",
        "  'east_bound': 32.183333,\n",
        "  'north_bound': 55.716667,\n",
        "  'gname_name': 'Mikhaylovka',\n",
        "  'gname_adminCode1': '10',\n",
        "  'url': 'http://api.geonames.org/search?username=jaguillette&fuzzy=1&type=json&name=%D0%9C%D0%B8%D1%85%D0%B0%D0%B9%D0%BB%D0%BE%D0%B2%D0%BA%D0%B0&south=47.716667&east=32.183333&north=55.716667&west=40.183333&featureClass=P',\n",
        "  'gname_adminName1': 'Brjansk',\n",
        "  'gname_lat': '52.12448'},\n",
        " {'south_bound': 47.716667,\n",
        "  'searched_name': '\u041c\u0438\u0445\u0430\u0439\u043b\u043e\u0432\u043a\u0430',\n",
        "  'gname_countryName': 'Russia',\n",
        "  'gname_countryId': '2017370',\n",
        "  'gname_fcode': 'PPL',\n",
        "  'gname_countryCode': 'RU',\n",
        "  'west_bound': 40.183333,\n",
        "  'gname_toponymName': 'Mikhaylovka',\n",
        "  'hgr_id': 434,\n",
        "  'gname_fclName': 'city, village,...',\n",
        "  'gname_lng': '50.86936',\n",
        "  'gname_fcl': 'P',\n",
        "  'gname_geonameId': 824223,\n",
        "  'fuzzy': 1,\n",
        "  'gname_population': 0,\n",
        "  'gname_fcodeName': 'populated place',\n",
        "  'east_bound': 32.183333,\n",
        "  'north_bound': 55.716667,\n",
        "  'gname_name': 'Mikhaylovka',\n",
        "  'gname_adminCode1': '73',\n",
        "  'url': 'http://api.geonames.org/search?username=jaguillette&fuzzy=1&type=json&name=%D0%9C%D0%B8%D1%85%D0%B0%D0%B9%D0%BB%D0%BE%D0%B2%D0%BA%D0%B0&south=47.716667&east=32.183333&north=55.716667&west=40.183333&featureClass=P',\n",
        "  'gname_adminName1': 'Tatarstan',\n",
        "  'gname_lat': '55.2055'},\n",
        " {'south_bound': 47.716667,\n",
        "  'searched_name': '\u041c\u0438\u0445\u0430\u0439\u043b\u043e\u0432\u043a\u0430',\n",
        "  'gname_countryName': 'Russia',\n",
        "  'gname_countryId': '2017370',\n",
        "  'gname_fcode': 'PPL',\n",
        "  'gname_countryCode': 'RU',\n",
        "  'west_bound': 40.183333,\n",
        "  'gname_toponymName': 'Mikhaylovka',\n",
        "  'hgr_id': 434,\n",
        "  'gname_fclName': 'city, village,...',\n",
        "  'gname_lng': '21.39794',\n",
        "  'gname_fcl': 'P',\n",
        "  'gname_geonameId': 825932,\n",
        "  'fuzzy': 1,\n",
        "  'gname_population': 0,\n",
        "  'gname_fcodeName': 'populated place',\n",
        "  'east_bound': 32.183333,\n",
        "  'north_bound': 55.716667,\n",
        "  'gname_name': 'Mikhaylovka',\n",
        "  'gname_adminCode1': '23',\n",
        "  'url': 'http://api.geonames.org/search?username=jaguillette&fuzzy=1&type=json&name=%D0%9C%D0%B8%D1%85%D0%B0%D0%B9%D0%BB%D0%BE%D0%B2%D0%BA%D0%B0&south=47.716667&east=32.183333&north=55.716667&west=40.183333&featureClass=P',\n",
        "  'gname_adminName1': 'Kaliningrad',\n",
        "  'gname_lat': '54.35473'},\n",
        " {'south_bound': 47.716667,\n",
        "  'searched_name': '\u041c\u0438\u0445\u0430\u0439\u043b\u043e\u0432\u043a\u0430',\n",
        "  'gname_countryName': 'Russia',\n",
        "  'gname_countryId': '2017370',\n",
        "  'gname_fcode': 'PPL',\n",
        "  'gname_countryCode': 'RU',\n",
        "  'west_bound': 40.183333,\n",
        "  'gname_toponymName': 'Mikhaylovka',\n",
        "  'hgr_id': 434,\n",
        "  'gname_fclName': 'city, village,...',\n",
        "  'gname_lng': '40.2109',\n",
        "  'gname_fcl': 'P',\n",
        "  'gname_geonameId': 797846,\n",
        "  'fuzzy': 1,\n",
        "  'gname_population': 0,\n",
        "  'gname_fcodeName': 'populated place',\n",
        "  'east_bound': 32.183333,\n",
        "  'north_bound': 55.716667,\n",
        "  'gname_name': 'Mikhaylovka',\n",
        "  'gname_adminCode1': '61',\n",
        "  'url': 'http://api.geonames.org/search?username=jaguillette&fuzzy=1&type=json&name=%D0%9C%D0%B8%D1%85%D0%B0%D0%B9%D0%BB%D0%BE%D0%B2%D0%BA%D0%B0&south=47.716667&east=32.183333&north=55.716667&west=40.183333&featureClass=P',\n",
        "  'gname_adminName1': 'Rostov',\n",
        "  'gname_lat': '48.03372'},\n",
        " {'south_bound': 47.716667,\n",
        "  'searched_name': '\u041c\u0438\u0445\u0430\u0439\u043b\u043e\u0432\u043a\u0430',\n",
        "  'gname_countryName': 'Russia',\n",
        "  'gname_countryId': '2017370',\n",
        "  'gname_fcode': 'PPL',\n",
        "  'gname_countryCode': 'RU',\n",
        "  'west_bound': 40.183333,\n",
        "  'gname_toponymName': 'Mikhaylovka',\n",
        "  'hgr_id': 434,\n",
        "  'gname_fclName': 'city, village,...',\n",
        "  'gname_lng': '56.10464',\n",
        "  'gname_fcl': 'P',\n",
        "  'gname_geonameId': 526860,\n",
        "  'fuzzy': 1,\n",
        "  'gname_population': 0,\n",
        "  'gname_fcodeName': 'populated place',\n",
        "  'east_bound': 32.183333,\n",
        "  'north_bound': 55.716667,\n",
        "  'gname_name': 'Mikhaylovka',\n",
        "  'gname_adminCode1': '08',\n",
        "  'url': 'http://api.geonames.org/search?username=jaguillette&fuzzy=1&type=json&name=%D0%9C%D0%B8%D1%85%D0%B0%D0%B9%D0%BB%D0%BE%D0%B2%D0%BA%D0%B0&south=47.716667&east=32.183333&north=55.716667&west=40.183333&featureClass=P',\n",
        "  'gname_adminName1': 'Bashkortostan',\n",
        "  'gname_lat': '55.69814'},\n",
        " {'south_bound': 47.716667,\n",
        "  'searched_name': '\u041c\u0438\u0445\u0430\u0439\u043b\u043e\u0432\u043a\u0430',\n",
        "  'gname_countryName': 'Russia',\n",
        "  'gname_countryId': '2017370',\n",
        "  'gname_fcode': 'PPL',\n",
        "  'gname_countryCode': 'RU',\n",
        "  'west_bound': 40.183333,\n",
        "  'gname_toponymName': 'Mikhaylovka',\n",
        "  'hgr_id': 434,\n",
        "  'gname_fclName': 'city, village,...',\n",
        "  'gname_lng': '59.4598',\n",
        "  'gname_fcl': 'P',\n",
        "  'gname_geonameId': 526864,\n",
        "  'fuzzy': 1,\n",
        "  'gname_population': 0,\n",
        "  'gname_fcodeName': 'populated place',\n",
        "  'east_bound': 32.183333,\n",
        "  'north_bound': 55.716667,\n",
        "  'gname_name': 'Mikhaylovka',\n",
        "  'gname_adminCode1': '08',\n",
        "  'url': 'http://api.geonames.org/search?username=jaguillette&fuzzy=1&type=json&name=%D0%9C%D0%B8%D1%85%D0%B0%D0%B9%D0%BB%D0%BE%D0%B2%D0%BA%D0%B0&south=47.716667&east=32.183333&north=55.716667&west=40.183333&featureClass=P',\n",
        "  'gname_adminName1': 'Bashkortostan',\n",
        "  'gname_lat': '55.4766'},\n",
        " {'south_bound': 47.716667,\n",
        "  'searched_name': '\u041c\u0438\u0445\u0430\u0439\u043b\u043e\u0432\u043a\u0430',\n",
        "  'gname_countryName': 'Russia',\n",
        "  'gname_countryId': '2017370',\n",
        "  'gname_fcode': 'PPL',\n",
        "  'gname_countryCode': 'RU',\n",
        "  'west_bound': 40.183333,\n",
        "  'gname_toponymName': 'Mikhaylovka',\n",
        "  'hgr_id': 434,\n",
        "  'gname_fclName': 'city, village,...',\n",
        "  'gname_lng': '45.48852',\n",
        "  'gname_fcl': 'P',\n",
        "  'gname_geonameId': 526867,\n",
        "  'fuzzy': 1,\n",
        "  'gname_population': 0,\n",
        "  'gname_fcodeName': 'populated place',\n",
        "  'east_bound': 32.183333,\n",
        "  'north_bound': 55.716667,\n",
        "  'gname_name': 'Mikhaylovka',\n",
        "  'gname_adminCode1': '51',\n",
        "  'url': 'http://api.geonames.org/search?username=jaguillette&fuzzy=1&type=json&name=%D0%9C%D0%B8%D1%85%D0%B0%D0%B9%D0%BB%D0%BE%D0%B2%D0%BA%D0%B0&south=47.716667&east=32.183333&north=55.716667&west=40.183333&featureClass=P',\n",
        "  'gname_adminName1': 'Nizjnij Novgorod',\n",
        "  'gname_lat': '55.15257'},\n",
        " {'south_bound': 47.716667,\n",
        "  'searched_name': '\u041c\u0438\u0445\u0430\u0439\u043b\u043e\u0432\u043a\u0430',\n",
        "  'gname_countryName': 'Russia',\n",
        "  'gname_countryId': '2017370',\n",
        "  'gname_fcode': 'PPL',\n",
        "  'gname_countryCode': 'RU',\n",
        "  'west_bound': 40.183333,\n",
        "  'gname_toponymName': 'Mikhaylovka',\n",
        "  'hgr_id': 434,\n",
        "  'gname_fclName': 'city, village,...',\n",
        "  'gname_lng': '53.63917',\n",
        "  'gname_fcl': 'P',\n",
        "  'gname_geonameId': 526868,\n",
        "  'fuzzy': 1,\n",
        "  'gname_population': 0,\n",
        "  'gname_fcodeName': 'populated place',\n",
        "  'east_bound': 32.183333,\n",
        "  'north_bound': 55.716667,\n",
        "  'gname_name': 'Mikhaylovka',\n",
        "  'gname_adminCode1': '08',\n",
        "  'url': 'http://api.geonames.org/search?username=jaguillette&fuzzy=1&type=json&name=%D0%9C%D0%B8%D1%85%D0%B0%D0%B9%D0%BB%D0%BE%D0%B2%D0%BA%D0%B0&south=47.716667&east=32.183333&north=55.716667&west=40.183333&featureClass=P',\n",
        "  'gname_adminName1': 'Bashkortostan',\n",
        "  'gname_lat': '55.11583'},\n",
        " {'south_bound': 47.716667,\n",
        "  'searched_name': '\u041c\u0438\u0445\u0430\u0439\u043b\u043e\u0432\u043a\u0430',\n",
        "  'gname_countryName': 'Russia',\n",
        "  'gname_countryId': '2017370',\n",
        "  'gname_fcode': 'PPL',\n",
        "  'gname_countryCode': 'RU',\n",
        "  'west_bound': 40.183333,\n",
        "  'gname_toponymName': 'Mikhaylovka',\n",
        "  'hgr_id': 434,\n",
        "  'gname_fclName': 'city, village,...',\n",
        "  'gname_lng': '44.26361',\n",
        "  'gname_fcl': 'P',\n",
        "  'gname_geonameId': 526869,\n",
        "  'fuzzy': 1,\n",
        "  'gname_population': 0,\n",
        "  'gname_fcodeName': 'populated place',\n",
        "  'east_bound': 32.183333,\n",
        "  'north_bound': 55.716667,\n",
        "  'gname_name': 'Mikhaylovka',\n",
        "  'gname_adminCode1': '51',\n",
        "  'url': 'http://api.geonames.org/search?username=jaguillette&fuzzy=1&type=json&name=%D0%9C%D0%B8%D1%85%D0%B0%D0%B9%D0%BB%D0%BE%D0%B2%D0%BA%D0%B0&south=47.716667&east=32.183333&north=55.716667&west=40.183333&featureClass=P',\n",
        "  'gname_adminName1': 'Nizjnij Novgorod',\n",
        "  'gname_lat': '55.08428'},\n",
        " {'south_bound': 47.716667,\n",
        "  'searched_name': '\u041c\u0438\u0445\u0430\u0439\u043b\u043e\u0432\u043a\u0430',\n",
        "  'gname_countryName': 'Russia',\n",
        "  'gname_countryId': '2017370',\n",
        "  'gname_fcode': 'PPL',\n",
        "  'gname_countryCode': 'RU',\n",
        "  'west_bound': 40.183333,\n",
        "  'gname_toponymName': 'Mikhaylovka',\n",
        "  'hgr_id': 434,\n",
        "  'gname_fclName': 'city, village,...',\n",
        "  'gname_lng': '53.8825',\n",
        "  'gname_fcl': 'P',\n",
        "  'gname_geonameId': 526870,\n",
        "  'fuzzy': 1,\n",
        "  'gname_population': 0,\n",
        "  'gname_fcodeName': 'populated place',\n",
        "  'east_bound': 32.183333,\n",
        "  'north_bound': 55.716667,\n",
        "  'gname_name': 'Mikhaylovka',\n",
        "  'gname_adminCode1': '08',\n",
        "  'url': 'http://api.geonames.org/search?username=jaguillette&fuzzy=1&type=json&name=%D0%9C%D0%B8%D1%85%D0%B0%D0%B9%D0%BB%D0%BE%D0%B2%D0%BA%D0%B0&south=47.716667&east=32.183333&north=55.716667&west=40.183333&featureClass=P',\n",
        "  'gname_adminName1': 'Bashkortostan',\n",
        "  'gname_lat': '55.03556'},\n",
        " {'south_bound': 47.716667,\n",
        "  'searched_name': '\u041c\u0438\u0445\u0430\u0439\u043b\u043e\u0432\u043a\u0430',\n",
        "  'gname_countryName': 'Russia',\n",
        "  'gname_countryId': '2017370',\n",
        "  'gname_fcode': 'PPL',\n",
        "  'gname_countryCode': 'RU',\n",
        "  'west_bound': 40.183333,\n",
        "  'gname_toponymName': 'Mikhaylovka',\n",
        "  'hgr_id': 434,\n",
        "  'gname_fclName': 'city, village,...',\n",
        "  'gname_lng': '54.25',\n",
        "  'gname_fcl': 'P',\n",
        "  'gname_geonameId': 526872,\n",
        "  'fuzzy': 1,\n",
        "  'gname_population': 0,\n",
        "  'gname_fcodeName': 'populated place',\n",
        "  'east_bound': 32.183333,\n",
        "  'north_bound': 55.716667,\n",
        "  'gname_name': 'Mikhaylovka',\n",
        "  'gname_adminCode1': '08',\n",
        "  'url': 'http://api.geonames.org/search?username=jaguillette&fuzzy=1&type=json&name=%D0%9C%D0%B8%D1%85%D0%B0%D0%B9%D0%BB%D0%BE%D0%B2%D0%BA%D0%B0&south=47.716667&east=32.183333&north=55.716667&west=40.183333&featureClass=P',\n",
        "  'gname_adminName1': 'Bashkortostan',\n",
        "  'gname_lat': '54.91667'},\n",
        " {'south_bound': 47.716667,\n",
        "  'searched_name': '\u041c\u0438\u0445\u0430\u0439\u043b\u043e\u0432\u043a\u0430',\n",
        "  'gname_countryName': 'Russia',\n",
        "  'gname_countryId': '2017370',\n",
        "  'gname_fcode': 'PPL',\n",
        "  'gname_countryCode': 'RU',\n",
        "  'west_bound': 40.183333,\n",
        "  'gname_toponymName': 'Mikhaylovka',\n",
        "  'hgr_id': 434,\n",
        "  'gname_fclName': 'city, village,...',\n",
        "  'gname_lng': '45.88413',\n",
        "  'gname_fcl': 'P',\n",
        "  'gname_geonameId': 526873,\n",
        "  'fuzzy': 1,\n",
        "  'gname_population': 0,\n",
        "  'gname_fcodeName': 'populated place',\n",
        "  'east_bound': 32.183333,\n",
        "  'north_bound': 55.716667,\n",
        "  'gname_name': 'Mikhaylovka',\n",
        "  'gname_adminCode1': '46',\n",
        "  'url': 'http://api.geonames.org/search?username=jaguillette&fuzzy=1&type=json&name=%D0%9C%D0%B8%D1%85%D0%B0%D0%B9%D0%BB%D0%BE%D0%B2%D0%BA%D0%B0&south=47.716667&east=32.183333&north=55.716667&west=40.183333&featureClass=P',\n",
        "  'gname_adminName1': 'Mordoviya',\n",
        "  'gname_lat': '54.89316'},\n",
        " {'south_bound': 47.716667,\n",
        "  'searched_name': '\u041c\u0438\u0445\u0430\u0439\u043b\u043e\u0432\u043a\u0430',\n",
        "  'gname_countryName': 'Russia',\n",
        "  'gname_countryId': '2017370',\n",
        "  'gname_fcode': 'PPL',\n",
        "  'gname_countryCode': 'RU',\n",
        "  'west_bound': 40.183333,\n",
        "  'gname_toponymName': 'Mikhaylovka',\n",
        "  'hgr_id': 434,\n",
        "  'gname_fclName': 'city, village,...',\n",
        "  'gname_lng': '31.62735',\n",
        "  'gname_fcl': 'P',\n",
        "  'gname_geonameId': 526876,\n",
        "  'fuzzy': 1,\n",
        "  'gname_population': 0,\n",
        "  'gname_fcodeName': 'populated place',\n",
        "  'east_bound': 32.183333,\n",
        "  'north_bound': 55.716667,\n",
        "  'gname_name': 'Mikhaylovka',\n",
        "  'gname_adminCode1': '69',\n",
        "  'url': 'http://api.geonames.org/search?username=jaguillette&fuzzy=1&type=json&name=%D0%9C%D0%B8%D1%85%D0%B0%D0%B9%D0%BB%D0%BE%D0%B2%D0%BA%D0%B0&south=47.716667&east=32.183333&north=55.716667&west=40.183333&featureClass=P',\n",
        "  'gname_adminName1': 'Smolensk',\n",
        "  'gname_lat': '54.72949'},\n",
        " {'south_bound': 47.716667,\n",
        "  'searched_name': '\u041c\u0438\u0445\u0430\u0439\u043b\u043e\u0432\u043a\u0430',\n",
        "  'gname_countryName': 'Russia',\n",
        "  'gname_countryId': '2017370',\n",
        "  'gname_fcode': 'PPL',\n",
        "  'gname_countryCode': 'RU',\n",
        "  'west_bound': 40.183333,\n",
        "  'gname_toponymName': 'Mikhaylovka',\n",
        "  'hgr_id': 434,\n",
        "  'gname_fclName': 'city, village,...',\n",
        "  'gname_lng': '56.66667',\n",
        "  'gname_fcl': 'P',\n",
        "  'gname_geonameId': 526880,\n",
        "  'fuzzy': 1,\n",
        "  'gname_population': 0,\n",
        "  'gname_fcodeName': 'populated place',\n",
        "  'east_bound': 32.183333,\n",
        "  'north_bound': 55.716667,\n",
        "  'gname_name': 'Mikhaylovka',\n",
        "  'gname_adminCode1': '08',\n",
        "  'url': 'http://api.geonames.org/search?username=jaguillette&fuzzy=1&type=json&name=%D0%9C%D0%B8%D1%85%D0%B0%D0%B9%D0%BB%D0%BE%D0%B2%D0%BA%D0%B0&south=47.716667&east=32.183333&north=55.716667&west=40.183333&featureClass=P',\n",
        "  'gname_adminName1': 'Bashkortostan',\n",
        "  'gname_lat': '54.56667'},\n",
        " {'south_bound': 47.716667,\n",
        "  'searched_name': '\u041c\u0438\u0445\u0430\u0439\u043b\u043e\u0432\u043a\u0430',\n",
        "  'gname_countryName': 'Russia',\n",
        "  'gname_countryId': '2017370',\n",
        "  'gname_fcode': 'PPL',\n",
        "  'gname_countryCode': 'RU',\n",
        "  'west_bound': 40.183333,\n",
        "  'gname_toponymName': 'Mikhaylovka',\n",
        "  'hgr_id': 434,\n",
        "  'gname_fclName': 'city, village,...',\n",
        "  'gname_lng': '45.1371',\n",
        "  'gname_fcl': 'P',\n",
        "  'gname_geonameId': 526881,\n",
        "  'fuzzy': 1,\n",
        "  'gname_population': 0,\n",
        "  'gname_fcodeName': 'populated place',\n",
        "  'east_bound': 32.183333,\n",
        "  'north_bound': 55.716667,\n",
        "  'gname_name': 'Mikhaylovka',\n",
        "  'gname_adminCode1': '46',\n",
        "  'url': 'http://api.geonames.org/search?username=jaguillette&fuzzy=1&type=json&name=%D0%9C%D0%B8%D1%85%D0%B0%D0%B9%D0%BB%D0%BE%D0%B2%D0%BA%D0%B0&south=47.716667&east=32.183333&north=55.716667&west=40.183333&featureClass=P',\n",
        "  'gname_adminName1': 'Mordoviya',\n",
        "  'gname_lat': '54.5418'},\n",
        " {'south_bound': 47.716667,\n",
        "  'searched_name': '\u041c\u0438\u0445\u0430\u0439\u043b\u043e\u0432\u043a\u0430',\n",
        "  'gname_countryName': 'Russia',\n",
        "  'gname_countryId': '2017370',\n",
        "  'gname_fcode': 'PPL',\n",
        "  'gname_countryCode': 'RU',\n",
        "  'west_bound': 40.183333,\n",
        "  'gname_toponymName': 'Mikhaylovka',\n",
        "  'hgr_id': 434,\n",
        "  'gname_fclName': 'city, village,...',\n",
        "  'gname_lng': '41.6592',\n",
        "  'gname_fcl': 'P',\n",
        "  'gname_geonameId': 526882,\n",
        "  'fuzzy': 1,\n",
        "  'gname_population': 0,\n",
        "  'gname_fcodeName': 'populated place',\n",
        "  'east_bound': 32.183333,\n",
        "  'north_bound': 55.716667,\n",
        "  'gname_name': 'Mikhaylovka',\n",
        "  'gname_adminCode1': '62',\n",
        "  'url': 'http://api.geonames.org/search?username=jaguillette&fuzzy=1&type=json&name=%D0%9C%D0%B8%D1%85%D0%B0%D0%B9%D0%BB%D0%BE%D0%B2%D0%BA%D0%B0&south=47.716667&east=32.183333&north=55.716667&west=40.183333&featureClass=P',\n",
        "  'gname_adminName1': 'Rjazan',\n",
        "  'gname_lat': '54.53198'},\n",
        " {'south_bound': 47.716667,\n",
        "  'searched_name': '\u041c\u0438\u0445\u0430\u0439\u043b\u043e\u0432\u043a\u0430',\n",
        "  'gname_countryName': 'Russia',\n",
        "  'gname_countryId': '2017370',\n",
        "  'gname_fcode': 'PPL',\n",
        "  'gname_countryCode': 'RU',\n",
        "  'west_bound': 40.183333,\n",
        "  'gname_toponymName': 'Mikhaylovka',\n",
        "  'hgr_id': 434,\n",
        "  'gname_fclName': 'city, village,...',\n",
        "  'gname_lng': '46.33356',\n",
        "  'gname_fcl': 'P',\n",
        "  'gname_geonameId': 526884,\n",
        "  'fuzzy': 1,\n",
        "  'gname_population': 0,\n",
        "  'gname_fcodeName': 'populated place',\n",
        "  'east_bound': 32.183333,\n",
        "  'north_bound': 55.716667,\n",
        "  'gname_name': 'Mikhaylovka',\n",
        "  'gname_adminCode1': '46',\n",
        "  'url': 'http://api.geonames.org/search?username=jaguillette&fuzzy=1&type=json&name=%D0%9C%D0%B8%D1%85%D0%B0%D0%B9%D0%BB%D0%BE%D0%B2%D0%BA%D0%B0&south=47.716667&east=32.183333&north=55.716667&west=40.183333&featureClass=P',\n",
        "  'gname_adminName1': 'Mordoviya',\n",
        "  'gname_lat': '54.49928'},\n",
        " {'south_bound': 47.716667,\n",
        "  'searched_name': '\u041c\u0438\u0445\u0430\u0439\u043b\u043e\u0432\u043a\u0430',\n",
        "  'gname_countryName': 'Russia',\n",
        "  'gname_countryId': '2017370',\n",
        "  'gname_fcode': 'PPL',\n",
        "  'gname_countryCode': 'RU',\n",
        "  'west_bound': 40.183333,\n",
        "  'gname_toponymName': 'Mikhaylovka',\n",
        "  'hgr_id': 434,\n",
        "  'gname_fclName': 'city, village,...',\n",
        "  'gname_lng': '45.48128',\n",
        "  'gname_fcl': 'P',\n",
        "  'gname_geonameId': 526890,\n",
        "  'fuzzy': 1,\n",
        "  'gname_population': 0,\n",
        "  'gname_fcodeName': 'populated place',\n",
        "  'east_bound': 32.183333,\n",
        "  'north_bound': 55.716667,\n",
        "  'gname_name': 'Mikhaylovka',\n",
        "  'gname_adminCode1': '46',\n",
        "  'url': 'http://api.geonames.org/search?username=jaguillette&fuzzy=1&type=json&name=%D0%9C%D0%B8%D1%85%D0%B0%D0%B9%D0%BB%D0%BE%D0%B2%D0%BA%D0%B0&south=47.716667&east=32.183333&north=55.716667&west=40.183333&featureClass=P',\n",
        "  'gname_adminName1': 'Mordoviya',\n",
        "  'gname_lat': '54.29253'},\n",
        " {'south_bound': 47.716667,\n",
        "  'searched_name': '\u041c\u0438\u0445\u0430\u0439\u043b\u043e\u0432\u043a\u0430',\n",
        "  'gname_countryName': 'Russia',\n",
        "  'gname_countryId': '2017370',\n",
        "  'gname_fcode': 'PPL',\n",
        "  'gname_countryCode': 'RU',\n",
        "  'west_bound': 40.183333,\n",
        "  'gname_toponymName': 'Mikhaylovka',\n",
        "  'hgr_id': 434,\n",
        "  'gname_fclName': 'city, village,...',\n",
        "  'gname_lng': '53.733',\n",
        "  'gname_fcl': 'P',\n",
        "  'gname_geonameId': 526892,\n",
        "  'fuzzy': 1,\n",
        "  'gname_population': 0,\n",
        "  'gname_fcodeName': 'populated place',\n",
        "  'east_bound': 32.183333,\n",
        "  'north_bound': 55.716667,\n",
        "  'gname_name': 'Mikhaylovka',\n",
        "  'gname_adminCode1': '08',\n",
        "  'url': 'http://api.geonames.org/search?username=jaguillette&fuzzy=1&type=json&name=%D0%9C%D0%B8%D1%85%D0%B0%D0%B9%D0%BB%D0%BE%D0%B2%D0%BA%D0%B0&south=47.716667&east=32.183333&north=55.716667&west=40.183333&featureClass=P',\n",
        "  'gname_adminName1': 'Bashkortostan',\n",
        "  'gname_lat': '54.25028'},\n",
        " {'south_bound': 47.716667,\n",
        "  'searched_name': '\u041c\u0438\u0445\u0430\u0439\u043b\u043e\u0432\u043a\u0430',\n",
        "  'gname_countryName': 'Russia',\n",
        "  'gname_countryId': '2017370',\n",
        "  'gname_fcode': 'PPL',\n",
        "  'gname_countryCode': 'RU',\n",
        "  'west_bound': 40.183333,\n",
        "  'gname_toponymName': 'Mikhaylovka',\n",
        "  'hgr_id': 434,\n",
        "  'gname_fclName': 'city, village,...',\n",
        "  'gname_lng': '52.67039',\n",
        "  'gname_fcl': 'P',\n",
        "  'gname_geonameId': 526894,\n",
        "  'fuzzy': 1,\n",
        "  'gname_population': 0,\n",
        "  'gname_fcodeName': 'populated place',\n",
        "  'east_bound': 32.183333,\n",
        "  'north_bound': 55.716667,\n",
        "  'gname_name': 'Mikhaylovka',\n",
        "  'gname_adminCode1': '55',\n",
        "  'url': 'http://api.geonames.org/search?username=jaguillette&fuzzy=1&type=json&name=%D0%9C%D0%B8%D1%85%D0%B0%D0%B9%D0%BB%D0%BE%D0%B2%D0%BA%D0%B0&south=47.716667&east=32.183333&north=55.716667&west=40.183333&featureClass=P',\n",
        "  'gname_adminName1': 'Orenburg',\n",
        "  'gname_lat': '54.25002'},\n",
        " {'south_bound': 47.716667,\n",
        "  'searched_name': '\u041c\u0438\u0445\u0430\u0439\u043b\u043e\u0432\u043a\u0430',\n",
        "  'gname_countryName': 'Russia',\n",
        "  'gname_countryId': '2017370',\n",
        "  'gname_fcode': 'PPL',\n",
        "  'gname_countryCode': 'RU',\n",
        "  'west_bound': 40.183333,\n",
        "  'gname_toponymName': 'Mikhaylovka',\n",
        "  'hgr_id': 434,\n",
        "  'gname_fclName': 'city, village,...',\n",
        "  'gname_lng': '54.06667',\n",
        "  'gname_fcl': 'P',\n",
        "  'gname_geonameId': 526895,\n",
        "  'fuzzy': 1,\n",
        "  'gname_population': 0,\n",
        "  'gname_fcodeName': 'populated place',\n",
        "  'east_bound': 32.183333,\n",
        "  'north_bound': 55.716667,\n",
        "  'gname_name': 'Mikhaylovka',\n",
        "  'gname_adminCode1': '08',\n",
        "  'url': 'http://api.geonames.org/search?username=jaguillette&fuzzy=1&type=json&name=%D0%9C%D0%B8%D1%85%D0%B0%D0%B9%D0%BB%D0%BE%D0%B2%D0%BA%D0%B0&south=47.716667&east=32.183333&north=55.716667&west=40.183333&featureClass=P',\n",
        "  'gname_adminName1': 'Bashkortostan',\n",
        "  'gname_lat': '54.2'},\n",
        " {'south_bound': 47.716667,\n",
        "  'searched_name': '\u041c\u0438\u0445\u0430\u0439\u043b\u043e\u0432\u043a\u0430',\n",
        "  'gname_countryName': 'Russia',\n",
        "  'gname_countryId': '2017370',\n",
        "  'gname_fcode': 'PPL',\n",
        "  'gname_countryCode': 'RU',\n",
        "  'west_bound': 40.183333,\n",
        "  'gname_toponymName': 'Mikhaylovka',\n",
        "  'hgr_id': 434,\n",
        "  'gname_fclName': 'city, village,...',\n",
        "  'gname_lng': '31.97689',\n",
        "  'gname_fcl': 'P',\n",
        "  'gname_geonameId': 526896,\n",
        "  'fuzzy': 1,\n",
        "  'gname_population': 0,\n",
        "  'gname_fcodeName': 'populated place',\n",
        "  'east_bound': 32.183333,\n",
        "  'north_bound': 55.716667,\n",
        "  'gname_name': 'Mikhaylovka',\n",
        "  'gname_adminCode1': '69',\n",
        "  'url': 'http://api.geonames.org/search?username=jaguillette&fuzzy=1&type=json&name=%D0%9C%D0%B8%D1%85%D0%B0%D0%B9%D0%BB%D0%BE%D0%B2%D0%BA%D0%B0&south=47.716667&east=32.183333&north=55.716667&west=40.183333&featureClass=P',\n",
        "  'gname_adminName1': 'Smolensk',\n",
        "  'gname_lat': '54.20233'},\n",
        " {'south_bound': 47.716667,\n",
        "  'searched_name': '\u041c\u0438\u0445\u0430\u0439\u043b\u043e\u0432\u043a\u0430',\n",
        "  'gname_countryName': 'Russia',\n",
        "  'gname_countryId': '2017370',\n",
        "  'gname_fcode': 'PPL',\n",
        "  'gname_countryCode': 'RU',\n",
        "  'west_bound': 40.183333,\n",
        "  'gname_toponymName': 'Mikhaylovka',\n",
        "  'hgr_id': 434,\n",
        "  'gname_fclName': 'city, village,...',\n",
        "  'gname_lng': '56.35',\n",
        "  'gname_fcl': 'P',\n",
        "  'gname_geonameId': 526898,\n",
        "  'fuzzy': 1,\n",
        "  'gname_population': 0,\n",
        "  'gname_fcodeName': 'populated place',\n",
        "  'east_bound': 32.183333,\n",
        "  'north_bound': 55.716667,\n",
        "  'gname_name': 'Mikhaylovka',\n",
        "  'gname_adminCode1': '08',\n",
        "  'url': 'http://api.geonames.org/search?username=jaguillette&fuzzy=1&type=json&name=%D0%9C%D0%B8%D1%85%D0%B0%D0%B9%D0%BB%D0%BE%D0%B2%D0%BA%D0%B0&south=47.716667&east=32.183333&north=55.716667&west=40.183333&featureClass=P',\n",
        "  'gname_adminName1': 'Bashkortostan',\n",
        "  'gname_lat': '54.08333'},\n",
        " {'south_bound': 47.716667,\n",
        "  'searched_name': '\u041c\u0438\u0445\u0430\u0439\u043b\u043e\u0432\u043a\u0430',\n",
        "  'gname_countryName': 'Russia',\n",
        "  'gname_countryId': '2017370',\n",
        "  'gname_fcode': 'PPL',\n",
        "  'gname_countryCode': 'RU',\n",
        "  'west_bound': 40.183333,\n",
        "  'gname_toponymName': 'Mikhaylovka',\n",
        "  'hgr_id': 434,\n",
        "  'gname_fclName': 'city, village,...',\n",
        "  'gname_lng': '51.15',\n",
        "  'gname_fcl': 'P',\n",
        "  'gname_geonameId': 526900,\n",
        "  'fuzzy': 1,\n",
        "  'gname_population': 0,\n",
        "  'gname_fcodeName': 'populated place',\n",
        "  'east_bound': 32.183333,\n",
        "  'north_bound': 55.716667,\n",
        "  'gname_name': 'Mikhaylovka',\n",
        "  'gname_adminCode1': '65',\n",
        "  'url': 'http://api.geonames.org/search?username=jaguillette&fuzzy=1&type=json&name=%D0%9C%D0%B8%D1%85%D0%B0%D0%B9%D0%BB%D0%BE%D0%B2%D0%BA%D0%B0&south=47.716667&east=32.183333&north=55.716667&west=40.183333&featureClass=P',\n",
        "  'gname_adminName1': 'Samara',\n",
        "  'gname_lat': '54.06667'},\n",
        " {'south_bound': 47.716667,\n",
        "  'searched_name': '\u041c\u0438\u0445\u0430\u0439\u043b\u043e\u0432\u043a\u0430',\n",
        "  'gname_countryName': 'Russia',\n",
        "  'gname_countryId': '2017370',\n",
        "  'gname_fcode': 'PPL',\n",
        "  'gname_countryCode': 'RU',\n",
        "  'west_bound': 40.183333,\n",
        "  'gname_toponymName': 'Mikhaylovka',\n",
        "  'hgr_id': 434,\n",
        "  'gname_fclName': 'city, village,...',\n",
        "  'gname_lng': '53.93333',\n",
        "  'gname_fcl': 'P',\n",
        "  'gname_geonameId': 526901,\n",
        "  'fuzzy': 1,\n",
        "  'gname_population': 0,\n",
        "  'gname_fcodeName': 'populated place',\n",
        "  'east_bound': 32.183333,\n",
        "  'north_bound': 55.716667,\n",
        "  'gname_name': 'Mikhaylovka',\n",
        "  'gname_adminCode1': '08',\n",
        "  'url': 'http://api.geonames.org/search?username=jaguillette&fuzzy=1&type=json&name=%D0%9C%D0%B8%D1%85%D0%B0%D0%B9%D0%BB%D0%BE%D0%B2%D0%BA%D0%B0&south=47.716667&east=32.183333&north=55.716667&west=40.183333&featureClass=P',\n",
        "  'gname_adminName1': 'Bashkortostan',\n",
        "  'gname_lat': '54.05'},\n",
        " {'south_bound': 47.716667,\n",
        "  'searched_name': '\u041c\u0438\u0445\u0430\u0439\u043b\u043e\u0432\u043a\u0430',\n",
        "  'gname_countryName': 'Russia',\n",
        "  'gname_countryId': '2017370',\n",
        "  'gname_fcode': 'PPL',\n",
        "  'gname_countryCode': 'RU',\n",
        "  'west_bound': 40.183333,\n",
        "  'gname_toponymName': 'Mikhaylovka',\n",
        "  'hgr_id': 434,\n",
        "  'gname_fclName': 'city, village,...',\n",
        "  'gname_lng': '55.13024',\n",
        "  'gname_fcl': 'P',\n",
        "  'gname_geonameId': 526902,\n",
        "  'fuzzy': 1,\n",
        "  'gname_population': 0,\n",
        "  'gname_fcodeName': 'populated place',\n",
        "  'east_bound': 32.183333,\n",
        "  'north_bound': 55.716667,\n",
        "  'gname_name': 'Mikhaylovka',\n",
        "  'gname_adminCode1': '08',\n",
        "  'url': 'http://api.geonames.org/search?username=jaguillette&fuzzy=1&type=json&name=%D0%9C%D0%B8%D1%85%D0%B0%D0%B9%D0%BB%D0%BE%D0%B2%D0%BA%D0%B0&south=47.716667&east=32.183333&north=55.716667&west=40.183333&featureClass=P',\n",
        "  'gname_adminName1': 'Bashkortostan',\n",
        "  'gname_lat': '54.01975'},\n",
        " {'south_bound': 47.716667,\n",
        "  'searched_name': '\u041c\u0438\u0445\u0430\u0439\u043b\u043e\u0432\u043a\u0430',\n",
        "  'gname_countryName': 'Russia',\n",
        "  'gname_countryId': '2017370',\n",
        "  'gname_fcode': 'PPL',\n",
        "  'gname_countryCode': 'RU',\n",
        "  'west_bound': 40.183333,\n",
        "  'gname_toponymName': 'Mikhaylovka',\n",
        "  'hgr_id': 434,\n",
        "  'gname_fclName': 'city, village,...',\n",
        "  'gname_lng': '44.82304',\n",
        "  'gname_fcl': 'P',\n",
        "  'gname_geonameId': 526903,\n",
        "  'fuzzy': 1,\n",
        "  'gname_population': 0,\n",
        "  'gname_fcodeName': 'populated place',\n",
        "  'east_bound': 32.183333,\n",
        "  'north_bound': 55.716667,\n",
        "  'gname_name': 'Mikhaylovka',\n",
        "  'gname_adminCode1': '46',\n",
        "  'url': 'http://api.geonames.org/search?username=jaguillette&fuzzy=1&type=json&name=%D0%9C%D0%B8%D1%85%D0%B0%D0%B9%D0%BB%D0%BE%D0%B2%D0%BA%D0%B0&south=47.716667&east=32.183333&north=55.716667&west=40.183333&featureClass=P',\n",
        "  'gname_adminName1': 'Mordoviya',\n",
        "  'gname_lat': '53.99806'},\n",
        " {'south_bound': 47.716667,\n",
        "  'searched_name': '\u041c\u0438\u0445\u0430\u0439\u043b\u043e\u0432\u043a\u0430',\n",
        "  'gname_countryName': 'Russia',\n",
        "  'gname_countryId': '2017370',\n",
        "  'gname_fcode': 'PPL',\n",
        "  'gname_countryCode': 'RU',\n",
        "  'west_bound': 40.183333,\n",
        "  'gname_toponymName': 'Mikhaylovka',\n",
        "  'hgr_id': 434,\n",
        "  'gname_fclName': 'city, village,...',\n",
        "  'gname_lng': '55.41667',\n",
        "  'gname_fcl': 'P',\n",
        "  'gname_geonameId': 526904,\n",
        "  'fuzzy': 1,\n",
        "  'gname_population': 0,\n",
        "  'gname_fcodeName': 'populated place',\n",
        "  'east_bound': 32.183333,\n",
        "  'north_bound': 55.716667,\n",
        "  'gname_name': 'Mikhaylovka',\n",
        "  'gname_adminCode1': '08',\n",
        "  'url': 'http://api.geonames.org/search?username=jaguillette&fuzzy=1&type=json&name=%D0%9C%D0%B8%D1%85%D0%B0%D0%B9%D0%BB%D0%BE%D0%B2%D0%BA%D0%B0&south=47.716667&east=32.183333&north=55.716667&west=40.183333&featureClass=P',\n",
        "  'gname_adminName1': 'Bashkortostan',\n",
        "  'gname_lat': '53.96667'},\n",
        " {'south_bound': 47.716667,\n",
        "  'searched_name': '\u041c\u0438\u0445\u0430\u0439\u043b\u043e\u0432\u043a\u0430',\n",
        "  'gname_countryName': 'Russia',\n",
        "  'gname_countryId': '2017370',\n",
        "  'gname_fcode': 'PPL',\n",
        "  'gname_countryCode': 'RU',\n",
        "  'west_bound': 40.183333,\n",
        "  'gname_toponymName': 'Mikhaylovka',\n",
        "  'hgr_id': 434,\n",
        "  'gname_fclName': 'city, village,...',\n",
        "  'gname_lng': '54.86667',\n",
        "  'gname_fcl': 'P',\n",
        "  'gname_geonameId': 526905,\n",
        "  'fuzzy': 1,\n",
        "  'gname_population': 0,\n",
        "  'gname_fcodeName': 'populated place',\n",
        "  'east_bound': 32.183333,\n",
        "  'north_bound': 55.716667,\n",
        "  'gname_name': 'Mikhaylovka',\n",
        "  'gname_adminCode1': '08',\n",
        "  'url': 'http://api.geonames.org/search?username=jaguillette&fuzzy=1&type=json&name=%D0%9C%D0%B8%D1%85%D0%B0%D0%B9%D0%BB%D0%BE%D0%B2%D0%BA%D0%B0&south=47.716667&east=32.183333&north=55.716667&west=40.183333&featureClass=P',\n",
        "  'gname_adminName1': 'Bashkortostan',\n",
        "  'gname_lat': '53.96667'},\n",
        " {'south_bound': 47.716667,\n",
        "  'searched_name': '\u041c\u0438\u0445\u0430\u0439\u043b\u043e\u0432\u043a\u0430',\n",
        "  'gname_countryName': 'Russia',\n",
        "  'gname_countryId': '2017370',\n",
        "  'gname_fcode': 'PPL',\n",
        "  'gname_countryCode': 'RU',\n",
        "  'west_bound': 40.183333,\n",
        "  'gname_toponymName': 'Mikhaylovka',\n",
        "  'hgr_id': 434,\n",
        "  'gname_fclName': 'city, village,...',\n",
        "  'gname_lng': '45.33333',\n",
        "  'gname_fcl': 'P',\n",
        "  'gname_geonameId': 526908,\n",
        "  'fuzzy': 1,\n",
        "  'gname_population': 0,\n",
        "  'gname_fcodeName': 'populated place',\n",
        "  'east_bound': 32.183333,\n",
        "  'north_bound': 55.716667,\n",
        "  'gname_name': 'Mikhaylovka',\n",
        "  'gname_adminCode1': '57',\n",
        "  'url': 'http://api.geonames.org/search?username=jaguillette&fuzzy=1&type=json&name=%D0%9C%D0%B8%D1%85%D0%B0%D0%B9%D0%BB%D0%BE%D0%B2%D0%BA%D0%B0&south=47.716667&east=32.183333&north=55.716667&west=40.183333&featureClass=P',\n",
        "  'gname_adminName1': 'Penza',\n",
        "  'gname_lat': '53.85'},\n",
        " {'south_bound': 47.716667,\n",
        "  'searched_name': '\u041c\u0438\u0445\u0430\u0439\u043b\u043e\u0432\u043a\u0430',\n",
        "  'gname_countryName': 'Russia',\n",
        "  'gname_countryId': '2017370',\n",
        "  'gname_fcode': 'PPL',\n",
        "  'gname_countryCode': 'RU',\n",
        "  'west_bound': 40.183333,\n",
        "  'gname_toponymName': 'Mikhaylovka',\n",
        "  'hgr_id': 434,\n",
        "  'gname_fclName': 'city, village,...',\n",
        "  'gname_lng': '53.91667',\n",
        "  'gname_fcl': 'P',\n",
        "  'gname_geonameId': 526911,\n",
        "  'fuzzy': 1,\n",
        "  'gname_population': 0,\n",
        "  'gname_fcodeName': 'populated place',\n",
        "  'east_bound': 32.183333,\n",
        "  'north_bound': 55.716667,\n",
        "  'gname_name': 'Mikhaylovka',\n",
        "  'gname_adminCode1': '08',\n",
        "  'url': 'http://api.geonames.org/search?username=jaguillette&fuzzy=1&type=json&name=%D0%9C%D0%B8%D1%85%D0%B0%D0%B9%D0%BB%D0%BE%D0%B2%D0%BA%D0%B0&south=47.716667&east=32.183333&north=55.716667&west=40.183333&featureClass=P',\n",
        "  'gname_adminName1': 'Bashkortostan',\n",
        "  'gname_lat': '53.73333'},\n",
        " {'south_bound': 47.716667,\n",
        "  'searched_name': '\u041c\u0438\u0445\u0430\u0439\u043b\u043e\u0432\u043a\u0430',\n",
        "  'gname_countryName': 'Russia',\n",
        "  'gname_countryId': '2017370',\n",
        "  'gname_fcode': 'PPL',\n",
        "  'gname_countryCode': 'RU',\n",
        "  'west_bound': 40.183333,\n",
        "  'gname_toponymName': 'Mikhaylovka',\n",
        "  'hgr_id': 434,\n",
        "  'gname_fclName': 'city, village,...',\n",
        "  'gname_lng': '56.33596',\n",
        "  'gname_fcl': 'P',\n",
        "  'gname_geonameId': 526916,\n",
        "  'fuzzy': 1,\n",
        "  'gname_population': 0,\n",
        "  'gname_fcodeName': 'populated place',\n",
        "  'east_bound': 32.183333,\n",
        "  'north_bound': 55.716667,\n",
        "  'gname_name': 'Mikhaylovka',\n",
        "  'gname_adminCode1': '08',\n",
        "  'url': 'http://api.geonames.org/search?username=jaguillette&fuzzy=1&type=json&name=%D0%9C%D0%B8%D1%85%D0%B0%D0%B9%D0%BB%D0%BE%D0%B2%D0%BA%D0%B0&south=47.716667&east=32.183333&north=55.716667&west=40.183333&featureClass=P',\n",
        "  'gname_adminName1': 'Bashkortostan',\n",
        "  'gname_lat': '53.64546'},\n",
        " {'south_bound': 47.716667,\n",
        "  'searched_name': '\u041c\u0438\u0445\u0430\u0439\u043b\u043e\u0432\u043a\u0430',\n",
        "  'gname_countryName': 'Russia',\n",
        "  'gname_countryId': '2017370',\n",
        "  'gname_fcode': 'PPL',\n",
        "  'gname_countryCode': 'RU',\n",
        "  'west_bound': 40.183333,\n",
        "  'gname_toponymName': 'Mikhaylovka',\n",
        "  'hgr_id': 434,\n",
        "  'gname_fclName': 'city, village,...',\n",
        "  'gname_lng': '56.00243',\n",
        "  'gname_fcl': 'P',\n",
        "  'gname_geonameId': 526927,\n",
        "  'fuzzy': 1,\n",
        "  'gname_population': 0,\n",
        "  'gname_fcodeName': 'populated place',\n",
        "  'east_bound': 32.183333,\n",
        "  'north_bound': 55.716667,\n",
        "  'gname_name': 'Mikhaylovka',\n",
        "  'gname_adminCode1': '08',\n",
        "  'url': 'http://api.geonames.org/search?username=jaguillette&fuzzy=1&type=json&name=%D0%9C%D0%B8%D1%85%D0%B0%D0%B9%D0%BB%D0%BE%D0%B2%D0%BA%D0%B0&south=47.716667&east=32.183333&north=55.716667&west=40.183333&featureClass=P',\n",
        "  'gname_adminName1': 'Bashkortostan',\n",
        "  'gname_lat': '53.31323'},\n",
        " {'south_bound': 54.9145,\n",
        "  'searched_name': '\u0414\u0443\u043d\u0438\u043b\u043e\u0432\u043e',\n",
        "  'gname_countryName': 'Russia',\n",
        "  'gname_countryId': '2017370',\n",
        "  'gname_fcode': 'PPL',\n",
        "  'gname_countryCode': 'RU',\n",
        "  'west_bound': 37.8508,\n",
        "  'gname_toponymName': 'Dunilovo',\n",
        "  'hgr_id': 205,\n",
        "  'gname_fclName': 'city, village,...',\n",
        "  'gname_lng': '41.41148',\n",
        "  'gname_fcl': 'P',\n",
        "  'gname_geonameId': 564159,\n",
        "  'fuzzy': 1,\n",
        "  'gname_population': 0,\n",
        "  'gname_fcodeName': 'populated place',\n",
        "  'east_bound': 43.3445,\n",
        "  'north_bound': 57.246,\n",
        "  'gname_name': 'Dunilovo',\n",
        "  'gname_adminCode1': '21',\n",
        "  'url': 'http://api.geonames.org/search?username=jaguillette&fuzzy=1&type=json&name=%D0%94%D1%83%D0%BD%D0%B8%D0%BB%D0%BE%D0%B2%D0%BE&south=54.9145&east=43.3445&north=57.246&west=37.8508&featureClass=P',\n",
        "  'gname_adminName1': 'Ivanovo',\n",
        "  'gname_lat': '56.99779'},\n",
        " {'south_bound': 54.9145,\n",
        "  'searched_name': '\u0414\u0443\u043d\u0438\u043b\u043e\u0432\u043e',\n",
        "  'gname_countryName': 'Russia',\n",
        "  'gname_countryId': '2017370',\n",
        "  'gname_fcode': 'PPL',\n",
        "  'gname_countryCode': 'RU',\n",
        "  'west_bound': 37.8508,\n",
        "  'gname_toponymName': 'Dunilovo',\n",
        "  'hgr_id': 205,\n",
        "  'gname_fclName': 'city, village,...',\n",
        "  'gname_lng': '39.26522',\n",
        "  'gname_fcl': 'P',\n",
        "  'gname_geonameId': 7078599,\n",
        "  'fuzzy': 1,\n",
        "  'gname_population': 0,\n",
        "  'gname_fcodeName': 'populated place',\n",
        "  'east_bound': 43.3445,\n",
        "  'north_bound': 57.246,\n",
        "  'gname_name': 'Dunilovo',\n",
        "  'gname_adminCode1': '88',\n",
        "  'url': 'http://api.geonames.org/search?username=jaguillette&fuzzy=1&type=json&name=%D0%94%D1%83%D0%BD%D0%B8%D0%BB%D0%BE%D0%B2%D0%BE&south=54.9145&east=43.3445&north=57.246&west=37.8508&featureClass=P',\n",
        "  'gname_adminName1': 'Jaroslavl',\n",
        "  'gname_lat': '57.22801'},\n",
        " {'south_bound': 52.8329,\n",
        "  'searched_name': '\u0418\u0433\u0443\u043c\u043d\u043e\u0432\u043e',\n",
        "  'gname_countryName': 'Russia',\n",
        "  'gname_countryId': '2017370',\n",
        "  'gname_fcode': 'PPL',\n",
        "  'gname_countryCode': 'RU',\n",
        "  'west_bound': 35.5421,\n",
        "  'gname_toponymName': 'Igumnovo',\n",
        "  'hgr_id': 252,\n",
        "  'gname_fclName': 'city, village,...',\n",
        "  'gname_lng': '36.96952',\n",
        "  'gname_fcl': 'P',\n",
        "  'gname_geonameId': 557456,\n",
        "  'fuzzy': 1,\n",
        "  'gname_population': 0,\n",
        "  'gname_fcodeName': 'populated place',\n",
        "  'east_bound': 39.6827,\n",
        "  'north_bound': 55.0867,\n",
        "  'gname_name': 'Igumnovo',\n",
        "  'gname_adminCode1': '56',\n",
        "  'url': 'http://api.geonames.org/search?username=jaguillette&fuzzy=1&type=json&name=%D0%98%D0%B3%D1%83%D0%BC%D0%BD%D0%BE%D0%B2%D0%BE&south=52.8329&east=39.6827&north=55.0867&west=35.5421&featureClass=P',\n",
        "  'gname_adminName1': 'Orjol',\n",
        "  'gname_lat': '53.10418'},\n",
        " {'south_bound': 52.8329,\n",
        "  'searched_name': '\u0418\u0433\u0443\u043c\u043d\u043e\u0432\u043e',\n",
        "  'gname_countryName': 'Russia',\n",
        "  'gname_countryId': '2017370',\n",
        "  'gname_fcode': 'PPL',\n",
        "  'gname_countryCode': 'RU',\n",
        "  'west_bound': 35.5421,\n",
        "  'gname_toponymName': 'Igumnovo',\n",
        "  'hgr_id': 252,\n",
        "  'gname_fclName': 'city, village,...',\n",
        "  'gname_lng': '38.41253',\n",
        "  'gname_fcl': 'P',\n",
        "  'gname_geonameId': 557457,\n",
        "  'fuzzy': 1,\n",
        "  'gname_population': 0,\n",
        "  'gname_fcodeName': 'populated place',\n",
        "  'east_bound': 39.6827,\n",
        "  'north_bound': 55.0867,\n",
        "  'gname_name': 'Igumnovo',\n",
        "  'gname_adminCode1': '76',\n",
        "  'url': 'http://api.geonames.org/search?username=jaguillette&fuzzy=1&type=json&name=%D0%98%D0%B3%D1%83%D0%BC%D0%BD%D0%BE%D0%B2%D0%BE&south=52.8329&east=39.6827&north=55.0867&west=35.5421&featureClass=P',\n",
        "  'gname_adminName1': 'Tula',\n",
        "  'gname_lat': '54.62235'},\n",
        " {'south_bound': 52.8329,\n",
        "  'searched_name': '\u0418\u0433\u0443\u043c\u043d\u043e\u0432\u043e',\n",
        "  'gname_countryName': 'Russia',\n",
        "  'gname_countryId': '2017370',\n",
        "  'gname_fcode': 'PPL',\n",
        "  'gname_countryCode': 'RU',\n",
        "  'west_bound': 35.5421,\n",
        "  'gname_toponymName': 'Igumnovo',\n",
        "  'hgr_id': 252,\n",
        "  'gname_fclName': 'city, village,...',\n",
        "  'gname_lng': '37.77232',\n",
        "  'gname_fcl': 'P',\n",
        "  'gname_geonameId': 557454,\n",
        "  'fuzzy': 1,\n",
        "  'gname_population': 0,\n",
        "  'gname_fcodeName': 'populated place',\n",
        "  'east_bound': 39.6827,\n",
        "  'north_bound': 55.0867,\n",
        "  'gname_name': 'Igumnovo',\n",
        "  'gname_adminCode1': '47',\n",
        "  'url': 'http://api.geonames.org/search?username=jaguillette&fuzzy=1&type=json&name=%D0%98%D0%B3%D1%83%D0%BC%D0%BD%D0%BE%D0%B2%D0%BE&south=52.8329&east=39.6827&north=55.0867&west=35.5421&featureClass=P',\n",
        "  'gname_adminName1': 'Moskovskaya',\n",
        "  'gname_lat': '54.89314'},\n",
        " {'south_bound': 55.22,\n",
        "  'searched_name': '\u0411\u043e\u0431\u0440\u043e\u0432\u0441\u043a\u043e\u0435',\n",
        "  'gname_countryName': 'Russia',\n",
        "  'gname_countryId': '2017370',\n",
        "  'gname_fcode': 'PPL',\n",
        "  'gname_countryCode': 'RU',\n",
        "  'west_bound': 50.56,\n",
        "  'gname_toponymName': 'Bobrovskoye',\n",
        "  'hgr_id': 47,\n",
        "  'gname_fclName': 'city, village,...',\n",
        "  'gname_lng': '64.16392',\n",
        "  'gname_fcl': 'P',\n",
        "  'gname_geonameId': 1509926,\n",
        "  'fuzzy': 1,\n",
        "  'gname_population': 0,\n",
        "  'gname_fcodeName': 'populated place',\n",
        "  'east_bound': 65.27,\n",
        "  'north_bound': 61.8,\n",
        "  'gname_name': 'Bobrovskoye',\n",
        "  'gname_adminCode1': '71',\n",
        "  'url': 'http://api.geonames.org/search?username=jaguillette&fuzzy=1&type=json&name=%D0%91%D0%BE%D0%B1%D1%80%D0%BE%D0%B2%D1%81%D0%BA%D0%BE%D0%B5&south=55.22&east=65.27&north=61.8&west=50.56&featureClass=P',\n",
        "  'gname_adminName1': 'Sverdlovsk',\n",
        "  'gname_lat': '57.50211'},\n",
        " {'fuzzy': 1,\n",
        "  'south_bound': -90,\n",
        "  'north_bound': 90,\n",
        "  'searched_name': '\u0413\u043b\u0443\u0448\u0438\u0446\u043a\u043e\u0439',\n",
        "  'hgr_id': 155,\n",
        "  'url': 'http://api.geonames.org/search?username=jaguillette&fuzzy=1&type=json&name=%D0%93%D0%BB%D1%83%D1%88%D0%B8%D1%86%D0%BA%D0%BE%D0%B9&south=-90&east=180&north=90&west=-180&featureClass=P',\n",
        "  'east_bound': 180,\n",
        "  'west_bound': -180},\n",
        " {'south_bound': -90,\n",
        "  'searched_name': '\u0413\u043b\u0443\u0448\u0438\u0446\u043a\u0438\u0439',\n",
        "  'gname_countryName': 'Russia',\n",
        "  'gname_countryId': '2017370',\n",
        "  'gname_fcode': 'PPL',\n",
        "  'gname_countryCode': 'RU',\n",
        "  'west_bound': -180,\n",
        "  'gname_toponymName': 'Glushitskiy',\n",
        "  'hgr_id': 155,\n",
        "  'gname_fclName': 'city, village,...',\n",
        "  'gname_lng': '50.42343',\n",
        "  'gname_fcl': 'P',\n",
        "  'gname_geonameId': 561002,\n",
        "  'fuzzy': 1,\n",
        "  'gname_population': 0,\n",
        "  'gname_fcodeName': 'populated place',\n",
        "  'east_bound': 180,\n",
        "  'north_bound': 90,\n",
        "  'gname_name': 'Glushitskiy',\n",
        "  'gname_adminCode1': '65',\n",
        "  'url': 'http://api.geonames.org/search?username=jaguillette&fuzzy=1&type=json&name=%D0%93%D0%BB%D1%83%D1%88%D0%B8%D1%86%D0%BA%D0%B8%D0%B9&south=-90&east=180&north=90&west=-180&featureClass=P',\n",
        "  'gname_adminName1': 'Samara',\n",
        "  'gname_lat': '52.16167'},\n",
        " {'south_bound': 53.616667,\n",
        "  'searched_name': '\u0411\u0435\u043b\u043e\u0435',\n",
        "  'gname_countryName': 'Russia',\n",
        "  'gname_countryId': '2017370',\n",
        "  'gname_fcode': 'PPL',\n",
        "  'gname_countryCode': 'RU',\n",
        "  'west_bound': 43.85,\n",
        "  'gname_toponymName': 'Beloye',\n",
        "  'hgr_id': 85,\n",
        "  'gname_fclName': 'city, village,...',\n",
        "  'gname_lng': '122.60524',\n",
        "  'gname_fcl': 'P',\n",
        "  'gname_geonameId': 2026883,\n",
        "  'fuzzy': 1,\n",
        "  'gname_population': 0,\n",
        "  'gname_fcodeName': 'populated place',\n",
        "  'east_bound': 35.85,\n",
        "  'north_bound': 61.616667,\n",
        "  'gname_name': 'Beloye',\n",
        "  'gname_adminCode1': '63',\n",
        "  'url': 'http://api.geonames.org/search?username=jaguillette&fuzzy=1&type=json&name=%D0%91%D0%B5%D0%BB%D0%BE%D0%B5&south=53.616667&east=35.85&north=61.616667&west=43.85&featureClass=P',\n",
        "  'gname_adminName1': 'Sakha',\n",
        "  'gname_lat': '60.5588'},\n",
        " {'south_bound': 53.616667,\n",
        "  'searched_name': '\u0411\u0435\u043b\u043e\u0435',\n",
        "  'gname_countryName': 'Russia',\n",
        "  'gname_countryId': '2017370',\n",
        "  'gname_fcode': 'PPL',\n",
        "  'gname_countryCode': 'RU',\n",
        "  'west_bound': 43.85,\n",
        "  'gname_toponymName': 'Beloye',\n",
        "  'hgr_id': 85,\n",
        "  'gname_fclName': 'city, village,...',\n",
        "  'gname_lng': '63.4647',\n",
        "  'gname_fcl': 'P',\n",
        "  'gname_geonameId': 1510441,\n",
        "  'fuzzy': 1,\n",
        "  'gname_population': 0,\n",
        "  'gname_fcodeName': 'populated place',\n",
        "  'east_bound': 35.85,\n",
        "  'north_bound': 61.616667,\n",
        "  'gname_name': 'Beloye',\n",
        "  'gname_adminCode1': '40',\n",
        "  'url': 'http://api.geonames.org/search?username=jaguillette&fuzzy=1&type=json&name=%D0%91%D0%B5%D0%BB%D0%BE%D0%B5&south=53.616667&east=35.85&north=61.616667&west=43.85&featureClass=P',\n",
        "  'gname_adminName1': 'Kurgan',\n",
        "  'gname_lat': '56.4241'},\n",
        " {'south_bound': 53.616667,\n",
        "  'searched_name': '\u0411\u0435\u043b\u043e\u0435',\n",
        "  'gname_countryName': 'Russia',\n",
        "  'gname_countryId': '2017370',\n",
        "  'gname_fcode': 'PPL',\n",
        "  'gname_countryCode': 'RU',\n",
        "  'west_bound': 43.85,\n",
        "  'gname_toponymName': 'Beloye',\n",
        "  'hgr_id': 85,\n",
        "  'gname_fclName': 'city, village,...',\n",
        "  'gname_lng': '64.97417',\n",
        "  'gname_fcl': 'P',\n",
        "  'gname_geonameId': 1510442,\n",
        "  'fuzzy': 1,\n",
        "  'gname_population': 0,\n",
        "  'gname_fcodeName': 'populated place',\n",
        "  'east_bound': 35.85,\n",
        "  'north_bound': 61.616667,\n",
        "  'gname_name': 'Beloye',\n",
        "  'gname_adminCode1': '40',\n",
        "  'url': 'http://api.geonames.org/search?username=jaguillette&fuzzy=1&type=json&name=%D0%91%D0%B5%D0%BB%D0%BE%D0%B5&south=53.616667&east=35.85&north=61.616667&west=43.85&featureClass=P',\n",
        "  'gname_adminName1': 'Kurgan',\n",
        "  'gname_lat': '54.72611'},\n",
        " {'south_bound': 53.616667,\n",
        "  'searched_name': '\u0411\u0435\u043b\u043e\u0435',\n",
        "  'gname_countryName': 'Russia',\n",
        "  'gname_countryId': '2017370',\n",
        "  'gname_fcode': 'PPL',\n",
        "  'gname_countryCode': 'RU',\n",
        "  'west_bound': 43.85,\n",
        "  'gname_toponymName': 'Beloye',\n",
        "  'hgr_id': 85,\n",
        "  'gname_fclName': 'city, village,...',\n",
        "  'gname_lng': '78.46689',\n",
        "  'gname_fcl': 'P',\n",
        "  'gname_geonameId': 1510443,\n",
        "  'fuzzy': 1,\n",
        "  'gname_population': 0,\n",
        "  'gname_fcodeName': 'populated place',\n",
        "  'east_bound': 35.85,\n",
        "  'north_bound': 61.616667,\n",
        "  'gname_name': 'Beloye',\n",
        "  'gname_adminCode1': '53',\n",
        "  'url': 'http://api.geonames.org/search?username=jaguillette&fuzzy=1&type=json&name=%D0%91%D0%B5%D0%BB%D0%BE%D0%B5&south=53.616667&east=35.85&north=61.616667&west=43.85&featureClass=P',\n",
        "  'gname_adminName1': 'Novosibirsk',\n",
        "  'gname_lat': '53.94066'},\n",
        " {'south_bound': 53.616667,\n",
        "  'searched_name': '\u0411\u0435\u043b\u043e\u0435',\n",
        "  'gname_countryName': 'Russia',\n",
        "  'gname_countryId': '2017370',\n",
        "  'gname_fcode': 'PPL',\n",
        "  'gname_countryCode': 'RU',\n",
        "  'west_bound': 43.85,\n",
        "  'gname_toponymName': 'Beloye',\n",
        "  'hgr_id': 85,\n",
        "  'gname_fclName': 'city, village,...',\n",
        "  'gname_lng': '30.46145',\n",
        "  'gname_fcl': 'P',\n",
        "  'gname_geonameId': 577805,\n",
        "  'fuzzy': 1,\n",
        "  'gname_population': 0,\n",
        "  'gname_fcodeName': 'populated place',\n",
        "  'east_bound': 35.85,\n",
        "  'north_bound': 61.616667,\n",
        "  'gname_name': 'Beloye',\n",
        "  'gname_adminCode1': '42',\n",
        "  'url': 'http://api.geonames.org/search?username=jaguillette&fuzzy=1&type=json&name=%D0%91%D0%B5%D0%BB%D0%BE%D0%B5&south=53.616667&east=35.85&north=61.616667&west=43.85&featureClass=P',\n",
        "  'gname_adminName1': 'Leningrad',\n",
        "  'gname_lat': '58.80577'},\n",
        " {'south_bound': 53.616667,\n",
        "  'searched_name': '\u0411\u0435\u043b\u043e\u0435',\n",
        "  'gname_countryName': 'Kazakhstan',\n",
        "  'gname_countryId': '1522867',\n",
        "  'gname_fcode': 'PPL',\n",
        "  'gname_countryCode': 'KZ',\n",
        "  'west_bound': 43.85,\n",
        "  'gname_toponymName': 'Beloye',\n",
        "  'hgr_id': 85,\n",
        "  'gname_fclName': 'city, village,...',\n",
        "  'gname_lng': '68.47609',\n",
        "  'gname_fcl': 'P',\n",
        "  'gname_geonameId': 1525476,\n",
        "  'fuzzy': 1,\n",
        "  'gname_population': 0,\n",
        "  'gname_fcodeName': 'populated place',\n",
        "  'east_bound': 35.85,\n",
        "  'north_bound': 61.616667,\n",
        "  'gname_name': 'Beloe',\n",
        "  'gname_adminCode1': '16',\n",
        "  'url': 'http://api.geonames.org/search?username=jaguillette&fuzzy=1&type=json&name=%D0%91%D0%B5%D0%BB%D0%BE%D0%B5&south=53.616667&east=35.85&north=61.616667&west=43.85&featureClass=P',\n",
        "  'gname_adminName1': 'Solt\u00fcstik Qazaqstan',\n",
        "  'gname_lat': '55.06103'},\n",
        " {'south_bound': 53.616667,\n",
        "  'searched_name': '\u0411\u0435\u043b\u043e\u0435',\n",
        "  'gname_countryName': 'Russia',\n",
        "  'gname_countryId': '2017370',\n",
        "  'gname_fcode': 'PPL',\n",
        "  'gname_countryCode': 'RU',\n",
        "  'west_bound': 43.85,\n",
        "  'gname_toponymName': 'Beloye',\n",
        "  'hgr_id': 85,\n",
        "  'gname_fclName': 'city, village,...',\n",
        "  'gname_lng': '29.4466',\n",
        "  'gname_fcl': 'P',\n",
        "  'gname_geonameId': 7599010,\n",
        "  'fuzzy': 1,\n",
        "  'gname_population': 0,\n",
        "  'gname_fcodeName': 'populated place',\n",
        "  'east_bound': 35.85,\n",
        "  'north_bound': 61.616667,\n",
        "  'gname_name': 'Beloye',\n",
        "  'gname_adminCode1': '60',\n",
        "  'url': 'http://api.geonames.org/search?username=jaguillette&fuzzy=1&type=json&name=%D0%91%D0%B5%D0%BB%D0%BE%D0%B5&south=53.616667&east=35.85&north=61.616667&west=43.85&featureClass=P',\n",
        "  'gname_adminName1': 'Pskov',\n",
        "  'gname_lat': '56.2544'},\n",
        " {'south_bound': 53.616667,\n",
        "  'searched_name': '\u0411\u0435\u043b\u043e\u0435',\n",
        "  'gname_countryName': 'Russia',\n",
        "  'gname_countryId': '2017370',\n",
        "  'gname_fcode': 'PPL',\n",
        "  'gname_countryCode': 'RU',\n",
        "  'west_bound': 43.85,\n",
        "  'gname_toponymName': 'Beloye',\n",
        "  'hgr_id': 85,\n",
        "  'gname_fclName': 'city, village,...',\n",
        "  'gname_lng': '29.8225',\n",
        "  'gname_fcl': 'P',\n",
        "  'gname_geonameId': 7599051,\n",
        "  'fuzzy': 1,\n",
        "  'gname_population': 0,\n",
        "  'gname_fcodeName': 'populated place',\n",
        "  'east_bound': 35.85,\n",
        "  'north_bound': 61.616667,\n",
        "  'gname_name': 'Beloye',\n",
        "  'gname_adminCode1': '60',\n",
        "  'url': 'http://api.geonames.org/search?username=jaguillette&fuzzy=1&type=json&name=%D0%91%D0%B5%D0%BB%D0%BE%D0%B5&south=53.616667&east=35.85&north=61.616667&west=43.85&featureClass=P',\n",
        "  'gname_adminName1': 'Pskov',\n",
        "  'gname_lat': '56.2235'},\n",
        " {'south_bound': 53.616667,\n",
        "  'searched_name': '\u0411\u0435\u043b\u043e\u0435',\n",
        "  'gname_countryName': 'Kazakhstan',\n",
        "  'gname_countryId': '1522867',\n",
        "  'gname_fcode': 'PPL',\n",
        "  'gname_countryCode': 'KZ',\n",
        "  'west_bound': 43.85,\n",
        "  'gname_toponymName': 'Beloye',\n",
        "  'hgr_id': 85,\n",
        "  'gname_fclName': 'city, village,...',\n",
        "  'gname_lng': '69.20525',\n",
        "  'gname_fcl': 'P',\n",
        "  'gname_geonameId': 1525477,\n",
        "  'fuzzy': 1,\n",
        "  'gname_population': 0,\n",
        "  'gname_fcodeName': 'populated place',\n",
        "  'east_bound': 35.85,\n",
        "  'north_bound': 61.616667,\n",
        "  'gname_name': 'Beloye',\n",
        "  'gname_adminCode1': '00',\n",
        "  'url': 'http://api.geonames.org/search?username=jaguillette&fuzzy=1&type=json&name=%D0%91%D0%B5%D0%BB%D0%BE%D0%B5&south=53.616667&east=35.85&north=61.616667&west=43.85&featureClass=P',\n",
        "  'gname_adminName1': '',\n",
        "  'gname_lat': '54.93611'},\n",
        " {'south_bound': 53.616667,\n",
        "  'searched_name': '\u0411\u0435\u043b\u043e\u0435',\n",
        "  'gname_countryName': 'Belarus',\n",
        "  'gname_countryId': '630336',\n",
        "  'gname_fcode': 'PPL',\n",
        "  'gname_countryCode': 'BY',\n",
        "  'west_bound': 43.85,\n",
        "  'gname_toponymName': 'Beloye',\n",
        "  'hgr_id': 85,\n",
        "  'gname_fclName': 'city, village,...',\n",
        "  'gname_lng': '29.8695',\n",
        "  'gname_fcl': 'P',\n",
        "  'gname_geonameId': 630338,\n",
        "  'fuzzy': 1,\n",
        "  'gname_population': 0,\n",
        "  'gname_fcodeName': 'populated place',\n",
        "  'east_bound': 35.85,\n",
        "  'north_bound': 61.616667,\n",
        "  'gname_name': 'Beloye',\n",
        "  'gname_adminCode1': '07',\n",
        "  'url': 'http://api.geonames.org/search?username=jaguillette&fuzzy=1&type=json&name=%D0%91%D0%B5%D0%BB%D0%BE%D0%B5&south=53.616667&east=35.85&north=61.616667&west=43.85&featureClass=P',\n",
        "  'gname_adminName1': 'Vitebsk',\n",
        "  'gname_lat': '55.1647'},\n",
        " {'south_bound': 53.616667,\n",
        "  'searched_name': '\u0411\u0435\u043b\u043e\u0435',\n",
        "  'gname_countryName': 'Russia',\n",
        "  'gname_countryId': '2017370',\n",
        "  'gname_fcode': 'PPL',\n",
        "  'gname_countryCode': 'RU',\n",
        "  'west_bound': 43.85,\n",
        "  'gname_toponymName': 'Beloye',\n",
        "  'hgr_id': 85,\n",
        "  'gname_fclName': 'city, village,...',\n",
        "  'gname_lng': '32.99217',\n",
        "  'gname_fcl': 'P',\n",
        "  'gname_geonameId': 577802,\n",
        "  'fuzzy': 1,\n",
        "  'gname_population': 0,\n",
        "  'gname_fcodeName': 'populated place',\n",
        "  'east_bound': 35.85,\n",
        "  'north_bound': 61.616667,\n",
        "  'gname_name': 'Beloye',\n",
        "  'gname_adminCode1': '42',\n",
        "  'url': 'http://api.geonames.org/search?username=jaguillette&fuzzy=1&type=json&name=%D0%91%D0%B5%D0%BB%D0%BE%D0%B5&south=53.616667&east=35.85&north=61.616667&west=43.85&featureClass=P',\n",
        "  'gname_adminName1': 'Leningrad',\n",
        "  'gname_lat': '59.85118'},\n",
        " {'south_bound': 53.616667,\n",
        "  'searched_name': '\u0411\u0435\u043b\u043e\u0435',\n",
        "  'gname_countryName': 'Russia',\n",
        "  'gname_countryId': '2017370',\n",
        "  'gname_fcode': 'PPL',\n",
        "  'gname_countryCode': 'RU',\n",
        "  'west_bound': 43.85,\n",
        "  'gname_toponymName': 'Maloye Beloye',\n",
        "  'hgr_id': 85,\n",
        "  'gname_fclName': 'city, village,...',\n",
        "  'gname_lng': '64.42083',\n",
        "  'gname_fcl': 'P',\n",
        "  'gname_geonameId': 1499762,\n",
        "  'fuzzy': 1,\n",
        "  'gname_population': 0,\n",
        "  'gname_fcodeName': 'populated place',\n",
        "  'east_bound': 35.85,\n",
        "  'north_bound': 61.616667,\n",
        "  'gname_name': 'Maloye Beloye',\n",
        "  'gname_adminCode1': '40',\n",
        "  'url': 'http://api.geonames.org/search?username=jaguillette&fuzzy=1&type=json&name=%D0%91%D0%B5%D0%BB%D0%BE%D0%B5&south=53.616667&east=35.85&north=61.616667&west=43.85&featureClass=P',\n",
        "  'gname_adminName1': 'Kurgan',\n",
        "  'gname_lat': '55.42556'},\n",
        " {'south_bound': 53.616667,\n",
        "  'searched_name': '\u0411\u0435\u043b\u043e\u0435',\n",
        "  'gname_countryName': 'Belarus',\n",
        "  'gname_countryId': '630336',\n",
        "  'gname_fcode': 'PPL',\n",
        "  'gname_countryCode': 'BY',\n",
        "  'west_bound': 43.85,\n",
        "  'gname_toponymName': 'Beloye',\n",
        "  'hgr_id': 85,\n",
        "  'gname_fclName': 'city, village,...',\n",
        "  'gname_lng': '29.5653',\n",
        "  'gname_fcl': 'P',\n",
        "  'gname_geonameId': 630319,\n",
        "  'fuzzy': 1,\n",
        "  'gname_population': 0,\n",
        "  'gname_fcodeName': 'populated place',\n",
        "  'east_bound': 35.85,\n",
        "  'north_bound': 61.616667,\n",
        "  'gname_name': 'Beloye',\n",
        "  'gname_adminCode1': '07',\n",
        "  'url': 'http://api.geonames.org/search?username=jaguillette&fuzzy=1&type=json&name=%D0%91%D0%B5%D0%BB%D0%BE%D0%B5&south=53.616667&east=35.85&north=61.616667&west=43.85&featureClass=P',\n",
        "  'gname_adminName1': 'Vitebsk',\n",
        "  'gname_lat': '55.7015'},\n",
        " {'south_bound': 53.616667,\n",
        "  'searched_name': '\u0411\u0435\u043b\u043e\u0435',\n",
        "  'gname_countryName': 'Russia',\n",
        "  'gname_countryId': '2017370',\n",
        "  'gname_fcode': 'PPL',\n",
        "  'gname_countryCode': 'RU',\n",
        "  'west_bound': 43.85,\n",
        "  'gname_toponymName': 'Beloye',\n",
        "  'hgr_id': 85,\n",
        "  'gname_fclName': 'city, village,...',\n",
        "  'gname_lng': '33.2727',\n",
        "  'gname_fcl': 'P',\n",
        "  'gname_geonameId': 578228,\n",
        "  'fuzzy': 1,\n",
        "  'gname_population': 0,\n",
        "  'gname_fcodeName': 'populated place',\n",
        "  'east_bound': 35.85,\n",
        "  'north_bound': 61.616667,\n",
        "  'gname_name': 'Beloye',\n",
        "  'gname_adminCode1': '69',\n",
        "  'url': 'http://api.geonames.org/search?username=jaguillette&fuzzy=1&type=json&name=%D0%91%D0%B5%D0%BB%D0%BE%D0%B5&south=53.616667&east=35.85&north=61.616667&west=43.85&featureClass=P',\n",
        "  'gname_adminName1': 'Smolensk',\n",
        "  'gname_lat': '53.9025'},\n",
        " {'south_bound': 53.616667,\n",
        "  'searched_name': '\u0411\u0435\u043b\u043e\u0435',\n",
        "  'gname_countryName': 'Belarus',\n",
        "  'gname_countryId': '630336',\n",
        "  'gname_fcode': 'PPL',\n",
        "  'gname_countryCode': 'BY',\n",
        "  'west_bound': 43.85,\n",
        "  'gname_toponymName': 'Beloye',\n",
        "  'hgr_id': 85,\n",
        "  'gname_fclName': 'city, village,...',\n",
        "  'gname_lng': '28.8619',\n",
        "  'gname_fcl': 'P',\n",
        "  'gname_geonameId': 630269,\n",
        "  'fuzzy': 1,\n",
        "  'gname_population': 0,\n",
        "  'gname_fcodeName': 'populated place',\n",
        "  'east_bound': 35.85,\n",
        "  'north_bound': 61.616667,\n",
        "  'gname_name': 'Beloye',\n",
        "  'gname_adminCode1': '07',\n",
        "  'url': 'http://api.geonames.org/search?username=jaguillette&fuzzy=1&type=json&name=%D0%91%D0%B5%D0%BB%D0%BE%D0%B5&south=53.616667&east=35.85&north=61.616667&west=43.85&featureClass=P',\n",
        "  'gname_adminName1': 'Vitebsk',\n",
        "  'gname_lat': '55.1089'},\n",
        " {'south_bound': 53.616667,\n",
        "  'searched_name': '\u0411\u0435\u043b\u043e\u0435',\n",
        "  'gname_countryName': 'Russia',\n",
        "  'gname_countryId': '2017370',\n",
        "  'gname_fcode': 'PPL',\n",
        "  'gname_countryCode': 'RU',\n",
        "  'west_bound': 43.85,\n",
        "  'gname_toponymName': 'Beloye',\n",
        "  'hgr_id': 85,\n",
        "  'gname_fclName': 'city, village,...',\n",
        "  'gname_lng': '32.47422',\n",
        "  'gname_fcl': 'P',\n",
        "  'gname_geonameId': 7092519,\n",
        "  'fuzzy': 1,\n",
        "  'gname_population': 0,\n",
        "  'gname_fcodeName': 'populated place',\n",
        "  'east_bound': 35.85,\n",
        "  'north_bound': 61.616667,\n",
        "  'gname_name': 'Beloye',\n",
        "  'gname_adminCode1': '69',\n",
        "  'url': 'http://api.geonames.org/search?username=jaguillette&fuzzy=1&type=json&name=%D0%91%D0%B5%D0%BB%D0%BE%D0%B5&south=53.616667&east=35.85&north=61.616667&west=43.85&featureClass=P',\n",
        "  'gname_adminName1': 'Smolensk',\n",
        "  'gname_lat': '54.4362'},\n",
        " {'south_bound': 53.616667,\n",
        "  'searched_name': '\u0411\u0435\u043b\u043e\u0435',\n",
        "  'gname_countryName': 'Belarus',\n",
        "  'gname_countryId': '630336',\n",
        "  'gname_fcode': 'PPL',\n",
        "  'gname_countryCode': 'BY',\n",
        "  'west_bound': 43.85,\n",
        "  'gname_toponymName': 'Beloye',\n",
        "  'hgr_id': 85,\n",
        "  'gname_fclName': 'city, village,...',\n",
        "  'gname_lng': '27.2575',\n",
        "  'gname_fcl': 'P',\n",
        "  'gname_geonameId': 8221693,\n",
        "  'fuzzy': 1,\n",
        "  'gname_population': 0,\n",
        "  'gname_fcodeName': 'populated place',\n",
        "  'east_bound': 35.85,\n",
        "  'north_bound': 61.616667,\n",
        "  'gname_name': 'Beloye',\n",
        "  'gname_adminCode1': '07',\n",
        "  'url': 'http://api.geonames.org/search?username=jaguillette&fuzzy=1&type=json&name=%D0%91%D0%B5%D0%BB%D0%BE%D0%B5&south=53.616667&east=35.85&north=61.616667&west=43.85&featureClass=P',\n",
        "  'gname_adminName1': 'Vitebsk',\n",
        "  'gname_lat': '55.1519'},\n",
        " {'south_bound': 53.616667,\n",
        "  'searched_name': '\u0411\u0435\u043b\u043e\u0435',\n",
        "  'gname_countryName': 'Belarus',\n",
        "  'gname_countryId': '630336',\n",
        "  'gname_fcode': 'PPL',\n",
        "  'gname_countryCode': 'BY',\n",
        "  'west_bound': 43.85,\n",
        "  'gname_toponymName': 'Beloye',\n",
        "  'hgr_id': 85,\n",
        "  'gname_fclName': 'city, village,...',\n",
        "  'gname_lng': '27.5874',\n",
        "  'gname_fcl': 'P',\n",
        "  'gname_geonameId': 8247071,\n",
        "  'fuzzy': 1,\n",
        "  'gname_population': 0,\n",
        "  'gname_fcodeName': 'populated place',\n",
        "  'east_bound': 35.85,\n",
        "  'north_bound': 61.616667,\n",
        "  'gname_name': 'Beloye',\n",
        "  'gname_adminCode1': '05',\n",
        "  'url': 'http://api.geonames.org/search?username=jaguillette&fuzzy=1&type=json&name=%D0%91%D0%B5%D0%BB%D0%BE%D0%B5&south=53.616667&east=35.85&north=61.616667&west=43.85&featureClass=P',\n",
        "  'gname_adminName1': 'Minsk',\n",
        "  'gname_lat': '54.4629'},\n",
        " {'south_bound': 53.616667,\n",
        "  'searched_name': '\u0411\u0435\u043b\u043e\u0435',\n",
        "  'gname_countryName': 'Belarus',\n",
        "  'gname_countryId': '630336',\n",
        "  'gname_fcode': 'PPL',\n",
        "  'gname_countryCode': 'BY',\n",
        "  'west_bound': 43.85,\n",
        "  'gname_toponymName': 'Beloye',\n",
        "  'hgr_id': 85,\n",
        "  'gname_fclName': 'city, village,...',\n",
        "  'gname_lng': '28.8052',\n",
        "  'gname_fcl': 'P',\n",
        "  'gname_geonameId': 8248039,\n",
        "  'fuzzy': 1,\n",
        "  'gname_population': 0,\n",
        "  'gname_fcodeName': 'populated place',\n",
        "  'east_bound': 35.85,\n",
        "  'north_bound': 61.616667,\n",
        "  'gname_name': 'Beloye',\n",
        "  'gname_adminCode1': '05',\n",
        "  'url': 'http://api.geonames.org/search?username=jaguillette&fuzzy=1&type=json&name=%D0%91%D0%B5%D0%BB%D0%BE%D0%B5&south=53.616667&east=35.85&north=61.616667&west=43.85&featureClass=P',\n",
        "  'gname_adminName1': 'Minsk',\n",
        "  'gname_lat': '54.3976'},\n",
        " {'south_bound': 53.616667,\n",
        "  'searched_name': '\u0411\u0435\u043b\u043e\u0435',\n",
        "  'gname_countryName': 'Belarus',\n",
        "  'gname_countryId': '630336',\n",
        "  'gname_fcode': 'PPL',\n",
        "  'gname_countryCode': 'BY',\n",
        "  'west_bound': 43.85,\n",
        "  'gname_toponymName': 'Beloye',\n",
        "  'hgr_id': 85,\n",
        "  'gname_fclName': 'city, village,...',\n",
        "  'gname_lng': '28.8153',\n",
        "  'gname_fcl': 'P',\n",
        "  'gname_geonameId': 8248040,\n",
        "  'fuzzy': 1,\n",
        "  'gname_population': 0,\n",
        "  'gname_fcodeName': 'populated place',\n",
        "  'east_bound': 35.85,\n",
        "  'north_bound': 61.616667,\n",
        "  'gname_name': 'Beloye',\n",
        "  'gname_adminCode1': '05',\n",
        "  'url': 'http://api.geonames.org/search?username=jaguillette&fuzzy=1&type=json&name=%D0%91%D0%B5%D0%BB%D0%BE%D0%B5&south=53.616667&east=35.85&north=61.616667&west=43.85&featureClass=P',\n",
        "  'gname_adminName1': 'Minsk',\n",
        "  'gname_lat': '54.4084'},\n",
        " {'south_bound': 53.616667,\n",
        "  'searched_name': '\u0411\u0435\u043b\u043e\u0435',\n",
        "  'gname_countryName': 'Belarus',\n",
        "  'gname_countryId': '630336',\n",
        "  'gname_fcode': 'PPL',\n",
        "  'gname_countryCode': 'BY',\n",
        "  'west_bound': 43.85,\n",
        "  'gname_toponymName': 'Beloye',\n",
        "  'hgr_id': 85,\n",
        "  'gname_fclName': 'city, village,...',\n",
        "  'gname_lng': '24.1816',\n",
        "  'gname_fcl': 'P',\n",
        "  'gname_geonameId': 8309911,\n",
        "  'fuzzy': 1,\n",
        "  'gname_population': 0,\n",
        "  'gname_fcodeName': 'populated place',\n",
        "  'east_bound': 35.85,\n",
        "  'north_bound': 61.616667,\n",
        "  'gname_name': 'Beloye',\n",
        "  'gname_adminCode1': '03',\n",
        "  'url': 'http://api.geonames.org/search?username=jaguillette&fuzzy=1&type=json&name=%D0%91%D0%B5%D0%BB%D0%BE%D0%B5&south=53.616667&east=35.85&north=61.616667&west=43.85&featureClass=P',\n",
        "  'gname_adminName1': 'Grodnenskaya',\n",
        "  'gname_lat': '53.7943'},\n",
        " {'south_bound': 53.616667,\n",
        "  'searched_name': '\u0411\u0435\u043b\u043e\u0435',\n",
        "  'gname_countryName': 'Russia',\n",
        "  'gname_countryId': '2017370',\n",
        "  'gname_fcode': 'PPL',\n",
        "  'gname_countryCode': 'RU',\n",
        "  'west_bound': 43.85,\n",
        "  'gname_toponymName': 'Beloye Ozero',\n",
        "  'hgr_id': 85,\n",
        "  'gname_fclName': 'city, village,...',\n",
        "  'gname_lng': '56.23401',\n",
        "  'gname_fcl': 'P',\n",
        "  'gname_geonameId': 865513,\n",
        "  'fuzzy': 1,\n",
        "  'gname_population': 0,\n",
        "  'gname_fcodeName': 'populated place',\n",
        "  'east_bound': 35.85,\n",
        "  'north_bound': 61.616667,\n",
        "  'gname_name': 'Beloye Ozero',\n",
        "  'gname_adminCode1': '08',\n",
        "  'url': 'http://api.geonames.org/search?username=jaguillette&fuzzy=1&type=json&name=%D0%91%D0%B5%D0%BB%D0%BE%D0%B5&south=53.616667&east=35.85&north=61.616667&west=43.85&featureClass=P',\n",
        "  'gname_adminName1': 'Bashkortostan',\n",
        "  'gname_lat': '53.99178'},\n",
        " {'south_bound': 53.616667,\n",
        "  'searched_name': '\u0411\u0435\u043b\u043e\u0435',\n",
        "  'gname_countryName': 'Russia',\n",
        "  'gname_countryId': '2017370',\n",
        "  'gname_fcode': 'PPL',\n",
        "  'gname_countryCode': 'RU',\n",
        "  'west_bound': 43.85,\n",
        "  'gname_toponymName': 'Beloye Ozero',\n",
        "  'hgr_id': 85,\n",
        "  'gname_fclName': 'city, village,...',\n",
        "  'gname_lng': '60.3752',\n",
        "  'gname_fcl': 'P',\n",
        "  'gname_geonameId': 1545398,\n",
        "  'fuzzy': 1,\n",
        "  'gname_population': 0,\n",
        "  'gname_fcodeName': 'populated place',\n",
        "  'east_bound': 35.85,\n",
        "  'north_bound': 61.616667,\n",
        "  'gname_name': 'Beloye Ozero',\n",
        "  'gname_adminCode1': '13',\n",
        "  'url': 'http://api.geonames.org/search?username=jaguillette&fuzzy=1&type=json&name=%D0%91%D0%B5%D0%BB%D0%BE%D0%B5&south=53.616667&east=35.85&north=61.616667&west=43.85&featureClass=P',\n",
        "  'gname_adminName1': 'Chelyabinsk',\n",
        "  'gname_lat': '55.6219'},\n",
        " {'south_bound': 53.616667,\n",
        "  'searched_name': '\u0411\u0435\u043b\u043e\u0435',\n",
        "  'gname_countryName': 'Russia',\n",
        "  'gname_countryId': '2017370',\n",
        "  'gname_fcode': 'PPL',\n",
        "  'gname_countryCode': 'RU',\n",
        "  'west_bound': 43.85,\n",
        "  'gname_toponymName': 'Beloye Ozero',\n",
        "  'hgr_id': 85,\n",
        "  'gname_fclName': 'city, village,...',\n",
        "  'gname_lng': '62.7297',\n",
        "  'gname_fcl': 'P',\n",
        "  'gname_geonameId': 1541013,\n",
        "  'fuzzy': 1,\n",
        "  'gname_population': 0,\n",
        "  'gname_fcodeName': 'populated place',\n",
        "  'east_bound': 35.85,\n",
        "  'north_bound': 61.616667,\n",
        "  'gname_name': 'Beloye Ozero',\n",
        "  'gname_adminCode1': '40',\n",
        "  'url': 'http://api.geonames.org/search?username=jaguillette&fuzzy=1&type=json&name=%D0%91%D0%B5%D0%BB%D0%BE%D0%B5&south=53.616667&east=35.85&north=61.616667&west=43.85&featureClass=P',\n",
        "  'gname_adminName1': 'Kurgan',\n",
        "  'gname_lat': '55.0581'},\n",
        " {'south_bound': 53.616667,\n",
        "  'searched_name': '\u0411\u0435\u043b\u043e\u0435',\n",
        "  'gname_countryName': 'Russia',\n",
        "  'gname_countryId': '2017370',\n",
        "  'gname_fcode': 'PPL',\n",
        "  'gname_countryCode': 'RU',\n",
        "  'west_bound': 43.85,\n",
        "  'gname_toponymName': 'Beloye Ozero',\n",
        "  'hgr_id': 85,\n",
        "  'gname_fclName': 'city, village,...',\n",
        "  'gname_lng': '84.13333',\n",
        "  'gname_fcl': 'P',\n",
        "  'gname_geonameId': 1510426,\n",
        "  'fuzzy': 1,\n",
        "  'gname_population': 0,\n",
        "  'gname_fcodeName': 'populated place',\n",
        "  'east_bound': 35.85,\n",
        "  'north_bound': 61.616667,\n",
        "  'gname_name': 'Beloye Ozero',\n",
        "  'gname_adminCode1': '53',\n",
        "  'url': 'http://api.geonames.org/search?username=jaguillette&fuzzy=1&type=json&name=%D0%91%D0%B5%D0%BB%D0%BE%D0%B5&south=53.616667&east=35.85&north=61.616667&west=43.85&featureClass=P',\n",
        "  'gname_adminName1': 'Novosibirsk',\n",
        "  'gname_lat': '55.88333'},\n",
        " {'south_bound': 53.616667,\n",
        "  'searched_name': '\u0411\u0435\u043b\u043e\u0435',\n",
        "  'gname_countryName': 'Russia',\n",
        "  'gname_countryId': '2017370',\n",
        "  'gname_fcode': 'PPL',\n",
        "  'gname_countryCode': 'RU',\n",
        "  'west_bound': 43.85,\n",
        "  'gname_toponymName': 'Beloye Ozero',\n",
        "  'hgr_id': 85,\n",
        "  'gname_fclName': 'city, village,...',\n",
        "  'gname_lng': '62.7',\n",
        "  'gname_fcl': 'P',\n",
        "  'gname_geonameId': 1510427,\n",
        "  'fuzzy': 1,\n",
        "  'gname_population': 0,\n",
        "  'gname_fcodeName': 'populated place',\n",
        "  'east_bound': 35.85,\n",
        "  'north_bound': 61.616667,\n",
        "  'gname_name': 'Beloye Ozero',\n",
        "  'gname_adminCode1': '40',\n",
        "  'url': 'http://api.geonames.org/search?username=jaguillette&fuzzy=1&type=json&name=%D0%91%D0%B5%D0%BB%D0%BE%D0%B5&south=53.616667&east=35.85&north=61.616667&west=43.85&featureClass=P',\n",
        "  'gname_adminName1': 'Kurgan',\n",
        "  'gname_lat': '54.96667'},\n",
        " {'south_bound': 53.616667,\n",
        "  'searched_name': '\u0411\u0435\u043b\u043e\u0435',\n",
        "  'gname_countryName': 'Russia',\n",
        "  'gname_countryId': '2017370',\n",
        "  'gname_fcode': 'PPL',\n",
        "  'gname_countryCode': 'RU',\n",
        "  'west_bound': 43.85,\n",
        "  'gname_toponymName': 'Beloye Ozero',\n",
        "  'hgr_id': 85,\n",
        "  'gname_fclName': 'city, village,...',\n",
        "  'gname_lng': '56.93088',\n",
        "  'gname_fcl': 'P',\n",
        "  'gname_geonameId': 874994,\n",
        "  'fuzzy': 1,\n",
        "  'gname_population': 0,\n",
        "  'gname_fcodeName': 'populated place',\n",
        "  'east_bound': 35.85,\n",
        "  'north_bound': 61.616667,\n",
        "  'gname_name': 'Beloye Ozero',\n",
        "  'gname_adminCode1': '90',\n",
        "  'url': 'http://api.geonames.org/search?username=jaguillette&fuzzy=1&type=json&name=%D0%91%D0%B5%D0%BB%D0%BE%D0%B5&south=53.616667&east=35.85&north=61.616667&west=43.85&featureClass=P',\n",
        "  'gname_adminName1': 'Perm',\n",
        "  'gname_lat': '57.1086'},\n",
        " {'south_bound': 53.616667,\n",
        "  'searched_name': '\u0411\u0435\u043b\u043e\u0435',\n",
        "  'gname_countryName': 'Russia',\n",
        "  'gname_countryId': '2017370',\n",
        "  'gname_fcode': 'PPL',\n",
        "  'gname_countryCode': 'RU',\n",
        "  'west_bound': 43.85,\n",
        "  'gname_toponymName': 'Beloye Pole',\n",
        "  'hgr_id': 85,\n",
        "  'gname_fclName': 'city, village,...',\n",
        "  'gname_lng': '33.84389',\n",
        "  'gname_fcl': 'P',\n",
        "  'gname_geonameId': 577731,\n",
        "  'fuzzy': 1,\n",
        "  'gname_population': 0,\n",
        "  'gname_fcodeName': 'populated place',\n",
        "  'east_bound': 35.85,\n",
        "  'north_bound': 61.616667,\n",
        "  'gname_name': 'Beloye Pole',\n",
        "  'gname_adminCode1': '25',\n",
        "  'url': 'http://api.geonames.org/search?username=jaguillette&fuzzy=1&type=json&name=%D0%91%D0%B5%D0%BB%D0%BE%D0%B5&south=53.616667&east=35.85&north=61.616667&west=43.85&featureClass=P',\n",
        "  'gname_adminName1': 'Kaluga',\n",
        "  'gname_lat': '53.99194'},\n",
        " {'south_bound': 53.616667,\n",
        "  'searched_name': '\u0411\u0435\u043b\u043e\u0435',\n",
        "  'gname_countryName': 'Russia',\n",
        "  'gname_countryId': '2017370',\n",
        "  'gname_fcode': 'PPL',\n",
        "  'gname_countryCode': 'RU',\n",
        "  'west_bound': 43.85,\n",
        "  'gname_toponymName': 'Beloye Ozero',\n",
        "  'hgr_id': 85,\n",
        "  'gname_fclName': 'city, village,...',\n",
        "  'gname_lng': '47.73799',\n",
        "  'gname_fcl': 'P',\n",
        "  'gname_geonameId': 577735,\n",
        "  'fuzzy': 1,\n",
        "  'gname_population': 0,\n",
        "  'gname_fcodeName': 'populated place',\n",
        "  'east_bound': 35.85,\n",
        "  'north_bound': 61.616667,\n",
        "  'gname_name': 'Beloye Ozero',\n",
        "  'gname_adminCode1': '16',\n",
        "  'url': 'http://api.geonames.org/search?username=jaguillette&fuzzy=1&type=json&name=%D0%91%D0%B5%D0%BB%D0%BE%D0%B5&south=53.616667&east=35.85&north=61.616667&west=43.85&featureClass=P',\n",
        "  'gname_adminName1': 'Chuvashia',\n",
        "  'gname_lat': '55.17455'},\n",
        " {'south_bound': 53.616667,\n",
        "  'searched_name': '\u0411\u0435\u043b\u043e\u0435',\n",
        "  'gname_countryName': 'Russia',\n",
        "  'gname_countryId': '2017370',\n",
        "  'gname_fcode': 'PPL',\n",
        "  'gname_countryCode': 'RU',\n",
        "  'west_bound': 43.85,\n",
        "  'gname_toponymName': 'Beloye Ozero',\n",
        "  'hgr_id': 85,\n",
        "  'gname_fclName': 'city, village,...',\n",
        "  'gname_lng': '47.57715',\n",
        "  'gname_fcl': 'P',\n",
        "  'gname_geonameId': 577736,\n",
        "  'fuzzy': 1,\n",
        "  'gname_population': 0,\n",
        "  'gname_fcodeName': 'populated place',\n",
        "  'east_bound': 35.85,\n",
        "  'north_bound': 61.616667,\n",
        "  'gname_name': 'Beloye Ozero',\n",
        "  'gname_adminCode1': '81',\n",
        "  'url': 'http://api.geonames.org/search?username=jaguillette&fuzzy=1&type=json&name=%D0%91%D0%B5%D0%BB%D0%BE%D0%B5&south=53.616667&east=35.85&north=61.616667&west=43.85&featureClass=P',\n",
        "  'gname_adminName1': 'Ulyanovsk',\n",
        "  'gname_lat': '53.85773'},\n",
        " {'south_bound': 53.616667,\n",
        "  'searched_name': '\u0411\u0435\u043b\u043e\u0435',\n",
        "  'gname_countryName': 'Belarus',\n",
        "  'gname_countryId': '630336',\n",
        "  'gname_fcode': 'PPL',\n",
        "  'gname_countryCode': 'BY',\n",
        "  'west_bound': 43.85,\n",
        "  'gname_toponymName': 'Sel\u2019tso-Beloye',\n",
        "  'hgr_id': 85,\n",
        "  'gname_fclName': 'city, village,...',\n",
        "  'gname_lng': '28.6331',\n",
        "  'gname_fcl': 'P',\n",
        "  'gname_geonameId': 622308,\n",
        "  'fuzzy': 1,\n",
        "  'gname_population': 0,\n",
        "  'gname_fcodeName': 'populated place',\n",
        "  'east_bound': 35.85,\n",
        "  'north_bound': 61.616667,\n",
        "  'gname_name': 'Sel\u2019tso-Beloye',\n",
        "  'gname_adminCode1': '07',\n",
        "  'url': 'http://api.geonames.org/search?username=jaguillette&fuzzy=1&type=json&name=%D0%91%D0%B5%D0%BB%D0%BE%D0%B5&south=53.616667&east=35.85&north=61.616667&west=43.85&featureClass=P',\n",
        "  'gname_adminName1': 'Vitebsk',\n",
        "  'gname_lat': '55.6627'}]"
       ]
      }
     ],
     "prompt_number": 42
    },
    {
     "cell_type": "code",
     "collapsed": false,
     "input": [
      "problem_prov"
     ],
     "language": "python",
     "metadata": {},
     "outputs": [
      {
       "metadata": {},
       "output_type": "pyout",
       "prompt_number": 10,
       "text": [
        "[]"
       ]
      }
     ],
     "prompt_number": 10
    },
    {
     "cell_type": "code",
     "collapsed": false,
     "input": [
      "geodf = pd.DataFrame(geocoded)"
     ],
     "language": "python",
     "metadata": {},
     "outputs": [],
     "prompt_number": 11
    },
    {
     "cell_type": "code",
     "collapsed": false,
     "input": [
      "geodf = geodf[[\"hgr_id\",\"searched_name\",\"fuzzy\",\"gname_name\",\"gname_adminCode1\",\"gname_adminName1\",\"gname_countryCode\",\"gname_countryId\",\"gname_countryName\",\"gname_fcl\",\"gname_fclName\",\"gname_fcode\",\"gname_fcodeName\",\"gname_geonameId\",\"gname_lat\",\"gname_lng\",\"gname_population\",\"gname_toponymName\",\"north_bound\",\"south_bound\",\"east_bound\",\"west_bound\",\"url\"]]"
     ],
     "language": "python",
     "metadata": {},
     "outputs": [],
     "prompt_number": 14
    },
    {
     "cell_type": "code",
     "collapsed": false,
     "input": [
      "len(geodf)"
     ],
     "language": "python",
     "metadata": {},
     "outputs": [
      {
       "metadata": {},
       "output_type": "pyout",
       "prompt_number": 15,
       "text": [
        "1972"
       ]
      }
     ],
     "prompt_number": 15
    },
    {
     "cell_type": "code",
     "collapsed": false,
     "input": [
      "geodf.to_excel('output/geocoded_new.xlsx',encoding='utf-8')\n",
      "geodf.to_csv('output/geocoded_new.csv',encoding='utf-8')"
     ],
     "language": "python",
     "metadata": {},
     "outputs": [
      {
       "output_type": "stream",
       "stream": "stderr",
       "text": [
        "c:\\Anaconda3\\lib\\site-packages\\xlsxwriter\\worksheet.py:827: UserWarning: Ignoring URL 'http://api.geonames.org/search?type=json&username=jaguillette&featureClass=P&east=32.5005&name=%D0%A7%D0%B0%D1%81%D0%BE%D0%B2%D0%BD%D1%8F+%D0%90%D0%BF%D0%BE%D1%81%D1%82%D0%BE%D0%BB%D0%B0+%D0%A4%D0%BE%D0%BC%D1%8B&south=55.7163&north=58.1881&west=27.2902&fuzzy=1' > 255 characters since it exceeds Excel's limit for URLS\n",
        "  \"Excel's limit for URLS\" % url)\n",
        "c:\\Anaconda3\\lib\\site-packages\\xlsxwriter\\worksheet.py:827: UserWarning: Ignoring URL 'http://api.geonames.org/search?type=json&username=jaguillette&featureClass=P&east=32.5005&name=%D0%A7%D0%B0%D1%81%D0%BE%D0%B2%D0%BD%D1%8F+%D0%90%D0%BF%D0%BE%D1%81%D1%82%D0%BE%D0%BB%D0%B0+%D0%A4%D0%BE%D0%BC%D1%8B&south=55.7163&north=58.1881&west=27.2902&fuzzy=0.9' > 255 characters since it exceeds Excel's limit for URLS\n",
        "  \"Excel's limit for URLS\" % url)\n",
        "c:\\Anaconda3\\lib\\site-packages\\xlsxwriter\\worksheet.py:827: UserWarning: Ignoring URL 'http://api.geonames.org/search?type=json&username=jaguillette&featureClass=P&east=35.85&name=%D0%A7%D0%B5%D1%80%D0%B8%D0%BE%D0%BE%D1%81%D1%82%D1%80%D0%BE%D0%B6%D1%81%D0%BA%D0%BE%D0%B9+%D0%9D%D0%B8%D0%BA%D0%BE%D0%BB%D0%B0%D0%B5%D0%B2%D1%81%D0%BA%D0%BE%D0%B9&south=53.616667&north=61.616667&west=43.85&fuzzy=1' > 255 characters since it exceeds Excel's limit for URLS\n",
        "  \"Excel's limit for URLS\" % url)\n",
        "c:\\Anaconda3\\lib\\site-packages\\xlsxwriter\\worksheet.py:827: UserWarning: Ignoring URL 'http://api.geonames.org/search?type=json&username=jaguillette&featureClass=P&east=35.85&name=%D0%A7%D0%B5%D1%80%D0%B8%D0%BE%D0%BE%D1%81%D1%82%D1%80%D0%BE%D0%B6%D1%81%D0%BA%D0%B8%D0%B9+%D0%9D%D0%B8%D0%BA%D0%BE%D0%BB%D0%B0%D0%B5%D0%B2%D1%81%D0%BA%D0%B8%D0%B9&south=53.616667&north=61.616667&west=43.85&fuzzy=1' > 255 characters since it exceeds Excel's limit for URLS\n",
        "  \"Excel's limit for URLS\" % url)\n",
        "c:\\Anaconda3\\lib\\site-packages\\xlsxwriter\\worksheet.py:827: UserWarning: Ignoring URL 'http://api.geonames.org/search?type=json&username=jaguillette&featureClass=P&east=35.85&name=%D0%A7%D0%B5%D1%80%D0%B8%D0%BE%D0%BE%D1%81%D1%82%D1%80%D0%BE%D0%B6%D1%81%D0%BA%D0%BE%D0%B9+%D0%9D%D0%B8%D0%BA%D0%BE%D0%BB%D0%B0%D0%B5%D0%B2%D1%81%D0%BA%D0%BE%D0%B9&south=53.616667&north=61.616667&west=43.85&fuzzy=0.9' > 255 characters since it exceeds Excel's limit for URLS\n",
        "  \"Excel's limit for URLS\" % url)\n",
        "c:\\Anaconda3\\lib\\site-packages\\xlsxwriter\\worksheet.py:827: UserWarning: Ignoring URL 'http://api.geonames.org/search?type=json&username=jaguillette&featureClass=P&east=37.433333&name=%D0%A7%D0%B5%D1%80%D0%BD%D0%B5%D0%B5%D0%B2+%D0%9D%D0%B8%D0%BA%D0%BE%D0%BB%D0%B0%D0%B5%D0%B2%D1%81%D0%BA%D0%BE%D0%B9&south=48.716667&north=56.716667&west=45.433333&fuzzy=1' > 255 characters since it exceeds Excel's limit for URLS\n",
        "  \"Excel's limit for URLS\" % url)\n",
        "c:\\Anaconda3\\lib\\site-packages\\xlsxwriter\\worksheet.py:827: UserWarning: Ignoring URL 'http://api.geonames.org/search?type=json&username=jaguillette&featureClass=P&east=37.433333&name=%D0%A7%D0%B5%D1%80%D0%BD%D0%B5%D0%B5%D0%B2+%D0%9D%D0%B8%D0%BA%D0%BE%D0%BB%D0%B0%D0%B5%D0%B2%D1%81%D0%BA%D0%B8%D0%B9&south=48.716667&north=56.716667&west=45.433333&fuzzy=1' > 255 characters since it exceeds Excel's limit for URLS\n",
        "  \"Excel's limit for URLS\" % url)\n",
        "c:\\Anaconda3\\lib\\site-packages\\xlsxwriter\\worksheet.py:827: UserWarning: Ignoring URL 'http://api.geonames.org/search?type=json&username=jaguillette&featureClass=P&east=37.433333&name=%D0%A7%D0%B5%D1%80%D0%BD%D0%B5%D0%B5%D0%B2+%D0%9D%D0%B8%D0%BA%D0%BE%D0%BB%D0%B0%D0%B5%D0%B2%D1%81%D0%BA%D0%BE%D0%B9&south=48.716667&north=56.716667&west=45.433333&fuzzy=0.9' > 255 characters since it exceeds Excel's limit for URLS\n",
        "  \"Excel's limit for URLS\" % url)\n",
        "c:\\Anaconda3\\lib\\site-packages\\xlsxwriter\\worksheet.py:827: UserWarning: Ignoring URL 'http://api.geonames.org/search?type=json&username=jaguillette&featureClass=P&east=46.7277&name=%D0%9A%D0%B0%D0%B7%D0%B0%D0%BD%D1%81%D0%BA%D0%BE%D0%B9+%D0%91%D0%BE%D0%B3%D0%BE%D1%80%D0%BE%D0%B4%D0%B8%D1%86%D0%BA%D0%BE%D0%B9&south=52.3247&north=54.837&west=41.8373&fuzzy=1' > 255 characters since it exceeds Excel's limit for URLS\n",
        "  \"Excel's limit for URLS\" % url)\n",
        "c:\\Anaconda3\\lib\\site-packages\\xlsxwriter\\worksheet.py:827: UserWarning: Ignoring URL 'http://api.geonames.org/search?type=json&username=jaguillette&featureClass=P&east=46.7277&name=%D0%9A%D0%B0%D0%B7%D0%B0%D0%BD%D1%81%D0%BA%D0%B8%D0%B9+%D0%91%D0%BE%D0%B3%D0%BE%D1%80%D0%BE%D0%B4%D0%B8%D1%86%D0%BA%D0%B8%D0%B9&south=52.3247&north=54.837&west=41.8373&fuzzy=1' > 255 characters since it exceeds Excel's limit for URLS\n",
        "  \"Excel's limit for URLS\" % url)\n",
        "c:\\Anaconda3\\lib\\site-packages\\xlsxwriter\\worksheet.py:827: UserWarning: Ignoring URL 'http://api.geonames.org/search?type=json&username=jaguillette&featureClass=P&east=46.7277&name=%D0%9A%D0%B0%D0%B7%D0%B0%D0%BD%D1%81%D0%BA%D0%BE%D0%B9+%D0%91%D0%BE%D0%B3%D0%BE%D1%80%D0%BE%D0%B4%D0%B8%D1%86%D0%BA%D0%BE%D0%B9&south=52.3247&north=54.837&west=41.8373&fuzzy=0.9' > 255 characters since it exceeds Excel's limit for URLS\n",
        "  \"Excel's limit for URLS\" % url)\n",
        "c:\\Anaconda3\\lib\\site-packages\\xlsxwriter\\worksheet.py:827: UserWarning: Ignoring URL 'http://api.geonames.org/search?type=json&username=jaguillette&featureClass=P&east=39.6827&name=%D0%92%D0%B5%D0%BD%D0%B5%D0%B2%D1%81%D0%BA%D0%BE%D0%B9+%D0%9D%D0%B8%D0%BA%D0%BE%D0%BB%D0%B0%D0%B5%D0%B2%D1%81%D0%BA%D0%BE%D0%B9&south=52.8329&north=55.0867&west=35.5421&fuzzy=1' > 255 characters since it exceeds Excel's limit for URLS\n",
        "  \"Excel's limit for URLS\" % url)\n",
        "c:\\Anaconda3\\lib\\site-packages\\xlsxwriter\\worksheet.py:827: UserWarning: Ignoring URL 'http://api.geonames.org/search?type=json&username=jaguillette&featureClass=P&east=39.6827&name=%D0%92%D0%B5%D0%BD%D0%B5%D0%B2%D1%81%D0%BA%D0%B8%D0%B9+%D0%9D%D0%B8%D0%BA%D0%BE%D0%BB%D0%B0%D0%B5%D0%B2%D1%81%D0%BA%D0%B8%D0%B9&south=52.8329&north=55.0867&west=35.5421&fuzzy=1' > 255 characters since it exceeds Excel's limit for URLS\n",
        "  \"Excel's limit for URLS\" % url)\n",
        "c:\\Anaconda3\\lib\\site-packages\\xlsxwriter\\worksheet.py:827: UserWarning: Ignoring URL 'http://api.geonames.org/search?type=json&username=jaguillette&featureClass=P&east=39.6827&name=%D0%92%D0%B5%D0%BD%D0%B5%D0%B2%D1%81%D0%BA%D0%BE%D0%B9+%D0%9D%D0%B8%D0%BA%D0%BE%D0%BB%D0%B0%D0%B5%D0%B2%D1%81%D0%BA%D0%BE%D0%B9&south=52.8329&north=55.0867&west=35.5421&fuzzy=0.9' > 255 characters since it exceeds Excel's limit for URLS\n",
        "  \"Excel's limit for URLS\" % url)\n",
        "c:\\Anaconda3\\lib\\site-packages\\xlsxwriter\\worksheet.py:827: UserWarning: Ignoring URL 'http://api.geonames.org/search?type=json&username=jaguillette&featureClass=P&east=39.89&name=%D0%9D%D0%BE%D0%B2%D0%BE%D0%B5%D0%B7%D0%B5%D1%80%D1%81%D0%BA%D0%BE%D0%B9+%D0%9A%D0%B8%D1%80%D0%B8%D0%BB%D0%BE%D0%B2%D0%BE&south=57.1&north=61.31&west=28.65&fuzzy=1' > 255 characters since it exceeds Excel's limit for URLS\n",
        "  \"Excel's limit for URLS\" % url)\n",
        "c:\\Anaconda3\\lib\\site-packages\\xlsxwriter\\worksheet.py:827: UserWarning: Ignoring URL 'http://api.geonames.org/search?type=json&username=jaguillette&featureClass=P&east=30.35&name=%D0%A1%D0%B2%D0%B8%D1%80%D1%81%D0%BA%D0%BE%D0%B9+%D0%90%D0%BB%D0%B5%D0%BA%D1%81%D0%B0%D0%BD%D0%B4%D1%80%D0%BE%D0%B2%D1%81%D0%BA%D0%BE%D0%B9&south=57.783333&north=65.783333&west=38.35&fuzzy=1' > 255 characters since it exceeds Excel's limit for URLS\n",
        "  \"Excel's limit for URLS\" % url)\n",
        "c:\\Anaconda3\\lib\\site-packages\\xlsxwriter\\worksheet.py:827: UserWarning: Ignoring URL 'http://api.geonames.org/search?type=json&username=jaguillette&featureClass=P&east=30.35&name=%D0%A1%D0%B2%D0%B8%D1%80%D1%81%D0%BA%D0%B8%D0%B9+%D0%90%D0%BB%D0%B5%D0%BA%D1%81%D0%B0%D0%BD%D0%B4%D1%80%D0%BE%D0%B2%D1%81%D0%BA%D0%B8%D0%B9&south=57.783333&north=65.783333&west=38.35&fuzzy=1' > 255 characters since it exceeds Excel's limit for URLS\n",
        "  \"Excel's limit for URLS\" % url)\n",
        "c:\\Anaconda3\\lib\\site-packages\\xlsxwriter\\worksheet.py:827: UserWarning: Ignoring URL 'http://api.geonames.org/search?type=json&username=jaguillette&featureClass=P&east=30.35&name=%D0%A1%D0%B2%D0%B8%D1%80%D1%81%D0%BA%D0%BE%D0%B9+%D0%90%D0%BB%D0%B5%D0%BA%D1%81%D0%B0%D0%BD%D0%B4%D1%80%D0%BE%D0%B2%D1%81%D0%BA%D0%BE%D0%B9&south=57.783333&north=65.783333&west=38.35&fuzzy=0.9' > 255 characters since it exceeds Excel's limit for URLS\n",
        "  \"Excel's limit for URLS\" % url)\n",
        "c:\\Anaconda3\\lib\\site-packages\\xlsxwriter\\worksheet.py:827: UserWarning: Ignoring URL 'http://api.geonames.org/search?type=json&username=jaguillette&featureClass=P&east=43.3445&name=%D0%A8%D0%B0%D1%80%D1%82%D0%BE%D0%BB%D0%B8%D0%BD%D1%81%D0%BA%D0%BE%D0%B9+%D0%9D%D0%B8%D0%BA%D0%BE%D0%BB%D0%B0%D0%B5%D0%B2%D1%81%D0%BA%D0%BE%D0%B9&south=54.9145&north=57.246&west=37.8508&fuzzy=1' > 255 characters since it exceeds Excel's limit for URLS\n",
        "  \"Excel's limit for URLS\" % url)\n",
        "c:\\Anaconda3\\lib\\site-packages\\xlsxwriter\\worksheet.py:827: UserWarning: Ignoring URL 'http://api.geonames.org/search?type=json&username=jaguillette&featureClass=P&east=43.3445&name=%D0%A8%D0%B0%D1%80%D1%82%D0%BE%D0%BB%D0%B8%D0%BD%D1%81%D0%BA%D0%B8%D0%B9+%D0%9D%D0%B8%D0%BA%D0%BE%D0%BB%D0%B0%D0%B5%D0%B2%D1%81%D0%BA%D0%B8%D0%B9&south=54.9145&north=57.246&west=37.8508&fuzzy=1' > 255 characters since it exceeds Excel's limit for URLS\n",
        "  \"Excel's limit for URLS\" % url)\n",
        "c:\\Anaconda3\\lib\\site-packages\\xlsxwriter\\worksheet.py:827: UserWarning: Ignoring URL 'http://api.geonames.org/search?type=json&username=jaguillette&featureClass=P&east=43.3445&name=%D0%A8%D0%B0%D1%80%D1%82%D0%BE%D0%BB%D0%B8%D0%BD%D1%81%D0%BA%D0%BE%D0%B9+%D0%9D%D0%B8%D0%BA%D0%BE%D0%BB%D0%B0%D0%B5%D0%B2%D1%81%D0%BA%D0%BE%D0%B9&south=54.9145&north=57.246&west=37.8508&fuzzy=0.9' > 255 characters since it exceeds Excel's limit for URLS\n",
        "  \"Excel's limit for URLS\" % url)\n",
        "c:\\Anaconda3\\lib\\site-packages\\xlsxwriter\\worksheet.py:827: UserWarning: Ignoring URL 'http://api.geonames.org/search?type=json&username=jaguillette&featureClass=P&east=58.6121673584&name=%D0%91%D0%BB%D0%B0%D0%B3%D0%BE%D0%B2%D0%B5%D1%89%D0%B5%D0%BD%D1%81%D0%BA%D0%BE%D0%B9+%D0%9F%D1%80%D0%B8%D1%85%D0%BE%D0%B4&south=60.3600075373&north=70.1894276115&west=27.4506621361&fuzzy=1' > 255 characters since it exceeds Excel's limit for URLS\n",
        "  \"Excel's limit for URLS\" % url)\n",
        "c:\\Anaconda3\\lib\\site-packages\\xlsxwriter\\worksheet.py:827: UserWarning: Ignoring URL 'http://api.geonames.org/search?type=json&username=jaguillette&featureClass=P&east=58.6121673584&name=%D0%91%D0%BB%D0%B0%D0%B3%D0%BE%D0%B2%D0%B5%D1%89%D0%B5%D0%BD%D1%81%D0%BA%D0%B8%D0%B9+%D0%9F%D1%80%D0%B8%D1%85%D0%BE%D0%B4&south=60.3600075373&north=70.1894276115&west=27.4506621361&fuzzy=1' > 255 characters since it exceeds Excel's limit for URLS\n",
        "  \"Excel's limit for URLS\" % url)\n",
        "c:\\Anaconda3\\lib\\site-packages\\xlsxwriter\\worksheet.py:827: UserWarning: Ignoring URL 'http://api.geonames.org/search?type=json&username=jaguillette&featureClass=P&east=58.6121673584&name=%D0%91%D0%BB%D0%B0%D0%B3%D0%BE%D0%B2%D0%B5%D1%89%D0%B5%D0%BD%D1%81%D0%BA%D0%BE%D0%B9+%D0%9F%D1%80%D0%B8%D1%85%D0%BE%D0%B4&south=60.3600075373&north=70.1894276115&west=27.4506621361&fuzzy=0.9' > 255 characters since it exceeds Excel's limit for URLS\n",
        "  \"Excel's limit for URLS\" % url)\n",
        "c:\\Anaconda3\\lib\\site-packages\\xlsxwriter\\worksheet.py:827: UserWarning: Ignoring URL 'http://api.geonames.org/search?type=json&username=jaguillette&featureClass=P&east=46.7277&name=%D0%91%D0%BE%D0%B3%D0%BE%D1%80%D0%BE%D0%B4%D0%B8%D1%86%D0%BA%D0%BE%D0%B9+%D0%9A%D0%B0%D0%B7%D0%B0%D0%BD%D1%81%D0%BA%D0%BE%D0%B9&south=52.3247&north=54.837&west=41.8373&fuzzy=1' > 255 characters since it exceeds Excel's limit for URLS\n",
        "  \"Excel's limit for URLS\" % url)\n",
        "c:\\Anaconda3\\lib\\site-packages\\xlsxwriter\\worksheet.py:827: UserWarning: Ignoring URL 'http://api.geonames.org/search?type=json&username=jaguillette&featureClass=P&east=46.7277&name=%D0%91%D0%BE%D0%B3%D0%BE%D1%80%D0%BE%D0%B4%D0%B8%D1%86%D0%BA%D0%B8%D0%B9+%D0%9A%D0%B0%D0%B7%D0%B0%D0%BD%D1%81%D0%BA%D0%B8%D0%B9&south=52.3247&north=54.837&west=41.8373&fuzzy=1' > 255 characters since it exceeds Excel's limit for URLS\n",
        "  \"Excel's limit for URLS\" % url)\n",
        "c:\\Anaconda3\\lib\\site-packages\\xlsxwriter\\worksheet.py:827: UserWarning: Ignoring URL 'http://api.geonames.org/search?type=json&username=jaguillette&featureClass=P&east=46.7277&name=%D0%91%D0%BE%D0%B3%D0%BE%D1%80%D0%BE%D0%B4%D0%B8%D1%86%D0%BA%D0%BE%D0%B9+%D0%9A%D0%B0%D0%B7%D0%B0%D0%BD%D1%81%D0%BA%D0%BE%D0%B9&south=52.3247&north=54.837&west=41.8373&fuzzy=0.9' > 255 characters since it exceeds Excel's limit for URLS\n",
        "  \"Excel's limit for URLS\" % url)\n",
        "c:\\Anaconda3\\lib\\site-packages\\xlsxwriter\\worksheet.py:827: UserWarning: Ignoring URL 'http://api.geonames.org/search?type=json&username=jaguillette&featureClass=P&east=59.4701&name=%D0%A2%D0%B5%D0%BF%D0%BB%D0%BE%D0%B3%D0%BE%D1%80%D1%81%D0%BA%D0%B0%D1%8F+%D0%91%D0%BE%D0%B3%D0%BE%D1%80%D0%BE%D0%B4%D0%B8%D1%86%D0%BA%D0%B0%D1%8F&south=58.4716&north=64.5238&west=38.3571&fuzzy=1' > 255 characters since it exceeds Excel's limit for URLS\n",
        "  \"Excel's limit for URLS\" % url)\n",
        "c:\\Anaconda3\\lib\\site-packages\\xlsxwriter\\worksheet.py:827: UserWarning: Ignoring URL 'http://api.geonames.org/search?type=json&username=jaguillette&featureClass=P&east=59.4701&name=%D0%A2%D0%B5%D0%BF%D0%BB%D0%BE%D0%B3%D0%BE%D1%80%D1%81%D0%BA%D0%B0%D1%8F+%D0%91%D0%BE%D0%B3%D0%BE%D1%80%D0%BE%D0%B4%D0%B8%D1%86%D0%BA%D0%B0%D1%8F&south=58.4716&north=64.5238&west=38.3571&fuzzy=0.9' > 255 characters since it exceeds Excel's limit for URLS\n",
        "  \"Excel's limit for URLS\" % url)\n",
        "c:\\Anaconda3\\lib\\site-packages\\xlsxwriter\\worksheet.py:827: UserWarning: Ignoring URL 'http://api.geonames.org/search?type=json&username=jaguillette&featureClass=P&east=40.3419&name=%D0%A1%D0%B5%D1%80%D0%B5%D0%B4%D0%B0+%D0%A1%D1%82%D1%80%D0%B0%D1%82%D0%B8%D0%BB%D0%B0%D1%82%D1%81%D0%BA%D0%B0%D1%8F&south=54.2132&north=56.981&west=34.3446&fuzzy=1' > 255 characters since it exceeds Excel's limit for URLS\n",
        "  \"Excel's limit for URLS\" % url)\n",
        "c:\\Anaconda3\\lib\\site-packages\\xlsxwriter\\worksheet.py:827: UserWarning: Ignoring URL 'http://api.geonames.org/search?type=json&username=jaguillette&featureClass=P&east=40.3419&name=%D0%A1%D0%B5%D1%80%D0%B5%D0%B4%D0%B0+%D0%A1%D1%82%D1%80%D0%B0%D1%82%D0%B8%D0%BB%D0%B0%D1%82%D1%81%D0%BA%D0%B0%D1%8F&south=54.2132&north=56.981&west=34.3446&fuzzy=0.9' > 255 characters since it exceeds Excel's limit for URLS\n",
        "  \"Excel's limit for URLS\" % url)\n",
        "c:\\Anaconda3\\lib\\site-packages\\xlsxwriter\\worksheet.py:827: UserWarning: Ignoring URL 'http://api.geonames.org/search?type=json&username=jaguillette&featureClass=P&east=35.85&name=%D0%90%D0%BB%D0%B5%D0%BA%D1%81%D0%B0%D0%BD%D0%B4%D1%80%D0%BE%D0%B2%D0%B0+%D0%9F%D1%83%D1%81%D1%82%D1%8B%D0%BD%D1%8F&south=53.616667&north=61.616667&west=43.85&fuzzy=1' > 255 characters since it exceeds Excel's limit for URLS\n",
        "  \"Excel's limit for URLS\" % url)\n",
        "c:\\Anaconda3\\lib\\site-packages\\xlsxwriter\\worksheet.py:827: UserWarning: Ignoring URL 'http://api.geonames.org/search?type=json&username=jaguillette&featureClass=P&east=35.85&name=%D0%90%D0%BB%D0%B5%D0%BA%D1%81%D0%B0%D0%BD%D0%B4%D1%80%D0%BE%D0%B2%D0%B0+%D0%9F%D1%83%D1%81%D1%82%D1%8B%D0%BD%D1%8F&south=53.616667&north=61.616667&west=43.85&fuzzy=0.9' > 255 characters since it exceeds Excel's limit for URLS\n",
        "  \"Excel's limit for URLS\" % url)\n"
       ]
      }
     ],
     "prompt_number": 16
    },
    {
     "cell_type": "code",
     "collapsed": false,
     "input": [],
     "language": "python",
     "metadata": {},
     "outputs": []
    },
    {
     "cell_type": "code",
     "collapsed": false,
     "input": [
      "geodf_merged = pd.merge(geodf,market_df,left_on='hgr_id',right_index=True)"
     ],
     "language": "python",
     "metadata": {},
     "outputs": [],
     "prompt_number": 29
    },
    {
     "cell_type": "code",
     "collapsed": false,
     "input": [
      "geodf_merged = geodf_merged[['hgr_id', 'name', 'alt_name', 'partof_id', 'lng', 'lat', '_type', 'source_url', 'text', 'name_modern_sp', 'result_placename','searched_placename', 'admin1', 'country_name', 'src_id', 'country_code', 'url', 'local_result', 'src', 'ru_prov', 'prov_modern_sp', 'prov_stem', 'admin1_partof', 'ru_uezd','uezd_modern_sp','uezd_stem', 'admin2_partof', 'page']]"
     ],
     "language": "python",
     "metadata": {},
     "outputs": [],
     "prompt_number": 31
    },
    {
     "cell_type": "code",
     "collapsed": false,
     "input": [
      "cyrillic_translit={u'\\u0410': 'A', u'\\u0430': 'a',u'\\u0411': 'B', u'\\u0431': 'b',u'\\u0412': 'V', u'\\u0432': 'v',u'\\u0413': 'G', u'\\u0433': 'g',u'\\u0414': 'D', u'\\u0434': 'd',u'\\u0415': 'E', u'\\u0435': 'e',u'\\u0416': 'Zh', u'\\u0436': 'zh',u'\\u0417': 'Z', u'\\u0437': 'z',u'\\u0418': 'I', u'\\u0438': 'i',u'\\u0419': 'I', u'\\u0439': 'i',u'\\u041a': 'K', u'\\u043a': 'k',u'\\u041b': 'L', u'\\u043b': 'l',u'\\u041c': 'M', u'\\u043c': 'm',u'\\u041d': 'N', u'\\u043d': 'n',u'\\u041e': 'O', u'\\u043e': 'o',u'\\u041f': 'P', u'\\u043f': 'p',u'\\u0420': 'R', u'\\u0440': 'r',u'\\u0421': 'S', u'\\u0441': 's',u'\\u0422': 'T', u'\\u0442': 't',u'\\u0423': 'U', u'\\u0443': 'u',u'\\u0424': 'F', u'\\u0444': 'f',u'\\u0425': 'Kh', u'\\u0445': 'kh',u'\\u0426': 'Ts', u'\\u0446': 'ts',u'\\u0427': 'Ch', u'\\u0447': 'ch',u'\\u0428': 'Sh', u'\\u0448': 'sh',u'\\u0429': 'Shch', u'\\u0449': 'shch',u'\\u042a': '\"', u'\\u044a': '\"',u'\\u042b': 'Y', u'\\u044b': 'y',u'\\u042c': \"'\", u'\\u044c': \"'\",u'\\u042d': 'E', u'\\u044d': 'e',u'\\u042e': 'Iu', u'\\u044e': 'iu',u'\\u042f': 'Ia', u'\\u044f': 'ia',u'\\u0462': 'E', u'\\u0463': 'e'}\n",
      "\n",
      "def transliterate(word, translit_table):\n",
      "    \"\"\"\n",
      "    Transliterates 'word' based on the key/value pairs in 'translit_table'\n",
      "    \"\"\"\n",
      "    converted_word = ''\n",
      "    for char in word:\n",
      "        transchar = ''\n",
      "        if char in translit_table:\n",
      "            transchar = translit_table[char]\n",
      "        else:\n",
      "            transchar = char\n",
      "        converted_word += transchar\n",
      "    return converted_word"
     ],
     "language": "python",
     "metadata": {},
     "outputs": [],
     "prompt_number": 32
    },
    {
     "cell_type": "code",
     "collapsed": false,
     "input": [
      "geodf_merged['lc_translit'] = geodf_merged.name_modern_sp.apply(lambda text: transliterate(text,cyrillic_translit))"
     ],
     "language": "python",
     "metadata": {},
     "outputs": [],
     "prompt_number": 33
    },
    {
     "cell_type": "code",
     "collapsed": false,
     "input": [
      "geodf_merged.to_excel('output/geocoded_merged.xlsx',encoding = 'utf-8')\n",
      "geodf_merged.to_csv('output/geocoded_merged.csv',encoding = 'utf-8')"
     ],
     "language": "python",
     "metadata": {},
     "outputs": [],
     "prompt_number": 42
    },
    {
     "cell_type": "code",
     "collapsed": false,
     "input": [
      "finding_counts = geodf.ix[pd.isnull(geodf.gname_name)==False].pivot_table(index='hgr_id',values='gname_lat',aggfunc=lambda x: len(x.unique()))\n",
      "fdf = pd.DataFrame(finding_counts)"
     ],
     "language": "python",
     "metadata": {},
     "outputs": [],
     "prompt_number": 19
    },
    {
     "cell_type": "code",
     "collapsed": false,
     "input": [
      "single_results = pd.merge(fdf.ix[fdf.gname_lat==1],geodf,left_index=True,right_on='hgr_id')\n",
      "single_results = single_results.ix[pd.isnull(single_results.gname_name)==False]\n",
      "len(single_results)"
     ],
     "language": "python",
     "metadata": {},
     "outputs": [
      {
       "metadata": {},
       "output_type": "pyout",
       "prompt_number": 24,
       "text": [
        "20"
       ]
      }
     ],
     "prompt_number": 24
    },
    {
     "cell_type": "code",
     "collapsed": false,
     "input": [
      "single_results"
     ],
     "language": "python",
     "metadata": {},
     "outputs": [
      {
       "html": [
        "<div style=\"max-height:1000px;max-width:1500px;overflow:auto;\">\n",
        "<table border=\"1\" class=\"dataframe\">\n",
        "  <thead>\n",
        "    <tr style=\"text-align: right;\">\n",
        "      <th></th>\n",
        "      <th>gname_lat_x</th>\n",
        "      <th>hgr_id</th>\n",
        "      <th>searched_name</th>\n",
        "      <th>fuzzy</th>\n",
        "      <th>gname_name</th>\n",
        "      <th>gname_adminCode1</th>\n",
        "      <th>gname_adminName1</th>\n",
        "      <th>gname_countryCode</th>\n",
        "      <th>gname_countryId</th>\n",
        "      <th>gname_countryName</th>\n",
        "      <th>...</th>\n",
        "      <th>gname_geonameId</th>\n",
        "      <th>gname_lat_y</th>\n",
        "      <th>gname_lng</th>\n",
        "      <th>gname_population</th>\n",
        "      <th>gname_toponymName</th>\n",
        "      <th>north_bound</th>\n",
        "      <th>south_bound</th>\n",
        "      <th>east_bound</th>\n",
        "      <th>west_bound</th>\n",
        "      <th>url</th>\n",
        "    </tr>\n",
        "  </thead>\n",
        "  <tbody>\n",
        "    <tr>\n",
        "      <th>849 </th>\n",
        "      <td> 1</td>\n",
        "      <td>   7</td>\n",
        "      <td>        \u0410\u043a\u0441\u0435\u043b\u044c</td>\n",
        "      <td> 1</td>\n",
        "      <td>                    Axel</td>\n",
        "      <td> 10</td>\n",
        "      <td>          Zeeland</td>\n",
        "      <td> NL</td>\n",
        "      <td> 2750405</td>\n",
        "      <td> Netherlands</td>\n",
        "      <td>...</td>\n",
        "      <td> 2759594</td>\n",
        "      <td> 51.26667</td>\n",
        "      <td>   3.90833</td>\n",
        "      <td>    8149</td>\n",
        "      <td>                    Axel</td>\n",
        "      <td> 56.716667</td>\n",
        "      <td> 48.716667</td>\n",
        "      <td>  37.433333</td>\n",
        "      <td> 45.433333</td>\n",
        "      <td> http://api.geonames.org/search?type=json&amp;usern...</td>\n",
        "    </tr>\n",
        "    <tr>\n",
        "      <th>1498</th>\n",
        "      <td> 1</td>\n",
        "      <td> 121</td>\n",
        "      <td>       \u0412\u043e\u043b\u044b\u043d\u0446\u044b</td>\n",
        "      <td> 1</td>\n",
        "      <td>                Volyntsy</td>\n",
        "      <td> 51</td>\n",
        "      <td> Nizjnij Novgorod</td>\n",
        "      <td> RU</td>\n",
        "      <td> 2017370</td>\n",
        "      <td>      Russia</td>\n",
        "      <td>...</td>\n",
        "      <td>  472245</td>\n",
        "      <td> 57.80841</td>\n",
        "      <td>  45.47827</td>\n",
        "      <td>       0</td>\n",
        "      <td>                Volyntsy</td>\n",
        "      <td> 59.483333</td>\n",
        "      <td> 51.483333</td>\n",
        "      <td>  24.800000</td>\n",
        "      <td> 32.800000</td>\n",
        "      <td> http://api.geonames.org/search?type=json&amp;usern...</td>\n",
        "    </tr>\n",
        "    <tr>\n",
        "      <th>297 </th>\n",
        "      <td> 1</td>\n",
        "      <td> 143</td>\n",
        "      <td>     \u0413\u0430\u0432\u0440\u0438\u043b\u043e\u0432\u0430</td>\n",
        "      <td> 1</td>\n",
        "      <td>               Gavrilovo</td>\n",
        "      <td> 47</td>\n",
        "      <td>      Moskovskaya</td>\n",
        "      <td> RU</td>\n",
        "      <td> 2017370</td>\n",
        "      <td>      Russia</td>\n",
        "      <td>...</td>\n",
        "      <td>  561837</td>\n",
        "      <td> 55.94667</td>\n",
        "      <td>  38.58917</td>\n",
        "      <td>       0</td>\n",
        "      <td>               Gavrilovo</td>\n",
        "      <td> 57.246000</td>\n",
        "      <td> 54.914500</td>\n",
        "      <td>  43.344500</td>\n",
        "      <td> 37.850800</td>\n",
        "      <td> http://api.geonames.org/search?type=json&amp;usern...</td>\n",
        "    </tr>\n",
        "    <tr>\n",
        "      <th>525 </th>\n",
        "      <td> 1</td>\n",
        "      <td> 218</td>\n",
        "      <td>      \u0415\u043d\u0438\u0441\u0435\u0439\u0441\u043a</td>\n",
        "      <td> 1</td>\n",
        "      <td>               Yeniseysk</td>\n",
        "      <td> 91</td>\n",
        "      <td>    Krasnoyarskiy</td>\n",
        "      <td> RU</td>\n",
        "      <td> 2017370</td>\n",
        "      <td>      Russia</td>\n",
        "      <td>...</td>\n",
        "      <td> 1485997</td>\n",
        "      <td> 58.44937</td>\n",
        "      <td>  92.17968</td>\n",
        "      <td>   19920</td>\n",
        "      <td>               Yeniseysk</td>\n",
        "      <td> 77.440000</td>\n",
        "      <td> 53.980000</td>\n",
        "      <td> 114.000000</td>\n",
        "      <td> 50.850000</td>\n",
        "      <td> http://api.geonames.org/search?type=json&amp;usern...</td>\n",
        "    </tr>\n",
        "    <tr>\n",
        "      <th>798 </th>\n",
        "      <td> 1</td>\n",
        "      <td> 240</td>\n",
        "      <td>       \u0417\u043e\u043b\u043e\u0447\u0435\u0432</td>\n",
        "      <td> 1</td>\n",
        "      <td>                Zolochiv</td>\n",
        "      <td> 07</td>\n",
        "      <td>          Kharkiv</td>\n",
        "      <td> UA</td>\n",
        "      <td>  690791</td>\n",
        "      <td>     Ukraine</td>\n",
        "      <td>...</td>\n",
        "      <td>  686895</td>\n",
        "      <td> 50.27985</td>\n",
        "      <td>  35.98179</td>\n",
        "      <td>   11160</td>\n",
        "      <td>                Zolochiv</td>\n",
        "      <td> 51.568900</td>\n",
        "      <td> 48.486900</td>\n",
        "      <td>  38.287500</td>\n",
        "      <td> 33.556300</td>\n",
        "      <td> http://api.geonames.org/search?type=json&amp;usern...</td>\n",
        "    </tr>\n",
        "    <tr>\n",
        "      <th>544 </th>\n",
        "      <td> 1</td>\n",
        "      <td> 301</td>\n",
        "      <td>    \u041a\u043b\u044e\u0447\u0435\u0432\u0441\u043a\u0430\u044f</td>\n",
        "      <td> 1</td>\n",
        "      <td> Nikol\u2019sko-Klyuchevskaya</td>\n",
        "      <td> 41</td>\n",
        "      <td>            Kursk</td>\n",
        "      <td> RU</td>\n",
        "      <td> 2017370</td>\n",
        "      <td>      Russia</td>\n",
        "      <td>...</td>\n",
        "      <td>  521697</td>\n",
        "      <td>  51.8153</td>\n",
        "      <td>   38.0688</td>\n",
        "      <td>       0</td>\n",
        "      <td> Nikol\u2019sko-Klyuchevskaya</td>\n",
        "      <td> 58.316667</td>\n",
        "      <td> 50.316667</td>\n",
        "      <td>  44.366667</td>\n",
        "      <td> 52.366667</td>\n",
        "      <td> http://api.geonames.org/search?type=json&amp;usern...</td>\n",
        "    </tr>\n",
        "    <tr>\n",
        "      <th>930 </th>\n",
        "      <td> 1</td>\n",
        "      <td> 338</td>\n",
        "      <td> \u041a\u0440\u0430\u0441\u043d\u043e\u0433\u043e\u0440\u0441\u043a\u0430\u044f</td>\n",
        "      <td> 1</td>\n",
        "      <td>          Krasnogorskaya</td>\n",
        "      <td> 56</td>\n",
        "      <td>            Orjol</td>\n",
        "      <td> RU</td>\n",
        "      <td> 2017370</td>\n",
        "      <td>      Russia</td>\n",
        "      <td>...</td>\n",
        "      <td>  542372</td>\n",
        "      <td>  52.4067</td>\n",
        "      <td>   35.8137</td>\n",
        "      <td>       0</td>\n",
        "      <td>          Krasnogorskaya</td>\n",
        "      <td> 56.716667</td>\n",
        "      <td> 48.716667</td>\n",
        "      <td>  37.433333</td>\n",
        "      <td> 45.433333</td>\n",
        "      <td> http://api.geonames.org/search?type=json&amp;usern...</td>\n",
        "    </tr>\n",
        "    <tr>\n",
        "      <th>1012</th>\n",
        "      <td> 1</td>\n",
        "      <td> 378</td>\n",
        "      <td>       \u041b\u0435\u0436\u043d\u0435\u0432\u043e</td>\n",
        "      <td> 1</td>\n",
        "      <td>                Lezhnevo</td>\n",
        "      <td> 21</td>\n",
        "      <td>          Ivanovo</td>\n",
        "      <td> RU</td>\n",
        "      <td> 2017370</td>\n",
        "      <td>      Russia</td>\n",
        "      <td>...</td>\n",
        "      <td>  535366</td>\n",
        "      <td> 56.77508</td>\n",
        "      <td>  40.89174</td>\n",
        "      <td>    7977</td>\n",
        "      <td>                Lezhnevo</td>\n",
        "      <td> 57.246000</td>\n",
        "      <td> 54.914500</td>\n",
        "      <td>  43.344500</td>\n",
        "      <td> 37.850800</td>\n",
        "      <td> http://api.geonames.org/search?type=json&amp;usern...</td>\n",
        "    </tr>\n",
        "    <tr>\n",
        "      <th>305 </th>\n",
        "      <td> 1</td>\n",
        "      <td> 389</td>\n",
        "      <td>         \u041b\u0443\u0431\u043d\u044b</td>\n",
        "      <td> 1</td>\n",
        "      <td>                   Lubny</td>\n",
        "      <td> 18</td>\n",
        "      <td>          Poltava</td>\n",
        "      <td> UA</td>\n",
        "      <td>  690791</td>\n",
        "      <td>     Ukraine</td>\n",
        "      <td>...</td>\n",
        "      <td>  702723</td>\n",
        "      <td> 50.01625</td>\n",
        "      <td>  32.99694</td>\n",
        "      <td>   52600</td>\n",
        "      <td>                   Lubny</td>\n",
        "      <td> 51.494130</td>\n",
        "      <td> 49.080080</td>\n",
        "      <td>  34.356250</td>\n",
        "      <td> 29.725030</td>\n",
        "      <td> http://api.geonames.org/search?type=json&amp;usern...</td>\n",
        "    </tr>\n",
        "    <tr>\n",
        "      <th>15  </th>\n",
        "      <td> 1</td>\n",
        "      <td> 412</td>\n",
        "      <td>    \u041c\u0430\u0441\u043b\u0435\u043d\u0441\u043a\u0430\u044f</td>\n",
        "      <td> 1</td>\n",
        "      <td>             Maslenskaya</td>\n",
        "      <td> 33</td>\n",
        "      <td>            Kirov</td>\n",
        "      <td> RU</td>\n",
        "      <td> 2017370</td>\n",
        "      <td>      Russia</td>\n",
        "      <td>...</td>\n",
        "      <td> 7770338</td>\n",
        "      <td>  57.5109</td>\n",
        "      <td>    47.766</td>\n",
        "      <td>       0</td>\n",
        "      <td>             Maslenskaya</td>\n",
        "      <td> 58.733333</td>\n",
        "      <td> 50.733333</td>\n",
        "      <td>  51.966667</td>\n",
        "      <td> 59.966667</td>\n",
        "      <td> http://api.geonames.org/search?type=json&amp;usern...</td>\n",
        "    </tr>\n",
        "    <tr>\n",
        "      <th>571 </th>\n",
        "      <td> 1</td>\n",
        "      <td> 416</td>\n",
        "      <td>         \u041c\u0430\u0448\u0435\u0432</td>\n",
        "      <td> 1</td>\n",
        "      <td>                  Mashiv</td>\n",
        "      <td> 24</td>\n",
        "      <td>            Volyn</td>\n",
        "      <td> UA</td>\n",
        "      <td>  690791</td>\n",
        "      <td>     Ukraine</td>\n",
        "      <td>...</td>\n",
        "      <td>  701638</td>\n",
        "      <td>  51.1905</td>\n",
        "      <td>  24.11994</td>\n",
        "      <td>       0</td>\n",
        "      <td>                  Mashiv</td>\n",
        "      <td> 55.983333</td>\n",
        "      <td> 47.983333</td>\n",
        "      <td>  29.266667</td>\n",
        "      <td> 37.266667</td>\n",
        "      <td> http://api.geonames.org/search?type=json&amp;usern...</td>\n",
        "    </tr>\n",
        "    <tr>\n",
        "      <th>239 </th>\n",
        "      <td> 1</td>\n",
        "      <td> 498</td>\n",
        "      <td>      \u041e\u0440\u0435\u043d\u0431\u0443\u0440\u0433</td>\n",
        "      <td> 1</td>\n",
        "      <td>        Novoorenburgskiy</td>\n",
        "      <td> 65</td>\n",
        "      <td>           Samara</td>\n",
        "      <td> RU</td>\n",
        "      <td> 2017370</td>\n",
        "      <td>      Russia</td>\n",
        "      <td>...</td>\n",
        "      <td> 7755096</td>\n",
        "      <td>  52.9585</td>\n",
        "      <td>   49.4866</td>\n",
        "      <td>       0</td>\n",
        "      <td>        Novoorenburgskiy</td>\n",
        "      <td> 58.733333</td>\n",
        "      <td> 50.733333</td>\n",
        "      <td>  51.966667</td>\n",
        "      <td> 59.966667</td>\n",
        "      <td> http://api.geonames.org/search?type=json&amp;usern...</td>\n",
        "    </tr>\n",
        "    <tr>\n",
        "      <th>559 </th>\n",
        "      <td> 1</td>\n",
        "      <td> 566</td>\n",
        "      <td>         \u041f\u0443\u043f\u043a\u0438</td>\n",
        "      <td> 1</td>\n",
        "      <td>                   Pupki</td>\n",
        "      <td> 21</td>\n",
        "      <td>          Ivanovo</td>\n",
        "      <td> RU</td>\n",
        "      <td> 2017370</td>\n",
        "      <td>      Russia</td>\n",
        "      <td>...</td>\n",
        "      <td>  504127</td>\n",
        "      <td> 56.96667</td>\n",
        "      <td>     41.35</td>\n",
        "      <td>       0</td>\n",
        "      <td>                   Pupki</td>\n",
        "      <td> 57.246000</td>\n",
        "      <td> 54.914500</td>\n",
        "      <td>  43.344500</td>\n",
        "      <td> 37.850800</td>\n",
        "      <td> http://api.geonames.org/search?type=json&amp;usern...</td>\n",
        "    </tr>\n",
        "    <tr>\n",
        "      <th>1418</th>\n",
        "      <td> 1</td>\n",
        "      <td> 604</td>\n",
        "      <td>       \u0421\u0430\u0440\u0430\u043d\u0441\u043a</td>\n",
        "      <td> 1</td>\n",
        "      <td>                 Saransk</td>\n",
        "      <td> 46</td>\n",
        "      <td>        Mordoviya</td>\n",
        "      <td> RU</td>\n",
        "      <td> 2017370</td>\n",
        "      <td>      Russia</td>\n",
        "      <td>...</td>\n",
        "      <td>  498698</td>\n",
        "      <td>  54.1838</td>\n",
        "      <td>   45.1749</td>\n",
        "      <td>  303394</td>\n",
        "      <td>                 Saransk</td>\n",
        "      <td> 54.837000</td>\n",
        "      <td> 52.324700</td>\n",
        "      <td>  46.727700</td>\n",
        "      <td> 41.837300</td>\n",
        "      <td> http://api.geonames.org/search?type=json&amp;usern...</td>\n",
        "    </tr>\n",
        "    <tr>\n",
        "      <th>560 </th>\n",
        "      <td> 1</td>\n",
        "      <td> 713</td>\n",
        "      <td>         \u0423\u0437\u0435\u043b\u044c</td>\n",
        "      <td> 1</td>\n",
        "      <td>            Krasnyy Uzel</td>\n",
        "      <td> 46</td>\n",
        "      <td>        Mordoviya</td>\n",
        "      <td> RU</td>\n",
        "      <td> 2017370</td>\n",
        "      <td>      Russia</td>\n",
        "      <td>...</td>\n",
        "      <td>  541369</td>\n",
        "      <td>  54.4157</td>\n",
        "      <td>   45.3525</td>\n",
        "      <td>       0</td>\n",
        "      <td>            Krasnyy Uzel</td>\n",
        "      <td> 59.483333</td>\n",
        "      <td> 51.483333</td>\n",
        "      <td>  24.800000</td>\n",
        "      <td> 32.800000</td>\n",
        "      <td> http://api.geonames.org/search?type=json&amp;usern...</td>\n",
        "    </tr>\n",
        "    <tr>\n",
        "      <th>1272</th>\n",
        "      <td> 1</td>\n",
        "      <td> 734</td>\n",
        "      <td>       \u0425\u0430\u0440\u044c\u043a\u043e\u0432</td>\n",
        "      <td> 1</td>\n",
        "      <td>                 Kharkiv</td>\n",
        "      <td> 07</td>\n",
        "      <td>          Kharkiv</td>\n",
        "      <td> UA</td>\n",
        "      <td>  690791</td>\n",
        "      <td>     Ukraine</td>\n",
        "      <td>...</td>\n",
        "      <td>  706483</td>\n",
        "      <td> 49.98081</td>\n",
        "      <td>  36.25272</td>\n",
        "      <td> 1430885</td>\n",
        "      <td>                 Kharkiv</td>\n",
        "      <td> 51.568900</td>\n",
        "      <td> 48.486900</td>\n",
        "      <td>  38.287500</td>\n",
        "      <td> 33.556300</td>\n",
        "      <td> http://api.geonames.org/search?type=json&amp;usern...</td>\n",
        "    </tr>\n",
        "    <tr>\n",
        "      <th>950 </th>\n",
        "      <td> 1</td>\n",
        "      <td> 764</td>\n",
        "      <td>      \u0427\u0435\u0440\u043d\u0438\u0433\u043e\u0432</td>\n",
        "      <td> 1</td>\n",
        "      <td> Chernigov-Tokmachevskiy</td>\n",
        "      <td> 61</td>\n",
        "      <td>           Rostov</td>\n",
        "      <td> RU</td>\n",
        "      <td> 2017370</td>\n",
        "      <td>      Russia</td>\n",
        "      <td>...</td>\n",
        "      <td>  568842</td>\n",
        "      <td> 48.88417</td>\n",
        "      <td>  41.30472</td>\n",
        "      <td>       0</td>\n",
        "      <td> Chernigov-Tokmachevskiy</td>\n",
        "      <td> 55.500000</td>\n",
        "      <td> 47.500000</td>\n",
        "      <td>  27.300000</td>\n",
        "      <td> 35.300000</td>\n",
        "      <td> http://api.geonames.org/search?type=json&amp;usern...</td>\n",
        "    </tr>\n",
        "    <tr>\n",
        "      <th>321 </th>\n",
        "      <td> 1</td>\n",
        "      <td> 783</td>\n",
        "      <td>        \u0428\u043e\u043a\u0438\u043d\u043e</td>\n",
        "      <td> 1</td>\n",
        "      <td>                 Shokino</td>\n",
        "      <td> 69</td>\n",
        "      <td>         Smolensk</td>\n",
        "      <td> RU</td>\n",
        "      <td> 2017370</td>\n",
        "      <td>      Russia</td>\n",
        "      <td>...</td>\n",
        "      <td>  493870</td>\n",
        "      <td> 54.97554</td>\n",
        "      <td>  32.42612</td>\n",
        "      <td>       0</td>\n",
        "      <td>                 Shokino</td>\n",
        "      <td> 58.316667</td>\n",
        "      <td> 50.316667</td>\n",
        "      <td>  44.366667</td>\n",
        "      <td> 52.366667</td>\n",
        "      <td> http://api.geonames.org/search?type=json&amp;usern...</td>\n",
        "    </tr>\n",
        "    <tr>\n",
        "      <th>1835</th>\n",
        "      <td> 1</td>\n",
        "      <td> 796</td>\n",
        "      <td>        \u042f\u043a\u0443\u0442\u0441\u043a</td>\n",
        "      <td> 1</td>\n",
        "      <td>                 Yakutsk</td>\n",
        "      <td> 63</td>\n",
        "      <td>            Sakha</td>\n",
        "      <td> RU</td>\n",
        "      <td> 2017370</td>\n",
        "      <td>      Russia</td>\n",
        "      <td>...</td>\n",
        "      <td> 2013159</td>\n",
        "      <td> 62.03389</td>\n",
        "      <td> 129.73306</td>\n",
        "      <td>  235600</td>\n",
        "      <td>                 Yakutsk</td>\n",
        "      <td> 90.000000</td>\n",
        "      <td> 46.500000</td>\n",
        "      <td> 180.000000</td>\n",
        "      <td> 91.400000</td>\n",
        "      <td> http://api.geonames.org/search?type=json&amp;usern...</td>\n",
        "    </tr>\n",
        "    <tr>\n",
        "      <th>1832</th>\n",
        "      <td> 1</td>\n",
        "      <td> 803</td>\n",
        "      <td>     \u042f\u0440\u043e\u0441\u043b\u0430\u0432\u043b\u044c</td>\n",
        "      <td> 1</td>\n",
        "      <td>              Yaroslavl'</td>\n",
        "      <td> 33</td>\n",
        "      <td>            Kirov</td>\n",
        "      <td> RU</td>\n",
        "      <td> 2017370</td>\n",
        "      <td>      Russia</td>\n",
        "      <td>...</td>\n",
        "      <td>  468891</td>\n",
        "      <td>  58.5826</td>\n",
        "      <td>  50.53756</td>\n",
        "      <td>       0</td>\n",
        "      <td>              Yaroslavl\u2019</td>\n",
        "      <td> 61.616667</td>\n",
        "      <td> 53.616667</td>\n",
        "      <td>  35.850000</td>\n",
        "      <td> 43.850000</td>\n",
        "      <td> http://api.geonames.org/search?type=json&amp;usern...</td>\n",
        "    </tr>\n",
        "  </tbody>\n",
        "</table>\n",
        "<p>20 rows \u00d7 24 columns</p>\n",
        "</div>"
       ],
       "metadata": {},
       "output_type": "pyout",
       "prompt_number": 25,
       "text": [
        "      gname_lat_x  hgr_id  searched_name  fuzzy               gname_name  \\\n",
        "849             1       7         \u0410\u043a\u0441\u0435\u043b\u044c      1                     Axel   \n",
        "1498            1     121        \u0412\u043e\u043b\u044b\u043d\u0446\u044b      1                 Volyntsy   \n",
        "297             1     143      \u0413\u0430\u0432\u0440\u0438\u043b\u043e\u0432\u0430      1                Gavrilovo   \n",
        "525             1     218       \u0415\u043d\u0438\u0441\u0435\u0439\u0441\u043a      1                Yeniseysk   \n",
        "798             1     240        \u0417\u043e\u043b\u043e\u0447\u0435\u0432      1                 Zolochiv   \n",
        "544             1     301     \u041a\u043b\u044e\u0447\u0435\u0432\u0441\u043a\u0430\u044f      1  Nikol\u2019sko-Klyuchevskaya   \n",
        "930             1     338  \u041a\u0440\u0430\u0441\u043d\u043e\u0433\u043e\u0440\u0441\u043a\u0430\u044f      1           Krasnogorskaya   \n",
        "1012            1     378        \u041b\u0435\u0436\u043d\u0435\u0432\u043e      1                 Lezhnevo   \n",
        "305             1     389          \u041b\u0443\u0431\u043d\u044b      1                    Lubny   \n",
        "15              1     412     \u041c\u0430\u0441\u043b\u0435\u043d\u0441\u043a\u0430\u044f      1              Maslenskaya   \n",
        "571             1     416          \u041c\u0430\u0448\u0435\u0432      1                   Mashiv   \n",
        "239             1     498       \u041e\u0440\u0435\u043d\u0431\u0443\u0440\u0433      1         Novoorenburgskiy   \n",
        "559             1     566          \u041f\u0443\u043f\u043a\u0438      1                    Pupki   \n",
        "1418            1     604        \u0421\u0430\u0440\u0430\u043d\u0441\u043a      1                  Saransk   \n",
        "560             1     713          \u0423\u0437\u0435\u043b\u044c      1             Krasnyy Uzel   \n",
        "1272            1     734        \u0425\u0430\u0440\u044c\u043a\u043e\u0432      1                  Kharkiv   \n",
        "950             1     764       \u0427\u0435\u0440\u043d\u0438\u0433\u043e\u0432      1  Chernigov-Tokmachevskiy   \n",
        "321             1     783         \u0428\u043e\u043a\u0438\u043d\u043e      1                  Shokino   \n",
        "1835            1     796         \u042f\u043a\u0443\u0442\u0441\u043a      1                  Yakutsk   \n",
        "1832            1     803      \u042f\u0440\u043e\u0441\u043b\u0430\u0432\u043b\u044c      1               Yaroslavl'   \n",
        "\n",
        "     gname_adminCode1  gname_adminName1 gname_countryCode gname_countryId  \\\n",
        "849                10           Zeeland                NL         2750405   \n",
        "1498               51  Nizjnij Novgorod                RU         2017370   \n",
        "297                47       Moskovskaya                RU         2017370   \n",
        "525                91     Krasnoyarskiy                RU         2017370   \n",
        "798                07           Kharkiv                UA          690791   \n",
        "544                41             Kursk                RU         2017370   \n",
        "930                56             Orjol                RU         2017370   \n",
        "1012               21           Ivanovo                RU         2017370   \n",
        "305                18           Poltava                UA          690791   \n",
        "15                 33             Kirov                RU         2017370   \n",
        "571                24             Volyn                UA          690791   \n",
        "239                65            Samara                RU         2017370   \n",
        "559                21           Ivanovo                RU         2017370   \n",
        "1418               46         Mordoviya                RU         2017370   \n",
        "560                46         Mordoviya                RU         2017370   \n",
        "1272               07           Kharkiv                UA          690791   \n",
        "950                61            Rostov                RU         2017370   \n",
        "321                69          Smolensk                RU         2017370   \n",
        "1835               63             Sakha                RU         2017370   \n",
        "1832               33             Kirov                RU         2017370   \n",
        "\n",
        "     gname_countryName        ...        gname_geonameId gname_lat_y  \\\n",
        "849        Netherlands        ...                2759594    51.26667   \n",
        "1498            Russia        ...                 472245    57.80841   \n",
        "297             Russia        ...                 561837    55.94667   \n",
        "525             Russia        ...                1485997    58.44937   \n",
        "798            Ukraine        ...                 686895    50.27985   \n",
        "544             Russia        ...                 521697     51.8153   \n",
        "930             Russia        ...                 542372     52.4067   \n",
        "1012            Russia        ...                 535366    56.77508   \n",
        "305            Ukraine        ...                 702723    50.01625   \n",
        "15              Russia        ...                7770338     57.5109   \n",
        "571            Ukraine        ...                 701638     51.1905   \n",
        "239             Russia        ...                7755096     52.9585   \n",
        "559             Russia        ...                 504127    56.96667   \n",
        "1418            Russia        ...                 498698     54.1838   \n",
        "560             Russia        ...                 541369     54.4157   \n",
        "1272           Ukraine        ...                 706483    49.98081   \n",
        "950             Russia        ...                 568842    48.88417   \n",
        "321             Russia        ...                 493870    54.97554   \n",
        "1835            Russia        ...                2013159    62.03389   \n",
        "1832            Russia        ...                 468891     58.5826   \n",
        "\n",
        "      gname_lng gname_population        gname_toponymName north_bound  \\\n",
        "849     3.90833             8149                     Axel   56.716667   \n",
        "1498   45.47827                0                 Volyntsy   59.483333   \n",
        "297    38.58917                0                Gavrilovo   57.246000   \n",
        "525    92.17968            19920                Yeniseysk   77.440000   \n",
        "798    35.98179            11160                 Zolochiv   51.568900   \n",
        "544     38.0688                0  Nikol\u2019sko-Klyuchevskaya   58.316667   \n",
        "930     35.8137                0           Krasnogorskaya   56.716667   \n",
        "1012   40.89174             7977                 Lezhnevo   57.246000   \n",
        "305    32.99694            52600                    Lubny   51.494130   \n",
        "15       47.766                0              Maslenskaya   58.733333   \n",
        "571    24.11994                0                   Mashiv   55.983333   \n",
        "239     49.4866                0         Novoorenburgskiy   58.733333   \n",
        "559       41.35                0                    Pupki   57.246000   \n",
        "1418    45.1749           303394                  Saransk   54.837000   \n",
        "560     45.3525                0             Krasnyy Uzel   59.483333   \n",
        "1272   36.25272          1430885                  Kharkiv   51.568900   \n",
        "950    41.30472                0  Chernigov-Tokmachevskiy   55.500000   \n",
        "321    32.42612                0                  Shokino   58.316667   \n",
        "1835  129.73306           235600                  Yakutsk   90.000000   \n",
        "1832   50.53756                0               Yaroslavl\u2019   61.616667   \n",
        "\n",
        "     south_bound  east_bound west_bound  \\\n",
        "849    48.716667   37.433333  45.433333   \n",
        "1498   51.483333   24.800000  32.800000   \n",
        "297    54.914500   43.344500  37.850800   \n",
        "525    53.980000  114.000000  50.850000   \n",
        "798    48.486900   38.287500  33.556300   \n",
        "544    50.316667   44.366667  52.366667   \n",
        "930    48.716667   37.433333  45.433333   \n",
        "1012   54.914500   43.344500  37.850800   \n",
        "305    49.080080   34.356250  29.725030   \n",
        "15     50.733333   51.966667  59.966667   \n",
        "571    47.983333   29.266667  37.266667   \n",
        "239    50.733333   51.966667  59.966667   \n",
        "559    54.914500   43.344500  37.850800   \n",
        "1418   52.324700   46.727700  41.837300   \n",
        "560    51.483333   24.800000  32.800000   \n",
        "1272   48.486900   38.287500  33.556300   \n",
        "950    47.500000   27.300000  35.300000   \n",
        "321    50.316667   44.366667  52.366667   \n",
        "1835   46.500000  180.000000  91.400000   \n",
        "1832   53.616667   35.850000  43.850000   \n",
        "\n",
        "                                                    url  \n",
        "849   http://api.geonames.org/search?type=json&usern...  \n",
        "1498  http://api.geonames.org/search?type=json&usern...  \n",
        "297   http://api.geonames.org/search?type=json&usern...  \n",
        "525   http://api.geonames.org/search?type=json&usern...  \n",
        "798   http://api.geonames.org/search?type=json&usern...  \n",
        "544   http://api.geonames.org/search?type=json&usern...  \n",
        "930   http://api.geonames.org/search?type=json&usern...  \n",
        "1012  http://api.geonames.org/search?type=json&usern...  \n",
        "305   http://api.geonames.org/search?type=json&usern...  \n",
        "15    http://api.geonames.org/search?type=json&usern...  \n",
        "571   http://api.geonames.org/search?type=json&usern...  \n",
        "239   http://api.geonames.org/search?type=json&usern...  \n",
        "559   http://api.geonames.org/search?type=json&usern...  \n",
        "1418  http://api.geonames.org/search?type=json&usern...  \n",
        "560   http://api.geonames.org/search?type=json&usern...  \n",
        "1272  http://api.geonames.org/search?type=json&usern...  \n",
        "950   http://api.geonames.org/search?type=json&usern...  \n",
        "321   http://api.geonames.org/search?type=json&usern...  \n",
        "1835  http://api.geonames.org/search?type=json&usern...  \n",
        "1832  http://api.geonames.org/search?type=json&usern...  \n",
        "\n",
        "[20 rows x 24 columns]"
       ]
      }
     ],
     "prompt_number": 25
    },
    {
     "cell_type": "code",
     "collapsed": false,
     "input": [
      "single_results.index=single_results.hgr_id\n",
      "sj = json.loads(single_results.to_json(orient='index'))"
     ],
     "language": "python",
     "metadata": {},
     "outputs": [],
     "prompt_number": 29
    },
    {
     "cell_type": "code",
     "collapsed": false,
     "input": [
      "sj"
     ],
     "language": "python",
     "metadata": {},
     "outputs": [
      {
       "metadata": {},
       "output_type": "pyout",
       "prompt_number": 30,
       "text": [
        "{'121': {'gname_fcodeName': 'populated place',\n",
        "  'gname_lat_y': '57.80841',\n",
        "  'gname_countryName': 'Russia',\n",
        "  'url': 'http://api.geonames.org/search?type=json&username=jaguillette&featureClass=P&east=24.8&name=%D0%92%D0%BE%D0%BB%D1%8B%D0%BD%D1%86%D1%8B&south=51.483333&north=59.483333&west=32.8&fuzzy=1',\n",
        "  'south_bound': 51.483333,\n",
        "  'gname_fcode': 'PPL',\n",
        "  'gname_fclName': 'city, village,...',\n",
        "  'gname_adminName1': 'Nizjnij Novgorod',\n",
        "  'gname_population': 0.0,\n",
        "  'gname_name': 'Volyntsy',\n",
        "  'north_bound': 59.483333,\n",
        "  'gname_countryId': '2017370',\n",
        "  'hgr_id': 121,\n",
        "  'gname_adminCode1': '51',\n",
        "  'gname_lat_x': 1,\n",
        "  'west_bound': 32.8,\n",
        "  'gname_toponymName': 'Volyntsy',\n",
        "  'gname_lng': '45.47827',\n",
        "  'gname_geonameId': 472245.0,\n",
        "  'fuzzy': 1.0,\n",
        "  'east_bound': 24.8,\n",
        "  'gname_fcl': 'P',\n",
        "  'gname_countryCode': 'RU',\n",
        "  'searched_name': '\u0412\u043e\u043b\u044b\u043d\u0446\u044b'},\n",
        " '416': {'gname_fcodeName': 'populated place',\n",
        "  'gname_lat_y': '51.1905',\n",
        "  'gname_countryName': 'Ukraine',\n",
        "  'url': 'http://api.geonames.org/search?type=json&username=jaguillette&featureClass=P&east=29.266666999999998&name=%D0%9C%D0%B0%D1%88%D0%B5%D0%B2&south=47.983333&north=55.983333&west=37.266667&fuzzy=1',\n",
        "  'south_bound': 47.983333,\n",
        "  'gname_fcode': 'PPL',\n",
        "  'gname_fclName': 'city, village,...',\n",
        "  'gname_adminName1': 'Volyn',\n",
        "  'gname_population': 0.0,\n",
        "  'gname_name': 'Mashiv',\n",
        "  'north_bound': 55.983333,\n",
        "  'gname_countryId': '690791',\n",
        "  'hgr_id': 416,\n",
        "  'gname_adminCode1': '24',\n",
        "  'gname_lat_x': 1,\n",
        "  'west_bound': 37.266667,\n",
        "  'gname_toponymName': 'Mashiv',\n",
        "  'gname_lng': '24.11994',\n",
        "  'gname_geonameId': 701638.0,\n",
        "  'fuzzy': 1.0,\n",
        "  'east_bound': 29.266667,\n",
        "  'gname_fcl': 'P',\n",
        "  'gname_countryCode': 'UA',\n",
        "  'searched_name': '\u041c\u0430\u0448\u0435\u0432'},\n",
        " '218': {'gname_fcodeName': 'populated place',\n",
        "  'gname_lat_y': '58.44937',\n",
        "  'gname_countryName': 'Russia',\n",
        "  'url': 'http://api.geonames.org/search?type=json&username=jaguillette&featureClass=P&east=114.0&name=%D0%95%D0%BD%D0%B8%D1%81%D0%B5%D0%B9%D1%81%D0%BA&south=53.98&north=77.44&west=50.85&fuzzy=1',\n",
        "  'south_bound': 53.98,\n",
        "  'gname_fcode': 'PPL',\n",
        "  'gname_fclName': 'city, village,...',\n",
        "  'gname_adminName1': 'Krasnoyarskiy',\n",
        "  'gname_population': 19920.0,\n",
        "  'gname_name': 'Yeniseysk',\n",
        "  'north_bound': 77.44,\n",
        "  'gname_countryId': '2017370',\n",
        "  'hgr_id': 218,\n",
        "  'gname_adminCode1': '91',\n",
        "  'gname_lat_x': 1,\n",
        "  'west_bound': 50.85,\n",
        "  'gname_toponymName': 'Yeniseysk',\n",
        "  'gname_lng': '92.17968',\n",
        "  'gname_geonameId': 1485997.0,\n",
        "  'fuzzy': 1.0,\n",
        "  'east_bound': 114.0,\n",
        "  'gname_fcl': 'P',\n",
        "  'gname_countryCode': 'RU',\n",
        "  'searched_name': '\u0415\u043d\u0438\u0441\u0435\u0439\u0441\u043a'},\n",
        " '713': {'gname_fcodeName': 'populated place',\n",
        "  'gname_lat_y': '54.4157',\n",
        "  'gname_countryName': 'Russia',\n",
        "  'url': 'http://api.geonames.org/search?type=json&username=jaguillette&featureClass=P&east=24.8&name=%D0%A3%D0%B7%D0%B5%D0%BB%D1%8C&south=51.483333&north=59.483333&west=32.8&fuzzy=1',\n",
        "  'south_bound': 51.483333,\n",
        "  'gname_fcode': 'PPL',\n",
        "  'gname_fclName': 'city, village,...',\n",
        "  'gname_adminName1': 'Mordoviya',\n",
        "  'gname_population': 0.0,\n",
        "  'gname_name': 'Krasnyy Uzel',\n",
        "  'north_bound': 59.483333,\n",
        "  'gname_countryId': '2017370',\n",
        "  'hgr_id': 713,\n",
        "  'gname_adminCode1': '46',\n",
        "  'gname_lat_x': 1,\n",
        "  'west_bound': 32.8,\n",
        "  'gname_toponymName': 'Krasnyy Uzel',\n",
        "  'gname_lng': '45.3525',\n",
        "  'gname_geonameId': 541369.0,\n",
        "  'fuzzy': 1.0,\n",
        "  'east_bound': 24.8,\n",
        "  'gname_fcl': 'P',\n",
        "  'gname_countryCode': 'RU',\n",
        "  'searched_name': '\u0423\u0437\u0435\u043b\u044c'},\n",
        " '338': {'gname_fcodeName': 'populated place',\n",
        "  'gname_lat_y': '52.4067',\n",
        "  'gname_countryName': 'Russia',\n",
        "  'url': 'http://api.geonames.org/search?type=json&username=jaguillette&featureClass=P&east=37.433333&name=%D0%9A%D1%80%D0%B0%D1%81%D0%BD%D0%BE%D0%B3%D0%BE%D1%80%D1%81%D0%BA%D0%B0%D1%8F&south=48.716667&north=56.716667&west=45.433333&fuzzy=1',\n",
        "  'south_bound': 48.716667,\n",
        "  'gname_fcode': 'PPL',\n",
        "  'gname_fclName': 'city, village,...',\n",
        "  'gname_adminName1': 'Orjol',\n",
        "  'gname_population': 0.0,\n",
        "  'gname_name': 'Krasnogorskaya',\n",
        "  'north_bound': 56.716667,\n",
        "  'gname_countryId': '2017370',\n",
        "  'hgr_id': 338,\n",
        "  'gname_adminCode1': '56',\n",
        "  'gname_lat_x': 1,\n",
        "  'west_bound': 45.433333,\n",
        "  'gname_toponymName': 'Krasnogorskaya',\n",
        "  'gname_lng': '35.8137',\n",
        "  'gname_geonameId': 542372.0,\n",
        "  'fuzzy': 1.0,\n",
        "  'east_bound': 37.433333,\n",
        "  'gname_fcl': 'P',\n",
        "  'gname_countryCode': 'RU',\n",
        "  'searched_name': '\u041a\u0440\u0430\u0441\u043d\u043e\u0433\u043e\u0440\u0441\u043a\u0430\u044f'},\n",
        " '412': {'gname_fcodeName': 'populated place',\n",
        "  'gname_lat_y': '57.5109',\n",
        "  'gname_countryName': 'Russia',\n",
        "  'url': 'http://api.geonames.org/search?type=json&username=jaguillette&featureClass=P&east=51.966667&name=%D0%9C%D0%B0%D1%81%D0%BB%D0%B5%D0%BD%D1%81%D0%BA%D0%B0%D1%8F&south=50.733333&north=58.733333&west=59.966667&fuzzy=1',\n",
        "  'south_bound': 50.733333,\n",
        "  'gname_fcode': 'PPL',\n",
        "  'gname_fclName': 'city, village,...',\n",
        "  'gname_adminName1': 'Kirov',\n",
        "  'gname_population': 0.0,\n",
        "  'gname_name': 'Maslenskaya',\n",
        "  'north_bound': 58.733333,\n",
        "  'gname_countryId': '2017370',\n",
        "  'hgr_id': 412,\n",
        "  'gname_adminCode1': '33',\n",
        "  'gname_lat_x': 1,\n",
        "  'west_bound': 59.966667,\n",
        "  'gname_toponymName': 'Maslenskaya',\n",
        "  'gname_lng': '47.766',\n",
        "  'gname_geonameId': 7770338.0,\n",
        "  'fuzzy': 1.0,\n",
        "  'east_bound': 51.966667,\n",
        "  'gname_fcl': 'P',\n",
        "  'gname_countryCode': 'RU',\n",
        "  'searched_name': '\u041c\u0430\u0441\u043b\u0435\u043d\u0441\u043a\u0430\u044f'},\n",
        " '301': {'gname_fcodeName': 'populated place',\n",
        "  'gname_lat_y': '51.8153',\n",
        "  'gname_countryName': 'Russia',\n",
        "  'url': 'http://api.geonames.org/search?type=json&username=jaguillette&featureClass=P&east=44.366667&name=%D0%9A%D0%BB%D1%8E%D1%87%D0%B5%D0%B2%D1%81%D0%BA%D0%B0%D1%8F&south=50.316667&north=58.316667&west=52.366667&fuzzy=1',\n",
        "  'south_bound': 50.316667,\n",
        "  'gname_fcode': 'PPL',\n",
        "  'gname_fclName': 'city, village,...',\n",
        "  'gname_adminName1': 'Kursk',\n",
        "  'gname_population': 0.0,\n",
        "  'gname_name': 'Nikol\u2019sko-Klyuchevskaya',\n",
        "  'north_bound': 58.316667,\n",
        "  'gname_countryId': '2017370',\n",
        "  'hgr_id': 301,\n",
        "  'gname_adminCode1': '41',\n",
        "  'gname_lat_x': 1,\n",
        "  'west_bound': 52.366667,\n",
        "  'gname_toponymName': 'Nikol\u2019sko-Klyuchevskaya',\n",
        "  'gname_lng': '38.0688',\n",
        "  'gname_geonameId': 521697.0,\n",
        "  'fuzzy': 1.0,\n",
        "  'east_bound': 44.366667,\n",
        "  'gname_fcl': 'P',\n",
        "  'gname_countryCode': 'RU',\n",
        "  'searched_name': '\u041a\u043b\u044e\u0447\u0435\u0432\u0441\u043a\u0430\u044f'},\n",
        " '783': {'gname_fcodeName': 'populated place',\n",
        "  'gname_lat_y': '54.97554',\n",
        "  'gname_countryName': 'Russia',\n",
        "  'url': 'http://api.geonames.org/search?type=json&username=jaguillette&featureClass=P&east=44.366667&name=%D0%A8%D0%BE%D0%BA%D0%B8%D0%BD%D0%BE&south=50.316667&north=58.316667&west=52.366667&fuzzy=1',\n",
        "  'south_bound': 50.316667,\n",
        "  'gname_fcode': 'PPL',\n",
        "  'gname_fclName': 'city, village,...',\n",
        "  'gname_adminName1': 'Smolensk',\n",
        "  'gname_population': 0.0,\n",
        "  'gname_name': 'Shokino',\n",
        "  'north_bound': 58.316667,\n",
        "  'gname_countryId': '2017370',\n",
        "  'hgr_id': 783,\n",
        "  'gname_adminCode1': '69',\n",
        "  'gname_lat_x': 1,\n",
        "  'west_bound': 52.366667,\n",
        "  'gname_toponymName': 'Shokino',\n",
        "  'gname_lng': '32.42612',\n",
        "  'gname_geonameId': 493870.0,\n",
        "  'fuzzy': 1.0,\n",
        "  'east_bound': 44.366667,\n",
        "  'gname_fcl': 'P',\n",
        "  'gname_countryCode': 'RU',\n",
        "  'searched_name': '\u0428\u043e\u043a\u0438\u043d\u043e'},\n",
        " '389': {'gname_fcodeName': 'seat of a second-order administrative division',\n",
        "  'gname_lat_y': '50.01625',\n",
        "  'gname_countryName': 'Ukraine',\n",
        "  'url': 'http://api.geonames.org/search?type=json&username=jaguillette&featureClass=P&east=34.35625&name=%D0%9B%D1%83%D0%B1%D0%BD%D1%8B&south=49.08008&north=51.49413&west=29.72503&fuzzy=1',\n",
        "  'south_bound': 49.08008,\n",
        "  'gname_fcode': 'PPLA2',\n",
        "  'gname_fclName': 'city, village,...',\n",
        "  'gname_adminName1': 'Poltava',\n",
        "  'gname_population': 52600.0,\n",
        "  'gname_name': 'Lubny',\n",
        "  'north_bound': 51.49413,\n",
        "  'gname_countryId': '690791',\n",
        "  'hgr_id': 389,\n",
        "  'gname_adminCode1': '18',\n",
        "  'gname_lat_x': 1,\n",
        "  'west_bound': 29.72503,\n",
        "  'gname_toponymName': 'Lubny',\n",
        "  'gname_lng': '32.99694',\n",
        "  'gname_geonameId': 702723.0,\n",
        "  'fuzzy': 1.0,\n",
        "  'east_bound': 34.35625,\n",
        "  'gname_fcl': 'P',\n",
        "  'gname_countryCode': 'UA',\n",
        "  'searched_name': '\u041b\u0443\u0431\u043d\u044b'},\n",
        " '796': {'gname_fcodeName': 'seat of a first-order administrative division',\n",
        "  'gname_lat_y': '62.03389',\n",
        "  'gname_countryName': 'Russia',\n",
        "  'url': 'http://api.geonames.org/search?type=json&username=jaguillette&featureClass=P&east=180&name=%D0%AF%D0%BA%D1%83%D1%82%D1%81%D0%BA&south=46.5&north=90&west=91.4&fuzzy=1',\n",
        "  'south_bound': 46.5,\n",
        "  'gname_fcode': 'PPLA',\n",
        "  'gname_fclName': 'city, village,...',\n",
        "  'gname_adminName1': 'Sakha',\n",
        "  'gname_population': 235600.0,\n",
        "  'gname_name': 'Yakutsk',\n",
        "  'north_bound': 90.0,\n",
        "  'gname_countryId': '2017370',\n",
        "  'hgr_id': 796,\n",
        "  'gname_adminCode1': '63',\n",
        "  'gname_lat_x': 1,\n",
        "  'west_bound': 91.4,\n",
        "  'gname_toponymName': 'Yakutsk',\n",
        "  'gname_lng': '129.73306',\n",
        "  'gname_geonameId': 2013159.0,\n",
        "  'fuzzy': 1.0,\n",
        "  'east_bound': 180.0,\n",
        "  'gname_fcl': 'P',\n",
        "  'gname_countryCode': 'RU',\n",
        "  'searched_name': '\u042f\u043a\u0443\u0442\u0441\u043a'},\n",
        " '378': {'gname_fcodeName': 'populated place',\n",
        "  'gname_lat_y': '56.77508',\n",
        "  'gname_countryName': 'Russia',\n",
        "  'url': 'http://api.geonames.org/search?type=json&username=jaguillette&featureClass=P&east=43.3445&name=%D0%9B%D0%B5%D0%B6%D0%BD%D0%B5%D0%B2%D0%BE&south=54.9145&north=57.246&west=37.8508&fuzzy=1',\n",
        "  'south_bound': 54.9145,\n",
        "  'gname_fcode': 'PPL',\n",
        "  'gname_fclName': 'city, village,...',\n",
        "  'gname_adminName1': 'Ivanovo',\n",
        "  'gname_population': 7977.0,\n",
        "  'gname_name': 'Lezhnevo',\n",
        "  'north_bound': 57.246,\n",
        "  'gname_countryId': '2017370',\n",
        "  'hgr_id': 378,\n",
        "  'gname_adminCode1': '21',\n",
        "  'gname_lat_x': 1,\n",
        "  'west_bound': 37.8508,\n",
        "  'gname_toponymName': 'Lezhnevo',\n",
        "  'gname_lng': '40.89174',\n",
        "  'gname_geonameId': 535366.0,\n",
        "  'fuzzy': 1.0,\n",
        "  'east_bound': 43.3445,\n",
        "  'gname_fcl': 'P',\n",
        "  'gname_countryCode': 'RU',\n",
        "  'searched_name': '\u041b\u0435\u0436\u043d\u0435\u0432\u043e'},\n",
        " '143': {'gname_fcodeName': 'populated place',\n",
        "  'gname_lat_y': '55.94667',\n",
        "  'gname_countryName': 'Russia',\n",
        "  'url': 'http://api.geonames.org/search?type=json&username=jaguillette&featureClass=P&east=43.3445&name=%D0%93%D0%B0%D0%B2%D1%80%D0%B8%D0%BB%D0%BE%D0%B2%D0%B0&south=54.9145&north=57.246&west=37.8508&fuzzy=1',\n",
        "  'south_bound': 54.9145,\n",
        "  'gname_fcode': 'PPL',\n",
        "  'gname_fclName': 'city, village,...',\n",
        "  'gname_adminName1': 'Moskovskaya',\n",
        "  'gname_population': 0.0,\n",
        "  'gname_name': 'Gavrilovo',\n",
        "  'north_bound': 57.246,\n",
        "  'gname_countryId': '2017370',\n",
        "  'hgr_id': 143,\n",
        "  'gname_adminCode1': '47',\n",
        "  'gname_lat_x': 1,\n",
        "  'west_bound': 37.8508,\n",
        "  'gname_toponymName': 'Gavrilovo',\n",
        "  'gname_lng': '38.58917',\n",
        "  'gname_geonameId': 561837.0,\n",
        "  'fuzzy': 1.0,\n",
        "  'east_bound': 43.3445,\n",
        "  'gname_fcl': 'P',\n",
        "  'gname_countryCode': 'RU',\n",
        "  'searched_name': '\u0413\u0430\u0432\u0440\u0438\u043b\u043e\u0432\u0430'},\n",
        " '803': {'gname_fcodeName': 'populated place',\n",
        "  'gname_lat_y': '58.5826',\n",
        "  'gname_countryName': 'Russia',\n",
        "  'url': 'http://api.geonames.org/search?type=json&username=jaguillette&featureClass=P&east=35.85&name=%D0%AF%D1%80%D0%BE%D1%81%D0%BB%D0%B0%D0%B2%D0%BB%D1%8C&south=53.616667&north=61.616667&west=43.85&fuzzy=1',\n",
        "  'south_bound': 53.616667,\n",
        "  'gname_fcode': 'PPL',\n",
        "  'gname_fclName': 'city, village,...',\n",
        "  'gname_adminName1': 'Kirov',\n",
        "  'gname_population': 0.0,\n",
        "  'gname_name': \"Yaroslavl'\",\n",
        "  'north_bound': 61.616667,\n",
        "  'gname_countryId': '2017370',\n",
        "  'hgr_id': 803,\n",
        "  'gname_adminCode1': '33',\n",
        "  'gname_lat_x': 1,\n",
        "  'west_bound': 43.85,\n",
        "  'gname_toponymName': 'Yaroslavl\u2019',\n",
        "  'gname_lng': '50.53756',\n",
        "  'gname_geonameId': 468891.0,\n",
        "  'fuzzy': 1.0,\n",
        "  'east_bound': 35.85,\n",
        "  'gname_fcl': 'P',\n",
        "  'gname_countryCode': 'RU',\n",
        "  'searched_name': '\u042f\u0440\u043e\u0441\u043b\u0430\u0432\u043b\u044c'},\n",
        " '566': {'gname_fcodeName': 'populated place',\n",
        "  'gname_lat_y': '56.96667',\n",
        "  'gname_countryName': 'Russia',\n",
        "  'url': 'http://api.geonames.org/search?type=json&username=jaguillette&featureClass=P&east=43.3445&name=%D0%9F%D1%83%D0%BF%D0%BA%D0%B8&south=54.9145&north=57.246&west=37.8508&fuzzy=1',\n",
        "  'south_bound': 54.9145,\n",
        "  'gname_fcode': 'PPL',\n",
        "  'gname_fclName': 'city, village,...',\n",
        "  'gname_adminName1': 'Ivanovo',\n",
        "  'gname_population': 0.0,\n",
        "  'gname_name': 'Pupki',\n",
        "  'north_bound': 57.246,\n",
        "  'gname_countryId': '2017370',\n",
        "  'hgr_id': 566,\n",
        "  'gname_adminCode1': '21',\n",
        "  'gname_lat_x': 1,\n",
        "  'west_bound': 37.8508,\n",
        "  'gname_toponymName': 'Pupki',\n",
        "  'gname_lng': '41.35',\n",
        "  'gname_geonameId': 504127.0,\n",
        "  'fuzzy': 1.0,\n",
        "  'east_bound': 43.3445,\n",
        "  'gname_fcl': 'P',\n",
        "  'gname_countryCode': 'RU',\n",
        "  'searched_name': '\u041f\u0443\u043f\u043a\u0438'},\n",
        " '498': {'gname_fcodeName': 'populated place',\n",
        "  'gname_lat_y': '52.9585',\n",
        "  'gname_countryName': 'Russia',\n",
        "  'url': 'http://api.geonames.org/search?type=json&username=jaguillette&featureClass=P&east=51.966667&name=%D0%9E%D1%80%D0%B5%D0%BD%D0%B1%D1%83%D1%80%D0%B3&south=50.733333&north=58.733333&west=59.966667&fuzzy=1',\n",
        "  'south_bound': 50.733333,\n",
        "  'gname_fcode': 'PPL',\n",
        "  'gname_fclName': 'city, village,...',\n",
        "  'gname_adminName1': 'Samara',\n",
        "  'gname_population': 0.0,\n",
        "  'gname_name': 'Novoorenburgskiy',\n",
        "  'north_bound': 58.733333,\n",
        "  'gname_countryId': '2017370',\n",
        "  'hgr_id': 498,\n",
        "  'gname_adminCode1': '65',\n",
        "  'gname_lat_x': 1,\n",
        "  'west_bound': 59.966667,\n",
        "  'gname_toponymName': 'Novoorenburgskiy',\n",
        "  'gname_lng': '49.4866',\n",
        "  'gname_geonameId': 7755096.0,\n",
        "  'fuzzy': 1.0,\n",
        "  'east_bound': 51.966667,\n",
        "  'gname_fcl': 'P',\n",
        "  'gname_countryCode': 'RU',\n",
        "  'searched_name': '\u041e\u0440\u0435\u043d\u0431\u0443\u0440\u0433'},\n",
        " '764': {'gname_fcodeName': 'populated place',\n",
        "  'gname_lat_y': '48.88417',\n",
        "  'gname_countryName': 'Russia',\n",
        "  'url': 'http://api.geonames.org/search?type=json&username=jaguillette&featureClass=P&east=27.3&name=%D0%A7%D0%B5%D1%80%D0%BD%D0%B8%D0%B3%D0%BE%D0%B2&south=47.5&north=55.5&west=35.3&fuzzy=1',\n",
        "  'south_bound': 47.5,\n",
        "  'gname_fcode': 'PPL',\n",
        "  'gname_fclName': 'city, village,...',\n",
        "  'gname_adminName1': 'Rostov',\n",
        "  'gname_population': 0.0,\n",
        "  'gname_name': 'Chernigov-Tokmachevskiy',\n",
        "  'north_bound': 55.5,\n",
        "  'gname_countryId': '2017370',\n",
        "  'hgr_id': 764,\n",
        "  'gname_adminCode1': '61',\n",
        "  'gname_lat_x': 1,\n",
        "  'west_bound': 35.3,\n",
        "  'gname_toponymName': 'Chernigov-Tokmachevskiy',\n",
        "  'gname_lng': '41.30472',\n",
        "  'gname_geonameId': 568842.0,\n",
        "  'fuzzy': 1.0,\n",
        "  'east_bound': 27.3,\n",
        "  'gname_fcl': 'P',\n",
        "  'gname_countryCode': 'RU',\n",
        "  'searched_name': '\u0427\u0435\u0440\u043d\u0438\u0433\u043e\u0432'},\n",
        " '734': {'gname_fcodeName': 'seat of a first-order administrative division',\n",
        "  'gname_lat_y': '49.98081',\n",
        "  'gname_countryName': 'Ukraine',\n",
        "  'url': 'http://api.geonames.org/search?type=json&username=jaguillette&featureClass=P&east=38.2875&name=%D0%A5%D0%B0%D1%80%D1%8C%D0%BA%D0%BE%D0%B2&south=48.4869&north=51.5689&west=33.5563&fuzzy=1',\n",
        "  'south_bound': 48.4869,\n",
        "  'gname_fcode': 'PPLA',\n",
        "  'gname_fclName': 'city, village,...',\n",
        "  'gname_adminName1': 'Kharkiv',\n",
        "  'gname_population': 1430885.0,\n",
        "  'gname_name': 'Kharkiv',\n",
        "  'north_bound': 51.5689,\n",
        "  'gname_countryId': '690791',\n",
        "  'hgr_id': 734,\n",
        "  'gname_adminCode1': '07',\n",
        "  'gname_lat_x': 1,\n",
        "  'west_bound': 33.5563,\n",
        "  'gname_toponymName': 'Kharkiv',\n",
        "  'gname_lng': '36.25272',\n",
        "  'gname_geonameId': 706483.0,\n",
        "  'fuzzy': 1.0,\n",
        "  'east_bound': 38.2875,\n",
        "  'gname_fcl': 'P',\n",
        "  'gname_countryCode': 'UA',\n",
        "  'searched_name': '\u0425\u0430\u0440\u044c\u043a\u043e\u0432'},\n",
        " '604': {'gname_fcodeName': 'seat of a first-order administrative division',\n",
        "  'gname_lat_y': '54.1838',\n",
        "  'gname_countryName': 'Russia',\n",
        "  'url': 'http://api.geonames.org/search?type=json&username=jaguillette&featureClass=P&east=46.7277&name=%D0%A1%D0%B0%D1%80%D0%B0%D0%BD%D1%81%D0%BA&south=52.3247&north=54.837&west=41.8373&fuzzy=1',\n",
        "  'south_bound': 52.3247,\n",
        "  'gname_fcode': 'PPLA',\n",
        "  'gname_fclName': 'city, village,...',\n",
        "  'gname_adminName1': 'Mordoviya',\n",
        "  'gname_population': 303394.0,\n",
        "  'gname_name': 'Saransk',\n",
        "  'north_bound': 54.837,\n",
        "  'gname_countryId': '2017370',\n",
        "  'hgr_id': 604,\n",
        "  'gname_adminCode1': '46',\n",
        "  'gname_lat_x': 1,\n",
        "  'west_bound': 41.8373,\n",
        "  'gname_toponymName': 'Saransk',\n",
        "  'gname_lng': '45.1749',\n",
        "  'gname_geonameId': 498698.0,\n",
        "  'fuzzy': 1.0,\n",
        "  'east_bound': 46.7277,\n",
        "  'gname_fcl': 'P',\n",
        "  'gname_countryCode': 'RU',\n",
        "  'searched_name': '\u0421\u0430\u0440\u0430\u043d\u0441\u043a'},\n",
        " '240': {'gname_fcodeName': 'seat of a second-order administrative division',\n",
        "  'gname_lat_y': '50.27985',\n",
        "  'gname_countryName': 'Ukraine',\n",
        "  'url': 'http://api.geonames.org/search?type=json&username=jaguillette&featureClass=P&east=38.2875&name=%D0%97%D0%BE%D0%BB%D0%BE%D1%87%D0%B5%D0%B2&south=48.4869&north=51.5689&west=33.5563&fuzzy=1',\n",
        "  'south_bound': 48.4869,\n",
        "  'gname_fcode': 'PPLA2',\n",
        "  'gname_fclName': 'city, village,...',\n",
        "  'gname_adminName1': 'Kharkiv',\n",
        "  'gname_population': 11160.0,\n",
        "  'gname_name': 'Zolochiv',\n",
        "  'north_bound': 51.5689,\n",
        "  'gname_countryId': '690791',\n",
        "  'hgr_id': 240,\n",
        "  'gname_adminCode1': '07',\n",
        "  'gname_lat_x': 1,\n",
        "  'west_bound': 33.5563,\n",
        "  'gname_toponymName': 'Zolochiv',\n",
        "  'gname_lng': '35.98179',\n",
        "  'gname_geonameId': 686895.0,\n",
        "  'fuzzy': 1.0,\n",
        "  'east_bound': 38.2875,\n",
        "  'gname_fcl': 'P',\n",
        "  'gname_countryCode': 'UA',\n",
        "  'searched_name': '\u0417\u043e\u043b\u043e\u0447\u0435\u0432'},\n",
        " '7': {'gname_fcodeName': 'populated place',\n",
        "  'gname_lat_y': '51.26667',\n",
        "  'gname_countryName': 'Netherlands',\n",
        "  'url': 'http://api.geonames.org/search?type=json&username=jaguillette&featureClass=P&east=37.433333&name=%D0%90%D0%BA%D1%81%D0%B5%D0%BB%D1%8C&south=48.716667&north=56.716667&west=45.433333&fuzzy=1',\n",
        "  'south_bound': 48.716667,\n",
        "  'gname_fcode': 'PPL',\n",
        "  'gname_fclName': 'city, village,...',\n",
        "  'gname_adminName1': 'Zeeland',\n",
        "  'gname_population': 8149.0,\n",
        "  'gname_name': 'Axel',\n",
        "  'north_bound': 56.716667,\n",
        "  'gname_countryId': '2750405',\n",
        "  'hgr_id': 7,\n",
        "  'gname_adminCode1': '10',\n",
        "  'gname_lat_x': 1,\n",
        "  'west_bound': 45.433333,\n",
        "  'gname_toponymName': 'Axel',\n",
        "  'gname_lng': '3.90833',\n",
        "  'gname_geonameId': 2759594.0,\n",
        "  'fuzzy': 1.0,\n",
        "  'east_bound': 37.433333,\n",
        "  'gname_fcl': 'P',\n",
        "  'gname_countryCode': 'NL',\n",
        "  'searched_name': '\u0410\u043a\u0441\u0435\u043b\u044c'}}"
       ]
      }
     ],
     "prompt_number": 30
    },
    {
     "cell_type": "code",
     "collapsed": false,
     "input": [
      "for k,v in sj.items():\n",
      "    market_db[k]['geo'] = {\"coded\":\"automated\"}\n",
      "    market_db[k]['geo'][\"country_code\"] = v['gname_countryCode']\n",
      "    market_db[k]['geo'][\"geonameId\"] = \"http://geonames.org/{}\".format(v['gname_geonameId'])\n",
      "    market_db[k]['geo'][\"pres_country\"] = v['gname_countryName']\n",
      "    market_db[k]['geo'][\"pres_loc\"] = \"{}, {}, {}\".format(v['gname_name'],v['gname_adminName1'],v['gname_countryName'])\n",
      "    market_db[k]['geo'][\"x_coord\"] = v['gname_lng']\n",
      "    market_db[k]['geo'][\"y_coord\"] = v['gname_lat_y']"
     ],
     "language": "python",
     "metadata": {},
     "outputs": [],
     "prompt_number": 32
    },
    {
     "cell_type": "code",
     "collapsed": false,
     "input": [
      "with open('output/enhanced_dataset.json','w',encoding='utf-8') as fp:\n",
      "    json.dump(market_db,fp,sort_keys=True,indent=2)"
     ],
     "language": "python",
     "metadata": {},
     "outputs": [],
     "prompt_number": 34
    },
    {
     "cell_type": "code",
     "collapsed": false,
     "input": [
      "single_results.name_modern_sp = single_results.name_modern_sp.str.title()"
     ],
     "language": "python",
     "metadata": {},
     "outputs": [],
     "prompt_number": 39
    },
    {
     "cell_type": "code",
     "collapsed": false,
     "input": [
      "single_results.to_csv('output/single_results.csv',encoding='utf-8')"
     ],
     "language": "python",
     "metadata": {},
     "outputs": [],
     "prompt_number": 41
    },
    {
     "cell_type": "code",
     "collapsed": false,
     "input": [
      "def reverse_geocode(lng,lat):\n",
      "    keepgoing = True\n",
      "    while keepgoing == True:\n",
      "        try:\n",
      "            url = \"https://maps.googleapis.com/maps/api/geocode/json\"\n",
      "            Q = {'latlng':\"{},{}\".format(lat,lng)}\n",
      "            R = requests.get(url, params=Q)\n",
      "            print(R.url)\n",
      "            geo_response = R.json()\n",
      "            locality = 'error'\n",
      "            for component in geo_response['results'][0]['address_components']:\n",
      "                if 'locality' in component['types']:\n",
      "                    locality = component['long_name']\n",
      "                elif 'administrative_area_level_1' in component['types']:\n",
      "                    admin1 = component['long_name']\n",
      "                elif 'country' in component['types']:\n",
      "                    country = component['long_name']\n",
      "                    countryCode = component['short_name']\n",
      "            if locality == 'error':\n",
      "                for component in geo_response['results'][0]['address_components']:\n",
      "                    if 'administrative_area_level_2' in component['types']:\n",
      "                        locality = component['long_name']\n",
      "            print(\"\\\"{0}, {1}\\\",\\\"{2}\\\",\\\"{3}\\\"\".format(locality,admin1,country,countryCode))\n",
      "            time.sleep(1)\n",
      "            keepgoing = False\n",
      "        except IndexError:\n",
      "            time.sleep(1)\n",
      "            continue\n",
      "        return \"{}, {}\".format(locality,admin1), country, countryCode"
     ],
     "language": "python",
     "metadata": {},
     "outputs": [],
     "prompt_number": 37
    },
    {
     "cell_type": "code",
     "collapsed": false,
     "input": [
      "single_results['pres_loc'], single_results['country'], single_results['country_code'] = np.vectorize(reverse_geocode)(single_results.lng,single_results.lat_y)"
     ],
     "language": "python",
     "metadata": {},
     "outputs": []
    },
    {
     "cell_type": "code",
     "collapsed": false,
     "input": [
      "single_results = single_results[['lat_x', 'hgr_id', 'name', 'alt_name', 'partof_id', 'lng', 'lat_y', '_type', 'source_url', 'text', 'name_modern_sp', 'lc_translit', 'pres_loc', 'country', 'country_code', 'result_placename', 'searched_placename', 'admin1', 'country_name', 'src_id', 'url', 'local_result', 'src', 'ru_prov', 'prov_modern_sp', 'prov_stem', 'ru_uezd', 'page']]"
     ],
     "language": "python",
     "metadata": {},
     "outputs": []
    }
   ],
   "metadata": {}
  }
 ]
}