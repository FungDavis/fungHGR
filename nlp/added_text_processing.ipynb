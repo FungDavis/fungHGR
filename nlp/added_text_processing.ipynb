{
 "cells": [
  {
   "cell_type": "markdown",
   "metadata": {},
   "source": [
    "Beginning of additional text processing\n",
    "=======================================\n",
    "This is to extract information unrelated to geocoding"
   ]
  },
  {
   "cell_type": "code",
   "execution_count": 81,
   "metadata": {
    "collapsed": false
   },
   "outputs": [],
   "source": [
    "import pandas as pd\n",
    "import numpy as np\n",
    "import time, re, json, requests, os, nltk\n",
    "verbose = False"
   ]
  },
  {
   "cell_type": "code",
   "execution_count": 82,
   "metadata": {
    "collapsed": false
   },
   "outputs": [],
   "source": [
    "#stemmer to find roots of words. Transformations like \"Толстого\" and \"Толстой\" to \"толст\",\n",
    "#to find different the same word or idea in different usages and cases.\n",
    "ru_stemmer = nltk.stem.SnowballStemmer('russian')"
   ]
  },
  {
   "cell_type": "code",
   "execution_count": 83,
   "metadata": {
    "collapsed": false
   },
   "outputs": [],
   "source": [
    "import os\n",
    "def Ensure_dir(d):\n",
    "    \"\"\"Makes sure a directory 'd' exists, and if it doesn't, it creates one.\"\"\"\n",
    "    if not os.path.exists(d):\n",
    "        os.makedirs(d)\n",
    "    return 0"
   ]
  },
  {
   "cell_type": "code",
   "execution_count": 84,
   "metadata": {
    "collapsed": false
   },
   "outputs": [],
   "source": [
    "#Orthography update function\n",
    "\n",
    "import re,json\n",
    "from lxml import html\n",
    "\n",
    "with open(\"../resources/special_cases.json\",'r',encoding='utf-8') as fp:\n",
    "    lookup_dict = json.load(fp)\n",
    "\n",
    "def ortho_rules(text,lookup_dict):\n",
    "    \"\"\"\n",
    "    Takes a text string and a lookup dict as input\n",
    "    Removes any lingering html tags\n",
    "    Breaks the string down into component words with split\n",
    "    Uses replacements to modernize orthography\n",
    "    Returns re-assembled text with modern orthography\n",
    "    \"\"\"\n",
    "    if type(text)==str:\n",
    "        text = html.fromstring(text).text_content()\n",
    "        textlist = text.split(' ')\n",
    "        out_list = []\n",
    "        for word in textlist:\n",
    "            if word in [',','.',';',':']:\n",
    "                out_list.append(word)\n",
    "                continue\n",
    "            punct = \"\"\n",
    "            if len(re.findall(r\"([,.;:])$\",word))!=0:\n",
    "                   punct = re.findall(r\"([,.;:])$\",word)[0]\n",
    "            word = word.strip(',.;:')\n",
    "            if word in lookup_dict:\n",
    "                word = lookup_dict[word]\n",
    "                out_list.append(word)\n",
    "            else:\n",
    "                word = re.sub(\"[Ъъ]$\",'',word)\n",
    "                word = re.sub(r\"^([че]{0,2}[ч]?[вбнр]?[веоаи])з([ПФКТШСЧпфктшсч])\",r\"\\1с\\2\",word,re.IGNORECASE)\n",
    "                word = re.sub(\"аго$\",\"ого\",word,re.IGNORECASE)\n",
    "                word = re.sub(\"яго$\",\"его\",word,re.IGNORECASE)\n",
    "                word = re.sub(\"ыя$\",\"ые\",word,re.IGNORECASE)\n",
    "                word = re.sub(\"iя$\",\"ие\",word,re.IGNORECASE)\n",
    "                word = word.replace('i','и') #english\n",
    "                word = word.replace('I','И') #english\n",
    "                word = word.replace('і','и') #cyrillic\n",
    "                word = word.replace('І','И') #cyrillic\n",
    "                word = word.replace('Ѣ','Е')\n",
    "                word = word.replace('ѣ','е')\n",
    "                word = word.replace('Ѳ','Ф')\n",
    "                word = word.replace('ѳ','ф')\n",
    "                word += punct\n",
    "                out_list.append(word)\n",
    "        out_str = ' '.join(out_list)\n",
    "        return out_str\n",
    "    else:\n",
    "        return None"
   ]
  },
  {
   "cell_type": "code",
   "execution_count": 85,
   "metadata": {
    "collapsed": false
   },
   "outputs": [],
   "source": [
    "cyrillic_translit={u'\\u0410': 'A', u'\\u0430': 'a',u'\\u0411': 'B', u'\\u0431': 'b',u'\\u0412': 'V', u'\\u0432': 'v',u'\\u0413': 'G', u'\\u0433': 'g',u'\\u0414': 'D', u'\\u0434': 'd',u'\\u0415': 'E', u'\\u0435': 'e',u'\\u0416': 'Zh', u'\\u0436': 'zh',u'\\u0417': 'Z', u'\\u0437': 'z',u'\\u0418': 'I', u'\\u0438': 'i',u'\\u0419': 'I', u'\\u0439': 'i',u'\\u041a': 'K', u'\\u043a': 'k',u'\\u041b': 'L', u'\\u043b': 'l',u'\\u041c': 'M', u'\\u043c': 'm',u'\\u041d': 'N', u'\\u043d': 'n',u'\\u041e': 'O', u'\\u043e': 'o',u'\\u041f': 'P', u'\\u043f': 'p',u'\\u0420': 'R', u'\\u0440': 'r',u'\\u0421': 'S', u'\\u0441': 's',u'\\u0422': 'T', u'\\u0442': 't',u'\\u0423': 'U', u'\\u0443': 'u',u'\\u0424': 'F', u'\\u0444': 'f',u'\\u0425': 'Kh', u'\\u0445': 'kh',u'\\u0426': 'Ts', u'\\u0446': 'ts',u'\\u0427': 'Ch', u'\\u0447': 'ch',u'\\u0428': 'Sh', u'\\u0448': 'sh',u'\\u0429': 'Shch', u'\\u0449': 'shch',u'\\u042a': '\"', u'\\u044a': '\"',u'\\u042b': 'Y', u'\\u044b': 'y',u'\\u042c': \"'\", u'\\u044c': \"'\",u'\\u042d': 'E', u'\\u044d': 'e',u'\\u042e': 'Iu', u'\\u044e': 'iu',u'\\u042f': 'Ia', u'\\u044f': 'ia',u'\\u0462': 'E', u'\\u0463': 'e'}\n",
    "\n",
    "def transliterate(word, translit_table):\n",
    "    \"\"\"\n",
    "    Transliterates 'word' based on the key/value pairs in 'translit_table'\n",
    "    \"\"\"\n",
    "    converted_word = ''\n",
    "    for char in word:\n",
    "        transchar = ''\n",
    "        if char in translit_table:\n",
    "            transchar = translit_table[char]\n",
    "        else:\n",
    "            transchar = char\n",
    "        converted_word += transchar\n",
    "    return converted_word"
   ]
  },
  {
   "cell_type": "markdown",
   "metadata": {},
   "source": [
    "Importing and updating data\n",
    "===========================\n",
    "Taking existing dataset, updating it with data from other rounds of text processing."
   ]
  },
  {
   "cell_type": "code",
   "execution_count": 86,
   "metadata": {
    "collapsed": false
   },
   "outputs": [],
   "source": [
    "import collections\n",
    "def update(d, u):\n",
    "    \"\"\"\n",
    "    Recursively updates d with values from u.\n",
    "    \"\"\"\n",
    "    for k, v in u.items():\n",
    "        if isinstance(v, collections.Mapping):\n",
    "            r = update(d.get(k, {}), v)\n",
    "            d[k] = r\n",
    "        else:\n",
    "            d[k] = u[k]\n",
    "    return d"
   ]
  },
  {
   "cell_type": "code",
   "execution_count": 87,
   "metadata": {
    "collapsed": false
   },
   "outputs": [],
   "source": [
    "with open(\"../output/enhanced_dataset.json\",\"r\",encoding='utf-8') as fp:\n",
    "    db = json.load(fp)"
   ]
  },
  {
   "cell_type": "code",
   "execution_count": 88,
   "metadata": {
    "collapsed": false
   },
   "outputs": [],
   "source": [
    "market_df = pd.DataFrame.from_csv(\"../output/process/no_geo.csv\")\n",
    "db = update(db,json.loads(market_df.to_json(orient='index')))"
   ]
  },
  {
   "cell_type": "code",
   "execution_count": 89,
   "metadata": {
    "collapsed": false
   },
   "outputs": [],
   "source": [
    "for i in db:\n",
    "    txt = db[i]['description_old_orth']\n",
    "    ftype = db[i]['featuretype_old_orth']\n",
    "    db[i]['description_new_orth'] = ortho_rules(txt,lookup_dict)\n",
    "    db[i]['featuretype_new_orth'] = ortho_rules(ftype,lookup_dict)"
   ]
  },
  {
   "cell_type": "code",
   "execution_count": 90,
   "metadata": {
    "collapsed": false
   },
   "outputs": [],
   "source": [
    "for k,v in db.items():\n",
    "    db[k]['name_new_orth_lc'] = transliterate(v['name_new_orth'],cyrillic_translit)\n",
    "    db[k]['name_old_orth_lc'] = transliterate(v['name_old_orth'],cyrillic_translit)\n",
    "    db[k]['featuretype_new_orth_lc'] = transliterate(v['featuretype_new_orth'],cyrillic_translit)\n",
    "    db[k]['featuretype_old_orth_lc'] = transliterate(v['featuretype_old_orth'],cyrillic_translit)"
   ]
  },
  {
   "cell_type": "markdown",
   "metadata": {},
   "source": [
    "Where are the goods and merchants coming from?\n",
    "==============================================\n",
    "This section looks for geographic relationships between the town in the entry and named towns that serve as trade partners."
   ]
  },
  {
   "cell_type": "code",
   "execution_count": 91,
   "metadata": {
    "collapsed": false
   },
   "outputs": [],
   "source": [
    "def ru_lang_to_list(liststr):\n",
    "    \"\"\"\n",
    "    takes a list of strings which may themselves be natural language lists in Russian\n",
    "    Returns list of items in list strings, flattened\n",
    "    \"\"\"\n",
    "    liststr = [a.split(' и ') for a in liststr]\n",
    "    liststr = [item for sublist in liststr for item in sublist]\n",
    "    liststr = [a.split(',') for a in liststr]\n",
    "    liststr = [item for sublist in liststr for item in sublist]\n",
    "    liststr = [a.strip() for a in liststr]\n",
    "    liststr = [a for a in liststr if len(a)!=0]\n",
    "    return liststr"
   ]
  },
  {
   "cell_type": "code",
   "execution_count": 92,
   "metadata": {
    "collapsed": false
   },
   "outputs": [],
   "source": [
    "def word_case_sent_finder(wordlist, case_exp, text):\n",
    "    \"\"\"\n",
    "    Finds all words matching case_exp in sentences containing words in wordlist that appear in text\n",
    "    \"\"\"\n",
    "    sent = nltk.tokenize.sent_tokenize(text)\n",
    "    sent_tok = [nltk.tokenize.wordpunct_tokenize(s) for s in sent]\n",
    "    returnlist = []\n",
    "    for s in sent_tok:\n",
    "        if any([v in s for v in wordlist]):\n",
    "            for w in s:\n",
    "                match = re.match(case_exp,w)\n",
    "                if match:\n",
    "                    returnlist.append(match.string)\n",
    "    return returnlist"
   ]
  },
  {
   "cell_type": "code",
   "execution_count": 93,
   "metadata": {
    "collapsed": false
   },
   "outputs": [],
   "source": [
    "for i in db:\n",
    "    txt = db[i]['description_new_orth']\n",
    "    merch_adj = {}\n",
    "    #merch_adj finds sequences of words ending in \"ские\" appearing in sentences that also contain \"купцы,\" or some variation thereof\n",
    "    #That is, it finds adjectives describing merchants, which in this text, means describing their geographic origins.\n",
    "    merch_adj1 = word_case_sent_finder(['купцам','Купцы','купцы','купцами','купцов','купечество'], r\"[А-Яа-я]+[цс]кие\", txt)\n",
    "    if len(merch_adj1)!=0:\n",
    "        merch_adj[1]=merch_adj1\n",
    "    #merch_adj2 just finds all of the different ways of saying \"merchants from nearby towns\"\n",
    "    #by finding all words between \"купцы из\" and \"городов\"\n",
    "    merch_adj2 = re.findall(r\"из\\s+((?:[а-яА-Я,]+\\s+)*?(?:городов|мест|с|;|всякие|всякой|малому|привозят|еженедельно|разной) )\",txt)\n",
    "    merch_adj2 = [a.strip() for a in merch_adj2]\n",
    "    merch_adj2 = [re.sub(r\"(?:с|;|всякие|всякой|малому|привозят|еженедельно|разной)$\",\"\",a) for a in merch_adj2]\n",
    "    merch_adj2 = ru_lang_to_list(merch_adj2)\n",
    "    merch_adj2 = [re.sub(r\"^из \",\"\",a) for a in merch_adj2]\n",
    "    if len(merch_adj2)!=0:\n",
    "        merch_adj[2]=merch_adj2\n",
    "    #merch_adj.extend(merch_adj2)\n",
    "    #merch_adj3 finds instances of merchants from named towns\n",
    "    #by finding words that come between \"купцы из\" and \"с\", and removing those phrases that end in городов or части\n",
    "    #it then separates out the individual towns, similar to merch_adj\n",
    "    #merch_adj3 = re.findall(r\"(?:купцам|Купцы|купцы|купцами|купцов|купечество)\\s+из\\s+((?:[а-яА-Я,]+\\s+)*?)(?:с|;) \",txt)\n",
    "    #merch_adj3 = [t.strip() for t in merch_adj3]\n",
    "    #merch_adj3 = [t for t in merch_adj3 if len(re.findall(r\"(?:городов|части)$\",t))==0]\n",
    "    #merch_adj3 = ru_lang_to_list(merch_adj3)\n",
    "    #merch_adj.extend(merch_adj3)\n",
    "    #merch_adj4 finds lists of towns from the style \"from towns... came merchants\", which occurs rarely\n",
    "    merch_adj4 = re.findall(r\"из\\s+((?:(?!из)[А-Яа-я,]+\\s+)*)(?:купцам|Купцы|купцы|купцами|купцов|купечество)\",txt)\n",
    "    merch_adj4 = ru_lang_to_list(merch_adj4)\n",
    "    merch_adj4 = [re.sub(r\" приезжают$\",\"\",a) for a in merch_adj4]\n",
    "    merch_adj4 = [re.sub(r\"^городов \",\"\",a) for a in merch_adj4]\n",
    "    if len(merch_adj4)!=0:\n",
    "        merch_adj[4]=merch_adj4\n",
    "    #merch_adj.extend(merch_adj4)\n",
    "    if len(merch_adj) != 0:\n",
    "        db[i]['merchants_from'] = merch_adj"
   ]
  },
  {
   "cell_type": "code",
   "execution_count": 94,
   "metadata": {
    "collapsed": false
   },
   "outputs": [],
   "source": [
    "from_counter = 0\n",
    "for i in db:\n",
    "    if 'merchants_from' in db[i]:\n",
    "        from_counter+=1\n",
    "        if verbose:\n",
    "            print(db[i]['txt_id'],db[i]['merchants_from'])"
   ]
  },
  {
   "cell_type": "code",
   "execution_count": 95,
   "metadata": {
    "collapsed": false
   },
   "outputs": [
    {
     "data": {
      "text/plain": [
       "282"
      ]
     },
     "execution_count": 95,
     "metadata": {},
     "output_type": "execute_result"
    }
   ],
   "source": [
    "from_counter"
   ]
  },
  {
   "cell_type": "markdown",
   "metadata": {},
   "source": [
    "What goods are being traded?\n",
    "============================\n",
    "This section uses lists of specific and generic descriptions of goods being traded and adds them to the db dict."
   ]
  },
  {
   "cell_type": "code",
   "execution_count": 96,
   "metadata": {
    "collapsed": false
   },
   "outputs": [],
   "source": [
    "with open(\"../resources/reverse_stem.json\",\"r\") as fp:\n",
    "    reverse_stem = json.load(fp)"
   ]
  },
  {
   "cell_type": "code",
   "execution_count": 97,
   "metadata": {
    "collapsed": false
   },
   "outputs": [],
   "source": [
    "with open(\"../resources/goods_lookup.json\",\"r\",encoding=\"utf-8\") as fp:\n",
    "    goods_lookup = json.load(fp)"
   ]
  },
  {
   "cell_type": "code",
   "execution_count": 98,
   "metadata": {
    "collapsed": false
   },
   "outputs": [],
   "source": [
    "def goods_finder(text,good):\n",
    "    \"\"\"\n",
    "    Finds `good` in `text` using reverse_stem dict loaded from json.\n",
    "    Returns `True` if good is found, else returns `False`\n",
    "    \"\"\"\n",
    "    if \" \" in good:\n",
    "        if good in text:\n",
    "            return True\n",
    "        else:\n",
    "            return False\n",
    "    else:\n",
    "        tokens = nltk.tokenize.wordpunct_tokenize(text)\n",
    "        tokens = [t.strip(',.;:') for t in tokens]\n",
    "        stem = ru_stemmer.stem(good)\n",
    "        #print(reverse_stem[stem])\n",
    "        if any([s in tokens for s in reverse_stem[stem]]):\n",
    "            return True\n",
    "        else:\n",
    "            return False"
   ]
  },
  {
   "cell_type": "code",
   "execution_count": 99,
   "metadata": {
    "collapsed": false
   },
   "outputs": [],
   "source": [
    "#goodslist = ['скот','небогатый','гвоздь','рогожами','льном','ярмарми','дуга','веревка','материя','ладоном','домовными','мелсчными','горшками','заморский','полотно','сахар','серебряный','тутошний','продажный','сапог','число','недорогой','овца','произрастание','еъестными','конский','воск','вино','крамными','сковорода','сеестными','ром','шелк','неводный','гумми','медкими','скотский','покроми','иностранный','семь','сено','ском','пенечными','мед','один','бумажный','железный','хлеб','пушной','платками','особливый','коими','ливом','холст','позумент','сало','чулками','парчами','коса','шелковый','лыками','суровскими','вещми','мясами','продукт','вино','овчина','обыватель','серебреный','галантерейный','знатный','роза','выбойками','красный','припас','свой','пиво','набойчатыми','рост','съестной','уездный','колеса','купецкими','котлами','гостиный','мелочьми','лес','немалый','табак','чими','нитка','прочий','рукодельный','ными','китайка','купецкими','рукоделие','хлебный','говяжий','произрастениями','знатный','лавочный','варами','мелочми','брусья','питейный','обыкновенный','который','суконный','кожа','житель','масло','бечевами','ободами','холст','привозный','лошадьми','сукно','хомут','замками','дробязком','сосуд','оловянный','шерстяной','щепетильный','приуготовлениями','саньми','крестьянский','лес','какой','привозимый','холетом','москотильными','мелочь','деревянный','нужный','меховой','сани','щепетинными','внутренний','медный','гарусный','деревенский','железо','мелочный','крестьянами','приезжий','харчевыми','уклад','мелкий','купеческий','издельями','каждый','надлежащий']\n",
    "spec_goodslist = ['ободами','саньми','сукно','выбойка','китайка','роза','лыками','коса','покроми','скотский','ладоном','дуга','скот','гвоздь','рогожами','льном','веревка','горшками','полотно','сахар','серебряный','сапог','овца','конский','воск','вино','сковорода','ром','шелк','гумми','сено','мед','хлеб','бумажный','железный','пушной','платками','холст','позумент','сало','чулками','парчами','шелковый','вино','овчина','серебреный','галантерейный','пиво','колеса','котлами','лес','табак','нитка','рукодельный','рукоделие','хлебный','говяжий','брусья','питейный','суконный','кожа','масло','бечевами','холст','лошадьми','хомут','замками','сосуд','оловянный','шерстяной','лес','меховой','сани','медный','гарусный','железо']\n",
    "#adding multi-word goods separately for more convenient editing\n",
    "spec_goodslist.extend(['красным товаром','Крымскую соль'])\n",
    "kind_goodslist = ['произрастание','нужный','надлежащими','харчевыми','приуготовлениями','суровскими','набойчатыми','припасами','москотильными','обыватель','произрастениями','мясами','тутошний','небогатый','домовными','заморский','продажный','недорогой','крамными','медкими','иностранный','особливый','ливом','знатный','съестной','уездный','купецкими','немалый','ными','купецкими','знатный','лавочный','обыкновенный','житель','привозный','щепетильный','крестьянский','мелочь','деревянный','внутренний','щепетинными','деревенский','мелочный','крестьянами','приезжий','мелкий']"
   ]
  },
  {
   "cell_type": "code",
   "execution_count": 100,
   "metadata": {
    "collapsed": false
   },
   "outputs": [],
   "source": [
    "#set(kind_goodslist + spec_goodslist)"
   ]
  },
  {
   "cell_type": "markdown",
   "metadata": {},
   "source": [
    "The next cell is where specific and general goods are extracted from the text and added to the dictionary db, which will ultimately become the dataset json file."
   ]
  },
  {
   "cell_type": "code",
   "execution_count": 101,
   "metadata": {
    "collapsed": false
   },
   "outputs": [],
   "source": [
    "for i in db:\n",
    "    sp_tempgoods = []\n",
    "    gen_tempgoods = []\n",
    "    for k,v in goods_lookup.items():\n",
    "        try:\n",
    "            if goods_finder(db[i]['description_new_orth'],k):\n",
    "                if v['kind'] == 'specific':\n",
    "                    sp_tempgoods.append(v['display'])\n",
    "                elif v['kind'] == 'general':\n",
    "                    gen_tempgoods.append(v['display'])\n",
    "                else:\n",
    "                    print(\"Kind not general or specific. Please edit kind key in json file.\")\n",
    "                    print(k,v)\n",
    "            if len(sp_tempgoods)!=0:\n",
    "                db[i]['specific_goods'] = sp_tempgoods\n",
    "            if len(gen_tempgoods)!=0:\n",
    "                db[i]['general_goods'] = gen_tempgoods\n",
    "        except KeyError:\n",
    "            print(good)"
   ]
  },
  {
   "cell_type": "code",
   "execution_count": 102,
   "metadata": {
    "collapsed": false
   },
   "outputs": [],
   "source": [
    "# Counts how many and can show which specific goods have been extracted.\n",
    "sg_counter = 0\n",
    "for i in db:\n",
    "    if 'specific_goods' in db[i]:\n",
    "        sg_counter+=1\n",
    "        if verbose:\n",
    "            print(db[i]['name_old_orth'],db[i]['specific_goods'])"
   ]
  },
  {
   "cell_type": "code",
   "execution_count": 103,
   "metadata": {
    "collapsed": false
   },
   "outputs": [
    {
     "data": {
      "text/plain": [
       "287"
      ]
     },
     "execution_count": 103,
     "metadata": {},
     "output_type": "execute_result"
    }
   ],
   "source": [
    "sg_counter"
   ]
  },
  {
   "cell_type": "markdown",
   "metadata": {},
   "source": [
    "Goods export\n",
    "============\n",
    "In this section the counts of what goods are traded where are collected and indexed by good, then by place, then exported to an Excel file."
   ]
  },
  {
   "cell_type": "code",
   "execution_count": 104,
   "metadata": {
    "collapsed": false
   },
   "outputs": [],
   "source": [
    "goodscount = {}\n",
    "for p in db:\n",
    "    if 'specific_goods' in db[p]:\n",
    "        for good in db[p]['specific_goods']:\n",
    "            if good not in goodscount:\n",
    "                goodscount[good]=1\n",
    "            else:\n",
    "                goodscount[good]+=1"
   ]
  },
  {
   "cell_type": "code",
   "execution_count": 105,
   "metadata": {
    "collapsed": true
   },
   "outputs": [],
   "source": [
    "spdf = pd.DataFrame.from_dict(goodscount,orient='index')\n",
    "spdf.columns = ['Counts']\n",
    "spdf = spdf.sort(columns='Counts',ascending=False)\n",
    "spdf = spdf.fillna(0)"
   ]
  },
  {
   "cell_type": "code",
   "execution_count": 106,
   "metadata": {
    "collapsed": false
   },
   "outputs": [],
   "source": [
    "spdf.to_excel(\"sp_goods.xlsx\",encoding='utf-8')\n",
    "spdf.to_csv(\"sp_goods.csv\",encoding='utf-8')"
   ]
  },
  {
   "cell_type": "markdown",
   "metadata": {},
   "source": [
    "for i in db:\n",
    "    tempgoods = []\n",
    "    for good in kind_goodslist:\n",
    "        try:\n",
    "            if goods_finder(db[i]['description_new_orth'],ru_stemmer.stem(good)):\n",
    "                if good in equiv_dict:\n",
    "                    good = equiv_dict[good]\n",
    "                tempgoods.append(good)\n",
    "            if len(tempgoods)!=0:\n",
    "                db[i]['general_goods'] = tempgoods\n",
    "        except KeyError:\n",
    "            print(good)"
   ]
  },
  {
   "cell_type": "code",
   "execution_count": 107,
   "metadata": {
    "collapsed": false
   },
   "outputs": [],
   "source": [
    "kg_counter = 0\n",
    "for i in db:\n",
    "    if 'general_goods' in db[i]:\n",
    "        kg_counter+=1\n",
    "        if verbose:\n",
    "            print(db[i]['name_old_orth'],db[i]['general_goods'])"
   ]
  },
  {
   "cell_type": "code",
   "execution_count": 108,
   "metadata": {
    "collapsed": false
   },
   "outputs": [
    {
     "data": {
      "text/plain": [
       "477"
      ]
     },
     "execution_count": 108,
     "metadata": {},
     "output_type": "execute_result"
    }
   ],
   "source": [
    "kg_counter"
   ]
  },
  {
   "cell_type": "code",
   "execution_count": 109,
   "metadata": {
    "collapsed": false
   },
   "outputs": [],
   "source": [
    "general_goodscount = {}\n",
    "for p in db:\n",
    "    if 'general_goods' in db[p]:\n",
    "        for good in db[p]['general_goods']:\n",
    "            if good not in general_goodscount:\n",
    "                general_goodscount[good]=1\n",
    "            else:\n",
    "                general_goodscount[good]+=1"
   ]
  },
  {
   "cell_type": "code",
   "execution_count": 110,
   "metadata": {
    "collapsed": true
   },
   "outputs": [],
   "source": [
    "gdf = pd.DataFrame.from_dict(general_goodscount,orient='index')\n",
    "gdf.columns = ['Counts']\n",
    "gdf = gdf.sort(columns='Counts',ascending=False)\n",
    "gdf = gdf.fillna(0)"
   ]
  },
  {
   "cell_type": "code",
   "execution_count": 111,
   "metadata": {
    "collapsed": false
   },
   "outputs": [],
   "source": [
    "gdf.to_excel(\"gen_goods.xlsx\",encoding='utf-8')"
   ]
  },
  {
   "cell_type": "code",
   "execution_count": 112,
   "metadata": {
    "collapsed": false
   },
   "outputs": [],
   "source": [
    "with open(\"../resources/partof_prov_bounds.json\",\"r\",encoding='utf-8') as fp:\n",
    "    partof_lookup = json.load(fp)"
   ]
  },
  {
   "cell_type": "code",
   "execution_count": 113,
   "metadata": {
    "collapsed": false
   },
   "outputs": [],
   "source": [
    "prov_sp_goods = {}\n",
    "for i in db:\n",
    "    if 'specific_goods' in db[i]:\n",
    "        if not pd.isnull(db[i]['admin1_partofID']) and db[i]['admin1_partofID'] != 'нот_ин_теxт':\n",
    "            partof_name = partof_lookup[str(float(db[i]['admin1_partofID']))]['name']\n",
    "        else:\n",
    "            partof_name = 'None'\n",
    "        if partof_name not in prov_sp_goods:\n",
    "            prov_sp_goods[partof_name] = {}\n",
    "        for good in db[i]['specific_goods']:\n",
    "            if good not in prov_sp_goods[partof_name]:\n",
    "                prov_sp_goods[partof_name][good] = 1\n",
    "            else:\n",
    "                prov_sp_goods[partof_name][good]+=1"
   ]
  },
  {
   "cell_type": "code",
   "execution_count": 114,
   "metadata": {
    "collapsed": false
   },
   "outputs": [],
   "source": [
    "sp_prov_df = pd.DataFrame.from_dict(prov_sp_goods)\n",
    "sp_prov_df = sp_prov_df[list(sp_prov_df.columns[::-1])]\n",
    "sp_prov_df['Total'] = sp_prov_df.sum(axis=1)\n",
    "sp_prov_df = sp_prov_df.sort(columns='Total',ascending=False)\n",
    "sp_prov_df = sp_prov_df.fillna(0)"
   ]
  },
  {
   "cell_type": "code",
   "execution_count": 115,
   "metadata": {
    "collapsed": false
   },
   "outputs": [],
   "source": [
    "sp_prov_df.to_excel('sp_by_prov.xlsx',encoding='utf-8')\n",
    "sp_prov_df.to_csv('sp_by_prov.csv',encoding='utf-8')"
   ]
  },
  {
   "cell_type": "code",
   "execution_count": 116,
   "metadata": {
    "collapsed": false
   },
   "outputs": [],
   "source": [
    "prov_k_goods = {}\n",
    "for i in db:\n",
    "    if 'general_goods' in db[i]:\n",
    "        if not pd.isnull(db[i]['admin1_partofID']) and db[i]['admin1_partofID'] != 'нот_ин_теxт':\n",
    "            partof_name = partof_lookup[str(float(db[i]['admin1_partofID']))]['name']\n",
    "        else:\n",
    "            partof_name = 'None'\n",
    "        if partof_name not in prov_k_goods:\n",
    "            prov_k_goods[partof_name] = {}\n",
    "        for good in db[i]['general_goods']:\n",
    "            if good not in prov_k_goods[partof_name]:\n",
    "                prov_k_goods[partof_name][good] = 1\n",
    "            else:\n",
    "                prov_k_goods[partof_name][good]+=1"
   ]
  },
  {
   "cell_type": "code",
   "execution_count": 117,
   "metadata": {
    "collapsed": true
   },
   "outputs": [],
   "source": [
    "gen_prov_df = pd.DataFrame.from_dict(prov_k_goods)\n",
    "gen_prov_df = gen_prov_df[gen_prov_df.columns[::-1]]\n",
    "gen_prov_df['Total'] = gen_prov_df.sum(axis=1)\n",
    "gen_prov_df = gen_prov_df.sort(columns='Total',ascending=False)\n",
    "gen_prov_df = gen_prov_df.fillna(0)"
   ]
  },
  {
   "cell_type": "code",
   "execution_count": 118,
   "metadata": {
    "collapsed": false
   },
   "outputs": [],
   "source": [
    "gen_prov_df.to_excel('gen_by_prov.xlsx',encoding='utf-8')\n",
    "gen_prov_df.to_csv('gen_by_prov.csv',encoding='utf-8')"
   ]
  },
  {
   "cell_type": "code",
   "execution_count": 119,
   "metadata": {
    "collapsed": false
   },
   "outputs": [
    {
     "name": "stdout",
     "output_type": "stream",
     "text": [
      "507\n"
     ]
    }
   ],
   "source": [
    "all_goods_count = 0\n",
    "for k,v in db.items():\n",
    "    if 'general_goods' in v or 'specific_goods' in v:\n",
    "        all_goods_count += 1\n",
    "print(all_goods_count)"
   ]
  },
  {
   "cell_type": "markdown",
   "metadata": {},
   "source": [
    "When are the markets?\n",
    "=====================\n",
    "Here we are looking for dates of markets, mostly explicit, calendar dates, but also dates that are implicit in religious holidays."
   ]
  },
  {
   "cell_type": "code",
   "execution_count": 120,
   "metadata": {
    "collapsed": false
   },
   "outputs": [],
   "source": [
    "import datetime\n",
    "def txt_to_datetime(month,day,year=1788):\n",
    "    monthdict = {'Генваря месяца':1,\"Генваря\":1,\"Февраля\":2,\"Марта\":3,\"Апреля\":4,\"Мая\":5,\"Июня\":6,\"Июля\":7,\"Августа\":8,\"Сентября\":9,\"Октября\":10,\"Ноября\":11,\"Декабря\":12,'Генваре':1,'Феврале':2,'Марте':3,'Апреле':4,'Маие':5,'Июне':6,'Июле':7,'Августе':8,'Сентябре':9,'Октябре':10,'Ноябре':11,'Декабре':12}\n",
    "    m = monthdict[month]\n",
    "    d = int(day)\n",
    "    date = datetime.date(year,m,d).strftime(\"%Y-%m-%d\")\n",
    "    return date"
   ]
  },
  {
   "cell_type": "code",
   "execution_count": 121,
   "metadata": {
    "collapsed": false
   },
   "outputs": [],
   "source": [
    "def date_range_finder(text,year=1788):\n",
    "    \"\"\"\n",
    "    Takes a text entry and uses a series of regexes to find start and end dates in given text\n",
    "    \"\"\"\n",
    "    monthlist = [\"Генваря\",\"Февраля\",\"Марта\",\"Апреля\",\"Мая\",\"Июня\",\"Июля\",\"Августа\",\"Сентября\",\"Октября\",\"Ноября\",\"Декабря\"]\n",
    "    remonth = \"|\".join(monthlist)\n",
    "    ranges = []\n",
    "    range1 = re.findall(r\"(с\\s+([0-9]+)\\s+({})\\s+по\\s+([0-9]+)\\s+({}))\".format(remonth,remonth),text)\n",
    "    if len(range1)!=0:\n",
    "        for r in range1:\n",
    "            temp = {'beg':txt_to_datetime(r[2],r[1]),'end':txt_to_datetime(r[4],r[3]),'text':r[0],'paschal':False}\n",
    "            ranges.append(temp)\n",
    "    range2 = re.findall(r\"(({})\\s+с\\s+([0-9]+)\\s+({})\\s+по\\s+([0-9]+))\".format(remonth,remonth),text)\n",
    "    if len(range2)!=0:\n",
    "        for r in range2:\n",
    "            temp = {'beg':txt_to_datetime(r[1],r[2]),'end':txt_to_datetime(r[3],r[4]),'text':r[0],'paschal':False}\n",
    "            ranges.append(temp)\n",
    "    range3 = re.findall(r\"(({})\\s+от\\s+([0-9]+)\\s+по\\s+([0-9]+))\".format(remonth,remonth),text)\n",
    "    if len(range3)!=0:\n",
    "        for r in range3:\n",
    "            temp = {'beg':txt_to_datetime(r[1],r[2]),'end':txt_to_datetime(r[1],r[3]),'text':r[0],'paschal':False}\n",
    "            ranges.append(temp)\n",
    "    return ranges"
   ]
  },
  {
   "cell_type": "code",
   "execution_count": 122,
   "metadata": {
    "collapsed": false
   },
   "outputs": [],
   "source": [
    "def single_date_finder(text):\n",
    "    \"\"\"\n",
    "    Finds single dates using various regexes and returns them as a list of date ranges\n",
    "    \"\"\"\n",
    "    monthlist = [\"Генваря\",\"Февраля\",\"Марта\",\"Апреля\",\"Мая\",\"Июня\",\"Июля\",\"Августа\",\"Сентября\",\"Октября\",\"Ноября\",\"Декабря\"]\n",
    "    remonth = \"|\".join(monthlist)\n",
    "    ranges = []\n",
    "    dates1 = re.findall(r\"(([0-9]+)\\s+(?:числа|день)?(?:\\s+)?({}))\".format(remonth),text)\n",
    "    if len(dates1)!=0:\n",
    "        for r in dates1:\n",
    "            test = re.findall(r\"([а-яА-Я0-9:,]+)\\s+([а-яА-Я0-9:,]+)\\s+{}\".format(r[0]),text)\n",
    "            if test[0] in monthlist and test[1] == 'с':\n",
    "                pass\n",
    "            else:\n",
    "                temp = {'beg':txt_to_datetime(r[2],r[1]),'end':txt_to_datetime(r[2],r[1]),'text':r[0],'paschal':False}\n",
    "                ranges.append(temp)\n",
    "    dates2 = re.findall(r\"(({})\\s+(?:по|от|на|с|в|месяца в)?(?:\\s+)?([0-9]+))\".format(remonth),text)\n",
    "    if len(dates2)!=0:\n",
    "        for r in dates2:\n",
    "            temp = {'beg':txt_to_datetime(r[1],r[2]),'end':txt_to_datetime(r[1],r[2]),'text':r[0],'paschal':False}\n",
    "            ranges.append(temp)\n",
    "    return(ranges)"
   ]
  },
  {
   "cell_type": "code",
   "execution_count": 123,
   "metadata": {
    "collapsed": false
   },
   "outputs": [],
   "source": [
    "import calendar\n",
    "def month_finder(text,year=1788):\n",
    "    \"\"\"\n",
    "    Finds mentions of months in nominative form, returns date ranges for the whole month\n",
    "    \"\"\"\n",
    "    nom_monthdict = {'Генваря месяца':1,'Генваре':1,'Феврале':2,'Марте':3,'Апреле':4,'Маие':5,'Июне':6,'Июле':7,'Августе':8,'Сентябре':9,'Октябре':10,'Ноябре':11,'Декабре':12}\n",
    "    months = re.findall(r\"({})\".format(\"|\".join(nom_monthdict.keys())),text)\n",
    "    ranges = []\n",
    "    for m in months:\n",
    "        temp = {'beg':txt_to_datetime(m,1),'end':txt_to_datetime(m,calendar.monthrange(year,nom_monthdict[m])[1]),'text':m,'paschal':False}\n",
    "        ranges.append(temp)\n",
    "    return ranges"
   ]
  },
  {
   "cell_type": "code",
   "execution_count": 124,
   "metadata": {
    "collapsed": false
   },
   "outputs": [],
   "source": [
    "for i in db:\n",
    "    if 'fair_dates' in db[i]:\n",
    "        db[i].pop('fair_dates')\n",
    "    ranges = date_range_finder(db[i]['description_new_orth'])\n",
    "    ranges1 = single_date_finder(db[i]['description_new_orth'])\n",
    "    if len(ranges)!=0 and len(ranges1)!=0:\n",
    "        to_rm = []\n",
    "        for ind1 in range(0,len(ranges1)):\n",
    "            for ind in range(0,len(ranges)):\n",
    "                if ranges[ind]['beg'] == ranges1[ind1]['beg']:\n",
    "                    to_rm.append(ranges1[ind1])\n",
    "                elif ranges[ind]['end'] == ranges1[ind1]['end']:\n",
    "                    to_rm.append(ranges1[ind1])\n",
    "        for p in to_rm:\n",
    "            ranges1.remove(p)\n",
    "    ranges.extend(ranges1)\n",
    "    ranges2 = month_finder(db[i]['description_new_orth'])\n",
    "    ranges.extend(ranges2)\n",
    "    if len(ranges)!=0:\n",
    "        db[i]['fair_dates']=ranges\n",
    "        if verbose:\n",
    "            print(db[i]['description_new_orth'])\n",
    "            for r in db[i]['fair_dates']:\n",
    "                if r['beg']==r['end']:\n",
    "                    print(r['end'])\n",
    "                else:\n",
    "                    print(\"{} to {}\".format(r['beg'],r['end']))\n",
    "            print()"
   ]
  },
  {
   "cell_type": "code",
   "execution_count": 125,
   "metadata": {
    "collapsed": false
   },
   "outputs": [],
   "source": [
    "easter = datetime.date(1788,4,16) #This is in a Julian calendar, which is 11 days behind the Gregorian"
   ]
  },
  {
   "cell_type": "markdown",
   "metadata": {},
   "source": [
    "def movable_feast(name,easter=datetime.date(1788,4,16)):\n",
    "    \"\"\"\n",
    "    Takes name of feast, looks it up in stored lookup dict, returns date range relative to given date of easter.\n",
    "    Always returns dict with beginning and end, even for single day holidays.\n",
    "    \"\"\"\n",
    "    with open(\"../holidays.json\",\"r\",encoding='utf-8') as fp:\n",
    "        lookup = json.load(fp)\n",
    "    if name in lookup:\n",
    "        offset = lookup[name]\n",
    "        if type(offset) == int:\n",
    "            date = easter + datetime.timedelta(days=offset)\n",
    "            date = date.strftime(\"%Y-%m-%d\")\n",
    "            val = {'beg':date,'end':date,'text':name}\n",
    "        elif type(offset) == list:\n",
    "            date1 = easter + datetime.timedelta(days=offset[0])\n",
    "            date1 = date1.strftime(\"%Y-%m-%d\")\n",
    "            date2 = easter + datetime.timedelta(days=offset[1])\n",
    "            date2 = date2.strftime(\"%Y-%m-%d\")\n",
    "            val = {'beg':date1,'end':date2,'text':name}\n",
    "        else:\n",
    "            print(\"The value of {} in the lookup dict is neither list nor int. Fix plz.\".format(name))\n",
    "            val = None\n",
    "    else:\n",
    "        print(\"\\\"{}\\\" was not found in the lookup dict. Add it and rerun.\".format(name))\n",
    "        val = None\n",
    "    return val"
   ]
  },
  {
   "cell_type": "code",
   "execution_count": 126,
   "metadata": {
    "collapsed": false
   },
   "outputs": [],
   "source": [
    "with open(\"../resources/holiday_regex.json\",\"r\",encoding='utf-8') as fp:\n",
    "    holiday = json.load(fp)"
   ]
  },
  {
   "cell_type": "code",
   "execution_count": 127,
   "metadata": {
    "collapsed": false
   },
   "outputs": [],
   "source": [
    "easter = datetime.date(1788,4,16)\n",
    "for k,v in db.items():\n",
    "    for n,i in holiday.items():\n",
    "        exps = i['expression']\n",
    "        t = v['description_new_orth']\n",
    "        for r in exps:\n",
    "            found = re.findall(r,t,re.IGNORECASE)\n",
    "            if len(found)!=0:\n",
    "                temp = {\"text\":\"|\".join(found)}\n",
    "                dates = i['dates']\n",
    "                if type(dates)==str:\n",
    "                    temp['beg'] = \"1788-{}\".format(dates)\n",
    "                    temp['end'] = \"1788-{}\".format(dates)\n",
    "                    temp['paschal'] = False\n",
    "                elif type(dates) == int:\n",
    "                    temp['beg'] = (easter + datetime.timedelta(dates)).strftime(\"%Y-%m-%d\")\n",
    "                    temp['end'] = (easter + datetime.timedelta(dates)).strftime(\"%Y-%m-%d\")\n",
    "                    temp['paschal'] = True\n",
    "                elif type(dates) == list:\n",
    "                    if type(dates[0])==str:\n",
    "                        temp['beg'] = \"1788-{}\".format(dates[0])\n",
    "                        temp['end'] = \"1788-{}\".format(dates[1])\n",
    "                        temp['paschal'] = False\n",
    "                    elif type(dates[0])==int:\n",
    "                        temp['beg'] = (easter + datetime.timedelta(dates[0])).strftime(\"%Y-%m-%d\")\n",
    "                        temp['end'] = (easter + datetime.timedelta(dates[1])).strftime(\"%Y-%m-%d\")\n",
    "                        temp['paschal'] = True\n",
    "                    else:\n",
    "                        print(\"These dates are a list of {}, when they should be int or str. Fix plz.\\n{} at holiday {}\".format(type(dates[0]),dates,n))\n",
    "                else:\n",
    "                    print(\"These dates are of  type {}, when they should be int, str, or list. Fix plz.\\n{} at holiday {}\".format(type(dates[0]),dates,n))\n",
    "                if 'fair_dates' not in v:\n",
    "                    db[k]['fair_dates'] = []\n",
    "                db[k]['fair_dates'].append(temp)"
   ]
  },
  {
   "cell_type": "code",
   "execution_count": 128,
   "metadata": {
    "collapsed": false
   },
   "outputs": [],
   "source": [
    "def date_overlap(date_list1,date_list2,string=True):\n",
    "    \"\"\"\n",
    "    Checks if beginning and end dates in date_list1 overlap with those of date_list2\n",
    "    The string flag indicates whether datetime objects or ISO 8601 date strings are being passed\n",
    "    \"\"\"\n",
    "    if string:\n",
    "        date_list1 = [datetime.datetime.strptime(s,\"%Y-%m-%d\") for s in date_list1]\n",
    "        date_list2 = [datetime.datetime.strptime(s,\"%Y-%m-%d\") for s in date_list2]\n",
    "    if date_list1[0]>=date_list2[0] and date_list1[0]<=date_list2[1]:\n",
    "        return True\n",
    "    elif date_list1[1]>=date_list2[0] and date_list1[1]<=date_list2[1]:\n",
    "        return True\n",
    "    else:\n",
    "        return False"
   ]
  },
  {
   "cell_type": "code",
   "execution_count": 129,
   "metadata": {
    "collapsed": false
   },
   "outputs": [],
   "source": [
    "def overlap_check(fair_date_list):\n",
    "    \"\"\"\n",
    "    Takes a list of fair dates from data structure as input. Checks if any dates overlap, and if they do, selects the\n",
    "    date with the shortest text justifying it to be removed.\n",
    "    Returns a list of indices to be removed from list of fair date dictionaires.\n",
    "    \"\"\"\n",
    "    to_remove = []\n",
    "    for x, left in enumerate(fair_date_list):\n",
    "        for y, right in enumerate(fair_date_list):\n",
    "            if x==y:\n",
    "                continue\n",
    "            else:\n",
    "                temp1 = [left['beg'],left['end']]\n",
    "                temp2 = [right['beg'],right['end']]\n",
    "                if date_overlap(temp1,temp2):\n",
    "                    if len(re.findall(r\"[0-9]+\",left['text']))!=0:\n",
    "                        to_remove.append(y)\n",
    "                    elif len(re.findall(r\"[0-9]+\",right['text']))!=0:\n",
    "                        to_remove.append(x)\n",
    "                    elif len(left['text']) > len(right['text']):\n",
    "                        to_remove.append(y)\n",
    "                    elif len(left['text']) < len(right['text']):\n",
    "                        to_remove.append(x)\n",
    "                    else:\n",
    "                        print(\"Why do the dates for {} and {} overlap? The phrases are the same length.\".format(left['text'],right['text']))\n",
    "    to_remove = list(set(to_remove))\n",
    "    to_remove.sort(reverse=True)\n",
    "    return to_remove"
   ]
  },
  {
   "cell_type": "code",
   "execution_count": 130,
   "metadata": {
    "collapsed": false
   },
   "outputs": [],
   "source": [
    "for k,v in db.items():\n",
    "    if 'fair_dates' in v:\n",
    "        o = overlap_check(v['fair_dates'])\n",
    "        if len(o)>0:\n",
    "            for i in o:\n",
    "                v['fair_dates'].pop(i)\n",
    "                if verbose:\n",
    "                    print(\"{} removed.\".format(v['fair_dates'][i]))\n",
    "                    print(v['description_new_orth'])\n",
    "                    print(v['fair_dates'])\n",
    "                    print()"
   ]
  },
  {
   "cell_type": "code",
   "execution_count": 131,
   "metadata": {
    "collapsed": false
   },
   "outputs": [],
   "source": [
    "for k,v in db.items():\n",
    "    if 'fair_dates' in v and len(v['fair_dates'])==0:\n",
    "        print(v)"
   ]
  },
  {
   "cell_type": "code",
   "execution_count": 132,
   "metadata": {
    "collapsed": false
   },
   "outputs": [
    {
     "name": "stdout",
     "output_type": "stream",
     "text": [
      "28: АХТЫРКА , город Харьковского Наместничества; в нем бывает четыре ярмарки: первая о всеедной неделе, вторая Мая 9, третия Июля четвертая Октября 28 дня; купцы приезжают из раз ных городов, привозят парчи , шелковые материи и серебро в деле; торгуют также скотом , лошадьми и прочим.\n",
      "1788-05-09\t\t\ttext: Мая 9\n",
      "1788-10-28\t\t\ttext: Октября 28\n",
      "1788-02-06 to 1788-02-12\ttext: всеедной неделе\n",
      "\n",
      "584: РОМЕН, город Черниговского Наместничества. В оном бывает в год четыре ярмарки : первая о Масляной неделе, вторая в день Вознесения , третия на день Пророка Илии, четвертая в день Собора Архистратига Михаила. Сюда приезжают купцы Великороссийские , Малороссийские и иностранные с шелковыми, бумажными , гарусными , серебреными , медными , оловянными, галантерейными и прочими товарами , а особливо великой торг и отпуск бывает отсюда табаку.\n",
      "1788-05-25\t\t\ttext: Вознесения\n",
      "1788-11-08\t\t\ttext: Архистратига Михаила\n",
      "1788-11-21\t\t\ttext: день Собора Архистратига Михаила\n",
      "1788-02-21 to 1788-02-27\ttext: Масляной\n",
      "1788-07-20\t\t\ttext: Пророка Илии\n",
      "\n",
      "236: ЗИНКОВ, или ЗЕНКОВ, город Черниговского Наместничества. В оном бывает в год четыре ярмарки : первая Июня 25 , в день С. Иоанна Крестителя , вторая 15 Августа , в день успения Пресвятые Богородицы, третия Октября 1, в день Покрова Пресвятые Богородицы , четвертая Декабря 6, в день Святителя Николая. На оных торгуют разным скотом, хлебом и съестными припасами. Здесь бывают и еженедельные торжки в понедельник и пяток, и торгуют на оных хлебом.\n",
      "1788-08-15\t\t\ttext: 15 Августа\n",
      "1788-06-25\t\t\ttext: Июня 25\n",
      "1788-10-01\t\t\ttext: Октября 1\n",
      "1788-12-06\t\t\ttext: Декабря 6\n",
      "1788-06-24\t\t\ttext: Иоанна Крестителя\n",
      "\n",
      "12: АЛЕКСЕЕВКА, слобода Графа Шереметева, в Воронежском Наместничестве около слободы же Усерда. Здесь бывает в год четыре ярмарки: первая на день Алексия человека Божия, вторая о Троицкой неделе , третия в Воздвижение честного Креста, четвертая на день святых мученик Космы и Дамиана Ноября 1 дня; иностранных купцов не бывает, а приезжают Российские с разными товарами.\n",
      "1788-11-01\t\t\ttext: Ноября 1\n",
      "1788-06-04 to 1788-06-10\ttext: Троицкой неделе\n",
      "1788-03-17\t\t\ttext: Алексия человека Божия\n",
      "\n",
      "496: ОПОШНОЕ, местечко Черниговского Наместничества в Гадяцком уезде. В оном бывает в году четыре ярмарки : первая в неделю Фомину, вторая в десятую пятницу, третия Августа 6, в день Преображения Господня, четвертая Октября 29, в день Св. Димитрия ; на оных торгуют разным скотом, хлебом и съестными припасами. Здесь бывают еженедельные торжки в понедельник и пяток, и торгуют большею частию хлебом.\n",
      "1788-08-06\t\t\ttext: Августа 6\n",
      "1788-10-29\t\t\ttext: Октября 29\n",
      "1788-06-23\t\t\ttext: десятую пятницу\n",
      "1788-04-23 to 1788-04-29\ttext: неделю Фомину\n",
      "1788-10-26\t\t\ttext: Димитрия\n",
      "\n"
     ]
    }
   ],
   "source": [
    "for k,v in db.items():\n",
    "    if len(re.findall(r\"четыре ярмарки\",v['description_new_orth']))!=0 and 'fair_dates' in db[k] and len(v['fair_dates'])!=4:\n",
    "        print(\"{}: {}\".format(k,v['description_new_orth']))\n",
    "        for d in v['fair_dates']:\n",
    "            if d['beg']==d['end']:\n",
    "                print(\"{}\\t\\t\\ttext: {}\".format(d['beg'],d['text']))\n",
    "            else:\n",
    "                print(\"{} to {}\\ttext: {}\".format(d['beg'],d['end'],d['text']))\n",
    "        print()"
   ]
  },
  {
   "cell_type": "code",
   "execution_count": 133,
   "metadata": {
    "collapsed": false
   },
   "outputs": [],
   "source": [
    "temp = []\n",
    "for k,v in db.items():\n",
    "    if 'fair_dates' not in db[k]:\n",
    "        temp.append([k,len(v['description_new_orth']),v['description_new_orth']])"
   ]
  },
  {
   "cell_type": "code",
   "execution_count": 134,
   "metadata": {
    "collapsed": false
   },
   "outputs": [],
   "source": [
    "pd.DataFrame(temp).to_csv(\"no_fair.csv\",encoding='utf-8')"
   ]
  },
  {
   "cell_type": "code",
   "execution_count": 135,
   "metadata": {
    "collapsed": false
   },
   "outputs": [],
   "source": [
    "counter = 0\n",
    "for k,v in db.items():\n",
    "    if 'fair_dates' in v and any(s in v for s in ['specific_goods','general_goods']) and 'geo' not in v:\n",
    "        if verbose:\n",
    "            print(k, v['description_new_orth'])\n",
    "            print()\n",
    "        counter += 1"
   ]
  },
  {
   "cell_type": "code",
   "execution_count": 136,
   "metadata": {
    "collapsed": false
   },
   "outputs": [
    {
     "data": {
      "text/plain": [
       "139"
      ]
     },
     "execution_count": 136,
     "metadata": {},
     "output_type": "execute_result"
    }
   ],
   "source": [
    "counter"
   ]
  },
  {
   "cell_type": "code",
   "execution_count": 137,
   "metadata": {
    "collapsed": false
   },
   "outputs": [
    {
     "data": {
      "text/plain": [
       "237"
      ]
     },
     "execution_count": 137,
     "metadata": {},
     "output_type": "execute_result"
    }
   ],
   "source": [
    "counter = 0\n",
    "for k,v in db.items():\n",
    "    if 'fair_dates' in v and any(s in v for s in ['specific_goods','general_goods']) and 'geo' in v:\n",
    "        counter += 1\n",
    "counter"
   ]
  },
  {
   "cell_type": "code",
   "execution_count": 138,
   "metadata": {
    "collapsed": false
   },
   "outputs": [],
   "source": [
    "temp = []\n",
    "for k,v in db.items():\n",
    "    if 'geo' not in v:\n",
    "        temp.append([k,len(v['description_new_orth']),v['description_new_orth'],v['admin1_old_orth'],v['admin2_old_orth'],v['featuretype_old_orth']])\n",
    "long_not_found = pd.DataFrame(temp).sort(columns=1,ascending=False)"
   ]
  },
  {
   "cell_type": "code",
   "execution_count": 139,
   "metadata": {
    "collapsed": false
   },
   "outputs": [],
   "source": [
    "long_not_found.to_csv(\"../output/process/long_not_found.csv\",encoding='utf-8')"
   ]
  },
  {
   "cell_type": "code",
   "execution_count": 140,
   "metadata": {
    "collapsed": false
   },
   "outputs": [
    {
     "data": {
      "text/plain": [
       "'КИТАЙСКОЙ, острог в Екатеринбургском Горном ведомстве. Здесь напред сего бывала великая ярмарка на день Богоявления Господня, на которую съезжалось множество купцов из Сибири и из Россия , а особливо из Казани чрез Уфу по тому, что тогда большая дорога из Казани в Сибирь была чрез Уфу и чрез оной Катайской острог; но с построения Екатеринбурга сия Катайская ярмарка пресеклась по тому, что уже большая дорога проложена чрез сей город.'"
      ]
     },
     "execution_count": 140,
     "metadata": {},
     "output_type": "execute_result"
    }
   ],
   "source": [
    "db['281']['description_new_orth']"
   ]
  },
  {
   "cell_type": "code",
   "execution_count": 141,
   "metadata": {
    "collapsed": false
   },
   "outputs": [],
   "source": [
    "dates_counter = 0\n",
    "for k,v in db.items():\n",
    "    if 'fair_dates' in v:\n",
    "        dates_counter +=1\n",
    "        if verbose:\n",
    "            print(v['description_new_orth'])\n",
    "            for d in v['fair_dates']:\n",
    "                if d['beg']==d['end']:\n",
    "                    print(\"{}\\t\\t\\ttext: {}\".format(d['beg'],d['text']))\n",
    "                else:\n",
    "                    print(\"{} to {}\\ttext: {}\".format(d['beg'],d['end'],d['text']))\n",
    "            print()"
   ]
  },
  {
   "cell_type": "code",
   "execution_count": 142,
   "metadata": {
    "collapsed": false
   },
   "outputs": [
    {
     "data": {
      "text/plain": [
       "525"
      ]
     },
     "execution_count": 142,
     "metadata": {},
     "output_type": "execute_result"
    }
   ],
   "source": [
    "dates_counter"
   ]
  },
  {
   "cell_type": "code",
   "execution_count": 143,
   "metadata": {
    "collapsed": false
   },
   "outputs": [],
   "source": [
    "def juli_to_greg(date,string=True,offset=11):\n",
    "    \"\"\"\n",
    "    Converts ISO-8601 date string from Julian calendar format to current, Gregorian Date\n",
    "    Set string to false if providing datetime.date objects\n",
    "    offset is how many days to adjust Julian Calendar forward.\n",
    "    \"\"\"\n",
    "    if string:\n",
    "        date = datetime.datetime.strptime(date,\"%Y-%m-%d\")\n",
    "    greg_date = date + datetime.timedelta(offset)\n",
    "    if greg_date.year != date.year:\n",
    "        greg_date = datetime.datetime.strptime(\"{}-{}\".format(date.year,greg_date.strftime(\"%m-%d\")),\"%Y-%m-%d\")\n",
    "    if string:\n",
    "        return greg_date.strftime(\"%Y-%m-%d\")\n",
    "    else:\n",
    "        return greg_date"
   ]
  },
  {
   "cell_type": "code",
   "execution_count": 144,
   "metadata": {
    "collapsed": false
   },
   "outputs": [],
   "source": [
    "from dateutil import rrule"
   ]
  },
  {
   "cell_type": "code",
   "execution_count": 145,
   "metadata": {
    "collapsed": false
   },
   "outputs": [],
   "source": [
    "weekdays1788 = [[],[],[],[],[],[],[]]\n",
    "for r in rrule.rrule(rrule.DAILY,dtstart=datetime.datetime(1788,1,1),until=datetime.datetime(1788,12,31)):\n",
    "    d = juli_to_greg(r,string=False)\n",
    "    lookup = {0:\"monday\",1:\"tuesday\",2:\"wednesday\",3:\"thursday\",4:\"friday\",5:\"saturday\",6:\"sunday\"}\n",
    "    weekdays1788[d.weekday()].append(r.strftime(\"%Y-%m-%d\"))"
   ]
  },
  {
   "cell_type": "code",
   "execution_count": 146,
   "metadata": {
    "collapsed": false
   },
   "outputs": [],
   "source": [
    "def alternify(word):\n",
    "    \"\"\"Not easily movable. Returns a list of all alternate forms of a word based on its stemmed form and all other words appearing \n",
    "    in the text that stem to the same form.\"\"\"\n",
    "    alternates = reverse_stem[ru_stemmer.stem(word)]\n",
    "    return alternates"
   ]
  },
  {
   "cell_type": "code",
   "execution_count": 147,
   "metadata": {
    "collapsed": false
   },
   "outputs": [],
   "source": [
    "def words_in_sent(wordlist,sent_str,alter=True):\n",
    "    if alter:\n",
    "        wordlist = [\"|\".join(alternify(w)) for w in wordlist]\n",
    "    if all([len(re.findall(r\"(?:{})\".format(w),sent_str))!=0 for w in wordlist]):\n",
    "        return True\n",
    "    else:\n",
    "        return False"
   ]
  },
  {
   "cell_type": "code",
   "execution_count": 148,
   "metadata": {
    "collapsed": false
   },
   "outputs": [],
   "source": [
    "def every_weekday(ru_lookup_day,weekday_int,text,verbose=False):\n",
    "    for part in re.split(r\"[:;]\",text):\n",
    "        for s in nltk.tokenize.sent_tokenize(part):\n",
    "            if words_in_sent([ru_lookup_day,\"еженедельные\"],s):\n",
    "                if verbose:\n",
    "                    print(s)\n",
    "                return weekdays1788[weekday_int]\n",
    "            elif words_in_sent([ru_lookup_day,\"каждонедельно\"],s):\n",
    "                if verbose:\n",
    "                    print(s)\n",
    "                return weekdays1788[weekday_int]\n",
    "    return None"
   ]
  },
  {
   "cell_type": "code",
   "execution_count": 149,
   "metadata": {
    "collapsed": false
   },
   "outputs": [],
   "source": [
    "def date_to_entry(date,text,string=True,weekly=False):\n",
    "    if not string:\n",
    "        date = date.strftime(\"%Y-%m-%d\")\n",
    "    entry = {}\n",
    "    entry['beg'] = date\n",
    "    entry['end'] = date\n",
    "    entry['text'] = text\n",
    "    if weekly:\n",
    "        entry['weekly'] = True\n",
    "    return entry"
   ]
  },
  {
   "cell_type": "code",
   "execution_count": 150,
   "metadata": {
    "collapsed": false
   },
   "outputs": [],
   "source": [
    "trade_count = 0\n",
    "ru_weekdays = [(\"пятницам\",4),('понедельник',0),('пяток',4),('Воскресяньям',6),('Воскресеньям',6),('вторник',1),('среда',2),('четверг',3),('суббота',5)]\n",
    "for k,v in db.items():\n",
    "    found = False\n",
    "    for d in ru_weekdays:\n",
    "        wkd = every_weekday(d[0],d[1],v['description_new_orth'])\n",
    "        if wkd:\n",
    "            found=True\n",
    "            #if 'fair_dates' not in v:\n",
    "                #v['fair_dates'] = []\n",
    "            for day in wkd:\n",
    "                #v['fair_dates'].append(date_to_entry(day,\"еженедельные {}\".format(d[0]),weekly=True))\n",
    "                pass\n",
    "            if verbose:\n",
    "                print(v['description_new_orth'])\n",
    "                print(d[0])\n",
    "                print()\n",
    "    if found:\n",
    "        trade_count+=1"
   ]
  },
  {
   "cell_type": "code",
   "execution_count": 151,
   "metadata": {
    "collapsed": false
   },
   "outputs": [
    {
     "data": {
      "text/plain": [
       "43"
      ]
     },
     "execution_count": 151,
     "metadata": {},
     "output_type": "execute_result"
    }
   ],
   "source": [
    "trade_count"
   ]
  },
  {
   "cell_type": "code",
   "execution_count": 152,
   "metadata": {
    "collapsed": false
   },
   "outputs": [],
   "source": [
    "all_goods = 0\n",
    "for k,v in db.items():\n",
    "    if 'specific_goods' in v or 'general_goods' in v:\n",
    "        all_goods+=1"
   ]
  },
  {
   "cell_type": "code",
   "execution_count": 153,
   "metadata": {
    "collapsed": false
   },
   "outputs": [],
   "source": [
    "goods_and_dates = 0\n",
    "for k,v in db.items():\n",
    "    if ('specific_goods' in v or 'general_goods' in v) and 'fair_dates' in v:\n",
    "        goods_and_dates+=1"
   ]
  },
  {
   "cell_type": "code",
   "execution_count": 154,
   "metadata": {
    "collapsed": false
   },
   "outputs": [],
   "source": [
    "dates_counter = 0\n",
    "for k,v in db.items():\n",
    "    if 'fair_dates' in v:\n",
    "        dates_counter+=1"
   ]
  },
  {
   "cell_type": "code",
   "execution_count": 155,
   "metadata": {
    "collapsed": false
   },
   "outputs": [
    {
     "name": "stdout",
     "output_type": "stream",
     "text": [
      "Out of 802 total entries:\n",
      "282 have some description of where goods are coming from / going to\n",
      "287 have descriptions of specific traded goods\n",
      "477 have descriptions of general kinds of traded goods\n",
      "507 have descriptions of goods of any kind\n",
      "525 have specific dates associated with the fairs\n",
      "376 have both fair dates and some description of goods\n"
     ]
    }
   ],
   "source": [
    "print(\"Out of {} total entries:\\n{} have some description of where goods are coming from / going to\\n{} have descriptions of specific traded goods\\n{} have descriptions of general kinds of traded goods\\n{} have descriptions of goods of any kind\\n{} have specific dates associated with the fairs\\n{} have both fair dates and some description of goods\".format(len(db),from_counter,sg_counter,kg_counter,all_goods,dates_counter,goods_and_dates))"
   ]
  },
  {
   "cell_type": "code",
   "execution_count": 156,
   "metadata": {
    "collapsed": false
   },
   "outputs": [
    {
     "data": {
      "text/plain": [
       "'ПЛОХОНА, село Калужскаго Намѣстничества въ уѣздѣ города Козельска. Здѣсь бываютъ каждонедѣльные торжки по воскресеньямъ; на оные торги пріѣзжаетъ купечество изъ Калуги, Мещовска, Волхова, Бѣлева и другихъ городовъ; привозятъ товары москотильные, нѣсколько бумажныхъ, шелковыхъ и другихъ сортовъ матерій , а по большей части и уѣздные товары, всякой хлѣбъ, пеньку, масло , ленъ , воскъ , вощину , парусную уточную пряжу, холстъ льняной, посконной и прочія крестьянскія рукодѣлія и другіе мѣлочные товары.'"
      ]
     },
     "execution_count": 156,
     "metadata": {},
     "output_type": "execute_result"
    }
   ],
   "source": [
    "db['539']['description_old_orth']"
   ]
  },
  {
   "cell_type": "markdown",
   "metadata": {},
   "source": [
    "for e in db:\n",
    "    temp_goodslist = word_case_sent_finder(['приезжают','привозят','торгуют','съежаются','скупают','покупают'],r\"[а-яА-Я]+(?:ми|ом)$\",db[e]['description_new_orth'])\n",
    "    goodsfrom = [g for g in temp_goodslist if re.match(r\"^[А-Я]\",g)]\n",
    "    goodskinds = [g for g in temp_goodslist if re.match(r\"^[а-я]\",g)]\n",
    "    removelist = ['купеческими','издельями','каждом','какими','привозимыми','котором','чими','своими','продуктами','коими','пенечными','семи','оном','товарами','товаром','вещами','всякими','другими','другом','ими','различными','разными','торгом','том','числом','неводными']\n",
    "    for i in removelist:\n",
    "        if i in goodskinds:\n",
    "            goodskinds.remove(i)\n",
    "    if len(goodsfrom)!=0:\n",
    "        db[e]['goodsfrom']=goodsfrom\n",
    "    if len(goodskinds)!=0:\n",
    "        db[e]['goodskinds'] = goodskinds"
   ]
  },
  {
   "cell_type": "markdown",
   "metadata": {},
   "source": [
    "counter=0\n",
    "for e in db:\n",
    "    if 'goodskinds' in db[e]:\n",
    "        print(db[e]['goodskinds'])\n",
    "        counter += 1"
   ]
  },
  {
   "cell_type": "code",
   "execution_count": 157,
   "metadata": {
    "collapsed": false
   },
   "outputs": [],
   "source": [
    "#counter"
   ]
  },
  {
   "cell_type": "code",
   "execution_count": null,
   "metadata": {
    "collapsed": true
   },
   "outputs": [],
   "source": []
  },
  {
   "cell_type": "code",
   "execution_count": 158,
   "metadata": {
    "collapsed": false
   },
   "outputs": [],
   "source": [
    "with open(\"../output/enhanced_dataset.json\",\"w\",encoding='utf-8') as fp:\n",
    "    json.dump(db,fp,indent=2,sort_keys=True)"
   ]
  },
  {
   "cell_type": "code",
   "execution_count": 159,
   "metadata": {
    "collapsed": false
   },
   "outputs": [],
   "source": [
    "geojson = {\"features\":[],\"type\":\"FeatureCollection\"}\n",
    "for k,v in db.items():\n",
    "    if 'geo' in v:\n",
    "        feature = {\"geometry\":{'coordinates':[v['geo']['x_coord'],v['geo']['y_coord']],\"type\":\"Point\"},\"type\":\"Feature\"}\n",
    "        feature['properties'] = v\n",
    "        geojson['features'].append(feature)"
   ]
  },
  {
   "cell_type": "code",
   "execution_count": 160,
   "metadata": {
    "collapsed": false
   },
   "outputs": [],
   "source": [
    "with open(\"../output/enhanced_dataset.geojson\",\"w\",encoding='utf-8') as fp:\n",
    "    json.dump(geojson,fp,sort_keys=True)"
   ]
  },
  {
   "cell_type": "code",
   "execution_count": 161,
   "metadata": {
    "collapsed": false
   },
   "outputs": [
    {
     "name": "stdout",
     "output_type": "stream",
     "text": [
      "123|ВОРОНЕЖ, главный город Наместничества сего имени. В нем, кроме еженедельных по понедельникам , середам и пятницам торгов , бывают в году две ярмарки: первая в городе о десятой пятнице , а последняя при слободе Чижовке в 29 день Августа.\n",
      "60|БОЙНЯ, река Тверского Наместничества. На устье оной в уезде города Зубцова бывают в году две ярмарки: первая 20 Июля , в день Пророка Илии, вторая Августа 6, в день Преображения. Купцы приезжают из окрестных ближних городов с мелочными лавочными шелковыми , бумажными и прочими товарами.\n",
      "557|ПОШЕХОНЬ, город Ярославского Наместничества. Здесь , кроме еженедельного торгу по вторникам , ярмарка бывает 1 на праздник Святые Троицы , 2 в Сентябре на праздник Иоанна Богослова, на которые приезжают купцы из прикосновенных городов , Ярославля , Романова , Углича и Вологды с разными товарами , и торгуют по неделе.\n",
      "470|НОВОЕЗЕРСКОЙ КИРИЛОВ, монастырь Новогородского Наместничества в уезде города Белозерска. Здесь бывает годовая ярмарка Марта 17, называемая Алексеевская. Сюда съезжаются разных Российских городов купцы для торгу.\n",
      "503|ОСТАПЬЕ, местечко Киевского Наместничества в Миргородском уезде. В оном бывает в год четыре ярмарки : первая Генваря 30, вторая Апреля 21, третия Июня 24, четвертая Сентября 20 ; торгуют на оных приезжие из уезду жители разными мелочными товарами , там родящимися, как - то хлебом , горячим вином, разным скотом , овчинами, кожами и проч. иногда приезжают и Великороссийские купцы с красным товаром. Здесь бывают также и еженедельные торжки.\n",
      "232|ЗАРУБИНО, село Иркутского Наместничества в уезде города Киренска. Ярмарка бывает здесь в Июне месяце; купцы приезжают из ближних городов с разными мелочными товарами; торгуют также лошадьми, рогатым скотом и прочим.\n",
      "711|УГЛИЧ, с 1777 году город Ярославского Наместничества. Здесь бывают две ярмарки: первая Июля 8 , три дни,вторая Декабря 26 чисел, один день; на оные приезжают купцы из Ярославля, Кашина и Переславля-Залеского с шелковыми, бумажными, москотильными и прочими товарами; а из уезду съезжается крестьянство с льняным и хряще вым холстом, с мясами, кожами и салом. Да и в уезде оного бывают годовые торжки в одинадцати селах, а ярмарки в четырех, а именно: Прилуках, Рожествене, Кею и Некоузе; торгуют приезжие из Углича, Кашина и Бежецка купцы мелкими москотильными и шелковыми товарами; самижь покупают хлеб, холст, пряжу, шерсть и шерстяные сукна, масло, а зимою свиные и говяжьи мяса, боевые кожи и сало.\n",
      "666|СТЫРНЯНЬИ, местечко Полотского Наместничества в Динабургском уезде. В сем месте бывают в году две ярмарки, на коих торгуют Рижского Дворца крестьяне разными мелочными товарами, вином и пивом.\n",
      "135|ВЫШГОРОД , пригород Псковского Наместничества. В оном бывает в году две ярмарки : первая в день Бориса и Глеба, а другая в день Рождества Иоанна Предтечи.\n",
      "346|КРАСНОСЛОБОДСК , город Пензенского Наместничества. В оном бывает одна в году ярмарка на осьмой неделе по Пасхе в пяток. Купцы приезжают из ближних городов с шелковыми, бумажными , москотильными и прочими разными в небольшем числе товарами ; большеюжь частию приезжают крестьяне с своими припасами.\n",
      "622|СЕРДОБОЛЬ , с 1784 году город Выборгского Наместничества. В оном издавна ежегодно бывает ярмарка в Генваре месяце, на которую, кроме Россиан, съезжаются Российские и Шведские Фины и Корелы с шкурками куниц, выдр, норек , рысей и проч.\n",
      "210|ДЕДИНОВО, село Московской Губернии в уезде города Коломны. В нем имеется два ряда, из которых в одном торгуют сестными припасами, а в другом в бывающий еженедельно в пятницу торг продается тамошним обывателям привозимой из Коломны разной щепетильной товар, и из разных деревень всякой хлеб.\n",
      "174|ГРЕМЯЧЕВ, слобода Тульского Наместничества в Белевском уезде. В оной бывает две годовые ярмарки : первая в день праздника Преполовения, вторая в первый день Петрова поста; на оные приезжают купцы из ближних городов с разными мелочными для крестьянства товарами.\n",
      "579|РОГАЧЕВ, город Могилевского Наместничества. В оном бывает в году четыре ярмарки.\n",
      "636|СЛАВГОРОДКА , слобода около города Вольного. В оной бывает шесть в году ярмарок: первая Генваря 7, вторая Апреля 23 , третия Июля 25, четвертая Августа 1 , пятая Ноября 21, шестая на Сырной неделе. Купцы приезжают на оные из окрестных городов, торгуют сукнами, шелковыми, бумажными и набойчатыми товарами, полотном, железом, посудою и прочим.\n",
      "164|ГОРИЦЫ , село Тверского Наместничества в Кашинском уезде. В оном торжки бывают по вся недели по воскресным дням ; товары привозят из уезду холсты льняные разные, да из городов Ярославля, Переславля Залеского и Углича приезжают купцы с мелочными всякими небогатыми товарами.\n",
      "193|ДМИТРОВСКАЯ, крепость Екатеринославского Наместничества. В оной бывает в году три ярмарки.\n",
      "678|ТАРУСА, с 1777 году город Калужского Наместничества. В оном бывает годовая ярмарка в день Святых Апосгпол Петра и Павла ; приезжают на оную купцы с мелкими товарами и съестными из ближних городов Серпухова и Алексина, а уездные люди с крестьянскими припасами.\n",
      "293|КИРСАНОВ, город Тамбовского Наместничества. В нем бывают в году две ярмарки: одна в первой день Петрова поста, а другая Июля 20 дня, на которые приезжают из ближайших городов с мелочным товаром.\n",
      "7|АКСЕЛЬ, село Тамбовского Наместничества в Темниковском уезде. Здесь бывает годовая ярмарка, сверх еженедельных торгов, в одинадцатую пятницу по Пасхе; купцы сюда приезжают из ближних городов с шелковыми и бумажными товарами, хлебом и прочими припасами.\n",
      "516|ПЕНЗА, главный город Наместничества сего имени. В нем бывает в году две ярмарки: первая по Пасхе на седьмой неделе в четверг, вторая в день С. Апостолов Петра и Павла.\n",
      "764|ЧЕРНИГОВ, с 1782 году главный город Наместничества сего имени. В оном бывает в году четыре ярмарки : первая называемая Проко-фиевская, Июля с 8; вторая называемая Евстафиевская, Сентября с 20; третия называемая Богоявленская, Генваря с 7 числа, и продолжаются каждая по неделе, и четвертый съезд после Светлого Воскресения в десятую пятницу. Торгуют на оных многими разными товарами приезжие из Великороссийских и Малороссийских городов купцы большею частию Рос-сийскими продуктами ; купечество же города отправляет тамошния произрастения и привозимые на ярмарки рукоделья в разные Российские города в немалом количестве, а особливо по рекам Десне и Днепру.\n",
      "766|ЧЕРНУХИ, местечко Черниговского Наместничества. В нем бывает в году четыре ярмарки: первая в день Святые Троицы, другая Августа 15, третия Декабря 6, четвертая великого поста на пятой неделе ; торг бывает привозимыми из уездов товарами, какъ-то салом, рыбою, дегтем горячим вином, нагольными овчинами , шубами , говяжьими кожами, печеным хлебом, съестными припасами и другими мелочными товарами.\n",
      "280|КАСИМОВ, город того же Наместничества. В нем ярмарка бывает Июля 8 дня; на оной торгуют приходящие для богомолия в Казанской девичий монастырь.\n",
      "410|МАНГАЗЕЯ, или ТУРУХАНСК, город Тобольского Наместничества. В сем городе бывает ярмарка в летнее время в Июне и Июле месяцах; торги бывают с Великороссийскими и Сибирскими разных городов купцами покупкою всяких уловленных зверей Сибирских и продажею мелочных товаров Российских.\n",
      "303|КОБЫЗЧА, местечко Киевского Наместничества и уезду. Здезь бывает в году три ярмарки , на которые съезжаетья купечество из близ лежащих Малороссийских городов, и бывает продажа мелкого лавочного товару , горячого вина , рыбы , соли , разного хлеба , скота и прочого.\n",
      "789|ЮНАКОВКА , село Харьковского Наместничества в Сумском уезде. Здесь бывает в году четыре ярмарки; на оные купцы приезжают с мелочными товарами и с горячим вином.\n",
      "196|ДОНКОВ, город Рязанского Наместничества. Бывают здесь две в году ярмарки : первая в пятницу десятой , вторая в пятницу второй надесять недели по Пасхе. Приезжают на оные купцы с разными мелочными товарами.\n",
      "615|СЕБЕЖ, с 1778 году город Полотского Наместничества. В сем городе бывает ь году четыре ярмарки: первая в день Богоявления, вторая в первую неделю великого поста, третия Августа 1 , четвертая Апреля 23 дня.\n",
      "742|ХОПЕРСК, с 1780 году город Саратовского Наместничества. В оном еженедельной бывает торг.\n",
      "574|РАТСБУРГ, отчина Меньшикова в Екатеринославском Наместничестве. Здесь бывают две ярмарки , а именно : первая Троицкая, которая прежде была в Лебединском Троицком монастыре , и переведена в тое отчину; а другая в той же отчине Покровская , Октября и дня ; да сверх того бывают понедельные и временные торжки , на кои приезжают из ближних городов купцы и из уездов крестьяне с хлебом и прочею мелочью.\n",
      "326|КОРОП, город Новогородского - Северского Наместничества. Здесь бывают в году три ярмарки: первая в неделю Мытаря и Фарисея , вторая о Сошествии Святого Духа, третия Сентября 20 дня; на оные ярмарки приезжают Великороссийские и Малороссийские купцы с разными мелочными товарами,\n",
      "543|ПОДВОРГАЛЬСКОЕ , село Орловского Наместничества в Елецком уезде. Здесь бывает ярмарка Мая 21 дня; на сей ярмарке торгуют Елецкие и других городов купцы с уездными обывателями всякими разными мелочными товары ; обыватели продают купцам и своей братьи лошадей , скотину, холст и съестные всякие припасы и рукоделье.\n",
      "45|БИРЖА, местечко Полотского Наместничества в Динабургском уезде. В сем месте бывает в году одна ярмарка; торгуют Рижского дворца крестьяне разными мелочными товарами , вином и пивом.\n",
      "572|РАМЕНЬЕ, село Московской Губернии в Волоколамском уезде. Здесь бывают в году ярмарки Июня 24 и 18 Сентября ; торгуют по одному дню разными крестьянскими товарами.\n",
      "126|ВОРОНЦОВКА , село Графа Воронцова в Тамбовском Наместничестве около слободы Доброй, Здесь бывает еженедельный съезд для торговли; приезжают сюда купцы, но только привозят мелочные товары.\n",
      "71|БОРОМДЯ , слобода Харьковского Наместничества в Ахтырском уезде. В оной бывают четыре ярмарки : первая о Фоминой неделе, вторая Июня 29, третия Сентября 1, четвертая Декабря 6; на оные приезжают купцы из разных Российских городов с шелковыми, бумажными и другими товарами , парчами, позументами , серебреною посудою и прочим; торгуют также скотом и лошадьми.\n",
      "676|ТАМБОВ, с 1779 году главный город Наместничества сего имени. Здесь бывают в год два съезда, сверх обыкновенных торгов: первой в Июне месяце о десятой пятнице; второй для богомолия Казанской Богородице 8 Июля, и сии торги продолжаются дни по два.\n",
      "179|ГРЯЗОВЕЦ, город Вологодского Наместничества. В нем собираются окольные поселяне для мелочного торгу всякой понедельникь , а всякой день торгуют съестными припасами для проезжающих; сверх сего обыватели оного как мущины, так и женщины упражняются в вязании чулков и варег для продажи в розницу и на подряд.\n",
      "70|БОРОВСК, город Калужского Наместничества. Бывают в году здесь две ярмарки : первая в десятую пятницу после Светлого Воскресения, вторая в день Рождества Богородицы 8 числа Сентября; на оные приезжают купцы из Тулы, Калуги, Серпухова и прочих городов ; привозят . шелковые и прочие товары, а по большей части крестьяне съезжаются с холстами и прочими крестьянскими товарами.\n",
      "221|ЕРЕМЕНЦОВО, село Ярославского Наместничества и уезду. Здесь бывает годовая Покровская ярмарка Октября в 1 день , а недельные торжки по вторникам. На оную ярмарку купеческие люди приезжают из Ярославля, Романова, Углича , из Борисоглебска, из Рыбного и из разных сел с мелочными на продажу крестьянам товарами, также с москотильными и прочими, а в недельные торжки продают крестьяне хлеб.\n",
      "257|ИНЖАВЕНЬЕ, село разных Помещиков Тамбовского Наместничества в Шатском уезде. Здесь бывают ярмарки в девятую , десятую и одинадцатую пятницы по Пасхе; на оных торгуют купцы холстом, пенькою и прочим.\n",
      "506|ОСТРАМЬЕВО , село Рязанского Наместничества в уезде города Зарайска. В сем селе бывает годовая ярмарка одна.\n",
      "368|ЛАДИНСКОЙ, девичий монастырь Черниговского Наместничества в Прилуцком уезде. Здесь бывает 1 Октября в день Покрова Богородицы ярмарка, на которой жители окольных мест торгуют своими произрастениями, какъ-то хлебом, разным скотом, съестными припасами и прочею крестьянскою мелочью.\n",
      "665|СТРЕЛИЦА, слобода Харьковского Наместничества в Короченском уезде. В оной бывает в году две ярмарки: первая Августа 1, вторая Марта 25 дня.\n",
      "357|КРЫЛЕЕВО , местечко Киевского Наместничества в Переяславском уезде. Здесь бывают в году три ярмарки: первая Мая 9, вторая Августа 15, третия Ноября 8; торгуют на оных разными : мелочными товарами , стеклянною и деревянною посудою и привозимою из Донских станиц мелкою рыбою. Жители продают рогатой скот , лошадей, хлеб, смолу , горячее вино и прочее ; привозят также сюда для продажи жителям Крымскую соль.\n",
      "594|РЫЛЬСК, город Курского Наместничества. В нем , кроме еженедельных по понедельникам и пятницам торгов бывает в год две ярмарки: первая в десятую пятницу по Пасхе, а вторая в день Казанския Богоматери Июля 8 числа , по одному дню продолжающияся, на которые съезжаются из окольных мест с мелкими товарами.\n",
      "445|МОСАЛЬСК, город Калужского Наместничества. В нем бывают в год три ярмарки: Апреля 23, Июля 8 и Ноября 26, продолжающияся только по одному дню.\n",
      "794|ЯДРИН, с 1781 году город Казанского Наместничества. В оном городе и в уезде ярмарок нет, а бывают торжки малые в каждой неделе по одному дню; товар бывает крестьянской , а заморских товаров в приводе не бывает.\n",
      "199|ДУБЕЦКОЙ, погост Псковского Наместничества в Островском уезде. Здесь бывает ярмарка в Июне месяце; купцы приезжают из Пскова с разными товарами.\n",
      "442|МОНАСТЫРЩИНА, местечко Могилевского Наместничества. В нем бывает одна ярмарка в году.\n",
      "235|ЗЕМЛЯНСК , город Воронежского Наместничества. В уезде сего города бывают ярмарки в году в трех селах; на оные приезжают разных городов Российские купцы с мелким товаром.\n",
      "128|ВРЕВ, пригород Псковского Наместничества. Здесь бывает ярмарка в день Николая Чудотворца , на которую приезжают из разных мест с мелочным товаром.\n",
      "267|КАДИН, местечко Могилевского Наместничества в Мстиславском уезде. В оном бывает одна ярмарка в году.\n",
      "19|АРГАМАЧЬЯ , слобода Орловского Наместничества в Елецком уезде. Здесь бывает ярмарка Сентября 8 дня, на которой торгуют Елецкие и других городов купцы с уездными обывателями всякими разными мелочными товарами и дегтем; а обыватели продают купцам и своей братьи лошадей, скотину, холст, съестные всякие припасы и рукоделия.\n",
      "484|ОДОЕВ, город того же Наместничества. В оном бывает три в году ярмарки : в десятую , одинадцатую и двенадцатую пятницы по Пасхе , на которые кроме деревянной посуды и мелочного москотильного товару ничего не привозят.\n",
      "81|БЫКОВ, местечко Черниговского Наместничества в Пирятинском уезде. Здесь бывает в году четыре ярмарки: первая в день Преполовения,вторая Августа 1, третия Октября 14, четвертая Ноября 23 числа. Сверх сего бывают торжки каждонедельно в понедельник ; торгуют на оных разными мелочными товарами и привозимою на ярмарки из Донских станиц рыбою ; жители продают рогатой скот , лошадей , хлеб, смолу, горячее вино и прочее. Также привозят сюда для продажи жителям Крымскую соль.\n",
      "671|СУМЫ, с 1780 году город того же Наместничества. В оном бывают ярмарки: первая, называемая Феодоровская, с первой недели великого поста , и продолжается недели по две и по три, вторая на Троицкой неделе, третия в день успения, четвертая Введенская, начинается с 21 Ноября , и продолжается Декабря по 6 и далее. На оные ярмарки съезжаются разных городов Российские купцы и Греки; привозят хорошия сукна, шелковые материи, парчи, разную посуду, сахар, чай, вина, юфть и прочее.\n",
      "400|ЛЯДЫ, местечко Могилевского Наместничества в Оршанском уезде. Здесь бывает в году две ярмарки.\n",
      "541|ПОГАРЬ, город Новогородского - Северского Наместничества. В нем бывают в году три ярмарки: первая и вторая Никольския, а третия Успенская 15 Августа.\n",
      "389|ЛУБНЫ, город Киевского Наместничества. В нем бывает в году четыре ярмарки: первая на маслянице, другая в Тройцын день, третия в день Преображения , четвертая в День Покрова Богородицы; купцы приезжают на оные из Великороссийских и Малороссийских городов с шелковыми , бумажными , шерстяными и прочими товарами внутреннего приуготовления ; торгуют также скотом, лошадьми, горячим вином , кожами и прочим.\n",
      "112|ВИЛЮЙСКОЕ ВЕРХНЕЕ и СРЕДНЕЕ , зимовье Иркутского Наместничества. В оных бывают ярмарки в Сентябре , Октябре и Ноябре месяцах.\n",
      "288|КИМРЫ, село того же Наместничества в Кашинском уезде. Здесь бывает по вся недели торг в понедельник ; товары привозят из уезду холсты льняные разные , да из городов Ярославля , Переславля Залесного и Углича мелочные всякие небогатые товары.\n",
      "78|БУРОМКА, местечко Киевского Наместничества в Лубенском уезде. В оном бывают в год две ярмарки: одна Июля 24, другая Ноября 1 числа.\n",
      "250|ИВАНОВЦЫ, шанец Екатеринославского Наместничества. В оном бывают в году две ярмарки.\n",
      "598|РЯЗАНЬ , главный город Наместничества сего имени. В нем, кроме еженедельных по воскресеньям, середам и пятницам торгов, бывают в год две ярмарки : первая Июля 2, вторая Августа 29 чисел, на коих купечество торгует, в серебреном ряду крестами , перстнями, сергами и окладами , а в москотильном разными камками , шелком , позументами , золотыми и серебреными сетками , выбойкою , бумагою хлопчатою и писчею и съестными припасами; такожь для торгу отъезжают с сырыми кожами , медом, сырцом, щетиною и мерлушками.\n",
      "249|ИВАНОВСКОЕ, село Калужского Наместничества близ города Малого Ярославца. Здесь бывает годовая ярмарка Июня 24 дня, на которую собираются купцы из Малого Ярославца и из Боровскаа, торгуют мелочными крестьянскими товарами.\n",
      "480|ОБЕР - ПАЛЕН, Дворянская мыза Рижского Наместничества в Дерптском уезде. Здесь бывает одна в году ярмарка.\n",
      "399|ЛЮТЕНКА, местечко Черниговского Наместничества в Гадяцком уезде. В оном бывает  в год три ярмарки: первая в день Преполовения , вторая Июля 20, в день Св. пророка Илии, третия 1 Ноября, в день Космы и Дамиана. На оных околичные жители торгуют  хлебом, разным скотом и съестными припасами, как - то рыбою и солью.\n",
      "74|БРОННИЦЫ , ям Новогородского Наместничества и уезду. Здесь бывает в году съезд для торговли Июня 24 дня.\n",
      "359|КУБЕНСКОЕ, село Вологодского Наместничества и уезду. Здесь бывает торг еженедель ной по че цвергам.\n",
      "84|БЕЛГОРОД, город Курского Наместничества. В оном бывают три годовые ярмарки: первая после Святой недели в десятую пятницу, вторая в день Апостолов Петра и Павла, третия в день Успения Богородицы; да в уезде оного города бывают годовые торги в Помещичьих слободах в Петровской Мацвева, в Троицкой Матюшкина, в Сабыниной Брылкиной, в Шебекиной Графа Генрикова, в Алексеевке , Корчиюк тожь, економической , в Зимовейке и Белей Князя Трубецкого, в Ефремовке Герсевановой, в Козмодемьянской Камышина, в Михайловке , Бекорюковка тожь , Бекорюкова, в Вознесенской , Ивановка тожь , Бакшеева. Купцы на оные торги приезжают из близ лежащих городов с мелочными лавочными товарами.\n",
      "769|ЧЕЧЕРСК, местечко Могилевского Наместничества в уезде города Рогачева. Здесь бывает в году три ярмарки: первая Генваря 8, вторая Сентября 8, третия в день Вознесения.\n",
      "786|ШУНГСКОЙ, погост Олонецкого Наместничества в Повенецком уезде. В оном бывают в году две ярмарки: первая Генваря 6, вторая Марта 25, на кои приезжают купцы с шелковыми, бумажными, гарусными и прочими товарами.\n",
      "82|БЕЖЕЦК, город Тверского Наместничества. В нем бывает ярмарка , начинающаяся Июня сь 30, и продолжающаяся до 5 Июля; приезжают купцы из смежных городов; привозят товары шелковые и прочие москотильные мелочные и железные. Здесь же бывают в понедельник и четверток торжки. В уезде оного находятся ярмаркижь в селах у Спаса на Холму Кесове горе, Молодове и Поречье, в которых и еженедельные торги бывают, на Холму во вторник, в Молодове в среду , а в Кесове и Поречье в пятницу. В селах же Поводневе и Шипине годовые ярмарки бывают на 14 число Сентября; а в селе Кесове горе на 24 число Июня , на которые от уездных обывателей привозится всякой хлеб и прочие сырейные и съестные товары; а из прочих городов от обывателей уездных мелочные товары, кроме что в Кесову гору никуда не ездят.\n",
      "672|СУХАРИ, местечко Могилевского Наместничества в Чауской округе. Тут бывает одна в году ярмарка.\n",
      "327|КОРОТОЯК, город Воронежского Наместничества. В сем городе бывает в году одна ярмарка Июля 8 числа, в день Казанския Богородицы; привозят на оную малое число шелковых и бумажных товаров, а более крестьянское изделье.\n",
      "715|УНКОСОВА , деревня разных Господ Тамбовского Наместничества в Шатском уезде. Здесь бывает ярмарка на одинадцатой неделе по Пасхе в пятницу , на которой торгуют пенькою , холстами , шерстью и прочим.\n",
      "512|ПАРСКОЕ , село Владимерского Наместничества в Суздальском уезде. В оном бывает одна годовая ярмарка Августа 29 дня; на коей торгуют разными мелочными купецкими товарами.\n",
      "83|БЕЛАЯ КОЛПЬ, село Московской Губернии в Волоколамском уезде. В сем селе бывает одна в году ярмарка Августа 19 дня; торгуют один день разными крестьянскими товарами.\n",
      "743|ХОРОЛ, с 1782 году город Киевского Наместничества. В оном бывает в году четыре ярмарки : первая Мая 9, вторая Августа 15 , третия Июня 29 , четвертая Ноября 21; торгуют на оных приезжие из уезду жители разными мелочными товарами , там родящимися, какъ-то хлебом, разным скотом, горячим вином , овчинами, кожами ипроч. Иногда приезжают и Великороссийские купцы с красными товарами; здесь бывают и еженедельные торги.\n",
      "627|СЕРЕДИНА БУДА, сель Черниговского Наместничества в Нежинском уезде, Генерала-Фельдмаршала Графа Румянцова-Задунайского. Здесь бывает в году одна ярмарка 8 Сентября.\n",
      "72|БОРЯТИНО, село Калужского Наместничества в Козельском уезде. Здесь бывает торг один день в неделе в четверпюк; купечество из Калуги , Мещовска , Болхова , Белева и других городов привозят товары москотильные; но есть несколько бумажных, шелковых и других материй; а по большей части и уездные крестьяне привозят разные уездные товары, всякой хлебе, пеньку , масло , мед , воск, вощину, парусную уточную пряжу, холст льняной , посконной разные крестьянския рукоделья и Другие мелочные товары.\n",
      "799|ЯМСКАЯ, слобода Пензенского Наместничества в Инсарском уезде. Здесь бывает годовая ярмарка в девятую пятницу; на оную приезжают купцы из близ лежащих городов с недорогими товарами.\n",
      "565|ПУДОГА, или ПУДОЖСК, город Олонецкого Наместничества. Здесь бывает годовая ярмарка Декабря 6 дня; торги производятся лавочным товаром , но большею частию мягкою рухлядью, для которой приезжают купцы из разных Российских городов, в том числе и из С. Петербурга.\n",
      "702|ТРОИЦКОЙ, монастырь Тамбовского Наместничества в Козловском уезде. При нем бывает в году две ярмарки: и) в день Сошествия Святого Духа, 2) в день Успения Богородицы. На оные приезжают купцы из Тамбова и Зарайска с шелковыми и другими мелкими товарами , и торгуют не более суток.\n",
      "735|ХАТОМЛЬ, слобода в уезде города Харькова. Здесь бывают ярмарки: Февраля 2, Марта 25 , Мая 9, Июня 14, Июля 27, Сентября 1, Октября 26 , Декабря 6; торгуют купцы мелочными товарами, вином, пивом, медом и прочим.\n",
      "127|ВОСКРЕСЕНСК, город Московской Губернии. В нем, кроме еженедельных по середам и субботам торговых дней, бывает в Вознесены ев день годовая ярмарка.\n",
      "272|КАМЕНЕЦ, местечко Полотского Наместничества в уезде города Динабурга. В сем. месте бывают три ярмарки в году; торгуют Рижского Дворца крестьяне разными мелочными товарами, вином и пивом.\n",
      "49|БОБЫЛЕВСКОЕ, село Уфимского Наместничества в Челябинском уезде. Здесь бывает в году ярмарка Генваря 30 и Октября 1. Торгуют разными мелочныии товарами.\n",
      "239|ЗОЛОТОНОША , город Киевского Наместничества. В нем бывает в году четыре ярмарки: первая в Фомину неделю , вторая в день Сошествия Святого Духа, третия в день Рождества Богородицы , четвертая Декабря 6. Купцы приезжают на оные из близ лежащих городов с красными крамными и прочими товарами , стеклянною и деревянною посудою и мелкою из Донских станиц рыбою; жители продают рогатой скот, лошадей , хлеб , смолу, горячее вино и прочее; привозят также сюда для лродажи жителям Крымскую соль.\n",
      "181|ДАГДА , местечко Полотского Наместничества в Динабургском уезде. В сем месте бывают в году триярмарки ; торгуют Рижского Дворца крестьяне разными мелочными товарами , вином и пивом.\n",
      "441|МОЛОКОВО , село Тверского Наместничества в Бежецком уезде. Здесь бывает годовая ярмарка ; торгуют хлебом , скотом, кожами и салом.\n",
      "328|КОРСУНЬ, город Синбирского Наместничества. Здесь бывает годовая ярмарка, называемая Троицкая; начинается со вторника последней недели мясоеда, и продолжается до понедельника первой недели Петрова поста. Приезжают на оную из разных Росссийских городов купцы и Армяне, торгуют привозными разными шелковыми, бумажными и прочими товарами , и пригоняют разных чинов люди и крестьяне знатное число лошадей Калмыцких и Руских, и от изделья деревенского крестьянского тамошних Корсунских и прочих обывателей.\n",
      "256|ИЛЬИНСКОЕ, село Тульского Наместничества в Каширском уезде. Здесь бывают торжки каждонедельно в пятничные дни ; товары на оные привозят из уезда холсты льняные разные, да из городов Ярославля, Переславля Залесного и Углича приезжают купцы с мелочными всякими небогатыми товарами.\n",
      "148|ГДОВ, город Псковского Наместничества. Здесь бывает в году одна ярмарка; торгуют лавочным мелочным товаром.\n",
      "705|ТУЛА, с 1777 году главный город Наместничества сего имени. Здесь ярмарка бывает в году два раза: И) при церкви Покрова Пресвятые Богородицы , в десятую от Святой недели пятницу; вторая Июня 8 дня, при состоящем за городовым замком Казанском Соборе. Для складки привозимых товаров имеются под Тульским Магистратом в нижнем департаменте, также и особь построенные палатки. С товарами на ярмарки посторонного съезда не бывает, а отправляются только тамошними. В неделе два торга, в понедельник и четверток.\n",
      "649|СПАСК, с 1779 году город Тамбовского Наместничества. В нем бывает годовая ярмарка в десятую пятницу после Пасхи, на которую приезжают купцы из ближних городов с мелочным товаром, и торгуют только один день.\n",
      "712|УДА , река Иркутского Наместничества. Вверх по ней при речке Ане бывает съезд в Августе, Сентябре и Октябре месяцах; здесь скупают купцы у Братских и иноверцев всякую мягкую рухлядь на деньги.\n",
      "133|ВЫТЕГРА, город Олонецкого Наместничества. Здесь бывают в году четыре ярмарки : первая Февраля 2, вторая Августа 16, третия Октября 1, четвертая 9 Мая Сии ярмарки учреждены бывшим Господином НовогороДским Губернатором Сиверсом.\n",
      "629|СЕРПУХОВ, с 1782 году город Московской Губернии. В оном бывает в году две ярмарки: первая о десятой пятнице, вторая Сентября  15 дня, сверх обыкновенных торгов.\n",
      "178|ГРЯЗНОЕ, КОЛЮПАНОВКА тожь, село Тульского Наместничества в Алексинском уезде. В оном бываешь ярмарка Июля 8. Здесь торгуют купцы товарами , до . крестьян принадлежащими.\n",
      "278|КАРОЧА , или КОРОЧА , город Курского Наместничества. В оном, кроме еженедельных двух торгов , бывает шесть годовых ярмарок: первая в день Рождества Богородицы , вторая в зимний Николин день, третия в Новой год, четвертая весною в Николин же день , пятая Июля 8 числа, шестая в Успеньев день. На оных торгуют купцы мелкими красными разными товарами, а обыватели хлебом , щетиною и посконным холстом.\n",
      "779|ШЕШКЕЕВ, с 1780 году город Пензенского Наместничества. В оном бывает годовая ярмарка Мая 24.\n",
      "234|ЗВЕНИГОРОД, город Московской Губернии. Бывает ярмарка при Ставропигиальном Савине Сторожевском монастыре , от Звенигорода в двух верстах, летним временем о десятой пятнице привозными из разных месте мелкими шелковыми товарамии рухлядью, а от крестьянства съестным харчем.\n",
      "741|ХОМУТЦЫ, местечко Киевского Наместничества в Миргородском уезде. В оном бывают еженедельные по Воскресяньям торжки , на которых торгуют приезжие из уезду жители разными мелочными товарами, там родящимися и делающимися, какъ-то хлебом, горячим вином, разным скотом , овчинами , кожами и проч. Иногда приезжают и Великороссийские купцы с красным товаром.\n",
      "289|КИНЕШМА, город того же Наместничества. Здесь бывает годовая ярмарка на Воздвижение честного Креста Сентября с 14 по 25 число; на оную ярмарку приезжают купцы из Москвы, Ярославля, Костромы , Нижнего Новагорода, и привозят на продажу сукна, разные шелковые материи, серебреную и оловянную посуду и всякие мелочные товары, также рыбу и овощ.\n",
      "87|БЕЛОЗЕРСК, город Новогородского Наместничества. В нем в зимнее время бывают каждую неделю по понедельникам съезды , на которых торгует крестьянство разными их домовными издельями , также привозят мя сено и хлеб.\n",
      "546|ПОКРОВСКОЕ, Економическое село Казанского Наместничества в уезде города Козьмодемьянска. Здесь бывает одна в году ярмарка, которая продолжается не более четырех дней , и на которой торгуют разными шелковыми и прочими мелочными товарами.\n",
      "73|БРОННИЦЫ, город Московской Губернии. В нем, кроме еженедельных по понедельникам и пятницам торгов, назначена Сентября 6 годовая ярмарка.\n",
      "40|БЕРЕЗОВ, город Тобольского Наместничества. Сюда приезжают Тобольские купцы каждую весну водою, и торгують с тутошними Российскими жителями , а особливо с Остяками и Вогуличами; осеньюжь в Тобольск назад возвращаются.\n",
      "521|ПЕРЕСЛАВЛЬ ЗАЛЕСКОЙ , город Владимерского Наместничества. Бывает здесь годовая ярмарка с 23 Июня, и продолжается неделю; на оной отправляется торг льнянымиколстами, которые покупаются как Переславскими, так и приезжими из разных городов купцами. Московские купцы привозят разные мелкие серебреные товары , как - то оклады на образа и прочее; болеежь крестяне привозят разный хлеб на продажу; а в уезде сего города в трех селах торгуютв мелочными товарами и крестьянскими издельями.\n",
      "634|СИНЯВКИ , местечко Черниговского Наместничества и уезду. В оном бывают еженедельные по субботам торжки , на которых торгуют окольные жители мелочными товарами, хлебом и другими вещами.\n",
      "276|КАРЛОВКА, местечко Екатеринославского Наместничества. В оном бывают в году три ярмарки.\n",
      "225|ЖИГАНСК, город Иркутского Наместничества. В оном бывают ярмарки в Августе , Сентябре, Октябре и Ноябре месяцах.\n",
      "567|ПУТИВЛЬ , город Курского Наместничества. В нем, кроме еженедельных по понедельникам и пятницам торжков, бывает одна в году в десятую пятницу по Пасхе ярмарка.\n",
      "612|СВИАЖСК, с 1781 году город Казанского Наместничества. Здесь бывает ярмарка, и торгуют на оной мелочными товарами и съестными припасами.\n",
      "791|ЮРЬЕВЕЦ ПОВОЛГСКИЙ, с того же году город Костромского Наместничества. Сюда приезжают крестьяне в понедельник и четверток товары привозят хлеб и съестные припасы, и с разным лесом, сеном и горшками.\n",
      "270|КАЛИБЕРДА, или КЕЛЕБЕРДА, местечко Екатеринославского Наместничества. В оном бывают в году три ярмарки.\n",
      "408|МАЛОЙ ЯРОСЛАВЕЦ, город Калужского Наместничества. В нем бывают в год ярмарки Апреля 23, Мая 9, Ноября 26, Декабря 6 и в десятую пятницу по Пасхе , на которые приезжают купцы из Боровска, Вереи и Серпухова с шелковыми и бумажными платками , китайками , выбойками, чаем, сахаром, кофием и разными москотильными товарами ; а главную часть сего торгу составляют окрестные жители, которые привозят съестные припасы и деревенския изделья.\n",
      "656|СТАРАЯ РЯЗАНЬ, слобода Рязанского Наместничества. В оной бывает Июня 29 дня для крестьян годовая ярмарка.\n",
      "308|КОЖИНО, село Володимерского Наместничества в Гороховецком уезде. Здесь бывает торговой съезд Июля 20 Дня.\n",
      "419|МГЛИН, город Новогородского - Северского Наместничества. В оном бывает в год три ярмарки : первая на третией неделе великого поста, другая в день Сошествия Святого Духа, третия Августа 9 числа. На оные съезжаются из соседственных мест купцы с красным товаром и другими мелочными; также купечество города торгует своими произрастениями и произведениями, как - то пенькою , конопляным маслом, горячим вином, табаком и прочими мелочми ; пеньку некоторые купцы отправляют к С. Петербургскому и Рижскому портам и в пристани Порецкую и Иржевскую.\n",
      "93|БЕЛЫНИЧИ, местечко Могилевского Наместничества. Здесь бывают в году четыре ярмарки.\n",
      "307|КОДИНСКОЕ, село уфимского Наместничества в Челябинском уезде. В оном бывают ярмарки Июля 8 и Генваря 6, на коих торг производится мелочным товаром.\n",
      "668|СУДЖА , с 1779 году город Курского Наместничества. В оном бывает в году четыре ярмарки : Апреля 23, в день Великомученика Георгия; Июня 29, в день Апостол Петра и Павла; Октября 1, в день Покрова, да в Рождественской мясоед на всеедной неделе по два дни; приезжают на оные купцы из соседственных городов ; привозят шелковые бумажные и прочие товары небольшим числом.\n",
      "699|ТРОИЦКАЯ , треть Вологодского Наместничества. Здесь бывают ярмарки Генваря 1, 5, 6 и 18, да Марта 17 и 25 чисел, на которых в оной у соседних поселян здешние купцы покупают масло коровье, сало, кожи говяжьи и бараньи, медвежьи, волчьи, заячьи, бельи, полотна, холсты, сукна сермяжные и дичину.\n",
      "317|КОМЕЛЬСК КОРНИЛИЕВ, монастырь от города Вологды в 45 верстах. При нем бывает два раза в году ярмарка. Первая на праздник Введения Пресвятые Богородицы , а другая Генваря 17 дня; чего для построены там и ряды. На сих ярмарках Московские, Ярославские , Костромские , Любимские, Романовские и Вологодские купцы бывают, из коих некоторые привозят шелковые, гарусные, бумажные, москотильные и прочие товары; также собирается поселян из Вологодского, Галицкого, Любимского , Костромского , Ярославского и Пошехонского уездов большее число со льняным и хрящевым холстом , с шерстяными чулками , с говяжьими кожами и салом , с санями , колесами и с другим мелочным товаром; также не меньший бывает торг и лошадьми; а торгуют по два и по три дни сряду.\n",
      "28|АХТЫРКА , город Харьковского Наместничества; в нем бывает четыре ярмарки: первая о всеедной неделе, вторая Мая 9, третия Июля четвертая Октября 28 дня; купцы приезжают из раз ных городов, привозят парчи , шелковые материи и серебро в деле; торгуют также скотом , лошадьми и прочим.\n",
      "211|ЕГОРЬЕВСКОЕ ЗАДНЕЕ , село Вологодского Наместничества по Кубенеокму заозерью. В воскресные дни бывают здесь еженедельные торги.\n",
      "122|ВОЛЬНАЯ, слобода Харьковского Наместничества в Белогородском уезде. В оной бывают годовые ярмарки : первая Февраля 2, в день Сретения Господня, вторая Мая 9, в день Чудотворца Николая , третия в десятую пятницу , четвертая Августа 15 дня, в день Успения. Приезжают на оные купцы из . близ лежащих городов; торгуют сукнами, шелковыми, бумажными и набойчатыми товарами , полотном , железом, посудою и проч.\n",
      "686|ТЕШЕВСКОЙ, монастырь Орловского Наместничества в Елецком уезде. Здесь бывает ярмарка Июля в 23 день ; на оной торгуют Елецкие и дру их городов купцы с уездными обывателями разными мелочными товарами и дегтем; а обыватели продают купцам и своей братьи лошадей , скотину , холст, съестные всякие припасы и рукоделье.\n",
      "534|ПИРЯТИН, город Киевского Наместничества. В оном бывает в году четыре ярмарки : первая в день середопостия , вторая в день Вознесения , третия в день Рождества Богородицы, четвертая в день Параскевы. Купцы приезжают на оные из Великороссийских городов с красным товаром, с кожами, железом и прочим.\n",
      "365|КУРЕНЬКИ, местечко Киевского Наместничества в Лубенском уезде. Здесь бывает в год три ярмарки: первая Февраля 2, другая Июня 29, третия Октября 26 чисел.\n",
      "223|ЕСКЕ, село Тверского Наместничества в Бежецком уезде. Здесь бывает годовая ярмарка; съезжаются на оную купцы с мелочным лавочным товаром.\n",
      "531|ПЕТРОМА, село Ярославского Наместничества в Пошехонском уезде. В оном бывают две годовые ярмарки: первая Троицкая, вторая Ивановская , то есть 26 Сентября; приезжают на оные купцы из соседственных городов с разными шелковыми мелочными и прочими товарами.\n",
      "689|ТИХВИН, с 1776 году город Новогородского Наместничества. В оном бывает в году три ярмарки: первая в первое Воскресенье великого поста , а другия две в летнее и осеннее время.\n",
      "566|ПУПКИ , село Владимерского Наместничества в уезде города Шуи. В оном бывает годовая ярмарка Мая месяца в 9 день семидневная, называема: Николаевская; торгуют на оной иногородние купцы разными Российскими и Немецки ми товарами.\n",
      "222|ЕРЕМЕЕВКА, местечко Киевского Наместничества в Лубенском уезде. Здесь бывает в год четыре ярмарки : первая в день Преполовения Господня , вторая в день Петра и Павла, третия в день Св. Димитрия, четвертая о всеедной неделе.\n",
      "103|ВЕНДЕН, город Рижского Наместничества. Здесь бывают в году две ярмарки: одна в Иванов , а другая в Михайлов день; но оные в себе важного ничего не заключают.\n",
      "412|МАСЛЕНСКАЯ, слобода Уфимского Наместничества в Челябинском уезде. Здесь бывает ярмарка Декабря 25 и Июля 20 дня ; торгуют на оных мелочным товаром.\n",
      "734|ХАРЬКОВ, с 1780 году главный город Наместничества сего имени. В оном бывают четыре ярмарки : первая в день Сошествия Святого Духа, вторая Августа 15, третия Октября 1 , четвертая Генваря 6 дня.\n",
      "490|ОЛОНЕЦ, уездный город Наместничества сего имени. В сем городе бывают в году две ярмарки : первая Генваря 6, а вторая Сентября 8. Торг на оных продолжается по неделе.\n",
      "358|КРЮКОВ, слобода Екатеринославского Наместничества. В оной бывают в году четыре ярмарки.\n",
      "596|РЕПКИ , местечко Черниговского Наместничества и уезду. В оном бывают еженедельные торжки, на которых торг производится окольными жителями большею частию хлебом и прочими домашними вещами и крестьянскими издельями.\n",
      "76|БУДИЧЬ, местечко Екатеринославского Наместничества в Полотавском уезде. В оном бывает в году, сверх еженедельных торжков, две ярмарки: одна Июля 8, а другая Сентября 26 дня.\n",
      "322|КОНСТАНТИНОВСКОЕ , село Тверского Наместничества в Кашинском уезде. Здесь бывает ярмарка Августа 15 дня; товары привозят из уезду холсты льняные разные, да из городов Ярославля, Переславля Залеского и Углича купцы приезжают с мелочными всякими небогатыми товарами.\n",
      "207|ДУХОВЩИНА, город Смоленского Наместничества. В оном бывают две в году ярмарки: первая на первой неделе великого поста в пятницу, вторая Августа 15, в деньуспения Богородицы ; купцы приезжают из близ лежащих городов с разными товарами.\n",
      "593|РЫЗН, село того же Наместничества в Козельском уезде. Здесь бывает ярмарка годовая в день Вознесения Господня ; на оную съезжается купечество из окрестных городов , Калуги, Мещовска, Орла , Волхова, Белева и других городов; привозят товары москательные, бумажные, шелковые и другия материи ; а по большей части уездные крестьяне привозят разные товары , всякой хлеб , пеньку , масло , мед , воск , вощину, парусную уточную пряжу, холст льняной, посконной и прочия крестьянския рукоделия и другие мелочные товары.\n",
      "640|СМЕЛОЕ, местечко Черниговского Наместничества в Роменском уезде. Здесь бывает в году четыре ярмарки: первая Генваря 1, вторая Мая 9, третия Июля 8, четвертая Октября 14. На оные пригоняют для продажи лошадей, рогатой скот, какъ-то быков, овец и прочее , Малороссийские жители; а Руские купцы из разных городов привозит всякие мелочные товары.\n",
      "350|КРЕСТЦЫ, город Новогородского Наместничества. Бывает здесь годовой съезд для торговли Сентября 15 дня.\n",
      "524|ПЕРНОВ, город Рижского Наместничества. В оном бывает годовая ярмарка , спустя три недели после Иванова дня , и продолжается четыре недели.\n",
      "465|НЕЛЬЯНСКОЙ , железной завод Пермского Наместничества в Екатеринбургском уезде. Здесь бывает в день Святых Апостолов Петра и Павла нарочитая ярмарка прoдолжающаяся несколько дней на которую съезжается много купцов из близ лежащих городов , а именно: Екатеринбурга , Верхотурья, Туринска, Тюмени , которые , как и тамошние жители , разными Российскими , Сибирскими и Китайскими товарами торгуют.\n",
      "776|ШАРАПАВО, село Нижегородского Наместничества в Арзамаском уезде. Здесь бывает одна в году ярмарка.\n",
      "673|СЫЗРАНЬ, с 1780 году город Синбирского Наместничества. Здесь бывает съезд Июля в 8 число крестьянству с хлебом, с рогатою и мелкою скотиною , съестными припасами и прочими мелочными товарами. \n",
      "320|КОНОТОП, город Новогородского - Северского Наместничества. В нем бывает в году три ярмарки : первая Августа 15, вторая Сентября 8, третия Ноября 21 числа, да два торжка, на кои собираются из окольных разных городов , сел и деревень два раза в неделе по понедельникам и пятницам.\n",
      "737|ХВАЛЫНСК, с 1780 году город Саратовского Наместничества. Здесь бывает яр-марка Июня 28 дня , на которую по большей части съежается крестьянство.\n",
      "648|СПАС в ЯМЩИКАХ, село Вологодского Наместничества в Авнежской волости. В нем торг бывает по вторникам.\n",
      "578|РИГА, главный город Наместничества сего имени. В оном бывает ежегодно одна ярмарка, продолжающаяся Июня с 20 Июля по 10 число; съезжаются разные крамщики из Германии и некоторые манифактурщики из соседственных стран. Вразсуждении сей ярмарки только то примечать следует, что приезжие к оной крамщики и манифактур щики в продолжении оной имъот свободность товары свои в открытых давках держать , по домам носить, оныежь кому хотят, как мещанам, так и иностранным в продажу производить; а по прошествии урочного срока должны они нераспроданные свои товары , не разъезжая с оными по уездам, или в другие внутренние города, с собою назад отвозить, или положить в мраморной пакгауз, из которого те оставшиеся товары не иначе, как только Рижским мещанам оптом продавать им вольно. Впрочем иностранные крамщики и мануфактурщики обратные покупанные здесь товары отсюда не берут , и отъезжают с вырученными здесь за свои проданные товары наличными деньгами.\n",
      "430|МИРОТИНО , село Тульского Наместничества в Каширском уезде. В оном бывает ярмарка Июля 20. Купцы привозят товары на продажу из Каширы , Гуды, Серпухова, Венева и Зарайска по малому числу москотильные и мелочные и съестные припасы; от обывателей уездных в продаже бывает пенька, мед, воск, деревинное изделье.\n",
      "333|КОЧЕЛАЕВО , село Пензенского Наместничества в Наровчатовском уезде. Здесь бывает в году одна ярмарка в Июне месяце в десятую пятницу в разных числах , но по большей части на оной бывают крестьяне.\n",
      "701|ТРОИЦКОЕ, село Московской Губернии в Звенигородском уезде. В нем бывает ярмарка о Троицыне дни.\n",
      "154|ГЛИНСК, город Черниговского Наместничества. В оном бывает в году две ярмарки: первая Сентября 1, вторая в неделю Пятидесятницы. Торги производят рыбою, солью , горячим вином , кожами , овчинами , скотом, лошадьми и прочими мелочными товарами.\n",
      "558|ПРЕЗМА, местечко Полотского Наместничества в уезде города Динабурга. В сем месте бывает в году одна ярмарка; торгуют Рижского Дворца крестьяне разными мелочными товарами, вином и пивом.\n",
      "783|ШОКИНО, село Синбирского Наместничества в Курмышском уезде. В оном бывает ярмарка в десятую пятницу после Пасхи.\n",
      "384|ЛИСКОЙ , волок , что на Синге, в Вологодском уезде. Здесь бывает в году две ярмарки ; на оных торгуют Вологодские купцы мелочными товарами.\n",
      "429|МИРОПОЛЬЕ, город Харьковского Наместничества. В сем городе бывают в году три ярмарки : первая на пятой неделе великого поста, вторая на седьмой неделе по Пасхе, третия Сентября 1 дня. На оные приезжают купцы из ближних Великороссийских городов , и привозят всякие внутренние мелкие товары, торгуют также скотом и лошадьми.\n",
      "797|ЯМПОЛЬ, слобода Харьковского Наместничества в Изюмском уезде. Здесь бывают в году три ярмарки: первая Мая 9, в день Чудотворца Николая , вторая Ноября 1, в день Козмы и Дамиана, третия Декабря 6, в день Чудотворца Николая; купцы приезжают на оные из разных городов с шелковыми и прочими товарами.\n",
      "620|СЕНКОВА, слобода Харьковского Наместничества в уезде города Изюма. В оной бывают две ярмарки: первая Мая 9, в день Чудотворца Николая, вторая Августа 29, в день усекновения главы Предтечи; приезжают на оные купцы из разных Российских городов с шелковыми, бумажными, шерстяными и прочими товарами.\n",
      "548|ПОКРОВСКОЕ, село Московской Губернии в уезде города Рузы. В сем селе бывает годовая ярмарка Октября 1 дня; торгуют разными мелочными товарами.\n",
      "335|КРАПИВНА , или КРОПИВНА , город того же Наместничества. В самом городе бывают две годовые ярмарки: первая в день Сошествия Святого Духа, вторая Июля 1 дня; а в уезде оного одна; обыкновенных торгов в городе в каждой неделе по два.\n",
      "485|ОДРИН НИКОЛАЕВСКОЙ, монастырь Орловского Наместничества в уезде города Карачева. При оном монастыре бывает ярмарка Мая 9 дня.\n",
      "792|ЯБЛУНОВ, местечко Киевского Наместничества в Лубенском уезде. В оном бывают в году три ярмарки : первая в день Преполовения Господня, другая в день усекновения честные главы Святого Иоанна Предтечи, третия в день Богоявления Господня. Купцы приезжают на оные из близ лежащих городов с красными , крамными и прочими товарами , с стеклянною и деревянною посудою, с мелкою из Донских станиц рыбою; жители продают рогатой скот лошадей, хлеб, смолу , горячее вино и проч. Привозят также сюда для продажи жителям Крымскую соль.\n",
      "798|ЯМПОЛЬ, слобода Г. Неплюевых, Черниговского Наместничества в Нежинском уезде. В оной бывают в году две ярмарки: первая Октября 1 , вторая Апреля 23.\n",
      "37|БЕЗГИНОВКА , местечко в Екатеринославском Наместничестве. В оном бывает в году шесть ярмарок.\n",
      "226|ЖИЗДРА, город Калужского Наместничества. В нем бывает 25 Сентября годовая ярмарка, на которую приезжают из окольных городов купцы с шелковыми, бумажными и москотильными товарами.\n",
      "98|БАРКОВ, местечко Полотского Наместничества в Динабургском уезде. В сем месте бывает в году две ярмарки; торгуют Рижского Дворца крестьяне разными мелочными товарами , вином и пивом.\n",
      "290|КИРЕНСК, город Иркутского Наместничества. Здесь бывала ежегодно летним временем ярмарка, на которую множество купцов для торгу съезжалось, но за упадком здешних жителей оставлена.\n",
      "274|КАМЫШНЯ, или КОМЫШНЯ , местечко Киевского Настничества в Миргородском уезде. В оном бывает в году три ярмарки: первая в неделю Ваий , вторая в десятую после Светлого Воскресения пятницу , третия 26 Октября , в день Св. Димитрия. На оных торгуют рогатым скотом и лошадьми, а на еженедельных в понедельник и пятницу торгах торгуют приезжие из окольных мест хлебом и съестными припасами.\n",
      "706|ТУРЕЦКАЯ треть, или волость Вологодского Наместничества в уезде города Яренска. Здесь бывает ярмарка Февраля с 15 дня по Марте месяц; скупают здесь купцы по большей части заготовленную и свезенную сюда крестьянами рыбу.\n",
      "26|АТЕМАР, село Пензенского Наместничества в Саранском уезде. Здесь бывает ярмарка в последних числах Июля месяца; привозят купцы разные мелочные шелковые товары.\n",
      "617|СЕМЕНДЕЕВО, село Тверского Наместничества в Кашинском уезде. В оном бывает ярмарка в пятничной день; да в той же отчине под монастырем в Троицын день и в десятую пятницу ; товары на оные привозят из уезду холсты льняные разные, да из городов Ярославля, Переславля Залеского, Углича приезжают купцы с мелочными всякими небогатыми товарами.\n",
      "681|ТЕМНИКОВ , с 1779 году город Тамбовского Наместничества. В сем городе бывает одна годовая ярмарка после праздника Святые Пасхи в десятую пятницу один день.\n",
      "723|УСТЮГ ВЕЛИКИЙ, с того же году город того же Наместничества. В нем бывает ярмарка Июля 8 дня в день Прокопия устюжского Чудотворца , на которой бывают по большей части Велико-Устюжского уезда крестьяне с своими приуготовлениями.\n",
      "517|ПЕРЕВИЦКОЙ ТОРЖОК, село Рязанского Наместничества в Зарайском уезде. В оном на каждой неделе в один субботний день для торговли съезжаются Зарайского и других городов из уездов обыватели с хлебом, мясом, рыбою соленою и свежею, с деревянною посудою , саньми и колесами; а Зарайские купцы с москотильным и мелочным разным товаром.\n",
      "139|ВЕТКА, местечко того же Наместничества в Белицком уезде. Тут бывает одна ярмарка в году, на которой торгуют разными товарами.\n",
      "662|СТАРЦОВ УГОЛ, или КОГУЕВА , пустыня Симбирского Наместничества в Алатырьском уезде. Здесь бывает ярмарка в день Преображения Господня ; на ту ярмарку приезжают со всякими шелковыми и прочими товарами из Москвы и из других городов купцы, такожь и крестьяне.\n",
      "645|СОРОЧИНЦЫ , местечко Киевского Наместничества в миргородском уезде. В оном бывает в году пять ярмарок: первая Генваря 1, вторая на пятой неделе великого поста, третия в день Сошествия Святого Духа, четвертая Сентября 14 , пятая Ноября 14; торгуют на оных приезжие из уезду жители разными мелочными товарами, там родящимися и делающимися, какъ-то хлебом, горячим вином, разным скотом , овчинами, кожами и прочим; иногда приезжают и из Великороссийских городов купцы с красными товарами. Здесь бывают и еженедельные торги.\n",
      "655|СТАРАЯ РУЗА, с 1776 году город Новогородского Наместничества. Здесь бывает съезд и торговля Генваря 6 дня, в праздник Святых Апостол Петра и Павла, и в день Покрова Пресвятые Богородицы; товары привозят купцы из Новагорода и из Торопца всякие москотильные, и сенокосные косы.\n",
      "176|ГРИТЧИНО, село Тульскагу Наместничества в Каширском уезде. Здесь бывает ярмарка в день Сошествия Святого Духа ; а на тое ярмарку товары в продажу привозятся из Каширы, а по близости изъТулы, Серпухова, Венепа и Зарайска по малому числу москотильной мелочной и прочие съестные припасы , а паче от обывателей уездных в продаже бывает пенька, мед, воск и прочее деревянное изделье.\n",
      "275|КАРАСУ - БАЗАР , городок в Таврической Области. В нем каждую неделю бывает в один день торг, на которой пригоняют множество всякого скота , как - то лошадей, буйволов, волов, коров, верблюдов и баранов.\n",
      "551|ПОНОРНИЦА , местечко Черниговского Наместничества и уезду. В оном бывает в году Две ярмарки : первая Апреля 23, вторая Сентября 8 чисел; торгуют на оных и еженедельных торгах приезжие из ближних городов купцы мелочными товарами , а окольные жители тутошними произрастаниями и рукоделием, как - то деревянною посудою, неводными нитками , также скотом и прочими съестными припасами.\n",
      "690|ТИХОНОВА, пустыня Орловского Наместничества в Карачевском уезде. Здесь бывает ярмарка Июня 16 дня, на которую привозит разных городов купечество шелковые и прочие товары.\n",
      "264|ИЧНА , местечко Черниговского Наместничества в Прилуцком уезде. В оном бывает в году три ярмарки: первая в первую седмицу великого поста, вторая в первую седмицу Петрова поста, третия Июля 20, в день Пророка Илии. На оных торгуют окольные жители своими произрастениями , как - то хлебом , разным скотом, съестными припасами, деревянною посудою ипрочею крестьянскою мелочью. Здесь также бывают и еженедельные торжки в понедельник и пяток.\n",
      "569|ПУША , местечко Полотского Наместничества в уезде города Динабурга. В сем месте бывает в году три ярмарки; торгуют разными мелочными товарами , вином и пивом.\n",
      "460|НАБДИН, погост Псковского Наместничества в Великолуцком уезде. Здесь бывает годовая ярмарка Декабря 25 дня, на коей от обывателей продаются кожи, лен, пенька, мед и прочия тому подобные вещи; а от Великолуцких, Торопецких Псковских купцов разные мелкие шелковые товары.\n",
      "349|КРЕСЛАВЛЬ, местечко Полотского Наместничества в уезде города Динабурга. В сем месте бывают в году три ярмарки ; торгуют Рижского Дворца крестьяне разными мелочными товарами , вином и пивом.\n",
      "803|ЯРОСЛАВЛЬ, с 1777 года главный город Наместничества сего имени. В оном бывает годовая ярмарка Марта в 5 день , на которую съезжаются токмо крестьяне; в уезде сего города осмнадцать сел, в которых съезды торговые бывают, но все для крестьян ; из Низовых же городов приходят баржи с хлебом для отправления в С. Петербург.\n",
      "372|ЛАКНОВАТЬ, погост Псковского Наместничества в Великолуцком уезде. Здесь бывает ярмарка Генваря 6 числа; на оной от обывателей продаются кожи, лен, пенька, мед и прочия тому подобные вещи; а\n",
      "169|ГОРОДНЯ, или ГОРОДНИЦК , город Черниговского Наместничества. В оном бывает в году две ярмарки: первая Июня 29, в день Святых Апостолов Петра и Павла , вторая Октября 14, в день Св. Параскевы ; на оные и в субботние еженедельныеторжки приезжают окольные жители и торгут хлебом , рыбою , деревянною и глиняною посудою, веревками , лыками , саньми и ободьем ; также приезжают из городов и с лавочными товарами.\n",
      "341|КРАСНОЙ КОЛЯДИН, местечко Черниговского Наместничествав Прилуцком уезде. В оном бывает в году три ярмарки: первая Сентября 14, в день Воздвижения честного Креста, вторая в день Сошествия Святого Духа , третия Декабря 6, в день Святителя Николая. На оных торгуют окольные жители своими произрастениями , как -то хлебом, разным скотом, съестными припасами , деревянною посудою и прочею мелочью.\n",
      "611|СВИРСКОЙ АЛЕКСАНДРОВСКОЙ , монастырь в Олонецком уезде. При оном бывает годовая ярмарка в день Сошествия Святого Духа, Августа 30. Сюда для торгу приезжают купцы из разных Российских городов с шелковыми , бумажными , гарусными и прочими товарами.\n",
      "51|БОГАТЫЙ, город Курского Наместничества. В нем бывают каждую неделю по понедельникам и пятницам торги.\n",
      "618|СЕМЕНОВ, с 1779 году город Нижегородского Наместничества. В нем каждонедельно бывает по четвергам торг, на которой привозит крестьянство всякие съестные припасы и прочие мелочные товары.\n",
      "466|НЕДРИГАЙЛОВ , город Харьковского Наместничества. В оном бывают ярмарки: первая Сентября 8, вторая Октября 29, третия Декабря 6, четвертая в день Преполовения. Кунцы приезжают на оные из окрестных городов с мелочными товарами.\n",
      "657|СТАРИНСКОЕ, село Синбирского Наместничества в Курмышском уезде. Здесь бывает ярмарка Июля 8 дня.\n",
      "237|ЗМЕЕВЕ, слобода Харьковского Наместничества в уезде города Изюма. В оной бывают в году три ярмарки : первая Июня 29, в день Св. Апостолов Петра и Павла, вторая Сентября 1, в день Симеона Столпника, третия Октября 14, на день Параскевы. Купцы приезжают на оные из разных Российских городов с шелковыми , шерстяными , бумажными и прочими товарами.\n",
      "321|КОНСТАНТИНОВО, местечко Киевского Наместничества в Лубенском уезде. В оном бывает в год три ярмарки: первая в день Сошествия Святого Духа, другая в день Успения Пресвятые Богородицы.\n",
      "323|КОПРИНО, село Ярославского Наместничества и уезду. Здесь бывает годовая Сергиевская ярмарка Сентября в 25 день; продают на оной крестьяне масло коровье и прочие товары.\n",
      "561|ПРОНСК , город Рязанского Наместничества. В нем каждую неделю бывают по пятницам торги, на коих торгуют всякими товарами.\n",
      "86|БЕЛОЕ, село Ярославского Наместничества в Пошехонском уезде. Здесь бывает годовая ярмарка в Тройцын день, и продолжается два дни. \n",
      "95|ВАЛКИ, город Харьковского Наместничества. Здесь бывают ярмарки Февраля 2, Мая 9, Июля 27, Сентября 14, Декабря 6. Торгуют купцы разным мелочным товаром, пивом, вином, медом и прочим.\n",
      "713|УЗЕЛЬ, местечко Полотского Наместничества в уезде города Динабурга. В сем месте бывают в году три ярмарки, на коих торгуют Рижского Дворца крестьяне разными мелочными товарами, вином и пивом.\n",
      "386|ЛОПОТОВ, монастырь в Вологодском уезде. Здесь бывает однажды в год ярмарка ; Вологодские купцы торгуют на оной мелочными товарами.\n",
      "773|ЧУХЛОМА , с 1778 году город Костромского Наместничества. Подле оного в десяти верстах расстоянием у приходской церкви Великомученицы Варвары 4 Декабря бывает многолюдная ярмарка, на коей, исключая других товаров, съезжающиеся купцы скупают разную мягкую рухлядь, сырые кожи и овчины. А в десяти верстах расстоянием от города же, при монастыре Чудотворца Аврамия, бывают в году три ярмарки: первая по Вознесении в первое Воскресение, вторая по Пасхе в девятую пятницу, третия Октября в 1 день. Купцы приезжают на сии ярмарки из разных Российских городов с шелковыми , щепетинными , серебряными и прочими товарами.\n",
      "450|МРИН, местечко Киевского Наместничества и уезду. Здесь бывает одна в году ярмарка; съезжаются на оную с мелочными товарами , съестными  и питейными припасами.\n",
      "492|ОЛЫШАНАЯ, слобода в уезде города Харькова. Здесь бывают ярмарки в неделю Ваий, на Троицыной неделе, Сентября 8 , Октября 26 ; торгуют купцы мелочным товаром , вином, пивом, медом и прочим.\n",
      "519|ПЕРЕКОПЕЦ , местечко в уезде города Харькова. Здесь бывает ярмарка Марта 9, Мая 6 и Ноября 8, торгуют купцы мелочными товарами, вином , пивом , медом и прочим.\n",
      "718|УСМАНЬ, с 1779 году город Тамбовского Наместничества. В нем бывает одна в году о десятой пятнице ярмарка, продолжающаяся 7 дней, на которую приезжают купцы из Воронежа, Ельца и Липецка с сукнами и разными шелковыми и мелочными товарами.\n",
      "304|КОБЫЛЯК, местечко Екатеринославского Наместничества в Полтавском уезде. В оном бывает в году четыре ярмарки.\n",
      "454|МУРИКОВО, село Московской Губернии в Волоколамском уезде. Здесь бывает одна в году ярмарка Сентября 25 дня; торгуют на оной разными крестьянскими товарами.\n",
      "583|РОМАНОВ, город того же Наместничества. Здесь бывают две ярмарки : первая в день Живоначальные Троицы , вторая в день Иоанна Богослова, Сентября 26 дня; купцы приезжают из Ярославля с мелочными товарами для одного крестьянства.\n",
      "363|КУНГУР, город Пермского Наместничества. В сем городе во время праздников бывают для торговли съезды Генваря 4, Октября 28 и в девятую пятницу по Пасхе.\n",
      "158|ГНИЛЬСКОЙ, погост Псковского Наместничества в Островском уезде. Здесь бывает ярмарка в Маие месяце; купцы приезжают из Пскова с разными мелочными товарами.\n",
      "107|ВЕРЕЯ, город Московской Губернии и Провинции. В оном бывает в году одна ярмарка Июня 23 дня в день Владимерския Богоматери, и продолжается три дни ; на оную приезжают купцы из Москвы , Тулы , Калуги, Серпухова , Можайска , Боровска и прочих ближних городов; привозят шелковые, бумажные, москотильные и прочие товары небольшим числом , а по большей части съезжаются крестьяне с льняным и хрящевым холстом, колесами, лыками и с другим мелочным товаром.\n",
      "717|УРАЛЬСК, главный город уральских Козаков в Кавказском Наместничестве. Здесь бывают ярмарки в Июне , Июле, в Сентябре, Октябре, в Генваре и Феврале месяцах; приезжают разных городов купцы, привозят хлеб, шелковые и бумажные товары, шерстяные материи , сукна и прочее; здесь покупают разных родов рыбу, икру , клей , степных зверей, какъ-то лисиц, волков, зайцов, кушаки и сермяжные полотна.\n",
      "277|КАРМ, местечко Могилевского Наместничества в уезде города Рогачева. Здесь бывает в году четыре ярмарки: первая Мая 9, вторая Августа 15, третия Октября 1, четвертая Ноября 1 дня.\n",
      "92|БЕЛОЦЕРКОВКА , местечко Киевского Наместничества в Миргородском уезде. В оном бывает в году две ярмарки одна в десятую пятницу, другая Июля 27 дня. Торгуют на оных и в еженедельные торжки приезжие из уезду жители разными мелочными товарами тамо родящимися и делающимися, какъ-то хлебом, горячим вином, разным скотом, дегтем , овчинами, кожами и проч. иногда приезжают и Великороссийские купцы с красным товаром.\n",
      "463|НАСПИЩИ, село Тульского Наместничества в уезде города Алексина. Здесь бывает ярмарка Мая 2 и Июля 24 дня; торгуют купцы до крестьян надлежащими товарами.\n",
      "635|СКОПИН, с 1778 году город Рязанского Наместничества. Здесь бывает ярмарка после Светлой недели в девятую , в десятую и во вторуюнадесять пятницы; товары привозят из иных городов и из уездов крестьянские, съестные и прочие, что до обывательских крестьянских нужд принадлежит.\n",
      "388|ЛОХВИЦА , город Черниговского Наместничества. Здесь бывает в году четыре ярмарки : первая в день Преполовения , вторая в день Великомученика Прокопия, третия в день Великомученика Евстафия, четвертая на всеедной неделе; приезжают на оные купцы из Российских и Малороссийских городов с красным товаром, с кожами, железом и прочим. \n",
      "719|УСПЕНСКОЙ , погост Володимерского Наместничества близ слободы Яропольца. Въсем селе бывает ярмарка в праздник успения Пресвятые Богородицы , а еженедельные торги по понедельникам.\n",
      "77|БУРЕЦКОЙ, погост в Новгородском уезде. Здесь бывает годовой съезд для торгу в девятую пятницу по Пасхе.\n",
      "43|БЕРНИКИ, село Тульского Наместничества в Каширском уезде. Во время десятой и одинадцатой пятниц бывает здесь ярмарка, на кою ярмарку товары в продажу привозятся из Каширы, а по близости из Тулы , Серпухова, Венева и Зарайска по малому числу москотильной, мелочной и прочие, также съестные припасы, а паче от обывателей уездных бывает в продаже пенька, мед, воск и прочее изделье.\n",
      "528|ПЕТРОВСКАЯ , крепость Екатеринославского Наместничества. В оной бывает в году шесть ярмарок.\n",
      "439|МОЛВИТИНО , село Костромского Наместничества около слободы Судиславля. Здесь бывает годовая ярмарка Июня 16 дня, для которого торгу построены и лавки.\n",
      "129|ВЫБОР, пригород того же Наместничества. Здесь бывают годовые ярмарки: первая в день Сошествия Святого Духа , вторая в день Успения Богородицы, третия в день Воздвижения. На оные приезжают Торопецкие купцы с мелочным товаром.\n",
      "768|ЧЕРНЕЕВ НИКОЛАЕВСКОЙ, монастырь Тамбовского Наместничества в уезде города Шатска. Здесь бывает в году ярмарка Мая 9; торгуют разными внутренними товарами, холстом, пенькою , шерстью и прочими.\n",
      "427|МИЛОСЛАВИЧИ, местечко Могилевского Наместничества в Климовицком уезде. В оном бывает одна годовая ярмарка.\n",
      "606|САРБАЕВО, село Синбирского Наместничества в Алатырском уезде. Здесь бывает ярмарка в день Тихвинския Богородицы; на тое ярмарку приезжают со всякими шелковыми и прочими товарами из Москвы и из других городов купцы, такожь и крестьяне.\n",
      "300|КЛИН, город Московской Губернии. В оном бывает годовая ярмарка пред пятницею в субботу; на оную приезжают из других уездов, и еженедельно торгуют в субботу разными крестьянскими товарами , колесами и всякою деревянною посудою и прочими съестными припасами; частию бывают и купцы из некоторых окрестных городов с мелочными шелковыми и бумажными товарами.\n",
      "34|БАТРАК, село Синбирского Наместничества ниже города Сызрани. В нем с 29 Июня по 12 Июля бывает годовая ярмарка, на которую особливо привозят много уральской рыбы и икры.\n",
      "20|АРЗАМАС, город Нижегородского Наместничества. Здесь обыкновенно бывает торговых в неделе два Дни.\n",
      "658|СТАРИЦА , с 1775 году город Тверского Наместничества. Здесь бывают ярмарки дважды в год: первая на девятой неделе по Пасхе в пяток, вторая в Июле месяце перед Ильиным днем , в пяток же ; торгуют разными шелковыми, бумажными, суконными и прочими товарами.\n",
      "474|НОВОНИКОЛЬСКОЕ, САМОДУРОВКА тожь, село Рязанского Наместничества в уезде города Сапожка. Бывает в оном годовая ярмарка в девятую пятницу по Пасхе; торгуют разными мелочными товарами.\n",
      "4|АВЖЕНСКАЯ , волость Вологодского Наместничества и уезду. Здесь бывает два раза в год ярмарка , на коей торгуют Вологодские купцы мелочными товарами.\n",
      "201|ДУБОВОЕ , село Тамбовского Наместничества в Козловском уезде. Здесь бывает годовая ярмарка в день Чудотворца Николая Мая 9, куда приезжают купцы близ лежащих городов с разными мелочными товарами.\n",
      "108|ВЕРХНИЙ УДИНСК, город Иркутского Наместничества. В нем бывают в году две ярмарки : первая Февраля с 15 до половины Марта, а вторая Июня с 15 до половины Июля ; торговля и промысл на оных состоит из разных привозимых из Иркутска и других городов купцами Российских и Немецких товаров, на которые выменивают у здешних иноверцов пушные товары , рогатой скот, лошадей и проч. и отвозят чрез Троицкую крепость в Кяхту для промену Китайцам.\n",
      "525|ПЕТРОВКИ , село Екатеринославского Наместничества ь Полтавском уезде. В оном бывает каждонедельной торге окольными жителями разными съестными припасами и питьем.\n",
      "800|ЯРАНСК, с 1781 году город Вятского Наместничества. В нем бывают каждонедельно по Воскресеньям съезды , на которых купцы торгуют разными шелковыми и бумажными мелочными, также привозимыми из уезду, воском, медом, салом, кожами, овчинами , хмелем и разными здешнего произрастения пушными товарами.\n",
      "663|СТЕШКИ, село Тамбовского Наместничества в Козловском уезде. Годовая ярмарка в оном бывает 20 Июля, то есть в день Пророка Илии; на оную приезжают купцы из близ лежащих городов с разными мелочными товарами.\n",
      "260|ИРКУТСК, главный город Наместничества сего имени. Здесь бывают в году две ярмарки: первая с 15 Марта по 1 Мая вторая Ноября с 15 Генваря по 1, в которые состоит торговля разными Российскими и Китайскими товарами между Иркутскими и иногородными купцами.\n",
      "316|КОЛЮПАНОВКА, село Тульского Наместничества в 7 верстах от Алексина. Здесь бывает ярмарка Июля 8 числа, на которую приезжают купцы из Алексина с мелкими для крестьян товарами.\n",
      "707|ТУРИНСК, с 1782 году город Тобольского Наместничества. Здесь бывают знатные торговые съезды по вся воскресные дни.\n",
      "301|КЛЮЧЕВСКАЯ , пустыня Синбирского Наместничества в Алатырьском уезде. Здесь бывает в день Казанския Богородицы ярмарка, на которую приезжают со всякими шелковыми и прочими товарами из Москвы и из других городов купцы, такожь крестьяне со своими приуготовлениями.\n",
      "382|ЛИПОВСКОЕ, село Вологодского Наместничества в Яренском уезде. В оном бывает торговля однажды в год Генваря 19, но по большей части торгует здесь крестьянство.\n",
      "314|КОКВИНО , правильнее КОКОВИНО, сельцо Московской Губернии в Дмитровском уезде ; в нем на погосте С. Великомученика Георгия , что слывет в Конюшенной , бывает после Пасхи в десятую пятницу годовая ярмарка, продолжающаяся только один день, на коей торгуют мелочными товарами.\n",
      "679|ТАТАРСК, местечко Могилевского Наместничества в Мстиславском уезде. В оном бывает одна в году ярмарка.\n",
      "637|СЛОБОДСКОЙ, с 1781 году город Вятского Наместничества. В оном торговых съездов , кроме лавочной продажи , бывает пять: первая ярмарка в пятое Воскресенье великого поста , вторая в десятое Воскресенье по Пасхе, третия и четвертая в Июле и и в Сентябре месяцах, во время принесения в город из разных мест Святых образов, питая Ноября 24, в день Великомученицы Екатерины; да в уезде оного в селах Кинчине, Сырьянах , Балезине , Озловицком и Волчьевском пять же.\n",
      "258|ИНСАРА, город Пензенского Наместничества. В сем городе бывает в году одна ярмарка, называемая Троицкая на которую приезжают купцы из близ лежащих городов с недорогими товарами.\n",
      "464|НЕВЕЛЬ , город Полотского Наместничества. В нем бывают в году четыре ярмарки: первая в день Богоявления, вторая в первую неделю великого поста, третия в пяток пред днем Пророка Илии, четвертая Декабря 6 дня.\n",
      "9|АЛЕКСАНДРОВА ПУСТЫНЯ, село Ярославского Наместничества и уезду. Здесь бывает годовая ярмарка в Июне месяце ; съезжаются купцы с разными товарами из ближних городов, а именно: Ярославля, Ростова, Романова, Углича, Борисоглебска , Рыбного , Мологи и слободы Норской.\n",
      "456|МЦЕНСК, город Орловского Наместничества. В нем бывают каждую неделю торговые съезды.\n",
      "726|УТЕШЕВ, село Калужского Наместничества в Козельском уезде. Здесь бывает еженедельной торг по Воскресеньям ; на тот торг приезжает купечество Калужской и Орловской Провинций, из Болхова и Белева и других городов ; привозят товары москотильные , несколько бумажных , шелковых и других сортов материй ; а по большей части и уездные крестьяне доставляют разные уездные товары, всякой хлеб, пеньку, масло, мед, воск, вощину, парусную уточную пряжу, холст льняной, посконной и прочия крестьянския рукоделья и другие мелочные товары.\n",
      "597|РЯЖСК, город Рязанского Наместничества. Здесь бывают в году три ярмарки в Июле месяце : первая в девятую , вторая в десятую , третия в одиннадцатую пятницы после Пасхи , и продолжаются не более , как по одному дню. Купцы приезжают из ближних городов, и привозят шелковые , бумажные, москательные и прочие товары не по большему числу.\n",
      "432|МИХАЙЛОВ, город Рязанского Наместничества. В нем каждой год о десятой неделе по Пасхе в пятокъбывает ярмарка , на которой купцы из ближних городов торгуют мелочным товаром.\n",
      "522|ПЕРЕЯСЛАВЛЬ, город Киевского Наместничества. В оном бывают в году ярмарки : первая Генваря 6, в день Богоявления , вторая в десятую пятницу по Пасхе, третия Сентября 1, Симеоновская; купцы приезжают из близ лежащих городов с красными, крамными, суконными и прочими товарами ; а жители тех мест продают рогатой скот, лошадей , хлеб , смолу , горячее вино и прочее.\n",
      "111|ВИЛЬМАНСТРАНД , город Выборгского Наместничества. В сем городе бывает в году два раза ярмарка : первал 8, а вторая 29 Августа месяца.\n",
      "509|ОСТРОГОЖСК, город Воронежского Наместничества. В оном бывают ярмарки: первая по Пасхе в десятую пятницу, вторая Сентября 8, третия Декабря 6. Приезжают на оные Российские и иностранные купцы и Греки; привозят парчи и прочия шелковые материи , сукна , серебреную и фарфоровую посуду, галантерейные вещи и прочее.\n",
      "544|ПОДОЛ, город Московской Губернии. В нем каждую неделю по субботам бывает торг , на которой съезжается крестьянство с своими произрастениями , издельями и съестными припасами;\n",
      "539|ПЛОХОНА, село Калужского Наместничества в уезде города Козельска. Здесь бывают каждонедельные торжки по воскресеньям; на оные торги приезжает купечество из Калуги, Мещовска, Волхова, Белева и других городов; привозят товары москотильные, несколько бумажных, шелковых и других сортов материй , а по большей части и уездные товары, всякой хлеб, пеньку, масло , лен , воск , вощину , парусную уточную пряжу, холст льняной, посконной и прочия крестьянския рукоделия и другие мелочные товары.\n",
      "750|ЦУРУХАТАЕВСКОЙ , форпост Иркутского Наместничества в Нерчинском уезде. Здесь бывает ярмарка в Июне и Июле месяцах ; торг происходит у Российского и Сибирского купечества с приезжающими Китайцами проме-ном Российских, а выменом разных Китайских товаров.\n",
      "75|БРЯНСК , город Орловского Наместничества. В сем городе бывает в году ярмарка в Июне месяце в десятую пятницу по Пасхе; да близ города Свинская, начинающаяся с Сентября, и продолжающаяся по Октябрь.\n",
      "423|МЕРЕХВА, местечко Харьковского Наместничества и уезду. Здесь бывают ярмарки Июня 24, Августа 6; торгуют купцы мелочными, товарами , вином, пивом, медом и прочим.\n",
      "619|СЕМЕНОВСКОЕ , село Ярославского Наместничества в Пошехонском уезде. Здесь бывает годовая ярмарка в десятую пятницу после Пасхи, и продолжается три дни.\n",
      "287|КИДЕШКИНО , село Костромского Наместничества в уезде города Юрьевца Польского. В нем. кроме еженедельных торжков, в день Бориса и Глеба бывает годовая ярмарка.\n",
      "555|ПОЧИНКИ, село Пензенского Наместничества в Саранском уезде. Бывает здесь ярмарка в последних числах Июля; привозят купцы разные мелочные шелковые товары.\n",
      "559|ПРЕЛИ, местечко того же Наместничества и уезду. В сем месте бывают три в году ярмарки. Торгуют Рижского же Дворца крестьяне разными мелочными товарами, вином и пивом.\n",
      "660|СТАРОЙ БЫХОВ, с 1778 году город Могилевского Наместничества. Здесь бывают в году две знатные ярмарки, на которые приезжают купцы и из Малороссии.\n",
      "23|АРХАНГЕЛЬСКОЕ, ЗМЕЕВКА тожь, село Рязанского Наместничества в Донковском уезде ; в оном бывают в году две ярмарки: первая Февраля 2 в день Сретения Господня , вторая Ноября 8, в день Архистратига Михаила. Сюда приезжают купцы с разными мелочными. товарами.\n",
      "495|ОПОЧКА, город Псковского Наместничества. В сем городе бывает в году три ярмарки.\n",
      "514|ПАФНУТЬЕВ , монастырь Калужского Наместничества при городе Боровске. Подле сего монастыря бывают годовые ярмарки, первая о девятой пятнице, другая же Сентября 8 дня , в праздник Рождества Пресвятые Богородицы ; приезжают на оные купцы из разных городов с мелочными товарами.\n",
      "732|ФРИДРИХСГАМ, с 1784 году город Выборгского Наместничества. В оном каждое лето бывает ярмарка, как в приморском городе; отпускают за море доски, смолу и несколько железа, а сами получают оттуда соль , табак, вина и прочее, сверх же сего бывает в году и еще одна ярмарка 24 Августа.\n",
      "294|КИСТЕР , село Новогородского - Северского Наместничества в Стародубовском уезде. В оном бывают каждонедельные торжки, на которые съезжаются окольные жители , и торгуют мелочными товарами.\n",
      "216|ЕЛИСАВЕТЪ-ГРАД, город Екатеринославского Наместничества. В оном бывает в году четыре ярмарки.\n",
      "69|БОРОВИЧИ, город Новогородского Наместничества. В нем бывают в году три ярмарки: первая Генваря 25, вторая в день Живоначальные Троицы, третия Ноября 21 числа , на кои приезжают купцы и из других городов с шелковыми, шерстяными и прочими товарами.\n",
      "397|ЛЮБЕЧЬ, местечко Черниговского Наместничества. В оном бывает в год две ярмарки : первая Декабря 6, в день Святителя Николая, вторая в день Вознесения Господня. Торги ва оных и в ежедневные съезды отправляются привозными из окольных мест мелкими крамными вещами , хлебом, глиняною посудою , кожами , колесами к другими крестьянскими товарами,\n",
      "29|БАЕВКА, село в Сибири на вершине реки Свиаги; в оном всякое Воскресенье бывает торг.\n",
      "214|ЕЛЕЦ, город Орловского Наместничества. Здесь бывают торжки в Аргамачей слободе Сентября в 8 день, а в уезде его в селе Подворгальском Мая 21, при ТешевскомъЗадонском Богородицком монастыре Июля 23 день, в селе Петровском Июня 29, в селе Тюртене Июля в 8 день. На сих ярмарках торгуют Елецкие и других городов купцы с уездными обывателями всякими разными мелочными товары, а обыватели продают купцам и своей братьи лошадей , скотину , холст и съестные всякие припасы и рукоделье.\n",
      "746|ХРУЩОВО, село Рязанского Наместничества в уезде города Донкова. Здесь бывают в году две ярмарки: первая Мая 9, вторая Августа 16 дня; приезжают на оные купцы с разными мелочными товарами , также и крестьянство.\n",
      "451|МСТИСЛАВЛЬ, город Могилевского Наместничества. В оном бывает в году две ярмарки , на которые приезжают для торгу Жиды, и продают разные товары, какъ-то хлеб, скот и для крестьянских работ разные вещи.\n",
      "682|ТЕНГУШЕВА, деревня того же Наместничества около посада Кадома. Здесь бывает в году ярмарка, на которую съезжаются купцы из ближних городов с шелковыми , бумажными и другими разными мелочными товарами.\n",
      "197|ДОРОГОБУЖ, город Смоленского Наместничества. В оном бывает одна ярмарка годовая, Июня месяца перед Петровым днем, и приезжает из ближних город в купечество. В уезде оного состоит пятьдесят два села , в коих бывает во время праздников храмовых съезд купечеству только с одними съестными припасы.\n",
      "284|КЕРЕНСК, город Пензенского Наместничества. В оном бывают две ярмарки в году: первая в Июне, а другая в Июле месяцах, и продолжаются , первая день , а другая два, сверх каждонедельных торгов. Купцы на оные приезжают Кадомонские , Касимовские и Арсамазские с разными мелочными товарами.\n",
      "261|ИСА, село в Саратовском Наместничестве и уезды. В оном, сверх еженедельного торгу; бывает ярмарка Августа 1 дня, купцы на оную товары привозят шелковые и прочие мелочные.\n",
      "564|ПСКОВ, главный город Наместничества сего имени. В сем городе бывает в году две ярмарки, да в уезде оного шесть.\n",
      "554|ПОТОК, местечко Киевского Наместничества в Миргородском уезде. В ономъбывают в год две ярмарки: дпа Июня 24, а другая Октября 6 чисел. Торгуют на оных приезжие из уезду жители разными мелочными товарами , дам родящимися и делающимися, как - то хлебом, горячим вином, разным скотом, овчинами, кожами и проч. Иногда приезжают и Великороссийские купцы с красным товаром.\n",
      "638|СЛОЛЬЦА КОЛЕСНАЯ, слобода Псковского Наместничества в уезде города Порхова. Здесь бывает 20 Июля ярмарка ; на оную съезжаются из Новагорода и из Старой Рузы купцы с разными шелковыми мелочными товарами.\n",
      "482|ОБРУБ, село Тверского Наместничества в уезде города Зубцова. Здесь бываеш годовая ярмарка Апреля 23, в день Великомученика Георгия; на оную приезжают купцы из окрестных ближних городов с мелочными шелковыми , бумажными и прочими разными товарами.\n",
      "56|БОГОРОДИЦКОЙ КАЗАНСКОЙ , монастырь Пензенского Наместничества в Нижеломовском уезде. Бывает здесь годовая ярмаркаа с 1 Июля по 9 число.\n",
      "309|КОЗЕЛЕЦ, город Киевского Наместничества. В оном бывает в году сверх ежененельных съездов пять ярмарок , на которые съезжается купечество из ближних Малороссийских городов с лавочными мелочными товарамииз Нежина и местечка Барышевки ; привозят сукна , такожь торгуют горячим вином , дегтем, рыбою, солью, разным хлебом и скотом ; а на недельные съезды приезжает крестьянство с хлебом и прочими. крестьянскими товарами.\n",
      "371|ЛАИШЕВ, город Казанского Наместничества. В оном бывает ярмарка Мая с 6 Июня по 1 число, для приезжающих на барочных караванах работных людей.\n",
      "185|ДЕЙМАНОВКА , село Черниговского Наместничества в Прилуцком уезде. Бывает здесь в году две ярмарки, одна о десятой пятнице, а другая 2 Июля, в день Положения честные ризы Пресвятые Богородицы , на коих торгуют окольные жители деревенскими произрастениями, как то хлебом , разным скотом, съестными припасами, деревянною посудою и прочею крестьянскою мелочью.\n",
      "573|РАТКОВКА, слобода Харьковского Наместничества в уезде города Изюма. В оной бывают в году три ярмарки: Первая на Вознесение Господне , вторая Августа 6 , на Преображение , третия Октября 1, в день Покрова. Купцы на оные приезжают из разных городов с шелковыми , бумажными , гарусными и прочими товарами.\n",
      "295|КИСТРУСА, село Рязанского Наместничества и уезду. В оном бывает ярмарка в день Сошествия Святого Духа, но торгуют токмо крестьяне.\n",
      "763|ЧЕРНАВСК, слобода Воронежского Наместничества. Здесь бывает одна в году ярмарка в день Сретения Иконы Владимирския Богородицы , то есть Июня 23 дня; на оную приезжают купцы из ближних городов с мелкими товарами, и продолжается оная только половину дня.\n",
      "213|ЕЛАТМА, город Тамбовского Наместничества. Здесь бывают каждонедельно в субботу торжки, на которые привозят съестные припасы и мелочные товары сторонние люди и Елатомские обыватели.\n",
      "32|БАРЫШЕВКА, местечко Киевского Наместничества в Переяславском уезде. В оном бывают в году три ярмарки: первая Генваря 1, вторая Мая 9, третия Сентября 11 чисел, на которых купцы торгуют разными мелочными товарами и привозимою из Донских станиц мелкою рыбою; а жители продают рогатой скот, лошадей, хлеб, смолу , горячее вино и Крымскую соль.\n",
      "246|ИВАНОВО, село Владимерского Наместничества в Суздальском уезде. Здесь бывает годовая ярмарка Сентября 14 дня, на которой разных городов купцы торгуют разными мелочными купеческими товарами.\n",
      "370|ЛАЗОВИЦА, местечко Могилевского Наместничества в Климовицком уезде. В оном бывает одна ярмарка в году.\n",
      "556|ПОЧИНКИ , город Нижегородского Наместничества. В ем, кроме еженедельного по четвергам торгу, бывает в од Мая 25 дня ярмарка, на вторую приезжают из ближних городов купцы с мелочными шелковыми товарами, крестьяне привозить бывшею  хлеб, лес и деревянную посуду.\n",
      "643|СОЛЬ-ГАЛИЦКАЯ, с 1778 году город Костромского Наместничества. В оном бывает в году две ярмарки, сверх обыкновенных торгов.\n",
      "114|ВОЗНЕСЕНСКОЙ, погост Владимерского Наместничества в Гороховском уезде. Здесь бывает торговой съезд в день Вознесения Господня.\n",
      "255|ИЗЮМ, город Харьковского Наместничества. В сем городе бывает в году четыре ярмарки: первая в Маие месяце в день Преполовения, вторая Июня 24, в день Рождества Иоанна Предтечи, третия Сентября 14, в день Воздвижения честного Креста, четвертая Октября 26, в день Великомученика Димитрия ; на оные купцы приезжают из разных городов с шелковыми , бумажными , шерстяными и прочими товарами.\n",
      "163|ГОРБАТОВ, город Нижегородского Наместничества. В нем каждонедельно бывает по середам торг , на которой привозят крестьяне хлеб и пеньку.\n",
      "61|БОРА, село в Синбирском Наместничестве, от Синбирска в 60 верстах. В нем бывают всякую неделю знатные торги.\n",
      "360|КУДАРИНСКАЯ , слобода Иркутского Наместничества в уезде города Верхнеудинска. Здесь бывает ярмарка Ноября 24 дня; торгуют на оной приезжие из Сибири купцы разными мелочными товарами.\n",
      "405|МАКАРЬЕВ на унже, город Костромского Наместничества. В нем бывают в году три ярмарки : первая Июля на 20, вторая Генваря на 19, третия Марта на 25 число. Приезжают на оные разных городов купцы с шелковыми, бумажными и прочими мелочными товарами.\n",
      "653|СТАВРОПОЛЬ, с 1780 году город Синбирского Наместничества. В оном бывает один базарной день во вторник.\n",
      "3|АВДУЛОВО, ИВАНОВСКОЕ тожь, село Рязанского Наместничества в Донковском уезде, Здесь бывает одна годовая ярмарка в день Иоанна Воина, то есть Июля 30, на которую приезжают купцы и крестьяне с мелочными товарами.\n",
      "100|ВЕЙДЕЛЕВКА, слобода Воронежского Наместничества в уезде города Валуек. В оной бывает в году три ярмарки.\n",
      "329|КОСТРОМА , главный город Наместничества сего имени. Здесь бывают повсягодно в девятую и в десятую недели по Пасхе ярмарки, и в каждой неделе торговых два дни, в середу и пяток; приезжает на оные по большей части крестьянство ; привозят из окрестных мест холст , пряжу , хлеб и прочие крестьянские товары.\n",
      "605|САРАТОВ, главный город Наместничества сего имени. В нем бывает ярмарка Июля 8 числа от съезду крестьян из ближних селений для продажи и покупки им нужных вещей , болеежь съезжаются Калмыки для продажи Калмыцких лошадей , кои продают они рублей по 16 и больше, которые высоки бывают ростом, и ходят иноходью; ош Россиан же Калмыки покупают между прочим хлеб, а более сукна и шелковые материи для одевании своих жен.\n",
      "595|РЕЗЫЦЫ , город Полотского Наместничества. В сем городе бывают в году две ярмарки ; торгуют Рижского Дворца крестьяне разными мелочными товарами , вином и пивом.\n",
      "651|СПИРОВО, село Московской Губернии в Волоколамском уезде. В сем селе бывает годовая ярмарка Ноября 21 дня ; торгуют один день разными крестьянскими товарами.\n",
      "348|КРЕМЕНЧУГ, город того же Наместничества. В оном сверх обыкновенных торгов бывает в году три ярмарки, продолжающияся по три же дни.\n",
      "753|ЧАСОВНЯ АПОСТОЛА ФОМЫ, принадлежащая к Дворцовым волостям Псковского Наместничества в уезде города Острова. При оной бывает ярмарка в Апреле месяце ; купцы приезжают из близ лежащих городов с недорогими товарами.\n",
      "254|ИЗМАЙЛОВО , село Нижегородского Наместничества в Арсамазском уезде. В оном бывает одна в г Ду ярмарка.\n",
      "171|ГОРОХОВЕЦ, город Владимерского Наместничества. Здесь ярмарок нет, а бывает одна, расстоянием от оного в двадцати четырех верстах за рекою Клязьмою при Флорищевской пустыне прежде пра здника успения Пресвятые Богородицы дней за пять, на которую привозят холст и прочие мелочные Российские товары.\n",
      "473|НОВЫЕ МЛИНЫ, местечко Черниговского Наместничества в уезде города Нежина. Здесь бывает в году четыре ярмарки: первая Генваря 6, вторая 23 Апреля, третия 29 Июня, четвертая 8 Сентября. На оные приезжают купцы из Великороссийских и Малороссийских городов с разными мелочными товарами; жителижь продают хлеб, рыбу, соль Крымскую и прочее.\n",
      "409|МАЛЫКОВА, местечко Полотского Наместничества в уезде города Динабурга. В сем месте бывает в году одна ярмарка; торгуют Рижского Дворца крестьяне разными мелочными товарами, вином и пивом.\n",
      "416|МАШЕВ , село Новогородского - Северского Наместничества в Стародубовском уезде. В оном бывают небольшие еженедельные торжки.\n",
      "520|ПЕРЕМЫШЛЬ , город Калужского Наместничества. Здесь бывает годовая ярмарка сверх обыкновенных торгов в десятую пятницу по Пасхе; привозят на продажу хдеб, пеньку , хмель и прочее.\n",
      "243|ИВАНОВКА , село Пензенского Наместничества в Саранском уезде. Здесь бывает годовая ярмарка Июля 8 Дня; привозят купцы разные мелочные шелковые товары.\n",
      "728|ФАТЕЖ, с 1779 году город Курского Наместничества. В нем торговой день для окольных поселян бывает в Воскресенье.\n",
      "292|КИРИЛОЕО , село Тульского Наместничества в уезде города Новосиля. В оном селе бывает ярмарка Июля 15дня, купцы торгуют разными мелочными лавочными товарами.\n",
      "518|ПЕРЕВОЛОЧНА, местечко Екатеринославского Наместничества. В оном бывает в году две ярмарки.\n",
      "693|ТОБОЛЬСК, с 1782 году главный город Наместничества сего имени. Купцы Российские, в Сибири и на Китайскую границу торгующие, Тобольска не минуют. Зимою с обеих сторон есть проезд непрестанной ; весною отправляют по рекам на судах в Енисейск и до Иркутска, а осенью оттуда водяным же путем приезжают. И так бывает в Тобольске дважды в год ярмарка: весною Российским, а осенью Сибирским и Китайским товарам. Купцы приезд еще имеют с товарами из Ирбитской ярмарки, и торг содержат Марта с 20 Мая по 25 число, в том числе приезжают и Греки.\n",
      "347|КРЕМЕННОЙ , шанец Екатеринославского Наместничества. В оном бывает в году четыре ярмарки.\n",
      "523|ПЕРМЬ, главный город Наместничества сего имени. В нем, кроме еженедельного по воскресным дням торгу, бывают в году три ярмарки: первая 29 Июня, вторая 20 Сентября, третия 24 Ноября.\n",
      "652|СРЕБНОЕ, местечко Черниговского Наместничества в Прилуцком уезде. В оном бывает в год две ярмарки: одна Апреля 23, в день Великомученика Георгия ; другая Сентября 8, в день Рождества Богоматери. На оных торгуют окольные жители своими произрастениями , какъ-то хлебом, разным скотом, съестными припасами , всякою посудою , сеном, дегтем и прочими мелочными. Здесь бывают также еженедельные торжки в понедельник и пяток.\n",
      "265|ИОСИФОВ, монастырь Московской Губернии в Рузском уезде. Подле оного монастыря бывает годовая ярмарка Июля 20 дня; торгуют разными мелочными товарами.\n",
      "435|МИХАЙЛОВКА, слобода Курского Наместничества. В оной бывает одна в году ярмарка в день С. Апостолов Петра и Павла, на которую со всех украинских городов приезжают купцы с разными товарами.\n",
      "529|ПЕТРОВСКАЯ, слобода Вологодского Наместничества и уезду. Здесь бывает одна в году ярмарка в Июне месяце на Рождество Иоанна Предтечи. Сюда приезжают купцы Вологодские, Устюжские и Тотемские для покупки холстов и продажи разных мелочных товаров.\n",
      "761|ЧЕРИКОВ, с 1779 году город Могилевского Наместничества. Здесь бывает в году две ярмарки , на которых продают рогатой скот, лошадей , соль и прочая.\n",
      "562|ПРОПОЙСК, местечко Могилевского Наместничества. Здесь бывают кроме обыкновенных торгов две ярмарки в году.\n",
      "538|ПЛОСКОЕ, село Тульского Наместничества в уезде города Новосиля. В оном селе бывает ярмарка Мая 25 и Ноября 8; торгуют купцы разными мелочными товарами и хлебом.\n",
      "146|ГАЛЯНИ, местечко Полотского Наместничества в Динабургском уезде. В сем месте бывают в году две ярмарки ; торгуют Рижского Дворца крестьяне разными мелочными товарами , вином и пивом.\n",
      "422|МЕНА, местечко Черниговского Наместничества. В оном бывает в году две ярмарки : одна Мая 9, в день Святого Николая, другая 8 Сентября, в день Рождества Богоматери. На оных и недельных съездах торгуют окольные  жители и приезжие из городов купцы мелочными лавочными товарами, рогатым скотом, лошадьми, хлебом, рыбою, Крымскою солью и прочими съестными и питейными припасами , также и рукодельными вещами.\n",
      "540|ПОВОДНЕВО, село Тверского Наместничества в уезде города Бежецка. Здесь бывает годовая ярмарка 14 Сентября; съезжаются на оную купцы с мелочным лавочным товаром.\n",
      "134|ВЫЧУГА, село Костромского Наместничества в уезде города Кинешмы. Здесь бывает годовая ярмарка в Троицын день.\n",
      "526|ПЕТРОВСК, город Ярославского Наместничества. В нем бывает в год дне ярмарки : первая 29 Июля , а вторая 14 Сентября, на которые съезжается из близ лежащих уездов крестьянство с разными издельями и съестными припасами.\n",
      "273|КАМЕНКА , слобода Харьковского Наместничества в уезде города Изюма. В оной бывает в году четыре ярмарки: первая в день Алексия человека Божия , вторая в день Великомученика Георгия, третия и четвертая во дни Николая Чудотворца летнего и зимнего. На оные купцы приезжают из разных Российских городов с шелковыми , бумажными , шерстяными товарами и прочим.\n",
      "253|ИГУМНОВО , село Тульского Наместничества в Каширском уезде. Здесь бывает ярмарка о десятой и одинадцатой пятницах ; на оные ярмарки товары привозятся из Каширы, Тулы , Серпухова, Венева и из Зарайска по малому числу москотильные мелочные и прочие, также съестные припасы ; от обывателей уездных в продаже бывает пенька , мед , воск и всякое изделье.\n",
      "315|КОЛОМНА, город Московской Губернии. В нем еженедельно по понедельникам и четвергам для торгу собирается из здешнего и других уездов крестьянство с хлебом, щепетильным товаром, глиняною и деревянною посудою и разными издельями.\n",
      "113|ВОЕВОДСКОЕ, село Пензенского Наместничества в Саранском уезде. Здесь бывает ярмарка в последних числах Июля; привозят купцы разные мелочные шелковые товары.\n",
      "745|ХОТЬМЫШСК, с 1780 году город того же Наместничества. В нем бывают в году три ярмарки.\n",
      "393|ЛУХ, город Костромского Наместничества. В уезде оного при отчине Николаевского монастыря Тихоновой пустыне имеется ярмарка Июня 16 дня, на которую привозит разных городов купечество шелковые и прочие товары.\n",
      "507|ОСТРОВ, город Псковского Наместничества. В оном бывает в году три ярмарки : первая в Маие, вторая в Июле, третия Сентября 14; купцы приезжают из Пскова с бумажными , шелковыми и прочими в небольшем числе товарами.\n",
      "785|ШУМЯЧИ, местечко Могилевского Наместничества в Климовицком уезде. Здесь бывают две ярмарки в году.\n",
      "770|ЧИГИРИНЪ-ДУБРОВА, местечко Киевского Наместничества в Лубенском уезде.Здесь бывает в году три ярмарки : первая в день Великомученика Георгия, другая в день Пророка Илии , третия в день празднования Св. Параскевы.\n",
      "224|ЕФРЕМОВ, город Тульского Наместничества. В оном бывает в году четыре ярмарки : первая в Июне, называемая десятая пятница, вторая Августа 6, в день Преображения Господня, третия Сентября 15, в день Великомученика Никиты , четвертая Октября 1, в день Покрова Богородицы. Купцы съезжаются из окрестных городов с разными товарами, но по большей части с мелочными.\n",
      "354|КРОЛЕВЕЦ, город Новогородского - Северского Наместничества. Здесь бывает в году три ярмарки, и одна из них бывает великая.\n",
      "143|ГАВРИЛОВА , слобода Владимерского Наместничества в Суздальском уезде. Здесь бывает кодовая ярмарка Июля 4 дня; съезжаются из разных городов купцы с мелрчными купецкими товарами.\n",
      "252|ИГРИЩИ , село Ярославского Наместничества и уезду. В сем селе бывает годовая ярмарка в Сентябре месяце ; съезжаются купцы из ближних городов, как - то Ярославля, Ростова , Романова , Углича , Борисоглебска , Рыбного , Мологи и слободы Норской.\n",
      "90|БЕЛОКУРИНА, слобода Воронежского Наместничества в уезде города Валуек. В оной бывает в году две ярмарки.\n",
      "688|ТИСКАДЫ, местечко Полотского Наместничества в уезде города Динабурга. В немъбывает в году три ярмарки, на коих торгуют Рижского Дворца крестьяне разными мелочными товарами, вином и пивом.\n",
      "697|ТРЕСВЯТСКОЕ, УРЕНЬ тожь, село Вятского Наместничества в уезде города Царевосанчурска; здесь съежаются для торгу каждый год Генваря 30 и 31, Февраля 1, Декабря 6 и 7 чисел купцы со всякими мелочными шелковыми и бумажными товарами; продают также хлеб, мед, воск, яловочные сырые и сухия кожи , овчины, сало, рыбу, медвежьи и волчьи кожи, лисицы, куницы, заячины, белку, также и лошадей.  \n",
      "380|ЛИМАНЬ, слобода Харьковского Наместничества в уезде города Изюма. В оной бывает в году четыре ярмарки : первая на Фоминой неделе, вторая Июля 8, в день Прокопия, третия Октября 1, в день Покрова Богородицы, четвертая Ноября 1, в день Космы и Дамиана. Купцы приезжают на оные ярмарки из разных Российских городов с шелковыми, бумажными , шерстяными и прочими товарами.\n",
      "130|ВЫБОРГ, главный город Наместничества сего имени. В оном бывает в каждое лето ярмарка, как в городе приморском; отсюда за море отпускают доски, смолу , железо , а получают соль, табак , вина и прочее. Сверх сего бывает в году еще две ярмарки: первая Августа 24, вторая Сентября 21, на которыякрестьяне привозят по большей части рогатой скот, лошадей и съестные припасы.\n",
      "584|РОМЕН, город Черниговского Наместничества. В оном бывает в год четыре ярмарки : первая о Масляной неделе, вторая в день Вознесения , третия на день Пророка Илии, четвертая в день Собора Архистратига Михаила. Сюда приезжают купцы Великороссийские , Малороссийские и иностранные с шелковыми, бумажными , гарусными , серебреными , медными , оловянными, галантерейными и прочими товарами , а особливо великой торг и отпуск бывает отсюда табаку.\n",
      "271|КАЛИНКИНО, село Тамбовского Наместничества около слободы Доброй. Бывает здесь в году ярмарка Июля 20, на которую приезжают купцы с разными мелочными товарами.\n",
      "120|ВОЛЧЬЯ , слобода Харьковского Наместничества и уезду. Здесь бывают ярмарки Сентября 6, Октября 14, Декабря 9, Генваря 27, Марта 9, Мая 11, Июля 24; торгуют купцы мелочными товарами, вином, пивом, медом и прочим.\n",
      "587|РУБЕЖНАЯ , слобода Графа Гендрикова в Екатеринославском Наместничестве около слободы Салтовой. В оной годовые ярмарки бывают, первая Генваря 1, вторая в день Вознесения Господня, третия Июня 24, четвертая Июля 20; пятая Сентября 14. На сии торги съезжаются из близълежащих сел и слобод однодворцы и Черкасы , и торгуют мелочными товарами.\n",
      "475|НОВОСИЛЬ , город Тульского Наместничества. Здесь бывает в году одна ярмарка в день Преполовения ; приезжают из соседственных городов купцы с разными мелочными москотильными и красными товарами.\n",
      "493|ОМЕЛЬНИК, местечко Киевского Наместничества в Миргородском уезде. В оном бывает в году две ярмарки : одна Июля 20, а другая Октября 14; торгуют на оных приезжие из уезду жители разными мелочными товарами, там родящимися и делающимися, как - то хлебом , горячим вином, разиым скотом, овчинами , кожами и проч. иногда приезжают и Великороссийские купцы с красным товаром.\n",
      "685|ТЕРЯЕВО, село Московской Губернии в Рузском уезде. В нем бывает годовая ярмарка в день Святого Пророка Илии.\n",
      "378|ЛЕЖНЕВО, село Владимерского Наместничества в Суздальском уезде. Здесь бывает годовая ярмарка в день Семика; съезжаются из разных городов купцы с разными товарами.\n",
      "563|ПРОТОПОПОВА, слобода в урочище Собора Николая Чудотворца Гостунского, Тульского Наместничества под городом Беловым. В оной бывают ярмарки Мая 9 и в Троицын день , продолжающияся по одному дню ; приезжие купцы из соседних городов торгуют на оных шелковыми и другими мелочными товарами, также лошадьми и прочим.\n",
      "727|УХОЛОВО, ЯКИМЦА тожь, село Рижского Наместничества и уезду. В оном бывают в году три ярмарки , на которые купцы приезжают из ближних городов с шелковыми , бумажными , москотильными и прочими товарами не в большем числе, но более торгуют крестьяне холстом, колесами , деревянною посудою и прочим.\n",
      "44|БИЛЯРСК, пригород Казанского Наместничества. Каждую неделю в один назначенной день бывает здесь базар, куда съезжаются жители всех около лежащих мест; привозят на торжище все свои домашния рукоделия, коими они избыточествуют. Для купцов, на торг сей приезжающих, сделано несколько деревянных лавок, в которых продают они все нужное для земледельцев.\n",
      "684|ТЕРЕШКОВО, село Тверского Наместничества в Зубцовском уезде. В нем бывает годовая ярмарка Мая 20, в день Алексея Митрополита; на оную приезжают купцы из окрестных ближних городов с мелочными шелковыми и прочими товарами.\n",
      "46|БЛАГОВЕЩЕНСКОЙ ПРИХОД , деревня в Архангельском Наместничестве около Вижева. Здесь бывает ярмарка в первых числах Марта , по чему называется и Евдокейскою,а слывет Вижевская Благовещенская ; купцы приезжают на оную из всех торговых городов Архангельского Наместничества и из соседних Провинций. Здесь построен деревянной гостиной двор со многими лавками и постоялыми избами для приезжающих на сию ярмарку купцов.\n",
      "553|ПОРЕЧЬЕ, село Тверского Наместничества в Бежецком уезде. Здесь кроме годовой ярмарки бывают еженедельные торжки , на которые из уездов обыватели привозят всякой хлеб и прочие сырейные и съестные товары.\n",
      "5|АВРАМИЕВ, монастырь Костромского Наместничества, от города Чухломы в 10 верстах. Здесь бывает ярмарка. Зри Чуxлома город.\n",
      "633|СИНСКОЙ, погосте Псковского Наместничества в уезде города Острова. Здесь бывает в году две ярмарки: первая в Июне , вторая в Октябре ; купцы приезжают на оные из Пскова с разными мелочными товарами.\n",
      "11|АЛЕКСИН, город Тульского Наместничества. Здесь бывают две в году ярмарки: первая Июля 1, вторая Августа 29 дня. На оные приезжают с разными москотильными товарами.\n",
      "313|КОЗЛОВСКАЯ , крепость Екатеринославского Наместничества. В оной бывает в году четыре ярмарки.\n",
      "477|НОСОВКА , местечко Киевского Наместничества и уезду. В оном местечке бывает в году три ярмарки.\n",
      "777|ШАРТОЛИНСКОЙ НИКОЛАЕВСКОЙ , монастырь Володимерского Наместничества в уезде города Шуи. Бывает здесь ярмарка Мая 9; торгуют купцы иностранными лавочными товарами.\n",
      "577|РЖИЦА , местечко Киевского Наместничества в Любенском уезде. В оном бывают в году две ярмарки: одна на Сентября 8, другая Ноября 21 чисел. Торг бывает привозимыми из уездов товара ми, какъ-то салом, рыбою, дегшем, горячим вином, нагодьнымн овчинами, шубами, говяжьими кожами , рогатым скотом , лошадьми , печеным хлебом , съестными припасами и другими мелочными товарами.\n",
      "788|ЩИГРЫ, с 1779 году город Курского Наместничества. В оном бывает одна в году ярмарка в Троицын день; сверх того здешние обыватели торгуют по Воскресеньям мелочным крестьянским товаром, хлебом и припасами.\n",
      "248|ИВАНОВСКОЕ, село Московской Губернии в Звенигородском уезде. В сем селе бывает ярмарка каждогодно Июля 8 дня.\n",
      "50|БОГАТИЩЕБО, село Тульского Наместничества в Каширском уезде. Здесь бывает ярмарка Июля 8 дня, на которую товары в продажу привозятся из Каширы , а по близости из Тулы, Серпухова, Венева и Зарайска, по малому числу москотильной , мелочной и прочие съестные припасы , а паче от обывателей уездных в продаже бывает пенька, мед, воск и прочее деревенское изделье.\n",
      "614|СВЯТОЕ МЕСТО , слобода Казанского Наместничества в уезде города Царевококшайска. Здесь бывает ярмарка в Августе месяце; торгуют шелковыми, бумажными, железными, медными и прочими товарами, также и лошадьми.\n",
      "458|МЫШКИН, город Ярославского Наместничества. В нем бывает годовая ярмарка в Мая месяце. Съезжаются купцы из ближних городов, как - то из Ярославля, Ростова , Романова , Углича , Борисоглебка , Рыбинска, Мологи и слободы Норской.\n",
      "498|ОРЕНБУРГ, город Уфимского Наместничества. В сем городе ярмарка летним временем бывает на меновном дворе, то есть вне города, когда Азиатские купцы и Киргисъ-Кайсаки съезжаются , которые с Российскими купцами на разной Российской и иностранной товар производят мену, отдавая вместо оного пряденую и хлопчатую бумагу , бумажные и полушелковые халаты, выбойку; бязь бедую и крашеную, чалдары белые , лошадей, баранов , верблюжью шерсть , волковъ,лисиц , Корсаков , армяки , тулупы и прочее.\n",
      "356|КРЫЛОВ, слобода Екатеринославского НаместничестваВ оной бывает в году девять ярмарок.\n",
      "755|ЧАУСЫ, с 1778 году город Могилевского Наместничества Здесь бывает одна годовая ярмарка.\n",
      "675|СЯМСКОЙ, монастырь Вологодского Наместничества и уезду. При оном монастыре бывает в году три ярмарки, на которых торгуют Вологодские купцы разными мелочными товарами.\n",
      "406|МАЛИНО, село Московской Губернии. в Коломенском уезде. В нем каждую неделю по вторникам бывает торг хлебом и деревянною посудою деревенского изделья.\n",
      "568|ПУТЯТИНО, село Тамбовского Наместничества около городка Доброго. Здесь бывает в году ярмарка Июля 8, на которую приезжают купцы с мелочными товарами.\n",
      "796|ЯКУТСК, с 1783 году город Иркутского Наместничества. Здесь бывают ярмарки в Декабре, в Июне, в Июле и Августе месяцах, когда из разных городов наплывают  сверху Лены реки со всякими товарами купцы.\n",
      "411|МАРКУШЕВСКАЯ , Економическая деревня Архангельского Наместничества. Здесь бывает ярмарка Июля 8 дня; купцы приезжают из ближних городов с разными мелочными москотильными и прочими товарами, и покупают у крестъян их приуготовления, а иногда и мягкую рухлядь, также сало , холст и прочее.\n",
      "227|ЖОВНИН, местечко Киевского Наместничества в Лубенском уезде. Здесь бывает в году две ярмарки: одна въдень Вознесения Христова, другая Сентября 1 дня.\n",
      "41|БЕРЕЗОВЦА, село Костромского Наместничества в Чухломском уезде. В нем бывает ярмарка в день Воздвижения честного креста Господня ; приезжают на оную из окрестных городов купцы с малым числом лавочных товаров.\n",
      "505|ОСТЕР, город Киевского Наместничества. В оном, кроме еженедельных по понедельникам и пятницам торгов , бывает в году две ярмарки : одна в Новой год, а другая о десятой пятнице по Пасхе.\n",
      "94|ВАЛДАЙ, город Новогородского Наместничества. В оном бывают три ярмарки : первая на Светлой неделе, вторая Октября от 23 по 28, третия в праздник Рождества Христова три дни. На оные приезжают купцы из окрестных городов с щепетильными мелкими товарами и съестными припасами.\n",
      "759|ЧЕРЕНЧИЦКОЙ, погост в уезде города Старой Рузы. Здесь бывает одна годовая ярмарка в день Ильинской пятницы, и купцы приезжают из Старой Рузы с мелочными товарами.\n",
      "198|ДРИЦАНЫ, местечко Полотского Наместничества в Динабургском уезде. Здесь бывают в году две ярмарки; торгуют Рижского Дворца крестьяне разными мелочными товарами , вином и пивом.\n",
      "377|ЛЕВКИЕВ, монастырь Московской Губернии в Волоколамском уезде. Здесь бывает годовая ярмарка Августа 15 дня.\n",
      "533|ПЕЧЕНЕГИ, слобода Харьковского Наместничества в уезде города Изюма. В оной бывает в году четыре ярмарки : первая на день Вознесения , вторая Августа 6, на день Преображения , третия Октября 28, четвертая на Всеедной неделе в четверток. Купцы приезжают на оные из разных городов с шелковыми, бумажными , гарусными и прочими товарами.\n",
      "420|МЕГРА, погост Олонецкого Наместничества в уезде города Вытегры. Здесь бывает годовая ярмарка в день Рождества Христова , торгуют лавочными на оной товарами, но большею частию мягкою рухлядью, для которой купцы приезжают из разных Российских городов , в том числе и из С. Петербурга.\n",
      "476|НОСОВИЧИ, местечко Могилевского Наместничества в Белицком уезде. В нем бывает в год шесть ярмарок.\n",
      "172|ГОРОШИН, местечко Киевского Наместничества в Лубенском уезде. Здесь бывает в год три ярмарки : первая Генваря 1 дня , вторая о проводах Светлой седмицы , третия Сентября 14 дня.\n",
      "167|ГОРОДИЩЕ, местечко того же Наместничества в Миргородском уезде. В оном бывает в году четыре ярмарки : первая Мая 6, вторая Августа 1 , третия Октября 1 , четвертая Декабря 6; торгуют на оных приезжие из уездов жители разными мелочными товарами, там родящимися и делающимися, какъто хлебом, горячим вином, разным скотом, дегтем, овчинами, кожами и прочим; иногда приезжают и Великороссийские купцы с красными товарами. Здесь бывают и еженедельные торги.\n",
      "150|ГЕРМАНОВА , слобода того же Наместничества в Пошехонском уезде. Здесь бывает годовая ярмарка в Никольскую пятницу осенью , и продолжается два дни.\n",
      "118|ВОЛОКОПИНЕЖСКАЯ , деревня в Двинской Провинции близ рубежа Кеврольского. Здесь бывает в году ярмарка, именуемая Волокопинежская, в первых числах Декабря месяца; а по тому зовется и Никольскою. По большей части на сию ярмарку приезжают Архангельские и Холмогорские купцы с товарами не высокой цены для продажи крестьянам и для покупки у них деревенских товаров , на что привозят с собою деньги.\n",
      "269|КАЗАНСКОЙ БОГОРОДИЦКОЙ , монастырь Пензенского Наместничества, от города Нижеломова в полуторе версте. Здесь бывает годовая ярмарка Июля с 1, и продолжается по 9 число тогожь. месяца.\n",
      "22|АРХАНГЕЛЬСК, главный город Наместничества сего имени. В нем бывает каждой год ярмарка , которая начинается в Маие месяце с приходом из Россия барок, а из за моря кораблей; прямая же, или валовая начинается всегда в Июне, а оканчивается в первых числах Октября ; на ней бывает торговля между иностранными и Российскими купцами Российскими и иностранными товарами , продолжающаяся во время мореплавания, на которую ярмарку иностранные купцы всякие иностранные товары чрез море на кораблях из чужих краев к Архангельскому порту привозят; а Российские в те места отпускают всякие привозимые чрез верховые города водою и сухим путем Российские, Китайские, Персидские, Турецкие и прочие Азиатские и другие иностранные товары для народного употребления, а не в отвоз в чужие край, а именно же: привозимые вина Французския, Португальския, Гишпанския и Немецкия лучшия и ординарные, ром, уксус, водка венгерская, еликсир , винной, камень , сукна Голландския , Аглинския , Гамбурския, Шлезския и прочия лучшия и ординарные, лоскутья и покроми суконные , стамеды , штофы и прочия тому подобные шерстяные материи ; штофы и прочия шелковые и полушелковые парчи и ленты , выбойки , полотна Голландския, олово в блюдах и торелках и прочих медочах , прутовое и в слитках , свинец, железо листовое , иглы , ножи , вилки , ножницы и прочие железные товары; квасцы, ртуть, сера горючая , шелак, шпиатер, масло деревянное, винные ягоды , изюм , коринка , смоквы, чернослив, ядры мигдальные , кофе , чай , перец , орешки чернильные , сандал, сахар, лимоны, померанцы и прочие фрукты свежие и в вине; гвоздика, корица и прочия пряные зелья ; канфара, ладон росной и простой, из гумми разных сортов; посуда стеклянная, ценинная и каменая , стеклы окончинные и бутылки , сыры , патока черная, пшено сорочинское , светильня бумажная, бобры, выдры, лисицы; краски , консель брусковая, киноварь, оринак; чулки шелковые и шерстяные , также и прочие отпускные , как - то: хлеб , семя льняное, сало говяжье и ворванная смола, юфть, железо полосное и гвозди железные , пенька, лене , рогожии кульки рогожные ; щетина , канаты и веревки пеньковые и пакальные , пряжа канатная, воск, гривы конския , кости , кожи моржевые , мыло ; мягкая рухлядь , куницы , горнаcтаи , россомахи , белки , песцы, зайчины , мехи бельи и заячьи , кожи медвежьи, кошечьи и волчьи; полотна гладкия и салфеточные широкия и узкия и брань уездной работы, Фламския парусные и равендук холст , хрящ, посуда деревянная, свечи сальные, языки говяжьи копченые, губа лиственная , клей Сибирской, кожи подошевные и ворванные, сукна сермяжные и чирковые туфли, чаи жулан и простой, бадьян, масло коровье льняное и конопляное, мед сырец, рога оленьи , мясо говяжье соленое , семга соленая , пряники медовые.\n",
      "747|ЦАРЕВ БОРИСОВ, городок Харьковского Наместничества в уезде города Изюма. В оном бывает в году четыре ярмарки : первая на всеедной неделе, вторая в неделю Мироносиц , третия после Святой недели в девятую пятницу, четвертая Ноября 8, в день Архистратига Михаила; купцы приезжают на оные из разных Российских городов с шелковыми , бумажными , гарусными и прочими товарами.\n",
      "381|ЛИПЕЦК, город Тамбовского Наместничества. В нем бывают в году три ярмарки : первая Апреля 21, вторая Июня 23, третия Августа 15 чисел. Приезжают на оные из ближних городов купцы, и торгуют дня по два разными товарами.\n",
      "415|МАЧУХА, село Екатеринославского Наместничества в Полтавском уезде. В оном бывает каждонедельной торг между окольными жителями разными съестными и питейными припасами.\n",
      "200|ДУБКОВ, пригород того же Наместничества и уезду. Здесь бывают годовые ярмарки: 1 в Преображение Господне , 2 в день Сошествия Святого Духа.\n",
      "138|ВЕТКА, местечко Могилевского Наместничества в уезде города Рогачева. Здесь бывает в году три ярмарки.\n",
      "156|ГЛУШИЦКОЙ , монастырь в стороне Кубенского озера. Здесь бывает одна в году ярмарка; купцы приезжают для покупки холстов, привозя с собою разные мелочные товары.\n",
      "79|БУЧАЛКИ , село Тульского Наместничества в Епифанском уезде. В оном бывает ярмарка Июня 26; купцы для торгов приезжают из окрестных городов с различными товарами в не большем количестве.\n",
      "182|ДАЙМИНО, или ДАЙМИК, село Курского Наместничества в Щигровской округе; в нем бывают знатные ярмарки.\n",
      "282|КАШИН , город Тверского Наместничества. Здесь бывают две ярмарки: первая в великой пост на второй неделе в воскресенье, которая довольно бывает велика по причине съезжающагося на оную Дворянства и уездных обывателей ; вторая после Святой недели в десятую пятницу. Товары привозят на оные из уезду холсты льняные разные, да из города Ярославля , Переславля Залеского и Углича купцы приезжают с мелочными всякими небогатыми товарами.\n",
      "434|МИХАЙЛОВКА , местечко Киевского Наместничества око ло местечка же Яблунева. В оном бывает в году пять ярмарок, на которые купцы приезжают с разными товарами\n",
      "752|ЦЫВИЛЬСК, с 1781 году город Казанского Наместничества. В оном бывает дважды в год ярмарка, первой раз Июня 26, второй Июля 20; торгуют разными мелочными товарами.\n",
      "436|МИХАЙЛОВСКОЙ, погост Псковского Наместничества в уезде города Острова. Здесь бывает в году две ярмарки , в Сентябре и Ноябре ; купцы приезжают из Пскова с разными мелочными товарами.\n",
      "394|ЛЬГОВ, город Курского Наместничества. В немЬ, кроме еженедельного торгу, бывают в году две ярмарки: первая в Иванов день 24 Июня , вторая Сентября 1 числа, продолжающияся по два и по три дни, на которые Курские, Севские и Рыльские купцы привозят сукна , шелковые разные материи и мелкия вещи ; также довольно пригоняют туда с заводов лошадей.\n",
      "694|ТОМАРОВКА, слобода в уезде города Карпова. В оной бывает ярмарка после Рождества на всеедной неделе в пятницу, Мая 9, Июля 8, Декабря 6, и продолжаются оные по одному дню. Купцы приезжают из окрестных городов с мелочными товарами.\n",
      "101|ВЕЛИЖ, город Полотского Наместничества. В сем городе бывает в году две ярмарки : первая 20 Июля , вторая на первой неделе великого поста.\n",
      "296|КИТАЙ - ГОРОДОК , местечко Екатеринославского Наместничества в Полтавском уезде. В оном бывают в году три ярмарки.\n",
      "283|КЕМАРЫ, село Нижегородского Наместничества в Арсамазском уезде. Здесь бывает одна в году ярмарка.\n",
      "575|РАШЕВКА , местечко Киевского Наместничества в Гадяцком уезде. В оном бывает ь год две ярмарки: первая 9 Мая , в день Святителя Николая , другая Сентября 1, в день С. Симеона Столпника ; сверх сего бывают торги в каждое воскресенье; торгуют на ярмарках и в оные дня хлебом и съестными припасами.\n",
      "401|ЛЯУДЕРА , местечко Полотского Наместничества в уезде города Динабурга. В сем месте бывают в году две ярмарки ; торгуют Рижского Дверца крестьяне разными мелочными товарами, вином и пивом.\n",
      "659|СТАРОДУБ, с 1782 году город Новогородскаго-Северского Наместничества. В оном бывают в году ярмарки , одна на второй неделе великого поста, а другая после Светлого Воскресения на десятой ; торгуют на оных и в обыкновенные недельные торжхи мелкими красными товарами , сукнами , шелковыми материями, привозимыми из других соседственных мест. Купечество сего города отправляет к портам Рижскому и Санктпетербургскому пеньку и канаты, а в окольные места воск , лен , щетину , масло конопляное , смолу , рогожи , разную деревянную, стеклянную , хрустальную посуду и горячее вино.\n",
      "125|ВОРОНКОВ, местечко Киевского Наместничества в Переяславском уезде. Здесь бывает в год одна ярмарка в день Рождества Богородицы; торгуют на оных из окольных мест обыватели хлебом, съестными припасами, горячим вином, деревянною посудою и прочими мелочными.\n",
      "392|ЛУКОЯНОВ, город Нижегородского Наместничества. В нем каждую неделю по воскресеньям бывает торг , на которой приезжают крестьяне , но более с хлебом.\n",
      "27|АТКАРСК, город Саратовского Наместничества; здесь в городе бывает еженедельной торг, а в округ оного в некоторым селениях на речке Терсе и Болонде торжки,где производятся продажи , также как и в других сей Губернии местах.\n",
      "626|СЕРЕДА СТРАТИЛАТСКАЯ, село Московской Губернии в Волоколамском уезде. Здесь бывает годовая ярмарка Июня 8 Дня.\n",
      "683|ТЕПЛОГОРСКАЯ БОГОРОДИЦКАЯ , пустыня Вологодского Наместничества в уезде Устюга Великого. Здесь бывает в году одна ярмарка, на которую приезжают купцы из разных городов по большей части с мелочными товарами.\n",
      "588|РУЖНОЕ , село Орловского Наместничества под городом Карачевым. В оном бывает ярмарка Мая 2 дня; торгуют купцы мелочными товарами.\n",
      "778|ШАТСК, с 1779 году город Тамбовского Наместничества. В оном бывает в году одна ярмарка на десятой неделе по Пасхе в пятницу; на оной торгуют холстом, пенькою и прочими мелочными.\n",
      "600|САВИНИЦЫ, слобода Харьковского Наместничества в Изюмском уезде. Здесь бывают три ярмарки: первая Апреля 23, в день Великомученика Георгия; вторая Августа 15, в день успения; третия Ноября 8 , в день Архистратига Михаила. На оные приезжают купцы из разных Российских городов с шелковыми, бумажными, гарусными и прочими товарами.\n",
      "36|БАХМАЧЬ, местечко того же Наместничества и уезду. В оном бывает ярмарка в день Преображения; приезжают для торговли на оную из ближних мест с солью, рыбою , горячим вином , пивом и прочим.\n",
      "680|ТВЕРЬ, с 1775 году главный город Наместничества сего имени. Здесь торги бывают дважды во вторник и в четверток; а в Тверском уезде в Микульском стану, в отчине Князя Мещерского , в селе Лотошине, в неделе по единожды по воскресным дням, и привозят разныхъуездов и деревень крестьяне в оные торговые дни товары домовые своей работы, пеньку, хлеб, масло и прочие мелочные.\n",
      "180|ГУСТИНОВО, село Тульского Наместничества в Каширском уезде. Здесь бывает ярмарка Апреля 23 дня, на кокоторую товары привозят из Каширы , из Тулы, Серпухова, Венева и Зарайска по малому числу москотильной мелочнои , а паче от обывателей уездных в продаже бывает пенька, мед , воск и прочее деревянное изделье.\n",
      "110|ВЕСИЕГОНСК, город Тверского Наместничества. Бывает здесь одна ярмарка на праздник Богоявления Господня; товары привозятся в разных званиях, съестные и москотильные, также пушные и железные и посуда медная, оловянная и деревянная , кожаные обуви, чулки гарусные и шерстяные.\n",
      "369|ЛАДОГА НОВАЯ, город С. Петербургской Губернии. Здесь бывает единожды в год 15 Августа ярмарка, продолжающаяся неделю, где торгуют разными Российскими и заморскими товарами, такожь съестными крестьянскими припасами, для сего самого построен там гостиной двор, окружностью на сте осьмидесяти саженях, в котором лавок считается шестьдесят девять.\n",
      "362|КУМЗЕРСКАЯ, волость Вологодского Наместничества и уезду. Здесь бывает годовая ярмарка, но торгуют только мелочными товарами.\n",
      "85|БЕЛИКИ , местечко Екатеринославского Наместничества в Полтавском уезде. В оном бывает в году три ярмарки.\n",
      "338|КРАСНОГОРСКАЯ, пустыня Тамбовского Наместничества в уезде города Лебедяни. Здесь при девичьем Пресбраженском монастыре бывает одна годовая ярмарка.\n",
      "345|КРАСНОПОЛЬЕ , слобода Харьковского Наместничества в уезде города Мирополья. Здесь бывают ярмарки , первая Мая 9, вторая Августа 6, третия Ноября 8 ; приезжают на оные купцы из близ лежащих городов с мелочными товарами , а покупают скот, лошадей и прочее.\n",
      "418|МАЯЧКА, местечко Екатеринославского Наместничества в Полтавском уезде. В оном бывает одна в году ярмарка.\n",
      "206|ДУНИЛОВО, село Владимеркого Наместничества в Суздальском уезде. Здесь бывает ярмарка 1 Октября; приезжают купцы из разных городов с мелочными товарами.\n",
      "499|ОРЛИК, местечко Екатеринославского Наместничества. В оном бывает в году две ярмарки.\n",
      "366|КУРЬЯНОВО , местечко Полотского Наместничества. В сем месте бывает в году одна ярмарка ; торгуют Рижского Дворца крестьяне разными мелочными товарами , вином и пивом.\n",
      "708|ТУРКИ , село Пензенского Наместничества в уезде города Керенска. Здесь бываетв году ярмарка в Июле месяце , на которую приезжают из ближних городов с разными мелочными товарами; торгуют также лошадьми , рогатым скотом и прочим.\n",
      "547|ПОКРОВСКОЕ, село Тобольского Наместничества в уезде города Тюмени. В оном бывает каждогодно Июля 8 числа небольшой торжок.\n",
      "42|БЕРКУНОВА , деревня Московской Губернии в Волоколамском уезде. В сей деревне бывает годовая ярмарка в девятую пятницу; торгуют один день разными крестьянскими товарами.\n",
      "116|ВОЛОДИМЕРЕЦ, местечко Псковского Наместничества. Здесь учреждена ярмарка в день Николая Чудотворца, на которую приезжают из разных мест с мелочным товаром.\n",
      "177|ГРУНЬ , местечко Черниговского Наместничества в Гадяцком уезде. В оном бывает в году три ярмарки: первая в неделю Сырную, вторая в день Сошествия Святого Духа, третия Сентября 1, в день Св. Симеона Столпника. На оных торгуют разным скотом , хлебом и съестными припасами. Здесь также бывает недельный торг в Воскресенье большею частию хлебом.\n",
      "795|ЯЗЫКОВО, село Синбирского Наместничества в Курмышском уезде. Бывает здесь ярмарка в день Происхождения Честных Древ; на ту ярмарку приезжают со всякими шелковыми и прочими товарами из Москвы и из других городов купцы , также и крестьяне.\n",
      "324|КОРЕННАЯ, пустыня Курского Наместничества и уезду, в 27 верстах от города. При ней бывает одиножды в год ярмарка , начинающаяся за неделю пред девятою пятницею по Пасхе, и продолжающаяся по том чрез несколько дней после оной. На оную съезжаются нетокмо изо всех городов Российские, но и иностранные купцы, и превеликое множество всяких Российских, Немецких и Азиатских товаров привозят; также и лошадьми великой торг производится.\n",
      "191|ДМИТРОВ, город Московской Губернии. В оном бывает в году одна ярмарка, которая начинается с 15 Сентября , и продолжается неделю ; с товарами приезжают из разных ближиих городов , а именно из Москвы из Переславля Залесного , из Ярославля; из Катина и из смежных мест. Товары оные состоят в щепетье, шапках, сапогах и прочей всякой мелочи; также торговых дней в неделе бывает два: понедельник и четвер ток.\n",
      "47|БОБРОВИЦА , местечко Киевского Наместничества и уезду. В оном местечке бывает в году две ярмарки.\n",
      "585|РОПСК , местечко Новогородского - Северского Наместничества в Стародубовском уезде. В оном бывает в год три ярмарки, на которые съезжаются из окольных мест купцы с красными и другими мелочными товарами , также бывают и еженедельные торжки.\n",
      "67|БОРИСПОЛЬ, местечко Киевского Наместничества в Переяславском уезде. В немъбывают в году три ярмарки, на коих приезжие из окольных тамошних мест торгуют разным хлебом, мелочным товаром, рыбою, солью, скотом и проч.\n",
      "89|БЕЛОЙ, город Смоленского Наместничества. В оном бывают в году две ярмарки; но собирается на оные токмо крестьянство с их издельями.\n",
      "117|ВОЛОКОЛАМСК, город Московской Губернии и Провинции. В оном бывает годовая Июня 29 дня ярмарка. Приезжают из разных городов и уездов с разными крестьянскими и щепетильными мелкими товарами , также с хлебом, сохами, косами, серпами и проч. сверх сего в уезде оного торжки бывают еженедельно: 1) в селе Ярополче в пяток, 2) в селе Ивашкове в субботу, з ) в селе Середе Стратилатовской в середу. Годовые ярмарки отправляются , 1) в селе Ярополче в десятую пятницу, 2) в селе Середе Стратилатовской Июня 8 дня , 3 ) У Левкиева монастыря Августа 15 дня, 4) у Иосифове монастыря в день Пятидесятницы и Сентября 8 дня,5) в деревне Беркунове в девятую путницу, 6) в селе Белой Колпи Августа 19 дня, 7) в селе Раменье Июня дня, 8 ) в селе Черлянкове Мая 9 дня, 9) в селе Ховани Июля 20 дня , 10) в селе Мурикове Сентября 25 дня, 11) в селе Снирове Ноября 21 дня. На сих ярмарках торгуют по одному дню разными крестьянскими товарами.\n",
      "238|ЗМЕТНЕВ, село Новогородского - Северского Наместничества в Сосницком уезде. Обыватели оного имеют изрядной промысл бобрами , выдрами и рыбною в Десне ловлею.\n",
      "613|СВЯТОГОРСКОЙ, монастырь Псковского Наместничества в уезде города Опочек. При нем бывает в году две ярмарки.\n",
      "696|ТОРОПЕЦ, с 1777 году город Псковского Наместничества. В нем случается в году одна указная ярмарка в Июле месяце в пяток, пред праздником Пророка Илии, на которую по большей части съезжаются крестьяне из ближних деревень с мелочным крестьянским товаром и рукодельем.\n",
      "513|ПАРФЕНЬЕВА, слобода Костромского Наместничества. В оной бывает в году две ярмарки : первая по Пасхе на девятой неделе, вторая Июля 25; на оные приезжают купцы из близ лежащих городов с мелочными товарами.\n",
      "330|КОСТЮКОВИЧИ, местечко Могилевского Наместничества в Климовицком уезде. Здесь бывают две ярмарки в году.\n",
      "664|СТОЯНЦЫ , село Тверского Наместничества в Кашинском уезде. Здесь бывает в год один торжок, на которой товары привозят из уезду, холсты льняные разные, да из городов Ярославля, Переславля Залеского , Углича приезжают купцы с мелочными всякими небогатыми товарами.\n",
      "241|ЗУБЦОВ, город Тверского Наместничества. В сем городе бывают годовые ярмарки : первая в десятую пятницу по Пасхе , вторая Июля 20, в день Пророка Илии, третия Августа 6, в день Преображения , четвертая Августа 15, в день успения , пятая 6 Декабря, шестая Мая 9, в день Чудотворца Николая, седьмая Генваря 7, в день Крестителя Иоанна, осьмая на Сырной неделе в среду; торгуют окрестных городов купцы - шелковыми , бумажными и прочими мелочными товарами, а большею частию съестными припасами.\n",
      "262|ИСЕТСКАЯ, слобода уфимского Наместничества в уезде города Челябинска. Бывают здесь ярмарки на десятой неделе по Пасхе и Октября 23 дня ; торгуют мелочными товарами.\n",
      "336|КРАПИВНА, или КРОПИВНА , местечко Киевского Наместничества в Переяславском уезде. Здесь бывает в году две ярмарки: первая в день Пророка Илии , вторая в день Покрова Богородицы, кроме обыкновенных торгов. Купцы приезжают на оные из близ лежащих городов с красными крамными и прочими товарами , с стеклянною и деревянною посудою , с мелкою из Донских станиц рыбою; жители продают рогатой скот, дашадей, хлеб, смолу, горячее вино и прочее; привозят также сюда для продажи жителям Крымскую соль.\n",
      "318|КОМЛИЧКИ , село Киевского Наместничества в Лубенском уезде. В оном бывает в году две ярмарки : одна после Пасхи на Фоминой неделе , другая в день Великомученицы Варвары.\n",
      "417|МАЯКИ, село Харьковского Наместничества в уезде города Изюма. В оном бывают две ярмарки: первая Генваря 1, в день Василия Великого, вторая Октября 1, в день Покрова Богородицы. Купцы приезжают на оные из разных Российских городов с шелковыми, бумажными, шерстяными и прочими товарами.\n",
      "145|ГАДЯЧЬ, город Черниговского Наместничества. В оном бывает в году четыре ярмарки: первая Генваря 6, в день Св. Богоявления, вторая Апреля 23, в день Св. Великомученика Георгия, третия Июня 29, в день Св. Апостолов Петра и Павла, четвертая Октября 14, в день Преподобные Параскевы. На оных ярмарках и в торговые еженедельные дни торгуют хлебом, медом, воском, табаком , салом, волною , горячим вином , лошадьми, рогатым скотом, овцами и прочею мелочью.\n",
      "425|МЕЩОВСК, город Калужского Наместничества, Здесь бывает одна в году ярмарка Июля 29 дня; торг продолжается три дни ; на оную приезжают из разных городов купцы со всякими товарами, а по большей части крестьяне с Пенькою и хлебом.\n",
      "286|КЕСОВА ГОРА, село того же Наместничества и уезду. Здесь бывает на 24 число Июня ярмарка, на которую от уездных обывателей привозится всякой хлеб и прочие сырейные и съестные товары ; а из прочих городов обыватели приезжают сюда с мелочными товарами.\n",
      "236|ЗИНКОВ, или ЗЕНКОВ, город Черниговского Наместничества. В оном бывает в год четыре ярмарки : первая Июня 25 , в день С. Иоанна Крестителя , вторая 15 Августа , в день успения Пресвятые Богородицы, третия Октября 1, в день Покрова Пресвятые Богородицы , четвертая Декабря 6, в день Святителя Николая. На оных торгуют разным скотом, хлебом и съестными припасами. Здесь бывают и еженедельные торжки в понедельник и пяток, и торгуют на оных хлебом.\n",
      "535|ПИСАРЕВКА, слобода около городка Вольного. В оной бывает шесть ярмарок: первая в день Преполовения, вторая Июня 29, третия Сентября 8, четвертая Ноября 23, пятая Декабря 9, шестая в Сырную неделю. Купцы приезжают на оные из близ лежащих городов , и торгуют сукнами , шелковыми , бумажными и набойчатыми товарами, полотном , железом и прочим\n",
      "487|ОКУНЕВСК, слобода Пермского Наместничества. Здесь бывает ярмарка Февраля 2 дня; торгуют мелочными товарами. \n",
      "630|СИМ, село Владимерского Наместничества в уезде города Юрьева-Польского. В сем селе бывают ярмарки , и выстроены для того ряды.\n",
      "623|СЕРДОБСК, с 178о году город Саратовского Наместничества. В нем, кроме еженедельного торгу, бывает каждогодно Июля 8 Дня ярмарка.\n",
      "106|ВЕПРИК, местечко Черниговского Наместничлства в Гадяцком уезде. В оном бывает в году три ярмарки : первая Мая 9, в день Святителя Николая, вторая Августа29, в день усекновения главы Иоанна Предтечи, третия Ноября 21, в день входа во храм Пресвятые Богородицы. На оных торгуют рогатым скотом , рыбою, разным хлебом и всякими съестными припасами. Здесь бывает также ежедельной торг в воскресенье большею частию хлебом.\n",
      "457|МШАГА, или МШАЖСКОЙ, погост Новогородского Наместничества и уезду. В оном бывает годовой съезд для торговли в пятницу пред днем Св. Пророка Илии.\n",
      "757|ЧЕНБАР, с 1780 году город Пензенского Наместничества. В оном бывает в году ярмарка в десятую пятницу по Пасхе; купцы приезжают из близ лежащих городов с недорогими товарами.\n",
      "10|АЛЕКСАНДРОВСКОЕ, ЧЕРКАСКОЕ тожь, село Пензенского Наместничества в Керенском уезде. Здесь бывает в году ярмарка в Июне месяце ; купцы приезжают из близ лежащих городов с разными мелочными товарами ; торгуют также лошадьми, рогатым скотом и прочим.\n",
      "545|ПОКРОВСКОЕ , ЛЮБОША тожь, село Орловского Наместничества в Ливенском уезде. В оном бывает годовая ярмарка 15 Июля; приезжают сюда окрестные купцы с шелковыми и другими мелочными товарами, также и крестьяне.\n",
      "758|ЧЕРДЫНЬ, с 1781 году город Пермского Наместничества. В сем городе бывает в году одна ярмарка.\n",
      "353|КРИЖБУРГ, местечко Полотского Наместничества в уезде города Динабурга; в сем месте бывают в году три ярмарки, торгуют Рижского Дворца крестьяне разными мелочными товарами , вином в пивом.\n",
      "391|ЛУКОМЛЯ, местечко Киевского Наместничества в Лубенском уезде. Здесь бывает в год две ярмарки: одна в день Пророка Илии, а другая в день Архистратига Михаила. На оных ярмарках торг бывает привозимыми из уездов товарами , как - то салом , рыбою , дегтем , горячим вином , нагольными овчинами , шубами, говяжьими кожами , рогатым скотом, лошадьми , печеным хлебом съестными припасами и другими мелочными товарами.\n",
      "550|ПОЛТАВА , город Екатеринославского Наместничества. В оном бывает в году четыре ярмарки : первая в сплошную неделю , вторая Мая 9, Николаевская , третия Июля 20, Ильинская, четвертая Сентября 14, Воздвиженская. На оные приезжают Великороссийские , Малороссийские и иностранные , из Польши , Шлезии, Гданска, Царя - Града и из всей Турецкой области купцы и промышленники со всякими знатными и мелочными товарами. Купечество сего города отправляет во все оные места родящиеся у них и в уезде продукты, как - то скот , масло , лошадей и другие , холст, канаты и пушные разного рода товары. На еженедельные торги собираются в оной город уездные жители, и торгуют Российскими продуктами.\n",
      "500|ОРЛОВ, слобода Воронежского Наместничества. Здесь бывает в году одна ярмарка, называемая Вознесенская , в Маие месяце; торг продолжается пять дней; приезжают купцы из окрестных городов, и торгуют разными шелковыми товарами , сукнами , а по большей части мелочными вещами.\n",
      "281|КИТАЙСКОЙ, острог в Екатеринбургском Горном ведомстве. Здесь напред сего бывала великая ярмарка на день Богоявления Господня, на которую съезжалось множество купцов из Сибири и из Россия , а особливо из Казани чрез Уфу по тому, что тогда большая дорога из Казани в Сибирь была чрез Уфу и чрез оной Катайской острог; но с построения Екатеринбурга сия Катайская ярмарка пресеклась по тому, что уже большая дорога проложена чрез сей город.\n",
      "297|КИШЕНЬКА, местечко того же Наместничества и уезду. В нем по воскресеньям каждонедельно бывает торг, на коем продают хлеб и деревянную посуду.\n",
      "203|ДУБРОВКИ, село Пензенского Наместничаства в Саранском уезде. Здесь бывает ярмарка в последних числах Июля; привозят купцы разные мелочные шелковые товары.\n",
      "787|ШУЯ, с 1778 году город Володимерского Наместничества. Здесь бывает годовая ярмарка 24 Июля , называемая Борисоглебская ; да оного в уезде в отчине Николаевского Шартольского монастыря в селе Пупках торгуют купцы Российскими и иностранными товарами.\n",
      "119|ВОЛСК, город Саратовского Наместничества. В нем кроме еженедельного торгу хлебом и проч. бывает съезд крестьян 28 Июня.\n",
      "552|ПОРЕЧЬЕ , город Смоленского Наместничества. В оном бывает в году две ярмарки : первая Июня месяца в десятую пятницу, вторая Сентября 8, в день Рождества Богородицы ; купцы приезжают из близ лежащих городов с разными товарами.\n",
      "195|ДОМНИЦКОЙ, монастырь Черниговского Наместничества и уезду. При оном. бывает две в году ярмарки: первая после Пасхи в десятую пятницу , а другая Сентября 8 дня.\n",
      "453|МУРЗЫНКА , шанец того же Наместничества. В оном бывает в году четыре ярмарки.\n",
      "157|ГЛЕБОВО , село Ярославского Наместничества и уезду. В оном бывает годовая ярмарка Сентября в 8 день; недельные торжки по середам. В то село купецкие люди приезжают из Ярославля, Романова, Углича, Борисоглебска, Рыбного и изъсел с мелкими на продажу крестьянам товарами.\n",
      "39|БЕРЕЗНИКИ, село в Саратовском Наместничестве и уезде. Здесь бывает ярмарка в последних числах Июля; привозят на оную купцы разные мелочные шелковые товары.\n",
      "621|СЕРГАЧЬ, с 1779 году город Нижегородского Наместничества. В оном бывает торг только весною во время полой воды, на которой крестьяне привозят разные припасы и рукоделья своего вещи.\n",
      "515|ПЕНА, слобода в окольности городка Карпова. В оной бывают ярмарки после Рождества на Всеедной неделе в субботу, Июня 24 и Сентября 14, продолжающияся по одному дню. Купцы приезжают на оные из близ лежащих городов с лавочными мелочными товарами.\n",
      "589|РУЗА , город Московской Губернии. В оном в году бывают две ярмарки : первая Июня 29, вторая на Сырной неделе в четверток, и продолжаются по одному дню ; торгуют разными мелочными товарами.\n",
      "536|ПИСЦОВО , село Костромского Наместничества и уезду. Здесь бывают годовые ярмарки в девятую и десятую неделю по Пасхе, для которых построены и лавки.\n",
      "367|ЛАДА , село Рязанского Наместничества в Зарайском уезде. Здесь бывает годовая ярмарка Июля 8 Дня; привозят на оную купцы разные мелочные шелковые товары.\n",
      "102|ВЕЛИКОЕ, село Ярославского Наместничества в Ростовском уезде. В оном бывает годовая ярмарка Сентября 8 числа ; приезжают купцы из Ярославля , Юрьева и из Переславля Залеского с суровскими товарами.\n",
      "218|ЕНИСЕЙСК, город Тобольского Наместничества. В оном бывает однажды в год ярмарка в начале Августа месяца. Встречаются здесь купцы на водяном пути из Тобольска и из Иркутска, из которых иные променяв товары , тем же путем назад возвращаются, а иные намеренной свой водяной путь далее производят.\n",
      "426|МИЖИРИЧЬ, местечко в Малороссии. В оном бывают ярмарки : первая Мая 9, вторая Июля третия Октября 26. Купцы приезжают из окрестных городов с мелочными товарами.\n",
      "298|КИАСОВКА , село Московской Губернии в Коломенском уезде. В нем по воскресеньям каждонедельно бывает торг, на коем продают хлеб и деревянную посуду.\n",
      "387|ЛОТСШИНО, село Тверского Наместничества. Здесь бывает торг одиножды в неделе по воскресным дням, на которые привозят разных уездов и деревень крестьяне разные товары домовой своей работы, какъ-то пеньку, хлеб, масло и другую мелочь.\n",
      "740|ХОЛМ У СПАСА, село Тверского Наместничества в Бежецком уезде. Здесь бывает еженедельной торг по вторникам, на которой уездные обыватели привозят всякой хлеб и прочие сырейные и съестные товары.\n",
      "184|ДВУРЕЧНАЯ, слобода Харьковского Наместничества в Изюмском уезде. В оной бывает в году пять ярмарок : первая Генваря 1 на день\n",
      "716|УРАЗОВА , слобода Воронежского Наместничества в уезде города Валуек. В оной бывает в году семь ярмарок.\n",
      "497|ОПУШКА, отчина разных Господ Тамбовского Наместничества в Шатском уезде. Здесь бывает в году ярмарка 8 Июля; торгуют разными товарами , как - то пенькою , разным холстом медом, салом и прочим.\n",
      "12|АЛЕКСЕЕВКА, слобода Графа Шереметева, в Воронежском Наместничестве около слободы же Усерда. Здесь бывает в год четыре ярмарки: первая на день Алексия человека Божия, вторая о Троицкой неделе , третия в Воздвижение честного Креста, четвертая на день святых мученик Космы и Дамиана Ноября 1 дня; иностранных купцов не бывает, а приезжают Российские с разными товарами.\n",
      "48|БОБРОВСКОЕ, село Пермского Наместничества в Краснослободском дистрикте. Здесь бывает в день первоверховных Апостолов Петра к Павла и два дни после оного ярмарка, которая особливо славна лошадиною торговлею. Построено также двадцать деревянных лавок для купцов, приезжающих на сию ярмарку, где они складывая свои товары , торг производят.\n",
      "192|ДМИТРОВКА, ОЛЬШАНКА тожь , село Киевского Наместничества около слободы Яблунева. Бывает здесь одна годовая ярмарка, на которую купцы приезжают с разными товарами.\n",
      "80|БУШНРВО , село Костромского Наместничества около Парфентьевой слободы. В сем селе бывает в году две ярмарки : первая по Пасхе на десятой неделе, вторая Июля 8 числа; на оные приезжают купцы из близ лежащих городов с разными мелочными товарами.\n",
      "30|БАЛАКЛЕЕВ , местечко Харьковского Наместничества в Изюмовском уезде. В оном бывает в году пять ярмарок: первая в неделю Ваий, вторая Июля 12, третия Августа 1, четвертая Сентября 23, пятая Декабря 6 чисел, на которые приезжают купцы из разных городов с шелковыми , бумажными, гарусными и прочими товарами.\n",
      "24|АСАКОВО , село Тульского Наместничества в Веневском уезде ; здесь бывает годовая ярмарка Июля 8 числа; приезжают на оную разных городов купцы с товарами.\n",
      "501|ОРЕХОВКА, село Московской Губернии в Можайском уъзде. В оном бывает годовая ярмарка в десятую пятяуцу по Пасхе.\n",
      "266|ИОСИФОВ, монастырь той же Губернии в Волоколамском уезде. Здесь бывают годовые ярмарки: первая в день Пятидесятницы , вторая Сентября 8 Дня.\n",
      "527|ПЕТРОВСК, город Саратовского Наместничества. В сем городе бывает одна годовая ярмарка Июля 8 дня, да на каждой неделе торгуют. по два дни в понедельник и в пяток ; продают хлебЬи другие съестные припасы, сено и дрова.\n",
      "344|КРАСНОПОЛЬ , местечко Могилевского Наместничества в Чериковском уезде. Здесь бывают четыре ярмарки в год.\n",
      "403|МАКАРОВО , село того же Наместничества в Керенском уезде. Здесь бывает ярмарка в году в Июле месяце; на оную купцы приезжают из блИз лежащих городов с мелочными товарами ; торгуют также лошадьми , рогатым скотом и прочим.\n",
      "749|ЦЕВЛЯ, село Г. Сумарокова в уезде города Опочек. Здесь бывает одна в году ярмарка.\n",
      "331|КОТЕЛЬВА , слобода Харьковского Наместничества в уезде города Ахтырки. Здесь бывают четыре ярмарки : первая Генваря 1, вторая Марта 25, третия о Тройцыне дне, четвертая Сентября 8. Купцы приезжают из разных Российских городов , привозят парчи, шелковые товары, позументы , сетки , серебро в посуде и прочее; торгуют также скотом и лошадьми.\n",
      "173|ГРЕБЕНИШКИ , местечко Полотского Наместничества в Динабургском уезде. В сем месте бывают в году две ярмарки ; торгуют Рижского Дворца крестьяне разными мелочными товарами , вином и пивом.\n",
      "187|ДЕРГАЧИ, слобода Харьковского Наместничества и уезду. Здесь бывают ярмарки Сентября 26, Генваря 1. Торгуют купцы разными мелочными лавочными товарами , вином , пивом , медом и прочим.\n",
      "767|ЧЕРНЬ, с 1777 году город Тульского Наместничества. В уезде оного бывает по одной небольшой ярмарке в году, в селах в Девочкином, Зупнах, Благовещенском , Бабурином , Скородном , Богородицком, Жадом тожь, Никольском , в Языкове , Спаском, что на Зуше , Троицком и Воскресенском.\n",
      "58|БОГОЯВЛЕНСКАЯ, слобода Владимерского Наместничества в Суздальском уезде. Здесь бывает годовая ярмарка; на оную съезжаются из разных городов купцы с товарами.\n",
      "771|ЧУГУЕВ, с 1780 году город Харьковского Наместничества. В оном бывает ярмарка в день Преображения Господня, на которую приезжают со всякими шелковыми и прочими товарами из Москвы и из других городов купцы , такожь и крестьяне.\n",
      "190|ДИНАБУРГ, город Полотского Наместничества, В сем городе положено по привиллегии три в году ярмарки: первая Генваря 6, вторая Июня 24, третия Сентября 8; но ныне их не бывает ; в уезде же сего города в пятидесяти шести селах бывают; только торги, на коих тутошние жители и Рижские обыватели торгуют мелочными Немецкими товарами.\n",
      "105|ВЕНЕВСКОЙ НИКОЛАЕВСКОЙ, монастырь Тульского Наместничества и уезду. Здесь бывает годовая ярмарка Августа 15 дня , на которую приезжают с товарами из Тулы , Венева и. из ближних сел и деревень.\n",
      "25|АСТРАХАНЬ , город Кавказского Наместничества. В сем городе бывает ярмарка каждолетно; Российские купцы, Армяне и Татары торгуют с Персианами, Армянами, Индейцами и прочими, разными Европейскими и Азиатскими товарами.\n",
      "115|ВОЛМАР, город Рижского Наместничества. В нем бывает ярмарка в день Святые Анны , продолжающаяся дни с два, на которую и иностранные купцы приезжают с товарами не в большем количестве.\n",
      "53|БОГОДУХОВ, город Харьковского Наместничества. В оном бывает в году шесть ярмарок: первая на Сырной неделе , вторая в пост на похвальной неделе, третия на Вознесение , четвертая Июля 20, пятая Августа 29, шестая Ноября 8. Купцы приезжают на оные из разных Российских городов; привозят шелковые товары , парчи , позументы золотые и серебро в деле ; торгуют также скотом, лошадьми и прочим.\n",
      "576|РЖЕВ ВОЛОДИМЕРОВ , город Тверского Наместничества. В оном бывает в каждом году две ярмарки: одна великого поста в неделю православия, другая Июня 29 дня ; товары привозят разные москотильные , шелковые , позументы золотые и серебреные, камки , парчи , грезети , тафты и прочие мелочные бумажные, также хлеб и различные крестьянский изделья.\n",
      "674|СЕВСК, с 1778 году город Орловского Наместничества. В оном бывает в году одна ярмарка, исключая обыкновенных торгов.\n",
      "724|УСТЮЖНА ЖЕЛЕЗОПОЛЬСКАЯ , с 1776 году город Новогородского Наместничества. Здесь бывает торг в неделе один раз в субботу, и привозятся более в зимнее время из уездов Устюжского, Новогородского, Бежецкого, Ярославского , Белоезерского уездными обывателями всякой усыпной и молотой хлеб, лен, холст сукна, овчины , съестные припасы и прочия потребности.\n",
      "244|ИВАНОВКА, слобода Харьковского Наместничества и уезду. Здесь бывают ярмарки Генваря 1, Апреля 22, Июня Августа 1 , Сентября 1 , Октября 29; торгуют купцы мелочными товарами, вином, пивом, медом и прочим.\n",
      "162|ГОМЛЯ, местечко того же Наместничества в Рогачевском уезде. Здесь бывает в году три ярмарки.\n",
      "202|ДУБРОВКИ, село того же Наместничества в Темниковском уезде. Здесь бывает одна в году ярмарка, кроме еженедельных торгов, на седьмой неделе по Пасхе во вторник. Сюда приезжают купцы из окрестных городов с шелковыми и бумажными товарами, хлебом и прочими припасами.\n",
      "625|СЕРЕГА , слобода Вологодского Наместничества в Яренском уезде. Здесь бывает ярмарка Июня с 23 по 26 ; на оной покупают у промышленников разную мягкую рухлядь.\n",
      "404|МАКАРЬЕВ, город Нижегородского Наместничества. В нем бывает при тамошнем монастыре повсягодно славная ярмарка , начинающаяся со дня С. Апостолов Петра и Павла, и продолжающаяся три и четыре недели. На оную съезжается великое множество купцов из всех стран Россия и Сибири , также с Персидских , Турецких и Польских границ.\n",
      "291|КИРИЛОВ , город Новогородского Наместничества. В нем бывает годовая ярмарка Марта 17 дня, называемая Алексеевская.\n",
      "18|АПИЧЕРСКАЯ, пустыня Синбирского Наместничества в Алатырьском уезде; здесь бывает ярмарка в день Каванския Богородицы. На сию ярмарку приезжают со всякими шелковыми и прочими товарами из Москвы и из других городов купцы, такожь и крестьяне.\n",
      "285|КЕСМЕ , село Тверского Наместничества в уезде города Бежецка. Здесь бывает одна годовая ярмарка; съезжаются на оную купцы с мелочным лавочным товаром.\n",
      "340|КРАСНОЕ , село Костромского Наместничества и уезду. Здесь бывает годовая ярмарка в Лрейцын день, для чего построены и лавки.\n",
      "186|ДЕМШИНСК, слобода Тамбовского Наместничества. Здесь бывает 29 Августа ярмарка, на которую съезжаются из близ лежащих мест купцыи прочие разночинцы с разными товарами и съьстными припасами.\n",
      "661|СТАРОЙ ОСКОЛ, с 1779 году город Курского Наместничества. В оном бывают в году три ярмарки: первая в пятое Воскресенье три дни, вторая Июля 8, в день Казанския Богоматери , третия Августа 15 , в день успения , по два дни; приезжают купцы с разными товарами из близ лежащих городов.\n",
      "140|ВЯЗНИКИ , город Володимерского Наместничества. Здесь бывает ярмарка в праздник казанския Пресвятые Богородицы Июля 3 дня.\n",
      "63|БОРИСОВ, городок Московской Губернии в Можайском уезде. Здесь бывает в году одна ямарка 13 Сентября , на которую съезжаются купцы из Вереи , Боровска и Можайска; торг по большей части бывает съестными припасами и разными крестьянскими товарами , как - то колесами , дегтем и тому подобным.\n",
      "738|ХЕРСОН, с 1784 году город Екатеринославского Наместничества. Здесь Российские купцы с Цареградскими Греками и другими торгуют Европейскими и Азиатскими товарами, получая и отпуская за море на кораблях.\n",
      "700|ТРОИЦКАЯ СЕРГИЕВА, Лавра Московской Губернии, расстоянием от Москвы в 60 верстах. При оной ярмарки бывают: 1) в десятую пятницу, 2)в Троицын день, 3) Августа 15 числа, каждого года; на оных торгуют приезжие из разных Великороссийских городов купцы разными шелковыми , меховыми и мелочными товарами.\n",
      "339|КРАСНОЕ , село Орловского Наместничества в Ливенском уезде. В оном бывает в году ярмарка 30 Июля. Сюда приезжают окрестных городов купцы и разночинцы с шелковыми товарами и другими , но по большей части мелочными , также и крестьяне со своими издельями.\n",
      "549|ПОЛОТСК, главный город Наместничества сего имени. В нем бывают в году четыре ярмарки : первая на Богоявление , вторая в первую неделю великого поста, третия в пяток перед Петровым днем, четвертая в неделю перед Рождеством Христовым. На оных торгуютъльном, пенькою, лесами, хлебом, медом, воском, поташем и скотом.\n",
      "428|МИРГОРОД , город Киевского Наместничества. В оном бывает в году четыре ярмарки: первая на средине великого поста , другая в день праздника Вознесения Христова , третия Сентября 8 , четвертая Декабря 6 чисел; торгуют ва оных приезжие из уезду жители разными мелкими товарами , там родящимися и делающимися, как - то хлебом , горячим вином, разным скотом, овчинами , кожами ; иногда приезжают и Великороссийские купцы с красным товаром и прочим.\n",
      "570|ПЯТНИЦКОЕ, что на КОЛПИНЕ , село Тульского Наместничества в уезде города Новосиля. В оном селе бывает два раза ярмарка, в девятую и десятую пятницы по Пасхе; торгуют купцы разными мелочными товарами.\n",
      "55|БОГОРОДИЦК , село того же Наместничества в Алексинском уезде. В оном бывает ярмарка Июля 8 Октября 22; торгуют купцы нужными для крестьянства товарами.\n",
      "16|АНДРЕЕВКА, слобода Харьковского Наместничества в Изюмском уезде ; в оной бывает в году две ярмарки : первая Июля 20, в день Пророка Илии, вторая Октября 26, в день Великомученика Димитрия. Купцы на оные приезжают из разных Росссийских городов с шелковыми , бумажными , гарусными и прочими товарами.\n",
      "639|СМОЛЕНСК, с 1775 год главный город Наместничества сего имени. В оном ярмарок нет, а приезжают в торговые дни в среду и пяток из уездов разных Помещиков крестьяне с разным хлебом , пенькою, медом ; а в Воскресенье хотя и бывает крестьянство с такимижь товарами, токмо малое число.\n",
      "38|БЕРЕЗИН, или БЕРЕЗНА, город Черниговского Наместничества. В оном бывают в году две ярмарки: первая в день Вознесения Господня, вторая Августа 15, в день Успения Богородицы, на коих ярмарках и еженедельных торгах в продаже бывают из окольных мест привозимые разные съестные и питейные припасы, также скот и деревянная посуда.\n",
      "542|ПОГРОМЦА, слобода Воронежского Наместничества в уезде города Валуек. Здесь бывает в году пять ярмарок.\n",
      "504|ОСТАШКОВ, город Тверского Наместничества. В нем бывают в году три ярмарки.\n",
      "437|МИШУРИН РОГ, шанец Екатеринославского Наместничества. В оном бывает в году три ярмарки.\n",
      "159|ГОГОЛЕВ, местечко Киевского Наместничества и уезду. Здесь бывает в году гари ярмарки; на оные приезжают купцы из окольных городов , торгуют хлебом , разным мелочным товаром, рыбою , солью , скотом и прочим.\n",
      "644|СОЛЬЦО, погост Новгородского Наместничества и уезду. Здесь бывает годовой съезд для торгу Июля 20 числа.\n",
      "142|ГАБЗАЛЬ , город Ревельского Наместничества. В нем бывает одна в году ярмарка.\n",
      "153|ГЛИНСК , слобода Екатеринославского Наместничества. В оной бывает в году три ярмарки.\n",
      "491|ОЛЬХОВАТКА , село Харьковского Наместничества в уезде города Изюма. Здесь бывают четыре в году ярмарки: первая Генваря 6, на Богоявление , вторая и третия на дни Великомученика Георгия летнего и зимнего, четвертая на день седьми Мучеников Маккавей. Купцы на оные приезжают из разных городов с шелковыми , бумажными , шерстяными и прочими товарами.\n",
      "772|ЧУПАХОВКА, слобода около бывшого городка Алешни. В оной бывают три ярмарки : первая Апреля 23, вторая Сентября 8, третия Ноября 21 дня. На оные приезжают купцы из близ лежащих городов; торгуют сукнами , шелковыми , бумажными и набойчатыми товарами , железом , полотном, посудою и прочим.\n",
      "121|ВОЛЫНЦЫ, местечко в уезде города Полотска. Здесь бывает в году две ярмарки : первая Июля 24, вторая Октября 1. Купцы приезжают на оные из соседственных городов с разными мелочными товарами.\n",
      "603|САПОЖОК, с 1778 году город Рязанского Наместничества . Здесь  бывает ярмарка о десятой пятнице , Июля 8 ; товары привозят на оную из разных городов и уездов  купцы, шелк, бумагу красную и писную , кресты , перстяни иглы, булавки, полотно, льняное и конопляное масло и прочее тому подовное; а обыватели торгуют деревянною посудою, всяким хлъбомЬ и прочим.\n",
      "229|ЗАДУШНОЕ , село Тульского Наместничества в уезде города Новосиля. В оном селе бывает ярмарка в день Сошествия Святого Духа; купцы торгуют разными мелочными товарами.\n",
      "91|БЕЛОПОЛЬЕ, город Харьковского Наместничества. В оном бывают ярмарки: первая Генваря 6, вторая Июня 24, третия Сентября 14 дня; торгуют на оных разным мелочным товаром, лошадьми, скотом , горячим вином и проч.\n",
      "591|РЫБИНСК, город Ярославского Наместничества. Здесь бывают ярмарки годовые Две , одна Петровская , Июня 29 , другая Преображенская , Августа в 6 день, да повсянедельные торжки в субботние дни. Купецкие люди приезжают на оные из Ярославля, Романова, Углича и из сел с москательным товаром и прочим , и торгуют в деревянном особливом гостином дворе ; а крестьяне привозят произрастания и рукоделия свои.\n",
      "6|АДОВАТОВО, село Нижегородского Наместничества в Арзамаском уезде ; в оном бывает одна в году ярмарка.\n",
      "385|ЛИХВИН , город Калужского Наместничества. В оном бывает одна годовая ярмарка.\n",
      "449|МОШЕЙКА, село Калужского Наместничества в Козельском уезде. Здесь бывают торговые дни каждонедельно по воскресеньям; на оные приезжает купечество Калужской Провинции из Калуги и Мещовска, также из Болхова, Белева и других городов; привозят товары мэскотильные, то есть несколько бумажных шелковых и других сортов материи, а по большей части уездные крестьяне привозят разные уездные товары, всякой хлеб, пеньку, масло , мед , воск , восчину , парусную уточную пряжу, холст льняной, посконной и прочее крестьянское рукоделие и другие мелочные товары.\n",
      "488|ОЛЕКМИНСК , город Иркутского Наместничества. В оном бывают ярмарки в Июле и Августе месяцах.\n",
      "215|ЕЛИМСКОЙ, погост Псковского Наместничества в уезде города Острова. Здесь бывает ярмарка в Июне месяце; купцы на оную приезжают из Пскова с разными мелочными товарами.\n",
      "233|ЗАШИВЕРСК, город того же Наместничества. Здесь бывают ярмарки в Декабре и Генваре месяцах.\n",
      "481|ОБОЯНЬ, город Курского Наместничества. В оном бывает в годе пять ярмарок: первая на Сырной неделе в пятницу вторая в день Преполовения , третия Августа 1, четвертая Сентября 8, пятая Декабря 6 чисел; на оные большею частию деревенские жители привозят хлеб, конопляное масло и тому подобное.\n",
      "364|КУПЕНКА , слобода Харьковского Наместничества в уезде города Изюма. Здесь бывает в году четыре ярмарки : первая на десятую пятницу, вторая Сентября 8 в день Рождества Богородицы, третия Декабря 9 на день Зачатия Анны , четвертая на Сырной неделе, На оные купцы приезжают из разных городов с шелковыми , бумажными , шерстяными и прочими товарами.\n",
      "52|БОГАЧКА, местечко Киевского Наместничества в Миргородском уезде. В оном бывает в году две ярмарки : одна в день Сошествия Святого Духа, а другая Сентября 1; торгуют на оных приезжие из уезду жители разными мелочными товарами , там родящимися и делающимися, какъ-то хлебом, горячим виномъ,разным скотом, дегтем, овчинами, кожами и проч. Иногда приезжают и Великороссийские купцы с красным товаром.\n",
      "332|КОТЕЛЬНИЧЬ, город Вятского Наместничества. В сем городе бывает одна в году ярмарка.\n",
      "351|КРИВОНАВОЛОЦКАЯ, деревня Вологодского Наместничества в Яренском уезде. Здесь бывает ярмарка Генваря с 6 по 13 число; на оной по большей части закупают промышленную крестьянами рыбу.\n",
      "144|ГАГАРИНО , село Тамбовского Наместничества в Шатском уезде. Бывает здесь годовая ярмарка на десятой неделе по Пасхе в пятницу; торгуют холстом , пенькою , шерстью и прочими мелочными.\n",
      "782|ШКЛОВ, местечко Могилевского Наместничества и уезду. Здесь бывают кроме еженедельного торгу три ярмарки, на которые из разных мест сбираются купцы с товарами и лучшими материями; также в оном и в окольные места запасаются.\n",
      "343|КРАСНОКУТСК, город Харьковского Наместничества. Здесь бывает в году четыре ярмарки: первая в пост о Крестопоклонной неделе , вторая Апреля 23, третия Июня 29, четвертая Ноября 21; приезжают на оные купцы из разных Российских городов; привозят шелковые и прочие товары , позументы, серебро в посуде и прочее; торгуют тут же скотом и лошадьми.\n",
      "124|ВОРОНЕЖ, местечко Черниговского Наместничества в Нежинском уезде. Здесь бывает в году три ярмарки.\n",
      "581|РОЖЕСТВЕНСКОЕ, село Тульского Наместничества в уезде города Ефремова. Здесь бывает одна годовая ярмарка 21 Сентября ; на оную съезжаются купцы из окрестных городов с разными товарами, и то по большей части с мелочными , а крестьяне с своими рукоделиями.\n",
      "395|ЛЕВЫЕ ЛАМКИ, село Тамбовского Наместничества в уезде города Козлова. Здесь бывает одна годовая ярмарка Июля 8, в день праздника Казанския Богородицы. На оную приезжают окрестные купцы с разными мелочными товарами.\n",
      "793|ЯГОТИН, местечко того же Наместничества в Переяславском уезде. В оном бывает в году четыре ярмарки: первая в Похвальную субботу, вторая в день Великомученика Георгия, третия в день Преображения , четвертая в день Архистратига Михаила. Купцы приезжают из близ лежащих городов с красными, крамными и прочими товарами, стеклянною и деревянною посудою, съестными припасами; жители продают рогатой скот, лошадей, хлеб, смолу, горячее вино и проч. Привозят также сюда для продажи жителям Крымскую соль.\n",
      "355|КРОМЫ, город Орловского Наместничества. Здесь бывают в году две ярмарки, после Святые Пасхи на десятой и одинадцатой неделе, и торговля состоит привозимыми ив городов купечеством разными шелковыми и другими мелкими товарами ; годевые и уездные жители торгу ют своими собственными тутошнего места произрастения ми и произведенными рукоде лием вещьми, малым числом пенькою и холстом.\n",
      "722|УСТЬ-СЫСОЛЬСК, с 1780 году город того же Наместничества. Здесь бывает ярмарка Ноября с 26 по 29 число; скупают купцы у промышлеников мягкую рухлядь.\n",
      "455|МУРОМ, город Володимерского Наместничества. Здесь, кроме еженедельного по субботам торгу, Июня 25 дня на праздник Св. Благоверных Князя Петра и Княгини Февронии Муромских Чудотворцев бывает богомолие , при котором Муромские купцы и из других городов обыватели продают следующие товары: хлеб, мясо , рыбу разных родов, шелк, кумачи, китайку по цветам, бумагу, хлопчатую и крашеную, сукна не дорогой цены, воск, ладон, сандал красной и синий, краску брусковую по небольшей части , камки , голи по цветам, букеты, грезеты, люстрины, тафты, кисеи, каламенки разных рук, позументыменты , масло деревянное, скипидар, нефть, квасцы, купорос, сахар, чай, виноградные напитки , уклад, железо, пестрядь бумажную разных цветов, мехи заячьи и мерлушчатые , шапки , рукавицы , сапоги , гарус , чулки , узды , шлеи гужи , кушаки и другия мелочные вещи , такожь и крестьянское рукоделие.\n",
      "641|СОКОЛ, местечко Полотского Наместничества , в коем бывают в году две ярмарки .\n",
      "784|ШУЛГИНСК , местечко Екатеринославского Наместничества. В оном бывают в году четыре ярмарки.\n",
      "472|НОВОЙ ОСКОЛ , город Курского Наместничества. В нем бывает одна в годе ярмарка в день Параскевы, нареченные пятницы, в исходе Октября , продолжающаяся один день.\n",
      "601|САМАРА, с 1780 году город Синбирского Наместничества. Сюда привозяте промышленники ве Июле, и ве Августе месяцах изе Козачья городка, Уральска и Казани уловную в Урале рыбу, рыбные припасы и лошадей. Для покупки сего приезжают Российские купцы, и привозят с собою всякие мелочные товары, а уездные обыватели торгуют хлебом и прочим за рекою Самарою.\n",
      "230|ЗАМОШЬЕ, село Вологодского Наместничества. Здесь всенедельно по Воскресным дням бывают торжки.\n",
      "733|ХАЛЧЬ, местечко Могилевского Наместничества в Белицком уезде. В нем бывает одна ярмарка в году.\n",
      "537|ПЛЕС, город того же Наместничества. Здесь бывают ярмарки Петровская и Покровская в год по единожды; товары привозят москотильные и прочие мелочные.\n",
      "31|БАЛАХНА , город Нижегородского Наместничества. В оном бывают каждую неделю по середам и пятницам, а в зимнее время и по воскресеньям торги, на которые крестьяне привозят более хлеб, съестные припасы и разные для жителей потребности.\n",
      "217|ЕЛНА, город Смоленского Наместничества. Здесь бывает в году две ярмарки : первая на первой неделе великого поста в пятницу , вторая Июля 20, в день Пророка Илии ; купцы приезжают из близ лежащих городов с разными товарами.\n",
      "440|МОЛОГА , город Ярославского Наместничества. В оном бывает в году две ярмарки : одна Генваря 18, а другая на четвертой неделе великого поста в среду, на которые приезжают купцы от Белозерска , Углича, Романова, Борисоглебска и Рыбинска с хлебом, рыбою , мясами и с деревянною посудою.\n",
      "616|СЕДНЕВ, местечко Черниговского Наместничества и уезду. В оном бывает в году ярмарка Июля в 20 день, на которой и в еженедельной торг по пятницам торгуют окольные жители хлебом, лошадьми , скотом , деревянною посудою, салом, медом, рыбою и другими мелочными вещами.\n",
      "667|СУДАЙ, слобода Костромского Наместничества в Галицкой Провинции. В оной бывает в году три ярмарки: первая Ноября 21, вторая Генваря 6, третия Марта 25 чисел. Здесь торгуют конскими и скотскими кожами , также и овчинами , разною мягкою рухлядью , а большею частию бывают белки; также в уезде оного города при церкви Пророка Илии , что на Высоке, имеется годовой же торг.\n",
      "152|ГЛЕМЯЗОВ, местечко Киевского Наместничества в Переяславском уезде. В оном бывает в году четыре ярмарки : первая на Сырной неделе, вторая в день Преполовения, третия в день Преображения, четвертая в день Введения. Купцы приезжают на оные из близ лежащих городов с красными крамными и прочими товарами, с стеклянною и деревянною посудою, с мелкою из Донских станице рыбою; жители продают рогатой скот , лошадей, хлебе, смолу, горячее вино и прочее; привозят также сюда для продажи жителям Крымскую соль.\n",
      "374|ЛАПСТРАНД , кирка Выборгского Наместничества и уезду. Здесь бывает ярмарка осенью в Сентябре месяце ; на оную приезжают Нейшлотского и Выборгского уездов из кирок Чухны с смолою , с маслом, с салом и с скотиною.\n",
      "586|РОСТОВ , город Ярославского Наместничества. Бывает здесь годовая сборная ярмарка на второй неделе великого поста; приезжают сюда иногородные купцы с разными Российскими и Немецкими товарами, мягкою рухлядью и прочим из Ярославля, из Переяславля Залеского, Москвы и из Вологды с разными суровски ми шелковыми товарами, а из Ярославля и с серебреными да из города Кинешмы с об розами, из слобод Макарья и Пуреха с деревянною посудою , из Муромского и Касимовского уездов с ободами, из Пошехонского и устюжского уездов с дельным железом , то есть с котлами, сковородами, гвоздями, замками, укладом и с другими железными товарами, а торгуют внутри города в рядах в лавках, а иные и в шалашах.\n",
      "68|БОРОВЕНКИ, местечко Екатеринославского Наместничества. В нем бывают в году три ярмарки.\n",
      "147|ГАТНИЦЫ , ПАВШИНО тожь , село Тульского Наместничества в уезде города Алексина. В оном бывают ярмарки Июля 8, на Сырной неделе ко вторник. Здесь торгуют купцы крестьянам нужными товарами.\n",
      "170|ГОРОДОК, село Московской Губернии в Можайском уезде. Здесь бывает в каждом году ярмарка Июня 28 дня.\n",
      "483|ОДИНЦОВО, село Тульского Наместничества в Каширском уезде. В оном бывает ярмарка во время десятой и одиннадцатой пятнице; товары в продажу привозят из Каширы, Тулы, Серпухова, Венева, и Зарайска по малому числу москательные мелочные; от обывателей, уездных в продажебывает пенька , мед , воск , деревянное изделье.\n",
      "204|ДУБРОВНА, местечко Могилевского Наместничества. Здесь бывает в году три ярмарки.\n",
      "736|ХАЯЧА , местечко Могилевского Наместничества в уезде города Рогачева. В местечке бывает в году две ярмарки.\n",
      "714|УЛОМ , село Ярославского Наместничества в Пошехонском уезде. Здесь бывает годовая ярмарка в Троицын день, и продолжается два дни.\n",
      "760|ЧЕРЕПОВЕЦ, с 1776 году город Новогородского Наместничества. В нем бывают три годовые ярмарки: первая Генваря 11, называемая Феодосиевская, вторая Сентября 25, Сергиевская, третия Ноября 26, Георгиевская. Сюда приезжают купцы из разных Российских городов с разными товарами.\n",
      "149|ГЕННАДИЕВ, монастырь Ярославского Наместничества в Любимском уезде. При оном каждой год 17 Марта бывает ярмарка.\n",
      "725|УТВЫМСКАЯ, волость Вологодского Наместничества в уезде города Яренска. Здесь бывает ярмарка Генваря с 24 Февраля по 5 число, на которую приезжают купцы из разных Российских городов с лавочными товарами.\n",
      "669|СУЗДАЛЬ, с 1778 году город Володимерского Наместничества. В оном бывают недельные торги и большиесъезды в субботу, в Воскресенье и в четверток; приезжают в те дни из окрестных к Суздалю сел и деревень с хлебом, сеном, соломою, лыками, саньми, дугами , рогожами, мясами, лесом и всяким мелким щепетьем. В уезде оного ярмарки незнатные бывают в селах: и) в Парском Августа 29 , 2) Коврове на 25 Декабря, 3) Гавриловской слободе Июля на 4, 4) Иванове Сентября на 14, 5) Данилове на 1 Октября, 6) Богоявленской слободе Генваря 6, 7) в Лежневе на семик; съезжаются купцы из Москвы, Ярославля, Суздаля, Шуи и других ближних мест, и торгуют шелковыми товарами , сукнами и прочим щепетинным, по большей части крестьянству подлежащим товаром. В оных селах находятся ряды для сих ярмарок и бывающих в оных торговых дней.\n",
      "383|ЛИПЦЫ, слобода в уезде города Харькова. Здесь бывают ярмарки Мая 9, Июня 29, Сентября 1, Декабря 6; торгуют купцы разным мелочным товаром, медом, пивом , вином и прочим.\n",
      "730|ФЛОРИЩЕВА, пустыня Володимерского Наместничества в Гороховецком уезде. Здесь бывает ярмарка прежде праздника Успения Пресвятые Богородицы дней за пять, на которую привозят холст и прочие мелочные Российские товары, также и шелковые.\n",
      "446|МОСТКИ, местечко Екатеринославского Наместничества. В оном бывает в году три ярмарки.\n",
      "610|СВИНСКОЙ, монастырь в трех верстах от города Брянска. Здесь бывает каждой год 15 Августа великая ярмарка, которая целой месяце продолжается ; на оную съезжается множество купцов из отдаленных мест.\n",
      "654|СТАЛЕРОВЧИЗНА, местечко Полотского Наместничества в Динабургском уезде. В сем месте бывает в году три ярмарки : торгуют Рижского Дворца крестьяне разными мелочными товарами, вином и пивом.\n",
      "104|ВЕНЕВ, город Тульского Наместничества. В сем городе бывает годовая ярмарка в десятую пятницу по Пасхе; торгуют иногородные купцы разными товарами.\n",
      "220|ЕРАХТУРА, село Рязанского Наместничества в Касимовском уезде. Здесь бывает одна в году ярмарка Июня 29, сверх каждонедельного торгу, бываемого по пятницам.\n",
      "376|ЛЕБЕДЯНЬ, город Тамбовского Наместничества. Здесь бывают ярмарки на гостином дворе в день Богоявления Господня , Живоначальные Троицы и Покрова Богородицы , на которые привозят товары из разных городов, Российские купцы сукна , шелковые и бумажные материи всякия и мелочные; а обыватели скотину, лошадей , съестные припасы и деревянную посуду; особливожь славна здешняя ярмарка лошадиным торгом.\n",
      "802|ЯРЕСКИ, местечко Киевского Наместничества в Миргородском уезде. В оном бывает в году две ярмарки: первая Июня 24, другая Августа 15; торгуют на оных приезжие из уездов жители разными мелочными товарами , там родящимися, какъ-то хлебом , горячим вином, разным скотом, овчинами, кожами и прочим; иногда приезжают и Великороссийские купцы с красным товаром.\n",
      "390|ЛУЖКИ, село Московской Губернии в Рузском уезде. Здесь бывает годовая ярмарка Мая 9 числа; торгуют разными мелочными товарами.\n",
      "471|НОВОЙ МИРГОРОД, город Екатеринославского Наместничества. В оном бывает в году четыре ярмарки.\n",
      "478|НУРОМСКОЙ , монастырь Вологодского Наместничества и уезду. Здесь бывает ярмарка Августа 1 числа, на которойпокупка и продажа происходишь разных мелочных москотильных и прочих крестьянами приуготовленных товаров, как - то сада, холста, мякотиных и прочих.\n",
      "691|ТИХОНОВА , пустыня Калужского Наместничества и уезду. Здесь бывает годовая ярмарка Июня 18 дня , на которую съежаются купцы из Калуги и Малого Ярославца.\n",
      "744|ХОТЕНЬ , село Харьковского Наместничества в Сумском уезде. В оном бывают в году три ярмарки; на которые купцы приезжают с мелочными товарами и горячим вином.\n",
      "729|ФЕЛЛИН, с 1783 году город Рижского Наместничества. Здесь ярмарка бывает в году одна за неделю Михайлова дни, и та не важна , только почти что для крестьянства; около живущие дворяне съезжаются больше в Ревеле, Пернове и Дерпте.\n",
      "687|ТИМ, с 1779 году город Курского Наместничества. В оном бывает две в году ярмарки: первая в одинадцатую пятницу по Пасхе , вторая в день Рождества Богородицы, на которые съезжаются более Курские и Старооскольские купцы с сукнами и шелковыми материями.\n",
      "790|ЮРЬЕВ ПОЛЬСКИЙ, с 1778 году город Володимерского Наместничества. Жители оного промышляют юфтью , также мелочными товарами и огородными работами.\n",
      "59|БОГОЯВЛЕНСКАЯ , крепость Екатеринославского Наместничества. В оной бывает в году три ярмарки.\n",
      "774|ШАДРИНСК, с 1781 году город Пермского Наместничества. В оном бывает в году три ярмарки: первая Июня 29, вторая Ноября 3, третия в первое Воскресение великого поста; на оных торгуют мелочными товарами.\n",
      "479|НЕЖИН , город Черниговского Наместничества. В оном бывает в году три ярмарки: первая Всеединская в Феврале 9 вторая Троицкая в Июне , третия Покровская с 1 Октября ; торгуют Великороссийские и Малороссийские купцы и Греки шелковыми, бумажными, шерстяными товарами, ладоном , чаем , Волошскими винами , Крымскою солью , икрою, пушным Российским товаром , медом , воском , щетиною, горячим вином , табаком и прочим.\n",
      "444|МОРШАНСК, город Тамбовского Наместничества. В нем бывает одна в году 15 Августа ярмарка , на которой торгуют одни здешние купцы ; сверх того зимою с первого до последнего пути ежедневные отправляются торги , на которые в немалом количестве привозят всякого рода хлеб.\n",
      "756|ЧЕЛЯБИНСК, с 1782 году город Уфимского Наместничества , лежащий на реке Миясе, от Далматовского монастыря во сте пятидесяти четырех верстах, в самой средине Башкирцев, может со временем вразсуждении торгов сделаться знатным местом; ибо намерение принято было нетокмо для большей способности ради Башкирцев там завести ярмарку, но еще и купечество из Великой Бухарии, как в Оренбург, так отчасти и туда перевести. Здесь бывают в году две ярмарки: первая Мая 9, вторая Декабря 6 дня.\n",
      "801|ЯРЕНСК, с 1780 году город Вологодского Наместничества. В оном бывает в году один небольшой торг Генваря от 18 по 23 день разными мелочными товарами, на которой приезжают купцы из Устюга Великого, Вологды и Соли-Вычегодской.\n",
      "452|МУРАТОВА, слобода в Екатеринославском Наместничестве. В оной бывает в году четыре ярмарки.\n",
      "532|ПЕТРОПАВЛОВСКОЙ , шанец Екатеринославского Наместничества. В оном бывает в год четыре ярмарки.\n",
      "468|НЕРЕХТА, город Костромского Наместничества. Здесь бывают в году ярмарки Мая 2, Июня 23 и Июля 24 чисел ; да сверх того в каждой неделе в понедельник привозят холст , пряжу льняную , китайку, кумачи, выбойки и прочие мелочные товары.\n",
      "607|САСОВО, село разных Господ. Тамбовского Наместничества в Шатском уезде. Здесь бывает ярмарка в день Первоверховных Апостол Петра и Павла Июня 29 ; торгуют холстами, пенькою и прочими мелочми.\n",
      "631|СИМЕОНОВКА , местечко Новогородского - Северского Наместничества. В оном бывает в год три ярмарки, на которые съезжаются из окольных мест купцы с красныни и другими мелочными товарами; также бывают и еженедельные торжки.\n",
      "188|ДЕРКУЛ, слобода Воронежского Наместничества в уезде города Валуек. В оной слободе бывает в году три ярмарки.\n",
      "242|ИВАНГОРОД, местечко Черниговского Наместничества в уезде города Нежина. Здесь бывает в году две ярмарки, первая Петропавловская, в Июне месяце, вторая Симеоновская в Сентябре. На оные купцы приезжают из Нежина, Борзны , Конотопу и Ични с разными мелочными товарами, как - то крамным дробязком, сапогами, разною посудою , вялою рыбою и прочим.\n",
      "632|СИНБИРСК, с 1782 году главный город Наместничества сего имени. В нем, кроме повседневных особливых торгов, бывает Июля с 5 по 8 число годовая ярмарка.\n",
      "780|ШИПИНО , село Тверского Наместничества в Бежецком уезде. Здесь бывает годовая ярмарка на 14 число Сентября, на которую из уездов обыватели привозят всякой хлеб и прочие сырейные и съестные товары.\n",
      "189|ДЕРПТ , город Рижского Наместничества. В оном бывают в году четыре ярмарки : первая на другой день Богоявления , на которую приезжают множество купцов из Риги и Ревеля с шелковыми и прочими товарами , и торгуют три недели ; при том съезжаются из уезда много и Дворянства; вторая продолжается только три дни, а начинается 29 Июня, то есть в день Св. Апостолов Петра и Павла; на оную привозят соленую и сушеную рыбу с Чудского озера Российские рыбаки ; также иногда и из ближних Российских городов привозят купцы всякие железные товары и горшки глиняные; третия бывает 8 Сентября ; на оную съезжаются крестьяне с коровьим маслом, сеном к хлебом; четвертая бывает 19 Сентября; на оной торгуют скотиною , лошадьми и всяким хлебом.\n",
      "231|ЗАРАЙСК , город Рязанского Наместничества. В сем городе бывает годовых ярмарок три: Мая 9 , во время праздника Пятидесятницы, да Июля 28 чисел. Некоторые уездные обыватели приезжают с разным хлебом и деревенскими рукоделиями, с продажными лошадьми и рогатою скотиною ; а из Тулы, Венева и Каширы приезжают купцы с косами, Коломенские же с хомутами , брусьями, пенечными бечевами и прочим.\n",
      "781|ШИШАКИ , местечко Киевского Наместничества в Миргородском уезде. Бывают здесь в году две ярмарки: первая в день Сошествия Святого Духа, вторая Ноября 8 числа ; торгуют на оных и в еженедельные по Воскресеньям съезды приезжие из уезду жители разными мелкими товарами , там родящимися и делающимися , какъ-то хлебом, горячим вином, разным скотом, овчинами, кожами и проч. Иногда приезжают и Великороссийские купцы с красным товаром.\n",
      "710|ТЮРТЕНЬ, село Орловского Наместничества в Елецком уезде. Здесь бывает Июля в 8 день ярмарка; торгуют Елецкие и других городов купцы с уездными обывателями всякими разными мелочными товарами и дегтем; а обыватели продают купцам и своей братьи лошадей , скотину , холст, съестные всякие припасы и рукоделия.\n",
      "677|ТАРНЯНСКОЙ, городок Кокшайской четверти в уезде города Ваги. Бывает здесь годовая ярмарка, начинающаяся с 1 Генваря и продолжающаяся до 7 дня того же месяца. Купцы приезжают на оные из ближних городов с разными мелочными москотильными и прочими товарами.\n",
      "65|БОРИСОГЛЕБСК , город Тамбовского Наместничества. В нем бывает одна в году Июля 8 дня ярмарка, на коей торгуют три дни приезжающие из ближних городов купцы большею частию мелочными товарами.\n",
      "560|ПРИЛУКИ , город Черниговского Наместничества. В оном бывает в год четыре ярмарки : первая Генваря 1, вторая по Светлом Воскресении в неделю Фомину, третияИюля 24, в день Великомученика Димитрия. Торгуют на оных ярмарках жители с приезжими сосудами хлебом, рогатым скотом , лошадьми и овцами, горячим вином, рыбою, солью , дегтем и разною медною , стеклянною , глиняною и деревянною посудою; также приезжают из Великороссийских и Малороссийских городов купцы с лавочными товарами , сукнами , шелковыми материями, шелком и прочими красными вещами.\n",
      "373|ЛАЛЬСК, город Вологодского Наместничества. Здесь бывает в год четыре ярмарки : первая Декабря 6, вторая Генваря 18 , третия Марта 25, четвертая Июня в первых числах ; на оные привозят устюжские купцы разные мелочные товары; а крестьянство сукна сермяжные, холсты, овчины , шубы и прочие всякие мелочные и съестные товары.\n",
      "319|КОНОБЕЕВО, село Тамбовского Наместничества в Шацком уезде. В оном бывает в году ярмарка Июня 24 дня , на которой торгуют пенькою, холстом , шерстью и прочим.\n",
      "155|ГЛУХОВ, город Новогородского - Северского Наместничества. В оном бывает в году четыре ярмарки: первая Васильевская, Генваря 1, вторая в Тройцын день , третия Ильинская, Июля 20, четвертая Михайловская, Ноября 8. Купцы на оные приезжают из близ лежащих городов как Великороссийских, так и Малороссийских, с разными мелочными товарами ; а жители торгуют хлебом, горячим вином и прочим.\n",
      "337|КРАСНОБОРСК , город Вологодского Наместничества. В сем городе бывает небольшая ярмарка ; приезжая п купцы из разных Российских городов с мълочными товарами.\n",
      "245|ИВАНОВО , село Тульского Наместничества в Каширском уезде. Здесь бывает ярмарка Июня 29 дня; на оную товары в продажу привозятся из Каширы, Тулы, Серпухова, Веневы и из Зарайска по малому числу москотильные мелочные и съестные припасы, а от обывателей уездных в продаже бывает пенька , мед , воск , деревянное изделье.\n",
      "14|АЛЕШНЯ, слобода Курского Наместничества в Белогородском уезде; в оной бывает в году три ярмарки : первая Июля 17, вторая Сентября 6, третия Декабря 4. Купцы на оные приезжают из ближайших городов; торгуют сукнами, шелковыми , бумажными и набойчатыми товарами , железом, полотном , посудою и прочим.\n",
      "511|ПАВЛОГРАД, город Екатеринославского Наместничества. В нем бывают в году три ярмарки.\n",
      "398|ЛЮБИМ , город Ярославского Наместничества. В нем бывает в год две ярмарки: первая в Тройцын день, вторая Декабря 6; продолжав щияся только по одному дню. На оные съезжаются из ближних городов купцы с шелковыми и прочими суровскими поварами ; а из окрестных селений крестьяне с холстами а прочими издельями.\n",
      "88|БЕЛОЗЕРСКОЙ КИРИЛОВ монастырь, того же Наместничества в Белозерском уезде. При оном бывают три годовые ярмарки: первая Июня 9, называемая Кириловская, вторая Августа 15, успенская, третия Ноября 21, Веденская; сюда приезжают из разных Российских городов купцы с разными товарами.\n",
      "628|СЕРПЕЙСК, с 1777 году город Калужского Наместничества. Здесь бывает одна годовая ярмарка в десятую пятницу после Пасхи, да в уезде оного города есть осьмь тахих сел , в которые съезжаются в год по одному разу для торгу, во время церковных в тех селах праздничных дней.\n",
      "137|ВЫШНИЙ ВОЛОЧОК, город Тверского Наместничества. В сем городе бывают в году три ярмарки.\n",
      "720|УСТИВИЦА, местечко Киевского Наместничества в Миргородском уезде. В оном бывает в году сверх еженедельных торгов две ярмарки: первая Июля 20, вторая Октября 26; торгуют на оных приезжие из уезду жители разными мелочными товарами, там родящимися, какъ-то хлебом , горячим вином, разным скотом, овчинами , кожами и проч. Иногда приезжают и Великороссийские купцы с красным товаром.\n",
      "599|САВИН СТОРОЖЕВСКИЙ , монастырь Московской Губернии. При оном бывает ярмарка о десятой пятнице, продолжающаяся несколько дней.\n",
      "510|ПАВЛОВО, село Московской Губернии в Богородском уезде. В оном, сверх бывающого в зимнее время всяную неделю по понедельникам торгу хлебом , бывает в году ярмарка Октября 26 дня, на которую приезжающие разных городов купцы привозят сукна, шелк и всякие для поселян нужные товары , а жители продают выделываемые здесь шелковые разных рук платки, крашенину и съестные припасы.\n",
      "421|МЕДЫНЬ , город Калужского Наместничества. В нем, кроме еженедельного торгу, бывает Июля 8 дня годовая ярмарка, на которую приезжают купцы из разных городов с шелковыми, бумажными и москотильными ниских цен товарами, с сахаром и кофием.\n",
      "208|ДУШАТИН , местечко Новогородского - Северского Наместничества в Стародубовском уезде. В оном бывает сверх еженедельных торжков ярмарка, на которую приезжают жители города Мглина , и торгуют разными мелочными товарами.\n",
      "604|САРАНСК, с 1780 году город Пензенского Наместничества. В сем городе бывает ярмарка Августа 16 , на которую привозят из разных городов купцы мелочные и прочие товары; торг продолжается дней до семи.\n",
      "251|ИВИЦА , слобода Курского Наместничества в Короченском уезде. В оной бывает в году две ярмарки: первая Июня 29, вторая Июля 20 дня; на оные купцы приезжают с разными товарами.\n",
      "496|ОПОШНОЕ, местечко Черниговского Наместничества в Гадяцком уезде. В оном бывает в году четыре ярмарки : первая в неделю Фомину, вторая в десятую пятницу, третия Августа 6, в день Преображения Господня, четвертая Октября 29, в день Св. Димитрия ; на оных торгуют разным скотом, хлебом и съестными припасами. Здесь бывают еженедельные торжки в понедельник и пяток, и торгуют большею частию хлебом.\n",
      "486|ОКВАДСКАЯ , волость Вологодского Наместничества в уезде города Яренска. Здесь бывает ярмарка Ноября 21 дня; скупают приезжие купцы Зырянскую мягкую рухлядь.\n",
      "165|ГОРКИ, местечко Могилевского Наместничества в Оршанском уезде. Здесь бывают в году две ярмарки.\n",
      "413|МАСЛОВИЧИ, местечко Могилевского Наместничества в Мстиславском уезде. Здесь бывает одна ярмарка в году.\n",
      "57|БОГОРОДСК, город Московской Губернии. В нем бывает две в году ярмарки: первая Мая 9, вторая Декабря 6, на которые той округи крестьяне привозят разные съестные припасы, а купцы мелочные товары.\n",
      "212|ЕКАТЕРИНИНСКАЯ, ХАЛАНЬ тожь, слобода Киевского Наместничества около местечка Яблунева. В оной бывают три в году ярмарки; купцы на оные приезжают с разными товарами.\n",
      "311|КОЗЛОВ, город Тамбовского Наместничества. В нем бывают в году две ярмарки: Августа 15 и Сентября 14 числа ; на оных торгуют по два дни обыкновенными крестьянскими товарами , а из приезжих купцов не бывает.\n",
      "375|ЛЕБЕДИН, город Харьковского Наместничества. В оном городе бывают в году три ярмарки: первая Генваря 1, в день Обрезания , вторая по Пасхе в десятую пятницу, тяетия Сентября 20, в день Великомученика Евстафия. Купцы на оные приезжают из близ лежащих городов с лавочными товарами и с горячим вином.\n",
      "804|ЯШ, местечко Полотского Наместничества в Динабургском уезде, В сем месте бывают в году три ярмарки; торгуют Рижского Дворца крестьяне разными мелочными товарами , вином и пивом.\n",
      "469|НЕСТЕРОВСКОЙ , шанец Екатеринославского Наместничествавоскресным дням, а торгуют больше крестьянскими товарами , хлебными и харчевыми припасами.\n",
      "96|ВАЛУЙКИ, город Воронежского Наместничества. В оном бывает в году ярмарка, называемая Петровская; да в уезДе в слободах бывают ярмарки , в Уразовой семь , в Николаевке четыре , в Погромце пять , в Венделевке три , в Белокуриной две, в Деркуле три.\n",
      "695|ТОРЖОК, с 1775 году город Тверского Наместничества. Здесь бывают в году три ярмарки : первая Генваря 6, вторая первой недели великого поста в Воскресенье, третия Сентября 15 числа.   \n",
      "379|ЛИВНЫ, город Орловского Наместничества. Здесь бывает в год одна ярмарка после Пасхи на десятой неделе в пятницу; приезжают на оную купцы из окрестных городов с шелковыми и про чими мелочными товарами; также собираются и крестьяне с своими издельями.\n",
      "709|ТУХИ , село Киевского Наместничества в Миргородском уезде. В оном бывает в году один торговой съезд, состоящий из уездных жителей , торгующих разными мелочными товарами, там родящимися и делающимися , какъ-то хлебом, горячим вином , разным скотом, овчинами , кожами и проч. Иногда приезжают и Великороссийские купцы с красным товаром.\n",
      "168|ГОРОДНЯ , местечко Могилевского Наместничества в Рогачевском уезде. Здесь бывает в году девять ярмарок.\n",
      "739|ХОВАНЬ, сельцо Московской Губернии в Волоколамском уезде. Здесь бывает одна в году ярмарка в Июле месяце , на которой торгуют один день разными крестьянскими товарами.\n",
      "721|УСТЬЕ , село Вологодского Наместничества при реке Кубенице, в 50 верстах. Здесь в зимнее время еженедельно по пятницам собираются окольные поселяне, и продают здешним купцам кожи говяжьи и бараньи , сало , мяса, больших и тучных свиней , масло коровье , щетины , кошечьи и заячьи мехи. В сем же селе особливая бывает ярмарка, называемая Ивановская Заозерская, на которой бывают нетолько Вологодские, но и Московские, Устюжские и Тотемские купцы для покупки полотен, холстов, сукон сермяжных, смолы, скалы и проч. и торгуют сряду по неделе, что бывает с 17 Июня по 23 число.\n",
      "502|ОСКИНО , село Воронежского Наместничества в Коротоякском уезде. Здесь на первойнадесять неделе по Пасхе в пятницу бывает ярмарка продают шелковые и бумажные товары малым чмелом; и по большей части съезжаются крестьяне с их товарами и издельями.\n",
      "132|ВЫСОКОЕ, село Тверского Наместничества в Кашинском уезде. В оном бывает ярмарка Сентября 8 дня, на которую привозят из уезду холсты льняные разные, да из городов Ярославля , Переславля Залеского и Углича мелочные всякие небогатые товары.\n",
      "646|СОСНИЦА, с 1782 году город Новогородскаго-Северского Наместничества. В оном бывают в году три ярмарки: первая на Сырной неделе, вторая после Светлого Воскресенья в десятую пятницу , третия в день Воздвижения честного креста. На оные и еженедельные  съезды приезжают окольные жители, и торгуют хлебом, скотом и другими разными мелочными товарами и вещами.\n",
      "342|КРАСНОКАМЕНСКОЙ, шанец Екатеринославского Наместничества. В оном бывает в году три ярмарки.\n",
      "748|ЦАРИЧЕНКА , местечко Екатеринославского Наместничества в Полтавском уезде. В оном бывают в году три ярмарки.\n",
      "183|ДАЛМАТОВ, город Пермского Наместничества. В нем как весною, Мая 9, так и зимою 6 числа Декабря , то есть в день праздника Ни полая Чудотворца, бывает великая ярмарка , которая продолжается до 13 числа Декабря же , а иногда и более; на оную приезжают купцы из близ лежащих Сибирских городов. Сия ярмарка особливо умножилась от упадка бывшей в Катайском остроге, не далеко оттуда лежащем , ярмарки , в близости Башкир, которые на оную много рогатого скота и лошадей на продажу пригоняют.\n",
      "33|БАСАНЬ , местечко того же Наместничества и уезду. В оном, кроме еженедельных по понедельникам торгов, бывает в году пятярмарок: первая в день Вознесения Господня , вторая в день Св. Апостолов Петра и Павла , третия в день успения Пресвятые Богородицы, четвертая Сентября 20, в день Св. Евстафия, пятая Декабря 6, в день Николая Чудотворца. Торгуют на оных разными мелочными товарами и привозимою из Донских станиц мелкою рыбою. Жители продают рогатой скот , лошадей , хлеб, смолу, горячее вино и прочее; также привозят сюда для продажи жителям Крымскую соль.\n",
      "461|НАРВА , город С. Петербургской Губернии В нем еще по Шведским учреждениям положено в год быть двум ярмаркам , в Феврале и Июлемесяцах, каждой по четырнадцати дней.\n",
      "305|КОВРОВ, город Владимерского Наместничества. Здесь бывает годовая ярмарка 25 Декабря. Приезжают на оную купцы из разных городов с мелочными товарами.\n",
      "99|ВАШКА , деревня Архангельского Наместничества в Мезенском уезде. Здесь бывает небольшая годовая ярмарка в Генваре месяце, называемая Мезенская, на которую с Волокопинежской ярмарки некоторая чаешь мелочных товаров переходит.\n",
      "447|МОСТОВСКОЕ , село Уфимского Наместничества в Челябинском уезде. Здесь бывает годовая ярмарка в день Вознесения Господня и Ноября 21; на оных торг производят разными мелочными товарами.\n",
      "448|МОЦЫНА , местечко Полотского Наместничества в уезде города Динабурга. В сем месте бывают в году три ярмарки ; торгуют Рижского Дворца крестьяне разными мелочными товарами, вином и пивом.\n",
      "624|СЕРЕВКА, село в уезд города Рогачева. В нем бывает в году четыре ярмарки.\n",
      "209|ДЕДИЛОВ, слобода Тульского Наместничества в Белевском уезде. Здесь бывает ярмарка Июля 5 и 16 чисел; приезжают на оную из ближних городов с мелочными для крестьянства товарами.\n",
      "609|СВЕРЖИН, местечко Могилевского Наместничества в уезде города Рогачева. Здесь бывает в году ярмарка в день Вознесения Христова.\n",
      "647|СПАС на ХОЛМУ, село Тверского Наместничества в Бежецком уезде. Здесь бывает годовая ярмарка , на коей торгуют хлебом, скотом, кожами и салом.\n",
      "698|ТРОИЦК, с 1780 году город Пензенского Наместничества. В нем бывает ярмарка Июня 29 дня, сверх обыкновенных каждонеделъных торгов.\n",
      "259|ИРБИТ, город Пермского Наместничества. Здесь всякой год в половине Генваря месяца бывает великая ярмарка , которая две и три недели продолжается, сего для сделан там большой четвероугольной гостиной двор, в котором вдоль стен девяносто одна , да еще в средине в двух рядах пятдесят осьмь лавок, и в котором происходит во время ярмарки настоящий торг, сверх того и еще кроме оного гостиного двора во многих шалашах, сделанных из досок , в то время съестными припасами и разными мелочьии торгуют\n",
      "279|КАРПОВКА, АРХАНГЕЛЬСКОЕ тожь, село Рязанского Наместничества в Донковском уезде. Здесь бывают в году две ярмарки: первая в день Архангела Михаила Ноября 8, вторая в день Чудотворца Николая , Декабря 6; приезжают сюда купцы и крестьяне с разными мелочными товарами.\n",
      "467|НЕЙШЛОТ, город Выборгского Наместничества. В нем 1780 году учреждена годовая ярмарка 15 Сентября.\n",
      "361|КУЗНЕЦК, город Саратовского Наместничества. Здесь сверх еженедельного торгу бывает ярмарочной съезд в десятую пятницу по Пасхе.\n",
      "325|КОРОВАЙ, село Киевского Наместничества в Лубенском уезде. В оном бывает ярмарка после Светлого Воскресения о десятой пятнице.\n",
      "62|БОРЗНА , город Черниговского Наместничества. В оном городе бывает в году три ярмарки.\n",
      "310|КОЗЕЛЬСК, город Калужского Наместничества. Въоиом бывает ярмарка в десятую пятницу по Пасхе. Сюда приезжают иногородные купцы с разными товарами, шелковыми и бумажными, также крестьяне продают свои продукты , пеньну, смольчуг и поташ , масло , парусную пряжу; а прочие торги бывают еженедельно в понедельник.\n",
      "704|ТУГЛИНСКАЯ, волость Вологодского Наместничества в уезде города Яренска. Здесь бывают ярмарки : первая Генваря от 6 по 17 день, вторая Марта с 25 Апреля по 1, и третия Июня с 24 Июля по 1, четвертая Сентября с 23 Октября по 1. На оные приезжают купцы из разных Российских городов с товарами, и скупают у крестьян сих уездов деревенския произрастения и рукоделия.\n",
      "751|ЦЫБУЛЕВ , слобода Екатеринославского Наместничества в Елисаветградской Провинции. В оной бывает в году три ярмарки.\n",
      "402|МАКАЛОВО, село Пензенского Наместничества в уезде города Краснослободска. Здесь бывает одна в году ярмарка на десятой неделе по Пасхе в пяток; но сюда приезжают по большей части крестьяне с своими припасами.\n",
      "407|МАЛОЙ АРХАНГЕЛЬСК, город Орловского Наместничества. В нем бывает дважды в неделю съезд.\n",
      "131|ВЫСОКОЕ, село Московской Губернии в Волоколамском уезде , в котором есть небольшой ряд , и в оном производится продажа всякого щепетильного товару, деревянной посуды , хлеба и хмелю,\n",
      "462|НАРОВЧАТ , город Пензенского Наместничества. В сем городе бывает в год три ярмарки : первая Июня 29, вторая Июля 20, третия Августа 6 дня, сверх Обыкновенных каждонедельных торгов.\n",
      "438|МОЖАЙСК, город Московской Губернии. В оном , кроме еженедельного по понедельникам торгового дня, ярмарка бывает в имеющихся в сем городе рядах Июня 29 дня; на оную приезжают из ближних к нему городов , из Тулы , Калуги , Боровска и Вереи с разными шелковыми и прочими мелочными товарами.\n",
      "21|АРТЕМОНОВКА , слобода Харьковского Наместничества и уезду; здесь бывают ярмарки Июля 8 и Ноября 21, Торгуют купцы мелочными товарами , пивом, медом и прочим.\n",
      "17|АНТОНОВКА, местечко Могилевского Наместничества в Рогачевском уезде; здесь бывает в году три ярмарки.\n",
      "160|ГОЛТВА , город того же Наместничества. В оном бывает в год четыре ярмарки: первая Генваря 6, другая Июля 29, третия Августа 6, четвертая Ноября 8; торгуют на оных приезжие из уезду жители разными мелочными товарами там родящимися, какъ-то хлебом, горячим вином, разным скотом, дегтем, овчинами , кожами и прочим; иногда приезжают и Великороссийские купцы с красным товаром.\n",
      "166|ГОРОДИЩЕ , местечко Киевского Наместничества в Лубенском уезде. В оном бывает в году три ярмарки : первая Генваря 1, вторая Мая 2, третия Августа 1 дня.\n",
      "443|МОРОМСК, или МОРОМЕСК, местечко Киевского Наместничества и уезду. В нем бывает одна в году 6 Декабря ярмарка.\n",
      "602|САМБОРСКОЙ, шанец Екатеринославского Наместничества. В оном бываете в году три ярмарки. \n",
      "334|КОШИРА , город Тульского Наместничества. Здесь бывает годовая ярмарка в день Вознесения Господня в Маие месяце , но торгуют мелочными товарами.\n",
      "571|ПЯТНИЦКОЕ , что в БЕРЕНДЕЕВЕ, село Московской Губернии в Воскресенском уезде. В сем селе бывает одна в году ярмарка, на которой торгуют разными мелочами.\n",
      "489|ОЛИШЕВКА , местечко в округе города Киева. Здесь бывает в году две ярмарки ; на оных скупают приезжие купцы кожи , овчины , шубы , соль и прочее.\n",
      "194|ДОБРАЯ, слобода Воронежского Наместничества. В сей слободе в году бывают три небольшия ярмарки: первая 9 Мая вторая 26 Июня, третия 6 Декабря, и продолжаются не более как по одному, или по два Дни. Купцы на оные привозят мелочные товары.\n",
      "731|ФЛОРОВО , село того же Наместничества и уезду. В сем селе бывают торговые съезды Июня 23 и Августа 18 числа.\n",
      "302|КНЯГИНИН, город Нижегородского Наместничества. В нем бывает каждую неделю по вторникам торг, на которой крестьяне привозят всякие съестные припасы, также дрова и деготь.\n",
      "175|ГРЕМЯЧЬ, местечко Новогородского - Северского Наместничества в Стародубовском уезде. В оном бывают каждонедельные торжки, на которые съезжаются окольные жители , и торгуют разными мелочными товарами.\n",
      "590|РУШОНА, местечко Полотского Наместничества в уезде города Динабурга. В сем месте бывает в году одна ярмарка ; торгуют Рижского Дворца крестьяне разными мелочными товарами , вином и пивом.\n",
      "670|СУМСКАЯ ВОРОЖБА, слобода Харьковского Наместничества в Сумском уезде. В оном бывает в году четыре ярмарки; купцы приезжают из окрестных городов с мелочными товарами и горячим вином, также и съестными припасами.\n",
      "15|АНАЕВО, село Тамбовского Наместничества около посада Кадома; здесь одна бывает ярмарка в году, на которую приезжают купцы из ближних городовъс шелковыми , бумажными и другими мелочными товарами.\n",
      "219|ЕПИФАНЬ, город Тульского Наместничества. В оном бывает ярмарка Мая 9, то есть в день Чудотворца Николая. Купцы приезжают из окрестных городов с разными не в знатном числе товарами.\n",
      "530|ПЕТРОВСКОЕ, село Орловского Наместничества в Елецком уезде. Здесь бывает ярмарка Июня 19 числа; на оной торгуют Елецкие купцы и других городов с уездными обывателями всякими разными мелочными товарами; а обыватели продают купцам и своей братьи лошадей, скотину, холст и съестные всякие припасы и рукоделье.\n",
      "762|ЧЕРЛЯНКОВО, село Московской Губернии в Волоколамском уезде. Здесь бывает одна в году ярмарка Мая 9 дня, на которой торгуют один день разными крестьянскими товарами.\n",
      "765|ЧЕРИООСТРОЖСКОЙ НИКОЛАЕВСКОЙ, монастырь Ярославского Наместничества. При оном бывает ярмарка Декабря 6, Мая 9 , да о десятой пятнице при Соборной церкви Казанския Богородицы , на память Великомученика Георгия Ноября 26 чисел, но токмо знатных товаров в продаже не бывает, и привозят по близости из других городов по малому числу мелочные товары , такожь уездные обыватели съестные припасы.\n",
      "592|РЫЖКОВО, село Калужского Наместничества в Боровском уезде. Здесь бывает годовая ярмарка Августа 15 дня, в праздник успения Пресвятые Богородицы ; приезжают купцы с разными товарами из разных городов.\n",
      "306|КОВЫМСКОЕ, или КОЛЫМСКОЕ, зимовье верхнее, среднее и нижнее в Сибири. В оных бывают ярмарки в Феврале и Марте месяцах.\n",
      "459|МЯГКОЕ , село Тульского Наместничества в Каширском уезде. В оном во время десятой и одиннадцатой пятниц бывают ярмарки, на которые товары в продажу привозят из Каширы , Тулы , Серпухова , Венева и Зарайска по малому числу москотильной и мелочной; а от обывателей уездных в продаже бывает пенька , мед, воск и деревянное изделье.\n",
      "494|ОНОФРИЕВО , село Московской Губернии в Звенигородском уезде. В оном ежегодно бывает ярмарка во 12 день Июня.\n",
      "64|БОРИСОГЛЕБСК, город Ярославского Наместничества. Здесь ярмарки бывают на день Живоначальные Троицы и на день Иоанна Богослова ; а недельные торжки в субботние дни. В оные ярмарочные и субботние дни с товарами купцы не приезжают, а съезжаются по большей части живущие в близости оной слободы крестьяне и прочие разночинцы, и привозят на продажу хлеб, столовые запасы и деланную ими деревянную и прочую посуду.\n",
      "54|БОГОРОДИЦК, город Тульского Наместничества. В сем городе бывает ярмарка Июля 7 и 8 дня, на которую из городов Тулы , Епифани, Кропивны , Дедилова, Ефремова и Донкова привозят мелочные красные товары , а оных городов из уездов крестьяне колесы и лыки.\n",
      "580|РОГАЧЕВО , Економическое село Московской Губернии в Дмитровском уезде. В оном ряды имеются и торжке, и бывает в году две ярмарки : первая Мая 9, вторая о десятой пятнице.\n",
      "13|АЛЕКСЕЕВСКАЯ, крепость Екатеринославского Наместничества по Днепровской линии ; в оной бывают в году три ярмарки.\n",
      "66|БОРИСОГЛЕБСКОЙ, монастырь Ярославского Наместничества в Петровском уезде. При нем Мая 2 числа бывает годовая ярмарка , на которой приезжие из разных окольных городов купцы торгуют суровскими товарами.\n",
      "240|ЗОЛОЧЕВ, город Харьковского Наместничества. Здесь бывают ярмарки Июня 29, Августа 6, Декабря 6 ; торгуют купцы мелочным товаром, вином, пивом, медом и прочим.\n",
      "263|ИСТАЛЕНА, местечко Полотского Наместничества в уезде города Динабурга. В сем месте бывают в году две ярмарки; торгуют Рижского Дворца крестьяне разными мелочными товарами, вином и пивом.\n",
      "396|ЛЮБАВИЧИ, местечко Могилевского Наместничества в Бабиновецком уезде. В нем бывает одна в году ярмарка.\n",
      "268|КАДОМ , посад Тамбовского Наместничества. В оном бывает в году две ярмарки : первая Июня 29, вторая Июля 20; на оные купцы съезжаются из ближних городов с шелковыми , бумажными и црочими мелочными товарами.\n",
      "650|СПАСКОЕ, село Ярославского Наместничества в Пошехонском  уезде. Здесь бывает годовая ярмарка в день Преображения, и продолжается два дни.\n",
      "228|ЖУРАВИЧИ , местечко Могилевского Наместничества в Старобыховском уезде. Сюда собираются купцы четыре раза в год на ярмарки.\n",
      "608|СВАТОВА ЛУЧКА, слобода Харьковского Наместничества в уезде города Изюма. В оной бывает в году две ярмарки: первая Июня 8, в день Феодора Стратилата; вторая Сентября 26, в день Иоанна Богослова; приеэжают на оные купцы из разных Российских городов с шелковыми , бумажными, шерстяными и прочими товарами.\n",
      "205|ДУКШТИЛАГ, местечко Полотского Наместничества в Динабургском уезде. В сем месте бывают в году две ярмарки ; торгуют Рижского Дворца крестьяне разными мелочными товарами , вином и пивом.\n",
      "97|ВАРВА, местечко Черниговского Наместничества в Прилуцком уезде. В оном бывает в году три ярмарки :    первая Мая 9, вторая Июня 29, третия Ноября 1. На оных торгуют окольные жители своими произрастениями, как - то хлебом , разным скотом , съестными припасами , сеном, дегтем и прочими мелочными; здесь такжебывает и еженедельной торг в среду.\n",
      "136|ВЫШГОРОД, село Московской Губернии в Верейском уезде. В оном бывают две ярмарки в году: первая в десятую пятницу , вторая Июля 2 числа ; на оные приезжают купцы из городов Вереи, Можайска и Боровска , и множество сходится крестьянства ; торгуют всякими съестными припасами и крестьянским товаром, какъ-то колесами, дегтем и тому подобным.\n",
      "582|РОЛОВСКОЕ , село Ярославского Наместничества. Здесь бывают годовые две ярмарки, а именно одна Васильевская, Генваря 1 числа , а другая Ивановская, Июня 24 числа; в те ярмарки купецкие люди ни с какими товарами не приезжают, а покупают у крестьян холстов немалое число.\n",
      "161|ГОМЕЛЬ, местечко Могилевского Наместничества в Белицком уезде. Здесь бывает две ярмарки в году.\n",
      "775|ШАМОВО, местечко Могилевского Наместничества в Мстиславском уезде. В нем бывает одна ярмарка в году.\n",
      "35|БАТУРИН, местечко Новогородского - Северского Наместничества в Нежинском уезде. Здесь бывает в году четыре ярмарки.\n",
      "109|ВЕРХОВАЖСКОЙ, посад Вологодского Наместничества. Здесь бывает ярмарка около 15 числа Марта месяца потри дни. Останавливаются здесь купцы с товарами едущие с Благовещенской Важенской ярмарки; также съезжается туда и крестьянство с своими для продажи приуготовлениями.\n",
      "312|КОЗЛОВКА , село Тульского Наместничества в Каширском уезде. Здесь бывает ярмарка Мая 9 числа ; на оную товары в продажу привозятся из Каширы, Тулы, Серпухова, Ренева и Зарайска, по малому числу москотильные мелочнье, а впрочем от обывателей уездных в продаже бывает пенька, мед, воск , деревянное изделье.\n",
      "642|СОЛЬ-ВЫЧЕГОДСК с 1780 году город Вологодского Наместничества. В оном бывает в году одна ярмарка; а в уезде оного бывают торги в двух селах в Бондокурском стану и в ИльинскомЬ приходе на Вилюде.\n",
      "424|МЕХОНСКОЙ , острог Уфимского Наместничества в Челябинском уезде. Здесь бывает ярмарка Декабря 25 и Июля 20; торгуют мелочным товаром.\n",
      "508|ОСТРОВНЯ , местечко Могилевского Наместничества в Сенном уезде. Здесь бывает одна ярмарка в году.\n",
      "247|ИВАНОВСКОЕ, село Тульского Наместничества в Каширском уезде. Здесь бывает ярмарка Сентября 23 дня; на оную ярмарку товары в продажу привозятся из Каширы, и из Тулы, Серпухова, Венева из Зарайска по малому числу москотильные мелочные и прочие , также съестные припасы ; а от обывателей уездных в продаже бывает пенька , мед, воск, деревянное изделье.\n",
      "703|ТРУБЧЕВСК, с 1778 году город Орловского Наместничества. В оном бывает в году ярмарка, которая начинается с Троицына Дня, и продолжается неделю.\n",
      "8|АЛАТЫРЬ, город Синбирского Наместничества. В уезде сего города бывает годовых семь ярмарок.\n",
      "414|МАХОНОВО , село Тамбовского Наместничества около городка Доброго. Здесь бывает в году ярмарка 29 Августа ; на оную приезжают купцы с мелочными товарами.\n",
      "151|ГЖАТЬ, город Смоленского Наместничества. В сем городе бывает годовая ярмарка , сверх каждонедельных торгов, Июля 8 дня ; а в селах бывает съезд в храмовые праздники , и в каждом на один только тот день.\n",
      "299|КИАТА, село Казанского Наместничества в Свиажском уезде. В оном бывает в каждый год ярмарка в Июне месяце дней по пяти. Сюда приезжают разных городов Российские купцы с Российскими и иностранными товарами, также меняют и покупают лошадей.\n",
      "141|ВЯЗОВНА, село Синбирского Наместничества и уезду. В оном бывает каждую неделю торг, \n",
      "433|МИХАЙЛОВКА, село Харьковского Наместничества в уезде города Лебедина. В оном селе бывают три ярмарки : первая Февраля 2, вторая в день Преполовения, третия Сентября 8. Купцы на оные приезжают из близ лежащих городов с лавочными товарами и горячим вином, также и съестными припасами.\n",
      "692|ТИХОНОВА, пустыня Костромского Наместничества в Луховском уезде. Здесь бывает ярмарка Июня 16 дня.\n",
      "754|ЧАСОВНЯ СВ. ДУХА , того же Наместничества и уезду. При оной бывает ярмарка в Июне месяце. Купцы приезжают из Пскова с разными мелочными товарами.\n",
      "431|МИТЯКИНСКАЯ , станица Донских Козаков. В ней всякой год в десятую пятницу по Пасхе бывает ярмарка, на которую пригоняют скот , также привозят вялую рыбу , холст, шелковые материи, сукна, деготь и горячие напитки.\n",
      "352|КРИВЦО , село Ярославского Наместничества и уезду. Здесь бывает годовая Никольская ярмарка Декабря в 5 день; крестьяне привозят и продают свиное сало, масло коровье, гусей, кожи сырые и овчины; купецкие же люди ни с какими товарами не приезжают.\n"
     ]
    }
   ],
   "source": [
    "txt_counter = 0\n",
    "for k,v in db.items():\n",
    "    print(\"{}|{}\".format(k,v['description_new_orth']))"
   ]
  },
  {
   "cell_type": "code",
   "execution_count": 162,
   "metadata": {
    "collapsed": false
   },
   "outputs": [],
   "source": [
    "with open(\"../resources/machine_translated.json\",\"r\",encoding='utf-8') as fp:\n",
    "    translate = json.load(fp)\n",
    "for k in db:\n",
    "    db[k]['desc_machine_translated'] = translate[k]"
   ]
  },
  {
   "cell_type": "code",
   "execution_count": 163,
   "metadata": {
    "collapsed": false
   },
   "outputs": [],
   "source": [
    "keys = {}\n",
    "for k,v in db.items():\n",
    "    for j in v:\n",
    "        keys[j]=\"explanation\"\n",
    "        if type(v[j])==dict:\n",
    "            for h in v[j]:\n",
    "                keys[j+\"_\"+str(h)] = 'explanation'"
   ]
  },
  {
   "cell_type": "markdown",
   "metadata": {},
   "source": [
    "Calendar Presentation\n",
    "====================="
   ]
  },
  {
   "cell_type": "code",
   "execution_count": 164,
   "metadata": {
    "collapsed": false
   },
   "outputs": [],
   "source": [
    "year = [html.fromstring(calendar.HTMLCalendar(firstweekday=6).formatmonth(1788,m)) for m in range(1,13)]"
   ]
  },
  {
   "cell_type": "code",
   "execution_count": 165,
   "metadata": {
    "collapsed": false
   },
   "outputs": [],
   "source": [
    "for m in range(len(year)):\n",
    "    for c in year[m].getchildren():\n",
    "        for cc in c.getchildren():\n",
    "            try:\n",
    "                i = int(cc.text_content())\n",
    "                cc.set(\"id\",\"1788-{:0>2}-{:0>2}\".format(m+1,i))\n",
    "            except ValueError:\n",
    "                continue"
   ]
  },
  {
   "cell_type": "code",
   "execution_count": 166,
   "metadata": {
    "collapsed": false
   },
   "outputs": [],
   "source": [
    "datedict = {}\n",
    "for k,v in db.items():\n",
    "    if 'fair_dates' in v:\n",
    "        for d in v['fair_dates']:\n",
    "            beg = datetime.datetime.strptime(juli_to_greg(d['beg']),\"%Y-%m-%d\")\n",
    "            end = datetime.datetime.strptime(juli_to_greg(d['end']),\"%Y-%m-%d\")\n",
    "            while beg <= end:\n",
    "                f_beg = beg.strftime(\"%Y-%m-%d\")\n",
    "                if f_beg not in datedict:\n",
    "                    datedict[f_beg] = []\n",
    "                datedict[f_beg].append(\"{}: {}\".format(v['name_new_orth'],d['text']))\n",
    "                beg = beg + datetime.timedelta(1)"
   ]
  },
  {
   "cell_type": "code",
   "execution_count": 167,
   "metadata": {
    "collapsed": false
   },
   "outputs": [],
   "source": [
    "for d,v in datedict.items():\n",
    "    m = int(d[5:7])-1\n",
    "    to_add = html.fromstring(\"<ul><li>{}</li></ul>\".format(\"</li><li>\".join(v)))\n",
    "    year[m].get_element_by_id(d).extend(to_add)"
   ]
  },
  {
   "cell_type": "code",
   "execution_count": 168,
   "metadata": {
    "collapsed": false
   },
   "outputs": [],
   "source": [
    "from IPython.display import HTML"
   ]
  },
  {
   "cell_type": "code",
   "execution_count": 169,
   "metadata": {
    "collapsed": false
   },
   "outputs": [
    {
     "data": {
      "text/html": [
       "b'<table border=\"0\" cellpadding=\"0\" cellspacing=\"0\" class=\"month\"><tr><th colspan=\"7\" class=\"month\">January 1788</th></tr><tr><th class=\"sun\">Sun</th><th class=\"mon\">Mon</th><th class=\"tue\">Tue</th><th class=\"wed\">Wed</th><th class=\"thu\">Thu</th><th class=\"fri\">Fri</th><th class=\"sat\">Sat</th></tr><tr><td class=\"noday\">&#160;</td><td class=\"noday\">&#160;</td><td class=\"tue\" id=\"1788-01-01\">1</td><td class=\"wed\" id=\"1788-01-02\">2</td><td class=\"thu\" id=\"1788-01-03\">3</td><td class=\"fri\" id=\"1788-01-04\">4</td><td class=\"sat\" id=\"1788-01-05\">5<li>&#1052;&#1072;&#1089;&#1083;&#1077;&#1085;&#1089;&#1082;&#1072;&#1103;: &#1044;&#1077;&#1082;&#1072;&#1073;&#1088;&#1103; 25</li><li>&#1053;&#1072;&#1073;&#1076;&#1080;&#1085;: &#1044;&#1077;&#1082;&#1072;&#1073;&#1088;&#1103; 25</li><li>&#1042;&#1072;&#1083;&#1076;&#1072;&#1081;: &#1056;&#1086;&#1078;&#1076;&#1077;&#1089;&#1090;&#1074;&#1072; &#1061;&#1088;&#1080;&#1089;&#1090;&#1086;&#1074;&#1072;</li><li>&#1052;&#1077;&#1075;&#1088;&#1072;: &#1056;&#1086;&#1078;&#1076;&#1077;&#1089;&#1090;&#1074;&#1072; &#1061;&#1088;&#1080;&#1089;&#1090;&#1086;&#1074;&#1072;</li><li>&#1055;&#1086;&#1083;&#1086;&#1090;&#1089;&#1082;: &#1056;&#1086;&#1078;&#1076;&#1077;&#1089;&#1090;&#1074;&#1086;&#1084; &#1061;&#1088;&#1080;&#1089;&#1090;&#1086;&#1074;&#1099;&#1084;</li><li>&#1057;&#1091;&#1079;&#1076;&#1072;&#1083;&#1100;: 25 &#1044;&#1077;&#1082;&#1072;&#1073;&#1088;&#1103;</li><li>&#1050;&#1086;&#1074;&#1088;&#1086;&#1074;: 25 &#1044;&#1077;&#1082;&#1072;&#1073;&#1088;&#1103;</li><li>&#1052;&#1077;&#1093;&#1086;&#1085;&#1089;&#1082;&#1086;&#1081;: &#1044;&#1077;&#1082;&#1072;&#1073;&#1088;&#1103; 25</li></td></tr><tr><td class=\"sun\" id=\"1788-01-06\">6<li>&#1059;&#1075;&#1083;&#1080;&#1095;: &#1044;&#1077;&#1082;&#1072;&#1073;&#1088;&#1103; 26</li></td><td class=\"mon\" id=\"1788-01-07\">7</td><td class=\"tue\" id=\"1788-01-08\">8</td><td class=\"wed\" id=\"1788-01-09\">9</td><td class=\"thu\" id=\"1788-01-10\">10</td><td class=\"fri\" id=\"1788-01-11\">11</td><td class=\"sat\" id=\"1788-01-12\">12<li>&#1057;&#1077;&#1088;&#1076;&#1086;&#1073;&#1086;&#1083;&#1100;: &#1043;&#1077;&#1085;&#1074;&#1072;&#1088;&#1077;</li><li>&#1050;&#1072;&#1088;&#1086;&#1095;&#1072;: &#1053;&#1086;&#1074;&#1086;&#1081; &#1075;&#1086;&#1076;</li><li>&#1058;&#1088;&#1086;&#1080;&#1094;&#1082;&#1072;&#1103;: &#1043;&#1077;&#1085;&#1074;&#1072;&#1088;&#1103; 1</li><li>&#1057;&#1084;&#1077;&#1083;&#1086;&#1077;: &#1043;&#1077;&#1085;&#1074;&#1072;&#1088;&#1103; 1</li><li>&#1057;&#1086;&#1088;&#1086;&#1095;&#1080;&#1085;&#1094;&#1099;: &#1043;&#1077;&#1085;&#1074;&#1072;&#1088;&#1103; 1</li><li>&#1059;&#1088;&#1072;&#1083;&#1100;&#1089;&#1082;: &#1043;&#1077;&#1085;&#1074;&#1072;&#1088;&#1077;</li><li>&#1041;&#1072;&#1088;&#1099;&#1096;&#1077;&#1074;&#1082;&#1072;: &#1043;&#1077;&#1085;&#1074;&#1072;&#1088;&#1103; 1</li><li>&#1056;&#1091;&#1073;&#1077;&#1078;&#1085;&#1072;&#1103;: &#1043;&#1077;&#1085;&#1074;&#1072;&#1088;&#1103; 1</li><li>&#1054;&#1089;&#1090;&#1077;&#1088;: &#1053;&#1086;&#1074;&#1086;&#1081; &#1075;&#1086;&#1076;</li><li>&#1043;&#1086;&#1088;&#1086;&#1096;&#1080;&#1085;: &#1043;&#1077;&#1085;&#1074;&#1072;&#1088;&#1103; 1</li><li>&#1052;&#1072;&#1103;&#1082;&#1080;: &#1043;&#1077;&#1085;&#1074;&#1072;&#1088;&#1103; 1</li><li>&#1044;&#1074;&#1091;&#1088;&#1077;&#1095;&#1085;&#1072;&#1103;: &#1043;&#1077;&#1085;&#1074;&#1072;&#1088;&#1103; 1</li><li>&#1050;&#1086;&#1090;&#1077;&#1083;&#1100;&#1074;&#1072;: &#1043;&#1077;&#1085;&#1074;&#1072;&#1088;&#1103; 1</li><li>&#1044;&#1077;&#1088;&#1075;&#1072;&#1095;&#1080;: &#1043;&#1077;&#1085;&#1074;&#1072;&#1088;&#1103; 1</li><li>&#1048;&#1074;&#1072;&#1085;&#1086;&#1074;&#1082;&#1072;: &#1043;&#1077;&#1085;&#1074;&#1072;&#1088;&#1103; 1</li><li>&#1047;&#1072;&#1096;&#1080;&#1074;&#1077;&#1088;&#1089;&#1082;: &#1043;&#1077;&#1085;&#1074;&#1072;&#1088;&#1077;</li><li>&#1058;&#1072;&#1088;&#1085;&#1103;&#1085;&#1089;&#1082;&#1086;&#1081;: 1 &#1043;&#1077;&#1085;&#1074;&#1072;&#1088;&#1103;</li><li>&#1055;&#1088;&#1080;&#1083;&#1091;&#1082;&#1080;: &#1043;&#1077;&#1085;&#1074;&#1072;&#1088;&#1103; 1</li><li>&#1043;&#1083;&#1091;&#1093;&#1086;&#1074;: &#1043;&#1077;&#1085;&#1074;&#1072;&#1088;&#1103; 1</li><li>&#1051;&#1077;&#1073;&#1077;&#1076;&#1080;&#1085;: &#1043;&#1077;&#1085;&#1074;&#1072;&#1088;&#1103; 1</li><li>&#1042;&#1072;&#1096;&#1082;&#1072;: &#1043;&#1077;&#1085;&#1074;&#1072;&#1088;&#1077;</li><li>&#1048;&#1088;&#1073;&#1080;&#1090;: &#1043;&#1077;&#1085;&#1074;&#1072;&#1088;&#1103; &#1084;&#1077;&#1089;&#1103;&#1094;&#1072;</li><li>&#1043;&#1086;&#1088;&#1086;&#1076;&#1080;&#1097;&#1077;: &#1043;&#1077;&#1085;&#1074;&#1072;&#1088;&#1103; 1</li><li>&#1056;&#1086;&#1083;&#1086;&#1074;&#1089;&#1082;&#1086;&#1077;: &#1043;&#1077;&#1085;&#1074;&#1072;&#1088;&#1103; 1</li></td></tr><tr><td class=\"sun\" id=\"1788-01-13\">13<li>&#1057;&#1077;&#1088;&#1076;&#1086;&#1073;&#1086;&#1083;&#1100;: &#1043;&#1077;&#1085;&#1074;&#1072;&#1088;&#1077;</li><li>&#1059;&#1088;&#1072;&#1083;&#1100;&#1089;&#1082;: &#1043;&#1077;&#1085;&#1074;&#1072;&#1088;&#1077;</li><li>&#1047;&#1072;&#1096;&#1080;&#1074;&#1077;&#1088;&#1089;&#1082;: &#1043;&#1077;&#1085;&#1074;&#1072;&#1088;&#1077;</li><li>&#1042;&#1072;&#1096;&#1082;&#1072;: &#1043;&#1077;&#1085;&#1074;&#1072;&#1088;&#1077;</li><li>&#1048;&#1088;&#1073;&#1080;&#1090;: &#1043;&#1077;&#1085;&#1074;&#1072;&#1088;&#1103; &#1084;&#1077;&#1089;&#1103;&#1094;&#1072;</li></td><td class=\"mon\" id=\"1788-01-14\">14<li>&#1057;&#1077;&#1088;&#1076;&#1086;&#1073;&#1086;&#1083;&#1100;: &#1043;&#1077;&#1085;&#1074;&#1072;&#1088;&#1077;</li><li>&#1059;&#1088;&#1072;&#1083;&#1100;&#1089;&#1082;: &#1043;&#1077;&#1085;&#1074;&#1072;&#1088;&#1077;</li><li>&#1047;&#1072;&#1096;&#1080;&#1074;&#1077;&#1088;&#1089;&#1082;: &#1043;&#1077;&#1085;&#1074;&#1072;&#1088;&#1077;</li><li>&#1042;&#1072;&#1096;&#1082;&#1072;: &#1043;&#1077;&#1085;&#1074;&#1072;&#1088;&#1077;</li><li>&#1048;&#1088;&#1073;&#1080;&#1090;: &#1043;&#1077;&#1085;&#1074;&#1072;&#1088;&#1103; &#1084;&#1077;&#1089;&#1103;&#1094;&#1072;</li></td><td class=\"tue\" id=\"1788-01-15\">15<li>&#1057;&#1077;&#1088;&#1076;&#1086;&#1073;&#1086;&#1083;&#1100;: &#1043;&#1077;&#1085;&#1074;&#1072;&#1088;&#1077;</li><li>&#1050;&#1091;&#1085;&#1075;&#1091;&#1088;: &#1043;&#1077;&#1085;&#1074;&#1072;&#1088;&#1103; 4</li><li>&#1059;&#1088;&#1072;&#1083;&#1100;&#1089;&#1082;: &#1043;&#1077;&#1085;&#1074;&#1072;&#1088;&#1077;</li><li>&#1047;&#1072;&#1096;&#1080;&#1074;&#1077;&#1088;&#1089;&#1082;: &#1043;&#1077;&#1085;&#1074;&#1072;&#1088;&#1077;</li><li>&#1042;&#1072;&#1096;&#1082;&#1072;: &#1043;&#1077;&#1085;&#1074;&#1072;&#1088;&#1077;</li><li>&#1048;&#1088;&#1073;&#1080;&#1090;: &#1043;&#1077;&#1085;&#1074;&#1072;&#1088;&#1103; &#1084;&#1077;&#1089;&#1103;&#1094;&#1072;</li></td><td class=\"wed\" id=\"1788-01-16\">16<li>&#1057;&#1077;&#1088;&#1076;&#1086;&#1073;&#1086;&#1083;&#1100;: &#1043;&#1077;&#1085;&#1074;&#1072;&#1088;&#1077;</li><li>&#1059;&#1088;&#1072;&#1083;&#1100;&#1089;&#1082;: &#1043;&#1077;&#1085;&#1074;&#1072;&#1088;&#1077;</li><li>&#1047;&#1072;&#1096;&#1080;&#1074;&#1077;&#1088;&#1089;&#1082;: &#1043;&#1077;&#1085;&#1074;&#1072;&#1088;&#1077;</li><li>&#1042;&#1072;&#1096;&#1082;&#1072;: &#1043;&#1077;&#1085;&#1074;&#1072;&#1088;&#1077;</li><li>&#1048;&#1088;&#1073;&#1080;&#1090;: &#1043;&#1077;&#1085;&#1074;&#1072;&#1088;&#1103; &#1084;&#1077;&#1089;&#1103;&#1094;&#1072;</li></td><td class=\"thu\" id=\"1788-01-17\">17<li>&#1057;&#1077;&#1088;&#1076;&#1086;&#1073;&#1086;&#1083;&#1100;: &#1043;&#1077;&#1085;&#1074;&#1072;&#1088;&#1077;</li><li>&#1057;&#1077;&#1073;&#1077;&#1078;: &#1041;&#1086;&#1075;&#1086;&#1103;&#1074;&#1083;&#1077;&#1085;&#1080;&#1103;</li><li>&#1064;&#1091;&#1085;&#1075;&#1089;&#1082;&#1086;&#1081;: &#1043;&#1077;&#1085;&#1074;&#1072;&#1088;&#1103; 6</li><li>&#1050;&#1086;&#1076;&#1080;&#1085;&#1089;&#1082;&#1086;&#1077;: &#1043;&#1077;&#1085;&#1074;&#1072;&#1088;&#1103; 6</li><li>&#1061;&#1072;&#1088;&#1100;&#1082;&#1086;&#1074;: &#1043;&#1077;&#1085;&#1074;&#1072;&#1088;&#1103; 6</li><li>&#1054;&#1083;&#1086;&#1085;&#1077;&#1094;: &#1043;&#1077;&#1085;&#1074;&#1072;&#1088;&#1103; 6</li><li>&#1071;&#1073;&#1083;&#1091;&#1085;&#1086;&#1074;: &#1041;&#1086;&#1075;&#1086;&#1103;&#1074;&#1083;&#1077;&#1085;&#1080;&#1103;</li><li>&#1057;&#1090;&#1072;&#1088;&#1072;&#1103; &#1056;&#1091;&#1079;&#1072;: &#1043;&#1077;&#1085;&#1074;&#1072;&#1088;&#1103; 6</li><li>&#1051;&#1072;&#1082;&#1085;&#1086;&#1074;&#1072;&#1090;&#1100;: &#1043;&#1077;&#1085;&#1074;&#1072;&#1088;&#1103; 6</li><li>&#1059;&#1088;&#1072;&#1083;&#1100;&#1089;&#1082;: &#1043;&#1077;&#1085;&#1074;&#1072;&#1088;&#1077;</li><li>&#1053;&#1077;&#1074;&#1077;&#1083;&#1100;: &#1041;&#1086;&#1075;&#1086;&#1103;&#1074;&#1083;&#1077;&#1085;&#1080;&#1103;</li><li>&#1055;&#1077;&#1088;&#1077;&#1103;&#1089;&#1083;&#1072;&#1074;&#1083;&#1100;: &#1043;&#1077;&#1085;&#1074;&#1072;&#1088;&#1103; 6</li><li>&#1053;&#1086;&#1074;&#1099;&#1077; &#1052;&#1083;&#1080;&#1085;&#1099;: &#1043;&#1077;&#1085;&#1074;&#1072;&#1088;&#1103; 6</li><li>&#1042;&#1077;&#1089;&#1080;&#1077;&#1075;&#1086;&#1085;&#1089;&#1082;: &#1041;&#1086;&#1075;&#1086;&#1103;&#1074;&#1083;&#1077;&#1085;&#1080;&#1103;</li><li>&#1043;&#1072;&#1076;&#1103;&#1095;&#1100;: &#1043;&#1077;&#1085;&#1074;&#1072;&#1088;&#1103; 6</li><li>&#1050;&#1080;&#1090;&#1072;&#1081;&#1089;&#1082;&#1086;&#1081;: &#1041;&#1086;&#1075;&#1086;&#1103;&#1074;&#1083;&#1077;&#1085;&#1080;&#1103;</li><li>&#1044;&#1080;&#1085;&#1072;&#1073;&#1091;&#1088;&#1075;: &#1043;&#1077;&#1085;&#1074;&#1072;&#1088;&#1103; 6</li><li>&#1055;&#1086;&#1083;&#1086;&#1090;&#1089;&#1082;: &#1041;&#1086;&#1075;&#1086;&#1103;&#1074;&#1083;&#1077;&#1085;&#1080;&#1077;</li><li>&#1054;&#1083;&#1100;&#1093;&#1086;&#1074;&#1072;&#1090;&#1082;&#1072;: &#1043;&#1077;&#1085;&#1074;&#1072;&#1088;&#1103; 6</li><li>&#1041;&#1077;&#1083;&#1086;&#1087;&#1086;&#1083;&#1100;&#1077;: &#1043;&#1077;&#1085;&#1074;&#1072;&#1088;&#1103; 6</li><li>&#1047;&#1072;&#1096;&#1080;&#1074;&#1077;&#1088;&#1089;&#1082;: &#1043;&#1077;&#1085;&#1074;&#1072;&#1088;&#1077;</li><li>&#1050;&#1088;&#1080;&#1074;&#1086;&#1085;&#1072;&#1074;&#1086;&#1083;&#1086;&#1094;&#1082;&#1072;&#1103;: &#1043;&#1077;&#1085;&#1074;&#1072;&#1088;&#1103; &#1089; 6</li><li>&#1057;&#1091;&#1076;&#1072;&#1081;: &#1043;&#1077;&#1085;&#1074;&#1072;&#1088;&#1103; 6</li><li>&#1057;&#1091;&#1079;&#1076;&#1072;&#1083;&#1100;: &#1043;&#1077;&#1085;&#1074;&#1072;&#1088;&#1103; 6</li><li>&#1051;&#1077;&#1073;&#1077;&#1076;&#1103;&#1085;&#1100;: &#1041;&#1086;&#1075;&#1086;&#1103;&#1074;&#1083;&#1077;&#1085;&#1080;&#1103;</li><li>&#1044;&#1077;&#1088;&#1087;&#1090;: &#1041;&#1086;&#1075;&#1086;&#1103;&#1074;&#1083;&#1077;&#1085;&#1080;&#1103;</li><li>&#1058;&#1086;&#1088;&#1078;&#1086;&#1082;: &#1043;&#1077;&#1085;&#1074;&#1072;&#1088;&#1103; 6</li><li>&#1042;&#1072;&#1096;&#1082;&#1072;: &#1043;&#1077;&#1085;&#1074;&#1072;&#1088;&#1077;</li><li>&#1048;&#1088;&#1073;&#1080;&#1090;: &#1043;&#1077;&#1085;&#1074;&#1072;&#1088;&#1103; &#1084;&#1077;&#1089;&#1103;&#1094;&#1072;</li><li>&#1058;&#1091;&#1075;&#1083;&#1080;&#1085;&#1089;&#1082;&#1072;&#1103;: &#1043;&#1077;&#1085;&#1074;&#1072;&#1088;&#1103; &#1086;&#1090; 6 &#1087;&#1086; 17</li><li>&#1043;&#1086;&#1083;&#1090;&#1074;&#1072;: &#1043;&#1077;&#1085;&#1074;&#1072;&#1088;&#1103; 6</li></td><td class=\"fri\" id=\"1788-01-18\">18<li>&#1057;&#1077;&#1088;&#1076;&#1086;&#1073;&#1086;&#1083;&#1100;: &#1043;&#1077;&#1085;&#1074;&#1072;&#1088;&#1077;</li><li>&#1057;&#1083;&#1072;&#1074;&#1075;&#1086;&#1088;&#1086;&#1076;&#1082;&#1072;: &#1043;&#1077;&#1085;&#1074;&#1072;&#1088;&#1103; 7</li><li>&#1063;&#1077;&#1088;&#1085;&#1080;&#1075;&#1086;&#1074;: &#1043;&#1077;&#1085;&#1074;&#1072;&#1088;&#1103; &#1089; 7</li><li>&#1059;&#1088;&#1072;&#1083;&#1100;&#1089;&#1082;: &#1043;&#1077;&#1085;&#1074;&#1072;&#1088;&#1077;</li><li>&#1047;&#1091;&#1073;&#1094;&#1086;&#1074;: &#1043;&#1077;&#1085;&#1074;&#1072;&#1088;&#1103; 7</li><li>&#1047;&#1072;&#1096;&#1080;&#1074;&#1077;&#1088;&#1089;&#1082;: &#1043;&#1077;&#1085;&#1074;&#1072;&#1088;&#1077;</li><li>&#1042;&#1072;&#1096;&#1082;&#1072;: &#1043;&#1077;&#1085;&#1074;&#1072;&#1088;&#1077;</li><li>&#1048;&#1088;&#1073;&#1080;&#1090;: &#1043;&#1077;&#1085;&#1074;&#1072;&#1088;&#1103; &#1084;&#1077;&#1089;&#1103;&#1094;&#1072;</li><li>&#1058;&#1091;&#1075;&#1083;&#1080;&#1085;&#1089;&#1082;&#1072;&#1103;: &#1043;&#1077;&#1085;&#1074;&#1072;&#1088;&#1103; &#1086;&#1090; 6 &#1087;&#1086; 17</li></td><td class=\"sat\" id=\"1788-01-19\">19<li>&#1057;&#1077;&#1088;&#1076;&#1086;&#1073;&#1086;&#1083;&#1100;: &#1043;&#1077;&#1085;&#1074;&#1072;&#1088;&#1077;</li><li>&#1063;&#1077;&#1095;&#1077;&#1088;&#1089;&#1082;: &#1043;&#1077;&#1085;&#1074;&#1072;&#1088;&#1103; 8</li><li>&#1059;&#1088;&#1072;&#1083;&#1100;&#1089;&#1082;: &#1043;&#1077;&#1085;&#1074;&#1072;&#1088;&#1077;</li><li>&#1047;&#1072;&#1096;&#1080;&#1074;&#1077;&#1088;&#1089;&#1082;: &#1043;&#1077;&#1085;&#1074;&#1072;&#1088;&#1077;</li><li>&#1042;&#1072;&#1096;&#1082;&#1072;: &#1043;&#1077;&#1085;&#1074;&#1072;&#1088;&#1077;</li><li>&#1048;&#1088;&#1073;&#1080;&#1090;: &#1043;&#1077;&#1085;&#1074;&#1072;&#1088;&#1103; &#1084;&#1077;&#1089;&#1103;&#1094;&#1072;</li><li>&#1058;&#1091;&#1075;&#1083;&#1080;&#1085;&#1089;&#1082;&#1072;&#1103;: &#1043;&#1077;&#1085;&#1074;&#1072;&#1088;&#1103; &#1086;&#1090; 6 &#1087;&#1086; 17</li></td></tr><tr><td class=\"sun\" id=\"1788-01-20\">20<li>&#1057;&#1077;&#1088;&#1076;&#1086;&#1073;&#1086;&#1083;&#1100;: &#1043;&#1077;&#1085;&#1074;&#1072;&#1088;&#1077;</li><li>&#1059;&#1088;&#1072;&#1083;&#1100;&#1089;&#1082;: &#1043;&#1077;&#1085;&#1074;&#1072;&#1088;&#1077;</li><li>&#1047;&#1072;&#1096;&#1080;&#1074;&#1077;&#1088;&#1089;&#1082;: &#1043;&#1077;&#1085;&#1074;&#1072;&#1088;&#1077;</li><li>&#1042;&#1072;&#1096;&#1082;&#1072;: &#1043;&#1077;&#1085;&#1074;&#1072;&#1088;&#1077;</li><li>&#1048;&#1088;&#1073;&#1080;&#1090;: &#1043;&#1077;&#1085;&#1074;&#1072;&#1088;&#1103; &#1084;&#1077;&#1089;&#1103;&#1094;&#1072;</li><li>&#1058;&#1091;&#1075;&#1083;&#1080;&#1085;&#1089;&#1082;&#1072;&#1103;: &#1043;&#1077;&#1085;&#1074;&#1072;&#1088;&#1103; &#1086;&#1090; 6 &#1087;&#1086; 17</li></td><td class=\"mon\" id=\"1788-01-21\">21<li>&#1057;&#1077;&#1088;&#1076;&#1086;&#1073;&#1086;&#1083;&#1100;: &#1043;&#1077;&#1085;&#1074;&#1072;&#1088;&#1077;</li><li>&#1059;&#1088;&#1072;&#1083;&#1100;&#1089;&#1082;: &#1043;&#1077;&#1085;&#1074;&#1072;&#1088;&#1077;</li><li>&#1047;&#1072;&#1096;&#1080;&#1074;&#1077;&#1088;&#1089;&#1082;: &#1043;&#1077;&#1085;&#1074;&#1072;&#1088;&#1077;</li><li>&#1042;&#1072;&#1096;&#1082;&#1072;: &#1043;&#1077;&#1085;&#1074;&#1072;&#1088;&#1077;</li><li>&#1048;&#1088;&#1073;&#1080;&#1090;: &#1043;&#1077;&#1085;&#1074;&#1072;&#1088;&#1103; &#1084;&#1077;&#1089;&#1103;&#1094;&#1072;</li><li>&#1058;&#1091;&#1075;&#1083;&#1080;&#1085;&#1089;&#1082;&#1072;&#1103;: &#1043;&#1077;&#1085;&#1074;&#1072;&#1088;&#1103; &#1086;&#1090; 6 &#1087;&#1086; 17</li></td><td class=\"tue\" id=\"1788-01-22\">22<li>&#1057;&#1077;&#1088;&#1076;&#1086;&#1073;&#1086;&#1083;&#1100;: &#1043;&#1077;&#1085;&#1074;&#1072;&#1088;&#1077;</li><li>&#1059;&#1088;&#1072;&#1083;&#1100;&#1089;&#1082;: &#1043;&#1077;&#1085;&#1074;&#1072;&#1088;&#1077;</li><li>&#1047;&#1072;&#1096;&#1080;&#1074;&#1077;&#1088;&#1089;&#1082;: &#1043;&#1077;&#1085;&#1074;&#1072;&#1088;&#1077;</li><li>&#1063;&#1077;&#1088;&#1077;&#1087;&#1086;&#1074;&#1077;&#1094;: &#1043;&#1077;&#1085;&#1074;&#1072;&#1088;&#1103; 11</li><li>&#1042;&#1072;&#1096;&#1082;&#1072;: &#1043;&#1077;&#1085;&#1074;&#1072;&#1088;&#1077;</li><li>&#1048;&#1088;&#1073;&#1080;&#1090;: &#1043;&#1077;&#1085;&#1074;&#1072;&#1088;&#1103; &#1084;&#1077;&#1089;&#1103;&#1094;&#1072;</li><li>&#1058;&#1091;&#1075;&#1083;&#1080;&#1085;&#1089;&#1082;&#1072;&#1103;: &#1043;&#1077;&#1085;&#1074;&#1072;&#1088;&#1103; &#1086;&#1090; 6 &#1087;&#1086; 17</li></td><td class=\"wed\" id=\"1788-01-23\">23<li>&#1057;&#1077;&#1088;&#1076;&#1086;&#1073;&#1086;&#1083;&#1100;: &#1043;&#1077;&#1085;&#1074;&#1072;&#1088;&#1077;</li><li>&#1059;&#1088;&#1072;&#1083;&#1100;&#1089;&#1082;: &#1043;&#1077;&#1085;&#1074;&#1072;&#1088;&#1077;</li><li>&#1047;&#1072;&#1096;&#1080;&#1074;&#1077;&#1088;&#1089;&#1082;: &#1043;&#1077;&#1085;&#1074;&#1072;&#1088;&#1077;</li><li>&#1042;&#1072;&#1096;&#1082;&#1072;: &#1043;&#1077;&#1085;&#1074;&#1072;&#1088;&#1077;</li><li>&#1048;&#1088;&#1073;&#1080;&#1090;: &#1043;&#1077;&#1085;&#1074;&#1072;&#1088;&#1103; &#1084;&#1077;&#1089;&#1103;&#1094;&#1072;</li><li>&#1058;&#1091;&#1075;&#1083;&#1080;&#1085;&#1089;&#1082;&#1072;&#1103;: &#1043;&#1077;&#1085;&#1074;&#1072;&#1088;&#1103; &#1086;&#1090; 6 &#1087;&#1086; 17</li></td><td class=\"thu\" id=\"1788-01-24\">24<li>&#1057;&#1077;&#1088;&#1076;&#1086;&#1073;&#1086;&#1083;&#1100;: &#1043;&#1077;&#1085;&#1074;&#1072;&#1088;&#1077;</li><li>&#1059;&#1088;&#1072;&#1083;&#1100;&#1089;&#1082;: &#1043;&#1077;&#1085;&#1074;&#1072;&#1088;&#1077;</li><li>&#1047;&#1072;&#1096;&#1080;&#1074;&#1077;&#1088;&#1089;&#1082;: &#1043;&#1077;&#1085;&#1074;&#1072;&#1088;&#1077;</li><li>&#1042;&#1072;&#1096;&#1082;&#1072;: &#1043;&#1077;&#1085;&#1074;&#1072;&#1088;&#1077;</li><li>&#1048;&#1088;&#1073;&#1080;&#1090;: &#1043;&#1077;&#1085;&#1074;&#1072;&#1088;&#1103; &#1084;&#1077;&#1089;&#1103;&#1094;&#1072;</li><li>&#1058;&#1091;&#1075;&#1083;&#1080;&#1085;&#1089;&#1082;&#1072;&#1103;: &#1043;&#1077;&#1085;&#1074;&#1072;&#1088;&#1103; &#1086;&#1090; 6 &#1087;&#1086; 17</li></td><td class=\"fri\" id=\"1788-01-25\">25<li>&#1057;&#1077;&#1088;&#1076;&#1086;&#1073;&#1086;&#1083;&#1100;: &#1043;&#1077;&#1085;&#1074;&#1072;&#1088;&#1077;</li><li>&#1059;&#1088;&#1072;&#1083;&#1100;&#1089;&#1082;: &#1043;&#1077;&#1085;&#1074;&#1072;&#1088;&#1077;</li><li>&#1047;&#1072;&#1096;&#1080;&#1074;&#1077;&#1088;&#1089;&#1082;: &#1043;&#1077;&#1085;&#1074;&#1072;&#1088;&#1077;</li><li>&#1042;&#1072;&#1096;&#1082;&#1072;: &#1043;&#1077;&#1085;&#1074;&#1072;&#1088;&#1077;</li><li>&#1048;&#1088;&#1073;&#1080;&#1090;: &#1043;&#1077;&#1085;&#1074;&#1072;&#1088;&#1103; &#1084;&#1077;&#1089;&#1103;&#1094;&#1072;</li><li>&#1058;&#1091;&#1075;&#1083;&#1080;&#1085;&#1089;&#1082;&#1072;&#1103;: &#1043;&#1077;&#1085;&#1074;&#1072;&#1088;&#1103; &#1086;&#1090; 6 &#1087;&#1086; 17</li></td><td class=\"sat\" id=\"1788-01-26\">26<li>&#1057;&#1077;&#1088;&#1076;&#1086;&#1073;&#1086;&#1083;&#1100;: &#1043;&#1077;&#1085;&#1074;&#1072;&#1088;&#1077;</li><li>&#1059;&#1088;&#1072;&#1083;&#1100;&#1089;&#1082;: &#1043;&#1077;&#1085;&#1074;&#1072;&#1088;&#1077;</li><li>&#1048;&#1088;&#1082;&#1091;&#1090;&#1089;&#1082;: 15 &#1043;&#1077;&#1085;&#1074;&#1072;&#1088;&#1103;</li><li>&#1047;&#1072;&#1096;&#1080;&#1074;&#1077;&#1088;&#1089;&#1082;: &#1043;&#1077;&#1085;&#1074;&#1072;&#1088;&#1077;</li><li>&#1042;&#1072;&#1096;&#1082;&#1072;: &#1043;&#1077;&#1085;&#1074;&#1072;&#1088;&#1077;</li><li>&#1048;&#1088;&#1073;&#1080;&#1090;: &#1043;&#1077;&#1085;&#1074;&#1072;&#1088;&#1103; &#1084;&#1077;&#1089;&#1103;&#1094;&#1072;</li><li>&#1058;&#1091;&#1075;&#1083;&#1080;&#1085;&#1089;&#1082;&#1072;&#1103;: &#1043;&#1077;&#1085;&#1074;&#1072;&#1088;&#1103; &#1086;&#1090; 6 &#1087;&#1086; 17</li></td></tr><tr><td class=\"sun\" id=\"1788-01-27\">27<li>&#1057;&#1077;&#1088;&#1076;&#1086;&#1073;&#1086;&#1083;&#1100;: &#1043;&#1077;&#1085;&#1074;&#1072;&#1088;&#1077;</li><li>&#1059;&#1088;&#1072;&#1083;&#1100;&#1089;&#1082;: &#1043;&#1077;&#1085;&#1074;&#1072;&#1088;&#1077;</li><li>&#1047;&#1072;&#1096;&#1080;&#1074;&#1077;&#1088;&#1089;&#1082;: &#1043;&#1077;&#1085;&#1074;&#1072;&#1088;&#1077;</li><li>&#1042;&#1072;&#1096;&#1082;&#1072;: &#1043;&#1077;&#1085;&#1074;&#1072;&#1088;&#1077;</li><li>&#1048;&#1088;&#1073;&#1080;&#1090;: &#1043;&#1077;&#1085;&#1074;&#1072;&#1088;&#1103; &#1084;&#1077;&#1089;&#1103;&#1094;&#1072;</li><li>&#1058;&#1091;&#1075;&#1083;&#1080;&#1085;&#1089;&#1082;&#1072;&#1103;: &#1043;&#1077;&#1085;&#1074;&#1072;&#1088;&#1103; &#1086;&#1090; 6 &#1087;&#1086; 17</li></td><td class=\"mon\" id=\"1788-01-28\">28<li>&#1057;&#1077;&#1088;&#1076;&#1086;&#1073;&#1086;&#1083;&#1100;: &#1043;&#1077;&#1085;&#1074;&#1072;&#1088;&#1077;</li><li>&#1050;&#1086;&#1084;&#1077;&#1083;&#1100;&#1089;&#1082; &#1050;&#1086;&#1088;&#1085;&#1080;&#1083;&#1080;&#1077;&#1074;: &#1043;&#1077;&#1085;&#1074;&#1072;&#1088;&#1103; 17</li><li>&#1059;&#1088;&#1072;&#1083;&#1100;&#1089;&#1082;: &#1043;&#1077;&#1085;&#1074;&#1072;&#1088;&#1077;</li><li>&#1047;&#1072;&#1096;&#1080;&#1074;&#1077;&#1088;&#1089;&#1082;: &#1043;&#1077;&#1085;&#1074;&#1072;&#1088;&#1077;</li><li>&#1042;&#1072;&#1096;&#1082;&#1072;: &#1043;&#1077;&#1085;&#1074;&#1072;&#1088;&#1077;</li><li>&#1048;&#1088;&#1073;&#1080;&#1090;: &#1043;&#1077;&#1085;&#1074;&#1072;&#1088;&#1103; &#1084;&#1077;&#1089;&#1103;&#1094;&#1072;</li><li>&#1058;&#1091;&#1075;&#1083;&#1080;&#1085;&#1089;&#1082;&#1072;&#1103;: &#1043;&#1077;&#1085;&#1074;&#1072;&#1088;&#1103; &#1086;&#1090; 6 &#1087;&#1086; 17</li></td><td class=\"tue\" id=\"1788-01-29\">29<li>&#1057;&#1077;&#1088;&#1076;&#1086;&#1073;&#1086;&#1083;&#1100;: &#1043;&#1077;&#1085;&#1074;&#1072;&#1088;&#1077;</li><li>&#1059;&#1088;&#1072;&#1083;&#1100;&#1089;&#1082;: &#1043;&#1077;&#1085;&#1074;&#1072;&#1088;&#1077;</li><li>&#1047;&#1072;&#1096;&#1080;&#1074;&#1077;&#1088;&#1089;&#1082;: &#1043;&#1077;&#1085;&#1074;&#1072;&#1088;&#1077;</li><li>&#1052;&#1086;&#1083;&#1086;&#1075;&#1072;: &#1043;&#1077;&#1085;&#1074;&#1072;&#1088;&#1103; 18</li><li>&#1071;&#1088;&#1077;&#1085;&#1089;&#1082;: &#1043;&#1077;&#1085;&#1074;&#1072;&#1088;&#1103; &#1086;&#1090; 18 &#1087;&#1086; 23</li><li>&#1051;&#1072;&#1083;&#1100;&#1089;&#1082;: &#1043;&#1077;&#1085;&#1074;&#1072;&#1088;&#1103; 18</li><li>&#1042;&#1072;&#1096;&#1082;&#1072;: &#1043;&#1077;&#1085;&#1074;&#1072;&#1088;&#1077;</li><li>&#1048;&#1088;&#1073;&#1080;&#1090;: &#1043;&#1077;&#1085;&#1074;&#1072;&#1088;&#1103; &#1084;&#1077;&#1089;&#1103;&#1094;&#1072;</li></td><td class=\"wed\" id=\"1788-01-30\">30<li>&#1057;&#1077;&#1088;&#1076;&#1086;&#1073;&#1086;&#1083;&#1100;: &#1043;&#1077;&#1085;&#1074;&#1072;&#1088;&#1077;</li><li>&#1059;&#1088;&#1072;&#1083;&#1100;&#1089;&#1082;: &#1043;&#1077;&#1085;&#1074;&#1072;&#1088;&#1077;</li><li>&#1051;&#1080;&#1087;&#1086;&#1074;&#1089;&#1082;&#1086;&#1077;: &#1043;&#1077;&#1085;&#1074;&#1072;&#1088;&#1103; 19</li><li>&#1052;&#1072;&#1082;&#1072;&#1088;&#1100;&#1077;&#1074;: &#1043;&#1077;&#1085;&#1074;&#1072;&#1088;&#1103; &#1085;&#1072; 19</li><li>&#1047;&#1072;&#1096;&#1080;&#1074;&#1077;&#1088;&#1089;&#1082;: &#1043;&#1077;&#1085;&#1074;&#1072;&#1088;&#1077;</li><li>&#1071;&#1088;&#1077;&#1085;&#1089;&#1082;: &#1043;&#1077;&#1085;&#1074;&#1072;&#1088;&#1103; &#1086;&#1090; 18 &#1087;&#1086; 23</li><li>&#1042;&#1072;&#1096;&#1082;&#1072;: &#1043;&#1077;&#1085;&#1074;&#1072;&#1088;&#1077;</li><li>&#1048;&#1088;&#1073;&#1080;&#1090;: &#1043;&#1077;&#1085;&#1074;&#1072;&#1088;&#1103; &#1084;&#1077;&#1089;&#1103;&#1094;&#1072;</li></td><td class=\"thu\" id=\"1788-01-31\">31<li>&#1057;&#1077;&#1088;&#1076;&#1086;&#1073;&#1086;&#1083;&#1100;: &#1043;&#1077;&#1085;&#1074;&#1072;&#1088;&#1077;</li><li>&#1059;&#1088;&#1072;&#1083;&#1100;&#1089;&#1082;: &#1043;&#1077;&#1085;&#1074;&#1072;&#1088;&#1077;</li><li>&#1047;&#1072;&#1096;&#1080;&#1074;&#1077;&#1088;&#1089;&#1082;: &#1043;&#1077;&#1085;&#1074;&#1072;&#1088;&#1077;</li><li>&#1071;&#1088;&#1077;&#1085;&#1089;&#1082;: &#1043;&#1077;&#1085;&#1074;&#1072;&#1088;&#1103; &#1086;&#1090; 18 &#1087;&#1086; 23</li><li>&#1042;&#1072;&#1096;&#1082;&#1072;: &#1043;&#1077;&#1085;&#1074;&#1072;&#1088;&#1077;</li><li>&#1048;&#1088;&#1073;&#1080;&#1090;: &#1043;&#1077;&#1085;&#1074;&#1072;&#1088;&#1103; &#1084;&#1077;&#1089;&#1103;&#1094;&#1072;</li></td><td class=\"noday\">&#160;</td><td class=\"noday\">&#160;</td></tr></table>'"
      ],
      "text/plain": [
       "<IPython.core.display.HTML object>"
      ]
     },
     "execution_count": 169,
     "metadata": {},
     "output_type": "execute_result"
    }
   ],
   "source": [
    "HTML(str(html.tostring(year[0]).replace(b\"\\n\",b\"\")))"
   ]
  },
  {
   "cell_type": "code",
   "execution_count": 170,
   "metadata": {
    "collapsed": false
   },
   "outputs": [],
   "source": [
    "with open(\"../fair_calendar.html\",\"w+\",encoding='utf-8') as fp:\n",
    "    for m in year:\n",
    "        fp.write(html.tostring(m).decode('utf-8'))"
   ]
  },
  {
   "cell_type": "code",
   "execution_count": 171,
   "metadata": {
    "collapsed": false
   },
   "outputs": [],
   "source": [
    "with open(\"../output/enhanced_dataset.geojson\",\"r\",encoding='utf-8') as fp:\n",
    "    geodb = json.load(fp)"
   ]
  },
  {
   "cell_type": "code",
   "execution_count": 172,
   "metadata": {
    "collapsed": false
   },
   "outputs": [
    {
     "name": "stdout",
     "output_type": "stream",
     "text": [
      "Воронеж\t39.210556\t51.671667\t1788-09-09\t1788-09-09\t29 день Августа\tFalse\n",
      "Воронеж\t39.210556\t51.671667\t1788-07-04\t1788-07-04\tдесятой пятнице\tTrue\n",
      "Пошехонь\t39.13531\t58.49928\t1788-09-12\t1788-10-11\tСентябре\tFalse\n",
      "Пошехонь\t39.13531\t58.49928\t1788-05-19\t1788-05-19\tИоанна Богослова\tFalse\n",
      "Пошехонь\t39.13531\t58.49928\t1788-06-22\t1788-06-22\tТроицы\tTrue\n",
      "Остапье\t33.76977\t49.54487\t1788-02-10\t1788-02-10\tГенваря 30\tFalse\n",
      "Остапье\t33.76977\t49.54487\t1788-05-02\t1788-05-02\tАпреля 21\tFalse\n",
      "Остапье\t33.76977\t49.54487\t1788-07-05\t1788-07-05\tИюня 24\tFalse\n",
      "Остапье\t33.76977\t49.54487\t1788-10-01\t1788-10-01\tСентября 20\tFalse\n",
      "Углич\t38.33167\t57.5275\t1788-07-19\t1788-07-19\tИюля 8\tFalse\n",
      "Углич\t38.33167\t57.5275\t1788-01-06\t1788-01-06\tДекабря 26\tFalse\n",
      "Вышгород\t29.62476\t57.48135\t1788-07-05\t1788-07-05\tИоанна Предтечи\tFalse\n",
      "Вышгород\t29.62476\t57.48135\t1788-08-04\t1788-08-04\tБориса и Глеба\tFalse\n",
      "Сердоболь\t30.67434\t61.69459\t1788-01-12\t1788-02-11\tГенваре\tFalse\n",
      "Гремячев\t38.6607\t54.13149\t1788-06-23\t1788-06-23\tпервый день Петрова поста\tTrue\n",
      "Гремячев\t38.6607\t54.13149\t1788-05-21\t1788-05-21\tПреполовения\tTrue\n",
      "Таруса\t37.17272\t54.72436\t1788-07-10\t1788-07-10\tПетра и Павла\tFalse\n",
      "Кирсанов\t42.72236\t52.65494\t1788-07-31\t1788-07-31\tИюля 20\tFalse\n",
      "Кирсанов\t42.72236\t52.65494\t1788-06-23\t1788-06-23\tпервой день Петрова поста\tTrue\n",
      "Пенза\t45.00464\t53.20066\t1788-06-19\t1788-06-19\tПасхе на седьмой неделе в четверг\tTrue\n",
      "Пенза\t45.00464\t53.20066\t1788-07-10\t1788-07-10\tПетра и Павла\tFalse\n",
      "Чернигов\t31.28488\t51.50551\t1788-07-19\t1788-07-19\tИюля с 8\tFalse\n",
      "Чернигов\t31.28488\t51.50551\t1788-10-01\t1788-10-01\tСентября с 20\tFalse\n",
      "Чернигов\t31.28488\t51.50551\t1788-01-18\t1788-01-18\tГенваря с 7\tFalse\n",
      "Чернигов\t31.28488\t51.50551\t1788-07-04\t1788-07-04\tдесятую пятницу\tTrue\n",
      "Чернухи\t32.94196\t50.26732\t1788-08-26\t1788-08-26\tАвгуста 15\tFalse\n",
      "Чернухи\t32.94196\t50.26732\t1788-12-17\t1788-12-17\tДекабря 6\tFalse\n",
      "Чернухи\t32.94196\t50.26732\t1788-04-07\t1788-04-13\tпятой неделе\tTrue\n",
      "Чернухи\t32.94196\t50.26732\t1788-06-22\t1788-06-22\tТроицы\tTrue\n",
      "Касимов\t41.39528\t54.94111\t1788-07-19\t1788-07-19\tИюля 8\tFalse\n",
      "Мангазея\t87.95006\t65.79479\t1788-06-12\t1788-07-11\tИюне\tFalse\n",
      "Мангазея\t87.95006\t65.79479\t1788-07-12\t1788-08-11\tИюле\tFalse\n",
      "Донков\t39.15553\t53.25155\t1788-07-18\t1788-07-18\tпятницу второй надесять недели по Пасхе\tTrue\n",
      "Себеж\t28.46538\t56.29546\t1788-08-12\t1788-08-12\tАвгуста 1\tFalse\n",
      "Себеж\t28.46538\t56.29546\t1788-05-04\t1788-05-04\tАпреля 23\tFalse\n",
      "Себеж\t28.46538\t56.29546\t1788-01-17\t1788-01-17\tБогоявления\tFalse\n",
      "Себеж\t28.46538\t56.29546\t1788-03-10\t1788-03-16\tпервую неделю\tTrue\n",
      "Короп\t32.95861\t51.56638\t1788-10-01\t1788-10-01\tСентября 20\tFalse\n",
      "Короп\t32.95861\t51.56638\t1788-06-15\t1788-06-15\tСошествии Святого Духа\tTrue\n",
      "Короп\t32.95861\t51.56638\t1788-02-17\t1788-02-23\tМытаря и Фарисея\tTrue\n",
      "Раменье\t37.21667\t56.56667\t1788-09-29\t1788-09-29\t18 Сентября\tFalse\n",
      "Раменье\t37.21667\t56.56667\t1788-07-05\t1788-07-05\tИюня 24\tFalse\n",
      "Боромдя\t34.97042\t50.61838\t1788-07-10\t1788-07-10\tИюня 29\tFalse\n",
      "Боромдя\t34.97042\t50.61838\t1788-09-12\t1788-09-12\tСентября 1\tFalse\n",
      "Боромдя\t34.97042\t50.61838\t1788-12-17\t1788-12-17\tДекабря 6\tFalse\n",
      "Боромдя\t34.97042\t50.61838\t1788-05-04\t1788-05-10\tФоминой неделе\tTrue\n",
      "Тамбов\t41.433333\t52.716667\t1788-07-19\t1788-07-19\t8 Июля\tFalse\n",
      "Тамбов\t41.433333\t52.716667\t1788-07-04\t1788-07-04\tдесятой пятнице\tTrue\n",
      "Боровск\t36.48611\t55.20639\t1788-09-19\t1788-09-19\t8 числа Сентября\tFalse\n",
      "Боровск\t36.48611\t55.20639\t1788-07-04\t1788-07-04\tдесятую пятницу\tTrue\n",
      "Рыльск\t34.6822\t51.5655\t1788-07-19\t1788-07-19\tИюля 8\tFalse\n",
      "Рыльск\t34.6822\t51.5655\t1788-07-04\t1788-07-04\tдесятую пятницу\tTrue\n",
      "Мосальск\t34.98167\t54.48806\t1788-05-04\t1788-05-04\tАпреля 23\tFalse\n",
      "Мосальск\t34.98167\t54.48806\t1788-07-19\t1788-07-19\tИюля 8\tFalse\n",
      "Мосальск\t34.98167\t54.48806\t1788-12-07\t1788-12-07\tНоября 26\tFalse\n",
      "Врев\t28.84938\t57.20557\t1788-12-17\t1788-12-17\tНиколая\tFalse\n",
      "Быков\t31.67231\t50.6006\t1788-08-12\t1788-08-12\tАвгуста 1\tFalse\n",
      "Быков\t31.67231\t50.6006\t1788-10-25\t1788-10-25\tОктября 14\tFalse\n",
      "Быков\t31.67231\t50.6006\t1788-12-04\t1788-12-04\tНоября 23\tFalse\n",
      "Быков\t31.67231\t50.6006\t1788-05-21\t1788-05-21\tПреполовения\tTrue\n",
      "Сумы\t34.80029\t50.9216\t1788-12-02\t1788-12-02\t21 Ноября\tFalse\n",
      "Сумы\t34.80029\t50.9216\t1788-12-17\t1788-12-17\tДекабря по 6\tFalse\n",
      "Сумы\t34.80029\t50.9216\t1788-08-26\t1788-08-26\tуспения\tFalse\n",
      "Сумы\t34.80029\t50.9216\t1788-06-15\t1788-06-21\tТроицкой неделе\tTrue\n",
      "Погарь\t33.25907\t52.55399\t1788-08-26\t1788-08-26\t15 Августа\tFalse\n",
      "Погарь\t33.25907\t52.55399\t1788-12-17\t1788-12-17\tпервая и вторая Никольския\tFalse\n",
      "Погарь\t33.25907\t52.55399\t1788-05-20\t1788-05-20\tпервая и вторая Никольския\tFalse\n",
      "Лубны\t32.99694\t50.01625\t1788-08-17\t1788-08-17\tПреображения\tFalse\n",
      "Лубны\t32.99694\t50.01625\t1788-03-03\t1788-03-09\tмаслянице\tTrue\n",
      "Лубны\t32.99694\t50.01625\t1788-06-22\t1788-06-22\tТройцын\tTrue\n",
      "Лубны\t32.99694\t50.01625\t1788-10-12\t1788-10-12\tПокрова\tFalse\n",
      "Вилюйское Верхнее\t121.63339\t63.74683\t1788-09-12\t1788-10-11\tСентябре\tFalse\n",
      "Вилюйское Верхнее\t121.63339\t63.74683\t1788-10-12\t1788-11-11\tОктябре\tFalse\n",
      "Вилюйское Верхнее\t121.63339\t63.74683\t1788-11-12\t1788-12-11\tНоябре\tFalse\n",
      "Рязань\t39.6916\t54.6269\t1788-07-13\t1788-07-13\tИюля 2\tFalse\n",
      "Рязань\t39.6916\t54.6269\t1788-09-09\t1788-09-09\tАвгуста 29\tFalse\n",
      "Лютенка\t34.0367\t50.21084\t1788-11-12\t1788-11-12\t1 Ноября\tFalse\n",
      "Лютенка\t34.0367\t50.21084\t1788-07-31\t1788-07-31\tИюля 20\tFalse\n",
      "Лютенка\t34.0367\t50.21084\t1788-05-21\t1788-05-21\tПреполовения\tTrue\n",
      "Белгород\t36.58015\t50.61074\t1788-08-26\t1788-08-26\tУспения\tFalse\n",
      "Белгород\t36.58015\t50.61074\t1788-07-10\t1788-07-10\tПетра и Павла\tFalse\n",
      "Белгород\t36.58015\t50.61074\t1788-07-04\t1788-07-04\tдесятую пятницу\tTrue\n",
      "Чечерск\t30.9179\t52.9164\t1788-01-19\t1788-01-19\tГенваря 8\tFalse\n",
      "Чечерск\t30.9179\t52.9164\t1788-09-19\t1788-09-19\tСентября 8\tFalse\n",
      "Чечерск\t30.9179\t52.9164\t1788-06-05\t1788-06-05\tВознесения\tTrue\n",
      "Бежецк\t36.69651\t57.78506\t1788-07-16\t1788-07-16\t5 Июля\tFalse\n",
      "Коротояк\t39.17677\t50.98665\t1788-07-19\t1788-07-19\tИюля 8\tFalse\n",
      "Ункосова\t41.55542\t54.24896\t1788-07-11\t1788-07-11\tодинадцатой неделе по Пасхе в пятницу\tTrue\n",
      "Парское\t41.71092\t57.01225\t1788-09-09\t1788-09-09\tАвгуста 29\tFalse\n",
      "Белая Колпь\t35.66459\t56.09183\t1788-08-30\t1788-08-30\tАвгуста 19\tFalse\n",
      "Хорол\t33.27833\t49.78367\t1788-05-20\t1788-05-20\tМая 9\tFalse\n",
      "Хорол\t33.27833\t49.78367\t1788-08-26\t1788-08-26\tАвгуста 15\tFalse\n",
      "Хорол\t33.27833\t49.78367\t1788-07-10\t1788-07-10\tИюня 29\tFalse\n",
      "Хорол\t33.27833\t49.78367\t1788-12-02\t1788-12-02\tНоября 21\tFalse\n",
      "Середина Буда\t34.03639\t52.18903\t1788-09-19\t1788-09-19\t8 Сентября\tFalse\n",
      "Ямская\t43.57015\t54.58449\t1788-06-27\t1788-06-27\tдевятую пятницу\tTrue\n",
      "Пудога\t36.5277\t61.80415\t1788-12-17\t1788-12-17\tДекабря 6\tFalse\n",
      "Золотоноша\t32.04047\t49.66832\t1788-12-17\t1788-12-17\tДекабря 6\tFalse\n",
      "Золотоноша\t32.04047\t49.66832\t1788-09-19\t1788-09-19\tРождества Богородицы\tFalse\n",
      "Золотоноша\t32.04047\t49.66832\t1788-06-15\t1788-06-15\tСошествия Святого Духа\tTrue\n",
      "Золотоноша\t32.04047\t49.66832\t1788-05-04\t1788-05-10\tФомину неделю\tTrue\n",
      "Корсунь\t46.9827\t54.19941\t1788-06-23\t1788-06-29\tпервой недели Петрова поста\tTrue\n",
      "Корсунь\t46.9827\t54.19941\t1788-06-22\t1788-06-22\tТроицкая\tTrue\n",
      "Тула\t37.61822\t54.19609\t1788-06-19\t1788-06-19\tИюня 8\tFalse\n",
      "Тула\t37.61822\t54.19609\t1788-10-12\t1788-10-12\tПокрова\tFalse\n",
      "Спаск\t43.013525\t54.06635\t1788-07-04\t1788-07-04\tдесятую пятницу\tTrue\n",
      "Вытегра\t36.44811\t61.00636\t1788-05-20\t1788-05-20\t9 Мая\tFalse\n",
      "Вытегра\t36.44811\t61.00636\t1788-02-13\t1788-02-13\tФевраля 2\tFalse\n",
      "Вытегра\t36.44811\t61.00636\t1788-08-27\t1788-08-27\tАвгуста 16\tFalse\n",
      "Вытегра\t36.44811\t61.00636\t1788-10-12\t1788-10-12\tОктября 1\tFalse\n",
      "Серпухов\t37.41114\t54.91578\t1788-09-26\t1788-09-26\tСентября  15\tFalse\n",
      "Серпухов\t37.41114\t54.91578\t1788-07-04\t1788-07-04\tдесятой пятнице\tTrue\n",
      "Грязное\t39.1179\t54.0418\t1788-07-19\t1788-07-19\tИюля 8\tFalse\n",
      "Кароча\t37.18598\t50.8132\t1788-07-19\t1788-07-19\tИюля 8\tFalse\n",
      "Кароча\t37.18598\t50.8132\t1788-09-19\t1788-09-19\tРождества Богородицы\tFalse\n",
      "Кароча\t37.18598\t50.8132\t1788-01-12\t1788-01-12\tНовой год\tFalse\n",
      "Кароча\t37.18598\t50.8132\t1788-12-17\t1788-12-17\tНиколин|Николин\tFalse\n",
      "Шешкеев\t44.75599\t54.19005\t1788-06-04\t1788-06-04\tМая 24\tFalse\n",
      "Звенигород\t36.85918\t55.73402\t1788-07-04\t1788-07-04\tдесятой пятнице\tTrue\n",
      "Кинешма\t42.12894\t57.43914\t1788-09-25\t1788-09-25\tСентября с 14\tFalse\n",
      "Бронницы\t38.26188\t55.42112\t1788-09-17\t1788-09-17\tСентября 6\tFalse\n",
      "Переславль Залеской\t38.85626\t56.73934\t1788-07-04\t1788-07-04\t23 Июня\tFalse\n",
      "Жиганск\t123.37418\t66.76601\t1788-08-12\t1788-09-11\tАвгусте\tFalse\n",
      "Жиганск\t123.37418\t66.76601\t1788-09-12\t1788-10-11\tСентябре\tFalse\n",
      "Жиганск\t123.37418\t66.76601\t1788-10-12\t1788-11-11\tОктябре\tFalse\n",
      "Жиганск\t123.37418\t66.76601\t1788-11-12\t1788-12-11\tНоябре\tFalse\n",
      "Путивль\t33.87066\t51.33745\t1788-07-04\t1788-07-04\tдесятую пятницу\tTrue\n",
      "Малой Ярославец\t36.47185\t55.01457\t1788-05-04\t1788-05-04\tАпреля 23\tFalse\n",
      "Малой Ярославец\t36.47185\t55.01457\t1788-05-20\t1788-05-20\tМая 9\tFalse\n",
      "Малой Ярославец\t36.47185\t55.01457\t1788-12-07\t1788-12-07\tНоября 26\tFalse\n",
      "Малой Ярославец\t36.47185\t55.01457\t1788-12-17\t1788-12-17\tДекабря 6\tFalse\n",
      "Малой Ярославец\t36.47185\t55.01457\t1788-07-04\t1788-07-04\tдесятую пятницу\tTrue\n",
      "Старая Рязань\t40.4287\t54.4062\t1788-07-10\t1788-07-10\tИюня 29\tFalse\n",
      "Мглин\t32.84753\t53.05907\t1788-08-20\t1788-08-20\tАвгуста 9\tFalse\n",
      "Мглин\t32.84753\t53.05907\t1788-03-24\t1788-03-30\tтретией неделе\tTrue\n",
      "Мглин\t32.84753\t53.05907\t1788-06-15\t1788-06-15\tСошествия Святого Духа\tTrue\n",
      "Суджа\t35.2726\t51.1976\t1788-05-04\t1788-05-04\tАпреля 23\tFalse\n",
      "Суджа\t35.2726\t51.1976\t1788-07-10\t1788-07-10\tИюня 29\tFalse\n",
      "Суджа\t35.2726\t51.1976\t1788-10-12\t1788-10-12\tОктября 1\tFalse\n",
      "Суджа\t35.2726\t51.1976\t1788-02-17\t1788-02-23\tвсеедной неделе\tTrue\n",
      "Троицкая\t44.0139\t62.3598\t1788-01-12\t1788-01-12\tГенваря 1\tFalse\n",
      "Троицкая\t44.0139\t62.3598\t1788-03-28\t1788-03-28\tМарта 17\tFalse\n",
      "Троицкая\t44.0139\t62.3598\t1788-06-22\t1788-06-22\tТРОИЦКАЯ\tTrue\n",
      "Комельск Корнилиев\t40.25000\t58.88333\t1788-01-28\t1788-01-28\tГенваря 17\tFalse\n",
      "Комельск Корнилиев\t40.25000\t58.88333\t1788-12-02\t1788-12-02\tВведения Пресвятые Богородицы\tFalse\n",
      "Ахтырка\t34.89879\t50.31036\t1788-05-20\t1788-05-20\tМая 9\tFalse\n",
      "Ахтырка\t34.89879\t50.31036\t1788-11-08\t1788-11-08\tОктября 28\tFalse\n",
      "Ахтырка\t34.89879\t50.31036\t1788-02-17\t1788-02-23\tвсеедной неделе\tTrue\n",
      "Пирятин\t32.50621\t50.24242\t1788-06-05\t1788-06-05\tВознесения\tTrue\n",
      "Пирятин\t32.50621\t50.24242\t1788-09-19\t1788-09-19\tРождества Богородицы\tFalse\n",
      "Пирятин\t32.50621\t50.24242\t1788-10-25\t1788-10-25\tПараскевы\tFalse\n",
      "Пирятин\t32.50621\t50.24242\t1788-03-30\t1788-03-30\tсередопостия\tTrue\n",
      "Куреньки\t32.74462\t50.21186\t1788-02-13\t1788-02-13\tФевраля 2\tFalse\n",
      "Куреньки\t32.74462\t50.21186\t1788-07-10\t1788-07-10\tИюня 29\tFalse\n",
      "Куреньки\t32.74462\t50.21186\t1788-11-06\t1788-11-06\tОктября 26\tFalse\n",
      "Пупки\t41.35\t56.96667\t1788-05-20\t1788-05-20\tМая месяца в 9\tFalse\n",
      "Харьков\t36.25272\t49.98081\t1788-08-26\t1788-08-26\tАвгуста 15\tFalse\n",
      "Харьков\t36.25272\t49.98081\t1788-10-12\t1788-10-12\tОктября 1\tFalse\n",
      "Харьков\t36.25272\t49.98081\t1788-01-17\t1788-01-17\tГенваря 6\tFalse\n",
      "Харьков\t36.25272\t49.98081\t1788-06-15\t1788-06-15\tСошествия Святого Духа\tTrue\n",
      "Олонец\t32.96976\t60.98475\t1788-01-17\t1788-01-17\tГенваря 6\tFalse\n",
      "Олонец\t32.96976\t60.98475\t1788-09-19\t1788-09-19\tСентября 8\tFalse\n",
      "Духовщина\t32.4111\t55.1919\t1788-08-26\t1788-08-26\tАвгуста 15\tFalse\n",
      "Духовщина\t32.4111\t55.1919\t1788-03-10\t1788-03-16\tпервой неделе\tTrue\n",
      "Смелое\t33.58499\t50.92601\t1788-01-12\t1788-01-12\tГенваря 1\tFalse\n",
      "Смелое\t33.58499\t50.92601\t1788-05-20\t1788-05-20\tМая 9\tFalse\n",
      "Смелое\t33.58499\t50.92601\t1788-07-19\t1788-07-19\tИюля 8\tFalse\n",
      "Смелое\t33.58499\t50.92601\t1788-10-25\t1788-10-25\tОктября 14\tFalse\n",
      "Крестцы\t32.51647\t58.2452\t1788-09-26\t1788-09-26\tСентября 15\tFalse\n",
      "Сызрань\t48.4681\t53.1585\t1788-07-19\t1788-07-19\tИюля в 8\tFalse\n",
      "Конотоп\t33.20263\t51.24032\t1788-08-26\t1788-08-26\tАвгуста 15\tFalse\n",
      "Конотоп\t33.20263\t51.24032\t1788-09-19\t1788-09-19\tСентября 8\tFalse\n",
      "Конотоп\t33.20263\t51.24032\t1788-12-02\t1788-12-02\tНоября 21\tFalse\n",
      "Хвалынск\t48.1058\t52.4906\t1788-07-09\t1788-07-09\tИюня 28\tFalse\n",
      "Рига\t24.10589\t56.946\t1788-07-01\t1788-07-21\tИюня с 20 Июля по 10\tFalse\n",
      "Рига\t24.10589\t56.946\t1788-07-31\t1788-07-31\t20 Июля\tFalse\n",
      "Миротино\t37.70476\t54.63291\t1788-07-31\t1788-07-31\tИюля 20\tFalse\n",
      "Кочелаево\t44.04707\t54.01948\t1788-07-04\t1788-07-04\tдесятую пятницу\tTrue\n",
      "Троицкое\t36.71667\t56.2\t1788-06-22\t1788-06-22\tТроицы\tTrue\n",
      "Глинск\t33.3198\t50.61868\t1788-09-12\t1788-09-12\tСентября 1\tFalse\n",
      "Глинск\t33.3198\t50.61868\t1788-06-15\t1788-06-21\tнеделю Пятидесятницы\tTrue\n",
      "Мирополье\t35.26233\t51.023\t1788-09-12\t1788-09-12\tСентября 1\tFalse\n",
      "Мирополье\t35.26233\t51.023\t1788-06-15\t1788-06-21\tседьмой неделе по Пасхе\tTrue\n",
      "Мирополье\t35.26233\t51.023\t1788-04-07\t1788-04-13\tпятой неделе\tTrue\n",
      "Ямполь\t37.95634\t48.93555\t1788-05-20\t1788-05-20\tМая 9\tFalse\n",
      "Ямполь\t37.95634\t48.93555\t1788-11-12\t1788-11-12\tНоября 1\tFalse\n",
      "Ямполь\t37.95634\t48.93555\t1788-12-17\t1788-12-17\tДекабря 6\tFalse\n",
      "Сенкова\t35.1886\t49.88974\t1788-05-20\t1788-05-20\tМая 9\tFalse\n",
      "Сенкова\t35.1886\t49.88974\t1788-09-09\t1788-09-09\tАвгуста 29\tFalse\n",
      "Сенкова\t35.1886\t49.88974\t1788-12-17\t1788-12-17\tНиколая\tFalse\n",
      "Крапивна\t37.15744\t53.94234\t1788-07-12\t1788-07-12\tИюля 1\tFalse\n",
      "Крапивна\t37.15744\t53.94234\t1788-06-15\t1788-06-15\tСошествия Святого Духа\tTrue\n",
      "Ямполь\t33.78759\t51.94765\t1788-10-12\t1788-10-12\tОктября 1\tFalse\n",
      "Ямполь\t33.78759\t51.94765\t1788-05-04\t1788-05-04\tАпреля 23\tFalse\n",
      "Жиздра\t34.73951\t53.74596\t1788-10-06\t1788-10-06\t25 Сентября\tFalse\n",
      "Камышня\t33.68269\t50.18359\t1788-11-06\t1788-11-06\t26 Октября\tFalse\n",
      "Камышня\t33.68269\t50.18359\t1788-04-20\t1788-04-20\tнеделю Ваий\tTrue\n",
      "Камышня\t33.68269\t50.18359\t1788-07-04\t1788-07-04\tдесятую после Светлого Воскресения пятницу\tTrue\n",
      "Темников\t43.21483\t54.63023\t1788-07-04\t1788-07-04\tдесятую пятницу\tTrue\n",
      "Устюг Великий\t46.31352\t60.76186\t1788-07-19\t1788-07-19\tИюля 8\tFalse\n",
      "Старая Руза\t31.36081\t57.99439\t1788-01-17\t1788-01-17\tГенваря 6\tFalse\n",
      "Старая Руза\t31.36081\t57.99439\t1788-07-10\t1788-07-10\tПетра и Павла\tFalse\n",
      "Старая Руза\t31.36081\t57.99439\t1788-10-12\t1788-10-12\tПокрова\tFalse\n",
      "Гритчино\t38.10556\t54.60417\t1788-06-15\t1788-06-15\tСошествия Святого Духа\tTrue\n",
      "Понорница\t32.85255\t51.72622\t1788-05-04\t1788-05-04\tАпреля 23\tFalse\n",
      "Понорница\t32.85255\t51.72622\t1788-09-19\t1788-09-19\tСентября 8\tFalse\n",
      "Ярославль\t39.87368\t57.62987\t1788-03-16\t1788-03-16\tМарта в 5\tFalse\n",
      "Городня\t31.59741\t51.89085\t1788-07-10\t1788-07-10\tИюня 29\tFalse\n",
      "Городня\t31.59741\t51.89085\t1788-10-25\t1788-10-25\tОктября 14\tFalse\n",
      "Красной Колядин\t33.03553\t50.94677\t1788-09-25\t1788-09-25\tСентября 14\tFalse\n",
      "Красной Колядин\t33.03553\t50.94677\t1788-12-17\t1788-12-17\tДекабря 6\tFalse\n",
      "Красной Колядин\t33.03553\t50.94677\t1788-06-15\t1788-06-15\tСошествия Святого Духа\tTrue\n",
      "Недригайлов\t33.87626\t50.83398\t1788-09-19\t1788-09-19\tСентября 8\tFalse\n",
      "Недригайлов\t33.87626\t50.83398\t1788-11-09\t1788-11-09\tОктября 29\tFalse\n",
      "Недригайлов\t33.87626\t50.83398\t1788-12-17\t1788-12-17\tДекабря 6\tFalse\n",
      "Недригайлов\t33.87626\t50.83398\t1788-05-21\t1788-05-21\tПреполовения\tTrue\n",
      "Старинское\t45.69645\t55.60512\t1788-07-19\t1788-07-19\tИюля 8\tFalse\n",
      "Константиново\t33.7971\t50.85126\t1788-08-26\t1788-08-26\tУспения\tFalse\n",
      "Константиново\t33.7971\t50.85126\t1788-06-15\t1788-06-15\tСошествия Святого Духа\tTrue\n",
      "Валки\t35.61223\t49.83597\t1788-02-13\t1788-02-13\tФевраля 2\tFalse\n",
      "Валки\t35.61223\t49.83597\t1788-05-20\t1788-05-20\tМая 9\tFalse\n",
      "Валки\t35.61223\t49.83597\t1788-08-07\t1788-08-07\tИюля 27\tFalse\n",
      "Валки\t35.61223\t49.83597\t1788-09-25\t1788-09-25\tСентября 14\tFalse\n",
      "Валки\t35.61223\t49.83597\t1788-12-17\t1788-12-17\tДекабря 6\tFalse\n",
      "Чухлома\t42.68318\t58.75375\t1788-12-15\t1788-12-15\t4 Декабря\tFalse\n",
      "Чухлома\t42.68318\t58.75375\t1788-10-12\t1788-10-12\tОктября в 1\tFalse\n",
      "Чухлома\t42.68318\t58.75375\t1788-06-05\t1788-06-05\tВознесении\tTrue\n",
      "Чухлома\t42.68318\t58.75375\t1788-06-27\t1788-06-27\tдевятую пятницу\tTrue\n",
      "Чухлома\t42.68318\t58.75375\t1788-03-16\t1788-03-16\tпервое Воскресение\tTrue\n",
      "Усмань\t39.7288\t52.04662\t1788-07-04\t1788-07-04\tдесятой пятнице\tTrue\n",
      "Муриково\t35.37\t55.99461\t1788-10-06\t1788-10-06\tСентября 25\tFalse\n",
      "Романов\t39.5406\t57.88529\t1788-10-07\t1788-10-07\tСентября 26\tFalse\n",
      "Романов\t39.5406\t57.88529\t1788-05-19\t1788-05-19\tИоанна Богослова\tFalse\n",
      "Романов\t39.5406\t57.88529\t1788-06-22\t1788-06-22\tТроицы\tTrue\n",
      "Кунгур\t56.9593\t57.4368\t1788-01-15\t1788-01-15\tГенваря 4\tFalse\n",
      "Кунгур\t56.9593\t57.4368\t1788-11-08\t1788-11-08\tОктября 28\tFalse\n",
      "Кунгур\t56.9593\t57.4368\t1788-06-27\t1788-06-27\tдевятую пятницу\tTrue\n",
      "Верея\t36.17194\t55.34472\t1788-07-04\t1788-07-04\tИюня 23\tFalse\n",
      "Уральск\t51.36667\t51.23333\t1788-06-12\t1788-07-11\tИюне\tFalse\n",
      "Уральск\t51.36667\t51.23333\t1788-07-12\t1788-08-11\tИюле\tFalse\n",
      "Уральск\t51.36667\t51.23333\t1788-09-12\t1788-10-11\tСентябре\tFalse\n",
      "Уральск\t51.36667\t51.23333\t1788-10-12\t1788-11-11\tОктябре\tFalse\n",
      "Уральск\t51.36667\t51.23333\t1788-01-12\t1788-02-11\tГенваре\tFalse\n",
      "Уральск\t51.36667\t51.23333\t1788-02-12\t1788-03-11\tФеврале\tFalse\n",
      "Наспищи\t37.39369\t54.68937\t1788-05-13\t1788-05-13\tМая 2\tFalse\n",
      "Наспищи\t37.39369\t54.68937\t1788-08-04\t1788-08-04\tИюля 24\tFalse\n",
      "Скопин\t39.55053\t53.82486\t1788-04-27\t1788-05-03\tСветлой недели\tTrue\n",
      "Лохвица\t33.26024\t50.36776\t1788-10-01\t1788-10-01\tВеликомученика Евстафия\tFalse\n",
      "Лохвица\t33.26024\t50.36776\t1788-07-19\t1788-07-19\tВеликомученика Прокопия\tFalse\n",
      "Лохвица\t33.26024\t50.36776\t1788-05-21\t1788-05-21\tПреполовения\tTrue\n",
      "Лохвица\t33.26024\t50.36776\t1788-02-17\t1788-02-23\tвсеедной неделе\tTrue\n",
      "Успенской\t38.24691\t53.06317\t1788-08-26\t1788-08-26\tуспения\tFalse\n",
      "Молвитино\t41.59483\t58.14881\t1788-06-27\t1788-06-27\tИюня 16\tFalse\n",
      "Выбор\t29.1663\t57.22716\t1788-08-26\t1788-08-26\tУспения\tFalse\n",
      "Выбор\t29.1663\t57.22716\t1788-09-25\t1788-09-25\tВоздвижения\tFalse\n",
      "Выбор\t29.1663\t57.22716\t1788-06-15\t1788-06-15\tСошествия Святого Духа\tTrue\n",
      "Старица\t34.93544\t56.50752\t1788-07-30\t1788-07-30\tперед Ильиным днем\tFalse\n",
      "Старица\t34.93544\t56.50752\t1788-06-27\t1788-06-27\tдевятой неделе по Пасхе в пяток\tTrue\n",
      "Верхний Удинск\t107.60627\t51.82721\t1788-02-26\t1788-02-26\tФевраля с 15\tFalse\n",
      "Верхний Удинск\t107.60627\t51.82721\t1788-06-26\t1788-06-26\tИюня с 15\tFalse\n",
      "Стешки\t41.2188\t53.11193\t1788-07-31\t1788-07-31\t20 Июля\tFalse\n",
      "Иркутск\t104.29639\t52.29778\t1788-03-26\t1788-05-12\tс 15 Марта по 1 Мая\tFalse\n",
      "Иркутск\t104.29639\t52.29778\t1788-11-26\t1788-01-12\tНоября с 15 Генваря по 1\tFalse\n",
      "Иркутск\t104.29639\t52.29778\t1788-01-26\t1788-01-26\t15 Генваря\tFalse\n",
      "Иркутск\t104.29639\t52.29778\t1788-03-12\t1788-03-12\tМарта по 1\tFalse\n",
      "Коквино\t36.30506\t55.73197\t1788-07-04\t1788-07-04\tдесятую пятницу\tTrue\n",
      "Коквино\t36.30506\t55.73197\t1788-05-04\t1788-05-04\tВеликомученика Георгия\tFalse\n",
      "Слободской\t50.17722\t58.73222\t1788-12-05\t1788-12-05\tНоября 24\tFalse\n",
      "Слободской\t50.17722\t58.73222\t1788-07-12\t1788-08-11\tИюле\tFalse\n",
      "Слободской\t50.17722\t58.73222\t1788-09-12\t1788-10-11\tСентябре\tFalse\n",
      "Слободской\t50.17722\t58.73222\t1788-04-13\t1788-04-13\tпятое Воскресенье\tTrue\n",
      "Слободской\t50.17722\t58.73222\t1788-07-06\t1788-07-06\tдесятое Воскресенье по Пасхе\tTrue\n",
      "Инсара\t44.37382\t53.86531\t1788-06-22\t1788-06-22\tТроицкая\tTrue\n",
      "Невель\t29.92844\t56.02094\t1788-12-17\t1788-12-17\tДекабря 6\tFalse\n",
      "Невель\t29.92844\t56.02094\t1788-01-17\t1788-01-17\tБогоявления\tFalse\n",
      "Невель\t29.92844\t56.02094\t1788-03-10\t1788-03-16\tпервую неделю\tTrue\n",
      "Невель\t29.92844\t56.02094\t1788-07-31\t1788-07-31\tПророка Илии\tFalse\n",
      "Александрова Пустыня\t38.9948\t57.8529\t1788-06-12\t1788-07-11\tИюне\tFalse\n",
      "Ряжск\t40.1109\t53.7038\t1788-07-12\t1788-08-11\tИюле\tFalse\n",
      "Ряжск\t40.1109\t53.7038\t1788-07-11\t1788-07-11\tодиннадцатую пятницы\tTrue\n",
      "Переяславль\t31.4795\t50.08768\t1788-01-17\t1788-01-17\tГенваря 6\tFalse\n",
      "Переяславль\t31.4795\t50.08768\t1788-09-12\t1788-09-12\tСентября 1\tFalse\n",
      "Переяславль\t31.4795\t50.08768\t1788-07-04\t1788-07-04\tдесятую пятницу\tTrue\n",
      "Вильманстранд\t28.231957\t61.048829\t1788-09-09\t1788-09-09\t29 Августа\tFalse\n",
      "Острогожск\t39.07561\t50.8664\t1788-09-19\t1788-09-19\tСентября 8\tFalse\n",
      "Острогожск\t39.07561\t50.8664\t1788-12-17\t1788-12-17\tДекабря 6\tFalse\n",
      "Острогожск\t39.07561\t50.8664\t1788-07-04\t1788-07-04\tдесятую пятницу\tTrue\n",
      "Брянск\t34.37167\t53.25209\t1788-07-04\t1788-07-04\tдесятую пятницу\tTrue\n",
      "Семеновское\t39.53766\t57.3252\t1788-07-04\t1788-07-04\tдесятую пятницу\tTrue\n",
      "Фридрихсгам\t27.19794\t60.56974\t1788-09-04\t1788-09-04\t24 Августа\tFalse\n",
      "Боровичи\t33.91667\t58.38333\t1788-02-05\t1788-02-05\tГенваря 25\tFalse\n",
      "Боровичи\t33.91667\t58.38333\t1788-12-02\t1788-12-02\tНоября 21\tFalse\n",
      "Боровичи\t33.91667\t58.38333\t1788-06-22\t1788-06-22\tТроицы\tTrue\n",
      "Любечь\t30.65692\t51.7026\t1788-12-17\t1788-12-17\tДекабря 6\tFalse\n",
      "Любечь\t30.65692\t51.7026\t1788-06-05\t1788-06-05\tВознесения\tTrue\n",
      "Елец\t38.50169\t52.62366\t1788-09-19\t1788-09-19\tСентября в 8\tFalse\n",
      "Елец\t38.50169\t52.62366\t1788-06-01\t1788-06-01\tМая 21\tFalse\n",
      "Елец\t38.50169\t52.62366\t1788-08-03\t1788-08-03\tИюля 23\tFalse\n",
      "Елец\t38.50169\t52.62366\t1788-07-10\t1788-07-10\tИюня 29\tFalse\n",
      "Елец\t38.50169\t52.62366\t1788-07-19\t1788-07-19\tИюля в 8\tFalse\n",
      "Керенск\t43.05744\t53.69157\t1788-06-12\t1788-07-11\tИюне\tFalse\n",
      "Керенск\t43.05744\t53.69157\t1788-07-12\t1788-08-11\tИюле\tFalse\n",
      "Иса\t48.3\t48.6\t1788-08-12\t1788-08-12\tАвгуста 1\tFalse\n",
      "Поток\t31.04966\t49.77022\t1788-07-05\t1788-07-05\tИюня 24\tFalse\n",
      "Поток\t31.04966\t49.77022\t1788-10-17\t1788-10-17\tОктября 6\tFalse\n",
      "Обруб\t32.33557\t56.65394\t1788-05-04\t1788-05-04\tАпреля 23\tFalse\n",
      "Лаишев\t49.55037\t55.40464\t1788-05-17\t1788-06-12\tМая с 6 Июня по 1\tFalse\n",
      "Лаишев\t49.55037\t55.40464\t1788-06-17\t1788-06-17\t6 Июня\tFalse\n",
      "Деймановка\t32.62939\t50.214\t1788-07-13\t1788-07-13\t2 Июля\tFalse\n",
      "Деймановка\t32.62939\t50.214\t1788-07-04\t1788-07-04\tдесятой пятнице\tTrue\n",
      "Ратковка\t37.59472\t49.75083\t1788-08-17\t1788-08-17\tАвгуста 6\tFalse\n",
      "Ратковка\t37.59472\t49.75083\t1788-10-12\t1788-10-12\tОктября 1\tFalse\n",
      "Ратковка\t37.59472\t49.75083\t1788-06-05\t1788-06-05\tВознесение\tTrue\n",
      "Барышевка\t31.32173\t50.36098\t1788-01-12\t1788-01-12\tГенваря 1\tFalse\n",
      "Барышевка\t31.32173\t50.36098\t1788-05-20\t1788-05-20\tМая 9\tFalse\n",
      "Барышевка\t31.32173\t50.36098\t1788-09-22\t1788-09-22\tСентября 11\tFalse\n",
      "Починки\t44.86678\t54.69875\t1788-06-05\t1788-06-05\tМая 25\tFalse\n",
      "Вознесенской\t42.45036\t56.13119\t1788-06-05\t1788-06-05\tВознесения\tTrue\n",
      "Изюм\t37.24848\t49.20875\t1788-07-05\t1788-07-05\tИюня 24\tFalse\n",
      "Изюм\t37.24848\t49.20875\t1788-09-25\t1788-09-25\tСентября 14\tFalse\n",
      "Изюм\t37.24848\t49.20875\t1788-11-06\t1788-11-06\tОктября 26\tFalse\n",
      "Изюм\t37.24848\t49.20875\t1788-05-21\t1788-05-21\tПреполовения\tTrue\n",
      "Кударинская\t107.04306\t50.19889\t1788-12-05\t1788-12-05\tНоября 24\tFalse\n",
      "Макарьев\t43.8049\t57.88501\t1788-07-31\t1788-07-31\tИюля на 20\tFalse\n",
      "Макарьев\t43.8049\t57.88501\t1788-01-30\t1788-01-30\tГенваря на 19\tFalse\n",
      "Макарьев\t43.8049\t57.88501\t1788-04-05\t1788-04-05\tМарта на 25\tFalse\n",
      "Авдулово\t38.6293\t53.29975\t1788-08-10\t1788-08-10\tИюля 30\tFalse\n",
      "Саратов\t46.0\t51.533333\t1788-07-19\t1788-07-19\tИюля 8\tFalse\n",
      "Гороховец\t42.69351\t56.20152\t1788-08-26\t1788-08-26\tуспения\tFalse\n",
      "Перемышль\t36.16063\t54.26313\t1788-07-04\t1788-07-04\tдесятую пятницу\tTrue\n",
      "Тобольск\t68.258056\t58.195278\t1788-05-31\t1788-05-31\t20 Мая\tFalse\n",
      "Пермь\t56.25017\t58.01046\t1788-07-10\t1788-07-10\t29 Июня\tFalse\n",
      "Пермь\t56.25017\t58.01046\t1788-10-01\t1788-10-01\t20 Сентября\tFalse\n",
      "Пермь\t56.25017\t58.01046\t1788-12-05\t1788-12-05\t24 Ноября\tFalse\n",
      "Сребное\t32.91867\t50.66384\t1788-05-04\t1788-05-04\tАпреля 23\tFalse\n",
      "Сребное\t32.91867\t50.66384\t1788-09-19\t1788-09-19\tСентября 8\tFalse\n",
      "Плоское\t37.63101\t53.0502\t1788-06-05\t1788-06-05\tМая 25\tFalse\n",
      "Плоское\t37.63101\t53.0502\t1788-11-19\t1788-11-19\tНоября 8\tFalse\n",
      "Мена\t32.21568\t51.5217\t1788-09-19\t1788-09-19\t8 Сентября\tFalse\n",
      "Мена\t32.21568\t51.5217\t1788-05-20\t1788-05-20\tМая 9\tFalse\n",
      "Мена\t32.21568\t51.5217\t1788-12-17\t1788-12-17\tНиколая\tFalse\n",
      "Петровск\t39.26928\t57.01039\t1788-08-09\t1788-08-09\t29 Июля\tFalse\n",
      "Петровск\t39.26928\t57.01039\t1788-09-25\t1788-09-25\t14 Сентября\tFalse\n",
      "Каменка\t37.83107\t49.97964\t1788-12-17\t1788-12-17\tНиколая Чудотворца летнего и зимнего\tFalse\n",
      "Каменка\t37.83107\t49.97964\t1788-05-04\t1788-05-04\tВеликомученика Георгия\tFalse\n",
      "Каменка\t37.83107\t49.97964\t1788-03-28\t1788-03-28\tАлексия человека Божия\tFalse\n",
      "Каменка\t37.83107\t49.97964\t1788-05-20\t1788-05-20\tНиколая Чудотворца летнего и зимнего\tFalse\n",
      "Лух\t42.25838\t57.01242\t1788-06-27\t1788-06-27\tИюня 16\tFalse\n",
      "Остров\t28.35368\t57.34395\t1788-09-25\t1788-09-25\tСентября 14\tFalse\n",
      "Остров\t28.35368\t57.34395\t1788-05-12\t1788-06-11\tМаие\tFalse\n",
      "Остров\t28.35368\t57.34395\t1788-07-12\t1788-08-11\tИюле\tFalse\n",
      "Чигиринъ-Дуброва\t32.91667\t49.28333\t1788-05-04\t1788-05-04\tВеликомученика Георгия\tFalse\n",
      "Чигиринъ-Дуброва\t32.91667\t49.28333\t1788-10-25\t1788-10-25\tПараскевы\tFalse\n",
      "Чигиринъ-Дуброва\t32.91667\t49.28333\t1788-07-31\t1788-07-31\tПророка Илии\tFalse\n",
      "Ефремов\t38.09924\t53.14806\t1788-08-17\t1788-08-17\tАвгуста 6\tFalse\n",
      "Ефремов\t38.09924\t53.14806\t1788-09-26\t1788-09-26\tСентября 15\tFalse\n",
      "Ефремов\t38.09924\t53.14806\t1788-10-12\t1788-10-12\tОктября 1\tFalse\n",
      "Ефремов\t38.09924\t53.14806\t1788-07-04\t1788-07-04\tдесятая пятница\tTrue\n",
      "Гаврилова\t38.58917\t55.94667\t1788-07-15\t1788-07-15\tИюля 4\tFalse\n",
      "Тресвятское\t45.78522\t57.45516\t1788-02-10\t1788-02-10\tГенваря 30\tFalse\n",
      "Тресвятское\t45.78522\t57.45516\t1788-02-12\t1788-02-12\tФевраля 1\tFalse\n",
      "Тресвятское\t45.78522\t57.45516\t1788-12-17\t1788-12-17\tДекабря 6\tFalse\n",
      "Выборг\t28.744167\t60.709167\t1788-09-04\t1788-09-04\tАвгуста 24\tFalse\n",
      "Выборг\t28.744167\t60.709167\t1788-10-02\t1788-10-02\tСентября 21\tFalse\n",
      "Ромен\t33.198877\t50.94679\t1788-06-05\t1788-06-05\tВознесения\tTrue\n",
      "Ромен\t33.198877\t50.94679\t1788-11-19\t1788-11-19\tАрхистратига Михаила\tFalse\n",
      "Ромен\t33.198877\t50.94679\t1788-12-02\t1788-12-02\tдень Собора Архистратига Михаила\tFalse\n",
      "Ромен\t33.198877\t50.94679\t1788-03-03\t1788-03-09\tМасляной\tTrue\n",
      "Ромен\t33.198877\t50.94679\t1788-07-31\t1788-07-31\tПророка Илии\tFalse\n",
      "Калинкино\t37.73333\t56.71667\t1788-07-31\t1788-07-31\tИюля 20\tFalse\n",
      "Новосиль\t37.04048\t52.97387\t1788-05-21\t1788-05-21\tПреполовения\tTrue\n",
      "Омельник\t33.54568\t49.20765\t1788-07-31\t1788-07-31\tИюля 20\tFalse\n",
      "Омельник\t33.54568\t49.20765\t1788-10-25\t1788-10-25\tОктября 14\tFalse\n",
      "Протопопова\t36.46653\t52.92251\t1788-05-20\t1788-05-20\tМая 9\tFalse\n",
      "Протопопова\t36.46653\t52.92251\t1788-12-17\t1788-12-17\tНиколая\tFalse\n",
      "Протопопова\t36.46653\t52.92251\t1788-06-22\t1788-06-22\tТроицы\tTrue\n",
      "Алексин\t37.0674\t54.50503\t1788-07-12\t1788-07-12\tИюля 1\tFalse\n",
      "Алексин\t37.0674\t54.50503\t1788-09-09\t1788-09-09\tАвгуста 29\tFalse\n",
      "Шартолинской Николаевской\t41.32964\t56.96434\t1788-05-20\t1788-05-20\tМая 9\tFalse\n",
      "Щигры\t36.90432\t51.87555\t1788-06-22\t1788-06-22\tТроицы\tTrue\n",
      "Ивановское\t36.95972\t55.92667\t1788-07-19\t1788-07-19\tИюля 8\tFalse\n",
      "Якутск\t129.73306\t62.03389\t1788-12-12\t1788-01-11\tДекабре\tFalse\n",
      "Якутск\t129.73306\t62.03389\t1788-06-12\t1788-07-11\tИюне\tFalse\n",
      "Якутск\t129.73306\t62.03389\t1788-07-12\t1788-08-11\tИюле\tFalse\n",
      "Якутск\t129.73306\t62.03389\t1788-08-12\t1788-09-11\tАвгусте\tFalse\n",
      "Жовнин\t32.68108\t49.38091\t1788-09-12\t1788-09-12\tСентября 1\tFalse\n",
      "Жовнин\t32.68108\t49.38091\t1788-06-05\t1788-06-05\tВознесения\tTrue\n",
      "Остер\t30.88229\t50.9506\t1788-01-12\t1788-01-12\tНовой год\tFalse\n",
      "Остер\t30.88229\t50.9506\t1788-07-04\t1788-07-04\tдесятой пятнице\tTrue\n",
      "Валдай\t33.2525\t57.97472\t1788-11-03\t1788-11-08\tОктября от 23 по 28\tFalse\n",
      "Валдай\t33.2525\t57.97472\t1788-04-27\t1788-05-03\tСветлой неделе\tTrue\n",
      "Валдай\t33.2525\t57.97472\t1788-01-05\t1788-01-05\tРождества Христова\tFalse\n",
      "Печенеги\t36.93472\t49.87167\t1788-08-17\t1788-08-17\tАвгуста 6\tFalse\n",
      "Печенеги\t36.93472\t49.87167\t1788-11-08\t1788-11-08\tОктября 28\tFalse\n",
      "Печенеги\t36.93472\t49.87167\t1788-06-05\t1788-06-05\tВознесения\tTrue\n",
      "Печенеги\t36.93472\t49.87167\t1788-02-17\t1788-02-23\tВсеедной неделе\tTrue\n",
      "Горошин\t32.73911\t49.6548\t1788-01-12\t1788-01-12\tГенваря 1\tFalse\n",
      "Горошин\t32.73911\t49.6548\t1788-09-25\t1788-09-25\tСентября 14\tFalse\n",
      "Горошин\t32.73911\t49.6548\t1788-04-27\t1788-05-03\tСветлой седмицы\tTrue\n",
      "Архангельск\t40.533333\t64.533333\t1788-05-12\t1788-06-11\tМаие\tFalse\n",
      "Архангельск\t40.533333\t64.533333\t1788-06-12\t1788-07-11\tИюне\tFalse\n",
      "Липецк\t39.57076\t52.60311\t1788-05-02\t1788-05-02\tАпреля 21\tFalse\n",
      "Липецк\t39.57076\t52.60311\t1788-07-04\t1788-07-04\tИюня 23\tFalse\n",
      "Липецк\t39.57076\t52.60311\t1788-08-26\t1788-08-26\tАвгуста 15\tFalse\n",
      "Бучалки\t38.77664\t53.7559\t1788-07-07\t1788-07-07\tИюня 26\tFalse\n",
      "Кашин\t37.60806\t57.35917\t1788-03-23\t1788-03-23\tвторой неделе в воскресенье\tTrue\n",
      "Кашин\t37.60806\t57.35917\t1788-07-04\t1788-07-04\tдесятую пятницу\tTrue\n",
      "Цывильск\t47.668387\t55.737351\t1788-07-07\t1788-07-07\tИюня 26\tFalse\n",
      "Цывильск\t47.668387\t55.737351\t1788-07-31\t1788-07-31\tИюля 20\tFalse\n",
      "Льгов\t35.2775\t51.63069\t1788-07-05\t1788-07-05\t24 Июня\tFalse\n",
      "Льгов\t35.2775\t51.63069\t1788-09-12\t1788-09-12\tСентября 1\tFalse\n",
      "Томаровка\t36.23309\t50.68338\t1788-05-20\t1788-05-20\tМая 9\tFalse\n",
      "Томаровка\t36.23309\t50.68338\t1788-07-19\t1788-07-19\tИюля 8\tFalse\n",
      "Томаровка\t36.23309\t50.68338\t1788-12-17\t1788-12-17\tДекабря 6\tFalse\n",
      "Томаровка\t36.23309\t50.68338\t1788-02-17\t1788-02-23\tвсеедной неделе\tTrue\n",
      "Велиж\t31.19673\t55.60564\t1788-07-31\t1788-07-31\t20 Июля\tFalse\n",
      "Велиж\t31.19673\t55.60564\t1788-03-10\t1788-03-16\tпервой неделе\tTrue\n",
      "Рашевка\t33.88896\t50.22562\t1788-05-20\t1788-05-20\t9 Мая\tFalse\n",
      "Рашевка\t33.88896\t50.22562\t1788-09-12\t1788-09-12\tСентября 1\tFalse\n",
      "Рашевка\t33.88896\t50.22562\t1788-12-17\t1788-12-17\tНиколая\tFalse\n",
      "Стародуб\t32.76333\t52.58444\t1788-03-17\t1788-03-23\tвторой неделе великого поста\tTrue\n",
      "Воронков\t30.89967\t50.22235\t1788-09-19\t1788-09-19\tРождества Богородицы\tFalse\n",
      "Середа Стратилатская\t35.50263\t55.89722\t1788-06-19\t1788-06-19\tИюня 8\tFalse\n",
      "Ружное\t34.76467\t52.962\t1788-05-13\t1788-05-13\tМая 2\tFalse\n",
      "Весиегонск\t37.2604\t58.66398\t1788-01-17\t1788-01-17\tБогоявления\tFalse\n",
      "Ладога Новая\t32.30191\t60.10246\t1788-08-26\t1788-08-26\t15 Августа\tFalse\n",
      "Краснополье\t35.25965\t50.77458\t1788-05-20\t1788-05-20\tМая 9\tFalse\n",
      "Краснополье\t35.25965\t50.77458\t1788-08-17\t1788-08-17\tАвгуста 6\tFalse\n",
      "Краснополье\t35.25965\t50.77458\t1788-11-19\t1788-11-19\tНоября 8\tFalse\n",
      "Покровское\t66.79389\t57.24028\t1788-07-19\t1788-07-19\tИюля 8\tFalse\n",
      "Беркунова\t35.69445\t56.10966\t1788-06-27\t1788-06-27\tдевятую пятницу\tTrue\n",
      "Володимерец\t29.166389\t57.378889\t1788-12-17\t1788-12-17\tНиколая\tFalse\n",
      "Дмитров\t37.52041\t56.34485\t1788-09-26\t1788-09-26\t15 Сентября\tFalse\n",
      "Волоколамск\t35.96944\t56.03361\t1788-07-10\t1788-07-10\tИюня 29\tFalse\n",
      "Волоколамск\t35.96944\t56.03361\t1788-06-19\t1788-06-19\tИюня 8\tFalse\n",
      "Волоколамск\t35.96944\t56.03361\t1788-08-26\t1788-08-26\tАвгуста 15\tFalse\n",
      "Волоколамск\t35.96944\t56.03361\t1788-09-19\t1788-09-19\tСентября 8\tFalse\n",
      "Волоколамск\t35.96944\t56.03361\t1788-08-30\t1788-08-30\tАвгуста 19\tFalse\n",
      "Волоколамск\t35.96944\t56.03361\t1788-05-20\t1788-05-20\tМая 9\tFalse\n",
      "Волоколамск\t35.96944\t56.03361\t1788-07-31\t1788-07-31\tИюля 20\tFalse\n",
      "Волоколамск\t35.96944\t56.03361\t1788-10-06\t1788-10-06\tСентября 25\tFalse\n",
      "Волоколамск\t35.96944\t56.03361\t1788-12-02\t1788-12-02\tНоября 21\tFalse\n",
      "Волоколамск\t35.96944\t56.03361\t1788-07-04\t1788-07-04\tдесятую пятницу\tTrue\n",
      "Волоколамск\t35.96944\t56.03361\t1788-06-15\t1788-06-15\tПятидесятницы\tTrue\n",
      "Торопец\t31.63528\t56.49779\t1788-07-31\t1788-07-31\tПророка Илии\tFalse\n",
      "Зубцов\t34.58935\t56.17534\t1788-12-17\t1788-12-17\t6 Декабря\tFalse\n",
      "Зубцов\t34.58935\t56.17534\t1788-07-31\t1788-07-31\tИюля 20\tFalse\n",
      "Зубцов\t34.58935\t56.17534\t1788-08-17\t1788-08-17\tАвгуста 6\tFalse\n",
      "Зубцов\t34.58935\t56.17534\t1788-08-26\t1788-08-26\tАвгуста 15\tFalse\n",
      "Зубцов\t34.58935\t56.17534\t1788-05-20\t1788-05-20\tМая 9\tFalse\n",
      "Зубцов\t34.58935\t56.17534\t1788-01-18\t1788-01-18\tГенваря 7\tFalse\n",
      "Зубцов\t34.58935\t56.17534\t1788-03-03\t1788-03-09\tСырной неделе\tTrue\n",
      "Зубцов\t34.58935\t56.17534\t1788-07-04\t1788-07-04\tдесятую пятницу\tTrue\n",
      "Крапивна\t32.16478\t49.63637\t1788-10-12\t1788-10-12\tПокрова\tFalse\n",
      "Крапивна\t32.16478\t49.63637\t1788-07-31\t1788-07-31\tПророка Илии\tFalse\n",
      "Маяки\t37.62433\t48.946\t1788-01-12\t1788-01-12\tГенваря 1\tFalse\n",
      "Маяки\t37.62433\t48.946\t1788-10-12\t1788-10-12\tОктября 1\tFalse\n",
      "Гадячь\t33.99099\t50.37112\t1788-01-17\t1788-01-17\tГенваря 6\tFalse\n",
      "Гадячь\t33.99099\t50.37112\t1788-05-04\t1788-05-04\tАпреля 23\tFalse\n",
      "Гадячь\t33.99099\t50.37112\t1788-07-10\t1788-07-10\tИюня 29\tFalse\n",
      "Гадячь\t33.99099\t50.37112\t1788-10-25\t1788-10-25\tОктября 14\tFalse\n",
      "Мещовск\t35.28083\t54.32444\t1788-08-09\t1788-08-09\tИюля 29\tFalse\n",
      "Зинков\t34.36376\t50.20806\t1788-08-26\t1788-08-26\t15 Августа\tFalse\n",
      "Зинков\t34.36376\t50.20806\t1788-07-06\t1788-07-06\tИюня 25\tFalse\n",
      "Зинков\t34.36376\t50.20806\t1788-10-12\t1788-10-12\tОктября 1\tFalse\n",
      "Зинков\t34.36376\t50.20806\t1788-12-17\t1788-12-17\tДекабря 6\tFalse\n",
      "Зинков\t34.36376\t50.20806\t1788-07-05\t1788-07-05\tИоанна Крестителя\tFalse\n",
      "Сердобск\t44.21689\t52.45861\t1788-07-19\t1788-07-19\tИюля 8\tFalse\n",
      "Веприк\t31.62219\t50.67765\t1788-05-20\t1788-05-20\tМая 9\tFalse\n",
      "Веприк\t31.62219\t50.67765\t1788-12-02\t1788-12-02\tНоября 21\tFalse\n",
      "Веприк\t31.62219\t50.67765\t1788-07-05\t1788-07-05\tИоанна Предтечи\tFalse\n",
      "Веприк\t31.62219\t50.67765\t1788-12-17\t1788-12-17\tНиколая\tFalse\n",
      "Ченбар\t43.41647\t52.96474\t1788-07-04\t1788-07-04\tдесятую пятницу\tTrue\n",
      "Александровское\t43.10415\t53.40241\t1788-06-12\t1788-07-11\tИюне\tFalse\n",
      "Покровское\t38.92026\t53.35175\t1788-07-26\t1788-07-26\t15 Июля\tFalse\n",
      "Полтава\t34.54073\t49.59373\t1788-05-20\t1788-05-20\tМая 9\tFalse\n",
      "Полтава\t34.54073\t49.59373\t1788-07-31\t1788-07-31\tИюля 20\tFalse\n",
      "Полтава\t34.54073\t49.59373\t1788-09-25\t1788-09-25\tСентября 14\tFalse\n",
      "Полтава\t34.54073\t49.59373\t1788-03-03\t1788-03-09\tсплошную неделю\tTrue\n",
      "Шуя\t41.38833\t56.84865\t1788-08-04\t1788-08-04\t24 Июля\tFalse\n",
      "Волск\t47.37993\t52.04541\t1788-07-09\t1788-07-09\t28 Июня\tFalse\n",
      "Поречье\t31.27662\t55.31192\t1788-09-19\t1788-09-19\tСентября 8\tFalse\n",
      "Поречье\t31.27662\t55.31192\t1788-07-04\t1788-07-04\tдесятую пятницу\tTrue\n",
      "Глебово\t38.44731\t58.00519\t1788-09-19\t1788-09-19\tСентября в 8\tFalse\n",
      "Руза\t36.19522\t55.69898\t1788-07-10\t1788-07-10\tИюня 29\tFalse\n",
      "Руза\t36.19522\t55.69898\t1788-03-03\t1788-03-09\tСырной неделе\tTrue\n",
      "Великое\t39.77492\t57.35072\t1788-09-19\t1788-09-19\tСентября 8\tFalse\n",
      "Двуречная\t37.68262\t49.85019\t1788-01-12\t1788-01-12\tГенваря 1\tFalse\n",
      "Опушка\t41.48117\t52.60643\t1788-07-19\t1788-07-19\t8 Июля\tFalse\n",
      "Алексеевка\t39.17942\t49.01808\t1788-11-12\t1788-11-12\tНоября 1\tFalse\n",
      "Алексеевка\t39.17942\t49.01808\t1788-06-15\t1788-06-21\tТроицкой неделе\tTrue\n",
      "Алексеевка\t39.17942\t49.01808\t1788-03-28\t1788-03-28\tАлексия человека Божия\tFalse\n",
      "Петровск\t45.39167\t52.30639\t1788-07-19\t1788-07-19\tИюля 8\tFalse\n",
      "Котельва\t34.75862\t50.06864\t1788-01-12\t1788-01-12\tГенваря 1\tFalse\n",
      "Котельва\t34.75862\t50.06864\t1788-04-05\t1788-04-05\tМарта 25\tFalse\n",
      "Котельва\t34.75862\t50.06864\t1788-09-19\t1788-09-19\tСентября 8\tFalse\n",
      "Котельва\t34.75862\t50.06864\t1788-06-22\t1788-06-22\tТройцын\tTrue\n",
      "Чернь\t36.9145\t53.45232\t1788-06-22\t1788-06-22\tТроицком\tTrue\n",
      "Чугуев\t36.68803\t49.83588\t1788-08-17\t1788-08-17\tПреображения\tFalse\n",
      "Динабург\t26.53333\t55.88333\t1788-01-17\t1788-01-17\tГенваря 6\tFalse\n",
      "Динабург\t26.53333\t55.88333\t1788-07-05\t1788-07-05\tИюня 24\tFalse\n",
      "Динабург\t26.53333\t55.88333\t1788-09-19\t1788-09-19\tСентября 8\tFalse\n",
      "Богодухов\t35.52765\t50.16466\t1788-07-31\t1788-07-31\tИюля 20\tFalse\n",
      "Богодухов\t35.52765\t50.16466\t1788-09-09\t1788-09-09\tАвгуста 29\tFalse\n",
      "Богодухов\t35.52765\t50.16466\t1788-11-19\t1788-11-19\tНоября 8\tFalse\n",
      "Богодухов\t35.52765\t50.16466\t1788-06-05\t1788-06-05\tВознесение\tTrue\n",
      "Богодухов\t35.52765\t50.16466\t1788-03-03\t1788-03-09\tСырной неделе\tTrue\n",
      "Богодухов\t35.52765\t50.16466\t1788-04-07\t1788-04-13\tпохвальной неделе\tTrue\n",
      "Ржев Володимеров\t34.32817\t56.26241\t1788-07-10\t1788-07-10\tИюня 29\tFalse\n",
      "Ржев Володимеров\t34.32817\t56.26241\t1788-03-17\t1788-03-23\tнеделю православия\tTrue\n",
      "Ивановка\t35.33333\t49.86667\t1788-01-12\t1788-01-12\tГенваря 1\tFalse\n",
      "Ивановка\t35.33333\t49.86667\t1788-05-03\t1788-05-03\tАпреля 22\tFalse\n",
      "Ивановка\t35.33333\t49.86667\t1788-08-12\t1788-08-12\tАвгуста 1\tFalse\n",
      "Ивановка\t35.33333\t49.86667\t1788-09-12\t1788-09-12\tСентября 1\tFalse\n",
      "Ивановка\t35.33333\t49.86667\t1788-11-09\t1788-11-09\tОктября 29\tFalse\n",
      "Серега\t50.69246\t62.32714\t1788-07-04\t1788-07-04\tИюня с 23\tFalse\n",
      "Макарьев\t45.06291\t56.08367\t1788-07-10\t1788-07-10\tПетра и Павла\tFalse\n",
      "Кирилов\t38.38128\t59.86299\t1788-03-28\t1788-03-28\tМарта 17\tFalse\n",
      "Демшинск\t40.32167\t52.11306\t1788-09-09\t1788-09-09\t29 Августа\tFalse\n",
      "Старой Оскол\t37.84167\t51.29667\t1788-07-19\t1788-07-19\tИюля 8\tFalse\n",
      "Старой Оскол\t37.84167\t51.29667\t1788-08-26\t1788-08-26\tАвгуста 15\tFalse\n",
      "Старой Оскол\t37.84167\t51.29667\t1788-04-13\t1788-04-13\tпятое Воскресенье\tTrue\n",
      "Вязники\t42.15563\t56.24057\t1788-07-14\t1788-07-14\tИюля 3\tFalse\n",
      "Борисов\t36.015939\t55.429097\t1788-09-24\t1788-09-24\t13 Сентября\tFalse\n",
      "Полотск\t28.7856\t55.4879\t1788-12-29\t1788-12-29\tнеделю перед Рождеством Христовым\tFalse\n",
      "Полотск\t28.7856\t55.4879\t1788-01-17\t1788-01-17\tБогоявление\tFalse\n",
      "Полотск\t28.7856\t55.4879\t1788-03-10\t1788-03-16\tпервую неделю\tTrue\n",
      "Полотск\t28.7856\t55.4879\t1788-01-05\t1788-01-05\tРождеством Христовым\tFalse\n",
      "Миргород\t33.60886\t49.96854\t1788-09-19\t1788-09-19\tСентября 8\tFalse\n",
      "Миргород\t33.60886\t49.96854\t1788-12-17\t1788-12-17\tДекабря 6\tFalse\n",
      "Миргород\t33.60886\t49.96854\t1788-06-05\t1788-06-05\tВознесения\tTrue\n",
      "Миргород\t33.60886\t49.96854\t1788-03-30\t1788-03-30\tсредине великого поста\tTrue\n",
      "Богородицк\t37.47088\t54.49442\t1788-10-19\t1788-10-19\t8 Октября\tFalse\n",
      "Богородицк\t37.47088\t54.49442\t1788-07-19\t1788-07-19\tИюля 8\tFalse\n",
      "Богородицк\t37.47088\t54.49442\t1788-11-02\t1788-11-02\tОктября 22\tFalse\n",
      "Андреевка\t36.6196\t49.53601\t1788-07-31\t1788-07-31\tИюля 20\tFalse\n",
      "Андреевка\t36.6196\t49.53601\t1788-11-06\t1788-11-06\tОктября 26\tFalse\n",
      "Березин\t31.78456\t51.5716\t1788-08-26\t1788-08-26\tАвгуста 15\tFalse\n",
      "Березин\t31.78456\t51.5716\t1788-06-05\t1788-06-05\tВознесения\tTrue\n",
      "Ольховатка\t37.75264\t50.72917\t1788-01-17\t1788-01-17\tГенваря 6\tFalse\n",
      "Ольховатка\t37.75264\t50.72917\t1788-08-12\t1788-08-12\tдень седьми Мучеников Маккавей\tFalse\n",
      "Ольховатка\t37.75264\t50.72917\t1788-05-04\t1788-05-04\tВеликомученика Георгия\tFalse\n",
      "Чупаховка\t34.58107\t50.3766\t1788-05-04\t1788-05-04\tАпреля 23\tFalse\n",
      "Чупаховка\t34.58107\t50.3766\t1788-09-19\t1788-09-19\tСентября 8\tFalse\n",
      "Чупаховка\t34.58107\t50.3766\t1788-12-02\t1788-12-02\tНоября 21\tFalse\n",
      "Волынцы\t28.1864\t55.709\t1788-08-04\t1788-08-04\tИюля 24\tFalse\n",
      "Волынцы\t28.1864\t55.709\t1788-10-12\t1788-10-12\tОктября 1\tFalse\n",
      "Сапожок\t40.68056\t53.94194\t1788-07-19\t1788-07-19\tИюля 8\tFalse\n",
      "Сапожок\t40.68056\t53.94194\t1788-07-04\t1788-07-04\tдесятой пятнице\tTrue\n",
      "Задушное\t36.98756\t52.98556\t1788-06-15\t1788-06-15\tСошествия Святого Духа\tTrue\n",
      "Белополье\t34.31287\t51.15016\t1788-01-17\t1788-01-17\tГенваря 6\tFalse\n",
      "Белополье\t34.31287\t51.15016\t1788-07-05\t1788-07-05\tИюня 24\tFalse\n",
      "Белополье\t34.31287\t51.15016\t1788-09-25\t1788-09-25\tСентября 14\tFalse\n",
      "Рыбинск\t38.84259\t58.0446\t1788-07-10\t1788-07-10\tИюня 29\tFalse\n",
      "Рыбинск\t38.84259\t58.0446\t1788-08-17\t1788-08-17\tАвгуста в 6\tFalse\n",
      "Олекминск\t120.4203\t60.3743\t1788-07-12\t1788-08-11\tИюле\tFalse\n",
      "Олекминск\t120.4203\t60.3743\t1788-08-12\t1788-09-11\tАвгусте\tFalse\n",
      "Зашиверск\t142.61667\t67.45\t1788-12-12\t1788-01-11\tДекабре\tFalse\n",
      "Зашиверск\t142.61667\t67.45\t1788-01-12\t1788-02-11\tГенваре\tFalse\n",
      "Обоянь\t36.27919\t51.20981\t1788-08-12\t1788-08-12\tАвгуста 1\tFalse\n",
      "Обоянь\t36.27919\t51.20981\t1788-09-19\t1788-09-19\tСентября 8\tFalse\n",
      "Обоянь\t36.27919\t51.20981\t1788-12-17\t1788-12-17\tДекабря 6\tFalse\n",
      "Обоянь\t36.27919\t51.20981\t1788-05-21\t1788-05-21\tПреполовения\tTrue\n",
      "Обоянь\t36.27919\t51.20981\t1788-03-03\t1788-03-09\tСырной неделе\tTrue\n",
      "Кривонаволоцкая\t47.1155\t63.962\t1788-01-17\t1788-01-17\tГенваря с 6\tFalse\n",
      "Краснокутск\t35.16275\t50.06602\t1788-05-04\t1788-05-04\tАпреля 23\tFalse\n",
      "Краснокутск\t35.16275\t50.06602\t1788-07-10\t1788-07-10\tИюня 29\tFalse\n",
      "Краснокутск\t35.16275\t50.06602\t1788-12-02\t1788-12-02\tНоября 21\tFalse\n",
      "Краснокутск\t35.16275\t50.06602\t1788-03-24\t1788-03-30\tКрестопоклонной неделе\tTrue\n",
      "Рожественское\t36.975171\t53.668498\t1788-10-02\t1788-10-02\t21 Сентября\tFalse\n",
      "Яготин\t31.76246\t50.27975\t1788-11-19\t1788-11-19\tАрхистратига Михаила\tFalse\n",
      "Яготин\t31.76246\t50.27975\t1788-04-12\t1788-04-12\tПохвальную субботу\tTrue\n",
      "Яготин\t31.76246\t50.27975\t1788-08-17\t1788-08-17\tПреображения\tFalse\n",
      "Яготин\t31.76246\t50.27975\t1788-05-04\t1788-05-04\tВеликомученика Георгия\tFalse\n",
      "Кромы\t35.76665\t52.68762\t1788-07-11\t1788-07-11\tодинадцатой неделе\tTrue\n",
      "Кромы\t35.76665\t52.68762\t1788-06-30\t1788-07-06\tСвятые Пасхи на десятой и одинадцатой неделе\tTrue\n",
      "Усть-Сысольск\t50.80994\t61.67642\t1788-12-07\t1788-12-07\tНоября с 26\tFalse\n",
      "Муром\t42.0426\t55.575\t1788-07-06\t1788-07-06\tИюня 25\tFalse\n",
      "Новой Оскол\t37.86402\t50.7633\t1788-10-25\t1788-10-25\tПараскевы\tFalse\n",
      "Самара\t50.15\t53.20007\t1788-07-12\t1788-08-11\tИюле\tFalse\n",
      "Самара\t50.15\t53.20007\t1788-08-12\t1788-09-11\tАвгусте\tFalse\n",
      "Плес\t41.51579\t57.45862\t1788-10-12\t1788-10-12\tПокровская\tFalse\n",
      "Елна\t33.18373\t54.57864\t1788-07-31\t1788-07-31\tИюля 20\tFalse\n",
      "Елна\t33.18373\t54.57864\t1788-03-10\t1788-03-16\tпервой неделе\tTrue\n",
      "Молога\t38.441111\t58.199722\t1788-01-29\t1788-01-29\tГенваря 18\tFalse\n",
      "Молога\t38.441111\t58.199722\t1788-03-31\t1788-04-06\tчетвертой неделе великого поста\tTrue\n",
      "Седнев\t31.56496\t51.64472\t1788-07-31\t1788-07-31\tИюля в 20\tFalse\n",
      "Судай\t43.13026\t58.97754\t1788-12-02\t1788-12-02\tНоября 21\tFalse\n",
      "Судай\t43.13026\t58.97754\t1788-01-17\t1788-01-17\tГенваря 6\tFalse\n",
      "Судай\t43.13026\t58.97754\t1788-04-05\t1788-04-05\tМарта 25\tFalse\n",
      "Судай\t43.13026\t58.97754\t1788-07-31\t1788-07-31\tПророка Илии\tFalse\n",
      "Ростов\t39.41394\t57.1914\t1788-03-17\t1788-03-23\tвторой неделе великого поста\tTrue\n",
      "Череповец\t37.9\t59.13333\t1788-01-22\t1788-01-22\tГенваря 11\tFalse\n",
      "Череповец\t37.9\t59.13333\t1788-10-06\t1788-10-06\tСентября 25\tFalse\n",
      "Череповец\t37.9\t59.13333\t1788-12-07\t1788-12-07\tНоября 26\tFalse\n",
      "Суздаль\t40.44668\t56.42274\t1788-01-05\t1788-01-05\t25 Декабря\tFalse\n",
      "Суздаль\t40.44668\t56.42274\t1788-10-12\t1788-10-12\t1 Октября\tFalse\n",
      "Суздаль\t40.44668\t56.42274\t1788-09-09\t1788-09-09\tАвгуста 29\tFalse\n",
      "Суздаль\t40.44668\t56.42274\t1788-07-15\t1788-07-15\tИюля на 4\tFalse\n",
      "Суздаль\t40.44668\t56.42274\t1788-09-25\t1788-09-25\tСентября на 14\tFalse\n",
      "Суздаль\t40.44668\t56.42274\t1788-01-17\t1788-01-17\tГенваря 6\tFalse\n",
      "Венев\t38.26843\t54.35533\t1788-07-04\t1788-07-04\tдесятую пятницу\tTrue\n",
      "Ерахтура\t41.135\t54.70083\t1788-07-10\t1788-07-10\tИюня 29\tFalse\n",
      "Лебедянь\t39.16639\t53.01942\t1788-01-17\t1788-01-17\tБогоявления\tFalse\n",
      "Лебедянь\t39.16639\t53.01942\t1788-06-22\t1788-06-22\tТроицы\tTrue\n",
      "Лебедянь\t39.16639\t53.01942\t1788-10-12\t1788-10-12\tПокрова\tFalse\n",
      "Нуромской\t40.37305\t58.73159\t1788-08-12\t1788-08-12\tАвгуста 1\tFalse\n",
      "Тихонова\t36.15534\t54.63884\t1788-06-29\t1788-06-29\tИюня 18\tFalse\n",
      "Тим\t37.12444\t51.62222\t1788-09-19\t1788-09-19\tРождества Богородицы\tFalse\n",
      "Тим\t37.12444\t51.62222\t1788-07-11\t1788-07-11\tодинадцатую пятницу\tTrue\n",
      "Шадринск\t63.6335\t56.0852\t1788-07-10\t1788-07-10\tИюня 29\tFalse\n",
      "Шадринск\t63.6335\t56.0852\t1788-11-14\t1788-11-14\tНоября 3\tFalse\n",
      "Шадринск\t63.6335\t56.0852\t1788-03-16\t1788-03-16\tпервое Воскресение\tTrue\n",
      "Нежин\t31.88688\t51.04801\t1788-10-12\t1788-10-12\t1 Октября\tFalse\n",
      "Нежин\t31.88688\t51.04801\t1788-02-12\t1788-03-11\tФеврале\tFalse\n",
      "Нежин\t31.88688\t51.04801\t1788-06-22\t1788-06-22\tТроицкая\tTrue\n",
      "Моршанск\t41.81065\t53.44354\t1788-08-26\t1788-08-26\t15 Августа\tFalse\n",
      "Челябинск\t61.42915\t55.15402\t1788-05-20\t1788-05-20\tМая 9\tFalse\n",
      "Челябинск\t61.42915\t55.15402\t1788-12-17\t1788-12-17\tДекабря 6\tFalse\n",
      "Яренск\t49.09162\t62.16755\t1788-01-29\t1788-02-03\tГенваря от 18 по 23\tFalse\n",
      "Нерехта\t40.57471\t57.45881\t1788-05-13\t1788-05-13\tМая 2\tFalse\n",
      "Нерехта\t40.57471\t57.45881\t1788-07-04\t1788-07-04\tИюня 23\tFalse\n",
      "Нерехта\t40.57471\t57.45881\t1788-08-04\t1788-08-04\tИюля 24\tFalse\n",
      "Синбирск\t48.366667\t54.316667\t1788-07-16\t1788-07-16\tИюля с 5\tFalse\n",
      "Дерпт\t26.72509\t58.38062\t1788-07-10\t1788-07-10\t29 Июня\tFalse\n",
      "Дерпт\t26.72509\t58.38062\t1788-09-19\t1788-09-19\t8 Сентября\tFalse\n",
      "Дерпт\t26.72509\t58.38062\t1788-09-30\t1788-09-30\t19 Сентября\tFalse\n",
      "Дерпт\t26.72509\t58.38062\t1788-01-17\t1788-01-17\tБогоявления\tFalse\n",
      "Зарайск\t38.87841\t54.7605\t1788-05-20\t1788-05-20\tМая 9\tFalse\n",
      "Зарайск\t38.87841\t54.7605\t1788-08-08\t1788-08-08\tИюля 28\tFalse\n",
      "Зарайск\t38.87841\t54.7605\t1788-06-15\t1788-06-15\tПятидесятницы\tTrue\n",
      "Тюртень\t38.48336\t53.13139\t1788-07-19\t1788-07-19\tИюля в 8\tFalse\n",
      "Борисоглебск\t42.08494\t51.36713\t1788-07-19\t1788-07-19\tИюля 8\tFalse\n",
      "Прилуки\t32.38761\t50.59324\t1788-01-12\t1788-01-12\tГенваря 1\tFalse\n",
      "Прилуки\t32.38761\t50.59324\t1788-08-04\t1788-08-04\tИюля 24\tFalse\n",
      "Прилуки\t32.38761\t50.59324\t1788-04-27\t1788-05-11\tСветлом Воскресении в неделю Фомину\tTrue\n",
      "Прилуки\t32.38761\t50.59324\t1788-11-06\t1788-11-06\tВеликомученика Димитрия\tFalse\n",
      "Лальск\t47.58617\t60.74146\t1788-12-17\t1788-12-17\tДекабря 6\tFalse\n",
      "Лальск\t47.58617\t60.74146\t1788-01-29\t1788-01-29\tГенваря 18\tFalse\n",
      "Лальск\t47.58617\t60.74146\t1788-04-05\t1788-04-05\tМарта 25\tFalse\n",
      "Лальск\t47.58617\t60.74146\t1788-06-12\t1788-06-21\tИюня в первых числах\tFalse\n",
      "Конобеево\t41.91224\t54.04708\t1788-07-05\t1788-07-05\tИюня 24\tFalse\n",
      "Глухов\t33.9162\t51.67822\t1788-01-12\t1788-01-12\tГенваря 1\tFalse\n",
      "Глухов\t33.9162\t51.67822\t1788-07-31\t1788-07-31\tИюля 20\tFalse\n",
      "Глухов\t33.9162\t51.67822\t1788-11-19\t1788-11-19\tНоября 8\tFalse\n",
      "Глухов\t33.9162\t51.67822\t1788-06-22\t1788-06-22\tТройцын\tTrue\n",
      "Любим\t40.68433\t58.3625\t1788-12-17\t1788-12-17\tДекабря 6\tFalse\n",
      "Любим\t40.68433\t58.3625\t1788-06-22\t1788-06-22\tТройцын\tTrue\n",
      "Серпейск\t34.98889\t54.33583\t1788-07-04\t1788-07-04\tдесятую пятницу\tTrue\n",
      "Устивица\t33.80293\t49.86076\t1788-07-31\t1788-07-31\tИюля 20\tFalse\n",
      "Устивица\t33.80293\t49.86076\t1788-11-06\t1788-11-06\tОктября 26\tFalse\n",
      "Медынь\t35.85861\t54.96917\t1788-07-19\t1788-07-19\tИюля 8\tFalse\n",
      "Саранск\t45.1749\t54.1838\t1788-08-27\t1788-08-27\tАвгуста 16\tFalse\n",
      "Оквадская\t50.26164\t62.20319\t1788-12-02\t1788-12-02\tНоября 21\tFalse\n",
      "Богородск\t38.45\t55.85\t1788-05-20\t1788-05-20\tМая 9\tFalse\n",
      "Богородск\t38.45\t55.85\t1788-12-17\t1788-12-17\tДекабря 6\tFalse\n",
      "Козлов\t40.4907\t52.8978\t1788-08-26\t1788-08-26\tАвгуста 15\tFalse\n",
      "Козлов\t40.4907\t52.8978\t1788-09-25\t1788-09-25\tСентября 14\tFalse\n",
      "Лебедин\t34.4849\t50.58518\t1788-01-12\t1788-01-12\tГенваря 1\tFalse\n",
      "Лебедин\t34.4849\t50.58518\t1788-10-01\t1788-10-01\tСентября 20\tFalse\n",
      "Лебедин\t34.4849\t50.58518\t1788-07-04\t1788-07-04\tдесятую пятницу\tTrue\n",
      "Торжок\t34.96221\t57.0436\t1788-01-17\t1788-01-17\tГенваря 6\tFalse\n",
      "Торжок\t34.96221\t57.0436\t1788-09-26\t1788-09-26\tСентября 15\tFalse\n",
      "Торжок\t34.96221\t57.0436\t1788-03-16\t1788-03-16\tпервой недели великого поста в Воскресенье\tTrue\n",
      "Ховань\t35.50309\t55.99746\t1788-07-12\t1788-08-11\tИюле\tFalse\n",
      "Устье\t39.73596\t59.63043\t1788-06-28\t1788-06-28\t17 Июня\tFalse\n",
      "Устье\t39.73596\t59.63043\t1788-07-04\t1788-07-04\tИюня по 23\tFalse\n",
      "Сосница\t32.49985\t51.52387\t1788-03-03\t1788-03-09\tСырной неделе\tTrue\n",
      "Сосница\t32.49985\t51.52387\t1788-07-04\t1788-07-04\tдесятую пятницу\tTrue\n",
      "Сосница\t32.49985\t51.52387\t1788-09-25\t1788-09-25\tВоздвижения\tFalse\n",
      "Далматов\t62.9362\t56.26\t1788-12-17\t1788-12-17\t6 числа Декабря\tFalse\n",
      "Далматов\t62.9362\t56.26\t1788-12-24\t1788-12-24\t13 числа Декабря\tFalse\n",
      "Далматов\t62.9362\t56.26\t1788-05-20\t1788-05-20\tМая 9\tFalse\n",
      "Нарва\t28.19028\t59.37722\t1788-02-12\t1788-03-11\tФеврале\tFalse\n",
      "Нарва\t28.19028\t59.37722\t1788-07-12\t1788-08-11\tИюле\tFalse\n",
      "Ковров\t41.31917\t56.35722\t1788-01-05\t1788-01-05\t25 Декабря\tFalse\n",
      "Вашка\t45.7464\t64.8827\t1788-01-12\t1788-02-11\tГенваре\tFalse\n",
      "Мостовское\t57.02846\t56.54404\t1788-12-02\t1788-12-02\tНоября 21\tFalse\n",
      "Мостовское\t57.02846\t56.54404\t1788-06-05\t1788-06-05\tВознесения\tTrue\n",
      "Свержин\t30.3222\t53.1331\t1788-06-05\t1788-06-05\tВознесения\tTrue\n",
      "Троицк\t43.82312\t54.09013\t1788-07-10\t1788-07-10\tИюня 29\tFalse\n",
      "Ирбит\t63.071\t57.67052\t1788-01-12\t1788-02-11\tГенваря месяца\tFalse\n",
      "Нейшлот\t28.87999\t61.8699\t1788-09-26\t1788-09-26\t15 Сентября\tFalse\n",
      "Кузнецк\t46.60037\t53.11675\t1788-07-04\t1788-07-04\tдесятую пятницу\tTrue\n",
      "Коровай\t32.34731\t50.15553\t1788-07-04\t1788-07-04\tдесятой пятнице\tTrue\n",
      "Козельск\t35.77159\t54.03746\t1788-07-04\t1788-07-04\tдесятую пятницу\tTrue\n",
      "Наровчат\t43.69458\t53.87654\t1788-07-10\t1788-07-10\tИюня 29\tFalse\n",
      "Наровчат\t43.69458\t53.87654\t1788-07-31\t1788-07-31\tИюля 20\tFalse\n",
      "Наровчат\t43.69458\t53.87654\t1788-08-17\t1788-08-17\tАвгуста 6\tFalse\n",
      "Можайск\t36.02722\t55.50194\t1788-07-10\t1788-07-10\tИюня 29\tFalse\n",
      "Голтва\t33.85422\t49.4202\t1788-01-17\t1788-01-17\tГенваря 6\tFalse\n",
      "Голтва\t33.85422\t49.4202\t1788-08-09\t1788-08-09\tИюля 29\tFalse\n",
      "Голтва\t33.85422\t49.4202\t1788-08-17\t1788-08-17\tАвгуста 6\tFalse\n",
      "Голтва\t33.85422\t49.4202\t1788-11-19\t1788-11-19\tНоября 8\tFalse\n",
      "Моромск\t30.87838\t51.08463\t1788-12-17\t1788-12-17\t6 Декабря\tFalse\n",
      "Кошира\t38.16694\t54.84444\t1788-06-05\t1788-06-05\tВознесения\tTrue\n",
      "Добрая\t37.7\t52.73333\t1788-05-20\t1788-05-20\t9 Мая\tFalse\n",
      "Добрая\t37.7\t52.73333\t1788-07-07\t1788-07-07\t26 Июня\tFalse\n",
      "Добрая\t37.7\t52.73333\t1788-12-17\t1788-12-17\t6 Декабря\tFalse\n",
      "Епифань\t38.55181\t53.82526\t1788-05-20\t1788-05-20\tМая 9\tFalse\n",
      "Епифань\t38.55181\t53.82526\t1788-12-17\t1788-12-17\tНиколая\tFalse\n",
      "Черлянково\t35.48094\t55.94724\t1788-05-20\t1788-05-20\tМая 9\tFalse\n",
      "Ковымское\t158.70193\t68.72942\t1788-02-12\t1788-03-11\tФеврале\tFalse\n",
      "Ковымское\t158.70193\t68.72942\t1788-03-12\t1788-04-11\tМарте\tFalse\n",
      "Онофриево\t36.51055\t55.8503\t1788-06-23\t1788-06-23\t12 день Июня\tFalse\n",
      "Борисоглебск\t39.525119\t57.866991\t1788-05-19\t1788-05-19\tИоанна Богослова\tFalse\n",
      "Борисоглебск\t39.525119\t57.866991\t1788-06-22\t1788-06-22\tТроицы\tTrue\n",
      "Богородицк\t38.12408\t53.77166\t1788-07-18\t1788-07-18\tИюля 7\tFalse\n",
      "Борисоглебской\t39.1508\t57.2586\t1788-05-13\t1788-05-13\tМая 2\tFalse\n",
      "Золочев\t35.98178\t50.27985\t1788-07-10\t1788-07-10\tИюня 29\tFalse\n",
      "Золочев\t35.98178\t50.27985\t1788-08-17\t1788-08-17\tАвгуста 6\tFalse\n",
      "Золочев\t35.98178\t50.27985\t1788-12-17\t1788-12-17\tДекабря 6\tFalse\n",
      "Кадом\t42.4675\t54.55917\t1788-07-10\t1788-07-10\tИюня 29\tFalse\n",
      "Кадом\t42.4675\t54.55917\t1788-07-31\t1788-07-31\tИюля 20\tFalse\n",
      "Спаское\t40.453412\t57.761175\t1788-08-17\t1788-08-17\tПреображения\tFalse\n",
      "Сватова Лучка\t38.063939\t49.351971\t1788-06-19\t1788-06-19\tИюня 8\tFalse\n",
      "Сватова Лучка\t38.063939\t49.351971\t1788-10-07\t1788-10-07\tСентября 26\tFalse\n",
      "Сватова Лучка\t38.063939\t49.351971\t1788-05-19\t1788-05-19\tИоанна Богослова\tFalse\n",
      "Варва\t32.71968\t50.49503\t1788-05-20\t1788-05-20\tМая 9\tFalse\n",
      "Варва\t32.71968\t50.49503\t1788-07-10\t1788-07-10\tИюня 29\tFalse\n",
      "Варва\t32.71968\t50.49503\t1788-11-12\t1788-11-12\tНоября 1\tFalse\n",
      "Роловское\t39.097\t59.7509\t1788-01-12\t1788-01-12\tГенваря 1\tFalse\n",
      "Роловское\t39.097\t59.7509\t1788-07-05\t1788-07-05\tИюня 24\tFalse\n",
      "Верховажской\t42.04652\t60.74717\t1788-03-26\t1788-03-26\t15 числа Марта\tFalse\n",
      "Трубчевск\t33.7644\t52.5798\t1788-06-22\t1788-06-22\tТроицы\tTrue\n",
      "Махоново\t39.7671\t52.90838\t1788-09-09\t1788-09-09\t29 Августа\tFalse\n",
      "Гжать\t34.99537\t55.55291\t1788-07-19\t1788-07-19\tИюля 8\tFalse\n",
      "Михайловка\t35.96695\t49.22603\t1788-02-13\t1788-02-13\tФевраля 2\tFalse\n",
      "Михайловка\t35.96695\t49.22603\t1788-09-19\t1788-09-19\tСентября 8\tFalse\n",
      "Михайловка\t35.96695\t49.22603\t1788-05-21\t1788-05-21\tПреполовения\tTrue\n",
      "Митякинская\t39.7831\t48.6104\t1788-07-04\t1788-07-04\tдесятую пятницу\tTrue\n"
     ]
    }
   ],
   "source": [
    "for f in geodb['features']:\n",
    "    if 'fair_dates' in f['properties']:\n",
    "        for d in f['properties']['fair_dates']:\n",
    "            name = f['properties']['name_new_orth']\n",
    "            lng = f['geometry']['coordinates'][0]\n",
    "            lat = f['geometry']['coordinates'][1]\n",
    "            beg = juli_to_greg(d['beg'])\n",
    "            end = juli_to_greg(d['end'])\n",
    "            try:\n",
    "                print(\"{}\\t{}\\t{}\\t{}\\t{}\\t{}\\t{}\".format(name,lng,lat,beg,end,d['text'],d['paschal']))\n",
    "            except KeyError:\n",
    "                print(f['properties']['name_old_orth'],d)"
   ]
  },
  {
   "cell_type": "code",
   "execution_count": 173,
   "metadata": {
    "collapsed": false
   },
   "outputs": [],
   "source": [
    "def flatten(d, parent_key='', sep='_'):\n",
    "    items = []\n",
    "    for k, v in d.items():\n",
    "        new_key = str(parent_key) + sep + str(k) if parent_key else str(k)\n",
    "        if isinstance(v, collections.MutableMapping):\n",
    "            items.extend(flatten(v, new_key, sep=sep).items())\n",
    "        else:\n",
    "            if type(v) == list:\n",
    "                for i,lv in enumerate(v):\n",
    "                    if type(lv)!=dict:\n",
    "                        items.append((new_key + sep + str(lv),1))\n",
    "                    else:\n",
    "                        items.extend(flatten(i, new_key, sep=sep).items())\n",
    "            else:\n",
    "                items.append((new_key, v))\n",
    "    return dict(items)"
   ]
  },
  {
   "cell_type": "code",
   "execution_count": 174,
   "metadata": {
    "collapsed": false
   },
   "outputs": [],
   "source": [
    "test2 = {\"a\":{\"1\":1,\"2\":[{'3':12},{'3':14}]},\"b\":4}"
   ]
  },
  {
   "cell_type": "code",
   "execution_count": 175,
   "metadata": {
    "collapsed": false
   },
   "outputs": [
    {
     "ename": "AttributeError",
     "evalue": "'int' object has no attribute 'items'",
     "output_type": "error",
     "traceback": [
      "\u001b[1;31m---------------------------------------------------------------------------\u001b[0m",
      "\u001b[1;31mAttributeError\u001b[0m                            Traceback (most recent call last)",
      "\u001b[1;32m<ipython-input-175-d05426b189a3>\u001b[0m in \u001b[0;36m<module>\u001b[1;34m()\u001b[0m\n\u001b[1;32m----> 1\u001b[1;33m \u001b[0mflatten\u001b[0m\u001b[1;33m(\u001b[0m\u001b[0mtest2\u001b[0m\u001b[1;33m)\u001b[0m\u001b[1;33m\u001b[0m\u001b[0m\n\u001b[0m",
      "\u001b[1;32m<ipython-input-173-20a4167e7373>\u001b[0m in \u001b[0;36mflatten\u001b[1;34m(d, parent_key, sep)\u001b[0m\n\u001b[0;32m      4\u001b[0m         \u001b[0mnew_key\u001b[0m \u001b[1;33m=\u001b[0m \u001b[0mstr\u001b[0m\u001b[1;33m(\u001b[0m\u001b[0mparent_key\u001b[0m\u001b[1;33m)\u001b[0m \u001b[1;33m+\u001b[0m \u001b[0msep\u001b[0m \u001b[1;33m+\u001b[0m \u001b[0mstr\u001b[0m\u001b[1;33m(\u001b[0m\u001b[0mk\u001b[0m\u001b[1;33m)\u001b[0m \u001b[1;32mif\u001b[0m \u001b[0mparent_key\u001b[0m \u001b[1;32melse\u001b[0m \u001b[0mstr\u001b[0m\u001b[1;33m(\u001b[0m\u001b[0mk\u001b[0m\u001b[1;33m)\u001b[0m\u001b[1;33m\u001b[0m\u001b[0m\n\u001b[0;32m      5\u001b[0m         \u001b[1;32mif\u001b[0m \u001b[0misinstance\u001b[0m\u001b[1;33m(\u001b[0m\u001b[0mv\u001b[0m\u001b[1;33m,\u001b[0m \u001b[0mcollections\u001b[0m\u001b[1;33m.\u001b[0m\u001b[0mMutableMapping\u001b[0m\u001b[1;33m)\u001b[0m\u001b[1;33m:\u001b[0m\u001b[1;33m\u001b[0m\u001b[0m\n\u001b[1;32m----> 6\u001b[1;33m             \u001b[0mitems\u001b[0m\u001b[1;33m.\u001b[0m\u001b[0mextend\u001b[0m\u001b[1;33m(\u001b[0m\u001b[0mflatten\u001b[0m\u001b[1;33m(\u001b[0m\u001b[0mv\u001b[0m\u001b[1;33m,\u001b[0m \u001b[0mnew_key\u001b[0m\u001b[1;33m,\u001b[0m \u001b[0msep\u001b[0m\u001b[1;33m=\u001b[0m\u001b[0msep\u001b[0m\u001b[1;33m)\u001b[0m\u001b[1;33m.\u001b[0m\u001b[0mitems\u001b[0m\u001b[1;33m(\u001b[0m\u001b[1;33m)\u001b[0m\u001b[1;33m)\u001b[0m\u001b[1;33m\u001b[0m\u001b[0m\n\u001b[0m\u001b[0;32m      7\u001b[0m         \u001b[1;32melse\u001b[0m\u001b[1;33m:\u001b[0m\u001b[1;33m\u001b[0m\u001b[0m\n\u001b[0;32m      8\u001b[0m             \u001b[1;32mif\u001b[0m \u001b[0mtype\u001b[0m\u001b[1;33m(\u001b[0m\u001b[0mv\u001b[0m\u001b[1;33m)\u001b[0m \u001b[1;33m==\u001b[0m \u001b[0mlist\u001b[0m\u001b[1;33m:\u001b[0m\u001b[1;33m\u001b[0m\u001b[0m\n",
      "\u001b[1;32m<ipython-input-173-20a4167e7373>\u001b[0m in \u001b[0;36mflatten\u001b[1;34m(d, parent_key, sep)\u001b[0m\n\u001b[0;32m     11\u001b[0m                         \u001b[0mitems\u001b[0m\u001b[1;33m.\u001b[0m\u001b[0mappend\u001b[0m\u001b[1;33m(\u001b[0m\u001b[1;33m(\u001b[0m\u001b[0mnew_key\u001b[0m \u001b[1;33m+\u001b[0m \u001b[0msep\u001b[0m \u001b[1;33m+\u001b[0m \u001b[0mstr\u001b[0m\u001b[1;33m(\u001b[0m\u001b[0mlv\u001b[0m\u001b[1;33m)\u001b[0m\u001b[1;33m,\u001b[0m\u001b[1;36m1\u001b[0m\u001b[1;33m)\u001b[0m\u001b[1;33m)\u001b[0m\u001b[1;33m\u001b[0m\u001b[0m\n\u001b[0;32m     12\u001b[0m                     \u001b[1;32melse\u001b[0m\u001b[1;33m:\u001b[0m\u001b[1;33m\u001b[0m\u001b[0m\n\u001b[1;32m---> 13\u001b[1;33m                         \u001b[0mitems\u001b[0m\u001b[1;33m.\u001b[0m\u001b[0mextend\u001b[0m\u001b[1;33m(\u001b[0m\u001b[0mflatten\u001b[0m\u001b[1;33m(\u001b[0m\u001b[0mi\u001b[0m\u001b[1;33m,\u001b[0m \u001b[0mnew_key\u001b[0m\u001b[1;33m,\u001b[0m \u001b[0msep\u001b[0m\u001b[1;33m=\u001b[0m\u001b[0msep\u001b[0m\u001b[1;33m)\u001b[0m\u001b[1;33m.\u001b[0m\u001b[0mitems\u001b[0m\u001b[1;33m(\u001b[0m\u001b[1;33m)\u001b[0m\u001b[1;33m)\u001b[0m\u001b[1;33m\u001b[0m\u001b[0m\n\u001b[0m\u001b[0;32m     14\u001b[0m             \u001b[1;32melse\u001b[0m\u001b[1;33m:\u001b[0m\u001b[1;33m\u001b[0m\u001b[0m\n\u001b[0;32m     15\u001b[0m                 \u001b[0mitems\u001b[0m\u001b[1;33m.\u001b[0m\u001b[0mappend\u001b[0m\u001b[1;33m(\u001b[0m\u001b[1;33m(\u001b[0m\u001b[0mnew_key\u001b[0m\u001b[1;33m,\u001b[0m \u001b[0mv\u001b[0m\u001b[1;33m)\u001b[0m\u001b[1;33m)\u001b[0m\u001b[1;33m\u001b[0m\u001b[0m\n",
      "\u001b[1;32m<ipython-input-173-20a4167e7373>\u001b[0m in \u001b[0;36mflatten\u001b[1;34m(d, parent_key, sep)\u001b[0m\n\u001b[0;32m      1\u001b[0m \u001b[1;32mdef\u001b[0m \u001b[0mflatten\u001b[0m\u001b[1;33m(\u001b[0m\u001b[0md\u001b[0m\u001b[1;33m,\u001b[0m \u001b[0mparent_key\u001b[0m\u001b[1;33m=\u001b[0m\u001b[1;34m''\u001b[0m\u001b[1;33m,\u001b[0m \u001b[0msep\u001b[0m\u001b[1;33m=\u001b[0m\u001b[1;34m'_'\u001b[0m\u001b[1;33m)\u001b[0m\u001b[1;33m:\u001b[0m\u001b[1;33m\u001b[0m\u001b[0m\n\u001b[0;32m      2\u001b[0m     \u001b[0mitems\u001b[0m \u001b[1;33m=\u001b[0m \u001b[1;33m[\u001b[0m\u001b[1;33m]\u001b[0m\u001b[1;33m\u001b[0m\u001b[0m\n\u001b[1;32m----> 3\u001b[1;33m     \u001b[1;32mfor\u001b[0m \u001b[0mk\u001b[0m\u001b[1;33m,\u001b[0m \u001b[0mv\u001b[0m \u001b[1;32min\u001b[0m \u001b[0md\u001b[0m\u001b[1;33m.\u001b[0m\u001b[0mitems\u001b[0m\u001b[1;33m(\u001b[0m\u001b[1;33m)\u001b[0m\u001b[1;33m:\u001b[0m\u001b[1;33m\u001b[0m\u001b[0m\n\u001b[0m\u001b[0;32m      4\u001b[0m         \u001b[0mnew_key\u001b[0m \u001b[1;33m=\u001b[0m \u001b[0mstr\u001b[0m\u001b[1;33m(\u001b[0m\u001b[0mparent_key\u001b[0m\u001b[1;33m)\u001b[0m \u001b[1;33m+\u001b[0m \u001b[0msep\u001b[0m \u001b[1;33m+\u001b[0m \u001b[0mstr\u001b[0m\u001b[1;33m(\u001b[0m\u001b[0mk\u001b[0m\u001b[1;33m)\u001b[0m \u001b[1;32mif\u001b[0m \u001b[0mparent_key\u001b[0m \u001b[1;32melse\u001b[0m \u001b[0mstr\u001b[0m\u001b[1;33m(\u001b[0m\u001b[0mk\u001b[0m\u001b[1;33m)\u001b[0m\u001b[1;33m\u001b[0m\u001b[0m\n\u001b[0;32m      5\u001b[0m         \u001b[1;32mif\u001b[0m \u001b[0misinstance\u001b[0m\u001b[1;33m(\u001b[0m\u001b[0mv\u001b[0m\u001b[1;33m,\u001b[0m \u001b[0mcollections\u001b[0m\u001b[1;33m.\u001b[0m\u001b[0mMutableMapping\u001b[0m\u001b[1;33m)\u001b[0m\u001b[1;33m:\u001b[0m\u001b[1;33m\u001b[0m\u001b[0m\n",
      "\u001b[1;31mAttributeError\u001b[0m: 'int' object has no attribute 'items'"
     ]
    }
   ],
   "source": [
    "flatten(test2)"
   ]
  },
  {
   "cell_type": "code",
   "execution_count": null,
   "metadata": {
    "collapsed": false
   },
   "outputs": [],
   "source": [
    "flat_db = {}\n",
    "for k,v in db.items():\n",
    "    flat_db[k]=flatten(v)"
   ]
  },
  {
   "cell_type": "code",
   "execution_count": null,
   "metadata": {
    "collapsed": false
   },
   "outputs": [],
   "source": [
    "flat_df = pd.DataFrame.from_dict(flat_db,orient='index')"
   ]
  },
  {
   "cell_type": "code",
   "execution_count": null,
   "metadata": {
    "collapsed": false
   },
   "outputs": [],
   "source": [
    "flat_df.to_excel(\"../output/flat_dataset.xlsx\",encoding='utf-8')"
   ]
  },
  {
   "cell_type": "code",
   "execution_count": null,
   "metadata": {
    "collapsed": false
   },
   "outputs": [],
   "source": [
    "db_bygood = []\n",
    "for k,v in db.items():\n",
    "    if 'specific_goods' in v and 'fair_dates' in v:\n",
    "        for g in v['specific_goods']:\n",
    "            for d in v['fair_dates']:\n",
    "                temp = {}\n",
    "                temp['good'] = g\n",
    "                temp['txt_id'] = k\n",
    "                for d1 in d:\n",
    "                    temp[\"fair_\"+d1]=d[d1]\n",
    "                for i in v:\n",
    "                    if type(v[i])!=list and type(v[i])!=dict:\n",
    "                        temp[i] = v[i]\n",
    "                if 'geo' in v:\n",
    "                    for h in v['geo']:\n",
    "                        temp[\"geo_\"+h] = v['geo'][h]\n",
    "                db_bygood.append(temp)"
   ]
  },
  {
   "cell_type": "code",
   "execution_count": null,
   "metadata": {
    "collapsed": false
   },
   "outputs": [],
   "source": [
    "df_bygood = pd.DataFrame(db_bygood)"
   ]
  },
  {
   "cell_type": "code",
   "execution_count": null,
   "metadata": {
    "collapsed": false
   },
   "outputs": [],
   "source": [
    "temp = []\n",
    "for k,v in db.items():\n",
    "    if 'specific_goods' in v and 'fair_dates' in v:\n",
    "        temp.append(k)\n",
    "len(set(temp))"
   ]
  },
  {
   "cell_type": "code",
   "execution_count": null,
   "metadata": {
    "collapsed": false
   },
   "outputs": [],
   "source": [
    "txt_ids = [str(i) for i in list(df_bygood.txt_id.unique())]\n",
    "for i in temp:\n",
    "    if i not in txt_ids:\n",
    "        if len(db[str(i)]['fair_dates'])==0:\n",
    "            print(\"confirmation\")\n",
    "        else:\n",
    "            print(\"{} is an exception to my hypothesis\".format(i))"
   ]
  },
  {
   "cell_type": "code",
   "execution_count": null,
   "metadata": {
    "collapsed": false
   },
   "outputs": [],
   "source": [
    "len(txt_ids)"
   ]
  },
  {
   "cell_type": "code",
   "execution_count": null,
   "metadata": {
    "collapsed": false
   },
   "outputs": [],
   "source": [
    "df_bygood[df_bygood.txt_id==549]"
   ]
  },
  {
   "cell_type": "code",
   "execution_count": null,
   "metadata": {
    "collapsed": false
   },
   "outputs": [],
   "source": [
    "db['549']"
   ]
  },
  {
   "cell_type": "code",
   "execution_count": null,
   "metadata": {
    "collapsed": false
   },
   "outputs": [],
   "source": [
    "df_bygood.to_excel(\"../output/dataset_by_goods.xlsx\",encoding='utf-8')"
   ]
  }
 ],
 "metadata": {
  "kernelspec": {
   "display_name": "Python 3",
   "language": "python",
   "name": "python3"
  },
  "language_info": {
   "codemirror_mode": {
    "name": "ipython",
    "version": 3
   },
   "file_extension": ".py",
   "mimetype": "text/x-python",
   "name": "python",
   "nbconvert_exporter": "python",
   "pygments_lexer": "ipython3",
   "version": "3.4.1"
  }
 },
 "nbformat": 4,
 "nbformat_minor": 0
}
