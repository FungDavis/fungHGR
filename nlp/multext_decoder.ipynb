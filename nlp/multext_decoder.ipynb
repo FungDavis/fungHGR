{
 "metadata": {
  "name": "",
  "signature": "sha256:65ce22662caa55ad3b20c46c9aad50882751cca0f4ef6ff8c84eb704b6377169"
 },
 "nbformat": 3,
 "nbformat_minor": 0,
 "worksheets": [
  {
   "cells": [
    {
     "cell_type": "code",
     "collapsed": false,
     "input": [
      "def noun_decoder(code):\n",
      "    decoded = {\"main\":\"Noun\"}\n",
      "    pos1 = \n",
      "    try:\n",
      "        "
     ],
     "language": "python",
     "metadata": {},
     "outputs": []
    },
    {
     "cell_type": "code",
     "collapsed": false,
     "input": [
      "def multext_decoder(code):\n",
      "    f_lookup = {'N':noun_decoder,'V':verb_decoder,'A':adj_decoder,'P':pnoun_decoder,'R':adv_decoder,'S':adp_converter,'C':conj_converter,'M':numeral_converter}\n",
      "    decoded = f_lookup[code[0]](code)\n",
      "    return decoded"
     ],
     "language": "python",
     "metadata": {},
     "outputs": [],
     "prompt_number": 1
    }
   ],
   "metadata": {}
  }
 ]
}