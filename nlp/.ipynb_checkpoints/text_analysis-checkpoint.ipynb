{
 "metadata": {
  "name": "",
  "signature": "sha256:f1f4453ca750daa79ebde9d5fbc624ccd0985764c9281078f5cdced07427cfcf"
 },
 "nbformat": 3,
 "nbformat_minor": 0,
 "worksheets": [
  {
   "cells": [
    {
     "cell_type": "markdown",
     "metadata": {},
     "source": [
      "Setup\n",
      "=====\n",
      "Imports, settings, and function definitions here"
     ]
    },
    {
     "cell_type": "code",
     "collapsed": false,
     "input": [
      "from lxml import html\n",
      "import os, json, re, nltk\n",
      "import pandas as pd\n",
      "import numpy as np\n",
      "import matplotlib as mpl"
     ],
     "language": "python",
     "metadata": {},
     "outputs": [],
     "prompt_number": 2
    },
    {
     "cell_type": "code",
     "collapsed": false,
     "input": [
      "mpl.rc('font', family='Constantia')"
     ],
     "language": "python",
     "metadata": {},
     "outputs": [],
     "prompt_number": 3
    },
    {
     "cell_type": "code",
     "collapsed": false,
     "input": [
      "%pylab inline"
     ],
     "language": "python",
     "metadata": {},
     "outputs": [
      {
       "output_type": "stream",
       "stream": "stdout",
       "text": [
        "Populating the interactive namespace from numpy and matplotlib\n"
       ]
      }
     ],
     "prompt_number": 4
    },
    {
     "cell_type": "code",
     "collapsed": false,
     "input": [
      "mypath = \"../html/\"\n",
      "onlyfiles = [ \"../html/{}\".format(f) for f in os.listdir(mypath) if os.path.isfile(os.path.join(mypath,f)) ]"
     ],
     "language": "python",
     "metadata": {},
     "outputs": [],
     "prompt_number": 5
    },
    {
     "cell_type": "code",
     "collapsed": false,
     "input": [
      "fulltext = \"\"\n",
      "for f in onlyfiles:\n",
      "    tree = html.parse(f)\n",
      "    root = tree.getroot()\n",
      "    text = root.text_content()\n",
      "    fulltext += \" \" + text"
     ],
     "language": "python",
     "metadata": {},
     "outputs": [],
     "prompt_number": 6
    },
    {
     "cell_type": "code",
     "collapsed": false,
     "input": [
      "fulltext = fulltext.replace(\"\\xa0\",\" \")"
     ],
     "language": "python",
     "metadata": {},
     "outputs": [],
     "prompt_number": 7
    },
    {
     "cell_type": "code",
     "collapsed": false,
     "input": [
      "fulltext = re.sub(r\"([> ])\u0412\u042a\",r\"\\1\u0412\u044a\",fulltext)\n",
      "fulltext = re.sub(r\"([\u0430-\u044f\u0456\u0463\u0473]+)(\u0462)\",r\"\\1\u0463\",fulltext)\n",
      "fulltext = re.sub(r\"(\u0462)([\u0430-\u044f\u0456\u0463\u0473]+)\",r\"\u0463\\2\",fulltext)\n",
      "fulltext = re.sub(r\"([\u0430-\u044f\u0456\u0463\u0473]+)(\u042a)\",r\"\\1\u044a\",fulltext)"
     ],
     "language": "python",
     "metadata": {},
     "outputs": [],
     "prompt_number": 8
    },
    {
     "cell_type": "code",
     "collapsed": false,
     "input": [
      "import re,json\n",
      "from lxml import html\n",
      "\n",
      "with open(\"../resources/special_cases.json\",'r',encoding='utf-8') as fp:\n",
      "    lookup_dict = json.load(fp)\n",
      "\n",
      "def ortho_rules(text,lookup_dict):\n",
      "    \"\"\"\n",
      "    Takes a text string and a lookup dict as input\n",
      "    Removes any lingering html tags\n",
      "    Breaks the string down into component words with split\n",
      "    Uses replacements to modernize orthography\n",
      "    Returns re-assembled text with modern orthography\n",
      "    \"\"\"\n",
      "    if type(text)==str:\n",
      "        text = html.fromstring(text).text_content()\n",
      "        textlist = nltk.tokenize.wordpunct_tokenize(text)\n",
      "        out_list = []\n",
      "        for word in textlist:\n",
      "            if word in [',','.',';',':']:\n",
      "                out_list.append(word)\n",
      "                continue\n",
      "            punct = \"\"\n",
      "            if len(re.findall(r\"([,.;:])$\",word))!=0:\n",
      "                punct = re.findall(r\"([,.;:])$\",word)[0]\n",
      "            word = word.strip(',.;:')\n",
      "            if word in lookup_dict:\n",
      "                word = lookup_dict[word]\n",
      "                out_list.append(word)\n",
      "            else:\n",
      "                word = re.sub(\"[\u042a\u044a]$\",'',word)\n",
      "                word = re.sub(r\"^([\u0447\u0435]{0,2}[\u0447]?[\u0432\u0431\u043d\u0440]?[\u0432\u0435\u043e\u0430\u0438])\u0437([\u041f\u0424\u041a\u0422\u0428\u0421\u0427\u043f\u0444\u043a\u0442\u0448\u0441\u0447])\",r\"\\1\u0441\\2\",word,re.IGNORECASE)\n",
      "                word = re.sub(\"\u0430\u0433\u043e$\",\"\u043e\u0433\u043e\",word,re.IGNORECASE)\n",
      "                word = re.sub(\"\u044f\u0433\u043e$\",\"\u0435\u0433\u043e\",word,re.IGNORECASE)\n",
      "                word = re.sub(\"\u044b\u044f$\",\"\u044b\u0435\",word,re.IGNORECASE)\n",
      "                word = re.sub(\"i\u044f$\",\"\u0438\u0435\",word,re.IGNORECASE)\n",
      "                word = word.replace('i','\u0438') #english\n",
      "                word = word.replace('I','\u0418') #english\n",
      "                word = word.replace('\u0456','\u0438') #cyrillic\n",
      "                word = word.replace('\u0406','\u0418') #cyrillic\n",
      "                word = word.replace('\u0462','\u0415')\n",
      "                word = word.replace('\u0463','\u0435')\n",
      "                word = word.replace('\u0472','\u0424')\n",
      "                word = word.replace('\u0473','\u0444')\n",
      "                word += punct\n",
      "                out_list.append(word)\n",
      "        out_str = ' '.join(out_list)\n",
      "        return out_str\n",
      "    else:\n",
      "        return None"
     ],
     "language": "python",
     "metadata": {},
     "outputs": [],
     "prompt_number": 9
    },
    {
     "cell_type": "code",
     "collapsed": false,
     "input": [
      "fulltext = ortho_rules(fulltext,lookup_dict)"
     ],
     "language": "python",
     "metadata": {},
     "outputs": [],
     "prompt_number": 10
    },
    {
     "cell_type": "markdown",
     "metadata": {},
     "source": [
      "Text parsing\n",
      "============\n",
      "Parsing text into tokens, stemming, and creating nltk text objects for them"
     ]
    },
    {
     "cell_type": "code",
     "collapsed": false,
     "input": [
      "tokens = nltk.tokenize.wordpunct_tokenize(fulltext)\n",
      "sent = nltk.tokenize.sent_tokenize(fulltext)\n",
      "tok_sent=[nltk.tokenize.wordpunct_tokenize(s) for s in sent]"
     ],
     "language": "python",
     "metadata": {},
     "outputs": [],
     "prompt_number": 11
    },
    {
     "cell_type": "code",
     "collapsed": false,
     "input": [
      "ru_stemmer = nltk.SnowballStemmer('russian')"
     ],
     "language": "python",
     "metadata": {},
     "outputs": [],
     "prompt_number": 12
    },
    {
     "cell_type": "code",
     "collapsed": false,
     "input": [
      "reverse_stem = {}\n",
      "for w in set(tokens):\n",
      "    if ru_stemmer.stem(w) not in reverse_stem:\n",
      "        reverse_stem[ru_stemmer.stem(w)] = []\n",
      "    reverse_stem[ru_stemmer.stem(w)].append(w)"
     ],
     "language": "python",
     "metadata": {},
     "outputs": [],
     "prompt_number": 13
    },
    {
     "cell_type": "code",
     "collapsed": false,
     "input": [
      "tok_stems = [ru_stemmer.stem(w) for w in tokens]"
     ],
     "language": "python",
     "metadata": {},
     "outputs": [],
     "prompt_number": 14
    },
    {
     "cell_type": "code",
     "collapsed": false,
     "input": [
      "text = nltk.text.Text(tokens)\n",
      "stem_text = nltk.text.Text(tok_stems)"
     ],
     "language": "python",
     "metadata": {},
     "outputs": [],
     "prompt_number": 15
    },
    {
     "cell_type": "markdown",
     "metadata": {},
     "source": [
      "Overall analysis\n",
      "================\n",
      "Looking at frequency of terms, graphs, etc. Overall NLP."
     ]
    },
    {
     "cell_type": "code",
     "collapsed": false,
     "input": [
      "freq = nltk.FreqDist(text)"
     ],
     "language": "python",
     "metadata": {},
     "outputs": [],
     "prompt_number": 16
    },
    {
     "cell_type": "code",
     "collapsed": false,
     "input": [
      "freq.plot(25,cumulative=True)"
     ],
     "language": "python",
     "metadata": {},
     "outputs": [
      {
       "output_type": "stream",
       "stream": "stderr",
       "text": [
        "/home/jeremy/anaconda3/lib/python3.4/site-packages/matplotlib/font_manager.py:1236: UserWarning: findfont: Font family ['Constantia'] not found. Falling back to Bitstream Vera Sans\n",
        "  (prop.get_family(), self.defaultFamily[fontext]))\n"
       ]
      },
      {
       "metadata": {},
       "output_type": "display_data",
       "png": "[encoded data removed]",
       "text": [
        "<matplotlib.figure.Figure at 0x7f5a0a8b4240>"
       ]
      }
     ],
     "prompt_number": 17
    },
    {
     "cell_type": "code",
     "collapsed": false,
     "input": [
      "#freq.most_common()"
     ],
     "language": "python",
     "metadata": {},
     "outputs": [],
     "prompt_number": 18
    },
    {
     "cell_type": "code",
     "collapsed": false,
     "input": [
      "stopwords = ['-',',','.','\u0430','\u0432','\u0438',';','\u043d\u0430','\u0412','\u0441','\u043f\u043e',':','\u0438\u0437'] # \"helper\" stopwords, to find significant text generally\n",
      "stopwords.extend(['\u0431\u044b\u0432\u0430','\u044f\u0440\u043c\u0430\u0440\u043a','\u043d\u0430\u043c\u0435\u0441\u0442\u043d\u0438\u0447\u0435\u0441\u0442\u0432','\u0433\u043e\u0440\u043e\u0434','\u043e\u043d','\u0433\u043e\u0434','\u0443\u0435\u0437\u0434','\u0437\u0434\u0435','\u0434\u0435\u043d','\u0441\u0435\u043b','\u043f\u0435\u0440\u0432','\u043f\u0440\u043e\u0447','\u0432\u0442\u043e\u0440','\u0430','\u043a\u043e\u0442\u043e\u0440','\u043c\u0435\u0441\u0442\u0435\u0447\u043a','\u0433\u043e\u0434\u043e\u0432','\u043d\u0435\u0434\u0435\u043b','\u043e\u0434\u043d','\u0434\u043d\u044f','\u0442\u0440\u0438','\u0434\u0432\u0435','\u043f\u0440\u0438\u0432\u043e\u0437','\u0442\u0440\u0435\u0442','\u0434\u0440\u0443\u0433','\u043d\u0435\u043c','\u043f\u044f\u0442\u043d\u0438\u0446','8','\u0441\u043b\u043e\u0431\u043e\u0434','\u0447\u0438\u0441\u043b','1','\u0442\u0430\u043a\u0436','\u0430\u0432\u0433\u0443\u0441\u0442','\u0432\u0441\u044f\u043a','\u0434\u0435\u0441\u044f\u0442','\u0434\u043b\u044f','\u0441\u0435\u043c','\u0436\u0438\u0442\u0435\u043b','\u0435\u0436\u0435\u043d\u0435\u0434\u0435\u043b\u044c\u043d','\u0447\u0435\u0442\u044b\u0440','\u0436\u0435','\u0442\u043e','6','\u0447\u0435\u0442\u0432\u0435\u0440\u0442','\u043a\u0430\u043a','\u0441\u044a\u0435\u0437\u0436\u0430','\u043c\u0435\u0441\u0442','9','\u0431\u043e\u043b\u044c\u0448','\u043d\u043e\u044f\u0431\u0440','\u043c\u0435\u0441\u044f\u0446','\u043e\u0431\u044b\u0432\u0430\u0442\u0435\u043b','\u043a\u0438\u0435\u0432\u0441\u043a','29','\u043f\u0440\u043e\u0434\u0430\u0436','\u043c\u043e\u043d\u0430\u0441\u0442\u044b\u0440','\u0434\u0435\u043a\u0430\u0431\u0440','\u0433\u0443\u0431\u0435\u0440\u043d','\u043c\u043e\u0441\u043a\u043e\u0432\u0441\u043a']) # words that aren't of interest to this analysis. can be replaced/commented out"
     ],
     "language": "python",
     "metadata": {},
     "outputs": [],
     "prompt_number": 19
    },
    {
     "cell_type": "code",
     "collapsed": false,
     "input": [
      "stopped_tokens = [w for w in tok_stems if w not in stopwords]"
     ],
     "language": "python",
     "metadata": {},
     "outputs": [],
     "prompt_number": 20
    },
    {
     "cell_type": "code",
     "collapsed": false,
     "input": [
      "stopped_text = nltk.text.Text(stopped_tokens)"
     ],
     "language": "python",
     "metadata": {},
     "outputs": [],
     "prompt_number": 21
    },
    {
     "cell_type": "code",
     "collapsed": false,
     "input": [
      "#nltk.FreqDist(stopped_text).most_common()"
     ],
     "language": "python",
     "metadata": {},
     "outputs": [],
     "prompt_number": 22
    },
    {
     "cell_type": "code",
     "collapsed": false,
     "input": [
      "top50 = [p[0] for p in nltk.FreqDist(stopped_text).most_common()][:50]"
     ],
     "language": "python",
     "metadata": {},
     "outputs": [],
     "prompt_number": 23
    },
    {
     "cell_type": "code",
     "collapsed": false,
     "input": [
      "nltk.FreqDist(stopped_text).plot(25,cumulative=True)"
     ],
     "language": "python",
     "metadata": {},
     "outputs": [
      {
       "metadata": {},
       "output_type": "display_data",
       "png": "[encoded data removed]",
       "text": [
        "<matplotlib.figure.Figure at 0x7f5a09c268d0>"
       ]
      }
     ],
     "prompt_number": 24
    },
    {
     "cell_type": "code",
     "collapsed": false,
     "input": [
      "#top50"
     ],
     "language": "python",
     "metadata": {},
     "outputs": [],
     "prompt_number": 25
    },
    {
     "cell_type": "code",
     "collapsed": true,
     "input": [
      "#[reverse_stem[w][0] for w in top50]"
     ],
     "language": "python",
     "metadata": {},
     "outputs": [],
     "prompt_number": 26
    },
    {
     "cell_type": "markdown",
     "metadata": {},
     "source": [
      "POS tagging\n",
      "===========\n",
      "Testing the waters of part of speech tagging. Not sure if it'll work with Russian."
     ]
    },
    {
     "cell_type": "code",
     "collapsed": false,
     "input": [
      "test = nltk.word_tokenize(\"\u0417\u041e\u041b\u041e\u0427\u0415\u0412, \u0433\u043e\u0440\u043e\u0434 \u0425\u0430\u0440\u044c\u043a\u043e\u0432\u0441\u043a\u043e\u0433\u043e \u041d\u0430\u043c\u0435\u0441\u0442\u043d\u0438\u0447\u0435\u0441\u0442\u0432\u0430. \u0417\u0434\u0435\u0441\u044c \u0431\u044b\u0432\u0430\u044e\u0442 \u044f\u0440\u043c\u0430\u0440\u043a\u0438 \u0418\u044e\u043d\u044f 29, \u0410\u0432\u0433\u0443\u0441\u0442\u0430 6, \u0414\u0435\u043a\u0430\u0431\u0440\u044f 6 ; \u0442\u043e\u0440\u0433\u0443\u044e\u0442 \u043a\u0443\u043f\u0446\u044b \u043c\u0435\u043b\u043e\u0447\u043d\u044b\u043c \u0442\u043e\u0432\u0430\u0440\u043e\u043c, \u0432\u0438\u043d\u043e\u043c, \u043f\u0438\u0432\u043e\u043c, \u043c\u0435\u0434\u043e\u043c \u0438 \u043f\u0440\u043e\u0447\u0438\u043c.\")"
     ],
     "language": "python",
     "metadata": {},
     "outputs": [],
     "prompt_number": 27
    },
    {
     "cell_type": "code",
     "collapsed": false,
     "input": [
      "nltk.pos_tag(test)"
     ],
     "language": "python",
     "metadata": {},
     "outputs": [
      {
       "metadata": {},
       "output_type": "pyout",
       "prompt_number": 28,
       "text": [
        "[('\u0417\u041e\u041b\u041e\u0427\u0415\u0412', 'NNP'),\n",
        " (',', ','),\n",
        " ('\u0433\u043e\u0440\u043e\u0434', 'NNP'),\n",
        " ('\u0425\u0430\u0440\u044c\u043a\u043e\u0432\u0441\u043a\u043e\u0433\u043e', 'NNP'),\n",
        " ('\u041d\u0430\u043c\u0435\u0441\u0442\u043d\u0438\u0447\u0435\u0441\u0442\u0432\u0430', 'NNP'),\n",
        " ('.', '.'),\n",
        " ('\u0417\u0434\u0435\u0441\u044c', 'NNP'),\n",
        " ('\u0431\u044b\u0432\u0430\u044e\u0442', 'NNP'),\n",
        " ('\u044f\u0440\u043c\u0430\u0440\u043a\u0438', 'NNP'),\n",
        " ('\u0418\u044e\u043d\u044f', 'NNP'),\n",
        " ('29', 'CD'),\n",
        " (',', ','),\n",
        " ('\u0410\u0432\u0433\u0443\u0441\u0442\u0430', 'NNP'),\n",
        " ('6', 'CD'),\n",
        " (',', ','),\n",
        " ('\u0414\u0435\u043a\u0430\u0431\u0440\u044f', 'NNP'),\n",
        " ('6', 'CD'),\n",
        " (';', ':'),\n",
        " ('\u0442\u043e\u0440\u0433\u0443\u044e\u0442', 'NNP'),\n",
        " ('\u043a\u0443\u043f\u0446\u044b', 'NNP'),\n",
        " ('\u043c\u0435\u043b\u043e\u0447\u043d\u044b\u043c', 'NNP'),\n",
        " ('\u0442\u043e\u0432\u0430\u0440\u043e\u043c', 'NNP'),\n",
        " (',', ','),\n",
        " ('\u0432\u0438\u043d\u043e\u043c', 'NNP'),\n",
        " (',', ','),\n",
        " ('\u043f\u0438\u0432\u043e\u043c', 'NNP'),\n",
        " (',', ','),\n",
        " ('\u043c\u0435\u0434\u043e\u043c', 'NNP'),\n",
        " ('\u0438', 'NNP'),\n",
        " ('\u043f\u0440\u043e\u0447\u0438\u043c', 'NNP'),\n",
        " ('.', '.')]"
       ]
      }
     ],
     "prompt_number": 28
    },
    {
     "cell_type": "markdown",
     "metadata": {},
     "source": [
      "Info extraction testbed\n",
      "=======================\n",
      "Where functions are tested before they are put into the main text processing.  \n",
      "Has some utility functions for common tasks."
     ]
    },
    {
     "cell_type": "code",
     "collapsed": false,
     "input": [
      "with open(\"../resources/reverse_stem.json\",\"w\",encoding='utf-8') as fp:\n",
      "    json.dump(reverse_stem,fp,indent=1,sort_keys=True)"
     ],
     "language": "python",
     "metadata": {},
     "outputs": [],
     "prompt_number": 29
    },
    {
     "cell_type": "code",
     "collapsed": false,
     "input": [
      "def alternify(word):\n",
      "    \"\"\"Not easily movable. Returns a list of all alternate forms of a word based on its stemmed form and all other words appearing \n",
      "    in the text that stem to the same form.\"\"\"\n",
      "    alternates = reverse_stem[ru_stemmer.stem(word)]\n",
      "    return alternates"
     ],
     "language": "python",
     "metadata": {},
     "outputs": [],
     "prompt_number": 66
    },
    {
     "cell_type": "code",
     "collapsed": false,
     "input": [
      "def lev_close(word,maxdist=3):\n",
      "    \"\"\"Not easily movable. Prints words that appear within the text that are within the given edit distance from the given word.\"\"\"\n",
      "    test = list(set(tokens))\n",
      "    test.sort()\n",
      "    print(\"0: {}\".format(word))\n",
      "    for w in test:\n",
      "        for s in range(1,maxdist+1):\n",
      "            if nltk.metrics.edit_distance(word,w)==s:\n",
      "                print(\"{}: {}\".format(s,w))"
     ],
     "language": "python",
     "metadata": {},
     "outputs": [],
     "prompt_number": 31
    },
    {
     "cell_type": "code",
     "collapsed": false,
     "input": [
      "lev_close(\"\u043b\u0438\u0432\u043e\u043c\",maxdist=2)"
     ],
     "language": "python",
     "metadata": {},
     "outputs": [
      {
       "output_type": "stream",
       "stream": "stdout",
       "text": [
        "0: \u043b\u0438\u0432\u043e\u043c\n",
        "2: \u0432\u0438\u043d\u043e\u043c"
       ]
      },
      {
       "output_type": "stream",
       "stream": "stdout",
       "text": [
        "\n",
        "2: \u043b\u0430\u0432\u043e\u043a"
       ]
      },
      {
       "output_type": "stream",
       "stream": "stdout",
       "text": [
        "\n",
        "2: \u043b\u0435\u0441\u043e\u043c\n",
        "2: \u043b\u0438\u0435\u043c\n",
        "2: \u043b\u044c\u043d\u043e\u043c\n",
        "1: \u043f\u0438\u0432\u043e\u043c"
       ]
      },
      {
       "output_type": "stream",
       "stream": "stdout",
       "text": [
        "\n"
       ]
      }
     ],
     "prompt_number": 32
    },
    {
     "cell_type": "code",
     "collapsed": false,
     "input": [
      "monthlist = [\"\u0413\u0435\u043d\u0432\u0430\u0440\u044f\",\"\u0424\u0435\u0432\u0440\u0430\u043b\u044f\",\"\u041c\u0430\u0440\u0442\u0430\",\"\u0410\u043f\u0440\u0435\u043b\u044f\",\"\u041c\u0430\u044f\",\"\u0418\u044e\u043d\u044f\",\"\u0418\u044e\u043b\u044f\",\"\u0410\u0432\u0433\u0443\u0441\u0442\u0430\",\"\u0421\u0435\u043d\u0442\u044f\u0431\u0440\u044f\",\"\u041e\u043a\u0442\u044f\u0431\u0440\u044f\",\"\u041d\u043e\u044f\u0431\u0440\u044f\",\"\u0414\u0435\u043a\u0430\u0431\u0440\u044f\"]"
     ],
     "language": "python",
     "metadata": {},
     "outputs": [],
     "prompt_number": 33
    },
    {
     "cell_type": "code",
     "collapsed": false,
     "input": [
      "for m in monthlist:\n",
      "    lev_close(m,maxdist=1)"
     ],
     "language": "python",
     "metadata": {},
     "outputs": [
      {
       "output_type": "stream",
       "stream": "stdout",
       "text": [
        "0: \u0413\u0435\u043d\u0432\u0430\u0440\u044f\n",
        "1: \u0413\u0435\u043d\u0432\u0430\u0440\u0435"
       ]
      },
      {
       "output_type": "stream",
       "stream": "stdout",
       "text": [
        "\n",
        "0: \u0424\u0435\u0432\u0440\u0430\u043b\u044f"
       ]
      },
      {
       "output_type": "stream",
       "stream": "stdout",
       "text": [
        "\n",
        "1: \u0424\u0435\u0432\u0440\u0430\u043b\u0435"
       ]
      },
      {
       "output_type": "stream",
       "stream": "stdout",
       "text": [
        "\n",
        "0: \u041c\u0430\u0440\u0442\u0430"
       ]
      },
      {
       "output_type": "stream",
       "stream": "stdout",
       "text": [
        "\n",
        "1: \u041c\u0430\u0440\u0442\u0435"
       ]
      },
      {
       "output_type": "stream",
       "stream": "stdout",
       "text": [
        "\n",
        "0: \u0410\u043f\u0440\u0435\u043b\u044f"
       ]
      },
      {
       "output_type": "stream",
       "stream": "stdout",
       "text": [
        "\n",
        "1: \u0410\u043f\u0440\u0435\u043b\u0435\n",
        "0: \u041c\u0430\u044f"
       ]
      },
      {
       "output_type": "stream",
       "stream": "stdout",
       "text": [
        "\n",
        "0: \u0418\u044e\u043d\u044f"
       ]
      },
      {
       "output_type": "stream",
       "stream": "stdout",
       "text": [
        "\n",
        "1: \u0418\u044e\u043b\u044f"
       ]
      },
      {
       "output_type": "stream",
       "stream": "stdout",
       "text": [
        "\n",
        "1: \u0418\u044e\u043d\u0435\n",
        "0: \u0418\u044e\u043b\u044f"
       ]
      },
      {
       "output_type": "stream",
       "stream": "stdout",
       "text": [
        "\n",
        "1: \u0418\u044e\u043b\u0435"
       ]
      },
      {
       "output_type": "stream",
       "stream": "stdout",
       "text": [
        "\n",
        "1: \u0418\u044e\u043d\u044f\n",
        "0: \u0410\u0432\u0433\u0443\u0441\u0442\u0430"
       ]
      },
      {
       "output_type": "stream",
       "stream": "stdout",
       "text": [
        "\n",
        "1: \u0410\u0432\u0433\u0443\u0441\u0442\u0435\n",
        "0: \u0421\u0435\u043d\u0442\u044f\u0431\u0440\u044f"
       ]
      },
      {
       "output_type": "stream",
       "stream": "stdout",
       "text": [
        "\n",
        "1: \u0421\u0435\u043d\u0442\u044f\u0431\u0440\u0435"
       ]
      },
      {
       "output_type": "stream",
       "stream": "stdout",
       "text": [
        "\n",
        "0: \u041e\u043a\u0442\u044f\u0431\u0440\u044f"
       ]
      },
      {
       "output_type": "stream",
       "stream": "stdout",
       "text": [
        "\n",
        "1: \u041e\u043a\u0442\u044f\u0431\u0440\u0435"
       ]
      },
      {
       "output_type": "stream",
       "stream": "stdout",
       "text": [
        "\n",
        "1: \u041e\u043a\u0442\u044f\u0431\u0440\u044c\n",
        "0: \u041d\u043e\u044f\u0431\u0440\u044f"
       ]
      },
      {
       "output_type": "stream",
       "stream": "stdout",
       "text": [
        "\n",
        "1: \u041d\u043e\u044f\u0431\u0440\u0435"
       ]
      },
      {
       "output_type": "stream",
       "stream": "stdout",
       "text": [
        "\n",
        "0: \u0414\u0435\u043a\u0430\u0431\u0440\u044f"
       ]
      },
      {
       "output_type": "stream",
       "stream": "stdout",
       "text": [
        "\n",
        "1: \u0414\u0435\u043a\u0430\u0431\u0440\u0435"
       ]
      },
      {
       "output_type": "stream",
       "stream": "stdout",
       "text": [
        "\n"
       ]
      }
     ],
     "prompt_number": 34
    },
    {
     "cell_type": "code",
     "collapsed": false,
     "input": [
      "nom_monthlist = ['\u0413\u0435\u043d\u0432\u0430\u0440\u0435','\u0424\u0435\u0432\u0440\u0430\u043b\u0435','\u041c\u0430\u0440\u0442\u0435','\u0410\u043f\u0440\u0435\u043b\u0435','\u041c\u0430\u0438\u0435','\u0418\u044e\u043d\u0435','\u0418\u044e\u043b\u0435','\u0410\u0432\u0433\u0443\u0441\u0442\u0435','\u0421\u0435\u043d\u0442\u044f\u0431\u0440\u0435','\u041e\u043a\u0442\u044f\u0431\u0440\u0435','\u041d\u043e\u044f\u0431\u0440\u0435','\u0414\u0435\u043a\u0430\u0431\u0440\u0435']"
     ],
     "language": "python",
     "metadata": {},
     "outputs": [],
     "prompt_number": 35
    },
    {
     "cell_type": "code",
     "collapsed": false,
     "input": [
      "month = monthlist[5]"
     ],
     "language": "python",
     "metadata": {},
     "outputs": [],
     "prompt_number": 36
    },
    {
     "cell_type": "code",
     "collapsed": false,
     "input": [
      "alternify(\"\u043c\u043e\u0441\u043a\u0430\u0442\u0435\u043b\u044c\u043d\u044b\u0435\")"
     ],
     "language": "python",
     "metadata": {},
     "outputs": [
      {
       "metadata": {},
       "output_type": "pyout",
       "prompt_number": 37,
       "text": [
        "['\u043c\u043e\u0441\u043a\u0430\u0442\u0435\u043b\u044c\u043d\u044b\u0435', '\u043c\u043e\u0441\u043a\u0430\u0442\u0435\u043b\u044c\u043d\u044b\u043c']"
       ]
      }
     ],
     "prompt_number": 37
    },
    {
     "cell_type": "code",
     "collapsed": false,
     "input": [
      "\"|\".join(alternify(\"\u0435\u0436\u0435\u043d\u0435\u0434\u0435\u043b\u044c\u043d\u044b\u0435\"))"
     ],
     "language": "python",
     "metadata": {},
     "outputs": [
      {
       "metadata": {},
       "output_type": "pyout",
       "prompt_number": 38,
       "text": [
        "'\u0435\u0436\u0435\u043d\u0435\u0434\u0435\u043b\u044c\u043d\u044b\u0435|\u0435\u0436\u0435\u043d\u0435\u0434\u0435\u043b\u044c\u043d\u044b\u0439|\u0435\u0436\u0435\u043d\u0435\u0434\u0435\u043b\u044c\u043d\u043e\u0439|\u0435\u0436\u0435\u043d\u0435\u0434\u0435\u043b\u044c\u043d\u044b\u0445|\u0435\u0436\u0435\u043d\u0435\u0434\u0435\u043b\u044c\u043d\u043e\u0433\u043e|\u0435\u0436\u0435\u043d\u0435\u0434\u0435\u043b\u044c\u043d\u043e'"
       ]
      }
     ],
     "prompt_number": 38
    },
    {
     "cell_type": "code",
     "collapsed": false,
     "input": [
      "text.concordance('\u0435\u0436\u0435\u043d\u0435\u0434\u0435\u043b\u044c\u043d\u044b\u0435',width=124,lines=300)"
     ],
     "language": "python",
     "metadata": {},
     "outputs": [
      {
       "output_type": "stream",
       "stream": "stdout",
       "text": [
        "Displaying 24 of 24 matches:\n",
        "\u0442\u043e\u0433\u043e \u0414\u0443\u0445\u0430 , \u0432\u0442\u043e\u0440\u0430\u044f \u041d\u043e\u044f\u0431\u0440\u044f 8 \u0447\u0438\u0441\u043b\u0430 ; \u0442\u043e\u0440\u0433\u0443\u044e\u0442 \u043d\u0430 \u043e\u043d\u044b\u0445 \u0438 \u0432 \u0435\u0436\u0435\u043d\u0435\u0434\u0435\u043b\u044c\u043d\u044b\u0435 \u043f\u043e \u0412\u043e\u0441\u043a\u0440\u0435\u0441\u0435\u043d\u044c\u044f\u043c \u0441\u044a\u0435\u0437\u0434\u044b \u043f\u0440\u0438\u0435\u0437\u0436\u0438\u0435 \u0438\u0437 \u0443\u0435\u0437\u0434\u0443 \u0436\u0438\u0442\u0435\u043b\u0438 \u0440\u0430\u0437\u043d\u044b\u043c\u0438\n",
        " \u043a\u0440\u0430\u0441\u043d\u044b\u043c\u0438 \u0438 \u0434\u0440\u0443\u0433\u0438\u043c\u0438 \u043c\u0435\u043b\u043e\u0447\u043d\u044b\u043c\u0438 \u0442\u043e\u0432\u0430\u0440\u0430\u043c\u0438 , \u0442\u0430\u043a\u0436\u0435 \u0431\u044b\u0432\u0430\u044e\u0442 \u0438 \u0435\u0436\u0435\u043d\u0435\u0434\u0435\u043b\u044c\u043d\u044b\u0435 \u0442\u043e\u0440\u0436\u043a\u0438 . \u0420\u041e\u0421\u0422\u041e\u0412 , \u0433\u043e\u0440\u043e\u0434 \u042f\u0440\u043e\u0441\u043b\u0430\u0432\u0441\u043a\u043e\u0433\u043e \u041d\u0430\u043c\u0435\u0441\u0442\u043d\u0438\u0447\u0435\u0441\u0442\u0432\u0430 . \u0411\n",
        "\u0441\u043a\u0438\u0445 \u0433\u043e\u0440\u043e\u0434\u043e\u0432 \u043a\u0443\u043f\u0446\u044b \u0441 \u043a\u0440\u0430\u0441\u043d\u044b\u043c\u0438 \u0442\u043e\u0432\u0430\u0440\u0430\u043c\u0438 . \u0417\u0434\u0435\u0441\u044c \u0431\u044b\u0432\u0430\u044e\u0442 \u0438 \u0435\u0436\u0435\u043d\u0435\u0434\u0435\u043b\u044c\u043d\u044b\u0435 \u0442\u043e\u0440\u0433\u0438 . \u0421\u041e\u0421\u041d\u0418\u0426\u0410 , \u0441 1782 \u0433\u043e\u0434\u0443 \u0433\u043e\u0440\u043e\u0434 \u041d\u043e\u0432\u043e\u0433\u043e\u0440\u043e\u0434\u0441\u043a\u043e\u0433\u043e - \u0421\u0435\n",
        ", \u0442\u0440\u0435\u0442\u0438\u044f \u0432 \u0434\u0435\u043d\u044c \u0412\u043e\u0437\u0434\u0432\u0438\u0436\u0435\u043d\u0438\u044f \u0447\u0435\u0441\u0442\u043d\u043e\u0433\u043e \u043a\u0440\u0435\u0441\u0442\u0430 . \u041d\u0430 \u043e\u043d\u044b\u0435 \u0438 \u0435\u0436\u0435\u043d\u0435\u0434\u0435\u043b\u044c\u043d\u044b\u0435 \u0441\u044a\u0435\u0437\u0434\u044b \u043f\u0440\u0438\u0435\u0437\u0436\u0430\u044e\u0442 \u043e\u043a\u043e\u043b\u044c\u043d\u044b\u0435 \u0436\u0438\u0442\u0435\u043b\u0438 , \u0438 \u0442\u043e\u0440\u0433\u0443\u044e\u0442 \u0445\u043b\u0435\u0431\u043e\u043c , \u0441\n",
        "\u0447\u0435\u0441\u0442\u0432\u0430 \u0432 \u0421\u0442\u0430\u0440\u043e\u0434\u0443\u0431\u043e\u0432\u0441\u043a\u043e\u043c \u0443\u0435\u0437\u0434\u0435 . \u0412 \u043e\u043d\u043e\u043c \u0431\u044b\u0432\u0430\u044e\u0442 \u043d\u0435\u0431\u043e\u043b\u044c\u0448\u0438\u0435 \u0435\u0436\u0435\u043d\u0435\u0434\u0435\u043b\u044c\u043d\u044b\u0435 \u0442\u043e\u0440\u0436\u043a\u0438 . \u041c\u0410\u042f\u041a\u0418 , \u0441\u0435\u043b\u043e \u0425\u0430\u0440\u044c\u043a\u043e\u0432\u0441\u043a\u043e\u0433\u043e \u041d\u0430\u043c\u0435\u0441\u0442\u043d\u0438\u0447\u0435\u0441\u0442\u0432\u0430 \u0432 \u0443\u0435\u0437\n",
        " \u043f\u043e \u041a\u0443\u0431\u0435\u043d\u0435\u043e\u043a\u043c\u0443 \u0437\u0430\u043e\u0437\u0435\u0440\u044c\u044e . \u0412 \u0432\u043e\u0441\u043a\u0440\u0435\u0441\u043d\u044b\u0435 \u0434\u043d\u0438 \u0431\u044b\u0432\u0430\u044e\u0442 \u0437\u0434\u0435\u0441\u044c \u0435\u0436\u0435\u043d\u0435\u0434\u0435\u043b\u044c\u043d\u044b\u0435 \u0442\u043e\u0440\u0433\u0438 . \u0415\u041a\u0410\u0422\u0415\u0420\u0418\u041d\u0418\u041d\u0421\u041a\u0410\u042f , \u0425\u0410\u041b\u0410\u041d\u042c \u0442\u043e\u0436\u044c , \u0441\u043b\u043e\u0431\u043e\u0434\u0430 \u041a\u0438\u0435\u0432\u0441\u043a\u043e\u0433\n",
        "\u0430\u0435\u0442 \u044f\u0440\u043c\u0430\u0440\u043a\u0430 \u0432 \u043f\u0440\u0430\u0437\u0434\u043d\u0438\u043a \u0443\u0441\u043f\u0435\u043d\u0438\u044f \u041f\u0440\u0435\u0441\u0432\u044f\u0442\u044b\u0435 \u0411\u043e\u0433\u043e\u0440\u043e\u0434\u0438\u0446\u044b , \u0430 \u0435\u0436\u0435\u043d\u0435\u0434\u0435\u043b\u044c\u043d\u044b\u0435 \u0442\u043e\u0440\u0433\u0438 \u043f\u043e \u043f\u043e\u043d\u0435\u0434\u0435\u043b\u044c\u043d\u0438\u043a\u0430\u043c . \u0423\u0421\u0422\u0418\u0412\u0418\u0426\u0410 , \u043c\u0435\u0441\u0442\u0435\u0447\u043a\u043e \u041a\u0438\u0435\u0432\u0441\u043a\u043e\u0433\u043e \n",
        "\u0441\u0435\u043d\u043e\u043c , \u0434\u0435\u0433\u0442\u0435\u043c \u0438 \u043f\u0440\u043e\u0447\u0438\u043c\u0438 \u043c\u0435\u043b\u043e\u0447\u043d\u044b\u043c\u0438 . \u0417\u0434\u0435\u0441\u044c \u0431\u044b\u0432\u0430\u044e\u0442 \u0442\u0430\u043a\u0436\u0435 \u0435\u0436\u0435\u043d\u0435\u0434\u0435\u043b\u044c\u043d\u044b\u0435 \u0442\u043e\u0440\u0436\u043a\u0438 \u0432 \u043f\u043e\u043d\u0435\u0434\u0435\u043b\u044c\u043d\u0438\u043a \u0438 \u043f\u044f\u0442\u043e\u043a . \u0421\u0422\u0410\u0412\u0420\u041e\u041f\u041e\u041b\u042c , \u0441 1780 \u0433\u043e\u0434\u0443\n",
        "\u044b\u043c \u0441\u043a\u043e\u0442\u043e\u043c , \u0445\u043b\u0435\u0431\u043e\u043c \u0438 \u0441\u044a\u0435\u0441\u0442\u043d\u044b\u043c\u0438 \u043f\u0440\u0438\u043f\u0430\u0441\u0430\u043c\u0438 . \u0417\u0434\u0435\u0441\u044c \u0431\u044b\u0432\u0430\u044e\u0442 \u0435\u0436\u0435\u043d\u0435\u0434\u0435\u043b\u044c\u043d\u044b\u0435 \u0442\u043e\u0440\u0436\u043a\u0438 \u0432 \u043f\u043e\u043d\u0435\u0434\u0435\u043b\u044c\u043d\u0438\u043a \u0438 \u043f\u044f\u0442\u043e\u043a , \u0438 \u0442\u043e\u0440\u0433\u0443\u044e\u0442 \u0431\u043e\u043b\u044c\u0448\u0435\u044e \u0447\u0430\u0441\u0442\u0438\u044e\n",
        "\u044c \u041f\u0440\u0435\u043f\u043e\u0434\u043e\u0431\u043d\u044b\u0435 \u041f\u0430\u0440\u0430\u0441\u043a\u0435\u0432\u044b . \u041d\u0430 \u043e\u043d\u044b\u0445 \u044f\u0440\u043c\u0430\u0440\u043a\u0430\u0445 \u0438 \u0432 \u0442\u043e\u0440\u0433\u043e\u0432\u044b\u0435 \u0435\u0436\u0435\u043d\u0435\u0434\u0435\u043b\u044c\u043d\u044b\u0435 \u0434\u043d\u0438 \u0442\u043e\u0440\u0433\u0443\u044e\u0442 \u0445\u043b\u0435\u0431\u043e\u043c , \u043c\u0435\u0434\u043e\u043c , \u0432\u043e\u0441\u043a\u043e\u043c , \u0442\u0430\u0431\u0430\u043a\u043e\u043c , \u0441\u0430\u043b\u043e\u043c ,\n",
        " \u043a\u0440\u0430\u0441\u043d\u044b\u043d\u0438 \u0438 \u0434\u0440\u0443\u0433\u0438\u043c\u0438 \u043c\u0435\u043b\u043e\u0447\u043d\u044b\u043c\u0438 \u0442\u043e\u0432\u0430\u0440\u0430\u043c\u0438 ; \u0442\u0430\u043a\u0436\u0435 \u0431\u044b\u0432\u0430\u044e\u0442 \u0438 \u0435\u0436\u0435\u043d\u0435\u0434\u0435\u043b\u044c\u043d\u044b\u0435 \u0442\u043e\u0440\u0436\u043a\u0438 . \u0421\u0418\u041d\u0411\u0418\u0420\u0421\u041a , \u0441 1782 \u0433\u043e\u0434\u0443 \u0433\u043b\u0430\u0432\u043d\u044b\u0439 \u0433\u043e\u0440\u043e\u0434 \u041d\u0430\u043c\u0435\u0441\u0442\u043d\u0438\u0447\n",
        "\u043a\u043e \u0427\u0435\u0440\u043d\u0438\u0433\u043e\u0432\u0441\u043a\u043e\u0433\u043e \u041d\u0430\u043c\u0435\u0441\u0442\u043d\u0438\u0447\u0435\u0441\u0442\u0432\u0430 \u0438 \u0443\u0435\u0437\u0434\u0443 . \u0412 \u043e\u043d\u043e\u043c \u0431\u044b\u0432\u0430\u044e\u0442 \u0435\u0436\u0435\u043d\u0435\u0434\u0435\u043b\u044c\u043d\u044b\u0435 \u043f\u043e \u0441\u0443\u0431\u0431\u043e\u0442\u0430\u043c \u0442\u043e\u0440\u0436\u043a\u0438 , \u043d\u0430 \u043a\u043e\u0442\u043e\u0440\u044b\u0445 \u0442\u043e\u0440\u0433\u0443\u044e\u0442 \u043e\u043a\u043e\u043b\u044c\u043d\u044b\u0435 \u0436\u0438\u0442\u0435\u043b\u0438\n",
        "\u043a\u043e\u0440\u043e\u0441\u0441\u0438\u0439\u0441\u043a\u0438\u0435 \u043a\u0443\u043f\u0446\u044b \u0441 \u043a\u0440\u0430\u0441\u043d\u044b\u043c\u0438 \u0442\u043e\u0432\u0430\u0440\u0430\u043c\u0438 . \u0417\u0434\u0435\u0441\u044c \u0431\u044b\u0432\u0430\u044e\u0442 \u0438 \u0435\u0436\u0435\u043d\u0435\u0434\u0435\u043b\u044c\u043d\u044b\u0435 \u0442\u043e\u0440\u0433\u0438 . \u0413\u041e\u0420\u041e\u0414\u041d\u042f , \u043c\u0435\u0441\u0442\u0435\u0447\u043a\u043e \u041c\u043e\u0433\u0438\u043b\u0435\u0432\u0441\u043a\u043e\u0433\u043e \u041d\u0430\u043c\u0435\u0441\u0442\u043d\u0438\u0447\u0435\u0441\u0442\u0432\u0430 \n",
        "\u044f\u0431\u0440\u044f 14 , \u0432 \u0434\u0435\u043d\u044c \u0421\u0432 . \u041f\u0430\u0440\u0430\u0441\u043a\u0435\u0432\u044b ; \u043d\u0430 \u043e\u043d\u044b\u0435 \u0438 \u0432 \u0441\u0443\u0431\u0431\u043e\u0442\u043d\u0438\u0435 \u0435\u0436\u0435\u043d\u0435\u0434\u0435\u043b\u044c\u043d\u044b\u0435 \u043e\u0442 \u0441\u0432\u043e\u0431\u043e\u0434\u043d\u043e\u0441\u0442\u044c \u0442\u043e\u0432\u0430\u0440\u044b \u0441\u0432\u043e\u0438 \u0432 \u043e\u0442\u043a\u0440\u044b\u0442\u044b\u0445 \u0434\u0430\u0432\u043a\u0430\u0445 \u0434\u0435\u0440\u0436\u0430\u0442\u044c , \n",
        "\u0443\u0433\u0438\u0435 , \u0445\u043e\u043b\u0441\u0442 , \u043a\u0430\u043d\u0430\u0442\u044b \u0438 \u043f\u0443\u0448\u043d\u044b\u0435 \u0440\u0430\u0437\u043d\u043e\u0433\u043e \u0440\u043e\u0434\u0430 \u0442\u043e\u0432\u0430\u0440\u044b . \u041d\u0430 \u0435\u0436\u0435\u043d\u0435\u0434\u0435\u043b\u044c\u043d\u044b\u0435 \u0442\u043e\u0440\u0433\u0438 \u0441\u043e\u0431\u0438\u0440\u0430\u044e\u0442\u0441\u044f \u0432 \u043e\u043d\u043e\u0439 \u0433\u043e\u0440\u043e\u0434 \u0443\u0435\u0437\u0434\u043d\u044b\u0435 \u0436\u0438\u0442\u0435\u043b\u0438 , \u0438 \u0442\u043e\u0440\u0433\u0443\u044e\n",
        "\u0430 \u0432 \u0411\u0435\u0436\u0435\u0446\u043a\u043e\u043c \u0443\u0435\u0437\u0434\u0435 . \u0417\u0434\u0435\u0441\u044c \u043a\u0440\u043e\u043c\u0435 \u0433\u043e\u0434\u043e\u0432\u043e\u0439 \u044f\u0440\u043c\u0430\u0440\u043a\u0438 \u0431\u044b\u0432\u0430\u044e\u0442 \u0435\u0436\u0435\u043d\u0435\u0434\u0435\u043b\u044c\u043d\u044b\u0435 \u0442\u043e\u0440\u0436\u043a\u0438 , \u043d\u0430 \u043a\u043e\u0442\u043e\u0440\u044b\u0435 \u0438\u0437 \u0443\u0435\u0437\u0434\u043e\u0432 \u043e\u0431\u044b\u0432\u0430\u0442\u0435\u043b\u0438 \u043f\u0440\u0438\u0432\u043e\u0437\u044f\u0442 \u0432\u0441\u044f\u043a\u043e\u0439\n",
        "\u043a\u043e\u0440\u043e\u0441\u0441\u0438\u0439\u0441\u043a\u0438\u0435 \u043a\u0443\u043f\u0446\u044b \u0441 \u043a\u0440\u0430\u0441\u043d\u044b\u043c\u0438 \u0442\u043e\u0432\u0430\u0440\u0430\u043c\u0438 ; \u0437\u0434\u0435\u0441\u044c \u0431\u044b\u0432\u0430\u044e\u0442 \u0438 \u0435\u0436\u0435\u043d\u0435\u0434\u0435\u043b\u044c\u043d\u044b\u0435 \u0442\u043e\u0440\u0433\u0438 . \u0425\u041e\u0422\u0415\u041d\u042c , \u0441\u0435\u043b\u043e \u0425\u0430\u0440\u044c\u043a\u043e\u0432\u0441\u043a\u043e\u0433\u043e \u041d\u0430\u043c\u0435\u0441\u0442\u043d\u0438\u0447\u0435\u0441\u0442\u0432\u0430 \u0432 \u0421\u0443\u043c\n",
        "\u043a\u043e \u0427\u0435\u0440\u043d\u0438\u0433\u043e\u0432\u0441\u043a\u043e\u0433\u043e \u041d\u0430\u043c\u0435\u0441\u0442\u043d\u0438\u0447\u0435\u0441\u0442\u0432\u0430 \u0438 \u0443\u0435\u0437\u0434\u0443 . \u0412 \u043e\u043d\u043e\u043c \u0431\u044b\u0432\u0430\u044e\u0442 \u0435\u0436\u0435\u043d\u0435\u0434\u0435\u043b\u044c\u043d\u044b\u0435 \u0442\u043e\u0440\u0436\u043a\u0438 , \u043d\u0430 \u043a\u043e\u0442\u043e\u0440\u044b\u0445 \u0442\u043e\u0440\u0433 \u043f\u0440\u043e\u0438\u0437\u0432\u043e\u0434\u0438\u0442\u0441\u044f \u043e\u043a\u043e\u043b\u044c\u043d\u044b\u043c\u0438 \u0436\u0438\u0442\u0435\u043b\u044f\u043c\n",
        "\u043e\u0433\u043e \u041d\u0430\u043c\u0435\u0441\u0442\u043d\u0438\u0447\u0435\u0441\u0442\u0432\u0430 \u0432 \u041c\u0438\u0440\u0433\u043e\u0440\u043e\u0434\u0441\u043a\u043e\u043c \u0443\u0435\u0437\u0434\u0435 . \u0412 \u043e\u043d\u043e\u043c \u0431\u044b\u0432\u0430\u044e\u0442 \u0435\u0436\u0435\u043d\u0435\u0434\u0435\u043b\u044c\u043d\u044b\u0435 \u043f\u043e \u0412\u043e\u0441\u043a\u0440\u0435\u0441\u044f\u043d\u044c\u044f\u043c \u0442\u043e\u0440\u0436\u043a\u0438 , \u043d\u0430 \u043a\u043e\u0442\u043e\u0440\u044b\u0445 \u0442\u043e\u0440\u0433\u0443\u044e\u0442 \u043f\u0440\u0438\u0435\u0437\u0436\u0438\u0435 \u0438\u0437\n",
        " \u0441\u043a\u043e\u0442\u043e\u043c , \u0445\u043b\u0435\u0431\u043e\u043c \u0438 \u0441\u044a\u0435\u0441\u0442\u043d\u044b\u043c\u0438 \u043f\u0440\u0438\u043f\u0430\u0441\u0430\u043c\u0438 . \u0417\u0434\u0435\u0441\u044c \u0431\u044b\u0432\u0430\u044e\u0442 \u0438 \u0435\u0436\u0435\u043d\u0435\u0434\u0435\u043b\u044c\u043d\u044b\u0435 \u0442\u043e\u0440\u0436\u043a\u0438 \u0432 \u043f\u043e\u043d\u0435\u0434\u0435\u043b\u044c\u043d\u0438\u043a \u0438 \u043f\u044f\u0442\u043e\u043a , \u0438 \u0442\u043e\u0440\u0433\u0443\u044e\u0442 \u043d\u0430 \u043e\u043d\u044b\u0445 \u0445\u043b\u0435\u0431\u043e\u043c\n",
        "\u043d\u0430 \u0425\u043e\u043b\u043c\u0443 \u041a\u0435\u0441\u043e\u0432\u0435 \u0433\u043e\u0440\u0435 , \u041c\u043e\u043b\u043e\u0434\u043e\u0432\u0435 \u0438 \u041f\u043e\u0440\u0435\u0447\u044c\u0435 , \u0432 \u043a\u043e\u0442\u043e\u0440\u044b\u0445 \u0438 \u0435\u0436\u0435\u043d\u0435\u0434\u0435\u043b\u044c\u043d\u044b\u0435 \u0442\u043e\u0440\u0433\u0438 \u0431\u044b\u0432\u0430\u044e\u0442 , \u043d\u0430 \u0425\u043e\u043b\u043c\u0443 \u0432\u043e \u0432\u0442\u043e\u0440\u043d\u0438\u043a , \u0432 \u041c\u043e\u043b\u043e\u0434\u043e\u0432\u0435 \u0432 \u0441\u0440\u0435\u0434\u0443\n",
        "\u0434\u0435 . \u043f\u0440\u043e\u0447\u0435\u044e \u043a\u0440\u0435\u0441\u0442\u044c\u044f\u043d\u0441\u043a\u043e\u044e \u043c\u0435\u043b\u043e\u0447\u044c\u044e . \u0417\u0434\u0435\u0441\u044c \u0442\u0430\u043a\u0436\u0435 \u0431\u044b\u0432\u0430\u044e\u0442 \u0438 \u0435\u0436\u0435\u043d\u0435\u0434\u0435\u043b\u044c\u043d\u044b\u0435 \u0442\u043e\u0440\u0436\u043a\u0438 \u0432 \u043f\u043e\u043d\u0435\u0434\u0435\u043b\u044c\u043d\u0438\u043a \u0438 \u043f\u044f\u0442\u043e\u043a . \u0418\u041e\u0421\u0418\u0424\u041e\u0412 , \u043c\u043e\u043d\u0430\u0441\u0442\u044b\u0440\u044c \u041c\u043e\u0441\u043a\n",
        "\u0441\u0441\u0438\u0439\u0441\u043a\u0438\u0435 \u043a\u0443\u043f\u0446\u044b \u0441 \u043a\u0440\u0430\u0441\u043d\u044b\u043c \u0442\u043e\u0432\u0430\u0440\u043e\u043c . \u0417\u0434\u0435\u0441\u044c \u0431\u044b\u0432\u0430\u044e\u0442 \u0442\u0430\u043a\u0436\u0435 \u0438 \u0435\u0436\u0435\u043d\u0435\u0434\u0435\u043b\u044c\u043d\u044b\u0435 \u0442\u043e\u0440\u0436\u043a\u0438 . \u041e\u0421\u0422\u0410\u0428\u041a\u041e\u0412 , \u0433\u043e\u0440\u043e\u0434 \u0422\u0432\u0435\u0440\u0441\u043a\u043e\u0433\u043e \u041d\u0430\u043c\u0435\u0441\u0442\u043d\u0438\u0447\u0435\u0441\u0442\u0432\u0430 . \u0412 \n",
        "\u044f\u0442\u0443\u044e \u043f\u044f\u0442\u043d\u0438\u0446\u0443 , \u0434\u0440\u0443\u0433\u0430\u044f \u0418\u044e\u043b\u044f 27 \u0434\u043d\u044f . \u0422\u043e\u0440\u0433\u0443\u044e\u0442 \u043d\u0430 \u043e\u043d\u044b\u0445 \u0438 \u0432 \u0435\u0436\u0435\u043d\u0435\u0434\u0435\u043b\u044c\u043d\u044b\u0435 \u0442\u043e\u0440\u0436\u043a\u0438 \u043f\u0440\u0438\u0435\u0437\u0436\u0438\u0435 \u0438\u0437 \u0443\u0435\u0437\u0434\u0443 \u0436\u0438\u0442\u0435\u043b\u0438 \u0440\u0430\u0437\u043d\u044b\u043c\u0438 \u043c\u0435\u043b\u043e\u0447\u043d\u044b\u043c\u0438 \u0442\u043e\u0432\u0430\u0440\n"
       ]
      }
     ],
     "prompt_number": 39
    },
    {
     "cell_type": "code",
     "collapsed": false,
     "input": [
      "print(\"(({})\\s+\u043f\u043e\\s+{})\".format(\"|\".join(alternify(\"\u0435\u0436\u0435\u043d\u0435\u0434\u0435\u043b\u044c\u043d\u044b\u0435\")),\"|\".join(alternify(\"\u0412\u043e\u0441\u043a\u0440\u0435\u0441\u0435\u043d\u044c\u044f\u043c\"))))"
     ],
     "language": "python",
     "metadata": {},
     "outputs": [
      {
       "output_type": "stream",
       "stream": "stdout",
       "text": [
        "((\u0435\u0436\u0435\u043d\u0435\u0434\u0435\u043b\u044c\u043d\u044b\u0435|\u0435\u0436\u0435\u043d\u0435\u0434\u0435\u043b\u044c\u043d\u044b\u0439|\u0435\u0436\u0435\u043d\u0435\u0434\u0435\u043b\u044c\u043d\u043e\u0439|\u0435\u0436\u0435\u043d\u0435\u0434\u0435\u043b\u044c\u043d\u044b\u0445|\u0435\u0436\u0435\u043d\u0435\u0434\u0435\u043b\u044c\u043d\u043e\u0433\u043e|\u0435\u0436\u0435\u043d\u0435\u0434\u0435\u043b\u044c\u043d\u043e)\\s+\u043f\u043e\\s+\u0412\u043e\u0441\u043a\u0440\u0435\u0441\u0435\u043d\u044c\u044f\u043c|\u0412\u043e\u0441\u043a\u0440\u0435\u0441\u0435\u043d\u0438\u044f|\u0412\u043e\u0441\u043a\u0440\u0435\u0441\u0435\u043d\u0438\u0438|\u0412\u043e\u0441\u043a\u0440\u0435\u0441\u0435\u043d\u044c\u044f|\u0432\u043e\u0441\u043a\u0440\u0435\u0441\u0435\u043d\u044c\u044f\u043c|\u0412\u043e\u0441\u043a\u0440\u0435\u0441\u0435\u043d\u0438\u0435|\u0432\u043e\u0441\u043a\u0440\u0435\u0441\u0435\u043d\u044c\u0435|\u0412\u043e\u0441\u043a\u0440\u0435\u0441\u0435\u043d\u044c\u0435)\n"
       ]
      }
     ],
     "prompt_number": 47
    },
    {
     "cell_type": "code",
     "collapsed": false,
     "input": [
      "re.findall(r\"((?:{})\\s+\u043f\u043e\\s+(?:{}))\".format(\"|\".join(alternify(\"\u0435\u0436\u0435\u043d\u0435\u0434\u0435\u043b\u044c\u043d\u044b\u0435\")),\"|\".join(alternify(\"\u0412\u043e\u0441\u043a\u0440\u0435\u0441\u0435\u043d\u044c\u044f\u043c\")+alternify(\"\u0412\u043e\u0441\u043a\u0440\u0435\u0441\u044f\u043d\u044c\u044f\u043c\"))),fulltext)"
     ],
     "language": "python",
     "metadata": {},
     "outputs": [
      {
       "metadata": {},
       "output_type": "pyout",
       "prompt_number": 51,
       "text": [
        "['\u0435\u0436\u0435\u043d\u0435\u0434\u0435\u043b\u044c\u043d\u044b\u0435 \u043f\u043e \u0412\u043e\u0441\u043a\u0440\u0435\u0441\u0435\u043d\u044c\u044f\u043c',\n",
        " '\u0435\u0436\u0435\u043d\u0435\u0434\u0435\u043b\u044c\u043d\u044b\u0445 \u043f\u043e \u0432\u043e\u0441\u043a\u0440\u0435\u0441\u0435\u043d\u044c\u044f\u043c',\n",
        " '\u0435\u0436\u0435\u043d\u0435\u0434\u0435\u043b\u044c\u043d\u044b\u0435 \u043f\u043e \u0412\u043e\u0441\u043a\u0440\u0435\u0441\u044f\u043d\u044c\u044f\u043c']"
       ]
      }
     ],
     "prompt_number": 51
    },
    {
     "cell_type": "code",
     "collapsed": false,
     "input": [
      "def words_in_sent(wordlist,sent_str,alter=True):\n",
      "    if alter:\n",
      "        wordlist = [\"|\".join(alternify(w)) for w in wordlist]\n",
      "    if all([len(re.findall(r\"(?:{})\".format(w),sent_str))!=0 for w in wordlist]):\n",
      "        return True\n",
      "    else:\n",
      "        return False"
     ],
     "language": "python",
     "metadata": {},
     "outputs": [],
     "prompt_number": 98
    },
    {
     "cell_type": "code",
     "collapsed": false,
     "input": [
      "for s in nltk.tokenize.sent_tokenize(fulltext):\n",
      "    #s = \" \".join(s)\n",
      "    if words_in_sent([\"\u0435\u0436\u0435\u043d\u0435\u0434\u0435\u043b\u044c\u043d\u044b\u0435\",\"\u0412\u043e\u0441\u043a\u0440\u0435\u0441\u0435\u043d\u044c\u044f\u043c\"],s):\n",
      "        print(s)\n",
      "        print()"
     ],
     "language": "python",
     "metadata": {},
     "outputs": [
      {
       "output_type": "stream",
       "stream": "stdout",
       "text": [
        "\u0411\u044b\u0432\u0430\u044e\u0442 \u0437\u0434\u0435\u0441\u044c \u0432 \u0433\u043e\u0434\u0443 \u0434\u0432\u0435 \u044f\u0440\u043c\u0430\u0440\u043a\u0438 : \u043f\u0435\u0440\u0432\u0430\u044f \u0432 \u0434\u0435\u043d\u044c \u0421\u043e\u0448\u0435\u0441\u0442\u0432\u0438\u044f \u0421\u0432\u044f\u0442\u043e\u0433\u043e \u0414\u0443\u0445\u0430 , \u0432\u0442\u043e\u0440\u0430\u044f \u041d\u043e\u044f\u0431\u0440\u044f 8 \u0447\u0438\u0441\u043b\u0430 ; \u0442\u043e\u0440\u0433\u0443\u044e\u0442 \u043d\u0430 \u043e\u043d\u044b\u0445 \u0438 \u0432 \u0435\u0436\u0435\u043d\u0435\u0434\u0435\u043b\u044c\u043d\u044b\u0435 \u043f\u043e \u0412\u043e\u0441\u043a\u0440\u0435\u0441\u0435\u043d\u044c\u044f\u043c \u0441\u044a\u0435\u0437\u0434\u044b \u043f\u0440\u0438\u0435\u0437\u0436\u0438\u0435 \u0438\u0437 \u0443\u0435\u0437\u0434\u0443 \u0436\u0438\u0442\u0435\u043b\u0438 \u0440\u0430\u0437\u043d\u044b\u043c\u0438 \u043c\u0435\u043b\u043a\u0438\u043c\u0438 \u0442\u043e\u0432\u0430\u0440\u0430\u043c\u0438 , \u0442\u0430\u043c \u0440\u043e\u0434\u044f\u0449\u0438\u043c\u0438\u0441\u044f \u0438 \u0434\u0435\u043b\u0430\u044e\u0449\u0438\u043c\u0438\u0441\u044f , \u043a\u0430\u043a - \u0442\u043e \u0445\u043b\u0435\u0431\u043e\u043c , \u0433\u043e\u0440\u044f\u0447\u0438\u043c \u0432\u0438\u043d\u043e\u043c , \u0440\u0430\u0437\u043d\u044b\u043c \u0441\u043a\u043e\u0442\u043e\u043c , \u043e\u0432\u0447\u0438\u043d\u0430\u043c\u0438 , \u043a\u043e\u0436\u0430\u043c\u0438 \u0438 \u043f\u0440\u043e\u0447 .\n",
        "\n",
        "\u0417\u0434\u0435\u0441\u044c \u0431\u044b\u0432\u0430\u0435\u0442 \u0435\u0436\u0435\u043d\u0435\u0434\u0435\u043b\u044c\u043d\u043e\u0439 \u0442\u043e\u0440\u0433 \u043f\u043e \u0412\u043e\u0441\u043a\u0440\u0435\u0441\u0435\u043d\u044c\u044f\u043c ; \u043d\u0430 \u0442\u043e\u0442 \u0442\u043e\u0440\u0433 \u043f\u0440\u0438\u0435\u0437\u0436\u0430\u0435\u0442 \u043a\u0443\u043f\u0435\u0447\u0435\u0441\u0442\u0432\u043e \u041a\u0430\u043b\u0443\u0436\u0441\u043a\u043e\u0439 \u0438 \u041e\u0440\u043b\u043e\u0432\u0441\u043a\u043e\u0439 \u041f\u0440\u043e\u0432\u0438\u043d\u0446\u0438\u0439 , \u0438\u0437 \u0411\u043e\u043b\u0445\u043e\u0432\u0430 \u0438 \u0411\u0435\u043b\u0435\u0432\u0430 \u0438 \u0434\u0440\u0443\u0433\u0438\u0445 \u0433\u043e\u0440\u043e\u0434\u043e\u0432 ; \u043f\u0440\u0438\u0432\u043e\u0437\u044f\u0442 \u0442\u043e\u0432\u0430\u0440\u044b \u043c\u043e\u0441\u043a\u043e\u0442\u0438\u043b\u044c\u043d\u044b\u0435 , \u043d\u0435\u0441\u043a\u043e\u043b\u044c\u043a\u043e \u0431\u0443\u043c\u0430\u0436\u043d\u044b\u0445 , \u0448\u0435\u043b\u043a\u043e\u0432\u044b\u0445 \u0438 \u0434\u0440\u0443\u0433\u0438\u0445 \u0441\u043e\u0440\u0442\u043e\u0432 \u043c\u0430\u0442\u0435\u0440\u0438\u0439 ; \u0430 \u043f\u043e \u0431\u043e\u043b\u044c\u0448\u0435\u0439 \u0447\u0430\u0441\u0442\u0438 \u0438 \u0443\u0435\u0437\u0434\u043d\u044b\u0435 \u043a\u0440\u0435\u0441\u0442\u044c\u044f\u043d\u0435 \u0434\u043e\u0441\u0442\u0430\u0432\u043b\u044f\u044e\u0442 \u0440\u0430\u0437\u043d\u044b\u0435 \u0443\u0435\u0437\u0434\u043d\u044b\u0435 \u0442\u043e\u0432\u0430\u0440\u044b , \u0432\u0441\u044f\u043a\u043e\u0439 \u0445\u043b\u0435\u0431 , \u043f\u0435\u043d\u044c\u043a\u0443 , \u043c\u0430\u0441\u043b\u043e , \u043c\u0435\u0434 , \u0432\u043e\u0441\u043a , \u0432\u043e\u0449\u0438\u043d\u0443 , \u043f\u0430\u0440\u0443\u0441\u043d\u0443\u044e \u0443\u0442\u043e\u0447\u043d\u0443\u044e \u043f\u0440\u044f\u0436\u0443 , \u0445\u043e\u043b\u0441\u0442 \u043b\u044c\u043d\u044f\u043d\u043e\u0439 , \u043f\u043e\u0441\u043a\u043e\u043d\u043d\u043e\u0439 \u0438 \u043f\u0440\u043e\u0447\u0438\u044f \u043a\u0440\u0435\u0441\u0442\u044c\u044f\u043d\u0441\u043a\u0438\u044f \u0440\u0443\u043a\u043e\u0434\u0435\u043b\u044c\u044f \u0438 \u0434\u0440\u0443\u0433\u0438\u0435 \u043c\u0435\u043b\u043e\u0447\u043d\u044b\u0435 \u0442\u043e\u0432\u0430\u0440\u044b ."
       ]
      },
      {
       "output_type": "stream",
       "stream": "stdout",
       "text": [
        "\n",
        "\n",
        "\u0412 \u043d\u0435\u043c , \u043a\u0440\u043e\u043c\u0435 \u0435\u0436\u0435\u043d\u0435\u0434\u0435\u043b\u044c\u043d\u044b\u0445 \u043f\u043e \u0432\u043e\u0441\u043a\u0440\u0435\u0441\u0435\u043d\u044c\u044f\u043c , \u0441\u0435\u0440\u0435\u0434\u0430\u043c \u0438 \u043f\u044f\u0442\u043d\u0438\u0446\u0430\u043c \u0442\u043e\u0440\u0433\u043e\u0432 , \u0431\u044b\u0432\u0430\u044e\u0442 \u0432 \u0433\u043e\u0434 \u0434\u0432\u0435 \u044f\u0440\u043c\u0430\u0440\u043a\u0438 : \u043f\u0435\u0440\u0432\u0430\u044f \u0418\u044e\u043b\u044f 2 , \u0432\u0442\u043e\u0440\u0430\u044f \u0410\u0432\u0433\u0443\u0441\u0442\u0430 29 \u0447\u0438\u0441\u0435\u043b , \u043d\u0430 \u043a\u043e\u0438\u0445 \u043a\u0443\u043f\u0435\u0447\u0435\u0441\u0442\u0432\u043e \u0442\u043e\u0440\u0433\u0443\u0435\u0442 , \u0432 \u0441\u0435\u0440\u0435\u0431\u0440\u0435\u043d\u043e\u043c \u0440\u044f\u0434\u0443 \u043a\u0440\u0435\u0441\u0442\u0430\u043c\u0438 , \u043f\u0435\u0440\u0441\u0442\u043d\u044f\u043c\u0438 , \u0441\u0435\u0440\u0433\u0430\u043c\u0438 \u0438 \u043e\u043a\u043b\u0430\u0434\u0430\u043c\u0438 , \u0430 \u0432 \u043c\u043e\u0441\u043a\u043e\u0442\u0438\u043b\u044c\u043d\u043e\u043c \u0440\u0430\u0437\u043d\u044b\u043c\u0438 \u043a\u0430\u043c\u043a\u0430\u043c\u0438 , \u0448\u0435\u043b\u043a\u043e\u043c , \u043f\u043e\u0437\u0443\u043c\u0435\u043d\u0442\u0430\u043c\u0438 , \u0437\u043e\u043b\u043e\u0442\u044b\u043c\u0438 \u0438 \u0441\u0435\u0440\u0435\u0431\u0440\u0435\u043d\u044b\u043c\u0438 \u0441\u0435\u0442\u043a\u0430\u043c\u0438 , \u0432\u044b\u0431\u043e\u0439\u043a\u043e\u044e , \u0431\u0443\u043c\u0430\u0433\u043e\u044e \u0445\u043b\u043e\u043f\u0447\u0430\u0442\u043e\u044e \u0438 \u043f\u0438\u0441\u0447\u0435\u044e \u0438 \u0441\u044a\u0435\u0441\u0442\u043d\u044b\u043c\u0438 \u043f\u0440\u0438\u043f\u0430\u0441\u0430\u043c\u0438 ; \u0442\u0430\u043a\u043e\u0436\u044c \u0434\u043b\u044f \u0442\u043e\u0440\u0433\u0443 \u043e\u0442\u044a\u0435\u0437\u0436\u0430\u044e\u0442 \u0441 \u0441\u044b\u0440\u044b\u043c\u0438 \u043a\u043e\u0436\u0430\u043c\u0438 , \u043c\u0435\u0434\u043e\u043c , \u0441\u044b\u0440\u0446\u043e\u043c , \u0449\u0435\u0442\u0438\u043d\u043e\u044e \u0438 \u043c\u0435\u0440\u043b\u0443\u0448\u043a\u0430\u043c\u0438 ."
       ]
      },
      {
       "output_type": "stream",
       "stream": "stdout",
       "text": [
        "\n",
        "\n"
       ]
      }
     ],
     "prompt_number": 104
    },
    {
     "cell_type": "code",
     "collapsed": false,
     "input": [],
     "language": "python",
     "metadata": {},
     "outputs": []
    },
    {
     "cell_type": "code",
     "collapsed": false,
     "input": [
      "#%%timeit\n",
      "re.findall(r\"\u0432\u0438\u043d\u0435|\u0432\u0438\u043d\u0430|\u0432\u0438\u043d\u043e\u043c|\u0432\u0438\u043d\u043d\u043e\u0439|\u0432\u0438\u043d\u0430\u043c\u0438|\u0432\u0438\u043d\u043d\u044b\u0435|\u0432\u0438\u043d\u043e\",fulltext)"
     ],
     "language": "python",
     "metadata": {},
     "outputs": [
      {
       "ename": "NameError",
       "evalue": "name 're' is not defined",
       "output_type": "pyerr",
       "traceback": [
        "\u001b[1;31m---------------------------------------------------------------------------\u001b[0m\n\u001b[1;31mNameError\u001b[0m                                 Traceback (most recent call last)",
        "\u001b[1;32m<ipython-input-1-772eabc999ff>\u001b[0m in \u001b[0;36m<module>\u001b[1;34m()\u001b[0m\n\u001b[0;32m      1\u001b[0m \u001b[1;31m#%%timeit\u001b[0m\u001b[1;33m\u001b[0m\u001b[1;33m\u001b[0m\u001b[0m\n\u001b[1;32m----> 2\u001b[1;33m \u001b[0mre\u001b[0m\u001b[1;33m.\u001b[0m\u001b[0mfindall\u001b[0m\u001b[1;33m(\u001b[0m\u001b[1;34mr\"\u0432\u0438\u043d\u0435|\u0432\u0438\u043d\u0430|\u0432\u0438\u043d\u043e\u043c|\u0432\u0438\u043d\u043d\u043e\u0439|\u0432\u0438\u043d\u0430\u043c\u0438|\u0432\u0438\u043d\u043d\u044b\u0435|\u0432\u0438\u043d\u043e\"\u001b[0m\u001b[1;33m,\u001b[0m\u001b[0mfulltext\u001b[0m\u001b[1;33m)\u001b[0m\u001b[1;33m\u001b[0m\u001b[0m\n\u001b[0m",
        "\u001b[1;31mNameError\u001b[0m: name 're' is not defined"
       ]
      }
     ],
     "prompt_number": 1
    },
    {
     "cell_type": "code",
     "collapsed": false,
     "input": [
      "%%timeit\n",
      "re.findall(r\"\u0422\u0440\u043e\u0438\u0446\u043a\u043e\u0439\",fulltext)\n",
      "re.findall(r\"\u0422\u0440\u043e\u0438\u0446\u043a\u043e\u043c\",fulltext)\n",
      "re.findall(r\"\u0422\u0440\u043e\u0438\u0446\u043a\u0430\u044f\",fulltext)\n",
      "re.findall(r\"\u0422\u0440\u043e\u0438\u0446\u043a\u0443\u044e\",fulltext)\n",
      "re.findall(r\"\u0422\u0440\u043e\u0438\u0446\u044b\",fulltext)\n",
      "re.findall(r\"\u0422\u0440\u043e\u0439\u0446\u044b\u043d\",fulltext)\n",
      "re.findall(r\"\u0422\u0440\u043e\u0439\u0446\u044b\u043d\u0435\",fulltext)"
     ],
     "language": "python",
     "metadata": {},
     "outputs": []
    },
    {
     "cell_type": "code",
     "collapsed": false,
     "input": [
      "%%timeit\n",
      "re.findall(r\"\u043f\u0435\u0440\u0432\u043e\u0439\\s+\u043d\u0435\u0434\u0435\u043b\u0438(?:\\s+\u0432\u0435\u043b\u0438\u043a\u043e\u0433\u043e\\s+\u043f\u043e\u0441\u0442\u0430)?\\s+\u0432\\s+\u0432\u043e\u0441\u043a\u0440\u0435\u0441\u0435\u043d\u044c\u0435\",fulltext)"
     ],
     "language": "python",
     "metadata": {},
     "outputs": []
    },
    {
     "cell_type": "code",
     "collapsed": false,
     "input": [
      "re.findall(\"((?:\u041f\u0435\u0442\u0440\u0430\\s+\u0438\\s+\u041f\u0430\u0432\u043b\u0430)|(?:\u041f\u0435\u0442\u0440\u043e\u043f\u0430\u0432\u043b\u043e\u0432\u0441\u043a\u0430\u044f))\",fulltext)"
     ],
     "language": "python",
     "metadata": {},
     "outputs": []
    },
    {
     "cell_type": "code",
     "collapsed": false,
     "input": [
      "re.findall(r\"((?:{})\\s+(?:{}))\".format(\"|\".join(alternify(\"\u043f\u044f\u0442\u043e\u0439\")),\"|\".join(alternify(\"\u043d\u0435\u0434\u0435\u043b\u0435\"))),fulltext)"
     ],
     "language": "python",
     "metadata": {},
     "outputs": []
    },
    {
     "cell_type": "code",
     "collapsed": false,
     "input": [
      "r\"((?:{})\\s+(?:{}))\".format(\"|\".join(alternify(\"\u0434\u0435\u0441\u044f\u0442\u0443\u044e\")),\"|\".join(alternify(\"\u043f\u044f\u0442\u043d\u0438\u0446\u0443\")))"
     ],
     "language": "python",
     "metadata": {},
     "outputs": []
    },
    {
     "cell_type": "code",
     "collapsed": false,
     "input": [],
     "language": "python",
     "metadata": {},
     "outputs": []
    },
    {
     "cell_type": "code",
     "collapsed": false,
     "input": [
      "test = re.findall(r\"((?:{})\\s+(?:{}))\".format(\"|\".join(alternify(\"\u0434\u0435\u0441\u044f\u0442\u0443\u044e\")),\"|\".join(alternify(\"\u043f\u044f\u0442\u043d\u0438\u0446\u0443\"))),fulltext)\n",
      "for x in set(test):\n",
      "    print(\"{}: {}\".format(x,sum([f==x for f in test])))"
     ],
     "language": "python",
     "metadata": {},
     "outputs": []
    },
    {
     "cell_type": "code",
     "collapsed": false,
     "input": [
      "re.findall(r\"((?:{})\\s+(?:{}))\".format(\"|\".join(alternify(\"\u043f\u044f\u0442\u043d\u0438\u0446\u0443\")),\"|\".join(alternify(\"\u0434\u0435\u0441\u044f\u0442\u0443\u044e\"))),fulltext)"
     ],
     "language": "python",
     "metadata": {},
     "outputs": []
    },
    {
     "cell_type": "code",
     "collapsed": false,
     "input": [
      "test = tokens.index('\u0421',9769)\n",
      "test"
     ],
     "language": "python",
     "metadata": {},
     "outputs": []
    },
    {
     "cell_type": "code",
     "collapsed": false,
     "input": [
      "tokens[test-10:test+10]"
     ],
     "language": "python",
     "metadata": {},
     "outputs": []
    },
    {
     "cell_type": "code",
     "collapsed": false,
     "input": [
      "set(re.findall(r\"\u0421(?:\u0432)?\\s+\\.\\s+.*?[\\.,;]\",fulltext))"
     ],
     "language": "python",
     "metadata": {},
     "outputs": []
    },
    {
     "cell_type": "code",
     "collapsed": false,
     "input": [
      "dates = re.findall(r\"(?:\u043f\u0435\u0440\u0432\u0430\u044f|\u0432\u0442\u043e\u0440\u0430\u044f|\u0442\u0440\u0435\u0442\u0438\u044f|\u0447\u0435\u0442\u0432\u0435\u0440\u0442\u0430\u044f|\u043f\u044f\u0442\u0430\u044f|\u0448\u0435\u0441\u0442\u0430\u044f|\u0441\u0435\u0434\u044c\u043c\u0430\u044f|\u043e\u0441\u044c\u043c\u0430\u044f)\\s+(.*?)[,\\.;]\",fulltext)"
     ],
     "language": "python",
     "metadata": {},
     "outputs": []
    },
    {
     "cell_type": "code",
     "collapsed": false,
     "input": [
      "len(set(dates))"
     ],
     "language": "python",
     "metadata": {},
     "outputs": []
    },
    {
     "cell_type": "code",
     "collapsed": false,
     "input": [
      "remonth = \"|\".join(monthlist)\n",
      "re.findall(r\"\u0441\\s+([0-9]+)\\s+({})\\s+\u043f\u043e\\s+([0-9]+)\\s+({})\".format(remonth,remonth),fulltext)"
     ],
     "language": "python",
     "metadata": {},
     "outputs": []
    },
    {
     "cell_type": "code",
     "collapsed": false,
     "input": [
      "re.findall(r\"({})\\s+\u0441\\s+([0-9]+)\\s+({})\\s+\u043f\u043e\\s+([0-9]+)\".format(remonth,remonth),fulltext)"
     ],
     "language": "python",
     "metadata": {},
     "outputs": []
    },
    {
     "cell_type": "code",
     "collapsed": false,
     "input": [
      "re.findall(r\"({})\\s+\u043e\u0442\\s+([0-9]+)\\s+\u043f\u043e\\s+([0-9]+)\".format(remonth,remonth),fulltext)"
     ],
     "language": "python",
     "metadata": {},
     "outputs": []
    },
    {
     "cell_type": "code",
     "collapsed": false,
     "input": [
      "test = re.findall(r\"([\u0430-\u044f\u0410-\u042f0-9:,]+)\\s+([\u0430-\u044f\u0410-\u042f0-9:,]+)\\s+([0-9]+)\\s+({})\".format(remonth),fulltext)\n",
      "#test = re.findall(r\"([\u0430-\u044f\u0410-\u042f0-9:,]+)\\s+([0-9]+)\\s+({})\".format(remonth),fulltext)\n",
      "for t in test:\n",
      "    if t[1] == '\u0441':# and t[0] in monthlist:\n",
      "        print(\"discarded: {}\".format(t))\n",
      "    else:\n",
      "        #print(\"kept: {}\".format(t))\n",
      "        pass"
     ],
     "language": "python",
     "metadata": {},
     "outputs": []
    },
    {
     "cell_type": "code",
     "collapsed": false,
     "input": [
      "re.findall(r\"({})\\s+(?:\u043f\u043e|\u043e\u0442|\u043d\u0430|\u0441|\u0432)?(?:\\s+)?([0-9]+)\".format(month),fulltext)"
     ],
     "language": "python",
     "metadata": {},
     "outputs": []
    },
    {
     "cell_type": "code",
     "collapsed": false,
     "input": [
      "re.findall(r\"[0-9]+\\s+[\u0430-\u044f\u0410-\u042f:,]+\\s+[0-9]+\",fulltext)"
     ],
     "language": "python",
     "metadata": {},
     "outputs": []
    },
    {
     "cell_type": "code",
     "collapsed": false,
     "input": [
      "alternify('\u041d\u043e\u044f\u0431\u0440\u044f')"
     ],
     "language": "python",
     "metadata": {},
     "outputs": []
    },
    {
     "cell_type": "code",
     "collapsed": false,
     "input": [
      "ru_stemmer.stem('\u0441\u043c\u043e\u043b')"
     ],
     "language": "python",
     "metadata": {},
     "outputs": []
    },
    {
     "cell_type": "code",
     "collapsed": false,
     "input": [
      "alternify(\"\u043a\u0440\u0430\u0441\u043d\u044b\u043c\u0438\")"
     ],
     "language": "python",
     "metadata": {},
     "outputs": []
    },
    {
     "cell_type": "code",
     "collapsed": false,
     "input": [
      "goods_types =[]\n",
      "goods_from =[]\n",
      "for s in tok_sent:\n",
      "    if any([v in s for v in ['\u043f\u0440\u0438\u0435\u0437\u0436\u0430\u044e\u0442','\u043f\u0440\u0438\u0432\u043e\u0437\u044f\u0442','\u0442\u043e\u0440\u0433\u0443\u044e\u0442','\u0441\u044a\u0435\u0436\u0430\u044e\u0442\u0441\u044f','\u0441\u043a\u0443\u043f\u0430\u044e\u0442','\u043f\u043e\u043a\u0443\u043f\u0430\u044e\u0442']]):\n",
      "        for w in s:\n",
      "            match = re.match(r\"[\u0430-\u044f\u0410-\u042f]+(?:\u043c\u0438|\u043e\u043c)$\",w)\n",
      "            if match:\n",
      "                if re.match(r\"^[\u0410-\u042f]\",match.string):\n",
      "                    goods_from.append(match.string)\n",
      "                else:\n",
      "                    goods_types.append(match.string)"
     ],
     "language": "python",
     "metadata": {},
     "outputs": []
    },
    {
     "cell_type": "code",
     "collapsed": false,
     "input": [
      "set(goods_types)"
     ],
     "language": "python",
     "metadata": {},
     "outputs": []
    },
    {
     "cell_type": "code",
     "collapsed": false,
     "input": [
      "goodskinds = set(goods_types)\n",
      "removelist = ['\u043e\u043d\u043e\u043c','\u0442\u043e\u0432\u0430\u0440\u0430\u043c\u0438','\u0442\u043e\u0432\u0430\u0440\u043e\u043c','\u0432\u0435\u0449\u0430\u043c\u0438','\u0432\u0441\u044f\u043a\u0438\u043c\u0438','\u0434\u0440\u0443\u0433\u0438\u043c\u0438','\u0434\u0440\u0443\u0433\u043e\u043c','\u0438\u043c\u0438','\u0440\u0430\u0437\u043b\u0438\u0447\u043d\u044b\u043c\u0438','\u0440\u0430\u0437\u043d\u044b\u043c\u0438','\u0442\u043e\u0440\u0433\u043e\u043c','\u0442\u043e\u043c','\u043a\u043e\u0438\u043c\u0438']\n",
      "for i in removelist:\n",
      "    if i in goodskinds:\n",
      "        goodskinds.remove(i)"
     ],
     "language": "python",
     "metadata": {},
     "outputs": []
    },
    {
     "cell_type": "markdown",
     "metadata": {},
     "source": [
      "normgoodskinds = []\n",
      "for g in goodskinds:\n",
      "    url = 'http://ru.oldict.com/{}'.format(g)\n",
      "    try:\n",
      "        tree = html.parse(url)\n",
      "        norm = tree.xpath('/html/body/article/p[1]')[0].text_content()\n",
      "        norm = re.sub(r\"^=> {\",\"\",norm)\n",
      "        norm = re.sub(r\"}$\",\"\",norm)\n",
      "        norm = re.sub(r\"^#REDIRECT \",\"\",norm)\n",
      "        norm = re.sub(r\"}.*\",\"\",norm)\n",
      "        norm = re.sub(r\"\\n.*\",\"\",norm)\n",
      "        if len(norm.split(sep=' '))!=1:\n",
      "            print(\"{} is formatted funny\".format(url))\n",
      "            normgoodskinds.append(g)\n",
      "        else:\n",
      "            normgoodskinds.append(norm)\n",
      "    except:\n",
      "        print(url)\n",
      "        normgoodskinds.append(g)"
     ]
    },
    {
     "cell_type": "markdown",
     "metadata": {},
     "source": [
      "normgoodskinds"
     ]
    },
    {
     "cell_type": "code",
     "collapsed": false,
     "input": [
      "type_stem = [ru_stemmer.stem(g) for g in goods_types]"
     ],
     "language": "python",
     "metadata": {},
     "outputs": []
    },
    {
     "cell_type": "code",
     "collapsed": false,
     "input": [
      "set(type_stem)"
     ],
     "language": "python",
     "metadata": {},
     "outputs": []
    },
    {
     "cell_type": "code",
     "collapsed": false,
     "input": [
      "set(goods_from)"
     ],
     "language": "python",
     "metadata": {},
     "outputs": []
    },
    {
     "cell_type": "code",
     "collapsed": false,
     "input": [
      "text.concordance('\u0414\u0435\u043a\u0435\u0431\u0440\u044f',lines=1000,width=135)"
     ],
     "language": "python",
     "metadata": {},
     "outputs": []
    },
    {
     "cell_type": "code",
     "collapsed": false,
     "input": [
      "test_goods = []\n",
      "for s in tok_sent:\n",
      "    if any([v in s for v in ['\u0442\u043e\u0440\u0433\u0443\u044e\u0442']]):\n",
      "        for w in s:\n",
      "            match = re.match(\"[\u0430-\u044f\u0410-\u042f]+(?:\u043c\u0438|\u043e\u043c)$\",w)\n",
      "            if match:\n",
      "                test_goods.append(match.string)"
     ],
     "language": "python",
     "metadata": {},
     "outputs": []
    },
    {
     "cell_type": "code",
     "collapsed": false,
     "input": [
      "reverse_stem[ru_stemmer.stem('\u0440\u043e\u0441\u0442')]"
     ],
     "language": "python",
     "metadata": {},
     "outputs": []
    },
    {
     "cell_type": "code",
     "collapsed": false,
     "input": [
      "set(test_goods)"
     ],
     "language": "python",
     "metadata": {},
     "outputs": []
    },
    {
     "cell_type": "code",
     "collapsed": false,
     "input": [
      "set(re.findall(\"[\u0430-\u044f\u0410-\u042f]+\u043e\u043c\",fulltext))"
     ],
     "language": "python",
     "metadata": {},
     "outputs": []
    },
    {
     "cell_type": "code",
     "collapsed": false,
     "input": [
      "set(re.findall(r\"\u0438\u0437\\s+((?:[\u0430-\u044f\u0410-\u042f,]+\\s+)*?(?:\u0433\u043e\u0440\u043e\u0434\u043e\u0432|\u043c\u0435\u0441\u0442|\u0441|;|\u0432\u0441\u044f\u043a\u0438\u0435|\u0432\u0441\u044f\u043a\u043e\u0439|\u043c\u0430\u043b\u043e\u043c\u0443|\u043f\u0440\u0438\u0432\u043e\u0437\u044f\u0442|\u0435\u0436\u0435\u043d\u0435\u0434\u0435\u043b\u044c\u043d\u043e|\u0440\u0430\u0437\u043d\u043e\u0439) )\",fulltext))"
     ],
     "language": "python",
     "metadata": {},
     "outputs": []
    },
    {
     "cell_type": "code",
     "collapsed": false,
     "input": [
      "text.concordance('\u043f\u043e\u043b\u0443\u043e\u0441\u0442\u0440\u043e\u0432\u043e\u043c',width=135)"
     ],
     "language": "python",
     "metadata": {},
     "outputs": []
    },
    {
     "cell_type": "code",
     "collapsed": false,
     "input": [
      "re.findall(r\"\u0438\u0437\\s+((?:[\u0430-\u044f\u0410-\u042f,]+\\s+)*?(?:\u0441|;|\u0433\u043e\u0440\u043e\u0434\u043e\u0432|\u043c\u0435\u0441\u0442|\u043a\u0443\u043f\u0446\u044b) )\",fulltext)"
     ],
     "language": "python",
     "metadata": {},
     "outputs": []
    },
    {
     "cell_type": "code",
     "collapsed": false,
     "input": [
      "text.concordance('\u0438\u0437',width=135)"
     ],
     "language": "python",
     "metadata": {},
     "outputs": []
    },
    {
     "cell_type": "code",
     "collapsed": false,
     "input": [
      "trade_areas = list(set(re.findall(r\"([\u0410-\u042f\u0430-\u044f]+\u0441\u043a\u0438\u0435)\",fulltext)))\n",
      "trade_areas.sort()"
     ],
     "language": "python",
     "metadata": {},
     "outputs": []
    },
    {
     "cell_type": "code",
     "collapsed": false,
     "input": [
      "text.concordance(\"\u0445\u043b\u0435\u0431\",lines=1000,width=135)"
     ],
     "language": "python",
     "metadata": {},
     "outputs": []
    },
    {
     "cell_type": "code",
     "collapsed": false,
     "input": [
      "re.findall(r\"(?:\u043f\u0440\u043e\u0434\u0430\u044e\u0442|\u0442\u043e\u0440\u0433\u0443\u044e\u0442)\\s+(?:[\u0430-\u044f\u0410-\u042f,;]+\\s)+[\u0430-\u044f\u0410-\u042f]+(?:\\.|\\s+\\.)\",fulltext)"
     ],
     "language": "python",
     "metadata": {},
     "outputs": []
    },
    {
     "cell_type": "code",
     "collapsed": false,
     "input": [
      "re.findall(r\"((?:[\u0410-\u042f\u0430-\u044f]+[\u0446\u0441]\u043a\u0438\u0435\\s*,\\s*)*(?:[\u0410-\u042f\u0430-\u044f]+[\u0446\u0441]\u043a\u0438\u0435)*(?:\\s*\u0438\\s*)?(?:[\u0410-\u042f\u0430-\u044f]+[\u0446\u0441]\u043a\u0438\u0435)) \u043a\u0443\u043f\u0446\u044b\",fulltext)\\"
     ],
     "language": "python",
     "metadata": {},
     "outputs": []
    },
    {
     "cell_type": "code",
     "collapsed": false,
     "input": [
      "re.findall(r\"[\u0410-\u042f\u0430-\u044f]+\u0441\u043a\u0438\u0435\\s*,\\s*\",fulltext)"
     ],
     "language": "python",
     "metadata": {},
     "outputs": []
    },
    {
     "cell_type": "code",
     "collapsed": false,
     "input": [
      "text.concordance(\"\u0410\u043b\u0435\u043a\u0441\u0438\u043d\u0430\")"
     ],
     "language": "python",
     "metadata": {},
     "outputs": []
    },
    {
     "cell_type": "code",
     "collapsed": false,
     "input": [
      "re.findall(r\"\u043a\u0443\u043f\u0446\u044b \u0438\u0437\\s+(?:[\u0430-\u044f\u0410-\u042f,]+\\s+)*(?:\u0433\u043e\u0440\u043e\u0434\u043e\u0432|\u043c\u0435\u0441\u0442)\",fulltext)"
     ],
     "language": "python",
     "metadata": {},
     "outputs": []
    },
    {
     "cell_type": "code",
     "collapsed": false,
     "input": [
      "test = re.findall(r\"\u043a\u0443\u043f\u0446\u044b\\s+\u0438\u0437\\s+((?:[\u0430-\u044f\u0410-\u042f,]+\\s+)*?)(?:\u0441|;) \",fulltext)"
     ],
     "language": "python",
     "metadata": {},
     "outputs": []
    },
    {
     "cell_type": "code",
     "collapsed": false,
     "input": [
      "test = [t.strip() for t in test]"
     ],
     "language": "python",
     "metadata": {},
     "outputs": []
    },
    {
     "cell_type": "code",
     "collapsed": false,
     "input": [
      "test = [t for t in test if len(re.findall(r\"(?:\u0433\u043e\u0440\u043e\u0434\u043e\u0432|\u0447\u0430\u0441\u0442\u0438)$\",t))==0]"
     ],
     "language": "python",
     "metadata": {},
     "outputs": []
    },
    {
     "cell_type": "code",
     "collapsed": false,
     "input": [
      "len(test)"
     ],
     "language": "python",
     "metadata": {},
     "outputs": []
    },
    {
     "cell_type": "code",
     "collapsed": false,
     "input": [
      "test"
     ],
     "language": "python",
     "metadata": {},
     "outputs": []
    }
   ],
   "metadata": {}
  }
 ]
}