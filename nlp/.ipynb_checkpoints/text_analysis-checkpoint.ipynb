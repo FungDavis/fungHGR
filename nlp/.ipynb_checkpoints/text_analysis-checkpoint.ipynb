{
 "metadata": {
  "name": "",
  "signature": "sha256:c875240f236057dc75309835d3b9a6a88a4f2444c49dadbcd55cfe36aec1af67"
 },
 "nbformat": 3,
 "nbformat_minor": 0,
 "worksheets": [
  {
   "cells": [
    {
     "cell_type": "code",
     "collapsed": false,
     "input": [
      "from lxml import html\n",
      "import os, json, re, nltk\n",
      "import pandas as pd\n",
      "import numpy as np\n",
      "import matplotlib as mpl"
     ],
     "language": "python",
     "metadata": {},
     "outputs": [],
     "prompt_number": 1
    },
    {
     "cell_type": "code",
     "collapsed": false,
     "input": [
      "mpl.rc('font', family='Constantia')"
     ],
     "language": "python",
     "metadata": {},
     "outputs": [],
     "prompt_number": 2
    },
    {
     "cell_type": "code",
     "collapsed": false,
     "input": [
      "%pylab inline"
     ],
     "language": "python",
     "metadata": {},
     "outputs": [
      {
       "output_type": "stream",
       "stream": "stdout",
       "text": [
        "Populating the interactive namespace from numpy and matplotlib\n"
       ]
      }
     ],
     "prompt_number": 3
    },
    {
     "cell_type": "code",
     "collapsed": false,
     "input": [
      "mypath = \"../html/\"\n",
      "onlyfiles = [ \"../html/{}\".format(f) for f in os.listdir(mypath) if os.path.isfile(os.path.join(mypath,f)) ]"
     ],
     "language": "python",
     "metadata": {},
     "outputs": [],
     "prompt_number": 4
    },
    {
     "cell_type": "code",
     "collapsed": false,
     "input": [
      "fulltext = \"\"\n",
      "for f in onlyfiles:\n",
      "    tree = html.parse(f)\n",
      "    root = tree.getroot()\n",
      "    text = root.text_content()\n",
      "    fulltext += \" \" + text"
     ],
     "language": "python",
     "metadata": {},
     "outputs": [],
     "prompt_number": 5
    },
    {
     "cell_type": "code",
     "collapsed": false,
     "input": [
      "fulltext = fulltext.replace(\"\\xa0\",\" \")"
     ],
     "language": "python",
     "metadata": {},
     "outputs": [],
     "prompt_number": 6
    },
    {
     "cell_type": "code",
     "collapsed": false,
     "input": [
      "fulltext = re.sub(r\"([> ])\u0412\u042a\",r\"\\1\u0412\u044a\",fulltext)\n",
      "fulltext = re.sub(r\"([\u0430-\u044f\u0456\u0463\u0473]+)(\u0462)\",r\"\\1\u0463\",fulltext)\n",
      "fulltext = re.sub(r\"(\u0462)([\u0430-\u044f\u0456\u0463\u0473]+)\",r\"\u0463\\2\",fulltext)\n",
      "fulltext = re.sub(r\"([\u0430-\u044f\u0456\u0463\u0473]+)(\u042a)\",r\"\\1\u044a\",fulltext)"
     ],
     "language": "python",
     "metadata": {},
     "outputs": [],
     "prompt_number": 7
    },
    {
     "cell_type": "code",
     "collapsed": false,
     "input": [
      "import re,json\n",
      "from lxml import html\n",
      "\n",
      "with open(\"../resources/special_cases.json\",'r',encoding='utf-8') as fp:\n",
      "    lookup_dict = json.load(fp)\n",
      "\n",
      "def ortho_rules(text,lookup_dict):\n",
      "    \"\"\"\n",
      "    Takes a text string and a lookup dict as input\n",
      "    Removes any lingering html tags\n",
      "    Breaks the string down into component words with split\n",
      "    Uses replacements to modernize orthography\n",
      "    Returns re-assembled text with modern orthography\n",
      "    \"\"\"\n",
      "    if type(text)==str:\n",
      "        text = html.fromstring(text).text_content()\n",
      "        textlist = nltk.tokenize.wordpunct_tokenize(text)\n",
      "        out_list = []\n",
      "        for word in textlist:\n",
      "            if word in [',','.',';',':']:\n",
      "                out_list.append(word)\n",
      "                continue\n",
      "            punct = \"\"\n",
      "            if len(re.findall(r\"([,.;:])$\",word))!=0:\n",
      "                punct = re.findall(r\"([,.;:])$\",word)[0]\n",
      "            word = word.strip(',.;:')\n",
      "            if word in lookup_dict:\n",
      "                word = lookup_dict[word]\n",
      "                out_list.append(word)\n",
      "            else:\n",
      "                word = re.sub(\"[\u042a\u044a]$\",'',word)\n",
      "                word = re.sub(r\"^([\u0447\u0435]{0,2}[\u0447]?[\u0432\u0431\u043d\u0440]?[\u0432\u0435\u043e\u0430\u0438])\u0437([\u041f\u0424\u041a\u0422\u0428\u0421\u0427\u043f\u0444\u043a\u0442\u0448\u0441\u0447])\",r\"\\1\u0441\\2\",word,re.IGNORECASE)\n",
      "                word = re.sub(\"\u0430\u0433\u043e$\",\"\u043e\u0433\u043e\",word,re.IGNORECASE)\n",
      "                word = re.sub(\"\u044f\u0433\u043e$\",\"\u0435\u0433\u043e\",word,re.IGNORECASE)\n",
      "                word = re.sub(\"\u044b\u044f$\",\"\u044b\u0435\",word,re.IGNORECASE)\n",
      "                word = re.sub(\"i\u044f$\",\"\u0438\u0435\",word,re.IGNORECASE)\n",
      "                word = word.replace('i','\u0438') #english\n",
      "                word = word.replace('I','\u0418') #english\n",
      "                word = word.replace('\u0456','\u0438') #cyrillic\n",
      "                word = word.replace('\u0406','\u0418') #cyrillic\n",
      "                word = word.replace('\u0462','\u0415')\n",
      "                word = word.replace('\u0463','\u0435')\n",
      "                word = word.replace('\u0472','\u0424')\n",
      "                word = word.replace('\u0473','\u0444')\n",
      "                word += punct\n",
      "                out_list.append(word)\n",
      "        out_str = ' '.join(out_list)\n",
      "        return out_str\n",
      "    else:\n",
      "        return None"
     ],
     "language": "python",
     "metadata": {},
     "outputs": [],
     "prompt_number": 8
    },
    {
     "cell_type": "code",
     "collapsed": false,
     "input": [
      "fulltext = ortho_rules(fulltext,lookup_dict)"
     ],
     "language": "python",
     "metadata": {},
     "outputs": [],
     "prompt_number": 9
    },
    {
     "cell_type": "markdown",
     "metadata": {},
     "source": [
      "Fulltext is now ready to be parsed\n",
      "=================================="
     ]
    },
    {
     "cell_type": "code",
     "collapsed": false,
     "input": [
      "tokens = nltk.tokenize.wordpunct_tokenize(fulltext)\n",
      "sent = nltk.tokenize.sent_tokenize(fulltext)\n",
      "tok_sent=[nltk.tokenize.wordpunct_tokenize(s) for s in sent]"
     ],
     "language": "python",
     "metadata": {},
     "outputs": [],
     "prompt_number": 10
    },
    {
     "cell_type": "code",
     "collapsed": false,
     "input": [
      "ru_stemmer = nltk.SnowballStemmer('russian')"
     ],
     "language": "python",
     "metadata": {},
     "outputs": [],
     "prompt_number": 11
    },
    {
     "cell_type": "code",
     "collapsed": false,
     "input": [
      "reverse_stem = {}\n",
      "for w in set(tokens):\n",
      "    if ru_stemmer.stem(w) not in reverse_stem:\n",
      "        reverse_stem[ru_stemmer.stem(w)] = []\n",
      "    reverse_stem[ru_stemmer.stem(w)].append(w)"
     ],
     "language": "python",
     "metadata": {},
     "outputs": [],
     "prompt_number": 12
    },
    {
     "cell_type": "code",
     "collapsed": false,
     "input": [
      "tok_stems = [ru_stemmer.stem(w) for w in tokens]"
     ],
     "language": "python",
     "metadata": {},
     "outputs": [],
     "prompt_number": 13
    },
    {
     "cell_type": "code",
     "collapsed": false,
     "input": [
      "text = nltk.text.Text(tokens)\n",
      "stem_text = nltk.text.Text(tok_stems)"
     ],
     "language": "python",
     "metadata": {},
     "outputs": [],
     "prompt_number": 14
    },
    {
     "cell_type": "code",
     "collapsed": false,
     "input": [
      "freq = nltk.FreqDist(text)"
     ],
     "language": "python",
     "metadata": {},
     "outputs": [],
     "prompt_number": 15
    },
    {
     "cell_type": "code",
     "collapsed": false,
     "input": [
      "freq.plot(25,cumulative=True)"
     ],
     "language": "python",
     "metadata": {},
     "outputs": [
      {
       "metadata": {},
       "output_type": "display_data",
       "png": "[encoded data removed]",
       "text": [
        "<matplotlib.figure.Figure at 0xa713208>"
       ]
      }
     ],
     "prompt_number": 16
    },
    {
     "cell_type": "code",
     "collapsed": false,
     "input": [
      "#freq.most_common()"
     ],
     "language": "python",
     "metadata": {},
     "outputs": [],
     "prompt_number": 17
    },
    {
     "cell_type": "code",
     "collapsed": false,
     "input": [
      "stopwords = ['-',',','.','\u0430','\u0432','\u0438',';','\u043d\u0430','\u0412','\u0441','\u043f\u043e',':','\u0438\u0437'] # \"helper\" stopwords, to find significant text generally\n",
      "stopwords.extend(['\u0431\u044b\u0432\u0430','\u044f\u0440\u043c\u0430\u0440\u043a','\u043d\u0430\u043c\u0435\u0441\u0442\u043d\u0438\u0447\u0435\u0441\u0442\u0432','\u0433\u043e\u0440\u043e\u0434','\u043e\u043d','\u0433\u043e\u0434','\u0443\u0435\u0437\u0434','\u0437\u0434\u0435','\u0434\u0435\u043d','\u0441\u0435\u043b','\u043f\u0435\u0440\u0432','\u043f\u0440\u043e\u0447','\u0432\u0442\u043e\u0440','\u0430','\u043a\u043e\u0442\u043e\u0440','\u043c\u0435\u0441\u0442\u0435\u0447\u043a','\u0433\u043e\u0434\u043e\u0432','\u043d\u0435\u0434\u0435\u043b','\u043e\u0434\u043d','\u0434\u043d\u044f','\u0442\u0440\u0438','\u0434\u0432\u0435','\u043f\u0440\u0438\u0432\u043e\u0437','\u0442\u0440\u0435\u0442','\u0434\u0440\u0443\u0433','\u043d\u0435\u043c','\u043f\u044f\u0442\u043d\u0438\u0446','8','\u0441\u043b\u043e\u0431\u043e\u0434','\u0447\u0438\u0441\u043b','1','\u0442\u0430\u043a\u0436','\u0430\u0432\u0433\u0443\u0441\u0442','\u0432\u0441\u044f\u043a','\u0434\u0435\u0441\u044f\u0442','\u0434\u043b\u044f','\u0441\u0435\u043c','\u0436\u0438\u0442\u0435\u043b','\u0435\u0436\u0435\u043d\u0435\u0434\u0435\u043b\u044c\u043d','\u0447\u0435\u0442\u044b\u0440','\u0436\u0435','\u0442\u043e','6','\u0447\u0435\u0442\u0432\u0435\u0440\u0442','\u043a\u0430\u043a','\u0441\u044a\u0435\u0437\u0436\u0430','\u043c\u0435\u0441\u0442','9','\u0431\u043e\u043b\u044c\u0448','\u043d\u043e\u044f\u0431\u0440','\u043c\u0435\u0441\u044f\u0446','\u043e\u0431\u044b\u0432\u0430\u0442\u0435\u043b','\u043a\u0438\u0435\u0432\u0441\u043a','29','\u043f\u0440\u043e\u0434\u0430\u0436','\u043c\u043e\u043d\u0430\u0441\u0442\u044b\u0440','\u0434\u0435\u043a\u0430\u0431\u0440','\u0433\u0443\u0431\u0435\u0440\u043d','\u043c\u043e\u0441\u043a\u043e\u0432\u0441\u043a']) # words that aren't of interest to this analysis. can be replaced/commented out"
     ],
     "language": "python",
     "metadata": {},
     "outputs": [],
     "prompt_number": 18
    },
    {
     "cell_type": "code",
     "collapsed": false,
     "input": [
      "stopped_tokens = [w for w in tok_stems if w not in stopwords]"
     ],
     "language": "python",
     "metadata": {},
     "outputs": [],
     "prompt_number": 19
    },
    {
     "cell_type": "code",
     "collapsed": false,
     "input": [
      "stopped_text = nltk.text.Text(stopped_tokens)"
     ],
     "language": "python",
     "metadata": {},
     "outputs": [],
     "prompt_number": 20
    },
    {
     "cell_type": "code",
     "collapsed": false,
     "input": [
      "#nltk.FreqDist(stopped_text).most_common()"
     ],
     "language": "python",
     "metadata": {},
     "outputs": [],
     "prompt_number": 21
    },
    {
     "cell_type": "code",
     "collapsed": false,
     "input": [
      "top50 = [p[0] for p in nltk.FreqDist(stopped_text).most_common()][:50]"
     ],
     "language": "python",
     "metadata": {},
     "outputs": [],
     "prompt_number": 22
    },
    {
     "cell_type": "code",
     "collapsed": false,
     "input": [
      "nltk.FreqDist(stopped_text).plot(25,cumulative=True)"
     ],
     "language": "python",
     "metadata": {},
     "outputs": [
      {
       "metadata": {},
       "output_type": "display_data",
       "png": "[encoded data removed]",
       "text": [
        "<matplotlib.figure.Figure at 0xaee57b8>"
       ]
      }
     ],
     "prompt_number": 23
    },
    {
     "cell_type": "code",
     "collapsed": false,
     "input": [
      "#top50"
     ],
     "language": "python",
     "metadata": {},
     "outputs": [],
     "prompt_number": 24
    },
    {
     "cell_type": "code",
     "collapsed": true,
     "input": [
      "#[reverse_stem[w][0] for w in top50]"
     ],
     "language": "python",
     "metadata": {},
     "outputs": [],
     "prompt_number": 25
    },
    {
     "cell_type": "code",
     "collapsed": false,
     "input": [
      "with open(\"../resources/reverse_stem.json\",\"w\",encoding='utf-8') as fp:\n",
      "    json.dump(reverse_stem,fp)"
     ],
     "language": "python",
     "metadata": {},
     "outputs": [],
     "prompt_number": 26
    },
    {
     "cell_type": "code",
     "collapsed": false,
     "input": [
      "ru_stemmer.stem('\u0441\u043c\u043e\u043b')"
     ],
     "language": "python",
     "metadata": {},
     "outputs": [
      {
       "metadata": {},
       "output_type": "pyout",
       "prompt_number": 27,
       "text": [
        "'\u0441\u043c\u043e\u043b'"
       ]
      }
     ],
     "prompt_number": 27
    },
    {
     "cell_type": "code",
     "collapsed": false,
     "input": [
      "reverse_stem[\"\u043a\u0440\u0430\u0441\u043d\"]"
     ],
     "language": "python",
     "metadata": {},
     "outputs": [
      {
       "metadata": {},
       "output_type": "pyout",
       "prompt_number": 28,
       "text": [
        "['\u041a\u0420\u0410\u0421\u041d\u041e\u0419', '\u043a\u0440\u0430\u0441\u043d\u044b\u043c', '\u043a\u0440\u0430\u0441\u043d\u0443\u044e', '\u043a\u0440\u0430\u0441\u043d\u044b\u043c\u0438', '\u043a\u0440\u0430\u0441\u043d\u043e\u0439', '\u041a\u0420\u0410\u0421\u041d\u041e\u0415', '\u043a\u0440\u0430\u0441\u043d\u044b\u0435']"
       ]
      }
     ],
     "prompt_number": 28
    },
    {
     "cell_type": "code",
     "collapsed": false,
     "input": [
      "goods_types =[]\n",
      "goods_from =[]\n",
      "for s in tok_sent:\n",
      "    if any([v in s for v in ['\u043f\u0440\u0438\u0435\u0437\u0436\u0430\u044e\u0442','\u043f\u0440\u0438\u0432\u043e\u0437\u044f\u0442','\u0442\u043e\u0440\u0433\u0443\u044e\u0442','\u0441\u044a\u0435\u0436\u0430\u044e\u0442\u0441\u044f','\u0441\u043a\u0443\u043f\u0430\u044e\u0442','\u043f\u043e\u043a\u0443\u043f\u0430\u044e\u0442']]):\n",
      "        for w in s:\n",
      "            match = re.match(r\"[\u0430-\u044f\u0410-\u042f]+(?:\u043c\u0438|\u043e\u043c)$\",w)\n",
      "            if match:\n",
      "                if re.match(r\"^[\u0410-\u042f]\",match.string):\n",
      "                    goods_from.append(match.string)\n",
      "                else:\n",
      "                    goods_types.append(match.string)"
     ],
     "language": "python",
     "metadata": {},
     "outputs": [],
     "prompt_number": 29
    },
    {
     "cell_type": "code",
     "collapsed": false,
     "input": [
      "set(goods_types)"
     ],
     "language": "python",
     "metadata": {},
     "outputs": [
      {
       "metadata": {},
       "output_type": "pyout",
       "prompt_number": 30,
       "text": [
        "{'\u0431\u0435\u0447\u0435\u0432\u0430\u043c\u0438',\n",
        " '\u0431\u0440\u0443\u0441\u044c\u044f\u043c\u0438',\n",
        " '\u0431\u0443\u043c\u0430\u0436\u043d\u044b\u043c\u0438',\n",
        " '\u0432\u0435\u0440\u0435\u0432\u043a\u0430\u043c\u0438',\n",
        " '\u0432\u0435\u0449\u0430\u043c\u0438',\n",
        " '\u0432\u0438\u043d\u0430\u043c\u0438',\n",
        " '\u0432\u0438\u043d\u043e\u043c',\n",
        " '\u0432\u043d\u0443\u0442\u0440\u0435\u043d\u043d\u0438\u043c\u0438',\n",
        " '\u0432\u043e\u0441\u043a\u043e\u043c',\n",
        " '\u0432\u0441\u044f\u043a\u0438\u043c\u0438',\n",
        " '\u0432\u044b\u0431\u043e\u0439\u043a\u0430\u043c\u0438',\n",
        " '\u0433\u0430\u043b\u0430\u043d\u0442\u0435\u0440\u0435\u0439\u043d\u044b\u043c\u0438',\n",
        " '\u0433\u0430\u0440\u0443\u0441\u043d\u044b\u043c\u0438',\n",
        " '\u0433\u0432\u043e\u0437\u0434\u044f\u043c\u0438',\n",
        " '\u0433\u043e\u0432\u044f\u0436\u044c\u0438\u043c\u0438',\n",
        " '\u0433\u043e\u0440\u0448\u043a\u0430\u043c\u0438',\n",
        " '\u0433\u043e\u0441\u0442\u0438\u043d\u043e\u043c',\n",
        " '\u0433\u0443\u043c\u043c\u0438',\n",
        " '\u0434\u0435\u0440\u0435\u0432\u0435\u043d\u0441\u043a\u0438\u043c\u0438',\n",
        " '\u0434\u0435\u0440\u0435\u0432\u044f\u043d\u043d\u043e\u043c',\n",
        " '\u0434\u043e\u043c\u043e\u0432\u043d\u044b\u043c\u0438',\n",
        " '\u0434\u0440\u043e\u0431\u044f\u0437\u043a\u043e\u043c',\n",
        " '\u0434\u0440\u0443\u0433\u0438\u043c\u0438',\n",
        " '\u0434\u0440\u0443\u0433\u043e\u043c',\n",
        " '\u0434\u0443\u0433\u0430\u043c\u0438',\n",
        " '\u0436\u0435\u043b\u0435\u0437\u043d\u044b\u043c\u0438',\n",
        " '\u0436\u0435\u043b\u0435\u0437\u043e\u043c',\n",
        " '\u0436\u0438\u0442\u0435\u043b\u044f\u043c\u0438',\n",
        " '\u0437\u0430\u043c\u043a\u0430\u043c\u0438',\n",
        " '\u0437\u0430\u043c\u043e\u0440\u0441\u043a\u0438\u043c\u0438',\n",
        " '\u0437\u043d\u0430\u0442\u043d\u043e\u043c',\n",
        " '\u0437\u043d\u0430\u0442\u043d\u044b\u043c\u0438',\n",
        " '\u0438\u0437\u0434\u0435\u043b\u044c\u044f\u043c\u0438',\n",
        " '\u0438\u043c\u0438',\n",
        " '\u0438\u043d\u043e\u0441\u0442\u0440\u0430\u043d\u043d\u044b\u043c\u0438',\n",
        " '\u043a\u0430\u0436\u0434\u043e\u043c',\n",
        " '\u043a\u0430\u043a\u0438\u043c\u0438',\n",
        " '\u043a\u0438\u0442\u0430\u0439\u043a\u0430\u043c\u0438',\n",
        " '\u043a\u043e\u0436\u0430\u043c\u0438',\n",
        " '\u043a\u043e\u0438\u043c\u0438',\n",
        " '\u043a\u043e\u043b\u0435\u0441\u0430\u043c\u0438',\n",
        " '\u043a\u043e\u043d\u0441\u043a\u0438\u043c\u0438',\n",
        " '\u043a\u043e\u0441\u0430\u043c\u0438',\n",
        " '\u043a\u043e\u0442\u043b\u0430\u043c\u0438',\n",
        " '\u043a\u043e\u0442\u043e\u0440\u043e\u043c',\n",
        " '\u043a\u0440\u0430\u043c\u043d\u044b\u043c\u0438',\n",
        " '\u043a\u0440\u0430\u0441\u043d\u044b\u043c\u0438',\n",
        " '\u043a\u0440\u0435\u0441\u0442\u044c\u044f\u043d\u0430\u043c\u0438',\n",
        " '\u043a\u0440\u0435\u0441\u0442\u044c\u044f\u043d\u0441\u043a\u0438\u043c\u0438',\n",
        " '\u043a\u0443\u043f\u0435\u0446\u043a\u0438\u043c\u0438',\n",
        " '\u043a\u0443\u043f\u0435\u0447\u0435\u0441\u043a\u0438\u043c\u0438',\n",
        " '\u043a\u0443\u043f\u0446\u0430\u043c\u0438',\n",
        " '\u043b\u0430\u0432\u043e\u0447\u043d\u044b\u043c\u0438',\n",
        " '\u043b\u0430\u0434\u043e\u043d\u043e\u043c',\n",
        " '\u043b\u0435\u0441\u0430\u043c\u0438',\n",
        " '\u043b\u0435\u0441\u043e\u043c',\n",
        " '\u043b\u0438\u0432\u043e\u043c',\n",
        " '\u043b\u043e\u0448\u0430\u0434\u044c\u043c\u0438',\n",
        " '\u043b\u044b\u043a\u0430\u043c\u0438',\n",
        " '\u043b\u044c\u043d\u043e\u043c',\n",
        " '\u043c\u0430\u0441\u043b\u043e\u043c',\n",
        " '\u043c\u0430\u0442\u0435\u0440\u0438\u044f\u043c\u0438',\n",
        " '\u043c\u0435\u0434\u043a\u0438\u043c\u0438',\n",
        " '\u043c\u0435\u0434\u043d\u044b\u043c\u0438',\n",
        " '\u043c\u0435\u0434\u043e\u043c',\n",
        " '\u043c\u0435\u043b\u043a\u0438\u043c\u0438',\n",
        " '\u043c\u0435\u043b\u043e\u0447\u0430\u043c\u0438',\n",
        " '\u043c\u0435\u043b\u043e\u0447\u043c\u0438',\n",
        " '\u043c\u0435\u043b\u043e\u0447\u043d\u044b\u043c\u0438',\n",
        " '\u043c\u0435\u0445\u043e\u0432\u044b\u043c\u0438',\n",
        " '\u043c\u043e\u0441\u043a\u043e\u0442\u0438\u043b\u044c\u043d\u044b\u043c\u0438',\n",
        " '\u043c\u044f\u0441\u0430\u043c\u0438',\n",
        " '\u043d\u0430\u0431\u043e\u0439\u0447\u0430\u0442\u044b\u043c\u0438',\n",
        " '\u043d\u0430\u0434\u043b\u0435\u0436\u0430\u0449\u0438\u043c\u0438',\n",
        " '\u043d\u0435\u0431\u043e\u0433\u0430\u0442\u044b\u043c\u0438',\n",
        " '\u043d\u0435\u0432\u043e\u0434\u043d\u044b\u043c\u0438',\n",
        " '\u043d\u0435\u0434\u043e\u0440\u043e\u0433\u0438\u043c\u0438',\n",
        " '\u043d\u0435\u043c\u0430\u043b\u043e\u043c',\n",
        " '\u043d\u0438\u0442\u043a\u0430\u043c\u0438',\n",
        " '\u043d\u0443\u0436\u043d\u044b\u043c\u0438',\n",
        " '\u043d\u044b\u043c\u0438',\n",
        " '\u043e\u0431\u043e\u0434\u0430\u043c\u0438',\n",
        " '\u043e\u0431\u044b\u0432\u0430\u0442\u0435\u043b\u044f\u043c\u0438',\n",
        " '\u043e\u0431\u044b\u043a\u043d\u043e\u0432\u0435\u043d\u043d\u044b\u043c\u0438',\n",
        " '\u043e\u0432\u0446\u0430\u043c\u0438',\n",
        " '\u043e\u0432\u0447\u0438\u043d\u0430\u043c\u0438',\n",
        " '\u043e\u0434\u043d\u043e\u043c',\n",
        " '\u043e\u043b\u043e\u0432\u044f\u043d\u043d\u044b\u043c\u0438',\n",
        " '\u043e\u043d\u043e\u043c',\n",
        " '\u043e\u0441\u043e\u0431\u043b\u0438\u0432\u043e\u043c',\n",
        " '\u043f\u0430\u0440\u0447\u0430\u043c\u0438',\n",
        " '\u043f\u0435\u043d\u0435\u0447\u043d\u044b\u043c\u0438',\n",
        " '\u043f\u0438\u0432\u043e\u043c',\n",
        " '\u043f\u0438\u0442\u0435\u0439\u043d\u044b\u043c\u0438',\n",
        " '\u043f\u043b\u0430\u0442\u043a\u0430\u043c\u0438',\n",
        " '\u043f\u043e\u0437\u0443\u043c\u0435\u043d\u0442\u0430\u043c\u0438',\n",
        " '\u043f\u043e\u043a\u0440\u043e\u043c\u0438',\n",
        " '\u043f\u043e\u043b\u043e\u0442\u043d\u043e\u043c',\n",
        " '\u043f\u0440\u0438\u0432\u043e\u0437\u0438\u043c\u044b\u043c\u0438',\n",
        " '\u043f\u0440\u0438\u0432\u043e\u0437\u043d\u044b\u043c\u0438',\n",
        " '\u043f\u0440\u0438\u0435\u0437\u0436\u0438\u043c\u0438',\n",
        " '\u043f\u0440\u0438\u043f\u0430\u0441\u0430\u043c\u0438',\n",
        " '\u043f\u0440\u0438\u0443\u0433\u043e\u0442\u043e\u0432\u043b\u0435\u043d\u0438\u044f\u043c\u0438',\n",
        " '\u043f\u0440\u043e\u0434\u0430\u0436\u043d\u044b\u043c\u0438',\n",
        " '\u043f\u0440\u043e\u0434\u0443\u043a\u0442\u0430\u043c\u0438',\n",
        " '\u043f\u0440\u043e\u0438\u0437\u0440\u0430\u0441\u0442\u0430\u043d\u0438\u044f\u043c\u0438',\n",
        " '\u043f\u0440\u043e\u0438\u0437\u0440\u0430\u0441\u0442\u0435\u043d\u0438\u044f\u043c\u0438',\n",
        " '\u043f\u0440\u043e\u0447\u0438\u043c\u0438',\n",
        " '\u043f\u0443\u0448\u043d\u044b\u043c\u0438',\n",
        " '\u0440\u0430\u0437\u043b\u0438\u0447\u043d\u044b\u043c\u0438',\n",
        " '\u0440\u0430\u0437\u043d\u044b\u043c\u0438',\n",
        " '\u0440\u043e\u0433\u043e\u0436\u0430\u043c\u0438',\n",
        " '\u0440\u043e\u0437\u0430\u043c\u0438',\n",
        " '\u0440\u043e\u043c',\n",
        " '\u0440\u043e\u0441\u0442\u043e\u043c',\n",
        " '\u0440\u0443\u043a\u043e\u0434\u0435\u043b\u0438\u044f\u043c\u0438',\n",
        " '\u0440\u0443\u043a\u043e\u0434\u0435\u043b\u044c\u043d\u044b\u043c\u0438',\n",
        " '\u0441\u0430\u043b\u043e\u043c',\n",
        " '\u0441\u0430\u043d\u044c\u043c\u0438',\n",
        " '\u0441\u0430\u043d\u044f\u043c\u0438',\n",
        " '\u0441\u0430\u043f\u043e\u0433\u0430\u043c\u0438',\n",
        " '\u0441\u0430\u0445\u0430\u0440\u043e\u043c',\n",
        " '\u0441\u0432\u043e\u0438\u043c\u0438',\n",
        " '\u0441\u0435\u043c\u0438',\n",
        " '\u0441\u0435\u043d\u043e\u043c',\n",
        " '\u0441\u0435\u0440\u0435\u0431\u0440\u0435\u043d\u044b\u043c\u0438',\n",
        " '\u0441\u0435\u0440\u0435\u0431\u0440\u044f\u043d\u044b\u043c\u0438',\n",
        " '\u0441\u0435\u0441\u0442\u043d\u044b\u043c\u0438',\n",
        " '\u0441\u043a\u043e\u0432\u043e\u0440\u043e\u0434\u0430\u043c\u0438',\n",
        " '\u0441\u043a\u043e\u043c',\n",
        " '\u0441\u043a\u043e\u0442\u043e\u043c',\n",
        " '\u0441\u043a\u043e\u0442\u0441\u043a\u0438\u043c\u0438',\n",
        " '\u0441\u043e\u0441\u0443\u0434\u0430\u043c\u0438',\n",
        " '\u0441\u0443\u043a\u043d\u0430\u043c\u0438',\n",
        " '\u0441\u0443\u043a\u043e\u043d\u043d\u044b\u043c\u0438',\n",
        " '\u0441\u0443\u0440\u043e\u0432\u0441\u043a\u0438\u043c\u0438',\n",
        " '\u0441\u044a\u0435\u0441\u0442\u043d\u044b\u043c\u0438',\n",
        " '\u0442\u0430\u0431\u0430\u043a\u043e\u043c',\n",
        " '\u0442\u043e\u0432\u0430\u0440\u0430\u043c\u0438',\n",
        " '\u0442\u043e\u0432\u0430\u0440\u043e\u043c',\n",
        " '\u0442\u043e\u043c',\n",
        " '\u0442\u043e\u0440\u0433\u043e\u043c',\n",
        " '\u0442\u0443\u0442\u043e\u0448\u043d\u0438\u043c\u0438',\n",
        " '\u0443\u0435\u0437\u0434\u043d\u044b\u043c\u0438',\n",
        " '\u0443\u043a\u043b\u0430\u0434\u043e\u043c',\n",
        " '\u0445\u0430\u0440\u0447\u0435\u0432\u044b\u043c\u0438',\n",
        " '\u0445\u043b\u0435\u0431\u043d\u044b\u043c\u0438',\n",
        " '\u0445\u043b\u0435\u0431\u043e\u043c',\n",
        " '\u0445\u043e\u043b\u0435\u0442\u043e\u043c',\n",
        " '\u0445\u043e\u043b\u0441\u0442\u0430\u043c\u0438',\n",
        " '\u0445\u043e\u043b\u0441\u0442\u043e\u043c',\n",
        " '\u0445\u043e\u043c\u0443\u0442\u0430\u043c\u0438',\n",
        " '\u0447\u0438\u043c\u0438',\n",
        " '\u0447\u0438\u0441\u043b\u043e\u043c',\n",
        " '\u0447\u0443\u043b\u043a\u0430\u043c\u0438',\n",
        " '\u0448\u0435\u043b\u043a\u043e\u0432\u044b\u043c\u0438',\n",
        " '\u0448\u0435\u043b\u043a\u043e\u043c',\n",
        " '\u0448\u0435\u0440\u0441\u0442\u044f\u043d\u044b\u043c\u0438',\n",
        " '\u0449\u0435\u043f\u0435\u0442\u0438\u043b\u044c\u043d\u044b\u043c\u0438',\n",
        " '\u0449\u0435\u043f\u0435\u0442\u0438\u043d\u043d\u044b\u043c\u0438'}"
       ]
      }
     ],
     "prompt_number": 30
    },
    {
     "cell_type": "code",
     "collapsed": false,
     "input": [
      "goodskinds = set(goods_types)\n",
      "removelist = ['\u043e\u043d\u043e\u043c','\u0442\u043e\u0432\u0430\u0440\u0430\u043c\u0438','\u0442\u043e\u0432\u0430\u0440\u043e\u043c','\u0432\u0435\u0449\u0430\u043c\u0438','\u0432\u0441\u044f\u043a\u0438\u043c\u0438','\u0434\u0440\u0443\u0433\u0438\u043c\u0438','\u0434\u0440\u0443\u0433\u043e\u043c','\u0438\u043c\u0438','\u0440\u0430\u0437\u043b\u0438\u0447\u043d\u044b\u043c\u0438','\u0440\u0430\u0437\u043d\u044b\u043c\u0438','\u0442\u043e\u0440\u0433\u043e\u043c','\u0442\u043e\u043c','\u043a\u043e\u0438\u043c\u0438']\n",
      "for i in removelist:\n",
      "    if i in goodskinds:\n",
      "        goodskinds.remove(i)"
     ],
     "language": "python",
     "metadata": {},
     "outputs": [],
     "prompt_number": 31
    },
    {
     "cell_type": "markdown",
     "metadata": {},
     "source": [
      "normgoodskinds = []\n",
      "for g in goodskinds:\n",
      "    url = 'http://ru.oldict.com/{}'.format(g)\n",
      "    try:\n",
      "        tree = html.parse(url)\n",
      "        norm = tree.xpath('/html/body/article/p[1]')[0].text_content()\n",
      "        norm = re.sub(r\"^=> {\",\"\",norm)\n",
      "        norm = re.sub(r\"}$\",\"\",norm)\n",
      "        norm = re.sub(r\"^#REDIRECT \",\"\",norm)\n",
      "        norm = re.sub(r\"}.*\",\"\",norm)\n",
      "        norm = re.sub(r\"\\n.*\",\"\",norm)\n",
      "        if len(norm.split(sep=' '))!=1:\n",
      "            print(\"{} is formatted funny\".format(url))\n",
      "            normgoodskinds.append(g)\n",
      "        else:\n",
      "            normgoodskinds.append(norm)\n",
      "    except:\n",
      "        print(url)\n",
      "        normgoodskinds.append(g)"
     ]
    },
    {
     "cell_type": "markdown",
     "metadata": {},
     "source": [
      "normgoodskinds"
     ]
    },
    {
     "cell_type": "code",
     "collapsed": false,
     "input": [
      "type_stem = [ru_stemmer.stem(g) for g in goods_types]"
     ],
     "language": "python",
     "metadata": {},
     "outputs": [],
     "prompt_number": 33
    },
    {
     "cell_type": "code",
     "collapsed": false,
     "input": [
      "set(type_stem)"
     ],
     "language": "python",
     "metadata": {},
     "outputs": [
      {
       "metadata": {},
       "output_type": "pyout",
       "prompt_number": 34,
       "text": [
        "{'\u0431\u0435\u0447\u0435\u0432',\n",
        " '\u0431\u0440\u0443\u0441',\n",
        " '\u0431\u0443\u043c\u0430\u0436\u043d',\n",
        " '\u0432\u0435\u0440\u0435\u0432\u043a',\n",
        " '\u0432\u0435\u0449',\n",
        " '\u0432\u0438\u043d',\n",
        " '\u0432\u043d\u0443\u0442\u0440\u0435\u043d',\n",
        " '\u0432\u043e\u0441\u043a',\n",
        " '\u0432\u0441\u044f\u043a',\n",
        " '\u0432\u044b\u0431\u043e\u0439\u043a',\n",
        " '\u0433\u0430\u043b\u0430\u043d\u0442\u0435\u0440\u0435\u0439\u043d',\n",
        " '\u0433\u0430\u0440\u0443\u0441\u043d',\n",
        " '\u0433\u0432\u043e\u0437\u0434',\n",
        " '\u0433\u043e\u0432\u044f\u0436',\n",
        " '\u0433\u043e\u0440\u0448\u043a',\n",
        " '\u0433\u043e\u0441\u0442\u0438\u043d',\n",
        " '\u0433\u0443\u043c\u043c',\n",
        " '\u0434\u0435\u0440\u0435\u0432\u0435\u043d\u0441\u043a',\n",
        " '\u0434\u0435\u0440\u0435\u0432\u044f',\n",
        " '\u0434\u043e\u043c\u043e\u0432\u043d',\n",
        " '\u0434\u0440\u043e\u0431\u044f\u0437\u043a',\n",
        " '\u0434\u0440\u0443\u0433',\n",
        " '\u0434\u0443\u0433',\n",
        " '\u0436\u0435\u043b\u0435\u0437',\n",
        " '\u0436\u0435\u043b\u0435\u0437\u043d',\n",
        " '\u0436\u0438\u0442\u0435\u043b',\n",
        " '\u0437\u0430\u043c\u043a',\n",
        " '\u0437\u0430\u043c\u043e\u0440\u0441\u043a',\n",
        " '\u0437\u043d\u0430\u0442\u043d',\n",
        " '\u0438\u0437\u0434\u0435\u043b',\n",
        " '\u0438\u043c',\n",
        " '\u0438\u043d\u043e\u0441\u0442\u0440\u0430',\n",
        " '\u043a\u0430\u0436\u0434',\n",
        " '\u043a\u0430\u043a',\n",
        " '\u043a\u0438\u0442\u0430\u0439\u043a',\n",
        " '\u043a\u043e',\n",
        " '\u043a\u043e\u0436',\n",
        " '\u043a\u043e\u043b\u0435\u0441',\n",
        " '\u043a\u043e\u043d\u0441\u043a',\n",
        " '\u043a\u043e\u0441',\n",
        " '\u043a\u043e\u0442\u043b',\n",
        " '\u043a\u043e\u0442\u043e\u0440',\n",
        " '\u043a\u0440\u0430\u043c\u043d',\n",
        " '\u043a\u0440\u0430\u0441\u043d',\n",
        " '\u043a\u0440\u0435\u0441\u0442\u044c\u044f\u043d',\n",
        " '\u043a\u0440\u0435\u0441\u0442\u044c\u044f\u043d\u0441\u043a',\n",
        " '\u043a\u0443\u043f\u0435\u0446\u043a',\n",
        " '\u043a\u0443\u043f\u0435\u0447\u0435\u0441\u043a',\n",
        " '\u043a\u0443\u043f\u0446',\n",
        " '\u043b\u0430\u0432\u043e\u0447\u043d',\n",
        " '\u043b\u0430\u0434\u043e\u043d',\n",
        " '\u043b\u0435\u0441',\n",
        " '\u043b\u0438\u0432',\n",
        " '\u043b\u043e\u0448\u0430\u0434\u044c\u043c',\n",
        " '\u043b\u044b\u043a',\n",
        " '\u043b\u044c\u043d\u043e\u043c',\n",
        " '\u043c\u0430\u0441\u043b',\n",
        " '\u043c\u0430\u0442\u0435\u0440',\n",
        " '\u043c\u0435\u0434',\n",
        " '\u043c\u0435\u0434\u043a',\n",
        " '\u043c\u0435\u0434\u043d',\n",
        " '\u043c\u0435\u043b\u043a',\n",
        " '\u043c\u0435\u043b\u043e\u0447',\n",
        " '\u043c\u0435\u043b\u043e\u0447\u043c',\n",
        " '\u043c\u0435\u043b\u043e\u0447\u043d',\n",
        " '\u043c\u0435\u0445\u043e\u0432',\n",
        " '\u043c\u043e\u0441\u043a\u043e\u0442\u0438\u043b\u044c\u043d',\n",
        " '\u043c\u044f\u0441',\n",
        " '\u043d\u0430\u0431\u043e\u0439\u0447\u0430\u0442',\n",
        " '\u043d\u0430\u0434\u043b\u0435\u0436\u0430',\n",
        " '\u043d\u0435\u0431\u043e\u0433\u0430\u0442',\n",
        " '\u043d\u0435\u0432\u043e\u0434\u043d',\n",
        " '\u043d\u0435\u0434\u043e\u0440\u043e\u0433',\n",
        " '\u043d\u0435\u043c\u0430\u043b',\n",
        " '\u043d\u0438\u0442\u043a',\n",
        " '\u043d\u0443\u0436\u043d',\n",
        " '\u043d\u044b\u043c',\n",
        " '\u043e\u0431\u043e\u0434',\n",
        " '\u043e\u0431\u044b\u0432\u0430\u0442\u0435\u043b',\n",
        " '\u043e\u0431\u044b\u043a\u043d\u043e\u0432\u0435\u043d',\n",
        " '\u043e\u0432\u0446',\n",
        " '\u043e\u0432\u0447\u0438\u043d',\n",
        " '\u043e\u0434\u043d',\n",
        " '\u043e\u043b\u043e\u0432\u044f',\n",
        " '\u043e\u043d',\n",
        " '\u043e\u0441\u043e\u0431\u043b\u0438\u0432',\n",
        " '\u043f\u0430\u0440\u0447',\n",
        " '\u043f\u0435\u043d\u0435\u0447\u043d',\n",
        " '\u043f\u0438\u0432',\n",
        " '\u043f\u0438\u0442\u0435\u0439\u043d',\n",
        " '\u043f\u043b\u0430\u0442\u043a',\n",
        " '\u043f\u043e\u0437\u0443\u043c\u0435\u043d\u0442',\n",
        " '\u043f\u043e\u043a\u0440\u043e\u043c',\n",
        " '\u043f\u043e\u043b\u043e\u0442\u043d',\n",
        " '\u043f\u0440\u0438\u0432\u043e\u0437\u0438\u043c',\n",
        " '\u043f\u0440\u0438\u0432\u043e\u0437\u043d',\n",
        " '\u043f\u0440\u0438\u0435\u0437\u0436',\n",
        " '\u043f\u0440\u0438\u043f\u0430\u0441',\n",
        " '\u043f\u0440\u0438\u0443\u0433\u043e\u0442\u043e\u0432\u043b\u0435\u043d',\n",
        " '\u043f\u0440\u043e\u0434\u0430\u0436\u043d',\n",
        " '\u043f\u0440\u043e\u0434\u0443\u043a\u0442',\n",
        " '\u043f\u0440\u043e\u0438\u0437\u0440\u0430\u0441\u0442\u0430\u043d',\n",
        " '\u043f\u0440\u043e\u0438\u0437\u0440\u0430\u0441\u0442\u0435\u043d',\n",
        " '\u043f\u0440\u043e\u0447',\n",
        " '\u043f\u0443\u0448\u043d',\n",
        " '\u0440\u0430\u0437\u043b\u0438\u0447\u043d',\n",
        " '\u0440\u0430\u0437\u043d',\n",
        " '\u0440\u043e\u0433\u043e\u0436',\n",
        " '\u0440\u043e\u0437',\n",
        " '\u0440\u043e\u043c',\n",
        " '\u0440\u043e\u0441\u0442',\n",
        " '\u0440\u0443\u043a\u043e\u0434\u0435\u043b',\n",
        " '\u0440\u0443\u043a\u043e\u0434\u0435\u043b\u044c\u043d',\n",
        " '\u0441\u0430\u043b',\n",
        " '\u0441\u0430\u043d',\n",
        " '\u0441\u0430\u043d\u044c\u043c',\n",
        " '\u0441\u0430\u043f\u043e\u0433',\n",
        " '\u0441\u0430\u0445\u0430\u0440',\n",
        " '\u0441\u0432\u043e',\n",
        " '\u0441\u0435\u043c',\n",
        " '\u0441\u0435\u043d',\n",
        " '\u0441\u0435\u0440\u0435\u0431\u0440\u0435\u043d',\n",
        " '\u0441\u0435\u0440\u0435\u0431\u0440\u044f\u043d',\n",
        " '\u0441\u0435\u0441\u0442\u043d',\n",
        " '\u0441\u043a\u043e\u0432\u043e\u0440\u043e\u0434',\n",
        " '\u0441\u043a\u043e\u043c',\n",
        " '\u0441\u043a\u043e\u0442',\n",
        " '\u0441\u043a\u043e\u0442\u0441\u043a',\n",
        " '\u0441\u043e\u0441\u0443\u0434',\n",
        " '\u0441\u0443\u043a\u043d',\n",
        " '\u0441\u0443\u043a\u043e\u043d',\n",
        " '\u0441\u0443\u0440\u043e\u0432\u0441\u043a',\n",
        " '\u0441\u044a\u0435\u0441\u0442\u043d',\n",
        " '\u0442\u0430\u0431\u0430\u043a',\n",
        " '\u0442\u043e\u0432\u0430\u0440',\n",
        " '\u0442\u043e\u043c',\n",
        " '\u0442\u043e\u0440\u0433',\n",
        " '\u0442\u0443\u0442\u043e\u0448\u043d',\n",
        " '\u0443\u0435\u0437\u0434\u043d',\n",
        " '\u0443\u043a\u043b\u0430\u0434',\n",
        " '\u0445\u0430\u0440\u0447\u0435\u0432',\n",
        " '\u0445\u043b\u0435\u0431',\n",
        " '\u0445\u043b\u0435\u0431\u043d',\n",
        " '\u0445\u043e\u043b\u0435\u0442',\n",
        " '\u0445\u043e\u043b\u0441\u0442',\n",
        " '\u0445\u043e\u043c\u0443\u0442',\n",
        " '\u0447\u0438\u043c',\n",
        " '\u0447\u0438\u0441\u043b',\n",
        " '\u0447\u0443\u043b\u043a',\n",
        " '\u0448\u0435\u043b\u043a',\n",
        " '\u0448\u0435\u043b\u043a\u043e\u0432',\n",
        " '\u0448\u0435\u0440\u0441\u0442\u044f\u043d',\n",
        " '\u0449\u0435\u043f\u0435\u0442\u0438\u043b\u044c\u043d',\n",
        " '\u0449\u0435\u043f\u0435\u0442\u0438\u043d'}"
       ]
      }
     ],
     "prompt_number": 34
    },
    {
     "cell_type": "code",
     "collapsed": false,
     "input": [
      "set(goods_from)"
     ],
     "language": "python",
     "metadata": {},
     "outputs": [
      {
       "metadata": {},
       "output_type": "pyout",
       "prompt_number": 35,
       "text": [
        "{'\u0410\u0437\u0438\u0430\u0442\u0441\u043a\u0438\u043c\u0438',\n",
        " '\u0410\u0440\u043c\u044f\u043d\u0430\u043c\u0438',\n",
        " '\u0412\u0435\u043d\u0435\u0432\u0441\u043a\u043e\u043c',\n",
        " '\u0412\u043e\u0433\u0443\u043b\u0438\u0447\u0430\u043c\u0438',\n",
        " '\u0412\u043e\u043b\u043e\u0448\u0441\u043a\u0438\u043c\u0438',\n",
        " '\u0413\u0440\u0435\u043a\u0430\u043c\u0438',\n",
        " '\u0414\u0438\u043d\u0430\u0431\u0443\u0440\u0433\u0441\u043a\u043e\u043c',\n",
        " '\u0414\u043e\u043d\u043a\u043e\u0432\u0441\u043a\u043e\u043c',\n",
        " '\u0415\u0432\u0440\u043e\u043f\u0435\u0439\u0441\u043a\u0438\u043c\u0438',\n",
        " '\u0418\u043d\u0434\u0435\u0439\u0446\u0430\u043c\u0438',\n",
        " '\u041a\u0438\u0442\u0430\u0439\u0441\u043a\u0438\u043c\u0438',\n",
        " '\u041a\u0443\u0440\u043c\u044b\u0448\u0441\u043a\u043e\u043c',\n",
        " '\u041b\u0435\u0431\u0435\u0434\u0438\u043d\u0441\u043a\u043e\u043c',\n",
        " '\u041d\u0435\u043c\u0435\u0446\u043a\u0438\u043c\u0438',\n",
        " '\u041e\u0441\u0442\u044f\u043a\u0430\u043c\u0438',\n",
        " '\u041f\u0430\u0440\u0441\u043a\u043e\u043c',\n",
        " '\u041f\u0435\u0440\u0441\u0438\u0430\u043d\u0430\u043c\u0438',\n",
        " '\u0420\u043e\u0441\u0441\u0438\u0439\u0441\u043a\u0438\u043c\u0438',\n",
        " '\u0421\u0438\u0431\u0438\u0440\u0441\u043a\u0438\u043c\u0438',\n",
        " '\u0422\u0430\u043c\u0431\u043e\u0432\u0441\u043a\u043e\u043c',\n",
        " '\u0422\u0440\u043e\u0438\u0446\u043a\u043e\u043c',\n",
        " '\u0426\u0430\u0440\u0435\u0433\u0440\u0430\u0434\u0441\u043a\u0438\u043c\u0438'}"
       ]
      }
     ],
     "prompt_number": 35
    },
    {
     "cell_type": "code",
     "collapsed": false,
     "input": [
      "text.concordance('\u0423\u0433\u043b\u0438\u0447\u0430',lines=1000,width=135)"
     ],
     "language": "python",
     "metadata": {},
     "outputs": [
      {
       "output_type": "stream",
       "stream": "stdout",
       "text": [
        "Displaying 17 of 17 matches:\n",
        "\u043d\u044f\u043d\u044b\u0435 \u0440\u0430\u0437\u043d\u044b\u0435 , \u0434\u0430 \u0438\u0437 \u0433\u043e\u0440\u043e\u0434\u043e\u0432 \u042f\u0440\u043e\u0441\u043b\u0430\u0432\u043b\u044f , \u041f\u0435\u0440\u0435\u0441\u043b\u0430\u0432\u043b\u044f \u0417\u0430\u043b\u0435\u0441\u043a\u043e\u0433\u043e , \u0423\u0433\u043b\u0438\u0447\u0430 \u043f\u0440\u0438\u0435\u0437\u0436\u0430\u044e\u0442 \u043a\u0443\u043f\u0446\u044b \u0441 \u043c\u0435\u043b\u043e\u0447\u043d\u044b\u043c\u0438 \u0432\u0441\u044f\u043a\u0438\u043c\u0438 \u043d\u0435\u0431\u043e\u0433\u0430\u0442\u044b\u043c\u0438 \u0442\u043e\u0432\u0430\u0440\u0430\u043c\u0438 . \u0421\u0415\u041c\u0415\u041d\n",
        "\u0437 \u0431\u043b\u0438\u0436\u043d\u0438\u0445 \u0433\u043e\u0440\u043e\u0434\u043e\u0432 , \u0430 \u0438\u043c\u0435\u043d\u043d\u043e : \u042f\u0440\u043e\u0441\u043b\u0430\u0432\u043b\u044f , \u0420\u043e\u0441\u0442\u043e\u0432\u0430 , \u0420\u043e\u043c\u0430\u043d\u043e\u0432\u0430 , \u0423\u0433\u043b\u0438\u0447\u0430 , \u0411\u043e\u0440\u0438\u0441\u043e\u0433\u043b\u0435\u0431\u0441\u043a\u0430 , \u0420\u044b\u0431\u043d\u043e\u0433\u043e , \u041c\u043e\u043b\u043e\u0433\u0438 \u0438 \u0441\u043b\u043e\u0431\u043e\u0434\u044b \u041d\u043e\u0440\u0441\u043a\u043e\u0439 . \u0410\u041b\u0415\u041a\u0421\u0410\u041d\u0414\n",
        "\u043d\u044f\u043d\u044b\u0435 \u0440\u0430\u0437\u043d\u044b\u0435 , \u0434\u0430 \u0438\u0437 \u0433\u043e\u0440\u043e\u0434\u043e\u0432 \u042f\u0440\u043e\u0441\u043b\u0430\u0432\u043b\u044f , \u041f\u0435\u0440\u0435\u0441\u043b\u0430\u0432\u043b\u044f \u0417\u0430\u043b\u0435\u0441\u043a\u043e\u0433\u043e , \u0423\u0433\u043b\u0438\u0447\u0430 \u043f\u0440\u0438\u0435\u0437\u0436\u0430\u044e\u0442 \u043a\u0443\u043f\u0446\u044b \u0441 \u043c\u0435\u043b\u043e\u0447\u043d\u044b\u043c\u0438 \u0432\u0441\u044f\u043a\u0438\u043c\u0438 \u043d\u0435\u0431\u043e\u0433\u0430\u0442\u044b\u043c\u0438 \u0442\u043e\u0432\u0430\u0440\u0430\u043c\u0438 . \u0421\u0422\u0420\u0415\u041b\n",
        "\u043e : \u041f\u0440\u0438\u043b\u0443\u043a\u0430\u0445 , \u0420\u043e\u0436\u0435\u0441\u0442\u0432\u0435\u043d\u0435 , \u041a\u0435\u044e \u0438 \u041d\u0435\u043a\u043e\u0443\u0437\u0435 ; \u0442\u043e\u0440\u0433\u0443\u044e\u0442 \u043f\u0440\u0438\u0435\u0437\u0436\u0438\u0435 \u0438\u0437 \u0423\u0433\u043b\u0438\u0447\u0430 , \u041a\u0430\u0448\u0438\u043d\u0430 \u0438 \u0411\u0435\u0436\u0435\u0446\u043a\u0430 \u043a\u0443\u043f\u0446\u044b \u043c\u0435\u043b\u043a\u0438\u043c\u0438 \u043c\u043e\u0441\u043a\u043e\u0442\u0438\u043b\u044c\u043d\u044b\u043c\u0438 \u0438 \u0448\u0435\u043b\u043a\u043e\u0432\u044b\u043c\u0438 \u0442\u043e\u0432\u0430\n",
        "\u043d\u044f\u043d\u044b\u0435 \u0440\u0430\u0437\u043d\u044b\u0435 , \u0434\u0430 \u0438\u0437 \u0433\u043e\u0440\u043e\u0434\u043e\u0432 \u042f\u0440\u043e\u0441\u043b\u0430\u0432\u043b\u044f , \u041f\u0435\u0440\u0435\u0441\u043b\u0430\u0432\u043b\u044f \u0417\u0430\u043b\u0435\u0441\u043a\u043e\u0433\u043e \u0438 \u0423\u0433\u043b\u0438\u0447\u0430 \u043c\u0435\u043b\u043e\u0447\u043d\u044b\u0435 \u0432\u0441\u044f\u043a\u0438\u0435 \u043d\u0435\u0431\u043e\u0433\u0430\u0442\u044b\u0435 \u0442\u043e\u0432\u0430\u0440\u044b . \u0412\u042b\u0422\u0415\u0413\u0420\u0410 , \u0433\u043e\u0440\u043e\u0434 \u041e\u043b\u043e\u043d\u0435\u0446\u043a\u043e\u0433\u043e \u041d\n",
        "\u043c . \u0412 \u0442\u043e \u0441\u0435\u043b\u043e \u043a\u0443\u043f\u0435\u0446\u043a\u0438\u0435 \u043b\u044e\u0434\u0438 \u043f\u0440\u0438\u0435\u0437\u0436\u0430\u044e\u0442 \u0438\u0437 \u042f\u0440\u043e\u0441\u043b\u0430\u0432\u043b\u044f , \u0420\u043e\u043c\u0430\u043d\u043e\u0432\u0430 , \u0423\u0433\u043b\u0438\u0447\u0430 , \u0411\u043e\u0440\u0438\u0441\u043e\u0433\u043b\u0435\u0431\u0441\u043a\u0430 , \u0420\u044b\u0431\u043d\u043e\u0433\u043e \u0438 \u0438\u0437\u044a\u0441\u0435\u043b \u0441 \u043c\u0435\u043b\u043a\u0438\u043c\u0438 \u043d\u0430 \u043f\u0440\u043e\u0434\u0430\u0436\u0443 \u043a\u0440\u0435\u0441\u0442\u044c\u044f\n",
        "\u043d\u044f\u043d\u044b\u0435 \u0440\u0430\u0437\u043d\u044b\u0435 , \u0434\u0430 \u0438\u0437 \u0433\u043e\u0440\u043e\u0434\u043e\u0432 \u042f\u0440\u043e\u0441\u043b\u0430\u0432\u043b\u044f , \u041f\u0435\u0440\u0435\u0441\u043b\u0430\u0432\u043b\u044f \u0417\u0430\u043b\u0435\u0441\u043a\u043e\u0433\u043e \u0438 \u0423\u0433\u043b\u0438\u0447\u0430 \u043f\u0440\u0438\u0435\u0437\u0436\u0430\u044e\u0442 \u043a\u0443\u043f\u0446\u044b \u0441 \u043c\u0435\u043b\u043e\u0447\u043d\u044b\u043c\u0438 \u0432\u0441\u044f\u043a\u0438\u043c\u0438 \u043d\u0435\u0431\u043e\u0433\u0430\u0442\u044b\u043c\u0438 \u0442\u043e\u0432\u0430\u0440\u0430\u043c\u0438 . \u0413\u041e\u0420\u041a\u0418\n",
        "\u043d\u0443\u044e \u044f\u0440\u043c\u0430\u0440\u043a\u0443 \u043a\u0443\u043f\u0435\u0447\u0435\u0441\u043a\u0438\u0435 \u043b\u044e\u0434\u0438 \u043f\u0440\u0438\u0435\u0437\u0436\u0430\u044e\u0442 \u0438\u0437 \u042f\u0440\u043e\u0441\u043b\u0430\u0432\u043b\u044f , \u0420\u043e\u043c\u0430\u043d\u043e\u0432\u0430 , \u0423\u0433\u043b\u0438\u0447\u0430 , \u0438\u0437 \u0411\u043e\u0440\u0438\u0441\u043e\u0433\u043b\u0435\u0431\u0441\u043a\u0430 , \u0438\u0437 \u0420\u044b\u0431\u043d\u043e\u0433\u043e \u0438 \u0438\u0437 \u0440\u0430\u0437\u043d\u044b\u0445 \u0441\u0435\u043b \u0441 \u043c\u0435\u043b\u043e\u0447\u043d\u044b\u043c\u0438 \u043d\u0430 \n",
        " \u0438\u0437 \u0431\u043b\u0438\u0436\u043d\u0438\u0445 \u0433\u043e\u0440\u043e\u0434\u043e\u0432 , \u043a\u0430\u043a - \u0442\u043e \u042f\u0440\u043e\u0441\u043b\u0430\u0432\u043b\u044f , \u0420\u043e\u0441\u0442\u043e\u0432\u0430 , \u0420\u043e\u043c\u0430\u043d\u043e\u0432\u0430 , \u0423\u0433\u043b\u0438\u0447\u0430 , \u0411\u043e\u0440\u0438\u0441\u043e\u0433\u043b\u0435\u0431\u0441\u043a\u0430 , \u0420\u044b\u0431\u043d\u043e\u0433\u043e , \u041c\u043e\u043b\u043e\u0433\u0438 \u0438 \u0441\u043b\u043e\u0431\u043e\u0434\u044b \u041d\u043e\u0440\u0441\u043a\u043e\u0439 . \u0418\u0413\u0423\u041c\u041d\u041e\u0412\u041e\n",
        "\u043d\u044f\u043d\u044b\u0435 \u0440\u0430\u0437\u043d\u044b\u0435 , \u0434\u0430 \u0438\u0437 \u0433\u043e\u0440\u043e\u0434\u043e\u0432 \u042f\u0440\u043e\u0441\u043b\u0430\u0432\u043b\u044f , \u041f\u0435\u0440\u0435\u0441\u043b\u0430\u0432\u043b\u044f \u0417\u0430\u043b\u0435\u0441\u043d\u043e\u0433\u043e \u0438 \u0423\u0433\u043b\u0438\u0447\u0430 \u043f\u0440\u0438\u0435\u0437\u0436\u0430\u044e\u0442 \u043a\u0443\u043f\u0446\u044b \u0441 \u043c\u0435\u043b\u043e\u0447\u043d\u044b\u043c\u0438 \u0432\u0441\u044f\u043a\u0438\u043c\u0438 \u043d\u0435\u0431\u043e\u0433\u0430\u0442\u044b\u043c\u0438 \u0442\u043e\u0432\u0430\u0440\u0430\u043c\u0438 . \u0418\u041d\u0416\u0410\u0412\n",
        "\u044c\u043d\u044f\u043d\u044b\u0435 \u0440\u0430\u0437\u043d\u044b\u0435 , \u0434\u0430 \u0438\u0437 \u0433\u043e\u0440\u043e\u0434\u0430 \u042f\u0440\u043e\u0441\u043b\u0430\u0432\u043b\u044f , \u041f\u0435\u0440\u0435\u0441\u043b\u0430\u0432\u043b\u044f \u0417\u0430\u043b\u0435\u0441\u043a\u043e\u0433\u043e \u0438 \u0423\u0433\u043b\u0438\u0447\u0430 \u043a\u0443\u043f\u0446\u044b \u043f\u0440\u0438\u0435\u0437\u0436\u0430\u044e\u0442 \u0441 \u043c\u0435\u043b\u043e\u0447\u043d\u044b\u043c\u0438 \u0432\u0441\u044f\u043a\u0438\u043c\u0438 \u043d\u0435\u0431\u043e\u0433\u0430\u0442\u044b\u043c\u0438 \u0442\u043e\u0432\u0430\u0440\u0430\u043c\u0438 . \u041a\u0415\u041c\u0410\u0420\n",
        "\u043d\u044f\u043d\u044b\u0435 \u0440\u0430\u0437\u043d\u044b\u0435 , \u0434\u0430 \u0438\u0437 \u0433\u043e\u0440\u043e\u0434\u043e\u0432 \u042f\u0440\u043e\u0441\u043b\u0430\u0432\u043b\u044f , \u041f\u0435\u0440\u0435\u0441\u043b\u0430\u0432\u043b\u044f \u0417\u0430\u043b\u0435\u0441\u043d\u043e\u0433\u043e \u0438 \u0423\u0433\u043b\u0438\u0447\u0430 \u043c\u0435\u043b\u043e\u0447\u043d\u044b\u0435 \u0432\u0441\u044f\u043a\u0438\u0435 \u043d\u0435\u0431\u043e\u0433\u0430\u0442\u044b\u0435 \u0442\u043e\u0432\u0430\u0440\u044b . \u041a\u0418\u041d\u0415\u0428\u041c\u0410 , \u0433\u043e\u0440\u043e\u0434 \u0442\u043e\u0433\u043e \u0436\u0435 \u041d\u0430\u043c\u0435\n",
        "\u043d\u044f\u043d\u044b\u0435 \u0440\u0430\u0437\u043d\u044b\u0435 , \u0434\u0430 \u0438\u0437 \u0433\u043e\u0440\u043e\u0434\u043e\u0432 \u042f\u0440\u043e\u0441\u043b\u0430\u0432\u043b\u044f , \u041f\u0435\u0440\u0435\u0441\u043b\u0430\u0432\u043b\u044f \u0417\u0430\u043b\u0435\u0441\u043a\u043e\u0433\u043e \u0438 \u0423\u0433\u043b\u0438\u0447\u0430 \u043a\u0443\u043f\u0446\u044b \u043f\u0440\u0438\u0435\u0437\u0436\u0430\u044e\u0442 \u0441 \u043c\u0435\u043b\u043e\u0447\u043d\u044b\u043c\u0438 \u0432\u0441\u044f\u043a\u0438\u043c\u0438 \u043d\u0435\u0431\u043e\u0433\u0430\u0442\u044b\u043c\u0438 \u0442\u043e\u0432\u0430\u0440\u0430\u043c\u0438 . \u041a\u041e\u041f\u0420\u0418\n",
        "\u043a\u043e\u0433\u043e \u043f\u043e\u0441\u0442\u0430 \u0432 \u0441\u0440\u0435\u0434\u0443 , \u043d\u0430 \u043a\u043e\u0442\u043e\u0440\u044b\u0435 \u043f\u0440\u0438\u0435\u0437\u0436\u0430\u044e\u0442 \u043a\u0443\u043f\u0446\u044b \u043e\u0442 \u0411\u0435\u043b\u043e\u0437\u0435\u0440\u0441\u043a\u0430 , \u0423\u0433\u043b\u0438\u0447\u0430 , \u0420\u043e\u043c\u0430\u043d\u043e\u0432\u0430 , \u0411\u043e\u0440\u0438\u0441\u043e\u0433\u043b\u0435\u0431\u0441\u043a\u0430 \u0438 \u0420\u044b\u0431\u0438\u043d\u0441\u043a\u0430 \u0441 \u0445\u043b\u0435\u0431\u043e\u043c , \u0440\u044b\u0431\u043e\u044e , \u043c\u044f\u0441\u0430\u043c\u0438\n",
        " \u0431\u043b\u0438\u0436\u043d\u0438\u0445 \u0433\u043e\u0440\u043e\u0434\u043e\u0432 , \u043a\u0430\u043a - \u0442\u043e \u0438\u0437 \u042f\u0440\u043e\u0441\u043b\u0430\u0432\u043b\u044f , \u0420\u043e\u0441\u0442\u043e\u0432\u0430 , \u0420\u043e\u043c\u0430\u043d\u043e\u0432\u0430 , \u0423\u0433\u043b\u0438\u0447\u0430 , \u0411\u043e\u0440\u0438\u0441\u043e\u0433\u043b\u0435\u0431\u043a\u0430 , \u0420\u044b\u0431\u0438\u043d\u0441\u043a\u0430 , \u041c\u043e\u043b\u043e\u0433\u0438 \u0438 \u0441\u043b\u043e\u0431\u043e\u0434\u044b \u041d\u043e\u0440\u0441\u043a\u043e\u0439 . \u041c\u042f\u0413\u041a\u041e\u0415 ,\n",
        "\u0435\u0437\u0436\u0430\u044e\u0442 \u043a\u0443\u043f\u0446\u044b \u0438\u0437 \u043f\u0440\u0438\u043a\u043e\u0441\u043d\u043e\u0432\u0435\u043d\u043d\u044b\u0445 \u0433\u043e\u0440\u043e\u0434\u043e\u0432 , \u042f\u0440\u043e\u0441\u043b\u0430\u0432\u043b\u044f , \u0420\u043e\u043c\u0430\u043d\u043e\u0432\u0430 , \u0423\u0433\u043b\u0438\u0447\u0430 \u0438 \u0412\u043e\u043b\u043e\u0433\u0434\u044b \u0441 \u0440\u0430\u0437\u043d\u044b\u043c\u0438 \u0442\u043e\u0432\u0430\u0440\u0430\u043c\u0438 , \u0438 \u0442\u043e\u0440\u0433\u0443\u044e\u0442 \u043f\u043e \u043d\u0435\u0434\u0435\u043b\u0435 . \u041f\u0420\u0415\u0417\u041c\u0410 , \u043c\n",
        "\u0434\u043d\u0438 . \u041a\u0443\u043f\u0435\u0446\u043a\u0438\u0435 \u043b\u044e\u0434\u0438 \u043f\u0440\u0438\u0435\u0437\u0436\u0430\u044e\u0442 \u043d\u0430 \u043e\u043d\u044b\u0435 \u0438\u0437 \u042f\u0440\u043e\u0441\u043b\u0430\u0432\u043b\u044f , \u0420\u043e\u043c\u0430\u043d\u043e\u0432\u0430 , \u0423\u0433\u043b\u0438\u0447\u0430 \u0438 \u0438\u0437 \u0441\u0435\u043b \u0441 \u043c\u043e\u0441\u043a\u0430\u0442\u0435\u043b\u044c\u043d\u044b\u043c \u0442\u043e\u0432\u0430\u0440\u043e\u043c \u0438 \u043f\u0440\u043e\u0447\u0438\u043c , \u0438 \u0442\u043e\u0440\u0433\u0443\u044e\u0442 \u0432 \u0434\u0435\u0440\u0435\u0432\u044f\u043d\u043d\n"
       ]
      }
     ],
     "prompt_number": 119
    },
    {
     "cell_type": "code",
     "collapsed": false,
     "input": [
      "test_goods = []\n",
      "for s in tok_sent:\n",
      "    if any([v in s for v in ['\u0442\u043e\u0440\u0433\u0443\u044e\u0442']]):\n",
      "        for w in s:\n",
      "            match = re.match(\"[\u0430-\u044f\u0410-\u042f]+(?:\u043c\u0438|\u043e\u043c)$\",w)\n",
      "            if match:\n",
      "                test_goods.append(match.string)"
     ],
     "language": "python",
     "metadata": {},
     "outputs": [],
     "prompt_number": 37
    },
    {
     "cell_type": "code",
     "collapsed": false,
     "input": [
      "reverse_stem[ru_stemmer.stem('\u0440\u043e\u0441\u0442')]"
     ],
     "language": "python",
     "metadata": {},
     "outputs": [
      {
       "metadata": {},
       "output_type": "pyout",
       "prompt_number": 116,
       "text": [
        "['\u0440\u043e\u0441\u0442\u043e\u043c', '\u0420\u041e\u0421\u0422\u041e\u0412']"
       ]
      }
     ],
     "prompt_number": 116
    },
    {
     "cell_type": "code",
     "collapsed": false,
     "input": [
      "test = list(set(tokens))\n",
      "test.sort()\n",
      "for w in test:\n",
      "    if nltk.metrics.edit_distance('\u0434\u0440\u043e\u0431\u044f\u0437\u043a\u043e\u043c',w)==4:\n",
      "        print(w)"
     ],
     "language": "python",
     "metadata": {},
     "outputs": [
      {
       "output_type": "stream",
       "stream": "stdout",
       "text": [
        "\u0422\u0440\u043e\u0438\u0446\u043a\u043e\u043c\n"
       ]
      }
     ],
     "prompt_number": 101
    },
    {
     "cell_type": "code",
     "collapsed": false,
     "input": [
      "set(test_goods)"
     ],
     "language": "python",
     "metadata": {},
     "outputs": [
      {
       "metadata": {},
       "output_type": "pyout",
       "prompt_number": 39,
       "text": [
        "{'\u0410\u0437\u0438\u0430\u0442\u0441\u043a\u0438\u043c\u0438',\n",
        " '\u0410\u0440\u043c\u044f\u043d\u0430\u043c\u0438',\n",
        " '\u0412\u043e\u043b\u043e\u0448\u0441\u043a\u0438\u043c\u0438',\n",
        " '\u0413\u0440\u0435\u043a\u0430\u043c\u0438',\n",
        " '\u0414\u0438\u043d\u0430\u0431\u0443\u0440\u0433\u0441\u043a\u043e\u043c',\n",
        " '\u0415\u0432\u0440\u043e\u043f\u0435\u0439\u0441\u043a\u0438\u043c\u0438',\n",
        " '\u0418\u043d\u0434\u0435\u0439\u0446\u0430\u043c\u0438',\n",
        " '\u041a\u0438\u0442\u0430\u0439\u0441\u043a\u0438\u043c\u0438',\n",
        " '\u041d\u0435\u043c\u0435\u0446\u043a\u0438\u043c\u0438',\n",
        " '\u041f\u0430\u0440\u0441\u043a\u043e\u043c',\n",
        " '\u041f\u0435\u0440\u0441\u0438\u0430\u043d\u0430\u043c\u0438',\n",
        " '\u0420\u043e\u0441\u0441\u0438\u0439\u0441\u043a\u0438\u043c\u0438',\n",
        " '\u0421\u0438\u0431\u0438\u0440\u0441\u043a\u0438\u043c\u0438',\n",
        " '\u0426\u0430\u0440\u0435\u0433\u0440\u0430\u0434\u0441\u043a\u0438\u043c\u0438',\n",
        " '\u0431\u0443\u043c\u0430\u0436\u043d\u044b\u043c\u0438',\n",
        " '\u0432\u0435\u0449\u0430\u043c\u0438',\n",
        " '\u0432\u0438\u043d\u0430\u043c\u0438',\n",
        " '\u0432\u0438\u043d\u043e\u043c',\n",
        " '\u0432\u043d\u0443\u0442\u0440\u0435\u043d\u043d\u0438\u043c\u0438',\n",
        " '\u0432\u043e\u0441\u043a\u043e\u043c',\n",
        " '\u0432\u0441\u044f\u043a\u0438\u043c\u0438',\n",
        " '\u0433\u0432\u043e\u0437\u0434\u044f\u043c\u0438',\n",
        " '\u0433\u043e\u0432\u044f\u0436\u044c\u0438\u043c\u0438',\n",
        " '\u0433\u043e\u0441\u0442\u0438\u043d\u043e\u043c',\n",
        " '\u0434\u0435\u0440\u0435\u0432\u0435\u043d\u0441\u043a\u0438\u043c\u0438',\n",
        " '\u0434\u0435\u0440\u0435\u0432\u044f\u043d\u043d\u043e\u043c',\n",
        " '\u0434\u0440\u0443\u0433\u0438\u043c\u0438',\n",
        " '\u0434\u0440\u0443\u0433\u043e\u043c',\n",
        " '\u0436\u0435\u043b\u0435\u0437\u043d\u044b\u043c\u0438',\n",
        " '\u0436\u0435\u043b\u0435\u0437\u043e\u043c',\n",
        " '\u0437\u0430\u043c\u043a\u0430\u043c\u0438',\n",
        " '\u0437\u0430\u043c\u043e\u0440\u0441\u043a\u0438\u043c\u0438',\n",
        " '\u0438\u043d\u043e\u0441\u0442\u0440\u0430\u043d\u043d\u044b\u043c\u0438',\n",
        " '\u043a\u043e\u0436\u0430\u043c\u0438',\n",
        " '\u043a\u043e\u043b\u0435\u0441\u0430\u043c\u0438',\n",
        " '\u043a\u043e\u043d\u0441\u043a\u0438\u043c\u0438',\n",
        " '\u043a\u043e\u0442\u043b\u0430\u043c\u0438',\n",
        " '\u043a\u043e\u0442\u043e\u0440\u043e\u043c',\n",
        " '\u043a\u0440\u0430\u0441\u043d\u044b\u043c\u0438',\n",
        " '\u043a\u0440\u0435\u0441\u0442\u044c\u044f\u043d\u0441\u043a\u0438\u043c\u0438',\n",
        " '\u043a\u0443\u043f\u0435\u0446\u043a\u0438\u043c\u0438',\n",
        " '\u043a\u0443\u043f\u0435\u0447\u0435\u0441\u043a\u0438\u043c\u0438',\n",
        " '\u043b\u0430\u0432\u043e\u0447\u043d\u044b\u043c\u0438',\n",
        " '\u043b\u0430\u0434\u043e\u043d\u043e\u043c',\n",
        " '\u043b\u0435\u0441\u0430\u043c\u0438',\n",
        " '\u043b\u0438\u0432\u043e\u043c',\n",
        " '\u043b\u043e\u0448\u0430\u0434\u044c\u043c\u0438',\n",
        " '\u043b\u044c\u043d\u043e\u043c',\n",
        " '\u043c\u0430\u0441\u043b\u043e\u043c',\n",
        " '\u043c\u0430\u0442\u0435\u0440\u0438\u044f\u043c\u0438',\n",
        " '\u043c\u0435\u0434\u043a\u0438\u043c\u0438',\n",
        " '\u043c\u0435\u0434\u043d\u044b\u043c\u0438',\n",
        " '\u043c\u0435\u0434\u043e\u043c',\n",
        " '\u043c\u0435\u043b\u043a\u0438\u043c\u0438',\n",
        " '\u043c\u0435\u043b\u043e\u0447\u0430\u043c\u0438',\n",
        " '\u043c\u0435\u043b\u043e\u0447\u043c\u0438',\n",
        " '\u043c\u0435\u043b\u043e\u0447\u043d\u044b\u043c\u0438',\n",
        " '\u043c\u0435\u0445\u043e\u0432\u044b\u043c\u0438',\n",
        " '\u043c\u043e\u0441\u043a\u043e\u0442\u0438\u043b\u044c\u043d\u044b\u043c\u0438',\n",
        " '\u043d\u0430\u0431\u043e\u0439\u0447\u0430\u0442\u044b\u043c\u0438',\n",
        " '\u043d\u0430\u0434\u043b\u0435\u0436\u0430\u0449\u0438\u043c\u0438',\n",
        " '\u043d\u0435\u0432\u043e\u0434\u043d\u044b\u043c\u0438',\n",
        " '\u043d\u0435\u043c\u0430\u043b\u043e\u043c',\n",
        " '\u043d\u0438\u0442\u043a\u0430\u043c\u0438',\n",
        " '\u043d\u0443\u0436\u043d\u044b\u043c\u0438',\n",
        " '\u043e\u0431\u043e\u0434\u0430\u043c\u0438',\n",
        " '\u043e\u0431\u044b\u0432\u0430\u0442\u0435\u043b\u044f\u043c\u0438',\n",
        " '\u043e\u0431\u044b\u043a\u043d\u043e\u0432\u0435\u043d\u043d\u044b\u043c\u0438',\n",
        " '\u043e\u0432\u0446\u0430\u043c\u0438',\n",
        " '\u043e\u0432\u0447\u0438\u043d\u0430\u043c\u0438',\n",
        " '\u043e\u0434\u043d\u043e\u043c',\n",
        " '\u043e\u043d\u043e\u043c',\n",
        " '\u043e\u0441\u043e\u0431\u043b\u0438\u0432\u043e\u043c',\n",
        " '\u043f\u0430\u0440\u0447\u0430\u043c\u0438',\n",
        " '\u043f\u0438\u0432\u043e\u043c',\n",
        " '\u043f\u0438\u0442\u0435\u0439\u043d\u044b\u043c\u0438',\n",
        " '\u043f\u043e\u0437\u0443\u043c\u0435\u043d\u0442\u0430\u043c\u0438',\n",
        " '\u043f\u043e\u043b\u043e\u0442\u043d\u043e\u043c',\n",
        " '\u043f\u0440\u0438\u0432\u043e\u0437\u0438\u043c\u044b\u043c\u0438',\n",
        " '\u043f\u0440\u0438\u0432\u043e\u0437\u043d\u044b\u043c\u0438',\n",
        " '\u043f\u0440\u0438\u043f\u0430\u0441\u0430\u043c\u0438',\n",
        " '\u043f\u0440\u043e\u0434\u0443\u043a\u0442\u0430\u043c\u0438',\n",
        " '\u043f\u0440\u043e\u0438\u0437\u0440\u0430\u0441\u0442\u0430\u043d\u0438\u044f\u043c\u0438',\n",
        " '\u043f\u0440\u043e\u0438\u0437\u0440\u0430\u0441\u0442\u0435\u043d\u0438\u044f\u043c\u0438',\n",
        " '\u043f\u0440\u043e\u0447\u0438\u043c\u0438',\n",
        " '\u043f\u0443\u0448\u043d\u044b\u043c\u0438',\n",
        " '\u0440\u0430\u0437\u043d\u044b\u043c\u0438',\n",
        " '\u0440\u043e\u0437\u0430\u043c\u0438',\n",
        " '\u0440\u0443\u043a\u043e\u0434\u0435\u043b\u044c\u043d\u044b\u043c\u0438',\n",
        " '\u0441\u0430\u043b\u043e\u043c',\n",
        " '\u0441\u0430\u043d\u044f\u043c\u0438',\n",
        " '\u0441\u0432\u043e\u0438\u043c\u0438',\n",
        " '\u0441\u0435\u043d\u043e\u043c',\n",
        " '\u0441\u0435\u0440\u0435\u0431\u0440\u0435\u043d\u044b\u043c\u0438',\n",
        " '\u0441\u0435\u0441\u0442\u043d\u044b\u043c\u0438',\n",
        " '\u0441\u043a\u043e\u0432\u043e\u0440\u043e\u0434\u0430\u043c\u0438',\n",
        " '\u0441\u043a\u043e\u0442\u043e\u043c',\n",
        " '\u0441\u043a\u043e\u0442\u0441\u043a\u0438\u043c\u0438',\n",
        " '\u0441\u0443\u043a\u043d\u0430\u043c\u0438',\n",
        " '\u0441\u0443\u043a\u043e\u043d\u043d\u044b\u043c\u0438',\n",
        " '\u0441\u0443\u0440\u043e\u0432\u0441\u043a\u0438\u043c\u0438',\n",
        " '\u0441\u044a\u0435\u0441\u0442\u043d\u044b\u043c\u0438',\n",
        " '\u0442\u0430\u0431\u0430\u043a\u043e\u043c',\n",
        " '\u0442\u043e\u0432\u0430\u0440\u0430\u043c\u0438',\n",
        " '\u0442\u043e\u0432\u0430\u0440\u043e\u043c',\n",
        " '\u0442\u043e\u043c',\n",
        " '\u0442\u0443\u0442\u043e\u0448\u043d\u0438\u043c\u0438',\n",
        " '\u0443\u0435\u0437\u0434\u043d\u044b\u043c\u0438',\n",
        " '\u0443\u043a\u043b\u0430\u0434\u043e\u043c',\n",
        " '\u0445\u0430\u0440\u0447\u0435\u0432\u044b\u043c\u0438',\n",
        " '\u0445\u043b\u0435\u0431\u043d\u044b\u043c\u0438',\n",
        " '\u0445\u043b\u0435\u0431\u043e\u043c',\n",
        " '\u0445\u043e\u043b\u0441\u0442\u0430\u043c\u0438',\n",
        " '\u0445\u043e\u043b\u0441\u0442\u043e\u043c',\n",
        " '\u0447\u0443\u043b\u043a\u0430\u043c\u0438',\n",
        " '\u0448\u0435\u043b\u043a\u043e\u0432\u044b\u043c\u0438',\n",
        " '\u0448\u0435\u0440\u0441\u0442\u044f\u043d\u044b\u043c\u0438'}"
       ]
      }
     ],
     "prompt_number": 39
    },
    {
     "cell_type": "code",
     "collapsed": false,
     "input": [
      "set(re.findall(\"[\u0430-\u044f\u0410-\u042f]+\u043e\u043c\",fulltext))"
     ],
     "language": "python",
     "metadata": {},
     "outputs": []
    },
    {
     "cell_type": "code",
     "collapsed": false,
     "input": [
      "set(re.findall(r\"\u0438\u0437\\s+((?:[\u0430-\u044f\u0410-\u042f,]+\\s+)*?(?:\u0433\u043e\u0440\u043e\u0434\u043e\u0432|\u043c\u0435\u0441\u0442|\u0441|;|\u0432\u0441\u044f\u043a\u0438\u0435|\u0432\u0441\u044f\u043a\u043e\u0439|\u043c\u0430\u043b\u043e\u043c\u0443|\u043f\u0440\u0438\u0432\u043e\u0437\u044f\u0442|\u0435\u0436\u0435\u043d\u0435\u0434\u0435\u043b\u044c\u043d\u043e|\u0440\u0430\u0437\u043d\u043e\u0439) )\",fulltext))"
     ],
     "language": "python",
     "metadata": {},
     "outputs": []
    },
    {
     "cell_type": "code",
     "collapsed": false,
     "input": [
      "text.concordance('\u043f\u043e\u043b\u0443\u043e\u0441\u0442\u0440\u043e\u0432\u043e\u043c',width=135)"
     ],
     "language": "python",
     "metadata": {},
     "outputs": []
    },
    {
     "cell_type": "code",
     "collapsed": false,
     "input": [
      "re.findall(r\"\u0438\u0437\\s+((?:[\u0430-\u044f\u0410-\u042f,]+\\s+)*?(?:\u0441|;|\u0433\u043e\u0440\u043e\u0434\u043e\u0432|\u043c\u0435\u0441\u0442|\u043a\u0443\u043f\u0446\u044b) )\",fulltext)"
     ],
     "language": "python",
     "metadata": {},
     "outputs": []
    },
    {
     "cell_type": "code",
     "collapsed": false,
     "input": [
      "text.concordance('\u0438\u0437',width=135)"
     ],
     "language": "python",
     "metadata": {},
     "outputs": []
    },
    {
     "cell_type": "code",
     "collapsed": false,
     "input": [
      "trade_areas = list(set(re.findall(r\"([\u0410-\u042f\u0430-\u044f]+\u0441\u043a\u0438\u0435)\",fulltext)))\n",
      "trade_areas.sort()"
     ],
     "language": "python",
     "metadata": {},
     "outputs": []
    },
    {
     "cell_type": "code",
     "collapsed": false,
     "input": [
      "text.concordance(\"\u0445\u043b\u0435\u0431\",lines=1000,width=135)"
     ],
     "language": "python",
     "metadata": {},
     "outputs": []
    },
    {
     "cell_type": "code",
     "collapsed": false,
     "input": [
      "re.findall(r\"(?:\u043f\u0440\u043e\u0434\u0430\u044e\u0442|\u0442\u043e\u0440\u0433\u0443\u044e\u0442)\\s+(?:[\u0430-\u044f\u0410-\u042f,;]+\\s)+[\u0430-\u044f\u0410-\u042f]+(?:\\.|\\s+\\.)\",fulltext)"
     ],
     "language": "python",
     "metadata": {},
     "outputs": []
    },
    {
     "cell_type": "code",
     "collapsed": false,
     "input": [
      "re.findall(r\"((?:[\u0410-\u042f\u0430-\u044f]+[\u0446\u0441]\u043a\u0438\u0435\\s*,\\s*)*(?:[\u0410-\u042f\u0430-\u044f]+[\u0446\u0441]\u043a\u0438\u0435)*(?:\\s*\u0438\\s*)?(?:[\u0410-\u042f\u0430-\u044f]+[\u0446\u0441]\u043a\u0438\u0435)) \u043a\u0443\u043f\u0446\u044b\",fulltext)\\"
     ],
     "language": "python",
     "metadata": {},
     "outputs": []
    },
    {
     "cell_type": "code",
     "collapsed": false,
     "input": [
      "re.findall(r\"[\u0410-\u042f\u0430-\u044f]+\u0441\u043a\u0438\u0435\\s*,\\s*\",fulltext)"
     ],
     "language": "python",
     "metadata": {},
     "outputs": []
    },
    {
     "cell_type": "code",
     "collapsed": false,
     "input": [
      "text.concordance(\"\u0410\u043b\u0435\u043a\u0441\u0438\u043d\u0430\")"
     ],
     "language": "python",
     "metadata": {},
     "outputs": []
    },
    {
     "cell_type": "code",
     "collapsed": false,
     "input": [
      "re.findall(r\"\u043a\u0443\u043f\u0446\u044b \u0438\u0437\\s+(?:[\u0430-\u044f\u0410-\u042f,]+\\s+)*(?:\u0433\u043e\u0440\u043e\u0434\u043e\u0432|\u043c\u0435\u0441\u0442)\",fulltext)"
     ],
     "language": "python",
     "metadata": {},
     "outputs": []
    },
    {
     "cell_type": "code",
     "collapsed": false,
     "input": [
      "test = re.findall(r\"\u043a\u0443\u043f\u0446\u044b\\s+\u0438\u0437\\s+((?:[\u0430-\u044f\u0410-\u042f,]+\\s+)*?)(?:\u0441|;) \",fulltext)"
     ],
     "language": "python",
     "metadata": {},
     "outputs": []
    },
    {
     "cell_type": "code",
     "collapsed": false,
     "input": [
      "test = [t.strip() for t in test]"
     ],
     "language": "python",
     "metadata": {},
     "outputs": []
    },
    {
     "cell_type": "code",
     "collapsed": false,
     "input": [
      "test = [t for t in test if len(re.findall(r\"(?:\u0433\u043e\u0440\u043e\u0434\u043e\u0432|\u0447\u0430\u0441\u0442\u0438)$\",t))==0]"
     ],
     "language": "python",
     "metadata": {},
     "outputs": []
    },
    {
     "cell_type": "code",
     "collapsed": false,
     "input": [
      "len(test)"
     ],
     "language": "python",
     "metadata": {},
     "outputs": []
    },
    {
     "cell_type": "code",
     "collapsed": false,
     "input": [
      "test"
     ],
     "language": "python",
     "metadata": {},
     "outputs": []
    }
   ],
   "metadata": {}
  }
 ]
}