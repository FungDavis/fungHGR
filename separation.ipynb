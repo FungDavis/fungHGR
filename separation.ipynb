{
 "metadata": {
  "name": "",
  "signature": "sha256:a4bc9f77c884db0590d96f557055a778470196a90144c6d591407f0f0982b62d"
 },
 "nbformat": 3,
 "nbformat_minor": 0,
 "worksheets": [
  {
   "cells": [
    {
     "cell_type": "code",
     "collapsed": false,
     "input": [
      "import pandas as pd"
     ],
     "language": "python",
     "metadata": {},
     "outputs": [],
     "prompt_number": 1
    },
    {
     "cell_type": "code",
     "collapsed": false,
     "input": [
      "import re,json\n",
      "from lxml import html\n",
      "\n",
      "lookup_dict = {}\n",
      "with open(\"resources/special_cases.json\",'r') as fp:\n",
      "    lookup_dict = json.load(fp)\n",
      "\n",
      "def ortho_rules(text,lookup_dict):\n",
      "    \"\"\"\n",
      "    Takes a text string and a lookup dict as input\n",
      "    Removes any lingering html tags\n",
      "    Breaks the string down into component words with split\n",
      "    Uses replacements to modernize orthography\n",
      "    Returns re-assembled text with modern orthography\n",
      "    \"\"\"\n",
      "    if text is not None:\n",
      "        text = html.fromstring(text).text_content()\n",
      "        textlist = text.split(' ')\n",
      "        out_list = []\n",
      "        for word in textlist:\n",
      "            if word in [',','.',';',':']:\n",
      "                out_list.append(word)\n",
      "            word = word.strip(',.;:')\n",
      "            if word in lookup_dict:\n",
      "                word = lookup_dict[word]\n",
      "                out_list.append(word)\n",
      "            else:\n",
      "                word = re.sub(\"[\u042a\u044a]$\",'',word)\n",
      "                word = re.sub(r\"^([\u0447\u0435]{0,2}[\u0447]?[\u0432\u0431\u043d\u0440]?[\u0432\u0435\u043e\u0430\u0438])\u0437([\u041f\u0424\u041a\u0422\u0428\u0421\u0427\u043f\u0444\u043a\u0442\u0448\u0441\u0447])\",r\"\\1\u0441\\2\",word,re.IGNORECASE)\n",
      "                word = re.sub(\"\u0430\u0433\u043e$\",\"\u043e\u0433\u043e\",word,re.IGNORECASE)\n",
      "                word = re.sub(\"\u044f\u0433\u043e$\",\"\u0435\u0433\u043e\",word,re.IGNORECASE)\n",
      "                word = re.sub(\"\u044b\u044f$\",\"\u044b\u0435\",word,re.IGNORECASE)\n",
      "                word = re.sub(\"i\u044f$\",\"\u0438\u0435\",word,re.IGNORECASE)\n",
      "                word = word.replace('i','\u0438') #english\n",
      "                word = word.replace('I','\u0418') #english\n",
      "                word = word.replace('\u0456','\u0438') #cyrillic\n",
      "                word = word.replace('\u0406','\u0418') #cyrillic\n",
      "                word = word.replace('\u0462','\u0415')\n",
      "                word = word.replace('\u0463','\u0435')\n",
      "                word = word.replace('\u0472','\u0424')\n",
      "                word = word.replace('\u0473','\u0444')\n",
      "                out_list.append(word)\n",
      "        out_str = ' '.join(out_list)\n",
      "        return out_str\n",
      "    else:\n",
      "        return \"None\""
     ],
     "language": "python",
     "metadata": {},
     "outputs": [],
     "prompt_number": 2
    },
    {
     "cell_type": "code",
     "collapsed": false,
     "input": [
      "cyrillic_translit={u'\\u0410': 'A', u'\\u0430': 'a',u'\\u0411': 'B', u'\\u0431': 'b',u'\\u0412': 'V', u'\\u0432': 'v',u'\\u0413': 'G', u'\\u0433': 'g',u'\\u0414': 'D', u'\\u0434': 'd',u'\\u0415': 'E', u'\\u0435': 'e',u'\\u0416': 'Zh', u'\\u0436': 'zh',u'\\u0417': 'Z', u'\\u0437': 'z',u'\\u0418': 'I', u'\\u0438': 'i',u'\\u0419': 'I', u'\\u0439': 'i',u'\\u041a': 'K', u'\\u043a': 'k',u'\\u041b': 'L', u'\\u043b': 'l',u'\\u041c': 'M', u'\\u043c': 'm',u'\\u041d': 'N', u'\\u043d': 'n',u'\\u041e': 'O', u'\\u043e': 'o',u'\\u041f': 'P', u'\\u043f': 'p',u'\\u0420': 'R', u'\\u0440': 'r',u'\\u0421': 'S', u'\\u0441': 's',u'\\u0422': 'T', u'\\u0442': 't',u'\\u0423': 'U', u'\\u0443': 'u',u'\\u0424': 'F', u'\\u0444': 'f',u'\\u0425': 'Kh', u'\\u0445': 'kh',u'\\u0426': 'Ts', u'\\u0446': 'ts',u'\\u0427': 'Ch', u'\\u0447': 'ch',u'\\u0428': 'Sh', u'\\u0448': 'sh',u'\\u0429': 'Shch', u'\\u0449': 'shch',u'\\u042a': '\"', u'\\u044a': '\"',u'\\u042b': 'Y', u'\\u044b': 'y',u'\\u042c': \"'\", u'\\u044c': \"'\",u'\\u042d': 'E', u'\\u044d': 'e',u'\\u042e': 'Iu', u'\\u044e': 'iu',u'\\u042f': 'Ia', u'\\u044f': 'ia',u'\\u0462': 'E', u'\\u0463': 'e'}\n",
      "\n",
      "def transliterate(word, translit_table):\n",
      "    \"\"\"\n",
      "    Transliterates 'word' based on the key/value pairs in 'translit_table'\n",
      "    \"\"\"\n",
      "    converted_word = ''\n",
      "    for char in word:\n",
      "        transchar = ''\n",
      "        if char in translit_table:\n",
      "            transchar = translit_table[char]\n",
      "        else:\n",
      "            transchar = char\n",
      "        converted_word += transchar\n",
      "    return converted_word"
     ],
     "language": "python",
     "metadata": {},
     "outputs": [],
     "prompt_number": 3
    },
    {
     "cell_type": "code",
     "collapsed": false,
     "input": [
      "dataset = pd.DataFrame.from_csv('output/hgr_test_set_5.csv')"
     ],
     "language": "python",
     "metadata": {},
     "outputs": [],
     "prompt_number": 4
    },
    {
     "cell_type": "code",
     "collapsed": false,
     "input": [
      "prov = dataset[dataset.index==dataset.partof_prov]"
     ],
     "language": "python",
     "metadata": {},
     "outputs": [],
     "prompt_number": 5
    },
    {
     "cell_type": "code",
     "collapsed": false,
     "input": [
      "uezd = dataset[dataset.index==dataset.partof_uezd]"
     ],
     "language": "python",
     "metadata": {},
     "outputs": [],
     "prompt_number": 6
    },
    {
     "cell_type": "code",
     "collapsed": false,
     "input": [
      "prov.ru_old_orth = prov.partof_prov_name"
     ],
     "language": "python",
     "metadata": {},
     "outputs": [
      {
       "output_type": "stream",
       "stream": "stderr",
       "text": [
        "/home/jeremy/anaconda3/lib/python3.4/site-packages/pandas/core/generic.py:1858: SettingWithCopyWarning: A value is trying to be set on a copy of a slice from a DataFrame.\n",
        "Try using .loc[row_index,col_indexer] = value instead\n",
        "  self[name] = value\n"
       ]
      }
     ],
     "prompt_number": 7
    },
    {
     "cell_type": "code",
     "collapsed": false,
     "input": [
      "prov['admin_level'] = \"adminL1\"\n",
      "prov.alt_name = None\n",
      "prov.partof_id = None\n",
      "prov.SOURCE = None\n",
      "prov.description = None"
     ],
     "language": "python",
     "metadata": {},
     "outputs": [],
     "prompt_number": 8
    },
    {
     "cell_type": "code",
     "collapsed": false,
     "input": [
      "prov.ru_new_orth = prov.ru_old_orth.apply(ortho_rules,args=[lookup_dict])"
     ],
     "language": "python",
     "metadata": {},
     "outputs": [],
     "prompt_number": 9
    },
    {
     "cell_type": "code",
     "collapsed": false,
     "input": [
      "prov['lc_translit_old'] = prov.ru_old_orth.apply(transliterate,args=[cyrillic_translit])\n",
      "prov['lc_translit_new'] = prov.ru_new_orth.apply(transliterate,args=[cyrillic_translit])"
     ],
     "language": "python",
     "metadata": {},
     "outputs": [],
     "prompt_number": 10
    },
    {
     "cell_type": "code",
     "collapsed": false,
     "input": [
      "prov['old_id']=prov.index"
     ],
     "language": "python",
     "metadata": {},
     "outputs": [],
     "prompt_number": 11
    },
    {
     "cell_type": "code",
     "collapsed": false,
     "input": [
      "prov.ru_featuretype = prov.ru_featuretype.replace('\u0433\u043b\u0430\u0432\u043d\u044b\u0439 \u0433\u043e\u0440\u043e\u0434\u044a','\u041d\u0430\u043c\u0463\u0441\u0442\u043d\u0438\u0447\u0435\u0441\u0442\u0432\u043e')"
     ],
     "language": "python",
     "metadata": {},
     "outputs": [],
     "prompt_number": 12
    },
    {
     "cell_type": "code",
     "collapsed": false,
     "input": [
      "prov.columns"
     ],
     "language": "python",
     "metadata": {},
     "outputs": [
      {
       "metadata": {},
       "output_type": "pyout",
       "prompt_number": 13,
       "text": [
        "Index(['ru_old_orth', 'alt_name', 'partof_id', 'x_coord', 'y_coord', 'ru_featuretype', 'SOURCE', 'description', 'ru_new_orth', 'lc_trans', 'pres_loc', 'pres_country', 'country_code', 'beg_yr', 'end_yr', 'lc_featuretype', 'id_featuretype', 'en_featuretype', 'xy_type', 'partof_prov', 'partof_uezd', 'partof_prov_name', 'partof_uezd_name', 'geonameId', 'admin_level', 'lc_translit_old', 'lc_translit_new', 'old_id'], dtype='object')"
       ]
      }
     ],
     "prompt_number": 13
    },
    {
     "cell_type": "code",
     "collapsed": false,
     "input": [
      "prov = prov[['ru_old_orth', 'alt_name', 'partof_id', 'x_coord', 'y_coord', 'ru_featuretype', 'SOURCE', 'description', 'ru_new_orth', 'pres_loc', 'pres_country', 'country_code', 'beg_yr', 'end_yr', 'lc_featuretype', 'id_featuretype', 'en_featuretype', 'xy_type', 'admin_level', 'lc_translit_old', 'lc_translit_new', 'old_id']]"
     ],
     "language": "python",
     "metadata": {},
     "outputs": [],
     "prompt_number": 14
    },
    {
     "cell_type": "code",
     "collapsed": false,
     "input": [
      "uezd[uezd.partof_uezd_name.isnull()].geonameId"
     ],
     "language": "python",
     "metadata": {},
     "outputs": [
      {
       "metadata": {},
       "output_type": "pyout",
       "prompt_number": 15,
       "text": [
        "uniq_id\n",
        "145        http://www.geonames.org/580420\n",
        "153        http://www.geonames.org/711894\n",
        "155        http://www.geonames.org/711536\n",
        "156        http://www.geonames.org/572525\n",
        "160        http://www.geonames.org/571557\n",
        "161        http://www.geonames.org/571476\n",
        "166        http://www.geonames.org/712559\n",
        "171        http://www.geonames.org/475955\n",
        "172        http://www.geonames.org/460570\n",
        "173        http://www.geonames.org/473943\n",
        "174        http://www.geonames.org/453754\n",
        "181        http://www.geonames.org/470666\n",
        "183        http://www.geonames.org/561679\n",
        "186        http://www.geonames.org/708551\n",
        "187        http://www.geonames.org/560285\n",
        "...\n",
        "554         http://www.geonames.org/589580\n",
        "555         http://www.geonames.org/504269\n",
        "556         http://www.geonames.org/499717\n",
        "557         http://www.geonames.org/456202\n",
        "558         http://www.geonames.org/491025\n",
        "559         http://www.geonames.org/487928\n",
        "560         http://www.geonames.org/477795\n",
        "561         http://www.geonames.org/659169\n",
        "562         http://www.geonames.org/518745\n",
        "563        http://www.geonames.org/1507565\n",
        "564         http://www.geonames.org/549371\n",
        "565         http://www.geonames.org/629395\n",
        "566         http://www.geonames.org/578045\n",
        "567         http://www.geonames.org/569359\n",
        "568         http://www.geonames.org/494120\n",
        "Name: geonameId, Length: 148, dtype: object"
       ]
      }
     ],
     "prompt_number": 15
    },
    {
     "cell_type": "code",
     "collapsed": false,
     "input": [
      "from lxml import etree\n",
      "from lxml import html\n",
      "import requests"
     ],
     "language": "python",
     "metadata": {},
     "outputs": [],
     "prompt_number": 16
    },
    {
     "cell_type": "code",
     "collapsed": false,
     "input": [
      "url = \"http://sws.geonames.org/2023469/about.rdf\"\n",
      "R = requests.get(url)"
     ],
     "language": "python",
     "metadata": {},
     "outputs": [],
     "prompt_number": 17
    },
    {
     "cell_type": "code",
     "collapsed": false,
     "input": [
      "Rtest = str(R.text)\n",
      "Rtest = Rtest.replace(\"encoding=\\\"UTF-8\\\"\",\"\")"
     ],
     "language": "python",
     "metadata": {},
     "outputs": [],
     "prompt_number": 18
    },
    {
     "cell_type": "code",
     "collapsed": false,
     "input": [
      "xmlparser = etree.XMLParser()\n",
      "tree = etree.fromstring(Rtest,xmlparser)"
     ],
     "language": "python",
     "metadata": {},
     "outputs": [],
     "prompt_number": 19
    },
    {
     "cell_type": "code",
     "collapsed": false,
     "input": [
      "tree"
     ],
     "language": "python",
     "metadata": {},
     "outputs": [
      {
       "metadata": {},
       "output_type": "pyout",
       "prompt_number": 20,
       "text": [
        "<Element {http://www.w3.org/1999/02/22-rdf-syntax-ns#}RDF at 0x7f67c4ed7748>"
       ]
      }
     ],
     "prompt_number": 20
    },
    {
     "cell_type": "code",
     "collapsed": false,
     "input": [
      "wikipedia = tree.xpath(\"//gn:wikipediaArticle\",namespaces={\"gn\":\"http://www.geonames.org/ontology#\"})"
     ],
     "language": "python",
     "metadata": {},
     "outputs": [],
     "prompt_number": 21
    },
    {
     "cell_type": "code",
     "collapsed": false,
     "input": [
      "articlelinks = [i.values()[0] for i in wikipedia]"
     ],
     "language": "python",
     "metadata": {},
     "outputs": [],
     "prompt_number": 22
    },
    {
     "cell_type": "code",
     "collapsed": false,
     "input": [
      "ruwiki = \"\"\n",
      "for i in articlelinks:\n",
      "    if \"ru.wikipedia.org\" in i:\n",
      "        ruwiki = i"
     ],
     "language": "python",
     "metadata": {},
     "outputs": [],
     "prompt_number": 23
    },
    {
     "cell_type": "code",
     "collapsed": false,
     "input": [
      "R2 = requests.get(ruwiki)"
     ],
     "language": "python",
     "metadata": {},
     "outputs": [],
     "prompt_number": 24
    },
    {
     "cell_type": "code",
     "collapsed": false,
     "input": [
      "tree2 = html.fromstring(R2.text)"
     ],
     "language": "python",
     "metadata": {},
     "outputs": [],
     "prompt_number": 25
    },
    {
     "cell_type": "code",
     "collapsed": false,
     "input": [
      "print(ruwiki)"
     ],
     "language": "python",
     "metadata": {},
     "outputs": [
      {
       "output_type": "stream",
       "stream": "stdout",
       "text": [
        "http://ru.wikipedia.org/wiki/%D0%98%D1%80%D0%BA%D1%83%D1%82%D1%81%D0%BA\n"
       ]
      }
     ],
     "prompt_number": 26
    },
    {
     "cell_type": "code",
     "collapsed": false,
     "input": [
      "table = tree2.xpath(\"//table[contains(concat(' ', @class, ' '), ' infobox ')]/tr/td/table/tr/td\")"
     ],
     "language": "python",
     "metadata": {},
     "outputs": [],
     "prompt_number": 27
    },
    {
     "cell_type": "code",
     "collapsed": false,
     "input": [
      "table"
     ],
     "language": "python",
     "metadata": {},
     "outputs": [
      {
       "metadata": {},
       "output_type": "pyout",
       "prompt_number": 28,
       "text": [
        "[<Element td at 0x7f67c4e64908>,\n",
        " <Element td at 0x7f67c4e648b8>,\n",
        " <Element td at 0x7f67c4e64958>,\n",
        " <Element td at 0x7f67c4e649a8>,\n",
        " <Element td at 0x7f67c4e649f8>,\n",
        " <Element td at 0x7f67c4e64a48>,\n",
        " <Element td at 0x7f67c4e64a98>,\n",
        " <Element td at 0x7f67c4e64c28>,\n",
        " <Element td at 0x7f67c4e64cc8>,\n",
        " <Element td at 0x7f67c4e64d18>,\n",
        " <Element td at 0x7f67c4e64d68>,\n",
        " <Element td at 0x7f67c4e64db8>,\n",
        " <Element td at 0x7f67c4e64e08>,\n",
        " <Element td at 0x7f67c4e64e58>,\n",
        " <Element td at 0x7f67c4e64ea8>,\n",
        " <Element td at 0x7f67c4e64ef8>,\n",
        " <Element td at 0x7f67c4e64f48>,\n",
        " <Element td at 0x7f67c4e64f98>,\n",
        " <Element td at 0x7f67c4e6b048>,\n",
        " <Element td at 0x7f67c4e6b098>,\n",
        " <Element td at 0x7f67c4e6b0e8>,\n",
        " <Element td at 0x7f67c4e6b138>,\n",
        " <Element td at 0x7f67c4e6b188>,\n",
        " <Element td at 0x7f67c4e6b1d8>,\n",
        " <Element td at 0x7f67c4e6b228>,\n",
        " <Element td at 0x7f67c4e6b278>,\n",
        " <Element td at 0x7f67c4e6b2c8>,\n",
        " <Element td at 0x7f67c4e6b318>,\n",
        " <Element td at 0x7f67c4e6b368>,\n",
        " <Element td at 0x7f67c4e6b3b8>,\n",
        " <Element td at 0x7f67c4e6b408>,\n",
        " <Element td at 0x7f67c4e6b458>,\n",
        " <Element td at 0x7f67c4e6b4a8>,\n",
        " <Element td at 0x7f67c4e6b4f8>,\n",
        " <Element td at 0x7f67c4e6b548>,\n",
        " <Element td at 0x7f67c4e6b598>,\n",
        " <Element td at 0x7f67c4e6b5e8>,\n",
        " <Element td at 0x7f67c4e6b638>,\n",
        " <Element td at 0x7f67c4e6b688>,\n",
        " <Element td at 0x7f67c4e6b6d8>,\n",
        " <Element td at 0x7f67c4e6b728>,\n",
        " <Element td at 0x7f67c4e6b778>,\n",
        " <Element td at 0x7f67c4e6b7c8>,\n",
        " <Element td at 0x7f67c4e6b818>,\n",
        " <Element td at 0x7f67c4e6b868>,\n",
        " <Element td at 0x7f67c4e6b8b8>,\n",
        " <Element td at 0x7f67c4e6b908>,\n",
        " <Element td at 0x7f67c4e6b958>,\n",
        " <Element td at 0x7f67c4e6b9a8>,\n",
        " <Element td at 0x7f67c4e6b9f8>,\n",
        " <Element td at 0x7f67c4e6ba48>,\n",
        " <Element td at 0x7f67c4e6ba98>,\n",
        " <Element td at 0x7f67c4e6bae8>,\n",
        " <Element td at 0x7f67c4e6bb38>,\n",
        " <Element td at 0x7f67c4e6bb88>,\n",
        " <Element td at 0x7f67c4e6bbd8>,\n",
        " <Element td at 0x7f67c4e6bc28>,\n",
        " <Element td at 0x7f67c4e6bc78>,\n",
        " <Element td at 0x7f67c4e6bcc8>,\n",
        " <Element td at 0x7f67c4e6bd18>]"
       ]
      }
     ],
     "prompt_number": 28
    },
    {
     "cell_type": "code",
     "collapsed": false,
     "input": [
      "poss_adj = []\n",
      "for b in table:\n",
      "    if \"\u043e\u043a\u0440\u0443\u0433\" in b.text_content():\n",
      "        try:\n",
      "            poss_adj.append(b.getnext().text_content())\n",
      "        except:\n",
      "            continue"
     ],
     "language": "python",
     "metadata": {},
     "outputs": [],
     "prompt_number": 29
    },
    {
     "cell_type": "code",
     "collapsed": false,
     "input": [
      "poss_adj = [i.strip() for i in poss_adj]"
     ],
     "language": "python",
     "metadata": {},
     "outputs": [],
     "prompt_number": 30
    },
    {
     "cell_type": "code",
     "collapsed": false,
     "input": [
      "poss_adj"
     ],
     "language": "python",
     "metadata": {},
     "outputs": [
      {
       "metadata": {},
       "output_type": "pyout",
       "prompt_number": 31,
       "text": [
        "['\u0418\u0440\u043a\u0443\u0442\u0441\u043a\u0438\u0439']"
       ]
      }
     ],
     "prompt_number": 31
    },
    {
     "cell_type": "code",
     "collapsed": false,
     "input": [
      "enR = requests.get(\"https://en.wikipedia.org/wiki/Irkutsk\")\n",
      "enTree = html.fromstring(enR.text)"
     ],
     "language": "python",
     "metadata": {},
     "outputs": [],
     "prompt_number": 32
    },
    {
     "cell_type": "code",
     "collapsed": false,
     "input": [
      "test = enTree.xpath(\"//li[contains(concat(' ', @class, ' '), ' interwiki-ru ')]/a\")[0]"
     ],
     "language": "python",
     "metadata": {},
     "outputs": [],
     "prompt_number": 33
    },
    {
     "cell_type": "code",
     "collapsed": false,
     "input": [
      "test.attrib['href']"
     ],
     "language": "python",
     "metadata": {},
     "outputs": [
      {
       "metadata": {},
       "output_type": "pyout",
       "prompt_number": 34,
       "text": [
        "'//ru.wikipedia.org/wiki/%D0%98%D1%80%D0%BA%D1%83%D1%82%D1%81%D0%BA'"
       ]
      }
     ],
     "prompt_number": 34
    },
    {
     "cell_type": "code",
     "collapsed": false,
     "input": [
      "def get_poss_adj(geoname_url):\n",
      "    \"\"\"\n",
      "    Takes a geonames url for a place, and tries to find adjectival forms of its name from its wikipedia page.\n",
      "    Possible names are returned as a list\n",
      "    \"\"\"\n",
      "    url = \"{}/about.rdf\".format(geoname_url)\n",
      "    print(url)\n",
      "    R = requests.get(url)\n",
      "    Rtext = str(R.text)\n",
      "    Rtext = Rtext.replace(\"encoding=\\\"UTF-8\\\"\",\"\")\n",
      "    tree = etree.fromstring(Rtext,etree.XMLParser())\n",
      "    wikipedia = tree.xpath(\"//gn:wikipediaArticle\",namespaces={\"gn\":\"http://www.geonames.org/ontology#\"})\n",
      "    articlelinks = [i.values()[0] for i in wikipedia]\n",
      "    ruwiki = \"\"\n",
      "    for i in articlelinks:\n",
      "        if \"ru.wikipedia.org\" in i:\n",
      "            ruwiki = i\n",
      "    if ruwiki == \"\":\n",
      "        enwiki = \"\"\n",
      "        for i in articlelinks:\n",
      "            if \"en.wikipedia.org\" in i:\n",
      "                enwiki = i\n",
      "        if enwiki != \"\":\n",
      "            enR = requests.get(enwiki)\n",
      "            enTree = html.fromstring(enR.text)\n",
      "            try:\n",
      "                ruwiki = enTree.xpath(\"//li[contains(concat(' ', @class, ' '), ' interwiki-ru ')]/a\")[0].attrib['href']\n",
      "            except:\n",
      "                print(enwiki)\n",
      "                return []\n",
      "            ruwiki = \"http:{}\".format(ruwiki)\n",
      "        else:\n",
      "            return []\n",
      "    R2 = requests.get(ruwiki)\n",
      "    print(R2.url)\n",
      "    tree2 = html.fromstring(R2.text)\n",
      "    table = tree2.xpath('//table[@class=\"infobox vcard\"]/tr/td/table/tr/td')\n",
      "    poss_adj = []\n",
      "    adj_finders = [\"\u041c\u0443\u043d\u0438\u0446\u0438\u043f\u0430\u043b\u044c\u043d\u044b\u0439 \u0440\u0430\u0439\u043e\u043d\",\"\u0420\u0430\u0439\u043e\u043d\",\"\u0413\u043e\u0440\u043e\u0434\u0441\u043a\u043e\u0439 \u043e\u043a\u0440\u0443\u0433\"]\n",
      "    for b in table:\n",
      "        for f in adj_finders:\n",
      "            if f in b.text_content():\n",
      "                try:\n",
      "                    poss_adj.append(b.getnext().text_content())\n",
      "                except:\n",
      "                    continue\n",
      "    #region = tree2.xpath(\"//span[@class='region']\")\n",
      "    #poss_adj = [r.text for r in region]\n",
      "    poss_adj = [i.strip() for i in poss_adj]\n",
      "    return poss_adj"
     ],
     "language": "python",
     "metadata": {},
     "outputs": [],
     "prompt_number": 35
    },
    {
     "cell_type": "code",
     "collapsed": false,
     "input": [
      "ulist = uezd.geonameId[uezd.partof_uezd_name.isnull()].tolist()\n",
      "nlist = uezd.index[uezd.partof_uezd_name.isnull()].tolist()\n",
      "zipped = [n for n in zip(nlist,ulist)]\n",
      "udict = {i[0]:{'geourl':i[1]} for i in zipped}\n",
      "udict"
     ],
     "language": "python",
     "metadata": {},
     "outputs": [
      {
       "metadata": {},
       "output_type": "pyout",
       "prompt_number": 36,
       "text": [
        "{256: {'geourl': 'http://www.geonames.org/569615'},\n",
        " 257: {'geourl': 'http://www.geonames.org/702874'},\n",
        " 514: {'geourl': 'http://www.geonames.org/508635'},\n",
        " 171: {'geourl': 'http://www.geonames.org/475955'},\n",
        " 517: {'geourl': 'http://www.geonames.org/547162'},\n",
        " 262: {'geourl': 'http://www.geonames.org/532133'},\n",
        " 519: {'geourl': 'http://www.geonames.org/579514'},\n",
        " 520: {'geourl': 'http://www.geonames.org/497450'},\n",
        " 521: {'geourl': 'http://www.geonames.org/481350'},\n",
        " 522: {'geourl': 'http://www.geonames.org/569116'},\n",
        " 524: {'geourl': 'http://www.geonames.org/492376'},\n",
        " 526: {'geourl': 'http://www.geonames.org/504717'},\n",
        " 557: {'geourl': 'http://www.geonames.org/456202'},\n",
        " 529: {'geourl': 'http://www.geonames.org/488946'},\n",
        " 530: {'geourl': 'http://www.geonames.org/491882'},\n",
        " 515: {'geourl': 'http://www.geonames.org/533400'},\n",
        " 558: {'geourl': 'http://www.geonames.org/491025'},\n",
        " 534: {'geourl': 'http://www.geonames.org/1488933'},\n",
        " 536: {'geourl': 'http://www.geonames.org/575757'},\n",
        " 537: {'geourl': 'http://www.geonames.org/461730'},\n",
        " 544: {'geourl': 'http://www.geonames.org/562237'},\n",
        " 539: {'geourl': 'http://www.geonames.org/477301'},\n",
        " 540: {'geourl': 'http://www.geonames.org/712343'},\n",
        " 541: {'geourl': 'http://www.geonames.org/1510214'},\n",
        " 542: {'geourl': 'http://www.geonames.org/470252'},\n",
        " 543: {'geourl': 'http://www.geonames.org/592225'},\n",
        " 416: {'geourl': 'http://www.geonames.org/476062'},\n",
        " 545: {'geourl': 'http://www.geonames.org/705812'},\n",
        " 546: {'geourl': 'http://www.geonames.org/687292'},\n",
        " 547: {'geourl': 'http://www.geonames.org/548478'},\n",
        " 548: {'geourl': 'http://www.geonames.org/530966'},\n",
        " 504: {'geourl': 'http://www.geonames.org/535334'},\n",
        " 550: {'geourl': 'http://www.geonames.org/1488903'},\n",
        " 551: {'geourl': 'http://www.geonames.org/527217'},\n",
        " 552: {'geourl': 'http://www.geonames.org/637292'},\n",
        " 297: {'geourl': 'http://www.geonames.org/575591'},\n",
        " 554: {'geourl': 'http://www.geonames.org/589580'},\n",
        " 555: {'geourl': 'http://www.geonames.org/504269'},\n",
        " 556: {'geourl': 'http://www.geonames.org/499717'},\n",
        " 419: {'geourl': 'http://www.geonames.org/548982'},\n",
        " 302: {'geourl': 'http://www.geonames.org/1505526'},\n",
        " 559: {'geourl': 'http://www.geonames.org/487928'},\n",
        " 560: {'geourl': 'http://www.geonames.org/477795'},\n",
        " 305: {'geourl': 'http://www.geonames.org/532138'},\n",
        " 562: {'geourl': 'http://www.geonames.org/518745'},\n",
        " 563: {'geourl': 'http://www.geonames.org/1507565'},\n",
        " 308: {'geourl': 'http://www.geonames.org/527869'},\n",
        " 565: {'geourl': 'http://www.geonames.org/629395'},\n",
        " 310: {'geourl': 'http://www.geonames.org/527405'},\n",
        " 567: {'geourl': 'http://www.geonames.org/569359'},\n",
        " 568: {'geourl': 'http://www.geonames.org/494120'},\n",
        " 564: {'geourl': 'http://www.geonames.org/549371'},\n",
        " 316: {'geourl': 'http://www.geonames.org/527034'},\n",
        " 321: {'geourl': 'http://www.geonames.org/525138'},\n",
        " 322: {'geourl': 'http://www.geonames.org/525084'},\n",
        " 566: {'geourl': 'http://www.geonames.org/578045'},\n",
        " 328: {'geourl': 'http://www.geonames.org/524294'},\n",
        " 329: {'geourl': 'http://www.geonames.org/524640'},\n",
        " 330: {'geourl': 'http://www.geonames.org/523859'},\n",
        " 332: {'geourl': 'http://www.geonames.org/700371'},\n",
        " 531: {'geourl': 'http://www.geonames.org/469005'},\n",
        " 337: {'geourl': 'http://www.geonames.org/516197'},\n",
        " 338: {'geourl': 'http://www.geonames.org/2018571'},\n",
        " 343: {'geourl': 'http://www.geonames.org/514259'},\n",
        " 344: {'geourl': 'http://www.geonames.org/514198'},\n",
        " 348: {'geourl': 'http://www.geonames.org/511400'},\n",
        " 349: {'geourl': 'http://www.geonames.org/509987'},\n",
        " 352: {'geourl': 'http://www.geonames.org/509029'},\n",
        " 486: {'geourl': 'http://www.geonames.org/480122'},\n",
        " 361: {'geourl': 'http://www.geonames.org/696008'},\n",
        " 549: {'geourl': 'http://www.geonames.org/530849'},\n",
        " 369: {'geourl': 'http://www.geonames.org/500004'},\n",
        " 370: {'geourl': 'http://www.geonames.org/695019'},\n",
        " 371: {'geourl': 'http://www.geonames.org/500047'},\n",
        " 376: {'geourl': 'http://www.geonames.org/496802'},\n",
        " 377: {'geourl': 'http://www.geonames.org/496935'},\n",
        " 378: {'geourl': 'http://www.geonames.org/496934'},\n",
        " 380: {'geourl': 'http://www.geonames.org/496543'},\n",
        " 381: {'geourl': 'http://www.geonames.org/496527'},\n",
        " 385: {'geourl': 'http://www.geonames.org/490743'},\n",
        " 387: {'geourl': 'http://www.geonames.org/482283'},\n",
        " 392: {'geourl': 'http://www.geonames.org/486816'},\n",
        " 396: {'geourl': 'http://www.geonames.org/496246'},\n",
        " 398: {'geourl': 'http://www.geonames.org/484287'},\n",
        " 145: {'geourl': 'http://www.geonames.org/580420'},\n",
        " 402: {'geourl': 'http://www.geonames.org/483019'},\n",
        " 406: {'geourl': 'http://www.geonames.org/482042'},\n",
        " 153: {'geourl': 'http://www.geonames.org/711894'},\n",
        " 155: {'geourl': 'http://www.geonames.org/711536'},\n",
        " 156: {'geourl': 'http://www.geonames.org/572525'},\n",
        " 415: {'geourl': 'http://www.geonames.org/485239'},\n",
        " 160: {'geourl': 'http://www.geonames.org/571557'},\n",
        " 161: {'geourl': 'http://www.geonames.org/571476'},\n",
        " 418: {'geourl': 'http://www.geonames.org/587577'},\n",
        " 411: {'geourl': 'http://www.geonames.org/479532'},\n",
        " 420: {'geourl': 'http://www.geonames.org/706448'},\n",
        " 166: {'geourl': 'http://www.geonames.org/712559'},\n",
        " 423: {'geourl': 'http://www.geonames.org/569223'},\n",
        " 509: {'geourl': 'http://www.geonames.org/548330'},\n",
        " 427: {'geourl': 'http://www.geonames.org/710374'},\n",
        " 172: {'geourl': 'http://www.geonames.org/460570'},\n",
        " 173: {'geourl': 'http://www.geonames.org/473943'},\n",
        " 174: {'geourl': 'http://www.geonames.org/453754'},\n",
        " 436: {'geourl': 'http://www.geonames.org/469809'},\n",
        " 181: {'geourl': 'http://www.geonames.org/470666'},\n",
        " 183: {'geourl': 'http://www.geonames.org/561679'},\n",
        " 186: {'geourl': 'http://www.geonames.org/708551'},\n",
        " 187: {'geourl': 'http://www.geonames.org/560285'},\n",
        " 561: {'geourl': 'http://www.geonames.org/659169'},\n",
        " 445: {'geourl': 'http://www.geonames.org/1492517'},\n",
        " 501: {'geourl': 'http://www.geonames.org/564234'},\n",
        " 193: {'geourl': 'http://www.geonames.org/558236'},\n",
        " 453: {'geourl': 'http://www.geonames.org/569282'},\n",
        " 454: {'geourl': 'http://www.geonames.org/498480'},\n",
        " 417: {'geourl': 'http://www.geonames.org/563300'},\n",
        " 456: {'geourl': 'http://www.geonames.org/577576'},\n",
        " 202: {'geourl': 'http://www.geonames.org/468030'},\n",
        " 203: {'geourl': 'http://www.geonames.org/467753'},\n",
        " 460: {'geourl': 'http://www.geonames.org/697889'},\n",
        " 206: {'geourl': 'http://www.geonames.org/2012530'},\n",
        " 207: {'geourl': 'http://www.geonames.org/462914'},\n",
        " 465: {'geourl': 'http://www.geonames.org/690509'},\n",
        " 211: {'geourl': 'http://www.geonames.org/2119377'},\n",
        " 213: {'geourl': 'http://www.geonames.org/463690'},\n",
        " 215: {'geourl': 'http://www.geonames.org/686875'},\n",
        " 472: {'geourl': 'http://www.geonames.org/506309'},\n",
        " 474: {'geourl': 'http://www.geonames.org/7645811'},\n",
        " 478: {'geourl': 'http://www.geonames.org/8409619'},\n",
        " 479: {'geourl': 'http://www.geonames.org/708320'},\n",
        " 483: {'geourl': 'http://www.geonames.org/570271'},\n",
        " 229: {'geourl': 'http://www.geonames.org/543460'},\n",
        " 230: {'geourl': 'http://www.geonames.org/704573'},\n",
        " 487: {'geourl': 'http://www.geonames.org/480122'},\n",
        " 234: {'geourl': 'http://www.geonames.org/486487'},\n",
        " 237: {'geourl': 'http://www.geonames.org/543737'},\n",
        " 239: {'geourl': 'http://www.geonames.org/542942'},\n",
        " 241: {'geourl': 'http://www.geonames.org/542423'},\n",
        " 242: {'geourl': 'http://www.geonames.org/704376'},\n",
        " 245: {'geourl': 'http://www.geonames.org/540776'},\n",
        " 502: {'geourl': 'http://www.geonames.org/565201'},\n",
        " 553: {'geourl': 'http://www.geonames.org/511359'},\n",
        " 248: {'geourl': 'http://www.geonames.org/537737'},\n",
        " 505: {'geourl': 'http://www.geonames.org/482986'},\n",
        " 506: {'geourl': 'http://www.geonames.org/495206'},\n",
        " 507: {'geourl': 'http://www.geonames.org/478317'},\n",
        " 252: {'geourl': 'http://www.geonames.org/537158'},\n",
        " 253: {'geourl': 'http://www.geonames.org/537094'},\n",
        " 255: {'geourl': 'http://www.geonames.org/535121'}}"
       ]
      }
     ],
     "prompt_number": 36
    },
    {
     "cell_type": "code",
     "collapsed": false,
     "input": [
      "uezd.loc[262]"
     ],
     "language": "python",
     "metadata": {},
     "outputs": [
      {
       "metadata": {},
       "output_type": "pyout",
       "prompt_number": 37,
       "text": [
        "ru_old_orth                                                 \u041c\u0430\u043a\u0430\u0440\u044c\u0435\u0432\u044a\n",
        "alt_name                                                          NaN\n",
        "partof_id                                                          17\n",
        "x_coord                                                      45.06291\n",
        "y_coord                                                      56.08367\n",
        "ru_featuretype                                                 \u0433\u043e\u0440\u043e\u0434\u044a\n",
        "SOURCE              http://babel.hathitrust.org/cgi/pt?id=uc1.b458...\n",
        "description         \u041c\u0410\u041a\u0410\u0420\u042c\u0415\u0412\u042a, \u0433\u043e\u0440\u043e\u0434\u044a \u041d\u0438\u0436\u0435\u0433\u043e\u0440\u043e\u0434\u0441\u043a\u0430\u0433\u043e \u041d\u0430\u043c\u0463\u0441\u0442\u043d\u0438\u0447\u0435\u0441\u0442\u0432...\n",
        "ru_new_orth                                                  \u041c\u0430\u043a\u0430\u0440\u044c\u0435\u0432\n",
        "lc_trans                                                     Makar'ev\n",
        "pres_loc                            Makaryevo, Nizhny Novgorod Oblast\n",
        "pres_country                                                   Russia\n",
        "country_code                                                       RU\n",
        "beg_yr                                                            NaN\n",
        "end_yr                                                            NaN\n",
        "lc_featuretype                                                    NaN\n",
        "id_featuretype                                                    NaN\n",
        "en_featuretype                                                    NaN\n",
        "xy_type                                                         POINT\n",
        "partof_prov                                                        17\n",
        "partof_uezd                                                       262\n",
        "partof_prov_name                         \u041d\u0438\u0436\u0435\u0433\u043e\u0440\u043e\u0434\u0441\u043a\u043e\u0435 \u041d\u0430\u043c\u0463\u0441\u0442\u043d\u0438\u0447\u0435\u0441\u0442\u0432\u043e\n",
        "partof_uezd_name                                                  NaN\n",
        "geonameId                              http://www.geonames.org/532133\n",
        "Name: 262, dtype: object"
       ]
      }
     ],
     "prompt_number": 37
    },
    {
     "cell_type": "code",
     "collapsed": false,
     "input": [
      "import time\n",
      "\n",
      "for u in udict:\n",
      "    udict[u]['poss_adj'] = get_poss_adj(udict[u]['geourl'])\n",
      "    print(udict[u]['poss_adj'])\n",
      "    time.sleep(1)"
     ],
     "language": "python",
     "metadata": {},
     "outputs": [
      {
       "output_type": "stream",
       "stream": "stdout",
       "text": [
        "http://www.geonames.org/569615/about.rdf\n",
        "http://ru.wikipedia.org/wiki/%D0%A7%D0%B5%D0%BA%D0%B0%D0%BB%D0%B8%D0%BD_%28%D0%B3%D0%BE%D1%80%D0%BE%D0%B4%29"
       ]
      },
      {
       "output_type": "stream",
       "stream": "stdout",
       "text": [
        "\n",
        "['\u0421\u0443\u0432\u043e\u0440\u043e\u0432\u0441\u043a\u0438\u0439']\n",
        "http://www.geonames.org/702874/about.rdf"
       ]
      },
      {
       "output_type": "stream",
       "stream": "stdout",
       "text": [
        "\n",
        "http://ru.wikipedia.org/wiki/%D0%9B%D0%BE%D1%85%D0%B2%D0%B8%D1%86%D0%B0"
       ]
      },
      {
       "output_type": "stream",
       "stream": "stdout",
       "text": [
        "\n",
        "['\u041b\u043e\u0445\u0432\u0438\u0446\u043a\u0438\u0439']\n",
        "http://www.geonames.org/508635/about.rdf"
       ]
      },
      {
       "output_type": "stream",
       "stream": "stdout",
       "text": [
        "\n",
        "http://ru.wikipedia.org/wiki/%D0%9F%D0%BE%D1%87%D0%B8%D0%BD%D0%BA%D0%B8_(%D0%9D%D0%B8%D0%B6%D0%B5%D0%B3%D0%BE%D1%80%D0%BE%D0%B4%D1%81%D0%BA%D0%B0%D1%8F_%D0%BE%D0%B1%D0%BB%D0%B0%D1%81%D1%82%D1%8C)"
       ]
      },
      {
       "output_type": "stream",
       "stream": "stdout",
       "text": [
        "\n",
        "['\u041f\u043e\u0447\u0438\u043d\u043a\u043e\u0432\u0441\u043a\u0438\u0439']\n",
        "http://www.geonames.org/475955/about.rdf"
       ]
      },
      {
       "output_type": "stream",
       "stream": "stdout",
       "text": [
        "\n",
        "http://ru.wikipedia.org/wiki/%D0%92%D0%B5%D0%BB%D0%B8%D0%B6"
       ]
      },
      {
       "output_type": "stream",
       "stream": "stdout",
       "text": [
        "\n",
        "['\u0412\u0435\u043b\u0438\u0436\u0441\u043a\u0438\u0439']\n",
        "http://www.geonames.org/547162/about.rdf"
       ]
      },
      {
       "output_type": "stream",
       "stream": "stdout",
       "text": [
        "\n",
        "http://ru.wikipedia.org/wiki/%D0%9A%D0%BD%D1%8F%D0%B3%D0%B8%D0%BD%D0%B8%D0%BD%D0%BE"
       ]
      },
      {
       "output_type": "stream",
       "stream": "stdout",
       "text": [
        "\n",
        "['\u041a\u043d\u044f\u0433\u0438\u043d\u0438\u043d\u0441\u043a\u0438\u0439']\n",
        "http://www.geonames.org/532133/about.rdf"
       ]
      },
      {
       "output_type": "stream",
       "stream": "stdout",
       "text": [
        "\n",
        "[]"
       ]
      },
      {
       "output_type": "stream",
       "stream": "stdout",
       "text": [
        "\n",
        "http://www.geonames.org/579514/about.rdf"
       ]
      },
      {
       "output_type": "stream",
       "stream": "stdout",
       "text": [
        "\n",
        "http://ru.wikipedia.org/wiki/%D0%91%D0%B0%D0%BB%D0%B0%D1%85%D0%BD%D0%B0"
       ]
      },
      {
       "output_type": "stream",
       "stream": "stdout",
       "text": [
        "\n",
        "['\u0411\u0430\u043b\u0430\u0445\u043d\u0438\u043d\u0441\u043a\u0438\u0439']\n",
        "http://www.geonames.org/497450/about.rdf"
       ]
      },
      {
       "output_type": "stream",
       "stream": "stdout",
       "text": [
        "\n",
        "http://ru.wikipedia.org/wiki/%D0%A1%D0%B5%D0%BC%D1%91%D0%BD%D0%BE%D0%B2_(%D0%B3%D0%BE%D1%80%D0%BE%D0%B4)"
       ]
      },
      {
       "output_type": "stream",
       "stream": "stdout",
       "text": [
        "\n",
        "['\u0421\u0435\u043c\u0451\u043d\u043e\u0432\u0441\u043a\u0438\u0439']\n",
        "http://www.geonames.org/481350/about.rdf"
       ]
      },
      {
       "output_type": "stream",
       "stream": "stdout",
       "text": [
        "\n",
        "http://ru.wikipedia.org/wiki/%D0%A2%D1%80%D1%83%D0%B1%D1%87%D0%B5%D0%B2%D1%81%D0%BA"
       ]
      },
      {
       "output_type": "stream",
       "stream": "stdout",
       "text": [
        "\n",
        "['\u0422\u0440\u0443\u0431\u0447\u0435\u0432\u0441\u043a\u0438\u0439']\n",
        "http://www.geonames.org/569116/about.rdf"
       ]
      },
      {
       "output_type": "stream",
       "stream": "stdout",
       "text": [
        "\n",
        "[]"
       ]
      },
      {
       "output_type": "stream",
       "stream": "stdout",
       "text": [
        "\n",
        "http://www.geonames.org/492376/about.rdf"
       ]
      },
      {
       "output_type": "stream",
       "stream": "stdout",
       "text": [
        "\n",
        "http://ru.wikipedia.org/wiki/%D0%A1%D0%BA%D0%BE%D0%BF%D0%B8%D0%BD"
       ]
      },
      {
       "output_type": "stream",
       "stream": "stdout",
       "text": [
        "\n",
        "['\u0421\u043a\u043e\u043f\u0438\u043d']\n",
        "http://www.geonames.org/504717/about.rdf"
       ]
      },
      {
       "output_type": "stream",
       "stream": "stdout",
       "text": [
        "\n",
        "http://ru.wikipedia.org/wiki/%D0%9F%D1%80%D0%BE%D0%BD%D1%81%D0%BA"
       ]
      },
      {
       "output_type": "stream",
       "stream": "stdout",
       "text": [
        "\n",
        "['\u041f\u0440\u043e\u043d\u0441\u043a\u0438\u0439']\n",
        "http://www.geonames.org/456202/about.rdf"
       ]
      },
      {
       "output_type": "stream",
       "stream": "stdout",
       "text": [
        "\n",
        "http://ru.wikipedia.org/wiki/%D0%A0%D0%B5%D0%B7%D0%B5%D0%BA%D0%BD%D0%B5"
       ]
      },
      {
       "output_type": "stream",
       "stream": "stdout",
       "text": [
        "\n",
        "[]\n",
        "http://www.geonames.org/488946/about.rdf"
       ]
      },
      {
       "output_type": "stream",
       "stream": "stdout",
       "text": [
        "\n",
        "http://en.wikipedia.org/wiki/Staritsa%2C_Staritsky_District%2C_Tver_Oblast"
       ]
      },
      {
       "output_type": "stream",
       "stream": "stdout",
       "text": [
        "\n",
        "[]\n",
        "http://www.geonames.org/491882/about.rdf"
       ]
      },
      {
       "output_type": "stream",
       "stream": "stdout",
       "text": [
        "\n",
        "http://ru.wikipedia.org/wiki/%D0%A1%D0%BB%D0%BE%D0%B1%D0%BE%D0%B4%D1%81%D0%BA%D0%BE%D0%B9"
       ]
      },
      {
       "output_type": "stream",
       "stream": "stdout",
       "text": [
        "\n",
        "['\u0433\u043e\u0440\u043e\u0434 \u0421\u043b\u043e\u0431\u043e\u0434\u0441\u043a\u043e\u0439']\n",
        "http://www.geonames.org/533400/about.rdf"
       ]
      },
      {
       "output_type": "stream",
       "stream": "stdout",
       "text": [
        "\n",
        "http://ru.wikipedia.org/wiki/%D0%9B%D1%83%D0%BA%D0%BE%D1%8F%D0%BD%D0%BE%D0%B2"
       ]
      },
      {
       "output_type": "stream",
       "stream": "stdout",
       "text": [
        "\n",
        "['\u041b\u0443\u043a\u043e\u044f\u043d\u043e\u0432\u0441\u043a\u0438\u0439']\n",
        "http://www.geonames.org/491025/about.rdf"
       ]
      },
      {
       "output_type": "stream",
       "stream": "stdout",
       "text": [
        "\n",
        "http://ru.wikipedia.org/wiki/%D0%A1%D0%BE%D0%BB%D0%B8%D0%B3%D0%B0%D0%BB%D0%B8%D1%87"
       ]
      },
      {
       "output_type": "stream",
       "stream": "stdout",
       "text": [
        "\n",
        "['\u0421\u043e\u043b\u0438\u0433\u0430\u043b\u0438\u0447\u0441\u043a\u0438\u0439']\n",
        "http://www.geonames.org/1488933/about.rdf"
       ]
      },
      {
       "output_type": "stream",
       "stream": "stdout",
       "text": [
        "\n",
        "http://ru.wikipedia.org/wiki/%D0%A2%D1%83%D1%80%D0%B8%D0%BD%D1%81%D0%BA"
       ]
      },
      {
       "output_type": "stream",
       "stream": "stdout",
       "text": [
        "\n",
        "['\u0422\u0443\u0440\u0438\u043d\u0441\u043a\u0438\u0439']\n",
        "http://www.geonames.org/575757/about.rdf"
       ]
      },
      {
       "output_type": "stream",
       "stream": "stdout",
       "text": [
        "\n",
        "[]"
       ]
      },
      {
       "output_type": "stream",
       "stream": "stdout",
       "text": [
        "\n",
        "http://www.geonames.org/461730/about.rdf"
       ]
      },
      {
       "output_type": "stream",
       "stream": "stdout",
       "text": [
        "\n",
        "[]"
       ]
      },
      {
       "output_type": "stream",
       "stream": "stdout",
       "text": [
        "\n",
        "http://www.geonames.org/562237/about.rdf"
       ]
      },
      {
       "output_type": "stream",
       "stream": "stdout",
       "text": [
        "\n",
        "http://ru.wikipedia.org/wiki/%D0%93%D0%B0%D0%B3%D0%B0%D1%80%D0%B8%D0%BD_%28%D0%A1%D0%BC%D0%BE%D0%BB%D0%B5%D0%BD%D1%81%D0%BA%D0%B0%D1%8F_%D0%BE%D0%B1%D0%BB%D0%B0%D1%81%D1%82%D1%8C%29"
       ]
      },
      {
       "output_type": "stream",
       "stream": "stdout",
       "text": [
        "\n",
        "['\u0413\u0430\u0433\u0430\u0440\u0438\u043d\u0441\u043a\u0438\u0439']\n",
        "http://www.geonames.org/477301/about.rdf"
       ]
      },
      {
       "output_type": "stream",
       "stream": "stdout",
       "text": [
        "\n",
        "http://ru.wikipedia.org/wiki/%D0%92%D0%B0%D0%BB%D0%B4%D0%B0%D0%B9"
       ]
      },
      {
       "output_type": "stream",
       "stream": "stdout",
       "text": [
        "\n",
        "['\u0412\u0430\u043b\u0434\u0430\u0439\u0441\u043a\u0438\u0439']\n",
        "http://www.geonames.org/712343/about.rdf"
       ]
      },
      {
       "output_type": "stream",
       "stream": "stdout",
       "text": [
        "\n",
        "[]"
       ]
      },
      {
       "output_type": "stream",
       "stream": "stdout",
       "text": [
        "\n",
        "http://www.geonames.org/1510214/about.rdf"
       ]
      },
      {
       "output_type": "stream",
       "stream": "stdout",
       "text": [
        "\n",
        "http://ru.wikipedia.org/wiki/%D0%91%D0%B5%D1%80%D1%91%D0%B7%D0%BE%D0%B2%D0%BE"
       ]
      },
      {
       "output_type": "stream",
       "stream": "stdout",
       "text": [
        "\n",
        "[]\n",
        "http://www.geonames.org/470252/about.rdf"
       ]
      },
      {
       "output_type": "stream",
       "stream": "stdout",
       "text": [
        "\n",
        "[]"
       ]
      },
      {
       "output_type": "stream",
       "stream": "stdout",
       "text": [
        "\n",
        "http://www.geonames.org/592225/about.rdf"
       ]
      },
      {
       "output_type": "stream",
       "stream": "stdout",
       "text": [
        "\n",
        "http://ru.wikipedia.org/wiki/%D0%A5%D0%B0%D0%B0%D0%BF%D1%81%D0%B0%D0%BB%D1%83"
       ]
      },
      {
       "output_type": "stream",
       "stream": "stdout",
       "text": [
        "\n",
        "[]\n",
        "http://www.geonames.org/476062/about.rdf"
       ]
      },
      {
       "output_type": "stream",
       "stream": "stdout",
       "text": [
        "\n",
        "http://ru.wikipedia.org/wiki/%D0%92%D0%B5%D0%BB%D0%B8%D0%BA%D0%B8%D0%B9_%D0%A3%D1%81%D1%82%D1%8E%D0%B3"
       ]
      },
      {
       "output_type": "stream",
       "stream": "stdout",
       "text": [
        "\n",
        "['\u0412\u0435\u043b\u0438\u043a\u043e\u0443\u0441\u0442\u044e\u0433\u0441\u043a\u0438\u0439']\n",
        "http://www.geonames.org/705812/about.rdf"
       ]
      },
      {
       "output_type": "stream",
       "stream": "stdout",
       "text": [
        "\n",
        "http://ru.wikipedia.org/wiki/%D0%9A%D0%B8%D1%80%D0%BE%D0%B2%D0%BE%D0%B3%D1%80%D0%B0%D0%B4"
       ]
      },
      {
       "output_type": "stream",
       "stream": "stdout",
       "text": [
        "\n",
        "[]\n",
        "http://www.geonames.org/687292/about.rdf"
       ]
      },
      {
       "output_type": "stream",
       "stream": "stdout",
       "text": [
        "\n",
        "http://ru.wikipedia.org/wiki/%D0%97%D0%B5%D0%BD%D1%8C%D0%BA%D0%BE%D0%B2"
       ]
      },
      {
       "output_type": "stream",
       "stream": "stdout",
       "text": [
        "\n",
        "['\u0417\u0435\u043d\u044c\u043a\u043e\u0432\u0441\u043a\u0438\u0439']\n",
        "http://www.geonames.org/548478/about.rdf"
       ]
      },
      {
       "output_type": "stream",
       "stream": "stdout",
       "text": [
        "\n",
        "http://ru.wikipedia.org/wiki/%D0%9A%D0%B8%D1%80%D0%B8%D0%BB%D0%BB%D0%BE%D0%B2_%28%D0%B3%D0%BE%D1%80%D0%BE%D0%B4%29"
       ]
      },
      {
       "output_type": "stream",
       "stream": "stdout",
       "text": [
        "\n",
        "['\u041a\u0438\u0440\u0438\u043b\u043b\u043e\u0432\u0441\u043a\u0438\u0439']\n",
        "http://www.geonames.org/530966/about.rdf"
       ]
      },
      {
       "output_type": "stream",
       "stream": "stdout",
       "text": [
        "\n",
        "http://ru.wikipedia.org/wiki/%D0%9C%D0%B0%D0%BB%D0%BE%D0%B0%D1%80%D1%85%D0%B0%D0%BD%D0%B3%D0%B5%D0%BB%D1%8C%D1%81%D0%BA_(%D0%9E%D1%80%D0%BB%D0%BE%D0%B2%D1%81%D0%BA%D0%B0%D1%8F_%D0%BE%D0%B1%D0%BB%D0%B0%D1%81%D1%82%D1%8C)"
       ]
      },
      {
       "output_type": "stream",
       "stream": "stdout",
       "text": [
        "\n",
        "['\u041c\u0430\u043b\u043e\u0430\u0440\u0445\u0430\u043d\u0433\u0435\u043b\u044c\u0441\u043a\u0438\u0439']\n",
        "http://www.geonames.org/535334/about.rdf"
       ]
      },
      {
       "output_type": "stream",
       "stream": "stdout",
       "text": [
        "\n",
        "http://ru.wikipedia.org/wiki/%D0%9B%D1%8C%D0%B3%D0%BE%D0%B2"
       ]
      },
      {
       "output_type": "stream",
       "stream": "stdout",
       "text": [
        "\n",
        "['\u041b\u044c\u0433\u043e\u0432\u0441\u043a\u0438\u0439']\n",
        "http://www.geonames.org/1488903/about.rdf"
       ]
      },
      {
       "output_type": "stream",
       "stream": "stdout",
       "text": [
        "\n",
        "http://ru.wikipedia.org/wiki/%D0%A2%D1%83%D1%80%D1%83%D1%85%D0%B0%D0%BD%D1%81%D0%BA"
       ]
      },
      {
       "output_type": "stream",
       "stream": "stdout",
       "text": [
        "\n",
        "['\u0422\u0443\u0440\u0443\u0445\u0430\u043d\u0441\u043a\u0438\u0439']\n",
        "http://www.geonames.org/527217/about.rdf"
       ]
      },
      {
       "output_type": "stream",
       "stream": "stdout",
       "text": [
        "\n",
        "http://ru.wikipedia.org/wiki/%D0%9C%D0%B3%D0%BB%D0%B8%D0%BD"
       ]
      },
      {
       "output_type": "stream",
       "stream": "stdout",
       "text": [
        "\n",
        "['\u041c\u0433\u043b\u0438\u043d\u0441\u043a\u0438\u0439 \u0440\u0430\u0439\u043e\u043d']\n",
        "http://www.geonames.org/637292/about.rdf"
       ]
      },
      {
       "output_type": "stream",
       "stream": "stdout",
       "text": [
        "\n",
        "http://ru.wikipedia.org/wiki/%D0%A1%D0%B0%D0%B2%D0%BE%D0%BD%D0%BB%D0%B8%D0%BD%D0%BD%D0%B0"
       ]
      },
      {
       "output_type": "stream",
       "stream": "stdout",
       "text": [
        "\n",
        "[]\n",
        "http://www.geonames.org/575591/about.rdf"
       ]
      },
      {
       "output_type": "stream",
       "stream": "stdout",
       "text": [
        "\n",
        "http://ru.wikipedia.org/wiki/%D0%91%D0%BE%D0%B3%D0%BE%D1%80%D0%BE%D0%B4%D0%B8%D1%86%D0%BA"
       ]
      },
      {
       "output_type": "stream",
       "stream": "stdout",
       "text": [
        "\n",
        "['\u0411\u043e\u0433\u043e\u0440\u043e\u0434\u0438\u0446\u043a\u0438\u0439']\n",
        "http://www.geonames.org/589580/about.rdf"
       ]
      },
      {
       "output_type": "stream",
       "stream": "stdout",
       "text": [
        "\n",
        "http://ru.wikipedia.org/wiki/%D0%9F%D1%8F%D1%80%D0%BD%D1%83_%28%D0%B3%D0%BE%D1%80%D0%BE%D0%B4%29"
       ]
      },
      {
       "output_type": "stream",
       "stream": "stdout",
       "text": [
        "\n",
        "[]\n",
        "http://www.geonames.org/504269/about.rdf"
       ]
      },
      {
       "output_type": "stream",
       "stream": "stdout",
       "text": [
        "\n",
        "http://ru.wikipedia.org/wiki/%D0%9F%D1%83%D0%B4%D0%BE%D0%B6"
       ]
      },
      {
       "output_type": "stream",
       "stream": "stdout",
       "text": [
        "\n",
        "['\u041f\u0443\u0434\u043e\u0436\u0441\u043a\u0438\u0439']\n",
        "http://www.geonames.org/499717/about.rdf"
       ]
      },
      {
       "output_type": "stream",
       "stream": "stdout",
       "text": [
        "\n",
        "http://ru.wikipedia.org/wiki/%D0%A0%D0%B6%D0%B5%D0%B2"
       ]
      },
      {
       "output_type": "stream",
       "stream": "stdout",
       "text": [
        "\n",
        "['\u0420\u0436\u0435\u0432']\n",
        "http://www.geonames.org/548982/about.rdf"
       ]
      },
      {
       "output_type": "stream",
       "stream": "stdout",
       "text": [
        "\n",
        "http://ru.wikipedia.org/wiki/%D0%A5%D0%B2%D0%B0%D0%BB%D1%8B%D0%BD%D1%81%D0%BA"
       ]
      },
      {
       "output_type": "stream",
       "stream": "stdout",
       "text": [
        "\n",
        "['\u0425\u0432\u0430\u043b\u044b\u043d\u0441\u043a\u0438\u0439 \u0440\u0430\u0439\u043e\u043d']\n",
        "http://www.geonames.org/1505526/about.rdf"
       ]
      },
      {
       "output_type": "stream",
       "stream": "stdout",
       "text": [
        "\n",
        "http://ru.wikipedia.org/wiki/%D0%98%D1%80%D0%B1%D0%B8%D1%82"
       ]
      },
      {
       "output_type": "stream",
       "stream": "stdout",
       "text": [
        "\n",
        "[]\n",
        "http://www.geonames.org/487928/about.rdf"
       ]
      },
      {
       "output_type": "stream",
       "stream": "stdout",
       "text": [
        "\n",
        "http://ru.wikipedia.org/wiki/%D0%A1%D1%82%D0%B0%D1%80%D1%8B%D0%B9_%D0%9E%D1%81%D0%BA%D0%BE%D0%BB"
       ]
      },
      {
       "output_type": "stream",
       "stream": "stdout",
       "text": [
        "\n",
        "['\u0421\u0442\u0430\u0440\u043e\u043e\u0441\u043a\u043e\u043b\u044c\u0441\u043a\u0438\u0439']\n",
        "http://www.geonames.org/477795/about.rdf"
       ]
      },
      {
       "output_type": "stream",
       "stream": "stdout",
       "text": [
        "\n",
        "http://ru.wikipedia.org/wiki/%D0%A3%D1%81%D1%82%D1%8E%D0%B6%D0%BD%D0%B0"
       ]
      },
      {
       "output_type": "stream",
       "stream": "stdout",
       "text": [
        "\n",
        "['\u0423\u0441\u0442\u044e\u0436\u0435\u043d\u0441\u043a\u0438\u0439']\n",
        "http://www.geonames.org/532138/about.rdf"
       ]
      },
      {
       "output_type": "stream",
       "stream": "stdout",
       "text": [
        "\n",
        "http://ru.wikipedia.org/wiki/%D0%9C%D0%B0%D0%BA%D0%B0%D1%80%D1%8C%D0%B5%D0%B2"
       ]
      },
      {
       "output_type": "stream",
       "stream": "stdout",
       "text": [
        "\n",
        "['\u041c\u0430\u043a\u0430\u0440\u044c\u0435\u0432\u0441\u043a\u0438\u0439']\n",
        "http://www.geonames.org/518745/about.rdf"
       ]
      },
      {
       "output_type": "stream",
       "stream": "stdout",
       "text": [
        "\n",
        "http://ru.wikipedia.org/wiki/%D0%9D%D0%BE%D0%B2%D0%BE%D1%85%D0%BE%D0%BF%D1%91%D1%80%D1%81%D0%BA"
       ]
      },
      {
       "output_type": "stream",
       "stream": "stdout",
       "text": [
        "\n",
        "['\u041d\u043e\u0432\u043e\u0445\u043e\u043f\u0451\u0440\u0441\u043a\u0438\u0439']\n",
        "http://www.geonames.org/1507565/about.rdf"
       ]
      },
      {
       "output_type": "stream",
       "stream": "stdout",
       "text": [
        "\n",
        "http://ru.wikipedia.org/wiki/%D0%94%D0%B0%D0%BB%D0%BC%D0%B0%D1%82%D0%BE%D0%B2%D0%BE"
       ]
      },
      {
       "output_type": "stream",
       "stream": "stdout",
       "text": [
        "\n",
        "['\u0414\u0430\u043b\u043c\u0430\u0442\u043e\u0432\u0441\u043a\u0438\u0439']\n",
        "http://www.geonames.org/527869/about.rdf"
       ]
      },
      {
       "output_type": "stream",
       "stream": "stdout",
       "text": [
        "\n",
        "http://ru.wikipedia.org/wiki/%D0%9C%D0%B5%D0%B4%D1%8B%D0%BD%D1%8C"
       ]
      },
      {
       "output_type": "stream",
       "stream": "stdout",
       "text": [
        "\n",
        "['\u041c\u0435\u0434\u044b\u043d\u0441\u043a\u0438\u0439']\n",
        "http://www.geonames.org/629395/about.rdf"
       ]
      },
      {
       "output_type": "stream",
       "stream": "stdout",
       "text": [
        "\n",
        "http://ru.wikipedia.org/wiki/%D0%A7%D0%B0%D1%83%D1%81%D1%8B"
       ]
      },
      {
       "output_type": "stream",
       "stream": "stdout",
       "text": [
        "\n",
        "['\u0427\u0430\u0443\u0441\u0441\u043a\u0438\u0439']\n",
        "http://www.geonames.org/527405/about.rdf"
       ]
      },
      {
       "output_type": "stream",
       "stream": "stdout",
       "text": [
        "\n",
        "http://ru.wikipedia.org/wiki/%D0%9C%D0%B5%D1%89%D0%BE%D0%B2%D1%81%D0%BA"
       ]
      },
      {
       "output_type": "stream",
       "stream": "stdout",
       "text": [
        "\n",
        "['\u041c\u0435\u0449\u043e\u0432\u0441\u043a\u0438\u0439']\n",
        "http://www.geonames.org/569359/about.rdf"
       ]
      },
      {
       "output_type": "stream",
       "stream": "stdout",
       "text": [
        "\n",
        "http://ru.wikipedia.org/wiki/%D0%A7%D0%B5%D1%80%D0%B4%D1%8B%D0%BD%D1%8C"
       ]
      },
      {
       "output_type": "stream",
       "stream": "stdout",
       "text": [
        "\n",
        "['\u0427\u0435\u0440\u0434\u044b\u043d\u0441\u043a\u0438\u0439']\n",
        "http://www.geonames.org/494120/about.rdf"
       ]
      },
      {
       "output_type": "stream",
       "stream": "stdout",
       "text": [
        "\n",
        "[]"
       ]
      },
      {
       "output_type": "stream",
       "stream": "stdout",
       "text": [
        "\n",
        "http://www.geonames.org/549371/about.rdf"
       ]
      },
      {
       "output_type": "stream",
       "stream": "stdout",
       "text": [
        "\n",
        "[]"
       ]
      },
      {
       "output_type": "stream",
       "stream": "stdout",
       "text": [
        "\n",
        "http://www.geonames.org/527034/about.rdf"
       ]
      },
      {
       "output_type": "stream",
       "stream": "stdout",
       "text": [
        "\n",
        "http://ru.wikipedia.org/wiki/%D0%9C%D0%B8%D1%85%D0%B0%D0%B9%D0%BB%D0%BE%D0%B2_%28%D0%B3%D0%BE%D1%80%D0%BE%D0%B4%29"
       ]
      },
      {
       "output_type": "stream",
       "stream": "stdout",
       "text": [
        "\n",
        "['\u041c\u0438\u0445\u0430\u0439\u043b\u043e\u0432\u0441\u043a\u0438\u0439']\n",
        "http://www.geonames.org/525138/about.rdf"
       ]
      },
      {
       "output_type": "stream",
       "stream": "stdout",
       "text": [
        "\n",
        "http://ru.wikipedia.org/wiki/%D0%9C%D0%BE%D1%80%D1%88%D0%B0%D0%BD%D1%81%D0%BA"
       ]
      },
      {
       "output_type": "stream",
       "stream": "stdout",
       "text": [
        "\n",
        "['\u041c\u043e\u0440\u0448\u0430\u043d\u0441\u043a\u0438\u0439']\n",
        "http://www.geonames.org/525084/about.rdf"
       ]
      },
      {
       "output_type": "stream",
       "stream": "stdout",
       "text": [
        "\n",
        "http://ru.wikipedia.org/wiki/%D0%9C%D0%BE%D1%81%D0%B0%D0%BB%D1%8C%D1%81%D0%BA"
       ]
      },
      {
       "output_type": "stream",
       "stream": "stdout",
       "text": [
        "\n",
        "['\u041c\u043e\u0441\u0430\u043b\u044c\u0441\u043a\u0438\u0439']\n",
        "http://www.geonames.org/578045/about.rdf"
       ]
      },
      {
       "output_type": "stream",
       "stream": "stdout",
       "text": [
        "\n",
        "http://ru.wikipedia.org/wiki/%D0%91%D0%B5%D0%BB%D0%B8%D0%BD%D1%81%D0%BA%D0%B8%D0%B9_(%D0%B3%D0%BE%D1%80%D0%BE%D0%B4)"
       ]
      },
      {
       "output_type": "stream",
       "stream": "stdout",
       "text": [
        "\n",
        "['\u0411\u0435\u043b\u0438\u043d\u0441\u043a\u0438\u0439 \u0440\u0430\u0439\u043e\u043d']\n",
        "http://www.geonames.org/524294/about.rdf"
       ]
      },
      {
       "output_type": "stream",
       "stream": "stdout",
       "text": [
        "\n",
        "http://ru.wikipedia.org/wiki/%D0%9C%D1%83%D1%80%D0%BE%D0%BC"
       ]
      },
      {
       "output_type": "stream",
       "stream": "stdout",
       "text": [
        "\n",
        "['\u041c\u0443\u0440\u043e\u043c']\n",
        "http://www.geonames.org/524640/about.rdf"
       ]
      },
      {
       "output_type": "stream",
       "stream": "stdout",
       "text": [
        "\n",
        "http://ru.wikipedia.org/wiki/%D0%9C%D1%86%D0%B5%D0%BD%D1%81%D0%BA"
       ]
      },
      {
       "output_type": "stream",
       "stream": "stdout",
       "text": [
        "\n",
        "['\u041c\u0446\u0435\u043d\u0441\u043a\u0438\u0439', '\u0413\u043e\u0440\u043e\u0434 \u041c\u0446\u0435\u043d\u0441\u043a']\n",
        "http://www.geonames.org/523859/about.rdf"
       ]
      },
      {
       "output_type": "stream",
       "stream": "stdout",
       "text": [
        "\n",
        "http://ru.wikipedia.org/wiki/%D0%9C%D1%8B%D1%88%D0%BA%D0%B8%D0%BD"
       ]
      },
      {
       "output_type": "stream",
       "stream": "stdout",
       "text": [
        "\n",
        "['\u041c\u044b\u0448\u043a\u0438\u043d\u0441\u043a\u0438\u0439']\n",
        "http://www.geonames.org/700371/about.rdf"
       ]
      },
      {
       "output_type": "stream",
       "stream": "stdout",
       "text": [
        "\n",
        "http://ru.wikipedia.org/wiki/%D0%9D%D0%B5%D0%B4%D1%80%D0%B8%D0%B3%D0%B0%D0%B9%D0%BB%D0%BE%D0%B2"
       ]
      },
      {
       "output_type": "stream",
       "stream": "stdout",
       "text": [
        "\n",
        "['\u041d\u0435\u0434\u0440\u0438\u0433\u0430\u0439\u043b\u043e\u0432\u0441\u043a\u0438\u0439']\n",
        "http://www.geonames.org/469005/about.rdf"
       ]
      },
      {
       "output_type": "stream",
       "stream": "stdout",
       "text": [
        "\n",
        "http://ru.wikipedia.org/wiki/%D0%AF%D1%80%D0%B0%D0%BD%D1%81%D0%BA"
       ]
      },
      {
       "output_type": "stream",
       "stream": "stdout",
       "text": [
        "\n",
        "['\u042f\u0440\u0430\u043d\u0441\u043a\u0438\u0439']\n",
        "http://www.geonames.org/516197/about.rdf"
       ]
      },
      {
       "output_type": "stream",
       "stream": "stdout",
       "text": [
        "\n",
        "[]"
       ]
      },
      {
       "output_type": "stream",
       "stream": "stdout",
       "text": [
        "\n",
        "http://www.geonames.org/2018571/about.rdf"
       ]
      },
      {
       "output_type": "stream",
       "stream": "stdout",
       "text": [
        "\n",
        "http://ru.wikipedia.org/wiki/%D0%9E%D0%BB%D1%91%D0%BA%D0%BC%D0%B8%D0%BD%D1%81%D0%BA"
       ]
      },
      {
       "output_type": "stream",
       "stream": "stdout",
       "text": [
        "\n",
        "['\u041e\u043b\u0451\u043a\u043c\u0438\u043d\u0441\u043a\u0438\u0439 \u0440\u0430\u0439\u043e\u043d']\n",
        "http://www.geonames.org/514259/about.rdf"
       ]
      },
      {
       "output_type": "stream",
       "stream": "stdout",
       "text": [
        "\n",
        "http://ru.wikipedia.org/wiki/%D0%9E%D1%81%D1%82%D0%B0%D1%88%D0%BA%D0%BE%D0%B2"
       ]
      },
      {
       "output_type": "stream",
       "stream": "stdout",
       "text": [
        "\n",
        "['\u041e\u0441\u0442\u0430\u0448\u043a\u043e\u0432\u0441\u043a\u0438\u0439 \u0440\u0430\u0439\u043e\u043d']\n",
        "http://www.geonames.org/514198/about.rdf"
       ]
      },
      {
       "output_type": "stream",
       "stream": "stdout",
       "text": [
        "\n",
        "http://ru.wikipedia.org/wiki/%D0%9E%D1%81%D1%82%D1%80%D0%BE%D0%B3%D0%BE%D0%B6%D1%81%D0%BA"
       ]
      },
      {
       "output_type": "stream",
       "stream": "stdout",
       "text": [
        "\n",
        "['\u041e\u0441\u0442\u0440\u043e\u0433\u043e\u0436\u0441\u043a\u0438\u0439 \u0440\u0430\u0439\u043e\u043d']\n",
        "http://www.geonames.org/511400/about.rdf"
       ]
      },
      {
       "output_type": "stream",
       "stream": "stdout",
       "text": [
        "\n",
        "http://ru.wikipedia.org/wiki/%D0%9F%D0%B5%D1%80%D0%B5%D0%BC%D1%8B%D1%88%D0%BB%D1%8C_(%D0%9A%D0%B0%D0%BB%D1%83%D0%B6%D1%81%D0%BA%D0%B0%D1%8F_%D0%BE%D0%B1%D0%BB%D0%B0%D1%81%D1%82%D1%8C)"
       ]
      },
      {
       "output_type": "stream",
       "stream": "stdout",
       "text": [
        "\n",
        "['\u041f\u0435\u0440\u0435\u043c\u044b\u0448\u043b\u044c\u0441\u043a\u0438\u0439']\n",
        "http://www.geonames.org/509987/about.rdf"
       ]
      },
      {
       "output_type": "stream",
       "stream": "stdout",
       "text": [
        "\n",
        "http://ru.wikipedia.org/wiki/%D0%9F%D0%B5%D1%82%D1%80%D0%BE%D0%B2%D1%81%D0%BA_(%D0%A1%D0%B0%D1%80%D0%B0%D1%82%D0%BE%D0%B2%D1%81%D0%BA%D0%B0%D1%8F_%D0%BE%D0%B1%D0%BB%D0%B0%D1%81%D1%82%D1%8C)"
       ]
      },
      {
       "output_type": "stream",
       "stream": "stdout",
       "text": [
        "\n",
        "['\u041f\u0435\u0442\u0440\u043e\u0432\u0441\u043a\u0438\u0439 \u0440\u0430\u0439\u043e\u043d']\n",
        "http://www.geonames.org/509029/about.rdf"
       ]
      },
      {
       "output_type": "stream",
       "stream": "stdout",
       "text": [
        "\n",
        "http://ru.wikipedia.org/wiki/%D0%9F%D0%BB%D1%91%D1%81_(%D0%B3%D0%BE%D1%80%D0%BE%D0%B4)"
       ]
      },
      {
       "output_type": "stream",
       "stream": "stdout",
       "text": [
        "\n",
        "['\u041f\u0440\u0438\u0432\u043e\u043b\u0436\u0441\u043a\u0438\u0439 \u0440\u0430\u0439\u043e\u043d']\n",
        "http://www.geonames.org/480122/about.rdf"
       ]
      },
      {
       "output_type": "stream",
       "stream": "stdout",
       "text": [
        "\n",
        "http://ru.wikipedia.org/wiki/%D0%A2%D1%83%D1%82%D0%B0%D0%B5%D0%B2"
       ]
      },
      {
       "output_type": "stream",
       "stream": "stdout",
       "text": [
        "\n",
        "['\u0422\u0443\u0442\u0430\u0435\u0432\u0441\u043a\u0438\u0439']\n",
        "http://www.geonames.org/696008/about.rdf"
       ]
      },
      {
       "output_type": "stream",
       "stream": "stdout",
       "text": [
        "\n",
        "http://ru.wikipedia.org/wiki/%D0%9F%D1%83%D1%82%D0%B8%D0%B2%D0%BB%D1%8C"
       ]
      },
      {
       "output_type": "stream",
       "stream": "stdout",
       "text": [
        "\n",
        "['\u041f\u0443\u0442\u0438\u0432\u043b\u044c\u0441\u043a\u0438\u0439']\n",
        "http://www.geonames.org/530849/about.rdf"
       ]
      },
      {
       "output_type": "stream",
       "stream": "stdout",
       "text": [
        "\n",
        "http://ru.wikipedia.org/wiki/%D0%9C%D0%B0%D0%BB%D0%BE%D1%8F%D1%80%D0%BE%D1%81%D0%BB%D0%B0%D0%B2%D0%B5%D1%86"
       ]
      },
      {
       "output_type": "stream",
       "stream": "stdout",
       "text": [
        "\n",
        "['\u041c\u0430\u043b\u043e\u044f\u0440\u043e\u0441\u043b\u0430\u0432\u0435\u0446\u043a\u0438\u0439']\n",
        "http://www.geonames.org/500004/about.rdf"
       ]
      },
      {
       "output_type": "stream",
       "stream": "stdout",
       "text": [
        "\n",
        "http://ru.wikipedia.org/wiki/%D0%A0%D1%8B%D0%B1%D0%B8%D0%BD%D1%81%D0%BA"
       ]
      },
      {
       "output_type": "stream",
       "stream": "stdout",
       "text": [
        "\n",
        "['\u0420\u044b\u0431\u0438\u043d\u0441\u043a']\n",
        "http://www.geonames.org/695019/about.rdf"
       ]
      },
      {
       "output_type": "stream",
       "stream": "stdout",
       "text": [
        "\n",
        "http://ru.wikipedia.org/wiki/%D0%A0%D1%8B%D0%BB%D1%8C%D1%81%D0%BA"
       ]
      },
      {
       "output_type": "stream",
       "stream": "stdout",
       "text": [
        "\n",
        "['\u0420\u044b\u043b\u044c\u0441\u043a\u0438\u0439']\n",
        "http://www.geonames.org/500047/about.rdf"
       ]
      },
      {
       "output_type": "stream",
       "stream": "stdout",
       "text": [
        "\n",
        "http://ru.wikipedia.org/wiki/%D0%A0%D1%8F%D0%B6%D1%81%D0%BA"
       ]
      },
      {
       "output_type": "stream",
       "stream": "stdout",
       "text": [
        "\n",
        "['\u0420\u044f\u0436\u0441\u043a\u0438\u0439']\n",
        "http://www.geonames.org/496802/about.rdf"
       ]
      },
      {
       "output_type": "stream",
       "stream": "stdout",
       "text": [
        "\n",
        "http://ru.wikipedia.org/wiki/%D0%A1%D0%B5%D1%80%D0%B3%D0%B0%D1%87"
       ]
      },
      {
       "output_type": "stream",
       "stream": "stdout",
       "text": [
        "\n",
        "['\u0421\u0435\u0440\u0433\u0430\u0447\u0441\u043a\u0438\u0439']\n",
        "http://www.geonames.org/496935/about.rdf"
       ]
      },
      {
       "output_type": "stream",
       "stream": "stdout",
       "text": [
        "\n",
        "[]"
       ]
      },
      {
       "output_type": "stream",
       "stream": "stdout",
       "text": [
        "\n",
        "http://www.geonames.org/496934/about.rdf"
       ]
      },
      {
       "output_type": "stream",
       "stream": "stdout",
       "text": [
        "\n",
        "http://ru.wikipedia.org/wiki/%D0%A1%D0%B5%D1%80%D0%B4%D0%BE%D0%B1%D1%81%D0%BA"
       ]
      },
      {
       "output_type": "stream",
       "stream": "stdout",
       "text": [
        "\n",
        "['\u0421\u0435\u0440\u0434\u043e\u0431\u0441\u043a\u0438\u0439']\n",
        "http://www.geonames.org/496543/about.rdf"
       ]
      },
      {
       "output_type": "stream",
       "stream": "stdout",
       "text": [
        "\n",
        "http://ru.wikipedia.org/wiki/%D0%A1%D0%B5%D1%80%D0%BF%D0%B5%D0%B9%D1%81%D0%BA"
       ]
      },
      {
       "output_type": "stream",
       "stream": "stdout",
       "text": [
        "\n",
        "['\u041c\u0435\u0449\u043e\u0432\u0441\u043a\u0438\u0439']\n",
        "http://www.geonames.org/496527/about.rdf"
       ]
      },
      {
       "output_type": "stream",
       "stream": "stdout",
       "text": [
        "\n",
        "http://ru.wikipedia.org/wiki/%D0%A1%D0%B5%D1%80%D0%BF%D1%83%D1%85%D0%BE%D0%B2"
       ]
      },
      {
       "output_type": "stream",
       "stream": "stdout",
       "text": [
        "\n",
        "['\u0421\u0435\u0440\u043f\u0443\u0445\u043e\u0432']\n",
        "http://www.geonames.org/490743/about.rdf"
       ]
      },
      {
       "output_type": "stream",
       "stream": "stdout",
       "text": [
        "\n",
        "http://ru.wikipedia.org/wiki/%D0%A1%D0%BE%D0%BB%D1%8C%D0%B2%D1%8B%D1%87%D0%B5%D0%B3%D0%BE%D0%B4%D1%81%D0%BA"
       ]
      },
      {
       "output_type": "stream",
       "stream": "stdout",
       "text": [
        "\n",
        "['\u041a\u043e\u0442\u043b\u0430\u0441\u0441\u043a\u0438\u0439']\n",
        "http://www.geonames.org/482283/about.rdf"
       ]
      },
      {
       "output_type": "stream",
       "stream": "stdout",
       "text": [
        "\n",
        "http://ru.wikipedia.org/wiki/%D0%A2%D0%BE%D0%BB%D1%8C%D1%8F%D1%82%D1%82%D0%B8_%28%D0%B7%D0%BD%D0%B0%D1%87%D0%B5%D0%BD%D0%B8%D1%8F%29"
       ]
      },
      {
       "output_type": "stream",
       "stream": "stdout",
       "text": [
        "\n",
        "[]\n",
        "http://www.geonames.org/486816/about.rdf"
       ]
      },
      {
       "output_type": "stream",
       "stream": "stdout",
       "text": [
        "\n",
        "http://ru.wikipedia.org/wiki/%D0%A1%D1%83%D0%B4%D0%B6%D0%B0"
       ]
      },
      {
       "output_type": "stream",
       "stream": "stdout",
       "text": [
        "\n",
        "['\u0421\u0443\u0434\u0436\u0430\u043d\u0441\u043a\u0438\u0439']\n",
        "http://www.geonames.org/496246/about.rdf"
       ]
      },
      {
       "output_type": "stream",
       "stream": "stdout",
       "text": [
        "\n",
        "http://ru.wikipedia.org/wiki/%D0%A1%D0%B5%D0%B2%D1%81%D0%BA"
       ]
      },
      {
       "output_type": "stream",
       "stream": "stdout",
       "text": [
        "\n",
        "['\u0421\u0435\u0432\u0441\u043a\u0438\u0439']\n",
        "http://www.geonames.org/484287/about.rdf"
       ]
      },
      {
       "output_type": "stream",
       "stream": "stdout",
       "text": [
        "\n",
        "http://ru.wikipedia.org/wiki/%D0%A2%D0%B0%D1%80%D1%83%D1%81%D0%B0_%28%D0%B3%D0%BE%D1%80%D0%BE%D0%B4%29"
       ]
      },
      {
       "output_type": "stream",
       "stream": "stdout",
       "text": [
        "\n",
        "['\u0422\u0430\u0440\u0443\u0441\u0441\u043a\u0438\u0439 \u0440\u0430\u0439\u043e\u043d']\n",
        "http://www.geonames.org/580420/about.rdf"
       ]
      },
      {
       "output_type": "stream",
       "stream": "stdout",
       "text": [
        "\n",
        "http://ru.wikipedia.org/wiki/%D0%90%D1%82%D0%BA%D0%B0%D1%80%D1%81%D0%BA"
       ]
      },
      {
       "output_type": "stream",
       "stream": "stdout",
       "text": [
        "\n",
        "['\u0410\u0442\u043a\u0430\u0440\u0441\u043a\u0438\u0439 \u0440\u0430\u0439\u043e\u043d']\n",
        "http://www.geonames.org/483019/about.rdf"
       ]
      },
      {
       "output_type": "stream",
       "stream": "stdout",
       "text": [
        "\n",
        "http://ru.wikipedia.org/wiki/%D0%A2%D0%B8%D1%85%D0%B2%D0%B8%D0%BD"
       ]
      },
      {
       "output_type": "stream",
       "stream": "stdout",
       "text": [
        "\n",
        "['\u0422\u0438\u0445\u0432\u0438\u043d\u0441\u043a\u0438\u0439']\n",
        "http://www.geonames.org/482042/about.rdf"
       ]
      },
      {
       "output_type": "stream",
       "stream": "stdout",
       "text": [
        "\n",
        "http://ru.wikipedia.org/wiki/%D0%A2%D0%BE%D1%80%D0%BE%D0%BF%D0%B5%D1%86"
       ]
      },
      {
       "output_type": "stream",
       "stream": "stdout",
       "text": [
        "\n",
        "['\u0422\u043e\u0440\u043e\u043f\u0435\u0446\u043a\u0438\u0439']\n",
        "http://www.geonames.org/711894/about.rdf"
       ]
      },
      {
       "output_type": "stream",
       "stream": "stdout",
       "text": [
        "\n",
        "http://ru.wikipedia.org/wiki/%D0%91%D0%BE%D0%B3%D0%BE%D0%B4%D1%83%D1%85%D0%BE%D0%B2"
       ]
      },
      {
       "output_type": "stream",
       "stream": "stdout",
       "text": [
        "\n",
        "['\u0411\u043e\u0433\u043e\u0434\u0443\u0445\u043e\u0432\u0441\u043a\u0438\u0439 \u0433\u043e\u0440\u043e\u0434\u0441\u043a\u043e\u0439 \u0441\u043e\u0432\u0435\u0442']\n",
        "http://www.geonames.org/711536/about.rdf"
       ]
      },
      {
       "output_type": "stream",
       "stream": "stdout",
       "text": [
        "\n",
        "http://ru.wikipedia.org/wiki/%D0%91%D0%BE%D1%80%D0%B7%D0%BD%D0%B0"
       ]
      },
      {
       "output_type": "stream",
       "stream": "stdout",
       "text": [
        "\n",
        "['\u0411\u043e\u0440\u0437\u043d\u044f\u043d\u0441\u043a\u0438\u0439 \u0440\u0430\u0439\u043e\u043d']\n",
        "http://www.geonames.org/572525/about.rdf"
       ]
      },
      {
       "output_type": "stream",
       "stream": "stdout",
       "text": [
        "\n",
        "http://ru.wikipedia.org/wiki/%D0%91%D0%BE%D1%80%D0%B8%D1%81%D0%BE%D0%B3%D0%BB%D0%B5%D0%B1%D1%81%D0%BA"
       ]
      },
      {
       "output_type": "stream",
       "stream": "stdout",
       "text": [
        "\n",
        "['\u0411\u043e\u0440\u0438\u0441\u043e\u0433\u043b\u0435\u0431\u0441\u043a\u0438\u0439']\n",
        "http://www.geonames.org/485239/about.rdf"
       ]
      },
      {
       "output_type": "stream",
       "stream": "stdout",
       "text": [
        "\n",
        "http://ru.wikipedia.org/wiki/%D0%A1%D1%8B%D0%BA%D1%82%D1%8B%D0%B2%D0%BA%D0%B0%D1%80"
       ]
      },
      {
       "output_type": "stream",
       "stream": "stdout",
       "text": [
        "\n",
        "['\u0421\u044b\u043a\u0442\u044b\u0432\u043a\u0430\u0440']\n",
        "http://www.geonames.org/571557/about.rdf"
       ]
      },
      {
       "output_type": "stream",
       "stream": "stdout",
       "text": [
        "\n",
        "http://ru.wikipedia.org/wiki/%D0%91%D1%80%D0%BE%D0%BD%D0%BD%D0%B8%D1%86%D1%8B"
       ]
      },
      {
       "output_type": "stream",
       "stream": "stdout",
       "text": [
        "\n",
        "['\u0411\u0440\u043e\u043d\u043d\u0438\u0446\u044b']\n",
        "http://www.geonames.org/571476/about.rdf"
       ]
      },
      {
       "output_type": "stream",
       "stream": "stdout",
       "text": [
        "\n",
        "http://ru.wikipedia.org/wiki/%D0%91%D1%80%D1%8F%D0%BD%D1%81%D0%BA"
       ]
      },
      {
       "output_type": "stream",
       "stream": "stdout",
       "text": [
        "\n",
        "['\u0411\u0440\u044f\u043d\u0441\u043a']\n",
        "http://www.geonames.org/587577/about.rdf"
       ]
      },
      {
       "output_type": "stream",
       "stream": "stdout",
       "text": [
        "\n",
        "http://ru.wikipedia.org/wiki/%D0%92%D0%B8%D0%BB%D1%8C%D1%8F%D0%BD%D0%B4%D0%B8"
       ]
      },
      {
       "output_type": "stream",
       "stream": "stdout",
       "text": [
        "\n",
        "[]\n",
        "http://www.geonames.org/479532/about.rdf"
       ]
      },
      {
       "output_type": "stream",
       "stream": "stdout",
       "text": [
        "\n",
        "http://ru.wikipedia.org/wiki/%D0%A3%D0%B3%D0%BB%D0%B8%D1%87"
       ]
      },
      {
       "output_type": "stream",
       "stream": "stdout",
       "text": [
        "\n",
        "['\u0423\u0433\u043b\u0438\u0447\u0441\u043a\u0438\u0439']\n",
        "http://www.geonames.org/706448/about.rdf"
       ]
      },
      {
       "output_type": "stream",
       "stream": "stdout",
       "text": [
        "\n",
        "http://ru.wikipedia.org/wiki/%D0%A5%D0%B5%D1%80%D1%81%D0%BE%D0%BD"
       ]
      },
      {
       "output_type": "stream",
       "stream": "stdout",
       "text": [
        "\n",
        "['\u0425\u0435\u0440\u0441\u043e\u043d\u0441\u043a\u0438\u0439 \u0433\u043e\u0440\u0441\u043e\u0432\u0435\u0442']\n",
        "http://www.geonames.org/712559/about.rdf"
       ]
      },
      {
       "output_type": "stream",
       "stream": "stdout",
       "text": [
        "\n",
        "http://ru.wikipedia.org/wiki/%D0%91%D0%B5%D0%BB%D0%BE%D0%BF%D0%BE%D0%BB%D1%8C%D0%B5"
       ]
      },
      {
       "output_type": "stream",
       "stream": "stdout",
       "text": [
        "\n",
        "['\u0411\u0435\u043b\u043e\u043f\u043e\u043b\u044c\u0441\u043a\u0438\u0439']\n",
        "http://www.geonames.org/569223/about.rdf"
       ]
      },
      {
       "output_type": "stream",
       "stream": "stdout",
       "text": [
        "\n",
        "http://ru.wikipedia.org/wiki/%D0%A7%D0%B5%D1%80%D0%B5%D0%BF%D0%BE%D0%B2%D0%B5%D1%86"
       ]
      },
      {
       "output_type": "stream",
       "stream": "stdout",
       "text": [
        "\n",
        "['\u0427\u0435\u0440\u0435\u043f\u043e\u0432\u0435\u0446']\n",
        "http://www.geonames.org/548330/about.rdf"
       ]
      },
      {
       "output_type": "stream",
       "stream": "stdout",
       "text": [
        "\n",
        "http://ru.wikipedia.org/wiki/%D0%9A%D0%B8%D1%80%D1%81%D0%B0%D0%BD%D0%BE%D0%B2_%28%D0%B3%D0%BE%D1%80%D0%BE%D0%B4%29"
       ]
      },
      {
       "output_type": "stream",
       "stream": "stdout",
       "text": [
        "\n",
        "['\u041a\u0438\u0440\u0441\u0430\u043d\u043e\u0432']\n",
        "http://www.geonames.org/710374/about.rdf"
       ]
      },
      {
       "output_type": "stream",
       "stream": "stdout",
       "text": [
        "\n",
        "http://ru.wikipedia.org/wiki/%D0%A7%D1%83%D0%B3%D1%83%D0%B5%D0%B2"
       ]
      },
      {
       "output_type": "stream",
       "stream": "stdout",
       "text": [
        "\n",
        "['\u0427\u0443\u0433\u0443\u0435\u0432\u0441\u043a\u0438\u0439']\n",
        "http://www.geonames.org/460570/about.rdf"
       ]
      },
      {
       "output_type": "stream",
       "stream": "stdout",
       "text": [
        "\n",
        "http://ru.wikipedia.org/wiki/%D0%A6%D0%B5%D1%81%D0%B8%D1%81"
       ]
      },
      {
       "output_type": "stream",
       "stream": "stdout",
       "text": [
        "\n",
        "[]\n",
        "http://www.geonames.org/473943/about.rdf"
       ]
      },
      {
       "output_type": "stream",
       "stream": "stdout",
       "text": [
        "\n",
        "http://ru.wikipedia.org/wiki/%D0%92%D0%B5%D1%81%D1%8C%D0%B5%D0%B3%D0%BE%D0%BD%D1%81%D0%BA"
       ]
      },
      {
       "output_type": "stream",
       "stream": "stdout",
       "text": [
        "\n",
        "['\u0412\u0435\u0441\u044c\u0435\u0433\u043e\u043d\u0441\u043a\u0438\u0439']\n",
        "http://www.geonames.org/453754/about.rdf"
       ]
      },
      {
       "output_type": "stream",
       "stream": "stdout",
       "text": [
        "\n",
        "http://ru.wikipedia.org/wiki/%D0%92%D0%B0%D0%BB%D0%BC%D0%B8%D0%B5%D1%80%D0%B0"
       ]
      },
      {
       "output_type": "stream",
       "stream": "stdout",
       "text": [
        "\n",
        "[]\n",
        "http://www.geonames.org/469809/about.rdf"
       ]
      },
      {
       "output_type": "stream",
       "stream": "stdout",
       "text": [
        "\n",
        "http://ru.wikipedia.org/wiki/%D0%AF%D0%B4%D1%80%D0%B8%D0%BD"
       ]
      },
      {
       "output_type": "stream",
       "stream": "stdout",
       "text": [
        "\n",
        "['\u042f\u0434\u0440\u0438\u043d\u0441\u043a\u0438\u0439 \u0440\u0430\u0439\u043e\u043d']\n",
        "http://www.geonames.org/470666/about.rdf"
       ]
      },
      {
       "output_type": "stream",
       "stream": "stdout",
       "text": [
        "\n",
        "http://ru.wikipedia.org/wiki/%D0%92%D1%8F%D0%B7%D0%BD%D0%B8%D0%BA%D0%B8"
       ]
      },
      {
       "output_type": "stream",
       "stream": "stdout",
       "text": [
        "\n",
        "['\u0412\u044f\u0437\u043d\u0438\u043a\u043e\u0432\u0441\u043a\u0438\u0439']\n",
        "http://www.geonames.org/561679/about.rdf"
       ]
      },
      {
       "output_type": "stream",
       "stream": "stdout",
       "text": [
        "\n",
        "http://ru.wikipedia.org/wiki/%D0%93%D0%B4%D0%BE%D0%B2"
       ]
      },
      {
       "output_type": "stream",
       "stream": "stdout",
       "text": [
        "\n",
        "['\u0413\u0434\u043e\u0432\u0441\u043a\u0438\u0439 \u0440\u0430\u0439\u043e\u043d \u041f\u0441\u043a\u043e\u0432\u0441\u043a\u043e\u0439 \u043e\u0431\u043b\u0430\u0441\u0442\u0438']\n",
        "http://www.geonames.org/708551/about.rdf"
       ]
      },
      {
       "output_type": "stream",
       "stream": "stdout",
       "text": [
        "\n",
        "[]"
       ]
      },
      {
       "output_type": "stream",
       "stream": "stdout",
       "text": [
        "\n",
        "http://www.geonames.org/560285/about.rdf"
       ]
      },
      {
       "output_type": "stream",
       "stream": "stdout",
       "text": [
        "\n",
        "http://ru.wikipedia.org/wiki/%D0%93%D0%BE%D1%80%D0%B1%D0%B0%D1%82%D0%BE%D0%B2_%28%D0%B3%D0%BE%D1%80%D0%BE%D0%B4%29"
       ]
      },
      {
       "output_type": "stream",
       "stream": "stdout",
       "text": [
        "\n",
        "['\u041f\u0430\u0432\u043b\u043e\u0432\u0441\u043a\u0438\u0439']\n",
        "http://www.geonames.org/659169/about.rdf"
       ]
      },
      {
       "output_type": "stream",
       "stream": "stdout",
       "text": [
        "\n",
        "http://ru.wikipedia.org/wiki/%D0%A5%D0%B0%D0%BC%D0%B8%D0%BD%D0%B0"
       ]
      },
      {
       "output_type": "stream",
       "stream": "stdout",
       "text": [
        "\n",
        "[]\n",
        "http://www.geonames.org/1492517/about.rdf"
       ]
      },
      {
       "output_type": "stream",
       "stream": "stdout",
       "text": [
        "\n",
        "http://ru.wikipedia.org/wiki/%D0%A8%D0%B0%D0%B4%D1%80%D0%B8%D0%BD%D1%81%D0%BA"
       ]
      },
      {
       "output_type": "stream",
       "stream": "stdout",
       "text": [
        "\n",
        "['\u0433\u043e\u0440\u043e\u0434 \u0428\u0430\u0434\u0440\u0438\u043d\u0441\u043a']\n",
        "http://www.geonames.org/564234/about.rdf"
       ]
      },
      {
       "output_type": "stream",
       "stream": "stdout",
       "text": [
        "\n",
        "http://ru.wikipedia.org/wiki/%D0%94%D1%83%D1%85%D0%BE%D0%B2%D1%89%D0%B8%D0%BD%D0%B0"
       ]
      },
      {
       "output_type": "stream",
       "stream": "stdout",
       "text": [
        "\n",
        "['\u0414\u0443\u0445\u043e\u0432\u0449\u0438\u043d\u0441\u043a\u0438\u0439']\n",
        "http://www.geonames.org/558236/about.rdf"
       ]
      },
      {
       "output_type": "stream",
       "stream": "stdout",
       "text": [
        "\n",
        "http://ru.wikipedia.org/wiki/%D0%93%D1%80%D1%8F%D0%B7%D0%BE%D0%B2%D0%B5%D1%86"
       ]
      },
      {
       "output_type": "stream",
       "stream": "stdout",
       "text": [
        "\n",
        "['\u0413\u0440\u044f\u0437\u043e\u0432\u0435\u0446\u043a\u0438\u0439']\n",
        "http://www.geonames.org/569282/about.rdf"
       ]
      },
      {
       "output_type": "stream",
       "stream": "stdout",
       "text": [
        "\n",
        "[]"
       ]
      },
      {
       "output_type": "stream",
       "stream": "stdout",
       "text": [
        "\n",
        "http://www.geonames.org/498480/about.rdf"
       ]
      },
      {
       "output_type": "stream",
       "stream": "stdout",
       "text": [
        "\n",
        "[]"
       ]
      },
      {
       "output_type": "stream",
       "stream": "stdout",
       "text": [
        "\n",
        "http://www.geonames.org/563300/about.rdf"
       ]
      },
      {
       "output_type": "stream",
       "stream": "stdout",
       "text": [
        "\n",
        "http://ru.wikipedia.org/wiki/%D0%A4%D0%B0%D1%82%D0%B5%D0%B6"
       ]
      },
      {
       "output_type": "stream",
       "stream": "stdout",
       "text": [
        "\n",
        "['\u0424\u0430\u0442\u0435\u0436\u0441\u043a\u0438\u0439']\n",
        "http://www.geonames.org/577576/about.rdf"
       ]
      },
      {
       "output_type": "stream",
       "stream": "stdout",
       "text": [
        "\n",
        "http://ru.wikipedia.org/wiki/%D0%91%D0%B5%D0%BB%D1%8B%D0%B9_(%D0%B3%D0%BE%D1%80%D0%BE%D0%B4)"
       ]
      },
      {
       "output_type": "stream",
       "stream": "stdout",
       "text": [
        "\n",
        "['\u0411\u0435\u043b\u044c\u0441\u043a\u0438\u0439']\n",
        "http://www.geonames.org/468030/about.rdf"
       ]
      },
      {
       "output_type": "stream",
       "stream": "stdout",
       "text": [
        "\n",
        "[]"
       ]
      },
      {
       "output_type": "stream",
       "stream": "stdout",
       "text": [
        "\n",
        "http://www.geonames.org/467753/about.rdf"
       ]
      },
      {
       "output_type": "stream",
       "stream": "stdout",
       "text": [
        "\n",
        "http://ru.wikipedia.org/wiki/%D0%95%D0%BB%D1%8C%D0%BD%D1%8F"
       ]
      },
      {
       "output_type": "stream",
       "stream": "stdout",
       "text": [
        "\n",
        "['\u0415\u043b\u044c\u043d\u0438\u043d\u0441\u043a\u0438\u0439']\n",
        "http://www.geonames.org/697889/about.rdf"
       ]
      },
      {
       "output_type": "stream",
       "stream": "stdout",
       "text": [
        "\n",
        "http://ru.wikipedia.org/wiki/%D0%9F%D0%B0%D0%B2%D0%BB%D0%BE%D0%B3%D1%80%D0%B0%D0%B4"
       ]
      },
      {
       "output_type": "stream",
       "stream": "stdout",
       "text": [
        "\n",
        "['\u041f\u0430\u0432\u043b\u043e\u0433\u0440\u0430\u0434\u0441\u043a\u0438\u0439 \u0440\u0430\u0439\u043e\u043d']\n",
        "http://www.geonames.org/2012530/about.rdf"
       ]
      },
      {
       "output_type": "stream",
       "stream": "stdout",
       "text": [
        "\n",
        "http://ru.wikipedia.org/wiki/%D0%96%D0%B8%D0%B3%D0%B0%D0%BD%D1%81%D0%BA"
       ]
      },
      {
       "output_type": "stream",
       "stream": "stdout",
       "text": [
        "\n",
        "['\u0416\u0438\u0433\u0430\u043d\u0441\u043a\u0438\u0439 \u0443\u043b\u0443\u0441']\n",
        "http://www.geonames.org/462914/about.rdf"
       ]
      },
      {
       "output_type": "stream",
       "stream": "stdout",
       "text": [
        "\n",
        "http://ru.wikipedia.org/wiki/%D0%96%D0%B8%D0%B7%D0%B4%D1%80%D0%B0_%28%D0%B3%D0%BE%D1%80%D0%BE%D0%B4%29"
       ]
      },
      {
       "output_type": "stream",
       "stream": "stdout",
       "text": [
        "\n",
        "['\u0416\u0438\u0437\u0434\u0440\u0438\u043d\u0441\u043a\u0438\u0439']\n",
        "http://www.geonames.org/690509/about.rdf"
       ]
      },
      {
       "output_type": "stream",
       "stream": "stdout",
       "text": [
        "\n",
        "http://ru.wikipedia.org/wiki/%D0%92%D0%B0%D0%BB%D0%BA%D0%B8"
       ]
      },
      {
       "output_type": "stream",
       "stream": "stdout",
       "text": [
        "\n",
        "[]\n",
        "http://www.geonames.org/2119377/about.rdf"
       ]
      },
      {
       "output_type": "stream",
       "stream": "stdout",
       "text": [
        "\n",
        "http://ru.wikipedia.org/wiki/%D0%97%D0%B0%D1%88%D0%B8%D0%B2%D0%B5%D1%80%D1%81%D0%BA"
       ]
      },
      {
       "output_type": "stream",
       "stream": "stdout",
       "text": [
        "\n",
        "[]\n",
        "http://www.geonames.org/463690/about.rdf"
       ]
      },
      {
       "output_type": "stream",
       "stream": "stdout",
       "text": [
        "\n",
        "[]"
       ]
      },
      {
       "output_type": "stream",
       "stream": "stdout",
       "text": [
        "\n",
        "http://www.geonames.org/686875/about.rdf"
       ]
      },
      {
       "output_type": "stream",
       "stream": "stdout",
       "text": [
        "\n",
        "http://ru.wikipedia.org/wiki/%D0%97%D0%BE%D0%BB%D0%BE%D1%82%D0%BE%D0%BD%D0%BE%D1%88%D0%B0"
       ]
      },
      {
       "output_type": "stream",
       "stream": "stdout",
       "text": [
        "\n",
        "['\u0417\u043e\u043b\u043e\u0442\u043e\u043d\u043e\u0448\u0441\u043a\u0438\u0439 \u0440\u0430\u0439\u043e\u043d']\n",
        "http://www.geonames.org/506309/about.rdf"
       ]
      },
      {
       "output_type": "stream",
       "stream": "stdout",
       "text": [
        "\n",
        "[]"
       ]
      },
      {
       "output_type": "stream",
       "stream": "stdout",
       "text": [
        "\n",
        "http://www.geonames.org/7645811/about.rdf"
       ]
      },
      {
       "output_type": "stream",
       "stream": "stdout",
       "text": [
        "\n",
        "[]"
       ]
      },
      {
       "output_type": "stream",
       "stream": "stdout",
       "text": [
        "\n",
        "http://www.geonames.org/8409619/about.rdf"
       ]
      },
      {
       "output_type": "stream",
       "stream": "stdout",
       "text": [
        "\n",
        "[]"
       ]
      },
      {
       "output_type": "stream",
       "stream": "stdout",
       "text": [
        "\n",
        "http://www.geonames.org/708320/about.rdf"
       ]
      },
      {
       "output_type": "stream",
       "stream": "stdout",
       "text": [
        "\n",
        "http://ru.wikipedia.org/wiki/%D0%93%D0%BE%D1%80%D0%BE%D0%B4%D0%BD%D1%8F_(%D0%93%D0%BE%D1%80%D0%BE%D0%B4%D0%BD%D1%8F%D0%BD%D1%81%D0%BA%D0%B8%D0%B9_%D1%80%D0%B0%D0%B9%D0%BE%D0%BD)"
       ]
      },
      {
       "output_type": "stream",
       "stream": "stdout",
       "text": [
        "\n",
        "['\u0413\u043e\u0440\u043e\u0434\u043d\u044f\u043d\u0441\u043a\u0438\u0439 \u0440\u0430\u0439\u043e\u043d']\n",
        "http://www.geonames.org/570271/about.rdf"
       ]
      },
      {
       "output_type": "stream",
       "stream": "stdout",
       "text": [
        "\n",
        "[]"
       ]
      },
      {
       "output_type": "stream",
       "stream": "stdout",
       "text": [
        "\n",
        "http://www.geonames.org/543460/about.rdf"
       ]
      },
      {
       "output_type": "stream",
       "stream": "stdout",
       "text": [
        "\n",
        "http://ru.wikipedia.org/wiki/%D0%9A%D0%BE%D0%B2%D1%80%D0%BE%D0%B2"
       ]
      },
      {
       "output_type": "stream",
       "stream": "stdout",
       "text": [
        "\n",
        "['\u041a\u043e\u0432\u0440\u043e\u0432']\n",
        "http://www.geonames.org/704573/about.rdf"
       ]
      },
      {
       "output_type": "stream",
       "stream": "stdout",
       "text": [
        "\n",
        "http://ru.wikipedia.org/wiki/%D0%9A%D0%BE%D0%B7%D0%B5%D0%BB%D0%B5%D1%86"
       ]
      },
      {
       "output_type": "stream",
       "stream": "stdout",
       "text": [
        "\n",
        "['\u041a\u043e\u0437\u0435\u043b\u0435\u0446\u043a\u0438\u0439 \u0440\u0430\u0439\u043e\u043d']\n",
        "http://www.geonames.org/480122/about.rdf"
       ]
      },
      {
       "output_type": "stream",
       "stream": "stdout",
       "text": [
        "\n",
        "http://ru.wikipedia.org/wiki/%D0%A2%D1%83%D1%82%D0%B0%D0%B5%D0%B2"
       ]
      },
      {
       "output_type": "stream",
       "stream": "stdout",
       "text": [
        "\n",
        "['\u0422\u0443\u0442\u0430\u0435\u0432\u0441\u043a\u0438\u0439']\n",
        "http://www.geonames.org/486487/about.rdf"
       ]
      },
      {
       "output_type": "stream",
       "stream": "stdout",
       "text": [
        "\n",
        "[]"
       ]
      },
      {
       "output_type": "stream",
       "stream": "stdout",
       "text": [
        "\n",
        "http://www.geonames.org/543737/about.rdf"
       ]
      },
      {
       "output_type": "stream",
       "stream": "stdout",
       "text": [
        "\n",
        "http://ru.wikipedia.org/wiki/%D0%9A%D0%BE%D1%82%D0%B5%D0%BB%D1%8C%D0%BD%D0%B8%D1%87"
       ]
      },
      {
       "output_type": "stream",
       "stream": "stdout",
       "text": [
        "\n",
        "['\u0433\u043e\u0440\u043e\u0434 \u041a\u043e\u0442\u0435\u043b\u044c\u043d\u0438\u0447']\n",
        "http://www.geonames.org/542942/about.rdf"
       ]
      },
      {
       "output_type": "stream",
       "stream": "stdout",
       "text": [
        "\n",
        "http://ru.wikipedia.org/wiki/%D0%9A%D1%80%D0%B0%D0%BF%D0%B8%D0%B2%D0%BD%D0%B0_(%D0%A2%D1%83%D0%BB%D1%8C%D1%81%D0%BA%D0%B0%D1%8F_%D0%BE%D0%B1%D0%BB%D0%B0%D1%81%D1%82%D1%8C)"
       ]
      },
      {
       "output_type": "stream",
       "stream": "stdout",
       "text": [
        "\n",
        "['\u0429\u0451\u043a\u0438\u043d\u0441\u043a\u0438\u0439']\n",
        "http://www.geonames.org/542423/about.rdf"
       ]
      },
      {
       "output_type": "stream",
       "stream": "stdout",
       "text": [
        "\n",
        "http://ru.wikipedia.org/wiki/%D0%9A%D1%80%D0%B0%D1%81%D0%BD%D0%BE%D0%B1%D0%BE%D1%80%D1%81%D0%BA_(%D0%90%D1%80%D1%85%D0%B0%D0%BD%D0%B3%D0%B5%D0%BB%D1%8C%D1%81%D0%BA%D0%B0%D1%8F_%D0%BE%D0%B1%D0%BB%D0%B0%D1%81%D1%82%D1%8C)"
       ]
      },
      {
       "output_type": "stream",
       "stream": "stdout",
       "text": [
        "\n",
        "['\u041a\u0440\u0430\u0441\u043d\u043e\u0431\u043e\u0440\u0441\u043a\u0438\u0439']\n",
        "http://www.geonames.org/704376/about.rdf"
       ]
      },
      {
       "output_type": "stream",
       "stream": "stdout",
       "text": [
        "\n",
        "[]"
       ]
      },
      {
       "output_type": "stream",
       "stream": "stdout",
       "text": [
        "\n",
        "http://www.geonames.org/540776/about.rdf"
       ]
      },
      {
       "output_type": "stream",
       "stream": "stdout",
       "text": [
        "\n",
        "[]"
       ]
      },
      {
       "output_type": "stream",
       "stream": "stdout",
       "text": [
        "\n",
        "http://www.geonames.org/565201/about.rdf"
       ]
      },
      {
       "output_type": "stream",
       "stream": "stdout",
       "text": [
        "\n",
        "[]"
       ]
      },
      {
       "output_type": "stream",
       "stream": "stdout",
       "text": [
        "\n",
        "http://www.geonames.org/511359/about.rdf"
       ]
      },
      {
       "output_type": "stream",
       "stream": "stdout",
       "text": [
        "\n",
        "http://ru.wikipedia.org/wiki/%D0%9F%D0%B5%D1%80%D0%B5%D1%81%D0%BB%D0%B0%D0%B2%D0%BB%D1%8C-%D0%97%D0%B0%D0%BB%D0%B5%D1%81%D1%81%D0%BA%D0%B8%D0%B9"
       ]
      },
      {
       "output_type": "stream",
       "stream": "stdout",
       "text": [
        "\n",
        "['\u041f\u0435\u0440\u0435\u0441\u043b\u0430\u0432\u043b\u044c-\u0417\u0430\u043b\u0435\u0441\u0441\u043a\u0438\u0439']\n",
        "http://www.geonames.org/537737/about.rdf"
       ]
      },
      {
       "output_type": "stream",
       "stream": "stdout",
       "text": [
        "\n",
        "http://ru.wikipedia.org/wiki/%D0%9A%D1%83%D0%B7%D0%BD%D0%B5%D1%86%D0%BA_%28%D0%9F%D0%B5%D0%BD%D0%B7%D0%B5%D0%BD%D1%81%D0%BA%D0%B0%D1%8F_%D0%BE%D0%B1%D0%BB%D0%B0%D1%81%D1%82%D1%8C%29"
       ]
      },
      {
       "output_type": "stream",
       "stream": "stdout",
       "text": [
        "\n",
        "['\u0413\u043e\u0440\u043e\u0434 \u041a\u0443\u0437\u043d\u0435\u0446\u043a']\n",
        "http://www.geonames.org/482986/about.rdf"
       ]
      },
      {
       "output_type": "stream",
       "stream": "stdout",
       "text": [
        "\n",
        "[]"
       ]
      },
      {
       "output_type": "stream",
       "stream": "stdout",
       "text": [
        "\n",
        "http://www.geonames.org/495206/about.rdf"
       ]
      },
      {
       "output_type": "stream",
       "stream": "stdout",
       "text": [
        "\n",
        "http://ru.wikipedia.org/wiki/%D0%A9%D0%B8%D0%B3%D1%80%D1%8B"
       ]
      },
      {
       "output_type": "stream",
       "stream": "stdout",
       "text": [
        "\n",
        "['\u0429\u0438\u0433\u0440\u044b']\n",
        "http://www.geonames.org/478317/about.rdf"
       ]
      },
      {
       "output_type": "stream",
       "stream": "stdout",
       "text": [
        "\n",
        "http://ru.wikipedia.org/wiki/%D0%A3%D1%81%D0%BC%D0%B0%D0%BD%D1%8C"
       ]
      },
      {
       "output_type": "stream",
       "stream": "stdout",
       "text": [
        "\n",
        "['\u0423\u0441\u043c\u0430\u043d\u0441\u043a\u0438\u0439']\n",
        "http://www.geonames.org/537158/about.rdf"
       ]
      },
      {
       "output_type": "stream",
       "stream": "stdout",
       "text": [
        "\n",
        "http://ru.wikipedia.org/wiki/%D0%9B%D0%B0%D0%B8%D1%88%D0%B5%D0%B2%D0%BE"
       ]
      },
      {
       "output_type": "stream",
       "stream": "stdout",
       "text": [
        "\n",
        "['\u041b\u0430\u0438\u0448\u0435\u0432\u0441\u043a\u0438\u0439']\n",
        "http://www.geonames.org/537094/about.rdf"
       ]
      },
      {
       "output_type": "stream",
       "stream": "stdout",
       "text": [
        "\n",
        "http://ru.wikipedia.org/wiki/%D0%9B%D0%B0%D0%BB%D1%8C%D1%81%D0%BA"
       ]
      },
      {
       "output_type": "stream",
       "stream": "stdout",
       "text": [
        "\n",
        "[]\n",
        "http://www.geonames.org/535121/about.rdf"
       ]
      },
      {
       "output_type": "stream",
       "stream": "stdout",
       "text": [
        "\n",
        "http://ru.wikipedia.org/wiki/%D0%9B%D0%B8%D0%BF%D0%B5%D1%86%D0%BA"
       ]
      },
      {
       "output_type": "stream",
       "stream": "stdout",
       "text": [
        "\n",
        "['\u0433\u043e\u0440\u043e\u0434 \u041b\u0438\u043f\u0435\u0446\u043a']\n"
       ]
      }
     ],
     "prompt_number": 192
    },
    {
     "cell_type": "code",
     "collapsed": false,
     "input": [
      "uezd['uezd_adj'] = None"
     ],
     "language": "python",
     "metadata": {},
     "outputs": [],
     "prompt_number": 197
    },
    {
     "cell_type": "code",
     "collapsed": false,
     "input": [
      "for u in udict:\n",
      "    uezd.loc[u,'uezd_adj'] = \"|\".join(udict[u]['poss_adj'])"
     ],
     "language": "python",
     "metadata": {},
     "outputs": [
      {
       "output_type": "stream",
       "stream": "stderr",
       "text": [
        "c:\\Anaconda3\\lib\\site-packages\\pandas\\core\\indexing.py:389: SettingWithCopyWarning: A value is trying to be set on a copy of a slice from a DataFrame.\n",
        "Try using .loc[row_index,col_indexer] = value instead\n",
        "  self.obj[item] = s\n"
       ]
      }
     ],
     "prompt_number": 200
    },
    {
     "cell_type": "code",
     "collapsed": false,
     "input": [
      "uezd2 = pd.DataFrame.from_csv(\"output/uezd.csv\")"
     ],
     "language": "python",
     "metadata": {},
     "outputs": [],
     "prompt_number": 8
    },
    {
     "cell_type": "code",
     "collapsed": false,
     "input": [
      "uezd2.ru_featuretype = '\u0443\u0435\u0437\u0434'"
     ],
     "language": "python",
     "metadata": {},
     "outputs": [],
     "prompt_number": 9
    },
    {
     "cell_type": "code",
     "collapsed": false,
     "input": [
      "uezd2.unfuckup = uezd2.unfuckup.replace(r\"\u0441\u043a\u0438\u0438 \",r\"\u0441\u043a\u0438\u0439 \",regex=True)"
     ],
     "language": "python",
     "metadata": {},
     "outputs": [],
     "prompt_number": 11
    },
    {
     "cell_type": "code",
     "collapsed": false,
     "input": [
      "uezd2.to_csv(\"output/uezd.csv\")"
     ],
     "language": "python",
     "metadata": {},
     "outputs": [],
     "prompt_number": 12
    },
    {
     "cell_type": "code",
     "collapsed": false,
     "input": [
      "uezd.to_csv(\"output/uezd_original.csv\")"
     ],
     "language": "python",
     "metadata": {},
     "outputs": [],
     "prompt_number": 14
    },
    {
     "cell_type": "code",
     "collapsed": false,
     "input": [
      "uezd[uezd.ru_old_orth==\"\u0428\u0435\u0448\u043a\u0463\u0435\u0432\u044a\"][['ru_old_orth','geonameId','partof_uezd_name','partof_prov_name']]"
     ],
     "language": "python",
     "metadata": {},
     "outputs": [
      {
       "html": [
        "<div style=\"max-height:1000px;max-width:1500px;overflow:auto;\">\n",
        "<table border=\"1\" class=\"dataframe\">\n",
        "  <thead>\n",
        "    <tr style=\"text-align: right;\">\n",
        "      <th></th>\n",
        "      <th>ru_old_orth</th>\n",
        "      <th>geonameId</th>\n",
        "      <th>partof_uezd_name</th>\n",
        "      <th>partof_prov_name</th>\n",
        "    </tr>\n",
        "    <tr>\n",
        "      <th>uniq_id</th>\n",
        "      <th></th>\n",
        "      <th></th>\n",
        "      <th></th>\n",
        "      <th></th>\n",
        "    </tr>\n",
        "  </thead>\n",
        "  <tbody>\n",
        "    <tr>\n",
        "      <th>568</th>\n",
        "      <td> \u0428\u0435\u0448\u043a\u0463\u0435\u0432\u044a</td>\n",
        "      <td> http://www.geonames.org/494120</td>\n",
        "      <td> NaN</td>\n",
        "      <td> \u041f\u0435\u043d\u0437\u0435\u043d\u0441\u043a\u043e\u0435 \u041d\u0430\u043c\u0463\u0441\u0442\u043d\u0438\u0447\u0435\u0441\u0442\u0432\u043e</td>\n",
        "    </tr>\n",
        "  </tbody>\n",
        "</table>\n",
        "</div>"
       ],
       "metadata": {},
       "output_type": "pyout",
       "prompt_number": 97,
       "text": [
        "        ru_old_orth                       geonameId partof_uezd_name  \\\n",
        "uniq_id                                                                \n",
        "568        \u0428\u0435\u0448\u043a\u0463\u0435\u0432\u044a  http://www.geonames.org/494120              NaN   \n",
        "\n",
        "                  partof_prov_name  \n",
        "uniq_id                             \n",
        "568      \u041f\u0435\u043d\u0437\u0435\u043d\u0441\u043a\u043e\u0435 \u041d\u0430\u043c\u0463\u0441\u0442\u043d\u0438\u0447\u0435\u0441\u0442\u0432\u043e  "
       ]
      }
     ],
     "prompt_number": 97
    },
    {
     "cell_type": "code",
     "collapsed": false,
     "input": [
      "uezd[uezd.partof_uezd_name.isnull()][[\"ru_old_orth\",\"uezd_adj\"]]"
     ],
     "language": "python",
     "metadata": {},
     "outputs": [
      {
       "html": [
        "<div style=\"max-height:1000px;max-width:1500px;overflow:auto;\">\n",
        "<table border=\"1\" class=\"dataframe\">\n",
        "  <thead>\n",
        "    <tr style=\"text-align: right;\">\n",
        "      <th></th>\n",
        "      <th>ru_old_orth</th>\n",
        "      <th>uezd_adj</th>\n",
        "    </tr>\n",
        "    <tr>\n",
        "      <th>uniq_id</th>\n",
        "      <th></th>\n",
        "      <th></th>\n",
        "    </tr>\n",
        "  </thead>\n",
        "  <tbody>\n",
        "    <tr>\n",
        "      <th>145</th>\n",
        "      <td>               \u0410\u0442\u043a\u0430\u0440\u0441\u043a\u044a</td>\n",
        "      <td>                  \u0410\u0442\u043a\u0430\u0440\u0441\u043a\u0438\u0439 \u0440\u0430\u0439\u043e\u043d</td>\n",
        "    </tr>\n",
        "    <tr>\n",
        "      <th>153</th>\n",
        "      <td>             \u0411\u043e\u0433\u043e\u0434\u0443\u0445\u043e\u0432\u044a</td>\n",
        "      <td>    \u0411\u043e\u0433\u043e\u0434\u0443\u0445\u043e\u0432\u0441\u043a\u0438\u0439 \u0433\u043e\u0440\u043e\u0434\u0441\u043a\u043e\u0439 \u0441\u043e\u0432\u0435\u0442</td>\n",
        "    </tr>\n",
        "    <tr>\n",
        "      <th>155</th>\n",
        "      <td>                 \u0411\u043e\u0440\u0437\u043d\u0430</td>\n",
        "      <td>                \u0411\u043e\u0440\u0437\u043d\u044f\u043d\u0441\u043a\u0438\u0439 \u0440\u0430\u0439\u043e\u043d</td>\n",
        "    </tr>\n",
        "    <tr>\n",
        "      <th>156</th>\n",
        "      <td>          \u0411\u043e\u0440\u0438\u0441\u043e\u0433\u043b\u0463\u0431\u0441\u043a\u044a</td>\n",
        "      <td>                   \u0411\u043e\u0440\u0438\u0441\u043e\u0433\u043b\u0435\u0431\u0441\u043a\u0438\u0439</td>\n",
        "    </tr>\n",
        "    <tr>\n",
        "      <th>160</th>\n",
        "      <td>               \u0411\u0440\u043e\u043d\u043d\u0438\u0446\u044b</td>\n",
        "      <td>                         \u0411\u0440\u043e\u043d\u043d\u0438\u0446\u044b</td>\n",
        "    </tr>\n",
        "    <tr>\n",
        "      <th>161</th>\n",
        "      <td>                \u0411\u0440\u044f\u043d\u0441\u043a\u044a</td>\n",
        "      <td>                           \u0411\u0440\u044f\u043d\u0441\u043a</td>\n",
        "    </tr>\n",
        "    <tr>\n",
        "      <th>166</th>\n",
        "      <td>              \u0411\u0463\u043b\u043e\u043f\u043e\u043b\u044c\u0435</td>\n",
        "      <td>                     \u0411\u0435\u043b\u043e\u043f\u043e\u043b\u044c\u0441\u043a\u0438\u0439</td>\n",
        "    </tr>\n",
        "    <tr>\n",
        "      <th>171</th>\n",
        "      <td>                 \u0412\u0435\u043b\u0438\u0436\u044a</td>\n",
        "      <td>                        \u0412\u0435\u043b\u0438\u0436\u0441\u043a\u0438\u0439</td>\n",
        "    </tr>\n",
        "    <tr>\n",
        "      <th>172</th>\n",
        "      <td>                \u0412\u0435\u043d\u0434\u0435\u043d\u044a</td>\n",
        "      <td>                              NaN</td>\n",
        "    </tr>\n",
        "    <tr>\n",
        "      <th>173</th>\n",
        "      <td>            \u0412\u0435\u0441\u0456\u0435\u0433\u043e\u043d\u0441\u043a\u044a</td>\n",
        "      <td>                     \u0412\u0435\u0441\u044c\u0435\u0433\u043e\u043d\u0441\u043a\u0438\u0439</td>\n",
        "    </tr>\n",
        "    <tr>\n",
        "      <th>174</th>\n",
        "      <td>                \u0412\u043e\u043b\u043c\u0430\u0440\u044a</td>\n",
        "      <td>                              NaN</td>\n",
        "    </tr>\n",
        "    <tr>\n",
        "      <th>181</th>\n",
        "      <td>                \u0412\u044f\u0437\u043d\u0438\u043a\u0438</td>\n",
        "      <td>                     \u0412\u044f\u0437\u043d\u0438\u043a\u043e\u0432\u0441\u043a\u0438\u0439</td>\n",
        "    </tr>\n",
        "    <tr>\n",
        "      <th>183</th>\n",
        "      <td>                  \u0413\u0434\u043e\u0432\u044a</td>\n",
        "      <td> \u0413\u0434\u043e\u0432\u0441\u043a\u0438\u0439 \u0440\u0430\u0439\u043e\u043d \u041f\u0441\u043a\u043e\u0432\u0441\u043a\u043e\u0439 \u043e\u0431\u043b\u0430\u0441\u0442\u0438</td>\n",
        "    </tr>\n",
        "    <tr>\n",
        "      <th>186</th>\n",
        "      <td>                 \u0413\u043e\u043b\u0442\u0432\u0430</td>\n",
        "      <td>                              NaN</td>\n",
        "    </tr>\n",
        "    <tr>\n",
        "      <th>187</th>\n",
        "      <td>              \u0413\u043e\u0440\u0431\u0430\u0442\u043e\u0432\u044a</td>\n",
        "      <td>                       \u041f\u0430\u0432\u043b\u043e\u0432\u0441\u043a\u0438\u0439</td>\n",
        "    </tr>\n",
        "    <tr>\n",
        "      <th>193</th>\n",
        "      <td>              \u0413\u0440\u044f\u0437\u043e\u0432\u0435\u0446\u044a</td>\n",
        "      <td>                      \u0413\u0440\u044f\u0437\u043e\u0432\u0435\u0446\u043a\u0438\u0439</td>\n",
        "    </tr>\n",
        "    <tr>\n",
        "      <th>202</th>\n",
        "      <td>                 \u0415\u043b\u0430\u0442\u043c\u0430</td>\n",
        "      <td>                              NaN</td>\n",
        "    </tr>\n",
        "    <tr>\n",
        "      <th>203</th>\n",
        "      <td>                   \u0415\u043b\u043d\u0430</td>\n",
        "      <td>                       \u0415\u043b\u044c\u043d\u0438\u043d\u0441\u043a\u0438\u0439</td>\n",
        "    </tr>\n",
        "    <tr>\n",
        "      <th>206</th>\n",
        "      <td>               \u0416\u0438\u0433\u0430\u043d\u0441\u043a\u044a</td>\n",
        "      <td>                   \u0416\u0438\u0433\u0430\u043d\u0441\u043a\u0438\u0439 \u0443\u043b\u0443\u0441</td>\n",
        "    </tr>\n",
        "    <tr>\n",
        "      <th>207</th>\n",
        "      <td>                 \u0416\u0438\u0437\u0434\u0440\u0430</td>\n",
        "      <td>                      \u0416\u0438\u0437\u0434\u0440\u0438\u043d\u0441\u043a\u0438\u0439</td>\n",
        "    </tr>\n",
        "    <tr>\n",
        "      <th>211</th>\n",
        "      <td>             \u0417\u0430\u0448\u0438\u0432\u0435\u0440\u0441\u043a\u044a</td>\n",
        "      <td>                              NaN</td>\n",
        "    </tr>\n",
        "    <tr>\n",
        "      <th>213</th>\n",
        "      <td>              \u0417\u0435\u043c\u043b\u044f\u043d\u0441\u043a\u044a</td>\n",
        "      <td>                              NaN</td>\n",
        "    </tr>\n",
        "    <tr>\n",
        "      <th>215</th>\n",
        "      <td>             \u0417\u043e\u043b\u043e\u0442\u043e\u043d\u043e\u0448\u0430</td>\n",
        "      <td>              \u0417\u043e\u043b\u043e\u0442\u043e\u043d\u043e\u0448\u0441\u043a\u0438\u0439 \u0440\u0430\u0439\u043e\u043d</td>\n",
        "    </tr>\n",
        "    <tr>\n",
        "      <th>229</th>\n",
        "      <td>                \u041a\u043e\u0432\u0440\u043e\u0432\u044a</td>\n",
        "      <td>                           \u041a\u043e\u0432\u0440\u043e\u0432</td>\n",
        "    </tr>\n",
        "    <tr>\n",
        "      <th>230</th>\n",
        "      <td>               \u041a\u043e\u0437\u0435\u043b\u0435\u0446\u044a</td>\n",
        "      <td>                 \u041a\u043e\u0437\u0435\u043b\u0435\u0446\u043a\u0438\u0439 \u0440\u0430\u0439\u043e\u043d</td>\n",
        "    </tr>\n",
        "    <tr>\n",
        "      <th>234</th>\n",
        "      <td>                \u041a\u043e\u0440\u0441\u0443\u043d\u044c</td>\n",
        "      <td>                              NaN</td>\n",
        "    </tr>\n",
        "    <tr>\n",
        "      <th>237</th>\n",
        "      <td>             \u041a\u043e\u0442\u0435\u043b\u044c\u043d\u0438\u0447\u044c</td>\n",
        "      <td>                  \u0433\u043e\u0440\u043e\u0434 \u041a\u043e\u0442\u0435\u043b\u044c\u043d\u0438\u0447</td>\n",
        "    </tr>\n",
        "    <tr>\n",
        "      <th>239</th>\n",
        "      <td>               \u041a\u0440\u0430\u043f\u0438\u0432\u043d\u0430</td>\n",
        "      <td>                        \u0429\u0451\u043a\u0438\u043d\u0441\u043a\u0438\u0439</td>\n",
        "    </tr>\n",
        "    <tr>\n",
        "      <th>241</th>\n",
        "      <td>           \u041a\u0440\u0430\u0441\u043d\u043e\u0431\u043e\u0440\u0441\u043a\u044a</td>\n",
        "      <td>                    \u041a\u0440\u0430\u0441\u043d\u043e\u0431\u043e\u0440\u0441\u043a\u0438\u0439</td>\n",
        "    </tr>\n",
        "    <tr>\n",
        "      <th>242</th>\n",
        "      <td>           \u041a\u0440\u0430\u0441\u043d\u043e\u043a\u0443\u0442\u0441\u043a\u044a</td>\n",
        "      <td>                              NaN</td>\n",
        "    </tr>\n",
        "    <tr>\n",
        "      <th>...</th>\n",
        "      <td>...</td>\n",
        "      <td>...</td>\n",
        "    </tr>\n",
        "    <tr>\n",
        "      <th>539</th>\n",
        "      <td>                 \u0412\u0430\u043b\u0434\u0430\u0439</td>\n",
        "      <td>                       \u0412\u0430\u043b\u0434\u0430\u0439\u0441\u043a\u0438\u0439</td>\n",
        "    </tr>\n",
        "    <tr>\n",
        "      <th>540</th>\n",
        "      <td>               \u0411\u0435\u0440\u0435\u0437\u0438\u043d\u044a</td>\n",
        "      <td>                              NaN</td>\n",
        "    </tr>\n",
        "    <tr>\n",
        "      <th>541</th>\n",
        "      <td>               \u0411\u0435\u0440\u0435\u0437\u043e\u0432\u044a</td>\n",
        "      <td>                              NaN</td>\n",
        "    </tr>\n",
        "    <tr>\n",
        "      <th>542</th>\n",
        "      <td>        \u0412\u044b\u0448\u043d\u0456\u0439 \u0412\u043e\u043b\u043e\u0447\u043e\u043a\u044a</td>\n",
        "      <td>                              NaN</td>\n",
        "    </tr>\n",
        "    <tr>\n",
        "      <th>543</th>\n",
        "      <td>                \u0413\u0430\u0431\u0437\u0430\u043b\u044c</td>\n",
        "      <td>                              NaN</td>\n",
        "    </tr>\n",
        "    <tr>\n",
        "      <th>544</th>\n",
        "      <td>                  \u0413\u0436\u0430\u0442\u044c</td>\n",
        "      <td>                      \u0413\u0430\u0433\u0430\u0440\u0438\u043d\u0441\u043a\u0438\u0439</td>\n",
        "    </tr>\n",
        "    <tr>\n",
        "      <th>545</th>\n",
        "      <td>        \u0415\u043b\u0438\u0441\u0430\u0432\u0435\u0442\u044a-\u0413\u0440\u0430\u0434\u044a</td>\n",
        "      <td>                              NaN</td>\n",
        "    </tr>\n",
        "    <tr>\n",
        "      <th>546</th>\n",
        "      <td>                \u0417\u0438\u043d\u043a\u043e\u0432\u044a</td>\n",
        "      <td>                      \u0417\u0435\u043d\u044c\u043a\u043e\u0432\u0441\u043a\u0438\u0439</td>\n",
        "    </tr>\n",
        "    <tr>\n",
        "      <th>547</th>\n",
        "      <td>               \u041a\u0438\u0440\u0438\u043b\u043e\u0432\u044a</td>\n",
        "      <td>                     \u041a\u0438\u0440\u0438\u043b\u043b\u043e\u0432\u0441\u043a\u0438\u0439</td>\n",
        "    </tr>\n",
        "    <tr>\n",
        "      <th>548</th>\n",
        "      <td>     \u041c\u0430\u043b\u043e\u0439 \u0410\u0440\u0445\u0430\u043d\u0433\u0435\u043b\u044c\u0441\u043a\u044a</td>\n",
        "      <td>                \u041c\u0430\u043b\u043e\u0430\u0440\u0445\u0430\u043d\u0433\u0435\u043b\u044c\u0441\u043a\u0438\u0439</td>\n",
        "    </tr>\n",
        "    <tr>\n",
        "      <th>549</th>\n",
        "      <td>       \u041c\u0430\u043b\u043e\u0439 \u042f\u0440\u043e\u0441\u043b\u0430\u0432\u0435\u0446\u044a</td>\n",
        "      <td>                 \u041c\u0430\u043b\u043e\u044f\u0440\u043e\u0441\u043b\u0430\u0432\u0435\u0446\u043a\u0438\u0439</td>\n",
        "    </tr>\n",
        "    <tr>\n",
        "      <th>550</th>\n",
        "      <td>               \u041c\u0430\u043d\u0433\u0430\u0437\u0435\u044f</td>\n",
        "      <td>                      \u0422\u0443\u0440\u0443\u0445\u0430\u043d\u0441\u043a\u0438\u0439</td>\n",
        "    </tr>\n",
        "    <tr>\n",
        "      <th>551</th>\n",
        "      <td>                 \u041c\u0433\u043b\u0438\u043d\u044a</td>\n",
        "      <td>                  \u041c\u0433\u043b\u0438\u043d\u0441\u043a\u0438\u0439 \u0440\u0430\u0439\u043e\u043d</td>\n",
        "    </tr>\n",
        "    <tr>\n",
        "      <th>552</th>\n",
        "      <td>               \u041d\u0435\u0439\u0448\u043b\u043e\u0442\u044a</td>\n",
        "      <td>                              NaN</td>\n",
        "    </tr>\n",
        "    <tr>\n",
        "      <th>553</th>\n",
        "      <td>    \u041f\u0435\u0440\u0435\u0441\u043b\u0430\u0432\u043b\u044c \u0417\u0430\u043b\u0463\u0441\u043a\u043e\u0439</td>\n",
        "      <td>             \u041f\u0435\u0440\u0435\u0441\u043b\u0430\u0432\u043b\u044c-\u0417\u0430\u043b\u0435\u0441\u0441\u043a\u0438\u0439</td>\n",
        "    </tr>\n",
        "    <tr>\n",
        "      <th>554</th>\n",
        "      <td>                \u041f\u0435\u0440\u043d\u043e\u0432\u044a</td>\n",
        "      <td>                              NaN</td>\n",
        "    </tr>\n",
        "    <tr>\n",
        "      <th>555</th>\n",
        "      <td>                 \u041f\u0443\u0434\u043e\u0433\u0430</td>\n",
        "      <td>                        \u041f\u0443\u0434\u043e\u0436\u0441\u043a\u0438\u0439</td>\n",
        "    </tr>\n",
        "    <tr>\n",
        "      <th>556</th>\n",
        "      <td>     \u0420\u0436\u0435\u0432\u044a \u0412\u043e\u043b\u043e\u0434\u0438\u043c\u0435\u0440\u043e\u0432\u044a</td>\n",
        "      <td>                             \u0420\u0436\u0435\u0432</td>\n",
        "    </tr>\n",
        "    <tr>\n",
        "      <th>557</th>\n",
        "      <td>                 \u0420\u0463\u0437\u044b\u0446\u044b</td>\n",
        "      <td>                              NaN</td>\n",
        "    </tr>\n",
        "    <tr>\n",
        "      <th>558</th>\n",
        "      <td>          \u0421\u043e\u043b\u044c-\u0413\u0430\u043b\u0438\u0446\u043a\u0430\u044f</td>\n",
        "      <td>                    \u0421\u043e\u043b\u0438\u0433\u0430\u043b\u0438\u0447\u0441\u043a\u0438\u0439</td>\n",
        "    </tr>\n",
        "    <tr>\n",
        "      <th>559</th>\n",
        "      <td>          \u0421\u0442\u0430\u0440\u043e\u0439 \u041e\u0441\u043a\u043e\u043b\u044a</td>\n",
        "      <td>                  \u0421\u0442\u0430\u0440\u043e\u043e\u0441\u043a\u043e\u043b\u044c\u0441\u043a\u0438\u0439</td>\n",
        "    </tr>\n",
        "    <tr>\n",
        "      <th>560</th>\n",
        "      <td> \u0423\u0441\u0442\u044e\u0436\u043d\u0430 \u0416\u0435\u043b\u0463\u0437\u043e\u043f\u043e\u043b\u044c\u0441\u043a\u0430\u044f</td>\n",
        "      <td>                      \u0423\u0441\u0442\u044e\u0436\u0435\u043d\u0441\u043a\u0438\u0439</td>\n",
        "    </tr>\n",
        "    <tr>\n",
        "      <th>561</th>\n",
        "      <td>           \u0424\u0440\u0438\u0434\u0440\u0438\u0445\u0441\u0433\u0430\u043c\u044a</td>\n",
        "      <td>                              NaN</td>\n",
        "    </tr>\n",
        "    <tr>\n",
        "      <th>562</th>\n",
        "      <td>               \u0425\u043e\u043f\u0435\u0440\u0441\u043a\u044a</td>\n",
        "      <td>                    \u041d\u043e\u0432\u043e\u0445\u043e\u043f\u0451\u0440\u0441\u043a\u0438\u0439</td>\n",
        "    </tr>\n",
        "    <tr>\n",
        "      <th>563</th>\n",
        "      <td>              \u0414\u0430\u043b\u043c\u0430\u0442\u043e\u0432\u044a</td>\n",
        "      <td>                     \u0414\u0430\u043b\u043c\u0430\u0442\u043e\u0432\u0441\u043a\u0438\u0439</td>\n",
        "    </tr>\n",
        "    <tr>\n",
        "      <th>564</th>\n",
        "      <td>             \u0425\u043e\u0442\u044c\u043c\u044b\u0448\u0441\u043a\u044a</td>\n",
        "      <td>                              NaN</td>\n",
        "    </tr>\n",
        "    <tr>\n",
        "      <th>565</th>\n",
        "      <td>                  \u0427\u0430\u0443\u0441\u044b</td>\n",
        "      <td>                         \u0427\u0430\u0443\u0441\u0441\u043a\u0438\u0439</td>\n",
        "    </tr>\n",
        "    <tr>\n",
        "      <th>566</th>\n",
        "      <td>                \u0427\u0435\u043d\u0431\u0430\u0440\u044a</td>\n",
        "      <td>                  \u0411\u0435\u043b\u0438\u043d\u0441\u043a\u0438\u0439 \u0440\u0430\u0439\u043e\u043d</td>\n",
        "    </tr>\n",
        "    <tr>\n",
        "      <th>567</th>\n",
        "      <td>                \u0427\u0435\u0440\u0434\u044b\u043d\u044c</td>\n",
        "      <td>                       \u0427\u0435\u0440\u0434\u044b\u043d\u0441\u043a\u0438\u0439</td>\n",
        "    </tr>\n",
        "    <tr>\n",
        "      <th>568</th>\n",
        "      <td>               \u0428\u0435\u0448\u043a\u0463\u0435\u0432\u044a</td>\n",
        "      <td>                              NaN</td>\n",
        "    </tr>\n",
        "  </tbody>\n",
        "</table>\n",
        "<p>148 rows \u00d7 2 columns</p>\n",
        "</div>"
       ],
       "metadata": {},
       "output_type": "pyout",
       "prompt_number": 42,
       "text": [
        "                    ru_old_orth                          uezd_adj\n",
        "uniq_id                                                          \n",
        "145                    \u0410\u0442\u043a\u0430\u0440\u0441\u043a\u044a                   \u0410\u0442\u043a\u0430\u0440\u0441\u043a\u0438\u0439 \u0440\u0430\u0439\u043e\u043d\n",
        "153                  \u0411\u043e\u0433\u043e\u0434\u0443\u0445\u043e\u0432\u044a     \u0411\u043e\u0433\u043e\u0434\u0443\u0445\u043e\u0432\u0441\u043a\u0438\u0439 \u0433\u043e\u0440\u043e\u0434\u0441\u043a\u043e\u0439 \u0441\u043e\u0432\u0435\u0442\n",
        "155                      \u0411\u043e\u0440\u0437\u043d\u0430                 \u0411\u043e\u0440\u0437\u043d\u044f\u043d\u0441\u043a\u0438\u0439 \u0440\u0430\u0439\u043e\u043d\n",
        "156               \u0411\u043e\u0440\u0438\u0441\u043e\u0433\u043b\u0463\u0431\u0441\u043a\u044a                    \u0411\u043e\u0440\u0438\u0441\u043e\u0433\u043b\u0435\u0431\u0441\u043a\u0438\u0439\n",
        "160                    \u0411\u0440\u043e\u043d\u043d\u0438\u0446\u044b                          \u0411\u0440\u043e\u043d\u043d\u0438\u0446\u044b\n",
        "161                     \u0411\u0440\u044f\u043d\u0441\u043a\u044a                            \u0411\u0440\u044f\u043d\u0441\u043a\n",
        "166                   \u0411\u0463\u043b\u043e\u043f\u043e\u043b\u044c\u0435                      \u0411\u0435\u043b\u043e\u043f\u043e\u043b\u044c\u0441\u043a\u0438\u0439\n",
        "171                      \u0412\u0435\u043b\u0438\u0436\u044a                         \u0412\u0435\u043b\u0438\u0436\u0441\u043a\u0438\u0439\n",
        "172                     \u0412\u0435\u043d\u0434\u0435\u043d\u044a                               NaN\n",
        "173                 \u0412\u0435\u0441\u0456\u0435\u0433\u043e\u043d\u0441\u043a\u044a                      \u0412\u0435\u0441\u044c\u0435\u0433\u043e\u043d\u0441\u043a\u0438\u0439\n",
        "174                     \u0412\u043e\u043b\u043c\u0430\u0440\u044a                               NaN\n",
        "181                     \u0412\u044f\u0437\u043d\u0438\u043a\u0438                      \u0412\u044f\u0437\u043d\u0438\u043a\u043e\u0432\u0441\u043a\u0438\u0439\n",
        "183                       \u0413\u0434\u043e\u0432\u044a  \u0413\u0434\u043e\u0432\u0441\u043a\u0438\u0439 \u0440\u0430\u0439\u043e\u043d \u041f\u0441\u043a\u043e\u0432\u0441\u043a\u043e\u0439 \u043e\u0431\u043b\u0430\u0441\u0442\u0438\n",
        "186                      \u0413\u043e\u043b\u0442\u0432\u0430                               NaN\n",
        "187                   \u0413\u043e\u0440\u0431\u0430\u0442\u043e\u0432\u044a                        \u041f\u0430\u0432\u043b\u043e\u0432\u0441\u043a\u0438\u0439\n",
        "193                   \u0413\u0440\u044f\u0437\u043e\u0432\u0435\u0446\u044a                       \u0413\u0440\u044f\u0437\u043e\u0432\u0435\u0446\u043a\u0438\u0439\n",
        "202                      \u0415\u043b\u0430\u0442\u043c\u0430                               NaN\n",
        "203                        \u0415\u043b\u043d\u0430                        \u0415\u043b\u044c\u043d\u0438\u043d\u0441\u043a\u0438\u0439\n",
        "206                    \u0416\u0438\u0433\u0430\u043d\u0441\u043a\u044a                    \u0416\u0438\u0433\u0430\u043d\u0441\u043a\u0438\u0439 \u0443\u043b\u0443\u0441\n",
        "207                      \u0416\u0438\u0437\u0434\u0440\u0430                       \u0416\u0438\u0437\u0434\u0440\u0438\u043d\u0441\u043a\u0438\u0439\n",
        "211                  \u0417\u0430\u0448\u0438\u0432\u0435\u0440\u0441\u043a\u044a                               NaN\n",
        "213                   \u0417\u0435\u043c\u043b\u044f\u043d\u0441\u043a\u044a                               NaN\n",
        "215                  \u0417\u043e\u043b\u043e\u0442\u043e\u043d\u043e\u0448\u0430               \u0417\u043e\u043b\u043e\u0442\u043e\u043d\u043e\u0448\u0441\u043a\u0438\u0439 \u0440\u0430\u0439\u043e\u043d\n",
        "229                     \u041a\u043e\u0432\u0440\u043e\u0432\u044a                            \u041a\u043e\u0432\u0440\u043e\u0432\n",
        "230                    \u041a\u043e\u0437\u0435\u043b\u0435\u0446\u044a                  \u041a\u043e\u0437\u0435\u043b\u0435\u0446\u043a\u0438\u0439 \u0440\u0430\u0439\u043e\u043d\n",
        "234                     \u041a\u043e\u0440\u0441\u0443\u043d\u044c                               NaN\n",
        "237                  \u041a\u043e\u0442\u0435\u043b\u044c\u043d\u0438\u0447\u044c                   \u0433\u043e\u0440\u043e\u0434 \u041a\u043e\u0442\u0435\u043b\u044c\u043d\u0438\u0447\n",
        "239                    \u041a\u0440\u0430\u043f\u0438\u0432\u043d\u0430                         \u0429\u0451\u043a\u0438\u043d\u0441\u043a\u0438\u0439\n",
        "241                \u041a\u0440\u0430\u0441\u043d\u043e\u0431\u043e\u0440\u0441\u043a\u044a                     \u041a\u0440\u0430\u0441\u043d\u043e\u0431\u043e\u0440\u0441\u043a\u0438\u0439\n",
        "242                \u041a\u0440\u0430\u0441\u043d\u043e\u043a\u0443\u0442\u0441\u043a\u044a                               NaN\n",
        "...                         ...                               ...\n",
        "539                      \u0412\u0430\u043b\u0434\u0430\u0439                        \u0412\u0430\u043b\u0434\u0430\u0439\u0441\u043a\u0438\u0439\n",
        "540                    \u0411\u0435\u0440\u0435\u0437\u0438\u043d\u044a                               NaN\n",
        "541                    \u0411\u0435\u0440\u0435\u0437\u043e\u0432\u044a                               NaN\n",
        "542             \u0412\u044b\u0448\u043d\u0456\u0439 \u0412\u043e\u043b\u043e\u0447\u043e\u043a\u044a                               NaN\n",
        "543                     \u0413\u0430\u0431\u0437\u0430\u043b\u044c                               NaN\n",
        "544                       \u0413\u0436\u0430\u0442\u044c                       \u0413\u0430\u0433\u0430\u0440\u0438\u043d\u0441\u043a\u0438\u0439\n",
        "545             \u0415\u043b\u0438\u0441\u0430\u0432\u0435\u0442\u044a-\u0413\u0440\u0430\u0434\u044a                               NaN\n",
        "546                     \u0417\u0438\u043d\u043a\u043e\u0432\u044a                       \u0417\u0435\u043d\u044c\u043a\u043e\u0432\u0441\u043a\u0438\u0439\n",
        "547                    \u041a\u0438\u0440\u0438\u043b\u043e\u0432\u044a                      \u041a\u0438\u0440\u0438\u043b\u043b\u043e\u0432\u0441\u043a\u0438\u0439\n",
        "548          \u041c\u0430\u043b\u043e\u0439 \u0410\u0440\u0445\u0430\u043d\u0433\u0435\u043b\u044c\u0441\u043a\u044a                 \u041c\u0430\u043b\u043e\u0430\u0440\u0445\u0430\u043d\u0433\u0435\u043b\u044c\u0441\u043a\u0438\u0439\n",
        "549            \u041c\u0430\u043b\u043e\u0439 \u042f\u0440\u043e\u0441\u043b\u0430\u0432\u0435\u0446\u044a                  \u041c\u0430\u043b\u043e\u044f\u0440\u043e\u0441\u043b\u0430\u0432\u0435\u0446\u043a\u0438\u0439\n",
        "550                    \u041c\u0430\u043d\u0433\u0430\u0437\u0435\u044f                       \u0422\u0443\u0440\u0443\u0445\u0430\u043d\u0441\u043a\u0438\u0439\n",
        "551                      \u041c\u0433\u043b\u0438\u043d\u044a                   \u041c\u0433\u043b\u0438\u043d\u0441\u043a\u0438\u0439 \u0440\u0430\u0439\u043e\u043d\n",
        "552                    \u041d\u0435\u0439\u0448\u043b\u043e\u0442\u044a                               NaN\n",
        "553         \u041f\u0435\u0440\u0435\u0441\u043b\u0430\u0432\u043b\u044c \u0417\u0430\u043b\u0463\u0441\u043a\u043e\u0439              \u041f\u0435\u0440\u0435\u0441\u043b\u0430\u0432\u043b\u044c-\u0417\u0430\u043b\u0435\u0441\u0441\u043a\u0438\u0439\n",
        "554                     \u041f\u0435\u0440\u043d\u043e\u0432\u044a                               NaN\n",
        "555                      \u041f\u0443\u0434\u043e\u0433\u0430                         \u041f\u0443\u0434\u043e\u0436\u0441\u043a\u0438\u0439\n",
        "556          \u0420\u0436\u0435\u0432\u044a \u0412\u043e\u043b\u043e\u0434\u0438\u043c\u0435\u0440\u043e\u0432\u044a                              \u0420\u0436\u0435\u0432\n",
        "557                      \u0420\u0463\u0437\u044b\u0446\u044b                               NaN\n",
        "558               \u0421\u043e\u043b\u044c-\u0413\u0430\u043b\u0438\u0446\u043a\u0430\u044f                     \u0421\u043e\u043b\u0438\u0433\u0430\u043b\u0438\u0447\u0441\u043a\u0438\u0439\n",
        "559               \u0421\u0442\u0430\u0440\u043e\u0439 \u041e\u0441\u043a\u043e\u043b\u044a                   \u0421\u0442\u0430\u0440\u043e\u043e\u0441\u043a\u043e\u043b\u044c\u0441\u043a\u0438\u0439\n",
        "560      \u0423\u0441\u0442\u044e\u0436\u043d\u0430 \u0416\u0435\u043b\u0463\u0437\u043e\u043f\u043e\u043b\u044c\u0441\u043a\u0430\u044f                       \u0423\u0441\u0442\u044e\u0436\u0435\u043d\u0441\u043a\u0438\u0439\n",
        "561                \u0424\u0440\u0438\u0434\u0440\u0438\u0445\u0441\u0433\u0430\u043c\u044a                               NaN\n",
        "562                    \u0425\u043e\u043f\u0435\u0440\u0441\u043a\u044a                     \u041d\u043e\u0432\u043e\u0445\u043e\u043f\u0451\u0440\u0441\u043a\u0438\u0439\n",
        "563                   \u0414\u0430\u043b\u043c\u0430\u0442\u043e\u0432\u044a                      \u0414\u0430\u043b\u043c\u0430\u0442\u043e\u0432\u0441\u043a\u0438\u0439\n",
        "564                  \u0425\u043e\u0442\u044c\u043c\u044b\u0448\u0441\u043a\u044a                               NaN\n",
        "565                       \u0427\u0430\u0443\u0441\u044b                          \u0427\u0430\u0443\u0441\u0441\u043a\u0438\u0439\n",
        "566                     \u0427\u0435\u043d\u0431\u0430\u0440\u044a                   \u0411\u0435\u043b\u0438\u043d\u0441\u043a\u0438\u0439 \u0440\u0430\u0439\u043e\u043d\n",
        "567                     \u0427\u0435\u0440\u0434\u044b\u043d\u044c                        \u0427\u0435\u0440\u0434\u044b\u043d\u0441\u043a\u0438\u0439\n",
        "568                    \u0428\u0435\u0448\u043a\u0463\u0435\u0432\u044a                               NaN\n",
        "\n",
        "[148 rows x 2 columns]"
       ]
      }
     ],
     "prompt_number": 42
    },
    {
     "cell_type": "code",
     "collapsed": false,
     "input": [
      "uezd[\"adj_only\"] = uezd[uezd.uezd_adj.isnull()==False].uezd_adj.apply(lambda x: re.findall(r\"([\u0430-\u044f\u0410-\u042f]+\u0441\u043a\u0438\u0439)\",x)[0] if len(re.findall(r\"([\u0430-\u044f\u0410-\u042f]+\u0441\u043a\u0438\u0439)\",x))!=0 else None)"
     ],
     "language": "python",
     "metadata": {},
     "outputs": [],
     "prompt_number": 55
    },
    {
     "cell_type": "code",
     "collapsed": false,
     "input": [
      "import numpy as np"
     ],
     "language": "python",
     "metadata": {},
     "outputs": [],
     "prompt_number": 52
    },
    {
     "cell_type": "code",
     "collapsed": false,
     "input": [
      "uezd.adj_only = uezd.adj_only + \" \u0443\u0435\u0437\u0434\""
     ],
     "language": "python",
     "metadata": {},
     "outputs": [],
     "prompt_number": 61
    },
    {
     "cell_type": "code",
     "collapsed": false,
     "input": [
      "uezd.to_csv(\"uezd.csv\",encoding=\"utf-8\")\n",
      "uezd = pd.DataFrame.from_csv(\"uezd.csv\")"
     ],
     "language": "python",
     "metadata": {},
     "outputs": [],
     "prompt_number": 58
    },
    {
     "cell_type": "code",
     "collapsed": false,
     "input": [
      "uezd[[\"ru_old_orth\",\"uezd_adj\",\"adj_only\"]]"
     ],
     "language": "python",
     "metadata": {},
     "outputs": [
      {
       "html": [
        "<div style=\"max-height:1000px;max-width:1500px;overflow:auto;\">\n",
        "<table border=\"1\" class=\"dataframe\">\n",
        "  <thead>\n",
        "    <tr style=\"text-align: right;\">\n",
        "      <th></th>\n",
        "      <th>ru_old_orth</th>\n",
        "      <th>uezd_adj</th>\n",
        "      <th>adj_only</th>\n",
        "    </tr>\n",
        "    <tr>\n",
        "      <th>uniq_id</th>\n",
        "      <th></th>\n",
        "      <th></th>\n",
        "      <th></th>\n",
        "    </tr>\n",
        "  </thead>\n",
        "  <tbody>\n",
        "    <tr>\n",
        "      <th>1  </th>\n",
        "      <td>            Moskovskii uezd</td>\n",
        "      <td>                  NaN</td>\n",
        "      <td>                       NaN</td>\n",
        "    </tr>\n",
        "    <tr>\n",
        "      <th>2  </th>\n",
        "      <td>        Arkhangel'skii uezd</td>\n",
        "      <td>                  NaN</td>\n",
        "      <td>                       NaN</td>\n",
        "    </tr>\n",
        "    <tr>\n",
        "      <th>3  </th>\n",
        "      <td>          Vladimerskii uezd</td>\n",
        "      <td>                  NaN</td>\n",
        "      <td>                       NaN</td>\n",
        "    </tr>\n",
        "    <tr>\n",
        "      <th>4  </th>\n",
        "      <td>           Vologodskii uezd</td>\n",
        "      <td>                  NaN</td>\n",
        "      <td>                       NaN</td>\n",
        "    </tr>\n",
        "    <tr>\n",
        "      <th>5  </th>\n",
        "      <td>          Voronezhskii uezd</td>\n",
        "      <td>                  NaN</td>\n",
        "      <td>                       NaN</td>\n",
        "    </tr>\n",
        "    <tr>\n",
        "      <th>6  </th>\n",
        "      <td>            Vyborgskii uezd</td>\n",
        "      <td>                  NaN</td>\n",
        "      <td>                       NaN</td>\n",
        "    </tr>\n",
        "    <tr>\n",
        "      <th>7  </th>\n",
        "      <td>              Viatskii uezd</td>\n",
        "      <td>                  NaN</td>\n",
        "      <td>                       NaN</td>\n",
        "    </tr>\n",
        "    <tr>\n",
        "      <th>8  </th>\n",
        "      <td>     Ekaterinoslavskii uezd</td>\n",
        "      <td>                  NaN</td>\n",
        "      <td>                       NaN</td>\n",
        "    </tr>\n",
        "    <tr>\n",
        "      <th>9  </th>\n",
        "      <td>             Irkutskii uezd</td>\n",
        "      <td>                  NaN</td>\n",
        "      <td>                       NaN</td>\n",
        "    </tr>\n",
        "    <tr>\n",
        "      <th>10 </th>\n",
        "      <td>            Kavkazskii uezd</td>\n",
        "      <td>                  NaN</td>\n",
        "      <td>                       NaN</td>\n",
        "    </tr>\n",
        "    <tr>\n",
        "      <th>11 </th>\n",
        "      <td>             Kazanskii uezd</td>\n",
        "      <td>                  NaN</td>\n",
        "      <td>                       NaN</td>\n",
        "    </tr>\n",
        "    <tr>\n",
        "      <th>12 </th>\n",
        "      <td>            Kaluzhskii uezd</td>\n",
        "      <td>                  NaN</td>\n",
        "      <td>                       NaN</td>\n",
        "    </tr>\n",
        "    <tr>\n",
        "      <th>13 </th>\n",
        "      <td>              K\u0456evskii uezd</td>\n",
        "      <td>                  NaN</td>\n",
        "      <td>                       NaN</td>\n",
        "    </tr>\n",
        "    <tr>\n",
        "      <th>14 </th>\n",
        "      <td>           Kostromskii uezd</td>\n",
        "      <td>                  NaN</td>\n",
        "      <td>                       NaN</td>\n",
        "    </tr>\n",
        "    <tr>\n",
        "      <th>15 </th>\n",
        "      <td>               Kurskii uezd</td>\n",
        "      <td>                  NaN</td>\n",
        "      <td>                       NaN</td>\n",
        "    </tr>\n",
        "    <tr>\n",
        "      <th>16 </th>\n",
        "      <td>           Mogilevskii uezd</td>\n",
        "      <td>                  NaN</td>\n",
        "      <td>                       NaN</td>\n",
        "    </tr>\n",
        "    <tr>\n",
        "      <th>17 </th>\n",
        "      <td>        Nizhegorodskii uezd</td>\n",
        "      <td>                  NaN</td>\n",
        "      <td>                       NaN</td>\n",
        "    </tr>\n",
        "    <tr>\n",
        "      <th>18 </th>\n",
        "      <td>         Novogorodskii uezd</td>\n",
        "      <td>                  NaN</td>\n",
        "      <td>                       NaN</td>\n",
        "    </tr>\n",
        "    <tr>\n",
        "      <th>19 </th>\n",
        "      <td> Novogorod - Severskii uezd</td>\n",
        "      <td>                  NaN</td>\n",
        "      <td>                       NaN</td>\n",
        "    </tr>\n",
        "    <tr>\n",
        "      <th>20 </th>\n",
        "      <td>            Olonetskii uezd</td>\n",
        "      <td>                  NaN</td>\n",
        "      <td>                       NaN</td>\n",
        "    </tr>\n",
        "    <tr>\n",
        "      <th>21 </th>\n",
        "      <td>             Orlovskii uezd</td>\n",
        "      <td>                  NaN</td>\n",
        "      <td>                       NaN</td>\n",
        "    </tr>\n",
        "    <tr>\n",
        "      <th>22 </th>\n",
        "      <td>            Penzenskii uezd</td>\n",
        "      <td>                  NaN</td>\n",
        "      <td>                       NaN</td>\n",
        "    </tr>\n",
        "    <tr>\n",
        "      <th>23 </th>\n",
        "      <td>              Permskii uezd</td>\n",
        "      <td>                  NaN</td>\n",
        "      <td>                       NaN</td>\n",
        "    </tr>\n",
        "    <tr>\n",
        "      <th>24 </th>\n",
        "      <td>             Polotskii uezd</td>\n",
        "      <td>                  NaN</td>\n",
        "      <td>                       NaN</td>\n",
        "    </tr>\n",
        "    <tr>\n",
        "      <th>25 </th>\n",
        "      <td>             Pskovskii uezd</td>\n",
        "      <td>                  NaN</td>\n",
        "      <td>                       NaN</td>\n",
        "    </tr>\n",
        "    <tr>\n",
        "      <th>26 </th>\n",
        "      <td>            Revel'skii uezd</td>\n",
        "      <td>                  NaN</td>\n",
        "      <td>                       NaN</td>\n",
        "    </tr>\n",
        "    <tr>\n",
        "      <th>27 </th>\n",
        "      <td>              Rizhskii uezd</td>\n",
        "      <td>                  NaN</td>\n",
        "      <td>                       NaN</td>\n",
        "    </tr>\n",
        "    <tr>\n",
        "      <th>28 </th>\n",
        "      <td>            Riazanskii uezd</td>\n",
        "      <td>                  NaN</td>\n",
        "      <td>                       NaN</td>\n",
        "    </tr>\n",
        "    <tr>\n",
        "      <th>29 </th>\n",
        "      <td>           Saratovskii uezd</td>\n",
        "      <td>                  NaN</td>\n",
        "      <td>                       NaN</td>\n",
        "    </tr>\n",
        "    <tr>\n",
        "      <th>30 </th>\n",
        "      <td>            Sinbirskii uezd</td>\n",
        "      <td>                  NaN</td>\n",
        "      <td>                       NaN</td>\n",
        "    </tr>\n",
        "    <tr>\n",
        "      <th>...</th>\n",
        "      <td>...</td>\n",
        "      <td>...</td>\n",
        "      <td>...</td>\n",
        "    </tr>\n",
        "    <tr>\n",
        "      <th>539</th>\n",
        "      <td>            Valdaiskii uezd</td>\n",
        "      <td>           \u0412\u0430\u043b\u0434\u0430\u0439\u0441\u043a\u0438\u0439</td>\n",
        "      <td>           \u0412\u0430\u043b\u0434\u0430\u0439\u0441\u043a\u0438\u0439 \u0443\u0435\u0437\u0434</td>\n",
        "    </tr>\n",
        "    <tr>\n",
        "      <th>540</th>\n",
        "      <td>           Berezinskii uezd</td>\n",
        "      <td>                  NaN</td>\n",
        "      <td>                       NaN</td>\n",
        "    </tr>\n",
        "    <tr>\n",
        "      <th>541</th>\n",
        "      <td>           Berezovskii uezd</td>\n",
        "      <td>                  NaN</td>\n",
        "      <td>                       NaN</td>\n",
        "    </tr>\n",
        "    <tr>\n",
        "      <th>542</th>\n",
        "      <td>       Vyshnevolotskii uezd</td>\n",
        "      <td>                  NaN</td>\n",
        "      <td>                       NaN</td>\n",
        "    </tr>\n",
        "    <tr>\n",
        "      <th>543</th>\n",
        "      <td>           Gabzal'skii uezd</td>\n",
        "      <td>                  NaN</td>\n",
        "      <td>                       NaN</td>\n",
        "    </tr>\n",
        "    <tr>\n",
        "      <th>544</th>\n",
        "      <td>           Gagarinskii uezd</td>\n",
        "      <td>          \u0413\u0430\u0433\u0430\u0440\u0438\u043d\u0441\u043a\u0438\u0439</td>\n",
        "      <td>          \u0413\u0430\u0433\u0430\u0440\u0438\u043d\u0441\u043a\u0438\u0439 \u0443\u0435\u0437\u0434</td>\n",
        "    </tr>\n",
        "    <tr>\n",
        "      <th>545</th>\n",
        "      <td>      Elisavetgradskii uezd</td>\n",
        "      <td>                  NaN</td>\n",
        "      <td>                       NaN</td>\n",
        "    </tr>\n",
        "    <tr>\n",
        "      <th>546</th>\n",
        "      <td>           Zen'kovskii uezd</td>\n",
        "      <td>          \u0417\u0435\u043d\u044c\u043a\u043e\u0432\u0441\u043a\u0438\u0439</td>\n",
        "      <td>          \u0417\u0435\u043d\u044c\u043a\u043e\u0432\u0441\u043a\u0438\u0439 \u0443\u0435\u0437\u0434</td>\n",
        "    </tr>\n",
        "    <tr>\n",
        "      <th>547</th>\n",
        "      <td>          Kirillovskii uezd</td>\n",
        "      <td>         \u041a\u0438\u0440\u0438\u043b\u043b\u043e\u0432\u0441\u043a\u0438\u0439</td>\n",
        "      <td>         \u041a\u0438\u0440\u0438\u043b\u043b\u043e\u0432\u0441\u043a\u0438\u0439 \u0443\u0435\u0437\u0434</td>\n",
        "    </tr>\n",
        "    <tr>\n",
        "      <th>548</th>\n",
        "      <td>    Maloarkhangel'skii uezd</td>\n",
        "      <td>    \u041c\u0430\u043b\u043e\u0430\u0440\u0445\u0430\u043d\u0433\u0435\u043b\u044c\u0441\u043a\u0438\u0439</td>\n",
        "      <td>    \u041c\u0430\u043b\u043e\u0430\u0440\u0445\u0430\u043d\u0433\u0435\u043b\u044c\u0441\u043a\u0438\u0439 \u0443\u0435\u0437\u0434</td>\n",
        "    </tr>\n",
        "    <tr>\n",
        "      <th>549</th>\n",
        "      <td>    Maloiaroslavetskii uezd</td>\n",
        "      <td>     \u041c\u0430\u043b\u043e\u044f\u0440\u043e\u0441\u043b\u0430\u0432\u0435\u0446\u043a\u0438\u0439</td>\n",
        "      <td>                       NaN</td>\n",
        "    </tr>\n",
        "    <tr>\n",
        "      <th>550</th>\n",
        "      <td>          Turukhanskii uezd</td>\n",
        "      <td>          \u0422\u0443\u0440\u0443\u0445\u0430\u043d\u0441\u043a\u0438\u0439</td>\n",
        "      <td>          \u0422\u0443\u0440\u0443\u0445\u0430\u043d\u0441\u043a\u0438\u0439 \u0443\u0435\u0437\u0434</td>\n",
        "    </tr>\n",
        "    <tr>\n",
        "      <th>551</th>\n",
        "      <td>             Mglinskii uezd</td>\n",
        "      <td>      \u041c\u0433\u043b\u0438\u043d\u0441\u043a\u0438\u0439 \u0440\u0430\u0439\u043e\u043d</td>\n",
        "      <td>            \u041c\u0433\u043b\u0438\u043d\u0441\u043a\u0438\u0439 \u0443\u0435\u0437\u0434</td>\n",
        "    </tr>\n",
        "    <tr>\n",
        "      <th>552</th>\n",
        "      <td>          Neishlotskii uezd</td>\n",
        "      <td>                  NaN</td>\n",
        "      <td>                       NaN</td>\n",
        "    </tr>\n",
        "    <tr>\n",
        "      <th>553</th>\n",
        "      <td>  Pereslavl'-Zalesskii uezd</td>\n",
        "      <td> \u041f\u0435\u0440\u0435\u0441\u043b\u0430\u0432\u043b\u044c-\u0417\u0430\u043b\u0435\u0441\u0441\u043a\u0438\u0439</td>\n",
        "      <td> \u041f\u0435\u0440\u0435\u0441\u043b\u0430\u0432\u043b\u044c-\u0417\u0430\u043b\u0435\u0441\u0441\u043a\u0438\u0439 \u0443\u0435\u0437\u0434</td>\n",
        "    </tr>\n",
        "    <tr>\n",
        "      <th>554</th>\n",
        "      <td>            Pernovskii uezd</td>\n",
        "      <td>                  NaN</td>\n",
        "      <td>                       NaN</td>\n",
        "    </tr>\n",
        "    <tr>\n",
        "      <th>555</th>\n",
        "      <td>            Pudozhskii uezd</td>\n",
        "      <td>            \u041f\u0443\u0434\u043e\u0436\u0441\u043a\u0438\u0439</td>\n",
        "      <td>            \u041f\u0443\u0434\u043e\u0436\u0441\u043a\u0438\u0439 \u0443\u0435\u0437\u0434</td>\n",
        "    </tr>\n",
        "    <tr>\n",
        "      <th>556</th>\n",
        "      <td>             Rzhevskii uezd</td>\n",
        "      <td>                 \u0420\u0436\u0435\u0432</td>\n",
        "      <td>                       NaN</td>\n",
        "    </tr>\n",
        "    <tr>\n",
        "      <th>557</th>\n",
        "      <td>            Rezhitskii uezd</td>\n",
        "      <td>                  NaN</td>\n",
        "      <td>                       NaN</td>\n",
        "    </tr>\n",
        "    <tr>\n",
        "      <th>558</th>\n",
        "      <td>        Soligalichskii uezd</td>\n",
        "      <td>        \u0421\u043e\u043b\u0438\u0433\u0430\u043b\u0438\u0447\u0441\u043a\u0438\u0439</td>\n",
        "      <td>        \u0421\u043e\u043b\u0438\u0433\u0430\u043b\u0438\u0447\u0441\u043a\u0438\u0439 \u0443\u0435\u0437\u0434</td>\n",
        "    </tr>\n",
        "    <tr>\n",
        "      <th>559</th>\n",
        "      <td>       Starooskol'skii uezd</td>\n",
        "      <td>      \u0421\u0442\u0430\u0440\u043e\u043e\u0441\u043a\u043e\u043b\u044c\u0441\u043a\u0438\u0439</td>\n",
        "      <td>      \u0421\u0442\u0430\u0440\u043e\u043e\u0441\u043a\u043e\u043b\u044c\u0441\u043a\u0438\u0439 \u0443\u0435\u0437\u0434</td>\n",
        "    </tr>\n",
        "    <tr>\n",
        "      <th>560</th>\n",
        "      <td>         Ustiuzhenskii uezd</td>\n",
        "      <td>          \u0423\u0441\u0442\u044e\u0436\u0435\u043d\u0441\u043a\u0438\u0439</td>\n",
        "      <td>          \u0423\u0441\u0442\u044e\u0436\u0435\u043d\u0441\u043a\u0438\u0439 \u0443\u0435\u0437\u0434</td>\n",
        "    </tr>\n",
        "    <tr>\n",
        "      <th>561</th>\n",
        "      <td>      Fridrikhsgamskii uezd</td>\n",
        "      <td>                  NaN</td>\n",
        "      <td>                       NaN</td>\n",
        "    </tr>\n",
        "    <tr>\n",
        "      <th>562</th>\n",
        "      <td>        Novokhop\u0451rskii uezd</td>\n",
        "      <td>        \u041d\u043e\u0432\u043e\u0445\u043e\u043f\u0451\u0440\u0441\u043a\u0438\u0439</td>\n",
        "      <td>        \u041d\u043e\u0432\u043e\u0445\u043e\u043f\u0451\u0440\u0441\u043a\u0438\u0439 \u0443\u0435\u0437\u0434</td>\n",
        "    </tr>\n",
        "    <tr>\n",
        "      <th>563</th>\n",
        "      <td>          Dalmatovskii uezd</td>\n",
        "      <td>         \u0414\u0430\u043b\u043c\u0430\u0442\u043e\u0432\u0441\u043a\u0438\u0439</td>\n",
        "      <td>         \u0414\u0430\u043b\u043c\u0430\u0442\u043e\u0432\u0441\u043a\u0438\u0439 \u0443\u0435\u0437\u0434</td>\n",
        "    </tr>\n",
        "    <tr>\n",
        "      <th>564</th>\n",
        "      <td>         Khot'myshskii uezd</td>\n",
        "      <td>                  NaN</td>\n",
        "      <td>                       NaN</td>\n",
        "    </tr>\n",
        "    <tr>\n",
        "      <th>565</th>\n",
        "      <td>             Chausskii uezd</td>\n",
        "      <td>             \u0427\u0430\u0443\u0441\u0441\u043a\u0438\u0439</td>\n",
        "      <td>             \u0427\u0430\u0443\u0441\u0441\u043a\u0438\u0439 \u0443\u0435\u0437\u0434</td>\n",
        "    </tr>\n",
        "    <tr>\n",
        "      <th>566</th>\n",
        "      <td>           Chembarskii uezd</td>\n",
        "      <td>      \u0411\u0435\u043b\u0438\u043d\u0441\u043a\u0438\u0439 \u0440\u0430\u0439\u043e\u043d</td>\n",
        "      <td>            \u0411\u0435\u043b\u0438\u043d\u0441\u043a\u0438\u0439 \u0443\u0435\u0437\u0434</td>\n",
        "    </tr>\n",
        "    <tr>\n",
        "      <th>567</th>\n",
        "      <td>           Cherdynskii uezd</td>\n",
        "      <td>           \u0427\u0435\u0440\u0434\u044b\u043d\u0441\u043a\u0438\u0439</td>\n",
        "      <td>           \u0427\u0435\u0440\u0434\u044b\u043d\u0441\u043a\u0438\u0439 \u0443\u0435\u0437\u0434</td>\n",
        "    </tr>\n",
        "    <tr>\n",
        "      <th>568</th>\n",
        "      <td>         Shishkeevskii uezd</td>\n",
        "      <td>                  NaN</td>\n",
        "      <td>                       NaN</td>\n",
        "    </tr>\n",
        "  </tbody>\n",
        "</table>\n",
        "<p>296 rows \u00d7 3 columns</p>\n",
        "</div>"
       ],
       "metadata": {},
       "output_type": "pyout",
       "prompt_number": 113,
       "text": [
        "                        ru_old_orth              uezd_adj  \\\n",
        "uniq_id                                                     \n",
        "1                   Moskovskii uezd                   NaN   \n",
        "2               Arkhangel'skii uezd                   NaN   \n",
        "3                 Vladimerskii uezd                   NaN   \n",
        "4                  Vologodskii uezd                   NaN   \n",
        "5                 Voronezhskii uezd                   NaN   \n",
        "6                   Vyborgskii uezd                   NaN   \n",
        "7                     Viatskii uezd                   NaN   \n",
        "8            Ekaterinoslavskii uezd                   NaN   \n",
        "9                    Irkutskii uezd                   NaN   \n",
        "10                  Kavkazskii uezd                   NaN   \n",
        "11                   Kazanskii uezd                   NaN   \n",
        "12                  Kaluzhskii uezd                   NaN   \n",
        "13                    K\u0456evskii uezd                   NaN   \n",
        "14                 Kostromskii uezd                   NaN   \n",
        "15                     Kurskii uezd                   NaN   \n",
        "16                 Mogilevskii uezd                   NaN   \n",
        "17              Nizhegorodskii uezd                   NaN   \n",
        "18               Novogorodskii uezd                   NaN   \n",
        "19       Novogorod - Severskii uezd                   NaN   \n",
        "20                  Olonetskii uezd                   NaN   \n",
        "21                   Orlovskii uezd                   NaN   \n",
        "22                  Penzenskii uezd                   NaN   \n",
        "23                    Permskii uezd                   NaN   \n",
        "24                   Polotskii uezd                   NaN   \n",
        "25                   Pskovskii uezd                   NaN   \n",
        "26                  Revel'skii uezd                   NaN   \n",
        "27                    Rizhskii uezd                   NaN   \n",
        "28                  Riazanskii uezd                   NaN   \n",
        "29                 Saratovskii uezd                   NaN   \n",
        "30                  Sinbirskii uezd                   NaN   \n",
        "...                             ...                   ...   \n",
        "539                 Valdaiskii uezd            \u0412\u0430\u043b\u0434\u0430\u0439\u0441\u043a\u0438\u0439   \n",
        "540                Berezinskii uezd                   NaN   \n",
        "541                Berezovskii uezd                   NaN   \n",
        "542            Vyshnevolotskii uezd                   NaN   \n",
        "543                Gabzal'skii uezd                   NaN   \n",
        "544                Gagarinskii uezd           \u0413\u0430\u0433\u0430\u0440\u0438\u043d\u0441\u043a\u0438\u0439   \n",
        "545           Elisavetgradskii uezd                   NaN   \n",
        "546                Zen'kovskii uezd           \u0417\u0435\u043d\u044c\u043a\u043e\u0432\u0441\u043a\u0438\u0439   \n",
        "547               Kirillovskii uezd          \u041a\u0438\u0440\u0438\u043b\u043b\u043e\u0432\u0441\u043a\u0438\u0439   \n",
        "548         Maloarkhangel'skii uezd     \u041c\u0430\u043b\u043e\u0430\u0440\u0445\u0430\u043d\u0433\u0435\u043b\u044c\u0441\u043a\u0438\u0439   \n",
        "549         Maloiaroslavetskii uezd      \u041c\u0430\u043b\u043e\u044f\u0440\u043e\u0441\u043b\u0430\u0432\u0435\u0446\u043a\u0438\u0439   \n",
        "550               Turukhanskii uezd           \u0422\u0443\u0440\u0443\u0445\u0430\u043d\u0441\u043a\u0438\u0439   \n",
        "551                  Mglinskii uezd       \u041c\u0433\u043b\u0438\u043d\u0441\u043a\u0438\u0439 \u0440\u0430\u0439\u043e\u043d   \n",
        "552               Neishlotskii uezd                   NaN   \n",
        "553       Pereslavl'-Zalesskii uezd  \u041f\u0435\u0440\u0435\u0441\u043b\u0430\u0432\u043b\u044c-\u0417\u0430\u043b\u0435\u0441\u0441\u043a\u0438\u0439   \n",
        "554                 Pernovskii uezd                   NaN   \n",
        "555                 Pudozhskii uezd             \u041f\u0443\u0434\u043e\u0436\u0441\u043a\u0438\u0439   \n",
        "556                  Rzhevskii uezd                  \u0420\u0436\u0435\u0432   \n",
        "557                 Rezhitskii uezd                   NaN   \n",
        "558             Soligalichskii uezd         \u0421\u043e\u043b\u0438\u0433\u0430\u043b\u0438\u0447\u0441\u043a\u0438\u0439   \n",
        "559            Starooskol'skii uezd       \u0421\u0442\u0430\u0440\u043e\u043e\u0441\u043a\u043e\u043b\u044c\u0441\u043a\u0438\u0439   \n",
        "560              Ustiuzhenskii uezd           \u0423\u0441\u0442\u044e\u0436\u0435\u043d\u0441\u043a\u0438\u0439   \n",
        "561           Fridrikhsgamskii uezd                   NaN   \n",
        "562             Novokhop\u0451rskii uezd         \u041d\u043e\u0432\u043e\u0445\u043e\u043f\u0451\u0440\u0441\u043a\u0438\u0439   \n",
        "563               Dalmatovskii uezd          \u0414\u0430\u043b\u043c\u0430\u0442\u043e\u0432\u0441\u043a\u0438\u0439   \n",
        "564              Khot'myshskii uezd                   NaN   \n",
        "565                  Chausskii uezd              \u0427\u0430\u0443\u0441\u0441\u043a\u0438\u0439   \n",
        "566                Chembarskii uezd       \u0411\u0435\u043b\u0438\u043d\u0441\u043a\u0438\u0439 \u0440\u0430\u0439\u043e\u043d   \n",
        "567                Cherdynskii uezd            \u0427\u0435\u0440\u0434\u044b\u043d\u0441\u043a\u0438\u0439   \n",
        "568              Shishkeevskii uezd                   NaN   \n",
        "\n",
        "                          adj_only  \n",
        "uniq_id                             \n",
        "1                              NaN  \n",
        "2                              NaN  \n",
        "3                              NaN  \n",
        "4                              NaN  \n",
        "5                              NaN  \n",
        "6                              NaN  \n",
        "7                              NaN  \n",
        "8                              NaN  \n",
        "9                              NaN  \n",
        "10                             NaN  \n",
        "11                             NaN  \n",
        "12                             NaN  \n",
        "13                             NaN  \n",
        "14                             NaN  \n",
        "15                             NaN  \n",
        "16                             NaN  \n",
        "17                             NaN  \n",
        "18                             NaN  \n",
        "19                             NaN  \n",
        "20                             NaN  \n",
        "21                             NaN  \n",
        "22                             NaN  \n",
        "23                             NaN  \n",
        "24                             NaN  \n",
        "25                             NaN  \n",
        "26                             NaN  \n",
        "27                             NaN  \n",
        "28                             NaN  \n",
        "29                             NaN  \n",
        "30                             NaN  \n",
        "...                            ...  \n",
        "539                \u0412\u0430\u043b\u0434\u0430\u0439\u0441\u043a\u0438\u0439 \u0443\u0435\u0437\u0434  \n",
        "540                            NaN  \n",
        "541                            NaN  \n",
        "542                            NaN  \n",
        "543                            NaN  \n",
        "544               \u0413\u0430\u0433\u0430\u0440\u0438\u043d\u0441\u043a\u0438\u0439 \u0443\u0435\u0437\u0434  \n",
        "545                            NaN  \n",
        "546               \u0417\u0435\u043d\u044c\u043a\u043e\u0432\u0441\u043a\u0438\u0439 \u0443\u0435\u0437\u0434  \n",
        "547              \u041a\u0438\u0440\u0438\u043b\u043b\u043e\u0432\u0441\u043a\u0438\u0439 \u0443\u0435\u0437\u0434  \n",
        "548         \u041c\u0430\u043b\u043e\u0430\u0440\u0445\u0430\u043d\u0433\u0435\u043b\u044c\u0441\u043a\u0438\u0439 \u0443\u0435\u0437\u0434  \n",
        "549                            NaN  \n",
        "550               \u0422\u0443\u0440\u0443\u0445\u0430\u043d\u0441\u043a\u0438\u0439 \u0443\u0435\u0437\u0434  \n",
        "551                 \u041c\u0433\u043b\u0438\u043d\u0441\u043a\u0438\u0439 \u0443\u0435\u0437\u0434  \n",
        "552                            NaN  \n",
        "553      \u041f\u0435\u0440\u0435\u0441\u043b\u0430\u0432\u043b\u044c-\u0417\u0430\u043b\u0435\u0441\u0441\u043a\u0438\u0439 \u0443\u0435\u0437\u0434  \n",
        "554                            NaN  \n",
        "555                 \u041f\u0443\u0434\u043e\u0436\u0441\u043a\u0438\u0439 \u0443\u0435\u0437\u0434  \n",
        "556                            NaN  \n",
        "557                            NaN  \n",
        "558             \u0421\u043e\u043b\u0438\u0433\u0430\u043b\u0438\u0447\u0441\u043a\u0438\u0439 \u0443\u0435\u0437\u0434  \n",
        "559           \u0421\u0442\u0430\u0440\u043e\u043e\u0441\u043a\u043e\u043b\u044c\u0441\u043a\u0438\u0439 \u0443\u0435\u0437\u0434  \n",
        "560               \u0423\u0441\u0442\u044e\u0436\u0435\u043d\u0441\u043a\u0438\u0439 \u0443\u0435\u0437\u0434  \n",
        "561                            NaN  \n",
        "562             \u041d\u043e\u0432\u043e\u0445\u043e\u043f\u0451\u0440\u0441\u043a\u0438\u0439 \u0443\u0435\u0437\u0434  \n",
        "563              \u0414\u0430\u043b\u043c\u0430\u0442\u043e\u0432\u0441\u043a\u0438\u0439 \u0443\u0435\u0437\u0434  \n",
        "564                            NaN  \n",
        "565                  \u0427\u0430\u0443\u0441\u0441\u043a\u0438\u0439 \u0443\u0435\u0437\u0434  \n",
        "566                 \u0411\u0435\u043b\u0438\u043d\u0441\u043a\u0438\u0439 \u0443\u0435\u0437\u0434  \n",
        "567                \u0427\u0435\u0440\u0434\u044b\u043d\u0441\u043a\u0438\u0439 \u0443\u0435\u0437\u0434  \n",
        "568                            NaN  \n",
        "\n",
        "[296 rows x 3 columns]"
       ]
      }
     ],
     "prompt_number": 113
    },
    {
     "cell_type": "code",
     "collapsed": false,
     "input": [
      "uezd = pd.DataFrame.from_csv(\"uezd.csv\")"
     ],
     "language": "python",
     "metadata": {},
     "outputs": [],
     "prompt_number": 100
    },
    {
     "cell_type": "code",
     "collapsed": false,
     "input": [
      "uezd.partof_uezd_name = uezd.partof_uezd_name.apply(ortho_rules,args=[lookup_dict])"
     ],
     "language": "python",
     "metadata": {},
     "outputs": [],
     "prompt_number": 101
    },
    {
     "cell_type": "code",
     "collapsed": false,
     "input": [
      "dataset[dataset.description.isnull()==False].to_csv(\"output/dataset.csv\",encoding=\"utf-8\")"
     ],
     "language": "python",
     "metadata": {},
     "outputs": [],
     "prompt_number": 104
    },
    {
     "cell_type": "code",
     "collapsed": false,
     "input": [
      "uezd.ru_old_orth = uezd.partof_uezd_name"
     ],
     "language": "python",
     "metadata": {},
     "outputs": [],
     "prompt_number": 106
    },
    {
     "cell_type": "code",
     "collapsed": false,
     "input": [
      "uezd.to_csv(\"output/uezd.csv\",encoding='utf-8')"
     ],
     "language": "python",
     "metadata": {},
     "outputs": [],
     "prompt_number": 109
    },
    {
     "cell_type": "code",
     "collapsed": false,
     "input": [
      "prov.to_csv(\"output/prov.csv\",encoding=\"utf-8\")"
     ],
     "language": "python",
     "metadata": {},
     "outputs": [],
     "prompt_number": 110
    },
    {
     "cell_type": "code",
     "collapsed": false,
     "input": [
      "unfuckup = pd.DataFrame.from_csv(\"output/uezd.csv\")"
     ],
     "language": "python",
     "metadata": {},
     "outputs": [],
     "prompt_number": 114
    },
    {
     "cell_type": "code",
     "collapsed": false,
     "input": [
      "unfuckup.unfuckup = unfuckup.unfuckup.replace(r\"\u0441\u043a\u0438\u0438 \",r\"\u0441\u043a\u0438\u0439 \",regex=True)"
     ],
     "language": "python",
     "metadata": {},
     "outputs": [],
     "prompt_number": 118
    },
    {
     "cell_type": "code",
     "collapsed": false,
     "input": [
      "unfuckup.unfuckup.replace(r\"\u0442\u0441\u043a\u0438\u0439 \",r\"\u0446\u043a\u0438\u0439 \",regex=True)"
     ],
     "language": "python",
     "metadata": {},
     "outputs": [
      {
       "metadata": {},
       "output_type": "pyout",
       "prompt_number": 120,
       "text": [
        "uniq_id\n",
        "1                 \u041c\u043e\u0441\u043a\u043e\u0432\u0441\u043a\u0438\u0439 \u0443\u0435\u0437\u0434\n",
        "2             \u0410\u0440\u043a\u0445\u0430\u043d\u0433\u0435\u043b\u044c\u0441\u043a\u0438\u0439 \u0443\u0435\u0437\u0434\n",
        "3               \u0412\u043b\u0430\u0434\u0438\u043c\u0435\u0440\u0441\u043a\u0438\u0439 \u0443\u0435\u0437\u0434\n",
        "4                \u0412\u043e\u043b\u043e\u0433\u043e\u0434\u0441\u043a\u0438\u0439 \u0443\u0435\u0437\u0434\n",
        "5                \u0412\u043e\u0440\u043e\u043d\u0435\u0436\u0441\u043a\u0438\u0439 \u0443\u0435\u0437\u0434\n",
        "6                 \u0412\u044b\u0431\u043e\u0440\u0433\u0441\u043a\u0438\u0439 \u0443\u0435\u0437\u0434\n",
        "7                    \u0412\u0438\u0430\u0446\u043a\u0438\u0439 \u0443\u0435\u0437\u0434\n",
        "8          \u0415\u043a\u0430\u0442\u0435\u0440\u0438\u043d\u043e\u0441\u043b\u0430\u0432\u0441\u043a\u0438\u0439 \u0443\u0435\u0437\u0434\n",
        "9                   \u0418\u0440\u043a\u0443\u0446\u043a\u0438\u0439 \u0443\u0435\u0437\u0434\n",
        "10                \u041a\u0430\u0432\u043a\u0430\u0437\u0441\u043a\u0438\u0439 \u0443\u0435\u0437\u0434\n",
        "11                 \u041a\u0430\u0437\u0430\u043d\u0441\u043a\u0438\u0439 \u0443\u0435\u0437\u0434\n",
        "12                 \u041a\u0430\u043b\u0443\u0436\u0441\u043a\u0438\u0439 \u0443\u0435\u0437\u0434\n",
        "13                  \u041a\u0456\u0435\u0432\u0441\u043a\u0438\u0439 \u0443\u0435\u0437\u0434\n",
        "14               \u041a\u043e\u0441\u0442\u0440\u043e\u043c\u0441\u043a\u0438\u0439 \u0443\u0435\u0437\u0434\n",
        "15                   \u041a\u0443\u0440\u0441\u043a\u0438\u0439 \u0443\u0435\u0437\u0434\n",
        "...\n",
        "554              \u041f\u0435\u0440\u043d\u043e\u0432\u0441\u043a\u0438\u0439 \u0443\u0435\u0437\u0434\n",
        "555               \u041f\u0443\u0434\u043e\u0436\u0441\u043a\u0438\u0439 \u0443\u0435\u0437\u0434\n",
        "556                \u0420\u0436\u0435\u0432\u0441\u043a\u0438\u0439 \u0443\u0435\u0437\u0434\n",
        "557                \u0420\u0435\u0436\u0438\u0446\u043a\u0438\u0439 \u0443\u0435\u0437\u0434\n",
        "558           \u0421\u043e\u043b\u0438\u0433\u0430\u043b\u0438\u0447\u0441\u043a\u0438\u0439 \u0443\u0435\u0437\u0434\n",
        "559         \u0421\u0442\u0430\u0440\u043e\u043e\u0441\u043a\u043e\u043b\u044c\u0441\u043a\u0438\u0439 \u0443\u0435\u0437\u0434\n",
        "560            \u0423\u0441\u0442\u0438\u0443\u0436\u0435\u043d\u0441\u043a\u0438\u0439 \u0443\u0435\u0437\u0434\n",
        "561        \u0424\u0440\u0438\u0434\u0440\u0438\u043a\u0445\u0441\u0433\u0430\u043c\u0441\u043a\u0438\u0439 \u0443\u0435\u0437\u0434\n",
        "562          \u041d\u043e\u0432\u043e\u043a\u0445\u043e\u043f\u0451\u0440\u0441\u043a\u0438\u0439 \u0443\u0435\u0437\u0434\n",
        "563            \u0414\u0430\u043b\u043c\u0430\u0442\u043e\u0432\u0441\u043a\u0438\u0439 \u0443\u0435\u0437\u0434\n",
        "564            \u041a\u0445\u043e\u0442\u044c\u043c\u044b\u0448\u0441\u043a\u0438\u0439 \u0443\u0435\u0437\u0434\n",
        "565                \u0427\u0430\u0443\u0441\u0441\u043a\u0438\u0439 \u0443\u0435\u0437\u0434\n",
        "566              \u0427\u0435\u043c\u0431\u0430\u0440\u0441\u043a\u0438\u0439 \u0443\u0435\u0437\u0434\n",
        "567              \u0427\u0435\u0440\u0434\u044b\u043d\u0441\u043a\u0438\u0439 \u0443\u0435\u0437\u0434\n",
        "568             \u0428\u0438\u0448\u043a\u0435\u0435\u0432\u0441\u043a\u0438\u0439 \u0443\u0435\u0437\u0434\n",
        "Name: unfuckup, Length: 296, dtype: object"
       ]
      }
     ],
     "prompt_number": 120
    }
   ],
   "metadata": {}
  }
 ]
}