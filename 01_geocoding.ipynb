{
 "metadata": {
  "name": "",
  "signature": "sha256:e6682027017b5c71a5743a8638103437caa9b00a50674404785ba1fd94cafca0"
 },
 "nbformat": 3,
 "nbformat_minor": 0,
 "worksheets": [
  {
   "cells": [
    {
     "cell_type": "code",
     "collapsed": false,
     "input": [
      "import pandas as pd\n",
      "import numpy as np\n",
      "import requests, re, json, os, time"
     ],
     "language": "python",
     "metadata": {},
     "outputs": [],
     "prompt_number": 1
    },
    {
     "cell_type": "code",
     "collapsed": false,
     "input": [
      "market_df = pd.DataFrame.from_csv(\"output/no_geo.csv\")"
     ],
     "language": "python",
     "metadata": {},
     "outputs": [],
     "prompt_number": 2
    },
    {
     "cell_type": "code",
     "collapsed": false,
     "input": [
      "import os\n",
      "def Ensure_dir(d):\n",
      "    \"\"\"Makes sure a directory 'd' exists, and if it doesn't, it creates one.\"\"\"\n",
      "    if not os.path.exists(d):\n",
      "        os.makedirs(d)\n",
      "    return 0"
     ],
     "language": "python",
     "metadata": {},
     "outputs": [],
     "prompt_number": 3
    },
    {
     "cell_type": "markdown",
     "metadata": {},
     "source": [
      "Geocoding begins here!\n",
      "======================"
     ]
    },
    {
     "cell_type": "code",
     "collapsed": false,
     "input": [
      "def geonames_request(placename,east=180,west=-180,north=90,south=-90):\n",
      "    \"\"\"\n",
      "    Takes a placename and optional bounding box, returns GeoNames response for query in dict form, with added url key\n",
      "    \"\"\"\n",
      "    url = \"http://api.geonames.org/search\"\n",
      "    Q = {'type':'json','username':'jaguillette','featureClass':'P','name':placename,'north':north,'south':south,'east':east,'west':west}\n",
      "    R = requests.get(url,params=Q)\n",
      "    response = R.json()\n",
      "    response['url'] = R.url\n",
      "    return response"
     ],
     "language": "python",
     "metadata": {},
     "outputs": [],
     "prompt_number": 4
    },
    {
     "cell_type": "code",
     "collapsed": false,
     "input": [
      "def geonames_lookup(placename,placeid,east=180,west=-180,north=90,south=-90):\n",
      "    \"\"\"\n",
      "    Queries geonames for given placename within bounding boxes.\n",
      "    Also queries for alternate spellings if no main spelling is found.\n",
      "    \"\"\"\n",
      "    Ensure_dir(\"geonames_jsons\")\n",
      "    returnlist = []\n",
      "    re_list = [[r'(\u043e\u0439)($|\\s)',r'\u0438\u0439\\2'],[r'(\u0441\u043a)($|\\s)',r'\\2'],[r'(\u0432)$',r'\\1\u043e']]\n",
      "    #Generating a list of possible placenames based on above regex.\n",
      "    #Placename will be added, then removed for de-duplication after set operation.\n",
      "    pname_list = [placename]\n",
      "    for pair in re_list:\n",
      "        pname_list.append(re.sub(pair[0],pair[1],placename))\n",
      "    pname_list = set(pname_list)\n",
      "    pname_list.remove(placename)\n",
      "    #First geocoding attempt\n",
      "    response1 = geonames_request(placename,east=east,west=west,north=north,south=south)\n",
      "    print(\"Now querying {}...\".format(placename))\n",
      "    time.sleep(1)\n",
      "    #If there are results from geonames on unaltered name...\n",
      "    if response1['totalResultsCount'] != 0:\n",
      "        for x in range(0,len(response1['geonames'])):\n",
      "            geo_placename = response1['geonames'][x]['name']\n",
      "            geo_admin1 = response1['geonames'][x]['adminName1']\n",
      "            geo_countryname = response1['geonames'][x]['countryName']\n",
      "            geo_lat = response1['geonames'][x]['lat']\n",
      "            geo_lng = response1['geonames'][x]['lng']\n",
      "            geo_id = response1['geonames'][x]['geonameId']\n",
      "            geo_country_code = response1['geonames'][x]['countryCode']\n",
      "            out_url = response1['url']\n",
      "            returnlist.append([placeid,geo_placename,placename,geo_admin1,geo_countryname,geo_lat,geo_lng,geo_id,geo_country_code,out_url,'geonames',\"geonames_jsons/{}_{}.json\".format(placename,placeid)])\n",
      "        if not os.path.exists(out_url):\n",
      "            with open(\"geonames_jsons/{}_{}.json\".format(placename,placeid),'w',encoding='utf-8') as jsonfile:\n",
      "                json.dump(response1,jsonfile)\n",
      "        print(\"{} was found\".format(placename))\n",
      "    #If there are no results for an unaltered name, record the attempt, then try variant spellings from pname_list.\n",
      "    else:\n",
      "        geo_placename = \"not_found\"\n",
      "        geo_admin1 = \"not_found\"\n",
      "        geo_countryname = \"not_found\"\n",
      "        geo_lat = \"not_found\"\n",
      "        geo_lng = \"not_found\"\n",
      "        geo_id = \"not_found\"\n",
      "        geo_country_code = \"not_found\"\n",
      "        out_url = response1['url']\n",
      "        returnlist.append([placeid,geo_placename,placename,geo_admin1,geo_countryname,geo_lat,geo_lng,geo_id,geo_country_code,out_url,'geonames','None'])\n",
      "        for p in pname_list:\n",
      "            time.sleep(1)\n",
      "            print(\"Querying alternate name {}\".format(p))\n",
      "            response = geonames_request(p,east=east,west=west,north=north,south=south)\n",
      "            if response['totalResultsCount'] != 0:\n",
      "                for x in range(0,len(response['geonames'])):\n",
      "                    geo_placename = response['geonames'][x]['name']\n",
      "                    geo_admin1 = response['geonames'][x]['adminName1']\n",
      "                    geo_countryname = response['geonames'][x]['countryName']\n",
      "                    geo_lat = response['geonames'][x]['lat']\n",
      "                    geo_lng = response['geonames'][x]['lng']\n",
      "                    geo_id = response['geonames'][x]['geonameId']\n",
      "                    geo_country_code = response['geonames'][x]['countryCode']\n",
      "                    out_url = response['url']\n",
      "                    returnlist.append([placeid,geo_placename,placename,geo_admin1,geo_countryname,geo_lat,geo_lng,geo_id,geo_country_code,out_url,'geonames',\"geonames_jsons/{}_{}.json\".format(placename,placeid)])\n",
      "                if not os.path.exists(out_url):\n",
      "                    with open(\"geonames_jsons/{}_{}.json\".format(p,placeid),'w',encoding='utf-8') as jsonfile:\n",
      "                        json.dump(response,jsonfile)\n",
      "                print(\"{} was found querying with alternate spelling {}\".format(placename,p))\n",
      "            else:\n",
      "                geo_placename = \"not_found\"\n",
      "                geo_admin1 = \"not_found\"\n",
      "                geo_countryname = \"not_found\"\n",
      "                geo_lat = \"not_found\"\n",
      "                geo_lng = \"not_found\"\n",
      "                geo_id = \"not_found\"\n",
      "                geo_country_code = \"not_found\"\n",
      "                out_url = response['url']\n",
      "                returnlist.append([placeid,geo_placename,placename,geo_admin1,geo_countryname,geo_lat,geo_lng,geo_id,geo_country_code,out_url,'geonames','None'])\n",
      "    return returnlist"
     ],
     "language": "python",
     "metadata": {},
     "outputs": [],
     "prompt_number": 5
    },
    {
     "cell_type": "code",
     "collapsed": false,
     "input": [
      "with open(\"resources/namiestnich_bounds.json\",'r',encoding = 'utf-8') as fp:\n",
      "    bounding_dict = json.load(fp)"
     ],
     "language": "python",
     "metadata": {},
     "outputs": [],
     "prompt_number": 7
    },
    {
     "cell_type": "code",
     "collapsed": false,
     "input": [
      "no_prov = len(market_df.ix[market_df.ru_prov=='not_in_text'])\n",
      "no_uezd = len(market_df.ix[market_df.ru_uezd=='not_in_text'])\n",
      "total = len(market_df)\n",
      "print(\"{1} / {0} ({2:.2%}) towns have no Namiestnichestvo recorded\\n{3} / {0} ({4:.2%}) towns have no Uyezd recorded\".format(total,no_prov,no_prov/total,no_uezd,no_uezd/total))"
     ],
     "language": "python",
     "metadata": {},
     "outputs": [
      {
       "output_type": "stream",
       "stream": "stdout",
       "text": [
        "29 / 800 (3.62%) towns have no Namiestnichestvo recorded\n",
        "396 / 800 (49.50%) towns have no Uyezd recorded\n"
       ]
      }
     ],
     "prompt_number": 8
    },
    {
     "cell_type": "markdown",
     "metadata": {},
     "source": [
      "Market Town Geocoding\n",
      "====================="
     ]
    },
    {
     "cell_type": "code",
     "collapsed": false,
     "input": [
      "geocoded = []\n",
      "problem_prov = []\n",
      "d = 4\n",
      "for x in range(0,len(market_df)):\n",
      "    entry = market_df.iloc[x]\n",
      "    try:\n",
      "        loc = bounding_dict[entry['prov_stem']]\n",
      "    except KeyError:\n",
      "        print(entry['prov_stem'])\n",
      "        problem_prov.append(entry['prov_stem'])\n",
      "        continue\n",
      "    if \"boundaries\" in loc:\n",
      "        W = loc[\"boundaries\"][0]\n",
      "        S = loc[\"boundaries\"][1]\n",
      "        E = loc[\"boundaries\"][2]\n",
      "        N = loc[\"boundaries\"][3]\n",
      "    else:\n",
      "        N = loc[\"center\"][0]+d\n",
      "        S = loc[\"center\"][0]-d\n",
      "        W = loc[\"center\"][1]-d\n",
      "        E = loc[\"center\"][1]+d\n",
      "    geocoded.extend(geonames_lookup(entry['name_modern_sp'],entry.name,north=N,south=S,west=W,east=E))"
     ],
     "language": "python",
     "metadata": {},
     "outputs": [
      {
       "output_type": "stream",
       "stream": "stdout",
       "text": [
        "Now querying \u0410\u0432\u0434\u0443\u043b\u043e\u0432\u043e...\n",
        "\u0410\u0432\u0434\u0443\u043b\u043e\u0432\u043e was found"
       ]
      },
      {
       "output_type": "stream",
       "stream": "stdout",
       "text": [
        "\n",
        "Now querying \u0410\u0432\u0436\u0435\u043d\u0441\u043a\u0430\u044f..."
       ]
      },
      {
       "output_type": "stream",
       "stream": "stdout",
       "text": [
        "\n",
        "Now querying \u0410\u0432\u0440\u0430\u043c\u0438\u0435\u0432..."
       ]
      },
      {
       "output_type": "stream",
       "stream": "stdout",
       "text": [
        "\n",
        "Querying alternate name \u0410\u0432\u0440\u0430\u043c\u0438\u0435\u0432\u043e"
       ]
      },
      {
       "output_type": "stream",
       "stream": "stdout",
       "text": [
        "\n",
        "Now querying \u0410\u0434\u043e\u0432\u0430\u0442\u043e\u0432\u043e..."
       ]
      },
      {
       "output_type": "stream",
       "stream": "stdout",
       "text": [
        "\n",
        "Now querying \u0410\u043a\u0441\u0435\u043b\u044c..."
       ]
      },
      {
       "output_type": "stream",
       "stream": "stdout",
       "text": [
        "\n",
        "\u0410\u043a\u0441\u0435\u043b\u044c was found"
       ]
      },
      {
       "output_type": "stream",
       "stream": "stdout",
       "text": [
        "\n",
        "Now querying \u0410\u043b\u0430\u0442\u044b\u0440\u044c..."
       ]
      },
      {
       "output_type": "stream",
       "stream": "stdout",
       "text": [
        "\n",
        "\u0410\u043b\u0430\u0442\u044b\u0440\u044c was found"
       ]
      },
      {
       "output_type": "stream",
       "stream": "stdout",
       "text": [
        "\n",
        "Now querying \u0410\u043b\u0435\u043a\u0441\u0430\u043d\u0434\u0440\u043e\u0432\u0430 \u041f\u0443\u0441\u0442\u044b\u043d\u044f..."
       ]
      },
      {
       "output_type": "stream",
       "stream": "stdout",
       "text": [
        "\n",
        "Now querying \u0410\u043b\u0435\u043a\u0441\u0430\u043d\u0434\u0440\u043e\u0432\u0441\u043a\u043e\u0435..."
       ]
      },
      {
       "output_type": "stream",
       "stream": "stdout",
       "text": [
        "\n",
        "Now querying \u0410\u043b\u0435\u043a\u0441\u0438\u043d..."
       ]
      },
      {
       "output_type": "stream",
       "stream": "stdout",
       "text": [
        "\n",
        "\u0410\u043b\u0435\u043a\u0441\u0438\u043d was found"
       ]
      },
      {
       "output_type": "stream",
       "stream": "stdout",
       "text": [
        "\n",
        "Now querying \u0410\u043b\u0435\u043a\u0441\u0435\u0435\u0432\u043a\u0430..."
       ]
      },
      {
       "output_type": "stream",
       "stream": "stdout",
       "text": [
        "\n",
        "\u0410\u043b\u0435\u043a\u0441\u0435\u0435\u0432\u043a\u0430 was found"
       ]
      },
      {
       "output_type": "stream",
       "stream": "stdout",
       "text": [
        "\n",
        "Now querying \u0410\u043b\u0435\u043a\u0441\u0435\u0435\u0432\u0441\u043a\u0430\u044f..."
       ]
      },
      {
       "output_type": "stream",
       "stream": "stdout",
       "text": [
        "\n",
        "Now querying \u0410\u043b\u0435\u0448\u043d\u044f..."
       ]
      },
      {
       "output_type": "stream",
       "stream": "stdout",
       "text": [
        "\n",
        "\u0410\u043b\u0435\u0448\u043d\u044f was found"
       ]
      },
      {
       "output_type": "stream",
       "stream": "stdout",
       "text": [
        "\n",
        "Now querying \u0410\u043d\u0430\u0435\u0432\u043e..."
       ]
      },
      {
       "output_type": "stream",
       "stream": "stdout",
       "text": [
        "\n",
        "\u0410\u043d\u0430\u0435\u0432\u043e was found"
       ]
      },
      {
       "output_type": "stream",
       "stream": "stdout",
       "text": [
        "\n",
        "Now querying \u0410\u043d\u0434\u0440\u0435\u0435\u0432\u043a\u0430..."
       ]
      },
      {
       "output_type": "stream",
       "stream": "stdout",
       "text": [
        "\n",
        "\u0410\u043d\u0434\u0440\u0435\u0435\u0432\u043a\u0430 was found"
       ]
      },
      {
       "output_type": "stream",
       "stream": "stdout",
       "text": [
        "\n",
        "Now querying \u0410\u043d\u0442\u043e\u043d\u043e\u0432\u043a\u0430..."
       ]
      },
      {
       "output_type": "stream",
       "stream": "stdout",
       "text": [
        "\n",
        "\u0410\u043d\u0442\u043e\u043d\u043e\u0432\u043a\u0430 was found"
       ]
      },
      {
       "output_type": "stream",
       "stream": "stdout",
       "text": [
        "\n",
        "Now querying \u0410\u043f\u0438\u0447\u0435\u0440\u0441\u043a\u0430\u044f..."
       ]
      },
      {
       "output_type": "stream",
       "stream": "stdout",
       "text": [
        "\n",
        "Now querying \u0410\u0440\u0433\u0430\u043c\u0430\u0447\u044c\u044f..."
       ]
      },
      {
       "output_type": "stream",
       "stream": "stdout",
       "text": [
        "\n",
        "Now querying \u0410\u0440\u0437\u0430\u043c\u0430\u0441..."
       ]
      },
      {
       "output_type": "stream",
       "stream": "stdout",
       "text": [
        "\n",
        "\u0410\u0440\u0437\u0430\u043c\u0430\u0441 was found"
       ]
      },
      {
       "output_type": "stream",
       "stream": "stdout",
       "text": [
        "\n",
        "Now querying \u0410\u0440\u0442\u0435\u043c\u043e\u043d\u043e\u0432\u043a\u0430..."
       ]
      },
      {
       "output_type": "stream",
       "stream": "stdout",
       "text": [
        "\n",
        "Now querying \u0410\u0440\u0445\u0430\u043d\u0433\u0435\u043b\u044c\u0441\u043a..."
       ]
      },
      {
       "output_type": "stream",
       "stream": "stdout",
       "text": [
        "\n",
        "\u0410\u0440\u0445\u0430\u043d\u0433\u0435\u043b\u044c\u0441\u043a was found"
       ]
      },
      {
       "output_type": "stream",
       "stream": "stdout",
       "text": [
        "\n",
        "Now querying \u0410\u0440\u0445\u0430\u043d\u0433\u0435\u043b\u044c\u0441\u043a\u043e\u0435..."
       ]
      },
      {
       "output_type": "stream",
       "stream": "stdout",
       "text": [
        "\n",
        "\u0410\u0440\u0445\u0430\u043d\u0433\u0435\u043b\u044c\u0441\u043a\u043e\u0435 was found"
       ]
      },
      {
       "output_type": "stream",
       "stream": "stdout",
       "text": [
        "\n",
        "Now querying \u0410\u0441\u0430\u043a\u043e\u0432\u043e..."
       ]
      },
      {
       "output_type": "stream",
       "stream": "stdout",
       "text": [
        "\n",
        "Now querying \u0410\u0441\u0442\u0440\u0430\u0445\u0430\u043d\u044c..."
       ]
      },
      {
       "output_type": "stream",
       "stream": "stdout",
       "text": [
        "\n",
        "\u0410\u0441\u0442\u0440\u0430\u0445\u0430\u043d\u044c was found"
       ]
      },
      {
       "output_type": "stream",
       "stream": "stdout",
       "text": [
        "\n",
        "Now querying \u0410\u0442\u0435\u043c\u0430\u0440..."
       ]
      },
      {
       "output_type": "stream",
       "stream": "stdout",
       "text": [
        "\n",
        "\u0410\u0442\u0435\u043c\u0430\u0440 was found"
       ]
      },
      {
       "output_type": "stream",
       "stream": "stdout",
       "text": [
        "\n",
        "Now querying \u0410\u0442\u043a\u0430\u0440\u0441\u043a..."
       ]
      },
      {
       "output_type": "stream",
       "stream": "stdout",
       "text": [
        "\n",
        "\u0410\u0442\u043a\u0430\u0440\u0441\u043a was found"
       ]
      },
      {
       "output_type": "stream",
       "stream": "stdout",
       "text": [
        "\n",
        "Now querying \u0410\u0445\u0442\u044b\u0440\u043a\u0430..."
       ]
      },
      {
       "output_type": "stream",
       "stream": "stdout",
       "text": [
        "\n",
        "\u0410\u0445\u0442\u044b\u0440\u043a\u0430 was found"
       ]
      },
      {
       "output_type": "stream",
       "stream": "stdout",
       "text": [
        "\n",
        "Now querying \u0411\u0430\u0435\u0432\u043a\u0430..."
       ]
      },
      {
       "output_type": "stream",
       "stream": "stdout",
       "text": [
        "\n",
        "\u0411\u0430\u0435\u0432\u043a\u0430 was found"
       ]
      },
      {
       "output_type": "stream",
       "stream": "stdout",
       "text": [
        "\n",
        "Now querying \u0411\u0430\u043b\u0430\u043a\u043b\u0435\u0435\u0432..."
       ]
      },
      {
       "output_type": "stream",
       "stream": "stdout",
       "text": [
        "\n",
        "Querying alternate name \u0411\u0430\u043b\u0430\u043a\u043b\u0435\u0435\u0432\u043e"
       ]
      },
      {
       "output_type": "stream",
       "stream": "stdout",
       "text": [
        "\n",
        "Now querying \u0411\u0430\u043b\u0430\u0445\u043d\u0430..."
       ]
      },
      {
       "output_type": "stream",
       "stream": "stdout",
       "text": [
        "\n",
        "\u0411\u0430\u043b\u0430\u0445\u043d\u0430 was found"
       ]
      },
      {
       "output_type": "stream",
       "stream": "stdout",
       "text": [
        "\n",
        "Now querying \u0411\u0430\u0440\u044b\u0448\u0435\u0432\u043a\u0430..."
       ]
      },
      {
       "output_type": "stream",
       "stream": "stdout",
       "text": [
        "\n",
        "\u0411\u0430\u0440\u044b\u0448\u0435\u0432\u043a\u0430 was found"
       ]
      },
      {
       "output_type": "stream",
       "stream": "stdout",
       "text": [
        "\n",
        "Now querying \u0411\u0430\u0441\u0430\u043d\u044c..."
       ]
      },
      {
       "output_type": "stream",
       "stream": "stdout",
       "text": [
        "\n",
        "\u0411\u0430\u0441\u0430\u043d\u044c was found"
       ]
      },
      {
       "output_type": "stream",
       "stream": "stdout",
       "text": [
        "\n",
        "Now querying \u0411\u0430\u0442\u0440\u0430\u043a..."
       ]
      },
      {
       "output_type": "stream",
       "stream": "stdout",
       "text": [
        "\n",
        "\u0411\u0430\u0442\u0440\u0430\u043a was found"
       ]
      },
      {
       "output_type": "stream",
       "stream": "stdout",
       "text": [
        "\n",
        "Now querying \u0411\u0430\u0442\u0443\u0440\u0438\u043d..."
       ]
      },
      {
       "output_type": "stream",
       "stream": "stdout",
       "text": [
        "\n",
        "\u0411\u0430\u0442\u0443\u0440\u0438\u043d was found"
       ]
      },
      {
       "output_type": "stream",
       "stream": "stdout",
       "text": [
        "\n",
        "Now querying \u0411\u0430\u0445\u043c\u0430\u0447\u044c..."
       ]
      },
      {
       "output_type": "stream",
       "stream": "stdout",
       "text": [
        "\n",
        "\u0411\u0430\u0445\u043c\u0430\u0447\u044c was found"
       ]
      },
      {
       "output_type": "stream",
       "stream": "stdout",
       "text": [
        "\n",
        "Now querying \u0411\u0435\u0437\u0433\u0438\u043d\u043e\u0432\u043a\u0430..."
       ]
      },
      {
       "output_type": "stream",
       "stream": "stdout",
       "text": [
        "\n",
        "Now querying \u0411\u0435\u0440\u0435\u0437\u0438\u043d..."
       ]
      },
      {
       "output_type": "stream",
       "stream": "stdout",
       "text": [
        "\n",
        "Now querying \u0411\u0435\u0440\u0435\u0437\u043d\u0438\u043a\u0438..."
       ]
      },
      {
       "output_type": "stream",
       "stream": "stdout",
       "text": [
        "\n",
        "\u0411\u0435\u0440\u0435\u0437\u043d\u0438\u043a\u0438 was found"
       ]
      },
      {
       "output_type": "stream",
       "stream": "stdout",
       "text": [
        "\n",
        "Now querying \u0411\u0435\u0440\u0435\u0437\u043e\u0432..."
       ]
      },
      {
       "output_type": "stream",
       "stream": "stdout",
       "text": [
        "\n",
        "\u0411\u0435\u0440\u0435\u0437\u043e\u0432 was found"
       ]
      },
      {
       "output_type": "stream",
       "stream": "stdout",
       "text": [
        "\n",
        "Now querying \u0411\u0435\u0440\u0435\u0437\u043e\u0432\u0446\u0430..."
       ]
      },
      {
       "output_type": "stream",
       "stream": "stdout",
       "text": [
        "\n",
        "Now querying \u0411\u0435\u0440\u043a\u0443\u043d\u043e\u0432\u0430..."
       ]
      },
      {
       "output_type": "stream",
       "stream": "stdout",
       "text": [
        "\n",
        "Now querying \u0411\u0435\u0440\u043d\u0438\u043a\u0438..."
       ]
      },
      {
       "output_type": "stream",
       "stream": "stdout",
       "text": [
        "\n",
        "\u0411\u0435\u0440\u043d\u0438\u043a\u0438 was found"
       ]
      },
      {
       "output_type": "stream",
       "stream": "stdout",
       "text": [
        "\n",
        "Now querying \u0411\u0438\u043b\u044f\u0440\u0441\u043a..."
       ]
      },
      {
       "output_type": "stream",
       "stream": "stdout",
       "text": [
        "\n",
        "\u0411\u0438\u043b\u044f\u0440\u0441\u043a was found"
       ]
      },
      {
       "output_type": "stream",
       "stream": "stdout",
       "text": [
        "\n",
        "Now querying \u0411\u0438\u0440\u0436\u0430..."
       ]
      },
      {
       "output_type": "stream",
       "stream": "stdout",
       "text": [
        "\n",
        "\u0411\u0438\u0440\u0436\u0430 was found"
       ]
      },
      {
       "output_type": "stream",
       "stream": "stdout",
       "text": [
        "\n",
        "Now querying \u0411\u043b\u0430\u0433\u043e\u0432\u0435\u0449\u0435\u043d\u0441\u043a\u043e\u0439 \u041f\u0440\u0438\u0445\u043e\u0434..."
       ]
      },
      {
       "output_type": "stream",
       "stream": "stdout",
       "text": [
        "\n",
        "Querying alternate name \u0411\u043b\u0430\u0433\u043e\u0432\u0435\u0449\u0435\u043d\u0441\u043a\u0438\u0439 \u041f\u0440\u0438\u0445\u043e\u0434"
       ]
      },
      {
       "output_type": "stream",
       "stream": "stdout",
       "text": [
        "\n",
        "Now querying \u0411\u043e\u0431\u0440\u043e\u0432\u0438\u0446\u0430..."
       ]
      },
      {
       "output_type": "stream",
       "stream": "stdout",
       "text": [
        "\n",
        "\u0411\u043e\u0431\u0440\u043e\u0432\u0438\u0446\u0430 was found"
       ]
      },
      {
       "output_type": "stream",
       "stream": "stdout",
       "text": [
        "\n",
        "Now querying \u0411\u043e\u0431\u0440\u043e\u0432\u0441\u043a\u043e\u0435..."
       ]
      },
      {
       "output_type": "stream",
       "stream": "stdout",
       "text": [
        "\n",
        "\u0411\u043e\u0431\u0440\u043e\u0432\u0441\u043a\u043e\u0435 was found"
       ]
      },
      {
       "output_type": "stream",
       "stream": "stdout",
       "text": [
        "\n",
        "Now querying \u0411\u043e\u0431\u044b\u043b\u0435\u0432\u0441\u043a\u043e\u0435..."
       ]
      },
      {
       "output_type": "stream",
       "stream": "stdout",
       "text": [
        "\n",
        "Now querying \u0411\u043e\u0433\u0430\u0442\u0438\u0449\u0435\u0431\u043e..."
       ]
      },
      {
       "output_type": "stream",
       "stream": "stdout",
       "text": [
        "\n",
        "Now querying \u0411\u043e\u0433\u0430\u0442\u044b\u0439..."
       ]
      },
      {
       "output_type": "stream",
       "stream": "stdout",
       "text": [
        "\n",
        "\u0411\u043e\u0433\u0430\u0442\u044b\u0439 was found"
       ]
      },
      {
       "output_type": "stream",
       "stream": "stdout",
       "text": [
        "\n",
        "Now querying \u0411\u043e\u0433\u0430\u0447\u043a\u0430..."
       ]
      },
      {
       "output_type": "stream",
       "stream": "stdout",
       "text": [
        "\n",
        "\u0411\u043e\u0433\u0430\u0447\u043a\u0430 was found"
       ]
      },
      {
       "output_type": "stream",
       "stream": "stdout",
       "text": [
        "\n",
        "Now querying \u0411\u043e\u0433\u043e\u0434\u0443\u0445\u043e\u0432..."
       ]
      },
      {
       "output_type": "stream",
       "stream": "stdout",
       "text": [
        "\n",
        "\u0411\u043e\u0433\u043e\u0434\u0443\u0445\u043e\u0432 was found"
       ]
      },
      {
       "output_type": "stream",
       "stream": "stdout",
       "text": [
        "\n",
        "Now querying \u0411\u043e\u0433\u043e\u0440\u043e\u0434\u0438\u0446\u043a..."
       ]
      },
      {
       "output_type": "stream",
       "stream": "stdout",
       "text": [
        "\n",
        "\u0411\u043e\u0433\u043e\u0440\u043e\u0434\u0438\u0446\u043a was found"
       ]
      },
      {
       "output_type": "stream",
       "stream": "stdout",
       "text": [
        "\n",
        "Now querying \u0411\u043e\u0433\u043e\u0440\u043e\u0434\u0438\u0446\u043a..."
       ]
      },
      {
       "output_type": "stream",
       "stream": "stdout",
       "text": [
        "\n",
        "\u0411\u043e\u0433\u043e\u0440\u043e\u0434\u0438\u0446\u043a was found"
       ]
      },
      {
       "output_type": "stream",
       "stream": "stdout",
       "text": [
        "\n",
        "Now querying \u0411\u043e\u0433\u043e\u0440\u043e\u0434\u0438\u0446\u043a\u043e\u0439 \u041a\u0430\u0437\u0430\u043d\u0441\u043a\u043e\u0439..."
       ]
      },
      {
       "output_type": "stream",
       "stream": "stdout",
       "text": [
        "\n",
        "Querying alternate name \u0411\u043e\u0433\u043e\u0440\u043e\u0434\u0438\u0446\u043a\u0438\u0439 \u041a\u0430\u0437\u0430\u043d\u0441\u043a\u0438\u0439"
       ]
      },
      {
       "output_type": "stream",
       "stream": "stdout",
       "text": [
        "\n",
        "Now querying \u0411\u043e\u0433\u043e\u0440\u043e\u0434\u0441\u043a..."
       ]
      },
      {
       "output_type": "stream",
       "stream": "stdout",
       "text": [
        "\n",
        "\u0411\u043e\u0433\u043e\u0440\u043e\u0434\u0441\u043a was found"
       ]
      },
      {
       "output_type": "stream",
       "stream": "stdout",
       "text": [
        "\n",
        "Now querying \u0411\u043e\u0433\u043e\u044f\u0432\u043b\u0435\u043d\u0441\u043a\u0430\u044f..."
       ]
      },
      {
       "output_type": "stream",
       "stream": "stdout",
       "text": [
        "\n",
        "Now querying \u0411\u043e\u0433\u043e\u044f\u0432\u043b\u0435\u043d\u0441\u043a\u0430\u044f..."
       ]
      },
      {
       "output_type": "stream",
       "stream": "stdout",
       "text": [
        "\n",
        "Now querying \u0411\u043e\u0439\u043d\u044f..."
       ]
      },
      {
       "output_type": "stream",
       "stream": "stdout",
       "text": [
        "\n",
        "Now querying \u0411\u043e\u0440\u0430..."
       ]
      },
      {
       "output_type": "stream",
       "stream": "stdout",
       "text": [
        "\n",
        "Now querying \u0411\u043e\u0440\u0437\u043d\u0430..."
       ]
      },
      {
       "output_type": "stream",
       "stream": "stdout",
       "text": [
        "\n",
        "\u0411\u043e\u0440\u0437\u043d\u0430 was found"
       ]
      },
      {
       "output_type": "stream",
       "stream": "stdout",
       "text": [
        "\n",
        "Now querying \u0411\u043e\u0440\u0438\u0441\u043e\u0432..."
       ]
      },
      {
       "output_type": "stream",
       "stream": "stdout",
       "text": [
        "\n",
        "Querying alternate name \u0411\u043e\u0440\u0438\u0441\u043e\u0432\u043e"
       ]
      },
      {
       "output_type": "stream",
       "stream": "stdout",
       "text": [
        "\n",
        "\u0411\u043e\u0440\u0438\u0441\u043e\u0432 was found querying with alternate spelling \u0411\u043e\u0440\u0438\u0441\u043e\u0432\u043e"
       ]
      },
      {
       "output_type": "stream",
       "stream": "stdout",
       "text": [
        "\n",
        "Now querying \u0411\u043e\u0440\u0438\u0441\u043e\u0433\u043b\u0435\u0431\u0441\u043a..."
       ]
      },
      {
       "output_type": "stream",
       "stream": "stdout",
       "text": [
        "\n",
        "\u0411\u043e\u0440\u0438\u0441\u043e\u0433\u043b\u0435\u0431\u0441\u043a was found"
       ]
      },
      {
       "output_type": "stream",
       "stream": "stdout",
       "text": [
        "\n",
        "Now querying \u0411\u043e\u0440\u0438\u0441\u043e\u0433\u043b\u0435\u0431\u0441\u043a..."
       ]
      },
      {
       "output_type": "stream",
       "stream": "stdout",
       "text": [
        "\n",
        "\u0411\u043e\u0440\u0438\u0441\u043e\u0433\u043b\u0435\u0431\u0441\u043a was found"
       ]
      },
      {
       "output_type": "stream",
       "stream": "stdout",
       "text": [
        "\n",
        "Now querying \u0411\u043e\u0440\u0438\u0441\u043e\u0433\u043b\u0435\u0431\u0441\u043a\u043e\u0439..."
       ]
      },
      {
       "output_type": "stream",
       "stream": "stdout",
       "text": [
        "\n",
        "Querying alternate name \u0411\u043e\u0440\u0438\u0441\u043e\u0433\u043b\u0435\u0431\u0441\u043a\u0438\u0439"
       ]
      },
      {
       "output_type": "stream",
       "stream": "stdout",
       "text": [
        "\n",
        "\u0411\u043e\u0440\u0438\u0441\u043e\u0433\u043b\u0435\u0431\u0441\u043a\u043e\u0439 was found querying with alternate spelling \u0411\u043e\u0440\u0438\u0441\u043e\u0433\u043b\u0435\u0431\u0441\u043a\u0438\u0439"
       ]
      },
      {
       "output_type": "stream",
       "stream": "stdout",
       "text": [
        "\n",
        "Now querying \u0411\u043e\u0440\u0438\u0441\u043f\u043e\u043b\u044c..."
       ]
      },
      {
       "output_type": "stream",
       "stream": "stdout",
       "text": [
        "\n",
        "\u0411\u043e\u0440\u0438\u0441\u043f\u043e\u043b\u044c was found"
       ]
      },
      {
       "output_type": "stream",
       "stream": "stdout",
       "text": [
        "\n",
        "Now querying \u0411\u043e\u0440\u043e\u0432\u0435\u043d\u043a\u0438..."
       ]
      },
      {
       "output_type": "stream",
       "stream": "stdout",
       "text": [
        "\n",
        "\u0411\u043e\u0440\u043e\u0432\u0435\u043d\u043a\u0438 was found"
       ]
      },
      {
       "output_type": "stream",
       "stream": "stdout",
       "text": [
        "\n",
        "Now querying \u0411\u043e\u0440\u043e\u0432\u0438\u0447\u0438..."
       ]
      },
      {
       "output_type": "stream",
       "stream": "stdout",
       "text": [
        "\n",
        "\u0411\u043e\u0440\u043e\u0432\u0438\u0447\u0438 was found"
       ]
      },
      {
       "output_type": "stream",
       "stream": "stdout",
       "text": [
        "\n",
        "Now querying \u0411\u043e\u0440\u043e\u0432\u0441\u043a..."
       ]
      },
      {
       "output_type": "stream",
       "stream": "stdout",
       "text": [
        "\n",
        "\u0411\u043e\u0440\u043e\u0432\u0441\u043a was found"
       ]
      },
      {
       "output_type": "stream",
       "stream": "stdout",
       "text": [
        "\n",
        "Now querying \u0411\u043e\u0440\u043e\u043c\u0434\u044f..."
       ]
      },
      {
       "output_type": "stream",
       "stream": "stdout",
       "text": [
        "\n",
        "Now querying \u0411\u043e\u0440\u044f\u0442\u0438\u043d\u043e..."
       ]
      },
      {
       "output_type": "stream",
       "stream": "stdout",
       "text": [
        "\n",
        "\u0411\u043e\u0440\u044f\u0442\u0438\u043d\u043e was found"
       ]
      },
      {
       "output_type": "stream",
       "stream": "stdout",
       "text": [
        "\n",
        "Now querying \u0411\u0440\u043e\u043d\u043d\u0438\u0446\u044b..."
       ]
      },
      {
       "output_type": "stream",
       "stream": "stdout",
       "text": [
        "\n",
        "\u0411\u0440\u043e\u043d\u043d\u0438\u0446\u044b was found"
       ]
      },
      {
       "output_type": "stream",
       "stream": "stdout",
       "text": [
        "\n",
        "Now querying \u0411\u0440\u043e\u043d\u043d\u0438\u0446\u044b..."
       ]
      },
      {
       "output_type": "stream",
       "stream": "stdout",
       "text": [
        "\n",
        "Now querying \u0411\u0440\u044f\u043d\u0441\u043a..."
       ]
      },
      {
       "output_type": "stream",
       "stream": "stdout",
       "text": [
        "\n",
        "\u0411\u0440\u044f\u043d\u0441\u043a was found"
       ]
      },
      {
       "output_type": "stream",
       "stream": "stdout",
       "text": [
        "\n",
        "Now querying \u0411\u0443\u0434\u0438\u0447\u044c..."
       ]
      },
      {
       "output_type": "stream",
       "stream": "stdout",
       "text": [
        "\n",
        "Now querying \u0411\u0443\u0440\u0435\u0446\u043a\u043e\u0439..."
       ]
      },
      {
       "output_type": "stream",
       "stream": "stdout",
       "text": [
        "\n",
        "Querying alternate name \u0411\u0443\u0440\u0435\u0446\u043a\u0438\u0439"
       ]
      },
      {
       "output_type": "stream",
       "stream": "stdout",
       "text": [
        "\n",
        "Now querying \u0411\u0443\u0440\u043e\u043c\u043a\u0430..."
       ]
      },
      {
       "output_type": "stream",
       "stream": "stdout",
       "text": [
        "\n",
        "\u0411\u0443\u0440\u043e\u043c\u043a\u0430 was found"
       ]
      },
      {
       "output_type": "stream",
       "stream": "stdout",
       "text": [
        "\n",
        "Now querying \u0411\u0443\u0447\u0430\u043b\u043a\u0438..."
       ]
      },
      {
       "output_type": "stream",
       "stream": "stdout",
       "text": [
        "\n",
        "\u0411\u0443\u0447\u0430\u043b\u043a\u0438 was found"
       ]
      },
      {
       "output_type": "stream",
       "stream": "stdout",
       "text": [
        "\n",
        "Now querying \u0411\u0443\u0448\u043d\u0440\u0432\u043e..."
       ]
      },
      {
       "output_type": "stream",
       "stream": "stdout",
       "text": [
        "\n",
        "Now querying \u0411\u044b\u043a\u043e\u0432..."
       ]
      },
      {
       "output_type": "stream",
       "stream": "stdout",
       "text": [
        "\n",
        "\u0411\u044b\u043a\u043e\u0432 was found"
       ]
      },
      {
       "output_type": "stream",
       "stream": "stdout",
       "text": [
        "\n",
        "Now querying \u0411\u0435\u0436\u0435\u0446\u043a..."
       ]
      },
      {
       "output_type": "stream",
       "stream": "stdout",
       "text": [
        "\n",
        "\u0411\u0435\u0436\u0435\u0446\u043a was found"
       ]
      },
      {
       "output_type": "stream",
       "stream": "stdout",
       "text": [
        "\n",
        "Now querying \u0411\u0435\u043b\u0430\u044f \u041a\u043e\u043b\u043f\u044c..."
       ]
      },
      {
       "output_type": "stream",
       "stream": "stdout",
       "text": [
        "\n",
        "\u0411\u0435\u043b\u0430\u044f \u041a\u043e\u043b\u043f\u044c was found"
       ]
      },
      {
       "output_type": "stream",
       "stream": "stdout",
       "text": [
        "\n",
        "Now querying \u0411\u0435\u043b\u0433\u043e\u0440\u043e\u0434..."
       ]
      },
      {
       "output_type": "stream",
       "stream": "stdout",
       "text": [
        "\n",
        "\u0411\u0435\u043b\u0433\u043e\u0440\u043e\u0434 was found"
       ]
      },
      {
       "output_type": "stream",
       "stream": "stdout",
       "text": [
        "\n",
        "Now querying \u0411\u0435\u043b\u0438\u043a\u0438..."
       ]
      },
      {
       "output_type": "stream",
       "stream": "stdout",
       "text": [
        "\n",
        "\u0411\u0435\u043b\u0438\u043a\u0438 was found"
       ]
      },
      {
       "output_type": "stream",
       "stream": "stdout",
       "text": [
        "\n",
        "Now querying \u0411\u0435\u043b\u043e\u0435..."
       ]
      },
      {
       "output_type": "stream",
       "stream": "stdout",
       "text": [
        "\n",
        "\u0411\u0435\u043b\u043e\u0435 was found"
       ]
      },
      {
       "output_type": "stream",
       "stream": "stdout",
       "text": [
        "\n",
        "Now querying \u0411\u0435\u043b\u043e\u0437\u0435\u0440\u0441\u043a..."
       ]
      },
      {
       "output_type": "stream",
       "stream": "stdout",
       "text": [
        "\n",
        "\u0411\u0435\u043b\u043e\u0437\u0435\u0440\u0441\u043a was found"
       ]
      },
      {
       "output_type": "stream",
       "stream": "stdout",
       "text": [
        "\n",
        "Now querying \u0411\u0435\u043b\u043e\u0437\u0435\u0440\u0441\u043a\u043e\u0439 \u041a\u0438\u0440\u0438\u043b\u043e\u0432..."
       ]
      },
      {
       "output_type": "stream",
       "stream": "stdout",
       "text": [
        "\n",
        "Querying alternate name \u0411\u0435\u043b\u043e\u0437\u0435\u0440\u0441\u043a\u043e\u0439 \u041a\u0438\u0440\u0438\u043b\u043e\u0432\u043e"
       ]
      },
      {
       "output_type": "stream",
       "stream": "stdout",
       "text": [
        "\n",
        "Querying alternate name \u0411\u0435\u043b\u043e\u0437\u0435\u0440\u0441\u043a\u0438\u0439 \u041a\u0438\u0440\u0438\u043b\u043e\u0432"
       ]
      },
      {
       "output_type": "stream",
       "stream": "stdout",
       "text": [
        "\n",
        "Now querying \u0411\u0435\u043b\u043e\u0439..."
       ]
      },
      {
       "output_type": "stream",
       "stream": "stdout",
       "text": [
        "\n",
        "Querying alternate name \u0411\u0435\u043b\u0438\u0439"
       ]
      },
      {
       "output_type": "stream",
       "stream": "stdout",
       "text": [
        "\n",
        "Now querying \u0411\u0435\u043b\u043e\u043a\u0443\u0440\u0438\u043d\u0430..."
       ]
      },
      {
       "output_type": "stream",
       "stream": "stdout",
       "text": [
        "\n",
        "Now querying \u0411\u0435\u043b\u043e\u043f\u043e\u043b\u044c\u0435..."
       ]
      },
      {
       "output_type": "stream",
       "stream": "stdout",
       "text": [
        "\n",
        "\u0411\u0435\u043b\u043e\u043f\u043e\u043b\u044c\u0435 was found"
       ]
      },
      {
       "output_type": "stream",
       "stream": "stdout",
       "text": [
        "\n",
        "Now querying \u0411\u0435\u043b\u043e\u0446\u0435\u0440\u043a\u043e\u0432\u043a\u0430..."
       ]
      },
      {
       "output_type": "stream",
       "stream": "stdout",
       "text": [
        "\n",
        "Now querying \u0411\u0435\u043b\u044b\u043d\u0438\u0447\u0438..."
       ]
      },
      {
       "output_type": "stream",
       "stream": "stdout",
       "text": [
        "\n",
        "\u0411\u0435\u043b\u044b\u043d\u0438\u0447\u0438 was found"
       ]
      },
      {
       "output_type": "stream",
       "stream": "stdout",
       "text": [
        "\n",
        "Now querying \u0412\u0430\u043b\u0434\u0430\u0439..."
       ]
      },
      {
       "output_type": "stream",
       "stream": "stdout",
       "text": [
        "\n",
        "\u0412\u0430\u043b\u0434\u0430\u0439 was found"
       ]
      },
      {
       "output_type": "stream",
       "stream": "stdout",
       "text": [
        "\n",
        "Now querying \u0412\u0430\u043b\u043a\u0438..."
       ]
      },
      {
       "output_type": "stream",
       "stream": "stdout",
       "text": [
        "\n",
        "\u0412\u0430\u043b\u043a\u0438 was found"
       ]
      },
      {
       "output_type": "stream",
       "stream": "stdout",
       "text": [
        "\n",
        "Now querying \u0412\u0430\u043b\u0443\u0439\u043a\u0438..."
       ]
      },
      {
       "output_type": "stream",
       "stream": "stdout",
       "text": [
        "\n",
        "\u0412\u0430\u043b\u0443\u0439\u043a\u0438 was found"
       ]
      },
      {
       "output_type": "stream",
       "stream": "stdout",
       "text": [
        "\n",
        "Now querying \u0412\u0430\u0440\u0432\u0430..."
       ]
      },
      {
       "output_type": "stream",
       "stream": "stdout",
       "text": [
        "\n",
        "\u0412\u0430\u0440\u0432\u0430 was found"
       ]
      },
      {
       "output_type": "stream",
       "stream": "stdout",
       "text": [
        "\n",
        "Now querying \u0411\u0430\u0440\u043a\u043e\u0432..."
       ]
      },
      {
       "output_type": "stream",
       "stream": "stdout",
       "text": [
        "\n",
        "Querying alternate name \u0411\u0430\u0440\u043a\u043e\u0432\u043e"
       ]
      },
      {
       "output_type": "stream",
       "stream": "stdout",
       "text": [
        "\n",
        "Now querying \u0412\u0430\u0448\u043a\u0430..."
       ]
      },
      {
       "output_type": "stream",
       "stream": "stdout",
       "text": [
        "\n",
        "\u0412\u0430\u0448\u043a\u0430 was found"
       ]
      },
      {
       "output_type": "stream",
       "stream": "stdout",
       "text": [
        "\n",
        "Now querying \u0412\u0435\u0439\u0434\u0435\u043b\u0435\u0432\u043a\u0430..."
       ]
      },
      {
       "output_type": "stream",
       "stream": "stdout",
       "text": [
        "\n",
        "\u0412\u0435\u0439\u0434\u0435\u043b\u0435\u0432\u043a\u0430 was found"
       ]
      },
      {
       "output_type": "stream",
       "stream": "stdout",
       "text": [
        "\n",
        "Now querying \u0412\u0435\u043b\u0438\u0436..."
       ]
      },
      {
       "output_type": "stream",
       "stream": "stdout",
       "text": [
        "\n",
        "\u0412\u0435\u043b\u0438\u0436 was found"
       ]
      },
      {
       "output_type": "stream",
       "stream": "stdout",
       "text": [
        "\n",
        "Now querying \u0412\u0435\u043b\u0438\u043a\u043e\u0435..."
       ]
      },
      {
       "output_type": "stream",
       "stream": "stdout",
       "text": [
        "\n",
        "\u0412\u0435\u043b\u0438\u043a\u043e\u0435 was found"
       ]
      },
      {
       "output_type": "stream",
       "stream": "stdout",
       "text": [
        "\n",
        "Now querying \u0412\u0435\u043d\u0434\u0435\u043d..."
       ]
      },
      {
       "output_type": "stream",
       "stream": "stdout",
       "text": [
        "\n",
        "\u0412\u0435\u043d\u0434\u0435\u043d was found"
       ]
      },
      {
       "output_type": "stream",
       "stream": "stdout",
       "text": [
        "\n",
        "Now querying \u0412\u0435\u043d\u0435\u0432..."
       ]
      },
      {
       "output_type": "stream",
       "stream": "stdout",
       "text": [
        "\n",
        "\u0412\u0435\u043d\u0435\u0432 was found"
       ]
      },
      {
       "output_type": "stream",
       "stream": "stdout",
       "text": [
        "\n",
        "Now querying \u0412\u0435\u043d\u0435\u0432\u0441\u043a\u043e\u0439 \u041d\u0438\u043a\u043e\u043b\u0430\u0435\u0432\u0441\u043a\u043e\u0439..."
       ]
      },
      {
       "output_type": "stream",
       "stream": "stdout",
       "text": [
        "\n",
        "Querying alternate name \u0412\u0435\u043d\u0435\u0432\u0441\u043a\u0438\u0439 \u041d\u0438\u043a\u043e\u043b\u0430\u0435\u0432\u0441\u043a\u0438\u0439"
       ]
      },
      {
       "output_type": "stream",
       "stream": "stdout",
       "text": [
        "\n",
        "Now querying \u0412\u0435\u043f\u0440\u0438\u043a..."
       ]
      },
      {
       "output_type": "stream",
       "stream": "stdout",
       "text": [
        "\n",
        "\u0412\u0435\u043f\u0440\u0438\u043a was found"
       ]
      },
      {
       "output_type": "stream",
       "stream": "stdout",
       "text": [
        "\n",
        "Now querying \u0412\u0435\u0440\u0435\u044f..."
       ]
      },
      {
       "output_type": "stream",
       "stream": "stdout",
       "text": [
        "\n",
        "\u0412\u0435\u0440\u0435\u044f was found"
       ]
      },
      {
       "output_type": "stream",
       "stream": "stdout",
       "text": [
        "\n",
        "Now querying \u0412\u0435\u0440\u0445\u043d\u0438\u0439 \u0423\u0434\u0438\u043d\u0441\u043a..."
       ]
      },
      {
       "output_type": "stream",
       "stream": "stdout",
       "text": [
        "\n",
        "Querying alternate name \u0412\u0435\u0440\u0445\u043d\u0438\u0439 \u0423\u0434\u0438\u043d"
       ]
      },
      {
       "output_type": "stream",
       "stream": "stdout",
       "text": [
        "\n",
        "Now querying \u0412\u0435\u0440\u0445\u043e\u0432\u0430\u0436\u0441\u043a\u043e\u0439..."
       ]
      },
      {
       "output_type": "stream",
       "stream": "stdout",
       "text": [
        "\n",
        "Querying alternate name \u0412\u0435\u0440\u0445\u043e\u0432\u0430\u0436\u0441\u043a\u0438\u0439"
       ]
      },
      {
       "output_type": "stream",
       "stream": "stdout",
       "text": [
        "\n",
        "Now querying \u0412\u0435\u0441\u0438\u0435\u0433\u043e\u043d\u0441\u043a..."
       ]
      },
      {
       "output_type": "stream",
       "stream": "stdout",
       "text": [
        "\n",
        "\u0412\u0435\u0441\u0438\u0435\u0433\u043e\u043d\u0441\u043a was found"
       ]
      },
      {
       "output_type": "stream",
       "stream": "stdout",
       "text": [
        "\n",
        "Now querying \u0412\u0438\u043b\u044c\u043c\u0430\u043d\u0441\u0442\u0440\u0430\u043d\u0434..."
       ]
      },
      {
       "output_type": "stream",
       "stream": "stdout",
       "text": [
        "\n",
        "Now querying \u0412\u0438\u043b\u044e\u0439\u0441\u043a\u043e\u0435 \u0412\u0435\u0440\u0445\u043d\u0435\u0435..."
       ]
      },
      {
       "output_type": "stream",
       "stream": "stdout",
       "text": [
        "\n",
        "Now querying \u0412\u043e\u0435\u0432\u043e\u0434\u0441\u043a\u043e\u0435..."
       ]
      },
      {
       "output_type": "stream",
       "stream": "stdout",
       "text": [
        "\n",
        "\u0412\u043e\u0435\u0432\u043e\u0434\u0441\u043a\u043e\u0435 was found"
       ]
      },
      {
       "output_type": "stream",
       "stream": "stdout",
       "text": [
        "\n",
        "Now querying \u0412\u043e\u0437\u043d\u0435\u0441\u0435\u043d\u0441\u043a\u043e\u0439..."
       ]
      },
      {
       "output_type": "stream",
       "stream": "stdout",
       "text": [
        "\n",
        "Querying alternate name \u0412\u043e\u0437\u043d\u0435\u0441\u0435\u043d\u0441\u043a\u0438\u0439"
       ]
      },
      {
       "output_type": "stream",
       "stream": "stdout",
       "text": [
        "\n",
        "Now querying \u0412\u043e\u043b\u043c\u0430\u0440..."
       ]
      },
      {
       "output_type": "stream",
       "stream": "stdout",
       "text": [
        "\n",
        "\u0412\u043e\u043b\u043c\u0430\u0440 was found"
       ]
      },
      {
       "output_type": "stream",
       "stream": "stdout",
       "text": [
        "\n",
        "Now querying \u0412\u043e\u043b\u043e\u0434\u0438\u043c\u0435\u0440\u0435\u0446..."
       ]
      },
      {
       "output_type": "stream",
       "stream": "stdout",
       "text": [
        "\n",
        "Now querying \u0412\u043e\u043b\u043e\u043a\u043e\u043b\u0430\u043c\u0441\u043a..."
       ]
      },
      {
       "output_type": "stream",
       "stream": "stdout",
       "text": [
        "\n",
        "\u0412\u043e\u043b\u043e\u043a\u043e\u043b\u0430\u043c\u0441\u043a was found"
       ]
      },
      {
       "output_type": "stream",
       "stream": "stdout",
       "text": [
        "\n",
        "Now querying \u0412\u043e\u043b\u043e\u043a\u043e\u043f\u0438\u043d\u0435\u0436\u0441\u043a\u0430\u044f..."
       ]
      },
      {
       "output_type": "stream",
       "stream": "stdout",
       "text": [
        "\n",
        "Now querying \u0412\u043e\u043b\u0441\u043a..."
       ]
      },
      {
       "output_type": "stream",
       "stream": "stdout",
       "text": [
        "\n",
        "\u0412\u043e\u043b\u0441\u043a was found"
       ]
      },
      {
       "output_type": "stream",
       "stream": "stdout",
       "text": [
        "\n",
        "Now querying \u0412\u043e\u043b\u0447\u044c\u044f..."
       ]
      },
      {
       "output_type": "stream",
       "stream": "stdout",
       "text": [
        "\n",
        "\u0412\u043e\u043b\u0447\u044c\u044f was found"
       ]
      },
      {
       "output_type": "stream",
       "stream": "stdout",
       "text": [
        "\n",
        "Now querying \u0412\u043e\u043b\u044b\u043d\u0446\u044b..."
       ]
      },
      {
       "output_type": "stream",
       "stream": "stdout",
       "text": [
        "\n",
        "\u0412\u043e\u043b\u044b\u043d\u0446\u044b was found"
       ]
      },
      {
       "output_type": "stream",
       "stream": "stdout",
       "text": [
        "\n",
        "Now querying \u0412\u043e\u043b\u044c\u043d\u0430\u044f..."
       ]
      },
      {
       "output_type": "stream",
       "stream": "stdout",
       "text": [
        "\n",
        "Now querying \u0412\u043e\u0440\u043e\u043d\u0435\u0436..."
       ]
      },
      {
       "output_type": "stream",
       "stream": "stdout",
       "text": [
        "\n",
        "\u0412\u043e\u0440\u043e\u043d\u0435\u0436 was found"
       ]
      },
      {
       "output_type": "stream",
       "stream": "stdout",
       "text": [
        "\n",
        "Now querying \u0412\u043e\u0440\u043e\u043d\u0435\u0436..."
       ]
      },
      {
       "output_type": "stream",
       "stream": "stdout",
       "text": [
        "\n",
        "\u0412\u043e\u0440\u043e\u043d\u0435\u0436 was found"
       ]
      },
      {
       "output_type": "stream",
       "stream": "stdout",
       "text": [
        "\n",
        "Now querying \u0412\u043e\u0440\u043e\u043d\u043a\u043e\u0432..."
       ]
      },
      {
       "output_type": "stream",
       "stream": "stdout",
       "text": [
        "\n",
        "\u0412\u043e\u0440\u043e\u043d\u043a\u043e\u0432 was found"
       ]
      },
      {
       "output_type": "stream",
       "stream": "stdout",
       "text": [
        "\n",
        "Now querying \u0412\u043e\u0440\u043e\u043d\u0446\u043e\u0432\u043a\u0430..."
       ]
      },
      {
       "output_type": "stream",
       "stream": "stdout",
       "text": [
        "\n",
        "\u0412\u043e\u0440\u043e\u043d\u0446\u043e\u0432\u043a\u0430 was found"
       ]
      },
      {
       "output_type": "stream",
       "stream": "stdout",
       "text": [
        "\n",
        "Now querying \u0412\u043e\u0441\u043a\u0440\u0435\u0441\u0435\u043d\u0441\u043a..."
       ]
      },
      {
       "output_type": "stream",
       "stream": "stdout",
       "text": [
        "\n",
        "\u0412\u043e\u0441\u043a\u0440\u0435\u0441\u0435\u043d\u0441\u043a was found"
       ]
      },
      {
       "output_type": "stream",
       "stream": "stdout",
       "text": [
        "\n",
        "Now querying \u0412\u0440\u0435\u0432..."
       ]
      },
      {
       "output_type": "stream",
       "stream": "stdout",
       "text": [
        "\n",
        "\u0412\u0440\u0435\u0432 was found"
       ]
      },
      {
       "output_type": "stream",
       "stream": "stdout",
       "text": [
        "\n",
        "Now querying \u0412\u044b\u0431\u043e\u0440..."
       ]
      },
      {
       "output_type": "stream",
       "stream": "stdout",
       "text": [
        "\n",
        "\u0412\u044b\u0431\u043e\u0440 was found"
       ]
      },
      {
       "output_type": "stream",
       "stream": "stdout",
       "text": [
        "\n",
        "Now querying \u0412\u044b\u0431\u043e\u0440\u0433..."
       ]
      },
      {
       "output_type": "stream",
       "stream": "stdout",
       "text": [
        "\n",
        "\u0412\u044b\u0431\u043e\u0440\u0433 was found"
       ]
      },
      {
       "output_type": "stream",
       "stream": "stdout",
       "text": [
        "\n",
        "Now querying \u0412\u044b\u0441\u043e\u043a\u043e\u0435..."
       ]
      },
      {
       "output_type": "stream",
       "stream": "stdout",
       "text": [
        "\n",
        "\u0412\u044b\u0441\u043e\u043a\u043e\u0435 was found"
       ]
      },
      {
       "output_type": "stream",
       "stream": "stdout",
       "text": [
        "\n",
        "Now querying \u0412\u044b\u0441\u043e\u043a\u043e\u0435..."
       ]
      },
      {
       "output_type": "stream",
       "stream": "stdout",
       "text": [
        "\n",
        "\u0412\u044b\u0441\u043e\u043a\u043e\u0435 was found"
       ]
      },
      {
       "output_type": "stream",
       "stream": "stdout",
       "text": [
        "\n",
        "Now querying \u0412\u044b\u0442\u0435\u0433\u0440\u0430..."
       ]
      },
      {
       "output_type": "stream",
       "stream": "stdout",
       "text": [
        "\n",
        "\u0412\u044b\u0442\u0435\u0433\u0440\u0430 was found"
       ]
      },
      {
       "output_type": "stream",
       "stream": "stdout",
       "text": [
        "\n",
        "Now querying \u0412\u044c\u0438\u0447\u0443\u0433\u0430..."
       ]
      },
      {
       "output_type": "stream",
       "stream": "stdout",
       "text": [
        "\n",
        "Now querying \u0412\u044b\u0448\u0433\u043e\u0440\u043e\u0434..."
       ]
      },
      {
       "output_type": "stream",
       "stream": "stdout",
       "text": [
        "\n",
        "Now querying \u0412\u044b\u0448\u0433\u043e\u0440\u043e\u0434..."
       ]
      },
      {
       "output_type": "stream",
       "stream": "stdout",
       "text": [
        "\n",
        "\u0412\u044b\u0448\u0433\u043e\u0440\u043e\u0434 was found"
       ]
      },
      {
       "output_type": "stream",
       "stream": "stdout",
       "text": [
        "\n",
        "Now querying \u0412\u044b\u0448\u043d\u0438\u0439 \u0412\u043e\u043b\u043e\u0447\u043e\u043a..."
       ]
      },
      {
       "output_type": "stream",
       "stream": "stdout",
       "text": [
        "\n",
        "Now querying \u0412\u0435\u0442\u043a\u0430..."
       ]
      },
      {
       "output_type": "stream",
       "stream": "stdout",
       "text": [
        "\n",
        "\u0412\u0435\u0442\u043a\u0430 was found"
       ]
      },
      {
       "output_type": "stream",
       "stream": "stdout",
       "text": [
        "\n",
        "Now querying \u0412\u0435\u0442\u043a\u0430..."
       ]
      },
      {
       "output_type": "stream",
       "stream": "stdout",
       "text": [
        "\n",
        "\u0412\u0435\u0442\u043a\u0430 was found"
       ]
      },
      {
       "output_type": "stream",
       "stream": "stdout",
       "text": [
        "\n",
        "Now querying \u0412\u044f\u0437\u043d\u0438\u043a\u0438..."
       ]
      },
      {
       "output_type": "stream",
       "stream": "stdout",
       "text": [
        "\n",
        "\u0412\u044f\u0437\u043d\u0438\u043a\u0438 was found"
       ]
      },
      {
       "output_type": "stream",
       "stream": "stdout",
       "text": [
        "\n",
        "Now querying \u0412\u044f\u0437\u043e\u0432\u043d\u0430..."
       ]
      },
      {
       "output_type": "stream",
       "stream": "stdout",
       "text": [
        "\n",
        "Now querying \u0413\u0430\u0431\u0437\u0430\u043b\u044c..."
       ]
      },
      {
       "output_type": "stream",
       "stream": "stdout",
       "text": [
        "\n",
        "Now querying \u0413\u0430\u0432\u0440\u0438\u043b\u043e\u0432\u0430..."
       ]
      },
      {
       "output_type": "stream",
       "stream": "stdout",
       "text": [
        "\n",
        "\u0413\u0430\u0432\u0440\u0438\u043b\u043e\u0432\u0430 was found"
       ]
      },
      {
       "output_type": "stream",
       "stream": "stdout",
       "text": [
        "\n",
        "Now querying \u0413\u0430\u0433\u0430\u0440\u0438\u043d\u043e..."
       ]
      },
      {
       "output_type": "stream",
       "stream": "stdout",
       "text": [
        "\n",
        "\u0413\u0430\u0433\u0430\u0440\u0438\u043d\u043e was found"
       ]
      },
      {
       "output_type": "stream",
       "stream": "stdout",
       "text": [
        "\n",
        "Now querying \u0413\u0430\u0434\u044f\u0447\u044c..."
       ]
      },
      {
       "output_type": "stream",
       "stream": "stdout",
       "text": [
        "\n",
        "\u0413\u0430\u0434\u044f\u0447\u044c was found"
       ]
      },
      {
       "output_type": "stream",
       "stream": "stdout",
       "text": [
        "\n",
        "Now querying \u0413\u0430\u043b\u044f\u043d\u0438..."
       ]
      },
      {
       "output_type": "stream",
       "stream": "stdout",
       "text": [
        "\n",
        "Now querying \u0413\u0430\u0442\u043d\u0438\u0446\u044b..."
       ]
      },
      {
       "output_type": "stream",
       "stream": "stdout",
       "text": [
        "\n",
        "Now querying \u0413\u0434\u043e\u0432..."
       ]
      },
      {
       "output_type": "stream",
       "stream": "stdout",
       "text": [
        "\n",
        "\u0413\u0434\u043e\u0432 was found"
       ]
      },
      {
       "output_type": "stream",
       "stream": "stdout",
       "text": [
        "\n",
        "Now querying \u0413\u0435\u043d\u043d\u0430\u0434\u0438\u0435\u0432..."
       ]
      },
      {
       "output_type": "stream",
       "stream": "stdout",
       "text": [
        "\n",
        "Querying alternate name \u0413\u0435\u043d\u043d\u0430\u0434\u0438\u0435\u0432\u043e"
       ]
      },
      {
       "output_type": "stream",
       "stream": "stdout",
       "text": [
        "\n",
        "Now querying \u0413\u0435\u0440\u043c\u0430\u043d\u043e\u0432\u0430..."
       ]
      },
      {
       "output_type": "stream",
       "stream": "stdout",
       "text": [
        "\n",
        "Now querying \u0413\u0436\u0430\u0442\u044c..."
       ]
      },
      {
       "output_type": "stream",
       "stream": "stdout",
       "text": [
        "\n",
        "Now querying \u0413\u043b\u0435\u043c\u044f\u0437\u043e\u0432..."
       ]
      },
      {
       "output_type": "stream",
       "stream": "stdout",
       "text": [
        "\n",
        "Querying alternate name \u0413\u043b\u0435\u043c\u044f\u0437\u043e\u0432\u043e"
       ]
      },
      {
       "output_type": "stream",
       "stream": "stdout",
       "text": [
        "\n",
        "Now querying \u0413\u043b\u0438\u043d\u0441\u043a..."
       ]
      },
      {
       "output_type": "stream",
       "stream": "stdout",
       "text": [
        "\n",
        "\u0413\u043b\u0438\u043d\u0441\u043a was found"
       ]
      },
      {
       "output_type": "stream",
       "stream": "stdout",
       "text": [
        "\n",
        "Now querying \u0413\u043b\u0438\u043d\u0441\u043a..."
       ]
      },
      {
       "output_type": "stream",
       "stream": "stdout",
       "text": [
        "\n",
        "\u0413\u043b\u0438\u043d\u0441\u043a was found"
       ]
      },
      {
       "output_type": "stream",
       "stream": "stdout",
       "text": [
        "\n",
        "Now querying \u0413\u043b\u0443\u0445\u043e\u0432..."
       ]
      },
      {
       "output_type": "stream",
       "stream": "stdout",
       "text": [
        "\n",
        "\u0413\u043b\u0443\u0445\u043e\u0432 was found"
       ]
      },
      {
       "output_type": "stream",
       "stream": "stdout",
       "text": [
        "\n",
        "Now querying \u0413\u043b\u0443\u0448\u0438\u0446\u043a\u043e\u0439..."
       ]
      },
      {
       "output_type": "stream",
       "stream": "stdout",
       "text": [
        "\n",
        "Querying alternate name \u0413\u043b\u0443\u0448\u0438\u0446\u043a\u0438\u0439"
       ]
      },
      {
       "output_type": "stream",
       "stream": "stdout",
       "text": [
        "\n",
        "\u0413\u043b\u0443\u0448\u0438\u0446\u043a\u043e\u0439 was found querying with alternate spelling \u0413\u043b\u0443\u0448\u0438\u0446\u043a\u0438\u0439"
       ]
      },
      {
       "output_type": "stream",
       "stream": "stdout",
       "text": [
        "\n",
        "Now querying \u0413\u043b\u0435\u0431\u043e\u0432\u043e..."
       ]
      },
      {
       "output_type": "stream",
       "stream": "stdout",
       "text": [
        "\n",
        "\u0413\u043b\u0435\u0431\u043e\u0432\u043e was found"
       ]
      },
      {
       "output_type": "stream",
       "stream": "stdout",
       "text": [
        "\n",
        "Now querying \u0413\u043d\u0438\u043b\u044c\u0441\u043a\u043e\u0439..."
       ]
      },
      {
       "output_type": "stream",
       "stream": "stdout",
       "text": [
        "\n",
        "Querying alternate name \u0413\u043d\u0438\u043b\u044c\u0441\u043a\u0438\u0439"
       ]
      },
      {
       "output_type": "stream",
       "stream": "stdout",
       "text": [
        "\n",
        "Now querying \u0413\u043e\u0433\u043e\u043b\u0435\u0432..."
       ]
      },
      {
       "output_type": "stream",
       "stream": "stdout",
       "text": [
        "\n",
        "\u0413\u043e\u0433\u043e\u043b\u0435\u0432 was found"
       ]
      },
      {
       "output_type": "stream",
       "stream": "stdout",
       "text": [
        "\n",
        "Now querying \u0413\u043e\u043b\u0442\u0432\u0430..."
       ]
      },
      {
       "output_type": "stream",
       "stream": "stdout",
       "text": [
        "\n",
        "\u0413\u043e\u043b\u0442\u0432\u0430 was found"
       ]
      },
      {
       "output_type": "stream",
       "stream": "stdout",
       "text": [
        "\n",
        "Now querying \u0413\u043e\u043c\u0435\u043b\u044c..."
       ]
      },
      {
       "output_type": "stream",
       "stream": "stdout",
       "text": [
        "\n",
        "\u0413\u043e\u043c\u0435\u043b\u044c was found"
       ]
      },
      {
       "output_type": "stream",
       "stream": "stdout",
       "text": [
        "\n",
        "Now querying \u0413\u043e\u043c\u043b\u044f..."
       ]
      },
      {
       "output_type": "stream",
       "stream": "stdout",
       "text": [
        "\n",
        "Now querying \u0413\u043e\u0440\u0431\u0430\u0442\u043e\u0432..."
       ]
      },
      {
       "output_type": "stream",
       "stream": "stdout",
       "text": [
        "\n",
        "\u0413\u043e\u0440\u0431\u0430\u0442\u043e\u0432 was found"
       ]
      },
      {
       "output_type": "stream",
       "stream": "stdout",
       "text": [
        "\n",
        "Now querying \u0413\u043e\u0440\u0438\u0446\u044b..."
       ]
      },
      {
       "output_type": "stream",
       "stream": "stdout",
       "text": [
        "\n",
        "\u0413\u043e\u0440\u0438\u0446\u044b was found"
       ]
      },
      {
       "output_type": "stream",
       "stream": "stdout",
       "text": [
        "\n",
        "Now querying \u0413\u043e\u0440\u043a\u0438..."
       ]
      },
      {
       "output_type": "stream",
       "stream": "stdout",
       "text": [
        "\n",
        "\u0413\u043e\u0440\u043a\u0438 was found"
       ]
      },
      {
       "output_type": "stream",
       "stream": "stdout",
       "text": [
        "\n",
        "Now querying \u0413\u043e\u0440\u043e\u0434\u0438\u0449\u0435..."
       ]
      },
      {
       "output_type": "stream",
       "stream": "stdout",
       "text": [
        "\n",
        "\u0413\u043e\u0440\u043e\u0434\u0438\u0449\u0435 was found"
       ]
      },
      {
       "output_type": "stream",
       "stream": "stdout",
       "text": [
        "\n",
        "Now querying \u0413\u043e\u0440\u043e\u0434\u0438\u0449\u0435..."
       ]
      },
      {
       "output_type": "stream",
       "stream": "stdout",
       "text": [
        "\n",
        "\u0413\u043e\u0440\u043e\u0434\u0438\u0449\u0435 was found"
       ]
      },
      {
       "output_type": "stream",
       "stream": "stdout",
       "text": [
        "\n",
        "Now querying \u0413\u043e\u0440\u043e\u0434\u043d\u044f..."
       ]
      },
      {
       "output_type": "stream",
       "stream": "stdout",
       "text": [
        "\n",
        "\u0413\u043e\u0440\u043e\u0434\u043d\u044f was found"
       ]
      },
      {
       "output_type": "stream",
       "stream": "stdout",
       "text": [
        "\n",
        "Now querying \u0413\u043e\u0440\u043e\u0434\u043d\u044f..."
       ]
      },
      {
       "output_type": "stream",
       "stream": "stdout",
       "text": [
        "\n",
        "\u0413\u043e\u0440\u043e\u0434\u043d\u044f was found"
       ]
      },
      {
       "output_type": "stream",
       "stream": "stdout",
       "text": [
        "\n",
        "Now querying \u0413\u043e\u0440\u043e\u0434\u043e\u043a..."
       ]
      },
      {
       "output_type": "stream",
       "stream": "stdout",
       "text": [
        "\n",
        "\u0413\u043e\u0440\u043e\u0434\u043e\u043a was found"
       ]
      },
      {
       "output_type": "stream",
       "stream": "stdout",
       "text": [
        "\n",
        "Now querying \u0413\u043e\u0440\u043e\u0445\u043e\u0432\u0435\u0446..."
       ]
      },
      {
       "output_type": "stream",
       "stream": "stdout",
       "text": [
        "\n",
        "\u0413\u043e\u0440\u043e\u0445\u043e\u0432\u0435\u0446 was found"
       ]
      },
      {
       "output_type": "stream",
       "stream": "stdout",
       "text": [
        "\n",
        "Now querying \u0413\u043e\u0440\u043e\u0448\u0438\u043d..."
       ]
      },
      {
       "output_type": "stream",
       "stream": "stdout",
       "text": [
        "\n",
        "\u0413\u043e\u0440\u043e\u0448\u0438\u043d was found"
       ]
      },
      {
       "output_type": "stream",
       "stream": "stdout",
       "text": [
        "\n",
        "Now querying \u0413\u0440\u0435\u0431\u0435\u043d\u0438\u0448\u043a\u0438..."
       ]
      },
      {
       "output_type": "stream",
       "stream": "stdout",
       "text": [
        "\n",
        "Now querying \u0413\u0440\u0435\u043c\u044f\u0447\u0435\u0432..."
       ]
      },
      {
       "output_type": "stream",
       "stream": "stdout",
       "text": [
        "\n",
        "\u0413\u0440\u0435\u043c\u044f\u0447\u0435\u0432 was found"
       ]
      },
      {
       "output_type": "stream",
       "stream": "stdout",
       "text": [
        "\n",
        "Now querying \u0413\u0440\u0435\u043c\u044f\u0447\u044c..."
       ]
      },
      {
       "output_type": "stream",
       "stream": "stdout",
       "text": [
        "\n",
        "\u0413\u0440\u0435\u043c\u044f\u0447\u044c was found"
       ]
      },
      {
       "output_type": "stream",
       "stream": "stdout",
       "text": [
        "\n",
        "Now querying \u0413\u0440\u0438\u0442\u0447\u0438\u043d\u043e..."
       ]
      },
      {
       "output_type": "stream",
       "stream": "stdout",
       "text": [
        "\n",
        "\u0413\u0440\u0438\u0442\u0447\u0438\u043d\u043e was found"
       ]
      },
      {
       "output_type": "stream",
       "stream": "stdout",
       "text": [
        "\n",
        "Now querying \u0413\u0440\u0443\u043d\u044c..."
       ]
      },
      {
       "output_type": "stream",
       "stream": "stdout",
       "text": [
        "\n",
        "\u0413\u0440\u0443\u043d\u044c was found"
       ]
      },
      {
       "output_type": "stream",
       "stream": "stdout",
       "text": [
        "\n",
        "Now querying \u0413\u0440\u044f\u0437\u043d\u043e\u0435..."
       ]
      },
      {
       "output_type": "stream",
       "stream": "stdout",
       "text": [
        "\n",
        "\u0413\u0440\u044f\u0437\u043d\u043e\u0435 was found"
       ]
      },
      {
       "output_type": "stream",
       "stream": "stdout",
       "text": [
        "\n",
        "Now querying \u0413\u0440\u044f\u0437\u043e\u0432\u0435\u0446..."
       ]
      },
      {
       "output_type": "stream",
       "stream": "stdout",
       "text": [
        "\n",
        "\u0413\u0440\u044f\u0437\u043e\u0432\u0435\u0446 was found"
       ]
      },
      {
       "output_type": "stream",
       "stream": "stdout",
       "text": [
        "\n",
        "Now querying \u0413\u0443\u0441\u0442\u0438\u043d\u043e\u0432\u043e..."
       ]
      },
      {
       "output_type": "stream",
       "stream": "stdout",
       "text": [
        "\n",
        "Now querying \u0414\u0430\u0433\u0434\u0430..."
       ]
      },
      {
       "output_type": "stream",
       "stream": "stdout",
       "text": [
        "\n",
        "\u0414\u0430\u0433\u0434\u0430 was found"
       ]
      },
      {
       "output_type": "stream",
       "stream": "stdout",
       "text": [
        "\n",
        "Now querying \u0414\u0430\u0439\u043c\u0438\u043d\u043e..."
       ]
      },
      {
       "output_type": "stream",
       "stream": "stdout",
       "text": [
        "\n",
        "Now querying \u0414\u0430\u043b\u043c\u0430\u0442\u043e\u0432..."
       ]
      },
      {
       "output_type": "stream",
       "stream": "stdout",
       "text": [
        "\n",
        "Querying alternate name \u0414\u0430\u043b\u043c\u0430\u0442\u043e\u0432\u043e"
       ]
      },
      {
       "output_type": "stream",
       "stream": "stdout",
       "text": [
        "\n",
        "\u0414\u0430\u043b\u043c\u0430\u0442\u043e\u0432 was found querying with alternate spelling \u0414\u0430\u043b\u043c\u0430\u0442\u043e\u0432\u043e"
       ]
      },
      {
       "output_type": "stream",
       "stream": "stdout",
       "text": [
        "\n",
        "Now querying \u0414\u0432\u0443\u0440\u0435\u0447\u043d\u0430\u044f..."
       ]
      },
      {
       "output_type": "stream",
       "stream": "stdout",
       "text": [
        "\n",
        "\u0414\u0432\u0443\u0440\u0435\u0447\u043d\u0430\u044f was found"
       ]
      },
      {
       "output_type": "stream",
       "stream": "stdout",
       "text": [
        "\n",
        "Now querying \u0414\u0435\u0439\u043c\u0430\u043d\u043e\u0432\u043a\u0430..."
       ]
      },
      {
       "output_type": "stream",
       "stream": "stdout",
       "text": [
        "\n",
        "\u0414\u0435\u0439\u043c\u0430\u043d\u043e\u0432\u043a\u0430 was found"
       ]
      },
      {
       "output_type": "stream",
       "stream": "stdout",
       "text": [
        "\n",
        "Now querying \u0414\u0435\u043c\u0448\u0438\u043d\u0441\u043a..."
       ]
      },
      {
       "output_type": "stream",
       "stream": "stdout",
       "text": [
        "\n",
        "\u0414\u0435\u043c\u0448\u0438\u043d\u0441\u043a was found"
       ]
      },
      {
       "output_type": "stream",
       "stream": "stdout",
       "text": [
        "\n",
        "Now querying \u0414\u0435\u0440\u0433\u0430\u0447\u0438..."
       ]
      },
      {
       "output_type": "stream",
       "stream": "stdout",
       "text": [
        "\n",
        "\u0414\u0435\u0440\u0433\u0430\u0447\u0438 was found"
       ]
      },
      {
       "output_type": "stream",
       "stream": "stdout",
       "text": [
        "\n",
        "Now querying \u0414\u0435\u0440\u043a\u0443\u043b..."
       ]
      },
      {
       "output_type": "stream",
       "stream": "stdout",
       "text": [
        "\n",
        "\u0414\u0435\u0440\u043a\u0443\u043b was found"
       ]
      },
      {
       "output_type": "stream",
       "stream": "stdout",
       "text": [
        "\n",
        "Now querying \u0414\u0435\u0440\u043f\u0442..."
       ]
      },
      {
       "output_type": "stream",
       "stream": "stdout",
       "text": [
        "\n",
        "\u0414\u0435\u0440\u043f\u0442 was found"
       ]
      },
      {
       "output_type": "stream",
       "stream": "stdout",
       "text": [
        "\n",
        "Now querying \u0414\u0438\u043d\u0430\u0431\u0443\u0440\u0433..."
       ]
      },
      {
       "output_type": "stream",
       "stream": "stdout",
       "text": [
        "\n",
        "Now querying \u0414\u043c\u0438\u0442\u0440\u043e\u0432..."
       ]
      },
      {
       "output_type": "stream",
       "stream": "stdout",
       "text": [
        "\n",
        "\u0414\u043c\u0438\u0442\u0440\u043e\u0432 was found"
       ]
      },
      {
       "output_type": "stream",
       "stream": "stdout",
       "text": [
        "\n",
        "Now querying \u0414\u043c\u0438\u0442\u0440\u043e\u0432\u043a\u0430..."
       ]
      },
      {
       "output_type": "stream",
       "stream": "stdout",
       "text": [
        "\n",
        "\u0414\u043c\u0438\u0442\u0440\u043e\u0432\u043a\u0430 was found"
       ]
      },
      {
       "output_type": "stream",
       "stream": "stdout",
       "text": [
        "\n",
        "Now querying \u0414\u043c\u0438\u0442\u0440\u043e\u0432\u0441\u043a\u0430\u044f..."
       ]
      },
      {
       "output_type": "stream",
       "stream": "stdout",
       "text": [
        "\n",
        "Now querying \u0414\u043e\u0431\u0440\u0430\u044f..."
       ]
      },
      {
       "output_type": "stream",
       "stream": "stdout",
       "text": [
        "\n",
        "\u0414\u043e\u0431\u0440\u0430\u044f was found"
       ]
      },
      {
       "output_type": "stream",
       "stream": "stdout",
       "text": [
        "\n",
        "Now querying \u0414\u043e\u043c\u043d\u0438\u0446\u043a\u043e\u0439..."
       ]
      },
      {
       "output_type": "stream",
       "stream": "stdout",
       "text": [
        "\n",
        "Querying alternate name \u0414\u043e\u043c\u043d\u0438\u0446\u043a\u0438\u0439"
       ]
      },
      {
       "output_type": "stream",
       "stream": "stdout",
       "text": [
        "\n",
        "Now querying \u0414\u043e\u043d\u043a\u043e\u0432..."
       ]
      },
      {
       "output_type": "stream",
       "stream": "stdout",
       "text": [
        "\n",
        "Querying alternate name \u0414\u043e\u043d\u043a\u043e\u0432\u043e"
       ]
      },
      {
       "output_type": "stream",
       "stream": "stdout",
       "text": [
        "\n",
        "Now querying \u0414\u043e\u0440\u043e\u0433\u043e\u0431\u0443\u0436..."
       ]
      },
      {
       "output_type": "stream",
       "stream": "stdout",
       "text": [
        "\n",
        "\u0414\u043e\u0440\u043e\u0433\u043e\u0431\u0443\u0436 was found"
       ]
      },
      {
       "output_type": "stream",
       "stream": "stdout",
       "text": [
        "\n",
        "Now querying \u0414\u0440\u0438\u0446\u0430\u043d\u044b..."
       ]
      },
      {
       "output_type": "stream",
       "stream": "stdout",
       "text": [
        "\n",
        "Now querying \u0414\u0443\u0431\u0435\u0446\u043a\u043e\u0439..."
       ]
      },
      {
       "output_type": "stream",
       "stream": "stdout",
       "text": [
        "\n",
        "Querying alternate name \u0414\u0443\u0431\u0435\u0446\u043a\u0438\u0439"
       ]
      },
      {
       "output_type": "stream",
       "stream": "stdout",
       "text": [
        "\n",
        "Now querying \u0414\u0443\u0431\u043a\u043e\u0432..."
       ]
      },
      {
       "output_type": "stream",
       "stream": "stdout",
       "text": [
        "\n",
        "Querying alternate name \u0414\u0443\u0431\u043a\u043e\u0432\u043e"
       ]
      },
      {
       "output_type": "stream",
       "stream": "stdout",
       "text": [
        "\n",
        "\u0414\u0443\u0431\u043a\u043e\u0432 was found querying with alternate spelling \u0414\u0443\u0431\u043a\u043e\u0432\u043e"
       ]
      },
      {
       "output_type": "stream",
       "stream": "stdout",
       "text": [
        "\n",
        "Now querying \u0414\u0443\u0431\u043e\u0432\u043e\u0435..."
       ]
      },
      {
       "output_type": "stream",
       "stream": "stdout",
       "text": [
        "\n",
        "\u0414\u0443\u0431\u043e\u0432\u043e\u0435 was found"
       ]
      },
      {
       "output_type": "stream",
       "stream": "stdout",
       "text": [
        "\n",
        "Now querying \u0414\u0443\u0431\u0440\u043e\u0432\u043a\u0438..."
       ]
      },
      {
       "output_type": "stream",
       "stream": "stdout",
       "text": [
        "\n",
        "\u0414\u0443\u0431\u0440\u043e\u0432\u043a\u0438 was found"
       ]
      },
      {
       "output_type": "stream",
       "stream": "stdout",
       "text": [
        "\n",
        "Now querying \u0414\u0443\u0431\u0440\u043e\u0432\u043a\u0438..."
       ]
      },
      {
       "output_type": "stream",
       "stream": "stdout",
       "text": [
        "\n",
        "\u0414\u0443\u0431\u0440\u043e\u0432\u043a\u0438 was found"
       ]
      },
      {
       "output_type": "stream",
       "stream": "stdout",
       "text": [
        "\n",
        "Now querying \u0414\u0443\u0431\u0440\u043e\u0432\u043d\u0430..."
       ]
      },
      {
       "output_type": "stream",
       "stream": "stdout",
       "text": [
        "\n",
        "Now querying \u0414\u0443\u043a\u0448\u0442\u0438\u043b\u0430\u0433..."
       ]
      },
      {
       "output_type": "stream",
       "stream": "stdout",
       "text": [
        "\n",
        "Now querying \u0414\u0443\u043d\u0438\u043b\u043e\u0432\u043e..."
       ]
      },
      {
       "output_type": "stream",
       "stream": "stdout",
       "text": [
        "\n",
        "\u0414\u0443\u043d\u0438\u043b\u043e\u0432\u043e was found"
       ]
      },
      {
       "output_type": "stream",
       "stream": "stdout",
       "text": [
        "\n",
        "Now querying \u0414\u0443\u0445\u043e\u0432\u0449\u0438\u043d\u0430..."
       ]
      },
      {
       "output_type": "stream",
       "stream": "stdout",
       "text": [
        "\n",
        "\u0414\u0443\u0445\u043e\u0432\u0449\u0438\u043d\u0430 was found"
       ]
      },
      {
       "output_type": "stream",
       "stream": "stdout",
       "text": [
        "\n",
        "Now querying \u0414\u0443\u0448\u0430\u0442\u0438\u043d..."
       ]
      },
      {
       "output_type": "stream",
       "stream": "stdout",
       "text": [
        "\n",
        "\u0414\u0443\u0448\u0430\u0442\u0438\u043d was found"
       ]
      },
      {
       "output_type": "stream",
       "stream": "stdout",
       "text": [
        "\n",
        "Now querying \u0414\u0435\u0434\u0438\u043b\u043e\u0432..."
       ]
      },
      {
       "output_type": "stream",
       "stream": "stdout",
       "text": [
        "\n",
        "Querying alternate name \u0414\u0435\u0434\u0438\u043b\u043e\u0432\u043e"
       ]
      },
      {
       "output_type": "stream",
       "stream": "stdout",
       "text": [
        "\n",
        "\u0414\u0435\u0434\u0438\u043b\u043e\u0432 was found querying with alternate spelling \u0414\u0435\u0434\u0438\u043b\u043e\u0432\u043e"
       ]
      },
      {
       "output_type": "stream",
       "stream": "stdout",
       "text": [
        "\n",
        "Now querying \u0414\u0435\u0434\u0438\u043d\u043e\u0432\u043e..."
       ]
      },
      {
       "output_type": "stream",
       "stream": "stdout",
       "text": [
        "\n",
        "\u0414\u0435\u0434\u0438\u043d\u043e\u0432\u043e was found"
       ]
      },
      {
       "output_type": "stream",
       "stream": "stdout",
       "text": [
        "\n",
        "Now querying \u0415\u0433\u043e\u0440\u044c\u0435\u0432\u0441\u043a\u043e\u0435 \u0417\u0430\u0434\u043d\u0435\u0435..."
       ]
      },
      {
       "output_type": "stream",
       "stream": "stdout",
       "text": [
        "\n",
        "Now querying \u0415\u043a\u0430\u0442\u0435\u0440\u0438\u043d\u0438\u043d\u0441\u043a\u0430\u044f..."
       ]
      },
      {
       "output_type": "stream",
       "stream": "stdout",
       "text": [
        "\n",
        "Now querying \u0415\u043b\u0430\u0442\u043c\u0430..."
       ]
      },
      {
       "output_type": "stream",
       "stream": "stdout",
       "text": [
        "\n",
        "\u0415\u043b\u0430\u0442\u043c\u0430 was found"
       ]
      },
      {
       "output_type": "stream",
       "stream": "stdout",
       "text": [
        "\n",
        "Now querying \u0415\u043b\u0435\u0446..."
       ]
      },
      {
       "output_type": "stream",
       "stream": "stdout",
       "text": [
        "\n",
        "\u0415\u043b\u0435\u0446 was found"
       ]
      },
      {
       "output_type": "stream",
       "stream": "stdout",
       "text": [
        "\n",
        "Now querying \u0415\u043b\u0438\u043c\u0441\u043a\u043e\u0439..."
       ]
      },
      {
       "output_type": "stream",
       "stream": "stdout",
       "text": [
        "\n",
        "Querying alternate name \u0415\u043b\u0438\u043c\u0441\u043a\u0438\u0439"
       ]
      },
      {
       "output_type": "stream",
       "stream": "stdout",
       "text": [
        "\n",
        "Now querying \u0415\u043b\u0438\u0441\u0430\u0432\u0435\u0442\u044a-\u0413\u0440\u0430\u0434..."
       ]
      },
      {
       "output_type": "stream",
       "stream": "stdout",
       "text": [
        "\n",
        "Now querying \u0415\u043b\u043d\u0430..."
       ]
      },
      {
       "output_type": "stream",
       "stream": "stdout",
       "text": [
        "\n",
        "\u0415\u043b\u043d\u0430 was found"
       ]
      },
      {
       "output_type": "stream",
       "stream": "stdout",
       "text": [
        "\n",
        "Now querying \u0415\u043d\u0438\u0441\u0435\u0439\u0441\u043a..."
       ]
      },
      {
       "output_type": "stream",
       "stream": "stdout",
       "text": [
        "\n",
        "\u0415\u043d\u0438\u0441\u0435\u0439\u0441\u043a was found"
       ]
      },
      {
       "output_type": "stream",
       "stream": "stdout",
       "text": [
        "\n",
        "Now querying \u0415\u043f\u0438\u0444\u0430\u043d\u044c..."
       ]
      },
      {
       "output_type": "stream",
       "stream": "stdout",
       "text": [
        "\n",
        "\u0415\u043f\u0438\u0444\u0430\u043d\u044c was found"
       ]
      },
      {
       "output_type": "stream",
       "stream": "stdout",
       "text": [
        "\n",
        "Now querying \u0415\u0440\u0430\u0445\u0442\u0443\u0440\u0430..."
       ]
      },
      {
       "output_type": "stream",
       "stream": "stdout",
       "text": [
        "\n",
        "Now querying \u0415\u0440\u0435\u043c\u0435\u043d\u0446\u043e\u0432\u043e..."
       ]
      },
      {
       "output_type": "stream",
       "stream": "stdout",
       "text": [
        "\n",
        "Now querying \u0415\u0440\u0435\u043c\u0435\u0435\u0432\u043a\u0430..."
       ]
      },
      {
       "output_type": "stream",
       "stream": "stdout",
       "text": [
        "\n",
        "Now querying \u0415\u0441\u043a\u0435..."
       ]
      },
      {
       "output_type": "stream",
       "stream": "stdout",
       "text": [
        "\n",
        "Now querying \u0415\u0444\u0440\u0435\u043c\u043e\u0432..."
       ]
      },
      {
       "output_type": "stream",
       "stream": "stdout",
       "text": [
        "\n",
        "\u0415\u0444\u0440\u0435\u043c\u043e\u0432 was found"
       ]
      },
      {
       "output_type": "stream",
       "stream": "stdout",
       "text": [
        "\n",
        "Now querying \u0416\u0438\u0433\u0430\u043d\u0441\u043a..."
       ]
      },
      {
       "output_type": "stream",
       "stream": "stdout",
       "text": [
        "\n",
        "\u0416\u0438\u0433\u0430\u043d\u0441\u043a was found"
       ]
      },
      {
       "output_type": "stream",
       "stream": "stdout",
       "text": [
        "\n",
        "Now querying \u0416\u0438\u0437\u0434\u0440\u0430..."
       ]
      },
      {
       "output_type": "stream",
       "stream": "stdout",
       "text": [
        "\n",
        "\u0416\u0438\u0437\u0434\u0440\u0430 was found"
       ]
      },
      {
       "output_type": "stream",
       "stream": "stdout",
       "text": [
        "\n",
        "Now querying \u0416\u043e\u0432\u043d\u0438\u043d..."
       ]
      },
      {
       "output_type": "stream",
       "stream": "stdout",
       "text": [
        "\n",
        "Now querying \u0416\u0443\u0440\u0430\u0432\u0438\u0447\u0438..."
       ]
      },
      {
       "output_type": "stream",
       "stream": "stdout",
       "text": [
        "\n",
        "\u0416\u0443\u0440\u0430\u0432\u0438\u0447\u0438 was found"
       ]
      },
      {
       "output_type": "stream",
       "stream": "stdout",
       "text": [
        "\n",
        "Now querying \u0417\u0430\u0434\u0443\u0448\u043d\u043e\u0435..."
       ]
      },
      {
       "output_type": "stream",
       "stream": "stdout",
       "text": [
        "\n",
        "\u0417\u0430\u0434\u0443\u0448\u043d\u043e\u0435 was found"
       ]
      },
      {
       "output_type": "stream",
       "stream": "stdout",
       "text": [
        "\n",
        "Now querying \u0417\u0430\u043c\u043e\u0448\u044c\u0435..."
       ]
      },
      {
       "output_type": "stream",
       "stream": "stdout",
       "text": [
        "\n",
        "\u0417\u0430\u043c\u043e\u0448\u044c\u0435 was found"
       ]
      },
      {
       "output_type": "stream",
       "stream": "stdout",
       "text": [
        "\n",
        "Now querying \u0417\u0430\u0440\u0430\u0439\u0441\u043a..."
       ]
      },
      {
       "output_type": "stream",
       "stream": "stdout",
       "text": [
        "\n",
        "\u0417\u0430\u0440\u0430\u0439\u0441\u043a was found"
       ]
      },
      {
       "output_type": "stream",
       "stream": "stdout",
       "text": [
        "\n",
        "Now querying \u0417\u0430\u0440\u0443\u0431\u0438\u043d\u043e..."
       ]
      },
      {
       "output_type": "stream",
       "stream": "stdout",
       "text": [
        "\n",
        "\u0417\u0430\u0440\u0443\u0431\u0438\u043d\u043e was found"
       ]
      },
      {
       "output_type": "stream",
       "stream": "stdout",
       "text": [
        "\n",
        "Now querying \u0417\u0430\u0448\u0438\u0432\u0435\u0440\u0441\u043a..."
       ]
      },
      {
       "output_type": "stream",
       "stream": "stdout",
       "text": [
        "\n",
        "\u0417\u0430\u0448\u0438\u0432\u0435\u0440\u0441\u043a was found"
       ]
      },
      {
       "output_type": "stream",
       "stream": "stdout",
       "text": [
        "\n",
        "Now querying \u0417\u0432\u0435\u043d\u0438\u0433\u043e\u0440\u043e\u0434..."
       ]
      },
      {
       "output_type": "stream",
       "stream": "stdout",
       "text": [
        "\n",
        "\u0417\u0432\u0435\u043d\u0438\u0433\u043e\u0440\u043e\u0434 was found"
       ]
      },
      {
       "output_type": "stream",
       "stream": "stdout",
       "text": [
        "\n",
        "Now querying \u0417\u0435\u043c\u043b\u044f\u043d\u0441\u043a..."
       ]
      },
      {
       "output_type": "stream",
       "stream": "stdout",
       "text": [
        "\n",
        "\u0417\u0435\u043c\u043b\u044f\u043d\u0441\u043a was found"
       ]
      },
      {
       "output_type": "stream",
       "stream": "stdout",
       "text": [
        "\n",
        "Now querying \u0417\u0438\u043d\u043a\u043e\u0432..."
       ]
      },
      {
       "output_type": "stream",
       "stream": "stdout",
       "text": [
        "\n",
        "Querying alternate name \u0417\u0438\u043d\u043a\u043e\u0432\u043e"
       ]
      },
      {
       "output_type": "stream",
       "stream": "stdout",
       "text": [
        "\n",
        "Now querying \u0417\u043c\u0435\u0435\u0432\u0435..."
       ]
      },
      {
       "output_type": "stream",
       "stream": "stdout",
       "text": [
        "\n",
        "Now querying \u0417\u043c\u0435\u0442\u043d\u0435\u0432..."
       ]
      },
      {
       "output_type": "stream",
       "stream": "stdout",
       "text": [
        "\n",
        "\u0417\u043c\u0435\u0442\u043d\u0435\u0432 was found"
       ]
      },
      {
       "output_type": "stream",
       "stream": "stdout",
       "text": [
        "\n",
        "Now querying \u0417\u043e\u043b\u043e\u0442\u043e\u043d\u043e\u0448\u0430..."
       ]
      },
      {
       "output_type": "stream",
       "stream": "stdout",
       "text": [
        "\n",
        "\u0417\u043e\u043b\u043e\u0442\u043e\u043d\u043e\u0448\u0430 was found"
       ]
      },
      {
       "output_type": "stream",
       "stream": "stdout",
       "text": [
        "\n",
        "Now querying \u0417\u043e\u043b\u043e\u0447\u0435\u0432..."
       ]
      },
      {
       "output_type": "stream",
       "stream": "stdout",
       "text": [
        "\n",
        "\u0417\u043e\u043b\u043e\u0447\u0435\u0432 was found"
       ]
      },
      {
       "output_type": "stream",
       "stream": "stdout",
       "text": [
        "\n",
        "Now querying \u0417\u0443\u0431\u0446\u043e\u0432..."
       ]
      },
      {
       "output_type": "stream",
       "stream": "stdout",
       "text": [
        "\n",
        "\u0417\u0443\u0431\u0446\u043e\u0432 was found"
       ]
      },
      {
       "output_type": "stream",
       "stream": "stdout",
       "text": [
        "\n",
        "Now querying \u0418\u0432\u0430\u043d\u0433\u043e\u0440\u043e\u0434..."
       ]
      },
      {
       "output_type": "stream",
       "stream": "stdout",
       "text": [
        "\n",
        "\u0418\u0432\u0430\u043d\u0433\u043e\u0440\u043e\u0434 was found"
       ]
      },
      {
       "output_type": "stream",
       "stream": "stdout",
       "text": [
        "\n",
        "Now querying \u0418\u0432\u0430\u043d\u043e\u0432\u043a\u0430..."
       ]
      },
      {
       "output_type": "stream",
       "stream": "stdout",
       "text": [
        "\n",
        "\u0418\u0432\u0430\u043d\u043e\u0432\u043a\u0430 was found"
       ]
      },
      {
       "output_type": "stream",
       "stream": "stdout",
       "text": [
        "\n",
        "Now querying \u0418\u0432\u0430\u043d\u043e\u0432\u043a\u0430..."
       ]
      },
      {
       "output_type": "stream",
       "stream": "stdout",
       "text": [
        "\n",
        "\u0418\u0432\u0430\u043d\u043e\u0432\u043a\u0430 was found"
       ]
      },
      {
       "output_type": "stream",
       "stream": "stdout",
       "text": [
        "\n",
        "Now querying \u0418\u0432\u0430\u043d\u043e\u0432\u043e..."
       ]
      },
      {
       "output_type": "stream",
       "stream": "stdout",
       "text": [
        "\n",
        "\u0418\u0432\u0430\u043d\u043e\u0432\u043e was found"
       ]
      },
      {
       "output_type": "stream",
       "stream": "stdout",
       "text": [
        "\n",
        "Now querying \u0418\u0432\u0430\u043d\u043e\u0432\u043e..."
       ]
      },
      {
       "output_type": "stream",
       "stream": "stdout",
       "text": [
        "\n",
        "\u0418\u0432\u0430\u043d\u043e\u0432\u043e was found"
       ]
      },
      {
       "output_type": "stream",
       "stream": "stdout",
       "text": [
        "\n",
        "Now querying \u0418\u0432\u0430\u043d\u043e\u0432\u0441\u043a\u043e\u0435..."
       ]
      },
      {
       "output_type": "stream",
       "stream": "stdout",
       "text": [
        "\n",
        "\u0418\u0432\u0430\u043d\u043e\u0432\u0441\u043a\u043e\u0435 was found"
       ]
      },
      {
       "output_type": "stream",
       "stream": "stdout",
       "text": [
        "\n",
        "Now querying \u0418\u0432\u0430\u043d\u043e\u0432\u0441\u043a\u043e\u0435..."
       ]
      },
      {
       "output_type": "stream",
       "stream": "stdout",
       "text": [
        "\n",
        "\u0418\u0432\u0430\u043d\u043e\u0432\u0441\u043a\u043e\u0435 was found"
       ]
      },
      {
       "output_type": "stream",
       "stream": "stdout",
       "text": [
        "\n",
        "Now querying \u0418\u0432\u0430\u043d\u043e\u0432\u0441\u043a\u043e\u0435..."
       ]
      },
      {
       "output_type": "stream",
       "stream": "stdout",
       "text": [
        "\n",
        "\u0418\u0432\u0430\u043d\u043e\u0432\u0441\u043a\u043e\u0435 was found"
       ]
      },
      {
       "output_type": "stream",
       "stream": "stdout",
       "text": [
        "\n",
        "Now querying \u0418\u0432\u0430\u043d\u043e\u0432\u0446\u044b..."
       ]
      },
      {
       "output_type": "stream",
       "stream": "stdout",
       "text": [
        "\n",
        "Now querying \u0418\u0432\u0438\u0446\u0430..."
       ]
      },
      {
       "output_type": "stream",
       "stream": "stdout",
       "text": [
        "\n",
        "\u0418\u0432\u0438\u0446\u0430 was found"
       ]
      },
      {
       "output_type": "stream",
       "stream": "stdout",
       "text": [
        "\n",
        "Now querying \u0418\u0433\u0440\u0438\u0449\u0438..."
       ]
      },
      {
       "output_type": "stream",
       "stream": "stdout",
       "text": [
        "\n",
        "\u0418\u0433\u0440\u0438\u0449\u0438 was found"
       ]
      },
      {
       "output_type": "stream",
       "stream": "stdout",
       "text": [
        "\n",
        "Now querying \u0418\u0433\u0443\u043c\u043d\u043e\u0432\u043e..."
       ]
      },
      {
       "output_type": "stream",
       "stream": "stdout",
       "text": [
        "\n",
        "\u0418\u0433\u0443\u043c\u043d\u043e\u0432\u043e was found"
       ]
      },
      {
       "output_type": "stream",
       "stream": "stdout",
       "text": [
        "\n",
        "Now querying \u0418\u0437\u043c\u0430\u0439\u043b\u043e\u0432\u043e..."
       ]
      },
      {
       "output_type": "stream",
       "stream": "stdout",
       "text": [
        "\n",
        "\u0418\u0437\u043c\u0430\u0439\u043b\u043e\u0432\u043e was found"
       ]
      },
      {
       "output_type": "stream",
       "stream": "stdout",
       "text": [
        "\n",
        "Now querying \u0418\u0437\u044e\u043c..."
       ]
      },
      {
       "output_type": "stream",
       "stream": "stdout",
       "text": [
        "\n",
        "\u0418\u0437\u044e\u043c was found"
       ]
      },
      {
       "output_type": "stream",
       "stream": "stdout",
       "text": [
        "\n",
        "Now querying \u0418\u043b\u044c\u0438\u043d\u0441\u043a\u043e\u0435..."
       ]
      },
      {
       "output_type": "stream",
       "stream": "stdout",
       "text": [
        "\n",
        "\u0418\u043b\u044c\u0438\u043d\u0441\u043a\u043e\u0435 was found"
       ]
      },
      {
       "output_type": "stream",
       "stream": "stdout",
       "text": [
        "\n",
        "Now querying \u0418\u043d\u0436\u0430\u0432\u0435\u043d\u044c\u0435..."
       ]
      },
      {
       "output_type": "stream",
       "stream": "stdout",
       "text": [
        "\n",
        "Now querying \u0418\u043d\u0441\u0430\u0440\u0430..."
       ]
      },
      {
       "output_type": "stream",
       "stream": "stdout",
       "text": [
        "\n",
        "Now querying \u0418\u0440\u0431\u0438\u0442..."
       ]
      },
      {
       "output_type": "stream",
       "stream": "stdout",
       "text": [
        "\n",
        "\u0418\u0440\u0431\u0438\u0442 was found"
       ]
      },
      {
       "output_type": "stream",
       "stream": "stdout",
       "text": [
        "\n",
        "Now querying \u0418\u0440\u043a\u0443\u0442\u0441\u043a..."
       ]
      },
      {
       "output_type": "stream",
       "stream": "stdout",
       "text": [
        "\n",
        "\u0418\u0440\u043a\u0443\u0442\u0441\u043a was found"
       ]
      },
      {
       "output_type": "stream",
       "stream": "stdout",
       "text": [
        "\n",
        "Now querying \u0418\u0441\u0430..."
       ]
      },
      {
       "output_type": "stream",
       "stream": "stdout",
       "text": [
        "\n",
        "\u0418\u0441\u0430 was found"
       ]
      },
      {
       "output_type": "stream",
       "stream": "stdout",
       "text": [
        "\n",
        "Now querying \u0418\u0441\u0435\u0442\u0441\u043a\u0430\u044f..."
       ]
      },
      {
       "output_type": "stream",
       "stream": "stdout",
       "text": [
        "\n",
        "Now querying \u0418\u0441\u0442\u0430\u043b\u0435\u043d\u0430..."
       ]
      },
      {
       "output_type": "stream",
       "stream": "stdout",
       "text": [
        "\n",
        "Now querying \u0418\u0447\u043d\u0430..."
       ]
      },
      {
       "output_type": "stream",
       "stream": "stdout",
       "text": [
        "\n",
        "Now querying \u0418\u043e\u0441\u0438\u0444\u043e\u0432..."
       ]
      },
      {
       "output_type": "stream",
       "stream": "stdout",
       "text": [
        "\n",
        "Querying alternate name \u0418\u043e\u0441\u0438\u0444\u043e\u0432\u043e"
       ]
      },
      {
       "output_type": "stream",
       "stream": "stdout",
       "text": [
        "\n",
        "Now querying \u0418\u043e\u0441\u0438\u0444\u043e\u0432..."
       ]
      },
      {
       "output_type": "stream",
       "stream": "stdout",
       "text": [
        "\n",
        "Querying alternate name \u0418\u043e\u0441\u0438\u0444\u043e\u0432\u043e"
       ]
      },
      {
       "output_type": "stream",
       "stream": "stdout",
       "text": [
        "\n",
        "Now querying \u041a\u0430\u0434\u0438\u043d..."
       ]
      },
      {
       "output_type": "stream",
       "stream": "stdout",
       "text": [
        "\n",
        "Now querying \u041a\u0430\u0434\u043e\u043c..."
       ]
      },
      {
       "output_type": "stream",
       "stream": "stdout",
       "text": [
        "\n",
        "\u041a\u0430\u0434\u043e\u043c was found"
       ]
      },
      {
       "output_type": "stream",
       "stream": "stdout",
       "text": [
        "\n",
        "Now querying \u041a\u0430\u0437\u0430\u043d\u0441\u043a\u043e\u0439 \u0411\u043e\u0433\u043e\u0440\u043e\u0434\u0438\u0446\u043a\u043e\u0439..."
       ]
      },
      {
       "output_type": "stream",
       "stream": "stdout",
       "text": [
        "\n",
        "Querying alternate name \u041a\u0430\u0437\u0430\u043d\u0441\u043a\u0438\u0439 \u0411\u043e\u0433\u043e\u0440\u043e\u0434\u0438\u0446\u043a\u0438\u0439"
       ]
      },
      {
       "output_type": "stream",
       "stream": "stdout",
       "text": [
        "\n",
        "Now querying \u041a\u0430\u043b\u0438\u0431\u0435\u0440\u0434\u0430..."
       ]
      },
      {
       "output_type": "stream",
       "stream": "stdout",
       "text": [
        "\n",
        "\u041a\u0430\u043b\u0438\u0431\u0435\u0440\u0434\u0430 was found"
       ]
      },
      {
       "output_type": "stream",
       "stream": "stdout",
       "text": [
        "\n",
        "Now querying \u041a\u0430\u043b\u0438\u043d\u043a\u0438\u043d\u043e..."
       ]
      },
      {
       "output_type": "stream",
       "stream": "stdout",
       "text": [
        "\n",
        "\u041a\u0430\u043b\u0438\u043d\u043a\u0438\u043d\u043e was found"
       ]
      },
      {
       "output_type": "stream",
       "stream": "stdout",
       "text": [
        "\n",
        "Now querying \u041a\u0430\u043c\u0435\u043d\u0435\u0446..."
       ]
      },
      {
       "output_type": "stream",
       "stream": "stdout",
       "text": [
        "\n",
        "\u041a\u0430\u043c\u0435\u043d\u0435\u0446 was found"
       ]
      },
      {
       "output_type": "stream",
       "stream": "stdout",
       "text": [
        "\n",
        "Now querying \u041a\u0430\u043c\u0435\u043d\u043a\u0430..."
       ]
      },
      {
       "output_type": "stream",
       "stream": "stdout",
       "text": [
        "\n",
        "\u041a\u0430\u043c\u0435\u043d\u043a\u0430 was found"
       ]
      },
      {
       "output_type": "stream",
       "stream": "stdout",
       "text": [
        "\n",
        "Now querying \u041a\u0430\u043c\u044b\u0448\u043d\u044f..."
       ]
      },
      {
       "output_type": "stream",
       "stream": "stdout",
       "text": [
        "\n",
        "\u041a\u0430\u043c\u044b\u0448\u043d\u044f was found"
       ]
      },
      {
       "output_type": "stream",
       "stream": "stdout",
       "text": [
        "\n",
        "Now querying \u041a\u0430\u0440\u0430\u0441\u0443 - \u0411\u0430\u0437\u0430\u0440..."
       ]
      },
      {
       "output_type": "stream",
       "stream": "stdout",
       "text": [
        "\n",
        "Now querying \u041a\u0430\u0440\u043b\u043e\u0432\u043a\u0430..."
       ]
      },
      {
       "output_type": "stream",
       "stream": "stdout",
       "text": [
        "\n",
        "\u041a\u0430\u0440\u043b\u043e\u0432\u043a\u0430 was found"
       ]
      },
      {
       "output_type": "stream",
       "stream": "stdout",
       "text": [
        "\n",
        "Now querying \u041a\u0430\u0440\u043c..."
       ]
      },
      {
       "output_type": "stream",
       "stream": "stdout",
       "text": [
        "\n",
        "Now querying \u041a\u0430\u0440\u043e\u0447\u0430..."
       ]
      },
      {
       "output_type": "stream",
       "stream": "stdout",
       "text": [
        "\n",
        "Now querying \u041a\u0430\u0440\u043f\u043e\u0432\u043a\u0430..."
       ]
      },
      {
       "output_type": "stream",
       "stream": "stdout",
       "text": [
        "\n",
        "\u041a\u0430\u0440\u043f\u043e\u0432\u043a\u0430 was found"
       ]
      },
      {
       "output_type": "stream",
       "stream": "stdout",
       "text": [
        "\n",
        "Now querying \u041a\u0430\u0441\u0438\u043c\u043e\u0432..."
       ]
      },
      {
       "output_type": "stream",
       "stream": "stdout",
       "text": [
        "\n",
        "\u041a\u0430\u0441\u0438\u043c\u043e\u0432 was found"
       ]
      },
      {
       "output_type": "stream",
       "stream": "stdout",
       "text": [
        "\n",
        "Now querying \u041a\u0438\u0442\u0430\u0439\u0441\u043a\u043e\u0439..."
       ]
      },
      {
       "output_type": "stream",
       "stream": "stdout",
       "text": [
        "\n",
        "Querying alternate name \u041a\u0438\u0442\u0430\u0439\u0441\u043a\u0438\u0439"
       ]
      },
      {
       "output_type": "stream",
       "stream": "stdout",
       "text": [
        "\n",
        "\u041a\u0438\u0442\u0430\u0439\u0441\u043a\u043e\u0439 was found querying with alternate spelling \u041a\u0438\u0442\u0430\u0439\u0441\u043a\u0438\u0439"
       ]
      },
      {
       "output_type": "stream",
       "stream": "stdout",
       "text": [
        "\n",
        "Now querying \u041a\u0430\u0448\u0438\u043d..."
       ]
      },
      {
       "output_type": "stream",
       "stream": "stdout",
       "text": [
        "\n",
        "\u041a\u0430\u0448\u0438\u043d was found"
       ]
      },
      {
       "output_type": "stream",
       "stream": "stdout",
       "text": [
        "\n",
        "Now querying \u041a\u0435\u043c\u0430\u0440\u044b..."
       ]
      },
      {
       "output_type": "stream",
       "stream": "stdout",
       "text": [
        "\n",
        "\u041a\u0435\u043c\u0430\u0440\u044b was found"
       ]
      },
      {
       "output_type": "stream",
       "stream": "stdout",
       "text": [
        "\n",
        "Now querying \u041a\u0435\u0440\u0435\u043d\u0441\u043a..."
       ]
      },
      {
       "output_type": "stream",
       "stream": "stdout",
       "text": [
        "\n",
        "\u041a\u0435\u0440\u0435\u043d\u0441\u043a was found"
       ]
      },
      {
       "output_type": "stream",
       "stream": "stdout",
       "text": [
        "\n",
        "Now querying \u041a\u0435\u0441\u043c\u0435..."
       ]
      },
      {
       "output_type": "stream",
       "stream": "stdout",
       "text": [
        "\n",
        "Now querying \u041a\u0435\u0441\u043e\u0432\u0430 \u0413\u043e\u0440\u0430..."
       ]
      },
      {
       "output_type": "stream",
       "stream": "stdout",
       "text": [
        "\n",
        "\u041a\u0435\u0441\u043e\u0432\u0430 \u0413\u043e\u0440\u0430 was found"
       ]
      },
      {
       "output_type": "stream",
       "stream": "stdout",
       "text": [
        "\n",
        "Now querying \u041a\u0438\u0434\u0435\u0448\u043a\u0438\u043d\u043e..."
       ]
      },
      {
       "output_type": "stream",
       "stream": "stdout",
       "text": [
        "\n",
        "Now querying \u041a\u0438\u043c\u0440\u044b..."
       ]
      },
      {
       "output_type": "stream",
       "stream": "stdout",
       "text": [
        "\n",
        "\u041a\u0438\u043c\u0440\u044b was found"
       ]
      },
      {
       "output_type": "stream",
       "stream": "stdout",
       "text": [
        "\n",
        "Now querying \u041a\u0438\u043d\u0435\u0448\u043c\u0430..."
       ]
      },
      {
       "output_type": "stream",
       "stream": "stdout",
       "text": [
        "\n",
        "\u041a\u0438\u043d\u0435\u0448\u043c\u0430 was found"
       ]
      },
      {
       "output_type": "stream",
       "stream": "stdout",
       "text": [
        "\n",
        "Now querying \u041a\u0438\u0440\u0435\u043d\u0441\u043a..."
       ]
      },
      {
       "output_type": "stream",
       "stream": "stdout",
       "text": [
        "\n",
        "\u041a\u0438\u0440\u0435\u043d\u0441\u043a was found"
       ]
      },
      {
       "output_type": "stream",
       "stream": "stdout",
       "text": [
        "\n",
        "Now querying \u041a\u0438\u0440\u0438\u043b\u043e\u0432..."
       ]
      },
      {
       "output_type": "stream",
       "stream": "stdout",
       "text": [
        "\n",
        "Querying alternate name \u041a\u0438\u0440\u0438\u043b\u043e\u0432\u043e"
       ]
      },
      {
       "output_type": "stream",
       "stream": "stdout",
       "text": [
        "\n",
        "Now querying \u041a\u0438\u0440\u0438\u043b\u043e\u0435\u043e..."
       ]
      },
      {
       "output_type": "stream",
       "stream": "stdout",
       "text": [
        "\n",
        "Now querying \u041a\u0438\u0440\u0441\u0430\u043d\u043e\u0432..."
       ]
      },
      {
       "output_type": "stream",
       "stream": "stdout",
       "text": [
        "\n",
        "\u041a\u0438\u0440\u0441\u0430\u043d\u043e\u0432 was found"
       ]
      },
      {
       "output_type": "stream",
       "stream": "stdout",
       "text": [
        "\n",
        "Now querying \u041a\u0438\u0441\u0442\u0435\u0440..."
       ]
      },
      {
       "output_type": "stream",
       "stream": "stdout",
       "text": [
        "\n",
        "\u041a\u0438\u0441\u0442\u0435\u0440 was found"
       ]
      },
      {
       "output_type": "stream",
       "stream": "stdout",
       "text": [
        "\n",
        "Now querying \u041a\u0438\u0441\u0442\u0440\u0443\u0441\u0430..."
       ]
      },
      {
       "output_type": "stream",
       "stream": "stdout",
       "text": [
        "\n",
        "Now querying \u041a\u0438\u0442\u0430\u0439 - \u0413\u043e\u0440\u043e\u0434\u043e\u043a..."
       ]
      },
      {
       "output_type": "stream",
       "stream": "stdout",
       "text": [
        "\n",
        "Now querying \u041a\u0438\u0448\u0435\u043d\u044c\u043a\u0430..."
       ]
      },
      {
       "output_type": "stream",
       "stream": "stdout",
       "text": [
        "\n",
        "Now querying \u041a\u0438\u0430\u0441\u043e\u0432\u043a\u0430..."
       ]
      },
      {
       "output_type": "stream",
       "stream": "stdout",
       "text": [
        "\n",
        "Now querying \u041a\u0438\u0430\u0442\u0430..."
       ]
      },
      {
       "output_type": "stream",
       "stream": "stdout",
       "text": [
        "\n",
        "Now querying \u041a\u043b\u0438\u043d..."
       ]
      },
      {
       "output_type": "stream",
       "stream": "stdout",
       "text": [
        "\n",
        "\u041a\u043b\u0438\u043d was found"
       ]
      },
      {
       "output_type": "stream",
       "stream": "stdout",
       "text": [
        "\n",
        "Now querying \u041a\u043b\u044e\u0447\u0435\u0432\u0441\u043a\u0430\u044f..."
       ]
      },
      {
       "output_type": "stream",
       "stream": "stdout",
       "text": [
        "\n",
        "Now querying \u041a\u043d\u044f\u0433\u0438\u043d\u0438\u043d..."
       ]
      },
      {
       "output_type": "stream",
       "stream": "stdout",
       "text": [
        "\n",
        "Now querying \u041a\u043e\u0431\u044b\u0437\u0447\u0430..."
       ]
      },
      {
       "output_type": "stream",
       "stream": "stdout",
       "text": [
        "\n",
        "Now querying \u041a\u043e\u0431\u044b\u043b\u044f\u043a..."
       ]
      },
      {
       "output_type": "stream",
       "stream": "stdout",
       "text": [
        "\n",
        "Now querying \u041a\u043e\u0432\u0440\u043e\u0432..."
       ]
      },
      {
       "output_type": "stream",
       "stream": "stdout",
       "text": [
        "\n",
        "\u041a\u043e\u0432\u0440\u043e\u0432 was found"
       ]
      },
      {
       "output_type": "stream",
       "stream": "stdout",
       "text": [
        "\n",
        "Now querying \u041a\u043e\u0432\u044b\u043c\u0441\u043a\u043e\u0435..."
       ]
      },
      {
       "output_type": "stream",
       "stream": "stdout",
       "text": [
        "\n",
        "Now querying \u041a\u043e\u0434\u0438\u043d\u0441\u043a\u043e\u0435..."
       ]
      },
      {
       "output_type": "stream",
       "stream": "stdout",
       "text": [
        "\n",
        "Now querying \u041a\u043e\u0436\u0438\u043d\u043e..."
       ]
      },
      {
       "output_type": "stream",
       "stream": "stdout",
       "text": [
        "\n",
        "\u041a\u043e\u0436\u0438\u043d\u043e was found"
       ]
      },
      {
       "output_type": "stream",
       "stream": "stdout",
       "text": [
        "\n",
        "Now querying \u041a\u043e\u0437\u0435\u043b\u0435\u0446..."
       ]
      },
      {
       "output_type": "stream",
       "stream": "stdout",
       "text": [
        "\n",
        "\u041a\u043e\u0437\u0435\u043b\u0435\u0446 was found"
       ]
      },
      {
       "output_type": "stream",
       "stream": "stdout",
       "text": [
        "\n",
        "Now querying \u041a\u043e\u0437\u0435\u043b\u044c\u0441\u043a..."
       ]
      },
      {
       "output_type": "stream",
       "stream": "stdout",
       "text": [
        "\n",
        "\u041a\u043e\u0437\u0435\u043b\u044c\u0441\u043a was found"
       ]
      },
      {
       "output_type": "stream",
       "stream": "stdout",
       "text": [
        "\n",
        "Now querying \u041a\u043e\u0437\u043b\u043e\u0432..."
       ]
      },
      {
       "output_type": "stream",
       "stream": "stdout",
       "text": [
        "\n",
        "\u041a\u043e\u0437\u043b\u043e\u0432 was found"
       ]
      },
      {
       "output_type": "stream",
       "stream": "stdout",
       "text": [
        "\n",
        "Now querying \u041a\u043e\u0437\u043b\u043e\u0432\u043a\u0430..."
       ]
      },
      {
       "output_type": "stream",
       "stream": "stdout",
       "text": [
        "\n",
        "\u041a\u043e\u0437\u043b\u043e\u0432\u043a\u0430 was found"
       ]
      },
      {
       "output_type": "stream",
       "stream": "stdout",
       "text": [
        "\n",
        "Now querying \u041a\u043e\u0437\u043b\u043e\u0432\u0441\u043a\u0430\u044f..."
       ]
      },
      {
       "output_type": "stream",
       "stream": "stdout",
       "text": [
        "\n",
        "Now querying \u041a\u043e\u043a\u0432\u0438\u043d\u043e..."
       ]
      },
      {
       "output_type": "stream",
       "stream": "stdout",
       "text": [
        "\n",
        "Now querying \u041a\u043e\u043b\u043e\u043c\u043d\u0430..."
       ]
      },
      {
       "output_type": "stream",
       "stream": "stdout",
       "text": [
        "\n",
        "\u041a\u043e\u043b\u043e\u043c\u043d\u0430 was found"
       ]
      },
      {
       "output_type": "stream",
       "stream": "stdout",
       "text": [
        "\n",
        "Now querying \u041a\u043e\u043b\u044e\u043f\u0430\u043d\u043e\u0432\u043a\u0430..."
       ]
      },
      {
       "output_type": "stream",
       "stream": "stdout",
       "text": [
        "\n",
        "Now querying \u041a\u043e\u043c\u0435\u043b\u044c\u0441\u043a \u041a\u043e\u0440\u043d\u0438\u043b\u0438\u0435\u0432..."
       ]
      },
      {
       "output_type": "stream",
       "stream": "stdout",
       "text": [
        "\n",
        "Querying alternate name \u041a\u043e\u043c\u0435\u043b\u044c\u0441\u043a \u041a\u043e\u0440\u043d\u0438\u043b\u0438\u0435\u0432\u043e"
       ]
      },
      {
       "output_type": "stream",
       "stream": "stdout",
       "text": [
        "\n",
        "Querying alternate name \u041a\u043e\u043c\u0435\u043b\u044c \u041a\u043e\u0440\u043d\u0438\u043b\u0438\u0435\u0432"
       ]
      },
      {
       "output_type": "stream",
       "stream": "stdout",
       "text": [
        "\n",
        "Now querying \u041a\u043e\u043c\u043b\u0438\u0447\u043a\u0438..."
       ]
      },
      {
       "output_type": "stream",
       "stream": "stdout",
       "text": [
        "\n",
        "Now querying \u041a\u043e\u043d\u043e\u0431\u0435\u0435\u0432\u043e..."
       ]
      },
      {
       "output_type": "stream",
       "stream": "stdout",
       "text": [
        "\n",
        "\u041a\u043e\u043d\u043e\u0431\u0435\u0435\u0432\u043e was found"
       ]
      },
      {
       "output_type": "stream",
       "stream": "stdout",
       "text": [
        "\n",
        "Now querying \u041a\u043e\u043d\u043e\u0442\u043e\u043f..."
       ]
      },
      {
       "output_type": "stream",
       "stream": "stdout",
       "text": [
        "\n",
        "\u041a\u043e\u043d\u043e\u0442\u043e\u043f was found"
       ]
      },
      {
       "output_type": "stream",
       "stream": "stdout",
       "text": [
        "\n",
        "Now querying \u041a\u043e\u043d\u0441\u0442\u0430\u043d\u0442\u0438\u043d\u043e\u0432\u043e..."
       ]
      },
      {
       "output_type": "stream",
       "stream": "stdout",
       "text": [
        "\n",
        "Now querying \u041a\u043e\u043d\u0441\u0442\u0430\u043d\u0442\u0438\u043d\u043e\u0432\u0441\u043a\u043e\u0435..."
       ]
      },
      {
       "output_type": "stream",
       "stream": "stdout",
       "text": [
        "\n",
        "\u041a\u043e\u043d\u0441\u0442\u0430\u043d\u0442\u0438\u043d\u043e\u0432\u0441\u043a\u043e\u0435 was found"
       ]
      },
      {
       "output_type": "stream",
       "stream": "stdout",
       "text": [
        "\n",
        "Now querying \u041a\u043e\u043f\u0440\u0438\u043d\u043e..."
       ]
      },
      {
       "output_type": "stream",
       "stream": "stdout",
       "text": [
        "\n",
        "\u041a\u043e\u043f\u0440\u0438\u043d\u043e was found"
       ]
      },
      {
       "output_type": "stream",
       "stream": "stdout",
       "text": [
        "\n",
        "Now querying \u041a\u043e\u0440\u0435\u043d\u043d\u0430\u044f..."
       ]
      },
      {
       "output_type": "stream",
       "stream": "stdout",
       "text": [
        "\n",
        "Now querying \u041a\u043e\u0440\u043e\u0432\u0430\u0439..."
       ]
      },
      {
       "output_type": "stream",
       "stream": "stdout",
       "text": [
        "\n",
        "Now querying \u041a\u043e\u0440\u043e\u043f..."
       ]
      },
      {
       "output_type": "stream",
       "stream": "stdout",
       "text": [
        "\n",
        "\u041a\u043e\u0440\u043e\u043f was found"
       ]
      },
      {
       "output_type": "stream",
       "stream": "stdout",
       "text": [
        "\n",
        "Now querying \u041a\u043e\u0440\u043e\u0442\u043e\u044f\u043a..."
       ]
      },
      {
       "output_type": "stream",
       "stream": "stdout",
       "text": [
        "\n",
        "\u041a\u043e\u0440\u043e\u0442\u043e\u044f\u043a was found"
       ]
      },
      {
       "output_type": "stream",
       "stream": "stdout",
       "text": [
        "\n",
        "Now querying \u041a\u043e\u0440\u0441\u0443\u043d\u044c..."
       ]
      },
      {
       "output_type": "stream",
       "stream": "stdout",
       "text": [
        "\n",
        "\u041a\u043e\u0440\u0441\u0443\u043d\u044c was found"
       ]
      },
      {
       "output_type": "stream",
       "stream": "stdout",
       "text": [
        "\n",
        "Now querying \u041a\u043e\u0441\u0442\u0440\u043e\u043c\u0430..."
       ]
      },
      {
       "output_type": "stream",
       "stream": "stdout",
       "text": [
        "\n",
        "\u041a\u043e\u0441\u0442\u0440\u043e\u043c\u0430 was found"
       ]
      },
      {
       "output_type": "stream",
       "stream": "stdout",
       "text": [
        "\n",
        "Now querying \u041a\u043e\u0441\u0442\u044e\u043a\u043e\u0432\u0438\u0447\u0438..."
       ]
      },
      {
       "output_type": "stream",
       "stream": "stdout",
       "text": [
        "\n",
        "\u041a\u043e\u0441\u0442\u044e\u043a\u043e\u0432\u0438\u0447\u0438 was found"
       ]
      },
      {
       "output_type": "stream",
       "stream": "stdout",
       "text": [
        "\n",
        "Now querying \u041a\u043e\u0442\u0435\u043b\u044c\u0432\u0430..."
       ]
      },
      {
       "output_type": "stream",
       "stream": "stdout",
       "text": [
        "\n",
        "\u041a\u043e\u0442\u0435\u043b\u044c\u0432\u0430 was found"
       ]
      },
      {
       "output_type": "stream",
       "stream": "stdout",
       "text": [
        "\n",
        "Now querying \u041a\u043e\u0442\u0435\u043b\u044c\u043d\u0438\u0447\u044c..."
       ]
      },
      {
       "output_type": "stream",
       "stream": "stdout",
       "text": [
        "\n",
        "\u041a\u043e\u0442\u0435\u043b\u044c\u043d\u0438\u0447\u044c was found"
       ]
      },
      {
       "output_type": "stream",
       "stream": "stdout",
       "text": [
        "\n",
        "Now querying \u041a\u043e\u0447\u0435\u043b\u0430\u0435\u0432\u043e..."
       ]
      },
      {
       "output_type": "stream",
       "stream": "stdout",
       "text": [
        "\n",
        "\u041a\u043e\u0447\u0435\u043b\u0430\u0435\u0432\u043e was found"
       ]
      },
      {
       "output_type": "stream",
       "stream": "stdout",
       "text": [
        "\n",
        "Now querying \u041a\u043e\u0448\u0438\u0440\u0430..."
       ]
      },
      {
       "output_type": "stream",
       "stream": "stdout",
       "text": [
        "\n",
        "Now querying \u041a\u0440\u0430\u043f\u0438\u0432\u043d\u0430..."
       ]
      },
      {
       "output_type": "stream",
       "stream": "stdout",
       "text": [
        "\n",
        "\u041a\u0440\u0430\u043f\u0438\u0432\u043d\u0430 was found"
       ]
      },
      {
       "output_type": "stream",
       "stream": "stdout",
       "text": [
        "\n",
        "Now querying \u041a\u0440\u0430\u043f\u0438\u0432\u043d\u0430..."
       ]
      },
      {
       "output_type": "stream",
       "stream": "stdout",
       "text": [
        "\n",
        "\u041a\u0440\u0430\u043f\u0438\u0432\u043d\u0430 was found"
       ]
      },
      {
       "output_type": "stream",
       "stream": "stdout",
       "text": [
        "\n",
        "Now querying \u041a\u0440\u0430\u0441\u043d\u043e\u0431\u043e\u0440\u0441\u043a..."
       ]
      },
      {
       "output_type": "stream",
       "stream": "stdout",
       "text": [
        "\n",
        "\u041a\u0440\u0430\u0441\u043d\u043e\u0431\u043e\u0440\u0441\u043a was found"
       ]
      },
      {
       "output_type": "stream",
       "stream": "stdout",
       "text": [
        "\n",
        "Now querying \u041a\u0440\u0430\u0441\u043d\u043e\u0433\u043e\u0440\u0441\u043a\u0430\u044f..."
       ]
      },
      {
       "output_type": "stream",
       "stream": "stdout",
       "text": [
        "\n",
        "Now querying \u041a\u0440\u0430\u0441\u043d\u043e\u0435..."
       ]
      },
      {
       "output_type": "stream",
       "stream": "stdout",
       "text": [
        "\n",
        "\u041a\u0440\u0430\u0441\u043d\u043e\u0435 was found"
       ]
      },
      {
       "output_type": "stream",
       "stream": "stdout",
       "text": [
        "\n",
        "Now querying \u041a\u0440\u0430\u0441\u043d\u043e\u0435..."
       ]
      },
      {
       "output_type": "stream",
       "stream": "stdout",
       "text": [
        "\n",
        "\u041a\u0440\u0430\u0441\u043d\u043e\u0435 was found"
       ]
      },
      {
       "output_type": "stream",
       "stream": "stdout",
       "text": [
        "\n",
        "Now querying \u041a\u0440\u0430\u0441\u043d\u043e\u0439 \u041a\u043e\u043b\u044f\u0434\u0438\u043d..."
       ]
      },
      {
       "output_type": "stream",
       "stream": "stdout",
       "text": [
        "\n",
        "Querying alternate name \u041a\u0440\u0430\u0441\u043d\u0438\u0439 \u041a\u043e\u043b\u044f\u0434\u0438\u043d"
       ]
      },
      {
       "output_type": "stream",
       "stream": "stdout",
       "text": [
        "\n",
        "\u041a\u0440\u0430\u0441\u043d\u043e\u0439 \u041a\u043e\u043b\u044f\u0434\u0438\u043d was found querying with alternate spelling \u041a\u0440\u0430\u0441\u043d\u0438\u0439 \u041a\u043e\u043b\u044f\u0434\u0438\u043d"
       ]
      },
      {
       "output_type": "stream",
       "stream": "stdout",
       "text": [
        "\n",
        "Now querying \u041a\u0440\u0430\u0441\u043d\u043e\u043a\u0430\u043c\u0435\u043d\u0441\u043a\u043e\u0439..."
       ]
      },
      {
       "output_type": "stream",
       "stream": "stdout",
       "text": [
        "\n",
        "Querying alternate name \u041a\u0440\u0430\u0441\u043d\u043e\u043a\u0430\u043c\u0435\u043d\u0441\u043a\u0438\u0439"
       ]
      },
      {
       "output_type": "stream",
       "stream": "stdout",
       "text": [
        "\n",
        "Now querying \u041a\u0440\u0430\u0441\u043d\u043e\u043a\u0443\u0442\u0441\u043a..."
       ]
      },
      {
       "output_type": "stream",
       "stream": "stdout",
       "text": [
        "\n",
        "\u041a\u0440\u0430\u0441\u043d\u043e\u043a\u0443\u0442\u0441\u043a was found"
       ]
      },
      {
       "output_type": "stream",
       "stream": "stdout",
       "text": [
        "\n",
        "Now querying \u041a\u0440\u0430\u0441\u043d\u043e\u043f\u043e\u043b\u044c..."
       ]
      },
      {
       "output_type": "stream",
       "stream": "stdout",
       "text": [
        "\n",
        "\u041a\u0440\u0430\u0441\u043d\u043e\u043f\u043e\u043b\u044c was found"
       ]
      },
      {
       "output_type": "stream",
       "stream": "stdout",
       "text": [
        "\n",
        "Now querying \u041a\u0440\u0430\u0441\u043d\u043e\u043f\u043e\u043b\u044c\u0435..."
       ]
      },
      {
       "output_type": "stream",
       "stream": "stdout",
       "text": [
        "\n",
        "\u041a\u0440\u0430\u0441\u043d\u043e\u043f\u043e\u043b\u044c\u0435 was found"
       ]
      },
      {
       "output_type": "stream",
       "stream": "stdout",
       "text": [
        "\n",
        "Now querying \u041a\u0440\u0430\u0441\u043d\u043e\u0441\u043b\u043e\u0431\u043e\u0434\u0441\u043a..."
       ]
      },
      {
       "output_type": "stream",
       "stream": "stdout",
       "text": [
        "\n",
        "\u041a\u0440\u0430\u0441\u043d\u043e\u0441\u043b\u043e\u0431\u043e\u0434\u0441\u043a was found"
       ]
      },
      {
       "output_type": "stream",
       "stream": "stdout",
       "text": [
        "\n",
        "Now querying \u041a\u0440\u0435\u043c\u0435\u043d\u043d\u043e\u0439..."
       ]
      },
      {
       "output_type": "stream",
       "stream": "stdout",
       "text": [
        "\n",
        "Querying alternate name \u041a\u0440\u0435\u043c\u0435\u043d\u043d\u0438\u0439"
       ]
      },
      {
       "output_type": "stream",
       "stream": "stdout",
       "text": [
        "\n",
        "Now querying \u041a\u0440\u0435\u043c\u0435\u043d\u0447\u0443\u0433..."
       ]
      },
      {
       "output_type": "stream",
       "stream": "stdout",
       "text": [
        "\n",
        "\u041a\u0440\u0435\u043c\u0435\u043d\u0447\u0443\u0433 was found"
       ]
      },
      {
       "output_type": "stream",
       "stream": "stdout",
       "text": [
        "\n",
        "Now querying \u041a\u0440\u0435\u0441\u043b\u0430\u0432\u043b\u044c..."
       ]
      },
      {
       "output_type": "stream",
       "stream": "stdout",
       "text": [
        "\n",
        "Now querying \u041a\u0440\u0435\u0441\u0442\u0446\u044b..."
       ]
      },
      {
       "output_type": "stream",
       "stream": "stdout",
       "text": [
        "\n",
        "\u041a\u0440\u0435\u0441\u0442\u0446\u044b was found"
       ]
      },
      {
       "output_type": "stream",
       "stream": "stdout",
       "text": [
        "\n",
        "Now querying \u041a\u0440\u0438\u0432\u043e\u043d\u0430\u0432\u043e\u043b\u043e\u0446\u043a\u0430\u044f..."
       ]
      },
      {
       "output_type": "stream",
       "stream": "stdout",
       "text": [
        "\n",
        "Now querying \u041a\u0440\u0438\u0432\u0446\u043e..."
       ]
      },
      {
       "output_type": "stream",
       "stream": "stdout",
       "text": [
        "\n",
        "Now querying \u041a\u0440\u0438\u0436\u0431\u0443\u0440\u0433..."
       ]
      },
      {
       "output_type": "stream",
       "stream": "stdout",
       "text": [
        "\n",
        "Now querying \u041a\u0440\u043e\u043b\u0435\u0432\u0435\u0446..."
       ]
      },
      {
       "output_type": "stream",
       "stream": "stdout",
       "text": [
        "\n",
        "\u041a\u0440\u043e\u043b\u0435\u0432\u0435\u0446 was found"
       ]
      },
      {
       "output_type": "stream",
       "stream": "stdout",
       "text": [
        "\n",
        "Now querying \u041a\u0440\u043e\u043c\u044b..."
       ]
      },
      {
       "output_type": "stream",
       "stream": "stdout",
       "text": [
        "\n",
        "\u041a\u0440\u043e\u043c\u044b was found"
       ]
      },
      {
       "output_type": "stream",
       "stream": "stdout",
       "text": [
        "\n",
        "Now querying \u041a\u0440\u044b\u043b\u043e\u0432..."
       ]
      },
      {
       "output_type": "stream",
       "stream": "stdout",
       "text": [
        "\n",
        "\u041a\u0440\u044b\u043b\u043e\u0432 was found"
       ]
      },
      {
       "output_type": "stream",
       "stream": "stdout",
       "text": [
        "\n",
        "Now querying \u041a\u0440\u044b\u043b\u0435\u0435\u0432\u043e..."
       ]
      },
      {
       "output_type": "stream",
       "stream": "stdout",
       "text": [
        "\n",
        "Now querying \u041a\u0440\u044e\u043a\u043e\u0432..."
       ]
      },
      {
       "output_type": "stream",
       "stream": "stdout",
       "text": [
        "\n",
        "Querying alternate name \u041a\u0440\u044e\u043a\u043e\u0432\u043e"
       ]
      },
      {
       "output_type": "stream",
       "stream": "stdout",
       "text": [
        "\n",
        "Now querying \u041a\u0443\u0431\u0435\u043d\u0441\u043a\u043e\u0435..."
       ]
      },
      {
       "output_type": "stream",
       "stream": "stdout",
       "text": [
        "\n",
        "\u041a\u0443\u0431\u0435\u043d\u0441\u043a\u043e\u0435 was found"
       ]
      },
      {
       "output_type": "stream",
       "stream": "stdout",
       "text": [
        "\n",
        "Now querying \u041a\u0443\u0434\u0430\u0440\u0438\u043d\u0441\u043a\u0430\u044f..."
       ]
      },
      {
       "output_type": "stream",
       "stream": "stdout",
       "text": [
        "\n",
        "Now querying \u041a\u0443\u0437\u043d\u0435\u0446\u043a..."
       ]
      },
      {
       "output_type": "stream",
       "stream": "stdout",
       "text": [
        "\n",
        "\u041a\u0443\u0437\u043d\u0435\u0446\u043a was found"
       ]
      },
      {
       "output_type": "stream",
       "stream": "stdout",
       "text": [
        "\n",
        "Now querying \u041a\u0443\u043c\u0437\u0435\u0440\u0441\u043a\u0430\u044f..."
       ]
      },
      {
       "output_type": "stream",
       "stream": "stdout",
       "text": [
        "\n",
        "Now querying \u041a\u0443\u043d\u0433\u0443\u0440..."
       ]
      },
      {
       "output_type": "stream",
       "stream": "stdout",
       "text": [
        "\n",
        "\u041a\u0443\u043d\u0433\u0443\u0440 was found"
       ]
      },
      {
       "output_type": "stream",
       "stream": "stdout",
       "text": [
        "\n",
        "Now querying \u041a\u0443\u043f\u0435\u043d\u043a\u0430..."
       ]
      },
      {
       "output_type": "stream",
       "stream": "stdout",
       "text": [
        "\n",
        "Now querying \u041a\u0443\u0440\u0435\u043d\u044c\u043a\u0438..."
       ]
      },
      {
       "output_type": "stream",
       "stream": "stdout",
       "text": [
        "\n",
        "\u041a\u0443\u0440\u0435\u043d\u044c\u043a\u0438 was found"
       ]
      },
      {
       "output_type": "stream",
       "stream": "stdout",
       "text": [
        "\n",
        "Now querying \u041a\u0443\u0440\u044c\u044f\u043d\u043e\u0432\u043e..."
       ]
      },
      {
       "output_type": "stream",
       "stream": "stdout",
       "text": [
        "\n",
        "\u041a\u0443\u0440\u044c\u044f\u043d\u043e\u0432\u043e was found"
       ]
      },
      {
       "output_type": "stream",
       "stream": "stdout",
       "text": [
        "\n",
        "Now querying \u041b\u0430\u0434\u0430..."
       ]
      },
      {
       "output_type": "stream",
       "stream": "stdout",
       "text": [
        "\n",
        "Now querying \u041b\u0430\u0434\u0438\u043d\u0441\u043a\u043e\u0439..."
       ]
      },
      {
       "output_type": "stream",
       "stream": "stdout",
       "text": [
        "\n",
        "Querying alternate name \u041b\u0430\u0434\u0438\u043d\u0441\u043a\u0438\u0439"
       ]
      },
      {
       "output_type": "stream",
       "stream": "stdout",
       "text": [
        "\n",
        "Now querying \u041b\u0430\u0434\u043e\u0433\u0430 \u041d\u043e\u0432\u0430\u044f..."
       ]
      },
      {
       "output_type": "stream",
       "stream": "stdout",
       "text": [
        "\n",
        "\u041b\u0430\u0434\u043e\u0433\u0430 \u041d\u043e\u0432\u0430\u044f was found"
       ]
      },
      {
       "output_type": "stream",
       "stream": "stdout",
       "text": [
        "\n",
        "Now querying \u041b\u0430\u0437\u043e\u0432\u0438\u0446\u0430..."
       ]
      },
      {
       "output_type": "stream",
       "stream": "stdout",
       "text": [
        "\n",
        "\u041b\u0430\u0437\u043e\u0432\u0438\u0446\u0430 was found"
       ]
      },
      {
       "output_type": "stream",
       "stream": "stdout",
       "text": [
        "\n",
        "Now querying \u041b\u0430\u0438\u0448\u0435\u0432..."
       ]
      },
      {
       "output_type": "stream",
       "stream": "stdout",
       "text": [
        "\n",
        "\u041b\u0430\u0438\u0448\u0435\u0432 was found"
       ]
      },
      {
       "output_type": "stream",
       "stream": "stdout",
       "text": [
        "\n",
        "Now querying \u041b\u0430\u043a\u043d\u043e\u0432\u0430\u0442\u044c..."
       ]
      },
      {
       "output_type": "stream",
       "stream": "stdout",
       "text": [
        "\n",
        "Now querying \u041b\u0430\u043b\u044c\u0441\u043a..."
       ]
      },
      {
       "output_type": "stream",
       "stream": "stdout",
       "text": [
        "\n",
        "\u041b\u0430\u043b\u044c\u0441\u043a was found"
       ]
      },
      {
       "output_type": "stream",
       "stream": "stdout",
       "text": [
        "\n",
        "Now querying \u041b\u0430\u043f\u0441\u0442\u0440\u0430\u043d\u0434..."
       ]
      },
      {
       "output_type": "stream",
       "stream": "stdout",
       "text": [
        "\n",
        "Now querying \u041b\u0435\u0431\u0435\u0434\u0438\u043d..."
       ]
      },
      {
       "output_type": "stream",
       "stream": "stdout",
       "text": [
        "\n",
        "\u041b\u0435\u0431\u0435\u0434\u0438\u043d was found"
       ]
      },
      {
       "output_type": "stream",
       "stream": "stdout",
       "text": [
        "\n",
        "Now querying \u041b\u0435\u0431\u0435\u0434\u044f\u043d\u044c..."
       ]
      },
      {
       "output_type": "stream",
       "stream": "stdout",
       "text": [
        "\n",
        "\u041b\u0435\u0431\u0435\u0434\u044f\u043d\u044c was found"
       ]
      },
      {
       "output_type": "stream",
       "stream": "stdout",
       "text": [
        "\n",
        "Now querying \u041b\u0435\u0432\u043a\u0438\u0435\u0432..."
       ]
      },
      {
       "output_type": "stream",
       "stream": "stdout",
       "text": [
        "\n",
        "Querying alternate name \u041b\u0435\u0432\u043a\u0438\u0435\u0432\u043e"
       ]
      },
      {
       "output_type": "stream",
       "stream": "stdout",
       "text": [
        "\n",
        "Now querying \u041b\u0435\u0436\u043d\u0435\u0432\u043e..."
       ]
      },
      {
       "output_type": "stream",
       "stream": "stdout",
       "text": [
        "\n",
        "\u041b\u0435\u0436\u043d\u0435\u0432\u043e was found"
       ]
      },
      {
       "output_type": "stream",
       "stream": "stdout",
       "text": [
        "\n",
        "Now querying \u041b\u0438\u0432\u043d\u044b..."
       ]
      },
      {
       "output_type": "stream",
       "stream": "stdout",
       "text": [
        "\n",
        "\u041b\u0438\u0432\u043d\u044b was found"
       ]
      },
      {
       "output_type": "stream",
       "stream": "stdout",
       "text": [
        "\n",
        "Now querying \u041b\u0438\u043c\u0430\u043d\u044c..."
       ]
      },
      {
       "output_type": "stream",
       "stream": "stdout",
       "text": [
        "\n",
        "\u041b\u0438\u043c\u0430\u043d\u044c was found"
       ]
      },
      {
       "output_type": "stream",
       "stream": "stdout",
       "text": [
        "\n",
        "Now querying \u041b\u0438\u043f\u0435\u0446\u043a..."
       ]
      },
      {
       "output_type": "stream",
       "stream": "stdout",
       "text": [
        "\n",
        "\u041b\u0438\u043f\u0435\u0446\u043a was found"
       ]
      },
      {
       "output_type": "stream",
       "stream": "stdout",
       "text": [
        "\n",
        "Now querying \u041b\u0438\u043f\u043e\u0432\u0441\u043a\u043e\u0435..."
       ]
      },
      {
       "output_type": "stream",
       "stream": "stdout",
       "text": [
        "\n",
        "Now querying \u041b\u0438\u043f\u0446\u044b..."
       ]
      },
      {
       "output_type": "stream",
       "stream": "stdout",
       "text": [
        "\n",
        "\u041b\u0438\u043f\u0446\u044b was found"
       ]
      },
      {
       "output_type": "stream",
       "stream": "stdout",
       "text": [
        "\n",
        "Now querying \u041b\u0438\u0441\u043a\u043e\u0439..."
       ]
      },
      {
       "output_type": "stream",
       "stream": "stdout",
       "text": [
        "\n",
        "Querying alternate name \u041b\u0438\u0441\u043a\u0438\u0439"
       ]
      },
      {
       "output_type": "stream",
       "stream": "stdout",
       "text": [
        "\n",
        "Now querying \u041b\u0438\u0445\u0432\u0438\u043d..."
       ]
      },
      {
       "output_type": "stream",
       "stream": "stdout",
       "text": [
        "\n",
        "\u041b\u0438\u0445\u0432\u0438\u043d was found"
       ]
      },
      {
       "output_type": "stream",
       "stream": "stdout",
       "text": [
        "\n",
        "Now querying \u041b\u043e\u043f\u043e\u0442\u043e\u0432..."
       ]
      },
      {
       "output_type": "stream",
       "stream": "stdout",
       "text": [
        "\n",
        "Querying alternate name \u041b\u043e\u043f\u043e\u0442\u043e\u0432\u043e"
       ]
      },
      {
       "output_type": "stream",
       "stream": "stdout",
       "text": [
        "\n",
        "\u041b\u043e\u043f\u043e\u0442\u043e\u0432 was found querying with alternate spelling \u041b\u043e\u043f\u043e\u0442\u043e\u0432\u043e"
       ]
      },
      {
       "output_type": "stream",
       "stream": "stdout",
       "text": [
        "\n",
        "Now querying \u041b\u043e\u0442\u0441\u0448\u0438\u043d\u043e..."
       ]
      },
      {
       "output_type": "stream",
       "stream": "stdout",
       "text": [
        "\n",
        "Now querying \u041b\u043e\u0445\u0432\u0438\u0446\u0430..."
       ]
      },
      {
       "output_type": "stream",
       "stream": "stdout",
       "text": [
        "\n",
        "\u041b\u043e\u0445\u0432\u0438\u0446\u0430 was found"
       ]
      },
      {
       "output_type": "stream",
       "stream": "stdout",
       "text": [
        "\n",
        "Now querying \u041b\u0443\u0436\u043a\u0438..."
       ]
      },
      {
       "output_type": "stream",
       "stream": "stdout",
       "text": [
        "\n",
        "\u041b\u0443\u0436\u043a\u0438 was found"
       ]
      },
      {
       "output_type": "stream",
       "stream": "stdout",
       "text": [
        "\n",
        "Now querying \u041b\u0443\u043a\u043e\u043c\u043b\u044f..."
       ]
      },
      {
       "output_type": "stream",
       "stream": "stdout",
       "text": [
        "\n",
        "Now querying \u041b\u0443\u043a\u043e\u044f\u043d\u043e\u0432..."
       ]
      },
      {
       "output_type": "stream",
       "stream": "stdout",
       "text": [
        "\n",
        "\u041b\u0443\u043a\u043e\u044f\u043d\u043e\u0432 was found"
       ]
      },
      {
       "output_type": "stream",
       "stream": "stdout",
       "text": [
        "\n",
        "Now querying \u041b\u0443\u0445..."
       ]
      },
      {
       "output_type": "stream",
       "stream": "stdout",
       "text": [
        "\n",
        "\u041b\u0443\u0445 was found"
       ]
      },
      {
       "output_type": "stream",
       "stream": "stdout",
       "text": [
        "\n",
        "Now querying \u041b\u044c\u0433\u043e\u0432..."
       ]
      },
      {
       "output_type": "stream",
       "stream": "stdout",
       "text": [
        "\n",
        "\u041b\u044c\u0433\u043e\u0432 was found"
       ]
      },
      {
       "output_type": "stream",
       "stream": "stdout",
       "text": [
        "\n",
        "Now querying \u041b\u0435\u0432\u044b\u0435 \u041b\u0430\u043c\u043a\u0438..."
       ]
      },
      {
       "output_type": "stream",
       "stream": "stdout",
       "text": [
        "\n",
        "\u041b\u0435\u0432\u044b\u0435 \u041b\u0430\u043c\u043a\u0438 was found"
       ]
      },
      {
       "output_type": "stream",
       "stream": "stdout",
       "text": [
        "\n",
        "Now querying \u041b\u044e\u0431\u0430\u0432\u0438\u0447\u0438..."
       ]
      },
      {
       "output_type": "stream",
       "stream": "stdout",
       "text": [
        "\n",
        "\u041b\u044e\u0431\u0430\u0432\u0438\u0447\u0438 was found"
       ]
      },
      {
       "output_type": "stream",
       "stream": "stdout",
       "text": [
        "\n",
        "Now querying \u041b\u044e\u0431\u0435\u0447\u044c..."
       ]
      },
      {
       "output_type": "stream",
       "stream": "stdout",
       "text": [
        "\n",
        "\u041b\u044e\u0431\u0435\u0447\u044c was found"
       ]
      },
      {
       "output_type": "stream",
       "stream": "stdout",
       "text": [
        "\n",
        "Now querying \u041b\u044e\u0431\u0438\u043c..."
       ]
      },
      {
       "output_type": "stream",
       "stream": "stdout",
       "text": [
        "\n",
        "\u041b\u044e\u0431\u0438\u043c was found"
       ]
      },
      {
       "output_type": "stream",
       "stream": "stdout",
       "text": [
        "\n",
        "Now querying \u041b\u044e\u0442\u0435\u043d\u043a\u0430..."
       ]
      },
      {
       "output_type": "stream",
       "stream": "stdout",
       "text": [
        "\n",
        "\u041b\u044e\u0442\u0435\u043d\u043a\u0430 was found"
       ]
      },
      {
       "output_type": "stream",
       "stream": "stdout",
       "text": [
        "\n",
        "Now querying \u041b\u044f\u0434\u044b..."
       ]
      },
      {
       "output_type": "stream",
       "stream": "stdout",
       "text": [
        "\n",
        "\u041b\u044f\u0434\u044b was found"
       ]
      },
      {
       "output_type": "stream",
       "stream": "stdout",
       "text": [
        "\n",
        "Now querying \u041b\u044f\u0443\u0434\u0435\u0440\u0430..."
       ]
      },
      {
       "output_type": "stream",
       "stream": "stdout",
       "text": [
        "\n",
        "Now querying \u041c\u0430\u043a\u0430\u043b\u043e\u0432\u043e..."
       ]
      },
      {
       "output_type": "stream",
       "stream": "stdout",
       "text": [
        "\n",
        "Now querying \u041c\u0430\u043a\u0430\u0440\u043e\u0432\u043e..."
       ]
      },
      {
       "output_type": "stream",
       "stream": "stdout",
       "text": [
        "\n",
        "Now querying \u041c\u0430\u043a\u0430\u0440\u044c\u0435\u0432..."
       ]
      },
      {
       "output_type": "stream",
       "stream": "stdout",
       "text": [
        "\n",
        "\u041c\u0430\u043a\u0430\u0440\u044c\u0435\u0432 was found"
       ]
      },
      {
       "output_type": "stream",
       "stream": "stdout",
       "text": [
        "\n",
        "Now querying \u041c\u0430\u043a\u0430\u0440\u044c\u0435\u0432..."
       ]
      },
      {
       "output_type": "stream",
       "stream": "stdout",
       "text": [
        "\n",
        "\u041c\u0430\u043a\u0430\u0440\u044c\u0435\u0432 was found"
       ]
      },
      {
       "output_type": "stream",
       "stream": "stdout",
       "text": [
        "\n",
        "Now querying \u041c\u0430\u043b\u0438\u043d\u043e..."
       ]
      },
      {
       "output_type": "stream",
       "stream": "stdout",
       "text": [
        "\n",
        "\u041c\u0430\u043b\u0438\u043d\u043e was found"
       ]
      },
      {
       "output_type": "stream",
       "stream": "stdout",
       "text": [
        "\n",
        "Now querying \u041c\u0430\u043b\u043e\u0439 \u0410\u0440\u0445\u0430\u043d\u0433\u0435\u043b\u044c\u0441\u043a..."
       ]
      },
      {
       "output_type": "stream",
       "stream": "stdout",
       "text": [
        "\n",
        "Querying alternate name \u041c\u0430\u043b\u043e\u0439 \u0410\u0440\u0445\u0430\u043d\u0433\u0435\u043b\u044c"
       ]
      },
      {
       "output_type": "stream",
       "stream": "stdout",
       "text": [
        "\n",
        "Querying alternate name \u041c\u0430\u043b\u0438\u0439 \u0410\u0440\u0445\u0430\u043d\u0433\u0435\u043b\u044c\u0441\u043a"
       ]
      },
      {
       "output_type": "stream",
       "stream": "stdout",
       "text": [
        "\n",
        "Now querying \u041c\u0430\u043b\u043e\u0439 \u042f\u0440\u043e\u0441\u043b\u0430\u0432\u0435\u0446..."
       ]
      },
      {
       "output_type": "stream",
       "stream": "stdout",
       "text": [
        "\n",
        "Querying alternate name \u041c\u0430\u043b\u0438\u0439 \u042f\u0440\u043e\u0441\u043b\u0430\u0432\u0435\u0446"
       ]
      },
      {
       "output_type": "stream",
       "stream": "stdout",
       "text": [
        "\n",
        "Now querying \u041c\u0430\u043b\u044b\u043a\u043e\u0432\u0430..."
       ]
      },
      {
       "output_type": "stream",
       "stream": "stdout",
       "text": [
        "\n",
        "Now querying \u041c\u0430\u043d\u0433\u0430\u0437\u0435\u044f..."
       ]
      },
      {
       "output_type": "stream",
       "stream": "stdout",
       "text": [
        "\n",
        "Now querying \u041c\u0430\u0440\u043a\u0443\u0448\u0435\u0432\u0441\u043a\u0430\u044f..."
       ]
      },
      {
       "output_type": "stream",
       "stream": "stdout",
       "text": [
        "\n",
        "Now querying \u041c\u0430\u0441\u043b\u0435\u043d\u0441\u043a\u0430\u044f..."
       ]
      },
      {
       "output_type": "stream",
       "stream": "stdout",
       "text": [
        "\n",
        "Now querying \u041c\u0430\u0441\u043b\u043e\u0432\u0438\u0447\u0438..."
       ]
      },
      {
       "output_type": "stream",
       "stream": "stdout",
       "text": [
        "\n",
        "Now querying \u041c\u0430\u0445\u043e\u043d\u043e\u0432\u043e..."
       ]
      },
      {
       "output_type": "stream",
       "stream": "stdout",
       "text": [
        "\n",
        "\u041c\u0430\u0445\u043e\u043d\u043e\u0432\u043e was found"
       ]
      },
      {
       "output_type": "stream",
       "stream": "stdout",
       "text": [
        "\n",
        "Now querying \u041c\u0430\u0447\u0443\u0445\u0430..."
       ]
      },
      {
       "output_type": "stream",
       "stream": "stdout",
       "text": [
        "\n",
        "Now querying \u041c\u0430\u0448\u0435\u0432..."
       ]
      },
      {
       "output_type": "stream",
       "stream": "stdout",
       "text": [
        "\n",
        "Querying alternate name \u041c\u0430\u0448\u0435\u0432\u043e"
       ]
      },
      {
       "output_type": "stream",
       "stream": "stdout",
       "text": [
        "\n",
        "\u041c\u0430\u0448\u0435\u0432 was found querying with alternate spelling \u041c\u0430\u0448\u0435\u0432\u043e"
       ]
      },
      {
       "output_type": "stream",
       "stream": "stdout",
       "text": [
        "\n",
        "Now querying \u041c\u0430\u044f\u043a\u0438..."
       ]
      },
      {
       "output_type": "stream",
       "stream": "stdout",
       "text": [
        "\n",
        "\u041c\u0430\u044f\u043a\u0438 was found"
       ]
      },
      {
       "output_type": "stream",
       "stream": "stdout",
       "text": [
        "\n",
        "Now querying \u041c\u0430\u044f\u0447\u043a\u0430..."
       ]
      },
      {
       "output_type": "stream",
       "stream": "stdout",
       "text": [
        "\n",
        "\u041c\u0430\u044f\u0447\u043a\u0430 was found"
       ]
      },
      {
       "output_type": "stream",
       "stream": "stdout",
       "text": [
        "\n",
        "Now querying \u041c\u0433\u043b\u0438\u043d..."
       ]
      },
      {
       "output_type": "stream",
       "stream": "stdout",
       "text": [
        "\n",
        "\u041c\u0433\u043b\u0438\u043d was found"
       ]
      },
      {
       "output_type": "stream",
       "stream": "stdout",
       "text": [
        "\n",
        "Now querying \u041c\u0435\u0433\u0440\u0430..."
       ]
      },
      {
       "output_type": "stream",
       "stream": "stdout",
       "text": [
        "\n",
        "\u041c\u0435\u0433\u0440\u0430 was found"
       ]
      },
      {
       "output_type": "stream",
       "stream": "stdout",
       "text": [
        "\n",
        "Now querying \u041c\u0435\u0434\u044b\u043d\u044c..."
       ]
      },
      {
       "output_type": "stream",
       "stream": "stdout",
       "text": [
        "\n",
        "\u041c\u0435\u0434\u044b\u043d\u044c was found"
       ]
      },
      {
       "output_type": "stream",
       "stream": "stdout",
       "text": [
        "\n",
        "Now querying \u041c\u0435\u043d\u0430..."
       ]
      },
      {
       "output_type": "stream",
       "stream": "stdout",
       "text": [
        "\n",
        "\u041c\u0435\u043d\u0430 was found"
       ]
      },
      {
       "output_type": "stream",
       "stream": "stdout",
       "text": [
        "\n",
        "Now querying \u041c\u0435\u0440\u0435\u0445\u0432\u0430..."
       ]
      },
      {
       "output_type": "stream",
       "stream": "stdout",
       "text": [
        "\n",
        "Now querying \u041c\u0435\u0445\u043e\u043d\u0441\u043a\u043e\u0439..."
       ]
      },
      {
       "output_type": "stream",
       "stream": "stdout",
       "text": [
        "\n",
        "Querying alternate name \u041c\u0435\u0445\u043e\u043d\u0441\u043a\u0438\u0439"
       ]
      },
      {
       "output_type": "stream",
       "stream": "stdout",
       "text": [
        "\n",
        "Now querying \u041c\u0435\u0449\u043e\u0432\u0441\u043a..."
       ]
      },
      {
       "output_type": "stream",
       "stream": "stdout",
       "text": [
        "\n",
        "\u041c\u0435\u0449\u043e\u0432\u0441\u043a was found"
       ]
      },
      {
       "output_type": "stream",
       "stream": "stdout",
       "text": [
        "\n",
        "Now querying \u041c\u0438\u0436\u0438\u0440\u0438\u0447\u044c..."
       ]
      },
      {
       "output_type": "stream",
       "stream": "stdout",
       "text": [
        "\n",
        "\u041c\u0438\u0436\u0438\u0440\u0438\u0447\u044c was found"
       ]
      },
      {
       "output_type": "stream",
       "stream": "stdout",
       "text": [
        "\n",
        "Now querying \u041c\u0438\u043b\u043e\u0441\u043b\u0430\u0432\u0438\u0447\u0438..."
       ]
      },
      {
       "output_type": "stream",
       "stream": "stdout",
       "text": [
        "\n",
        "\u041c\u0438\u043b\u043e\u0441\u043b\u0430\u0432\u0438\u0447\u0438 was found"
       ]
      },
      {
       "output_type": "stream",
       "stream": "stdout",
       "text": [
        "\n",
        "Now querying \u041c\u0438\u0440\u0433\u043e\u0440\u043e\u0434..."
       ]
      },
      {
       "output_type": "stream",
       "stream": "stdout",
       "text": [
        "\n",
        "\u041c\u0438\u0440\u0433\u043e\u0440\u043e\u0434 was found"
       ]
      },
      {
       "output_type": "stream",
       "stream": "stdout",
       "text": [
        "\n",
        "Now querying \u041c\u0438\u0440\u043e\u043f\u043e\u043b\u044c\u0435..."
       ]
      },
      {
       "output_type": "stream",
       "stream": "stdout",
       "text": [
        "\n",
        "\u041c\u0438\u0440\u043e\u043f\u043e\u043b\u044c\u0435 was found"
       ]
      },
      {
       "output_type": "stream",
       "stream": "stdout",
       "text": [
        "\n",
        "Now querying \u041c\u0438\u0440\u043e\u0442\u0438\u043d\u043e..."
       ]
      },
      {
       "output_type": "stream",
       "stream": "stdout",
       "text": [
        "\n",
        "\u041c\u0438\u0440\u043e\u0442\u0438\u043d\u043e was found"
       ]
      },
      {
       "output_type": "stream",
       "stream": "stdout",
       "text": [
        "\n",
        "Now querying \u041c\u0438\u0442\u044f\u043a\u0438\u043d\u0441\u043a\u0430\u044f..."
       ]
      },
      {
       "output_type": "stream",
       "stream": "stdout",
       "text": [
        "\n",
        "\u041c\u0438\u0442\u044f\u043a\u0438\u043d\u0441\u043a\u0430\u044f was found"
       ]
      },
      {
       "output_type": "stream",
       "stream": "stdout",
       "text": [
        "\n",
        "Now querying \u041c\u0438\u0445\u0430\u0439\u043b\u043e\u0432..."
       ]
      },
      {
       "output_type": "stream",
       "stream": "stdout",
       "text": [
        "\n",
        "\u041c\u0438\u0445\u0430\u0439\u043b\u043e\u0432 was found"
       ]
      },
      {
       "output_type": "stream",
       "stream": "stdout",
       "text": [
        "\n",
        "Now querying \u041c\u0438\u0445\u0430\u0439\u043b\u043e\u0432\u043a\u0430..."
       ]
      },
      {
       "output_type": "stream",
       "stream": "stdout",
       "text": [
        "\n",
        "\u041c\u0438\u0445\u0430\u0439\u043b\u043e\u0432\u043a\u0430 was found"
       ]
      },
      {
       "output_type": "stream",
       "stream": "stdout",
       "text": [
        "\n",
        "Now querying \u041c\u0438\u0445\u0430\u0439\u043b\u043e\u0432\u043a\u0430..."
       ]
      },
      {
       "output_type": "stream",
       "stream": "stdout",
       "text": [
        "\n",
        "\u041c\u0438\u0445\u0430\u0439\u043b\u043e\u0432\u043a\u0430 was found"
       ]
      },
      {
       "output_type": "stream",
       "stream": "stdout",
       "text": [
        "\n",
        "Now querying \u041c\u0438\u0445\u0430\u0439\u043b\u043e\u0432\u043a\u0430..."
       ]
      },
      {
       "output_type": "stream",
       "stream": "stdout",
       "text": [
        "\n",
        "\u041c\u0438\u0445\u0430\u0439\u043b\u043e\u0432\u043a\u0430 was found"
       ]
      },
      {
       "output_type": "stream",
       "stream": "stdout",
       "text": [
        "\n",
        "Now querying \u041c\u0438\u0445\u0430\u0439\u043b\u043e\u0432\u0441\u043a\u043e\u0439..."
       ]
      },
      {
       "output_type": "stream",
       "stream": "stdout",
       "text": [
        "\n",
        "Querying alternate name \u041c\u0438\u0445\u0430\u0439\u043b\u043e\u0432\u0441\u043a\u0438\u0439"
       ]
      },
      {
       "output_type": "stream",
       "stream": "stdout",
       "text": [
        "\n",
        "Now querying \u041c\u0438\u0448\u0443\u0440\u0438\u043d \u0420\u043e\u0433..."
       ]
      },
      {
       "output_type": "stream",
       "stream": "stdout",
       "text": [
        "\n",
        "\u041c\u0438\u0448\u0443\u0440\u0438\u043d \u0420\u043e\u0433 was found"
       ]
      },
      {
       "output_type": "stream",
       "stream": "stdout",
       "text": [
        "\n",
        "Now querying \u041c\u043e\u0436\u0430\u0439\u0441\u043a..."
       ]
      },
      {
       "output_type": "stream",
       "stream": "stdout",
       "text": [
        "\n",
        "\u041c\u043e\u0436\u0430\u0439\u0441\u043a was found"
       ]
      },
      {
       "output_type": "stream",
       "stream": "stdout",
       "text": [
        "\n",
        "Now querying \u041c\u043e\u043b\u0432\u0438\u0442\u0438\u043d\u043e..."
       ]
      },
      {
       "output_type": "stream",
       "stream": "stdout",
       "text": [
        "\n",
        "\u041c\u043e\u043b\u0432\u0438\u0442\u0438\u043d\u043e was found"
       ]
      },
      {
       "output_type": "stream",
       "stream": "stdout",
       "text": [
        "\n",
        "Now querying \u041c\u043e\u043b\u043e\u0433\u0430..."
       ]
      },
      {
       "output_type": "stream",
       "stream": "stdout",
       "text": [
        "\n",
        "\u041c\u043e\u043b\u043e\u0433\u0430 was found"
       ]
      },
      {
       "output_type": "stream",
       "stream": "stdout",
       "text": [
        "\n",
        "Now querying \u041c\u043e\u043b\u043e\u043a\u043e\u0432\u043e..."
       ]
      },
      {
       "output_type": "stream",
       "stream": "stdout",
       "text": [
        "\n",
        "\u041c\u043e\u043b\u043e\u043a\u043e\u0432\u043e was found"
       ]
      },
      {
       "output_type": "stream",
       "stream": "stdout",
       "text": [
        "\n",
        "Now querying \u041c\u043e\u043d\u0430\u0441\u0442\u044b\u0440\u0449\u0438\u043d\u0430..."
       ]
      },
      {
       "output_type": "stream",
       "stream": "stdout",
       "text": [
        "\n",
        "\u041c\u043e\u043d\u0430\u0441\u0442\u044b\u0440\u0449\u0438\u043d\u0430 was found"
       ]
      },
      {
       "output_type": "stream",
       "stream": "stdout",
       "text": [
        "\n",
        "Now querying \u041c\u043e\u0440\u043e\u043c\u0441\u043a..."
       ]
      },
      {
       "output_type": "stream",
       "stream": "stdout",
       "text": [
        "\n",
        "Querying alternate name \u041c\u043e\u0440\u043e\u043c"
       ]
      },
      {
       "output_type": "stream",
       "stream": "stdout",
       "text": [
        "\n",
        "Now querying \u041c\u043e\u0440\u0448\u0430\u043d\u0441\u043a..."
       ]
      },
      {
       "output_type": "stream",
       "stream": "stdout",
       "text": [
        "\n",
        "\u041c\u043e\u0440\u0448\u0430\u043d\u0441\u043a was found"
       ]
      },
      {
       "output_type": "stream",
       "stream": "stdout",
       "text": [
        "\n",
        "Now querying \u041c\u043e\u0441\u0430\u043b\u044c\u0441\u043a..."
       ]
      },
      {
       "output_type": "stream",
       "stream": "stdout",
       "text": [
        "\n",
        "\u041c\u043e\u0441\u0430\u043b\u044c\u0441\u043a was found"
       ]
      },
      {
       "output_type": "stream",
       "stream": "stdout",
       "text": [
        "\n",
        "Now querying \u041c\u043e\u0441\u0442\u043a\u0438..."
       ]
      },
      {
       "output_type": "stream",
       "stream": "stdout",
       "text": [
        "\n",
        "\u041c\u043e\u0441\u0442\u043a\u0438 was found"
       ]
      },
      {
       "output_type": "stream",
       "stream": "stdout",
       "text": [
        "\n",
        "Now querying \u041c\u043e\u0441\u0442\u043e\u0432\u0441\u043a\u043e\u0435..."
       ]
      },
      {
       "output_type": "stream",
       "stream": "stdout",
       "text": [
        "\n",
        "\u041c\u043e\u0441\u0442\u043e\u0432\u0441\u043a\u043e\u0435 was found"
       ]
      },
      {
       "output_type": "stream",
       "stream": "stdout",
       "text": [
        "\n",
        "Now querying \u041c\u043e\u0446\u044b\u043d\u0430..."
       ]
      },
      {
       "output_type": "stream",
       "stream": "stdout",
       "text": [
        "\n",
        "Now querying \u041c\u043e\u0448\u0435\u0439\u043a\u0430..."
       ]
      },
      {
       "output_type": "stream",
       "stream": "stdout",
       "text": [
        "\n",
        "Now querying \u041c\u0440\u0438\u043d..."
       ]
      },
      {
       "output_type": "stream",
       "stream": "stdout",
       "text": [
        "\n",
        "\u041c\u0440\u0438\u043d was found"
       ]
      },
      {
       "output_type": "stream",
       "stream": "stdout",
       "text": [
        "\n",
        "Now querying \u041c\u0441\u0442\u0438\u0441\u043b\u0430\u0432\u043b\u044c..."
       ]
      },
      {
       "output_type": "stream",
       "stream": "stdout",
       "text": [
        "\n",
        "\u041c\u0441\u0442\u0438\u0441\u043b\u0430\u0432\u043b\u044c was found"
       ]
      },
      {
       "output_type": "stream",
       "stream": "stdout",
       "text": [
        "\n",
        "Now querying \u041c\u0443\u0440\u0430\u0442\u043e\u0432\u0430..."
       ]
      },
      {
       "output_type": "stream",
       "stream": "stdout",
       "text": [
        "\n",
        "Now querying \u041c\u0443\u0440\u0437\u044b\u043d\u043a\u0430..."
       ]
      },
      {
       "output_type": "stream",
       "stream": "stdout",
       "text": [
        "\n",
        "Now querying \u041c\u0443\u0440\u0438\u043a\u043e\u0432\u043e..."
       ]
      },
      {
       "output_type": "stream",
       "stream": "stdout",
       "text": [
        "\n",
        "\u041c\u0443\u0440\u0438\u043a\u043e\u0432\u043e was found"
       ]
      },
      {
       "output_type": "stream",
       "stream": "stdout",
       "text": [
        "\n",
        "Now querying \u041c\u0443\u0440\u043e\u043c..."
       ]
      },
      {
       "output_type": "stream",
       "stream": "stdout",
       "text": [
        "\n",
        "\u041c\u0443\u0440\u043e\u043c was found"
       ]
      },
      {
       "output_type": "stream",
       "stream": "stdout",
       "text": [
        "\n",
        "Now querying \u041c\u0446\u0435\u043d\u0441\u043a..."
       ]
      },
      {
       "output_type": "stream",
       "stream": "stdout",
       "text": [
        "\n",
        "\u041c\u0446\u0435\u043d\u0441\u043a was found"
       ]
      },
      {
       "output_type": "stream",
       "stream": "stdout",
       "text": [
        "\n",
        "Now querying \u041c\u0448\u0430\u0433\u0430..."
       ]
      },
      {
       "output_type": "stream",
       "stream": "stdout",
       "text": [
        "\n",
        "\u041c\u0448\u0430\u0433\u0430 was found"
       ]
      },
      {
       "output_type": "stream",
       "stream": "stdout",
       "text": [
        "\n",
        "Now querying \u041c\u044b\u0448\u043a\u0438\u043d..."
       ]
      },
      {
       "output_type": "stream",
       "stream": "stdout",
       "text": [
        "\n",
        "\u041c\u044b\u0448\u043a\u0438\u043d was found"
       ]
      },
      {
       "output_type": "stream",
       "stream": "stdout",
       "text": [
        "\n",
        "Now querying \u041c\u044f\u0433\u043a\u043e\u0435..."
       ]
      },
      {
       "output_type": "stream",
       "stream": "stdout",
       "text": [
        "\n",
        "\u041c\u044f\u0433\u043a\u043e\u0435 was found"
       ]
      },
      {
       "output_type": "stream",
       "stream": "stdout",
       "text": [
        "\n",
        "Now querying \u041d\u0430\u0431\u0434\u0438\u043d..."
       ]
      },
      {
       "output_type": "stream",
       "stream": "stdout",
       "text": [
        "\n",
        "Now querying \u041d\u0430\u0440\u0432\u0430..."
       ]
      },
      {
       "output_type": "stream",
       "stream": "stdout",
       "text": [
        "\n",
        "\u041d\u0430\u0440\u0432\u0430 was found"
       ]
      },
      {
       "output_type": "stream",
       "stream": "stdout",
       "text": [
        "\n",
        "Now querying \u041d\u0430\u0440\u043e\u0432\u0447\u0430\u0442..."
       ]
      },
      {
       "output_type": "stream",
       "stream": "stdout",
       "text": [
        "\n",
        "\u041d\u0430\u0440\u043e\u0432\u0447\u0430\u0442 was found"
       ]
      },
      {
       "output_type": "stream",
       "stream": "stdout",
       "text": [
        "\n",
        "Now querying \u041d\u0430\u0441\u043f\u0438\u0449\u0438..."
       ]
      },
      {
       "output_type": "stream",
       "stream": "stdout",
       "text": [
        "\n",
        "Now querying \u041d\u0435\u0432\u0435\u043b\u044c..."
       ]
      },
      {
       "output_type": "stream",
       "stream": "stdout",
       "text": [
        "\n",
        "\u041d\u0435\u0432\u0435\u043b\u044c was found"
       ]
      },
      {
       "output_type": "stream",
       "stream": "stdout",
       "text": [
        "\n",
        "Now querying \u041d\u0435\u043b\u044c\u044f\u043d\u0441\u043a\u043e\u0439..."
       ]
      },
      {
       "output_type": "stream",
       "stream": "stdout",
       "text": [
        "\n",
        "Querying alternate name \u041d\u0435\u043b\u044c\u044f\u043d\u0441\u043a\u0438\u0439"
       ]
      },
      {
       "output_type": "stream",
       "stream": "stdout",
       "text": [
        "\n",
        "Now querying \u041d\u0435\u0434\u0440\u0438\u0433\u0430\u0439\u043b\u043e\u0432..."
       ]
      },
      {
       "output_type": "stream",
       "stream": "stdout",
       "text": [
        "\n",
        "\u041d\u0435\u0434\u0440\u0438\u0433\u0430\u0439\u043b\u043e\u0432 was found"
       ]
      },
      {
       "output_type": "stream",
       "stream": "stdout",
       "text": [
        "\n",
        "Now querying \u041d\u0435\u0439\u0448\u043b\u043e\u0442..."
       ]
      },
      {
       "output_type": "stream",
       "stream": "stdout",
       "text": [
        "\n",
        "Now querying \u041d\u0435\u0440\u0435\u0445\u0442\u0430..."
       ]
      },
      {
       "output_type": "stream",
       "stream": "stdout",
       "text": [
        "\n",
        "\u041d\u0435\u0440\u0435\u0445\u0442\u0430 was found"
       ]
      },
      {
       "output_type": "stream",
       "stream": "stdout",
       "text": [
        "\n",
        "Now querying \u041d\u0435\u0441\u0442\u0435\u0440\u043e\u0432\u0441\u043a\u043e\u0439..."
       ]
      },
      {
       "output_type": "stream",
       "stream": "stdout",
       "text": [
        "\n",
        "Querying alternate name \u041d\u0435\u0441\u0442\u0435\u0440\u043e\u0432\u0441\u043a\u0438\u0439"
       ]
      },
      {
       "output_type": "stream",
       "stream": "stdout",
       "text": [
        "\n",
        "Now querying \u041d\u043e\u0432\u043e\u0435\u0437\u0435\u0440\u0441\u043a\u043e\u0439 \u041a\u0438\u0440\u0438\u043b\u043e\u0432..."
       ]
      },
      {
       "output_type": "stream",
       "stream": "stdout",
       "text": [
        "\n",
        "Querying alternate name \u041d\u043e\u0432\u043e\u0435\u0437\u0435\u0440\u0441\u043a\u0438\u0439 \u041a\u0438\u0440\u0438\u043b\u043e\u0432"
       ]
      },
      {
       "output_type": "stream",
       "stream": "stdout",
       "text": [
        "\n",
        "Querying alternate name \u041d\u043e\u0432\u043e\u0435\u0437\u0435\u0440\u0441\u043a\u043e\u0439 \u041a\u0438\u0440\u0438\u043b\u043e\u0432\u043e"
       ]
      },
      {
       "output_type": "stream",
       "stream": "stdout",
       "text": [
        "\n",
        "Now querying \u041d\u043e\u0432\u043e\u0439 \u041c\u0438\u0440\u0433\u043e\u0440\u043e\u0434..."
       ]
      },
      {
       "output_type": "stream",
       "stream": "stdout",
       "text": [
        "\n",
        "Querying alternate name \u041d\u043e\u0432\u0438\u0439 \u041c\u0438\u0440\u0433\u043e\u0440\u043e\u0434"
       ]
      },
      {
       "output_type": "stream",
       "stream": "stdout",
       "text": [
        "\n",
        "Now querying \u041d\u043e\u0432\u043e\u0439 \u041e\u0441\u043a\u043e\u043b..."
       ]
      },
      {
       "output_type": "stream",
       "stream": "stdout",
       "text": [
        "\n",
        "Querying alternate name \u041d\u043e\u0432\u0438\u0439 \u041e\u0441\u043a\u043e\u043b"
       ]
      },
      {
       "output_type": "stream",
       "stream": "stdout",
       "text": [
        "\n",
        "Now querying \u041d\u043e\u0432\u044b\u0435 \u041c\u043b\u0438\u043d\u044b..."
       ]
      },
      {
       "output_type": "stream",
       "stream": "stdout",
       "text": [
        "\n",
        "Now querying \u041d\u043e\u0432\u043e\u043d\u0438\u043a\u043e\u043b\u044c\u0441\u043a\u043e\u0435..."
       ]
      },
      {
       "output_type": "stream",
       "stream": "stdout",
       "text": [
        "\n",
        "\u041d\u043e\u0432\u043e\u043d\u0438\u043a\u043e\u043b\u044c\u0441\u043a\u043e\u0435 was found"
       ]
      },
      {
       "output_type": "stream",
       "stream": "stdout",
       "text": [
        "\n",
        "Now querying \u041d\u043e\u0432\u043e\u0441\u0438\u043b\u044c..."
       ]
      },
      {
       "output_type": "stream",
       "stream": "stdout",
       "text": [
        "\n",
        "\u041d\u043e\u0432\u043e\u0441\u0438\u043b\u044c was found"
       ]
      },
      {
       "output_type": "stream",
       "stream": "stdout",
       "text": [
        "\n",
        "Now querying \u041d\u043e\u0441\u043e\u0432\u0438\u0447\u0438..."
       ]
      },
      {
       "output_type": "stream",
       "stream": "stdout",
       "text": [
        "\n",
        "\u041d\u043e\u0441\u043e\u0432\u0438\u0447\u0438 was found"
       ]
      },
      {
       "output_type": "stream",
       "stream": "stdout",
       "text": [
        "\n",
        "Now querying \u041d\u043e\u0441\u043e\u0432\u043a\u0430..."
       ]
      },
      {
       "output_type": "stream",
       "stream": "stdout",
       "text": [
        "\n",
        "\u041d\u043e\u0441\u043e\u0432\u043a\u0430 was found"
       ]
      },
      {
       "output_type": "stream",
       "stream": "stdout",
       "text": [
        "\n",
        "Now querying \u041d\u0443\u0440\u043e\u043c\u0441\u043a\u043e\u0439..."
       ]
      },
      {
       "output_type": "stream",
       "stream": "stdout",
       "text": [
        "\n",
        "Querying alternate name \u041d\u0443\u0440\u043e\u043c\u0441\u043a\u0438\u0439"
       ]
      },
      {
       "output_type": "stream",
       "stream": "stdout",
       "text": [
        "\n",
        "Now querying \u041d\u0435\u0436\u0438\u043d..."
       ]
      },
      {
       "output_type": "stream",
       "stream": "stdout",
       "text": [
        "\n",
        "\u041d\u0435\u0436\u0438\u043d was found"
       ]
      },
      {
       "output_type": "stream",
       "stream": "stdout",
       "text": [
        "\n",
        "Now querying \u041e\u0431\u0435\u0440\u044a-\u041f\u0430\u043b\u0435\u043d..."
       ]
      },
      {
       "output_type": "stream",
       "stream": "stdout",
       "text": [
        "\n",
        "Now querying \u041e\u0431\u043e\u044f\u043d\u044c..."
       ]
      },
      {
       "output_type": "stream",
       "stream": "stdout",
       "text": [
        "\n",
        "\u041e\u0431\u043e\u044f\u043d\u044c was found"
       ]
      },
      {
       "output_type": "stream",
       "stream": "stdout",
       "text": [
        "\n",
        "Now querying \u041e\u0431\u0440\u0443\u0431..."
       ]
      },
      {
       "output_type": "stream",
       "stream": "stdout",
       "text": [
        "\n",
        "\u041e\u0431\u0440\u0443\u0431 was found"
       ]
      },
      {
       "output_type": "stream",
       "stream": "stdout",
       "text": [
        "\n",
        "Now querying \u041e\u0434\u0438\u043d\u0446\u043e\u0432\u043e..."
       ]
      },
      {
       "output_type": "stream",
       "stream": "stdout",
       "text": [
        "\n",
        "\u041e\u0434\u0438\u043d\u0446\u043e\u0432\u043e was found"
       ]
      },
      {
       "output_type": "stream",
       "stream": "stdout",
       "text": [
        "\n",
        "Now querying \u041e\u0434\u043e\u0435\u0432..."
       ]
      },
      {
       "output_type": "stream",
       "stream": "stdout",
       "text": [
        "\n",
        "\u041e\u0434\u043e\u0435\u0432 was found"
       ]
      },
      {
       "output_type": "stream",
       "stream": "stdout",
       "text": [
        "\n",
        "Now querying \u041e\u0434\u0440\u0438\u043d \u041d\u0438\u043a\u043e\u043b\u0430\u0435\u0432\u0441\u043a\u043e\u0439..."
       ]
      },
      {
       "output_type": "stream",
       "stream": "stdout",
       "text": [
        "\n",
        "Querying alternate name \u041e\u0434\u0440\u0438\u043d \u041d\u0438\u043a\u043e\u043b\u0430\u0435\u0432\u0441\u043a\u0438\u0439"
       ]
      },
      {
       "output_type": "stream",
       "stream": "stdout",
       "text": [
        "\n",
        "Now querying \u041e\u043a\u0432\u0430\u0434\u0441\u043a\u0430\u044f..."
       ]
      },
      {
       "output_type": "stream",
       "stream": "stdout",
       "text": [
        "\n",
        "Now querying \u041e\u043a\u0443\u043d\u0435\u0432\u0441\u043a..."
       ]
      },
      {
       "output_type": "stream",
       "stream": "stdout",
       "text": [
        "\n",
        "Querying alternate name \u041e\u043a\u0443\u043d\u0435\u0432"
       ]
      },
      {
       "output_type": "stream",
       "stream": "stdout",
       "text": [
        "\n",
        "Now querying \u041e\u043b\u0435\u043a\u043c\u0438\u043d\u0441\u043a..."
       ]
      },
      {
       "output_type": "stream",
       "stream": "stdout",
       "text": [
        "\n",
        "\u041e\u043b\u0435\u043a\u043c\u0438\u043d\u0441\u043a was found"
       ]
      },
      {
       "output_type": "stream",
       "stream": "stdout",
       "text": [
        "\n",
        "Now querying \u041e\u043b\u0438\u0448\u0435\u0432\u043a\u0430..."
       ]
      },
      {
       "output_type": "stream",
       "stream": "stdout",
       "text": [
        "\n",
        "\u041e\u043b\u0438\u0448\u0435\u0432\u043a\u0430 was found"
       ]
      },
      {
       "output_type": "stream",
       "stream": "stdout",
       "text": [
        "\n",
        "Now querying \u041e\u043b\u043e\u043d\u0435\u0446..."
       ]
      },
      {
       "output_type": "stream",
       "stream": "stdout",
       "text": [
        "\n",
        "\u041e\u043b\u043e\u043d\u0435\u0446 was found"
       ]
      },
      {
       "output_type": "stream",
       "stream": "stdout",
       "text": [
        "\n",
        "Now querying \u041e\u043b\u044c\u0445\u043e\u0432\u0430\u0442\u043a\u0430..."
       ]
      },
      {
       "output_type": "stream",
       "stream": "stdout",
       "text": [
        "\n",
        "\u041e\u043b\u044c\u0445\u043e\u0432\u0430\u0442\u043a\u0430 was found"
       ]
      },
      {
       "output_type": "stream",
       "stream": "stdout",
       "text": [
        "\n",
        "Now querying \u041e\u043b\u044b\u0448\u0430\u043d\u0430\u044f..."
       ]
      },
      {
       "output_type": "stream",
       "stream": "stdout",
       "text": [
        "\n",
        "Now querying \u041e\u043c\u0435\u043b\u044c\u043d\u0438\u043a..."
       ]
      },
      {
       "output_type": "stream",
       "stream": "stdout",
       "text": [
        "\n",
        "\u041e\u043c\u0435\u043b\u044c\u043d\u0438\u043a was found"
       ]
      },
      {
       "output_type": "stream",
       "stream": "stdout",
       "text": [
        "\n",
        "Now querying \u041e\u043d\u043e\u0444\u0440\u0438\u0435\u0432\u043e..."
       ]
      },
      {
       "output_type": "stream",
       "stream": "stdout",
       "text": [
        "\n",
        "Now querying \u041e\u043f\u043e\u0447\u043a\u0430..."
       ]
      },
      {
       "output_type": "stream",
       "stream": "stdout",
       "text": [
        "\n",
        "\u041e\u043f\u043e\u0447\u043a\u0430 was found"
       ]
      },
      {
       "output_type": "stream",
       "stream": "stdout",
       "text": [
        "\n",
        "Now querying \u041e\u043f\u043e\u0448\u043d\u043e\u0435..."
       ]
      },
      {
       "output_type": "stream",
       "stream": "stdout",
       "text": [
        "\n",
        "Now querying \u041e\u043f\u0443\u0448\u043a\u0430..."
       ]
      },
      {
       "output_type": "stream",
       "stream": "stdout",
       "text": [
        "\n",
        "\u041e\u043f\u0443\u0448\u043a\u0430 was found"
       ]
      },
      {
       "output_type": "stream",
       "stream": "stdout",
       "text": [
        "\n",
        "Now querying \u041e\u0440\u0435\u043d\u0431\u0443\u0440\u0433..."
       ]
      },
      {
       "output_type": "stream",
       "stream": "stdout",
       "text": [
        "\n",
        "\u041e\u0440\u0435\u043d\u0431\u0443\u0440\u0433 was found"
       ]
      },
      {
       "output_type": "stream",
       "stream": "stdout",
       "text": [
        "\n",
        "Now querying \u041e\u0440\u043b\u0438\u043a..."
       ]
      },
      {
       "output_type": "stream",
       "stream": "stdout",
       "text": [
        "\n",
        "\u041e\u0440\u043b\u0438\u043a was found"
       ]
      },
      {
       "output_type": "stream",
       "stream": "stdout",
       "text": [
        "\n",
        "Now querying \u041e\u0440\u043b\u043e\u0432..."
       ]
      },
      {
       "output_type": "stream",
       "stream": "stdout",
       "text": [
        "\n",
        "\u041e\u0440\u043b\u043e\u0432 was found"
       ]
      },
      {
       "output_type": "stream",
       "stream": "stdout",
       "text": [
        "\n",
        "Now querying \u041e\u0440\u0435\u0445\u043e\u0432\u043a\u0430..."
       ]
      },
      {
       "output_type": "stream",
       "stream": "stdout",
       "text": [
        "\n",
        "\u041e\u0440\u0435\u0445\u043e\u0432\u043a\u0430 was found"
       ]
      },
      {
       "output_type": "stream",
       "stream": "stdout",
       "text": [
        "\n",
        "Now querying \u041e\u0441\u043a\u0438\u043d\u043e..."
       ]
      },
      {
       "output_type": "stream",
       "stream": "stdout",
       "text": [
        "\n",
        "\u041e\u0441\u043a\u0438\u043d\u043e was found"
       ]
      },
      {
       "output_type": "stream",
       "stream": "stdout",
       "text": [
        "\n",
        "Now querying \u041e\u0441\u0442\u0430\u043f\u044c\u0435..."
       ]
      },
      {
       "output_type": "stream",
       "stream": "stdout",
       "text": [
        "\n",
        "\u041e\u0441\u0442\u0430\u043f\u044c\u0435 was found"
       ]
      },
      {
       "output_type": "stream",
       "stream": "stdout",
       "text": [
        "\n",
        "Now querying \u041e\u0441\u0442\u0430\u0448\u043a\u043e\u0432..."
       ]
      },
      {
       "output_type": "stream",
       "stream": "stdout",
       "text": [
        "\n",
        "\u041e\u0441\u0442\u0430\u0448\u043a\u043e\u0432 was found"
       ]
      },
      {
       "output_type": "stream",
       "stream": "stdout",
       "text": [
        "\n",
        "Now querying \u041e\u0441\u0442\u0435\u0440..."
       ]
      },
      {
       "output_type": "stream",
       "stream": "stdout",
       "text": [
        "\n",
        "\u041e\u0441\u0442\u0435\u0440 was found"
       ]
      },
      {
       "output_type": "stream",
       "stream": "stdout",
       "text": [
        "\n",
        "Now querying \u041e\u0441\u0442\u0440\u0430\u043c\u044c\u0435\u0432\u043e..."
       ]
      },
      {
       "output_type": "stream",
       "stream": "stdout",
       "text": [
        "\n",
        "Now querying \u041e\u0441\u0442\u0440\u043e\u0432..."
       ]
      },
      {
       "output_type": "stream",
       "stream": "stdout",
       "text": [
        "\n",
        "\u041e\u0441\u0442\u0440\u043e\u0432 was found"
       ]
      },
      {
       "output_type": "stream",
       "stream": "stdout",
       "text": [
        "\n",
        "Now querying \u041e\u0441\u0442\u0440\u043e\u0432\u043d\u044f..."
       ]
      },
      {
       "output_type": "stream",
       "stream": "stdout",
       "text": [
        "\n",
        "Now querying \u041e\u0441\u0442\u0440\u043e\u0433\u043e\u0436\u0441\u043a..."
       ]
      },
      {
       "output_type": "stream",
       "stream": "stdout",
       "text": [
        "\n",
        "\u041e\u0441\u0442\u0440\u043e\u0433\u043e\u0436\u0441\u043a was found"
       ]
      },
      {
       "output_type": "stream",
       "stream": "stdout",
       "text": [
        "\n",
        "Now querying \u041f\u0430\u0432\u043b\u043e\u0432\u043e..."
       ]
      },
      {
       "output_type": "stream",
       "stream": "stdout",
       "text": [
        "\n",
        "\u041f\u0430\u0432\u043b\u043e\u0432\u043e was found"
       ]
      },
      {
       "output_type": "stream",
       "stream": "stdout",
       "text": [
        "\n",
        "Now querying \u041f\u0430\u0432\u043b\u043e\u0433\u0440\u0430\u0434..."
       ]
      },
      {
       "output_type": "stream",
       "stream": "stdout",
       "text": [
        "\n",
        "\u041f\u0430\u0432\u043b\u043e\u0433\u0440\u0430\u0434 was found"
       ]
      },
      {
       "output_type": "stream",
       "stream": "stdout",
       "text": [
        "\n",
        "Now querying \u041f\u0430\u0440\u0441\u043a\u043e\u0435..."
       ]
      },
      {
       "output_type": "stream",
       "stream": "stdout",
       "text": [
        "\n",
        "\u041f\u0430\u0440\u0441\u043a\u043e\u0435 was found"
       ]
      },
      {
       "output_type": "stream",
       "stream": "stdout",
       "text": [
        "\n",
        "Now querying \u041f\u0430\u0440\u0444\u0435\u043d\u044c\u0435\u0432\u0430..."
       ]
      },
      {
       "output_type": "stream",
       "stream": "stdout",
       "text": [
        "\n",
        "Now querying \u041f\u0430\u0444\u043d\u0443\u0442\u044c\u0435\u0432..."
       ]
      },
      {
       "output_type": "stream",
       "stream": "stdout",
       "text": [
        "\n",
        "Querying alternate name \u041f\u0430\u0444\u043d\u0443\u0442\u044c\u0435\u0432\u043e"
       ]
      },
      {
       "output_type": "stream",
       "stream": "stdout",
       "text": [
        "\n",
        "Now querying \u041f\u0435\u043d\u0430..."
       ]
      },
      {
       "output_type": "stream",
       "stream": "stdout",
       "text": [
        "\n",
        "\u041f\u0435\u043d\u0430 was found"
       ]
      },
      {
       "output_type": "stream",
       "stream": "stdout",
       "text": [
        "\n",
        "Now querying \u041f\u0435\u043d\u0437\u0430..."
       ]
      },
      {
       "output_type": "stream",
       "stream": "stdout",
       "text": [
        "\n",
        "\u041f\u0435\u043d\u0437\u0430 was found"
       ]
      },
      {
       "output_type": "stream",
       "stream": "stdout",
       "text": [
        "\n",
        "Now querying \u041f\u0435\u0440\u0435\u0432\u0438\u0446\u043a\u043e\u0439 \u0422\u043e\u0440\u0436\u043e\u043a..."
       ]
      },
      {
       "output_type": "stream",
       "stream": "stdout",
       "text": [
        "\n",
        "Querying alternate name \u041f\u0435\u0440\u0435\u0432\u0438\u0446\u043a\u0438\u0439 \u0422\u043e\u0440\u0436\u043e\u043a"
       ]
      },
      {
       "output_type": "stream",
       "stream": "stdout",
       "text": [
        "\n",
        "Now querying \u041f\u0435\u0440\u0435\u0432\u043e\u043b\u043e\u0447\u043d\u0430..."
       ]
      },
      {
       "output_type": "stream",
       "stream": "stdout",
       "text": [
        "\n",
        "\u041f\u0435\u0440\u0435\u0432\u043e\u043b\u043e\u0447\u043d\u0430 was found"
       ]
      },
      {
       "output_type": "stream",
       "stream": "stdout",
       "text": [
        "\n",
        "Now querying \u041f\u0435\u0440\u0435\u043a\u043e\u043f\u0435\u0446..."
       ]
      },
      {
       "output_type": "stream",
       "stream": "stdout",
       "text": [
        "\n",
        "Now querying \u041f\u0435\u0440\u0435\u043c\u044b\u0448\u043b\u044c..."
       ]
      },
      {
       "output_type": "stream",
       "stream": "stdout",
       "text": [
        "\n",
        "\u041f\u0435\u0440\u0435\u043c\u044b\u0448\u043b\u044c was found"
       ]
      },
      {
       "output_type": "stream",
       "stream": "stdout",
       "text": [
        "\n",
        "Now querying \u041f\u0435\u0440\u0435\u0441\u043b\u0430\u0432\u043b\u044c \u0417\u0430\u043b\u0435\u0441\u043a\u043e\u0439..."
       ]
      },
      {
       "output_type": "stream",
       "stream": "stdout",
       "text": [
        "\n",
        "Querying alternate name \u041f\u0435\u0440\u0435\u0441\u043b\u0430\u0432\u043b\u044c \u0417\u0430\u043b\u0435\u0441\u043a\u0438\u0439"
       ]
      },
      {
       "output_type": "stream",
       "stream": "stdout",
       "text": [
        "\n",
        "Now querying \u041f\u0435\u0440\u0435\u044f\u0441\u043b\u0430\u0432\u043b\u044c..."
       ]
      },
      {
       "output_type": "stream",
       "stream": "stdout",
       "text": [
        "\n",
        "Now querying \u041f\u0435\u0440\u043c\u044c..."
       ]
      },
      {
       "output_type": "stream",
       "stream": "stdout",
       "text": [
        "\n",
        "\u041f\u0435\u0440\u043c\u044c was found"
       ]
      },
      {
       "output_type": "stream",
       "stream": "stdout",
       "text": [
        "\n",
        "Now querying \u041f\u0435\u0440\u043d\u043e\u0432..."
       ]
      },
      {
       "output_type": "stream",
       "stream": "stdout",
       "text": [
        "\n",
        "\u041f\u0435\u0440\u043d\u043e\u0432 was found"
       ]
      },
      {
       "output_type": "stream",
       "stream": "stdout",
       "text": [
        "\n",
        "Now querying \u041f\u0435\u0442\u0440\u043e\u0432\u043a\u0438..."
       ]
      },
      {
       "output_type": "stream",
       "stream": "stdout",
       "text": [
        "\n",
        "Now querying \u041f\u0435\u0442\u0440\u043e\u0432\u0441\u043a..."
       ]
      },
      {
       "output_type": "stream",
       "stream": "stdout",
       "text": [
        "\n",
        "\u041f\u0435\u0442\u0440\u043e\u0432\u0441\u043a was found"
       ]
      },
      {
       "output_type": "stream",
       "stream": "stdout",
       "text": [
        "\n",
        "Now querying \u041f\u0435\u0442\u0440\u043e\u0432\u0441\u043a..."
       ]
      },
      {
       "output_type": "stream",
       "stream": "stdout",
       "text": [
        "\n",
        "\u041f\u0435\u0442\u0440\u043e\u0432\u0441\u043a was found"
       ]
      },
      {
       "output_type": "stream",
       "stream": "stdout",
       "text": [
        "\n",
        "Now querying \u041f\u0435\u0442\u0440\u043e\u0432\u0441\u043a\u0430\u044f..."
       ]
      },
      {
       "output_type": "stream",
       "stream": "stdout",
       "text": [
        "\n",
        "Now querying \u041f\u0435\u0442\u0440\u043e\u0432\u0441\u043a\u0430\u044f..."
       ]
      },
      {
       "output_type": "stream",
       "stream": "stdout",
       "text": [
        "\n",
        "\u041f\u0435\u0442\u0440\u043e\u0432\u0441\u043a\u0430\u044f was found"
       ]
      },
      {
       "output_type": "stream",
       "stream": "stdout",
       "text": [
        "\n",
        "Now querying \u041f\u0435\u0442\u0440\u043e\u0432\u0441\u043a\u043e\u0435..."
       ]
      },
      {
       "output_type": "stream",
       "stream": "stdout",
       "text": [
        "\n",
        "\u041f\u0435\u0442\u0440\u043e\u0432\u0441\u043a\u043e\u0435 was found"
       ]
      },
      {
       "output_type": "stream",
       "stream": "stdout",
       "text": [
        "\n",
        "Now querying \u041f\u0435\u0442\u0440\u043e\u043c\u0430..."
       ]
      },
      {
       "output_type": "stream",
       "stream": "stdout",
       "text": [
        "\n",
        "Now querying \u041f\u0435\u0442\u0440\u043e\u043f\u0430\u0432\u043b\u043e\u0432\u0441\u043a\u043e\u0439..."
       ]
      },
      {
       "output_type": "stream",
       "stream": "stdout",
       "text": [
        "\n",
        "Querying alternate name \u041f\u0435\u0442\u0440\u043e\u043f\u0430\u0432\u043b\u043e\u0432\u0441\u043a\u0438\u0439"
       ]
      },
      {
       "output_type": "stream",
       "stream": "stdout",
       "text": [
        "\n",
        "\u041f\u0435\u0442\u0440\u043e\u043f\u0430\u0432\u043b\u043e\u0432\u0441\u043a\u043e\u0439 was found querying with alternate spelling \u041f\u0435\u0442\u0440\u043e\u043f\u0430\u0432\u043b\u043e\u0432\u0441\u043a\u0438\u0439"
       ]
      },
      {
       "output_type": "stream",
       "stream": "stdout",
       "text": [
        "\n",
        "Now querying \u041f\u0435\u0447\u0435\u043d\u0435\u0433\u0438..."
       ]
      },
      {
       "output_type": "stream",
       "stream": "stdout",
       "text": [
        "\n",
        "\u041f\u0435\u0447\u0435\u043d\u0435\u0433\u0438 was found"
       ]
      },
      {
       "output_type": "stream",
       "stream": "stdout",
       "text": [
        "\n",
        "Now querying \u041f\u0438\u0440\u044f\u0442\u0438\u043d..."
       ]
      },
      {
       "output_type": "stream",
       "stream": "stdout",
       "text": [
        "\n",
        "\u041f\u0438\u0440\u044f\u0442\u0438\u043d was found"
       ]
      },
      {
       "output_type": "stream",
       "stream": "stdout",
       "text": [
        "\n",
        "Now querying \u041f\u0438\u0441\u0430\u0440\u0435\u0432\u043a\u0430..."
       ]
      },
      {
       "output_type": "stream",
       "stream": "stdout",
       "text": [
        "\n",
        "\u041f\u0438\u0441\u0430\u0440\u0435\u0432\u043a\u0430 was found"
       ]
      },
      {
       "output_type": "stream",
       "stream": "stdout",
       "text": [
        "\n",
        "Now querying \u041f\u0438\u0441\u0446\u043e\u0432\u043e..."
       ]
      },
      {
       "output_type": "stream",
       "stream": "stdout",
       "text": [
        "\n",
        "\u041f\u0438\u0441\u0446\u043e\u0432\u043e was found"
       ]
      },
      {
       "output_type": "stream",
       "stream": "stdout",
       "text": [
        "\n",
        "Now querying \u041f\u043b\u0435\u0441..."
       ]
      },
      {
       "output_type": "stream",
       "stream": "stdout",
       "text": [
        "\n",
        "\u041f\u043b\u0435\u0441 was found"
       ]
      },
      {
       "output_type": "stream",
       "stream": "stdout",
       "text": [
        "\n",
        "Now querying \u041f\u043b\u043e\u0441\u043a\u043e\u0435..."
       ]
      },
      {
       "output_type": "stream",
       "stream": "stdout",
       "text": [
        "\n",
        "\u041f\u043b\u043e\u0441\u043a\u043e\u0435 was found"
       ]
      },
      {
       "output_type": "stream",
       "stream": "stdout",
       "text": [
        "\n",
        "Now querying \u041f\u043b\u043e\u0445\u043e\u043d\u0430..."
       ]
      },
      {
       "output_type": "stream",
       "stream": "stdout",
       "text": [
        "\n",
        "Now querying \u041f\u043e\u0432\u043e\u0434\u043d\u0435\u0432\u043e..."
       ]
      },
      {
       "output_type": "stream",
       "stream": "stdout",
       "text": [
        "\n",
        "\u041f\u043e\u0432\u043e\u0434\u043d\u0435\u0432\u043e was found"
       ]
      },
      {
       "output_type": "stream",
       "stream": "stdout",
       "text": [
        "\n",
        "Now querying \u041f\u043e\u0433\u0430\u0440\u044c..."
       ]
      },
      {
       "output_type": "stream",
       "stream": "stdout",
       "text": [
        "\n",
        "\u041f\u043e\u0433\u0430\u0440\u044c was found"
       ]
      },
      {
       "output_type": "stream",
       "stream": "stdout",
       "text": [
        "\n",
        "Now querying \u041f\u043e\u0433\u0440\u043e\u043c\u0446\u0430..."
       ]
      },
      {
       "output_type": "stream",
       "stream": "stdout",
       "text": [
        "\n",
        "Now querying \u041f\u043e\u0434\u0432\u043e\u0440\u0433\u0430\u043b\u044c\u0441\u043a\u043e\u0435..."
       ]
      },
      {
       "output_type": "stream",
       "stream": "stdout",
       "text": [
        "\n",
        "Now querying \u041f\u043e\u0434\u043e\u043b..."
       ]
      },
      {
       "output_type": "stream",
       "stream": "stdout",
       "text": [
        "\n",
        "\u041f\u043e\u0434\u043e\u043b was found"
       ]
      },
      {
       "output_type": "stream",
       "stream": "stdout",
       "text": [
        "\n",
        "Now querying \u041f\u043e\u043a\u0440\u043e\u0432\u0441\u043a\u043e\u0435..."
       ]
      },
      {
       "output_type": "stream",
       "stream": "stdout",
       "text": [
        "\n",
        "\u041f\u043e\u043a\u0440\u043e\u0432\u0441\u043a\u043e\u0435 was found"
       ]
      },
      {
       "output_type": "stream",
       "stream": "stdout",
       "text": [
        "\n",
        "Now querying \u041f\u043e\u043a\u0440\u043e\u0432\u0441\u043a\u043e\u0435..."
       ]
      },
      {
       "output_type": "stream",
       "stream": "stdout",
       "text": [
        "\n",
        "\u041f\u043e\u043a\u0440\u043e\u0432\u0441\u043a\u043e\u0435 was found"
       ]
      },
      {
       "output_type": "stream",
       "stream": "stdout",
       "text": [
        "\n",
        "Now querying \u041f\u043e\u043a\u0440\u043e\u0432\u0441\u043a\u043e\u0435..."
       ]
      },
      {
       "output_type": "stream",
       "stream": "stdout",
       "text": [
        "\n",
        "\u041f\u043e\u043a\u0440\u043e\u0432\u0441\u043a\u043e\u0435 was found"
       ]
      },
      {
       "output_type": "stream",
       "stream": "stdout",
       "text": [
        "\n",
        "Now querying \u041f\u043e\u043a\u0440\u043e\u0432\u0441\u043a\u043e\u0435..."
       ]
      },
      {
       "output_type": "stream",
       "stream": "stdout",
       "text": [
        "\n",
        "\u041f\u043e\u043a\u0440\u043e\u0432\u0441\u043a\u043e\u0435 was found"
       ]
      },
      {
       "output_type": "stream",
       "stream": "stdout",
       "text": [
        "\n",
        "Now querying \u041f\u043e\u043b\u043e\u0442\u0441\u043a..."
       ]
      },
      {
       "output_type": "stream",
       "stream": "stdout",
       "text": [
        "\n",
        "\u041f\u043e\u043b\u043e\u0442\u0441\u043a was found"
       ]
      },
      {
       "output_type": "stream",
       "stream": "stdout",
       "text": [
        "\n",
        "Now querying \u041f\u043e\u043b\u0442\u0430\u0432\u0430..."
       ]
      },
      {
       "output_type": "stream",
       "stream": "stdout",
       "text": [
        "\n",
        "\u041f\u043e\u043b\u0442\u0430\u0432\u0430 was found"
       ]
      },
      {
       "output_type": "stream",
       "stream": "stdout",
       "text": [
        "\n",
        "Now querying \u041f\u043e\u043d\u043e\u0440\u043d\u0438\u0446\u0430..."
       ]
      },
      {
       "output_type": "stream",
       "stream": "stdout",
       "text": [
        "\n",
        "\u041f\u043e\u043d\u043e\u0440\u043d\u0438\u0446\u0430 was found"
       ]
      },
      {
       "output_type": "stream",
       "stream": "stdout",
       "text": [
        "\n",
        "Now querying \u041f\u043e\u0440\u0435\u0447\u044c\u0435..."
       ]
      },
      {
       "output_type": "stream",
       "stream": "stdout",
       "text": [
        "\n",
        "\u041f\u043e\u0440\u0435\u0447\u044c\u0435 was found"
       ]
      },
      {
       "output_type": "stream",
       "stream": "stdout",
       "text": [
        "\n",
        "Now querying \u041f\u043e\u0440\u0435\u0447\u044c\u0435..."
       ]
      },
      {
       "output_type": "stream",
       "stream": "stdout",
       "text": [
        "\n",
        "\u041f\u043e\u0440\u0435\u0447\u044c\u0435 was found"
       ]
      },
      {
       "output_type": "stream",
       "stream": "stdout",
       "text": [
        "\n",
        "Now querying \u041f\u043e\u0442\u043e\u043a..."
       ]
      },
      {
       "output_type": "stream",
       "stream": "stdout",
       "text": [
        "\n",
        "\u041f\u043e\u0442\u043e\u043a was found"
       ]
      },
      {
       "output_type": "stream",
       "stream": "stdout",
       "text": [
        "\n",
        "Now querying \u041f\u043e\u0447\u0438\u043d\u043a\u0438..."
       ]
      },
      {
       "output_type": "stream",
       "stream": "stdout",
       "text": [
        "\n",
        "\u041f\u043e\u0447\u0438\u043d\u043a\u0438 was found"
       ]
      },
      {
       "output_type": "stream",
       "stream": "stdout",
       "text": [
        "\n",
        "Now querying \u041f\u043e\u0447\u0438\u043d\u043a\u0438..."
       ]
      },
      {
       "output_type": "stream",
       "stream": "stdout",
       "text": [
        "\n",
        "\u041f\u043e\u0447\u0438\u043d\u043a\u0438 was found"
       ]
      },
      {
       "output_type": "stream",
       "stream": "stdout",
       "text": [
        "\n",
        "Now querying \u041f\u043e\u0448\u0435\u0445\u043e\u043d\u044c..."
       ]
      },
      {
       "output_type": "stream",
       "stream": "stdout",
       "text": [
        "\n",
        "\u041f\u043e\u0448\u0435\u0445\u043e\u043d\u044c was found"
       ]
      },
      {
       "output_type": "stream",
       "stream": "stdout",
       "text": [
        "\n",
        "Now querying \u041f\u0440\u0435\u0437\u043c\u0430..."
       ]
      },
      {
       "output_type": "stream",
       "stream": "stdout",
       "text": [
        "\n",
        "\u041f\u0440\u0435\u0437\u043c\u0430 was found"
       ]
      },
      {
       "output_type": "stream",
       "stream": "stdout",
       "text": [
        "\n",
        "Now querying \u041f\u0440\u0435\u043b\u0438..."
       ]
      },
      {
       "output_type": "stream",
       "stream": "stdout",
       "text": [
        "\n",
        "\u041f\u0440\u0435\u043b\u0438 was found"
       ]
      },
      {
       "output_type": "stream",
       "stream": "stdout",
       "text": [
        "\n",
        "Now querying \u041f\u0440\u0438\u043b\u0443\u043a\u0438..."
       ]
      },
      {
       "output_type": "stream",
       "stream": "stdout",
       "text": [
        "\n",
        "\u041f\u0440\u0438\u043b\u0443\u043a\u0438 was found"
       ]
      },
      {
       "output_type": "stream",
       "stream": "stdout",
       "text": [
        "\n",
        "Now querying \u041f\u0440\u043e\u043d\u0441\u043a..."
       ]
      },
      {
       "output_type": "stream",
       "stream": "stdout",
       "text": [
        "\n",
        "\u041f\u0440\u043e\u043d\u0441\u043a was found"
       ]
      },
      {
       "output_type": "stream",
       "stream": "stdout",
       "text": [
        "\n",
        "Now querying \u041f\u0440\u043e\u043f\u043e\u0439\u0441\u043a..."
       ]
      },
      {
       "output_type": "stream",
       "stream": "stdout",
       "text": [
        "\n",
        "Querying alternate name \u041f\u0440\u043e\u043f\u043e\u0439"
       ]
      },
      {
       "output_type": "stream",
       "stream": "stdout",
       "text": [
        "\n",
        "Now querying \u041f\u0440\u043e\u0442\u043e\u043f\u043e\u043f\u043e\u0432\u0430..."
       ]
      },
      {
       "output_type": "stream",
       "stream": "stdout",
       "text": [
        "\n",
        "\u041f\u0440\u043e\u0442\u043e\u043f\u043e\u043f\u043e\u0432\u0430 was found"
       ]
      },
      {
       "output_type": "stream",
       "stream": "stdout",
       "text": [
        "\n",
        "Now querying \u041f\u0441\u043a\u043e\u0432..."
       ]
      },
      {
       "output_type": "stream",
       "stream": "stdout",
       "text": [
        "\n",
        "\u041f\u0441\u043a\u043e\u0432 was found"
       ]
      },
      {
       "output_type": "stream",
       "stream": "stdout",
       "text": [
        "\n",
        "Now querying \u041f\u0443\u0434\u043e\u0433\u0430..."
       ]
      },
      {
       "output_type": "stream",
       "stream": "stdout",
       "text": [
        "\n",
        "Now querying \u041f\u0443\u043f\u043a\u0438..."
       ]
      },
      {
       "output_type": "stream",
       "stream": "stdout",
       "text": [
        "\n",
        "\u041f\u0443\u043f\u043a\u0438 was found"
       ]
      },
      {
       "output_type": "stream",
       "stream": "stdout",
       "text": [
        "\n",
        "Now querying \u041f\u0443\u0442\u0438\u0432\u043b\u044c..."
       ]
      },
      {
       "output_type": "stream",
       "stream": "stdout",
       "text": [
        "\n",
        "\u041f\u0443\u0442\u0438\u0432\u043b\u044c was found"
       ]
      },
      {
       "output_type": "stream",
       "stream": "stdout",
       "text": [
        "\n",
        "Now querying \u041f\u0443\u0442\u044f\u0442\u0438\u043d\u043e..."
       ]
      },
      {
       "output_type": "stream",
       "stream": "stdout",
       "text": [
        "\n",
        "\u041f\u0443\u0442\u044f\u0442\u0438\u043d\u043e was found"
       ]
      },
      {
       "output_type": "stream",
       "stream": "stdout",
       "text": [
        "\n",
        "Now querying \u041f\u0443\u0448\u0430..."
       ]
      },
      {
       "output_type": "stream",
       "stream": "stdout",
       "text": [
        "\n",
        "\u041f\u0443\u0448\u0430 was found"
       ]
      },
      {
       "output_type": "stream",
       "stream": "stdout",
       "text": [
        "\n",
        "Now querying \u041f\u044f\u0442\u043d\u0438\u0446\u043a\u043e\u0435..."
       ]
      },
      {
       "output_type": "stream",
       "stream": "stdout",
       "text": [
        "\n",
        "\u041f\u044f\u0442\u043d\u0438\u0446\u043a\u043e\u0435 was found"
       ]
      },
      {
       "output_type": "stream",
       "stream": "stdout",
       "text": [
        "\n",
        "Now querying \u041f\u044f\u0442\u043d\u0438\u0446\u043a\u043e\u0435..."
       ]
      },
      {
       "output_type": "stream",
       "stream": "stdout",
       "text": [
        "\n",
        "\u041f\u044f\u0442\u043d\u0438\u0446\u043a\u043e\u0435 was found"
       ]
      },
      {
       "output_type": "stream",
       "stream": "stdout",
       "text": [
        "\n",
        "Now querying \u0420\u0430\u043c\u0435\u043d\u044c\u0435..."
       ]
      },
      {
       "output_type": "stream",
       "stream": "stdout",
       "text": [
        "\n",
        "\u0420\u0430\u043c\u0435\u043d\u044c\u0435 was found"
       ]
      },
      {
       "output_type": "stream",
       "stream": "stdout",
       "text": [
        "\n",
        "Now querying \u0420\u0430\u0442\u043a\u043e\u0432\u043a\u0430..."
       ]
      },
      {
       "output_type": "stream",
       "stream": "stdout",
       "text": [
        "\n",
        "\u0420\u0430\u0442\u043a\u043e\u0432\u043a\u0430 was found"
       ]
      },
      {
       "output_type": "stream",
       "stream": "stdout",
       "text": [
        "\n",
        "Now querying \u0420\u0430\u0442\u0441\u0431\u0443\u0440\u0433..."
       ]
      },
      {
       "output_type": "stream",
       "stream": "stdout",
       "text": [
        "\n",
        "Now querying \u0420\u0430\u0448\u0435\u0432\u043a\u0430..."
       ]
      },
      {
       "output_type": "stream",
       "stream": "stdout",
       "text": [
        "\n",
        "\u0420\u0430\u0448\u0435\u0432\u043a\u0430 was found"
       ]
      },
      {
       "output_type": "stream",
       "stream": "stdout",
       "text": [
        "\n",
        "Now querying \u0420\u0436\u0435\u0432 \u0412\u043e\u043b\u043e\u0434\u0438\u043c\u0435\u0440\u043e\u0432..."
       ]
      },
      {
       "output_type": "stream",
       "stream": "stdout",
       "text": [
        "\n",
        "Querying alternate name \u0420\u0436\u0435\u0432 \u0412\u043e\u043b\u043e\u0434\u0438\u043c\u0435\u0440\u043e\u0432\u043e"
       ]
      },
      {
       "output_type": "stream",
       "stream": "stdout",
       "text": [
        "\n",
        "Now querying \u0420\u0436\u0438\u0446\u0430..."
       ]
      },
      {
       "output_type": "stream",
       "stream": "stdout",
       "text": [
        "\n",
        "Now querying \u0420\u0438\u0433\u0430..."
       ]
      },
      {
       "output_type": "stream",
       "stream": "stdout",
       "text": [
        "\n",
        "\u0420\u0438\u0433\u0430 was found"
       ]
      },
      {
       "output_type": "stream",
       "stream": "stdout",
       "text": [
        "\n",
        "Now querying \u0420\u043e\u0433\u0430\u0447\u0435\u0432..."
       ]
      },
      {
       "output_type": "stream",
       "stream": "stdout",
       "text": [
        "\n",
        "\u0420\u043e\u0433\u0430\u0447\u0435\u0432 was found"
       ]
      },
      {
       "output_type": "stream",
       "stream": "stdout",
       "text": [
        "\n",
        "Now querying \u0420\u043e\u0433\u0430\u0447\u0435\u0432\u043e..."
       ]
      },
      {
       "output_type": "stream",
       "stream": "stdout",
       "text": [
        "\n",
        "\u0420\u043e\u0433\u0430\u0447\u0435\u0432\u043e was found"
       ]
      },
      {
       "output_type": "stream",
       "stream": "stdout",
       "text": [
        "\n",
        "Now querying \u0420\u043e\u0436\u0435\u0441\u0442\u0432\u0435\u043d\u0441\u043a\u043e\u0435..."
       ]
      },
      {
       "output_type": "stream",
       "stream": "stdout",
       "text": [
        "\n",
        "Now querying \u0420\u043e\u043b\u043e\u0432\u0441\u043a\u043e\u0435..."
       ]
      },
      {
       "output_type": "stream",
       "stream": "stdout",
       "text": [
        "\n",
        "Now querying \u0420\u043e\u043c\u0430\u043d\u043e\u0432..."
       ]
      },
      {
       "output_type": "stream",
       "stream": "stdout",
       "text": [
        "\n",
        "Querying alternate name \u0420\u043e\u043c\u0430\u043d\u043e\u0432\u043e"
       ]
      },
      {
       "output_type": "stream",
       "stream": "stdout",
       "text": [
        "\n",
        "\u0420\u043e\u043c\u0430\u043d\u043e\u0432 was found querying with alternate spelling \u0420\u043e\u043c\u0430\u043d\u043e\u0432\u043e"
       ]
      },
      {
       "output_type": "stream",
       "stream": "stdout",
       "text": [
        "\n",
        "Now querying \u0420\u043e\u043c\u0435\u043d..."
       ]
      },
      {
       "output_type": "stream",
       "stream": "stdout",
       "text": [
        "\n",
        "Now querying \u0420\u043e\u043f\u0441\u043a..."
       ]
      },
      {
       "output_type": "stream",
       "stream": "stdout",
       "text": [
        "\n",
        "\u0420\u043e\u043f\u0441\u043a was found"
       ]
      },
      {
       "output_type": "stream",
       "stream": "stdout",
       "text": [
        "\n",
        "Now querying \u0420\u043e\u0441\u0442\u043e\u0432..."
       ]
      },
      {
       "output_type": "stream",
       "stream": "stdout",
       "text": [
        "\n",
        "\u0420\u043e\u0441\u0442\u043e\u0432 was found"
       ]
      },
      {
       "output_type": "stream",
       "stream": "stdout",
       "text": [
        "\n",
        "Now querying \u0420\u0443\u0431\u0435\u0436\u043d\u0430\u044f..."
       ]
      },
      {
       "output_type": "stream",
       "stream": "stdout",
       "text": [
        "\n",
        "Now querying \u0420\u0443\u0436\u043d\u043e\u0435..."
       ]
      },
      {
       "output_type": "stream",
       "stream": "stdout",
       "text": [
        "\n",
        "\u0420\u0443\u0436\u043d\u043e\u0435 was found"
       ]
      },
      {
       "output_type": "stream",
       "stream": "stdout",
       "text": [
        "\n",
        "Now querying \u0420\u0443\u0437\u0430..."
       ]
      },
      {
       "output_type": "stream",
       "stream": "stdout",
       "text": [
        "\n",
        "\u0420\u0443\u0437\u0430 was found"
       ]
      },
      {
       "output_type": "stream",
       "stream": "stdout",
       "text": [
        "\n",
        "Now querying \u0420\u0443\u0448\u043e\u043d\u0430..."
       ]
      },
      {
       "output_type": "stream",
       "stream": "stdout",
       "text": [
        "\n",
        "Now querying \u0420\u044b\u0431\u0438\u043d\u0441\u043a..."
       ]
      },
      {
       "output_type": "stream",
       "stream": "stdout",
       "text": [
        "\n",
        "\u0420\u044b\u0431\u0438\u043d\u0441\u043a was found"
       ]
      },
      {
       "output_type": "stream",
       "stream": "stdout",
       "text": [
        "\n",
        "Now querying \u0420\u044b\u0436\u043a\u043e\u0432\u043e..."
       ]
      },
      {
       "output_type": "stream",
       "stream": "stdout",
       "text": [
        "\n",
        "\u0420\u044b\u0436\u043a\u043e\u0432\u043e was found"
       ]
      },
      {
       "output_type": "stream",
       "stream": "stdout",
       "text": [
        "\n",
        "Now querying \u0420\u044b\u0437\u043d..."
       ]
      },
      {
       "output_type": "stream",
       "stream": "stdout",
       "text": [
        "\n",
        "Now querying \u0420\u044b\u043b\u044c\u0441\u043a..."
       ]
      },
      {
       "output_type": "stream",
       "stream": "stdout",
       "text": [
        "\n",
        "\u0420\u044b\u043b\u044c\u0441\u043a was found"
       ]
      },
      {
       "output_type": "stream",
       "stream": "stdout",
       "text": [
        "\n",
        "Now querying \u0420\u0435\u0437\u044b\u0446\u044b..."
       ]
      },
      {
       "output_type": "stream",
       "stream": "stdout",
       "text": [
        "\n",
        "Now querying \u0420\u0435\u043f\u043a\u0438..."
       ]
      },
      {
       "output_type": "stream",
       "stream": "stdout",
       "text": [
        "\n",
        "\u0420\u0435\u043f\u043a\u0438 was found"
       ]
      },
      {
       "output_type": "stream",
       "stream": "stdout",
       "text": [
        "\n",
        "Now querying \u0420\u044f\u0436\u0441\u043a..."
       ]
      },
      {
       "output_type": "stream",
       "stream": "stdout",
       "text": [
        "\n",
        "\u0420\u044f\u0436\u0441\u043a was found"
       ]
      },
      {
       "output_type": "stream",
       "stream": "stdout",
       "text": [
        "\n",
        "Now querying \u0420\u044f\u0437\u0430\u043d\u044c..."
       ]
      },
      {
       "output_type": "stream",
       "stream": "stdout",
       "text": [
        "\n",
        "\u0420\u044f\u0437\u0430\u043d\u044c was found"
       ]
      },
      {
       "output_type": "stream",
       "stream": "stdout",
       "text": [
        "\n",
        "Now querying \u0421\u0430\u0432\u0438\u043d \u0421\u0442\u043e\u0440\u043e\u0436\u0435\u0432\u0441\u043a\u0438\u0439..."
       ]
      },
      {
       "output_type": "stream",
       "stream": "stdout",
       "text": [
        "\n",
        "Now querying \u0421\u0430\u0432\u0438\u043d\u0438\u0446\u044b..."
       ]
      },
      {
       "output_type": "stream",
       "stream": "stdout",
       "text": [
        "\n",
        "Now querying \u0421\u0430\u043c\u0430\u0440\u0430..."
       ]
      },
      {
       "output_type": "stream",
       "stream": "stdout",
       "text": [
        "\n",
        "\u0421\u0430\u043c\u0430\u0440\u0430 was found"
       ]
      },
      {
       "output_type": "stream",
       "stream": "stdout",
       "text": [
        "\n",
        "Now querying \u0421\u0430\u043c\u0431\u043e\u0440\u0441\u043a\u043e\u0439..."
       ]
      },
      {
       "output_type": "stream",
       "stream": "stdout",
       "text": [
        "\n",
        "Querying alternate name \u0421\u0430\u043c\u0431\u043e\u0440\u0441\u043a\u0438\u0439"
       ]
      },
      {
       "output_type": "stream",
       "stream": "stdout",
       "text": [
        "\n",
        "Now querying \u0421\u0430\u043f\u043e\u0436\u043e\u043a..."
       ]
      },
      {
       "output_type": "stream",
       "stream": "stdout",
       "text": [
        "\n",
        "\u0421\u0430\u043f\u043e\u0436\u043e\u043a was found"
       ]
      },
      {
       "output_type": "stream",
       "stream": "stdout",
       "text": [
        "\n",
        "Now querying \u0421\u0430\u0440\u0430\u0442\u043e\u0432..."
       ]
      },
      {
       "output_type": "stream",
       "stream": "stdout",
       "text": [
        "\n",
        "\u0421\u0430\u0440\u0430\u0442\u043e\u0432 was found"
       ]
      },
      {
       "output_type": "stream",
       "stream": "stdout",
       "text": [
        "\n",
        "Now querying \u0421\u0430\u0440\u0431\u0430\u0435\u0432\u043e..."
       ]
      },
      {
       "output_type": "stream",
       "stream": "stdout",
       "text": [
        "\n",
        "\u0421\u0430\u0440\u0431\u0430\u0435\u0432\u043e was found"
       ]
      },
      {
       "output_type": "stream",
       "stream": "stdout",
       "text": [
        "\n",
        "Now querying \u0421\u0430\u0441\u043e\u0432\u043e..."
       ]
      },
      {
       "output_type": "stream",
       "stream": "stdout",
       "text": [
        "\n",
        "\u0421\u0430\u0441\u043e\u0432\u043e was found"
       ]
      },
      {
       "output_type": "stream",
       "stream": "stdout",
       "text": [
        "\n",
        "Now querying \u0421\u0432\u0430\u0442\u043e\u0432\u0430 \u041b\u0443\u0447\u043a\u0430..."
       ]
      },
      {
       "output_type": "stream",
       "stream": "stdout",
       "text": [
        "\n",
        "Now querying \u0421\u0432\u0435\u0440\u0436\u0438\u043d..."
       ]
      },
      {
       "output_type": "stream",
       "stream": "stdout",
       "text": [
        "\n",
        "Now querying \u0421\u0432\u0438\u043d\u0441\u043a\u043e\u0439..."
       ]
      },
      {
       "output_type": "stream",
       "stream": "stdout",
       "text": [
        "\n",
        "Querying alternate name \u0421\u0432\u0438\u043d\u0441\u043a\u0438\u0439"
       ]
      },
      {
       "output_type": "stream",
       "stream": "stdout",
       "text": [
        "\n",
        "Now querying \u0421\u0432\u0438\u0440\u0441\u043a\u043e\u0439 \u0410\u043b\u0435\u043a\u0441\u0430\u043d\u0434\u0440\u043e\u0432\u0441\u043a\u043e\u0439..."
       ]
      },
      {
       "output_type": "stream",
       "stream": "stdout",
       "text": [
        "\n",
        "Querying alternate name \u0421\u0432\u0438\u0440\u0441\u043a\u0438\u0439 \u0410\u043b\u0435\u043a\u0441\u0430\u043d\u0434\u0440\u043e\u0432\u0441\u043a\u0438\u0439"
       ]
      },
      {
       "output_type": "stream",
       "stream": "stdout",
       "text": [
        "\n",
        "Now querying \u0421\u0432\u0438\u0430\u0436\u0441\u043a..."
       ]
      },
      {
       "output_type": "stream",
       "stream": "stdout",
       "text": [
        "\n",
        "Querying alternate name \u0421\u0432\u0438\u0430\u0436"
       ]
      },
      {
       "output_type": "stream",
       "stream": "stdout",
       "text": [
        "\n",
        "Now querying \u0421\u0432\u044f\u0442\u043e\u0433\u043e\u0440\u0441\u043a\u043e\u0439..."
       ]
      },
      {
       "output_type": "stream",
       "stream": "stdout",
       "text": [
        "\n",
        "Querying alternate name \u0421\u0432\u044f\u0442\u043e\u0433\u043e\u0440\u0441\u043a\u0438\u0439"
       ]
      },
      {
       "output_type": "stream",
       "stream": "stdout",
       "text": [
        "\n",
        "Now querying \u0421\u0432\u044f\u0442\u043e\u0435 \u041c\u0435\u0441\u0442\u043e..."
       ]
      },
      {
       "output_type": "stream",
       "stream": "stdout",
       "text": [
        "\n",
        "Now querying \u0421\u0435\u0431\u0435\u0436..."
       ]
      },
      {
       "output_type": "stream",
       "stream": "stdout",
       "text": [
        "\n",
        "\u0421\u0435\u0431\u0435\u0436 was found"
       ]
      },
      {
       "output_type": "stream",
       "stream": "stdout",
       "text": [
        "\n",
        "Now querying \u0421..."
       ]
      },
      {
       "output_type": "stream",
       "stream": "stdout",
       "text": [
        "\n",
        "\u0421 was found"
       ]
      },
      {
       "output_type": "stream",
       "stream": "stdout",
       "text": [
        "\n",
        "Now querying \u0421\u0435\u043c\u0435\u043d\u0434\u0435\u0435\u0432\u043e..."
       ]
      },
      {
       "output_type": "stream",
       "stream": "stdout",
       "text": [
        "\n",
        "Now querying \u0421\u0435\u043c\u0435\u043d\u043e\u0432..."
       ]
      },
      {
       "output_type": "stream",
       "stream": "stdout",
       "text": [
        "\n",
        "\u0421\u0435\u043c\u0435\u043d\u043e\u0432 was found"
       ]
      },
      {
       "output_type": "stream",
       "stream": "stdout",
       "text": [
        "\n",
        "Now querying \u0421\u0435\u043c\u0435\u043d\u043e\u0432\u0441\u043a\u043e\u0435..."
       ]
      },
      {
       "output_type": "stream",
       "stream": "stdout",
       "text": [
        "\n",
        "\u0421\u0435\u043c\u0435\u043d\u043e\u0432\u0441\u043a\u043e\u0435 was found"
       ]
      },
      {
       "output_type": "stream",
       "stream": "stdout",
       "text": [
        "\n",
        "Now querying \u0421\u0435\u043d\u043a\u043e\u0432\u0430..."
       ]
      },
      {
       "output_type": "stream",
       "stream": "stdout",
       "text": [
        "\n",
        "\u0421\u0435\u043d\u043a\u043e\u0432\u0430 was found"
       ]
      },
      {
       "output_type": "stream",
       "stream": "stdout",
       "text": [
        "\n",
        "Now querying \u0421\u0435\u0440\u0433\u0430\u0447\u044c..."
       ]
      },
      {
       "output_type": "stream",
       "stream": "stdout",
       "text": [
        "\n",
        "\u0421\u0435\u0440\u0433\u0430\u0447\u044c was found"
       ]
      },
      {
       "output_type": "stream",
       "stream": "stdout",
       "text": [
        "\n",
        "Now querying \u0421\u0435\u0440\u0434\u043e\u0431\u043e\u043b\u044c..."
       ]
      },
      {
       "output_type": "stream",
       "stream": "stdout",
       "text": [
        "\n",
        "\u0421\u0435\u0440\u0434\u043e\u0431\u043e\u043b\u044c was found"
       ]
      },
      {
       "output_type": "stream",
       "stream": "stdout",
       "text": [
        "\n",
        "Now querying \u0421\u0435\u0440\u0434\u043e\u0431\u0441\u043a..."
       ]
      },
      {
       "output_type": "stream",
       "stream": "stdout",
       "text": [
        "\n",
        "\u0421\u0435\u0440\u0434\u043e\u0431\u0441\u043a was found"
       ]
      },
      {
       "output_type": "stream",
       "stream": "stdout",
       "text": [
        "\n",
        "Now querying \u0421\u0435\u0440\u0435\u0432\u043a\u0430..."
       ]
      },
      {
       "output_type": "stream",
       "stream": "stdout",
       "text": [
        "\n",
        "Now querying \u0421\u0435\u0440\u0435\u0433\u0430..."
       ]
      },
      {
       "output_type": "stream",
       "stream": "stdout",
       "text": [
        "\n",
        "Now querying \u0421\u0435\u0440\u0435\u0434\u0430 \u0421\u0442\u0440\u0430\u0442\u0438\u043b\u0430\u0442\u0441\u043a\u0430\u044f..."
       ]
      },
      {
       "output_type": "stream",
       "stream": "stdout",
       "text": [
        "\n",
        "Now querying \u0421\u0435\u0440\u0435\u0434\u0438\u043d\u0430 \u0411\u0443\u0434\u0430..."
       ]
      },
      {
       "output_type": "stream",
       "stream": "stdout",
       "text": [
        "\n",
        "\u0421\u0435\u0440\u0435\u0434\u0438\u043d\u0430 \u0411\u0443\u0434\u0430 was found"
       ]
      },
      {
       "output_type": "stream",
       "stream": "stdout",
       "text": [
        "\n",
        "Now querying \u0421\u0435\u0440\u043f\u0435\u0439\u0441\u043a..."
       ]
      },
      {
       "output_type": "stream",
       "stream": "stdout",
       "text": [
        "\n",
        "\u0421\u0435\u0440\u043f\u0435\u0439\u0441\u043a was found"
       ]
      },
      {
       "output_type": "stream",
       "stream": "stdout",
       "text": [
        "\n",
        "Now querying \u0421\u0435\u0440\u043f\u0443\u0445\u043e\u0432..."
       ]
      },
      {
       "output_type": "stream",
       "stream": "stdout",
       "text": [
        "\n",
        "\u0421\u0435\u0440\u043f\u0443\u0445\u043e\u0432 was found"
       ]
      },
      {
       "output_type": "stream",
       "stream": "stdout",
       "text": [
        "\n",
        "Now querying \u0421\u0438\u043c..."
       ]
      },
      {
       "output_type": "stream",
       "stream": "stdout",
       "text": [
        "\n",
        "Now querying \u0421\u0438\u043c\u0435\u043e\u043d\u043e\u0432\u043a\u0430..."
       ]
      },
      {
       "output_type": "stream",
       "stream": "stdout",
       "text": [
        "\n",
        "Now querying \u0421\u0438\u043d\u0431\u0438\u0440\u0441\u043a..."
       ]
      },
      {
       "output_type": "stream",
       "stream": "stdout",
       "text": [
        "\n",
        "\u0421\u0438\u043d\u0431\u0438\u0440\u0441\u043a was found"
       ]
      },
      {
       "output_type": "stream",
       "stream": "stdout",
       "text": [
        "\n",
        "Now querying \u0421\u0438\u043d\u0441\u043a\u043e\u0439..."
       ]
      },
      {
       "output_type": "stream",
       "stream": "stdout",
       "text": [
        "\n",
        "Querying alternate name \u0421\u0438\u043d\u0441\u043a\u0438\u0439"
       ]
      },
      {
       "output_type": "stream",
       "stream": "stdout",
       "text": [
        "\n",
        "Now querying \u0421\u0438\u043d\u044f\u0432\u043a\u0438..."
       ]
      },
      {
       "output_type": "stream",
       "stream": "stdout",
       "text": [
        "\n",
        "Now querying \u0421\u043a\u043e\u043f\u0438\u043d..."
       ]
      },
      {
       "output_type": "stream",
       "stream": "stdout",
       "text": [
        "\n",
        "\u0421\u043a\u043e\u043f\u0438\u043d was found"
       ]
      },
      {
       "output_type": "stream",
       "stream": "stdout",
       "text": [
        "\n",
        "Now querying \u0421\u043b\u0430\u0432\u0433\u043e\u0440\u043e\u0434\u043a\u0430..."
       ]
      },
      {
       "output_type": "stream",
       "stream": "stdout",
       "text": [
        "\n",
        "\u0421\u043b\u0430\u0432\u0433\u043e\u0440\u043e\u0434\u043a\u0430 was found"
       ]
      },
      {
       "output_type": "stream",
       "stream": "stdout",
       "text": [
        "\n",
        "Now querying \u0421\u043b\u043e\u0431\u043e\u0434\u0441\u043a\u043e\u0439..."
       ]
      },
      {
       "output_type": "stream",
       "stream": "stdout",
       "text": [
        "\n",
        "\u0421\u043b\u043e\u0431\u043e\u0434\u0441\u043a\u043e\u0439 was found"
       ]
      },
      {
       "output_type": "stream",
       "stream": "stdout",
       "text": [
        "\n",
        "Now querying \u0421\u043b\u043e\u043b\u044c\u0446\u0430 \u041a\u043e\u043b\u0435\u0441\u043d\u0430\u044f..."
       ]
      },
      {
       "output_type": "stream",
       "stream": "stdout",
       "text": [
        "\n",
        "Now querying \u0421\u043c\u043e\u043b\u0435\u043d\u0441\u043a..."
       ]
      },
      {
       "output_type": "stream",
       "stream": "stdout",
       "text": [
        "\n",
        "\u0421\u043c\u043e\u043b\u0435\u043d\u0441\u043a was found"
       ]
      },
      {
       "output_type": "stream",
       "stream": "stdout",
       "text": [
        "\n",
        "Now querying \u0421\u043c\u0435\u043b\u043e\u0435..."
       ]
      },
      {
       "output_type": "stream",
       "stream": "stdout",
       "text": [
        "\n",
        "\u0421\u043c\u0435\u043b\u043e\u0435 was found"
       ]
      },
      {
       "output_type": "stream",
       "stream": "stdout",
       "text": [
        "\n",
        "Now querying \u0421\u043e\u043a\u043e\u043b..."
       ]
      },
      {
       "output_type": "stream",
       "stream": "stdout",
       "text": [
        "\n",
        "\u0421\u043e\u043a\u043e\u043b was found"
       ]
      },
      {
       "output_type": "stream",
       "stream": "stdout",
       "text": [
        "\n",
        "Now querying \u0421\u043e\u043b\u044c-\u0412\u044b\u0447\u0435\u0433\u043e\u0434\u0441\u043a..."
       ]
      },
      {
       "output_type": "stream",
       "stream": "stdout",
       "text": [
        "\n",
        "\u0421\u043e\u043b\u044c-\u0412\u044b\u0447\u0435\u0433\u043e\u0434\u0441\u043a was found"
       ]
      },
      {
       "output_type": "stream",
       "stream": "stdout",
       "text": [
        "\n",
        "Now querying \u0421\u043e\u043b\u044c-\u0413\u0430\u043b\u0438\u0446\u043a\u0430\u044f..."
       ]
      },
      {
       "output_type": "stream",
       "stream": "stdout",
       "text": [
        "\n",
        "Now querying \u0421\u043e\u043b\u044c\u0446\u043e..."
       ]
      },
      {
       "output_type": "stream",
       "stream": "stdout",
       "text": [
        "\n",
        "Now querying \u0421\u043e\u0440\u043e\u0447\u0438\u043d\u0446\u044b..."
       ]
      },
      {
       "output_type": "stream",
       "stream": "stdout",
       "text": [
        "\n",
        "\u0421\u043e\u0440\u043e\u0447\u0438\u043d\u0446\u044b was found"
       ]
      },
      {
       "output_type": "stream",
       "stream": "stdout",
       "text": [
        "\n",
        "Now querying \u0421\u043e\u0441\u043d\u0438\u0446\u0430..."
       ]
      },
      {
       "output_type": "stream",
       "stream": "stdout",
       "text": [
        "\n",
        "\u0421\u043e\u0441\u043d\u0438\u0446\u0430 was found"
       ]
      },
      {
       "output_type": "stream",
       "stream": "stdout",
       "text": [
        "\n",
        "Now querying \u0421\u043f\u0430\u0441..."
       ]
      },
      {
       "output_type": "stream",
       "stream": "stdout",
       "text": [
        "\n",
        "\u0421\u043f\u0430\u0441 was found"
       ]
      },
      {
       "output_type": "stream",
       "stream": "stdout",
       "text": [
        "\n",
        "Now querying \u0421\u043f\u0430\u0441..."
       ]
      },
      {
       "output_type": "stream",
       "stream": "stdout",
       "text": [
        "\n",
        "\u0421\u043f\u0430\u0441 was found"
       ]
      },
      {
       "output_type": "stream",
       "stream": "stdout",
       "text": [
        "\n",
        "Now querying \u0421\u043f\u0430\u0441\u043a..."
       ]
      },
      {
       "output_type": "stream",
       "stream": "stdout",
       "text": [
        "\n",
        "Querying alternate name \u0421\u043f\u0430"
       ]
      },
      {
       "output_type": "stream",
       "stream": "stdout",
       "text": [
        "\n",
        "Now querying \u0421\u043f\u0430\u0441\u043a\u043e\u0435..."
       ]
      },
      {
       "output_type": "stream",
       "stream": "stdout",
       "text": [
        "\n",
        "Now querying \u0421\u043f\u0438\u0440\u043e\u0432\u043e..."
       ]
      },
      {
       "output_type": "stream",
       "stream": "stdout",
       "text": [
        "\n",
        "\u0421\u043f\u0438\u0440\u043e\u0432\u043e was found"
       ]
      },
      {
       "output_type": "stream",
       "stream": "stdout",
       "text": [
        "\n",
        "Now querying \u0421\u0440\u0435\u0431\u043d\u043e\u0435..."
       ]
      },
      {
       "output_type": "stream",
       "stream": "stdout",
       "text": [
        "\n",
        "\u0421\u0440\u0435\u0431\u043d\u043e\u0435 was found"
       ]
      },
      {
       "output_type": "stream",
       "stream": "stdout",
       "text": [
        "\n",
        "Now querying \u0421\u0442\u0430\u0432\u0440\u043e\u043f\u043e\u043b\u044c..."
       ]
      },
      {
       "output_type": "stream",
       "stream": "stdout",
       "text": [
        "\n",
        "\u0421\u0442\u0430\u0432\u0440\u043e\u043f\u043e\u043b\u044c was found"
       ]
      },
      {
       "output_type": "stream",
       "stream": "stdout",
       "text": [
        "\n",
        "Now querying \u0421\u0442\u0430\u043b\u0435\u0440\u043e\u0432\u0447\u0438\u0437\u043d\u0430..."
       ]
      },
      {
       "output_type": "stream",
       "stream": "stdout",
       "text": [
        "\n",
        "Now querying \u0421\u0442\u0430\u0440\u0430\u044f \u0420\u0443\u0437\u0430..."
       ]
      },
      {
       "output_type": "stream",
       "stream": "stdout",
       "text": [
        "\n",
        "Now querying \u0421\u0442\u0430\u0440\u0430\u044f \u0420\u044f\u0437\u0430\u043d\u044c..."
       ]
      },
      {
       "output_type": "stream",
       "stream": "stdout",
       "text": [
        "\n",
        "\u0421\u0442\u0430\u0440\u0430\u044f \u0420\u044f\u0437\u0430\u043d\u044c was found"
       ]
      },
      {
       "output_type": "stream",
       "stream": "stdout",
       "text": [
        "\n",
        "Now querying \u0421\u0442\u0430\u0440\u0438\u043d\u0441\u043a\u043e\u0435..."
       ]
      },
      {
       "output_type": "stream",
       "stream": "stdout",
       "text": [
        "\n",
        "\u0421\u0442\u0430\u0440\u0438\u043d\u0441\u043a\u043e\u0435 was found"
       ]
      },
      {
       "output_type": "stream",
       "stream": "stdout",
       "text": [
        "\n",
        "Now querying \u0421\u0442\u0430\u0440\u0438\u0446\u0430..."
       ]
      },
      {
       "output_type": "stream",
       "stream": "stdout",
       "text": [
        "\n",
        "\u0421\u0442\u0430\u0440\u0438\u0446\u0430 was found"
       ]
      },
      {
       "output_type": "stream",
       "stream": "stdout",
       "text": [
        "\n",
        "Now querying \u0421\u0442\u0430\u0440\u043e\u0434\u0443\u0431..."
       ]
      },
      {
       "output_type": "stream",
       "stream": "stdout",
       "text": [
        "\n",
        "\u0421\u0442\u0430\u0440\u043e\u0434\u0443\u0431 was found"
       ]
      },
      {
       "output_type": "stream",
       "stream": "stdout",
       "text": [
        "\n",
        "Now querying \u0421\u0442\u0430\u0440\u043e\u0439 \u0411\u044b\u0445\u043e\u0432..."
       ]
      },
      {
       "output_type": "stream",
       "stream": "stdout",
       "text": [
        "\n",
        "Querying alternate name \u0421\u0442\u0430\u0440\u043e\u0439 \u0411\u044b\u0445\u043e\u0432\u043e"
       ]
      },
      {
       "output_type": "stream",
       "stream": "stdout",
       "text": [
        "\n",
        "Querying alternate name \u0421\u0442\u0430\u0440\u0438\u0439 \u0411\u044b\u0445\u043e\u0432"
       ]
      },
      {
       "output_type": "stream",
       "stream": "stdout",
       "text": [
        "\n",
        "Now querying \u0421\u0442\u0430\u0440\u043e\u0439 \u041e\u0441\u043a\u043e\u043b..."
       ]
      },
      {
       "output_type": "stream",
       "stream": "stdout",
       "text": [
        "\n",
        "Querying alternate name \u0421\u0442\u0430\u0440\u0438\u0439 \u041e\u0441\u043a\u043e\u043b"
       ]
      },
      {
       "output_type": "stream",
       "stream": "stdout",
       "text": [
        "\n",
        "\u0421\u0442\u0430\u0440\u043e\u0439 \u041e\u0441\u043a\u043e\u043b was found querying with alternate spelling \u0421\u0442\u0430\u0440\u0438\u0439 \u041e\u0441\u043a\u043e\u043b"
       ]
      },
      {
       "output_type": "stream",
       "stream": "stdout",
       "text": [
        "\n",
        "Now querying \u0421\u0442\u0430\u0440\u0446\u043e\u0432 \u0423\u0433\u043e\u043b..."
       ]
      },
      {
       "output_type": "stream",
       "stream": "stdout",
       "text": [
        "\n",
        "Now querying \u0421\u0442\u0435\u0448\u043a\u0438..."
       ]
      },
      {
       "output_type": "stream",
       "stream": "stdout",
       "text": [
        "\n",
        "Now querying \u0421\u0442\u043e\u044f\u043d\u0446\u044b..."
       ]
      },
      {
       "output_type": "stream",
       "stream": "stdout",
       "text": [
        "\n",
        "\u0421\u0442\u043e\u044f\u043d\u0446\u044b was found"
       ]
      },
      {
       "output_type": "stream",
       "stream": "stdout",
       "text": [
        "\n",
        "Now querying \u0421\u0442\u0440\u0435\u043b\u0438\u0446\u0430..."
       ]
      },
      {
       "output_type": "stream",
       "stream": "stdout",
       "text": [
        "\n",
        "\u0421\u0442\u0440\u0435\u043b\u0438\u0446\u0430 was found"
       ]
      },
      {
       "output_type": "stream",
       "stream": "stdout",
       "text": [
        "\n",
        "Now querying \u0421\u0442\u044b\u0440\u043d\u044f\u043d\u044c\u0438..."
       ]
      },
      {
       "output_type": "stream",
       "stream": "stdout",
       "text": [
        "\n",
        "Now querying \u0421\u0443\u0434\u0430\u0439..."
       ]
      },
      {
       "output_type": "stream",
       "stream": "stdout",
       "text": [
        "\n",
        "\u0421\u0443\u0434\u0430\u0439 was found"
       ]
      },
      {
       "output_type": "stream",
       "stream": "stdout",
       "text": [
        "\n",
        "Now querying \u0421\u0443\u0434\u0436\u0430..."
       ]
      },
      {
       "output_type": "stream",
       "stream": "stdout",
       "text": [
        "\n",
        "\u0421\u0443\u0434\u0436\u0430 was found"
       ]
      },
      {
       "output_type": "stream",
       "stream": "stdout",
       "text": [
        "\n",
        "Now querying \u0421\u0443\u0437\u0434\u0430\u043b\u044c..."
       ]
      },
      {
       "output_type": "stream",
       "stream": "stdout",
       "text": [
        "\n",
        "\u0421\u0443\u0437\u0434\u0430\u043b\u044c was found"
       ]
      },
      {
       "output_type": "stream",
       "stream": "stdout",
       "text": [
        "\n",
        "Now querying \u0421\u0443\u043c\u0441\u043a\u0430\u044f \u0412\u043e\u0440\u043e\u0436\u0431\u0430..."
       ]
      },
      {
       "output_type": "stream",
       "stream": "stdout",
       "text": [
        "\n",
        "Now querying \u0421\u0443\u043c\u044b..."
       ]
      },
      {
       "output_type": "stream",
       "stream": "stdout",
       "text": [
        "\n",
        "\u0421\u0443\u043c\u044b was found"
       ]
      },
      {
       "output_type": "stream",
       "stream": "stdout",
       "text": [
        "\n",
        "Now querying \u0421\u0443\u0445\u0430\u0440\u0438..."
       ]
      },
      {
       "output_type": "stream",
       "stream": "stdout",
       "text": [
        "\n",
        "\u0421\u0443\u0445\u0430\u0440\u0438 was found"
       ]
      },
      {
       "output_type": "stream",
       "stream": "stdout",
       "text": [
        "\n",
        "Now querying \u0421\u044b\u0437\u0440\u0430\u043d\u044c..."
       ]
      },
      {
       "output_type": "stream",
       "stream": "stdout",
       "text": [
        "\n",
        "\u0421\u044b\u0437\u0440\u0430\u043d\u044c was found"
       ]
      },
      {
       "output_type": "stream",
       "stream": "stdout",
       "text": [
        "\n",
        "Now querying \u0421\u0435\u0432\u0441\u043a..."
       ]
      },
      {
       "output_type": "stream",
       "stream": "stdout",
       "text": [
        "\n",
        "\u0421\u0435\u0432\u0441\u043a was found"
       ]
      },
      {
       "output_type": "stream",
       "stream": "stdout",
       "text": [
        "\n",
        "Now querying \u0421\u044f\u043c\u0441\u043a\u043e\u0439..."
       ]
      },
      {
       "output_type": "stream",
       "stream": "stdout",
       "text": [
        "\n",
        "Querying alternate name \u0421\u044f\u043c\u0441\u043a\u0438\u0439"
       ]
      },
      {
       "output_type": "stream",
       "stream": "stdout",
       "text": [
        "\n",
        "Now querying \u0422\u0430\u043c\u0431\u043e\u0432..."
       ]
      },
      {
       "output_type": "stream",
       "stream": "stdout",
       "text": [
        "\n",
        "\u0422\u0430\u043c\u0431\u043e\u0432 was found"
       ]
      },
      {
       "output_type": "stream",
       "stream": "stdout",
       "text": [
        "\n",
        "Now querying \u0422\u0430\u0440\u043d\u044f\u043d\u0441\u043a\u043e\u0439..."
       ]
      },
      {
       "output_type": "stream",
       "stream": "stdout",
       "text": [
        "\n",
        "Querying alternate name \u0422\u0430\u0440\u043d\u044f\u043d\u0441\u043a\u0438\u0439"
       ]
      },
      {
       "output_type": "stream",
       "stream": "stdout",
       "text": [
        "\n",
        "Now querying \u0422\u0430\u0440\u0443\u0441\u0430..."
       ]
      },
      {
       "output_type": "stream",
       "stream": "stdout",
       "text": [
        "\n",
        "\u0422\u0430\u0440\u0443\u0441\u0430 was found"
       ]
      },
      {
       "output_type": "stream",
       "stream": "stdout",
       "text": [
        "\n",
        "Now querying \u0422\u0430\u0442\u0430\u0440\u0441\u043a..."
       ]
      },
      {
       "output_type": "stream",
       "stream": "stdout",
       "text": [
        "\n",
        "\u0422\u0430\u0442\u0430\u0440\u0441\u043a was found"
       ]
      },
      {
       "output_type": "stream",
       "stream": "stdout",
       "text": [
        "\n",
        "Now querying \u0422\u0432\u0435\u0440\u044c..."
       ]
      },
      {
       "output_type": "stream",
       "stream": "stdout",
       "text": [
        "\n",
        "\u0422\u0432\u0435\u0440\u044c was found"
       ]
      },
      {
       "output_type": "stream",
       "stream": "stdout",
       "text": [
        "\n",
        "Now querying \u0422\u0435\u043c\u043d\u0438\u043a\u043e\u0432..."
       ]
      },
      {
       "output_type": "stream",
       "stream": "stdout",
       "text": [
        "\n",
        "\u0422\u0435\u043c\u043d\u0438\u043a\u043e\u0432 was found"
       ]
      },
      {
       "output_type": "stream",
       "stream": "stdout",
       "text": [
        "\n",
        "Now querying \u0422\u0435\u043d\u0433\u0443\u0448\u0435\u0432\u0430..."
       ]
      },
      {
       "output_type": "stream",
       "stream": "stdout",
       "text": [
        "\n",
        "Now querying \u0422\u0435\u043f\u043b\u043e\u0433\u043e\u0440\u0441\u043a\u0430\u044f \u0411\u043e\u0433\u043e\u0440\u043e\u0434\u0438\u0446\u043a\u0430\u044f..."
       ]
      },
      {
       "output_type": "stream",
       "stream": "stdout",
       "text": [
        "\n",
        "Now querying \u0422\u0435\u0440\u0435\u0448\u043a\u043e\u0432\u043e..."
       ]
      },
      {
       "output_type": "stream",
       "stream": "stdout",
       "text": [
        "\n",
        "\u0422\u0435\u0440\u0435\u0448\u043a\u043e\u0432\u043e was found"
       ]
      },
      {
       "output_type": "stream",
       "stream": "stdout",
       "text": [
        "\n",
        "Now querying \u0422\u0435\u0440\u044f\u0435\u0432\u043e..."
       ]
      },
      {
       "output_type": "stream",
       "stream": "stdout",
       "text": [
        "\n",
        "\u0422\u0435\u0440\u044f\u0435\u0432\u043e was found"
       ]
      },
      {
       "output_type": "stream",
       "stream": "stdout",
       "text": [
        "\n",
        "Now querying \u0422\u0435\u0448\u0435\u0432\u0441\u043a\u043e\u0439..."
       ]
      },
      {
       "output_type": "stream",
       "stream": "stdout",
       "text": [
        "\n",
        "Querying alternate name \u0422\u0435\u0448\u0435\u0432\u0441\u043a\u0438\u0439"
       ]
      },
      {
       "output_type": "stream",
       "stream": "stdout",
       "text": [
        "\n",
        "Now querying \u0422\u0438\u043c..."
       ]
      },
      {
       "output_type": "stream",
       "stream": "stdout",
       "text": [
        "\n",
        "\u0422\u0438\u043c was found"
       ]
      },
      {
       "output_type": "stream",
       "stream": "stdout",
       "text": [
        "\n",
        "Now querying \u0422\u0438\u0441\u043a\u0430\u0434\u044b..."
       ]
      },
      {
       "output_type": "stream",
       "stream": "stdout",
       "text": [
        "\n",
        "\u0422\u0438\u0441\u043a\u0430\u0434\u044b was found"
       ]
      },
      {
       "output_type": "stream",
       "stream": "stdout",
       "text": [
        "\n",
        "Now querying \u0422\u0438\u0445\u0432\u0438\u043d..."
       ]
      },
      {
       "output_type": "stream",
       "stream": "stdout",
       "text": [
        "\n",
        "\u0422\u0438\u0445\u0432\u0438\u043d was found"
       ]
      },
      {
       "output_type": "stream",
       "stream": "stdout",
       "text": [
        "\n",
        "Now querying \u0422\u0438\u0445\u043e\u043d\u043e\u0432\u0430..."
       ]
      },
      {
       "output_type": "stream",
       "stream": "stdout",
       "text": [
        "\n",
        "Now querying \u0422\u0438\u0445\u043e\u043d\u043e\u0432\u0430..."
       ]
      },
      {
       "output_type": "stream",
       "stream": "stdout",
       "text": [
        "\n",
        "\u0422\u0438\u0445\u043e\u043d\u043e\u0432\u0430 was found"
       ]
      },
      {
       "output_type": "stream",
       "stream": "stdout",
       "text": [
        "\n",
        "Now querying \u0422\u0438\u0445\u043e\u043d\u043e\u0432\u0430..."
       ]
      },
      {
       "output_type": "stream",
       "stream": "stdout",
       "text": [
        "\n",
        "Now querying \u0422\u043e\u0431\u043e\u043b\u044c\u0441\u043a..."
       ]
      },
      {
       "output_type": "stream",
       "stream": "stdout",
       "text": [
        "\n",
        "\u0422\u043e\u0431\u043e\u043b\u044c\u0441\u043a was found"
       ]
      },
      {
       "output_type": "stream",
       "stream": "stdout",
       "text": [
        "\n",
        "Now querying \u0422\u043e\u043c\u0430\u0440\u043e\u0432\u043a\u0430..."
       ]
      },
      {
       "output_type": "stream",
       "stream": "stdout",
       "text": [
        "\n",
        "\u0422\u043e\u043c\u0430\u0440\u043e\u0432\u043a\u0430 was found"
       ]
      },
      {
       "output_type": "stream",
       "stream": "stdout",
       "text": [
        "\n",
        "Now querying \u0422\u043e\u0440\u0436\u043e\u043a..."
       ]
      },
      {
       "output_type": "stream",
       "stream": "stdout",
       "text": [
        "\n",
        "\u0422\u043e\u0440\u0436\u043e\u043a was found"
       ]
      },
      {
       "output_type": "stream",
       "stream": "stdout",
       "text": [
        "\n",
        "Now querying \u0422\u043e\u0440\u043e\u043f\u0435\u0446..."
       ]
      },
      {
       "output_type": "stream",
       "stream": "stdout",
       "text": [
        "\n",
        "\u0422\u043e\u0440\u043e\u043f\u0435\u0446 was found"
       ]
      },
      {
       "output_type": "stream",
       "stream": "stdout",
       "text": [
        "\n",
        "Now querying \u0422\u0440\u0435\u0441\u0432\u044f\u0442\u0441\u043a\u043e\u0435..."
       ]
      },
      {
       "output_type": "stream",
       "stream": "stdout",
       "text": [
        "\n",
        "Now querying \u0422\u0440\u043e\u0438\u0446\u043a..."
       ]
      },
      {
       "output_type": "stream",
       "stream": "stdout",
       "text": [
        "\n",
        "\u0422\u0440\u043e\u0438\u0446\u043a was found"
       ]
      },
      {
       "output_type": "stream",
       "stream": "stdout",
       "text": [
        "\n",
        "Now querying \u0422\u0440\u043e\u0438\u0446\u043a\u0430\u044f..."
       ]
      },
      {
       "output_type": "stream",
       "stream": "stdout",
       "text": [
        "\n",
        "\u0422\u0440\u043e\u0438\u0446\u043a\u0430\u044f was found"
       ]
      },
      {
       "output_type": "stream",
       "stream": "stdout",
       "text": [
        "\n",
        "Now querying \u0422\u0440\u043e\u0438\u0446\u043a\u0430\u044f \u0421\u0435\u0440\u0433\u0438\u0435\u0432\u0430..."
       ]
      },
      {
       "output_type": "stream",
       "stream": "stdout",
       "text": [
        "\n",
        "Now querying \u0422\u0440\u043e\u0438\u0446\u043a\u043e\u0435..."
       ]
      },
      {
       "output_type": "stream",
       "stream": "stdout",
       "text": [
        "\n",
        "\u0422\u0440\u043e\u0438\u0446\u043a\u043e\u0435 was found"
       ]
      },
      {
       "output_type": "stream",
       "stream": "stdout",
       "text": [
        "\n",
        "Now querying \u0422\u0440\u043e\u0438\u0446\u043a\u043e\u0439..."
       ]
      },
      {
       "output_type": "stream",
       "stream": "stdout",
       "text": [
        "\n",
        "Querying alternate name \u0422\u0440\u043e\u0438\u0446\u043a\u0438\u0439"
       ]
      },
      {
       "output_type": "stream",
       "stream": "stdout",
       "text": [
        "\n",
        "\u0422\u0440\u043e\u0438\u0446\u043a\u043e\u0439 was found querying with alternate spelling \u0422\u0440\u043e\u0438\u0446\u043a\u0438\u0439"
       ]
      },
      {
       "output_type": "stream",
       "stream": "stdout",
       "text": [
        "\n",
        "Now querying \u0422\u0440\u0443\u0431\u0447\u0435\u0432\u0441\u043a..."
       ]
      },
      {
       "output_type": "stream",
       "stream": "stdout",
       "text": [
        "\n",
        "\u0422\u0440\u0443\u0431\u0447\u0435\u0432\u0441\u043a was found"
       ]
      },
      {
       "output_type": "stream",
       "stream": "stdout",
       "text": [
        "\n",
        "Now querying \u0422\u0443\u0433\u043b\u0438\u043d\u0441\u043a\u0430\u044f..."
       ]
      },
      {
       "output_type": "stream",
       "stream": "stdout",
       "text": [
        "\n",
        "Now querying \u0422\u0443\u043b\u0430..."
       ]
      },
      {
       "output_type": "stream",
       "stream": "stdout",
       "text": [
        "\n",
        "\u0422\u0443\u043b\u0430 was found"
       ]
      },
      {
       "output_type": "stream",
       "stream": "stdout",
       "text": [
        "\n",
        "Now querying \u0422\u0443\u0440\u0435\u0446\u043a\u0430\u044f..."
       ]
      },
      {
       "output_type": "stream",
       "stream": "stdout",
       "text": [
        "\n",
        "Now querying \u0422\u0443\u0440\u0438\u043d\u0441\u043a..."
       ]
      },
      {
       "output_type": "stream",
       "stream": "stdout",
       "text": [
        "\n",
        "\u0422\u0443\u0440\u0438\u043d\u0441\u043a was found"
       ]
      },
      {
       "output_type": "stream",
       "stream": "stdout",
       "text": [
        "\n",
        "Now querying \u0422\u0443\u0440\u043a\u0438..."
       ]
      },
      {
       "output_type": "stream",
       "stream": "stdout",
       "text": [
        "\n",
        "Now querying \u0422\u0443\u0445\u0438..."
       ]
      },
      {
       "output_type": "stream",
       "stream": "stdout",
       "text": [
        "\n",
        "Now querying \u0422\u044e\u0440\u0442\u0435\u043d\u044c..."
       ]
      },
      {
       "output_type": "stream",
       "stream": "stdout",
       "text": [
        "\n",
        "\u0422\u044e\u0440\u0442\u0435\u043d\u044c was found"
       ]
      },
      {
       "output_type": "stream",
       "stream": "stdout",
       "text": [
        "\n",
        "Now querying \u0423\u0433\u043b\u0438\u0447..."
       ]
      },
      {
       "output_type": "stream",
       "stream": "stdout",
       "text": [
        "\n",
        "\u0423\u0433\u043b\u0438\u0447 was found"
       ]
      },
      {
       "output_type": "stream",
       "stream": "stdout",
       "text": [
        "\n",
        "Now querying \u0423\u0434\u0430..."
       ]
      },
      {
       "output_type": "stream",
       "stream": "stdout",
       "text": [
        "\n",
        "\u0423\u0434\u0430 was found"
       ]
      },
      {
       "output_type": "stream",
       "stream": "stdout",
       "text": [
        "\n",
        "Now querying \u0423\u0437\u0435\u043b\u044c..."
       ]
      },
      {
       "output_type": "stream",
       "stream": "stdout",
       "text": [
        "\n",
        "Now querying \u0423\u043b\u043e\u043c..."
       ]
      },
      {
       "output_type": "stream",
       "stream": "stdout",
       "text": [
        "\n",
        "Now querying \u0423\u043d\u043a\u043e\u0441\u043e\u0432\u0430..."
       ]
      },
      {
       "output_type": "stream",
       "stream": "stdout",
       "text": [
        "\n",
        "Now querying \u0423\u0440\u0430\u0437\u043e\u0432\u0430..."
       ]
      },
      {
       "output_type": "stream",
       "stream": "stdout",
       "text": [
        "\n",
        "\u0423\u0440\u0430\u0437\u043e\u0432\u0430 was found"
       ]
      },
      {
       "output_type": "stream",
       "stream": "stdout",
       "text": [
        "\n",
        "Now querying \u0423\u0440\u0430\u043b\u044c\u0441\u043a..."
       ]
      },
      {
       "output_type": "stream",
       "stream": "stdout",
       "text": [
        "\n",
        "\u0423\u0440\u0430\u043b\u044c\u0441\u043a was found"
       ]
      },
      {
       "output_type": "stream",
       "stream": "stdout",
       "text": [
        "\n",
        "Now querying \u0423\u0441\u043c\u0430\u043d\u044c..."
       ]
      },
      {
       "output_type": "stream",
       "stream": "stdout",
       "text": [
        "\n",
        "\u0423\u0441\u043c\u0430\u043d\u044c was found"
       ]
      },
      {
       "output_type": "stream",
       "stream": "stdout",
       "text": [
        "\n",
        "Now querying \u0423\u0441\u043f\u0435\u043d\u0441\u043a\u043e\u0439..."
       ]
      },
      {
       "output_type": "stream",
       "stream": "stdout",
       "text": [
        "\n",
        "Querying alternate name \u0423\u0441\u043f\u0435\u043d\u0441\u043a\u0438\u0439"
       ]
      },
      {
       "output_type": "stream",
       "stream": "stdout",
       "text": [
        "\n",
        "\u0423\u0441\u043f\u0435\u043d\u0441\u043a\u043e\u0439 was found querying with alternate spelling \u0423\u0441\u043f\u0435\u043d\u0441\u043a\u0438\u0439"
       ]
      },
      {
       "output_type": "stream",
       "stream": "stdout",
       "text": [
        "\n",
        "Now querying \u0423\u0441\u0442\u0438\u0432\u0438\u0446\u0430..."
       ]
      },
      {
       "output_type": "stream",
       "stream": "stdout",
       "text": [
        "\n",
        "\u0423\u0441\u0442\u0438\u0432\u0438\u0446\u0430 was found"
       ]
      },
      {
       "output_type": "stream",
       "stream": "stdout",
       "text": [
        "\n",
        "Now querying \u0423\u0441\u0442\u044c\u0435..."
       ]
      },
      {
       "output_type": "stream",
       "stream": "stdout",
       "text": [
        "\n",
        "\u0423\u0441\u0442\u044c\u0435 was found"
       ]
      },
      {
       "output_type": "stream",
       "stream": "stdout",
       "text": [
        "\n",
        "Now querying \u0423\u0441\u0442\u044c-\u0421\u044b\u0441\u043e\u043b\u044c\u0441\u043a..."
       ]
      },
      {
       "output_type": "stream",
       "stream": "stdout",
       "text": [
        "\n",
        "\u0423\u0441\u0442\u044c-\u0421\u044b\u0441\u043e\u043b\u044c\u0441\u043a was found"
       ]
      },
      {
       "output_type": "stream",
       "stream": "stdout",
       "text": [
        "\n",
        "Now querying \u0423\u0441\u0442\u044e\u0433 \u0412\u0435\u043b\u0438\u043a\u0438\u0439..."
       ]
      },
      {
       "output_type": "stream",
       "stream": "stdout",
       "text": [
        "\n",
        "\u0423\u0441\u0442\u044e\u0433 \u0412\u0435\u043b\u0438\u043a\u0438\u0439 was found"
       ]
      },
      {
       "output_type": "stream",
       "stream": "stdout",
       "text": [
        "\n",
        "Now querying \u0423\u0441\u0442\u044e\u0436\u043d\u0430 \u0416\u0435\u043b\u0435\u0437\u043e\u043f\u043e\u043b\u044c\u0441\u043a\u0430\u044f..."
       ]
      },
      {
       "output_type": "stream",
       "stream": "stdout",
       "text": [
        "\n",
        "Now querying \u0423\u0442\u0432\u044b\u043c\u0441\u043a\u0430\u044f..."
       ]
      },
      {
       "output_type": "stream",
       "stream": "stdout",
       "text": [
        "\n",
        "Now querying \u0423\u0442\u0435\u0448\u0435\u0432..."
       ]
      },
      {
       "output_type": "stream",
       "stream": "stdout",
       "text": [
        "\n",
        "Querying alternate name \u0423\u0442\u0435\u0448\u0435\u0432\u043e"
       ]
      },
      {
       "output_type": "stream",
       "stream": "stdout",
       "text": [
        "\n",
        "\u0423\u0442\u0435\u0448\u0435\u0432 was found querying with alternate spelling \u0423\u0442\u0435\u0448\u0435\u0432\u043e"
       ]
      },
      {
       "output_type": "stream",
       "stream": "stdout",
       "text": [
        "\n",
        "Now querying \u0423\u0445\u043e\u043b\u043e\u0432\u043e..."
       ]
      },
      {
       "output_type": "stream",
       "stream": "stdout",
       "text": [
        "\n",
        "Now querying \u0424\u0430\u0442\u0435\u0436..."
       ]
      },
      {
       "output_type": "stream",
       "stream": "stdout",
       "text": [
        "\n",
        "\u0424\u0430\u0442\u0435\u0436 was found"
       ]
      },
      {
       "output_type": "stream",
       "stream": "stdout",
       "text": [
        "\n",
        "Now querying \u0424\u0435\u043b\u043b\u0438\u043d..."
       ]
      },
      {
       "output_type": "stream",
       "stream": "stdout",
       "text": [
        "\n",
        "\u0424\u0435\u043b\u043b\u0438\u043d was found"
       ]
      },
      {
       "output_type": "stream",
       "stream": "stdout",
       "text": [
        "\n",
        "Now querying \u0424\u043b\u043e\u0440\u0438\u0449\u0435\u0432\u0430..."
       ]
      },
      {
       "output_type": "stream",
       "stream": "stdout",
       "text": [
        "\n",
        "Now querying \u0424\u043b\u043e\u0440\u043e\u0432\u043e..."
       ]
      },
      {
       "output_type": "stream",
       "stream": "stdout",
       "text": [
        "\n",
        "Now querying \u0424\u0440\u0438\u0434\u0440\u0438\u0445\u0441\u0433\u0430\u043c..."
       ]
      },
      {
       "output_type": "stream",
       "stream": "stdout",
       "text": [
        "\n",
        "Now querying \u0425\u0430\u043b\u0447\u044c..."
       ]
      },
      {
       "output_type": "stream",
       "stream": "stdout",
       "text": [
        "\n",
        "\u0425\u0430\u043b\u0447\u044c was found"
       ]
      },
      {
       "output_type": "stream",
       "stream": "stdout",
       "text": [
        "\n",
        "Now querying \u0425\u0430\u0440\u044c\u043a\u043e\u0432..."
       ]
      },
      {
       "output_type": "stream",
       "stream": "stdout",
       "text": [
        "\n",
        "\u0425\u0430\u0440\u044c\u043a\u043e\u0432 was found"
       ]
      },
      {
       "output_type": "stream",
       "stream": "stdout",
       "text": [
        "\n",
        "Now querying \u0425\u0430\u0442\u043e\u043c\u043b\u044c..."
       ]
      },
      {
       "output_type": "stream",
       "stream": "stdout",
       "text": [
        "\n",
        "Now querying \u0425\u0430\u044f\u0447\u0430..."
       ]
      },
      {
       "output_type": "stream",
       "stream": "stdout",
       "text": [
        "\n",
        "Now querying \u0425\u0432\u0430\u043b\u044b\u043d\u0441\u043a..."
       ]
      },
      {
       "output_type": "stream",
       "stream": "stdout",
       "text": [
        "\n",
        "\u0425\u0432\u0430\u043b\u044b\u043d\u0441\u043a was found"
       ]
      },
      {
       "output_type": "stream",
       "stream": "stdout",
       "text": [
        "\n",
        "Now querying \u0425\u0435\u0440\u0441\u043e\u043d..."
       ]
      },
      {
       "output_type": "stream",
       "stream": "stdout",
       "text": [
        "\n",
        "\u0425\u0435\u0440\u0441\u043e\u043d was found"
       ]
      },
      {
       "output_type": "stream",
       "stream": "stdout",
       "text": [
        "\n",
        "Now querying \u0425\u043e\u0432\u0430\u043d\u044c..."
       ]
      },
      {
       "output_type": "stream",
       "stream": "stdout",
       "text": [
        "\n",
        "\u0425\u043e\u0432\u0430\u043d\u044c was found"
       ]
      },
      {
       "output_type": "stream",
       "stream": "stdout",
       "text": [
        "\n",
        "Now querying \u0425\u043e\u043b\u043c \u0423 \u0421\u043f\u0430\u0441\u0430..."
       ]
      },
      {
       "output_type": "stream",
       "stream": "stdout",
       "text": [
        "\n",
        "Now querying \u0425\u043e\u043c\u0443\u0442\u0446\u044b..."
       ]
      },
      {
       "output_type": "stream",
       "stream": "stdout",
       "text": [
        "\n",
        "Now querying \u0425\u043e\u043f\u0435\u0440\u0441\u043a..."
       ]
      },
      {
       "output_type": "stream",
       "stream": "stdout",
       "text": [
        "\n",
        "Querying alternate name \u0425\u043e\u043f\u0435\u0440"
       ]
      },
      {
       "output_type": "stream",
       "stream": "stdout",
       "text": [
        "\n",
        "\u0425\u043e\u043f\u0435\u0440\u0441\u043a was found querying with alternate spelling \u0425\u043e\u043f\u0435\u0440"
       ]
      },
      {
       "output_type": "stream",
       "stream": "stdout",
       "text": [
        "\n",
        "Now querying \u0425\u043e\u0440\u043e\u043b..."
       ]
      },
      {
       "output_type": "stream",
       "stream": "stdout",
       "text": [
        "\n",
        "\u0425\u043e\u0440\u043e\u043b was found"
       ]
      },
      {
       "output_type": "stream",
       "stream": "stdout",
       "text": [
        "\n",
        "Now querying \u0425\u043e\u0442\u0435\u043d\u044c..."
       ]
      },
      {
       "output_type": "stream",
       "stream": "stdout",
       "text": [
        "\n",
        "\u0425\u043e\u0442\u0435\u043d\u044c was found"
       ]
      },
      {
       "output_type": "stream",
       "stream": "stdout",
       "text": [
        "\n",
        "Now querying \u0425\u043e\u0442\u044c\u043c\u044b\u0448\u0441\u043a..."
       ]
      },
      {
       "output_type": "stream",
       "stream": "stdout",
       "text": [
        "\n",
        "Querying alternate name \u0425\u043e\u0442\u044c\u043c\u044b\u0448"
       ]
      },
      {
       "output_type": "stream",
       "stream": "stdout",
       "text": [
        "\n",
        "Now querying \u0425\u0440\u0443\u0449\u043e\u0432\u043e..."
       ]
      },
      {
       "output_type": "stream",
       "stream": "stdout",
       "text": [
        "\n",
        "Now querying \u0426\u0430\u0440\u0435\u0432 \u0411\u043e\u0440\u0438\u0441\u043e\u0432..."
       ]
      },
      {
       "output_type": "stream",
       "stream": "stdout",
       "text": [
        "\n",
        "Querying alternate name \u0426\u0430\u0440\u0435\u0432 \u0411\u043e\u0440\u0438\u0441\u043e\u0432\u043e"
       ]
      },
      {
       "output_type": "stream",
       "stream": "stdout",
       "text": [
        "\n",
        "Now querying \u0426\u0430\u0440\u0438\u0447\u0435\u043d\u043a\u0430..."
       ]
      },
      {
       "output_type": "stream",
       "stream": "stdout",
       "text": [
        "\n",
        "Now querying \u0426\u0435\u0432\u043b\u044f..."
       ]
      },
      {
       "output_type": "stream",
       "stream": "stdout",
       "text": [
        "\n",
        "Now querying \u0426\u0443\u0440\u0443\u0445\u0430\u0442\u0430\u0435\u0432\u0441\u043a\u043e\u0439..."
       ]
      },
      {
       "output_type": "stream",
       "stream": "stdout",
       "text": [
        "\n",
        "Querying alternate name \u0426\u0443\u0440\u0443\u0445\u0430\u0442\u0430\u0435\u0432\u0441\u043a\u0438\u0439"
       ]
      },
      {
       "output_type": "stream",
       "stream": "stdout",
       "text": [
        "\n",
        "Now querying \u0426\u044b\u0431\u0443\u043b\u0435\u0432..."
       ]
      },
      {
       "output_type": "stream",
       "stream": "stdout",
       "text": [
        "\n",
        "Querying alternate name \u0426\u044b\u0431\u0443\u043b\u0435\u0432\u043e"
       ]
      },
      {
       "output_type": "stream",
       "stream": "stdout",
       "text": [
        "\n",
        "Now querying \u0426\u044b\u0432\u0438\u043b\u044c\u0441\u043a..."
       ]
      },
      {
       "output_type": "stream",
       "stream": "stdout",
       "text": [
        "\n",
        "Querying alternate name \u0426\u044b\u0432\u0438\u043b\u044c"
       ]
      },
      {
       "output_type": "stream",
       "stream": "stdout",
       "text": [
        "\n",
        "Now querying \u0427\u0430\u0441\u043e\u0432\u043d\u044f \u0410\u043f\u043e\u0441\u0442\u043e\u043b\u0430 \u0424\u043e\u043c\u044b..."
       ]
      },
      {
       "output_type": "stream",
       "stream": "stdout",
       "text": [
        "\n",
        "Now querying \u0427\u0430\u0441\u043e\u0432\u043d\u044f \u0421\u0432 \u0414\u0443\u0445\u0430..."
       ]
      },
      {
       "output_type": "stream",
       "stream": "stdout",
       "text": [
        "\n",
        "Now querying \u0427\u0430\u0443\u0441\u044b..."
       ]
      },
      {
       "output_type": "stream",
       "stream": "stdout",
       "text": [
        "\n",
        "\u0427\u0430\u0443\u0441\u044b was found"
       ]
      },
      {
       "output_type": "stream",
       "stream": "stdout",
       "text": [
        "\n",
        "Now querying \u0427\u0435\u043b\u044f\u0431\u0438\u043d\u0441\u043a..."
       ]
      },
      {
       "output_type": "stream",
       "stream": "stdout",
       "text": [
        "\n",
        "Querying alternate name \u0427\u0435\u043b\u044f\u0431\u0438\u043d"
       ]
      },
      {
       "output_type": "stream",
       "stream": "stdout",
       "text": [
        "\n",
        "Now querying \u0427\u0435\u043d\u0431\u0430\u0440..."
       ]
      },
      {
       "output_type": "stream",
       "stream": "stdout",
       "text": [
        "\n",
        "Now querying \u0427\u0435\u0440\u0434\u044b\u043d\u044c..."
       ]
      },
      {
       "output_type": "stream",
       "stream": "stdout",
       "text": [
        "\n",
        "\u0427\u0435\u0440\u0434\u044b\u043d\u044c was found"
       ]
      },
      {
       "output_type": "stream",
       "stream": "stdout",
       "text": [
        "\n",
        "Now querying \u0427\u0435\u0440\u0435\u043d\u0447\u0438\u0446\u043a\u043e\u0439..."
       ]
      },
      {
       "output_type": "stream",
       "stream": "stdout",
       "text": [
        "\n",
        "Querying alternate name \u0427\u0435\u0440\u0435\u043d\u0447\u0438\u0446\u043a\u0438\u0439"
       ]
      },
      {
       "output_type": "stream",
       "stream": "stdout",
       "text": [
        "\n",
        "Now querying \u0427\u0435\u0440\u0435\u043f\u043e\u0432\u0435\u0446..."
       ]
      },
      {
       "output_type": "stream",
       "stream": "stdout",
       "text": [
        "\n",
        "\u0427\u0435\u0440\u0435\u043f\u043e\u0432\u0435\u0446 was found"
       ]
      },
      {
       "output_type": "stream",
       "stream": "stdout",
       "text": [
        "\n",
        "Now querying \u0427\u0435\u0440\u0438\u043a\u043e\u0432..."
       ]
      },
      {
       "output_type": "stream",
       "stream": "stdout",
       "text": [
        "\n",
        "\u0427\u0435\u0440\u0438\u043a\u043e\u0432 was found"
       ]
      },
      {
       "output_type": "stream",
       "stream": "stdout",
       "text": [
        "\n",
        "Now querying \u0427\u0435\u0440\u043b\u044f\u043d\u043a\u043e\u0432\u043e..."
       ]
      },
      {
       "output_type": "stream",
       "stream": "stdout",
       "text": [
        "\n",
        "Now querying \u0427\u0435\u0440\u043d\u0430\u0432\u0441\u043a..."
       ]
      },
      {
       "output_type": "stream",
       "stream": "stdout",
       "text": [
        "\n",
        "Querying alternate name \u0427\u0435\u0440\u043d\u0430\u0432"
       ]
      },
      {
       "output_type": "stream",
       "stream": "stdout",
       "text": [
        "\n",
        "Now querying \u0427\u0435\u0440\u043d\u0438\u0433\u043e\u0432..."
       ]
      },
      {
       "output_type": "stream",
       "stream": "stdout",
       "text": [
        "\n",
        "\u0427\u0435\u0440\u043d\u0438\u0433\u043e\u0432 was found"
       ]
      },
      {
       "output_type": "stream",
       "stream": "stdout",
       "text": [
        "\n",
        "Now querying \u0427\u0435\u0440\u0438\u043e\u043e\u0441\u0442\u0440\u043e\u0436\u0441\u043a\u043e\u0439 \u041d\u0438\u043a\u043e\u043b\u0430\u0435\u0432\u0441\u043a\u043e\u0439..."
       ]
      },
      {
       "output_type": "stream",
       "stream": "stdout",
       "text": [
        "\n",
        "Querying alternate name \u0427\u0435\u0440\u0438\u043e\u043e\u0441\u0442\u0440\u043e\u0436\u0441\u043a\u0438\u0439 \u041d\u0438\u043a\u043e\u043b\u0430\u0435\u0432\u0441\u043a\u0438\u0439"
       ]
      },
      {
       "output_type": "stream",
       "stream": "stdout",
       "text": [
        "\n",
        "Now querying \u0427\u0435\u0440\u043d\u0443\u0445\u0438..."
       ]
      },
      {
       "output_type": "stream",
       "stream": "stdout",
       "text": [
        "\n",
        "\u0427\u0435\u0440\u043d\u0443\u0445\u0438 was found"
       ]
      },
      {
       "output_type": "stream",
       "stream": "stdout",
       "text": [
        "\n",
        "Now querying \u0427\u0435\u0440\u043d\u044c..."
       ]
      },
      {
       "output_type": "stream",
       "stream": "stdout",
       "text": [
        "\n",
        "\u0427\u0435\u0440\u043d\u044c was found"
       ]
      },
      {
       "output_type": "stream",
       "stream": "stdout",
       "text": [
        "\n",
        "Now querying \u0427\u0435\u0440\u043d\u0435\u0435\u0432 \u041d\u0438\u043a\u043e\u043b\u0430\u0435\u0432\u0441\u043a\u043e\u0439..."
       ]
      },
      {
       "output_type": "stream",
       "stream": "stdout",
       "text": [
        "\n",
        "Querying alternate name \u0427\u0435\u0440\u043d\u0435\u0435\u0432 \u041d\u0438\u043a\u043e\u043b\u0430\u0435\u0432\u0441\u043a\u0438\u0439"
       ]
      },
      {
       "output_type": "stream",
       "stream": "stdout",
       "text": [
        "\n",
        "Now querying \u0427\u0435\u0447\u0435\u0440\u0441\u043a..."
       ]
      },
      {
       "output_type": "stream",
       "stream": "stdout",
       "text": [
        "\n",
        "\u0427\u0435\u0447\u0435\u0440\u0441\u043a was found"
       ]
      },
      {
       "output_type": "stream",
       "stream": "stdout",
       "text": [
        "\n",
        "Now querying \u0427\u0438\u0433\u0438\u0440\u0438\u043d\u044a-\u0414\u0443\u0431\u0440\u043e\u0432\u0430..."
       ]
      },
      {
       "output_type": "stream",
       "stream": "stdout",
       "text": [
        "\n",
        "Now querying \u0427\u0443\u0433\u0443\u0435\u0432..."
       ]
      },
      {
       "output_type": "stream",
       "stream": "stdout",
       "text": [
        "\n",
        "\u0427\u0443\u0433\u0443\u0435\u0432 was found"
       ]
      },
      {
       "output_type": "stream",
       "stream": "stdout",
       "text": [
        "\n",
        "Now querying \u0427\u0443\u043f\u0430\u0445\u043e\u0432\u043a\u0430..."
       ]
      },
      {
       "output_type": "stream",
       "stream": "stdout",
       "text": [
        "\n",
        "\u0427\u0443\u043f\u0430\u0445\u043e\u0432\u043a\u0430 was found"
       ]
      },
      {
       "output_type": "stream",
       "stream": "stdout",
       "text": [
        "\n",
        "Now querying \u0427\u0443\u0445\u043b\u043e\u043c\u0430..."
       ]
      },
      {
       "output_type": "stream",
       "stream": "stdout",
       "text": [
        "\n",
        "\u0427\u0443\u0445\u043b\u043e\u043c\u0430 was found"
       ]
      },
      {
       "output_type": "stream",
       "stream": "stdout",
       "text": [
        "\n",
        "Now querying \u0428\u0430\u0434\u0440\u0438\u043d\u0441\u043a..."
       ]
      },
      {
       "output_type": "stream",
       "stream": "stdout",
       "text": [
        "\n",
        "\u0428\u0430\u0434\u0440\u0438\u043d\u0441\u043a was found"
       ]
      },
      {
       "output_type": "stream",
       "stream": "stdout",
       "text": [
        "\n",
        "Now querying \u0428\u0430\u043c\u043e\u0432\u043e..."
       ]
      },
      {
       "output_type": "stream",
       "stream": "stdout",
       "text": [
        "\n",
        "\u0428\u0430\u043c\u043e\u0432\u043e was found"
       ]
      },
      {
       "output_type": "stream",
       "stream": "stdout",
       "text": [
        "\n",
        "Now querying \u0428\u0430\u0440\u0430\u043f\u0430\u0432\u043e..."
       ]
      },
      {
       "output_type": "stream",
       "stream": "stdout",
       "text": [
        "\n",
        "Now querying \u0428\u0430\u0440\u0442\u043e\u043b\u0438\u043d\u0441\u043a\u043e\u0439 \u041d\u0438\u043a\u043e\u043b\u0430\u0435\u0432\u0441\u043a\u043e\u0439..."
       ]
      },
      {
       "output_type": "stream",
       "stream": "stdout",
       "text": [
        "\n",
        "Querying alternate name \u0428\u0430\u0440\u0442\u043e\u043b\u0438\u043d\u0441\u043a\u0438\u0439 \u041d\u0438\u043a\u043e\u043b\u0430\u0435\u0432\u0441\u043a\u0438\u0439"
       ]
      },
      {
       "output_type": "stream",
       "stream": "stdout",
       "text": [
        "\n",
        "Now querying \u0428\u0430\u0442\u0441\u043a..."
       ]
      },
      {
       "output_type": "stream",
       "stream": "stdout",
       "text": [
        "\n",
        "\u0428\u0430\u0442\u0441\u043a was found"
       ]
      },
      {
       "output_type": "stream",
       "stream": "stdout",
       "text": [
        "\n",
        "Now querying \u0428\u0435\u0448\u043a\u0435\u0435\u0432..."
       ]
      },
      {
       "output_type": "stream",
       "stream": "stdout",
       "text": [
        "\n",
        "Querying alternate name \u0428\u0435\u0448\u043a\u0435\u0435\u0432\u043e"
       ]
      },
      {
       "output_type": "stream",
       "stream": "stdout",
       "text": [
        "\n",
        "Now querying \u0428\u0438\u043f\u0438\u043d\u043e..."
       ]
      },
      {
       "output_type": "stream",
       "stream": "stdout",
       "text": [
        "\n",
        "\u0428\u0438\u043f\u0438\u043d\u043e was found"
       ]
      },
      {
       "output_type": "stream",
       "stream": "stdout",
       "text": [
        "\n",
        "Now querying \u0428\u0438\u0448\u0430\u043a\u0438..."
       ]
      },
      {
       "output_type": "stream",
       "stream": "stdout",
       "text": [
        "\n",
        "\u0428\u0438\u0448\u0430\u043a\u0438 was found"
       ]
      },
      {
       "output_type": "stream",
       "stream": "stdout",
       "text": [
        "\n",
        "Now querying \u0428\u043a\u043b\u043e\u0432..."
       ]
      },
      {
       "output_type": "stream",
       "stream": "stdout",
       "text": [
        "\n",
        "\u0428\u043a\u043b\u043e\u0432 was found"
       ]
      },
      {
       "output_type": "stream",
       "stream": "stdout",
       "text": [
        "\n",
        "Now querying \u0428\u043e\u043a\u0438\u043d\u043e..."
       ]
      },
      {
       "output_type": "stream",
       "stream": "stdout",
       "text": [
        "\n",
        "\u0428\u043e\u043a\u0438\u043d\u043e was found"
       ]
      },
      {
       "output_type": "stream",
       "stream": "stdout",
       "text": [
        "\n",
        "Now querying \u0428\u0443\u043b\u0433\u0438\u043d\u0441\u043a..."
       ]
      },
      {
       "output_type": "stream",
       "stream": "stdout",
       "text": [
        "\n",
        "Querying alternate name \u0428\u0443\u043b\u0433\u0438\u043d"
       ]
      },
      {
       "output_type": "stream",
       "stream": "stdout",
       "text": [
        "\n",
        "Now querying \u0428\u0443\u043c\u044f\u0447\u0438..."
       ]
      },
      {
       "output_type": "stream",
       "stream": "stdout",
       "text": [
        "\n",
        "\u0428\u0443\u043c\u044f\u0447\u0438 was found"
       ]
      },
      {
       "output_type": "stream",
       "stream": "stdout",
       "text": [
        "\n",
        "Now querying \u0428\u0443\u043d\u0433\u0441\u043a\u043e\u0439..."
       ]
      },
      {
       "output_type": "stream",
       "stream": "stdout",
       "text": [
        "\n",
        "Querying alternate name \u0428\u0443\u043d\u0433\u0441\u043a\u0438\u0439"
       ]
      },
      {
       "output_type": "stream",
       "stream": "stdout",
       "text": [
        "\n",
        "Now querying \u0428\u0443\u044f..."
       ]
      },
      {
       "output_type": "stream",
       "stream": "stdout",
       "text": [
        "\n",
        "\u0428\u0443\u044f was found"
       ]
      },
      {
       "output_type": "stream",
       "stream": "stdout",
       "text": [
        "\n",
        "Now querying \u0429\u0438\u0433\u0440\u044b..."
       ]
      },
      {
       "output_type": "stream",
       "stream": "stdout",
       "text": [
        "\n",
        "\u0429\u0438\u0433\u0440\u044b was found"
       ]
      },
      {
       "output_type": "stream",
       "stream": "stdout",
       "text": [
        "\n",
        "Now querying \u042e\u043d\u0430\u043a\u043e\u0432\u043a\u0430..."
       ]
      },
      {
       "output_type": "stream",
       "stream": "stdout",
       "text": [
        "\n",
        "\u042e\u043d\u0430\u043a\u043e\u0432\u043a\u0430 was found"
       ]
      },
      {
       "output_type": "stream",
       "stream": "stdout",
       "text": [
        "\n",
        "Now querying \u042e\u0440\u044c\u0435\u0432 \u041f\u043e\u043b\u044c\u0441\u043a\u0438\u0439..."
       ]
      },
      {
       "output_type": "stream",
       "stream": "stdout",
       "text": [
        "\n",
        "\u042e\u0440\u044c\u0435\u0432 \u041f\u043e\u043b\u044c\u0441\u043a\u0438\u0439 was found"
       ]
      },
      {
       "output_type": "stream",
       "stream": "stdout",
       "text": [
        "\n",
        "Now querying \u042e\u0440\u044c\u0435\u0432\u0435\u0446 \u041f\u043e\u0432\u043e\u043b\u0433\u0441\u043a\u0438\u0439..."
       ]
      },
      {
       "output_type": "stream",
       "stream": "stdout",
       "text": [
        "\n",
        "Now querying \u042f\u0431\u043b\u0443\u043d\u043e\u0432..."
       ]
      },
      {
       "output_type": "stream",
       "stream": "stdout",
       "text": [
        "\n",
        "Querying alternate name \u042f\u0431\u043b\u0443\u043d\u043e\u0432\u043e"
       ]
      },
      {
       "output_type": "stream",
       "stream": "stdout",
       "text": [
        "\n",
        "Now querying \u042f\u0433\u043e\u0442\u0438\u043d..."
       ]
      },
      {
       "output_type": "stream",
       "stream": "stdout",
       "text": [
        "\n",
        "\u042f\u0433\u043e\u0442\u0438\u043d was found"
       ]
      },
      {
       "output_type": "stream",
       "stream": "stdout",
       "text": [
        "\n",
        "Now querying \u042f\u0434\u0440\u0438\u043d..."
       ]
      },
      {
       "output_type": "stream",
       "stream": "stdout",
       "text": [
        "\n",
        "\u042f\u0434\u0440\u0438\u043d was found"
       ]
      },
      {
       "output_type": "stream",
       "stream": "stdout",
       "text": [
        "\n",
        "Now querying \u042f\u0437\u044b\u043a\u043e\u0432\u043e..."
       ]
      },
      {
       "output_type": "stream",
       "stream": "stdout",
       "text": [
        "\n",
        "\u042f\u0437\u044b\u043a\u043e\u0432\u043e was found"
       ]
      },
      {
       "output_type": "stream",
       "stream": "stdout",
       "text": [
        "\n",
        "Now querying \u042f\u043c\u043f\u043e\u043b\u044c..."
       ]
      },
      {
       "output_type": "stream",
       "stream": "stdout",
       "text": [
        "\n",
        "\u042f\u043c\u043f\u043e\u043b\u044c was found"
       ]
      },
      {
       "output_type": "stream",
       "stream": "stdout",
       "text": [
        "\n",
        "Now querying \u042f\u043c\u043f\u043e\u043b\u044c..."
       ]
      },
      {
       "output_type": "stream",
       "stream": "stdout",
       "text": [
        "\n",
        "\u042f\u043c\u043f\u043e\u043b\u044c was found"
       ]
      },
      {
       "output_type": "stream",
       "stream": "stdout",
       "text": [
        "\n",
        "Now querying \u042f\u043c\u0441\u043a\u0430\u044f..."
       ]
      },
      {
       "output_type": "stream",
       "stream": "stdout",
       "text": [
        "\n",
        "\u042f\u043c\u0441\u043a\u0430\u044f was found"
       ]
      },
      {
       "output_type": "stream",
       "stream": "stdout",
       "text": [
        "\n",
        "Now querying \u042f\u0440\u0430\u043d\u0441\u043a..."
       ]
      },
      {
       "output_type": "stream",
       "stream": "stdout",
       "text": [
        "\n",
        "\u042f\u0440\u0430\u043d\u0441\u043a was found"
       ]
      },
      {
       "output_type": "stream",
       "stream": "stdout",
       "text": [
        "\n",
        "Now querying \u042f\u0440\u0435\u043d\u0441\u043a..."
       ]
      },
      {
       "output_type": "stream",
       "stream": "stdout",
       "text": [
        "\n",
        "\u042f\u0440\u0435\u043d\u0441\u043a was found"
       ]
      },
      {
       "output_type": "stream",
       "stream": "stdout",
       "text": [
        "\n",
        "Now querying \u042f\u0440\u0435\u0441\u043a\u0438..."
       ]
      },
      {
       "output_type": "stream",
       "stream": "stdout",
       "text": [
        "\n",
        "\u042f\u0440\u0435\u0441\u043a\u0438 was found"
       ]
      },
      {
       "output_type": "stream",
       "stream": "stdout",
       "text": [
        "\n",
        "Now querying \u042f\u0440\u043e\u0441\u043b\u0430\u0432\u043b\u044c..."
       ]
      },
      {
       "output_type": "stream",
       "stream": "stdout",
       "text": [
        "\n",
        "\u042f\u0440\u043e\u0441\u043b\u0430\u0432\u043b\u044c was found"
       ]
      },
      {
       "output_type": "stream",
       "stream": "stdout",
       "text": [
        "\n",
        "Now querying \u042f\u0448..."
       ]
      },
      {
       "output_type": "stream",
       "stream": "stdout",
       "text": [
        "\n"
       ]
      }
     ],
     "prompt_number": 26
    },
    {
     "cell_type": "code",
     "collapsed": false,
     "input": [
      "problem_prov"
     ],
     "language": "python",
     "metadata": {},
     "outputs": [
      {
       "metadata": {},
       "output_type": "pyout",
       "prompt_number": 27,
       "text": [
        "[]"
       ]
      }
     ],
     "prompt_number": 27
    },
    {
     "cell_type": "code",
     "collapsed": false,
     "input": [
      "geodf = pd.DataFrame(geocoded,columns=['hgr_id','result_placename','searched_placename','admin1','country_name','lat','lng','src_id','country_code','url','src','local_result'])"
     ],
     "language": "python",
     "metadata": {},
     "outputs": [],
     "prompt_number": 28
    },
    {
     "cell_type": "code",
     "collapsed": false,
     "input": [
      "len(geodf)"
     ],
     "language": "python",
     "metadata": {},
     "outputs": [
      {
       "metadata": {},
       "output_type": "pyout",
       "prompt_number": 29,
       "text": [
        "2428"
       ]
      }
     ],
     "prompt_number": 29
    },
    {
     "cell_type": "code",
     "collapsed": false,
     "input": [
      "geodf.to_excel('output/geocoded.xlsx',encoding='utf-8')\n",
      "geodf.to_csv('output/geocoded.csv',encoding='utf-8')"
     ],
     "language": "python",
     "metadata": {},
     "outputs": [
      {
       "output_type": "stream",
       "stream": "stderr",
       "text": [
        "c:\\Anaconda3\\lib\\site-packages\\xlsxwriter\\worksheet.py:827: UserWarning: Ignoring URL 'http://api.geonames.org/search?north=70.1894276115&west=27.4506621361&south=60.3600075373&name=%D0%91%D0%BB%D0%B0%D0%B3%D0%BE%D0%B2%D0%B5%D1%89%D0%B5%D0%BD%D1%81%D0%BA%D0%BE%D0%B9+%D0%9F%D1%80%D0%B8%D1%85%D0%BE%D0%B4&username=jaguillette&east=58.6121673584&featureClass=P&type=json' > 255 characters since it exceeds Excel's limit for URLS\n",
        "  \"Excel's limit for URLS\" % url)\n",
        "c:\\Anaconda3\\lib\\site-packages\\xlsxwriter\\worksheet.py:827: UserWarning: Ignoring URL 'http://api.geonames.org/search?north=70.1894276115&west=27.4506621361&south=60.3600075373&name=%D0%91%D0%BB%D0%B0%D0%B3%D0%BE%D0%B2%D0%B5%D1%89%D0%B5%D0%BD%D1%81%D0%BA%D0%B8%D0%B9+%D0%9F%D1%80%D0%B8%D1%85%D0%BE%D0%B4&username=jaguillette&east=58.6121673584&featureClass=P&type=json' > 255 characters since it exceeds Excel's limit for URLS\n",
        "  \"Excel's limit for URLS\" % url)\n",
        "c:\\Anaconda3\\lib\\site-packages\\xlsxwriter\\worksheet.py:827: UserWarning: Ignoring URL 'http://api.geonames.org/search?north=54.837&west=41.8373&south=52.3247&name=%D0%91%D0%BE%D0%B3%D0%BE%D1%80%D0%BE%D0%B4%D0%B8%D1%86%D0%BA%D0%BE%D0%B9+%D0%9A%D0%B0%D0%B7%D0%B0%D0%BD%D1%81%D0%BA%D0%BE%D0%B9&username=jaguillette&east=46.7277&featureClass=P&type=json' > 255 characters since it exceeds Excel's limit for URLS\n",
        "  \"Excel's limit for URLS\" % url)\n",
        "c:\\Anaconda3\\lib\\site-packages\\xlsxwriter\\worksheet.py:827: UserWarning: Ignoring URL 'http://api.geonames.org/search?north=54.837&west=41.8373&south=52.3247&name=%D0%91%D0%BE%D0%B3%D0%BE%D1%80%D0%BE%D0%B4%D0%B8%D1%86%D0%BA%D0%B8%D0%B9+%D0%9A%D0%B0%D0%B7%D0%B0%D0%BD%D1%81%D0%BA%D0%B8%D0%B9&username=jaguillette&east=46.7277&featureClass=P&type=json' > 255 characters since it exceeds Excel's limit for URLS\n",
        "  \"Excel's limit for URLS\" % url)\n",
        "c:\\Anaconda3\\lib\\site-packages\\xlsxwriter\\worksheet.py:827: UserWarning: Ignoring URL 'http://api.geonames.org/search?north=55.0867&west=35.5421&south=52.8329&name=%D0%92%D0%B5%D0%BD%D0%B5%D0%B2%D1%81%D0%BA%D0%BE%D0%B9+%D0%9D%D0%B8%D0%BA%D0%BE%D0%BB%D0%B0%D0%B5%D0%B2%D1%81%D0%BA%D0%BE%D0%B9&username=jaguillette&east=39.6827&featureClass=P&type=json' > 255 characters since it exceeds Excel's limit for URLS\n",
        "  \"Excel's limit for URLS\" % url)\n",
        "c:\\Anaconda3\\lib\\site-packages\\xlsxwriter\\worksheet.py:827: UserWarning: Ignoring URL 'http://api.geonames.org/search?north=55.0867&west=35.5421&south=52.8329&name=%D0%92%D0%B5%D0%BD%D0%B5%D0%B2%D1%81%D0%BA%D0%B8%D0%B9+%D0%9D%D0%B8%D0%BA%D0%BE%D0%BB%D0%B0%D0%B5%D0%B2%D1%81%D0%BA%D0%B8%D0%B9&username=jaguillette&east=39.6827&featureClass=P&type=json' > 255 characters since it exceeds Excel's limit for URLS\n",
        "  \"Excel's limit for URLS\" % url)\n",
        "c:\\Anaconda3\\lib\\site-packages\\xlsxwriter\\worksheet.py:827: UserWarning: Ignoring URL 'http://api.geonames.org/search?north=54.837&west=41.8373&south=52.3247&name=%D0%9A%D0%B0%D0%B7%D0%B0%D0%BD%D1%81%D0%BA%D0%BE%D0%B9+%D0%91%D0%BE%D0%B3%D0%BE%D1%80%D0%BE%D0%B4%D0%B8%D1%86%D0%BA%D0%BE%D0%B9&username=jaguillette&east=46.7277&featureClass=P&type=json' > 255 characters since it exceeds Excel's limit for URLS\n",
        "  \"Excel's limit for URLS\" % url)\n",
        "c:\\Anaconda3\\lib\\site-packages\\xlsxwriter\\worksheet.py:827: UserWarning: Ignoring URL 'http://api.geonames.org/search?north=54.837&west=41.8373&south=52.3247&name=%D0%9A%D0%B0%D0%B7%D0%B0%D0%BD%D1%81%D0%BA%D0%B8%D0%B9+%D0%91%D0%BE%D0%B3%D0%BE%D1%80%D0%BE%D0%B4%D0%B8%D1%86%D0%BA%D0%B8%D0%B9&username=jaguillette&east=46.7277&featureClass=P&type=json' > 255 characters since it exceeds Excel's limit for URLS\n",
        "  \"Excel's limit for URLS\" % url)\n",
        "c:\\Anaconda3\\lib\\site-packages\\xlsxwriter\\worksheet.py:827: UserWarning: Ignoring URL 'http://api.geonames.org/search?north=78.0&west=24.8&south=38.6&name=%D0%A1%D0%B2%D0%B8%D1%80%D1%81%D0%BA%D0%BE%D0%B9+%D0%90%D0%BB%D0%B5%D0%BA%D1%81%D0%B0%D0%BD%D0%B4%D1%80%D0%BE%D0%B2%D1%81%D0%BA%D0%BE%D0%B9&username=jaguillette&east=180&featureClass=P&type=json' > 255 characters since it exceeds Excel's limit for URLS\n",
        "  \"Excel's limit for URLS\" % url)\n",
        "c:\\Anaconda3\\lib\\site-packages\\xlsxwriter\\worksheet.py:827: UserWarning: Ignoring URL 'http://api.geonames.org/search?north=78.0&west=24.8&south=38.6&name=%D0%A1%D0%B2%D0%B8%D1%80%D1%81%D0%BA%D0%B8%D0%B9+%D0%90%D0%BB%D0%B5%D0%BA%D1%81%D0%B0%D0%BD%D0%B4%D1%80%D0%BE%D0%B2%D1%81%D0%BA%D0%B8%D0%B9&username=jaguillette&east=180&featureClass=P&type=json' > 255 characters since it exceeds Excel's limit for URLS\n",
        "  \"Excel's limit for URLS\" % url)\n",
        "c:\\Anaconda3\\lib\\site-packages\\xlsxwriter\\worksheet.py:827: UserWarning: Ignoring URL 'http://api.geonames.org/search?north=64.08&west=37.83&south=57.25&name=%D0%A2%D0%B5%D0%BF%D0%BB%D0%BE%D0%B3%D0%BE%D1%80%D1%81%D0%BA%D0%B0%D1%8F+%D0%91%D0%BE%D0%B3%D0%BE%D1%80%D0%BE%D0%B4%D0%B8%D1%86%D0%BA%D0%B0%D1%8F&username=jaguillette&east=57.25&featureClass=P&type=json' > 255 characters since it exceeds Excel's limit for URLS\n",
        "  \"Excel's limit for URLS\" % url)\n",
        "c:\\Anaconda3\\lib\\site-packages\\xlsxwriter\\worksheet.py:827: UserWarning: Ignoring URL 'http://api.geonames.org/search?north=59.0651312501&west=24.1218047142&south=55.1937102573&name=%D0%A7%D0%B0%D1%81%D0%BE%D0%B2%D0%BD%D1%8F+%D0%90%D0%BF%D0%BE%D1%81%D1%82%D0%BE%D0%BB%D0%B0+%D0%A4%D0%BE%D0%BC%D1%8B&username=jaguillette&east=32.1900482178&featureClass=P&type=json' > 255 characters since it exceeds Excel's limit for URLS\n",
        "  \"Excel's limit for URLS\" % url)\n",
        "c:\\Anaconda3\\lib\\site-packages\\xlsxwriter\\worksheet.py:827: UserWarning: Ignoring URL 'http://api.geonames.org/search?north=61.616667&west=35.85&south=53.616667&name=%D0%A7%D0%B5%D1%80%D0%B8%D0%BE%D0%BE%D1%81%D1%82%D1%80%D0%BE%D0%B6%D1%81%D0%BA%D0%BE%D0%B9+%D0%9D%D0%B8%D0%BA%D0%BE%D0%BB%D0%B0%D0%B5%D0%B2%D1%81%D0%BA%D0%BE%D0%B9&username=jaguillette&east=43.85&featureClass=P&type=json' > 255 characters since it exceeds Excel's limit for URLS\n",
        "  \"Excel's limit for URLS\" % url)\n",
        "c:\\Anaconda3\\lib\\site-packages\\xlsxwriter\\worksheet.py:827: UserWarning: Ignoring URL 'http://api.geonames.org/search?north=61.616667&west=35.85&south=53.616667&name=%D0%A7%D0%B5%D1%80%D0%B8%D0%BE%D0%BE%D1%81%D1%82%D1%80%D0%BE%D0%B6%D1%81%D0%BA%D0%B8%D0%B9+%D0%9D%D0%B8%D0%BA%D0%BE%D0%BB%D0%B0%D0%B5%D0%B2%D1%81%D0%BA%D0%B8%D0%B9&username=jaguillette&east=43.85&featureClass=P&type=json' > 255 characters since it exceeds Excel's limit for URLS\n",
        "  \"Excel's limit for URLS\" % url)\n",
        "c:\\Anaconda3\\lib\\site-packages\\xlsxwriter\\worksheet.py:827: UserWarning: Ignoring URL 'http://api.geonames.org/search?north=56.716667&west=37.433333&south=48.716667&name=%D0%A7%D0%B5%D1%80%D0%BD%D0%B5%D0%B5%D0%B2+%D0%9D%D0%B8%D0%BA%D0%BE%D0%BB%D0%B0%D0%B5%D0%B2%D1%81%D0%BA%D0%BE%D0%B9&username=jaguillette&east=45.433333&featureClass=P&type=json' > 255 characters since it exceeds Excel's limit for URLS\n",
        "  \"Excel's limit for URLS\" % url)\n",
        "c:\\Anaconda3\\lib\\site-packages\\xlsxwriter\\worksheet.py:827: UserWarning: Ignoring URL 'http://api.geonames.org/search?north=56.716667&west=37.433333&south=48.716667&name=%D0%A7%D0%B5%D1%80%D0%BD%D0%B5%D0%B5%D0%B2+%D0%9D%D0%B8%D0%BA%D0%BE%D0%BB%D0%B0%D0%B5%D0%B2%D1%81%D0%BA%D0%B8%D0%B9&username=jaguillette&east=45.433333&featureClass=P&type=json' > 255 characters since it exceeds Excel's limit for URLS\n",
        "  \"Excel's limit for URLS\" % url)\n",
        "c:\\Anaconda3\\lib\\site-packages\\xlsxwriter\\worksheet.py:827: UserWarning: Ignoring URL 'http://api.geonames.org/search?north=60.133333&west=36.416667&south=52.133333&name=%D0%A8%D0%B0%D1%80%D1%82%D0%BE%D0%BB%D0%B8%D0%BD%D1%81%D0%BA%D0%BE%D0%B9+%D0%9D%D0%B8%D0%BA%D0%BE%D0%BB%D0%B0%D0%B5%D0%B2%D1%81%D0%BA%D0%BE%D0%B9&username=jaguillette&east=44.416667&featureClass=P&type=json' > 255 characters since it exceeds Excel's limit for URLS\n",
        "  \"Excel's limit for URLS\" % url)\n",
        "c:\\Anaconda3\\lib\\site-packages\\xlsxwriter\\worksheet.py:827: UserWarning: Ignoring URL 'http://api.geonames.org/search?north=60.133333&west=36.416667&south=52.133333&name=%D0%A8%D0%B0%D1%80%D1%82%D0%BE%D0%BB%D0%B8%D0%BD%D1%81%D0%BA%D0%B8%D0%B9+%D0%9D%D0%B8%D0%BA%D0%BE%D0%BB%D0%B0%D0%B5%D0%B2%D1%81%D0%BA%D0%B8%D0%B9&username=jaguillette&east=44.416667&featureClass=P&type=json' > 255 characters since it exceeds Excel's limit for URLS\n",
        "  \"Excel's limit for URLS\" % url)\n"
       ]
      }
     ],
     "prompt_number": 30
    },
    {
     "cell_type": "code",
     "collapsed": false,
     "input": [
      "geodf_merged = pd.merge(geodf,market_df,left_on='hgr_id',right_index=True)\n",
      "geodf_merged = geodf_merged[['hgr_id', 'name', 'alt_name', 'partof_id', 'lng', 'lat', '_type', 'source_url', 'text', 'name_modern_sp', 'result_placename','searched_placename', 'admin1', 'country_name', 'src_id', 'country_code', 'url', 'local_result', 'src', 'ru_prov', 'prov_modern_sp', 'prov_stem', 'admin1_partof', 'ru_uezd','uezd_modern_sp','uezd_stem', 'admin2_partof', 'page']]"
     ],
     "language": "python",
     "metadata": {},
     "outputs": [],
     "prompt_number": 31
    },
    {
     "cell_type": "code",
     "collapsed": false,
     "input": [
      "cyrillic_translit={u'\\u0410': 'A', u'\\u0430': 'a',u'\\u0411': 'B', u'\\u0431': 'b',u'\\u0412': 'V', u'\\u0432': 'v',u'\\u0413': 'G', u'\\u0433': 'g',u'\\u0414': 'D', u'\\u0434': 'd',u'\\u0415': 'E', u'\\u0435': 'e',u'\\u0416': 'Zh', u'\\u0436': 'zh',u'\\u0417': 'Z', u'\\u0437': 'z',u'\\u0418': 'I', u'\\u0438': 'i',u'\\u0419': 'I', u'\\u0439': 'i',u'\\u041a': 'K', u'\\u043a': 'k',u'\\u041b': 'L', u'\\u043b': 'l',u'\\u041c': 'M', u'\\u043c': 'm',u'\\u041d': 'N', u'\\u043d': 'n',u'\\u041e': 'O', u'\\u043e': 'o',u'\\u041f': 'P', u'\\u043f': 'p',u'\\u0420': 'R', u'\\u0440': 'r',u'\\u0421': 'S', u'\\u0441': 's',u'\\u0422': 'T', u'\\u0442': 't',u'\\u0423': 'U', u'\\u0443': 'u',u'\\u0424': 'F', u'\\u0444': 'f',u'\\u0425': 'Kh', u'\\u0445': 'kh',u'\\u0426': 'Ts', u'\\u0446': 'ts',u'\\u0427': 'Ch', u'\\u0447': 'ch',u'\\u0428': 'Sh', u'\\u0448': 'sh',u'\\u0429': 'Shch', u'\\u0449': 'shch',u'\\u042a': '\"', u'\\u044a': '\"',u'\\u042b': 'Y', u'\\u044b': 'y',u'\\u042c': \"'\", u'\\u044c': \"'\",u'\\u042d': 'E', u'\\u044d': 'e',u'\\u042e': 'Iu', u'\\u044e': 'iu',u'\\u042f': 'Ia', u'\\u044f': 'ia',u'\\u0462': 'E', u'\\u0463': 'e'}\n",
      "\n",
      "def transliterate(word, translit_table):\n",
      "    \"\"\"\n",
      "    Transliterates 'word' based on the key/value pairs in 'translit_table'\n",
      "    \"\"\"\n",
      "    converted_word = ''\n",
      "    for char in word:\n",
      "        transchar = ''\n",
      "        if char in translit_table:\n",
      "            transchar = translit_table[char]\n",
      "        else:\n",
      "            transchar = char\n",
      "        converted_word += transchar\n",
      "    return converted_word"
     ],
     "language": "python",
     "metadata": {},
     "outputs": [],
     "prompt_number": 32
    },
    {
     "cell_type": "code",
     "collapsed": false,
     "input": [
      "geodf_merged['lc_translit'] = geodf_merged.name_modern_sp.apply(lambda text: transliterate(text,cyrillic_translit))"
     ],
     "language": "python",
     "metadata": {},
     "outputs": [],
     "prompt_number": 33
    },
    {
     "cell_type": "code",
     "collapsed": false,
     "input": [
      "geodf_merged.to_excel('output/geocoded_merged.xlsx',encoding = 'utf-8')\n",
      "geodf_merged.to_csv('output/geocoded_merged.csv',encoding = 'utf-8')"
     ],
     "language": "python",
     "metadata": {},
     "outputs": [],
     "prompt_number": 42
    },
    {
     "cell_type": "code",
     "collapsed": false,
     "input": [
      "finding_counts = geodf.ix[geodf.result_placename!='not_found'].pivot_table(index='hgr_id',values='lat',aggfunc=lambda x: len(x.unique()))\n",
      "fdf = pd.DataFrame(finding_counts)"
     ],
     "language": "python",
     "metadata": {},
     "outputs": [],
     "prompt_number": 35
    },
    {
     "cell_type": "code",
     "collapsed": false,
     "input": [
      "single_results = pd.merge(fdf.ix[fdf.lat==1],geodf_merged,left_index=True,right_on='hgr_id')\n",
      "single_results = single_results.ix[single_results.result_placename!='not_found']\n",
      "len(single_results)"
     ],
     "language": "python",
     "metadata": {},
     "outputs": [
      {
       "metadata": {},
       "output_type": "pyout",
       "prompt_number": 38,
       "text": [
        "275"
       ]
      }
     ],
     "prompt_number": 38
    },
    {
     "cell_type": "code",
     "collapsed": false,
     "input": [
      "single_results.name_modern_sp = single_results.name_modern_sp.str.title()"
     ],
     "language": "python",
     "metadata": {},
     "outputs": [],
     "prompt_number": 39
    },
    {
     "cell_type": "code",
     "collapsed": false,
     "input": [
      "single_results.to_csv('output/single_results.csv',encoding='utf-8')"
     ],
     "language": "python",
     "metadata": {},
     "outputs": [],
     "prompt_number": 41
    },
    {
     "cell_type": "code",
     "collapsed": false,
     "input": [
      "def reverse_geocode(lng,lat):\n",
      "    keepgoing = True\n",
      "    while keepgoing == True:\n",
      "        try:\n",
      "            url = \"https://maps.googleapis.com/maps/api/geocode/json\"\n",
      "            Q = {'latlng':\"{},{}\".format(lat,lng)}\n",
      "            R = requests.get(url, params=Q)\n",
      "            print(R.url)\n",
      "            geo_response = R.json()\n",
      "            locality = 'error'\n",
      "            for component in geo_response['results'][0]['address_components']:\n",
      "                if 'locality' in component['types']:\n",
      "                    locality = component['long_name']\n",
      "                elif 'administrative_area_level_1' in component['types']:\n",
      "                    admin1 = component['long_name']\n",
      "                elif 'country' in component['types']:\n",
      "                    country = component['long_name']\n",
      "                    countryCode = component['short_name']\n",
      "            if locality == 'error':\n",
      "                for component in geo_response['results'][0]['address_components']:\n",
      "                    if 'administrative_area_level_2' in component['types']:\n",
      "                        locality = component['long_name']\n",
      "            print(\"\\\"{0}, {1}\\\",\\\"{2}\\\",\\\"{3}\\\"\".format(locality,admin1,country,countryCode))\n",
      "            time.sleep(1)\n",
      "            keepgoing = False\n",
      "        except IndexError:\n",
      "            time.sleep(1)\n",
      "            continue\n",
      "        return \"{}, {}\".format(locality,admin1), country, countryCode"
     ],
     "language": "python",
     "metadata": {},
     "outputs": [],
     "prompt_number": 37
    },
    {
     "cell_type": "code",
     "collapsed": false,
     "input": [
      "single_results['pres_loc'], single_results['country'], single_results['country_code'] = np.vectorize(reverse_geocode)(single_results.lng,single_results.lat_y)"
     ],
     "language": "python",
     "metadata": {},
     "outputs": []
    },
    {
     "cell_type": "code",
     "collapsed": false,
     "input": [
      "single_results = single_results[['lat_x', 'hgr_id', 'name', 'alt_name', 'partof_id', 'lng', 'lat_y', '_type', 'source_url', 'text', 'name_modern_sp', 'lc_translit', 'pres_loc', 'country', 'country_code', 'result_placename', 'searched_placename', 'admin1', 'country_name', 'src_id', 'url', 'local_result', 'src', 'ru_prov', 'prov_modern_sp', 'prov_stem', 'ru_uezd', 'page']]"
     ],
     "language": "python",
     "metadata": {},
     "outputs": []
    }
   ],
   "metadata": {}
  }
 ]
}