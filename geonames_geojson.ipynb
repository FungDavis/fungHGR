{
 "metadata": {
  "name": "",
  "signature": "sha256:0f2474e43ed17fcba4534293127b7613269ec90e979443fc8257fdbe1edea452"
 },
 "nbformat": 3,
 "nbformat_minor": 0,
 "worksheets": [
  {
   "cells": [
    {
     "cell_type": "markdown",
     "metadata": {},
     "source": [
      "GeoNames API results into geojson\n",
      "=================================\n",
      "This notebook takes the saved JSON API responses from geonames and turns them into geojson files to be rendered."
     ]
    },
    {
     "cell_type": "code",
     "collapsed": false,
     "input": [
      "import json, os"
     ],
     "language": "python",
     "metadata": {},
     "outputs": [],
     "prompt_number": 2
    },
    {
     "cell_type": "code",
     "collapsed": false,
     "input": [
      "def dict_to_geojson(gname):\n",
      "    gjson = {'type':'FeatureCollection','features':[]}\n",
      "    for r in gname['geonames']:\n",
      "        feature = {'type':'Feature','geometry':{'type':'Point','coordinates':[float(r['lng']),float(r['lat'])]}}\n",
      "        r.pop('lat')\n",
      "        r.pop('lng')\n",
      "        feature['properties'] = r\n",
      "        gjson['features'].append(feature)\n",
      "    return(gjson)"
     ],
     "language": "python",
     "metadata": {},
     "outputs": [],
     "prompt_number": 5
    },
    {
     "cell_type": "code",
     "collapsed": false,
     "input": [
      "mypath = 'geonames_jsons/'\n",
      "onlyfiles = [ f for f in os.listdir(mypath) if os.path.isfile(os.path.join(mypath,f)) ]"
     ],
     "language": "python",
     "metadata": {},
     "outputs": [],
     "prompt_number": 6
    },
    {
     "cell_type": "code",
     "collapsed": false,
     "input": [
      "for f in onlyfiles:\n",
      "    with open(\"geonames_jsons/{}\".format(f),'r',encoding='utf-8') as fp:\n",
      "        gname_dict = json.load(fp)\n",
      "    gjson_dict = dict_to_geojson(gname_dict)\n",
      "    with open(\"geonames_jsons/geojson/{}\".format(f.replace('.json','.geojson')),'w+') as fp:\n",
      "        json.dump(gjson_dict,fp)"
     ],
     "language": "python",
     "metadata": {},
     "outputs": [],
     "prompt_number": 8
    },
    {
     "cell_type": "code",
     "collapsed": false,
     "input": [
      "gjson"
     ],
     "language": "python",
     "metadata": {},
     "outputs": [
      {
       "metadata": {},
       "output_type": "pyout",
       "prompt_number": 33,
       "text": [
        "{'type': 'FeatureCollection',\n",
        " 'features': [{'properties': {'countryId': '2017370',\n",
        "    'toponymName': 'Borovichi',\n",
        "    'adminCode1': '60',\n",
        "    'geonameId': 572156,\n",
        "    'fcl': 'P',\n",
        "    'name': 'Borovichi',\n",
        "    'countryName': 'Russia',\n",
        "    'fclName': 'city, village,...',\n",
        "    'fcode': 'PPL',\n",
        "    'adminName1': 'Pskov',\n",
        "    'countryCode': 'RU',\n",
        "    'population': 0,\n",
        "    'fcodeName': 'populated place'},\n",
        "   'geometry': {'coordinates': ['29.64666', '57.95614'], 'type': 'Point'},\n",
        "   'type': 'feature'},\n",
        "  {'properties': {'countryId': '2017370',\n",
        "    'toponymName': 'Borovichi',\n",
        "    'adminCode1': '52',\n",
        "    'geonameId': 572154,\n",
        "    'fcl': 'P',\n",
        "    'name': 'Borovichi',\n",
        "    'countryName': 'Russia',\n",
        "    'fclName': 'city, village,...',\n",
        "    'fcode': 'PPL',\n",
        "    'adminName1': 'Novgorod',\n",
        "    'countryCode': 'RU',\n",
        "    'population': 56571,\n",
        "    'fcodeName': 'populated place'},\n",
        "   'geometry': {'coordinates': ['33.91546', '58.38778'], 'type': 'Point'},\n",
        "   'type': 'feature'},\n",
        "  {'properties': {'countryId': '2017370',\n",
        "    'toponymName': 'Borovichi',\n",
        "    'adminCode1': '52',\n",
        "    'geonameId': 572155,\n",
        "    'fcl': 'P',\n",
        "    'name': 'Borovichi',\n",
        "    'countryName': 'Russia',\n",
        "    'fclName': 'city, village,...',\n",
        "    'fcode': 'PPL',\n",
        "    'adminName1': 'Novgorod',\n",
        "    'countryCode': 'RU',\n",
        "    'population': 0,\n",
        "    'fcodeName': 'populated place'},\n",
        "   'geometry': {'coordinates': ['31.78816', '58.29585'], 'type': 'Point'},\n",
        "   'type': 'feature'},\n",
        "  {'properties': {'countryId': '2017370',\n",
        "    'toponymName': 'Borovichi',\n",
        "    'adminCode1': '60',\n",
        "    'geonameId': 572157,\n",
        "    'fcl': 'P',\n",
        "    'name': 'Borovichi',\n",
        "    'countryName': 'Russia',\n",
        "    'fclName': 'city, village,...',\n",
        "    'fcode': 'PPL',\n",
        "    'adminName1': 'Pskov',\n",
        "    'countryCode': 'RU',\n",
        "    'population': 0,\n",
        "    'fcodeName': 'populated place'},\n",
        "   'geometry': {'coordinates': ['30.13362', '57.13818'], 'type': 'Point'},\n",
        "   'type': 'feature'},\n",
        "  {'properties': {'countryId': '2017370',\n",
        "    'toponymName': 'Borowitschi',\n",
        "    'adminCode1': '52',\n",
        "    'geonameId': 461730,\n",
        "    'fcl': 'P',\n",
        "    'name': 'Borowitschi',\n",
        "    'countryName': 'Russia',\n",
        "    'fclName': 'city, village,...',\n",
        "    'fcode': 'PPL',\n",
        "    'adminName1': 'Novgorod',\n",
        "    'countryCode': 'RU',\n",
        "    'population': 0,\n",
        "    'fcodeName': 'populated place'},\n",
        "   'geometry': {'coordinates': ['33.91667', '58.38333'], 'type': 'Point'},\n",
        "   'type': 'feature'}]}"
       ]
      }
     ],
     "prompt_number": 33
    },
    {
     "cell_type": "code",
     "collapsed": false,
     "input": [
      "feat = gname['geonames'][0]\n",
      "print(feat.keys())"
     ],
     "language": "python",
     "metadata": {},
     "outputs": [
      {
       "output_type": "stream",
       "stream": "stdout",
       "text": [
        "dict_keys(['lng', 'countryId', 'toponymName', 'adminCode1', 'geonameId', 'fcl', 'name', 'countryName', 'fclName', 'fcode', 'adminName1', 'lat', 'countryCode', 'population', 'fcodeName'])\n"
       ]
      }
     ],
     "prompt_number": 28
    },
    {
     "cell_type": "code",
     "collapsed": false,
     "input": [
      "print(feat)\n",
      "print(feat.pop('lat'))\n",
      "print(feat.pop('lng'))\n",
      "print(feat)"
     ],
     "language": "python",
     "metadata": {},
     "outputs": [
      {
       "output_type": "stream",
       "stream": "stdout",
       "text": [
        "{'lng': '29.64666', 'countryId': '2017370', 'toponymName': 'Borovichi', 'adminCode1': '60', 'geonameId': 572156, 'fcl': 'P', 'name': 'Borovichi', 'countryName': 'Russia', 'fclName': 'city, village,...', 'fcode': 'PPL', 'adminName1': 'Pskov', 'lat': '57.95614', 'countryCode': 'RU', 'population': 0, 'fcodeName': 'populated place'}\n",
        "57.95614\n",
        "29.64666\n",
        "{'countryId': '2017370', 'toponymName': 'Borovichi', 'adminCode1': '60', 'geonameId': 572156, 'fcl': 'P', 'name': 'Borovichi', 'countryName': 'Russia', 'fclName': 'city, village,...', 'fcode': 'PPL', 'adminName1': 'Pskov', 'countryCode': 'RU', 'population': 0, 'fcodeName': 'populated place'}\n"
       ]
      }
     ],
     "prompt_number": 29
    }
   ],
   "metadata": {}
  }
 ]
}