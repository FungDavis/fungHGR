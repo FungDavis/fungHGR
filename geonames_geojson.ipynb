{
 "metadata": {
  "name": "",
  "signature": "sha256:4eae1ea41b73fc493645e5fd7b575bb80b324bf8f065df94fe20d921cd39c4e0"
 },
 "nbformat": 3,
 "nbformat_minor": 0,
 "worksheets": [
  {
   "cells": [
    {
     "cell_type": "markdown",
     "metadata": {},
     "source": [
      "GeoNames API results into geojson\n",
      "=================================\n",
      "This notebook takes the saved JSON API responses from geonames and turns them into geojson files to be rendered."
     ]
    },
    {
     "cell_type": "code",
     "collapsed": false,
     "input": [
      "import json, os"
     ],
     "language": "python",
     "metadata": {},
     "outputs": [],
     "prompt_number": 1
    },
    {
     "cell_type": "code",
     "collapsed": false,
     "input": [
      "def dict_to_geojson(gname,add_properties = {}):\n",
      "    gjson = {'type':'FeatureCollection','features':[]}\n",
      "    for r in gname['geonames']:\n",
      "        feature = {'type':'Feature','geometry':{'type':'Point','coordinates':[float(r['lng']),float(r['lat'])]}}\n",
      "        r.pop('lat')\n",
      "        r.pop('lng')\n",
      "        feature['properties'] = r\n",
      "        gjson['features'].append(feature)\n",
      "    return(gjson)"
     ],
     "language": "python",
     "metadata": {},
     "outputs": [],
     "prompt_number": 2
    },
    {
     "cell_type": "code",
     "collapsed": false,
     "input": [
      "myfile = \"\u0411\u043e\u0433\u0430\u0442\u044b\u0439_51.json\"\n",
      "with open(\"geonames_jsons/{}\".format(myfile),'r',encoding='utf-8') as fp:\n",
      "    mydict = json.load(fp)\n",
      "gjson_dict = dict_to_geojson(mydict)\n",
      "with open(\"geonames_jsons/geojson/{}\".format(myfile.replace('.json','.geojson')),'w+') as fp:\n",
      "    json.dump(gjson_dict,fp)"
     ],
     "language": "python",
     "metadata": {},
     "outputs": [],
     "prompt_number": 4
    },
    {
     "cell_type": "code",
     "collapsed": false,
     "input": [
      "mypath = 'geonames_jsons/'\n",
      "onlyfiles = [ f for f in os.listdir(mypath) if os.path.isfile(os.path.join(mypath,f)) ]"
     ],
     "language": "python",
     "metadata": {},
     "outputs": [],
     "prompt_number": 3
    },
    {
     "cell_type": "code",
     "collapsed": false,
     "input": [
      "for f in onlyfiles:\n",
      "    with open(\"geonames_jsons/{}\".format(f),'r',encoding='utf-8') as fp:\n",
      "        gname_dict = json.load(fp)\n",
      "    gjson_dict = dict_to_geojson(gname_dict)\n",
      "    with open(\"geonames_jsons/geojson/{}\".format(f.replace('.json','.geojson')),'w+') as fp:\n",
      "        json.dump(gjson_dict,fp)"
     ],
     "language": "python",
     "metadata": {},
     "outputs": [],
     "prompt_number": 4
    }
   ],
   "metadata": {}
  }
 ]
}