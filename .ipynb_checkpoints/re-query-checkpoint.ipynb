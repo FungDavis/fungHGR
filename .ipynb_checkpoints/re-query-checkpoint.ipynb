{
 "metadata": {
  "name": "",
  "signature": "sha256:41d930a7f85ad4ff024a544e2d5fe07547f3bccb4594f47ea42128efde0d18bb"
 },
 "nbformat": 3,
 "nbformat_minor": 0,
 "worksheets": [
  {
   "cells": [
    {
     "cell_type": "code",
     "collapsed": false,
     "input": [
      "placename = \"\u0410\u043b\u0435\u043a\u0441\u0435\u0435\u0432\u043a\u0430\"\n",
      "placeid = 12\n",
      "partof_id = 5\n",
      "fuzz = 1"
     ],
     "language": "python",
     "metadata": {},
     "outputs": [],
     "prompt_number": 15
    },
    {
     "cell_type": "code",
     "collapsed": false,
     "input": [
      "import pandas as pd\n",
      "import numpy as np\n",
      "import json, re, os, time, requests"
     ],
     "language": "python",
     "metadata": {},
     "outputs": [],
     "prompt_number": 58
    },
    {
     "cell_type": "code",
     "collapsed": false,
     "input": [
      "import os\n",
      "def Ensure_dir(d):\n",
      "    \"\"\"Makes sure a directory 'd' exists, and if it doesn't, it creates one.\"\"\"\n",
      "    if not os.path.exists(d):\n",
      "        os.makedirs(d)\n",
      "    return 0"
     ],
     "language": "python",
     "metadata": {},
     "outputs": [],
     "prompt_number": 4
    },
    {
     "cell_type": "code",
     "collapsed": false,
     "input": [
      "def geonames_request(placename,placeid,east=180,west=-180,north=90,south=-90,fuzzy=1):\n",
      "    \"\"\"\n",
      "    Takes a placename and optional bounding box, returns GeoNames response for query in dict form, with added url key\n",
      "    \"\"\"\n",
      "    url = \"http://api.geonames.org/search\"\n",
      "    Q = {'type':'json','username':'jaguillette','featureClass':'P','name':placename,'north':north,'south':south,'east':east,'west':west,'fuzzy':fuzzy}\n",
      "    R = requests.get(url,params=Q)\n",
      "    #print(R.url)\n",
      "    response = R.json()\n",
      "    Q.update({'url':R.url,'hgr_id':int(placeid)})\n",
      "    response.update({'searchinfo':Q})\n",
      "    return response"
     ],
     "language": "python",
     "metadata": {},
     "outputs": [],
     "prompt_number": 5
    },
    {
     "cell_type": "code",
     "collapsed": false,
     "input": [
      "def geo_response_parse(response,save_location=None):\n",
      "    \"\"\"\n",
      "    Takes a dict object from parsing the json of a geonames request, as returned by geonames_request.\n",
      "    Returns a dict of response properties.\n",
      "    \"\"\"\n",
      "    returnlist = []\n",
      "    try:\n",
      "        if response['totalResultsCount'] != 0:\n",
      "            for p in response['geonames']:\n",
      "                mod_dict = {}\n",
      "                for k in p:\n",
      "                    mod_dict[\"gname_{}\".format(k)] = p[k]\n",
      "                returnlist.append(mod_dict)\n",
      "            if save_location is not None:\n",
      "                if not os.path.exists(save_location):\n",
      "                    with open(save_location,'w',encoding='utf-8') as fp:\n",
      "                        json.dump(dict(response),fp,sort_keys=True)\n",
      "            #print(\"{} was found\".format(placename))\n",
      "        else:\n",
      "            returnlist = [{}]\n",
      "        for e in returnlist:\n",
      "            e['url'] = response['searchinfo']['url']\n",
      "            e['hgr_id'] = response['searchinfo']['hgr_id']\n",
      "            e['searched_name'] = response['searchinfo']['name']\n",
      "            e['fuzzy'] = response['searchinfo']['fuzzy']\n",
      "            e['north_bound'] = response['searchinfo']['north']\n",
      "            e['south_bound'] = response['searchinfo']['south']\n",
      "            e['east_bound'] = response['searchinfo']['east']\n",
      "            e['west_bound'] = response['searchinfo']['west']\n",
      "        return returnlist\n",
      "    except KeyError:\n",
      "        print(response['searchinfo']['url'])\n",
      "        return([])"
     ],
     "language": "python",
     "metadata": {},
     "outputs": [],
     "prompt_number": 6
    },
    {
     "cell_type": "code",
     "collapsed": false,
     "input": [
      "bounds = bounding_dict[str(float(partof_id))]\n",
      "W = bounds['boundaries'][0]\n",
      "S = bounds['boundaries'][1]\n",
      "E = bounds['boundaries'][2]\n",
      "N = bounds['boundaries'][3]\n",
      "this_response = geonames_request(placename, placeid, west=W, south=S, east=E, north=N,fuzzy=fuzz)\n",
      "gnames_saved = \"geonames_jsons/{:0>3}_{}_f{}.json\".format(placeid,placename,fuzz)\n",
      "parsed_response = geo_response_parse(this_response,gnames_saved)"
     ],
     "language": "python",
     "metadata": {},
     "outputs": [],
     "prompt_number": 27
    },
    {
     "cell_type": "code",
     "collapsed": false,
     "input": [
      "def dict_to_geojson(gname,add_properties = {}):\n",
      "    gjson = {'type':'FeatureCollection','features':[]}\n",
      "    for r in gname['geonames']:\n",
      "        feature = {'type':'Feature','geometry':{'type':'Point','coordinates':[float(r['lng']),float(r['lat'])]}}\n",
      "        #r.pop('lat')\n",
      "        #r.pop('lng')\n",
      "        feature['properties'] = r\n",
      "        feature['properties'].update(add_properties)\n",
      "        gjson['features'].append(feature)\n",
      "    return(gjson)"
     ],
     "language": "python",
     "metadata": {},
     "outputs": [],
     "prompt_number": 28
    },
    {
     "cell_type": "code",
     "collapsed": false,
     "input": [
      "with open(gnames_saved,\"r\", encoding='utf-8') as fp:\n",
      "    gnames_json = json.load(fp)\n",
      "gnames_geojson = dict_to_geojson(gnames_json)"
     ],
     "language": "python",
     "metadata": {},
     "outputs": [],
     "prompt_number": 29
    },
    {
     "cell_type": "code",
     "collapsed": false,
     "input": [
      "nogeo = pd.DataFrame.from_csv(\"output/process/no_geo.csv\")"
     ],
     "language": "python",
     "metadata": {},
     "outputs": [],
     "prompt_number": 30
    },
    {
     "cell_type": "code",
     "collapsed": false,
     "input": [
      "gnames_geojson_saved = \"geonames_jsons/geojson/{:0>3}_{}_f{}.geojson\".format(placeid,placename,fuzz)\n",
      "mod_dict = {} #I want to indicate that the source of these properties is hgr, so I'm creating a new dict to modify keys.\n",
      "for k in nogeo.loc[placeid].keys():\n",
      "    if type(nogeo.loc[placeid][k])!=np.int64 and type(nogeo.loc[placeid][k])!=np.float64:\n",
      "        mod_dict[\"hgr_{}\".format(k.strip(\"_\"))] = nogeo.loc[placeid][k]\n",
      "    elif type(nogeo.loc[placeid][k])==np.int64:\n",
      "        mod_dict[\"hgr_{}\".format(k.strip(\"_\"))] = int(nogeo.loc[placeid][k])\n",
      "    else:\n",
      "        mod_dict[\"hgr_{}\".format(k.strip(\"_\"))] = float(nogeo.loc[placeid][k])\n",
      "    for g in gnames_geojson['features']:\n",
      "        g['properties'].update(mod_dict)\n",
      "        g['properties']['UPDATE_SCRIPT'] = \"python add_town_by_geoname_id.py {} {}\".format(gnames_geojson_saved,g['properties']['geonameId'])\n",
      "with open(gnames_geojson_saved,\"w\",encoding='utf-8') as fp:\n",
      "    json.dump(gnames_geojson,fp,sort_keys=True,indent=1)"
     ],
     "language": "python",
     "metadata": {},
     "outputs": [],
     "prompt_number": 60
    },
    {
     "cell_type": "code",
     "collapsed": false,
     "input": [
      "def fuzz_geonames(placename,placeid,north,south,east,west,returnlist):\n",
      "    keepgoing = True\n",
      "    fuzzy = .9\n",
      "    while keepgoing:\n",
      "        response = geonames_request(placename,placeid,east=east,west=west,north=north,south=south,fuzzy=fuzzy)\n",
      "        save_loc = \"geonames_jsons/{}_{}_f{:.2}.json\".format(placeid,placename.replace(\" \",\"_\"),fuzzy)\n",
      "        parsed = geo_response_parse(response,save_location=save_loc)\n",
      "        returnlist.extend(parsed)\n",
      "        if any('gname_geonameId' in d for d in parsed):\n",
      "            keepgoing=False\n",
      "        else:\n",
      "            fuzzy = fuzzy-.1\n",
      "            if fuzzy<0:\n",
      "                print(\"{} was not found at max fuzz.\".format(placename))\n",
      "                keepgoing = False\n",
      "            time.sleep(1)\n",
      "        return returnlist"
     ],
     "language": "python",
     "metadata": {},
     "outputs": [],
     "prompt_number": 7
    },
    {
     "cell_type": "code",
     "collapsed": false,
     "input": [
      "def geonames_lookup(placename,placeid,east=180,west=-180,north=90,south=-90,alt_name=None,set_fuzz=False):\n",
      "    \"\"\"\n",
      "    Queries geonames for given placename within bounding boxes.\n",
      "    Also queries for alternate spellings if no main spelling is found.\n",
      "    \"\"\"\n",
      "    Ensure_dir(\"geonames_jsons\")\n",
      "    returnlist = []\n",
      "    re_list = [[r'(\u043e\u0439)($|\\s)',r'\u0438\u0439\\2'],[r'(\u0441\u043a)($|\\s)',r'\\2'],[r'(\u0432)$',r'\\1\u043e']]\n",
      "    #Generating a list of possible placenames based on above regex.\n",
      "    #Placename will be added, then removed for de-duplication after set operation.\n",
      "    pname_list = [placename]\n",
      "    if alt_name is not None:\n",
      "        pname_list.append(alt_name)\n",
      "    for pair in re_list:\n",
      "        pname_list.append(re.sub(pair[0],pair[1],placename))\n",
      "    pname_list = set(pname_list)\n",
      "    pname_list.remove(placename)\n",
      "    #First geocoding attempt\n",
      "    response1 = geonames_request(placename,placeid,east=east,west=west,north=north,south=south)\n",
      "    #print(\"Now querying {}...\".format(placename))\n",
      "    time.sleep(1)\n",
      "    save_loc = \"geonames_jsons/{}_{}.json\".format(placeid,placename.replace(\" \",\"_\"))\n",
      "    parsed1 = geo_response_parse(response1,save_location=save_loc)\n",
      "    returnlist.extend(parsed1)\n",
      "    if not any('gname_geonameId' in d for d in parsed1):\n",
      "        for p in pname_list:\n",
      "            time.sleep(1)\n",
      "            print(\"Querying alternate name {}\".format(p))\n",
      "            response = geonames_request(p,placeid,east=east,west=west,north=north,south=south)\n",
      "            save_loc = \"geonames_jsons/{}_{}.json\".format(placeid,p.replace(\" \",\"_\"))\n",
      "            parsed = geo_response_parse(response,save_location=save_loc)\n",
      "            returnlist.extend(parsed)\n",
      "    if not any('gname_geonameId' in d for d in returnlist):\n",
      "        returnlist = fuzz_geonames(placename,placeid,north,south,east,west,returnlist)\n",
      "        if alt_name is not None:\n",
      "            returnlist = fuzz_geonames(alt_name,placeid,north,south,east,west,returnlist)\n",
      "    return returnlist"
     ],
     "language": "python",
     "metadata": {},
     "outputs": [],
     "prompt_number": 11
    },
    {
     "cell_type": "code",
     "collapsed": false,
     "input": [
      "with open(\"resources/partof_prov_bounds.json\",'r',encoding = 'utf-8') as fp:\n",
      "    bounding_dict = json.load(fp)"
     ],
     "language": "python",
     "metadata": {},
     "outputs": [],
     "prompt_number": 9
    },
    {
     "cell_type": "code",
     "collapsed": false,
     "input": [
      "dataset = pd.DataFrame.from_csv('output/hgr_dataset.csv')"
     ],
     "language": "python",
     "metadata": {},
     "outputs": [],
     "prompt_number": 10
    },
    {
     "cell_type": "code",
     "collapsed": false,
     "input": [
      "bounds = bounding_dict[str(float(partof_id))]\n",
      "W = bounds[0]\n",
      "S = bounds[1]\n",
      "E = bounds[2]\n",
      "N = bounds[3]\n",
      "geonames_lookup(placename, placeid, west=W, south=S, east=E, north=N)"
     ],
     "language": "python",
     "metadata": {},
     "outputs": []
    }
   ],
   "metadata": {}
  }
 ]
}