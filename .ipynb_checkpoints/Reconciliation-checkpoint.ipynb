{
 "metadata": {
  "name": "",
  "signature": "sha256:56aa4328858b64a2be30d97ff676f139c680e41f32576e43e5c8767366edcf90"
 },
 "nbformat": 3,
 "nbformat_minor": 0,
 "worksheets": [
  {
   "cells": [
    {
     "cell_type": "code",
     "collapsed": false,
     "input": [
      "import requests, csv"
     ],
     "language": "python",
     "metadata": {},
     "outputs": [],
     "prompt_number": 2
    },
    {
     "cell_type": "markdown",
     "metadata": {},
     "source": [
      "Here's where the placenames are loaded. Pretty simple csv load."
     ]
    },
    {
     "cell_type": "code",
     "collapsed": false,
     "input": [
      "placenames = []\n",
      "with open(\"placenames.csv\") as csvfile:\n",
      "    R = csv.reader(csvfile)\n",
      "    placenames = [row[0] for row in R]"
     ],
     "language": "python",
     "metadata": {},
     "outputs": [],
     "prompt_number": 6
    },
    {
     "cell_type": "code",
     "collapsed": false,
     "input": [
      "for place in placenames:\n",
      "    print(place)"
     ],
     "language": "python",
     "metadata": {},
     "outputs": [
      {
       "output_type": "stream",
       "stream": "stdout",
       "text": [
        "\u0410\u0412\u0414\u0423\u041b\u041e\u0412\u041e\n",
        "\u0410\u0412\u0416\u0415\u041d\u0421\u041a\u0410\u042f\n",
        "\u0410\u0414\u041e\u0412\u0410\u0422\u041e\u0412\u041e\n",
        "\u0410\u041a\u0421\u0415\u041b\u042c\n",
        "\u0410\u041b\u0410\u0422\u042b\u0420\u042c\n",
        "\u0410\u041b\u0415\u041a\u0421\u0410\u041d\u0414\u0420\u041e\u0412\u0410 \u041f\u0423\u0421\u0422\u042b\u041d\u042f\n",
        "\u0410\u041b\u0415\u041a\u0421\u0410\u041d\u0414\u0420\u041e\u0412\u0421\u041a\u041e\u0415\n",
        "\u0410\u041b\u0415\u041a\u0421\u0418\u041d\u042a\n",
        "\u0410\u041b\u0415\u041a\u0421\u0462\u0415\u0412\u041a\u0410\n",
        "\u0410\u041b\u0415\u041a\u0421\u0462\u0415\u0412\u0421\u041a\u0410\u042f\n",
        "\u0410\u041b\u0415\u0428\u041d\u042f\n",
        "\u0410\u041d\u0410\u0415\u0412\u041e\n",
        "\u0410\u041d\u0414\u0420\u0415\u0415\u0412\u041a\u0410\n",
        "\u0410\u041d\u0422\u041e\u041d\u041e\u0412\u041a\u0410\n",
        "\u0410\u041f\u0418\u0427\u0415\u0420\u0421\u041a\u0410\u042f\n",
        "\u0410\u0420\u0413\u0410\u041c\u0410\u0427\u042c\u042f\n",
        "\u0410\u0420\u0417\u0410\u041c\u0410\u0421\u042a\n",
        "\u0410\u0420\u0422\u0415\u041c\u041e\u041d\u041e\u0412\u041a\u0410\n",
        "\u0410\u0420\u0425\u0410\u041d\u0413\u0415\u041b\u042c\u0421\u041a\u042a\n",
        "\u0410\u0420\u0425\u0410\u041d\u0413\u0415\u041b\u042c\u0421\u041a\u041e\u0415\n",
        "\u0410\u0421\u0410\u041a\u041e\u0412\u041e\n",
        "\u0410\u0421\u0422\u0420\u0410\u0425\u0410\u041d\u042c\n",
        "\u0410\u0422\u0415\u041c\u0410\u0420\u042a\n",
        "\u0410\u0422\u041a\u0410\u0420\u0421\u041a\u042a\n",
        "\u0410\u0425\u0422\u042b\u0420\u041a\u0410\n",
        "\u0411\u0410\u0415\u0412\u041a\u0410\n",
        "\u0411\u0410\u041b\u0410\u041a\u041b\u0415\u0415\u0412\u042a\n",
        "\u0411\u0410\u041b\u0410\u0425\u041d\u0410\n",
        "\u0411\u0410\u0420\u042b\u0428\u0415\u0412\u041a\u0410\n",
        "\u0411\u0410\u0421\u0410\u041d\u042c\n",
        "\u0411\u0410\u0422\u0420\u0410\u041a\u042a\n",
        "\u0411\u0410\u0422\u0423\u0420\u0418\u041d\u042a\n",
        "\u0411\u0410\u0425\u041c\u0410\u0427\u042c\n",
        "\u0411\u0415\u0417\u0413\u0418\u041d\u041e\u0412\u041a\u0410\n",
        "\u0411\u0415\u0420\u0415\u0417\u0418\u041d\u042a\n",
        "\u0411\u0415\u0420\u0415\u0417\u041d\u0418\u041a\u0418\n",
        "\u0411\u0415\u0420\u0415\u0417\u041e\u0412\u042a\n",
        "\u0411\u0415\u0420\u0415\u0417\u041e\u0412\u0426\u0410\n",
        "\u0411\u0415\u0420\u041a\u0423\u041d\u041e\u0412\u0410\n",
        "\u0411\u0415\u0420\u041d\u0418\u041a\u0418\n",
        "\u0411\u0418\u041b\u042f\u0420\u0421\u041a\u042a\n",
        "\u0411\u0418\u0420\u0416\u0410\n",
        "\u0411\u041b\u0410\u0413\u041e\u0412\u0462\u0429\u0415\u041d\u0421\u041a\u041e\u0419 \u041f\u0420\u0418\u0425\u041e\u0414\u042a\n",
        "\u0411\u041e\u0411\u0420\u041e\u0412\u0418\u0426\u0410\n",
        "\u0411\u041e\u0411\u0420\u041e\u0412\u0421\u041a\u041e\u0415\n",
        "\u0411\u041e\u0411\u042b\u041b\u0415\u0412\u0421\u041a\u041e\u0415\n",
        "\u0411\u041e\u0413\u0410\u0422\u0418\u0429\u0415\u0412\u041e\n",
        "\u0411\u041e\u0413\u0410\u0422\u042b\u0419\n",
        "\u0411\u041e\u0413\u0410\u0427\u041a\u0410\n",
        "\u0411\u041e\u0413\u041e\u0414\u0423\u0425\u041e\u0412\u042a\n",
        "\u0411\u041e\u0413\u041e\u0420\u041e\u0414\u0418\u0426\u041a\u042a\n",
        "\u0411\u041e\u0413\u041e\u0420\u041e\u0414\u0418\u0426\u041a\u042a\n",
        "\u0411\u041e\u0413\u041e\u0420\u041e\u0414\u0418\u0426\u041a\u041e\u0419 \u041a\u0410\u0417\u0410\u041d\u0421\u041a\u041e\u0419\n",
        "\u0411\u041e\u0413\u041e\u0420\u041e\u0414\u0421\u041a\u042a\n",
        "\u0411\u041e\u0413\u041e\u042f\u0412\u041b\u0415\u041d\u0421\u041a\u0410\u042f\n",
        "\u0411\u041e\u0413\u041e\u042f\u0412\u041b\u0415\u041d\u0421\u041a\u0410\u042f\n",
        "\u0411\u041e\u0419\u041d\u042f\n",
        "\u0411\u041e\u0420\u0410\n",
        "\u0411\u041e\u0420\u0417\u041d\u0410\n",
        "\u0411\u041e\u0420\u0418\u0421\u041e\u0412\u042a\n",
        "\u0411\u041e\u0420\u0418\u0421\u041e\u0413\u041b\u0462\u0411\u0421\u041a\u042a\n",
        "\u0411\u041e\u0420\u0418\u0421\u041e\u0413\u041b\u0462\u0411\u0421\u041a\u042a\n",
        "\u0411\u041e\u0420\u0418\u0421\u041e\u0413\u041b\u0462\u0411\u0421\u041a\u041e\u0419\n",
        "\u0411\u041e\u0420\u0418\u0421\u041f\u041e\u041b\u042c\n",
        "\u0411\u041e\u0420\u041e\u0412\u0415\u041d\u041a\u0418\n",
        "\u0411\u041e\u0420\u041e\u0412\u0418\u0427\u0418\n",
        "\u0411\u041e\u0420\u041e\u0412\u0421\u041a\u042a\n",
        "\u0411\u041e\u0420\u041e\u041c\u0414\u042f\n",
        "\u0411\u041e\u0420\u042f\u0422\u0418\u041d\u041e\n",
        "\u0411\u0420\u041e\u041d\u041d\u0418\u0426\u042b\n",
        "\u0411\u0420\u041e\u041d\u041d\u0418\u0426\u042b\n",
        "\u0411\u0420\u042f\u041d\u0421\u041a\u042a\n",
        "\u0411\u0423\u0414\u0418\u0427\u042c\n",
        "\u0411\u0423\u0420\u0415\u0426\u041a\u041e\u0419\n",
        "\u0411\u0423\u0420\u041e\u041c\u041a\u0410\n",
        "\u0411\u0423\u0427\u0410\u041b\u041a\u0418\n",
        "\u0411\u0423\u0428\u041d\u0420\u0412\u041e\n",
        "\u0411\u042b\u041a\u041e\u0412\u042a\n",
        "\u0411\u0462\u0416\u0415\u0426\u041a\u042a\n",
        "\u0411\u0462\u041b\u0410\u042f \u041a\u041e\u041b\u041f\u042c\n",
        "\u0411\u0462\u041b\u0418\u041a\u0418\n",
        "\u0411\u0462\u041b\u041e\u0415\n",
        "\u0411\u0462\u041b\u041e\u0417\u0415\u0420\u0421\u041a\u041e\u0419 \u041a\u0418\u0420\u0418\u041b\u041e\u0412\u042a\n",
        "\u0411\u0462\u041b\u041e\u0419\n",
        "\u0411\u0462\u041b\u041e\u041a\u0423\u0420\u0418\u041d\u0410\n",
        "\u0411\u0462\u041b\u041e\u041f\u041e\u041b\u042c\u0415\n",
        "\u0411\u0462\u041b\u041e\u0426\u0415\u0420\u041a\u041e\u0412\u041a\u0410\n",
        "\u0411\u0462\u041b\u042b\u041d\u0418\u0427\u0418\n",
        "\u0412\u0410\u041b\u0414\u0410\u0419\n",
        "\u0412\u0410\u041b\u041a\u0418\n",
        "\u0412\u0410\u041b\u0423\u0419\u041a\u0418\n",
        "\u0412\u0410\u0420\u0412\u0410\n",
        "\u0411\u0410\u0420\u041a\u041e\u0412\u042a\n",
        "\u0412\u0410\u0428\u041a\u0410\n",
        "\u0412\u0415\u0419\u0414\u0415\u041b\u0415\u0412\u041a\u0410\n",
        "\u0412\u0415\u041b\u0418\u0416\u042a\n",
        "\u0412\u0415\u041b\u0418\u041a\u041e\u0415\n",
        "\u0412\u0415\u041d\u0414\u0415\u041d\u042a\n",
        "\u0412\u0415\u041d\u0415\u0412\u042a\n",
        "\u0412\u0415\u041d\u0415\u0412\u0421\u041a\u041e\u0419 \u041d\u0418\u041a\u041e\u041b\u0410\u0415\u0412\u0421\u041a\u041e\u0419\n",
        "\u0412\u0415\u041f\u0420\u0418\u041a\u042a\n",
        "\u0412\u0415\u0420\u0415\u042f\n",
        "\u0412\u0415\u0420\u0425\u041d\u0406\u0419 \u0423\u0414\u0418\u041d\u0421\u041a\u042a\n",
        "\u0412\u0415\u0420\u0425\u041e\u0412\u0410\u0416\u0421\u041a\u041e\u0419\n",
        "\u0412\u0415\u0421\u0406\u0415\u0413\u041e\u041d\u0421\u041a\u042a\n",
        "\u0412\u0418\u041b\u042c\u041c\u0410\u041d\u0421\u0422\u0420\u0410\u041d\u0414\u042a\n",
        "\u0412\u0418\u041b\u042e\u0419\u0421\u041a\u041e\u0415 \u0412\u0415\u0420\u0425\u041d\u0415\u0415\n",
        "\u0412\u041e\u0415\u0412\u041e\u0414\u0421\u041a\u041e\u0415\n",
        "\u0412\u041e\u0417\u041d\u0415\u0421\u0415\u041d\u0421\u041a\u041e\u0419\n",
        "\u0412\u041e\u041b\u041c\u0410\u0420\u042a\n",
        "\u0412\u041e\u041b\u041e\u0414\u0418\u041c\u0415\u0420\u0415\u0426\u042a\n",
        "\u0412\u041e\u041b\u041e\u041a\u041e\u041b\u0410\u041c\u0421\u041a\u042a\n",
        "\u0412\u041e\u041b\u041e\u041a\u041e\u041f\u0418\u041d\u0415\u0416\u0421\u041a\u0410\u042f\n",
        "\u0412\u041e\u041b\u0421\u041a\u042a\n",
        "\u0412\u041e\u041b\u0427\u042c\u042f\n",
        "\u0412\u041e\u041b\u042b\u041d\u0426\u042b\n",
        "\u0412\u041e\u041b\u042c\u041d\u0410\u042f\n",
        "\u0412\u041e\u0421\u041a\u0420\u0415\u0421\u0415\u041d\u0421\u041a\u042a\n",
        "\u0415\u0420\u0415\u0412\u042a\n",
        "\u0412\u042b\u0411\u041e\u0420\u042a\n",
        "\u0412\u042b\u0411\u041e\u0420\u0413\u042a\n",
        "\u0412\u041e\u0420\u041e\u041d\u0415\u0416\u042a\n",
        "\u0412\u041e\u0420\u041e\u041d\u0415\u0416\u042a\n",
        "\u0412\u041e\u0420\u041e\u041d\u041a\u041e\u0412\u042a\n",
        "\u0412\u041e\u0420\u041e\u041d\u0426\u041e\u0412\u041a\u0410\n",
        "\u0412\u042b\u0421\u041e\u041a\u041e\u0415\n",
        "\u0412\u042b\u0421\u041e\u041a\u041e\u0415\n",
        "\u0412\u042b\u0422\u0415\u0413\u0420\u0410\n",
        "\u0412\u042c\u0406\u0427\u0423\u0413\u0410\n",
        "\u0412\u042b\u0428\u0413\u041e\u0420\u041e\u0414\u042a\n",
        "\u0412\u042b\u0428\u0413\u041e\u0420\u041e\u0414\u042a\n",
        "\u0412\u042b\u0428\u041d\u0406\u0419 \u0412\u041e\u041b\u041e\u0427\u041e\u041a\u042a\n",
        "\u0412\u0462\u0422\u041a\u0410\n",
        "\u0412\u0462\u0422\u041a\u0410\n",
        "\u0412\u042f\u0417\u041d\u0418\u041a\u0418\n",
        "\u0412\u042f\u0417\u041e\u0412\u041d\u0410\n",
        "\u0410\u0411\u0417\u0410\u041b\u042c\n",
        "\u0413\u0410\u0412\u0420\u0418\u041b\u041e\u0412\u0410\n",
        "\u0413\u0410\u0413\u0410\u0420\u0418\u041d\u041e\n",
        "\u0413\u0410\u0414\u042f\u0427\u042c\n",
        "\u0413\u0410\u041b\u042f\u041d\u0418\n",
        "\u0413\u0410\u0422\u041d\u0418\u0426\u042b\n",
        "\u0413\u0414\u041e\u0412\u042a\n",
        "\u0413\u0415\u041d\u041d\u0410\u0414\u0406\u0415\u0412\u042a\n",
        "\u0413\u0415\u0420\u041c\u0410\u041d\u041e\u0412\u0410\n",
        "\u0413\u0416\u0410\u0422\u042c\n",
        "\u0413\u041b\u0415\u041c\u042f\u0417\u041e\u0412\u042a\n",
        "\u0413\u041b\u0418\u041d\u0421\u041a\u042a\n",
        "\u0413\u041b\u0418\u041d\u0421\u041a\u042a\n",
        "\u0413\u041b\u0423\u0425\u041e\u0412\u042a\n"
       ]
      }
     ],
     "prompt_number": 11
    },
    {
     "cell_type": "markdown",
     "metadata": {},
     "source": [
      "Here's where there's some Google Geocoding going on. I'm just going to ignore unicode errors for now, and acknowledge that something was found."
     ]
    },
    {
     "cell_type": "code",
     "collapsed": false,
     "input": [
      "count = 0\n",
      "for place in placenames:\n",
      "    url = 'http://maps.googleapis.com/maps/api/geocode/json?address={}'.format(place)\n",
      "    R = requests.get(url)\n",
      "    this_json = R.json()\n",
      "    print(R.url)\n",
      "    try:\n",
      "        print(\"{0}: {1}\".format(place,this_json['results'][0]['formatted_address']))\n",
      "        count+=1\n",
      "    except IndexError:\n",
      "        print(\"{} not found\".format(place))\n",
      "    except UnicodeEncodeError:\n",
      "        print(\"{} was found, name is unicode\".format(place))\n",
      "        count+=1\n",
      "print(\"{} out of  {} found\".format(count,len(placenames)))"
     ],
     "language": "python",
     "metadata": {},
     "outputs": [
      {
       "output_type": "stream",
       "stream": "stdout",
       "text": [
        "http://maps.googleapis.com/maps/api/geocode/json?address=%D0%90%D0%92%D0%94%D0%A3%D0%9B%D0%9E%D0%92%D0%9E\n",
        "\u0410\u0412\u0414\u0423\u041b\u041e\u0412\u041e: Avdulovo, Lipetsk Oblast, Russia, 399837\n",
        "http://maps.googleapis.com/maps/api/geocode/json?address=%D0%90%D0%92%D0%96%D0%95%D0%9D%D0%A1%D0%9A%D0%90%D0%AF"
       ]
      },
      {
       "output_type": "stream",
       "stream": "stdout",
       "text": [
        "\n",
        "\u0410\u0412\u0416\u0415\u041d\u0421\u041a\u0410\u042f not found\n",
        "http://maps.googleapis.com/maps/api/geocode/json?address=%D0%90%D0%94%D0%9E%D0%92%D0%90%D0%A2%D0%9E%D0%92%D0%9E"
       ]
      },
      {
       "output_type": "stream",
       "stream": "stdout",
       "text": [
        "\n",
        "\u0410\u0414\u041e\u0412\u0410\u0422\u041e\u0412\u041e not found\n",
        "http://maps.googleapis.com/maps/api/geocode/json?address=%D0%90%D0%9A%D0%A1%D0%95%D0%9B%D0%AC"
       ]
      },
      {
       "output_type": "stream",
       "stream": "stdout",
       "text": [
        "\n",
        "\u0410\u041a\u0421\u0415\u041b\u042c: Axel Heiberg Island, Baffin, Unorganized, NU, Canada\n",
        "http://maps.googleapis.com/maps/api/geocode/json?address=%D0%90%D0%9B%D0%90%D0%A2%D0%AB%D0%A0%D0%AC"
       ]
      },
      {
       "output_type": "stream",
       "stream": "stdout",
       "text": [
        "\n",
        "\u0410\u041b\u0410\u0422\u042b\u0420\u042c: Alatyr', Nizhny Novgorod Oblast, Russia, 607760\n",
        "http://maps.googleapis.com/maps/api/geocode/json?address=%D0%90%D0%9B%D0%95%D0%9A%D0%A1%D0%90%D0%9D%D0%94%D0%A0%D0%9E%D0%92%D0%90%20%D0%9F%D0%A3%D0%A1%D0%A2%D0%AB%D0%9D%D0%AF"
       ]
      },
      {
       "output_type": "stream",
       "stream": "stdout",
       "text": [
        "\n",
        "\u0410\u041b\u0415\u041a\u0421\u0410\u041d\u0414\u0420\u041e\u0412\u0410 \u041f\u0423\u0421\u0422\u042b\u041d\u042f: Aleksandrova Pustyn', Yaroslavl Oblast, Russia, 152983\n",
        "http://maps.googleapis.com/maps/api/geocode/json?address=%D0%90%D0%9B%D0%95%D0%9A%D0%A1%D0%90%D0%9D%D0%94%D0%A0%D0%9E%D0%92%D0%A1%D0%9A%D0%9E%D0%95"
       ]
      },
      {
       "output_type": "stream",
       "stream": "stdout",
       "text": [
        "\n",
        "\u0410\u041b\u0415\u041a\u0421\u0410\u041d\u0414\u0420\u041e\u0412\u0421\u041a\u041e\u0415: Alexandrovskoye, Stavropol Krai, Stavropol Krai, Russia\n",
        "http://maps.googleapis.com/maps/api/geocode/json?address=%D0%90%D0%9B%D0%95%D0%9A%D0%A1%D0%98%D0%9D%D0%AA"
       ]
      },
      {
       "output_type": "stream",
       "stream": "stdout",
       "text": [
        "\n",
        "\u0410\u041b\u0415\u041a\u0421\u0418\u041d\u042a not found\n",
        "http://maps.googleapis.com/maps/api/geocode/json?address=%D0%90%D0%9B%D0%95%D0%9A%D0%A1%D1%A2%D0%95%D0%92%D0%9A%D0%90"
       ]
      },
      {
       "output_type": "stream",
       "stream": "stdout",
       "text": [
        "\n",
        "\u0410\u041b\u0415\u041a\u0421\u0462\u0415\u0412\u041a\u0410 not found\n",
        "http://maps.googleapis.com/maps/api/geocode/json?address=%D0%90%D0%9B%D0%95%D0%9A%D0%A1%D1%A2%D0%95%D0%92%D0%A1%D0%9A%D0%90%D0%AF"
       ]
      },
      {
       "output_type": "stream",
       "stream": "stdout",
       "text": [
        "\n",
        "\u0410\u041b\u0415\u041a\u0421\u0462\u0415\u0412\u0421\u041a\u0410\u042f not found\n",
        "http://maps.googleapis.com/maps/api/geocode/json?address=%D0%90%D0%9B%D0%95%D0%A8%D0%9D%D0%AF"
       ]
      },
      {
       "output_type": "stream",
       "stream": "stdout",
       "text": [
        "\n",
        "\u0410\u041b\u0415\u0428\u041d\u042f: Aleshnya, Ryazan Oblast, Russia, 391122\n",
        "http://maps.googleapis.com/maps/api/geocode/json?address=%D0%90%D0%9D%D0%90%D0%95%D0%92%D0%9E"
       ]
      },
      {
       "output_type": "stream",
       "stream": "stdout",
       "text": [
        "\n",
        "\u0410\u041d\u0410\u0415\u0412\u041e not found\n",
        "http://maps.googleapis.com/maps/api/geocode/json?address=%D0%90%D0%9D%D0%94%D0%A0%D0%95%D0%95%D0%92%D0%9A%D0%90"
       ]
      },
      {
       "output_type": "stream",
       "stream": "stdout",
       "text": [
        "\n",
        "\u0410\u041d\u0414\u0420\u0415\u0415\u0412\u041a\u0410: Andreevka, Moskovskaya oblast, Russia\n",
        "http://maps.googleapis.com/maps/api/geocode/json?address=%D0%90%D0%9D%D0%A2%D0%9E%D0%9D%D0%9E%D0%92%D0%9A%D0%90"
       ]
      },
      {
       "output_type": "stream",
       "stream": "stdout",
       "text": [
        "\n",
        "\u0410\u041d\u0422\u041e\u041d\u041e\u0412\u041a\u0410: Antonivka, Khersons'ka oblast, Ukraine\n",
        "http://maps.googleapis.com/maps/api/geocode/json?address=%D0%90%D0%9F%D0%98%D0%A7%D0%95%D0%A0%D0%A1%D0%9A%D0%90%D0%AF"
       ]
      },
      {
       "output_type": "stream",
       "stream": "stdout",
       "text": [
        "\n",
        "\u0410\u041f\u0418\u0427\u0415\u0420\u0421\u041a\u0410\u042f not found\n",
        "http://maps.googleapis.com/maps/api/geocode/json?address=%D0%90%D0%A0%D0%93%D0%90%D0%9C%D0%90%D0%A7%D0%AC%D0%AF"
       ]
      },
      {
       "output_type": "stream",
       "stream": "stdout",
       "text": [
        "\n",
        "\u0410\u0420\u0413\u0410\u041c\u0410\u0427\u042c\u042f: Argamak, Bashkortostan, Russia\n",
        "http://maps.googleapis.com/maps/api/geocode/json?address=%D0%90%D0%A0%D0%97%D0%90%D0%9C%D0%90%D0%A1%D0%AA"
       ]
      },
      {
       "output_type": "stream",
       "stream": "stdout",
       "text": [
        "\n",
        "\u0410\u0420\u0417\u0410\u041c\u0410\u0421\u042a not found\n",
        "http://maps.googleapis.com/maps/api/geocode/json?address=%D0%90%D0%A0%D0%A2%D0%95%D0%9C%D0%9E%D0%9D%D0%9E%D0%92%D0%9A%D0%90"
       ]
      },
      {
       "output_type": "stream",
       "stream": "stdout",
       "text": [
        "\n",
        "\u0410\u0420\u0422\u0415\u041c\u041e\u041d\u041e\u0412\u041a\u0410 not found\n",
        "http://maps.googleapis.com/maps/api/geocode/json?address=%D0%90%D0%A0%D0%A5%D0%90%D0%9D%D0%93%D0%95%D0%9B%D0%AC%D0%A1%D0%9A%D0%AA"
       ]
      },
      {
       "output_type": "stream",
       "stream": "stdout",
       "text": [
        "\n",
        "\u0410\u0420\u0425\u0410\u041d\u0413\u0415\u041b\u042c\u0421\u041a\u042a not found\n",
        "http://maps.googleapis.com/maps/api/geocode/json?address=%D0%90%D0%A0%D0%A5%D0%90%D0%9D%D0%93%D0%95%D0%9B%D0%AC%D0%A1%D0%9A%D0%9E%D0%95"
       ]
      },
      {
       "output_type": "stream",
       "stream": "stdout",
       "text": [
        "\n",
        "\u0410\u0420\u0425\u0410\u041d\u0413\u0415\u041b\u042c\u0421\u041a\u041e\u0415: Arkhangelskoye, Moskovskaya oblast, Russia\n",
        "http://maps.googleapis.com/maps/api/geocode/json?address=%D0%90%D0%A1%D0%90%D0%9A%D0%9E%D0%92%D0%9E"
       ]
      },
      {
       "output_type": "stream",
       "stream": "stdout",
       "text": [
        "\n",
        "\u0410\u0421\u0410\u041a\u041e\u0412\u041e: Asakovo, Moskovskaya oblast, Russia, 143078\n",
        "http://maps.googleapis.com/maps/api/geocode/json?address=%D0%90%D0%A1%D0%A2%D0%A0%D0%90%D0%A5%D0%90%D0%9D%D0%AC"
       ]
      },
      {
       "output_type": "stream",
       "stream": "stdout",
       "text": [
        "\n",
        "\u0410\u0421\u0422\u0420\u0410\u0425\u0410\u041d\u042c: Astrakhan, Astrakhan Oblast, Russia\n",
        "http://maps.googleapis.com/maps/api/geocode/json?address=%D0%90%D0%A2%D0%95%D0%9C%D0%90%D0%A0%D0%AA"
       ]
      },
      {
       "output_type": "stream",
       "stream": "stdout",
       "text": [
        "\n",
        "\u0410\u0422\u0415\u041c\u0410\u0420\u042a not found\n",
        "http://maps.googleapis.com/maps/api/geocode/json?address=%D0%90%D0%A2%D0%9A%D0%90%D0%A0%D0%A1%D0%9A%D0%AA"
       ]
      },
      {
       "output_type": "stream",
       "stream": "stdout",
       "text": [
        "\n",
        "\u0410\u0422\u041a\u0410\u0420\u0421\u041a\u042a not found\n",
        "http://maps.googleapis.com/maps/api/geocode/json?address=%D0%90%D0%A5%D0%A2%D0%AB%D0%A0%D0%9A%D0%90"
       ]
      },
      {
       "output_type": "stream",
       "stream": "stdout",
       "text": [
        "\n",
        "\u0410\u0425\u0422\u042b\u0420\u041a\u0410: Okhtyrka, Sums'ka oblast, Ukraine\n",
        "http://maps.googleapis.com/maps/api/geocode/json?address=%D0%91%D0%90%D0%95%D0%92%D0%9A%D0%90"
       ]
      },
      {
       "output_type": "stream",
       "stream": "stdout",
       "text": [
        "\n",
        "\u0411\u0410\u0415\u0412\u041a\u0410: Baevka, Ulyanovsk Oblast, Russia, 433826\n",
        "http://maps.googleapis.com/maps/api/geocode/json?address=%D0%91%D0%90%D0%9B%D0%90%D0%9A%D0%9B%D0%95%D0%95%D0%92%D0%AA"
       ]
      },
      {
       "output_type": "stream",
       "stream": "stdout",
       "text": [
        "\n",
        "\u0411\u0410\u041b\u0410\u041a\u041b\u0415\u0415\u0412\u042a not found\n",
        "http://maps.googleapis.com/maps/api/geocode/json?address=%D0%91%D0%90%D0%9B%D0%90%D0%A5%D0%9D%D0%90\n",
        "\u0411\u0410\u041b\u0410\u0425\u041d\u0410 not found\n",
        "http://maps.googleapis.com/maps/api/geocode/json?address=%D0%91%D0%90%D0%A0%D0%AB%D0%A8%D0%95%D0%92%D0%9A%D0%90"
       ]
      },
      {
       "output_type": "stream",
       "stream": "stdout",
       "text": [
        "\n",
        "\u0411\u0410\u0420\u042b\u0428\u0415\u0412\u041a\u0410 not found\n",
        "http://maps.googleapis.com/maps/api/geocode/json?address=%D0%91%D0%90%D0%A1%D0%90%D0%9D%D0%AC\n",
        "\u0411\u0410\u0421\u0410\u041d\u042c not found\n",
        "http://maps.googleapis.com/maps/api/geocode/json?address=%D0%91%D0%90%D0%A2%D0%A0%D0%90%D0%9A%D0%AA"
       ]
      },
      {
       "output_type": "stream",
       "stream": "stdout",
       "text": [
        "\n",
        "\u0411\u0410\u0422\u0420\u0410\u041a\u042a not found\n",
        "http://maps.googleapis.com/maps/api/geocode/json?address=%D0%91%D0%90%D0%A2%D0%A3%D0%A0%D0%98%D0%9D%D0%AA"
       ]
      },
      {
       "output_type": "stream",
       "stream": "stdout",
       "text": [
        "\n",
        "\u0411\u0410\u0422\u0423\u0420\u0418\u041d\u042a not found\n",
        "http://maps.googleapis.com/maps/api/geocode/json?address=%D0%91%D0%90%D0%A5%D0%9C%D0%90%D0%A7%D0%AC"
       ]
      },
      {
       "output_type": "stream",
       "stream": "stdout",
       "text": [
        "\n",
        "\u0411\u0410\u0425\u041c\u0410\u0427\u042c: Bakhmach, Chernihivs'ka oblast, Ukraine\n",
        "http://maps.googleapis.com/maps/api/geocode/json?address=%D0%91%D0%95%D0%97%D0%93%D0%98%D0%9D%D0%9E%D0%92%D0%9A%D0%90"
       ]
      },
      {
       "output_type": "stream",
       "stream": "stdout",
       "text": [
        "\n",
        "\u0411\u0415\u0417\u0413\u0418\u041d\u041e\u0412\u041a\u0410 not found\n",
        "http://maps.googleapis.com/maps/api/geocode/json?address=%D0%91%D0%95%D0%A0%D0%95%D0%97%D0%98%D0%9D%D0%AA"
       ]
      },
      {
       "output_type": "stream",
       "stream": "stdout",
       "text": [
        "\n",
        "\u0411\u0415\u0420\u0415\u0417\u0418\u041d\u042a not found\n",
        "http://maps.googleapis.com/maps/api/geocode/json?address=%D0%91%D0%95%D0%A0%D0%95%D0%97%D0%9D%D0%98%D0%9A%D0%98"
       ]
      },
      {
       "output_type": "stream",
       "stream": "stdout",
       "text": [
        "\n",
        "\u0411\u0415\u0420\u0415\u0417\u041d\u0418\u041a\u0418: Berezniki, Perm Krai, Russia\n",
        "http://maps.googleapis.com/maps/api/geocode/json?address=%D0%91%D0%95%D0%A0%D0%95%D0%97%D0%9E%D0%92%D0%AA"
       ]
      },
      {
       "output_type": "stream",
       "stream": "stdout",
       "text": [
        "\n",
        "\u0411\u0415\u0420\u0415\u0417\u041e\u0412\u042a: Bereziv, Lviv Oblast, Ukraine\n",
        "http://maps.googleapis.com/maps/api/geocode/json?address=%D0%91%D0%95%D0%A0%D0%95%D0%97%D0%9E%D0%92%D0%A6%D0%90"
       ]
      },
      {
       "output_type": "stream",
       "stream": "stdout",
       "text": [
        "\n",
        "\u0411\u0415\u0420\u0415\u0417\u041e\u0412\u0426\u0410: Berezovets, Kostroma Oblast, Russia, 157222\n",
        "http://maps.googleapis.com/maps/api/geocode/json?address=%D0%91%D0%95%D0%A0%D0%9A%D0%A3%D0%9D%D0%9E%D0%92%D0%90"
       ]
      },
      {
       "output_type": "stream",
       "stream": "stdout",
       "text": [
        "\n",
        "\u0411\u0415\u0420\u041a\u0423\u041d\u041e\u0412\u0410: Berkunovo, Moskovskaya oblast, Russia, 143715\n",
        "http://maps.googleapis.com/maps/api/geocode/json?address=%D0%91%D0%95%D0%A0%D0%9D%D0%98%D0%9A%D0%98"
       ]
      },
      {
       "output_type": "stream",
       "stream": "stdout",
       "text": [
        "\n",
        "\u0411\u0415\u0420\u041d\u0418\u041a\u0418: Berniki, Tula Oblast, Russia, 301119\n",
        "http://maps.googleapis.com/maps/api/geocode/json?address=%D0%91%D0%98%D0%9B%D0%AF%D0%A0%D0%A1%D0%9A%D0%AA"
       ]
      },
      {
       "output_type": "stream",
       "stream": "stdout",
       "text": [
        "\n",
        "\u0411\u0418\u041b\u042f\u0420\u0421\u041a\u042a not found\n",
        "http://maps.googleapis.com/maps/api/geocode/json?address=%D0%91%D0%98%D0%A0%D0%96%D0%90\n",
        "\u0411\u0418\u0420\u0416\u0410 not found\n",
        "http://maps.googleapis.com/maps/api/geocode/json?address=%D0%91%D0%9B%D0%90%D0%93%D0%9E%D0%92%D1%A2%D0%A9%D0%95%D0%9D%D0%A1%D0%9A%D0%9E%D0%99%20%D0%9F%D0%A0%D0%98%D0%A5%D0%9E%D0%94%D0%AA"
       ]
      },
      {
       "output_type": "stream",
       "stream": "stdout",
       "text": [
        "\n",
        "\u0411\u041b\u0410\u0413\u041e\u0412\u0462\u0429\u0415\u041d\u0421\u041a\u041e\u0419 \u041f\u0420\u0418\u0425\u041e\u0414\u042a not found\n",
        "http://maps.googleapis.com/maps/api/geocode/json?address=%D0%91%D0%9E%D0%91%D0%A0%D0%9E%D0%92%D0%98%D0%A6%D0%90"
       ]
      },
      {
       "output_type": "stream",
       "stream": "stdout",
       "text": [
        "\n",
        "\u0411\u041e\u0411\u0420\u041e\u0412\u0418\u0426\u0410 not found\n",
        "http://maps.googleapis.com/maps/api/geocode/json?address=%D0%91%D0%9E%D0%91%D0%A0%D0%9E%D0%92%D0%A1%D0%9A%D0%9E%D0%95\n",
        "\u0411\u041e\u0411\u0420\u041e\u0412\u0421\u041a\u041e\u0415 not found\n",
        "http://maps.googleapis.com/maps/api/geocode/json?address=%D0%91%D0%9E%D0%91%D0%AB%D0%9B%D0%95%D0%92%D0%A1%D0%9A%D0%9E%D0%95"
       ]
      },
      {
       "output_type": "stream",
       "stream": "stdout",
       "text": [
        "\n",
        "\u0411\u041e\u0411\u042b\u041b\u0415\u0412\u0421\u041a\u041e\u0415 not found\n",
        "http://maps.googleapis.com/maps/api/geocode/json?address=%D0%91%D0%9E%D0%93%D0%90%D0%A2%D0%98%D0%A9%D0%95%D0%92%D0%9E\n",
        "\u0411\u041e\u0413\u0410\u0422\u0418\u0429\u0415\u0412\u041e not found\n",
        "http://maps.googleapis.com/maps/api/geocode/json?address=%D0%91%D0%9E%D0%93%D0%90%D0%A2%D0%AB%D0%99"
       ]
      },
      {
       "output_type": "stream",
       "stream": "stdout",
       "text": [
        "\n",
        "\u0411\u041e\u0413\u0410\u0422\u042b\u0419 not found\n",
        "http://maps.googleapis.com/maps/api/geocode/json?address=%D0%91%D0%9E%D0%93%D0%90%D0%A7%D0%9A%D0%90"
       ]
      },
      {
       "output_type": "stream",
       "stream": "stdout",
       "text": [
        "\n",
        "\u0411\u041e\u0413\u0410\u0427\u041a\u0410: Bahachka, Luhans'ka oblast, Ukraine\n",
        "http://maps.googleapis.com/maps/api/geocode/json?address=%D0%91%D0%9E%D0%93%D0%9E%D0%94%D0%A3%D0%A5%D0%9E%D0%92%D0%AA"
       ]
      },
      {
       "output_type": "stream",
       "stream": "stdout",
       "text": [
        "\n",
        "\u0411\u041e\u0413\u041e\u0414\u0423\u0425\u041e\u0412\u042a not found\n",
        "http://maps.googleapis.com/maps/api/geocode/json?address=%D0%91%D0%9E%D0%93%D0%9E%D0%A0%D0%9E%D0%94%D0%98%D0%A6%D0%9A%D0%AA"
       ]
      },
      {
       "output_type": "stream",
       "stream": "stdout",
       "text": [
        "\n",
        "\u0411\u041e\u0413\u041e\u0420\u041e\u0414\u0418\u0426\u041a\u042a not found\n",
        "http://maps.googleapis.com/maps/api/geocode/json?address=%D0%91%D0%9E%D0%93%D0%9E%D0%A0%D0%9E%D0%94%D0%98%D0%A6%D0%9A%D0%AA"
       ]
      },
      {
       "output_type": "stream",
       "stream": "stdout",
       "text": [
        "\n",
        "\u0411\u041e\u0413\u041e\u0420\u041e\u0414\u0418\u0426\u041a\u042a not found\n",
        "http://maps.googleapis.com/maps/api/geocode/json?address=%D0%91%D0%9E%D0%93%D0%9E%D0%A0%D0%9E%D0%94%D0%98%D0%A6%D0%9A%D0%9E%D0%99%20%D0%9A%D0%90%D0%97%D0%90%D0%9D%D0%A1%D0%9A%D0%9E%D0%99"
       ]
      },
      {
       "output_type": "stream",
       "stream": "stdout",
       "text": [
        "\n",
        "\u0411\u041e\u0413\u041e\u0420\u041e\u0414\u0418\u0426\u041a\u041e\u0419 \u041a\u0410\u0417\u0410\u041d\u0421\u041a\u041e\u0419: Kazansko-bogoroditskaya Tserkov', 1-ya Vladimirskaya ulitsa, 42, Kazan, Republic of Tatarstan, Russia, 420088\n",
        "http://maps.googleapis.com/maps/api/geocode/json?address=%D0%91%D0%9E%D0%93%D0%9E%D0%A0%D0%9E%D0%94%D0%A1%D0%9A%D0%AA"
       ]
      },
      {
       "output_type": "stream",
       "stream": "stdout",
       "text": [
        "\n",
        "\u0411\u041e\u0413\u041e\u0420\u041e\u0414\u0421\u041a\u042a not found\n",
        "http://maps.googleapis.com/maps/api/geocode/json?address=%D0%91%D0%9E%D0%93%D0%9E%D0%AF%D0%92%D0%9B%D0%95%D0%9D%D0%A1%D0%9A%D0%90%D0%AF"
       ]
      },
      {
       "output_type": "stream",
       "stream": "stdout",
       "text": [
        "\n",
        "\u0411\u041e\u0413\u041e\u042f\u0412\u041b\u0415\u041d\u0421\u041a\u0410\u042f: ploshchad' Bogoyavlenskaya, Oryol, Oryol Oblast, Russia, 302001\n",
        "http://maps.googleapis.com/maps/api/geocode/json?address=%D0%91%D0%9E%D0%93%D0%9E%D0%AF%D0%92%D0%9B%D0%95%D0%9D%D0%A1%D0%9A%D0%90%D0%AF"
       ]
      },
      {
       "output_type": "stream",
       "stream": "stdout",
       "text": [
        "\n",
        "\u0411\u041e\u0413\u041e\u042f\u0412\u041b\u0415\u041d\u0421\u041a\u0410\u042f: ploshchad' Bogoyavlenskaya, Oryol, Oryol Oblast, Russia, 302001\n",
        "http://maps.googleapis.com/maps/api/geocode/json?address=%D0%91%D0%9E%D0%99%D0%9D%D0%AF"
       ]
      },
      {
       "output_type": "stream",
       "stream": "stdout",
       "text": [
        "\n",
        "\u0411\u041e\u0419\u041d\u042f: ulitsa Boynya, Moscow, Russia, 109029\n",
        "http://maps.googleapis.com/maps/api/geocode/json?address=%D0%91%D0%9E%D0%A0%D0%90"
       ]
      },
      {
       "output_type": "stream",
       "stream": "stdout",
       "text": [
        "\n",
        "\u0411\u041e\u0420\u0410: Bor, Nizhny Novgorod Oblast, Russia\n",
        "http://maps.googleapis.com/maps/api/geocode/json?address=%D0%91%D0%9E%D0%A0%D0%97%D0%9D%D0%90\n",
        "\u0411\u041e\u0420\u0417\u041d\u0410 not found\n",
        "http://maps.googleapis.com/maps/api/geocode/json?address=%D0%91%D0%9E%D0%A0%D0%98%D0%A1%D0%9E%D0%92%D0%AA"
       ]
      },
      {
       "output_type": "stream",
       "stream": "stdout",
       "text": [
        "\n",
        "\u0411\u041e\u0420\u0418\u0421\u041e\u0412\u042a not found\n",
        "http://maps.googleapis.com/maps/api/geocode/json?address=%D0%91%D0%9E%D0%A0%D0%98%D0%A1%D0%9E%D0%93%D0%9B%D1%A2%D0%91%D0%A1%D0%9A%D0%AA\n",
        "\u0411\u041e\u0420\u0418\u0421\u041e\u0413\u041b\u0462\u0411\u0421\u041a\u042a not found\n",
        "http://maps.googleapis.com/maps/api/geocode/json?address=%D0%91%D0%9E%D0%A0%D0%98%D0%A1%D0%9E%D0%93%D0%9B%D1%A2%D0%91%D0%A1%D0%9A%D0%AA"
       ]
      },
      {
       "output_type": "stream",
       "stream": "stdout",
       "text": [
        "\n",
        "\u0411\u041e\u0420\u0418\u0421\u041e\u0413\u041b\u0462\u0411\u0421\u041a\u042a not found\n",
        "http://maps.googleapis.com/maps/api/geocode/json?address=%D0%91%D0%9E%D0%A0%D0%98%D0%A1%D0%9E%D0%93%D0%9B%D1%A2%D0%91%D0%A1%D0%9A%D0%9E%D0%99\n",
        "\u0411\u041e\u0420\u0418\u0421\u041e\u0413\u041b\u0462\u0411\u0421\u041a\u041e\u0419 not found\n",
        "http://maps.googleapis.com/maps/api/geocode/json?address=%D0%91%D0%9E%D0%A0%D0%98%D0%A1%D0%9F%D0%9E%D0%9B%D0%AC"
       ]
      },
      {
       "output_type": "stream",
       "stream": "stdout",
       "text": [
        "\n",
        "\u0411\u041e\u0420\u0418\u0421\u041f\u041e\u041b\u042c not found\n",
        "http://maps.googleapis.com/maps/api/geocode/json?address=%D0%91%D0%9E%D0%A0%D0%9E%D0%92%D0%95%D0%9D%D0%9A%D0%98\n",
        "\u0411\u041e\u0420\u041e\u0412\u0415\u041d\u041a\u0418 not found\n",
        "http://maps.googleapis.com/maps/api/geocode/json?address=%D0%91%D0%9E%D0%A0%D0%9E%D0%92%D0%98%D0%A7%D0%98"
       ]
      },
      {
       "output_type": "stream",
       "stream": "stdout",
       "text": [
        "\n",
        "\u0411\u041e\u0420\u041e\u0412\u0418\u0427\u0418 not found\n",
        "http://maps.googleapis.com/maps/api/geocode/json?address=%D0%91%D0%9E%D0%A0%D0%9E%D0%92%D0%A1%D0%9A%D0%AA\n",
        "\u0411\u041e\u0420\u041e\u0412\u0421\u041a\u042a not found\n",
        "http://maps.googleapis.com/maps/api/geocode/json?address=%D0%91%D0%9E%D0%A0%D0%9E%D0%9C%D0%94%D0%AF"
       ]
      },
      {
       "output_type": "stream",
       "stream": "stdout",
       "text": [
        "\n",
        "\u0411\u041e\u0420\u041e\u041c\u0414\u042f not found\n",
        "http://maps.googleapis.com/maps/api/geocode/json?address=%D0%91%D0%9E%D0%A0%D0%AF%D0%A2%D0%98%D0%9D%D0%9E\n",
        "\u0411\u041e\u0420\u042f\u0422\u0418\u041d\u041e not found\n",
        "http://maps.googleapis.com/maps/api/geocode/json?address=%D0%91%D0%A0%D0%9E%D0%9D%D0%9D%D0%98%D0%A6%D0%AB"
       ]
      },
      {
       "output_type": "stream",
       "stream": "stdout",
       "text": [
        "\n",
        "\u0411\u0420\u041e\u041d\u041d\u0418\u0426\u042b not found\n",
        "http://maps.googleapis.com/maps/api/geocode/json?address=%D0%91%D0%A0%D0%9E%D0%9D%D0%9D%D0%98%D0%A6%D0%AB\n",
        "\u0411\u0420\u041e\u041d\u041d\u0418\u0426\u042b not found\n",
        "http://maps.googleapis.com/maps/api/geocode/json?address=%D0%91%D0%A0%D0%AF%D0%9D%D0%A1%D0%9A%D0%AA"
       ]
      },
      {
       "output_type": "stream",
       "stream": "stdout",
       "text": [
        "\n",
        "\u0411\u0420\u042f\u041d\u0421\u041a\u042a not found\n",
        "http://maps.googleapis.com/maps/api/geocode/json?address=%D0%91%D0%A3%D0%94%D0%98%D0%A7%D0%AC\n",
        "\u0411\u0423\u0414\u0418\u0427\u042c not found\n",
        "http://maps.googleapis.com/maps/api/geocode/json?address=%D0%91%D0%A3%D0%A0%D0%95%D0%A6%D0%9A%D0%9E%D0%99"
       ]
      },
      {
       "output_type": "stream",
       "stream": "stdout",
       "text": [
        "\n",
        "\u0411\u0423\u0420\u0415\u0426\u041a\u041e\u0419 not found\n",
        "http://maps.googleapis.com/maps/api/geocode/json?address=%D0%91%D0%A3%D0%A0%D0%9E%D0%9C%D0%9A%D0%90\n",
        "\u0411\u0423\u0420\u041e\u041c\u041a\u0410 not found\n",
        "http://maps.googleapis.com/maps/api/geocode/json?address=%D0%91%D0%A3%D0%A7%D0%90%D0%9B%D0%9A%D0%98"
       ]
      },
      {
       "output_type": "stream",
       "stream": "stdout",
       "text": [
        "\n",
        "\u0411\u0423\u0427\u0410\u041b\u041a\u0418 not found\n",
        "http://maps.googleapis.com/maps/api/geocode/json?address=%D0%91%D0%A3%D0%A8%D0%9D%D0%A0%D0%92%D0%9E\n",
        "\u0411\u0423\u0428\u041d\u0420\u0412\u041e not found\n",
        "http://maps.googleapis.com/maps/api/geocode/json?address=%D0%91%D0%AB%D0%9A%D0%9E%D0%92%D0%AA"
       ]
      },
      {
       "output_type": "stream",
       "stream": "stdout",
       "text": [
        "\n",
        "\u0411\u042b\u041a\u041e\u0412\u042a not found\n",
        "http://maps.googleapis.com/maps/api/geocode/json?address=%D0%91%D1%A2%D0%96%D0%95%D0%A6%D0%9A%D0%AA"
       ]
      },
      {
       "output_type": "stream",
       "stream": "stdout",
       "text": [
        "\n",
        "\u0411\u0462\u0416\u0415\u0426\u041a\u042a not found\n",
        "http://maps.googleapis.com/maps/api/geocode/json?address=%D0%91%D1%A2%D0%9B%D0%90%D0%AF%20%D0%9A%D0%9E%D0%9B%D0%9F%D0%AC"
       ]
      },
      {
       "output_type": "stream",
       "stream": "stdout",
       "text": [
        "\n",
        "\u0411\u0462\u041b\u0410\u042f \u041a\u041e\u041b\u041f\u042c not found\n",
        "http://maps.googleapis.com/maps/api/geocode/json?address=%D0%91%D1%A2%D0%9B%D0%98%D0%9A%D0%98"
       ]
      },
      {
       "output_type": "stream",
       "stream": "stdout",
       "text": [
        "\n",
        "\u0411\u0462\u041b\u0418\u041a\u0418 not found\n",
        "http://maps.googleapis.com/maps/api/geocode/json?address=%D0%91%D1%A2%D0%9B%D0%9E%D0%95"
       ]
      },
      {
       "output_type": "stream",
       "stream": "stdout",
       "text": [
        "\n",
        "\u0411\u0462\u041b\u041e\u0415 not found\n",
        "http://maps.googleapis.com/maps/api/geocode/json?address=%D0%91%D1%A2%D0%9B%D0%9E%D0%97%D0%95%D0%A0%D0%A1%D0%9A%D0%9E%D0%99%20%D0%9A%D0%98%D0%A0%D0%98%D0%9B%D0%9E%D0%92%D0%AA"
       ]
      },
      {
       "output_type": "stream",
       "stream": "stdout",
       "text": [
        "\n",
        "\u0411\u0462\u041b\u041e\u0417\u0415\u0420\u0421\u041a\u041e\u0419 \u041a\u0418\u0420\u0418\u041b\u041e\u0412\u042a not found\n",
        "http://maps.googleapis.com/maps/api/geocode/json?address=%D0%91%D1%A2%D0%9B%D0%9E%D0%99"
       ]
      },
      {
       "output_type": "stream",
       "stream": "stdout",
       "text": [
        "\n",
        "\u0411\u0462\u041b\u041e\u0419 not found\n",
        "http://maps.googleapis.com/maps/api/geocode/json?address=%D0%91%D1%A2%D0%9B%D0%9E%D0%9A%D0%A3%D0%A0%D0%98%D0%9D%D0%90"
       ]
      },
      {
       "output_type": "stream",
       "stream": "stdout",
       "text": [
        "\n",
        "\u0411\u0462\u041b\u041e\u041a\u0423\u0420\u0418\u041d\u0410 not found\n",
        "http://maps.googleapis.com/maps/api/geocode/json?address=%D0%91%D1%A2%D0%9B%D0%9E%D0%9F%D0%9E%D0%9B%D0%AC%D0%95"
       ]
      },
      {
       "output_type": "stream",
       "stream": "stdout",
       "text": [
        "\n",
        "\u0411\u0462\u041b\u041e\u041f\u041e\u041b\u042c\u0415 not found\n",
        "http://maps.googleapis.com/maps/api/geocode/json?address=%D0%91%D1%A2%D0%9B%D0%9E%D0%A6%D0%95%D0%A0%D0%9A%D0%9E%D0%92%D0%9A%D0%90"
       ]
      },
      {
       "output_type": "stream",
       "stream": "stdout",
       "text": [
        "\n",
        "\u0411\u0462\u041b\u041e\u0426\u0415\u0420\u041a\u041e\u0412\u041a\u0410 not found\n",
        "http://maps.googleapis.com/maps/api/geocode/json?address=%D0%91%D1%A2%D0%9B%D0%AB%D0%9D%D0%98%D0%A7%D0%98"
       ]
      },
      {
       "output_type": "stream",
       "stream": "stdout",
       "text": [
        "\n",
        "\u0411\u0462\u041b\u042b\u041d\u0418\u0427\u0418 not found\n",
        "http://maps.googleapis.com/maps/api/geocode/json?address=%D0%92%D0%90%D0%9B%D0%94%D0%90%D0%99"
       ]
      },
      {
       "output_type": "stream",
       "stream": "stdout",
       "text": [
        "\n",
        "\u0412\u0410\u041b\u0414\u0410\u0419: Valday, Novgorod Oblast, Novgorod Oblast, Russia\n",
        "http://maps.googleapis.com/maps/api/geocode/json?address=%D0%92%D0%90%D0%9B%D0%9A%D0%98\n",
        "\u0412\u0410\u041b\u041a\u0418 not found\n",
        "http://maps.googleapis.com/maps/api/geocode/json?address=%D0%92%D0%90%D0%9B%D0%A3%D0%99%D0%9A%D0%98"
       ]
      },
      {
       "output_type": "stream",
       "stream": "stdout",
       "text": [
        "\n",
        "\u0412\u0410\u041b\u0423\u0419\u041a\u0418 not found\n",
        "http://maps.googleapis.com/maps/api/geocode/json?address=%D0%92%D0%90%D0%A0%D0%92%D0%90\n",
        "\u0412\u0410\u0420\u0412\u0410 not found\n",
        "http://maps.googleapis.com/maps/api/geocode/json?address=%D0%91%D0%90%D0%A0%D0%9A%D0%9E%D0%92%D0%AA"
       ]
      },
      {
       "output_type": "stream",
       "stream": "stdout",
       "text": [
        "\n",
        "\u0411\u0410\u0420\u041a\u041e\u0412\u042a not found\n",
        "http://maps.googleapis.com/maps/api/geocode/json?address=%D0%92%D0%90%D0%A8%D0%9A%D0%90\n",
        "\u0412\u0410\u0428\u041a\u0410 not found\n",
        "http://maps.googleapis.com/maps/api/geocode/json?address=%D0%92%D0%95%D0%99%D0%94%D0%95%D0%9B%D0%95%D0%92%D0%9A%D0%90"
       ]
      },
      {
       "output_type": "stream",
       "stream": "stdout",
       "text": [
        "\n",
        "\u0412\u0415\u0419\u0414\u0415\u041b\u0415\u0412\u041a\u0410 not found\n",
        "http://maps.googleapis.com/maps/api/geocode/json?address=%D0%92%D0%95%D0%9B%D0%98%D0%96%D0%AA\n",
        "\u0412\u0415\u041b\u0418\u0416\u042a not found\n",
        "http://maps.googleapis.com/maps/api/geocode/json?address=%D0%92%D0%95%D0%9B%D0%98%D0%9A%D0%9E%D0%95"
       ]
      },
      {
       "output_type": "stream",
       "stream": "stdout",
       "text": [
        "\n",
        "\u0412\u0415\u041b\u0418\u041a\u041e\u0415 not found\n",
        "http://maps.googleapis.com/maps/api/geocode/json?address=%D0%92%D0%95%D0%9D%D0%94%D0%95%D0%9D%D0%AA\n",
        "\u0412\u0415\u041d\u0414\u0415\u041d\u042a not found\n",
        "http://maps.googleapis.com/maps/api/geocode/json?address=%D0%92%D0%95%D0%9D%D0%95%D0%92%D0%AA"
       ]
      },
      {
       "output_type": "stream",
       "stream": "stdout",
       "text": [
        "\n",
        "\u0412\u0415\u041d\u0415\u0412\u042a not found\n",
        "http://maps.googleapis.com/maps/api/geocode/json?address=%D0%92%D0%95%D0%9D%D0%95%D0%92%D0%A1%D0%9A%D0%9E%D0%99%20%D0%9D%D0%98%D0%9A%D0%9E%D0%9B%D0%90%D0%95%D0%92%D0%A1%D0%9A%D0%9E%D0%99\n",
        "\u0412\u0415\u041d\u0415\u0412\u0421\u041a\u041e\u0419 \u041d\u0418\u041a\u041e\u041b\u0410\u0415\u0412\u0421\u041a\u041e\u0419 not found\n",
        "http://maps.googleapis.com/maps/api/geocode/json?address=%D0%92%D0%95%D0%9F%D0%A0%D0%98%D0%9A%D0%AA"
       ]
      },
      {
       "output_type": "stream",
       "stream": "stdout",
       "text": [
        "\n",
        "\u0412\u0415\u041f\u0420\u0418\u041a\u042a not found\n",
        "http://maps.googleapis.com/maps/api/geocode/json?address=%D0%92%D0%95%D0%A0%D0%95%D0%AF\n",
        "\u0412\u0415\u0420\u0415\u042f not found\n",
        "http://maps.googleapis.com/maps/api/geocode/json?address=%D0%92%D0%95%D0%A0%D0%A5%D0%9D%D0%86%D0%99%20%D0%A3%D0%94%D0%98%D0%9D%D0%A1%D0%9A%D0%AA"
       ]
      },
      {
       "output_type": "stream",
       "stream": "stdout",
       "text": [
        "\n",
        "\u0412\u0415\u0420\u0425\u041d\u0406\u0419 \u0423\u0414\u0418\u041d\u0421\u041a\u042a not found\n",
        "http://maps.googleapis.com/maps/api/geocode/json?address=%D0%92%D0%95%D0%A0%D0%A5%D0%9E%D0%92%D0%90%D0%96%D0%A1%D0%9A%D0%9E%D0%99\n",
        "\u0412\u0415\u0420\u0425\u041e\u0412\u0410\u0416\u0421\u041a\u041e\u0419 not found\n",
        "http://maps.googleapis.com/maps/api/geocode/json?address=%D0%92%D0%95%D0%A1%D0%86%D0%95%D0%93%D0%9E%D0%9D%D0%A1%D0%9A%D0%AA"
       ]
      },
      {
       "output_type": "stream",
       "stream": "stdout",
       "text": [
        "\n",
        "\u0412\u0415\u0421\u0406\u0415\u0413\u041e\u041d\u0421\u041a\u042a not found\n",
        "http://maps.googleapis.com/maps/api/geocode/json?address=%D0%92%D0%98%D0%9B%D0%AC%D0%9C%D0%90%D0%9D%D0%A1%D0%A2%D0%A0%D0%90%D0%9D%D0%94%D0%AA\n",
        "\u0412\u0418\u041b\u042c\u041c\u0410\u041d\u0421\u0422\u0420\u0410\u041d\u0414\u042a not found\n",
        "http://maps.googleapis.com/maps/api/geocode/json?address=%D0%92%D0%98%D0%9B%D0%AE%D0%99%D0%A1%D0%9A%D0%9E%D0%95%20%D0%92%D0%95%D0%A0%D0%A5%D0%9D%D0%95%D0%95"
       ]
      },
      {
       "output_type": "stream",
       "stream": "stdout",
       "text": [
        "\n",
        "\u0412\u0418\u041b\u042e\u0419\u0421\u041a\u041e\u0415 \u0412\u0415\u0420\u0425\u041d\u0415\u0415 not found\n",
        "http://maps.googleapis.com/maps/api/geocode/json?address=%D0%92%D0%9E%D0%95%D0%92%D0%9E%D0%94%D0%A1%D0%9A%D0%9E%D0%95\n",
        "\u0412\u041e\u0415\u0412\u041e\u0414\u0421\u041a\u041e\u0415 not found\n",
        "http://maps.googleapis.com/maps/api/geocode/json?address=%D0%92%D0%9E%D0%97%D0%9D%D0%95%D0%A1%D0%95%D0%9D%D0%A1%D0%9A%D0%9E%D0%99"
       ]
      },
      {
       "output_type": "stream",
       "stream": "stdout",
       "text": [
        "\n",
        "\u0412\u041e\u0417\u041d\u0415\u0421\u0415\u041d\u0421\u041a\u041e\u0419 not found\n",
        "http://maps.googleapis.com/maps/api/geocode/json?address=%D0%92%D0%9E%D0%9B%D0%9C%D0%90%D0%A0%D0%AA\n",
        "\u0412\u041e\u041b\u041c\u0410\u0420\u042a not found\n",
        "http://maps.googleapis.com/maps/api/geocode/json?address=%D0%92%D0%9E%D0%9B%D0%9E%D0%94%D0%98%D0%9C%D0%95%D0%A0%D0%95%D0%A6%D0%AA"
       ]
      },
      {
       "output_type": "stream",
       "stream": "stdout",
       "text": [
        "\n",
        "\u0412\u041e\u041b\u041e\u0414\u0418\u041c\u0415\u0420\u0415\u0426\u042a not found\n",
        "http://maps.googleapis.com/maps/api/geocode/json?address=%D0%92%D0%9E%D0%9B%D0%9E%D0%9A%D0%9E%D0%9B%D0%90%D0%9C%D0%A1%D0%9A%D0%AA\n",
        "\u0412\u041e\u041b\u041e\u041a\u041e\u041b\u0410\u041c\u0421\u041a\u042a not found\n",
        "http://maps.googleapis.com/maps/api/geocode/json?address=%D0%92%D0%9E%D0%9B%D0%9E%D0%9A%D0%9E%D0%9F%D0%98%D0%9D%D0%95%D0%96%D0%A1%D0%9A%D0%90%D0%AF"
       ]
      },
      {
       "output_type": "stream",
       "stream": "stdout",
       "text": [
        "\n",
        "\u0412\u041e\u041b\u041e\u041a\u041e\u041f\u0418\u041d\u0415\u0416\u0421\u041a\u0410\u042f not found\n",
        "http://maps.googleapis.com/maps/api/geocode/json?address=%D0%92%D0%9E%D0%9B%D0%A1%D0%9A%D0%AA\n",
        "\u0412\u041e\u041b\u0421\u041a\u042a not found\n",
        "http://maps.googleapis.com/maps/api/geocode/json?address=%D0%92%D0%9E%D0%9B%D0%A7%D0%AC%D0%AF"
       ]
      },
      {
       "output_type": "stream",
       "stream": "stdout",
       "text": [
        "\n",
        "\u0412\u041e\u041b\u0427\u042c\u042f not found\n",
        "http://maps.googleapis.com/maps/api/geocode/json?address=%D0%92%D0%9E%D0%9B%D0%AB%D0%9D%D0%A6%D0%AB"
       ]
      },
      {
       "output_type": "stream",
       "stream": "stdout",
       "text": [
        "\n",
        "\u0412\u041e\u041b\u042b\u041d\u0426\u042b: Volyntsy, Nizhny Novgorod Oblast, Russia, 606860\n",
        "http://maps.googleapis.com/maps/api/geocode/json?address=%D0%92%D0%9E%D0%9B%D0%AC%D0%9D%D0%90%D0%AF"
       ]
      },
      {
       "output_type": "stream",
       "stream": "stdout",
       "text": [
        "\n",
        "\u0412\u041e\u041b\u042c\u041d\u0410\u042f: Volnaya ulitsa, Moscow, Russia\n",
        "http://maps.googleapis.com/maps/api/geocode/json?address=%D0%92%D0%9E%D0%A1%D0%9A%D0%A0%D0%95%D0%A1%D0%95%D0%9D%D0%A1%D0%9A%D0%AA"
       ]
      },
      {
       "output_type": "stream",
       "stream": "stdout",
       "text": [
        "\n",
        "\u0412\u041e\u0421\u041a\u0420\u0415\u0421\u0415\u041d\u0421\u041a\u042a not found\n",
        "http://maps.googleapis.com/maps/api/geocode/json?address=%D0%95%D0%A0%D0%95%D0%92%D0%AA"
       ]
      },
      {
       "output_type": "stream",
       "stream": "stdout",
       "text": [
        "\n",
        "\u0415\u0420\u0415\u0412\u042a not found\n",
        "http://maps.googleapis.com/maps/api/geocode/json?address=%D0%92%D0%AB%D0%91%D0%9E%D0%A0%D0%AA"
       ]
      },
      {
       "output_type": "stream",
       "stream": "stdout",
       "text": [
        "\n",
        "\u0412\u042b\u0411\u041e\u0420\u042a not found\n",
        "http://maps.googleapis.com/maps/api/geocode/json?address=%D0%92%D0%AB%D0%91%D0%9E%D0%A0%D0%93%D0%AA"
       ]
      },
      {
       "output_type": "stream",
       "stream": "stdout",
       "text": [
        "\n",
        "\u0412\u042b\u0411\u041e\u0420\u0413\u042a: Vyborg, Leningrad Oblast, Russia\n",
        "http://maps.googleapis.com/maps/api/geocode/json?address=%D0%92%D0%9E%D0%A0%D0%9E%D0%9D%D0%95%D0%96%D0%AA"
       ]
      },
      {
       "output_type": "stream",
       "stream": "stdout",
       "text": [
        "\n",
        "\u0412\u041e\u0420\u041e\u041d\u0415\u0416\u042a: Voronezh, Voronezh Oblast, Russia\n",
        "http://maps.googleapis.com/maps/api/geocode/json?address=%D0%92%D0%9E%D0%A0%D0%9E%D0%9D%D0%95%D0%96%D0%AA"
       ]
      },
      {
       "output_type": "stream",
       "stream": "stdout",
       "text": [
        "\n",
        "\u0412\u041e\u0420\u041e\u041d\u0415\u0416\u042a: Voronezh, Voronezh Oblast, Russia\n",
        "http://maps.googleapis.com/maps/api/geocode/json?address=%D0%92%D0%9E%D0%A0%D0%9E%D0%9D%D0%9A%D0%9E%D0%92%D0%AA"
       ]
      },
      {
       "output_type": "stream",
       "stream": "stdout",
       "text": [
        "\n",
        "\u0412\u041e\u0420\u041e\u041d\u041a\u041e\u0412\u042a: Voron'kiv, Kyivs'ka oblast, Ukraine\n",
        "http://maps.googleapis.com/maps/api/geocode/json?address=%D0%92%D0%9E%D0%A0%D0%9E%D0%9D%D0%A6%D0%9E%D0%92%D0%9A%D0%90"
       ]
      },
      {
       "output_type": "stream",
       "stream": "stdout",
       "text": [
        "\n",
        "\u0412\u041e\u0420\u041e\u041d\u0426\u041e\u0412\u041a\u0410: Vorontsovka, Saratov Oblast, Russia, 412122\n",
        "http://maps.googleapis.com/maps/api/geocode/json?address=%D0%92%D0%AB%D0%A1%D0%9E%D0%9A%D0%9E%D0%95\n",
        "\u0412\u042b\u0421\u041e\u041a\u041e\u0415 not found\n",
        "http://maps.googleapis.com/maps/api/geocode/json?address=%D0%92%D0%AB%D0%A1%D0%9E%D0%9A%D0%9E%D0%95"
       ]
      },
      {
       "output_type": "stream",
       "stream": "stdout",
       "text": [
        "\n",
        "\u0412\u042b\u0421\u041e\u041a\u041e\u0415 not found\n",
        "http://maps.googleapis.com/maps/api/geocode/json?address=%D0%92%D0%AB%D0%A2%D0%95%D0%93%D0%A0%D0%90\n",
        "\u0412\u042b\u0422\u0415\u0413\u0420\u0410 not found\n",
        "http://maps.googleapis.com/maps/api/geocode/json?address=%D0%92%D0%AC%D0%86%D0%A7%D0%A3%D0%93%D0%90"
       ]
      },
      {
       "output_type": "stream",
       "stream": "stdout",
       "text": [
        "\n",
        "\u0412\u042c\u0406\u0427\u0423\u0413\u0410 not found\n",
        "http://maps.googleapis.com/maps/api/geocode/json?address=%D0%92%D0%AB%D0%A8%D0%93%D0%9E%D0%A0%D0%9E%D0%94%D0%AA\n",
        "\u0412\u042b\u0428\u0413\u041e\u0420\u041e\u0414\u042a not found\n",
        "http://maps.googleapis.com/maps/api/geocode/json?address=%D0%92%D0%AB%D0%A8%D0%93%D0%9E%D0%A0%D0%9E%D0%94%D0%AA"
       ]
      },
      {
       "output_type": "stream",
       "stream": "stdout",
       "text": [
        "\n",
        "\u0412\u042b\u0428\u0413\u041e\u0420\u041e\u0414\u042a not found\n",
        "http://maps.googleapis.com/maps/api/geocode/json?address=%D0%92%D0%AB%D0%A8%D0%9D%D0%86%D0%99%20%D0%92%D0%9E%D0%9B%D0%9E%D0%A7%D0%9E%D0%9A%D0%AA\n",
        "\u0412\u042b\u0428\u041d\u0406\u0419 \u0412\u041e\u041b\u041e\u0427\u041e\u041a\u042a not found\n",
        "http://maps.googleapis.com/maps/api/geocode/json?address=%D0%92%D1%A2%D0%A2%D0%9A%D0%90"
       ]
      },
      {
       "output_type": "stream",
       "stream": "stdout",
       "text": [
        "\n",
        "\u0412\u0462\u0422\u041a\u0410 not found\n",
        "http://maps.googleapis.com/maps/api/geocode/json?address=%D0%92%D1%A2%D0%A2%D0%9A%D0%90\n",
        "\u0412\u0462\u0422\u041a\u0410 not found\n",
        "http://maps.googleapis.com/maps/api/geocode/json?address=%D0%92%D0%AF%D0%97%D0%9D%D0%98%D0%9A%D0%98"
       ]
      },
      {
       "output_type": "stream",
       "stream": "stdout",
       "text": [
        "\n",
        "\u0412\u042f\u0417\u041d\u0418\u041a\u0418 not found\n",
        "http://maps.googleapis.com/maps/api/geocode/json?address=%D0%92%D0%AF%D0%97%D0%9E%D0%92%D0%9D%D0%90\n",
        "\u0412\u042f\u0417\u041e\u0412\u041d\u0410 not found\n",
        "http://maps.googleapis.com/maps/api/geocode/json?address=%D0%90%D0%91%D0%97%D0%90%D0%9B%D0%AC"
       ]
      },
      {
       "output_type": "stream",
       "stream": "stdout",
       "text": [
        "\n",
        "\u0410\u0411\u0417\u0410\u041b\u042c not found\n",
        "http://maps.googleapis.com/maps/api/geocode/json?address=%D0%93%D0%90%D0%92%D0%A0%D0%98%D0%9B%D0%9E%D0%92%D0%90\n",
        "\u0413\u0410\u0412\u0420\u0418\u041b\u041e\u0412\u0410 not found\n",
        "http://maps.googleapis.com/maps/api/geocode/json?address=%D0%93%D0%90%D0%93%D0%90%D0%A0%D0%98%D0%9D%D0%9E"
       ]
      },
      {
       "output_type": "stream",
       "stream": "stdout",
       "text": [
        "\n",
        "\u0413\u0410\u0413\u0410\u0420\u0418\u041d\u041e not found\n",
        "http://maps.googleapis.com/maps/api/geocode/json?address=%D0%93%D0%90%D0%94%D0%AF%D0%A7%D0%AC\n",
        "\u0413\u0410\u0414\u042f\u0427\u042c not found\n",
        "http://maps.googleapis.com/maps/api/geocode/json?address=%D0%93%D0%90%D0%9B%D0%AF%D0%9D%D0%98"
       ]
      },
      {
       "output_type": "stream",
       "stream": "stdout",
       "text": [
        "\n",
        "\u0413\u0410\u041b\u042f\u041d\u0418 not found\n",
        "http://maps.googleapis.com/maps/api/geocode/json?address=%D0%93%D0%90%D0%A2%D0%9D%D0%98%D0%A6%D0%AB\n",
        "\u0413\u0410\u0422\u041d\u0418\u0426\u042b not found\n",
        "http://maps.googleapis.com/maps/api/geocode/json?address=%D0%93%D0%94%D0%9E%D0%92%D0%AA"
       ]
      },
      {
       "output_type": "stream",
       "stream": "stdout",
       "text": [
        "\n",
        "\u0413\u0414\u041e\u0412\u042a not found\n",
        "http://maps.googleapis.com/maps/api/geocode/json?address=%D0%93%D0%95%D0%9D%D0%9D%D0%90%D0%94%D0%86%D0%95%D0%92%D0%AA\n",
        "\u0413\u0415\u041d\u041d\u0410\u0414\u0406\u0415\u0412\u042a not found\n",
        "http://maps.googleapis.com/maps/api/geocode/json?address=%D0%93%D0%95%D0%A0%D0%9C%D0%90%D0%9D%D0%9E%D0%92%D0%90"
       ]
      },
      {
       "output_type": "stream",
       "stream": "stdout",
       "text": [
        "\n",
        "\u0413\u0415\u0420\u041c\u0410\u041d\u041e\u0412\u0410: ulitsa Germanova, Staroshcherbinovskaya, Krasnodar Krai, Russia, 353620\n",
        "http://maps.googleapis.com/maps/api/geocode/json?address=%D0%93%D0%96%D0%90%D0%A2%D0%AC"
       ]
      },
      {
       "output_type": "stream",
       "stream": "stdout",
       "text": [
        "\n",
        "\u0413\u0416\u0410\u0422\u042c: Gzhat River, Smolensk Oblast, Russia\n",
        "http://maps.googleapis.com/maps/api/geocode/json?address=%D0%93%D0%9B%D0%95%D0%9C%D0%AF%D0%97%D0%9E%D0%92%D0%AA"
       ]
      },
      {
       "output_type": "stream",
       "stream": "stdout",
       "text": [
        "\n",
        "\u0413\u041b\u0415\u041c\u042f\u0417\u041e\u0412\u042a not found\n",
        "http://maps.googleapis.com/maps/api/geocode/json?address=%D0%93%D0%9B%D0%98%D0%9D%D0%A1%D0%9A%D0%AA"
       ]
      },
      {
       "output_type": "stream",
       "stream": "stdout",
       "text": [
        "\n",
        "\u0413\u041b\u0418\u041d\u0421\u041a\u042a not found\n",
        "http://maps.googleapis.com/maps/api/geocode/json?address=%D0%93%D0%9B%D0%98%D0%9D%D0%A1%D0%9A%D0%AA"
       ]
      },
      {
       "output_type": "stream",
       "stream": "stdout",
       "text": [
        "\n",
        "\u0413\u041b\u0418\u041d\u0421\u041a\u042a not found\n",
        "http://maps.googleapis.com/maps/api/geocode/json?address=%D0%93%D0%9B%D0%A3%D0%A5%D0%9E%D0%92%D0%AA"
       ]
      },
      {
       "output_type": "stream",
       "stream": "stdout",
       "text": [
        "\n",
        "\u0413\u041b\u0423\u0425\u041e\u0412\u042a: Hlukhiv, Sums'ka oblast, Ukraine\n",
        "37 out of  150 found\n"
       ]
      }
     ],
     "prompt_number": 27
    },
    {
     "cell_type": "markdown",
     "metadata": {},
     "source": [
      "Geonames work"
     ]
    },
    {
     "cell_type": "code",
     "collapsed": false,
     "input": [
      "test = requests.get(\"http://api.geonames.org/search?name=%D0%92%D0%90%D0%A8%D0%9A%D0%90&username=jaguillette&type=json\")\n",
      "print(test.json())"
     ],
     "language": "python",
     "metadata": {},
     "outputs": [
      {
       "output_type": "stream",
       "stream": "stdout",
       "text": [
        "{u'totalResultsCount': 6, u'geonames': [{u'fcode': u'PPL', u'countryId': u'2017370', u'name': u'Vashka', u'countryCode': u'RU', u'geonameId': 476846, u'toponymName': u'Vashka', u'fclName': u'city, village,...', u'fcodeName': u'populated place', u'countryName': u'Russia', u'lat': u'56.88609', u'lng': u'39.09981', u'population': 0, u'fcl': u'P', u'adminCode1': u'88', u'adminName1': u'Jaroslavl'}, {u'fcode': u'LK', u'countryId': u'6697173', u'name': u'Vashka, Lake', u'countryCode': u'AQ', u'geonameId': 6627390, u'toponymName': u'Vashka, Lake', u'fclName': u'stream, lake, ...', u'countryName': u'Antarctica', u'lat': u'-77.35', u'lng': u'161.18333', u'population': 0, u'fcl': u'H', u'fcodeName': u'lake', u'adminName1': u''}, {u'fcode': u'HLL', u'countryId': u'6697173', u'name': u'Vashka Crag', u'countryCode': u'AQ', u'geonameId': 6627388, u'toponymName': u'Vashka Crag', u'fclName': u'mountain,hill,rock,... ', u'countryName': u'Antarctica', u'lat': u'-77.31667', u'lng': u'161.05', u'population': 0, u'fcl': u'T', u'fcodeName': u'hill', u'adminName1': u''}, {u'fcode': u'STM', u'countryId': u'2017370', u'name': u'Vashka', u'countryCode': u'RU', u'geonameId': 476847, u'toponymName': u'Vashka', u'fclName': u'stream, lake, ...', u'fcodeName': u'stream', u'countryName': u'Russia', u'lat': u'64.91166', u'lng': u'45.6999', u'population': 0, u'fcl': u'H', u'adminCode1': u'00', u'adminName1': u''}, {u'fcode': u'PPL', u'countryId': u'2017370', u'name': u'Melospol\\u2019ye', u'countryCode': u'RU', u'geonameId': 527624, u'toponymName': u'Melospol\\u2019ye', u'fclName': u'city, village,...', u'fcodeName': u'populated place', u'countryName': u'Russia', u'lat': u'64.8827', u'lng': u'45.7464', u'population': 0, u'fcl': u'P', u'adminCode1': u'06', u'adminName1': u'Arkhangelskaya'}, {u'fcode': u'LDNG', u'countryId': u'2017370', u'name': u'Pristan\\u2019 Ust\\u2019-Vashka', u'countryCode': u'RU', u'geonameId': 8253931, u'toponymName': u'Pristan\\u2019 Ust\\u2019-Vashka', u'fclName': u'spot, building, farm', u'fcodeName': u'landing', u'countryName': u'Russia', u'lat': u'64.9052', u'lng': u'45.7911', u'population': 0, u'fcl': u'S', u'adminCode1': u'06', u'adminName1': u'Arkhangelskaya'}]}\n"
       ]
      }
     ],
     "prompt_number": 23
    },
    {
     "cell_type": "code",
     "collapsed": false,
     "input": [
      "count = 0\n",
      "for place in placenames:\n",
      "    url = 'http://api.geonames.org/search?username=jaguillette&type=json&name={}'.format(place)\n",
      "    R = requests.get(url)\n",
      "    this_json = R.json()\n",
      "    #print(R.url)\n",
      "    try:\n",
      "        print(\"{0}: {1}\".format(place,this_json['geonames'][0]['name']))\n",
      "        count+=1\n",
      "    except IndexError:\n",
      "        print(\"{} not found\".format(place))\n",
      "    except UnicodeEncodeError:\n",
      "        print(\"{} was found, name is unicode\".format(place))\n",
      "        count+=1\n",
      "print(\"{} out of  {} found\".format(count,len(placenames)))"
     ],
     "language": "python",
     "metadata": {},
     "outputs": [
      {
       "output_type": "stream",
       "stream": "stdout",
       "text": [
        "\u0410\u0412\u0414\u0423\u041b\u041e\u0412\u041e: Avdulovo\n",
        "\u0410\u0412\u0416\u0415\u041d\u0421\u041a\u0410\u042f not found"
       ]
      },
      {
       "output_type": "stream",
       "stream": "stdout",
       "text": [
        "\n",
        "\u0410\u0414\u041e\u0412\u0410\u0422\u041e\u0412\u041e not found"
       ]
      },
      {
       "output_type": "stream",
       "stream": "stdout",
       "text": [
        "\n",
        "\u0410\u041a\u0421\u0415\u041b\u042c: Aksel"
       ]
      },
      {
       "output_type": "stream",
       "stream": "stdout",
       "text": [
        "\n",
        "\u0410\u041b\u0410\u0422\u042b\u0420\u042c: Alatyr'"
       ]
      },
      {
       "output_type": "stream",
       "stream": "stdout",
       "text": [
        "\n",
        "\u0410\u041b\u0415\u041a\u0421\u0410\u041d\u0414\u0420\u041e\u0412\u0410 \u041f\u0423\u0421\u0422\u042b\u041d\u042f not found"
       ]
      },
      {
       "output_type": "stream",
       "stream": "stdout",
       "text": [
        "\n",
        "\u0410\u041b\u0415\u041a\u0421\u0410\u041d\u0414\u0420\u041e\u0412\u0421\u041a\u041e\u0415: Aleksandrovskoye"
       ]
      },
      {
       "output_type": "stream",
       "stream": "stdout",
       "text": [
        "\n",
        "\u0410\u041b\u0415\u041a\u0421\u0418\u041d\u042a not found"
       ]
      },
      {
       "output_type": "stream",
       "stream": "stdout",
       "text": [
        "\n",
        "\u0410\u041b\u0415\u041a\u0421\u0462\u0415\u0412\u041a\u0410 not found"
       ]
      },
      {
       "output_type": "stream",
       "stream": "stdout",
       "text": [
        "\n",
        "\u0410\u041b\u0415\u041a\u0421\u0462\u0415\u0412\u0421\u041a\u0410\u042f not found"
       ]
      },
      {
       "output_type": "stream",
       "stream": "stdout",
       "text": [
        "\n",
        "\u0410\u041b\u0415\u0428\u041d\u042f was found, name is unicode"
       ]
      },
      {
       "output_type": "stream",
       "stream": "stdout",
       "text": [
        "\n",
        "\u0410\u041d\u0410\u0415\u0412\u041e: Anayevo"
       ]
      },
      {
       "output_type": "stream",
       "stream": "stdout",
       "text": [
        "\n",
        "\u0410\u041d\u0414\u0420\u0415\u0415\u0412\u041a\u0410: Andreevka"
       ]
      },
      {
       "output_type": "stream",
       "stream": "stdout",
       "text": [
        "\n",
        "\u0410\u041d\u0422\u041e\u041d\u041e\u0412\u041a\u0410: Antonovka"
       ]
      },
      {
       "output_type": "stream",
       "stream": "stdout",
       "text": [
        "\n",
        "\u0410\u041f\u0418\u0427\u0415\u0420\u0421\u041a\u0410\u042f not found"
       ]
      },
      {
       "output_type": "stream",
       "stream": "stdout",
       "text": [
        "\n",
        "\u0410\u0420\u0413\u0410\u041c\u0410\u0427\u042c\u042f not found"
       ]
      },
      {
       "output_type": "stream",
       "stream": "stdout",
       "text": [
        "\n",
        "\u0410\u0420\u0417\u0410\u041c\u0410\u0421\u042a not found"
       ]
      },
      {
       "output_type": "stream",
       "stream": "stdout",
       "text": [
        "\n",
        "\u0410\u0420\u0422\u0415\u041c\u041e\u041d\u041e\u0412\u041a\u0410: Artimonovca"
       ]
      },
      {
       "output_type": "stream",
       "stream": "stdout",
       "text": [
        "\n",
        "\u0410\u0420\u0425\u0410\u041d\u0413\u0415\u041b\u042c\u0421\u041a\u042a not found"
       ]
      },
      {
       "output_type": "stream",
       "stream": "stdout",
       "text": [
        "\n",
        "\u0410\u0420\u0425\u0410\u041d\u0413\u0415\u041b\u042c\u0421\u041a\u041e\u0415: Arkhangel'skoye"
       ]
      },
      {
       "output_type": "stream",
       "stream": "stdout",
       "text": [
        "\n",
        "\u0410\u0421\u0410\u041a\u041e\u0412\u041e: Asakovo"
       ]
      },
      {
       "output_type": "stream",
       "stream": "stdout",
       "text": [
        "\n",
        "\u0410\u0421\u0422\u0420\u0410\u0425\u0410\u041d\u042c: Astrakhan"
       ]
      },
      {
       "output_type": "stream",
       "stream": "stdout",
       "text": [
        "\n",
        "\u0410\u0422\u0415\u041c\u0410\u0420\u042a not found"
       ]
      },
      {
       "output_type": "stream",
       "stream": "stdout",
       "text": [
        "\n",
        "\u0410\u0422\u041a\u0410\u0420\u0421\u041a\u042a not found"
       ]
      },
      {
       "output_type": "stream",
       "stream": "stdout",
       "text": [
        "\n",
        "\u0410\u0425\u0422\u042b\u0420\u041a\u0410: Akhtyrka"
       ]
      },
      {
       "output_type": "stream",
       "stream": "stdout",
       "text": [
        "\n",
        "\u0411\u0410\u0415\u0412\u041a\u0410: Bayevka"
       ]
      },
      {
       "output_type": "stream",
       "stream": "stdout",
       "text": [
        "\n",
        "\u0411\u0410\u041b\u0410\u041a\u041b\u0415\u0415\u0412\u042a not found"
       ]
      },
      {
       "output_type": "stream",
       "stream": "stdout",
       "text": [
        "\n",
        "\u0411\u0410\u041b\u0410\u0425\u041d\u0410: Balakhna"
       ]
      },
      {
       "output_type": "stream",
       "stream": "stdout",
       "text": [
        "\n",
        "\u0411\u0410\u0420\u042b\u0428\u0415\u0412\u041a\u0410: Baryshevka"
       ]
      },
      {
       "output_type": "stream",
       "stream": "stdout",
       "text": [
        "\n",
        "\u0411\u0410\u0421\u0410\u041d\u042c: Elbasan"
       ]
      },
      {
       "output_type": "stream",
       "stream": "stdout",
       "text": [
        "\n",
        "\u0411\u0410\u0422\u0420\u0410\u041a\u042a not found"
       ]
      },
      {
       "output_type": "stream",
       "stream": "stdout",
       "text": [
        "\n",
        "\u0411\u0410\u0422\u0423\u0420\u0418\u041d\u042a not found"
       ]
      },
      {
       "output_type": "stream",
       "stream": "stdout",
       "text": [
        "\n",
        "\u0411\u0410\u0425\u041c\u0410\u0427\u042c: Bakhmach"
       ]
      },
      {
       "output_type": "stream",
       "stream": "stdout",
       "text": [
        "\n",
        "\u0411\u0415\u0417\u0413\u0418\u041d\u041e\u0412\u041a\u0410 not found"
       ]
      },
      {
       "output_type": "stream",
       "stream": "stdout",
       "text": [
        "\n",
        "\u0411\u0415\u0420\u0415\u0417\u0418\u041d\u042a not found"
       ]
      },
      {
       "output_type": "stream",
       "stream": "stdout",
       "text": [
        "\n",
        "\u0411\u0415\u0420\u0415\u0417\u041d\u0418\u041a\u0418: Berezniki"
       ]
      },
      {
       "output_type": "stream",
       "stream": "stdout",
       "text": [
        "\n",
        "\u0411\u0415\u0420\u0415\u0417\u041e\u0412\u042a not found"
       ]
      },
      {
       "output_type": "stream",
       "stream": "stdout",
       "text": [
        "\n",
        "\u0411\u0415\u0420\u0415\u0417\u041e\u0412\u0426\u0410: Berezovca"
       ]
      },
      {
       "output_type": "stream",
       "stream": "stdout",
       "text": [
        "\n",
        "\u0411\u0415\u0420\u041a\u0423\u041d\u041e\u0412\u0410 not found"
       ]
      },
      {
       "output_type": "stream",
       "stream": "stdout",
       "text": [
        "\n",
        "\u0411\u0415\u0420\u041d\u0418\u041a\u0418: Berniki"
       ]
      },
      {
       "output_type": "stream",
       "stream": "stdout",
       "text": [
        "\n",
        "\u0411\u0418\u041b\u042f\u0420\u0421\u041a\u042a not found"
       ]
      },
      {
       "output_type": "stream",
       "stream": "stdout",
       "text": [
        "\n",
        "\u0411\u0418\u0420\u0416\u0410: Birzha"
       ]
      },
      {
       "output_type": "stream",
       "stream": "stdout",
       "text": [
        "\n",
        "\u0411\u041b\u0410\u0413\u041e\u0412\u0462\u0429\u0415\u041d\u0421\u041a\u041e\u0419 \u041f\u0420\u0418\u0425\u041e\u0414\u042a not found"
       ]
      },
      {
       "output_type": "stream",
       "stream": "stdout",
       "text": [
        "\n",
        "\u0411\u041e\u0411\u0420\u041e\u0412\u0418\u0426\u0410: Bobrovitsa"
       ]
      },
      {
       "output_type": "stream",
       "stream": "stdout",
       "text": [
        "\n",
        "\u0411\u041e\u0411\u0420\u041e\u0412\u0421\u041a\u041e\u0415: Bobrovskoye"
       ]
      },
      {
       "output_type": "stream",
       "stream": "stdout",
       "text": [
        "\n",
        "\u0411\u041e\u0411\u042b\u041b\u0415\u0412\u0421\u041a\u041e\u0415 not found"
       ]
      },
      {
       "output_type": "stream",
       "stream": "stdout",
       "text": [
        "\n",
        "\u0411\u041e\u0413\u0410\u0422\u0418\u0429\u0415\u0412\u041e: Bogatishchevo"
       ]
      },
      {
       "output_type": "stream",
       "stream": "stdout",
       "text": [
        "\n",
        "\u0411\u041e\u0413\u0410\u0422\u042b\u0419: Bogatyy"
       ]
      },
      {
       "output_type": "stream",
       "stream": "stdout",
       "text": [
        "\n",
        "\u0411\u041e\u0413\u0410\u0427\u041a\u0410: Bogachka"
       ]
      },
      {
       "output_type": "stream",
       "stream": "stdout",
       "text": [
        "\n",
        "\u0411\u041e\u0413\u041e\u0414\u0423\u0425\u041e\u0412\u042a not found"
       ]
      },
      {
       "output_type": "stream",
       "stream": "stdout",
       "text": [
        "\n",
        "\u0411\u041e\u0413\u041e\u0420\u041e\u0414\u0418\u0426\u041a\u042a not found"
       ]
      },
      {
       "output_type": "stream",
       "stream": "stdout",
       "text": [
        "\n",
        "\u0411\u041e\u0413\u041e\u0420\u041e\u0414\u0418\u0426\u041a\u042a not found"
       ]
      },
      {
       "output_type": "stream",
       "stream": "stdout",
       "text": [
        "\n",
        "\u0411\u041e\u0413\u041e\u0420\u041e\u0414\u0418\u0426\u041a\u041e\u0419 \u041a\u0410\u0417\u0410\u041d\u0421\u041a\u041e\u0419 not found"
       ]
      },
      {
       "output_type": "stream",
       "stream": "stdout",
       "text": [
        "\n",
        "\u0411\u041e\u0413\u041e\u0420\u041e\u0414\u0421\u041a\u042a not found"
       ]
      },
      {
       "output_type": "stream",
       "stream": "stdout",
       "text": [
        "\n",
        "\u0411\u041e\u0413\u041e\u042f\u0412\u041b\u0415\u041d\u0421\u041a\u0410\u042f: Bogoyavlenskaya"
       ]
      },
      {
       "output_type": "stream",
       "stream": "stdout",
       "text": [
        "\n",
        "\u0411\u041e\u0413\u041e\u042f\u0412\u041b\u0415\u041d\u0421\u041a\u0410\u042f: Bogoyavlenskaya"
       ]
      },
      {
       "output_type": "stream",
       "stream": "stdout",
       "text": [
        "\n",
        "\u0411\u041e\u0419\u041d\u042f: Boynya"
       ]
      },
      {
       "output_type": "stream",
       "stream": "stdout",
       "text": [
        "\n",
        "\u0411\u041e\u0420\u0410 was found, name is unicode"
       ]
      },
      {
       "output_type": "stream",
       "stream": "stdout",
       "text": [
        "\n",
        "\u0411\u041e\u0420\u0417\u041d\u0410: Borzna"
       ]
      },
      {
       "output_type": "stream",
       "stream": "stdout",
       "text": [
        "\n",
        "\u0411\u041e\u0420\u0418\u0421\u041e\u0412\u042a not found"
       ]
      },
      {
       "output_type": "stream",
       "stream": "stdout",
       "text": [
        "\n",
        "\u0411\u041e\u0420\u0418\u0421\u041e\u0413\u041b\u0462\u0411\u0421\u041a\u042a not found"
       ]
      },
      {
       "output_type": "stream",
       "stream": "stdout",
       "text": [
        "\n",
        "\u0411\u041e\u0420\u0418\u0421\u041e\u0413\u041b\u0462\u0411\u0421\u041a\u042a not found"
       ]
      },
      {
       "output_type": "stream",
       "stream": "stdout",
       "text": [
        "\n",
        "\u0411\u041e\u0420\u0418\u0421\u041e\u0413\u041b\u0462\u0411\u0421\u041a\u041e\u0419 not found"
       ]
      },
      {
       "output_type": "stream",
       "stream": "stdout",
       "text": [
        "\n",
        "\u0411\u041e\u0420\u0418\u0421\u041f\u041e\u041b\u042c: Borispol'"
       ]
      },
      {
       "output_type": "stream",
       "stream": "stdout",
       "text": [
        "\n",
        "\u0411\u041e\u0420\u041e\u0412\u0415\u041d\u041a\u0418 was found, name is unicode"
       ]
      },
      {
       "output_type": "stream",
       "stream": "stdout",
       "text": [
        "\n",
        "\u0411\u041e\u0420\u041e\u0412\u0418\u0427\u0418: Borovichi"
       ]
      },
      {
       "output_type": "stream",
       "stream": "stdout",
       "text": [
        "\n",
        "\u0411\u041e\u0420\u041e\u0412\u0421\u041a\u042a not found"
       ]
      },
      {
       "output_type": "stream",
       "stream": "stdout",
       "text": [
        "\n",
        "\u0411\u041e\u0420\u041e\u041c\u0414\u042f not found"
       ]
      },
      {
       "output_type": "stream",
       "stream": "stdout",
       "text": [
        "\n",
        "\u0411\u041e\u0420\u042f\u0422\u0418\u041d\u041e: Boryatino"
       ]
      },
      {
       "output_type": "stream",
       "stream": "stdout",
       "text": [
        "\n",
        "\u0411\u0420\u041e\u041d\u041d\u0418\u0426\u042b: Bronnitsy"
       ]
      },
      {
       "output_type": "stream",
       "stream": "stdout",
       "text": [
        "\n",
        "\u0411\u0420\u041e\u041d\u041d\u0418\u0426\u042b: Bronnitsy"
       ]
      },
      {
       "output_type": "stream",
       "stream": "stdout",
       "text": [
        "\n",
        "\u0411\u0420\u042f\u041d\u0421\u041a\u042a not found"
       ]
      },
      {
       "output_type": "stream",
       "stream": "stdout",
       "text": [
        "\n",
        "\u0411\u0423\u0414\u0418\u0427\u042c not found"
       ]
      },
      {
       "output_type": "stream",
       "stream": "stdout",
       "text": [
        "\n",
        "\u0411\u0423\u0420\u0415\u0426\u041a\u041e\u0419 not found"
       ]
      },
      {
       "output_type": "stream",
       "stream": "stdout",
       "text": [
        "\n",
        "\u0411\u0423\u0420\u041e\u041c\u041a\u0410: Malaya Buromka"
       ]
      },
      {
       "output_type": "stream",
       "stream": "stdout",
       "text": [
        "\n",
        "\u0411\u0423\u0427\u0410\u041b\u041a\u0418: Buchalki"
       ]
      },
      {
       "output_type": "stream",
       "stream": "stdout",
       "text": [
        "\n",
        "\u0411\u0423\u0428\u041d\u0420\u0412\u041e not found"
       ]
      },
      {
       "output_type": "stream",
       "stream": "stdout",
       "text": [
        "\n",
        "\u0411\u042b\u041a\u041e\u0412\u042a not found"
       ]
      },
      {
       "output_type": "stream",
       "stream": "stdout",
       "text": [
        "\n",
        "\u0411\u0462\u0416\u0415\u0426\u041a\u042a not found"
       ]
      },
      {
       "output_type": "stream",
       "stream": "stdout",
       "text": [
        "\n",
        "\u0411\u0462\u041b\u0410\u042f \u041a\u041e\u041b\u041f\u042c not found"
       ]
      },
      {
       "output_type": "stream",
       "stream": "stdout",
       "text": [
        "\n",
        "\u0411\u0462\u041b\u0418\u041a\u0418 not found"
       ]
      },
      {
       "output_type": "stream",
       "stream": "stdout",
       "text": [
        "\n",
        "\u0411\u0462\u041b\u041e\u0415 not found"
       ]
      },
      {
       "output_type": "stream",
       "stream": "stdout",
       "text": [
        "\n",
        "\u0411\u0462\u041b\u041e\u0417\u0415\u0420\u0421\u041a\u041e\u0419 \u041a\u0418\u0420\u0418\u041b\u041e\u0412\u042a not found"
       ]
      },
      {
       "output_type": "stream",
       "stream": "stdout",
       "text": [
        "\n",
        "\u0411\u0462\u041b\u041e\u0419 not found"
       ]
      },
      {
       "output_type": "stream",
       "stream": "stdout",
       "text": [
        "\n",
        "\u0411\u0462\u041b\u041e\u041a\u0423\u0420\u0418\u041d\u0410 not found"
       ]
      },
      {
       "output_type": "stream",
       "stream": "stdout",
       "text": [
        "\n",
        "\u0411\u0462\u041b\u041e\u041f\u041e\u041b\u042c\u0415 not found"
       ]
      },
      {
       "output_type": "stream",
       "stream": "stdout",
       "text": [
        "\n",
        "\u0411\u0462\u041b\u041e\u0426\u0415\u0420\u041a\u041e\u0412\u041a\u0410 not found"
       ]
      },
      {
       "output_type": "stream",
       "stream": "stdout",
       "text": [
        "\n",
        "\u0411\u0462\u041b\u042b\u041d\u0418\u0427\u0418 not found"
       ]
      },
      {
       "output_type": "stream",
       "stream": "stdout",
       "text": [
        "\n",
        "\u0412\u0410\u041b\u0414\u0410\u0419: Valday"
       ]
      },
      {
       "output_type": "stream",
       "stream": "stdout",
       "text": [
        "\n",
        "\u0412\u0410\u041b\u041a\u0418: Valki"
       ]
      },
      {
       "output_type": "stream",
       "stream": "stdout",
       "text": [
        "\n",
        "\u0412\u0410\u041b\u0423\u0419\u041a\u0418: Valuyki"
       ]
      },
      {
       "output_type": "stream",
       "stream": "stdout",
       "text": [
        "\n",
        "\u0412\u0410\u0420\u0412\u0410: Varva"
       ]
      },
      {
       "output_type": "stream",
       "stream": "stdout",
       "text": [
        "\n",
        "\u0411\u0410\u0420\u041a\u041e\u0412\u042a not found"
       ]
      },
      {
       "output_type": "stream",
       "stream": "stdout",
       "text": [
        "\n",
        "\u0412\u0410\u0428\u041a\u0410: Vashka"
       ]
      },
      {
       "output_type": "stream",
       "stream": "stdout",
       "text": [
        "\n",
        "\u0412\u0415\u0419\u0414\u0415\u041b\u0415\u0412\u041a\u0410: Veydelevka"
       ]
      },
      {
       "output_type": "stream",
       "stream": "stdout",
       "text": [
        "\n",
        "\u0412\u0415\u041b\u0418\u0416\u042a not found"
       ]
      },
      {
       "output_type": "stream",
       "stream": "stdout",
       "text": [
        "\n",
        "\u0412\u0415\u041b\u0418\u041a\u041e\u0415: Velikoye"
       ]
      },
      {
       "output_type": "stream",
       "stream": "stdout",
       "text": [
        "\n",
        "\u0412\u0415\u041d\u0414\u0415\u041d\u042a not found"
       ]
      },
      {
       "output_type": "stream",
       "stream": "stdout",
       "text": [
        "\n",
        "\u0412\u0415\u041d\u0415\u0412\u042a not found"
       ]
      },
      {
       "output_type": "stream",
       "stream": "stdout",
       "text": [
        "\n",
        "\u0412\u0415\u041d\u0415\u0412\u0421\u041a\u041e\u0419 \u041d\u0418\u041a\u041e\u041b\u0410\u0415\u0412\u0421\u041a\u041e\u0419 not found"
       ]
      },
      {
       "output_type": "stream",
       "stream": "stdout",
       "text": [
        "\n",
        "\u0412\u0415\u041f\u0420\u0418\u041a\u042a not found"
       ]
      },
      {
       "output_type": "stream",
       "stream": "stdout",
       "text": [
        "\n",
        "\u0412\u0415\u0420\u0415\u042f: Vereya"
       ]
      },
      {
       "output_type": "stream",
       "stream": "stdout",
       "text": [
        "\n",
        "\u0412\u0415\u0420\u0425\u041d\u0406\u0419 \u0423\u0414\u0418\u041d\u0421\u041a\u042a not found"
       ]
      },
      {
       "output_type": "stream",
       "stream": "stdout",
       "text": [
        "\n",
        "\u0412\u0415\u0420\u0425\u041e\u0412\u0410\u0416\u0421\u041a\u041e\u0419 not found"
       ]
      },
      {
       "output_type": "stream",
       "stream": "stdout",
       "text": [
        "\n",
        "\u0412\u0415\u0421\u0406\u0415\u0413\u041e\u041d\u0421\u041a\u042a not found"
       ]
      },
      {
       "output_type": "stream",
       "stream": "stdout",
       "text": [
        "\n",
        "\u0412\u0418\u041b\u042c\u041c\u0410\u041d\u0421\u0422\u0420\u0410\u041d\u0414\u042a not found"
       ]
      },
      {
       "output_type": "stream",
       "stream": "stdout",
       "text": [
        "\n",
        "\u0412\u0418\u041b\u042e\u0419\u0421\u041a\u041e\u0415 \u0412\u0415\u0420\u0425\u041d\u0415\u0415 not found"
       ]
      },
      {
       "output_type": "stream",
       "stream": "stdout",
       "text": [
        "\n",
        "\u0412\u041e\u0415\u0412\u041e\u0414\u0421\u041a\u041e\u0415: Voyevodskoye"
       ]
      },
      {
       "output_type": "stream",
       "stream": "stdout",
       "text": [
        "\n",
        "\u0412\u041e\u0417\u041d\u0415\u0421\u0415\u041d\u0421\u041a\u041e\u0419 not found"
       ]
      },
      {
       "output_type": "stream",
       "stream": "stdout",
       "text": [
        "\n",
        "\u0412\u041e\u041b\u041c\u0410\u0420\u042a not found"
       ]
      },
      {
       "output_type": "stream",
       "stream": "stdout",
       "text": [
        "\n",
        "\u0412\u041e\u041b\u041e\u0414\u0418\u041c\u0415\u0420\u0415\u0426\u042a not found"
       ]
      },
      {
       "output_type": "stream",
       "stream": "stdout",
       "text": [
        "\n",
        "\u0412\u041e\u041b\u041e\u041a\u041e\u041b\u0410\u041c\u0421\u041a\u042a not found"
       ]
      },
      {
       "output_type": "stream",
       "stream": "stdout",
       "text": [
        "\n",
        "\u0412\u041e\u041b\u041e\u041a\u041e\u041f\u0418\u041d\u0415\u0416\u0421\u041a\u0410\u042f not found"
       ]
      },
      {
       "output_type": "stream",
       "stream": "stdout",
       "text": [
        "\n",
        "\u0412\u041e\u041b\u0421\u041a\u042a not found"
       ]
      },
      {
       "output_type": "stream",
       "stream": "stdout",
       "text": [
        "\n",
        "\u0412\u041e\u041b\u0427\u042c\u042f was found, name is unicode"
       ]
      },
      {
       "output_type": "stream",
       "stream": "stdout",
       "text": [
        "\n",
        "\u0412\u041e\u041b\u042b\u041d\u0426\u042b: Volyntsy"
       ]
      },
      {
       "output_type": "stream",
       "stream": "stdout",
       "text": [
        "\n",
        "\u0412\u041e\u041b\u042c\u041d\u0410\u042f: Vol'naya Solyanka"
       ]
      },
      {
       "output_type": "stream",
       "stream": "stdout",
       "text": [
        "\n",
        "\u0412\u041e\u0421\u041a\u0420\u0415\u0421\u0415\u041d\u0421\u041a\u042a not found"
       ]
      },
      {
       "output_type": "stream",
       "stream": "stdout",
       "text": [
        "\n",
        "\u0415\u0420\u0415\u0412\u042a not found"
       ]
      },
      {
       "output_type": "stream",
       "stream": "stdout",
       "text": [
        "\n",
        "\u0412\u042b\u0411\u041e\u0420\u042a was found, name is unicode"
       ]
      },
      {
       "output_type": "stream",
       "stream": "stdout",
       "text": [
        "\n",
        "\u0412\u042b\u0411\u041e\u0420\u0413\u042a not found"
       ]
      },
      {
       "output_type": "stream",
       "stream": "stdout",
       "text": [
        "\n",
        "\u0412\u041e\u0420\u041e\u041d\u0415\u0416\u042a not found"
       ]
      },
      {
       "output_type": "stream",
       "stream": "stdout",
       "text": [
        "\n",
        "\u0412\u041e\u0420\u041e\u041d\u0415\u0416\u042a not found"
       ]
      },
      {
       "output_type": "stream",
       "stream": "stdout",
       "text": [
        "\n",
        "\u0412\u041e\u0420\u041e\u041d\u041a\u041e\u0412\u042a not found"
       ]
      },
      {
       "output_type": "stream",
       "stream": "stdout",
       "text": [
        "\n",
        "\u0412\u041e\u0420\u041e\u041d\u0426\u041e\u0412\u041a\u0410: Vorontsovka"
       ]
      },
      {
       "output_type": "stream",
       "stream": "stdout",
       "text": [
        "\n",
        "\u0412\u042b\u0421\u041e\u041a\u041e\u0415: Vysokoye"
       ]
      },
      {
       "output_type": "stream",
       "stream": "stdout",
       "text": [
        "\n",
        "\u0412\u042b\u0421\u041e\u041a\u041e\u0415: Vysokoye"
       ]
      },
      {
       "output_type": "stream",
       "stream": "stdout",
       "text": [
        "\n",
        "\u0412\u042b\u0422\u0415\u0413\u0420\u0410: Vytegra"
       ]
      },
      {
       "output_type": "stream",
       "stream": "stdout",
       "text": [
        "\n",
        "\u0412\u042c\u0406\u0427\u0423\u0413\u0410 not found"
       ]
      },
      {
       "output_type": "stream",
       "stream": "stdout",
       "text": [
        "\n",
        "\u0412\u042b\u0428\u0413\u041e\u0420\u041e\u0414\u042a not found"
       ]
      },
      {
       "output_type": "stream",
       "stream": "stdout",
       "text": [
        "\n",
        "\u0412\u042b\u0428\u0413\u041e\u0420\u041e\u0414\u042a not found"
       ]
      },
      {
       "output_type": "stream",
       "stream": "stdout",
       "text": [
        "\n",
        "\u0412\u042b\u0428\u041d\u0406\u0419 \u0412\u041e\u041b\u041e\u0427\u041e\u041a\u042a not found"
       ]
      },
      {
       "output_type": "stream",
       "stream": "stdout",
       "text": [
        "\n",
        "\u0412\u0462\u0422\u041a\u0410 not found"
       ]
      },
      {
       "output_type": "stream",
       "stream": "stdout",
       "text": [
        "\n",
        "\u0412\u0462\u0422\u041a\u0410 not found"
       ]
      },
      {
       "output_type": "stream",
       "stream": "stdout",
       "text": [
        "\n",
        "\u0412\u042f\u0417\u041d\u0418\u041a\u0418: Vyazniki"
       ]
      },
      {
       "output_type": "stream",
       "stream": "stdout",
       "text": [
        "\n",
        "\u0412\u042f\u0417\u041e\u0412\u041d\u0410 not found"
       ]
      },
      {
       "output_type": "stream",
       "stream": "stdout",
       "text": [
        "\n",
        "\u0410\u0411\u0417\u0410\u041b\u042c was found, name is unicode"
       ]
      },
      {
       "output_type": "stream",
       "stream": "stdout",
       "text": [
        "\n",
        "\u0413\u0410\u0412\u0420\u0418\u041b\u041e\u0412\u0410: Gavrilova"
       ]
      },
      {
       "output_type": "stream",
       "stream": "stdout",
       "text": [
        "\n",
        "\u0413\u0410\u0413\u0410\u0420\u0418\u041d\u041e: Gagarino"
       ]
      },
      {
       "output_type": "stream",
       "stream": "stdout",
       "text": [
        "\n",
        "\u0413\u0410\u0414\u042f\u0427\u042c: Hadyach"
       ]
      },
      {
       "output_type": "stream",
       "stream": "stdout",
       "text": [
        "\n",
        "\u0413\u0410\u041b\u042f\u041d\u0418 not found"
       ]
      },
      {
       "output_type": "stream",
       "stream": "stdout",
       "text": [
        "\n",
        "\u0413\u0410\u0422\u041d\u0418\u0426\u042b not found"
       ]
      },
      {
       "output_type": "stream",
       "stream": "stdout",
       "text": [
        "\n",
        "\u0413\u0414\u041e\u0412\u042a not found"
       ]
      },
      {
       "output_type": "stream",
       "stream": "stdout",
       "text": [
        "\n",
        "\u0413\u0415\u041d\u041d\u0410\u0414\u0406\u0415\u0412\u042a not found"
       ]
      },
      {
       "output_type": "stream",
       "stream": "stdout",
       "text": [
        "\n",
        "\u0413\u0415\u0420\u041c\u0410\u041d\u041e\u0412\u0410: Chervonnaya Sloboda"
       ]
      },
      {
       "output_type": "stream",
       "stream": "stdout",
       "text": [
        "\n",
        "\u0413\u0416\u0410\u0422\u042c was found, name is unicode"
       ]
      },
      {
       "output_type": "stream",
       "stream": "stdout",
       "text": [
        "\n",
        "\u0413\u041b\u0415\u041c\u042f\u0417\u041e\u0412\u042a not found"
       ]
      },
      {
       "output_type": "stream",
       "stream": "stdout",
       "text": [
        "\n",
        "\u0413\u041b\u0418\u041d\u0421\u041a\u042a not found"
       ]
      },
      {
       "output_type": "stream",
       "stream": "stdout",
       "text": [
        "\n",
        "\u0413\u041b\u0418\u041d\u0421\u041a\u042a not found"
       ]
      },
      {
       "output_type": "stream",
       "stream": "stdout",
       "text": [
        "\n",
        "\u0413\u041b\u0423\u0425\u041e\u0412\u042a not found"
       ]
      },
      {
       "output_type": "stream",
       "stream": "stdout",
       "text": [
        "\n",
        "64 out of  150 found\n"
       ]
      }
     ],
     "prompt_number": 28
    }
   ],
   "metadata": {}
  }
 ]
}