{
 "metadata": {
  "name": "",
  "signature": "sha256:53d480f1e5c9dcda6e504faf354c198aca2aa77d5731fee5e4abcf2c33cb40c0"
 },
 "nbformat": 3,
 "nbformat_minor": 0,
 "worksheets": []
}