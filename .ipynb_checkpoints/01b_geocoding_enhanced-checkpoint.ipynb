{
 "metadata": {
  "name": "",
  "signature": "sha256:10197578c39a63b0c13770d6dda40b13f516924c9cf9d77d6b5f226e914e4cd1"
 },
 "nbformat": 3,
 "nbformat_minor": 0,
 "worksheets": [
  {
   "cells": [
    {
     "cell_type": "markdown",
     "metadata": {},
     "source": [
      "Geocoding with additional metadata\n",
      "==================================\n",
      "*JSON-style data format*  \n",
      "This geocoding process is based on the old, table-based one, but uses JSON data structures instead. This will, with any luck, be good for the eventual goal of putting all of this in MongoDB"
     ]
    },
    {
     "cell_type": "code",
     "collapsed": false,
     "input": [
      "import pandas as pd\n",
      "import numpy as np\n",
      "import requests, re, json, os, time"
     ],
     "language": "python",
     "metadata": {},
     "outputs": [],
     "prompt_number": 1
    },
    {
     "cell_type": "code",
     "collapsed": false,
     "input": [
      "with open(\"output/enhanced_dataset.json\",\"r\",encoding=\"utf-8\") as fp:\n",
      "    market_db = json.load(fp)"
     ],
     "language": "python",
     "metadata": {},
     "outputs": [],
     "prompt_number": 2
    },
    {
     "cell_type": "code",
     "collapsed": false,
     "input": [
      "import os\n",
      "def Ensure_dir(d):\n",
      "    \"\"\"Makes sure a directory 'd' exists, and if it doesn't, it creates one.\"\"\"\n",
      "    if not os.path.exists(d):\n",
      "        os.makedirs(d)\n",
      "    return 0"
     ],
     "language": "python",
     "metadata": {},
     "outputs": [],
     "prompt_number": 3
    },
    {
     "cell_type": "markdown",
     "metadata": {},
     "source": [
      "Geocoding begins here!\n",
      "======================"
     ]
    },
    {
     "cell_type": "code",
     "collapsed": false,
     "input": [
      "def geonames_request(placename,placeid,east=180,west=-180,north=90,south=-90,fuzzy=1):\n",
      "    \"\"\"\n",
      "    Takes a placename and optional bounding box, returns GeoNames response for query in dict form, with added url key\n",
      "    \"\"\"\n",
      "    #print(\"Running geonames_request()\")\n",
      "    url = \"http://api.geonames.org/search\"\n",
      "    Q = {'type':'json','username':'jaguillette','featureClass':'P','name':placename,'north':north,'south':south,'east':east,'west':west,'fuzzy':fuzzy}\n",
      "    R = requests.get(url,params=Q)\n",
      "    #print(R.url)\n",
      "    response = R.json()\n",
      "    Q.update({'url':R.url,'hgr_id':int(placeid)})\n",
      "    response.update({'searchinfo':Q})\n",
      "    return response"
     ],
     "language": "python",
     "metadata": {},
     "outputs": [],
     "prompt_number": 4
    },
    {
     "cell_type": "code",
     "collapsed": false,
     "input": [
      "def geo_response_parse(response,save_location=None):\n",
      "    \"\"\"\n",
      "    Takes a dict object from parsing the json of a geonames request, as returned by geonames_request.\n",
      "    Returns a dict of response properties.\n",
      "    \"\"\"\n",
      "    #print(\"Running geo_response_parse()\")\n",
      "    returnlist = []\n",
      "    try:\n",
      "        if response['totalResultsCount'] != 0:\n",
      "            for p in response['geonames']:\n",
      "                mod_dict = {}\n",
      "                for k in p:\n",
      "                    mod_dict[\"gname_{}\".format(k)] = p[k]\n",
      "                returnlist.append(mod_dict)\n",
      "            if save_location:\n",
      "                if not os.path.exists(save_location):\n",
      "                    save_json = {\"type\":\"FeatureCollection\",\"features\":[]}\n",
      "                    for f in response['geonames']:\n",
      "                        feature = {\"type\":\"Feature\",\"geometry\":{'type':'Point'},\"properties\":{}}\n",
      "                        feature['properties'] = f\n",
      "                        feature['properties'].update(response['searchinfo'])\n",
      "                        feature['geometry']['coordinates']=[float(f['lng']),float(f['lat'])]\n",
      "                        save_json['features'].append(feature)\n",
      "                    with open(save_location,'w',encoding='utf-8') as fp:\n",
      "                        json.dump(dict(save_json),fp,sort_keys=True)\n",
      "            #print(\"{} was found\".format(placename))\n",
      "        else:\n",
      "            returnlist = [{}]\n",
      "        for e in returnlist:\n",
      "            e['url'] = response['searchinfo']['url']\n",
      "            e['hgr_id'] = response['searchinfo']['hgr_id']\n",
      "            e['searched_name'] = response['searchinfo']['name']\n",
      "            e['fuzzy'] = response['searchinfo']['fuzzy']\n",
      "            e['north_bound'] = response['searchinfo']['north']\n",
      "            e['south_bound'] = response['searchinfo']['south']\n",
      "            e['east_bound'] = response['searchinfo']['east']\n",
      "            e['west_bound'] = response['searchinfo']['west']\n",
      "        return returnlist\n",
      "    except KeyError:\n",
      "        print(response['searchinfo']['url'])\n",
      "        return([])"
     ],
     "language": "python",
     "metadata": {},
     "outputs": [],
     "prompt_number": 5
    },
    {
     "cell_type": "code",
     "collapsed": false,
     "input": [
      "def fuzz_geonames(placename,placeid,north,south,east,west,returnlist):\n",
      "    #print(\"Running fuzz_geonames()\")\n",
      "    keepgoing = True\n",
      "    fuzzy = .9\n",
      "    while keepgoing:\n",
      "        response = geonames_request(placename,placeid,east=east,west=west,north=north,south=south,fuzzy=fuzzy)\n",
      "        save_loc = \"geonames_jsons/{}_{}_f{:.2}.json\".format(placeid,placename.replace(\" \",\"_\"),fuzzy)\n",
      "        parsed = geo_response_parse(response,save_location=save_loc)\n",
      "        returnlist.extend(parsed)\n",
      "        if any('gname_geonameId' in d for d in parsed):\n",
      "            keepgoing=False\n",
      "        else:\n",
      "            fuzzy = fuzzy-.1\n",
      "            if fuzzy<0:\n",
      "                print(\"{} was not found at max fuzz.\".format(placename))\n",
      "                keepgoing = False\n",
      "            time.sleep(1)\n",
      "    return returnlist"
     ],
     "language": "python",
     "metadata": {},
     "outputs": [],
     "prompt_number": 6
    },
    {
     "cell_type": "code",
     "collapsed": false,
     "input": [
      "def geonames_lookup(placename,placeid,east=180,west=-180,north=90,south=-90,alt_name=None):\n",
      "    \"\"\"\n",
      "    Queries geonames for given placename within bounding boxes.\n",
      "    Also queries for alternate spellings if no main spelling is found.\n",
      "    \"\"\"\n",
      "    #print(\"Running geonames_lookup()\")\n",
      "    Ensure_dir(\"geonames_jsons\")\n",
      "    returnlist = []\n",
      "    re_list = [[r'(\u043e\u0439)($|\\s)',r'\u0438\u0439\\2'],[r'(\u0441\u043a)($|\\s)',r'\\2'],[r'(\u0432)$',r'\\1\u043e']]\n",
      "    #Generating a list of possible placenames based on above regex.\n",
      "    #Placename will be added, then removed for de-duplication after set operation.\n",
      "    pname_list = [placename]\n",
      "    if alt_name is not None:\n",
      "        pname_list.append(alt_name)\n",
      "    for pair in re_list:\n",
      "        pname_list.append(re.sub(pair[0],pair[1],placename))\n",
      "    pname_list = set(pname_list)\n",
      "    pname_list.remove(placename)\n",
      "    #First geocoding attempt\n",
      "    response1 = geonames_request(placename,placeid,east=east,west=west,north=north,south=south)\n",
      "    #print(\"Now querying {}...\".format(placename))\n",
      "    time.sleep(1)\n",
      "    save_loc = \"geonames_jsons/{}_{}.json\".format(placeid,placename.replace(\" \",\"_\"))\n",
      "    parsed1 = geo_response_parse(response1,save_location=save_loc)\n",
      "    returnlist.extend(parsed1)\n",
      "    if not any('gname_geonameId' in d for d in parsed1):\n",
      "        for p in pname_list:\n",
      "            time.sleep(1)\n",
      "            print(\"Querying alternate name {}\".format(p))\n",
      "            response = geonames_request(p,placeid,east=east,west=west,north=north,south=south)\n",
      "            save_loc = \"geonames_jsons/{}_{}.json\".format(placeid,p.replace(\" \",\"_\"))\n",
      "            parsed = geo_response_parse(response,save_location=save_loc)\n",
      "            returnlist.extend(parsed)\n",
      "    if not any('gname_geonameId' in d for d in returnlist):\n",
      "        returnlist = fuzz_geonames(placename,placeid,north,south,east,west,returnlist)\n",
      "        if alt_name is not None:\n",
      "            returnlist = fuzz_geonames(alt_name,placeid,north,south,east,west,returnlist)\n",
      "    return returnlist"
     ],
     "language": "python",
     "metadata": {},
     "outputs": [],
     "prompt_number": 7
    },
    {
     "cell_type": "code",
     "collapsed": false,
     "input": [
      "with open(\"resources/partof_prov_bounds.json\",'r',encoding = 'utf-8') as fp:\n",
      "    bounding_dict = json.load(fp)"
     ],
     "language": "python",
     "metadata": {},
     "outputs": [],
     "prompt_number": 8
    },
    {
     "cell_type": "markdown",
     "metadata": {},
     "source": [
      "*Old Code*  \n",
      "no_prov = len(market_df.ix[market_df.admin1_partofID.isnull()])\n",
      "no_uezd = len(market_df.ix[market_df.admin2_partofID.isnull()])\n",
      "total = len(market_df)\n",
      "print(\"{1} / {0} ({2:.2%}) towns have no Namiestnichestvo recorded\\n{3} / {0} ({4:.2%}) towns have no Uyezd recorded\".format(total,no_prov,no_prov/total,no_uezd,no_uezd/total))"
     ]
    },
    {
     "cell_type": "markdown",
     "metadata": {},
     "source": [
      "Market Town Geocoding\n",
      "====================="
     ]
    },
    {
     "cell_type": "code",
     "collapsed": false,
     "input": [
      "geocoded = []\n",
      "problem_prov = []\n",
      "worldsearch = []\n",
      "bizarro = []\n",
      "d = 4\n",
      "for k,v in market_db.items():\n",
      "    if 'geo' not in v.keys():\n",
      "        alt = v['alt_name_new_orth']\n",
      "        if v[\"admin1_partofID\"] is None or v[\"admin1_partofID\"] in ['not_in_text','\u043d\u043e\u0442_\u0438\u043d_\u0442\u0435x\u0442']:\n",
      "            geocoded.extend(geonames_lookup(v['ru_new_orth'],k,alt_name=alt))\n",
      "        else:\n",
      "            try:\n",
      "                loc = bounding_dict[str(v['admin1_partofID'])]\n",
      "            except KeyError:\n",
      "                print(v['admin1_partofID'])\n",
      "                problem_prov.append(v['admin1.partofID'])\n",
      "                continue\n",
      "            except ValueError:\n",
      "                print(\"Searching worldwide\")\n",
      "                worldsearch.append(v['admin1.partofID'])\n",
      "                N, S, E, W = 90, -90, 180, -180\n",
      "            except:\n",
      "                print(\"What even happened here?\")\n",
      "                bizarro.append(v['admin1.partofID'])\n",
      "            if \"boundaries\" in loc:\n",
      "                W, S, E, N = loc[\"boundaries\"][0], loc[\"boundaries\"][1], loc[\"boundaries\"][2], loc[\"boundaries\"][3]\n",
      "            else:\n",
      "                N, S, E, W = loc[\"center\"][0]+d, loc[\"center\"][0]-d, loc[\"center\"][1]+d, loc[\"center\"][1]-d\n",
      "            geocoded.extend(geonames_lookup(v['ru_new_orth'],k,north=N,south=S,west=W,east=E,alt_name=alt))\n",
      "        print(\"Looked up {}.\".format(v['ru_new_orth']))"
     ],
     "language": "python",
     "metadata": {},
     "outputs": [
      {
       "output_type": "stream",
       "stream": "stdout",
       "text": [
        "Looked up \u041f\u043e\u0433\u0440\u043e\u043c\u0446\u0430.\n",
        "Looked up \u0415\u0440\u0430\u0445\u0442\u0443\u0440\u0430."
       ]
      },
      {
       "output_type": "stream",
       "stream": "stdout",
       "text": [
        "\n",
        "Looked up \u0414\u0435\u0440\u043a\u0443\u043b."
       ]
      },
      {
       "output_type": "stream",
       "stream": "stdout",
       "text": [
        "\n",
        "Looked up \u041b\u0438\u043f\u0446\u044b."
       ]
      },
      {
       "output_type": "stream",
       "stream": "stdout",
       "text": [
        "\n",
        "Querying alternate name \u0411\u0430\u043b\u0430\u043a\u043b\u0435\u0435\u0432\u043e"
       ]
      },
      {
       "output_type": "stream",
       "stream": "stdout",
       "text": [
        "\n",
        "Looked up \u0411\u0430\u043b\u0430\u043a\u043b\u0435\u0435\u0432."
       ]
      },
      {
       "output_type": "stream",
       "stream": "stdout",
       "text": [
        "\n",
        "Looked up \u0428\u0430\u0440\u0430\u043f\u0430\u0432\u043e."
       ]
      },
      {
       "output_type": "stream",
       "stream": "stdout",
       "text": [
        "\n",
        "Querying alternate name \u0427\u0435\u0440\u0435\u043d\u0447\u0438\u0446\u043a\u0438\u0439"
       ]
      },
      {
       "output_type": "stream",
       "stream": "stdout",
       "text": [
        "\n",
        "Looked up \u0427\u0435\u0440\u0435\u043d\u0447\u0438\u0446\u043a\u043e\u0439."
       ]
      },
      {
       "output_type": "stream",
       "stream": "stdout",
       "text": [
        "\n",
        "Looked up \u0421\u043e\u043a\u043e\u043b."
       ]
      },
      {
       "output_type": "stream",
       "stream": "stdout",
       "text": [
        "\n",
        "Querying alternate name \u0414\u0435\u0434\u0438\u043b\u043e\u0432\u043e"
       ]
      },
      {
       "output_type": "stream",
       "stream": "stdout",
       "text": [
        "\n",
        "Looked up \u0414\u0435\u0434\u0438\u043b\u043e\u0432."
       ]
      },
      {
       "output_type": "stream",
       "stream": "stdout",
       "text": [
        "\n",
        "Looked up \u0422\u0443\u0440\u0435\u0446\u043a\u0430\u044f."
       ]
      },
      {
       "output_type": "stream",
       "stream": "stdout",
       "text": [
        "\n",
        "Querying alternate name \u0426\u044b\u0431\u0443\u043b\u0435\u0432\u043e"
       ]
      },
      {
       "output_type": "stream",
       "stream": "stdout",
       "text": [
        "\n",
        "Looked up \u0426\u044b\u0431\u0443\u043b\u0435\u0432."
       ]
      },
      {
       "output_type": "stream",
       "stream": "stdout",
       "text": [
        "\n",
        "Looked up \u041c\u043e\u0446\u044b\u043d\u0430."
       ]
      },
      {
       "output_type": "stream",
       "stream": "stdout",
       "text": [
        "\n",
        "Looked up \u041f\u0435\u0442\u0440\u043e\u0432\u043a\u0438."
       ]
      },
      {
       "output_type": "stream",
       "stream": "stdout",
       "text": [
        "\n",
        "Looked up \u041a\u0430\u0440\u0430\u0441\u0443 - \u0411\u0430\u0437\u0430\u0440."
       ]
      },
      {
       "output_type": "stream",
       "stream": "stdout",
       "text": [
        "\n",
        "Looked up \u0426\u0430\u0440\u0438\u0447\u0435\u043d\u043a\u0430."
       ]
      },
      {
       "output_type": "stream",
       "stream": "stdout",
       "text": [
        "\n",
        "Looked up \u041a\u0430\u043c\u0435\u043d\u0435\u0446."
       ]
      },
      {
       "output_type": "stream",
       "stream": "stdout",
       "text": [
        "\n",
        "Looked up \u0414\u043c\u0438\u0442\u0440\u043e\u0432\u043a\u0430."
       ]
      },
      {
       "output_type": "stream",
       "stream": "stdout",
       "text": [
        "\n",
        "Looked up \u0411\u0435\u0440\u043a\u0443\u043d\u043e\u0432\u0430."
       ]
      },
      {
       "output_type": "stream",
       "stream": "stdout",
       "text": [
        "\n",
        "Looked up \u042f\u0437\u044b\u043a\u043e\u0432\u043e."
       ]
      },
      {
       "output_type": "stream",
       "stream": "stdout",
       "text": [
        "\n",
        "Querying alternate name \u041d\u0443\u0440\u043e\u043c\u0441\u043a\u0438\u0439"
       ]
      },
      {
       "output_type": "stream",
       "stream": "stdout",
       "text": [
        "\n",
        "\u041d\u0443\u0440\u043e\u043c\u0441\u043a\u043e\u0439 was not found at max fuzz."
       ]
      },
      {
       "output_type": "stream",
       "stream": "stdout",
       "text": [
        "\n",
        "Looked up \u041d\u0443\u0440\u043e\u043c\u0441\u043a\u043e\u0439."
       ]
      },
      {
       "output_type": "stream",
       "stream": "stdout",
       "text": [
        "\n",
        "Querying alternate name \u0413\u043b\u0435\u043c\u044f\u0437\u043e\u0432\u043e"
       ]
      },
      {
       "output_type": "stream",
       "stream": "stdout",
       "text": [
        "\n",
        "Looked up \u0413\u043b\u0435\u043c\u044f\u0437\u043e\u0432."
       ]
      },
      {
       "output_type": "stream",
       "stream": "stdout",
       "text": [
        "\n",
        "Looked up \u041d\u043e\u0432\u044b\u0435 \u041c\u043b\u0438\u043d\u044b."
       ]
      },
      {
       "output_type": "stream",
       "stream": "stdout",
       "text": [
        "\n",
        "Looked up \u0413\u043e\u0440\u043e\u0434\u0438\u0449\u0435."
       ]
      },
      {
       "output_type": "stream",
       "stream": "stdout",
       "text": [
        "\n",
        "Looked up \u0413\u0440\u0435\u043c\u044f\u0447\u044c."
       ]
      },
      {
       "output_type": "stream",
       "stream": "stdout",
       "text": [
        "\n",
        "Looked up \u041a\u0443\u043f\u0435\u043d\u043a\u0430."
       ]
      },
      {
       "output_type": "stream",
       "stream": "stdout",
       "text": [
        "\n",
        "Querying alternate name \u041c\u043e\u0440\u043e\u043c\u0435\u0441\u043a"
       ]
      },
      {
       "output_type": "stream",
       "stream": "stdout",
       "text": [
        "\n",
        "Querying alternate name \u041c\u043e\u0440\u043e\u043c"
       ]
      },
      {
       "output_type": "stream",
       "stream": "stdout",
       "text": [
        "\n",
        "Looked up \u041c\u043e\u0440\u043e\u043c\u0441\u043a."
       ]
      },
      {
       "output_type": "stream",
       "stream": "stdout",
       "text": [
        "\n",
        "Looked up \u0413\u043e\u0440\u043e\u0434\u043e\u043a."
       ]
      },
      {
       "output_type": "stream",
       "stream": "stdout",
       "text": [
        "\n",
        "Querying alternate name \u0415\u043b\u0438\u043c\u0441\u043a\u0438\u0439"
       ]
      },
      {
       "output_type": "stream",
       "stream": "stdout",
       "text": [
        "\n",
        "\u0415\u043b\u0438\u043c\u0441\u043a\u043e\u0439 was not found at max fuzz."
       ]
      },
      {
       "output_type": "stream",
       "stream": "stdout",
       "text": [
        "\n",
        "Looked up \u0415\u043b\u0438\u043c\u0441\u043a\u043e\u0439."
       ]
      },
      {
       "output_type": "stream",
       "stream": "stdout",
       "text": [
        "\n",
        "Looked up \u0421\u0435\u0431\u0435\u0436."
       ]
      },
      {
       "output_type": "stream",
       "stream": "stdout",
       "text": [
        "\n",
        "Querying alternate name \u041b\u043e\u043f\u043e\u0442\u043e\u0432\u043e"
       ]
      },
      {
       "output_type": "stream",
       "stream": "stdout",
       "text": [
        "\n",
        "Looked up \u041b\u043e\u043f\u043e\u0442\u043e\u0432."
       ]
      },
      {
       "output_type": "stream",
       "stream": "stdout",
       "text": [
        "\n",
        "Looked up \u0411\u0443\u0434\u0438\u0447\u044c."
       ]
      },
      {
       "output_type": "stream",
       "stream": "stdout",
       "text": [
        "\n",
        "Looked up \u041b\u0443\u043a\u043e\u043c\u043b\u044f."
       ]
      },
      {
       "output_type": "stream",
       "stream": "stdout",
       "text": [
        "\n",
        "Looked up \u041e\u0441\u0442\u0440\u043e\u0432\u043d\u044f."
       ]
      },
      {
       "output_type": "stream",
       "stream": "stdout",
       "text": [
        "\n",
        "Looked up \u042f\u043a\u0443\u0442\u0441\u043a."
       ]
      },
      {
       "output_type": "stream",
       "stream": "stdout",
       "text": [
        "\n",
        "Looked up \u0421\u0432\u0435\u0440\u0436\u0438\u043d."
       ]
      },
      {
       "output_type": "stream",
       "stream": "stdout",
       "text": [
        "\n",
        "Looked up \u041e\u0440\u043b\u043e\u0432."
       ]
      },
      {
       "output_type": "stream",
       "stream": "stdout",
       "text": [
        "\n",
        "Looked up \u041a\u0438\u0442\u0430\u0439 - \u0413\u043e\u0440\u043e\u0434\u043e\u043a."
       ]
      },
      {
       "output_type": "stream",
       "stream": "stdout",
       "text": [
        "\n",
        "Looked up \u0413\u043e\u043c\u043b\u044f."
       ]
      },
      {
       "output_type": "stream",
       "stream": "stdout",
       "text": [
        "\n",
        "Looked up \u041a\u0440\u0438\u0432\u043e\u043d\u0430\u0432\u043e\u043b\u043e\u0446\u043a\u0430\u044f."
       ]
      },
      {
       "output_type": "stream",
       "stream": "stdout",
       "text": [
        "\n",
        "Looked up \u041a\u043e\u0437\u043b\u043e\u0432\u043a\u0430."
       ]
      },
      {
       "output_type": "stream",
       "stream": "stdout",
       "text": [
        "\n",
        "Looked up \u0421\u043f\u0430\u0441."
       ]
      },
      {
       "output_type": "stream",
       "stream": "stdout",
       "text": [
        "\n",
        "Looked up \u042f\u0440\u0435\u0441\u043a\u0438."
       ]
      },
      {
       "output_type": "stream",
       "stream": "stdout",
       "text": [
        "\n",
        "Looked up \u0421\u0435\u043c\u0435\u043d\u0434\u0435\u0435\u0432\u043e."
       ]
      },
      {
       "output_type": "stream",
       "stream": "stdout",
       "text": [
        "\n",
        "Looked up \u0413\u0430\u0433\u0430\u0440\u0438\u043d\u043e."
       ]
      },
      {
       "output_type": "stream",
       "stream": "stdout",
       "text": [
        "\n",
        "Looked up \u041a\u0430\u0440\u043f\u043e\u0432\u043a\u0430."
       ]
      },
      {
       "output_type": "stream",
       "stream": "stdout",
       "text": [
        "\n",
        "Querying alternate name \u041a\u0440\u0430\u0441\u043d\u043e\u043a\u0430\u043c\u0435\u043d\u0441\u043a\u0438\u0439"
       ]
      },
      {
       "output_type": "stream",
       "stream": "stdout",
       "text": [
        "\n",
        "Looked up \u041a\u0440\u0430\u0441\u043d\u043e\u043a\u0430\u043c\u0435\u043d\u0441\u043a\u043e\u0439."
       ]
      },
      {
       "output_type": "stream",
       "stream": "stdout",
       "text": [
        "\n",
        "Looked up \u041c\u0430\u0441\u043b\u043e\u0432\u0438\u0447\u0438."
       ]
      },
      {
       "output_type": "stream",
       "stream": "stdout",
       "text": [
        "\n",
        "Looked up \u0421\u0430\u0440\u0430\u043d\u0441\u043a."
       ]
      },
      {
       "output_type": "stream",
       "stream": "stdout",
       "text": [
        "\n",
        "Looked up \u0421\u043b\u043e\u043b\u044c\u0446\u0430 \u041a\u043e\u043b\u0435\u0441\u043d\u0430\u044f."
       ]
      },
      {
       "output_type": "stream",
       "stream": "stdout",
       "text": [
        "\n",
        "Looked up \u041c\u0438\u0445\u0430\u0439\u043b\u043e\u0432\u043a\u0430."
       ]
      },
      {
       "output_type": "stream",
       "stream": "stdout",
       "text": [
        "\n",
        "Looked up \u0421\u0442\u0430\u043b\u0435\u0440\u043e\u0432\u0447\u0438\u0437\u043d\u0430."
       ]
      },
      {
       "output_type": "stream",
       "stream": "stdout",
       "text": [
        "\n",
        "Looked up \u0418\u0441\u0435\u0442\u0441\u043a\u0430\u044f."
       ]
      },
      {
       "output_type": "stream",
       "stream": "stdout",
       "text": [
        "\n",
        "Querying alternate name \u041e\u0434\u0440\u0438\u043d \u041d\u0438\u043a\u043e\u043b\u0430\u0435\u0432\u0441\u043a\u0438\u0439"
       ]
      },
      {
       "output_type": "stream",
       "stream": "stdout",
       "text": [
        "\n",
        "\u041e\u0434\u0440\u0438\u043d \u041d\u0438\u043a\u043e\u043b\u0430\u0435\u0432\u0441\u043a\u043e\u0439 was not found at max fuzz."
       ]
      },
      {
       "output_type": "stream",
       "stream": "stdout",
       "text": [
        "\n",
        "Looked up \u041e\u0434\u0440\u0438\u043d \u041d\u0438\u043a\u043e\u043b\u0430\u0435\u0432\u0441\u043a\u043e\u0439."
       ]
      },
      {
       "output_type": "stream",
       "stream": "stdout",
       "text": [
        "\n",
        "Looked up \u0423\u0437\u0435\u043b\u044c."
       ]
      },
      {
       "output_type": "stream",
       "stream": "stdout",
       "text": [
        "\n",
        "Looked up \u041f\u043e\u043a\u0440\u043e\u0432\u0441\u043a\u043e\u0435."
       ]
      },
      {
       "output_type": "stream",
       "stream": "stdout",
       "text": [
        "\n",
        "Looked up \u0411\u043e\u0440\u043e\u043c\u0434\u044f."
       ]
      },
      {
       "output_type": "stream",
       "stream": "stdout",
       "text": [
        "\n",
        "Querying alternate name \u041a\u0430\u0437\u0430\u043d\u0441\u043a\u0438\u0439 \u0411\u043e\u0433\u043e\u0440\u043e\u0434\u0438\u0446\u043a\u0438\u0439"
       ]
      },
      {
       "output_type": "stream",
       "stream": "stdout",
       "text": [
        "\n",
        "Looked up \u041a\u0430\u0437\u0430\u043d\u0441\u043a\u043e\u0439 \u0411\u043e\u0433\u043e\u0440\u043e\u0434\u0438\u0446\u043a\u043e\u0439."
       ]
      },
      {
       "output_type": "stream",
       "stream": "stdout",
       "text": [
        "\n",
        "Looked up \u041f\u043b\u043e\u0445\u043e\u043d\u0430."
       ]
      },
      {
       "output_type": "stream",
       "stream": "stdout",
       "text": [
        "\n",
        "Looked up \u0411\u0430\u0441\u0430\u043d\u044c."
       ]
      },
      {
       "output_type": "stream",
       "stream": "stdout",
       "text": [
        "\n",
        "Looked up \u041a\u043e\u0440\u043e\u0432\u0430\u0439."
       ]
      },
      {
       "output_type": "stream",
       "stream": "stdout",
       "text": [
        "\n",
        "Querying alternate name \u041b\u0430\u0434\u0438\u043d\u0441\u043a\u0438\u0439"
       ]
      },
      {
       "output_type": "stream",
       "stream": "stdout",
       "text": [
        "\n",
        "Looked up \u041b\u0430\u0434\u0438\u043d\u0441\u043a\u043e\u0439."
       ]
      },
      {
       "output_type": "stream",
       "stream": "stdout",
       "text": [
        "\n",
        "Looked up \u041f\u043e\u0434\u0432\u043e\u0440\u0433\u0430\u043b\u044c\u0441\u043a\u043e\u0435."
       ]
      },
      {
       "output_type": "stream",
       "stream": "stdout",
       "text": [
        "\n",
        "Querying alternate name \u041c\u0435\u0445\u043e\u043d\u0441\u043a\u0438\u0439"
       ]
      },
      {
       "output_type": "stream",
       "stream": "stdout",
       "text": [
        "\n",
        "Looked up \u041c\u0435\u0445\u043e\u043d\u0441\u043a\u043e\u0439."
       ]
      },
      {
       "output_type": "stream",
       "stream": "stdout",
       "text": [
        "\n",
        "Looked up \u041e\u0441\u0442\u0440\u0430\u043c\u044c\u0435\u0432\u043e."
       ]
      },
      {
       "output_type": "stream",
       "stream": "stdout",
       "text": [
        "\n",
        "Querying alternate name \u0421\u0432\u0438\u043d\u0441\u043a\u0438\u0439"
       ]
      },
      {
       "output_type": "stream",
       "stream": "stdout",
       "text": [
        "\n",
        "Looked up \u0421\u0432\u0438\u043d\u0441\u043a\u043e\u0439."
       ]
      },
      {
       "output_type": "stream",
       "stream": "stdout",
       "text": [
        "\n",
        "Looked up \u0414\u043c\u0438\u0442\u0440\u043e\u0432\u0441\u043a\u0430\u044f."
       ]
      },
      {
       "output_type": "stream",
       "stream": "stdout",
       "text": [
        "\n",
        "Looked up \u0421\u0432\u044f\u0442\u043e\u0435 \u041c\u0435\u0441\u0442\u043e."
       ]
      },
      {
       "output_type": "stream",
       "stream": "stdout",
       "text": [
        "\n",
        "Looked up \u041b\u0430\u043f\u0441\u0442\u0440\u0430\u043d\u0434."
       ]
      },
      {
       "output_type": "stream",
       "stream": "stdout",
       "text": [
        "\n",
        "Looked up \u0418\u0437\u043c\u0430\u0439\u043b\u043e\u0432\u043e."
       ]
      },
      {
       "output_type": "stream",
       "stream": "stdout",
       "text": [
        "\n",
        "Looked up \u0422\u0438\u0445\u043e\u043d\u043e\u0432\u0430."
       ]
      },
      {
       "output_type": "stream",
       "stream": "stdout",
       "text": [
        "\n",
        "Looked up \u041c\u0435\u0440\u0435\u0445\u0432\u0430."
       ]
      },
      {
       "output_type": "stream",
       "stream": "stdout",
       "text": [
        "\n",
        "Looked up \u0420\u0430\u0442\u0441\u0431\u0443\u0440\u0433."
       ]
      },
      {
       "output_type": "stream",
       "stream": "stdout",
       "text": [
        "\n",
        "Querying alternate name \u041a\u0440\u0435\u043c\u0435\u043d\u043d\u0438\u0439"
       ]
      },
      {
       "output_type": "stream",
       "stream": "stdout",
       "text": [
        "\n",
        "Looked up \u041a\u0440\u0435\u043c\u0435\u043d\u043d\u043e\u0439."
       ]
      },
      {
       "output_type": "stream",
       "stream": "stdout",
       "text": [
        "\n",
        "Looked up \u0420\u044b\u0436\u043a\u043e\u0432\u043e."
       ]
      },
      {
       "output_type": "stream",
       "stream": "stdout",
       "text": [
        "\n",
        "Querying alternate name \u0411\u0435\u043b\u043e\u0437\u0435\u0440\u0441\u043a\u0438\u0439 \u041a\u0438\u0440\u0438\u043b\u043e\u0432"
       ]
      },
      {
       "output_type": "stream",
       "stream": "stdout",
       "text": [
        "\n",
        "Querying alternate name \u0411\u0435\u043b\u043e\u0437\u0435\u0440\u0441\u043a\u043e\u0439 \u041a\u0438\u0440\u0438\u043b\u043e\u0432\u043e"
       ]
      },
      {
       "output_type": "stream",
       "stream": "stdout",
       "text": [
        "\n",
        "Looked up \u0411\u0435\u043b\u043e\u0437\u0435\u0440\u0441\u043a\u043e\u0439 \u041a\u0438\u0440\u0438\u043b\u043e\u0432."
       ]
      },
      {
       "output_type": "stream",
       "stream": "stdout",
       "text": [
        "\n",
        "Looked up \u041a\u0440\u0430\u0441\u043d\u043e\u0435."
       ]
      },
      {
       "output_type": "stream",
       "stream": "stdout",
       "text": [
        "\n",
        "Looked up \u041e\u043d\u043e\u0444\u0440\u0438\u0435\u0432\u043e."
       ]
      },
      {
       "output_type": "stream",
       "stream": "stdout",
       "text": [
        "\n",
        "Looked up \u041e\u043b\u044b\u0448\u0430\u043d\u0430\u044f."
       ]
      },
      {
       "output_type": "stream",
       "stream": "stdout",
       "text": [
        "\n",
        "Looked up \u0411\u0435\u0440\u0435\u0437\u043e\u0432\u0446\u0430."
       ]
      },
      {
       "output_type": "stream",
       "stream": "stdout",
       "text": [
        "\n",
        "Looked up \u0410\u0440\u0445\u0430\u043d\u0433\u0435\u043b\u044c\u0441\u043a\u043e\u0435."
       ]
      },
      {
       "output_type": "stream",
       "stream": "stdout",
       "text": [
        "\n",
        "Looked up \u041c\u044f\u0433\u043a\u043e\u0435."
       ]
      },
      {
       "output_type": "stream",
       "stream": "stdout",
       "text": [
        "\n",
        "Looked up \u0412\u044f\u0437\u043e\u0432\u043d\u0430."
       ]
      },
      {
       "output_type": "stream",
       "stream": "stdout",
       "text": [
        "\n",
        "Looked up \u041e\u0440\u043b\u0438\u043a."
       ]
      },
      {
       "output_type": "stream",
       "stream": "stdout",
       "text": [
        "\n",
        "Looked up \u0418\u0447\u043d\u0430."
       ]
      },
      {
       "output_type": "stream",
       "stream": "stdout",
       "text": [
        "\n",
        "Looked up \u0425\u0430\u0442\u043e\u043c\u043b\u044c."
       ]
      },
      {
       "output_type": "stream",
       "stream": "stdout",
       "text": [
        "\n",
        "Looked up \u0413\u0440\u0435\u0431\u0435\u043d\u0438\u0448\u043a\u0438."
       ]
      },
      {
       "output_type": "stream",
       "stream": "stdout",
       "text": [
        "\n",
        "Looked up \u041a\u0443\u043c\u0437\u0435\u0440\u0441\u043a\u0430\u044f."
       ]
      },
      {
       "output_type": "stream",
       "stream": "stdout",
       "text": [
        "\n",
        "Looked up \u0421\u0438\u043d\u044f\u0432\u043a\u0438."
       ]
      },
      {
       "output_type": "stream",
       "stream": "stdout",
       "text": [
        "\n",
        "Looked up \u041a\u043e\u0441\u0442\u044e\u043a\u043e\u0432\u0438\u0447\u0438."
       ]
      },
      {
       "output_type": "stream",
       "stream": "stdout",
       "text": [
        "\n",
        "Looked up \u0411\u0430\u0445\u043c\u0430\u0447\u044c."
       ]
      },
      {
       "output_type": "stream",
       "stream": "stdout",
       "text": [
        "\n",
        "Looked up \u041c\u0430\u043a\u0430\u043b\u043e\u0432\u043e."
       ]
      },
      {
       "output_type": "stream",
       "stream": "stdout",
       "text": [
        "\n",
        "Looked up \u0421\u0430\u0432\u0438\u043d\u0438\u0446\u044b."
       ]
      },
      {
       "output_type": "stream",
       "stream": "stdout",
       "text": [
        "\n",
        "Querying alternate name \u0428\u0443\u043b\u0433\u0438\u043d"
       ]
      },
      {
       "output_type": "stream",
       "stream": "stdout",
       "text": [
        "\n",
        "Looked up \u0428\u0443\u043b\u0433\u0438\u043d\u0441\u043a."
       ]
      },
      {
       "output_type": "stream",
       "stream": "stdout",
       "text": [
        "\n",
        "Looked up \u041f\u0438\u0441\u0430\u0440\u0435\u0432\u043a\u0430."
       ]
      },
      {
       "output_type": "stream",
       "stream": "stdout",
       "text": [
        "\n",
        "Looked up \u041f\u043e\u0447\u0438\u043d\u043a\u0438."
       ]
      },
      {
       "output_type": "stream",
       "stream": "stdout",
       "text": [
        "\n",
        "Looked up \u0421\u0435\u0440\u0435\u0432\u043a\u0430."
       ]
      },
      {
       "output_type": "stream",
       "stream": "stdout",
       "text": [
        "\n",
        "\u0427\u0430\u0441\u043e\u0432\u043d\u044f \u0410\u043f\u043e\u0441\u0442\u043e\u043b\u0430 \u0424\u043e\u043c\u044b was not found at max fuzz."
       ]
      },
      {
       "output_type": "stream",
       "stream": "stdout",
       "text": [
        "\n",
        "Looked up \u0427\u0430\u0441\u043e\u0432\u043d\u044f \u0410\u043f\u043e\u0441\u0442\u043e\u043b\u0430 \u0424\u043e\u043c\u044b."
       ]
      },
      {
       "output_type": "stream",
       "stream": "stdout",
       "text": [
        "\n",
        "Looked up \u041d\u0435\u0432\u0435\u043b\u044c."
       ]
      },
      {
       "output_type": "stream",
       "stream": "stdout",
       "text": [
        "\n",
        "Querying alternate name \u041b\u0435\u0432\u043a\u0438\u0435\u0432\u043e"
       ]
      },
      {
       "output_type": "stream",
       "stream": "stdout",
       "text": [
        "\n",
        "Looked up \u041b\u0435\u0432\u043a\u0438\u0435\u0432."
       ]
      },
      {
       "output_type": "stream",
       "stream": "stdout",
       "text": [
        "\n",
        "Querying alternate name \u041a\u043e\u0433\u0443\u0435\u0432\u0430"
       ]
      },
      {
       "output_type": "stream",
       "stream": "stdout",
       "text": [
        "\n",
        "Looked up \u0421\u0442\u0430\u0440\u0446\u043e\u0432 \u0423\u0433\u043e\u043b."
       ]
      },
      {
       "output_type": "stream",
       "stream": "stdout",
       "text": [
        "\n",
        "Looked up \u041f\u0438\u0441\u0446\u043e\u0432\u043e."
       ]
      },
      {
       "output_type": "stream",
       "stream": "stdout",
       "text": [
        "\n",
        "Looked up \u042f\u0448."
       ]
      },
      {
       "output_type": "stream",
       "stream": "stdout",
       "text": [
        "\n",
        "Looked up \u041f\u0435\u0442\u0440\u043e\u043c\u0430."
       ]
      },
      {
       "output_type": "stream",
       "stream": "stdout",
       "text": [
        "\n",
        "Looked up \u0425\u043e\u043b\u043c \u0423 \u0421\u043f\u0430\u0441\u0430."
       ]
      },
      {
       "output_type": "stream",
       "stream": "stdout",
       "text": [
        "\n",
        "Looked up \u041a\u043e\u0431\u044b\u043b\u044f\u043a."
       ]
      },
      {
       "output_type": "stream",
       "stream": "stdout",
       "text": [
        "\n",
        "Looked up \u0418\u0432\u0430\u043d\u043e\u0432\u0446\u044b."
       ]
      },
      {
       "output_type": "stream",
       "stream": "stdout",
       "text": [
        "\n",
        "Querying alternate name \u0421\u0432\u0438\u0440\u0441\u043a\u0438\u0439 \u0410\u043b\u0435\u043a\u0441\u0430\u043d\u0434\u0440\u043e\u0432\u0441\u043a\u0438\u0439"
       ]
      },
      {
       "output_type": "stream",
       "stream": "stdout",
       "text": [
        "\n",
        "Looked up \u0421\u0432\u0438\u0440\u0441\u043a\u043e\u0439 \u0410\u043b\u0435\u043a\u0441\u0430\u043d\u0434\u0440\u043e\u0432\u0441\u043a\u043e\u0439."
       ]
      },
      {
       "output_type": "stream",
       "stream": "stdout",
       "text": [
        "\n",
        "Looked up \u0414\u0443\u0431\u043e\u0432\u043e\u0435."
       ]
      },
      {
       "output_type": "stream",
       "stream": "stdout",
       "text": [
        "\n",
        "Looked up \u0411\u0435\u0440\u043d\u0438\u043a\u0438."
       ]
      },
      {
       "output_type": "stream",
       "stream": "stdout",
       "text": [
        "\n",
        "Looked up \u0425\u043e\u043c\u0443\u0442\u0446\u044b."
       ]
      },
      {
       "output_type": "stream",
       "stream": "stdout",
       "text": [
        "\n",
        "Looked up \u0412\u044b\u0441\u043e\u043a\u043e\u0435."
       ]
      },
      {
       "output_type": "stream",
       "stream": "stdout",
       "text": [
        "\n",
        "Looked up \u0415\u0440\u0435\u043c\u0435\u043d\u0446\u043e\u0432\u043e."
       ]
      },
      {
       "output_type": "stream",
       "stream": "stdout",
       "text": [
        "\n",
        "Looked up \u0421\u0438\u043c."
       ]
      },
      {
       "output_type": "stream",
       "stream": "stdout",
       "text": [
        "\n",
        "Looked up \u0418\u0432\u0430\u043d\u043e\u0432\u043e."
       ]
      },
      {
       "output_type": "stream",
       "stream": "stdout",
       "text": [
        "\n",
        "Looked up \u0420\u0443\u0431\u0435\u0436\u043d\u0430\u044f."
       ]
      },
      {
       "output_type": "stream",
       "stream": "stdout",
       "text": [
        "\n",
        "Querying alternate name \u041e\u043a\u0443\u043d\u0435\u0432"
       ]
      },
      {
       "output_type": "stream",
       "stream": "stdout",
       "text": [
        "\n",
        "Looked up \u041e\u043a\u0443\u043d\u0435\u0432\u0441\u043a."
       ]
      },
      {
       "output_type": "stream",
       "stream": "stdout",
       "text": [
        "\n",
        "Looked up \u0428\u0438\u043f\u0438\u043d\u043e."
       ]
      },
      {
       "output_type": "stream",
       "stream": "stdout",
       "text": [
        "\n",
        "Looked up \u0412\u044b\u0448\u0433\u043e\u0440\u043e\u0434."
       ]
      },
      {
       "output_type": "stream",
       "stream": "stdout",
       "text": [
        "\n",
        "Looked up \u0427\u0438\u0433\u0438\u0440\u0438\u043d\u044a-\u0414\u0443\u0431\u0440\u043e\u0432\u0430."
       ]
      },
      {
       "output_type": "stream",
       "stream": "stdout",
       "text": [
        "\n",
        "Looked up \u041a\u0440\u0435\u0441\u043b\u0430\u0432\u043b\u044c."
       ]
      },
      {
       "output_type": "stream",
       "stream": "stdout",
       "text": [
        "\n",
        "Looked up \u0422\u0435\u043d\u0433\u0443\u0448\u0435\u0432\u0430."
       ]
      },
      {
       "output_type": "stream",
       "stream": "stdout",
       "text": [
        "\n",
        "Looked up \u041b\u0443\u0436\u043a\u0438."
       ]
      },
      {
       "output_type": "stream",
       "stream": "stdout",
       "text": [
        "\n",
        "Looked up \u0412\u0435\u0442\u043a\u0430."
       ]
      },
      {
       "output_type": "stream",
       "stream": "stdout",
       "text": [
        "\n",
        "Looked up \u0422\u0443\u0445\u0438."
       ]
      },
      {
       "output_type": "stream",
       "stream": "stdout",
       "text": [
        "\n",
        "Looked up \u0411\u0430\u0435\u0432\u043a\u0430."
       ]
      },
      {
       "output_type": "stream",
       "stream": "stdout",
       "text": [
        "\n",
        "Looked up \u041e\u0431\u0435\u0440 - \u041f\u0430\u043b\u0435\u043d."
       ]
      },
      {
       "output_type": "stream",
       "stream": "stdout",
       "text": [
        "\n",
        "Looked up \u041a\u0435\u043c\u0430\u0440\u044b."
       ]
      },
      {
       "output_type": "stream",
       "stream": "stdout",
       "text": [
        "\n",
        "\u0427\u0430\u0441\u043e\u0432\u043d\u044f \u0421\u0432. \u0414\u0443\u0445\u0430 was not found at max fuzz."
       ]
      },
      {
       "output_type": "stream",
       "stream": "stdout",
       "text": [
        "\n",
        "Looked up \u0427\u0430\u0441\u043e\u0432\u043d\u044f \u0421\u0432. \u0414\u0443\u0445\u0430."
       ]
      },
      {
       "output_type": "stream",
       "stream": "stdout",
       "text": [
        "\n",
        "Querying alternate name \u041a\u043e\u043a\u043e\u0432\u0438\u043d\u043e"
       ]
      },
      {
       "output_type": "stream",
       "stream": "stdout",
       "text": [
        "\n",
        "Looked up \u041a\u043e\u043a\u0432\u0438\u043d\u043e."
       ]
      },
      {
       "output_type": "stream",
       "stream": "stdout",
       "text": [
        "\n",
        "Looked up \u041d\u0430\u0441\u043f\u0438\u0449\u0438."
       ]
      },
      {
       "output_type": "stream",
       "stream": "stdout",
       "text": [
        "\n",
        "Looked up \u041c\u0448\u0430\u0433\u0430."
       ]
      },
      {
       "output_type": "stream",
       "stream": "stdout",
       "text": [
        "\n",
        "Looked up \u0411\u043e\u0433\u0430\u0447\u043a\u0430."
       ]
      },
      {
       "output_type": "stream",
       "stream": "stdout",
       "text": [
        "\n",
        "Looked up \u0412\u043e\u043b\u043e\u043a\u043e\u043f\u0438\u043d\u0435\u0436\u0441\u043a\u0430\u044f."
       ]
      },
      {
       "output_type": "stream",
       "stream": "stdout",
       "text": [
        "\n",
        "Querying alternate name \u0414\u0443\u0431\u0435\u0446\u043a\u0438\u0439"
       ]
      },
      {
       "output_type": "stream",
       "stream": "stdout",
       "text": [
        "\n",
        "Looked up \u0414\u0443\u0431\u0435\u0446\u043a\u043e\u0439."
       ]
      },
      {
       "output_type": "stream",
       "stream": "stdout",
       "text": [
        "\n",
        "Looked up \u041a\u0443\u043d\u0433\u0443\u0440."
       ]
      },
      {
       "output_type": "stream",
       "stream": "stdout",
       "text": [
        "\n",
        "Looked up \u0421\u0430\u0441\u043e\u0432\u043e."
       ]
      },
      {
       "output_type": "stream",
       "stream": "stdout",
       "text": [
        "\n",
        "Looked up \u0411\u043e\u0439\u043d\u044f."
       ]
      },
      {
       "output_type": "stream",
       "stream": "stdout",
       "text": [
        "\n",
        "Querying alternate name \u0422\u0430\u0440\u043d\u044f\u043d\u0441\u043a\u0438\u0439"
       ]
      },
      {
       "output_type": "stream",
       "stream": "stdout",
       "text": [
        "\n",
        "Looked up \u0422\u0430\u0440\u043d\u044f\u043d\u0441\u043a\u043e\u0439."
       ]
      },
      {
       "output_type": "stream",
       "stream": "stdout",
       "text": [
        "\n",
        "Looked up \u0411\u043e\u0433\u0430\u0442\u0438\u0449\u0435\u0431\u043e."
       ]
      },
      {
       "output_type": "stream",
       "stream": "stdout",
       "text": [
        "\n",
        "Looked up \u041f\u0435\u0442\u0440\u043e\u0432\u0441\u043a\u043e\u0435."
       ]
      },
      {
       "output_type": "stream",
       "stream": "stdout",
       "text": [
        "\n",
        "Querying alternate name \u0414\u0430\u0439\u043c\u0438\u043a"
       ]
      },
      {
       "output_type": "stream",
       "stream": "stdout",
       "text": [
        "\n",
        "Looked up \u0414\u0430\u0439\u043c\u0438\u043d\u043e."
       ]
      },
      {
       "output_type": "stream",
       "stream": "stdout",
       "text": [
        "\n",
        "Querying alternate name \u041c\u0438\u0445\u0430\u0439\u043b\u043e\u0432\u0441\u043a\u0438\u0439"
       ]
      },
      {
       "output_type": "stream",
       "stream": "stdout",
       "text": [
        "\n",
        "Looked up \u041c\u0438\u0445\u0430\u0439\u043b\u043e\u0432\u0441\u043a\u043e\u0439."
       ]
      },
      {
       "output_type": "stream",
       "stream": "stdout",
       "text": [
        "\n",
        "Looked up \u0410\u0432\u0436\u0435\u043d\u0441\u043a\u0430\u044f."
       ]
      },
      {
       "output_type": "stream",
       "stream": "stdout",
       "text": [
        "\n",
        "Querying alternate name \u041b\u0438\u0441\u043a\u0438\u0439"
       ]
      },
      {
       "output_type": "stream",
       "stream": "stdout",
       "text": [
        "\n",
        "Looked up \u041b\u0438\u0441\u043a\u043e\u0439."
       ]
      },
      {
       "output_type": "stream",
       "stream": "stdout",
       "text": [
        "\n",
        "\u0415\u0440\u0435\u043c\u0435\u0435\u0432\u043a\u0430 was not found at max fuzz."
       ]
      },
      {
       "output_type": "stream",
       "stream": "stdout",
       "text": [
        "\n",
        "Looked up \u0415\u0440\u0435\u043c\u0435\u0435\u0432\u043a\u0430."
       ]
      },
      {
       "output_type": "stream",
       "stream": "stdout",
       "text": [
        "\n",
        "Looked up \u041f\u0441\u043a\u043e\u0432."
       ]
      },
      {
       "output_type": "stream",
       "stream": "stdout",
       "text": [
        "\n",
        "Looked up \u041f\u0430\u0440\u0444\u0435\u043d\u044c\u0435\u0432\u0430."
       ]
      },
      {
       "output_type": "stream",
       "stream": "stdout",
       "text": [
        "\n",
        "Looked up \u0411\u0435\u043b\u043e\u043a\u0443\u0440\u0438\u043d\u0430."
       ]
      },
      {
       "output_type": "stream",
       "stream": "stdout",
       "text": [
        "\n",
        "Looked up \u041a\u043e\u0437\u043b\u043e\u0432."
       ]
      },
      {
       "output_type": "stream",
       "stream": "stdout",
       "text": [
        "\n",
        "Looked up \u0416\u043e\u0432\u043d\u0438\u043d."
       ]
      },
      {
       "output_type": "stream",
       "stream": "stdout",
       "text": [
        "\n",
        "Looked up \u041a\u0440\u044b\u043b\u0435\u0435\u0432\u043e."
       ]
      },
      {
       "output_type": "stream",
       "stream": "stdout",
       "text": [
        "\n",
        "Querying alternate name \u041a\u0438\u0442\u0430\u0439\u0441\u043a\u0438\u0439"
       ]
      },
      {
       "output_type": "stream",
       "stream": "stdout",
       "text": [
        "\n",
        "Looked up \u041a\u0438\u0442\u0430\u0439\u0441\u043a\u043e\u0439."
       ]
      },
      {
       "output_type": "stream",
       "stream": "stdout",
       "text": [
        "\n",
        "Looked up \u041a\u043e\u043f\u0440\u0438\u043d\u043e."
       ]
      },
      {
       "output_type": "stream",
       "stream": "stdout",
       "text": [
        "\n",
        "Looked up \u0421\u044b\u0437\u0440\u0430\u043d\u044c."
       ]
      },
      {
       "output_type": "stream",
       "stream": "stdout",
       "text": [
        "\n",
        "Looked up \u0413\u0440\u0443\u043d\u044c."
       ]
      },
      {
       "output_type": "stream",
       "stream": "stdout",
       "text": [
        "\n",
        "Looked up \u0411\u0435\u0437\u0433\u0438\u043d\u043e\u0432\u043a\u0430."
       ]
      },
      {
       "output_type": "stream",
       "stream": "stdout",
       "text": [
        "\n",
        "Looked up \u0421\u0430\u0432\u0438\u043d \u0421\u0442\u043e\u0440\u043e\u0436\u0435\u0432\u0441\u043a\u0438\u0439."
       ]
      },
      {
       "output_type": "stream",
       "stream": "stdout",
       "text": [
        "\n",
        "Querying alternate name \u0410\u0432\u0440\u0430\u043c\u0438\u0435\u0432\u043e"
       ]
      },
      {
       "output_type": "stream",
       "stream": "stdout",
       "text": [
        "\n",
        "Looked up \u0410\u0432\u0440\u0430\u043c\u0438\u0435\u0432."
       ]
      },
      {
       "output_type": "stream",
       "stream": "stdout",
       "text": [
        "\n",
        "Looked up \u0414\u0440\u0438\u0446\u0430\u043d\u044b."
       ]
      },
      {
       "output_type": "stream",
       "stream": "stdout",
       "text": [
        "\n",
        "Looked up \u041e\u043f\u043e\u0448\u043d\u043e\u0435."
       ]
      },
      {
       "output_type": "stream",
       "stream": "stdout",
       "text": [
        "\n",
        "Looked up \u041f\u043e\u0433\u0430\u0440\u044c."
       ]
      },
      {
       "output_type": "stream",
       "stream": "stdout",
       "text": [
        "\n",
        "Looked up \u041c\u0430\u044f\u0447\u043a\u0430."
       ]
      },
      {
       "output_type": "stream",
       "stream": "stdout",
       "text": [
        "\n",
        "Looked up \u0421\u043b\u0430\u0432\u0433\u043e\u0440\u043e\u0434\u043a\u0430."
       ]
      },
      {
       "output_type": "stream",
       "stream": "stdout",
       "text": [
        "\n",
        "Looked up \u0417\u043c\u0435\u0435\u0432\u0435."
       ]
      },
      {
       "output_type": "stream",
       "stream": "stdout",
       "text": [
        "\n",
        "Looked up \u0412\u043e\u043b\u0447\u044c\u044f."
       ]
      },
      {
       "output_type": "stream",
       "stream": "stdout",
       "text": [
        "\n",
        "Looked up \u0410\u043f\u0438\u0447\u0435\u0440\u0441\u043a\u0430\u044f."
       ]
      },
      {
       "output_type": "stream",
       "stream": "stdout",
       "text": [
        "\n",
        "Looked up \u041b\u0430\u043a\u043d\u043e\u0432\u0430\u0442\u044c."
       ]
      },
      {
       "output_type": "stream",
       "stream": "stdout",
       "text": [
        "\n",
        "Looked up \u042f\u0440\u043e\u0441\u043b\u0430\u0432\u043b\u044c."
       ]
      },
      {
       "output_type": "stream",
       "stream": "stdout",
       "text": [
        "\n",
        "Looked up \u041a\u0440\u0438\u0432\u0446\u043e."
       ]
      },
      {
       "output_type": "stream",
       "stream": "stdout",
       "text": [
        "\n",
        "Looked up \u041a\u0440\u0430\u0441\u043d\u043e\u0435."
       ]
      },
      {
       "output_type": "stream",
       "stream": "stdout",
       "text": [
        "\n",
        "Looked up \u041e\u0441\u043a\u0438\u043d\u043e."
       ]
      },
      {
       "output_type": "stream",
       "stream": "stdout",
       "text": [
        "\n",
        "Looked up \u0421\u0438\u043c\u0435\u043e\u043d\u043e\u0432\u043a\u0430."
       ]
      },
      {
       "output_type": "stream",
       "stream": "stdout",
       "text": [
        "\n",
        "Looked up \u0411\u0430\u0442\u0440\u0430\u043a."
       ]
      },
      {
       "output_type": "stream",
       "stream": "stdout",
       "text": [
        "\n",
        "Looked up \u0422\u0435\u0440\u044f\u0435\u0432\u043e."
       ]
      },
      {
       "output_type": "stream",
       "stream": "stdout",
       "text": [
        "\n",
        "Looked up \u0418\u0441\u0442\u0430\u043b\u0435\u043d\u0430."
       ]
      },
      {
       "output_type": "stream",
       "stream": "stdout",
       "text": [
        "\n",
        "Looked up \u0420\u043e\u043f\u0441\u043a."
       ]
      },
      {
       "output_type": "stream",
       "stream": "stdout",
       "text": [
        "\n",
        "Looked up \u0410\u0434\u043e\u0432\u0430\u0442\u043e\u0432\u043e."
       ]
      },
      {
       "output_type": "stream",
       "stream": "stdout",
       "text": [
        "\n",
        "Querying alternate name \u0411\u0443\u0440\u0435\u0446\u043a\u0438\u0439"
       ]
      },
      {
       "output_type": "stream",
       "stream": "stdout",
       "text": [
        "\n",
        "Looked up \u0411\u0443\u0440\u0435\u0446\u043a\u043e\u0439."
       ]
      },
      {
       "output_type": "stream",
       "stream": "stdout",
       "text": [
        "\n",
        "Looked up \u0418\u0433\u0443\u043c\u043d\u043e\u0432\u043e."
       ]
      },
      {
       "output_type": "stream",
       "stream": "stdout",
       "text": [
        "\n",
        "Querying alternate name \u041f\u0435\u0440\u0435\u0432\u0438\u0446\u043a\u0438\u0439 \u0422\u043e\u0440\u0436\u043e\u043a"
       ]
      },
      {
       "output_type": "stream",
       "stream": "stdout",
       "text": [
        "\n",
        "Looked up \u041f\u0435\u0440\u0435\u0432\u0438\u0446\u043a\u043e\u0439 \u0422\u043e\u0440\u0436\u043e\u043a."
       ]
      },
      {
       "output_type": "stream",
       "stream": "stdout",
       "text": [
        "\n",
        "Looked up \u041f\u0430\u0432\u043b\u043e\u0432\u043e."
       ]
      },
      {
       "output_type": "stream",
       "stream": "stdout",
       "text": [
        "\n",
        "Looked up \u041e\u0434\u0438\u043d\u0446\u043e\u0432\u043e."
       ]
      },
      {
       "output_type": "stream",
       "stream": "stdout",
       "text": [
        "\n",
        "Querying alternate name \u0423\u0440\u0435\u043d\u044c"
       ]
      },
      {
       "output_type": "stream",
       "stream": "stdout",
       "text": [
        "\n",
        "Looked up \u0422\u0440\u0435\u0441\u0432\u044f\u0442\u0441\u043a\u043e\u0435."
       ]
      },
      {
       "output_type": "stream",
       "stream": "stdout",
       "text": [
        "\n",
        "Looked up \u0413\u043e\u0440\u043e\u0434\u043d\u044f."
       ]
      },
      {
       "output_type": "stream",
       "stream": "stdout",
       "text": [
        "\n",
        "Looked up \u041f\u043e\u043a\u0440\u043e\u0432\u0441\u043a\u043e\u0435."
       ]
      },
      {
       "output_type": "stream",
       "stream": "stdout",
       "text": [
        "\n",
        "Looked up \u041f\u0435\u0442\u0440\u043e\u0432\u0441\u043a\u0430\u044f."
       ]
      },
      {
       "output_type": "stream",
       "stream": "stdout",
       "text": [
        "\n",
        "Looked up \u041c\u0438\u0436\u0438\u0440\u0438\u0447\u044c."
       ]
      },
      {
       "output_type": "stream",
       "stream": "stdout",
       "text": [
        "\n",
        "Looked up \u041f\u043e\u0432\u043e\u0434\u043d\u0435\u0432\u043e."
       ]
      },
      {
       "output_type": "stream",
       "stream": "stdout",
       "text": [
        "\n",
        "Looked up \u041b\u0438\u043f\u043e\u0432\u0441\u043a\u043e\u0435."
       ]
      },
      {
       "output_type": "stream",
       "stream": "stdout",
       "text": [
        "\n",
        "Looked up \u0422\u0430\u0442\u0430\u0440\u0441\u043a."
       ]
      },
      {
       "output_type": "stream",
       "stream": "stdout",
       "text": [
        "\n",
        "Looked up \u0412\u044b\u0448\u0433\u043e\u0440\u043e\u0434."
       ]
      },
      {
       "output_type": "stream",
       "stream": "stdout",
       "text": [
        "\n",
        "Looked up \u0411\u0440\u043e\u043d\u043d\u0438\u0446\u044b."
       ]
      },
      {
       "output_type": "stream",
       "stream": "stdout",
       "text": [
        "\n",
        "Looked up \u0413\u0443\u0441\u0442\u0438\u043d\u043e\u0432\u043e."
       ]
      },
      {
       "output_type": "stream",
       "stream": "stdout",
       "text": [
        "\n",
        "Querying alternate name \u0422\u0435\u0448\u0435\u0432\u0441\u043a\u0438\u0439"
       ]
      },
      {
       "output_type": "stream",
       "stream": "stdout",
       "text": [
        "\n",
        "Looked up \u0422\u0435\u0448\u0435\u0432\u0441\u043a\u043e\u0439."
       ]
      },
      {
       "output_type": "stream",
       "stream": "stdout",
       "text": [
        "\n",
        "Looked up \u0418\u043d\u0436\u0430\u0432\u0435\u043d\u044c\u0435."
       ]
      },
      {
       "output_type": "stream",
       "stream": "stdout",
       "text": [
        "\n",
        "Looked up \u0412\u043e\u043b\u044c\u043d\u0430\u044f."
       ]
      },
      {
       "output_type": "stream",
       "stream": "stdout",
       "text": [
        "\n",
        "\u0423\u0442\u0432\u044b\u043c\u0441\u043a\u0430\u044f was not found at max fuzz."
       ]
      },
      {
       "output_type": "stream",
       "stream": "stdout",
       "text": [
        "\n",
        "Looked up \u0423\u0442\u0432\u044b\u043c\u0441\u043a\u0430\u044f."
       ]
      },
      {
       "output_type": "stream",
       "stream": "stdout",
       "text": [
        "\n",
        "Looked up \u041a\u043e\u043b\u044e\u043f\u0430\u043d\u043e\u0432\u043a\u0430."
       ]
      },
      {
       "output_type": "stream",
       "stream": "stdout",
       "text": [
        "\n",
        "Looked up \u0418\u0432\u0430\u043d\u043e\u0432\u0441\u043a\u043e\u0435."
       ]
      },
      {
       "output_type": "stream",
       "stream": "stdout",
       "text": [
        "\n",
        "Looked up \u0422\u0435\u0440\u0435\u0448\u043a\u043e\u0432\u043e."
       ]
      },
      {
       "output_type": "stream",
       "stream": "stdout",
       "text": [
        "\n",
        "Looked up \u041e\u0440\u0435\u0445\u043e\u0432\u043a\u0430."
       ]
      },
      {
       "output_type": "stream",
       "stream": "stdout",
       "text": [
        "\n",
        "Looked up \u0412\u043e\u043b\u044b\u043d\u0446\u044b."
       ]
      },
      {
       "output_type": "stream",
       "stream": "stdout",
       "text": [
        "\n",
        "Looked up \u0425\u0430\u0440\u044c\u043a\u043e\u0432."
       ]
      },
      {
       "output_type": "stream",
       "stream": "stdout",
       "text": [
        "\n",
        "Looked up \u041a\u043e\u043c\u043b\u0438\u0447\u043a\u0438."
       ]
      },
      {
       "output_type": "stream",
       "stream": "stdout",
       "text": [
        "\n",
        "Looked up \u0422\u0438\u0445\u043e\u043d\u043e\u0432\u0430."
       ]
      },
      {
       "output_type": "stream",
       "stream": "stdout",
       "text": [
        "\n",
        "Looked up \u041c\u0438\u0445\u0430\u0439\u043b\u043e\u0432\u043a\u0430."
       ]
      },
      {
       "output_type": "stream",
       "stream": "stdout",
       "text": [
        "\n",
        "Looked up \u0412\u044b\u0447\u0443\u0433\u0430."
       ]
      },
      {
       "output_type": "stream",
       "stream": "stdout",
       "text": [
        "\n",
        "Querying alternate name \u0427\u0435\u0440\u043d\u0435\u0435\u0432 \u041d\u0438\u043a\u043e\u043b\u0430\u0435\u0432\u0441\u043a\u0438\u0439"
       ]
      },
      {
       "output_type": "stream",
       "stream": "stdout",
       "text": [
        "\n",
        "Looked up \u0427\u0435\u0440\u043d\u0435\u0435\u0432 \u041d\u0438\u043a\u043e\u043b\u0430\u0435\u0432\u0441\u043a\u043e\u0439."
       ]
      },
      {
       "output_type": "stream",
       "stream": "stdout",
       "text": [
        "\n",
        "Looked up \u0424\u043b\u043e\u0440\u0438\u0449\u0435\u0432\u0430."
       ]
      },
      {
       "output_type": "stream",
       "stream": "stdout",
       "text": [
        "\n",
        "Looked up \u0426\u0435\u0432\u043b\u044f."
       ]
      },
      {
       "output_type": "stream",
       "stream": "stdout",
       "text": [
        "\n",
        "Looked up \u041f\u0443\u0442\u044f\u0442\u0438\u043d\u043e."
       ]
      },
      {
       "output_type": "stream",
       "stream": "stdout",
       "text": [
        "\n",
        "Looked up \u0414\u0443\u043d\u0438\u043b\u043e\u0432\u043e."
       ]
      },
      {
       "output_type": "stream",
       "stream": "stdout",
       "text": [
        "\n",
        "Querying alternate name \u0418\u043e\u0441\u0438\u0444\u043e\u0432\u043e"
       ]
      },
      {
       "output_type": "stream",
       "stream": "stdout",
       "text": [
        "\n",
        "Looked up \u0418\u043e\u0441\u0438\u0444\u043e\u0432."
       ]
      },
      {
       "output_type": "stream",
       "stream": "stdout",
       "text": [
        "\n",
        "Looked up \u041e\u043b\u0438\u0448\u0435\u0432\u043a\u0430."
       ]
      },
      {
       "output_type": "stream",
       "stream": "stdout",
       "text": [
        "\n",
        "Looked up \u0423\u0434\u0430."
       ]
      },
      {
       "output_type": "stream",
       "stream": "stdout",
       "text": [
        "\n",
        "Looked up \u0411\u043e\u0431\u044b\u043b\u0435\u0432\u0441\u043a\u043e\u0435."
       ]
      },
      {
       "output_type": "stream",
       "stream": "stdout",
       "text": [
        "\n",
        "Looked up \u0413\u0430\u0432\u0440\u0438\u043b\u043e\u0432\u0430."
       ]
      },
      {
       "output_type": "stream",
       "stream": "stdout",
       "text": [
        "\n",
        "Querying alternate name \u042f\u043a\u0438\u043c\u0446\u0430"
       ]
      },
      {
       "output_type": "stream",
       "stream": "stdout",
       "text": [
        "\n",
        "Looked up \u0423\u0445\u043e\u043b\u043e\u0432\u043e."
       ]
      },
      {
       "output_type": "stream",
       "stream": "stdout",
       "text": [
        "\n",
        "Looked up \u0421\u0442\u044b\u0440\u043d\u044f\u043d\u044c\u0438."
       ]
      },
      {
       "output_type": "stream",
       "stream": "stdout",
       "text": [
        "\n",
        "Looked up \u041a\u0430\u0434\u0438\u043d."
       ]
      },
      {
       "output_type": "stream",
       "stream": "stdout",
       "text": [
        "\n",
        "Looked up \u0411\u0435\u043b\u043e\u0446\u0435\u0440\u043a\u043e\u0432\u043a\u0430."
       ]
      },
      {
       "output_type": "stream",
       "stream": "stdout",
       "text": [
        "\n",
        "Looked up \u041c\u043e\u043b\u043e\u043a\u043e\u0432\u043e."
       ]
      },
      {
       "output_type": "stream",
       "stream": "stdout",
       "text": [
        "\n",
        "Querying alternate name \u041d\u043e\u0432\u0438\u0439 \u041e\u0441\u043a\u043e\u043b"
       ]
      },
      {
       "output_type": "stream",
       "stream": "stdout",
       "text": [
        "\n",
        "Looked up \u041d\u043e\u0432\u043e\u0439 \u041e\u0441\u043a\u043e\u043b."
       ]
      },
      {
       "output_type": "stream",
       "stream": "stdout",
       "text": [
        "\n",
        "Looked up \u041a\u0440\u0435\u0441\u0442\u0446\u044b."
       ]
      },
      {
       "output_type": "stream",
       "stream": "stdout",
       "text": [
        "\n",
        "Looked up \u041a\u0440\u0430\u0441\u043d\u043e\u0433\u043e\u0440\u0441\u043a\u0430\u044f."
       ]
      },
      {
       "output_type": "stream",
       "stream": "stdout",
       "text": [
        "\n",
        "Querying alternate name \u0418\u043e\u0441\u0438\u0444\u043e\u0432\u043e"
       ]
      },
      {
       "output_type": "stream",
       "stream": "stdout",
       "text": [
        "\n",
        "Looked up \u0418\u043e\u0441\u0438\u0444\u043e\u0432."
       ]
      },
      {
       "output_type": "stream",
       "stream": "stdout",
       "text": [
        "\n",
        "Looked up \u0428\u0438\u0448\u0430\u043a\u0438."
       ]
      },
      {
       "output_type": "stream",
       "stream": "stdout",
       "text": [
        "\n",
        "Looked up \u041a\u0438\u0434\u0435\u0448\u043a\u0438\u043d\u043e."
       ]
      },
      {
       "output_type": "stream",
       "stream": "stdout",
       "text": [
        "\n",
        "Looked up \u0422\u0443\u0433\u043b\u0438\u043d\u0441\u043a\u0430\u044f."
       ]
      },
      {
       "output_type": "stream",
       "stream": "stdout",
       "text": [
        "\n",
        "Looked up \u0418\u0433\u0440\u0438\u0449\u0438."
       ]
      },
      {
       "output_type": "stream",
       "stream": "stdout",
       "text": [
        "\n",
        "\u0424\u043b\u043e\u0440\u043e\u0432\u043e was not found at max fuzz."
       ]
      },
      {
       "output_type": "stream",
       "stream": "stdout",
       "text": [
        "\n",
        "Looked up \u0424\u043b\u043e\u0440\u043e\u0432\u043e."
       ]
      },
      {
       "output_type": "stream",
       "stream": "stdout",
       "text": [
        "\n",
        "Looked up \u041a\u0438\u0430\u0441\u043e\u0432\u043a\u0430."
       ]
      },
      {
       "output_type": "stream",
       "stream": "stdout",
       "text": [
        "\n",
        "Looked up \u0418\u0432\u0430\u043d\u043e\u0432\u043a\u0430."
       ]
      },
      {
       "output_type": "stream",
       "stream": "stdout",
       "text": [
        "\n",
        "Looked up \u041c\u0435\u0433\u0440\u0430."
       ]
      },
      {
       "output_type": "stream",
       "stream": "stdout",
       "text": [
        "\n",
        "Looked up \u041a\u043e\u0436\u0438\u043d\u043e."
       ]
      },
      {
       "output_type": "stream",
       "stream": "stdout",
       "text": [
        "\n",
        "Querying alternate name \u041f\u0430\u0444\u043d\u0443\u0442\u044c\u0435\u0432\u043e"
       ]
      },
      {
       "output_type": "stream",
       "stream": "stdout",
       "text": [
        "\n",
        "Looked up \u041f\u0430\u0444\u043d\u0443\u0442\u044c\u0435\u0432."
       ]
      },
      {
       "output_type": "stream",
       "stream": "stdout",
       "text": [
        "\n",
        "Looked up \u0428\u043e\u043a\u0438\u043d\u043e."
       ]
      },
      {
       "output_type": "stream",
       "stream": "stdout",
       "text": [
        "\n",
        "Querying alternate name \u0421\u0430\u043c\u0431\u043e\u0440\u0441\u043a\u0438\u0439"
       ]
      },
      {
       "output_type": "stream",
       "stream": "stdout",
       "text": [
        "\n",
        "Looked up \u0421\u0430\u043c\u0431\u043e\u0440\u0441\u043a\u043e\u0439."
       ]
      },
      {
       "output_type": "stream",
       "stream": "stdout",
       "text": [
        "\n",
        "Looked up \u041a\u0438\u0448\u0435\u043d\u044c\u043a\u0430."
       ]
      },
      {
       "output_type": "stream",
       "stream": "stdout",
       "text": [
        "\n",
        "Looked up \u0420\u0443\u0448\u043e\u043d\u0430."
       ]
      },
      {
       "output_type": "stream",
       "stream": "stdout",
       "text": [
        "\n",
        "Looked up \u041f\u044f\u0442\u043d\u0438\u0446\u043a\u043e\u0435."
       ]
      },
      {
       "output_type": "stream",
       "stream": "stdout",
       "text": [
        "\n",
        "Looked up \u041a\u043e\u043d\u0441\u0442\u0430\u043d\u0442\u0438\u043d\u043e\u0432\u043e."
       ]
      },
      {
       "output_type": "stream",
       "stream": "stdout",
       "text": [
        "\n",
        "Querying alternate name \u041c\u0430\u0448\u0435\u0432\u043e"
       ]
      },
      {
       "output_type": "stream",
       "stream": "stdout",
       "text": [
        "\n",
        "Looked up \u041c\u0430\u0448\u0435\u0432."
       ]
      },
      {
       "output_type": "stream",
       "stream": "stdout",
       "text": [
        "\n",
        "Looked up \u0410\u043a\u0441\u0435\u043b\u044c."
       ]
      },
      {
       "output_type": "stream",
       "stream": "stdout",
       "text": [
        "\n",
        "Looked up \u0422\u043e\u0440\u0436\u043e\u043a."
       ]
      },
      {
       "output_type": "stream",
       "stream": "stdout",
       "text": [
        "\n",
        "Looked up \u041c\u0430\u0441\u043b\u0435\u043d\u0441\u043a\u0430\u044f."
       ]
      },
      {
       "output_type": "stream",
       "stream": "stdout",
       "text": [
        "\n",
        "Looked up \u041d\u043e\u0432\u043e\u043d\u0438\u043a\u043e\u043b\u044c\u0441\u043a\u043e\u0435."
       ]
      },
      {
       "output_type": "stream",
       "stream": "stdout",
       "text": [
        "\n",
        "Looked up \u041f\u0435\u0440\u0435\u043a\u043e\u043f\u0435\u0446."
       ]
      },
      {
       "output_type": "stream",
       "stream": "stdout",
       "text": [
        "\n",
        "Looked up \u041c\u0443\u0440\u0430\u0442\u043e\u0432\u0430."
       ]
      },
      {
       "output_type": "stream",
       "stream": "stdout",
       "text": [
        "\n",
        "Looked up \u041a\u0440\u043e\u043b\u0435\u0432\u0435\u0446."
       ]
      },
      {
       "output_type": "stream",
       "stream": "stdout",
       "text": [
        "\n",
        "Querying alternate name \u0422\u0440\u043e\u0438\u0446\u043a\u0438\u0439"
       ]
      },
      {
       "output_type": "stream",
       "stream": "stdout",
       "text": [
        "\n",
        "Looked up \u0422\u0440\u043e\u0438\u0446\u043a\u043e\u0439."
       ]
      },
      {
       "output_type": "stream",
       "stream": "stdout",
       "text": [
        "\n",
        "Looked up \u041f\u0435\u043d\u0437\u0430."
       ]
      },
      {
       "output_type": "stream",
       "stream": "stdout",
       "text": [
        "\n",
        "Looked up \u0414\u0443\u043a\u0448\u0442\u0438\u043b\u0430\u0433."
       ]
      },
      {
       "output_type": "stream",
       "stream": "stdout",
       "text": [
        "\n",
        "Looked up \u041a\u0438\u0440\u0438\u043b\u043e\u0435\u043e."
       ]
      },
      {
       "output_type": "stream",
       "stream": "stdout",
       "text": [
        "\n",
        "Looked up \u0421\u0442\u0440\u0435\u043b\u0438\u0446\u0430."
       ]
      },
      {
       "output_type": "stream",
       "stream": "stdout",
       "text": [
        "\n",
        "Looked up \u041b\u0435\u0432\u044b\u0435 \u041b\u0430\u043c\u043a\u0438."
       ]
      },
      {
       "output_type": "stream",
       "stream": "stdout",
       "text": [
        "\n",
        "Looked up \u041c\u0443\u0440\u0437\u044b\u043d\u043a\u0430."
       ]
      },
      {
       "output_type": "stream",
       "stream": "stdout",
       "text": [
        "\n",
        "Looked up \u041b\u0435\u0436\u043d\u0435\u0432\u043e."
       ]
      },
      {
       "output_type": "stream",
       "stream": "stdout",
       "text": [
        "\n",
        "Looked up \u0418\u0432\u0430\u043d\u0433\u043e\u0440\u043e\u0434."
       ]
      },
      {
       "output_type": "stream",
       "stream": "stdout",
       "text": [
        "\n",
        "Querying alternate name \u0421\u044f\u043c\u0441\u043a\u0438\u0439"
       ]
      },
      {
       "output_type": "stream",
       "stream": "stdout",
       "text": [
        "\n",
        "Looked up \u0421\u044f\u043c\u0441\u043a\u043e\u0439."
       ]
      },
      {
       "output_type": "stream",
       "stream": "stdout",
       "text": [
        "\n",
        "Looked up \u0410\u043b\u0435\u0448\u043d\u044f."
       ]
      },
      {
       "output_type": "stream",
       "stream": "stdout",
       "text": [
        "\n",
        "Looked up \u0420\u0436\u0438\u0446\u0430."
       ]
      },
      {
       "output_type": "stream",
       "stream": "stdout",
       "text": [
        "\n",
        "Looked up \u0422\u0443\u0440\u043a\u0438."
       ]
      },
      {
       "output_type": "stream",
       "stream": "stdout",
       "text": [
        "\n",
        "Querying alternate name \u0413\u043d\u0438\u043b\u044c\u0441\u043a\u0438\u0439"
       ]
      },
      {
       "output_type": "stream",
       "stream": "stdout",
       "text": [
        "\n",
        "Looked up \u0413\u043d\u0438\u043b\u044c\u0441\u043a\u043e\u0439."
       ]
      },
      {
       "output_type": "stream",
       "stream": "stdout",
       "text": [
        "\n",
        "Looked up \u041d\u0430\u0440\u0432\u0430."
       ]
      },
      {
       "output_type": "stream",
       "stream": "stdout",
       "text": [
        "\n",
        "Querying alternate name \u0426\u0443\u0440\u0443\u0445\u0430\u0442\u0430\u0435\u0432\u0441\u043a\u0438\u0439"
       ]
      },
      {
       "output_type": "stream",
       "stream": "stdout",
       "text": [
        "\n",
        "\u0426\u0443\u0440\u0443\u0445\u0430\u0442\u0430\u0435\u0432\u0441\u043a\u043e\u0439 was not found at max fuzz."
       ]
      },
      {
       "output_type": "stream",
       "stream": "stdout",
       "text": [
        "\n",
        "Looked up \u0426\u0443\u0440\u0443\u0445\u0430\u0442\u0430\u0435\u0432\u0441\u043a\u043e\u0439."
       ]
      },
      {
       "output_type": "stream",
       "stream": "stdout",
       "text": [
        "\n",
        "Looked up \u0421\u0435\u0434\u043d\u0435\u0432."
       ]
      },
      {
       "output_type": "stream",
       "stream": "stdout",
       "text": [
        "\n",
        "Looked up \u0411\u043e\u0433\u043e\u044f\u0432\u043b\u0435\u043d\u0441\u043a\u0430\u044f."
       ]
      },
      {
       "output_type": "stream",
       "stream": "stdout",
       "text": [
        "\n",
        "Querying alternate name \u041a\u0440\u044e\u043a\u043e\u0432\u043e"
       ]
      },
      {
       "output_type": "stream",
       "stream": "stdout",
       "text": [
        "\n",
        "Looked up \u041a\u0440\u044e\u043a\u043e\u0432."
       ]
      },
      {
       "output_type": "stream",
       "stream": "stdout",
       "text": [
        "\n",
        "Querying alternate name \u0414\u0443\u0431\u043a\u043e\u0432\u043e"
       ]
      },
      {
       "output_type": "stream",
       "stream": "stdout",
       "text": [
        "\n",
        "Looked up \u0414\u0443\u0431\u043a\u043e\u0432."
       ]
      },
      {
       "output_type": "stream",
       "stream": "stdout",
       "text": [
        "\n",
        "Looked up \u041e\u043a\u0432\u0430\u0434\u0441\u043a\u0430\u044f."
       ]
      },
      {
       "output_type": "stream",
       "stream": "stdout",
       "text": [
        "\n",
        "Looked up \u041c\u0430\u0440\u043a\u0443\u0448\u0435\u0432\u0441\u043a\u0430\u044f."
       ]
      },
      {
       "output_type": "stream",
       "stream": "stdout",
       "text": [
        "\n",
        "Looked up \u0413\u043e\u0440\u043e\u0434\u0438\u0449\u0435."
       ]
      },
      {
       "output_type": "stream",
       "stream": "stdout",
       "text": [
        "\n",
        "\u0422\u0435\u043f\u043b\u043e\u0433\u043e\u0440\u0441\u043a\u0430\u044f \u0411\u043e\u0433\u043e\u0440\u043e\u0434\u0438\u0446\u043a\u0430\u044f was not found at max fuzz."
       ]
      },
      {
       "output_type": "stream",
       "stream": "stdout",
       "text": [
        "\n",
        "Looked up \u0422\u0435\u043f\u043b\u043e\u0433\u043e\u0440\u0441\u043a\u0430\u044f \u0411\u043e\u0433\u043e\u0440\u043e\u0434\u0438\u0446\u043a\u0430\u044f."
       ]
      },
      {
       "output_type": "stream",
       "stream": "stdout",
       "text": [
        "\n",
        "Querying alternate name \u041d\u0435\u0441\u0442\u0435\u0440\u043e\u0432\u0441\u043a\u0438\u0439"
       ]
      },
      {
       "output_type": "stream",
       "stream": "stdout",
       "text": [
        "\n",
        "Looked up \u041d\u0435\u0441\u0442\u0435\u0440\u043e\u0432\u0441\u043a\u043e\u0439."
       ]
      },
      {
       "output_type": "stream",
       "stream": "stdout",
       "text": [
        "\n",
        "Querying alternate name \u0428\u0430\u0440\u0442\u043e\u043b\u0438\u043d\u0441\u043a\u0438\u0439 \u041d\u0438\u043a\u043e\u043b\u0430\u0435\u0432\u0441\u043a\u0438\u0439"
       ]
      },
      {
       "output_type": "stream",
       "stream": "stdout",
       "text": [
        "\n",
        "\u0428\u0430\u0440\u0442\u043e\u043b\u0438\u043d\u0441\u043a\u043e\u0439 \u041d\u0438\u043a\u043e\u043b\u0430\u0435\u0432\u0441\u043a\u043e\u0439 was not found at max fuzz."
       ]
      },
      {
       "output_type": "stream",
       "stream": "stdout",
       "text": [
        "\n",
        "Looked up \u0428\u0430\u0440\u0442\u043e\u043b\u0438\u043d\u0441\u043a\u043e\u0439 \u041d\u0438\u043a\u043e\u043b\u0430\u0435\u0432\u0441\u043a\u043e\u0439."
       ]
      },
      {
       "output_type": "stream",
       "stream": "stdout",
       "text": [
        "\n",
        "Querying alternate name \u041f\u0430\u0432\u0448\u0438\u043d\u043e"
       ]
      },
      {
       "output_type": "stream",
       "stream": "stdout",
       "text": [
        "\n",
        "Looked up \u0413\u0430\u0442\u043d\u0438\u0446\u044b."
       ]
      },
      {
       "output_type": "stream",
       "stream": "stdout",
       "text": [
        "\n",
        "Looked up \u041b\u0438\u043c\u0430\u043d\u044c."
       ]
      },
      {
       "output_type": "stream",
       "stream": "stdout",
       "text": [
        "\n",
        "Looked up \u0417\u0430\u0440\u0443\u0431\u0438\u043d\u043e."
       ]
      },
      {
       "output_type": "stream",
       "stream": "stdout",
       "text": [
        "\n",
        "Looked up \u041a\u043e\u0440\u0435\u043d\u043d\u0430\u044f."
       ]
      },
      {
       "output_type": "stream",
       "stream": "stdout",
       "text": [
        "\n",
        "Looked up \u0413\u0435\u0440\u043c\u0430\u043d\u043e\u0432\u0430."
       ]
      },
      {
       "output_type": "stream",
       "stream": "stdout",
       "text": [
        "\n",
        "Looked up \u0410\u0441\u0430\u043a\u043e\u0432\u043e."
       ]
      },
      {
       "output_type": "stream",
       "stream": "stdout",
       "text": [
        "\n",
        "Looked up \u0423\u043d\u043a\u043e\u0441\u043e\u0432\u0430."
       ]
      },
      {
       "output_type": "stream",
       "stream": "stdout",
       "text": [
        "\n",
        "Querying alternate name \u0421\u0438\u043d\u0441\u043a\u0438\u0439"
       ]
      },
      {
       "output_type": "stream",
       "stream": "stdout",
       "text": [
        "\n",
        "Looked up \u0421\u0438\u043d\u0441\u043a\u043e\u0439."
       ]
      },
      {
       "output_type": "stream",
       "stream": "stdout",
       "text": [
        "\n",
        "Looked up \u0411\u0443\u0440\u043e\u043c\u043a\u0430."
       ]
      },
      {
       "output_type": "stream",
       "stream": "stdout",
       "text": [
        "\n",
        "Querying alternate name \u0414\u043e\u043c\u043d\u0438\u0446\u043a\u0438\u0439"
       ]
      },
      {
       "output_type": "stream",
       "stream": "stdout",
       "text": [
        "\n",
        "Looked up \u0414\u043e\u043c\u043d\u0438\u0446\u043a\u043e\u0439."
       ]
      },
      {
       "output_type": "stream",
       "stream": "stdout",
       "text": [
        "\n",
        "Querying alternate name \u0428\u0443\u043d\u0433\u0441\u043a\u0438\u0439"
       ]
      },
      {
       "output_type": "stream",
       "stream": "stdout",
       "text": [
        "\n",
        "Looked up \u0428\u0443\u043d\u0433\u0441\u043a\u043e\u0439."
       ]
      },
      {
       "output_type": "stream",
       "stream": "stdout",
       "text": [
        "\n",
        "Looked up \u041c\u0430\u043b\u044b\u043a\u043e\u0432\u0430."
       ]
      },
      {
       "output_type": "stream",
       "stream": "stdout",
       "text": [
        "\n",
        "Looked up \u041a\u043e\u0437\u043b\u043e\u0432\u0441\u043a\u0430\u044f."
       ]
      },
      {
       "output_type": "stream",
       "stream": "stdout",
       "text": [
        "\n",
        "Looked up \u0420\u043e\u043b\u043e\u0432\u0441\u043a\u043e\u0435."
       ]
      },
      {
       "output_type": "stream",
       "stream": "stdout",
       "text": [
        "\n",
        "Looked up \u041a\u0440\u0430\u0441\u043d\u043e\u043f\u043e\u043b\u044c."
       ]
      },
      {
       "output_type": "stream",
       "stream": "stdout",
       "text": [
        "\n",
        "Querying alternate name \u041a\u043e\u043b\u044b\u043c\u0441\u043a\u043e\u0435"
       ]
      },
      {
       "output_type": "stream",
       "stream": "stdout",
       "text": [
        "\n",
        "Looked up \u041a\u043e\u0432\u044b\u043c\u0441\u043a\u043e\u0435."
       ]
      },
      {
       "output_type": "stream",
       "stream": "stdout",
       "text": [
        "\n",
        "Querying alternate name \u041d\u043e\u0432\u0438\u0439 \u041c\u0438\u0440\u0433\u043e\u0440\u043e\u0434"
       ]
      },
      {
       "output_type": "stream",
       "stream": "stdout",
       "text": [
        "\n",
        "Looked up \u041d\u043e\u0432\u043e\u0439 \u041c\u0438\u0440\u0433\u043e\u0440\u043e\u0434."
       ]
      },
      {
       "output_type": "stream",
       "stream": "stdout",
       "text": [
        "\n",
        "Querying alternate name \u0411\u0430\u0440\u043a\u043e\u0432\u043e"
       ]
      },
      {
       "output_type": "stream",
       "stream": "stdout",
       "text": [
        "\n",
        "Looked up \u0411\u0430\u0440\u043a\u043e\u0432."
       ]
      },
      {
       "output_type": "stream",
       "stream": "stdout",
       "text": [
        "\n",
        "Looked up \u041a\u0438\u0441\u0442\u0440\u0443\u0441\u0430."
       ]
      },
      {
       "output_type": "stream",
       "stream": "stdout",
       "text": [
        "\n",
        "Querying alternate name \u0427\u0435\u0440\u043d\u0430\u0432"
       ]
      },
      {
       "output_type": "stream",
       "stream": "stdout",
       "text": [
        "\n",
        "Looked up \u0427\u0435\u0440\u043d\u0430\u0432\u0441\u043a."
       ]
      },
      {
       "output_type": "stream",
       "stream": "stdout",
       "text": [
        "\n",
        "Looked up \u041a\u0430\u0440\u043c."
       ]
      },
      {
       "output_type": "stream",
       "stream": "stdout",
       "text": [
        "\n",
        "Looked up \u0414\u0443\u0431\u0440\u043e\u0432\u043a\u0438."
       ]
      },
      {
       "output_type": "stream",
       "stream": "stdout",
       "text": [
        "\n",
        "Looked up \u0411\u043e\u0433\u043e\u044f\u0432\u043b\u0435\u043d\u0441\u043a\u0430\u044f."
       ]
      },
      {
       "output_type": "stream",
       "stream": "stdout",
       "text": [
        "\n",
        "Looked up \u0423\u043b\u043e\u043c."
       ]
      },
      {
       "output_type": "stream",
       "stream": "stdout",
       "text": [
        "\n",
        "Looked up \u0428\u0430\u0442\u0441\u043a."
       ]
      },
      {
       "output_type": "stream",
       "stream": "stdout",
       "text": [
        "\n",
        "Looked up \u0415\u0441\u043a\u0435."
       ]
      },
      {
       "output_type": "stream",
       "stream": "stdout",
       "text": [
        "\n",
        "Looked up \u0425\u0430\u044f\u0447\u0430."
       ]
      },
      {
       "output_type": "stream",
       "stream": "stdout",
       "text": [
        "\n",
        "Querying alternate name \u042f\u0431\u043b\u0443\u043d\u043e\u0432\u043e"
       ]
      },
      {
       "output_type": "stream",
       "stream": "stdout",
       "text": [
        "\n",
        "Looked up \u042f\u0431\u043b\u0443\u043d\u043e\u0432."
       ]
      },
      {
       "output_type": "stream",
       "stream": "stdout",
       "text": [
        "\n",
        "Looked up \u0412\u044b\u0441\u043e\u043a\u043e\u0435."
       ]
      },
      {
       "output_type": "stream",
       "stream": "stdout",
       "text": [
        "\n",
        "Looked up \u0411\u0435\u043b\u0438\u043a\u0438."
       ]
      },
      {
       "output_type": "stream",
       "stream": "stdout",
       "text": [
        "\n",
        "Looked up \u0420\u044b\u0437\u043d."
       ]
      },
      {
       "output_type": "stream",
       "stream": "stdout",
       "text": [
        "\n",
        "Looked up \u0421\u043e\u043b\u044c\u0446\u043e."
       ]
      },
      {
       "output_type": "stream",
       "stream": "stdout",
       "text": [
        "\n",
        "Looked up \u0411\u043e\u0440\u0430."
       ]
      },
      {
       "output_type": "stream",
       "stream": "stdout",
       "text": [
        "\n",
        "Looked up \u0410\u0440\u0433\u0430\u043c\u0430\u0447\u044c\u044f."
       ]
      },
      {
       "output_type": "stream",
       "stream": "stdout",
       "text": [
        "\n",
        "Looked up \u041b\u043e\u0442\u0441\u0448\u0438\u043d\u043e."
       ]
      },
      {
       "output_type": "stream",
       "stream": "stdout",
       "text": [
        "\n",
        "Looked up \u0411\u0435\u043b\u044b\u043d\u0438\u0447\u0438."
       ]
      },
      {
       "output_type": "stream",
       "stream": "stdout",
       "text": [
        "\n",
        "Looked up \u041d\u0430\u0431\u0434\u0438\u043d."
       ]
      },
      {
       "output_type": "stream",
       "stream": "stdout",
       "text": [
        "\n",
        "Looked up \u0425\u0430\u043b\u0447\u044c."
       ]
      },
      {
       "output_type": "stream",
       "stream": "stdout",
       "text": [
        "\n",
        "Querying alternate name \u0411\u043e\u0433\u043e\u0440\u043e\u0434\u0438\u0446\u043a\u0438\u0439 \u041a\u0430\u0437\u0430\u043d\u0441\u043a\u0438\u0439"
       ]
      },
      {
       "output_type": "stream",
       "stream": "stdout",
       "text": [
        "\n",
        "Looked up \u0411\u043e\u0433\u043e\u0440\u043e\u0434\u0438\u0446\u043a\u043e\u0439 \u041a\u0430\u0437\u0430\u043d\u0441\u043a\u043e\u0439."
       ]
      },
      {
       "output_type": "stream",
       "stream": "stdout",
       "text": [
        "\n",
        "Looked up \u041a\u0443\u0440\u044c\u044f\u043d\u043e\u0432\u043e."
       ]
      },
      {
       "output_type": "stream",
       "stream": "stdout",
       "text": [
        "\n",
        "Looked up \u041b\u044f\u0443\u0434\u0435\u0440\u0430."
       ]
      },
      {
       "output_type": "stream",
       "stream": "stdout",
       "text": [
        "\n",
        "Looked up \u0413\u0430\u043b\u044f\u043d\u0438."
       ]
      },
      {
       "output_type": "stream",
       "stream": "stdout",
       "text": [
        "\n",
        "Looked up \u0418\u0432\u0430\u043d\u043e\u0432\u043e."
       ]
      },
      {
       "output_type": "stream",
       "stream": "stdout",
       "text": [
        "\n",
        "Looked up \u0421\u0435\u0440\u0435\u0433\u0430."
       ]
      },
      {
       "output_type": "stream",
       "stream": "stdout",
       "text": [
        "\n",
        "Looked up \u041f\u0443\u043f\u043a\u0438."
       ]
      },
      {
       "output_type": "stream",
       "stream": "stdout",
       "text": [
        "\n",
        "Looked up \u0410\u043d\u0442\u043e\u043d\u043e\u0432\u043a\u0430."
       ]
      },
      {
       "output_type": "stream",
       "stream": "stdout",
       "text": [
        "\n",
        "Looked up \u041f\u0435\u043d\u0430."
       ]
      },
      {
       "output_type": "stream",
       "stream": "stdout",
       "text": [
        "\n",
        "Looked up \u041c\u0430\u0447\u0443\u0445\u0430."
       ]
      },
      {
       "output_type": "stream",
       "stream": "stdout",
       "text": [
        "\n",
        "Querying alternate name \u0411\u043b\u0430\u0433\u043e\u0432\u0435\u0449\u0435\u043d\u0441\u043a\u0438\u0439 \u041f\u0440\u0438\u0445\u043e\u0434"
       ]
      },
      {
       "output_type": "stream",
       "stream": "stdout",
       "text": [
        "\n",
        "Looked up \u0411\u043b\u0430\u0433\u043e\u0432\u0435\u0449\u0435\u043d\u0441\u043a\u043e\u0439 \u041f\u0440\u0438\u0445\u043e\u0434."
       ]
      },
      {
       "output_type": "stream",
       "stream": "stdout",
       "text": [
        "\n",
        "Querying alternate name \u0427\u0435\u0440\u0438\u043e\u043e\u0441\u0442\u0440\u043e\u0436\u0441\u043a\u0438\u0439 \u041d\u0438\u043a\u043e\u043b\u0430\u0435\u0432\u0441\u043a\u0438\u0439"
       ]
      },
      {
       "output_type": "stream",
       "stream": "stdout",
       "text": [
        "\n",
        "Looked up \u0427\u0435\u0440\u0438\u043e\u043e\u0441\u0442\u0440\u043e\u0436\u0441\u043a\u043e\u0439 \u041d\u0438\u043a\u043e\u043b\u0430\u0435\u0432\u0441\u043a\u043e\u0439."
       ]
      },
      {
       "output_type": "stream",
       "stream": "stdout",
       "text": [
        "\n",
        "Looked up \u0423\u0441\u0442\u044c\u0435."
       ]
      },
      {
       "output_type": "stream",
       "stream": "stdout",
       "text": [
        "\n",
        "Looked up \u0411\u0443\u0448\u043d\u0440\u0432\u043e."
       ]
      },
      {
       "output_type": "stream",
       "stream": "stdout",
       "text": [
        "\n",
        "Looked up \u0425\u0440\u0443\u0449\u043e\u0432\u043e."
       ]
      },
      {
       "output_type": "stream",
       "stream": "stdout",
       "text": [
        "\n",
        "Looked up \u041e\u0441\u0442\u0435\u0440."
       ]
      },
      {
       "output_type": "stream",
       "stream": "stdout",
       "text": [
        "\n",
        "Looked up \u041a\u043b\u044e\u0447\u0435\u0432\u0441\u043a\u0430\u044f."
       ]
      },
      {
       "output_type": "stream",
       "stream": "stdout",
       "text": [
        "\n",
        "Looked up \u041a\u0435\u0441\u043c\u0435."
       ]
      },
      {
       "output_type": "stream",
       "stream": "stdout",
       "text": [
        "\n",
        "Looked up \u0414\u0435\u0440\u0433\u0430\u0447\u0438."
       ]
      },
      {
       "output_type": "stream",
       "stream": "stdout",
       "text": [
        "\n",
        "Looked up \u0410\u0440\u0442\u0435\u043c\u043e\u043d\u043e\u0432\u043a\u0430."
       ]
      },
      {
       "output_type": "stream",
       "stream": "stdout",
       "text": [
        "\n",
        "Looked up \u041a\u043e\u0431\u044b\u0437\u0447\u0430."
       ]
      },
      {
       "output_type": "stream",
       "stream": "stdout",
       "text": [
        "\n",
        "Looked up \u041a\u0440\u0438\u0436\u0431\u0443\u0440\u0433."
       ]
      },
      {
       "output_type": "stream",
       "stream": "stdout",
       "text": [
        "\n",
        "Looked up \u041a\u043e\u043d\u0441\u0442\u0430\u043d\u0442\u0438\u043d\u043e\u0432\u0441\u043a\u043e\u0435."
       ]
      },
      {
       "output_type": "stream",
       "stream": "stdout",
       "text": [
        "\n",
        "Looked up \u041f\u043e\u0440\u0435\u0447\u044c\u0435."
       ]
      },
      {
       "output_type": "stream",
       "stream": "stdout",
       "text": [
        "\n",
        "Querying alternate name \u0413\u043b\u0443\u0448\u0438\u0446\u043a\u0438\u0439"
       ]
      },
      {
       "output_type": "stream",
       "stream": "stdout",
       "text": [
        "\n",
        "Looked up \u0413\u043b\u0443\u0448\u0438\u0446\u043a\u043e\u0439."
       ]
      },
      {
       "output_type": "stream",
       "stream": "stdout",
       "text": [
        "\n",
        "Looked up \u041f\u0435\u0440\u043c\u044c."
       ]
      },
      {
       "output_type": "stream",
       "stream": "stdout",
       "text": [
        "\n",
        "Looked up \u0417\u043e\u043b\u043e\u0447\u0435\u0432."
       ]
      },
      {
       "output_type": "stream",
       "stream": "stdout",
       "text": [
        "\n",
        "Looked up \u0427\u0435\u0440\u043b\u044f\u043d\u043a\u043e\u0432\u043e."
       ]
      },
      {
       "output_type": "stream",
       "stream": "stdout",
       "text": [
        "\n",
        "Querying alternate name \u0425\u0430\u043b\u0430\u043d\u044c"
       ]
      },
      {
       "output_type": "stream",
       "stream": "stdout",
       "text": [
        "\n",
        "Looked up \u0415\u043a\u0430\u0442\u0435\u0440\u0438\u043d\u0438\u043d\u0441\u043a\u0430\u044f."
       ]
      },
      {
       "output_type": "stream",
       "stream": "stdout",
       "text": [
        "\n",
        "Looked up \u0418\u0432\u0438\u0446\u0430."
       ]
      },
      {
       "output_type": "stream",
       "stream": "stdout",
       "text": [
        "\n",
        "Querying alternate name \u0412\u0435\u043d\u0435\u0432\u0441\u043a\u0438\u0439 \u041d\u0438\u043a\u043e\u043b\u0430\u0435\u0432\u0441\u043a\u0438\u0439"
       ]
      },
      {
       "output_type": "stream",
       "stream": "stdout",
       "text": [
        "\n",
        "Looked up \u0412\u0435\u043d\u0435\u0432\u0441\u043a\u043e\u0439 \u041d\u0438\u043a\u043e\u043b\u0430\u0435\u0432\u0441\u043a\u043e\u0439."
       ]
      },
      {
       "output_type": "stream",
       "stream": "stdout",
       "text": [
        "\n",
        "Looked up \u0420\u043e\u0433\u0430\u0447\u0435\u0432\u043e."
       ]
      },
      {
       "output_type": "stream",
       "stream": "stdout",
       "text": [
        "\n",
        "Querying alternate name \u041d\u043e\u0432\u043e\u0435\u0437\u0435\u0440\u0441\u043a\u0438\u0439 \u041a\u0438\u0440\u0438\u043b\u043e\u0432"
       ]
      },
      {
       "output_type": "stream",
       "stream": "stdout",
       "text": [
        "\n",
        "Querying alternate name \u041d\u043e\u0432\u043e\u0435\u0437\u0435\u0440\u0441\u043a\u043e\u0439 \u041a\u0438\u0440\u0438\u043b\u043e\u0432\u043e"
       ]
      },
      {
       "output_type": "stream",
       "stream": "stdout",
       "text": [
        "\n",
        "Looked up \u041d\u043e\u0432\u043e\u0435\u0437\u0435\u0440\u0441\u043a\u043e\u0439 \u041a\u0438\u0440\u0438\u043b\u043e\u0432."
       ]
      },
      {
       "output_type": "stream",
       "stream": "stdout",
       "text": [
        "\n",
        "Looked up \u041c\u0430\u043a\u0430\u0440\u043e\u0432\u043e."
       ]
      },
      {
       "output_type": "stream",
       "stream": "stdout",
       "text": [
        "\n",
        "Querying alternate name \u0413\u0435\u043d\u043d\u0430\u0434\u0438\u0435\u0432\u043e"
       ]
      },
      {
       "output_type": "stream",
       "stream": "stdout",
       "text": [
        "\n",
        "Looked up \u0413\u0435\u043d\u043d\u0430\u0434\u0438\u0435\u0432."
       ]
      },
      {
       "output_type": "stream",
       "stream": "stdout",
       "text": [
        "\n",
        "Looked up \u0421\u043e\u0440\u043e\u0447\u0438\u043d\u0446\u044b."
       ]
      },
      {
       "output_type": "stream",
       "stream": "stdout",
       "text": [
        "\n",
        "Looked up \u0415\u0433\u043e\u0440\u044c\u0435\u0432\u0441\u043a\u043e\u0435 \u0417\u0430\u0434\u043d\u0435\u0435."
       ]
      },
      {
       "output_type": "stream",
       "stream": "stdout",
       "text": [
        "\n",
        "Looked up \u0418\u0432\u0430\u043d\u043e\u0432\u0441\u043a\u043e\u0435."
       ]
      },
      {
       "output_type": "stream",
       "stream": "stdout",
       "text": [
        "\n",
        "Looked up \u0421\u0442\u0435\u0448\u043a\u0438."
       ]
      },
      {
       "output_type": "stream",
       "stream": "stdout",
       "text": [
        "\n",
        "Looked up \u0410\u043b\u0435\u043a\u0441\u0430\u043d\u0434\u0440\u043e\u0432\u0430 \u041f\u0443\u0441\u0442\u044b\u043d\u044f."
       ]
      },
      {
       "output_type": "stream",
       "stream": "stdout",
       "text": [
        "\n",
        "Looked up \u0411\u0435\u043b\u043e\u0435."
       ]
      },
      {
       "output_type": "stream",
       "stream": "stdout",
       "text": [
        "\n",
        "Querying alternate name \u0423\u0442\u0435\u0448\u0435\u0432\u043e"
       ]
      },
      {
       "output_type": "stream",
       "stream": "stdout",
       "text": [
        "\n",
        "Looked up \u0423\u0442\u0435\u0448\u0435\u0432."
       ]
      },
      {
       "output_type": "stream",
       "stream": "stdout",
       "text": [
        "\n",
        "\u041b\u0430\u0434\u0430 was not found at max fuzz."
       ]
      },
      {
       "output_type": "stream",
       "stream": "stdout",
       "text": [
        "\n",
        "Looked up \u041b\u0430\u0434\u0430."
       ]
      },
      {
       "output_type": "stream",
       "stream": "stdout",
       "text": [
        "\n",
        "Looked up \u041a\u0440\u0435\u043c\u0435\u043d\u0447\u0443\u0433."
       ]
      },
      {
       "output_type": "stream",
       "stream": "stdout",
       "text": [
        "\n",
        "Looked up \u041a\u0438\u0430\u0442\u0430."
       ]
      },
      {
       "output_type": "stream",
       "stream": "stdout",
       "text": [
        "\n",
        "Looked up \u0421\u043f\u0438\u0440\u043e\u0432\u043e."
       ]
      },
      {
       "output_type": "stream",
       "stream": "stdout",
       "text": [
        "\n",
        "Querying alternate name \u041d\u0435\u043b\u044c\u044f\u043d\u0441\u043a\u0438\u0439"
       ]
      },
      {
       "output_type": "stream",
       "stream": "stdout",
       "text": [
        "\n",
        "Looked up \u041d\u0435\u043b\u044c\u044f\u043d\u0441\u043a\u043e\u0439."
       ]
      },
      {
       "output_type": "stream",
       "stream": "stdout",
       "text": [
        "\n",
        "Looked up \u0421\u0435\u0440\u0435\u0434\u0430 \u0421\u0442\u0440\u0430\u0442\u0438\u043b\u0430\u0442\u0441\u043a\u0430\u044f."
       ]
      },
      {
       "output_type": "stream",
       "stream": "stdout",
       "text": [
        "\n",
        "Looked up \u0410\u043b\u0435\u043a\u0441\u0435\u0435\u0432\u0441\u043a\u0430\u044f."
       ]
      },
      {
       "output_type": "stream",
       "stream": "stdout",
       "text": [
        "\n",
        "Looked up \u041a\u043e\u0434\u0438\u043d\u0441\u043a\u043e\u0435."
       ]
      },
      {
       "output_type": "stream",
       "stream": "stdout",
       "text": [
        "\n",
        "Looked up \u041c\u043e\u0448\u0435\u0439\u043a\u0430."
       ]
      },
      {
       "output_type": "stream",
       "stream": "stdout",
       "text": [
        "\n",
        "Querying alternate name \u0426\u0430\u0440\u0435\u0432 \u0411\u043e\u0440\u0438\u0441\u043e\u0432\u043e"
       ]
      },
      {
       "output_type": "stream",
       "stream": "stdout",
       "text": [
        "\n",
        "\u0426\u0430\u0440\u0435\u0432 \u0411\u043e\u0440\u0438\u0441\u043e\u0432 was not found at max fuzz."
       ]
      },
      {
       "output_type": "stream",
       "stream": "stdout",
       "text": [
        "\n",
        "Looked up \u0426\u0430\u0440\u0435\u0432 \u0411\u043e\u0440\u0438\u0441\u043e\u0432."
       ]
      },
      {
       "output_type": "stream",
       "stream": "stdout",
       "text": [
        "\n",
        "Looked up \u0422\u0440\u043e\u0438\u0446\u043a\u0430\u044f \u0421\u0435\u0440\u0433\u0438\u0435\u0432\u0430."
       ]
      },
      {
       "output_type": "stream",
       "stream": "stdout",
       "text": [
        "\n"
       ]
      }
     ],
     "prompt_number": 35
    },
    {
     "cell_type": "code",
     "collapsed": false,
     "input": [
      "print(problem_prov)\n",
      "print(worldsearch)\n",
      "print(bizarro)"
     ],
     "language": "python",
     "metadata": {},
     "outputs": [
      {
       "ename": "NameError",
       "evalue": "name 'problem_prov' is not defined",
       "output_type": "pyerr",
       "traceback": [
        "\u001b[1;31m---------------------------------------------------------------------------\u001b[0m\n\u001b[1;31mNameError\u001b[0m                                 Traceback (most recent call last)",
        "\u001b[1;32m<ipython-input-11-0a2a5ea92128>\u001b[0m in \u001b[0;36m<module>\u001b[1;34m()\u001b[0m\n\u001b[1;32m----> 1\u001b[1;33m \u001b[0mprint\u001b[0m\u001b[1;33m(\u001b[0m\u001b[0mproblem_prov\u001b[0m\u001b[1;33m)\u001b[0m\u001b[1;33m\u001b[0m\u001b[0m\n\u001b[0m\u001b[0;32m      2\u001b[0m \u001b[0mprint\u001b[0m\u001b[1;33m(\u001b[0m\u001b[0mworldsearch\u001b[0m\u001b[1;33m)\u001b[0m\u001b[1;33m\u001b[0m\u001b[0m\n\u001b[0;32m      3\u001b[0m \u001b[0mprint\u001b[0m\u001b[1;33m(\u001b[0m\u001b[0mbizarro\u001b[0m\u001b[1;33m)\u001b[0m\u001b[1;33m\u001b[0m\u001b[0m\n",
        "\u001b[1;31mNameError\u001b[0m: name 'problem_prov' is not defined"
       ]
      }
     ],
     "prompt_number": 11
    },
    {
     "cell_type": "code",
     "collapsed": false,
     "input": [
      "geodf = pd.DataFrame(geocoded)"
     ],
     "language": "python",
     "metadata": {},
     "outputs": [],
     "prompt_number": 37
    },
    {
     "cell_type": "code",
     "collapsed": false,
     "input": [
      "geodf = geodf[[\"hgr_id\",\"searched_name\",\"fuzzy\",\"gname_name\",\"gname_adminCode1\",\"gname_adminName1\",\"gname_countryCode\",\"gname_countryId\",\"gname_countryName\",\"gname_fcl\",\"gname_fclName\",\"gname_fcode\",\"gname_fcodeName\",\"gname_geonameId\",\"gname_lat\",\"gname_lng\",\"gname_population\",\"gname_toponymName\",\"north_bound\",\"south_bound\",\"east_bound\",\"west_bound\",\"url\"]]"
     ],
     "language": "python",
     "metadata": {},
     "outputs": [],
     "prompt_number": 38
    },
    {
     "cell_type": "code",
     "collapsed": false,
     "input": [
      "len(geodf)"
     ],
     "language": "python",
     "metadata": {},
     "outputs": [
      {
       "metadata": {},
       "output_type": "pyout",
       "prompt_number": 39,
       "text": [
        "2727"
       ]
      }
     ],
     "prompt_number": 39
    },
    {
     "cell_type": "code",
     "collapsed": false,
     "input": [
      "geodf.to_excel('output/process/geocoded_new.xlsx',encoding='utf-8')\n",
      "geodf.to_csv('output/process/geocoded_new.csv',encoding='utf-8')"
     ],
     "language": "python",
     "metadata": {},
     "outputs": [
      {
       "output_type": "stream",
       "stream": "stderr",
       "text": [
        "/home/jeremy/anaconda3/lib/python3.4/site-packages/xlsxwriter/worksheet.py:827: UserWarning: Ignoring URL 'http://api.geonames.org/search?north=65.783333&east=38.35&type=json&west=30.35&fuzzy=1&username=jaguillette&name=%D0%A1%D0%B2%D0%B8%D1%80%D1%81%D0%BA%D0%BE%D0%B9+%D0%90%D0%BB%D0%B5%D0%BA%D1%81%D0%B0%D0%BD%D0%B4%D1%80%D0%BE%D0%B2%D1%81%D0%BA%D0%BE%D0%B9&featureClass=P&south=57.783333' > 255 characters since it exceeds Excel's limit for URLS\n",
        "  \"Excel's limit for URLS\" % url)\n",
        "/home/jeremy/anaconda3/lib/python3.4/site-packages/xlsxwriter/worksheet.py:827: UserWarning: Ignoring URL 'http://api.geonames.org/search?north=65.783333&east=38.35&type=json&west=30.35&fuzzy=1&username=jaguillette&name=%D0%A1%D0%B2%D0%B8%D1%80%D1%81%D0%BA%D0%B8%D0%B9+%D0%90%D0%BB%D0%B5%D0%BA%D1%81%D0%B0%D0%BD%D0%B4%D1%80%D0%BE%D0%B2%D1%81%D0%BA%D0%B8%D0%B9&featureClass=P&south=57.783333' > 255 characters since it exceeds Excel's limit for URLS\n",
        "  \"Excel's limit for URLS\" % url)\n",
        "/home/jeremy/anaconda3/lib/python3.4/site-packages/xlsxwriter/worksheet.py:827: UserWarning: Ignoring URL 'http://api.geonames.org/search?north=65.783333&east=38.35&type=json&west=30.35&fuzzy=0.9&username=jaguillette&name=%D0%A1%D0%B2%D0%B8%D1%80%D1%81%D0%BA%D0%BE%D0%B9+%D0%90%D0%BB%D0%B5%D0%BA%D1%81%D0%B0%D0%BD%D0%B4%D1%80%D0%BE%D0%B2%D1%81%D0%BA%D0%BE%D0%B9&featureClass=P&south=57.783333' > 255 characters since it exceeds Excel's limit for URLS\n",
        "  \"Excel's limit for URLS\" % url)\n",
        "/home/jeremy/anaconda3/lib/python3.4/site-packages/xlsxwriter/worksheet.py:827: UserWarning: Ignoring URL 'http://api.geonames.org/search?north=65.783333&east=38.35&type=json&west=30.35&fuzzy=0.8&username=jaguillette&name=%D0%A1%D0%B2%D0%B8%D1%80%D1%81%D0%BA%D0%BE%D0%B9+%D0%90%D0%BB%D0%B5%D0%BA%D1%81%D0%B0%D0%BD%D0%B4%D1%80%D0%BE%D0%B2%D1%81%D0%BA%D0%BE%D0%B9&featureClass=P&south=57.783333' > 255 characters since it exceeds Excel's limit for URLS\n",
        "  \"Excel's limit for URLS\" % url)\n",
        "/home/jeremy/anaconda3/lib/python3.4/site-packages/xlsxwriter/worksheet.py:827: UserWarning: Ignoring URL 'http://api.geonames.org/search?north=65.783333&east=38.35&type=json&west=30.35&fuzzy=0.7000000000000001&username=jaguillette&name=%D0%A1%D0%B2%D0%B8%D1%80%D1%81%D0%BA%D0%BE%D0%B9+%D0%90%D0%BB%D0%B5%D0%BA%D1%81%D0%B0%D0%BD%D0%B4%D1%80%D0%BE%D0%B2%D1%81%D0%BA%D0%BE%D0%B9&featureClass=P&south=57.783333' > 255 characters since it exceeds Excel's limit for URLS\n",
        "  \"Excel's limit for URLS\" % url)\n",
        "/home/jeremy/anaconda3/lib/python3.4/site-packages/xlsxwriter/worksheet.py:827: UserWarning: Ignoring URL 'http://api.geonames.org/search?north=65.783333&east=38.35&type=json&west=30.35&fuzzy=0.6000000000000001&username=jaguillette&name=%D0%A1%D0%B2%D0%B8%D1%80%D1%81%D0%BA%D0%BE%D0%B9+%D0%90%D0%BB%D0%B5%D0%BA%D1%81%D0%B0%D0%BD%D0%B4%D1%80%D0%BE%D0%B2%D1%81%D0%BA%D0%BE%D0%B9&featureClass=P&south=57.783333' > 255 characters since it exceeds Excel's limit for URLS\n",
        "  \"Excel's limit for URLS\" % url)\n",
        "/home/jeremy/anaconda3/lib/python3.4/site-packages/xlsxwriter/worksheet.py:827: UserWarning: Ignoring URL 'http://api.geonames.org/search?north=65.783333&east=38.35&type=json&west=30.35&fuzzy=0.5000000000000001&username=jaguillette&name=%D0%A1%D0%B2%D0%B8%D1%80%D1%81%D0%BA%D0%BE%D0%B9+%D0%90%D0%BB%D0%B5%D0%BA%D1%81%D0%B0%D0%BD%D0%B4%D1%80%D0%BE%D0%B2%D1%81%D0%BA%D0%BE%D0%B9&featureClass=P&south=57.783333' > 255 characters since it exceeds Excel's limit for URLS\n",
        "  \"Excel's limit for URLS\" % url)\n",
        "/home/jeremy/anaconda3/lib/python3.4/site-packages/xlsxwriter/worksheet.py:827: UserWarning: Ignoring URL 'http://api.geonames.org/search?north=65.783333&east=38.35&type=json&west=30.35&fuzzy=0.40000000000000013&username=jaguillette&name=%D0%A1%D0%B2%D0%B8%D1%80%D1%81%D0%BA%D0%BE%D0%B9+%D0%90%D0%BB%D0%B5%D0%BA%D1%81%D0%B0%D0%BD%D0%B4%D1%80%D0%BE%D0%B2%D1%81%D0%BA%D0%BE%D0%B9&featureClass=P&south=57.783333' > 255 characters since it exceeds Excel's limit for URLS\n",
        "  \"Excel's limit for URLS\" % url)\n",
        "/home/jeremy/anaconda3/lib/python3.4/site-packages/xlsxwriter/worksheet.py:827: UserWarning: Ignoring URL 'http://api.geonames.org/search?north=65.783333&east=38.35&type=json&west=30.35&fuzzy=0.30000000000000016&username=jaguillette&name=%D0%A1%D0%B2%D0%B8%D1%80%D1%81%D0%BA%D0%BE%D0%B9+%D0%90%D0%BB%D0%B5%D0%BA%D1%81%D0%B0%D0%BD%D0%B4%D1%80%D0%BE%D0%B2%D1%81%D0%BA%D0%BE%D0%B9&featureClass=P&south=57.783333' > 255 characters since it exceeds Excel's limit for URLS\n",
        "  \"Excel's limit for URLS\" % url)\n",
        "/home/jeremy/anaconda3/lib/python3.4/site-packages/xlsxwriter/worksheet.py:827: UserWarning: Ignoring URL 'http://api.geonames.org/search?north=65.783333&east=38.35&type=json&west=30.35&fuzzy=0.20000000000000015&username=jaguillette&name=%D0%A1%D0%B2%D0%B8%D1%80%D1%81%D0%BA%D0%BE%D0%B9+%D0%90%D0%BB%D0%B5%D0%BA%D1%81%D0%B0%D0%BD%D0%B4%D1%80%D0%BE%D0%B2%D1%81%D0%BA%D0%BE%D0%B9&featureClass=P&south=57.783333' > 255 characters since it exceeds Excel's limit for URLS\n",
        "  \"Excel's limit for URLS\" % url)\n",
        "/home/jeremy/anaconda3/lib/python3.4/site-packages/xlsxwriter/worksheet.py:827: UserWarning: Ignoring URL 'http://api.geonames.org/search?north=65.783333&east=38.35&type=json&west=30.35&fuzzy=0.10000000000000014&username=jaguillette&name=%D0%A1%D0%B2%D0%B8%D1%80%D1%81%D0%BA%D0%BE%D0%B9+%D0%90%D0%BB%D0%B5%D0%BA%D1%81%D0%B0%D0%BD%D0%B4%D1%80%D0%BE%D0%B2%D1%81%D0%BA%D0%BE%D0%B9&featureClass=P&south=57.783333' > 255 characters since it exceeds Excel's limit for URLS\n",
        "  \"Excel's limit for URLS\" % url)\n",
        "/home/jeremy/anaconda3/lib/python3.4/site-packages/xlsxwriter/worksheet.py:827: UserWarning: Ignoring URL 'http://api.geonames.org/search?north=56.716667&east=45.433333&type=json&west=37.433333&fuzzy=1&username=jaguillette&name=%D0%A7%D0%B5%D1%80%D0%BD%D0%B5%D0%B5%D0%B2+%D0%9D%D0%B8%D0%BA%D0%BE%D0%BB%D0%B0%D0%B5%D0%B2%D1%81%D0%BA%D0%BE%D0%B9&featureClass=P&south=48.716667' > 255 characters since it exceeds Excel's limit for URLS\n",
        "  \"Excel's limit for URLS\" % url)\n",
        "/home/jeremy/anaconda3/lib/python3.4/site-packages/xlsxwriter/worksheet.py:827: UserWarning: Ignoring URL 'http://api.geonames.org/search?north=56.716667&east=45.433333&type=json&west=37.433333&fuzzy=1&username=jaguillette&name=%D0%A7%D0%B5%D1%80%D0%BD%D0%B5%D0%B5%D0%B2+%D0%9D%D0%B8%D0%BA%D0%BE%D0%BB%D0%B0%D0%B5%D0%B2%D1%81%D0%BA%D0%B8%D0%B9&featureClass=P&south=48.716667' > 255 characters since it exceeds Excel's limit for URLS\n",
        "  \"Excel's limit for URLS\" % url)\n",
        "/home/jeremy/anaconda3/lib/python3.4/site-packages/xlsxwriter/worksheet.py:827: UserWarning: Ignoring URL 'http://api.geonames.org/search?north=56.716667&east=45.433333&type=json&west=37.433333&fuzzy=0.9&username=jaguillette&name=%D0%A7%D0%B5%D1%80%D0%BD%D0%B5%D0%B5%D0%B2+%D0%9D%D0%B8%D0%BA%D0%BE%D0%BB%D0%B0%D0%B5%D0%B2%D1%81%D0%BA%D0%BE%D0%B9&featureClass=P&south=48.716667' > 255 characters since it exceeds Excel's limit for URLS\n",
        "  \"Excel's limit for URLS\" % url)\n",
        "/home/jeremy/anaconda3/lib/python3.4/site-packages/xlsxwriter/worksheet.py:827: UserWarning: Ignoring URL 'http://api.geonames.org/search?north=56.716667&east=45.433333&type=json&west=37.433333&fuzzy=0.8&username=jaguillette&name=%D0%A7%D0%B5%D1%80%D0%BD%D0%B5%D0%B5%D0%B2+%D0%9D%D0%B8%D0%BA%D0%BE%D0%BB%D0%B0%D0%B5%D0%B2%D1%81%D0%BA%D0%BE%D0%B9&featureClass=P&south=48.716667' > 255 characters since it exceeds Excel's limit for URLS\n",
        "  \"Excel's limit for URLS\" % url)\n",
        "/home/jeremy/anaconda3/lib/python3.4/site-packages/xlsxwriter/worksheet.py:827: UserWarning: Ignoring URL 'http://api.geonames.org/search?north=56.716667&east=45.433333&type=json&west=37.433333&fuzzy=0.7000000000000001&username=jaguillette&name=%D0%A7%D0%B5%D1%80%D0%BD%D0%B5%D0%B5%D0%B2+%D0%9D%D0%B8%D0%BA%D0%BE%D0%BB%D0%B0%D0%B5%D0%B2%D1%81%D0%BA%D0%BE%D0%B9&featureClass=P&south=48.716667' > 255 characters since it exceeds Excel's limit for URLS\n",
        "  \"Excel's limit for URLS\" % url)\n",
        "/home/jeremy/anaconda3/lib/python3.4/site-packages/xlsxwriter/worksheet.py:827: UserWarning: Ignoring URL 'http://api.geonames.org/search?north=56.716667&east=45.433333&type=json&west=37.433333&fuzzy=0.6000000000000001&username=jaguillette&name=%D0%A7%D0%B5%D1%80%D0%BD%D0%B5%D0%B5%D0%B2+%D0%9D%D0%B8%D0%BA%D0%BE%D0%BB%D0%B0%D0%B5%D0%B2%D1%81%D0%BA%D0%BE%D0%B9&featureClass=P&south=48.716667' > 255 characters since it exceeds Excel's limit for URLS\n",
        "  \"Excel's limit for URLS\" % url)\n",
        "/home/jeremy/anaconda3/lib/python3.4/site-packages/xlsxwriter/worksheet.py:827: UserWarning: Ignoring URL 'http://api.geonames.org/search?north=56.716667&east=45.433333&type=json&west=37.433333&fuzzy=0.5000000000000001&username=jaguillette&name=%D0%A7%D0%B5%D1%80%D0%BD%D0%B5%D0%B5%D0%B2+%D0%9D%D0%B8%D0%BA%D0%BE%D0%BB%D0%B0%D0%B5%D0%B2%D1%81%D0%BA%D0%BE%D0%B9&featureClass=P&south=48.716667' > 255 characters since it exceeds Excel's limit for URLS\n",
        "  \"Excel's limit for URLS\" % url)\n",
        "/home/jeremy/anaconda3/lib/python3.4/site-packages/xlsxwriter/worksheet.py:827: UserWarning: Ignoring URL 'http://api.geonames.org/search?north=61.616667&east=43.85&type=json&west=35.85&fuzzy=1&username=jaguillette&name=%D0%A7%D0%B5%D1%80%D0%B8%D0%BE%D0%BE%D1%81%D1%82%D1%80%D0%BE%D0%B6%D1%81%D0%BA%D0%BE%D0%B9+%D0%9D%D0%B8%D0%BA%D0%BE%D0%BB%D0%B0%D0%B5%D0%B2%D1%81%D0%BA%D0%BE%D0%B9&featureClass=P&south=53.616667' > 255 characters since it exceeds Excel's limit for URLS\n",
        "  \"Excel's limit for URLS\" % url)\n"
       ]
      },
      {
       "output_type": "stream",
       "stream": "stderr",
       "text": [
        "/home/jeremy/anaconda3/lib/python3.4/site-packages/xlsxwriter/worksheet.py:827: UserWarning: Ignoring URL 'http://api.geonames.org/search?north=61.616667&east=43.85&type=json&west=35.85&fuzzy=1&username=jaguillette&name=%D0%A7%D0%B5%D1%80%D0%B8%D0%BE%D0%BE%D1%81%D1%82%D1%80%D0%BE%D0%B6%D1%81%D0%BA%D0%B8%D0%B9+%D0%9D%D0%B8%D0%BA%D0%BE%D0%BB%D0%B0%D0%B5%D0%B2%D1%81%D0%BA%D0%B8%D0%B9&featureClass=P&south=53.616667' > 255 characters since it exceeds Excel's limit for URLS\n",
        "  \"Excel's limit for URLS\" % url)\n",
        "/home/jeremy/anaconda3/lib/python3.4/site-packages/xlsxwriter/worksheet.py:827: UserWarning: Ignoring URL 'http://api.geonames.org/search?north=61.616667&east=43.85&type=json&west=35.85&fuzzy=0.9&username=jaguillette&name=%D0%A7%D0%B5%D1%80%D0%B8%D0%BE%D0%BE%D1%81%D1%82%D1%80%D0%BE%D0%B6%D1%81%D0%BA%D0%BE%D0%B9+%D0%9D%D0%B8%D0%BA%D0%BE%D0%BB%D0%B0%D0%B5%D0%B2%D1%81%D0%BA%D0%BE%D0%B9&featureClass=P&south=53.616667' > 255 characters since it exceeds Excel's limit for URLS\n",
        "  \"Excel's limit for URLS\" % url)\n",
        "/home/jeremy/anaconda3/lib/python3.4/site-packages/xlsxwriter/worksheet.py:827: UserWarning: Ignoring URL 'http://api.geonames.org/search?north=61.616667&east=43.85&type=json&west=35.85&fuzzy=0.8&username=jaguillette&name=%D0%A7%D0%B5%D1%80%D0%B8%D0%BE%D0%BE%D1%81%D1%82%D1%80%D0%BE%D0%B6%D1%81%D0%BA%D0%BE%D0%B9+%D0%9D%D0%B8%D0%BA%D0%BE%D0%BB%D0%B0%D0%B5%D0%B2%D1%81%D0%BA%D0%BE%D0%B9&featureClass=P&south=53.616667' > 255 characters since it exceeds Excel's limit for URLS\n",
        "  \"Excel's limit for URLS\" % url)\n",
        "/home/jeremy/anaconda3/lib/python3.4/site-packages/xlsxwriter/worksheet.py:827: UserWarning: Ignoring URL 'http://api.geonames.org/search?north=61.616667&east=43.85&type=json&west=35.85&fuzzy=0.7000000000000001&username=jaguillette&name=%D0%A7%D0%B5%D1%80%D0%B8%D0%BE%D0%BE%D1%81%D1%82%D1%80%D0%BE%D0%B6%D1%81%D0%BA%D0%BE%D0%B9+%D0%9D%D0%B8%D0%BA%D0%BE%D0%BB%D0%B0%D0%B5%D0%B2%D1%81%D0%BA%D0%BE%D0%B9&featureClass=P&south=53.616667' > 255 characters since it exceeds Excel's limit for URLS\n",
        "  \"Excel's limit for URLS\" % url)\n",
        "/home/jeremy/anaconda3/lib/python3.4/site-packages/xlsxwriter/worksheet.py:827: UserWarning: Ignoring URL 'http://api.geonames.org/search?north=61.616667&east=43.85&type=json&west=35.85&fuzzy=0.6000000000000001&username=jaguillette&name=%D0%A7%D0%B5%D1%80%D0%B8%D0%BE%D0%BE%D1%81%D1%82%D1%80%D0%BE%D0%B6%D1%81%D0%BA%D0%BE%D0%B9+%D0%9D%D0%B8%D0%BA%D0%BE%D0%BB%D0%B0%D0%B5%D0%B2%D1%81%D0%BA%D0%BE%D0%B9&featureClass=P&south=53.616667' > 255 characters since it exceeds Excel's limit for URLS\n",
        "  \"Excel's limit for URLS\" % url)\n",
        "/home/jeremy/anaconda3/lib/python3.4/site-packages/xlsxwriter/worksheet.py:827: UserWarning: Ignoring URL 'http://api.geonames.org/search?north=61.616667&east=43.85&type=json&west=35.85&fuzzy=0.5000000000000001&username=jaguillette&name=%D0%A7%D0%B5%D1%80%D0%B8%D0%BE%D0%BE%D1%81%D1%82%D1%80%D0%BE%D0%B6%D1%81%D0%BA%D0%BE%D0%B9+%D0%9D%D0%B8%D0%BA%D0%BE%D0%BB%D0%B0%D0%B5%D0%B2%D1%81%D0%BA%D0%BE%D0%B9&featureClass=P&south=53.616667' > 255 characters since it exceeds Excel's limit for URLS\n",
        "  \"Excel's limit for URLS\" % url)\n",
        "/home/jeremy/anaconda3/lib/python3.4/site-packages/xlsxwriter/worksheet.py:827: UserWarning: Ignoring URL 'http://api.geonames.org/search?north=61.616667&east=43.85&type=json&west=35.85&fuzzy=0.40000000000000013&username=jaguillette&name=%D0%A7%D0%B5%D1%80%D0%B8%D0%BE%D0%BE%D1%81%D1%82%D1%80%D0%BE%D0%B6%D1%81%D0%BA%D0%BE%D0%B9+%D0%9D%D0%B8%D0%BA%D0%BE%D0%BB%D0%B0%D0%B5%D0%B2%D1%81%D0%BA%D0%BE%D0%B9&featureClass=P&south=53.616667' > 255 characters since it exceeds Excel's limit for URLS\n",
        "  \"Excel's limit for URLS\" % url)\n",
        "/home/jeremy/anaconda3/lib/python3.4/site-packages/xlsxwriter/worksheet.py:827: UserWarning: Ignoring URL 'http://api.geonames.org/search?north=61.616667&east=43.85&type=json&west=35.85&fuzzy=0.30000000000000016&username=jaguillette&name=%D0%A7%D0%B5%D1%80%D0%B8%D0%BE%D0%BE%D1%81%D1%82%D1%80%D0%BE%D0%B6%D1%81%D0%BA%D0%BE%D0%B9+%D0%9D%D0%B8%D0%BA%D0%BE%D0%BB%D0%B0%D0%B5%D0%B2%D1%81%D0%BA%D0%BE%D0%B9&featureClass=P&south=53.616667' > 255 characters since it exceeds Excel's limit for URLS\n",
        "  \"Excel's limit for URLS\" % url)\n",
        "/home/jeremy/anaconda3/lib/python3.4/site-packages/xlsxwriter/worksheet.py:827: UserWarning: Ignoring URL 'http://api.geonames.org/search?north=61.616667&east=43.85&type=json&west=35.85&fuzzy=0.20000000000000015&username=jaguillette&name=%D0%A7%D0%B5%D1%80%D0%B8%D0%BE%D0%BE%D1%81%D1%82%D1%80%D0%BE%D0%B6%D1%81%D0%BA%D0%BE%D0%B9+%D0%9D%D0%B8%D0%BA%D0%BE%D0%BB%D0%B0%D0%B5%D0%B2%D1%81%D0%BA%D0%BE%D0%B9&featureClass=P&south=53.616667' > 255 characters since it exceeds Excel's limit for URLS\n",
        "  \"Excel's limit for URLS\" % url)\n",
        "/home/jeremy/anaconda3/lib/python3.4/site-packages/xlsxwriter/worksheet.py:827: UserWarning: Ignoring URL 'http://api.geonames.org/search?north=61.616667&east=43.85&type=json&west=35.85&fuzzy=1&username=jaguillette&name=%D0%90%D0%BB%D0%B5%D0%BA%D1%81%D0%B0%D0%BD%D0%B4%D1%80%D0%BE%D0%B2%D0%B0+%D0%9F%D1%83%D1%81%D1%82%D1%8B%D0%BD%D1%8F&featureClass=P&south=53.616667' > 255 characters since it exceeds Excel's limit for URLS\n",
        "  \"Excel's limit for URLS\" % url)\n",
        "/home/jeremy/anaconda3/lib/python3.4/site-packages/xlsxwriter/worksheet.py:827: UserWarning: Ignoring URL 'http://api.geonames.org/search?north=61.616667&east=43.85&type=json&west=35.85&fuzzy=0.9&username=jaguillette&name=%D0%90%D0%BB%D0%B5%D0%BA%D1%81%D0%B0%D0%BD%D0%B4%D1%80%D0%BE%D0%B2%D0%B0+%D0%9F%D1%83%D1%81%D1%82%D1%8B%D0%BD%D1%8F&featureClass=P&south=53.616667' > 255 characters since it exceeds Excel's limit for URLS\n",
        "  \"Excel's limit for URLS\" % url)\n",
        "/home/jeremy/anaconda3/lib/python3.4/site-packages/xlsxwriter/worksheet.py:827: UserWarning: Ignoring URL 'http://api.geonames.org/search?north=61.616667&east=43.85&type=json&west=35.85&fuzzy=0.8&username=jaguillette&name=%D0%90%D0%BB%D0%B5%D0%BA%D1%81%D0%B0%D0%BD%D0%B4%D1%80%D0%BE%D0%B2%D0%B0+%D0%9F%D1%83%D1%81%D1%82%D1%8B%D0%BD%D1%8F&featureClass=P&south=53.616667' > 255 characters since it exceeds Excel's limit for URLS\n",
        "  \"Excel's limit for URLS\" % url)\n"
       ]
      }
     ],
     "prompt_number": 40
    },
    {
     "cell_type": "code",
     "collapsed": false,
     "input": [
      "geodf = pd.DataFrame.from_csv('output/process/geocoded_new.csv',encoding='utf-8')"
     ],
     "language": "python",
     "metadata": {},
     "outputs": [],
     "prompt_number": 9
    },
    {
     "cell_type": "code",
     "collapsed": false,
     "input": [
      "finding_counts = geodf.ix[pd.isnull(geodf.gname_name)==False].pivot_table(index='hgr_id',values='gname_lat',aggfunc=lambda x: len(x.unique()))\n",
      "fdf = pd.DataFrame(finding_counts)"
     ],
     "language": "python",
     "metadata": {},
     "outputs": [],
     "prompt_number": 10
    },
    {
     "cell_type": "code",
     "collapsed": false,
     "input": [
      "single_results = pd.merge(fdf.ix[fdf.gname_lat==1],geodf,left_index=True,right_on='hgr_id')\n",
      "single_results = single_results.ix[pd.isnull(single_results.gname_name)==False]\n",
      "single_results = single_results.ix[single_results.hgr_id.duplicated()==False]\n",
      "len(single_results)"
     ],
     "language": "python",
     "metadata": {},
     "outputs": [
      {
       "metadata": {},
       "output_type": "pyout",
       "prompt_number": 11,
       "text": [
        "119"
       ]
      }
     ],
     "prompt_number": 11
    },
    {
     "cell_type": "code",
     "collapsed": false,
     "input": [
      "len(single_results[single_results.fuzzy>=.8])"
     ],
     "language": "python",
     "metadata": {},
     "outputs": [
      {
       "metadata": {},
       "output_type": "pyout",
       "prompt_number": 15,
       "text": [
        "55"
       ]
      }
     ],
     "prompt_number": 15
    },
    {
     "cell_type": "code",
     "collapsed": false,
     "input": [
      "single_results[['hgr_id','searched_name','fuzzy','gname_name','gname_adminName1','gname_countryName','gname_geonameId']][single_results.fuzzy>=.8]"
     ],
     "language": "python",
     "metadata": {},
     "outputs": [
      {
       "html": [
        "<div style=\"max-height:1000px;max-width:1500px;overflow:auto;\">\n",
        "<table border=\"1\" class=\"dataframe\">\n",
        "  <thead>\n",
        "    <tr style=\"text-align: right;\">\n",
        "      <th></th>\n",
        "      <th>hgr_id</th>\n",
        "      <th>searched_name</th>\n",
        "      <th>fuzzy</th>\n",
        "      <th>gname_name</th>\n",
        "      <th>gname_adminName1</th>\n",
        "      <th>gname_countryName</th>\n",
        "      <th>gname_geonameId</th>\n",
        "    </tr>\n",
        "  </thead>\n",
        "  <tbody>\n",
        "    <tr>\n",
        "      <th>2636</th>\n",
        "      <td>   9</td>\n",
        "      <td> \u0410\u043b\u0435\u043a\u0441\u0430\u043d\u0434\u0440\u043e\u0432\u0430 \u041f\u0443\u0441\u0442\u044b\u043d\u044f</td>\n",
        "      <td> 0.8</td>\n",
        "      <td> Aleksandrovka Pustyn\u2019</td>\n",
        "      <td>        Jaroslavl</td>\n",
        "      <td>  Russia</td>\n",
        "      <td> 7587354</td>\n",
        "    </tr>\n",
        "    <tr>\n",
        "      <th>2694</th>\n",
        "      <td>  13</td>\n",
        "      <td>         \u0410\u043b\u0435\u043a\u0441\u0435\u0435\u0432\u0441\u043a\u0430\u044f</td>\n",
        "      <td> 0.8</td>\n",
        "      <td>           Alekseyevka</td>\n",
        "      <td>   Dnipropetrovsk</td>\n",
        "      <td> Ukraine</td>\n",
        "      <td>  713556</td>\n",
        "    </tr>\n",
        "    <tr>\n",
        "      <th>173 </th>\n",
        "      <td>  42</td>\n",
        "      <td>            \u0411\u0435\u0440\u043a\u0443\u043d\u043e\u0432\u0430</td>\n",
        "      <td> 0.8</td>\n",
        "      <td>             Berkunovo</td>\n",
        "      <td>      Moskovskaya</td>\n",
        "      <td>  Russia</td>\n",
        "      <td>  857333</td>\n",
        "    </tr>\n",
        "    <tr>\n",
        "      <th>499 </th>\n",
        "      <td>  71</td>\n",
        "      <td>              \u0411\u043e\u0440\u043e\u043c\u0434\u044f</td>\n",
        "      <td> 0.8</td>\n",
        "      <td>              Boromlya</td>\n",
        "      <td>             Sumy</td>\n",
        "      <td> Ukraine</td>\n",
        "      <td>  711629</td>\n",
        "    </tr>\n",
        "    <tr>\n",
        "      <th>1596</th>\n",
        "      <td> 121</td>\n",
        "      <td>              \u0412\u043e\u043b\u044b\u043d\u0446\u044b</td>\n",
        "      <td> 1.0</td>\n",
        "      <td>              Volyntsy</td>\n",
        "      <td>          Vitebsk</td>\n",
        "      <td> Belarus</td>\n",
        "      <td>  620010</td>\n",
        "    </tr>\n",
        "    <tr>\n",
        "      <th>1038</th>\n",
        "      <td> 135</td>\n",
        "      <td>             \u0412\u044b\u0448\u0433\u043e\u0440\u043e\u0434</td>\n",
        "      <td> 0.8</td>\n",
        "      <td>            Vyshegorod</td>\n",
        "      <td>            Pskov</td>\n",
        "      <td>  Russia</td>\n",
        "      <td>  470298</td>\n",
        "    </tr>\n",
        "    <tr>\n",
        "      <th>1669</th>\n",
        "      <td> 143</td>\n",
        "      <td>            \u0413\u0430\u0432\u0440\u0438\u043b\u043e\u0432\u0430</td>\n",
        "      <td> 1.0</td>\n",
        "      <td>             Gavrilovo</td>\n",
        "      <td>      Moskovskaya</td>\n",
        "      <td>  Russia</td>\n",
        "      <td>  561837</td>\n",
        "    </tr>\n",
        "    <tr>\n",
        "      <th>2293</th>\n",
        "      <td> 146</td>\n",
        "      <td>               \u0413\u0430\u043b\u044f\u043d\u0438</td>\n",
        "      <td> 0.8</td>\n",
        "      <td>                Ga\u013c\u0101ni</td>\n",
        "      <td>    Prei\u013cu Rajons</td>\n",
        "      <td>  Latvia</td>\n",
        "      <td>  459900</td>\n",
        "    </tr>\n",
        "    <tr>\n",
        "      <th>2521</th>\n",
        "      <td> 156</td>\n",
        "      <td>            \u0413\u043b\u0443\u0448\u0438\u0446\u043a\u0438\u0439</td>\n",
        "      <td> 1.0</td>\n",
        "      <td>           Glushitskiy</td>\n",
        "      <td>           Samara</td>\n",
        "      <td>  Russia</td>\n",
        "      <td>  561002</td>\n",
        "    </tr>\n",
        "    <tr>\n",
        "      <th>207 </th>\n",
        "      <td> 175</td>\n",
        "      <td>              \u0413\u0440\u0435\u043c\u044f\u0447\u044c</td>\n",
        "      <td> 1.0</td>\n",
        "      <td>              Gremyach</td>\n",
        "      <td>        Chernihiv</td>\n",
        "      <td> Ukraine</td>\n",
        "      <td>  708146</td>\n",
        "    </tr>\n",
        "    <tr>\n",
        "      <th>1324</th>\n",
        "      <td> 198</td>\n",
        "      <td>              \u0414\u0440\u0438\u0446\u0430\u043d\u044b</td>\n",
        "      <td> 0.8</td>\n",
        "      <td>               Dric\u0113ni</td>\n",
        "      <td>  R\u0113zeknes Rajons</td>\n",
        "      <td>  Latvia</td>\n",
        "      <td>  460257</td>\n",
        "    </tr>\n",
        "    <tr>\n",
        "      <th>8   </th>\n",
        "      <td> 220</td>\n",
        "      <td>             \u0415\u0440\u0430\u0445\u0442\u0443\u0440\u0430</td>\n",
        "      <td> 0.8</td>\n",
        "      <td>             Yerakhtur</td>\n",
        "      <td>           Rjazan</td>\n",
        "      <td>  Russia</td>\n",
        "      <td>  467445</td>\n",
        "    </tr>\n",
        "    <tr>\n",
        "      <th>1275</th>\n",
        "      <td> 227</td>\n",
        "      <td>               \u0416\u043e\u0432\u043d\u0438\u043d</td>\n",
        "      <td> 0.8</td>\n",
        "      <td>              Zhovnino</td>\n",
        "      <td>         Cherkasy</td>\n",
        "      <td> Ukraine</td>\n",
        "      <td>  687092</td>\n",
        "    </tr>\n",
        "    <tr>\n",
        "      <th>2525</th>\n",
        "      <td> 240</td>\n",
        "      <td>              \u0417\u043e\u043b\u043e\u0447\u0435\u0432</td>\n",
        "      <td> 1.0</td>\n",
        "      <td>              Zolochiv</td>\n",
        "      <td>          Kharkiv</td>\n",
        "      <td> Ukraine</td>\n",
        "      <td>  686895</td>\n",
        "    </tr>\n",
        "    <tr>\n",
        "      <th>951 </th>\n",
        "      <td> 250</td>\n",
        "      <td>             \u0418\u0432\u0430\u043d\u043e\u0432\u0446\u044b</td>\n",
        "      <td> 0.8</td>\n",
        "      <td>            Ivankovtsy</td>\n",
        "      <td>       Kirovohrad</td>\n",
        "      <td> Ukraine</td>\n",
        "      <td>  707482</td>\n",
        "    </tr>\n",
        "    <tr>\n",
        "      <th>1420</th>\n",
        "      <td> 263</td>\n",
        "      <td>             \u0418\u0441\u0442\u0430\u043b\u0435\u043d\u0430</td>\n",
        "      <td> 0.8</td>\n",
        "      <td>              Istalsna</td>\n",
        "      <td>    Ludzas Rajons</td>\n",
        "      <td>  Latvia</td>\n",
        "      <td>  459517</td>\n",
        "    </tr>\n",
        "    <tr>\n",
        "      <th>151 </th>\n",
        "      <td> 275</td>\n",
        "      <td>       \u041a\u0430\u0440\u0430\u0441\u0443 - \u0411\u0430\u0437\u0430\u0440</td>\n",
        "      <td> 0.9</td>\n",
        "      <td>            Bilohirs\u2019k</td>\n",
        "      <td>           Crimea</td>\n",
        "      <td> Ukraine</td>\n",
        "      <td>  712587</td>\n",
        "    </tr>\n",
        "    <tr>\n",
        "      <th>1863</th>\n",
        "      <td> 297</td>\n",
        "      <td>             \u041a\u0438\u0448\u0435\u043d\u044c\u043a\u0430</td>\n",
        "      <td> 0.8</td>\n",
        "      <td>              Kishenka</td>\n",
        "      <td>          Poltava</td>\n",
        "      <td> Ukraine</td>\n",
        "      <td>  705771</td>\n",
        "    </tr>\n",
        "    <tr>\n",
        "      <th>2497</th>\n",
        "      <td> 303</td>\n",
        "      <td>              \u041a\u043e\u0431\u044b\u0437\u0447\u0430</td>\n",
        "      <td> 0.8</td>\n",
        "      <td>             Kobyzhcha</td>\n",
        "      <td>        Chernihiv</td>\n",
        "      <td> Ukraine</td>\n",
        "      <td>  705524</td>\n",
        "    </tr>\n",
        "    <tr>\n",
        "      <th>2160</th>\n",
        "      <td> 306</td>\n",
        "      <td>            \u041a\u043e\u043b\u044b\u043c\u0441\u043a\u043e\u0435</td>\n",
        "      <td> 1.0</td>\n",
        "      <td>            Kolymskaya</td>\n",
        "      <td>            Sakha</td>\n",
        "      <td>  Russia</td>\n",
        "      <td> 2124393</td>\n",
        "    </tr>\n",
        "    <tr>\n",
        "      <th>2147</th>\n",
        "      <td> 313</td>\n",
        "      <td>           \u041a\u043e\u0437\u043b\u043e\u0432\u0441\u043a\u0430\u044f</td>\n",
        "      <td> 0.9</td>\n",
        "      <td> Nikolayevo-Kozlovskiy</td>\n",
        "      <td>           Rostov</td>\n",
        "      <td>  Russia</td>\n",
        "      <td>  521876</td>\n",
        "    </tr>\n",
        "    <tr>\n",
        "      <th>1101</th>\n",
        "      <td> 314</td>\n",
        "      <td>             \u041a\u043e\u043a\u043e\u0432\u0438\u043d\u043e</td>\n",
        "      <td> 1.0</td>\n",
        "      <td>              Kokovino</td>\n",
        "      <td>      Moskovskaya</td>\n",
        "      <td>  Russia</td>\n",
        "      <td>  818952</td>\n",
        "    </tr>\n",
        "    <tr>\n",
        "      <th>1870</th>\n",
        "      <td> 321</td>\n",
        "      <td>        \u041a\u043e\u043d\u0441\u0442\u0430\u043d\u0442\u0438\u043d\u043e\u0432\u043e</td>\n",
        "      <td> 0.9</td>\n",
        "      <td>          Kostyantyniv</td>\n",
        "      <td>             Sumy</td>\n",
        "      <td> Ukraine</td>\n",
        "      <td> 8409306</td>\n",
        "    </tr>\n",
        "    <tr>\n",
        "      <th>517 </th>\n",
        "      <td> 325</td>\n",
        "      <td>              \u041a\u043e\u0440\u043e\u0432\u0430\u0439</td>\n",
        "      <td> 0.8</td>\n",
        "      <td>              Korovayi</td>\n",
        "      <td>          Poltava</td>\n",
        "      <td> Ukraine</td>\n",
        "      <td>  704879</td>\n",
        "    </tr>\n",
        "    <tr>\n",
        "      <th>1934</th>\n",
        "      <td> 378</td>\n",
        "      <td>              \u041b\u0435\u0436\u043d\u0435\u0432\u043e</td>\n",
        "      <td> 1.0</td>\n",
        "      <td>              Lezhnevo</td>\n",
        "      <td>          Ivanovo</td>\n",
        "      <td>  Russia</td>\n",
        "      <td>  535366</td>\n",
        "    </tr>\n",
        "    <tr>\n",
        "      <th>255 </th>\n",
        "      <td> 386</td>\n",
        "      <td>             \u041b\u043e\u043f\u043e\u0442\u043e\u0432\u043e</td>\n",
        "      <td> 1.0</td>\n",
        "      <td>              Lopotovo</td>\n",
        "      <td>            Kirov</td>\n",
        "      <td>  Russia</td>\n",
        "      <td> 7095250</td>\n",
        "    </tr>\n",
        "    <tr>\n",
        "      <th>2265</th>\n",
        "      <td> 387</td>\n",
        "      <td>             \u041b\u043e\u0442\u0441\u0448\u0438\u043d\u043e</td>\n",
        "      <td> 0.8</td>\n",
        "      <td>             Lotoshino</td>\n",
        "      <td>      Moskovskaya</td>\n",
        "      <td>  Russia</td>\n",
        "      <td>  533975</td>\n",
        "    </tr>\n",
        "    <tr>\n",
        "      <th>781 </th>\n",
        "      <td> 402</td>\n",
        "      <td>             \u041c\u0430\u043a\u0430\u043b\u043e\u0432\u043e</td>\n",
        "      <td> 0.8</td>\n",
        "      <td>              Makolovo</td>\n",
        "      <td>        Mordoviya</td>\n",
        "      <td>  Russia</td>\n",
        "      <td>  532017</td>\n",
        "    </tr>\n",
        "    <tr>\n",
        "      <th>2426</th>\n",
        "      <td> 415</td>\n",
        "      <td>               \u041c\u0430\u0447\u0443\u0445\u0430</td>\n",
        "      <td> 0.8</td>\n",
        "      <td>              Machekhi</td>\n",
        "      <td>          Poltava</td>\n",
        "      <td> Ukraine</td>\n",
        "      <td>  702369</td>\n",
        "    </tr>\n",
        "    <tr>\n",
        "      <th>1872</th>\n",
        "      <td> 416</td>\n",
        "      <td>               \u041c\u0430\u0448\u0435\u0432\u043e</td>\n",
        "      <td> 1.0</td>\n",
        "      <td>               Mashevo</td>\n",
        "      <td>        Chernihiv</td>\n",
        "      <td> Ukraine</td>\n",
        "      <td>  701635</td>\n",
        "    </tr>\n",
        "    <tr>\n",
        "      <th>220 </th>\n",
        "      <td> 443</td>\n",
        "      <td>              \u041c\u043e\u0440\u043e\u043c\u0441\u043a</td>\n",
        "      <td> 0.8</td>\n",
        "      <td>               Morovsk</td>\n",
        "      <td>        Chernihiv</td>\n",
        "      <td> Ukraine</td>\n",
        "      <td>  700773</td>\n",
        "    </tr>\n",
        "    <tr>\n",
        "      <th>82  </th>\n",
        "      <td> 448</td>\n",
        "      <td>               \u041c\u043e\u0446\u044b\u043d\u0430</td>\n",
        "      <td> 0.8</td>\n",
        "      <td>                Morino</td>\n",
        "      <td>     Grodnenskaya</td>\n",
        "      <td> Belarus</td>\n",
        "      <td>  624988</td>\n",
        "    </tr>\n",
        "    <tr>\n",
        "      <th>1104</th>\n",
        "      <td> 463</td>\n",
        "      <td>              \u041d\u0430\u0441\u043f\u0438\u0449\u0438</td>\n",
        "      <td> 0.8</td>\n",
        "      <td>            Naspishchi</td>\n",
        "      <td>             Tula</td>\n",
        "      <td>  Russia</td>\n",
        "      <td> 6714864</td>\n",
        "    </tr>\n",
        "    <tr>\n",
        "      <th>2164</th>\n",
        "      <td> 471</td>\n",
        "      <td>       \u041d\u043e\u0432\u043e\u0439 \u041c\u0438\u0440\u0433\u043e\u0440\u043e\u0434</td>\n",
        "      <td> 0.8</td>\n",
        "      <td>          Novomyrhorod</td>\n",
        "      <td>       Kirovohrad</td>\n",
        "      <td> Ukraine</td>\n",
        "      <td>  699453</td>\n",
        "    </tr>\n",
        "    <tr>\n",
        "      <th>1724</th>\n",
        "      <td> 472</td>\n",
        "      <td>          \u041d\u043e\u0432\u043e\u0439 \u041e\u0441\u043a\u043e\u043b</td>\n",
        "      <td> 0.9</td>\n",
        "      <td>           Novyy Oskol</td>\n",
        "      <td>         Belgorod</td>\n",
        "      <td>  Russia</td>\n",
        "      <td>  516931</td>\n",
        "    </tr>\n",
        "    <tr>\n",
        "      <th>1086</th>\n",
        "      <td> 480</td>\n",
        "      <td>         \u041e\u0431\u0435\u0440 - \u041f\u0430\u043b\u0435\u043d</td>\n",
        "      <td> 1.0</td>\n",
        "      <td>             P\u00f5ltsamaa</td>\n",
        "      <td>        J\u00f5gevamaa</td>\n",
        "      <td> Estonia</td>\n",
        "      <td>  589379</td>\n",
        "    </tr>\n",
        "    <tr>\n",
        "      <th>674 </th>\n",
        "      <td> 494</td>\n",
        "      <td>            \u041e\u043d\u043e\u0444\u0440\u0438\u0435\u0432\u043e</td>\n",
        "      <td> 0.8</td>\n",
        "      <td>            Onufriyevo</td>\n",
        "      <td>      Moskovskaya</td>\n",
        "      <td>  Russia</td>\n",
        "      <td>  515200</td>\n",
        "    </tr>\n",
        "    <tr>\n",
        "      <th>546 </th>\n",
        "      <td> 506</td>\n",
        "      <td>           \u041e\u0441\u0442\u0440\u0430\u043c\u044c\u0435\u0432\u043e</td>\n",
        "      <td> 0.8</td>\n",
        "      <td>           Astram\u2019yevo</td>\n",
        "      <td>      Moskovskaya</td>\n",
        "      <td>  Russia</td>\n",
        "      <td>  819250</td>\n",
        "    </tr>\n",
        "    <tr>\n",
        "      <th>1329</th>\n",
        "      <td> 541</td>\n",
        "      <td>               \u041f\u043e\u0433\u0430\u0440\u044c</td>\n",
        "      <td> 1.0</td>\n",
        "      <td>                 Pogar</td>\n",
        "      <td>          Brjansk</td>\n",
        "      <td>  Russia</td>\n",
        "      <td>  507875</td>\n",
        "    </tr>\n",
        "    <tr>\n",
        "      <th>2311</th>\n",
        "      <td> 566</td>\n",
        "      <td>                \u041f\u0443\u043f\u043a\u0438</td>\n",
        "      <td> 1.0</td>\n",
        "      <td>                 Pupki</td>\n",
        "      <td>          Ivanovo</td>\n",
        "      <td>  Russia</td>\n",
        "      <td>  504127</td>\n",
        "    </tr>\n",
        "    <tr>\n",
        "      <th>2150</th>\n",
        "      <td> 582</td>\n",
        "      <td>            \u0420\u043e\u043b\u043e\u0432\u0441\u043a\u043e\u0435</td>\n",
        "      <td> 0.8</td>\n",
        "      <td>           Roslovskoye</td>\n",
        "      <td>          Vologda</td>\n",
        "      <td>  Russia</td>\n",
        "      <td> 7495540</td>\n",
        "    </tr>\n",
        "    <tr>\n",
        "      <th>1866</th>\n",
        "      <td> 590</td>\n",
        "      <td>               \u0420\u0443\u0448\u043e\u043d\u0430</td>\n",
        "      <td> 0.8</td>\n",
        "      <td>                Ru\u0161ona</td>\n",
        "      <td>          Riebi\u0146u</td>\n",
        "      <td>  Latvia</td>\n",
        "      <td>  455957</td>\n",
        "    </tr>\n",
        "    <tr>\n",
        "      <th>363 </th>\n",
        "      <td> 604</td>\n",
        "      <td>              \u0421\u0430\u0440\u0430\u043d\u0441\u043a</td>\n",
        "      <td> 1.0</td>\n",
        "      <td>               Saransk</td>\n",
        "      <td>        Mordoviya</td>\n",
        "      <td>  Russia</td>\n",
        "      <td>  498698</td>\n",
        "    </tr>\n",
        "    <tr>\n",
        "      <th>277 </th>\n",
        "      <td> 609</td>\n",
        "      <td>              \u0421\u0432\u0435\u0440\u0436\u0438\u043d</td>\n",
        "      <td> 0.8</td>\n",
        "      <td>             Sverzhen\u2019</td>\n",
        "      <td>            Gomel</td>\n",
        "      <td> Belarus</td>\n",
        "      <td>  621081</td>\n",
        "    </tr>\n",
        "    <tr>\n",
        "      <th>1990</th>\n",
        "      <td> 616</td>\n",
        "      <td>               \u0421\u0435\u0434\u043d\u0435\u0432</td>\n",
        "      <td> 1.0</td>\n",
        "      <td>                Sedn\u00ebv</td>\n",
        "      <td>        Chernihiv</td>\n",
        "      <td> Ukraine</td>\n",
        "      <td>  694715</td>\n",
        "    </tr>\n",
        "    <tr>\n",
        "      <th>2691</th>\n",
        "      <td> 626</td>\n",
        "      <td> \u0421\u0435\u0440\u0435\u0434\u0430 \u0421\u0442\u0440\u0430\u0442\u0438\u043b\u0430\u0442\u0441\u043a\u0430\u044f</td>\n",
        "      <td> 0.8</td>\n",
        "      <td>                Sereda</td>\n",
        "      <td>      Moskovskaya</td>\n",
        "      <td>  Russia</td>\n",
        "      <td>  496875</td>\n",
        "    </tr>\n",
        "    <tr>\n",
        "      <th>2633</th>\n",
        "      <td> 663</td>\n",
        "      <td>               \u0421\u0442\u0435\u0448\u043a\u0438</td>\n",
        "      <td> 0.8</td>\n",
        "      <td>               St\u00ebzhki</td>\n",
        "      <td>           Tambov</td>\n",
        "      <td>  Russia</td>\n",
        "      <td>  487481</td>\n",
        "    </tr>\n",
        "    <tr>\n",
        "      <th>1047</th>\n",
        "      <td> 682</td>\n",
        "      <td>            \u0422\u0435\u043d\u0433\u0443\u0448\u0435\u0432\u0430</td>\n",
        "      <td> 0.8</td>\n",
        "      <td>           Ten'gushevo</td>\n",
        "      <td>        Mordoviya</td>\n",
        "      <td>  Russia</td>\n",
        "      <td>  483642</td>\n",
        "    </tr>\n",
        "    <tr>\n",
        "      <th>1483</th>\n",
        "      <td> 697</td>\n",
        "      <td>                \u0423\u0440\u0435\u043d\u044c</td>\n",
        "      <td> 1.0</td>\n",
        "      <td>                 Uren'</td>\n",
        "      <td> Nizjnij Novgorod</td>\n",
        "      <td>  Russia</td>\n",
        "      <td>  478757</td>\n",
        "    </tr>\n",
        "    <tr>\n",
        "      <th>2115</th>\n",
        "      <td> 715</td>\n",
        "      <td>             \u0423\u043d\u043a\u043e\u0441\u043e\u0432\u0430</td>\n",
        "      <td> 0.8</td>\n",
        "      <td>              Unkosovo</td>\n",
        "      <td>           Rjazan</td>\n",
        "      <td>  Russia</td>\n",
        "      <td>  478982</td>\n",
        "    </tr>\n",
        "    <tr>\n",
        "      <th>1597</th>\n",
        "      <td> 734</td>\n",
        "      <td>              \u0425\u0430\u0440\u044c\u043a\u043e\u0432</td>\n",
        "      <td> 1.0</td>\n",
        "      <td>               Kharkiv</td>\n",
        "      <td>          Kharkiv</td>\n",
        "      <td> Ukraine</td>\n",
        "      <td>  706483</td>\n",
        "    </tr>\n",
        "    <tr>\n",
        "      <th>154 </th>\n",
        "      <td> 748</td>\n",
        "      <td>            \u0426\u0430\u0440\u0438\u0447\u0435\u043d\u043a\u0430</td>\n",
        "      <td> 0.8</td>\n",
        "      <td>           Tsarychanka</td>\n",
        "      <td>   Dnipropetrovsk</td>\n",
        "      <td> Ukraine</td>\n",
        "      <td>  691155</td>\n",
        "    </tr>\n",
        "    <tr>\n",
        "      <th>2528</th>\n",
        "      <td> 762</td>\n",
        "      <td>           \u0427\u0435\u0440\u043b\u044f\u043d\u043a\u043e\u0432\u043e</td>\n",
        "      <td> 0.8</td>\n",
        "      <td>           Cherlenkovo</td>\n",
        "      <td>      Moskovskaya</td>\n",
        "      <td>  Russia</td>\n",
        "      <td>  569138</td>\n",
        "    </tr>\n",
        "    <tr>\n",
        "      <th>1040</th>\n",
        "      <td> 770</td>\n",
        "      <td>     \u0427\u0438\u0433\u0438\u0440\u0438\u043d\u044a-\u0414\u0443\u0431\u0440\u043e\u0432\u0430</td>\n",
        "      <td> 0.9</td>\n",
        "      <td>      Chigirin-Dubrava</td>\n",
        "      <td>          Poltava</td>\n",
        "      <td> Ukraine</td>\n",
        "      <td>  710472</td>\n",
        "    </tr>\n",
        "    <tr>\n",
        "      <th>274 </th>\n",
        "      <td> 796</td>\n",
        "      <td>               \u042f\u043a\u0443\u0442\u0441\u043a</td>\n",
        "      <td> 1.0</td>\n",
        "      <td>               Yakutsk</td>\n",
        "      <td>            Sakha</td>\n",
        "      <td>  Russia</td>\n",
        "      <td> 2013159</td>\n",
        "    </tr>\n",
        "  </tbody>\n",
        "</table>\n",
        "</div>"
       ],
       "metadata": {},
       "output_type": "pyout",
       "prompt_number": 17,
       "text": [
        "      hgr_id         searched_name  fuzzy             gname_name  \\\n",
        "2636       9  \u0410\u043b\u0435\u043a\u0441\u0430\u043d\u0434\u0440\u043e\u0432\u0430 \u041f\u0443\u0441\u0442\u044b\u043d\u044f    0.8  Aleksandrovka Pustyn\u2019   \n",
        "2694      13          \u0410\u043b\u0435\u043a\u0441\u0435\u0435\u0432\u0441\u043a\u0430\u044f    0.8            Alekseyevka   \n",
        "173       42             \u0411\u0435\u0440\u043a\u0443\u043d\u043e\u0432\u0430    0.8              Berkunovo   \n",
        "499       71               \u0411\u043e\u0440\u043e\u043c\u0434\u044f    0.8               Boromlya   \n",
        "1596     121               \u0412\u043e\u043b\u044b\u043d\u0446\u044b    1.0               Volyntsy   \n",
        "1038     135              \u0412\u044b\u0448\u0433\u043e\u0440\u043e\u0434    0.8             Vyshegorod   \n",
        "1669     143             \u0413\u0430\u0432\u0440\u0438\u043b\u043e\u0432\u0430    1.0              Gavrilovo   \n",
        "2293     146                \u0413\u0430\u043b\u044f\u043d\u0438    0.8                 Ga\u013c\u0101ni   \n",
        "2521     156             \u0413\u043b\u0443\u0448\u0438\u0446\u043a\u0438\u0439    1.0            Glushitskiy   \n",
        "207      175               \u0413\u0440\u0435\u043c\u044f\u0447\u044c    1.0               Gremyach   \n",
        "1324     198               \u0414\u0440\u0438\u0446\u0430\u043d\u044b    0.8                Dric\u0113ni   \n",
        "8        220              \u0415\u0440\u0430\u0445\u0442\u0443\u0440\u0430    0.8              Yerakhtur   \n",
        "1275     227                \u0416\u043e\u0432\u043d\u0438\u043d    0.8               Zhovnino   \n",
        "2525     240               \u0417\u043e\u043b\u043e\u0447\u0435\u0432    1.0               Zolochiv   \n",
        "951      250              \u0418\u0432\u0430\u043d\u043e\u0432\u0446\u044b    0.8             Ivankovtsy   \n",
        "1420     263              \u0418\u0441\u0442\u0430\u043b\u0435\u043d\u0430    0.8               Istalsna   \n",
        "151      275        \u041a\u0430\u0440\u0430\u0441\u0443 - \u0411\u0430\u0437\u0430\u0440    0.9             Bilohirs\u2019k   \n",
        "1863     297              \u041a\u0438\u0448\u0435\u043d\u044c\u043a\u0430    0.8               Kishenka   \n",
        "2497     303               \u041a\u043e\u0431\u044b\u0437\u0447\u0430    0.8              Kobyzhcha   \n",
        "2160     306             \u041a\u043e\u043b\u044b\u043c\u0441\u043a\u043e\u0435    1.0             Kolymskaya   \n",
        "2147     313            \u041a\u043e\u0437\u043b\u043e\u0432\u0441\u043a\u0430\u044f    0.9  Nikolayevo-Kozlovskiy   \n",
        "1101     314              \u041a\u043e\u043a\u043e\u0432\u0438\u043d\u043e    1.0               Kokovino   \n",
        "1870     321         \u041a\u043e\u043d\u0441\u0442\u0430\u043d\u0442\u0438\u043d\u043e\u0432\u043e    0.9           Kostyantyniv   \n",
        "517      325               \u041a\u043e\u0440\u043e\u0432\u0430\u0439    0.8               Korovayi   \n",
        "1934     378               \u041b\u0435\u0436\u043d\u0435\u0432\u043e    1.0               Lezhnevo   \n",
        "255      386              \u041b\u043e\u043f\u043e\u0442\u043e\u0432\u043e    1.0               Lopotovo   \n",
        "2265     387              \u041b\u043e\u0442\u0441\u0448\u0438\u043d\u043e    0.8              Lotoshino   \n",
        "781      402              \u041c\u0430\u043a\u0430\u043b\u043e\u0432\u043e    0.8               Makolovo   \n",
        "2426     415                \u041c\u0430\u0447\u0443\u0445\u0430    0.8               Machekhi   \n",
        "1872     416                \u041c\u0430\u0448\u0435\u0432\u043e    1.0                Mashevo   \n",
        "220      443               \u041c\u043e\u0440\u043e\u043c\u0441\u043a    0.8                Morovsk   \n",
        "82       448                \u041c\u043e\u0446\u044b\u043d\u0430    0.8                 Morino   \n",
        "1104     463               \u041d\u0430\u0441\u043f\u0438\u0449\u0438    0.8             Naspishchi   \n",
        "2164     471        \u041d\u043e\u0432\u043e\u0439 \u041c\u0438\u0440\u0433\u043e\u0440\u043e\u0434    0.8           Novomyrhorod   \n",
        "1724     472           \u041d\u043e\u0432\u043e\u0439 \u041e\u0441\u043a\u043e\u043b    0.9            Novyy Oskol   \n",
        "1086     480          \u041e\u0431\u0435\u0440 - \u041f\u0430\u043b\u0435\u043d    1.0              P\u00f5ltsamaa   \n",
        "674      494             \u041e\u043d\u043e\u0444\u0440\u0438\u0435\u0432\u043e    0.8             Onufriyevo   \n",
        "546      506            \u041e\u0441\u0442\u0440\u0430\u043c\u044c\u0435\u0432\u043e    0.8            Astram\u2019yevo   \n",
        "1329     541                \u041f\u043e\u0433\u0430\u0440\u044c    1.0                  Pogar   \n",
        "2311     566                 \u041f\u0443\u043f\u043a\u0438    1.0                  Pupki   \n",
        "2150     582             \u0420\u043e\u043b\u043e\u0432\u0441\u043a\u043e\u0435    0.8            Roslovskoye   \n",
        "1866     590                \u0420\u0443\u0448\u043e\u043d\u0430    0.8                 Ru\u0161ona   \n",
        "363      604               \u0421\u0430\u0440\u0430\u043d\u0441\u043a    1.0                Saransk   \n",
        "277      609               \u0421\u0432\u0435\u0440\u0436\u0438\u043d    0.8              Sverzhen\u2019   \n",
        "1990     616                \u0421\u0435\u0434\u043d\u0435\u0432    1.0                 Sedn\u00ebv   \n",
        "2691     626  \u0421\u0435\u0440\u0435\u0434\u0430 \u0421\u0442\u0440\u0430\u0442\u0438\u043b\u0430\u0442\u0441\u043a\u0430\u044f    0.8                 Sereda   \n",
        "2633     663                \u0421\u0442\u0435\u0448\u043a\u0438    0.8                St\u00ebzhki   \n",
        "1047     682             \u0422\u0435\u043d\u0433\u0443\u0448\u0435\u0432\u0430    0.8            Ten'gushevo   \n",
        "1483     697                 \u0423\u0440\u0435\u043d\u044c    1.0                  Uren'   \n",
        "2115     715              \u0423\u043d\u043a\u043e\u0441\u043e\u0432\u0430    0.8               Unkosovo   \n",
        "1597     734               \u0425\u0430\u0440\u044c\u043a\u043e\u0432    1.0                Kharkiv   \n",
        "154      748             \u0426\u0430\u0440\u0438\u0447\u0435\u043d\u043a\u0430    0.8            Tsarychanka   \n",
        "2528     762            \u0427\u0435\u0440\u043b\u044f\u043d\u043a\u043e\u0432\u043e    0.8            Cherlenkovo   \n",
        "1040     770      \u0427\u0438\u0433\u0438\u0440\u0438\u043d\u044a-\u0414\u0443\u0431\u0440\u043e\u0432\u0430    0.9       Chigirin-Dubrava   \n",
        "274      796                \u042f\u043a\u0443\u0442\u0441\u043a    1.0                Yakutsk   \n",
        "\n",
        "      gname_adminName1 gname_countryName  gname_geonameId  \n",
        "2636         Jaroslavl            Russia          7587354  \n",
        "2694    Dnipropetrovsk           Ukraine           713556  \n",
        "173        Moskovskaya            Russia           857333  \n",
        "499               Sumy           Ukraine           711629  \n",
        "1596           Vitebsk           Belarus           620010  \n",
        "1038             Pskov            Russia           470298  \n",
        "1669       Moskovskaya            Russia           561837  \n",
        "2293     Prei\u013cu Rajons            Latvia           459900  \n",
        "2521            Samara            Russia           561002  \n",
        "207          Chernihiv           Ukraine           708146  \n",
        "1324   R\u0113zeknes Rajons            Latvia           460257  \n",
        "8               Rjazan            Russia           467445  \n",
        "1275          Cherkasy           Ukraine           687092  \n",
        "2525           Kharkiv           Ukraine           686895  \n",
        "951         Kirovohrad           Ukraine           707482  \n",
        "1420     Ludzas Rajons            Latvia           459517  \n",
        "151             Crimea           Ukraine           712587  \n",
        "1863           Poltava           Ukraine           705771  \n",
        "2497         Chernihiv           Ukraine           705524  \n",
        "2160             Sakha            Russia          2124393  \n",
        "2147            Rostov            Russia           521876  \n",
        "1101       Moskovskaya            Russia           818952  \n",
        "1870              Sumy           Ukraine          8409306  \n",
        "517            Poltava           Ukraine           704879  \n",
        "1934           Ivanovo            Russia           535366  \n",
        "255              Kirov            Russia          7095250  \n",
        "2265       Moskovskaya            Russia           533975  \n",
        "781          Mordoviya            Russia           532017  \n",
        "2426           Poltava           Ukraine           702369  \n",
        "1872         Chernihiv           Ukraine           701635  \n",
        "220          Chernihiv           Ukraine           700773  \n",
        "82        Grodnenskaya           Belarus           624988  \n",
        "1104              Tula            Russia          6714864  \n",
        "2164        Kirovohrad           Ukraine           699453  \n",
        "1724          Belgorod            Russia           516931  \n",
        "1086         J\u00f5gevamaa           Estonia           589379  \n",
        "674        Moskovskaya            Russia           515200  \n",
        "546        Moskovskaya            Russia           819250  \n",
        "1329           Brjansk            Russia           507875  \n",
        "2311           Ivanovo            Russia           504127  \n",
        "2150           Vologda            Russia          7495540  \n",
        "1866           Riebi\u0146u            Latvia           455957  \n",
        "363          Mordoviya            Russia           498698  \n",
        "277              Gomel           Belarus           621081  \n",
        "1990         Chernihiv           Ukraine           694715  \n",
        "2691       Moskovskaya            Russia           496875  \n",
        "2633            Tambov            Russia           487481  \n",
        "1047         Mordoviya            Russia           483642  \n",
        "1483  Nizjnij Novgorod            Russia           478757  \n",
        "2115            Rjazan            Russia           478982  \n",
        "1597           Kharkiv           Ukraine           706483  \n",
        "154     Dnipropetrovsk           Ukraine           691155  \n",
        "2528       Moskovskaya            Russia           569138  \n",
        "1040           Poltava           Ukraine           710472  \n",
        "274              Sakha            Russia          2013159  "
       ]
      }
     ],
     "prompt_number": 17
    },
    {
     "cell_type": "code",
     "collapsed": false,
     "input": [
      "print(len(single_results))\n",
      "print(len(single_results.hgr_id.unique()))"
     ],
     "language": "python",
     "metadata": {},
     "outputs": [
      {
       "output_type": "stream",
       "stream": "stdout",
       "text": [
        "119\n",
        "119\n"
       ]
      }
     ],
     "prompt_number": 18
    },
    {
     "cell_type": "code",
     "collapsed": false,
     "input": [
      "single_results.index=single_results.hgr_id\n",
      "sj = json.loads(single_results.to_json(orient='index'))"
     ],
     "language": "python",
     "metadata": {},
     "outputs": [],
     "prompt_number": 19
    },
    {
     "cell_type": "code",
     "collapsed": false,
     "input": [
      "for k,v in sj.items():\n",
      "    if v['fuzzy']>=.8:\n",
      "        market_db[k]['geo'] = {\"coded\":\"automated\"}\n",
      "        market_db[k]['geo'][\"country_code\"] = v['gname_countryCode']\n",
      "        market_db[k]['geo'][\"geonameId\"] = \"http://geonames.org/{}\".format(v['gname_geonameId'])\n",
      "        market_db[k]['geo'][\"pres_country\"] = v['gname_countryName']\n",
      "        market_db[k]['geo'][\"pres_loc\"] = \"{}, {}, {}\".format(v['gname_name'],v['gname_adminName1'],v['gname_countryName'])\n",
      "        market_db[k]['geo'][\"x_coord\"] = v['gname_lng']\n",
      "        market_db[k]['geo'][\"y_coord\"] = v['gname_lat_y']"
     ],
     "language": "python",
     "metadata": {},
     "outputs": [],
     "prompt_number": 20
    },
    {
     "cell_type": "code",
     "collapsed": false,
     "input": [
      "with open('output/enhanced_dataset.json','w',encoding='utf-8') as fp:\n",
      "    json.dump(market_db,fp,sort_keys=True,indent=2)"
     ],
     "language": "python",
     "metadata": {},
     "outputs": [],
     "prompt_number": 21
    },
    {
     "cell_type": "code",
     "collapsed": false,
     "input": [
      "#geodf_merged = pd.merge(geodf,market_df,left_on='hgr_id',right_index=True)"
     ],
     "language": "python",
     "metadata": {},
     "outputs": [],
     "prompt_number": 29
    },
    {
     "cell_type": "code",
     "collapsed": false,
     "input": [
      "#geodf_merged = geodf_merged[['hgr_id', 'name', 'alt_name', 'partof_id', 'lng', 'lat', '_type', 'source_url', 'text', 'name_modern_sp', 'result_placename','searched_placename', 'admin1', 'country_name', 'src_id', 'country_code', 'url', 'local_result', 'src', 'ru_prov', 'prov_modern_sp', 'prov_stem', 'admin1_partof', 'ru_uezd','uezd_modern_sp','uezd_stem', 'admin2_partof', 'page']]"
     ],
     "language": "python",
     "metadata": {},
     "outputs": [],
     "prompt_number": 31
    },
    {
     "cell_type": "code",
     "collapsed": false,
     "input": [
      "cyrillic_translit={u'\\u0410': 'A', u'\\u0430': 'a',u'\\u0411': 'B', u'\\u0431': 'b',u'\\u0412': 'V', u'\\u0432': 'v',u'\\u0413': 'G', u'\\u0433': 'g',u'\\u0414': 'D', u'\\u0434': 'd',u'\\u0415': 'E', u'\\u0435': 'e',u'\\u0416': 'Zh', u'\\u0436': 'zh',u'\\u0417': 'Z', u'\\u0437': 'z',u'\\u0418': 'I', u'\\u0438': 'i',u'\\u0419': 'I', u'\\u0439': 'i',u'\\u041a': 'K', u'\\u043a': 'k',u'\\u041b': 'L', u'\\u043b': 'l',u'\\u041c': 'M', u'\\u043c': 'm',u'\\u041d': 'N', u'\\u043d': 'n',u'\\u041e': 'O', u'\\u043e': 'o',u'\\u041f': 'P', u'\\u043f': 'p',u'\\u0420': 'R', u'\\u0440': 'r',u'\\u0421': 'S', u'\\u0441': 's',u'\\u0422': 'T', u'\\u0442': 't',u'\\u0423': 'U', u'\\u0443': 'u',u'\\u0424': 'F', u'\\u0444': 'f',u'\\u0425': 'Kh', u'\\u0445': 'kh',u'\\u0426': 'Ts', u'\\u0446': 'ts',u'\\u0427': 'Ch', u'\\u0447': 'ch',u'\\u0428': 'Sh', u'\\u0448': 'sh',u'\\u0429': 'Shch', u'\\u0449': 'shch',u'\\u042a': '\"', u'\\u044a': '\"',u'\\u042b': 'Y', u'\\u044b': 'y',u'\\u042c': \"'\", u'\\u044c': \"'\",u'\\u042d': 'E', u'\\u044d': 'e',u'\\u042e': 'Iu', u'\\u044e': 'iu',u'\\u042f': 'Ia', u'\\u044f': 'ia',u'\\u0462': 'E', u'\\u0463': 'e'}\n",
      "\n",
      "def transliterate(word, translit_table):\n",
      "    \"\"\"\n",
      "    Transliterates 'word' based on the key/value pairs in 'translit_table'\n",
      "    \"\"\"\n",
      "    converted_word = ''\n",
      "    for char in word:\n",
      "        transchar = ''\n",
      "        if char in translit_table:\n",
      "            transchar = translit_table[char]\n",
      "        else:\n",
      "            transchar = char\n",
      "        converted_word += transchar\n",
      "    return converted_word"
     ],
     "language": "python",
     "metadata": {},
     "outputs": [],
     "prompt_number": 32
    },
    {
     "cell_type": "code",
     "collapsed": false,
     "input": [
      "geodf_merged['lc_translit'] = geodf_merged.name_modern_sp.apply(lambda text: transliterate(text,cyrillic_translit))"
     ],
     "language": "python",
     "metadata": {},
     "outputs": [],
     "prompt_number": 33
    },
    {
     "cell_type": "code",
     "collapsed": false,
     "input": [
      "geodf_merged.to_excel('output/geocoded_merged.xlsx',encoding = 'utf-8')\n",
      "geodf_merged.to_csv('output/geocoded_merged.csv',encoding = 'utf-8')"
     ],
     "language": "python",
     "metadata": {},
     "outputs": [],
     "prompt_number": 42
    },
    {
     "cell_type": "code",
     "collapsed": false,
     "input": [
      "single_results.name_modern_sp = single_results.name_modern_sp.str.title()"
     ],
     "language": "python",
     "metadata": {},
     "outputs": [],
     "prompt_number": 39
    },
    {
     "cell_type": "code",
     "collapsed": false,
     "input": [
      "single_results.to_csv('output/single_results.csv',encoding='utf-8')"
     ],
     "language": "python",
     "metadata": {},
     "outputs": [],
     "prompt_number": 41
    },
    {
     "cell_type": "code",
     "collapsed": false,
     "input": [
      "def reverse_geocode(lng,lat):\n",
      "    keepgoing = True\n",
      "    while keepgoing == True:\n",
      "        try:\n",
      "            url = \"https://maps.googleapis.com/maps/api/geocode/json\"\n",
      "            Q = {'latlng':\"{},{}\".format(lat,lng)}\n",
      "            R = requests.get(url, params=Q)\n",
      "            print(R.url)\n",
      "            geo_response = R.json()\n",
      "            locality = 'error'\n",
      "            for component in geo_response['results'][0]['address_components']:\n",
      "                if 'locality' in component['types']:\n",
      "                    locality = component['long_name']\n",
      "                elif 'administrative_area_level_1' in component['types']:\n",
      "                    admin1 = component['long_name']\n",
      "                elif 'country' in component['types']:\n",
      "                    country = component['long_name']\n",
      "                    countryCode = component['short_name']\n",
      "            if locality == 'error':\n",
      "                for component in geo_response['results'][0]['address_components']:\n",
      "                    if 'administrative_area_level_2' in component['types']:\n",
      "                        locality = component['long_name']\n",
      "            print(\"\\\"{0}, {1}\\\",\\\"{2}\\\",\\\"{3}\\\"\".format(locality,admin1,country,countryCode))\n",
      "            time.sleep(1)\n",
      "            keepgoing = False\n",
      "        except IndexError:\n",
      "            time.sleep(1)\n",
      "            continue\n",
      "        return \"{}, {}\".format(locality,admin1), country, countryCode"
     ],
     "language": "python",
     "metadata": {},
     "outputs": [],
     "prompt_number": 37
    },
    {
     "cell_type": "code",
     "collapsed": false,
     "input": [
      "single_results['pres_loc'], single_results['country'], single_results['country_code'] = np.vectorize(reverse_geocode)(single_results.lng,single_results.lat_y)"
     ],
     "language": "python",
     "metadata": {},
     "outputs": []
    },
    {
     "cell_type": "code",
     "collapsed": false,
     "input": [
      "single_results = single_results[['lat_x', 'hgr_id', 'name', 'alt_name', 'partof_id', 'lng', 'lat_y', '_type', 'source_url', 'text', 'name_modern_sp', 'lc_translit', 'pres_loc', 'country', 'country_code', 'result_placename', 'searched_placename', 'admin1', 'country_name', 'src_id', 'url', 'local_result', 'src', 'ru_prov', 'prov_modern_sp', 'prov_stem', 'ru_uezd', 'page']]"
     ],
     "language": "python",
     "metadata": {},
     "outputs": []
    }
   ],
   "metadata": {}
  }
 ]
}