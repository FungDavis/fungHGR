{
 "metadata": {
  "name": "",
  "signature": "sha256:f94207fdec4d676d083e89e0342f3b527e2e42f0f849bbe4183ce5d1bef84b30"
 },
 "nbformat": 3,
 "nbformat_minor": 0,
 "worksheets": [
  {
   "cells": [
    {
     "cell_type": "markdown",
     "metadata": {},
     "source": [
      "Geocoding with additional metadata\n",
      "==================================\n",
      "*JSON-style data format*  \n",
      "This geocoding process is based on the old, table-based one, but uses JSON data structures instead. This will, with any luck, be good for the eventual goal of putting all of this in MongoDB"
     ]
    },
    {
     "cell_type": "code",
     "collapsed": false,
     "input": [
      "import pandas as pd\n",
      "import numpy as np\n",
      "import requests, re, json, os, time, datetime"
     ],
     "language": "python",
     "metadata": {},
     "outputs": [],
     "prompt_number": 2
    },
    {
     "cell_type": "code",
     "collapsed": false,
     "input": [
      "with open(\"output/enhanced_dataset.json\",\"r\",encoding=\"utf-8\") as fp:\n",
      "    market_db = json.load(fp)"
     ],
     "language": "python",
     "metadata": {},
     "outputs": [],
     "prompt_number": 2
    },
    {
     "cell_type": "code",
     "collapsed": false,
     "input": [
      "import os\n",
      "def Ensure_dir(d):\n",
      "    \"\"\"Makes sure a directory 'd' exists, and if it doesn't, it creates one.\"\"\"\n",
      "    if not os.path.exists(d):\n",
      "        os.makedirs(d)\n",
      "    return 0"
     ],
     "language": "python",
     "metadata": {},
     "outputs": [],
     "prompt_number": 3
    },
    {
     "cell_type": "markdown",
     "metadata": {},
     "source": [
      "Geocoding begins here!\n",
      "======================"
     ]
    },
    {
     "cell_type": "code",
     "collapsed": false,
     "input": [
      "def geonames_request(placename,placeid,east=180,west=-180,north=90,south=-90,fuzzy=1):\n",
      "    \"\"\"\n",
      "    Takes a placename and optional bounding box, returns GeoNames response for query in dict form, with added url key\n",
      "    \"\"\"\n",
      "    #print(\"Running geonames_request()\")\n",
      "    url = \"http://api.geonames.org/search\"\n",
      "    Q = {'type':'json','username':'jaguillette','featureClass':'P','name':placename,'north':north,'south':south,'east':east,'west':west,'fuzzy':fuzzy}\n",
      "    R = requests.get(url,params=Q)\n",
      "    #print(R.url)\n",
      "    response = R.json()\n",
      "    Q.update({'url':R.url,'hgr_id':int(placeid)})\n",
      "    response.update({'searchinfo':Q})\n",
      "    return response"
     ],
     "language": "python",
     "metadata": {},
     "outputs": [],
     "prompt_number": 4
    },
    {
     "cell_type": "code",
     "collapsed": false,
     "input": [
      "def geo_response_parse(response,save_location=None):\n",
      "    \"\"\"\n",
      "    Takes a dict object from parsing the json of a geonames request, as returned by geonames_request.\n",
      "    Returns a dict of response properties.\n",
      "    \"\"\"\n",
      "    #print(\"Running geo_response_parse()\")\n",
      "    returnlist = []\n",
      "    try:\n",
      "        if response['totalResultsCount'] != 0:\n",
      "            for p in response['geonames']:\n",
      "                mod_dict = {}\n",
      "                for k in p:\n",
      "                    mod_dict[\"gname_{}\".format(k)] = p[k]\n",
      "                returnlist.append(mod_dict)\n",
      "            if save_location:\n",
      "                if not os.path.exists(save_location):\n",
      "                    save_json = {\"type\":\"FeatureCollection\",\"features\":[]}\n",
      "                    for f in response['geonames']:\n",
      "                        feature = {\"type\":\"Feature\",\"geometry\":{'type':'Point'},\"properties\":{}}\n",
      "                        feature['properties'] = f\n",
      "                        feature['properties'].update(response['searchinfo'])\n",
      "                        feature['geometry']['coordinates']=[float(f['lng']),float(f['lat'])]\n",
      "                        save_json['features'].append(feature)\n",
      "                    with open(save_location,'w',encoding='utf-8') as fp:\n",
      "                        json.dump(dict(save_json),fp,sort_keys=True)\n",
      "            #print(\"{} was found\".format(placename))\n",
      "        else:\n",
      "            returnlist = [{}]\n",
      "        for e in returnlist:\n",
      "            e['url'] = response['searchinfo']['url']\n",
      "            e['hgr_id'] = response['searchinfo']['hgr_id']\n",
      "            e['searched_name'] = response['searchinfo']['name']\n",
      "            e['fuzzy'] = response['searchinfo']['fuzzy']\n",
      "            e['north_bound'] = response['searchinfo']['north']\n",
      "            e['south_bound'] = response['searchinfo']['south']\n",
      "            e['east_bound'] = response['searchinfo']['east']\n",
      "            e['west_bound'] = response['searchinfo']['west']\n",
      "            e['query_datetime'] = datetime.datetime.strftime(datetime.datetime.now(),\"%Y-%m-%dT%H:%M:%S\")\n",
      "        return returnlist\n",
      "    except KeyError:\n",
      "        print(response['searchinfo']['url'])\n",
      "        return([])"
     ],
     "language": "python",
     "metadata": {},
     "outputs": [],
     "prompt_number": 5
    },
    {
     "cell_type": "code",
     "collapsed": false,
     "input": [
      "def fuzz_geonames(placename,placeid,north,south,east,west,returnlist):\n",
      "    #print(\"Running fuzz_geonames()\")\n",
      "    keepgoing = True\n",
      "    fuzzy = .9\n",
      "    while keepgoing:\n",
      "        response = geonames_request(placename,placeid,east=east,west=west,north=north,south=south,fuzzy=fuzzy)\n",
      "        save_loc = \"geonames_jsons/{}_{}_f{:.2}.json\".format(placeid,placename.replace(\" \",\"_\"),fuzzy)\n",
      "        parsed = geo_response_parse(response,save_location=save_loc)\n",
      "        returnlist.extend(parsed)\n",
      "        if any('gname_geonameId' in d for d in parsed):\n",
      "            keepgoing=False\n",
      "        else:\n",
      "            fuzzy = fuzzy-.1\n",
      "            if fuzzy<0:\n",
      "                print(\"{} was not found at max fuzz.\".format(placename))\n",
      "                keepgoing = False\n",
      "            time.sleep(1)\n",
      "    return returnlist"
     ],
     "language": "python",
     "metadata": {},
     "outputs": [],
     "prompt_number": 6
    },
    {
     "cell_type": "code",
     "collapsed": false,
     "input": [
      "def geonames_lookup(placename,placeid,east=180,west=-180,north=90,south=-90,alt_name=None):\n",
      "    \"\"\"\n",
      "    Queries geonames for given placename within bounding boxes.\n",
      "    Also queries for alternate spellings if no main spelling is found.\n",
      "    \"\"\"\n",
      "    #print(\"Running geonames_lookup()\")\n",
      "    Ensure_dir(\"geonames_jsons\")\n",
      "    returnlist = []\n",
      "    re_list = [[r'(\u043e\u0439)($|\\s)',r'\u0438\u0439\\2'],[r'(\u0441\u043a)($|\\s)',r'\\2'],[r'(\u0432)$',r'\\1\u043e']]\n",
      "    #Generating a list of possible placenames based on above regex.\n",
      "    #Placename will be added, then removed for de-duplication after set operation.\n",
      "    pname_list = [placename]\n",
      "    if alt_name is not None:\n",
      "        pname_list.append(alt_name)\n",
      "    for pair in re_list:\n",
      "        pname_list.append(re.sub(pair[0],pair[1],placename))\n",
      "    pname_list = set(pname_list)\n",
      "    pname_list.remove(placename)\n",
      "    #First geocoding attempt\n",
      "    response1 = geonames_request(placename,placeid,east=east,west=west,north=north,south=south)\n",
      "    #print(\"Now querying {}...\".format(placename))\n",
      "    time.sleep(1)\n",
      "    save_loc = \"geonames_jsons/{}_{}.json\".format(placeid,placename.replace(\" \",\"_\"))\n",
      "    parsed1 = geo_response_parse(response1,save_location=save_loc)\n",
      "    returnlist.extend(parsed1)\n",
      "    if not any('gname_geonameId' in d for d in parsed1):\n",
      "        for p in pname_list:\n",
      "            time.sleep(1)\n",
      "            print(\"Querying alternate name {}\".format(p))\n",
      "            response = geonames_request(p,placeid,east=east,west=west,north=north,south=south)\n",
      "            save_loc = \"geonames_jsons/{}_{}.json\".format(placeid,p.replace(\" \",\"_\"))\n",
      "            parsed = geo_response_parse(response,save_location=save_loc)\n",
      "            returnlist.extend(parsed)\n",
      "    if not any('gname_geonameId' in d for d in returnlist):\n",
      "        returnlist = fuzz_geonames(placename,placeid,north,south,east,west,returnlist)\n",
      "        if alt_name is not None:\n",
      "            returnlist = fuzz_geonames(alt_name,placeid,north,south,east,west,returnlist)\n",
      "    return returnlist"
     ],
     "language": "python",
     "metadata": {},
     "outputs": [],
     "prompt_number": 7
    },
    {
     "cell_type": "code",
     "collapsed": false,
     "input": [
      "with open(\"resources/partof_prov_bounds.json\",'r',encoding = 'utf-8') as fp:\n",
      "    bounding_dict = json.load(fp)"
     ],
     "language": "python",
     "metadata": {},
     "outputs": [],
     "prompt_number": 8
    },
    {
     "cell_type": "markdown",
     "metadata": {},
     "source": [
      "*Old Code*  \n",
      "no_prov = len(market_df.ix[market_df.admin1_partofID.isnull()])\n",
      "no_uezd = len(market_df.ix[market_df.admin2_partofID.isnull()])\n",
      "total = len(market_df)\n",
      "print(\"{1} / {0} ({2:.2%}) towns have no Namiestnichestvo recorded\\n{3} / {0} ({4:.2%}) towns have no Uyezd recorded\".format(total,no_prov,no_prov/total,no_uezd,no_uezd/total))"
     ]
    },
    {
     "cell_type": "markdown",
     "metadata": {},
     "source": [
      "Market Town Geocoding\n",
      "====================="
     ]
    },
    {
     "cell_type": "code",
     "collapsed": false,
     "input": [
      "geocoded = []\n",
      "problem_prov = []\n",
      "worldsearch = []\n",
      "bizarro = []\n",
      "d = 4\n",
      "for k,v in market_db.items():\n",
      "    if 'geo' not in v.keys():\n",
      "        alt = v['alt_name_new_orth']\n",
      "        if v[\"admin1_partofID\"] is None or v[\"admin1_partofID\"] in ['not_in_text','\u043d\u043e\u0442_\u0438\u043d_\u0442\u0435x\u0442']:\n",
      "            geocoded.extend(geonames_lookup(v['name_new_orth'],k,alt_name=alt))\n",
      "        else:\n",
      "            try:\n",
      "                loc = bounding_dict[str(v['admin1_partofID'])]\n",
      "            except KeyError:\n",
      "                print(v['admin1_partofID'])\n",
      "                problem_prov.append(v['admin1.partofID'])\n",
      "                continue\n",
      "            except ValueError:\n",
      "                print(\"Searching worldwide\")\n",
      "                worldsearch.append(v['admin1.partofID'])\n",
      "                N, S, E, W = 90, -90, 180, -180\n",
      "            except:\n",
      "                print(\"What even happened here?\")\n",
      "                bizarro.append(v['admin1.partofID'])\n",
      "            if \"boundaries\" in loc:\n",
      "                W, S, E, N = loc[\"boundaries\"][0], loc[\"boundaries\"][1], loc[\"boundaries\"][2], loc[\"boundaries\"][3]\n",
      "            else:\n",
      "                N, S, E, W = loc[\"center\"][0]+d, loc[\"center\"][0]-d, loc[\"center\"][1]+d, loc[\"center\"][1]-d\n",
      "            geocoded.extend(geonames_lookup(v['name_new_orth'],k,north=N,south=S,west=W,east=E,alt_name=alt))\n",
      "        print(\"Looked up {}.\".format(v['name_new_orth']))"
     ],
     "language": "python",
     "metadata": {},
     "outputs": [
      {
       "output_type": "stream",
       "stream": "stdout",
       "text": [
        "Looked up \u0413\u0440\u0435\u0431\u0435\u043d\u0438\u0448\u043a\u0438.\n",
        "Querying alternate name \u041f\u0430\u0444\u043d\u0443\u0442\u044c\u0435\u0432\u043e"
       ]
      },
      {
       "output_type": "stream",
       "stream": "stdout",
       "text": [
        "\n",
        "Looked up \u041f\u0430\u0444\u043d\u0443\u0442\u044c\u0435\u0432."
       ]
      },
      {
       "output_type": "stream",
       "stream": "stdout",
       "text": [
        "\n",
        "Looked up \u041a\u0438\u0442\u0430\u0439 - \u0413\u043e\u0440\u043e\u0434\u043e\u043a."
       ]
      },
      {
       "output_type": "stream",
       "stream": "stdout",
       "text": [
        "\n",
        "Looked up \u041a\u0443\u043c\u0437\u0435\u0440\u0441\u043a\u0430\u044f."
       ]
      },
      {
       "output_type": "stream",
       "stream": "stdout",
       "text": [
        "\n",
        "Querying alternate name \u0423\u0442\u0435\u0448\u0435\u0432\u043e"
       ]
      },
      {
       "output_type": "stream",
       "stream": "stdout",
       "text": [
        "\n",
        "Looked up \u0423\u0442\u0435\u0448\u0435\u0432."
       ]
      },
      {
       "output_type": "stream",
       "stream": "stdout",
       "text": [
        "\n",
        "Looked up \u0422\u0438\u0445\u043e\u043d\u043e\u0432\u0430."
       ]
      },
      {
       "output_type": "stream",
       "stream": "stdout",
       "text": [
        "\n",
        "Looked up \u0411\u0443\u0440\u043e\u043c\u043a\u0430."
       ]
      },
      {
       "output_type": "stream",
       "stream": "stdout",
       "text": [
        "\n",
        "Looked up \u0413\u0430\u0433\u0430\u0440\u0438\u043d\u043e."
       ]
      },
      {
       "output_type": "stream",
       "stream": "stdout",
       "text": [
        "\n",
        "Looked up \u0411\u043e\u0440\u0430."
       ]
      },
      {
       "output_type": "stream",
       "stream": "stdout",
       "text": [
        "\n",
        "Looked up \u041d\u0435\u0432\u0435\u043b\u044c."
       ]
      },
      {
       "output_type": "stream",
       "stream": "stdout",
       "text": [
        "\n",
        "Looked up \u041d\u043e\u0432\u044b\u0435 \u041c\u043b\u0438\u043d\u044b."
       ]
      },
      {
       "output_type": "stream",
       "stream": "stdout",
       "text": [
        "\n",
        "Looked up \u041a\u0438\u0430\u0441\u043e\u0432\u043a\u0430."
       ]
      },
      {
       "output_type": "stream",
       "stream": "stdout",
       "text": [
        "\n",
        "Looked up \u041a\u0443\u0440\u044c\u044f\u043d\u043e\u0432\u043e."
       ]
      },
      {
       "output_type": "stream",
       "stream": "stdout",
       "text": [
        "\n",
        "Querying alternate name \u0414\u0443\u0431\u043a\u043e\u0432\u043e"
       ]
      },
      {
       "output_type": "stream",
       "stream": "stdout",
       "text": [
        "\n",
        "Looked up \u0414\u0443\u0431\u043a\u043e\u0432."
       ]
      },
      {
       "output_type": "stream",
       "stream": "stdout",
       "text": [
        "\n",
        "Querying alternate name \u041a\u0438\u0442\u0430\u0439\u0441\u043a\u0438\u0439"
       ]
      },
      {
       "output_type": "stream",
       "stream": "stdout",
       "text": [
        "\n",
        "Looked up \u041a\u0438\u0442\u0430\u0439\u0441\u043a\u043e\u0439."
       ]
      },
      {
       "output_type": "stream",
       "stream": "stdout",
       "text": [
        "\n",
        "Looked up \u041f\u0430\u0440\u0444\u0435\u043d\u044c\u0435\u0432\u0430."
       ]
      },
      {
       "output_type": "stream",
       "stream": "stdout",
       "text": [
        "\n",
        "Looked up \u0411\u0430\u0435\u0432\u043a\u0430."
       ]
      },
      {
       "output_type": "stream",
       "stream": "stdout",
       "text": [
        "\n",
        "Querying alternate name \u042f\u0431\u043b\u0443\u043d\u043e\u0432\u043e"
       ]
      },
      {
       "output_type": "stream",
       "stream": "stdout",
       "text": [
        "\n",
        "Looked up \u042f\u0431\u043b\u0443\u043d\u043e\u0432."
       ]
      },
      {
       "output_type": "stream",
       "stream": "stdout",
       "text": [
        "\n",
        "Querying alternate name \u041b\u0430\u0434\u0438\u043d\u0441\u043a\u0438\u0439"
       ]
      },
      {
       "output_type": "stream",
       "stream": "stdout",
       "text": [
        "\n",
        "Looked up \u041b\u0430\u0434\u0438\u043d\u0441\u043a\u043e\u0439."
       ]
      },
      {
       "output_type": "stream",
       "stream": "stdout",
       "text": [
        "\n",
        "Looked up \u0412\u044b\u0447\u0443\u0433\u0430."
       ]
      },
      {
       "output_type": "stream",
       "stream": "stdout",
       "text": [
        "\n",
        "Querying alternate name \u041a\u0440\u0435\u043c\u0435\u043d\u043d\u0438\u0439"
       ]
      },
      {
       "output_type": "stream",
       "stream": "stdout",
       "text": [
        "\n",
        "Looked up \u041a\u0440\u0435\u043c\u0435\u043d\u043d\u043e\u0439."
       ]
      },
      {
       "output_type": "stream",
       "stream": "stdout",
       "text": [
        "\n",
        "Querying alternate name \u041f\u0435\u0440\u0435\u0432\u0438\u0446\u043a\u0438\u0439 \u0422\u043e\u0440\u0436\u043e\u043a"
       ]
      },
      {
       "output_type": "stream",
       "stream": "stdout",
       "text": [
        "\n",
        "Looked up \u041f\u0435\u0440\u0435\u0432\u0438\u0446\u043a\u043e\u0439 \u0422\u043e\u0440\u0436\u043e\u043a."
       ]
      },
      {
       "output_type": "stream",
       "stream": "stdout",
       "text": [
        "\n",
        "Looked up \u041c\u0430\u044f\u0447\u043a\u0430."
       ]
      },
      {
       "output_type": "stream",
       "stream": "stdout",
       "text": [
        "\n",
        "Querying alternate name \u0426\u0430\u0440\u0435\u0432 \u0411\u043e\u0440\u0438\u0441\u043e\u0432\u043e"
       ]
      },
      {
       "output_type": "stream",
       "stream": "stdout",
       "text": [
        "\n",
        "\u0426\u0430\u0440\u0435\u0432 \u0411\u043e\u0440\u0438\u0441\u043e\u0432 was not found at max fuzz."
       ]
      },
      {
       "output_type": "stream",
       "stream": "stdout",
       "text": [
        "\n",
        "Looked up \u0426\u0430\u0440\u0435\u0432 \u0411\u043e\u0440\u0438\u0441\u043e\u0432."
       ]
      },
      {
       "output_type": "stream",
       "stream": "stdout",
       "text": [
        "\n",
        "Looked up \u041a\u0443\u043f\u0435\u043d\u043a\u0430."
       ]
      },
      {
       "output_type": "stream",
       "stream": "stdout",
       "text": [
        "\n",
        "Looked up \u041f\u043e\u0440\u0435\u0447\u044c\u0435."
       ]
      },
      {
       "output_type": "stream",
       "stream": "stdout",
       "text": [
        "\n",
        "Looked up \u0411\u0443\u0448\u043d\u0440\u0432\u043e."
       ]
      },
      {
       "output_type": "stream",
       "stream": "stdout",
       "text": [
        "\n",
        "Looked up \u0420\u043e\u043f\u0441\u043a."
       ]
      },
      {
       "output_type": "stream",
       "stream": "stdout",
       "text": [
        "\n",
        "Looked up \u0411\u043e\u0439\u043d\u044f."
       ]
      },
      {
       "output_type": "stream",
       "stream": "stdout",
       "text": [
        "\n",
        "Looked up \u041f\u043e\u0434\u0432\u043e\u0440\u0433\u0430\u043b\u044c\u0441\u043a\u043e\u0435."
       ]
      },
      {
       "output_type": "stream",
       "stream": "stdout",
       "text": [
        "\n",
        "Looked up \u041f\u0435\u0442\u0440\u043e\u043c\u0430."
       ]
      },
      {
       "output_type": "stream",
       "stream": "stdout",
       "text": [
        "\n",
        "Looked up \u0428\u0430\u0442\u0441\u043a."
       ]
      },
      {
       "output_type": "stream",
       "stream": "stdout",
       "text": [
        "\n",
        "Looked up \u041a\u043e\u0431\u044b\u043b\u044f\u043a."
       ]
      },
      {
       "output_type": "stream",
       "stream": "stdout",
       "text": [
        "\n",
        "Looked up \u0421\u043e\u043a\u043e\u043b."
       ]
      },
      {
       "output_type": "stream",
       "stream": "stdout",
       "text": [
        "\n",
        "Looked up \u041a\u043b\u044e\u0447\u0435\u0432\u0441\u043a\u0430\u044f."
       ]
      },
      {
       "output_type": "stream",
       "stream": "stdout",
       "text": [
        "\n",
        "Looked up \u0410\u0440\u0445\u0430\u043d\u0433\u0435\u043b\u044c\u0441\u043a\u043e\u0435."
       ]
      },
      {
       "output_type": "stream",
       "stream": "stdout",
       "text": [
        "\n",
        "Looked up \u041a\u0438\u0440\u0438\u043b\u043e\u0435\u043e."
       ]
      },
      {
       "output_type": "stream",
       "stream": "stdout",
       "text": [
        "\n",
        "Looked up \u041f\u0435\u043d\u0430."
       ]
      },
      {
       "output_type": "stream",
       "stream": "stdout",
       "text": [
        "\n",
        "Looked up \u0418\u0432\u0430\u043d\u0433\u043e\u0440\u043e\u0434."
       ]
      },
      {
       "output_type": "stream",
       "stream": "stdout",
       "text": [
        "\n",
        "Looked up \u0411\u0435\u043b\u044b\u043d\u0438\u0447\u0438."
       ]
      },
      {
       "output_type": "stream",
       "stream": "stdout",
       "text": [
        "\n",
        "Looked up \u041a\u0440\u0438\u0432\u043e\u043d\u0430\u0432\u043e\u043b\u043e\u0446\u043a\u0430\u044f."
       ]
      },
      {
       "output_type": "stream",
       "stream": "stdout",
       "text": [
        "\n",
        "Looked up \u0418\u0432\u0430\u043d\u043e\u0432\u0441\u043a\u043e\u0435."
       ]
      },
      {
       "output_type": "stream",
       "stream": "stdout",
       "text": [
        "\n",
        "Looked up \u041a\u0438\u0430\u0442\u0430."
       ]
      },
      {
       "output_type": "stream",
       "stream": "stdout",
       "text": [
        "\n",
        "Looked up \u0414\u0435\u0440\u0433\u0430\u0447\u0438."
       ]
      },
      {
       "output_type": "stream",
       "stream": "stdout",
       "text": [
        "\n",
        "Looked up \u0425\u0430\u043b\u0447\u044c."
       ]
      },
      {
       "output_type": "stream",
       "stream": "stdout",
       "text": [
        "\n",
        "Looked up \u041a\u0440\u0430\u0441\u043d\u043e\u0433\u043e\u0440\u0441\u043a\u0430\u044f."
       ]
      },
      {
       "output_type": "stream",
       "stream": "stdout",
       "text": [
        "\n",
        "Querying alternate name \u0411\u0435\u043b\u043e\u0437\u0435\u0440\u0441\u043a\u0438\u0439 \u041a\u0438\u0440\u0438\u043b\u043e\u0432"
       ]
      },
      {
       "output_type": "stream",
       "stream": "stdout",
       "text": [
        "\n",
        "Querying alternate name \u0411\u0435\u043b\u043e\u0437\u0435\u0440\u0441\u043a\u043e\u0439 \u041a\u0438\u0440\u0438\u043b\u043e\u0432\u043e"
       ]
      },
      {
       "output_type": "stream",
       "stream": "stdout",
       "text": [
        "\n",
        "Looked up \u0411\u0435\u043b\u043e\u0437\u0435\u0440\u0441\u043a\u043e\u0439 \u041a\u0438\u0440\u0438\u043b\u043e\u0432."
       ]
      },
      {
       "output_type": "stream",
       "stream": "stdout",
       "text": [
        "\n",
        "Looked up \u041a\u0440\u0438\u0436\u0431\u0443\u0440\u0433."
       ]
      },
      {
       "output_type": "stream",
       "stream": "stdout",
       "text": [
        "\n",
        "Looked up \u0421\u0442\u0440\u0435\u043b\u0438\u0446\u0430."
       ]
      },
      {
       "output_type": "stream",
       "stream": "stdout",
       "text": [
        "\n",
        "Looked up \u0421\u0442\u044b\u0440\u043d\u044f\u043d\u044c\u0438."
       ]
      },
      {
       "output_type": "stream",
       "stream": "stdout",
       "text": [
        "\n",
        "Looked up \u0423\u043b\u043e\u043c."
       ]
      },
      {
       "output_type": "stream",
       "stream": "stdout",
       "text": [
        "\n",
        "Looked up \u0422\u0443\u0433\u043b\u0438\u043d\u0441\u043a\u0430\u044f."
       ]
      },
      {
       "output_type": "stream",
       "stream": "stdout",
       "text": [
        "\n",
        "Looked up \u041f\u0435\u0442\u0440\u043e\u0432\u0441\u043a\u043e\u0435."
       ]
      },
      {
       "output_type": "stream",
       "stream": "stdout",
       "text": [
        "\n",
        "Looked up \u0418\u0432\u0430\u043d\u043e\u0432\u043e."
       ]
      },
      {
       "output_type": "stream",
       "stream": "stdout",
       "text": [
        "\n",
        "Looked up \u0411\u0435\u043b\u043e\u043a\u0443\u0440\u0438\u043d\u0430."
       ]
      },
      {
       "output_type": "stream",
       "stream": "stdout",
       "text": [
        "\n",
        "Looked up \u041a\u0440\u0430\u0441\u043d\u043e\u0435."
       ]
      },
      {
       "output_type": "stream",
       "stream": "stdout",
       "text": [
        "\n",
        "Looked up \u0413\u043e\u0440\u043e\u0434\u043d\u044f."
       ]
      },
      {
       "output_type": "stream",
       "stream": "stdout",
       "text": [
        "\n",
        "Looked up \u0414\u0435\u0440\u043a\u0443\u043b."
       ]
      },
      {
       "output_type": "stream",
       "stream": "stdout",
       "text": [
        "\n",
        "Querying alternate name \u0418\u043e\u0441\u0438\u0444\u043e\u0432\u043e"
       ]
      },
      {
       "output_type": "stream",
       "stream": "stdout",
       "text": [
        "\n",
        "Looked up \u0418\u043e\u0441\u0438\u0444\u043e\u0432."
       ]
      },
      {
       "output_type": "stream",
       "stream": "stdout",
       "text": [
        "\n",
        "Looked up \u0418\u0432\u0430\u043d\u043e\u0432\u043a\u0430."
       ]
      },
      {
       "output_type": "stream",
       "stream": "stdout",
       "text": [
        "\n",
        "Looked up \u0421\u0435\u0440\u0435\u0432\u043a\u0430."
       ]
      },
      {
       "output_type": "stream",
       "stream": "stdout",
       "text": [
        "\n",
        "Looked up \u0414\u0443\u043a\u0448\u0442\u0438\u043b\u0430\u0433."
       ]
      },
      {
       "output_type": "stream",
       "stream": "stdout",
       "text": [
        "\n",
        "Looked up \u041a\u043e\u0436\u0438\u043d\u043e."
       ]
      },
      {
       "output_type": "stream",
       "stream": "stdout",
       "text": [
        "\n",
        "Looked up \u042f\u0440\u043e\u0441\u043b\u0430\u0432\u043b\u044c."
       ]
      },
      {
       "output_type": "stream",
       "stream": "stdout",
       "text": [
        "\n",
        "Looked up \u0421\u043f\u0438\u0440\u043e\u0432\u043e."
       ]
      },
      {
       "output_type": "stream",
       "stream": "stdout",
       "text": [
        "\n",
        "Looked up \u041d\u043e\u0432\u043e\u043d\u0438\u043a\u043e\u043b\u044c\u0441\u043a\u043e\u0435."
       ]
      },
      {
       "output_type": "stream",
       "stream": "stdout",
       "text": [
        "\n",
        "Looked up \u0418\u0447\u043d\u0430."
       ]
      },
      {
       "output_type": "stream",
       "stream": "stdout",
       "text": [
        "\n",
        "Looked up \u041f\u0435\u0440\u043c\u044c."
       ]
      },
      {
       "output_type": "stream",
       "stream": "stdout",
       "text": [
        "\n",
        "Looked up \u0421\u0438\u043c."
       ]
      },
      {
       "output_type": "stream",
       "stream": "stdout",
       "text": [
        "\n",
        "Looked up \u041d\u0430\u0440\u0432\u0430."
       ]
      },
      {
       "output_type": "stream",
       "stream": "stdout",
       "text": [
        "\n",
        "Looked up \u041e\u043b\u044b\u0448\u0430\u043d\u0430\u044f."
       ]
      },
      {
       "output_type": "stream",
       "stream": "stdout",
       "text": [
        "\n",
        "Looked up \u0410\u043b\u0435\u0448\u043d\u044f."
       ]
      },
      {
       "output_type": "stream",
       "stream": "stdout",
       "text": [
        "\n",
        "Looked up \u041a\u0430\u0434\u0438\u043d."
       ]
      },
      {
       "output_type": "stream",
       "stream": "stdout",
       "text": [
        "\n",
        "Looked up \u0421\u043e\u043b\u044c\u0446\u043e."
       ]
      },
      {
       "output_type": "stream",
       "stream": "stdout",
       "text": [
        "\n",
        "Querying alternate name \u0426\u0443\u0440\u0443\u0445\u0430\u0442\u0430\u0435\u0432\u0441\u043a\u0438\u0439"
       ]
      },
      {
       "output_type": "stream",
       "stream": "stdout",
       "text": [
        "\n",
        "\u0426\u0443\u0440\u0443\u0445\u0430\u0442\u0430\u0435\u0432\u0441\u043a\u043e\u0439 was not found at max fuzz."
       ]
      },
      {
       "output_type": "stream",
       "stream": "stdout",
       "text": [
        "\n",
        "Looked up \u0426\u0443\u0440\u0443\u0445\u0430\u0442\u0430\u0435\u0432\u0441\u043a\u043e\u0439."
       ]
      },
      {
       "output_type": "stream",
       "stream": "stdout",
       "text": [
        "\n",
        "Looked up \u041a\u0440\u0435\u043c\u0435\u043d\u0447\u0443\u0433."
       ]
      },
      {
       "output_type": "stream",
       "stream": "stdout",
       "text": [
        "\n",
        "\u0427\u0430\u0441\u043e\u0432\u043d\u044f \u0410\u043f\u043e\u0441\u0442\u043e\u043b\u0430 \u0424\u043e\u043c\u044b was not found at max fuzz."
       ]
      },
      {
       "output_type": "stream",
       "stream": "stdout",
       "text": [
        "\n",
        "Looked up \u0427\u0430\u0441\u043e\u0432\u043d\u044f \u0410\u043f\u043e\u0441\u0442\u043e\u043b\u0430 \u0424\u043e\u043c\u044b."
       ]
      },
      {
       "output_type": "stream",
       "stream": "stdout",
       "text": [
        "\n",
        "Querying alternate name \u041a\u0440\u0430\u0441\u043d\u043e\u043a\u0430\u043c\u0435\u043d\u0441\u043a\u0438\u0439"
       ]
      },
      {
       "output_type": "stream",
       "stream": "stdout",
       "text": [
        "\n",
        "Looked up \u041a\u0440\u0430\u0441\u043d\u043e\u043a\u0430\u043c\u0435\u043d\u0441\u043a\u043e\u0439."
       ]
      },
      {
       "output_type": "stream",
       "stream": "stdout",
       "text": [
        "\n",
        "Looked up \u041f\u043e\u0433\u0440\u043e\u043c\u0446\u0430."
       ]
      },
      {
       "output_type": "stream",
       "stream": "stdout",
       "text": [
        "\n",
        "Querying alternate name \u0428\u0443\u043b\u0433\u0438\u043d"
       ]
      },
      {
       "output_type": "stream",
       "stream": "stdout",
       "text": [
        "\n",
        "Looked up \u0428\u0443\u043b\u0433\u0438\u043d\u0441\u043a."
       ]
      },
      {
       "output_type": "stream",
       "stream": "stdout",
       "text": [
        "\n",
        "\u041b\u0430\u0434\u0430 was not found at max fuzz."
       ]
      },
      {
       "output_type": "stream",
       "stream": "stdout",
       "text": [
        "\n",
        "Looked up \u041b\u0430\u0434\u0430."
       ]
      },
      {
       "output_type": "stream",
       "stream": "stdout",
       "text": [
        "\n",
        "Looked up \u041a\u043e\u0441\u0442\u044e\u043a\u043e\u0432\u0438\u0447\u0438."
       ]
      },
      {
       "output_type": "stream",
       "stream": "stdout",
       "text": [
        "\n",
        "Looked up \u041f\u043e\u043a\u0440\u043e\u0432\u0441\u043a\u043e\u0435."
       ]
      },
      {
       "output_type": "stream",
       "stream": "stdout",
       "text": [
        "\n",
        "Looked up \u041e\u043b\u0438\u0448\u0435\u0432\u043a\u0430."
       ]
      },
      {
       "output_type": "stream",
       "stream": "stdout",
       "text": [
        "\n",
        "Looked up \u0411\u0435\u043b\u043e\u0446\u0435\u0440\u043a\u043e\u0432\u043a\u0430."
       ]
      },
      {
       "output_type": "stream",
       "stream": "stdout",
       "text": [
        "\n",
        "Querying alternate name \u041e\u043a\u0443\u043d\u0435\u0432"
       ]
      },
      {
       "output_type": "stream",
       "stream": "stdout",
       "text": [
        "\n",
        "Looked up \u041e\u043a\u0443\u043d\u0435\u0432\u0441\u043a."
       ]
      },
      {
       "output_type": "stream",
       "stream": "stdout",
       "text": [
        "\n",
        "Looked up \u0421\u0435\u043c\u0435\u043d\u0434\u0435\u0435\u0432\u043e."
       ]
      },
      {
       "output_type": "stream",
       "stream": "stdout",
       "text": [
        "\n",
        "Looked up \u041f\u0435\u0442\u0440\u043e\u0432\u0441\u043a\u0430\u044f."
       ]
      },
      {
       "output_type": "stream",
       "stream": "stdout",
       "text": [
        "\n",
        "Looked up \u0414\u0443\u043d\u0438\u043b\u043e\u0432\u043e."
       ]
      },
      {
       "output_type": "stream",
       "stream": "stdout",
       "text": [
        "\n",
        "Looked up \u041a\u043e\u0437\u043b\u043e\u0432\u043a\u0430."
       ]
      },
      {
       "output_type": "stream",
       "stream": "stdout",
       "text": [
        "\n",
        "Looked up \u0417\u043c\u0435\u0435\u0432\u0435."
       ]
      },
      {
       "output_type": "stream",
       "stream": "stdout",
       "text": [
        "\n",
        "Looked up \u0420\u044b\u0437\u043d."
       ]
      },
      {
       "output_type": "stream",
       "stream": "stdout",
       "text": [
        "\n",
        "Querying alternate name \u041b\u0438\u0441\u043a\u0438\u0439"
       ]
      },
      {
       "output_type": "stream",
       "stream": "stdout",
       "text": [
        "\n",
        "Looked up \u041b\u0438\u0441\u043a\u043e\u0439."
       ]
      },
      {
       "output_type": "stream",
       "stream": "stdout",
       "text": [
        "\n",
        "Looked up \u0413\u043e\u043c\u043b\u044f."
       ]
      },
      {
       "output_type": "stream",
       "stream": "stdout",
       "text": [
        "\n",
        "Querying alternate name \u0427\u0435\u0440\u0438\u043e\u043e\u0441\u0442\u0440\u043e\u0436\u0441\u043a\u0438\u0439 \u041d\u0438\u043a\u043e\u043b\u0430\u0435\u0432\u0441\u043a\u0438\u0439"
       ]
      },
      {
       "output_type": "stream",
       "stream": "stdout",
       "text": [
        "\n",
        "Looked up \u0427\u0435\u0440\u0438\u043e\u043e\u0441\u0442\u0440\u043e\u0436\u0441\u043a\u043e\u0439 \u041d\u0438\u043a\u043e\u043b\u0430\u0435\u0432\u0441\u043a\u043e\u0439."
       ]
      },
      {
       "output_type": "stream",
       "stream": "stdout",
       "text": [
        "\n",
        "\u0422\u0435\u043f\u043b\u043e\u0433\u043e\u0440\u0441\u043a\u0430\u044f \u0411\u043e\u0433\u043e\u0440\u043e\u0434\u0438\u0446\u043a\u0430\u044f was not found at max fuzz."
       ]
      },
      {
       "output_type": "stream",
       "stream": "stdout",
       "text": [
        "\n",
        "Looked up \u0422\u0435\u043f\u043b\u043e\u0433\u043e\u0440\u0441\u043a\u0430\u044f \u0411\u043e\u0433\u043e\u0440\u043e\u0434\u0438\u0446\u043a\u0430\u044f."
       ]
      },
      {
       "output_type": "stream",
       "stream": "stdout",
       "text": [
        "\n",
        "Querying alternate name \u0427\u0435\u0440\u043d\u0430\u0432"
       ]
      },
      {
       "output_type": "stream",
       "stream": "stdout",
       "text": [
        "\n",
        "Looked up \u0427\u0435\u0440\u043d\u0430\u0432\u0441\u043a."
       ]
      },
      {
       "output_type": "stream",
       "stream": "stdout",
       "text": [
        "\n",
        "Querying alternate name \u041c\u0435\u0445\u043e\u043d\u0441\u043a\u0438\u0439"
       ]
      },
      {
       "output_type": "stream",
       "stream": "stdout",
       "text": [
        "\n",
        "Looked up \u041c\u0435\u0445\u043e\u043d\u0441\u043a\u043e\u0439."
       ]
      },
      {
       "output_type": "stream",
       "stream": "stdout",
       "text": [
        "\n",
        "Looked up \u0421\u0438\u043d\u044f\u0432\u043a\u0438."
       ]
      },
      {
       "output_type": "stream",
       "stream": "stdout",
       "text": [
        "\n",
        "Querying alternate name \u0412\u0435\u043d\u0435\u0432\u0441\u043a\u0438\u0439 \u041d\u0438\u043a\u043e\u043b\u0430\u0435\u0432\u0441\u043a\u0438\u0439"
       ]
      },
      {
       "output_type": "stream",
       "stream": "stdout",
       "text": [
        "\n",
        "Looked up \u0412\u0435\u043d\u0435\u0432\u0441\u043a\u043e\u0439 \u041d\u0438\u043a\u043e\u043b\u0430\u0435\u0432\u0441\u043a\u043e\u0439."
       ]
      },
      {
       "output_type": "stream",
       "stream": "stdout",
       "text": [
        "\n",
        "Querying alternate name \u0411\u0430\u043b\u0430\u043a\u043b\u0435\u0435\u0432\u043e"
       ]
      },
      {
       "output_type": "stream",
       "stream": "stdout",
       "text": [
        "\n",
        "Looked up \u0411\u0430\u043b\u0430\u043a\u043b\u0435\u0435\u0432."
       ]
      },
      {
       "output_type": "stream",
       "stream": "stdout",
       "text": [
        "\n",
        "Looked up \u0422\u0430\u0442\u0430\u0440\u0441\u043a."
       ]
      },
      {
       "output_type": "stream",
       "stream": "stdout",
       "text": [
        "\n",
        "Looked up \u0410\u0434\u043e\u0432\u0430\u0442\u043e\u0432\u043e."
       ]
      },
      {
       "output_type": "stream",
       "stream": "stdout",
       "text": [
        "\n",
        "Querying alternate name \u0427\u0435\u0440\u043d\u0435\u0435\u0432 \u041d\u0438\u043a\u043e\u043b\u0430\u0435\u0432\u0441\u043a\u0438\u0439"
       ]
      },
      {
       "output_type": "stream",
       "stream": "stdout",
       "text": [
        "\n",
        "Looked up \u0427\u0435\u0440\u043d\u0435\u0435\u0432 \u041d\u0438\u043a\u043e\u043b\u0430\u0435\u0432\u0441\u043a\u043e\u0439."
       ]
      },
      {
       "output_type": "stream",
       "stream": "stdout",
       "text": [
        "\n",
        "Looked up \u041a\u043e\u043d\u0441\u0442\u0430\u043d\u0442\u0438\u043d\u043e\u0432\u0441\u043a\u043e\u0435."
       ]
      },
      {
       "output_type": "stream",
       "stream": "stdout",
       "text": [
        "\n",
        "Looked up \u0422\u0440\u043e\u0438\u0446\u043a\u0430\u044f \u0421\u0435\u0440\u0433\u0438\u0435\u0432\u0430."
       ]
      },
      {
       "output_type": "stream",
       "stream": "stdout",
       "text": [
        "\n",
        "Looked up \u0411\u0443\u0434\u0438\u0447\u044c."
       ]
      },
      {
       "output_type": "stream",
       "stream": "stdout",
       "text": [
        "\n",
        "Looked up \u0418\u043d\u0436\u0430\u0432\u0435\u043d\u044c\u0435."
       ]
      },
      {
       "output_type": "stream",
       "stream": "stdout",
       "text": [
        "\n",
        "Looked up \u0421\u0430\u0441\u043e\u0432\u043e."
       ]
      },
      {
       "output_type": "stream",
       "stream": "stdout",
       "text": [
        "\n",
        "Looked up \u0418\u0432\u0430\u043d\u043e\u0432\u0441\u043a\u043e\u0435."
       ]
      },
      {
       "output_type": "stream",
       "stream": "stdout",
       "text": [
        "\n",
        "Looked up \u041a\u0440\u044b\u043b\u0435\u0435\u0432\u043e."
       ]
      },
      {
       "output_type": "stream",
       "stream": "stdout",
       "text": [
        "\n",
        "Looked up \u041f\u043e\u043a\u0440\u043e\u0432\u0441\u043a\u043e\u0435."
       ]
      },
      {
       "output_type": "stream",
       "stream": "stdout",
       "text": [
        "\n",
        "Looked up \u041a\u0430\u0440\u043f\u043e\u0432\u043a\u0430."
       ]
      },
      {
       "output_type": "stream",
       "stream": "stdout",
       "text": [
        "\n",
        "Looked up \u041a\u0435\u0441\u043c\u0435."
       ]
      },
      {
       "output_type": "stream",
       "stream": "stdout",
       "text": [
        "\n",
        "Querying alternate name \u0427\u0435\u0440\u0435\u043d\u0447\u0438\u0446\u043a\u0438\u0439"
       ]
      },
      {
       "output_type": "stream",
       "stream": "stdout",
       "text": [
        "\n",
        "Looked up \u0427\u0435\u0440\u0435\u043d\u0447\u0438\u0446\u043a\u043e\u0439."
       ]
      },
      {
       "output_type": "stream",
       "stream": "stdout",
       "text": [
        "\n",
        "Looked up \u0413\u0435\u0440\u043c\u0430\u043d\u043e\u0432\u0430."
       ]
      },
      {
       "output_type": "stream",
       "stream": "stdout",
       "text": [
        "\n",
        "\u0415\u0440\u0435\u043c\u0435\u0435\u0432\u043a\u0430 was not found at max fuzz."
       ]
      },
      {
       "output_type": "stream",
       "stream": "stdout",
       "text": [
        "\n",
        "Looked up \u0415\u0440\u0435\u043c\u0435\u0435\u0432\u043a\u0430."
       ]
      },
      {
       "output_type": "stream",
       "stream": "stdout",
       "text": [
        "\n",
        "Looked up \u041e\u0434\u0438\u043d\u0446\u043e\u0432\u043e."
       ]
      },
      {
       "output_type": "stream",
       "stream": "stdout",
       "text": [
        "\n",
        "Querying alternate name \u0413\u043d\u0438\u043b\u044c\u0441\u043a\u0438\u0439"
       ]
      },
      {
       "output_type": "stream",
       "stream": "stdout",
       "text": [
        "\n",
        "Looked up \u0413\u043d\u0438\u043b\u044c\u0441\u043a\u043e\u0439."
       ]
      },
      {
       "output_type": "stream",
       "stream": "stdout",
       "text": [
        "\n",
        "Looked up \u041c\u0443\u0440\u0437\u044b\u043d\u043a\u0430."
       ]
      },
      {
       "output_type": "stream",
       "stream": "stdout",
       "text": [
        "\n",
        "Querying alternate name \u0422\u0435\u0448\u0435\u0432\u0441\u043a\u0438\u0439"
       ]
      },
      {
       "output_type": "stream",
       "stream": "stdout",
       "text": [
        "\n",
        "Looked up \u0422\u0435\u0448\u0435\u0432\u0441\u043a\u043e\u0439."
       ]
      },
      {
       "output_type": "stream",
       "stream": "stdout",
       "text": [
        "\n",
        "Looked up \u041c\u0430\u0441\u043b\u043e\u0432\u0438\u0447\u0438."
       ]
      },
      {
       "output_type": "stream",
       "stream": "stdout",
       "text": [
        "\n",
        "Looked up \u0421\u0435\u0431\u0435\u0436."
       ]
      },
      {
       "output_type": "stream",
       "stream": "stdout",
       "text": [
        "\n",
        "Looked up \u0421\u0438\u043c\u0435\u043e\u043d\u043e\u0432\u043a\u0430."
       ]
      },
      {
       "output_type": "stream",
       "stream": "stdout",
       "text": [
        "\n",
        "Looked up \u041d\u0430\u0431\u0434\u0438\u043d."
       ]
      },
      {
       "output_type": "stream",
       "stream": "stdout",
       "text": [
        "\n",
        "Looked up \u0418\u0441\u0435\u0442\u0441\u043a\u0430\u044f."
       ]
      },
      {
       "output_type": "stream",
       "stream": "stdout",
       "text": [
        "\n",
        "Looked up \u0422\u0443\u0440\u043a\u0438."
       ]
      },
      {
       "output_type": "stream",
       "stream": "stdout",
       "text": [
        "\n",
        "Looked up \u0412\u043e\u043b\u043e\u043a\u043e\u043f\u0438\u043d\u0435\u0436\u0441\u043a\u0430\u044f."
       ]
      },
      {
       "output_type": "stream",
       "stream": "stdout",
       "text": [
        "\n",
        "Looked up \u0425\u0430\u044f\u0447\u0430."
       ]
      },
      {
       "output_type": "stream",
       "stream": "stdout",
       "text": [
        "\n",
        "Looked up \u0412\u044b\u0448\u0433\u043e\u0440\u043e\u0434."
       ]
      },
      {
       "output_type": "stream",
       "stream": "stdout",
       "text": [
        "\n",
        "Querying alternate name \u0414\u0430\u0439\u043c\u0438\u043a"
       ]
      },
      {
       "output_type": "stream",
       "stream": "stdout",
       "text": [
        "\n",
        "Looked up \u0414\u0430\u0439\u043c\u0438\u043d\u043e."
       ]
      },
      {
       "output_type": "stream",
       "stream": "stdout",
       "text": [
        "\n",
        "Looked up \u0418\u0437\u043c\u0430\u0439\u043b\u043e\u0432\u043e."
       ]
      },
      {
       "output_type": "stream",
       "stream": "stdout",
       "text": [
        "\n",
        "Looked up \u041c\u0430\u0440\u043a\u0443\u0448\u0435\u0432\u0441\u043a\u0430\u044f."
       ]
      },
      {
       "output_type": "stream",
       "stream": "stdout",
       "text": [
        "\n",
        "Querying alternate name \u041f\u0430\u0432\u0448\u0438\u043d\u043e"
       ]
      },
      {
       "output_type": "stream",
       "stream": "stdout",
       "text": [
        "\n",
        "Looked up \u0413\u0430\u0442\u043d\u0438\u0446\u044b."
       ]
      },
      {
       "output_type": "stream",
       "stream": "stdout",
       "text": [
        "\n",
        "Looked up \u041e\u0441\u0442\u0435\u0440."
       ]
      },
      {
       "output_type": "stream",
       "stream": "stdout",
       "text": [
        "\n",
        "Looked up \u041a\u0443\u043d\u0433\u0443\u0440."
       ]
      },
      {
       "output_type": "stream",
       "stream": "stdout",
       "text": [
        "\n",
        "Querying alternate name \u0421\u0432\u0438\u043d\u0441\u043a\u0438\u0439"
       ]
      },
      {
       "output_type": "stream",
       "stream": "stdout",
       "text": [
        "\n",
        "Looked up \u0421\u0432\u0438\u043d\u0441\u043a\u043e\u0439."
       ]
      },
      {
       "output_type": "stream",
       "stream": "stdout",
       "text": [
        "\n",
        "Querying alternate name \u0411\u043e\u0433\u043e\u0440\u043e\u0434\u0438\u0446\u043a\u0438\u0439 \u041a\u0430\u0437\u0430\u043d\u0441\u043a\u0438\u0439"
       ]
      },
      {
       "output_type": "stream",
       "stream": "stdout",
       "text": [
        "\n",
        "Looked up \u0411\u043e\u0433\u043e\u0440\u043e\u0434\u0438\u0446\u043a\u043e\u0439 \u041a\u0430\u0437\u0430\u043d\u0441\u043a\u043e\u0439."
       ]
      },
      {
       "output_type": "stream",
       "stream": "stdout",
       "text": [
        "\n",
        "Looked up \u0421\u043f\u0430\u0441."
       ]
      },
      {
       "output_type": "stream",
       "stream": "stdout",
       "text": [
        "\n",
        "Looked up \u041c\u044f\u0433\u043a\u043e\u0435."
       ]
      },
      {
       "output_type": "stream",
       "stream": "stdout",
       "text": [
        "\n",
        "Looked up \u041e\u043a\u0432\u0430\u0434\u0441\u043a\u0430\u044f."
       ]
      },
      {
       "output_type": "stream",
       "stream": "stdout",
       "text": [
        "\n",
        "Looked up \u0425\u0440\u0443\u0449\u043e\u0432\u043e."
       ]
      },
      {
       "output_type": "stream",
       "stream": "stdout",
       "text": [
        "\n",
        "Looked up \u041e\u0440\u043b\u043e\u0432."
       ]
      },
      {
       "output_type": "stream",
       "stream": "stdout",
       "text": [
        "\n",
        "Looked up \u0415\u0441\u043a\u0435."
       ]
      },
      {
       "output_type": "stream",
       "stream": "stdout",
       "text": [
        "\n",
        "Looked up \u041f\u0438\u0441\u0430\u0440\u0435\u0432\u043a\u0430."
       ]
      },
      {
       "output_type": "stream",
       "stream": "stdout",
       "text": [
        "\n",
        "Looked up \u0411\u043e\u0433\u043e\u044f\u0432\u043b\u0435\u043d\u0441\u043a\u0430\u044f."
       ]
      },
      {
       "output_type": "stream",
       "stream": "stdout",
       "text": [
        "\n",
        "Querying alternate name \u041d\u0435\u0441\u0442\u0435\u0440\u043e\u0432\u0441\u043a\u0438\u0439"
       ]
      },
      {
       "output_type": "stream",
       "stream": "stdout",
       "text": [
        "\n",
        "Looked up \u041d\u0435\u0441\u0442\u0435\u0440\u043e\u0432\u0441\u043a\u043e\u0439."
       ]
      },
      {
       "output_type": "stream",
       "stream": "stdout",
       "text": [
        "\n",
        "Looked up \u041a\u0430\u043c\u0435\u043d\u0435\u0446."
       ]
      },
      {
       "output_type": "stream",
       "stream": "stdout",
       "text": [
        "\n",
        "Looked up \u041a\u043e\u0434\u0438\u043d\u0441\u043a\u043e\u0435."
       ]
      },
      {
       "output_type": "stream",
       "stream": "stdout",
       "text": [
        "\n",
        "Looked up \u0410\u0440\u0433\u0430\u043c\u0430\u0447\u044c\u044f."
       ]
      },
      {
       "output_type": "stream",
       "stream": "stdout",
       "text": [
        "\n",
        "Looked up \u042f\u0440\u0435\u0441\u043a\u0438."
       ]
      },
      {
       "output_type": "stream",
       "stream": "stdout",
       "text": [
        "\n",
        "Looked up \u041a\u0440\u043e\u043b\u0435\u0432\u0435\u0446."
       ]
      },
      {
       "output_type": "stream",
       "stream": "stdout",
       "text": [
        "\n",
        "Querying alternate name \u041a\u043e\u0433\u0443\u0435\u0432\u0430"
       ]
      },
      {
       "output_type": "stream",
       "stream": "stdout",
       "text": [
        "\n",
        "Looked up \u0421\u0442\u0430\u0440\u0446\u043e\u0432 \u0423\u0433\u043e\u043b."
       ]
      },
      {
       "output_type": "stream",
       "stream": "stdout",
       "text": [
        "\n",
        "Querying alternate name \u0410\u0432\u0440\u0430\u043c\u0438\u0435\u0432\u043e"
       ]
      },
      {
       "output_type": "stream",
       "stream": "stdout",
       "text": [
        "\n",
        "Looked up \u0410\u0432\u0440\u0430\u043c\u0438\u0435\u0432."
       ]
      },
      {
       "output_type": "stream",
       "stream": "stdout",
       "text": [
        "\n",
        "Looked up \u0410\u0441\u0430\u043a\u043e\u0432\u043e."
       ]
      },
      {
       "output_type": "stream",
       "stream": "stdout",
       "text": [
        "\n",
        "Looked up \u0423\u0434\u0430."
       ]
      },
      {
       "output_type": "stream",
       "stream": "stdout",
       "text": [
        "\n",
        "Looked up \u0410\u0440\u0442\u0435\u043c\u043e\u043d\u043e\u0432\u043a\u0430."
       ]
      },
      {
       "output_type": "stream",
       "stream": "stdout",
       "text": [
        "\n",
        "Looked up \u041a\u0440\u0430\u0441\u043d\u043e\u0435."
       ]
      },
      {
       "output_type": "stream",
       "stream": "stdout",
       "text": [
        "\n",
        "Looked up \u0412\u0435\u0442\u043a\u0430."
       ]
      },
      {
       "output_type": "stream",
       "stream": "stdout",
       "text": [
        "\n",
        "Looked up \u0411\u0435\u043b\u0438\u043a\u0438."
       ]
      },
      {
       "output_type": "stream",
       "stream": "stdout",
       "text": [
        "\n",
        "Looked up \u041f\u0443\u0442\u044f\u0442\u0438\u043d\u043e."
       ]
      },
      {
       "output_type": "stream",
       "stream": "stdout",
       "text": [
        "\n",
        "Looked up \u041a\u043e\u043c\u043b\u0438\u0447\u043a\u0438."
       ]
      },
      {
       "output_type": "stream",
       "stream": "stdout",
       "text": [
        "\n",
        "Looked up \u041c\u0435\u0440\u0435\u0445\u0432\u0430."
       ]
      },
      {
       "output_type": "stream",
       "stream": "stdout",
       "text": [
        "\n",
        "Looked up \u041c\u0443\u0440\u0430\u0442\u043e\u0432\u0430."
       ]
      },
      {
       "output_type": "stream",
       "stream": "stdout",
       "text": [
        "\n",
        "Looked up \u041f\u0441\u043a\u043e\u0432."
       ]
      },
      {
       "output_type": "stream",
       "stream": "stdout",
       "text": [
        "\n",
        "Looked up \u0418\u0433\u0443\u043c\u043d\u043e\u0432\u043e."
       ]
      },
      {
       "output_type": "stream",
       "stream": "stdout",
       "text": [
        "\n",
        "Looked up \u041b\u0443\u043a\u043e\u043c\u043b\u044f."
       ]
      },
      {
       "output_type": "stream",
       "stream": "stdout",
       "text": [
        "\n",
        "Looked up \u042f\u0437\u044b\u043a\u043e\u0432\u043e."
       ]
      },
      {
       "output_type": "stream",
       "stream": "stdout",
       "text": [
        "\n",
        "Querying alternate name \u042f\u043a\u0438\u043c\u0446\u0430"
       ]
      },
      {
       "output_type": "stream",
       "stream": "stdout",
       "text": [
        "\n",
        "Looked up \u0423\u0445\u043e\u043b\u043e\u0432\u043e."
       ]
      },
      {
       "output_type": "stream",
       "stream": "stdout",
       "text": [
        "\n",
        "Looked up \u041f\u043e\u0447\u0438\u043d\u043a\u0438."
       ]
      },
      {
       "output_type": "stream",
       "stream": "stdout",
       "text": [
        "\n",
        "Looked up \u0420\u0443\u0431\u0435\u0436\u043d\u0430\u044f."
       ]
      },
      {
       "output_type": "stream",
       "stream": "stdout",
       "text": [
        "\n",
        "Looked up \u041b\u0435\u0432\u044b\u0435 \u041b\u0430\u043c\u043a\u0438."
       ]
      },
      {
       "output_type": "stream",
       "stream": "stdout",
       "text": [
        "\n",
        "Looked up \u041b\u0443\u0436\u043a\u0438."
       ]
      },
      {
       "output_type": "stream",
       "stream": "stdout",
       "text": [
        "\n",
        "Querying alternate name \u041c\u0438\u0445\u0430\u0439\u043b\u043e\u0432\u0441\u043a\u0438\u0439"
       ]
      },
      {
       "output_type": "stream",
       "stream": "stdout",
       "text": [
        "\n",
        "Looked up \u041c\u0438\u0445\u0430\u0439\u043b\u043e\u0432\u0441\u043a\u043e\u0439."
       ]
      },
      {
       "output_type": "stream",
       "stream": "stdout",
       "text": [
        "\n",
        "Looked up \u0412\u044b\u0441\u043e\u043a\u043e\u0435."
       ]
      },
      {
       "output_type": "stream",
       "stream": "stdout",
       "text": [
        "\n",
        "Querying alternate name \u041d\u043e\u0432\u043e\u0435\u0437\u0435\u0440\u0441\u043a\u043e\u0439 \u041a\u0438\u0440\u0438\u043b\u043e\u0432\u043e"
       ]
      },
      {
       "output_type": "stream",
       "stream": "stdout",
       "text": [
        "\n",
        "Querying alternate name \u041d\u043e\u0432\u043e\u0435\u0437\u0435\u0440\u0441\u043a\u0438\u0439 \u041a\u0438\u0440\u0438\u043b\u043e\u0432"
       ]
      },
      {
       "output_type": "stream",
       "stream": "stdout",
       "text": [
        "\n",
        "Looked up \u041d\u043e\u0432\u043e\u0435\u0437\u0435\u0440\u0441\u043a\u043e\u0439 \u041a\u0438\u0440\u0438\u043b\u043e\u0432."
       ]
      },
      {
       "output_type": "stream",
       "stream": "stdout",
       "text": [
        "\n",
        "Looked up \u0426\u0435\u0432\u043b\u044f."
       ]
      },
      {
       "output_type": "stream",
       "stream": "stdout",
       "text": [
        "\n",
        "Looked up \u041f\u043b\u043e\u0445\u043e\u043d\u0430."
       ]
      },
      {
       "output_type": "stream",
       "stream": "stdout",
       "text": [
        "\n",
        "Looked up \u041b\u0438\u043f\u0446\u044b."
       ]
      },
      {
       "output_type": "stream",
       "stream": "stdout",
       "text": [
        "\n",
        "Looked up \u0410\u043f\u0438\u0447\u0435\u0440\u0441\u043a\u0430\u044f."
       ]
      },
      {
       "output_type": "stream",
       "stream": "stdout",
       "text": [
        "\n",
        "Querying alternate name \u041a\u0430\u0437\u0430\u043d\u0441\u043a\u0438\u0439 \u0411\u043e\u0433\u043e\u0440\u043e\u0434\u0438\u0446\u043a\u0438\u0439"
       ]
      },
      {
       "output_type": "stream",
       "stream": "stdout",
       "text": [
        "\n",
        "Looked up \u041a\u0430\u0437\u0430\u043d\u0441\u043a\u043e\u0439 \u0411\u043e\u0433\u043e\u0440\u043e\u0434\u0438\u0446\u043a\u043e\u0439."
       ]
      },
      {
       "output_type": "stream",
       "stream": "stdout",
       "text": [
        "\n",
        "Querying alternate name \u0411\u0443\u0440\u0435\u0446\u043a\u0438\u0439"
       ]
      },
      {
       "output_type": "stream",
       "stream": "stdout",
       "text": [
        "\n",
        "Looked up \u0411\u0443\u0440\u0435\u0446\u043a\u043e\u0439."
       ]
      },
      {
       "output_type": "stream",
       "stream": "stdout",
       "text": [
        "\n",
        "Looked up \u041c\u0438\u0445\u0430\u0439\u043b\u043e\u0432\u043a\u0430."
       ]
      },
      {
       "output_type": "stream",
       "stream": "stdout",
       "text": [
        "\n",
        "Looked up \u041e\u0441\u043a\u0438\u043d\u043e."
       ]
      },
      {
       "output_type": "stream",
       "stream": "stdout",
       "text": [
        "\n",
        "Looked up \u0425\u043e\u043b\u043c \u0423 \u0421\u043f\u0430\u0441\u0430."
       ]
      },
      {
       "output_type": "stream",
       "stream": "stdout",
       "text": [
        "\n",
        "Looked up \u041a\u0440\u0430\u0441\u043d\u043e\u043f\u043e\u043b\u044c."
       ]
      },
      {
       "output_type": "stream",
       "stream": "stdout",
       "text": [
        "\n",
        "Looked up \u041a\u043e\u0440\u0435\u043d\u043d\u0430\u044f."
       ]
      },
      {
       "output_type": "stream",
       "stream": "stdout",
       "text": [
        "\n",
        "Looked up \u0420\u0430\u0442\u0441\u0431\u0443\u0440\u0433."
       ]
      },
      {
       "output_type": "stream",
       "stream": "stdout",
       "text": [
        "\n",
        "Looked up \u0418\u0432\u0430\u043d\u043e\u0432\u043e."
       ]
      },
      {
       "output_type": "stream",
       "stream": "stdout",
       "text": [
        "\n",
        "Looked up \u0422\u0438\u0445\u043e\u043d\u043e\u0432\u0430."
       ]
      },
      {
       "output_type": "stream",
       "stream": "stdout",
       "text": [
        "\n",
        "Looked up \u0417\u0430\u0440\u0443\u0431\u0438\u043d\u043e."
       ]
      },
      {
       "output_type": "stream",
       "stream": "stdout",
       "text": [
        "\n",
        "Looked up \u041c\u043e\u0448\u0435\u0439\u043a\u0430."
       ]
      },
      {
       "output_type": "stream",
       "stream": "stdout",
       "text": [
        "\n",
        "Querying alternate name \u041e\u0434\u0440\u0438\u043d \u041d\u0438\u043a\u043e\u043b\u0430\u0435\u0432\u0441\u043a\u0438\u0439"
       ]
      },
      {
       "output_type": "stream",
       "stream": "stdout",
       "text": [
        "\n",
        "\u041e\u0434\u0440\u0438\u043d \u041d\u0438\u043a\u043e\u043b\u0430\u0435\u0432\u0441\u043a\u043e\u0439 was not found at max fuzz."
       ]
      },
      {
       "output_type": "stream",
       "stream": "stdout",
       "text": [
        "\n",
        "Looked up \u041e\u0434\u0440\u0438\u043d \u041d\u0438\u043a\u043e\u043b\u0430\u0435\u0432\u0441\u043a\u043e\u0439."
       ]
      },
      {
       "output_type": "stream",
       "stream": "stdout",
       "text": [
        "\n",
        "Looked up \u0415\u0440\u0435\u043c\u0435\u043d\u0446\u043e\u0432\u043e."
       ]
      },
      {
       "output_type": "stream",
       "stream": "stdout",
       "text": [
        "\n",
        "Looked up \u0410\u043d\u0442\u043e\u043d\u043e\u0432\u043a\u0430."
       ]
      },
      {
       "output_type": "stream",
       "stream": "stdout",
       "text": [
        "\n",
        "Looked up \u041c\u0448\u0430\u0433\u0430."
       ]
      },
      {
       "output_type": "stream",
       "stream": "stdout",
       "text": [
        "\n",
        "Looked up \u0411\u0435\u0437\u0433\u0438\u043d\u043e\u0432\u043a\u0430."
       ]
      },
      {
       "output_type": "stream",
       "stream": "stdout",
       "text": [
        "\n",
        "Looked up \u0428\u0438\u0448\u0430\u043a\u0438."
       ]
      },
      {
       "output_type": "stream",
       "stream": "stdout",
       "text": [
        "\n",
        "Looked up \u041b\u0430\u043a\u043d\u043e\u0432\u0430\u0442\u044c."
       ]
      },
      {
       "output_type": "stream",
       "stream": "stdout",
       "text": [
        "\n",
        "Querying alternate name \u0414\u043e\u043c\u043d\u0438\u0446\u043a\u0438\u0439"
       ]
      },
      {
       "output_type": "stream",
       "stream": "stdout",
       "text": [
        "\n",
        "Looked up \u0414\u043e\u043c\u043d\u0438\u0446\u043a\u043e\u0439."
       ]
      },
      {
       "output_type": "stream",
       "stream": "stdout",
       "text": [
        "\n",
        "Looked up \u0420\u044b\u0436\u043a\u043e\u0432\u043e."
       ]
      },
      {
       "output_type": "stream",
       "stream": "stdout",
       "text": [
        "\n",
        "Querying alternate name \u041d\u0435\u043b\u044c\u044f\u043d\u0441\u043a\u0438\u0439"
       ]
      },
      {
       "output_type": "stream",
       "stream": "stdout",
       "text": [
        "\n",
        "Looked up \u041d\u0435\u043b\u044c\u044f\u043d\u0441\u043a\u043e\u0439."
       ]
      },
      {
       "output_type": "stream",
       "stream": "stdout",
       "text": [
        "\n",
        "Looked up \u041f\u043e\u0432\u043e\u0434\u043d\u0435\u0432\u043e."
       ]
      },
      {
       "output_type": "stream",
       "stream": "stdout",
       "text": [
        "\n",
        "Looked up \u0421\u043e\u0440\u043e\u0447\u0438\u043d\u0446\u044b."
       ]
      },
      {
       "output_type": "stream",
       "stream": "stdout",
       "text": [
        "\n",
        "Looked up \u041a\u0440\u0438\u0432\u0446\u043e."
       ]
      },
      {
       "output_type": "stream",
       "stream": "stdout",
       "text": [
        "\n",
        "Querying alternate name \u0411\u043b\u0430\u0433\u043e\u0432\u0435\u0449\u0435\u043d\u0441\u043a\u0438\u0439 \u041f\u0440\u0438\u0445\u043e\u0434"
       ]
      },
      {
       "output_type": "stream",
       "stream": "stdout",
       "text": [
        "\n",
        "Looked up \u0411\u043b\u0430\u0433\u043e\u0432\u0435\u0449\u0435\u043d\u0441\u043a\u043e\u0439 \u041f\u0440\u0438\u0445\u043e\u0434."
       ]
      },
      {
       "output_type": "stream",
       "stream": "stdout",
       "text": [
        "\n",
        "Looked up \u0412\u044f\u0437\u043e\u0432\u043d\u0430."
       ]
      },
      {
       "output_type": "stream",
       "stream": "stdout",
       "text": [
        "\n",
        "Looked up \u0425\u043e\u043c\u0443\u0442\u0446\u044b."
       ]
      },
      {
       "output_type": "stream",
       "stream": "stdout",
       "text": [
        "\n",
        "Looked up \u041e\u0440\u0435\u0445\u043e\u0432\u043a\u0430."
       ]
      },
      {
       "output_type": "stream",
       "stream": "stdout",
       "text": [
        "\n",
        "Looked up \u0411\u0430\u0441\u0430\u043d\u044c."
       ]
      },
      {
       "output_type": "stream",
       "stream": "stdout",
       "text": [
        "\n",
        "Looked up \u041f\u0435\u0440\u0435\u043a\u043e\u043f\u0435\u0446."
       ]
      },
      {
       "output_type": "stream",
       "stream": "stdout",
       "text": [
        "\n",
        "Looked up \u041a\u0440\u0435\u0441\u0442\u0446\u044b."
       ]
      },
      {
       "output_type": "stream",
       "stream": "stdout",
       "text": [
        "\n",
        "Looked up \u0423\u0441\u0442\u044c\u0435."
       ]
      },
      {
       "output_type": "stream",
       "stream": "stdout",
       "text": [
        "\n",
        "Querying alternate name \u0413\u0435\u043d\u043d\u0430\u0434\u0438\u0435\u0432\u043e"
       ]
      },
      {
       "output_type": "stream",
       "stream": "stdout",
       "text": [
        "\n",
        "Looked up \u0413\u0435\u043d\u043d\u0430\u0434\u0438\u0435\u0432."
       ]
      },
      {
       "output_type": "stream",
       "stream": "stdout",
       "text": [
        "\n",
        "Querying alternate name \u0421\u0432\u0438\u0440\u0441\u043a\u0438\u0439 \u0410\u043b\u0435\u043a\u0441\u0430\u043d\u0434\u0440\u043e\u0432\u0441\u043a\u0438\u0439"
       ]
      },
      {
       "output_type": "stream",
       "stream": "stdout",
       "text": [
        "\n",
        "Looked up \u0421\u0432\u0438\u0440\u0441\u043a\u043e\u0439 \u0410\u043b\u0435\u043a\u0441\u0430\u043d\u0434\u0440\u043e\u0432\u0441\u043a\u043e\u0439."
       ]
      },
      {
       "output_type": "stream",
       "stream": "stdout",
       "text": [
        "\n",
        "Querying alternate name \u0421\u044f\u043c\u0441\u043a\u0438\u0439"
       ]
      },
      {
       "output_type": "stream",
       "stream": "stdout",
       "text": [
        "\n",
        "Looked up \u0421\u044f\u043c\u0441\u043a\u043e\u0439."
       ]
      },
      {
       "output_type": "stream",
       "stream": "stdout",
       "text": [
        "\n",
        "Looked up \u0428\u0438\u043f\u0438\u043d\u043e."
       ]
      },
      {
       "output_type": "stream",
       "stream": "stdout",
       "text": [
        "\n",
        "Looked up \u041b\u0438\u043f\u043e\u0432\u0441\u043a\u043e\u0435."
       ]
      },
      {
       "output_type": "stream",
       "stream": "stdout",
       "text": [
        "\n",
        "Looked up \u0421\u043b\u0430\u0432\u0433\u043e\u0440\u043e\u0434\u043a\u0430."
       ]
      },
      {
       "output_type": "stream",
       "stream": "stdout",
       "text": [
        "\n",
        "Looked up \u0418\u0433\u0440\u0438\u0449\u0438."
       ]
      },
      {
       "output_type": "stream",
       "stream": "stdout",
       "text": [
        "\n",
        "Looked up \u0414\u043c\u0438\u0442\u0440\u043e\u0432\u0441\u043a\u0430\u044f."
       ]
      },
      {
       "output_type": "stream",
       "stream": "stdout",
       "text": [
        "\n",
        "Looked up \u041a\u043e\u0437\u043b\u043e\u0432."
       ]
      },
      {
       "output_type": "stream",
       "stream": "stdout",
       "text": [
        "\n",
        "Looked up \u041a\u043e\u043f\u0440\u0438\u043d\u043e."
       ]
      },
      {
       "output_type": "stream",
       "stream": "stdout",
       "text": [
        "\n",
        "Looked up \u041f\u0435\u043d\u0437\u0430."
       ]
      },
      {
       "output_type": "stream",
       "stream": "stdout",
       "text": [
        "\n",
        "Looked up \u041a\u0435\u043c\u0430\u0440\u044b."
       ]
      },
      {
       "output_type": "stream",
       "stream": "stdout",
       "text": [
        "\n",
        "Looked up \u041a\u0438\u0441\u0442\u0440\u0443\u0441\u0430."
       ]
      },
      {
       "output_type": "stream",
       "stream": "stdout",
       "text": [
        "\n",
        "Looked up \u0413\u0443\u0441\u0442\u0438\u043d\u043e\u0432\u043e."
       ]
      },
      {
       "output_type": "stream",
       "stream": "stdout",
       "text": [
        "\n",
        "Looked up \u0415\u0433\u043e\u0440\u044c\u0435\u0432\u0441\u043a\u043e\u0435 \u0417\u0430\u0434\u043d\u0435\u0435."
       ]
      },
      {
       "output_type": "stream",
       "stream": "stdout",
       "text": [
        "\n",
        "Looked up \u0421\u0430\u0432\u0438\u043d \u0421\u0442\u043e\u0440\u043e\u0436\u0435\u0432\u0441\u043a\u0438\u0439."
       ]
      },
      {
       "output_type": "stream",
       "stream": "stdout",
       "text": [
        "\n",
        "Looked up \u0423\u0437\u0435\u043b\u044c."
       ]
      },
      {
       "output_type": "stream",
       "stream": "stdout",
       "text": [
        "\n",
        "Looked up \u0422\u043e\u0440\u0436\u043e\u043a."
       ]
      },
      {
       "output_type": "stream",
       "stream": "stdout",
       "text": [
        "\n",
        "Looked up \u0411\u043e\u0433\u043e\u044f\u0432\u043b\u0435\u043d\u0441\u043a\u0430\u044f."
       ]
      },
      {
       "output_type": "stream",
       "stream": "stdout",
       "text": [
        "\n",
        "Looked up \u0411\u043e\u0433\u0430\u0447\u043a\u0430."
       ]
      },
      {
       "output_type": "stream",
       "stream": "stdout",
       "text": [
        "\n",
        "Looked up \u0411\u043e\u0431\u044b\u043b\u0435\u0432\u0441\u043a\u043e\u0435."
       ]
      },
      {
       "output_type": "stream",
       "stream": "stdout",
       "text": [
        "\n",
        "Looked up \u041a\u0440\u0435\u0441\u043b\u0430\u0432\u043b\u044c."
       ]
      },
      {
       "output_type": "stream",
       "stream": "stdout",
       "text": [
        "\n",
        "Looked up \u041c\u0430\u043b\u044b\u043a\u043e\u0432\u0430."
       ]
      },
      {
       "output_type": "stream",
       "stream": "stdout",
       "text": [
        "\n",
        "Looked up \u0418\u0432\u0438\u0446\u0430."
       ]
      },
      {
       "output_type": "stream",
       "stream": "stdout",
       "text": [
        "\n",
        "\u0424\u043b\u043e\u0440\u043e\u0432\u043e was not found at max fuzz."
       ]
      },
      {
       "output_type": "stream",
       "stream": "stdout",
       "text": [
        "\n",
        "Looked up \u0424\u043b\u043e\u0440\u043e\u0432\u043e."
       ]
      },
      {
       "output_type": "stream",
       "stream": "stdout",
       "text": [
        "\n",
        "Querying alternate name \u0421\u0430\u043c\u0431\u043e\u0440\u0441\u043a\u0438\u0439"
       ]
      },
      {
       "output_type": "stream",
       "stream": "stdout",
       "text": [
        "\n",
        "Looked up \u0421\u0430\u043c\u0431\u043e\u0440\u0441\u043a\u043e\u0439."
       ]
      },
      {
       "output_type": "stream",
       "stream": "stdout",
       "text": [
        "\n",
        "Querying alternate name \u0421\u0438\u043d\u0441\u043a\u0438\u0439"
       ]
      },
      {
       "output_type": "stream",
       "stream": "stdout",
       "text": [
        "\n",
        "Looked up \u0421\u0438\u043d\u0441\u043a\u043e\u0439."
       ]
      },
      {
       "output_type": "stream",
       "stream": "stdout",
       "text": [
        "\n",
        "Looked up \u041a\u043e\u043b\u044e\u043f\u0430\u043d\u043e\u0432\u043a\u0430."
       ]
      },
      {
       "output_type": "stream",
       "stream": "stdout",
       "text": [
        "\n",
        "Querying alternate name \u0422\u0440\u043e\u0438\u0446\u043a\u0438\u0439"
       ]
      },
      {
       "output_type": "stream",
       "stream": "stdout",
       "text": [
        "\n",
        "Looked up \u0422\u0440\u043e\u0438\u0446\u043a\u043e\u0439."
       ]
      },
      {
       "output_type": "stream",
       "stream": "stdout",
       "text": [
        "\n",
        "Looked up \u0412\u043e\u043b\u0447\u044c\u044f."
       ]
      },
      {
       "output_type": "stream",
       "stream": "stdout",
       "text": [
        "\n",
        "Querying alternate name \u0428\u0443\u043d\u0433\u0441\u043a\u0438\u0439"
       ]
      },
      {
       "output_type": "stream",
       "stream": "stdout",
       "text": [
        "\n",
        "Looked up \u0428\u0443\u043d\u0433\u0441\u043a\u043e\u0439."
       ]
      },
      {
       "output_type": "stream",
       "stream": "stdout",
       "text": [
        "\n",
        "Querying alternate name \u0418\u043e\u0441\u0438\u0444\u043e\u0432\u043e"
       ]
      },
      {
       "output_type": "stream",
       "stream": "stdout",
       "text": [
        "\n",
        "Looked up \u0418\u043e\u0441\u0438\u0444\u043e\u0432."
       ]
      },
      {
       "output_type": "stream",
       "stream": "stdout",
       "text": [
        "\n",
        "Looked up \u0420\u043e\u0433\u0430\u0447\u0435\u0432\u043e."
       ]
      },
      {
       "output_type": "stream",
       "stream": "stdout",
       "text": [
        "\n",
        "Looked up \u041c\u0438\u0436\u0438\u0440\u0438\u0447\u044c."
       ]
      },
      {
       "output_type": "stream",
       "stream": "stdout",
       "text": [
        "\n",
        "Looked up \u041b\u044f\u0443\u0434\u0435\u0440\u0430."
       ]
      },
      {
       "output_type": "stream",
       "stream": "stdout",
       "text": [
        "\n",
        "Querying alternate name \u041a\u0440\u044e\u043a\u043e\u0432\u043e"
       ]
      },
      {
       "output_type": "stream",
       "stream": "stdout",
       "text": [
        "\n",
        "Looked up \u041a\u0440\u044e\u043a\u043e\u0432."
       ]
      },
      {
       "output_type": "stream",
       "stream": "stdout",
       "text": [
        "\n",
        "Looked up \u041e\u0440\u043b\u0438\u043a."
       ]
      },
      {
       "output_type": "stream",
       "stream": "stdout",
       "text": [
        "\n",
        "Looked up \u0410\u043a\u0441\u0435\u043b\u044c."
       ]
      },
      {
       "output_type": "stream",
       "stream": "stdout",
       "text": [
        "\n",
        "Looked up \u0411\u0440\u043e\u043d\u043d\u0438\u0446\u044b."
       ]
      },
      {
       "output_type": "stream",
       "stream": "stdout",
       "text": [
        "\n",
        "Looked up \u0414\u0443\u0431\u043e\u0432\u043e\u0435."
       ]
      },
      {
       "output_type": "stream",
       "stream": "stdout",
       "text": [
        "\n",
        "Looked up \u0421\u0442\u0430\u043b\u0435\u0440\u043e\u0432\u0447\u0438\u0437\u043d\u0430."
       ]
      },
      {
       "output_type": "stream",
       "stream": "stdout",
       "text": [
        "\n",
        "Looked up \u041f\u0438\u0441\u0446\u043e\u0432\u043e."
       ]
      },
      {
       "output_type": "stream",
       "stream": "stdout",
       "text": [
        "\n",
        "Looked up \u0411\u0435\u0440\u043d\u0438\u043a\u0438."
       ]
      },
      {
       "output_type": "stream",
       "stream": "stdout",
       "text": [
        "\n",
        "Looked up \u0414\u0443\u0431\u0440\u043e\u0432\u043a\u0438."
       ]
      },
      {
       "output_type": "stream",
       "stream": "stdout",
       "text": [
        "\n",
        "Looked up \u041c\u0430\u0441\u043b\u0435\u043d\u0441\u043a\u0430\u044f."
       ]
      },
      {
       "output_type": "stream",
       "stream": "stdout",
       "text": [
        "\n",
        "Looked up \u0428\u0430\u0440\u0430\u043f\u0430\u0432\u043e."
       ]
      },
      {
       "output_type": "stream",
       "stream": "stdout",
       "text": [
        "\n",
        "Looked up \u0413\u043e\u0440\u043e\u0434\u0438\u0449\u0435."
       ]
      },
      {
       "output_type": "stream",
       "stream": "stdout",
       "text": [
        "\n",
        "Looked up \u0428\u043e\u043a\u0438\u043d\u043e."
       ]
      },
      {
       "output_type": "stream",
       "stream": "stdout",
       "text": [
        "\n",
        "Querying alternate name \u0411\u0430\u0440\u043a\u043e\u0432\u043e"
       ]
      },
      {
       "output_type": "stream",
       "stream": "stdout",
       "text": [
        "\n",
        "Looked up \u0411\u0430\u0440\u043a\u043e\u0432."
       ]
      },
      {
       "output_type": "stream",
       "stream": "stdout",
       "text": [
        "\n",
        "Querying alternate name \u0414\u0443\u0431\u0435\u0446\u043a\u0438\u0439"
       ]
      },
      {
       "output_type": "stream",
       "stream": "stdout",
       "text": [
        "\n",
        "Looked up \u0414\u0443\u0431\u0435\u0446\u043a\u043e\u0439."
       ]
      },
      {
       "output_type": "stream",
       "stream": "stdout",
       "text": [
        "\n",
        "Looked up \u041c\u0430\u043a\u0430\u0440\u043e\u0432\u043e."
       ]
      },
      {
       "output_type": "stream",
       "stream": "stdout",
       "text": [
        "\n",
        "Querying alternate name \u0414\u0435\u0434\u0438\u043b\u043e\u0432\u043e"
       ]
      },
      {
       "output_type": "stream",
       "stream": "stdout",
       "text": [
        "\n",
        "Looked up \u0414\u0435\u0434\u0438\u043b\u043e\u0432."
       ]
      },
      {
       "output_type": "stream",
       "stream": "stdout",
       "text": [
        "\n",
        "Querying alternate name \u041d\u0443\u0440\u043e\u043c\u0441\u043a\u0438\u0439"
       ]
      },
      {
       "output_type": "stream",
       "stream": "stdout",
       "text": [
        "\n",
        "\u041d\u0443\u0440\u043e\u043c\u0441\u043a\u043e\u0439 was not found at max fuzz."
       ]
      },
      {
       "output_type": "stream",
       "stream": "stdout",
       "text": [
        "\n",
        "Looked up \u041d\u0443\u0440\u043e\u043c\u0441\u043a\u043e\u0439."
       ]
      },
      {
       "output_type": "stream",
       "stream": "stdout",
       "text": [
        "\n",
        "Looked up \u041c\u0435\u0433\u0440\u0430."
       ]
      },
      {
       "output_type": "stream",
       "stream": "stdout",
       "text": [
        "\n",
        "Looked up \u041f\u0435\u0442\u0440\u043e\u0432\u043a\u0438."
       ]
      },
      {
       "output_type": "stream",
       "stream": "stdout",
       "text": [
        "\n",
        "Looked up \u0421\u043b\u043e\u043b\u044c\u0446\u0430 \u041a\u043e\u043b\u0435\u0441\u043d\u0430\u044f."
       ]
      },
      {
       "output_type": "stream",
       "stream": "stdout",
       "text": [
        "\n",
        "\u0427\u0430\u0441\u043e\u0432\u043d\u044f \u0421\u0432. \u0414\u0443\u0445\u0430 was not found at max fuzz."
       ]
      },
      {
       "output_type": "stream",
       "stream": "stdout",
       "text": [
        "\n",
        "Looked up \u0427\u0430\u0441\u043e\u0432\u043d\u044f \u0421\u0432. \u0414\u0443\u0445\u0430."
       ]
      },
      {
       "output_type": "stream",
       "stream": "stdout",
       "text": [
        "\n",
        "Looked up \u041b\u0430\u043f\u0441\u0442\u0440\u0430\u043d\u0434."
       ]
      },
      {
       "output_type": "stream",
       "stream": "stdout",
       "text": [
        "\n",
        "Looked up \u041f\u044f\u0442\u043d\u0438\u0446\u043a\u043e\u0435."
       ]
      },
      {
       "output_type": "stream",
       "stream": "stdout",
       "text": [
        "\n",
        "Looked up \u0421\u044b\u0437\u0440\u0430\u043d\u044c."
       ]
      },
      {
       "output_type": "stream",
       "stream": "stdout",
       "text": [
        "\n",
        "Looked up \u0414\u043c\u0438\u0442\u0440\u043e\u0432\u043a\u0430."
       ]
      },
      {
       "output_type": "stream",
       "stream": "stdout",
       "text": [
        "\n",
        "Looked up \u0413\u043e\u0440\u043e\u0434\u043e\u043a."
       ]
      },
      {
       "output_type": "stream",
       "stream": "stdout",
       "text": [
        "\n",
        "Looked up \u041b\u0438\u043c\u0430\u043d\u044c."
       ]
      },
      {
       "output_type": "stream",
       "stream": "stdout",
       "text": [
        "\n",
        "Looked up \u042f\u0448."
       ]
      },
      {
       "output_type": "stream",
       "stream": "stdout",
       "text": [
        "\n",
        "\u0423\u0442\u0432\u044b\u043c\u0441\u043a\u0430\u044f was not found at max fuzz."
       ]
      },
      {
       "output_type": "stream",
       "stream": "stdout",
       "text": [
        "\n",
        "Looked up \u0423\u0442\u0432\u044b\u043c\u0441\u043a\u0430\u044f."
       ]
      },
      {
       "output_type": "stream",
       "stream": "stdout",
       "text": [
        "\n",
        "Looked up \u0422\u0443\u0440\u0435\u0446\u043a\u0430\u044f."
       ]
      },
      {
       "output_type": "stream",
       "stream": "stdout",
       "text": [
        "\n",
        "Looked up \u0412\u044b\u0441\u043e\u043a\u043e\u0435."
       ]
      },
      {
       "output_type": "stream",
       "stream": "stdout",
       "text": [
        "\n",
        "Looked up \u0422\u0443\u0445\u0438."
       ]
      },
      {
       "output_type": "stream",
       "stream": "stdout",
       "text": [
        "\n",
        "Looked up \u041f\u0430\u0432\u043b\u043e\u0432\u043e."
       ]
      },
      {
       "output_type": "stream",
       "stream": "stdout",
       "text": [
        "\n",
        "Looked up \u041a\u0438\u0434\u0435\u0448\u043a\u0438\u043d\u043e."
       ]
      },
      {
       "output_type": "stream",
       "stream": "stdout",
       "text": [
        "\n",
        "Looked up \u041c\u043e\u043b\u043e\u043a\u043e\u0432\u043e."
       ]
      },
      {
       "output_type": "stream",
       "stream": "stdout",
       "text": [
        "\n",
        "Looked up \u0413\u0440\u0443\u043d\u044c."
       ]
      },
      {
       "output_type": "stream",
       "stream": "stdout",
       "text": [
        "\n",
        "Looked up \u0421\u0430\u0432\u0438\u043d\u0438\u0446\u044b."
       ]
      },
      {
       "output_type": "stream",
       "stream": "stdout",
       "text": [
        "\n",
        "Looked up \u0421\u0432\u044f\u0442\u043e\u0435 \u041c\u0435\u0441\u0442\u043e."
       ]
      },
      {
       "output_type": "stream",
       "stream": "stdout",
       "text": [
        "\n",
        "Looked up \u0410\u0432\u0436\u0435\u043d\u0441\u043a\u0430\u044f."
       ]
      },
      {
       "output_type": "stream",
       "stream": "stdout",
       "text": [
        "\n",
        "Querying alternate name \u0415\u043b\u0438\u043c\u0441\u043a\u0438\u0439"
       ]
      },
      {
       "output_type": "stream",
       "stream": "stdout",
       "text": [
        "\n",
        "\u0415\u043b\u0438\u043c\u0441\u043a\u043e\u0439 was not found at max fuzz."
       ]
      },
      {
       "output_type": "stream",
       "stream": "stdout",
       "text": [
        "\n",
        "Looked up \u0415\u043b\u0438\u043c\u0441\u043a\u043e\u0439."
       ]
      },
      {
       "output_type": "stream",
       "stream": "stdout",
       "text": [
        "\n",
        "Looked up \u0421\u0435\u0440\u0435\u0433\u0430."
       ]
      },
      {
       "output_type": "stream",
       "stream": "stdout",
       "text": [
        "\n",
        "Querying alternate name \u0413\u043b\u0435\u043c\u044f\u0437\u043e\u0432\u043e"
       ]
      },
      {
       "output_type": "stream",
       "stream": "stdout",
       "text": [
        "\n",
        "Looked up \u0413\u043b\u0435\u043c\u044f\u0437\u043e\u0432."
       ]
      },
      {
       "output_type": "stream",
       "stream": "stdout",
       "text": [
        "\n",
        "Looked up \u0411\u043e\u0433\u0430\u0442\u0438\u0449\u0435\u0431\u043e."
       ]
      },
      {
       "output_type": "stream",
       "stream": "stdout",
       "text": [
        "\n",
        "Querying alternate name \u0425\u0430\u043b\u0430\u043d\u044c"
       ]
      },
      {
       "output_type": "stream",
       "stream": "stdout",
       "text": [
        "\n",
        "Looked up \u0415\u043a\u0430\u0442\u0435\u0440\u0438\u043d\u0438\u043d\u0441\u043a\u0430\u044f."
       ]
      },
      {
       "output_type": "stream",
       "stream": "stdout",
       "text": [
        "\n",
        "Looked up \u0422\u0435\u0440\u044f\u0435\u0432\u043e."
       ]
      },
      {
       "output_type": "stream",
       "stream": "stdout",
       "text": [
        "\n",
        "Looked up \u0422\u0435\u0440\u0435\u0448\u043a\u043e\u0432\u043e."
       ]
      },
      {
       "output_type": "stream",
       "stream": "stdout",
       "text": [
        "\n",
        "Querying alternate name \u0422\u0430\u0440\u043d\u044f\u043d\u0441\u043a\u0438\u0439"
       ]
      },
      {
       "output_type": "stream",
       "stream": "stdout",
       "text": [
        "\n",
        "Looked up \u0422\u0430\u0440\u043d\u044f\u043d\u0441\u043a\u043e\u0439."
       ]
      },
      {
       "output_type": "stream",
       "stream": "stdout",
       "text": [
        "\n",
        "Looked up \u0420\u0436\u0438\u0446\u0430."
       ]
      },
      {
       "output_type": "stream",
       "stream": "stdout",
       "text": [
        "\n",
        "Looked up \u041e\u0441\u0442\u0440\u043e\u0432\u043d\u044f."
       ]
      },
      {
       "output_type": "stream",
       "stream": "stdout",
       "text": [
        "\n",
        "Querying alternate name \u041b\u0435\u0432\u043a\u0438\u0435\u0432\u043e"
       ]
      },
      {
       "output_type": "stream",
       "stream": "stdout",
       "text": [
        "\n",
        "Looked up \u041b\u0435\u0432\u043a\u0438\u0435\u0432."
       ]
      },
      {
       "output_type": "stream",
       "stream": "stdout",
       "text": [
        "\n",
        "Querying alternate name \u0426\u044b\u0431\u0443\u043b\u0435\u0432\u043e"
       ]
      },
      {
       "output_type": "stream",
       "stream": "stdout",
       "text": [
        "\n",
        "Looked up \u0426\u044b\u0431\u0443\u043b\u0435\u0432."
       ]
      },
      {
       "output_type": "stream",
       "stream": "stdout",
       "text": [
        "\n",
        "Looked up \u041e\u043f\u043e\u0448\u043d\u043e\u0435."
       ]
      },
      {
       "output_type": "stream",
       "stream": "stdout",
       "text": [
        "\n",
        "Looked up \u041c\u0438\u0445\u0430\u0439\u043b\u043e\u0432\u043a\u0430."
       ]
      },
      {
       "output_type": "stream",
       "stream": "stdout",
       "text": [
        "\n",
        "Looked up \u0411\u0435\u0440\u0435\u0437\u043e\u0432\u0446\u0430."
       ]
      },
      {
       "output_type": "stream",
       "stream": "stdout",
       "text": [
        "\n",
        "Looked up \u0411\u0435\u043b\u043e\u0435."
       ]
      },
      {
       "output_type": "stream",
       "stream": "stdout",
       "text": [
        "\n",
        "Looked up \u041a\u0430\u0440\u043c."
       ]
      },
      {
       "output_type": "stream",
       "stream": "stdout",
       "text": [
        "\n",
        "Looked up \u0411\u0430\u0442\u0440\u0430\u043a."
       ]
      },
      {
       "output_type": "stream",
       "stream": "stdout",
       "text": [
        "\n",
        "Looked up \u0413\u043e\u0440\u043e\u0434\u0438\u0449\u0435."
       ]
      },
      {
       "output_type": "stream",
       "stream": "stdout",
       "text": [
        "\n",
        "Looked up \u0425\u0430\u0442\u043e\u043c\u043b\u044c."
       ]
      },
      {
       "output_type": "stream",
       "stream": "stdout",
       "text": [
        "\n",
        "Querying alternate name \u0428\u0430\u0440\u0442\u043e\u043b\u0438\u043d\u0441\u043a\u0438\u0439 \u041d\u0438\u043a\u043e\u043b\u0430\u0435\u0432\u0441\u043a\u0438\u0439"
       ]
      },
      {
       "output_type": "stream",
       "stream": "stdout",
       "text": [
        "\n",
        "\u0428\u0430\u0440\u0442\u043e\u043b\u0438\u043d\u0441\u043a\u043e\u0439 \u041d\u0438\u043a\u043e\u043b\u0430\u0435\u0432\u0441\u043a\u043e\u0439 was not found at max fuzz."
       ]
      },
      {
       "output_type": "stream",
       "stream": "stdout",
       "text": [
        "\n",
        "Looked up \u0428\u0430\u0440\u0442\u043e\u043b\u0438\u043d\u0441\u043a\u043e\u0439 \u041d\u0438\u043a\u043e\u043b\u0430\u0435\u0432\u0441\u043a\u043e\u0439."
       ]
      },
      {
       "output_type": "stream",
       "stream": "stdout",
       "text": [
        "\n",
        "Looked up \u0424\u043b\u043e\u0440\u0438\u0449\u0435\u0432\u0430."
       ]
      },
      {
       "output_type": "stream",
       "stream": "stdout",
       "text": [
        "\n",
        "Looked up \u0412\u043e\u043b\u044c\u043d\u0430\u044f."
       ]
      },
      {
       "output_type": "stream",
       "stream": "stdout",
       "text": [
        "\n",
        "Looked up \u0411\u0430\u0445\u043c\u0430\u0447\u044c."
       ]
      },
      {
       "output_type": "stream",
       "stream": "stdout",
       "text": [
        "\n"
       ]
      }
     ],
     "prompt_number": 9
    },
    {
     "cell_type": "code",
     "collapsed": false,
     "input": [
      "print(problem_prov)\n",
      "print(worldsearch)\n",
      "print(bizarro)"
     ],
     "language": "python",
     "metadata": {},
     "outputs": [
      {
       "output_type": "stream",
       "stream": "stdout",
       "text": [
        "[]\n",
        "[]\n",
        "[]\n"
       ]
      }
     ],
     "prompt_number": 26
    },
    {
     "cell_type": "code",
     "collapsed": false,
     "input": [
      "geodf = pd.DataFrame(geocoded)"
     ],
     "language": "python",
     "metadata": {},
     "outputs": [],
     "prompt_number": 27
    },
    {
     "cell_type": "code",
     "collapsed": false,
     "input": [
      "geodf = geodf[[\"hgr_id\",\"searched_name\",\"fuzzy\",\"gname_name\",\"gname_adminCode1\",\"gname_adminName1\",\"gname_countryCode\",\"gname_countryId\",\"gname_countryName\",\"gname_fcl\",\"gname_fclName\",\"gname_fcode\",\"gname_fcodeName\",\"gname_geonameId\",\"gname_lat\",\"gname_lng\",\"gname_population\",\"gname_toponymName\",\"north_bound\",\"south_bound\",\"east_bound\",\"west_bound\",\"url\",\"query_datetime]]"
     ],
     "language": "python",
     "metadata": {},
     "outputs": [],
     "prompt_number": 28
    },
    {
     "cell_type": "code",
     "collapsed": false,
     "input": [
      "len(geodf)"
     ],
     "language": "python",
     "metadata": {},
     "outputs": [
      {
       "metadata": {},
       "output_type": "pyout",
       "prompt_number": 29,
       "text": [
        "2629"
       ]
      }
     ],
     "prompt_number": 29
    },
    {
     "cell_type": "code",
     "collapsed": false,
     "input": [
      "geodf.to_excel('output/process/geocoded_new.xlsx',encoding='utf-8')\n",
      "geodf.to_csv('output/process/geocoded_new.csv',encoding='utf-8')"
     ],
     "language": "python",
     "metadata": {},
     "outputs": [],
     "prompt_number": 30
    },
    {
     "cell_type": "code",
     "collapsed": false,
     "input": [
      "geodf = pd.DataFrame.from_csv('output/process/geocoded_new.csv',encoding='utf-8')"
     ],
     "language": "python",
     "metadata": {},
     "outputs": [],
     "prompt_number": 31
    },
    {
     "cell_type": "code",
     "collapsed": false,
     "input": [
      "finding_counts = geodf.ix[pd.isnull(geodf.gname_name)==False].pivot_table(index='hgr_id',values='gname_lat',aggfunc=lambda x: len(x.unique()))\n",
      "fdf = pd.DataFrame(finding_counts)"
     ],
     "language": "python",
     "metadata": {},
     "outputs": [],
     "prompt_number": 32
    },
    {
     "cell_type": "code",
     "collapsed": false,
     "input": [
      "single_results = pd.merge(fdf.ix[fdf.gname_lat==1],geodf,left_index=True,right_on='hgr_id')\n",
      "single_results = single_results.ix[pd.isnull(single_results.gname_name)==False]\n",
      "single_results = single_results.ix[single_results.hgr_id.duplicated()==False]\n",
      "len(single_results)"
     ],
     "language": "python",
     "metadata": {},
     "outputs": [
      {
       "metadata": {},
       "output_type": "pyout",
       "prompt_number": 33,
       "text": [
        "64"
       ]
      }
     ],
     "prompt_number": 33
    },
    {
     "cell_type": "code",
     "collapsed": false,
     "input": [
      "len(single_results[single_results.fuzzy>=.8])"
     ],
     "language": "python",
     "metadata": {},
     "outputs": [
      {
       "metadata": {},
       "output_type": "pyout",
       "prompt_number": 18,
       "text": [
        "0"
       ]
      }
     ],
     "prompt_number": 18
    },
    {
     "cell_type": "code",
     "collapsed": false,
     "input": [
      "single_results[['hgr_id','searched_name','fuzzy','gname_name','gname_adminName1','gname_countryName','gname_geonameId']][single_results.fuzzy>=.8]"
     ],
     "language": "python",
     "metadata": {},
     "outputs": [
      {
       "html": [
        "<div style=\"max-height:1000px;max-width:1500px;overflow:auto;\">\n",
        "<table border=\"1\" class=\"dataframe\">\n",
        "  <thead>\n",
        "    <tr style=\"text-align: right;\">\n",
        "      <th></th>\n",
        "      <th>hgr_id</th>\n",
        "      <th>searched_name</th>\n",
        "      <th>fuzzy</th>\n",
        "      <th>gname_name</th>\n",
        "      <th>gname_adminName1</th>\n",
        "      <th>gname_countryName</th>\n",
        "      <th>gname_geonameId</th>\n",
        "    </tr>\n",
        "  </thead>\n",
        "  <tbody>\n",
        "  </tbody>\n",
        "</table>\n",
        "</div>"
       ],
       "metadata": {},
       "output_type": "pyout",
       "prompt_number": 19,
       "text": [
        "Empty DataFrame\n",
        "Columns: [hgr_id, searched_name, fuzzy, gname_name, gname_adminName1, gname_countryName, gname_geonameId]\n",
        "Index: []"
       ]
      }
     ],
     "prompt_number": 19
    },
    {
     "cell_type": "code",
     "collapsed": false,
     "input": [
      "print(len(single_results))\n",
      "print(len(single_results.hgr_id.unique()))"
     ],
     "language": "python",
     "metadata": {},
     "outputs": [
      {
       "output_type": "stream",
       "stream": "stdout",
       "text": [
        "64\n",
        "64\n"
       ]
      }
     ],
     "prompt_number": 20
    },
    {
     "cell_type": "code",
     "collapsed": false,
     "input": [
      "single_results.index=single_results.hgr_id\n",
      "sj = json.loads(single_results.to_json(orient='index'))"
     ],
     "language": "python",
     "metadata": {},
     "outputs": [],
     "prompt_number": 21
    },
    {
     "cell_type": "code",
     "collapsed": false,
     "input": [
      "for k,v in sj.items():\n",
      "    if v['fuzzy']>=.8:\n",
      "        market_db[k]['geo'] = {\"coded\":\"automated\"}\n",
      "        market_db[k]['geo'][\"country_code\"] = v['gname_countryCode']\n",
      "        market_db[k]['geo'][\"geonameId\"] = \"http://geonames.org/{}\".format(v['gname_geonameId'])\n",
      "        market_db[k]['geo'][\"pres_country\"] = v['gname_countryName']\n",
      "        market_db[k]['geo'][\"pres_loc\"] = \"{}, {}, {}\".format(v['gname_name'],v['gname_adminName1'],v['gname_countryName'])\n",
      "        market_db[k]['geo'][\"x_coord\"] = v['gname_lng']\n",
      "        market_db[k]['geo'][\"y_coord\"] = v['gname_lat_y']"
     ],
     "language": "python",
     "metadata": {},
     "outputs": [],
     "prompt_number": 22
    },
    {
     "cell_type": "code",
     "collapsed": false,
     "input": [
      "with open('output/enhanced_dataset.json','w',encoding='utf-8') as fp:\n",
      "    json.dump(market_db,fp,sort_keys=True,indent=2)"
     ],
     "language": "python",
     "metadata": {},
     "outputs": [],
     "prompt_number": 23
    },
    {
     "cell_type": "code",
     "collapsed": false,
     "input": [
      "geojson = {\"features\":[],\"type\":\"FeatureCollection\"}\n",
      "for k,v in market_db.items():\n",
      "    if 'geo' in v:\n",
      "        feature = {\"geometry\":{'coordinates':[v['geo']['x_coord'],v['geo']['y_coord']],\"type\":\"Point\"},\"type\":\"Feature\"}\n",
      "        feature['properties'] = v\n",
      "        geojson['features'].append(feature)"
     ],
     "language": "python",
     "metadata": {},
     "outputs": [],
     "prompt_number": 24
    },
    {
     "cell_type": "code",
     "collapsed": false,
     "input": [
      "with open(\"output/enhanced_dataset.geojson\",\"w\",encoding='utf-8') as fp:\n",
      "    json.dump(geojson,fp,sort_keys=True,indent=1)"
     ],
     "language": "python",
     "metadata": {},
     "outputs": [],
     "prompt_number": 25
    },
    {
     "cell_type": "code",
     "collapsed": false,
     "input": [
      "print(\"{}/{} geocoded as of now\".format(len(geojson['features']),len(market_db)))"
     ],
     "language": "python",
     "metadata": {},
     "outputs": [
      {
       "output_type": "stream",
       "stream": "stdout",
       "text": [
        "490/802 geocoded as of now\n"
       ]
      }
     ],
     "prompt_number": 36
    },
    {
     "cell_type": "markdown",
     "metadata": {},
     "source": [
      "Run all above here\n",
      "=================="
     ]
    },
    {
     "cell_type": "code",
     "collapsed": false,
     "input": [
      "#geodf_merged = pd.merge(geodf,market_df,left_on='hgr_id',right_index=True)"
     ],
     "language": "python",
     "metadata": {},
     "outputs": [],
     "prompt_number": 29
    },
    {
     "cell_type": "code",
     "collapsed": false,
     "input": [
      "#geodf_merged = geodf_merged[['hgr_id', 'name', 'alt_name', 'partof_id', 'lng', 'lat', '_type', 'source_url', 'text', 'name_modern_sp', 'result_placename','searched_placename', 'admin1', 'country_name', 'src_id', 'country_code', 'url', 'local_result', 'src', 'admin1_old_orth', 'admin1_new_orth', 'admin1_stem', 'admin1_partof', 'admin2_old_orth','admin2_new_orth','admin2_stem', 'admin2_partof', 'page']]"
     ],
     "language": "python",
     "metadata": {},
     "outputs": [],
     "prompt_number": 31
    },
    {
     "cell_type": "code",
     "collapsed": false,
     "input": [
      "cyrillic_translit={u'\\u0410': 'A', u'\\u0430': 'a',u'\\u0411': 'B', u'\\u0431': 'b',u'\\u0412': 'V', u'\\u0432': 'v',u'\\u0413': 'G', u'\\u0433': 'g',u'\\u0414': 'D', u'\\u0434': 'd',u'\\u0415': 'E', u'\\u0435': 'e',u'\\u0416': 'Zh', u'\\u0436': 'zh',u'\\u0417': 'Z', u'\\u0437': 'z',u'\\u0418': 'I', u'\\u0438': 'i',u'\\u0419': 'I', u'\\u0439': 'i',u'\\u041a': 'K', u'\\u043a': 'k',u'\\u041b': 'L', u'\\u043b': 'l',u'\\u041c': 'M', u'\\u043c': 'm',u'\\u041d': 'N', u'\\u043d': 'n',u'\\u041e': 'O', u'\\u043e': 'o',u'\\u041f': 'P', u'\\u043f': 'p',u'\\u0420': 'R', u'\\u0440': 'r',u'\\u0421': 'S', u'\\u0441': 's',u'\\u0422': 'T', u'\\u0442': 't',u'\\u0423': 'U', u'\\u0443': 'u',u'\\u0424': 'F', u'\\u0444': 'f',u'\\u0425': 'Kh', u'\\u0445': 'kh',u'\\u0426': 'Ts', u'\\u0446': 'ts',u'\\u0427': 'Ch', u'\\u0447': 'ch',u'\\u0428': 'Sh', u'\\u0448': 'sh',u'\\u0429': 'Shch', u'\\u0449': 'shch',u'\\u042a': '\"', u'\\u044a': '\"',u'\\u042b': 'Y', u'\\u044b': 'y',u'\\u042c': \"'\", u'\\u044c': \"'\",u'\\u042d': 'E', u'\\u044d': 'e',u'\\u042e': 'Iu', u'\\u044e': 'iu',u'\\u042f': 'Ia', u'\\u044f': 'ia',u'\\u0462': 'E', u'\\u0463': 'e'}\n",
      "\n",
      "def transliterate(word, translit_table):\n",
      "    \"\"\"\n",
      "    Transliterates 'word' based on the key/value pairs in 'translit_table'\n",
      "    \"\"\"\n",
      "    converted_word = ''\n",
      "    for char in word:\n",
      "        transchar = ''\n",
      "        if char in translit_table:\n",
      "            transchar = translit_table[char]\n",
      "        else:\n",
      "            transchar = char\n",
      "        converted_word += transchar\n",
      "    return converted_word"
     ],
     "language": "python",
     "metadata": {},
     "outputs": [],
     "prompt_number": 32
    },
    {
     "cell_type": "code",
     "collapsed": false,
     "input": [
      "geodf_merged['lc_translit'] = geodf_merged.name_modern_sp.apply(lambda text: transliterate(text,cyrillic_translit))"
     ],
     "language": "python",
     "metadata": {},
     "outputs": [],
     "prompt_number": 33
    },
    {
     "cell_type": "code",
     "collapsed": false,
     "input": [
      "geodf_merged.to_excel('output/geocoded_merged.xlsx',encoding = 'utf-8')\n",
      "geodf_merged.to_csv('output/geocoded_merged.csv',encoding = 'utf-8')"
     ],
     "language": "python",
     "metadata": {},
     "outputs": [],
     "prompt_number": 42
    },
    {
     "cell_type": "code",
     "collapsed": false,
     "input": [
      "single_results.name_modern_sp = single_results.name_modern_sp.str.title()"
     ],
     "language": "python",
     "metadata": {},
     "outputs": [],
     "prompt_number": 39
    },
    {
     "cell_type": "code",
     "collapsed": false,
     "input": [
      "single_results.to_csv('output/single_results.csv',encoding='utf-8')"
     ],
     "language": "python",
     "metadata": {},
     "outputs": [],
     "prompt_number": 41
    },
    {
     "cell_type": "code",
     "collapsed": false,
     "input": [
      "def reverse_geocode(lng,lat):\n",
      "    keepgoing = True\n",
      "    while keepgoing == True:\n",
      "        try:\n",
      "            url = \"https://maps.googleapis.com/maps/api/geocode/json\"\n",
      "            Q = {'latlng':\"{},{}\".format(lat,lng)}\n",
      "            R = requests.get(url, params=Q)\n",
      "            print(R.url)\n",
      "            geo_response = R.json()\n",
      "            locality = 'error'\n",
      "            for component in geo_response['results'][0]['address_components']:\n",
      "                if 'locality' in component['types']:\n",
      "                    locality = component['long_name']\n",
      "                elif 'administrative_area_level_1' in component['types']:\n",
      "                    admin1 = component['long_name']\n",
      "                elif 'country' in component['types']:\n",
      "                    country = component['long_name']\n",
      "                    countryCode = component['short_name']\n",
      "            if locality == 'error':\n",
      "                for component in geo_response['results'][0]['address_components']:\n",
      "                    if 'administrative_area_level_2' in component['types']:\n",
      "                        locality = component['long_name']\n",
      "            print(\"\\\"{0}, {1}\\\",\\\"{2}\\\",\\\"{3}\\\"\".format(locality,admin1,country,countryCode))\n",
      "            time.sleep(1)\n",
      "            keepgoing = False\n",
      "        except IndexError:\n",
      "            time.sleep(1)\n",
      "            continue\n",
      "        return \"{}, {}\".format(locality,admin1), country, countryCode"
     ],
     "language": "python",
     "metadata": {},
     "outputs": [],
     "prompt_number": 37
    },
    {
     "cell_type": "code",
     "collapsed": false,
     "input": [
      "single_results['pres_loc'], single_results['country'], single_results['country_code'] = np.vectorize(reverse_geocode)(single_results.lng,single_results.lat_y)"
     ],
     "language": "python",
     "metadata": {},
     "outputs": []
    },
    {
     "cell_type": "code",
     "collapsed": false,
     "input": [
      "single_results = single_results[['lat_x', 'hgr_id', 'name', 'alt_name', 'partof_id', 'lng', 'lat_y', '_type', 'source_url', 'text', 'name_modern_sp', 'lc_translit', 'pres_loc', 'country', 'country_code', 'result_placename', 'searched_placename', 'admin1', 'country_name', 'src_id', 'url', 'local_result', 'src', 'admin1_old_orth', 'admin1_new_orth', 'admin1_stem', 'admin2_old_orth', 'page']]"
     ],
     "language": "python",
     "metadata": {},
     "outputs": []
    }
   ],
   "metadata": {}
  }
 ]
}