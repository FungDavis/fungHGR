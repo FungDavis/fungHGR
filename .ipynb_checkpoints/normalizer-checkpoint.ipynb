{
 "metadata": {
  "name": "",
  "signature": "sha256:a4e13381e3ff692e00d6a0348f67868f0b5b6af8a5bebbddb364146abb017d90"
 },
 "nbformat": 3,
 "nbformat_minor": 0,
 "worksheets": [
  {
   "cells": [
    {
     "cell_type": "code",
     "collapsed": false,
     "input": [
      "import pandas as pd\n",
      "temp = pd.DataFrame.from_csv(\"output/hgr_test_set_5.csv\")\n",
      "temp.to_csv(\"output/hgr_test_set_5.csv\",encoding='utf-8')"
     ],
     "language": "python",
     "metadata": {},
     "outputs": [],
     "prompt_number": 16
    }
   ],
   "metadata": {}
  }
 ]
}