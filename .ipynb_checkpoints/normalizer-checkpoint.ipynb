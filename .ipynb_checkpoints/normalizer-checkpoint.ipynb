{
 "metadata": {
  "name": "",
  "signature": "sha256:38c3fb1fc4aa96db0b7c655c7489be9b7e60f4699c4e7eab76cbfa0853b5628f"
 },
 "nbformat": 3,
 "nbformat_minor": 0,
 "worksheets": [
  {
   "cells": [
    {
     "cell_type": "code",
     "collapsed": false,
     "input": [
      "import pandas as pd\n",
      "temp = pd.DataFrame.from_csv(\"output/hgr_test_set_5.csv\")\n",
      "temp.to_csv(\"output/hgr_test_set_5.csv\")"
     ],
     "language": "python",
     "metadata": {},
     "outputs": [],
     "prompt_number": 4
    }
   ],
   "metadata": {}
  }
 ]
}