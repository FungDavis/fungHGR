{
 "metadata": {
  "name": "",
  "signature": "sha256:793f909096e0461c9fc80308a504592a529621d917b03bf4cea69dd79c077c4d"
 },
 "nbformat": 3,
 "nbformat_minor": 0,
 "worksheets": [
  {
   "cells": [
    {
     "cell_type": "code",
     "collapsed": false,
     "input": [
      "import pandas as pd\n",
      "import numpy as np"
     ],
     "language": "python",
     "metadata": {},
     "outputs": [],
     "prompt_number": 1
    },
    {
     "cell_type": "code",
     "collapsed": false,
     "input": [
      "dataset = pd.DataFrame.from_csv(\"output/hgr_test_set_5.csv\")\n",
      "geodf = pd.DataFrame.from_csv(\"output/geocoded_merged.csv\")"
     ],
     "language": "python",
     "metadata": {},
     "outputs": [],
     "prompt_number": 2
    },
    {
     "cell_type": "code",
     "collapsed": false,
     "input": [
      "not_in_set = geodf[geodf.text.isin(dataset.description)==False]"
     ],
     "language": "python",
     "metadata": {},
     "outputs": [],
     "prompt_number": 3
    },
    {
     "cell_type": "code",
     "collapsed": false,
     "input": [
      "no_results = not_in_set[not_in_set.result_placename=='not_found']\n",
      "no_results.to_csv(\"output/no_results.csv\",encoding='utf-8')"
     ],
     "language": "python",
     "metadata": {},
     "outputs": [],
     "prompt_number": 4
    },
    {
     "cell_type": "code",
     "collapsed": false,
     "input": [
      "too_many_results = not_in_set[not_in_set.result_placename!='not_found']\n",
      "too_many_results.to_csv(\"output/too_many_results.csv\",encoding='utf-8')"
     ],
     "language": "python",
     "metadata": {},
     "outputs": [],
     "prompt_number": 5
    },
    {
     "cell_type": "code",
     "collapsed": false,
     "input": [
      "no_results[no_results._type=='\u0433\u043e\u0440\u043e\u0434\u044a'].to_csv(\"output/no_results_gorod.csv\",encoding='utf-8')"
     ],
     "language": "python",
     "metadata": {},
     "outputs": [],
     "prompt_number": 6
    },
    {
     "cell_type": "code",
     "collapsed": false,
     "input": [
      "too_many_results[too_many_results._type==\"\u0433\u043e\u0440\u043e\u0434\u044a\"].name.unique()"
     ],
     "language": "python",
     "metadata": {},
     "outputs": [
      {
       "metadata": {},
       "output_type": "pyout",
       "prompt_number": 7,
       "text": [
        "array(['\u0412\u043e\u043b\u0441\u043a\u044a', '\u0413\u043b\u0438\u043d\u0441\u043a\u044a', '\u0413\u043b\u0443\u0445\u043e\u0432\u044a', '\u0417\u043e\u043b\u043e\u0447\u0435\u0432\u044a', '\u041a\u043e\u0437\u043b\u043e\u0432\u044a', '\u041a\u043e\u043d\u043e\u0442\u043e\u043f\u044a',\n",
        "       '\u041a\u043e\u0440\u043e\u043f\u044a', '\u041a\u0440\u0435\u043c\u0435\u043d\u0447\u0443\u0433\u044a', '\u041a\u0440\u0435\u0441\u0442\u0446\u044b', '\u041a\u0440\u043e\u043b\u0435\u0432\u0435\u0446\u044a', '\u041a\u0443\u043d\u0433\u0443\u0440\u044a',\n",
        "       '\u041b\u0435\u0431\u0435\u0434\u044f\u043d\u044c', '\u041d\u0435\u0432\u0435\u043b\u044c', '\u041d\u0435\u0440\u0435\u0445\u0442\u0430', '\u041e\u0440\u0435\u043d\u0431\u0443\u0440\u0433\u044a', '\u041e\u0441\u0442\u0435\u0440\u044a', '\u041f\u043e\u0433\u0430\u0440\u044c',\n",
        "       '\u041f\u043e\u043b\u0442\u0430\u0432\u0430', '\u041f\u0440\u0438\u043b\u0443\u043a\u0438', '\u0421\u0435\u0431\u0435\u0436\u044a', '\u0421\u043e\u0441\u043d\u0438\u0446\u0430', '\u0421\u0442\u0430\u0440\u043e\u0434\u0443\u0431\u044a', '\u0421\u044b\u0437\u0440\u0430\u043d\u044c',\n",
        "       '\u0422\u043e\u0440\u0436\u043e\u043a\u044a', '\u0425\u043e\u043f\u0435\u0440\u0441\u043a\u044a', '\u0425\u043e\u0440\u043e\u043b\u044a', '\u0428\u0430\u0442\u0441\u043a\u044a', '\u042f\u0434\u0440\u0438\u043d\u044a'], dtype=object)"
       ]
      }
     ],
     "prompt_number": 7
    }
   ],
   "metadata": {}
  }
 ]
}