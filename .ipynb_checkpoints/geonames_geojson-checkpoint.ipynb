{
 "metadata": {
  "name": "",
  "signature": "sha256:ea93ee516f2feae03be4eada4580b25b7a74307d0e0551513e6830af157108ba"
 },
 "nbformat": 3,
 "nbformat_minor": 0,
 "worksheets": [
  {
   "cells": [
    {
     "cell_type": "markdown",
     "metadata": {},
     "source": [
      "GeoNames API results into geojson\n",
      "=================================\n",
      "This notebook takes the saved JSON API responses from geonames and turns them into geojson files to be rendered."
     ]
    },
    {
     "cell_type": "code",
     "collapsed": false,
     "input": [
      "import json, os"
     ],
     "language": "python",
     "metadata": {},
     "outputs": [],
     "prompt_number": 6
    },
    {
     "cell_type": "code",
     "collapsed": false,
     "input": [
      "def dict_to_geojson(gname,add_properties = {}):\n",
      "    gjson = {'type':'FeatureCollection','features':[]}\n",
      "    for r in gname['geonames']:\n",
      "        feature = {'type':'Feature','geometry':{'type':'Point','coordinates':[float(r['lng']),float(r['lat'])]}}\n",
      "        r.pop('lat')\n",
      "        r.pop('lng')\n",
      "        feature['properties'] = r\n",
      "        gjson['features'].append(feature)\n",
      "    return(gjson)"
     ],
     "language": "python",
     "metadata": {},
     "outputs": [],
     "prompt_number": 7
    },
    {
     "cell_type": "code",
     "collapsed": false,
     "input": [
      "mypath = 'geonames_jsons/'\n",
      "onlyfiles = [ f for f in os.listdir(mypath) if os.path.isfile(os.path.join(mypath,f)) ]"
     ],
     "language": "python",
     "metadata": {},
     "outputs": [],
     "prompt_number": 10
    },
    {
     "cell_type": "code",
     "collapsed": false,
     "input": [
      "for f in onlyfiles:\n",
      "    with open(\"geonames_jsons/{}\".format(f),'r',encoding='utf-8') as fp:\n",
      "        gname_dict = json.load(fp)\n",
      "    gjson_dict = dict_to_geojson(gname_dict)\n",
      "    with open(\"geonames_jsons/geojson/{}\".format(f.replace('.json','.geojson')),'w+') as fp:\n",
      "        json.dump(gjson_dict,fp)"
     ],
     "language": "python",
     "metadata": {},
     "outputs": [],
     "prompt_number": 15
    }
   ],
   "metadata": {}
  }
 ]
}