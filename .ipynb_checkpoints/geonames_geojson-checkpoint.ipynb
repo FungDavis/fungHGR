{
 "cells": [
  {
   "cell_type": "markdown",
   "metadata": {},
   "source": [
    "GeoNames API results into geojson\n",
    "=================================\n",
    "This notebook takes the saved JSON API responses from geonames and turns them into geojson files to be rendered."
   ]
  },
  {
   "cell_type": "code",
   "execution_count": 1,
   "metadata": {
    "collapsed": false
   },
   "outputs": [],
   "source": [
    "import json, os"
   ]
  },
  {
   "cell_type": "code",
   "execution_count": 2,
   "metadata": {
    "collapsed": false
   },
   "outputs": [],
   "source": [
    "def dict_to_geojson(gname,add_properties = {}):\n",
    "    gjson = {'type':'FeatureCollection','features':[]}\n",
    "    for r in gname['geonames']:\n",
    "        feature = {'type':'Feature','geometry':{'type':'Point','coordinates':[float(r['lng']),float(r['lat'])]}}\n",
    "        #r.pop('lat')\n",
    "        #r.pop('lng')\n",
    "        feature['properties'] = r\n",
    "        feature['properties'].update(add_properties)\n",
    "        gjson['features'].append(feature)\n",
    "    return(gjson)"
   ]
  },
  {
   "cell_type": "markdown",
   "metadata": {},
   "source": [
    "myfile = \"Богатый_51.json\"\n",
    "with open(\"geonames_jsons/{}\".format(myfile),'r',encoding='utf-8') as fp:\n",
    "    mydict = json.load(fp)\n",
    "gjson_dict = dict_to_geojson(mydict)\n",
    "with open(\"geonames_jsons/geojson/{}\".format(myfile.replace('.json','.geojson')),'w+') as fp:\n",
    "    json.dump(gjson_dict,fp)"
   ]
  },
  {
   "cell_type": "code",
   "execution_count": 3,
   "metadata": {
    "collapsed": false
   },
   "outputs": [],
   "source": [
    "mypath = 'resources/admin_lookup/'\n",
    "onlyfiles = [ f for f in os.listdir(mypath) if os.path.isfile(os.path.join(mypath,f)) ]"
   ]
  },
  {
   "cell_type": "code",
   "execution_count": 5,
   "metadata": {
    "collapsed": false
   },
   "outputs": [],
   "source": [
    "for f in onlyfiles:\n",
    "    with open(\"resources/admin_lookup/{}\".format(f),'r',encoding='utf-8') as fp:\n",
    "        gname_dict = json.load(fp)\n",
    "    gjson_dict = dict_to_geojson(gname_dict)\n",
    "    with open(\"resources/admin_lookup/geojson/{}\".format(f.replace('.json','.geojson')),'w+') as fp:\n",
    "        json.dump(gjson_dict,fp)"
   ]
  }
 ],
 "metadata": {
  "kernelspec": {
   "display_name": "Python 3",
   "language": "python",
   "name": "python3"
  },
  "language_info": {
   "codemirror_mode": {
    "name": "ipython",
    "version": 3
   },
   "file_extension": ".py",
   "mimetype": "text/x-python",
   "name": "python",
   "nbconvert_exporter": "python",
   "pygments_lexer": "ipython3",
   "version": "3.4.1"
  }
 },
 "nbformat": 4,
 "nbformat_minor": 0
}
