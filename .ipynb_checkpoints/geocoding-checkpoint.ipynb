{
 "metadata": {
  "name": "",
  "signature": "sha256:cf720b916afc02b510abfcee595e063c63843a42060476e0709c7ba8e73622ed"
 },
 "nbformat": 3,
 "nbformat_minor": 0,
 "worksheets": [
  {
   "cells": [
    {
     "cell_type": "markdown",
     "metadata": {},
     "source": [
      "First: Text Parsing!\n",
      "====================\n",
      "This is where the information that we want is extracted from the text we have."
     ]
    },
    {
     "cell_type": "code",
     "collapsed": false,
     "input": [
      "import re, requests"
     ],
     "language": "python",
     "metadata": {},
     "outputs": [],
     "prompt_number": 1
    },
    {
     "cell_type": "code",
     "collapsed": false,
     "input": [
      "import os\n",
      "def Ensure_dir(d):\n",
      "    \"\"\"Makes sure a directory 'd' exists, and if it doesn't, it creates one.\"\"\"\n",
      "    if not os.path.exists(d):\n",
      "        os.makedirs(d)\n",
      "    return 0"
     ],
     "language": "python",
     "metadata": {},
     "outputs": [],
     "prompt_number": 2
    },
    {
     "cell_type": "code",
     "collapsed": false,
     "input": [
      "def open_texts(file_start_str,first,last):\n",
      "    \"\"\"Creates a dictionary from a set of .htm files.\n",
      "    Assumes all have the same starting string immediately followed by a page number.\n",
      "    Returns a dictionary with page numbers as keys and page contents as values.\"\"\"\n",
      "    out_dict = {}\n",
      "    for i in range(first,last+1):\n",
      "        with open(\"{}{}.htm\".format(file_start_str,i),encoding=\"utf-8\") as htmfile:\n",
      "            out_dict[i] = htmfile.read()\n",
      "    return out_dict"
     ],
     "language": "python",
     "metadata": {},
     "outputs": [],
     "prompt_number": 3
    },
    {
     "cell_type": "markdown",
     "metadata": {},
     "source": [
      "Creating a dictionary called `market_text` and filling it out with key/value pairs corresponding to page numbers and page texts."
     ]
    },
    {
     "cell_type": "code",
     "collapsed": false,
     "input": [
      "market_text = open_texts(\"html/slovar\",10,70)"
     ],
     "language": "python",
     "metadata": {},
     "outputs": [],
     "prompt_number": 4
    },
    {
     "cell_type": "markdown",
     "metadata": {},
     "source": [
      "Cleanup cell. Currently fixing some common capitalization errors, and replacing nbsp's with normal spaces."
     ]
    },
    {
     "cell_type": "code",
     "collapsed": false,
     "input": [
      "for p in range(10,71):\n",
      "    market_text[p] = re.sub(\"[> ](\u0412\u042a)\",\"\u0412\u044a\",market_text[p])\n",
      "    market_text[p] = re.sub(\"&nbsp;\",\" \",market_text[p])\n",
      "    market_text[p] = re.sub(r\"([\u0430-\u044f\u0456\u0463]+)(\u042a)\",r\"\\1\u044a\",market_text[p])"
     ],
     "language": "python",
     "metadata": {},
     "outputs": [],
     "prompt_number": 5
    },
    {
     "cell_type": "code",
     "collapsed": false,
     "input": [
      "def extract_placenames(text_dict,start,end):\n",
      "    \"\"\"\n",
      "    Finds placenames, which should be capitalized and at the beginning of paragraphs in text.\n",
      "    Returns dict with name, descriptive text, and page number.\n",
      "    \"\"\"\n",
      "    out_dict = {}\n",
      "    last_entry = \"\"\n",
      "    counter = 1\n",
      "    for p in range(start,end+1):\n",
      "        # finds trailing descriptions at beginning of page, appends to last entry on previous page.\n",
      "        trail = re.findall(\"<body>\\n<p><span class=\\\"font0\\\">(.*)</span></p>\",text_dict[p])\n",
      "        if len(trail)>0 and len(re.findall(\"^([\u0410-\u042f\u0406\u0462 -]+)[, ]\",trail[0]))==0:\n",
      "            out_dict[last_entry]['text']+=trail[0]\n",
      "        # finds all place names on page, captures descriptions as well. puts into dictionary with name as key and desc as value.\n",
      "        places = re.findall(\">([\u0410-\u042f\u0406\u0462 -]+)[, ](.*)</p>\",text_dict[p])\n",
      "        if len(places)>0:\n",
      "            for v in places:\n",
      "                placename = v[0].strip()\n",
      "                out_dict[counter] = {'name':placename,'text':v[1],'page':p}\n",
      "                counter+=1\n",
      "            last_entry = counter-1\n",
      "    return out_dict"
     ],
     "language": "python",
     "metadata": {},
     "outputs": [],
     "prompt_number": 6
    },
    {
     "cell_type": "code",
     "collapsed": false,
     "input": [
      "market_towns = extract_placenames(market_text,10,70) # creating dict market_towns to hold individual place info.\n",
      "market_towns.pop(1,None) #Known extraneous hit at beginning of doc, removed."
     ],
     "language": "python",
     "metadata": {},
     "outputs": [
      {
       "metadata": {},
       "output_type": "pyout",
       "prompt_number": 7,
       "text": [
        "{'page': 10, 'name': '\u042f\u0420\u041c\u0410\u0420\u041e\u041a\u042a', 'text': '\u0438 \u0422\u041e\u0420\u0413\u041e\u0412\u042a.</span>'}"
       ]
      }
     ],
     "prompt_number": 7
    },
    {
     "cell_type": "markdown",
     "metadata": {},
     "source": [
      "In this cell, we're looking for town types, which will be in italics. We're also looking for administrative divisions based on their titles, mostly Namiestnichestva."
     ]
    },
    {
     "cell_type": "code",
     "collapsed": false,
     "input": [
      "for t in market_towns:\n",
      "    try:\n",
      "        town_type = re.findall(\"italic;\\\">([\u0430-\u044f\u0456\u0463, ]+)</span>\",market_towns[t]['text'])[0]\n",
      "        town_type = town_type.strip(\", \")\n",
      "        try:\n",
      "            # regex to find governorships, not all will have these.\n",
      "            ru_prov = re.findall(\">([\u0410-\u042f\u0406\u0462\u0430-\u044f\u0463\u0456, -]*\u041d\u0430(?:\u043c\u0463){0,1}\u0441\u0442\u043d\u0438\u0447[\u0430\u0435\u043b]\u0441\u0442\u0432[\u0430\u0463](?: \u0441\u0435\u0433\u043e \u0438\u043c\u0435\u043d\u0438){0,1})\",market_towns[t]['text'])[0].strip()\n",
      "        except IndexError:\n",
      "            try:\n",
      "                # regex to find gubernii, not all will have these, some will have neither gov nor gub\n",
      "                ru_prov = re.findall(\">[ ]*([\u0410-\u042f\u0406\u0462\u0430-\u044f\u0463\u0456,]+(?: [\u0410-\u042f\u0406\u0462\u0430-\u044f\u0463\u0456,]+){0,1} \u0413\u0443\u0431\u0435\u0440\u043d\u0456\u0438)\",market_towns[t]['text'])[0].strip()\n",
      "            except IndexError:\n",
      "                ru_prov = 'not_in_text'\n",
      "        try:\n",
      "            ru_uezd = re.findall(\"([\u0410-\u042f\u0406\u0462\u0430-\u044f\u0463\u0456]+ \u0443\u0463\u0437\u0434[\u0443\u0463])\",market_towns[t]['text'])[0].strip()\n",
      "        except IndexError:\n",
      "            ru_uezd = 'not_in_text'\n",
      "        market_towns[t]['_type']=town_type\n",
      "        market_towns[t]['ru_prov']=ru_prov\n",
      "        market_towns[t]['ru_uezd']=ru_uezd\n",
      "    except IndexError:\n",
      "        print(t)"
     ],
     "language": "python",
     "metadata": {},
     "outputs": [],
     "prompt_number": 8
    },
    {
     "cell_type": "markdown",
     "metadata": {},
     "source": [
      "Pandas!\n",
      "=======\n",
      "Everything has now been put into a pandas dataframe, so no more dicts!\n",
      "Still doing some text parsing and cleanup, but based on the data that we've collected, not the text."
     ]
    },
    {
     "cell_type": "code",
     "collapsed": false,
     "input": [
      "import pandas as pd"
     ],
     "language": "python",
     "metadata": {},
     "outputs": [],
     "prompt_number": 9
    },
    {
     "cell_type": "code",
     "collapsed": false,
     "input": [
      "# creation of pandas dataframe based on previously created dict.\n",
      "market_df = pd.DataFrame.from_dict(market_towns,orient=\"index\")\n",
      "market_df.head()"
     ],
     "language": "python",
     "metadata": {},
     "outputs": [
      {
       "html": [
        "<div style=\"max-height:1000px;max-width:1500px;overflow:auto;\">\n",
        "<table border=\"1\" class=\"dataframe\">\n",
        "  <thead>\n",
        "    <tr style=\"text-align: right;\">\n",
        "      <th></th>\n",
        "      <th>page</th>\n",
        "      <th>name</th>\n",
        "      <th>_type</th>\n",
        "      <th>ru_prov</th>\n",
        "      <th>ru_uezd</th>\n",
        "      <th>text</th>\n",
        "    </tr>\n",
        "  </thead>\n",
        "  <tbody>\n",
        "    <tr>\n",
        "      <th>2</th>\n",
        "      <td> 10</td>\n",
        "      <td>  \u0410\u0412\u0414\u0423\u041b\u041e\u0412\u041e</td>\n",
        "      <td>    \u0441\u0435\u043b\u043e</td>\n",
        "      <td>     \u0420\u044f\u0437\u0430\u043d\u0441\u043a\u0430\u0433\u043e \u041d\u0430\u043c\u0463\u0441\u0442\u043d\u0438\u0447\u0435\u0441\u0442\u0432\u0430</td>\n",
        "      <td>   \u0414\u043e\u043d\u043a\u043e\u0432\u0441\u043a\u043e\u043c\u044a \u0443\u0463\u0437\u0434\u0463</td>\n",
        "      <td>  \u0418\u0412\u0410\u041d\u041e\u0412\u0421\u041a\u041e\u0415 \u0442\u043e\u0436\u044c, &lt;/span&gt;&lt;span class=\"font0\" s...</td>\n",
        "    </tr>\n",
        "    <tr>\n",
        "      <th>3</th>\n",
        "      <td> 10</td>\n",
        "      <td> \u0410\u0412\u0416\u0415\u041d\u0421\u041a\u0410\u042f</td>\n",
        "      <td> \u0432\u043e\u043b\u043e\u0441\u0442\u044c</td>\n",
        "      <td>   \u0412\u043e\u043b\u043e\u0433\u043e\u0434\u0441\u043a\u0430\u0433\u043e \u041d\u0430\u043c\u0463\u0441\u0442\u043d\u0438\u0447\u0435\u0441\u0442\u0432\u0430</td>\n",
        "      <td>             \u0438 \u0443\u0463\u0437\u0434\u0443</td>\n",
        "      <td>  &lt;/span&gt;&lt;span class=\"font0\" style=\"font-style:...</td>\n",
        "    </tr>\n",
        "    <tr>\n",
        "      <th>4</th>\n",
        "      <td> 10</td>\n",
        "      <td> \u0410\u0414\u041e\u0412\u0410\u0422\u041e\u0412\u041e</td>\n",
        "      <td>    \u0441\u0435\u043b\u043e</td>\n",
        "      <td> \u041d\u0438\u0436\u0435\u0433\u043e\u0440\u043e\u0434\u0441\u043a\u0430\u0433\u043e \u041d\u0430\u043c\u0463\u0441\u0442\u043d\u0438\u0447\u0435\u0441\u0442\u0432\u0430</td>\n",
        "      <td>   \u0410\u0440\u0437\u0430\u043c\u0430\u0441\u043a\u043e\u043c\u044a \u0443\u0463\u0437\u0434\u0463</td>\n",
        "      <td>  &lt;/span&gt;&lt;span class=\"font0\" style=\"font-style:...</td>\n",
        "    </tr>\n",
        "    <tr>\n",
        "      <th>5</th>\n",
        "      <td> 10</td>\n",
        "      <td>    \u0410\u041a\u0421\u0415\u041b\u042c</td>\n",
        "      <td>    \u0441\u0435\u043b\u043e</td>\n",
        "      <td>    \u0422\u0430\u043c\u0431\u043e\u0432\u0441\u043a\u0430\u0433\u043e \u041d\u0430\u043c\u0463\u0441\u0442\u043d\u0438\u0447\u0435\u0441\u0442\u0432\u0430</td>\n",
        "      <td> \u0422\u0435\u043c\u043d\u0438\u043a\u043e\u0432\u0441\u043a\u043e\u043c\u044a \u0443\u0463\u0437\u0434\u0463</td>\n",
        "      <td>  &lt;/span&gt;&lt;span class=\"font0\" style=\"font-style:...</td>\n",
        "    </tr>\n",
        "    <tr>\n",
        "      <th>6</th>\n",
        "      <td> 10</td>\n",
        "      <td>   \u0410\u041b\u0410\u0422\u042b\u0420\u042c</td>\n",
        "      <td>  \u0433\u043e\u0440\u043e\u0434\u044a</td>\n",
        "      <td>    \u0421\u0438\u043d\u0431\u0438\u0440\u0441\u043a\u0430\u0433\u043e \u041d\u0430\u043c\u0463\u0441\u0442\u043d\u0438\u0447\u0435\u0441\u0442\u0432\u0430</td>\n",
        "      <td>            \u0412\u044a \u0443\u0463\u0437\u0434\u0463</td>\n",
        "      <td>  &lt;/span&gt;&lt;span class=\"font0\" style=\"font-style:...</td>\n",
        "    </tr>\n",
        "  </tbody>\n",
        "</table>\n",
        "</div>"
       ],
       "metadata": {},
       "output_type": "pyout",
       "prompt_number": 10,
       "text": [
        "   page       name    _type                        ru_prov  \\\n",
        "2    10   \u0410\u0412\u0414\u0423\u041b\u041e\u0412\u041e     \u0441\u0435\u043b\u043e      \u0420\u044f\u0437\u0430\u043d\u0441\u043a\u0430\u0433\u043e \u041d\u0430\u043c\u0463\u0441\u0442\u043d\u0438\u0447\u0435\u0441\u0442\u0432\u0430   \n",
        "3    10  \u0410\u0412\u0416\u0415\u041d\u0421\u041a\u0410\u042f  \u0432\u043e\u043b\u043e\u0441\u0442\u044c    \u0412\u043e\u043b\u043e\u0433\u043e\u0434\u0441\u043a\u0430\u0433\u043e \u041d\u0430\u043c\u0463\u0441\u0442\u043d\u0438\u0447\u0435\u0441\u0442\u0432\u0430   \n",
        "4    10  \u0410\u0414\u041e\u0412\u0410\u0422\u041e\u0412\u041e     \u0441\u0435\u043b\u043e  \u041d\u0438\u0436\u0435\u0433\u043e\u0440\u043e\u0434\u0441\u043a\u0430\u0433\u043e \u041d\u0430\u043c\u0463\u0441\u0442\u043d\u0438\u0447\u0435\u0441\u0442\u0432\u0430   \n",
        "5    10     \u0410\u041a\u0421\u0415\u041b\u042c     \u0441\u0435\u043b\u043e     \u0422\u0430\u043c\u0431\u043e\u0432\u0441\u043a\u0430\u0433\u043e \u041d\u0430\u043c\u0463\u0441\u0442\u043d\u0438\u0447\u0435\u0441\u0442\u0432\u0430   \n",
        "6    10    \u0410\u041b\u0410\u0422\u042b\u0420\u042c   \u0433\u043e\u0440\u043e\u0434\u044a     \u0421\u0438\u043d\u0431\u0438\u0440\u0441\u043a\u0430\u0433\u043e \u041d\u0430\u043c\u0463\u0441\u0442\u043d\u0438\u0447\u0435\u0441\u0442\u0432\u0430   \n",
        "\n",
        "               ru_uezd                                               text  \n",
        "2    \u0414\u043e\u043d\u043a\u043e\u0432\u0441\u043a\u043e\u043c\u044a \u0443\u0463\u0437\u0434\u0463   \u0418\u0412\u0410\u041d\u041e\u0412\u0421\u041a\u041e\u0415 \u0442\u043e\u0436\u044c, </span><span class=\"font0\" s...  \n",
        "3              \u0438 \u0443\u0463\u0437\u0434\u0443   </span><span class=\"font0\" style=\"font-style:...  \n",
        "4    \u0410\u0440\u0437\u0430\u043c\u0430\u0441\u043a\u043e\u043c\u044a \u0443\u0463\u0437\u0434\u0463   </span><span class=\"font0\" style=\"font-style:...  \n",
        "5  \u0422\u0435\u043c\u043d\u0438\u043a\u043e\u0432\u0441\u043a\u043e\u043c\u044a \u0443\u0463\u0437\u0434\u0463   </span><span class=\"font0\" style=\"font-style:...  \n",
        "6             \u0412\u044a \u0443\u0463\u0437\u0434\u0463   </span><span class=\"font0\" style=\"font-style:...  "
       ]
      }
     ],
     "prompt_number": 10
    },
    {
     "cell_type": "code",
     "collapsed": false,
     "input": [
      "def replace_sameas(df, original, replacement, match_list, kind=\"\u041d\u0430\u043c\u0463\u0441\u0442\u043d\u0438\u0447\u0435\u0441\u0442\u0432\u0430\"):\n",
      "    \"\"\"\n",
      "    df: dataframe to be modified\n",
      "    original: column name in pandas data frame\n",
      "    replacement: column name in same pandas data frame\n",
      "    match_list: list of strings which, in original, indicate that they should be replaced by the corresponding values in replacement\n",
      "    \n",
      "    For each string in match_list, this function replaces said string in original with the corresponding value in replacement, converted to title case for convenience.\n",
      "    Place types are added after place names for consistent further processing. Type defaults to \u041d\u0430\u043c\u0463\u0441\u0442\u043d\u0438\u0447\u0435\u0441\u0442\u0432\u0430.\n",
      "    This is an in place transformation in the dataframe.\n",
      "    \"\"\"\n",
      "    for match in match_list:\n",
      "        cond = df[original] == match\n",
      "        df[original][cond] = df[replacement][cond].str.title()+\" {}\".format(kind)\n",
      "    return 0"
     ],
     "language": "python",
     "metadata": {},
     "outputs": [],
     "prompt_number": 11
    },
    {
     "cell_type": "code",
     "collapsed": false,
     "input": [
      "replacer = market_df.ix[market_df.ru_prov == \"\u0442\u043e\u0433\u043e \u0436\u0435 \u041d\u0430\u043c\u0463\u0441\u0442\u043d\u0438\u0447\u0435\u0441\u0442\u0432\u0430\"].index.tolist()\n",
      "for x in replacer:\n",
      "    market_df.loc[x,'ru_prov'] = market_df.loc[x-1]['ru_prov']"
     ],
     "language": "python",
     "metadata": {},
     "outputs": [],
     "prompt_number": 12
    },
    {
     "cell_type": "code",
     "collapsed": false,
     "input": [
      "# Replacing \"same Namiestnichestva\" statements with appropriate Namiestnichestva name\n",
      "match_list = [\"\u041d\u0430\u043c\u0463\u0441\u0442\u043d\u0438\u0447\u0435\u0441\u0442\u0432\u0430 \u0441\u0435\u0433\u043e \u0438\u043c\u0435\u043d\u0438\"]\n",
      "replace_sameas(market_df,'ru_prov','name',match_list)"
     ],
     "language": "python",
     "metadata": {},
     "outputs": [
      {
       "metadata": {},
       "output_type": "pyout",
       "prompt_number": 13,
       "text": [
        "0"
       ]
      }
     ],
     "prompt_number": 13
    },
    {
     "cell_type": "code",
     "collapsed": false,
     "input": [
      "replacer = market_df.ix[market_df.ru_prov == \"\u0442\u043e\u0439 \u0436\u0435 \u0413\u0443\u0431\u0435\u0440\u043d\u0456\u0438\"].index.tolist()\n",
      "for x in replacer:\n",
      "    market_df.loc[x,'ru_prov'] = market_df.loc[x-1]['ru_prov']"
     ],
     "language": "python",
     "metadata": {},
     "outputs": [],
     "prompt_number": 14
    },
    {
     "cell_type": "code",
     "collapsed": false,
     "input": [
      "# Replacing \"same Uyezd\" statements with appropriate Uyezd name. On hold, as uyezd are less frequently mentioned.\n",
      "#match_list = [\"\u0438 \u0443\u0463\u0437\u0434\u0443\",\"\u0438 \u0443\u0463\u0437\u0434\u0463\",\"\u0438\u0437\u044a \u0443\u0463\u0437\u0434\u0443\"]\n",
      "#replace_sameas(market_df,'ru_prov','name',match_list,\"\u0443\u0463\u0437\u0434\u0463\")"
     ],
     "language": "python",
     "metadata": {},
     "outputs": [],
     "prompt_number": 15
    },
    {
     "cell_type": "code",
     "collapsed": false,
     "input": [
      "# Replacing parts of names that don't carry meaning\n",
      "market_df.ru_prov = market_df.ru_prov.replace(r'^\u0432\u044a ','',regex=True)\n",
      "market_df.ru_prov = market_df.ru_prov.replace('\u0413\u0440\u0430\u0444\u0430 \u0412\u043e\u0440\u043e\u043d\u0446\u043e\u0432\u0430 ','',regex=True)\n",
      "market_df.ru_prov = market_df.ru_prov.replace('\u0413\u0440\u0430\u0444\u0430 \u0428\u0435\u0440\u0435\u043c\u0435\u0442\u0435\u0432\u0430, ','',regex=True)\n",
      "market_df.ru_prov = market_df.ru_prov.replace('\u0440\u0430\u0437\u043d\u044b\u0445\u044a \u041f\u043e\u043c\u0463\u0449\u0438\u043a\u043e\u0432\u044a ','',regex=True)\n",
      "market_df.ru_prov = market_df.ru_prov.replace(' \u0436\u0435','',regex=True)"
     ],
     "language": "python",
     "metadata": {},
     "outputs": [],
     "prompt_number": 31
    },
    {
     "cell_type": "code",
     "collapsed": false,
     "input": [
      "# Replacing variant spellings of Namiestnichestva with a single spelling.\n",
      "market_df.ru_prov = market_df.ru_prov.replace('\u041d\u0430(?:\u043c\u0463){0,1}\u0441\u0442\u043d\u0438\u0447[\u0435\u043b]\u0441\u0442\u0432[\u0430\u0463]','\u041d\u0430\u043c\u0463\u0441\u0442\u043d\u0438\u0447\u0435\u0441\u0442\u0432\u0430',regex=True)"
     ],
     "language": "python",
     "metadata": {},
     "outputs": [],
     "prompt_number": 32
    },
    {
     "cell_type": "code",
     "collapsed": false,
     "input": [
      "from lxml import html\n",
      "def strip_html(text):\n",
      "    return html.fromstring(text).text_content()"
     ],
     "language": "python",
     "metadata": {},
     "outputs": [],
     "prompt_number": 33
    },
    {
     "cell_type": "code",
     "collapsed": false,
     "input": [
      "market_df['html_text'] = market_df.text\n",
      "market_df.text = market_df.text.apply(strip_html)"
     ],
     "language": "python",
     "metadata": {},
     "outputs": [],
     "prompt_number": 34
    },
    {
     "cell_type": "markdown",
     "metadata": {},
     "source": [
      "Orthography Modernization\n",
      "========================="
     ]
    },
    {
     "cell_type": "code",
     "collapsed": false,
     "input": [
      "import re,json\n",
      "from lxml import html\n",
      "\n",
      "lookup_dict = {}\n",
      "with open(\"special_cases.json\",'r') as fp:\n",
      "    lookup_dict = json.load(fp)\n",
      "\n",
      "def ortho_rules(text,lookup_dict):\n",
      "    \"\"\"\n",
      "    Takes a text string and a lookup dict as input\n",
      "    Removes any lingering html tags\n",
      "    Breaks the string down into component words with split\n",
      "    Uses replacements to modernize orthography\n",
      "    Returns re-assembled text with modern orthography\n",
      "    \"\"\"\n",
      "    text = html.fromstring(text).text_content()\n",
      "    textlist = text.split(' ')\n",
      "    out_list = []\n",
      "    for word in textlist:\n",
      "        if word in [',','.',';',':']:\n",
      "            out_list.append(word)\n",
      "        word = word.strip(',.;:')\n",
      "        if word in lookup_dict:\n",
      "            word = lookup_dict[word]\n",
      "            out_list.append(word)\n",
      "        else:\n",
      "            word = re.sub(\"[\u042a\u044a]$\",'',word)\n",
      "            word = re.sub(r\"^([\u0447\u0435]{0,2}[\u0447]?[\u0432\u0431\u043d\u0440]?[\u0432\u0435\u043e\u0430\u0438])\u0437([\u041f\u0424\u041a\u0422\u0428\u0421\u0427\u043f\u0444\u043a\u0442\u0448\u0441\u0447])\",r\"\\1\u0441\\2\",word,re.IGNORECASE)\n",
      "            word = re.sub(\"\u0430\u0433\u043e$\",\"\u043e\u0433\u043e\",word,re.IGNORECASE)\n",
      "            word = re.sub(\"\u044f\u0433\u043e$\",\"\u0435\u0433\u043e\",word,re.IGNORECASE)\n",
      "            word = re.sub(\"\u044b\u044f$\",\"\u044b\u0435\",word,re.IGNORECASE)\n",
      "            word = re.sub(\"i\u044f$\",\"\u0438\u0435\",word,re.IGNORECASE)\n",
      "            word = word.replace('i','\u0438') #english\n",
      "            word = word.replace('I','\u0418') #english\n",
      "            word = word.replace('\u0456','\u0438') #cyrillic\n",
      "            word = word.replace('\u0406','\u0418') #cyrillic\n",
      "            word = word.replace('\u0462','\u0415')\n",
      "            word = word.replace('\u0463','\u0435')\n",
      "            out_list.append(word)\n",
      "    out_str = ' '.join(out_list)\n",
      "    return out_str"
     ],
     "language": "python",
     "metadata": {},
     "outputs": [],
     "prompt_number": 35
    },
    {
     "cell_type": "code",
     "collapsed": false,
     "input": [
      "market_df['name_modern_sp'] = market_df.name.apply(ortho_rules,args=[lookup_dict])\n",
      "market_df['prov_modern_sp'] = market_df.ru_prov.apply(ortho_rules,args=[lookup_dict])\n",
      "market_df.text = market_df.text.apply(ortho_rules,args=[lookup_dict])\n",
      "market_df.head()"
     ],
     "language": "python",
     "metadata": {},
     "outputs": [
      {
       "html": [
        "<div style=\"max-height:1000px;max-width:1500px;overflow:auto;\">\n",
        "<table border=\"1\" class=\"dataframe\">\n",
        "  <thead>\n",
        "    <tr style=\"text-align: right;\">\n",
        "      <th></th>\n",
        "      <th>page</th>\n",
        "      <th>name</th>\n",
        "      <th>_type</th>\n",
        "      <th>ru_prov</th>\n",
        "      <th>ru_uezd</th>\n",
        "      <th>text</th>\n",
        "      <th>html_text</th>\n",
        "      <th>name_modern_sp</th>\n",
        "      <th>prov_modern_sp</th>\n",
        "      <th>prov_stem</th>\n",
        "    </tr>\n",
        "  </thead>\n",
        "  <tbody>\n",
        "    <tr>\n",
        "      <th>2</th>\n",
        "      <td> 10</td>\n",
        "      <td>  \u0410\u0412\u0414\u0423\u041b\u041e\u0412\u041e</td>\n",
        "      <td>    \u0441\u0435\u043b\u043e</td>\n",
        "      <td>     \u0420\u044f\u0437\u0430\u043d\u0441\u043a\u0430\u0433\u043e \u041d\u0430\u043c\u0463\u0441\u0442\u043d\u0438\u0447\u0435\u0441\u0442\u0432\u0430</td>\n",
        "      <td>   \u0414\u043e\u043d\u043a\u043e\u0432\u0441\u043a\u043e\u043c\u044a \u0443\u0463\u0437\u0434\u0463</td>\n",
        "      <td> \u0418\u0412\u0410\u041d\u041e\u0412\u0421\u041a\u041e\u0415 \u0442\u043e\u0436\u044c \u0441\u0435\u043b\u043e \u0420\u044f\u0437\u0430\u043d\u0441\u043a\u043e\u0433\u043e \u041d\u0430\u043c\u0435\u0441\u0442\u043d\u0438\u0447\u0435\u0441\u0442\u0432\u0430...</td>\n",
        "      <td> \u0418\u0412\u0410\u041d\u041e\u0412\u0421\u041a\u041e\u0415 \u0442\u043e\u0436\u044c \u0441\u0435\u043b\u043e \u0420\u044f\u0437\u0430\u043d\u0441\u043a\u043e\u0433\u043e \u041d\u0430\u043c\u0435\u0441\u0442\u043d\u0438\u0447\u0435\u0441\u0442\u0432\u0430...</td>\n",
        "      <td>  \u0410\u0412\u0414\u0423\u041b\u041e\u0412\u041e</td>\n",
        "      <td>     \u0420\u044f\u0437\u0430\u043d\u0441\u043a\u043e\u0433\u043e \u041d\u0430\u043c\u0435\u0441\u0442\u043d\u0438\u0447\u0435\u0441\u0442\u0432\u0430</td>\n",
        "      <td>     \u0440\u044f\u0437\u0430\u043d\u0441\u043a</td>\n",
        "    </tr>\n",
        "    <tr>\n",
        "      <th>3</th>\n",
        "      <td> 10</td>\n",
        "      <td> \u0410\u0412\u0416\u0415\u041d\u0421\u041a\u0410\u042f</td>\n",
        "      <td> \u0432\u043e\u043b\u043e\u0441\u0442\u044c</td>\n",
        "      <td>   \u0412\u043e\u043b\u043e\u0433\u043e\u0434\u0441\u043a\u0430\u0433\u043e \u041d\u0430\u043c\u0463\u0441\u0442\u043d\u0438\u0447\u0435\u0441\u0442\u0432\u0430</td>\n",
        "      <td>             \u0438 \u0443\u0463\u0437\u0434\u0443</td>\n",
        "      <td> \u0432\u043e\u043b\u043e\u0441\u0442\u044c \u0412\u043e\u043b\u043e\u0433\u043e\u0434\u0441\u043a\u043e\u0433\u043e \u041d\u0430\u043c\u0435\u0441\u0442\u043d\u0438\u0447\u0435\u0441\u0442\u0432\u0430 \u0438 \u0443\u0435\u0437\u0434\u0443 \u0417\u0434...</td>\n",
        "      <td> \u0432\u043e\u043b\u043e\u0441\u0442\u044c \u0412\u043e\u043b\u043e\u0433\u043e\u0434\u0441\u043a\u043e\u0433\u043e \u041d\u0430\u043c\u0435\u0441\u0442\u043d\u0438\u0447\u0435\u0441\u0442\u0432\u0430 \u0438 \u0443\u0435\u0437\u0434\u0443 \u0417\u0434...</td>\n",
        "      <td> \u0410\u0412\u0416\u0415\u041d\u0421\u041a\u0410\u042f</td>\n",
        "      <td>   \u0412\u043e\u043b\u043e\u0433\u043e\u0434\u0441\u043a\u043e\u0433\u043e \u041d\u0430\u043c\u0435\u0441\u0442\u043d\u0438\u0447\u0435\u0441\u0442\u0432\u0430</td>\n",
        "      <td>   \u0432\u043e\u043b\u043e\u0433\u043e\u0434\u0441\u043a</td>\n",
        "    </tr>\n",
        "    <tr>\n",
        "      <th>4</th>\n",
        "      <td> 10</td>\n",
        "      <td> \u0410\u0414\u041e\u0412\u0410\u0422\u041e\u0412\u041e</td>\n",
        "      <td>    \u0441\u0435\u043b\u043e</td>\n",
        "      <td> \u041d\u0438\u0436\u0435\u0433\u043e\u0440\u043e\u0434\u0441\u043a\u0430\u0433\u043e \u041d\u0430\u043c\u0463\u0441\u0442\u043d\u0438\u0447\u0435\u0441\u0442\u0432\u0430</td>\n",
        "      <td>   \u0410\u0440\u0437\u0430\u043c\u0430\u0441\u043a\u043e\u043c\u044a \u0443\u0463\u0437\u0434\u0463</td>\n",
        "      <td> \u0441\u0435\u043b\u043e \u041d\u0438\u0436\u0435\u0433\u043e\u0440\u043e\u0434\u0441\u043a\u043e\u0433\u043e \u041d\u0430\u043c\u0435\u0441\u0442\u043d\u0438\u0447\u0435\u0441\u0442\u0432\u0430 \u0432 \u0410\u0440\u0437\u0430\u043c\u0430\u0441\u043a\u043e...</td>\n",
        "      <td> \u0441\u0435\u043b\u043e \u041d\u0438\u0436\u0435\u0433\u043e\u0440\u043e\u0434\u0441\u043a\u043e\u0433\u043e \u041d\u0430\u043c\u0435\u0441\u0442\u043d\u0438\u0447\u0435\u0441\u0442\u0432\u0430 \u0432 \u0410\u0440\u0437\u0430\u043c\u0430\u0441\u043a\u043e...</td>\n",
        "      <td> \u0410\u0414\u041e\u0412\u0410\u0422\u041e\u0412\u041e</td>\n",
        "      <td> \u041d\u0438\u0436\u0435\u0433\u043e\u0440\u043e\u0434\u0441\u043a\u043e\u0433\u043e \u041d\u0430\u043c\u0435\u0441\u0442\u043d\u0438\u0447\u0435\u0441\u0442\u0432\u0430</td>\n",
        "      <td> \u043d\u0438\u0436\u0435\u0433\u043e\u0440\u043e\u0434\u0441\u043a</td>\n",
        "    </tr>\n",
        "    <tr>\n",
        "      <th>5</th>\n",
        "      <td> 10</td>\n",
        "      <td>    \u0410\u041a\u0421\u0415\u041b\u042c</td>\n",
        "      <td>    \u0441\u0435\u043b\u043e</td>\n",
        "      <td>    \u0422\u0430\u043c\u0431\u043e\u0432\u0441\u043a\u0430\u0433\u043e \u041d\u0430\u043c\u0463\u0441\u0442\u043d\u0438\u0447\u0435\u0441\u0442\u0432\u0430</td>\n",
        "      <td> \u0422\u0435\u043c\u043d\u0438\u043a\u043e\u0432\u0441\u043a\u043e\u043c\u044a \u0443\u0463\u0437\u0434\u0463</td>\n",
        "      <td> \u0441\u0435\u043b\u043e \u0422\u0430\u043c\u0431\u043e\u0432\u0441\u043a\u043e\u0433\u043e \u041d\u0430\u043c\u0435\u0441\u0442\u043d\u0438\u0447\u0435\u0441\u0442\u0432\u0430 \u0432 \u0422\u0435\u043c\u043d\u0438\u043a\u043e\u0432\u0441\u043a\u043e\u043c...</td>\n",
        "      <td> \u0441\u0435\u043b\u043e \u0422\u0430\u043c\u0431\u043e\u0432\u0441\u043a\u043e\u0433\u043e \u041d\u0430\u043c\u0435\u0441\u0442\u043d\u0438\u0447\u0435\u0441\u0442\u0432\u0430 \u0432 \u0422\u0435\u043c\u043d\u0438\u043a\u043e\u0432\u0441\u043a\u043e\u043c...</td>\n",
        "      <td>    \u0410\u041a\u0421\u0415\u041b\u042c</td>\n",
        "      <td>    \u0422\u0430\u043c\u0431\u043e\u0432\u0441\u043a\u043e\u0433\u043e \u041d\u0430\u043c\u0435\u0441\u0442\u043d\u0438\u0447\u0435\u0441\u0442\u0432\u0430</td>\n",
        "      <td>    \u0442\u0430\u043c\u0431\u043e\u0432\u0441\u043a</td>\n",
        "    </tr>\n",
        "    <tr>\n",
        "      <th>6</th>\n",
        "      <td> 10</td>\n",
        "      <td>   \u0410\u041b\u0410\u0422\u042b\u0420\u042c</td>\n",
        "      <td>  \u0433\u043e\u0440\u043e\u0434\u044a</td>\n",
        "      <td>    \u0421\u0438\u043d\u0431\u0438\u0440\u0441\u043a\u0430\u0433\u043e \u041d\u0430\u043c\u0463\u0441\u0442\u043d\u0438\u0447\u0435\u0441\u0442\u0432\u0430</td>\n",
        "      <td>            \u0412\u044a \u0443\u0463\u0437\u0434\u0463</td>\n",
        "      <td> \u0433\u043e\u0440\u043e\u0434 \u0421\u0438\u043d\u0431\u0438\u0440\u0441\u043a\u043e\u0433\u043e \u041d\u0430\u043c\u0435\u0441\u0442\u043d\u0438\u0447\u0435\u0441\u0442\u0432\u0430.\u0412 \u0443\u0435\u0437\u0434\u0435 \u0441\u0435\u0433\u043e ...</td>\n",
        "      <td> \u0433\u043e\u0440\u043e\u0434 \u0421\u0438\u043d\u0431\u0438\u0440\u0441\u043a\u043e\u0433\u043e \u041d\u0430\u043c\u0435\u0441\u0442\u043d\u0438\u0447\u0435\u0441\u0442\u0432\u0430.\u0412 \u0443\u0435\u0437\u0434\u0435 \u0441\u0435\u0433\u043e ...</td>\n",
        "      <td>   \u0410\u041b\u0410\u0422\u042b\u0420\u042c</td>\n",
        "      <td>    \u0421\u0438\u043d\u0431\u0438\u0440\u0441\u043a\u043e\u0433\u043e \u041d\u0430\u043c\u0435\u0441\u0442\u043d\u0438\u0447\u0435\u0441\u0442\u0432\u0430</td>\n",
        "      <td>    \u0441\u0438\u043d\u0431\u0438\u0440\u0441\u043a</td>\n",
        "    </tr>\n",
        "  </tbody>\n",
        "</table>\n",
        "</div>"
       ],
       "metadata": {},
       "output_type": "pyout",
       "prompt_number": 36,
       "text": [
        "   page       name    _type                        ru_prov  \\\n",
        "2    10   \u0410\u0412\u0414\u0423\u041b\u041e\u0412\u041e     \u0441\u0435\u043b\u043e      \u0420\u044f\u0437\u0430\u043d\u0441\u043a\u0430\u0433\u043e \u041d\u0430\u043c\u0463\u0441\u0442\u043d\u0438\u0447\u0435\u0441\u0442\u0432\u0430   \n",
        "3    10  \u0410\u0412\u0416\u0415\u041d\u0421\u041a\u0410\u042f  \u0432\u043e\u043b\u043e\u0441\u0442\u044c    \u0412\u043e\u043b\u043e\u0433\u043e\u0434\u0441\u043a\u0430\u0433\u043e \u041d\u0430\u043c\u0463\u0441\u0442\u043d\u0438\u0447\u0435\u0441\u0442\u0432\u0430   \n",
        "4    10  \u0410\u0414\u041e\u0412\u0410\u0422\u041e\u0412\u041e     \u0441\u0435\u043b\u043e  \u041d\u0438\u0436\u0435\u0433\u043e\u0440\u043e\u0434\u0441\u043a\u0430\u0433\u043e \u041d\u0430\u043c\u0463\u0441\u0442\u043d\u0438\u0447\u0435\u0441\u0442\u0432\u0430   \n",
        "5    10     \u0410\u041a\u0421\u0415\u041b\u042c     \u0441\u0435\u043b\u043e     \u0422\u0430\u043c\u0431\u043e\u0432\u0441\u043a\u0430\u0433\u043e \u041d\u0430\u043c\u0463\u0441\u0442\u043d\u0438\u0447\u0435\u0441\u0442\u0432\u0430   \n",
        "6    10    \u0410\u041b\u0410\u0422\u042b\u0420\u042c   \u0433\u043e\u0440\u043e\u0434\u044a     \u0421\u0438\u043d\u0431\u0438\u0440\u0441\u043a\u0430\u0433\u043e \u041d\u0430\u043c\u0463\u0441\u0442\u043d\u0438\u0447\u0435\u0441\u0442\u0432\u0430   \n",
        "\n",
        "               ru_uezd                                               text  \\\n",
        "2    \u0414\u043e\u043d\u043a\u043e\u0432\u0441\u043a\u043e\u043c\u044a \u0443\u0463\u0437\u0434\u0463  \u0418\u0412\u0410\u041d\u041e\u0412\u0421\u041a\u041e\u0415 \u0442\u043e\u0436\u044c \u0441\u0435\u043b\u043e \u0420\u044f\u0437\u0430\u043d\u0441\u043a\u043e\u0433\u043e \u041d\u0430\u043c\u0435\u0441\u0442\u043d\u0438\u0447\u0435\u0441\u0442\u0432\u0430...   \n",
        "3              \u0438 \u0443\u0463\u0437\u0434\u0443  \u0432\u043e\u043b\u043e\u0441\u0442\u044c \u0412\u043e\u043b\u043e\u0433\u043e\u0434\u0441\u043a\u043e\u0433\u043e \u041d\u0430\u043c\u0435\u0441\u0442\u043d\u0438\u0447\u0435\u0441\u0442\u0432\u0430 \u0438 \u0443\u0435\u0437\u0434\u0443 \u0417\u0434...   \n",
        "4    \u0410\u0440\u0437\u0430\u043c\u0430\u0441\u043a\u043e\u043c\u044a \u0443\u0463\u0437\u0434\u0463  \u0441\u0435\u043b\u043e \u041d\u0438\u0436\u0435\u0433\u043e\u0440\u043e\u0434\u0441\u043a\u043e\u0433\u043e \u041d\u0430\u043c\u0435\u0441\u0442\u043d\u0438\u0447\u0435\u0441\u0442\u0432\u0430 \u0432 \u0410\u0440\u0437\u0430\u043c\u0430\u0441\u043a\u043e...   \n",
        "5  \u0422\u0435\u043c\u043d\u0438\u043a\u043e\u0432\u0441\u043a\u043e\u043c\u044a \u0443\u0463\u0437\u0434\u0463  \u0441\u0435\u043b\u043e \u0422\u0430\u043c\u0431\u043e\u0432\u0441\u043a\u043e\u0433\u043e \u041d\u0430\u043c\u0435\u0441\u0442\u043d\u0438\u0447\u0435\u0441\u0442\u0432\u0430 \u0432 \u0422\u0435\u043c\u043d\u0438\u043a\u043e\u0432\u0441\u043a\u043e\u043c...   \n",
        "6             \u0412\u044a \u0443\u0463\u0437\u0434\u0463  \u0433\u043e\u0440\u043e\u0434 \u0421\u0438\u043d\u0431\u0438\u0440\u0441\u043a\u043e\u0433\u043e \u041d\u0430\u043c\u0435\u0441\u0442\u043d\u0438\u0447\u0435\u0441\u0442\u0432\u0430.\u0412 \u0443\u0435\u0437\u0434\u0435 \u0441\u0435\u0433\u043e ...   \n",
        "\n",
        "                                           html_text name_modern_sp  \\\n",
        "2  \u0418\u0412\u0410\u041d\u041e\u0412\u0421\u041a\u041e\u0415 \u0442\u043e\u0436\u044c \u0441\u0435\u043b\u043e \u0420\u044f\u0437\u0430\u043d\u0441\u043a\u043e\u0433\u043e \u041d\u0430\u043c\u0435\u0441\u0442\u043d\u0438\u0447\u0435\u0441\u0442\u0432\u0430...       \u0410\u0412\u0414\u0423\u041b\u041e\u0412\u041e   \n",
        "3  \u0432\u043e\u043b\u043e\u0441\u0442\u044c \u0412\u043e\u043b\u043e\u0433\u043e\u0434\u0441\u043a\u043e\u0433\u043e \u041d\u0430\u043c\u0435\u0441\u0442\u043d\u0438\u0447\u0435\u0441\u0442\u0432\u0430 \u0438 \u0443\u0435\u0437\u0434\u0443 \u0417\u0434...      \u0410\u0412\u0416\u0415\u041d\u0421\u041a\u0410\u042f   \n",
        "4  \u0441\u0435\u043b\u043e \u041d\u0438\u0436\u0435\u0433\u043e\u0440\u043e\u0434\u0441\u043a\u043e\u0433\u043e \u041d\u0430\u043c\u0435\u0441\u0442\u043d\u0438\u0447\u0435\u0441\u0442\u0432\u0430 \u0432 \u0410\u0440\u0437\u0430\u043c\u0430\u0441\u043a\u043e...      \u0410\u0414\u041e\u0412\u0410\u0422\u041e\u0412\u041e   \n",
        "5  \u0441\u0435\u043b\u043e \u0422\u0430\u043c\u0431\u043e\u0432\u0441\u043a\u043e\u0433\u043e \u041d\u0430\u043c\u0435\u0441\u0442\u043d\u0438\u0447\u0435\u0441\u0442\u0432\u0430 \u0432 \u0422\u0435\u043c\u043d\u0438\u043a\u043e\u0432\u0441\u043a\u043e\u043c...         \u0410\u041a\u0421\u0415\u041b\u042c   \n",
        "6  \u0433\u043e\u0440\u043e\u0434 \u0421\u0438\u043d\u0431\u0438\u0440\u0441\u043a\u043e\u0433\u043e \u041d\u0430\u043c\u0435\u0441\u0442\u043d\u0438\u0447\u0435\u0441\u0442\u0432\u0430.\u0412 \u0443\u0435\u0437\u0434\u0435 \u0441\u0435\u0433\u043e ...        \u0410\u041b\u0410\u0422\u042b\u0420\u042c   \n",
        "\n",
        "                  prov_modern_sp    prov_stem  \n",
        "2      \u0420\u044f\u0437\u0430\u043d\u0441\u043a\u043e\u0433\u043e \u041d\u0430\u043c\u0435\u0441\u0442\u043d\u0438\u0447\u0435\u0441\u0442\u0432\u0430      \u0440\u044f\u0437\u0430\u043d\u0441\u043a  \n",
        "3    \u0412\u043e\u043b\u043e\u0433\u043e\u0434\u0441\u043a\u043e\u0433\u043e \u041d\u0430\u043c\u0435\u0441\u0442\u043d\u0438\u0447\u0435\u0441\u0442\u0432\u0430    \u0432\u043e\u043b\u043e\u0433\u043e\u0434\u0441\u043a  \n",
        "4  \u041d\u0438\u0436\u0435\u0433\u043e\u0440\u043e\u0434\u0441\u043a\u043e\u0433\u043e \u041d\u0430\u043c\u0435\u0441\u0442\u043d\u0438\u0447\u0435\u0441\u0442\u0432\u0430  \u043d\u0438\u0436\u0435\u0433\u043e\u0440\u043e\u0434\u0441\u043a  \n",
        "5     \u0422\u0430\u043c\u0431\u043e\u0432\u0441\u043a\u043e\u0433\u043e \u041d\u0430\u043c\u0435\u0441\u0442\u043d\u0438\u0447\u0435\u0441\u0442\u0432\u0430     \u0442\u0430\u043c\u0431\u043e\u0432\u0441\u043a  \n",
        "6     \u0421\u0438\u043d\u0431\u0438\u0440\u0441\u043a\u043e\u0433\u043e \u041d\u0430\u043c\u0435\u0441\u0442\u043d\u0438\u0447\u0435\u0441\u0442\u0432\u0430     \u0441\u0438\u043d\u0431\u0438\u0440\u0441\u043a  "
       ]
      }
     ],
     "prompt_number": 36
    },
    {
     "cell_type": "markdown",
     "metadata": {},
     "source": [
      "Lemmatization\n",
      "=============\n",
      "Here's where we start lemmatizing some of the text. `ru_stemmer` below uses the nltk snowball stemmer to generalize terms."
     ]
    },
    {
     "cell_type": "code",
     "collapsed": false,
     "input": [
      "import nltk"
     ],
     "language": "python",
     "metadata": {},
     "outputs": [],
     "prompt_number": 37
    },
    {
     "cell_type": "code",
     "collapsed": false,
     "input": [
      "ru_stemmer = nltk.stem.SnowballStemmer('russian')"
     ],
     "language": "python",
     "metadata": {},
     "outputs": [],
     "prompt_number": 38
    },
    {
     "cell_type": "code",
     "collapsed": false,
     "input": [
      "market_df['prov_stem'] = market_df.prov_modern_sp.replace(' [\u0410-\u042f\u0430-\u044f]+$','',regex=True).apply(ru_stemmer.stem)"
     ],
     "language": "python",
     "metadata": {},
     "outputs": [],
     "prompt_number": 39
    },
    {
     "cell_type": "markdown",
     "metadata": {},
     "source": [
      "This cell is simply to output the resulting data frame as an excel spreadsheet for manipulation in other programs. It is not currently in use."
     ]
    },
    {
     "cell_type": "code",
     "collapsed": false,
     "input": [
      "market_df.to_excel(\"no_geo.xlsx\",encoding=\"utf-8\")"
     ],
     "language": "python",
     "metadata": {},
     "outputs": [],
     "prompt_number": 40
    },
    {
     "cell_type": "markdown",
     "metadata": {},
     "source": [
      "Geocoding begins here!\n",
      "======================"
     ]
    },
    {
     "cell_type": "code",
     "collapsed": false,
     "input": [
      "def geonames_lookup(placename,placeid,east=180,west=-180,north=90,south=-90):\n",
      "    keepgoing = True\n",
      "    returnlist = []\n",
      "    while keepgoing == True:\n",
      "        url = \"http://api.geonames.org/search\"\n",
      "        Q = {'type':'json','username':'jaguillette','featureClass':'P','name':placename,'north':north,'south':south,'east':east,'west':west}\n",
      "        R = requests.get(url,params=Q)\n",
      "        geonames_json = R.json()\n",
      "        Ensure_dir(\"geonames_jsons\")\n",
      "        if geonames_json['totalResultsCount'] != 0:\n",
      "            for x in range(0,len(geonames_json['geonames'])):\n",
      "                geo_placename = geonames_json['geonames'][x]['name']\n",
      "                geo_admin1 = geonames_json['geonames'][x]['adminName1']\n",
      "                geo_countryname = geonames_json['geonames'][x]['countryName']\n",
      "                geo_lat = geonames_json['geonames'][x]['lat']\n",
      "                geo_lng = geonames_json['geonames'][x]['lng']\n",
      "                geo_id = geonames_json['geonames'][x]['geonameId']\n",
      "                geo_country_code = geonames_json['geonames'][x]['countryCode']\n",
      "                returnlist.append([placeid,geo_placename,geo_admin1,geo_countryname,geo_lat,geo_lng,geo_id,geo_country_code,R.url,'geonames'])\n",
      "            with open(\"geonames_jsons/{}.json\".format(placename),'w',encoding='utf-8') as jsonfile:\n",
      "                jsonfile.write(R.text)\n",
      "            print(\"{} was found.\".format(placename))\n",
      "            keepgoing = False\n",
      "        elif len(re.findall(r'(\u041e\u0419)($|\\s)',placename))!=0:\n",
      "            geo_placename = \"not_found\"\n",
      "            geo_admin1 = \"not_found\"\n",
      "            geo_countryname = \"not_found\"\n",
      "            geo_lat = \"not_found\"\n",
      "            geo_lng = \"not_found\"\n",
      "            geo_id = \"not_found\"\n",
      "            geo_country_code = \"not_found\"\n",
      "            returnlist.append([placeid,geo_placename,geo_admin1,geo_countryname,geo_lat,geo_lng,geo_id,geo_country_code,R.url,'geonames'])\n",
      "            placename = re.sub(r'(\u041e\u0419)($|\\s)',r'\u0418\u0419\\2',placename)\n",
      "            print('New form: {}'.format(placename))\n",
      "            continue\n",
      "        else:\n",
      "            geo_placename = \"not_found\"\n",
      "            geo_admin1 = \"not_found\"\n",
      "            geo_countryname = \"not_found\"\n",
      "            geo_lat = \"not_found\"\n",
      "            geo_lng = \"not_found\"\n",
      "            geo_id = \"not_found\"\n",
      "            geo_country_code = \"not_found\"\n",
      "            returnlist.append([placeid,geo_placename,geo_admin1,geo_countryname,geo_lat,geo_lng,geo_id,geo_country_code,R.url,'geonames'])\n",
      "            print(\"{} was not found.\".format(placename))\n",
      "            keepgoing = False\n",
      "    return returnlist"
     ],
     "language": "python",
     "metadata": {},
     "outputs": [],
     "prompt_number": 41
    },
    {
     "cell_type": "code",
     "collapsed": false,
     "input": [
      "bounding_dict = {}\n",
      "with open(\"namiestnich_bounds.json\",'r',encoding = 'utf-8') as fp:\n",
      "    bounding_dict = json.load(fp)"
     ],
     "language": "python",
     "metadata": {},
     "outputs": [],
     "prompt_number": 42
    },
    {
     "cell_type": "code",
     "collapsed": false,
     "input": [
      "import time"
     ],
     "language": "python",
     "metadata": {},
     "outputs": [],
     "prompt_number": 29
    },
    {
     "cell_type": "code",
     "collapsed": false,
     "input": [
      "market_df.prov_stem.unique()"
     ],
     "language": "python",
     "metadata": {},
     "outputs": [
      {
       "metadata": {},
       "output_type": "pyout",
       "prompt_number": 43,
       "text": [
        "array(['\u0440\u044f\u0437\u0430\u043d\u0441\u043a', '\u0432\u043e\u043b\u043e\u0433\u043e\u0434\u0441\u043a', '\u043d\u0438\u0436\u0435\u0433\u043e\u0440\u043e\u0434\u0441\u043a', '\u0442\u0430\u043c\u0431\u043e\u0432\u0441\u043a', '\u0441\u0438\u043d\u0431\u0438\u0440\u0441\u043a',\n",
        "       '\u044f\u0440\u043e\u0441\u043b\u0430\u0432\u0441\u043a', '\u043f\u0435\u043d\u0437\u0435\u043d\u0441\u043a', '\u0442\u0443\u043b\u044c\u0441\u043a', '\u0432\u043e\u0440\u043e\u043d\u0435\u0436\u0441\u043a', '\u0435\u043a\u0430\u0442\u0435\u0440\u0438\u043d\u043e\u0441\u043b\u0430\u0432\u0441\u043a',\n",
        "       '\u043a\u0443\u0440\u0441\u043a', '\u0445\u0430\u0440\u044c\u043a\u043e\u0432\u0441\u043a', '\u043c\u043e\u0433\u0438\u043b\u0435\u0432\u0441\u043a', '\u043e\u0440\u043b\u043e\u0432\u0441\u043a', '\u0430\u0440\u0445\u0430\u043d\u0433\u0435\u043b\u044c\u0441\u043a',\n",
        "       '\u043a\u0430\u0432\u043a\u0430\u0437\u0441\u043a', '\u0441\u0430\u0440\u0430\u0442\u043e\u0432\u0441\u043a', '\u043d\u043e\u0442_\u0438\u043d_\u0442\u0435x\u0442', '\u043a\u0438\u0435\u0432\u0441\u043a',\n",
        "       '\u043d\u043e\u0432\u043e\u0433\u043e\u0440\u043e\u0434\u0441\u043a\u043e\u0433\u043e - \u0441\u0435\u0432\u0435\u0440\u0441\u043a', '\u0447\u0435\u0440\u043d\u0438\u0433\u043e\u0432\u0441\u043a', '\u0442\u043e\u0431\u043e\u043b\u044c\u0441\u043a', '\u043a\u043e\u0441\u0442\u0440\u043e\u043c\u0441\u043a',\n",
        "       '\u043c\u043e\u0441\u043a\u043e\u0432\u0441\u043a', '\u043a\u0430\u0437\u0430\u043d\u0441\u043a', '\u043f\u043e\u043b\u043e\u0442\u0441\u043a', '\u043f\u0435\u0440\u043c\u0441\u043a', '\u0443\u0444\u0438\u043c\u0441\u043a', '\u0432\u043b\u0430\u0434\u0438\u043c\u0435\u0440\u0441\u043a',\n",
        "       '\u0442\u0432\u0435\u0440\u0441\u043a', '\u043d\u043e\u0432\u043e\u0433\u043e\u0440\u043e\u0434\u0441\u043a', '\u043a\u0430\u043b\u0443\u0436\u0441\u043a', '\u0441\u043c\u043e\u043b\u0435\u043d\u0441\u043a', '\u0440\u0438\u0436\u0441\u043a', '\u0438\u0440\u043a\u0443\u0442\u0441\u043a',\n",
        "       '\u0432\u044b\u0431\u043e\u0440\u0433\u0441\u043a', '\u043f\u0441\u043a\u043e\u0432\u0441\u043a', '\u0432\u043e\u0440\u043e\u043d\u0435\u0436', '\u0432\u044b\u0431\u043e\u0440\u0433', '\u043e\u043b\u043e\u043d\u0435\u0446\u043a',\n",
        "       '\u0432\u043e\u043b\u043e\u0434\u0438\u043c\u0435\u0440\u0441\u043a', '\u0440\u0435\u0432\u0435\u043b\u044c\u0441\u043a', '\u0442\u0443\u043b\u044c\u0441\u043a\u0430\u0433', '\u0432\u043b\u0430\u0434\u0438\u043c\u0435\u0440\u043a', '\u043a\u043e\u0441\u0442\u0440\u043e\u043c',\n",
        "       '\u0432\u044f\u0442\u0441\u043a'], dtype=object)"
       ]
      }
     ],
     "prompt_number": 43
    },
    {
     "cell_type": "code",
     "collapsed": false,
     "input": [
      "geocoded = []\n",
      "problem_prov = []\n",
      "d = 4\n",
      "for x in range(0,len(market_df)):\n",
      "    entry = market_df.iloc[x]\n",
      "    try:\n",
      "        loc = bounding_dict[entry['prov_stem']]\n",
      "    except KeyError:\n",
      "        print(entry['prov_stem'])\n",
      "        problem_prov.append(entry['prov_stem'])\n",
      "        continue\n",
      "    if \"boundaries\" in loc:\n",
      "        W = loc[\"boundaries\"][0]\n",
      "        S = loc[\"boundaries\"][1]\n",
      "        E = loc[\"boundaries\"][2]\n",
      "        N = loc[\"boundaries\"][3]\n",
      "    else:\n",
      "        N = loc[\"center\"][0]+d\n",
      "        S = loc[\"center\"][0]-d\n",
      "        W = loc[\"center\"][1]-d\n",
      "        E = loc[\"center\"][1]+d\n",
      "    geocoded.extend(geonames_lookup(entry['name_modern_sp'],entry.name,north=N,south=S,west=W,east=E))\n",
      "    time.sleep(1)"
     ],
     "language": "python",
     "metadata": {},
     "outputs": [
      {
       "output_type": "stream",
       "stream": "stdout",
       "text": [
        "\u0410\u0412\u0414\u0423\u041b\u041e\u0412\u041e was not found.\n",
        "\u0410\u0412\u0416\u0415\u041d\u0421\u041a\u0410\u042f was not found."
       ]
      },
      {
       "output_type": "stream",
       "stream": "stdout",
       "text": [
        "\n",
        "\u0410\u0414\u041e\u0412\u0410\u0422\u041e\u0412\u041e was not found."
       ]
      },
      {
       "output_type": "stream",
       "stream": "stdout",
       "text": [
        "\n",
        "\u0410\u041a\u0421\u0415\u041b\u042c was found."
       ]
      },
      {
       "output_type": "stream",
       "stream": "stdout",
       "text": [
        "\n",
        "\u0410\u041b\u0410\u0422\u042b\u0420\u042c was found."
       ]
      },
      {
       "output_type": "stream",
       "stream": "stdout",
       "text": [
        "\n",
        "\u0410\u041b\u0415\u041a\u0421\u0410\u041d\u0414\u0420\u041e\u0412\u0410 \u041f\u0423\u0421\u0422\u042b\u041d\u042f was not found."
       ]
      },
      {
       "output_type": "stream",
       "stream": "stdout",
       "text": [
        "\n",
        "\u0410\u041b\u0415\u041a\u0421\u0410\u041d\u0414\u0420\u041e\u0412\u0421\u041a\u041e\u0415 was not found."
       ]
      },
      {
       "output_type": "stream",
       "stream": "stdout",
       "text": [
        "\n",
        "\u0410\u041b\u0415\u041a\u0421\u0418\u041d was found."
       ]
      },
      {
       "output_type": "stream",
       "stream": "stdout",
       "text": [
        "\n",
        "\u0410\u041b\u0415\u041a\u0421\u0415\u0415\u0412\u041a\u0410 was found."
       ]
      },
      {
       "output_type": "stream",
       "stream": "stdout",
       "text": [
        "\n",
        "\u0410\u041b\u0415\u041a\u0421\u0415\u0415\u0412\u0421\u041a\u0410\u042f was not found."
       ]
      },
      {
       "output_type": "stream",
       "stream": "stdout",
       "text": [
        "\n",
        "\u0410\u041b\u0415\u0428\u041d\u042f was found."
       ]
      },
      {
       "output_type": "stream",
       "stream": "stdout",
       "text": [
        "\n",
        "\u0410\u041d\u0410\u0415\u0412\u041e was found."
       ]
      },
      {
       "output_type": "stream",
       "stream": "stdout",
       "text": [
        "\n",
        "\u0410\u041d\u0414\u0420\u0415\u0415\u0412\u041a\u0410 was found."
       ]
      },
      {
       "output_type": "stream",
       "stream": "stdout",
       "text": [
        "\n",
        "\u0410\u041d\u0422\u041e\u041d\u041e\u0412\u041a\u0410 was found."
       ]
      },
      {
       "output_type": "stream",
       "stream": "stdout",
       "text": [
        "\n",
        "\u0410\u041f\u0418\u0427\u0415\u0420\u0421\u041a\u0410\u042f was not found."
       ]
      },
      {
       "output_type": "stream",
       "stream": "stdout",
       "text": [
        "\n",
        "\u0410\u0420\u0413\u0410\u041c\u0410\u0427\u042c\u042f was not found."
       ]
      },
      {
       "output_type": "stream",
       "stream": "stdout",
       "text": [
        "\n",
        "\u0410\u0420\u0417\u0410\u041c\u0410\u0421 was found."
       ]
      },
      {
       "output_type": "stream",
       "stream": "stdout",
       "text": [
        "\n",
        "\u0410\u0420\u0422\u0415\u041c\u041e\u041d\u041e\u0412\u041a\u0410 was not found."
       ]
      },
      {
       "output_type": "stream",
       "stream": "stdout",
       "text": [
        "\n",
        "\u0410\u0420\u0425\u0410\u041d\u0413\u0415\u041b\u042c\u0421\u041a was found."
       ]
      },
      {
       "output_type": "stream",
       "stream": "stdout",
       "text": [
        "\n",
        "\u0410\u0420\u0425\u0410\u041d\u0413\u0415\u041b\u042c\u0421\u041a\u041e\u0415 was found."
       ]
      },
      {
       "output_type": "stream",
       "stream": "stdout",
       "text": [
        "\n",
        "\u0410\u0421\u0410\u041a\u041e\u0412\u041e was not found."
       ]
      },
      {
       "output_type": "stream",
       "stream": "stdout",
       "text": [
        "\n",
        "\u0410\u0421\u0422\u0420\u0410\u0425\u0410\u041d\u042c was found."
       ]
      },
      {
       "output_type": "stream",
       "stream": "stdout",
       "text": [
        "\n",
        "\u0410\u0422\u0415\u041c\u0410\u0420 was found."
       ]
      },
      {
       "output_type": "stream",
       "stream": "stdout",
       "text": [
        "\n",
        "\u0410\u0422\u041a\u0410\u0420\u0421\u041a was found."
       ]
      },
      {
       "output_type": "stream",
       "stream": "stdout",
       "text": [
        "\n",
        "\u0410\u0425\u0422\u042b\u0420\u041a\u0410 was found."
       ]
      },
      {
       "output_type": "stream",
       "stream": "stdout",
       "text": [
        "\n",
        "\u0411\u0410\u0415\u0412\u041a\u0410 was found."
       ]
      },
      {
       "output_type": "stream",
       "stream": "stdout",
       "text": [
        "\n",
        "\u0411\u0410\u041b\u0410\u041a\u041b\u0415\u0415\u0412 was not found."
       ]
      },
      {
       "output_type": "stream",
       "stream": "stdout",
       "text": [
        "\n",
        "\u0411\u0410\u041b\u0410\u0425\u041d\u0410 was found."
       ]
      },
      {
       "output_type": "stream",
       "stream": "stdout",
       "text": [
        "\n",
        "\u0411\u0410\u0420\u042b\u0428\u0415\u0412\u041a\u0410 was found."
       ]
      },
      {
       "output_type": "stream",
       "stream": "stdout",
       "text": [
        "\n",
        "\u0411\u0410\u0421\u0410\u041d\u042c was found."
       ]
      },
      {
       "output_type": "stream",
       "stream": "stdout",
       "text": [
        "\n",
        "\u0411\u0410\u0422\u0420\u0410\u041a was found."
       ]
      },
      {
       "output_type": "stream",
       "stream": "stdout",
       "text": [
        "\n",
        "\u0411\u0410\u0422\u0423\u0420\u0418\u041d was found."
       ]
      },
      {
       "output_type": "stream",
       "stream": "stdout",
       "text": [
        "\n",
        "\u0411\u0410\u0425\u041c\u0410\u0427\u042c was found."
       ]
      },
      {
       "output_type": "stream",
       "stream": "stdout",
       "text": [
        "\n",
        "\u0411\u0415\u0417\u0413\u0418\u041d\u041e\u0412\u041a\u0410 was not found."
       ]
      },
      {
       "output_type": "stream",
       "stream": "stdout",
       "text": [
        "\n",
        "\u0411\u0415\u0420\u0415\u0417\u0418\u041d was not found."
       ]
      },
      {
       "output_type": "stream",
       "stream": "stdout",
       "text": [
        "\n",
        "\u0411\u0415\u0420\u0415\u0417\u041d\u0418\u041a\u0418 was found."
       ]
      },
      {
       "output_type": "stream",
       "stream": "stdout",
       "text": [
        "\n",
        "\u0411\u0415\u0420\u0415\u0417\u041e\u0412 was not found."
       ]
      },
      {
       "output_type": "stream",
       "stream": "stdout",
       "text": [
        "\n",
        "\u0411\u0415\u0420\u0415\u0417\u041e\u0412\u0426\u0410 was not found."
       ]
      },
      {
       "output_type": "stream",
       "stream": "stdout",
       "text": [
        "\n",
        "\u0411\u0415\u0420\u041a\u0423\u041d\u041e\u0412\u0410 was not found."
       ]
      },
      {
       "output_type": "stream",
       "stream": "stdout",
       "text": [
        "\n",
        "\u0411\u0415\u0420\u041d\u0418\u041a\u0418 was found."
       ]
      },
      {
       "output_type": "stream",
       "stream": "stdout",
       "text": [
        "\n",
        "\u0411\u0418\u041b\u042f\u0420\u0421\u041a was found."
       ]
      },
      {
       "output_type": "stream",
       "stream": "stdout",
       "text": [
        "\n",
        "\u0411\u0418\u0420\u0416\u0410 was found."
       ]
      },
      {
       "output_type": "stream",
       "stream": "stdout",
       "text": [
        "\n",
        "New form: \u0411\u041b\u0410\u0413\u041e\u0412\u0415\u0429\u0415\u041d\u0421\u041a\u0418\u0419 \u041f\u0420\u0418\u0425\u041e\u0414"
       ]
      },
      {
       "output_type": "stream",
       "stream": "stdout",
       "text": [
        "\n",
        "\u0411\u041b\u0410\u0413\u041e\u0412\u0415\u0429\u0415\u041d\u0421\u041a\u0418\u0419 \u041f\u0420\u0418\u0425\u041e\u0414 was not found."
       ]
      },
      {
       "output_type": "stream",
       "stream": "stdout",
       "text": [
        "\n",
        "\u0411\u041e\u0411\u0420\u041e\u0412\u0418\u0426\u0410 was found."
       ]
      },
      {
       "output_type": "stream",
       "stream": "stdout",
       "text": [
        "\n",
        "\u0411\u041e\u0411\u0420\u041e\u0412\u0421\u041a\u041e\u0415 was not found."
       ]
      },
      {
       "output_type": "stream",
       "stream": "stdout",
       "text": [
        "\n",
        "\u0411\u041e\u0411\u042b\u041b\u0415\u0412\u0421\u041a\u041e\u0415 was not found."
       ]
      },
      {
       "output_type": "stream",
       "stream": "stdout",
       "text": [
        "\n",
        "\u0411\u041e\u0413\u0410\u0422\u0418\u0429\u0415\u0411\u041e was not found."
       ]
      },
      {
       "output_type": "stream",
       "stream": "stdout",
       "text": [
        "\n",
        "\u0411\u041e\u0413\u0410\u0422\u042b\u0419 was found."
       ]
      },
      {
       "output_type": "stream",
       "stream": "stdout",
       "text": [
        "\n",
        "\u0411\u041e\u0413\u0410\u0427\u041a\u0410 was found."
       ]
      },
      {
       "output_type": "stream",
       "stream": "stdout",
       "text": [
        "\n",
        "\u0411\u041e\u0413\u041e\u0414\u0423\u0425\u041e\u0412 was found."
       ]
      },
      {
       "output_type": "stream",
       "stream": "stdout",
       "text": [
        "\n",
        "\u0411\u041e\u0413\u041e\u0420\u041e\u0414\u0418\u0426\u041a was found."
       ]
      },
      {
       "output_type": "stream",
       "stream": "stdout",
       "text": [
        "\n",
        "\u0411\u041e\u0413\u041e\u0420\u041e\u0414\u0418\u0426\u041a was found."
       ]
      },
      {
       "output_type": "stream",
       "stream": "stdout",
       "text": [
        "\n",
        "New form: \u0411\u041e\u0413\u041e\u0420\u041e\u0414\u0418\u0426\u041a\u0418\u0419 \u041a\u0410\u0417\u0410\u041d\u0421\u041a\u0418\u0419"
       ]
      },
      {
       "output_type": "stream",
       "stream": "stdout",
       "text": [
        "\n",
        "\u0411\u041e\u0413\u041e\u0420\u041e\u0414\u0418\u0426\u041a\u0418\u0419 \u041a\u0410\u0417\u0410\u041d\u0421\u041a\u0418\u0419 was not found."
       ]
      },
      {
       "output_type": "stream",
       "stream": "stdout",
       "text": [
        "\n",
        "\u0411\u041e\u0413\u041e\u0420\u041e\u0414\u0421\u041a was found."
       ]
      },
      {
       "output_type": "stream",
       "stream": "stdout",
       "text": [
        "\n",
        "\u0411\u041e\u0413\u041e\u042f\u0412\u041b\u0415\u041d\u0421\u041a\u0410\u042f was not found."
       ]
      },
      {
       "output_type": "stream",
       "stream": "stdout",
       "text": [
        "\n",
        "\u0411\u041e\u0413\u041e\u042f\u0412\u041b\u0415\u041d\u0421\u041a\u0410\u042f was not found."
       ]
      },
      {
       "output_type": "stream",
       "stream": "stdout",
       "text": [
        "\n",
        "\u0411\u041e\u0419\u041d\u042f was not found."
       ]
      },
      {
       "output_type": "stream",
       "stream": "stdout",
       "text": [
        "\n",
        "\u0411\u041e\u0420\u0410 was not found."
       ]
      },
      {
       "output_type": "stream",
       "stream": "stdout",
       "text": [
        "\n",
        "\u0411\u041e\u0420\u0417\u041d\u0410 was found."
       ]
      },
      {
       "output_type": "stream",
       "stream": "stdout",
       "text": [
        "\n",
        "\u0411\u041e\u0420\u0418\u0421\u041e\u0412 was not found."
       ]
      },
      {
       "output_type": "stream",
       "stream": "stdout",
       "text": [
        "\n",
        "\u0411\u041e\u0420\u0418\u0421\u041e\u0413\u041b\u0415\u0411\u0421\u041a was found."
       ]
      },
      {
       "output_type": "stream",
       "stream": "stdout",
       "text": [
        "\n",
        "\u0411\u041e\u0420\u0418\u0421\u041e\u0413\u041b\u0415\u0411\u0421\u041a was found."
       ]
      },
      {
       "output_type": "stream",
       "stream": "stdout",
       "text": [
        "\n",
        "New form: \u0411\u041e\u0420\u0418\u0421\u041e\u0413\u041b\u0415\u0411\u0421\u041a\u0418\u0419"
       ]
      },
      {
       "output_type": "stream",
       "stream": "stdout",
       "text": [
        "\n",
        "\u0411\u041e\u0420\u0418\u0421\u041e\u0413\u041b\u0415\u0411\u0421\u041a\u0418\u0419 was found."
       ]
      },
      {
       "output_type": "stream",
       "stream": "stdout",
       "text": [
        "\n",
        "\u0411\u041e\u0420\u0418\u0421\u041f\u041e\u041b\u042c was found."
       ]
      },
      {
       "output_type": "stream",
       "stream": "stdout",
       "text": [
        "\n",
        "\u0411\u041e\u0420\u041e\u0412\u0415\u041d\u041a\u0418 was found."
       ]
      },
      {
       "output_type": "stream",
       "stream": "stdout",
       "text": [
        "\n",
        "\u0411\u041e\u0420\u041e\u0412\u0418\u0427\u0418 was found."
       ]
      },
      {
       "output_type": "stream",
       "stream": "stdout",
       "text": [
        "\n",
        "\u0411\u041e\u0420\u041e\u0412\u0421\u041a was found."
       ]
      },
      {
       "output_type": "stream",
       "stream": "stdout",
       "text": [
        "\n",
        "\u0411\u041e\u0420\u041e\u041c\u0414\u042f was not found."
       ]
      },
      {
       "output_type": "stream",
       "stream": "stdout",
       "text": [
        "\n",
        "\u0411\u041e\u0420\u042f\u0422\u0418\u041d\u041e was found."
       ]
      },
      {
       "output_type": "stream",
       "stream": "stdout",
       "text": [
        "\n",
        "\u0411\u0420\u041e\u041d\u041d\u0418\u0426\u042b was found."
       ]
      },
      {
       "output_type": "stream",
       "stream": "stdout",
       "text": [
        "\n",
        "\u0411\u0420\u041e\u041d\u041d\u0418\u0426\u042b was not found."
       ]
      },
      {
       "output_type": "stream",
       "stream": "stdout",
       "text": [
        "\n",
        "\u0411\u0420\u042f\u041d\u0421\u041a was found."
       ]
      },
      {
       "output_type": "stream",
       "stream": "stdout",
       "text": [
        "\n",
        "\u0411\u0423\u0414\u0418\u0427\u042c was not found."
       ]
      },
      {
       "output_type": "stream",
       "stream": "stdout",
       "text": [
        "\n",
        "New form: \u0411\u0423\u0420\u0415\u0426\u041a\u0418\u0419"
       ]
      },
      {
       "output_type": "stream",
       "stream": "stdout",
       "text": [
        "\n",
        "\u0411\u0423\u0420\u0415\u0426\u041a\u0418\u0419 was not found."
       ]
      },
      {
       "output_type": "stream",
       "stream": "stdout",
       "text": [
        "\n",
        "\u0411\u0423\u0420\u041e\u041c\u041a\u0410 was found."
       ]
      },
      {
       "output_type": "stream",
       "stream": "stdout",
       "text": [
        "\n",
        "\u0411\u0423\u0427\u0410\u041b\u041a\u0418 was found."
       ]
      },
      {
       "output_type": "stream",
       "stream": "stdout",
       "text": [
        "\n",
        "\u0411\u0423\u0428\u041d\u0420\u0412\u041e was not found."
       ]
      },
      {
       "output_type": "stream",
       "stream": "stdout",
       "text": [
        "\n",
        "\u0411\u042b\u041a\u041e\u0412 was found."
       ]
      },
      {
       "output_type": "stream",
       "stream": "stdout",
       "text": [
        "\n",
        "\u0411\u0415\u0416\u0415\u0426\u041a was found."
       ]
      },
      {
       "output_type": "stream",
       "stream": "stdout",
       "text": [
        "\n",
        "\u0411\u0415\u041b\u0410\u042f \u041a\u041e\u041b\u041f\u042c was found."
       ]
      },
      {
       "output_type": "stream",
       "stream": "stdout",
       "text": [
        "\n",
        "\u0411\u0415\u041b\u0413\u041e\u0420\u041e\u0414 was found."
       ]
      },
      {
       "output_type": "stream",
       "stream": "stdout",
       "text": [
        "\n",
        "\u0411\u0415\u041b\u0418\u041a\u0418 was found."
       ]
      },
      {
       "output_type": "stream",
       "stream": "stdout",
       "text": [
        "\n",
        "\u0411\u0415\u041b\u041e\u0415 was found."
       ]
      },
      {
       "output_type": "stream",
       "stream": "stdout",
       "text": [
        "\n",
        "New form: \u0411\u0415\u041b\u041e\u0417\u0415\u0420\u0421\u041a\u0418\u0419 \u041a\u0418\u0420\u0418\u041b\u041e\u0412"
       ]
      },
      {
       "output_type": "stream",
       "stream": "stdout",
       "text": [
        "\n",
        "\u0411\u0415\u041b\u041e\u0417\u0415\u0420\u0421\u041a\u0418\u0419 \u041a\u0418\u0420\u0418\u041b\u041e\u0412 was not found."
       ]
      },
      {
       "output_type": "stream",
       "stream": "stdout",
       "text": [
        "\n",
        "New form: \u0411\u0415\u041b\u0418\u0419"
       ]
      },
      {
       "output_type": "stream",
       "stream": "stdout",
       "text": [
        "\n",
        "\u0411\u0415\u041b\u0418\u0419 was not found."
       ]
      },
      {
       "output_type": "stream",
       "stream": "stdout",
       "text": [
        "\n",
        "\u0411\u0415\u041b\u041e\u041a\u0423\u0420\u0418\u041d\u0410 was not found."
       ]
      },
      {
       "output_type": "stream",
       "stream": "stdout",
       "text": [
        "\n",
        "\u0411\u0415\u041b\u041e\u041f\u041e\u041b\u042c\u0415 was found."
       ]
      },
      {
       "output_type": "stream",
       "stream": "stdout",
       "text": [
        "\n",
        "\u0411\u0415\u041b\u041e\u0426\u0415\u0420\u041a\u041e\u0412\u041a\u0410 was not found."
       ]
      },
      {
       "output_type": "stream",
       "stream": "stdout",
       "text": [
        "\n",
        "\u0411\u0415\u041b\u042b\u041d\u0418\u0427\u0418 was found."
       ]
      },
      {
       "output_type": "stream",
       "stream": "stdout",
       "text": [
        "\n",
        "\u0412\u0410\u041b\u0414\u0410\u0419 was found."
       ]
      },
      {
       "output_type": "stream",
       "stream": "stdout",
       "text": [
        "\n",
        "\u0412\u0410\u041b\u041a\u0418 was found."
       ]
      },
      {
       "output_type": "stream",
       "stream": "stdout",
       "text": [
        "\n",
        "\u0412\u0410\u041b\u0423\u0419\u041a\u0418 was found."
       ]
      },
      {
       "output_type": "stream",
       "stream": "stdout",
       "text": [
        "\n",
        "\u0412\u0410\u0420\u0412\u0410 was found."
       ]
      },
      {
       "output_type": "stream",
       "stream": "stdout",
       "text": [
        "\n",
        "\u0411\u0410\u0420\u041a\u041e\u0412 was not found."
       ]
      },
      {
       "output_type": "stream",
       "stream": "stdout",
       "text": [
        "\n",
        "\u0412\u0410\u0428\u041a\u0410 was found."
       ]
      },
      {
       "output_type": "stream",
       "stream": "stdout",
       "text": [
        "\n",
        "\u0412\u0415\u0419\u0414\u0415\u041b\u0415\u0412\u041a\u0410 was found."
       ]
      },
      {
       "output_type": "stream",
       "stream": "stdout",
       "text": [
        "\n",
        "\u0412\u0415\u041b\u0418\u0416 was found."
       ]
      },
      {
       "output_type": "stream",
       "stream": "stdout",
       "text": [
        "\n",
        "\u0412\u0415\u041b\u0418\u041a\u041e\u0415 was found."
       ]
      },
      {
       "output_type": "stream",
       "stream": "stdout",
       "text": [
        "\n",
        "\u0412\u0415\u041d\u0414\u0415\u041d was found."
       ]
      },
      {
       "output_type": "stream",
       "stream": "stdout",
       "text": [
        "\n",
        "\u0412\u0415\u041d\u0415\u0412 was found."
       ]
      },
      {
       "output_type": "stream",
       "stream": "stdout",
       "text": [
        "\n",
        "New form: \u0412\u0415\u041d\u0415\u0412\u0421\u041a\u0418\u0419 \u041d\u0418\u041a\u041e\u041b\u0410\u0415\u0412\u0421\u041a\u0418\u0419"
       ]
      },
      {
       "output_type": "stream",
       "stream": "stdout",
       "text": [
        "\n",
        "\u0412\u0415\u041d\u0415\u0412\u0421\u041a\u0418\u0419 \u041d\u0418\u041a\u041e\u041b\u0410\u0415\u0412\u0421\u041a\u0418\u0419 was not found."
       ]
      },
      {
       "output_type": "stream",
       "stream": "stdout",
       "text": [
        "\n",
        "\u0412\u0415\u041f\u0420\u0418\u041a was found."
       ]
      },
      {
       "output_type": "stream",
       "stream": "stdout",
       "text": [
        "\n",
        "\u0412\u0415\u0420\u0415\u042f was found."
       ]
      },
      {
       "output_type": "stream",
       "stream": "stdout",
       "text": [
        "\n",
        "\u0412\u0415\u0420\u0425\u041d\u0418\u0419 \u0423\u0414\u0418\u041d\u0421\u041a was not found."
       ]
      },
      {
       "output_type": "stream",
       "stream": "stdout",
       "text": [
        "\n",
        "New form: \u0412\u0415\u0420\u0425\u041e\u0412\u0410\u0416\u0421\u041a\u0418\u0419"
       ]
      },
      {
       "output_type": "stream",
       "stream": "stdout",
       "text": [
        "\n",
        "\u0412\u0415\u0420\u0425\u041e\u0412\u0410\u0416\u0421\u041a\u0418\u0419 was not found."
       ]
      },
      {
       "output_type": "stream",
       "stream": "stdout",
       "text": [
        "\n",
        "\u0412\u0415\u0421\u0418\u0415\u0413\u041e\u041d\u0421\u041a was found."
       ]
      },
      {
       "output_type": "stream",
       "stream": "stdout",
       "text": [
        "\n",
        "\u0412\u0418\u041b\u042c\u041c\u0410\u041d\u0421\u0422\u0420\u0410\u041d\u0414 was not found."
       ]
      },
      {
       "output_type": "stream",
       "stream": "stdout",
       "text": [
        "\n",
        "\u0412\u0418\u041b\u042e\u0419\u0421\u041a\u041e\u0415 \u0412\u0415\u0420\u0425\u041d\u0415\u0415 was not found."
       ]
      },
      {
       "output_type": "stream",
       "stream": "stdout",
       "text": [
        "\n",
        "\u0412\u041e\u0415\u0412\u041e\u0414\u0421\u041a\u041e\u0415 was found."
       ]
      },
      {
       "output_type": "stream",
       "stream": "stdout",
       "text": [
        "\n",
        "New form: \u0412\u041e\u0417\u041d\u0415\u0421\u0415\u041d\u0421\u041a\u0418\u0419"
       ]
      },
      {
       "output_type": "stream",
       "stream": "stdout",
       "text": [
        "\n",
        "\u0412\u041e\u0417\u041d\u0415\u0421\u0415\u041d\u0421\u041a\u0418\u0419 was not found."
       ]
      },
      {
       "output_type": "stream",
       "stream": "stdout",
       "text": [
        "\n",
        "\u0412\u041e\u041b\u041c\u0410\u0420 was found."
       ]
      },
      {
       "output_type": "stream",
       "stream": "stdout",
       "text": [
        "\n",
        "\u0412\u041e\u041b\u041e\u0414\u0418\u041c\u0415\u0420\u0415\u0426 was not found."
       ]
      },
      {
       "output_type": "stream",
       "stream": "stdout",
       "text": [
        "\n",
        "\u0412\u041e\u041b\u041e\u041a\u041e\u041b\u0410\u041c\u0421\u041a was found."
       ]
      },
      {
       "output_type": "stream",
       "stream": "stdout",
       "text": [
        "\n",
        "\u0412\u041e\u041b\u041e\u041a\u041e\u041f\u0418\u041d\u0415\u0416\u0421\u041a\u0410\u042f was not found."
       ]
      },
      {
       "output_type": "stream",
       "stream": "stdout",
       "text": [
        "\n",
        "\u0412\u041e\u041b\u0421\u041a was found."
       ]
      },
      {
       "output_type": "stream",
       "stream": "stdout",
       "text": [
        "\n",
        "\u0412\u041e\u041b\u0427\u042c\u042f was found."
       ]
      },
      {
       "output_type": "stream",
       "stream": "stdout",
       "text": [
        "\n",
        "\u0412\u041e\u041b\u042b\u041d\u0426\u042b was found."
       ]
      },
      {
       "output_type": "stream",
       "stream": "stdout",
       "text": [
        "\n",
        "\u0412\u041e\u041b\u042c\u041d\u0410\u042f was not found."
       ]
      },
      {
       "output_type": "stream",
       "stream": "stdout",
       "text": [
        "\n",
        "\u0412\u041e\u0420\u041e\u041d\u0415\u0416 was found."
       ]
      },
      {
       "output_type": "stream",
       "stream": "stdout",
       "text": [
        "\n",
        "\u0412\u041e\u0420\u041e\u041d\u0415\u0416 was found."
       ]
      },
      {
       "output_type": "stream",
       "stream": "stdout",
       "text": [
        "\n",
        "\u0412\u041e\u0420\u041e\u041d\u041a\u041e\u0412 was found."
       ]
      },
      {
       "output_type": "stream",
       "stream": "stdout",
       "text": [
        "\n",
        "\u0412\u041e\u0420\u041e\u041d\u0426\u041e\u0412\u041a\u0410 was found."
       ]
      },
      {
       "output_type": "stream",
       "stream": "stdout",
       "text": [
        "\n",
        "\u0412\u041e\u0421\u041a\u0420\u0415\u0421\u0415\u041d\u0421\u041a was found."
       ]
      },
      {
       "output_type": "stream",
       "stream": "stdout",
       "text": [
        "\n",
        "\u0412\u0420\u0415\u0412 was found."
       ]
      },
      {
       "output_type": "stream",
       "stream": "stdout",
       "text": [
        "\n",
        "\u0412\u042b\u0411\u041e\u0420 was found."
       ]
      },
      {
       "output_type": "stream",
       "stream": "stdout",
       "text": [
        "\n",
        "\u0412\u042b\u0411\u041e\u0420\u0413 was found."
       ]
      },
      {
       "output_type": "stream",
       "stream": "stdout",
       "text": [
        "\n",
        "\u0412\u042b\u0421\u041e\u041a\u041e\u0415 was found."
       ]
      },
      {
       "output_type": "stream",
       "stream": "stdout",
       "text": [
        "\n",
        "\u0412\u042b\u0421\u041e\u041a\u041e\u0415 was found."
       ]
      },
      {
       "output_type": "stream",
       "stream": "stdout",
       "text": [
        "\n",
        "\u0412\u042b\u0422\u0415\u0413\u0420\u0410 was found."
       ]
      },
      {
       "output_type": "stream",
       "stream": "stdout",
       "text": [
        "\n",
        "\u0412\u042c\u0418\u0427\u0423\u0413\u0410 was not found."
       ]
      },
      {
       "output_type": "stream",
       "stream": "stdout",
       "text": [
        "\n",
        "\u0412\u042b\u0428\u0413\u041e\u0420\u041e\u0414 was not found."
       ]
      },
      {
       "output_type": "stream",
       "stream": "stdout",
       "text": [
        "\n",
        "\u0412\u042b\u0428\u0413\u041e\u0420\u041e\u0414 was found."
       ]
      },
      {
       "output_type": "stream",
       "stream": "stdout",
       "text": [
        "\n",
        "\u0412\u042b\u0428\u041d\u0418\u0419 \u0412\u041e\u041b\u041e\u0427\u041e\u041a was not found."
       ]
      },
      {
       "output_type": "stream",
       "stream": "stdout",
       "text": [
        "\n",
        "\u0412\u0415\u0422\u041a\u0410 was found."
       ]
      },
      {
       "output_type": "stream",
       "stream": "stdout",
       "text": [
        "\n",
        "\u0412\u0415\u0422\u041a\u0410 was found."
       ]
      },
      {
       "output_type": "stream",
       "stream": "stdout",
       "text": [
        "\n",
        "\u0412\u042f\u0417\u041d\u0418\u041a\u0418 was found."
       ]
      },
      {
       "output_type": "stream",
       "stream": "stdout",
       "text": [
        "\n",
        "\u0412\u042f\u0417\u041e\u0412\u041d\u0410 was not found."
       ]
      },
      {
       "output_type": "stream",
       "stream": "stdout",
       "text": [
        "\n",
        "\u0413\u0410\u0411\u0417\u0410\u041b\u042c was not found."
       ]
      },
      {
       "output_type": "stream",
       "stream": "stdout",
       "text": [
        "\n",
        "\u0413\u0410\u0412\u0420\u0418\u041b\u041e\u0412\u0410 was found."
       ]
      },
      {
       "output_type": "stream",
       "stream": "stdout",
       "text": [
        "\n",
        "\u0413\u0410\u0413\u0410\u0420\u0418\u041d\u041e was found."
       ]
      },
      {
       "output_type": "stream",
       "stream": "stdout",
       "text": [
        "\n",
        "\u0413\u0410\u0414\u042f\u0427\u042c was found."
       ]
      },
      {
       "output_type": "stream",
       "stream": "stdout",
       "text": [
        "\n",
        "\u0413\u0410\u041b\u042f\u041d\u0418 was not found."
       ]
      },
      {
       "output_type": "stream",
       "stream": "stdout",
       "text": [
        "\n",
        "\u0413\u0410\u0422\u041d\u0418\u0426\u042b was not found."
       ]
      },
      {
       "output_type": "stream",
       "stream": "stdout",
       "text": [
        "\n",
        "\u0413\u0414\u041e\u0412 was found."
       ]
      },
      {
       "output_type": "stream",
       "stream": "stdout",
       "text": [
        "\n",
        "\u0413\u0415\u041d\u041d\u0410\u0414\u0418\u0415\u0412 was not found."
       ]
      },
      {
       "output_type": "stream",
       "stream": "stdout",
       "text": [
        "\n",
        "\u0413\u0415\u0420\u041c\u0410\u041d\u041e\u0412\u0410 was found."
       ]
      },
      {
       "output_type": "stream",
       "stream": "stdout",
       "text": [
        "\n",
        "\u0413\u0416\u0410\u0422\u042c was not found."
       ]
      },
      {
       "output_type": "stream",
       "stream": "stdout",
       "text": [
        "\n",
        "\u0413\u041b\u0415\u041c\u042f\u0417\u041e\u0412 was not found."
       ]
      },
      {
       "output_type": "stream",
       "stream": "stdout",
       "text": [
        "\n",
        "\u0413\u041b\u0418\u041d\u0421\u041a was found."
       ]
      },
      {
       "output_type": "stream",
       "stream": "stdout",
       "text": [
        "\n",
        "\u0413\u041b\u0418\u041d\u0421\u041a was found."
       ]
      },
      {
       "output_type": "stream",
       "stream": "stdout",
       "text": [
        "\n",
        "\u0413\u041b\u0423\u0425\u041e\u0412 was found."
       ]
      },
      {
       "output_type": "stream",
       "stream": "stdout",
       "text": [
        "\n",
        "New form: \u0413\u041b\u0423\u0428\u0418\u0426\u041a\u0418\u0419"
       ]
      },
      {
       "output_type": "stream",
       "stream": "stdout",
       "text": [
        "\n",
        "\u0413\u041b\u0423\u0428\u0418\u0426\u041a\u0418\u0419 was found."
       ]
      },
      {
       "output_type": "stream",
       "stream": "stdout",
       "text": [
        "\n",
        "\u0413\u041b\u0415\u0411\u041e\u0412\u041e was found."
       ]
      },
      {
       "output_type": "stream",
       "stream": "stdout",
       "text": [
        "\n",
        "New form: \u0413\u041d\u0418\u041b\u042c\u0421\u041a\u0418\u0419"
       ]
      },
      {
       "output_type": "stream",
       "stream": "stdout",
       "text": [
        "\n",
        "\u0413\u041d\u0418\u041b\u042c\u0421\u041a\u0418\u0419 was not found."
       ]
      },
      {
       "output_type": "stream",
       "stream": "stdout",
       "text": [
        "\n",
        "\u0413\u041e\u0413\u041e\u041b\u0415\u0412 was found."
       ]
      },
      {
       "output_type": "stream",
       "stream": "stdout",
       "text": [
        "\n",
        "\u0413\u041e\u041b\u0422\u0412\u0410 was found."
       ]
      },
      {
       "output_type": "stream",
       "stream": "stdout",
       "text": [
        "\n",
        "\u0413\u041e\u041c\u0415\u041b\u042c was found."
       ]
      },
      {
       "output_type": "stream",
       "stream": "stdout",
       "text": [
        "\n",
        "\u0413\u041e\u041c\u041b\u042f was not found."
       ]
      },
      {
       "output_type": "stream",
       "stream": "stdout",
       "text": [
        "\n",
        "\u0413\u041e\u0420\u0411\u0410\u0422\u041e\u0412 was found."
       ]
      },
      {
       "output_type": "stream",
       "stream": "stdout",
       "text": [
        "\n",
        "\u0413\u041e\u0420\u0418\u0426\u042b was found."
       ]
      },
      {
       "output_type": "stream",
       "stream": "stdout",
       "text": [
        "\n",
        "\u0413\u041e\u0420\u041a\u0418 was found."
       ]
      },
      {
       "output_type": "stream",
       "stream": "stdout",
       "text": [
        "\n",
        "\u0413\u041e\u0420\u041e\u0414\u0418\u0429\u0415 was found."
       ]
      },
      {
       "output_type": "stream",
       "stream": "stdout",
       "text": [
        "\n",
        "\u0413\u041e\u0420\u041e\u0414\u0418\u0429\u0415 was found."
       ]
      },
      {
       "output_type": "stream",
       "stream": "stdout",
       "text": [
        "\n",
        "\u0413\u041e\u0420\u041e\u0414\u041d\u042f was found."
       ]
      },
      {
       "output_type": "stream",
       "stream": "stdout",
       "text": [
        "\n",
        "\u0413\u041e\u0420\u041e\u0414\u041d\u042f was found."
       ]
      },
      {
       "output_type": "stream",
       "stream": "stdout",
       "text": [
        "\n",
        "\u0413\u041e\u0420\u041e\u0414\u041e\u041a was found."
       ]
      },
      {
       "output_type": "stream",
       "stream": "stdout",
       "text": [
        "\n",
        "\u0413\u041e\u0420\u041e\u0425\u041e\u0412\u0415\u0426 was found."
       ]
      },
      {
       "output_type": "stream",
       "stream": "stdout",
       "text": [
        "\n",
        "\u0413\u041e\u0420\u041e\u0428\u0418\u041d was found."
       ]
      },
      {
       "output_type": "stream",
       "stream": "stdout",
       "text": [
        "\n",
        "\u0413\u0420\u0415\u0411\u0415\u041d\u0418\u0428\u041a\u0418 was not found."
       ]
      },
      {
       "output_type": "stream",
       "stream": "stdout",
       "text": [
        "\n",
        "\u0413\u0420\u0415\u041c\u042f\u0427\u0415\u0412 was found."
       ]
      },
      {
       "output_type": "stream",
       "stream": "stdout",
       "text": [
        "\n",
        "\u0413\u0420\u0415\u041c\u042f\u0427\u042c was found."
       ]
      },
      {
       "output_type": "stream",
       "stream": "stdout",
       "text": [
        "\n",
        "\u0413\u0420\u0418\u0422\u0427\u0418\u041d\u041e was found."
       ]
      },
      {
       "output_type": "stream",
       "stream": "stdout",
       "text": [
        "\n",
        "\u0413\u0420\u0423\u041d\u042c was found."
       ]
      },
      {
       "output_type": "stream",
       "stream": "stdout",
       "text": [
        "\n",
        "\u0413\u0420\u042f\u0417\u041d\u041e\u0415 was found."
       ]
      },
      {
       "output_type": "stream",
       "stream": "stdout",
       "text": [
        "\n",
        "\u0413\u0420\u042f\u0417\u041e\u0412\u0415\u0426 was found."
       ]
      },
      {
       "output_type": "stream",
       "stream": "stdout",
       "text": [
        "\n",
        "\u0413\u0423\u0421\u0422\u0418\u041d\u041e\u0412\u041e was not found."
       ]
      },
      {
       "output_type": "stream",
       "stream": "stdout",
       "text": [
        "\n",
        "\u0414\u0410\u0413\u0414\u0410 was found."
       ]
      },
      {
       "output_type": "stream",
       "stream": "stdout",
       "text": [
        "\n",
        "\u0414\u0410\u0419\u041c\u0418\u041d\u041e was not found."
       ]
      },
      {
       "output_type": "stream",
       "stream": "stdout",
       "text": [
        "\n",
        "\u0414\u0410\u041b\u041c\u0410\u0422\u041e\u0412 was not found."
       ]
      },
      {
       "output_type": "stream",
       "stream": "stdout",
       "text": [
        "\n",
        "\u0414\u0412\u0423\u0420\u0415\u0427\u041d\u0410\u042f was found."
       ]
      },
      {
       "output_type": "stream",
       "stream": "stdout",
       "text": [
        "\n",
        "\u0414\u0415\u0419\u041c\u0410\u041d\u041e\u0412\u041a\u0410 was found."
       ]
      },
      {
       "output_type": "stream",
       "stream": "stdout",
       "text": [
        "\n",
        "\u0414\u0415\u041c\u0428\u0418\u041d\u0421\u041a was found."
       ]
      },
      {
       "output_type": "stream",
       "stream": "stdout",
       "text": [
        "\n",
        "\u0414\u0415\u0420\u0413\u0410\u0427\u0418 was found."
       ]
      },
      {
       "output_type": "stream",
       "stream": "stdout",
       "text": [
        "\n",
        "\u0414\u0415\u0420\u041a\u0423\u041b was found."
       ]
      },
      {
       "output_type": "stream",
       "stream": "stdout",
       "text": [
        "\n",
        "\u0414\u0415\u0420\u041f\u0422 was found."
       ]
      },
      {
       "output_type": "stream",
       "stream": "stdout",
       "text": [
        "\n",
        "\u0414\u0418\u041d\u0410\u0411\u0423\u0420\u0413 was not found."
       ]
      },
      {
       "output_type": "stream",
       "stream": "stdout",
       "text": [
        "\n",
        "\u0414\u041c\u0418\u0422\u0420\u041e\u0412 was found."
       ]
      },
      {
       "output_type": "stream",
       "stream": "stdout",
       "text": [
        "\n",
        "\u0414\u041c\u0418\u0422\u0420\u041e\u0412\u041a\u0410 was found."
       ]
      },
      {
       "output_type": "stream",
       "stream": "stdout",
       "text": [
        "\n",
        "\u0414\u041c\u0418\u0422\u0420\u041e\u0412\u0421\u041a\u0410\u042f was not found."
       ]
      },
      {
       "output_type": "stream",
       "stream": "stdout",
       "text": [
        "\n",
        "\u0414\u041e\u0411\u0420\u0410\u042f was found."
       ]
      },
      {
       "output_type": "stream",
       "stream": "stdout",
       "text": [
        "\n",
        "New form: \u0414\u041e\u041c\u041d\u0418\u0426\u041a\u0418\u0419"
       ]
      },
      {
       "output_type": "stream",
       "stream": "stdout",
       "text": [
        "\n",
        "\u0414\u041e\u041c\u041d\u0418\u0426\u041a\u0418\u0419 was not found."
       ]
      },
      {
       "output_type": "stream",
       "stream": "stdout",
       "text": [
        "\n",
        "\u0414\u041e\u041d\u041a\u041e\u0412 was not found."
       ]
      },
      {
       "output_type": "stream",
       "stream": "stdout",
       "text": [
        "\n",
        "\u0414\u041e\u0420\u041e\u0413\u041e\u0411\u0423\u0416 was found."
       ]
      },
      {
       "output_type": "stream",
       "stream": "stdout",
       "text": [
        "\n",
        "\u0414\u0420\u0418\u0426\u0410\u041d\u042b was not found."
       ]
      },
      {
       "output_type": "stream",
       "stream": "stdout",
       "text": [
        "\n",
        "New form: \u0414\u0423\u0411\u0415\u0426\u041a\u0418\u0419"
       ]
      },
      {
       "output_type": "stream",
       "stream": "stdout",
       "text": [
        "\n",
        "\u0414\u0423\u0411\u0415\u0426\u041a\u0418\u0419 was not found."
       ]
      },
      {
       "output_type": "stream",
       "stream": "stdout",
       "text": [
        "\n",
        "\u0414\u0423\u0411\u041a\u041e\u0412 was not found."
       ]
      },
      {
       "output_type": "stream",
       "stream": "stdout",
       "text": [
        "\n",
        "\u0414\u0423\u0411\u041e\u0412\u041e\u0415 was found."
       ]
      },
      {
       "output_type": "stream",
       "stream": "stdout",
       "text": [
        "\n",
        "\u0414\u0423\u0411\u0420\u041e\u0412\u041a\u0418 was found."
       ]
      },
      {
       "output_type": "stream",
       "stream": "stdout",
       "text": [
        "\n",
        "\u0414\u0423\u0411\u0420\u041e\u0412\u041a\u0418 was found."
       ]
      },
      {
       "output_type": "stream",
       "stream": "stdout",
       "text": [
        "\n",
        "\u0414\u0423\u0411\u0420\u041e\u0412\u041d\u0410 was not found."
       ]
      },
      {
       "output_type": "stream",
       "stream": "stdout",
       "text": [
        "\n",
        "\u0414\u0423\u041a\u0428\u0422\u0418\u041b\u0410\u0413 was not found."
       ]
      },
      {
       "output_type": "stream",
       "stream": "stdout",
       "text": [
        "\n",
        "\u0414\u0423\u041d\u0418\u041b\u041e\u0412\u041e was found."
       ]
      },
      {
       "output_type": "stream",
       "stream": "stdout",
       "text": [
        "\n",
        "\u0414\u0423\u0425\u041e\u0412\u0429\u0418\u041d\u0410 was found."
       ]
      },
      {
       "output_type": "stream",
       "stream": "stdout",
       "text": [
        "\n",
        "\u0414\u0423\u0428\u0410\u0422\u0418\u041d was found."
       ]
      },
      {
       "output_type": "stream",
       "stream": "stdout",
       "text": [
        "\n",
        "\u0414\u0415\u0414\u0418\u041b\u041e\u0412 was not found."
       ]
      },
      {
       "output_type": "stream",
       "stream": "stdout",
       "text": [
        "\n",
        "\u0414\u0415\u0414\u0418\u041d\u041e\u0412\u041e was found."
       ]
      },
      {
       "output_type": "stream",
       "stream": "stdout",
       "text": [
        "\n",
        "\u0415\u041a\u0410\u0422\u0415\u0420\u0418\u041d\u0418\u041d\u0421\u041a\u0410\u042f was not found."
       ]
      },
      {
       "output_type": "stream",
       "stream": "stdout",
       "text": [
        "\n",
        "\u0415\u041b\u0410\u0422\u041c\u0410 was found."
       ]
      },
      {
       "output_type": "stream",
       "stream": "stdout",
       "text": [
        "\n",
        "\u0415\u041b\u0415\u0426 was found."
       ]
      },
      {
       "output_type": "stream",
       "stream": "stdout",
       "text": [
        "\n",
        "New form: \u0415\u041b\u0418\u041c\u0421\u041a\u0418\u0419"
       ]
      },
      {
       "output_type": "stream",
       "stream": "stdout",
       "text": [
        "\n",
        "\u0415\u041b\u0418\u041c\u0421\u041a\u0418\u0419 was not found."
       ]
      },
      {
       "output_type": "stream",
       "stream": "stdout",
       "text": [
        "\n",
        "\u0415\u041b\u0418\u0421\u0410\u0412\u0415\u0422\u042a-\u0413\u0420\u0410\u0414 was not found."
       ]
      },
      {
       "output_type": "stream",
       "stream": "stdout",
       "text": [
        "\n",
        "\u0415\u041b\u041d\u0410 was found."
       ]
      },
      {
       "output_type": "stream",
       "stream": "stdout",
       "text": [
        "\n",
        "\u0415\u041d\u0418\u0421\u0415\u0419\u0421\u041a was not found."
       ]
      },
      {
       "output_type": "stream",
       "stream": "stdout",
       "text": [
        "\n",
        "\u0415\u041f\u0418\u0424\u0410\u041d\u042c was found."
       ]
      },
      {
       "output_type": "stream",
       "stream": "stdout",
       "text": [
        "\n",
        "\u0415\u0420\u0410\u0425\u0422\u0423\u0420\u0410 was not found."
       ]
      },
      {
       "output_type": "stream",
       "stream": "stdout",
       "text": [
        "\n",
        "\u0415\u0420\u0415\u041c\u0415\u041d\u0426\u041e\u0412\u041e was not found."
       ]
      },
      {
       "output_type": "stream",
       "stream": "stdout",
       "text": [
        "\n",
        "\u0415\u0420\u0415\u041c\u0415\u0415\u0412\u041a\u0410 was not found."
       ]
      },
      {
       "output_type": "stream",
       "stream": "stdout",
       "text": [
        "\n",
        "\u0415\u0421\u041a\u0415 was not found."
       ]
      },
      {
       "output_type": "stream",
       "stream": "stdout",
       "text": [
        "\n",
        "\u0415\u0424\u0420\u0415\u041c\u041e\u0412 was found."
       ]
      },
      {
       "output_type": "stream",
       "stream": "stdout",
       "text": [
        "\n",
        "\u0416\u0418\u0413\u0410\u041d\u0421\u041a was found."
       ]
      },
      {
       "output_type": "stream",
       "stream": "stdout",
       "text": [
        "\n",
        "\u0416\u0418\u0417\u0414\u0420\u0410 was found."
       ]
      },
      {
       "output_type": "stream",
       "stream": "stdout",
       "text": [
        "\n",
        "\u0416\u041e\u0412\u041d\u0418\u041d was not found."
       ]
      },
      {
       "output_type": "stream",
       "stream": "stdout",
       "text": [
        "\n",
        "\u0416\u0423\u0420\u0410\u0412\u0418\u0427\u0418 was found."
       ]
      },
      {
       "output_type": "stream",
       "stream": "stdout",
       "text": [
        "\n",
        "\u0417\u0410\u0414\u0423\u0428\u041d\u041e\u0415 was found."
       ]
      },
      {
       "output_type": "stream",
       "stream": "stdout",
       "text": [
        "\n",
        "\u0417\u0410\u041c\u041e\u0428\u042c\u0415 was found."
       ]
      },
      {
       "output_type": "stream",
       "stream": "stdout",
       "text": [
        "\n",
        "\u0417\u0410\u0420\u0410\u0419\u0421\u041a was not found."
       ]
      },
      {
       "output_type": "stream",
       "stream": "stdout",
       "text": [
        "\n",
        "\u0417\u0410\u0420\u0423\u0411\u0418\u041d\u041e was found."
       ]
      },
      {
       "output_type": "stream",
       "stream": "stdout",
       "text": [
        "\n",
        "\u0417\u0410\u0428\u0418\u0412\u0415\u0420\u0421\u041a was found."
       ]
      },
      {
       "output_type": "stream",
       "stream": "stdout",
       "text": [
        "\n",
        "\u0417\u0412\u0415\u041d\u0418\u0413\u041e\u0420\u041e\u0414 was found."
       ]
      },
      {
       "output_type": "stream",
       "stream": "stdout",
       "text": [
        "\n",
        "\u0417\u0415\u041c\u041b\u042f\u041d\u0421\u041a was found."
       ]
      },
      {
       "output_type": "stream",
       "stream": "stdout",
       "text": [
        "\n",
        "\u0417\u0418\u041d\u041a\u041e\u0412 was not found."
       ]
      },
      {
       "output_type": "stream",
       "stream": "stdout",
       "text": [
        "\n",
        "\u0417\u041c\u0415\u0415\u0412\u0415 was not found."
       ]
      },
      {
       "output_type": "stream",
       "stream": "stdout",
       "text": [
        "\n",
        "\u0417\u041c\u0415\u0422\u041d\u0415\u0412 was found."
       ]
      },
      {
       "output_type": "stream",
       "stream": "stdout",
       "text": [
        "\n",
        "\u0417\u041e\u041b\u041e\u0422\u041e\u041d\u041e\u0428\u0410 was found."
       ]
      },
      {
       "output_type": "stream",
       "stream": "stdout",
       "text": [
        "\n",
        "\u0417\u041e\u041b\u041e\u0427\u0415\u0412 was found."
       ]
      },
      {
       "output_type": "stream",
       "stream": "stdout",
       "text": [
        "\n",
        "\u0417\u0423\u0411\u0426\u041e\u0412 was found."
       ]
      },
      {
       "output_type": "stream",
       "stream": "stdout",
       "text": [
        "\n",
        "\u0418\u0412\u0410\u041d\u0413\u041e\u0420\u041e\u0414 was found."
       ]
      },
      {
       "output_type": "stream",
       "stream": "stdout",
       "text": [
        "\n",
        "\u0418\u0412\u0410\u041d\u041e\u0412\u041a\u0410 was found."
       ]
      },
      {
       "output_type": "stream",
       "stream": "stdout",
       "text": [
        "\n",
        "\u0418\u0412\u0410\u041d\u041e\u0412\u041a\u0410 was found."
       ]
      },
      {
       "output_type": "stream",
       "stream": "stdout",
       "text": [
        "\n",
        "\u0418\u0412\u0410\u041d\u041e\u0412\u041e was found."
       ]
      },
      {
       "output_type": "stream",
       "stream": "stdout",
       "text": [
        "\n",
        "\u0418\u0412\u0410\u041d\u041e\u0412\u041e was found."
       ]
      },
      {
       "output_type": "stream",
       "stream": "stdout",
       "text": [
        "\n",
        "\u0418\u0412\u0410\u041d\u041e\u0412\u0421\u041a\u041e\u0415 was found."
       ]
      },
      {
       "output_type": "stream",
       "stream": "stdout",
       "text": [
        "\n",
        "\u0418\u0412\u0410\u041d\u041e\u0412\u0421\u041a\u041e\u0415 was found."
       ]
      },
      {
       "output_type": "stream",
       "stream": "stdout",
       "text": [
        "\n",
        "\u0418\u0412\u0410\u041d\u041e\u0412\u0421\u041a\u041e\u0415 was found."
       ]
      },
      {
       "output_type": "stream",
       "stream": "stdout",
       "text": [
        "\n",
        "\u0418\u0412\u0410\u041d\u041e\u0412\u0426\u042b was not found."
       ]
      },
      {
       "output_type": "stream",
       "stream": "stdout",
       "text": [
        "\n",
        "\u0418\u0412\u0418\u0426\u0410 was found."
       ]
      },
      {
       "output_type": "stream",
       "stream": "stdout",
       "text": [
        "\n",
        "\u0418\u0413\u0420\u0418\u0429\u0418 was found."
       ]
      },
      {
       "output_type": "stream",
       "stream": "stdout",
       "text": [
        "\n",
        "\u0418\u0413\u0423\u041c\u041d\u041e\u0412\u041e was found."
       ]
      },
      {
       "output_type": "stream",
       "stream": "stdout",
       "text": [
        "\n",
        "\u0418\u0417\u041c\u0410\u0419\u041b\u041e\u0412\u041e was found."
       ]
      },
      {
       "output_type": "stream",
       "stream": "stdout",
       "text": [
        "\n",
        "\u0418\u0417\u042e\u041c was found."
       ]
      },
      {
       "output_type": "stream",
       "stream": "stdout",
       "text": [
        "\n",
        "\u0418\u041b\u042c\u0418\u041d\u0421\u041a\u041e\u0415 was found."
       ]
      },
      {
       "output_type": "stream",
       "stream": "stdout",
       "text": [
        "\n",
        "\u0418\u041d\u0416\u0410\u0412\u0415\u041d\u042c\u0415 was not found."
       ]
      },
      {
       "output_type": "stream",
       "stream": "stdout",
       "text": [
        "\n",
        "\u0418\u041d\u0421\u0410\u0420\u0410 was not found."
       ]
      },
      {
       "output_type": "stream",
       "stream": "stdout",
       "text": [
        "\n",
        "\u0418\u0420\u0411\u0418\u0422 was not found."
       ]
      },
      {
       "output_type": "stream",
       "stream": "stdout",
       "text": [
        "\n",
        "\u0418\u0420\u041a\u0423\u0422\u0421\u041a was found."
       ]
      },
      {
       "output_type": "stream",
       "stream": "stdout",
       "text": [
        "\n",
        "\u0418\u0421\u0410 was found."
       ]
      },
      {
       "output_type": "stream",
       "stream": "stdout",
       "text": [
        "\n",
        "\u0418\u0421\u0415\u0422\u0421\u041a\u0410\u042f was not found."
       ]
      },
      {
       "output_type": "stream",
       "stream": "stdout",
       "text": [
        "\n",
        "\u0418\u0421\u0422\u0410\u041b\u0415\u041d\u0410 was not found."
       ]
      },
      {
       "output_type": "stream",
       "stream": "stdout",
       "text": [
        "\n",
        "\u0418\u0427\u041d\u0410 was not found."
       ]
      },
      {
       "output_type": "stream",
       "stream": "stdout",
       "text": [
        "\n",
        "\u0418\u041e\u0421\u0418\u0424\u041e\u0412 was not found."
       ]
      },
      {
       "output_type": "stream",
       "stream": "stdout",
       "text": [
        "\n",
        "\u0418\u041e\u0421\u0418\u0424\u041e\u0412 was not found."
       ]
      },
      {
       "output_type": "stream",
       "stream": "stdout",
       "text": [
        "\n",
        "\u041a\u0410\u0414\u0418\u041d was not found."
       ]
      },
      {
       "output_type": "stream",
       "stream": "stdout",
       "text": [
        "\n",
        "\u041a\u0410\u0414\u041e\u041c was found."
       ]
      },
      {
       "output_type": "stream",
       "stream": "stdout",
       "text": [
        "\n",
        "New form: \u041a\u0410\u0417\u0410\u041d\u0421\u041a\u0418\u0419 \u0411\u041e\u0413\u041e\u0420\u041e\u0414\u0418\u0426\u041a\u0418\u0419"
       ]
      },
      {
       "output_type": "stream",
       "stream": "stdout",
       "text": [
        "\n",
        "\u041a\u0410\u0417\u0410\u041d\u0421\u041a\u0418\u0419 \u0411\u041e\u0413\u041e\u0420\u041e\u0414\u0418\u0426\u041a\u0418\u0419 was not found."
       ]
      },
      {
       "output_type": "stream",
       "stream": "stdout",
       "text": [
        "\n",
        "\u041a\u0410\u041b\u0418\u0411\u0415\u0420\u0414\u0410 was found."
       ]
      },
      {
       "output_type": "stream",
       "stream": "stdout",
       "text": [
        "\n",
        "\u041a\u0410\u041b\u0418\u041d\u041a\u0418\u041d\u041e was found."
       ]
      },
      {
       "output_type": "stream",
       "stream": "stdout",
       "text": [
        "\n",
        "\u041a\u0410\u041c\u0415\u041d\u0415\u0426 was found."
       ]
      },
      {
       "output_type": "stream",
       "stream": "stdout",
       "text": [
        "\n",
        "\u041a\u0410\u041c\u0415\u041d\u041a\u0410 was found."
       ]
      },
      {
       "output_type": "stream",
       "stream": "stdout",
       "text": [
        "\n",
        "\u041a\u0410\u041c\u042b\u0428\u041d\u042f was found."
       ]
      },
      {
       "output_type": "stream",
       "stream": "stdout",
       "text": [
        "\n",
        "\u041a\u0410\u0420\u0410\u0421\u0423 - \u0411\u0410\u0417\u0410\u0420 was not found."
       ]
      },
      {
       "output_type": "stream",
       "stream": "stdout",
       "text": [
        "\n",
        "\u041a\u0410\u0420\u041b\u041e\u0412\u041a\u0410 was found."
       ]
      },
      {
       "output_type": "stream",
       "stream": "stdout",
       "text": [
        "\n",
        "\u041a\u0410\u0420\u041c was not found."
       ]
      },
      {
       "output_type": "stream",
       "stream": "stdout",
       "text": [
        "\n",
        "\u041a\u0410\u0420\u041e\u0427\u0410 was not found."
       ]
      },
      {
       "output_type": "stream",
       "stream": "stdout",
       "text": [
        "\n",
        "\u041a\u0410\u0420\u041f\u041e\u0412\u041a\u0410 was found."
       ]
      },
      {
       "output_type": "stream",
       "stream": "stdout",
       "text": [
        "\n",
        "\u041a\u0410\u0421\u0418\u041c\u041e\u0412 was not found."
       ]
      },
      {
       "output_type": "stream",
       "stream": "stdout",
       "text": [
        "\n",
        "New form: \u041a\u0418\u0422\u0410\u0419\u0421\u041a\u0418\u0419"
       ]
      },
      {
       "output_type": "stream",
       "stream": "stdout",
       "text": [
        "\n",
        "\u041a\u0418\u0422\u0410\u0419\u0421\u041a\u0418\u0419 was found."
       ]
      },
      {
       "output_type": "stream",
       "stream": "stdout",
       "text": [
        "\n",
        "\u041a\u0410\u0428\u0418\u041d was found."
       ]
      },
      {
       "output_type": "stream",
       "stream": "stdout",
       "text": [
        "\n",
        "\u041a\u0415\u041c\u0410\u0420\u042b was found."
       ]
      },
      {
       "output_type": "stream",
       "stream": "stdout",
       "text": [
        "\n",
        "\u041a\u0415\u0420\u0415\u041d\u0421\u041a was found."
       ]
      },
      {
       "output_type": "stream",
       "stream": "stdout",
       "text": [
        "\n",
        "\u041a\u0415\u0421\u041c\u0415 was not found."
       ]
      },
      {
       "output_type": "stream",
       "stream": "stdout",
       "text": [
        "\n",
        "\u041a\u0415\u0421\u041e\u0412\u0410 \u0413\u041e\u0420\u0410 was found."
       ]
      },
      {
       "output_type": "stream",
       "stream": "stdout",
       "text": [
        "\n",
        "\u041a\u0418\u0414\u0415\u0428\u041a\u0418\u041d\u041e was not found."
       ]
      },
      {
       "output_type": "stream",
       "stream": "stdout",
       "text": [
        "\n",
        "\u041a\u0418\u041c\u0420\u042b was found."
       ]
      },
      {
       "output_type": "stream",
       "stream": "stdout",
       "text": [
        "\n",
        "\u041a\u0418\u041d\u0415\u0428\u041c\u0410 was found."
       ]
      },
      {
       "output_type": "stream",
       "stream": "stdout",
       "text": [
        "\n",
        "\u041a\u0418\u0420\u0415\u041d\u0421\u041a was found."
       ]
      },
      {
       "output_type": "stream",
       "stream": "stdout",
       "text": [
        "\n",
        "\u041a\u0418\u0420\u0418\u041b\u041e\u0412 was not found."
       ]
      },
      {
       "output_type": "stream",
       "stream": "stdout",
       "text": [
        "\n",
        "\u041a\u0418\u0420\u0418\u041b\u041e\u0415\u041e was not found."
       ]
      },
      {
       "output_type": "stream",
       "stream": "stdout",
       "text": [
        "\n",
        "\u041a\u0418\u0420\u0421\u0410\u041d\u041e\u0412 was found."
       ]
      },
      {
       "output_type": "stream",
       "stream": "stdout",
       "text": [
        "\n",
        "\u041a\u0418\u0421\u0422\u0415\u0420 was found."
       ]
      },
      {
       "output_type": "stream",
       "stream": "stdout",
       "text": [
        "\n",
        "\u041a\u0418\u0421\u0422\u0420\u0423\u0421\u0410 was not found."
       ]
      },
      {
       "output_type": "stream",
       "stream": "stdout",
       "text": [
        "\n",
        "\u041a\u0418\u0422\u0410\u0419 - \u0413\u041e\u0420\u041e\u0414\u041e\u041a was not found."
       ]
      },
      {
       "output_type": "stream",
       "stream": "stdout",
       "text": [
        "\n",
        "\u041a\u0418\u0428\u0415\u041d\u042c\u041a\u0410 was not found."
       ]
      },
      {
       "output_type": "stream",
       "stream": "stdout",
       "text": [
        "\n",
        "\u041a\u0418\u0410\u0421\u041e\u0412\u041a\u0410 was not found."
       ]
      },
      {
       "output_type": "stream",
       "stream": "stdout",
       "text": [
        "\n",
        "\u041a\u0418\u0410\u0422\u0410 was not found."
       ]
      },
      {
       "output_type": "stream",
       "stream": "stdout",
       "text": [
        "\n",
        "\u041a\u041b\u0418\u041d was found."
       ]
      },
      {
       "output_type": "stream",
       "stream": "stdout",
       "text": [
        "\n",
        "\u041a\u041b\u042e\u0427\u0415\u0412\u0421\u041a\u0410\u042f was not found."
       ]
      },
      {
       "output_type": "stream",
       "stream": "stdout",
       "text": [
        "\n",
        "\u041a\u041d\u042f\u0413\u0418\u041d\u0418\u041d was not found."
       ]
      },
      {
       "output_type": "stream",
       "stream": "stdout",
       "text": [
        "\n",
        "\u041a\u041e\u0411\u042b\u0417\u0427\u0410 was not found."
       ]
      },
      {
       "output_type": "stream",
       "stream": "stdout",
       "text": [
        "\n",
        "\u041a\u041e\u0411\u042b\u041b\u042f\u041a was not found."
       ]
      },
      {
       "output_type": "stream",
       "stream": "stdout",
       "text": [
        "\n",
        "\u041a\u041e\u0412\u0420\u041e\u0412 was found."
       ]
      },
      {
       "output_type": "stream",
       "stream": "stdout",
       "text": [
        "\n",
        "\u041a\u041e\u0412\u042b\u041c\u0421\u041a\u041e\u0415 was not found."
       ]
      },
      {
       "output_type": "stream",
       "stream": "stdout",
       "text": [
        "\n",
        "\u041a\u041e\u0414\u0418\u041d\u0421\u041a\u041e\u0415 was not found."
       ]
      },
      {
       "output_type": "stream",
       "stream": "stdout",
       "text": [
        "\n",
        "\u041a\u041e\u0416\u0418\u041d\u041e was found."
       ]
      },
      {
       "output_type": "stream",
       "stream": "stdout",
       "text": [
        "\n",
        "\u041a\u041e\u0417\u0415\u041b\u0415\u0426 was found."
       ]
      },
      {
       "output_type": "stream",
       "stream": "stdout",
       "text": [
        "\n",
        "\u041a\u041e\u0417\u0415\u041b\u042c\u0421\u041a was found."
       ]
      },
      {
       "output_type": "stream",
       "stream": "stdout",
       "text": [
        "\n",
        "\u041a\u041e\u0417\u041b\u041e\u0412 was found."
       ]
      },
      {
       "output_type": "stream",
       "stream": "stdout",
       "text": [
        "\n",
        "\u041a\u041e\u0417\u041b\u041e\u0412\u041a\u0410 was found."
       ]
      },
      {
       "output_type": "stream",
       "stream": "stdout",
       "text": [
        "\n",
        "\u041a\u041e\u0417\u041b\u041e\u0412\u0421\u041a\u0410\u042f was not found."
       ]
      },
      {
       "output_type": "stream",
       "stream": "stdout",
       "text": [
        "\n",
        "\u041a\u041e\u041a\u0412\u0418\u041d\u041e was not found."
       ]
      },
      {
       "output_type": "stream",
       "stream": "stdout",
       "text": [
        "\n",
        "\u041a\u041e\u041b\u041e\u041c\u041d\u0410 was found."
       ]
      },
      {
       "output_type": "stream",
       "stream": "stdout",
       "text": [
        "\n",
        "\u041a\u041e\u041b\u042e\u041f\u0410\u041d\u041e\u0412\u041a\u0410 was not found."
       ]
      },
      {
       "output_type": "stream",
       "stream": "stdout",
       "text": [
        "\n",
        "\u041a\u041e\u041c\u0415\u041b\u042c\u0421\u041a \u041a\u041e\u0420\u041d\u0418 \u041b\u0418\u0415\u0412 was not found."
       ]
      },
      {
       "output_type": "stream",
       "stream": "stdout",
       "text": [
        "\n",
        "\u041a\u041e\u041c\u041b\u0418\u0427\u041a\u0418 was not found."
       ]
      },
      {
       "output_type": "stream",
       "stream": "stdout",
       "text": [
        "\n",
        "\u041a\u041e\u041d\u041e\u0411\u0415\u0415\u0412\u041e was found."
       ]
      },
      {
       "output_type": "stream",
       "stream": "stdout",
       "text": [
        "\n",
        "\u041a\u041e\u041d\u041e\u0422\u041e\u041f was found."
       ]
      },
      {
       "output_type": "stream",
       "stream": "stdout",
       "text": [
        "\n",
        "\u041a\u041e\u041d\u0421\u0422\u0410\u041d\u0422\u0418\u041d\u041e\u0412\u041e was not found."
       ]
      },
      {
       "output_type": "stream",
       "stream": "stdout",
       "text": [
        "\n",
        "\u041a\u041e\u041d\u0421\u0422\u0410\u041d\u0422\u0418\u041d\u041e\u0412\u0421\u041a\u041e\u0415 was found."
       ]
      },
      {
       "output_type": "stream",
       "stream": "stdout",
       "text": [
        "\n",
        "\u041a\u041e\u041f\u0420\u0418\u041d\u041e was found."
       ]
      },
      {
       "output_type": "stream",
       "stream": "stdout",
       "text": [
        "\n",
        "\u041a\u041e\u0420\u0415\u041d\u041d\u0410\u042f was not found."
       ]
      },
      {
       "output_type": "stream",
       "stream": "stdout",
       "text": [
        "\n",
        "\u041a\u041e\u0420\u041e\u0412\u0410\u0419 was not found."
       ]
      },
      {
       "output_type": "stream",
       "stream": "stdout",
       "text": [
        "\n",
        "\u041a\u041e\u0420\u041e\u041f was found."
       ]
      },
      {
       "output_type": "stream",
       "stream": "stdout",
       "text": [
        "\n",
        "\u041a\u041e\u0420\u041e\u0422\u041e\u042f\u041a was found."
       ]
      },
      {
       "output_type": "stream",
       "stream": "stdout",
       "text": [
        "\n",
        "\u041a\u041e\u0420\u0421\u0423\u041d\u042c was found."
       ]
      },
      {
       "output_type": "stream",
       "stream": "stdout",
       "text": [
        "\n",
        "\u041a\u041e\u0421\u0422\u0420\u041e\u041c\u0410 was found."
       ]
      },
      {
       "output_type": "stream",
       "stream": "stdout",
       "text": [
        "\n",
        "\u041a\u041e\u0421\u0422\u042e\u041a\u041e\u0412\u0418\u0427\u0418 was found."
       ]
      },
      {
       "output_type": "stream",
       "stream": "stdout",
       "text": [
        "\n",
        "\u041a\u041e\u0422\u0415\u041b\u042c\u0412\u0410 was found."
       ]
      },
      {
       "output_type": "stream",
       "stream": "stdout",
       "text": [
        "\n",
        "\u041a\u041e\u0422\u0415\u041b\u042c\u041d\u0418\u0427\u042c was found."
       ]
      },
      {
       "output_type": "stream",
       "stream": "stdout",
       "text": [
        "\n",
        "\u041a\u041e\u0427\u0415\u041b\u0410\u0415\u0412\u041e was found."
       ]
      },
      {
       "output_type": "stream",
       "stream": "stdout",
       "text": [
        "\n",
        "\u041a\u041e\u0428\u0418\u0420\u0410 was not found."
       ]
      },
      {
       "output_type": "stream",
       "stream": "stdout",
       "text": [
        "\n",
        "\u041a\u0420\u0410\u041f\u0418\u0412\u041d\u0410 was found."
       ]
      },
      {
       "output_type": "stream",
       "stream": "stdout",
       "text": [
        "\n",
        "\u041a\u0420\u0410\u041f\u0418\u0412\u041d\u0410 was found."
       ]
      },
      {
       "output_type": "stream",
       "stream": "stdout",
       "text": [
        "\n",
        "\u041a\u0420\u0410\u0421\u041d\u041e\u0411\u041e\u0420\u0421\u041a was found."
       ]
      },
      {
       "output_type": "stream",
       "stream": "stdout",
       "text": [
        "\n",
        "\u041a\u0420\u0410\u0421\u041d\u041e\u0413\u041e\u0420\u0421\u041a\u0410\u042f was not found."
       ]
      },
      {
       "output_type": "stream",
       "stream": "stdout",
       "text": [
        "\n",
        "\u041a\u0420\u0410\u0421\u041d\u041e\u0415 was found."
       ]
      },
      {
       "output_type": "stream",
       "stream": "stdout",
       "text": [
        "\n",
        "\u041a\u0420\u0410\u0421\u041d\u041e\u0415 was found."
       ]
      },
      {
       "output_type": "stream",
       "stream": "stdout",
       "text": [
        "\n",
        "New form: \u041a\u0420\u0410\u0421\u041d\u0418\u0419 \u041a\u041e\u041b\u042f\u0414\u0418\u041d"
       ]
      },
      {
       "output_type": "stream",
       "stream": "stdout",
       "text": [
        "\n",
        "\u041a\u0420\u0410\u0421\u041d\u0418\u0419 \u041a\u041e\u041b\u042f\u0414\u0418\u041d was found."
       ]
      },
      {
       "output_type": "stream",
       "stream": "stdout",
       "text": [
        "\n",
        "New form: \u041a\u0420\u0410\u0421\u041d\u041e\u041a\u0410\u041c\u0415\u041d\u0421\u041a\u0418\u0419"
       ]
      },
      {
       "output_type": "stream",
       "stream": "stdout",
       "text": [
        "\n",
        "\u041a\u0420\u0410\u0421\u041d\u041e\u041a\u0410\u041c\u0415\u041d\u0421\u041a\u0418\u0419 was not found."
       ]
      },
      {
       "output_type": "stream",
       "stream": "stdout",
       "text": [
        "\n",
        "\u041a\u0420\u0410\u0421\u041d\u041e\u041a\u0423\u0422\u0421\u041a was found."
       ]
      },
      {
       "output_type": "stream",
       "stream": "stdout",
       "text": [
        "\n",
        "\u041a\u0420\u0410\u0421\u041d\u041e\u041f\u041e\u041b\u042c was found."
       ]
      },
      {
       "output_type": "stream",
       "stream": "stdout",
       "text": [
        "\n",
        "\u041a\u0420\u0410\u0421\u041d\u041e\u041f\u041e\u041b\u042c\u0415 was found."
       ]
      },
      {
       "output_type": "stream",
       "stream": "stdout",
       "text": [
        "\n",
        "\u041a\u0420\u0410\u0421\u041d\u041e\u0421\u041b\u041e\u0411\u041e\u0414\u0421\u041a was found."
       ]
      },
      {
       "output_type": "stream",
       "stream": "stdout",
       "text": [
        "\n",
        "New form: \u041a\u0420\u0415\u041c\u0415\u041d\u041d\u0418\u0419"
       ]
      },
      {
       "output_type": "stream",
       "stream": "stdout",
       "text": [
        "\n",
        "\u041a\u0420\u0415\u041c\u0415\u041d\u041d\u0418\u0419 was not found."
       ]
      },
      {
       "output_type": "stream",
       "stream": "stdout",
       "text": [
        "\n",
        "\u041a\u0420\u0415\u041c\u0415\u041d\u0427\u0423\u0413 was found."
       ]
      },
      {
       "output_type": "stream",
       "stream": "stdout",
       "text": [
        "\n",
        "\u041a\u0420\u0415\u0421\u041b\u0410\u0412\u041b\u042c was not found."
       ]
      },
      {
       "output_type": "stream",
       "stream": "stdout",
       "text": [
        "\n",
        "\u041a\u0420\u0415\u0421\u0422\u0426\u042b was found."
       ]
      },
      {
       "output_type": "stream",
       "stream": "stdout",
       "text": [
        "\n",
        "\u041a\u0420\u0418\u0412\u041e\u041d\u0410\u0412\u041e\u041b\u041e\u0426\u041a\u0410\u042f was not found."
       ]
      },
      {
       "output_type": "stream",
       "stream": "stdout",
       "text": [
        "\n",
        "\u041a\u0420\u0418\u0412\u0426\u041e was not found."
       ]
      },
      {
       "output_type": "stream",
       "stream": "stdout",
       "text": [
        "\n",
        "\u041a\u0420\u0418\u0416\u0411\u0423\u0420\u0413 was not found."
       ]
      },
      {
       "output_type": "stream",
       "stream": "stdout",
       "text": [
        "\n",
        "\u041a\u0420\u041e\u041b\u0415\u0412\u0415\u0426 was found."
       ]
      },
      {
       "output_type": "stream",
       "stream": "stdout",
       "text": [
        "\n",
        "\u041a\u0420\u041e\u041c\u042b was found."
       ]
      },
      {
       "output_type": "stream",
       "stream": "stdout",
       "text": [
        "\n",
        "\u041a\u0420\u042b\u041b\u041e\u0412 was found."
       ]
      },
      {
       "output_type": "stream",
       "stream": "stdout",
       "text": [
        "\n",
        "\u041a\u0420\u042b\u041b\u0415\u0415\u0412\u041e was not found."
       ]
      },
      {
       "output_type": "stream",
       "stream": "stdout",
       "text": [
        "\n",
        "\u041a\u0420\u042e\u041a\u041e\u0412 was not found."
       ]
      },
      {
       "output_type": "stream",
       "stream": "stdout",
       "text": [
        "\n",
        "\u041a\u0423\u0411\u0415\u041d\u0421\u041a\u041e\u0415 was found."
       ]
      },
      {
       "output_type": "stream",
       "stream": "stdout",
       "text": [
        "\n",
        "\u041a\u0423\u0414\u0410\u0420\u0418\u041d\u0421\u041a\u0410\u042f was not found."
       ]
      },
      {
       "output_type": "stream",
       "stream": "stdout",
       "text": [
        "\n",
        "\u041a\u0423\u0417\u041d\u0415\u0426\u041a was found."
       ]
      },
      {
       "output_type": "stream",
       "stream": "stdout",
       "text": [
        "\n",
        "\u041a\u0423\u041c\u0417\u0415\u0420\u0421\u041a\u0410\u042f was not found."
       ]
      },
      {
       "output_type": "stream",
       "stream": "stdout",
       "text": [
        "\n",
        "\u041a\u0423\u041d\u0413\u0423\u0420 was found."
       ]
      },
      {
       "output_type": "stream",
       "stream": "stdout",
       "text": [
        "\n",
        "\u041a\u0423\u041f\u0415\u041d\u041a\u0410 was not found."
       ]
      },
      {
       "output_type": "stream",
       "stream": "stdout",
       "text": [
        "\n",
        "\u041a\u0423\u0420\u0415\u041d\u042c\u041a\u0418 was found."
       ]
      },
      {
       "output_type": "stream",
       "stream": "stdout",
       "text": [
        "\n",
        "\u041a\u0423\u0420\u042c\u042f\u041d\u041e\u0412\u041e was found."
       ]
      },
      {
       "output_type": "stream",
       "stream": "stdout",
       "text": [
        "\n",
        "\u041b\u0410\u0414\u0410 was found."
       ]
      },
      {
       "output_type": "stream",
       "stream": "stdout",
       "text": [
        "\n",
        "New form: \u041b\u0410\u0414\u0418\u041d\u0421\u041a\u0418\u0419"
       ]
      },
      {
       "output_type": "stream",
       "stream": "stdout",
       "text": [
        "\n",
        "\u041b\u0410\u0414\u0418\u041d\u0421\u041a\u0418\u0419 was not found."
       ]
      },
      {
       "output_type": "stream",
       "stream": "stdout",
       "text": [
        "\n",
        "\u041b\u0410\u0414\u041e\u0413\u0410 \u041d\u041e\u0412\u0410\u042f was found."
       ]
      },
      {
       "output_type": "stream",
       "stream": "stdout",
       "text": [
        "\n",
        "\u041b\u0410\u0417\u041e\u0412\u0418\u0426\u0410 was found."
       ]
      },
      {
       "output_type": "stream",
       "stream": "stdout",
       "text": [
        "\n",
        "\u041b\u0410\u0418\u0428\u0415\u0412 was found."
       ]
      },
      {
       "output_type": "stream",
       "stream": "stdout",
       "text": [
        "\n",
        "\u041b\u0410\u041a\u041d\u041e\u0412\u0410\u0422\u042c was not found."
       ]
      },
      {
       "output_type": "stream",
       "stream": "stdout",
       "text": [
        "\n",
        "\u041b\u0410\u041b\u042c\u0421\u041a was found."
       ]
      },
      {
       "output_type": "stream",
       "stream": "stdout",
       "text": [
        "\n",
        "\u041b\u0410\u041f\u0421\u0422\u0420\u0410\u041d\u0414 was not found."
       ]
      },
      {
       "output_type": "stream",
       "stream": "stdout",
       "text": [
        "\n",
        "\u041b\u0415\u0411\u0415\u0414\u0418\u041d was found."
       ]
      },
      {
       "output_type": "stream",
       "stream": "stdout",
       "text": [
        "\n",
        "\u041b\u0415\u0411\u0415\u0414\u042f\u041d\u042c was found."
       ]
      },
      {
       "output_type": "stream",
       "stream": "stdout",
       "text": [
        "\n",
        "\u041b\u0415\u0412\u041a\u0418\u0415\u0412 was not found."
       ]
      },
      {
       "output_type": "stream",
       "stream": "stdout",
       "text": [
        "\n",
        "\u041b\u0415\u0416\u041d\u0415\u0412\u041e was found."
       ]
      },
      {
       "output_type": "stream",
       "stream": "stdout",
       "text": [
        "\n",
        "\u041b\u0418\u0412\u041d\u042b was found."
       ]
      },
      {
       "output_type": "stream",
       "stream": "stdout",
       "text": [
        "\n",
        "\u041b\u0418\u041c\u0410\u041d\u042c was found."
       ]
      },
      {
       "output_type": "stream",
       "stream": "stdout",
       "text": [
        "\n",
        "\u041b\u0418\u041f\u0415\u0426\u041a was found."
       ]
      },
      {
       "output_type": "stream",
       "stream": "stdout",
       "text": [
        "\n",
        "\u041b\u0418\u041f\u041e\u0412\u0421\u041a\u041e\u0415 was not found."
       ]
      },
      {
       "output_type": "stream",
       "stream": "stdout",
       "text": [
        "\n",
        "\u041b\u0418\u041f\u0426\u042b was found."
       ]
      },
      {
       "output_type": "stream",
       "stream": "stdout",
       "text": [
        "\n",
        "New form: \u041b\u0418\u0421\u041a\u0418\u0419"
       ]
      },
      {
       "output_type": "stream",
       "stream": "stdout",
       "text": [
        "\n",
        "\u041b\u0418\u0421\u041a\u0418\u0419 was not found."
       ]
      },
      {
       "output_type": "stream",
       "stream": "stdout",
       "text": [
        "\n",
        "\u041b\u0418\u0425\u0412\u0418\u041d was found."
       ]
      },
      {
       "output_type": "stream",
       "stream": "stdout",
       "text": [
        "\n",
        "\u041b\u041e\u041f\u041e\u0422\u041e\u0412 was not found."
       ]
      },
      {
       "output_type": "stream",
       "stream": "stdout",
       "text": [
        "\n",
        "\u041b\u041e\u0422\u0421\u0428\u0418\u041d\u041e was not found."
       ]
      },
      {
       "output_type": "stream",
       "stream": "stdout",
       "text": [
        "\n",
        "\u041b\u041e\u0425\u0412\u0418\u0426\u0410 was found."
       ]
      },
      {
       "output_type": "stream",
       "stream": "stdout",
       "text": [
        "\n",
        "\u041b\u0423\u0416\u041a\u0418 was found."
       ]
      },
      {
       "output_type": "stream",
       "stream": "stdout",
       "text": [
        "\n",
        "\u041b\u0423\u041a\u041e\u041c\u041b\u042f was not found."
       ]
      },
      {
       "output_type": "stream",
       "stream": "stdout",
       "text": [
        "\n",
        "\u041b\u0423\u041a\u041e\u042f\u041d\u041e\u0412 was found."
       ]
      },
      {
       "output_type": "stream",
       "stream": "stdout",
       "text": [
        "\n",
        "\u041b\u0423\u0425 was found."
       ]
      },
      {
       "output_type": "stream",
       "stream": "stdout",
       "text": [
        "\n",
        "\u041b\u042c\u0413\u041e\u0412 was found."
       ]
      },
      {
       "output_type": "stream",
       "stream": "stdout",
       "text": [
        "\n",
        "\u041b\u0415\u0412\u042b\u0415 \u041b\u0410\u041c\u041a\u0418 was found."
       ]
      },
      {
       "output_type": "stream",
       "stream": "stdout",
       "text": [
        "\n",
        "\u041b\u042e\u0411\u0410\u0412\u0418\u0427\u0418 was found."
       ]
      },
      {
       "output_type": "stream",
       "stream": "stdout",
       "text": [
        "\n",
        "\u041b\u042e\u0411\u0415\u0427\u042c was found."
       ]
      },
      {
       "output_type": "stream",
       "stream": "stdout",
       "text": [
        "\n",
        "\u041b\u042e\u0411\u0418\u041c was found."
       ]
      },
      {
       "output_type": "stream",
       "stream": "stdout",
       "text": [
        "\n",
        "\u041b\u042e\u0422\u0415\u041d\u041a\u0410 was found."
       ]
      },
      {
       "output_type": "stream",
       "stream": "stdout",
       "text": [
        "\n",
        "\u041b\u042f\u0414\u042b was found."
       ]
      },
      {
       "output_type": "stream",
       "stream": "stdout",
       "text": [
        "\n",
        "\u041b\u042f\u0423\u0414\u0415\u0420\u0410 was not found."
       ]
      },
      {
       "output_type": "stream",
       "stream": "stdout",
       "text": [
        "\n",
        "\u041c\u0410\u041a\u0410\u041b\u041e\u0412\u041e was not found."
       ]
      },
      {
       "output_type": "stream",
       "stream": "stdout",
       "text": [
        "\n",
        "\u041c\u0410\u041a\u0410\u0420\u041e\u0412\u041e was not found."
       ]
      },
      {
       "output_type": "stream",
       "stream": "stdout",
       "text": [
        "\n",
        "\u041c\u0410\u041a\u0410\u0420\u042c\u0415\u0412 was found."
       ]
      },
      {
       "output_type": "stream",
       "stream": "stdout",
       "text": [
        "\n"
       ]
      }
     ],
     "prompt_number": 44
    },
    {
     "cell_type": "code",
     "collapsed": false,
     "input": [
      "problem_prov"
     ],
     "language": "python",
     "metadata": {},
     "outputs": [
      {
       "metadata": {},
       "output_type": "pyout",
       "prompt_number": 45,
       "text": [
        "[]"
       ]
      }
     ],
     "prompt_number": 45
    },
    {
     "cell_type": "code",
     "collapsed": false,
     "input": [
      "geodf = pd.DataFrame(geocoded,columns=['hgr_id','placename','admin1','country_name','lat','lng','src_id','country_code','url','src'])"
     ],
     "language": "python",
     "metadata": {},
     "outputs": [],
     "prompt_number": 46
    },
    {
     "cell_type": "code",
     "collapsed": false,
     "input": [
      "len(geodf)"
     ],
     "language": "python",
     "metadata": {},
     "outputs": [
      {
       "metadata": {},
       "output_type": "pyout",
       "prompt_number": 47,
       "text": [
        "1404"
       ]
      }
     ],
     "prompt_number": 47
    },
    {
     "cell_type": "code",
     "collapsed": false,
     "input": [
      "geodf.to_excel('geocoded.xlsx',encoding='utf-8')"
     ],
     "language": "python",
     "metadata": {},
     "outputs": [],
     "prompt_number": 49
    },
    {
     "cell_type": "code",
     "collapsed": false,
     "input": [
      "nfdf = geodf.ix[geodf.placename=='not_found']\n",
      "len(nfdf)"
     ],
     "language": "python",
     "metadata": {},
     "outputs": [
      {
       "metadata": {},
       "output_type": "pyout",
       "prompt_number": 50,
       "text": [
        "167"
       ]
      }
     ],
     "prompt_number": 50
    },
    {
     "cell_type": "code",
     "collapsed": false,
     "input": [
      "f_unique = len(geodf.ix[geodf.placename!='not_found'].hgr_id.unique())\n",
      "nf_unique = len(geodf.ix[geodf.placename=='not_found'].hgr_id.unique())\n",
      "total = len(geodf.hgr_id.unique())\n",
      "overlap = (nf_unique + f_unique) - total #overlap caused by changing spelling. \n",
      "print(\"{0} found\\n{1} not found\\n{2} total\".format(f_unique,nf_unique-overlap,total))"
     ],
     "language": "python",
     "metadata": {},
     "outputs": [
      {
       "output_type": "stream",
       "stream": "stdout",
       "text": [
        "252 found\n",
        "146 not found\n",
        "398 total\n"
       ]
      }
     ],
     "prompt_number": 51
    },
    {
     "cell_type": "code",
     "collapsed": false,
     "input": [
      "finding_counts = geodf.ix[geodf.placename!='not_found'].pivot_table(index='hgr_id',values='lat',aggfunc=lambda x: len(x.unique()))"
     ],
     "language": "python",
     "metadata": {},
     "outputs": [],
     "prompt_number": 52
    },
    {
     "cell_type": "code",
     "collapsed": false,
     "input": [
      "fdf = pd.DataFrame(finding_counts)"
     ],
     "language": "python",
     "metadata": {},
     "outputs": [],
     "prompt_number": 53
    },
    {
     "cell_type": "code",
     "collapsed": false,
     "input": [
      "fdf.ix[fdf.lat==1].describe()"
     ],
     "language": "python",
     "metadata": {},
     "outputs": [
      {
       "html": [
        "<div style=\"max-height:1000px;max-width:1500px;overflow:auto;\">\n",
        "<table border=\"1\" class=\"dataframe\">\n",
        "  <thead>\n",
        "    <tr style=\"text-align: right;\">\n",
        "      <th></th>\n",
        "      <th>lat</th>\n",
        "    </tr>\n",
        "  </thead>\n",
        "  <tbody>\n",
        "    <tr>\n",
        "      <th>count</th>\n",
        "      <td> 126</td>\n",
        "    </tr>\n",
        "    <tr>\n",
        "      <th>mean</th>\n",
        "      <td>   1</td>\n",
        "    </tr>\n",
        "    <tr>\n",
        "      <th>std</th>\n",
        "      <td>   0</td>\n",
        "    </tr>\n",
        "    <tr>\n",
        "      <th>min</th>\n",
        "      <td>   1</td>\n",
        "    </tr>\n",
        "    <tr>\n",
        "      <th>25%</th>\n",
        "      <td>   1</td>\n",
        "    </tr>\n",
        "    <tr>\n",
        "      <th>50%</th>\n",
        "      <td>   1</td>\n",
        "    </tr>\n",
        "    <tr>\n",
        "      <th>75%</th>\n",
        "      <td>   1</td>\n",
        "    </tr>\n",
        "    <tr>\n",
        "      <th>max</th>\n",
        "      <td>   1</td>\n",
        "    </tr>\n",
        "  </tbody>\n",
        "</table>\n",
        "</div>"
       ],
       "metadata": {},
       "output_type": "pyout",
       "prompt_number": 86,
       "text": [
        "       lat\n",
        "count  126\n",
        "mean     1\n",
        "std      0\n",
        "min      1\n",
        "25%      1\n",
        "50%      1\n",
        "75%      1\n",
        "max      1"
       ]
      }
     ],
     "prompt_number": 86
    },
    {
     "cell_type": "code",
     "collapsed": false,
     "input": [
      "geodf_merged = pd.merge(geodf,market_df,left_on='hgr_id',right_index=True)\n",
      "geodf_merged = geodf_merged[['hgr_id', 'name', 'name_modern_sp', 'placename', 'admin1', 'country_name', 'lat', 'lng', 'src_id', 'country_code', 'url', 'src', 'ru_prov', 'prov_modern_sp', 'prov_stem', 'ru_uezd', 'page', 'text', '_type']]"
     ],
     "language": "python",
     "metadata": {},
     "outputs": [],
     "prompt_number": 63
    },
    {
     "cell_type": "code",
     "collapsed": false,
     "input": [
      "prov_recall = geodf_merged.pivot_table(index='prov_stem',values='lat',aggfunc=lambda x: len(x.unique()))\n",
      "prov_df = pd.DataFrame(prov_recall)\n",
      "prov_df.sort(columns='lat', ascending=False)"
     ],
     "language": "python",
     "metadata": {},
     "outputs": [
      {
       "html": [
        "<div style=\"max-height:1000px;max-width:1500px;overflow:auto;\">\n",
        "<table border=\"1\" class=\"dataframe\">\n",
        "  <thead>\n",
        "    <tr style=\"text-align: right;\">\n",
        "      <th></th>\n",
        "      <th>lat</th>\n",
        "    </tr>\n",
        "    <tr>\n",
        "      <th>prov_stem</th>\n",
        "      <th></th>\n",
        "    </tr>\n",
        "  </thead>\n",
        "  <tbody>\n",
        "    <tr>\n",
        "      <th>\u0445\u0430\u0440\u044c\u043a\u043e\u0432\u0441\u043a</th>\n",
        "      <td> 116</td>\n",
        "    </tr>\n",
        "    <tr>\n",
        "      <th>\u0432\u043e\u0440\u043e\u043d\u0435\u0436\u0441\u043a</th>\n",
        "      <td> 109</td>\n",
        "    </tr>\n",
        "    <tr>\n",
        "      <th>\u043c\u043e\u0441\u043a\u043e\u0432\u0441\u043a</th>\n",
        "      <td> 103</td>\n",
        "    </tr>\n",
        "    <tr>\n",
        "      <th>\u043a\u0430\u043b\u0443\u0436\u0441\u043a</th>\n",
        "      <td>  99</td>\n",
        "    </tr>\n",
        "    <tr>\n",
        "      <th>\u043e\u0440\u043b\u043e\u0432\u0441\u043a</th>\n",
        "      <td>  97</td>\n",
        "    </tr>\n",
        "    <tr>\n",
        "      <th>\u0442\u0430\u043c\u0431\u043e\u0432\u0441\u043a</th>\n",
        "      <td>  65</td>\n",
        "    </tr>\n",
        "    <tr>\n",
        "      <th>\u043c\u043e\u0433\u0438\u043b\u0435\u0432\u0441\u043a</th>\n",
        "      <td>  65</td>\n",
        "    </tr>\n",
        "    <tr>\n",
        "      <th>\u044f\u0440\u043e\u0441\u043b\u0430\u0432\u0441\u043a</th>\n",
        "      <td>  64</td>\n",
        "    </tr>\n",
        "    <tr>\n",
        "      <th>\u0442\u0443\u043b\u044c\u0441\u043a</th>\n",
        "      <td>  54</td>\n",
        "    </tr>\n",
        "    <tr>\n",
        "      <th>\u043f\u0435\u043d\u0437\u0435\u043d\u0441\u043a</th>\n",
        "      <td>  53</td>\n",
        "    </tr>\n",
        "    <tr>\n",
        "      <th>\u043a\u043e\u0441\u0442\u0440\u043e\u043c\u0441\u043a</th>\n",
        "      <td>  51</td>\n",
        "    </tr>\n",
        "    <tr>\n",
        "      <th>\u0442\u0432\u0435\u0440\u0441\u043a</th>\n",
        "      <td>  50</td>\n",
        "    </tr>\n",
        "    <tr>\n",
        "      <th>\u043a\u0438\u0435\u0432\u0441\u043a</th>\n",
        "      <td>  37</td>\n",
        "    </tr>\n",
        "    <tr>\n",
        "      <th>\u0447\u0435\u0440\u043d\u0438\u0433\u043e\u0432\u0441\u043a</th>\n",
        "      <td>  36</td>\n",
        "    </tr>\n",
        "    <tr>\n",
        "      <th>\u043d\u043e\u0442_\u0438\u043d_\u0442\u0435x\u0442</th>\n",
        "      <td>  36</td>\n",
        "    </tr>\n",
        "    <tr>\n",
        "      <th>\u0432\u043b\u0430\u0434\u0438\u043c\u0435\u0440\u0441\u043a</th>\n",
        "      <td>  27</td>\n",
        "    </tr>\n",
        "    <tr>\n",
        "      <th>\u043d\u043e\u0432\u043e\u0433\u043e\u0440\u043e\u0434\u0441\u043a\u043e\u0433\u043e - \u0441\u0435\u0432\u0435\u0440\u0441\u043a</th>\n",
        "      <td>  19</td>\n",
        "    </tr>\n",
        "    <tr>\n",
        "      <th>\u0435\u043a\u0430\u0442\u0435\u0440\u0438\u043d\u043e\u0441\u043b\u0430\u0432\u0441\u043a</th>\n",
        "      <td>  19</td>\n",
        "    </tr>\n",
        "    <tr>\n",
        "      <th>\u043a\u0443\u0440\u0441\u043a</th>\n",
        "      <td>  17</td>\n",
        "    </tr>\n",
        "    <tr>\n",
        "      <th>\u043d\u0438\u0436\u0435\u0433\u043e\u0440\u043e\u0434\u0441\u043a</th>\n",
        "      <td>  16</td>\n",
        "    </tr>\n",
        "    <tr>\n",
        "      <th>\u043d\u043e\u0432\u043e\u0433\u043e\u0440\u043e\u0434\u0441\u043a</th>\n",
        "      <td>  13</td>\n",
        "    </tr>\n",
        "    <tr>\n",
        "      <th>\u0432\u043e\u043b\u043e\u0434\u0438\u043c\u0435\u0440\u0441\u043a</th>\n",
        "      <td>  13</td>\n",
        "    </tr>\n",
        "    <tr>\n",
        "      <th>\u043f\u043e\u043b\u043e\u0442\u0441\u043a</th>\n",
        "      <td>  13</td>\n",
        "    </tr>\n",
        "    <tr>\n",
        "      <th>\u0441\u043c\u043e\u043b\u0435\u043d\u0441\u043a</th>\n",
        "      <td>   8</td>\n",
        "    </tr>\n",
        "    <tr>\n",
        "      <th>\u0441\u0438\u043d\u0431\u0438\u0440\u0441\u043a</th>\n",
        "      <td>   8</td>\n",
        "    </tr>\n",
        "    <tr>\n",
        "      <th>\u0438\u0440\u043a\u0443\u0442\u0441\u043a</th>\n",
        "      <td>   8</td>\n",
        "    </tr>\n",
        "    <tr>\n",
        "      <th>\u0440\u044f\u0437\u0430\u043d\u0441\u043a</th>\n",
        "      <td>   7</td>\n",
        "    </tr>\n",
        "    <tr>\n",
        "      <th>\u0432\u043e\u0440\u043e\u043d\u0435\u0436</th>\n",
        "      <td>   6</td>\n",
        "    </tr>\n",
        "    <tr>\n",
        "      <th>\u0432\u043e\u043b\u043e\u0433\u043e\u0434\u0441\u043a</th>\n",
        "      <td>   6</td>\n",
        "    </tr>\n",
        "    <tr>\n",
        "      <th>\u0441\u0430\u0440\u0430\u0442\u043e\u0432\u0441\u043a</th>\n",
        "      <td>   5</td>\n",
        "    </tr>\n",
        "    <tr>\n",
        "      <th>\u043f\u0441\u043a\u043e\u0432\u0441\u043a</th>\n",
        "      <td>   5</td>\n",
        "    </tr>\n",
        "    <tr>\n",
        "      <th>\u043f\u0435\u0440\u043c\u0441\u043a</th>\n",
        "      <td>   4</td>\n",
        "    </tr>\n",
        "    <tr>\n",
        "      <th>\u0432\u043b\u0430\u0434\u0438\u043c\u0435\u0440\u043a</th>\n",
        "      <td>   4</td>\n",
        "    </tr>\n",
        "    <tr>\n",
        "      <th>\u0440\u0438\u0436\u0441\u043a</th>\n",
        "      <td>   3</td>\n",
        "    </tr>\n",
        "    <tr>\n",
        "      <th>\u043a\u0430\u0437\u0430\u043d\u0441\u043a</th>\n",
        "      <td>   3</td>\n",
        "    </tr>\n",
        "    <tr>\n",
        "      <th>\u0430\u0440\u0445\u0430\u043d\u0433\u0435\u043b\u044c\u0441\u043a</th>\n",
        "      <td>   3</td>\n",
        "    </tr>\n",
        "    <tr>\n",
        "      <th>\u0442\u043e\u0431\u043e\u043b\u044c\u0441\u043a</th>\n",
        "      <td>   1</td>\n",
        "    </tr>\n",
        "    <tr>\n",
        "      <th>\u0443\u0444\u0438\u043c\u0441\u043a</th>\n",
        "      <td>   1</td>\n",
        "    </tr>\n",
        "    <tr>\n",
        "      <th>\u0442\u0443\u043b\u044c\u0441\u043a\u0430\u0433</th>\n",
        "      <td>   1</td>\n",
        "    </tr>\n",
        "    <tr>\n",
        "      <th>\u043a\u043e\u0441\u0442\u0440\u043e\u043c</th>\n",
        "      <td>   1</td>\n",
        "    </tr>\n",
        "    <tr>\n",
        "      <th>\u0432\u044b\u0431\u043e\u0440\u0433</th>\n",
        "      <td>   1</td>\n",
        "    </tr>\n",
        "    <tr>\n",
        "      <th>\u0432\u044b\u0431\u043e\u0440\u0433\u0441\u043a</th>\n",
        "      <td>   1</td>\n",
        "    </tr>\n",
        "    <tr>\n",
        "      <th>\u0432\u044f\u0442\u0441\u043a</th>\n",
        "      <td>   1</td>\n",
        "    </tr>\n",
        "    <tr>\n",
        "      <th>\u043e\u043b\u043e\u043d\u0435\u0446\u043a</th>\n",
        "      <td>   1</td>\n",
        "    </tr>\n",
        "    <tr>\n",
        "      <th>\u043a\u0430\u0432\u043a\u0430\u0437\u0441\u043a</th>\n",
        "      <td>   1</td>\n",
        "    </tr>\n",
        "    <tr>\n",
        "      <th>\u0440\u0435\u0432\u0435\u043b\u044c\u0441\u043a</th>\n",
        "      <td>   1</td>\n",
        "    </tr>\n",
        "  </tbody>\n",
        "</table>\n",
        "</div>"
       ],
       "metadata": {},
       "output_type": "pyout",
       "prompt_number": 64,
       "text": [
        "                          lat\n",
        "prov_stem                    \n",
        "\u0445\u0430\u0440\u044c\u043a\u043e\u0432\u0441\u043a                 116\n",
        "\u0432\u043e\u0440\u043e\u043d\u0435\u0436\u0441\u043a                 109\n",
        "\u043c\u043e\u0441\u043a\u043e\u0432\u0441\u043a                  103\n",
        "\u043a\u0430\u043b\u0443\u0436\u0441\u043a                    99\n",
        "\u043e\u0440\u043b\u043e\u0432\u0441\u043a                    97\n",
        "\u0442\u0430\u043c\u0431\u043e\u0432\u0441\u043a                   65\n",
        "\u043c\u043e\u0433\u0438\u043b\u0435\u0432\u0441\u043a                  65\n",
        "\u044f\u0440\u043e\u0441\u043b\u0430\u0432\u0441\u043a                  64\n",
        "\u0442\u0443\u043b\u044c\u0441\u043a                     54\n",
        "\u043f\u0435\u043d\u0437\u0435\u043d\u0441\u043a                   53\n",
        "\u043a\u043e\u0441\u0442\u0440\u043e\u043c\u0441\u043a                  51\n",
        "\u0442\u0432\u0435\u0440\u0441\u043a                     50\n",
        "\u043a\u0438\u0435\u0432\u0441\u043a                     37\n",
        "\u0447\u0435\u0440\u043d\u0438\u0433\u043e\u0432\u0441\u043a                 36\n",
        "\u043d\u043e\u0442_\u0438\u043d_\u0442\u0435x\u0442                36\n",
        "\u0432\u043b\u0430\u0434\u0438\u043c\u0435\u0440\u0441\u043a                 27\n",
        "\u043d\u043e\u0432\u043e\u0433\u043e\u0440\u043e\u0434\u0441\u043a\u043e\u0433\u043e - \u0441\u0435\u0432\u0435\u0440\u0441\u043a   19\n",
        "\u0435\u043a\u0430\u0442\u0435\u0440\u0438\u043d\u043e\u0441\u043b\u0430\u0432\u0441\u043a            19\n",
        "\u043a\u0443\u0440\u0441\u043a                      17\n",
        "\u043d\u0438\u0436\u0435\u0433\u043e\u0440\u043e\u0434\u0441\u043a                16\n",
        "\u043d\u043e\u0432\u043e\u0433\u043e\u0440\u043e\u0434\u0441\u043a                13\n",
        "\u0432\u043e\u043b\u043e\u0434\u0438\u043c\u0435\u0440\u0441\u043a                13\n",
        "\u043f\u043e\u043b\u043e\u0442\u0441\u043a                    13\n",
        "\u0441\u043c\u043e\u043b\u0435\u043d\u0441\u043a                    8\n",
        "\u0441\u0438\u043d\u0431\u0438\u0440\u0441\u043a                    8\n",
        "\u0438\u0440\u043a\u0443\u0442\u0441\u043a                     8\n",
        "\u0440\u044f\u0437\u0430\u043d\u0441\u043a                     7\n",
        "\u0432\u043e\u0440\u043e\u043d\u0435\u0436                     6\n",
        "\u0432\u043e\u043b\u043e\u0433\u043e\u0434\u0441\u043a                   6\n",
        "\u0441\u0430\u0440\u0430\u0442\u043e\u0432\u0441\u043a                   5\n",
        "\u043f\u0441\u043a\u043e\u0432\u0441\u043a                     5\n",
        "\u043f\u0435\u0440\u043c\u0441\u043a                      4\n",
        "\u0432\u043b\u0430\u0434\u0438\u043c\u0435\u0440\u043a                   4\n",
        "\u0440\u0438\u0436\u0441\u043a                       3\n",
        "\u043a\u0430\u0437\u0430\u043d\u0441\u043a                     3\n",
        "\u0430\u0440\u0445\u0430\u043d\u0433\u0435\u043b\u044c\u0441\u043a                 3\n",
        "\u0442\u043e\u0431\u043e\u043b\u044c\u0441\u043a                    1\n",
        "\u0443\u0444\u0438\u043c\u0441\u043a                      1\n",
        "\u0442\u0443\u043b\u044c\u0441\u043a\u0430\u0433                    1\n",
        "\u043a\u043e\u0441\u0442\u0440\u043e\u043c                     1\n",
        "\u0432\u044b\u0431\u043e\u0440\u0433                      1\n",
        "\u0432\u044b\u0431\u043e\u0440\u0433\u0441\u043a                    1\n",
        "\u0432\u044f\u0442\u0441\u043a                       1\n",
        "\u043e\u043b\u043e\u043d\u0435\u0446\u043a                     1\n",
        "\u043a\u0430\u0432\u043a\u0430\u0437\u0441\u043a                    1\n",
        "\u0440\u0435\u0432\u0435\u043b\u044c\u0441\u043a                    1"
       ]
      }
     ],
     "prompt_number": 64
    },
    {
     "cell_type": "code",
     "collapsed": true,
     "input": [
      "geodf_merged.to_excel('geocoded_merged.xlsx',encoding = 'utf-8')"
     ],
     "language": "python",
     "metadata": {},
     "outputs": [],
     "prompt_number": 57
    },
    {
     "cell_type": "code",
     "collapsed": false,
     "input": [
      "not_found_merged = geodf_merged.ix[geodf_merged.placename == 'not_found']"
     ],
     "language": "python",
     "metadata": {},
     "outputs": [],
     "prompt_number": 58
    },
    {
     "cell_type": "code",
     "collapsed": false,
     "input": [
      "test = not_found_merged.ix[not_found_merged.hgr_id==44]"
     ],
     "language": "python",
     "metadata": {},
     "outputs": [],
     "prompt_number": 82
    },
    {
     "cell_type": "code",
     "collapsed": false,
     "input": [
      "test = not_found_merged.ix[not_found_merged.hgr_id==54]\n",
      "for i in test.url.tolist():\n",
      "    print(i)"
     ],
     "language": "python",
     "metadata": {},
     "outputs": [
      {
       "output_type": "stream",
       "stream": "stdout",
       "text": [
        "http://api.geonames.org/search?north=54.837&east=46.7277&username=jaguillette&name=%D0%91%D0%9E%D0%93%D0%9E%D0%A0%D0%9E%D0%94%D0%98%D0%A6%D0%9A%D0%9E%D0%99+%D0%9A%D0%90%D0%97%D0%90%D0%9D%D0%A1%D0%9A%D0%9E%D0%99&featureClass=P&south=52.3247&type=json&west=41.8373\n",
        "http://api.geonames.org/search?north=54.837&east=46.7277&username=jaguillette&name=%D0%91%D0%9E%D0%93%D0%9E%D0%A0%D0%9E%D0%94%D0%98%D0%A6%D0%9A%D0%98%D0%99+%D0%9A%D0%90%D0%97%D0%90%D0%9D%D0%A1%D0%9A%D0%98%D0%99&featureClass=P&south=52.3247&type=json&west=41.8373\n"
       ]
      }
     ],
     "prompt_number": 85
    },
    {
     "cell_type": "code",
     "collapsed": false,
     "input": [
      "not_found_merged.to_excel('not_found_bounded.xlsx',encoding='utf-8')"
     ],
     "language": "python",
     "metadata": {},
     "outputs": [],
     "prompt_number": 79
    },
    {
     "cell_type": "code",
     "collapsed": false,
     "input": [
      "pd.DataFrame(geodf_merged.pivot_table(index='name',values='lat',aggfunc=lambda x: len(x.unique()))).sort(columns='lat',ascending=False)"
     ],
     "language": "python",
     "metadata": {},
     "outputs": [
      {
       "html": [
        "<div style=\"max-height:1000px;max-width:1500px;overflow:auto;\">\n",
        "<table border=\"1\" class=\"dataframe\">\n",
        "  <thead>\n",
        "    <tr style=\"text-align: right;\">\n",
        "      <th></th>\n",
        "      <th>lat</th>\n",
        "    </tr>\n",
        "    <tr>\n",
        "      <th>name</th>\n",
        "      <th></th>\n",
        "    </tr>\n",
        "  </thead>\n",
        "  <tbody>\n",
        "    <tr>\n",
        "      <th>\u041a\u0420\u0410\u0421\u041d\u041e\u0415</th>\n",
        "      <td> 124</td>\n",
        "    </tr>\n",
        "    <tr>\n",
        "      <th>\u0418\u0412\u0410\u041d\u041e\u0412\u041a\u0410</th>\n",
        "      <td>  98</td>\n",
        "    </tr>\n",
        "    <tr>\n",
        "      <th>\u0410\u041b\u0415\u041a\u0421\u0462\u0415\u0412\u041a\u0410</th>\n",
        "      <td>  93</td>\n",
        "    </tr>\n",
        "    <tr>\n",
        "      <th>\u0418\u0412\u0410\u041d\u041e\u0412\u0421\u041a\u041e\u0415</th>\n",
        "      <td>  89</td>\n",
        "    </tr>\n",
        "    <tr>\n",
        "      <th>\u0412\u042b\u0421\u041e\u041a\u041e\u0415</th>\n",
        "      <td>  28</td>\n",
        "    </tr>\n",
        "    <tr>\n",
        "      <th>\u0413\u041b\u0462\u0411\u041e\u0412\u041e</th>\n",
        "      <td>  28</td>\n",
        "    </tr>\n",
        "    <tr>\n",
        "      <th>\u0418\u0412\u0410\u041d\u041e\u0412\u041e</th>\n",
        "      <td>  19</td>\n",
        "    </tr>\n",
        "    <tr>\n",
        "      <th>\u041a\u0410\u041c\u0415\u041d\u041a\u0410</th>\n",
        "      <td>  17</td>\n",
        "    </tr>\n",
        "    <tr>\n",
        "      <th>\u0413\u041e\u0420\u041e\u0414\u041e\u041a\u042a</th>\n",
        "      <td>  15</td>\n",
        "    </tr>\n",
        "    <tr>\n",
        "      <th>\u041b\u0423\u0416\u041a\u0418</th>\n",
        "      <td>  15</td>\n",
        "    </tr>\n",
        "    <tr>\n",
        "      <th>\u0413\u041e\u0420\u0418\u0426\u042b</th>\n",
        "      <td>  15</td>\n",
        "    </tr>\n",
        "    <tr>\n",
        "      <th>\u0412\u0415\u041b\u0418\u041a\u041e\u0415</th>\n",
        "      <td>  14</td>\n",
        "    </tr>\n",
        "    <tr>\n",
        "      <th>\u0413\u0410\u0413\u0410\u0420\u0418\u041d\u041e</th>\n",
        "      <td>  13</td>\n",
        "    </tr>\n",
        "    <tr>\n",
        "      <th>\u041a\u041e\u0416\u0418\u041d\u041e</th>\n",
        "      <td>  12</td>\n",
        "    </tr>\n",
        "    <tr>\n",
        "      <th>\u0410\u041d\u0422\u041e\u041d\u041e\u0412\u041a\u0410</th>\n",
        "      <td>  12</td>\n",
        "    </tr>\n",
        "    <tr>\n",
        "      <th>\u0411\u0462\u041b\u041e\u0415</th>\n",
        "      <td>  11</td>\n",
        "    </tr>\n",
        "    <tr>\n",
        "      <th>\u0413\u041e\u0420\u041a\u0418</th>\n",
        "      <td>  11</td>\n",
        "    </tr>\n",
        "    <tr>\n",
        "      <th>\u041b\u0418\u041c\u0410\u041d\u042c</th>\n",
        "      <td>  11</td>\n",
        "    </tr>\n",
        "    <tr>\n",
        "      <th>\u0410\u041d\u0414\u0420\u0415\u0415\u0412\u041a\u0410</th>\n",
        "      <td>  10</td>\n",
        "    </tr>\n",
        "    <tr>\n",
        "      <th>\u0414\u0423\u0411\u0420\u041e\u0412\u041a\u0418</th>\n",
        "      <td>  10</td>\n",
        "    </tr>\n",
        "    <tr>\n",
        "      <th>\u041b\u042f\u0414\u042b</th>\n",
        "      <td>   9</td>\n",
        "    </tr>\n",
        "    <tr>\n",
        "      <th>\u041a\u041e\u0417\u041b\u041e\u0412\u041a\u0410</th>\n",
        "      <td>   9</td>\n",
        "    </tr>\n",
        "    <tr>\n",
        "      <th>\u0414\u041c\u0418\u0422\u0420\u041e\u0412\u041a\u0410</th>\n",
        "      <td>   9</td>\n",
        "    </tr>\n",
        "    <tr>\n",
        "      <th>\u041a\u0410\u0420\u041b\u041e\u0412\u041a\u0410</th>\n",
        "      <td>   9</td>\n",
        "    </tr>\n",
        "    <tr>\n",
        "      <th>\u0412\u0462\u0422\u041a\u0410</th>\n",
        "      <td>   8</td>\n",
        "    </tr>\n",
        "    <tr>\n",
        "      <th>\u0411\u0410\u0415\u0412\u041a\u0410</th>\n",
        "      <td>   8</td>\n",
        "    </tr>\n",
        "    <tr>\n",
        "      <th>\u0414\u0423\u0411\u041e\u0412\u041e\u0415</th>\n",
        "      <td>   8</td>\n",
        "    </tr>\n",
        "    <tr>\n",
        "      <th>\u041a\u0420\u0410\u0421\u041d\u041e\u041f\u041e\u041b\u042c</th>\n",
        "      <td>   8</td>\n",
        "    </tr>\n",
        "    <tr>\n",
        "      <th>\u0412\u041e\u0420\u041e\u041d\u0426\u041e\u0412\u041a\u0410</th>\n",
        "      <td>   7</td>\n",
        "    </tr>\n",
        "    <tr>\n",
        "      <th>\u0418\u041b\u042c\u0418\u041d\u0421\u041a\u041e\u0415</th>\n",
        "      <td>   7</td>\n",
        "    </tr>\n",
        "    <tr>\n",
        "      <th>...</th>\n",
        "      <td>...</td>\n",
        "    </tr>\n",
        "    <tr>\n",
        "      <th>\u0413\u0410\u041b\u042f\u041d\u0418</th>\n",
        "      <td>   1</td>\n",
        "    </tr>\n",
        "    <tr>\n",
        "      <th>\u0413\u0410\u0414\u042f\u0427\u042c</th>\n",
        "      <td>   1</td>\n",
        "    </tr>\n",
        "    <tr>\n",
        "      <th>\u0413\u0410\u0411\u0417\u0410\u041b\u042c</th>\n",
        "      <td>   1</td>\n",
        "    </tr>\n",
        "    <tr>\n",
        "      <th>\u0412\u042f\u0417\u041e\u0412\u041d\u0410</th>\n",
        "      <td>   1</td>\n",
        "    </tr>\n",
        "    <tr>\n",
        "      <th>\u0412\u042f\u0417\u041d\u0418\u041a\u0418</th>\n",
        "      <td>   1</td>\n",
        "    </tr>\n",
        "    <tr>\n",
        "      <th>\u0412\u042c\u0406\u0427\u0423\u0413\u0410</th>\n",
        "      <td>   1</td>\n",
        "    </tr>\n",
        "    <tr>\n",
        "      <th>\u0412\u042b\u0428\u041d\u0406\u0419 \u0412\u041e\u041b\u041e\u0427\u041e\u041a\u042a</th>\n",
        "      <td>   1</td>\n",
        "    </tr>\n",
        "    <tr>\n",
        "      <th>\u0412\u042b\u0422\u0415\u0413\u0420\u0410</th>\n",
        "      <td>   1</td>\n",
        "    </tr>\n",
        "    <tr>\n",
        "      <th>\u0412\u042b\u0411\u041e\u0420\u0413\u042a</th>\n",
        "      <td>   1</td>\n",
        "    </tr>\n",
        "    <tr>\n",
        "      <th>\u0412\u0420\u0415\u0412\u042a</th>\n",
        "      <td>   1</td>\n",
        "    </tr>\n",
        "    <tr>\n",
        "      <th>\u0413\u041b\u0415\u041c\u042f\u0417\u041e\u0412\u042a</th>\n",
        "      <td>   1</td>\n",
        "    </tr>\n",
        "    <tr>\n",
        "      <th>\u0413\u041e\u0413\u041e\u041b\u0415\u0412\u042a</th>\n",
        "      <td>   1</td>\n",
        "    </tr>\n",
        "    <tr>\n",
        "      <th>\u0414\u0415\u0420\u041f\u0422\u042a</th>\n",
        "      <td>   1</td>\n",
        "    </tr>\n",
        "    <tr>\n",
        "      <th>\u0413\u041e\u041b\u0422\u0412\u0410</th>\n",
        "      <td>   1</td>\n",
        "    </tr>\n",
        "    <tr>\n",
        "      <th>\u0414\u0415\u0419\u041c\u0410\u041d\u041e\u0412\u041a\u0410</th>\n",
        "      <td>   1</td>\n",
        "    </tr>\n",
        "    <tr>\n",
        "      <th>\u0414\u0412\u0423\u0420\u0462\u0427\u041d\u0410\u042f</th>\n",
        "      <td>   1</td>\n",
        "    </tr>\n",
        "    <tr>\n",
        "      <th>\u0414\u0410\u041b\u041c\u0410\u0422\u041e\u0412\u042a</th>\n",
        "      <td>   1</td>\n",
        "    </tr>\n",
        "    <tr>\n",
        "      <th>\u0414\u0410\u0419\u041c\u0418\u041d\u041e</th>\n",
        "      <td>   1</td>\n",
        "    </tr>\n",
        "    <tr>\n",
        "      <th>\u0414\u0410\u0413\u0414\u0410</th>\n",
        "      <td>   1</td>\n",
        "    </tr>\n",
        "    <tr>\n",
        "      <th>\u0413\u0423\u0421\u0422\u0418\u041d\u041e\u0412\u041e</th>\n",
        "      <td>   1</td>\n",
        "    </tr>\n",
        "    <tr>\n",
        "      <th>\u0413\u0420\u042f\u0417\u041e\u0412\u0415\u0426\u042a</th>\n",
        "      <td>   1</td>\n",
        "    </tr>\n",
        "    <tr>\n",
        "      <th>\u0413\u0420\u042f\u0417\u041d\u041e\u0415</th>\n",
        "      <td>   1</td>\n",
        "    </tr>\n",
        "    <tr>\n",
        "      <th>\u0413\u0420\u0418\u0422\u0427\u0418\u041d\u041e</th>\n",
        "      <td>   1</td>\n",
        "    </tr>\n",
        "    <tr>\n",
        "      <th>\u0413\u0420\u0415\u041c\u042f\u0427\u0415\u0412\u042a</th>\n",
        "      <td>   1</td>\n",
        "    </tr>\n",
        "    <tr>\n",
        "      <th>\u0413\u0420\u0415\u0411\u0415\u041d\u0418\u0428\u041a\u0418</th>\n",
        "      <td>   1</td>\n",
        "    </tr>\n",
        "    <tr>\n",
        "      <th>\u0413\u041e\u0420\u041e\u0428\u0418\u041d\u042a</th>\n",
        "      <td>   1</td>\n",
        "    </tr>\n",
        "    <tr>\n",
        "      <th>\u0413\u041e\u0420\u041e\u0425\u041e\u0412\u0415\u0426\u042a</th>\n",
        "      <td>   1</td>\n",
        "    </tr>\n",
        "    <tr>\n",
        "      <th>\u0413\u041e\u0420\u0411\u0410\u0422\u041e\u0412\u042a</th>\n",
        "      <td>   1</td>\n",
        "    </tr>\n",
        "    <tr>\n",
        "      <th>\u0413\u041e\u041c\u041b\u042f</th>\n",
        "      <td>   1</td>\n",
        "    </tr>\n",
        "    <tr>\n",
        "      <th>\u041c\u0410\u041a\u0410\u0420\u042c\u0415\u0412\u042a</th>\n",
        "      <td>   1</td>\n",
        "    </tr>\n",
        "  </tbody>\n",
        "</table>\n",
        "<p>379 rows \u00d7 1 columns</p>\n",
        "</div>"
       ],
       "metadata": {},
       "output_type": "pyout",
       "prompt_number": 60,
       "text": [
        "                 lat\n",
        "name                \n",
        "\u041a\u0420\u0410\u0421\u041d\u041e\u0415          124\n",
        "\u0418\u0412\u0410\u041d\u041e\u0412\u041a\u0410          98\n",
        "\u0410\u041b\u0415\u041a\u0421\u0462\u0415\u0412\u041a\u0410        93\n",
        "\u0418\u0412\u0410\u041d\u041e\u0412\u0421\u041a\u041e\u0415        89\n",
        "\u0412\u042b\u0421\u041e\u041a\u041e\u0415           28\n",
        "\u0413\u041b\u0462\u0411\u041e\u0412\u041e           28\n",
        "\u0418\u0412\u0410\u041d\u041e\u0412\u041e           19\n",
        "\u041a\u0410\u041c\u0415\u041d\u041a\u0410           17\n",
        "\u0413\u041e\u0420\u041e\u0414\u041e\u041a\u042a          15\n",
        "\u041b\u0423\u0416\u041a\u0418             15\n",
        "\u0413\u041e\u0420\u0418\u0426\u042b            15\n",
        "\u0412\u0415\u041b\u0418\u041a\u041e\u0415           14\n",
        "\u0413\u0410\u0413\u0410\u0420\u0418\u041d\u041e          13\n",
        "\u041a\u041e\u0416\u0418\u041d\u041e            12\n",
        "\u0410\u041d\u0422\u041e\u041d\u041e\u0412\u041a\u0410         12\n",
        "\u0411\u0462\u041b\u041e\u0415             11\n",
        "\u0413\u041e\u0420\u041a\u0418             11\n",
        "\u041b\u0418\u041c\u0410\u041d\u042c            11\n",
        "\u0410\u041d\u0414\u0420\u0415\u0415\u0412\u041a\u0410         10\n",
        "\u0414\u0423\u0411\u0420\u041e\u0412\u041a\u0418          10\n",
        "\u041b\u042f\u0414\u042b               9\n",
        "\u041a\u041e\u0417\u041b\u041e\u0412\u041a\u0410           9\n",
        "\u0414\u041c\u0418\u0422\u0420\u041e\u0412\u041a\u0410          9\n",
        "\u041a\u0410\u0420\u041b\u041e\u0412\u041a\u0410           9\n",
        "\u0412\u0462\u0422\u041a\u0410              8\n",
        "\u0411\u0410\u0415\u0412\u041a\u0410             8\n",
        "\u0414\u0423\u0411\u041e\u0412\u041e\u0415            8\n",
        "\u041a\u0420\u0410\u0421\u041d\u041e\u041f\u041e\u041b\u042c         8\n",
        "\u0412\u041e\u0420\u041e\u041d\u0426\u041e\u0412\u041a\u0410         7\n",
        "\u0418\u041b\u042c\u0418\u041d\u0421\u041a\u041e\u0415          7\n",
        "...              ...\n",
        "\u0413\u0410\u041b\u042f\u041d\u0418             1\n",
        "\u0413\u0410\u0414\u042f\u0427\u042c             1\n",
        "\u0413\u0410\u0411\u0417\u0410\u041b\u042c            1\n",
        "\u0412\u042f\u0417\u041e\u0412\u041d\u0410            1\n",
        "\u0412\u042f\u0417\u041d\u0418\u041a\u0418            1\n",
        "\u0412\u042c\u0406\u0427\u0423\u0413\u0410            1\n",
        "\u0412\u042b\u0428\u041d\u0406\u0419 \u0412\u041e\u041b\u041e\u0427\u041e\u041a\u042a    1\n",
        "\u0412\u042b\u0422\u0415\u0413\u0420\u0410            1\n",
        "\u0412\u042b\u0411\u041e\u0420\u0413\u042a            1\n",
        "\u0412\u0420\u0415\u0412\u042a              1\n",
        "\u0413\u041b\u0415\u041c\u042f\u0417\u041e\u0412\u042a          1\n",
        "\u0413\u041e\u0413\u041e\u041b\u0415\u0412\u042a           1\n",
        "\u0414\u0415\u0420\u041f\u0422\u042a             1\n",
        "\u0413\u041e\u041b\u0422\u0412\u0410             1\n",
        "\u0414\u0415\u0419\u041c\u0410\u041d\u041e\u0412\u041a\u0410         1\n",
        "\u0414\u0412\u0423\u0420\u0462\u0427\u041d\u0410\u042f          1\n",
        "\u0414\u0410\u041b\u041c\u0410\u0422\u041e\u0412\u042a          1\n",
        "\u0414\u0410\u0419\u041c\u0418\u041d\u041e            1\n",
        "\u0414\u0410\u0413\u0414\u0410              1\n",
        "\u0413\u0423\u0421\u0422\u0418\u041d\u041e\u0412\u041e          1\n",
        "\u0413\u0420\u042f\u0417\u041e\u0412\u0415\u0426\u042a          1\n",
        "\u0413\u0420\u042f\u0417\u041d\u041e\u0415            1\n",
        "\u0413\u0420\u0418\u0422\u0427\u0418\u041d\u041e           1\n",
        "\u0413\u0420\u0415\u041c\u042f\u0427\u0415\u0412\u042a          1\n",
        "\u0413\u0420\u0415\u0411\u0415\u041d\u0418\u0428\u041a\u0418         1\n",
        "\u0413\u041e\u0420\u041e\u0428\u0418\u041d\u042a           1\n",
        "\u0413\u041e\u0420\u041e\u0425\u041e\u0412\u0415\u0426\u042a         1\n",
        "\u0413\u041e\u0420\u0411\u0410\u0422\u041e\u0412\u042a          1\n",
        "\u0413\u041e\u041c\u041b\u042f              1\n",
        "\u041c\u0410\u041a\u0410\u0420\u042c\u0415\u0412\u042a          1\n",
        "\n",
        "[379 rows x 1 columns]"
       ]
      }
     ],
     "prompt_number": 60
    },
    {
     "cell_type": "code",
     "collapsed": false,
     "input": [
      "R = requests.get('http://api.geonames.org/search?featureCode=PPL&type=json&north=55.671667&east=43.210556&username=jaguillette&west=35.210556&name=%D0%90%D0%9B%D0%95%D0%9A%D0%A1%D0%95%D0%95%D0%92%D0%9A%D0%90&south=47.671667&adminCode1=76')\n",
      "test = R.json()\n",
      "for k in test['geonames']:\n",
      "    print('{}\\t{}'.format(k['lat'],k['lng']))"
     ],
     "language": "python",
     "metadata": {},
     "outputs": [
      {
       "output_type": "stream",
       "stream": "stdout",
       "text": [
        "53.78872\t37.81175\n",
        "53.1281\t38.5728\n",
        "53.434\t38.5649\n",
        "53.4684\t38.4039\n",
        "54.23672\t37.43163\n",
        "53.86918\t36.2825\n",
        "53.7127\t37.58333\n",
        "53.65225\t36.89267\n",
        "53.5924\t38.09726\n",
        "53.42806\t38.09139\n",
        "53.08559\t37.84466\n",
        "53.99782\t38.52497\n"
       ]
      }
     ],
     "prompt_number": 61
    },
    {
     "cell_type": "code",
     "collapsed": false,
     "input": [
      "geodf_merged.ix[geodf_merged.hgr_id==265].url.tolist()"
     ],
     "language": "python",
     "metadata": {},
     "outputs": [
      {
       "metadata": {},
       "output_type": "pyout",
       "prompt_number": 74,
       "text": [
        "['http://api.geonames.org/search?north=54.837&east=46.7277&username=jaguillette&name=%D0%9A%D0%90%D0%97%D0%90%D0%9D%D0%A1%D0%9A%D0%9E%D0%99+%D0%91%D0%9E%D0%93%D0%9E%D0%A0%D0%9E%D0%94%D0%98%D0%A6%D0%9A%D0%9E%D0%99&featureClass=P&south=52.3247&type=json&west=41.8373',\n",
        " 'http://api.geonames.org/search?north=54.837&east=46.7277&username=jaguillette&name=%D0%9A%D0%90%D0%97%D0%90%D0%9D%D0%A1%D0%9A%D0%98%D0%99+%D0%91%D0%9E%D0%93%D0%9E%D0%A0%D0%9E%D0%94%D0%98%D0%A6%D0%9A%D0%98%D0%99&featureClass=P&south=52.3247&type=json&west=41.8373']"
       ]
      }
     ],
     "prompt_number": 74
    },
    {
     "cell_type": "markdown",
     "metadata": {},
     "source": [
      "Kiev Experiment\n",
      "===============\n",
      "Trying to narrow results with bounding rectangles"
     ]
    },
    {
     "cell_type": "markdown",
     "metadata": {},
     "source": [
      "No bounding rectangle"
     ]
    },
    {
     "cell_type": "code",
     "collapsed": false,
     "input": [
      "kiev = market_df.ix[market_df.prov_stem == '\u043a\u0438\u0435\u0432\u0441\u043a']"
     ],
     "language": "python",
     "metadata": {},
     "outputs": [],
     "prompt_number": 181
    },
    {
     "cell_type": "code",
     "collapsed": false,
     "input": [
      "kiev_geocoded = []\n",
      "for x in range(0,len(kiev)):\n",
      "    entry = kiev.iloc[x]\n",
      "    kiev_geocoded.extend(geonames_lookup(entry['name_modern_sp'],entry.name))"
     ],
     "language": "python",
     "metadata": {},
     "outputs": [
      {
       "output_type": "stream",
       "stream": "stdout",
       "text": [
        "\u0411\u0410\u0420\u042b\u0428\u0415\u0412\u041a\u0410 was found.\n",
        "\u0411\u041e\u0411\u0420\u041e\u0412\u0418\u0426\u0410 was found."
       ]
      },
      {
       "output_type": "stream",
       "stream": "stdout",
       "text": [
        "\n",
        "\u0411\u041e\u0413\u0410\u0427\u041a\u0410 was found."
       ]
      },
      {
       "output_type": "stream",
       "stream": "stdout",
       "text": [
        "\n",
        "\u0411\u041e\u0420\u0418\u0421\u041f\u041e\u041b\u042c was found."
       ]
      },
      {
       "output_type": "stream",
       "stream": "stdout",
       "text": [
        "\n",
        "\u0411\u0423\u0420\u041e\u041c\u041a\u0410 was found."
       ]
      },
      {
       "output_type": "stream",
       "stream": "stdout",
       "text": [
        "\n",
        "\u0411\u0415\u041b\u041e\u0426\u0415\u0420\u041a\u041e\u0412\u041a\u0410 was found."
       ]
      },
      {
       "output_type": "stream",
       "stream": "stdout",
       "text": [
        "\n",
        "\u0412\u041e\u0420\u041e\u041d\u041a\u041e\u0412 was found."
       ]
      },
      {
       "output_type": "stream",
       "stream": "stdout",
       "text": [
        "\n",
        "\u0413\u041b\u0415\u041c\u042f\u0417\u041e\u0412 was not found."
       ]
      },
      {
       "output_type": "stream",
       "stream": "stdout",
       "text": [
        "\n",
        "\u0413\u041e\u0413\u041e\u041b\u0415\u0412 was found."
       ]
      },
      {
       "output_type": "stream",
       "stream": "stdout",
       "text": [
        "\n",
        "\u0413\u041e\u0420\u041e\u0414\u0418\u0429\u0415 was found."
       ]
      },
      {
       "output_type": "stream",
       "stream": "stdout",
       "text": [
        "\n",
        "\u0413\u041e\u0420\u041e\u0428\u0418\u041d was found."
       ]
      },
      {
       "output_type": "stream",
       "stream": "stdout",
       "text": [
        "\n",
        "\u0414\u041c\u0418\u0422\u0420\u041e\u0412\u041a\u0410 was found."
       ]
      },
      {
       "output_type": "stream",
       "stream": "stdout",
       "text": [
        "\n",
        "\u0415\u041a\u0410\u0422\u0415\u0420\u0418\u041d\u0418\u041d\u0421\u041a\u0410\u042f was found."
       ]
      },
      {
       "output_type": "stream",
       "stream": "stdout",
       "text": [
        "\n",
        "\u0415\u0420\u0415\u041c\u0415\u0415\u0412\u041a\u0410 was found."
       ]
      },
      {
       "output_type": "stream",
       "stream": "stdout",
       "text": [
        "\n",
        "\u0416\u041e\u0412\u041d\u0418\u041d was not found."
       ]
      },
      {
       "output_type": "stream",
       "stream": "stdout",
       "text": [
        "\n",
        "\u0417\u041e\u041b\u041e\u0422\u041e\u041d\u041e\u0428\u0410 was found."
       ]
      },
      {
       "output_type": "stream",
       "stream": "stdout",
       "text": [
        "\n",
        "\u041a\u0410\u041c\u042b\u0428\u041d\u042f was found."
       ]
      },
      {
       "output_type": "stream",
       "stream": "stdout",
       "text": [
        "\n",
        "\u041a\u041e\u0411\u042b\u0417\u0427\u0410 was not found."
       ]
      },
      {
       "output_type": "stream",
       "stream": "stdout",
       "text": [
        "\n",
        "\u041a\u041e\u0417\u0415\u041b\u0415\u0426 was found."
       ]
      },
      {
       "output_type": "stream",
       "stream": "stdout",
       "text": [
        "\n",
        "\u041a\u041e\u041c\u041b\u0418\u0427\u041a\u0418 was not found."
       ]
      },
      {
       "output_type": "stream",
       "stream": "stdout",
       "text": [
        "\n",
        "\u041a\u041e\u041d\u0421\u0422\u0410\u041d\u0422\u0418\u041d\u041e\u0412\u041e was found."
       ]
      },
      {
       "output_type": "stream",
       "stream": "stdout",
       "text": [
        "\n",
        "\u041a\u041e\u0420\u041e\u0412\u0410\u0419 was found."
       ]
      },
      {
       "output_type": "stream",
       "stream": "stdout",
       "text": [
        "\n",
        "\u041a\u0420\u0410\u041f\u0418\u0412\u041d\u0410 was found."
       ]
      },
      {
       "output_type": "stream",
       "stream": "stdout",
       "text": [
        "\n",
        "\u041a\u0420\u042b\u041b\u0415\u0415\u0412\u041e was not found."
       ]
      },
      {
       "output_type": "stream",
       "stream": "stdout",
       "text": [
        "\n",
        "\u041a\u0423\u0420\u0415\u041d\u042c\u041a\u0418 was found."
       ]
      },
      {
       "output_type": "stream",
       "stream": "stdout",
       "text": [
        "\n",
        "\u041b\u0423\u041a\u041e\u041c\u041b\u042f was not found."
       ]
      },
      {
       "output_type": "stream",
       "stream": "stdout",
       "text": [
        "\n"
       ]
      }
     ],
     "prompt_number": 182
    },
    {
     "cell_type": "code",
     "collapsed": false,
     "input": [
      "kiev_geo_df = pd.DataFrame(kiev_geocoded,columns=['hgr_id','placename','admin1','country_name','lat','lng','src_id','country_code','url','src'])\n",
      "len(kiev_geo_df)"
     ],
     "language": "python",
     "metadata": {},
     "outputs": [
      {
       "metadata": {},
       "output_type": "pyout",
       "prompt_number": 183,
       "text": [
        "319"
       ]
      }
     ],
     "prompt_number": 183
    },
    {
     "cell_type": "code",
     "collapsed": false,
     "input": [
      "kiev_geo_df.to_excel('kiev_unbound.xlsx',encoding='utf-8')"
     ],
     "language": "python",
     "metadata": {},
     "outputs": [],
     "prompt_number": 184
    },
    {
     "cell_type": "markdown",
     "metadata": {},
     "source": [
      "Now we try a bounding rectangle"
     ]
    },
    {
     "cell_type": "code",
     "collapsed": false,
     "input": [
      "kiev_bounded = []\n",
      "for x in range(0,len(kiev)):\n",
      "    entry = kiev.iloc[x]\n",
      "    kiev_bounded.extend(geonames_lookup(entry['name_modern_sp'],entry.name,north=51.49413,south=49.08008,east=34.35625,west=29.72503))"
     ],
     "language": "python",
     "metadata": {},
     "outputs": [
      {
       "output_type": "stream",
       "stream": "stdout",
       "text": [
        "\u0411\u0410\u0420\u042b\u0428\u0415\u0412\u041a\u0410 was found.\n",
        "\u0411\u041e\u0411\u0420\u041e\u0412\u0418\u0426\u0410 was found."
       ]
      },
      {
       "output_type": "stream",
       "stream": "stdout",
       "text": [
        "\n",
        "\u0411\u041e\u0413\u0410\u0427\u041a\u0410 was found."
       ]
      },
      {
       "output_type": "stream",
       "stream": "stdout",
       "text": [
        "\n",
        "\u0411\u041e\u0420\u0418\u0421\u041f\u041e\u041b\u042c was found."
       ]
      },
      {
       "output_type": "stream",
       "stream": "stdout",
       "text": [
        "\n",
        "\u0411\u0423\u0420\u041e\u041c\u041a\u0410 was found."
       ]
      },
      {
       "output_type": "stream",
       "stream": "stdout",
       "text": [
        "\n",
        "\u0411\u0415\u041b\u041e\u0426\u0415\u0420\u041a\u041e\u0412\u041a\u0410 was not found."
       ]
      },
      {
       "output_type": "stream",
       "stream": "stdout",
       "text": [
        "\n",
        "\u0412\u041e\u0420\u041e\u041d\u041a\u041e\u0412 was found."
       ]
      },
      {
       "output_type": "stream",
       "stream": "stdout",
       "text": [
        "\n",
        "\u0413\u041b\u0415\u041c\u042f\u0417\u041e\u0412 was not found."
       ]
      },
      {
       "output_type": "stream",
       "stream": "stdout",
       "text": [
        "\n",
        "\u0413\u041e\u0413\u041e\u041b\u0415\u0412 was found."
       ]
      },
      {
       "output_type": "stream",
       "stream": "stdout",
       "text": [
        "\n",
        "\u0413\u041e\u0420\u041e\u0414\u0418\u0429\u0415 was found."
       ]
      },
      {
       "output_type": "stream",
       "stream": "stdout",
       "text": [
        "\n",
        "\u0413\u041e\u0420\u041e\u0428\u0418\u041d was found."
       ]
      },
      {
       "output_type": "stream",
       "stream": "stdout",
       "text": [
        "\n",
        "\u0414\u041c\u0418\u0422\u0420\u041e\u0412\u041a\u0410 was found."
       ]
      },
      {
       "output_type": "stream",
       "stream": "stdout",
       "text": [
        "\n",
        "\u0415\u041a\u0410\u0422\u0415\u0420\u0418\u041d\u0418\u041d\u0421\u041a\u0410\u042f was not found."
       ]
      },
      {
       "output_type": "stream",
       "stream": "stdout",
       "text": [
        "\n",
        "\u0415\u0420\u0415\u041c\u0415\u0415\u0412\u041a\u0410 was not found."
       ]
      },
      {
       "output_type": "stream",
       "stream": "stdout",
       "text": [
        "\n",
        "\u0416\u041e\u0412\u041d\u0418\u041d was not found."
       ]
      },
      {
       "output_type": "stream",
       "stream": "stdout",
       "text": [
        "\n",
        "\u0417\u041e\u041b\u041e\u0422\u041e\u041d\u041e\u0428\u0410 was found."
       ]
      },
      {
       "output_type": "stream",
       "stream": "stdout",
       "text": [
        "\n",
        "\u041a\u0410\u041c\u042b\u0428\u041d\u042f was found."
       ]
      },
      {
       "output_type": "stream",
       "stream": "stdout",
       "text": [
        "\n",
        "\u041a\u041e\u0411\u042b\u0417\u0427\u0410 was not found."
       ]
      },
      {
       "output_type": "stream",
       "stream": "stdout",
       "text": [
        "\n",
        "\u041a\u041e\u0417\u0415\u041b\u0415\u0426 was found."
       ]
      },
      {
       "output_type": "stream",
       "stream": "stdout",
       "text": [
        "\n",
        "\u041a\u041e\u041c\u041b\u0418\u0427\u041a\u0418 was not found."
       ]
      },
      {
       "output_type": "stream",
       "stream": "stdout",
       "text": [
        "\n",
        "\u041a\u041e\u041d\u0421\u0422\u0410\u041d\u0422\u0418\u041d\u041e\u0412\u041e was not found."
       ]
      },
      {
       "output_type": "stream",
       "stream": "stdout",
       "text": [
        "\n",
        "\u041a\u041e\u0420\u041e\u0412\u0410\u0419 was not found."
       ]
      },
      {
       "output_type": "stream",
       "stream": "stdout",
       "text": [
        "\n",
        "\u041a\u0420\u0410\u041f\u0418\u0412\u041d\u0410 was found."
       ]
      },
      {
       "output_type": "stream",
       "stream": "stdout",
       "text": [
        "\n",
        "\u041a\u0420\u042b\u041b\u0415\u0415\u0412\u041e was not found."
       ]
      },
      {
       "output_type": "stream",
       "stream": "stdout",
       "text": [
        "\n",
        "\u041a\u0423\u0420\u0415\u041d\u042c\u041a\u0418 was found."
       ]
      },
      {
       "output_type": "stream",
       "stream": "stdout",
       "text": [
        "\n",
        "\u041b\u0423\u041a\u041e\u041c\u041b\u042f was not found."
       ]
      },
      {
       "output_type": "stream",
       "stream": "stdout",
       "text": [
        "\n"
       ]
      }
     ],
     "prompt_number": 185
    },
    {
     "cell_type": "code",
     "collapsed": false,
     "input": [
      "kiev_bounded_df = pd.DataFrame(kiev_bounded,columns=['hgr_id','placename','admin1','country_name','lat','lng','src_id','country_code','url','src'])"
     ],
     "language": "python",
     "metadata": {},
     "outputs": [],
     "prompt_number": 186
    },
    {
     "cell_type": "code",
     "collapsed": false,
     "input": [
      "kiev_bound_merged = pd.merge(kiev_bounded_df,market_df,left_on='hgr_id',right_index=True)\n",
      "kiev_bound_merged = kiev_bound_merged[['hgr_id', 'name', 'name_modern_sp', 'placename', 'admin1', 'country_name', 'lat', 'lng', 'src_id', 'country_code', 'url', 'src', 'ru_prov', 'prov_modern_sp', 'prov_stem', 'ru_uezd', 'page', 'text', '_type']]"
     ],
     "language": "python",
     "metadata": {},
     "outputs": [],
     "prompt_number": 187
    },
    {
     "cell_type": "code",
     "collapsed": false,
     "input": [
      "kiev_bound_merged.ix[kiev_bound_merged.placename=='not_found'].to_excel('kiev_not_found.xlsx',encoding='utf-8')"
     ],
     "language": "python",
     "metadata": {},
     "outputs": [],
     "prompt_number": 188
    },
    {
     "cell_type": "code",
     "collapsed": false,
     "input": [
      "kiev_bound_merged.ix[kiev_bound_merged.placename!='not_found'].to_excel('kiev_found.xlsx',encoding='utf-8')"
     ],
     "language": "python",
     "metadata": {},
     "outputs": [],
     "prompt_number": 189
    },
    {
     "cell_type": "code",
     "collapsed": true,
     "input": [
      "market_df.ix[market_df.geo_placename == 'not_found'].to_excel('not_found.xlsx', encoding='utf-8')"
     ],
     "language": "python",
     "metadata": {},
     "outputs": [],
     "prompt_number": 64
    },
    {
     "cell_type": "code",
     "collapsed": false,
     "input": [
      "market_df.to_excel('market_towns.xlsx', encoding=\"utf-8\")"
     ],
     "language": "python",
     "metadata": {},
     "outputs": [],
     "prompt_number": 61
    },
    {
     "cell_type": "markdown",
     "metadata": {},
     "source": [
      "Google Geocoding\n",
      "================\n",
      "Hasn't been worked on in a while. Kind of shabby."
     ]
    },
    {
     "cell_type": "code",
     "collapsed": false,
     "input": [
      "def google_lookup(placename):\n",
      "    url = \"https://maps.googleapis.com/maps/api/geocode/json?address={}\".format(placename)\n",
      "    R = requests.get(url)\n",
      "    google_json = R.json()\n",
      "    Ensure_dir(\"google_jsons\")\n",
      "    try:\n",
      "        google_placename = google_json['results'][0]['formatted_address']\n",
      "        google_lat = google_json['results'][0]['geometry']['location']['lat']\n",
      "        google_lng = google_json['results'][0]['geometry']['location']['lng']\n",
      "        with open(\"google_jsons/{}.json\".format(placename),'w') as jsonfile:\n",
      "            jsonfile.write(R.text)\n",
      "    except IndexError:\n",
      "        google_placename = \"not_found\"\n",
      "        google_lat = \"not_found\"\n",
      "        google_lng = \"not_found\"\n",
      "    return google_placename, google_lat, google_lng, url"
     ],
     "language": "python",
     "metadata": {},
     "outputs": [],
     "prompt_number": 18
    },
    {
     "cell_type": "code",
     "collapsed": false,
     "input": [
      "google_lookup(\"\u0410\u0412\u0414\u0423\u041b\u041e\u0412\u041e\")"
     ],
     "language": "python",
     "metadata": {},
     "outputs": [
      {
       "metadata": {},
       "output_type": "pyout",
       "prompt_number": 14,
       "text": [
        "('Avdulovo, Lipetsk Oblast, Russia, 399837',\n",
        " 53.300006,\n",
        " 38.6298386,\n",
        " 'https://maps.googleapis.com/maps/api/geocode/json?address=\u0410\u0412\u0414\u0423\u041b\u041e\u0412\u041e')"
       ]
      }
     ],
     "prompt_number": 14
    },
    {
     "cell_type": "code",
     "collapsed": false,
     "input": [
      "market_df['google_reconcile'], market_df['google_lat'], market_df['google_lng'], market_df['google_url'] = zip(*market_df[\"name\"].map(google_lookup))"
     ],
     "language": "python",
     "metadata": {},
     "outputs": [],
     "prompt_number": 21
    },
    {
     "cell_type": "code",
     "collapsed": false,
     "input": [
      "def str_comb(df):\n",
      "    return \"{} is a {}\".format(df[0],df[1])\n",
      "test = market_df[['name','_type']].apply(str_comb,axis=1)\n",
      "print(test)"
     ],
     "language": "python",
     "metadata": {},
     "outputs": [
      {
       "output_type": "stream",
       "stream": "stdout",
       "text": [
        "\u0406\u041e\u0421\u0418\u0424\u041e\u0412\u042a                       \u0406\u041e\u0421\u0418\u0424\u041e\u0412\u042a is a \u043c\u043e\u043d\u0430\u0441\u0442\u044b\u0440\u044c\n",
        "\u0410\u0411\u0417\u0410\u041b\u042c                             \u0410\u0411\u0417\u0410\u041b\u042c  is a \u0433\u043e\u0440\u043e\u0434\u044a\n",
        "\u0410\u0412\u0414\u0423\u041b\u041e\u0412\u041e                            \u0410\u0412\u0414\u0423\u041b\u041e\u0412\u041e is a \u0441\u0435\u043b\u043e\n",
        "\u0410\u0412\u0416\u0415\u041d\u0421\u041a\u0410\u042f                      \u0410\u0412\u0416\u0415\u041d\u0421\u041a\u0410\u042f  is a \u0432\u043e\u043b\u043e\u0441\u0442\u044c\n",
        "\u0410\u0414\u041e\u0412\u0410\u0422\u041e\u0412\u041e                          \u0410\u0414\u041e\u0412\u0410\u0422\u041e\u0412\u041e is a \u0441\u0435\u043b\u043e\n",
        "\u0410\u041a\u0421\u0415\u041b\u042c                                \u0410\u041a\u0421\u0415\u041b\u042c is a \u0441\u0435\u043b\u043e\n",
        "\u0410\u041b\u0410\u0422\u042b\u0420\u042c                            \u0410\u041b\u0410\u0422\u042b\u0420\u042c is a \u0433\u043e\u0440\u043e\u0434\u044a\n",
        "\u0410\u041b\u0415\u041a\u0421\u0410\u041d\u0414\u0420\u041e\u0412\u0410 \u041f\u0423\u0421\u0422\u042b\u041d\u042f    \u0410\u041b\u0415\u041a\u0421\u0410\u041d\u0414\u0420\u041e\u0412\u0410 \u041f\u0423\u0421\u0422\u042b\u041d\u042f is a \u0441\u0435\u043b\u043e\n",
        "\u0410\u041b\u0415\u041a\u0421\u0410\u041d\u0414\u0420\u041e\u0412\u0421\u041a\u041e\u0415              \u0410\u041b\u0415\u041a\u0421\u0410\u041d\u0414\u0420\u041e\u0412\u0421\u041a\u041e\u0415 is a \u0441\u0435\u043b\u043e\n",
        "\u0410\u041b\u0415\u041a\u0421\u0418\u041d\u042a                          \u0410\u041b\u0415\u041a\u0421\u0418\u041d\u042a is a \u0433\u043e\u0440\u043e\u0434\u044a\n",
        "\u0410\u041b\u0415\u041a\u0421\u0462\u0415\u0412\u041a\u0410                     \u0410\u041b\u0415\u041a\u0421\u0462\u0415\u0412\u041a\u0410 is a \u0441\u043b\u043e\u0431\u043e\u0434\u0430\n",
        "\u0410\u041b\u0415\u041a\u0421\u0462\u0415\u0412\u0421\u041a\u0410\u042f                \u0410\u041b\u0415\u041a\u0421\u0462\u0415\u0412\u0421\u041a\u0410\u042f is a \u043a\u0440\u0463\u043f\u043e\u0441\u0442\u044c\n",
        "\u0410\u041b\u0415\u0428\u041d\u042f                             \u0410\u041b\u0415\u0428\u041d\u042f is a \u0441\u043b\u043e\u0431\u043e\u0434\u0430\n",
        "\u0410\u041d\u0410\u0415\u0412\u041e                                \u0410\u041d\u0410\u0415\u0412\u041e is a \u0441\u0435\u043b\u043e\n",
        "\u0410\u041d\u0414\u0420\u0415\u0415\u0412\u041a\u0410                       \u0410\u041d\u0414\u0420\u0415\u0415\u0412\u041a\u0410 is a \u0441\u043b\u043e\u0431\u043e\u0434\u0430\n",
        "...\n",
        "\u041a\u0410\u0420\u041e\u0427\u0410            \u041a\u0410\u0420\u041e\u0427\u0410  is a \u0433\u043e\u0440\u043e\u0434\u044a\n",
        "\u041a\u0410\u0420\u041f\u041e\u0412\u041a\u0410           \u041a\u0410\u0420\u041f\u041e\u0412\u041a\u0410 is a \u0441\u0435\u043b\u043e\n",
        "\u041a\u0410\u0421\u0418\u041c\u041e\u0412\u042a         \u041a\u0410\u0421\u0418\u041c\u041e\u0412\u042a is a \u0433\u043e\u0440\u043e\u0434\u044a\n",
        "\u041a\u0410\u0428\u0418\u041d\u042a            \u041a\u0410\u0428\u0418\u041d\u042a  is a \u0433\u043e\u0440\u043e\u0434\u044a\n",
        "\u041a\u0415\u041c\u0410\u0420\u042b               \u041a\u0415\u041c\u0410\u0420\u042b is a \u0441\u0435\u043b\u043e\n",
        "\u041a\u0415\u0420\u0415\u041d\u0421\u041a\u042a         \u041a\u0415\u0420\u0415\u041d\u0421\u041a\u042a is a \u0433\u043e\u0440\u043e\u0434\u044a\n",
        "\u041a\u0415\u0421\u041c\u0415                \u041a\u0415\u0421\u041c\u0415  is a \u0441\u0435\u043b\u043e\n",
        "\u041a\u0415\u0421\u041e\u0412\u0410 \u0413\u041e\u0420\u0410     \u041a\u0415\u0421\u041e\u0412\u0410 \u0413\u041e\u0420\u0410 is a \u0441\u0435\u043b\u043e\n",
        "\u041a\u0418\u0414\u0415\u0428\u041a\u0418\u041d\u041e        \u041a\u0418\u0414\u0415\u0428\u041a\u0418\u041d\u041e  is a \u0441\u0435\u043b\u043e\n",
        "\u041a\u0418\u041c\u0420\u042b                 \u041a\u0418\u041c\u0420\u042b is a \u0441\u0435\u043b\u043e\n",
        "\u041a\u0418\u041d\u0415\u0428\u041c\u0410           \u041a\u0418\u041d\u0415\u0428\u041c\u0410 is a \u0433\u043e\u0440\u043e\u0434\u044a\n",
        "\u041a\u0418\u0420\u0415\u041d\u0421\u041a\u042a         \u041a\u0418\u0420\u0415\u041d\u0421\u041a\u042a is a \u0433\u043e\u0440\u043e\u0434\u044a\n",
        "\u041a\u0418\u0420\u0418\u041b\u041e\u0412\u042a        \u041a\u0418\u0420\u0418\u041b\u041e\u0412\u042a  is a \u0433\u043e\u0440\u043e\u0434\u044a\n",
        "\u041a\u0418\u0420\u0418\u041b\u041e\u0415\u041e          \u041a\u0418\u0420\u0418\u041b\u041e\u0415\u041e  is a \u0441\u0435\u043b\u043e\n",
        "\u041a\u0418\u0422\u0410\u0419\u0421\u041a\u041e\u0419      \u041a\u0418\u0422\u0410\u0419\u0421\u041a\u041e\u0419 is a \u043e\u0441\u0442\u0440\u043e\u0433\u044a\n",
        "Length: 280, dtype: object\n"
       ]
      }
     ],
     "prompt_number": 32
    }
   ],
   "metadata": {}
  }
 ]
}