{
 "metadata": {
  "name": "",
  "signature": "sha256:4d2e558a88ee2cd9988cccd2136458e472952a97d5055820ef7e4e6a85b0ddda"
 },
 "nbformat": 3,
 "nbformat_minor": 0,
 "worksheets": [
  {
   "cells": [
    {
     "cell_type": "code",
     "collapsed": false,
     "input": [
      "uezd_stems = ['\u0434\u043e\u043d\u043a\u043e\u0432\u0441\u043a', '\u0432\u043e\u043b\u043e\u0433\u043e\u0434\u0441\u043a', '\u043d\u043e\u0442_\u0438\u043d_\u0442\u0435x\u0442', '\u0430\u0440\u0437\u0430\u043c\u0430\u0441\u043a', '\u0442\u0435\u043c\u043d\u0438\u043a\u043e\u0432\u0441\u043a', '\u044f\u0440\u043e\u0441\u043b\u0430\u0432\u0441\u043a', '\u043a\u0435\u0440\u0435\u043d\u0441\u043a', '\u0431\u0435\u043b\u043e\u0433\u043e\u0440\u043e\u0434\u0441\u043a', '\u0438\u0437\u044e\u043c\u0441\u043a', '\u0440\u043e\u0433\u0430\u0447\u0435\u0432\u0441\u043a', '\u0430\u043b\u0430\u0442\u044b\u0440\u044c\u0441\u043a', '\u0435\u043b\u0435\u0446\u043a', '\u0445\u0430\u0440\u044c\u043a\u043e\u0432\u0441\u043a', '\u0432\u0435\u043d\u0435\u0432\u0441\u043a', '\u0441\u0430\u0440\u0430\u043d\u0441\u043a', '\u0438\u0437\u044e\u043c\u043e\u0432\u0441\u043a', '\u043f\u0435\u0440\u0435\u044f\u0441\u043b\u0430\u0432\u0441\u043a', '\u043a\u0438\u0435\u0432\u0441\u043a', '\u043d\u0435\u0436\u0438\u043d\u0441\u043a', '\u043d\u043e\u0432\u043e\u0433\u043e\u0440\u043e\u0434\u0441\u043a\u043e\u0433\u043e - \u0441\u0435\u0432\u0435\u0440\u0441\u043a', '\u0441\u0430\u0440\u0430\u0442\u043e\u0432\u0441\u043a', '\u0447\u0443\u0445\u043b\u043e\u043c\u0441\u043a', '\u0432\u043e\u043b\u043e\u043a\u043e\u043b\u0430\u043c\u0441\u043a', '\u043a\u0430\u0448\u0438\u0440\u0441\u043a', '\u0434\u0438\u043d\u0430\u0431\u0443\u0440\u0433\u0441\u043a', '\u0447\u0435\u043b\u044f\u0431\u0438\u043d\u0441\u043a', '\u043c\u0438\u0440\u0433\u043e\u0440\u043e\u0434\u0441\u043a', '\u0430\u043b\u0435\u043a\u0441\u0438\u043d\u0441\u043a', '\u043d\u0438\u0436\u0435\u043b\u043e\u043c\u043e\u0432\u0441\u043a', '\u0441\u0443\u0437\u0434\u0430\u043b\u044c\u0441\u043a', '\u0437\u0443\u0431\u0446\u043e\u0432', '\u043c\u043e\u0436\u0430\u0439\u0441\u043a', '\u043f\u0435\u0442\u0440\u043e\u0432\u0441\u043a', '\u0430\u0445\u0442\u044b\u0440\u0441\u043a', '\u043a\u043e\u0437\u0435\u043b\u044c\u0441\u043a', '\u043d\u043e\u0432\u043e\u0433\u043e\u0440\u043e\u0434\u0441\u043a', '\u043f\u043e\u043b\u043e\u0442\u0430\u0432\u0441\u043a', '\u043d\u043e\u0432\u0433\u043e\u0440\u043e\u0434\u0441\u043a', '\u043b\u0443\u0431\u0435\u043d\u0441\u043a', '\u0435\u043f\u0438\u0444\u0430\u043d\u0441\u043a', '\u043f\u0438\u0440\u044f\u0442\u0438\u043d\u0441\u043a', '\u043f\u043e\u043b\u0442\u0430\u0432\u0441\u043a', '\u043f\u043e\u0448\u0435\u0445\u043e\u043d\u0441\u043a', '\u0431\u0435\u043b\u043e\u0437\u0435\u0440\u0441\u043a', '\u0432\u0430\u043b\u0443\u0435\u043a', '\u043f\u0440\u0438\u043b\u0443\u0446\u043a', '\u043c\u0435\u0437\u0435\u043d\u0441\u043a', '\u0440\u043e\u0441\u0442\u043e\u0432\u0441\u043a', '\u0442\u0443\u043b\u044c\u0441\u043a', '\u0433\u0430\u0434\u044f\u0446\u043a', '\u0433\u043e\u0440\u043e\u0445\u043e\u0432\u0441\u043a', '\u043f\u043e\u043b\u043e\u0442\u0441\u043a', '\u043a\u0430\u0448\u0438\u043d\u0441\u043a', '\u043a\u0438\u043d\u0435\u0448\u043c', '\u0432\u0435\u0440\u0435\u0439\u0441\u043a', '\u0440\u043e\u0433\u0430\u0447\u0435\u0432', '\u0431\u0435\u043b\u0438\u0446\u043a', '\u0441\u0438\u043d\u0431\u0438\u0440\u0441\u043a', '\u0448\u0430\u0442\u0441\u043a', '\u0430\u043b\u0435\u043a\u0441\u0438\u043d', '\u043b\u044e\u0431\u0438\u043c\u0441\u043a', '\u043e\u0441\u0442\u0440\u043e\u0432\u0441\u043a', '\u043e\u0440\u0448\u0430\u043d\u0441\u043a', '\u0431\u0435\u043b\u0435\u0432\u0441\u043a', '\u0441\u0442\u0430\u0440\u043e\u0434\u0443\u0431\u043e\u0432\u0441\u043a', '\u0447\u0435\u0440\u043d\u0438\u0433\u043e\u0432\u0441\u043a', '\u043f\u0441\u043a\u043e\u0432\u0441\u043a', '\u043a\u043e\u0437\u043b\u043e\u0432\u0441\u043a', '\u043a\u043e\u043b\u043e\u043c\u043d', '\u043e\u0441\u0442\u0440\u043e\u0432', '\u043a\u0430\u0441\u0438\u043c\u043e\u0432\u0441\u043a', '\u0431\u0435\u0436\u0435\u0446\u043a', '\u0441\u0442\u0430\u0440\u043e\u0431\u044b\u0445\u043e\u0432\u0441\u043a', '\u043d\u043e\u0432\u043e\u0441\u0438\u043b', '\u043a\u0438\u0440\u0435\u043d\u0441\u043a', '\u0438\u0437\u044e\u043c', '\u0441\u043e\u0441\u043d\u0438\u0446\u043a', '\u043d\u0435\u0436\u0438\u043d', '\u0437\u0432\u0435\u043d\u0438\u0433\u043e\u0440\u043e\u0434\u0441\u043a', '\u043a\u043e\u0440\u043e\u0447\u0435\u043d\u0441\u043a', '\u0430\u0440\u0441\u0430\u043c\u0430\u0437\u0441\u043a', '\u0434\u0438\u043d\u0430\u0431\u0443\u0440\u0433', '\u0440\u0443\u0437\u0441\u043a', '\u043c\u0441\u0442\u0438\u0441\u043b\u0430\u0432\u0441\u043a', '\u0442\u0432\u0435\u0440\u0441\u043a', '\u044e\u0440\u044c\u0435\u0432\u0446', '\u0440\u044f\u0437\u0430\u043d\u0441\u043a', '\u0435\u043a\u0430\u0442\u0435\u0440\u0438\u043d\u043e\u0441\u043b\u0430\u0432\u0441\u043a', '\u043a\u043e\u043b\u043e\u043c\u0435\u043d\u0441\u043a', '\u0441\u0432\u0438\u0430\u0436\u0441\u043a', '\u0433\u043e\u0440\u043e\u0445\u043e\u0432\u0435\u0446\u043a', '\u0434\u043c\u0438\u0442\u0440\u043e\u0432\u0441\u043a', '\u0448\u0430\u0446\u043a', '\u043a\u0443\u0440\u0441\u043a', '\u043a\u043b\u0438\u043c\u043e\u0432\u0438\u0446\u043a', '\u0430\u0445\u0442\u044b\u0440\u043a', '\u043d\u0430\u0440\u043e\u0432\u0447\u0430\u0442\u043e\u0432\u0441\u043a', '\u043b\u0435\u0431\u0435\u0434\u044f\u043d', '\u043b\u0438\u0432\u0435\u043d\u0441\u043a', '\u043a\u043e\u0441\u0442\u0440\u043e\u043c\u0441\u043a', '\u0447\u0435\u0440\u0438\u043a\u043e\u0432\u0441\u043a', '\u043c\u0438\u0440\u043e\u043f\u043e\u043b', '\u044f\u0440\u0435\u043d\u0441\u043a', '\u0432\u0435\u0440\u0445\u043d\u0435\u0443\u0434\u0438\u0432\u0441\u043a', '\u0437\u0430\u0440\u0430\u0439\u0441\u043a', '\u0432\u0435\u043b\u0438\u043a\u043e\u043b\u0443\u0446\u043a', '\u0432\u044b\u0431\u043e\u0440\u0433\u0441\u043a', '\u0445\u0430\u0440\u044c\u043a\u043e\u0432', '\u043a\u043e\u0437\u043b\u043e\u0432', '\u0431\u0430\u0431\u0438\u043d\u043e\u0432\u0435\u0446\u043a', '\u043a\u0440\u0430\u0441\u043d\u043e\u0441\u043b\u043e\u0431\u043e\u0434\u0441\u043a', '\u0432\u044b\u0442\u0435\u0433\u0440', '\u043b\u0435\u0431\u0435\u0434\u0438\u043d', '\u0435\u043a\u0430\u0442\u0435\u0440\u0438\u043d\u0431\u0443\u0440\u0433\u0441\u043a', '\u0441\u0430\u043f\u043e\u0436\u043a', '\u0434\u0435\u0440\u043f\u0442\u0441\u043a', '\u043a\u0430\u0440\u0430\u0447\u0435\u0432', '\u043a\u043e\u0440\u043e\u0442\u043e\u044f\u043a\u0441\u043a', '\u0441\u0435\u043d', '\u0431\u043e\u0433\u043e\u0440\u043e\u0434\u0441\u043a', '\u043a\u043e\u0437\u044c\u043c\u043e\u0434\u0435\u043c\u044c\u044f\u043d\u0441\u043a', '\u0440\u0443\u0437', '\u0448\u0443', '\u0432\u043e\u0441\u043a\u0440\u0435\u0441\u0435\u043d\u0441\u043a', '\u043b\u044e\u0431\u0435\u043d\u0441\u043a', '\u0435\u0444\u0440\u0435\u043c\u043e\u0432', '\u0431\u043e\u0440\u043e\u0432\u0441\u043a', '\u043e\u043b\u043e\u043d\u0435\u0446\u043a', '\u043e\u043f\u043e\u0447\u0435\u043a', '\u0446\u0430\u0440\u0435\u0432\u043e\u043a\u043e\u043a\u0448\u0430\u0439\u0441\u043a', '\u044e\u0440\u044c\u0435\u0432\u0430-\u043f\u043e\u043b\u044c\u0441\u043a', '\u043f\u043e\u0440\u0445\u043e\u0432', '\u0440\u043e\u043c\u0435\u043d\u0441\u043a', '\u043a\u0443\u0440\u043c\u044b\u0448\u0441\u043a', '\u0441\u0443\u043c\u0441\u043a', '\u0432\u0430\u0433', '\u0437\u0443\u0431\u0446\u043e\u0432\u0441\u043a', '\u043a\u0430\u0440\u0430\u0447\u0435\u0432\u0441\u043a', '\u043a\u0430\u043b\u0443\u0436\u0441\u043a', '\u043b\u0443\u0445\u043e\u0432\u0441\u043a', '\u043a\u0430\u0440\u043f\u043e\u0432', '\u0446\u0430\u0440\u0435\u0432\u043e\u0441\u0430\u043d\u0447\u0443\u0440\u0441\u043a', '\u0440\u0438\u0436\u0441\u043a', '\u0432\u043e\u043b\u043e\u0434\u0438\u043c\u0435\u0440\u0441\u043a', '\u0434\u043e\u043d\u043a\u043e\u0432', '\u043d\u0435\u0440\u0447\u0438\u043d\u0441\u043a', '\u0441\u0442\u0430\u0440', '\u043c\u043e\u0433\u0438\u043b\u0435\u0432\u0441\u043a', '\u043f\u043e\u0432\u0435\u043d\u0435\u0446\u043a', '\u0438\u043d\u0441\u0430\u0440\u0441\u043a']"
     ],
     "language": "python",
     "metadata": {},
     "outputs": [],
     "prompt_number": 1
    },
    {
     "cell_type": "code",
     "collapsed": false,
     "input": [
      "import pandas as pd"
     ],
     "language": "python",
     "metadata": {},
     "outputs": [],
     "prompt_number": 2
    },
    {
     "cell_type": "code",
     "collapsed": false,
     "input": [
      "dataset = pd.DataFrame.from_csv(\"output/hgr_dataset.csv\")"
     ],
     "language": "python",
     "metadata": {},
     "outputs": [],
     "prompt_number": 4
    },
    {
     "cell_type": "code",
     "collapsed": false,
     "input": [
      "uezd = dataset[dataset.admin_level=='adminL2']"
     ],
     "language": "python",
     "metadata": {},
     "outputs": [],
     "prompt_number": 6
    },
    {
     "cell_type": "code",
     "collapsed": false,
     "input": [
      "uezd['new_orth_lower'] = uezd.ru_new_orth.str.lower()"
     ],
     "language": "python",
     "metadata": {},
     "outputs": [
      {
       "output_type": "stream",
       "stream": "stderr",
       "text": [
        "-c:1: SettingWithCopyWarning: A value is trying to be set on a copy of a slice from a DataFrame.\n",
        "Try using .loc[row_index,col_indexer] = value instead\n"
       ]
      }
     ],
     "prompt_number": 12
    },
    {
     "cell_type": "code",
     "collapsed": false,
     "input": [
      "uezd_lookup = {}\n",
      "for s in uezd_stems:\n",
      "    uezd_lookup[s] = {}\n",
      "    uezd_lookup[s]['poss'] = uezd[uezd.new_orth_lower.str.contains(s)].index.tolist()"
     ],
     "language": "python",
     "metadata": {},
     "outputs": [],
     "prompt_number": 17
    },
    {
     "cell_type": "code",
     "collapsed": false,
     "input": [
      "for i in uezd_lookup:\n",
      "    if len(uezd_lookup[i]['poss'])>1:\n",
      "        print(i,uezd_lookup[i])\n",
      "    elif len(uezd_lookup[i]['poss'])==0:\n",
      "        print(i,uezd_lookup[i])\n",
      "    else:\n",
      "        uezd_lookup[i]['id'] = uezd_lookup[i]['poss'][0]"
     ],
     "language": "python",
     "metadata": {},
     "outputs": [
      {
       "output_type": "stream",
       "stream": "stdout",
       "text": [
        "\u0430\u043b\u0435\u043a\u0441\u0438\u043d\u0441\u043a {'poss': []}\n",
        "\u043d\u043e\u0432\u0433\u043e\u0440\u043e\u0434\u0441\u043a {'poss': []}\n",
        "\u0433\u0430\u0434\u044f\u0446\u043a {'poss': []}\n",
        "\u0432\u043e\u043b\u043e\u0434\u0438\u043c\u0435\u0440\u0441\u043a {'poss': []}\n",
        "\u0432\u0435\u0440\u0445\u043d\u0435\u0443\u0434\u0438\u0432\u0441\u043a {'poss': []}\n",
        "\u0441\u0438\u043d\u0431\u0438\u0440\u0441\u043a {'poss': [71, 146]}\n",
        "\u0441\u0442\u0430\u0440 {'poss': [148, 149, 302, 328]}\n",
        "\u0448\u0430\u0446\u043a {'poss': []}\n",
        "\u0433\u043e\u0440\u043e\u0445\u043e\u0432\u0441\u043a {'poss': []}\n",
        "\u043b\u044e\u0431\u0435\u043d\u0441\u043a {'poss': []}\n",
        "\u043a\u0430\u0440\u043f\u043e\u0432 {'poss': []}\n",
        "\u0432\u0430\u0433 {'poss': []}\n",
        "\u043f\u043e\u043b\u0442\u0430\u0432\u0441\u043a {'poss': []}\n",
        "\u043f\u0440\u0438\u043b\u0443\u0446\u043a {'poss': []}\n",
        "\u043a\u043e\u043b\u043e\u043c\u043d {'poss': []}\n",
        "\u044e\u0440\u044c\u0435\u0432\u0446 {'poss': []}\n",
        "\u043d\u043e\u0432\u043e\u0433\u043e\u0440\u043e\u0434\u0441\u043a\u043e\u0433\u043e - \u0441\u0435\u0432\u0435\u0440\u0441\u043a {'poss': []}\n",
        "\u043d\u043e\u0442_\u0438\u043d_\u0442\u0435x\u0442 {'poss': []}\n",
        "\u043a\u043e\u0440\u043e\u0447\u0435\u043d\u0441\u043a {'poss': []}\n",
        "\u0441\u043e\u0441\u043d\u0438\u0446\u043a {'poss': []}\n",
        "\u0441\u0435\u043d {'poss': [205, 208]}\n",
        "\u043f\u0435\u0442\u0440\u043e\u0432\u0441\u043a {'poss': [136, 242]}\n",
        "\u0430\u0440\u0441\u0430\u043c\u0430\u0437\u0441\u043a {'poss': []}\n",
        "\u0432\u044b\u0442\u0435\u0433\u0440 {'poss': []}\n",
        "\u0447\u0435\u0440\u043d\u0438\u0433\u043e\u0432\u0441\u043a {'poss': [79, 154]}\n",
        "\u0438\u0437\u044e\u043c\u043e\u0432\u0441\u043a {'poss': []}\n",
        "\u043e\u043f\u043e\u0447\u0435\u043a {'poss': []}\n",
        "\u0430\u0445\u0442\u044b\u0440\u043a {'poss': []}\n",
        "\u0440\u043e\u043c\u0435\u043d\u0441\u043a {'poss': [223, 281]}\n",
        "\u0440\u044f\u0437\u0430\u043d\u0441\u043a {'poss': []}\n",
        "\u043e\u0440\u0448\u0430\u043d\u0441\u043a {'poss': [133, 231]}\n",
        "\u0432\u0430\u043b\u0443\u0435\u043a {'poss': []}\n",
        "\u0432\u0435\u0440\u0435\u0439\u0441\u043a {'poss': []}\n",
        "\u043a\u0438\u043d\u0435\u0448\u043c {'poss': []}\n",
        "\u0433\u043e\u0440\u043e\u0445\u043e\u0432\u0435\u0446\u043a {'poss': []}\n"
       ]
      }
     ],
     "prompt_number": 26
    },
    {
     "cell_type": "code",
     "collapsed": false,
     "input": [
      "import json"
     ],
     "language": "python",
     "metadata": {},
     "outputs": [],
     "prompt_number": 27
    },
    {
     "cell_type": "code",
     "collapsed": false,
     "input": [
      "with open(\"resources/admin_lookup.json\",\"w\") as fp:\n",
      "    json.dump(uezd_lookup,fp)"
     ],
     "language": "python",
     "metadata": {},
     "outputs": [
      {
       "ename": "TypeError",
       "evalue": "116 is not JSON serializable",
       "output_type": "pyerr",
       "traceback": [
        "\u001b[1;31m---------------------------------------------------------------------------\u001b[0m\n\u001b[1;31mTypeError\u001b[0m                                 Traceback (most recent call last)",
        "\u001b[1;32m<ipython-input-29-5aa3d6222cc5>\u001b[0m in \u001b[0;36m<module>\u001b[1;34m()\u001b[0m\n\u001b[0;32m      1\u001b[0m \u001b[1;32mwith\u001b[0m \u001b[0mopen\u001b[0m\u001b[1;33m(\u001b[0m\u001b[1;34m\"resources/admin_lookup.json\"\u001b[0m\u001b[1;33m,\u001b[0m\u001b[1;34m\"w\"\u001b[0m\u001b[1;33m)\u001b[0m \u001b[1;32mas\u001b[0m \u001b[0mfp\u001b[0m\u001b[1;33m:\u001b[0m\u001b[1;33m\u001b[0m\u001b[0m\n\u001b[1;32m----> 2\u001b[1;33m     \u001b[0mjson\u001b[0m\u001b[1;33m.\u001b[0m\u001b[0mdump\u001b[0m\u001b[1;33m(\u001b[0m\u001b[0muezd_lookup\u001b[0m\u001b[1;33m,\u001b[0m\u001b[0mfp\u001b[0m\u001b[1;33m)\u001b[0m\u001b[1;33m\u001b[0m\u001b[0m\n\u001b[0m",
        "\u001b[1;32m/home/jeremy/anaconda3/lib/python3.4/json/__init__.py\u001b[0m in \u001b[0;36mdump\u001b[1;34m(obj, fp, skipkeys, ensure_ascii, check_circular, allow_nan, cls, indent, separators, default, sort_keys, **kw)\u001b[0m\n\u001b[0;32m    176\u001b[0m     \u001b[1;31m# could accelerate with writelines in some versions of Python, at\u001b[0m\u001b[1;33m\u001b[0m\u001b[1;33m\u001b[0m\u001b[0m\n\u001b[0;32m    177\u001b[0m     \u001b[1;31m# a debuggability cost\u001b[0m\u001b[1;33m\u001b[0m\u001b[1;33m\u001b[0m\u001b[0m\n\u001b[1;32m--> 178\u001b[1;33m     \u001b[1;32mfor\u001b[0m \u001b[0mchunk\u001b[0m \u001b[1;32min\u001b[0m \u001b[0miterable\u001b[0m\u001b[1;33m:\u001b[0m\u001b[1;33m\u001b[0m\u001b[0m\n\u001b[0m\u001b[0;32m    179\u001b[0m         \u001b[0mfp\u001b[0m\u001b[1;33m.\u001b[0m\u001b[0mwrite\u001b[0m\u001b[1;33m(\u001b[0m\u001b[0mchunk\u001b[0m\u001b[1;33m)\u001b[0m\u001b[1;33m\u001b[0m\u001b[0m\n\u001b[0;32m    180\u001b[0m \u001b[1;33m\u001b[0m\u001b[0m\n",
        "\u001b[1;32m/home/jeremy/anaconda3/lib/python3.4/json/encoder.py\u001b[0m in \u001b[0;36m_iterencode\u001b[1;34m(o, _current_indent_level)\u001b[0m\n\u001b[0;32m    420\u001b[0m             \u001b[1;32myield\u001b[0m \u001b[1;32mfrom\u001b[0m \u001b[0m_iterencode_list\u001b[0m\u001b[1;33m(\u001b[0m\u001b[0mo\u001b[0m\u001b[1;33m,\u001b[0m \u001b[0m_current_indent_level\u001b[0m\u001b[1;33m)\u001b[0m\u001b[1;33m\u001b[0m\u001b[0m\n\u001b[0;32m    421\u001b[0m         \u001b[1;32melif\u001b[0m \u001b[0misinstance\u001b[0m\u001b[1;33m(\u001b[0m\u001b[0mo\u001b[0m\u001b[1;33m,\u001b[0m \u001b[0mdict\u001b[0m\u001b[1;33m)\u001b[0m\u001b[1;33m:\u001b[0m\u001b[1;33m\u001b[0m\u001b[0m\n\u001b[1;32m--> 422\u001b[1;33m             \u001b[1;32myield\u001b[0m \u001b[1;32mfrom\u001b[0m \u001b[0m_iterencode_dict\u001b[0m\u001b[1;33m(\u001b[0m\u001b[0mo\u001b[0m\u001b[1;33m,\u001b[0m \u001b[0m_current_indent_level\u001b[0m\u001b[1;33m)\u001b[0m\u001b[1;33m\u001b[0m\u001b[0m\n\u001b[0m\u001b[0;32m    423\u001b[0m         \u001b[1;32melse\u001b[0m\u001b[1;33m:\u001b[0m\u001b[1;33m\u001b[0m\u001b[0m\n\u001b[0;32m    424\u001b[0m             \u001b[1;32mif\u001b[0m \u001b[0mmarkers\u001b[0m \u001b[1;32mis\u001b[0m \u001b[1;32mnot\u001b[0m \u001b[1;32mNone\u001b[0m\u001b[1;33m:\u001b[0m\u001b[1;33m\u001b[0m\u001b[0m\n",
        "\u001b[1;32m/home/jeremy/anaconda3/lib/python3.4/json/encoder.py\u001b[0m in \u001b[0;36m_iterencode_dict\u001b[1;34m(dct, _current_indent_level)\u001b[0m\n\u001b[0;32m    394\u001b[0m                 \u001b[1;32melse\u001b[0m\u001b[1;33m:\u001b[0m\u001b[1;33m\u001b[0m\u001b[0m\n\u001b[0;32m    395\u001b[0m                     \u001b[0mchunks\u001b[0m \u001b[1;33m=\u001b[0m \u001b[0m_iterencode\u001b[0m\u001b[1;33m(\u001b[0m\u001b[0mvalue\u001b[0m\u001b[1;33m,\u001b[0m \u001b[0m_current_indent_level\u001b[0m\u001b[1;33m)\u001b[0m\u001b[1;33m\u001b[0m\u001b[0m\n\u001b[1;32m--> 396\u001b[1;33m                 \u001b[1;32myield\u001b[0m \u001b[1;32mfrom\u001b[0m \u001b[0mchunks\u001b[0m\u001b[1;33m\u001b[0m\u001b[0m\n\u001b[0m\u001b[0;32m    397\u001b[0m         \u001b[1;32mif\u001b[0m \u001b[0mnewline_indent\u001b[0m \u001b[1;32mis\u001b[0m \u001b[1;32mnot\u001b[0m \u001b[1;32mNone\u001b[0m\u001b[1;33m:\u001b[0m\u001b[1;33m\u001b[0m\u001b[0m\n\u001b[0;32m    398\u001b[0m             \u001b[0m_current_indent_level\u001b[0m \u001b[1;33m-=\u001b[0m \u001b[1;36m1\u001b[0m\u001b[1;33m\u001b[0m\u001b[0m\n",
        "\u001b[1;32m/home/jeremy/anaconda3/lib/python3.4/json/encoder.py\u001b[0m in \u001b[0;36m_iterencode_dict\u001b[1;34m(dct, _current_indent_level)\u001b[0m\n\u001b[0;32m    394\u001b[0m                 \u001b[1;32melse\u001b[0m\u001b[1;33m:\u001b[0m\u001b[1;33m\u001b[0m\u001b[0m\n\u001b[0;32m    395\u001b[0m                     \u001b[0mchunks\u001b[0m \u001b[1;33m=\u001b[0m \u001b[0m_iterencode\u001b[0m\u001b[1;33m(\u001b[0m\u001b[0mvalue\u001b[0m\u001b[1;33m,\u001b[0m \u001b[0m_current_indent_level\u001b[0m\u001b[1;33m)\u001b[0m\u001b[1;33m\u001b[0m\u001b[0m\n\u001b[1;32m--> 396\u001b[1;33m                 \u001b[1;32myield\u001b[0m \u001b[1;32mfrom\u001b[0m \u001b[0mchunks\u001b[0m\u001b[1;33m\u001b[0m\u001b[0m\n\u001b[0m\u001b[0;32m    397\u001b[0m         \u001b[1;32mif\u001b[0m \u001b[0mnewline_indent\u001b[0m \u001b[1;32mis\u001b[0m \u001b[1;32mnot\u001b[0m \u001b[1;32mNone\u001b[0m\u001b[1;33m:\u001b[0m\u001b[1;33m\u001b[0m\u001b[0m\n\u001b[0;32m    398\u001b[0m             \u001b[0m_current_indent_level\u001b[0m \u001b[1;33m-=\u001b[0m \u001b[1;36m1\u001b[0m\u001b[1;33m\u001b[0m\u001b[0m\n",
        "\u001b[1;32m/home/jeremy/anaconda3/lib/python3.4/json/encoder.py\u001b[0m in \u001b[0;36m_iterencode_list\u001b[1;34m(lst, _current_indent_level)\u001b[0m\n\u001b[0;32m    315\u001b[0m                 \u001b[1;32melse\u001b[0m\u001b[1;33m:\u001b[0m\u001b[1;33m\u001b[0m\u001b[0m\n\u001b[0;32m    316\u001b[0m                     \u001b[0mchunks\u001b[0m \u001b[1;33m=\u001b[0m \u001b[0m_iterencode\u001b[0m\u001b[1;33m(\u001b[0m\u001b[0mvalue\u001b[0m\u001b[1;33m,\u001b[0m \u001b[0m_current_indent_level\u001b[0m\u001b[1;33m)\u001b[0m\u001b[1;33m\u001b[0m\u001b[0m\n\u001b[1;32m--> 317\u001b[1;33m                 \u001b[1;32myield\u001b[0m \u001b[1;32mfrom\u001b[0m \u001b[0mchunks\u001b[0m\u001b[1;33m\u001b[0m\u001b[0m\n\u001b[0m\u001b[0;32m    318\u001b[0m         \u001b[1;32mif\u001b[0m \u001b[0mnewline_indent\u001b[0m \u001b[1;32mis\u001b[0m \u001b[1;32mnot\u001b[0m \u001b[1;32mNone\u001b[0m\u001b[1;33m:\u001b[0m\u001b[1;33m\u001b[0m\u001b[0m\n\u001b[0;32m    319\u001b[0m             \u001b[0m_current_indent_level\u001b[0m \u001b[1;33m-=\u001b[0m \u001b[1;36m1\u001b[0m\u001b[1;33m\u001b[0m\u001b[0m\n",
        "\u001b[1;32m/home/jeremy/anaconda3/lib/python3.4/json/encoder.py\u001b[0m in \u001b[0;36m_iterencode\u001b[1;34m(o, _current_indent_level)\u001b[0m\n\u001b[0;32m    427\u001b[0m                     \u001b[1;32mraise\u001b[0m \u001b[0mValueError\u001b[0m\u001b[1;33m(\u001b[0m\u001b[1;34m\"Circular reference detected\"\u001b[0m\u001b[1;33m)\u001b[0m\u001b[1;33m\u001b[0m\u001b[0m\n\u001b[0;32m    428\u001b[0m                 \u001b[0mmarkers\u001b[0m\u001b[1;33m[\u001b[0m\u001b[0mmarkerid\u001b[0m\u001b[1;33m]\u001b[0m \u001b[1;33m=\u001b[0m \u001b[0mo\u001b[0m\u001b[1;33m\u001b[0m\u001b[0m\n\u001b[1;32m--> 429\u001b[1;33m             \u001b[0mo\u001b[0m \u001b[1;33m=\u001b[0m \u001b[0m_default\u001b[0m\u001b[1;33m(\u001b[0m\u001b[0mo\u001b[0m\u001b[1;33m)\u001b[0m\u001b[1;33m\u001b[0m\u001b[0m\n\u001b[0m\u001b[0;32m    430\u001b[0m             \u001b[1;32myield\u001b[0m \u001b[1;32mfrom\u001b[0m \u001b[0m_iterencode\u001b[0m\u001b[1;33m(\u001b[0m\u001b[0mo\u001b[0m\u001b[1;33m,\u001b[0m \u001b[0m_current_indent_level\u001b[0m\u001b[1;33m)\u001b[0m\u001b[1;33m\u001b[0m\u001b[0m\n\u001b[0;32m    431\u001b[0m             \u001b[1;32mif\u001b[0m \u001b[0mmarkers\u001b[0m \u001b[1;32mis\u001b[0m \u001b[1;32mnot\u001b[0m \u001b[1;32mNone\u001b[0m\u001b[1;33m:\u001b[0m\u001b[1;33m\u001b[0m\u001b[0m\n",
        "\u001b[1;32m/home/jeremy/anaconda3/lib/python3.4/json/encoder.py\u001b[0m in \u001b[0;36mdefault\u001b[1;34m(self, o)\u001b[0m\n\u001b[0;32m    171\u001b[0m \u001b[1;33m\u001b[0m\u001b[0m\n\u001b[0;32m    172\u001b[0m         \"\"\"\n\u001b[1;32m--> 173\u001b[1;33m         \u001b[1;32mraise\u001b[0m \u001b[0mTypeError\u001b[0m\u001b[1;33m(\u001b[0m\u001b[0mrepr\u001b[0m\u001b[1;33m(\u001b[0m\u001b[0mo\u001b[0m\u001b[1;33m)\u001b[0m \u001b[1;33m+\u001b[0m \u001b[1;34m\" is not JSON serializable\"\u001b[0m\u001b[1;33m)\u001b[0m\u001b[1;33m\u001b[0m\u001b[0m\n\u001b[0m\u001b[0;32m    174\u001b[0m \u001b[1;33m\u001b[0m\u001b[0m\n\u001b[0;32m    175\u001b[0m     \u001b[1;32mdef\u001b[0m \u001b[0mencode\u001b[0m\u001b[1;33m(\u001b[0m\u001b[0mself\u001b[0m\u001b[1;33m,\u001b[0m \u001b[0mo\u001b[0m\u001b[1;33m)\u001b[0m\u001b[1;33m:\u001b[0m\u001b[1;33m\u001b[0m\u001b[0m\n",
        "\u001b[1;31mTypeError\u001b[0m: 116 is not JSON serializable"
       ]
      }
     ],
     "prompt_number": 29
    },
    {
     "cell_type": "code",
     "collapsed": false,
     "input": [
      "uezd_lookup"
     ],
     "language": "python",
     "metadata": {},
     "outputs": [
      {
       "metadata": {},
       "output_type": "pyout",
       "prompt_number": 30,
       "text": [
        "{'\u0430\u043b\u0435\u043a\u0441\u0438\u043d\u0441\u043a': {'poss': []},\n",
        " '\u043a\u043e\u0437\u043b\u043e\u0432\u0441\u043a': {'poss': [116], 'id': 116},\n",
        " '\u0448\u0443': {'poss': [222], 'id': 222},\n",
        " '\u043a\u043e\u0440\u043e\u0442\u043e\u044f\u043a\u0441\u043a': {'poss': [204], 'id': 204},\n",
        " '\u0442\u0435\u043c\u043d\u0438\u043a\u043e\u0432\u0441\u043a': {'poss': [151], 'id': 151},\n",
        " '\u043d\u043e\u0432\u0433\u043e\u0440\u043e\u0434\u0441\u043a': {'poss': []},\n",
        " '\u0430\u0445\u0442\u044b\u0440\u0441\u043a': {'poss': [84], 'id': 84},\n",
        " '\u0447\u0435\u0440\u0438\u043a\u043e\u0432\u0441\u043a': {'poss': [153], 'id': 153},\n",
        " '\u0446\u0430\u0440\u0435\u0432\u043e\u043a\u043e\u043a\u0448\u0430\u0439\u0441\u043a': {'poss': [212], 'id': 212},\n",
        " '\u0434\u0435\u0440\u043f\u0442\u0441\u043a': {'poss': [202], 'id': 202},\n",
        " '\u043d\u043e\u0432\u043e\u0433\u043e\u0440\u043e\u0434\u0441\u043a': {'poss': [59], 'id': 59},\n",
        " '\u0433\u0430\u0434\u044f\u0446\u043a': {'poss': []},\n",
        " '\u0438\u0437\u044e\u043c\u0441\u043a': {'poss': [107], 'id': 107},\n",
        " '\u0432\u043e\u043b\u043e\u0434\u0438\u043c\u0435\u0440\u0441\u043a': {'poss': []},\n",
        " '\u0442\u0443\u043b\u044c\u0441\u043a': {'poss': [76], 'id': 76},\n",
        " '\u043b\u0438\u0432\u0435\u043d\u0441\u043a': {'poss': [121], 'id': 121},\n",
        " '\u0431\u0435\u043b\u043e\u0437\u0435\u0440\u0441\u043a': {'poss': [90], 'id': 90},\n",
        " '\u0435\u043a\u0430\u0442\u0435\u0440\u0438\u043d\u0431\u0443\u0440\u0433\u0441\u043a': {'poss': [200], 'id': 200},\n",
        " '\u0432\u0435\u0440\u0445\u043d\u0435\u0443\u0434\u0438\u0432\u0441\u043a': {'poss': []},\n",
        " '\u043f\u043e\u0432\u0435\u043d\u0435\u0446\u043a': {'poss': [220], 'id': 220},\n",
        " '\u043a\u0443\u0440\u043c\u044b\u0448\u0441\u043a': {'poss': [215], 'id': 215},\n",
        " '\u043d\u0430\u0440\u043e\u0432\u0447\u0430\u0442\u043e\u0432\u0441\u043a': {'poss': [129], 'id': 129},\n",
        " '\u043a\u0438\u0435\u0432\u0441\u043a': {'poss': [54], 'id': 54},\n",
        " '\u0440\u0443\u0437': {'poss': [143], 'id': 143},\n",
        " '\u043e\u0441\u0442\u0440\u043e\u0432': {'poss': [134], 'id': 134},\n",
        " '\u043d\u043e\u0432\u043e\u0441\u0438\u043b': {'poss': [131], 'id': 131},\n",
        " '\u0438\u0437\u044e\u043c': {'poss': [107], 'id': 107},\n",
        " '\u0430\u043b\u0435\u043a\u0441\u0438\u043d': {'poss': [82], 'id': 82},\n",
        " '\u0441\u0442\u0430\u0440\u043e\u0431\u044b\u0445\u043e\u0432\u0441\u043a': {'poss': [148], 'id': 148},\n",
        " '\u043a\u043e\u0437\u044c\u043c\u043e\u0434\u0435\u043c\u044c\u044f\u043d\u0441\u043a': {'poss': [207], 'id': 207},\n",
        " '\u043f\u0441\u043a\u043e\u0432\u0441\u043a': {'poss': [66], 'id': 66},\n",
        " '\u0434\u043c\u0438\u0442\u0440\u043e\u0432\u0441\u043a': {'poss': [100], 'id': 100},\n",
        " '\u0440\u0438\u0436\u0441\u043a': {'poss': [68], 'id': 68},\n",
        " '\u0440\u0443\u0437\u0441\u043a': {'poss': [143], 'id': 143},\n",
        " '\u0432\u0435\u043d\u0435\u0432\u0441\u043a': {'poss': [93], 'id': 93},\n",
        " '\u0437\u0443\u0431\u0446\u043e\u0432\u0441\u043a': {'poss': [106], 'id': 106},\n",
        " '\u043d\u0435\u0440\u0447\u0438\u043d\u0441\u043a': {'poss': [219], 'id': 219},\n",
        " '\u0441\u0438\u043d\u0431\u0438\u0440\u0441\u043a': {'poss': [71, 146]},\n",
        " '\u0441\u0442\u0430\u0440': {'poss': [148, 149, 302, 328]},\n",
        " '\u0440\u043e\u0433\u0430\u0447\u0435\u0432': {'poss': [141], 'id': 141},\n",
        " '\u043a\u0430\u0448\u0438\u043d\u0441\u043a': {'poss': [109], 'id': 109},\n",
        " '\u0448\u0430\u0446\u043a': {'poss': []},\n",
        " '\u0434\u0438\u043d\u0430\u0431\u0443\u0440\u0433\u0441\u043a': {'poss': [99], 'id': 99},\n",
        " '\u0433\u043e\u0440\u043e\u0445\u043e\u0432\u0441\u043a': {'poss': []},\n",
        " '\u0437\u0443\u0431\u0446\u043e\u0432': {'poss': [106], 'id': 106},\n",
        " '\u0446\u0430\u0440\u0435\u0432\u043e\u0441\u0430\u043d\u0447\u0443\u0440\u0441\u043a': {'poss': [218], 'id': 218},\n",
        " '\u043b\u044e\u0431\u0435\u043d\u0441\u043a': {'poss': []},\n",
        " '\u043a\u0435\u0440\u0435\u043d\u0441\u043a': {'poss': [111], 'id': 111},\n",
        " '\u0431\u0435\u043b\u0438\u0446\u043a': {'poss': [88], 'id': 88},\n",
        " '\u043c\u043e\u0433\u0438\u043b\u0435\u0432\u0441\u043a': {'poss': [57], 'id': 57},\n",
        " '\u043a\u0430\u0440\u043f\u043e\u0432': {'poss': []},\n",
        " '\u0432\u0430\u0433': {'poss': []},\n",
        " '\u043c\u043e\u0436\u0430\u0439\u0441\u043a': {'poss': [127], 'id': 127},\n",
        " '\u043f\u043e\u043b\u0442\u0430\u0432\u0441\u043a': {'poss': []},\n",
        " '\u0448\u0430\u0442\u0441\u043a': {'poss': [156], 'id': 156},\n",
        " '\u0440\u043e\u0433\u0430\u0447\u0435\u0432\u0441\u043a': {'poss': [141], 'id': 141},\n",
        " '\u043f\u0440\u0438\u043b\u0443\u0446\u043a': {'poss': []},\n",
        " '\u043e\u043b\u043e\u043d\u0435\u0446\u043a': {'poss': [61], 'id': 61},\n",
        " '\u0432\u043e\u043b\u043e\u0433\u043e\u0434\u0441\u043a': {'poss': [45], 'id': 45},\n",
        " '\u043d\u0435\u0436\u0438\u043d': {'poss': [132], 'id': 132},\n",
        " '\u0441\u0432\u0438\u0430\u0436\u0441\u043a': {'poss': [145], 'id': 145},\n",
        " '\u0430\u0440\u0437\u0430\u043c\u0430\u0441\u043a': {'poss': [83], 'id': 83},\n",
        " '\u043a\u043e\u043b\u043e\u043c\u043d': {'poss': []},\n",
        " '\u0441\u0430\u0440\u0430\u043d\u0441\u043a': {'poss': [144], 'id': 144},\n",
        " '\u043a\u043e\u043b\u043e\u043c\u0435\u043d\u0441\u043a': {'poss': [117], 'id': 117},\n",
        " '\u0447\u0435\u043b\u044f\u0431\u0438\u043d\u0441\u043a': {'poss': [152], 'id': 152},\n",
        " '\u044e\u0440\u044c\u0435\u0432\u0446': {'poss': []},\n",
        " '\u043a\u0430\u0448\u0438\u0440\u0441\u043a': {'poss': [110], 'id': 110},\n",
        " '\u0434\u043e\u043d\u043a\u043e\u0432': {'poss': [101], 'id': 101},\n",
        " '\u043d\u043e\u0432\u043e\u0433\u043e\u0440\u043e\u0434\u0441\u043a\u043e\u0433\u043e - \u0441\u0435\u0432\u0435\u0440\u0441\u043a': {'poss': []},\n",
        " '\u043a\u0440\u0430\u0441\u043d\u043e\u0441\u043b\u043e\u0431\u043e\u0434\u0441\u043a': {'poss': [119], 'id': 119},\n",
        " '\u0447\u0443\u0445\u043b\u043e\u043c\u0441\u043a': {'poss': [155], 'id': 155},\n",
        " '\u043d\u043e\u0442_\u0438\u043d_\u0442\u0435x\u0442': {'poss': []},\n",
        " '\u0432\u043e\u0441\u043a\u0440\u0435\u0441\u0435\u043d\u0441\u043a': {'poss': [208], 'id': 208},\n",
        " '\u043a\u043e\u0440\u043e\u0447\u0435\u043d\u0441\u043a': {'poss': []},\n",
        " '\u043a\u0430\u0440\u0430\u0447\u0435\u0432\u0441\u043a': {'poss': [203], 'id': 203},\n",
        " '\u0430\u043b\u0430\u0442\u044b\u0440\u044c\u0441\u043a': {'poss': [81], 'id': 81},\n",
        " '\u0442\u0432\u0435\u0440\u0441\u043a': {'poss': [74], 'id': 74},\n",
        " '\u043b\u0443\u0431\u0435\u043d\u0441\u043a': {'poss': [122], 'id': 122},\n",
        " '\u0441\u043e\u0441\u043d\u0438\u0446\u043a': {'poss': []},\n",
        " '\u0434\u043e\u043d\u043a\u043e\u0432\u0441\u043a': {'poss': [101], 'id': 101},\n",
        " '\u0445\u0430\u0440\u044c\u043a\u043e\u0432': {'poss': [78], 'id': 78},\n",
        " '\u043d\u0435\u0436\u0438\u043d\u0441\u043a': {'poss': [132], 'id': 132},\n",
        " '\u043a\u043b\u0438\u043c\u043e\u0432\u0438\u0446\u043a': {'poss': [114], 'id': 114},\n",
        " '\u0435\u043a\u0430\u0442\u0435\u0440\u0438\u043d\u043e\u0441\u043b\u0430\u0432\u0441\u043a': {'poss': [49], 'id': 49},\n",
        " '\u0441\u0435\u043d': {'poss': [205, 208]},\n",
        " '\u043c\u0441\u0442\u0438\u0441\u043b\u0430\u0432\u0441\u043a': {'poss': [128], 'id': 128},\n",
        " '\u0431\u043e\u0433\u043e\u0440\u043e\u0434\u0441\u043a': {'poss': [206], 'id': 206},\n",
        " '\u043f\u0435\u0442\u0440\u043e\u0432\u0441\u043a': {'poss': [136, 242]},\n",
        " '\u0430\u0440\u0441\u0430\u043c\u0430\u0437\u0441\u043a': {'poss': []},\n",
        " '\u0432\u044b\u0431\u043e\u0440\u0433\u0441\u043a': {'poss': [47], 'id': 47},\n",
        " '\u0432\u044b\u0442\u0435\u0433\u0440': {'poss': []},\n",
        " '\u044f\u0440\u0435\u043d\u0441\u043a': {'poss': [158], 'id': 158},\n",
        " '\u0441\u0443\u043c\u0441\u043a': {'poss': [216], 'id': 216},\n",
        " '\u044f\u0440\u043e\u0441\u043b\u0430\u0432\u0441\u043a': {'poss': [80], 'id': 80},\n",
        " '\u043c\u0438\u0440\u043e\u043f\u043e\u043b': {'poss': [126], 'id': 126},\n",
        " '\u043f\u043e\u0440\u0445\u043e\u0432': {'poss': [214], 'id': 214},\n",
        " '\u043f\u0435\u0440\u0435\u044f\u0441\u043b\u0430\u0432\u0441\u043a': {'poss': [135], 'id': 135},\n",
        " '\u043b\u0435\u0431\u0435\u0434\u044f\u043d': {'poss': [120], 'id': 120},\n",
        " '\u0441\u0430\u043f\u043e\u0436\u043a': {'poss': [201], 'id': 201},\n",
        " '\u043a\u0443\u0440\u0441\u043a': {'poss': [56], 'id': 56},\n",
        " '\u0435\u0444\u0440\u0435\u043c\u043e\u0432': {'poss': [209], 'id': 209},\n",
        " '\u043a\u0430\u0441\u0438\u043c\u043e\u0432\u0441\u043a': {'poss': [108], 'id': 108},\n",
        " '\u043a\u0430\u043b\u0443\u0436\u0441\u043a': {'poss': [53], 'id': 53},\n",
        " '\u043e\u0441\u0442\u0440\u043e\u0432\u0441\u043a': {'poss': [134], 'id': 134},\n",
        " '\u0447\u0435\u0440\u043d\u0438\u0433\u043e\u0432\u0441\u043a': {'poss': [79, 154]},\n",
        " '\u0440\u043e\u0441\u0442\u043e\u0432\u0441\u043a': {'poss': [142], 'id': 142},\n",
        " '\u0438\u0437\u044e\u043c\u043e\u0432\u0441\u043a': {'poss': []},\n",
        " '\u0432\u0435\u043b\u0438\u043a\u043e\u043b\u0443\u0446\u043a': {'poss': [92], 'id': 92},\n",
        " '\u0431\u0430\u0431\u0438\u043d\u043e\u0432\u0435\u0446\u043a': {'poss': [85], 'id': 85},\n",
        " '\u043e\u043f\u043e\u0447\u0435\u043a': {'poss': []},\n",
        " '\u043f\u043e\u0448\u0435\u0445\u043e\u043d\u0441\u043a': {'poss': [139], 'id': 139},\n",
        " '\u043a\u043e\u0441\u0442\u0440\u043e\u043c\u0441\u043a': {'poss': [55], 'id': 55},\n",
        " '\u043b\u044e\u0431\u0438\u043c\u0441\u043a': {'poss': [123], 'id': 123},\n",
        " '\u043d\u0438\u0436\u0435\u043b\u043e\u043c\u043e\u0432\u0441\u043a': {'poss': [130], 'id': 130},\n",
        " '\u044e\u0440\u044c\u0435\u0432\u0430-\u043f\u043e\u043b\u044c\u0441\u043a': {'poss': [213], 'id': 213},\n",
        " '\u0435\u043b\u0435\u0446\u043a': {'poss': [183], 'id': 183},\n",
        " '\u0430\u0445\u0442\u044b\u0440\u043a': {'poss': []},\n",
        " '\u0431\u0435\u0436\u0435\u0446\u043a': {'poss': [86], 'id': 86},\n",
        " '\u043c\u0435\u0437\u0435\u043d\u0441\u043a': {'poss': [124], 'id': 124},\n",
        " '\u043a\u0430\u0440\u0430\u0447\u0435\u0432': {'poss': [203], 'id': 203},\n",
        " '\u0440\u043e\u043c\u0435\u043d\u0441\u043a': {'poss': [223, 281]},\n",
        " '\u043c\u0438\u0440\u0433\u043e\u0440\u043e\u0434\u0441\u043a': {'poss': [125], 'id': 125},\n",
        " '\u0441\u0430\u0440\u0430\u0442\u043e\u0432\u0441\u043a': {'poss': [70], 'id': 70},\n",
        " '\u043a\u0438\u0440\u0435\u043d\u0441\u043a': {'poss': [113], 'id': 113},\n",
        " '\u043f\u043e\u043b\u043e\u0442\u0430\u0432\u0441\u043a': {'poss': [138], 'id': 138},\n",
        " '\u0437\u0430\u0440\u0430\u0439\u0441\u043a': {'poss': [104], 'id': 104},\n",
        " '\u0432\u043e\u043b\u043e\u043a\u043e\u043b\u0430\u043c\u0441\u043a': {'poss': [96], 'id': 96},\n",
        " '\u0440\u044f\u0437\u0430\u043d\u0441\u043a': {'poss': []},\n",
        " '\u0437\u0432\u0435\u043d\u0438\u0433\u043e\u0440\u043e\u0434\u0441\u043a': {'poss': [105], 'id': 105},\n",
        " '\u043e\u0440\u0448\u0430\u043d\u0441\u043a': {'poss': [133, 231]},\n",
        " '\u0431\u0435\u043b\u043e\u0433\u043e\u0440\u043e\u0434\u0441\u043a': {'poss': [89], 'id': 89},\n",
        " '\u0431\u043e\u0440\u043e\u0432\u0441\u043a': {'poss': [210], 'id': 210},\n",
        " '\u0432\u0430\u043b\u0443\u0435\u043a': {'poss': []},\n",
        " '\u0445\u0430\u0440\u044c\u043a\u043e\u0432\u0441\u043a': {'poss': [78], 'id': 78},\n",
        " '\u043f\u043e\u043b\u043e\u0442\u0441\u043a': {'poss': [65], 'id': 65},\n",
        " '\u0432\u0435\u0440\u0435\u0439\u0441\u043a': {'poss': []},\n",
        " '\u0438\u043d\u0441\u0430\u0440\u0441\u043a': {'poss': [221], 'id': 221},\n",
        " '\u0431\u0435\u043b\u0435\u0432\u0441\u043a': {'poss': [87], 'id': 87},\n",
        " '\u043a\u0438\u043d\u0435\u0448\u043c': {'poss': []},\n",
        " '\u043a\u043e\u0437\u0435\u043b\u044c\u0441\u043a': {'poss': [115], 'id': 115},\n",
        " '\u043a\u043e\u0437\u043b\u043e\u0432': {'poss': [116], 'id': 116},\n",
        " '\u0434\u0438\u043d\u0430\u0431\u0443\u0440\u0433': {'poss': [99], 'id': 99},\n",
        " '\u043b\u0435\u0431\u0435\u0434\u0438\u043d': {'poss': [199], 'id': 199},\n",
        " '\u043f\u0438\u0440\u044f\u0442\u0438\u043d\u0441\u043a': {'poss': [137], 'id': 137},\n",
        " '\u043b\u0443\u0445\u043e\u0432\u0441\u043a': {'poss': [217], 'id': 217},\n",
        " '\u0441\u0443\u0437\u0434\u0430\u043b\u044c\u0441\u043a': {'poss': [150], 'id': 150},\n",
        " '\u0435\u043f\u0438\u0444\u0430\u043d\u0441\u043a': {'poss': [103], 'id': 103},\n",
        " '\u0441\u0442\u0430\u0440\u043e\u0434\u0443\u0431\u043e\u0432\u0441\u043a': {'poss': [149], 'id': 149},\n",
        " '\u0433\u043e\u0440\u043e\u0445\u043e\u0432\u0435\u0446\u043a': {'poss': []}}"
       ]
      }
     ],
     "prompt_number": 30
    }
   ],
   "metadata": {}
  }
 ]
}