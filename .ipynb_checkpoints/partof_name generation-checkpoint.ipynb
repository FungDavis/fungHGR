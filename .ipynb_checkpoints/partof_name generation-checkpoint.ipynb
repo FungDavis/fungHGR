{
 "metadata": {
  "name": "",
  "signature": "sha256:4df46ccc29037c857d594b2a29f418a54f89dc46c054dba33c0edf4c34ad42b3"
 },
 "nbformat": 3,
 "nbformat_minor": 0,
 "worksheets": [
  {
   "cells": [
    {
     "cell_type": "code",
     "collapsed": false,
     "input": [
      "import pandas as pd\n",
      "import json\n",
      "from math import isnan"
     ],
     "language": "python",
     "metadata": {},
     "outputs": [],
     "prompt_number": 20
    },
    {
     "cell_type": "code",
     "collapsed": false,
     "input": [
      "bounding_dict = {}\n",
      "with open(\"namiestnich_bounds.json\",'r',encoding = 'utf-8') as fp:\n",
      "    bounding_dict = json.load(fp)"
     ],
     "language": "python",
     "metadata": {},
     "outputs": [],
     "prompt_number": 4
    },
    {
     "cell_type": "code",
     "collapsed": false,
     "input": [
      "test = pd.DataFrame.from_csv(\"Market Towns Geocoded - Sheet1.csv\")"
     ],
     "language": "python",
     "metadata": {},
     "outputs": [],
     "prompt_number": 8
    },
    {
     "cell_type": "code",
     "collapsed": false,
     "input": [
      "def match_func(x):\n",
      "    if not isnan(x):\n",
      "        return test.iloc[x-1]['ru_old_orth']"
     ],
     "language": "python",
     "metadata": {},
     "outputs": [],
     "prompt_number": 24
    },
    {
     "cell_type": "code",
     "collapsed": false,
     "input": [
      "test['partof_name'] = test.partof_id.apply(match_func)"
     ],
     "language": "python",
     "metadata": {},
     "outputs": [],
     "prompt_number": 26
    },
    {
     "cell_type": "code",
     "collapsed": false,
     "input": [
      "test.to_csv('partof_name.csv',encoding='utf-8')"
     ],
     "language": "python",
     "metadata": {},
     "outputs": [],
     "prompt_number": 27
    }
   ],
   "metadata": {}
  }
 ]
}