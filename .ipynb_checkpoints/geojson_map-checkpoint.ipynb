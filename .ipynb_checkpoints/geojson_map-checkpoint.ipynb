{
 "metadata": {
  "name": "",
  "signature": "sha256:c54fe6c2cd6734433f9463f06f246cda50281cf5aa6d0ab172a2ad6d63d1756c"
 },
 "nbformat": 3,
 "nbformat_minor": 0,
 "worksheets": [
  {
   "cells": [
    {
     "cell_type": "code",
     "collapsed": false,
     "input": [
      "import pandas as pd\n",
      "import numpy as np\n",
      "import json"
     ],
     "language": "python",
     "metadata": {},
     "outputs": [],
     "prompt_number": 1
    },
    {
     "cell_type": "code",
     "collapsed": false,
     "input": [
      "test_set = pd.DataFrame.from_csv(\"hgr_test_set_2.csv\")\n",
      "mydict = test_set.partof_id.to_dict()"
     ],
     "language": "python",
     "metadata": {},
     "outputs": [],
     "prompt_number": 3
    },
    {
     "cell_type": "code",
     "collapsed": false,
     "input": [
      "def sep_val(partof_id):\n",
      "    if not np.isnan(partof_id):\n",
      "        temp = mydict[partof_id]\n",
      "        if np.isnan(temp):\n",
      "            return partof_id,temp\n",
      "        else:\n",
      "            return temp,partof_id\n",
      "    else:\n",
      "        return partof_id,partof_id"
     ],
     "language": "python",
     "metadata": {},
     "outputs": [],
     "prompt_number": 4
    },
    {
     "cell_type": "code",
     "collapsed": false,
     "input": [
      "test_set['partof_prov'], test_set['partof_uezd'] = zip(*test_set.partof_id.map(sep_val))"
     ],
     "language": "python",
     "metadata": {},
     "outputs": [],
     "prompt_number": 5
    },
    {
     "cell_type": "code",
     "collapsed": false,
     "input": [
      "test_set.to_csv('hgr_test_set_2.csv', encoding='utf-8')"
     ],
     "language": "python",
     "metadata": {},
     "outputs": [],
     "prompt_number": 6
    },
    {
     "cell_type": "code",
     "collapsed": false,
     "input": [
      "geojson = {\"type\":\"FeatureCollection\",\"features\":[]}"
     ],
     "language": "python",
     "metadata": {},
     "outputs": [],
     "prompt_number": 7
    },
    {
     "cell_type": "code",
     "collapsed": false,
     "input": [
      "cond = np.logical_or(test_set.ru_featuretype=='\u041d\u0430\u043c\u0463\u0441\u0442\u043d\u0438\u0447\u0435\u0441\u0442\u0432\u043e',test_set.ru_featuretype=='\u0413\u0443\u0431\u0435\u0440\u043d\u0456\u044f')\n",
      "test_set['partof_prov'][cond] = test_set.index"
     ],
     "language": "python",
     "metadata": {},
     "outputs": [],
     "prompt_number": 9
    },
    {
     "cell_type": "code",
     "collapsed": false,
     "input": [
      "test_set.ix[np.isnan(test_set.partof_prov)]"
     ],
     "language": "python",
     "metadata": {},
     "outputs": [
      {
       "html": [
        "<div style=\"max-height:1000px;max-width:1500px;overflow:auto;\">\n",
        "<table border=\"1\" class=\"dataframe\">\n",
        "  <thead>\n",
        "    <tr style=\"text-align: right;\">\n",
        "      <th></th>\n",
        "      <th>ru_old_orth</th>\n",
        "      <th>alt_name</th>\n",
        "      <th>partof_id</th>\n",
        "      <th>x_coord</th>\n",
        "      <th>y_coord</th>\n",
        "      <th>ru_featuretype</th>\n",
        "      <th>SOURCE</th>\n",
        "      <th>description</th>\n",
        "      <th>ru_new_orth</th>\n",
        "      <th>lc_trans</th>\n",
        "      <th>...</th>\n",
        "      <th>pres_country</th>\n",
        "      <th>country_code</th>\n",
        "      <th>beg_yr</th>\n",
        "      <th>end_yr</th>\n",
        "      <th>lc_featuretype</th>\n",
        "      <th>id_featuretype</th>\n",
        "      <th>en_featuretype</th>\n",
        "      <th>xy_type</th>\n",
        "      <th>partof_prov</th>\n",
        "      <th>partof_uezd</th>\n",
        "    </tr>\n",
        "    <tr>\n",
        "      <th>uniq_id</th>\n",
        "      <th></th>\n",
        "      <th></th>\n",
        "      <th></th>\n",
        "      <th></th>\n",
        "      <th></th>\n",
        "      <th></th>\n",
        "      <th></th>\n",
        "      <th></th>\n",
        "      <th></th>\n",
        "      <th></th>\n",
        "      <th></th>\n",
        "      <th></th>\n",
        "      <th></th>\n",
        "      <th></th>\n",
        "      <th></th>\n",
        "      <th></th>\n",
        "      <th></th>\n",
        "      <th></th>\n",
        "      <th></th>\n",
        "      <th></th>\n",
        "      <th></th>\n",
        "    </tr>\n",
        "  </thead>\n",
        "  <tbody>\n",
        "  </tbody>\n",
        "</table>\n",
        "<p>0 rows \u00d7 21 columns</p>\n",
        "</div>"
       ],
       "metadata": {},
       "output_type": "pyout",
       "prompt_number": 10,
       "text": [
        "Empty DataFrame\n",
        "Columns: [ru_old_orth, alt_name, partof_id, x_coord, y_coord, ru_featuretype, SOURCE, description, ru_new_orth, lc_trans, pres_loc, pres_country, country_code, beg_yr, end_yr, lc_featuretype, id_featuretype, en_featuretype, xy_type, partof_prov, partof_uezd]\n",
        "Index: []\n",
        "\n",
        "[0 rows x 21 columns]"
       ]
      }
     ],
     "prompt_number": 10
    },
    {
     "cell_type": "code",
     "collapsed": false,
     "input": [
      "def mapmaker(name,desc,url,lat,lng,featuretype,partof_namest):\n",
      "    if featuretype in ['\u0413\u0443\u0431\u0435\u0440\u043d\u0456\u044f','\u041d\u0430\u043c\u0463\u0441\u0442\u043d\u0438\u0447\u0435\u0441\u0442\u0432\u043e','\u041e\u0431\u043b\u0430\u0441\u0442\u044c']:\n",
      "        markerSize = 'large'\n",
      "    elif featuretype in ['\u0443\u0435\u0437\u0434']:\n",
      "        markerSize = 'medium'\n",
      "    else:\n",
      "        markerSize = 'small'\n",
      "    if featuretype in ['\u0413\u0443\u0431\u0435\u0440\u043d\u0456\u044f','\u041d\u0430\u043c\u0463\u0441\u0442\u043d\u0438\u0447\u0435\u0441\u0442\u0432\u043e']:\n",
      "        markerSymbol = 'star'\n",
      "    elif featuretype in ['\u0443\u0435\u0437\u0434']:\n",
      "        markerSymbol = 'square'\n",
      "    else:\n",
      "        markerSymbol = 'circle'\n",
      "    colorlist = [\"#D73E29\",\"#73E444\",\"#6469D3\",\"#323E21\",\"#7ACEDB\",\"#DC3E96\",\"#E4BF39\",\"#4D234D\",\"#D78583\",\"#CDDF8F\",\"#D247D6\",\"#D7B7D8\",\"#632923\",\"#406F6F\",\"#E18029\",\"#6597DA\",\"#6FE08C\",\"#629B6E\",\"#9B375D\",\"#853B8B\",\"#6DDCBA\",\"#C7CEBF\",\"#C9E042\",\"#776228\",\"#D1B183\",\"#AE5834\",\"#8D647E\",\"#59AD3E\",\"#99A53F\",\"#416C26\",\"#414D82\",\"#D779B1\",\"#D24158\",\"#887B69\",\"#373039\",\"#A988D0\",\"#7490AD\",\"#C69344\",\"#C170DD\"]\n",
      "    markerColor = markerColor = colorlist[int(partof_namest-1)]\n",
      "    if str(desc)=='nan':\n",
      "        desc = \"\"\n",
      "    if str(url)=='nan':\n",
      "        url = \"\"\n",
      "    outdict = {\"type\":\"Feature\",\"geometry\":{\"type\":\"Point\",\"coordinates\":[lng,lat]},\"properties\":{\"title\":name,\"description\":desc+\" \"+url,\"marker-size\":markerSize,\"marker-symbol\":markerSymbol,\"marker-color\":markerColor}}\n",
      "    return outdict"
     ],
     "language": "python",
     "metadata": {},
     "outputs": [],
     "prompt_number": 14
    },
    {
     "cell_type": "code",
     "collapsed": false,
     "input": [
      "geojson['features']=np.vectorize(mapmaker)(test_set.ru_old_orth,test_set.description,test_set.SOURCE,test_set.y_coord,test_set.x_coord,test_set.ru_featuretype,test_set.partof_prov).tolist()"
     ],
     "language": "python",
     "metadata": {},
     "outputs": [],
     "prompt_number": 16
    },
    {
     "cell_type": "code",
     "collapsed": false,
     "input": [
      "with open(\"hgr_map_test.geojson\",\"w\") as fp:\n",
      "    json.dump(geojson,fp)"
     ],
     "language": "python",
     "metadata": {},
     "outputs": [],
     "prompt_number": 17
    }
   ],
   "metadata": {}
  }
 ]
}