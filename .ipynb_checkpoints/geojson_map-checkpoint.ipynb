{
 "metadata": {
  "name": "",
  "signature": "sha256:3bb6c857dac2626c0c490af5577514ce266ba1cbd8791ff283a09b646ecf5dae"
 },
 "nbformat": 3,
 "nbformat_minor": 0,
 "worksheets": [
  {
   "cells": [
    {
     "cell_type": "code",
     "collapsed": false,
     "input": [
      "import pandas as pd\n",
      "import numpy as np\n",
      "import json"
     ],
     "language": "python",
     "metadata": {},
     "outputs": [],
     "prompt_number": 160
    },
    {
     "cell_type": "code",
     "collapsed": false,
     "input": [
      "test_set = pd.DataFrame.from_csv(\"hgr_test_set_2.csv\",index_col=None)"
     ],
     "language": "python",
     "metadata": {},
     "outputs": [],
     "prompt_number": 161
    },
    {
     "cell_type": "code",
     "collapsed": false,
     "input": [
      "mydict = {}\n",
      "def dictify(k,v):\n",
      "    mydict.update({k:v})\n",
      "    return {k:v}\n",
      "np.vectorize(dictify)(test_set.uniq_id,test_set.partof_id)"
     ],
     "language": "python",
     "metadata": {},
     "outputs": [
      {
       "metadata": {},
       "output_type": "pyout",
       "prompt_number": 162,
       "text": [
        "array([{1: nan}, {2: nan}, {3: nan}, {4: nan}, {5: nan}, {6: nan},\n",
        "       {7: nan}, {8: nan}, {9: nan}, {10: nan}, {11: nan}, {12: nan},\n",
        "       {13: nan}, {14: nan}, {15: nan}, {16: nan}, {17: nan}, {18: nan},\n",
        "       {19: nan}, {20: nan}, {21: nan}, {22: nan}, {23: nan}, {24: nan},\n",
        "       {25: nan}, {26: nan}, {27: nan}, {28: nan}, {29: nan}, {30: nan},\n",
        "       {31: nan}, {32: nan}, {33: nan}, {34: nan}, {35: nan}, {36: nan},\n",
        "       {37: nan}, {38: nan}, {39: nan}, {40: 30.0}, {41: 35.0}, {42: 17.0},\n",
        "       {43: 37.0}, {44: 16.0}, {45: 33.0}, {46: 35.0}, {47: 16.0},\n",
        "       {48: 15.0}, {49: 18.0}, {50: 5.0}, {51: 25.0}, {52: 35.0},\n",
        "       {53: 1.0}, {54: 9.0}, {55: 4.0}, {56: 1.0}, {57: 6.0}, {58: 38.0},\n",
        "       {59: 3.0}, {60: 24.0}, {61: 1.0}, {62: 28.0}, {63: 8.0}, {64: 21.0},\n",
        "       {65: 35.0}, {66: 28.0}, {67: 1.0}, {68: 33.0}, {69: 37.0},\n",
        "       {71: 28.0}, {72: 33.0}, {73: 35.0}, {74: 22.0}, {75: 14.0},\n",
        "       {76: 9.0}, {77: 13.0}, {78: 16.0}, {79: 12.0}, {80: 32.0},\n",
        "       {81: 1.0}, {82: 15.0}, {83: 14.0}, {84: 22.0}, {85: 15.0},\n",
        "       {86: 32.0}, {87: 21.0}, {88: 13.0}, {89: 39.0}, {90: 2.0},\n",
        "       {91: 13.0}, {92: 37.0}, {93: 1.0}, {94: 16.0}, {95: 22.0},\n",
        "       {96: 22.0}, {98: 18.0}, {99: 19.0}, {100: 35.0}, {101: 38.0},\n",
        "       {103: 16.0}, {104: 25.0}, {105: 13.0}, {106: 39.0}, {107: 38.0},\n",
        "       {108: 8.0}, {109: 24.0}, {110: 39.0}, {111: 38.0}, {112: 25.0},\n",
        "       {113: 16.0}, {114: 39.0}, {115: 1.0}, {116: 28.0}, {117: 22.0},\n",
        "       {118: 29.0}, {119: 11.0}, {120: 30.0}, {121: 19.0}, {122: 16.0},\n",
        "       {123: 19.0}, {124: 3.0}, {125: 33.0}, {126: 32.0}, {127: 35.0},\n",
        "       {128: 37.0}, {129: 36.0}, {130: 16.0}, {131: 38.0}, {132: 14.0},\n",
        "       {133: 32.0}, {134: 14.0}, {135: 4.0}, {136: 39.0}, {140: 35.0},\n",
        "       {141: 32.0}, {142: 2.0}, {143: 10.0}, {144: 117.0}, {145: 29.0},\n",
        "       {146: 37.0}, {147: 105.0}, {148: 101.0}, {149: 118.0}, {150: 11.0},\n",
        "       {151: 60.0}, {152: 77.0}, {153: 37.0}, {154: 1.0}, {155: 38.0},\n",
        "       {156: 32.0}, {157: 105.0}, {158: 8.0}, {159: 12.0}, {160: 1.0},\n",
        "       {161: 21.0}, {162: 65.0}, {163: 33.0}, {164: 56.0}, {165: 18.0},\n",
        "       {166: 37.0}, {167: 5.0}, {168: 111.0}, {169: 90.0}, {170: 50.0},\n",
        "       {171: 24.0}, {172: 27.0}, {173: 33.0}, {174: 27.0}, {175: 5.0},\n",
        "       {176: 101.0}, {177: 105.0}, {178: 25.0}, {179: 6.0}, {180: 20.0},\n",
        "       {181: 3.0}, {182: 38.0}, {183: 25.0}, {184: 8.0}, {185: 77.0},\n",
        "       {186: 13.0}, {187: 17.0}, {188: 3.0}, {189: 88.0}, {190: 46.0},\n",
        "       {191: 73.0}, {192: 41.0}, {193: 4.0}, {194: 60.0}, {195: 69.0},\n",
        "       {196: 111.0}, {197: 27.0}, {198: 1.0}, {199: 5.0}, {200: 123.0},\n",
        "       {201: 81.0}, {202: 32.0}, {203: 31.0}, {204: 35.0}, {205: 35.0},\n",
        "       {206: 9.0}, {207: 12.0}, {208: 100.0}, {209: 4.0}, {210: 28.0},\n",
        "       {211: 9.0}, {212: 1.0}, {213: 5.0}, {214: 121.0}, {215: 13.0},\n",
        "       {216: 33.0}, {217: 37.0}, {218: 29.0}, {219: 8.0}, {220: 32.0},\n",
        "       {221: 91.0}, {222: 33.0}, {223: 22.0}, {224: 125.0}, {225: 72.0},\n",
        "       {226: 14.0}, {227: 9.0}, {228: 123.0}, {229: 3.0}, {230: 13.0},\n",
        "       {231: 12.0}, {232: 1.0}, {233: 5.0}, {234: 30.0}, {235: 14.0},\n",
        "       {236: 43.0}, {237: 7.0}, {238: 95.0}, {239: 35.0}, {240: 105.0},\n",
        "       {241: 4.0}, {242: 37.0}, {243: 92.0}, {244: 22.0}, {245: 21.0},\n",
        "       {246: 8.0}, {247: 55.0}, {248: 29.0}, {249: 88.0}, {251: 78.0},\n",
        "       {252: 11.0}, {253: 4.0}, {254: 21.0}, {255: 32.0}, {256: 12.0},\n",
        "       {257: 38.0}, {258: 14.0}, {259: 38.0}, {260: 39.0}, {261: 58.0},\n",
        "       {262: 17.0}], dtype=object)"
       ]
      }
     ],
     "prompt_number": 162
    },
    {
     "cell_type": "code",
     "collapsed": false,
     "input": [
      "def sep_val(partof_id):\n",
      "    if not np.isnan(partof_id):\n",
      "        temp = mydict[partof_id]\n",
      "        if np.isnan(temp):\n",
      "            return partof_id,temp\n",
      "        else:\n",
      "            return temp,partof_id\n",
      "    else:\n",
      "        return partof_id,partof_id"
     ],
     "language": "python",
     "metadata": {},
     "outputs": [],
     "prompt_number": 163
    },
    {
     "cell_type": "code",
     "collapsed": false,
     "input": [
      "test_set['partof_prov'], test_set['partof_uezd'] = zip(*test_set.partof_id.map(sep_val))"
     ],
     "language": "python",
     "metadata": {},
     "outputs": [],
     "prompt_number": 164
    },
    {
     "cell_type": "code",
     "collapsed": false,
     "input": [
      "test_set.to_csv('hgr_test_set_2.csv')"
     ],
     "language": "python",
     "metadata": {},
     "outputs": [],
     "prompt_number": 165
    },
    {
     "cell_type": "code",
     "collapsed": false,
     "input": [
      "geojson = {\"type\":\"FeatureCollection\",\"features\":[]}"
     ],
     "language": "python",
     "metadata": {},
     "outputs": [],
     "prompt_number": 166
    },
    {
     "cell_type": "code",
     "collapsed": false,
     "input": [
      "cond = np.logical_or(test_set.ru_featuretype=='\u041d\u0430\u043c\u0463\u0441\u0442\u043d\u0438\u0447\u0435\u0441\u0442\u0432\u043e',test_set.ru_featuretype=='\u0413\u0443\u0431\u0435\u0440\u043d\u0456\u044f')\n",
      "test_set['partof_prov'][cond] = test_set['uniq_id']"
     ],
     "language": "python",
     "metadata": {},
     "outputs": [],
     "prompt_number": 167
    },
    {
     "cell_type": "code",
     "collapsed": false,
     "input": [
      "test_set.ix[np.isnan(test_set.partof_prov)]"
     ],
     "language": "python",
     "metadata": {},
     "outputs": [
      {
       "html": [
        "<div style=\"max-height:1000px;max-width:1500px;overflow:auto;\">\n",
        "<table border=\"1\" class=\"dataframe\">\n",
        "  <thead>\n",
        "    <tr style=\"text-align: right;\">\n",
        "      <th></th>\n",
        "      <th>Unnamed: 0</th>\n",
        "      <th>Unnamed: 0.1</th>\n",
        "      <th>uniq_id</th>\n",
        "      <th>ru_old_orth</th>\n",
        "      <th>alt_name</th>\n",
        "      <th>partof_id</th>\n",
        "      <th>x_coord</th>\n",
        "      <th>y_coord</th>\n",
        "      <th>ru_featuretype</th>\n",
        "      <th>SOURCE</th>\n",
        "      <th>...</th>\n",
        "      <th>pres_country</th>\n",
        "      <th>country_code</th>\n",
        "      <th>beg_yr</th>\n",
        "      <th>end_yr</th>\n",
        "      <th>lc_featuretype</th>\n",
        "      <th>id_featuretype</th>\n",
        "      <th>en_featuretype</th>\n",
        "      <th>xy_type</th>\n",
        "      <th>partof_prov</th>\n",
        "      <th>partof_uezd</th>\n",
        "    </tr>\n",
        "  </thead>\n",
        "  <tbody>\n",
        "  </tbody>\n",
        "</table>\n",
        "<p>0 rows \u00d7 24 columns</p>\n",
        "</div>"
       ],
       "metadata": {},
       "output_type": "pyout",
       "prompt_number": 168,
       "text": [
        "Empty DataFrame\n",
        "Columns: [Unnamed: 0, Unnamed: 0.1, uniq_id, ru_old_orth, alt_name, partof_id, x_coord, y_coord, ru_featuretype, SOURCE, description, ru_new_orth, lc_trans, pres_loc, pres_country, country_code, beg_yr, end_yr, lc_featuretype, id_featuretype, en_featuretype, xy_type, partof_prov, partof_uezd]\n",
        "Index: []\n",
        "\n",
        "[0 rows x 24 columns]"
       ]
      }
     ],
     "prompt_number": 168
    },
    {
     "cell_type": "code",
     "collapsed": false,
     "input": [
      "def mapmaker(name,desc,lat,lng,featuretype,partof_namest):\n",
      "    if featuretype in ['\u0413\u0443\u0431\u0435\u0440\u043d\u0456\u044f','\u041d\u0430\u043c\u0463\u0441\u0442\u043d\u0438\u0447\u0435\u0441\u0442\u0432\u043e']:\n",
      "        markerSize = 'large'\n",
      "    elif featuretype in ['\u0443\u0435\u0437\u0434']:\n",
      "        markerSize = 'medium'\n",
      "    else:\n",
      "        markerSize = 'small'\n",
      "    if featuretype in ['\u0413\u0443\u0431\u0435\u0440\u043d\u0456\u044f','\u041d\u0430\u043c\u0463\u0441\u0442\u043d\u0438\u0447\u0435\u0441\u0442\u0432\u043e']:\n",
      "        markerSymbol = 'star'\n",
      "    elif featuretype in ['\u0443\u0435\u0437\u0434']:\n",
      "        markerSymbol = 'square'\n",
      "    else:\n",
      "        markerSymbol = 'circle'\n",
      "    colorlist = [\"#D73E29\",\"#73E444\",\"#6469D3\",\"#323E21\",\"#7ACEDB\",\"#DC3E96\",\"#E4BF39\",\"#4D234D\",\"#D78583\",\"#CDDF8F\",\"#D247D6\",\"#D7B7D8\",\"#632923\",\"#406F6F\",\"#E18029\",\"#6597DA\",\"#6FE08C\",\"#629B6E\",\"#9B375D\",\"#853B8B\",\"#6DDCBA\",\"#C7CEBF\",\"#C9E042\",\"#776228\",\"#D1B183\",\"#AE5834\",\"#8D647E\",\"#59AD3E\",\"#99A53F\",\"#416C26\",\"#414D82\",\"#D779B1\",\"#D24158\",\"#887B69\",\"#373039\",\"#A988D0\",\"#7490AD\",\"#C69344\",\"#C170DD\"]\n",
      "    markerColor = markerColor = colorlist[int(partof_namest-1)]\n",
      "    if str(desc)=='nan':\n",
      "        desc = \"\"\n",
      "    outdict = {\"type\":\"Feature\",\"geometry\":{\"type\":\"Point\",\"coordinates\":[lng,lat]},\"properties\":{\"title\":name,\"description\":desc,\"marker-size\":markerSize,\"marker-symbol\":markerSymbol,\"marker-color\":markerColor}}\n",
      "    return outdict"
     ],
     "language": "python",
     "metadata": {},
     "outputs": [],
     "prompt_number": 170
    },
    {
     "cell_type": "code",
     "collapsed": false,
     "input": [
      "geojson['features']=np.vectorize(mapmaker)(test_set.ru_old_orth,test_set.description,test_set.y_coord,test_set.x_coord,test_set.ru_featuretype,test_set.partof_prov).tolist()"
     ],
     "language": "python",
     "metadata": {},
     "outputs": [],
     "prompt_number": 176
    },
    {
     "cell_type": "code",
     "collapsed": false,
     "input": [
      "with open(\"hgr_map_test.geojson\",\"w\") as fp:\n",
      "    json.dump(geojson,fp)"
     ],
     "language": "python",
     "metadata": {},
     "outputs": [],
     "prompt_number": 177
    }
   ],
   "metadata": {}
  }
 ]
}