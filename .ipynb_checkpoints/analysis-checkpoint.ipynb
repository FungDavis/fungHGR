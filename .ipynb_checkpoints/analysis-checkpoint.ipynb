{
 "metadata": {
  "name": "",
  "signature": "sha256:b96453e1930f26b60cd295b9bee93a3b5b2d4e527a608b7241e6a2c02893235d"
 },
 "nbformat": 3,
 "nbformat_minor": 0,
 "worksheets": [
  {
   "cells": [
    {
     "cell_type": "code",
     "collapsed": false,
     "input": [
      "import pandas as pd"
     ],
     "language": "python",
     "metadata": {},
     "outputs": [],
     "prompt_number": 1
    },
    {
     "cell_type": "code",
     "collapsed": false,
     "input": [
      "market_towns = pd.DataFrame.from_csv('market_towns.csv')"
     ],
     "language": "python",
     "metadata": {},
     "outputs": [],
     "prompt_number": 2
    },
    {
     "cell_type": "code",
     "collapsed": false,
     "input": [
      "cyrillic_translit={u'\\u0410': 'A', u'\\u0430': 'a',u'\\u0411': 'B', u'\\u0431': 'b',u'\\u0412': 'V', u'\\u0432': 'v',u'\\u0413': 'G', u'\\u0433': 'g',u'\\u0414': 'D', u'\\u0434': 'd',u'\\u0415': 'E', u'\\u0435': 'e',u'\\u0416': 'Zh', u'\\u0436': 'zh',u'\\u0417': 'Z', u'\\u0437': 'z',u'\\u0418': 'I', u'\\u0438': 'i',u'\\u0419': 'I', u'\\u0439': 'i',u'\\u041a': 'K', u'\\u043a': 'k',u'\\u041b': 'L', u'\\u043b': 'l',u'\\u041c': 'M', u'\\u043c': 'm',u'\\u041d': 'N', u'\\u043d': 'n',u'\\u041e': 'O', u'\\u043e': 'o',u'\\u041f': 'P', u'\\u043f': 'p',u'\\u0420': 'R', u'\\u0440': 'r',u'\\u0421': 'S', u'\\u0441': 's',u'\\u0422': 'T', u'\\u0442': 't',u'\\u0423': 'U', u'\\u0443': 'u',u'\\u0424': 'F', u'\\u0444': 'f',u'\\u0425': 'Kh', u'\\u0445': 'kh',u'\\u0426': 'Ts', u'\\u0446': 'ts',u'\\u0427': 'Ch', u'\\u0447': 'ch',u'\\u0428': 'Sh', u'\\u0448': 'sh',u'\\u0429': 'Shch', u'\\u0449': 'shch',u'\\u042a': '\"', u'\\u044a': '\"',u'\\u042b': 'Y', u'\\u044b': 'y',u'\\u042c': \"'\", u'\\u044c': \"'\",u'\\u042d': 'E', u'\\u044d': 'e',u'\\u042e': 'Iu', u'\\u044e': 'iu',u'\\u042f': 'Ia', u'\\u044f': 'ia', u'\\u0462': 'IE', u'\\u0463': 'ie', u'\\u0406': 'I', u'\\u0456': 'i'}\n",
      "def transliterate(word, translit_table):\n",
      "    \"\"\"\n",
      "    Transliterates 'word' based on the key/value pairs in 'translit_table'\n",
      "    \"\"\"\n",
      "    converted_word = ''\n",
      "    for char in word:\n",
      "        transchar = ''\n",
      "        if char in translit_table:\n",
      "            transchar = translit_table[char]\n",
      "        else:\n",
      "            transchar = char\n",
      "        converted_word += transchar\n",
      "    return converted_word"
     ],
     "language": "python",
     "metadata": {},
     "outputs": [],
     "prompt_number": 3
    },
    {
     "cell_type": "code",
     "collapsed": false,
     "input": [
      "market_towns.name = market_towns.name.apply(str.capitalize)\n",
      "market_towns['lc_trans'] = market_towns.name.apply(transliterate,args=(cyrillic_translit,))"
     ],
     "language": "python",
     "metadata": {},
     "outputs": [],
     "prompt_number": 4
    },
    {
     "cell_type": "code",
     "collapsed": false,
     "input": [
      "cols = ['lc_trans', 'name', 'ru_uezd', 'ru_prov', '_type', 'text', 'geo_lat', 'geo_lng', 'geo_placename', 'geo_country_code', 'geo_id', 'geo_url']\n",
      "market_towns[cols]\n",
      "market_towns = market_towns[cols]"
     ],
     "language": "python",
     "metadata": {},
     "outputs": [],
     "prompt_number": 5
    },
    {
     "cell_type": "code",
     "collapsed": false,
     "input": [
      "market_towns.columns = ['lc_trans', 'ru_old_orth', 'ru_uezd', 'ru_prov', 'ru_featuretype', 'description', 'x_coord', 'y_coord', 'pres_loc', 'geo_country_code', 'geo_id', 'geo_url']"
     ],
     "language": "python",
     "metadata": {},
     "outputs": [],
     "prompt_number": 6
    },
    {
     "cell_type": "code",
     "collapsed": false,
     "input": [
      "market_towns.head()"
     ],
     "language": "python",
     "metadata": {},
     "outputs": [
      {
       "html": [
        "<div style=\"max-height:1000px;max-width:1500px;overflow:auto;\">\n",
        "<table border=\"1\" class=\"dataframe\">\n",
        "  <thead>\n",
        "    <tr style=\"text-align: right;\">\n",
        "      <th></th>\n",
        "      <th>lc_trans</th>\n",
        "      <th>ru_old_orth</th>\n",
        "      <th>ru_uezd</th>\n",
        "      <th>ru_prov</th>\n",
        "      <th>ru_featuretype</th>\n",
        "      <th>description</th>\n",
        "      <th>x_coord</th>\n",
        "      <th>y_coord</th>\n",
        "      <th>pres_loc</th>\n",
        "      <th>geo_country_code</th>\n",
        "      <th>geo_id</th>\n",
        "      <th>geo_url</th>\n",
        "    </tr>\n",
        "  </thead>\n",
        "  <tbody>\n",
        "    <tr>\n",
        "      <th>\u0406\u041e\u0421\u0418\u0424\u041e\u0412\u042a</th>\n",
        "      <td>    Iosifov\"</td>\n",
        "      <td>  \u0406\u043e\u0441\u0438\u0444\u043e\u0432\u044a</td>\n",
        "      <td> \u0412\u043e\u043b\u043e\u043a\u043e\u043b\u0430\u043c\u0441\u043a\u043e\u043c\u044a \u0443\u0463\u0437\u0434\u0463</td>\n",
        "      <td>               \u0442\u043e\u0439 \u0436\u0435 \u0413\u0443\u0431\u0435\u0440\u043d\u0456\u0438</td>\n",
        "      <td> \u043c\u043e\u043d\u0430\u0441\u0442\u044b\u0440\u044c</td>\n",
        "      <td>  &lt;/span&gt;&lt;span class=\"font0\" style=\"font-style:...</td>\n",
        "      <td> not_found</td>\n",
        "      <td> not_found</td>\n",
        "      <td>                     not_found</td>\n",
        "      <td> not_found</td>\n",
        "      <td> not_found</td>\n",
        "      <td> http://api.geonames.org/search?username=jaguil...</td>\n",
        "    </tr>\n",
        "    <tr>\n",
        "      <th>\u0410\u0411\u0417\u0410\u041b\u042c</th>\n",
        "      <td>      Abzal'</td>\n",
        "      <td>    \u0410\u0431\u0437\u0430\u043b\u044c</td>\n",
        "      <td>          not_in_text</td>\n",
        "      <td>    \u0420\u0435\u0432\u0435\u043b\u044c\u0441\u043a\u0430\u0433\u043e \u041d\u0430\u043c\u0463\u0441\u0442\u043d\u0438\u0447\u0435\u0441\u0442\u0432\u0430</td>\n",
        "      <td>    \u0433\u043e\u0440\u043e\u0434\u044a</td>\n",
        "      <td>  &lt;/span&gt;&lt;span class=\"font0\" style=\"font-style:...</td>\n",
        "      <td>  31.51667</td>\n",
        "      <td>  53.83333</td>\n",
        "      <td> Mazra\u2018eh-ye \u0100bzal, Yazd, Iran</td>\n",
        "      <td>        IR</td>\n",
        "      <td>        IR</td>\n",
        "      <td> http://api.geonames.org/search?username=jaguil...</td>\n",
        "    </tr>\n",
        "    <tr>\n",
        "      <th>\u0410\u0412\u0414\u0423\u041b\u041e\u0412\u041e</th>\n",
        "      <td>    Avdulovo</td>\n",
        "      <td>  \u0410\u0432\u0434\u0443\u043b\u043e\u0432\u043e</td>\n",
        "      <td>    \u0414\u043e\u043d\u043a\u043e\u0432\u0441\u043a\u043e\u043c\u042a \u0443\u0463\u0437\u0434\u0463</td>\n",
        "      <td>     \u0420\u044f\u0437\u0430\u043d\u0441\u043a\u0430\u0433\u043e \u041d\u0430\u043c\u0463\u0441\u0442\u043d\u0438\u0447\u0435\u0441\u0442\u0432\u0430</td>\n",
        "      <td>      \u0441\u0435\u043b\u043e</td>\n",
        "      <td>  \u0418\u0412\u0410\u041d\u041e\u0412\u0421\u041a\u041e\u0415 \u0442\u043e\u0436\u044c, &lt;/span&gt;&lt;span class=\"font0\" s...</td>\n",
        "      <td>  53.29975</td>\n",
        "      <td>   38.6293</td>\n",
        "      <td>     Avdulovo, Lipetsk, Russia</td>\n",
        "      <td>        RU</td>\n",
        "      <td>        RU</td>\n",
        "      <td> http://api.geonames.org/search?username=jaguil...</td>\n",
        "    </tr>\n",
        "    <tr>\n",
        "      <th>\u0410\u0412\u0416\u0415\u041d\u0421\u041a\u0410\u042f</th>\n",
        "      <td> Avzhenskaia</td>\n",
        "      <td> \u0410\u0432\u0436\u0435\u043d\u0441\u043a\u0430\u044f</td>\n",
        "      <td>              \u0438 \u0443\u0463\u0437\u0434\u0443</td>\n",
        "      <td>   \u0412\u043e\u043b\u043e\u0433\u043e\u0434\u0441\u043a\u0430\u0433\u043e \u041d\u0430\u043c\u0463\u0441\u0442\u043d\u0438\u0447\u0435\u0441\u0442\u0432\u0430</td>\n",
        "      <td>   \u0432\u043e\u043b\u043e\u0441\u0442\u044c</td>\n",
        "      <td>  &lt;/span&gt;&lt;span class=\"font0\" style=\"font-style:...</td>\n",
        "      <td> not_found</td>\n",
        "      <td> not_found</td>\n",
        "      <td>                     not_found</td>\n",
        "      <td> not_found</td>\n",
        "      <td> not_found</td>\n",
        "      <td> http://api.geonames.org/search?username=jaguil...</td>\n",
        "    </tr>\n",
        "    <tr>\n",
        "      <th>\u0410\u0414\u041e\u0412\u0410\u0422\u041e\u0412\u041e</th>\n",
        "      <td>   Adovatovo</td>\n",
        "      <td> \u0410\u0434\u043e\u0432\u0430\u0442\u043e\u0432\u043e</td>\n",
        "      <td>    \u0410\u0440\u0437\u0430\u043c\u0430\u0441\u043a\u043e\u043c\u042a \u0443\u0463\u0437\u0434\u0463</td>\n",
        "      <td> \u041d\u0438\u0436\u0435\u0433\u043e\u0440\u043e\u0434\u0441\u043a\u0430\u0433\u043e \u041d\u0430\u043c\u0463\u0441\u0442\u043d\u0438\u0447\u0435\u0441\u0442\u0432\u0430</td>\n",
        "      <td>      \u0441\u0435\u043b\u043e</td>\n",
        "      <td>  &lt;/span&gt;&lt;span class=\"font0\" style=\"font-style:...</td>\n",
        "      <td> not_found</td>\n",
        "      <td> not_found</td>\n",
        "      <td>                     not_found</td>\n",
        "      <td> not_found</td>\n",
        "      <td> not_found</td>\n",
        "      <td> http://api.geonames.org/search?username=jaguil...</td>\n",
        "    </tr>\n",
        "  </tbody>\n",
        "</table>\n",
        "</div>"
       ],
       "metadata": {},
       "output_type": "pyout",
       "prompt_number": 9,
       "text": [
        "              lc_trans ru_old_orth               ru_uezd  \\\n",
        "\u0406\u041e\u0421\u0418\u0424\u041e\u0412\u042a      Iosifov\"    \u0406\u043e\u0441\u0438\u0444\u043e\u0432\u044a  \u0412\u043e\u043b\u043e\u043a\u043e\u043b\u0430\u043c\u0441\u043a\u043e\u043c\u044a \u0443\u0463\u0437\u0434\u0463   \n",
        "\u0410\u0411\u0417\u0410\u041b\u042c          Abzal'      \u0410\u0431\u0437\u0430\u043b\u044c           not_in_text   \n",
        "\u0410\u0412\u0414\u0423\u041b\u041e\u0412\u041e      Avdulovo    \u0410\u0432\u0434\u0443\u043b\u043e\u0432\u043e     \u0414\u043e\u043d\u043a\u043e\u0432\u0441\u043a\u043e\u043c\u042a \u0443\u0463\u0437\u0434\u0463   \n",
        "\u0410\u0412\u0416\u0415\u041d\u0421\u041a\u0410\u042f  Avzhenskaia   \u0410\u0432\u0436\u0435\u043d\u0441\u043a\u0430\u044f               \u0438 \u0443\u0463\u0437\u0434\u0443   \n",
        "\u0410\u0414\u041e\u0412\u0410\u0422\u041e\u0412\u041e    Adovatovo   \u0410\u0434\u043e\u0432\u0430\u0442\u043e\u0432\u043e     \u0410\u0440\u0437\u0430\u043c\u0430\u0441\u043a\u043e\u043c\u042a \u0443\u0463\u0437\u0434\u0463   \n",
        "\n",
        "                                 ru_prov ru_featuretype  \\\n",
        "\u0406\u041e\u0421\u0418\u0424\u041e\u0412\u042a                 \u0442\u043e\u0439 \u0436\u0435 \u0413\u0443\u0431\u0435\u0440\u043d\u0456\u0438      \u043c\u043e\u043d\u0430\u0441\u0442\u044b\u0440\u044c   \n",
        "\u0410\u0411\u0417\u0410\u041b\u042c        \u0420\u0435\u0432\u0435\u043b\u044c\u0441\u043a\u0430\u0433\u043e \u041d\u0430\u043c\u0463\u0441\u0442\u043d\u0438\u0447\u0435\u0441\u0442\u0432\u0430         \u0433\u043e\u0440\u043e\u0434\u044a   \n",
        "\u0410\u0412\u0414\u0423\u041b\u041e\u0412\u041e       \u0420\u044f\u0437\u0430\u043d\u0441\u043a\u0430\u0433\u043e \u041d\u0430\u043c\u0463\u0441\u0442\u043d\u0438\u0447\u0435\u0441\u0442\u0432\u0430           \u0441\u0435\u043b\u043e   \n",
        "\u0410\u0412\u0416\u0415\u041d\u0421\u041a\u0410\u042f    \u0412\u043e\u043b\u043e\u0433\u043e\u0434\u0441\u043a\u0430\u0433\u043e \u041d\u0430\u043c\u0463\u0441\u0442\u043d\u0438\u0447\u0435\u0441\u0442\u0432\u0430        \u0432\u043e\u043b\u043e\u0441\u0442\u044c   \n",
        "\u0410\u0414\u041e\u0412\u0410\u0422\u041e\u0412\u041e  \u041d\u0438\u0436\u0435\u0433\u043e\u0440\u043e\u0434\u0441\u043a\u0430\u0433\u043e \u041d\u0430\u043c\u0463\u0441\u0442\u043d\u0438\u0447\u0435\u0441\u0442\u0432\u0430           \u0441\u0435\u043b\u043e   \n",
        "\n",
        "                                                 description    x_coord  \\\n",
        "\u0406\u041e\u0421\u0418\u0424\u041e\u0412\u042a    </span><span class=\"font0\" style=\"font-style:...  not_found   \n",
        "\u0410\u0411\u0417\u0410\u041b\u042c      </span><span class=\"font0\" style=\"font-style:...   31.51667   \n",
        "\u0410\u0412\u0414\u0423\u041b\u041e\u0412\u041e    \u0418\u0412\u0410\u041d\u041e\u0412\u0421\u041a\u041e\u0415 \u0442\u043e\u0436\u044c, </span><span class=\"font0\" s...   53.29975   \n",
        "\u0410\u0412\u0416\u0415\u041d\u0421\u041a\u0410\u042f   </span><span class=\"font0\" style=\"font-style:...  not_found   \n",
        "\u0410\u0414\u041e\u0412\u0410\u0422\u041e\u0412\u041e   </span><span class=\"font0\" style=\"font-style:...  not_found   \n",
        "\n",
        "             y_coord                       pres_loc geo_country_code  \\\n",
        "\u0406\u041e\u0421\u0418\u0424\u041e\u0412\u042a   not_found                      not_found        not_found   \n",
        "\u0410\u0411\u0417\u0410\u041b\u042c      53.83333  Mazra\u2018eh-ye \u0100bzal, Yazd, Iran               IR   \n",
        "\u0410\u0412\u0414\u0423\u041b\u041e\u0412\u041e     38.6293      Avdulovo, Lipetsk, Russia               RU   \n",
        "\u0410\u0412\u0416\u0415\u041d\u0421\u041a\u0410\u042f  not_found                      not_found        not_found   \n",
        "\u0410\u0414\u041e\u0412\u0410\u0422\u041e\u0412\u041e  not_found                      not_found        not_found   \n",
        "\n",
        "              geo_id                                            geo_url  \n",
        "\u0406\u041e\u0421\u0418\u0424\u041e\u0412\u042a   not_found  http://api.geonames.org/search?username=jaguil...  \n",
        "\u0410\u0411\u0417\u0410\u041b\u042c            IR  http://api.geonames.org/search?username=jaguil...  \n",
        "\u0410\u0412\u0414\u0423\u041b\u041e\u0412\u041e          RU  http://api.geonames.org/search?username=jaguil...  \n",
        "\u0410\u0412\u0416\u0415\u041d\u0421\u041a\u0410\u042f  not_found  http://api.geonames.org/search?username=jaguil...  \n",
        "\u0410\u0414\u041e\u0412\u0410\u0422\u041e\u0412\u041e  not_found  http://api.geonames.org/search?username=jaguil...  "
       ]
      }
     ],
     "prompt_number": 9
    },
    {
     "cell_type": "code",
     "collapsed": false,
     "input": [
      "market_towns.ru_featuretype.unique()"
     ],
     "language": "python",
     "metadata": {},
     "outputs": [
      {
       "metadata": {},
       "output_type": "pyout",
       "prompt_number": 8,
       "text": [
        "array(['\u043c\u043e\u043d\u0430\u0441\u0442\u044b\u0440\u044c', '\u0433\u043e\u0440\u043e\u0434\u044a', '\u0441\u0435\u043b\u043e', '\u0432\u043e\u043b\u043e\u0441\u0442\u044c', '\u0441\u043b\u043e\u0431\u043e\u0434\u0430', '\u043a\u0440\u0463\u043f\u043e\u0441\u0442\u044c',\n",
        "       '\u043c\u0463\u0441\u0442\u0435\u0447\u043a\u043e', '\u043f\u0443\u0441\u0442\u044b\u043d\u044f', '\u0441\u0435\u0434\u043e', '\u0433\u043b\u0430\u0432\u043d\u044b\u0439 \u0433\u043e\u0440\u043e\u0434\u044a', '\u0434\u0435\u0440\u0435\u0432\u043d\u044f',\n",
        "       '\u043f\u0440\u0438\u0433\u043e\u0440\u043e\u0434\u044a', '\u0440\u0463\u043a\u0430', '\u0433\u043e\u0440\u043e\u0434\u043e\u043a\u044a', '\u044f\u043c\u044a', '\u043f\u043e\u0433\u043e\u0441\u0442\u044a', '\u043f\u043e\u0441\u0430\u0434\u0463',\n",
        "       '\u0437\u0438\u043c\u043e\u0432\u044c\u0435', '\u0433\u043e\u0440\u043e\u0434\u0463', '\u0448\u0430\u043d\u0446\u044a', '\u0433\u043b\u0430\u0432\u043d\u044b\u0439', '\u043f\u043e\u0441\u0430\u0434\u044a', '\u043e\u0441\u0442\u0440\u043e\u0433\u044a'], dtype=object)"
       ]
      }
     ],
     "prompt_number": 8
    },
    {
     "cell_type": "code",
     "collapsed": false,
     "input": [
      "market_towns.ix[market_towns.x_coord!='not_found'].to_csv('positive_results.csv', encoding = 'utf-8')"
     ],
     "language": "python",
     "metadata": {},
     "outputs": [],
     "prompt_number": 12
    }
   ],
   "metadata": {}
  }
 ]
}