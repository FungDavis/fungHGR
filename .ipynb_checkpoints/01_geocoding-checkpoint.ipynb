{
 "metadata": {
  "name": "",
  "signature": "sha256:d434dbb61b08ff1afa0bd4758a06a5d42bef849719f8e223181f9b80d5af660b"
 },
 "nbformat": 3,
 "nbformat_minor": 0,
 "worksheets": [
  {
   "cells": [
    {
     "cell_type": "code",
     "collapsed": false,
     "input": [
      "import pandas as pd\n",
      "import numpy as np\n",
      "import requests, re, json, os, time"
     ],
     "language": "python",
     "metadata": {},
     "outputs": [],
     "prompt_number": 84
    },
    {
     "cell_type": "code",
     "collapsed": false,
     "input": [
      "market_df = pd.DataFrame.from_csv(\"output/process/no_geo.csv\")"
     ],
     "language": "python",
     "metadata": {},
     "outputs": [],
     "prompt_number": 85
    },
    {
     "cell_type": "code",
     "collapsed": false,
     "input": [
      "import os\n",
      "def Ensure_dir(d):\n",
      "    \"\"\"Makes sure a directory 'd' exists, and if it doesn't, it creates one.\"\"\"\n",
      "    if not os.path.exists(d):\n",
      "        os.makedirs(d)\n",
      "    return 0"
     ],
     "language": "python",
     "metadata": {},
     "outputs": [],
     "prompt_number": 86
    },
    {
     "cell_type": "markdown",
     "metadata": {},
     "source": [
      "Geocoding begins here!\n",
      "======================"
     ]
    },
    {
     "cell_type": "code",
     "collapsed": false,
     "input": [
      "def geonames_request(placename,placeid,east=180,west=-180,north=90,south=-90,fuzzy=1):\n",
      "    \"\"\"\n",
      "    Takes a placename and optional bounding box, returns GeoNames response for query in dict form, with added url key\n",
      "    \"\"\"\n",
      "    url = \"http://api.geonames.org/search\"\n",
      "    Q = {'type':'json','username':'jaguillette','featureClass':'P','name':placename,'north':north,'south':south,'east':east,'west':west,'fuzzy':fuzzy}\n",
      "    R = requests.get(url,params=Q)\n",
      "    #print(R.url)\n",
      "    response = R.json()\n",
      "    Q.update({'url':R.url,'hgr_id':int(placeid)})\n",
      "    response.update({'searchinfo':Q})\n",
      "    return response"
     ],
     "language": "python",
     "metadata": {},
     "outputs": [],
     "prompt_number": 99
    },
    {
     "cell_type": "code",
     "collapsed": false,
     "input": [
      "def geo_response_parse(response,save_location=None):\n",
      "    \"\"\"\n",
      "    Takes a dict object from parsing the json of a geonames request, as returned by geonames_request.\n",
      "    Returns a dict of response properties.\n",
      "    \"\"\"\n",
      "    returnlist = []\n",
      "    if response['totalResultsCount'] != 0:\n",
      "        for p in response['geonames']:\n",
      "            mod_dict = {}\n",
      "            for k in p:\n",
      "                mod_dict[\"gname_{}\".format(k)] = p[k]\n",
      "            returnlist.append(mod_dict)\n",
      "        if save_location is not None:\n",
      "            if not os.path.exists(save_location):\n",
      "                with open(save_location,'w',encoding='utf-8') as fp:\n",
      "                    json.dump(dict(response),fp,sort_keys=True)\n",
      "        #print(\"{} was found\".format(placename))\n",
      "    else:\n",
      "        returnlist = [{}]\n",
      "    for e in returnlist:\n",
      "        e['url'] = response['searchinfo']['url']\n",
      "        e['hgr_id'] = response['searchinfo']['hgr_id']\n",
      "        e['searched_name'] = response['searchinfo']['name']\n",
      "        e['fuzzy'] = response['searchinfo']['fuzzy']\n",
      "        e['north_bound'] = response['searchinfo']['north']\n",
      "        e['south_bound'] = response['searchinfo']['south']\n",
      "        e['east_bound'] = response['searchinfo']['east']\n",
      "        e['west_bound'] = response['searchinfo']['west']\n",
      "    return returnlist"
     ],
     "language": "python",
     "metadata": {},
     "outputs": [],
     "prompt_number": 100
    },
    {
     "cell_type": "code",
     "collapsed": false,
     "input": [
      "def geonames_lookup(placename,placeid,east=180,west=-180,north=90,south=-90):\n",
      "    \"\"\"\n",
      "    Queries geonames for given placename within bounding boxes.\n",
      "    Also queries for alternate spellings if no main spelling is found.\n",
      "    \"\"\"\n",
      "    Ensure_dir(\"geonames_jsons\")\n",
      "    returnlist = []\n",
      "    re_list = [[r'(\u043e\u0439)($|\\s)',r'\u0438\u0439\\2'],[r'(\u0441\u043a)($|\\s)',r'\\2'],[r'(\u0432)$',r'\\1\u043e']]\n",
      "    #Generating a list of possible placenames based on above regex.\n",
      "    #Placename will be added, then removed for de-duplication after set operation.\n",
      "    pname_list = [placename]\n",
      "    for pair in re_list:\n",
      "        pname_list.append(re.sub(pair[0],pair[1],placename))\n",
      "    pname_list = set(pname_list)\n",
      "    pname_list.remove(placename)\n",
      "    #First geocoding attempt\n",
      "    response1 = geonames_request(placename,placeid,east=east,west=west,north=north,south=south)\n",
      "    #print(\"Now querying {}...\".format(placename))\n",
      "    time.sleep(1)\n",
      "    save_loc = \"geonames_jsons/{}_{}.json\".format(placeid,placename)\n",
      "    parsed1 = geo_response_parse(response1,save_location=save_loc)\n",
      "    returnlist.extend(parsed1)\n",
      "    if not any('gname_geonameId' in d for d in parsed1):\n",
      "        for p in pname_list:\n",
      "            time.sleep(1)\n",
      "            print(\"Querying alternate name {}\".format(p))\n",
      "            response = geonames_request(p,placeid,east=east,west=west,north=north,south=south)\n",
      "            save_loc = \"geonames_jsons/{}_{}.json\".format(placeid,p)\n",
      "            parsed = geo_response_parse(response,save_location=save_loc)\n",
      "            returnlist.extend(parsed)\n",
      "    if not any('gname_geonameId' in d for d in returnlist):\n",
      "        keepgoing = True\n",
      "        fuzzy = .9\n",
      "        while keepgoing:\n",
      "            response = geonames_request(placename,placeid,east=east,west=west,north=north,south=south,fuzzy=fuzzy)\n",
      "            save_loc = \"geonames_jsons/{}_{}_f{:.2}.json\".format(placeid,placename,fuzzy)\n",
      "            parsed = geo_response_parse(response,save_location=save_loc)\n",
      "            returnlist.extend(parsed)\n",
      "            if any('gname_geonameId' in d for d in parsed):\n",
      "                keepgoing=False\n",
      "            else:\n",
      "                fuzzy = fuzzy-.1\n",
      "                time.sleep(1)\n",
      "    return returnlist"
     ],
     "language": "python",
     "metadata": {},
     "outputs": [],
     "prompt_number": 102
    },
    {
     "cell_type": "code",
     "collapsed": false,
     "input": [
      "with open(\"resources/partof_prov_bounds.json\",'r',encoding = 'utf-8') as fp:\n",
      "    bounding_dict = json.load(fp)"
     ],
     "language": "python",
     "metadata": {},
     "outputs": [],
     "prompt_number": 90
    },
    {
     "cell_type": "code",
     "collapsed": false,
     "input": [
      "no_prov = len(market_df.ix[market_df.ru_prov=='not_in_text'])\n",
      "no_uezd = len(market_df.ix[market_df.ru_uezd=='not_in_text'])\n",
      "total = len(market_df)\n",
      "print(\"{1} / {0} ({2:.2%}) towns have no Namiestnichestvo recorded\\n{3} / {0} ({4:.2%}) towns have no Uyezd recorded\".format(total,no_prov,no_prov/total,no_uezd,no_uezd/total))"
     ],
     "language": "python",
     "metadata": {},
     "outputs": [
      {
       "output_type": "stream",
       "stream": "stdout",
       "text": [
        "29 / 801 (3.62%) towns have no Namiestnichestvo recorded\n",
        "397 / 801 (49.56%) towns have no Uyezd recorded\n"
       ]
      }
     ],
     "prompt_number": 91
    },
    {
     "cell_type": "markdown",
     "metadata": {},
     "source": [
      "Market Town Geocoding\n",
      "====================="
     ]
    },
    {
     "cell_type": "code",
     "collapsed": false,
     "input": [
      "geocoded = []\n",
      "problem_prov = []\n",
      "d = 4\n",
      "for x in range(0,len(market_df)):\n",
      "    entry = market_df.iloc[x]\n",
      "    try:\n",
      "        loc = bounding_dict[str(float(entry['admin1_partofID']))]\n",
      "    except KeyError:\n",
      "        print(entry['admin1_partofID'])\n",
      "        problem_prov.append(entry['admin1_partofID'])\n",
      "        continue\n",
      "    if \"boundaries\" in loc:\n",
      "        W = loc[\"boundaries\"][0]\n",
      "        S = loc[\"boundaries\"][1]\n",
      "        E = loc[\"boundaries\"][2]\n",
      "        N = loc[\"boundaries\"][3]\n",
      "    else:\n",
      "        N = loc[\"center\"][0]+d\n",
      "        S = loc[\"center\"][0]-d\n",
      "        W = loc[\"center\"][1]-d\n",
      "        E = loc[\"center\"][1]+d\n",
      "    geocoded.extend(geonames_lookup(entry['ru_new_orth'],entry.name,north=N,south=S,west=W,east=E))\n",
      "    print(\"Looked up {}\".format(entry['ru_new_orth']))"
     ],
     "language": "python",
     "metadata": {},
     "outputs": [
      {
       "output_type": "stream",
       "stream": "stdout",
       "text": [
        "Looked up \u0410\u0432\u0434\u0443\u043b\u043e\u0432\u043e\n",
        "Looked up \u0410\u0432\u0436\u0435\u043d\u0441\u043a\u0430\u044f"
       ]
      },
      {
       "output_type": "stream",
       "stream": "stdout",
       "text": [
        "\n",
        "Querying alternate name \u0410\u0432\u0440\u0430\u043c\u0438\u0435\u0432\u043e"
       ]
      },
      {
       "output_type": "stream",
       "stream": "stdout",
       "text": [
        "\n"
       ]
      },
      {
       "ename": "KeyboardInterrupt",
       "evalue": "",
       "output_type": "pyerr",
       "traceback": [
        "\u001b[1;31m---------------------------------------------------------------------------\u001b[0m\n\u001b[1;31mKeyboardInterrupt\u001b[0m                         Traceback (most recent call last)",
        "\u001b[1;32m<ipython-input-103-caa49f0ce5d3>\u001b[0m in \u001b[0;36m<module>\u001b[1;34m()\u001b[0m\n\u001b[0;32m     20\u001b[0m         \u001b[0mW\u001b[0m \u001b[1;33m=\u001b[0m \u001b[0mloc\u001b[0m\u001b[1;33m[\u001b[0m\u001b[1;34m\"center\"\u001b[0m\u001b[1;33m]\u001b[0m\u001b[1;33m[\u001b[0m\u001b[1;36m1\u001b[0m\u001b[1;33m]\u001b[0m\u001b[1;33m-\u001b[0m\u001b[0md\u001b[0m\u001b[1;33m\u001b[0m\u001b[0m\n\u001b[0;32m     21\u001b[0m         \u001b[0mE\u001b[0m \u001b[1;33m=\u001b[0m \u001b[0mloc\u001b[0m\u001b[1;33m[\u001b[0m\u001b[1;34m\"center\"\u001b[0m\u001b[1;33m]\u001b[0m\u001b[1;33m[\u001b[0m\u001b[1;36m1\u001b[0m\u001b[1;33m]\u001b[0m\u001b[1;33m+\u001b[0m\u001b[0md\u001b[0m\u001b[1;33m\u001b[0m\u001b[0m\n\u001b[1;32m---> 22\u001b[1;33m     \u001b[0mgeocoded\u001b[0m\u001b[1;33m.\u001b[0m\u001b[0mextend\u001b[0m\u001b[1;33m(\u001b[0m\u001b[0mgeonames_lookup\u001b[0m\u001b[1;33m(\u001b[0m\u001b[0mentry\u001b[0m\u001b[1;33m[\u001b[0m\u001b[1;34m'ru_new_orth'\u001b[0m\u001b[1;33m]\u001b[0m\u001b[1;33m,\u001b[0m\u001b[0mentry\u001b[0m\u001b[1;33m.\u001b[0m\u001b[0mname\u001b[0m\u001b[1;33m,\u001b[0m\u001b[0mnorth\u001b[0m\u001b[1;33m=\u001b[0m\u001b[0mN\u001b[0m\u001b[1;33m,\u001b[0m\u001b[0msouth\u001b[0m\u001b[1;33m=\u001b[0m\u001b[0mS\u001b[0m\u001b[1;33m,\u001b[0m\u001b[0mwest\u001b[0m\u001b[1;33m=\u001b[0m\u001b[0mW\u001b[0m\u001b[1;33m,\u001b[0m\u001b[0meast\u001b[0m\u001b[1;33m=\u001b[0m\u001b[0mE\u001b[0m\u001b[1;33m)\u001b[0m\u001b[1;33m)\u001b[0m\u001b[1;33m\u001b[0m\u001b[0m\n\u001b[0m\u001b[0;32m     23\u001b[0m     \u001b[0mprint\u001b[0m\u001b[1;33m(\u001b[0m\u001b[1;34m\"Looked up {}\"\u001b[0m\u001b[1;33m.\u001b[0m\u001b[0mformat\u001b[0m\u001b[1;33m(\u001b[0m\u001b[0mentry\u001b[0m\u001b[1;33m[\u001b[0m\u001b[1;34m'ru_new_orth'\u001b[0m\u001b[1;33m]\u001b[0m\u001b[1;33m)\u001b[0m\u001b[1;33m)\u001b[0m\u001b[1;33m\u001b[0m\u001b[0m\n",
        "\u001b[1;32m<ipython-input-102-c7bd76166016>\u001b[0m in \u001b[0;36mgeonames_lookup\u001b[1;34m(placename, placeid, east, west, north, south)\u001b[0m\n\u001b[0;32m     41\u001b[0m             \u001b[1;32melse\u001b[0m\u001b[1;33m:\u001b[0m\u001b[1;33m\u001b[0m\u001b[0m\n\u001b[0;32m     42\u001b[0m                 \u001b[0mfuzzy\u001b[0m \u001b[1;33m=\u001b[0m \u001b[0mfuzzy\u001b[0m\u001b[1;33m-\u001b[0m\u001b[1;36m.1\u001b[0m\u001b[1;33m\u001b[0m\u001b[0m\n\u001b[1;32m---> 43\u001b[1;33m                 \u001b[0mtime\u001b[0m\u001b[1;33m.\u001b[0m\u001b[0msleep\u001b[0m\u001b[1;33m(\u001b[0m\u001b[1;36m1\u001b[0m\u001b[1;33m)\u001b[0m\u001b[1;33m\u001b[0m\u001b[0m\n\u001b[0m\u001b[0;32m     44\u001b[0m     \u001b[1;32mreturn\u001b[0m \u001b[0mreturnlist\u001b[0m\u001b[1;33m\u001b[0m\u001b[0m\n",
        "\u001b[1;31mKeyboardInterrupt\u001b[0m: "
       ]
      }
     ],
     "prompt_number": 103
    },
    {
     "cell_type": "code",
     "collapsed": false,
     "input": [
      "test = {'totalResultsCount': 3, 'geonames': [{'name': 'Averinskaya', 'fclName': 'city, village,...', 'geonameId': 580273, 'countryId': '2017370', 'countryCode': 'RU', 'toponymName': 'Averinskaya', 'fcl': 'P', 'fcodeName': 'populated place', 'countryName': 'Russia', 'fcode': 'PPL', 'population': 0, 'lat': '60.2056', 'adminName1': 'Vologda', 'adminCode1': '85', 'lng': '41.69619'}, {'name': 'Averinskaya', 'fclName': 'city, village,...', 'geonameId': 580274, 'countryId': '2017370', 'countryCode': 'RU', 'toponymName': 'Averinskaya', 'fcl': 'P', 'fcodeName': 'populated place', 'countryName': 'Russia', 'fcode': 'PPL', 'population': 0, 'lat': '58.82929', 'adminName1': 'Kirov', 'adminCode1': '33', 'lng': '53.29542'}, {'name': 'Averinskaya', 'fclName': 'city, village,...', 'geonameId': 580275, 'countryId': '2017370', 'countryCode': 'RU', 'toponymName': 'Averinskaya', 'fcl': 'P', 'fcodeName': 'populated place', 'countryName': 'Russia', 'fcode': 'PPL', 'population': 0, 'lat': '57.25', 'adminName1': 'Jaroslavl', 'adminCode1': '88', 'lng': '38.33333'}], 'searchinfo': {'name': '\u0410\u0432\u0436\u0435\u043d\u0441\u043a\u0430\u044f', 'fuzzy': 0.7000000000000001, 'west': 37.83, 'type': 'json', 'url': 'http://api.geonames.org/search?name=%D0%90%D0%B2%D0%B6%D0%B5%D0%BD%D1%81%D0%BA%D0%B0%D1%8F&fuzzy=0.7000000000000001&west=37.83&type=json&east=57.25&north=64.08&username=jaguillette&south=57.25&featureClass=P', 'east': 57.25, 'north': 64.08, 'hgr_id': 4, 'username': 'jaguillette', 'south': 57.25, 'featureClass': 'P'}}\n",
      "with open('test.json','w',encoding='utf-8') as fp:\n",
      "    json.dump(test,fp,sort_keys=True)"
     ],
     "language": "python",
     "metadata": {},
     "outputs": [],
     "prompt_number": 71
    },
    {
     "cell_type": "code",
     "collapsed": false,
     "input": [
      "problem_prov"
     ],
     "language": "python",
     "metadata": {},
     "outputs": [
      {
       "metadata": {},
       "output_type": "pyout",
       "prompt_number": 27,
       "text": [
        "[]"
       ]
      }
     ],
     "prompt_number": 27
    },
    {
     "cell_type": "code",
     "collapsed": false,
     "input": [
      "geodf = pd.DataFrame(geocoded,columns=['hgr_id','result_placename','searched_placename','admin1','country_name','lat','lng','src_id','country_code','url','src','local_result'])"
     ],
     "language": "python",
     "metadata": {},
     "outputs": [],
     "prompt_number": 28
    },
    {
     "cell_type": "code",
     "collapsed": false,
     "input": [
      "len(geodf)"
     ],
     "language": "python",
     "metadata": {},
     "outputs": [
      {
       "metadata": {},
       "output_type": "pyout",
       "prompt_number": 29,
       "text": [
        "2428"
       ]
      }
     ],
     "prompt_number": 29
    },
    {
     "cell_type": "code",
     "collapsed": false,
     "input": [
      "geodf.to_excel('output/geocoded.xlsx',encoding='utf-8')\n",
      "geodf.to_csv('output/geocoded.csv',encoding='utf-8')"
     ],
     "language": "python",
     "metadata": {},
     "outputs": [
      {
       "output_type": "stream",
       "stream": "stderr",
       "text": [
        "c:\\Anaconda3\\lib\\site-packages\\xlsxwriter\\worksheet.py:827: UserWarning: Ignoring URL 'http://api.geonames.org/search?north=70.1894276115&west=27.4506621361&south=60.3600075373&name=%D0%91%D0%BB%D0%B0%D0%B3%D0%BE%D0%B2%D0%B5%D1%89%D0%B5%D0%BD%D1%81%D0%BA%D0%BE%D0%B9+%D0%9F%D1%80%D0%B8%D1%85%D0%BE%D0%B4&username=jaguillette&east=58.6121673584&featureClass=P&type=json' > 255 characters since it exceeds Excel's limit for URLS\n",
        "  \"Excel's limit for URLS\" % url)\n",
        "c:\\Anaconda3\\lib\\site-packages\\xlsxwriter\\worksheet.py:827: UserWarning: Ignoring URL 'http://api.geonames.org/search?north=70.1894276115&west=27.4506621361&south=60.3600075373&name=%D0%91%D0%BB%D0%B0%D0%B3%D0%BE%D0%B2%D0%B5%D1%89%D0%B5%D0%BD%D1%81%D0%BA%D0%B8%D0%B9+%D0%9F%D1%80%D0%B8%D1%85%D0%BE%D0%B4&username=jaguillette&east=58.6121673584&featureClass=P&type=json' > 255 characters since it exceeds Excel's limit for URLS\n",
        "  \"Excel's limit for URLS\" % url)\n",
        "c:\\Anaconda3\\lib\\site-packages\\xlsxwriter\\worksheet.py:827: UserWarning: Ignoring URL 'http://api.geonames.org/search?north=54.837&west=41.8373&south=52.3247&name=%D0%91%D0%BE%D0%B3%D0%BE%D1%80%D0%BE%D0%B4%D0%B8%D1%86%D0%BA%D0%BE%D0%B9+%D0%9A%D0%B0%D0%B7%D0%B0%D0%BD%D1%81%D0%BA%D0%BE%D0%B9&username=jaguillette&east=46.7277&featureClass=P&type=json' > 255 characters since it exceeds Excel's limit for URLS\n",
        "  \"Excel's limit for URLS\" % url)\n",
        "c:\\Anaconda3\\lib\\site-packages\\xlsxwriter\\worksheet.py:827: UserWarning: Ignoring URL 'http://api.geonames.org/search?north=54.837&west=41.8373&south=52.3247&name=%D0%91%D0%BE%D0%B3%D0%BE%D1%80%D0%BE%D0%B4%D0%B8%D1%86%D0%BA%D0%B8%D0%B9+%D0%9A%D0%B0%D0%B7%D0%B0%D0%BD%D1%81%D0%BA%D0%B8%D0%B9&username=jaguillette&east=46.7277&featureClass=P&type=json' > 255 characters since it exceeds Excel's limit for URLS\n",
        "  \"Excel's limit for URLS\" % url)\n",
        "c:\\Anaconda3\\lib\\site-packages\\xlsxwriter\\worksheet.py:827: UserWarning: Ignoring URL 'http://api.geonames.org/search?north=55.0867&west=35.5421&south=52.8329&name=%D0%92%D0%B5%D0%BD%D0%B5%D0%B2%D1%81%D0%BA%D0%BE%D0%B9+%D0%9D%D0%B8%D0%BA%D0%BE%D0%BB%D0%B0%D0%B5%D0%B2%D1%81%D0%BA%D0%BE%D0%B9&username=jaguillette&east=39.6827&featureClass=P&type=json' > 255 characters since it exceeds Excel's limit for URLS\n",
        "  \"Excel's limit for URLS\" % url)\n",
        "c:\\Anaconda3\\lib\\site-packages\\xlsxwriter\\worksheet.py:827: UserWarning: Ignoring URL 'http://api.geonames.org/search?north=55.0867&west=35.5421&south=52.8329&name=%D0%92%D0%B5%D0%BD%D0%B5%D0%B2%D1%81%D0%BA%D0%B8%D0%B9+%D0%9D%D0%B8%D0%BA%D0%BE%D0%BB%D0%B0%D0%B5%D0%B2%D1%81%D0%BA%D0%B8%D0%B9&username=jaguillette&east=39.6827&featureClass=P&type=json' > 255 characters since it exceeds Excel's limit for URLS\n",
        "  \"Excel's limit for URLS\" % url)\n",
        "c:\\Anaconda3\\lib\\site-packages\\xlsxwriter\\worksheet.py:827: UserWarning: Ignoring URL 'http://api.geonames.org/search?north=54.837&west=41.8373&south=52.3247&name=%D0%9A%D0%B0%D0%B7%D0%B0%D0%BD%D1%81%D0%BA%D0%BE%D0%B9+%D0%91%D0%BE%D0%B3%D0%BE%D1%80%D0%BE%D0%B4%D0%B8%D1%86%D0%BA%D0%BE%D0%B9&username=jaguillette&east=46.7277&featureClass=P&type=json' > 255 characters since it exceeds Excel's limit for URLS\n",
        "  \"Excel's limit for URLS\" % url)\n",
        "c:\\Anaconda3\\lib\\site-packages\\xlsxwriter\\worksheet.py:827: UserWarning: Ignoring URL 'http://api.geonames.org/search?north=54.837&west=41.8373&south=52.3247&name=%D0%9A%D0%B0%D0%B7%D0%B0%D0%BD%D1%81%D0%BA%D0%B8%D0%B9+%D0%91%D0%BE%D0%B3%D0%BE%D1%80%D0%BE%D0%B4%D0%B8%D1%86%D0%BA%D0%B8%D0%B9&username=jaguillette&east=46.7277&featureClass=P&type=json' > 255 characters since it exceeds Excel's limit for URLS\n",
        "  \"Excel's limit for URLS\" % url)\n",
        "c:\\Anaconda3\\lib\\site-packages\\xlsxwriter\\worksheet.py:827: UserWarning: Ignoring URL 'http://api.geonames.org/search?north=78.0&west=24.8&south=38.6&name=%D0%A1%D0%B2%D0%B8%D1%80%D1%81%D0%BA%D0%BE%D0%B9+%D0%90%D0%BB%D0%B5%D0%BA%D1%81%D0%B0%D0%BD%D0%B4%D1%80%D0%BE%D0%B2%D1%81%D0%BA%D0%BE%D0%B9&username=jaguillette&east=180&featureClass=P&type=json' > 255 characters since it exceeds Excel's limit for URLS\n",
        "  \"Excel's limit for URLS\" % url)\n",
        "c:\\Anaconda3\\lib\\site-packages\\xlsxwriter\\worksheet.py:827: UserWarning: Ignoring URL 'http://api.geonames.org/search?north=78.0&west=24.8&south=38.6&name=%D0%A1%D0%B2%D0%B8%D1%80%D1%81%D0%BA%D0%B8%D0%B9+%D0%90%D0%BB%D0%B5%D0%BA%D1%81%D0%B0%D0%BD%D0%B4%D1%80%D0%BE%D0%B2%D1%81%D0%BA%D0%B8%D0%B9&username=jaguillette&east=180&featureClass=P&type=json' > 255 characters since it exceeds Excel's limit for URLS\n",
        "  \"Excel's limit for URLS\" % url)\n",
        "c:\\Anaconda3\\lib\\site-packages\\xlsxwriter\\worksheet.py:827: UserWarning: Ignoring URL 'http://api.geonames.org/search?north=64.08&west=37.83&south=57.25&name=%D0%A2%D0%B5%D0%BF%D0%BB%D0%BE%D0%B3%D0%BE%D1%80%D1%81%D0%BA%D0%B0%D1%8F+%D0%91%D0%BE%D0%B3%D0%BE%D1%80%D0%BE%D0%B4%D0%B8%D1%86%D0%BA%D0%B0%D1%8F&username=jaguillette&east=57.25&featureClass=P&type=json' > 255 characters since it exceeds Excel's limit for URLS\n",
        "  \"Excel's limit for URLS\" % url)\n",
        "c:\\Anaconda3\\lib\\site-packages\\xlsxwriter\\worksheet.py:827: UserWarning: Ignoring URL 'http://api.geonames.org/search?north=59.0651312501&west=24.1218047142&south=55.1937102573&name=%D0%A7%D0%B0%D1%81%D0%BE%D0%B2%D0%BD%D1%8F+%D0%90%D0%BF%D0%BE%D1%81%D1%82%D0%BE%D0%BB%D0%B0+%D0%A4%D0%BE%D0%BC%D1%8B&username=jaguillette&east=32.1900482178&featureClass=P&type=json' > 255 characters since it exceeds Excel's limit for URLS\n",
        "  \"Excel's limit for URLS\" % url)\n",
        "c:\\Anaconda3\\lib\\site-packages\\xlsxwriter\\worksheet.py:827: UserWarning: Ignoring URL 'http://api.geonames.org/search?north=61.616667&west=35.85&south=53.616667&name=%D0%A7%D0%B5%D1%80%D0%B8%D0%BE%D0%BE%D1%81%D1%82%D1%80%D0%BE%D0%B6%D1%81%D0%BA%D0%BE%D0%B9+%D0%9D%D0%B8%D0%BA%D0%BE%D0%BB%D0%B0%D0%B5%D0%B2%D1%81%D0%BA%D0%BE%D0%B9&username=jaguillette&east=43.85&featureClass=P&type=json' > 255 characters since it exceeds Excel's limit for URLS\n",
        "  \"Excel's limit for URLS\" % url)\n",
        "c:\\Anaconda3\\lib\\site-packages\\xlsxwriter\\worksheet.py:827: UserWarning: Ignoring URL 'http://api.geonames.org/search?north=61.616667&west=35.85&south=53.616667&name=%D0%A7%D0%B5%D1%80%D0%B8%D0%BE%D0%BE%D1%81%D1%82%D1%80%D0%BE%D0%B6%D1%81%D0%BA%D0%B8%D0%B9+%D0%9D%D0%B8%D0%BA%D0%BE%D0%BB%D0%B0%D0%B5%D0%B2%D1%81%D0%BA%D0%B8%D0%B9&username=jaguillette&east=43.85&featureClass=P&type=json' > 255 characters since it exceeds Excel's limit for URLS\n",
        "  \"Excel's limit for URLS\" % url)\n",
        "c:\\Anaconda3\\lib\\site-packages\\xlsxwriter\\worksheet.py:827: UserWarning: Ignoring URL 'http://api.geonames.org/search?north=56.716667&west=37.433333&south=48.716667&name=%D0%A7%D0%B5%D1%80%D0%BD%D0%B5%D0%B5%D0%B2+%D0%9D%D0%B8%D0%BA%D0%BE%D0%BB%D0%B0%D0%B5%D0%B2%D1%81%D0%BA%D0%BE%D0%B9&username=jaguillette&east=45.433333&featureClass=P&type=json' > 255 characters since it exceeds Excel's limit for URLS\n",
        "  \"Excel's limit for URLS\" % url)\n",
        "c:\\Anaconda3\\lib\\site-packages\\xlsxwriter\\worksheet.py:827: UserWarning: Ignoring URL 'http://api.geonames.org/search?north=56.716667&west=37.433333&south=48.716667&name=%D0%A7%D0%B5%D1%80%D0%BD%D0%B5%D0%B5%D0%B2+%D0%9D%D0%B8%D0%BA%D0%BE%D0%BB%D0%B0%D0%B5%D0%B2%D1%81%D0%BA%D0%B8%D0%B9&username=jaguillette&east=45.433333&featureClass=P&type=json' > 255 characters since it exceeds Excel's limit for URLS\n",
        "  \"Excel's limit for URLS\" % url)\n",
        "c:\\Anaconda3\\lib\\site-packages\\xlsxwriter\\worksheet.py:827: UserWarning: Ignoring URL 'http://api.geonames.org/search?north=60.133333&west=36.416667&south=52.133333&name=%D0%A8%D0%B0%D1%80%D1%82%D0%BE%D0%BB%D0%B8%D0%BD%D1%81%D0%BA%D0%BE%D0%B9+%D0%9D%D0%B8%D0%BA%D0%BE%D0%BB%D0%B0%D0%B5%D0%B2%D1%81%D0%BA%D0%BE%D0%B9&username=jaguillette&east=44.416667&featureClass=P&type=json' > 255 characters since it exceeds Excel's limit for URLS\n",
        "  \"Excel's limit for URLS\" % url)\n",
        "c:\\Anaconda3\\lib\\site-packages\\xlsxwriter\\worksheet.py:827: UserWarning: Ignoring URL 'http://api.geonames.org/search?north=60.133333&west=36.416667&south=52.133333&name=%D0%A8%D0%B0%D1%80%D1%82%D0%BE%D0%BB%D0%B8%D0%BD%D1%81%D0%BA%D0%B8%D0%B9+%D0%9D%D0%B8%D0%BA%D0%BE%D0%BB%D0%B0%D0%B5%D0%B2%D1%81%D0%BA%D0%B8%D0%B9&username=jaguillette&east=44.416667&featureClass=P&type=json' > 255 characters since it exceeds Excel's limit for URLS\n",
        "  \"Excel's limit for URLS\" % url)\n"
       ]
      }
     ],
     "prompt_number": 30
    },
    {
     "cell_type": "code",
     "collapsed": false,
     "input": [
      "geodf_merged = pd.merge(geodf,market_df,left_on='hgr_id',right_index=True)\n",
      "geodf_merged = geodf_merged[['hgr_id', 'name', 'alt_name', 'partof_id', 'lng', 'lat', '_type', 'source_url', 'text', 'name_modern_sp', 'result_placename','searched_placename', 'admin1', 'country_name', 'src_id', 'country_code', 'url', 'local_result', 'src', 'ru_prov', 'prov_modern_sp', 'prov_stem', 'admin1_partof', 'ru_uezd','uezd_modern_sp','uezd_stem', 'admin2_partof', 'page']]"
     ],
     "language": "python",
     "metadata": {},
     "outputs": [],
     "prompt_number": 31
    },
    {
     "cell_type": "code",
     "collapsed": false,
     "input": [
      "cyrillic_translit={u'\\u0410': 'A', u'\\u0430': 'a',u'\\u0411': 'B', u'\\u0431': 'b',u'\\u0412': 'V', u'\\u0432': 'v',u'\\u0413': 'G', u'\\u0433': 'g',u'\\u0414': 'D', u'\\u0434': 'd',u'\\u0415': 'E', u'\\u0435': 'e',u'\\u0416': 'Zh', u'\\u0436': 'zh',u'\\u0417': 'Z', u'\\u0437': 'z',u'\\u0418': 'I', u'\\u0438': 'i',u'\\u0419': 'I', u'\\u0439': 'i',u'\\u041a': 'K', u'\\u043a': 'k',u'\\u041b': 'L', u'\\u043b': 'l',u'\\u041c': 'M', u'\\u043c': 'm',u'\\u041d': 'N', u'\\u043d': 'n',u'\\u041e': 'O', u'\\u043e': 'o',u'\\u041f': 'P', u'\\u043f': 'p',u'\\u0420': 'R', u'\\u0440': 'r',u'\\u0421': 'S', u'\\u0441': 's',u'\\u0422': 'T', u'\\u0442': 't',u'\\u0423': 'U', u'\\u0443': 'u',u'\\u0424': 'F', u'\\u0444': 'f',u'\\u0425': 'Kh', u'\\u0445': 'kh',u'\\u0426': 'Ts', u'\\u0446': 'ts',u'\\u0427': 'Ch', u'\\u0447': 'ch',u'\\u0428': 'Sh', u'\\u0448': 'sh',u'\\u0429': 'Shch', u'\\u0449': 'shch',u'\\u042a': '\"', u'\\u044a': '\"',u'\\u042b': 'Y', u'\\u044b': 'y',u'\\u042c': \"'\", u'\\u044c': \"'\",u'\\u042d': 'E', u'\\u044d': 'e',u'\\u042e': 'Iu', u'\\u044e': 'iu',u'\\u042f': 'Ia', u'\\u044f': 'ia',u'\\u0462': 'E', u'\\u0463': 'e'}\n",
      "\n",
      "def transliterate(word, translit_table):\n",
      "    \"\"\"\n",
      "    Transliterates 'word' based on the key/value pairs in 'translit_table'\n",
      "    \"\"\"\n",
      "    converted_word = ''\n",
      "    for char in word:\n",
      "        transchar = ''\n",
      "        if char in translit_table:\n",
      "            transchar = translit_table[char]\n",
      "        else:\n",
      "            transchar = char\n",
      "        converted_word += transchar\n",
      "    return converted_word"
     ],
     "language": "python",
     "metadata": {},
     "outputs": [],
     "prompt_number": 32
    },
    {
     "cell_type": "code",
     "collapsed": false,
     "input": [
      "geodf_merged['lc_translit'] = geodf_merged.name_modern_sp.apply(lambda text: transliterate(text,cyrillic_translit))"
     ],
     "language": "python",
     "metadata": {},
     "outputs": [],
     "prompt_number": 33
    },
    {
     "cell_type": "code",
     "collapsed": false,
     "input": [
      "geodf_merged.to_excel('output/geocoded_merged.xlsx',encoding = 'utf-8')\n",
      "geodf_merged.to_csv('output/geocoded_merged.csv',encoding = 'utf-8')"
     ],
     "language": "python",
     "metadata": {},
     "outputs": [],
     "prompt_number": 42
    },
    {
     "cell_type": "code",
     "collapsed": false,
     "input": [
      "finding_counts = geodf.ix[geodf.result_placename!='not_found'].pivot_table(index='hgr_id',values='lat',aggfunc=lambda x: len(x.unique()))\n",
      "fdf = pd.DataFrame(finding_counts)"
     ],
     "language": "python",
     "metadata": {},
     "outputs": [],
     "prompt_number": 35
    },
    {
     "cell_type": "code",
     "collapsed": false,
     "input": [
      "single_results = pd.merge(fdf.ix[fdf.lat==1],geodf_merged,left_index=True,right_on='hgr_id')\n",
      "single_results = single_results.ix[single_results.result_placename!='not_found']\n",
      "len(single_results)"
     ],
     "language": "python",
     "metadata": {},
     "outputs": [
      {
       "metadata": {},
       "output_type": "pyout",
       "prompt_number": 38,
       "text": [
        "275"
       ]
      }
     ],
     "prompt_number": 38
    },
    {
     "cell_type": "code",
     "collapsed": false,
     "input": [
      "single_results.name_modern_sp = single_results.name_modern_sp.str.title()"
     ],
     "language": "python",
     "metadata": {},
     "outputs": [],
     "prompt_number": 39
    },
    {
     "cell_type": "code",
     "collapsed": false,
     "input": [
      "single_results.to_csv('output/single_results.csv',encoding='utf-8')"
     ],
     "language": "python",
     "metadata": {},
     "outputs": [],
     "prompt_number": 41
    },
    {
     "cell_type": "code",
     "collapsed": false,
     "input": [
      "def reverse_geocode(lng,lat):\n",
      "    keepgoing = True\n",
      "    while keepgoing == True:\n",
      "        try:\n",
      "            url = \"https://maps.googleapis.com/maps/api/geocode/json\"\n",
      "            Q = {'latlng':\"{},{}\".format(lat,lng)}\n",
      "            R = requests.get(url, params=Q)\n",
      "            print(R.url)\n",
      "            geo_response = R.json()\n",
      "            locality = 'error'\n",
      "            for component in geo_response['results'][0]['address_components']:\n",
      "                if 'locality' in component['types']:\n",
      "                    locality = component['long_name']\n",
      "                elif 'administrative_area_level_1' in component['types']:\n",
      "                    admin1 = component['long_name']\n",
      "                elif 'country' in component['types']:\n",
      "                    country = component['long_name']\n",
      "                    countryCode = component['short_name']\n",
      "            if locality == 'error':\n",
      "                for component in geo_response['results'][0]['address_components']:\n",
      "                    if 'administrative_area_level_2' in component['types']:\n",
      "                        locality = component['long_name']\n",
      "            print(\"\\\"{0}, {1}\\\",\\\"{2}\\\",\\\"{3}\\\"\".format(locality,admin1,country,countryCode))\n",
      "            time.sleep(1)\n",
      "            keepgoing = False\n",
      "        except IndexError:\n",
      "            time.sleep(1)\n",
      "            continue\n",
      "        return \"{}, {}\".format(locality,admin1), country, countryCode"
     ],
     "language": "python",
     "metadata": {},
     "outputs": [],
     "prompt_number": 37
    },
    {
     "cell_type": "code",
     "collapsed": false,
     "input": [
      "single_results['pres_loc'], single_results['country'], single_results['country_code'] = np.vectorize(reverse_geocode)(single_results.lng,single_results.lat_y)"
     ],
     "language": "python",
     "metadata": {},
     "outputs": []
    },
    {
     "cell_type": "code",
     "collapsed": false,
     "input": [
      "single_results = single_results[['lat_x', 'hgr_id', 'name', 'alt_name', 'partof_id', 'lng', 'lat_y', '_type', 'source_url', 'text', 'name_modern_sp', 'lc_translit', 'pres_loc', 'country', 'country_code', 'result_placename', 'searched_placename', 'admin1', 'country_name', 'src_id', 'url', 'local_result', 'src', 'ru_prov', 'prov_modern_sp', 'prov_stem', 'ru_uezd', 'page']]"
     ],
     "language": "python",
     "metadata": {},
     "outputs": []
    }
   ],
   "metadata": {}
  }
 ]
}