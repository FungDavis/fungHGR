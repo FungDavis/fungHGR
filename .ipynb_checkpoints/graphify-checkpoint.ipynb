{
 "cells": [
  {
   "cell_type": "code",
   "execution_count": 1,
   "metadata": {
    "collapsed": true
   },
   "outputs": [],
   "source": [
    "import json, csv\n",
    "import pandas as pd"
   ]
  },
  {
   "cell_type": "code",
   "execution_count": 2,
   "metadata": {
    "collapsed": true
   },
   "outputs": [],
   "source": [
    "with open(\"output/enhanced_dataset.json\", 'r') as fp:\n",
    "    dataset = json.load(fp)"
   ]
  },
  {
   "cell_type": "code",
   "execution_count": 3,
   "metadata": {
    "collapsed": true
   },
   "outputs": [],
   "source": [
    "admin = pd.read_csv('resources/admin_areas.csv',index_col='uniq_id')"
   ]
  },
  {
   "cell_type": "code",
   "execution_count": 4,
   "metadata": {
    "collapsed": true
   },
   "outputs": [],
   "source": [
    "cyrillic_translit={u'\\u0410': 'A', u'\\u0430': 'a',u'\\u0411': 'B', u'\\u0431': 'b',u'\\u0412': 'V', u'\\u0432': 'v',u'\\u0413': 'G', u'\\u0433': 'g',u'\\u0414': 'D', u'\\u0434': 'd',u'\\u0415': 'E', u'\\u0435': 'e',u'\\u0416': 'Zh', u'\\u0436': 'zh',u'\\u0417': 'Z', u'\\u0437': 'z',u'\\u0418': 'I', u'\\u0438': 'i',u'\\u0419': 'I', u'\\u0439': 'i',u'\\u041a': 'K', u'\\u043a': 'k',u'\\u041b': 'L', u'\\u043b': 'l',u'\\u041c': 'M', u'\\u043c': 'm',u'\\u041d': 'N', u'\\u043d': 'n',u'\\u041e': 'O', u'\\u043e': 'o',u'\\u041f': 'P', u'\\u043f': 'p',u'\\u0420': 'R', u'\\u0440': 'r',u'\\u0421': 'S', u'\\u0441': 's',u'\\u0422': 'T', u'\\u0442': 't',u'\\u0423': 'U', u'\\u0443': 'u',u'\\u0424': 'F', u'\\u0444': 'f',u'\\u0425': 'Kh', u'\\u0445': 'kh',u'\\u0426': 'Ts', u'\\u0446': 'ts',u'\\u0427': 'Ch', u'\\u0447': 'ch',u'\\u0428': 'Sh', u'\\u0448': 'sh',u'\\u0429': 'Shch', u'\\u0449': 'shch',u'\\u042a': '\"', u'\\u044a': '\"',u'\\u042b': 'Y', u'\\u044b': 'y',u'\\u042c': \"'\", u'\\u044c': \"'\",u'\\u042d': 'E', u'\\u044d': 'e',u'\\u042e': 'Iu', u'\\u044e': 'iu',u'\\u042f': 'Ia', u'\\u044f': 'ia',u'\\u0462': 'E', u'\\u0463': 'e'}\n",
    "\n",
    "def transliterate(word, translit_table):\n",
    "    \"\"\"\n",
    "    Transliterates 'word' based on the key/value pairs in 'translit_table'\n",
    "    \"\"\"\n",
    "    if type(word)!=str:\n",
    "        return None\n",
    "    else:\n",
    "        converted_word = ''\n",
    "        for char in word:\n",
    "            transchar = ''\n",
    "            if char in translit_table:\n",
    "                transchar = translit_table[char]\n",
    "            else:\n",
    "                transchar = char\n",
    "            converted_word += transchar\n",
    "        return converted_word"
   ]
  },
  {
   "cell_type": "code",
   "execution_count": 13,
   "metadata": {
    "collapsed": false
   },
   "outputs": [
    {
     "data": {
      "text/plain": [
       "{'SOURCE': 'http://babel.hathitrust.org/cgi/pt?id=uc1.b4583201;view=1up;seq=87',\n",
       " 'admin1_new_orth': 'Екатеринославского Наместничества',\n",
       " 'admin1_old_orth': 'Екатеринославскаго Намѣстничества',\n",
       " 'admin1_partofID': 8.0,\n",
       " 'admin1_std_name': 'Екатеринославское Наместничество',\n",
       " 'admin1_stem': 'екатеринославск',\n",
       " 'admin2_new_orth': None,\n",
       " 'admin2_old_orth': None,\n",
       " 'admin2_partofID': None,\n",
       " 'admin2_stem': 'not_in_text',\n",
       " 'admin_hierarchy': 'екатеринославск|not_in_text',\n",
       " 'alt_name_new_orth': None,\n",
       " 'alt_name_old_orth': None,\n",
       " 'desc_machine_translated': 'PETROVSKAYA fortress Yekaterinoslav region. In the case thereof, in the year six fairs.',\n",
       " 'description_new_orth': 'ПЕТРОВСКАЯ , крепость Екатеринославского Наместничества. В оной бывает в году шесть ярмарок.',\n",
       " 'description_old_orth': 'ПЕТРОВСКАЯ , крѣпость Екатеринославскаго Намѣстничества. Въ оной бываетъ въ году шесть ярмарокъ.',\n",
       " 'featuretype_new_orth': 'крепость',\n",
       " 'featuretype_new_orth_lc': \"krepost'\",\n",
       " 'featuretype_old_orth': 'крѣпость',\n",
       " 'featuretype_old_orth_lc': \"krepost'\",\n",
       " 'geo': {'coded': 'not_recorded',\n",
       "  'country_code': 'UA',\n",
       "  'geonameId': 'http://www.geonames.org/699361',\n",
       "  'pres_country': 'Ukraine',\n",
       "  'pres_loc': \"Novopetrivka, Zaporiz'ka oblast\",\n",
       "  'x_coord': 36.89309,\n",
       "  'y_coord': 46.82554},\n",
       " 'html_text': 'ПЕТРОВСКАЯ , </span><span class=\"font0\" style=\"font-style:italic;\">крѣпость</span><span class=\"font0\"> Екатеринославскаго Намѣстничества. Въ оной бываетъ въ году шесть ярмарокъ.</span>',\n",
       " 'name_new_orth': 'Петровская',\n",
       " 'name_new_orth_lc': 'Petrovskaia',\n",
       " 'name_old_orth': 'Петровская',\n",
       " 'name_old_orth_lc': 'Petrovskaia',\n",
       " 'page': 88,\n",
       " 'partof_id': 8.0,\n",
       " 'txt_id': 528}"
      ]
     },
     "execution_count": 13,
     "metadata": {},
     "output_type": "execute_result"
    }
   ],
   "source": [
    "dataset[\"528\"]"
   ]
  },
  {
   "cell_type": "code",
   "execution_count": 6,
   "metadata": {
    "collapsed": true
   },
   "outputs": [],
   "source": [
    "sourceLink = \"https://www.zotero.org/jaguillette/items/collectionKey/3KQ5I42Q/itemKey/5AI864SV\"\n",
    "startDate = 1785\n",
    "endDate = 1796\n",
    "confidence = \"confident\""
   ]
  },
  {
   "cell_type": "code",
   "execution_count": 10,
   "metadata": {
    "collapsed": false
   },
   "outputs": [],
   "source": [
    "def add_admin_to_places(adminID,adminType,writer=place_csv_writer,admin_df=admin):\n",
    "    name = admin_df.loc[int(adminID)]['lc_translit_new']\n",
    "    lat = admin_df.loc[int(adminID)]['y_coord']\n",
    "    lon = admin_df.loc[int(adminID)]['x_coord']\n",
    "    adminID = int(adminID)+805\n",
    "    place_csv_writer.writerow([adminID,name,lat,lon,'seat',adminType,0])\n",
    "    return"
   ]
  },
  {
   "cell_type": "code",
   "execution_count": 14,
   "metadata": {
    "collapsed": false
   },
   "outputs": [
    {
     "name": "stdout",
     "output_type": "stream",
     "text": [
      "The following has no admin partof IDs:\n",
      "МИТЯКИНСКАЯ , станица Донских Козаков. В ней всякой год в десятую пятницу по Пасхе бывает ярмарка, на которую пригоняют скот , также привозят вялую рыбу , холст, шелковые материи, сукна, деготь и горячие напитки.\n",
      "MITYAKINSKAYA, village Don Cossacks. In it every year on the tenth Friday after Easter is fair, where cattle; also bring sluggish fish, canvas, silk fabrics, cloth, tar and hot drinks.\n",
      "\n",
      "The following has no admin partof IDs:\n",
      "ОЛИШЕВКА , местечко в округе города Киева. Здесь бывает в году две ярмарки ; на оных скупают приезжие купцы кожи , овчины , шубы , соль и прочее.\n",
      "OLISHEVKA, town in the district of Kiev. Here is the year two fairs; buy add-on visiting merchants leather, sheepskin, fur coats, salt and so on.\n",
      "\n",
      "The following has no admin partof IDs:\n",
      "ЧЕРЕНЧИЦКОЙ, погост в уезде города Старой Рузы. Здесь бывает одна годовая ярмарка в день Ильинской пятницы, и купцы приезжают из Старой Рузы с мелочными товарами.\n",
      "CHERENCHITSKOY, churchyard in the county town of Old Rouses. There is one annual fair on the day of Elijah's Friday, and merchants come from the Old Rouses with petty goods.\n",
      "\n",
      "The following has no admin partof IDs:\n",
      "СВИНСКОЙ, монастырь в трех верстах от города Брянска. Здесь бывает каждой год 15 Августа великая ярмарка, которая целой месяце продолжается ; на оную съезжается множество купцов из отдаленных мест.\n",
      "swinish, the monastery three miles from the city of Bryansk. There is every year on August 15 great fair, which lasts an entire month; on the judges attracts numerous merchants from distant places.\n",
      "\n",
      "The following has no admin partof IDs:\n",
      "ПЕНА, слобода в окольности городка Карпова. В оной бывают ярмарки после Рождества на Всеедной неделе в субботу, Июня 24 и Сентября 14, продолжающияся по одному дню. Купцы приезжают на оные из близ лежащих городов с лавочными мелочными товарами.\n",
      "FOAM, Sloboda roundabout in town Karpov. In thereof are fair after Christmas on Vseednoy week on Saturday, June 24 and September 14, lasting one day. The merchants of these should come to the near lying cities Lavochne petty goods.\n",
      "\n",
      "The following has no admin partof IDs:\n",
      "СЕРЕВКА, село в уезд города Рогачева. В нем бывает в году четыре ярмарки.\n",
      "SEREVKA, a village in the county town of Rogachev. It happens in year four fairs.\n",
      "\n",
      "The following has no admin partof IDs:\n",
      "КИТАЙСКОЙ, острог в Екатеринбургском Горном ведомстве. Здесь напред сего бывала великая ярмарка на день Богоявления Господня, на которую съезжалось множество купцов из Сибири и из Россия , а особливо из Казани чрез Уфу по тому, что тогда большая дорога из Казани в Сибирь была чрез Уфу и чрез оной Катайской острог; но с построения Екатеринбурга сия Катайская ярмарка пресеклась по тому, что уже большая дорога проложена чрез сей город.\n",
      "China, jail in Yekaterinburg mining department. Here napred visited this great fair on the day of the Epiphany, which attracts many merchants from Siberia and from Russia, and especially the Kazan through Ufa at what was then a great way from Kazan to Siberia was through and through Ufa thereof Kataysk jail; but with the construction of Ekaterinburg sion Kataysk Fair cut short by what is already a great way laid through this city.\n",
      "\n",
      "The following has no admin partof IDs:\n",
      "ПИСАРЕВКА, слобода около городка Вольного. В оной бывает шесть ярмарок: первая в день Преполовения, вторая Июня 29, третия Сентября 8, четвертая Ноября 23, пятая Декабря 9, шестая в Сырную неделю. Купцы приезжают на оные из близ лежащих городов , и торгуют сукнами , шелковыми , бумажными и набойчатыми товарами, полотном , железом и прочим\n",
      "Pisarevka, settlement near the town of the Free. In thereof is six fairs: the first day in the cutting off of the second on June 29, the third on September 8, the fourth on November 23, the fifth December 9, the sixth in a cheese week. The merchants of these should come to the near lying cities and trade cloth, silk, paper and naboychatymi goods, cloth, iron and other\n",
      "\n",
      "The following has no admin partof IDs:\n",
      "ГЛУШИЦКОЙ , монастырь в стороне Кубенского озера. Здесь бывает одна в году ярмарка; купцы приезжают для покупки холстов, привозя с собою разные мелочные товары.\n",
      "Glushitsky, monastery in Kubensky side of the lake. Here is one in a year's fair; merchants come to buy canvases, bringing with them different petty goods.\n",
      "\n",
      "The following has no admin partof IDs:\n",
      "ТАРНЯНСКОЙ, городок Кокшайской четверти в уезде города Ваги. Бывает здесь годовая ярмарка, начинающаяся с 1 Генваря и продолжающаяся до 7 дня того же месяца. Купцы приезжают на оные из ближних городов с разными мелочными москотильными и прочими товарами.\n",
      "TARNYANSKOY, town Kokshaisky quarter of the county town of Vaga. Sometimes the annual fair here, starting with 1 of January, and continues until 7 day of the month. Merchants come to discharge the same from nearby cities with different petty moskotilnymi and other goods.\n",
      "\n",
      "The following has no admin partof IDs:\n",
      "ВОЛОКОПИНЕЖСКАЯ , деревня в Двинской Провинции близ рубежа Кеврольского. Здесь бывает в году ярмарка, именуемая Волокопинежская, в первых числах Декабря месяца; а по тому зовется и Никольскою. По большей части на сию ярмарку приезжают Архангельские и Холмогорские купцы с товарами не высокой цены для продажи крестьянам и для покупки у них деревенских товаров , на что привозят с собою деньги.\n",
      "VOLOKOPINEZHSKAYA, a village in the Dvina Province near abroad Kevrolskogo. There is a year's fair, called Volokopinezhskaya, early in the month of December; but by what is called and St. Nicholas. For the most part on this very fair and Kholmogorskaya come Arkhangelsk merchants with goods not a high price for the sale of the peasants and to buy their goods village, to which he brought with him the money.\n",
      "\n",
      "The following has no admin partof IDs:\n",
      "КОВЫМСКОЕ, или КОЛЫМСКОЕ, зимовье верхнее, среднее и нижнее в Сибири. В оных бывают ярмарки в Феврале и Марте месяцах.\n",
      "KOVYMSKOE or Kolyma, cabin top, middle and bottom in Siberia. In the add are fair in February and March.\n",
      "\n",
      "The following has no admin partof IDs:\n",
      "МИЖИРИЧЬ, местечко в Малороссии. В оном бывают ярмарки : первая Мая 9, вторая Июля третия Октября 26. Купцы приезжают из окрестных городов с мелочными товарами.\n",
      "MIZHIRICH, a place in the Ukraine. In the hold are fair: the first on May 9, the second third of October 26. July merchants came out of the cities with the petty goods.\n",
      "\n",
      "The following has no admin partof IDs:\n",
      "КОМЕЛЬСК КОРНИЛИЕВ, монастырь от города Вологды в 45 верстах. При нем бывает два раза в году ярмарка. Первая на праздник Введения Пресвятые Богородицы , а другая Генваря 17 дня; чего для построены там и ряды. На сих ярмарках Московские, Ярославские , Костромские , Любимские, Романовские и Вологодские купцы бывают, из коих некоторые привозят шелковые, гарусные, бумажные, москотильные и прочие товары; также собирается поселян из Вологодского, Галицкого, Любимского , Костромского , Ярославского и Пошехонского уездов большее число со льняным и хрящевым холстом , с шерстяными чулками , с говяжьими кожами и салом , с санями , колесами и с другим мелочным товаром; также не меньший бывает торг и лошадьми; а торгуют по два и по три дни сряду.\n",
      "Komel'sk Cornelius, a monastery of the city of Vologda to 45 miles. When it happens twice a year's fair. First on the Feast of the Blessed Virgin Mary, and the other of January, 17 days; for which there are built and series. On these fairs Moscow, Yaroslavl, Kostroma, Lyubimsky, Romanov and Vologda merchants there, some of which brought silk, worsted, cotton, moskotilnye and other goods; is also going to settlers from Vologda, Galich, Lyubimsky, Kostroma, Yaroslavl and Poshehonsky increasing number of counties with a linen canvas and cartilage, with woolen stockings, with beef skins and fat, with sleds, wheels and other petty commodity; Nor is smaller bargaining and horses; and sell two or three days in succession.\n",
      "\n",
      "The following has no admin partof IDs:\n",
      "СЛАВГОРОДКА , слобода около города Вольного. В оной бывает шесть в году ярмарок: первая Генваря 7, вторая Апреля 23 , третия Июля 25, четвертая Августа 1 , пятая Ноября 21, шестая на Сырной неделе. Купцы приезжают на оные из окрестных городов, торгуют сукнами, шелковыми, бумажными и набойчатыми товарами, полотном, железом, посудою и прочим.\n",
      "SLAVGORODKA, settlement near the city of the Free. In thereof is six fairs a year: the first of January, 7, and the second on April 23, the third 25 July, 1 August fourth, fifth on November 21, on the sixth Cheese week. Merchants come to discharge the same from the surrounding towns, trade cloth, silk, paper and naboychatymi goods, linen, iron, dishes and stuff.\n",
      "\n",
      "The following has no admin partof IDs:\n",
      "КАРАСУ - БАЗАР , городок в Таврической Области. В нем каждую неделю бывает в один день торг, на которой пригоняют множество всякого скота , как - то лошадей, буйволов, волов, коров, верблюдов и баранов.\n",
      "Karas - BAZAAR, a town in the Tauride Province. It happens every week on the same day auction, which fetches the set of all the beasts that as - that of horses, buffaloes, oxen, cows, camels and sheep.\n",
      "\n",
      "The following has no admin partof IDs:\n",
      "БАЕВКА, село в Сибири на вершине реки Свиаги; в оном всякое Воскресенье бывает торг.\n",
      "BAEVKA, a village in Siberia at the top of the river Sviagi; in the hold every Sunday is bargaining.\n",
      "\n",
      "The following has no admin partof IDs:\n",
      "ЧУПАХОВКА, слобода около бывшого городка Алешни. В оной бывают три ярмарки : первая Апреля 23, вторая Сентября 8, третия Ноября 21 дня. На оные приезжают купцы из близ лежащих городов; торгуют сукнами , шелковыми , бумажными и набойчатыми товарами , железом , полотном, посудою и прочим.\n",
      "CHUPAHOVKA, settlement near the former town Aleshnya. In thereof are three fairs: the first on April 23, the second on September 8, November third 21 days. These should come to the merchants from near lying cities; trade cloth, silk, paper and naboychatymi goods, iron, linen, dishes and stuff.\n",
      "\n",
      "The following has no admin partof IDs:\n",
      "ТОМАРОВКА, слобода в уезде города Карпова. В оной бывает ярмарка после Рождества на всеедной неделе в пятницу, Мая 9, Июля 8, Декабря 6, и продолжаются оные по одному дню. Купцы приезжают из окрестных городов с мелочными товарами.\n",
      "Tomarovka, settlement in the county town of Karpov. In the case thereof after Christmas Fair on vseednoy week on Friday, May 9, July 8, 6 December, and these should continue for one day. Merchants come from surrounding cities with petty goods.\n",
      "\n"
     ]
    }
   ],
   "source": [
    "with open(\"graph/(places).csv\",\"w+\") as place_fp, open(\"graph/[partof].csv\",\"w+\") as partof_fp:\n",
    "    # Setup place csv writer and headers\n",
    "    place_csv_writer = csv.writer(place_fp)\n",
    "    place_csv_writer.writerow(['ID','title','reprLat','reprLong','reprType','geonamesType','provisional'])\n",
    "    # Setup partof csv writer and headers\n",
    "    partof_csv_writer = csv.writer(partof_fp)\n",
    "    partof_csv_writer.writerow(['ID','child','parent','sourceLink','startDate','endDate','confidence'])\n",
    "    def add_admin_to_places(adminID,adminType,writer=place_csv_writer,admin_df=admin):\n",
    "        name = admin_df.loc[int(adminID)]['lc_translit_new']\n",
    "        lat = admin_df.loc[int(adminID)]['y_coord']\n",
    "        lon = admin_df.loc[int(adminID)]['x_coord']\n",
    "        adminID = int(adminID)+805\n",
    "        place_csv_writer.writerow([adminID,name,lat,lon,'seat',adminType,0])\n",
    "        return\n",
    "    # keep track of admin places entered\n",
    "    partof_places_entered = []\n",
    "    for k,v in dataset.items():\n",
    "        if 'admin2_partofID' in v and v['admin2_partofID']:\n",
    "            admin2_id = int(v['admin2_partofID']) + 805\n",
    "            # Check if admin2 recorded, add if not\n",
    "            if v['admin2_partofID'] not in partof_places_entered:\n",
    "                try:\n",
    "                    add_admin_to_places(v['admin2_partofID'],'ADM2')\n",
    "                except KeyError:\n",
    "                    print(\"KeyError! ({})\".format(v['admin2_partofID']))\n",
    "                    print(v)\n",
    "                    print()\n",
    "                partof_places_entered.append(v['admin2_partofID'])\n",
    "            # Add partof relationship  place -> admin2\n",
    "            partof_csv_writer.writerow([None,k,admin2_id,sourceLink,startDate,endDate,confidence])\n",
    "            if 'admin1_partofID' in v and v['admin1_partofID']:\n",
    "                admin1_id = int(v['admin1_partofID']) + 805\n",
    "                # Check if admin1 recorded, add if not\n",
    "                if v['admin1_partofID'] not in partof_places_entered:\n",
    "                    add_admin_to_places(v['admin1_partofID'],'ADM1')\n",
    "                    partof_places_entered.append(v['admin1_partofID'])\n",
    "                # Add partof relationship place -> admin1 and admin2 -> admin1\n",
    "                partof_csv_writer.writerow([None,k,admin1_id,sourceLink,startDate,endDate,confidence])\n",
    "                partof_csv_writer.writerow([None,admin2_id,admin1_id,sourceLink,startDate,endDate,confidence])\n",
    "            else:\n",
    "                print(\"The following has an admin2 ID, but no admin1 ID:\")\n",
    "                print(v['description_new_orth']) # make sure that's right, since it's weird\n",
    "                print(v['desc_machine_translated'])\n",
    "                print()\n",
    "        else:\n",
    "            if 'admin1_partofID' in v and v['admin1_partofID']:\n",
    "                admin1_id = int(v['admin1_partofID']) + 805\n",
    "                # Check if admin1 recorded, add if not\n",
    "                if v['admin1_partofID'] not in partof_places_entered:\n",
    "                    add_admin_to_places(v['admin1_partofID'],'ADM1')\n",
    "                    partof_places_entered.append(v['admin1_partofID'])\n",
    "                # Add partof relationship place -> admin1\n",
    "                partof_csv_writer.writerow([None,k,admin1_id,sourceLink,startDate,endDate,confidence])\n",
    "            else:\n",
    "                print(\"The following has no admin partof IDs:\")\n",
    "                print(v['description_new_orth']) # make sure that's right, since it's weird\n",
    "                print(v['desc_machine_translated'])\n",
    "                print()\n",
    "        # Add place to Places\n",
    "        if 'geo' in v:\n",
    "            lon = v['geo']['x_coord']\n",
    "            lat = v['geo']['y_coord']\n",
    "            reprType = 'GeoNames'\n",
    "        else:\n",
    "            lon = None\n",
    "            lat = None\n",
    "            reprType = None\n",
    "        place_csv_writer.writerow([k,v['name_new_orth_lc'],lat,lon,reprType,'PPL',0])"
   ]
  }
 ],
 "metadata": {
  "kernelspec": {
   "display_name": "Python 3",
   "language": "python",
   "name": "python3"
  },
  "language_info": {
   "codemirror_mode": {
    "name": "ipython",
    "version": 3
   },
   "file_extension": ".py",
   "mimetype": "text/x-python",
   "name": "python",
   "nbconvert_exporter": "python",
   "pygments_lexer": "ipython3",
   "version": "3.5.0"
  }
 },
 "nbformat": 4,
 "nbformat_minor": 0
}
