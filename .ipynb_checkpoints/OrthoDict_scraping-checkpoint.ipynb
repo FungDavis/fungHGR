{
 "metadata": {
  "name": "",
  "signature": "sha256:d77256ed048bbeab3ddf1b9d64b808be6f747d4cfaa0907c240abd4b9c29a185"
 },
 "nbformat": 3,
 "nbformat_minor": 0,
 "worksheets": [
  {
   "cells": [
    {
     "cell_type": "code",
     "collapsed": false,
     "input": [
      "import requests\n",
      "from lxml import html"
     ],
     "language": "python",
     "metadata": {},
     "outputs": [],
     "prompt_number": 84
    },
    {
     "cell_type": "code",
     "collapsed": false,
     "input": [
      "start = 0xc0\n",
      "end = 0xdf\n",
      "pages = []\n",
      "for i in range(start, end+1):\n",
      "    pages.append( format(i,'x'))\n",
      "pages.append('b9')"
     ],
     "language": "python",
     "metadata": {},
     "outputs": [],
     "prompt_number": 14
    },
    {
     "cell_type": "code",
     "collapsed": false,
     "input": [
      "for p in pages:\n",
      "    url = 'http://www.dorev.ru/ru-index.html?l=c1'\n",
      "    R = requests.get(url)\n",
      "    f = R.text\n",
      "    mytree = etree.fromstring(f, etree.HTMLParser())\n",
      "    modern_spelling = mytree.xpath('//tr/td[2][@class=\"uu\"]')\n",
      "    old_spelling = mytree.xpath('//tr/td[4][@class=\"uu\"]')\n",
      "    "
     ],
     "language": "python",
     "metadata": {},
     "outputs": [],
     "prompt_number": 49
    },
    {
     "cell_type": "code",
     "collapsed": false,
     "input": [
      "mytree = etree.fromstring(f, etree.HTMLParser())"
     ],
     "language": "python",
     "metadata": {},
     "outputs": [],
     "prompt_number": 50
    },
    {
     "cell_type": "code",
     "collapsed": false,
     "input": [
      "test = mytree.xpath('//tr/td[4][@class=\"uu\"]')[1]"
     ],
     "language": "python",
     "metadata": {},
     "outputs": [],
     "prompt_number": 72
    },
    {
     "cell_type": "code",
     "collapsed": false,
     "input": [
      "mytree = html.fromstring(f)"
     ],
     "language": "python",
     "metadata": {},
     "outputs": []
    },
    {
     "cell_type": "code",
     "collapsed": false,
     "input": [
      "mytree."
     ],
     "language": "python",
     "metadata": {},
     "outputs": [
      {
       "metadata": {},
       "output_type": "pyout",
       "prompt_number": 83,
       "text": [
        "lxml.etree._Element"
       ]
      }
     ],
     "prompt_number": 83
    },
    {
     "cell_type": "code",
     "collapsed": false,
     "input": [
      "test2 = [1,2,3]\n",
      "print([x+1 for x in test2])"
     ],
     "language": "python",
     "metadata": {},
     "outputs": [
      {
       "output_type": "stream",
       "stream": "stdout",
       "text": [
        "[2, 3, 4]\n"
       ]
      }
     ],
     "prompt_number": 66
    }
   ],
   "metadata": {}
  }
 ]
}