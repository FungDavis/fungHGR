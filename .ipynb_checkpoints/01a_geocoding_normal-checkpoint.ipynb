{
 "metadata": {
  "name": "",
  "signature": "sha256:ee078cd53bfc7a55810913ede049e547ebf75319c26a9b06944c3fa77306146b"
 },
 "nbformat": 3,
 "nbformat_minor": 0,
 "worksheets": [
  {
   "cells": [
    {
     "cell_type": "code",
     "collapsed": false,
     "input": [
      "import pandas as pd\n",
      "import numpy as np\n",
      "import requests, re, json, os, time"
     ],
     "language": "python",
     "metadata": {},
     "outputs": [],
     "prompt_number": 1
    },
    {
     "cell_type": "code",
     "collapsed": false,
     "input": [
      "market_df = pd.DataFrame.from_csv(\"output/process/no_geo.csv\")"
     ],
     "language": "python",
     "metadata": {},
     "outputs": [],
     "prompt_number": 19
    },
    {
     "cell_type": "code",
     "collapsed": false,
     "input": [
      "import os\n",
      "def Ensure_dir(d):\n",
      "    \"\"\"Makes sure a directory 'd' exists, and if it doesn't, it creates one.\"\"\"\n",
      "    if not os.path.exists(d):\n",
      "        os.makedirs(d)\n",
      "    return 0"
     ],
     "language": "python",
     "metadata": {},
     "outputs": [],
     "prompt_number": 3
    },
    {
     "cell_type": "markdown",
     "metadata": {},
     "source": [
      "Geocoding begins here!\n",
      "======================"
     ]
    },
    {
     "cell_type": "code",
     "collapsed": false,
     "input": [
      "def geonames_request(placename,placeid,east=180,west=-180,north=90,south=-90,fuzzy=1):\n",
      "    \"\"\"\n",
      "    Takes a placename and optional bounding box, returns GeoNames response for query in dict form, with added url key\n",
      "    \"\"\"\n",
      "    url = \"http://api.geonames.org/search\"\n",
      "    Q = {'type':'json','username':'jaguillette','featureClass':'P','name':placename,'north':north,'south':south,'east':east,'west':west,'fuzzy':fuzzy}\n",
      "    R = requests.get(url,params=Q)\n",
      "    #print(R.url)\n",
      "    response = R.json()\n",
      "    Q.update({'url':R.url,'hgr_id':int(placeid)})\n",
      "    response.update({'searchinfo':Q})\n",
      "    return response"
     ],
     "language": "python",
     "metadata": {},
     "outputs": [],
     "prompt_number": 4
    },
    {
     "cell_type": "code",
     "collapsed": false,
     "input": [
      "def geo_response_parse(response,save_location=None):\n",
      "    \"\"\"\n",
      "    Takes a dict object from parsing the json of a geonames request, as returned by geonames_request.\n",
      "    Returns a dict of response properties.\n",
      "    \"\"\"\n",
      "    returnlist = []\n",
      "    try:\n",
      "        if response['totalResultsCount'] != 0:\n",
      "            for p in response['geonames']:\n",
      "                mod_dict = {}\n",
      "                for k in p:\n",
      "                    mod_dict[\"gname_{}\".format(k)] = p[k]\n",
      "                returnlist.append(mod_dict)\n",
      "            if save_location is not None:\n",
      "                if not os.path.exists(save_location):\n",
      "                    with open(save_location,'w',encoding='utf-8') as fp:\n",
      "                        json.dump(dict(response),fp,sort_keys=True)\n",
      "            #print(\"{} was found\".format(placename))\n",
      "        else:\n",
      "            returnlist = [{}]\n",
      "        for e in returnlist:\n",
      "            e['url'] = response['searchinfo']['url']\n",
      "            e['hgr_id'] = response['searchinfo']['hgr_id']\n",
      "            e['searched_name'] = response['searchinfo']['name']\n",
      "            e['fuzzy'] = response['searchinfo']['fuzzy']\n",
      "            e['north_bound'] = response['searchinfo']['north']\n",
      "            e['south_bound'] = response['searchinfo']['south']\n",
      "            e['east_bound'] = response['searchinfo']['east']\n",
      "            e['west_bound'] = response['searchinfo']['west']\n",
      "        return returnlist\n",
      "    except KeyError:\n",
      "        print(response['searchinfo']['url'])\n",
      "        return([])"
     ],
     "language": "python",
     "metadata": {},
     "outputs": [],
     "prompt_number": 5
    },
    {
     "cell_type": "code",
     "collapsed": false,
     "input": [
      "def fuzz_geonames(placename,placeid,north,south,east,west,returnlist):\n",
      "    keepgoing = True\n",
      "    fuzzy = .9\n",
      "    while keepgoing:\n",
      "        response = geonames_request(placename,placeid,east=east,west=west,north=north,south=south,fuzzy=fuzzy)\n",
      "        save_loc = \"geonames_jsons/{}_{}_f{:.2}.json\".format(placeid,placename.replace(\" \",\"_\"),fuzzy)\n",
      "        parsed = geo_response_parse(response,save_location=save_loc)\n",
      "        returnlist.extend(parsed)\n",
      "        if any('gname_geonameId' in d for d in parsed):\n",
      "            keepgoing=False\n",
      "        else:\n",
      "            fuzzy = fuzzy-.1\n",
      "            if fuzzy<0:\n",
      "                print(\"{} was not found at max fuzz.\".format(placename))\n",
      "                keepgoing = False\n",
      "            time.sleep(1)\n",
      "        return returnlist"
     ],
     "language": "python",
     "metadata": {},
     "outputs": [],
     "prompt_number": 6
    },
    {
     "cell_type": "code",
     "collapsed": false,
     "input": [
      "def geonames_lookup(placename,placeid,east=180,west=-180,north=90,south=-90,alt_name=None):\n",
      "    \"\"\"\n",
      "    Queries geonames for given placename within bounding boxes.\n",
      "    Also queries for alternate spellings if no main spelling is found.\n",
      "    \"\"\"\n",
      "    Ensure_dir(\"geonames_jsons\")\n",
      "    returnlist = []\n",
      "    re_list = [[r'(\u043e\u0439)($|\\s)',r'\u0438\u0439\\2'],[r'(\u0441\u043a)($|\\s)',r'\\2'],[r'(\u0432)$',r'\\1\u043e']]\n",
      "    #Generating a list of possible placenames based on above regex.\n",
      "    #Placename will be added, then removed for de-duplication after set operation.\n",
      "    pname_list = [placename]\n",
      "    if alt_name is not None:\n",
      "        pname_list.append(alt_name)\n",
      "    for pair in re_list:\n",
      "        pname_list.append(re.sub(pair[0],pair[1],placename))\n",
      "    pname_list = set(pname_list)\n",
      "    pname_list.remove(placename)\n",
      "    #First geocoding attempt\n",
      "    response1 = geonames_request(placename,placeid,east=east,west=west,north=north,south=south)\n",
      "    #print(\"Now querying {}...\".format(placename))\n",
      "    time.sleep(1)\n",
      "    save_loc = \"geonames_jsons/{}_{}.json\".format(placeid,placename.replace(\" \",\"_\"))\n",
      "    parsed1 = geo_response_parse(response1,save_location=save_loc)\n",
      "    returnlist.extend(parsed1)\n",
      "    if not any('gname_geonameId' in d for d in parsed1):\n",
      "        for p in pname_list:\n",
      "            time.sleep(1)\n",
      "            print(\"Querying alternate name {}\".format(p))\n",
      "            response = geonames_request(p,placeid,east=east,west=west,north=north,south=south)\n",
      "            save_loc = \"geonames_jsons/{}_{}.json\".format(placeid,p.replace(\" \",\"_\"))\n",
      "            parsed = geo_response_parse(response,save_location=save_loc)\n",
      "            returnlist.extend(parsed)\n",
      "    if not any('gname_geonameId' in d for d in returnlist):\n",
      "        returnlist = fuzz_geonames(placename,placeid,north,south,east,west,returnlist)\n",
      "        if alt_name is not None:\n",
      "            returnlist = fuzz_geonames(alt_name,placeid,north,south,east,west,returnlist)\n",
      "    return returnlist"
     ],
     "language": "python",
     "metadata": {},
     "outputs": [],
     "prompt_number": 12
    },
    {
     "cell_type": "code",
     "collapsed": false,
     "input": [
      "with open(\"resources/partof_prov_bounds.json\",'r',encoding = 'utf-8') as fp:\n",
      "    bounding_dict = json.load(fp)"
     ],
     "language": "python",
     "metadata": {},
     "outputs": [],
     "prompt_number": 8
    },
    {
     "cell_type": "code",
     "collapsed": false,
     "input": [
      "no_prov = len(market_df.ix[market_df.admin1_partofID.isnull()])\n",
      "no_uezd = len(market_df.ix[market_df.admin2_partofID.isnull()])\n",
      "total = len(market_df)\n",
      "print(\"{1} / {0} ({2:.2%}) towns have no Namiestnichestvo recorded\\n{3} / {0} ({4:.2%}) towns have no Uyezd recorded\".format(total,no_prov,no_prov/total,no_uezd,no_uezd/total))"
     ],
     "language": "python",
     "metadata": {},
     "outputs": [
      {
       "output_type": "stream",
       "stream": "stdout",
       "text": [
        "16 / 801 (2.00%) towns have no Namiestnichestvo recorded\n",
        "193 / 801 (24.09%) towns have no Uyezd recorded\n"
       ]
      }
     ],
     "prompt_number": 9
    },
    {
     "cell_type": "markdown",
     "metadata": {},
     "source": [
      "Market Town Geocoding\n",
      "====================="
     ]
    },
    {
     "cell_type": "code",
     "collapsed": false,
     "input": [
      "dataset = pd.DataFrame.from_csv('output/hgr_dataset.csv')\n",
      "txt_ids = dataset.txt_id.tolist()"
     ],
     "language": "python",
     "metadata": {},
     "outputs": [],
     "prompt_number": 10
    },
    {
     "cell_type": "code",
     "collapsed": false,
     "input": [
      "geocoded = []\n",
      "problem_prov = []\n",
      "d = 4\n",
      "for x in range(0,len(market_df)):\n",
      "    entry = market_df.iloc[x]\n",
      "    if entry.name not in txt_ids:\n",
      "        if pd.isnull(entry['alt_name_new_orth']):\n",
      "            alt = None\n",
      "        else:\n",
      "            alt = entry['alt_name_new_orth']\n",
      "        if pd.isnull(entry['admin1_partofID']) or entry['admin1_partofID'] in ['not_in_text','\u043d\u043e\u0442_\u0438\u043d_\u0442\u0435x\u0442']:\n",
      "            geocoded.extend(geonames_lookup(entry['ru_new_orth'],entry.name,alt_name=alt))\n",
      "        else:\n",
      "            try:\n",
      "                loc = bounding_dict[str(float(entry['admin1_partofID']))]\n",
      "            except KeyError:\n",
      "                print(entry['admin1_partofID'])\n",
      "                problem_prov.append(entry['admin1_partofID'])\n",
      "                continue\n",
      "            except ValueError:\n",
      "                N = 90\n",
      "                S = -90\n",
      "                E = 180\n",
      "                W = -180\n",
      "            if \"boundaries\" in loc:\n",
      "                W = loc[\"boundaries\"][0]\n",
      "                S = loc[\"boundaries\"][1]\n",
      "                E = loc[\"boundaries\"][2]\n",
      "                N = loc[\"boundaries\"][3]\n",
      "            else:\n",
      "                N = loc[\"center\"][0]+d\n",
      "                S = loc[\"center\"][0]-d\n",
      "                W = loc[\"center\"][1]-d\n",
      "                E = loc[\"center\"][1]+d\n",
      "            geocoded.extend(geonames_lookup(entry['ru_new_orth'],entry.name,north=N,south=S,west=W,east=E,alt_name=alt))\n",
      "        print(\"Looked up {}\".format(entry['ru_new_orth']))"
     ],
     "language": "python",
     "metadata": {},
     "outputs": [
      {
       "ename": "KeyboardInterrupt",
       "evalue": "",
       "output_type": "pyerr",
       "traceback": [
        "\u001b[1;31m---------------------------------------------------------------------------\u001b[0m\n\u001b[1;31mKeyboardInterrupt\u001b[0m                         Traceback (most recent call last)",
        "\u001b[1;32m<ipython-input-31-4da2b0170221>\u001b[0m in \u001b[0;36m<module>\u001b[1;34m()\u001b[0m\n\u001b[0;32m     33\u001b[0m                 \u001b[0mW\u001b[0m \u001b[1;33m=\u001b[0m \u001b[0mloc\u001b[0m\u001b[1;33m[\u001b[0m\u001b[1;34m\"center\"\u001b[0m\u001b[1;33m]\u001b[0m\u001b[1;33m[\u001b[0m\u001b[1;36m1\u001b[0m\u001b[1;33m]\u001b[0m\u001b[1;33m-\u001b[0m\u001b[0md\u001b[0m\u001b[1;33m\u001b[0m\u001b[0m\n\u001b[0;32m     34\u001b[0m                 \u001b[0mE\u001b[0m \u001b[1;33m=\u001b[0m \u001b[0mloc\u001b[0m\u001b[1;33m[\u001b[0m\u001b[1;34m\"center\"\u001b[0m\u001b[1;33m]\u001b[0m\u001b[1;33m[\u001b[0m\u001b[1;36m1\u001b[0m\u001b[1;33m]\u001b[0m\u001b[1;33m+\u001b[0m\u001b[0md\u001b[0m\u001b[1;33m\u001b[0m\u001b[0m\n\u001b[1;32m---> 35\u001b[1;33m             \u001b[0mgeocoded\u001b[0m\u001b[1;33m.\u001b[0m\u001b[0mextend\u001b[0m\u001b[1;33m(\u001b[0m\u001b[0mgeonames_lookup\u001b[0m\u001b[1;33m(\u001b[0m\u001b[0mentry\u001b[0m\u001b[1;33m[\u001b[0m\u001b[1;34m'ru_new_orth'\u001b[0m\u001b[1;33m]\u001b[0m\u001b[1;33m,\u001b[0m\u001b[0mentry\u001b[0m\u001b[1;33m.\u001b[0m\u001b[0mname\u001b[0m\u001b[1;33m,\u001b[0m\u001b[0mnorth\u001b[0m\u001b[1;33m=\u001b[0m\u001b[0mN\u001b[0m\u001b[1;33m,\u001b[0m\u001b[0msouth\u001b[0m\u001b[1;33m=\u001b[0m\u001b[0mS\u001b[0m\u001b[1;33m,\u001b[0m\u001b[0mwest\u001b[0m\u001b[1;33m=\u001b[0m\u001b[0mW\u001b[0m\u001b[1;33m,\u001b[0m\u001b[0meast\u001b[0m\u001b[1;33m=\u001b[0m\u001b[0mE\u001b[0m\u001b[1;33m,\u001b[0m\u001b[0malt_name\u001b[0m\u001b[1;33m=\u001b[0m\u001b[0malt\u001b[0m\u001b[1;33m)\u001b[0m\u001b[1;33m)\u001b[0m\u001b[1;33m\u001b[0m\u001b[0m\n\u001b[0m\u001b[0;32m     36\u001b[0m         \u001b[0mprint\u001b[0m\u001b[1;33m(\u001b[0m\u001b[1;34m\"Looked up {}\"\u001b[0m\u001b[1;33m.\u001b[0m\u001b[0mformat\u001b[0m\u001b[1;33m(\u001b[0m\u001b[0mentry\u001b[0m\u001b[1;33m[\u001b[0m\u001b[1;34m'ru_new_orth'\u001b[0m\u001b[1;33m]\u001b[0m\u001b[1;33m)\u001b[0m\u001b[1;33m)\u001b[0m\u001b[1;33m\u001b[0m\u001b[0m\n",
        "\u001b[1;32m<ipython-input-12-95f77e957779>\u001b[0m in \u001b[0;36mgeonames_lookup\u001b[1;34m(placename, placeid, east, west, north, south, alt_name)\u001b[0m\n\u001b[0;32m     19\u001b[0m     \u001b[0mresponse1\u001b[0m \u001b[1;33m=\u001b[0m \u001b[0mgeonames_request\u001b[0m\u001b[1;33m(\u001b[0m\u001b[0mplacename\u001b[0m\u001b[1;33m,\u001b[0m\u001b[0mplaceid\u001b[0m\u001b[1;33m,\u001b[0m\u001b[0meast\u001b[0m\u001b[1;33m=\u001b[0m\u001b[0meast\u001b[0m\u001b[1;33m,\u001b[0m\u001b[0mwest\u001b[0m\u001b[1;33m=\u001b[0m\u001b[0mwest\u001b[0m\u001b[1;33m,\u001b[0m\u001b[0mnorth\u001b[0m\u001b[1;33m=\u001b[0m\u001b[0mnorth\u001b[0m\u001b[1;33m,\u001b[0m\u001b[0msouth\u001b[0m\u001b[1;33m=\u001b[0m\u001b[0msouth\u001b[0m\u001b[1;33m)\u001b[0m\u001b[1;33m\u001b[0m\u001b[0m\n\u001b[0;32m     20\u001b[0m     \u001b[1;31m#print(\"Now querying {}...\".format(placename))\u001b[0m\u001b[1;33m\u001b[0m\u001b[1;33m\u001b[0m\u001b[0m\n\u001b[1;32m---> 21\u001b[1;33m     \u001b[0mtime\u001b[0m\u001b[1;33m.\u001b[0m\u001b[0msleep\u001b[0m\u001b[1;33m(\u001b[0m\u001b[1;36m1\u001b[0m\u001b[1;33m)\u001b[0m\u001b[1;33m\u001b[0m\u001b[0m\n\u001b[0m\u001b[0;32m     22\u001b[0m     \u001b[0msave_loc\u001b[0m \u001b[1;33m=\u001b[0m \u001b[1;34m\"geonames_jsons/{}_{}.json\"\u001b[0m\u001b[1;33m.\u001b[0m\u001b[0mformat\u001b[0m\u001b[1;33m(\u001b[0m\u001b[0mplaceid\u001b[0m\u001b[1;33m,\u001b[0m\u001b[0mplacename\u001b[0m\u001b[1;33m.\u001b[0m\u001b[0mreplace\u001b[0m\u001b[1;33m(\u001b[0m\u001b[1;34m\" \"\u001b[0m\u001b[1;33m,\u001b[0m\u001b[1;34m\"_\"\u001b[0m\u001b[1;33m)\u001b[0m\u001b[1;33m)\u001b[0m\u001b[1;33m\u001b[0m\u001b[0m\n\u001b[0;32m     23\u001b[0m     \u001b[0mparsed1\u001b[0m \u001b[1;33m=\u001b[0m \u001b[0mgeo_response_parse\u001b[0m\u001b[1;33m(\u001b[0m\u001b[0mresponse1\u001b[0m\u001b[1;33m,\u001b[0m\u001b[0msave_location\u001b[0m\u001b[1;33m=\u001b[0m\u001b[0msave_loc\u001b[0m\u001b[1;33m)\u001b[0m\u001b[1;33m\u001b[0m\u001b[0m\n",
        "\u001b[1;31mKeyboardInterrupt\u001b[0m: "
       ]
      }
     ],
     "prompt_number": 31
    },
    {
     "cell_type": "code",
     "collapsed": false,
     "input": [
      "problem_prov"
     ],
     "language": "python",
     "metadata": {},
     "outputs": [
      {
       "metadata": {},
       "output_type": "pyout",
       "prompt_number": 30,
       "text": [
        "['41']"
       ]
      }
     ],
     "prompt_number": 30
    },
    {
     "cell_type": "code",
     "collapsed": false,
     "input": [
      "geodf = pd.DataFrame(geocoded)"
     ],
     "language": "python",
     "metadata": {},
     "outputs": [],
     "prompt_number": 23
    },
    {
     "cell_type": "code",
     "collapsed": false,
     "input": [
      "geodf = geodf[[\"hgr_id\",\"searched_name\",\"fuzzy\",\"gname_name\",\"gname_adminCode1\",\"gname_adminName1\",\"gname_countryCode\",\"gname_countryId\",\"gname_countryName\",\"gname_fcl\",\"gname_fclName\",\"gname_fcode\",\"gname_fcodeName\",\"gname_geonameId\",\"gname_lat\",\"gname_lng\",\"gname_population\",\"gname_toponymName\",\"north_bound\",\"south_bound\",\"east_bound\",\"west_bound\",\"url\"]]"
     ],
     "language": "python",
     "metadata": {},
     "outputs": [],
     "prompt_number": 25
    },
    {
     "cell_type": "code",
     "collapsed": false,
     "input": [
      "len(geodf)"
     ],
     "language": "python",
     "metadata": {},
     "outputs": [
      {
       "metadata": {},
       "output_type": "pyout",
       "prompt_number": 26,
       "text": [
        "1645"
       ]
      }
     ],
     "prompt_number": 26
    },
    {
     "cell_type": "code",
     "collapsed": false,
     "input": [
      "geodf.to_excel('output/geocoded_new.xlsx',encoding='utf-8')\n",
      "geodf.to_csv('output/geocoded_new.csv',encoding='utf-8')"
     ],
     "language": "python",
     "metadata": {},
     "outputs": [
      {
       "output_type": "stream",
       "stream": "stderr",
       "text": [
        "/home/jeremy/anaconda3/lib/python3.4/site-packages/xlsxwriter/worksheet.py:827: UserWarning: Ignoring URL 'http://api.geonames.org/search?featureClass=P&west=35.85&name=%D0%90%D0%BB%D0%B5%D0%BA%D1%81%D0%B0%D0%BD%D0%B4%D1%80%D0%BE%D0%B2%D0%B0+%D0%9F%D1%83%D1%81%D1%82%D1%8B%D0%BD%D1%8F&fuzzy=1&username=jaguillette&type=json&south=53.616667&east=43.85&north=61.616667' > 255 characters since it exceeds Excel's limit for URLS\n",
        "  \"Excel's limit for URLS\" % url)\n",
        "/home/jeremy/anaconda3/lib/python3.4/site-packages/xlsxwriter/worksheet.py:827: UserWarning: Ignoring URL 'http://api.geonames.org/search?featureClass=P&west=35.85&name=%D0%90%D0%BB%D0%B5%D0%BA%D1%81%D0%B0%D0%BD%D0%B4%D1%80%D0%BE%D0%B2%D0%B0+%D0%9F%D1%83%D1%81%D1%82%D1%8B%D0%BD%D1%8F&fuzzy=0.9&username=jaguillette&type=json&south=53.616667&east=43.85&north=61.616667' > 255 characters since it exceeds Excel's limit for URLS\n",
        "  \"Excel's limit for URLS\" % url)\n",
        "/home/jeremy/anaconda3/lib/python3.4/site-packages/xlsxwriter/worksheet.py:827: UserWarning: Ignoring URL 'http://api.geonames.org/search?featureClass=P&west=27.4506621361&name=%D0%91%D0%BB%D0%B0%D0%B3%D0%BE%D0%B2%D0%B5%D1%89%D0%B5%D0%BD%D1%81%D0%BA%D0%BE%D0%B9+%D0%9F%D1%80%D0%B8%D1%85%D0%BE%D0%B4&fuzzy=1&username=jaguillette&type=json&south=60.3600075373&east=58.6121673584&north=70.1894276115' > 255 characters since it exceeds Excel's limit for URLS\n",
        "  \"Excel's limit for URLS\" % url)\n",
        "/home/jeremy/anaconda3/lib/python3.4/site-packages/xlsxwriter/worksheet.py:827: UserWarning: Ignoring URL 'http://api.geonames.org/search?featureClass=P&west=27.4506621361&name=%D0%91%D0%BB%D0%B0%D0%B3%D0%BE%D0%B2%D0%B5%D1%89%D0%B5%D0%BD%D1%81%D0%BA%D0%B8%D0%B9+%D0%9F%D1%80%D0%B8%D1%85%D0%BE%D0%B4&fuzzy=1&username=jaguillette&type=json&south=60.3600075373&east=58.6121673584&north=70.1894276115' > 255 characters since it exceeds Excel's limit for URLS\n",
        "  \"Excel's limit for URLS\" % url)\n",
        "/home/jeremy/anaconda3/lib/python3.4/site-packages/xlsxwriter/worksheet.py:827: UserWarning: Ignoring URL 'http://api.geonames.org/search?featureClass=P&west=27.4506621361&name=%D0%91%D0%BB%D0%B0%D0%B3%D0%BE%D0%B2%D0%B5%D1%89%D0%B5%D0%BD%D1%81%D0%BA%D0%BE%D0%B9+%D0%9F%D1%80%D0%B8%D1%85%D0%BE%D0%B4&fuzzy=0.9&username=jaguillette&type=json&south=60.3600075373&east=58.6121673584&north=70.1894276115' > 255 characters since it exceeds Excel's limit for URLS\n",
        "  \"Excel's limit for URLS\" % url)\n",
        "/home/jeremy/anaconda3/lib/python3.4/site-packages/xlsxwriter/worksheet.py:827: UserWarning: Ignoring URL 'http://api.geonames.org/search?featureClass=P&west=41.8373&name=%D0%91%D0%BE%D0%B3%D0%BE%D1%80%D0%BE%D0%B4%D0%B8%D1%86%D0%BA%D0%BE%D0%B9+%D0%9A%D0%B0%D0%B7%D0%B0%D0%BD%D1%81%D0%BA%D0%BE%D0%B9&fuzzy=1&username=jaguillette&type=json&south=52.3247&east=46.7277&north=54.837' > 255 characters since it exceeds Excel's limit for URLS\n",
        "  \"Excel's limit for URLS\" % url)\n",
        "/home/jeremy/anaconda3/lib/python3.4/site-packages/xlsxwriter/worksheet.py:827: UserWarning: Ignoring URL 'http://api.geonames.org/search?featureClass=P&west=41.8373&name=%D0%91%D0%BE%D0%B3%D0%BE%D1%80%D0%BE%D0%B4%D0%B8%D1%86%D0%BA%D0%B8%D0%B9+%D0%9A%D0%B0%D0%B7%D0%B0%D0%BD%D1%81%D0%BA%D0%B8%D0%B9&fuzzy=1&username=jaguillette&type=json&south=52.3247&east=46.7277&north=54.837' > 255 characters since it exceeds Excel's limit for URLS\n",
        "  \"Excel's limit for URLS\" % url)\n",
        "/home/jeremy/anaconda3/lib/python3.4/site-packages/xlsxwriter/worksheet.py:827: UserWarning: Ignoring URL 'http://api.geonames.org/search?featureClass=P&west=41.8373&name=%D0%91%D0%BE%D0%B3%D0%BE%D1%80%D0%BE%D0%B4%D0%B8%D1%86%D0%BA%D0%BE%D0%B9+%D0%9A%D0%B0%D0%B7%D0%B0%D0%BD%D1%81%D0%BA%D0%BE%D0%B9&fuzzy=0.9&username=jaguillette&type=json&south=52.3247&east=46.7277&north=54.837' > 255 characters since it exceeds Excel's limit for URLS\n",
        "  \"Excel's limit for URLS\" % url)\n",
        "/home/jeremy/anaconda3/lib/python3.4/site-packages/xlsxwriter/worksheet.py:827: UserWarning: Ignoring URL 'http://api.geonames.org/search?featureClass=P&west=35.5421&name=%D0%92%D0%B5%D0%BD%D0%B5%D0%B2%D1%81%D0%BA%D0%BE%D0%B9+%D0%9D%D0%B8%D0%BA%D0%BE%D0%BB%D0%B0%D0%B5%D0%B2%D1%81%D0%BA%D0%BE%D0%B9&fuzzy=1&username=jaguillette&type=json&south=52.8329&east=39.6827&north=55.0867' > 255 characters since it exceeds Excel's limit for URLS\n",
        "  \"Excel's limit for URLS\" % url)\n",
        "/home/jeremy/anaconda3/lib/python3.4/site-packages/xlsxwriter/worksheet.py:827: UserWarning: Ignoring URL 'http://api.geonames.org/search?featureClass=P&west=35.5421&name=%D0%92%D0%B5%D0%BD%D0%B5%D0%B2%D1%81%D0%BA%D0%B8%D0%B9+%D0%9D%D0%B8%D0%BA%D0%BE%D0%BB%D0%B0%D0%B5%D0%B2%D1%81%D0%BA%D0%B8%D0%B9&fuzzy=1&username=jaguillette&type=json&south=52.8329&east=39.6827&north=55.0867' > 255 characters since it exceeds Excel's limit for URLS\n",
        "  \"Excel's limit for URLS\" % url)\n",
        "/home/jeremy/anaconda3/lib/python3.4/site-packages/xlsxwriter/worksheet.py:827: UserWarning: Ignoring URL 'http://api.geonames.org/search?featureClass=P&west=35.5421&name=%D0%92%D0%B5%D0%BD%D0%B5%D0%B2%D1%81%D0%BA%D0%BE%D0%B9+%D0%9D%D0%B8%D0%BA%D0%BE%D0%BB%D0%B0%D0%B5%D0%B2%D1%81%D0%BA%D0%BE%D0%B9&fuzzy=0.9&username=jaguillette&type=json&south=52.8329&east=39.6827&north=55.0867' > 255 characters since it exceeds Excel's limit for URLS\n",
        "  \"Excel's limit for URLS\" % url)\n",
        "/home/jeremy/anaconda3/lib/python3.4/site-packages/xlsxwriter/worksheet.py:827: UserWarning: Ignoring URL 'http://api.geonames.org/search?featureClass=P&west=41.8373&name=%D0%9A%D0%B0%D0%B7%D0%B0%D0%BD%D1%81%D0%BA%D0%BE%D0%B9+%D0%91%D0%BE%D0%B3%D0%BE%D1%80%D0%BE%D0%B4%D0%B8%D1%86%D0%BA%D0%BE%D0%B9&fuzzy=1&username=jaguillette&type=json&south=52.3247&east=46.7277&north=54.837' > 255 characters since it exceeds Excel's limit for URLS\n",
        "  \"Excel's limit for URLS\" % url)\n",
        "/home/jeremy/anaconda3/lib/python3.4/site-packages/xlsxwriter/worksheet.py:827: UserWarning: Ignoring URL 'http://api.geonames.org/search?featureClass=P&west=41.8373&name=%D0%9A%D0%B0%D0%B7%D0%B0%D0%BD%D1%81%D0%BA%D0%B8%D0%B9+%D0%91%D0%BE%D0%B3%D0%BE%D1%80%D0%BE%D0%B4%D0%B8%D1%86%D0%BA%D0%B8%D0%B9&fuzzy=1&username=jaguillette&type=json&south=52.3247&east=46.7277&north=54.837' > 255 characters since it exceeds Excel's limit for URLS\n",
        "  \"Excel's limit for URLS\" % url)\n",
        "/home/jeremy/anaconda3/lib/python3.4/site-packages/xlsxwriter/worksheet.py:827: UserWarning: Ignoring URL 'http://api.geonames.org/search?featureClass=P&west=41.8373&name=%D0%9A%D0%B0%D0%B7%D0%B0%D0%BD%D1%81%D0%BA%D0%BE%D0%B9+%D0%91%D0%BE%D0%B3%D0%BE%D1%80%D0%BE%D0%B4%D0%B8%D1%86%D0%BA%D0%BE%D0%B9&fuzzy=0.9&username=jaguillette&type=json&south=52.3247&east=46.7277&north=54.837' > 255 characters since it exceeds Excel's limit for URLS\n",
        "  \"Excel's limit for URLS\" % url)\n",
        "/home/jeremy/anaconda3/lib/python3.4/site-packages/xlsxwriter/worksheet.py:827: UserWarning: Ignoring URL 'http://api.geonames.org/search?featureClass=P&west=28.65&name=%D0%9D%D0%BE%D0%B2%D0%BE%D0%B5%D0%B7%D0%B5%D1%80%D1%81%D0%BA%D0%BE%D0%B9+%D0%9A%D0%B8%D1%80%D0%B8%D0%BB%D0%BE%D0%B2%D0%BE&fuzzy=1&username=jaguillette&type=json&south=57.1&east=39.89&north=61.31' > 255 characters since it exceeds Excel's limit for URLS\n",
        "  \"Excel's limit for URLS\" % url)\n"
       ]
      },
      {
       "output_type": "stream",
       "stream": "stderr",
       "text": [
        "/home/jeremy/anaconda3/lib/python3.4/site-packages/xlsxwriter/worksheet.py:827: UserWarning: Ignoring URL 'http://api.geonames.org/search?featureClass=P&west=29.5408&name=%D0%A1%D0%B2%D0%B8%D1%80%D1%81%D0%BA%D0%BE%D0%B9+%D0%90%D0%BB%D0%B5%D0%BA%D1%81%D0%B0%D0%BD%D0%B4%D1%80%D0%BE%D0%B2%D1%81%D0%BA%D0%BE%D0%B9&fuzzy=1&username=jaguillette&type=json&south=51.9042&east=32.863&north=55.194' > 255 characters since it exceeds Excel's limit for URLS\n",
        "  \"Excel's limit for URLS\" % url)\n",
        "/home/jeremy/anaconda3/lib/python3.4/site-packages/xlsxwriter/worksheet.py:827: UserWarning: Ignoring URL 'http://api.geonames.org/search?featureClass=P&west=29.5408&name=%D0%A1%D0%B2%D0%B8%D1%80%D1%81%D0%BA%D0%B8%D0%B9+%D0%90%D0%BB%D0%B5%D0%BA%D1%81%D0%B0%D0%BD%D0%B4%D1%80%D0%BE%D0%B2%D1%81%D0%BA%D0%B8%D0%B9&fuzzy=1&username=jaguillette&type=json&south=51.9042&east=32.863&north=55.194' > 255 characters since it exceeds Excel's limit for URLS\n",
        "  \"Excel's limit for URLS\" % url)\n",
        "/home/jeremy/anaconda3/lib/python3.4/site-packages/xlsxwriter/worksheet.py:827: UserWarning: Ignoring URL 'http://api.geonames.org/search?featureClass=P&west=29.5408&name=%D0%A1%D0%B2%D0%B8%D1%80%D1%81%D0%BA%D0%BE%D0%B9+%D0%90%D0%BB%D0%B5%D0%BA%D1%81%D0%B0%D0%BD%D0%B4%D1%80%D0%BE%D0%B2%D1%81%D0%BA%D0%BE%D0%B9&fuzzy=0.9&username=jaguillette&type=json&south=51.9042&east=32.863&north=55.194' > 255 characters since it exceeds Excel's limit for URLS\n",
        "  \"Excel's limit for URLS\" % url)\n",
        "/home/jeremy/anaconda3/lib/python3.4/site-packages/xlsxwriter/worksheet.py:827: UserWarning: Ignoring URL 'http://api.geonames.org/search?featureClass=P&west=34.3446&name=%D0%A1%D0%B5%D1%80%D0%B5%D0%B4%D0%B0+%D0%A1%D1%82%D1%80%D0%B0%D1%82%D0%B8%D0%BB%D0%B0%D1%82%D1%81%D0%BA%D0%B0%D1%8F&fuzzy=1&username=jaguillette&type=json&south=54.2132&east=40.3419&north=56.981' > 255 characters since it exceeds Excel's limit for URLS\n",
        "  \"Excel's limit for URLS\" % url)\n",
        "/home/jeremy/anaconda3/lib/python3.4/site-packages/xlsxwriter/worksheet.py:827: UserWarning: Ignoring URL 'http://api.geonames.org/search?featureClass=P&west=34.3446&name=%D0%A1%D0%B5%D1%80%D0%B5%D0%B4%D0%B0+%D0%A1%D1%82%D1%80%D0%B0%D1%82%D0%B8%D0%BB%D0%B0%D1%82%D1%81%D0%BA%D0%B0%D1%8F&fuzzy=0.9&username=jaguillette&type=json&south=54.2132&east=40.3419&north=56.981' > 255 characters since it exceeds Excel's limit for URLS\n",
        "  \"Excel's limit for URLS\" % url)\n",
        "/home/jeremy/anaconda3/lib/python3.4/site-packages/xlsxwriter/worksheet.py:827: UserWarning: Ignoring URL 'http://api.geonames.org/search?featureClass=P&west=24.1218047142&name=%D0%A1%D0%BB%D0%BE%D0%BB%D1%8C%D1%86%D0%B0+%D0%9A%D0%BE%D0%BB%D0%B5%D1%81%D0%BD%D0%B0%D1%8F&fuzzy=1&username=jaguillette&type=json&south=55.1937102573&east=32.1900482178&north=59.0651312501' > 255 characters since it exceeds Excel's limit for URLS\n",
        "  \"Excel's limit for URLS\" % url)\n",
        "/home/jeremy/anaconda3/lib/python3.4/site-packages/xlsxwriter/worksheet.py:827: UserWarning: Ignoring URL 'http://api.geonames.org/search?featureClass=P&west=24.1218047142&name=%D0%A1%D0%BB%D0%BE%D0%BB%D1%8C%D1%86%D0%B0+%D0%9A%D0%BE%D0%BB%D0%B5%D1%81%D0%BD%D0%B0%D1%8F&fuzzy=0.9&username=jaguillette&type=json&south=55.1937102573&east=32.1900482178&north=59.0651312501' > 255 characters since it exceeds Excel's limit for URLS\n",
        "  \"Excel's limit for URLS\" % url)\n",
        "/home/jeremy/anaconda3/lib/python3.4/site-packages/xlsxwriter/worksheet.py:827: UserWarning: Ignoring URL 'http://api.geonames.org/search?featureClass=P&west=37.83&name=%D0%A2%D0%B5%D0%BF%D0%BB%D0%BE%D0%B3%D0%BE%D1%80%D1%81%D0%BA%D0%B0%D1%8F+%D0%91%D0%BE%D0%B3%D0%BE%D1%80%D0%BE%D0%B4%D0%B8%D1%86%D0%BA%D0%B0%D1%8F&fuzzy=1&username=jaguillette&type=json&south=57.25&east=57.25&north=64.08' > 255 characters since it exceeds Excel's limit for URLS\n",
        "  \"Excel's limit for URLS\" % url)\n",
        "/home/jeremy/anaconda3/lib/python3.4/site-packages/xlsxwriter/worksheet.py:827: UserWarning: Ignoring URL 'http://api.geonames.org/search?featureClass=P&west=37.83&name=%D0%A2%D0%B5%D0%BF%D0%BB%D0%BE%D0%B3%D0%BE%D1%80%D1%81%D0%BA%D0%B0%D1%8F+%D0%91%D0%BE%D0%B3%D0%BE%D1%80%D0%BE%D0%B4%D0%B8%D1%86%D0%BA%D0%B0%D1%8F&fuzzy=0.9&username=jaguillette&type=json&south=57.25&east=57.25&north=64.08' > 255 characters since it exceeds Excel's limit for URLS\n",
        "  \"Excel's limit for URLS\" % url)\n",
        "/home/jeremy/anaconda3/lib/python3.4/site-packages/xlsxwriter/worksheet.py:827: UserWarning: Ignoring URL 'http://api.geonames.org/search?featureClass=P&west=24.1218047142&name=%D0%A7%D0%B0%D1%81%D0%BE%D0%B2%D0%BD%D1%8F+%D0%90%D0%BF%D0%BE%D1%81%D1%82%D0%BE%D0%BB%D0%B0+%D0%A4%D0%BE%D0%BC%D1%8B&fuzzy=1&username=jaguillette&type=json&south=55.1937102573&east=32.1900482178&north=59.0651312501' > 255 characters since it exceeds Excel's limit for URLS\n",
        "  \"Excel's limit for URLS\" % url)\n",
        "/home/jeremy/anaconda3/lib/python3.4/site-packages/xlsxwriter/worksheet.py:827: UserWarning: Ignoring URL 'http://api.geonames.org/search?featureClass=P&west=24.1218047142&name=%D0%A7%D0%B0%D1%81%D0%BE%D0%B2%D0%BD%D1%8F+%D0%90%D0%BF%D0%BE%D1%81%D1%82%D0%BE%D0%BB%D0%B0+%D0%A4%D0%BE%D0%BC%D1%8B&fuzzy=0.9&username=jaguillette&type=json&south=55.1937102573&east=32.1900482178&north=59.0651312501' > 255 characters since it exceeds Excel's limit for URLS\n",
        "  \"Excel's limit for URLS\" % url)\n",
        "/home/jeremy/anaconda3/lib/python3.4/site-packages/xlsxwriter/worksheet.py:827: UserWarning: Ignoring URL 'http://api.geonames.org/search?featureClass=P&west=35.85&name=%D0%A7%D0%B5%D1%80%D0%B8%D0%BE%D0%BE%D1%81%D1%82%D1%80%D0%BE%D0%B6%D1%81%D0%BA%D0%BE%D0%B9+%D0%9D%D0%B8%D0%BA%D0%BE%D0%BB%D0%B0%D0%B5%D0%B2%D1%81%D0%BA%D0%BE%D0%B9&fuzzy=1&username=jaguillette&type=json&south=53.616667&east=43.85&north=61.616667' > 255 characters since it exceeds Excel's limit for URLS\n",
        "  \"Excel's limit for URLS\" % url)\n",
        "/home/jeremy/anaconda3/lib/python3.4/site-packages/xlsxwriter/worksheet.py:827: UserWarning: Ignoring URL 'http://api.geonames.org/search?featureClass=P&west=35.85&name=%D0%A7%D0%B5%D1%80%D0%B8%D0%BE%D0%BE%D1%81%D1%82%D1%80%D0%BE%D0%B6%D1%81%D0%BA%D0%B8%D0%B9+%D0%9D%D0%B8%D0%BA%D0%BE%D0%BB%D0%B0%D0%B5%D0%B2%D1%81%D0%BA%D0%B8%D0%B9&fuzzy=1&username=jaguillette&type=json&south=53.616667&east=43.85&north=61.616667' > 255 characters since it exceeds Excel's limit for URLS\n",
        "  \"Excel's limit for URLS\" % url)\n",
        "/home/jeremy/anaconda3/lib/python3.4/site-packages/xlsxwriter/worksheet.py:827: UserWarning: Ignoring URL 'http://api.geonames.org/search?featureClass=P&west=35.85&name=%D0%A7%D0%B5%D1%80%D0%B8%D0%BE%D0%BE%D1%81%D1%82%D1%80%D0%BE%D0%B6%D1%81%D0%BA%D0%BE%D0%B9+%D0%9D%D0%B8%D0%BA%D0%BE%D0%BB%D0%B0%D0%B5%D0%B2%D1%81%D0%BA%D0%BE%D0%B9&fuzzy=0.9&username=jaguillette&type=json&south=53.616667&east=43.85&north=61.616667' > 255 characters since it exceeds Excel's limit for URLS\n",
        "  \"Excel's limit for URLS\" % url)\n",
        "/home/jeremy/anaconda3/lib/python3.4/site-packages/xlsxwriter/worksheet.py:827: UserWarning: Ignoring URL 'http://api.geonames.org/search?featureClass=P&west=37.433333&name=%D0%A7%D0%B5%D1%80%D0%BD%D0%B5%D0%B5%D0%B2+%D0%9D%D0%B8%D0%BA%D0%BE%D0%BB%D0%B0%D0%B5%D0%B2%D1%81%D0%BA%D0%BE%D0%B9&fuzzy=1&username=jaguillette&type=json&south=48.716667&east=45.433333&north=56.716667' > 255 characters since it exceeds Excel's limit for URLS\n",
        "  \"Excel's limit for URLS\" % url)\n",
        "/home/jeremy/anaconda3/lib/python3.4/site-packages/xlsxwriter/worksheet.py:827: UserWarning: Ignoring URL 'http://api.geonames.org/search?featureClass=P&west=37.433333&name=%D0%A7%D0%B5%D1%80%D0%BD%D0%B5%D0%B5%D0%B2+%D0%9D%D0%B8%D0%BA%D0%BE%D0%BB%D0%B0%D0%B5%D0%B2%D1%81%D0%BA%D0%B8%D0%B9&fuzzy=1&username=jaguillette&type=json&south=48.716667&east=45.433333&north=56.716667' > 255 characters since it exceeds Excel's limit for URLS\n",
        "  \"Excel's limit for URLS\" % url)\n",
        "/home/jeremy/anaconda3/lib/python3.4/site-packages/xlsxwriter/worksheet.py:827: UserWarning: Ignoring URL 'http://api.geonames.org/search?featureClass=P&west=37.433333&name=%D0%A7%D0%B5%D1%80%D0%BD%D0%B5%D0%B5%D0%B2+%D0%9D%D0%B8%D0%BA%D0%BE%D0%BB%D0%B0%D0%B5%D0%B2%D1%81%D0%BA%D0%BE%D0%B9&fuzzy=0.9&username=jaguillette&type=json&south=48.716667&east=45.433333&north=56.716667' > 255 characters since it exceeds Excel's limit for URLS\n",
        "  \"Excel's limit for URLS\" % url)\n",
        "/home/jeremy/anaconda3/lib/python3.4/site-packages/xlsxwriter/worksheet.py:827: UserWarning: Ignoring URL 'http://api.geonames.org/search?featureClass=P&west=37.8508&name=%D0%A8%D0%B0%D1%80%D1%82%D0%BE%D0%BB%D0%B8%D0%BD%D1%81%D0%BA%D0%BE%D0%B9+%D0%9D%D0%B8%D0%BA%D0%BE%D0%BB%D0%B0%D0%B5%D0%B2%D1%81%D0%BA%D0%BE%D0%B9&fuzzy=1&username=jaguillette&type=json&south=54.9145&east=43.3445&north=57.246' > 255 characters since it exceeds Excel's limit for URLS\n",
        "  \"Excel's limit for URLS\" % url)\n",
        "/home/jeremy/anaconda3/lib/python3.4/site-packages/xlsxwriter/worksheet.py:827: UserWarning: Ignoring URL 'http://api.geonames.org/search?featureClass=P&west=37.8508&name=%D0%A8%D0%B0%D1%80%D1%82%D0%BE%D0%BB%D0%B8%D0%BD%D1%81%D0%BA%D0%B8%D0%B9+%D0%9D%D0%B8%D0%BA%D0%BE%D0%BB%D0%B0%D0%B5%D0%B2%D1%81%D0%BA%D0%B8%D0%B9&fuzzy=1&username=jaguillette&type=json&south=54.9145&east=43.3445&north=57.246' > 255 characters since it exceeds Excel's limit for URLS\n",
        "  \"Excel's limit for URLS\" % url)\n",
        "/home/jeremy/anaconda3/lib/python3.4/site-packages/xlsxwriter/worksheet.py:827: UserWarning: Ignoring URL 'http://api.geonames.org/search?featureClass=P&west=37.8508&name=%D0%A8%D0%B0%D1%80%D1%82%D0%BE%D0%BB%D0%B8%D0%BD%D1%81%D0%BA%D0%BE%D0%B9+%D0%9D%D0%B8%D0%BA%D0%BE%D0%BB%D0%B0%D0%B5%D0%B2%D1%81%D0%BA%D0%BE%D0%B9&fuzzy=0.9&username=jaguillette&type=json&south=54.9145&east=43.3445&north=57.246' > 255 characters since it exceeds Excel's limit for URLS\n",
        "  \"Excel's limit for URLS\" % url)\n"
       ]
      }
     ],
     "prompt_number": 27
    },
    {
     "cell_type": "code",
     "collapsed": false,
     "input": [
      "geodf_merged = pd.merge(geodf,market_df,left_on='hgr_id',right_index=True)"
     ],
     "language": "python",
     "metadata": {},
     "outputs": [],
     "prompt_number": 29
    },
    {
     "cell_type": "code",
     "collapsed": false,
     "input": [
      "geodf_merged = geodf_merged[['hgr_id', 'name', 'alt_name', 'partof_id', 'lng', 'lat', '_type', 'source_url', 'text', 'name_modern_sp', 'result_placename','searched_placename', 'admin1', 'country_name', 'src_id', 'country_code', 'url', 'local_result', 'src', 'ru_prov', 'prov_modern_sp', 'prov_stem', 'admin1_partof', 'ru_uezd','uezd_modern_sp','uezd_stem', 'admin2_partof', 'page']]"
     ],
     "language": "python",
     "metadata": {},
     "outputs": [],
     "prompt_number": 31
    },
    {
     "cell_type": "code",
     "collapsed": false,
     "input": [
      "cyrillic_translit={u'\\u0410': 'A', u'\\u0430': 'a',u'\\u0411': 'B', u'\\u0431': 'b',u'\\u0412': 'V', u'\\u0432': 'v',u'\\u0413': 'G', u'\\u0433': 'g',u'\\u0414': 'D', u'\\u0434': 'd',u'\\u0415': 'E', u'\\u0435': 'e',u'\\u0416': 'Zh', u'\\u0436': 'zh',u'\\u0417': 'Z', u'\\u0437': 'z',u'\\u0418': 'I', u'\\u0438': 'i',u'\\u0419': 'I', u'\\u0439': 'i',u'\\u041a': 'K', u'\\u043a': 'k',u'\\u041b': 'L', u'\\u043b': 'l',u'\\u041c': 'M', u'\\u043c': 'm',u'\\u041d': 'N', u'\\u043d': 'n',u'\\u041e': 'O', u'\\u043e': 'o',u'\\u041f': 'P', u'\\u043f': 'p',u'\\u0420': 'R', u'\\u0440': 'r',u'\\u0421': 'S', u'\\u0441': 's',u'\\u0422': 'T', u'\\u0442': 't',u'\\u0423': 'U', u'\\u0443': 'u',u'\\u0424': 'F', u'\\u0444': 'f',u'\\u0425': 'Kh', u'\\u0445': 'kh',u'\\u0426': 'Ts', u'\\u0446': 'ts',u'\\u0427': 'Ch', u'\\u0447': 'ch',u'\\u0428': 'Sh', u'\\u0448': 'sh',u'\\u0429': 'Shch', u'\\u0449': 'shch',u'\\u042a': '\"', u'\\u044a': '\"',u'\\u042b': 'Y', u'\\u044b': 'y',u'\\u042c': \"'\", u'\\u044c': \"'\",u'\\u042d': 'E', u'\\u044d': 'e',u'\\u042e': 'Iu', u'\\u044e': 'iu',u'\\u042f': 'Ia', u'\\u044f': 'ia',u'\\u0462': 'E', u'\\u0463': 'e'}\n",
      "\n",
      "def transliterate(word, translit_table):\n",
      "    \"\"\"\n",
      "    Transliterates 'word' based on the key/value pairs in 'translit_table'\n",
      "    \"\"\"\n",
      "    converted_word = ''\n",
      "    for char in word:\n",
      "        transchar = ''\n",
      "        if char in translit_table:\n",
      "            transchar = translit_table[char]\n",
      "        else:\n",
      "            transchar = char\n",
      "        converted_word += transchar\n",
      "    return converted_word"
     ],
     "language": "python",
     "metadata": {},
     "outputs": [],
     "prompt_number": 32
    },
    {
     "cell_type": "code",
     "collapsed": false,
     "input": [
      "geodf_merged['lc_translit'] = geodf_merged.name_modern_sp.apply(lambda text: transliterate(text,cyrillic_translit))"
     ],
     "language": "python",
     "metadata": {},
     "outputs": [],
     "prompt_number": 33
    },
    {
     "cell_type": "code",
     "collapsed": false,
     "input": [
      "geodf_merged.to_excel('output/geocoded_merged.xlsx',encoding = 'utf-8')\n",
      "geodf_merged.to_csv('output/geocoded_merged.csv',encoding = 'utf-8')"
     ],
     "language": "python",
     "metadata": {},
     "outputs": [],
     "prompt_number": 42
    },
    {
     "cell_type": "code",
     "collapsed": false,
     "input": [
      "finding_counts = geodf.ix[geodf.result_placename!='not_found'].pivot_table(index='hgr_id',values='lat',aggfunc=lambda x: len(x.unique()))\n",
      "fdf = pd.DataFrame(finding_counts)"
     ],
     "language": "python",
     "metadata": {},
     "outputs": [],
     "prompt_number": 35
    },
    {
     "cell_type": "code",
     "collapsed": false,
     "input": [
      "single_results = pd.merge(fdf.ix[fdf.lat==1],geodf_merged,left_index=True,right_on='hgr_id')\n",
      "single_results = single_results.ix[single_results.result_placename!='not_found']\n",
      "len(single_results)"
     ],
     "language": "python",
     "metadata": {},
     "outputs": [
      {
       "metadata": {},
       "output_type": "pyout",
       "prompt_number": 38,
       "text": [
        "275"
       ]
      }
     ],
     "prompt_number": 38
    },
    {
     "cell_type": "code",
     "collapsed": false,
     "input": [
      "single_results.name_modern_sp = single_results.name_modern_sp.str.title()"
     ],
     "language": "python",
     "metadata": {},
     "outputs": [],
     "prompt_number": 39
    },
    {
     "cell_type": "code",
     "collapsed": false,
     "input": [
      "single_results.to_csv('output/single_results.csv',encoding='utf-8')"
     ],
     "language": "python",
     "metadata": {},
     "outputs": [],
     "prompt_number": 41
    },
    {
     "cell_type": "code",
     "collapsed": false,
     "input": [
      "def reverse_geocode(lng,lat):\n",
      "    keepgoing = True\n",
      "    while keepgoing == True:\n",
      "        try:\n",
      "            url = \"https://maps.googleapis.com/maps/api/geocode/json\"\n",
      "            Q = {'latlng':\"{},{}\".format(lat,lng)}\n",
      "            R = requests.get(url, params=Q)\n",
      "            print(R.url)\n",
      "            geo_response = R.json()\n",
      "            locality = 'error'\n",
      "            for component in geo_response['results'][0]['address_components']:\n",
      "                if 'locality' in component['types']:\n",
      "                    locality = component['long_name']\n",
      "                elif 'administrative_area_level_1' in component['types']:\n",
      "                    admin1 = component['long_name']\n",
      "                elif 'country' in component['types']:\n",
      "                    country = component['long_name']\n",
      "                    countryCode = component['short_name']\n",
      "            if locality == 'error':\n",
      "                for component in geo_response['results'][0]['address_components']:\n",
      "                    if 'administrative_area_level_2' in component['types']:\n",
      "                        locality = component['long_name']\n",
      "            print(\"\\\"{0}, {1}\\\",\\\"{2}\\\",\\\"{3}\\\"\".format(locality,admin1,country,countryCode))\n",
      "            time.sleep(1)\n",
      "            keepgoing = False\n",
      "        except IndexError:\n",
      "            time.sleep(1)\n",
      "            continue\n",
      "        return \"{}, {}\".format(locality,admin1), country, countryCode"
     ],
     "language": "python",
     "metadata": {},
     "outputs": [],
     "prompt_number": 37
    },
    {
     "cell_type": "code",
     "collapsed": false,
     "input": [
      "single_results['pres_loc'], single_results['country'], single_results['country_code'] = np.vectorize(reverse_geocode)(single_results.lng,single_results.lat_y)"
     ],
     "language": "python",
     "metadata": {},
     "outputs": []
    },
    {
     "cell_type": "code",
     "collapsed": false,
     "input": [
      "single_results = single_results[['lat_x', 'hgr_id', 'name', 'alt_name', 'partof_id', 'lng', 'lat_y', '_type', 'source_url', 'text', 'name_modern_sp', 'lc_translit', 'pres_loc', 'country', 'country_code', 'result_placename', 'searched_placename', 'admin1', 'country_name', 'src_id', 'url', 'local_result', 'src', 'ru_prov', 'prov_modern_sp', 'prov_stem', 'ru_uezd', 'page']]"
     ],
     "language": "python",
     "metadata": {},
     "outputs": []
    }
   ],
   "metadata": {}
  }
 ]
}