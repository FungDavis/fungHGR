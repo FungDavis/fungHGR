{
 "metadata": {
  "name": "",
  "signature": "sha256:8d7ef3be608683b1258426222517b23740ff61cad582bdcbd6d7d9bd66bfa075"
 },
 "nbformat": 3,
 "nbformat_minor": 0,
 "worksheets": [
  {
   "cells": [
    {
     "cell_type": "code",
     "collapsed": false,
     "input": [
      "import requests, re"
     ],
     "language": "python",
     "metadata": {},
     "outputs": [],
     "prompt_number": 2
    },
    {
     "cell_type": "code",
     "collapsed": false,
     "input": [
      "url = \"http://api.geonames.org/search?username=jaguillette&type=json&north=54.837&west=41.8373&east=46.7277&name=%D0%B8%D0%BD%D1%81%D0%B0%D1%80&south=52.3247&featureClass=P\"\n",
      "R = requests.get(url)\n",
      "namesjson = R.json()\n",
      "result = namesjson['geonames'][1]\n",
      "res_placename = result['name']\n",
      "searched_placename = re.findall(r'[?&]name=(.*)&',url)[0]\n",
      "admin1 = result['adminName1']\n",
      "country_name = result['countryName']\n",
      "lat = result['lat']\n",
      "lng = result['lng']\n",
      "src_id = result['geonameId']\n",
      "country_code = result['countryCode']\n",
      "print('{}\\t{}\\t{}\\t{}\\t{}\\t{}\\t{}\\t{}\\t{}'.format(res_placename,searched_placename,admin1,country_name,lat,lng,src_id,country_code,url))"
     ],
     "language": "python",
     "metadata": {},
     "outputs": [
      {
       "output_type": "stream",
       "stream": "stdout",
       "text": [
        "Insar\t%D0%B8%D0%BD%D1%81%D0%B0%D1%80&south=52.3247\tMordoviya\tRussia\t53.86531\t44.37382\t556318\tRU\thttp://api.geonames.org/search?username=jaguillette&type=json&north=54.837&west=41.8373&east=46.7277&name=%D0%B8%D0%BD%D1%81%D0%B0%D1%80&south=52.3247&featureClass=P\n"
       ]
      }
     ],
     "prompt_number": 9
    }
   ],
   "metadata": {}
  }
 ]
}