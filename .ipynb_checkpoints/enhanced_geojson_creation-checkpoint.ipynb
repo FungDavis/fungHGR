{
 "metadata": {
  "name": "",
  "signature": "sha256:854f3c7accc4c1eafe7319d9c2d545f5314b06fb2edf4e63beff43c13ed1b860"
 },
 "nbformat": 3,
 "nbformat_minor": 0,
 "worksheets": [
  {
   "cells": [
    {
     "cell_type": "code",
     "collapsed": false,
     "input": [
      "import json"
     ],
     "language": "python",
     "metadata": {},
     "outputs": [],
     "prompt_number": 1
    },
    {
     "cell_type": "code",
     "collapsed": false,
     "input": [
      "with open(\"output/enhanced_dataset.json\", 'r',encoding='utf-8') as fp:\n",
      "    db = json.load(fp)"
     ],
     "language": "python",
     "metadata": {},
     "outputs": [],
     "prompt_number": 2
    },
    {
     "cell_type": "code",
     "collapsed": false,
     "input": [
      "geojson = {\"type\":\"FeatureCollection\",\"features\":[]}\n",
      "for k,v in db.items():\n",
      "    if 'geo' in v:\n",
      "        feature = {\"type\":\"Feature\",\"geometry\":{\"type\":\"Point\",\"coordinates\":[v['geo']['x_coord'],v['geo']['y_coord']]}}\n",
      "        feature['properties'] = v\n",
      "        geojson['features'].append(feature)"
     ],
     "language": "python",
     "metadata": {},
     "outputs": [],
     "prompt_number": 3
    },
    {
     "cell_type": "code",
     "collapsed": false,
     "input": [
      "with open(\"output/enhanced_dataset.geojson\",\"w\",encoding='utf-8') as fp:\n",
      "    json.dump(geojson,fp,sort_keys=True)"
     ],
     "language": "python",
     "metadata": {},
     "outputs": [],
     "prompt_number": 4
    }
   ],
   "metadata": {}
  }
 ]
}