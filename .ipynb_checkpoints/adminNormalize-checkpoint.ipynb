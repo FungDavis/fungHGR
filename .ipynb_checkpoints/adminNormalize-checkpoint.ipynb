{
 "metadata": {
  "name": "",
  "signature": "sha256:4b69811e1b94f77feb37b9938cb262bca84899365b1b06f6202455d19cb6ede8"
 },
 "nbformat": 3,
 "nbformat_minor": 0,
 "worksheets": [
  {
   "cells": [
    {
     "cell_type": "code",
     "collapsed": false,
     "input": [
      "import nltk, re"
     ],
     "language": "python",
     "metadata": {},
     "outputs": [],
     "prompt_number": 8
    },
    {
     "cell_type": "code",
     "collapsed": false,
     "input": [
      "nltk.download_gui()"
     ],
     "language": "python",
     "metadata": {},
     "outputs": [
      {
       "output_type": "stream",
       "stream": "stdout",
       "text": [
        "showing info http://nltk.github.com/nltk_data/\n"
       ]
      }
     ],
     "prompt_number": 5
    },
    {
     "cell_type": "code",
     "collapsed": false,
     "input": [
      "ru_stemmer = nltk.stem.SnowballStemmer('russian')"
     ],
     "language": "python",
     "metadata": {},
     "outputs": [],
     "prompt_number": 6
    },
    {
     "cell_type": "code",
     "collapsed": false,
     "input": [
      "ru_stemmer.stem('\u0410\u0440\u0445\u0430\u043d\u0433\u0435\u043b\u044c\u0441\u043a\u0430\u0433\u043e')"
     ],
     "language": "python",
     "metadata": {},
     "outputs": [
      {
       "metadata": {},
       "output_type": "pyout",
       "prompt_number": 7,
       "text": [
        "'\u0430\u0440\u0445\u0430\u043d\u0433\u0435\u043b\u044c\u0441\u043a\u0430\u0433'"
       ]
      }
     ],
     "prompt_number": 7
    },
    {
     "cell_type": "code",
     "collapsed": false,
     "input": [
      "def normalizer(name):\n",
      "    nounAdj = {\"\u0412\u043e\u0440\u043e\u043d\u0435\u0436\u044a\":\"\u0412\u043e\u0440\u043e\u043d\u0435\u0436\u0441\u043a\u0430\u0433\u043e\",\"\u0412\u044b\u0431\u043e\u0440\u0433\u044a\":\"\u0412\u044b\u0431\u043e\u0440\u0433\u0441\u043a\u0430\u0433\u043e\"}\n",
      "    if len(re.findall(r\"\u0441\u043a\u0430\u0433\u043e$\",name))!=0:\n",
      "        return name\n",
      "    elif len(re.findall(r\"\u0441\u043a\u043e\u043c\u044a$\",name))!=0:\n",
      "        name = re.sub(r\"(.*)\u0441\u043a\u043e\u043c\u044a$\",r\"\\1\u0441\u043a\u0430\u0433\u043e\",name)\n",
      "        return name\n",
      "    elif len(re.findall(r\"\u0441\u043a\u044a$\",name))!=0:\n",
      "        name = re.sub(r\"(.*)\u0441\u043a\u044a$\",r\"\\1\u0441\u043a\u0430\u0433\u043e\",name)\n",
      "        return name\n",
      "    else:\n",
      "        try:\n",
      "            name = nounAdj[name]\n",
      "            return name\n",
      "        except KeyError:\n",
      "            print(name)"
     ],
     "language": "python",
     "metadata": {},
     "outputs": [],
     "prompt_number": 17
    },
    {
     "cell_type": "code",
     "collapsed": false,
     "input": [
      "name = '\u0418\u0440\u043a\u0443\u0442\u0441\u043a\u044a'\n",
      "re.sub(r\"(.*)\u0441\u043a\u044a$\",r\"\\1\u0441\u043a\u0430\u0433\u043e\",name)"
     ],
     "language": "python",
     "metadata": {},
     "outputs": [
      {
       "metadata": {},
       "output_type": "pyout",
       "prompt_number": 16,
       "text": [
        "'\u0418\u0440\u043a\u0443\u0442\u0441\u043a\u0430\u0433\u043e'"
       ]
      }
     ],
     "prompt_number": 16
    }
   ],
   "metadata": {}
  }
 ]
}