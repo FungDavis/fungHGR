{
 "metadata": {
  "name": "",
  "signature": "sha256:d0cfdc81f1fefba48bfc02ac68bbd5aa0befbe80abec6364a1fc1d976cf18827"
 },
 "nbformat": 3,
 "nbformat_minor": 0,
 "worksheets": [
  {
   "cells": [
    {
     "cell_type": "code",
     "collapsed": false,
     "input": [
      "import pandas as pd\n",
      "import numpy as np\n",
      "import json"
     ],
     "language": "python",
     "metadata": {},
     "outputs": [],
     "prompt_number": 52
    },
    {
     "cell_type": "code",
     "collapsed": false,
     "input": [
      "test_set = pd.DataFrame.from_csv(\"output/hgr_test_set_5.csv\")\n",
      "mydict = test_set.partof_id.to_dict()"
     ],
     "language": "python",
     "metadata": {},
     "outputs": [],
     "prompt_number": 53
    },
    {
     "cell_type": "code",
     "collapsed": false,
     "input": [
      "geojson = {\"type\":\"FeatureCollection\",\"features\":[]}"
     ],
     "language": "python",
     "metadata": {},
     "outputs": [],
     "prompt_number": 54
    },
    {
     "cell_type": "code",
     "collapsed": false,
     "input": [
      "test_set.ix[np.isnan(test_set.partof_prov)]"
     ],
     "language": "python",
     "metadata": {},
     "outputs": [
      {
       "html": [
        "<div style=\"max-height:1000px;max-width:1500px;overflow:auto;\">\n",
        "<table border=\"1\" class=\"dataframe\">\n",
        "  <thead>\n",
        "    <tr style=\"text-align: right;\">\n",
        "      <th></th>\n",
        "      <th>ru_old_orth</th>\n",
        "      <th>alt_name</th>\n",
        "      <th>partof_id</th>\n",
        "      <th>x_coord</th>\n",
        "      <th>y_coord</th>\n",
        "      <th>ru_featuretype</th>\n",
        "      <th>SOURCE</th>\n",
        "      <th>description</th>\n",
        "      <th>ru_new_orth</th>\n",
        "      <th>lc_trans</th>\n",
        "      <th>...</th>\n",
        "      <th>beg_yr</th>\n",
        "      <th>end_yr</th>\n",
        "      <th>lc_featuretype</th>\n",
        "      <th>id_featuretype</th>\n",
        "      <th>en_featuretype</th>\n",
        "      <th>xy_type</th>\n",
        "      <th>partof_prov</th>\n",
        "      <th>partof_uezd</th>\n",
        "      <th>partof_prov_name</th>\n",
        "      <th>partof_uezd_name</th>\n",
        "    </tr>\n",
        "    <tr>\n",
        "      <th>uniq_id</th>\n",
        "      <th></th>\n",
        "      <th></th>\n",
        "      <th></th>\n",
        "      <th></th>\n",
        "      <th></th>\n",
        "      <th></th>\n",
        "      <th></th>\n",
        "      <th></th>\n",
        "      <th></th>\n",
        "      <th></th>\n",
        "      <th></th>\n",
        "      <th></th>\n",
        "      <th></th>\n",
        "      <th></th>\n",
        "      <th></th>\n",
        "      <th></th>\n",
        "      <th></th>\n",
        "      <th></th>\n",
        "      <th></th>\n",
        "      <th></th>\n",
        "      <th></th>\n",
        "    </tr>\n",
        "  </thead>\n",
        "  <tbody>\n",
        "  </tbody>\n",
        "</table>\n",
        "<p>0 rows \u00d7 23 columns</p>\n",
        "</div>"
       ],
       "metadata": {},
       "output_type": "pyout",
       "prompt_number": 55,
       "text": [
        "Empty DataFrame\n",
        "Columns: [ru_old_orth, alt_name, partof_id, x_coord, y_coord, ru_featuretype, SOURCE, description, ru_new_orth, lc_trans, pres_loc, pres_country, country_code, beg_yr, end_yr, lc_featuretype, id_featuretype, en_featuretype, xy_type, partof_prov, partof_uezd, partof_prov_name, partof_uezd_name]\n",
        "Index: []\n",
        "\n",
        "[0 rows x 23 columns]"
       ]
      }
     ],
     "prompt_number": 55
    },
    {
     "cell_type": "code",
     "collapsed": false,
     "input": [
      "prov_types = test_set[test_set.partof_prov == test_set.index].ru_featuretype.unique().tolist()\n",
      "uezd_types = test_set[test_set.partof_uezd == test_set.index].ru_featuretype.unique().tolist()\n",
      "print(uezd_types)"
     ],
     "language": "python",
     "metadata": {},
     "outputs": [
      {
       "output_type": "stream",
       "stream": "stdout",
       "text": [
        "['\u0413\u0443\u0431\u0435\u0440\u043d\u0456\u044f', '\u0433\u043b\u0430\u0432\u043d\u044b\u0439 \u0433\u043e\u0440\u043e\u0434\u044a', '\u041d\u0430\u043c\u0463\u0441\u0442\u043d\u0438\u0447\u0435\u0441\u0442\u0432\u043e', '\u0443\u0435\u0437\u0434', '\u0433\u043e\u0440\u043e\u0434\u044a', '\u041e\u0431\u043b\u0430\u0441\u0442\u044c', '\u0443\u0435\u0437\u0434\u0435 \u0433\u043e\u0440\u043e\u0434\u0430']\n"
       ]
      }
     ],
     "prompt_number": 56
    },
    {
     "cell_type": "code",
     "collapsed": false,
     "input": [
      "def mapmaker(name,desc,url,lat,lng,featuretype,partof_namest):\n",
      "    if featuretype in ['\u0413\u0443\u0431\u0435\u0440\u043d\u0456\u044f', '\u0433\u043b\u0430\u0432\u043d\u044b\u0439 \u0433\u043e\u0440\u043e\u0434\u044a', '\u041d\u0430\u043c\u0463\u0441\u0442\u043d\u0438\u0447\u0435\u0441\u0442\u0432\u043e', '\u041e\u0431\u043b\u0430\u0441\u0442\u044c']:\n",
      "        markerSize = 'large'\n",
      "    elif featuretype in ['\u0443\u0435\u0437\u0434', '\u0433\u043e\u0440\u043e\u0434\u044a', '\u0443\u0435\u0437\u0434\u0435 \u0433\u043e\u0440\u043e\u0434\u0430']:\n",
      "        markerSize = 'medium'\n",
      "    else:\n",
      "        markerSize = 'small'\n",
      "    if featuretype in ['\u0413\u0443\u0431\u0435\u0440\u043d\u0456\u044f', '\u0433\u043b\u0430\u0432\u043d\u044b\u0439 \u0433\u043e\u0440\u043e\u0434\u044a', '\u041d\u0430\u043c\u0463\u0441\u0442\u043d\u0438\u0447\u0435\u0441\u0442\u0432\u043e', '\u041e\u0431\u043b\u0430\u0441\u0442\u044c']:\n",
      "        markerSymbol = 'star'\n",
      "    elif featuretype in ['\u0443\u0435\u0437\u0434', '\u0433\u043e\u0440\u043e\u0434\u044a', '\u0443\u0435\u0437\u0434\u0435 \u0433\u043e\u0440\u043e\u0434\u0430']:\n",
      "        markerSymbol = 'square'\n",
      "    else:\n",
      "        markerSymbol = 'circle'\n",
      "    colorlist = [\"#D29176\",\"#62E53A\",\"#D353D9\",\"#6EDCCF\",\"#522A5A\",\"#DACA3C\",\"#394D1C\",\"#DD3E27\",\"#6B8FDB\",\"#CE3568\",\"#48972D\",\"#D2C7C4\",\"#E69631\",\"#405A6D\",\"#8C2D29\",\"#6BE29C\",\"#D0A2D2\",\"#BCDC7C\",\"#A359A8\",\"#90936A\",\"#81BAD9\",\"#674424\",\"#302C2B\",\"#7F68D6\",\"#9C782B\",\"#BDDCB1\",\"#4F9D66\",\"#BA602C\",\"#907178\",\"#5F2333\",\"#CB6E8A\",\"#B2DD3B\",\"#555B92\",\"#DBC277\",\"#DF5B59\",\"#609797\",\"#7B8B2E\",\"#CB4094\",\"#37624B\",\"#6BD960\"]\n",
      "    if int(partof_namest) == 263:\n",
      "        partof_namest = 40\n",
      "    markerColor = markerColor = colorlist[int(partof_namest-1)]\n",
      "    if str(desc)=='nan':\n",
      "        desc = \"\"\n",
      "    if str(url)=='nan':\n",
      "        url = \"\"\n",
      "    outdict = {\"type\":\"Feature\",\"geometry\":{\"type\":\"Point\",\"coordinates\":[lng,lat]},\"properties\":{\"title\":name,\"description\":desc+\" \"+url,\"marker-size\":markerSize,\"marker-symbol\":markerSymbol,\"marker-color\":markerColor}}\n",
      "    return outdict"
     ],
     "language": "python",
     "metadata": {},
     "outputs": [],
     "prompt_number": 57
    },
    {
     "cell_type": "code",
     "collapsed": false,
     "input": [
      "geojson['features']=np.vectorize(mapmaker)(test_set.ru_old_orth,test_set.description,test_set.SOURCE,test_set.y_coord,test_set.x_coord,test_set.ru_featuretype,test_set.partof_prov).tolist()"
     ],
     "language": "python",
     "metadata": {},
     "outputs": [],
     "prompt_number": 58
    },
    {
     "cell_type": "code",
     "collapsed": false,
     "input": [
      "with open(\"output/hgr_map_test.geojson\",\"w\") as fp:\n",
      "    json.dump(geojson,fp)"
     ],
     "language": "python",
     "metadata": {},
     "outputs": [],
     "prompt_number": 59
    },
    {
     "cell_type": "code",
     "collapsed": false,
     "input": [
      "def sep_val(partof_id):\n",
      "    if not np.isnan(partof_id):\n",
      "        temp = mydict[partof_id]\n",
      "        if np.isnan(temp):\n",
      "            return partof_id,temp\n",
      "        else:\n",
      "            return temp,partof_id\n",
      "    else:\n",
      "        return partof_id,partof_id"
     ],
     "language": "python",
     "metadata": {},
     "outputs": [],
     "prompt_number": 3
    },
    {
     "cell_type": "code",
     "collapsed": false,
     "input": [
      "test_set['partof_prov'], test_set['partof_uezd'] = zip(*test_set.partof_id.map(sep_val))"
     ],
     "language": "python",
     "metadata": {},
     "outputs": [],
     "prompt_number": 9
    },
    {
     "cell_type": "code",
     "collapsed": false,
     "input": [
      "test_set.to_csv('hgr_test_set_2.csv', encoding='utf-8')"
     ],
     "language": "python",
     "metadata": {},
     "outputs": [],
     "prompt_number": 10
    },
    {
     "cell_type": "code",
     "collapsed": false,
     "input": [
      "cond = np.logical_or(test_set.ru_featuretype=='\u041d\u0430\u043c\u0463\u0441\u0442\u043d\u0438\u0447\u0435\u0441\u0442\u0432\u043e',test_set.ru_featuretype=='\u0413\u0443\u0431\u0435\u0440\u043d\u0456\u044f')\n",
      "test_set['partof_prov'][cond] = test_set.index"
     ],
     "language": "python",
     "metadata": {},
     "outputs": [],
     "prompt_number": 12
    }
   ],
   "metadata": {}
  }
 ]
}