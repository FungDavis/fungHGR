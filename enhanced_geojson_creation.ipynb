{
 "cells": [
  {
   "cell_type": "code",
   "execution_count": 5,
   "metadata": {
    "collapsed": false
   },
   "outputs": [],
   "source": [
    "import json"
   ]
  },
  {
   "cell_type": "code",
   "execution_count": 6,
   "metadata": {
    "collapsed": false
   },
   "outputs": [],
   "source": [
    "with open(\"output/enhanced_dataset.json\", 'r',encoding='utf-8') as fp:\n",
    "    db = json.load(fp)"
   ]
  },
  {
   "cell_type": "code",
   "execution_count": 7,
   "metadata": {
    "collapsed": false
   },
   "outputs": [],
   "source": [
    "geojson = {\"type\":\"FeatureCollection\",\"features\":[]}\n",
    "for k,v in db.items():\n",
    "    if 'geo' in v:\n",
    "        feature = {\"type\":\"Feature\",\"geometry\":{\"type\":\"Point\",\"coordinates\":[v['geo']['x_coord'],v['geo']['y_coord']]}}\n",
    "        feature['properties'] = v\n",
    "        geojson['features'].append(feature)"
   ]
  },
  {
   "cell_type": "code",
   "execution_count": 8,
   "metadata": {
    "collapsed": false
   },
   "outputs": [],
   "source": [
    "with open(\"output/enhanced_dataset.geojson\",\"w\",encoding='utf-8') as fp:\n",
    "    json.dump(geojson,fp,sort_keys=True)"
   ]
  }
 ],
 "metadata": {
  "kernelspec": {
   "display_name": "Python 3",
   "language": "python",
   "name": "python3"
  },
  "language_info": {
   "codemirror_mode": {
    "name": "ipython",
    "version": 3
   },
   "file_extension": ".py",
   "mimetype": "text/x-python",
   "name": "python",
   "nbconvert_exporter": "python",
   "pygments_lexer": "ipython3",
   "version": "3.5.1"
  }
 },
 "nbformat": 4,
 "nbformat_minor": 0
}
