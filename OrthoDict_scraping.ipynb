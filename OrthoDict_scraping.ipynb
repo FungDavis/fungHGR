{
 "metadata": {
  "name": "",
  "signature": "sha256:b64809f0b3effe975e173e19276c32e6b641afb73269558aac8fd622ded5ceea"
 },
 "nbformat": 3,
 "nbformat_minor": 0,
 "worksheets": [
  {
   "cells": [
    {
     "cell_type": "code",
     "collapsed": false,
     "input": [
      "import requests\n",
      "from lxml import html"
     ],
     "language": "python",
     "metadata": {},
     "outputs": [],
     "prompt_number": 84
    },
    {
     "cell_type": "code",
     "collapsed": false,
     "input": [
      "start = 0xc0\n",
      "end = 0xdf\n",
      "pages = []\n",
      "for i in range(start, end+1):\n",
      "    pages.append( format(i,'x'))\n",
      "pages.append('b9')"
     ],
     "language": "python",
     "metadata": {},
     "outputs": [],
     "prompt_number": 14
    },
    {
     "cell_type": "code",
     "collapsed": false,
     "input": [
      "for p in pages:\n",
      "    url = 'http://www.dorev.ru/ru-index.html?l={}'.format(p)\n",
      "    R = requests.get(url)\n",
      "    f = R.text\n",
      "    mytree = html.fromstring(f)\n",
      "    modern_spelling = mytree.xpath('//tr/td[2][@class=\"uu\"]')\n",
      "    old_spelling = mytree.xpath('//tr/td[4][@class=\"uu\"]')\n",
      "    "
     ],
     "language": "python",
     "metadata": {},
     "outputs": [],
     "prompt_number": 49
    },
    {
     "cell_type": "code",
     "collapsed": false,
     "input": [
      "mytree = html.fromstring(f)"
     ],
     "language": "python",
     "metadata": {},
     "outputs": [],
     "prompt_number": 87
    },
    {
     "cell_type": "code",
     "collapsed": false,
     "input": [
      "test = mytree.xpath('//tr/td[4][@class=\"uu\"]')[2]"
     ],
     "language": "python",
     "metadata": {},
     "outputs": [],
     "prompt_number": 91
    },
    {
     "cell_type": "code",
     "collapsed": false,
     "input": [
      "test.text_content().replace(\"'\",'')"
     ],
     "language": "python",
     "metadata": {},
     "outputs": [
      {
       "metadata": {},
       "output_type": "pyout",
       "prompt_number": 93,
       "text": [
        "'\u0431\u0430\u0431\u0443\u0448\u043a\u0430, \u043e \u0431\u0430\u0431\u0443\u0448\u043a\u0463'"
       ]
      }
     ],
     "prompt_number": 93
    }
   ],
   "metadata": {}
  }
 ]
}