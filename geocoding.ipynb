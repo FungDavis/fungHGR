{
 "metadata": {
  "name": "",
  "signature": "sha256:81f17f001d4cc40a779d851a833edce3a6bcf37de2aeaa779ccad86c6ce7dcbd"
 },
 "nbformat": 3,
 "nbformat_minor": 0,
 "worksheets": [
  {
   "cells": [
    {
     "cell_type": "code",
     "collapsed": false,
     "input": [
      "import re, requests"
     ],
     "language": "python",
     "metadata": {},
     "outputs": [],
     "prompt_number": 24
    },
    {
     "cell_type": "code",
     "collapsed": false,
     "input": [
      "import os\n",
      "def Ensure_dir(d):\n",
      "    \"\"\"Makes sure a directory 'd' exists, and if it doesn't, it creates one.\"\"\"\n",
      "    if not os.path.exists(d):\n",
      "        os.makedirs(d)\n",
      "    return 0"
     ],
     "language": "python",
     "metadata": {},
     "outputs": [],
     "prompt_number": 25
    },
    {
     "cell_type": "code",
     "collapsed": false,
     "input": [
      "def open_texts(file_start_str,first,last):\n",
      "    \"\"\"Creates a dictionary from a set of .htm files.\n",
      "    Assumes all have the same starting string immediately followed by a page number.\n",
      "    Returns a dictionary with page numbers as keys and page contents as values.\"\"\"\n",
      "    out_dict = {}\n",
      "    for i in range(first,last+1):\n",
      "        with open(\"{}{}.htm\".format(file_start_str,i),encoding=\"utf-8\") as htmfile:\n",
      "            out_dict[i] = htmfile.read()\n",
      "    return out_dict"
     ],
     "language": "python",
     "metadata": {},
     "outputs": [],
     "prompt_number": 26
    },
    {
     "cell_type": "markdown",
     "metadata": {},
     "source": [
      "Creating a dictionary called `market_text` and filling it out with key/value pairs corresponding to page numbers and page texts."
     ]
    },
    {
     "cell_type": "code",
     "collapsed": false,
     "input": [
      "market_text = open_texts(\"html/slovar\",10,70)"
     ],
     "language": "python",
     "metadata": {},
     "outputs": [],
     "prompt_number": 27
    },
    {
     "cell_type": "markdown",
     "metadata": {},
     "source": [
      "Cleanup cell. Currently fixing some common capitalization errors, and replacing nbsp's with normal spaces."
     ]
    },
    {
     "cell_type": "code",
     "collapsed": false,
     "input": [
      "for p in range(10,71):\n",
      "    market_text[p] = re.sub(\"[> ](\u0412\u042a)\",\"\u0412\u044a\",market_text[p])\n",
      "    market_text[p] = re.sub(\"&nbsp;\",\" \",market_text[p])\n",
      "    market_text[p] = re.sub(r\"([\u0430-\u044f\u0456\u0463]+)(\u042a)\",r\"\\1\u044a\",market_text[p])"
     ],
     "language": "python",
     "metadata": {},
     "outputs": [],
     "prompt_number": 28
    },
    {
     "cell_type": "code",
     "collapsed": false,
     "input": [
      "def extract_placenames(text_dict,start,end):\n",
      "    \"\"\"\n",
      "    Finds placenames, which should be capitalized and at the beginning of paragraphs in text.\n",
      "    Returns dict with name, descriptive text, and page number.\n",
      "    \"\"\"\n",
      "    out_dict = {}\n",
      "    last_entry = \"\"\n",
      "    counter = 1\n",
      "    for p in range(start,end+1):\n",
      "        # finds trailing descriptions at beginning of page, appends to last entry on previous page.\n",
      "        trail = re.findall(\"<body>\\n<p><span class=\\\"font0\\\">(.*)</span></p>\",text_dict[p])\n",
      "        if len(trail)>0 and len(re.findall(\"^([\u0410-\u042f\u0406\u0462 -]+)[, ]\",trail[0]))==0:\n",
      "            out_dict[last_entry]['text']+=trail[0]\n",
      "        # finds all place names on page, captures descriptions as well. puts into dictionary with name as key and desc as value.\n",
      "        places = re.findall(\">([\u0410-\u042f\u0406\u0462 -]+)[, ](.*)</p>\",text_dict[p])\n",
      "        if len(places)>0:\n",
      "            for v in places:\n",
      "                placename = v[0].strip()\n",
      "                out_dict[counter] = {'name':placename,'text':v[1],'page':p}\n",
      "                counter+=1\n",
      "            last_entry = counter-1\n",
      "    return out_dict"
     ],
     "language": "python",
     "metadata": {},
     "outputs": [],
     "prompt_number": 29
    },
    {
     "cell_type": "code",
     "collapsed": false,
     "input": [
      "market_towns = extract_placenames(market_text,10,70) # creating dict market_towns to hold individual place info.\n",
      "market_towns.pop(1,None) #Known extraneous hit at beginning of doc, removed."
     ],
     "language": "python",
     "metadata": {},
     "outputs": [
      {
       "metadata": {},
       "output_type": "pyout",
       "prompt_number": 30,
       "text": [
        "{'text': '\u0438 \u0422\u041e\u0420\u0413\u041e\u0412\u042a.</span>', 'name': '\u042f\u0420\u041c\u0410\u0420\u041e\u041a\u042a', 'page': 10}"
       ]
      }
     ],
     "prompt_number": 30
    },
    {
     "cell_type": "markdown",
     "metadata": {},
     "source": [
      "In this cell, we're looking for town types, which will be in italics. We're also looking for administrative divisions based on their titles, mostly Namiestnichestva."
     ]
    },
    {
     "cell_type": "code",
     "collapsed": false,
     "input": [
      "for t in market_towns:\n",
      "    try:\n",
      "        town_type = re.findall(\"italic;\\\">([\u0430-\u044f\u0456\u0463, ]+)</span>\",market_towns[t]['text'])[0]\n",
      "        town_type = town_type.strip(\", \")\n",
      "        try:\n",
      "            # regex to find governorships, not all will have these.\n",
      "            ru_prov = re.findall(\">([\u0410-\u042f\u0406\u0462\u0430-\u044f\u0463\u0456, -]*\u041d\u0430(?:\u043c\u0463){0,1}\u0441\u0442\u043d\u0438\u0447[\u0435\u043b]\u0441\u0442\u0432[\u0430\u0463](?: \u0441\u0435\u0433\u043e \u0438\u043c\u0435\u043d\u0438){0,1})\",market_towns[t]['text'])[0].strip()\n",
      "        except IndexError:\n",
      "            try:\n",
      "                # regex to find gubernii, not all will have these, some will have neither gov nor gub\n",
      "                ru_prov = re.findall(\">[ ]*([\u0410-\u042f\u0406\u0462\u0430-\u044f\u0463\u0456,]+(?: [\u0410-\u042f\u0406\u0462\u0430-\u044f\u0463\u0456,]+){0,1} \u0413\u0443\u0431\u0435\u0440\u043d\u0456\u0438)\",market_towns[t]['text'])[0].strip()\n",
      "            except IndexError:\n",
      "                ru_prov = 'not_in_text'\n",
      "        try:\n",
      "            ru_uezd = re.findall(\"([\u0410-\u042f\u0406\u0462\u0430-\u044f\u0463\u0456]+ \u0443\u0463\u0437\u0434[\u0443\u0463])\",market_towns[t]['text'])[0].strip()\n",
      "        except IndexError:\n",
      "            ru_uezd = 'not_in_text'\n",
      "        market_towns[t]['_type']=town_type\n",
      "        market_towns[t]['ru_prov']=ru_prov\n",
      "        market_towns[t]['ru_uezd']=ru_uezd\n",
      "    except IndexError:\n",
      "        print(t)"
     ],
     "language": "python",
     "metadata": {},
     "outputs": [],
     "prompt_number": 31
    },
    {
     "cell_type": "code",
     "collapsed": false,
     "input": [
      "import pandas as pd"
     ],
     "language": "python",
     "metadata": {},
     "outputs": [],
     "prompt_number": 32
    },
    {
     "cell_type": "code",
     "collapsed": false,
     "input": [
      "# creation of pandas dataframe based on previously created dict.\n",
      "market_df = pd.DataFrame.from_dict(market_towns,orient=\"index\")\n",
      "market_df.head()"
     ],
     "language": "python",
     "metadata": {},
     "outputs": [
      {
       "html": [
        "<div style=\"max-height:1000px;max-width:1500px;overflow:auto;\">\n",
        "<table border=\"1\" class=\"dataframe\">\n",
        "  <thead>\n",
        "    <tr style=\"text-align: right;\">\n",
        "      <th></th>\n",
        "      <th>name</th>\n",
        "      <th>ru_prov</th>\n",
        "      <th>text</th>\n",
        "      <th>page</th>\n",
        "      <th>_type</th>\n",
        "      <th>ru_uezd</th>\n",
        "    </tr>\n",
        "  </thead>\n",
        "  <tbody>\n",
        "    <tr>\n",
        "      <th>2</th>\n",
        "      <td>  \u0410\u0412\u0414\u0423\u041b\u041e\u0412\u041e</td>\n",
        "      <td>     \u0420\u044f\u0437\u0430\u043d\u0441\u043a\u0430\u0433\u043e \u041d\u0430\u043c\u0463\u0441\u0442\u043d\u0438\u0447\u0435\u0441\u0442\u0432\u0430</td>\n",
        "      <td>  \u0418\u0412\u0410\u041d\u041e\u0412\u0421\u041a\u041e\u0415 \u0442\u043e\u0436\u044c, &lt;/span&gt;&lt;span class=\"font0\" s...</td>\n",
        "      <td> 10</td>\n",
        "      <td>    \u0441\u0435\u043b\u043e</td>\n",
        "      <td>   \u0414\u043e\u043d\u043a\u043e\u0432\u0441\u043a\u043e\u043c\u044a \u0443\u0463\u0437\u0434\u0463</td>\n",
        "    </tr>\n",
        "    <tr>\n",
        "      <th>3</th>\n",
        "      <td> \u0410\u0412\u0416\u0415\u041d\u0421\u041a\u0410\u042f</td>\n",
        "      <td>   \u0412\u043e\u043b\u043e\u0433\u043e\u0434\u0441\u043a\u0430\u0433\u043e \u041d\u0430\u043c\u0463\u0441\u0442\u043d\u0438\u0447\u0435\u0441\u0442\u0432\u0430</td>\n",
        "      <td>  &lt;/span&gt;&lt;span class=\"font0\" style=\"font-style:...</td>\n",
        "      <td> 10</td>\n",
        "      <td> \u0432\u043e\u043b\u043e\u0441\u0442\u044c</td>\n",
        "      <td>             \u0438 \u0443\u0463\u0437\u0434\u0443</td>\n",
        "    </tr>\n",
        "    <tr>\n",
        "      <th>4</th>\n",
        "      <td> \u0410\u0414\u041e\u0412\u0410\u0422\u041e\u0412\u041e</td>\n",
        "      <td> \u041d\u0438\u0436\u0435\u0433\u043e\u0440\u043e\u0434\u0441\u043a\u0430\u0433\u043e \u041d\u0430\u043c\u0463\u0441\u0442\u043d\u0438\u0447\u0435\u0441\u0442\u0432\u0430</td>\n",
        "      <td>  &lt;/span&gt;&lt;span class=\"font0\" style=\"font-style:...</td>\n",
        "      <td> 10</td>\n",
        "      <td>    \u0441\u0435\u043b\u043e</td>\n",
        "      <td>   \u0410\u0440\u0437\u0430\u043c\u0430\u0441\u043a\u043e\u043c\u044a \u0443\u0463\u0437\u0434\u0463</td>\n",
        "    </tr>\n",
        "    <tr>\n",
        "      <th>5</th>\n",
        "      <td>    \u0410\u041a\u0421\u0415\u041b\u042c</td>\n",
        "      <td>    \u0422\u0430\u043c\u0431\u043e\u0432\u0441\u043a\u0430\u0433\u043e \u041d\u0430\u043c\u0463\u0441\u0442\u043d\u0438\u0447\u0435\u0441\u0442\u0432\u0430</td>\n",
        "      <td>  &lt;/span&gt;&lt;span class=\"font0\" style=\"font-style:...</td>\n",
        "      <td> 10</td>\n",
        "      <td>    \u0441\u0435\u043b\u043e</td>\n",
        "      <td> \u0422\u0435\u043c\u043d\u0438\u043a\u043e\u0432\u0441\u043a\u043e\u043c\u044a \u0443\u0463\u0437\u0434\u0463</td>\n",
        "    </tr>\n",
        "    <tr>\n",
        "      <th>6</th>\n",
        "      <td>   \u0410\u041b\u0410\u0422\u042b\u0420\u042c</td>\n",
        "      <td>    \u0421\u0438\u043d\u0431\u0438\u0440\u0441\u043a\u0430\u0433\u043e \u041d\u0430\u043c\u0463\u0441\u0442\u043d\u0438\u0447\u0435\u0441\u0442\u0432\u0430</td>\n",
        "      <td>  &lt;/span&gt;&lt;span class=\"font0\" style=\"font-style:...</td>\n",
        "      <td> 10</td>\n",
        "      <td>  \u0433\u043e\u0440\u043e\u0434\u044a</td>\n",
        "      <td>            \u0412\u044a \u0443\u0463\u0437\u0434\u0463</td>\n",
        "    </tr>\n",
        "  </tbody>\n",
        "</table>\n",
        "</div>"
       ],
       "metadata": {},
       "output_type": "pyout",
       "prompt_number": 33,
       "text": [
        "        name                        ru_prov  \\\n",
        "2   \u0410\u0412\u0414\u0423\u041b\u041e\u0412\u041e      \u0420\u044f\u0437\u0430\u043d\u0441\u043a\u0430\u0433\u043e \u041d\u0430\u043c\u0463\u0441\u0442\u043d\u0438\u0447\u0435\u0441\u0442\u0432\u0430   \n",
        "3  \u0410\u0412\u0416\u0415\u041d\u0421\u041a\u0410\u042f    \u0412\u043e\u043b\u043e\u0433\u043e\u0434\u0441\u043a\u0430\u0433\u043e \u041d\u0430\u043c\u0463\u0441\u0442\u043d\u0438\u0447\u0435\u0441\u0442\u0432\u0430   \n",
        "4  \u0410\u0414\u041e\u0412\u0410\u0422\u041e\u0412\u041e  \u041d\u0438\u0436\u0435\u0433\u043e\u0440\u043e\u0434\u0441\u043a\u0430\u0433\u043e \u041d\u0430\u043c\u0463\u0441\u0442\u043d\u0438\u0447\u0435\u0441\u0442\u0432\u0430   \n",
        "5     \u0410\u041a\u0421\u0415\u041b\u042c     \u0422\u0430\u043c\u0431\u043e\u0432\u0441\u043a\u0430\u0433\u043e \u041d\u0430\u043c\u0463\u0441\u0442\u043d\u0438\u0447\u0435\u0441\u0442\u0432\u0430   \n",
        "6    \u0410\u041b\u0410\u0422\u042b\u0420\u042c     \u0421\u0438\u043d\u0431\u0438\u0440\u0441\u043a\u0430\u0433\u043e \u041d\u0430\u043c\u0463\u0441\u0442\u043d\u0438\u0447\u0435\u0441\u0442\u0432\u0430   \n",
        "\n",
        "                                                text  page    _type  \\\n",
        "2   \u0418\u0412\u0410\u041d\u041e\u0412\u0421\u041a\u041e\u0415 \u0442\u043e\u0436\u044c, </span><span class=\"font0\" s...    10     \u0441\u0435\u043b\u043e   \n",
        "3   </span><span class=\"font0\" style=\"font-style:...    10  \u0432\u043e\u043b\u043e\u0441\u0442\u044c   \n",
        "4   </span><span class=\"font0\" style=\"font-style:...    10     \u0441\u0435\u043b\u043e   \n",
        "5   </span><span class=\"font0\" style=\"font-style:...    10     \u0441\u0435\u043b\u043e   \n",
        "6   </span><span class=\"font0\" style=\"font-style:...    10   \u0433\u043e\u0440\u043e\u0434\u044a   \n",
        "\n",
        "               ru_uezd  \n",
        "2    \u0414\u043e\u043d\u043a\u043e\u0432\u0441\u043a\u043e\u043c\u044a \u0443\u0463\u0437\u0434\u0463  \n",
        "3              \u0438 \u0443\u0463\u0437\u0434\u0443  \n",
        "4    \u0410\u0440\u0437\u0430\u043c\u0430\u0441\u043a\u043e\u043c\u044a \u0443\u0463\u0437\u0434\u0463  \n",
        "5  \u0422\u0435\u043c\u043d\u0438\u043a\u043e\u0432\u0441\u043a\u043e\u043c\u044a \u0443\u0463\u0437\u0434\u0463  \n",
        "6             \u0412\u044a \u0443\u0463\u0437\u0434\u0463  "
       ]
      }
     ],
     "prompt_number": 33
    },
    {
     "cell_type": "code",
     "collapsed": false,
     "input": [
      "def replace_sameas(df, original, replacement, match_list, kind=\"\u041d\u0430\u043c\u0463\u0441\u0442\u043d\u0438\u0447\u0435\u0441\u0442\u0432\u0430\"):\n",
      "    \"\"\"\n",
      "    df: dataframe to be modified\n",
      "    original: column name in pandas data frame\n",
      "    replacement: column name in same pandas data frame\n",
      "    match_list: list of strings which, in original, indicate that they should be replaced by the corresponding values in replacement\n",
      "    \n",
      "    For each string in match_list, this function replaces said string in original with the corresponding value in replacement, converted to title case for convenience.\n",
      "    Place types are added after place names for consistent further processing. Type defaults to \u041d\u0430\u043c\u0463\u0441\u0442\u043d\u0438\u0447\u0435\u0441\u0442\u0432\u0430.\n",
      "    This is an in place transformation in the dataframe.\n",
      "    \"\"\"\n",
      "    for match in match_list:\n",
      "        cond = df[original] == match\n",
      "        df[original][cond] = df[replacement][cond].str.title()+\" {}\".format(kind)\n",
      "    return 0"
     ],
     "language": "python",
     "metadata": {},
     "outputs": [],
     "prompt_number": 34
    },
    {
     "cell_type": "code",
     "collapsed": false,
     "input": [
      "# Replacing \"same Namiestnichestva\" statements with appropriate Namiestnichestva name\n",
      "match_list = [\"\u041d\u0430\u043c\u0463\u0441\u0442\u043d\u0438\u0447\u0435\u0441\u0442\u0432\u0430 \u0441\u0435\u0433\u043e \u0438\u043c\u0435\u043d\u0438\",\"\u0442\u043e\u0433\u043e \u0436\u0435 \u041d\u0430\u043c\u0463\u0441\u0442\u043d\u0438\u0447\u0435\u0441\u0442\u0432\u0430\"]\n",
      "replace_sameas(market_df,'ru_prov','name',match_list)"
     ],
     "language": "python",
     "metadata": {},
     "outputs": [
      {
       "metadata": {},
       "output_type": "pyout",
       "prompt_number": 35,
       "text": [
        "0"
       ]
      }
     ],
     "prompt_number": 35
    },
    {
     "cell_type": "code",
     "collapsed": false,
     "input": [
      "# Replacing \"same Gubernii\" statements with appropriate Gubernii name\n",
      "match_list = [\"\u0442\u043e\u0439 \u0436\u0435 \u0413\u0443\u0431\u0435\u0440\u043d\u0456\u0438\"]\n",
      "replace_sameas(market_df,'ru_prov','name',match_list,\"\u0413\u0443\u0431\u0435\u0440\u043d\u0456\u0438\")"
     ],
     "language": "python",
     "metadata": {},
     "outputs": [
      {
       "metadata": {},
       "output_type": "pyout",
       "prompt_number": 36,
       "text": [
        "0"
       ]
      }
     ],
     "prompt_number": 36
    },
    {
     "cell_type": "code",
     "collapsed": false,
     "input": [
      "# Replacing \"same Uyezd\" statements with appropriate Uyezd name. On hold, as uyezd are less frequently mentioned.\n",
      "#match_list = [\"\u0438 \u0443\u0463\u0437\u0434\u0443\",\"\u0438 \u0443\u0463\u0437\u0434\u0463\",\"\u0438\u0437\u044a \u0443\u0463\u0437\u0434\u0443\"]\n",
      "#replace_sameas(market_df,'ru_prov','name',match_list,\"\u0443\u0463\u0437\u0434\u0463\")"
     ],
     "language": "python",
     "metadata": {},
     "outputs": [],
     "prompt_number": 37
    },
    {
     "cell_type": "code",
     "collapsed": false,
     "input": [
      "# Replacing parts of names that don't carry meaning\n",
      "market_df.ru_prov = market_df.ru_prov.replace('^\u0432\u044a ','',regex=True)\n",
      "market_df.ru_prov = market_df.ru_prov.replace('\u0413\u0440\u0430\u0444\u0430 \u0412\u043e\u0440\u043e\u043d\u0446\u043e\u0432\u0430 ','',regex=True)\n",
      "market_df.ru_prov = market_df.ru_prov.replace('\u0413\u0440\u0430\u0444\u0430 \u0428\u0435\u0440\u0435\u043c\u0435\u0442\u0435\u0432\u0430, ','',regex=True)\n",
      "market_df.ru_prov = market_df.ru_prov.replace('\u0440\u0430\u0437\u043d\u044b\u0445\u044a \u041f\u043e\u043c\u0463\u0449\u0438\u043a\u043e\u0432\u044a ','',regex=True)\n",
      "market_df.ru_prov = market_df.ru_prov.replace(' \u0436\u0435','',regex=True)"
     ],
     "language": "python",
     "metadata": {},
     "outputs": [],
     "prompt_number": 48
    },
    {
     "cell_type": "code",
     "collapsed": false,
     "input": [
      "market_df.ru_prov.replace('^\u0432\u044a ','',regex=True)"
     ],
     "language": "python",
     "metadata": {},
     "outputs": [
      {
       "metadata": {},
       "output_type": "pyout",
       "prompt_number": 45,
       "text": [
        "2             \u0420\u044f\u0437\u0430\u043d\u0441\u043a\u0430\u0433\u043e \u041d\u0430\u043c\u0463\u0441\u0442\u043d\u0438\u0447\u0435\u0441\u0442\u0432\u0430\n",
        "3           \u0412\u043e\u043b\u043e\u0433\u043e\u0434\u0441\u043a\u0430\u0433\u043e \u041d\u0430\u043c\u0463\u0441\u0442\u043d\u0438\u0447\u0435\u0441\u0442\u0432\u0430\n",
        "4         \u041d\u0438\u0436\u0435\u0433\u043e\u0440\u043e\u0434\u0441\u043a\u0430\u0433\u043e \u041d\u0430\u043c\u0463\u0441\u0442\u043d\u0438\u0447\u0435\u0441\u0442\u0432\u0430\n",
        "5            \u0422\u0430\u043c\u0431\u043e\u0432\u0441\u043a\u0430\u0433\u043e \u041d\u0430\u043c\u0463\u0441\u0442\u043d\u0438\u0447\u0435\u0441\u0442\u0432\u0430\n",
        "6            \u0421\u0438\u043d\u0431\u0438\u0440\u0441\u043a\u0430\u0433\u043e \u041d\u0430\u043c\u0463\u0441\u0442\u043d\u0438\u0447\u0435\u0441\u0442\u0432\u0430\n",
        "7           \u042f\u0440\u043e\u0441\u043b\u0430\u0432\u0441\u043a\u0430\u0433\u043e \u041d\u0430\u043c\u0463\u0441\u0442\u043d\u0438\u0447\u0435\u0441\u0442\u0432\u0430\n",
        "8            \u041f\u0435\u043d\u0437\u0435\u043d\u0441\u043a\u0430\u0433\u043e \u041d\u0430\u043c\u0463\u0441\u0442\u043d\u0438\u0447\u0435\u0441\u0442\u0432\u0430\n",
        "9              \u0422\u0443\u043b\u044c\u0441\u043a\u0430\u0433\u043e \u041d\u0430\u043c\u0463\u0441\u0442\u043d\u0438\u0447\u0435\u0441\u0442\u0432\u0430\n",
        "10          \u0412\u043e\u0440\u043e\u043d\u0435\u0436\u0441\u043a\u043e\u043c\u044a \u041d\u0430\u043c\u0463\u0441\u0442\u043d\u0438\u0447\u0435\u0441\u0442\u0432\u0430\n",
        "11    \u0415\u043a\u0430\u0442\u0435\u0440\u0438\u043d\u043e\u0441\u043b\u0430\u0432\u0441\u043a\u0430\u0433\u043e \u041d\u0430\u043c\u0463\u0441\u0442\u043d\u0438\u0447\u0435\u0441\u0442\u0432\u0430\n",
        "12              \u041a\u0443\u0440\u0441\u043a\u0430\u0433\u043e \u041d\u0430\u043c\u0463\u0441\u0442\u043d\u0438\u0447\u0435\u0441\u0442\u0432\u0430\n",
        "13           \u0422\u0430\u043c\u0431\u043e\u0432\u0441\u043a\u0430\u0433\u043e \u041d\u0430\u043c\u0463\u0441\u0442\u043d\u0438\u0447\u0435\u0441\u0442\u0432\u0430\n",
        "14          \u0425\u0430\u0440\u044c\u043a\u043e\u0432\u0441\u043a\u0430\u0433\u043e \u041d\u0430\u043c\u0463\u0441\u0442\u043d\u0438\u0447\u0435\u0441\u0442\u0432\u0430\n",
        "15          \u041c\u043e\u0433\u0438\u043b\u0435\u0432\u0441\u043a\u0430\u0433\u043e \u041d\u0430\u043c\u0463\u0441\u0442\u043d\u0438\u0447\u0435\u0441\u0442\u0432\u0430\n",
        "16           \u0421\u0438\u043d\u0431\u0438\u0440\u0441\u043a\u0430\u0433\u043e \u041d\u0430\u043c\u0463\u0441\u0442\u043d\u0438\u0447\u0435\u0441\u0442\u0432\u0430\n",
        "...\n",
        "385              \u041c\u043e\u0441\u043a\u043e\u0432\u0441\u043a\u043e\u0439 \u0413\u0443\u0431\u0435\u0440\u043d\u0456\u0438\n",
        "386         \u041a\u0456\u0435\u0432\u0441\u043a\u0430\u0433\u043e \u041d\u0430\u043c\u0463\u0441\u0442\u043d\u0438\u0447\u0435\u0441\u0442\u0432\u0430\n",
        "387    \u041d\u0438\u0436\u0435\u0433\u043e\u0440\u043e\u0434\u0441\u043a\u0430\u0433\u043e \u041d\u0430\u043c\u0463\u0441\u0442\u043d\u0438\u0447\u0435\u0441\u0442\u0432\u0430\n",
        "388      \u041a\u043e\u0441\u0442\u0440\u043e\u043c\u0441\u043a\u0430\u0433\u043e \u041d\u0430\u043c\u0463\u0441\u0442\u043d\u0438\u0447\u0435\u0441\u0442\u0432\u0430\n",
        "389          \u041a\u0443\u0440\u0441\u043a\u0430\u0433\u043e \u041d\u0430\u043c\u0463\u0441\u0442\u043d\u0438\u0447\u0435\u0441\u0442\u0432\u0430\n",
        "390       \u0422\u0430\u043c\u0431\u043e\u0432\u0441\u043a\u0430\u0433\u043e \u041d\u0430\u043c\u0463\u0441\u0442\u043d\u0438\u0447\u0435\u0441\u0442\u0432\u0430\n",
        "391      \u041c\u043e\u0433\u0438\u043b\u0435\u0432\u0441\u043a\u0430\u0433\u043e \u041d\u0430\u043c\u0463\u0441\u0442\u043d\u0438\u0447\u0435\u0441\u0442\u0432\u0430\n",
        "392     \u0427\u0435\u0440\u043d\u0438\u0433\u043e\u0432\u0441\u043a\u0430\u0433\u043e \u041d\u0430\u043c\u0463\u0441\u0442\u043d\u0438\u0447\u0435\u0441\u0442\u0432\u0430\n",
        "393      \u042f\u0440\u043e\u0441\u043b\u0430\u0432\u0441\u043a\u0430\u0433\u043e \u041d\u0430\u043c\u0463\u0441\u0442\u043d\u0438\u0447\u0435\u0441\u0442\u0432\u0430\n",
        "394     \u0427\u0435\u0440\u043d\u0438\u0433\u043e\u0432\u0441\u043a\u0430\u0433\u043e \u041d\u0430\u043c\u0463\u0441\u0442\u043d\u0438\u0447\u0435\u0441\u0442\u0432\u0430\n",
        "395      \u041c\u043e\u0433\u0438\u043b\u0435\u0432\u0441\u043a\u0430\u0433\u043e \u041d\u0430\u043c\u0463\u0441\u0442\u043d\u0438\u0447\u0435\u0441\u0442\u0432\u0430\n",
        "396        \u041f\u043e\u043b\u043e\u0442\u0441\u043a\u0430\u0433\u043e \u041d\u0430\u043c\u0463\u0441\u0442\u043d\u0438\u0447\u0435\u0441\u0442\u0432\u0430\n",
        "397       \u041f\u0435\u043d\u0437\u0435\u043d\u0441\u043a\u0430\u0433\u043e \u041d\u0430\u043c\u0463\u0441\u0442\u043d\u0438\u0447\u0435\u0441\u0442\u0432\u0430\n",
        "398          \u041c\u0430\u043a\u0430\u0440\u043e\u0432\u043e \u041d\u0430\u043c\u0463\u0441\u0442\u043d\u0438\u0447\u0435\u0441\u0442\u0432\u0430\n",
        "399    \u041d\u0438\u0436\u0435\u0433\u043e\u0440\u043e\u0434\u0441\u043a\u0430\u0433\u043e \u041d\u0430\u043c\u0463\u0441\u0442\u043d\u0438\u0447\u0435\u0441\u0442\u0432\u0430\n",
        "Name: ru_prov, Length: 398, dtype: object"
       ]
      }
     ],
     "prompt_number": 45
    },
    {
     "cell_type": "code",
     "collapsed": false,
     "input": [
      "market_df.ix[market_df.ru_prov == '\u0432\u044a \u0412\u043e\u0440\u043e\u043d\u0435\u0436\u0441\u043a\u043e\u043c\u044a \u041d\u0430\u043c\u0463\u0441\u0442\u043d\u0438\u0447\u0435\u0441\u0442\u0432\u0430']"
     ],
     "language": "python",
     "metadata": {},
     "outputs": [
      {
       "html": [
        "<div style=\"max-height:1000px;max-width:1500px;overflow:auto;\">\n",
        "<table border=\"1\" class=\"dataframe\">\n",
        "  <thead>\n",
        "    <tr style=\"text-align: right;\">\n",
        "      <th></th>\n",
        "      <th>name</th>\n",
        "      <th>ru_prov</th>\n",
        "      <th>text</th>\n",
        "      <th>page</th>\n",
        "      <th>_type</th>\n",
        "      <th>ru_uezd</th>\n",
        "      <th>name_modern_sp</th>\n",
        "      <th>prov_modern_sp</th>\n",
        "      <th>prov_stem</th>\n",
        "    </tr>\n",
        "  </thead>\n",
        "  <tbody>\n",
        "  </tbody>\n",
        "</table>\n",
        "</div>"
       ],
       "metadata": {},
       "output_type": "pyout",
       "prompt_number": 49,
       "text": [
        "Empty DataFrame\n",
        "Columns: [name, ru_prov, text, page, _type, ru_uezd, name_modern_sp, prov_modern_sp, prov_stem]\n",
        "Index: []"
       ]
      }
     ],
     "prompt_number": 49
    },
    {
     "cell_type": "code",
     "collapsed": false,
     "input": [
      "# Replacing variant spellings of Namiestnichestva with a single spelling.\n",
      "market_df.ru_prov = market_df.ru_prov.replace('\u041d\u0430(?:\u043c\u0463){0,1}\u0441\u0442\u043d\u0438\u0447[\u0435\u043b]\u0441\u0442\u0432[\u0430\u0463]','\u041d\u0430\u043c\u0463\u0441\u0442\u043d\u0438\u0447\u0435\u0441\u0442\u0432\u0430',regex=True)"
     ],
     "language": "python",
     "metadata": {},
     "outputs": [],
     "prompt_number": 39
    },
    {
     "cell_type": "code",
     "collapsed": false,
     "input": [
      "import re,json\n",
      "from lxml import html\n",
      "\n",
      "lookup_dict = {}\n",
      "with open(\"special_cases.json\",'r') as fp:\n",
      "    lookup_dict = json.load(fp)\n",
      "\n",
      "def ortho_rules(text,lookup_dict):\n",
      "    \"\"\"\n",
      "    Takes a text string and a lookup dict as input\n",
      "    Removes any lingering html tags\n",
      "    Breaks the string down into component words with split\n",
      "    Uses replacements to modernize orthography\n",
      "    Returns re-assembled text with modern orthography\n",
      "    \"\"\"\n",
      "    text = html.fromstring(text).text_content()\n",
      "    textlist = text.split(' ')\n",
      "    out_list = []\n",
      "    for word in textlist:\n",
      "        if word in [',','.',';',':']:\n",
      "            out_list.append(word)\n",
      "        word = word.strip(',.;:')\n",
      "        if word in lookup_dict:\n",
      "            word = lookup_dict[word]\n",
      "            out_list.append(word)\n",
      "        else:\n",
      "            word = re.sub(\"[\u042a\u044a]$\",'',word)\n",
      "            word = re.sub(\"^([\u0447\u0435]{0,2}[\u0447]?[\u0432\u0431\u043d\u0440]?[\u0432\u0435\u043e\u0430\u0438])\u0437([\u041f\u0424\u041a\u0422\u0428\u0421\u0427\u043f\u0444\u043a\u0442\u0448\u0441\u0447])\",\"\\1\u0441\\2\",word,re.IGNORECASE)\n",
      "            word = re.sub(\"\u0430\u0433\u043e$\",\"\u043e\u0433\u043e\",word,re.IGNORECASE)\n",
      "            word = re.sub(\"\u044f\u0433\u043e$\",\"\u0435\u0433\u043e\",word,re.IGNORECASE)\n",
      "            word = re.sub(\"\u044b\u044f$\",\"\u044b\u0435\",word,re.IGNORECASE)\n",
      "            word = re.sub(\"i\u044f$\",\"\u0438\u0435\",word,re.IGNORECASE)\n",
      "            word = word.replace('\u0456','\u0438')\n",
      "            word = word.replace('I','\u0418')\n",
      "            word = word.replace('\u0462','\u0415')\n",
      "            word = word.replace('\u0463','\u0435')\n",
      "            out_list.append(word)\n",
      "    out_str = ' '.join(out_list)\n",
      "    return out_str"
     ],
     "language": "python",
     "metadata": {},
     "outputs": [],
     "prompt_number": 40
    },
    {
     "cell_type": "code",
     "collapsed": false,
     "input": [
      "market_df['name_modern_sp'] = market_df.name.apply(ortho_rules,args=[lookup_dict])\n",
      "market_df['prov_modern_sp'] = market_df.ru_prov.apply(ortho_rules,args=[lookup_dict])\n",
      "market_df.head()"
     ],
     "language": "python",
     "metadata": {},
     "outputs": [
      {
       "html": [
        "<div style=\"max-height:1000px;max-width:1500px;overflow:auto;\">\n",
        "<table border=\"1\" class=\"dataframe\">\n",
        "  <thead>\n",
        "    <tr style=\"text-align: right;\">\n",
        "      <th></th>\n",
        "      <th>name</th>\n",
        "      <th>ru_prov</th>\n",
        "      <th>text</th>\n",
        "      <th>page</th>\n",
        "      <th>_type</th>\n",
        "      <th>ru_uezd</th>\n",
        "      <th>name_modern_sp</th>\n",
        "      <th>prov_modern_sp</th>\n",
        "      <th>prov_stem</th>\n",
        "    </tr>\n",
        "  </thead>\n",
        "  <tbody>\n",
        "    <tr>\n",
        "      <th>2</th>\n",
        "      <td>  \u0410\u0412\u0414\u0423\u041b\u041e\u0412\u041e</td>\n",
        "      <td>     \u0420\u044f\u0437\u0430\u043d\u0441\u043a\u0430\u0433\u043e \u041d\u0430\u043c\u0463\u0441\u0442\u043d\u0438\u0447\u0435\u0441\u0442\u0432\u0430</td>\n",
        "      <td>  \u0418\u0412\u0410\u041d\u041e\u0412\u0421\u041a\u041e\u0415 \u0442\u043e\u0436\u044c, &lt;/span&gt;&lt;span class=\"font0\" s...</td>\n",
        "      <td> 10</td>\n",
        "      <td>    \u0441\u0435\u043b\u043e</td>\n",
        "      <td>   \u0414\u043e\u043d\u043a\u043e\u0432\u0441\u043a\u043e\u043c\u044a \u0443\u0463\u0437\u0434\u0463</td>\n",
        "      <td>  \u0410\u0412\u0414\u0423\u041b\u041e\u0412\u041e</td>\n",
        "      <td>     \u0420\u044f\u0437\u0430\u043d\u0441\u043a\u043e\u0433\u043e \u041d\u0430\u043c\u0435\u0441\u0442\u043d\u0438\u0447\u0435\u0441\u0442\u0432\u0430</td>\n",
        "      <td>     \u0420\u044f\u0437\u0430\u043d\u0441\u043a\u043e\u0433\u043e</td>\n",
        "    </tr>\n",
        "    <tr>\n",
        "      <th>3</th>\n",
        "      <td> \u0410\u0412\u0416\u0415\u041d\u0421\u041a\u0410\u042f</td>\n",
        "      <td>   \u0412\u043e\u043b\u043e\u0433\u043e\u0434\u0441\u043a\u0430\u0433\u043e \u041d\u0430\u043c\u0463\u0441\u0442\u043d\u0438\u0447\u0435\u0441\u0442\u0432\u0430</td>\n",
        "      <td>  &lt;/span&gt;&lt;span class=\"font0\" style=\"font-style:...</td>\n",
        "      <td> 10</td>\n",
        "      <td> \u0432\u043e\u043b\u043e\u0441\u0442\u044c</td>\n",
        "      <td>             \u0438 \u0443\u0463\u0437\u0434\u0443</td>\n",
        "      <td> \u0410\u0412\u0416\u0415\u041d\u0421\u041a\u0410\u042f</td>\n",
        "      <td>   \u0412\u043e\u043b\u043e\u0433\u043e\u0434\u0441\u043a\u043e\u0433\u043e \u041d\u0430\u043c\u0435\u0441\u0442\u043d\u0438\u0447\u0435\u0441\u0442\u0432\u0430</td>\n",
        "      <td>   \u0412\u043e\u043b\u043e\u0433\u043e\u0434\u0441\u043a\u043e\u0433\u043e</td>\n",
        "    </tr>\n",
        "    <tr>\n",
        "      <th>4</th>\n",
        "      <td> \u0410\u0414\u041e\u0412\u0410\u0422\u041e\u0412\u041e</td>\n",
        "      <td> \u041d\u0438\u0436\u0435\u0433\u043e\u0440\u043e\u0434\u0441\u043a\u0430\u0433\u043e \u041d\u0430\u043c\u0463\u0441\u0442\u043d\u0438\u0447\u0435\u0441\u0442\u0432\u0430</td>\n",
        "      <td>  &lt;/span&gt;&lt;span class=\"font0\" style=\"font-style:...</td>\n",
        "      <td> 10</td>\n",
        "      <td>    \u0441\u0435\u043b\u043e</td>\n",
        "      <td>   \u0410\u0440\u0437\u0430\u043c\u0430\u0441\u043a\u043e\u043c\u044a \u0443\u0463\u0437\u0434\u0463</td>\n",
        "      <td> \u0410\u0414\u041e\u0412\u0410\u0422\u041e\u0412\u041e</td>\n",
        "      <td> \u041d\u0438\u0436\u0435\u0433\u043e\u0440\u043e\u0434\u0441\u043a\u043e\u0433\u043e \u041d\u0430\u043c\u0435\u0441\u0442\u043d\u0438\u0447\u0435\u0441\u0442\u0432\u0430</td>\n",
        "      <td> \u041d\u0438\u0436\u0435\u0433\u043e\u0440\u043e\u0434\u0441\u043a\u043e\u0433\u043e</td>\n",
        "    </tr>\n",
        "    <tr>\n",
        "      <th>5</th>\n",
        "      <td>    \u0410\u041a\u0421\u0415\u041b\u042c</td>\n",
        "      <td>    \u0422\u0430\u043c\u0431\u043e\u0432\u0441\u043a\u0430\u0433\u043e \u041d\u0430\u043c\u0463\u0441\u0442\u043d\u0438\u0447\u0435\u0441\u0442\u0432\u0430</td>\n",
        "      <td>  &lt;/span&gt;&lt;span class=\"font0\" style=\"font-style:...</td>\n",
        "      <td> 10</td>\n",
        "      <td>    \u0441\u0435\u043b\u043e</td>\n",
        "      <td> \u0422\u0435\u043c\u043d\u0438\u043a\u043e\u0432\u0441\u043a\u043e\u043c\u044a \u0443\u0463\u0437\u0434\u0463</td>\n",
        "      <td>    \u0410\u041a\u0421\u0415\u041b\u042c</td>\n",
        "      <td>    \u0422\u0430\u043c\u0431\u043e\u0432\u0441\u043a\u043e\u0433\u043e \u041d\u0430\u043c\u0435\u0441\u0442\u043d\u0438\u0447\u0435\u0441\u0442\u0432\u0430</td>\n",
        "      <td>    \u0422\u0430\u043c\u0431\u043e\u0432\u0441\u043a\u043e\u0433\u043e</td>\n",
        "    </tr>\n",
        "    <tr>\n",
        "      <th>6</th>\n",
        "      <td>   \u0410\u041b\u0410\u0422\u042b\u0420\u042c</td>\n",
        "      <td>    \u0421\u0438\u043d\u0431\u0438\u0440\u0441\u043a\u0430\u0433\u043e \u041d\u0430\u043c\u0463\u0441\u0442\u043d\u0438\u0447\u0435\u0441\u0442\u0432\u0430</td>\n",
        "      <td>  &lt;/span&gt;&lt;span class=\"font0\" style=\"font-style:...</td>\n",
        "      <td> 10</td>\n",
        "      <td>  \u0433\u043e\u0440\u043e\u0434\u044a</td>\n",
        "      <td>            \u0412\u044a \u0443\u0463\u0437\u0434\u0463</td>\n",
        "      <td>   \u0410\u041b\u0410\u0422\u042b\u0420\u042c</td>\n",
        "      <td>    \u0421\u0438\u043d\u0431\u0438\u0440\u0441\u043a\u043e\u0433\u043e \u041d\u0430\u043c\u0435\u0441\u0442\u043d\u0438\u0447\u0435\u0441\u0442\u0432\u0430</td>\n",
        "      <td>    \u0421\u0438\u043d\u0431\u0438\u0440\u0441\u043a\u043e\u0433\u043e</td>\n",
        "    </tr>\n",
        "  </tbody>\n",
        "</table>\n",
        "</div>"
       ],
       "metadata": {},
       "output_type": "pyout",
       "prompt_number": 50,
       "text": [
        "        name                        ru_prov  \\\n",
        "2   \u0410\u0412\u0414\u0423\u041b\u041e\u0412\u041e      \u0420\u044f\u0437\u0430\u043d\u0441\u043a\u0430\u0433\u043e \u041d\u0430\u043c\u0463\u0441\u0442\u043d\u0438\u0447\u0435\u0441\u0442\u0432\u0430   \n",
        "3  \u0410\u0412\u0416\u0415\u041d\u0421\u041a\u0410\u042f    \u0412\u043e\u043b\u043e\u0433\u043e\u0434\u0441\u043a\u0430\u0433\u043e \u041d\u0430\u043c\u0463\u0441\u0442\u043d\u0438\u0447\u0435\u0441\u0442\u0432\u0430   \n",
        "4  \u0410\u0414\u041e\u0412\u0410\u0422\u041e\u0412\u041e  \u041d\u0438\u0436\u0435\u0433\u043e\u0440\u043e\u0434\u0441\u043a\u0430\u0433\u043e \u041d\u0430\u043c\u0463\u0441\u0442\u043d\u0438\u0447\u0435\u0441\u0442\u0432\u0430   \n",
        "5     \u0410\u041a\u0421\u0415\u041b\u042c     \u0422\u0430\u043c\u0431\u043e\u0432\u0441\u043a\u0430\u0433\u043e \u041d\u0430\u043c\u0463\u0441\u0442\u043d\u0438\u0447\u0435\u0441\u0442\u0432\u0430   \n",
        "6    \u0410\u041b\u0410\u0422\u042b\u0420\u042c     \u0421\u0438\u043d\u0431\u0438\u0440\u0441\u043a\u0430\u0433\u043e \u041d\u0430\u043c\u0463\u0441\u0442\u043d\u0438\u0447\u0435\u0441\u0442\u0432\u0430   \n",
        "\n",
        "                                                text  page    _type  \\\n",
        "2   \u0418\u0412\u0410\u041d\u041e\u0412\u0421\u041a\u041e\u0415 \u0442\u043e\u0436\u044c, </span><span class=\"font0\" s...    10     \u0441\u0435\u043b\u043e   \n",
        "3   </span><span class=\"font0\" style=\"font-style:...    10  \u0432\u043e\u043b\u043e\u0441\u0442\u044c   \n",
        "4   </span><span class=\"font0\" style=\"font-style:...    10     \u0441\u0435\u043b\u043e   \n",
        "5   </span><span class=\"font0\" style=\"font-style:...    10     \u0441\u0435\u043b\u043e   \n",
        "6   </span><span class=\"font0\" style=\"font-style:...    10   \u0433\u043e\u0440\u043e\u0434\u044a   \n",
        "\n",
        "               ru_uezd name_modern_sp                 prov_modern_sp  \\\n",
        "2    \u0414\u043e\u043d\u043a\u043e\u0432\u0441\u043a\u043e\u043c\u044a \u0443\u0463\u0437\u0434\u0463       \u0410\u0412\u0414\u0423\u041b\u041e\u0412\u041e      \u0420\u044f\u0437\u0430\u043d\u0441\u043a\u043e\u0433\u043e \u041d\u0430\u043c\u0435\u0441\u0442\u043d\u0438\u0447\u0435\u0441\u0442\u0432\u0430   \n",
        "3              \u0438 \u0443\u0463\u0437\u0434\u0443      \u0410\u0412\u0416\u0415\u041d\u0421\u041a\u0410\u042f    \u0412\u043e\u043b\u043e\u0433\u043e\u0434\u0441\u043a\u043e\u0433\u043e \u041d\u0430\u043c\u0435\u0441\u0442\u043d\u0438\u0447\u0435\u0441\u0442\u0432\u0430   \n",
        "4    \u0410\u0440\u0437\u0430\u043c\u0430\u0441\u043a\u043e\u043c\u044a \u0443\u0463\u0437\u0434\u0463      \u0410\u0414\u041e\u0412\u0410\u0422\u041e\u0412\u041e  \u041d\u0438\u0436\u0435\u0433\u043e\u0440\u043e\u0434\u0441\u043a\u043e\u0433\u043e \u041d\u0430\u043c\u0435\u0441\u0442\u043d\u0438\u0447\u0435\u0441\u0442\u0432\u0430   \n",
        "5  \u0422\u0435\u043c\u043d\u0438\u043a\u043e\u0432\u0441\u043a\u043e\u043c\u044a \u0443\u0463\u0437\u0434\u0463         \u0410\u041a\u0421\u0415\u041b\u042c     \u0422\u0430\u043c\u0431\u043e\u0432\u0441\u043a\u043e\u0433\u043e \u041d\u0430\u043c\u0435\u0441\u0442\u043d\u0438\u0447\u0435\u0441\u0442\u0432\u0430   \n",
        "6             \u0412\u044a \u0443\u0463\u0437\u0434\u0463        \u0410\u041b\u0410\u0422\u042b\u0420\u042c     \u0421\u0438\u043d\u0431\u0438\u0440\u0441\u043a\u043e\u0433\u043e \u041d\u0430\u043c\u0435\u0441\u0442\u043d\u0438\u0447\u0435\u0441\u0442\u0432\u0430   \n",
        "\n",
        "        prov_stem  \n",
        "2      \u0420\u044f\u0437\u0430\u043d\u0441\u043a\u043e\u0433\u043e  \n",
        "3    \u0412\u043e\u043b\u043e\u0433\u043e\u0434\u0441\u043a\u043e\u0433\u043e  \n",
        "4  \u041d\u0438\u0436\u0435\u0433\u043e\u0440\u043e\u0434\u0441\u043a\u043e\u0433\u043e  \n",
        "5     \u0422\u0430\u043c\u0431\u043e\u0432\u0441\u043a\u043e\u0433\u043e  \n",
        "6     \u0421\u0438\u043d\u0431\u0438\u0440\u0441\u043a\u043e\u0433\u043e  "
       ]
      }
     ],
     "prompt_number": 50
    },
    {
     "cell_type": "code",
     "collapsed": false,
     "input": [
      "import nltk"
     ],
     "language": "python",
     "metadata": {},
     "outputs": [],
     "prompt_number": 20
    },
    {
     "cell_type": "code",
     "collapsed": false,
     "input": [
      "ru_stemmer = nltk.stem.SnowballStemmer('russian')"
     ],
     "language": "python",
     "metadata": {},
     "outputs": [],
     "prompt_number": 21
    },
    {
     "cell_type": "code",
     "collapsed": false,
     "input": [
      "market_df['prov_stem'] = market_df.prov_modern_sp.replace(' [\u0410-\u042f\u0430-\u044f]+$','',regex=True).apply(ru_stemmer.stem)"
     ],
     "language": "python",
     "metadata": {},
     "outputs": [],
     "prompt_number": 54
    },
    {
     "cell_type": "markdown",
     "metadata": {},
     "source": [
      "This cell is simply to output the resulting data frame as an excel spreadsheet for manipulation in other programs. It is not currently in use."
     ]
    },
    {
     "cell_type": "code",
     "collapsed": false,
     "input": [
      "market_df.to_excel(\"no_geo.xlsx\",encoding=\"utf-8\")"
     ],
     "language": "python",
     "metadata": {},
     "outputs": [],
     "prompt_number": 55
    },
    {
     "cell_type": "markdown",
     "metadata": {},
     "source": [
      "This cell takes the csv output from the previous cell and re-inputs it, overwriting the previous market_df. It is not currently in use."
     ]
    },
    {
     "cell_type": "code",
     "collapsed": false,
     "input": [
      "#market_df = pd.DataFrame.from_csv(\"no_geo.csv\")"
     ],
     "language": "python",
     "metadata": {},
     "outputs": []
    },
    {
     "cell_type": "code",
     "collapsed": false,
     "input": [
      "def geonames_lookup(placename):\n",
      "    url = \"http://api.geonames.org/search?username=jaguillette&type=json&name={}\".format(placename)\n",
      "    R = requests.get(url)\n",
      "    geonames_json = R.json()\n",
      "    Ensure_dir(\"geonames_jsons\")\n",
      "    try:\n",
      "        geo_placename = \"{}, {}, {}\".format(geonames_json['geonames'][0]['name'],geonames_json['geonames'][0]['adminName1'],geonames_json['geonames'][0]['countryName'])\n",
      "        geo_lat = geonames_json['geonames'][0]['lat']\n",
      "        geo_lng = geonames_json['geonames'][0]['lng']\n",
      "        geo_id = geonames_json['geonames'][0]['geonameId']\n",
      "        geo_country_code = geo_id = geonames_json['geonames'][0]['countryCode']\n",
      "        with open(\"geonames_jsons/{}.json\".format(placename),'w',encoding='utf-8') as jsonfile:\n",
      "            jsonfile.write(R.text)\n",
      "        print(\"{} was found.\".format(placename))\n",
      "    except IndexError:\n",
      "        geo_placename = \"not_found\"\n",
      "        geo_lat = \"not_found\"\n",
      "        geo_lng = \"not_found\"\n",
      "        geo_id = \"not_found\"\n",
      "        geo_country_code = \"not_found\"\n",
      "        print(\"{} was not found.\".format(placename))\n",
      "    return geo_placename, geo_lat, geo_lng, geo_id, geo_country_code, url"
     ],
     "language": "python",
     "metadata": {},
     "outputs": [],
     "prompt_number": 58
    },
    {
     "cell_type": "code",
     "collapsed": false,
     "input": [
      "market_df['geo_placename'], market_df['geo_lat'], market_df['geo_lng'], market_df['geo_id'], market_df['geo_country_code'], market_df['geo_url'] = zip(*market_df[\"name_modern_sp\"].map(geonames_lookup))"
     ],
     "language": "python",
     "metadata": {},
     "outputs": [],
     "prompt_number": 57
    },
    {
     "cell_type": "code",
     "collapsed": true,
     "input": [
      "market_df.ix[market_df.geo_placename == 'not_found'].to_excel('not_found.xlsx', encoding='utf-8')"
     ],
     "language": "python",
     "metadata": {},
     "outputs": [],
     "prompt_number": 64
    },
    {
     "cell_type": "code",
     "collapsed": false,
     "input": [
      "market_df.to_excel('market_towns.xlsx', encoding=\"utf-8\")"
     ],
     "language": "python",
     "metadata": {},
     "outputs": [],
     "prompt_number": 61
    },
    {
     "cell_type": "code",
     "collapsed": false,
     "input": [
      "def google_lookup(placename):\n",
      "    url = \"https://maps.googleapis.com/maps/api/geocode/json?address={}\".format(placename)\n",
      "    R = requests.get(url)\n",
      "    google_json = R.json()\n",
      "    Ensure_dir(\"google_jsons\")\n",
      "    try:\n",
      "        google_placename = google_json['results'][0]['formatted_address']\n",
      "        google_lat = google_json['results'][0]['geometry']['location']['lat']\n",
      "        google_lng = google_json['results'][0]['geometry']['location']['lng']\n",
      "        with open(\"google_jsons/{}.json\".format(placename),'w') as jsonfile:\n",
      "            jsonfile.write(R.text)\n",
      "    except IndexError:\n",
      "        google_placename = \"not_found\"\n",
      "        google_lat = \"not_found\"\n",
      "        google_lng = \"not_found\"\n",
      "    return google_placename, google_lat, google_lng, url"
     ],
     "language": "python",
     "metadata": {},
     "outputs": [],
     "prompt_number": 18
    },
    {
     "cell_type": "code",
     "collapsed": false,
     "input": [
      "google_lookup(\"\u0410\u0412\u0414\u0423\u041b\u041e\u0412\u041e\")"
     ],
     "language": "python",
     "metadata": {},
     "outputs": [
      {
       "metadata": {},
       "output_type": "pyout",
       "prompt_number": 14,
       "text": [
        "('Avdulovo, Lipetsk Oblast, Russia, 399837',\n",
        " 53.300006,\n",
        " 38.6298386,\n",
        " 'https://maps.googleapis.com/maps/api/geocode/json?address=\u0410\u0412\u0414\u0423\u041b\u041e\u0412\u041e')"
       ]
      }
     ],
     "prompt_number": 14
    },
    {
     "cell_type": "code",
     "collapsed": false,
     "input": [
      "market_df['google_reconcile'], market_df['google_lat'], market_df['google_lng'], market_df['google_url'] = zip(*market_df[\"name\"].map(google_lookup))"
     ],
     "language": "python",
     "metadata": {},
     "outputs": [],
     "prompt_number": 21
    },
    {
     "cell_type": "code",
     "collapsed": false,
     "input": [
      "def str_comb(df):\n",
      "    return \"{} is a {}\".format(df[0],df[1])\n",
      "test = market_df[['name','_type']].apply(str_comb,axis=1)\n",
      "print(test)"
     ],
     "language": "python",
     "metadata": {},
     "outputs": [
      {
       "output_type": "stream",
       "stream": "stdout",
       "text": [
        "\u0406\u041e\u0421\u0418\u0424\u041e\u0412\u042a                       \u0406\u041e\u0421\u0418\u0424\u041e\u0412\u042a is a \u043c\u043e\u043d\u0430\u0441\u0442\u044b\u0440\u044c\n",
        "\u0410\u0411\u0417\u0410\u041b\u042c                             \u0410\u0411\u0417\u0410\u041b\u042c  is a \u0433\u043e\u0440\u043e\u0434\u044a\n",
        "\u0410\u0412\u0414\u0423\u041b\u041e\u0412\u041e                            \u0410\u0412\u0414\u0423\u041b\u041e\u0412\u041e is a \u0441\u0435\u043b\u043e\n",
        "\u0410\u0412\u0416\u0415\u041d\u0421\u041a\u0410\u042f                      \u0410\u0412\u0416\u0415\u041d\u0421\u041a\u0410\u042f  is a \u0432\u043e\u043b\u043e\u0441\u0442\u044c\n",
        "\u0410\u0414\u041e\u0412\u0410\u0422\u041e\u0412\u041e                          \u0410\u0414\u041e\u0412\u0410\u0422\u041e\u0412\u041e is a \u0441\u0435\u043b\u043e\n",
        "\u0410\u041a\u0421\u0415\u041b\u042c                                \u0410\u041a\u0421\u0415\u041b\u042c is a \u0441\u0435\u043b\u043e\n",
        "\u0410\u041b\u0410\u0422\u042b\u0420\u042c                            \u0410\u041b\u0410\u0422\u042b\u0420\u042c is a \u0433\u043e\u0440\u043e\u0434\u044a\n",
        "\u0410\u041b\u0415\u041a\u0421\u0410\u041d\u0414\u0420\u041e\u0412\u0410 \u041f\u0423\u0421\u0422\u042b\u041d\u042f    \u0410\u041b\u0415\u041a\u0421\u0410\u041d\u0414\u0420\u041e\u0412\u0410 \u041f\u0423\u0421\u0422\u042b\u041d\u042f is a \u0441\u0435\u043b\u043e\n",
        "\u0410\u041b\u0415\u041a\u0421\u0410\u041d\u0414\u0420\u041e\u0412\u0421\u041a\u041e\u0415              \u0410\u041b\u0415\u041a\u0421\u0410\u041d\u0414\u0420\u041e\u0412\u0421\u041a\u041e\u0415 is a \u0441\u0435\u043b\u043e\n",
        "\u0410\u041b\u0415\u041a\u0421\u0418\u041d\u042a                          \u0410\u041b\u0415\u041a\u0421\u0418\u041d\u042a is a \u0433\u043e\u0440\u043e\u0434\u044a\n",
        "\u0410\u041b\u0415\u041a\u0421\u0462\u0415\u0412\u041a\u0410                     \u0410\u041b\u0415\u041a\u0421\u0462\u0415\u0412\u041a\u0410 is a \u0441\u043b\u043e\u0431\u043e\u0434\u0430\n",
        "\u0410\u041b\u0415\u041a\u0421\u0462\u0415\u0412\u0421\u041a\u0410\u042f                \u0410\u041b\u0415\u041a\u0421\u0462\u0415\u0412\u0421\u041a\u0410\u042f is a \u043a\u0440\u0463\u043f\u043e\u0441\u0442\u044c\n",
        "\u0410\u041b\u0415\u0428\u041d\u042f                             \u0410\u041b\u0415\u0428\u041d\u042f is a \u0441\u043b\u043e\u0431\u043e\u0434\u0430\n",
        "\u0410\u041d\u0410\u0415\u0412\u041e                                \u0410\u041d\u0410\u0415\u0412\u041e is a \u0441\u0435\u043b\u043e\n",
        "\u0410\u041d\u0414\u0420\u0415\u0415\u0412\u041a\u0410                       \u0410\u041d\u0414\u0420\u0415\u0415\u0412\u041a\u0410 is a \u0441\u043b\u043e\u0431\u043e\u0434\u0430\n",
        "...\n",
        "\u041a\u0410\u0420\u041e\u0427\u0410            \u041a\u0410\u0420\u041e\u0427\u0410  is a \u0433\u043e\u0440\u043e\u0434\u044a\n",
        "\u041a\u0410\u0420\u041f\u041e\u0412\u041a\u0410           \u041a\u0410\u0420\u041f\u041e\u0412\u041a\u0410 is a \u0441\u0435\u043b\u043e\n",
        "\u041a\u0410\u0421\u0418\u041c\u041e\u0412\u042a         \u041a\u0410\u0421\u0418\u041c\u041e\u0412\u042a is a \u0433\u043e\u0440\u043e\u0434\u044a\n",
        "\u041a\u0410\u0428\u0418\u041d\u042a            \u041a\u0410\u0428\u0418\u041d\u042a  is a \u0433\u043e\u0440\u043e\u0434\u044a\n",
        "\u041a\u0415\u041c\u0410\u0420\u042b               \u041a\u0415\u041c\u0410\u0420\u042b is a \u0441\u0435\u043b\u043e\n",
        "\u041a\u0415\u0420\u0415\u041d\u0421\u041a\u042a         \u041a\u0415\u0420\u0415\u041d\u0421\u041a\u042a is a \u0433\u043e\u0440\u043e\u0434\u044a\n",
        "\u041a\u0415\u0421\u041c\u0415                \u041a\u0415\u0421\u041c\u0415  is a \u0441\u0435\u043b\u043e\n",
        "\u041a\u0415\u0421\u041e\u0412\u0410 \u0413\u041e\u0420\u0410     \u041a\u0415\u0421\u041e\u0412\u0410 \u0413\u041e\u0420\u0410 is a \u0441\u0435\u043b\u043e\n",
        "\u041a\u0418\u0414\u0415\u0428\u041a\u0418\u041d\u041e        \u041a\u0418\u0414\u0415\u0428\u041a\u0418\u041d\u041e  is a \u0441\u0435\u043b\u043e\n",
        "\u041a\u0418\u041c\u0420\u042b                 \u041a\u0418\u041c\u0420\u042b is a \u0441\u0435\u043b\u043e\n",
        "\u041a\u0418\u041d\u0415\u0428\u041c\u0410           \u041a\u0418\u041d\u0415\u0428\u041c\u0410 is a \u0433\u043e\u0440\u043e\u0434\u044a\n",
        "\u041a\u0418\u0420\u0415\u041d\u0421\u041a\u042a         \u041a\u0418\u0420\u0415\u041d\u0421\u041a\u042a is a \u0433\u043e\u0440\u043e\u0434\u044a\n",
        "\u041a\u0418\u0420\u0418\u041b\u041e\u0412\u042a        \u041a\u0418\u0420\u0418\u041b\u041e\u0412\u042a  is a \u0433\u043e\u0440\u043e\u0434\u044a\n",
        "\u041a\u0418\u0420\u0418\u041b\u041e\u0415\u041e          \u041a\u0418\u0420\u0418\u041b\u041e\u0415\u041e  is a \u0441\u0435\u043b\u043e\n",
        "\u041a\u0418\u0422\u0410\u0419\u0421\u041a\u041e\u0419      \u041a\u0418\u0422\u0410\u0419\u0421\u041a\u041e\u0419 is a \u043e\u0441\u0442\u0440\u043e\u0433\u044a\n",
        "Length: 280, dtype: object\n"
       ]
      }
     ],
     "prompt_number": 32
    },
    {
     "cell_type": "code",
     "collapsed": false,
     "input": [],
     "language": "python",
     "metadata": {},
     "outputs": []
    }
   ],
   "metadata": {}
  }
 ]
}