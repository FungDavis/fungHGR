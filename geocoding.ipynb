{
 "metadata": {
  "name": "",
  "signature": "sha256:008b96641ae822dae305a9c07b38a092b213c1cdec06af7288d59c6ac2491844"
 },
 "nbformat": 3,
 "nbformat_minor": 0,
 "worksheets": [
  {
   "cells": [
    {
     "cell_type": "markdown",
     "metadata": {},
     "source": [
      "First: Text Parsing!\n",
      "====================\n",
      "This is where the information that we want is extracted from the text we have."
     ]
    },
    {
     "cell_type": "code",
     "collapsed": false,
     "input": [
      "import re, requests"
     ],
     "language": "python",
     "metadata": {},
     "outputs": [],
     "prompt_number": 1
    },
    {
     "cell_type": "code",
     "collapsed": false,
     "input": [
      "import os\n",
      "def Ensure_dir(d):\n",
      "    \"\"\"Makes sure a directory 'd' exists, and if it doesn't, it creates one.\"\"\"\n",
      "    if not os.path.exists(d):\n",
      "        os.makedirs(d)\n",
      "    return 0"
     ],
     "language": "python",
     "metadata": {},
     "outputs": [],
     "prompt_number": 2
    },
    {
     "cell_type": "code",
     "collapsed": false,
     "input": [
      "def open_texts(file_start_str,first,last):\n",
      "    \"\"\"Creates a dictionary from a set of .htm files.\n",
      "    Assumes all have the same starting string immediately followed by a page number.\n",
      "    Returns a dictionary with page numbers as keys and page contents as values.\"\"\"\n",
      "    out_dict = {}\n",
      "    for i in range(first,last+1):\n",
      "        with open(\"{}{}.htm\".format(file_start_str,i),encoding=\"utf-8\") as htmfile:\n",
      "            out_dict[i] = htmfile.read()\n",
      "    return out_dict"
     ],
     "language": "python",
     "metadata": {},
     "outputs": [],
     "prompt_number": 3
    },
    {
     "cell_type": "markdown",
     "metadata": {},
     "source": [
      "Creating a dictionary called `market_text` and filling it out with key/value pairs corresponding to page numbers and page texts."
     ]
    },
    {
     "cell_type": "code",
     "collapsed": false,
     "input": [
      "market_text = open_texts(\"html/slovar\",10,70)"
     ],
     "language": "python",
     "metadata": {},
     "outputs": [],
     "prompt_number": 4
    },
    {
     "cell_type": "markdown",
     "metadata": {},
     "source": [
      "Cleanup cell. Currently fixing some common capitalization errors, and replacing nbsp's with normal spaces."
     ]
    },
    {
     "cell_type": "code",
     "collapsed": false,
     "input": [
      "for p in range(10,71):\n",
      "    market_text[p] = re.sub(r\"([> ])\u0412\u042a\",r\"\\1\u0412\u044a\",market_text[p])\n",
      "    market_text[p] = re.sub(r\"([\u0430-\u044f\u0456\u0463]+)(\u0462)\",r\"\\1\u0463\",market_text[p])\n",
      "    market_text[p] = re.sub(r\"(\u0462)([\u0430-\u044f\u0456\u0463]+)\",r\"\u0463\\2\",market_text[p])\n",
      "    market_text[p] = re.sub(\"&nbsp;\",\" \",market_text[p])\n",
      "    market_text[p] = re.sub(r\"([\u0430-\u044f\u0456\u0463]+)(\u042a)\",r\"\\1\u044a\",market_text[p])"
     ],
     "language": "python",
     "metadata": {},
     "outputs": [],
     "prompt_number": 5
    },
    {
     "cell_type": "code",
     "collapsed": false,
     "input": [
      "def extract_placenames(text_dict,start,end):\n",
      "    \"\"\"\n",
      "    Finds placenames, which should be capitalized and at the beginning of paragraphs in text.\n",
      "    Returns dict with name, descriptive text, and page number.\n",
      "    \"\"\"\n",
      "    out_dict = {}\n",
      "    last_entry = \"\"\n",
      "    counter = 1\n",
      "    for p in range(start,end+1):\n",
      "        # finds trailing descriptions at beginning of page, appends to last entry on previous page.\n",
      "        trail = re.findall(\"<body>\\n<p><span class=\\\"font0\\\">(.*)</span></p>\",text_dict[p])\n",
      "        if len(trail)>0 and len(re.findall(\"^([\u0410-\u042f\u0406\u0462 -]+)[, ]\",trail[0]))==0:\n",
      "            out_dict[last_entry]['text']+=trail[0]\n",
      "        # finds all place names on page, captures descriptions as well. puts into dictionary with name as key and desc as value.\n",
      "        places = re.findall(\">([\u0410-\u042f\u0406\u0462 -]+)[, ](.*)</p>\",text_dict[p])\n",
      "        if len(places)>0:\n",
      "            for v in places:\n",
      "                placename = v[0].strip()\n",
      "                out_dict[counter] = {'name':placename,'text':v[1],'page':p}\n",
      "                counter+=1\n",
      "            last_entry = counter-1\n",
      "    return out_dict"
     ],
     "language": "python",
     "metadata": {},
     "outputs": [],
     "prompt_number": 7
    },
    {
     "cell_type": "code",
     "collapsed": false,
     "input": [
      "market_towns = extract_placenames(market_text,10,70) # creating dict market_towns to hold individual place info.\n",
      "market_towns.pop(1,None) #Known extraneous hit at beginning of doc, removed.\n",
      "market_towns.pop(2,None) #Known extraneous hit at beginning of doc, removed."
     ],
     "language": "python",
     "metadata": {},
     "outputs": [
      {
       "metadata": {},
       "output_type": "pyout",
       "prompt_number": 8,
       "text": [
        "{'text': '\u0438 \u0422\u041e\u0420\u0413\u041e\u0412\u042a.</span>', 'name': '\u042f\u0420\u041c\u0410\u0420\u041e\u041a\u042a', 'page': 10}"
       ]
      }
     ],
     "prompt_number": 8
    },
    {
     "cell_type": "markdown",
     "metadata": {},
     "source": [
      "In this cell, we're looking for town types, which will be in italics. We're also looking for administrative divisions based on their titles, mostly Namiestnichestva."
     ]
    },
    {
     "cell_type": "code",
     "collapsed": false,
     "input": [
      "from lxml import html\n",
      "def strip_html(text):\n",
      "    return html.fromstring(text).text_content()"
     ],
     "language": "python",
     "metadata": {},
     "outputs": [],
     "prompt_number": 9
    },
    {
     "cell_type": "code",
     "collapsed": false,
     "input": [
      "for t in market_towns:\n",
      "    try:\n",
      "        town_type = re.findall(\"italic;\\\">([\u0430-\u044f\u0456\u0463, ]+)</span>\",market_towns[t]['text'])[0]\n",
      "        town_type = town_type.strip(\", \")\n",
      "        txt = market_towns[t]['text']\n",
      "        txt = strip_html(txt)\n",
      "        try:\n",
      "            # regex to find governorships, not all will have these.\n",
      "            ru_prov = re.findall(\">([\u0410-\u042f\u0406\u0462\u0430-\u044f\u0463\u0456, -]*\u041d\u0430(?:\u043c\u0463){0,1}\u0441\u0442\u043d\u0438\u0447[\u0430\u0435\u043b]\u0441\u0442\u0432[\u0430\u0463](?: \u0441\u0435\u0433\u043e \u0438\u043c\u0435\u043d\u0438){0,1})\",market_towns[t]['text'])[0].strip()\n",
      "        except IndexError:\n",
      "            try:\n",
      "                # regex to find gubernii, not all will have these, some will have neither gov nor gub\n",
      "                ru_prov = re.findall(\">[ ]*([\u0410-\u042f\u0406\u0462\u0430-\u044f\u0463\u0456,]+(?: [\u0410-\u042f\u0406\u0462\u0430-\u044f\u0463\u0456,]+){0,1}\\s+\u0413\u0443\u0431\u0435\u0440\u043d\u0456\u0438)\",market_towns[t]['text'])[0].strip()\n",
      "            except IndexError:\n",
      "                ru_prov = 'not_in_text'\n",
      "        #Attempting to find two different variations on appearance of uyezd\n",
      "        if len(re.findall(r\"[\u0412\u0432][\u042a\u044a] \u0443\u0463\u0437\u0434[\u0443\u0463] \u0433\u043e\u0440\u043e\u0434\u0430 ([\u0410-\u042f\u0406\u0462\u0430-\u044f\u0463\u0456]+)\",txt)) != 0:\n",
      "            ru_uezd = re.findall(r\"[\u0412\u0432][\u042a\u044a]\\s+\u0443\u0463\u0437\u0434[\u0443\u0463]\\s+\u0433\u043e\u0440\u043e\u0434\u0430\\s+([\u0410-\u042f\u0406\u0462\u0430-\u044f\u0463\u0456]+)\",txt)[0].strip()\n",
      "        else:\n",
      "            try:\n",
      "                ru_uezd = re.findall(r\"([\u0410-\u042f\u0406\u0462\u0430-\u044f\u0463\u0456]+\\s+\u0443\u0463\u0437\u0434[\u0443\u0463])\",txt)[0].strip()\n",
      "            except IndexError:\n",
      "                ru_uezd = 'not_in_text'\n",
      "        market_towns[t]['_type']=town_type\n",
      "        market_towns[t]['ru_prov']=ru_prov\n",
      "        market_towns[t]['ru_uezd']=ru_uezd\n",
      "    except IndexError:\n",
      "        print(t)"
     ],
     "language": "python",
     "metadata": {},
     "outputs": [
      {
       "output_type": "stream",
       "stream": "stdout",
       "text": [
        "207\n",
        "208\n",
        "209\n",
        "210\n",
        "211\n",
        "212\n",
        "213\n"
       ]
      }
     ],
     "prompt_number": 10
    },
    {
     "cell_type": "markdown",
     "metadata": {},
     "source": [
      "Pandas!\n",
      "=======\n",
      "Everything has now been put into a pandas dataframe, so no more dicts!\n",
      "Still doing some text parsing and cleanup, but based on the data that we've collected, not the text."
     ]
    },
    {
     "cell_type": "code",
     "collapsed": false,
     "input": [
      "import pandas as pd\n",
      "import numpy as np"
     ],
     "language": "python",
     "metadata": {},
     "outputs": [],
     "prompt_number": 11
    },
    {
     "cell_type": "code",
     "collapsed": false,
     "input": [
      "# creation of pandas dataframe based on previously created dict.\n",
      "market_df = pd.DataFrame.from_dict(market_towns,orient=\"index\")\n",
      "market_df.head()"
     ],
     "language": "python",
     "metadata": {},
     "outputs": [
      {
       "html": [
        "<div style=\"max-height:1000px;max-width:1500px;overflow:auto;\">\n",
        "<table border=\"1\" class=\"dataframe\">\n",
        "  <thead>\n",
        "    <tr style=\"text-align: right;\">\n",
        "      <th></th>\n",
        "      <th>name</th>\n",
        "      <th>ru_uezd</th>\n",
        "      <th>_type</th>\n",
        "      <th>text</th>\n",
        "      <th>ru_prov</th>\n",
        "      <th>page</th>\n",
        "    </tr>\n",
        "  </thead>\n",
        "  <tbody>\n",
        "    <tr>\n",
        "      <th>3</th>\n",
        "      <td>  \u0410\u0412\u0414\u0423\u041b\u041e\u0412\u041e</td>\n",
        "      <td>   \u0414\u043e\u043d\u043a\u043e\u0432\u0441\u043a\u043e\u043c\u044a \u0443\u0463\u0437\u0434\u0463</td>\n",
        "      <td>    \u0441\u0435\u043b\u043e</td>\n",
        "      <td>  \u0418\u0412\u0410\u041d\u041e\u0412\u0421\u041a\u041e\u0415 \u0442\u043e\u0436\u044c, &lt;/span&gt;&lt;span class=\"font0\" s...</td>\n",
        "      <td>     \u0420\u044f\u0437\u0430\u043d\u0441\u043a\u0430\u0433\u043e \u041d\u0430\u043c\u0463\u0441\u0442\u043d\u0438\u0447\u0435\u0441\u0442\u0432\u0430</td>\n",
        "      <td> 10</td>\n",
        "    </tr>\n",
        "    <tr>\n",
        "      <th>4</th>\n",
        "      <td> \u0410\u0412\u0416\u0415\u041d\u0421\u041a\u0410\u042f</td>\n",
        "      <td>             \u0438 \u0443\u0463\u0437\u0434\u0443</td>\n",
        "      <td> \u0432\u043e\u043b\u043e\u0441\u0442\u044c</td>\n",
        "      <td>  &lt;/span&gt;&lt;span class=\"font0\" style=\"font-style:...</td>\n",
        "      <td>   \u0412\u043e\u043b\u043e\u0433\u043e\u0434\u0441\u043a\u0430\u0433\u043e \u041d\u0430\u043c\u0463\u0441\u0442\u043d\u0438\u0447\u0435\u0441\u0442\u0432\u0430</td>\n",
        "      <td> 10</td>\n",
        "    </tr>\n",
        "    <tr>\n",
        "      <th>5</th>\n",
        "      <td> \u0410\u0414\u041e\u0412\u0410\u0422\u041e\u0412\u041e</td>\n",
        "      <td>   \u0410\u0440\u0437\u0430\u043c\u0430\u0441\u043a\u043e\u043c\u044a \u0443\u0463\u0437\u0434\u0463</td>\n",
        "      <td>    \u0441\u0435\u043b\u043e</td>\n",
        "      <td>  &lt;/span&gt;&lt;span class=\"font0\" style=\"font-style:...</td>\n",
        "      <td> \u041d\u0438\u0436\u0435\u0433\u043e\u0440\u043e\u0434\u0441\u043a\u0430\u0433\u043e \u041d\u0430\u043c\u0463\u0441\u0442\u043d\u0438\u0447\u0435\u0441\u0442\u0432\u0430</td>\n",
        "      <td> 10</td>\n",
        "    </tr>\n",
        "    <tr>\n",
        "      <th>6</th>\n",
        "      <td>    \u0410\u041a\u0421\u0415\u041b\u042c</td>\n",
        "      <td> \u0422\u0435\u043c\u043d\u0438\u043a\u043e\u0432\u0441\u043a\u043e\u043c\u044a \u0443\u0463\u0437\u0434\u0463</td>\n",
        "      <td>    \u0441\u0435\u043b\u043e</td>\n",
        "      <td>  &lt;/span&gt;&lt;span class=\"font0\" style=\"font-style:...</td>\n",
        "      <td>    \u0422\u0430\u043c\u0431\u043e\u0432\u0441\u043a\u0430\u0433\u043e \u041d\u0430\u043c\u0463\u0441\u0442\u043d\u0438\u0447\u0435\u0441\u0442\u0432\u0430</td>\n",
        "      <td> 10</td>\n",
        "    </tr>\n",
        "    <tr>\n",
        "      <th>7</th>\n",
        "      <td>   \u0410\u041b\u0410\u0422\u042b\u0420\u042c</td>\n",
        "      <td>            \u0412\u044a \u0443\u0463\u0437\u0434\u0463</td>\n",
        "      <td>  \u0433\u043e\u0440\u043e\u0434\u044a</td>\n",
        "      <td>  &lt;/span&gt;&lt;span class=\"font0\" style=\"font-style:...</td>\n",
        "      <td>    \u0421\u0438\u043d\u0431\u0438\u0440\u0441\u043a\u0430\u0433\u043e \u041d\u0430\u043c\u0463\u0441\u0442\u043d\u0438\u0447\u0435\u0441\u0442\u0432\u0430</td>\n",
        "      <td> 10</td>\n",
        "    </tr>\n",
        "  </tbody>\n",
        "</table>\n",
        "</div>"
       ],
       "metadata": {},
       "output_type": "pyout",
       "prompt_number": 12,
       "text": [
        "        name              ru_uezd    _type  \\\n",
        "3   \u0410\u0412\u0414\u0423\u041b\u041e\u0412\u041e    \u0414\u043e\u043d\u043a\u043e\u0432\u0441\u043a\u043e\u043c\u044a \u0443\u0463\u0437\u0434\u0463     \u0441\u0435\u043b\u043e   \n",
        "4  \u0410\u0412\u0416\u0415\u041d\u0421\u041a\u0410\u042f              \u0438 \u0443\u0463\u0437\u0434\u0443  \u0432\u043e\u043b\u043e\u0441\u0442\u044c   \n",
        "5  \u0410\u0414\u041e\u0412\u0410\u0422\u041e\u0412\u041e    \u0410\u0440\u0437\u0430\u043c\u0430\u0441\u043a\u043e\u043c\u044a \u0443\u0463\u0437\u0434\u0463     \u0441\u0435\u043b\u043e   \n",
        "6     \u0410\u041a\u0421\u0415\u041b\u042c  \u0422\u0435\u043c\u043d\u0438\u043a\u043e\u0432\u0441\u043a\u043e\u043c\u044a \u0443\u0463\u0437\u0434\u0463     \u0441\u0435\u043b\u043e   \n",
        "7    \u0410\u041b\u0410\u0422\u042b\u0420\u042c             \u0412\u044a \u0443\u0463\u0437\u0434\u0463   \u0433\u043e\u0440\u043e\u0434\u044a   \n",
        "\n",
        "                                                text  \\\n",
        "3   \u0418\u0412\u0410\u041d\u041e\u0412\u0421\u041a\u041e\u0415 \u0442\u043e\u0436\u044c, </span><span class=\"font0\" s...   \n",
        "4   </span><span class=\"font0\" style=\"font-style:...   \n",
        "5   </span><span class=\"font0\" style=\"font-style:...   \n",
        "6   </span><span class=\"font0\" style=\"font-style:...   \n",
        "7   </span><span class=\"font0\" style=\"font-style:...   \n",
        "\n",
        "                         ru_prov  page  \n",
        "3      \u0420\u044f\u0437\u0430\u043d\u0441\u043a\u0430\u0433\u043e \u041d\u0430\u043c\u0463\u0441\u0442\u043d\u0438\u0447\u0435\u0441\u0442\u0432\u0430    10  \n",
        "4    \u0412\u043e\u043b\u043e\u0433\u043e\u0434\u0441\u043a\u0430\u0433\u043e \u041d\u0430\u043c\u0463\u0441\u0442\u043d\u0438\u0447\u0435\u0441\u0442\u0432\u0430    10  \n",
        "5  \u041d\u0438\u0436\u0435\u0433\u043e\u0440\u043e\u0434\u0441\u043a\u0430\u0433\u043e \u041d\u0430\u043c\u0463\u0441\u0442\u043d\u0438\u0447\u0435\u0441\u0442\u0432\u0430    10  \n",
        "6     \u0422\u0430\u043c\u0431\u043e\u0432\u0441\u043a\u0430\u0433\u043e \u041d\u0430\u043c\u0463\u0441\u0442\u043d\u0438\u0447\u0435\u0441\u0442\u0432\u0430    10  \n",
        "7     \u0421\u0438\u043d\u0431\u0438\u0440\u0441\u043a\u0430\u0433\u043e \u041d\u0430\u043c\u0463\u0441\u0442\u043d\u0438\u0447\u0435\u0441\u0442\u0432\u0430    10  "
       ]
      }
     ],
     "prompt_number": 12
    },
    {
     "cell_type": "code",
     "collapsed": false,
     "input": [
      "#pd.options.display.max_colwidth = 1000"
     ],
     "language": "python",
     "metadata": {},
     "outputs": [],
     "prompt_number": 13
    },
    {
     "cell_type": "code",
     "collapsed": false,
     "input": [
      "#These are false positives for uyezdi, they mention counties elsewhere in the description\n",
      "market_df.ru_uezd = market_df.ru_uezd.replace(r'[\u0432\u0412]\u044a \u0443\u0463\u0437\u0434\u0463','not_in_text',regex=True)\n",
      "market_df.ru_uezd = market_df.ru_uezd.replace(r'\u0438\u0437\u044a \u0443\u0463\u0437\u0434\u0443','not_in_text',regex=True)"
     ],
     "language": "python",
     "metadata": {},
     "outputs": [],
     "prompt_number": 13
    },
    {
     "cell_type": "markdown",
     "metadata": {},
     "source": [
      "When is a name not a name?\n",
      "==========================\n",
      "When it's actually a reference to something else in the text!  \n",
      "These next few cells replace phrases that mean \"the same thing as...\" and replace them with what they're talking about.  \n",
      "Anything that uses the `replace_sameas` function is replacing \"horizontally\", so when a city is also a seat of an administrative unit, or a town is in an uyezd that is also a Namiestnichestva.  \n",
      "Anything that has a `replacer` is replacing \"vertically\", when the text is referring to a previous entry."
     ]
    },
    {
     "cell_type": "code",
     "collapsed": false,
     "input": [
      "def replace_sameas(df, original, replacement, match_list, kind=\"\u041d\u0430\u043c\u0463\u0441\u0442\u043d\u0438\u0447\u0435\u0441\u0442\u0432\u0430\"):\n",
      "    \"\"\"\n",
      "    df: dataframe to be modified\n",
      "    original: column name in pandas data frame\n",
      "    replacement: column name in same pandas data frame\n",
      "    match_list: list of strings which, in original, indicate that they should be replaced by the corresponding values in replacement\n",
      "    \n",
      "    For each string in match_list, this function replaces said string in original with the corresponding value in replacement, converted to title case for convenience.\n",
      "    Place types are added after place names for consistent further processing. Type defaults to \u041d\u0430\u043c\u0463\u0441\u0442\u043d\u0438\u0447\u0435\u0441\u0442\u0432\u0430.\n",
      "    This is an in place transformation in the dataframe.\n",
      "    \"\"\"\n",
      "    for match in match_list:\n",
      "        cond = df[original] == match\n",
      "        df[original][cond] = df[replacement][cond].str.title()+\" {}\".format(kind)\n",
      "    return 0"
     ],
     "language": "python",
     "metadata": {},
     "outputs": [],
     "prompt_number": 14
    },
    {
     "cell_type": "code",
     "collapsed": false,
     "input": [
      "replacer = market_df.ix[np.logical_and(market_df.ru_prov == \"\u0442\u043e\u0433\u043e \u0436\u0435 \u041d\u0430\u043c\u0463\u0441\u0442\u043d\u0438\u0447\u0435\u0441\u0442\u0432\u0430\",np.logical_or(market_df.ru_prov==\"\u0438 \u0443\u0463\u0437\u0434\u0443\",market_df.ru_prov==\"\u0438 \u0443\u0463\u0437\u0434\u0463\"))].index.tolist()\n",
      "for x in replacer:\n",
      "    market_df.loc[x,'ru_uezd'] = market_df.loc[x-1]['ru_uezd']\n",
      "    market_df.loc[x,'ru_prov'] = market_df.loc[x-1]['ru_prov']"
     ],
     "language": "python",
     "metadata": {},
     "outputs": [],
     "prompt_number": 15
    },
    {
     "cell_type": "code",
     "collapsed": false,
     "input": [
      "replacer = market_df.ix[market_df.ru_prov == \"\u0442\u043e\u0433\u043e \u0436\u0435 \u041d\u0430\u043c\u0463\u0441\u0442\u043d\u0438\u0447\u0435\u0441\u0442\u0432\u0430\"].index.tolist()\n",
      "for x in replacer:\n",
      "    market_df.loc[x,'ru_prov'] = market_df.loc[x-1]['ru_prov']"
     ],
     "language": "python",
     "metadata": {},
     "outputs": [],
     "prompt_number": 16
    },
    {
     "cell_type": "code",
     "collapsed": false,
     "input": [
      "replacer = market_df.ix[market_df.ru_prov == \"\u0442\u043e\u0439 \u0436\u0435 \u0413\u0443\u0431\u0435\u0440\u043d\u0456\u0438\"].index.tolist()\n",
      "for x in replacer:\n",
      "    market_df.loc[x,'ru_prov'] = market_df.loc[x-1]['ru_prov']"
     ],
     "language": "python",
     "metadata": {},
     "outputs": [],
     "prompt_number": 17
    },
    {
     "cell_type": "code",
     "collapsed": false,
     "input": [
      "# Replacing \"same Namiestnichestva\" statements with appropriate Namiestnichestva name\n",
      "match_list = [\"\u041d\u0430\u043c\u0463\u0441\u0442\u043d\u0438\u0447\u0435\u0441\u0442\u0432\u0430 \u0441\u0435\u0433\u043e \u0438\u043c\u0435\u043d\u0438\"]\n",
      "replace_sameas(market_df,'ru_prov','name',match_list)"
     ],
     "language": "python",
     "metadata": {},
     "outputs": [
      {
       "metadata": {},
       "output_type": "pyout",
       "prompt_number": 18,
       "text": [
        "0"
       ]
      }
     ],
     "prompt_number": 18
    },
    {
     "cell_type": "code",
     "collapsed": false,
     "input": [
      "# Replacing \"and uyezd\" statements with appropriate Namiestnichestva name\n",
      "match_list = [\"\u0438 \u0443\u0463\u0437\u0434\u0443\",\"\u0438 \u0443\u0463\u0437\u0434\u0463\"]\n",
      "replace_sameas(market_df,'ru_uezd','ru_prov',match_list,kind=\"\u0443\u0463\u0437\u0434\u0463\")\n",
      "market_df.ru_uezd = market_df.ru_uezd.replace(r' \u041d\u0430(?:\u043c\u0463){0,1}\u0441\u0442\u043d\u0438\u0447[\u0435\u043b]\u0441\u0442\u0432[\u0430\u0463]','',regex=True)"
     ],
     "language": "python",
     "metadata": {},
     "outputs": [],
     "prompt_number": 19
    },
    {
     "cell_type": "markdown",
     "metadata": {},
     "source": [
      "Some final cleanup\n",
      "==================\n",
      "Here's a bit more housekeeping, replacing parts of administrative unit names that don't carry meaning, dealing with variant spellings, and getting rid of html in text descriptions"
     ]
    },
    {
     "cell_type": "code",
     "collapsed": false,
     "input": [
      "# Replacing parts of names that don't carry meaning\n",
      "market_df.ru_prov = market_df.ru_prov.replace(r'^[\u0412\u0432]\u044a ','',regex=True)\n",
      "market_df.ru_uezd = market_df.ru_uezd.replace(r'^[\u0412\u0432]\u044a ','',regex=True)\n",
      "market_df.ru_prov = market_df.ru_prov.replace('\u0413\u0440\u0430\u0444\u0430 \u0412\u043e\u0440\u043e\u043d\u0446\u043e\u0432\u0430 ','',regex=True)\n",
      "market_df.ru_prov = market_df.ru_prov.replace('\u0413\u0440\u0430\u0444\u0430 \u0428\u0435\u0440\u0435\u043c\u0435\u0442\u0435\u0432\u0430, ','',regex=True)\n",
      "market_df.ru_prov = market_df.ru_prov.replace('\u0440\u0430\u0437\u043d\u044b\u0445\u044a \u041f\u043e\u043c\u0463\u0449\u0438\u043a\u043e\u0432\u044a ','',regex=True)\n",
      "market_df.ru_prov = market_df.ru_prov.replace(' \u0436\u0435','',regex=True)"
     ],
     "language": "python",
     "metadata": {},
     "outputs": [],
     "prompt_number": 22
    },
    {
     "cell_type": "code",
     "collapsed": false,
     "input": [
      "market_df.ru_prov.unique()"
     ],
     "language": "python",
     "metadata": {},
     "outputs": [
      {
       "metadata": {},
       "output_type": "pyout",
       "prompt_number": 23,
       "text": [
        "array(['\u0420\u044f\u0437\u0430\u043d\u0441\u043a\u0430\u0433\u043e \u041d\u0430\u043c\u0463\u0441\u0442\u043d\u0438\u0447\u0435\u0441\u0442\u0432\u0430', '\u0412\u043e\u043b\u043e\u0433\u043e\u0434\u0441\u043a\u0430\u0433\u043e \u041d\u0430\u043c\u0463\u0441\u0442\u043d\u0438\u0447\u0435\u0441\u0442\u0432\u0430',\n",
        "       '\u041d\u0438\u0436\u0435\u0433\u043e\u0440\u043e\u0434\u0441\u043a\u0430\u0433\u043e \u041d\u0430\u043c\u0463\u0441\u0442\u043d\u0438\u0447\u0435\u0441\u0442\u0432\u0430', '\u0422\u0430\u043c\u0431\u043e\u0432\u0441\u043a\u0430\u0433\u043e \u041d\u0430\u043c\u0463\u0441\u0442\u043d\u0438\u0447\u0435\u0441\u0442\u0432\u0430',\n",
        "       '\u0421\u0438\u043d\u0431\u0438\u0440\u0441\u043a\u0430\u0433\u043e \u041d\u0430\u043c\u0463\u0441\u0442\u043d\u0438\u0447\u0435\u0441\u0442\u0432\u0430', '\u042f\u0440\u043e\u0441\u043b\u0430\u0432\u0441\u043a\u0430\u0433\u043e \u041d\u0430\u043c\u0463\u0441\u0442\u043d\u0438\u0447\u0435\u0441\u0442\u0432\u0430',\n",
        "       '\u041f\u0435\u043d\u0437\u0435\u043d\u0441\u043a\u0430\u0433\u043e \u041d\u0430\u043c\u0463\u0441\u0442\u043d\u0438\u0447\u0435\u0441\u0442\u0432\u0430', '\u0422\u0443\u043b\u044c\u0441\u043a\u0430\u0433\u043e \u041d\u0430\u043c\u0463\u0441\u0442\u043d\u0438\u0447\u0435\u0441\u0442\u0432\u0430',\n",
        "       '\u0412\u043e\u0440\u043e\u043d\u0435\u0436\u0441\u043a\u043e\u043c\u044a \u041d\u0430\u043c\u0463\u0441\u0442\u043d\u0438\u0447\u0435\u0441\u0442\u0432\u0463', '\u0415\u043a\u0430\u0442\u0435\u0440\u0438\u043d\u043e\u0441\u043b\u0430\u0432\u0441\u043a\u0430\u0433\u043e \u041d\u0430\u043c\u0463\u0441\u0442\u043d\u0438\u0447\u0435\u0441\u0442\u0432\u0430',\n",
        "       '\u041a\u0443\u0440\u0441\u043a\u0430\u0433\u043e \u041d\u0430\u043c\u0463\u0441\u0442\u043d\u0438\u0447\u0435\u0441\u0442\u0432\u0430', '\u0425\u0430\u0440\u044c\u043a\u043e\u0432\u0441\u043a\u0430\u0433\u043e \u041d\u0430\u043c\u0463\u0441\u0442\u043d\u0438\u0447\u0435\u0441\u0442\u0432\u0430',\n",
        "       '\u041c\u043e\u0433\u0438\u043b\u0435\u0432\u0441\u043a\u0430\u0433\u043e \u041d\u0430\u043c\u0463\u0441\u0442\u043d\u0438\u0447\u0435\u0441\u0442\u0432\u0430', '\u041e\u0440\u043b\u043e\u0432\u0441\u043a\u0430\u0433\u043e \u041d\u0430\u043c\u0463\u0441\u0442\u043d\u0438\u0447\u0435\u0441\u0442\u0432\u0430',\n",
        "       '\u0410\u0440\u0445\u0430\u043d\u0433\u0435\u043b\u044c\u0441\u043a\u044a \u041d\u0430\u043c\u0463\u0441\u0442\u043d\u0438\u0447\u0435\u0441\u0442\u0432\u0430', '\u041a\u0430\u0432\u043a\u0430\u0437\u0441\u043a\u0430\u0433\u043e \u041d\u0430\u043c\u0463\u0441\u0442\u043d\u0438\u0447\u0435\u0441\u0442\u0432\u0430',\n",
        "       '\u0421\u0430\u0440\u0430\u0442\u043e\u0432\u0441\u043a\u0430\u0433\u043e \u041d\u0430\u043c\u0463\u0441\u0442\u043d\u0438\u0447\u0435\u0441\u0442\u0432\u0430', 'not_in_text',\n",
        "       '\u041a\u0456\u0435\u0432\u0441\u043a\u0430\u0433\u043e \u041d\u0430\u043c\u0463\u0441\u0442\u043d\u0438\u0447\u0435\u0441\u0442\u0432\u0430',\n",
        "       '\u041d\u043e\u0432\u043e\u0433\u043e\u0440\u043e\u0434\u0441\u043a\u0430\u0433\u043e - \u0421\u0463\u0432\u0435\u0440\u0441\u043a\u0430\u0433\u043e \u041d\u0430\u043c\u0463\u0441\u0442\u043d\u0438\u0447\u0435\u0441\u0442\u0432\u0430',\n",
        "       '\u0415\u043a\u0430\u0442\u0435\u0440\u0438\u043d\u043e\u0441\u043b\u0430\u0432\u0441\u043a\u043e\u043c\u044a \u041d\u0430\u043c\u0463\u0441\u0442\u043d\u0438\u0447\u0435\u0441\u0442\u0432\u0463', '\u0427\u0435\u0440\u043d\u0438\u0433\u043e\u0432\u0441\u043a\u0430\u0433\u043e \u041d\u0430\u043c\u0463\u0441\u0442\u043d\u0438\u0447\u0435\u0441\u0442\u0432\u0430',\n",
        "       '\u0421\u0430\u0440\u0430\u0442\u043e\u0432\u0441\u043a\u043e\u043c\u044a \u041d\u0430\u043c\u0463\u0441\u0442\u043d\u0438\u0447\u0435\u0441\u0442\u0432\u0463', '\u0422\u043e\u0431\u043e\u043b\u044c\u0441\u043a\u0430\u0433\u043e \u041d\u0430\u043c\u0463\u0441\u0442\u043d\u0438\u0447\u0435\u0441\u0442\u0432\u0430',\n",
        "       '\u041a\u043e\u0441\u0442\u0440\u043e\u043c\u0441\u043a\u0430\u0433\u043e \u041d\u0430\u043c\u0463\u0441\u0442\u043d\u0438\u0447\u0435\u0441\u0442\u0432\u0430', '\u041c\u043e\u0441\u043a\u043e\u0432\u0441\u043a\u043e\u0439 \u0413\u0443\u0431\u0435\u0440\u043d\u0456\u0438',\n",
        "       '\u041a\u0430\u0437\u0430\u043d\u0441\u043a\u0430\u0433\u043e \u041d\u0430\u043c\u0463\u0441\u0442\u043d\u0438\u0447\u0435\u0441\u0442\u0432\u0430', '\u041f\u043e\u043b\u043e\u0442\u0441\u043a\u0430\u0433\u043e \u041d\u0430\u043c\u0463\u0441\u0442\u043d\u0438\u0447\u0435\u0441\u0442\u0432\u0430',\n",
        "       '\u0410\u0440\u0445\u0430\u043d\u0433\u0435\u043b\u044c\u0441\u043a\u043e\u043c\u044a \u041d\u0430\u043c\u0463\u0441\u0442\u043d\u0438\u0447\u0435\u0441\u0442\u0432\u0463', '\u041f\u0435\u0440\u043c\u0441\u043a\u0430\u0433\u043e \u041d\u0430\u043c\u0463\u0441\u0442\u043d\u0438\u0447\u0435\u0441\u0442\u0432\u0430',\n",
        "       '\u0423\u0444\u0438\u043c\u0441\u043a\u0430\u0433\u043e \u041d\u0430\u043c\u0463\u0441\u0442\u043d\u0438\u0447\u0435\u0441\u0442\u0432\u0430', '\u0412\u043b\u0430\u0434\u0438\u043c\u0435\u0440\u0441\u043a\u0430\u0433\u043e \u041d\u0430\u043c\u0463\u0441\u0442\u043d\u0438\u0447\u0435\u0441\u0442\u0432\u0430',\n",
        "       '\u0422\u0432\u0435\u0440\u0441\u043a\u0430\u0433\u043e \u041d\u0430\u043c\u0463\u0441\u0442\u043d\u0438\u0447\u0435\u0441\u0442\u0432\u0430', '\u0421\u0438\u043d\u0431\u0438\u0440\u0441\u043a\u043e\u043c\u044a \u041d\u0430\u043c\u0463\u0441\u0442\u043d\u0438\u0447\u0435\u0441\u0442\u0432\u0463',\n",
        "       '\u041d\u043e\u0432\u043e\u0433\u043e\u0440\u043e\u0434\u0441\u043a\u0430\u0433\u043e \u041d\u0430\u043c\u0463\u0441\u0442\u043d\u0438\u0447\u0435\u0441\u0442\u0432\u0430', '\u041a\u0430\u043b\u0443\u0436\u0441\u043a\u0430\u0433\u043e \u041d\u0430\u043c\u0463\u0441\u0442\u043d\u0438\u0447\u0435\u0441\u0442\u0432\u0430',\n",
        "       '\u0421\u043c\u043e\u043b\u0435\u043d\u0441\u043a\u0430\u0433\u043e \u041d\u0430\u043c\u0463\u0441\u0442\u043d\u0438\u0447\u0435\u0441\u0442\u0432\u0430', '\u0412\u043e\u0440\u043e\u043d\u0435\u0436\u0441\u043a\u0430\u0433\u043e \u041d\u0430\u043c\u0463\u0441\u0442\u043d\u0438\u0447\u0435\u0441\u0442\u0432\u0430',\n",
        "       '\u0410\u0440\u0445\u0430\u043d\u0433\u0435\u043b\u044c\u0441\u043a\u0430\u0433\u043e \u041d\u0430\u043c\u0463\u0441\u0442\u043d\u0438\u0447\u0435\u0441\u0442\u0432\u0430', '\u0420\u0438\u0436\u0441\u043a\u0430\u0433\u043e \u041d\u0430\u043c\u0463\u0441\u0442\u043d\u0438\u0447\u0435\u0441\u0442\u0432\u0430',\n",
        "       '\u0427\u0435\u0440\u043d\u0438\u0433\u043e\u0432\u0441\u043a\u0430\u0433\u043e \u041d\u0430\u043c\u0463\u0441\u0442\u043d\u0438\u0447\u043b\u0441\u0442\u0432\u0430', '\u0418\u0440\u043a\u0443\u0442\u0441\u043a\u0430\u0433\u043e \u041d\u0430\u043c\u0463\u0441\u0442\u043d\u0438\u0447\u0435\u0441\u0442\u0432\u0430',\n",
        "       '\u0412\u044b\u0431\u043e\u0440\u0433\u0441\u043a\u0430\u0433\u043e \u041d\u0430\u043c\u0463\u0441\u0442\u043d\u0438\u0447\u0435\u0441\u0442\u0432\u0430', '\u041f\u0441\u043a\u043e\u0432\u0441\u043a\u0430\u0433\u043e \u041d\u0430\u043c\u0463\u0441\u0442\u043d\u0438\u0447\u0435\u0441\u0442\u0432\u0430',\n",
        "       '\u0412\u043e\u0440\u043e\u043d\u0435\u0436\u044a \u041d\u0430\u043c\u0463\u0441\u0442\u043d\u0438\u0447\u0435\u0441\u0442\u0432\u0430', '\u0422\u0430\u043c\u0431\u043e\u0432\u0441\u043a\u043e\u043c\u044a \u041d\u0430\u043c\u0463\u0441\u0442\u043d\u0438\u0447\u0435\u0441\u0442\u0432\u0463',\n",
        "       '\u0412\u044b\u0431\u043e\u0440\u0433\u044a \u041d\u0430\u043c\u0463\u0441\u0442\u043d\u0438\u0447\u0435\u0441\u0442\u0432\u0430', '\u041e\u043b\u043e\u043d\u0435\u0446\u043a\u0430\u0433\u043e \u041d\u0430\u043c\u0463\u0441\u0442\u043d\u0438\u0447\u0435\u0441\u0442\u0432\u0430',\n",
        "       '\u0412\u043e\u043b\u043e\u0434\u0438\u043c\u0435\u0440\u0441\u043a\u0430\u0433\u043e \u041d\u0430\u043c\u0463\u0441\u0442\u043d\u0438\u0447\u0435\u0441\u0442\u0432\u0430', '\u0420\u0435\u0432\u0435\u043b\u044c\u0441\u043a\u0430\u0433\u043e \u041d\u0430\u043c\u0463\u0441\u0442\u043d\u0438\u0447\u0435\u0441\u0442\u0432\u0430',\n",
        "       '\u0422\u0443\u043b\u044c\u0441\u043a\u0430\u0433\u0443 \u041d\u0430\u043c\u0463\u0441\u0442\u043d\u0438\u0447\u0435\u0441\u0442\u0432\u0430', '\u041f\u0435\u043d\u0437\u0435\u043d\u0441\u043a\u0430\u0433\u043e \u041d\u0430\u043c\u0463\u0441\u0442\u043d\u0438\u0447\u0430\u0441\u0442\u0432\u0430',\n",
        "       '\u0412\u043b\u0430\u0434\u0438\u043c\u0435\u0440\u043a\u0430\u0433\u043e \u041d\u0430\u043c\u0463\u0441\u0442\u043d\u0438\u0447\u0435\u0441\u0442\u0432\u0430', None, '\u0418\u0440\u043a\u0443\u0442\u0441\u043a\u044a \u041d\u0430\u043c\u0463\u0441\u0442\u043d\u0438\u0447\u0435\u0441\u0442\u0432\u0430',\n",
        "       '\u0443\u0444\u0438\u043c\u0441\u043a\u0430\u0433\u043e \u041d\u0430\u043c\u0463\u0441\u0442\u043d\u0438\u0447\u0435\u0441\u0442\u0432\u0430', '\u041a\u0456\u0435\u0432\u0441\u043a\u0430\u0433\u043e \u041d\u0430\u0441\u0442\u043d\u0438\u0447\u0435\u0441\u0442\u0432\u0430',\n",
        "       '\u041a\u043e\u0441\u0442\u0440\u043e\u043c\u0430 \u041d\u0430\u043c\u0463\u0441\u0442\u043d\u0438\u0447\u0435\u0441\u0442\u0432\u0430', '\u0412\u044f\u0442\u0441\u043a\u0430\u0433\u043e \u041d\u0430\u043c\u0463\u0441\u0442\u043d\u0438\u0447\u0435\u0441\u0442\u0432\u0430'], dtype=object)"
       ]
      }
     ],
     "prompt_number": 23
    },
    {
     "cell_type": "code",
     "collapsed": false,
     "input": [
      "market_df.ru_uezd.unique()"
     ],
     "language": "python",
     "metadata": {},
     "outputs": [
      {
       "metadata": {},
       "output_type": "pyout",
       "prompt_number": 24,
       "text": [
        "array(['\u0414\u043e\u043d\u043a\u043e\u0432\u0441\u043a\u043e\u043c\u044a \u0443\u0463\u0437\u0434\u0463', '\u0412\u043e\u043b\u043e\u0433\u043e\u0434\u0441\u043a\u0430\u0433\u043e \u0443\u0463\u0437\u0434\u0463', '\u0410\u0440\u0437\u0430\u043c\u0430\u0441\u043a\u043e\u043c\u044a \u0443\u0463\u0437\u0434\u0463',\n",
        "       '\u0422\u0435\u043c\u043d\u0438\u043a\u043e\u0432\u0441\u043a\u043e\u043c\u044a \u0443\u0463\u0437\u0434\u0463', 'not_in_text', '\u042f\u0440\u043e\u0441\u043b\u0430\u0432\u0441\u043a\u0430\u0433\u043e \u0443\u0463\u0437\u0434\u0463',\n",
        "       '\u041a\u0435\u0440\u0435\u043d\u0441\u043a\u043e\u043c\u044a \u0443\u0463\u0437\u0434\u0463', '\u0411\u0463\u043b\u043e\u0433\u043e\u0440\u043e\u0434\u0441\u043a\u043e\u043c\u044a \u0443\u0463\u0437\u0434\u0463', '\u0418\u0437\u044e\u043c\u0441\u043a\u043e\u043c\u044a \u0443\u0463\u0437\u0434\u0463',\n",
        "       '\u0420\u043e\u0433\u0430\u0447\u0435\u0432\u0441\u043a\u043e\u043c\u044a \u0443\u0463\u0437\u0434\u0463', '\u0410\u043b\u0430\u0442\u044b\u0440\u044c\u0441\u043a\u043e\u043c\u044a \u0443\u0463\u0437\u0434\u0463', '\u0415\u043b\u0435\u0446\u043a\u043e\u043c\u044a \u0443\u0463\u0437\u0434\u0463',\n",
        "       '\u0425\u0430\u0440\u044c\u043a\u043e\u0432\u0441\u043a\u0430\u0433\u043e \u0443\u0463\u0437\u0434\u0463', '\u0412\u0435\u043d\u0435\u0432\u0441\u043a\u043e\u043c\u044a \u0443\u0463\u0437\u0434\u0463', '\u0421\u0430\u0440\u0430\u043d\u0441\u043a\u043e\u043c\u044a \u0443\u0463\u0437\u0434\u0463',\n",
        "       '\u0418\u0437\u044e\u043c\u043e\u0432\u0441\u043a\u043e\u043c\u044a \u0443\u0463\u0437\u0434\u0463', '\u041f\u0435\u0440\u0435\u044f\u0441\u043b\u0430\u0432\u0441\u043a\u043e\u043c\u044a \u0443\u0463\u0437\u0434\u0463', '\u041a\u0456\u0435\u0432\u0441\u043a\u0430\u0433\u043e \u0443\u0463\u0437\u0434\u0463',\n",
        "       '\u041d\u0463\u0436\u0438\u043d\u0441\u043a\u043e\u043c\u044a \u0443\u0463\u0437\u0434\u0463', '\u041d\u043e\u0432\u043e\u0433\u043e\u0440\u043e\u0434\u0441\u043a\u0430\u0433\u043e - \u0421\u0463\u0432\u0435\u0440\u0441\u043a\u0430\u0433\u043e \u0443\u0463\u0437\u0434\u0463',\n",
        "       '\u0421\u0430\u0440\u0430\u0442\u043e\u0432\u0441\u043a\u043e\u043c\u044a \u0443\u0463\u0437\u0434\u0463', '\u0427\u0443\u0445\u043b\u043e\u043c\u0441\u043a\u043e\u043c\u044a \u0443\u0463\u0437\u0434\u0463', '\u0412\u043e\u043b\u043e\u043a\u043e\u043b\u0430\u043c\u0441\u043a\u043e\u043c\u044a \u0443\u0463\u0437\u0434\u0463',\n",
        "       '\u041a\u0430\u0448\u0438\u0440\u0441\u043a\u043e\u043c\u044a \u0443\u0463\u0437\u0434\u0463', '\u0414\u0438\u043d\u0430\u0431\u0443\u0440\u0433\u0441\u043a\u043e\u043c\u044a \u0443\u0463\u0437\u0434\u0463', '\u0427\u0435\u043b\u044f\u0431\u0438\u043d\u0441\u043a\u043e\u043c\u044a \u0443\u0463\u0437\u0434\u0463',\n",
        "       '\u041c\u0438\u0440\u0433\u043e\u0440\u043e\u0434\u0441\u043a\u043e\u043c\u044a \u0443\u0463\u0437\u0434\u0463', '\u041d\u0438\u0436\u0435\u043b\u043e\u043c\u043e\u0432\u0441\u043a\u043e\u043c\u044a \u0443\u0463\u0437\u0434\u0463', '\u0421\u0443\u0437\u0434\u0430\u043b\u044c\u0441\u043a\u043e\u043c\u044a \u0443\u0463\u0437\u0434\u0463',\n",
        "       '\u0417\u0443\u0431\u0446\u043e\u0432\u0430', '\u041c\u043e\u0436\u0430\u0439\u0441\u043a\u043e\u043c\u044a \u0443\u0463\u0437\u0434\u0463', '\u041f\u0435\u0442\u0440\u043e\u0432\u0441\u043a\u043e\u043c\u044a \u0443\u0463\u0437\u0434\u0463',\n",
        "       '\u0410\u0445\u0442\u044b\u0440\u0441\u043a\u043e\u043c\u044a \u0443\u0463\u0437\u0434\u0463', '\u041a\u043e\u0437\u0435\u043b\u044c\u0441\u043a\u043e\u043c\u044a \u0443\u0463\u0437\u0434\u0463', '\u041d\u043e\u0432\u043e\u0433\u043e\u0440\u043e\u0434\u0441\u043a\u0430\u0433\u043e \u0443\u0463\u0437\u0434\u0463',\n",
        "       '\u041f\u043e\u043b\u043e\u0442\u0430\u0432\u0441\u043a\u043e\u043c\u044a \u0443\u0463\u0437\u0434\u0463', '\u041d\u043e\u0432\u0433\u043e\u0440\u043e\u0434\u0441\u043a\u043e\u043c\u044a \u0443\u0463\u0437\u0434\u0463', '\u041b\u0443\u0431\u0435\u043d\u0441\u043a\u043e\u043c\u044a \u0443\u0463\u0437\u0434\u0463',\n",
        "       '\u0415\u043f\u0438\u0444\u0430\u043d\u0441\u043a\u043e\u043c\u044a \u0443\u0463\u0437\u0434\u0463', '\u041f\u0438\u0440\u044f\u0442\u0438\u043d\u0441\u043a\u043e\u043c\u044a \u0443\u0463\u0437\u0434\u0463', '\u041f\u043e\u043b\u0442\u0430\u0432\u0441\u043a\u043e\u043c\u044a \u0443\u0463\u0437\u0434\u0463',\n",
        "       '\u041f\u043e\u0448\u0435\u0445\u043e\u043d\u0441\u043a\u043e\u043c\u044a \u0443\u0463\u0437\u0434\u0463', '\u0411\u0463\u043b\u043e\u0437\u0435\u0440\u0441\u043a\u043e\u043c\u044a \u0443\u0463\u0437\u0434\u0463', '\u0412\u0430\u043b\u0443\u0435\u043a\u044a',\n",
        "       '\u041f\u0440\u0438\u043b\u0443\u0446\u043a\u043e\u043c\u044a \u0443\u0463\u0437\u0434\u0463', '\u041c\u0435\u0437\u0435\u043d\u0441\u043a\u043e\u043c\u044a \u0443\u0463\u0437\u0434\u0463', '\u0420\u043e\u0441\u0442\u043e\u0432\u0441\u043a\u043e\u043c\u044a \u0443\u0463\u0437\u0434\u0463',\n",
        "       '\u0422\u0443\u043b\u044c\u0441\u043a\u0430\u0433\u043e \u0416\u0435 \u0443\u0463\u0437\u0434\u0463', '\u0413\u0430\u0434\u044f\u0446\u043a\u043e\u043c\u044a \u0443\u0463\u0437\u0434\u0463', '\u0413\u043e\u0440\u043e\u0445\u043e\u0432\u0441\u043a\u043e\u043c\u044a \u0443\u0463\u0437\u0434\u0463',\n",
        "       '\u041f\u043e\u043b\u043e\u0442\u0441\u043a\u0430', '\u041a\u0430\u0448\u0438\u043d\u0441\u043a\u043e\u043c\u044a \u0443\u0463\u0437\u0434\u0463', '\u041a\u0438\u043d\u0435\u0448\u043c\u044b', '\u0412\u0435\u0440\u0435\u0439\u0441\u043a\u043e\u043c\u044a \u0443\u0463\u0437\u0434\u0463',\n",
        "       '\u0420\u043e\u0433\u0430\u0447\u0435\u0432\u0430', '\u0411\u0463\u043b\u0438\u0446\u043a\u043e\u043c\u044a \u0443\u0463\u0437\u0434\u0463', '\u0421\u0438\u043d\u0431\u0438\u0440\u0441\u043a\u0430\u0433\u043e \u0443\u0463\u0437\u0434\u0463',\n",
        "       '\u0428\u0430\u0442\u0441\u043a\u043e\u043c\u044a \u0443\u0463\u0437\u0434\u0463', '\u0410\u043b\u0435\u043a\u0441\u0438\u043d\u0430', '\u041b\u044e\u0431\u0438\u043c\u0441\u043a\u043e\u043c\u044a \u0443\u0463\u0437\u0434\u0463',\n",
        "       '\u041e\u0441\u0442\u0440\u043e\u0432\u0441\u043a\u043e\u043c\u044a \u0443\u0463\u0437\u0434\u0463', '\u041e\u0440\u0448\u0430\u043d\u0441\u043a\u043e\u043c\u044a \u0443\u0463\u0437\u0434\u0463', '\u0411\u0463\u043b\u0435\u0432\u0441\u043a\u043e\u043c\u044a \u0443\u0463\u0437\u0434\u0463',\n",
        "       '\u0421\u0442\u0430\u0440\u043e\u0434\u0443\u0431\u043e\u0432\u0441\u043a\u043e\u043c\u044a \u0443\u0463\u0437\u0434\u0463', '\u0410\u043b\u0435\u043a\u0441\u0438\u043d\u0441\u043a\u043e\u043c\u044a \u0443\u0463\u0437\u0434\u0463',\n",
        "       '\u0427\u0435\u0440\u043d\u0438\u0433\u043e\u0432\u0441\u043a\u0430\u0433\u043e \u0443\u0463\u0437\u0434\u0463', '\u041f\u0441\u043a\u043e\u0432\u0441\u043a\u0430\u0433\u043e \u0443\u0463\u0437\u0434\u0463', '\u041a\u043e\u0437\u043b\u043e\u0432\u0441\u043a\u043e\u043c\u044a \u0443\u0463\u0437\u0434\u0463',\n",
        "       None, '\u041e\u0441\u0442\u0440\u043e\u0432\u0430', '\u041a\u0430\u0441\u0438\u043c\u043e\u0432\u0441\u043a\u043e\u043c\u044a \u0443\u0463\u0437\u0434\u0463', '\u0411\u0463\u0436\u0435\u0446\u043a\u043e\u043c\u044a \u0443\u0463\u0437\u0434\u0463',\n",
        "       '\u0421\u0442\u0430\u0440\u043e\u0431\u044b\u0445\u043e\u0432\u0441\u043a\u043e\u043c\u044a \u0443\u0463\u0437\u0434\u0463', '\u041d\u043e\u0432\u043e\u0441\u0438\u043b\u044f', '\u041a\u0438\u0440\u0435\u043d\u0441\u043a\u0430', '\u0418\u0437\u044e\u043c\u0430',\n",
        "       '\u0421\u043e\u0441\u043d\u0438\u0446\u043a\u043e\u043c\u044a \u0443\u0463\u0437\u0434\u0463', '\u041d\u0463\u0436\u0438\u043d\u0430', '\u0417\u0432\u0435\u043d\u0438\u0433\u043e\u0440\u043e\u0434\u0441\u043a\u043e\u043c\u044a \u0443\u0463\u0437\u0434\u0463',\n",
        "       '\u041a\u043e\u0440\u043e\u0447\u0435\u043d\u0441\u043a\u043e\u043c\u044a \u0443\u0463\u0437\u0434\u0463', '\u0410\u0440\u0441\u0430\u043c\u0430\u0437\u0441\u043a\u043e\u043c\u044a \u0443\u0463\u0437\u0434\u0463', '\u0427\u0435\u043b\u044f\u0431\u0438\u043d\u0441\u043a\u0430',\n",
        "       '\u0414\u0438\u043d\u0430\u0431\u0443\u0440\u0433\u0430', '\u0420\u0443\u0437\u0441\u043a\u043e\u043c\u044a \u0443\u0463\u0437\u0434\u0463', '\u041c\u0441\u0442\u0438\u0441\u043b\u0430\u0432\u0441\u043a\u043e\u043c\u044a \u0443\u0463\u0437\u0434\u0463',\n",
        "       '\u0410\u0440\u0441\u0430\u043c\u0430\u0437\u0441\u043a\u043e\u043c\u042c \u0443\u0463\u0437\u0434\u0463', '\u0411\u0463\u0436\u0435\u0446\u043a\u0430', '\u0422\u0432\u0435\u0440\u0441\u043a\u0430\u0433\u043e \u0443\u0463\u0437\u0434\u0463', '\u042e\u0440\u044c\u0435\u0432\u0446\u0430',\n",
        "       '\u0420\u044f\u0437\u0430\u043d\u0441\u043a\u0430\u0433\u043e \u0443\u0463\u0437\u0434\u0463', '\u0415\u043a\u0430\u0442\u0435\u0440\u0438\u043d\u043e\u0441\u043b\u0430\u0432\u0441\u043a\u0430\u0433\u043e \u0443\u0463\u0437\u0434\u0463',\n",
        "       '\u041a\u043e\u043b\u043e\u043c\u0435\u043d\u0441\u043a\u043e\u043c\u044a \u0443\u0463\u0437\u0434\u0463', '\u0421\u0432\u0456\u0430\u0436\u0441\u043a\u043e\u043c\u044a \u0443\u0463\u0437\u0434\u0463', '\u0413\u043e\u0440\u043e\u0445\u043e\u0432\u0435\u0446\u043a\u043e\u043c\u044a \u0443\u0463\u0437\u0434\u0463',\n",
        "       '\u0414\u043c\u0438\u0442\u0440\u043e\u0432\u0441\u043a\u043e\u043c\u044a \u0443\u0463\u0437\u0434\u0463', '\u0428\u0430\u0446\u043a\u043e\u043c\u044a \u0443\u0463\u0437\u0434\u0463', '\u041a\u0443\u0440\u0441\u043a\u0430\u0433\u043e \u0443\u0463\u0437\u0434\u0463',\n",
        "       '\u041a\u043b\u0438\u043c\u043e\u0432\u0438\u0446\u043a\u043e\u043c\u044a \u0443\u0463\u0437\u0434\u0463', '\u0410\u0445\u0442\u044b\u0440\u043a\u0438', '\u041d\u0430\u0440\u043e\u0432\u0447\u0430\u0442\u043e\u0432\u0441\u043a\u043e\u043c\u044a \u0443\u0463\u0437\u0434\u0463',\n",
        "       '\u041b\u0435\u0431\u0435\u0434\u044f\u043d\u0438', '\u041b\u0438\u0432\u0435\u043d\u0441\u043a\u043e\u043c\u044a \u0443\u0463\u0437\u0434\u0463', '\u041a\u043e\u0441\u0442\u0440\u043e\u043c\u0441\u043a\u0430\u0433\u043e \u0443\u0463\u0437\u0434\u0463',\n",
        "       '\u0427\u0435\u0440\u0438\u043a\u043e\u0432\u0441\u043a\u043e\u043c\u044a \u0443\u0463\u0437\u0434\u0463', '\u041c\u0438\u0440\u043e\u043f\u043e\u043b\u044c\u044f', '\u042f\u0440\u0435\u043d\u0441\u043a\u043e\u043c\u044a \u0443\u0463\u0437\u0434\u0463',\n",
        "       '\u0412\u0435\u0440\u0445\u043d\u0435\u0443\u0434\u0438\u043d\u0441\u043a\u0430', '\u0417\u0430\u0440\u0430\u0439\u0441\u043a\u043e\u043c\u044a \u0443\u0463\u0437\u0434\u0463', '\u0412\u0435\u043b\u0438\u043a\u043e\u043b\u0443\u0446\u043a\u043e\u043c\u044a \u0443\u0463\u0437\u0434\u0463',\n",
        "       '\u0412\u044b\u0431\u043e\u0440\u0433\u0441\u043a\u0430\u0433\u043e \u0443\u0463\u0437\u0434\u0463', '\u0425\u0430\u0440\u044c\u043a\u043e\u0432\u0430', '\u0412\u043e\u043b\u043e\u0433\u043e\u0434\u0441\u043a\u043e\u043c\u044a \u0443\u0463\u0437\u0434\u0463', '\u041a\u043e\u0437\u043b\u043e\u0432\u0430',\n",
        "       '\u0411\u0430\u0431\u0438\u043d\u043e\u0432\u0435\u0446\u043a\u043e\u043c\u044a \u0443\u0463\u0437\u0434\u0463', '\u041a\u0440\u0430\u0441\u043d\u043e\u0441\u043b\u043e\u0431\u043e\u0434\u0441\u043a\u0430'], dtype=object)"
       ]
      }
     ],
     "prompt_number": 24
    },
    {
     "cell_type": "code",
     "collapsed": false,
     "input": [
      "# Replacing variant spellings of Namiestnichestva and uyezd with a single spelling.\n",
      "market_df.ru_prov = market_df.ru_prov.replace('\u041d\u0430(?:\u043c\u0463){0,1}\u0441\u0442\u043d\u0438\u0447[\u0435\u043b]\u0441\u0442\u0432[\u0430\u0463]','\u041d\u0430\u043c\u0463\u0441\u0442\u043d\u0438\u0447\u0435\u0441\u0442\u0432\u0430',regex=True)\n",
      "market_df.ru_prov = market_df.ru_prov.replace('\u0443\u0463\u0437\u0434[\u0443\u0463]','\u0443\u0463\u0437\u0434\u0463',regex=True)"
     ],
     "language": "python",
     "metadata": {},
     "outputs": [],
     "prompt_number": 25
    },
    {
     "cell_type": "code",
     "collapsed": false,
     "input": [
      "market_df['html_text'] = market_df.text"
     ],
     "language": "python",
     "metadata": {},
     "outputs": [],
     "prompt_number": 26
    },
    {
     "cell_type": "code",
     "collapsed": false,
     "input": [
      "market_df.text = market_df.text.apply(strip_html)"
     ],
     "language": "python",
     "metadata": {},
     "outputs": [],
     "prompt_number": 27
    },
    {
     "cell_type": "markdown",
     "metadata": {},
     "source": [
      "Orthography Modernization\n",
      "========================="
     ]
    },
    {
     "cell_type": "code",
     "collapsed": false,
     "input": [
      "import re,json\n",
      "from lxml import html\n",
      "\n",
      "lookup_dict = {}\n",
      "with open(\"special_cases.json\",'r') as fp:\n",
      "    lookup_dict = json.load(fp)\n",
      "\n",
      "def ortho_rules(text,lookup_dict):\n",
      "    \"\"\"\n",
      "    Takes a text string and a lookup dict as input\n",
      "    Removes any lingering html tags\n",
      "    Breaks the string down into component words with split\n",
      "    Uses replacements to modernize orthography\n",
      "    Returns re-assembled text with modern orthography\n",
      "    \"\"\"\n",
      "    if text is not None:\n",
      "        text = html.fromstring(text).text_content()\n",
      "        textlist = text.split(' ')\n",
      "        out_list = []\n",
      "        for word in textlist:\n",
      "            if word in [',','.',';',':']:\n",
      "                out_list.append(word)\n",
      "            word = word.strip(',.;:')\n",
      "            if word in lookup_dict:\n",
      "                word = lookup_dict[word]\n",
      "                out_list.append(word)\n",
      "            else:\n",
      "                word = re.sub(\"[\u042a\u044a]$\",'',word)\n",
      "                word = re.sub(r\"^([\u0447\u0435]{0,2}[\u0447]?[\u0432\u0431\u043d\u0440]?[\u0432\u0435\u043e\u0430\u0438])\u0437([\u041f\u0424\u041a\u0422\u0428\u0421\u0427\u043f\u0444\u043a\u0442\u0448\u0441\u0447])\",r\"\\1\u0441\\2\",word,re.IGNORECASE)\n",
      "                word = re.sub(\"\u0430\u0433\u043e$\",\"\u043e\u0433\u043e\",word,re.IGNORECASE)\n",
      "                word = re.sub(\"\u044f\u0433\u043e$\",\"\u0435\u0433\u043e\",word,re.IGNORECASE)\n",
      "                word = re.sub(\"\u044b\u044f$\",\"\u044b\u0435\",word,re.IGNORECASE)\n",
      "                word = re.sub(\"i\u044f$\",\"\u0438\u0435\",word,re.IGNORECASE)\n",
      "                word = word.replace('i','\u0438') #english\n",
      "                word = word.replace('I','\u0418') #english\n",
      "                word = word.replace('\u0456','\u0438') #cyrillic\n",
      "                word = word.replace('\u0406','\u0418') #cyrillic\n",
      "                word = word.replace('\u0462','\u0415')\n",
      "                word = word.replace('\u0463','\u0435')\n",
      "                out_list.append(word)\n",
      "        out_str = ' '.join(out_list)\n",
      "        return out_str\n",
      "    else:\n",
      "        return \"None\""
     ],
     "language": "python",
     "metadata": {},
     "outputs": [],
     "prompt_number": 41
    },
    {
     "cell_type": "code",
     "collapsed": false,
     "input": [
      "market_df['name_modern_sp'] = market_df.name.apply(ortho_rules,args=[lookup_dict])\n",
      "market_df['prov_modern_sp'] = market_df.ru_prov.apply(ortho_rules,args=[lookup_dict])\n",
      "market_df['uezd_modern_sp'] = market_df.ru_uezd.apply(ortho_rules,args=[lookup_dict])\n",
      "market_df.text = market_df.text.apply(ortho_rules,args=[lookup_dict])\n",
      "market_df.head()"
     ],
     "language": "python",
     "metadata": {},
     "outputs": [
      {
       "html": [
        "<div style=\"max-height:1000px;max-width:1500px;overflow:auto;\">\n",
        "<table border=\"1\" class=\"dataframe\">\n",
        "  <thead>\n",
        "    <tr style=\"text-align: right;\">\n",
        "      <th></th>\n",
        "      <th>name</th>\n",
        "      <th>ru_uezd</th>\n",
        "      <th>_type</th>\n",
        "      <th>text</th>\n",
        "      <th>ru_prov</th>\n",
        "      <th>page</th>\n",
        "      <th>html_text</th>\n",
        "      <th>name_modern_sp</th>\n",
        "      <th>prov_modern_sp</th>\n",
        "      <th>uezd_modern_sp</th>\n",
        "    </tr>\n",
        "  </thead>\n",
        "  <tbody>\n",
        "    <tr>\n",
        "      <th>3</th>\n",
        "      <td>  \u0410\u0412\u0414\u0423\u041b\u041e\u0412\u041e</td>\n",
        "      <td>   \u0414\u043e\u043d\u043a\u043e\u0432\u0441\u043a\u043e\u043c\u044a \u0443\u0463\u0437\u0434\u0463</td>\n",
        "      <td>    \u0441\u0435\u043b\u043e</td>\n",
        "      <td> \u0418\u0412\u0410\u041d\u041e\u0412\u0421\u041a\u041e\u0415 \u0442\u043e\u0436\u044c \u0441\u0435\u043b\u043e \u0420\u044f\u0437\u0430\u043d\u0441\u043a\u043e\u0433\u043e \u041d\u0430\u043c\u0435\u0441\u0442\u043d\u0438\u0447\u0435\u0441\u0442\u0432\u0430...</td>\n",
        "      <td>     \u0420\u044f\u0437\u0430\u043d\u0441\u043a\u0430\u0433\u043e \u041d\u0430\u043c\u0463\u0441\u0442\u043d\u0438\u0447\u0435\u0441\u0442\u0432\u0430</td>\n",
        "      <td> 10</td>\n",
        "      <td>  \u0418\u0412\u0410\u041d\u041e\u0412\u0421\u041a\u041e\u0415 \u0442\u043e\u0436\u044c, &lt;/span&gt;&lt;span class=\"font0\" s...</td>\n",
        "      <td>  \u0410\u0412\u0414\u0423\u041b\u041e\u0412\u041e</td>\n",
        "      <td>     \u0420\u044f\u0437\u0430\u043d\u0441\u043a\u043e\u0433\u043e \u041d\u0430\u043c\u0435\u0441\u0442\u043d\u0438\u0447\u0435\u0441\u0442\u0432\u0430</td>\n",
        "      <td>   \u0414\u043e\u043d\u043a\u043e\u0432\u0441\u043a\u043e\u043c \u0443\u0435\u0437\u0434\u0435</td>\n",
        "    </tr>\n",
        "    <tr>\n",
        "      <th>4</th>\n",
        "      <td> \u0410\u0412\u0416\u0415\u041d\u0421\u041a\u0410\u042f</td>\n",
        "      <td>  \u0412\u043e\u043b\u043e\u0433\u043e\u0434\u0441\u043a\u0430\u0433\u043e \u0443\u0463\u0437\u0434\u0463</td>\n",
        "      <td> \u0432\u043e\u043b\u043e\u0441\u0442\u044c</td>\n",
        "      <td> \u0432\u043e\u043b\u043e\u0441\u0442\u044c \u0412\u043e\u043b\u043e\u0433\u043e\u0434\u0441\u043a\u043e\u0433\u043e \u041d\u0430\u043c\u0435\u0441\u0442\u043d\u0438\u0447\u0435\u0441\u0442\u0432\u0430 \u0438 \u0443\u0435\u0437\u0434\u0443 \u0417\u0434...</td>\n",
        "      <td>   \u0412\u043e\u043b\u043e\u0433\u043e\u0434\u0441\u043a\u0430\u0433\u043e \u041d\u0430\u043c\u0463\u0441\u0442\u043d\u0438\u0447\u0435\u0441\u0442\u0432\u0430</td>\n",
        "      <td> 10</td>\n",
        "      <td>  &lt;/span&gt;&lt;span class=\"font0\" style=\"font-style:...</td>\n",
        "      <td> \u0410\u0412\u0416\u0415\u041d\u0421\u041a\u0410\u042f</td>\n",
        "      <td>   \u0412\u043e\u043b\u043e\u0433\u043e\u0434\u0441\u043a\u043e\u0433\u043e \u041d\u0430\u043c\u0435\u0441\u0442\u043d\u0438\u0447\u0435\u0441\u0442\u0432\u0430</td>\n",
        "      <td> \u0412\u043e\u043b\u043e\u0433\u043e\u0434\u0441\u043a\u043e\u0433\u043e \u0443\u0435\u0437\u0434\u0435</td>\n",
        "    </tr>\n",
        "    <tr>\n",
        "      <th>5</th>\n",
        "      <td> \u0410\u0414\u041e\u0412\u0410\u0422\u041e\u0412\u041e</td>\n",
        "      <td>   \u0410\u0440\u0437\u0430\u043c\u0430\u0441\u043a\u043e\u043c\u044a \u0443\u0463\u0437\u0434\u0463</td>\n",
        "      <td>    \u0441\u0435\u043b\u043e</td>\n",
        "      <td> \u0441\u0435\u043b\u043e \u041d\u0438\u0436\u0435\u0433\u043e\u0440\u043e\u0434\u0441\u043a\u043e\u0433\u043e \u041d\u0430\u043c\u0435\u0441\u0442\u043d\u0438\u0447\u0435\u0441\u0442\u0432\u0430 \u0432 \u0410\u0440\u0437\u0430\u043c\u0430\u0441\u043a\u043e...</td>\n",
        "      <td> \u041d\u0438\u0436\u0435\u0433\u043e\u0440\u043e\u0434\u0441\u043a\u0430\u0433\u043e \u041d\u0430\u043c\u0463\u0441\u0442\u043d\u0438\u0447\u0435\u0441\u0442\u0432\u0430</td>\n",
        "      <td> 10</td>\n",
        "      <td>  &lt;/span&gt;&lt;span class=\"font0\" style=\"font-style:...</td>\n",
        "      <td> \u0410\u0414\u041e\u0412\u0410\u0422\u041e\u0412\u041e</td>\n",
        "      <td> \u041d\u0438\u0436\u0435\u0433\u043e\u0440\u043e\u0434\u0441\u043a\u043e\u0433\u043e \u041d\u0430\u043c\u0435\u0441\u0442\u043d\u0438\u0447\u0435\u0441\u0442\u0432\u0430</td>\n",
        "      <td>   \u0410\u0440\u0437\u0430\u043c\u0430\u0441\u043a\u043e\u043c \u0443\u0435\u0437\u0434\u0435</td>\n",
        "    </tr>\n",
        "    <tr>\n",
        "      <th>6</th>\n",
        "      <td>    \u0410\u041a\u0421\u0415\u041b\u042c</td>\n",
        "      <td> \u0422\u0435\u043c\u043d\u0438\u043a\u043e\u0432\u0441\u043a\u043e\u043c\u044a \u0443\u0463\u0437\u0434\u0463</td>\n",
        "      <td>    \u0441\u0435\u043b\u043e</td>\n",
        "      <td> \u0441\u0435\u043b\u043e \u0422\u0430\u043c\u0431\u043e\u0432\u0441\u043a\u043e\u0433\u043e \u041d\u0430\u043c\u0435\u0441\u0442\u043d\u0438\u0447\u0435\u0441\u0442\u0432\u0430 \u0432 \u0422\u0435\u043c\u043d\u0438\u043a\u043e\u0432\u0441\u043a\u043e\u043c...</td>\n",
        "      <td>    \u0422\u0430\u043c\u0431\u043e\u0432\u0441\u043a\u0430\u0433\u043e \u041d\u0430\u043c\u0463\u0441\u0442\u043d\u0438\u0447\u0435\u0441\u0442\u0432\u0430</td>\n",
        "      <td> 10</td>\n",
        "      <td>  &lt;/span&gt;&lt;span class=\"font0\" style=\"font-style:...</td>\n",
        "      <td>    \u0410\u041a\u0421\u0415\u041b\u042c</td>\n",
        "      <td>    \u0422\u0430\u043c\u0431\u043e\u0432\u0441\u043a\u043e\u0433\u043e \u041d\u0430\u043c\u0435\u0441\u0442\u043d\u0438\u0447\u0435\u0441\u0442\u0432\u0430</td>\n",
        "      <td> \u0422\u0435\u043c\u043d\u0438\u043a\u043e\u0432\u0441\u043a\u043e\u043c \u0443\u0435\u0437\u0434\u0435</td>\n",
        "    </tr>\n",
        "    <tr>\n",
        "      <th>7</th>\n",
        "      <td>   \u0410\u041b\u0410\u0422\u042b\u0420\u042c</td>\n",
        "      <td>         not_in_text</td>\n",
        "      <td>  \u0433\u043e\u0440\u043e\u0434\u044a</td>\n",
        "      <td> \u0433\u043e\u0440\u043e\u0434 \u0421\u0438\u043d\u0431\u0438\u0440\u0441\u043a\u043e\u0433\u043e \u041d\u0430\u043c\u0435\u0441\u0442\u043d\u0438\u0447\u0435\u0441\u0442\u0432\u0430 \u0412 \u0443\u0435\u0437\u0434\u0435 \u0441\u0435\u0433\u043e ...</td>\n",
        "      <td>    \u0421\u0438\u043d\u0431\u0438\u0440\u0441\u043a\u0430\u0433\u043e \u041d\u0430\u043c\u0463\u0441\u0442\u043d\u0438\u0447\u0435\u0441\u0442\u0432\u0430</td>\n",
        "      <td> 10</td>\n",
        "      <td>  &lt;/span&gt;&lt;span class=\"font0\" style=\"font-style:...</td>\n",
        "      <td>   \u0410\u041b\u0410\u0422\u042b\u0420\u042c</td>\n",
        "      <td>    \u0421\u0438\u043d\u0431\u0438\u0440\u0441\u043a\u043e\u0433\u043e \u041d\u0430\u043c\u0435\u0441\u0442\u043d\u0438\u0447\u0435\u0441\u0442\u0432\u0430</td>\n",
        "      <td>        not_\u0438n_text</td>\n",
        "    </tr>\n",
        "  </tbody>\n",
        "</table>\n",
        "</div>"
       ],
       "metadata": {},
       "output_type": "pyout",
       "prompt_number": 43,
       "text": [
        "        name              ru_uezd    _type  \\\n",
        "3   \u0410\u0412\u0414\u0423\u041b\u041e\u0412\u041e    \u0414\u043e\u043d\u043a\u043e\u0432\u0441\u043a\u043e\u043c\u044a \u0443\u0463\u0437\u0434\u0463     \u0441\u0435\u043b\u043e   \n",
        "4  \u0410\u0412\u0416\u0415\u041d\u0421\u041a\u0410\u042f   \u0412\u043e\u043b\u043e\u0433\u043e\u0434\u0441\u043a\u0430\u0433\u043e \u0443\u0463\u0437\u0434\u0463  \u0432\u043e\u043b\u043e\u0441\u0442\u044c   \n",
        "5  \u0410\u0414\u041e\u0412\u0410\u0422\u041e\u0412\u041e    \u0410\u0440\u0437\u0430\u043c\u0430\u0441\u043a\u043e\u043c\u044a \u0443\u0463\u0437\u0434\u0463     \u0441\u0435\u043b\u043e   \n",
        "6     \u0410\u041a\u0421\u0415\u041b\u042c  \u0422\u0435\u043c\u043d\u0438\u043a\u043e\u0432\u0441\u043a\u043e\u043c\u044a \u0443\u0463\u0437\u0434\u0463     \u0441\u0435\u043b\u043e   \n",
        "7    \u0410\u041b\u0410\u0422\u042b\u0420\u042c          not_in_text   \u0433\u043e\u0440\u043e\u0434\u044a   \n",
        "\n",
        "                                                text  \\\n",
        "3  \u0418\u0412\u0410\u041d\u041e\u0412\u0421\u041a\u041e\u0415 \u0442\u043e\u0436\u044c \u0441\u0435\u043b\u043e \u0420\u044f\u0437\u0430\u043d\u0441\u043a\u043e\u0433\u043e \u041d\u0430\u043c\u0435\u0441\u0442\u043d\u0438\u0447\u0435\u0441\u0442\u0432\u0430...   \n",
        "4  \u0432\u043e\u043b\u043e\u0441\u0442\u044c \u0412\u043e\u043b\u043e\u0433\u043e\u0434\u0441\u043a\u043e\u0433\u043e \u041d\u0430\u043c\u0435\u0441\u0442\u043d\u0438\u0447\u0435\u0441\u0442\u0432\u0430 \u0438 \u0443\u0435\u0437\u0434\u0443 \u0417\u0434...   \n",
        "5  \u0441\u0435\u043b\u043e \u041d\u0438\u0436\u0435\u0433\u043e\u0440\u043e\u0434\u0441\u043a\u043e\u0433\u043e \u041d\u0430\u043c\u0435\u0441\u0442\u043d\u0438\u0447\u0435\u0441\u0442\u0432\u0430 \u0432 \u0410\u0440\u0437\u0430\u043c\u0430\u0441\u043a\u043e...   \n",
        "6  \u0441\u0435\u043b\u043e \u0422\u0430\u043c\u0431\u043e\u0432\u0441\u043a\u043e\u0433\u043e \u041d\u0430\u043c\u0435\u0441\u0442\u043d\u0438\u0447\u0435\u0441\u0442\u0432\u0430 \u0432 \u0422\u0435\u043c\u043d\u0438\u043a\u043e\u0432\u0441\u043a\u043e\u043c...   \n",
        "7  \u0433\u043e\u0440\u043e\u0434 \u0421\u0438\u043d\u0431\u0438\u0440\u0441\u043a\u043e\u0433\u043e \u041d\u0430\u043c\u0435\u0441\u0442\u043d\u0438\u0447\u0435\u0441\u0442\u0432\u0430 \u0412 \u0443\u0435\u0437\u0434\u0435 \u0441\u0435\u0433\u043e ...   \n",
        "\n",
        "                         ru_prov  page  \\\n",
        "3      \u0420\u044f\u0437\u0430\u043d\u0441\u043a\u0430\u0433\u043e \u041d\u0430\u043c\u0463\u0441\u0442\u043d\u0438\u0447\u0435\u0441\u0442\u0432\u0430    10   \n",
        "4    \u0412\u043e\u043b\u043e\u0433\u043e\u0434\u0441\u043a\u0430\u0433\u043e \u041d\u0430\u043c\u0463\u0441\u0442\u043d\u0438\u0447\u0435\u0441\u0442\u0432\u0430    10   \n",
        "5  \u041d\u0438\u0436\u0435\u0433\u043e\u0440\u043e\u0434\u0441\u043a\u0430\u0433\u043e \u041d\u0430\u043c\u0463\u0441\u0442\u043d\u0438\u0447\u0435\u0441\u0442\u0432\u0430    10   \n",
        "6     \u0422\u0430\u043c\u0431\u043e\u0432\u0441\u043a\u0430\u0433\u043e \u041d\u0430\u043c\u0463\u0441\u0442\u043d\u0438\u0447\u0435\u0441\u0442\u0432\u0430    10   \n",
        "7     \u0421\u0438\u043d\u0431\u0438\u0440\u0441\u043a\u0430\u0433\u043e \u041d\u0430\u043c\u0463\u0441\u0442\u043d\u0438\u0447\u0435\u0441\u0442\u0432\u0430    10   \n",
        "\n",
        "                                           html_text name_modern_sp  \\\n",
        "3   \u0418\u0412\u0410\u041d\u041e\u0412\u0421\u041a\u041e\u0415 \u0442\u043e\u0436\u044c, </span><span class=\"font0\" s...       \u0410\u0412\u0414\u0423\u041b\u041e\u0412\u041e   \n",
        "4   </span><span class=\"font0\" style=\"font-style:...      \u0410\u0412\u0416\u0415\u041d\u0421\u041a\u0410\u042f   \n",
        "5   </span><span class=\"font0\" style=\"font-style:...      \u0410\u0414\u041e\u0412\u0410\u0422\u041e\u0412\u041e   \n",
        "6   </span><span class=\"font0\" style=\"font-style:...         \u0410\u041a\u0421\u0415\u041b\u042c   \n",
        "7   </span><span class=\"font0\" style=\"font-style:...        \u0410\u041b\u0410\u0422\u042b\u0420\u042c   \n",
        "\n",
        "                  prov_modern_sp      uezd_modern_sp  \n",
        "3      \u0420\u044f\u0437\u0430\u043d\u0441\u043a\u043e\u0433\u043e \u041d\u0430\u043c\u0435\u0441\u0442\u043d\u0438\u0447\u0435\u0441\u0442\u0432\u0430    \u0414\u043e\u043d\u043a\u043e\u0432\u0441\u043a\u043e\u043c \u0443\u0435\u0437\u0434\u0435  \n",
        "4    \u0412\u043e\u043b\u043e\u0433\u043e\u0434\u0441\u043a\u043e\u0433\u043e \u041d\u0430\u043c\u0435\u0441\u0442\u043d\u0438\u0447\u0435\u0441\u0442\u0432\u0430  \u0412\u043e\u043b\u043e\u0433\u043e\u0434\u0441\u043a\u043e\u0433\u043e \u0443\u0435\u0437\u0434\u0435  \n",
        "5  \u041d\u0438\u0436\u0435\u0433\u043e\u0440\u043e\u0434\u0441\u043a\u043e\u0433\u043e \u041d\u0430\u043c\u0435\u0441\u0442\u043d\u0438\u0447\u0435\u0441\u0442\u0432\u0430    \u0410\u0440\u0437\u0430\u043c\u0430\u0441\u043a\u043e\u043c \u0443\u0435\u0437\u0434\u0435  \n",
        "6     \u0422\u0430\u043c\u0431\u043e\u0432\u0441\u043a\u043e\u0433\u043e \u041d\u0430\u043c\u0435\u0441\u0442\u043d\u0438\u0447\u0435\u0441\u0442\u0432\u0430  \u0422\u0435\u043c\u043d\u0438\u043a\u043e\u0432\u0441\u043a\u043e\u043c \u0443\u0435\u0437\u0434\u0435  \n",
        "7     \u0421\u0438\u043d\u0431\u0438\u0440\u0441\u043a\u043e\u0433\u043e \u041d\u0430\u043c\u0435\u0441\u0442\u043d\u0438\u0447\u0435\u0441\u0442\u0432\u0430         not_\u0438n_text  "
       ]
      }
     ],
     "prompt_number": 43
    },
    {
     "cell_type": "markdown",
     "metadata": {},
     "source": [
      "Lemmatization\n",
      "=============\n",
      "Here's where we start lemmatizing some of the text. `ru_stemmer` below uses the nltk snowball stemmer to generalize terms."
     ]
    },
    {
     "cell_type": "code",
     "collapsed": false,
     "input": [
      "import nltk"
     ],
     "language": "python",
     "metadata": {},
     "outputs": [],
     "prompt_number": 44
    },
    {
     "cell_type": "code",
     "collapsed": false,
     "input": [
      "ru_stemmer = nltk.stem.SnowballStemmer('russian')"
     ],
     "language": "python",
     "metadata": {},
     "outputs": [],
     "prompt_number": 45
    },
    {
     "cell_type": "code",
     "collapsed": false,
     "input": [
      "market_df['prov_stem'] = market_df.prov_modern_sp.replace(' [\u0410-\u042f\u0430-\u044f]+$','',regex=True).apply(ru_stemmer.stem)\n",
      "market_df['uezd_stem'] = market_df.uezd_modern_sp.replace(' \u0443\u0435\u0437\u0434\u0435$','',regex=True).apply(ru_stemmer.stem)"
     ],
     "language": "python",
     "metadata": {},
     "outputs": [],
     "prompt_number": 46
    },
    {
     "cell_type": "code",
     "collapsed": false,
     "input": [
      "#standardizing names from stems\n",
      "market_df.prov_stem = market_df.prov_stem.replace('\u0432\u043b\u0430\u0434\u0438\u043c\u0435\u0440\u043a','\u0432\u043b\u0430\u0434\u0438\u043c\u0435\u0440\u0441\u043a')\n",
      "market_df.prov_stem = market_df.prov_stem.replace('\u0432\u043e\u043b\u043e\u0434\u0438\u043c\u0435\u0440\u0441\u043a','\u0432\u043b\u0430\u0434\u0438\u043c\u0435\u0440\u0441\u043a')\n",
      "market_df.prov_stem = market_df.prov_stem.replace('\u0432\u043e\u0440\u043e\u043d\u0435\u0436\u0441\u043a','\u0432\u043e\u0440\u043e\u043d\u0435\u0436')\n",
      "market_df.prov_stem = market_df.prov_stem.replace('\u0432\u044b\u0431\u043e\u0440\u0433\u0441\u043a','\u0432\u044b\u0431\u043e\u0440\u0433')\n",
      "market_df.prov_stem = market_df.prov_stem.replace('\u043a\u043e\u0441\u0442\u0440\u043e\u043c\u0441\u043a','\u043a\u043e\u0441\u0442\u0440\u043e\u043c\u0430')\n",
      "market_df.prov_stem = market_df.prov_stem.replace('\u043a\u043e\u0441\u0442\u0440\u043e\u043c','\u043a\u043e\u0441\u0442\u0440\u043e\u043c\u0430')\n",
      "market_df.prov_stem = market_df.prov_stem.replace('\u043a\u043e\u0441\u0442\u0440\u043e\u043c','\u043a\u043e\u0441\u0442\u0440\u043e\u043c\u0430')"
     ],
     "language": "python",
     "metadata": {},
     "outputs": [],
     "prompt_number": 47
    },
    {
     "cell_type": "code",
     "collapsed": false,
     "input": [
      "market_df['admin_hierarchy'] = market_df.prov_stem\n",
      "cond = market_df.ru_uezd != 'not_in_text'\n",
      "market_df.admin_hierarchy[cond] = market_df.admin_hierarchy + \"|\" + market_df.uezd_stem"
     ],
     "language": "python",
     "metadata": {},
     "outputs": [],
     "prompt_number": 48
    },
    {
     "cell_type": "markdown",
     "metadata": {},
     "source": [
      "This cell is simply to output the resulting data frame as an excel spreadsheet for manipulation in other programs. It is not currently in use."
     ]
    },
    {
     "cell_type": "code",
     "collapsed": false,
     "input": [
      "market_df.to_excel(\"no_geo.xlsx\",encoding=\"utf-8\")"
     ],
     "language": "python",
     "metadata": {},
     "outputs": [],
     "prompt_number": 49
    },
    {
     "cell_type": "code",
     "collapsed": false,
     "input": [
      "len(market_df.ix[market_df.ru_uezd!='not_in_text'])/len(market_df)"
     ],
     "language": "python",
     "metadata": {},
     "outputs": [
      {
       "metadata": {},
       "output_type": "pyout",
       "prompt_number": 50,
       "text": [
        "0.545"
       ]
      }
     ],
     "prompt_number": 50
    },
    {
     "cell_type": "code",
     "collapsed": false,
     "input": [
      "market_df.ix[np.logical_and(market_df.ru_prov=='not_in_text',market_df.ru_uezd!='not_in_text')]"
     ],
     "language": "python",
     "metadata": {},
     "outputs": [
      {
       "html": [
        "<div style=\"max-height:1000px;max-width:1500px;overflow:auto;\">\n",
        "<table border=\"1\" class=\"dataframe\">\n",
        "  <thead>\n",
        "    <tr style=\"text-align: right;\">\n",
        "      <th></th>\n",
        "      <th>name</th>\n",
        "      <th>ru_uezd</th>\n",
        "      <th>_type</th>\n",
        "      <th>text</th>\n",
        "      <th>ru_prov</th>\n",
        "      <th>page</th>\n",
        "      <th>html_text</th>\n",
        "      <th>name_modern_sp</th>\n",
        "      <th>prov_modern_sp</th>\n",
        "      <th>uezd_modern_sp</th>\n",
        "      <th>prov_stem</th>\n",
        "      <th>uezd_stem</th>\n",
        "      <th>admin_hierarchy</th>\n",
        "    </tr>\n",
        "  </thead>\n",
        "  <tbody>\n",
        "    <tr>\n",
        "      <th>76 </th>\n",
        "      <td> \u0411\u0423\u0420\u0415\u0426\u041a\u041e\u0419</td>\n",
        "      <td> \u041d\u043e\u0432\u0433\u043e\u0440\u043e\u0434\u0441\u043a\u043e\u043c\u044a \u0443\u0463\u0437\u0434\u0463</td>\n",
        "      <td>   \u043f\u043e\u0433\u043e\u0441\u0442\u044a</td>\n",
        "      <td> \u043f\u043e\u0433\u043e\u0441\u0442 \u0432 \u041d\u043e\u0432\u0433\u043e\u0440\u043e\u0434\u0441\u043a\u043e\u043c \u0443\u0435\u0437\u0434\u0435 \u0417\u0434\u0435\u0441\u044c \u0431\u044b\u0432\u0430\u0435\u0442 \u0433\u043e\u0434\u043e\u0432...</td>\n",
        "      <td> not_in_text</td>\n",
        "      <td> 22</td>\n",
        "      <td>  &lt;/span&gt;&lt;span class=\"font0\" style=\"font-style:...</td>\n",
        "      <td> \u0411\u0423\u0420\u0415\u0426\u041a\u041e\u0419</td>\n",
        "      <td> not_\u0438n_text</td>\n",
        "      <td> \u041d\u043e\u0432\u0433\u043e\u0440\u043e\u0434\u0441\u043a\u043e\u043c \u0443\u0435\u0437\u0434\u0435</td>\n",
        "      <td> \u043d\u043e\u0442_\u0438\u043d_\u0442\u0435x\u0442</td>\n",
        "      <td> \u043d\u043e\u0432\u0433\u043e\u0440\u043e\u0434\u0441\u043a</td>\n",
        "      <td> \u043d\u043e\u0442_\u0438\u043d_\u0442\u0435x\u0442|\u043d\u043e\u0432\u0433\u043e\u0440\u043e\u0434\u0441\u043a</td>\n",
        "    </tr>\n",
        "    <tr>\n",
        "      <th>120</th>\n",
        "      <td>  \u0412\u041e\u041b\u042b\u041d\u0426\u042b</td>\n",
        "      <td>            \u041f\u043e\u043b\u043e\u0442\u0441\u043a\u0430</td>\n",
        "      <td>  \u043c\u0463\u0441\u0442\u0435\u0447\u043a\u043e</td>\n",
        "      <td> \u043c\u0435\u0441\u0442\u0435\u0447\u043a\u043e \u0432 \u0443\u0435\u0437\u0434\u0435 \u0433\u043e\u0440\u043e\u0434\u0430 \u041f\u043e\u043b\u043e\u0442\u0441\u043a\u0430 \u0417\u0434\u0435\u0441\u044c \u0431\u044b\u0432\u0430\u0435\u0442 ...</td>\n",
        "      <td> not_in_text</td>\n",
        "      <td> 29</td>\n",
        "      <td>  &lt;/span&gt;&lt;span class=\"font0\" style=\"font-style:...</td>\n",
        "      <td>  \u0412\u041e\u041b\u042b\u041d\u0426\u042b</td>\n",
        "      <td> not_\u0438n_text</td>\n",
        "      <td>           \u041f\u043e\u043b\u043e\u0442\u0441\u043a\u0430</td>\n",
        "      <td> \u043d\u043e\u0442_\u0438\u043d_\u0442\u0435x\u0442</td>\n",
        "      <td>    \u043f\u043e\u043b\u043e\u0442\u0441\u043a</td>\n",
        "      <td>    \u043d\u043e\u0442_\u0438\u043d_\u0442\u0435x\u0442|\u043f\u043e\u043b\u043e\u0442\u0441\u043a</td>\n",
        "    </tr>\n",
        "    <tr>\n",
        "      <th>382</th>\n",
        "      <td>    \u041b\u0418\u041f\u0426\u042b</td>\n",
        "      <td>            \u0425\u0430\u0440\u044c\u043a\u043e\u0432\u0430</td>\n",
        "      <td>   \u0441\u043b\u043e\u0431\u043e\u0434\u0430</td>\n",
        "      <td> \u0441\u043b\u043e\u0431\u043e\u0434\u0430 \u0432 \u0443\u0435\u0437\u0434\u0435 \u0433\u043e\u0440\u043e\u0434\u0430 \u0425\u0430\u0440\u044c\u043a\u043e\u0432\u0430 \u0417\u0434\u0435\u0441\u044c \u0431\u044b\u0432\u0430\u044e\u0442 \u044f...</td>\n",
        "      <td> not_in_text</td>\n",
        "      <td> 67</td>\n",
        "      <td>  &lt;/span&gt;&lt;span class=\"font0\" style=\"font-style:...</td>\n",
        "      <td>    \u041b\u0418\u041f\u0426\u042b</td>\n",
        "      <td> not_\u0438n_text</td>\n",
        "      <td>           \u0425\u0430\u0440\u044c\u043a\u043e\u0432\u0430</td>\n",
        "      <td> \u043d\u043e\u0442_\u0438\u043d_\u0442\u0435x\u0442</td>\n",
        "      <td>    \u0445\u0430\u0440\u044c\u043a\u043e\u0432</td>\n",
        "      <td>    \u043d\u043e\u0442_\u0438\u043d_\u0442\u0435x\u0442|\u0445\u0430\u0440\u044c\u043a\u043e\u0432</td>\n",
        "    </tr>\n",
        "    <tr>\n",
        "      <th>383</th>\n",
        "      <td>   \u041b\u0418\u0421\u041a\u041e\u0419</td>\n",
        "      <td>  \u0412\u043e\u043b\u043e\u0433\u043e\u0434\u0441\u043a\u043e\u043c\u044a \u0443\u0463\u0437\u0434\u0463</td>\n",
        "      <td>    \u0432\u043e\u043b\u043e\u043a\u044a</td>\n",
        "      <td> \u0432\u043e\u043b\u043e\u043a ,  \u0447\u0442\u043e \u043d\u0430 \u0421\u0438\u043d\u0433\u0435 \u0432 \u0412\u043e\u043b\u043e\u0433\u043e\u0434\u0441\u043a\u043e\u043c \u0443\u0435\u0437\u0434\u0435 \u0417\u0434\u0435\u0441...</td>\n",
        "      <td> not_in_text</td>\n",
        "      <td> 67</td>\n",
        "      <td>  &lt;/span&gt;&lt;span class=\"font0\" style=\"font-style:...</td>\n",
        "      <td>   \u041b\u0418\u0421\u041a\u041e\u0419</td>\n",
        "      <td> not_\u0438n_text</td>\n",
        "      <td>  \u0412\u043e\u043b\u043e\u0433\u043e\u0434\u0441\u043a\u043e\u043c \u0443\u0435\u0437\u0434\u0435</td>\n",
        "      <td> \u043d\u043e\u0442_\u0438\u043d_\u0442\u0435x\u0442</td>\n",
        "      <td>  \u0432\u043e\u043b\u043e\u0433\u043e\u0434\u0441\u043a</td>\n",
        "      <td>  \u043d\u043e\u0442_\u0438\u043d_\u0442\u0435x\u0442|\u0432\u043e\u043b\u043e\u0433\u043e\u0434\u0441\u043a</td>\n",
        "    </tr>\n",
        "    <tr>\n",
        "      <th>385</th>\n",
        "      <td> \u041b\u041e\u041f\u041e\u0422\u041e\u0412\u042a</td>\n",
        "      <td>  \u0412\u043e\u043b\u043e\u0433\u043e\u0434\u0441\u043a\u043e\u043c\u044a \u0443\u0463\u0437\u0434\u0463</td>\n",
        "      <td> \u043c\u043e\u043d\u0430\u0441\u0442\u044b\u0440\u044c</td>\n",
        "      <td> \u043c\u043e\u043d\u0430\u0441\u0442\u044b\u0440\u044c \u0432 \u0412\u043e\u043b\u043e\u0433\u043e\u0434\u0441\u043a\u043e\u043c \u0443\u0435\u0437\u0434\u0435 \u0417\u0434\u0435\u0441\u044c \u0431\u044b\u0432\u0430\u0435\u0442 \u043e\u0434\u043d...</td>\n",
        "      <td> not_in_text</td>\n",
        "      <td> 67</td>\n",
        "      <td>  &lt;/span&gt;&lt;span class=\"font0\" style=\"font-style:...</td>\n",
        "      <td>  \u041b\u041e\u041f\u041e\u0422\u041e\u0412</td>\n",
        "      <td> not_\u0438n_text</td>\n",
        "      <td>  \u0412\u043e\u043b\u043e\u0433\u043e\u0434\u0441\u043a\u043e\u043c \u0443\u0435\u0437\u0434\u0435</td>\n",
        "      <td> \u043d\u043e\u0442_\u0438\u043d_\u0442\u0435x\u0442</td>\n",
        "      <td>  \u0432\u043e\u043b\u043e\u0433\u043e\u0434\u0441\u043a</td>\n",
        "      <td>  \u043d\u043e\u0442_\u0438\u043d_\u0442\u0435x\u0442|\u0432\u043e\u043b\u043e\u0433\u043e\u0434\u0441\u043a</td>\n",
        "    </tr>\n",
        "  </tbody>\n",
        "</table>\n",
        "</div>"
       ],
       "metadata": {},
       "output_type": "pyout",
       "prompt_number": 51,
       "text": [
        "         name              ru_uezd      _type  \\\n",
        "76   \u0411\u0423\u0420\u0415\u0426\u041a\u041e\u0419  \u041d\u043e\u0432\u0433\u043e\u0440\u043e\u0434\u0441\u043a\u043e\u043c\u044a \u0443\u0463\u0437\u0434\u0463    \u043f\u043e\u0433\u043e\u0441\u0442\u044a   \n",
        "120   \u0412\u041e\u041b\u042b\u041d\u0426\u042b             \u041f\u043e\u043b\u043e\u0442\u0441\u043a\u0430   \u043c\u0463\u0441\u0442\u0435\u0447\u043a\u043e   \n",
        "382     \u041b\u0418\u041f\u0426\u042b             \u0425\u0430\u0440\u044c\u043a\u043e\u0432\u0430    \u0441\u043b\u043e\u0431\u043e\u0434\u0430   \n",
        "383    \u041b\u0418\u0421\u041a\u041e\u0419   \u0412\u043e\u043b\u043e\u0433\u043e\u0434\u0441\u043a\u043e\u043c\u044a \u0443\u0463\u0437\u0434\u0463     \u0432\u043e\u043b\u043e\u043a\u044a   \n",
        "385  \u041b\u041e\u041f\u041e\u0422\u041e\u0412\u042a   \u0412\u043e\u043b\u043e\u0433\u043e\u0434\u0441\u043a\u043e\u043c\u044a \u0443\u0463\u0437\u0434\u0463  \u043c\u043e\u043d\u0430\u0441\u0442\u044b\u0440\u044c   \n",
        "\n",
        "                                                  text      ru_prov  page  \\\n",
        "76   \u043f\u043e\u0433\u043e\u0441\u0442 \u0432 \u041d\u043e\u0432\u0433\u043e\u0440\u043e\u0434\u0441\u043a\u043e\u043c \u0443\u0435\u0437\u0434\u0435 \u0417\u0434\u0435\u0441\u044c \u0431\u044b\u0432\u0430\u0435\u0442 \u0433\u043e\u0434\u043e\u0432...  not_in_text    22   \n",
        "120  \u043c\u0435\u0441\u0442\u0435\u0447\u043a\u043e \u0432 \u0443\u0435\u0437\u0434\u0435 \u0433\u043e\u0440\u043e\u0434\u0430 \u041f\u043e\u043b\u043e\u0442\u0441\u043a\u0430 \u0417\u0434\u0435\u0441\u044c \u0431\u044b\u0432\u0430\u0435\u0442 ...  not_in_text    29   \n",
        "382  \u0441\u043b\u043e\u0431\u043e\u0434\u0430 \u0432 \u0443\u0435\u0437\u0434\u0435 \u0433\u043e\u0440\u043e\u0434\u0430 \u0425\u0430\u0440\u044c\u043a\u043e\u0432\u0430 \u0417\u0434\u0435\u0441\u044c \u0431\u044b\u0432\u0430\u044e\u0442 \u044f...  not_in_text    67   \n",
        "383  \u0432\u043e\u043b\u043e\u043a ,  \u0447\u0442\u043e \u043d\u0430 \u0421\u0438\u043d\u0433\u0435 \u0432 \u0412\u043e\u043b\u043e\u0433\u043e\u0434\u0441\u043a\u043e\u043c \u0443\u0435\u0437\u0434\u0435 \u0417\u0434\u0435\u0441...  not_in_text    67   \n",
        "385  \u043c\u043e\u043d\u0430\u0441\u0442\u044b\u0440\u044c \u0432 \u0412\u043e\u043b\u043e\u0433\u043e\u0434\u0441\u043a\u043e\u043c \u0443\u0435\u0437\u0434\u0435 \u0417\u0434\u0435\u0441\u044c \u0431\u044b\u0432\u0430\u0435\u0442 \u043e\u0434\u043d...  not_in_text    67   \n",
        "\n",
        "                                             html_text name_modern_sp  \\\n",
        "76    </span><span class=\"font0\" style=\"font-style:...       \u0411\u0423\u0420\u0415\u0426\u041a\u041e\u0419   \n",
        "120   </span><span class=\"font0\" style=\"font-style:...        \u0412\u041e\u041b\u042b\u041d\u0426\u042b   \n",
        "382   </span><span class=\"font0\" style=\"font-style:...          \u041b\u0418\u041f\u0426\u042b   \n",
        "383   </span><span class=\"font0\" style=\"font-style:...         \u041b\u0418\u0421\u041a\u041e\u0419   \n",
        "385   </span><span class=\"font0\" style=\"font-style:...        \u041b\u041e\u041f\u041e\u0422\u041e\u0412   \n",
        "\n",
        "    prov_modern_sp      uezd_modern_sp    prov_stem   uezd_stem  \\\n",
        "76     not_\u0438n_text  \u041d\u043e\u0432\u0433\u043e\u0440\u043e\u0434\u0441\u043a\u043e\u043c \u0443\u0435\u0437\u0434\u0435  \u043d\u043e\u0442_\u0438\u043d_\u0442\u0435x\u0442  \u043d\u043e\u0432\u0433\u043e\u0440\u043e\u0434\u0441\u043a   \n",
        "120    not_\u0438n_text            \u041f\u043e\u043b\u043e\u0442\u0441\u043a\u0430  \u043d\u043e\u0442_\u0438\u043d_\u0442\u0435x\u0442     \u043f\u043e\u043b\u043e\u0442\u0441\u043a   \n",
        "382    not_\u0438n_text            \u0425\u0430\u0440\u044c\u043a\u043e\u0432\u0430  \u043d\u043e\u0442_\u0438\u043d_\u0442\u0435x\u0442     \u0445\u0430\u0440\u044c\u043a\u043e\u0432   \n",
        "383    not_\u0438n_text   \u0412\u043e\u043b\u043e\u0433\u043e\u0434\u0441\u043a\u043e\u043c \u0443\u0435\u0437\u0434\u0435  \u043d\u043e\u0442_\u0438\u043d_\u0442\u0435x\u0442   \u0432\u043e\u043b\u043e\u0433\u043e\u0434\u0441\u043a   \n",
        "385    not_\u0438n_text   \u0412\u043e\u043b\u043e\u0433\u043e\u0434\u0441\u043a\u043e\u043c \u0443\u0435\u0437\u0434\u0435  \u043d\u043e\u0442_\u0438\u043d_\u0442\u0435x\u0442   \u0432\u043e\u043b\u043e\u0433\u043e\u0434\u0441\u043a   \n",
        "\n",
        "            admin_hierarchy  \n",
        "76   \u043d\u043e\u0442_\u0438\u043d_\u0442\u0435x\u0442|\u043d\u043e\u0432\u0433\u043e\u0440\u043e\u0434\u0441\u043a  \n",
        "120     \u043d\u043e\u0442_\u0438\u043d_\u0442\u0435x\u0442|\u043f\u043e\u043b\u043e\u0442\u0441\u043a  \n",
        "382     \u043d\u043e\u0442_\u0438\u043d_\u0442\u0435x\u0442|\u0445\u0430\u0440\u044c\u043a\u043e\u0432  \n",
        "383   \u043d\u043e\u0442_\u0438\u043d_\u0442\u0435x\u0442|\u0432\u043e\u043b\u043e\u0433\u043e\u0434\u0441\u043a  \n",
        "385   \u043d\u043e\u0442_\u0438\u043d_\u0442\u0435x\u0442|\u0432\u043e\u043b\u043e\u0433\u043e\u0434\u0441\u043a  "
       ]
      }
     ],
     "prompt_number": 51
    },
    {
     "cell_type": "markdown",
     "metadata": {},
     "source": [
      "Geocoding begins here!\n",
      "======================"
     ]
    },
    {
     "cell_type": "code",
     "collapsed": false,
     "input": [
      "def geonames_lookup(placename,placeid,east=180,west=-180,north=90,south=-90):\n",
      "    keepgoing = True\n",
      "    returnlist = []\n",
      "    while keepgoing == True:\n",
      "        Ensure_dir(\"geonames_jsons\")\n",
      "        if os.path.exists(\"geonames_jsons/{}.json\".format(placename)):\n",
      "            with open(\"geonames_jsons/{}.json\".format(placename),\"r\",encoding='utf-8') as fp:\n",
      "                geonames_json = json.load(fp)\n",
      "            out_url = \"geonames_jsons/{}.json\".format(placename)\n",
      "            print(\"{} loaded from json\".format(placename))\n",
      "        else:\n",
      "            url = \"http://api.geonames.org/search\"\n",
      "            Q = {'type':'json','username':'jaguillette','featureClass':'P','name':placename,'north':north,'south':south,'east':east,'west':west}\n",
      "            R = requests.get(url,params=Q)\n",
      "            out_url = R.url\n",
      "            geonames_json = R.json()\n",
      "            time.sleep(1)\n",
      "        if geonames_json['totalResultsCount'] != 0:\n",
      "            for x in range(0,len(geonames_json['geonames'])):\n",
      "                geo_placename = geonames_json['geonames'][x]['name']\n",
      "                geo_admin1 = geonames_json['geonames'][x]['adminName1']\n",
      "                geo_countryname = geonames_json['geonames'][x]['countryName']\n",
      "                geo_lat = geonames_json['geonames'][x]['lat']\n",
      "                geo_lng = geonames_json['geonames'][x]['lng']\n",
      "                geo_id = geonames_json['geonames'][x]['geonameId']\n",
      "                geo_country_code = geonames_json['geonames'][x]['countryCode']\n",
      "                returnlist.append([placeid,geo_placename,placename,geo_admin1,geo_countryname,geo_lat,geo_lng,geo_id,geo_country_code,out_url,'geonames'])\n",
      "            if not os.path.exists(out_url):\n",
      "                with open(\"geonames_jsons/{}.json\".format(placename),'w',encoding='utf-8') as jsonfile:\n",
      "                    jsonfile.write(R.text)\n",
      "            print(\"{} was found.\".format(placename))\n",
      "            keepgoing = False\n",
      "        elif len(re.findall(r'(\u041e\u0419)($|\\s)',placename))!=0:\n",
      "            geo_placename = \"not_found\"\n",
      "            geo_admin1 = \"not_found\"\n",
      "            geo_countryname = \"not_found\"\n",
      "            geo_lat = \"not_found\"\n",
      "            geo_lng = \"not_found\"\n",
      "            geo_id = \"not_found\"\n",
      "            geo_country_code = \"not_found\"\n",
      "            returnlist.append([placeid,geo_placename,placename,geo_admin1,geo_countryname,geo_lat,geo_lng,geo_id,geo_country_code,out_url,'geonames'])\n",
      "            placename = re.sub(r'(\u041e\u0419)($|\\s)',r'\u0418\u0419\\2',placename)\n",
      "            print('New form: {}'.format(placename))\n",
      "            continue\n",
      "        elif len(re.findall(r'(\u0441\u043a)($|\\s)',placename))!=0:\n",
      "            geo_placename = \"not_found\"\n",
      "            geo_admin1 = \"not_found\"\n",
      "            geo_countryname = \"not_found\"\n",
      "            geo_lat = \"not_found\"\n",
      "            geo_lng = \"not_found\"\n",
      "            geo_id = \"not_found\"\n",
      "            geo_country_code = \"not_found\"\n",
      "            returnlist.append([placeid,geo_placename,placename,geo_admin1,geo_countryname,geo_lat,geo_lng,geo_id,geo_country_code,out_url,'geonames'])\n",
      "            placename = re.sub(r'(\u0441\u043a)($|\\s)',r'\\2',placename)\n",
      "            print('New form: {}'.format(placename))\n",
      "            continue\n",
      "        else:\n",
      "            geo_placename = \"not_found\"\n",
      "            geo_admin1 = \"not_found\"\n",
      "            geo_countryname = \"not_found\"\n",
      "            geo_lat = \"not_found\"\n",
      "            geo_lng = \"not_found\"\n",
      "            geo_id = \"not_found\"\n",
      "            geo_country_code = \"not_found\"\n",
      "            returnlist.append([placeid,geo_placename,placename,geo_admin1,geo_countryname,geo_lat,geo_lng,geo_id,geo_country_code,out_url,'geonames'])\n",
      "            print(\"{} was not found.\".format(placename))\n",
      "            keepgoing = False\n",
      "    return returnlist"
     ],
     "language": "python",
     "metadata": {},
     "outputs": [],
     "prompt_number": 68
    },
    {
     "cell_type": "code",
     "collapsed": false,
     "input": [
      "bounding_dict = {}\n",
      "with open(\"namiestnich_bounds.json\",'r',encoding = 'utf-8') as fp:\n",
      "    bounding_dict = json.load(fp)"
     ],
     "language": "python",
     "metadata": {},
     "outputs": [],
     "prompt_number": 53
    },
    {
     "cell_type": "code",
     "collapsed": false,
     "input": [
      "import time"
     ],
     "language": "python",
     "metadata": {},
     "outputs": [],
     "prompt_number": 54
    },
    {
     "cell_type": "markdown",
     "metadata": {},
     "source": [
      "Uyezd Geocoding\n",
      "===============\n",
      "Skip this if you aren't geocoding uyezdi"
     ]
    },
    {
     "cell_type": "code",
     "collapsed": false,
     "input": [
      "uydf = pd.DataFrame(market_df.admin_hierarchy.unique(),columns=['uezd'])\n",
      "uydf = pd.DataFrame(uydf.uezd.str.split('|').tolist(),columns = ['namiest','uezd'])\n",
      "uydf.head()"
     ],
     "language": "python",
     "metadata": {},
     "outputs": [
      {
       "html": [
        "<div style=\"max-height:1000px;max-width:1500px;overflow:auto;\">\n",
        "<table border=\"1\" class=\"dataframe\">\n",
        "  <thead>\n",
        "    <tr style=\"text-align: right;\">\n",
        "      <th></th>\n",
        "      <th>namiest</th>\n",
        "      <th>uezd</th>\n",
        "    </tr>\n",
        "  </thead>\n",
        "  <tbody>\n",
        "    <tr>\n",
        "      <th>0</th>\n",
        "      <td>     \u0440\u044f\u0437\u0430\u043d\u0441\u043a</td>\n",
        "      <td>   \u0434\u043e\u043d\u043a\u043e\u0432\u0441\u043a</td>\n",
        "    </tr>\n",
        "    <tr>\n",
        "      <th>1</th>\n",
        "      <td>   \u0432\u043e\u043b\u043e\u0433\u043e\u0434\u0441\u043a</td>\n",
        "      <td>  \u0432\u043e\u043b\u043e\u0433\u043e\u0434\u0441\u043a</td>\n",
        "    </tr>\n",
        "    <tr>\n",
        "      <th>2</th>\n",
        "      <td> \u043d\u0438\u0436\u0435\u0433\u043e\u0440\u043e\u0434\u0441\u043a</td>\n",
        "      <td>   \u0430\u0440\u0437\u0430\u043c\u0430\u0441\u043a</td>\n",
        "    </tr>\n",
        "    <tr>\n",
        "      <th>3</th>\n",
        "      <td>    \u0442\u0430\u043c\u0431\u043e\u0432\u0441\u043a</td>\n",
        "      <td> \u0442\u0435\u043c\u043d\u0438\u043a\u043e\u0432\u0441\u043a</td>\n",
        "    </tr>\n",
        "    <tr>\n",
        "      <th>4</th>\n",
        "      <td>    \u0441\u0438\u043d\u0431\u0438\u0440\u0441\u043a</td>\n",
        "      <td>       None</td>\n",
        "    </tr>\n",
        "  </tbody>\n",
        "</table>\n",
        "</div>"
       ],
       "metadata": {},
       "output_type": "pyout",
       "prompt_number": 44,
       "text": [
        "       namiest        uezd\n",
        "0      \u0440\u044f\u0437\u0430\u043d\u0441\u043a    \u0434\u043e\u043d\u043a\u043e\u0432\u0441\u043a\n",
        "1    \u0432\u043e\u043b\u043e\u0433\u043e\u0434\u0441\u043a   \u0432\u043e\u043b\u043e\u0433\u043e\u0434\u0441\u043a\n",
        "2  \u043d\u0438\u0436\u0435\u0433\u043e\u0440\u043e\u0434\u0441\u043a    \u0430\u0440\u0437\u0430\u043c\u0430\u0441\u043a\n",
        "3     \u0442\u0430\u043c\u0431\u043e\u0432\u0441\u043a  \u0442\u0435\u043c\u043d\u0438\u043a\u043e\u0432\u0441\u043a\n",
        "4     \u0441\u0438\u043d\u0431\u0438\u0440\u0441\u043a        None"
       ]
      }
     ],
     "prompt_number": 44
    },
    {
     "cell_type": "code",
     "collapsed": false,
     "input": [
      "ugeo = []\n",
      "problem_prov = []\n",
      "d = 4\n",
      "for x in range(0,len(uydf)):\n",
      "    entry = uydf.iloc[x]\n",
      "    if entry['uezd'] is not None:\n",
      "        try:\n",
      "            loc = bounding_dict[entry['namiest']]\n",
      "        except KeyError:\n",
      "            print(entry['namiest'])\n",
      "            problem_prov.append(entry['namiest'])\n",
      "            continue\n",
      "        if \"boundaries\" in loc:\n",
      "            W = loc[\"boundaries\"][0]\n",
      "            S = loc[\"boundaries\"][1]\n",
      "            E = loc[\"boundaries\"][2]\n",
      "            N = loc[\"boundaries\"][3]\n",
      "        else:\n",
      "            N = loc[\"center\"][0]+d\n",
      "            S = loc[\"center\"][0]-d\n",
      "            W = loc[\"center\"][1]-d\n",
      "            E = loc[\"center\"][1]+d\n",
      "        ugeo.extend(geonames_lookup(entry['uezd'],entry.name,north=N,south=S,west=W,east=E))\n",
      "        time.sleep(1)"
     ],
     "language": "python",
     "metadata": {},
     "outputs": [
      {
       "output_type": "stream",
       "stream": "stdout",
       "text": [
        "New form: \u0434\u043e\u043d\u043a\u043e\u0432\n",
        "\u0434\u043e\u043d\u043a\u043e\u0432 was not found."
       ]
      },
      {
       "output_type": "stream",
       "stream": "stdout",
       "text": [
        "\n",
        "New form: \u0432\u043e\u043b\u043e\u0433\u043e\u0434"
       ]
      },
      {
       "output_type": "stream",
       "stream": "stdout",
       "text": [
        "\n",
        "\u0432\u043e\u043b\u043e\u0433\u043e\u0434 was not found."
       ]
      },
      {
       "output_type": "stream",
       "stream": "stdout",
       "text": [
        "\n",
        "New form: \u0430\u0440\u0437\u0430\u043c\u0430"
       ]
      },
      {
       "output_type": "stream",
       "stream": "stdout",
       "text": [
        "\n",
        "\u0430\u0440\u0437\u0430\u043c\u0430 was not found."
       ]
      },
      {
       "output_type": "stream",
       "stream": "stdout",
       "text": [
        "\n",
        "New form: \u0442\u0435\u043c\u043d\u0438\u043a\u043e\u0432"
       ]
      },
      {
       "output_type": "stream",
       "stream": "stdout",
       "text": [
        "\n",
        "\u0442\u0435\u043c\u043d\u0438\u043a\u043e\u0432 was found."
       ]
      },
      {
       "output_type": "stream",
       "stream": "stdout",
       "text": [
        "\n",
        "New form: \u044f\u0440\u043e\u0441\u043b\u0430\u0432"
       ]
      },
      {
       "output_type": "stream",
       "stream": "stdout",
       "text": [
        "\n",
        "\u044f\u0440\u043e\u0441\u043b\u0430\u0432 was not found."
       ]
      },
      {
       "output_type": "stream",
       "stream": "stdout",
       "text": [
        "\n",
        "\u043a\u0435\u0440\u0435\u043d\u0441\u043a was found."
       ]
      },
      {
       "output_type": "stream",
       "stream": "stdout",
       "text": [
        "\n",
        "New form: \u0431\u0435\u043b\u043e\u0433\u043e\u0440\u043e\u0434"
       ]
      },
      {
       "output_type": "stream",
       "stream": "stdout",
       "text": [
        "\n",
        "\u0431\u0435\u043b\u043e\u0433\u043e\u0440\u043e\u0434 was found."
       ]
      },
      {
       "output_type": "stream",
       "stream": "stdout",
       "text": [
        "\n",
        "New form: \u0438\u0437\u044e\u043c"
       ]
      },
      {
       "output_type": "stream",
       "stream": "stdout",
       "text": [
        "\n",
        "\u0438\u0437\u044e\u043c was found."
       ]
      },
      {
       "output_type": "stream",
       "stream": "stdout",
       "text": [
        "\n",
        "New form: \u0440\u043e\u0433\u0430\u0447\u0435\u0432"
       ]
      },
      {
       "output_type": "stream",
       "stream": "stdout",
       "text": [
        "\n",
        "\u0440\u043e\u0433\u0430\u0447\u0435\u0432 was found."
       ]
      },
      {
       "output_type": "stream",
       "stream": "stdout",
       "text": [
        "\n",
        "New form: \u0430\u043b\u0430\u0442\u044b\u0440\u044c"
       ]
      },
      {
       "output_type": "stream",
       "stream": "stdout",
       "text": [
        "\n",
        "\u0430\u043b\u0430\u0442\u044b\u0440\u044c was found."
       ]
      },
      {
       "output_type": "stream",
       "stream": "stdout",
       "text": [
        "\n",
        "\u0435\u043b\u0435\u0446\u043a was not found."
       ]
      },
      {
       "output_type": "stream",
       "stream": "stdout",
       "text": [
        "\n",
        "New form: \u0445\u0430\u0440\u044c\u043a\u043e\u0432"
       ]
      },
      {
       "output_type": "stream",
       "stream": "stdout",
       "text": [
        "\n",
        "\u0445\u0430\u0440\u044c\u043a\u043e\u0432 was found."
       ]
      },
      {
       "output_type": "stream",
       "stream": "stdout",
       "text": [
        "\n",
        "New form: \u0432\u0435\u043d\u0435\u0432"
       ]
      },
      {
       "output_type": "stream",
       "stream": "stdout",
       "text": [
        "\n",
        "\u0432\u0435\u043d\u0435\u0432 was found."
       ]
      },
      {
       "output_type": "stream",
       "stream": "stdout",
       "text": [
        "\n",
        "\u0441\u0430\u0440\u0430\u043d\u0441\u043a was found."
       ]
      },
      {
       "output_type": "stream",
       "stream": "stdout",
       "text": [
        "\n",
        "New form: \u0438\u0437\u044e\u043c\u043e\u0432"
       ]
      },
      {
       "output_type": "stream",
       "stream": "stdout",
       "text": [
        "\n",
        "\u0438\u0437\u044e\u043c\u043e\u0432 was not found."
       ]
      },
      {
       "output_type": "stream",
       "stream": "stdout",
       "text": [
        "\n",
        "New form: \u043f\u0435\u0440\u0435\u044f\u0441\u043b\u0430\u0432"
       ]
      },
      {
       "output_type": "stream",
       "stream": "stdout",
       "text": [
        "\n",
        "\u043f\u0435\u0440\u0435\u044f\u0441\u043b\u0430\u0432 was found."
       ]
      },
      {
       "output_type": "stream",
       "stream": "stdout",
       "text": [
        "\n",
        "New form: \u043a\u0438\u0435\u0432"
       ]
      },
      {
       "output_type": "stream",
       "stream": "stdout",
       "text": [
        "\n",
        "\u043a\u0438\u0435\u0432 was found."
       ]
      },
      {
       "output_type": "stream",
       "stream": "stdout",
       "text": [
        "\n",
        "New form: \u043d\u0435\u0436\u0438\u043d"
       ]
      },
      {
       "output_type": "stream",
       "stream": "stdout",
       "text": [
        "\n",
        "\u043d\u0435\u0436\u0438\u043d was found."
       ]
      },
      {
       "output_type": "stream",
       "stream": "stdout",
       "text": [
        "\n",
        "New form: \u043d\u043e\u0432\u043e\u0433\u043e\u0440\u043e\u0434\u0441\u043a\u043e\u0433\u043e - \u0441\u0435\u0432\u0435\u0440"
       ]
      },
      {
       "output_type": "stream",
       "stream": "stdout",
       "text": [
        "\n",
        "\u043d\u043e\u0432\u043e\u0433\u043e\u0440\u043e\u0434\u0441\u043a\u043e\u0433\u043e - \u0441\u0435\u0432\u0435\u0440 was not found."
       ]
      },
      {
       "output_type": "stream",
       "stream": "stdout",
       "text": [
        "\n",
        "New form: \u0441\u0430\u0440\u0430\u0442\u043e\u0432"
       ]
      },
      {
       "output_type": "stream",
       "stream": "stdout",
       "text": [
        "\n",
        "\u0441\u0430\u0440\u0430\u0442\u043e\u0432 was found."
       ]
      },
      {
       "output_type": "stream",
       "stream": "stdout",
       "text": [
        "\n",
        "New form: \u0447\u0443\u0445\u043b\u043e\u043c"
       ]
      },
      {
       "output_type": "stream",
       "stream": "stdout",
       "text": [
        "\n",
        "\u0447\u0443\u0445\u043b\u043e\u043c was not found."
       ]
      },
      {
       "output_type": "stream",
       "stream": "stdout",
       "text": [
        "\n",
        "\u0432\u043e\u043b\u043e\u043a\u043e\u043b\u0430\u043c\u0441\u043a was found."
       ]
      },
      {
       "output_type": "stream",
       "stream": "stdout",
       "text": [
        "\n",
        "New form: \u043a\u0430\u0448\u0438\u0440"
       ]
      },
      {
       "output_type": "stream",
       "stream": "stdout",
       "text": [
        "\n",
        "\u043a\u0430\u0448\u0438\u0440 was not found."
       ]
      },
      {
       "output_type": "stream",
       "stream": "stdout",
       "text": [
        "\n",
        "New form: \u0434\u0438\u043d\u0430\u0431\u0443\u0440\u0433"
       ]
      },
      {
       "output_type": "stream",
       "stream": "stdout",
       "text": [
        "\n",
        "\u0434\u0438\u043d\u0430\u0431\u0443\u0440\u0433 was not found."
       ]
      },
      {
       "output_type": "stream",
       "stream": "stdout",
       "text": [
        "\n",
        "New form: \u0447\u0435\u043b\u044f\u0431\u0438\u043d"
       ]
      },
      {
       "output_type": "stream",
       "stream": "stdout",
       "text": [
        "\n",
        "\u0447\u0435\u043b\u044f\u0431\u0438\u043d was not found."
       ]
      },
      {
       "output_type": "stream",
       "stream": "stdout",
       "text": [
        "\n",
        "New form: \u043c\u0438\u0440\u0433\u043e\u0440\u043e\u0434"
       ]
      },
      {
       "output_type": "stream",
       "stream": "stdout",
       "text": [
        "\n",
        "\u043c\u0438\u0440\u0433\u043e\u0440\u043e\u0434 was found."
       ]
      },
      {
       "output_type": "stream",
       "stream": "stdout",
       "text": [
        "\n",
        "New form: \u043d\u0438\u0436\u0435\u043b\u043e\u043c\u043e\u0432"
       ]
      },
      {
       "output_type": "stream",
       "stream": "stdout",
       "text": [
        "\n",
        "\u043d\u0438\u0436\u0435\u043b\u043e\u043c\u043e\u0432 was not found."
       ]
      },
      {
       "output_type": "stream",
       "stream": "stdout",
       "text": [
        "\n",
        "New form: \u0441\u0443\u0437\u0434\u0430\u043b\u044c"
       ]
      },
      {
       "output_type": "stream",
       "stream": "stdout",
       "text": [
        "\n",
        "\u0441\u0443\u0437\u0434\u0430\u043b\u044c was found."
       ]
      },
      {
       "output_type": "stream",
       "stream": "stdout",
       "text": [
        "\n",
        "\u0437\u0443\u0431\u0446\u043e\u0432 was found."
       ]
      },
      {
       "output_type": "stream",
       "stream": "stdout",
       "text": [
        "\n",
        "\u043c\u043e\u0436\u0430\u0439\u0441\u043a was found."
       ]
      },
      {
       "output_type": "stream",
       "stream": "stdout",
       "text": [
        "\n",
        "\u043f\u0435\u0442\u0440\u043e\u0432\u0441\u043a was found."
       ]
      },
      {
       "output_type": "stream",
       "stream": "stdout",
       "text": [
        "\n",
        "New form: \u0430\u0445\u0442\u044b\u0440"
       ]
      },
      {
       "output_type": "stream",
       "stream": "stdout",
       "text": [
        "\n",
        "\u0430\u0445\u0442\u044b\u0440 was not found."
       ]
      },
      {
       "output_type": "stream",
       "stream": "stdout",
       "text": [
        "\n",
        "\u043a\u043e\u0437\u0435\u043b\u044c\u0441\u043a was found."
       ]
      },
      {
       "output_type": "stream",
       "stream": "stdout",
       "text": [
        "\n",
        "New form: \u043d\u043e\u0432\u043e\u0433\u043e\u0440\u043e\u0434"
       ]
      },
      {
       "output_type": "stream",
       "stream": "stdout",
       "text": [
        "\n",
        "\u043d\u043e\u0432\u043e\u0433\u043e\u0440\u043e\u0434 was not found."
       ]
      },
      {
       "output_type": "stream",
       "stream": "stdout",
       "text": [
        "\n",
        "New form: \u043f\u043e\u043b\u043e\u0442\u0430\u0432"
       ]
      },
      {
       "output_type": "stream",
       "stream": "stdout",
       "text": [
        "\n",
        "\u043f\u043e\u043b\u043e\u0442\u0430\u0432 was not found."
       ]
      },
      {
       "output_type": "stream",
       "stream": "stdout",
       "text": [
        "\n",
        "New form: \u043d\u043e\u0432\u0433\u043e\u0440\u043e\u0434"
       ]
      },
      {
       "output_type": "stream",
       "stream": "stdout",
       "text": [
        "\n",
        "\u043d\u043e\u0432\u0433\u043e\u0440\u043e\u0434 was found."
       ]
      },
      {
       "output_type": "stream",
       "stream": "stdout",
       "text": [
        "\n",
        "New form: \u043b\u0443\u0431\u0435\u043d"
       ]
      },
      {
       "output_type": "stream",
       "stream": "stdout",
       "text": [
        "\n",
        "\u043b\u0443\u0431\u0435\u043d was not found."
       ]
      },
      {
       "output_type": "stream",
       "stream": "stdout",
       "text": [
        "\n",
        "New form: \u0435\u043f\u0438\u0444\u0430\u043d"
       ]
      },
      {
       "output_type": "stream",
       "stream": "stdout",
       "text": [
        "\n",
        "\u0435\u043f\u0438\u0444\u0430\u043d was found."
       ]
      },
      {
       "output_type": "stream",
       "stream": "stdout",
       "text": [
        "\n",
        "New form: \u043f\u0438\u0440\u044f\u0442\u0438\u043d"
       ]
      },
      {
       "output_type": "stream",
       "stream": "stdout",
       "text": [
        "\n",
        "\u043f\u0438\u0440\u044f\u0442\u0438\u043d was found."
       ]
      },
      {
       "output_type": "stream",
       "stream": "stdout",
       "text": [
        "\n",
        "New form: \u043f\u043e\u043b\u0442\u0430\u0432"
       ]
      },
      {
       "output_type": "stream",
       "stream": "stdout",
       "text": [
        "\n",
        "\u043f\u043e\u043b\u0442\u0430\u0432 was not found."
       ]
      },
      {
       "output_type": "stream",
       "stream": "stdout",
       "text": [
        "\n",
        "New form: \u043f\u043e\u0448\u0435\u0445\u043e\u043d"
       ]
      },
      {
       "output_type": "stream",
       "stream": "stdout",
       "text": [
        "\n",
        "\u043f\u043e\u0448\u0435\u0445\u043e\u043d was found."
       ]
      },
      {
       "output_type": "stream",
       "stream": "stdout",
       "text": [
        "\n",
        "\u0431\u0435\u043b\u043e\u0437\u0435\u0440\u0441\u043a was found."
       ]
      },
      {
       "output_type": "stream",
       "stream": "stdout",
       "text": [
        "\n",
        "\u0432\u0430\u043b\u0443\u0435\u043a was not found."
       ]
      },
      {
       "output_type": "stream",
       "stream": "stdout",
       "text": [
        "\n",
        "\u043f\u0440\u0438\u043b\u0443\u0446\u043a was not found."
       ]
      },
      {
       "output_type": "stream",
       "stream": "stdout",
       "text": [
        "\n",
        "New form: \u043c\u0435\u0437\u0435\u043d"
       ]
      },
      {
       "output_type": "stream",
       "stream": "stdout",
       "text": [
        "\n",
        "\u043c\u0435\u0437\u0435\u043d was found."
       ]
      },
      {
       "output_type": "stream",
       "stream": "stdout",
       "text": [
        "\n",
        "New form: \u0440\u043e\u0441\u0442\u043e\u0432"
       ]
      },
      {
       "output_type": "stream",
       "stream": "stdout",
       "text": [
        "\n",
        "\u0440\u043e\u0441\u0442\u043e\u0432 was found."
       ]
      },
      {
       "output_type": "stream",
       "stream": "stdout",
       "text": [
        "\n",
        "\u0442\u0443\u043b\u044c\u0441\u043a\u043e\u0433\u043e \u0436 was not found."
       ]
      },
      {
       "output_type": "stream",
       "stream": "stdout",
       "text": [
        "\n",
        "\u0433\u0430\u0434\u044f\u0446\u043a was not found."
       ]
      },
      {
       "output_type": "stream",
       "stream": "stdout",
       "text": [
        "\n",
        "New form: \u0433\u043e\u0440\u043e\u0445\u043e\u0432"
       ]
      },
      {
       "output_type": "stream",
       "stream": "stdout",
       "text": [
        "\n",
        "\u0433\u043e\u0440\u043e\u0445\u043e\u0432 was not found."
       ]
      },
      {
       "output_type": "stream",
       "stream": "stdout",
       "text": [
        "\n",
        "\u043f\u043e\u043b\u043e\u0442\u0441\u043a was found."
       ]
      },
      {
       "output_type": "stream",
       "stream": "stdout",
       "text": [
        "\n",
        "New form: \u0431\u0435\u043b\u043e\u0433\u043e\u0440\u043e\u0434"
       ]
      },
      {
       "output_type": "stream",
       "stream": "stdout",
       "text": [
        "\n",
        "\u0431\u0435\u043b\u043e\u0433\u043e\u0440\u043e\u0434 was not found."
       ]
      },
      {
       "output_type": "stream",
       "stream": "stdout",
       "text": [
        "\n",
        "New form: \u043d\u0435\u0436\u0438\u043d"
       ]
      },
      {
       "output_type": "stream",
       "stream": "stdout",
       "text": [
        "\n",
        "\u043d\u0435\u0436\u0438\u043d was found."
       ]
      },
      {
       "output_type": "stream",
       "stream": "stdout",
       "text": [
        "\n",
        "New form: \u043a\u0430\u0448\u0438\u043d"
       ]
      },
      {
       "output_type": "stream",
       "stream": "stdout",
       "text": [
        "\n",
        "\u043a\u0430\u0448\u0438\u043d was found."
       ]
      },
      {
       "output_type": "stream",
       "stream": "stdout",
       "text": [
        "\n",
        "\u043a\u0438\u043d\u0435\u0448\u043c was not found."
       ]
      },
      {
       "output_type": "stream",
       "stream": "stdout",
       "text": [
        "\n",
        "New form: \u0432\u0435\u0440\u0435\u0439"
       ]
      },
      {
       "output_type": "stream",
       "stream": "stdout",
       "text": [
        "\n",
        "\u0432\u0435\u0440\u0435\u0439 was not found."
       ]
      },
      {
       "output_type": "stream",
       "stream": "stdout",
       "text": [
        "\n",
        "\u0440\u043e\u0433\u0430\u0447\u0435\u0432 was found."
       ]
      },
      {
       "output_type": "stream",
       "stream": "stdout",
       "text": [
        "\n",
        "\u0431\u0435\u043b\u0438\u0446\u043a was found."
       ]
      },
      {
       "output_type": "stream",
       "stream": "stdout",
       "text": [
        "\n",
        "\u0441\u0438\u043d\u0431\u0438\u0440\u0441\u043a was found."
       ]
      },
      {
       "output_type": "stream",
       "stream": "stdout",
       "text": [
        "\n",
        "\u0448\u0430\u0442\u0441\u043a was found."
       ]
      },
      {
       "output_type": "stream",
       "stream": "stdout",
       "text": [
        "\n",
        "\u0430\u043b\u0435\u043a\u0441\u0438\u043d was found."
       ]
      },
      {
       "output_type": "stream",
       "stream": "stdout",
       "text": [
        "\n",
        "New form: \u043b\u044e\u0431\u0438\u043c"
       ]
      },
      {
       "output_type": "stream",
       "stream": "stdout",
       "text": [
        "\n",
        "\u043b\u044e\u0431\u0438\u043c was found."
       ]
      },
      {
       "output_type": "stream",
       "stream": "stdout",
       "text": [
        "\n",
        "New form: \u043e\u0441\u0442\u0440\u043e\u0432"
       ]
      },
      {
       "output_type": "stream",
       "stream": "stdout",
       "text": [
        "\n",
        "\u043e\u0441\u0442\u0440\u043e\u0432 was found."
       ]
      },
      {
       "output_type": "stream",
       "stream": "stdout",
       "text": [
        "\n",
        "New form: \u043e\u0440\u0448\u0430\u043d"
       ]
      },
      {
       "output_type": "stream",
       "stream": "stdout",
       "text": [
        "\n",
        "\u043e\u0440\u0448\u0430\u043d was not found."
       ]
      },
      {
       "output_type": "stream",
       "stream": "stdout",
       "text": [
        "\n",
        "New form: \u0431\u0435\u043b\u0435\u0432"
       ]
      },
      {
       "output_type": "stream",
       "stream": "stdout",
       "text": [
        "\n",
        "\u0431\u0435\u043b\u0435\u0432 was found."
       ]
      },
      {
       "output_type": "stream",
       "stream": "stdout",
       "text": [
        "\n",
        "New form: \u0441\u0442\u0430\u0440\u043e\u0434\u0443\u0431\u043e\u0432"
       ]
      },
      {
       "output_type": "stream",
       "stream": "stdout",
       "text": [
        "\n",
        "\u0441\u0442\u0430\u0440\u043e\u0434\u0443\u0431\u043e\u0432 was found."
       ]
      },
      {
       "output_type": "stream",
       "stream": "stdout",
       "text": [
        "\n",
        "New form: \u043a\u0430\u0448\u0438\u0440"
       ]
      },
      {
       "output_type": "stream",
       "stream": "stdout",
       "text": [
        "\n",
        "\u043a\u0430\u0448\u0438\u0440 was not found."
       ]
      },
      {
       "output_type": "stream",
       "stream": "stdout",
       "text": [
        "\n",
        "New form: \u0430\u043b\u0435\u043a\u0441\u0438\u043d"
       ]
      },
      {
       "output_type": "stream",
       "stream": "stdout",
       "text": [
        "\n",
        "\u0430\u043b\u0435\u043a\u0441\u0438\u043d was found."
       ]
      },
      {
       "output_type": "stream",
       "stream": "stdout",
       "text": [
        "\n",
        "New form: \u0447\u0435\u0440\u043d\u0438\u0433\u043e\u0432"
       ]
      },
      {
       "output_type": "stream",
       "stream": "stdout",
       "text": [
        "\n",
        "\u0447\u0435\u0440\u043d\u0438\u0433\u043e\u0432 was found."
       ]
      },
      {
       "output_type": "stream",
       "stream": "stdout",
       "text": [
        "\n",
        "New form: \u043f\u0441\u043a\u043e\u0432"
       ]
      },
      {
       "output_type": "stream",
       "stream": "stdout",
       "text": [
        "\n",
        "\u043f\u0441\u043a\u043e\u0432 was found."
       ]
      },
      {
       "output_type": "stream",
       "stream": "stdout",
       "text": [
        "\n",
        "New form: \u043a\u043e\u0437\u043b\u043e\u0432"
       ]
      },
      {
       "output_type": "stream",
       "stream": "stdout",
       "text": [
        "\n",
        "\u043a\u043e\u0437\u043b\u043e\u0432 was found."
       ]
      },
      {
       "output_type": "stream",
       "stream": "stdout",
       "text": [
        "\n",
        "New form: \u043b\u0435\u0432"
       ]
      },
      {
       "output_type": "stream",
       "stream": "stdout",
       "text": [
        "\n",
        "\u043b\u0435\u0432 was found."
       ]
      },
      {
       "output_type": "stream",
       "stream": "stdout",
       "text": [
        "\n",
        "\u043a\u043e\u043b\u043e\u043c\u043d was not found."
       ]
      },
      {
       "output_type": "stream",
       "stream": "stdout",
       "text": [
        "\n",
        "\u043e\u0441\u0442\u0440\u043e\u0432 was found."
       ]
      },
      {
       "output_type": "stream",
       "stream": "stdout",
       "text": [
        "\n",
        "New form: \u043a\u0430\u0441\u0438\u043c\u043e\u0432"
       ]
      },
      {
       "output_type": "stream",
       "stream": "stdout",
       "text": [
        "\n",
        "\u043a\u0430\u0441\u0438\u043c\u043e\u0432 was not found."
       ]
      },
      {
       "output_type": "stream",
       "stream": "stdout",
       "text": [
        "\n",
        "\u0431\u0435\u0436\u0435\u0446\u043a was found."
       ]
      },
      {
       "output_type": "stream",
       "stream": "stdout",
       "text": [
        "\n",
        "New form: \u0441\u0442\u0430\u0440\u043e\u0431\u044b\u0445\u043e\u0432"
       ]
      },
      {
       "output_type": "stream",
       "stream": "stdout",
       "text": [
        "\n",
        "\u0441\u0442\u0430\u0440\u043e\u0431\u044b\u0445\u043e\u0432 was not found."
       ]
      },
      {
       "output_type": "stream",
       "stream": "stdout",
       "text": [
        "\n",
        "\u043d\u043e\u0432\u043e\u0441\u0438\u043b was found."
       ]
      },
      {
       "output_type": "stream",
       "stream": "stdout",
       "text": [
        "\n",
        "\u043a\u0438\u0440\u0435\u043d\u0441\u043a was found."
       ]
      },
      {
       "output_type": "stream",
       "stream": "stdout",
       "text": [
        "\n",
        "\u0438\u0437\u044e\u043c was found."
       ]
      },
      {
       "output_type": "stream",
       "stream": "stdout",
       "text": [
        "\n",
        "\u0441\u043e\u0441\u043d\u0438\u0446\u043a was not found."
       ]
      },
      {
       "output_type": "stream",
       "stream": "stdout",
       "text": [
        "\n",
        "\u043d\u0435\u0436\u0438\u043d was found."
       ]
      },
      {
       "output_type": "stream",
       "stream": "stdout",
       "text": [
        "\n",
        "New form: \u0437\u0432\u0435\u043d\u0438\u0433\u043e\u0440\u043e\u0434"
       ]
      },
      {
       "output_type": "stream",
       "stream": "stdout",
       "text": [
        "\n",
        "\u0437\u0432\u0435\u043d\u0438\u0433\u043e\u0440\u043e\u0434 was found."
       ]
      },
      {
       "output_type": "stream",
       "stream": "stdout",
       "text": [
        "\n",
        "New form: \u043a\u043e\u0440\u043e\u0447\u0435\u043d"
       ]
      },
      {
       "output_type": "stream",
       "stream": "stdout",
       "text": [
        "\n",
        "\u043a\u043e\u0440\u043e\u0447\u0435\u043d was not found."
       ]
      },
      {
       "output_type": "stream",
       "stream": "stdout",
       "text": [
        "\n",
        "New form: \u0430\u0440\u0441\u0430\u043c\u0430\u0437"
       ]
      },
      {
       "output_type": "stream",
       "stream": "stdout",
       "text": [
        "\n",
        "\u0430\u0440\u0441\u0430\u043c\u0430\u0437 was not found."
       ]
      },
      {
       "output_type": "stream",
       "stream": "stdout",
       "text": [
        "\n",
        "\u0434\u0438\u043d\u0430\u0431\u0443\u0440\u0433 was not found."
       ]
      },
      {
       "output_type": "stream",
       "stream": "stdout",
       "text": [
        "\n",
        "New form: \u0440\u0443\u0437"
       ]
      },
      {
       "output_type": "stream",
       "stream": "stdout",
       "text": [
        "\n",
        "\u0440\u0443\u0437 was found."
       ]
      },
      {
       "output_type": "stream",
       "stream": "stdout",
       "text": [
        "\n",
        "New form: \u043c\u0441\u0442\u0438\u0441\u043b\u0430\u0432"
       ]
      },
      {
       "output_type": "stream",
       "stream": "stdout",
       "text": [
        "\n",
        "\u043c\u0441\u0442\u0438\u0441\u043b\u0430\u0432 was not found."
       ]
      },
      {
       "output_type": "stream",
       "stream": "stdout",
       "text": [
        "\n",
        "\u0430\u0440\u0441\u0430\u043c\u0430\u0437\u0441\u043a\u043e\u043c was not found."
       ]
      },
      {
       "output_type": "stream",
       "stream": "stdout",
       "text": [
        "\n",
        "New form: \u0442\u0432\u0435\u0440"
       ]
      },
      {
       "output_type": "stream",
       "stream": "stdout",
       "text": [
        "\n",
        "\u0442\u0432\u0435\u0440 was found."
       ]
      },
      {
       "output_type": "stream",
       "stream": "stdout",
       "text": [
        "\n",
        "\u044e\u0440\u044c\u0435\u0432\u0446 was not found."
       ]
      },
      {
       "output_type": "stream",
       "stream": "stdout",
       "text": [
        "\n",
        "New form: \u043a\u0430\u0448\u0438\u043d"
       ]
      },
      {
       "output_type": "stream",
       "stream": "stdout",
       "text": [
        "\n",
        "\u043a\u0430\u0448\u0438\u043d was found."
       ]
      },
      {
       "output_type": "stream",
       "stream": "stdout",
       "text": [
        "\n",
        "New form: \u0440\u044f\u0437\u0430\u043d"
       ]
      },
      {
       "output_type": "stream",
       "stream": "stdout",
       "text": [
        "\n",
        "\u0440\u044f\u0437\u0430\u043d was found."
       ]
      },
      {
       "output_type": "stream",
       "stream": "stdout",
       "text": [
        "\n",
        "New form: \u0435\u043a\u0430\u0442\u0435\u0440\u0438\u043d\u043e\u0441\u043b\u0430\u0432"
       ]
      },
      {
       "output_type": "stream",
       "stream": "stdout",
       "text": [
        "\n",
        "\u0435\u043a\u0430\u0442\u0435\u0440\u0438\u043d\u043e\u0441\u043b\u0430\u0432 was found."
       ]
      },
      {
       "output_type": "stream",
       "stream": "stdout",
       "text": [
        "\n",
        "New form: \u043a\u043e\u043b\u043e\u043c\u0435\u043d"
       ]
      },
      {
       "output_type": "stream",
       "stream": "stdout",
       "text": [
        "\n",
        "\u043a\u043e\u043b\u043e\u043c\u0435\u043d was not found."
       ]
      },
      {
       "output_type": "stream",
       "stream": "stdout",
       "text": [
        "\n",
        "New form: \u0441\u0432\u0438\u0430\u0436"
       ]
      },
      {
       "output_type": "stream",
       "stream": "stdout",
       "text": [
        "\n",
        "\u0441\u0432\u0438\u0430\u0436 was not found."
       ]
      },
      {
       "output_type": "stream",
       "stream": "stdout",
       "text": [
        "\n",
        "\u0433\u043e\u0440\u043e\u0445\u043e\u0432\u0435\u0446\u043a was not found."
       ]
      },
      {
       "output_type": "stream",
       "stream": "stdout",
       "text": [
        "\n",
        "New form: \u0434\u043c\u0438\u0442\u0440\u043e\u0432"
       ]
      },
      {
       "output_type": "stream",
       "stream": "stdout",
       "text": [
        "\n",
        "\u0434\u043c\u0438\u0442\u0440\u043e\u0432 was found."
       ]
      },
      {
       "output_type": "stream",
       "stream": "stdout",
       "text": [
        "\n",
        "\u0448\u0430\u0446\u043a was found."
       ]
      },
      {
       "output_type": "stream",
       "stream": "stdout",
       "text": [
        "\n",
        "\u043a\u0443\u0440\u0441\u043a was found."
       ]
      },
      {
       "output_type": "stream",
       "stream": "stdout",
       "text": [
        "\n",
        "\u043a\u043b\u0438\u043c\u043e\u0432\u0438\u0446\u043a was not found."
       ]
      },
      {
       "output_type": "stream",
       "stream": "stdout",
       "text": [
        "\n",
        "\u0430\u0445\u0442\u044b\u0440\u043a was not found."
       ]
      },
      {
       "output_type": "stream",
       "stream": "stdout",
       "text": [
        "\n",
        "New form: \u043d\u0430\u0440\u043e\u0432\u0447\u0430\u0442\u043e\u0432"
       ]
      },
      {
       "output_type": "stream",
       "stream": "stdout",
       "text": [
        "\n",
        "\u043d\u0430\u0440\u043e\u0432\u0447\u0430\u0442\u043e\u0432 was not found."
       ]
      },
      {
       "output_type": "stream",
       "stream": "stdout",
       "text": [
        "\n",
        "\u043b\u0435\u0431\u0435\u0434\u044f\u043d was found."
       ]
      },
      {
       "output_type": "stream",
       "stream": "stdout",
       "text": [
        "\n",
        "New form: \u043b\u0438\u0432\u0435\u043d"
       ]
      },
      {
       "output_type": "stream",
       "stream": "stdout",
       "text": [
        "\n",
        "\u043b\u0438\u0432\u0435\u043d was not found."
       ]
      },
      {
       "output_type": "stream",
       "stream": "stdout",
       "text": [
        "\n",
        "New form: \u043a\u043e\u0441\u0442\u0440\u043e\u043c"
       ]
      },
      {
       "output_type": "stream",
       "stream": "stdout",
       "text": [
        "\n",
        "\u043a\u043e\u0441\u0442\u0440\u043e\u043c was found."
       ]
      },
      {
       "output_type": "stream",
       "stream": "stdout",
       "text": [
        "\n",
        "New form: \u0447\u0435\u0440\u0438\u043a\u043e\u0432"
       ]
      },
      {
       "output_type": "stream",
       "stream": "stdout",
       "text": [
        "\n",
        "\u0447\u0435\u0440\u0438\u043a\u043e\u0432 was found."
       ]
      },
      {
       "output_type": "stream",
       "stream": "stdout",
       "text": [
        "\n",
        "\u043c\u0438\u0440\u043e\u043f\u043e\u043b was found."
       ]
      },
      {
       "output_type": "stream",
       "stream": "stdout",
       "text": [
        "\n",
        "\u044f\u0440\u0435\u043d\u0441\u043a was found."
       ]
      },
      {
       "output_type": "stream",
       "stream": "stdout",
       "text": [
        "\n",
        "New form: \u0432\u0435\u0440\u0445\u043d\u0435\u0443\u0434\u0438\u0432"
       ]
      },
      {
       "output_type": "stream",
       "stream": "stdout",
       "text": [
        "\n",
        "\u0432\u0435\u0440\u0445\u043d\u0435\u0443\u0434\u0438\u0432 was not found."
       ]
      },
      {
       "output_type": "stream",
       "stream": "stdout",
       "text": [
        "\n",
        "New form: \u0437\u0430\u0440\u0430\u0439"
       ]
      },
      {
       "output_type": "stream",
       "stream": "stdout",
       "text": [
        "\n",
        "\u0437\u0430\u0440\u0430\u0439 was not found."
       ]
      },
      {
       "output_type": "stream",
       "stream": "stdout",
       "text": [
        "\n",
        "\u0432\u0435\u043b\u0438\u043a\u043e\u043b\u0443\u0446\u043a was not found."
       ]
      },
      {
       "output_type": "stream",
       "stream": "stdout",
       "text": [
        "\n",
        "New form: \u0432\u044b\u0431\u043e\u0440\u0433"
       ]
      },
      {
       "output_type": "stream",
       "stream": "stdout",
       "text": [
        "\n",
        "\u0432\u044b\u0431\u043e\u0440\u0433 was found."
       ]
      },
      {
       "output_type": "stream",
       "stream": "stdout",
       "text": [
        "\n",
        "\u0445\u0430\u0440\u044c\u043a\u043e\u0432 was found."
       ]
      },
      {
       "output_type": "stream",
       "stream": "stdout",
       "text": [
        "\n",
        "New form: \u0432\u043e\u043b\u043e\u0433\u043e\u0434"
       ]
      },
      {
       "output_type": "stream",
       "stream": "stdout",
       "text": [
        "\n",
        "\u0432\u043e\u043b\u043e\u0433\u043e\u0434 was not found."
       ]
      },
      {
       "output_type": "stream",
       "stream": "stdout",
       "text": [
        "\n",
        "\u043a\u043e\u0437\u043b\u043e\u0432 was found."
       ]
      },
      {
       "output_type": "stream",
       "stream": "stdout",
       "text": [
        "\n",
        "\u0431\u0430\u0431\u0438\u043d\u043e\u0432\u0435\u0446\u043a was not found."
       ]
      },
      {
       "output_type": "stream",
       "stream": "stdout",
       "text": [
        "\n",
        "\u043a\u0440\u0430\u0441\u043d\u043e\u0441\u043b\u043e\u0431\u043e\u0434\u0441\u043a was found."
       ]
      },
      {
       "output_type": "stream",
       "stream": "stdout",
       "text": [
        "\n"
       ]
      }
     ],
     "prompt_number": 71
    },
    {
     "cell_type": "code",
     "collapsed": false,
     "input": [
      "uyGeodf = pd.DataFrame(ugeo,columns=['uy_id','result_placename','searched_placename','admin1','country_name','lat','lng','src_id','country_code','url','src'])\n",
      "uGeodf_merged = pd.merge(uyGeodf,uydf,left_on='uy_id',right_index=True)"
     ],
     "language": "python",
     "metadata": {},
     "outputs": [],
     "prompt_number": 72
    },
    {
     "cell_type": "code",
     "collapsed": false,
     "input": [
      "uGeodf_merged['partof_id'] = uGeodf_merged.namiest.apply(lambda x: bounding_dict[x]['hgr_id'])"
     ],
     "language": "python",
     "metadata": {},
     "outputs": [],
     "prompt_number": 73
    },
    {
     "cell_type": "code",
     "collapsed": false,
     "input": [
      "uGeodf_merged.result_placename + ', ' + uGeodf_merged.admin1"
     ],
     "language": "python",
     "metadata": {},
     "outputs": [
      {
       "metadata": {},
       "output_type": "pyout",
       "prompt_number": 75,
       "text": [
        "0     not_found, not_found\n",
        "1     not_found, not_found\n",
        "2     not_found, not_found\n",
        "3     not_found, not_found\n",
        "4     not_found, not_found\n",
        "5     not_found, not_found\n",
        "6     not_found, not_found\n",
        "7      Temnikov, Mordoviya\n",
        "8     not_found, not_found\n",
        "9     not_found, not_found\n",
        "10          Vadinsk, Penza\n",
        "11    not_found, not_found\n",
        "12     Belogorodskiy, Tula\n",
        "13    not_found, not_found\n",
        "14          Izyum, Kharkiv\n",
        "...\n",
        "258         not_found, not_found\n",
        "259         not_found, not_found\n",
        "260            Vyborg, Leningrad\n",
        "261             Kharkiv, Kharkiv\n",
        "262       Khar'kov Log, Kemerovo\n",
        "263         not_found, not_found\n",
        "264         not_found, not_found\n",
        "265            Kozlov, Volgograd\n",
        "266             Kozlov, Voronezj\n",
        "267            Kozlov, Volgograd\n",
        "268            Kozlov, Volgograd\n",
        "269           Michurinsk, Tambov\n",
        "270             Kozlove, Luhansk\n",
        "271         not_found, not_found\n",
        "272    Krasnoslobodsk, Mordoviya\n",
        "Length: 273, dtype: object"
       ]
      }
     ],
     "prompt_number": 75
    },
    {
     "cell_type": "code",
     "collapsed": false,
     "input": [
      "uGeodf_merged.to_csv('uyezd_geocoded.csv',encoding='utf-8')"
     ],
     "language": "python",
     "metadata": {},
     "outputs": [],
     "prompt_number": 74
    },
    {
     "cell_type": "code",
     "collapsed": false,
     "input": [
      "udf = pd.DataFrame(output)\n",
      "udf.head()"
     ],
     "language": "python",
     "metadata": {},
     "outputs": [
      {
       "html": [
        "<div style=\"max-height:1000px;max-width:1500px;overflow:auto;\">\n",
        "<table border=\"1\" class=\"dataframe\">\n",
        "  <thead>\n",
        "    <tr style=\"text-align: right;\">\n",
        "      <th></th>\n",
        "      <th>0</th>\n",
        "      <th>1</th>\n",
        "      <th>2</th>\n",
        "      <th>3</th>\n",
        "      <th>4</th>\n",
        "      <th>5</th>\n",
        "      <th>6</th>\n",
        "      <th>7</th>\n",
        "      <th>8</th>\n",
        "      <th>9</th>\n",
        "    </tr>\n",
        "  </thead>\n",
        "  <tbody>\n",
        "    <tr>\n",
        "      <th>0</th>\n",
        "      <td> 1</td>\n",
        "      <td>       not_found</td>\n",
        "      <td>   not_found</td>\n",
        "      <td> not_found</td>\n",
        "      <td> not_found</td>\n",
        "      <td> not_found</td>\n",
        "      <td> not_found</td>\n",
        "      <td> not_found</td>\n",
        "      <td> http://api.geonames.org/search?north=90&amp;west=-...</td>\n",
        "      <td> geonames</td>\n",
        "    </tr>\n",
        "    <tr>\n",
        "      <th>1</th>\n",
        "      <td> 1</td>\n",
        "      <td>         Aleksin</td>\n",
        "      <td>        Tula</td>\n",
        "      <td>    Russia</td>\n",
        "      <td>  54.50503</td>\n",
        "      <td>   37.0674</td>\n",
        "      <td>    582750</td>\n",
        "      <td>        RU</td>\n",
        "      <td> http://api.geonames.org/search?north=90&amp;west=-...</td>\n",
        "      <td> geonames</td>\n",
        "    </tr>\n",
        "    <tr>\n",
        "      <th>2</th>\n",
        "      <td> 1</td>\n",
        "      <td> Aleksino-Shatur</td>\n",
        "      <td> Moskovskaya</td>\n",
        "      <td>    Russia</td>\n",
        "      <td>  55.45557</td>\n",
        "      <td>  39.52337</td>\n",
        "      <td>    582715</td>\n",
        "      <td>        RU</td>\n",
        "      <td> http://api.geonames.org/search?north=90&amp;west=-...</td>\n",
        "      <td> geonames</td>\n",
        "    </tr>\n",
        "    <tr>\n",
        "      <th>3</th>\n",
        "      <td> 1</td>\n",
        "      <td> G\u0105s\u00f3wka Oleksin</td>\n",
        "      <td>    Podlasie</td>\n",
        "      <td>    Poland</td>\n",
        "      <td>  52.95362</td>\n",
        "      <td>  22.87128</td>\n",
        "      <td>    772308</td>\n",
        "      <td>        PL</td>\n",
        "      <td> http://api.geonames.org/search?north=90&amp;west=-...</td>\n",
        "      <td> geonames</td>\n",
        "    </tr>\n",
        "    <tr>\n",
        "      <th>4</th>\n",
        "      <td> 1</td>\n",
        "      <td>   Malyy Oleksyn</td>\n",
        "      <td>       Rivne</td>\n",
        "      <td>   Ukraine</td>\n",
        "      <td>  50.66068</td>\n",
        "      <td>  26.21315</td>\n",
        "      <td>   8441520</td>\n",
        "      <td>        UA</td>\n",
        "      <td> http://api.geonames.org/search?north=90&amp;west=-...</td>\n",
        "      <td> geonames</td>\n",
        "    </tr>\n",
        "  </tbody>\n",
        "</table>\n",
        "</div>"
       ],
       "metadata": {},
       "output_type": "pyout",
       "prompt_number": 86,
       "text": [
        "   0                1            2          3          4          5  \\\n",
        "0  1        not_found    not_found  not_found  not_found  not_found   \n",
        "1  1          Aleksin         Tula     Russia   54.50503    37.0674   \n",
        "2  1  Aleksino-Shatur  Moskovskaya     Russia   55.45557   39.52337   \n",
        "3  1  G\u0105s\u00f3wka Oleksin     Podlasie     Poland   52.95362   22.87128   \n",
        "4  1    Malyy Oleksyn        Rivne    Ukraine   50.66068   26.21315   \n",
        "\n",
        "           6          7                                                  8  \\\n",
        "0  not_found  not_found  http://api.geonames.org/search?north=90&west=-...   \n",
        "1     582750         RU  http://api.geonames.org/search?north=90&west=-...   \n",
        "2     582715         RU  http://api.geonames.org/search?north=90&west=-...   \n",
        "3     772308         PL  http://api.geonames.org/search?north=90&west=-...   \n",
        "4    8441520         UA  http://api.geonames.org/search?north=90&west=-...   \n",
        "\n",
        "          9  \n",
        "0  geonames  \n",
        "1  geonames  \n",
        "2  geonames  \n",
        "3  geonames  \n",
        "4  geonames  "
       ]
      }
     ],
     "prompt_number": 86
    },
    {
     "cell_type": "code",
     "collapsed": false,
     "input": [
      "udf.to_csv('udf.csv',encoding='utf-8')"
     ],
     "language": "python",
     "metadata": {},
     "outputs": [],
     "prompt_number": 87
    },
    {
     "cell_type": "markdown",
     "metadata": {},
     "source": [
      "Market Town Geocoding\n",
      "====================="
     ]
    },
    {
     "cell_type": "code",
     "collapsed": false,
     "input": [
      "geocoded = []\n",
      "problem_prov = []\n",
      "d = 4\n",
      "for x in range(0,len(market_df)):\n",
      "    entry = market_df.iloc[x]\n",
      "    try:\n",
      "        loc = bounding_dict[entry['prov_stem']]\n",
      "    except KeyError:\n",
      "        print(entry['prov_stem'])\n",
      "        problem_prov.append(entry['prov_stem'])\n",
      "        continue\n",
      "    if \"boundaries\" in loc:\n",
      "        W = loc[\"boundaries\"][0]\n",
      "        S = loc[\"boundaries\"][1]\n",
      "        E = loc[\"boundaries\"][2]\n",
      "        N = loc[\"boundaries\"][3]\n",
      "    else:\n",
      "        N = loc[\"center\"][0]+d\n",
      "        S = loc[\"center\"][0]-d\n",
      "        W = loc[\"center\"][1]-d\n",
      "        E = loc[\"center\"][1]+d\n",
      "    geocoded.extend(geonames_lookup(entry['name_modern_sp'],entry.name,north=N,south=S,west=W,east=E))"
     ],
     "language": "python",
     "metadata": {},
     "outputs": [
      {
       "output_type": "stream",
       "stream": "stdout",
       "text": [
        "\u0410\u0412\u0414\u0423\u041b\u041e\u0412\u041e was found.\n",
        "\u0410\u0412\u0416\u0415\u041d\u0421\u041a\u0410\u042f was not found."
       ]
      },
      {
       "output_type": "stream",
       "stream": "stdout",
       "text": [
        "\n",
        "\u0410\u0414\u041e\u0412\u0410\u0422\u041e\u0412\u041e was not found."
       ]
      },
      {
       "output_type": "stream",
       "stream": "stdout",
       "text": [
        "\n",
        "\u0410\u041a\u0421\u0415\u041b\u042c was found."
       ]
      },
      {
       "output_type": "stream",
       "stream": "stdout",
       "text": [
        "\n",
        "\u0410\u041b\u0410\u0422\u042b\u0420\u042c was found."
       ]
      },
      {
       "output_type": "stream",
       "stream": "stdout",
       "text": [
        "\n",
        "\u0410\u041b\u0415\u041a\u0421\u0410\u041d\u0414\u0420\u041e\u0412\u0410 \u041f\u0423\u0421\u0422\u042b\u041d\u042f was not found."
       ]
      },
      {
       "output_type": "stream",
       "stream": "stdout",
       "text": [
        "\n",
        "\u0410\u041b\u0415\u041a\u0421\u0410\u041d\u0414\u0420\u041e\u0412\u0421\u041a\u041e\u0415 was not found."
       ]
      },
      {
       "output_type": "stream",
       "stream": "stdout",
       "text": [
        "\n",
        "\u0410\u041b\u0415\u041a\u0421\u0418\u041d was found."
       ]
      },
      {
       "output_type": "stream",
       "stream": "stdout",
       "text": [
        "\n",
        "\u0410\u041b\u0415\u041a\u0421\u0415\u0415\u0412\u041a\u0410 was found."
       ]
      },
      {
       "output_type": "stream",
       "stream": "stdout",
       "text": [
        "\n",
        "\u0410\u041b\u0415\u041a\u0421\u0415\u0415\u0412\u0421\u041a\u0410\u042f was not found."
       ]
      },
      {
       "output_type": "stream",
       "stream": "stdout",
       "text": [
        "\n",
        "\u0410\u041b\u0415\u0428\u041d\u042f was found."
       ]
      },
      {
       "output_type": "stream",
       "stream": "stdout",
       "text": [
        "\n",
        "\u0410\u041d\u0410\u0415\u0412\u041e was found."
       ]
      },
      {
       "output_type": "stream",
       "stream": "stdout",
       "text": [
        "\n",
        "\u0410\u041d\u0414\u0420\u0415\u0415\u0412\u041a\u0410 was found."
       ]
      },
      {
       "output_type": "stream",
       "stream": "stdout",
       "text": [
        "\n",
        "\u0410\u041d\u0422\u041e\u041d\u041e\u0412\u041a\u0410 was found."
       ]
      },
      {
       "output_type": "stream",
       "stream": "stdout",
       "text": [
        "\n",
        "\u0410\u041f\u0418\u0427\u0415\u0420\u0421\u041a\u0410\u042f was not found."
       ]
      },
      {
       "output_type": "stream",
       "stream": "stdout",
       "text": [
        "\n",
        "\u0410\u0420\u0413\u0410\u041c\u0410\u0427\u042c\u042f was not found."
       ]
      },
      {
       "output_type": "stream",
       "stream": "stdout",
       "text": [
        "\n",
        "\u0410\u0420\u0417\u0410\u041c\u0410\u0421 was found."
       ]
      },
      {
       "output_type": "stream",
       "stream": "stdout",
       "text": [
        "\n",
        "\u0410\u0420\u0422\u0415\u041c\u041e\u041d\u041e\u0412\u041a\u0410 was not found."
       ]
      },
      {
       "output_type": "stream",
       "stream": "stdout",
       "text": [
        "\n",
        "\u0410\u0420\u0425\u0410\u041d\u0413\u0415\u041b\u042c\u0421\u041a was found."
       ]
      },
      {
       "output_type": "stream",
       "stream": "stdout",
       "text": [
        "\n",
        "\u0410\u0420\u0425\u0410\u041d\u0413\u0415\u041b\u042c\u0421\u041a\u041e\u0415 was found."
       ]
      },
      {
       "output_type": "stream",
       "stream": "stdout",
       "text": [
        "\n",
        "\u0410\u0421\u0410\u041a\u041e\u0412\u041e was not found."
       ]
      },
      {
       "output_type": "stream",
       "stream": "stdout",
       "text": [
        "\n",
        "\u0410\u0421\u0422\u0420\u0410\u0425\u0410\u041d\u042c was found."
       ]
      },
      {
       "output_type": "stream",
       "stream": "stdout",
       "text": [
        "\n",
        "\u0410\u0422\u0415\u041c\u0410\u0420 was found."
       ]
      },
      {
       "output_type": "stream",
       "stream": "stdout",
       "text": [
        "\n",
        "\u0410\u0422\u041a\u0410\u0420\u0421\u041a was found."
       ]
      },
      {
       "output_type": "stream",
       "stream": "stdout",
       "text": [
        "\n",
        "\u0410\u0425\u0422\u042b\u0420\u041a\u0410 was found."
       ]
      },
      {
       "output_type": "stream",
       "stream": "stdout",
       "text": [
        "\n",
        "\u0411\u0410\u0415\u0412\u041a\u0410 was found."
       ]
      },
      {
       "output_type": "stream",
       "stream": "stdout",
       "text": [
        "\n",
        "\u0411\u0410\u041b\u0410\u041a\u041b\u0415\u0415\u0412 was not found."
       ]
      },
      {
       "output_type": "stream",
       "stream": "stdout",
       "text": [
        "\n",
        "\u0411\u0410\u041b\u0410\u0425\u041d\u0410 was found."
       ]
      },
      {
       "output_type": "stream",
       "stream": "stdout",
       "text": [
        "\n",
        "\u0411\u0410\u0420\u042b\u0428\u0415\u0412\u041a\u0410 was found."
       ]
      },
      {
       "output_type": "stream",
       "stream": "stdout",
       "text": [
        "\n",
        "\u0411\u0410\u0421\u0410\u041d\u042c was found."
       ]
      },
      {
       "output_type": "stream",
       "stream": "stdout",
       "text": [
        "\n",
        "\u0411\u0410\u0422\u0420\u0410\u041a was found."
       ]
      },
      {
       "output_type": "stream",
       "stream": "stdout",
       "text": [
        "\n",
        "\u0411\u0410\u0422\u0423\u0420\u0418\u041d was found."
       ]
      },
      {
       "output_type": "stream",
       "stream": "stdout",
       "text": [
        "\n",
        "\u0411\u0410\u0425\u041c\u0410\u0427\u042c was found."
       ]
      },
      {
       "output_type": "stream",
       "stream": "stdout",
       "text": [
        "\n",
        "\u0411\u0415\u0417\u0413\u0418\u041d\u041e\u0412\u041a\u0410 was not found."
       ]
      },
      {
       "output_type": "stream",
       "stream": "stdout",
       "text": [
        "\n",
        "\u0411\u0415\u0420\u0415\u0417\u0418\u041d was not found."
       ]
      },
      {
       "output_type": "stream",
       "stream": "stdout",
       "text": [
        "\n",
        "\u0411\u0415\u0420\u0415\u0417\u041d\u0418\u041a\u0418 was found."
       ]
      },
      {
       "output_type": "stream",
       "stream": "stdout",
       "text": [
        "\n",
        "\u0411\u0415\u0420\u0415\u0417\u041e\u0412 was not found."
       ]
      },
      {
       "output_type": "stream",
       "stream": "stdout",
       "text": [
        "\n",
        "\u0411\u0415\u0420\u0415\u0417\u041e\u0412\u0426\u0410 was not found."
       ]
      },
      {
       "output_type": "stream",
       "stream": "stdout",
       "text": [
        "\n",
        "\u0411\u0415\u0420\u041a\u0423\u041d\u041e\u0412\u0410 was not found."
       ]
      },
      {
       "output_type": "stream",
       "stream": "stdout",
       "text": [
        "\n",
        "\u0411\u0415\u0420\u041d\u0418\u041a\u0418 was found."
       ]
      },
      {
       "output_type": "stream",
       "stream": "stdout",
       "text": [
        "\n",
        "\u0411\u0418\u041b\u042f\u0420\u0421\u041a was found."
       ]
      },
      {
       "output_type": "stream",
       "stream": "stdout",
       "text": [
        "\n",
        "\u0411\u0418\u0420\u0416\u0410 was found."
       ]
      },
      {
       "output_type": "stream",
       "stream": "stdout",
       "text": [
        "\n",
        "New form: \u0411\u041b\u0410\u0413\u041e\u0412\u0415\u0429\u0415\u041d\u0421\u041a\u0418\u0419 \u041f\u0420\u0418\u0425\u041e\u0414"
       ]
      },
      {
       "output_type": "stream",
       "stream": "stdout",
       "text": [
        "\n",
        "\u0411\u041b\u0410\u0413\u041e\u0412\u0415\u0429\u0415\u041d\u0421\u041a\u0418\u0419 \u041f\u0420\u0418\u0425\u041e\u0414 was not found."
       ]
      },
      {
       "output_type": "stream",
       "stream": "stdout",
       "text": [
        "\n",
        "\u0411\u041e\u0411\u0420\u041e\u0412\u0418\u0426\u0410 was found."
       ]
      },
      {
       "output_type": "stream",
       "stream": "stdout",
       "text": [
        "\n",
        "\u0411\u041e\u0411\u0420\u041e\u0412\u0421\u041a\u041e\u0415 was not found."
       ]
      },
      {
       "output_type": "stream",
       "stream": "stdout",
       "text": [
        "\n",
        "\u0411\u041e\u0411\u042b\u041b\u0415\u0412\u0421\u041a\u041e\u0415 was not found."
       ]
      },
      {
       "output_type": "stream",
       "stream": "stdout",
       "text": [
        "\n",
        "\u0411\u041e\u0413\u0410\u0422\u0418\u0429\u0415\u0411\u041e was not found."
       ]
      },
      {
       "output_type": "stream",
       "stream": "stdout",
       "text": [
        "\n",
        "\u0411\u041e\u0413\u0410\u0422\u042b\u0419 was found."
       ]
      },
      {
       "output_type": "stream",
       "stream": "stdout",
       "text": [
        "\n",
        "\u0411\u041e\u0413\u0410\u0427\u041a\u0410 was found."
       ]
      },
      {
       "output_type": "stream",
       "stream": "stdout",
       "text": [
        "\n",
        "\u0411\u041e\u0413\u041e\u0414\u0423\u0425\u041e\u0412 was found."
       ]
      },
      {
       "output_type": "stream",
       "stream": "stdout",
       "text": [
        "\n",
        "\u0411\u041e\u0413\u041e\u0420\u041e\u0414\u0418\u0426\u041a was found."
       ]
      },
      {
       "output_type": "stream",
       "stream": "stdout",
       "text": [
        "\n",
        "\u0411\u041e\u0413\u041e\u0420\u041e\u0414\u0418\u0426\u041a loaded from json\n",
        "\u0411\u041e\u0413\u041e\u0420\u041e\u0414\u0418\u0426\u041a was found.\n",
        "New form: \u0411\u041e\u0413\u041e\u0420\u041e\u0414\u0418\u0426\u041a\u0418\u0419 \u041a\u0410\u0417\u0410\u041d\u0421\u041a\u0418\u0419"
       ]
      },
      {
       "output_type": "stream",
       "stream": "stdout",
       "text": [
        "\n",
        "\u0411\u041e\u0413\u041e\u0420\u041e\u0414\u0418\u0426\u041a\u0418\u0419 \u041a\u0410\u0417\u0410\u041d\u0421\u041a\u0418\u0419 was not found."
       ]
      },
      {
       "output_type": "stream",
       "stream": "stdout",
       "text": [
        "\n",
        "\u0411\u041e\u0413\u041e\u0420\u041e\u0414\u0421\u041a was found."
       ]
      },
      {
       "output_type": "stream",
       "stream": "stdout",
       "text": [
        "\n",
        "\u0411\u041e\u0413\u041e\u042f\u0412\u041b\u0415\u041d\u0421\u041a\u0410\u042f was not found."
       ]
      },
      {
       "output_type": "stream",
       "stream": "stdout",
       "text": [
        "\n",
        "\u0411\u041e\u0413\u041e\u042f\u0412\u041b\u0415\u041d\u0421\u041a\u0410\u042f was not found."
       ]
      },
      {
       "output_type": "stream",
       "stream": "stdout",
       "text": [
        "\n",
        "\u0411\u041e\u0419\u041d\u042f was not found."
       ]
      },
      {
       "output_type": "stream",
       "stream": "stdout",
       "text": [
        "\n",
        "\u0411\u041e\u0420\u0410 was not found."
       ]
      },
      {
       "output_type": "stream",
       "stream": "stdout",
       "text": [
        "\n",
        "\u0411\u041e\u0420\u0417\u041d\u0410 was found."
       ]
      },
      {
       "output_type": "stream",
       "stream": "stdout",
       "text": [
        "\n",
        "\u0411\u041e\u0420\u0418\u0421\u041e\u0412 was not found."
       ]
      },
      {
       "output_type": "stream",
       "stream": "stdout",
       "text": [
        "\n",
        "\u0411\u041e\u0420\u0418\u0421\u041e\u0413\u041b\u0415\u0411\u0421\u041a was found."
       ]
      },
      {
       "output_type": "stream",
       "stream": "stdout",
       "text": [
        "\n",
        "\u0411\u041e\u0420\u0418\u0421\u041e\u0413\u041b\u0415\u0411\u0421\u041a loaded from json\n",
        "\u0411\u041e\u0420\u0418\u0421\u041e\u0413\u041b\u0415\u0411\u0421\u041a was found.\n",
        "New form: \u0411\u041e\u0420\u0418\u0421\u041e\u0413\u041b\u0415\u0411\u0421\u041a\u0418\u0419"
       ]
      },
      {
       "output_type": "stream",
       "stream": "stdout",
       "text": [
        "\n",
        "\u0411\u041e\u0420\u0418\u0421\u041e\u0413\u041b\u0415\u0411\u0421\u041a\u0418\u0419 was found."
       ]
      },
      {
       "output_type": "stream",
       "stream": "stdout",
       "text": [
        "\n",
        "\u0411\u041e\u0420\u0418\u0421\u041f\u041e\u041b\u042c was found."
       ]
      },
      {
       "output_type": "stream",
       "stream": "stdout",
       "text": [
        "\n",
        "\u0411\u041e\u0420\u041e\u0412\u0415\u041d\u041a\u0418 was found."
       ]
      },
      {
       "output_type": "stream",
       "stream": "stdout",
       "text": [
        "\n",
        "\u0411\u041e\u0420\u041e\u0412\u0418\u0427\u0418 was found."
       ]
      },
      {
       "output_type": "stream",
       "stream": "stdout",
       "text": [
        "\n",
        "\u0411\u041e\u0420\u041e\u0412\u0421\u041a was found."
       ]
      },
      {
       "output_type": "stream",
       "stream": "stdout",
       "text": [
        "\n",
        "\u0411\u041e\u0420\u041e\u041c\u0414\u042f was not found."
       ]
      },
      {
       "output_type": "stream",
       "stream": "stdout",
       "text": [
        "\n",
        "\u0411\u041e\u0420\u042f\u0422\u0418\u041d\u041e was found."
       ]
      },
      {
       "output_type": "stream",
       "stream": "stdout",
       "text": [
        "\n",
        "\u0411\u0420\u041e\u041d\u041d\u0418\u0426\u042b was found."
       ]
      },
      {
       "output_type": "stream",
       "stream": "stdout",
       "text": [
        "\n",
        "\u0411\u0420\u041e\u041d\u041d\u0418\u0426\u042b loaded from json\n",
        "\u0411\u0420\u041e\u041d\u041d\u0418\u0426\u042b was found.\n",
        "\u0411\u0420\u042f\u041d\u0421\u041a was found."
       ]
      },
      {
       "output_type": "stream",
       "stream": "stdout",
       "text": [
        "\n",
        "\u0411\u0423\u0414\u0418\u0427\u042c was not found."
       ]
      },
      {
       "output_type": "stream",
       "stream": "stdout",
       "text": [
        "\n",
        "New form: \u0411\u0423\u0420\u0415\u0426\u041a\u0418\u0419"
       ]
      },
      {
       "output_type": "stream",
       "stream": "stdout",
       "text": [
        "\n",
        "\u0411\u0423\u0420\u0415\u0426\u041a\u0418\u0419 was not found."
       ]
      },
      {
       "output_type": "stream",
       "stream": "stdout",
       "text": [
        "\n",
        "\u0411\u0423\u0420\u041e\u041c\u041a\u0410 was found."
       ]
      },
      {
       "output_type": "stream",
       "stream": "stdout",
       "text": [
        "\n",
        "\u0411\u0423\u0427\u0410\u041b\u041a\u0418 was found."
       ]
      },
      {
       "output_type": "stream",
       "stream": "stdout",
       "text": [
        "\n",
        "\u0411\u0423\u0428\u041d\u0420\u0412\u041e was not found."
       ]
      },
      {
       "output_type": "stream",
       "stream": "stdout",
       "text": [
        "\n",
        "\u0411\u042b\u041a\u041e\u0412 was found."
       ]
      },
      {
       "output_type": "stream",
       "stream": "stdout",
       "text": [
        "\n",
        "\u0411\u0415\u0416\u0415\u0426\u041a was found."
       ]
      },
      {
       "output_type": "stream",
       "stream": "stdout",
       "text": [
        "\n",
        "\u0411\u0415\u041b\u0410\u042f \u041a\u041e\u041b\u041f\u042c was found."
       ]
      },
      {
       "output_type": "stream",
       "stream": "stdout",
       "text": [
        "\n",
        "\u0411\u0415\u041b\u0413\u041e\u0420\u041e\u0414 was found."
       ]
      },
      {
       "output_type": "stream",
       "stream": "stdout",
       "text": [
        "\n",
        "\u0411\u0415\u041b\u0418\u041a\u0418 was found."
       ]
      },
      {
       "output_type": "stream",
       "stream": "stdout",
       "text": [
        "\n",
        "\u0411\u0415\u041b\u041e\u0415 was found."
       ]
      },
      {
       "output_type": "stream",
       "stream": "stdout",
       "text": [
        "\n",
        "\u0411\u0415\u041b\u041e\u0417\u0415\u0420\u0421\u041a was found."
       ]
      },
      {
       "output_type": "stream",
       "stream": "stdout",
       "text": [
        "\n",
        "New form: \u0411\u0415\u041b\u041e\u0417\u0415\u0420\u0421\u041a\u0418\u0419 \u041a\u0418\u0420\u0418\u041b\u041e\u0412"
       ]
      },
      {
       "output_type": "stream",
       "stream": "stdout",
       "text": [
        "\n",
        "\u0411\u0415\u041b\u041e\u0417\u0415\u0420\u0421\u041a\u0418\u0419 \u041a\u0418\u0420\u0418\u041b\u041e\u0412 was not found."
       ]
      },
      {
       "output_type": "stream",
       "stream": "stdout",
       "text": [
        "\n",
        "New form: \u0411\u0415\u041b\u0418\u0419"
       ]
      },
      {
       "output_type": "stream",
       "stream": "stdout",
       "text": [
        "\n",
        "\u0411\u0415\u041b\u0418\u0419 was not found."
       ]
      },
      {
       "output_type": "stream",
       "stream": "stdout",
       "text": [
        "\n",
        "\u0411\u0415\u041b\u041e\u041a\u0423\u0420\u0418\u041d\u0410 was not found."
       ]
      },
      {
       "output_type": "stream",
       "stream": "stdout",
       "text": [
        "\n",
        "\u0411\u0415\u041b\u041e\u041f\u041e\u041b\u042c\u0415 was found."
       ]
      },
      {
       "output_type": "stream",
       "stream": "stdout",
       "text": [
        "\n",
        "\u0411\u0415\u041b\u041e\u0426\u0415\u0420\u041a\u041e\u0412\u041a\u0410 was not found."
       ]
      },
      {
       "output_type": "stream",
       "stream": "stdout",
       "text": [
        "\n",
        "\u0411\u0415\u041b\u042b\u041d\u0418\u0427\u0418 was found."
       ]
      },
      {
       "output_type": "stream",
       "stream": "stdout",
       "text": [
        "\n",
        "\u0412\u0410\u041b\u0414\u0410\u0419 was found."
       ]
      },
      {
       "output_type": "stream",
       "stream": "stdout",
       "text": [
        "\n",
        "\u0412\u0410\u041b\u041a\u0418 was found."
       ]
      },
      {
       "output_type": "stream",
       "stream": "stdout",
       "text": [
        "\n",
        "\u0412\u0410\u041b\u0423\u0419\u041a\u0418 was found."
       ]
      },
      {
       "output_type": "stream",
       "stream": "stdout",
       "text": [
        "\n",
        "\u0412\u0410\u0420\u0412\u0410 was found."
       ]
      },
      {
       "output_type": "stream",
       "stream": "stdout",
       "text": [
        "\n",
        "\u0411\u0410\u0420\u041a\u041e\u0412 was not found."
       ]
      },
      {
       "output_type": "stream",
       "stream": "stdout",
       "text": [
        "\n",
        "\u0412\u0410\u0428\u041a\u0410 was found."
       ]
      },
      {
       "output_type": "stream",
       "stream": "stdout",
       "text": [
        "\n",
        "\u0412\u0415\u0419\u0414\u0415\u041b\u0415\u0412\u041a\u0410 was found."
       ]
      },
      {
       "output_type": "stream",
       "stream": "stdout",
       "text": [
        "\n",
        "\u0412\u0415\u041b\u0418\u0416 was found."
       ]
      },
      {
       "output_type": "stream",
       "stream": "stdout",
       "text": [
        "\n",
        "\u0412\u0415\u041b\u0418\u041a\u041e\u0415 was found."
       ]
      },
      {
       "output_type": "stream",
       "stream": "stdout",
       "text": [
        "\n",
        "\u0412\u0415\u041d\u0414\u0415\u041d was found."
       ]
      },
      {
       "output_type": "stream",
       "stream": "stdout",
       "text": [
        "\n",
        "\u0412\u0415\u041d\u0415\u0412 was found."
       ]
      },
      {
       "output_type": "stream",
       "stream": "stdout",
       "text": [
        "\n",
        "New form: \u0412\u0415\u041d\u0415\u0412\u0421\u041a\u0418\u0419 \u041d\u0418\u041a\u041e\u041b\u0410\u0415\u0412\u0421\u041a\u0418\u0419"
       ]
      },
      {
       "output_type": "stream",
       "stream": "stdout",
       "text": [
        "\n",
        "\u0412\u0415\u041d\u0415\u0412\u0421\u041a\u0418\u0419 \u041d\u0418\u041a\u041e\u041b\u0410\u0415\u0412\u0421\u041a\u0418\u0419 was not found."
       ]
      },
      {
       "output_type": "stream",
       "stream": "stdout",
       "text": [
        "\n",
        "\u0412\u0415\u041f\u0420\u0418\u041a was found."
       ]
      },
      {
       "output_type": "stream",
       "stream": "stdout",
       "text": [
        "\n",
        "\u0412\u0415\u0420\u0415\u042f was found."
       ]
      },
      {
       "output_type": "stream",
       "stream": "stdout",
       "text": [
        "\n",
        "\u0412\u0415\u0420\u0425\u041d\u0418\u0419 \u0423\u0414\u0418\u041d\u0421\u041a was not found."
       ]
      },
      {
       "output_type": "stream",
       "stream": "stdout",
       "text": [
        "\n",
        "New form: \u0412\u0415\u0420\u0425\u041e\u0412\u0410\u0416\u0421\u041a\u0418\u0419"
       ]
      },
      {
       "output_type": "stream",
       "stream": "stdout",
       "text": [
        "\n",
        "\u0412\u0415\u0420\u0425\u041e\u0412\u0410\u0416\u0421\u041a\u0418\u0419 was not found."
       ]
      },
      {
       "output_type": "stream",
       "stream": "stdout",
       "text": [
        "\n",
        "\u0412\u0415\u0421\u0418\u0415\u0413\u041e\u041d\u0421\u041a was found."
       ]
      },
      {
       "output_type": "stream",
       "stream": "stdout",
       "text": [
        "\n",
        "\u0412\u0418\u041b\u042c\u041c\u0410\u041d\u0421\u0422\u0420\u0410\u041d\u0414 was not found."
       ]
      },
      {
       "output_type": "stream",
       "stream": "stdout",
       "text": [
        "\n",
        "\u0412\u0418\u041b\u042e\u0419\u0421\u041a\u041e\u0415 \u0412\u0415\u0420\u0425\u041d\u0415\u0415 was not found."
       ]
      },
      {
       "output_type": "stream",
       "stream": "stdout",
       "text": [
        "\n",
        "\u0412\u041e\u0415\u0412\u041e\u0414\u0421\u041a\u041e\u0415 was found."
       ]
      },
      {
       "output_type": "stream",
       "stream": "stdout",
       "text": [
        "\n",
        "New form: \u0412\u041e\u0417\u041d\u0415\u0421\u0415\u041d\u0421\u041a\u0418\u0419"
       ]
      },
      {
       "output_type": "stream",
       "stream": "stdout",
       "text": [
        "\n",
        "\u0412\u041e\u0417\u041d\u0415\u0421\u0415\u041d\u0421\u041a\u0418\u0419 was not found."
       ]
      },
      {
       "output_type": "stream",
       "stream": "stdout",
       "text": [
        "\n",
        "\u0412\u041e\u041b\u041c\u0410\u0420 was found."
       ]
      },
      {
       "output_type": "stream",
       "stream": "stdout",
       "text": [
        "\n",
        "\u0412\u041e\u041b\u041e\u0414\u0418\u041c\u0415\u0420\u0415\u0426 was not found."
       ]
      },
      {
       "output_type": "stream",
       "stream": "stdout",
       "text": [
        "\n",
        "\u0412\u041e\u041b\u041e\u041a\u041e\u041b\u0410\u041c\u0421\u041a was found."
       ]
      },
      {
       "output_type": "stream",
       "stream": "stdout",
       "text": [
        "\n",
        "\u0412\u041e\u041b\u041e\u041a\u041e\u041f\u0418\u041d\u0415\u0416\u0421\u041a\u0410\u042f was not found."
       ]
      },
      {
       "output_type": "stream",
       "stream": "stdout",
       "text": [
        "\n",
        "\u0412\u041e\u041b\u0421\u041a was found."
       ]
      },
      {
       "output_type": "stream",
       "stream": "stdout",
       "text": [
        "\n",
        "\u0412\u041e\u041b\u0427\u042c\u042f was found."
       ]
      },
      {
       "output_type": "stream",
       "stream": "stdout",
       "text": [
        "\n",
        "\u0412\u041e\u041b\u042b\u041d\u0426\u042b was found."
       ]
      },
      {
       "output_type": "stream",
       "stream": "stdout",
       "text": [
        "\n",
        "\u0412\u041e\u041b\u042c\u041d\u0410\u042f was not found."
       ]
      },
      {
       "output_type": "stream",
       "stream": "stdout",
       "text": [
        "\n",
        "\u0412\u041e\u0420\u041e\u041d\u0415\u0416 was found."
       ]
      },
      {
       "output_type": "stream",
       "stream": "stdout",
       "text": [
        "\n",
        "\u0412\u041e\u0420\u041e\u041d\u0415\u0416 loaded from json\n",
        "\u0412\u041e\u0420\u041e\u041d\u0415\u0416 was found.\n",
        "\u0412\u041e\u0420\u041e\u041d\u041a\u041e\u0412 was found."
       ]
      },
      {
       "output_type": "stream",
       "stream": "stdout",
       "text": [
        "\n",
        "\u0412\u041e\u0420\u041e\u041d\u0426\u041e\u0412\u041a\u0410 was found."
       ]
      },
      {
       "output_type": "stream",
       "stream": "stdout",
       "text": [
        "\n",
        "\u0412\u041e\u0421\u041a\u0420\u0415\u0421\u0415\u041d\u0421\u041a was found."
       ]
      },
      {
       "output_type": "stream",
       "stream": "stdout",
       "text": [
        "\n",
        "\u0412\u0420\u0415\u0412 was found."
       ]
      },
      {
       "output_type": "stream",
       "stream": "stdout",
       "text": [
        "\n",
        "\u0412\u042b\u0411\u041e\u0420 was found."
       ]
      },
      {
       "output_type": "stream",
       "stream": "stdout",
       "text": [
        "\n",
        "\u0412\u042b\u0411\u041e\u0420\u0413 was found."
       ]
      },
      {
       "output_type": "stream",
       "stream": "stdout",
       "text": [
        "\n",
        "\u0412\u042b\u0421\u041e\u041a\u041e\u0415 was found."
       ]
      },
      {
       "output_type": "stream",
       "stream": "stdout",
       "text": [
        "\n",
        "\u0412\u042b\u0421\u041e\u041a\u041e\u0415 loaded from json\n",
        "\u0412\u042b\u0421\u041e\u041a\u041e\u0415 was found.\n",
        "\u0412\u042b\u0422\u0415\u0413\u0420\u0410 was found."
       ]
      },
      {
       "output_type": "stream",
       "stream": "stdout",
       "text": [
        "\n",
        "\u0412\u042c\u0418\u0427\u0423\u0413\u0410 was not found."
       ]
      },
      {
       "output_type": "stream",
       "stream": "stdout",
       "text": [
        "\n",
        "\u0412\u042b\u0428\u0413\u041e\u0420\u041e\u0414 was not found."
       ]
      },
      {
       "output_type": "stream",
       "stream": "stdout",
       "text": [
        "\n",
        "\u0412\u042b\u0428\u0413\u041e\u0420\u041e\u0414 was found."
       ]
      },
      {
       "output_type": "stream",
       "stream": "stdout",
       "text": [
        "\n",
        "\u0412\u042b\u0428\u041d\u0418\u0419 \u0412\u041e\u041b\u041e\u0427\u041e\u041a was not found."
       ]
      },
      {
       "output_type": "stream",
       "stream": "stdout",
       "text": [
        "\n",
        "\u0412\u0415\u0422\u041a\u0410 was found."
       ]
      },
      {
       "output_type": "stream",
       "stream": "stdout",
       "text": [
        "\n",
        "\u0412\u0415\u0422\u041a\u0410 loaded from json\n",
        "\u0412\u0415\u0422\u041a\u0410 was found.\n",
        "\u0412\u042f\u0417\u041d\u0418\u041a\u0418 was found."
       ]
      },
      {
       "output_type": "stream",
       "stream": "stdout",
       "text": [
        "\n",
        "\u0412\u042f\u0417\u041e\u0412\u041d\u0410 was not found."
       ]
      },
      {
       "output_type": "stream",
       "stream": "stdout",
       "text": [
        "\n",
        "\u0413\u0410\u0411\u0417\u0410\u041b\u042c was not found."
       ]
      },
      {
       "output_type": "stream",
       "stream": "stdout",
       "text": [
        "\n",
        "\u0413\u0410\u0412\u0420\u0418\u041b\u041e\u0412\u0410 was found."
       ]
      },
      {
       "output_type": "stream",
       "stream": "stdout",
       "text": [
        "\n",
        "\u0413\u0410\u0413\u0410\u0420\u0418\u041d\u041e was found."
       ]
      },
      {
       "output_type": "stream",
       "stream": "stdout",
       "text": [
        "\n",
        "\u0413\u0410\u0414\u042f\u0427\u042c was found."
       ]
      },
      {
       "output_type": "stream",
       "stream": "stdout",
       "text": [
        "\n",
        "\u0413\u0410\u041b\u042f\u041d\u0418 was not found."
       ]
      },
      {
       "output_type": "stream",
       "stream": "stdout",
       "text": [
        "\n",
        "\u0413\u0410\u0422\u041d\u0418\u0426\u042b was not found."
       ]
      },
      {
       "output_type": "stream",
       "stream": "stdout",
       "text": [
        "\n",
        "\u0413\u0414\u041e\u0412 was found."
       ]
      },
      {
       "output_type": "stream",
       "stream": "stdout",
       "text": [
        "\n",
        "\u0413\u0415\u041d\u041d\u0410\u0414\u0418\u0415\u0412 was not found."
       ]
      },
      {
       "output_type": "stream",
       "stream": "stdout",
       "text": [
        "\n",
        "\u0413\u0415\u0420\u041c\u0410\u041d\u041e\u0412\u0410 was not found."
       ]
      },
      {
       "output_type": "stream",
       "stream": "stdout",
       "text": [
        "\n",
        "\u0413\u0416\u0410\u0422\u042c was not found."
       ]
      },
      {
       "output_type": "stream",
       "stream": "stdout",
       "text": [
        "\n",
        "\u0413\u041b\u0415\u041c\u042f\u0417\u041e\u0412 was not found."
       ]
      },
      {
       "output_type": "stream",
       "stream": "stdout",
       "text": [
        "\n",
        "\u0413\u041b\u0418\u041d\u0421\u041a was found."
       ]
      },
      {
       "output_type": "stream",
       "stream": "stdout",
       "text": [
        "\n",
        "\u0413\u041b\u0418\u041d\u0421\u041a loaded from json\n",
        "\u0413\u041b\u0418\u041d\u0421\u041a was found.\n",
        "\u0413\u041b\u0423\u0425\u041e\u0412 was found."
       ]
      },
      {
       "output_type": "stream",
       "stream": "stdout",
       "text": [
        "\n",
        "New form: \u0413\u041b\u0423\u0428\u0418\u0426\u041a\u0418\u0419"
       ]
      },
      {
       "output_type": "stream",
       "stream": "stdout",
       "text": [
        "\n",
        "\u0413\u041b\u0423\u0428\u0418\u0426\u041a\u0418\u0419 was found."
       ]
      },
      {
       "output_type": "stream",
       "stream": "stdout",
       "text": [
        "\n",
        "\u0413\u041b\u0415\u0411\u041e\u0412\u041e was found."
       ]
      },
      {
       "output_type": "stream",
       "stream": "stdout",
       "text": [
        "\n",
        "New form: \u0413\u041d\u0418\u041b\u042c\u0421\u041a\u0418\u0419"
       ]
      },
      {
       "output_type": "stream",
       "stream": "stdout",
       "text": [
        "\n",
        "\u0413\u041d\u0418\u041b\u042c\u0421\u041a\u0418\u0419 was not found."
       ]
      },
      {
       "output_type": "stream",
       "stream": "stdout",
       "text": [
        "\n",
        "\u0413\u041e\u0413\u041e\u041b\u0415\u0412 was found."
       ]
      },
      {
       "output_type": "stream",
       "stream": "stdout",
       "text": [
        "\n",
        "\u0413\u041e\u041b\u0422\u0412\u0410 was found."
       ]
      },
      {
       "output_type": "stream",
       "stream": "stdout",
       "text": [
        "\n",
        "\u0413\u041e\u041c\u0415\u041b\u042c was found."
       ]
      },
      {
       "output_type": "stream",
       "stream": "stdout",
       "text": [
        "\n",
        "\u0413\u041e\u041c\u041b\u042f was not found."
       ]
      },
      {
       "output_type": "stream",
       "stream": "stdout",
       "text": [
        "\n",
        "\u0413\u041e\u0420\u0411\u0410\u0422\u041e\u0412 was found."
       ]
      },
      {
       "output_type": "stream",
       "stream": "stdout",
       "text": [
        "\n",
        "\u0413\u041e\u0420\u0418\u0426\u042b was found."
       ]
      },
      {
       "output_type": "stream",
       "stream": "stdout",
       "text": [
        "\n",
        "\u0413\u041e\u0420\u041a\u0418 was found."
       ]
      },
      {
       "output_type": "stream",
       "stream": "stdout",
       "text": [
        "\n",
        "\u0413\u041e\u0420\u041e\u0414\u0418\u0429\u0415 was found."
       ]
      },
      {
       "output_type": "stream",
       "stream": "stdout",
       "text": [
        "\n",
        "\u0413\u041e\u0420\u041e\u0414\u0418\u0429\u0415 loaded from json\n",
        "\u0413\u041e\u0420\u041e\u0414\u0418\u0429\u0415 was found.\n",
        "\u0413\u041e\u0420\u041e\u0414\u041d\u042f was found."
       ]
      },
      {
       "output_type": "stream",
       "stream": "stdout",
       "text": [
        "\n",
        "\u0413\u041e\u0420\u041e\u0414\u041d\u042f loaded from json\n",
        "\u0413\u041e\u0420\u041e\u0414\u041d\u042f was found.\n",
        "\u0413\u041e\u0420\u041e\u0414\u041e\u041a was found."
       ]
      },
      {
       "output_type": "stream",
       "stream": "stdout",
       "text": [
        "\n",
        "\u0413\u041e\u0420\u041e\u0425\u041e\u0412\u0415\u0426 was found."
       ]
      },
      {
       "output_type": "stream",
       "stream": "stdout",
       "text": [
        "\n",
        "\u0413\u041e\u0420\u041e\u0428\u0418\u041d was found."
       ]
      },
      {
       "output_type": "stream",
       "stream": "stdout",
       "text": [
        "\n",
        "\u0413\u0420\u0415\u0411\u0415\u041d\u0418\u0428\u041a\u0418 was not found."
       ]
      },
      {
       "output_type": "stream",
       "stream": "stdout",
       "text": [
        "\n",
        "\u0413\u0420\u0415\u041c\u042f\u0427\u0415\u0412 was found."
       ]
      },
      {
       "output_type": "stream",
       "stream": "stdout",
       "text": [
        "\n",
        "\u0413\u0420\u0415\u041c\u042f\u0427\u042c was found."
       ]
      },
      {
       "output_type": "stream",
       "stream": "stdout",
       "text": [
        "\n",
        "\u0413\u0420\u0418\u0422\u0427\u0418\u041d\u041e was found."
       ]
      },
      {
       "output_type": "stream",
       "stream": "stdout",
       "text": [
        "\n",
        "\u0413\u0420\u0423\u041d\u042c was found."
       ]
      },
      {
       "output_type": "stream",
       "stream": "stdout",
       "text": [
        "\n",
        "\u0413\u0420\u042f\u0417\u041d\u041e\u0415 was found."
       ]
      },
      {
       "output_type": "stream",
       "stream": "stdout",
       "text": [
        "\n",
        "\u0413\u0420\u042f\u0417\u041e\u0412\u0415\u0426 was found."
       ]
      },
      {
       "output_type": "stream",
       "stream": "stdout",
       "text": [
        "\n",
        "\u0413\u0423\u0421\u0422\u0418\u041d\u041e\u0412\u041e was not found."
       ]
      },
      {
       "output_type": "stream",
       "stream": "stdout",
       "text": [
        "\n",
        "\u0414\u0410\u0413\u0414\u0410 was found."
       ]
      },
      {
       "output_type": "stream",
       "stream": "stdout",
       "text": [
        "\n",
        "\u0414\u0410\u0419\u041c\u0418\u041d\u041e was not found."
       ]
      },
      {
       "output_type": "stream",
       "stream": "stdout",
       "text": [
        "\n",
        "\u0414\u0410\u041b\u041c\u0410\u0422\u041e\u0412 was not found."
       ]
      },
      {
       "output_type": "stream",
       "stream": "stdout",
       "text": [
        "\n",
        "\u0414\u0412\u0423\u0420\u0415\u0427\u041d\u0410\u042f was found."
       ]
      },
      {
       "output_type": "stream",
       "stream": "stdout",
       "text": [
        "\n",
        "\u0414\u0415\u0419\u041c\u0410\u041d\u041e\u0412\u041a\u0410 was found."
       ]
      },
      {
       "output_type": "stream",
       "stream": "stdout",
       "text": [
        "\n",
        "\u0414\u0415\u041c\u0428\u0418\u041d\u0421\u041a was found."
       ]
      },
      {
       "output_type": "stream",
       "stream": "stdout",
       "text": [
        "\n",
        "\u0414\u0415\u0420\u0413\u0410\u0427\u0418 was found."
       ]
      },
      {
       "output_type": "stream",
       "stream": "stdout",
       "text": [
        "\n",
        "\u0414\u0415\u0420\u041a\u0423\u041b was found."
       ]
      },
      {
       "output_type": "stream",
       "stream": "stdout",
       "text": [
        "\n",
        "\u0414\u0415\u0420\u041f\u0422 was found."
       ]
      },
      {
       "output_type": "stream",
       "stream": "stdout",
       "text": [
        "\n",
        "\u0414\u0418\u041d\u0410\u0411\u0423\u0420\u0413 was not found."
       ]
      },
      {
       "output_type": "stream",
       "stream": "stdout",
       "text": [
        "\n",
        "\u0414\u041c\u0418\u0422\u0420\u041e\u0412 was found."
       ]
      },
      {
       "output_type": "stream",
       "stream": "stdout",
       "text": [
        "\n",
        "\u0414\u041c\u0418\u0422\u0420\u041e\u0412\u041a\u0410 was found."
       ]
      },
      {
       "output_type": "stream",
       "stream": "stdout",
       "text": [
        "\n",
        "\u0414\u041c\u0418\u0422\u0420\u041e\u0412\u0421\u041a\u0410\u042f was not found."
       ]
      },
      {
       "output_type": "stream",
       "stream": "stdout",
       "text": [
        "\n",
        "\u0414\u041e\u0411\u0420\u0410\u042f was found."
       ]
      },
      {
       "output_type": "stream",
       "stream": "stdout",
       "text": [
        "\n",
        "New form: \u0414\u041e\u041c\u041d\u0418\u0426\u041a\u0418\u0419"
       ]
      },
      {
       "output_type": "stream",
       "stream": "stdout",
       "text": [
        "\n",
        "\u0414\u041e\u041c\u041d\u0418\u0426\u041a\u0418\u0419 was not found."
       ]
      },
      {
       "output_type": "stream",
       "stream": "stdout",
       "text": [
        "\n",
        "\u0414\u041e\u041d\u041a\u041e\u0412 was not found."
       ]
      },
      {
       "output_type": "stream",
       "stream": "stdout",
       "text": [
        "\n",
        "\u0414\u041e\u0420\u041e\u0413\u041e\u0411\u0423\u0416 was found."
       ]
      },
      {
       "output_type": "stream",
       "stream": "stdout",
       "text": [
        "\n",
        "\u0414\u0420\u0418\u0426\u0410\u041d\u042b was not found."
       ]
      },
      {
       "output_type": "stream",
       "stream": "stdout",
       "text": [
        "\n",
        "New form: \u0414\u0423\u0411\u0415\u0426\u041a\u0418\u0419"
       ]
      },
      {
       "output_type": "stream",
       "stream": "stdout",
       "text": [
        "\n",
        "\u0414\u0423\u0411\u0415\u0426\u041a\u0418\u0419 was not found."
       ]
      },
      {
       "output_type": "stream",
       "stream": "stdout",
       "text": [
        "\n",
        "\u0414\u0423\u0411\u041a\u041e\u0412 was not found."
       ]
      },
      {
       "output_type": "stream",
       "stream": "stdout",
       "text": [
        "\n",
        "\u0414\u0423\u0411\u041e\u0412\u041e\u0415 was found."
       ]
      },
      {
       "output_type": "stream",
       "stream": "stdout",
       "text": [
        "\n",
        "\u0414\u0423\u0411\u0420\u041e\u0412\u041a\u0418 was found."
       ]
      },
      {
       "output_type": "stream",
       "stream": "stdout",
       "text": [
        "\n",
        "\u0414\u0423\u0411\u0420\u041e\u0412\u041a\u0418 loaded from json\n",
        "\u0414\u0423\u0411\u0420\u041e\u0412\u041a\u0418 was found.\n",
        "\u0414\u0423\u0411\u0420\u041e\u0412\u041d\u0410 was not found."
       ]
      },
      {
       "output_type": "stream",
       "stream": "stdout",
       "text": [
        "\n",
        "\u0414\u0423\u041a\u0428\u0422\u0418\u041b\u0410\u0413 was not found."
       ]
      },
      {
       "output_type": "stream",
       "stream": "stdout",
       "text": [
        "\n",
        "\u0414\u0423\u041d\u0418\u041b\u041e\u0412\u041e was found."
       ]
      },
      {
       "output_type": "stream",
       "stream": "stdout",
       "text": [
        "\n",
        "\u0414\u0423\u0425\u041e\u0412\u0429\u0418\u041d\u0410 was found."
       ]
      },
      {
       "output_type": "stream",
       "stream": "stdout",
       "text": [
        "\n",
        "Non\n",
        "Non\n",
        "Non\n",
        "Non\n",
        "Non\n",
        "Non\n",
        "Non\n",
        "New form: \u0415\u041b\u0418\u041c\u0421\u041a\u0418\u0419"
       ]
      },
      {
       "output_type": "stream",
       "stream": "stdout",
       "text": [
        "\n",
        "\u0415\u041b\u0418\u041c\u0421\u041a\u0418\u0419 was not found."
       ]
      },
      {
       "output_type": "stream",
       "stream": "stdout",
       "text": [
        "\n",
        "\u0415\u041b\u0418\u0421\u0410\u0412\u0415\u0422\u042a-\u0413\u0420\u0410\u0414 was not found."
       ]
      },
      {
       "output_type": "stream",
       "stream": "stdout",
       "text": [
        "\n",
        "\u0415\u041b\u041d\u0410 was found."
       ]
      },
      {
       "output_type": "stream",
       "stream": "stdout",
       "text": [
        "\n",
        "\u0415\u041d\u0418\u0421\u0415\u0419\u0421\u041a was not found."
       ]
      },
      {
       "output_type": "stream",
       "stream": "stdout",
       "text": [
        "\n",
        "\u0415\u041f\u0418\u0424\u0410\u041d\u042c was found."
       ]
      },
      {
       "output_type": "stream",
       "stream": "stdout",
       "text": [
        "\n",
        "\u0415\u0420\u0410\u0425\u0422\u0423\u0420\u0410 was not found."
       ]
      },
      {
       "output_type": "stream",
       "stream": "stdout",
       "text": [
        "\n",
        "\u0415\u0420\u0415\u041c\u0415\u041d\u0426\u041e\u0412\u041e was not found."
       ]
      },
      {
       "output_type": "stream",
       "stream": "stdout",
       "text": [
        "\n",
        "\u0415\u0420\u0415\u041c\u0415\u0415\u0412\u041a\u0410 was not found."
       ]
      },
      {
       "output_type": "stream",
       "stream": "stdout",
       "text": [
        "\n",
        "\u0415\u0421\u041a\u0415 was not found."
       ]
      },
      {
       "output_type": "stream",
       "stream": "stdout",
       "text": [
        "\n",
        "\u0415\u0424\u0420\u0415\u041c\u041e\u0412 was found."
       ]
      },
      {
       "output_type": "stream",
       "stream": "stdout",
       "text": [
        "\n",
        "\u0416\u0418\u0413\u0410\u041d\u0421\u041a was found."
       ]
      },
      {
       "output_type": "stream",
       "stream": "stdout",
       "text": [
        "\n",
        "\u0416\u0418\u0417\u0414\u0420\u0410 was found."
       ]
      },
      {
       "output_type": "stream",
       "stream": "stdout",
       "text": [
        "\n",
        "\u0416\u041e\u0412\u041d\u0418\u041d was not found."
       ]
      },
      {
       "output_type": "stream",
       "stream": "stdout",
       "text": [
        "\n",
        "\u0416\u0423\u0420\u0410\u0412\u0418\u0427\u0418 was found."
       ]
      },
      {
       "output_type": "stream",
       "stream": "stdout",
       "text": [
        "\n",
        "\u0417\u0410\u0414\u0423\u0428\u041d\u041e\u0415 was found."
       ]
      },
      {
       "output_type": "stream",
       "stream": "stdout",
       "text": [
        "\n",
        "\u0417\u0410\u041c\u041e\u0428\u042c\u0415 was found."
       ]
      },
      {
       "output_type": "stream",
       "stream": "stdout",
       "text": [
        "\n",
        "\u0417\u0410\u0420\u0410\u0419\u0421\u041a was found."
       ]
      },
      {
       "output_type": "stream",
       "stream": "stdout",
       "text": [
        "\n",
        "\u0417\u0410\u0420\u0423\u0411\u0418\u041d\u041e was found."
       ]
      },
      {
       "output_type": "stream",
       "stream": "stdout",
       "text": [
        "\n",
        "\u0417\u0410\u0428\u0418\u0412\u0415\u0420\u0421\u041a was found."
       ]
      },
      {
       "output_type": "stream",
       "stream": "stdout",
       "text": [
        "\n",
        "\u0417\u0412\u0415\u041d\u0418\u0413\u041e\u0420\u041e\u0414 was found."
       ]
      },
      {
       "output_type": "stream",
       "stream": "stdout",
       "text": [
        "\n",
        "\u0417\u0415\u041c\u041b\u042f\u041d\u0421\u041a was found."
       ]
      },
      {
       "output_type": "stream",
       "stream": "stdout",
       "text": [
        "\n",
        "\u0417\u0418\u041d\u041a\u041e\u0412 was not found."
       ]
      },
      {
       "output_type": "stream",
       "stream": "stdout",
       "text": [
        "\n",
        "\u0417\u041c\u0415\u0415\u0412\u0415 was not found."
       ]
      },
      {
       "output_type": "stream",
       "stream": "stdout",
       "text": [
        "\n",
        "\u0417\u041c\u0415\u0422\u041d\u0415\u0412 was found."
       ]
      },
      {
       "output_type": "stream",
       "stream": "stdout",
       "text": [
        "\n",
        "\u0417\u041e\u041b\u041e\u0422\u041e\u041d\u041e\u0428\u0410 was found."
       ]
      },
      {
       "output_type": "stream",
       "stream": "stdout",
       "text": [
        "\n",
        "\u0417\u041e\u041b\u041e\u0427\u0415\u0412 was found."
       ]
      },
      {
       "output_type": "stream",
       "stream": "stdout",
       "text": [
        "\n",
        "\u0417\u0423\u0411\u0426\u041e\u0412 was found."
       ]
      },
      {
       "output_type": "stream",
       "stream": "stdout",
       "text": [
        "\n",
        "\u0418\u0412\u0410\u041d\u0413\u041e\u0420\u041e\u0414 was found."
       ]
      },
      {
       "output_type": "stream",
       "stream": "stdout",
       "text": [
        "\n",
        "\u0418\u0412\u0410\u041d\u041e\u0412\u041a\u0410 was found."
       ]
      },
      {
       "output_type": "stream",
       "stream": "stdout",
       "text": [
        "\n",
        "\u0418\u0412\u0410\u041d\u041e\u0412\u041a\u0410 loaded from json\n",
        "\u0418\u0412\u0410\u041d\u041e\u0412\u041a\u0410 was found.\n",
        "\u0418\u0412\u0410\u041d\u041e\u0412\u041e was found."
       ]
      },
      {
       "output_type": "stream",
       "stream": "stdout",
       "text": [
        "\n",
        "\u0418\u0412\u0410\u041d\u041e\u0412\u041e loaded from json\n",
        "\u0418\u0412\u0410\u041d\u041e\u0412\u041e was found.\n",
        "\u0418\u0412\u0410\u041d\u041e\u0412\u0421\u041a\u041e\u0415 was found."
       ]
      },
      {
       "output_type": "stream",
       "stream": "stdout",
       "text": [
        "\n",
        "\u0418\u0412\u0410\u041d\u041e\u0412\u0421\u041a\u041e\u0415 loaded from json\n",
        "\u0418\u0412\u0410\u041d\u041e\u0412\u0421\u041a\u041e\u0415 was found.\n",
        "\u0418\u0412\u0410\u041d\u041e\u0412\u0421\u041a\u041e\u0415 loaded from json\n",
        "\u0418\u0412\u0410\u041d\u041e\u0412\u0421\u041a\u041e\u0415 was found.\n",
        "\u0418\u0412\u0410\u041d\u041e\u0412\u0426\u042b was not found."
       ]
      },
      {
       "output_type": "stream",
       "stream": "stdout",
       "text": [
        "\n",
        "\u0418\u0412\u0418\u0426\u0410 was found."
       ]
      },
      {
       "output_type": "stream",
       "stream": "stdout",
       "text": [
        "\n",
        "\u0418\u0413\u0420\u0418\u0429\u0418 was found."
       ]
      },
      {
       "output_type": "stream",
       "stream": "stdout",
       "text": [
        "\n",
        "\u0418\u0413\u0423\u041c\u041d\u041e\u0412\u041e was found."
       ]
      },
      {
       "output_type": "stream",
       "stream": "stdout",
       "text": [
        "\n",
        "\u0418\u0417\u041c\u0410\u0419\u041b\u041e\u0412\u041e was found."
       ]
      },
      {
       "output_type": "stream",
       "stream": "stdout",
       "text": [
        "\n",
        "\u0418\u0417\u042e\u041c was found."
       ]
      },
      {
       "output_type": "stream",
       "stream": "stdout",
       "text": [
        "\n",
        "\u0418\u041b\u042c\u0418\u041d\u0421\u041a\u041e\u0415 was found."
       ]
      },
      {
       "output_type": "stream",
       "stream": "stdout",
       "text": [
        "\n",
        "\u0418\u041d\u0416\u0410\u0412\u0415\u041d\u042c\u0415 was not found."
       ]
      },
      {
       "output_type": "stream",
       "stream": "stdout",
       "text": [
        "\n",
        "\u0418\u041d\u0421\u0410\u0420\u0410 was not found."
       ]
      },
      {
       "output_type": "stream",
       "stream": "stdout",
       "text": [
        "\n",
        "\u0418\u0420\u0411\u0418\u0422 was not found."
       ]
      },
      {
       "output_type": "stream",
       "stream": "stdout",
       "text": [
        "\n",
        "\u0418\u0420\u041a\u0423\u0422\u0421\u041a was found."
       ]
      },
      {
       "output_type": "stream",
       "stream": "stdout",
       "text": [
        "\n",
        "\u0418\u0421\u0410 was found."
       ]
      },
      {
       "output_type": "stream",
       "stream": "stdout",
       "text": [
        "\n",
        "\u0418\u0421\u0415\u0422\u0421\u041a\u0410\u042f was not found."
       ]
      },
      {
       "output_type": "stream",
       "stream": "stdout",
       "text": [
        "\n",
        "\u0418\u0421\u0422\u0410\u041b\u0415\u041d\u0410 was not found."
       ]
      },
      {
       "output_type": "stream",
       "stream": "stdout",
       "text": [
        "\n",
        "\u0418\u0427\u041d\u0410 was not found."
       ]
      },
      {
       "output_type": "stream",
       "stream": "stdout",
       "text": [
        "\n",
        "\u0418\u041e\u0421\u0418\u0424\u041e\u0412 was not found."
       ]
      },
      {
       "output_type": "stream",
       "stream": "stdout",
       "text": [
        "\n",
        "\u0418\u041e\u0421\u0418\u0424\u041e\u0412 was not found."
       ]
      },
      {
       "output_type": "stream",
       "stream": "stdout",
       "text": [
        "\n",
        "\u041a\u0410\u0414\u0418\u041d was not found."
       ]
      },
      {
       "output_type": "stream",
       "stream": "stdout",
       "text": [
        "\n",
        "\u041a\u0410\u0414\u041e\u041c was found."
       ]
      },
      {
       "output_type": "stream",
       "stream": "stdout",
       "text": [
        "\n",
        "New form: \u041a\u0410\u0417\u0410\u041d\u0421\u041a\u0418\u0419 \u0411\u041e\u0413\u041e\u0420\u041e\u0414\u0418\u0426\u041a\u0418\u0419"
       ]
      },
      {
       "output_type": "stream",
       "stream": "stdout",
       "text": [
        "\n",
        "\u041a\u0410\u0417\u0410\u041d\u0421\u041a\u0418\u0419 \u0411\u041e\u0413\u041e\u0420\u041e\u0414\u0418\u0426\u041a\u0418\u0419 was not found."
       ]
      },
      {
       "output_type": "stream",
       "stream": "stdout",
       "text": [
        "\n",
        "\u041a\u0410\u041b\u0418\u0411\u0415\u0420\u0414\u0410 was found."
       ]
      },
      {
       "output_type": "stream",
       "stream": "stdout",
       "text": [
        "\n",
        "\u041a\u0410\u041b\u0418\u041d\u041a\u0418\u041d\u041e was found."
       ]
      },
      {
       "output_type": "stream",
       "stream": "stdout",
       "text": [
        "\n",
        "\u041a\u0410\u041c\u0415\u041d\u0415\u0426 was found."
       ]
      },
      {
       "output_type": "stream",
       "stream": "stdout",
       "text": [
        "\n",
        "\u041a\u0410\u041c\u0415\u041d\u041a\u0410 was found."
       ]
      },
      {
       "output_type": "stream",
       "stream": "stdout",
       "text": [
        "\n",
        "\u041a\u0410\u041c\u042b\u0428\u041d\u042f was found."
       ]
      },
      {
       "output_type": "stream",
       "stream": "stdout",
       "text": [
        "\n",
        "\u041a\u0410\u0420\u0410\u0421\u0423 - \u0411\u0410\u0417\u0410\u0420 was not found."
       ]
      },
      {
       "output_type": "stream",
       "stream": "stdout",
       "text": [
        "\n",
        "\u041a\u0410\u0420\u041b\u041e\u0412\u041a\u0410 was found."
       ]
      },
      {
       "output_type": "stream",
       "stream": "stdout",
       "text": [
        "\n",
        "\u041a\u0410\u0420\u041c was not found."
       ]
      },
      {
       "output_type": "stream",
       "stream": "stdout",
       "text": [
        "\n",
        "\u041a\u0410\u0420\u041e\u0427\u0410 was not found."
       ]
      },
      {
       "output_type": "stream",
       "stream": "stdout",
       "text": [
        "\n",
        "\u041a\u0410\u0420\u041f\u041e\u0412\u041a\u0410 was found."
       ]
      },
      {
       "output_type": "stream",
       "stream": "stdout",
       "text": [
        "\n",
        "\u041a\u0410\u0421\u0418\u041c\u041e\u0412 was found."
       ]
      },
      {
       "output_type": "stream",
       "stream": "stdout",
       "text": [
        "\n",
        "New form: \u041a\u0418\u0422\u0410\u0419\u0421\u041a\u0418\u0419"
       ]
      },
      {
       "output_type": "stream",
       "stream": "stdout",
       "text": [
        "\n",
        "\u041a\u0418\u0422\u0410\u0419\u0421\u041a\u0418\u0419 was found."
       ]
      },
      {
       "output_type": "stream",
       "stream": "stdout",
       "text": [
        "\n",
        "\u041a\u0410\u0428\u0418\u041d was found."
       ]
      },
      {
       "output_type": "stream",
       "stream": "stdout",
       "text": [
        "\n",
        "\u041a\u0415\u041c\u0410\u0420\u042b was found."
       ]
      },
      {
       "output_type": "stream",
       "stream": "stdout",
       "text": [
        "\n",
        "\u041a\u0415\u0420\u0415\u041d\u0421\u041a was found."
       ]
      },
      {
       "output_type": "stream",
       "stream": "stdout",
       "text": [
        "\n",
        "\u041a\u0415\u0421\u041c\u0415 was not found."
       ]
      },
      {
       "output_type": "stream",
       "stream": "stdout",
       "text": [
        "\n",
        "\u041a\u0415\u0421\u041e\u0412\u0410 \u0413\u041e\u0420\u0410 was found."
       ]
      },
      {
       "output_type": "stream",
       "stream": "stdout",
       "text": [
        "\n",
        "\u041a\u0418\u0414\u0415\u0428\u041a\u0418\u041d\u041e was not found."
       ]
      },
      {
       "output_type": "stream",
       "stream": "stdout",
       "text": [
        "\n",
        "\u041a\u0418\u041c\u0420\u042b was found."
       ]
      },
      {
       "output_type": "stream",
       "stream": "stdout",
       "text": [
        "\n",
        "\u041a\u0418\u041d\u0415\u0428\u041c\u0410 was found."
       ]
      },
      {
       "output_type": "stream",
       "stream": "stdout",
       "text": [
        "\n",
        "\u041a\u0418\u0420\u0415\u041d\u0421\u041a was found."
       ]
      },
      {
       "output_type": "stream",
       "stream": "stdout",
       "text": [
        "\n",
        "\u041a\u0418\u0420\u0418\u041b\u041e\u0412 was not found."
       ]
      },
      {
       "output_type": "stream",
       "stream": "stdout",
       "text": [
        "\n",
        "\u041a\u0418\u0420\u0418\u041b\u041e\u0415\u041e was not found."
       ]
      },
      {
       "output_type": "stream",
       "stream": "stdout",
       "text": [
        "\n",
        "\u041a\u0418\u0420\u0421\u0410\u041d\u041e\u0412 was found."
       ]
      },
      {
       "output_type": "stream",
       "stream": "stdout",
       "text": [
        "\n",
        "\u041a\u0418\u0421\u0422\u0415\u0420 was found."
       ]
      },
      {
       "output_type": "stream",
       "stream": "stdout",
       "text": [
        "\n",
        "\u041a\u0418\u0421\u0422\u0420\u0423\u0421\u0410 was not found."
       ]
      },
      {
       "output_type": "stream",
       "stream": "stdout",
       "text": [
        "\n",
        "\u041a\u0418\u0422\u0410\u0419 - \u0413\u041e\u0420\u041e\u0414\u041e\u041a was not found."
       ]
      },
      {
       "output_type": "stream",
       "stream": "stdout",
       "text": [
        "\n",
        "\u041a\u0418\u0428\u0415\u041d\u042c\u041a\u0410 was not found."
       ]
      },
      {
       "output_type": "stream",
       "stream": "stdout",
       "text": [
        "\n",
        "\u041a\u0418\u0410\u0421\u041e\u0412\u041a\u0410 was not found."
       ]
      },
      {
       "output_type": "stream",
       "stream": "stdout",
       "text": [
        "\n",
        "\u041a\u0418\u0410\u0422\u0410 was not found."
       ]
      },
      {
       "output_type": "stream",
       "stream": "stdout",
       "text": [
        "\n",
        "\u041a\u041b\u0418\u041d was found."
       ]
      },
      {
       "output_type": "stream",
       "stream": "stdout",
       "text": [
        "\n",
        "\u041a\u041b\u042e\u0427\u0415\u0412\u0421\u041a\u0410\u042f was not found."
       ]
      },
      {
       "output_type": "stream",
       "stream": "stdout",
       "text": [
        "\n",
        "\u041a\u041d\u042f\u0413\u0418\u041d\u0418\u041d was not found."
       ]
      },
      {
       "output_type": "stream",
       "stream": "stdout",
       "text": [
        "\n",
        "\u041a\u041e\u0411\u042b\u0417\u0427\u0410 was not found."
       ]
      },
      {
       "output_type": "stream",
       "stream": "stdout",
       "text": [
        "\n",
        "\u041a\u041e\u0411\u042b\u041b\u042f\u041a was not found."
       ]
      },
      {
       "output_type": "stream",
       "stream": "stdout",
       "text": [
        "\n",
        "\u041a\u041e\u0412\u0420\u041e\u0412 was found."
       ]
      },
      {
       "output_type": "stream",
       "stream": "stdout",
       "text": [
        "\n",
        "\u041a\u041e\u0412\u042b\u041c\u0421\u041a\u041e\u0415 was not found."
       ]
      },
      {
       "output_type": "stream",
       "stream": "stdout",
       "text": [
        "\n",
        "\u041a\u041e\u0414\u0418\u041d\u0421\u041a\u041e\u0415 was not found."
       ]
      },
      {
       "output_type": "stream",
       "stream": "stdout",
       "text": [
        "\n",
        "\u041a\u041e\u0416\u0418\u041d\u041e was found."
       ]
      },
      {
       "output_type": "stream",
       "stream": "stdout",
       "text": [
        "\n",
        "\u041a\u041e\u0417\u0415\u041b\u0415\u0426 was found."
       ]
      },
      {
       "output_type": "stream",
       "stream": "stdout",
       "text": [
        "\n",
        "\u041a\u041e\u0417\u0415\u041b\u042c\u0421\u041a was found."
       ]
      },
      {
       "output_type": "stream",
       "stream": "stdout",
       "text": [
        "\n",
        "\u041a\u041e\u0417\u041b\u041e\u0412 was found."
       ]
      },
      {
       "output_type": "stream",
       "stream": "stdout",
       "text": [
        "\n",
        "\u041a\u041e\u0417\u041b\u041e\u0412\u041a\u0410 was found."
       ]
      },
      {
       "output_type": "stream",
       "stream": "stdout",
       "text": [
        "\n",
        "\u041a\u041e\u0417\u041b\u041e\u0412\u0421\u041a\u0410\u042f was not found."
       ]
      },
      {
       "output_type": "stream",
       "stream": "stdout",
       "text": [
        "\n",
        "\u041a\u041e\u041a\u0412\u0418\u041d\u041e was not found."
       ]
      },
      {
       "output_type": "stream",
       "stream": "stdout",
       "text": [
        "\n",
        "\u041a\u041e\u041b\u041e\u041c\u041d\u0410 was found."
       ]
      },
      {
       "output_type": "stream",
       "stream": "stdout",
       "text": [
        "\n",
        "\u041a\u041e\u041b\u042e\u041f\u0410\u041d\u041e\u0412\u041a\u0410 was not found."
       ]
      },
      {
       "output_type": "stream",
       "stream": "stdout",
       "text": [
        "\n",
        "\u041a\u041e\u041c\u0415\u041b\u042c\u0421\u041a \u041a\u041e\u0420\u041d\u0418\u041b\u0418\u0415\u0412 was not found."
       ]
      },
      {
       "output_type": "stream",
       "stream": "stdout",
       "text": [
        "\n",
        "\u041a\u041e\u041c\u041b\u0418\u0427\u041a\u0418 was not found."
       ]
      },
      {
       "output_type": "stream",
       "stream": "stdout",
       "text": [
        "\n",
        "\u041a\u041e\u041d\u041e\u0411\u0415\u0415\u0412\u041e was found."
       ]
      },
      {
       "output_type": "stream",
       "stream": "stdout",
       "text": [
        "\n",
        "\u041a\u041e\u041d\u041e\u0422\u041e\u041f was found."
       ]
      },
      {
       "output_type": "stream",
       "stream": "stdout",
       "text": [
        "\n",
        "\u041a\u041e\u041d\u0421\u0422\u0410\u041d\u0422\u0418\u041d\u041e\u0412\u041e was not found."
       ]
      },
      {
       "output_type": "stream",
       "stream": "stdout",
       "text": [
        "\n",
        "\u041a\u041e\u041d\u0421\u0422\u0410\u041d\u0422\u0418\u041d\u041e\u0412\u0421\u041a\u041e\u0415 was found."
       ]
      },
      {
       "output_type": "stream",
       "stream": "stdout",
       "text": [
        "\n",
        "\u041a\u041e\u041f\u0420\u0418\u041d\u041e was found."
       ]
      },
      {
       "output_type": "stream",
       "stream": "stdout",
       "text": [
        "\n",
        "\u041a\u041e\u0420\u0415\u041d\u041d\u0410\u042f was not found."
       ]
      },
      {
       "output_type": "stream",
       "stream": "stdout",
       "text": [
        "\n",
        "\u041a\u041e\u0420\u041e\u0412\u0410\u0419 was not found."
       ]
      },
      {
       "output_type": "stream",
       "stream": "stdout",
       "text": [
        "\n",
        "\u041a\u041e\u0420\u041e\u041f was found."
       ]
      },
      {
       "output_type": "stream",
       "stream": "stdout",
       "text": [
        "\n",
        "\u041a\u041e\u0420\u041e\u0422\u041e\u042f\u041a was found."
       ]
      },
      {
       "output_type": "stream",
       "stream": "stdout",
       "text": [
        "\n",
        "\u041a\u041e\u0420\u0421\u0423\u041d\u042c was found."
       ]
      },
      {
       "output_type": "stream",
       "stream": "stdout",
       "text": [
        "\n",
        "\u041a\u041e\u0421\u0422\u0420\u041e\u041c\u0410 was found."
       ]
      },
      {
       "output_type": "stream",
       "stream": "stdout",
       "text": [
        "\n",
        "\u041a\u041e\u0421\u0422\u042e\u041a\u041e\u0412\u0418\u0427\u0418 was found."
       ]
      },
      {
       "output_type": "stream",
       "stream": "stdout",
       "text": [
        "\n",
        "\u041a\u041e\u0422\u0415\u041b\u042c\u0412\u0410 was found."
       ]
      },
      {
       "output_type": "stream",
       "stream": "stdout",
       "text": [
        "\n",
        "\u041a\u041e\u0422\u0415\u041b\u042c\u041d\u0418\u0427\u042c was found."
       ]
      },
      {
       "output_type": "stream",
       "stream": "stdout",
       "text": [
        "\n",
        "\u041a\u041e\u0427\u0415\u041b\u0410\u0415\u0412\u041e was found."
       ]
      },
      {
       "output_type": "stream",
       "stream": "stdout",
       "text": [
        "\n",
        "\u041a\u041e\u0428\u0418\u0420\u0410 was not found."
       ]
      },
      {
       "output_type": "stream",
       "stream": "stdout",
       "text": [
        "\n",
        "\u041a\u0420\u0410\u041f\u0418\u0412\u041d\u0410 was found."
       ]
      },
      {
       "output_type": "stream",
       "stream": "stdout",
       "text": [
        "\n",
        "\u041a\u0420\u0410\u041f\u0418\u0412\u041d\u0410 loaded from json\n",
        "\u041a\u0420\u0410\u041f\u0418\u0412\u041d\u0410 was found.\n",
        "\u041a\u0420\u0410\u0421\u041d\u041e\u0411\u041e\u0420\u0421\u041a was found."
       ]
      },
      {
       "output_type": "stream",
       "stream": "stdout",
       "text": [
        "\n",
        "\u041a\u0420\u0410\u0421\u041d\u041e\u0413\u041e\u0420\u0421\u041a\u0410\u042f was not found."
       ]
      },
      {
       "output_type": "stream",
       "stream": "stdout",
       "text": [
        "\n",
        "\u041a\u0420\u0410\u0421\u041d\u041e\u0415 was found."
       ]
      },
      {
       "output_type": "stream",
       "stream": "stdout",
       "text": [
        "\n",
        "\u041a\u0420\u0410\u0421\u041d\u041e\u0415 loaded from json\n",
        "\u041a\u0420\u0410\u0421\u041d\u041e\u0415 was found.\n",
        "New form: \u041a\u0420\u0410\u0421\u041d\u0418\u0419 \u041a\u041e\u041b\u042f\u0414\u0418\u041d"
       ]
      },
      {
       "output_type": "stream",
       "stream": "stdout",
       "text": [
        "\n",
        "\u041a\u0420\u0410\u0421\u041d\u0418\u0419 \u041a\u041e\u041b\u042f\u0414\u0418\u041d was found."
       ]
      },
      {
       "output_type": "stream",
       "stream": "stdout",
       "text": [
        "\n",
        "New form: \u041a\u0420\u0410\u0421\u041d\u041e\u041a\u0410\u041c\u0415\u041d\u0421\u041a\u0418\u0419"
       ]
      },
      {
       "output_type": "stream",
       "stream": "stdout",
       "text": [
        "\n",
        "\u041a\u0420\u0410\u0421\u041d\u041e\u041a\u0410\u041c\u0415\u041d\u0421\u041a\u0418\u0419 was not found."
       ]
      },
      {
       "output_type": "stream",
       "stream": "stdout",
       "text": [
        "\n",
        "\u041a\u0420\u0410\u0421\u041d\u041e\u041a\u0423\u0422\u0421\u041a was found."
       ]
      },
      {
       "output_type": "stream",
       "stream": "stdout",
       "text": [
        "\n",
        "\u041a\u0420\u0410\u0421\u041d\u041e\u041f\u041e\u041b\u042c was found."
       ]
      },
      {
       "output_type": "stream",
       "stream": "stdout",
       "text": [
        "\n",
        "\u041a\u0420\u0410\u0421\u041d\u041e\u041f\u041e\u041b\u042c\u0415 was found."
       ]
      },
      {
       "output_type": "stream",
       "stream": "stdout",
       "text": [
        "\n",
        "\u041a\u0420\u0410\u0421\u041d\u041e\u0421\u041b\u041e\u0411\u041e\u0414\u0421\u041a was found."
       ]
      },
      {
       "output_type": "stream",
       "stream": "stdout",
       "text": [
        "\n",
        "New form: \u041a\u0420\u0415\u041c\u0415\u041d\u041d\u0418\u0419"
       ]
      },
      {
       "output_type": "stream",
       "stream": "stdout",
       "text": [
        "\n",
        "\u041a\u0420\u0415\u041c\u0415\u041d\u041d\u0418\u0419 was not found."
       ]
      },
      {
       "output_type": "stream",
       "stream": "stdout",
       "text": [
        "\n",
        "\u041a\u0420\u0415\u041c\u0415\u041d\u0427\u0423\u0413 was found."
       ]
      },
      {
       "output_type": "stream",
       "stream": "stdout",
       "text": [
        "\n",
        "\u041a\u0420\u0415\u0421\u041b\u0410\u0412\u041b\u042c was not found."
       ]
      },
      {
       "output_type": "stream",
       "stream": "stdout",
       "text": [
        "\n",
        "\u041a\u0420\u0415\u0421\u0422\u0426\u042b was found."
       ]
      },
      {
       "output_type": "stream",
       "stream": "stdout",
       "text": [
        "\n",
        "\u041a\u0420\u0418\u0412\u041e\u041d\u0410\u0412\u041e\u041b\u041e\u0426\u041a\u0410\u042f was not found."
       ]
      },
      {
       "output_type": "stream",
       "stream": "stdout",
       "text": [
        "\n",
        "\u041a\u0420\u0418\u0412\u0426\u041e was not found."
       ]
      },
      {
       "output_type": "stream",
       "stream": "stdout",
       "text": [
        "\n",
        "\u041a\u0420\u0418\u0416\u0411\u0423\u0420\u0413 was not found."
       ]
      },
      {
       "output_type": "stream",
       "stream": "stdout",
       "text": [
        "\n",
        "\u041a\u0420\u041e\u041b\u0415\u0412\u0415\u0426 was found."
       ]
      },
      {
       "output_type": "stream",
       "stream": "stdout",
       "text": [
        "\n",
        "\u041a\u0420\u041e\u041c\u042b was found."
       ]
      },
      {
       "output_type": "stream",
       "stream": "stdout",
       "text": [
        "\n",
        "\u041a\u0420\u042b\u041b\u041e\u0412 was found."
       ]
      },
      {
       "output_type": "stream",
       "stream": "stdout",
       "text": [
        "\n",
        "\u041a\u0420\u042b\u041b\u0415\u0415\u0412\u041e was not found."
       ]
      },
      {
       "output_type": "stream",
       "stream": "stdout",
       "text": [
        "\n",
        "\u041a\u0420\u042e\u041a\u041e\u0412 was not found."
       ]
      },
      {
       "output_type": "stream",
       "stream": "stdout",
       "text": [
        "\n",
        "\u041a\u0423\u0411\u0415\u041d\u0421\u041a\u041e\u0415 was found."
       ]
      },
      {
       "output_type": "stream",
       "stream": "stdout",
       "text": [
        "\n",
        "\u041a\u0423\u0414\u0410\u0420\u0418\u041d\u0421\u041a\u0410\u042f was not found."
       ]
      },
      {
       "output_type": "stream",
       "stream": "stdout",
       "text": [
        "\n",
        "\u041a\u0423\u0417\u041d\u0415\u0426\u041a was found."
       ]
      },
      {
       "output_type": "stream",
       "stream": "stdout",
       "text": [
        "\n",
        "\u041a\u0423\u041c\u0417\u0415\u0420\u0421\u041a\u0410\u042f was not found."
       ]
      },
      {
       "output_type": "stream",
       "stream": "stdout",
       "text": [
        "\n",
        "\u041a\u0423\u041d\u0413\u0423\u0420 was found."
       ]
      },
      {
       "output_type": "stream",
       "stream": "stdout",
       "text": [
        "\n",
        "\u041a\u0423\u041f\u0415\u041d\u041a\u0410 was not found."
       ]
      },
      {
       "output_type": "stream",
       "stream": "stdout",
       "text": [
        "\n",
        "\u041a\u0423\u0420\u0415\u041d\u042c\u041a\u0418 was found."
       ]
      },
      {
       "output_type": "stream",
       "stream": "stdout",
       "text": [
        "\n",
        "\u041a\u0423\u0420\u042c\u042f\u041d\u041e\u0412\u041e was found."
       ]
      },
      {
       "output_type": "stream",
       "stream": "stdout",
       "text": [
        "\n",
        "\u041b\u0410\u0414\u0410 was not found."
       ]
      },
      {
       "output_type": "stream",
       "stream": "stdout",
       "text": [
        "\n",
        "New form: \u041b\u0410\u0414\u0418\u041d\u0421\u041a\u0418\u0419"
       ]
      },
      {
       "output_type": "stream",
       "stream": "stdout",
       "text": [
        "\n",
        "\u041b\u0410\u0414\u0418\u041d\u0421\u041a\u0418\u0419 was not found."
       ]
      },
      {
       "output_type": "stream",
       "stream": "stdout",
       "text": [
        "\n",
        "\u041b\u0410\u0414\u041e\u0413\u0410 \u041d\u041e\u0412\u0410\u042f was found."
       ]
      },
      {
       "output_type": "stream",
       "stream": "stdout",
       "text": [
        "\n",
        "\u041b\u0410\u0417\u041e\u0412\u0418\u0426\u0410 was found."
       ]
      },
      {
       "output_type": "stream",
       "stream": "stdout",
       "text": [
        "\n",
        "\u041b\u0410\u0418\u0428\u0415\u0412 was found."
       ]
      },
      {
       "output_type": "stream",
       "stream": "stdout",
       "text": [
        "\n",
        "\u041b\u0410\u041a\u041d\u041e\u0412\u0410\u0422\u042c was not found."
       ]
      },
      {
       "output_type": "stream",
       "stream": "stdout",
       "text": [
        "\n",
        "\u041b\u0410\u041b\u042c\u0421\u041a was found."
       ]
      },
      {
       "output_type": "stream",
       "stream": "stdout",
       "text": [
        "\n",
        "\u041b\u0410\u041f\u0421\u0422\u0420\u0410\u041d\u0414 was not found."
       ]
      },
      {
       "output_type": "stream",
       "stream": "stdout",
       "text": [
        "\n",
        "\u041b\u0415\u0411\u0415\u0414\u0418\u041d was found."
       ]
      },
      {
       "output_type": "stream",
       "stream": "stdout",
       "text": [
        "\n",
        "\u041b\u0415\u0411\u0415\u0414\u042f\u041d\u042c was found."
       ]
      },
      {
       "output_type": "stream",
       "stream": "stdout",
       "text": [
        "\n",
        "\u041b\u0415\u0412\u041a\u0418\u0415\u0412 was not found."
       ]
      },
      {
       "output_type": "stream",
       "stream": "stdout",
       "text": [
        "\n",
        "\u041b\u0415\u0416\u041d\u0415\u0412\u041e was found."
       ]
      },
      {
       "output_type": "stream",
       "stream": "stdout",
       "text": [
        "\n",
        "\u041b\u0418\u0412\u041d\u042b was found."
       ]
      },
      {
       "output_type": "stream",
       "stream": "stdout",
       "text": [
        "\n",
        "\u041b\u0418\u041c\u0410\u041d\u042c was found."
       ]
      },
      {
       "output_type": "stream",
       "stream": "stdout",
       "text": [
        "\n",
        "\u041b\u0418\u041f\u0415\u0426\u041a was found."
       ]
      },
      {
       "output_type": "stream",
       "stream": "stdout",
       "text": [
        "\n",
        "\u041b\u0418\u041f\u041e\u0412\u0421\u041a\u041e\u0415 was not found."
       ]
      },
      {
       "output_type": "stream",
       "stream": "stdout",
       "text": [
        "\n",
        "\u041b\u0418\u041f\u0426\u042b was found."
       ]
      },
      {
       "output_type": "stream",
       "stream": "stdout",
       "text": [
        "\n",
        "New form: \u041b\u0418\u0421\u041a\u0418\u0419"
       ]
      },
      {
       "output_type": "stream",
       "stream": "stdout",
       "text": [
        "\n",
        "\u041b\u0418\u0421\u041a\u0418\u0419 was not found."
       ]
      },
      {
       "output_type": "stream",
       "stream": "stdout",
       "text": [
        "\n",
        "\u041b\u0418\u0425\u0412\u0418\u041d was found."
       ]
      },
      {
       "output_type": "stream",
       "stream": "stdout",
       "text": [
        "\n",
        "\u041b\u041e\u041f\u041e\u0422\u041e\u0412 was not found."
       ]
      },
      {
       "output_type": "stream",
       "stream": "stdout",
       "text": [
        "\n",
        "\u041b\u041e\u0422\u0421\u0428\u0418\u041d\u041e was not found."
       ]
      },
      {
       "output_type": "stream",
       "stream": "stdout",
       "text": [
        "\n",
        "\u041b\u041e\u0425\u0412\u0418\u0426\u0410 was found."
       ]
      },
      {
       "output_type": "stream",
       "stream": "stdout",
       "text": [
        "\n",
        "\u041b\u0423\u0416\u041a\u0418 was found."
       ]
      },
      {
       "output_type": "stream",
       "stream": "stdout",
       "text": [
        "\n",
        "\u041b\u0423\u041a\u041e\u041c\u041b\u042f was not found."
       ]
      },
      {
       "output_type": "stream",
       "stream": "stdout",
       "text": [
        "\n",
        "\u041b\u0423\u041a\u041e\u042f\u041d\u041e\u0412 was found."
       ]
      },
      {
       "output_type": "stream",
       "stream": "stdout",
       "text": [
        "\n",
        "\u041b\u0423\u0425 was found."
       ]
      },
      {
       "output_type": "stream",
       "stream": "stdout",
       "text": [
        "\n",
        "\u041b\u042c\u0413\u041e\u0412 was found."
       ]
      },
      {
       "output_type": "stream",
       "stream": "stdout",
       "text": [
        "\n",
        "\u041b\u0415\u0412\u042b\u0415 \u041b\u0410\u041c\u041a\u0418 was found."
       ]
      },
      {
       "output_type": "stream",
       "stream": "stdout",
       "text": [
        "\n",
        "\u041b\u042e\u0411\u0410\u0412\u0418\u0427\u0418 was found."
       ]
      },
      {
       "output_type": "stream",
       "stream": "stdout",
       "text": [
        "\n",
        "\u041b\u042e\u0411\u0415\u0427\u042c was found."
       ]
      },
      {
       "output_type": "stream",
       "stream": "stdout",
       "text": [
        "\n",
        "\u041b\u042e\u0411\u0418\u041c was found."
       ]
      },
      {
       "output_type": "stream",
       "stream": "stdout",
       "text": [
        "\n",
        "\u041b\u042e\u0422\u0415\u041d\u041a\u0410 was found."
       ]
      },
      {
       "output_type": "stream",
       "stream": "stdout",
       "text": [
        "\n",
        "\u041b\u042f\u0414\u042b was found."
       ]
      },
      {
       "output_type": "stream",
       "stream": "stdout",
       "text": [
        "\n",
        "\u041b\u042f\u0423\u0414\u0415\u0420\u0410 was not found."
       ]
      },
      {
       "output_type": "stream",
       "stream": "stdout",
       "text": [
        "\n",
        "\u041c\u0410\u041a\u0410\u041b\u041e\u0412\u041e was not found."
       ]
      },
      {
       "output_type": "stream",
       "stream": "stdout",
       "text": [
        "\n",
        "\u041c\u0410\u041a\u0410\u0420\u041e\u0412\u041e was not found."
       ]
      },
      {
       "output_type": "stream",
       "stream": "stdout",
       "text": [
        "\n",
        "\u041c\u0410\u041a\u0410\u0420\u042c\u0415\u0412 was found."
       ]
      },
      {
       "output_type": "stream",
       "stream": "stdout",
       "text": [
        "\n"
       ]
      }
     ],
     "prompt_number": 87
    },
    {
     "cell_type": "code",
     "collapsed": false,
     "input": [
      "problem_prov"
     ],
     "language": "python",
     "metadata": {},
     "outputs": [
      {
       "metadata": {},
       "output_type": "pyout",
       "prompt_number": 88,
       "text": [
        "['Non', 'Non', 'Non', 'Non', 'Non', 'Non', 'Non']"
       ]
      }
     ],
     "prompt_number": 88
    },
    {
     "cell_type": "code",
     "collapsed": false,
     "input": [
      "geodf = pd.DataFrame(geocoded,columns=['hgr_id','result_placename','searched_placename','admin1','country_name','lat','lng','src_id','country_code','url','src'])"
     ],
     "language": "python",
     "metadata": {},
     "outputs": [],
     "prompt_number": 89
    },
    {
     "cell_type": "code",
     "collapsed": false,
     "input": [
      "len(geodf)"
     ],
     "language": "python",
     "metadata": {},
     "outputs": [
      {
       "metadata": {},
       "output_type": "pyout",
       "prompt_number": 90,
       "text": [
        "1220"
       ]
      }
     ],
     "prompt_number": 90
    },
    {
     "cell_type": "code",
     "collapsed": false,
     "input": [
      "geodf.to_excel('geocoded.xlsx',encoding='utf-8')"
     ],
     "language": "python",
     "metadata": {},
     "outputs": [
      {
       "output_type": "stream",
       "stream": "stderr",
       "text": [
        "c:\\Anaconda3\\lib\\site-packages\\xlsxwriter\\worksheet.py:827: UserWarning: Ignoring URL 'http://api.geonames.org/search?name=%D0%91%D0%9B%D0%90%D0%93%D0%9E%D0%92%D0%95%D0%A9%D0%95%D0%9D%D0%A1%D0%9A%D0%9E%D0%99+%D0%9F%D0%A0%D0%98%D0%A5%D0%9E%D0%94&type=json&username=jaguillette&east=58.6121673584&north=70.1894276115&featureClass=P&west=27.4506621361&south=60.3600075373' > 255 characters since it exceeds Excel's limit for URLS\n",
        "  \"Excel's limit for URLS\" % url)\n",
        "c:\\Anaconda3\\lib\\site-packages\\xlsxwriter\\worksheet.py:827: UserWarning: Ignoring URL 'http://api.geonames.org/search?name=%D0%91%D0%9E%D0%93%D0%9E%D0%A0%D0%9E%D0%94%D0%98%D0%A6%D0%9A%D0%9E%D0%99+%D0%9A%D0%90%D0%97%D0%90%D0%9D%D0%A1%D0%9A%D0%9E%D0%99&type=json&username=jaguillette&east=46.7277&north=54.837&featureClass=P&west=41.8373&south=52.3247' > 255 characters since it exceeds Excel's limit for URLS\n",
        "  \"Excel's limit for URLS\" % url)\n",
        "c:\\Anaconda3\\lib\\site-packages\\xlsxwriter\\worksheet.py:827: UserWarning: Ignoring URL 'http://api.geonames.org/search?name=%D0%92%D0%95%D0%9D%D0%95%D0%92%D0%A1%D0%9A%D0%9E%D0%99+%D0%9D%D0%98%D0%9A%D0%9E%D0%9B%D0%90%D0%95%D0%92%D0%A1%D0%9A%D0%9E%D0%99&type=json&username=jaguillette&east=39.6827&north=55.0867&featureClass=P&west=35.5421&south=52.8329' > 255 characters since it exceeds Excel's limit for URLS\n",
        "  \"Excel's limit for URLS\" % url)\n",
        "c:\\Anaconda3\\lib\\site-packages\\xlsxwriter\\worksheet.py:827: UserWarning: Ignoring URL 'http://api.geonames.org/search?name=%D0%9A%D0%90%D0%97%D0%90%D0%9D%D0%A1%D0%9A%D0%9E%D0%99+%D0%91%D0%9E%D0%93%D0%9E%D0%A0%D0%9E%D0%94%D0%98%D0%A6%D0%9A%D0%9E%D0%99&type=json&username=jaguillette&east=46.7277&north=54.837&featureClass=P&west=41.8373&south=52.3247' > 255 characters since it exceeds Excel's limit for URLS\n",
        "  \"Excel's limit for URLS\" % url)\n"
       ]
      }
     ],
     "prompt_number": 91
    },
    {
     "cell_type": "code",
     "collapsed": false,
     "input": [
      "nfdf = geodf.ix[geodf.result_placename=='not_found']\n",
      "len(nfdf)"
     ],
     "language": "python",
     "metadata": {},
     "outputs": [
      {
       "metadata": {},
       "output_type": "pyout",
       "prompt_number": 92,
       "text": [
        "163"
       ]
      }
     ],
     "prompt_number": 92
    },
    {
     "cell_type": "code",
     "collapsed": false,
     "input": [
      "f_unique = len(geodf.ix[geodf.result_placename!='not_found'].hgr_id.unique())\n",
      "nf_unique = len(geodf.ix[geodf.result_placename=='not_found'].hgr_id.unique())\n",
      "total = len(geodf.hgr_id.unique())\n",
      "overlap = (nf_unique + f_unique) - total #overlap caused by changing spelling. \n",
      "print(\"{0} found\\n{1} not found\\n{2} total\".format(f_unique,nf_unique-overlap,total))"
     ],
     "language": "python",
     "metadata": {},
     "outputs": [
      {
       "output_type": "stream",
       "stream": "stdout",
       "text": [
        "251 found\n",
        "142 not found\n",
        "393 total\n"
       ]
      }
     ],
     "prompt_number": 93
    },
    {
     "cell_type": "code",
     "collapsed": false,
     "input": [
      "finding_counts = geodf.ix[geodf.result_placename!='not_found'].pivot_table(index='hgr_id',values='lat',aggfunc=lambda x: len(x.unique()))"
     ],
     "language": "python",
     "metadata": {},
     "outputs": [],
     "prompt_number": 94
    },
    {
     "cell_type": "code",
     "collapsed": false,
     "input": [
      "fdf = pd.DataFrame(finding_counts)"
     ],
     "language": "python",
     "metadata": {},
     "outputs": [],
     "prompt_number": 138
    },
    {
     "cell_type": "code",
     "collapsed": false,
     "input": [
      "fdf.ix[fdf.lat!=1].describe()"
     ],
     "language": "python",
     "metadata": {},
     "outputs": [
      {
       "html": [
        "<div style=\"max-height:1000px;max-width:1500px;overflow:auto;\">\n",
        "<table border=\"1\" class=\"dataframe\">\n",
        "  <thead>\n",
        "    <tr style=\"text-align: right;\">\n",
        "      <th></th>\n",
        "      <th>lat</th>\n",
        "    </tr>\n",
        "  </thead>\n",
        "  <tbody>\n",
        "    <tr>\n",
        "      <th>count</th>\n",
        "      <td> 125.000000</td>\n",
        "    </tr>\n",
        "    <tr>\n",
        "      <th>mean</th>\n",
        "      <td>   7.448000</td>\n",
        "    </tr>\n",
        "    <tr>\n",
        "      <th>std</th>\n",
        "      <td>  12.761115</td>\n",
        "    </tr>\n",
        "    <tr>\n",
        "      <th>min</th>\n",
        "      <td>   2.000000</td>\n",
        "    </tr>\n",
        "    <tr>\n",
        "      <th>25%</th>\n",
        "      <td>   2.000000</td>\n",
        "    </tr>\n",
        "    <tr>\n",
        "      <th>50%</th>\n",
        "      <td>   4.000000</td>\n",
        "    </tr>\n",
        "    <tr>\n",
        "      <th>75%</th>\n",
        "      <td>   7.000000</td>\n",
        "    </tr>\n",
        "    <tr>\n",
        "      <th>max</th>\n",
        "      <td>  91.000000</td>\n",
        "    </tr>\n",
        "  </tbody>\n",
        "</table>\n",
        "</div>"
       ],
       "metadata": {},
       "output_type": "pyout",
       "prompt_number": 96,
       "text": [
        "              lat\n",
        "count  125.000000\n",
        "mean     7.448000\n",
        "std     12.761115\n",
        "min      2.000000\n",
        "25%      2.000000\n",
        "50%      4.000000\n",
        "75%      7.000000\n",
        "max     91.000000"
       ]
      }
     ],
     "prompt_number": 96
    },
    {
     "cell_type": "code",
     "collapsed": false,
     "input": [
      "single_results = pd.merge(fdf.ix[fdf.lat==1],geodf_merged,left_index=True,right_on='hgr_id')\n",
      "single_results = single_results.ix[single_results.result_placename!='not_found']\n",
      "single_results.to_csv('single_results.csv',encoding='utf-8')"
     ],
     "language": "python",
     "metadata": {},
     "outputs": [],
     "prompt_number": 143
    },
    {
     "cell_type": "code",
     "collapsed": false,
     "input": [
      "geodf_merged = pd.merge(geodf,market_df,left_on='hgr_id',right_index=True)\n",
      "geodf_merged = geodf_merged[['hgr_id', 'name', 'name_modern_sp', 'result_placename','searched_placename', 'admin1', 'country_name', 'lat', 'lng', 'src_id', 'country_code', 'url', 'src', 'ru_prov', 'prov_modern_sp', 'prov_stem', 'ru_uezd', 'page', 'text', '_type']]"
     ],
     "language": "python",
     "metadata": {},
     "outputs": [],
     "prompt_number": 97
    },
    {
     "cell_type": "markdown",
     "metadata": {},
     "source": [
      "The following cell gives information that can help improve the precision of the results. The pct column shows how disproportionate the number of responses is to the number of queries, so that problematic namiestnichestva can be dealt with."
     ]
    },
    {
     "cell_type": "code",
     "collapsed": false,
     "input": [
      "prov_precision_1 = pd.DataFrame(geodf_merged.ix[geodf_merged.result_placename != 'not_found'].pivot_table(index='prov_stem',values='hgr_id',aggfunc=lambda x: len(x.unique())))\n",
      "prov_precision_2 = pd.DataFrame(geodf_merged.ix[geodf_merged.result_placename != 'not_found'].pivot_table(index='prov_stem',values='lat',aggfunc=lambda x: len(x.unique())))\n",
      "prov_precision = pd.merge(prov_precision_1,prov_precision_2,left_index=True,right_index=True)\n",
      "prov_precision['pct'] = prov_precision.lat/prov_precision.hgr_id*100\n",
      "prov_precision.sort(columns='pct',ascending=False)"
     ],
     "language": "python",
     "metadata": {},
     "outputs": [
      {
       "html": [
        "<div style=\"max-height:1000px;max-width:1500px;overflow:auto;\">\n",
        "<table border=\"1\" class=\"dataframe\">\n",
        "  <thead>\n",
        "    <tr style=\"text-align: right;\">\n",
        "      <th></th>\n",
        "      <th>hgr_id</th>\n",
        "      <th>lat</th>\n",
        "      <th>pct</th>\n",
        "    </tr>\n",
        "    <tr>\n",
        "      <th>prov_stem</th>\n",
        "      <th></th>\n",
        "      <th></th>\n",
        "      <th></th>\n",
        "    </tr>\n",
        "  </thead>\n",
        "  <tbody>\n",
        "    <tr>\n",
        "      <th>\u043e\u0440\u043b\u043e\u0432\u0441\u043a</th>\n",
        "      <td>  4</td>\n",
        "      <td> 94</td>\n",
        "      <td> 2350.000000</td>\n",
        "    </tr>\n",
        "    <tr>\n",
        "      <th>\u043a\u043e\u0441\u0442\u0440\u043e\u043c\u0430</th>\n",
        "      <td>  5</td>\n",
        "      <td> 95</td>\n",
        "      <td> 1900.000000</td>\n",
        "    </tr>\n",
        "    <tr>\n",
        "      <th>\u044f\u0440\u043e\u0441\u043b\u0430\u0432\u0441\u043a</th>\n",
        "      <td>  8</td>\n",
        "      <td> 63</td>\n",
        "      <td>  787.500000</td>\n",
        "    </tr>\n",
        "    <tr>\n",
        "      <th>\u043f\u0435\u043d\u0437\u0435\u043d\u0441\u043a</th>\n",
        "      <td>  7</td>\n",
        "      <td> 53</td>\n",
        "      <td>  757.142857</td>\n",
        "    </tr>\n",
        "    <tr>\n",
        "      <th>\u0432\u043e\u0440\u043e\u043d\u0435\u0436</th>\n",
        "      <td>  8</td>\n",
        "      <td> 49</td>\n",
        "      <td>  612.500000</td>\n",
        "    </tr>\n",
        "    <tr>\n",
        "      <th>\u0445\u0430\u0440\u044c\u043a\u043e\u0432\u0441\u043a</th>\n",
        "      <td> 16</td>\n",
        "      <td> 97</td>\n",
        "      <td>  606.250000</td>\n",
        "    </tr>\n",
        "    <tr>\n",
        "      <th>\u043c\u043e\u0441\u043a\u043e\u0432\u0441\u043a</th>\n",
        "      <td> 15</td>\n",
        "      <td> 78</td>\n",
        "      <td>  520.000000</td>\n",
        "    </tr>\n",
        "    <tr>\n",
        "      <th>\u043c\u043e\u0433\u0438\u043b\u0435\u0432\u0441\u043a</th>\n",
        "      <td> 13</td>\n",
        "      <td> 64</td>\n",
        "      <td>  492.307692</td>\n",
        "    </tr>\n",
        "    <tr>\n",
        "      <th>\u043a\u0430\u043b\u0443\u0436\u0441\u043a</th>\n",
        "      <td>  6</td>\n",
        "      <td> 29</td>\n",
        "      <td>  483.333333</td>\n",
        "    </tr>\n",
        "    <tr>\n",
        "      <th>\u0442\u0430\u043c\u0431\u043e\u0432\u0441\u043a</th>\n",
        "      <td> 16</td>\n",
        "      <td> 64</td>\n",
        "      <td>  400.000000</td>\n",
        "    </tr>\n",
        "    <tr>\n",
        "      <th>\u0442\u0432\u0435\u0440\u0441\u043a</th>\n",
        "      <td>  7</td>\n",
        "      <td> 25</td>\n",
        "      <td>  357.142857</td>\n",
        "    </tr>\n",
        "    <tr>\n",
        "      <th>\u0432\u043b\u0430\u0434\u0438\u043c\u0435\u0440\u0441\u043a</th>\n",
        "      <td>  8</td>\n",
        "      <td> 27</td>\n",
        "      <td>  337.500000</td>\n",
        "    </tr>\n",
        "    <tr>\n",
        "      <th>\u043d\u043e\u0442_\u0438\u043d_\u0442\u0435x\u0442</th>\n",
        "      <td>  9</td>\n",
        "      <td> 30</td>\n",
        "      <td>  333.333333</td>\n",
        "    </tr>\n",
        "    <tr>\n",
        "      <th>\u043a\u0443\u0440\u0441\u043a</th>\n",
        "      <td>  5</td>\n",
        "      <td> 16</td>\n",
        "      <td>  320.000000</td>\n",
        "    </tr>\n",
        "    <tr>\n",
        "      <th>\u0442\u0443\u043b\u044c\u0441\u043a</th>\n",
        "      <td> 17</td>\n",
        "      <td> 53</td>\n",
        "      <td>  311.764706</td>\n",
        "    </tr>\n",
        "    <tr>\n",
        "      <th>\u043f\u0435\u0440\u043c\u0441\u043a</th>\n",
        "      <td>  1</td>\n",
        "      <td>  3</td>\n",
        "      <td>  300.000000</td>\n",
        "    </tr>\n",
        "    <tr>\n",
        "      <th>\u043d\u043e\u0432\u043e\u0433\u043e\u0440\u043e\u0434\u0441\u043a</th>\n",
        "      <td>  5</td>\n",
        "      <td> 14</td>\n",
        "      <td>  280.000000</td>\n",
        "    </tr>\n",
        "    <tr>\n",
        "      <th>\u0435\u043a\u0430\u0442\u0435\u0440\u0438\u043d\u043e\u0441\u043b\u0430\u0432\u0441\u043a</th>\n",
        "      <td>  7</td>\n",
        "      <td> 18</td>\n",
        "      <td>  257.142857</td>\n",
        "    </tr>\n",
        "    <tr>\n",
        "      <th>\u043f\u043e\u043b\u043e\u0442\u0441\u043a</th>\n",
        "      <td>  5</td>\n",
        "      <td> 12</td>\n",
        "      <td>  240.000000</td>\n",
        "    </tr>\n",
        "    <tr>\n",
        "      <th>\u0441\u043c\u043e\u043b\u0435\u043d\u0441\u043a</th>\n",
        "      <td>  3</td>\n",
        "      <td>  7</td>\n",
        "      <td>  233.333333</td>\n",
        "    </tr>\n",
        "    <tr>\n",
        "      <th>\u0441\u0438\u043d\u0431\u0438\u0440\u0441\u043a</th>\n",
        "      <td>  3</td>\n",
        "      <td>  7</td>\n",
        "      <td>  233.333333</td>\n",
        "    </tr>\n",
        "    <tr>\n",
        "      <th>\u043d\u043e\u0432\u043e\u0433\u043e\u0440\u043e\u0434\u0441\u043a\u043e\u0433\u043e - \u0441\u0435\u0432\u0435\u0440\u0441\u043a</th>\n",
        "      <td>  8</td>\n",
        "      <td> 18</td>\n",
        "      <td>  225.000000</td>\n",
        "    </tr>\n",
        "    <tr>\n",
        "      <th>\u0440\u044f\u0437\u0430\u043d\u0441\u043a</th>\n",
        "      <td>  5</td>\n",
        "      <td> 11</td>\n",
        "      <td>  220.000000</td>\n",
        "    </tr>\n",
        "    <tr>\n",
        "      <th>\u043d\u0438\u0436\u0435\u0433\u043e\u0440\u043e\u0434\u0441\u043a</th>\n",
        "      <td>  7</td>\n",
        "      <td> 15</td>\n",
        "      <td>  214.285714</td>\n",
        "    </tr>\n",
        "    <tr>\n",
        "      <th>\u043a\u0438\u0435\u0432\u0441\u043a</th>\n",
        "      <td> 18</td>\n",
        "      <td> 36</td>\n",
        "      <td>  200.000000</td>\n",
        "    </tr>\n",
        "    <tr>\n",
        "      <th>\u0447\u0435\u0440\u043d\u0438\u0433\u043e\u0432\u0441\u043a</th>\n",
        "      <td> 15</td>\n",
        "      <td> 28</td>\n",
        "      <td>  186.666667</td>\n",
        "    </tr>\n",
        "    <tr>\n",
        "      <th>\u0438\u0440\u043a\u0443\u0442\u0441\u043a</th>\n",
        "      <td>  5</td>\n",
        "      <td>  7</td>\n",
        "      <td>  140.000000</td>\n",
        "    </tr>\n",
        "    <tr>\n",
        "      <th>\u043f\u0441\u043a\u043e\u0432\u0441\u043a</th>\n",
        "      <td>  3</td>\n",
        "      <td>  4</td>\n",
        "      <td>  133.333333</td>\n",
        "    </tr>\n",
        "    <tr>\n",
        "      <th>\u0441\u0430\u0440\u0430\u0442\u043e\u0432\u0441\u043a</th>\n",
        "      <td>  5</td>\n",
        "      <td>  6</td>\n",
        "      <td>  120.000000</td>\n",
        "    </tr>\n",
        "    <tr>\n",
        "      <th>\u0440\u0438\u0436\u0441\u043a</th>\n",
        "      <td>  3</td>\n",
        "      <td>  3</td>\n",
        "      <td>  100.000000</td>\n",
        "    </tr>\n",
        "    <tr>\n",
        "      <th>\u043e\u043b\u043e\u043d\u0435\u0446\u043a</th>\n",
        "      <td>  1</td>\n",
        "      <td>  1</td>\n",
        "      <td>  100.000000</td>\n",
        "    </tr>\n",
        "    <tr>\n",
        "      <th>\u0432\u044f\u0442\u0441\u043a</th>\n",
        "      <td>  1</td>\n",
        "      <td>  1</td>\n",
        "      <td>  100.000000</td>\n",
        "    </tr>\n",
        "    <tr>\n",
        "      <th>\u0432\u044b\u0431\u043e\u0440\u0433</th>\n",
        "      <td>  1</td>\n",
        "      <td>  1</td>\n",
        "      <td>  100.000000</td>\n",
        "    </tr>\n",
        "    <tr>\n",
        "      <th>\u043a\u0430\u0432\u043a\u0430\u0437\u0441\u043a</th>\n",
        "      <td>  1</td>\n",
        "      <td>  1</td>\n",
        "      <td>  100.000000</td>\n",
        "    </tr>\n",
        "    <tr>\n",
        "      <th>\u0442\u0443\u043b\u044c\u0441\u043a\u0430\u0433</th>\n",
        "      <td>  1</td>\n",
        "      <td>  1</td>\n",
        "      <td>  100.000000</td>\n",
        "    </tr>\n",
        "    <tr>\n",
        "      <th>\u0432\u043e\u043b\u043e\u0433\u043e\u0434\u0441\u043a</th>\n",
        "      <td>  5</td>\n",
        "      <td>  5</td>\n",
        "      <td>  100.000000</td>\n",
        "    </tr>\n",
        "    <tr>\n",
        "      <th>\u043a\u0430\u0437\u0430\u043d\u0441\u043a</th>\n",
        "      <td>  2</td>\n",
        "      <td>  2</td>\n",
        "      <td>  100.000000</td>\n",
        "    </tr>\n",
        "    <tr>\n",
        "      <th>\u0430\u0440\u0445\u0430\u043d\u0433\u0435\u043b\u044c\u0441\u043a</th>\n",
        "      <td>  2</td>\n",
        "      <td>  2</td>\n",
        "      <td>  100.000000</td>\n",
        "    </tr>\n",
        "  </tbody>\n",
        "</table>\n",
        "</div>"
       ],
       "metadata": {},
       "output_type": "pyout",
       "prompt_number": 134,
       "text": [
        "                          hgr_id  lat          pct\n",
        "prov_stem                                         \n",
        "\u043e\u0440\u043b\u043e\u0432\u0441\u043a                        4   94  2350.000000\n",
        "\u043a\u043e\u0441\u0442\u0440\u043e\u043c\u0430                       5   95  1900.000000\n",
        "\u044f\u0440\u043e\u0441\u043b\u0430\u0432\u0441\u043a                      8   63   787.500000\n",
        "\u043f\u0435\u043d\u0437\u0435\u043d\u0441\u043a                       7   53   757.142857\n",
        "\u0432\u043e\u0440\u043e\u043d\u0435\u0436                        8   49   612.500000\n",
        "\u0445\u0430\u0440\u044c\u043a\u043e\u0432\u0441\u043a                     16   97   606.250000\n",
        "\u043c\u043e\u0441\u043a\u043e\u0432\u0441\u043a                      15   78   520.000000\n",
        "\u043c\u043e\u0433\u0438\u043b\u0435\u0432\u0441\u043a                     13   64   492.307692\n",
        "\u043a\u0430\u043b\u0443\u0436\u0441\u043a                        6   29   483.333333\n",
        "\u0442\u0430\u043c\u0431\u043e\u0432\u0441\u043a                      16   64   400.000000\n",
        "\u0442\u0432\u0435\u0440\u0441\u043a                         7   25   357.142857\n",
        "\u0432\u043b\u0430\u0434\u0438\u043c\u0435\u0440\u0441\u043a                     8   27   337.500000\n",
        "\u043d\u043e\u0442_\u0438\u043d_\u0442\u0435x\u0442                    9   30   333.333333\n",
        "\u043a\u0443\u0440\u0441\u043a                          5   16   320.000000\n",
        "\u0442\u0443\u043b\u044c\u0441\u043a                        17   53   311.764706\n",
        "\u043f\u0435\u0440\u043c\u0441\u043a                         1    3   300.000000\n",
        "\u043d\u043e\u0432\u043e\u0433\u043e\u0440\u043e\u0434\u0441\u043a                    5   14   280.000000\n",
        "\u0435\u043a\u0430\u0442\u0435\u0440\u0438\u043d\u043e\u0441\u043b\u0430\u0432\u0441\u043a                7   18   257.142857\n",
        "\u043f\u043e\u043b\u043e\u0442\u0441\u043a                        5   12   240.000000\n",
        "\u0441\u043c\u043e\u043b\u0435\u043d\u0441\u043a                       3    7   233.333333\n",
        "\u0441\u0438\u043d\u0431\u0438\u0440\u0441\u043a                       3    7   233.333333\n",
        "\u043d\u043e\u0432\u043e\u0433\u043e\u0440\u043e\u0434\u0441\u043a\u043e\u0433\u043e - \u0441\u0435\u0432\u0435\u0440\u0441\u043a       8   18   225.000000\n",
        "\u0440\u044f\u0437\u0430\u043d\u0441\u043a                        5   11   220.000000\n",
        "\u043d\u0438\u0436\u0435\u0433\u043e\u0440\u043e\u0434\u0441\u043a                    7   15   214.285714\n",
        "\u043a\u0438\u0435\u0432\u0441\u043a                        18   36   200.000000\n",
        "\u0447\u0435\u0440\u043d\u0438\u0433\u043e\u0432\u0441\u043a                    15   28   186.666667\n",
        "\u0438\u0440\u043a\u0443\u0442\u0441\u043a                        5    7   140.000000\n",
        "\u043f\u0441\u043a\u043e\u0432\u0441\u043a                        3    4   133.333333\n",
        "\u0441\u0430\u0440\u0430\u0442\u043e\u0432\u0441\u043a                      5    6   120.000000\n",
        "\u0440\u0438\u0436\u0441\u043a                          3    3   100.000000\n",
        "\u043e\u043b\u043e\u043d\u0435\u0446\u043a                        1    1   100.000000\n",
        "\u0432\u044f\u0442\u0441\u043a                          1    1   100.000000\n",
        "\u0432\u044b\u0431\u043e\u0440\u0433                         1    1   100.000000\n",
        "\u043a\u0430\u0432\u043a\u0430\u0437\u0441\u043a                       1    1   100.000000\n",
        "\u0442\u0443\u043b\u044c\u0441\u043a\u0430\u0433                       1    1   100.000000\n",
        "\u0432\u043e\u043b\u043e\u0433\u043e\u0434\u0441\u043a                      5    5   100.000000\n",
        "\u043a\u0430\u0437\u0430\u043d\u0441\u043a                        2    2   100.000000\n",
        "\u0430\u0440\u0445\u0430\u043d\u0433\u0435\u043b\u044c\u0441\u043a                    2    2   100.000000"
       ]
      }
     ],
     "prompt_number": 134
    },
    {
     "cell_type": "markdown",
     "metadata": {},
     "source": [
      "The following dataframe view shows the percent of place names for a given namiestnichestva which returned no results when sent to geonames."
     ]
    },
    {
     "cell_type": "code",
     "collapsed": false,
     "input": [
      "prov_recall_1 = pd.DataFrame(geodf_merged.pivot_table(index='prov_stem',values='hgr_id',aggfunc=lambda x: len(x.unique())))\n",
      "prov_recall_2 = pd.DataFrame(geodf_merged.ix[geodf_merged.result_placename == 'not_found'].pivot_table(index='prov_stem',values='hgr_id',aggfunc=lambda x: len(x.unique())))\n",
      "prov_recall = pd.merge(prov_recall_1,prov_recall_2,left_index=True,right_index=True)\n",
      "prov_recall['pct'] = prov_recall.hgr_id_y/prov_recall.hgr_id_x*100\n",
      "prov_recall.sort(columns='pct',ascending=False)"
     ],
     "language": "python",
     "metadata": {},
     "outputs": [
      {
       "html": [
        "<div style=\"max-height:1000px;max-width:1500px;overflow:auto;\">\n",
        "<table border=\"1\" class=\"dataframe\">\n",
        "  <thead>\n",
        "    <tr style=\"text-align: right;\">\n",
        "      <th></th>\n",
        "      <th>hgr_id_x</th>\n",
        "      <th>hgr_id_y</th>\n",
        "      <th>pct</th>\n",
        "    </tr>\n",
        "    <tr>\n",
        "      <th>prov_stem</th>\n",
        "      <th></th>\n",
        "      <th></th>\n",
        "      <th></th>\n",
        "    </tr>\n",
        "  </thead>\n",
        "  <tbody>\n",
        "    <tr>\n",
        "      <th>\u0443\u0444\u0438\u043c\u0441\u043a</th>\n",
        "      <td>  3</td>\n",
        "      <td>  3</td>\n",
        "      <td> 100.000000</td>\n",
        "    </tr>\n",
        "    <tr>\n",
        "      <th>\u0442\u043e\u0431\u043e\u043b\u044c\u0441\u043a</th>\n",
        "      <td>  2</td>\n",
        "      <td>  2</td>\n",
        "      <td> 100.000000</td>\n",
        "    </tr>\n",
        "    <tr>\n",
        "      <th>\u0440\u0435\u0432\u0435\u043b\u044c\u0441\u043a</th>\n",
        "      <td>  1</td>\n",
        "      <td>  1</td>\n",
        "      <td> 100.000000</td>\n",
        "    </tr>\n",
        "    <tr>\n",
        "      <th>\u043f\u0435\u0440\u043c\u0441\u043a</th>\n",
        "      <td>  4</td>\n",
        "      <td>  3</td>\n",
        "      <td>  75.000000</td>\n",
        "    </tr>\n",
        "    <tr>\n",
        "      <th>\u043f\u0441\u043a\u043e\u0432\u0441\u043a</th>\n",
        "      <td> 10</td>\n",
        "      <td>  7</td>\n",
        "      <td>  70.000000</td>\n",
        "    </tr>\n",
        "    <tr>\n",
        "      <th>\u043f\u043e\u043b\u043e\u0442\u0441\u043a</th>\n",
        "      <td> 15</td>\n",
        "      <td> 10</td>\n",
        "      <td>  66.666667</td>\n",
        "    </tr>\n",
        "    <tr>\n",
        "      <th>\u0432\u044b\u0431\u043e\u0440\u0433</th>\n",
        "      <td>  3</td>\n",
        "      <td>  2</td>\n",
        "      <td>  66.666667</td>\n",
        "    </tr>\n",
        "    <tr>\n",
        "      <th>\u0435\u043a\u0430\u0442\u0435\u0440\u0438\u043d\u043e\u0441\u043b\u0430\u0432\u0441\u043a</th>\n",
        "      <td> 21</td>\n",
        "      <td> 14</td>\n",
        "      <td>  66.666667</td>\n",
        "    </tr>\n",
        "    <tr>\n",
        "      <th>\u0441\u0438\u043d\u0431\u0438\u0440\u0441\u043a</th>\n",
        "      <td>  7</td>\n",
        "      <td>  4</td>\n",
        "      <td>  57.142857</td>\n",
        "    </tr>\n",
        "    <tr>\n",
        "      <th>\u043d\u043e\u0442_\u0438\u043d_\u0442\u0435x\u0442</th>\n",
        "      <td> 16</td>\n",
        "      <td>  9</td>\n",
        "      <td>  56.250000</td>\n",
        "    </tr>\n",
        "    <tr>\n",
        "      <th>\u0432\u043e\u043b\u043e\u0433\u043e\u0434\u0441\u043a</th>\n",
        "      <td> 10</td>\n",
        "      <td>  5</td>\n",
        "      <td>  50.000000</td>\n",
        "    </tr>\n",
        "    <tr>\n",
        "      <th>\u043f\u0435\u043d\u0437\u0435\u043d\u0441\u043a</th>\n",
        "      <td> 13</td>\n",
        "      <td>  6</td>\n",
        "      <td>  46.153846</td>\n",
        "    </tr>\n",
        "    <tr>\n",
        "      <th>\u044f\u0440\u043e\u0441\u043b\u0430\u0432\u0441\u043a</th>\n",
        "      <td> 13</td>\n",
        "      <td>  6</td>\n",
        "      <td>  46.153846</td>\n",
        "    </tr>\n",
        "    <tr>\n",
        "      <th>\u0440\u044f\u0437\u0430\u043d\u0441\u043a</th>\n",
        "      <td>  9</td>\n",
        "      <td>  4</td>\n",
        "      <td>  44.444444</td>\n",
        "    </tr>\n",
        "    <tr>\n",
        "      <th>\u043a\u043e\u0441\u0442\u0440\u043e\u043c\u0430</th>\n",
        "      <td>  9</td>\n",
        "      <td>  4</td>\n",
        "      <td>  44.444444</td>\n",
        "    </tr>\n",
        "    <tr>\n",
        "      <th>\u0442\u0432\u0435\u0440\u0441\u043a</th>\n",
        "      <td> 12</td>\n",
        "      <td>  5</td>\n",
        "      <td>  41.666667</td>\n",
        "    </tr>\n",
        "    <tr>\n",
        "      <th>\u0441\u043c\u043e\u043b\u0435\u043d\u0441\u043a</th>\n",
        "      <td>  5</td>\n",
        "      <td>  2</td>\n",
        "      <td>  40.000000</td>\n",
        "    </tr>\n",
        "    <tr>\n",
        "      <th>\u0438\u0440\u043a\u0443\u0442\u0441\u043a</th>\n",
        "      <td>  8</td>\n",
        "      <td>  3</td>\n",
        "      <td>  37.500000</td>\n",
        "    </tr>\n",
        "    <tr>\n",
        "      <th>\u043a\u0443\u0440\u0441\u043a</th>\n",
        "      <td>  8</td>\n",
        "      <td>  3</td>\n",
        "      <td>  37.500000</td>\n",
        "    </tr>\n",
        "    <tr>\n",
        "      <th>\u043a\u0438\u0435\u0432\u0441\u043a</th>\n",
        "      <td> 28</td>\n",
        "      <td> 10</td>\n",
        "      <td>  35.714286</td>\n",
        "    </tr>\n",
        "    <tr>\n",
        "      <th>\u0430\u0440\u0445\u0430\u043d\u0433\u0435\u043b\u044c\u0441\u043a</th>\n",
        "      <td>  3</td>\n",
        "      <td>  1</td>\n",
        "      <td>  33.333333</td>\n",
        "    </tr>\n",
        "    <tr>\n",
        "      <th>\u043a\u0430\u0437\u0430\u043d\u0441\u043a</th>\n",
        "      <td>  3</td>\n",
        "      <td>  1</td>\n",
        "      <td>  33.333333</td>\n",
        "    </tr>\n",
        "    <tr>\n",
        "      <th>\u0442\u0443\u043b\u044c\u0441\u043a</th>\n",
        "      <td> 25</td>\n",
        "      <td>  8</td>\n",
        "      <td>  32.000000</td>\n",
        "    </tr>\n",
        "    <tr>\n",
        "      <th>\u043c\u043e\u0441\u043a\u043e\u0432\u0441\u043a</th>\n",
        "      <td> 22</td>\n",
        "      <td>  7</td>\n",
        "      <td>  31.818182</td>\n",
        "    </tr>\n",
        "    <tr>\n",
        "      <th>\u0447\u0435\u0440\u043d\u0438\u0433\u043e\u0432\u0441\u043a</th>\n",
        "      <td> 20</td>\n",
        "      <td>  6</td>\n",
        "      <td>  30.000000</td>\n",
        "    </tr>\n",
        "    <tr>\n",
        "      <th>\u043d\u043e\u0432\u043e\u0433\u043e\u0440\u043e\u0434\u0441\u043a</th>\n",
        "      <td>  7</td>\n",
        "      <td>  2</td>\n",
        "      <td>  28.571429</td>\n",
        "    </tr>\n",
        "    <tr>\n",
        "      <th>\u0445\u0430\u0440\u044c\u043a\u043e\u0432\u0441\u043a</th>\n",
        "      <td> 22</td>\n",
        "      <td>  6</td>\n",
        "      <td>  27.272727</td>\n",
        "    </tr>\n",
        "    <tr>\n",
        "      <th>\u043c\u043e\u0433\u0438\u043b\u0435\u0432\u0441\u043a</th>\n",
        "      <td> 17</td>\n",
        "      <td>  4</td>\n",
        "      <td>  23.529412</td>\n",
        "    </tr>\n",
        "    <tr>\n",
        "      <th>\u043d\u0438\u0436\u0435\u0433\u043e\u0440\u043e\u0434\u0441\u043a</th>\n",
        "      <td>  9</td>\n",
        "      <td>  2</td>\n",
        "      <td>  22.222222</td>\n",
        "    </tr>\n",
        "    <tr>\n",
        "      <th>\u0432\u043b\u0430\u0434\u0438\u043c\u0435\u0440\u0441\u043a</th>\n",
        "      <td> 10</td>\n",
        "      <td>  2</td>\n",
        "      <td>  20.000000</td>\n",
        "    </tr>\n",
        "    <tr>\n",
        "      <th>\u043e\u0440\u043b\u043e\u0432\u0441\u043a</th>\n",
        "      <td>  5</td>\n",
        "      <td>  1</td>\n",
        "      <td>  20.000000</td>\n",
        "    </tr>\n",
        "    <tr>\n",
        "      <th>\u0442\u0430\u043c\u0431\u043e\u0432\u0441\u043a</th>\n",
        "      <td> 18</td>\n",
        "      <td>  2</td>\n",
        "      <td>  11.111111</td>\n",
        "    </tr>\n",
        "    <tr>\n",
        "      <th>\u0432\u043e\u0440\u043e\u043d\u0435\u0436</th>\n",
        "      <td>  9</td>\n",
        "      <td>  1</td>\n",
        "      <td>  11.111111</td>\n",
        "    </tr>\n",
        "  </tbody>\n",
        "</table>\n",
        "</div>"
       ],
       "metadata": {},
       "output_type": "pyout",
       "prompt_number": 135,
       "text": [
        "                 hgr_id_x  hgr_id_y         pct\n",
        "prov_stem                                      \n",
        "\u0443\u0444\u0438\u043c\u0441\u043a                  3         3  100.000000\n",
        "\u0442\u043e\u0431\u043e\u043b\u044c\u0441\u043a                2         2  100.000000\n",
        "\u0440\u0435\u0432\u0435\u043b\u044c\u0441\u043a                1         1  100.000000\n",
        "\u043f\u0435\u0440\u043c\u0441\u043a                  4         3   75.000000\n",
        "\u043f\u0441\u043a\u043e\u0432\u0441\u043a                10         7   70.000000\n",
        "\u043f\u043e\u043b\u043e\u0442\u0441\u043a                15        10   66.666667\n",
        "\u0432\u044b\u0431\u043e\u0440\u0433                  3         2   66.666667\n",
        "\u0435\u043a\u0430\u0442\u0435\u0440\u0438\u043d\u043e\u0441\u043b\u0430\u0432\u0441\u043a        21        14   66.666667\n",
        "\u0441\u0438\u043d\u0431\u0438\u0440\u0441\u043a                7         4   57.142857\n",
        "\u043d\u043e\u0442_\u0438\u043d_\u0442\u0435x\u0442            16         9   56.250000\n",
        "\u0432\u043e\u043b\u043e\u0433\u043e\u0434\u0441\u043a              10         5   50.000000\n",
        "\u043f\u0435\u043d\u0437\u0435\u043d\u0441\u043a               13         6   46.153846\n",
        "\u044f\u0440\u043e\u0441\u043b\u0430\u0432\u0441\u043a              13         6   46.153846\n",
        "\u0440\u044f\u0437\u0430\u043d\u0441\u043a                 9         4   44.444444\n",
        "\u043a\u043e\u0441\u0442\u0440\u043e\u043c\u0430                9         4   44.444444\n",
        "\u0442\u0432\u0435\u0440\u0441\u043a                 12         5   41.666667\n",
        "\u0441\u043c\u043e\u043b\u0435\u043d\u0441\u043a                5         2   40.000000\n",
        "\u0438\u0440\u043a\u0443\u0442\u0441\u043a                 8         3   37.500000\n",
        "\u043a\u0443\u0440\u0441\u043a                   8         3   37.500000\n",
        "\u043a\u0438\u0435\u0432\u0441\u043a                 28        10   35.714286\n",
        "\u0430\u0440\u0445\u0430\u043d\u0433\u0435\u043b\u044c\u0441\u043a             3         1   33.333333\n",
        "\u043a\u0430\u0437\u0430\u043d\u0441\u043a                 3         1   33.333333\n",
        "\u0442\u0443\u043b\u044c\u0441\u043a                 25         8   32.000000\n",
        "\u043c\u043e\u0441\u043a\u043e\u0432\u0441\u043a               22         7   31.818182\n",
        "\u0447\u0435\u0440\u043d\u0438\u0433\u043e\u0432\u0441\u043a             20         6   30.000000\n",
        "\u043d\u043e\u0432\u043e\u0433\u043e\u0440\u043e\u0434\u0441\u043a             7         2   28.571429\n",
        "\u0445\u0430\u0440\u044c\u043a\u043e\u0432\u0441\u043a              22         6   27.272727\n",
        "\u043c\u043e\u0433\u0438\u043b\u0435\u0432\u0441\u043a              17         4   23.529412\n",
        "\u043d\u0438\u0436\u0435\u0433\u043e\u0440\u043e\u0434\u0441\u043a             9         2   22.222222\n",
        "\u0432\u043b\u0430\u0434\u0438\u043c\u0435\u0440\u0441\u043a             10         2   20.000000\n",
        "\u043e\u0440\u043b\u043e\u0432\u0441\u043a                 5         1   20.000000\n",
        "\u0442\u0430\u043c\u0431\u043e\u0432\u0441\u043a               18         2   11.111111\n",
        "\u0432\u043e\u0440\u043e\u043d\u0435\u0436                 9         1   11.111111"
       ]
      }
     ],
     "prompt_number": 135
    },
    {
     "cell_type": "code",
     "collapsed": true,
     "input": [
      "geodf_merged.to_excel('geocoded_merged.xlsx',encoding = 'utf-8')"
     ],
     "language": "python",
     "metadata": {},
     "outputs": [],
     "prompt_number": 99
    },
    {
     "cell_type": "code",
     "collapsed": false,
     "input": [
      "not_found_merged = geodf_merged.ix[geodf_merged.result_placename == 'not_found']"
     ],
     "language": "python",
     "metadata": {},
     "outputs": [],
     "prompt_number": 101
    },
    {
     "cell_type": "code",
     "collapsed": false,
     "input": [
      "not_found_merged.to_excel('not_found_bounded.xlsx',encoding='utf-8')"
     ],
     "language": "python",
     "metadata": {},
     "outputs": [],
     "prompt_number": 104
    },
    {
     "cell_type": "code",
     "collapsed": false,
     "input": [
      "citysort = pd.DataFrame(geodf_merged.pivot_table(index='name',values='lat',aggfunc=lambda x: len(x.unique()))).sort(columns='lat',ascending=False)\n",
      "citysort['cum_sum'] = citysort.lat.cumsum()\n",
      "citysort['cum_perc'] = 100*citysort.cum_sum/citysort.lat.sum()\n",
      "citysort"
     ],
     "language": "python",
     "metadata": {},
     "outputs": [
      {
       "html": [
        "<div style=\"max-height:1000px;max-width:1500px;overflow:auto;\">\n",
        "<table border=\"1\" class=\"dataframe\">\n",
        "  <thead>\n",
        "    <tr style=\"text-align: right;\">\n",
        "      <th></th>\n",
        "      <th>lat</th>\n",
        "      <th>cum_sum</th>\n",
        "      <th>cum_perc</th>\n",
        "    </tr>\n",
        "    <tr>\n",
        "      <th>name</th>\n",
        "      <th></th>\n",
        "      <th></th>\n",
        "      <th></th>\n",
        "    </tr>\n",
        "  </thead>\n",
        "  <tbody>\n",
        "    <tr>\n",
        "      <th>\u041a\u0420\u0410\u0421\u041d\u041e\u0415</th>\n",
        "      <td> 91</td>\n",
        "      <td>  91</td>\n",
        "      <td>   9.145729</td>\n",
        "    </tr>\n",
        "    <tr>\n",
        "      <th>\u0418\u0412\u0410\u041d\u041e\u0412\u041a\u0410</th>\n",
        "      <td> 40</td>\n",
        "      <td> 131</td>\n",
        "      <td>  13.165829</td>\n",
        "    </tr>\n",
        "    <tr>\n",
        "      <th>\u0410\u041b\u0415\u041a\u0421\u0462\u0415\u0412\u041a\u0410</th>\n",
        "      <td> 39</td>\n",
        "      <td> 170</td>\n",
        "      <td>  17.085427</td>\n",
        "    </tr>\n",
        "    <tr>\n",
        "      <th>\u0413\u041b\u0462\u0411\u041e\u0412\u041e</th>\n",
        "      <td> 28</td>\n",
        "      <td> 198</td>\n",
        "      <td>  19.899497</td>\n",
        "    </tr>\n",
        "    <tr>\n",
        "      <th>\u0418\u0412\u0410\u041d\u041e\u0412\u0421\u041a\u041e\u0415</th>\n",
        "      <td> 19</td>\n",
        "      <td> 217</td>\n",
        "      <td>  21.809045</td>\n",
        "    </tr>\n",
        "    <tr>\n",
        "      <th>\u041a\u0410\u041c\u0415\u041d\u041a\u0410</th>\n",
        "      <td> 17</td>\n",
        "      <td> 234</td>\n",
        "      <td>  23.517588</td>\n",
        "    </tr>\n",
        "    <tr>\n",
        "      <th>\u0413\u041e\u0420\u0418\u0426\u042b</th>\n",
        "      <td> 15</td>\n",
        "      <td> 249</td>\n",
        "      <td>  25.025126</td>\n",
        "    </tr>\n",
        "    <tr>\n",
        "      <th>\u041b\u0423\u0416\u041a\u0418</th>\n",
        "      <td> 15</td>\n",
        "      <td> 264</td>\n",
        "      <td>  26.532663</td>\n",
        "    </tr>\n",
        "    <tr>\n",
        "      <th>\u0413\u041e\u0420\u041e\u0414\u041e\u041a\u042a</th>\n",
        "      <td> 15</td>\n",
        "      <td> 279</td>\n",
        "      <td>  28.040201</td>\n",
        "    </tr>\n",
        "    <tr>\n",
        "      <th>\u0412\u0415\u041b\u0418\u041a\u041e\u0415</th>\n",
        "      <td> 14</td>\n",
        "      <td> 293</td>\n",
        "      <td>  29.447236</td>\n",
        "    </tr>\n",
        "    <tr>\n",
        "      <th>\u0413\u0410\u0413\u0410\u0420\u0418\u041d\u041e</th>\n",
        "      <td> 13</td>\n",
        "      <td> 306</td>\n",
        "      <td>  30.753769</td>\n",
        "    </tr>\n",
        "    <tr>\n",
        "      <th>\u0410\u041d\u0422\u041e\u041d\u041e\u0412\u041a\u0410</th>\n",
        "      <td> 12</td>\n",
        "      <td> 318</td>\n",
        "      <td>  31.959799</td>\n",
        "    </tr>\n",
        "    <tr>\n",
        "      <th>\u041a\u041e\u0416\u0418\u041d\u041e</th>\n",
        "      <td> 12</td>\n",
        "      <td> 330</td>\n",
        "      <td>  33.165829</td>\n",
        "    </tr>\n",
        "    <tr>\n",
        "      <th>\u0413\u041e\u0420\u041a\u0418</th>\n",
        "      <td> 11</td>\n",
        "      <td> 341</td>\n",
        "      <td>  34.271357</td>\n",
        "    </tr>\n",
        "    <tr>\n",
        "      <th>\u0411\u0462\u041b\u041e\u0415</th>\n",
        "      <td> 11</td>\n",
        "      <td> 352</td>\n",
        "      <td>  35.376884</td>\n",
        "    </tr>\n",
        "    <tr>\n",
        "      <th>\u041b\u0418\u041c\u0410\u041d\u042c</th>\n",
        "      <td> 11</td>\n",
        "      <td> 363</td>\n",
        "      <td>  36.482412</td>\n",
        "    </tr>\n",
        "    <tr>\n",
        "      <th>\u0410\u041d\u0414\u0420\u0415\u0415\u0412\u041a\u0410</th>\n",
        "      <td> 10</td>\n",
        "      <td> 373</td>\n",
        "      <td>  37.487437</td>\n",
        "    </tr>\n",
        "    <tr>\n",
        "      <th>\u041b\u042f\u0414\u042b</th>\n",
        "      <td>  9</td>\n",
        "      <td> 382</td>\n",
        "      <td>  38.391960</td>\n",
        "    </tr>\n",
        "    <tr>\n",
        "      <th>\u0414\u041c\u0418\u0422\u0420\u041e\u0412\u041a\u0410</th>\n",
        "      <td>  9</td>\n",
        "      <td> 391</td>\n",
        "      <td>  39.296482</td>\n",
        "    </tr>\n",
        "    <tr>\n",
        "      <th>\u041a\u041e\u0417\u041b\u041e\u0412\u041a\u0410</th>\n",
        "      <td>  9</td>\n",
        "      <td> 400</td>\n",
        "      <td>  40.201005</td>\n",
        "    </tr>\n",
        "    <tr>\n",
        "      <th>\u041a\u0410\u0420\u041b\u041e\u0412\u041a\u0410</th>\n",
        "      <td>  9</td>\n",
        "      <td> 409</td>\n",
        "      <td>  41.105528</td>\n",
        "    </tr>\n",
        "    <tr>\n",
        "      <th>\u0411\u0410\u0415\u0412\u041a\u0410</th>\n",
        "      <td>  8</td>\n",
        "      <td> 417</td>\n",
        "      <td>  41.909548</td>\n",
        "    </tr>\n",
        "    <tr>\n",
        "      <th>\u0412\u0462\u0422\u041a\u0410</th>\n",
        "      <td>  8</td>\n",
        "      <td> 425</td>\n",
        "      <td>  42.713568</td>\n",
        "    </tr>\n",
        "    <tr>\n",
        "      <th>\u041a\u0420\u0410\u0421\u041d\u041e\u041f\u041e\u041b\u042c</th>\n",
        "      <td>  8</td>\n",
        "      <td> 433</td>\n",
        "      <td>  43.517588</td>\n",
        "    </tr>\n",
        "    <tr>\n",
        "      <th>\u0414\u0423\u0411\u041e\u0412\u041e\u0415</th>\n",
        "      <td>  8</td>\n",
        "      <td> 441</td>\n",
        "      <td>  44.321608</td>\n",
        "    </tr>\n",
        "    <tr>\n",
        "      <th>\u041a\u0410\u041c\u0415\u041d\u0415\u0426\u042a</th>\n",
        "      <td>  7</td>\n",
        "      <td> 448</td>\n",
        "      <td>  45.025126</td>\n",
        "    </tr>\n",
        "    <tr>\n",
        "      <th>\u0418\u041b\u042c\u0418\u041d\u0421\u041a\u041e\u0415</th>\n",
        "      <td>  7</td>\n",
        "      <td> 455</td>\n",
        "      <td>  45.728643</td>\n",
        "    </tr>\n",
        "    <tr>\n",
        "      <th>\u0414\u0423\u0411\u0420\u041e\u0412\u041a\u0418</th>\n",
        "      <td>  7</td>\n",
        "      <td> 462</td>\n",
        "      <td>  46.432161</td>\n",
        "    </tr>\n",
        "    <tr>\n",
        "      <th>\u0412\u041e\u0420\u041e\u041d\u0426\u041e\u0412\u041a\u0410</th>\n",
        "      <td>  7</td>\n",
        "      <td> 469</td>\n",
        "      <td>  47.135678</td>\n",
        "    </tr>\n",
        "    <tr>\n",
        "      <th>\u0413\u041b\u0423\u0425\u041e\u0412\u042a</th>\n",
        "      <td>  7</td>\n",
        "      <td> 476</td>\n",
        "      <td>  47.839196</td>\n",
        "    </tr>\n",
        "    <tr>\n",
        "      <th>...</th>\n",
        "      <td>...</td>\n",
        "      <td>...</td>\n",
        "      <td>...</td>\n",
        "    </tr>\n",
        "    <tr>\n",
        "      <th>\u0412\u042f\u0417\u041e\u0412\u041d\u0410</th>\n",
        "      <td>  1</td>\n",
        "      <td> 966</td>\n",
        "      <td>  97.085427</td>\n",
        "    </tr>\n",
        "    <tr>\n",
        "      <th>\u0412\u042f\u0417\u041d\u0418\u041a\u0418</th>\n",
        "      <td>  1</td>\n",
        "      <td> 967</td>\n",
        "      <td>  97.185930</td>\n",
        "    </tr>\n",
        "    <tr>\n",
        "      <th>\u0412\u042c\u0406\u0427\u0423\u0413\u0410</th>\n",
        "      <td>  1</td>\n",
        "      <td> 968</td>\n",
        "      <td>  97.286432</td>\n",
        "    </tr>\n",
        "    <tr>\n",
        "      <th>\u0412\u042b\u0428\u041d\u0406\u0419 \u0412\u041e\u041b\u041e\u0427\u041e\u041a\u042a</th>\n",
        "      <td>  1</td>\n",
        "      <td> 969</td>\n",
        "      <td>  97.386935</td>\n",
        "    </tr>\n",
        "    <tr>\n",
        "      <th>\u0412\u042b\u0422\u0415\u0413\u0420\u0410</th>\n",
        "      <td>  1</td>\n",
        "      <td> 970</td>\n",
        "      <td>  97.487437</td>\n",
        "    </tr>\n",
        "    <tr>\n",
        "      <th>\u0412\u042b\u0411\u041e\u0420\u0413\u042a</th>\n",
        "      <td>  1</td>\n",
        "      <td> 971</td>\n",
        "      <td>  97.587940</td>\n",
        "    </tr>\n",
        "    <tr>\n",
        "      <th>\u0412\u0420\u0415\u0412\u042a</th>\n",
        "      <td>  1</td>\n",
        "      <td> 972</td>\n",
        "      <td>  97.688442</td>\n",
        "    </tr>\n",
        "    <tr>\n",
        "      <th>\u0412\u041e\u0420\u041e\u041d\u041a\u041e\u0412\u042a</th>\n",
        "      <td>  1</td>\n",
        "      <td> 973</td>\n",
        "      <td>  97.788945</td>\n",
        "    </tr>\n",
        "    <tr>\n",
        "      <th>\u0412\u041e\u0420\u041e\u041d\u0415\u0416\u042a</th>\n",
        "      <td>  1</td>\n",
        "      <td> 974</td>\n",
        "      <td>  97.889447</td>\n",
        "    </tr>\n",
        "    <tr>\n",
        "      <th>\u0412\u041e\u041b\u042c\u041d\u0410\u042f</th>\n",
        "      <td>  1</td>\n",
        "      <td> 975</td>\n",
        "      <td>  97.989950</td>\n",
        "    </tr>\n",
        "    <tr>\n",
        "      <th>\u0413\u0415\u041d\u041d\u0410\u0414\u0406\u0415\u0412\u042a</th>\n",
        "      <td>  1</td>\n",
        "      <td> 976</td>\n",
        "      <td>  98.090452</td>\n",
        "    </tr>\n",
        "    <tr>\n",
        "      <th>\u0413\u0416\u0410\u0422\u042c</th>\n",
        "      <td>  1</td>\n",
        "      <td> 977</td>\n",
        "      <td>  98.190955</td>\n",
        "    </tr>\n",
        "    <tr>\n",
        "      <th>\u0414\u0410\u0419\u041c\u0418\u041d\u041e</th>\n",
        "      <td>  1</td>\n",
        "      <td> 978</td>\n",
        "      <td>  98.291457</td>\n",
        "    </tr>\n",
        "    <tr>\n",
        "      <th>\u0413\u041b\u0415\u041c\u042f\u0417\u041e\u0412\u042a</th>\n",
        "      <td>  1</td>\n",
        "      <td> 979</td>\n",
        "      <td>  98.391960</td>\n",
        "    </tr>\n",
        "    <tr>\n",
        "      <th>\u0414\u0410\u0413\u0414\u0410</th>\n",
        "      <td>  1</td>\n",
        "      <td> 980</td>\n",
        "      <td>  98.492462</td>\n",
        "    </tr>\n",
        "    <tr>\n",
        "      <th>\u0413\u0423\u0421\u0422\u0418\u041d\u041e\u0412\u041e</th>\n",
        "      <td>  1</td>\n",
        "      <td> 981</td>\n",
        "      <td>  98.592965</td>\n",
        "    </tr>\n",
        "    <tr>\n",
        "      <th>\u0413\u0420\u042f\u0417\u041e\u0412\u0415\u0426\u042a</th>\n",
        "      <td>  1</td>\n",
        "      <td> 982</td>\n",
        "      <td>  98.693467</td>\n",
        "    </tr>\n",
        "    <tr>\n",
        "      <th>\u0413\u0420\u042f\u0417\u041d\u041e\u0415</th>\n",
        "      <td>  1</td>\n",
        "      <td> 983</td>\n",
        "      <td>  98.793970</td>\n",
        "    </tr>\n",
        "    <tr>\n",
        "      <th>\u0413\u0420\u0418\u0422\u0427\u0418\u041d\u041e</th>\n",
        "      <td>  1</td>\n",
        "      <td> 984</td>\n",
        "      <td>  98.894472</td>\n",
        "    </tr>\n",
        "    <tr>\n",
        "      <th>\u0413\u0420\u0415\u041c\u042f\u0427\u0415\u0412\u042a</th>\n",
        "      <td>  1</td>\n",
        "      <td> 985</td>\n",
        "      <td>  98.994975</td>\n",
        "    </tr>\n",
        "    <tr>\n",
        "      <th>\u0413\u0420\u0415\u0411\u0415\u041d\u0418\u0428\u041a\u0418</th>\n",
        "      <td>  1</td>\n",
        "      <td> 986</td>\n",
        "      <td>  99.095477</td>\n",
        "    </tr>\n",
        "    <tr>\n",
        "      <th>\u0413\u041e\u0420\u041e\u0428\u0418\u041d\u042a</th>\n",
        "      <td>  1</td>\n",
        "      <td> 987</td>\n",
        "      <td>  99.195980</td>\n",
        "    </tr>\n",
        "    <tr>\n",
        "      <th>\u0413\u041e\u0420\u041e\u0425\u041e\u0412\u0415\u0426\u042a</th>\n",
        "      <td>  1</td>\n",
        "      <td> 988</td>\n",
        "      <td>  99.296482</td>\n",
        "    </tr>\n",
        "    <tr>\n",
        "      <th>\u0413\u041e\u0420\u0411\u0410\u0422\u041e\u0412\u042a</th>\n",
        "      <td>  1</td>\n",
        "      <td> 989</td>\n",
        "      <td>  99.396985</td>\n",
        "    </tr>\n",
        "    <tr>\n",
        "      <th>\u0413\u041e\u041c\u041b\u042f</th>\n",
        "      <td>  1</td>\n",
        "      <td> 990</td>\n",
        "      <td>  99.497487</td>\n",
        "    </tr>\n",
        "    <tr>\n",
        "      <th>\u0413\u041e\u041b\u0422\u0412\u0410</th>\n",
        "      <td>  1</td>\n",
        "      <td> 991</td>\n",
        "      <td>  99.597990</td>\n",
        "    </tr>\n",
        "    <tr>\n",
        "      <th>\u0413\u041e\u0413\u041e\u041b\u0415\u0412\u042a</th>\n",
        "      <td>  1</td>\n",
        "      <td> 992</td>\n",
        "      <td>  99.698492</td>\n",
        "    </tr>\n",
        "    <tr>\n",
        "      <th>\u0413\u041d\u0418\u041b\u042c\u0421\u041a\u041e\u0419</th>\n",
        "      <td>  1</td>\n",
        "      <td> 993</td>\n",
        "      <td>  99.798995</td>\n",
        "    </tr>\n",
        "    <tr>\n",
        "      <th>\u0413\u041b\u0418\u041d\u0421\u041a\u042a</th>\n",
        "      <td>  1</td>\n",
        "      <td> 994</td>\n",
        "      <td>  99.899497</td>\n",
        "    </tr>\n",
        "    <tr>\n",
        "      <th>\u041c\u0410\u041a\u0410\u0420\u042c\u0415\u0412\u042a</th>\n",
        "      <td>  1</td>\n",
        "      <td> 995</td>\n",
        "      <td> 100.000000</td>\n",
        "    </tr>\n",
        "  </tbody>\n",
        "</table>\n",
        "<p>374 rows \u00d7 3 columns</p>\n",
        "</div>"
       ],
       "metadata": {},
       "output_type": "pyout",
       "prompt_number": 105,
       "text": [
        "                 lat  cum_sum    cum_perc\n",
        "name                                     \n",
        "\u041a\u0420\u0410\u0421\u041d\u041e\u0415           91       91    9.145729\n",
        "\u0418\u0412\u0410\u041d\u041e\u0412\u041a\u0410          40      131   13.165829\n",
        "\u0410\u041b\u0415\u041a\u0421\u0462\u0415\u0412\u041a\u0410        39      170   17.085427\n",
        "\u0413\u041b\u0462\u0411\u041e\u0412\u041e           28      198   19.899497\n",
        "\u0418\u0412\u0410\u041d\u041e\u0412\u0421\u041a\u041e\u0415        19      217   21.809045\n",
        "\u041a\u0410\u041c\u0415\u041d\u041a\u0410           17      234   23.517588\n",
        "\u0413\u041e\u0420\u0418\u0426\u042b            15      249   25.025126\n",
        "\u041b\u0423\u0416\u041a\u0418             15      264   26.532663\n",
        "\u0413\u041e\u0420\u041e\u0414\u041e\u041a\u042a          15      279   28.040201\n",
        "\u0412\u0415\u041b\u0418\u041a\u041e\u0415           14      293   29.447236\n",
        "\u0413\u0410\u0413\u0410\u0420\u0418\u041d\u041e          13      306   30.753769\n",
        "\u0410\u041d\u0422\u041e\u041d\u041e\u0412\u041a\u0410         12      318   31.959799\n",
        "\u041a\u041e\u0416\u0418\u041d\u041e            12      330   33.165829\n",
        "\u0413\u041e\u0420\u041a\u0418             11      341   34.271357\n",
        "\u0411\u0462\u041b\u041e\u0415             11      352   35.376884\n",
        "\u041b\u0418\u041c\u0410\u041d\u042c            11      363   36.482412\n",
        "\u0410\u041d\u0414\u0420\u0415\u0415\u0412\u041a\u0410         10      373   37.487437\n",
        "\u041b\u042f\u0414\u042b               9      382   38.391960\n",
        "\u0414\u041c\u0418\u0422\u0420\u041e\u0412\u041a\u0410          9      391   39.296482\n",
        "\u041a\u041e\u0417\u041b\u041e\u0412\u041a\u0410           9      400   40.201005\n",
        "\u041a\u0410\u0420\u041b\u041e\u0412\u041a\u0410           9      409   41.105528\n",
        "\u0411\u0410\u0415\u0412\u041a\u0410             8      417   41.909548\n",
        "\u0412\u0462\u0422\u041a\u0410              8      425   42.713568\n",
        "\u041a\u0420\u0410\u0421\u041d\u041e\u041f\u041e\u041b\u042c         8      433   43.517588\n",
        "\u0414\u0423\u0411\u041e\u0412\u041e\u0415            8      441   44.321608\n",
        "\u041a\u0410\u041c\u0415\u041d\u0415\u0426\u042a           7      448   45.025126\n",
        "\u0418\u041b\u042c\u0418\u041d\u0421\u041a\u041e\u0415          7      455   45.728643\n",
        "\u0414\u0423\u0411\u0420\u041e\u0412\u041a\u0418           7      462   46.432161\n",
        "\u0412\u041e\u0420\u041e\u041d\u0426\u041e\u0412\u041a\u0410         7      469   47.135678\n",
        "\u0413\u041b\u0423\u0425\u041e\u0412\u042a            7      476   47.839196\n",
        "...              ...      ...         ...\n",
        "\u0412\u042f\u0417\u041e\u0412\u041d\u0410            1      966   97.085427\n",
        "\u0412\u042f\u0417\u041d\u0418\u041a\u0418            1      967   97.185930\n",
        "\u0412\u042c\u0406\u0427\u0423\u0413\u0410            1      968   97.286432\n",
        "\u0412\u042b\u0428\u041d\u0406\u0419 \u0412\u041e\u041b\u041e\u0427\u041e\u041a\u042a    1      969   97.386935\n",
        "\u0412\u042b\u0422\u0415\u0413\u0420\u0410            1      970   97.487437\n",
        "\u0412\u042b\u0411\u041e\u0420\u0413\u042a            1      971   97.587940\n",
        "\u0412\u0420\u0415\u0412\u042a              1      972   97.688442\n",
        "\u0412\u041e\u0420\u041e\u041d\u041a\u041e\u0412\u042a          1      973   97.788945\n",
        "\u0412\u041e\u0420\u041e\u041d\u0415\u0416\u042a           1      974   97.889447\n",
        "\u0412\u041e\u041b\u042c\u041d\u0410\u042f            1      975   97.989950\n",
        "\u0413\u0415\u041d\u041d\u0410\u0414\u0406\u0415\u0412\u042a         1      976   98.090452\n",
        "\u0413\u0416\u0410\u0422\u042c              1      977   98.190955\n",
        "\u0414\u0410\u0419\u041c\u0418\u041d\u041e            1      978   98.291457\n",
        "\u0413\u041b\u0415\u041c\u042f\u0417\u041e\u0412\u042a          1      979   98.391960\n",
        "\u0414\u0410\u0413\u0414\u0410              1      980   98.492462\n",
        "\u0413\u0423\u0421\u0422\u0418\u041d\u041e\u0412\u041e          1      981   98.592965\n",
        "\u0413\u0420\u042f\u0417\u041e\u0412\u0415\u0426\u042a          1      982   98.693467\n",
        "\u0413\u0420\u042f\u0417\u041d\u041e\u0415            1      983   98.793970\n",
        "\u0413\u0420\u0418\u0422\u0427\u0418\u041d\u041e           1      984   98.894472\n",
        "\u0413\u0420\u0415\u041c\u042f\u0427\u0415\u0412\u042a          1      985   98.994975\n",
        "\u0413\u0420\u0415\u0411\u0415\u041d\u0418\u0428\u041a\u0418         1      986   99.095477\n",
        "\u0413\u041e\u0420\u041e\u0428\u0418\u041d\u042a           1      987   99.195980\n",
        "\u0413\u041e\u0420\u041e\u0425\u041e\u0412\u0415\u0426\u042a         1      988   99.296482\n",
        "\u0413\u041e\u0420\u0411\u0410\u0422\u041e\u0412\u042a          1      989   99.396985\n",
        "\u0413\u041e\u041c\u041b\u042f              1      990   99.497487\n",
        "\u0413\u041e\u041b\u0422\u0412\u0410             1      991   99.597990\n",
        "\u0413\u041e\u0413\u041e\u041b\u0415\u0412\u042a           1      992   99.698492\n",
        "\u0413\u041d\u0418\u041b\u042c\u0421\u041a\u041e\u0419          1      993   99.798995\n",
        "\u0413\u041b\u0418\u041d\u0421\u041a\u042a            1      994   99.899497\n",
        "\u041c\u0410\u041a\u0410\u0420\u042c\u0415\u0412\u042a          1      995  100.000000\n",
        "\n",
        "[374 rows x 3 columns]"
       ]
      }
     ],
     "prompt_number": 105
    },
    {
     "cell_type": "code",
     "collapsed": false,
     "input": [
      "R = requests.get('http://api.geonames.org/search?featureCode=PPL&type=json&north=55.671667&east=43.210556&username=jaguillette&west=35.210556&name=%D0%90%D0%9B%D0%95%D0%9A%D0%A1%D0%95%D0%95%D0%92%D0%9A%D0%90&south=47.671667&adminCode1=76')\n",
      "test = R.json()\n",
      "for k in test['geonames']:\n",
      "    print('{}\\t{}'.format(k['lat'],k['lng']))"
     ],
     "language": "python",
     "metadata": {},
     "outputs": [
      {
       "output_type": "stream",
       "stream": "stdout",
       "text": [
        "53.78872\t37.81175\n",
        "53.1281\t38.5728\n",
        "53.434\t38.5649\n",
        "53.4684\t38.4039\n",
        "54.23672\t37.43163\n",
        "53.86918\t36.2825\n",
        "53.7127\t37.58333\n",
        "53.65225\t36.89267\n",
        "53.5924\t38.09726\n",
        "53.42806\t38.09139\n",
        "53.08559\t37.84466\n",
        "53.99782\t38.52497\n"
       ]
      }
     ],
     "prompt_number": 72
    },
    {
     "cell_type": "code",
     "collapsed": false,
     "input": [
      "geodf_merged.ix[geodf_merged.hgr_id==265].url.tolist()"
     ],
     "language": "python",
     "metadata": {},
     "outputs": [
      {
       "metadata": {},
       "output_type": "pyout",
       "prompt_number": 74,
       "text": [
        "['http://api.geonames.org/search?north=54.837&east=46.7277&username=jaguillette&name=%D0%9A%D0%90%D0%97%D0%90%D0%9D%D0%A1%D0%9A%D0%9E%D0%99+%D0%91%D0%9E%D0%93%D0%9E%D0%A0%D0%9E%D0%94%D0%98%D0%A6%D0%9A%D0%9E%D0%99&featureClass=P&south=52.3247&type=json&west=41.8373',\n",
        " 'http://api.geonames.org/search?north=54.837&east=46.7277&username=jaguillette&name=%D0%9A%D0%90%D0%97%D0%90%D0%9D%D0%A1%D0%9A%D0%98%D0%99+%D0%91%D0%9E%D0%93%D0%9E%D0%A0%D0%9E%D0%94%D0%98%D0%A6%D0%9A%D0%98%D0%99&featureClass=P&south=52.3247&type=json&west=41.8373']"
       ]
      }
     ],
     "prompt_number": 74
    },
    {
     "cell_type": "code",
     "collapsed": true,
     "input": [
      "print(len(market_df.ix[geodf_merged.ru_prov!='not_in_text']))\n",
      "print(len(market_df.ix[geodf_merged.ru_uezd!='not_in_text']))"
     ],
     "language": "python",
     "metadata": {},
     "outputs": [
      {
       "output_type": "stream",
       "stream": "stdout",
       "text": [
        "376\n",
        "234\n"
       ]
      }
     ],
     "prompt_number": 78
    },
    {
     "cell_type": "markdown",
     "metadata": {},
     "source": [
      "Kiev Experiment\n",
      "===============\n",
      "Trying to narrow results with bounding rectangles"
     ]
    },
    {
     "cell_type": "markdown",
     "metadata": {},
     "source": [
      "No bounding rectangle"
     ]
    },
    {
     "cell_type": "code",
     "collapsed": false,
     "input": [
      "kiev = market_df.ix[market_df.prov_stem == '\u043a\u0438\u0435\u0432\u0441\u043a']"
     ],
     "language": "python",
     "metadata": {},
     "outputs": [],
     "prompt_number": 181
    },
    {
     "cell_type": "code",
     "collapsed": false,
     "input": [
      "kiev_geocoded = []\n",
      "for x in range(0,len(kiev)):\n",
      "    entry = kiev.iloc[x]\n",
      "    kiev_geocoded.extend(geonames_lookup(entry['name_modern_sp'],entry.name))"
     ],
     "language": "python",
     "metadata": {},
     "outputs": [
      {
       "output_type": "stream",
       "stream": "stdout",
       "text": [
        "\u0411\u0410\u0420\u042b\u0428\u0415\u0412\u041a\u0410 was found.\n",
        "\u0411\u041e\u0411\u0420\u041e\u0412\u0418\u0426\u0410 was found."
       ]
      },
      {
       "output_type": "stream",
       "stream": "stdout",
       "text": [
        "\n",
        "\u0411\u041e\u0413\u0410\u0427\u041a\u0410 was found."
       ]
      },
      {
       "output_type": "stream",
       "stream": "stdout",
       "text": [
        "\n",
        "\u0411\u041e\u0420\u0418\u0421\u041f\u041e\u041b\u042c was found."
       ]
      },
      {
       "output_type": "stream",
       "stream": "stdout",
       "text": [
        "\n",
        "\u0411\u0423\u0420\u041e\u041c\u041a\u0410 was found."
       ]
      },
      {
       "output_type": "stream",
       "stream": "stdout",
       "text": [
        "\n",
        "\u0411\u0415\u041b\u041e\u0426\u0415\u0420\u041a\u041e\u0412\u041a\u0410 was found."
       ]
      },
      {
       "output_type": "stream",
       "stream": "stdout",
       "text": [
        "\n",
        "\u0412\u041e\u0420\u041e\u041d\u041a\u041e\u0412 was found."
       ]
      },
      {
       "output_type": "stream",
       "stream": "stdout",
       "text": [
        "\n",
        "\u0413\u041b\u0415\u041c\u042f\u0417\u041e\u0412 was not found."
       ]
      },
      {
       "output_type": "stream",
       "stream": "stdout",
       "text": [
        "\n",
        "\u0413\u041e\u0413\u041e\u041b\u0415\u0412 was found."
       ]
      },
      {
       "output_type": "stream",
       "stream": "stdout",
       "text": [
        "\n",
        "\u0413\u041e\u0420\u041e\u0414\u0418\u0429\u0415 was found."
       ]
      },
      {
       "output_type": "stream",
       "stream": "stdout",
       "text": [
        "\n",
        "\u0413\u041e\u0420\u041e\u0428\u0418\u041d was found."
       ]
      },
      {
       "output_type": "stream",
       "stream": "stdout",
       "text": [
        "\n",
        "\u0414\u041c\u0418\u0422\u0420\u041e\u0412\u041a\u0410 was found."
       ]
      },
      {
       "output_type": "stream",
       "stream": "stdout",
       "text": [
        "\n",
        "\u0415\u041a\u0410\u0422\u0415\u0420\u0418\u041d\u0418\u041d\u0421\u041a\u0410\u042f was found."
       ]
      },
      {
       "output_type": "stream",
       "stream": "stdout",
       "text": [
        "\n",
        "\u0415\u0420\u0415\u041c\u0415\u0415\u0412\u041a\u0410 was found."
       ]
      },
      {
       "output_type": "stream",
       "stream": "stdout",
       "text": [
        "\n",
        "\u0416\u041e\u0412\u041d\u0418\u041d was not found."
       ]
      },
      {
       "output_type": "stream",
       "stream": "stdout",
       "text": [
        "\n",
        "\u0417\u041e\u041b\u041e\u0422\u041e\u041d\u041e\u0428\u0410 was found."
       ]
      },
      {
       "output_type": "stream",
       "stream": "stdout",
       "text": [
        "\n",
        "\u041a\u0410\u041c\u042b\u0428\u041d\u042f was found."
       ]
      },
      {
       "output_type": "stream",
       "stream": "stdout",
       "text": [
        "\n",
        "\u041a\u041e\u0411\u042b\u0417\u0427\u0410 was not found."
       ]
      },
      {
       "output_type": "stream",
       "stream": "stdout",
       "text": [
        "\n",
        "\u041a\u041e\u0417\u0415\u041b\u0415\u0426 was found."
       ]
      },
      {
       "output_type": "stream",
       "stream": "stdout",
       "text": [
        "\n",
        "\u041a\u041e\u041c\u041b\u0418\u0427\u041a\u0418 was not found."
       ]
      },
      {
       "output_type": "stream",
       "stream": "stdout",
       "text": [
        "\n",
        "\u041a\u041e\u041d\u0421\u0422\u0410\u041d\u0422\u0418\u041d\u041e\u0412\u041e was found."
       ]
      },
      {
       "output_type": "stream",
       "stream": "stdout",
       "text": [
        "\n",
        "\u041a\u041e\u0420\u041e\u0412\u0410\u0419 was found."
       ]
      },
      {
       "output_type": "stream",
       "stream": "stdout",
       "text": [
        "\n",
        "\u041a\u0420\u0410\u041f\u0418\u0412\u041d\u0410 was found."
       ]
      },
      {
       "output_type": "stream",
       "stream": "stdout",
       "text": [
        "\n",
        "\u041a\u0420\u042b\u041b\u0415\u0415\u0412\u041e was not found."
       ]
      },
      {
       "output_type": "stream",
       "stream": "stdout",
       "text": [
        "\n",
        "\u041a\u0423\u0420\u0415\u041d\u042c\u041a\u0418 was found."
       ]
      },
      {
       "output_type": "stream",
       "stream": "stdout",
       "text": [
        "\n",
        "\u041b\u0423\u041a\u041e\u041c\u041b\u042f was not found."
       ]
      },
      {
       "output_type": "stream",
       "stream": "stdout",
       "text": [
        "\n"
       ]
      }
     ],
     "prompt_number": 182
    },
    {
     "cell_type": "code",
     "collapsed": false,
     "input": [
      "kiev_geo_df = pd.DataFrame(kiev_geocoded,columns=['hgr_id','placename','admin1','country_name','lat','lng','src_id','country_code','url','src'])\n",
      "len(kiev_geo_df)"
     ],
     "language": "python",
     "metadata": {},
     "outputs": [
      {
       "metadata": {},
       "output_type": "pyout",
       "prompt_number": 183,
       "text": [
        "319"
       ]
      }
     ],
     "prompt_number": 183
    },
    {
     "cell_type": "code",
     "collapsed": false,
     "input": [
      "kiev_geo_df.to_excel('kiev_unbound.xlsx',encoding='utf-8')"
     ],
     "language": "python",
     "metadata": {},
     "outputs": [],
     "prompt_number": 184
    },
    {
     "cell_type": "markdown",
     "metadata": {},
     "source": [
      "Now we try a bounding rectangle"
     ]
    },
    {
     "cell_type": "code",
     "collapsed": false,
     "input": [
      "kiev_bounded = []\n",
      "for x in range(0,len(kiev)):\n",
      "    entry = kiev.iloc[x]\n",
      "    kiev_bounded.extend(geonames_lookup(entry['name_modern_sp'],entry.name,north=51.49413,south=49.08008,east=34.35625,west=29.72503))"
     ],
     "language": "python",
     "metadata": {},
     "outputs": [
      {
       "output_type": "stream",
       "stream": "stdout",
       "text": [
        "\u0411\u0410\u0420\u042b\u0428\u0415\u0412\u041a\u0410 was found.\n",
        "\u0411\u041e\u0411\u0420\u041e\u0412\u0418\u0426\u0410 was found."
       ]
      },
      {
       "output_type": "stream",
       "stream": "stdout",
       "text": [
        "\n",
        "\u0411\u041e\u0413\u0410\u0427\u041a\u0410 was found."
       ]
      },
      {
       "output_type": "stream",
       "stream": "stdout",
       "text": [
        "\n",
        "\u0411\u041e\u0420\u0418\u0421\u041f\u041e\u041b\u042c was found."
       ]
      },
      {
       "output_type": "stream",
       "stream": "stdout",
       "text": [
        "\n",
        "\u0411\u0423\u0420\u041e\u041c\u041a\u0410 was found."
       ]
      },
      {
       "output_type": "stream",
       "stream": "stdout",
       "text": [
        "\n",
        "\u0411\u0415\u041b\u041e\u0426\u0415\u0420\u041a\u041e\u0412\u041a\u0410 was not found."
       ]
      },
      {
       "output_type": "stream",
       "stream": "stdout",
       "text": [
        "\n",
        "\u0412\u041e\u0420\u041e\u041d\u041a\u041e\u0412 was found."
       ]
      },
      {
       "output_type": "stream",
       "stream": "stdout",
       "text": [
        "\n",
        "\u0413\u041b\u0415\u041c\u042f\u0417\u041e\u0412 was not found."
       ]
      },
      {
       "output_type": "stream",
       "stream": "stdout",
       "text": [
        "\n",
        "\u0413\u041e\u0413\u041e\u041b\u0415\u0412 was found."
       ]
      },
      {
       "output_type": "stream",
       "stream": "stdout",
       "text": [
        "\n",
        "\u0413\u041e\u0420\u041e\u0414\u0418\u0429\u0415 was found."
       ]
      },
      {
       "output_type": "stream",
       "stream": "stdout",
       "text": [
        "\n",
        "\u0413\u041e\u0420\u041e\u0428\u0418\u041d was found."
       ]
      },
      {
       "output_type": "stream",
       "stream": "stdout",
       "text": [
        "\n",
        "\u0414\u041c\u0418\u0422\u0420\u041e\u0412\u041a\u0410 was found."
       ]
      },
      {
       "output_type": "stream",
       "stream": "stdout",
       "text": [
        "\n",
        "\u0415\u041a\u0410\u0422\u0415\u0420\u0418\u041d\u0418\u041d\u0421\u041a\u0410\u042f was not found."
       ]
      },
      {
       "output_type": "stream",
       "stream": "stdout",
       "text": [
        "\n",
        "\u0415\u0420\u0415\u041c\u0415\u0415\u0412\u041a\u0410 was not found."
       ]
      },
      {
       "output_type": "stream",
       "stream": "stdout",
       "text": [
        "\n",
        "\u0416\u041e\u0412\u041d\u0418\u041d was not found."
       ]
      },
      {
       "output_type": "stream",
       "stream": "stdout",
       "text": [
        "\n",
        "\u0417\u041e\u041b\u041e\u0422\u041e\u041d\u041e\u0428\u0410 was found."
       ]
      },
      {
       "output_type": "stream",
       "stream": "stdout",
       "text": [
        "\n",
        "\u041a\u0410\u041c\u042b\u0428\u041d\u042f was found."
       ]
      },
      {
       "output_type": "stream",
       "stream": "stdout",
       "text": [
        "\n",
        "\u041a\u041e\u0411\u042b\u0417\u0427\u0410 was not found."
       ]
      },
      {
       "output_type": "stream",
       "stream": "stdout",
       "text": [
        "\n",
        "\u041a\u041e\u0417\u0415\u041b\u0415\u0426 was found."
       ]
      },
      {
       "output_type": "stream",
       "stream": "stdout",
       "text": [
        "\n",
        "\u041a\u041e\u041c\u041b\u0418\u0427\u041a\u0418 was not found."
       ]
      },
      {
       "output_type": "stream",
       "stream": "stdout",
       "text": [
        "\n",
        "\u041a\u041e\u041d\u0421\u0422\u0410\u041d\u0422\u0418\u041d\u041e\u0412\u041e was not found."
       ]
      },
      {
       "output_type": "stream",
       "stream": "stdout",
       "text": [
        "\n",
        "\u041a\u041e\u0420\u041e\u0412\u0410\u0419 was not found."
       ]
      },
      {
       "output_type": "stream",
       "stream": "stdout",
       "text": [
        "\n",
        "\u041a\u0420\u0410\u041f\u0418\u0412\u041d\u0410 was found."
       ]
      },
      {
       "output_type": "stream",
       "stream": "stdout",
       "text": [
        "\n",
        "\u041a\u0420\u042b\u041b\u0415\u0415\u0412\u041e was not found."
       ]
      },
      {
       "output_type": "stream",
       "stream": "stdout",
       "text": [
        "\n",
        "\u041a\u0423\u0420\u0415\u041d\u042c\u041a\u0418 was found."
       ]
      },
      {
       "output_type": "stream",
       "stream": "stdout",
       "text": [
        "\n",
        "\u041b\u0423\u041a\u041e\u041c\u041b\u042f was not found."
       ]
      },
      {
       "output_type": "stream",
       "stream": "stdout",
       "text": [
        "\n"
       ]
      }
     ],
     "prompt_number": 185
    },
    {
     "cell_type": "code",
     "collapsed": false,
     "input": [
      "kiev_bounded_df = pd.DataFrame(kiev_bounded,columns=['hgr_id','placename','admin1','country_name','lat','lng','src_id','country_code','url','src'])"
     ],
     "language": "python",
     "metadata": {},
     "outputs": [],
     "prompt_number": 186
    },
    {
     "cell_type": "code",
     "collapsed": false,
     "input": [
      "kiev_bound_merged = pd.merge(kiev_bounded_df,market_df,left_on='hgr_id',right_index=True)\n",
      "kiev_bound_merged = kiev_bound_merged[['hgr_id', 'name', 'name_modern_sp', 'placename', 'admin1', 'country_name', 'lat', 'lng', 'src_id', 'country_code', 'url', 'src', 'ru_prov', 'prov_modern_sp', 'prov_stem', 'ru_uezd', 'page', 'text', '_type']]"
     ],
     "language": "python",
     "metadata": {},
     "outputs": [],
     "prompt_number": 187
    },
    {
     "cell_type": "code",
     "collapsed": false,
     "input": [
      "kiev_bound_merged.ix[kiev_bound_merged.placename=='not_found'].to_excel('kiev_not_found.xlsx',encoding='utf-8')"
     ],
     "language": "python",
     "metadata": {},
     "outputs": [],
     "prompt_number": 188
    },
    {
     "cell_type": "code",
     "collapsed": false,
     "input": [
      "kiev_bound_merged.ix[kiev_bound_merged.placename!='not_found'].to_excel('kiev_found.xlsx',encoding='utf-8')"
     ],
     "language": "python",
     "metadata": {},
     "outputs": [],
     "prompt_number": 189
    },
    {
     "cell_type": "code",
     "collapsed": true,
     "input": [
      "market_df.ix[market_df.geo_placename == 'not_found'].to_excel('not_found.xlsx', encoding='utf-8')"
     ],
     "language": "python",
     "metadata": {},
     "outputs": [],
     "prompt_number": 64
    },
    {
     "cell_type": "code",
     "collapsed": false,
     "input": [
      "market_df.to_excel('market_towns.xlsx', encoding=\"utf-8\")"
     ],
     "language": "python",
     "metadata": {},
     "outputs": [],
     "prompt_number": 61
    },
    {
     "cell_type": "markdown",
     "metadata": {},
     "source": [
      "Google Geocoding\n",
      "================\n",
      "Hasn't been worked on in a while. Kind of shabby."
     ]
    },
    {
     "cell_type": "code",
     "collapsed": false,
     "input": [
      "def google_lookup(placename):\n",
      "    url = \"https://maps.googleapis.com/maps/api/geocode/json?address={}\".format(placename)\n",
      "    R = requests.get(url)\n",
      "    google_json = R.json()\n",
      "    Ensure_dir(\"google_jsons\")\n",
      "    try:\n",
      "        google_placename = google_json['results'][0]['formatted_address']\n",
      "        google_lat = google_json['results'][0]['geometry']['location']['lat']\n",
      "        google_lng = google_json['results'][0]['geometry']['location']['lng']\n",
      "        with open(\"google_jsons/{}.json\".format(placename),'w') as jsonfile:\n",
      "            jsonfile.write(R.text)\n",
      "    except IndexError:\n",
      "        google_placename = \"not_found\"\n",
      "        google_lat = \"not_found\"\n",
      "        google_lng = \"not_found\"\n",
      "    return google_placename, google_lat, google_lng, url"
     ],
     "language": "python",
     "metadata": {},
     "outputs": [],
     "prompt_number": 18
    },
    {
     "cell_type": "code",
     "collapsed": false,
     "input": [
      "google_lookup(\"\u0410\u0412\u0414\u0423\u041b\u041e\u0412\u041e\")"
     ],
     "language": "python",
     "metadata": {},
     "outputs": [
      {
       "metadata": {},
       "output_type": "pyout",
       "prompt_number": 14,
       "text": [
        "('Avdulovo, Lipetsk Oblast, Russia, 399837',\n",
        " 53.300006,\n",
        " 38.6298386,\n",
        " 'https://maps.googleapis.com/maps/api/geocode/json?address=\u0410\u0412\u0414\u0423\u041b\u041e\u0412\u041e')"
       ]
      }
     ],
     "prompt_number": 14
    },
    {
     "cell_type": "code",
     "collapsed": false,
     "input": [
      "market_df['google_reconcile'], market_df['google_lat'], market_df['google_lng'], market_df['google_url'] = zip(*market_df[\"name\"].map(google_lookup))"
     ],
     "language": "python",
     "metadata": {},
     "outputs": [],
     "prompt_number": 21
    },
    {
     "cell_type": "code",
     "collapsed": false,
     "input": [
      "def str_comb(df):\n",
      "    return \"{} is a {}\".format(df[0],df[1])\n",
      "test = market_df[['name','_type']].apply(str_comb,axis=1)\n",
      "print(test)"
     ],
     "language": "python",
     "metadata": {},
     "outputs": [
      {
       "output_type": "stream",
       "stream": "stdout",
       "text": [
        "\u0406\u041e\u0421\u0418\u0424\u041e\u0412\u042a                       \u0406\u041e\u0421\u0418\u0424\u041e\u0412\u042a is a \u043c\u043e\u043d\u0430\u0441\u0442\u044b\u0440\u044c\n",
        "\u0410\u0411\u0417\u0410\u041b\u042c                             \u0410\u0411\u0417\u0410\u041b\u042c  is a \u0433\u043e\u0440\u043e\u0434\u044a\n",
        "\u0410\u0412\u0414\u0423\u041b\u041e\u0412\u041e                            \u0410\u0412\u0414\u0423\u041b\u041e\u0412\u041e is a \u0441\u0435\u043b\u043e\n",
        "\u0410\u0412\u0416\u0415\u041d\u0421\u041a\u0410\u042f                      \u0410\u0412\u0416\u0415\u041d\u0421\u041a\u0410\u042f  is a \u0432\u043e\u043b\u043e\u0441\u0442\u044c\n",
        "\u0410\u0414\u041e\u0412\u0410\u0422\u041e\u0412\u041e                          \u0410\u0414\u041e\u0412\u0410\u0422\u041e\u0412\u041e is a \u0441\u0435\u043b\u043e\n",
        "\u0410\u041a\u0421\u0415\u041b\u042c                                \u0410\u041a\u0421\u0415\u041b\u042c is a \u0441\u0435\u043b\u043e\n",
        "\u0410\u041b\u0410\u0422\u042b\u0420\u042c                            \u0410\u041b\u0410\u0422\u042b\u0420\u042c is a \u0433\u043e\u0440\u043e\u0434\u044a\n",
        "\u0410\u041b\u0415\u041a\u0421\u0410\u041d\u0414\u0420\u041e\u0412\u0410 \u041f\u0423\u0421\u0422\u042b\u041d\u042f    \u0410\u041b\u0415\u041a\u0421\u0410\u041d\u0414\u0420\u041e\u0412\u0410 \u041f\u0423\u0421\u0422\u042b\u041d\u042f is a \u0441\u0435\u043b\u043e\n",
        "\u0410\u041b\u0415\u041a\u0421\u0410\u041d\u0414\u0420\u041e\u0412\u0421\u041a\u041e\u0415              \u0410\u041b\u0415\u041a\u0421\u0410\u041d\u0414\u0420\u041e\u0412\u0421\u041a\u041e\u0415 is a \u0441\u0435\u043b\u043e\n",
        "\u0410\u041b\u0415\u041a\u0421\u0418\u041d\u042a                          \u0410\u041b\u0415\u041a\u0421\u0418\u041d\u042a is a \u0433\u043e\u0440\u043e\u0434\u044a\n",
        "\u0410\u041b\u0415\u041a\u0421\u0462\u0415\u0412\u041a\u0410                     \u0410\u041b\u0415\u041a\u0421\u0462\u0415\u0412\u041a\u0410 is a \u0441\u043b\u043e\u0431\u043e\u0434\u0430\n",
        "\u0410\u041b\u0415\u041a\u0421\u0462\u0415\u0412\u0421\u041a\u0410\u042f                \u0410\u041b\u0415\u041a\u0421\u0462\u0415\u0412\u0421\u041a\u0410\u042f is a \u043a\u0440\u0463\u043f\u043e\u0441\u0442\u044c\n",
        "\u0410\u041b\u0415\u0428\u041d\u042f                             \u0410\u041b\u0415\u0428\u041d\u042f is a \u0441\u043b\u043e\u0431\u043e\u0434\u0430\n",
        "\u0410\u041d\u0410\u0415\u0412\u041e                                \u0410\u041d\u0410\u0415\u0412\u041e is a \u0441\u0435\u043b\u043e\n",
        "\u0410\u041d\u0414\u0420\u0415\u0415\u0412\u041a\u0410                       \u0410\u041d\u0414\u0420\u0415\u0415\u0412\u041a\u0410 is a \u0441\u043b\u043e\u0431\u043e\u0434\u0430\n",
        "...\n",
        "\u041a\u0410\u0420\u041e\u0427\u0410            \u041a\u0410\u0420\u041e\u0427\u0410  is a \u0433\u043e\u0440\u043e\u0434\u044a\n",
        "\u041a\u0410\u0420\u041f\u041e\u0412\u041a\u0410           \u041a\u0410\u0420\u041f\u041e\u0412\u041a\u0410 is a \u0441\u0435\u043b\u043e\n",
        "\u041a\u0410\u0421\u0418\u041c\u041e\u0412\u042a         \u041a\u0410\u0421\u0418\u041c\u041e\u0412\u042a is a \u0433\u043e\u0440\u043e\u0434\u044a\n",
        "\u041a\u0410\u0428\u0418\u041d\u042a            \u041a\u0410\u0428\u0418\u041d\u042a  is a \u0433\u043e\u0440\u043e\u0434\u044a\n",
        "\u041a\u0415\u041c\u0410\u0420\u042b               \u041a\u0415\u041c\u0410\u0420\u042b is a \u0441\u0435\u043b\u043e\n",
        "\u041a\u0415\u0420\u0415\u041d\u0421\u041a\u042a         \u041a\u0415\u0420\u0415\u041d\u0421\u041a\u042a is a \u0433\u043e\u0440\u043e\u0434\u044a\n",
        "\u041a\u0415\u0421\u041c\u0415                \u041a\u0415\u0421\u041c\u0415  is a \u0441\u0435\u043b\u043e\n",
        "\u041a\u0415\u0421\u041e\u0412\u0410 \u0413\u041e\u0420\u0410     \u041a\u0415\u0421\u041e\u0412\u0410 \u0413\u041e\u0420\u0410 is a \u0441\u0435\u043b\u043e\n",
        "\u041a\u0418\u0414\u0415\u0428\u041a\u0418\u041d\u041e        \u041a\u0418\u0414\u0415\u0428\u041a\u0418\u041d\u041e  is a \u0441\u0435\u043b\u043e\n",
        "\u041a\u0418\u041c\u0420\u042b                 \u041a\u0418\u041c\u0420\u042b is a \u0441\u0435\u043b\u043e\n",
        "\u041a\u0418\u041d\u0415\u0428\u041c\u0410           \u041a\u0418\u041d\u0415\u0428\u041c\u0410 is a \u0433\u043e\u0440\u043e\u0434\u044a\n",
        "\u041a\u0418\u0420\u0415\u041d\u0421\u041a\u042a         \u041a\u0418\u0420\u0415\u041d\u0421\u041a\u042a is a \u0433\u043e\u0440\u043e\u0434\u044a\n",
        "\u041a\u0418\u0420\u0418\u041b\u041e\u0412\u042a        \u041a\u0418\u0420\u0418\u041b\u041e\u0412\u042a  is a \u0433\u043e\u0440\u043e\u0434\u044a\n",
        "\u041a\u0418\u0420\u0418\u041b\u041e\u0415\u041e          \u041a\u0418\u0420\u0418\u041b\u041e\u0415\u041e  is a \u0441\u0435\u043b\u043e\n",
        "\u041a\u0418\u0422\u0410\u0419\u0421\u041a\u041e\u0419      \u041a\u0418\u0422\u0410\u0419\u0421\u041a\u041e\u0419 is a \u043e\u0441\u0442\u0440\u043e\u0433\u044a\n",
        "Length: 280, dtype: object\n"
       ]
      }
     ],
     "prompt_number": 32
    }
   ],
   "metadata": {}
  }
 ]
}