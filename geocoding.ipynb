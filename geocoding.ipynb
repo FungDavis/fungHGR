{
 "metadata": {
  "name": "",
  "signature": "sha256:12ac90fcb31e12f42395cb72593ddff624af2cb3c33b2ea8c729f4b6ae2dd7a7"
 },
 "nbformat": 3,
 "nbformat_minor": 0,
 "worksheets": [
  {
   "cells": [
    {
     "cell_type": "markdown",
     "metadata": {},
     "source": [
      "First: Text Parsing!\n",
      "====================\n",
      "This is where the information that we want is extracted from the text we have."
     ]
    },
    {
     "cell_type": "code",
     "collapsed": false,
     "input": [
      "import re, requests"
     ],
     "language": "python",
     "metadata": {},
     "outputs": [],
     "prompt_number": 3
    },
    {
     "cell_type": "code",
     "collapsed": false,
     "input": [
      "import os\n",
      "def Ensure_dir(d):\n",
      "    \"\"\"Makes sure a directory 'd' exists, and if it doesn't, it creates one.\"\"\"\n",
      "    if not os.path.exists(d):\n",
      "        os.makedirs(d)\n",
      "    return 0"
     ],
     "language": "python",
     "metadata": {},
     "outputs": [],
     "prompt_number": 4
    },
    {
     "cell_type": "code",
     "collapsed": false,
     "input": [
      "def open_texts(file_start_str,first,last):\n",
      "    \"\"\"Creates a dictionary from a set of .htm files.\n",
      "    Assumes all have the same starting string immediately followed by a page number.\n",
      "    Returns a dictionary with page numbers as keys and page contents as values.\"\"\"\n",
      "    out_dict = {}\n",
      "    for i in range(first,last+1):\n",
      "        with open(\"{}{}.htm\".format(file_start_str,i),encoding=\"utf-8\") as htmfile:\n",
      "            out_dict[i] = htmfile.read()\n",
      "    return out_dict"
     ],
     "language": "python",
     "metadata": {},
     "outputs": [],
     "prompt_number": 5
    },
    {
     "cell_type": "markdown",
     "metadata": {},
     "source": [
      "Creating a dictionary called `market_text` and filling it out with key/value pairs corresponding to page numbers and page texts."
     ]
    },
    {
     "cell_type": "code",
     "collapsed": false,
     "input": [
      "market_text = open_texts(\"html/slovar\",10,70)"
     ],
     "language": "python",
     "metadata": {},
     "outputs": [],
     "prompt_number": 6
    },
    {
     "cell_type": "markdown",
     "metadata": {},
     "source": [
      "Cleanup cell. Currently fixing some common capitalization errors, and replacing nbsp's with normal spaces."
     ]
    },
    {
     "cell_type": "code",
     "collapsed": false,
     "input": [
      "for p in range(10,71):\n",
      "    market_text[p] = re.sub(\"[> ](\u0412\u042a)\",\"\u0412\u044a\",market_text[p])\n",
      "    market_text[p] = re.sub(\"&nbsp;\",\" \",market_text[p])\n",
      "    market_text[p] = re.sub(r\"([\u0430-\u044f\u0456\u0463]+)(\u042a)\",r\"\\1\u044a\",market_text[p])"
     ],
     "language": "python",
     "metadata": {},
     "outputs": [],
     "prompt_number": 7
    },
    {
     "cell_type": "code",
     "collapsed": false,
     "input": [
      "def extract_placenames(text_dict,start,end):\n",
      "    \"\"\"\n",
      "    Finds placenames, which should be capitalized and at the beginning of paragraphs in text.\n",
      "    Returns dict with name, descriptive text, and page number.\n",
      "    \"\"\"\n",
      "    out_dict = {}\n",
      "    last_entry = \"\"\n",
      "    counter = 1\n",
      "    for p in range(start,end+1):\n",
      "        # finds trailing descriptions at beginning of page, appends to last entry on previous page.\n",
      "        trail = re.findall(\"<body>\\n<p><span class=\\\"font0\\\">(.*)</span></p>\",text_dict[p])\n",
      "        if len(trail)>0 and len(re.findall(\"^([\u0410-\u042f\u0406\u0462 -]+)[, ]\",trail[0]))==0:\n",
      "            out_dict[last_entry]['text']+=trail[0]\n",
      "        # finds all place names on page, captures descriptions as well. puts into dictionary with name as key and desc as value.\n",
      "        places = re.findall(\">([\u0410-\u042f\u0406\u0462 -]+)[, ](.*)</p>\",text_dict[p])\n",
      "        if len(places)>0:\n",
      "            for v in places:\n",
      "                placename = v[0].strip()\n",
      "                out_dict[counter] = {'name':placename,'text':v[1],'page':p}\n",
      "                counter+=1\n",
      "            last_entry = counter-1\n",
      "    return out_dict"
     ],
     "language": "python",
     "metadata": {},
     "outputs": [],
     "prompt_number": 8
    },
    {
     "cell_type": "code",
     "collapsed": false,
     "input": [
      "market_towns = extract_placenames(market_text,10,70) # creating dict market_towns to hold individual place info.\n",
      "market_towns.pop(1,None) #Known extraneous hit at beginning of doc, removed."
     ],
     "language": "python",
     "metadata": {},
     "outputs": [
      {
       "metadata": {},
       "output_type": "pyout",
       "prompt_number": 9,
       "text": [
        "{'text': '\u0438 \u0422\u041e\u0420\u0413\u041e\u0412\u042a.</span>', 'name': '\u042f\u0420\u041c\u0410\u0420\u041e\u041a\u042a', 'page': 10}"
       ]
      }
     ],
     "prompt_number": 9
    },
    {
     "cell_type": "markdown",
     "metadata": {},
     "source": [
      "In this cell, we're looking for town types, which will be in italics. We're also looking for administrative divisions based on their titles, mostly Namiestnichestva."
     ]
    },
    {
     "cell_type": "code",
     "collapsed": false,
     "input": [
      "for t in market_towns:\n",
      "    try:\n",
      "        town_type = re.findall(\"italic;\\\">([\u0430-\u044f\u0456\u0463, ]+)</span>\",market_towns[t]['text'])[0]\n",
      "        town_type = town_type.strip(\", \")\n",
      "        try:\n",
      "            # regex to find governorships, not all will have these.\n",
      "            ru_prov = re.findall(\">([\u0410-\u042f\u0406\u0462\u0430-\u044f\u0463\u0456, -]*\u041d\u0430(?:\u043c\u0463){0,1}\u0441\u0442\u043d\u0438\u0447[\u0435\u043b]\u0441\u0442\u0432[\u0430\u0463](?: \u0441\u0435\u0433\u043e \u0438\u043c\u0435\u043d\u0438){0,1})\",market_towns[t]['text'])[0].strip()\n",
      "        except IndexError:\n",
      "            try:\n",
      "                # regex to find gubernii, not all will have these, some will have neither gov nor gub\n",
      "                ru_prov = re.findall(\">[ ]*([\u0410-\u042f\u0406\u0462\u0430-\u044f\u0463\u0456,]+(?: [\u0410-\u042f\u0406\u0462\u0430-\u044f\u0463\u0456,]+){0,1} \u0413\u0443\u0431\u0435\u0440\u043d\u0456\u0438)\",market_towns[t]['text'])[0].strip()\n",
      "            except IndexError:\n",
      "                ru_prov = 'not_in_text'\n",
      "        try:\n",
      "            ru_uezd = re.findall(\"([\u0410-\u042f\u0406\u0462\u0430-\u044f\u0463\u0456]+ \u0443\u0463\u0437\u0434[\u0443\u0463])\",market_towns[t]['text'])[0].strip()\n",
      "        except IndexError:\n",
      "            ru_uezd = 'not_in_text'\n",
      "        market_towns[t]['_type']=town_type\n",
      "        market_towns[t]['ru_prov']=ru_prov\n",
      "        market_towns[t]['ru_uezd']=ru_uezd\n",
      "    except IndexError:\n",
      "        print(t)"
     ],
     "language": "python",
     "metadata": {},
     "outputs": [],
     "prompt_number": 10
    },
    {
     "cell_type": "markdown",
     "metadata": {},
     "source": [
      "Pandas!\n",
      "=======\n",
      "Everything has now been put into a pandas dataframe, so no more dicts!\n",
      "Still doing some text parsing and cleanup, but based on the data that we've collected, not the text."
     ]
    },
    {
     "cell_type": "code",
     "collapsed": false,
     "input": [
      "import pandas as pd"
     ],
     "language": "python",
     "metadata": {},
     "outputs": [],
     "prompt_number": 11
    },
    {
     "cell_type": "code",
     "collapsed": false,
     "input": [
      "# creation of pandas dataframe based on previously created dict.\n",
      "market_df = pd.DataFrame.from_dict(market_towns,orient=\"index\")\n",
      "market_df.head()"
     ],
     "language": "python",
     "metadata": {},
     "outputs": [
      {
       "html": [
        "<div style=\"max-height:1000px;max-width:1500px;overflow:auto;\">\n",
        "<table border=\"1\" class=\"dataframe\">\n",
        "  <thead>\n",
        "    <tr style=\"text-align: right;\">\n",
        "      <th></th>\n",
        "      <th>ru_uezd</th>\n",
        "      <th>page</th>\n",
        "      <th>ru_prov</th>\n",
        "      <th>text</th>\n",
        "      <th>name</th>\n",
        "      <th>_type</th>\n",
        "    </tr>\n",
        "  </thead>\n",
        "  <tbody>\n",
        "    <tr>\n",
        "      <th>2</th>\n",
        "      <td>   \u0414\u043e\u043d\u043a\u043e\u0432\u0441\u043a\u043e\u043c\u044a \u0443\u0463\u0437\u0434\u0463</td>\n",
        "      <td> 10</td>\n",
        "      <td>     \u0420\u044f\u0437\u0430\u043d\u0441\u043a\u0430\u0433\u043e \u041d\u0430\u043c\u0463\u0441\u0442\u043d\u0438\u0447\u0435\u0441\u0442\u0432\u0430</td>\n",
        "      <td>  \u0418\u0412\u0410\u041d\u041e\u0412\u0421\u041a\u041e\u0415 \u0442\u043e\u0436\u044c, &lt;/span&gt;&lt;span class=\"font0\" s...</td>\n",
        "      <td>  \u0410\u0412\u0414\u0423\u041b\u041e\u0412\u041e</td>\n",
        "      <td>    \u0441\u0435\u043b\u043e</td>\n",
        "    </tr>\n",
        "    <tr>\n",
        "      <th>3</th>\n",
        "      <td>             \u0438 \u0443\u0463\u0437\u0434\u0443</td>\n",
        "      <td> 10</td>\n",
        "      <td>   \u0412\u043e\u043b\u043e\u0433\u043e\u0434\u0441\u043a\u0430\u0433\u043e \u041d\u0430\u043c\u0463\u0441\u0442\u043d\u0438\u0447\u0435\u0441\u0442\u0432\u0430</td>\n",
        "      <td>  &lt;/span&gt;&lt;span class=\"font0\" style=\"font-style:...</td>\n",
        "      <td> \u0410\u0412\u0416\u0415\u041d\u0421\u041a\u0410\u042f</td>\n",
        "      <td> \u0432\u043e\u043b\u043e\u0441\u0442\u044c</td>\n",
        "    </tr>\n",
        "    <tr>\n",
        "      <th>4</th>\n",
        "      <td>   \u0410\u0440\u0437\u0430\u043c\u0430\u0441\u043a\u043e\u043c\u044a \u0443\u0463\u0437\u0434\u0463</td>\n",
        "      <td> 10</td>\n",
        "      <td> \u041d\u0438\u0436\u0435\u0433\u043e\u0440\u043e\u0434\u0441\u043a\u0430\u0433\u043e \u041d\u0430\u043c\u0463\u0441\u0442\u043d\u0438\u0447\u0435\u0441\u0442\u0432\u0430</td>\n",
        "      <td>  &lt;/span&gt;&lt;span class=\"font0\" style=\"font-style:...</td>\n",
        "      <td> \u0410\u0414\u041e\u0412\u0410\u0422\u041e\u0412\u041e</td>\n",
        "      <td>    \u0441\u0435\u043b\u043e</td>\n",
        "    </tr>\n",
        "    <tr>\n",
        "      <th>5</th>\n",
        "      <td> \u0422\u0435\u043c\u043d\u0438\u043a\u043e\u0432\u0441\u043a\u043e\u043c\u044a \u0443\u0463\u0437\u0434\u0463</td>\n",
        "      <td> 10</td>\n",
        "      <td>    \u0422\u0430\u043c\u0431\u043e\u0432\u0441\u043a\u0430\u0433\u043e \u041d\u0430\u043c\u0463\u0441\u0442\u043d\u0438\u0447\u0435\u0441\u0442\u0432\u0430</td>\n",
        "      <td>  &lt;/span&gt;&lt;span class=\"font0\" style=\"font-style:...</td>\n",
        "      <td>    \u0410\u041a\u0421\u0415\u041b\u042c</td>\n",
        "      <td>    \u0441\u0435\u043b\u043e</td>\n",
        "    </tr>\n",
        "    <tr>\n",
        "      <th>6</th>\n",
        "      <td>            \u0412\u044a \u0443\u0463\u0437\u0434\u0463</td>\n",
        "      <td> 10</td>\n",
        "      <td>    \u0421\u0438\u043d\u0431\u0438\u0440\u0441\u043a\u0430\u0433\u043e \u041d\u0430\u043c\u0463\u0441\u0442\u043d\u0438\u0447\u0435\u0441\u0442\u0432\u0430</td>\n",
        "      <td>  &lt;/span&gt;&lt;span class=\"font0\" style=\"font-style:...</td>\n",
        "      <td>   \u0410\u041b\u0410\u0422\u042b\u0420\u042c</td>\n",
        "      <td>  \u0433\u043e\u0440\u043e\u0434\u044a</td>\n",
        "    </tr>\n",
        "  </tbody>\n",
        "</table>\n",
        "</div>"
       ],
       "metadata": {},
       "output_type": "pyout",
       "prompt_number": 12,
       "text": [
        "               ru_uezd  page                        ru_prov  \\\n",
        "2    \u0414\u043e\u043d\u043a\u043e\u0432\u0441\u043a\u043e\u043c\u044a \u0443\u0463\u0437\u0434\u0463    10      \u0420\u044f\u0437\u0430\u043d\u0441\u043a\u0430\u0433\u043e \u041d\u0430\u043c\u0463\u0441\u0442\u043d\u0438\u0447\u0435\u0441\u0442\u0432\u0430   \n",
        "3              \u0438 \u0443\u0463\u0437\u0434\u0443    10    \u0412\u043e\u043b\u043e\u0433\u043e\u0434\u0441\u043a\u0430\u0433\u043e \u041d\u0430\u043c\u0463\u0441\u0442\u043d\u0438\u0447\u0435\u0441\u0442\u0432\u0430   \n",
        "4    \u0410\u0440\u0437\u0430\u043c\u0430\u0441\u043a\u043e\u043c\u044a \u0443\u0463\u0437\u0434\u0463    10  \u041d\u0438\u0436\u0435\u0433\u043e\u0440\u043e\u0434\u0441\u043a\u0430\u0433\u043e \u041d\u0430\u043c\u0463\u0441\u0442\u043d\u0438\u0447\u0435\u0441\u0442\u0432\u0430   \n",
        "5  \u0422\u0435\u043c\u043d\u0438\u043a\u043e\u0432\u0441\u043a\u043e\u043c\u044a \u0443\u0463\u0437\u0434\u0463    10     \u0422\u0430\u043c\u0431\u043e\u0432\u0441\u043a\u0430\u0433\u043e \u041d\u0430\u043c\u0463\u0441\u0442\u043d\u0438\u0447\u0435\u0441\u0442\u0432\u0430   \n",
        "6             \u0412\u044a \u0443\u0463\u0437\u0434\u0463    10     \u0421\u0438\u043d\u0431\u0438\u0440\u0441\u043a\u0430\u0433\u043e \u041d\u0430\u043c\u0463\u0441\u0442\u043d\u0438\u0447\u0435\u0441\u0442\u0432\u0430   \n",
        "\n",
        "                                                text       name    _type  \n",
        "2   \u0418\u0412\u0410\u041d\u041e\u0412\u0421\u041a\u041e\u0415 \u0442\u043e\u0436\u044c, </span><span class=\"font0\" s...   \u0410\u0412\u0414\u0423\u041b\u041e\u0412\u041e     \u0441\u0435\u043b\u043e  \n",
        "3   </span><span class=\"font0\" style=\"font-style:...  \u0410\u0412\u0416\u0415\u041d\u0421\u041a\u0410\u042f  \u0432\u043e\u043b\u043e\u0441\u0442\u044c  \n",
        "4   </span><span class=\"font0\" style=\"font-style:...  \u0410\u0414\u041e\u0412\u0410\u0422\u041e\u0412\u041e     \u0441\u0435\u043b\u043e  \n",
        "5   </span><span class=\"font0\" style=\"font-style:...     \u0410\u041a\u0421\u0415\u041b\u042c     \u0441\u0435\u043b\u043e  \n",
        "6   </span><span class=\"font0\" style=\"font-style:...    \u0410\u041b\u0410\u0422\u042b\u0420\u042c   \u0433\u043e\u0440\u043e\u0434\u044a  "
       ]
      }
     ],
     "prompt_number": 12
    },
    {
     "cell_type": "code",
     "collapsed": false,
     "input": [
      "def replace_sameas(df, original, replacement, match_list, kind=\"\u041d\u0430\u043c\u0463\u0441\u0442\u043d\u0438\u0447\u0435\u0441\u0442\u0432\u0430\"):\n",
      "    \"\"\"\n",
      "    df: dataframe to be modified\n",
      "    original: column name in pandas data frame\n",
      "    replacement: column name in same pandas data frame\n",
      "    match_list: list of strings which, in original, indicate that they should be replaced by the corresponding values in replacement\n",
      "    \n",
      "    For each string in match_list, this function replaces said string in original with the corresponding value in replacement, converted to title case for convenience.\n",
      "    Place types are added after place names for consistent further processing. Type defaults to \u041d\u0430\u043c\u0463\u0441\u0442\u043d\u0438\u0447\u0435\u0441\u0442\u0432\u0430.\n",
      "    This is an in place transformation in the dataframe.\n",
      "    \"\"\"\n",
      "    for match in match_list:\n",
      "        cond = df[original] == match\n",
      "        df[original][cond] = df[replacement][cond].str.title()+\" {}\".format(kind)\n",
      "    return 0"
     ],
     "language": "python",
     "metadata": {},
     "outputs": [],
     "prompt_number": 13
    },
    {
     "cell_type": "code",
     "collapsed": false,
     "input": [
      "# Replacing \"same Namiestnichestva\" statements with appropriate Namiestnichestva name\n",
      "match_list = [\"\u041d\u0430\u043c\u0463\u0441\u0442\u043d\u0438\u0447\u0435\u0441\u0442\u0432\u0430 \u0441\u0435\u0433\u043e \u0438\u043c\u0435\u043d\u0438\",\"\u0442\u043e\u0433\u043e \u0436\u0435 \u041d\u0430\u043c\u0463\u0441\u0442\u043d\u0438\u0447\u0435\u0441\u0442\u0432\u0430\"]\n",
      "replace_sameas(market_df,'ru_prov','name',match_list)"
     ],
     "language": "python",
     "metadata": {},
     "outputs": [
      {
       "metadata": {},
       "output_type": "pyout",
       "prompt_number": 14,
       "text": [
        "0"
       ]
      }
     ],
     "prompt_number": 14
    },
    {
     "cell_type": "code",
     "collapsed": false,
     "input": [
      "# Replacing \"same Gubernii\" statements with appropriate Gubernii name\n",
      "match_list = [\"\u0442\u043e\u0439 \u0436\u0435 \u0413\u0443\u0431\u0435\u0440\u043d\u0456\u0438\"]\n",
      "replace_sameas(market_df,'ru_prov','name',match_list,\"\u0413\u0443\u0431\u0435\u0440\u043d\u0456\u0438\")"
     ],
     "language": "python",
     "metadata": {},
     "outputs": [
      {
       "metadata": {},
       "output_type": "pyout",
       "prompt_number": 15,
       "text": [
        "0"
       ]
      }
     ],
     "prompt_number": 15
    },
    {
     "cell_type": "code",
     "collapsed": false,
     "input": [
      "# Replacing \"same Uyezd\" statements with appropriate Uyezd name. On hold, as uyezd are less frequently mentioned.\n",
      "#match_list = [\"\u0438 \u0443\u0463\u0437\u0434\u0443\",\"\u0438 \u0443\u0463\u0437\u0434\u0463\",\"\u0438\u0437\u044a \u0443\u0463\u0437\u0434\u0443\"]\n",
      "#replace_sameas(market_df,'ru_prov','name',match_list,\"\u0443\u0463\u0437\u0434\u0463\")"
     ],
     "language": "python",
     "metadata": {},
     "outputs": [],
     "prompt_number": 16
    },
    {
     "cell_type": "code",
     "collapsed": false,
     "input": [
      "# Replacing parts of names that don't carry meaning\n",
      "market_df.ru_prov = market_df.ru_prov.replace('^\u0432\u044a ','',regex=True)\n",
      "market_df.ru_prov = market_df.ru_prov.replace('\u0413\u0440\u0430\u0444\u0430 \u0412\u043e\u0440\u043e\u043d\u0446\u043e\u0432\u0430 ','',regex=True)\n",
      "market_df.ru_prov = market_df.ru_prov.replace('\u0413\u0440\u0430\u0444\u0430 \u0428\u0435\u0440\u0435\u043c\u0435\u0442\u0435\u0432\u0430, ','',regex=True)\n",
      "market_df.ru_prov = market_df.ru_prov.replace('\u0440\u0430\u0437\u043d\u044b\u0445\u044a \u041f\u043e\u043c\u0463\u0449\u0438\u043a\u043e\u0432\u044a ','',regex=True)\n",
      "market_df.ru_prov = market_df.ru_prov.replace(' \u0436\u0435','',regex=True)"
     ],
     "language": "python",
     "metadata": {},
     "outputs": [],
     "prompt_number": 17
    },
    {
     "cell_type": "code",
     "collapsed": false,
     "input": [
      "# Replacing variant spellings of Namiestnichestva with a single spelling.\n",
      "market_df.ru_prov = market_df.ru_prov.replace('\u041d\u0430(?:\u043c\u0463){0,1}\u0441\u0442\u043d\u0438\u0447[\u0435\u043b]\u0441\u0442\u0432[\u0430\u0463]','\u041d\u0430\u043c\u0463\u0441\u0442\u043d\u0438\u0447\u0435\u0441\u0442\u0432\u0430',regex=True)"
     ],
     "language": "python",
     "metadata": {},
     "outputs": [],
     "prompt_number": 18
    },
    {
     "cell_type": "code",
     "collapsed": false,
     "input": [
      "from lxml import html\n",
      "def strip_html(text):\n",
      "    return html.fromstring(text).text_content()"
     ],
     "language": "python",
     "metadata": {},
     "outputs": [],
     "prompt_number": 19
    },
    {
     "cell_type": "code",
     "collapsed": false,
     "input": [
      "market_df['html_text'] = market_df.text\n",
      "market_df.text = market_df.text.apply(strip_html)"
     ],
     "language": "python",
     "metadata": {},
     "outputs": [],
     "prompt_number": 20
    },
    {
     "cell_type": "markdown",
     "metadata": {},
     "source": [
      "Orthography Modernization\n",
      "========================="
     ]
    },
    {
     "cell_type": "code",
     "collapsed": false,
     "input": [
      "import re,json\n",
      "from lxml import html\n",
      "\n",
      "lookup_dict = {}\n",
      "with open(\"special_cases.json\",'r') as fp:\n",
      "    lookup_dict = json.load(fp)\n",
      "\n",
      "def ortho_rules(text,lookup_dict):\n",
      "    \"\"\"\n",
      "    Takes a text string and a lookup dict as input\n",
      "    Removes any lingering html tags\n",
      "    Breaks the string down into component words with split\n",
      "    Uses replacements to modernize orthography\n",
      "    Returns re-assembled text with modern orthography\n",
      "    \"\"\"\n",
      "    text = html.fromstring(text).text_content()\n",
      "    textlist = text.split(' ')\n",
      "    out_list = []\n",
      "    for word in textlist:\n",
      "        if word in [',','.',';',':']:\n",
      "            out_list.append(word)\n",
      "        word = word.strip(',.;:')\n",
      "        if word in lookup_dict:\n",
      "            word = lookup_dict[word]\n",
      "            out_list.append(word)\n",
      "        else:\n",
      "            word = re.sub(\"[\u042a\u044a]$\",'',word)\n",
      "            word = re.sub(r\"^([\u0447\u0435]{0,2}[\u0447]?[\u0432\u0431\u043d\u0440]?[\u0432\u0435\u043e\u0430\u0438])\u0437([\u041f\u0424\u041a\u0422\u0428\u0421\u0427\u043f\u0444\u043a\u0442\u0448\u0441\u0447])\",r\"\\1\u0441\\2\",word,re.IGNORECASE)\n",
      "            word = re.sub(\"\u0430\u0433\u043e$\",\"\u043e\u0433\u043e\",word,re.IGNORECASE)\n",
      "            word = re.sub(\"\u044f\u0433\u043e$\",\"\u0435\u0433\u043e\",word,re.IGNORECASE)\n",
      "            word = re.sub(\"\u044b\u044f$\",\"\u044b\u0435\",word,re.IGNORECASE)\n",
      "            word = re.sub(\"i\u044f$\",\"\u0438\u0435\",word,re.IGNORECASE)\n",
      "            word = word.replace('i','\u0438') #english\n",
      "            word = word.replace('I','\u0418') #english\n",
      "            word = word.replace('\u0456','\u0438') #cyrillic\n",
      "            word = word.replace('\u0406','\u0418') #cyrillic\n",
      "            word = word.replace('\u0462','\u0415')\n",
      "            word = word.replace('\u0463','\u0435')\n",
      "            out_list.append(word)\n",
      "    out_str = ' '.join(out_list)\n",
      "    return out_str"
     ],
     "language": "python",
     "metadata": {},
     "outputs": [],
     "prompt_number": 21
    },
    {
     "cell_type": "code",
     "collapsed": false,
     "input": [
      "market_df['name_modern_sp'] = market_df.name.apply(ortho_rules,args=[lookup_dict])\n",
      "market_df['prov_modern_sp'] = market_df.ru_prov.apply(ortho_rules,args=[lookup_dict])\n",
      "market_df.text = market_df.text.apply(ortho_rules,args=[lookup_dict])\n",
      "market_df.head()"
     ],
     "language": "python",
     "metadata": {},
     "outputs": [
      {
       "html": [
        "<div style=\"max-height:1000px;max-width:1500px;overflow:auto;\">\n",
        "<table border=\"1\" class=\"dataframe\">\n",
        "  <thead>\n",
        "    <tr style=\"text-align: right;\">\n",
        "      <th></th>\n",
        "      <th>ru_uezd</th>\n",
        "      <th>page</th>\n",
        "      <th>ru_prov</th>\n",
        "      <th>text</th>\n",
        "      <th>name</th>\n",
        "      <th>_type</th>\n",
        "      <th>html_text</th>\n",
        "      <th>name_modern_sp</th>\n",
        "      <th>prov_modern_sp</th>\n",
        "    </tr>\n",
        "  </thead>\n",
        "  <tbody>\n",
        "    <tr>\n",
        "      <th>2</th>\n",
        "      <td>   \u0414\u043e\u043d\u043a\u043e\u0432\u0441\u043a\u043e\u043c\u044a \u0443\u0463\u0437\u0434\u0463</td>\n",
        "      <td> 10</td>\n",
        "      <td>     \u0420\u044f\u0437\u0430\u043d\u0441\u043a\u0430\u0433\u043e \u041d\u0430\u043c\u0463\u0441\u0442\u043d\u0438\u0447\u0435\u0441\u0442\u0432\u0430</td>\n",
        "      <td> \u0418\u0412\u0410\u041d\u041e\u0412\u0421\u041a\u041e\u0415 \u0442\u043e\u0436\u044c \u0441\u0435\u043b\u043e \u0420\u044f\u0437\u0430\u043d\u0441\u043a\u043e\u0433\u043e \u041d\u0430\u043c\u0435\u0441\u0442\u043d\u0438\u0447\u0435\u0441\u0442\u0432\u0430...</td>\n",
        "      <td>  \u0410\u0412\u0414\u0423\u041b\u041e\u0412\u041e</td>\n",
        "      <td>    \u0441\u0435\u043b\u043e</td>\n",
        "      <td>  \u0418\u0412\u0410\u041d\u041e\u0412\u0421\u041a\u041e\u0415 \u0442\u043e\u0436\u044c, &lt;/span&gt;&lt;span class=\"font0\" s...</td>\n",
        "      <td>  \u0410\u0412\u0414\u0423\u041b\u041e\u0412\u041e</td>\n",
        "      <td>     \u0420\u044f\u0437\u0430\u043d\u0441\u043a\u043e\u0433\u043e \u041d\u0430\u043c\u0435\u0441\u0442\u043d\u0438\u0447\u0435\u0441\u0442\u0432\u0430</td>\n",
        "    </tr>\n",
        "    <tr>\n",
        "      <th>3</th>\n",
        "      <td>             \u0438 \u0443\u0463\u0437\u0434\u0443</td>\n",
        "      <td> 10</td>\n",
        "      <td>   \u0412\u043e\u043b\u043e\u0433\u043e\u0434\u0441\u043a\u0430\u0433\u043e \u041d\u0430\u043c\u0463\u0441\u0442\u043d\u0438\u0447\u0435\u0441\u0442\u0432\u0430</td>\n",
        "      <td> \u0432\u043e\u043b\u043e\u0441\u0442\u044c \u0412\u043e\u043b\u043e\u0433\u043e\u0434\u0441\u043a\u043e\u0433\u043e \u041d\u0430\u043c\u0435\u0441\u0442\u043d\u0438\u0447\u0435\u0441\u0442\u0432\u0430 \u0438 \u0443\u0435\u0437\u0434\u0443 \u0417\u0434...</td>\n",
        "      <td> \u0410\u0412\u0416\u0415\u041d\u0421\u041a\u0410\u042f</td>\n",
        "      <td> \u0432\u043e\u043b\u043e\u0441\u0442\u044c</td>\n",
        "      <td>  &lt;/span&gt;&lt;span class=\"font0\" style=\"font-style:...</td>\n",
        "      <td> \u0410\u0412\u0416\u0415\u041d\u0421\u041a\u0410\u042f</td>\n",
        "      <td>   \u0412\u043e\u043b\u043e\u0433\u043e\u0434\u0441\u043a\u043e\u0433\u043e \u041d\u0430\u043c\u0435\u0441\u0442\u043d\u0438\u0447\u0435\u0441\u0442\u0432\u0430</td>\n",
        "    </tr>\n",
        "    <tr>\n",
        "      <th>4</th>\n",
        "      <td>   \u0410\u0440\u0437\u0430\u043c\u0430\u0441\u043a\u043e\u043c\u044a \u0443\u0463\u0437\u0434\u0463</td>\n",
        "      <td> 10</td>\n",
        "      <td> \u041d\u0438\u0436\u0435\u0433\u043e\u0440\u043e\u0434\u0441\u043a\u0430\u0433\u043e \u041d\u0430\u043c\u0463\u0441\u0442\u043d\u0438\u0447\u0435\u0441\u0442\u0432\u0430</td>\n",
        "      <td> \u0441\u0435\u043b\u043e \u041d\u0438\u0436\u0435\u0433\u043e\u0440\u043e\u0434\u0441\u043a\u043e\u0433\u043e \u041d\u0430\u043c\u0435\u0441\u0442\u043d\u0438\u0447\u0435\u0441\u0442\u0432\u0430 \u0432 \u0410\u0440\u0437\u0430\u043c\u0430\u0441\u043a\u043e...</td>\n",
        "      <td> \u0410\u0414\u041e\u0412\u0410\u0422\u041e\u0412\u041e</td>\n",
        "      <td>    \u0441\u0435\u043b\u043e</td>\n",
        "      <td>  &lt;/span&gt;&lt;span class=\"font0\" style=\"font-style:...</td>\n",
        "      <td> \u0410\u0414\u041e\u0412\u0410\u0422\u041e\u0412\u041e</td>\n",
        "      <td> \u041d\u0438\u0436\u0435\u0433\u043e\u0440\u043e\u0434\u0441\u043a\u043e\u0433\u043e \u041d\u0430\u043c\u0435\u0441\u0442\u043d\u0438\u0447\u0435\u0441\u0442\u0432\u0430</td>\n",
        "    </tr>\n",
        "    <tr>\n",
        "      <th>5</th>\n",
        "      <td> \u0422\u0435\u043c\u043d\u0438\u043a\u043e\u0432\u0441\u043a\u043e\u043c\u044a \u0443\u0463\u0437\u0434\u0463</td>\n",
        "      <td> 10</td>\n",
        "      <td>    \u0422\u0430\u043c\u0431\u043e\u0432\u0441\u043a\u0430\u0433\u043e \u041d\u0430\u043c\u0463\u0441\u0442\u043d\u0438\u0447\u0435\u0441\u0442\u0432\u0430</td>\n",
        "      <td> \u0441\u0435\u043b\u043e \u0422\u0430\u043c\u0431\u043e\u0432\u0441\u043a\u043e\u0433\u043e \u041d\u0430\u043c\u0435\u0441\u0442\u043d\u0438\u0447\u0435\u0441\u0442\u0432\u0430 \u0432 \u0422\u0435\u043c\u043d\u0438\u043a\u043e\u0432\u0441\u043a\u043e\u043c...</td>\n",
        "      <td>    \u0410\u041a\u0421\u0415\u041b\u042c</td>\n",
        "      <td>    \u0441\u0435\u043b\u043e</td>\n",
        "      <td>  &lt;/span&gt;&lt;span class=\"font0\" style=\"font-style:...</td>\n",
        "      <td>    \u0410\u041a\u0421\u0415\u041b\u042c</td>\n",
        "      <td>    \u0422\u0430\u043c\u0431\u043e\u0432\u0441\u043a\u043e\u0433\u043e \u041d\u0430\u043c\u0435\u0441\u0442\u043d\u0438\u0447\u0435\u0441\u0442\u0432\u0430</td>\n",
        "    </tr>\n",
        "    <tr>\n",
        "      <th>6</th>\n",
        "      <td>            \u0412\u044a \u0443\u0463\u0437\u0434\u0463</td>\n",
        "      <td> 10</td>\n",
        "      <td>    \u0421\u0438\u043d\u0431\u0438\u0440\u0441\u043a\u0430\u0433\u043e \u041d\u0430\u043c\u0463\u0441\u0442\u043d\u0438\u0447\u0435\u0441\u0442\u0432\u0430</td>\n",
        "      <td> \u0433\u043e\u0440\u043e\u0434 \u0421\u0438\u043d\u0431\u0438\u0440\u0441\u043a\u043e\u0433\u043e \u041d\u0430\u043c\u0435\u0441\u0442\u043d\u0438\u0447\u0435\u0441\u0442\u0432\u0430.\u0412 \u0443\u0435\u0437\u0434\u0435 \u0441\u0435\u0433\u043e ...</td>\n",
        "      <td>   \u0410\u041b\u0410\u0422\u042b\u0420\u042c</td>\n",
        "      <td>  \u0433\u043e\u0440\u043e\u0434\u044a</td>\n",
        "      <td>  &lt;/span&gt;&lt;span class=\"font0\" style=\"font-style:...</td>\n",
        "      <td>   \u0410\u041b\u0410\u0422\u042b\u0420\u042c</td>\n",
        "      <td>    \u0421\u0438\u043d\u0431\u0438\u0440\u0441\u043a\u043e\u0433\u043e \u041d\u0430\u043c\u0435\u0441\u0442\u043d\u0438\u0447\u0435\u0441\u0442\u0432\u0430</td>\n",
        "    </tr>\n",
        "  </tbody>\n",
        "</table>\n",
        "</div>"
       ],
       "metadata": {},
       "output_type": "pyout",
       "prompt_number": 22,
       "text": [
        "               ru_uezd  page                        ru_prov  \\\n",
        "2    \u0414\u043e\u043d\u043a\u043e\u0432\u0441\u043a\u043e\u043c\u044a \u0443\u0463\u0437\u0434\u0463    10      \u0420\u044f\u0437\u0430\u043d\u0441\u043a\u0430\u0433\u043e \u041d\u0430\u043c\u0463\u0441\u0442\u043d\u0438\u0447\u0435\u0441\u0442\u0432\u0430   \n",
        "3              \u0438 \u0443\u0463\u0437\u0434\u0443    10    \u0412\u043e\u043b\u043e\u0433\u043e\u0434\u0441\u043a\u0430\u0433\u043e \u041d\u0430\u043c\u0463\u0441\u0442\u043d\u0438\u0447\u0435\u0441\u0442\u0432\u0430   \n",
        "4    \u0410\u0440\u0437\u0430\u043c\u0430\u0441\u043a\u043e\u043c\u044a \u0443\u0463\u0437\u0434\u0463    10  \u041d\u0438\u0436\u0435\u0433\u043e\u0440\u043e\u0434\u0441\u043a\u0430\u0433\u043e \u041d\u0430\u043c\u0463\u0441\u0442\u043d\u0438\u0447\u0435\u0441\u0442\u0432\u0430   \n",
        "5  \u0422\u0435\u043c\u043d\u0438\u043a\u043e\u0432\u0441\u043a\u043e\u043c\u044a \u0443\u0463\u0437\u0434\u0463    10     \u0422\u0430\u043c\u0431\u043e\u0432\u0441\u043a\u0430\u0433\u043e \u041d\u0430\u043c\u0463\u0441\u0442\u043d\u0438\u0447\u0435\u0441\u0442\u0432\u0430   \n",
        "6             \u0412\u044a \u0443\u0463\u0437\u0434\u0463    10     \u0421\u0438\u043d\u0431\u0438\u0440\u0441\u043a\u0430\u0433\u043e \u041d\u0430\u043c\u0463\u0441\u0442\u043d\u0438\u0447\u0435\u0441\u0442\u0432\u0430   \n",
        "\n",
        "                                                text       name    _type  \\\n",
        "2  \u0418\u0412\u0410\u041d\u041e\u0412\u0421\u041a\u041e\u0415 \u0442\u043e\u0436\u044c \u0441\u0435\u043b\u043e \u0420\u044f\u0437\u0430\u043d\u0441\u043a\u043e\u0433\u043e \u041d\u0430\u043c\u0435\u0441\u0442\u043d\u0438\u0447\u0435\u0441\u0442\u0432\u0430...   \u0410\u0412\u0414\u0423\u041b\u041e\u0412\u041e     \u0441\u0435\u043b\u043e   \n",
        "3  \u0432\u043e\u043b\u043e\u0441\u0442\u044c \u0412\u043e\u043b\u043e\u0433\u043e\u0434\u0441\u043a\u043e\u0433\u043e \u041d\u0430\u043c\u0435\u0441\u0442\u043d\u0438\u0447\u0435\u0441\u0442\u0432\u0430 \u0438 \u0443\u0435\u0437\u0434\u0443 \u0417\u0434...  \u0410\u0412\u0416\u0415\u041d\u0421\u041a\u0410\u042f  \u0432\u043e\u043b\u043e\u0441\u0442\u044c   \n",
        "4  \u0441\u0435\u043b\u043e \u041d\u0438\u0436\u0435\u0433\u043e\u0440\u043e\u0434\u0441\u043a\u043e\u0433\u043e \u041d\u0430\u043c\u0435\u0441\u0442\u043d\u0438\u0447\u0435\u0441\u0442\u0432\u0430 \u0432 \u0410\u0440\u0437\u0430\u043c\u0430\u0441\u043a\u043e...  \u0410\u0414\u041e\u0412\u0410\u0422\u041e\u0412\u041e     \u0441\u0435\u043b\u043e   \n",
        "5  \u0441\u0435\u043b\u043e \u0422\u0430\u043c\u0431\u043e\u0432\u0441\u043a\u043e\u0433\u043e \u041d\u0430\u043c\u0435\u0441\u0442\u043d\u0438\u0447\u0435\u0441\u0442\u0432\u0430 \u0432 \u0422\u0435\u043c\u043d\u0438\u043a\u043e\u0432\u0441\u043a\u043e\u043c...     \u0410\u041a\u0421\u0415\u041b\u042c     \u0441\u0435\u043b\u043e   \n",
        "6  \u0433\u043e\u0440\u043e\u0434 \u0421\u0438\u043d\u0431\u0438\u0440\u0441\u043a\u043e\u0433\u043e \u041d\u0430\u043c\u0435\u0441\u0442\u043d\u0438\u0447\u0435\u0441\u0442\u0432\u0430.\u0412 \u0443\u0435\u0437\u0434\u0435 \u0441\u0435\u0433\u043e ...    \u0410\u041b\u0410\u0422\u042b\u0420\u042c   \u0433\u043e\u0440\u043e\u0434\u044a   \n",
        "\n",
        "                                           html_text name_modern_sp  \\\n",
        "2   \u0418\u0412\u0410\u041d\u041e\u0412\u0421\u041a\u041e\u0415 \u0442\u043e\u0436\u044c, </span><span class=\"font0\" s...       \u0410\u0412\u0414\u0423\u041b\u041e\u0412\u041e   \n",
        "3   </span><span class=\"font0\" style=\"font-style:...      \u0410\u0412\u0416\u0415\u041d\u0421\u041a\u0410\u042f   \n",
        "4   </span><span class=\"font0\" style=\"font-style:...      \u0410\u0414\u041e\u0412\u0410\u0422\u041e\u0412\u041e   \n",
        "5   </span><span class=\"font0\" style=\"font-style:...         \u0410\u041a\u0421\u0415\u041b\u042c   \n",
        "6   </span><span class=\"font0\" style=\"font-style:...        \u0410\u041b\u0410\u0422\u042b\u0420\u042c   \n",
        "\n",
        "                  prov_modern_sp  \n",
        "2      \u0420\u044f\u0437\u0430\u043d\u0441\u043a\u043e\u0433\u043e \u041d\u0430\u043c\u0435\u0441\u0442\u043d\u0438\u0447\u0435\u0441\u0442\u0432\u0430  \n",
        "3    \u0412\u043e\u043b\u043e\u0433\u043e\u0434\u0441\u043a\u043e\u0433\u043e \u041d\u0430\u043c\u0435\u0441\u0442\u043d\u0438\u0447\u0435\u0441\u0442\u0432\u0430  \n",
        "4  \u041d\u0438\u0436\u0435\u0433\u043e\u0440\u043e\u0434\u0441\u043a\u043e\u0433\u043e \u041d\u0430\u043c\u0435\u0441\u0442\u043d\u0438\u0447\u0435\u0441\u0442\u0432\u0430  \n",
        "5     \u0422\u0430\u043c\u0431\u043e\u0432\u0441\u043a\u043e\u0433\u043e \u041d\u0430\u043c\u0435\u0441\u0442\u043d\u0438\u0447\u0435\u0441\u0442\u0432\u0430  \n",
        "6     \u0421\u0438\u043d\u0431\u0438\u0440\u0441\u043a\u043e\u0433\u043e \u041d\u0430\u043c\u0435\u0441\u0442\u043d\u0438\u0447\u0435\u0441\u0442\u0432\u0430  "
       ]
      }
     ],
     "prompt_number": 22
    },
    {
     "cell_type": "markdown",
     "metadata": {},
     "source": [
      "Lemmatization\n",
      "=============\n",
      "Here's where we start lemmatizing some of the text. `ru_stemmer` below uses the nltk snowball stemmer to generalize terms."
     ]
    },
    {
     "cell_type": "code",
     "collapsed": false,
     "input": [
      "import nltk"
     ],
     "language": "python",
     "metadata": {},
     "outputs": [],
     "prompt_number": 23
    },
    {
     "cell_type": "code",
     "collapsed": false,
     "input": [
      "ru_stemmer = nltk.stem.SnowballStemmer('russian')"
     ],
     "language": "python",
     "metadata": {},
     "outputs": [],
     "prompt_number": 24
    },
    {
     "cell_type": "code",
     "collapsed": false,
     "input": [
      "market_df['prov_stem'] = market_df.prov_modern_sp.replace(' [\u0410-\u042f\u0430-\u044f]+$','',regex=True).apply(ru_stemmer.stem)"
     ],
     "language": "python",
     "metadata": {},
     "outputs": [],
     "prompt_number": 25
    },
    {
     "cell_type": "markdown",
     "metadata": {},
     "source": [
      "This cell is simply to output the resulting data frame as an excel spreadsheet for manipulation in other programs. It is not currently in use."
     ]
    },
    {
     "cell_type": "code",
     "collapsed": false,
     "input": [
      "market_df.to_excel(\"no_geo.xlsx\",encoding=\"utf-8\")"
     ],
     "language": "python",
     "metadata": {},
     "outputs": [],
     "prompt_number": 26
    },
    {
     "cell_type": "markdown",
     "metadata": {},
     "source": [
      "Geocoding begins here!\n",
      "======================"
     ]
    },
    {
     "cell_type": "code",
     "collapsed": false,
     "input": [
      "test = '\u0411\u041e\u0413\u041e\u0420\u041e\u0414\u0418\u0426\u041a\u041e\u0419 \u041a\u0410\u0417\u0410\u041d\u0421\u041a\u041e\u0419'\n",
      "test = re.sub(r'(\u041e\u0419)($|\\s)',r'\u0418\u0419\\2',test)\n",
      "print(test)"
     ],
     "language": "python",
     "metadata": {},
     "outputs": [
      {
       "output_type": "stream",
       "stream": "stdout",
       "text": [
        "\u0411\u041e\u0413\u041e\u0420\u041e\u0414\u0418\u0426\u041a\u0418\u0419 \u041a\u0410\u0417\u0410\u041d\u0421\u041a\u0418\u0419\n"
       ]
      }
     ],
     "prompt_number": 27
    },
    {
     "cell_type": "code",
     "collapsed": false,
     "input": [
      "def geonames_lookup(placename,placeid,east=180,west=-180,north=90,south=-90):\n",
      "    url = \"http://api.geonames.org/search\"\n",
      "    Q = {'type':'json','username':'jaguillette','featureCode':'PPL','name':placename,'north':north,'south':south,'east':east,'west':west}\n",
      "    R = requests.get(url,params=Q)\n",
      "    geonames_json = R.json()\n",
      "    Ensure_dir(\"geonames_jsons\")\n",
      "    returnlist = []\n",
      "    keepgoing = True\n",
      "    while keepgoing == True:\n",
      "        if geonames_json['totalResultsCount'] != 0:\n",
      "            for x in range(0,len(geonames_json['geonames'])):\n",
      "                geo_placename = geonames_json['geonames'][x]['name']\n",
      "                geo_admin1 = geonames_json['geonames'][x]['adminName1']\n",
      "                geo_countryname = geonames_json['geonames'][x]['countryName']\n",
      "                geo_lat = geonames_json['geonames'][x]['lat']\n",
      "                geo_lng = geonames_json['geonames'][x]['lng']\n",
      "                geo_id = geonames_json['geonames'][x]['geonameId']\n",
      "                geo_country_code = geonames_json['geonames'][x]['countryCode']\n",
      "                returnlist.append([placeid,geo_placename,geo_admin1,geo_countryname,geo_lat,geo_lng,geo_id,geo_country_code,R.url,'geonames'])\n",
      "            with open(\"geonames_jsons/{}.json\".format(placename),'w',encoding='utf-8') as jsonfile:\n",
      "                jsonfile.write(R.text)\n",
      "            print(\"{} was found.\".format(placename))\n",
      "            keepgoing = False\n",
      "        elif len(re.findall(r'(\u041e\u0419)($|\\s)',placename))!=0:\n",
      "            placename = re.sub(r'(\u041e\u0419)($|\\s)',r'\u0418\u0419\\2',placename)\n",
      "            print('New form: {}'.format(placename))\n",
      "            continue\n",
      "        else:\n",
      "            geo_placename = \"not_found\"\n",
      "            geo_admin1 = \"not_found\"\n",
      "            geo_countryname = \"not_found\"\n",
      "            geo_lat = \"not_found\"\n",
      "            geo_lng = \"not_found\"\n",
      "            geo_id = \"not_found\"\n",
      "            geo_country_code = \"not_found\"\n",
      "            returnlist.append([placeid,geo_placename,geo_admin1,geo_countryname,geo_lat,geo_lng,geo_id,geo_country_code,R.url,'geonames'])\n",
      "            print(\"{} was not found.\".format(placename))\n",
      "            keepgoing = False\n",
      "    return returnlist"
     ],
     "language": "python",
     "metadata": {},
     "outputs": [],
     "prompt_number": 28
    },
    {
     "cell_type": "code",
     "collapsed": false,
     "input": [
      "geocoded = []\n",
      "for x in range(0,len(market_df)):\n",
      "    entry = market_df.iloc[x]\n",
      "    geocoded.extend(geonames_lookup(entry['name_modern_sp'],entry.name,north=78.0,south=38.6,west=24.8,east=180))"
     ],
     "language": "python",
     "metadata": {},
     "outputs": [
      {
       "output_type": "stream",
       "stream": "stdout",
       "text": [
        "\u0410\u0412\u0414\u0423\u041b\u041e\u0412\u041e was found.\n",
        "\u0410\u0412\u0416\u0415\u041d\u0421\u041a\u0410\u042f was not found."
       ]
      },
      {
       "output_type": "stream",
       "stream": "stdout",
       "text": [
        "\n",
        "\u0410\u0414\u041e\u0412\u0410\u0422\u041e\u0412\u041e was not found."
       ]
      },
      {
       "output_type": "stream",
       "stream": "stdout",
       "text": [
        "\n",
        "\u0410\u041a\u0421\u0415\u041b\u042c was found."
       ]
      },
      {
       "output_type": "stream",
       "stream": "stdout",
       "text": [
        "\n",
        "\u0410\u041b\u0410\u0422\u042b\u0420\u042c was found."
       ]
      },
      {
       "output_type": "stream",
       "stream": "stdout",
       "text": [
        "\n",
        "\u0410\u041b\u0415\u041a\u0421\u0410\u041d\u0414\u0420\u041e\u0412\u0410 \u041f\u0423\u0421\u0422\u042b\u041d\u042f was not found."
       ]
      },
      {
       "output_type": "stream",
       "stream": "stdout",
       "text": [
        "\n",
        "\u0410\u041b\u0415\u041a\u0421\u0410\u041d\u0414\u0420\u041e\u0412\u0421\u041a\u041e\u0415 was found."
       ]
      },
      {
       "output_type": "stream",
       "stream": "stdout",
       "text": [
        "\n",
        "\u0410\u041b\u0415\u041a\u0421\u0418\u041d was found."
       ]
      },
      {
       "output_type": "stream",
       "stream": "stdout",
       "text": [
        "\n",
        "\u0410\u041b\u0415\u041a\u0421\u0415\u0415\u0412\u041a\u0410 was found."
       ]
      },
      {
       "output_type": "stream",
       "stream": "stdout",
       "text": [
        "\n",
        "\u0410\u041b\u0415\u041a\u0421\u0415\u0415\u0412\u0421\u041a\u0410\u042f was found."
       ]
      },
      {
       "output_type": "stream",
       "stream": "stdout",
       "text": [
        "\n",
        "\u0410\u041b\u0415\u0428\u041d\u042f was found."
       ]
      },
      {
       "output_type": "stream",
       "stream": "stdout",
       "text": [
        "\n",
        "\u0410\u041d\u0410\u0415\u0412\u041e was found."
       ]
      },
      {
       "output_type": "stream",
       "stream": "stdout",
       "text": [
        "\n",
        "\u0410\u041d\u0414\u0420\u0415\u0415\u0412\u041a\u0410 was found."
       ]
      },
      {
       "output_type": "stream",
       "stream": "stdout",
       "text": [
        "\n",
        "\u0410\u041d\u0422\u041e\u041d\u041e\u0412\u041a\u0410 was found."
       ]
      },
      {
       "output_type": "stream",
       "stream": "stdout",
       "text": [
        "\n",
        "\u0410\u041f\u0418\u0427\u0415\u0420\u0421\u041a\u0410\u042f was not found."
       ]
      },
      {
       "output_type": "stream",
       "stream": "stdout",
       "text": [
        "\n",
        "\u0410\u0420\u0413\u0410\u041c\u0410\u0427\u042c\u042f was not found."
       ]
      },
      {
       "output_type": "stream",
       "stream": "stdout",
       "text": [
        "\n",
        "\u0410\u0420\u0417\u0410\u041c\u0410\u0421 was found."
       ]
      },
      {
       "output_type": "stream",
       "stream": "stdout",
       "text": [
        "\n",
        "\u0410\u0420\u0422\u0415\u041c\u041e\u041d\u041e\u0412\u041a\u0410 was found."
       ]
      },
      {
       "output_type": "stream",
       "stream": "stdout",
       "text": [
        "\n",
        "\u0410\u0420\u0425\u0410\u041d\u0413\u0415\u041b\u042c\u0421\u041a was found."
       ]
      },
      {
       "output_type": "stream",
       "stream": "stdout",
       "text": [
        "\n",
        "\u0410\u0420\u0425\u0410\u041d\u0413\u0415\u041b\u042c\u0421\u041a\u041e\u0415 was found."
       ]
      },
      {
       "output_type": "stream",
       "stream": "stdout",
       "text": [
        "\n",
        "\u0410\u0421\u0410\u041a\u041e\u0412\u041e was found."
       ]
      },
      {
       "output_type": "stream",
       "stream": "stdout",
       "text": [
        "\n",
        "\u0410\u0421\u0422\u0420\u0410\u0425\u0410\u041d\u042c was found."
       ]
      },
      {
       "output_type": "stream",
       "stream": "stdout",
       "text": [
        "\n",
        "\u0410\u0422\u0415\u041c\u0410\u0420 was found."
       ]
      },
      {
       "output_type": "stream",
       "stream": "stdout",
       "text": [
        "\n",
        "\u0410\u0422\u041a\u0410\u0420\u0421\u041a was found."
       ]
      },
      {
       "output_type": "stream",
       "stream": "stdout",
       "text": [
        "\n",
        "\u0410\u0425\u0422\u042b\u0420\u041a\u0410 was found."
       ]
      },
      {
       "output_type": "stream",
       "stream": "stdout",
       "text": [
        "\n",
        "\u0411\u0410\u0415\u0412\u041a\u0410 was found."
       ]
      },
      {
       "output_type": "stream",
       "stream": "stdout",
       "text": [
        "\n",
        "\u0411\u0410\u041b\u0410\u041a\u041b\u0415\u0415\u0412 was not found."
       ]
      },
      {
       "output_type": "stream",
       "stream": "stdout",
       "text": [
        "\n",
        "\u0411\u0410\u041b\u0410\u0425\u041d\u0410 was found."
       ]
      },
      {
       "output_type": "stream",
       "stream": "stdout",
       "text": [
        "\n",
        "\u0411\u0410\u0420\u042b\u0428\u0415\u0412\u041a\u0410 was found."
       ]
      },
      {
       "output_type": "stream",
       "stream": "stdout",
       "text": [
        "\n",
        "\u0411\u0410\u0421\u0410\u041d\u042c was found."
       ]
      },
      {
       "output_type": "stream",
       "stream": "stdout",
       "text": [
        "\n",
        "\u0411\u0410\u0422\u0420\u0410\u041a was found."
       ]
      },
      {
       "output_type": "stream",
       "stream": "stdout",
       "text": [
        "\n",
        "\u0411\u0410\u0422\u0423\u0420\u0418\u041d was found."
       ]
      },
      {
       "output_type": "stream",
       "stream": "stdout",
       "text": [
        "\n",
        "\u0411\u0410\u0425\u041c\u0410\u0427\u042c was found."
       ]
      },
      {
       "output_type": "stream",
       "stream": "stdout",
       "text": [
        "\n",
        "\u0411\u0415\u0417\u0413\u0418\u041d\u041e\u0412\u041a\u0410 was not found."
       ]
      },
      {
       "output_type": "stream",
       "stream": "stdout",
       "text": [
        "\n",
        "\u0411\u0415\u0420\u0415\u0417\u0418\u041d was not found."
       ]
      },
      {
       "output_type": "stream",
       "stream": "stdout",
       "text": [
        "\n",
        "\u0411\u0415\u0420\u0415\u0417\u041d\u0418\u041a\u0418 was found."
       ]
      },
      {
       "output_type": "stream",
       "stream": "stdout",
       "text": [
        "\n",
        "\u0411\u0415\u0420\u0415\u0417\u041e\u0412 was found."
       ]
      },
      {
       "output_type": "stream",
       "stream": "stdout",
       "text": [
        "\n",
        "\u0411\u0415\u0420\u0415\u0417\u041e\u0412\u0426\u0410 was found."
       ]
      },
      {
       "output_type": "stream",
       "stream": "stdout",
       "text": [
        "\n",
        "\u0411\u0415\u0420\u041a\u0423\u041d\u041e\u0412\u0410 was not found."
       ]
      },
      {
       "output_type": "stream",
       "stream": "stdout",
       "text": [
        "\n",
        "\u0411\u0415\u0420\u041d\u0418\u041a\u0418 was found."
       ]
      },
      {
       "output_type": "stream",
       "stream": "stdout",
       "text": [
        "\n",
        "\u0411\u0418\u041b\u042f\u0420\u0421\u041a was found."
       ]
      },
      {
       "output_type": "stream",
       "stream": "stdout",
       "text": [
        "\n",
        "\u0411\u0418\u0420\u0416\u0410 was found."
       ]
      },
      {
       "output_type": "stream",
       "stream": "stdout",
       "text": [
        "\n",
        "New form: \u0411\u041b\u0410\u0413\u041e\u0412\u0415\u0429\u0415\u041d\u0421\u041a\u0418\u0419 \u041f\u0420\u0418\u0425\u041e\u0414"
       ]
      },
      {
       "output_type": "stream",
       "stream": "stdout",
       "text": [
        "\n",
        "\u0411\u041b\u0410\u0413\u041e\u0412\u0415\u0429\u0415\u041d\u0421\u041a\u0418\u0419 \u041f\u0420\u0418\u0425\u041e\u0414 was not found.\n",
        "\u0411\u041e\u0411\u0420\u041e\u0412\u0418\u0426\u0410 was found."
       ]
      },
      {
       "output_type": "stream",
       "stream": "stdout",
       "text": [
        "\n",
        "\u0411\u041e\u0411\u0420\u041e\u0412\u0421\u041a\u041e\u0415 was found."
       ]
      },
      {
       "output_type": "stream",
       "stream": "stdout",
       "text": [
        "\n",
        "\u0411\u041e\u0411\u042b\u041b\u0415\u0412\u0421\u041a\u041e\u0415 was not found."
       ]
      },
      {
       "output_type": "stream",
       "stream": "stdout",
       "text": [
        "\n",
        "\u0411\u041e\u0413\u0410\u0422\u0418\u0429\u0415\u0411\u041e was not found."
       ]
      },
      {
       "output_type": "stream",
       "stream": "stdout",
       "text": [
        "\n",
        "\u0411\u041e\u0413\u0410\u0422\u042b\u0419 was found."
       ]
      },
      {
       "output_type": "stream",
       "stream": "stdout",
       "text": [
        "\n",
        "\u0411\u041e\u0413\u0410\u0427\u041a\u0410 was found."
       ]
      },
      {
       "output_type": "stream",
       "stream": "stdout",
       "text": [
        "\n",
        "\u0411\u041e\u0413\u041e\u0414\u0423\u0425\u041e\u0412 was not found."
       ]
      },
      {
       "output_type": "stream",
       "stream": "stdout",
       "text": [
        "\n",
        "\u0411\u041e\u0413\u041e\u0420\u041e\u0414\u0418\u0426\u041a was found."
       ]
      },
      {
       "output_type": "stream",
       "stream": "stdout",
       "text": [
        "\n",
        "\u0411\u041e\u0413\u041e\u0420\u041e\u0414\u0418\u0426\u041a was found."
       ]
      },
      {
       "output_type": "stream",
       "stream": "stdout",
       "text": [
        "\n",
        "New form: \u0411\u041e\u0413\u041e\u0420\u041e\u0414\u0418\u0426\u041a\u0418\u0419 \u041a\u0410\u0417\u0410\u041d\u0421\u041a\u0418\u0419"
       ]
      },
      {
       "output_type": "stream",
       "stream": "stdout",
       "text": [
        "\n",
        "\u0411\u041e\u0413\u041e\u0420\u041e\u0414\u0418\u0426\u041a\u0418\u0419 \u041a\u0410\u0417\u0410\u041d\u0421\u041a\u0418\u0419 was not found.\n",
        "\u0411\u041e\u0413\u041e\u0420\u041e\u0414\u0421\u041a was found."
       ]
      },
      {
       "output_type": "stream",
       "stream": "stdout",
       "text": [
        "\n",
        "\u0411\u041e\u0413\u041e\u042f\u0412\u041b\u0415\u041d\u0421\u041a\u0410\u042f was found."
       ]
      },
      {
       "output_type": "stream",
       "stream": "stdout",
       "text": [
        "\n",
        "\u0411\u041e\u0413\u041e\u042f\u0412\u041b\u0415\u041d\u0421\u041a\u0410\u042f was found."
       ]
      },
      {
       "output_type": "stream",
       "stream": "stdout",
       "text": [
        "\n",
        "\u0411\u041e\u0419\u041d\u042f was not found."
       ]
      },
      {
       "output_type": "stream",
       "stream": "stdout",
       "text": [
        "\n",
        "\u0411\u041e\u0420\u0410 was found."
       ]
      },
      {
       "output_type": "stream",
       "stream": "stdout",
       "text": [
        "\n",
        "\u0411\u041e\u0420\u0417\u041d\u0410 was found."
       ]
      },
      {
       "output_type": "stream",
       "stream": "stdout",
       "text": [
        "\n",
        "\u0411\u041e\u0420\u0418\u0421\u041e\u0412 was found."
       ]
      },
      {
       "output_type": "stream",
       "stream": "stdout",
       "text": [
        "\n",
        "\u0411\u041e\u0420\u0418\u0421\u041e\u0413\u041b\u0415\u0411\u0421\u041a was found."
       ]
      },
      {
       "output_type": "stream",
       "stream": "stdout",
       "text": [
        "\n",
        "\u0411\u041e\u0420\u0418\u0421\u041e\u0413\u041b\u0415\u0411\u0421\u041a was found."
       ]
      },
      {
       "output_type": "stream",
       "stream": "stdout",
       "text": [
        "\n",
        "New form: \u0411\u041e\u0420\u0418\u0421\u041e\u0413\u041b\u0415\u0411\u0421\u041a\u0418\u0419"
       ]
      },
      {
       "output_type": "stream",
       "stream": "stdout",
       "text": [
        "\n",
        "\u0411\u041e\u0420\u0418\u0421\u041e\u0413\u041b\u0415\u0411\u0421\u041a\u0418\u0419 was not found.\n",
        "\u0411\u041e\u0420\u0418\u0421\u041f\u041e\u041b\u042c was found."
       ]
      },
      {
       "output_type": "stream",
       "stream": "stdout",
       "text": [
        "\n",
        "\u0411\u041e\u0420\u041e\u0412\u0415\u041d\u041a\u0418 was found."
       ]
      },
      {
       "output_type": "stream",
       "stream": "stdout",
       "text": [
        "\n",
        "\u0411\u041e\u0420\u041e\u0412\u0418\u0427\u0418 was found."
       ]
      },
      {
       "output_type": "stream",
       "stream": "stdout",
       "text": [
        "\n",
        "\u0411\u041e\u0420\u041e\u0412\u0421\u041a was found."
       ]
      },
      {
       "output_type": "stream",
       "stream": "stdout",
       "text": [
        "\n",
        "\u0411\u041e\u0420\u041e\u041c\u0414\u042f was not found."
       ]
      },
      {
       "output_type": "stream",
       "stream": "stdout",
       "text": [
        "\n",
        "\u0411\u041e\u0420\u042f\u0422\u0418\u041d\u041e was found."
       ]
      },
      {
       "output_type": "stream",
       "stream": "stdout",
       "text": [
        "\n",
        "\u0411\u0420\u041e\u041d\u041d\u0418\u0426\u042b was found."
       ]
      },
      {
       "output_type": "stream",
       "stream": "stdout",
       "text": [
        "\n",
        "\u0411\u0420\u041e\u041d\u041d\u0418\u0426\u042b was found."
       ]
      },
      {
       "output_type": "stream",
       "stream": "stdout",
       "text": [
        "\n",
        "\u0411\u0420\u042f\u041d\u0421\u041a was found."
       ]
      },
      {
       "output_type": "stream",
       "stream": "stdout",
       "text": [
        "\n",
        "\u0411\u0423\u0414\u0418\u0427\u042c was not found."
       ]
      },
      {
       "output_type": "stream",
       "stream": "stdout",
       "text": [
        "\n",
        "New form: \u0411\u0423\u0420\u0415\u0426\u041a\u0418\u0419"
       ]
      },
      {
       "output_type": "stream",
       "stream": "stdout",
       "text": [
        "\n",
        "\u0411\u0423\u0420\u0415\u0426\u041a\u0418\u0419 was not found.\n",
        "\u0411\u0423\u0420\u041e\u041c\u041a\u0410 was found."
       ]
      },
      {
       "output_type": "stream",
       "stream": "stdout",
       "text": [
        "\n",
        "\u0411\u0423\u0427\u0410\u041b\u041a\u0418 was found."
       ]
      },
      {
       "output_type": "stream",
       "stream": "stdout",
       "text": [
        "\n",
        "\u0411\u0423\u0428\u041d\u0420\u0412\u041e was not found."
       ]
      },
      {
       "output_type": "stream",
       "stream": "stdout",
       "text": [
        "\n",
        "\u0411\u042b\u041a\u041e\u0412 was found."
       ]
      },
      {
       "output_type": "stream",
       "stream": "stdout",
       "text": [
        "\n",
        "\u0411\u0415\u0416\u0415\u0426\u041a was found."
       ]
      },
      {
       "output_type": "stream",
       "stream": "stdout",
       "text": [
        "\n",
        "\u0411\u0415\u041b\u0410\u042f \u041a\u041e\u041b\u041f\u042c was found."
       ]
      },
      {
       "output_type": "stream",
       "stream": "stdout",
       "text": [
        "\n",
        "\u0411\u0415\u041b\u0413\u041e\u0420\u041e\u0414 was found."
       ]
      },
      {
       "output_type": "stream",
       "stream": "stdout",
       "text": [
        "\n",
        "\u0411\u0415\u041b\u0418\u041a\u0418 was found."
       ]
      },
      {
       "output_type": "stream",
       "stream": "stdout",
       "text": [
        "\n",
        "\u0411\u0415\u041b\u041e\u0415 was found."
       ]
      },
      {
       "output_type": "stream",
       "stream": "stdout",
       "text": [
        "\n",
        "New form: \u0411\u0415\u041b\u041e\u0417\u0415\u0420\u0421\u041a\u0418\u0419 \u041a\u0418\u0420\u0418\u041b\u041e\u0412"
       ]
      },
      {
       "output_type": "stream",
       "stream": "stdout",
       "text": [
        "\n",
        "\u0411\u0415\u041b\u041e\u0417\u0415\u0420\u0421\u041a\u0418\u0419 \u041a\u0418\u0420\u0418\u041b\u041e\u0412 was not found.\n",
        "New form: \u0411\u0415\u041b\u0418\u0419"
       ]
      },
      {
       "output_type": "stream",
       "stream": "stdout",
       "text": [
        "\n",
        "\u0411\u0415\u041b\u0418\u0419 was not found.\n",
        "\u0411\u0415\u041b\u041e\u041a\u0423\u0420\u0418\u041d\u0410 was not found."
       ]
      },
      {
       "output_type": "stream",
       "stream": "stdout",
       "text": [
        "\n",
        "\u0411\u0415\u041b\u041e\u041f\u041e\u041b\u042c\u0415 was found."
       ]
      },
      {
       "output_type": "stream",
       "stream": "stdout",
       "text": [
        "\n",
        "\u0411\u0415\u041b\u041e\u0426\u0415\u0420\u041a\u041e\u0412\u041a\u0410 was found."
       ]
      },
      {
       "output_type": "stream",
       "stream": "stdout",
       "text": [
        "\n",
        "\u0411\u0415\u041b\u042b\u041d\u0418\u0427\u0418 was found."
       ]
      },
      {
       "output_type": "stream",
       "stream": "stdout",
       "text": [
        "\n",
        "\u0412\u0410\u041b\u0414\u0410\u0419 was found."
       ]
      },
      {
       "output_type": "stream",
       "stream": "stdout",
       "text": [
        "\n",
        "\u0412\u0410\u041b\u041a\u0418 was found."
       ]
      },
      {
       "output_type": "stream",
       "stream": "stdout",
       "text": [
        "\n",
        "\u0412\u0410\u041b\u0423\u0419\u041a\u0418 was found."
       ]
      },
      {
       "output_type": "stream",
       "stream": "stdout",
       "text": [
        "\n",
        "\u0412\u0410\u0420\u0412\u0410 was found."
       ]
      },
      {
       "output_type": "stream",
       "stream": "stdout",
       "text": [
        "\n",
        "\u0411\u0410\u0420\u041a\u041e\u0412 was not found."
       ]
      },
      {
       "output_type": "stream",
       "stream": "stdout",
       "text": [
        "\n",
        "\u0412\u0410\u0428\u041a\u0410 was found."
       ]
      },
      {
       "output_type": "stream",
       "stream": "stdout",
       "text": [
        "\n",
        "\u0412\u0415\u0419\u0414\u0415\u041b\u0415\u0412\u041a\u0410 was found."
       ]
      },
      {
       "output_type": "stream",
       "stream": "stdout",
       "text": [
        "\n",
        "\u0412\u0415\u041b\u0418\u0416 was found."
       ]
      },
      {
       "output_type": "stream",
       "stream": "stdout",
       "text": [
        "\n",
        "\u0412\u0415\u041b\u0418\u041a\u041e\u0415 was found."
       ]
      },
      {
       "output_type": "stream",
       "stream": "stdout",
       "text": [
        "\n",
        "\u0412\u0415\u041d\u0414\u0415\u041d was not found."
       ]
      },
      {
       "output_type": "stream",
       "stream": "stdout",
       "text": [
        "\n",
        "\u0412\u0415\u041d\u0415\u0412 was found."
       ]
      },
      {
       "output_type": "stream",
       "stream": "stdout",
       "text": [
        "\n",
        "New form: \u0412\u0415\u041d\u0415\u0412\u0421\u041a\u0418\u0419 \u041d\u0418\u041a\u041e\u041b\u0410\u0415\u0412\u0421\u041a\u0418\u0419"
       ]
      },
      {
       "output_type": "stream",
       "stream": "stdout",
       "text": [
        "\n",
        "\u0412\u0415\u041d\u0415\u0412\u0421\u041a\u0418\u0419 \u041d\u0418\u041a\u041e\u041b\u0410\u0415\u0412\u0421\u041a\u0418\u0419 was not found.\n",
        "\u0412\u0415\u041f\u0420\u0418\u041a was found."
       ]
      },
      {
       "output_type": "stream",
       "stream": "stdout",
       "text": [
        "\n",
        "\u0412\u0415\u0420\u0415\u042f was found."
       ]
      },
      {
       "output_type": "stream",
       "stream": "stdout",
       "text": [
        "\n",
        "\u0412\u0415\u0420\u0425\u041d\u0418\u0419 \u0423\u0414\u0418\u041d\u0421\u041a was not found."
       ]
      },
      {
       "output_type": "stream",
       "stream": "stdout",
       "text": [
        "\n",
        "New form: \u0412\u0415\u0420\u0425\u041e\u0412\u0410\u0416\u0421\u041a\u0418\u0419"
       ]
      },
      {
       "output_type": "stream",
       "stream": "stdout",
       "text": [
        "\n",
        "\u0412\u0415\u0420\u0425\u041e\u0412\u0410\u0416\u0421\u041a\u0418\u0419 was not found.\n",
        "\u0412\u0415\u0421\u0418\u0415\u0413\u041e\u041d\u0421\u041a was found."
       ]
      },
      {
       "output_type": "stream",
       "stream": "stdout",
       "text": [
        "\n",
        "\u0412\u0418\u041b\u042c\u041c\u0410\u041d\u0421\u0422\u0420\u0410\u041d\u0414 was not found."
       ]
      },
      {
       "output_type": "stream",
       "stream": "stdout",
       "text": [
        "\n",
        "\u0412\u0418\u041b\u042e\u0419\u0421\u041a\u041e\u0415 \u0412\u0415\u0420\u0425\u041d\u0415\u0415 was not found."
       ]
      },
      {
       "output_type": "stream",
       "stream": "stdout",
       "text": [
        "\n",
        "\u0412\u041e\u0415\u0412\u041e\u0414\u0421\u041a\u041e\u0415 was found."
       ]
      },
      {
       "output_type": "stream",
       "stream": "stdout",
       "text": [
        "\n",
        "New form: \u0412\u041e\u0417\u041d\u0415\u0421\u0415\u041d\u0421\u041a\u0418\u0419"
       ]
      },
      {
       "output_type": "stream",
       "stream": "stdout",
       "text": [
        "\n",
        "\u0412\u041e\u0417\u041d\u0415\u0421\u0415\u041d\u0421\u041a\u0418\u0419 was not found.\n",
        "\u0412\u041e\u041b\u041c\u0410\u0420 was not found."
       ]
      },
      {
       "output_type": "stream",
       "stream": "stdout",
       "text": [
        "\n",
        "\u0412\u041e\u041b\u041e\u0414\u0418\u041c\u0415\u0420\u0415\u0426 was not found."
       ]
      },
      {
       "output_type": "stream",
       "stream": "stdout",
       "text": [
        "\n",
        "\u0412\u041e\u041b\u041e\u041a\u041e\u041b\u0410\u041c\u0421\u041a was found."
       ]
      },
      {
       "output_type": "stream",
       "stream": "stdout",
       "text": [
        "\n",
        "\u0412\u041e\u041b\u041e\u041a\u041e\u041f\u0418\u041d\u0415\u0416\u0421\u041a\u0410\u042f was not found."
       ]
      },
      {
       "output_type": "stream",
       "stream": "stdout",
       "text": [
        "\n",
        "\u0412\u041e\u041b\u0421\u041a was found."
       ]
      },
      {
       "output_type": "stream",
       "stream": "stdout",
       "text": [
        "\n",
        "\u0412\u041e\u041b\u0427\u042c\u042f was found."
       ]
      },
      {
       "output_type": "stream",
       "stream": "stdout",
       "text": [
        "\n",
        "\u0412\u041e\u041b\u042b\u041d\u0426\u042b was found."
       ]
      },
      {
       "output_type": "stream",
       "stream": "stdout",
       "text": [
        "\n",
        "\u0412\u041e\u041b\u042c\u041d\u0410\u042f was found."
       ]
      },
      {
       "output_type": "stream",
       "stream": "stdout",
       "text": [
        "\n",
        "\u0412\u041e\u0420\u041e\u041d\u0415\u0416 was found."
       ]
      },
      {
       "output_type": "stream",
       "stream": "stdout",
       "text": [
        "\n",
        "\u0412\u041e\u0420\u041e\u041d\u0415\u0416 was found."
       ]
      },
      {
       "output_type": "stream",
       "stream": "stdout",
       "text": [
        "\n",
        "\u0412\u041e\u0420\u041e\u041d\u041a\u041e\u0412 was found."
       ]
      },
      {
       "output_type": "stream",
       "stream": "stdout",
       "text": [
        "\n",
        "\u0412\u041e\u0420\u041e\u041d\u0426\u041e\u0412\u041a\u0410 was found."
       ]
      },
      {
       "output_type": "stream",
       "stream": "stdout",
       "text": [
        "\n",
        "\u0412\u041e\u0421\u041a\u0420\u0415\u0421\u0415\u041d\u0421\u041a was found."
       ]
      },
      {
       "output_type": "stream",
       "stream": "stdout",
       "text": [
        "\n",
        "\u0415\u0420\u0415\u0411 was not found."
       ]
      },
      {
       "output_type": "stream",
       "stream": "stdout",
       "text": [
        "\n",
        "\u0412\u042b\u0411\u041e\u0420 was found."
       ]
      },
      {
       "output_type": "stream",
       "stream": "stdout",
       "text": [
        "\n",
        "\u0412\u042b\u0411\u041e\u0420\u0413 was found."
       ]
      },
      {
       "output_type": "stream",
       "stream": "stdout",
       "text": [
        "\n",
        "\u0412\u042b\u0421\u041e\u041a\u041e\u0415 was found."
       ]
      },
      {
       "output_type": "stream",
       "stream": "stdout",
       "text": [
        "\n",
        "\u0412\u042b\u0421\u041e\u041a\u041e\u0415 was found."
       ]
      },
      {
       "output_type": "stream",
       "stream": "stdout",
       "text": [
        "\n",
        "\u0412\u042b\u0422\u0415\u0413\u0420\u0410 was found."
       ]
      },
      {
       "output_type": "stream",
       "stream": "stdout",
       "text": [
        "\n",
        "\u0412\u042c\u0418\u0427\u0423\u0413\u0410 was not found."
       ]
      },
      {
       "output_type": "stream",
       "stream": "stdout",
       "text": [
        "\n",
        "\u0412\u042b\u0428\u0413\u041e\u0420\u041e\u0414 was found."
       ]
      },
      {
       "output_type": "stream",
       "stream": "stdout",
       "text": [
        "\n",
        "\u0412\u042b\u0428\u0413\u041e\u0420\u041e\u0414 was found."
       ]
      },
      {
       "output_type": "stream",
       "stream": "stdout",
       "text": [
        "\n",
        "\u0412\u042b\u0428\u041d\u0418\u0419 \u0412\u041e\u041b\u041e\u0427\u041e\u041a was not found."
       ]
      },
      {
       "output_type": "stream",
       "stream": "stdout",
       "text": [
        "\n",
        "\u0412\u0415\u0422\u041a\u0410 was found."
       ]
      },
      {
       "output_type": "stream",
       "stream": "stdout",
       "text": [
        "\n",
        "\u0412\u0415\u0422\u041a\u0410 was found."
       ]
      },
      {
       "output_type": "stream",
       "stream": "stdout",
       "text": [
        "\n",
        "\u0412\u042f\u0417\u041d\u0418\u041a\u0418 was found."
       ]
      },
      {
       "output_type": "stream",
       "stream": "stdout",
       "text": [
        "\n",
        "\u0412\u042f\u0417\u041e\u0412\u041d\u0410 was not found."
       ]
      },
      {
       "output_type": "stream",
       "stream": "stdout",
       "text": [
        "\n",
        "\u0413\u0410\u0411\u0417\u0410\u041b\u042c was not found."
       ]
      },
      {
       "output_type": "stream",
       "stream": "stdout",
       "text": [
        "\n",
        "\u0413\u0410\u0412\u0420\u0418\u041b\u041e\u0412\u0410 was found."
       ]
      },
      {
       "output_type": "stream",
       "stream": "stdout",
       "text": [
        "\n",
        "\u0413\u0410\u0413\u0410\u0420\u0418\u041d\u041e was found."
       ]
      },
      {
       "output_type": "stream",
       "stream": "stdout",
       "text": [
        "\n",
        "\u0413\u0410\u0414\u042f\u0427\u042c was found."
       ]
      },
      {
       "output_type": "stream",
       "stream": "stdout",
       "text": [
        "\n",
        "\u0413\u0410\u041b\u042f\u041d\u0418 was not found."
       ]
      },
      {
       "output_type": "stream",
       "stream": "stdout",
       "text": [
        "\n",
        "\u0413\u0410\u0422\u041d\u0418\u0426\u042b was not found."
       ]
      },
      {
       "output_type": "stream",
       "stream": "stdout",
       "text": [
        "\n",
        "\u0413\u0414\u041e\u0412 was found."
       ]
      },
      {
       "output_type": "stream",
       "stream": "stdout",
       "text": [
        "\n",
        "\u0413\u0415\u041d\u041d\u0410\u0414\u0418\u0415\u0412 was not found."
       ]
      },
      {
       "output_type": "stream",
       "stream": "stdout",
       "text": [
        "\n",
        "\u0413\u0415\u0420\u041c\u0410\u041d\u041e\u0412\u0410 was found."
       ]
      },
      {
       "output_type": "stream",
       "stream": "stdout",
       "text": [
        "\n",
        "\u0413\u0416\u0410\u0422\u042c was not found."
       ]
      },
      {
       "output_type": "stream",
       "stream": "stdout",
       "text": [
        "\n",
        "\u0413\u041b\u0415\u041c\u042f\u0417\u041e\u0412 was not found."
       ]
      },
      {
       "output_type": "stream",
       "stream": "stdout",
       "text": [
        "\n",
        "\u0413\u041b\u0418\u041d\u0421\u041a was found."
       ]
      },
      {
       "output_type": "stream",
       "stream": "stdout",
       "text": [
        "\n",
        "\u0413\u041b\u0418\u041d\u0421\u041a was found."
       ]
      },
      {
       "output_type": "stream",
       "stream": "stdout",
       "text": [
        "\n",
        "\u0413\u041b\u0423\u0425\u041e\u0412 was found."
       ]
      },
      {
       "output_type": "stream",
       "stream": "stdout",
       "text": [
        "\n",
        "New form: \u0413\u041b\u0423\u0428\u0418\u0426\u041a\u0418\u0419"
       ]
      },
      {
       "output_type": "stream",
       "stream": "stdout",
       "text": [
        "\n",
        "\u0413\u041b\u0423\u0428\u0418\u0426\u041a\u0418\u0419 was not found.\n",
        "\u0413\u041b\u0415\u0411\u041e\u0412\u041e was found."
       ]
      },
      {
       "output_type": "stream",
       "stream": "stdout",
       "text": [
        "\n",
        "New form: \u0413\u041d\u0418\u041b\u042c\u0421\u041a\u0418\u0419"
       ]
      },
      {
       "output_type": "stream",
       "stream": "stdout",
       "text": [
        "\n",
        "\u0413\u041d\u0418\u041b\u042c\u0421\u041a\u0418\u0419 was not found.\n",
        "\u0413\u041e\u0413\u041e\u041b\u0415\u0412 was found."
       ]
      },
      {
       "output_type": "stream",
       "stream": "stdout",
       "text": [
        "\n",
        "\u0413\u041e\u041b\u0422\u0412\u0410 was found."
       ]
      },
      {
       "output_type": "stream",
       "stream": "stdout",
       "text": [
        "\n",
        "\u0413\u041e\u041c\u0415\u041b\u042c was found."
       ]
      },
      {
       "output_type": "stream",
       "stream": "stdout",
       "text": [
        "\n",
        "\u0413\u041e\u041c\u041b\u042f was not found."
       ]
      },
      {
       "output_type": "stream",
       "stream": "stdout",
       "text": [
        "\n",
        "\u0413\u041e\u0420\u0411\u0410\u0422\u041e\u0412 was found."
       ]
      },
      {
       "output_type": "stream",
       "stream": "stdout",
       "text": [
        "\n",
        "\u0413\u041e\u0420\u0418\u0426\u042b was found."
       ]
      },
      {
       "output_type": "stream",
       "stream": "stdout",
       "text": [
        "\n",
        "\u0413\u041e\u0420\u041a\u0418 was found."
       ]
      },
      {
       "output_type": "stream",
       "stream": "stdout",
       "text": [
        "\n",
        "\u0413\u041e\u0420\u041e\u0414\u0418\u0429\u0415 was found."
       ]
      },
      {
       "output_type": "stream",
       "stream": "stdout",
       "text": [
        "\n",
        "\u0413\u041e\u0420\u041e\u0414\u0418\u0429\u0415 was found."
       ]
      },
      {
       "output_type": "stream",
       "stream": "stdout",
       "text": [
        "\n",
        "\u0413\u041e\u0420\u041e\u0414\u041d\u042f was found."
       ]
      },
      {
       "output_type": "stream",
       "stream": "stdout",
       "text": [
        "\n",
        "\u0413\u041e\u0420\u041e\u0414\u041d\u042f was found."
       ]
      },
      {
       "output_type": "stream",
       "stream": "stdout",
       "text": [
        "\n",
        "\u0413\u041e\u0420\u041e\u0414\u041e\u041a was found."
       ]
      },
      {
       "output_type": "stream",
       "stream": "stdout",
       "text": [
        "\n",
        "\u0413\u041e\u0420\u041e\u0425\u041e\u0412\u0415\u0426 was found."
       ]
      },
      {
       "output_type": "stream",
       "stream": "stdout",
       "text": [
        "\n",
        "\u0413\u041e\u0420\u041e\u0428\u0418\u041d was found."
       ]
      },
      {
       "output_type": "stream",
       "stream": "stdout",
       "text": [
        "\n",
        "\u0413\u0420\u0415\u0411\u0415\u041d\u0418\u0428\u041a\u0418 was not found."
       ]
      },
      {
       "output_type": "stream",
       "stream": "stdout",
       "text": [
        "\n",
        "\u0413\u0420\u0415\u041c\u042f\u0427\u0415\u0412 was found."
       ]
      },
      {
       "output_type": "stream",
       "stream": "stdout",
       "text": [
        "\n",
        "\u0413\u0420\u0415\u041c\u042f\u0427\u042c was found."
       ]
      },
      {
       "output_type": "stream",
       "stream": "stdout",
       "text": [
        "\n",
        "\u0413\u0420\u0418\u0422\u0427\u0418\u041d\u041e was found."
       ]
      },
      {
       "output_type": "stream",
       "stream": "stdout",
       "text": [
        "\n",
        "\u0413\u0420\u0423\u041d\u042c was found."
       ]
      },
      {
       "output_type": "stream",
       "stream": "stdout",
       "text": [
        "\n",
        "\u0413\u0420\u042f\u0417\u041d\u041e\u0415 was found."
       ]
      },
      {
       "output_type": "stream",
       "stream": "stdout",
       "text": [
        "\n",
        "\u0413\u0420\u042f\u0417\u041e\u0412\u0415\u0426 was found."
       ]
      },
      {
       "output_type": "stream",
       "stream": "stdout",
       "text": [
        "\n",
        "\u0413\u0423\u0421\u0422\u0418\u041d\u041e\u0412\u041e was not found."
       ]
      },
      {
       "output_type": "stream",
       "stream": "stdout",
       "text": [
        "\n",
        "\u0414\u0410\u0413\u0414\u0410 was not found."
       ]
      },
      {
       "output_type": "stream",
       "stream": "stdout",
       "text": [
        "\n",
        "\u0414\u0410\u0419\u041c\u0418\u041d\u041e was not found."
       ]
      },
      {
       "output_type": "stream",
       "stream": "stdout",
       "text": [
        "\n",
        "\u0414\u0410\u041b\u041c\u0410\u0422\u041e\u0412 was not found."
       ]
      },
      {
       "output_type": "stream",
       "stream": "stdout",
       "text": [
        "\n",
        "\u0414\u0412\u0423\u0420\u0415\u0427\u041d\u0410\u042f was found."
       ]
      },
      {
       "output_type": "stream",
       "stream": "stdout",
       "text": [
        "\n",
        "\u0414\u0415\u0419\u041c\u0410\u041d\u041e\u0412\u041a\u0410 was found."
       ]
      },
      {
       "output_type": "stream",
       "stream": "stdout",
       "text": [
        "\n",
        "\u0414\u0415\u041c\u0428\u0418\u041d\u0421\u041a was found."
       ]
      },
      {
       "output_type": "stream",
       "stream": "stdout",
       "text": [
        "\n",
        "\u0414\u0415\u0420\u0413\u0410\u0427\u0418 was found."
       ]
      },
      {
       "output_type": "stream",
       "stream": "stdout",
       "text": [
        "\n",
        "\u0414\u0415\u0420\u041a\u0423\u041b was found."
       ]
      },
      {
       "output_type": "stream",
       "stream": "stdout",
       "text": [
        "\n",
        "\u0414\u0415\u0420\u041f\u0422 was not found."
       ]
      },
      {
       "output_type": "stream",
       "stream": "stdout",
       "text": [
        "\n",
        "\u0414\u0418\u041d\u0410\u0411\u0423\u0420\u0413 was not found."
       ]
      },
      {
       "output_type": "stream",
       "stream": "stdout",
       "text": [
        "\n",
        "\u0414\u041c\u0418\u0422\u0420\u041e\u0412 was found."
       ]
      },
      {
       "output_type": "stream",
       "stream": "stdout",
       "text": [
        "\n",
        "\u0414\u041c\u0418\u0422\u0420\u041e\u0412\u041a\u0410 was found."
       ]
      },
      {
       "output_type": "stream",
       "stream": "stdout",
       "text": [
        "\n",
        "\u0414\u041c\u0418\u0422\u0420\u041e\u0412\u0421\u041a\u0410\u042f was not found."
       ]
      },
      {
       "output_type": "stream",
       "stream": "stdout",
       "text": [
        "\n",
        "\u0414\u041e\u0411\u0420\u0410\u042f was found."
       ]
      },
      {
       "output_type": "stream",
       "stream": "stdout",
       "text": [
        "\n",
        "New form: \u0414\u041e\u041c\u041d\u0418\u0426\u041a\u0418\u0419"
       ]
      },
      {
       "output_type": "stream",
       "stream": "stdout",
       "text": [
        "\n",
        "\u0414\u041e\u041c\u041d\u0418\u0426\u041a\u0418\u0419 was not found.\n",
        "\u0414\u041e\u041d\u041a\u041e\u0412 was not found."
       ]
      },
      {
       "output_type": "stream",
       "stream": "stdout",
       "text": [
        "\n",
        "\u0414\u041e\u0420\u041e\u0413\u041e\u0411\u0423\u0416 was found."
       ]
      },
      {
       "output_type": "stream",
       "stream": "stdout",
       "text": [
        "\n",
        "\u0414\u0420\u0418\u0426\u0410\u041d\u042b was not found."
       ]
      },
      {
       "output_type": "stream",
       "stream": "stdout",
       "text": [
        "\n",
        "New form: \u0414\u0423\u0411\u0415\u0426\u041a\u0418\u0419"
       ]
      },
      {
       "output_type": "stream",
       "stream": "stdout",
       "text": [
        "\n",
        "\u0414\u0423\u0411\u0415\u0426\u041a\u0418\u0419 was not found.\n",
        "\u0414\u0423\u0411\u041a\u041e\u0412 was not found."
       ]
      },
      {
       "output_type": "stream",
       "stream": "stdout",
       "text": [
        "\n",
        "\u0414\u0423\u0411\u041e\u0412\u041e\u0415 was found."
       ]
      },
      {
       "output_type": "stream",
       "stream": "stdout",
       "text": [
        "\n",
        "\u0414\u0423\u0411\u0420\u041e\u0412\u041a\u0418 was found."
       ]
      },
      {
       "output_type": "stream",
       "stream": "stdout",
       "text": [
        "\n",
        "\u0414\u0423\u0411\u0420\u041e\u0412\u041a\u0418 was found."
       ]
      },
      {
       "output_type": "stream",
       "stream": "stdout",
       "text": [
        "\n",
        "\u0414\u0423\u0411\u0420\u041e\u0412\u041d\u0410 was found."
       ]
      },
      {
       "output_type": "stream",
       "stream": "stdout",
       "text": [
        "\n",
        "\u0414\u0423\u041a\u0428\u0422\u0418\u041b\u0410\u0413 was not found."
       ]
      },
      {
       "output_type": "stream",
       "stream": "stdout",
       "text": [
        "\n",
        "\u0414\u0423\u041d\u0418\u041b\u041e\u0412\u041e was found."
       ]
      },
      {
       "output_type": "stream",
       "stream": "stdout",
       "text": [
        "\n",
        "\u0414\u0423\u0425\u041e\u0412\u0429\u0418\u041d\u0410 was found."
       ]
      },
      {
       "output_type": "stream",
       "stream": "stdout",
       "text": [
        "\n",
        "\u0414\u0423\u0428\u0410\u0422\u0418\u041d was found."
       ]
      },
      {
       "output_type": "stream",
       "stream": "stdout",
       "text": [
        "\n",
        "\u0414\u0415\u0414\u0418\u041b\u041e\u0412 was not found."
       ]
      },
      {
       "output_type": "stream",
       "stream": "stdout",
       "text": [
        "\n",
        "\u0414\u0415\u0414\u0418\u041d\u041e\u0412\u041e was found."
       ]
      },
      {
       "output_type": "stream",
       "stream": "stdout",
       "text": [
        "\n",
        "\u0415\u041a\u0410\u0422\u0415\u0420\u0418\u041d\u0418\u041d\u0421\u041a\u0410\u042f was found."
       ]
      },
      {
       "output_type": "stream",
       "stream": "stdout",
       "text": [
        "\n",
        "\u0415\u041b\u0410\u0422\u041c\u0410 was found."
       ]
      },
      {
       "output_type": "stream",
       "stream": "stdout",
       "text": [
        "\n",
        "\u0415\u041b\u0415\u0426 was found."
       ]
      },
      {
       "output_type": "stream",
       "stream": "stdout",
       "text": [
        "\n",
        "New form: \u0415\u041b\u0418\u041c\u0421\u041a\u0418\u0419"
       ]
      },
      {
       "output_type": "stream",
       "stream": "stdout",
       "text": [
        "\n",
        "\u0415\u041b\u0418\u041c\u0421\u041a\u0418\u0419 was not found.\n",
        "\u0415\u041b\u0418\u0421\u0410\u0412\u0415\u0422\u042a-\u0413\u0420\u0410\u0414 was not found."
       ]
      },
      {
       "output_type": "stream",
       "stream": "stdout",
       "text": [
        "\n",
        "\u0415\u041b\u041d\u0410 was found."
       ]
      },
      {
       "output_type": "stream",
       "stream": "stdout",
       "text": [
        "\n",
        "\u0415\u041d\u0418\u0421\u0415\u0419\u0421\u041a was found."
       ]
      },
      {
       "output_type": "stream",
       "stream": "stdout",
       "text": [
        "\n",
        "\u0415\u041f\u0418\u0424\u0410\u041d\u042c was found."
       ]
      },
      {
       "output_type": "stream",
       "stream": "stdout",
       "text": [
        "\n",
        "\u0415\u0420\u0410\u0425\u0422\u0423\u0420\u0410 was not found."
       ]
      },
      {
       "output_type": "stream",
       "stream": "stdout",
       "text": [
        "\n",
        "\u0415\u0420\u0415\u041c\u0415\u041d\u0426\u041e\u0412\u041e was not found."
       ]
      },
      {
       "output_type": "stream",
       "stream": "stdout",
       "text": [
        "\n",
        "\u0415\u0420\u0415\u041c\u0415\u0415\u0412\u041a\u0410 was found."
       ]
      },
      {
       "output_type": "stream",
       "stream": "stdout",
       "text": [
        "\n",
        "\u0415\u0421\u041a\u0415 was found."
       ]
      },
      {
       "output_type": "stream",
       "stream": "stdout",
       "text": [
        "\n",
        "\u0415\u0424\u0420\u0415\u041c\u041e\u0412 was found."
       ]
      },
      {
       "output_type": "stream",
       "stream": "stdout",
       "text": [
        "\n",
        "\u0416\u0418\u0413\u0410\u041d\u0421\u041a was found."
       ]
      },
      {
       "output_type": "stream",
       "stream": "stdout",
       "text": [
        "\n",
        "\u0416\u0418\u0417\u0414\u0420\u0410 was found."
       ]
      },
      {
       "output_type": "stream",
       "stream": "stdout",
       "text": [
        "\n",
        "\u0416\u041e\u0412\u041d\u0418\u041d was not found."
       ]
      },
      {
       "output_type": "stream",
       "stream": "stdout",
       "text": [
        "\n",
        "\u0416\u0423\u0420\u0410\u0412\u0418\u0427\u0418 was found."
       ]
      },
      {
       "output_type": "stream",
       "stream": "stdout",
       "text": [
        "\n",
        "\u0417\u0410\u0414\u0423\u0428\u041d\u041e\u0415 was found."
       ]
      },
      {
       "output_type": "stream",
       "stream": "stdout",
       "text": [
        "\n",
        "\u0417\u0410\u041c\u041e\u0428\u042c\u0415 was found."
       ]
      },
      {
       "output_type": "stream",
       "stream": "stdout",
       "text": [
        "\n",
        "\u0417\u0410\u0420\u0410\u0419\u0421\u041a was found."
       ]
      },
      {
       "output_type": "stream",
       "stream": "stdout",
       "text": [
        "\n",
        "\u0417\u0410\u0420\u0423\u0411\u0418\u041d\u041e was found."
       ]
      },
      {
       "output_type": "stream",
       "stream": "stdout",
       "text": [
        "\n",
        "\u0417\u0410\u0428\u0418\u0412\u0415\u0420\u0421\u041a was found."
       ]
      },
      {
       "output_type": "stream",
       "stream": "stdout",
       "text": [
        "\n",
        "\u0417\u0412\u0415\u041d\u0418\u0413\u041e\u0420\u041e\u0414 was found."
       ]
      },
      {
       "output_type": "stream",
       "stream": "stdout",
       "text": [
        "\n",
        "\u0417\u0415\u041c\u041b\u042f\u041d\u0421\u041a was found."
       ]
      },
      {
       "output_type": "stream",
       "stream": "stdout",
       "text": [
        "\n",
        "\u0417\u0418\u041d\u041a\u041e\u0412 was not found."
       ]
      },
      {
       "output_type": "stream",
       "stream": "stdout",
       "text": [
        "\n",
        "\u0417\u041c\u0415\u0415\u0412\u0415 was not found."
       ]
      },
      {
       "output_type": "stream",
       "stream": "stdout",
       "text": [
        "\n",
        "\u0417\u041c\u0415\u0422\u041d\u0415\u0412 was found."
       ]
      },
      {
       "output_type": "stream",
       "stream": "stdout",
       "text": [
        "\n",
        "\u0417\u041e\u041b\u041e\u0422\u041e\u041d\u041e\u0428\u0410 was found."
       ]
      },
      {
       "output_type": "stream",
       "stream": "stdout",
       "text": [
        "\n",
        "\u0417\u041e\u041b\u041e\u0427\u0415\u0412 was found."
       ]
      },
      {
       "output_type": "stream",
       "stream": "stdout",
       "text": [
        "\n",
        "\u0417\u0423\u0411\u0426\u041e\u0412 was found."
       ]
      },
      {
       "output_type": "stream",
       "stream": "stdout",
       "text": [
        "\n",
        "\u0418\u0412\u0410\u041d\u0413\u041e\u0420\u041e\u0414 was found."
       ]
      },
      {
       "output_type": "stream",
       "stream": "stdout",
       "text": [
        "\n",
        "\u0418\u0412\u0410\u041d\u041e\u0412\u041a\u0410 was found."
       ]
      },
      {
       "output_type": "stream",
       "stream": "stdout",
       "text": [
        "\n",
        "\u0418\u0412\u0410\u041d\u041e\u0412\u041a\u0410 was found."
       ]
      },
      {
       "output_type": "stream",
       "stream": "stdout",
       "text": [
        "\n",
        "\u0418\u0412\u0410\u041d\u041e\u0412\u041e was found."
       ]
      },
      {
       "output_type": "stream",
       "stream": "stdout",
       "text": [
        "\n",
        "\u0418\u0412\u0410\u041d\u041e\u0412\u041e was found."
       ]
      },
      {
       "output_type": "stream",
       "stream": "stdout",
       "text": [
        "\n",
        "\u0418\u0412\u0410\u041d\u041e\u0412\u0421\u041a\u041e\u0415 was found."
       ]
      },
      {
       "output_type": "stream",
       "stream": "stdout",
       "text": [
        "\n",
        "\u0418\u0412\u0410\u041d\u041e\u0412\u0421\u041a\u041e\u0415 was found."
       ]
      },
      {
       "output_type": "stream",
       "stream": "stdout",
       "text": [
        "\n",
        "\u0418\u0412\u0410\u041d\u041e\u0412\u0421\u041a\u041e\u0415 was found."
       ]
      },
      {
       "output_type": "stream",
       "stream": "stdout",
       "text": [
        "\n",
        "\u0418\u0412\u0410\u041d\u041e\u0412\u0426\u042b was found."
       ]
      },
      {
       "output_type": "stream",
       "stream": "stdout",
       "text": [
        "\n",
        "\u0418\u0412\u0418\u0426\u0410 was found."
       ]
      },
      {
       "output_type": "stream",
       "stream": "stdout",
       "text": [
        "\n",
        "\u0418\u0413\u0420\u0418\u0429\u0418 was found."
       ]
      },
      {
       "output_type": "stream",
       "stream": "stdout",
       "text": [
        "\n",
        "\u0418\u0413\u0423\u041c\u041d\u041e\u0412\u041e was found."
       ]
      },
      {
       "output_type": "stream",
       "stream": "stdout",
       "text": [
        "\n",
        "\u0418\u0417\u041c\u0410\u0419\u041b\u041e\u0412\u041e was found."
       ]
      },
      {
       "output_type": "stream",
       "stream": "stdout",
       "text": [
        "\n",
        "\u0418\u0417\u042e\u041c was not found."
       ]
      },
      {
       "output_type": "stream",
       "stream": "stdout",
       "text": [
        "\n",
        "\u0418\u041b\u042c\u0418\u041d\u0421\u041a\u041e\u0415 was found."
       ]
      },
      {
       "output_type": "stream",
       "stream": "stdout",
       "text": [
        "\n",
        "\u0418\u041d\u0416\u0410\u0412\u0415\u041d\u042c\u0415 was not found."
       ]
      },
      {
       "output_type": "stream",
       "stream": "stdout",
       "text": [
        "\n",
        "\u0418\u041d\u0421\u0410\u0420\u0410 was not found."
       ]
      },
      {
       "output_type": "stream",
       "stream": "stdout",
       "text": [
        "\n",
        "\u0418\u0420\u0411\u0418\u0422 was found."
       ]
      },
      {
       "output_type": "stream",
       "stream": "stdout",
       "text": [
        "\n",
        "\u0418\u0420\u041a\u0423\u0422\u0421\u041a was found."
       ]
      },
      {
       "output_type": "stream",
       "stream": "stdout",
       "text": [
        "\n",
        "\u0418\u0421\u0410 was found."
       ]
      },
      {
       "output_type": "stream",
       "stream": "stdout",
       "text": [
        "\n",
        "\u0418\u0421\u0415\u0422\u0421\u041a\u0410\u042f was not found."
       ]
      },
      {
       "output_type": "stream",
       "stream": "stdout",
       "text": [
        "\n",
        "\u0418\u0421\u0422\u0410\u041b\u0415\u041d\u0410 was not found."
       ]
      },
      {
       "output_type": "stream",
       "stream": "stdout",
       "text": [
        "\n",
        "\u0418\u0427\u041d\u0410 was not found."
       ]
      },
      {
       "output_type": "stream",
       "stream": "stdout",
       "text": [
        "\n",
        "\u0418\u041e\u0421\u0418\u0424\u041e\u0412 was not found."
       ]
      },
      {
       "output_type": "stream",
       "stream": "stdout",
       "text": [
        "\n",
        "\u0418\u041e\u0421\u0418\u0424\u041e\u0412 was not found."
       ]
      },
      {
       "output_type": "stream",
       "stream": "stdout",
       "text": [
        "\n",
        "\u041a\u0410\u0414\u0418\u041d was found."
       ]
      },
      {
       "output_type": "stream",
       "stream": "stdout",
       "text": [
        "\n",
        "\u041a\u0410\u0414\u041e\u041c was found."
       ]
      },
      {
       "output_type": "stream",
       "stream": "stdout",
       "text": [
        "\n",
        "New form: \u041a\u0410\u0417\u0410\u041d\u0421\u041a\u0418\u0419 \u0411\u041e\u0413\u041e\u0420\u041e\u0414\u0418\u0426\u041a\u0418\u0419"
       ]
      },
      {
       "output_type": "stream",
       "stream": "stdout",
       "text": [
        "\n",
        "\u041a\u0410\u0417\u0410\u041d\u0421\u041a\u0418\u0419 \u0411\u041e\u0413\u041e\u0420\u041e\u0414\u0418\u0426\u041a\u0418\u0419 was not found.\n",
        "\u041a\u0410\u041b\u0418\u0411\u0415\u0420\u0414\u0410 was found."
       ]
      },
      {
       "output_type": "stream",
       "stream": "stdout",
       "text": [
        "\n",
        "\u041a\u0410\u041b\u0418\u041d\u041a\u0418\u041d\u041e was found."
       ]
      },
      {
       "output_type": "stream",
       "stream": "stdout",
       "text": [
        "\n",
        "\u041a\u0410\u041c\u0415\u041d\u0415\u0426 was found."
       ]
      },
      {
       "output_type": "stream",
       "stream": "stdout",
       "text": [
        "\n",
        "\u041a\u0410\u041c\u0415\u041d\u041a\u0410 was found."
       ]
      },
      {
       "output_type": "stream",
       "stream": "stdout",
       "text": [
        "\n",
        "\u041a\u0410\u041c\u042b\u0428\u041d\u042f was found."
       ]
      },
      {
       "output_type": "stream",
       "stream": "stdout",
       "text": [
        "\n",
        "\u041a\u0410\u0420\u0410\u0421\u0423 - \u0411\u0410\u0417\u0410\u0420 was not found."
       ]
      },
      {
       "output_type": "stream",
       "stream": "stdout",
       "text": [
        "\n",
        "\u041a\u0410\u0420\u041b\u041e\u0412\u041a\u0410 was found."
       ]
      },
      {
       "output_type": "stream",
       "stream": "stdout",
       "text": [
        "\n",
        "\u041a\u0410\u0420\u041c was found."
       ]
      },
      {
       "output_type": "stream",
       "stream": "stdout",
       "text": [
        "\n",
        "\u041a\u0410\u0420\u041e\u0427\u0410 was not found."
       ]
      },
      {
       "output_type": "stream",
       "stream": "stdout",
       "text": [
        "\n",
        "\u041a\u0410\u0420\u041f\u041e\u0412\u041a\u0410 was found."
       ]
      },
      {
       "output_type": "stream",
       "stream": "stdout",
       "text": [
        "\n",
        "\u041a\u0410\u0421\u0418\u041c\u041e\u0412 was found."
       ]
      },
      {
       "output_type": "stream",
       "stream": "stdout",
       "text": [
        "\n",
        "New form: \u041a\u0418\u0422\u0410\u0419\u0421\u041a\u0418\u0419"
       ]
      },
      {
       "output_type": "stream",
       "stream": "stdout",
       "text": [
        "\n",
        "\u041a\u0418\u0422\u0410\u0419\u0421\u041a\u0418\u0419 was not found.\n",
        "\u041a\u0410\u0428\u0418\u041d was found."
       ]
      },
      {
       "output_type": "stream",
       "stream": "stdout",
       "text": [
        "\n",
        "\u041a\u0415\u041c\u0410\u0420\u042b was found."
       ]
      },
      {
       "output_type": "stream",
       "stream": "stdout",
       "text": [
        "\n",
        "\u041a\u0415\u0420\u0415\u041d\u0421\u041a was found."
       ]
      },
      {
       "output_type": "stream",
       "stream": "stdout",
       "text": [
        "\n",
        "\u041a\u0415\u0421\u041c\u0415 was found."
       ]
      },
      {
       "output_type": "stream",
       "stream": "stdout",
       "text": [
        "\n",
        "\u041a\u0415\u0421\u041e\u0412\u0410 \u0413\u041e\u0420\u0410 was found."
       ]
      },
      {
       "output_type": "stream",
       "stream": "stdout",
       "text": [
        "\n",
        "\u041a\u0418\u0414\u0415\u0428\u041a\u0418\u041d\u041e was not found."
       ]
      },
      {
       "output_type": "stream",
       "stream": "stdout",
       "text": [
        "\n",
        "\u041a\u0418\u041c\u0420\u042b was found."
       ]
      },
      {
       "output_type": "stream",
       "stream": "stdout",
       "text": [
        "\n",
        "\u041a\u0418\u041d\u0415\u0428\u041c\u0410 was found."
       ]
      },
      {
       "output_type": "stream",
       "stream": "stdout",
       "text": [
        "\n",
        "\u041a\u0418\u0420\u0415\u041d\u0421\u041a was found."
       ]
      },
      {
       "output_type": "stream",
       "stream": "stdout",
       "text": [
        "\n",
        "\u041a\u0418\u0420\u0418\u041b\u041e\u0412 was not found."
       ]
      },
      {
       "output_type": "stream",
       "stream": "stdout",
       "text": [
        "\n",
        "\u041a\u0418\u0420\u0418\u041b\u041e\u0415\u041e was not found."
       ]
      },
      {
       "output_type": "stream",
       "stream": "stdout",
       "text": [
        "\n",
        "\u041a\u0418\u0420\u0421\u0410\u041d\u041e\u0412 was found."
       ]
      },
      {
       "output_type": "stream",
       "stream": "stdout",
       "text": [
        "\n",
        "\u041a\u0418\u0421\u0422\u0415\u0420 was found."
       ]
      },
      {
       "output_type": "stream",
       "stream": "stdout",
       "text": [
        "\n",
        "\u041a\u0418\u0421\u0422\u0420\u0423\u0421\u0410 was not found."
       ]
      },
      {
       "output_type": "stream",
       "stream": "stdout",
       "text": [
        "\n",
        "\u041a\u0418\u0422\u0410\u0419 - \u0413\u041e\u0420\u041e\u0414\u041e\u041a was not found."
       ]
      },
      {
       "output_type": "stream",
       "stream": "stdout",
       "text": [
        "\n",
        "\u041a\u0418\u0428\u0415\u041d\u042c\u041a\u0410 was not found."
       ]
      },
      {
       "output_type": "stream",
       "stream": "stdout",
       "text": [
        "\n",
        "\u041a\u0418\u0410\u0421\u041e\u0412\u041a\u0410 was not found."
       ]
      },
      {
       "output_type": "stream",
       "stream": "stdout",
       "text": [
        "\n",
        "\u041a\u0418\u0410\u0422\u0410 was not found."
       ]
      },
      {
       "output_type": "stream",
       "stream": "stdout",
       "text": [
        "\n",
        "\u041a\u041b\u0418\u041d was found."
       ]
      },
      {
       "output_type": "stream",
       "stream": "stdout",
       "text": [
        "\n",
        "\u041a\u041b\u042e\u0427\u0415\u0412\u0421\u041a\u0410\u042f was found."
       ]
      },
      {
       "output_type": "stream",
       "stream": "stdout",
       "text": [
        "\n",
        "\u041a\u041d\u042f\u0413\u0418\u041d\u0418\u041d was found."
       ]
      },
      {
       "output_type": "stream",
       "stream": "stdout",
       "text": [
        "\n",
        "\u041a\u041e\u0411\u042b\u0417\u0427\u0410 was not found."
       ]
      },
      {
       "output_type": "stream",
       "stream": "stdout",
       "text": [
        "\n",
        "\u041a\u041e\u0411\u042b\u041b\u042f\u041a was not found."
       ]
      },
      {
       "output_type": "stream",
       "stream": "stdout",
       "text": [
        "\n",
        "\u041a\u041e\u0412\u0420\u041e\u0412 was found."
       ]
      },
      {
       "output_type": "stream",
       "stream": "stdout",
       "text": [
        "\n",
        "\u041a\u041e\u0412\u042b\u041c\u0421\u041a\u041e\u0415 was not found."
       ]
      },
      {
       "output_type": "stream",
       "stream": "stdout",
       "text": [
        "\n",
        "\u041a\u041e\u0414\u0418\u041d\u0421\u041a\u041e\u0415 was not found."
       ]
      },
      {
       "output_type": "stream",
       "stream": "stdout",
       "text": [
        "\n",
        "\u041a\u041e\u0416\u0418\u041d\u041e was found."
       ]
      },
      {
       "output_type": "stream",
       "stream": "stdout",
       "text": [
        "\n",
        "\u041a\u041e\u0417\u0415\u041b\u0415\u0426 was found."
       ]
      },
      {
       "output_type": "stream",
       "stream": "stdout",
       "text": [
        "\n",
        "\u041a\u041e\u0417\u0415\u041b\u042c\u0421\u041a was found."
       ]
      },
      {
       "output_type": "stream",
       "stream": "stdout",
       "text": [
        "\n",
        "\u041a\u041e\u0417\u041b\u041e\u0412 was found."
       ]
      },
      {
       "output_type": "stream",
       "stream": "stdout",
       "text": [
        "\n",
        "\u041a\u041e\u0417\u041b\u041e\u0412\u041a\u0410 was found."
       ]
      },
      {
       "output_type": "stream",
       "stream": "stdout",
       "text": [
        "\n",
        "\u041a\u041e\u0417\u041b\u041e\u0412\u0421\u041a\u0410\u042f was found."
       ]
      },
      {
       "output_type": "stream",
       "stream": "stdout",
       "text": [
        "\n",
        "\u041a\u041e\u041a\u0412\u0418\u041d\u041e was not found."
       ]
      },
      {
       "output_type": "stream",
       "stream": "stdout",
       "text": [
        "\n",
        "\u041a\u041e\u041b\u041e\u041c\u041d\u0410 was found."
       ]
      },
      {
       "output_type": "stream",
       "stream": "stdout",
       "text": [
        "\n",
        "\u041a\u041e\u041b\u042e\u041f\u0410\u041d\u041e\u0412\u041a\u0410 was found."
       ]
      },
      {
       "output_type": "stream",
       "stream": "stdout",
       "text": [
        "\n",
        "\u041a\u041e\u041c\u0415\u041b\u042c\u0421\u041a \u041a\u041e\u0420\u041d\u0418 \u041b\u0418\u0415\u0412 was not found."
       ]
      },
      {
       "output_type": "stream",
       "stream": "stdout",
       "text": [
        "\n",
        "\u041a\u041e\u041c\u041b\u0418\u0427\u041a\u0418 was not found."
       ]
      },
      {
       "output_type": "stream",
       "stream": "stdout",
       "text": [
        "\n",
        "\u041a\u041e\u041d\u041e\u0411\u0415\u0415\u0412\u041e was found."
       ]
      },
      {
       "output_type": "stream",
       "stream": "stdout",
       "text": [
        "\n",
        "\u041a\u041e\u041d\u041e\u0422\u041e\u041f was found."
       ]
      },
      {
       "output_type": "stream",
       "stream": "stdout",
       "text": [
        "\n",
        "\u041a\u041e\u041d\u0421\u0422\u0410\u041d\u0422\u0418\u041d\u041e\u0412\u041e was found."
       ]
      },
      {
       "output_type": "stream",
       "stream": "stdout",
       "text": [
        "\n",
        "\u041a\u041e\u041d\u0421\u0422\u0410\u041d\u0422\u0418\u041d\u041e\u0412\u0421\u041a\u041e\u0415 was found."
       ]
      },
      {
       "output_type": "stream",
       "stream": "stdout",
       "text": [
        "\n",
        "\u041a\u041e\u041f\u0420\u0418\u041d\u041e was found."
       ]
      },
      {
       "output_type": "stream",
       "stream": "stdout",
       "text": [
        "\n",
        "\u041a\u041e\u0420\u0415\u041d\u041d\u0410\u042f was found."
       ]
      },
      {
       "output_type": "stream",
       "stream": "stdout",
       "text": [
        "\n",
        "\u041a\u041e\u0420\u041e\u0412\u0410\u0419 was found."
       ]
      },
      {
       "output_type": "stream",
       "stream": "stdout",
       "text": [
        "\n",
        "\u041a\u041e\u0420\u041e\u041f was found."
       ]
      },
      {
       "output_type": "stream",
       "stream": "stdout",
       "text": [
        "\n",
        "\u041a\u041e\u0420\u041e\u0422\u041e\u042f\u041a was found."
       ]
      },
      {
       "output_type": "stream",
       "stream": "stdout",
       "text": [
        "\n",
        "\u041a\u041e\u0420\u0421\u0423\u041d\u042c was found."
       ]
      },
      {
       "output_type": "stream",
       "stream": "stdout",
       "text": [
        "\n",
        "\u041a\u041e\u0421\u0422\u0420\u041e\u041c\u0410 was found."
       ]
      },
      {
       "output_type": "stream",
       "stream": "stdout",
       "text": [
        "\n",
        "\u041a\u041e\u0421\u0422\u042e\u041a\u041e\u0412\u0418\u0427\u0418 was found."
       ]
      },
      {
       "output_type": "stream",
       "stream": "stdout",
       "text": [
        "\n",
        "\u041a\u041e\u0422\u0415\u041b\u042c\u0412\u0410 was not found."
       ]
      },
      {
       "output_type": "stream",
       "stream": "stdout",
       "text": [
        "\n",
        "\u041a\u041e\u0422\u0415\u041b\u042c\u041d\u0418\u0427\u042c was found."
       ]
      },
      {
       "output_type": "stream",
       "stream": "stdout",
       "text": [
        "\n",
        "\u041a\u041e\u0427\u0415\u041b\u0410\u0415\u0412\u041e was found."
       ]
      },
      {
       "output_type": "stream",
       "stream": "stdout",
       "text": [
        "\n",
        "\u041a\u041e\u0428\u0418\u0420\u0410 was not found."
       ]
      },
      {
       "output_type": "stream",
       "stream": "stdout",
       "text": [
        "\n",
        "\u041a\u0420\u0410\u041f\u0418\u0412\u041d\u0410 was found."
       ]
      },
      {
       "output_type": "stream",
       "stream": "stdout",
       "text": [
        "\n",
        "\u041a\u0420\u0410\u041f\u0418\u0412\u041d\u0410 was found."
       ]
      },
      {
       "output_type": "stream",
       "stream": "stdout",
       "text": [
        "\n",
        "\u041a\u0420\u0410\u0421\u041d\u041e\u0411\u041e\u0420\u0421\u041a was found."
       ]
      },
      {
       "output_type": "stream",
       "stream": "stdout",
       "text": [
        "\n",
        "\u041a\u0420\u0410\u0421\u041d\u041e\u0413\u041e\u0420\u0421\u041a\u0410\u042f was found."
       ]
      },
      {
       "output_type": "stream",
       "stream": "stdout",
       "text": [
        "\n",
        "\u041a\u0420\u0410\u0421\u041d\u041e\u0415 was found."
       ]
      },
      {
       "output_type": "stream",
       "stream": "stdout",
       "text": [
        "\n",
        "\u041a\u0420\u0410\u0421\u041d\u041e\u0415 was found."
       ]
      },
      {
       "output_type": "stream",
       "stream": "stdout",
       "text": [
        "\n",
        "New form: \u041a\u0420\u0410\u0421\u041d\u0418\u0419 \u041a\u041e\u041b\u042f\u0414\u0418\u041d"
       ]
      },
      {
       "output_type": "stream",
       "stream": "stdout",
       "text": [
        "\n",
        "\u041a\u0420\u0410\u0421\u041d\u0418\u0419 \u041a\u041e\u041b\u042f\u0414\u0418\u041d was not found.\n",
        "New form: \u041a\u0420\u0410\u0421\u041d\u041e\u041a\u0410\u041c\u0415\u041d\u0421\u041a\u0418\u0419"
       ]
      },
      {
       "output_type": "stream",
       "stream": "stdout",
       "text": [
        "\n",
        "\u041a\u0420\u0410\u0421\u041d\u041e\u041a\u0410\u041c\u0415\u041d\u0421\u041a\u0418\u0419 was not found.\n",
        "\u041a\u0420\u0410\u0421\u041d\u041e\u041a\u0423\u0422\u0421\u041a was found."
       ]
      },
      {
       "output_type": "stream",
       "stream": "stdout",
       "text": [
        "\n",
        "\u041a\u0420\u0410\u0421\u041d\u041e\u041f\u041e\u041b\u042c was found."
       ]
      },
      {
       "output_type": "stream",
       "stream": "stdout",
       "text": [
        "\n",
        "\u041a\u0420\u0410\u0421\u041d\u041e\u041f\u041e\u041b\u042c\u0415 was found."
       ]
      },
      {
       "output_type": "stream",
       "stream": "stdout",
       "text": [
        "\n",
        "\u041a\u0420\u0410\u0421\u041d\u041e\u0421\u041b\u041e\u0411\u041e\u0414\u0421\u041a was found."
       ]
      },
      {
       "output_type": "stream",
       "stream": "stdout",
       "text": [
        "\n",
        "New form: \u041a\u0420\u0415\u041c\u0415\u041d\u041d\u0418\u0419"
       ]
      },
      {
       "output_type": "stream",
       "stream": "stdout",
       "text": [
        "\n",
        "\u041a\u0420\u0415\u041c\u0415\u041d\u041d\u0418\u0419 was not found.\n",
        "\u041a\u0420\u0415\u041c\u0415\u041d\u0427\u0423\u0413 was found."
       ]
      },
      {
       "output_type": "stream",
       "stream": "stdout",
       "text": [
        "\n",
        "\u041a\u0420\u0415\u0421\u041b\u0410\u0412\u041b\u042c was not found."
       ]
      },
      {
       "output_type": "stream",
       "stream": "stdout",
       "text": [
        "\n",
        "\u041a\u0420\u0415\u0421\u0422\u0426\u042b was found."
       ]
      },
      {
       "output_type": "stream",
       "stream": "stdout",
       "text": [
        "\n",
        "\u041a\u0420\u0418\u0412\u041e\u041d\u0410\u0412\u041e\u041b\u041e\u0426\u041a\u0410\u042f was not found."
       ]
      },
      {
       "output_type": "stream",
       "stream": "stdout",
       "text": [
        "\n",
        "\u041a\u0420\u0418\u0412\u0426\u041e was not found."
       ]
      },
      {
       "output_type": "stream",
       "stream": "stdout",
       "text": [
        "\n",
        "\u041a\u0420\u0418\u0416\u0411\u0423\u0420\u0413 was not found."
       ]
      },
      {
       "output_type": "stream",
       "stream": "stdout",
       "text": [
        "\n",
        "\u041a\u0420\u041e\u041b\u0415\u0412\u0415\u0426 was found."
       ]
      },
      {
       "output_type": "stream",
       "stream": "stdout",
       "text": [
        "\n",
        "\u041a\u0420\u041e\u041c\u042b was found."
       ]
      },
      {
       "output_type": "stream",
       "stream": "stdout",
       "text": [
        "\n",
        "\u041a\u0420\u042b\u041b\u041e\u0412 was found."
       ]
      },
      {
       "output_type": "stream",
       "stream": "stdout",
       "text": [
        "\n",
        "\u041a\u0420\u042b\u041b\u0415\u0415\u0412\u041e was not found."
       ]
      },
      {
       "output_type": "stream",
       "stream": "stdout",
       "text": [
        "\n",
        "\u041a\u0420\u042e\u041a\u041e\u0412 was found."
       ]
      },
      {
       "output_type": "stream",
       "stream": "stdout",
       "text": [
        "\n",
        "\u041a\u0423\u0411\u0415\u041d\u0421\u041a\u041e\u0415 was found."
       ]
      },
      {
       "output_type": "stream",
       "stream": "stdout",
       "text": [
        "\n",
        "\u041a\u0423\u0414\u0410\u0420\u0418\u041d\u0421\u041a\u0410\u042f was not found."
       ]
      },
      {
       "output_type": "stream",
       "stream": "stdout",
       "text": [
        "\n",
        "\u041a\u0423\u0417\u041d\u0415\u0426\u041a was found."
       ]
      },
      {
       "output_type": "stream",
       "stream": "stdout",
       "text": [
        "\n",
        "\u041a\u0423\u041c\u0417\u0415\u0420\u0421\u041a\u0410\u042f was not found."
       ]
      },
      {
       "output_type": "stream",
       "stream": "stdout",
       "text": [
        "\n",
        "\u041a\u0423\u041d\u0413\u0423\u0420 was found."
       ]
      },
      {
       "output_type": "stream",
       "stream": "stdout",
       "text": [
        "\n",
        "\u041a\u0423\u041f\u0415\u041d\u041a\u0410 was not found."
       ]
      },
      {
       "output_type": "stream",
       "stream": "stdout",
       "text": [
        "\n",
        "\u041a\u0423\u0420\u0415\u041d\u042c\u041a\u0418 was found."
       ]
      },
      {
       "output_type": "stream",
       "stream": "stdout",
       "text": [
        "\n",
        "\u041a\u0423\u0420\u042c\u042f\u041d\u041e\u0412\u041e was found."
       ]
      },
      {
       "output_type": "stream",
       "stream": "stdout",
       "text": [
        "\n",
        "\u041b\u0410\u0414\u0410 was found."
       ]
      },
      {
       "output_type": "stream",
       "stream": "stdout",
       "text": [
        "\n",
        "New form: \u041b\u0410\u0414\u0418\u041d\u0421\u041a\u0418\u0419"
       ]
      },
      {
       "output_type": "stream",
       "stream": "stdout",
       "text": [
        "\n",
        "\u041b\u0410\u0414\u0418\u041d\u0421\u041a\u0418\u0419 was not found.\n",
        "\u041b\u0410\u0414\u041e\u0413\u0410 \u041d\u041e\u0412\u0410\u042f was found."
       ]
      },
      {
       "output_type": "stream",
       "stream": "stdout",
       "text": [
        "\n",
        "\u041b\u0410\u0417\u041e\u0412\u0418\u0426\u0410 was found."
       ]
      },
      {
       "output_type": "stream",
       "stream": "stdout",
       "text": [
        "\n",
        "\u041b\u0410\u0418\u0428\u0415\u0412 was found."
       ]
      },
      {
       "output_type": "stream",
       "stream": "stdout",
       "text": [
        "\n",
        "\u041b\u0410\u041a\u041d\u041e\u0412\u0410\u0422\u042c was not found."
       ]
      },
      {
       "output_type": "stream",
       "stream": "stdout",
       "text": [
        "\n",
        "\u041b\u0410\u041b\u042c\u0421\u041a was found."
       ]
      },
      {
       "output_type": "stream",
       "stream": "stdout",
       "text": [
        "\n",
        "\u041b\u0410\u041f\u0421\u0422\u0420\u0410\u041d\u0414 was not found."
       ]
      },
      {
       "output_type": "stream",
       "stream": "stdout",
       "text": [
        "\n",
        "\u041b\u0415\u0411\u0415\u0414\u0418\u041d was found."
       ]
      },
      {
       "output_type": "stream",
       "stream": "stdout",
       "text": [
        "\n",
        "\u041b\u0415\u0411\u0415\u0414\u042f\u041d\u042c was found."
       ]
      },
      {
       "output_type": "stream",
       "stream": "stdout",
       "text": [
        "\n",
        "\u041b\u0415\u0412\u041a\u0418\u0415\u0412 was not found."
       ]
      },
      {
       "output_type": "stream",
       "stream": "stdout",
       "text": [
        "\n",
        "\u041b\u0415\u0416\u041d\u0415\u0412\u041e was found."
       ]
      },
      {
       "output_type": "stream",
       "stream": "stdout",
       "text": [
        "\n",
        "\u041b\u0418\u0412\u041d\u042b was found."
       ]
      },
      {
       "output_type": "stream",
       "stream": "stdout",
       "text": [
        "\n",
        "\u041b\u0418\u041c\u0410\u041d\u042c was found."
       ]
      },
      {
       "output_type": "stream",
       "stream": "stdout",
       "text": [
        "\n",
        "\u041b\u0418\u041f\u0415\u0426\u041a was not found."
       ]
      },
      {
       "output_type": "stream",
       "stream": "stdout",
       "text": [
        "\n",
        "\u041b\u0418\u041f\u041e\u0412\u0421\u041a\u041e\u0415 was found."
       ]
      },
      {
       "output_type": "stream",
       "stream": "stdout",
       "text": [
        "\n",
        "\u041b\u0418\u041f\u0426\u042b was found."
       ]
      },
      {
       "output_type": "stream",
       "stream": "stdout",
       "text": [
        "\n",
        "New form: \u041b\u0418\u0421\u041a\u0418\u0419"
       ]
      },
      {
       "output_type": "stream",
       "stream": "stdout",
       "text": [
        "\n",
        "\u041b\u0418\u0421\u041a\u0418\u0419 was not found.\n",
        "\u041b\u0418\u0425\u0412\u0418\u041d was found."
       ]
      },
      {
       "output_type": "stream",
       "stream": "stdout",
       "text": [
        "\n",
        "\u041b\u041e\u041f\u041e\u0422\u041e\u0412 was not found."
       ]
      },
      {
       "output_type": "stream",
       "stream": "stdout",
       "text": [
        "\n",
        "\u041b\u041e\u0422\u0421\u0428\u0418\u041d\u041e was not found."
       ]
      },
      {
       "output_type": "stream",
       "stream": "stdout",
       "text": [
        "\n",
        "\u041b\u041e\u0425\u0412\u0418\u0426\u0410 was found."
       ]
      },
      {
       "output_type": "stream",
       "stream": "stdout",
       "text": [
        "\n",
        "\u041b\u0423\u0416\u041a\u0418 was found."
       ]
      },
      {
       "output_type": "stream",
       "stream": "stdout",
       "text": [
        "\n",
        "\u041b\u0423\u041a\u041e\u041c\u041b\u042f was not found."
       ]
      },
      {
       "output_type": "stream",
       "stream": "stdout",
       "text": [
        "\n",
        "\u041b\u0423\u041a\u041e\u042f\u041d\u041e\u0412 was found."
       ]
      },
      {
       "output_type": "stream",
       "stream": "stdout",
       "text": [
        "\n",
        "\u041b\u0423\u0425 was found."
       ]
      },
      {
       "output_type": "stream",
       "stream": "stdout",
       "text": [
        "\n",
        "\u041b\u042c\u0413\u041e\u0412 was found."
       ]
      },
      {
       "output_type": "stream",
       "stream": "stdout",
       "text": [
        "\n",
        "\u041b\u0415\u0412\u042b\u0415 \u041b\u0410\u041c\u041a\u0418 was found."
       ]
      },
      {
       "output_type": "stream",
       "stream": "stdout",
       "text": [
        "\n",
        "\u041b\u042e\u0411\u0410\u0412\u0418\u0427\u0418 was found."
       ]
      },
      {
       "output_type": "stream",
       "stream": "stdout",
       "text": [
        "\n",
        "\u041b\u042e\u0411\u0415\u0427\u042c was found."
       ]
      },
      {
       "output_type": "stream",
       "stream": "stdout",
       "text": [
        "\n",
        "\u041b\u042e\u0411\u0418\u041c was found."
       ]
      },
      {
       "output_type": "stream",
       "stream": "stdout",
       "text": [
        "\n",
        "\u041b\u042e\u0422\u0415\u041d\u041a\u0410 was found."
       ]
      },
      {
       "output_type": "stream",
       "stream": "stdout",
       "text": [
        "\n",
        "\u041b\u042f\u0414\u042b was found."
       ]
      },
      {
       "output_type": "stream",
       "stream": "stdout",
       "text": [
        "\n",
        "\u041b\u042f\u0423\u0414\u0415\u0420\u0410 was not found."
       ]
      },
      {
       "output_type": "stream",
       "stream": "stdout",
       "text": [
        "\n",
        "\u041c\u0410\u041a\u0410\u041b\u041e\u0412\u041e was not found."
       ]
      },
      {
       "output_type": "stream",
       "stream": "stdout",
       "text": [
        "\n",
        "\u041c\u0410\u041a\u0410\u0420\u041e\u0412\u041e was found."
       ]
      },
      {
       "output_type": "stream",
       "stream": "stdout",
       "text": [
        "\n",
        "\u041c\u0410\u041a\u0410\u0420\u042c\u0415\u0412 was found."
       ]
      },
      {
       "output_type": "stream",
       "stream": "stdout",
       "text": [
        "\n"
       ]
      }
     ],
     "prompt_number": 38
    },
    {
     "cell_type": "code",
     "collapsed": false,
     "input": [
      "geodf = pd.DataFrame(geocoded,columns=['hgr_id','placename','admin1','country_name','lat','lng','src_id','country_code','url','src'])"
     ],
     "language": "python",
     "metadata": {},
     "outputs": [],
     "prompt_number": 39
    },
    {
     "cell_type": "code",
     "collapsed": false,
     "input": [
      "geodf.to_excel('geocoded.xlsx',encoding='utf-8')"
     ],
     "language": "python",
     "metadata": {},
     "outputs": [],
     "prompt_number": 46
    },
    {
     "cell_type": "code",
     "collapsed": false,
     "input": [
      "geodf.ix[geodf.placename!='not_found']"
     ],
     "language": "python",
     "metadata": {},
     "outputs": [
      {
       "html": [
        "<div style=\"max-height:1000px;max-width:1500px;overflow:auto;\">\n",
        "<table border=\"1\" class=\"dataframe\">\n",
        "  <thead>\n",
        "    <tr style=\"text-align: right;\">\n",
        "      <th></th>\n",
        "      <th>hgr_id</th>\n",
        "      <th>placename</th>\n",
        "      <th>admin1</th>\n",
        "      <th>country_name</th>\n",
        "      <th>lat</th>\n",
        "      <th>lng</th>\n",
        "      <th>src_id</th>\n",
        "      <th>country_code</th>\n",
        "      <th>url</th>\n",
        "      <th>src</th>\n",
        "    </tr>\n",
        "  </thead>\n",
        "  <tbody>\n",
        "    <tr>\n",
        "      <th>0   </th>\n",
        "      <td>   2</td>\n",
        "      <td>                   Avdulovo</td>\n",
        "      <td>                Lipetsk</td>\n",
        "      <td>     Russia</td>\n",
        "      <td> 53.29975</td>\n",
        "      <td>   38.6293</td>\n",
        "      <td>  580282</td>\n",
        "      <td> RU</td>\n",
        "      <td> http://api.geonames.org/search?featureCode=PPL...</td>\n",
        "      <td> geonames</td>\n",
        "    </tr>\n",
        "    <tr>\n",
        "      <th>1   </th>\n",
        "      <td>   2</td>\n",
        "      <td>           Avdulovo Pervoye</td>\n",
        "      <td>            Moskovskaya</td>\n",
        "      <td>     Russia</td>\n",
        "      <td> 55.07755</td>\n",
        "      <td>  38.27945</td>\n",
        "      <td>  580281</td>\n",
        "      <td> RU</td>\n",
        "      <td> http://api.geonames.org/search?featureCode=PPL...</td>\n",
        "      <td> geonames</td>\n",
        "    </tr>\n",
        "    <tr>\n",
        "      <th>2   </th>\n",
        "      <td>   2</td>\n",
        "      <td>           Avdulovo Vtoroye</td>\n",
        "      <td>            Moskovskaya</td>\n",
        "      <td>     Russia</td>\n",
        "      <td> 55.08048</td>\n",
        "      <td>  38.26766</td>\n",
        "      <td>  873804</td>\n",
        "      <td> RU</td>\n",
        "      <td> http://api.geonames.org/search?featureCode=PPL...</td>\n",
        "      <td> geonames</td>\n",
        "    </tr>\n",
        "    <tr>\n",
        "      <th>5   </th>\n",
        "      <td>   5</td>\n",
        "      <td>                      Aksel</td>\n",
        "      <td>              Mordoviya</td>\n",
        "      <td>     Russia</td>\n",
        "      <td> 54.59831</td>\n",
        "      <td>  43.41977</td>\n",
        "      <td>  583664</td>\n",
        "      <td> RU</td>\n",
        "      <td> http://api.geonames.org/search?featureCode=PPL...</td>\n",
        "      <td> geonames</td>\n",
        "    </tr>\n",
        "    <tr>\n",
        "      <th>6   </th>\n",
        "      <td>   5</td>\n",
        "      <td>                      Aksel</td>\n",
        "      <td>       Nizjnij Novgorod</td>\n",
        "      <td>     Russia</td>\n",
        "      <td> 54.82592</td>\n",
        "      <td>  43.84813</td>\n",
        "      <td> 6659318</td>\n",
        "      <td> RU</td>\n",
        "      <td> http://api.geonames.org/search?featureCode=PPL...</td>\n",
        "      <td> geonames</td>\n",
        "    </tr>\n",
        "    <tr>\n",
        "      <th>7   </th>\n",
        "      <td>   5</td>\n",
        "      <td>               Aksel\u2019meyevo</td>\n",
        "      <td>                 Rjazan</td>\n",
        "      <td>     Russia</td>\n",
        "      <td>    54.05</td>\n",
        "      <td>  41.98333</td>\n",
        "      <td>  583663</td>\n",
        "      <td> RU</td>\n",
        "      <td> http://api.geonames.org/search?featureCode=PPL...</td>\n",
        "      <td> geonames</td>\n",
        "    </tr>\n",
        "    <tr>\n",
        "      <th>8   </th>\n",
        "      <td>   5</td>\n",
        "      <td>        Aksel\u2019skiye Vyselki</td>\n",
        "      <td>       Nizjnij Novgorod</td>\n",
        "      <td>     Russia</td>\n",
        "      <td> 54.83333</td>\n",
        "      <td>  43.83333</td>\n",
        "      <td>  583662</td>\n",
        "      <td> RU</td>\n",
        "      <td> http://api.geonames.org/search?featureCode=PPL...</td>\n",
        "      <td> geonames</td>\n",
        "    </tr>\n",
        "    <tr>\n",
        "      <th>9   </th>\n",
        "      <td>   6</td>\n",
        "      <td>                    Alatyr'</td>\n",
        "      <td>              Chuvashia</td>\n",
        "      <td>     Russia</td>\n",
        "      <td>  54.8421</td>\n",
        "      <td>   46.5813</td>\n",
        "      <td>  583437</td>\n",
        "      <td> RU</td>\n",
        "      <td> http://api.geonames.org/search?featureCode=PPL...</td>\n",
        "      <td> geonames</td>\n",
        "    </tr>\n",
        "    <tr>\n",
        "      <th>10  </th>\n",
        "      <td>   6</td>\n",
        "      <td>                    Alatyr\u2019</td>\n",
        "      <td>       Nizjnij Novgorod</td>\n",
        "      <td>     Russia</td>\n",
        "      <td> 54.82508</td>\n",
        "      <td>  43.72546</td>\n",
        "      <td>  583438</td>\n",
        "      <td> RU</td>\n",
        "      <td> http://api.geonames.org/search?featureCode=PPL...</td>\n",
        "      <td> geonames</td>\n",
        "    </tr>\n",
        "    <tr>\n",
        "      <th>11  </th>\n",
        "      <td>   6</td>\n",
        "      <td>                Alatyr\u2019kasy</td>\n",
        "      <td>              Chuvashia</td>\n",
        "      <td>     Russia</td>\n",
        "      <td>  56.0395</td>\n",
        "      <td>  47.54381</td>\n",
        "      <td> 6198182</td>\n",
        "      <td> RU</td>\n",
        "      <td> http://api.geonames.org/search?featureCode=PPL...</td>\n",
        "      <td> geonames</td>\n",
        "    </tr>\n",
        "    <tr>\n",
        "      <th>13  </th>\n",
        "      <td>   8</td>\n",
        "      <td>           Aleksandrovskoye</td>\n",
        "      <td>         Stavropol'skiy</td>\n",
        "      <td>     Russia</td>\n",
        "      <td> 44.71417</td>\n",
        "      <td>  43.00083</td>\n",
        "      <td>  582993</td>\n",
        "      <td> RU</td>\n",
        "      <td> http://api.geonames.org/search?featureCode=PPL...</td>\n",
        "      <td> geonames</td>\n",
        "    </tr>\n",
        "    <tr>\n",
        "      <th>14  </th>\n",
        "      <td>   8</td>\n",
        "      <td>           Aleksandrovskoye</td>\n",
        "      <td>                  Tomsk</td>\n",
        "      <td>     Russia</td>\n",
        "      <td> 56.74083</td>\n",
        "      <td>  85.39056</td>\n",
        "      <td> 1511846</td>\n",
        "      <td> RU</td>\n",
        "      <td> http://api.geonames.org/search?featureCode=PPL...</td>\n",
        "      <td> geonames</td>\n",
        "    </tr>\n",
        "    <tr>\n",
        "      <th>15  </th>\n",
        "      <td>   8</td>\n",
        "      <td>           Aleksandrovskoye</td>\n",
        "      <td>                Irkutsk</td>\n",
        "      <td>     Russia</td>\n",
        "      <td> 52.79444</td>\n",
        "      <td>    103.84</td>\n",
        "      <td> 2027931</td>\n",
        "      <td> RU</td>\n",
        "      <td> http://api.geonames.org/search?featureCode=PPL...</td>\n",
        "      <td> geonames</td>\n",
        "    </tr>\n",
        "    <tr>\n",
        "      <th>16  </th>\n",
        "      <td>   8</td>\n",
        "      <td>           Aleksandrovskoye</td>\n",
        "      <td>                  Tomsk</td>\n",
        "      <td>     Russia</td>\n",
        "      <td> 60.42912</td>\n",
        "      <td>  77.86301</td>\n",
        "      <td> 1511845</td>\n",
        "      <td> RU</td>\n",
        "      <td> http://api.geonames.org/search?featureCode=PPL...</td>\n",
        "      <td> geonames</td>\n",
        "    </tr>\n",
        "    <tr>\n",
        "      <th>17  </th>\n",
        "      <td>   8</td>\n",
        "      <td>           Aleksandrovskoye</td>\n",
        "      <td>                  Kirov</td>\n",
        "      <td>     Russia</td>\n",
        "      <td> 58.83477</td>\n",
        "      <td>  47.39217</td>\n",
        "      <td>  582983</td>\n",
        "      <td> RU</td>\n",
        "      <td> http://api.geonames.org/search?featureCode=PPL...</td>\n",
        "      <td> geonames</td>\n",
        "    </tr>\n",
        "    <tr>\n",
        "      <th>18  </th>\n",
        "      <td>   8</td>\n",
        "      <td>           Aleksandrovskoye</td>\n",
        "      <td>                  Kirov</td>\n",
        "      <td>     Russia</td>\n",
        "      <td> 58.25872</td>\n",
        "      <td>  47.96865</td>\n",
        "      <td>  582985</td>\n",
        "      <td> RU</td>\n",
        "      <td> http://api.geonames.org/search?featureCode=PPL...</td>\n",
        "      <td> geonames</td>\n",
        "    </tr>\n",
        "    <tr>\n",
        "      <th>19  </th>\n",
        "      <td>   8</td>\n",
        "      <td>           Aleksandrovskoye</td>\n",
        "      <td>             Sverdlovsk</td>\n",
        "      <td>     Russia</td>\n",
        "      <td>  56.7132</td>\n",
        "      <td>    57.827</td>\n",
        "      <td>  582988</td>\n",
        "      <td> RU</td>\n",
        "      <td> http://api.geonames.org/search?featureCode=PPL...</td>\n",
        "      <td> geonames</td>\n",
        "    </tr>\n",
        "    <tr>\n",
        "      <th>20  </th>\n",
        "      <td>   8</td>\n",
        "      <td>            Aleksandrovskoe</td>\n",
        "      <td>              Sabirabad</td>\n",
        "      <td> Azerbaijan</td>\n",
        "      <td> 39.94445</td>\n",
        "      <td>  48.71375</td>\n",
        "      <td>  148573</td>\n",
        "      <td> AZ</td>\n",
        "      <td> http://api.geonames.org/search?featureCode=PPL...</td>\n",
        "      <td> geonames</td>\n",
        "    </tr>\n",
        "    <tr>\n",
        "      <th>21  </th>\n",
        "      <td>   8</td>\n",
        "      <td>           Aleksandrovskoye</td>\n",
        "      <td>              Tverskaya</td>\n",
        "      <td>     Russia</td>\n",
        "      <td>  58.4522</td>\n",
        "      <td>   36.3825</td>\n",
        "      <td> 7611894</td>\n",
        "      <td> RU</td>\n",
        "      <td> http://api.geonames.org/search?featureCode=PPL...</td>\n",
        "      <td> geonames</td>\n",
        "    </tr>\n",
        "    <tr>\n",
        "      <th>22  </th>\n",
        "      <td>   8</td>\n",
        "      <td>   Soldato-Aleksandrovskoye</td>\n",
        "      <td>         Stavropol'skiy</td>\n",
        "      <td>     Russia</td>\n",
        "      <td> 44.26528</td>\n",
        "      <td>  43.75611</td>\n",
        "      <td>  491085</td>\n",
        "      <td> RU</td>\n",
        "      <td> http://api.geonames.org/search?featureCode=PPL...</td>\n",
        "      <td> geonames</td>\n",
        "    </tr>\n",
        "    <tr>\n",
        "      <th>23  </th>\n",
        "      <td>   8</td>\n",
        "      <td> Vladimiro-Aleksandrovskoye</td>\n",
        "      <td>             Primorskiy</td>\n",
        "      <td>     Russia</td>\n",
        "      <td> 42.89134</td>\n",
        "      <td> 133.07802</td>\n",
        "      <td> 2013362</td>\n",
        "      <td> RU</td>\n",
        "      <td> http://api.geonames.org/search?featureCode=PPL...</td>\n",
        "      <td> geonames</td>\n",
        "    </tr>\n",
        "    <tr>\n",
        "      <th>24  </th>\n",
        "      <td>   8</td>\n",
        "      <td>           Aleksandrovskoye</td>\n",
        "      <td>               Novgorod</td>\n",
        "      <td>     Russia</td>\n",
        "      <td> 58.78572</td>\n",
        "      <td>  31.88748</td>\n",
        "      <td>  582984</td>\n",
        "      <td> RU</td>\n",
        "      <td> http://api.geonames.org/search?featureCode=PPL...</td>\n",
        "      <td> geonames</td>\n",
        "    </tr>\n",
        "    <tr>\n",
        "      <th>25  </th>\n",
        "      <td>   8</td>\n",
        "      <td>           Aleksandrovskoye</td>\n",
        "      <td>                   Omsk</td>\n",
        "      <td>     Russia</td>\n",
        "      <td> 54.66218</td>\n",
        "      <td>  72.71254</td>\n",
        "      <td> 1511847</td>\n",
        "      <td> RU</td>\n",
        "      <td> http://api.geonames.org/search?featureCode=PPL...</td>\n",
        "      <td> geonames</td>\n",
        "    </tr>\n",
        "    <tr>\n",
        "      <th>26  </th>\n",
        "      <td>   8</td>\n",
        "      <td>           Aleksandrovskoye</td>\n",
        "      <td>             Altai Krai</td>\n",
        "      <td>     Russia</td>\n",
        "      <td> 52.22583</td>\n",
        "      <td>  85.04333</td>\n",
        "      <td> 1511848</td>\n",
        "      <td> RU</td>\n",
        "      <td> http://api.geonames.org/search?featureCode=PPL...</td>\n",
        "      <td> geonames</td>\n",
        "    </tr>\n",
        "    <tr>\n",
        "      <th>27  </th>\n",
        "      <td>   8</td>\n",
        "      <td>           Aleksandrovskoye</td>\n",
        "      <td>               Novgorod</td>\n",
        "      <td>     Russia</td>\n",
        "      <td>       57</td>\n",
        "      <td>  31.46667</td>\n",
        "      <td>  582987</td>\n",
        "      <td> RU</td>\n",
        "      <td> http://api.geonames.org/search?featureCode=PPL...</td>\n",
        "      <td> geonames</td>\n",
        "    </tr>\n",
        "    <tr>\n",
        "      <th>28  </th>\n",
        "      <td>   8</td>\n",
        "      <td>           Aleksandrovskoye</td>\n",
        "      <td>              Jaroslavl</td>\n",
        "      <td>     Russia</td>\n",
        "      <td> 58.43655</td>\n",
        "      <td>  40.81208</td>\n",
        "      <td> 6312870</td>\n",
        "      <td> RU</td>\n",
        "      <td> http://api.geonames.org/search?featureCode=PPL...</td>\n",
        "      <td> geonames</td>\n",
        "    </tr>\n",
        "    <tr>\n",
        "      <th>29  </th>\n",
        "      <td>   8</td>\n",
        "      <td>           Aleksandrovskoye</td>\n",
        "      <td>                  Sakha</td>\n",
        "      <td>     Russia</td>\n",
        "      <td>    63.35</td>\n",
        "      <td>     118.4</td>\n",
        "      <td> 2027930</td>\n",
        "      <td> RU</td>\n",
        "      <td> http://api.geonames.org/search?featureCode=PPL...</td>\n",
        "      <td> geonames</td>\n",
        "    </tr>\n",
        "    <tr>\n",
        "      <th>30  </th>\n",
        "      <td>   8</td>\n",
        "      <td>           Aleksandrovskoye</td>\n",
        "      <td>         Stavropol'skiy</td>\n",
        "      <td>     Russia</td>\n",
        "      <td> 44.76611</td>\n",
        "      <td>  42.87667</td>\n",
        "      <td>  841195</td>\n",
        "      <td> RU</td>\n",
        "      <td> http://api.geonames.org/search?featureCode=PPL...</td>\n",
        "      <td> geonames</td>\n",
        "    </tr>\n",
        "    <tr>\n",
        "      <th>31  </th>\n",
        "      <td>   8</td>\n",
        "      <td>           Aleksandrovskoye</td>\n",
        "      <td>               Novgorod</td>\n",
        "      <td>     Russia</td>\n",
        "      <td> 58.93333</td>\n",
        "      <td>  34.73333</td>\n",
        "      <td>  582982</td>\n",
        "      <td> RU</td>\n",
        "      <td> http://api.geonames.org/search?featureCode=PPL...</td>\n",
        "      <td> geonames</td>\n",
        "    </tr>\n",
        "    <tr>\n",
        "      <th>32  </th>\n",
        "      <td>   8</td>\n",
        "      <td>           Aleksandrovskoye</td>\n",
        "      <td>                 Samara</td>\n",
        "      <td>     Russia</td>\n",
        "      <td> 52.63333</td>\n",
        "      <td>  50.63333</td>\n",
        "      <td>  582990</td>\n",
        "      <td> RU</td>\n",
        "      <td> http://api.geonames.org/search?featureCode=PPL...</td>\n",
        "      <td> geonames</td>\n",
        "    </tr>\n",
        "    <tr>\n",
        "      <th>...</th>\n",
        "      <td>...</td>\n",
        "      <td>...</td>\n",
        "      <td>...</td>\n",
        "      <td>...</td>\n",
        "      <td>...</td>\n",
        "      <td>...</td>\n",
        "      <td>...</td>\n",
        "      <td>...</td>\n",
        "      <td>...</td>\n",
        "      <td>...</td>\n",
        "    </tr>\n",
        "    <tr>\n",
        "      <th>4476</th>\n",
        "      <td> 398</td>\n",
        "      <td>                   Makarovo</td>\n",
        "      <td>              Tverskaya</td>\n",
        "      <td>     Russia</td>\n",
        "      <td>  58.6771</td>\n",
        "      <td>   36.8919</td>\n",
        "      <td>  532252</td>\n",
        "      <td> RU</td>\n",
        "      <td> http://api.geonames.org/search?featureCode=PPL...</td>\n",
        "      <td> geonames</td>\n",
        "    </tr>\n",
        "    <tr>\n",
        "      <th>4477</th>\n",
        "      <td> 398</td>\n",
        "      <td>            Nikolo-Makarovo</td>\n",
        "      <td>               Kostroma</td>\n",
        "      <td>     Russia</td>\n",
        "      <td> 57.64649</td>\n",
        "      <td>  43.56205</td>\n",
        "      <td>  521801</td>\n",
        "      <td> RU</td>\n",
        "      <td> http://api.geonames.org/search?featureCode=PPL...</td>\n",
        "      <td> geonames</td>\n",
        "    </tr>\n",
        "    <tr>\n",
        "      <th>4478</th>\n",
        "      <td> 398</td>\n",
        "      <td>                   Makarovo</td>\n",
        "      <td>              Tverskaya</td>\n",
        "      <td>     Russia</td>\n",
        "      <td>  56.6829</td>\n",
        "      <td>   32.8838</td>\n",
        "      <td>  532191</td>\n",
        "      <td> RU</td>\n",
        "      <td> http://api.geonames.org/search?featureCode=PPL...</td>\n",
        "      <td> geonames</td>\n",
        "    </tr>\n",
        "    <tr>\n",
        "      <th>4479</th>\n",
        "      <td> 398</td>\n",
        "      <td>                   Makarovo</td>\n",
        "      <td>                Brjansk</td>\n",
        "      <td>     Russia</td>\n",
        "      <td> 53.16099</td>\n",
        "      <td>  33.66429</td>\n",
        "      <td>  532209</td>\n",
        "      <td> RU</td>\n",
        "      <td> http://api.geonames.org/search?featureCode=PPL...</td>\n",
        "      <td> geonames</td>\n",
        "    </tr>\n",
        "    <tr>\n",
        "      <th>4480</th>\n",
        "      <td> 398</td>\n",
        "      <td>                   Makarovo</td>\n",
        "      <td>                   Perm</td>\n",
        "      <td>     Russia</td>\n",
        "      <td>  58.4075</td>\n",
        "      <td>   55.0413</td>\n",
        "      <td>  532235</td>\n",
        "      <td> RU</td>\n",
        "      <td> http://api.geonames.org/search?featureCode=PPL...</td>\n",
        "      <td> geonames</td>\n",
        "    </tr>\n",
        "    <tr>\n",
        "      <th>4481</th>\n",
        "      <td> 398</td>\n",
        "      <td>                   Makarovo</td>\n",
        "      <td>                   Perm</td>\n",
        "      <td>     Russia</td>\n",
        "      <td>  58.7401</td>\n",
        "      <td>   55.0829</td>\n",
        "      <td> 8247556</td>\n",
        "      <td> RU</td>\n",
        "      <td> http://api.geonames.org/search?featureCode=PPL...</td>\n",
        "      <td> geonames</td>\n",
        "    </tr>\n",
        "    <tr>\n",
        "      <th>4482</th>\n",
        "      <td> 398</td>\n",
        "      <td>                   Makarovo</td>\n",
        "      <td>                  Pskov</td>\n",
        "      <td>     Russia</td>\n",
        "      <td> 57.45682</td>\n",
        "      <td>  28.23551</td>\n",
        "      <td> 7093713</td>\n",
        "      <td> RU</td>\n",
        "      <td> http://api.geonames.org/search?featureCode=PPL...</td>\n",
        "      <td> geonames</td>\n",
        "    </tr>\n",
        "    <tr>\n",
        "      <th>4483</th>\n",
        "      <td> 398</td>\n",
        "      <td>                   Makarovo</td>\n",
        "      <td> Vitsyebskaya Voblasts\u02bc</td>\n",
        "      <td>    Belarus</td>\n",
        "      <td>  55.0376</td>\n",
        "      <td>     30.27</td>\n",
        "      <td> 8280222</td>\n",
        "      <td> BY</td>\n",
        "      <td> http://api.geonames.org/search?featureCode=PPL...</td>\n",
        "      <td> geonames</td>\n",
        "    </tr>\n",
        "    <tr>\n",
        "      <th>4484</th>\n",
        "      <td> 398</td>\n",
        "      <td>                   Makarovo</td>\n",
        "      <td>               Vladimir</td>\n",
        "      <td>     Russia</td>\n",
        "      <td> 56.37998</td>\n",
        "      <td>  39.23225</td>\n",
        "      <td>  532193</td>\n",
        "      <td> RU</td>\n",
        "      <td> http://api.geonames.org/search?featureCode=PPL...</td>\n",
        "      <td> geonames</td>\n",
        "    </tr>\n",
        "    <tr>\n",
        "      <th>4485</th>\n",
        "      <td> 398</td>\n",
        "      <td>                   Makarovo</td>\n",
        "      <td>         Arkhangelskaya</td>\n",
        "      <td>     Russia</td>\n",
        "      <td>  64.2559</td>\n",
        "      <td>   41.8022</td>\n",
        "      <td> 8071700</td>\n",
        "      <td> RU</td>\n",
        "      <td> http://api.geonames.org/search?featureCode=PPL...</td>\n",
        "      <td> geonames</td>\n",
        "    </tr>\n",
        "    <tr>\n",
        "      <th>4486</th>\n",
        "      <td> 398</td>\n",
        "      <td>            Semeno-Makarovo</td>\n",
        "      <td>          Bashkortostan</td>\n",
        "      <td>     Russia</td>\n",
        "      <td>  54.1039</td>\n",
        "      <td>  53.79736</td>\n",
        "      <td>  497456</td>\n",
        "      <td> RU</td>\n",
        "      <td> http://api.geonames.org/search?featureCode=PPL...</td>\n",
        "      <td> geonames</td>\n",
        "    </tr>\n",
        "    <tr>\n",
        "      <th>4487</th>\n",
        "      <td> 398</td>\n",
        "      <td>         Bol\u2019shoye Makarovo</td>\n",
        "      <td>              Tverskaya</td>\n",
        "      <td>     Russia</td>\n",
        "      <td>  55.6965</td>\n",
        "      <td>   32.4464</td>\n",
        "      <td>  532200</td>\n",
        "      <td> RU</td>\n",
        "      <td> http://api.geonames.org/search?featureCode=PPL...</td>\n",
        "      <td> geonames</td>\n",
        "    </tr>\n",
        "    <tr>\n",
        "      <th>4488</th>\n",
        "      <td> 398</td>\n",
        "      <td>                   Makarovo</td>\n",
        "      <td>                 Odessa</td>\n",
        "      <td>    Ukraine</td>\n",
        "      <td> 47.33982</td>\n",
        "      <td>  30.10442</td>\n",
        "      <td>  702330</td>\n",
        "      <td> UA</td>\n",
        "      <td> http://api.geonames.org/search?featureCode=PPL...</td>\n",
        "      <td> geonames</td>\n",
        "    </tr>\n",
        "    <tr>\n",
        "      <th>4489</th>\n",
        "      <td> 398</td>\n",
        "      <td>         Bol\u2019shoye Makarovo</td>\n",
        "      <td>              Tverskaya</td>\n",
        "      <td>     Russia</td>\n",
        "      <td>  57.3141</td>\n",
        "      <td>   37.2475</td>\n",
        "      <td> 7586397</td>\n",
        "      <td> RU</td>\n",
        "      <td> http://api.geonames.org/search?featureCode=PPL...</td>\n",
        "      <td> geonames</td>\n",
        "    </tr>\n",
        "    <tr>\n",
        "      <th>4490</th>\n",
        "      <td> 398</td>\n",
        "      <td>           Makarovo Vtoroye</td>\n",
        "      <td>                  Pskov</td>\n",
        "      <td>     Russia</td>\n",
        "      <td>     57.1</td>\n",
        "      <td>  30.98333</td>\n",
        "      <td>  532163</td>\n",
        "      <td> RU</td>\n",
        "      <td> http://api.geonames.org/search?featureCode=PPL...</td>\n",
        "      <td> geonames</td>\n",
        "    </tr>\n",
        "    <tr>\n",
        "      <th>4491</th>\n",
        "      <td> 398</td>\n",
        "      <td>            Maloye Makarovo</td>\n",
        "      <td>              Tverskaya</td>\n",
        "      <td>     Russia</td>\n",
        "      <td>  57.3123</td>\n",
        "      <td>   37.1141</td>\n",
        "      <td> 7586394</td>\n",
        "      <td> RU</td>\n",
        "      <td> http://api.geonames.org/search?featureCode=PPL...</td>\n",
        "      <td> geonames</td>\n",
        "    </tr>\n",
        "    <tr>\n",
        "      <th>4492</th>\n",
        "      <td> 398</td>\n",
        "      <td>              Staromakarovo</td>\n",
        "      <td>          Bashkortostan</td>\n",
        "      <td>     Russia</td>\n",
        "      <td> 53.89658</td>\n",
        "      <td>   55.8854</td>\n",
        "      <td>  532207</td>\n",
        "      <td> RU</td>\n",
        "      <td> http://api.geonames.org/search?featureCode=PPL...</td>\n",
        "      <td> geonames</td>\n",
        "    </tr>\n",
        "    <tr>\n",
        "      <th>4493</th>\n",
        "      <td> 398</td>\n",
        "      <td>                   Makarove</td>\n",
        "      <td>                Kharkiv</td>\n",
        "      <td>    Ukraine</td>\n",
        "      <td> 50.29458</td>\n",
        "      <td>   36.1439</td>\n",
        "      <td>  702332</td>\n",
        "      <td> UA</td>\n",
        "      <td> http://api.geonames.org/search?featureCode=PPL...</td>\n",
        "      <td> geonames</td>\n",
        "    </tr>\n",
        "    <tr>\n",
        "      <th>4494</th>\n",
        "      <td> 398</td>\n",
        "      <td>                   Makarovo</td>\n",
        "      <td>              Jaroslavl</td>\n",
        "      <td>     Russia</td>\n",
        "      <td> 57.80806</td>\n",
        "      <td>  40.47528</td>\n",
        "      <td>  532182</td>\n",
        "      <td> RU</td>\n",
        "      <td> http://api.geonames.org/search?featureCode=PPL...</td>\n",
        "      <td> geonames</td>\n",
        "    </tr>\n",
        "    <tr>\n",
        "      <th>4495</th>\n",
        "      <td> 398</td>\n",
        "      <td>                   Makarovo</td>\n",
        "      <td>           Khmelnytskyi</td>\n",
        "      <td>    Ukraine</td>\n",
        "      <td> 49.22536</td>\n",
        "      <td>  27.84064</td>\n",
        "      <td>  702328</td>\n",
        "      <td> UA</td>\n",
        "      <td> http://api.geonames.org/search?featureCode=PPL...</td>\n",
        "      <td> geonames</td>\n",
        "    </tr>\n",
        "    <tr>\n",
        "      <th>4496</th>\n",
        "      <td> 398</td>\n",
        "      <td>                   Makarovo</td>\n",
        "      <td>                 Kaluga</td>\n",
        "      <td>     Russia</td>\n",
        "      <td> 55.13637</td>\n",
        "      <td>  36.92249</td>\n",
        "      <td>  816678</td>\n",
        "      <td> RU</td>\n",
        "      <td> http://api.geonames.org/search?featureCode=PPL...</td>\n",
        "      <td> geonames</td>\n",
        "    </tr>\n",
        "    <tr>\n",
        "      <th>4497</th>\n",
        "      <td> 398</td>\n",
        "      <td>                   Makarovo</td>\n",
        "      <td>              Tverskaya</td>\n",
        "      <td>     Russia</td>\n",
        "      <td> 56.60139</td>\n",
        "      <td>  33.95972</td>\n",
        "      <td>  822868</td>\n",
        "      <td> RU</td>\n",
        "      <td> http://api.geonames.org/search?featureCode=PPL...</td>\n",
        "      <td> geonames</td>\n",
        "    </tr>\n",
        "    <tr>\n",
        "      <th>4498</th>\n",
        "      <td> 398</td>\n",
        "      <td>                   Makarovo</td>\n",
        "      <td>              Tverskaya</td>\n",
        "      <td>     Russia</td>\n",
        "      <td>  56.7956</td>\n",
        "      <td>  33.54547</td>\n",
        "      <td>  823098</td>\n",
        "      <td> RU</td>\n",
        "      <td> http://api.geonames.org/search?featureCode=PPL...</td>\n",
        "      <td> geonames</td>\n",
        "    </tr>\n",
        "    <tr>\n",
        "      <th>4499</th>\n",
        "      <td> 398</td>\n",
        "      <td>                   Makarovo</td>\n",
        "      <td>               Smolensk</td>\n",
        "      <td>     Russia</td>\n",
        "      <td> 55.29167</td>\n",
        "      <td>  33.75861</td>\n",
        "      <td>  811550</td>\n",
        "      <td> RU</td>\n",
        "      <td> http://api.geonames.org/search?featureCode=PPL...</td>\n",
        "      <td> geonames</td>\n",
        "    </tr>\n",
        "    <tr>\n",
        "      <th>4500</th>\n",
        "      <td> 398</td>\n",
        "      <td>                   Makarovo</td>\n",
        "      <td>            Moskovskaya</td>\n",
        "      <td>     Russia</td>\n",
        "      <td> 55.65222</td>\n",
        "      <td>  35.97361</td>\n",
        "      <td>  813195</td>\n",
        "      <td> RU</td>\n",
        "      <td> http://api.geonames.org/search?featureCode=PPL...</td>\n",
        "      <td> geonames</td>\n",
        "    </tr>\n",
        "    <tr>\n",
        "      <th>4501</th>\n",
        "      <td> 398</td>\n",
        "      <td>                   Makarovo</td>\n",
        "      <td>               Novgorod</td>\n",
        "      <td>     Russia</td>\n",
        "      <td> 58.40778</td>\n",
        "      <td>  33.54333</td>\n",
        "      <td> 6610294</td>\n",
        "      <td> RU</td>\n",
        "      <td> http://api.geonames.org/search?featureCode=PPL...</td>\n",
        "      <td> geonames</td>\n",
        "    </tr>\n",
        "    <tr>\n",
        "      <th>4502</th>\n",
        "      <td> 398</td>\n",
        "      <td>                   Makarovo</td>\n",
        "      <td>               Kostroma</td>\n",
        "      <td>     Russia</td>\n",
        "      <td> 57.57482</td>\n",
        "      <td>  40.53431</td>\n",
        "      <td> 6641982</td>\n",
        "      <td> RU</td>\n",
        "      <td> http://api.geonames.org/search?featureCode=PPL...</td>\n",
        "      <td> geonames</td>\n",
        "    </tr>\n",
        "    <tr>\n",
        "      <th>4503</th>\n",
        "      <td> 398</td>\n",
        "      <td>                   Baranovo</td>\n",
        "      <td>                  Pskov</td>\n",
        "      <td>     Russia</td>\n",
        "      <td> 56.98333</td>\n",
        "      <td>  29.41667</td>\n",
        "      <td>  579189</td>\n",
        "      <td> RU</td>\n",
        "      <td> http://api.geonames.org/search?featureCode=PPL...</td>\n",
        "      <td> geonames</td>\n",
        "    </tr>\n",
        "    <tr>\n",
        "      <th>4504</th>\n",
        "      <td> 398</td>\n",
        "      <td>          Ch\u00ebrnoye Makarovo</td>\n",
        "      <td>                 Kurgan</td>\n",
        "      <td>     Russia</td>\n",
        "      <td>  56.3793</td>\n",
        "      <td>   64.8226</td>\n",
        "      <td> 1508081</td>\n",
        "      <td> RU</td>\n",
        "      <td> http://api.geonames.org/search?featureCode=PPL...</td>\n",
        "      <td> geonames</td>\n",
        "    </tr>\n",
        "    <tr>\n",
        "      <th>4505</th>\n",
        "      <td> 399</td>\n",
        "      <td>                  Makar'yev</td>\n",
        "      <td>               Kostroma</td>\n",
        "      <td>     Russia</td>\n",
        "      <td> 57.88501</td>\n",
        "      <td>   43.8049</td>\n",
        "      <td>  532138</td>\n",
        "      <td> RU</td>\n",
        "      <td> http://api.geonames.org/search?featureCode=PPL...</td>\n",
        "      <td> geonames</td>\n",
        "    </tr>\n",
        "  </tbody>\n",
        "</table>\n",
        "<p>4386 rows \u00d7 10 columns</p>\n",
        "</div>"
       ],
       "metadata": {},
       "output_type": "pyout",
       "prompt_number": 40,
       "text": [
        "      hgr_id                   placename                  admin1 country_name  \\\n",
        "0          2                    Avdulovo                 Lipetsk       Russia   \n",
        "1          2            Avdulovo Pervoye             Moskovskaya       Russia   \n",
        "2          2            Avdulovo Vtoroye             Moskovskaya       Russia   \n",
        "5          5                       Aksel               Mordoviya       Russia   \n",
        "6          5                       Aksel        Nizjnij Novgorod       Russia   \n",
        "7          5                Aksel\u2019meyevo                  Rjazan       Russia   \n",
        "8          5         Aksel\u2019skiye Vyselki        Nizjnij Novgorod       Russia   \n",
        "9          6                     Alatyr'               Chuvashia       Russia   \n",
        "10         6                     Alatyr\u2019        Nizjnij Novgorod       Russia   \n",
        "11         6                 Alatyr\u2019kasy               Chuvashia       Russia   \n",
        "13         8            Aleksandrovskoye          Stavropol'skiy       Russia   \n",
        "14         8            Aleksandrovskoye                   Tomsk       Russia   \n",
        "15         8            Aleksandrovskoye                 Irkutsk       Russia   \n",
        "16         8            Aleksandrovskoye                   Tomsk       Russia   \n",
        "17         8            Aleksandrovskoye                   Kirov       Russia   \n",
        "18         8            Aleksandrovskoye                   Kirov       Russia   \n",
        "19         8            Aleksandrovskoye              Sverdlovsk       Russia   \n",
        "20         8             Aleksandrovskoe               Sabirabad   Azerbaijan   \n",
        "21         8            Aleksandrovskoye               Tverskaya       Russia   \n",
        "22         8    Soldato-Aleksandrovskoye          Stavropol'skiy       Russia   \n",
        "23         8  Vladimiro-Aleksandrovskoye              Primorskiy       Russia   \n",
        "24         8            Aleksandrovskoye                Novgorod       Russia   \n",
        "25         8            Aleksandrovskoye                    Omsk       Russia   \n",
        "26         8            Aleksandrovskoye              Altai Krai       Russia   \n",
        "27         8            Aleksandrovskoye                Novgorod       Russia   \n",
        "28         8            Aleksandrovskoye               Jaroslavl       Russia   \n",
        "29         8            Aleksandrovskoye                   Sakha       Russia   \n",
        "30         8            Aleksandrovskoye          Stavropol'skiy       Russia   \n",
        "31         8            Aleksandrovskoye                Novgorod       Russia   \n",
        "32         8            Aleksandrovskoye                  Samara       Russia   \n",
        "...      ...                         ...                     ...          ...   \n",
        "4476     398                    Makarovo               Tverskaya       Russia   \n",
        "4477     398             Nikolo-Makarovo                Kostroma       Russia   \n",
        "4478     398                    Makarovo               Tverskaya       Russia   \n",
        "4479     398                    Makarovo                 Brjansk       Russia   \n",
        "4480     398                    Makarovo                    Perm       Russia   \n",
        "4481     398                    Makarovo                    Perm       Russia   \n",
        "4482     398                    Makarovo                   Pskov       Russia   \n",
        "4483     398                    Makarovo  Vitsyebskaya Voblasts\u02bc      Belarus   \n",
        "4484     398                    Makarovo                Vladimir       Russia   \n",
        "4485     398                    Makarovo          Arkhangelskaya       Russia   \n",
        "4486     398             Semeno-Makarovo           Bashkortostan       Russia   \n",
        "4487     398          Bol\u2019shoye Makarovo               Tverskaya       Russia   \n",
        "4488     398                    Makarovo                  Odessa      Ukraine   \n",
        "4489     398          Bol\u2019shoye Makarovo               Tverskaya       Russia   \n",
        "4490     398            Makarovo Vtoroye                   Pskov       Russia   \n",
        "4491     398             Maloye Makarovo               Tverskaya       Russia   \n",
        "4492     398               Staromakarovo           Bashkortostan       Russia   \n",
        "4493     398                    Makarove                 Kharkiv      Ukraine   \n",
        "4494     398                    Makarovo               Jaroslavl       Russia   \n",
        "4495     398                    Makarovo            Khmelnytskyi      Ukraine   \n",
        "4496     398                    Makarovo                  Kaluga       Russia   \n",
        "4497     398                    Makarovo               Tverskaya       Russia   \n",
        "4498     398                    Makarovo               Tverskaya       Russia   \n",
        "4499     398                    Makarovo                Smolensk       Russia   \n",
        "4500     398                    Makarovo             Moskovskaya       Russia   \n",
        "4501     398                    Makarovo                Novgorod       Russia   \n",
        "4502     398                    Makarovo                Kostroma       Russia   \n",
        "4503     398                    Baranovo                   Pskov       Russia   \n",
        "4504     398           Ch\u00ebrnoye Makarovo                  Kurgan       Russia   \n",
        "4505     399                   Makar'yev                Kostroma       Russia   \n",
        "\n",
        "           lat        lng   src_id country_code  \\\n",
        "0     53.29975    38.6293   580282           RU   \n",
        "1     55.07755   38.27945   580281           RU   \n",
        "2     55.08048   38.26766   873804           RU   \n",
        "5     54.59831   43.41977   583664           RU   \n",
        "6     54.82592   43.84813  6659318           RU   \n",
        "7        54.05   41.98333   583663           RU   \n",
        "8     54.83333   43.83333   583662           RU   \n",
        "9      54.8421    46.5813   583437           RU   \n",
        "10    54.82508   43.72546   583438           RU   \n",
        "11     56.0395   47.54381  6198182           RU   \n",
        "13    44.71417   43.00083   582993           RU   \n",
        "14    56.74083   85.39056  1511846           RU   \n",
        "15    52.79444     103.84  2027931           RU   \n",
        "16    60.42912   77.86301  1511845           RU   \n",
        "17    58.83477   47.39217   582983           RU   \n",
        "18    58.25872   47.96865   582985           RU   \n",
        "19     56.7132     57.827   582988           RU   \n",
        "20    39.94445   48.71375   148573           AZ   \n",
        "21     58.4522    36.3825  7611894           RU   \n",
        "22    44.26528   43.75611   491085           RU   \n",
        "23    42.89134  133.07802  2013362           RU   \n",
        "24    58.78572   31.88748   582984           RU   \n",
        "25    54.66218   72.71254  1511847           RU   \n",
        "26    52.22583   85.04333  1511848           RU   \n",
        "27          57   31.46667   582987           RU   \n",
        "28    58.43655   40.81208  6312870           RU   \n",
        "29       63.35      118.4  2027930           RU   \n",
        "30    44.76611   42.87667   841195           RU   \n",
        "31    58.93333   34.73333   582982           RU   \n",
        "32    52.63333   50.63333   582990           RU   \n",
        "...        ...        ...      ...          ...   \n",
        "4476   58.6771    36.8919   532252           RU   \n",
        "4477  57.64649   43.56205   521801           RU   \n",
        "4478   56.6829    32.8838   532191           RU   \n",
        "4479  53.16099   33.66429   532209           RU   \n",
        "4480   58.4075    55.0413   532235           RU   \n",
        "4481   58.7401    55.0829  8247556           RU   \n",
        "4482  57.45682   28.23551  7093713           RU   \n",
        "4483   55.0376      30.27  8280222           BY   \n",
        "4484  56.37998   39.23225   532193           RU   \n",
        "4485   64.2559    41.8022  8071700           RU   \n",
        "4486   54.1039   53.79736   497456           RU   \n",
        "4487   55.6965    32.4464   532200           RU   \n",
        "4488  47.33982   30.10442   702330           UA   \n",
        "4489   57.3141    37.2475  7586397           RU   \n",
        "4490      57.1   30.98333   532163           RU   \n",
        "4491   57.3123    37.1141  7586394           RU   \n",
        "4492  53.89658    55.8854   532207           RU   \n",
        "4493  50.29458    36.1439   702332           UA   \n",
        "4494  57.80806   40.47528   532182           RU   \n",
        "4495  49.22536   27.84064   702328           UA   \n",
        "4496  55.13637   36.92249   816678           RU   \n",
        "4497  56.60139   33.95972   822868           RU   \n",
        "4498   56.7956   33.54547   823098           RU   \n",
        "4499  55.29167   33.75861   811550           RU   \n",
        "4500  55.65222   35.97361   813195           RU   \n",
        "4501  58.40778   33.54333  6610294           RU   \n",
        "4502  57.57482   40.53431  6641982           RU   \n",
        "4503  56.98333   29.41667   579189           RU   \n",
        "4504   56.3793    64.8226  1508081           RU   \n",
        "4505  57.88501    43.8049   532138           RU   \n",
        "\n",
        "                                                    url       src  \n",
        "0     http://api.geonames.org/search?featureCode=PPL...  geonames  \n",
        "1     http://api.geonames.org/search?featureCode=PPL...  geonames  \n",
        "2     http://api.geonames.org/search?featureCode=PPL...  geonames  \n",
        "5     http://api.geonames.org/search?featureCode=PPL...  geonames  \n",
        "6     http://api.geonames.org/search?featureCode=PPL...  geonames  \n",
        "7     http://api.geonames.org/search?featureCode=PPL...  geonames  \n",
        "8     http://api.geonames.org/search?featureCode=PPL...  geonames  \n",
        "9     http://api.geonames.org/search?featureCode=PPL...  geonames  \n",
        "10    http://api.geonames.org/search?featureCode=PPL...  geonames  \n",
        "11    http://api.geonames.org/search?featureCode=PPL...  geonames  \n",
        "13    http://api.geonames.org/search?featureCode=PPL...  geonames  \n",
        "14    http://api.geonames.org/search?featureCode=PPL...  geonames  \n",
        "15    http://api.geonames.org/search?featureCode=PPL...  geonames  \n",
        "16    http://api.geonames.org/search?featureCode=PPL...  geonames  \n",
        "17    http://api.geonames.org/search?featureCode=PPL...  geonames  \n",
        "18    http://api.geonames.org/search?featureCode=PPL...  geonames  \n",
        "19    http://api.geonames.org/search?featureCode=PPL...  geonames  \n",
        "20    http://api.geonames.org/search?featureCode=PPL...  geonames  \n",
        "21    http://api.geonames.org/search?featureCode=PPL...  geonames  \n",
        "22    http://api.geonames.org/search?featureCode=PPL...  geonames  \n",
        "23    http://api.geonames.org/search?featureCode=PPL...  geonames  \n",
        "24    http://api.geonames.org/search?featureCode=PPL...  geonames  \n",
        "25    http://api.geonames.org/search?featureCode=PPL...  geonames  \n",
        "26    http://api.geonames.org/search?featureCode=PPL...  geonames  \n",
        "27    http://api.geonames.org/search?featureCode=PPL...  geonames  \n",
        "28    http://api.geonames.org/search?featureCode=PPL...  geonames  \n",
        "29    http://api.geonames.org/search?featureCode=PPL...  geonames  \n",
        "30    http://api.geonames.org/search?featureCode=PPL...  geonames  \n",
        "31    http://api.geonames.org/search?featureCode=PPL...  geonames  \n",
        "32    http://api.geonames.org/search?featureCode=PPL...  geonames  \n",
        "...                                                 ...       ...  \n",
        "4476  http://api.geonames.org/search?featureCode=PPL...  geonames  \n",
        "4477  http://api.geonames.org/search?featureCode=PPL...  geonames  \n",
        "4478  http://api.geonames.org/search?featureCode=PPL...  geonames  \n",
        "4479  http://api.geonames.org/search?featureCode=PPL...  geonames  \n",
        "4480  http://api.geonames.org/search?featureCode=PPL...  geonames  \n",
        "4481  http://api.geonames.org/search?featureCode=PPL...  geonames  \n",
        "4482  http://api.geonames.org/search?featureCode=PPL...  geonames  \n",
        "4483  http://api.geonames.org/search?featureCode=PPL...  geonames  \n",
        "4484  http://api.geonames.org/search?featureCode=PPL...  geonames  \n",
        "4485  http://api.geonames.org/search?featureCode=PPL...  geonames  \n",
        "4486  http://api.geonames.org/search?featureCode=PPL...  geonames  \n",
        "4487  http://api.geonames.org/search?featureCode=PPL...  geonames  \n",
        "4488  http://api.geonames.org/search?featureCode=PPL...  geonames  \n",
        "4489  http://api.geonames.org/search?featureCode=PPL...  geonames  \n",
        "4490  http://api.geonames.org/search?featureCode=PPL...  geonames  \n",
        "4491  http://api.geonames.org/search?featureCode=PPL...  geonames  \n",
        "4492  http://api.geonames.org/search?featureCode=PPL...  geonames  \n",
        "4493  http://api.geonames.org/search?featureCode=PPL...  geonames  \n",
        "4494  http://api.geonames.org/search?featureCode=PPL...  geonames  \n",
        "4495  http://api.geonames.org/search?featureCode=PPL...  geonames  \n",
        "4496  http://api.geonames.org/search?featureCode=PPL...  geonames  \n",
        "4497  http://api.geonames.org/search?featureCode=PPL...  geonames  \n",
        "4498  http://api.geonames.org/search?featureCode=PPL...  geonames  \n",
        "4499  http://api.geonames.org/search?featureCode=PPL...  geonames  \n",
        "4500  http://api.geonames.org/search?featureCode=PPL...  geonames  \n",
        "4501  http://api.geonames.org/search?featureCode=PPL...  geonames  \n",
        "4502  http://api.geonames.org/search?featureCode=PPL...  geonames  \n",
        "4503  http://api.geonames.org/search?featureCode=PPL...  geonames  \n",
        "4504  http://api.geonames.org/search?featureCode=PPL...  geonames  \n",
        "4505  http://api.geonames.org/search?featureCode=PPL...  geonames  \n",
        "\n",
        "[4386 rows x 10 columns]"
       ]
      }
     ],
     "prompt_number": 40
    },
    {
     "cell_type": "code",
     "collapsed": false,
     "input": [
      "finding_counts = geodf.ix[geodf.placename!='not_found'].pivot_table(index='hgr_id',values='lat',aggfunc=lambda x: len(x.unique()))"
     ],
     "language": "python",
     "metadata": {},
     "outputs": [],
     "prompt_number": 47
    },
    {
     "cell_type": "code",
     "collapsed": false,
     "input": [
      "fdf = pd.DataFrame(finding_counts)"
     ],
     "language": "python",
     "metadata": {},
     "outputs": [],
     "prompt_number": 48
    },
    {
     "cell_type": "code",
     "collapsed": false,
     "input": [
      "fdf.ix[fdf.lat>1].describe()"
     ],
     "language": "python",
     "metadata": {},
     "outputs": [
      {
       "html": [
        "<div style=\"max-height:1000px;max-width:1500px;overflow:auto;\">\n",
        "<table border=\"1\" class=\"dataframe\">\n",
        "  <thead>\n",
        "    <tr style=\"text-align: right;\">\n",
        "      <th></th>\n",
        "      <th>lat</th>\n",
        "    </tr>\n",
        "  </thead>\n",
        "  <tbody>\n",
        "    <tr>\n",
        "      <th>count</th>\n",
        "      <td> 195.000000</td>\n",
        "    </tr>\n",
        "    <tr>\n",
        "      <th>mean</th>\n",
        "      <td>  22.005128</td>\n",
        "    </tr>\n",
        "    <tr>\n",
        "      <th>std</th>\n",
        "      <td>  31.556119</td>\n",
        "    </tr>\n",
        "    <tr>\n",
        "      <th>min</th>\n",
        "      <td>   2.000000</td>\n",
        "    </tr>\n",
        "    <tr>\n",
        "      <th>25%</th>\n",
        "      <td>   3.000000</td>\n",
        "    </tr>\n",
        "    <tr>\n",
        "      <th>50%</th>\n",
        "      <td>   6.000000</td>\n",
        "    </tr>\n",
        "    <tr>\n",
        "      <th>75%</th>\n",
        "      <td>  24.000000</td>\n",
        "    </tr>\n",
        "    <tr>\n",
        "      <th>max</th>\n",
        "      <td> 100.000000</td>\n",
        "    </tr>\n",
        "  </tbody>\n",
        "</table>\n",
        "</div>"
       ],
       "metadata": {},
       "output_type": "pyout",
       "prompt_number": 54,
       "text": [
        "              lat\n",
        "count  195.000000\n",
        "mean    22.005128\n",
        "std     31.556119\n",
        "min      2.000000\n",
        "25%      3.000000\n",
        "50%      6.000000\n",
        "75%     24.000000\n",
        "max    100.000000"
       ]
      }
     ],
     "prompt_number": 54
    },
    {
     "cell_type": "markdown",
     "metadata": {},
     "source": [
      "Kiev Experiment\n",
      "===============\n",
      "Trying to narrow results with bounding rectangles"
     ]
    },
    {
     "cell_type": "markdown",
     "metadata": {},
     "source": [
      "No bounding rectangle"
     ]
    },
    {
     "cell_type": "code",
     "collapsed": false,
     "input": [
      "kiev = market_df.ix[market_df.prov_stem == '\u043a\u0438\u0435\u0432\u0441\u043a']"
     ],
     "language": "python",
     "metadata": {},
     "outputs": [],
     "prompt_number": 181
    },
    {
     "cell_type": "code",
     "collapsed": false,
     "input": [
      "kiev_geocoded = []\n",
      "for x in range(0,len(kiev)):\n",
      "    entry = kiev.iloc[x]\n",
      "    kiev_geocoded.extend(geonames_lookup(entry['name_modern_sp'],entry.name))"
     ],
     "language": "python",
     "metadata": {},
     "outputs": [
      {
       "output_type": "stream",
       "stream": "stdout",
       "text": [
        "\u0411\u0410\u0420\u042b\u0428\u0415\u0412\u041a\u0410 was found.\n",
        "\u0411\u041e\u0411\u0420\u041e\u0412\u0418\u0426\u0410 was found."
       ]
      },
      {
       "output_type": "stream",
       "stream": "stdout",
       "text": [
        "\n",
        "\u0411\u041e\u0413\u0410\u0427\u041a\u0410 was found."
       ]
      },
      {
       "output_type": "stream",
       "stream": "stdout",
       "text": [
        "\n",
        "\u0411\u041e\u0420\u0418\u0421\u041f\u041e\u041b\u042c was found."
       ]
      },
      {
       "output_type": "stream",
       "stream": "stdout",
       "text": [
        "\n",
        "\u0411\u0423\u0420\u041e\u041c\u041a\u0410 was found."
       ]
      },
      {
       "output_type": "stream",
       "stream": "stdout",
       "text": [
        "\n",
        "\u0411\u0415\u041b\u041e\u0426\u0415\u0420\u041a\u041e\u0412\u041a\u0410 was found."
       ]
      },
      {
       "output_type": "stream",
       "stream": "stdout",
       "text": [
        "\n",
        "\u0412\u041e\u0420\u041e\u041d\u041a\u041e\u0412 was found."
       ]
      },
      {
       "output_type": "stream",
       "stream": "stdout",
       "text": [
        "\n",
        "\u0413\u041b\u0415\u041c\u042f\u0417\u041e\u0412 was not found."
       ]
      },
      {
       "output_type": "stream",
       "stream": "stdout",
       "text": [
        "\n",
        "\u0413\u041e\u0413\u041e\u041b\u0415\u0412 was found."
       ]
      },
      {
       "output_type": "stream",
       "stream": "stdout",
       "text": [
        "\n",
        "\u0413\u041e\u0420\u041e\u0414\u0418\u0429\u0415 was found."
       ]
      },
      {
       "output_type": "stream",
       "stream": "stdout",
       "text": [
        "\n",
        "\u0413\u041e\u0420\u041e\u0428\u0418\u041d was found."
       ]
      },
      {
       "output_type": "stream",
       "stream": "stdout",
       "text": [
        "\n",
        "\u0414\u041c\u0418\u0422\u0420\u041e\u0412\u041a\u0410 was found."
       ]
      },
      {
       "output_type": "stream",
       "stream": "stdout",
       "text": [
        "\n",
        "\u0415\u041a\u0410\u0422\u0415\u0420\u0418\u041d\u0418\u041d\u0421\u041a\u0410\u042f was found."
       ]
      },
      {
       "output_type": "stream",
       "stream": "stdout",
       "text": [
        "\n",
        "\u0415\u0420\u0415\u041c\u0415\u0415\u0412\u041a\u0410 was found."
       ]
      },
      {
       "output_type": "stream",
       "stream": "stdout",
       "text": [
        "\n",
        "\u0416\u041e\u0412\u041d\u0418\u041d was not found."
       ]
      },
      {
       "output_type": "stream",
       "stream": "stdout",
       "text": [
        "\n",
        "\u0417\u041e\u041b\u041e\u0422\u041e\u041d\u041e\u0428\u0410 was found."
       ]
      },
      {
       "output_type": "stream",
       "stream": "stdout",
       "text": [
        "\n",
        "\u041a\u0410\u041c\u042b\u0428\u041d\u042f was found."
       ]
      },
      {
       "output_type": "stream",
       "stream": "stdout",
       "text": [
        "\n",
        "\u041a\u041e\u0411\u042b\u0417\u0427\u0410 was not found."
       ]
      },
      {
       "output_type": "stream",
       "stream": "stdout",
       "text": [
        "\n",
        "\u041a\u041e\u0417\u0415\u041b\u0415\u0426 was found."
       ]
      },
      {
       "output_type": "stream",
       "stream": "stdout",
       "text": [
        "\n",
        "\u041a\u041e\u041c\u041b\u0418\u0427\u041a\u0418 was not found."
       ]
      },
      {
       "output_type": "stream",
       "stream": "stdout",
       "text": [
        "\n",
        "\u041a\u041e\u041d\u0421\u0422\u0410\u041d\u0422\u0418\u041d\u041e\u0412\u041e was found."
       ]
      },
      {
       "output_type": "stream",
       "stream": "stdout",
       "text": [
        "\n",
        "\u041a\u041e\u0420\u041e\u0412\u0410\u0419 was found."
       ]
      },
      {
       "output_type": "stream",
       "stream": "stdout",
       "text": [
        "\n",
        "\u041a\u0420\u0410\u041f\u0418\u0412\u041d\u0410 was found."
       ]
      },
      {
       "output_type": "stream",
       "stream": "stdout",
       "text": [
        "\n",
        "\u041a\u0420\u042b\u041b\u0415\u0415\u0412\u041e was not found."
       ]
      },
      {
       "output_type": "stream",
       "stream": "stdout",
       "text": [
        "\n",
        "\u041a\u0423\u0420\u0415\u041d\u042c\u041a\u0418 was found."
       ]
      },
      {
       "output_type": "stream",
       "stream": "stdout",
       "text": [
        "\n",
        "\u041b\u0423\u041a\u041e\u041c\u041b\u042f was not found."
       ]
      },
      {
       "output_type": "stream",
       "stream": "stdout",
       "text": [
        "\n"
       ]
      }
     ],
     "prompt_number": 182
    },
    {
     "cell_type": "code",
     "collapsed": false,
     "input": [
      "kiev_geo_df = pd.DataFrame(kiev_geocoded,columns=['hgr_id','placename','admin1','country_name','lat','lng','src_id','country_code','url','src'])\n",
      "len(kiev_geo_df)"
     ],
     "language": "python",
     "metadata": {},
     "outputs": [
      {
       "metadata": {},
       "output_type": "pyout",
       "prompt_number": 183,
       "text": [
        "319"
       ]
      }
     ],
     "prompt_number": 183
    },
    {
     "cell_type": "code",
     "collapsed": false,
     "input": [
      "kiev_geo_df.to_excel('kiev_unbound.xlsx',encoding='utf-8')"
     ],
     "language": "python",
     "metadata": {},
     "outputs": [],
     "prompt_number": 184
    },
    {
     "cell_type": "markdown",
     "metadata": {},
     "source": [
      "Now we try a bounding rectangle"
     ]
    },
    {
     "cell_type": "code",
     "collapsed": false,
     "input": [
      "kiev_bounded = []\n",
      "for x in range(0,len(kiev)):\n",
      "    entry = kiev.iloc[x]\n",
      "    kiev_bounded.extend(geonames_lookup(entry['name_modern_sp'],entry.name,north=51.49413,south=49.08008,east=34.35625,west=29.72503))"
     ],
     "language": "python",
     "metadata": {},
     "outputs": [
      {
       "output_type": "stream",
       "stream": "stdout",
       "text": [
        "\u0411\u0410\u0420\u042b\u0428\u0415\u0412\u041a\u0410 was found.\n",
        "\u0411\u041e\u0411\u0420\u041e\u0412\u0418\u0426\u0410 was found."
       ]
      },
      {
       "output_type": "stream",
       "stream": "stdout",
       "text": [
        "\n",
        "\u0411\u041e\u0413\u0410\u0427\u041a\u0410 was found."
       ]
      },
      {
       "output_type": "stream",
       "stream": "stdout",
       "text": [
        "\n",
        "\u0411\u041e\u0420\u0418\u0421\u041f\u041e\u041b\u042c was found."
       ]
      },
      {
       "output_type": "stream",
       "stream": "stdout",
       "text": [
        "\n",
        "\u0411\u0423\u0420\u041e\u041c\u041a\u0410 was found."
       ]
      },
      {
       "output_type": "stream",
       "stream": "stdout",
       "text": [
        "\n",
        "\u0411\u0415\u041b\u041e\u0426\u0415\u0420\u041a\u041e\u0412\u041a\u0410 was not found."
       ]
      },
      {
       "output_type": "stream",
       "stream": "stdout",
       "text": [
        "\n",
        "\u0412\u041e\u0420\u041e\u041d\u041a\u041e\u0412 was found."
       ]
      },
      {
       "output_type": "stream",
       "stream": "stdout",
       "text": [
        "\n",
        "\u0413\u041b\u0415\u041c\u042f\u0417\u041e\u0412 was not found."
       ]
      },
      {
       "output_type": "stream",
       "stream": "stdout",
       "text": [
        "\n",
        "\u0413\u041e\u0413\u041e\u041b\u0415\u0412 was found."
       ]
      },
      {
       "output_type": "stream",
       "stream": "stdout",
       "text": [
        "\n",
        "\u0413\u041e\u0420\u041e\u0414\u0418\u0429\u0415 was found."
       ]
      },
      {
       "output_type": "stream",
       "stream": "stdout",
       "text": [
        "\n",
        "\u0413\u041e\u0420\u041e\u0428\u0418\u041d was found."
       ]
      },
      {
       "output_type": "stream",
       "stream": "stdout",
       "text": [
        "\n",
        "\u0414\u041c\u0418\u0422\u0420\u041e\u0412\u041a\u0410 was found."
       ]
      },
      {
       "output_type": "stream",
       "stream": "stdout",
       "text": [
        "\n",
        "\u0415\u041a\u0410\u0422\u0415\u0420\u0418\u041d\u0418\u041d\u0421\u041a\u0410\u042f was not found."
       ]
      },
      {
       "output_type": "stream",
       "stream": "stdout",
       "text": [
        "\n",
        "\u0415\u0420\u0415\u041c\u0415\u0415\u0412\u041a\u0410 was not found."
       ]
      },
      {
       "output_type": "stream",
       "stream": "stdout",
       "text": [
        "\n",
        "\u0416\u041e\u0412\u041d\u0418\u041d was not found."
       ]
      },
      {
       "output_type": "stream",
       "stream": "stdout",
       "text": [
        "\n",
        "\u0417\u041e\u041b\u041e\u0422\u041e\u041d\u041e\u0428\u0410 was found."
       ]
      },
      {
       "output_type": "stream",
       "stream": "stdout",
       "text": [
        "\n",
        "\u041a\u0410\u041c\u042b\u0428\u041d\u042f was found."
       ]
      },
      {
       "output_type": "stream",
       "stream": "stdout",
       "text": [
        "\n",
        "\u041a\u041e\u0411\u042b\u0417\u0427\u0410 was not found."
       ]
      },
      {
       "output_type": "stream",
       "stream": "stdout",
       "text": [
        "\n",
        "\u041a\u041e\u0417\u0415\u041b\u0415\u0426 was found."
       ]
      },
      {
       "output_type": "stream",
       "stream": "stdout",
       "text": [
        "\n",
        "\u041a\u041e\u041c\u041b\u0418\u0427\u041a\u0418 was not found."
       ]
      },
      {
       "output_type": "stream",
       "stream": "stdout",
       "text": [
        "\n",
        "\u041a\u041e\u041d\u0421\u0422\u0410\u041d\u0422\u0418\u041d\u041e\u0412\u041e was not found."
       ]
      },
      {
       "output_type": "stream",
       "stream": "stdout",
       "text": [
        "\n",
        "\u041a\u041e\u0420\u041e\u0412\u0410\u0419 was not found."
       ]
      },
      {
       "output_type": "stream",
       "stream": "stdout",
       "text": [
        "\n",
        "\u041a\u0420\u0410\u041f\u0418\u0412\u041d\u0410 was found."
       ]
      },
      {
       "output_type": "stream",
       "stream": "stdout",
       "text": [
        "\n",
        "\u041a\u0420\u042b\u041b\u0415\u0415\u0412\u041e was not found."
       ]
      },
      {
       "output_type": "stream",
       "stream": "stdout",
       "text": [
        "\n",
        "\u041a\u0423\u0420\u0415\u041d\u042c\u041a\u0418 was found."
       ]
      },
      {
       "output_type": "stream",
       "stream": "stdout",
       "text": [
        "\n",
        "\u041b\u0423\u041a\u041e\u041c\u041b\u042f was not found."
       ]
      },
      {
       "output_type": "stream",
       "stream": "stdout",
       "text": [
        "\n"
       ]
      }
     ],
     "prompt_number": 185
    },
    {
     "cell_type": "code",
     "collapsed": false,
     "input": [
      "kiev_bounded_df = pd.DataFrame(kiev_bounded,columns=['hgr_id','placename','admin1','country_name','lat','lng','src_id','country_code','url','src'])"
     ],
     "language": "python",
     "metadata": {},
     "outputs": [],
     "prompt_number": 186
    },
    {
     "cell_type": "code",
     "collapsed": false,
     "input": [
      "kiev_bound_merged = pd.merge(kiev_bounded_df,market_df,left_on='hgr_id',right_index=True)\n",
      "kiev_bound_merged = kiev_bound_merged[['hgr_id', 'name', 'name_modern_sp', 'placename', 'admin1', 'country_name', 'lat', 'lng', 'src_id', 'country_code', 'url', 'src', 'ru_prov', 'prov_modern_sp', 'prov_stem', 'ru_uezd', 'page', 'text', '_type']]"
     ],
     "language": "python",
     "metadata": {},
     "outputs": [],
     "prompt_number": 187
    },
    {
     "cell_type": "code",
     "collapsed": false,
     "input": [
      "kiev_bound_merged.ix[kiev_bound_merged.placename=='not_found'].to_excel('kiev_not_found.xlsx',encoding='utf-8')"
     ],
     "language": "python",
     "metadata": {},
     "outputs": [],
     "prompt_number": 188
    },
    {
     "cell_type": "code",
     "collapsed": false,
     "input": [
      "kiev_bound_merged.ix[kiev_bound_merged.placename!='not_found'].to_excel('kiev_found.xlsx',encoding='utf-8')"
     ],
     "language": "python",
     "metadata": {},
     "outputs": [],
     "prompt_number": 189
    },
    {
     "cell_type": "code",
     "collapsed": true,
     "input": [
      "market_df.ix[market_df.geo_placename == 'not_found'].to_excel('not_found.xlsx', encoding='utf-8')"
     ],
     "language": "python",
     "metadata": {},
     "outputs": [],
     "prompt_number": 64
    },
    {
     "cell_type": "code",
     "collapsed": false,
     "input": [
      "market_df.to_excel('market_towns.xlsx', encoding=\"utf-8\")"
     ],
     "language": "python",
     "metadata": {},
     "outputs": [],
     "prompt_number": 61
    },
    {
     "cell_type": "markdown",
     "metadata": {},
     "source": [
      "Google Geocoding\n",
      "================\n",
      "Hasn't been worked on in a while. Kind of shabby."
     ]
    },
    {
     "cell_type": "code",
     "collapsed": false,
     "input": [
      "def google_lookup(placename):\n",
      "    url = \"https://maps.googleapis.com/maps/api/geocode/json?address={}\".format(placename)\n",
      "    R = requests.get(url)\n",
      "    google_json = R.json()\n",
      "    Ensure_dir(\"google_jsons\")\n",
      "    try:\n",
      "        google_placename = google_json['results'][0]['formatted_address']\n",
      "        google_lat = google_json['results'][0]['geometry']['location']['lat']\n",
      "        google_lng = google_json['results'][0]['geometry']['location']['lng']\n",
      "        with open(\"google_jsons/{}.json\".format(placename),'w') as jsonfile:\n",
      "            jsonfile.write(R.text)\n",
      "    except IndexError:\n",
      "        google_placename = \"not_found\"\n",
      "        google_lat = \"not_found\"\n",
      "        google_lng = \"not_found\"\n",
      "    return google_placename, google_lat, google_lng, url"
     ],
     "language": "python",
     "metadata": {},
     "outputs": [],
     "prompt_number": 18
    },
    {
     "cell_type": "code",
     "collapsed": false,
     "input": [
      "google_lookup(\"\u0410\u0412\u0414\u0423\u041b\u041e\u0412\u041e\")"
     ],
     "language": "python",
     "metadata": {},
     "outputs": [
      {
       "metadata": {},
       "output_type": "pyout",
       "prompt_number": 14,
       "text": [
        "('Avdulovo, Lipetsk Oblast, Russia, 399837',\n",
        " 53.300006,\n",
        " 38.6298386,\n",
        " 'https://maps.googleapis.com/maps/api/geocode/json?address=\u0410\u0412\u0414\u0423\u041b\u041e\u0412\u041e')"
       ]
      }
     ],
     "prompt_number": 14
    },
    {
     "cell_type": "code",
     "collapsed": false,
     "input": [
      "market_df['google_reconcile'], market_df['google_lat'], market_df['google_lng'], market_df['google_url'] = zip(*market_df[\"name\"].map(google_lookup))"
     ],
     "language": "python",
     "metadata": {},
     "outputs": [],
     "prompt_number": 21
    },
    {
     "cell_type": "code",
     "collapsed": false,
     "input": [
      "def str_comb(df):\n",
      "    return \"{} is a {}\".format(df[0],df[1])\n",
      "test = market_df[['name','_type']].apply(str_comb,axis=1)\n",
      "print(test)"
     ],
     "language": "python",
     "metadata": {},
     "outputs": [
      {
       "output_type": "stream",
       "stream": "stdout",
       "text": [
        "\u0406\u041e\u0421\u0418\u0424\u041e\u0412\u042a                       \u0406\u041e\u0421\u0418\u0424\u041e\u0412\u042a is a \u043c\u043e\u043d\u0430\u0441\u0442\u044b\u0440\u044c\n",
        "\u0410\u0411\u0417\u0410\u041b\u042c                             \u0410\u0411\u0417\u0410\u041b\u042c  is a \u0433\u043e\u0440\u043e\u0434\u044a\n",
        "\u0410\u0412\u0414\u0423\u041b\u041e\u0412\u041e                            \u0410\u0412\u0414\u0423\u041b\u041e\u0412\u041e is a \u0441\u0435\u043b\u043e\n",
        "\u0410\u0412\u0416\u0415\u041d\u0421\u041a\u0410\u042f                      \u0410\u0412\u0416\u0415\u041d\u0421\u041a\u0410\u042f  is a \u0432\u043e\u043b\u043e\u0441\u0442\u044c\n",
        "\u0410\u0414\u041e\u0412\u0410\u0422\u041e\u0412\u041e                          \u0410\u0414\u041e\u0412\u0410\u0422\u041e\u0412\u041e is a \u0441\u0435\u043b\u043e\n",
        "\u0410\u041a\u0421\u0415\u041b\u042c                                \u0410\u041a\u0421\u0415\u041b\u042c is a \u0441\u0435\u043b\u043e\n",
        "\u0410\u041b\u0410\u0422\u042b\u0420\u042c                            \u0410\u041b\u0410\u0422\u042b\u0420\u042c is a \u0433\u043e\u0440\u043e\u0434\u044a\n",
        "\u0410\u041b\u0415\u041a\u0421\u0410\u041d\u0414\u0420\u041e\u0412\u0410 \u041f\u0423\u0421\u0422\u042b\u041d\u042f    \u0410\u041b\u0415\u041a\u0421\u0410\u041d\u0414\u0420\u041e\u0412\u0410 \u041f\u0423\u0421\u0422\u042b\u041d\u042f is a \u0441\u0435\u043b\u043e\n",
        "\u0410\u041b\u0415\u041a\u0421\u0410\u041d\u0414\u0420\u041e\u0412\u0421\u041a\u041e\u0415              \u0410\u041b\u0415\u041a\u0421\u0410\u041d\u0414\u0420\u041e\u0412\u0421\u041a\u041e\u0415 is a \u0441\u0435\u043b\u043e\n",
        "\u0410\u041b\u0415\u041a\u0421\u0418\u041d\u042a                          \u0410\u041b\u0415\u041a\u0421\u0418\u041d\u042a is a \u0433\u043e\u0440\u043e\u0434\u044a\n",
        "\u0410\u041b\u0415\u041a\u0421\u0462\u0415\u0412\u041a\u0410                     \u0410\u041b\u0415\u041a\u0421\u0462\u0415\u0412\u041a\u0410 is a \u0441\u043b\u043e\u0431\u043e\u0434\u0430\n",
        "\u0410\u041b\u0415\u041a\u0421\u0462\u0415\u0412\u0421\u041a\u0410\u042f                \u0410\u041b\u0415\u041a\u0421\u0462\u0415\u0412\u0421\u041a\u0410\u042f is a \u043a\u0440\u0463\u043f\u043e\u0441\u0442\u044c\n",
        "\u0410\u041b\u0415\u0428\u041d\u042f                             \u0410\u041b\u0415\u0428\u041d\u042f is a \u0441\u043b\u043e\u0431\u043e\u0434\u0430\n",
        "\u0410\u041d\u0410\u0415\u0412\u041e                                \u0410\u041d\u0410\u0415\u0412\u041e is a \u0441\u0435\u043b\u043e\n",
        "\u0410\u041d\u0414\u0420\u0415\u0415\u0412\u041a\u0410                       \u0410\u041d\u0414\u0420\u0415\u0415\u0412\u041a\u0410 is a \u0441\u043b\u043e\u0431\u043e\u0434\u0430\n",
        "...\n",
        "\u041a\u0410\u0420\u041e\u0427\u0410            \u041a\u0410\u0420\u041e\u0427\u0410  is a \u0433\u043e\u0440\u043e\u0434\u044a\n",
        "\u041a\u0410\u0420\u041f\u041e\u0412\u041a\u0410           \u041a\u0410\u0420\u041f\u041e\u0412\u041a\u0410 is a \u0441\u0435\u043b\u043e\n",
        "\u041a\u0410\u0421\u0418\u041c\u041e\u0412\u042a         \u041a\u0410\u0421\u0418\u041c\u041e\u0412\u042a is a \u0433\u043e\u0440\u043e\u0434\u044a\n",
        "\u041a\u0410\u0428\u0418\u041d\u042a            \u041a\u0410\u0428\u0418\u041d\u042a  is a \u0433\u043e\u0440\u043e\u0434\u044a\n",
        "\u041a\u0415\u041c\u0410\u0420\u042b               \u041a\u0415\u041c\u0410\u0420\u042b is a \u0441\u0435\u043b\u043e\n",
        "\u041a\u0415\u0420\u0415\u041d\u0421\u041a\u042a         \u041a\u0415\u0420\u0415\u041d\u0421\u041a\u042a is a \u0433\u043e\u0440\u043e\u0434\u044a\n",
        "\u041a\u0415\u0421\u041c\u0415                \u041a\u0415\u0421\u041c\u0415  is a \u0441\u0435\u043b\u043e\n",
        "\u041a\u0415\u0421\u041e\u0412\u0410 \u0413\u041e\u0420\u0410     \u041a\u0415\u0421\u041e\u0412\u0410 \u0413\u041e\u0420\u0410 is a \u0441\u0435\u043b\u043e\n",
        "\u041a\u0418\u0414\u0415\u0428\u041a\u0418\u041d\u041e        \u041a\u0418\u0414\u0415\u0428\u041a\u0418\u041d\u041e  is a \u0441\u0435\u043b\u043e\n",
        "\u041a\u0418\u041c\u0420\u042b                 \u041a\u0418\u041c\u0420\u042b is a \u0441\u0435\u043b\u043e\n",
        "\u041a\u0418\u041d\u0415\u0428\u041c\u0410           \u041a\u0418\u041d\u0415\u0428\u041c\u0410 is a \u0433\u043e\u0440\u043e\u0434\u044a\n",
        "\u041a\u0418\u0420\u0415\u041d\u0421\u041a\u042a         \u041a\u0418\u0420\u0415\u041d\u0421\u041a\u042a is a \u0433\u043e\u0440\u043e\u0434\u044a\n",
        "\u041a\u0418\u0420\u0418\u041b\u041e\u0412\u042a        \u041a\u0418\u0420\u0418\u041b\u041e\u0412\u042a  is a \u0433\u043e\u0440\u043e\u0434\u044a\n",
        "\u041a\u0418\u0420\u0418\u041b\u041e\u0415\u041e          \u041a\u0418\u0420\u0418\u041b\u041e\u0415\u041e  is a \u0441\u0435\u043b\u043e\n",
        "\u041a\u0418\u0422\u0410\u0419\u0421\u041a\u041e\u0419      \u041a\u0418\u0422\u0410\u0419\u0421\u041a\u041e\u0419 is a \u043e\u0441\u0442\u0440\u043e\u0433\u044a\n",
        "Length: 280, dtype: object\n"
       ]
      }
     ],
     "prompt_number": 32
    },
    {
     "cell_type": "code",
     "collapsed": false,
     "input": [],
     "language": "python",
     "metadata": {},
     "outputs": []
    }
   ],
   "metadata": {}
  }
 ]
}