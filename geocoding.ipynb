{
 "metadata": {
  "name": "",
  "signature": "sha256:28b80cdf4cf6765035f07962c1c1beea2b68f2ccfc8dda3a92472fcc1dc02715"
 },
 "nbformat": 3,
 "nbformat_minor": 0,
 "worksheets": [
  {
   "cells": [
    {
     "cell_type": "markdown",
     "metadata": {},
     "source": [
      "First: Text Parsing!\n",
      "====================\n",
      "This is where the information that we want is extracted from the text we have."
     ]
    },
    {
     "cell_type": "code",
     "collapsed": false,
     "input": [
      "import re, requests"
     ],
     "language": "python",
     "metadata": {},
     "outputs": [],
     "prompt_number": 53
    },
    {
     "cell_type": "code",
     "collapsed": false,
     "input": [
      "import os\n",
      "def Ensure_dir(d):\n",
      "    \"\"\"Makes sure a directory 'd' exists, and if it doesn't, it creates one.\"\"\"\n",
      "    if not os.path.exists(d):\n",
      "        os.makedirs(d)\n",
      "    return 0"
     ],
     "language": "python",
     "metadata": {},
     "outputs": [],
     "prompt_number": 54
    },
    {
     "cell_type": "code",
     "collapsed": false,
     "input": [
      "def open_texts(file_start_str,first,last):\n",
      "    \"\"\"Creates a dictionary from a set of .htm files.\n",
      "    Assumes all have the same starting string immediately followed by a page number.\n",
      "    Returns a dictionary with page numbers as keys and page contents as values.\"\"\"\n",
      "    out_dict = {}\n",
      "    for i in range(first,last+1):\n",
      "        with open(\"{}{}.htm\".format(file_start_str,i),encoding=\"utf-8\") as htmfile:\n",
      "            out_dict[i] = htmfile.read()\n",
      "    return out_dict"
     ],
     "language": "python",
     "metadata": {},
     "outputs": [],
     "prompt_number": 55
    },
    {
     "cell_type": "markdown",
     "metadata": {},
     "source": [
      "Creating a dictionary called `market_text` and filling it out with key/value pairs corresponding to page numbers and page texts."
     ]
    },
    {
     "cell_type": "code",
     "collapsed": false,
     "input": [
      "market_text = open_texts(\"html/slovar\",10,99)\n",
      "market_text.update(open_texts(\"html/slovar\",102,133))"
     ],
     "language": "python",
     "metadata": {},
     "outputs": [],
     "prompt_number": 56
    },
    {
     "cell_type": "markdown",
     "metadata": {},
     "source": [
      "Cleanup cell. Currently fixing some common capitalization errors, and replacing nbsp's with normal spaces."
     ]
    },
    {
     "cell_type": "code",
     "collapsed": false,
     "input": [
      "for p in market_text.keys():\n",
      "    market_text[p] = re.sub(r\"([> ])\u0412\u042a\",r\"\\1\u0412\u044a\",market_text[p])\n",
      "    market_text[p] = re.sub(r\"([\u0430-\u044f\u0456\u0463\u0473]+)(\u0462)\",r\"\\1\u0463\",market_text[p])\n",
      "    market_text[p] = re.sub(r\"(\u0462)([\u0430-\u044f\u0456\u0463\u0473]+)\",r\"\u0463\\2\",market_text[p])\n",
      "    market_text[p] = re.sub(\"&nbsp;\",\" \",market_text[p])\n",
      "    market_text[p] = re.sub(r\"([\u0430-\u044f\u0456\u0463\u0473]+)(\u042a)\",r\"\\1\u044a\",market_text[p])"
     ],
     "language": "python",
     "metadata": {},
     "outputs": [],
     "prompt_number": 57
    },
    {
     "cell_type": "code",
     "collapsed": false,
     "input": [
      "def extract_placenames(text_dict):\n",
      "    \"\"\"\n",
      "    Finds placenames, which should be capitalized and at the beginning of paragraphs in text.\n",
      "    Returns dict with name, descriptive text, and page number.\n",
      "    \"\"\"\n",
      "    out_dict = {}\n",
      "    last_entry = \"\"\n",
      "    counter = 1\n",
      "    pages = list(text_dict.keys())\n",
      "    pages.sort()\n",
      "    for p in pages:\n",
      "        # finds trailing descriptions at beginning of page, appends to last entry on previous page.\n",
      "        trail = re.findall(\"<body>\\n<p><span class=\\\"font0\\\">(.*)</span></p>\",text_dict[p])\n",
      "        if len(trail)>0 and len(re.findall(\"^([\u0410-\u042f\u0406\u0462\u0472 .-]+)[<, ]\",trail[0]))==0:\n",
      "            out_dict[last_entry]['text']+=trail[0]\n",
      "        # finds all place names on page, captures descriptions as well. puts into dictionary with name as key and desc as value.\n",
      "        places = re.findall(\">(([\u0410-\u042f\u0406\u0462\u0472 .-]+)[<, ].*)</p>\",text_dict[p])\n",
      "        if len(places)>0:\n",
      "            for v in places:\n",
      "                placename = v[1].strip()\n",
      "                out_dict[counter] = {'name':placename,'text':v[0],'page':p}\n",
      "                counter+=1\n",
      "            last_entry = counter-1\n",
      "    return out_dict"
     ],
     "language": "python",
     "metadata": {},
     "outputs": [],
     "prompt_number": 58
    },
    {
     "cell_type": "code",
     "collapsed": false,
     "input": [
      "market_towns = extract_placenames(market_text) # creating dict market_towns to hold individual place info.\n",
      "market_towns.pop(1,None) #Known extraneous hit at beginning of doc, removed.\n",
      "market_towns.pop(2,None) #Known extraneous hit at beginning of doc, removed."
     ],
     "language": "python",
     "metadata": {},
     "outputs": [
      {
       "metadata": {},
       "output_type": "pyout",
       "prompt_number": 59,
       "text": [
        "{'text': '\u042f\u0420\u041c\u0410\u0420\u041e\u041a\u042a \u0438 \u0422\u041e\u0420\u0413\u041e\u0412\u042a.</span>', 'page': 10, 'name': '\u042f\u0420\u041c\u0410\u0420\u041e\u041a\u042a'}"
       ]
      }
     ],
     "prompt_number": 59
    },
    {
     "cell_type": "markdown",
     "metadata": {},
     "source": [
      "In this cell, we're looking for town types, which will be in italics. We're also looking for administrative divisions based on their titles, mostly Namiestnichestva."
     ]
    },
    {
     "cell_type": "code",
     "collapsed": false,
     "input": [
      "from lxml import html\n",
      "def strip_html(text):\n",
      "    return html.fromstring(text).text_content()"
     ],
     "language": "python",
     "metadata": {},
     "outputs": [],
     "prompt_number": 60
    },
    {
     "cell_type": "code",
     "collapsed": false,
     "input": [
      "for t in market_towns:\n",
      "    try:\n",
      "        if \"\u0427\u0410\u0421\u041e\u0412\u041d\u042f\" in market_towns[t]['name']:\n",
      "            town_type = '\u0447\u0430\u0446\u043e\u0432\u043d\u044f'\n",
      "        else:\n",
      "            town_type = re.findall(\"italic;\\\">([[\u0410-\u042f\u0406\u0462\u0472\u0430-\u044f\u0456\u0463\u0473, ]+)</span>\",market_towns[t]['text'])[0]\n",
      "        town_type = town_type.strip(\", \")\n",
      "        txt = market_towns[t]['text']\n",
      "        txt = strip_html(txt)\n",
      "        try:\n",
      "            # regex to find governorships, not all will have these.\n",
      "            ru_prov = re.findall(\">?([\u0410-\u042f\u0406\u0462\u0472\u0430-\u044f\u0463\u0456, -]*\u041d\u0430(?:\u043c\u0463){0,1}\u0441\u0442\u043d\u0438\u0447[\u0430\u0435\u043b]\u0441\u0442\u0432[\u0430\u0463](?: \u0441\u0435\u0433\u043e \u0438\u043c\u0435\u043d\u0438){0,1})\",market_towns[t]['text'])[0].strip()\n",
      "        except IndexError:\n",
      "            try:\n",
      "                # regex to find gubernii, not all will have these, some will have neither gov nor gub\n",
      "                ru_prov = re.findall(\">[ ]*([\u0410-\u042f\u0406\u0462\u0472\u0430-\u044f\u0463\u0456,.]+(?: [\u0410-\u042f\u0406\u0462\u0472\u0430-\u044f\u0463\u0456,]+){0,1}\\s+\u0413\u0443\u0431\u0435\u0440\u043d\u0456\u0438)\",market_towns[t]['text'])[0].strip()\n",
      "            except IndexError:\n",
      "                ru_prov = 'not_in_text'\n",
      "        #Attempting to find two different variations on appearance of uyezd\n",
      "        if len(re.findall(r\"[\u0412\u0432][\u042a\u044a] \u0443\u0463\u0437\u0434[\u0443\u0463] \u0433\u043e\u0440\u043e\u0434\u0430 ([\u0410-\u042f\u0406\u0462\u0472\u0430-\u044f\u0463\u0456-]+)\",txt)) != 0:\n",
      "            ru_uezd = re.findall(r\"[\u0412\u0432][\u042a\u044a]\\s+\u0443\u0463\u0437\u0434[\u0443\u0463]\\s+\u0433\u043e\u0440\u043e\u0434\u0430\\s+([\u0410-\u042f\u0406\u0462\u0472\u0430-\u044f\u0463\u0456-]+)\",txt)[0].strip()\n",
      "        else:\n",
      "            try:\n",
      "                ru_uezd = re.findall(r\"([\u0410-\u042f\u0406\u0462\u0472\u0430-\u044f\u0463\u0456]+\\s+\u0443\u0463\u0437\u0434[\u0443\u0463])\",txt)[0].strip()\n",
      "            except IndexError:\n",
      "                ru_uezd = 'not_in_text'\n",
      "        if len(re.findall(r\",([\u0410-\u042f\u0406\u0462\u0472 -]+) \u0442\u043e\u0436\u044c\",txt)) != 0:\n",
      "            alt_name = re.findall(r\",([\u0410-\u042f\u0406\u0462\u0472 -]+) \u0442\u043e\u0436\u044c\",txt)[0].strip()\n",
      "        else:\n",
      "            if len(re.findall(r\"\u0438\u043b\u0438 ([\u0410-\u042f\u0406\u0462\u0472]+)\",txt)) != 0:\n",
      "                alt_name = re.findall(r\"\u0438\u043b\u0438 ([\u0410-\u042f\u0406\u0462\u0472]+)\",txt)[0]\n",
      "            else:\n",
      "                alt_name = None\n",
      "        market_towns[t]['alt_name']=alt_name\n",
      "        market_towns[t]['_type']=town_type\n",
      "        market_towns[t]['ru_prov']=ru_prov\n",
      "        market_towns[t]['ru_uezd']=ru_uezd\n",
      "    except IndexError:\n",
      "        print(t)"
     ],
     "language": "python",
     "metadata": {},
     "outputs": [],
     "prompt_number": 61
    },
    {
     "cell_type": "markdown",
     "metadata": {},
     "source": [
      "Pandas!\n",
      "=======\n",
      "Everything has now been put into a pandas dataframe, so no more dicts!\n",
      "Still doing some text parsing and cleanup, but based on the data that we've collected, not the text."
     ]
    },
    {
     "cell_type": "code",
     "collapsed": false,
     "input": [
      "import pandas as pd\n",
      "import numpy as np"
     ],
     "language": "python",
     "metadata": {},
     "outputs": [],
     "prompt_number": 62
    },
    {
     "cell_type": "code",
     "collapsed": false,
     "input": [
      "# creation of pandas dataframe based on previously created dict.\n",
      "market_df = pd.DataFrame.from_dict(market_towns,orient=\"index\")\n",
      "market_df.head()"
     ],
     "language": "python",
     "metadata": {},
     "outputs": [
      {
       "html": [
        "<div style=\"max-height:1000px;max-width:1500px;overflow:auto;\">\n",
        "<table border=\"1\" class=\"dataframe\">\n",
        "  <thead>\n",
        "    <tr style=\"text-align: right;\">\n",
        "      <th></th>\n",
        "      <th>page</th>\n",
        "      <th>_type</th>\n",
        "      <th>name</th>\n",
        "      <th>ru_uezd</th>\n",
        "      <th>text</th>\n",
        "      <th>ru_prov</th>\n",
        "      <th>alt_name</th>\n",
        "    </tr>\n",
        "  </thead>\n",
        "  <tbody>\n",
        "    <tr>\n",
        "      <th>3</th>\n",
        "      <td> 10</td>\n",
        "      <td>      \u0441\u0435\u043b\u043e</td>\n",
        "      <td>  \u0410\u0412\u0414\u0423\u041b\u041e\u0412\u041e</td>\n",
        "      <td>   \u0414\u043e\u043d\u043a\u043e\u0432\u0441\u043a\u043e\u043c\u044a \u0443\u0463\u0437\u0434\u0463</td>\n",
        "      <td>                                                  \u0410\u0412\u0414\u0423\u041b\u041e\u0412\u041e, \u0418\u0412\u0410\u041d\u041e\u0412\u0421\u041a\u041e\u0415 \u0442\u043e\u0436\u044c, &lt;/span&gt;&lt;span class=\"font0\" style=\"font-style:italic;\"&gt;\u0441\u0435\u043b\u043e&lt;/span&gt;&lt;span class=\"font0\"&gt; \u0420\u044f\u0437\u0430\u043d\u0441\u043a\u0430\u0433\u043e \u041d\u0430\u043c\u0463\u0441\u0442\u043d\u0438\u0447\u0435\u0441\u0442\u0432\u0430 \u0432\u044a \u0414\u043e\u043d\u043a\u043e\u0432\u0441\u043a\u043e\u043c\u044a \u0443\u0463\u0437\u0434\u0463, \u0417\u0434\u0463\u0441\u044c \u0431\u044b\u0432\u0430\u0435\u0442\u044a \u043e\u0434\u043d\u0430 \u0433\u043e\u0434\u043e\u0432\u0430\u044f \u044f\u0440\u043c\u0430\u0440\u043a\u0430 \u0432\u044a \u0434\u0435\u043d\u044c \u0406\u043e\u0430\u043d\u043d\u0430 \u0412\u043e\u0438\u043d\u0430, \u0442\u043e \u0435\u0441\u0442\u044c \u0406\u044e\u043b\u044f 30, \u043d\u0430 \u043a\u043e\u0442\u043e\u0440\u0443\u044e \u043f\u0440\u0456\u0463\u0437\u0436\u0430\u044e\u0442\u044a \u043a\u0443\u043f\u0446\u044b \u0438 \u043a\u0440\u0435\u0441\u0442\u044c\u044f\u043d\u0435 \u0441\u044a \u043c\u0463\u043b\u043e\u0447\u043d\u044b\u043c\u0438 \u0442\u043e\u0432\u0430\u0440\u0430\u043c\u0438.&lt;/span&gt;</td>\n",
        "      <td>     \u0420\u044f\u0437\u0430\u043d\u0441\u043a\u0430\u0433\u043e \u041d\u0430\u043c\u0463\u0441\u0442\u043d\u0438\u0447\u0435\u0441\u0442\u0432\u0430</td>\n",
        "      <td> \u0418\u0412\u0410\u041d\u041e\u0412\u0421\u041a\u041e\u0415</td>\n",
        "    </tr>\n",
        "    <tr>\n",
        "      <th>4</th>\n",
        "      <td> 10</td>\n",
        "      <td>   \u0432\u043e\u043b\u043e\u0441\u0442\u044c</td>\n",
        "      <td> \u0410\u0412\u0416\u0415\u041d\u0421\u041a\u0410\u042f</td>\n",
        "      <td>             \u0438 \u0443\u0463\u0437\u0434\u0443</td>\n",
        "      <td>                                                                                                                  \u0410\u0412\u0416\u0415\u041d\u0421\u041a\u0410\u042f , &lt;/span&gt;&lt;span class=\"font0\" style=\"font-style:italic;\"&gt;\u0432\u043e\u043b\u043e\u0441\u0442\u044c &lt;/span&gt;&lt;span class=\"font0\"&gt;\u0412\u043e\u043b\u043e\u0433\u043e\u0434\u0441\u043a\u0430\u0433\u043e \u041d\u0430\u043c\u0463\u0441\u0442\u043d\u0438\u0447\u0435\u0441\u0442\u0432\u0430 \u0438 \u0443\u0463\u0437\u0434\u0443. \u0417\u0434\u0463\u0441\u044c \u0431\u044b\u0432\u0430\u0435\u0442\u044a \u0434\u0432\u0430 \u0440\u0430\u0437\u0430 \u0432\u044a \u0433\u043e\u0434\u044a \u044f\u0440\u043c\u0430\u0440\u043a\u0430 , \u043d\u0430 \u043a\u043e\u0435\u0439 \u0442\u043e\u0440\u0433\u0443\u044e\u0442\u044a \u0412\u043e\u043b\u043e\u0433\u043e\u0434\u0441\u043a\u0456\u0435 \u043a\u0443\u043f\u0446\u044b \u043c\u0463\u043b\u043e\u0447\u043d\u044b\u043c\u0438 \u0442\u043e\u0432\u0430\u0440\u0430\u043c\u0438.&lt;/span&gt;</td>\n",
        "      <td>   \u0412\u043e\u043b\u043e\u0433\u043e\u0434\u0441\u043a\u0430\u0433\u043e \u041d\u0430\u043c\u0463\u0441\u0442\u043d\u0438\u0447\u0435\u0441\u0442\u0432\u0430</td>\n",
        "      <td>       None</td>\n",
        "    </tr>\n",
        "    <tr>\n",
        "      <th>5</th>\n",
        "      <td> 10</td>\n",
        "      <td> \u043c\u043e\u043d\u0430\u0441\u0442\u044b\u0440\u044c</td>\n",
        "      <td> \u0410\u0412\u0420\u0410\u041c\u0406\u0415\u0412\u042a</td>\n",
        "      <td>         not_in_text</td>\n",
        "      <td>                                                          \u0410\u0412\u0420\u0410\u041c\u0406\u0415\u0412\u042a&lt;/span&gt;&lt;span class=\"font0\" style=\"font-style:italic;\"&gt;, \u043c\u043e\u043d\u0430\u0441\u0442\u044b\u0440\u044c &lt;/span&gt;&lt;span class=\"font0\"&gt;\u041a\u043e\u0441\u0442\u0440\u043e\u043c\u0441\u043a\u0430\u0433\u043e \u041d\u0430\u043c\u0463\u0441\u0442\u043d\u0438\u0447\u0435\u0441\u0442\u0432\u0430, \u043e\u0442\u044a \u0433\u043e\u0440\u043e\u0434\u0430 \u0427\u0443\u0445\u043b\u043e\u043c\u044b \u0432\u044a 10 \u0432\u0435\u0440\u0441\u0442\u0430\u0445\u044a. \u0417\u0434\u0463\u0441\u044c \u0431\u044b\u0432\u0430\u0435\u0442\u044a \u044f\u0440\u043c\u0430\u0440\u043a\u0430. \u0417\u0440\u0438 &lt;/span&gt;&lt;span class=\"font0\" style=\"font-style:italic;\"&gt;\u0427\u0443x\u043b\u043e\u043c\u0430&lt;/span&gt;&lt;span class=\"font0\"&gt; \u0433\u043e\u0440\u043e\u0434\u044a.&lt;/span&gt;</td>\n",
        "      <td>   \u041a\u043e\u0441\u0442\u0440\u043e\u043c\u0441\u043a\u0430\u0433\u043e \u041d\u0430\u043c\u0463\u0441\u0442\u043d\u0438\u0447\u0435\u0441\u0442\u0432\u0430</td>\n",
        "      <td>       None</td>\n",
        "    </tr>\n",
        "    <tr>\n",
        "      <th>6</th>\n",
        "      <td> 10</td>\n",
        "      <td>      \u0441\u0435\u043b\u043e</td>\n",
        "      <td> \u0410\u0414\u041e\u0412\u0410\u0422\u041e\u0412\u041e</td>\n",
        "      <td>   \u0410\u0440\u0437\u0430\u043c\u0430\u0441\u043a\u043e\u043c\u044a \u0443\u0463\u0437\u0434\u0463</td>\n",
        "      <td>                                                                                                                                                               \u0410\u0414\u041e\u0412\u0410\u0422\u041e\u0412\u041e, &lt;/span&gt;&lt;span class=\"font0\" style=\"font-style:italic;\"&gt;\u0441\u0435\u043b\u043e&lt;/span&gt;&lt;span class=\"font0\"&gt; \u041d\u0438\u0436\u0435\u0433\u043e\u0440\u043e\u0434\u0441\u043a\u0430\u0433\u043e \u041d\u0430\u043c\u0463\u0441\u0442\u043d\u0438\u0447\u0435\u0441\u0442\u0432\u0430 \u0432\u044a \u0410\u0440\u0437\u0430\u043c\u0430\u0441\u043a\u043e\u043c\u044a \u0443\u0463\u0437\u0434\u0463 ; \u0432\u044a \u043e\u043d\u043e\u043c\u044a \u0431\u044b\u0432\u0430\u0435\u0442\u044a \u043e\u0434\u043d\u0430 \u0432\u044a \u0433\u043e\u0434\u0443 \u044f\u0440\u043c\u0430\u0440\u043a\u0430.&lt;/span&gt;</td>\n",
        "      <td> \u041d\u0438\u0436\u0435\u0433\u043e\u0440\u043e\u0434\u0441\u043a\u0430\u0433\u043e \u041d\u0430\u043c\u0463\u0441\u0442\u043d\u0438\u0447\u0435\u0441\u0442\u0432\u0430</td>\n",
        "      <td>       None</td>\n",
        "    </tr>\n",
        "    <tr>\n",
        "      <th>7</th>\n",
        "      <td> 10</td>\n",
        "      <td>      \u0441\u0435\u043b\u043e</td>\n",
        "      <td>    \u0410\u041a\u0421\u0415\u041b\u042c</td>\n",
        "      <td> \u0422\u0435\u043c\u043d\u0438\u043a\u043e\u0432\u0441\u043a\u043e\u043c\u044a \u0443\u0463\u0437\u0434\u0463</td>\n",
        "      <td> \u0410\u041a\u0421\u0415\u041b\u042c, &lt;/span&gt;&lt;span class=\"font0\" style=\"font-style:italic;\"&gt;\u0441\u0435\u043b\u043e&lt;/span&gt;&lt;span class=\"font0\"&gt; \u0422\u0430\u043c\u0431\u043e\u0432\u0441\u043a\u0430\u0433\u043e \u041d\u0430\u043c\u0463\u0441\u0442\u043d\u0438\u0447\u0435\u0441\u0442\u0432\u0430 \u0432\u044a \u0422\u0435\u043c\u043d\u0438\u043a\u043e\u0432\u0441\u043a\u043e\u043c\u044a \u0443\u0463\u0437\u0434\u0463. \u0417\u0434\u0463\u0441\u044c \u0431\u044b\u0432\u0430\u0435\u0442\u044a \u0433\u043e\u0434\u043e\u0432\u0430\u044f \u044f\u0440\u043c\u0430\u0440\u043a\u0430, \u0441\u0432\u0435\u0440\u0445\u044a \u0435\u0436\u0435\u043d\u0435\u0434\u0463\u043b\u044c\u043d\u044b\u0445\u044a \u0442\u043e\u0440\u0433\u043e\u0432\u044a, \u0432\u044a \u043e\u0434\u0438\u043d\u0430\u0434\u0446\u0430\u0442\u0443\u044e \u043f\u044f\u0442\u043d\u0438\u0446\u0443 \u043f\u043e \u041f\u0430\u0441\u0445\u0463; \u043a\u0443\u043f\u0446\u044b \u0441\u044e\u0434\u0430 \u043f\u0440\u0456\u0463\u0437\u0436\u0430\u044e\u0442\u044a \u0438\u0437\u044a \u0431\u043b\u0438\u0436\u043d\u0438\u0445\u044a \u0433\u043e\u0440\u043e\u0434\u043e\u0432\u044a \u0441\u044a \u0448\u0435\u043b\u043a\u043e\u0432\u044b\u043c\u0438 \u0438 \u0431\u0443\u043c\u0430\u0436\u043d\u044b\u043c\u0438 \u0442\u043e\u0432\u0430\u0440\u0430\u043c\u0438, \u0445\u043b\u0463\u0431\u043e\u043c\u044a \u0438 \u043f\u0440\u043e\u0447\u0438\u043c\u0438 \u043f\u0440\u0438\u043f\u0430\u0441\u0430\u043c\u0438.&lt;/span&gt;</td>\n",
        "      <td>    \u0422\u0430\u043c\u0431\u043e\u0432\u0441\u043a\u0430\u0433\u043e \u041d\u0430\u043c\u0463\u0441\u0442\u043d\u0438\u0447\u0435\u0441\u0442\u0432\u0430</td>\n",
        "      <td>       None</td>\n",
        "    </tr>\n",
        "  </tbody>\n",
        "</table>\n",
        "</div>"
       ],
       "metadata": {},
       "output_type": "pyout",
       "prompt_number": 63,
       "text": [
        "   page      _type       name              ru_uezd  \\\n",
        "3    10       \u0441\u0435\u043b\u043e   \u0410\u0412\u0414\u0423\u041b\u041e\u0412\u041e    \u0414\u043e\u043d\u043a\u043e\u0432\u0441\u043a\u043e\u043c\u044a \u0443\u0463\u0437\u0434\u0463   \n",
        "4    10    \u0432\u043e\u043b\u043e\u0441\u0442\u044c  \u0410\u0412\u0416\u0415\u041d\u0421\u041a\u0410\u042f              \u0438 \u0443\u0463\u0437\u0434\u0443   \n",
        "5    10  \u043c\u043e\u043d\u0430\u0441\u0442\u044b\u0440\u044c  \u0410\u0412\u0420\u0410\u041c\u0406\u0415\u0412\u042a          not_in_text   \n",
        "6    10       \u0441\u0435\u043b\u043e  \u0410\u0414\u041e\u0412\u0410\u0422\u041e\u0412\u041e    \u0410\u0440\u0437\u0430\u043c\u0430\u0441\u043a\u043e\u043c\u044a \u0443\u0463\u0437\u0434\u0463   \n",
        "7    10       \u0441\u0435\u043b\u043e     \u0410\u041a\u0421\u0415\u041b\u042c  \u0422\u0435\u043c\u043d\u0438\u043a\u043e\u0432\u0441\u043a\u043e\u043c\u044a \u0443\u0463\u0437\u0434\u0463   \n",
        "\n",
        "                                                                                                                                                                                                                                                                                                                                                                text  \\\n",
        "3                                                   \u0410\u0412\u0414\u0423\u041b\u041e\u0412\u041e, \u0418\u0412\u0410\u041d\u041e\u0412\u0421\u041a\u041e\u0415 \u0442\u043e\u0436\u044c, </span><span class=\"font0\" style=\"font-style:italic;\">\u0441\u0435\u043b\u043e</span><span class=\"font0\"> \u0420\u044f\u0437\u0430\u043d\u0441\u043a\u0430\u0433\u043e \u041d\u0430\u043c\u0463\u0441\u0442\u043d\u0438\u0447\u0435\u0441\u0442\u0432\u0430 \u0432\u044a \u0414\u043e\u043d\u043a\u043e\u0432\u0441\u043a\u043e\u043c\u044a \u0443\u0463\u0437\u0434\u0463, \u0417\u0434\u0463\u0441\u044c \u0431\u044b\u0432\u0430\u0435\u0442\u044a \u043e\u0434\u043d\u0430 \u0433\u043e\u0434\u043e\u0432\u0430\u044f \u044f\u0440\u043c\u0430\u0440\u043a\u0430 \u0432\u044a \u0434\u0435\u043d\u044c \u0406\u043e\u0430\u043d\u043d\u0430 \u0412\u043e\u0438\u043d\u0430, \u0442\u043e \u0435\u0441\u0442\u044c \u0406\u044e\u043b\u044f 30, \u043d\u0430 \u043a\u043e\u0442\u043e\u0440\u0443\u044e \u043f\u0440\u0456\u0463\u0437\u0436\u0430\u044e\u0442\u044a \u043a\u0443\u043f\u0446\u044b \u0438 \u043a\u0440\u0435\u0441\u0442\u044c\u044f\u043d\u0435 \u0441\u044a \u043c\u0463\u043b\u043e\u0447\u043d\u044b\u043c\u0438 \u0442\u043e\u0432\u0430\u0440\u0430\u043c\u0438.</span>   \n",
        "4                                                                                                                   \u0410\u0412\u0416\u0415\u041d\u0421\u041a\u0410\u042f , </span><span class=\"font0\" style=\"font-style:italic;\">\u0432\u043e\u043b\u043e\u0441\u0442\u044c </span><span class=\"font0\">\u0412\u043e\u043b\u043e\u0433\u043e\u0434\u0441\u043a\u0430\u0433\u043e \u041d\u0430\u043c\u0463\u0441\u0442\u043d\u0438\u0447\u0435\u0441\u0442\u0432\u0430 \u0438 \u0443\u0463\u0437\u0434\u0443. \u0417\u0434\u0463\u0441\u044c \u0431\u044b\u0432\u0430\u0435\u0442\u044a \u0434\u0432\u0430 \u0440\u0430\u0437\u0430 \u0432\u044a \u0433\u043e\u0434\u044a \u044f\u0440\u043c\u0430\u0440\u043a\u0430 , \u043d\u0430 \u043a\u043e\u0435\u0439 \u0442\u043e\u0440\u0433\u0443\u044e\u0442\u044a \u0412\u043e\u043b\u043e\u0433\u043e\u0434\u0441\u043a\u0456\u0435 \u043a\u0443\u043f\u0446\u044b \u043c\u0463\u043b\u043e\u0447\u043d\u044b\u043c\u0438 \u0442\u043e\u0432\u0430\u0440\u0430\u043c\u0438.</span>   \n",
        "5                                                           \u0410\u0412\u0420\u0410\u041c\u0406\u0415\u0412\u042a</span><span class=\"font0\" style=\"font-style:italic;\">, \u043c\u043e\u043d\u0430\u0441\u0442\u044b\u0440\u044c </span><span class=\"font0\">\u041a\u043e\u0441\u0442\u0440\u043e\u043c\u0441\u043a\u0430\u0433\u043e \u041d\u0430\u043c\u0463\u0441\u0442\u043d\u0438\u0447\u0435\u0441\u0442\u0432\u0430, \u043e\u0442\u044a \u0433\u043e\u0440\u043e\u0434\u0430 \u0427\u0443\u0445\u043b\u043e\u043c\u044b \u0432\u044a 10 \u0432\u0435\u0440\u0441\u0442\u0430\u0445\u044a. \u0417\u0434\u0463\u0441\u044c \u0431\u044b\u0432\u0430\u0435\u0442\u044a \u044f\u0440\u043c\u0430\u0440\u043a\u0430. \u0417\u0440\u0438 </span><span class=\"font0\" style=\"font-style:italic;\">\u0427\u0443x\u043b\u043e\u043c\u0430</span><span class=\"font0\"> \u0433\u043e\u0440\u043e\u0434\u044a.</span>   \n",
        "6                                                                                                                                                                \u0410\u0414\u041e\u0412\u0410\u0422\u041e\u0412\u041e, </span><span class=\"font0\" style=\"font-style:italic;\">\u0441\u0435\u043b\u043e</span><span class=\"font0\"> \u041d\u0438\u0436\u0435\u0433\u043e\u0440\u043e\u0434\u0441\u043a\u0430\u0433\u043e \u041d\u0430\u043c\u0463\u0441\u0442\u043d\u0438\u0447\u0435\u0441\u0442\u0432\u0430 \u0432\u044a \u0410\u0440\u0437\u0430\u043c\u0430\u0441\u043a\u043e\u043c\u044a \u0443\u0463\u0437\u0434\u0463 ; \u0432\u044a \u043e\u043d\u043e\u043c\u044a \u0431\u044b\u0432\u0430\u0435\u0442\u044a \u043e\u0434\u043d\u0430 \u0432\u044a \u0433\u043e\u0434\u0443 \u044f\u0440\u043c\u0430\u0440\u043a\u0430.</span>   \n",
        "7  \u0410\u041a\u0421\u0415\u041b\u042c, </span><span class=\"font0\" style=\"font-style:italic;\">\u0441\u0435\u043b\u043e</span><span class=\"font0\"> \u0422\u0430\u043c\u0431\u043e\u0432\u0441\u043a\u0430\u0433\u043e \u041d\u0430\u043c\u0463\u0441\u0442\u043d\u0438\u0447\u0435\u0441\u0442\u0432\u0430 \u0432\u044a \u0422\u0435\u043c\u043d\u0438\u043a\u043e\u0432\u0441\u043a\u043e\u043c\u044a \u0443\u0463\u0437\u0434\u0463. \u0417\u0434\u0463\u0441\u044c \u0431\u044b\u0432\u0430\u0435\u0442\u044a \u0433\u043e\u0434\u043e\u0432\u0430\u044f \u044f\u0440\u043c\u0430\u0440\u043a\u0430, \u0441\u0432\u0435\u0440\u0445\u044a \u0435\u0436\u0435\u043d\u0435\u0434\u0463\u043b\u044c\u043d\u044b\u0445\u044a \u0442\u043e\u0440\u0433\u043e\u0432\u044a, \u0432\u044a \u043e\u0434\u0438\u043d\u0430\u0434\u0446\u0430\u0442\u0443\u044e \u043f\u044f\u0442\u043d\u0438\u0446\u0443 \u043f\u043e \u041f\u0430\u0441\u0445\u0463; \u043a\u0443\u043f\u0446\u044b \u0441\u044e\u0434\u0430 \u043f\u0440\u0456\u0463\u0437\u0436\u0430\u044e\u0442\u044a \u0438\u0437\u044a \u0431\u043b\u0438\u0436\u043d\u0438\u0445\u044a \u0433\u043e\u0440\u043e\u0434\u043e\u0432\u044a \u0441\u044a \u0448\u0435\u043b\u043a\u043e\u0432\u044b\u043c\u0438 \u0438 \u0431\u0443\u043c\u0430\u0436\u043d\u044b\u043c\u0438 \u0442\u043e\u0432\u0430\u0440\u0430\u043c\u0438, \u0445\u043b\u0463\u0431\u043e\u043c\u044a \u0438 \u043f\u0440\u043e\u0447\u0438\u043c\u0438 \u043f\u0440\u0438\u043f\u0430\u0441\u0430\u043c\u0438.</span>   \n",
        "\n",
        "                         ru_prov    alt_name  \n",
        "3      \u0420\u044f\u0437\u0430\u043d\u0441\u043a\u0430\u0433\u043e \u041d\u0430\u043c\u0463\u0441\u0442\u043d\u0438\u0447\u0435\u0441\u0442\u0432\u0430  \u0418\u0412\u0410\u041d\u041e\u0412\u0421\u041a\u041e\u0415  \n",
        "4    \u0412\u043e\u043b\u043e\u0433\u043e\u0434\u0441\u043a\u0430\u0433\u043e \u041d\u0430\u043c\u0463\u0441\u0442\u043d\u0438\u0447\u0435\u0441\u0442\u0432\u0430        None  \n",
        "5    \u041a\u043e\u0441\u0442\u0440\u043e\u043c\u0441\u043a\u0430\u0433\u043e \u041d\u0430\u043c\u0463\u0441\u0442\u043d\u0438\u0447\u0435\u0441\u0442\u0432\u0430        None  \n",
        "6  \u041d\u0438\u0436\u0435\u0433\u043e\u0440\u043e\u0434\u0441\u043a\u0430\u0433\u043e \u041d\u0430\u043c\u0463\u0441\u0442\u043d\u0438\u0447\u0435\u0441\u0442\u0432\u0430        None  \n",
        "7     \u0422\u0430\u043c\u0431\u043e\u0432\u0441\u043a\u0430\u0433\u043e \u041d\u0430\u043c\u0463\u0441\u0442\u043d\u0438\u0447\u0435\u0441\u0442\u0432\u0430        None  "
       ]
      }
     ],
     "prompt_number": 63
    },
    {
     "cell_type": "code",
     "collapsed": false,
     "input": [
      "pd.options.display.max_colwidth = 1000"
     ],
     "language": "python",
     "metadata": {},
     "outputs": [],
     "prompt_number": 64
    },
    {
     "cell_type": "code",
     "collapsed": false,
     "input": [
      "#These are false positives for uyezdi, they mention counties elsewhere in the description\n",
      "market_df.ru_uezd = market_df.ru_uezd.replace(r'[\u0432\u0412]\u044a \u0443\u0463\u0437\u0434\u0463','not_in_text',regex=True)\n",
      "market_df.ru_uezd = market_df.ru_uezd.replace(r'\u0438\u0437\u044a \u0443\u0463\u0437\u0434\u0443','not_in_text',regex=True)"
     ],
     "language": "python",
     "metadata": {},
     "outputs": [],
     "prompt_number": 65
    },
    {
     "cell_type": "markdown",
     "metadata": {},
     "source": [
      "Adding URLs to link to Hathi Trust"
     ]
    },
    {
     "cell_type": "code",
     "collapsed": false,
     "input": [
      "market_df['source_url'] = market_df.page.apply(lambda x: \"http://babel.hathitrust.org/cgi/pt?id=uc1.b4583201;view=1up;seq={}\".format(x-1))"
     ],
     "language": "python",
     "metadata": {},
     "outputs": [],
     "prompt_number": 66
    },
    {
     "cell_type": "markdown",
     "metadata": {},
     "source": [
      "Some admin cleanup\n",
      "==================\n",
      "Here's a bit more housekeeping, replacing parts of administrative unit names that don't carry meaning, dealing with variant spellings, and getting rid of html in text descriptions"
     ]
    },
    {
     "cell_type": "code",
     "collapsed": false,
     "input": [
      "# Replacing parts of names that don't carry meaning\n",
      "market_df.ru_prov = market_df.ru_prov.replace('\u0413\u0440\u0430\u0444\u0430 \u0412\u043e\u0440\u043e\u043d\u0446\u043e\u0432\u0430 ','',regex=True) #a count of an area\n",
      "market_df.ru_prov = market_df.ru_prov.replace('\u0413\u0440\u0430\u0444\u0430 \u0428\u0435\u0440\u0435\u043c\u0435\u0442\u0435\u0432\u0430, ','',regex=True) #a count of an area\n",
      "market_df.ru_prov = market_df.ru_prov.replace('\u0413\u0440\u0430\u0444\u0430 \u0413\u0435\u043d\u0434\u0440\u0438\u043a\u043e\u0432\u0430 \u0432\u044a ','',regex=True) #a count of an area\n",
      "market_df.ru_prov = market_df.ru_prov.replace('\u041d\u0435\u043f\u043b\u044e\u0435\u0432\u044b\u0445\u044a, ','',regex=True) #a count of an area\n",
      "market_df.ru_prov = market_df.ru_prov.replace('\u0440\u0430\u0437\u043d\u044b\u0445\u044a \u041f\u043e\u043c\u0463\u0449\u0438\u043a\u043e\u0432\u044a ','',regex=True)\n",
      "market_df.ru_prov = market_df.ru_prov.replace('\u0440\u0430\u0437\u043d\u044b\u0445\u044a \u0413\u043e\u0441\u043f\u043e\u0434\u044a ','',regex=True) #various gentlemen\n",
      "market_df.ru_prov = market_df.ru_prov.replace('\u041c\u0435\u043d\u044c\u0448\u0438\u043a\u043e\u0432\u0430 \u0432\u044a ','',regex=True)\n",
      "market_df.ru_prov = market_df.ru_prov.replace('\u041d\u0435\u043f\u043b\u044e\u0435-\u0432\u044b\u0445\u044a, ','',regex=True)\n",
      "market_df.ru_prov = market_df.ru_prov.replace('\u0443\u0440\u0430\u043b\u044c\u0441\u043a\u0438\u0445\u044a \u041a\u043e\u0437\u0430\u043a\u043e\u0432\u044a \u0432\u044a ','',regex=True) #of the Ural Cossacks\n",
      "market_df.ru_prov = market_df.ru_prov.replace('\u0443\u0440\u043e\u0447\u0438\u0449\u0463 \u0421\u043e\u0431\u043e\u0440\u0430 \u041d\u0438\u043a\u043e\u043b\u0430\u044f \u0427\u0443\u0434\u043e\u0442\u0432\u043e\u0440\u0446\u0430 \u0413\u043e\u0441\u0442\u0443\u043d\u0441\u043a\u0430\u0433\u043e, ','',regex=True) #In the tract of the Cathedral of St. Nicholas Gostunskii\n",
      "market_df.ru_prov = market_df.ru_prov.replace(' \u0436\u0435','',regex=True)\n",
      "market_df.ru_prov = market_df.ru_prov.replace(r'^[\u0412\u0432]\u044a ','',regex=True)"
     ],
     "language": "python",
     "metadata": {},
     "outputs": [],
     "prompt_number": 67
    },
    {
     "cell_type": "code",
     "collapsed": false,
     "input": [
      "#market_df.ix[market_df.ru_prov=='\u041d\u0435\u043f\u043b\u044e\u0435\u0432\u044b\u0445\u044a, \u0427\u0435\u0440\u043d\u0438\u0433\u043e\u0432\u0441\u043a\u0430\u0433\u043e \u041d\u0430\u043c\u0463\u0441\u0442\u043d\u0438\u0447\u0435\u0441\u0442\u0432\u0430']"
     ],
     "language": "python",
     "metadata": {},
     "outputs": [],
     "prompt_number": 68
    },
    {
     "cell_type": "code",
     "collapsed": false,
     "input": [
      "market_df.ru_prov.unique()"
     ],
     "language": "python",
     "metadata": {},
     "outputs": [
      {
       "metadata": {},
       "output_type": "pyout",
       "prompt_number": 69,
       "text": [
        "array(['\u0420\u044f\u0437\u0430\u043d\u0441\u043a\u0430\u0433\u043e \u041d\u0430\u043c\u0463\u0441\u0442\u043d\u0438\u0447\u0435\u0441\u0442\u0432\u0430', '\u0412\u043e\u043b\u043e\u0433\u043e\u0434\u0441\u043a\u0430\u0433\u043e \u041d\u0430\u043c\u0463\u0441\u0442\u043d\u0438\u0447\u0435\u0441\u0442\u0432\u0430',\n",
        "       '\u041a\u043e\u0441\u0442\u0440\u043e\u043c\u0441\u043a\u0430\u0433\u043e \u041d\u0430\u043c\u0463\u0441\u0442\u043d\u0438\u0447\u0435\u0441\u0442\u0432\u0430', '\u041d\u0438\u0436\u0435\u0433\u043e\u0440\u043e\u0434\u0441\u043a\u0430\u0433\u043e \u041d\u0430\u043c\u0463\u0441\u0442\u043d\u0438\u0447\u0435\u0441\u0442\u0432\u0430',\n",
        "       '\u0422\u0430\u043c\u0431\u043e\u0432\u0441\u043a\u0430\u0433\u043e \u041d\u0430\u043c\u0463\u0441\u0442\u043d\u0438\u0447\u0435\u0441\u0442\u0432\u0430', '\u0421\u0438\u043d\u0431\u0438\u0440\u0441\u043a\u0430\u0433\u043e \u041d\u0430\u043c\u0463\u0441\u0442\u043d\u0438\u0447\u0435\u0441\u0442\u0432\u0430',\n",
        "       '\u042f\u0440\u043e\u0441\u043b\u0430\u0432\u0441\u043a\u0430\u0433\u043e \u041d\u0430\u043c\u0463\u0441\u0442\u043d\u0438\u0447\u0435\u0441\u0442\u0432\u0430', '\u041f\u0435\u043d\u0437\u0435\u043d\u0441\u043a\u0430\u0433\u043e \u041d\u0430\u043c\u0463\u0441\u0442\u043d\u0438\u0447\u0435\u0441\u0442\u0432\u0430',\n",
        "       '\u0422\u0443\u043b\u044c\u0441\u043a\u0430\u0433\u043e \u041d\u0430\u043c\u0463\u0441\u0442\u043d\u0438\u0447\u0435\u0441\u0442\u0432\u0430', '\u0412\u043e\u0440\u043e\u043d\u0435\u0436\u0441\u043a\u043e\u043c\u044a \u041d\u0430\u043c\u0463\u0441\u0442\u043d\u0438\u0447\u0435\u0441\u0442\u0432\u0463',\n",
        "       '\u0415\u043a\u0430\u0442\u0435\u0440\u0438\u043d\u043e\u0441\u043b\u0430\u0432\u0441\u043a\u0430\u0433\u043e \u041d\u0430\u043c\u0463\u0441\u0442\u043d\u0438\u0447\u0435\u0441\u0442\u0432\u0430', '\u041a\u0443\u0440\u0441\u043a\u0430\u0433\u043e \u041d\u0430\u043c\u0463\u0441\u0442\u043d\u0438\u0447\u0435\u0441\u0442\u0432\u0430',\n",
        "       '\u0425\u0430\u0440\u044c\u043a\u043e\u0432\u0441\u043a\u0430\u0433\u043e \u041d\u0430\u043c\u0463\u0441\u0442\u043d\u0438\u0447\u0435\u0441\u0442\u0432\u0430', '\u041c\u043e\u0433\u0438\u043b\u0435\u0432\u0441\u043a\u0430\u0433\u043e \u041d\u0430\u043c\u0463\u0441\u0442\u043d\u0438\u0447\u0435\u0441\u0442\u0432\u0430',\n",
        "       '\u041e\u0440\u043b\u043e\u0432\u0441\u043a\u0430\u0433\u043e \u041d\u0430\u043c\u0463\u0441\u0442\u043d\u0438\u0447\u0435\u0441\u0442\u0432\u0430', '\u041d\u0430\u043c\u0463\u0441\u0442\u043d\u0438\u0447\u0435\u0441\u0442\u0432\u0430 \u0441\u0435\u0433\u043e \u0438\u043c\u0435\u043d\u0438',\n",
        "       '\u041a\u0430\u0432\u043a\u0430\u0437\u0441\u043a\u0430\u0433\u043e \u041d\u0430\u043c\u0463\u0441\u0442\u043d\u0438\u0447\u0435\u0441\u0442\u0432\u0430', '\u0421\u0430\u0440\u0430\u0442\u043e\u0432\u0441\u043a\u0430\u0433\u043e \u041d\u0430\u043c\u0463\u0441\u0442\u043d\u0438\u0447\u0435\u0441\u0442\u0432\u0430',\n",
        "       'not_in_text', '\u041a\u0456\u0435\u0432\u0441\u043a\u0430\u0433\u043e \u041d\u0430\u043c\u0463\u0441\u0442\u043d\u0438\u0447\u0435\u0441\u0442\u0432\u0430', '\u0442\u043e\u0433\u043e \u041d\u0430\u043c\u0463\u0441\u0442\u043d\u0438\u0447\u0435\u0441\u0442\u0432\u0430',\n",
        "       '\u041d\u043e\u0432\u043e\u0433\u043e\u0440\u043e\u0434\u0441\u043a\u0430\u0433\u043e - \u0421\u0463\u0432\u0435\u0440\u0441\u043a\u0430\u0433\u043e \u041d\u0430\u043c\u0463\u0441\u0442\u043d\u0438\u0447\u0435\u0441\u0442\u0432\u0430',\n",
        "       '\u0415\u043a\u0430\u0442\u0435\u0440\u0438\u043d\u043e\u0441\u043b\u0430\u0432\u0441\u043a\u043e\u043c\u044a \u041d\u0430\u043c\u0463\u0441\u0442\u043d\u0438\u0447\u0435\u0441\u0442\u0432\u0463', '\u0427\u0435\u0440\u043d\u0438\u0433\u043e\u0432\u0441\u043a\u0430\u0433\u043e \u041d\u0430\u043c\u0463\u0441\u0442\u043d\u0438\u0447\u0435\u0441\u0442\u0432\u0430',\n",
        "       '\u0421\u0430\u0440\u0430\u0442\u043e\u0432\u0441\u043a\u043e\u043c\u044a \u041d\u0430\u043c\u0463\u0441\u0442\u043d\u0438\u0447\u0435\u0441\u0442\u0432\u0463', '\u0422\u043e\u0431\u043e\u043b\u044c\u0441\u043a\u0430\u0433\u043e \u041d\u0430\u043c\u0463\u0441\u0442\u043d\u0438\u0447\u0435\u0441\u0442\u0432\u0430',\n",
        "       '\u041c\u043e\u0441\u043a\u043e\u0432\u0441\u043a\u043e\u0439 \u0413\u0443\u0431\u0435\u0440\u043d\u0456\u0438', '\u041a\u0430\u0437\u0430\u043d\u0441\u043a\u0430\u0433\u043e \u041d\u0430\u043c\u0463\u0441\u0442\u043d\u0438\u0447\u0435\u0441\u0442\u0432\u0430',\n",
        "       '\u041f\u043e\u043b\u043e\u0442\u0441\u043a\u0430\u0433\u043e \u041d\u0430\u043c\u0463\u0441\u0442\u043d\u0438\u0447\u0435\u0441\u0442\u0432\u0430', '\u0410\u0440\u0445\u0430\u043d\u0433\u0435\u043b\u044c\u0441\u043a\u043e\u043c\u044a \u041d\u0430\u043c\u0463\u0441\u0442\u043d\u0438\u0447\u0435\u0441\u0442\u0432\u0463',\n",
        "       '\u041f\u0435\u0440\u043c\u0441\u043a\u0430\u0433\u043e \u041d\u0430\u043c\u0463\u0441\u0442\u043d\u0438\u0447\u0435\u0441\u0442\u0432\u0430', '\u0423\u0444\u0438\u043c\u0441\u043a\u0430\u0433\u043e \u041d\u0430\u043c\u0463\u0441\u0442\u043d\u0438\u0447\u0435\u0441\u0442\u0432\u0430',\n",
        "       '\u0412\u043b\u0430\u0434\u0438\u043c\u0435\u0440\u0441\u043a\u0430\u0433\u043e \u041d\u0430\u043c\u0463\u0441\u0442\u043d\u0438\u0447\u0435\u0441\u0442\u0432\u0430', '\u0422\u0432\u0435\u0440\u0441\u043a\u0430\u0433\u043e \u041d\u0430\u043c\u0463\u0441\u0442\u043d\u0438\u0447\u0435\u0441\u0442\u0432\u0430',\n",
        "       '\u0421\u0438\u043d\u0431\u0438\u0440\u0441\u043a\u043e\u043c\u044a \u041d\u0430\u043c\u0463\u0441\u0442\u043d\u0438\u0447\u0435\u0441\u0442\u0432\u0463', '\u041d\u043e\u0432\u043e\u0433\u043e\u0440\u043e\u0434\u0441\u043a\u0430\u0433\u043e \u041d\u0430\u043c\u0463\u0441\u0442\u043d\u0438\u0447\u0435\u0441\u0442\u0432\u0430',\n",
        "       '\u041a\u0430\u043b\u0443\u0436\u0441\u043a\u0430\u0433\u043e \u041d\u0430\u043c\u0463\u0441\u0442\u043d\u0438\u0447\u0435\u0441\u0442\u0432\u0430', '\u0421\u043c\u043e\u043b\u0435\u043d\u0441\u043a\u0430\u0433\u043e \u041d\u0430\u043c\u0463\u0441\u0442\u043d\u0438\u0447\u0435\u0441\u0442\u0432\u0430',\n",
        "       '\u0412\u043e\u0440\u043e\u043d\u0435\u0436\u0441\u043a\u0430\u0433\u043e \u041d\u0430\u043c\u0463\u0441\u0442\u043d\u0438\u0447\u0435\u0441\u0442\u0432\u0430', '\u0410\u0440\u0445\u0430\u043d\u0433\u0435\u043b\u044c\u0441\u043a\u0430\u0433\u043e \u041d\u0430\u043c\u0463\u0441\u0442\u043d\u0438\u0447\u0435\u0441\u0442\u0432\u0430',\n",
        "       '\u0420\u0438\u0436\u0441\u043a\u0430\u0433\u043e \u041d\u0430\u043c\u0463\u0441\u0442\u043d\u0438\u0447\u0435\u0441\u0442\u0432\u0430', '\u0427\u0435\u0440\u043d\u0438\u0433\u043e\u0432\u0441\u043a\u0430\u0433\u043e \u041d\u0430\u043c\u0463\u0441\u0442\u043d\u0438\u0447\u043b\u0441\u0442\u0432\u0430',\n",
        "       '\u0418\u0440\u043a\u0443\u0442\u0441\u043a\u0430\u0433\u043e \u041d\u0430\u043c\u0463\u0441\u0442\u043d\u0438\u0447\u0435\u0441\u0442\u0432\u0430', '\u0412\u044b\u0431\u043e\u0440\u0433\u0441\u043a\u0430\u0433\u043e \u041d\u0430\u043c\u0463\u0441\u0442\u043d\u0438\u0447\u0435\u0441\u0442\u0432\u0430',\n",
        "       '\u041f\u0441\u043a\u043e\u0432\u0441\u043a\u0430\u0433\u043e \u041d\u0430\u043c\u0463\u0441\u0442\u043d\u0438\u0447\u0435\u0441\u0442\u0432\u0430', '\u0422\u0430\u043c\u0431\u043e\u0432\u0441\u043a\u043e\u043c\u044a \u041d\u0430\u043c\u0463\u0441\u0442\u043d\u0438\u0447\u0435\u0441\u0442\u0432\u0463',\n",
        "       '\u041e\u043b\u043e\u043d\u0435\u0446\u043a\u0430\u0433\u043e \u041d\u0430\u043c\u0463\u0441\u0442\u043d\u0438\u0447\u0435\u0441\u0442\u0432\u0430', '\u0412\u043e\u043b\u043e\u0434\u0438\u043c\u0435\u0440\u0441\u043a\u0430\u0433\u043e \u041d\u0430\u043c\u0463\u0441\u0442\u043d\u0438\u0447\u0435\u0441\u0442\u0432\u0430',\n",
        "       '\u0420\u0435\u0432\u0435\u043b\u044c\u0441\u043a\u0430\u0433\u043e \u041d\u0430\u043c\u0463\u0441\u0442\u043d\u0438\u0447\u0435\u0441\u0442\u0432\u0430', '\u0422\u0443\u043b\u044c\u0441\u043a\u0430\u0433\u0443 \u041d\u0430\u043c\u0463\u0441\u0442\u043d\u0438\u0447\u0435\u0441\u0442\u0432\u0430',\n",
        "       '\u041f\u0435\u043d\u0437\u0435\u043d\u0441\u043a\u0430\u0433\u043e \u041d\u0430\u043c\u0463\u0441\u0442\u043d\u0438\u0447\u0430\u0441\u0442\u0432\u0430', '\u0412\u043b\u0430\u0434\u0438\u043c\u0435\u0440\u043a\u0430\u0433\u043e \u041d\u0430\u043c\u0463\u0441\u0442\u043d\u0438\u0447\u0435\u0441\u0442\u0432\u0430',\n",
        "       '\u0443\u0444\u0438\u043c\u0441\u043a\u0430\u0433\u043e \u041d\u0430\u043c\u0463\u0441\u0442\u043d\u0438\u0447\u0435\u0441\u0442\u0432\u0430', '\u0442\u043e\u0439 \u0413\u0443\u0431\u0435\u0440\u043d\u0456\u0438',\n",
        "       '\u041a\u0456\u0435\u0432\u0441\u043a\u0430\u0433\u043e \u041d\u0430\u0441\u0442\u043d\u0438\u0447\u0435\u0441\u0442\u0432\u0430', '\u0412\u044f\u0442\u0441\u043a\u0430\u0433\u043e \u041d\u0430\u043c\u0463\u0441\u0442\u043d\u0438\u0447\u0435\u0441\u0442\u0432\u0430',\n",
        "       '\u0421. \u041f\u0435\u0442\u0435\u0440\u0431\u0443\u0440\u0433\u0441\u043a\u043e\u0439 \u0413\u0443\u0431\u0435\u0440\u043d\u0456\u0438', '\u041d\u043e\u0432\u0433\u043e\u0440\u043e\u0434\u0441\u043a\u0430\u0433\u043e \u041d\u0430\u043c\u0463\u0441\u0442\u043d\u0438\u0447\u0435\u0441\u0442\u0432\u0430',\n",
        "       '\u041d\u043e\u0432\u043e\u0433\u043e\u0440\u043e\u0434\u0441\u043a\u0430\u0433\u043e-\u0421\u0463\u0432\u0435\u0440\u0441\u043a\u0430\u0433\u043e \u041d\u0430\u043c\u0463\u0441\u0442\u043d\u0438\u0447\u0435\u0441\u0442\u0432\u0430',\n",
        "       '\u0421\u0438\u043c\u0431\u0438\u0440\u0441\u043a\u0430\u0433\u043e \u041d\u0430\u043c\u0463\u0441\u0442\u043d\u0438\u0447\u0435\u0441\u0442\u0432\u0430', '\u041a\u0430\u0432\u043a\u0430\u0437\u0441\u043a\u043e\u043c\u044a \u041d\u0430\u043c\u0463\u0441\u0442\u043d\u0438\u0447\u0435\u0441\u0442\u0432\u0463'], dtype=object)"
       ]
      }
     ],
     "prompt_number": 69
    },
    {
     "cell_type": "code",
     "collapsed": false,
     "input": [
      "market_df.ru_uezd.unique()"
     ],
     "language": "python",
     "metadata": {},
     "outputs": [
      {
       "metadata": {},
       "output_type": "pyout",
       "prompt_number": 70,
       "text": [
        "array(['\u0414\u043e\u043d\u043a\u043e\u0432\u0441\u043a\u043e\u043c\u044a \u0443\u0463\u0437\u0434\u0463', '\u0438 \u0443\u0463\u0437\u0434\u0443', 'not_in_text', '\u0410\u0440\u0437\u0430\u043c\u0430\u0441\u043a\u043e\u043c\u044a \u0443\u0463\u0437\u0434\u0463',\n",
        "       '\u0422\u0435\u043c\u043d\u0438\u043a\u043e\u0432\u0441\u043a\u043e\u043c\u044a \u0443\u0463\u0437\u0434\u0463', '\u041a\u0435\u0440\u0435\u043d\u0441\u043a\u043e\u043c\u044a \u0443\u0463\u0437\u0434\u0463', '\u0411\u0463\u043b\u043e\u0433\u043e\u0440\u043e\u0434\u0441\u043a\u043e\u043c\u044a \u0443\u0463\u0437\u0434\u0463',\n",
        "       '\u0418\u0437\u044e\u043c\u0441\u043a\u043e\u043c\u044a \u0443\u0463\u0437\u0434\u0463', '\u0420\u043e\u0433\u0430\u0447\u0435\u0432\u0441\u043a\u043e\u043c\u044a \u0443\u0463\u0437\u0434\u0463', '\u0410\u043b\u0430\u0442\u044b\u0440\u044c\u0441\u043a\u043e\u043c\u044a \u0443\u0463\u0437\u0434\u0463',\n",
        "       '\u0415\u043b\u0435\u0446\u043a\u043e\u043c\u044a \u0443\u0463\u0437\u0434\u0463', '\u0412\u0435\u043d\u0435\u0432\u0441\u043a\u043e\u043c\u044a \u0443\u0463\u0437\u0434\u0463', '\u0421\u0430\u0440\u0430\u043d\u0441\u043a\u043e\u043c\u044a \u0443\u0463\u0437\u0434\u0463',\n",
        "       '\u0418\u0437\u044e\u043c\u043e\u0432\u0441\u043a\u043e\u043c\u044a \u0443\u0463\u0437\u0434\u0463', '\u041f\u0435\u0440\u0435\u044f\u0441\u043b\u0430\u0432\u0441\u043a\u043e\u043c\u044a \u0443\u0463\u0437\u0434\u0463', '\u041d\u0463\u0436\u0438\u043d\u0441\u043a\u043e\u043c\u044a \u0443\u0463\u0437\u0434\u0463',\n",
        "       '\u0438 \u0443\u0463\u0437\u0434\u0463', '\u0427\u0443\u0445\u043b\u043e\u043c\u0441\u043a\u043e\u043c\u044a \u0443\u0463\u0437\u0434\u0463', '\u0412\u043e\u043b\u043e\u043a\u043e\u043b\u0430\u043c\u0441\u043a\u043e\u043c\u044a \u0443\u0463\u0437\u0434\u0463',\n",
        "       '\u041a\u0430\u0448\u0438\u0440\u0441\u043a\u043e\u043c\u044a \u0443\u0463\u0437\u0434\u0463', '\u0414\u0438\u043d\u0430\u0431\u0443\u0440\u0433\u0441\u043a\u043e\u043c\u044a \u0443\u0463\u0437\u0434\u0463', '\u0427\u0435\u043b\u044f\u0431\u0438\u043d\u0441\u043a\u043e\u043c\u044a \u0443\u0463\u0437\u0434\u0463',\n",
        "       '\u041c\u0438\u0440\u0433\u043e\u0440\u043e\u0434\u0441\u043a\u043e\u043c\u044a \u0443\u0463\u0437\u0434\u0463', '\u0410\u043b\u0435\u043a\u0441\u0438\u043d\u0441\u043a\u043e\u043c\u044a \u0443\u0463\u0437\u0434\u0463', '\u041d\u0438\u0436\u0435\u043b\u043e\u043c\u043e\u0432\u0441\u043a\u043e\u043c\u044a \u0443\u0463\u0437\u0434\u0463',\n",
        "       '\u0421\u0443\u0437\u0434\u0430\u043b\u044c\u0441\u043a\u043e\u043c\u044a \u0443\u0463\u0437\u0434\u0463', '\u0417\u0443\u0431\u0446\u043e\u0432\u0430', '\u041c\u043e\u0436\u0430\u0439\u0441\u043a\u043e\u043c\u044a \u0443\u0463\u0437\u0434\u0463',\n",
        "       '\u041f\u0435\u0442\u0440\u043e\u0432\u0441\u043a\u043e\u043c\u044a \u0443\u0463\u0437\u0434\u0463', '\u0410\u0445\u0442\u044b\u0440\u0441\u043a\u043e\u043c\u044a \u0443\u0463\u0437\u0434\u0463', '\u041a\u043e\u0437\u0435\u043b\u044c\u0441\u043a\u043e\u043c\u044a \u0443\u0463\u0437\u0434\u0463',\n",
        "       '\u041f\u043e\u043b\u043e\u0442\u0430\u0432\u0441\u043a\u043e\u043c\u044a \u0443\u0463\u0437\u0434\u0463', '\u041d\u043e\u0432\u0433\u043e\u0440\u043e\u0434\u0441\u043a\u043e\u043c\u044a \u0443\u0463\u0437\u0434\u0463', '\u041b\u0443\u0431\u0435\u043d\u0441\u043a\u043e\u043c\u044a \u0443\u0463\u0437\u0434\u0463',\n",
        "       '\u0415\u043f\u0438\u0444\u0430\u043d\u0441\u043a\u043e\u043c\u044a \u0443\u0463\u0437\u0434\u0463', '\u041f\u0438\u0440\u044f\u0442\u0438\u043d\u0441\u043a\u043e\u043c\u044a \u0443\u0463\u0437\u0434\u0463', '\u041f\u043e\u043b\u0442\u0430\u0432\u0441\u043a\u043e\u043c\u044a \u0443\u0463\u0437\u0434\u0463',\n",
        "       '\u041f\u043e\u0448\u0435\u0445\u043e\u043d\u0441\u043a\u043e\u043c\u044a \u0443\u0463\u0437\u0434\u0463', '\u0411\u0463\u043b\u043e\u0437\u0435\u0440\u0441\u043a\u043e\u043c\u044a \u0443\u0463\u0437\u0434\u0463', '\u0412\u0430\u043b\u0443\u0435\u043a\u044a',\n",
        "       '\u041f\u0440\u0438\u043b\u0443\u0446\u043a\u043e\u043c\u044a \u0443\u0463\u0437\u0434\u0463', '\u041c\u0435\u0437\u0435\u043d\u0441\u043a\u043e\u043c\u044a \u0443\u0463\u0437\u0434\u0463', '\u0420\u043e\u0441\u0442\u043e\u0432\u0441\u043a\u043e\u043c\u044a \u0443\u0463\u0437\u0434\u0463',\n",
        "       '\u0413\u0430\u0434\u044f\u0446\u043a\u043e\u043c\u044a \u0443\u0463\u0437\u0434\u0463', '\u0413\u043e\u0440\u043e\u0445\u043e\u0432\u0441\u043a\u043e\u043c\u044a \u0443\u0463\u0437\u0434\u0463', '\u041f\u043e\u043b\u043e\u0442\u0441\u043a\u0430',\n",
        "       '\u041a\u0430\u0448\u0438\u043d\u0441\u043a\u043e\u043c\u044a \u0443\u0463\u0437\u0434\u0463', '\u041a\u0438\u043d\u0435\u0448\u043c\u044b', '\u0412\u0435\u0440\u0435\u0439\u0441\u043a\u043e\u043c\u044a \u0443\u0463\u0437\u0434\u0463', '\u0420\u043e\u0433\u0430\u0447\u0435\u0432\u0430',\n",
        "       '\u0411\u0463\u043b\u0438\u0446\u043a\u043e\u043c\u044a \u0443\u0463\u0437\u0434\u0463', '\u0428\u0430\u0442\u0441\u043a\u043e\u043c\u044a \u0443\u0463\u0437\u0434\u0463', '\u0410\u043b\u0435\u043a\u0441\u0438\u043d\u0430', '\u041b\u044e\u0431\u0438\u043c\u0441\u043a\u043e\u043c\u044a \u0443\u0463\u0437\u0434\u0463',\n",
        "       '\u041e\u0441\u0442\u0440\u043e\u0432\u0441\u043a\u043e\u043c\u044a \u0443\u0463\u0437\u0434\u0463', '\u041e\u0440\u0448\u0430\u043d\u0441\u043a\u043e\u043c\u044a \u0443\u0463\u0437\u0434\u0463', '\u0411\u0463\u043b\u0435\u0432\u0441\u043a\u043e\u043c\u044a \u0443\u0463\u0437\u0434\u0463',\n",
        "       '\u0421\u0442\u0430\u0440\u043e\u0434\u0443\u0431\u043e\u0432\u0441\u043a\u043e\u043c\u044a \u0443\u0463\u0437\u0434\u0463', '\u041a\u043e\u0437\u043b\u043e\u0432\u0441\u043a\u043e\u043c\u044a \u0443\u0463\u0437\u0434\u0463', '\u041a\u043e\u043b\u043e\u043c\u043d\u044b', '\u041e\u0441\u0442\u0440\u043e\u0432\u0430',\n",
        "       '\u041a\u0430\u0441\u0438\u043c\u043e\u0432\u0441\u043a\u043e\u043c\u044a \u0443\u0463\u0437\u0434\u0463', '\u0411\u0463\u0436\u0435\u0446\u043a\u043e\u043c\u044a \u0443\u0463\u0437\u0434\u0463', '\u0421\u0442\u0430\u0440\u043e\u0431\u044b\u0445\u043e\u0432\u0441\u043a\u043e\u043c\u044a \u0443\u0463\u0437\u0434\u0463',\n",
        "       '\u041d\u043e\u0432\u043e\u0441\u0438\u043b\u044f', '\u041a\u0438\u0440\u0435\u043d\u0441\u043a\u0430', '\u0418\u0437\u044e\u043c\u0430', '\u0421\u043e\u0441\u043d\u0438\u0446\u043a\u043e\u043c\u044a \u0443\u0463\u0437\u0434\u0463', '\u041d\u0463\u0436\u0438\u043d\u0430',\n",
        "       '\u0417\u0432\u0435\u043d\u0438\u0433\u043e\u0440\u043e\u0434\u0441\u043a\u043e\u043c\u044a \u0443\u0463\u0437\u0434\u0463', '\u041a\u043e\u0440\u043e\u0447\u0435\u043d\u0441\u043a\u043e\u043c\u044a \u0443\u0463\u0437\u0434\u0463', '\u0410\u0440\u0441\u0430\u043c\u0430\u0437\u0441\u043a\u043e\u043c\u044a \u0443\u0463\u0437\u0434\u0463',\n",
        "       '\u0427\u0435\u043b\u044f\u0431\u0438\u043d\u0441\u043a\u0430', '\u0414\u0438\u043d\u0430\u0431\u0443\u0440\u0433\u0430', '\u0420\u0443\u0437\u0441\u043a\u043e\u043c\u044a \u0443\u0463\u0437\u0434\u0463', '\u041c\u0441\u0442\u0438\u0441\u043b\u0430\u0432\u0441\u043a\u043e\u043c\u044a \u0443\u0463\u0437\u0434\u0463',\n",
        "       '\u0411\u0463\u0436\u0435\u0446\u043a\u0430', '\u042e\u0440\u044c\u0435\u0432\u0446\u0430', '\u041a\u043e\u043b\u043e\u043c\u0435\u043d\u0441\u043a\u043e\u043c\u044a \u0443\u0463\u0437\u0434\u0463', '\u0421\u0432\u0456\u0430\u0436\u0441\u043a\u043e\u043c\u044a \u0443\u0463\u0437\u0434\u0463',\n",
        "       '\u0413\u043e\u0440\u043e\u0445\u043e\u0432\u0435\u0446\u043a\u043e\u043c\u044a \u0443\u0463\u0437\u0434\u0463', '\u0414\u043c\u0438\u0442\u0440\u043e\u0432\u0441\u043a\u043e\u043c\u044a \u0443\u0463\u0437\u0434\u0463', '\u0428\u0430\u0446\u043a\u043e\u043c\u044a \u0443\u0463\u0437\u0434\u0463',\n",
        "       '\u041a\u043b\u0438\u043c\u043e\u0432\u0438\u0446\u043a\u043e\u043c\u044a \u0443\u0463\u0437\u0434\u0463', '\u0410\u0445\u0442\u044b\u0440\u043a\u0438', '\u041d\u0430\u0440\u043e\u0432\u0447\u0430\u0442\u043e\u0432\u0441\u043a\u043e\u043c\u044a \u0443\u0463\u0437\u0434\u0463',\n",
        "       '\u041b\u0435\u0431\u0435\u0434\u044f\u043d\u0438', '\u041b\u0438\u0432\u0435\u043d\u0441\u043a\u043e\u043c\u044a \u0443\u0463\u0437\u0434\u0463', '\u0427\u0435\u0440\u0438\u043a\u043e\u0432\u0441\u043a\u043e\u043c\u044a \u0443\u0463\u0437\u0434\u0463', '\u041c\u0438\u0440\u043e\u043f\u043e\u043b\u044c\u044f',\n",
        "       '\u042f\u0440\u0435\u043d\u0441\u043a\u043e\u043c\u044a \u0443\u0463\u0437\u0434\u0463', '\u0412\u0435\u0440\u0445\u043d\u0435\u0443\u0434\u0438\u0432\u0441\u043a\u0430', '\u0417\u0430\u0440\u0430\u0439\u0441\u043a\u043e\u043c\u044a \u0443\u0463\u0437\u0434\u0463',\n",
        "       '\u0412\u0435\u043b\u0438\u043a\u043e\u043b\u0443\u0446\u043a\u043e\u043c\u044a \u0443\u0463\u0437\u0434\u0463', '\u0425\u0430\u0440\u044c\u043a\u043e\u0432\u0430', '\u0412\u043e\u043b\u043e\u0433\u043e\u0434\u0441\u043a\u043e\u043c\u044a \u0443\u0463\u0437\u0434\u0463', '\u041a\u043e\u0437\u043b\u043e\u0432\u0430',\n",
        "       '\u0411\u0430\u0431\u0438\u043d\u043e\u0432\u0435\u0446\u043a\u043e\u043c\u044a \u0443\u0463\u0437\u0434\u0463', '\u041a\u0440\u0430\u0441\u043d\u043e\u0441\u043b\u043e\u0431\u043e\u0434\u0441\u043a\u0430', '\u041f\u043e\u043b\u0442\u043f\u0430\u0432\u0441\u043a\u043e\u043c\u044a \u0443\u0463\u0437\u0434\u0463',\n",
        "       '\u0418\u043e\u043b\u0442\u0430\u0432\u0441\u043a\u043e\u043c\u044a \u0443\u0463\u0437\u0434\u0463', '\u0412\u044b\u0442\u0435\u0433\u0440\u044b', '\u041b\u0435\u0431\u0435\u0434\u0438\u043d\u0430', '\u0417\u0435\u043b\u0438\u043a\u043e\u043b\u0443\u0446\u043a\u043e\u043c\u044a \u0443\u0463\u0437\u0434\u0463',\n",
        "       '\u0415\u043a\u0430\u0442\u0435\u0440\u0438\u043d\u0431\u0443\u0440\u0433\u0441\u043a\u043e\u043c\u044a \u0443\u0463\u0437\u0434\u0463', '\u0411\u0463\u043b\u0430\u043e\u0437\u0435\u0440\u0441\u043a\u0430', '\u0421\u0430\u043f\u043e\u0436\u043a\u0430',\n",
        "       '\u0414\u0435\u0440\u043f\u0442\u0441\u043a\u043e\u043c\u044a \u0443\u0463\u0437\u0434\u0463', '\u041a\u0430\u0440\u0430\u0447\u0435\u0432\u0430', '\u042f\u0440\u0435\u043d\u0441\u043a\u0430', '\u044f\u043a\u0441\u043a\u043e\u043c\u044a \u0443\u0463\u0437\u0434\u0463',\n",
        "       '\u0417\u0430\u0440\u0430\u0439\u0441\u043a\u0430', '\u0421\u0463\u043d\u043d\u043e\u043c\u044a \u0443\u0463\u0437\u0434\u0463', '\u0411\u043e\u0433\u043e\u0440\u043e\u0434\u0441\u043a\u043e\u043c\u044a \u0443\u0463\u0437\u0434\u0463', '\u041a\u043e\u0437\u0435\u043b\u044c\u0441\u043a\u0430',\n",
        "       '\u041a\u043e\u0437\u044c\u043c\u043e\u0434\u0435\u043c\u044c\u044f\u043d\u0441\u043a\u0430', '\u0420\u0443\u0437\u044b', '\u0428\u0443\u0438', '\u0412\u043e\u0441\u043a\u0440\u0435\u0441\u0435\u043d\u0441\u043a\u043e\u043c\u044a \u0443\u0463\u0437\u0434\u0463',\n",
        "       '\u041b\u044e\u0431\u0435\u043d\u0441\u043a\u043e\u043c\u044a \u0443\u0463\u0437\u0434\u0463', '\u0415\u0444\u0440\u0435\u043c\u043e\u0432\u0430', '\u0411\u043e\u0440\u043e\u0432\u0441\u043a\u043e\u043c\u044a \u0443\u0463\u0437\u0434\u0463',\n",
        "       '\u0410\u043b\u0430\u0442\u044b\u0440\u0441\u043a\u043e\u043c\u044a \u0443\u0463\u0437\u0434\u0463', '\u041e\u043b\u043e\u043d\u0435\u0446\u043a\u043e\u043c\u044a \u0443\u0463\u0437\u0434\u0463', '\u041e\u043f\u043e\u0447\u0435\u043a\u044a',\n",
        "       '\u0426\u0430\u0440\u0435\u0432\u043e\u043a\u043e\u043a\u0448\u0430\u0439\u0441\u043a\u0430', '\u042e\u0440\u044c\u0435\u0432\u0430-\u041f\u043e\u043b\u044c\u0441\u043a\u0430\u0433\u043e', '\u041f\u043e\u0440\u0445\u043e\u0432\u0430', '\u043c\u0435\u043d\u0441\u043a\u043e\u043c\u044a \u0443\u0463\u0437\u0434\u0463',\n",
        "       '\u043c\u0438\u0440\u0433\u043e\u0440\u043e\u0434\u0441\u043a\u043e\u043c\u044a \u0443\u0463\u0437\u0434\u0463', '\u041f\u043e\u0448\u0435\u0445\u043e\u043d\u0441\u043a\u043e\u043c\u044a  \u0443\u0463\u0437\u0434\u0463', '\u041a\u0443\u0440\u043c\u044b\u0448\u0441\u043a\u043e\u043c\u044a \u0443\u0463\u0437\u0434\u0463',\n",
        "       '\u0440\u043e\u0447\u0435\u043d\u0441\u043a\u043e\u043c\u044a \u0443\u0463\u0437\u0434\u0463', '\u0421\u0443\u043c\u0441\u043a\u043e\u043c\u044a \u0443\u0463\u0437\u0434\u0463', '\u0412\u0430\u0433\u0438', '\u0422\u0432\u0435\u0440\u0441\u043a\u043e\u043c\u044a \u0443\u0463\u0437\u0434\u0463',\n",
        "       '\u0417\u0443\u0431\u0446\u043e\u0432\u0441\u043a\u043e\u043c\u044a \u0443\u0463\u0437\u0434\u0463', '\u0440\u0430\u0447\u0435\u0432\u0441\u043a\u043e\u043c\u044a \u0443\u0463\u0437\u0434\u0463', '\u041b\u0443\u0445\u043e\u0432\u0441\u043a\u043e\u043c\u044a \u0443\u0463\u0437\u0434\u0463',\n",
        "       '\u041a\u0430\u0440\u043f\u043e\u0432\u0430', '\u0426\u0430\u0440\u0435\u0432\u043e\u0441\u0430\u043d\u0447\u0443\u0440\u0441\u043a\u0430', '\u041a\u0435\u0440\u0435\u043d\u0441\u043a\u0430', '\u0413\u043e\u0440\u043e\u0445\u043e\u0432\u0435\u0446\u043a\u043e\u043c \u0443\u0463\u0437\u0434\u0463',\n",
        "       '\u0414\u043e\u043d\u043a\u043e\u0432\u0430', '\u041d\u0435\u0440\u0447\u0438\u043d\u0441\u043a\u043e\u043c\u044a \u0443\u0463\u0437\u0434\u0463', '\u0421\u0442\u0430\u0440\u043e\u0439', '\u0428\u0430\u0442\u0441\u043a\u0430',\n",
        "       '\u041f\u043e\u0432\u0463\u043d\u0435\u0446\u043a\u043e\u043c\u044a \u0443\u0463\u0437\u0434\u0463', '\u0418\u043d\u0441\u0430\u0440\u0441\u043a\u043e\u043c\u044a \u0443\u0463\u0437\u0434\u0463'], dtype=object)"
       ]
      }
     ],
     "prompt_number": 70
    },
    {
     "cell_type": "code",
     "collapsed": false,
     "input": [
      "# Replacing variant spellings of Namiestnichestva and uyezd with a single spelling.\n",
      "market_df.ru_prov = market_df.ru_prov.replace('\u041d\u0430(?:\u043c\u0463){0,1}\u0441\u0442\u043d\u0438\u0447[\u0435\u043b]\u0441\u0442\u0432[\u0430\u0463]','\u041d\u0430\u043c\u0463\u0441\u0442\u043d\u0438\u0447\u0435\u0441\u0442\u0432\u0430',regex=True)\n",
      "market_df.ru_prov = market_df.ru_prov.replace('\u0443\u0463\u0437\u0434[\u0443\u0463]','\u0443\u0463\u0437\u0434\u0463',regex=True)"
     ],
     "language": "python",
     "metadata": {},
     "outputs": [],
     "prompt_number": 71
    },
    {
     "cell_type": "markdown",
     "metadata": {},
     "source": [
      "When is a name not a name?\n",
      "==========================\n",
      "When it's actually a reference to something else in the text!  \n",
      "These next few cells replace phrases that mean \"the same thing as...\" and replace them with what they're talking about.  \n",
      "Anything that uses the `replace_sameas` function is replacing \"horizontally\", so when a city is also a seat of an administrative unit, or a town is in an uyezd that is also a Namiestnichestva.  \n",
      "Anything that has a `replacer` is replacing \"vertically\", when the text is referring to a previous entry."
     ]
    },
    {
     "cell_type": "code",
     "collapsed": false,
     "input": [
      "def replace_sameas(df, original, replacement, match_list, kind=\"\u041d\u0430\u043c\u0463\u0441\u0442\u043d\u0438\u0447\u0435\u0441\u0442\u0432\u0430\"):\n",
      "    \"\"\"\n",
      "    df: dataframe to be modified\n",
      "    original: column name in pandas data frame\n",
      "    replacement: column name in same pandas data frame\n",
      "    match_list: list of strings which, in original, indicate that they should be replaced by the corresponding values in replacement\n",
      "    \n",
      "    For each string in match_list, this function replaces said string in original with the corresponding value in replacement, converted to title case for convenience.\n",
      "    Place types are added after place names for consistent further processing. Type defaults to \u041d\u0430\u043c\u0463\u0441\u0442\u043d\u0438\u0447\u0435\u0441\u0442\u0432\u0430.\n",
      "    This is an in place transformation in the dataframe.\n",
      "    \"\"\"\n",
      "    for match in match_list:\n",
      "        cond = df[original] == match\n",
      "        df[original][cond] = df[replacement][cond].str.title()+\" {}\".format(kind)\n",
      "    return 0"
     ],
     "language": "python",
     "metadata": {},
     "outputs": [],
     "prompt_number": 72
    },
    {
     "cell_type": "code",
     "collapsed": false,
     "input": [
      "replacer = market_df.ix[np.logical_and(market_df.ru_prov == \"\u0442\u043e\u0433\u043e \u041d\u0430\u043c\u0463\u0441\u0442\u043d\u0438\u0447\u0435\u0441\u0442\u0432\u0430\",np.logical_or(market_df.ru_prov==\"\u0438 \u0443\u0463\u0437\u0434\u0443\",market_df.ru_prov==\"\u0438 \u0443\u0463\u0437\u0434\u0463\"))].index.tolist()\n",
      "for x in replacer:\n",
      "    market_df.loc[x,'ru_uezd'] = market_df.loc[x-1]['ru_uezd']\n",
      "    market_df.loc[x,'ru_prov'] = market_df.loc[x-1]['ru_prov']"
     ],
     "language": "python",
     "metadata": {},
     "outputs": [],
     "prompt_number": 73
    },
    {
     "cell_type": "code",
     "collapsed": false,
     "input": [
      "replacer = market_df.ix[market_df.ru_prov == \"\u0442\u043e\u0433\u043e \u041d\u0430\u043c\u0463\u0441\u0442\u043d\u0438\u0447\u0435\u0441\u0442\u0432\u0430\"].index.tolist()\n",
      "for x in replacer:\n",
      "    market_df.loc[x,'ru_prov'] = market_df.loc[x-1]['ru_prov']"
     ],
     "language": "python",
     "metadata": {},
     "outputs": [],
     "prompt_number": 74
    },
    {
     "cell_type": "code",
     "collapsed": false,
     "input": [
      "replacer = market_df.ix[market_df.ru_prov == \"\u0442\u043e\u0439 \u0413\u0443\u0431\u0435\u0440\u043d\u0456\u0438\"].index.tolist()\n",
      "for x in replacer:\n",
      "    market_df.loc[x,'ru_prov'] = market_df.loc[x-1]['ru_prov']"
     ],
     "language": "python",
     "metadata": {},
     "outputs": [],
     "prompt_number": 75
    },
    {
     "cell_type": "code",
     "collapsed": false,
     "input": [
      "# Replacing \"same Namiestnichestva\" statements with appropriate Namiestnichestva name\n",
      "match_list = [\"\u041d\u0430\u043c\u0463\u0441\u0442\u043d\u0438\u0447\u0435\u0441\u0442\u0432\u0430 \u0441\u0435\u0433\u043e \u0438\u043c\u0435\u043d\u0438\"]\n",
      "replace_sameas(market_df,'ru_prov','name',match_list)"
     ],
     "language": "python",
     "metadata": {},
     "outputs": [
      {
       "metadata": {},
       "output_type": "pyout",
       "prompt_number": 76,
       "text": [
        "0"
       ]
      }
     ],
     "prompt_number": 76
    },
    {
     "cell_type": "code",
     "collapsed": false,
     "input": [
      "# Replacing \"and uyezd\" statements with appropriate Namiestnichestva name\n",
      "match_list = [\"\u0438 \u0443\u0463\u0437\u0434\u0443\",\"\u0438 \u0443\u0463\u0437\u0434\u0463\"]\n",
      "replace_sameas(market_df,'ru_uezd','ru_prov',match_list,kind=\"\u0443\u0463\u0437\u0434\u0463\")\n",
      "market_df.ru_uezd = market_df.ru_uezd.replace(r' \u041d\u0430(?:\u043c\u0463){0,1}\u0441\u0442\u043d\u0438\u0447[\u0435\u043b]\u0441\u0442\u0432[\u0430\u0463]','',regex=True)"
     ],
     "language": "python",
     "metadata": {},
     "outputs": [],
     "prompt_number": 77
    },
    {
     "cell_type": "code",
     "collapsed": false,
     "input": [
      "market_df['html_text'] = market_df.text"
     ],
     "language": "python",
     "metadata": {},
     "outputs": [],
     "prompt_number": 78
    },
    {
     "cell_type": "code",
     "collapsed": false,
     "input": [
      "market_df.text = market_df.text.apply(strip_html)"
     ],
     "language": "python",
     "metadata": {},
     "outputs": [],
     "prompt_number": 79
    },
    {
     "cell_type": "markdown",
     "metadata": {},
     "source": [
      "Orthography Modernization\n",
      "========================="
     ]
    },
    {
     "cell_type": "code",
     "collapsed": false,
     "input": [
      "import re,json\n",
      "from lxml import html\n",
      "\n",
      "lookup_dict = {}\n",
      "with open(\"special_cases.json\",'r') as fp:\n",
      "    lookup_dict = json.load(fp)\n",
      "\n",
      "def ortho_rules(text,lookup_dict):\n",
      "    \"\"\"\n",
      "    Takes a text string and a lookup dict as input\n",
      "    Removes any lingering html tags\n",
      "    Breaks the string down into component words with split\n",
      "    Uses replacements to modernize orthography\n",
      "    Returns re-assembled text with modern orthography\n",
      "    \"\"\"\n",
      "    if text is not None:\n",
      "        text = html.fromstring(text).text_content()\n",
      "        textlist = text.split(' ')\n",
      "        out_list = []\n",
      "        for word in textlist:\n",
      "            if word in [',','.',';',':']:\n",
      "                out_list.append(word)\n",
      "            word = word.strip(',.;:')\n",
      "            if word in lookup_dict:\n",
      "                word = lookup_dict[word]\n",
      "                out_list.append(word)\n",
      "            else:\n",
      "                word = re.sub(\"[\u042a\u044a]$\",'',word)\n",
      "                word = re.sub(r\"^([\u0447\u0435]{0,2}[\u0447]?[\u0432\u0431\u043d\u0440]?[\u0432\u0435\u043e\u0430\u0438])\u0437([\u041f\u0424\u041a\u0422\u0428\u0421\u0427\u043f\u0444\u043a\u0442\u0448\u0441\u0447])\",r\"\\1\u0441\\2\",word,re.IGNORECASE)\n",
      "                word = re.sub(\"\u0430\u0433\u043e$\",\"\u043e\u0433\u043e\",word,re.IGNORECASE)\n",
      "                word = re.sub(\"\u044f\u0433\u043e$\",\"\u0435\u0433\u043e\",word,re.IGNORECASE)\n",
      "                word = re.sub(\"\u044b\u044f$\",\"\u044b\u0435\",word,re.IGNORECASE)\n",
      "                word = re.sub(\"i\u044f$\",\"\u0438\u0435\",word,re.IGNORECASE)\n",
      "                word = word.replace('i','\u0438') #english\n",
      "                word = word.replace('I','\u0418') #english\n",
      "                word = word.replace('\u0456','\u0438') #cyrillic\n",
      "                word = word.replace('\u0406','\u0418') #cyrillic\n",
      "                word = word.replace('\u0462','\u0415')\n",
      "                word = word.replace('\u0463','\u0435')\n",
      "                word = word.replace('\u0472','\u0424')\n",
      "                word = word.replace('\u0473','\u0444')\n",
      "                out_list.append(word)\n",
      "        out_str = ' '.join(out_list)\n",
      "        return out_str\n",
      "    else:\n",
      "        return \"None\""
     ],
     "language": "python",
     "metadata": {},
     "outputs": [],
     "prompt_number": 80
    },
    {
     "cell_type": "code",
     "collapsed": false,
     "input": [
      "market_df['name_modern_sp'] = market_df.name.apply(ortho_rules,args=[lookup_dict])\n",
      "market_df['prov_modern_sp'] = market_df.ru_prov.apply(ortho_rules,args=[lookup_dict])\n",
      "market_df['uezd_modern_sp'] = market_df.ru_uezd.apply(ortho_rules,args=[lookup_dict])\n",
      "market_df.head()"
     ],
     "language": "python",
     "metadata": {},
     "outputs": [
      {
       "html": [
        "<div style=\"max-height:1000px;max-width:1500px;overflow:auto;\">\n",
        "<table border=\"1\" class=\"dataframe\">\n",
        "  <thead>\n",
        "    <tr style=\"text-align: right;\">\n",
        "      <th></th>\n",
        "      <th>page</th>\n",
        "      <th>_type</th>\n",
        "      <th>name</th>\n",
        "      <th>ru_uezd</th>\n",
        "      <th>text</th>\n",
        "      <th>ru_prov</th>\n",
        "      <th>alt_name</th>\n",
        "      <th>source_url</th>\n",
        "      <th>html_text</th>\n",
        "      <th>name_modern_sp</th>\n",
        "      <th>prov_modern_sp</th>\n",
        "      <th>uezd_modern_sp</th>\n",
        "    </tr>\n",
        "  </thead>\n",
        "  <tbody>\n",
        "    <tr>\n",
        "      <th>3</th>\n",
        "      <td> 10</td>\n",
        "      <td>      \u0441\u0435\u043b\u043e</td>\n",
        "      <td>  \u0410\u0412\u0414\u0423\u041b\u041e\u0412\u041e</td>\n",
        "      <td>   \u0414\u043e\u043d\u043a\u043e\u0432\u0441\u043a\u043e\u043c\u044a \u0443\u0463\u0437\u0434\u0463</td>\n",
        "      <td>                                                  \u0410\u0412\u0414\u0423\u041b\u041e\u0412\u041e, \u0418\u0412\u0410\u041d\u041e\u0412\u0421\u041a\u041e\u0415 \u0442\u043e\u0436\u044c, \u0441\u0435\u043b\u043e \u0420\u044f\u0437\u0430\u043d\u0441\u043a\u0430\u0433\u043e \u041d\u0430\u043c\u0463\u0441\u0442\u043d\u0438\u0447\u0435\u0441\u0442\u0432\u0430 \u0432\u044a \u0414\u043e\u043d\u043a\u043e\u0432\u0441\u043a\u043e\u043c\u044a \u0443\u0463\u0437\u0434\u0463, \u0417\u0434\u0463\u0441\u044c \u0431\u044b\u0432\u0430\u0435\u0442\u044a \u043e\u0434\u043d\u0430 \u0433\u043e\u0434\u043e\u0432\u0430\u044f \u044f\u0440\u043c\u0430\u0440\u043a\u0430 \u0432\u044a \u0434\u0435\u043d\u044c \u0406\u043e\u0430\u043d\u043d\u0430 \u0412\u043e\u0438\u043d\u0430, \u0442\u043e \u0435\u0441\u0442\u044c \u0406\u044e\u043b\u044f 30, \u043d\u0430 \u043a\u043e\u0442\u043e\u0440\u0443\u044e \u043f\u0440\u0456\u0463\u0437\u0436\u0430\u044e\u0442\u044a \u043a\u0443\u043f\u0446\u044b \u0438 \u043a\u0440\u0435\u0441\u0442\u044c\u044f\u043d\u0435 \u0441\u044a \u043c\u0463\u043b\u043e\u0447\u043d\u044b\u043c\u0438 \u0442\u043e\u0432\u0430\u0440\u0430\u043c\u0438.</td>\n",
        "      <td>     \u0420\u044f\u0437\u0430\u043d\u0441\u043a\u0430\u0433\u043e \u041d\u0430\u043c\u0463\u0441\u0442\u043d\u0438\u0447\u0435\u0441\u0442\u0432\u0430</td>\n",
        "      <td> \u0418\u0412\u0410\u041d\u041e\u0412\u0421\u041a\u041e\u0415</td>\n",
        "      <td> http://babel.hathitrust.org/cgi/pt?id=uc1.b4583201;view=1up;seq=9</td>\n",
        "      <td>                                                  \u0410\u0412\u0414\u0423\u041b\u041e\u0412\u041e, \u0418\u0412\u0410\u041d\u041e\u0412\u0421\u041a\u041e\u0415 \u0442\u043e\u0436\u044c, &lt;/span&gt;&lt;span class=\"font0\" style=\"font-style:italic;\"&gt;\u0441\u0435\u043b\u043e&lt;/span&gt;&lt;span class=\"font0\"&gt; \u0420\u044f\u0437\u0430\u043d\u0441\u043a\u0430\u0433\u043e \u041d\u0430\u043c\u0463\u0441\u0442\u043d\u0438\u0447\u0435\u0441\u0442\u0432\u0430 \u0432\u044a \u0414\u043e\u043d\u043a\u043e\u0432\u0441\u043a\u043e\u043c\u044a \u0443\u0463\u0437\u0434\u0463, \u0417\u0434\u0463\u0441\u044c \u0431\u044b\u0432\u0430\u0435\u0442\u044a \u043e\u0434\u043d\u0430 \u0433\u043e\u0434\u043e\u0432\u0430\u044f \u044f\u0440\u043c\u0430\u0440\u043a\u0430 \u0432\u044a \u0434\u0435\u043d\u044c \u0406\u043e\u0430\u043d\u043d\u0430 \u0412\u043e\u0438\u043d\u0430, \u0442\u043e \u0435\u0441\u0442\u044c \u0406\u044e\u043b\u044f 30, \u043d\u0430 \u043a\u043e\u0442\u043e\u0440\u0443\u044e \u043f\u0440\u0456\u0463\u0437\u0436\u0430\u044e\u0442\u044a \u043a\u0443\u043f\u0446\u044b \u0438 \u043a\u0440\u0435\u0441\u0442\u044c\u044f\u043d\u0435 \u0441\u044a \u043c\u0463\u043b\u043e\u0447\u043d\u044b\u043c\u0438 \u0442\u043e\u0432\u0430\u0440\u0430\u043c\u0438.&lt;/span&gt;</td>\n",
        "      <td>  \u0410\u0412\u0414\u0423\u041b\u041e\u0412\u041e</td>\n",
        "      <td>     \u0420\u044f\u0437\u0430\u043d\u0441\u043a\u043e\u0433\u043e \u041d\u0430\u043c\u0435\u0441\u0442\u043d\u0438\u0447\u0435\u0441\u0442\u0432\u0430</td>\n",
        "      <td>   \u0414\u043e\u043d\u043a\u043e\u0432\u0441\u043a\u043e\u043c \u0443\u0435\u0437\u0434\u0435</td>\n",
        "    </tr>\n",
        "    <tr>\n",
        "      <th>4</th>\n",
        "      <td> 10</td>\n",
        "      <td>   \u0432\u043e\u043b\u043e\u0441\u0442\u044c</td>\n",
        "      <td> \u0410\u0412\u0416\u0415\u041d\u0421\u041a\u0410\u042f</td>\n",
        "      <td>  \u0412\u043e\u043b\u043e\u0433\u043e\u0434\u0441\u043a\u0430\u0433\u043e \u0443\u0463\u0437\u0434\u0463</td>\n",
        "      <td>                                                                                                                  \u0410\u0412\u0416\u0415\u041d\u0421\u041a\u0410\u042f , \u0432\u043e\u043b\u043e\u0441\u0442\u044c \u0412\u043e\u043b\u043e\u0433\u043e\u0434\u0441\u043a\u0430\u0433\u043e \u041d\u0430\u043c\u0463\u0441\u0442\u043d\u0438\u0447\u0435\u0441\u0442\u0432\u0430 \u0438 \u0443\u0463\u0437\u0434\u0443. \u0417\u0434\u0463\u0441\u044c \u0431\u044b\u0432\u0430\u0435\u0442\u044a \u0434\u0432\u0430 \u0440\u0430\u0437\u0430 \u0432\u044a \u0433\u043e\u0434\u044a \u044f\u0440\u043c\u0430\u0440\u043a\u0430 , \u043d\u0430 \u043a\u043e\u0435\u0439 \u0442\u043e\u0440\u0433\u0443\u044e\u0442\u044a \u0412\u043e\u043b\u043e\u0433\u043e\u0434\u0441\u043a\u0456\u0435 \u043a\u0443\u043f\u0446\u044b \u043c\u0463\u043b\u043e\u0447\u043d\u044b\u043c\u0438 \u0442\u043e\u0432\u0430\u0440\u0430\u043c\u0438.</td>\n",
        "      <td>   \u0412\u043e\u043b\u043e\u0433\u043e\u0434\u0441\u043a\u0430\u0433\u043e \u041d\u0430\u043c\u0463\u0441\u0442\u043d\u0438\u0447\u0435\u0441\u0442\u0432\u0430</td>\n",
        "      <td>       None</td>\n",
        "      <td> http://babel.hathitrust.org/cgi/pt?id=uc1.b4583201;view=1up;seq=9</td>\n",
        "      <td>                                                                                                                  \u0410\u0412\u0416\u0415\u041d\u0421\u041a\u0410\u042f , &lt;/span&gt;&lt;span class=\"font0\" style=\"font-style:italic;\"&gt;\u0432\u043e\u043b\u043e\u0441\u0442\u044c &lt;/span&gt;&lt;span class=\"font0\"&gt;\u0412\u043e\u043b\u043e\u0433\u043e\u0434\u0441\u043a\u0430\u0433\u043e \u041d\u0430\u043c\u0463\u0441\u0442\u043d\u0438\u0447\u0435\u0441\u0442\u0432\u0430 \u0438 \u0443\u0463\u0437\u0434\u0443. \u0417\u0434\u0463\u0441\u044c \u0431\u044b\u0432\u0430\u0435\u0442\u044a \u0434\u0432\u0430 \u0440\u0430\u0437\u0430 \u0432\u044a \u0433\u043e\u0434\u044a \u044f\u0440\u043c\u0430\u0440\u043a\u0430 , \u043d\u0430 \u043a\u043e\u0435\u0439 \u0442\u043e\u0440\u0433\u0443\u044e\u0442\u044a \u0412\u043e\u043b\u043e\u0433\u043e\u0434\u0441\u043a\u0456\u0435 \u043a\u0443\u043f\u0446\u044b \u043c\u0463\u043b\u043e\u0447\u043d\u044b\u043c\u0438 \u0442\u043e\u0432\u0430\u0440\u0430\u043c\u0438.&lt;/span&gt;</td>\n",
        "      <td> \u0410\u0412\u0416\u0415\u041d\u0421\u041a\u0410\u042f</td>\n",
        "      <td>   \u0412\u043e\u043b\u043e\u0433\u043e\u0434\u0441\u043a\u043e\u0433\u043e \u041d\u0430\u043c\u0435\u0441\u0442\u043d\u0438\u0447\u0435\u0441\u0442\u0432\u0430</td>\n",
        "      <td> \u0412\u043e\u043b\u043e\u0433\u043e\u0434\u0441\u043a\u043e\u0433\u043e \u0443\u0435\u0437\u0434\u0435</td>\n",
        "    </tr>\n",
        "    <tr>\n",
        "      <th>5</th>\n",
        "      <td> 10</td>\n",
        "      <td> \u043c\u043e\u043d\u0430\u0441\u0442\u044b\u0440\u044c</td>\n",
        "      <td> \u0410\u0412\u0420\u0410\u041c\u0406\u0415\u0412\u042a</td>\n",
        "      <td>         not_in_text</td>\n",
        "      <td>                                                                                                                                           \u0410\u0412\u0420\u0410\u041c\u0406\u0415\u0412\u042a, \u043c\u043e\u043d\u0430\u0441\u0442\u044b\u0440\u044c \u041a\u043e\u0441\u0442\u0440\u043e\u043c\u0441\u043a\u0430\u0433\u043e \u041d\u0430\u043c\u0463\u0441\u0442\u043d\u0438\u0447\u0435\u0441\u0442\u0432\u0430, \u043e\u0442\u044a \u0433\u043e\u0440\u043e\u0434\u0430 \u0427\u0443\u0445\u043b\u043e\u043c\u044b \u0432\u044a 10 \u0432\u0435\u0440\u0441\u0442\u0430\u0445\u044a. \u0417\u0434\u0463\u0441\u044c \u0431\u044b\u0432\u0430\u0435\u0442\u044a \u044f\u0440\u043c\u0430\u0440\u043a\u0430. \u0417\u0440\u0438 \u0427\u0443x\u043b\u043e\u043c\u0430 \u0433\u043e\u0440\u043e\u0434\u044a.</td>\n",
        "      <td>   \u041a\u043e\u0441\u0442\u0440\u043e\u043c\u0441\u043a\u0430\u0433\u043e \u041d\u0430\u043c\u0463\u0441\u0442\u043d\u0438\u0447\u0435\u0441\u0442\u0432\u0430</td>\n",
        "      <td>       None</td>\n",
        "      <td> http://babel.hathitrust.org/cgi/pt?id=uc1.b4583201;view=1up;seq=9</td>\n",
        "      <td>                                                          \u0410\u0412\u0420\u0410\u041c\u0406\u0415\u0412\u042a&lt;/span&gt;&lt;span class=\"font0\" style=\"font-style:italic;\"&gt;, \u043c\u043e\u043d\u0430\u0441\u0442\u044b\u0440\u044c &lt;/span&gt;&lt;span class=\"font0\"&gt;\u041a\u043e\u0441\u0442\u0440\u043e\u043c\u0441\u043a\u0430\u0433\u043e \u041d\u0430\u043c\u0463\u0441\u0442\u043d\u0438\u0447\u0435\u0441\u0442\u0432\u0430, \u043e\u0442\u044a \u0433\u043e\u0440\u043e\u0434\u0430 \u0427\u0443\u0445\u043b\u043e\u043c\u044b \u0432\u044a 10 \u0432\u0435\u0440\u0441\u0442\u0430\u0445\u044a. \u0417\u0434\u0463\u0441\u044c \u0431\u044b\u0432\u0430\u0435\u0442\u044a \u044f\u0440\u043c\u0430\u0440\u043a\u0430. \u0417\u0440\u0438 &lt;/span&gt;&lt;span class=\"font0\" style=\"font-style:italic;\"&gt;\u0427\u0443x\u043b\u043e\u043c\u0430&lt;/span&gt;&lt;span class=\"font0\"&gt; \u0433\u043e\u0440\u043e\u0434\u044a.&lt;/span&gt;</td>\n",
        "      <td>  \u0410\u0412\u0420\u0410\u041c\u0418\u0415\u0412</td>\n",
        "      <td>   \u041a\u043e\u0441\u0442\u0440\u043e\u043c\u0441\u043a\u043e\u0433\u043e \u041d\u0430\u043c\u0435\u0441\u0442\u043d\u0438\u0447\u0435\u0441\u0442\u0432\u0430</td>\n",
        "      <td>        not_\u0438n_text</td>\n",
        "    </tr>\n",
        "    <tr>\n",
        "      <th>6</th>\n",
        "      <td> 10</td>\n",
        "      <td>      \u0441\u0435\u043b\u043e</td>\n",
        "      <td> \u0410\u0414\u041e\u0412\u0410\u0422\u041e\u0412\u041e</td>\n",
        "      <td>   \u0410\u0440\u0437\u0430\u043c\u0430\u0441\u043a\u043e\u043c\u044a \u0443\u0463\u0437\u0434\u0463</td>\n",
        "      <td>                                                                                                                                                               \u0410\u0414\u041e\u0412\u0410\u0422\u041e\u0412\u041e, \u0441\u0435\u043b\u043e \u041d\u0438\u0436\u0435\u0433\u043e\u0440\u043e\u0434\u0441\u043a\u0430\u0433\u043e \u041d\u0430\u043c\u0463\u0441\u0442\u043d\u0438\u0447\u0435\u0441\u0442\u0432\u0430 \u0432\u044a \u0410\u0440\u0437\u0430\u043c\u0430\u0441\u043a\u043e\u043c\u044a \u0443\u0463\u0437\u0434\u0463 ; \u0432\u044a \u043e\u043d\u043e\u043c\u044a \u0431\u044b\u0432\u0430\u0435\u0442\u044a \u043e\u0434\u043d\u0430 \u0432\u044a \u0433\u043e\u0434\u0443 \u044f\u0440\u043c\u0430\u0440\u043a\u0430.</td>\n",
        "      <td> \u041d\u0438\u0436\u0435\u0433\u043e\u0440\u043e\u0434\u0441\u043a\u0430\u0433\u043e \u041d\u0430\u043c\u0463\u0441\u0442\u043d\u0438\u0447\u0435\u0441\u0442\u0432\u0430</td>\n",
        "      <td>       None</td>\n",
        "      <td> http://babel.hathitrust.org/cgi/pt?id=uc1.b4583201;view=1up;seq=9</td>\n",
        "      <td>                                                                                                                                                               \u0410\u0414\u041e\u0412\u0410\u0422\u041e\u0412\u041e, &lt;/span&gt;&lt;span class=\"font0\" style=\"font-style:italic;\"&gt;\u0441\u0435\u043b\u043e&lt;/span&gt;&lt;span class=\"font0\"&gt; \u041d\u0438\u0436\u0435\u0433\u043e\u0440\u043e\u0434\u0441\u043a\u0430\u0433\u043e \u041d\u0430\u043c\u0463\u0441\u0442\u043d\u0438\u0447\u0435\u0441\u0442\u0432\u0430 \u0432\u044a \u0410\u0440\u0437\u0430\u043c\u0430\u0441\u043a\u043e\u043c\u044a \u0443\u0463\u0437\u0434\u0463 ; \u0432\u044a \u043e\u043d\u043e\u043c\u044a \u0431\u044b\u0432\u0430\u0435\u0442\u044a \u043e\u0434\u043d\u0430 \u0432\u044a \u0433\u043e\u0434\u0443 \u044f\u0440\u043c\u0430\u0440\u043a\u0430.&lt;/span&gt;</td>\n",
        "      <td> \u0410\u0414\u041e\u0412\u0410\u0422\u041e\u0412\u041e</td>\n",
        "      <td> \u041d\u0438\u0436\u0435\u0433\u043e\u0440\u043e\u0434\u0441\u043a\u043e\u0433\u043e \u041d\u0430\u043c\u0435\u0441\u0442\u043d\u0438\u0447\u0435\u0441\u0442\u0432\u0430</td>\n",
        "      <td>   \u0410\u0440\u0437\u0430\u043c\u0430\u0441\u043a\u043e\u043c \u0443\u0435\u0437\u0434\u0435</td>\n",
        "    </tr>\n",
        "    <tr>\n",
        "      <th>7</th>\n",
        "      <td> 10</td>\n",
        "      <td>      \u0441\u0435\u043b\u043e</td>\n",
        "      <td>    \u0410\u041a\u0421\u0415\u041b\u042c</td>\n",
        "      <td> \u0422\u0435\u043c\u043d\u0438\u043a\u043e\u0432\u0441\u043a\u043e\u043c\u044a \u0443\u0463\u0437\u0434\u0463</td>\n",
        "      <td> \u0410\u041a\u0421\u0415\u041b\u042c, \u0441\u0435\u043b\u043e \u0422\u0430\u043c\u0431\u043e\u0432\u0441\u043a\u0430\u0433\u043e \u041d\u0430\u043c\u0463\u0441\u0442\u043d\u0438\u0447\u0435\u0441\u0442\u0432\u0430 \u0432\u044a \u0422\u0435\u043c\u043d\u0438\u043a\u043e\u0432\u0441\u043a\u043e\u043c\u044a \u0443\u0463\u0437\u0434\u0463. \u0417\u0434\u0463\u0441\u044c \u0431\u044b\u0432\u0430\u0435\u0442\u044a \u0433\u043e\u0434\u043e\u0432\u0430\u044f \u044f\u0440\u043c\u0430\u0440\u043a\u0430, \u0441\u0432\u0435\u0440\u0445\u044a \u0435\u0436\u0435\u043d\u0435\u0434\u0463\u043b\u044c\u043d\u044b\u0445\u044a \u0442\u043e\u0440\u0433\u043e\u0432\u044a, \u0432\u044a \u043e\u0434\u0438\u043d\u0430\u0434\u0446\u0430\u0442\u0443\u044e \u043f\u044f\u0442\u043d\u0438\u0446\u0443 \u043f\u043e \u041f\u0430\u0441\u0445\u0463; \u043a\u0443\u043f\u0446\u044b \u0441\u044e\u0434\u0430 \u043f\u0440\u0456\u0463\u0437\u0436\u0430\u044e\u0442\u044a \u0438\u0437\u044a \u0431\u043b\u0438\u0436\u043d\u0438\u0445\u044a \u0433\u043e\u0440\u043e\u0434\u043e\u0432\u044a \u0441\u044a \u0448\u0435\u043b\u043a\u043e\u0432\u044b\u043c\u0438 \u0438 \u0431\u0443\u043c\u0430\u0436\u043d\u044b\u043c\u0438 \u0442\u043e\u0432\u0430\u0440\u0430\u043c\u0438, \u0445\u043b\u0463\u0431\u043e\u043c\u044a \u0438 \u043f\u0440\u043e\u0447\u0438\u043c\u0438 \u043f\u0440\u0438\u043f\u0430\u0441\u0430\u043c\u0438.</td>\n",
        "      <td>    \u0422\u0430\u043c\u0431\u043e\u0432\u0441\u043a\u0430\u0433\u043e \u041d\u0430\u043c\u0463\u0441\u0442\u043d\u0438\u0447\u0435\u0441\u0442\u0432\u0430</td>\n",
        "      <td>       None</td>\n",
        "      <td> http://babel.hathitrust.org/cgi/pt?id=uc1.b4583201;view=1up;seq=9</td>\n",
        "      <td> \u0410\u041a\u0421\u0415\u041b\u042c, &lt;/span&gt;&lt;span class=\"font0\" style=\"font-style:italic;\"&gt;\u0441\u0435\u043b\u043e&lt;/span&gt;&lt;span class=\"font0\"&gt; \u0422\u0430\u043c\u0431\u043e\u0432\u0441\u043a\u0430\u0433\u043e \u041d\u0430\u043c\u0463\u0441\u0442\u043d\u0438\u0447\u0435\u0441\u0442\u0432\u0430 \u0432\u044a \u0422\u0435\u043c\u043d\u0438\u043a\u043e\u0432\u0441\u043a\u043e\u043c\u044a \u0443\u0463\u0437\u0434\u0463. \u0417\u0434\u0463\u0441\u044c \u0431\u044b\u0432\u0430\u0435\u0442\u044a \u0433\u043e\u0434\u043e\u0432\u0430\u044f \u044f\u0440\u043c\u0430\u0440\u043a\u0430, \u0441\u0432\u0435\u0440\u0445\u044a \u0435\u0436\u0435\u043d\u0435\u0434\u0463\u043b\u044c\u043d\u044b\u0445\u044a \u0442\u043e\u0440\u0433\u043e\u0432\u044a, \u0432\u044a \u043e\u0434\u0438\u043d\u0430\u0434\u0446\u0430\u0442\u0443\u044e \u043f\u044f\u0442\u043d\u0438\u0446\u0443 \u043f\u043e \u041f\u0430\u0441\u0445\u0463; \u043a\u0443\u043f\u0446\u044b \u0441\u044e\u0434\u0430 \u043f\u0440\u0456\u0463\u0437\u0436\u0430\u044e\u0442\u044a \u0438\u0437\u044a \u0431\u043b\u0438\u0436\u043d\u0438\u0445\u044a \u0433\u043e\u0440\u043e\u0434\u043e\u0432\u044a \u0441\u044a \u0448\u0435\u043b\u043a\u043e\u0432\u044b\u043c\u0438 \u0438 \u0431\u0443\u043c\u0430\u0436\u043d\u044b\u043c\u0438 \u0442\u043e\u0432\u0430\u0440\u0430\u043c\u0438, \u0445\u043b\u0463\u0431\u043e\u043c\u044a \u0438 \u043f\u0440\u043e\u0447\u0438\u043c\u0438 \u043f\u0440\u0438\u043f\u0430\u0441\u0430\u043c\u0438.&lt;/span&gt;</td>\n",
        "      <td>    \u0410\u041a\u0421\u0415\u041b\u042c</td>\n",
        "      <td>    \u0422\u0430\u043c\u0431\u043e\u0432\u0441\u043a\u043e\u0433\u043e \u041d\u0430\u043c\u0435\u0441\u0442\u043d\u0438\u0447\u0435\u0441\u0442\u0432\u0430</td>\n",
        "      <td> \u0422\u0435\u043c\u043d\u0438\u043a\u043e\u0432\u0441\u043a\u043e\u043c \u0443\u0435\u0437\u0434\u0435</td>\n",
        "    </tr>\n",
        "  </tbody>\n",
        "</table>\n",
        "</div>"
       ],
       "metadata": {},
       "output_type": "pyout",
       "prompt_number": 81,
       "text": [
        "   page      _type       name              ru_uezd  \\\n",
        "3    10       \u0441\u0435\u043b\u043e   \u0410\u0412\u0414\u0423\u041b\u041e\u0412\u041e    \u0414\u043e\u043d\u043a\u043e\u0432\u0441\u043a\u043e\u043c\u044a \u0443\u0463\u0437\u0434\u0463   \n",
        "4    10    \u0432\u043e\u043b\u043e\u0441\u0442\u044c  \u0410\u0412\u0416\u0415\u041d\u0421\u041a\u0410\u042f   \u0412\u043e\u043b\u043e\u0433\u043e\u0434\u0441\u043a\u0430\u0433\u043e \u0443\u0463\u0437\u0434\u0463   \n",
        "5    10  \u043c\u043e\u043d\u0430\u0441\u0442\u044b\u0440\u044c  \u0410\u0412\u0420\u0410\u041c\u0406\u0415\u0412\u042a          not_in_text   \n",
        "6    10       \u0441\u0435\u043b\u043e  \u0410\u0414\u041e\u0412\u0410\u0422\u041e\u0412\u041e    \u0410\u0440\u0437\u0430\u043c\u0430\u0441\u043a\u043e\u043c\u044a \u0443\u0463\u0437\u0434\u0463   \n",
        "7    10       \u0441\u0435\u043b\u043e     \u0410\u041a\u0421\u0415\u041b\u042c  \u0422\u0435\u043c\u043d\u0438\u043a\u043e\u0432\u0441\u043a\u043e\u043c\u044a \u0443\u0463\u0437\u0434\u0463   \n",
        "\n",
        "                                                                                                                                                                                                                                                                        text  \\\n",
        "3                                                   \u0410\u0412\u0414\u0423\u041b\u041e\u0412\u041e, \u0418\u0412\u0410\u041d\u041e\u0412\u0421\u041a\u041e\u0415 \u0442\u043e\u0436\u044c, \u0441\u0435\u043b\u043e \u0420\u044f\u0437\u0430\u043d\u0441\u043a\u0430\u0433\u043e \u041d\u0430\u043c\u0463\u0441\u0442\u043d\u0438\u0447\u0435\u0441\u0442\u0432\u0430 \u0432\u044a \u0414\u043e\u043d\u043a\u043e\u0432\u0441\u043a\u043e\u043c\u044a \u0443\u0463\u0437\u0434\u0463, \u0417\u0434\u0463\u0441\u044c \u0431\u044b\u0432\u0430\u0435\u0442\u044a \u043e\u0434\u043d\u0430 \u0433\u043e\u0434\u043e\u0432\u0430\u044f \u044f\u0440\u043c\u0430\u0440\u043a\u0430 \u0432\u044a \u0434\u0435\u043d\u044c \u0406\u043e\u0430\u043d\u043d\u0430 \u0412\u043e\u0438\u043d\u0430, \u0442\u043e \u0435\u0441\u0442\u044c \u0406\u044e\u043b\u044f 30, \u043d\u0430 \u043a\u043e\u0442\u043e\u0440\u0443\u044e \u043f\u0440\u0456\u0463\u0437\u0436\u0430\u044e\u0442\u044a \u043a\u0443\u043f\u0446\u044b \u0438 \u043a\u0440\u0435\u0441\u0442\u044c\u044f\u043d\u0435 \u0441\u044a \u043c\u0463\u043b\u043e\u0447\u043d\u044b\u043c\u0438 \u0442\u043e\u0432\u0430\u0440\u0430\u043c\u0438.   \n",
        "4                                                                                                                   \u0410\u0412\u0416\u0415\u041d\u0421\u041a\u0410\u042f , \u0432\u043e\u043b\u043e\u0441\u0442\u044c \u0412\u043e\u043b\u043e\u0433\u043e\u0434\u0441\u043a\u0430\u0433\u043e \u041d\u0430\u043c\u0463\u0441\u0442\u043d\u0438\u0447\u0435\u0441\u0442\u0432\u0430 \u0438 \u0443\u0463\u0437\u0434\u0443. \u0417\u0434\u0463\u0441\u044c \u0431\u044b\u0432\u0430\u0435\u0442\u044a \u0434\u0432\u0430 \u0440\u0430\u0437\u0430 \u0432\u044a \u0433\u043e\u0434\u044a \u044f\u0440\u043c\u0430\u0440\u043a\u0430 , \u043d\u0430 \u043a\u043e\u0435\u0439 \u0442\u043e\u0440\u0433\u0443\u044e\u0442\u044a \u0412\u043e\u043b\u043e\u0433\u043e\u0434\u0441\u043a\u0456\u0435 \u043a\u0443\u043f\u0446\u044b \u043c\u0463\u043b\u043e\u0447\u043d\u044b\u043c\u0438 \u0442\u043e\u0432\u0430\u0440\u0430\u043c\u0438.   \n",
        "5                                                                                                                                            \u0410\u0412\u0420\u0410\u041c\u0406\u0415\u0412\u042a, \u043c\u043e\u043d\u0430\u0441\u0442\u044b\u0440\u044c \u041a\u043e\u0441\u0442\u0440\u043e\u043c\u0441\u043a\u0430\u0433\u043e \u041d\u0430\u043c\u0463\u0441\u0442\u043d\u0438\u0447\u0435\u0441\u0442\u0432\u0430, \u043e\u0442\u044a \u0433\u043e\u0440\u043e\u0434\u0430 \u0427\u0443\u0445\u043b\u043e\u043c\u044b \u0432\u044a 10 \u0432\u0435\u0440\u0441\u0442\u0430\u0445\u044a. \u0417\u0434\u0463\u0441\u044c \u0431\u044b\u0432\u0430\u0435\u0442\u044a \u044f\u0440\u043c\u0430\u0440\u043a\u0430. \u0417\u0440\u0438 \u0427\u0443x\u043b\u043e\u043c\u0430 \u0433\u043e\u0440\u043e\u0434\u044a.   \n",
        "6                                                                                                                                                                \u0410\u0414\u041e\u0412\u0410\u0422\u041e\u0412\u041e, \u0441\u0435\u043b\u043e \u041d\u0438\u0436\u0435\u0433\u043e\u0440\u043e\u0434\u0441\u043a\u0430\u0433\u043e \u041d\u0430\u043c\u0463\u0441\u0442\u043d\u0438\u0447\u0435\u0441\u0442\u0432\u0430 \u0432\u044a \u0410\u0440\u0437\u0430\u043c\u0430\u0441\u043a\u043e\u043c\u044a \u0443\u0463\u0437\u0434\u0463 ; \u0432\u044a \u043e\u043d\u043e\u043c\u044a \u0431\u044b\u0432\u0430\u0435\u0442\u044a \u043e\u0434\u043d\u0430 \u0432\u044a \u0433\u043e\u0434\u0443 \u044f\u0440\u043c\u0430\u0440\u043a\u0430.   \n",
        "7  \u0410\u041a\u0421\u0415\u041b\u042c, \u0441\u0435\u043b\u043e \u0422\u0430\u043c\u0431\u043e\u0432\u0441\u043a\u0430\u0433\u043e \u041d\u0430\u043c\u0463\u0441\u0442\u043d\u0438\u0447\u0435\u0441\u0442\u0432\u0430 \u0432\u044a \u0422\u0435\u043c\u043d\u0438\u043a\u043e\u0432\u0441\u043a\u043e\u043c\u044a \u0443\u0463\u0437\u0434\u0463. \u0417\u0434\u0463\u0441\u044c \u0431\u044b\u0432\u0430\u0435\u0442\u044a \u0433\u043e\u0434\u043e\u0432\u0430\u044f \u044f\u0440\u043c\u0430\u0440\u043a\u0430, \u0441\u0432\u0435\u0440\u0445\u044a \u0435\u0436\u0435\u043d\u0435\u0434\u0463\u043b\u044c\u043d\u044b\u0445\u044a \u0442\u043e\u0440\u0433\u043e\u0432\u044a, \u0432\u044a \u043e\u0434\u0438\u043d\u0430\u0434\u0446\u0430\u0442\u0443\u044e \u043f\u044f\u0442\u043d\u0438\u0446\u0443 \u043f\u043e \u041f\u0430\u0441\u0445\u0463; \u043a\u0443\u043f\u0446\u044b \u0441\u044e\u0434\u0430 \u043f\u0440\u0456\u0463\u0437\u0436\u0430\u044e\u0442\u044a \u0438\u0437\u044a \u0431\u043b\u0438\u0436\u043d\u0438\u0445\u044a \u0433\u043e\u0440\u043e\u0434\u043e\u0432\u044a \u0441\u044a \u0448\u0435\u043b\u043a\u043e\u0432\u044b\u043c\u0438 \u0438 \u0431\u0443\u043c\u0430\u0436\u043d\u044b\u043c\u0438 \u0442\u043e\u0432\u0430\u0440\u0430\u043c\u0438, \u0445\u043b\u0463\u0431\u043e\u043c\u044a \u0438 \u043f\u0440\u043e\u0447\u0438\u043c\u0438 \u043f\u0440\u0438\u043f\u0430\u0441\u0430\u043c\u0438.   \n",
        "\n",
        "                         ru_prov    alt_name  \\\n",
        "3      \u0420\u044f\u0437\u0430\u043d\u0441\u043a\u0430\u0433\u043e \u041d\u0430\u043c\u0463\u0441\u0442\u043d\u0438\u0447\u0435\u0441\u0442\u0432\u0430  \u0418\u0412\u0410\u041d\u041e\u0412\u0421\u041a\u041e\u0415   \n",
        "4    \u0412\u043e\u043b\u043e\u0433\u043e\u0434\u0441\u043a\u0430\u0433\u043e \u041d\u0430\u043c\u0463\u0441\u0442\u043d\u0438\u0447\u0435\u0441\u0442\u0432\u0430        None   \n",
        "5    \u041a\u043e\u0441\u0442\u0440\u043e\u043c\u0441\u043a\u0430\u0433\u043e \u041d\u0430\u043c\u0463\u0441\u0442\u043d\u0438\u0447\u0435\u0441\u0442\u0432\u0430        None   \n",
        "6  \u041d\u0438\u0436\u0435\u0433\u043e\u0440\u043e\u0434\u0441\u043a\u0430\u0433\u043e \u041d\u0430\u043c\u0463\u0441\u0442\u043d\u0438\u0447\u0435\u0441\u0442\u0432\u0430        None   \n",
        "7     \u0422\u0430\u043c\u0431\u043e\u0432\u0441\u043a\u0430\u0433\u043e \u041d\u0430\u043c\u0463\u0441\u0442\u043d\u0438\u0447\u0435\u0441\u0442\u0432\u0430        None   \n",
        "\n",
        "                                                          source_url  \\\n",
        "3  http://babel.hathitrust.org/cgi/pt?id=uc1.b4583201;view=1up;seq=9   \n",
        "4  http://babel.hathitrust.org/cgi/pt?id=uc1.b4583201;view=1up;seq=9   \n",
        "5  http://babel.hathitrust.org/cgi/pt?id=uc1.b4583201;view=1up;seq=9   \n",
        "6  http://babel.hathitrust.org/cgi/pt?id=uc1.b4583201;view=1up;seq=9   \n",
        "7  http://babel.hathitrust.org/cgi/pt?id=uc1.b4583201;view=1up;seq=9   \n",
        "\n",
        "                                                                                                                                                                                                                                                                                                                                                           html_text  \\\n",
        "3                                                   \u0410\u0412\u0414\u0423\u041b\u041e\u0412\u041e, \u0418\u0412\u0410\u041d\u041e\u0412\u0421\u041a\u041e\u0415 \u0442\u043e\u0436\u044c, </span><span class=\"font0\" style=\"font-style:italic;\">\u0441\u0435\u043b\u043e</span><span class=\"font0\"> \u0420\u044f\u0437\u0430\u043d\u0441\u043a\u0430\u0433\u043e \u041d\u0430\u043c\u0463\u0441\u0442\u043d\u0438\u0447\u0435\u0441\u0442\u0432\u0430 \u0432\u044a \u0414\u043e\u043d\u043a\u043e\u0432\u0441\u043a\u043e\u043c\u044a \u0443\u0463\u0437\u0434\u0463, \u0417\u0434\u0463\u0441\u044c \u0431\u044b\u0432\u0430\u0435\u0442\u044a \u043e\u0434\u043d\u0430 \u0433\u043e\u0434\u043e\u0432\u0430\u044f \u044f\u0440\u043c\u0430\u0440\u043a\u0430 \u0432\u044a \u0434\u0435\u043d\u044c \u0406\u043e\u0430\u043d\u043d\u0430 \u0412\u043e\u0438\u043d\u0430, \u0442\u043e \u0435\u0441\u0442\u044c \u0406\u044e\u043b\u044f 30, \u043d\u0430 \u043a\u043e\u0442\u043e\u0440\u0443\u044e \u043f\u0440\u0456\u0463\u0437\u0436\u0430\u044e\u0442\u044a \u043a\u0443\u043f\u0446\u044b \u0438 \u043a\u0440\u0435\u0441\u0442\u044c\u044f\u043d\u0435 \u0441\u044a \u043c\u0463\u043b\u043e\u0447\u043d\u044b\u043c\u0438 \u0442\u043e\u0432\u0430\u0440\u0430\u043c\u0438.</span>   \n",
        "4                                                                                                                   \u0410\u0412\u0416\u0415\u041d\u0421\u041a\u0410\u042f , </span><span class=\"font0\" style=\"font-style:italic;\">\u0432\u043e\u043b\u043e\u0441\u0442\u044c </span><span class=\"font0\">\u0412\u043e\u043b\u043e\u0433\u043e\u0434\u0441\u043a\u0430\u0433\u043e \u041d\u0430\u043c\u0463\u0441\u0442\u043d\u0438\u0447\u0435\u0441\u0442\u0432\u0430 \u0438 \u0443\u0463\u0437\u0434\u0443. \u0417\u0434\u0463\u0441\u044c \u0431\u044b\u0432\u0430\u0435\u0442\u044a \u0434\u0432\u0430 \u0440\u0430\u0437\u0430 \u0432\u044a \u0433\u043e\u0434\u044a \u044f\u0440\u043c\u0430\u0440\u043a\u0430 , \u043d\u0430 \u043a\u043e\u0435\u0439 \u0442\u043e\u0440\u0433\u0443\u044e\u0442\u044a \u0412\u043e\u043b\u043e\u0433\u043e\u0434\u0441\u043a\u0456\u0435 \u043a\u0443\u043f\u0446\u044b \u043c\u0463\u043b\u043e\u0447\u043d\u044b\u043c\u0438 \u0442\u043e\u0432\u0430\u0440\u0430\u043c\u0438.</span>   \n",
        "5                                                           \u0410\u0412\u0420\u0410\u041c\u0406\u0415\u0412\u042a</span><span class=\"font0\" style=\"font-style:italic;\">, \u043c\u043e\u043d\u0430\u0441\u0442\u044b\u0440\u044c </span><span class=\"font0\">\u041a\u043e\u0441\u0442\u0440\u043e\u043c\u0441\u043a\u0430\u0433\u043e \u041d\u0430\u043c\u0463\u0441\u0442\u043d\u0438\u0447\u0435\u0441\u0442\u0432\u0430, \u043e\u0442\u044a \u0433\u043e\u0440\u043e\u0434\u0430 \u0427\u0443\u0445\u043b\u043e\u043c\u044b \u0432\u044a 10 \u0432\u0435\u0440\u0441\u0442\u0430\u0445\u044a. \u0417\u0434\u0463\u0441\u044c \u0431\u044b\u0432\u0430\u0435\u0442\u044a \u044f\u0440\u043c\u0430\u0440\u043a\u0430. \u0417\u0440\u0438 </span><span class=\"font0\" style=\"font-style:italic;\">\u0427\u0443x\u043b\u043e\u043c\u0430</span><span class=\"font0\"> \u0433\u043e\u0440\u043e\u0434\u044a.</span>   \n",
        "6                                                                                                                                                                \u0410\u0414\u041e\u0412\u0410\u0422\u041e\u0412\u041e, </span><span class=\"font0\" style=\"font-style:italic;\">\u0441\u0435\u043b\u043e</span><span class=\"font0\"> \u041d\u0438\u0436\u0435\u0433\u043e\u0440\u043e\u0434\u0441\u043a\u0430\u0433\u043e \u041d\u0430\u043c\u0463\u0441\u0442\u043d\u0438\u0447\u0435\u0441\u0442\u0432\u0430 \u0432\u044a \u0410\u0440\u0437\u0430\u043c\u0430\u0441\u043a\u043e\u043c\u044a \u0443\u0463\u0437\u0434\u0463 ; \u0432\u044a \u043e\u043d\u043e\u043c\u044a \u0431\u044b\u0432\u0430\u0435\u0442\u044a \u043e\u0434\u043d\u0430 \u0432\u044a \u0433\u043e\u0434\u0443 \u044f\u0440\u043c\u0430\u0440\u043a\u0430.</span>   \n",
        "7  \u0410\u041a\u0421\u0415\u041b\u042c, </span><span class=\"font0\" style=\"font-style:italic;\">\u0441\u0435\u043b\u043e</span><span class=\"font0\"> \u0422\u0430\u043c\u0431\u043e\u0432\u0441\u043a\u0430\u0433\u043e \u041d\u0430\u043c\u0463\u0441\u0442\u043d\u0438\u0447\u0435\u0441\u0442\u0432\u0430 \u0432\u044a \u0422\u0435\u043c\u043d\u0438\u043a\u043e\u0432\u0441\u043a\u043e\u043c\u044a \u0443\u0463\u0437\u0434\u0463. \u0417\u0434\u0463\u0441\u044c \u0431\u044b\u0432\u0430\u0435\u0442\u044a \u0433\u043e\u0434\u043e\u0432\u0430\u044f \u044f\u0440\u043c\u0430\u0440\u043a\u0430, \u0441\u0432\u0435\u0440\u0445\u044a \u0435\u0436\u0435\u043d\u0435\u0434\u0463\u043b\u044c\u043d\u044b\u0445\u044a \u0442\u043e\u0440\u0433\u043e\u0432\u044a, \u0432\u044a \u043e\u0434\u0438\u043d\u0430\u0434\u0446\u0430\u0442\u0443\u044e \u043f\u044f\u0442\u043d\u0438\u0446\u0443 \u043f\u043e \u041f\u0430\u0441\u0445\u0463; \u043a\u0443\u043f\u0446\u044b \u0441\u044e\u0434\u0430 \u043f\u0440\u0456\u0463\u0437\u0436\u0430\u044e\u0442\u044a \u0438\u0437\u044a \u0431\u043b\u0438\u0436\u043d\u0438\u0445\u044a \u0433\u043e\u0440\u043e\u0434\u043e\u0432\u044a \u0441\u044a \u0448\u0435\u043b\u043a\u043e\u0432\u044b\u043c\u0438 \u0438 \u0431\u0443\u043c\u0430\u0436\u043d\u044b\u043c\u0438 \u0442\u043e\u0432\u0430\u0440\u0430\u043c\u0438, \u0445\u043b\u0463\u0431\u043e\u043c\u044a \u0438 \u043f\u0440\u043e\u0447\u0438\u043c\u0438 \u043f\u0440\u0438\u043f\u0430\u0441\u0430\u043c\u0438.</span>   \n",
        "\n",
        "  name_modern_sp                 prov_modern_sp      uezd_modern_sp  \n",
        "3       \u0410\u0412\u0414\u0423\u041b\u041e\u0412\u041e      \u0420\u044f\u0437\u0430\u043d\u0441\u043a\u043e\u0433\u043e \u041d\u0430\u043c\u0435\u0441\u0442\u043d\u0438\u0447\u0435\u0441\u0442\u0432\u0430    \u0414\u043e\u043d\u043a\u043e\u0432\u0441\u043a\u043e\u043c \u0443\u0435\u0437\u0434\u0435  \n",
        "4      \u0410\u0412\u0416\u0415\u041d\u0421\u041a\u0410\u042f    \u0412\u043e\u043b\u043e\u0433\u043e\u0434\u0441\u043a\u043e\u0433\u043e \u041d\u0430\u043c\u0435\u0441\u0442\u043d\u0438\u0447\u0435\u0441\u0442\u0432\u0430  \u0412\u043e\u043b\u043e\u0433\u043e\u0434\u0441\u043a\u043e\u0433\u043e \u0443\u0435\u0437\u0434\u0435  \n",
        "5       \u0410\u0412\u0420\u0410\u041c\u0418\u0415\u0412    \u041a\u043e\u0441\u0442\u0440\u043e\u043c\u0441\u043a\u043e\u0433\u043e \u041d\u0430\u043c\u0435\u0441\u0442\u043d\u0438\u0447\u0435\u0441\u0442\u0432\u0430         not_\u0438n_text  \n",
        "6      \u0410\u0414\u041e\u0412\u0410\u0422\u041e\u0412\u041e  \u041d\u0438\u0436\u0435\u0433\u043e\u0440\u043e\u0434\u0441\u043a\u043e\u0433\u043e \u041d\u0430\u043c\u0435\u0441\u0442\u043d\u0438\u0447\u0435\u0441\u0442\u0432\u0430    \u0410\u0440\u0437\u0430\u043c\u0430\u0441\u043a\u043e\u043c \u0443\u0435\u0437\u0434\u0435  \n",
        "7         \u0410\u041a\u0421\u0415\u041b\u042c     \u0422\u0430\u043c\u0431\u043e\u0432\u0441\u043a\u043e\u0433\u043e \u041d\u0430\u043c\u0435\u0441\u0442\u043d\u0438\u0447\u0435\u0441\u0442\u0432\u0430  \u0422\u0435\u043c\u043d\u0438\u043a\u043e\u0432\u0441\u043a\u043e\u043c \u0443\u0435\u0437\u0434\u0435  "
       ]
      }
     ],
     "prompt_number": 81
    },
    {
     "cell_type": "markdown",
     "metadata": {},
     "source": [
      "Lemmatization\n",
      "=============\n",
      "Here's where we start lemmatizing some of the text. `ru_stemmer` below uses the nltk snowball stemmer to generalize terms."
     ]
    },
    {
     "cell_type": "code",
     "collapsed": false,
     "input": [
      "import nltk"
     ],
     "language": "python",
     "metadata": {},
     "outputs": [],
     "prompt_number": 82
    },
    {
     "cell_type": "code",
     "collapsed": false,
     "input": [
      "ru_stemmer = nltk.stem.SnowballStemmer('russian')"
     ],
     "language": "python",
     "metadata": {},
     "outputs": [],
     "prompt_number": 83
    },
    {
     "cell_type": "code",
     "collapsed": false,
     "input": [
      "market_df['prov_stem'] = market_df.prov_modern_sp.replace(' [\u0410-\u042f\u0430-\u044f]+$','',regex=True).apply(ru_stemmer.stem)\n",
      "market_df['uezd_stem'] = market_df.uezd_modern_sp.replace(' \u0443\u0435\u0437\u0434\u0435$','',regex=True).apply(ru_stemmer.stem)"
     ],
     "language": "python",
     "metadata": {},
     "outputs": [],
     "prompt_number": 84
    },
    {
     "cell_type": "code",
     "collapsed": false,
     "input": [
      "#standardizing names from stems\n",
      "market_df.prov_stem = market_df.prov_stem.replace('\u0432\u043b\u0430\u0434\u0438\u043c\u0435\u0440\u043a','\u0432\u043b\u0430\u0434\u0438\u043c\u0435\u0440\u0441\u043a')\n",
      "market_df.prov_stem = market_df.prov_stem.replace('\u0432\u043e\u043b\u043e\u0434\u0438\u043c\u0435\u0440\u0441\u043a','\u0432\u043b\u0430\u0434\u0438\u043c\u0435\u0440\u0441\u043a')\n",
      "market_df.prov_stem = market_df.prov_stem.replace('\u0432\u043e\u0440\u043e\u043d\u0435\u0436','\u0432\u043e\u0440\u043e\u043d\u0435\u0436\u0441\u043a')\n",
      "market_df.prov_stem = market_df.prov_stem.replace('\u0432\u044b\u0431\u043e\u0440\u0433\u0441\u043a','\u0432\u044b\u0431\u043e\u0440\u0433')\n",
      "market_df.prov_stem = market_df.prov_stem.replace('\u043a\u043e\u0441\u0442\u0440\u043e\u043c\u0441\u043a','\u043a\u043e\u0441\u0442\u0440\u043e\u043c\u0430')\n",
      "market_df.prov_stem = market_df.prov_stem.replace('\u043a\u043e\u0441\u0442\u0440\u043e\u043c','\u043a\u043e\u0441\u0442\u0440\u043e\u043c\u0430')\n",
      "market_df.prov_stem = market_df.prov_stem.replace('\u043a\u043e\u0441\u0442\u0440\u043e\u043c','\u043a\u043e\u0441\u0442\u0440\u043e\u043c\u0430')"
     ],
     "language": "python",
     "metadata": {},
     "outputs": [],
     "prompt_number": 85
    },
    {
     "cell_type": "code",
     "collapsed": false,
     "input": [
      "market_df['admin_hierarchy'] = market_df.prov_stem\n",
      "cond = market_df.ru_uezd != 'not_in_text'\n",
      "market_df.admin_hierarchy[cond] = market_df.admin_hierarchy + \"|\" + market_df.uezd_stem"
     ],
     "language": "python",
     "metadata": {},
     "outputs": [],
     "prompt_number": 86
    },
    {
     "cell_type": "markdown",
     "metadata": {},
     "source": [
      "This cell is simply to output the resulting data frame as an excel spreadsheet for manipulation in other programs. It is not currently in use."
     ]
    },
    {
     "cell_type": "code",
     "collapsed": false,
     "input": [
      "len(market_df.ix[market_df.ru_uezd!='not_in_text'])/len(market_df)"
     ],
     "language": "python",
     "metadata": {},
     "outputs": [
      {
       "metadata": {},
       "output_type": "pyout",
       "prompt_number": 87,
       "text": [
        "0.5056320400500626"
       ]
      }
     ],
     "prompt_number": 87
    },
    {
     "cell_type": "code",
     "collapsed": false,
     "input": [
      "market_df.ix[np.logical_and(market_df.ru_prov=='not_in_text',market_df.ru_uezd!='not_in_text')][['name','ru_prov','text']]"
     ],
     "language": "python",
     "metadata": {},
     "outputs": [
      {
       "html": [
        "<div style=\"max-height:1000px;max-width:1500px;overflow:auto;\">\n",
        "<table border=\"1\" class=\"dataframe\">\n",
        "  <thead>\n",
        "    <tr style=\"text-align: right;\">\n",
        "      <th></th>\n",
        "      <th>name</th>\n",
        "      <th>ru_prov</th>\n",
        "      <th>text</th>\n",
        "    </tr>\n",
        "  </thead>\n",
        "  <tbody>\n",
        "    <tr>\n",
        "      <th>77 </th>\n",
        "      <td>                 \u0411\u0423\u0420\u0415\u0426\u041a\u041e\u0419</td>\n",
        "      <td> not_in_text</td>\n",
        "      <td>                                                                                                                                                           \u0411\u0423\u0420\u0415\u0426\u041a\u041e\u0419, \u043f\u043e\u0433\u043e\u0441\u0442\u044a \u0432\u044a \u041d\u043e\u0432\u0433\u043e\u0440\u043e\u0434\u0441\u043a\u043e\u043c\u044a \u0443\u0463\u0437\u0434\u0463. \u0417\u0434\u0463\u0441\u044c \u0431\u044b\u0432\u0430\u0435\u0442\u044a \u0433\u043e\u0434\u043e\u0432\u043e\u0439 \u0441\u044a\u0463\u0437\u0434\u044a \u0434\u043b\u044f \u0442\u043e\u0440\u0433\u0443 \u0432\u044a \u0434\u0435\u0432\u044f\u0442\u0443\u044e \u043f\u044f\u0442\u043d\u0438\u0446\u0443 \u043f\u043e \u041f\u0430\u0441\u0445\u0463.</td>\n",
        "    </tr>\n",
        "    <tr>\n",
        "      <th>121</th>\n",
        "      <td>                  \u0412\u041e\u041b\u042b\u041d\u0426\u042b</td>\n",
        "      <td> not_in_text</td>\n",
        "      <td>                                                                   \u0412\u041e\u041b\u042b\u041d\u0426\u042b, \u043c\u0463\u0441\u0442\u0435\u0447\u043a\u043e \u0432\u044a \u0443\u0463\u0437\u0434\u0463 \u0433\u043e\u0440\u043e\u0434\u0430 \u041f\u043e\u043b\u043e\u0442\u0441\u043a\u0430. \u0417\u0434\u0463\u0441\u044c \u0431\u044b\u0432\u0430\u0435\u0442\u044a \u0432\u044a \u0433\u043e\u0434\u0443 \u0434\u0432\u0463 \u044f\u0440\u043c\u0430\u0440\u043a\u0438 : \u043f\u0435\u0440\u0432\u0430\u044f \u0406\u044e\u043b\u044f 24, \u0432\u0442\u043e\u0440\u0430\u044f \u041e\u043a\u0442\u044f\u0431\u0440\u044f 1. \u041a\u0443\u043f\u0446\u044b \u043f\u0440\u0456\u0463\u0437\u0436\u0430\u044e\u0442\u044a \u043d\u0430 \u043e\u043d\u044b\u044f \u0438\u0437\u044a \u0441\u043e\u0441\u0463\u0434\u0441\u0442\u0432\u0435\u043d\u043d\u044b\u0445\u044a \u0433\u043e\u0440\u043e\u0434\u043e\u0432\u044a \u0441\u044a \u0440\u0430\u0437\u043d\u044b\u043c\u0438 \u043c\u0463\u043b\u043e\u0447\u043d\u044b\u043c\u0438 \u0442\u043e\u0432\u0430\u0440\u0430\u043c\u0438.</td>\n",
        "    </tr>\n",
        "    <tr>\n",
        "      <th>383</th>\n",
        "      <td>                    \u041b\u0418\u041f\u0426\u042b</td>\n",
        "      <td> not_in_text</td>\n",
        "      <td>                                                                                    \u041b\u0418\u041f\u0426\u042b, \u0441\u043b\u043e\u0431\u043e\u0434\u0430 \u0432\u044a \u0443\u0463\u0437\u0434\u0463 \u0433\u043e\u0440\u043e\u0434\u0430 \u0425\u0430\u0440\u044c\u043a\u043e\u0432\u0430. \u0417\u0434\u0463\u0441\u044c \u0431\u044b\u0432\u0430\u044e\u0442\u044a \u044f\u0440\u043c\u0430\u0440\u043a\u0438 \u041c\u0430\u0456\u044f 9, \u0406\u044e\u043d\u044f 29, \u0421\u0435\u043d\u0442\u044f\u0431\u0440\u044f 1, \u0414\u0435\u043a\u0430\u0431\u0440\u044f 6; \u0442\u043e\u0440\u0433\u0443\u044e\u0442\u044a \u043a\u0443\u043f\u0446\u044b \u0440\u0430\u0437\u043d\u044b\u043c\u044a \u043c\u0463\u043b\u043e\u0447\u043d\u044b\u043c\u044a \u0442\u043e\u0432\u0430\u0440\u043e\u043c\u044a, \u043c\u0435\u0434\u043e\u043c\u044a, \u043f\u0438\u0432\u043e\u043c\u044a , \u0432\u0438\u043d\u043e\u043c\u044a \u0438 \u043f\u0440\u043e\u0447\u0438\u043c\u044a.</td>\n",
        "    </tr>\n",
        "    <tr>\n",
        "      <th>384</th>\n",
        "      <td>                   \u041b\u0418\u0421\u041a\u041e\u0419</td>\n",
        "      <td> not_in_text</td>\n",
        "      <td>                                                                                                                      \u041b\u0418\u0421\u041a\u041e\u0419 , \u0432\u043e\u043b\u043e\u043a\u044a , \u0447\u0442\u043e \u043d\u0430 \u0421\u0438\u043d\u0433\u0463, \u0432\u044a \u0412\u043e\u043b\u043e\u0433\u043e\u0434\u0441\u043a\u043e\u043c\u044a \u0443\u0463\u0437\u0434\u0463. \u0417\u0434\u0463\u0441\u044c \u0431\u044b\u0432\u0430\u0435\u0442\u044a \u0432\u044a \u0433\u043e\u0434\u0443 \u0434\u0432\u0463 \u044f\u0440\u043c\u0430\u0440\u043a\u0438 ; \u043d\u0430 \u043e\u043d\u044b\u0445\u044a \u0442\u043e\u0440\u0433\u0443\u044e\u0442\u044a \u0412\u043e\u043b\u043e\u0433\u043e\u0434\u0441\u043a\u0456\u0435 \u043a\u0443\u043f\u0446\u044b \u043c\u0463\u043b\u043e\u0447\u043d\u044b\u043c\u0438 \u0442\u043e\u0432\u0430\u0440\u0430\u043c\u0438.</td>\n",
        "    </tr>\n",
        "    <tr>\n",
        "      <th>386</th>\n",
        "      <td>                 \u041b\u041e\u041f\u041e\u0422\u041e\u0412\u042a</td>\n",
        "      <td> not_in_text</td>\n",
        "      <td>                                                                                                                              \u041b\u041e\u041f\u041e\u0422\u041e\u0412\u042a, \u043c\u043e\u043d\u0430\u0441\u0442\u044b\u0440\u044c \u0432\u044a \u0412\u043e\u043b\u043e\u0433\u043e\u0434\u0441\u043a\u043e\u043c\u044a \u0443\u0463\u0437\u0434\u0463. \u0417\u0434\u0463\u0441\u044c \u0431\u044b\u0432\u0430\u0435\u0442\u044a \u043e\u0434\u043d\u0430\u0436\u0434\u044b \u0432\u044a \u0433\u043e\u0434\u044a \u044f\u0440\u043c\u0430\u0440\u043a\u0430 ; \u0412\u043e\u043b\u043e\u0433\u043e\u0434\u0441\u043a\u0456\u0435 \u043a\u0443\u043f\u0446\u044b \u0442\u043e\u0440\u0433\u0443\u044e\u0442\u044a \u043d\u0430 \u043e\u043d\u043e\u0439 \u043c\u0463\u043b\u043e\u0447\u043d\u044b\u043c\u0438 \u0442\u043e \u0432\u0430\u0440\u0430\u043c\u0438.</td>\n",
        "    </tr>\n",
        "    <tr>\n",
        "      <th>491</th>\n",
        "      <td>                 \u041e\u041b\u042b\u0428\u0410\u041d\u0410\u042f</td>\n",
        "      <td> not_in_text</td>\n",
        "      <td>                                                                  \u041e\u041b\u042b\u0428\u0410\u041d\u0410\u042f, \u0441\u043b\u043e\u0431\u043e\u0434\u0430 \u0432\u044a \u0443\u0463\u0437\u0434\u0463 \u0433\u043e\u0440\u043e\u0434\u0430 \u0425\u0430\u0440\u044c\u043a\u043e\u0432\u0430. \u0417\u0434\u0463\u0441\u044c \u0431\u044b\u0432\u0430\u044e\u0442\u044a \u044f\u0440\u043c\u0430\u0440\u043a\u0438 \u0432\u044a \u043d\u0435\u0434\u0463\u043b\u044e \u0412\u0430\u0456\u0439, \u043d\u0430 \u0422\u0440\u043e\u0438\u0446\u044b\u043d\u043e\u0439 \u043d\u0435\u0434\u0463\u043b\u0463, \u0421\u0435\u043d\u0442\u044f\u0431\u0440\u044f 8 , \u041e\u043a\u0442\u044f\u0431\u0440\u044f 26 ; \u0442\u043e\u0440\u0433\u0443\u044e\u0442\u044a \u043a\u0443\u043f\u0446\u044b \u043c\u0463\u043b\u043e\u0447\u043d\u044b\u043c\u044a \u0442\u043e\u0432\u0430\u0440\u043e\u043c\u044a , \u0432\u0438\u043d\u043e\u043c\u044a, \u043f\u0438\u0432\u043e\u043c\u044a, \u043c\u0435\u0434\u043e\u043c\u044a \u0438 \u043f\u0440\u043e\u0447\u0438\u043c\u044a.</td>\n",
        "    </tr>\n",
        "    <tr>\n",
        "      <th>518</th>\n",
        "      <td>               \u041f\u0415\u0420\u0415\u041a\u041e\u041f\u0415\u0426\u042a</td>\n",
        "      <td> not_in_text</td>\n",
        "      <td>                                                                                                \u041f\u0415\u0420\u0415\u041a\u041e\u041f\u0415\u0426\u042a , \u043c\u0463\u0441\u0442\u0435\u0447\u043a\u043e \u0432\u044a \u0443\u0463\u0437\u0434\u0463 \u0433\u043e\u0440\u043e\u0434\u0430 \u0425\u0430\u0440\u044c\u043a\u043e\u0432\u0430. \u0417\u0434\u0463\u0441\u044c \u0431\u044b\u0432\u0430\u0435\u0442\u044a \u044f\u0440\u043c\u0430\u0440\u043a\u0430 \u041c\u0430\u0440\u0442\u0430 9, \u041c\u0430\u0456\u044f \u0431 \u0438 \u041d\u043e\u044f\u0431\u0440\u044f 8, \u0442\u043e\u0440\u0433\u0443\u044e\u0442\u044a \u043a\u0443\u043f\u0446\u044b \u043c\u0463\u043b\u043e\u0447\u043d\u044b\u043c\u0438 \u0442\u043e\u0432\u0430\u0440\u0430\u043c\u0438, \u0432\u0438\u043d\u043e\u043c\u044a , \u043f\u0438\u0432\u043e\u043c\u044a , \u043c\u0435\u0434\u043e\u043c\u044a \u0438 \u043f\u0440\u043e\u0447\u0438\u043c\u044a.</td>\n",
        "    </tr>\n",
        "    <tr>\n",
        "      <th>609</th>\n",
        "      <td> \u0421\u0412\u0418\u0420\u0421\u041a\u041e\u0419 \u0410\u041b\u0415\u041a\u0421\u0410\u041d\u0414\u0420\u041e\u0412\u0421\u041a\u041e\u0419</td>\n",
        "      <td> not_in_text</td>\n",
        "      <td>      \u0421\u0412\u0418\u0420\u0421\u041a\u041e\u0419 \u0410\u041b\u0415\u041a\u0421\u0410\u041d\u0414\u0420\u041e\u0412\u0421\u041a\u041e\u0419 , \u043c\u043e\u043d\u0430\u0441\u0442\u044b\u0440\u044c \u0432\u044a \u041e\u043b\u043e\u043d\u0435\u0446\u043a\u043e\u043c\u044a \u0443\u0463\u0437\u0434\u0463. \u041f\u0440\u0438 \u043e\u043d\u043e\u043c\u044a \u0431\u044b\u0432\u0430\u0435\u0442\u044a \u0433\u043e\u0434\u043e\u0432\u0430\u044f \u044f\u0440\u043c\u0430\u0440\u043a\u0430 \u0432\u044a \u0434\u0435\u043d\u044c \u0421\u043e\u0448\u0435\u0441\u0442\u0432\u0456\u044f \u0421\u0432\u044f\u0442\u0430\u0433\u043e \u0414\u0443\u0445\u0430, \u0410\u0432\u0433\u0443-\u0441\u0442\u0430 30. \u0421\u044e\u0434\u0430 \u0434\u043b\u044f \u0442\u043e\u0440\u0433\u0443 \u043f\u0440\u0456\u0463\u0437\u0436\u0430\u044e\u0442\u044a \u043a\u0443\u043f\u0446\u044b \u0438\u0437\u044a \u0440\u0430\u0437\u043d\u044b\u0445\u044a \u0420\u043e\u0441\u0441\u0456\u0439\u0441\u043a\u0438\u0445\u044a \u0433\u043e\u0440\u043e\u0434\u043e\u0432\u044a \u0441\u044a \u0448\u0435\u043b\u043a\u043e\u0432\u044b\u043c\u0438 , \u0431\u0443\u043c\u0430\u0436\u043d\u044b\u043c\u0438 , \u0433\u0430\u0440\u0443\u0441\u043d\u044b\u043c\u0438 \u0438 \u043f\u0440\u043e\u0447\u0438\u043c\u0438 \u0442\u043e\u0432\u0430\u0440\u0430\u043c\u0438.</td>\n",
        "    </tr>\n",
        "    <tr>\n",
        "      <th>675</th>\n",
        "      <td>               \u0422\u0410\u0420\u041d\u042f\u041d\u0421\u041a\u041e\u0419</td>\n",
        "      <td> not_in_text</td>\n",
        "      <td> \u0422\u0410\u0420\u041d\u042f\u041d\u0421\u041a\u041e\u0419, \u0433\u043e\u0440\u043e\u0434\u043e\u043a\u044a \u041a\u043e\u043a\u0448\u0430\u0439\u0441\u043a\u043e\u0439 \u0447\u0435\u0442\u0432\u0435\u0440\u0442\u0438 \u0432\u044a \u0443\u0463\u0437\u0434\u0463 \u0433\u043e\u0440\u043e\u0434\u0430 \u0412\u0430\u0433\u0438. \u0411\u044b\u0432\u0430\u0435\u0442\u044a \u0437\u0434\u0463\u0441\u044c \u0433\u043e\u0434\u043e\u0432\u0430\u044f \u044f\u0440\u043c\u0430\u0440\u043a\u0430, \u043d\u0430\u0447\u0438\u043d\u0430\u044e\u0449\u0430\u044f\u0441\u044f \u0441\u044a 1 \u0413\u0435\u043d\u0432\u0430\u0440\u044f \u0438 \u043f\u0440\u043e\u0434\u043e\u043b\u0436\u0430\u044e\u0449\u0430\u044f\u0441\u044f \u0434\u043e 7 \u0434\u043d\u044f \u0442\u043e\u0433\u043e \u0436\u0435 \u043c\u0463\u0441\u044f\u0446\u0430. \u041a\u0443\u043f\u0446\u044b \u043f\u0440\u0456\u0463\u0437\u0436\u0430\u044e\u0442\u044a \u043d\u0430 \u043e\u043d\u044b\u044f \u0438\u0437\u044a \u0431\u043b\u0438\u0436\u043d\u0438\u0445\u044a \u0433\u043e\u0440\u043e\u0434\u043e\u0432\u044a \u0441\u044a \u0440\u0430\u0437\u043d\u044b\u043c\u0438 \u043c\u0463\u043b\u043e\u0447\u043d\u044b\u043c\u0438 \u043c\u043e\u0441\u043a\u043e\u0442\u0438\u043b\u044c\u043d\u044b\u043c\u0438 \u0438 \u043f\u0440\u043e\u0447\u0438\u043c\u0438 \u0442\u043e\u0432\u0430\u0440\u0430\u043c\u0438.</td>\n",
        "    </tr>\n",
        "    <tr>\n",
        "      <th>692</th>\n",
        "      <td>                \u0422\u041e\u041c\u0410\u0420\u041e\u0412\u041a\u0410</td>\n",
        "      <td> not_in_text</td>\n",
        "      <td>                        \u0422\u041e\u041c\u0410\u0420\u041e\u0412\u041a\u0410, \u0441\u043b\u043e\u0431\u043e\u0434\u0430 \u0432\u044a \u0443\u0463\u0437\u0434\u0463 \u0433\u043e\u0440\u043e\u0434\u0430 \u041a\u0430\u0440\u043f\u043e\u0432\u0430. \u0412\u044a \u043e\u043d\u043e\u0439 \u0431\u044b\u0432\u0430\u0435\u0442\u044a \u044f\u0440\u043c\u0430\u0440\u043a\u0430 \u043f\u043e\u0441\u043b\u0463 \u0420\u043e\u0436\u0434\u0435\u0441\u0442\u0432\u0430 \u043d\u0430 \u0432\u0441\u0435\u0463\u0434\u043d\u043e\u0439 \u043d\u0435\u0434\u0463\u043b\u0463 \u0432\u044a \u043f\u044f\u0442\u043d\u0438\u0446\u0443, \u041c\u0430\u0456\u044f 9, \u0406\u044e\u043b\u044f 8, \u0414\u0435\u043a\u0430\u0431\u0440\u044f 6, \u0438 \u043f\u0440\u043e\u0434\u043e\u043b\u0436\u0430\u044e\u0442\u0441\u044f \u043e\u043d\u044b\u044f \u043f\u043e \u043e\u0434\u043d\u043e\u043c\u0443 \u0434\u043d\u044e. \u041a\u0443\u043f\u0446\u044b \u043f\u0440\u0456\u0463\u0437\u0436\u0430\u044e\u0442\u044a \u0438\u0437\u044a \u043e\u043a\u0440\u0435\u0441\u0442\u043d\u044b\u0445\u044a \u0433\u043e\u0440\u043e\u0434\u043e\u0432\u044a \u0441\u044a \u043c\u0463\u043b\u043e\u0447\u043d\u044b\u043c\u0438 \u0442\u043e\u0432\u0430\u0440\u0430\u043c\u0438.</td>\n",
        "    </tr>\n",
        "    <tr>\n",
        "      <th>733</th>\n",
        "      <td>                  \u0425\u0410\u0422\u041e\u041c\u041b\u042c</td>\n",
        "      <td> not_in_text</td>\n",
        "      <td>                                              \u0425\u0410\u0422\u041e\u041c\u041b\u042c, \u0441\u043b\u043e\u0431\u043e\u0434\u0430 \u0432\u044a \u0443\u0463\u0437\u0434\u0463 \u0433\u043e\u0440\u043e\u0434\u0430 \u0425\u0430\u0440\u044c\u043a\u043e\u0432\u0430. \u0417\u0434\u0463\u0441\u044c \u0431\u044b\u0432\u0430\u044e\u0442\u044a \u044f\u0440\u043c\u0430\u0440\u043a\u0438: \u0424\u0435\u0432\u0440\u0430\u043b\u044f \u0430, \u041c\u0430\u0440\u0442\u0430 25 , \u041c\u0430\u0456\u044f 9, \u0406\u044e\u043d\u044f 14, \u0406\u044e\u043b\u044f 27, \u0421\u0435\u043d\u0442\u044f\u0431\u0440\u044f 1, \u041e\u043a\u0442\u044f\u0431\u0440\u044f 26 , \u0414\u0435\u043a\u0430\u0431\u0440\u044f 6; \u0442\u043e\u0440\u0433\u0443\u044e\u0442\u044a \u043a\u0443\u043f\u0446\u044b \u043c\u0463\u043b\u043e\u0447\u043d\u044b\u043c\u0438 \u0442\u043e\u0432\u0430\u0440\u0430\u043c\u0438, \u0432\u0438\u043d\u043e\u043c\u044a, \u043f\u0438\u0432\u043e\u043c\u044a, \u043c\u0435\u0434\u043e\u043c\u044a \u0438 \u043f\u0440\u043e\u0447\u0438\u043c\u044a.</td>\n",
        "    </tr>\n",
        "    <tr>\n",
        "      <th>747</th>\n",
        "      <td>                    \u0426\u0415\u0412\u041b\u042f</td>\n",
        "      <td> not_in_text</td>\n",
        "      <td>                                                                                                                                                                                  \u0426\u0415\u0412\u041b\u042f, \u0441\u0435\u043b\u043e \u0413. \u0421\u0443\u043c\u0430\u0440\u043e\u043a\u043e\u0432\u0430 \u0432\u044a \u0443\u0463\u0437\u0434\u0463 \u0433\u043e\u0440\u043e\u0434\u0430 \u041e\u043f\u043e\u0447\u0435\u043a\u044a. \u0417\u0434\u0463\u0441\u044c \u0431\u044b\u0432\u0430\u0435\u0442\u044a \u043e\u0434\u043d\u0430 \u0432\u044a \u0433\u043e\u0434\u0443 \u044f\u0440\u043c\u0430\u0440\u043a\u0430.</td>\n",
        "    </tr>\n",
        "    <tr>\n",
        "      <th>757</th>\n",
        "      <td>              \u0427\u0415\u0420\u0415\u041d\u0427\u0418\u0426\u041a\u041e\u0419</td>\n",
        "      <td> not_in_text</td>\n",
        "      <td>                                                                                               \u0427\u0415\u0420\u0415\u041d\u0427\u0418\u0426\u041a\u041e\u0419, \u043f\u043e\u0433\u043e\u0441\u0442\u044a \u0432\u044a \u0443\u0463\u0437\u0434\u0463 \u0433\u043e\u0440\u043e\u0434\u0430 \u0421\u0442\u0430\u0440\u043e\u0439 \u0420\u0443\u0437\u044b. \u0417\u0434\u0463\u0441\u044c \u0431\u044b\u0432\u0430\u0435\u0442\u044a \u043e\u0434\u043d\u0430 \u0433\u043e\u0434\u043e\u0432\u0430\u044f \u044f\u0440\u043c\u0430\u0440\u043a\u0430 \u0432\u044a \u0434\u0435\u043d\u044c \u0418\u043b\u044c\u0438\u043d\u0441\u043a\u043e\u0439 \u043f\u044f\u0442\u043d\u0438\u0446\u044b, \u0438 \u043a\u0443\u043f\u0446\u044b \u043f\u0440\u0456\u0463\u0437\u0436\u0430\u044e\u0442\u044a \u0438\u0437\u044a \u0421\u0442\u0430\u0440\u043e\u0439 \u0420\u0443\u0437\u044b \u0441\u044a \u043c\u0463\u043b\u043e\u0447\u043d\u044b\u043c\u0438 \u0442\u043e\u0432\u0430\u0440\u0430\u043c\u0438.</td>\n",
        "    </tr>\n",
        "  </tbody>\n",
        "</table>\n",
        "</div>"
       ],
       "metadata": {},
       "output_type": "pyout",
       "prompt_number": 88,
       "text": [
        "                         name      ru_prov  \\\n",
        "77                   \u0411\u0423\u0420\u0415\u0426\u041a\u041e\u0419  not_in_text   \n",
        "121                   \u0412\u041e\u041b\u042b\u041d\u0426\u042b  not_in_text   \n",
        "383                     \u041b\u0418\u041f\u0426\u042b  not_in_text   \n",
        "384                    \u041b\u0418\u0421\u041a\u041e\u0419  not_in_text   \n",
        "386                  \u041b\u041e\u041f\u041e\u0422\u041e\u0412\u042a  not_in_text   \n",
        "491                  \u041e\u041b\u042b\u0428\u0410\u041d\u0410\u042f  not_in_text   \n",
        "518                \u041f\u0415\u0420\u0415\u041a\u041e\u041f\u0415\u0426\u042a  not_in_text   \n",
        "609  \u0421\u0412\u0418\u0420\u0421\u041a\u041e\u0419 \u0410\u041b\u0415\u041a\u0421\u0410\u041d\u0414\u0420\u041e\u0412\u0421\u041a\u041e\u0419  not_in_text   \n",
        "675                \u0422\u0410\u0420\u041d\u042f\u041d\u0421\u041a\u041e\u0419  not_in_text   \n",
        "692                 \u0422\u041e\u041c\u0410\u0420\u041e\u0412\u041a\u0410  not_in_text   \n",
        "733                   \u0425\u0410\u0422\u041e\u041c\u041b\u042c  not_in_text   \n",
        "747                     \u0426\u0415\u0412\u041b\u042f  not_in_text   \n",
        "757               \u0427\u0415\u0420\u0415\u041d\u0427\u0418\u0426\u041a\u041e\u0419  not_in_text   \n",
        "\n",
        "                                                                                                                                                                                                                                                                        text  \n",
        "77                                                                                                                                                             \u0411\u0423\u0420\u0415\u0426\u041a\u041e\u0419, \u043f\u043e\u0433\u043e\u0441\u0442\u044a \u0432\u044a \u041d\u043e\u0432\u0433\u043e\u0440\u043e\u0434\u0441\u043a\u043e\u043c\u044a \u0443\u0463\u0437\u0434\u0463. \u0417\u0434\u0463\u0441\u044c \u0431\u044b\u0432\u0430\u0435\u0442\u044a \u0433\u043e\u0434\u043e\u0432\u043e\u0439 \u0441\u044a\u0463\u0437\u0434\u044a \u0434\u043b\u044f \u0442\u043e\u0440\u0433\u0443 \u0432\u044a \u0434\u0435\u0432\u044f\u0442\u0443\u044e \u043f\u044f\u0442\u043d\u0438\u0446\u0443 \u043f\u043e \u041f\u0430\u0441\u0445\u0463.  \n",
        "121                                                                    \u0412\u041e\u041b\u042b\u041d\u0426\u042b, \u043c\u0463\u0441\u0442\u0435\u0447\u043a\u043e \u0432\u044a \u0443\u0463\u0437\u0434\u0463 \u0433\u043e\u0440\u043e\u0434\u0430 \u041f\u043e\u043b\u043e\u0442\u0441\u043a\u0430. \u0417\u0434\u0463\u0441\u044c \u0431\u044b\u0432\u0430\u0435\u0442\u044a \u0432\u044a \u0433\u043e\u0434\u0443 \u0434\u0432\u0463 \u044f\u0440\u043c\u0430\u0440\u043a\u0438 : \u043f\u0435\u0440\u0432\u0430\u044f \u0406\u044e\u043b\u044f 24, \u0432\u0442\u043e\u0440\u0430\u044f \u041e\u043a\u0442\u044f\u0431\u0440\u044f 1. \u041a\u0443\u043f\u0446\u044b \u043f\u0440\u0456\u0463\u0437\u0436\u0430\u044e\u0442\u044a \u043d\u0430 \u043e\u043d\u044b\u044f \u0438\u0437\u044a \u0441\u043e\u0441\u0463\u0434\u0441\u0442\u0432\u0435\u043d\u043d\u044b\u0445\u044a \u0433\u043e\u0440\u043e\u0434\u043e\u0432\u044a \u0441\u044a \u0440\u0430\u0437\u043d\u044b\u043c\u0438 \u043c\u0463\u043b\u043e\u0447\u043d\u044b\u043c\u0438 \u0442\u043e\u0432\u0430\u0440\u0430\u043c\u0438.  \n",
        "383                                                                                     \u041b\u0418\u041f\u0426\u042b, \u0441\u043b\u043e\u0431\u043e\u0434\u0430 \u0432\u044a \u0443\u0463\u0437\u0434\u0463 \u0433\u043e\u0440\u043e\u0434\u0430 \u0425\u0430\u0440\u044c\u043a\u043e\u0432\u0430. \u0417\u0434\u0463\u0441\u044c \u0431\u044b\u0432\u0430\u044e\u0442\u044a \u044f\u0440\u043c\u0430\u0440\u043a\u0438 \u041c\u0430\u0456\u044f 9, \u0406\u044e\u043d\u044f 29, \u0421\u0435\u043d\u0442\u044f\u0431\u0440\u044f 1, \u0414\u0435\u043a\u0430\u0431\u0440\u044f 6; \u0442\u043e\u0440\u0433\u0443\u044e\u0442\u044a \u043a\u0443\u043f\u0446\u044b \u0440\u0430\u0437\u043d\u044b\u043c\u044a \u043c\u0463\u043b\u043e\u0447\u043d\u044b\u043c\u044a \u0442\u043e\u0432\u0430\u0440\u043e\u043c\u044a, \u043c\u0435\u0434\u043e\u043c\u044a, \u043f\u0438\u0432\u043e\u043c\u044a , \u0432\u0438\u043d\u043e\u043c\u044a \u0438 \u043f\u0440\u043e\u0447\u0438\u043c\u044a.  \n",
        "384                                                                                                                       \u041b\u0418\u0421\u041a\u041e\u0419 , \u0432\u043e\u043b\u043e\u043a\u044a , \u0447\u0442\u043e \u043d\u0430 \u0421\u0438\u043d\u0433\u0463, \u0432\u044a \u0412\u043e\u043b\u043e\u0433\u043e\u0434\u0441\u043a\u043e\u043c\u044a \u0443\u0463\u0437\u0434\u0463. \u0417\u0434\u0463\u0441\u044c \u0431\u044b\u0432\u0430\u0435\u0442\u044a \u0432\u044a \u0433\u043e\u0434\u0443 \u0434\u0432\u0463 \u044f\u0440\u043c\u0430\u0440\u043a\u0438 ; \u043d\u0430 \u043e\u043d\u044b\u0445\u044a \u0442\u043e\u0440\u0433\u0443\u044e\u0442\u044a \u0412\u043e\u043b\u043e\u0433\u043e\u0434\u0441\u043a\u0456\u0435 \u043a\u0443\u043f\u0446\u044b \u043c\u0463\u043b\u043e\u0447\u043d\u044b\u043c\u0438 \u0442\u043e\u0432\u0430\u0440\u0430\u043c\u0438.  \n",
        "386                                                                                                                               \u041b\u041e\u041f\u041e\u0422\u041e\u0412\u042a, \u043c\u043e\u043d\u0430\u0441\u0442\u044b\u0440\u044c \u0432\u044a \u0412\u043e\u043b\u043e\u0433\u043e\u0434\u0441\u043a\u043e\u043c\u044a \u0443\u0463\u0437\u0434\u0463. \u0417\u0434\u0463\u0441\u044c \u0431\u044b\u0432\u0430\u0435\u0442\u044a \u043e\u0434\u043d\u0430\u0436\u0434\u044b \u0432\u044a \u0433\u043e\u0434\u044a \u044f\u0440\u043c\u0430\u0440\u043a\u0430 ; \u0412\u043e\u043b\u043e\u0433\u043e\u0434\u0441\u043a\u0456\u0435 \u043a\u0443\u043f\u0446\u044b \u0442\u043e\u0440\u0433\u0443\u044e\u0442\u044a \u043d\u0430 \u043e\u043d\u043e\u0439 \u043c\u0463\u043b\u043e\u0447\u043d\u044b\u043c\u0438 \u0442\u043e \u0432\u0430\u0440\u0430\u043c\u0438.  \n",
        "491                                                                   \u041e\u041b\u042b\u0428\u0410\u041d\u0410\u042f, \u0441\u043b\u043e\u0431\u043e\u0434\u0430 \u0432\u044a \u0443\u0463\u0437\u0434\u0463 \u0433\u043e\u0440\u043e\u0434\u0430 \u0425\u0430\u0440\u044c\u043a\u043e\u0432\u0430. \u0417\u0434\u0463\u0441\u044c \u0431\u044b\u0432\u0430\u044e\u0442\u044a \u044f\u0440\u043c\u0430\u0440\u043a\u0438 \u0432\u044a \u043d\u0435\u0434\u0463\u043b\u044e \u0412\u0430\u0456\u0439, \u043d\u0430 \u0422\u0440\u043e\u0438\u0446\u044b\u043d\u043e\u0439 \u043d\u0435\u0434\u0463\u043b\u0463, \u0421\u0435\u043d\u0442\u044f\u0431\u0440\u044f 8 , \u041e\u043a\u0442\u044f\u0431\u0440\u044f 26 ; \u0442\u043e\u0440\u0433\u0443\u044e\u0442\u044a \u043a\u0443\u043f\u0446\u044b \u043c\u0463\u043b\u043e\u0447\u043d\u044b\u043c\u044a \u0442\u043e\u0432\u0430\u0440\u043e\u043c\u044a , \u0432\u0438\u043d\u043e\u043c\u044a, \u043f\u0438\u0432\u043e\u043c\u044a, \u043c\u0435\u0434\u043e\u043c\u044a \u0438 \u043f\u0440\u043e\u0447\u0438\u043c\u044a.  \n",
        "518                                                                                                 \u041f\u0415\u0420\u0415\u041a\u041e\u041f\u0415\u0426\u042a , \u043c\u0463\u0441\u0442\u0435\u0447\u043a\u043e \u0432\u044a \u0443\u0463\u0437\u0434\u0463 \u0433\u043e\u0440\u043e\u0434\u0430 \u0425\u0430\u0440\u044c\u043a\u043e\u0432\u0430. \u0417\u0434\u0463\u0441\u044c \u0431\u044b\u0432\u0430\u0435\u0442\u044a \u044f\u0440\u043c\u0430\u0440\u043a\u0430 \u041c\u0430\u0440\u0442\u0430 9, \u041c\u0430\u0456\u044f \u0431 \u0438 \u041d\u043e\u044f\u0431\u0440\u044f 8, \u0442\u043e\u0440\u0433\u0443\u044e\u0442\u044a \u043a\u0443\u043f\u0446\u044b \u043c\u0463\u043b\u043e\u0447\u043d\u044b\u043c\u0438 \u0442\u043e\u0432\u0430\u0440\u0430\u043c\u0438, \u0432\u0438\u043d\u043e\u043c\u044a , \u043f\u0438\u0432\u043e\u043c\u044a , \u043c\u0435\u0434\u043e\u043c\u044a \u0438 \u043f\u0440\u043e\u0447\u0438\u043c\u044a.  \n",
        "609       \u0421\u0412\u0418\u0420\u0421\u041a\u041e\u0419 \u0410\u041b\u0415\u041a\u0421\u0410\u041d\u0414\u0420\u041e\u0412\u0421\u041a\u041e\u0419 , \u043c\u043e\u043d\u0430\u0441\u0442\u044b\u0440\u044c \u0432\u044a \u041e\u043b\u043e\u043d\u0435\u0446\u043a\u043e\u043c\u044a \u0443\u0463\u0437\u0434\u0463. \u041f\u0440\u0438 \u043e\u043d\u043e\u043c\u044a \u0431\u044b\u0432\u0430\u0435\u0442\u044a \u0433\u043e\u0434\u043e\u0432\u0430\u044f \u044f\u0440\u043c\u0430\u0440\u043a\u0430 \u0432\u044a \u0434\u0435\u043d\u044c \u0421\u043e\u0448\u0435\u0441\u0442\u0432\u0456\u044f \u0421\u0432\u044f\u0442\u0430\u0433\u043e \u0414\u0443\u0445\u0430, \u0410\u0432\u0433\u0443-\u0441\u0442\u0430 30. \u0421\u044e\u0434\u0430 \u0434\u043b\u044f \u0442\u043e\u0440\u0433\u0443 \u043f\u0440\u0456\u0463\u0437\u0436\u0430\u044e\u0442\u044a \u043a\u0443\u043f\u0446\u044b \u0438\u0437\u044a \u0440\u0430\u0437\u043d\u044b\u0445\u044a \u0420\u043e\u0441\u0441\u0456\u0439\u0441\u043a\u0438\u0445\u044a \u0433\u043e\u0440\u043e\u0434\u043e\u0432\u044a \u0441\u044a \u0448\u0435\u043b\u043a\u043e\u0432\u044b\u043c\u0438 , \u0431\u0443\u043c\u0430\u0436\u043d\u044b\u043c\u0438 , \u0433\u0430\u0440\u0443\u0441\u043d\u044b\u043c\u0438 \u0438 \u043f\u0440\u043e\u0447\u0438\u043c\u0438 \u0442\u043e\u0432\u0430\u0440\u0430\u043c\u0438.  \n",
        "675  \u0422\u0410\u0420\u041d\u042f\u041d\u0421\u041a\u041e\u0419, \u0433\u043e\u0440\u043e\u0434\u043e\u043a\u044a \u041a\u043e\u043a\u0448\u0430\u0439\u0441\u043a\u043e\u0439 \u0447\u0435\u0442\u0432\u0435\u0440\u0442\u0438 \u0432\u044a \u0443\u0463\u0437\u0434\u0463 \u0433\u043e\u0440\u043e\u0434\u0430 \u0412\u0430\u0433\u0438. \u0411\u044b\u0432\u0430\u0435\u0442\u044a \u0437\u0434\u0463\u0441\u044c \u0433\u043e\u0434\u043e\u0432\u0430\u044f \u044f\u0440\u043c\u0430\u0440\u043a\u0430, \u043d\u0430\u0447\u0438\u043d\u0430\u044e\u0449\u0430\u044f\u0441\u044f \u0441\u044a 1 \u0413\u0435\u043d\u0432\u0430\u0440\u044f \u0438 \u043f\u0440\u043e\u0434\u043e\u043b\u0436\u0430\u044e\u0449\u0430\u044f\u0441\u044f \u0434\u043e 7 \u0434\u043d\u044f \u0442\u043e\u0433\u043e \u0436\u0435 \u043c\u0463\u0441\u044f\u0446\u0430. \u041a\u0443\u043f\u0446\u044b \u043f\u0440\u0456\u0463\u0437\u0436\u0430\u044e\u0442\u044a \u043d\u0430 \u043e\u043d\u044b\u044f \u0438\u0437\u044a \u0431\u043b\u0438\u0436\u043d\u0438\u0445\u044a \u0433\u043e\u0440\u043e\u0434\u043e\u0432\u044a \u0441\u044a \u0440\u0430\u0437\u043d\u044b\u043c\u0438 \u043c\u0463\u043b\u043e\u0447\u043d\u044b\u043c\u0438 \u043c\u043e\u0441\u043a\u043e\u0442\u0438\u043b\u044c\u043d\u044b\u043c\u0438 \u0438 \u043f\u0440\u043e\u0447\u0438\u043c\u0438 \u0442\u043e\u0432\u0430\u0440\u0430\u043c\u0438.  \n",
        "692                         \u0422\u041e\u041c\u0410\u0420\u041e\u0412\u041a\u0410, \u0441\u043b\u043e\u0431\u043e\u0434\u0430 \u0432\u044a \u0443\u0463\u0437\u0434\u0463 \u0433\u043e\u0440\u043e\u0434\u0430 \u041a\u0430\u0440\u043f\u043e\u0432\u0430. \u0412\u044a \u043e\u043d\u043e\u0439 \u0431\u044b\u0432\u0430\u0435\u0442\u044a \u044f\u0440\u043c\u0430\u0440\u043a\u0430 \u043f\u043e\u0441\u043b\u0463 \u0420\u043e\u0436\u0434\u0435\u0441\u0442\u0432\u0430 \u043d\u0430 \u0432\u0441\u0435\u0463\u0434\u043d\u043e\u0439 \u043d\u0435\u0434\u0463\u043b\u0463 \u0432\u044a \u043f\u044f\u0442\u043d\u0438\u0446\u0443, \u041c\u0430\u0456\u044f 9, \u0406\u044e\u043b\u044f 8, \u0414\u0435\u043a\u0430\u0431\u0440\u044f 6, \u0438 \u043f\u0440\u043e\u0434\u043e\u043b\u0436\u0430\u044e\u0442\u0441\u044f \u043e\u043d\u044b\u044f \u043f\u043e \u043e\u0434\u043d\u043e\u043c\u0443 \u0434\u043d\u044e. \u041a\u0443\u043f\u0446\u044b \u043f\u0440\u0456\u0463\u0437\u0436\u0430\u044e\u0442\u044a \u0438\u0437\u044a \u043e\u043a\u0440\u0435\u0441\u0442\u043d\u044b\u0445\u044a \u0433\u043e\u0440\u043e\u0434\u043e\u0432\u044a \u0441\u044a \u043c\u0463\u043b\u043e\u0447\u043d\u044b\u043c\u0438 \u0442\u043e\u0432\u0430\u0440\u0430\u043c\u0438.  \n",
        "733                                               \u0425\u0410\u0422\u041e\u041c\u041b\u042c, \u0441\u043b\u043e\u0431\u043e\u0434\u0430 \u0432\u044a \u0443\u0463\u0437\u0434\u0463 \u0433\u043e\u0440\u043e\u0434\u0430 \u0425\u0430\u0440\u044c\u043a\u043e\u0432\u0430. \u0417\u0434\u0463\u0441\u044c \u0431\u044b\u0432\u0430\u044e\u0442\u044a \u044f\u0440\u043c\u0430\u0440\u043a\u0438: \u0424\u0435\u0432\u0440\u0430\u043b\u044f \u0430, \u041c\u0430\u0440\u0442\u0430 25 , \u041c\u0430\u0456\u044f 9, \u0406\u044e\u043d\u044f 14, \u0406\u044e\u043b\u044f 27, \u0421\u0435\u043d\u0442\u044f\u0431\u0440\u044f 1, \u041e\u043a\u0442\u044f\u0431\u0440\u044f 26 , \u0414\u0435\u043a\u0430\u0431\u0440\u044f 6; \u0442\u043e\u0440\u0433\u0443\u044e\u0442\u044a \u043a\u0443\u043f\u0446\u044b \u043c\u0463\u043b\u043e\u0447\u043d\u044b\u043c\u0438 \u0442\u043e\u0432\u0430\u0440\u0430\u043c\u0438, \u0432\u0438\u043d\u043e\u043c\u044a, \u043f\u0438\u0432\u043e\u043c\u044a, \u043c\u0435\u0434\u043e\u043c\u044a \u0438 \u043f\u0440\u043e\u0447\u0438\u043c\u044a.  \n",
        "747                                                                                                                                                                                   \u0426\u0415\u0412\u041b\u042f, \u0441\u0435\u043b\u043e \u0413. \u0421\u0443\u043c\u0430\u0440\u043e\u043a\u043e\u0432\u0430 \u0432\u044a \u0443\u0463\u0437\u0434\u0463 \u0433\u043e\u0440\u043e\u0434\u0430 \u041e\u043f\u043e\u0447\u0435\u043a\u044a. \u0417\u0434\u0463\u0441\u044c \u0431\u044b\u0432\u0430\u0435\u0442\u044a \u043e\u0434\u043d\u0430 \u0432\u044a \u0433\u043e\u0434\u0443 \u044f\u0440\u043c\u0430\u0440\u043a\u0430.  \n",
        "757                                                                                                \u0427\u0415\u0420\u0415\u041d\u0427\u0418\u0426\u041a\u041e\u0419, \u043f\u043e\u0433\u043e\u0441\u0442\u044a \u0432\u044a \u0443\u0463\u0437\u0434\u0463 \u0433\u043e\u0440\u043e\u0434\u0430 \u0421\u0442\u0430\u0440\u043e\u0439 \u0420\u0443\u0437\u044b. \u0417\u0434\u0463\u0441\u044c \u0431\u044b\u0432\u0430\u0435\u0442\u044a \u043e\u0434\u043d\u0430 \u0433\u043e\u0434\u043e\u0432\u0430\u044f \u044f\u0440\u043c\u0430\u0440\u043a\u0430 \u0432\u044a \u0434\u0435\u043d\u044c \u0418\u043b\u044c\u0438\u043d\u0441\u043a\u043e\u0439 \u043f\u044f\u0442\u043d\u0438\u0446\u044b, \u0438 \u043a\u0443\u043f\u0446\u044b \u043f\u0440\u0456\u0463\u0437\u0436\u0430\u044e\u0442\u044a \u0438\u0437\u044a \u0421\u0442\u0430\u0440\u043e\u0439 \u0420\u0443\u0437\u044b \u0441\u044a \u043c\u0463\u043b\u043e\u0447\u043d\u044b\u043c\u0438 \u0442\u043e\u0432\u0430\u0440\u0430\u043c\u0438.  "
       ]
      }
     ],
     "prompt_number": 88
    },
    {
     "cell_type": "markdown",
     "metadata": {},
     "source": [
      "Adding partof IDs"
     ]
    },
    {
     "cell_type": "code",
     "collapsed": false,
     "input": [
      "with open('admindf.json','r',encoding='utf-8') as fp:\n",
      "    admin_lookup = json.load(fp)\n",
      "\n",
      "problem_uezd = []\n",
      "    \n",
      "def f_admin_lookup(hierarchy):\n",
      "    \"\"\"don't try to use this anywhere else without modification. It's pretty dependent on being right here.\"\"\"\n",
      "    admin = hierarchy.split('|')\n",
      "    if len(admin)==1:\n",
      "        if admin[0]!='\u043d\u043e\u0442_\u0438\u043d_\u0442\u0435x\u0442':\n",
      "            try:\n",
      "                partof = admin_lookup['prov_stem'][admin[0]]\n",
      "            except KeyError:\n",
      "                print('{} not in admin_lookup'.format(admin[0]))\n",
      "                partof = None\n",
      "        else:\n",
      "            partof = None\n",
      "    else:\n",
      "        try:\n",
      "            partof = admin_lookup['uezd_stem'][admin[1]]\n",
      "        except KeyError:\n",
      "            print('{} not in admin_lookup'.format(admin[1]))\n",
      "            problem_uezd.append(admin[1])\n",
      "            partof = None\n",
      "    return partof"
     ],
     "language": "python",
     "metadata": {},
     "outputs": [],
     "prompt_number": 89
    },
    {
     "cell_type": "code",
     "collapsed": false,
     "input": [
      "#test = '\u043f\u043e\u043b\u0442\u043f\u0430\u0432\u0441\u043a'\n",
      "#market_df.ix[np.logical_or(market_df.prov_stem==test,market_df.uezd_stem==test)]"
     ],
     "language": "python",
     "metadata": {},
     "outputs": [],
     "prompt_number": 90
    },
    {
     "cell_type": "code",
     "collapsed": false,
     "input": [
      "market_df['partof_id'] = market_df.admin_hierarchy.apply(f_admin_lookup)"
     ],
     "language": "python",
     "metadata": {},
     "outputs": [
      {
       "output_type": "stream",
       "stream": "stdout",
       "text": [
        "\u043f\u043e\u043b\u0442\u043f\u0430\u0432\u0441\u043a not in admin_lookup\n",
        "\u0438\u043e\u043b\u0442\u0430\u0432\u0441\u043a not in admin_lookup\n",
        "\u0432\u044b\u0442\u0435\u0433\u0440 not in admin_lookup\n",
        "\u043b\u0435\u0431\u0435\u0434\u0438\u043d not in admin_lookup\n",
        "\u0437\u0435\u043b\u0438\u043a\u043e\u043b\u0443\u0446\u043a not in admin_lookup\n",
        "\u0435\u043a\u0430\u0442\u0435\u0440\u0438\u043d\u0431\u0443\u0440\u0433\u0441\u043a not in admin_lookup\n",
        "\u0431\u0435\u043b\u0430\u043e\u0437\u0435\u0440\u0441\u043a not in admin_lookup\n",
        "\u0441\u0430\u043f\u043e\u0436\u043a not in admin_lookup\n",
        "\u0434\u0435\u0440\u043f\u0442\u0441\u043a not in admin_lookup\n",
        "\u043a\u0430\u0440\u0430\u0447\u0435\u0432 not in admin_lookup\n",
        "\u043e\u043b\u043e\u043d\u0435\u0446 not in admin_lookup\n",
        "\u044f\u043a\u0441\u043a not in admin_lookup\n",
        "\u0441\u0435\u043d not in admin_lookup\n",
        "\u0431\u043e\u0433\u043e\u0440\u043e\u0434\u0441\u043a not in admin_lookup\n",
        "\u043f\u0435\u043d\u0437 not in admin_lookup\n",
        "\u043f\u0435\u0440\u043c not in admin_lookup\n",
        "\u043a\u043e\u0437\u044c\u043c\u043e\u0434\u0435\u043c\u044c\u044f\u043d\u0441\u043a not in admin_lookup\n",
        "\u0440\u0443\u0437 not in admin_lookup\n",
        "\u0438\u0441\u043a not in admin_lookup\n",
        "\u0448\u0443 not in admin_lookup\n",
        "\u0432\u043e\u0441\u043a\u0440\u0435\u0441\u0435\u043d\u0441\u043a not in admin_lookup\n",
        "\u043b\u044e\u0431\u0435\u043d\u0441\u043a not in admin_lookup\n",
        "\u0440\u0438\u0433 not in admin_lookup\n",
        "\u0435\u0444\u0440\u0435\u043c\u043e\u0432 not in admin_lookup\n",
        "\u0431\u043e\u0440\u043e\u0432\u0441\u043a not in admin_lookup\n",
        "\u0440\u044f\u0437\u0430\u043d not in admin_lookup\n",
        "\u0441\u0430\u0440\u0430\u0442 not in admin_lookup\n",
        "\u0430\u043b\u0430\u0442\u044b\u0440\u0441\u043a not in admin_lookup\n",
        "\u043e\u043f\u043e\u0447\u0435\u043a not in admin_lookup\n",
        "\u0446\u0430\u0440\u0435\u0432\u043e\u043a\u043e\u043a\u0448\u0430\u0439\u0441\u043a not in admin_lookup\n",
        "\u044e\u0440\u044c\u0435\u0432\u0430-\u043f\u043e\u043b\u044c\u0441\u043a not in admin_lookup\n",
        "\u043f\u043e\u0440\u0445\u043e\u0432 not in admin_lookup\n",
        "\u043c\u0435\u043d\u0441\u043a not in admin_lookup\n",
        "\u043d\u043e\u0432\u043e\u0433\u043e\u0440\u043e\u0434\u0441\u043a\u0430\u0433\u043e-\u0441\u0435\u0432\u0435\u0440\u0441\u043a not in admin_lookup\n",
        "\u043f\u043e\u0448\u0435\u0445\u043e\u043d\u0441\u043a\u043e\u043c  not in admin_lookup\n",
        "\u043a\u0443\u0440\u043c\u044b\u0448\u0441\u043a not in admin_lookup\n",
        "\u043d\u043e\u0432\u043e\u0433\u043e\u0440\u043e\u0434\u0441\u043a\u0430\u0433\u043e-\u0441\u0435\u0432\u0435\u0440\u0441\u043a not in admin_lookup\n",
        "\u0440\u043e\u0447\u0435\u043d\u0441\u043a not in admin_lookup\n",
        "\u0441\u0443\u043c\u0441\u043a not in admin_lookup\n",
        "\u0442\u0430\u043c\u0431 not in admin_lookup\n",
        "\u0432\u0430\u0433 not in admin_lookup\n",
        "\u0437\u0443\u0431\u0446\u043e\u0432\u0441\u043a not in admin_lookup\n",
        "\u0440\u0430\u0447\u0435\u0432\u0441\u043a not in admin_lookup\n",
        "\u043b\u0443\u0445\u043e\u0432\u0441\u043a not in admin_lookup\n",
        "\u043a\u0430\u0440\u043f\u043e\u0432 not in admin_lookup\n",
        "\u0446\u0430\u0440\u0435\u0432\u043e\u0441\u0430\u043d\u0447\u0443\u0440\u0441\u043a not in admin_lookup\n",
        "\u0442\u0443\u043b not in admin_lookup\n",
        "\u0432\u043e\u043b\u043e\u0434\u0438\u043c\u0435\u0440\u0441\u043a not in admin_lookup\n",
        "\u0441\u0443\u043c\u0441\u043a not in admin_lookup\n",
        "\u0434\u043e\u043d\u043a\u043e\u0432 not in admin_lookup\n",
        "\u043e\u043f\u043e\u0447\u0435\u043a not in admin_lookup\n",
        "\u043d\u0435\u0440\u0447\u0438\u043d\u0441\u043a not in admin_lookup\n",
        "\u0441\u0442\u0430\u0440 not in admin_lookup\n",
        "\u0447\u0435\u0440\u043d\u0438\u0433 not in admin_lookup\n",
        "\u0448\u0443 not in admin_lookup\n",
        "\u043a\u0443\u0440\u043c\u044b\u0448\u0441\u043a not in admin_lookup\n",
        "\u043f\u043e\u0432\u0435\u043d\u0435\u0446\u043a not in admin_lookup\n",
        "\u0441\u0443\u043c\u0441\u043a not in admin_lookup\n",
        "\u043a\u0443\u0440\u043c\u044b\u0448\u0441\u043a not in admin_lookup\n",
        "\u0438\u043d\u0441\u0430\u0440\u0441\u043a not in admin_lookup\n"
       ]
      }
     ],
     "prompt_number": 91
    },
    {
     "cell_type": "code",
     "collapsed": false,
     "input": [
      "market_df.name = market_df.name.str.title()\n",
      "market_df.alt_name = market_df.alt_name.str.title()\n",
      "market_df.name_modern_sp = market_df.name_modern_sp.str.title()"
     ],
     "language": "python",
     "metadata": {},
     "outputs": [],
     "prompt_number": 92
    },
    {
     "cell_type": "code",
     "collapsed": false,
     "input": [
      "market_df.to_excel(\"no_geo.xlsx\",encoding=\"utf-8\")\n",
      "market_df.to_csv(\"no_geo.csv\",encoding=\"utf-8\")"
     ],
     "language": "python",
     "metadata": {},
     "outputs": [],
     "prompt_number": 93
    },
    {
     "cell_type": "markdown",
     "metadata": {},
     "source": [
      "Geocoding begins here!\n",
      "======================"
     ]
    },
    {
     "cell_type": "code",
     "collapsed": false,
     "input": [
      "def geonames_lookup(placename,placeid,east=180,west=-180,north=90,south=-90):\n",
      "    keepgoing = True\n",
      "    returnlist = []\n",
      "    while keepgoing == True:\n",
      "        Ensure_dir(\"geonames_jsons\")\n",
      "        url = \"http://api.geonames.org/search\"\n",
      "        Q = {'type':'json','username':'jaguillette','featureClass':'P','name':placename,'north':north,'south':south,'east':east,'west':west}\n",
      "        R = requests.get(url,params=Q)\n",
      "        out_url = R.url\n",
      "        geonames_json = R.json()\n",
      "        time.sleep(1)\n",
      "        if geonames_json['totalResultsCount'] != 0:\n",
      "            for x in range(0,len(geonames_json['geonames'])):\n",
      "                geo_placename = geonames_json['geonames'][x]['name']\n",
      "                geo_admin1 = geonames_json['geonames'][x]['adminName1']\n",
      "                geo_countryname = geonames_json['geonames'][x]['countryName']\n",
      "                geo_lat = geonames_json['geonames'][x]['lat']\n",
      "                geo_lng = geonames_json['geonames'][x]['lng']\n",
      "                geo_id = geonames_json['geonames'][x]['geonameId']\n",
      "                geo_country_code = geonames_json['geonames'][x]['countryCode']\n",
      "                returnlist.append([placeid,geo_placename,placename,geo_admin1,geo_countryname,geo_lat,geo_lng,geo_id,geo_country_code,out_url,'geonames'])\n",
      "            if not os.path.exists(out_url):\n",
      "                with open(\"geonames_jsons/{}.json\".format(placename),'w',encoding='utf-8') as jsonfile:\n",
      "                    jsonfile.write(R.text)\n",
      "            print(\"{} was found.\".format(placename))\n",
      "            keepgoing = False\n",
      "        elif len(re.findall(r'(\u041e\u0419)($|\\s)',placename))!=0:\n",
      "            geo_placename = \"not_found\"\n",
      "            geo_admin1 = \"not_found\"\n",
      "            geo_countryname = \"not_found\"\n",
      "            geo_lat = \"not_found\"\n",
      "            geo_lng = \"not_found\"\n",
      "            geo_id = \"not_found\"\n",
      "            geo_country_code = \"not_found\"\n",
      "            returnlist.append([placeid,geo_placename,placename,geo_admin1,geo_countryname,geo_lat,geo_lng,geo_id,geo_country_code,out_url,'geonames'])\n",
      "            placename = re.sub(r'(\u041e\u0419)($|\\s)',r'\u0418\u0419\\2',placename)\n",
      "            print('New form: {}'.format(placename))\n",
      "            continue\n",
      "        elif len(re.findall(r'(\u0441\u043a)($|\\s)',placename))!=0:\n",
      "            geo_placename = \"not_found\"\n",
      "            geo_admin1 = \"not_found\"\n",
      "            geo_countryname = \"not_found\"\n",
      "            geo_lat = \"not_found\"\n",
      "            geo_lng = \"not_found\"\n",
      "            geo_id = \"not_found\"\n",
      "            geo_country_code = \"not_found\"\n",
      "            returnlist.append([placeid,geo_placename,placename,geo_admin1,geo_countryname,geo_lat,geo_lng,geo_id,geo_country_code,out_url,'geonames'])\n",
      "            placename = re.sub(r'(\u0441\u043a)($|\\s)',r'\\2',placename)\n",
      "            print('New form: {}'.format(placename))\n",
      "            continue\n",
      "        else:\n",
      "            geo_placename = \"not_found\"\n",
      "            geo_admin1 = \"not_found\"\n",
      "            geo_countryname = \"not_found\"\n",
      "            geo_lat = \"not_found\"\n",
      "            geo_lng = \"not_found\"\n",
      "            geo_id = \"not_found\"\n",
      "            geo_country_code = \"not_found\"\n",
      "            returnlist.append([placeid,geo_placename,placename,geo_admin1,geo_countryname,geo_lat,geo_lng,geo_id,geo_country_code,out_url,'geonames'])\n",
      "            print(\"{} was not found.\".format(placename))\n",
      "            keepgoing = False\n",
      "    return returnlist"
     ],
     "language": "python",
     "metadata": {},
     "outputs": [],
     "prompt_number": 94
    },
    {
     "cell_type": "code",
     "collapsed": false,
     "input": [
      "bounding_dict = {}\n",
      "with open(\"namiestnich_bounds.json\",'r',encoding = 'utf-8') as fp:\n",
      "    bounding_dict = json.load(fp)"
     ],
     "language": "python",
     "metadata": {},
     "outputs": [],
     "prompt_number": 95
    },
    {
     "cell_type": "code",
     "collapsed": false,
     "input": [
      "import time"
     ],
     "language": "python",
     "metadata": {},
     "outputs": [],
     "prompt_number": 96
    },
    {
     "cell_type": "markdown",
     "metadata": {},
     "source": [
      "Uyezd Geocoding\n",
      "===============\n",
      "Skip this if you aren't geocoding uyezdi"
     ]
    },
    {
     "cell_type": "code",
     "collapsed": false,
     "input": [
      "uydf = pd.DataFrame(market_df.admin_hierarchy.unique(),columns=['uezd'])\n",
      "uydf = pd.DataFrame(uydf.uezd.str.split('|').tolist(),columns = ['namiest','uezd'])\n",
      "uydf.head()"
     ],
     "language": "python",
     "metadata": {},
     "outputs": [
      {
       "html": [
        "<div style=\"max-height:1000px;max-width:1500px;overflow:auto;\">\n",
        "<table border=\"1\" class=\"dataframe\">\n",
        "  <thead>\n",
        "    <tr style=\"text-align: right;\">\n",
        "      <th></th>\n",
        "      <th>namiest</th>\n",
        "      <th>uezd</th>\n",
        "    </tr>\n",
        "  </thead>\n",
        "  <tbody>\n",
        "    <tr>\n",
        "      <th>0</th>\n",
        "      <td>     \u0440\u044f\u0437\u0430\u043d\u0441\u043a</td>\n",
        "      <td>   \u0434\u043e\u043d\u043a\u043e\u0432\u0441\u043a</td>\n",
        "    </tr>\n",
        "    <tr>\n",
        "      <th>1</th>\n",
        "      <td>   \u0432\u043e\u043b\u043e\u0433\u043e\u0434\u0441\u043a</td>\n",
        "      <td>  \u0432\u043e\u043b\u043e\u0433\u043e\u0434\u0441\u043a</td>\n",
        "    </tr>\n",
        "    <tr>\n",
        "      <th>2</th>\n",
        "      <td>    \u043a\u043e\u0441\u0442\u0440\u043e\u043c\u0430</td>\n",
        "      <td>       None</td>\n",
        "    </tr>\n",
        "    <tr>\n",
        "      <th>3</th>\n",
        "      <td> \u043d\u0438\u0436\u0435\u0433\u043e\u0440\u043e\u0434\u0441\u043a</td>\n",
        "      <td>   \u0430\u0440\u0437\u0430\u043c\u0430\u0441\u043a</td>\n",
        "    </tr>\n",
        "    <tr>\n",
        "      <th>4</th>\n",
        "      <td>    \u0442\u0430\u043c\u0431\u043e\u0432\u0441\u043a</td>\n",
        "      <td> \u0442\u0435\u043c\u043d\u0438\u043a\u043e\u0432\u0441\u043a</td>\n",
        "    </tr>\n",
        "  </tbody>\n",
        "</table>\n",
        "</div>"
       ],
       "metadata": {},
       "output_type": "pyout",
       "prompt_number": 97,
       "text": [
        "       namiest        uezd\n",
        "0      \u0440\u044f\u0437\u0430\u043d\u0441\u043a    \u0434\u043e\u043d\u043a\u043e\u0432\u0441\u043a\n",
        "1    \u0432\u043e\u043b\u043e\u0433\u043e\u0434\u0441\u043a   \u0432\u043e\u043b\u043e\u0433\u043e\u0434\u0441\u043a\n",
        "2     \u043a\u043e\u0441\u0442\u0440\u043e\u043c\u0430        None\n",
        "3  \u043d\u0438\u0436\u0435\u0433\u043e\u0440\u043e\u0434\u0441\u043a    \u0430\u0440\u0437\u0430\u043c\u0430\u0441\u043a\n",
        "4     \u0442\u0430\u043c\u0431\u043e\u0432\u0441\u043a  \u0442\u0435\u043c\u043d\u0438\u043a\u043e\u0432\u0441\u043a"
       ]
      }
     ],
     "prompt_number": 97
    },
    {
     "cell_type": "code",
     "collapsed": false,
     "input": [
      "new_uydf = uydf.ix[uydf.uezd.isin(problem_uezd)]"
     ],
     "language": "python",
     "metadata": {},
     "outputs": [],
     "prompt_number": 98
    },
    {
     "cell_type": "code",
     "collapsed": false,
     "input": [
      "new_uydf.uezd.unique()"
     ],
     "language": "python",
     "metadata": {},
     "outputs": [
      {
       "metadata": {},
       "output_type": "pyout",
       "prompt_number": 99,
       "text": [
        "array(['\u043f\u043e\u043b\u0442\u043f\u0430\u0432\u0441\u043a', '\u0438\u043e\u043b\u0442\u0430\u0432\u0441\u043a', '\u0432\u044b\u0442\u0435\u0433\u0440', '\u043b\u0435\u0431\u0435\u0434\u0438\u043d', '\u0437\u0435\u043b\u0438\u043a\u043e\u043b\u0443\u0446\u043a',\n",
        "       '\u0435\u043a\u0430\u0442\u0435\u0440\u0438\u043d\u0431\u0443\u0440\u0433\u0441\u043a', '\u0431\u0435\u043b\u0430\u043e\u0437\u0435\u0440\u0441\u043a', '\u0441\u0430\u043f\u043e\u0436\u043a', '\u0434\u0435\u0440\u043f\u0442\u0441\u043a', '\u043a\u0430\u0440\u0430\u0447\u0435\u0432',\n",
        "       '\u044f\u043a\u0441\u043a', '\u0441\u0435\u043d', '\u0431\u043e\u0433\u043e\u0440\u043e\u0434\u0441\u043a', '\u043a\u043e\u0437\u044c\u043c\u043e\u0434\u0435\u043c\u044c\u044f\u043d\u0441\u043a', '\u0440\u0443\u0437', '\u0448\u0443',\n",
        "       '\u0432\u043e\u0441\u043a\u0440\u0435\u0441\u0435\u043d\u0441\u043a', '\u043b\u044e\u0431\u0435\u043d\u0441\u043a', '\u0435\u0444\u0440\u0435\u043c\u043e\u0432', '\u0431\u043e\u0440\u043e\u0432\u0441\u043a', '\u0430\u043b\u0430\u0442\u044b\u0440\u0441\u043a',\n",
        "       '\u043e\u043f\u043e\u0447\u0435\u043a', '\u0446\u0430\u0440\u0435\u0432\u043e\u043a\u043e\u043a\u0448\u0430\u0439\u0441\u043a', '\u044e\u0440\u044c\u0435\u0432\u0430-\u043f\u043e\u043b\u044c\u0441\u043a', '\u043f\u043e\u0440\u0445\u043e\u0432', '\u043c\u0435\u043d\u0441\u043a',\n",
        "       '\u043f\u043e\u0448\u0435\u0445\u043e\u043d\u0441\u043a\u043e\u043c ', '\u043a\u0443\u0440\u043c\u044b\u0448\u0441\u043a', '\u0440\u043e\u0447\u0435\u043d\u0441\u043a', '\u0441\u0443\u043c\u0441\u043a', '\u0432\u0430\u0433', '\u0437\u0443\u0431\u0446\u043e\u0432\u0441\u043a',\n",
        "       '\u0440\u0430\u0447\u0435\u0432\u0441\u043a', '\u043b\u0443\u0445\u043e\u0432\u0441\u043a', '\u043a\u0430\u0440\u043f\u043e\u0432', '\u0446\u0430\u0440\u0435\u0432\u043e\u0441\u0430\u043d\u0447\u0443\u0440\u0441\u043a', '\u0432\u043e\u043b\u043e\u0434\u0438\u043c\u0435\u0440\u0441\u043a',\n",
        "       '\u0434\u043e\u043d\u043a\u043e\u0432', '\u043d\u0435\u0440\u0447\u0438\u043d\u0441\u043a', '\u0441\u0442\u0430\u0440', '\u043f\u043e\u0432\u0435\u043d\u0435\u0446\u043a', '\u0438\u043d\u0441\u0430\u0440\u0441\u043a'], dtype=object)"
       ]
      }
     ],
     "prompt_number": 99
    },
    {
     "cell_type": "code",
     "collapsed": false,
     "input": [
      "market_df.ix[market_df.prov_stem=='\u0440\u0441\u043a\u043e\u0433']"
     ],
     "language": "python",
     "metadata": {},
     "outputs": [
      {
       "html": [
        "<div style=\"max-height:1000px;max-width:1500px;overflow:auto;\">\n",
        "<table border=\"1\" class=\"dataframe\">\n",
        "  <thead>\n",
        "    <tr style=\"text-align: right;\">\n",
        "      <th></th>\n",
        "      <th>page</th>\n",
        "      <th>_type</th>\n",
        "      <th>name</th>\n",
        "      <th>ru_uezd</th>\n",
        "      <th>text</th>\n",
        "      <th>ru_prov</th>\n",
        "      <th>alt_name</th>\n",
        "      <th>source_url</th>\n",
        "      <th>html_text</th>\n",
        "      <th>name_modern_sp</th>\n",
        "      <th>prov_modern_sp</th>\n",
        "      <th>uezd_modern_sp</th>\n",
        "      <th>prov_stem</th>\n",
        "      <th>uezd_stem</th>\n",
        "      <th>admin_hierarchy</th>\n",
        "      <th>partof_id</th>\n",
        "    </tr>\n",
        "  </thead>\n",
        "  <tbody>\n",
        "  </tbody>\n",
        "</table>\n",
        "</div>"
       ],
       "metadata": {},
       "output_type": "pyout",
       "prompt_number": 100,
       "text": [
        "Empty DataFrame\n",
        "Columns: [page, _type, name, ru_uezd, text, ru_prov, alt_name, source_url, html_text, name_modern_sp, prov_modern_sp, uezd_modern_sp, prov_stem, uezd_stem, admin_hierarchy, partof_id]\n",
        "Index: []"
       ]
      }
     ],
     "prompt_number": 100
    },
    {
     "cell_type": "code",
     "collapsed": false,
     "input": [
      "ugeo = []\n",
      "problem_prov = []\n",
      "d = 4\n",
      "for x in range(0,len(new_uydf)):\n",
      "    entry = new_uydf.iloc[x]\n",
      "    if entry['uezd'] is not None:\n",
      "        try:\n",
      "            loc = bounding_dict[entry['namiest']]\n",
      "        except KeyError:\n",
      "            print(\"{} is a problem\".format(entry['namiest']))\n",
      "            problem_prov.append(entry['namiest'])\n",
      "            continue\n",
      "        if \"boundaries\" in loc:\n",
      "            W = loc[\"boundaries\"][0]\n",
      "            S = loc[\"boundaries\"][1]\n",
      "            E = loc[\"boundaries\"][2]\n",
      "            N = loc[\"boundaries\"][3]\n",
      "        else:\n",
      "            N = loc[\"center\"][0]+d\n",
      "            S = loc[\"center\"][0]-d\n",
      "            W = loc[\"center\"][1]-d\n",
      "            E = loc[\"center\"][1]+d\n",
      "        ugeo.extend(geonames_lookup(entry['uezd'],entry.name,north=N,south=S,west=W,east=E))\n",
      "        time.sleep(1)"
     ],
     "language": "python",
     "metadata": {},
     "outputs": [
      {
       "output_type": "stream",
       "stream": "stdout",
       "text": [
        "New form: \u043f\u043e\u043b\u0442\u043f\u0430\u0432\n",
        "\u043f\u043e\u043b\u0442\u043f\u0430\u0432 was not found."
       ]
      },
      {
       "output_type": "stream",
       "stream": "stdout",
       "text": [
        "\n",
        "New form: \u0438\u043e\u043b\u0442\u0430\u0432"
       ]
      },
      {
       "output_type": "stream",
       "stream": "stdout",
       "text": [
        "\n",
        "\u0438\u043e\u043b\u0442\u0430\u0432 was not found."
       ]
      },
      {
       "output_type": "stream",
       "stream": "stdout",
       "text": [
        "\n",
        "\u0432\u044b\u0442\u0435\u0433\u0440 was not found."
       ]
      },
      {
       "output_type": "stream",
       "stream": "stdout",
       "text": [
        "\n",
        "\u043b\u0435\u0431\u0435\u0434\u0438\u043d was found."
       ]
      },
      {
       "output_type": "stream",
       "stream": "stdout",
       "text": [
        "\n",
        "\u0437\u0435\u043b\u0438\u043a\u043e\u043b\u0443\u0446\u043a was not found."
       ]
      },
      {
       "output_type": "stream",
       "stream": "stdout",
       "text": [
        "\n",
        "New form: \u0435\u043a\u0430\u0442\u0435\u0440\u0438\u043d\u0431\u0443\u0440\u0433"
       ]
      },
      {
       "output_type": "stream",
       "stream": "stdout",
       "text": [
        "\n",
        "\u0435\u043a\u0430\u0442\u0435\u0440\u0438\u043d\u0431\u0443\u0440\u0433 was not found."
       ]
      },
      {
       "output_type": "stream",
       "stream": "stdout",
       "text": [
        "\n",
        "New form: \u0431\u0435\u043b\u0430\u043e\u0437\u0435\u0440"
       ]
      },
      {
       "output_type": "stream",
       "stream": "stdout",
       "text": [
        "\n",
        "\u0431\u0435\u043b\u0430\u043e\u0437\u0435\u0440 was not found."
       ]
      },
      {
       "output_type": "stream",
       "stream": "stdout",
       "text": [
        "\n",
        "\u0441\u0430\u043f\u043e\u0436\u043a was not found."
       ]
      },
      {
       "output_type": "stream",
       "stream": "stdout",
       "text": [
        "\n",
        "New form: \u0434\u0435\u0440\u043f\u0442"
       ]
      },
      {
       "output_type": "stream",
       "stream": "stdout",
       "text": [
        "\n",
        "\u0434\u0435\u0440\u043f\u0442 was found."
       ]
      },
      {
       "output_type": "stream",
       "stream": "stdout",
       "text": [
        "\n",
        "\u043a\u0430\u0440\u0430\u0447\u0435\u0432 was found."
       ]
      },
      {
       "output_type": "stream",
       "stream": "stdout",
       "text": [
        "\n",
        "New form: \u044f\u043a"
       ]
      },
      {
       "output_type": "stream",
       "stream": "stdout",
       "text": [
        "\n",
        "\u044f\u043a was not found."
       ]
      },
      {
       "output_type": "stream",
       "stream": "stdout",
       "text": [
        "\n",
        "\u0441\u0435\u043d was found."
       ]
      },
      {
       "output_type": "stream",
       "stream": "stdout",
       "text": [
        "\n",
        "\u0431\u043e\u0433\u043e\u0440\u043e\u0434\u0441\u043a was found."
       ]
      },
      {
       "output_type": "stream",
       "stream": "stdout",
       "text": [
        "\n",
        "\u043a\u043e\u0437\u044c\u043c\u043e\u0434\u0435\u043c\u044c\u044f\u043d\u0441\u043a was found."
       ]
      },
      {
       "output_type": "stream",
       "stream": "stdout",
       "text": [
        "\n",
        "\u0440\u0443\u0437 was found."
       ]
      },
      {
       "output_type": "stream",
       "stream": "stdout",
       "text": [
        "\n",
        "\u0448\u0443 was found."
       ]
      },
      {
       "output_type": "stream",
       "stream": "stdout",
       "text": [
        "\n",
        "\u0432\u043e\u0441\u043a\u0440\u0435\u0441\u0435\u043d\u0441\u043a was found."
       ]
      },
      {
       "output_type": "stream",
       "stream": "stdout",
       "text": [
        "\n",
        "New form: \u043b\u044e\u0431\u0435\u043d"
       ]
      },
      {
       "output_type": "stream",
       "stream": "stdout",
       "text": [
        "\n",
        "\u043b\u044e\u0431\u0435\u043d was not found."
       ]
      },
      {
       "output_type": "stream",
       "stream": "stdout",
       "text": [
        "\n",
        "\u0435\u0444\u0440\u0435\u043c\u043e\u0432 was found."
       ]
      },
      {
       "output_type": "stream",
       "stream": "stdout",
       "text": [
        "\n",
        "\u0431\u043e\u0440\u043e\u0432\u0441\u043a was found."
       ]
      },
      {
       "output_type": "stream",
       "stream": "stdout",
       "text": [
        "\n",
        "New form: \u0430\u043b\u0430\u0442\u044b\u0440"
       ]
      },
      {
       "output_type": "stream",
       "stream": "stdout",
       "text": [
        "\n",
        "\u0430\u043b\u0430\u0442\u044b\u0440 was found."
       ]
      },
      {
       "output_type": "stream",
       "stream": "stdout",
       "text": [
        "\n",
        "\u043e\u043f\u043e\u0447\u0435\u043a was not found."
       ]
      },
      {
       "output_type": "stream",
       "stream": "stdout",
       "text": [
        "\n",
        "New form: \u0446\u0430\u0440\u0435\u0432\u043e\u043a\u043e\u043a\u0448\u0430\u0439"
       ]
      },
      {
       "output_type": "stream",
       "stream": "stdout",
       "text": [
        "\n",
        "\u0446\u0430\u0440\u0435\u0432\u043e\u043a\u043e\u043a\u0448\u0430\u0439 was not found."
       ]
      },
      {
       "output_type": "stream",
       "stream": "stdout",
       "text": [
        "\n",
        "New form: \u044e\u0440\u044c\u0435\u0432\u0430-\u043f\u043e\u043b\u044c"
       ]
      },
      {
       "output_type": "stream",
       "stream": "stdout",
       "text": [
        "\n",
        "\u044e\u0440\u044c\u0435\u0432\u0430-\u043f\u043e\u043b\u044c was not found."
       ]
      },
      {
       "output_type": "stream",
       "stream": "stdout",
       "text": [
        "\n",
        "\u043f\u043e\u0440\u0445\u043e\u0432 was found."
       ]
      },
      {
       "output_type": "stream",
       "stream": "stdout",
       "text": [
        "\n",
        "New form: \u043c\u0435\u043d"
       ]
      },
      {
       "output_type": "stream",
       "stream": "stdout",
       "text": [
        "\n",
        "\u043c\u0435\u043d was found."
       ]
      },
      {
       "output_type": "stream",
       "stream": "stdout",
       "text": [
        "\n",
        "\u043f\u043e\u0448\u0435\u0445\u043e\u043d\u0441\u043a\u043e\u043c  was not found."
       ]
      },
      {
       "output_type": "stream",
       "stream": "stdout",
       "text": [
        "\n",
        "New form: \u043a\u0443\u0440\u043c\u044b\u0448"
       ]
      },
      {
       "output_type": "stream",
       "stream": "stdout",
       "text": [
        "\n",
        "\u043a\u0443\u0440\u043c\u044b\u0448 was found."
       ]
      },
      {
       "output_type": "stream",
       "stream": "stdout",
       "text": [
        "\n",
        "New form: \u0440\u043e\u0447\u0435\u043d"
       ]
      },
      {
       "output_type": "stream",
       "stream": "stdout",
       "text": [
        "\n",
        "\u0440\u043e\u0447\u0435\u043d was not found."
       ]
      },
      {
       "output_type": "stream",
       "stream": "stdout",
       "text": [
        "\n",
        "New form: \u0441\u0443\u043c"
       ]
      },
      {
       "output_type": "stream",
       "stream": "stdout",
       "text": [
        "\n",
        "\u0441\u0443\u043c was found."
       ]
      },
      {
       "output_type": "stream",
       "stream": "stdout",
       "text": [
        "\n",
        "\u0432\u0430\u0433 was not found."
       ]
      },
      {
       "output_type": "stream",
       "stream": "stdout",
       "text": [
        "\n",
        "New form: \u0437\u0443\u0431\u0446\u043e\u0432"
       ]
      },
      {
       "output_type": "stream",
       "stream": "stdout",
       "text": [
        "\n",
        "\u0437\u0443\u0431\u0446\u043e\u0432 was found."
       ]
      },
      {
       "output_type": "stream",
       "stream": "stdout",
       "text": [
        "\n",
        "New form: \u0440\u0430\u0447\u0435\u0432"
       ]
      },
      {
       "output_type": "stream",
       "stream": "stdout",
       "text": [
        "\n",
        "\u0440\u0430\u0447\u0435\u0432 was not found."
       ]
      },
      {
       "output_type": "stream",
       "stream": "stdout",
       "text": [
        "\n",
        "New form: \u043b\u0443\u0445\u043e\u0432"
       ]
      },
      {
       "output_type": "stream",
       "stream": "stdout",
       "text": [
        "\n",
        "\u043b\u0443\u0445\u043e\u0432 was not found."
       ]
      },
      {
       "output_type": "stream",
       "stream": "stdout",
       "text": [
        "\n",
        "\u043a\u0430\u0440\u043f\u043e\u0432 was found."
       ]
      },
      {
       "output_type": "stream",
       "stream": "stdout",
       "text": [
        "\n",
        "New form: \u0446\u0430\u0440\u0435\u0432\u043e\u0441\u0430\u043d\u0447\u0443\u0440"
       ]
      },
      {
       "output_type": "stream",
       "stream": "stdout",
       "text": [
        "\n",
        "\u0446\u0430\u0440\u0435\u0432\u043e\u0441\u0430\u043d\u0447\u0443\u0440 was not found."
       ]
      },
      {
       "output_type": "stream",
       "stream": "stdout",
       "text": [
        "\n",
        "New form: \u0432\u043e\u043b\u043e\u0434\u0438\u043c\u0435\u0440"
       ]
      },
      {
       "output_type": "stream",
       "stream": "stdout",
       "text": [
        "\n",
        "\u0432\u043e\u043b\u043e\u0434\u0438\u043c\u0435\u0440 was not found."
       ]
      },
      {
       "output_type": "stream",
       "stream": "stdout",
       "text": [
        "\n",
        "\u0434\u043e\u043d\u043a\u043e\u0432 was not found."
       ]
      },
      {
       "output_type": "stream",
       "stream": "stdout",
       "text": [
        "\n",
        "\u043e\u043f\u043e\u0447\u0435\u043a was not found."
       ]
      },
      {
       "output_type": "stream",
       "stream": "stdout",
       "text": [
        "\n",
        "\u043d\u0435\u0440\u0447\u0438\u043d\u0441\u043a was found."
       ]
      },
      {
       "output_type": "stream",
       "stream": "stdout",
       "text": [
        "\n",
        "\u0441\u0442\u0430\u0440 was found."
       ]
      },
      {
       "output_type": "stream",
       "stream": "stdout",
       "text": [
        "\n",
        "\u043f\u043e\u0432\u0435\u043d\u0435\u0446\u043a was not found."
       ]
      },
      {
       "output_type": "stream",
       "stream": "stdout",
       "text": [
        "\n",
        "New form: \u0438\u043d\u0441\u0430\u0440"
       ]
      },
      {
       "output_type": "stream",
       "stream": "stdout",
       "text": [
        "\n",
        "\u0438\u043d\u0441\u0430\u0440 was found."
       ]
      },
      {
       "output_type": "stream",
       "stream": "stdout",
       "text": [
        "\n"
       ]
      }
     ],
     "prompt_number": 101
    },
    {
     "cell_type": "code",
     "collapsed": false,
     "input": [
      "uyGeodf = pd.DataFrame(ugeo,columns=['uy_id','result_placename','searched_placename','admin1','country_name','lat','lng','src_id','country_code','url','src'])\n",
      "uGeodf_merged = pd.merge(uyGeodf,uydf,left_on='uy_id',right_index=True)"
     ],
     "language": "python",
     "metadata": {},
     "outputs": [],
     "prompt_number": 102
    },
    {
     "cell_type": "code",
     "collapsed": false,
     "input": [
      "uGeodf_merged['partof_id'] = uGeodf_merged.namiest.apply(lambda x: bounding_dict[x]['hgr_id'])"
     ],
     "language": "python",
     "metadata": {},
     "outputs": [],
     "prompt_number": 103
    },
    {
     "cell_type": "code",
     "collapsed": false,
     "input": [
      "uGeodf_merged.result_placename + ', ' + uGeodf_merged.admin1"
     ],
     "language": "python",
     "metadata": {},
     "outputs": [
      {
       "metadata": {},
       "output_type": "pyout",
       "prompt_number": 104,
       "text": [
        "0     not_found, not_found\n",
        "1     not_found, not_found\n",
        "2     not_found, not_found\n",
        "3     not_found, not_found\n",
        "4     not_found, not_found\n",
        "5           Lebedin, Kursk\n",
        "6            Lebedyn, Sumy\n",
        "7     not_found, not_found\n",
        "8     not_found, not_found\n",
        "9     not_found, not_found\n",
        "10    not_found, not_found\n",
        "11    not_found, not_found\n",
        "12    not_found, not_found\n",
        "13    not_found, not_found\n",
        "14            Tartu, Tartu\n",
        "...\n",
        "177                            Staraya Ivanovka, Saratov\n",
        "178                         Staraya F\u00ebdorovka, Mordoviya\n",
        "179                           Staraya Chuncha, Udmurtiya\n",
        "180                               Staroye Tonino, Rjazan\n",
        "181                             Staryy Tyazhin, Kemerovo\n",
        "182                                Staryy Kavdyk, Tjumen\n",
        "183    Staryy Katysh, Khanty-Mansiyskiy Avtonomnyy Okrug\n",
        "184                          Staryy Karapuz, Novosibirsk\n",
        "185                          Staraya Azhinka, Altai Krai\n",
        "186                               Staryy Khogot, Irkutsk\n",
        "187                                 not_found, not_found\n",
        "188                                 not_found, not_found\n",
        "189                                     Insar, Mordoviya\n",
        "190                                     Insar, Mordoviya\n",
        "191                             Insar-Akshino, Mordoviya\n",
        "Length: 192, dtype: object"
       ]
      }
     ],
     "prompt_number": 104
    },
    {
     "cell_type": "code",
     "collapsed": false,
     "input": [
      "uGeodf_merged.to_csv('uyezd_geocoded.csv',encoding='utf-8')"
     ],
     "language": "python",
     "metadata": {},
     "outputs": [],
     "prompt_number": 105
    },
    {
     "cell_type": "code",
     "collapsed": false,
     "input": [
      "udf = pd.DataFrame(output)\n",
      "udf.head()"
     ],
     "language": "python",
     "metadata": {},
     "outputs": [
      {
       "ename": "NameError",
       "evalue": "name 'output' is not defined",
       "output_type": "pyerr",
       "traceback": [
        "\u001b[1;31m---------------------------------------------------------------------------\u001b[0m\n\u001b[1;31mNameError\u001b[0m                                 Traceback (most recent call last)",
        "\u001b[1;32m<ipython-input-530-4433a499cef2>\u001b[0m in \u001b[0;36m<module>\u001b[1;34m()\u001b[0m\n\u001b[1;32m----> 1\u001b[1;33m \u001b[0mudf\u001b[0m \u001b[1;33m=\u001b[0m \u001b[0mpd\u001b[0m\u001b[1;33m.\u001b[0m\u001b[0mDataFrame\u001b[0m\u001b[1;33m(\u001b[0m\u001b[0moutput\u001b[0m\u001b[1;33m)\u001b[0m\u001b[1;33m\u001b[0m\u001b[0m\n\u001b[0m\u001b[0;32m      2\u001b[0m \u001b[0mudf\u001b[0m\u001b[1;33m.\u001b[0m\u001b[0mhead\u001b[0m\u001b[1;33m(\u001b[0m\u001b[1;33m)\u001b[0m\u001b[1;33m\u001b[0m\u001b[0m\n",
        "\u001b[1;31mNameError\u001b[0m: name 'output' is not defined"
       ]
      }
     ],
     "prompt_number": 530
    },
    {
     "cell_type": "code",
     "collapsed": false,
     "input": [
      "udf.to_csv('udf.csv',encoding='utf-8')"
     ],
     "language": "python",
     "metadata": {},
     "outputs": []
    },
    {
     "cell_type": "markdown",
     "metadata": {},
     "source": [
      "Market Town Geocoding\n",
      "====================="
     ]
    },
    {
     "cell_type": "code",
     "collapsed": false,
     "input": [
      "geocoded = []\n",
      "problem_prov = []\n",
      "d = 4\n",
      "for x in range(0,len(market_df)):\n",
      "    entry = market_df.iloc[x]\n",
      "    try:\n",
      "        loc = bounding_dict[entry['prov_stem']]\n",
      "    except KeyError:\n",
      "        print(entry['prov_stem'])\n",
      "        problem_prov.append(entry['prov_stem'])\n",
      "        continue\n",
      "    if \"boundaries\" in loc:\n",
      "        W = loc[\"boundaries\"][0]\n",
      "        S = loc[\"boundaries\"][1]\n",
      "        E = loc[\"boundaries\"][2]\n",
      "        N = loc[\"boundaries\"][3]\n",
      "    else:\n",
      "        N = loc[\"center\"][0]+d\n",
      "        S = loc[\"center\"][0]-d\n",
      "        W = loc[\"center\"][1]-d\n",
      "        E = loc[\"center\"][1]+d\n",
      "    geocoded.extend(geonames_lookup(entry['name_modern_sp'],entry.name,north=N,south=S,west=W,east=E))"
     ],
     "language": "python",
     "metadata": {},
     "outputs": []
    },
    {
     "cell_type": "code",
     "collapsed": false,
     "input": [
      "problem_prov"
     ],
     "language": "python",
     "metadata": {},
     "outputs": []
    },
    {
     "cell_type": "code",
     "collapsed": false,
     "input": [
      "geodf = pd.DataFrame(geocoded,columns=['hgr_id','result_placename','searched_placename','admin1','country_name','lat','lng','src_id','country_code','url','src'])"
     ],
     "language": "python",
     "metadata": {},
     "outputs": []
    },
    {
     "cell_type": "code",
     "collapsed": false,
     "input": [
      "len(geodf)"
     ],
     "language": "python",
     "metadata": {},
     "outputs": []
    },
    {
     "cell_type": "code",
     "collapsed": false,
     "input": [
      "geodf.to_excel('geocoded.xlsx',encoding='utf-8')"
     ],
     "language": "python",
     "metadata": {},
     "outputs": []
    },
    {
     "cell_type": "code",
     "collapsed": false,
     "input": [
      "nfdf = geodf.ix[geodf.result_placename=='not_found']\n",
      "len(nfdf)"
     ],
     "language": "python",
     "metadata": {},
     "outputs": []
    },
    {
     "cell_type": "code",
     "collapsed": false,
     "input": [
      "f_unique = len(geodf.ix[geodf.result_placename!='not_found'].hgr_id.unique())\n",
      "nf_unique = len(geodf.ix[geodf.result_placename=='not_found'].hgr_id.unique())\n",
      "total = len(geodf.hgr_id.unique())\n",
      "overlap = (nf_unique + f_unique) - total #overlap caused by changing spelling. \n",
      "print(\"{0} found\\n{1} not found\\n{2} total\".format(f_unique,nf_unique-overlap,total))"
     ],
     "language": "python",
     "metadata": {},
     "outputs": []
    },
    {
     "cell_type": "code",
     "collapsed": false,
     "input": [
      "finding_counts = geodf.ix[geodf.result_placename!='not_found'].pivot_table(index='hgr_id',values='lat',aggfunc=lambda x: len(x.unique()))"
     ],
     "language": "python",
     "metadata": {},
     "outputs": []
    },
    {
     "cell_type": "code",
     "collapsed": false,
     "input": [
      "fdf = pd.DataFrame(finding_counts)"
     ],
     "language": "python",
     "metadata": {},
     "outputs": []
    },
    {
     "cell_type": "code",
     "collapsed": false,
     "input": [
      "fdf.ix[fdf.lat!=1].describe()"
     ],
     "language": "python",
     "metadata": {},
     "outputs": []
    },
    {
     "cell_type": "code",
     "collapsed": false,
     "input": [
      "geodf_merged = pd.merge(geodf,market_df,left_on='hgr_id',right_index=True)\n",
      "geodf_merged = geodf_merged[['hgr_id', 'name', 'alt_name', 'partof_id', 'lng', 'lat', '_type', 'source_url', 'text', 'name_modern_sp', 'result_placename','searched_placename', 'admin1', 'country_name', 'src_id', 'country_code', 'url', 'src', 'ru_prov', 'prov_modern_sp', 'prov_stem', 'ru_uezd', 'page']]"
     ],
     "language": "python",
     "metadata": {},
     "outputs": []
    },
    {
     "cell_type": "markdown",
     "metadata": {},
     "source": [
      "The following cell gives information that can help improve the precision of the results. The pct column shows how disproportionate the number of responses is to the number of queries, so that problematic namiestnichestva can be dealt with."
     ]
    },
    {
     "cell_type": "code",
     "collapsed": false,
     "input": [
      "prov_precision_1 = pd.DataFrame(geodf_merged.ix[geodf_merged.result_placename != 'not_found'].pivot_table(index='prov_stem',values='hgr_id',aggfunc=lambda x: len(x.unique())))\n",
      "prov_precision_2 = pd.DataFrame(geodf_merged.ix[geodf_merged.result_placename != 'not_found'].pivot_table(index='prov_stem',values='lat',aggfunc=lambda x: len(x.unique())))\n",
      "prov_precision = pd.merge(prov_precision_1,prov_precision_2,left_index=True,right_index=True)\n",
      "prov_precision['pct'] = prov_precision.lat/prov_precision.hgr_id*100\n",
      "prov_precision.sort(columns='pct',ascending=False)"
     ],
     "language": "python",
     "metadata": {},
     "outputs": []
    },
    {
     "cell_type": "markdown",
     "metadata": {},
     "source": [
      "The following dataframe view shows the percent of place names for a given namiestnichestva which returned no results when sent to geonames."
     ]
    },
    {
     "cell_type": "code",
     "collapsed": false,
     "input": [
      "prov_recall_1 = pd.DataFrame(geodf_merged.pivot_table(index='prov_stem',values='hgr_id',aggfunc=lambda x: len(x.unique())))\n",
      "prov_recall_2 = pd.DataFrame(geodf_merged.ix[geodf_merged.result_placename == 'not_found'].pivot_table(index='prov_stem',values='hgr_id',aggfunc=lambda x: len(x.unique())))\n",
      "prov_recall = pd.merge(prov_recall_1,prov_recall_2,left_index=True,right_index=True)\n",
      "prov_recall['pct'] = prov_recall.hgr_id_y/prov_recall.hgr_id_x*100\n",
      "prov_recall.sort(columns='pct',ascending=False)"
     ],
     "language": "python",
     "metadata": {},
     "outputs": []
    },
    {
     "cell_type": "code",
     "collapsed": false,
     "input": [
      "cyrillic_translit={u'\\u0410': 'A', u'\\u0430': 'a',u'\\u0411': 'B', u'\\u0431': 'b',u'\\u0412': 'V', u'\\u0432': 'v',u'\\u0413': 'G', u'\\u0433': 'g',u'\\u0414': 'D', u'\\u0434': 'd',u'\\u0415': 'E', u'\\u0435': 'e',u'\\u0416': 'Zh', u'\\u0436': 'zh',u'\\u0417': 'Z', u'\\u0437': 'z',u'\\u0418': 'I', u'\\u0438': 'i',u'\\u0419': 'I', u'\\u0439': 'i',u'\\u041a': 'K', u'\\u043a': 'k',u'\\u041b': 'L', u'\\u043b': 'l',u'\\u041c': 'M', u'\\u043c': 'm',u'\\u041d': 'N', u'\\u043d': 'n',u'\\u041e': 'O', u'\\u043e': 'o',u'\\u041f': 'P', u'\\u043f': 'p',u'\\u0420': 'R', u'\\u0440': 'r',u'\\u0421': 'S', u'\\u0441': 's',u'\\u0422': 'T', u'\\u0442': 't',u'\\u0423': 'U', u'\\u0443': 'u',u'\\u0424': 'F', u'\\u0444': 'f',u'\\u0425': 'Kh', u'\\u0445': 'kh',u'\\u0426': 'Ts', u'\\u0446': 'ts',u'\\u0427': 'Ch', u'\\u0447': 'ch',u'\\u0428': 'Sh', u'\\u0448': 'sh',u'\\u0429': 'Shch', u'\\u0449': 'shch',u'\\u042a': '\"', u'\\u044a': '\"',u'\\u042b': 'Y', u'\\u044b': 'y',u'\\u042c': \"'\", u'\\u044c': \"'\",u'\\u042d': 'E', u'\\u044d': 'e',u'\\u042e': 'Iu', u'\\u044e': 'iu',u'\\u042f': 'Ia', u'\\u044f': 'ia',u'\\u0462': 'E', u'\\u0463': 'e'}\n",
      "\n",
      "def transliterate(word, translit_table):\n",
      "    \"\"\"\n",
      "    Transliterates 'word' based on the key/value pairs in 'translit_table'\n",
      "    \"\"\"\n",
      "    converted_word = ''\n",
      "    for char in word:\n",
      "        transchar = ''\n",
      "        if char in translit_table:\n",
      "            transchar = translit_table[char]\n",
      "        else:\n",
      "            transchar = char\n",
      "        converted_word += transchar\n",
      "    return converted_word"
     ],
     "language": "python",
     "metadata": {},
     "outputs": []
    },
    {
     "cell_type": "code",
     "collapsed": false,
     "input": [
      "geodf_merged['lc_translit'] = geodf_merged.name.apply(lambda text: transliterate(text,cyrillic_translit))"
     ],
     "language": "python",
     "metadata": {},
     "outputs": []
    },
    {
     "cell_type": "code",
     "collapsed": false,
     "input": [
      "def reverse_geocode(lng,lat):\n",
      "    keepgoing = True\n",
      "    while keepgoing == True:\n",
      "        try:\n",
      "            url = \"https://maps.googleapis.com/maps/api/geocode/json\"\n",
      "            Q = {'latlng':\"{},{}\".format(lat,lng)}\n",
      "            R = requests.get(url, params=Q)\n",
      "            print(R.url)\n",
      "            geo_response = R.json()\n",
      "            locality = 'error'\n",
      "            for component in geo_response['results'][0]['address_components']:\n",
      "                if 'locality' in component['types']:\n",
      "                    locality = component['long_name']\n",
      "                elif 'administrative_area_level_1' in component['types']:\n",
      "                    admin1 = component['long_name']\n",
      "                elif 'country' in component['types']:\n",
      "                    country = component['long_name']\n",
      "                    countryCode = component['short_name']\n",
      "            if locality == 'error':\n",
      "                for component in geo_response['results'][0]['address_components']:\n",
      "                    if 'administrative_area_level_2' in component['types']:\n",
      "                        locality = component['long_name']\n",
      "            print(\"\\\"{0}, {1}\\\",\\\"{2}\\\",\\\"{3}\\\"\".format(locality,admin1,country,countryCode))\n",
      "            time.sleep(1)\n",
      "            keepgoing = False\n",
      "        except IndexError:\n",
      "            time.sleep(1)\n",
      "            continue\n",
      "        return \"{}, {}\".format(locality,admin1), country, countryCode"
     ],
     "language": "python",
     "metadata": {},
     "outputs": []
    },
    {
     "cell_type": "code",
     "collapsed": true,
     "input": [
      "geodf_merged.to_excel('geocoded_merged.xlsx',encoding = 'utf-8')\n",
      "geodf_merged.to_csv('geocoded_merged.csv',encoding = 'utf-8')"
     ],
     "language": "python",
     "metadata": {},
     "outputs": []
    },
    {
     "cell_type": "code",
     "collapsed": false,
     "input": [
      "single_results = pd.merge(fdf.ix[fdf.lat==1],geodf_merged,left_index=True,right_on='hgr_id')\n",
      "single_results = single_results.ix[single_results.result_placename!='not_found']"
     ],
     "language": "python",
     "metadata": {},
     "outputs": []
    },
    {
     "cell_type": "markdown",
     "metadata": {},
     "source": [
      "The next cell contains some sort of dark sorcery. I'll try to explain it as best I can. I'm not sure exactly how, but vectorize seems to be a way to get a function that takes multiple inputs to take those inputs from two series, in this case dataframe columns. Not only am I using a function that takes multiple values as input, that function also spits out three different values for output. That's actually the relatively simple part, as I just listed the new columns in the order that the outputs are returned. A stackoverflow suggestion for a function with multiple outputs, but only one input, was to zip them together. I'm not sure why, but that seems to turn the output sideways in this case, so don't zip when you're using np.vectorize to do this. Respect the sorcery that is np."
     ]
    },
    {
     "cell_type": "code",
     "collapsed": false,
     "input": [
      "single_results['pres_loc'], single_results['country'], single_results['country_code'] = np.vectorize(reverse_geocode)(single_results.lng,single_results.lat_y)"
     ],
     "language": "python",
     "metadata": {},
     "outputs": []
    },
    {
     "cell_type": "code",
     "collapsed": false,
     "input": [
      "single_results = single_results[['lat_x', 'hgr_id', 'name', 'alt_name', 'partof_id', 'lng', 'lat_y', '_type', 'source_url', 'text', 'name_modern_sp', 'lc_translit', 'pres_loc', 'country', 'country_code', 'result_placename', 'searched_placename', 'admin1', 'country_name', 'src_id', 'url', 'src', 'ru_prov', 'prov_modern_sp', 'prov_stem', 'ru_uezd', 'page']]"
     ],
     "language": "python",
     "metadata": {},
     "outputs": []
    },
    {
     "cell_type": "code",
     "collapsed": false,
     "input": [
      "single_results.name_modern_sp = single_results.name_modern_sp.str.title()"
     ],
     "language": "python",
     "metadata": {},
     "outputs": []
    },
    {
     "cell_type": "code",
     "collapsed": false,
     "input": [
      "single_results.to_csv('single_results.csv',encoding='utf-8')"
     ],
     "language": "python",
     "metadata": {},
     "outputs": []
    },
    {
     "cell_type": "code",
     "collapsed": false,
     "input": [
      "not_found_merged = geodf_merged.ix[geodf_merged.result_placename == 'not_found']"
     ],
     "language": "python",
     "metadata": {},
     "outputs": []
    },
    {
     "cell_type": "code",
     "collapsed": false,
     "input": [
      "not_found_merged.to_excel('not_found_bounded.xlsx',encoding='utf-8')\n",
      "not_found_merged.to_csv('not_found_bounded.csv',encoding='utf-8')"
     ],
     "language": "python",
     "metadata": {},
     "outputs": []
    },
    {
     "cell_type": "code",
     "collapsed": false,
     "input": [
      "citysort = pd.DataFrame(geodf_merged.pivot_table(index='name',values='lat',aggfunc=lambda x: len(x.unique()))).sort(columns='lat',ascending=False)\n",
      "citysort['cum_sum'] = citysort.lat.cumsum()\n",
      "citysort['cum_perc'] = 100*citysort.cum_sum/citysort.lat.sum()\n",
      "citysort"
     ],
     "language": "python",
     "metadata": {},
     "outputs": []
    },
    {
     "cell_type": "code",
     "collapsed": false,
     "input": [
      "R = requests.get('http://api.geonames.org/search?featureCode=PPL&type=json&north=55.671667&east=43.210556&username=jaguillette&west=35.210556&name=%D0%90%D0%9B%D0%95%D0%9A%D0%A1%D0%95%D0%95%D0%92%D0%9A%D0%90&south=47.671667&adminCode1=76')\n",
      "test = R.json()\n",
      "for k in test['geonames']:\n",
      "    print('{}\\t{}'.format(k['lat'],k['lng']))"
     ],
     "language": "python",
     "metadata": {},
     "outputs": []
    },
    {
     "cell_type": "code",
     "collapsed": false,
     "input": [
      "geodf_merged.ix[geodf_merged.hgr_id==265].url.tolist()"
     ],
     "language": "python",
     "metadata": {},
     "outputs": []
    },
    {
     "cell_type": "code",
     "collapsed": true,
     "input": [
      "print(len(market_df.ix[geodf_merged.ru_prov!='not_in_text']))\n",
      "print(len(market_df.ix[geodf_merged.ru_uezd!='not_in_text']))"
     ],
     "language": "python",
     "metadata": {},
     "outputs": []
    },
    {
     "cell_type": "markdown",
     "metadata": {},
     "source": [
      "Kiev Experiment\n",
      "===============\n",
      "Trying to narrow results with bounding rectangles"
     ]
    },
    {
     "cell_type": "markdown",
     "metadata": {},
     "source": [
      "No bounding rectangle"
     ]
    },
    {
     "cell_type": "code",
     "collapsed": false,
     "input": [
      "kiev = market_df.ix[market_df.prov_stem == '\u043a\u0438\u0435\u0432\u0441\u043a']"
     ],
     "language": "python",
     "metadata": {},
     "outputs": []
    },
    {
     "cell_type": "code",
     "collapsed": false,
     "input": [
      "kiev_geocoded = []\n",
      "for x in range(0,len(kiev)):\n",
      "    entry = kiev.iloc[x]\n",
      "    kiev_geocoded.extend(geonames_lookup(entry['name_modern_sp'],entry.name))"
     ],
     "language": "python",
     "metadata": {},
     "outputs": []
    },
    {
     "cell_type": "code",
     "collapsed": false,
     "input": [
      "kiev_geo_df = pd.DataFrame(kiev_geocoded,columns=['hgr_id','placename','admin1','country_name','lat','lng','src_id','country_code','url','src'])\n",
      "len(kiev_geo_df)"
     ],
     "language": "python",
     "metadata": {},
     "outputs": []
    },
    {
     "cell_type": "code",
     "collapsed": false,
     "input": [
      "kiev_geo_df.to_excel('kiev_unbound.xlsx',encoding='utf-8')"
     ],
     "language": "python",
     "metadata": {},
     "outputs": []
    },
    {
     "cell_type": "markdown",
     "metadata": {},
     "source": [
      "Now we try a bounding rectangle"
     ]
    },
    {
     "cell_type": "code",
     "collapsed": false,
     "input": [
      "kiev_bounded = []\n",
      "for x in range(0,len(kiev)):\n",
      "    entry = kiev.iloc[x]\n",
      "    kiev_bounded.extend(geonames_lookup(entry['name_modern_sp'],entry.name,north=51.49413,south=49.08008,east=34.35625,west=29.72503))"
     ],
     "language": "python",
     "metadata": {},
     "outputs": []
    },
    {
     "cell_type": "code",
     "collapsed": false,
     "input": [
      "kiev_bounded_df = pd.DataFrame(kiev_bounded,columns=['hgr_id','placename','admin1','country_name','lat','lng','src_id','country_code','url','src'])"
     ],
     "language": "python",
     "metadata": {},
     "outputs": []
    },
    {
     "cell_type": "code",
     "collapsed": false,
     "input": [
      "kiev_bound_merged = pd.merge(kiev_bounded_df,market_df,left_on='hgr_id',right_index=True)\n",
      "kiev_bound_merged = kiev_bound_merged[['hgr_id', 'name', 'name_modern_sp', 'placename', 'admin1', 'country_name', 'lat', 'lng', 'src_id', 'country_code', 'url', 'src', 'ru_prov', 'prov_modern_sp', 'prov_stem', 'ru_uezd', 'page', 'text', '_type']]"
     ],
     "language": "python",
     "metadata": {},
     "outputs": []
    },
    {
     "cell_type": "code",
     "collapsed": false,
     "input": [
      "kiev_bound_merged.ix[kiev_bound_merged.placename=='not_found'].to_excel('kiev_not_found.xlsx',encoding='utf-8')"
     ],
     "language": "python",
     "metadata": {},
     "outputs": []
    },
    {
     "cell_type": "code",
     "collapsed": false,
     "input": [
      "kiev_bound_merged.ix[kiev_bound_merged.placename!='not_found'].to_excel('kiev_found.xlsx',encoding='utf-8')"
     ],
     "language": "python",
     "metadata": {},
     "outputs": []
    },
    {
     "cell_type": "code",
     "collapsed": true,
     "input": [
      "market_df.ix[market_df.geo_placename == 'not_found'].to_excel('not_found.xlsx', encoding='utf-8')"
     ],
     "language": "python",
     "metadata": {},
     "outputs": []
    },
    {
     "cell_type": "code",
     "collapsed": false,
     "input": [
      "market_df.to_excel('market_towns.xlsx', encoding=\"utf-8\")"
     ],
     "language": "python",
     "metadata": {},
     "outputs": []
    },
    {
     "cell_type": "markdown",
     "metadata": {},
     "source": [
      "Google Geocoding\n",
      "================\n",
      "Hasn't been worked on in a while. Kind of shabby."
     ]
    },
    {
     "cell_type": "code",
     "collapsed": false,
     "input": [
      "def google_lookup(placename):\n",
      "    url = \"https://maps.googleapis.com/maps/api/geocode/json?address={}\".format(placename)\n",
      "    R = requests.get(url)\n",
      "    google_json = R.json()\n",
      "    Ensure_dir(\"google_jsons\")\n",
      "    try:\n",
      "        google_placename = google_json['results'][0]['formatted_address']\n",
      "        google_lat = google_json['results'][0]['geometry']['location']['lat']\n",
      "        google_lng = google_json['results'][0]['geometry']['location']['lng']\n",
      "        with open(\"google_jsons/{}.json\".format(placename),'w') as jsonfile:\n",
      "            jsonfile.write(R.text)\n",
      "    except IndexError:\n",
      "        google_placename = \"not_found\"\n",
      "        google_lat = \"not_found\"\n",
      "        google_lng = \"not_found\"\n",
      "    return google_placename, google_lat, google_lng, url"
     ],
     "language": "python",
     "metadata": {},
     "outputs": []
    },
    {
     "cell_type": "code",
     "collapsed": false,
     "input": [
      "google_lookup(\"\u0410\u0412\u0414\u0423\u041b\u041e\u0412\u041e\")"
     ],
     "language": "python",
     "metadata": {},
     "outputs": []
    },
    {
     "cell_type": "code",
     "collapsed": false,
     "input": [
      "market_df['google_reconcile'], market_df['google_lat'], market_df['google_lng'], market_df['google_url'] = zip(*market_df[\"name\"].map(google_lookup))"
     ],
     "language": "python",
     "metadata": {},
     "outputs": []
    },
    {
     "cell_type": "code",
     "collapsed": false,
     "input": [
      "def str_comb(df):\n",
      "    return \"{} is a {}\".format(df[0],df[1])\n",
      "test = market_df[['name','_type']].apply(str_comb,axis=1)\n",
      "print(test)"
     ],
     "language": "python",
     "metadata": {},
     "outputs": []
    }
   ],
   "metadata": {}
  }
 ]
}