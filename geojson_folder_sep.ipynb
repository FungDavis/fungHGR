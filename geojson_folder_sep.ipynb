{
 "metadata": {
  "name": "",
  "signature": "sha256:be005db6cfca2e88542b2ac3253e01e00b83970c000203b9351e95119f27496d"
 },
 "nbformat": 3,
 "nbformat_minor": 0,
 "worksheets": [
  {
   "cells": [
    {
     "cell_type": "code",
     "collapsed": false,
     "input": [
      "import os, json\n",
      "import pandas as pd\n",
      "import numpy as np\n",
      "import shutil"
     ],
     "language": "python",
     "metadata": {},
     "outputs": [],
     "prompt_number": 1
    },
    {
     "cell_type": "code",
     "collapsed": false,
     "input": [
      "geodf = pd.DataFrame.from_csv(\"output/no_geo.csv\")"
     ],
     "language": "python",
     "metadata": {},
     "outputs": [],
     "prompt_number": 2
    },
    {
     "cell_type": "code",
     "collapsed": false,
     "input": [
      "geodf[geodf.admin2_partof==291]"
     ],
     "language": "python",
     "metadata": {},
     "outputs": [
      {
       "html": [
        "<div style=\"max-height:1000px;max-width:1500px;overflow:auto;\">\n",
        "<table border=\"1\" class=\"dataframe\">\n",
        "  <thead>\n",
        "    <tr style=\"text-align: right;\">\n",
        "      <th></th>\n",
        "      <th>ru_prov</th>\n",
        "      <th>ru_uezd</th>\n",
        "      <th>page</th>\n",
        "      <th>text</th>\n",
        "      <th>name</th>\n",
        "      <th>alt_name</th>\n",
        "      <th>_type</th>\n",
        "      <th>source_url</th>\n",
        "      <th>html_text</th>\n",
        "      <th>name_modern_sp</th>\n",
        "      <th>prov_modern_sp</th>\n",
        "      <th>uezd_modern_sp</th>\n",
        "      <th>prov_stem</th>\n",
        "      <th>uezd_stem</th>\n",
        "      <th>admin_hierarchy</th>\n",
        "      <th>partof_id</th>\n",
        "      <th>admin1_partof</th>\n",
        "      <th>admin2_partof</th>\n",
        "      <th>partof_prov_name</th>\n",
        "    </tr>\n",
        "  </thead>\n",
        "  <tbody>\n",
        "    <tr>\n",
        "      <th>757</th>\n",
        "      <td> not_in_text</td>\n",
        "      <td> \u0421\u0442\u0430\u0440\u043e\u0439</td>\n",
        "      <td> 126</td>\n",
        "      <td> \u0427\u0415\u0420\u0415\u041d\u0427\u0418\u0426\u041a\u041e\u0419, \u043f\u043e\u0433\u043e\u0441\u0442\u044a \u0432\u044a \u0443\u0463\u0437\u0434\u0463 \u0433\u043e\u0440\u043e\u0434\u0430 \u0421\u0442\u0430\u0440\u043e\u0439 \u0420\u0443...</td>\n",
        "      <td> \u0427\u0435\u0440\u0435\u043d\u0447\u0438\u0446\u043a\u043e\u0439</td>\n",
        "      <td> NaN</td>\n",
        "      <td> \u043f\u043e\u0433\u043e\u0441\u0442\u044a</td>\n",
        "      <td> http://babel.hathitrust.org/cgi/pt?id=uc1.b458...</td>\n",
        "      <td> \u0427\u0415\u0420\u0415\u041d\u0427\u0418\u0426\u041a\u041e\u0419, &lt;/span&gt;&lt;span class=\"font0\" style=...</td>\n",
        "      <td> \u0427\u0435\u0440\u0435\u043d\u0447\u0438\u0446\u043a\u043e\u0439</td>\n",
        "      <td> not_\u0438n_text</td>\n",
        "      <td> \u0421\u0442\u0430\u0440\u043e\u0439</td>\n",
        "      <td> \u043d\u043e\u0442_\u0438\u043d_\u0442\u0435x\u0442</td>\n",
        "      <td> \u0441\u0442\u0430\u0440</td>\n",
        "      <td> \u043d\u043e\u0442_\u0438\u043d_\u0442\u0435x\u0442|\u0441\u0442\u0430\u0440</td>\n",
        "      <td> 291</td>\n",
        "      <td>NaN</td>\n",
        "      <td> 291</td>\n",
        "      <td> None</td>\n",
        "    </tr>\n",
        "  </tbody>\n",
        "</table>\n",
        "</div>"
       ],
       "metadata": {},
       "output_type": "pyout",
       "prompt_number": 13,
       "text": [
        "         ru_prov ru_uezd  page  \\\n",
        "757  not_in_text  \u0421\u0442\u0430\u0440\u043e\u0439   126   \n",
        "\n",
        "                                                  text         name alt_name  \\\n",
        "757  \u0427\u0415\u0420\u0415\u041d\u0427\u0418\u0426\u041a\u041e\u0419, \u043f\u043e\u0433\u043e\u0441\u0442\u044a \u0432\u044a \u0443\u0463\u0437\u0434\u0463 \u0433\u043e\u0440\u043e\u0434\u0430 \u0421\u0442\u0430\u0440\u043e\u0439 \u0420\u0443...  \u0427\u0435\u0440\u0435\u043d\u0447\u0438\u0446\u043a\u043e\u0439      NaN   \n",
        "\n",
        "       _type                                         source_url  \\\n",
        "757  \u043f\u043e\u0433\u043e\u0441\u0442\u044a  http://babel.hathitrust.org/cgi/pt?id=uc1.b458...   \n",
        "\n",
        "                                             html_text name_modern_sp  \\\n",
        "757  \u0427\u0415\u0420\u0415\u041d\u0427\u0418\u0426\u041a\u041e\u0419, </span><span class=\"font0\" style=...    \u0427\u0435\u0440\u0435\u043d\u0447\u0438\u0446\u043a\u043e\u0439   \n",
        "\n",
        "    prov_modern_sp uezd_modern_sp    prov_stem uezd_stem   admin_hierarchy  \\\n",
        "757    not_\u0438n_text         \u0421\u0442\u0430\u0440\u043e\u0439  \u043d\u043e\u0442_\u0438\u043d_\u0442\u0435x\u0442      \u0441\u0442\u0430\u0440  \u043d\u043e\u0442_\u0438\u043d_\u0442\u0435x\u0442|\u0441\u0442\u0430\u0440   \n",
        "\n",
        "     partof_id  admin1_partof  admin2_partof partof_prov_name  \n",
        "757        291            NaN            291             None  "
       ]
      }
     ],
     "prompt_number": 13
    },
    {
     "cell_type": "code",
     "collapsed": false,
     "input": [
      "htest = pd.DataFrame.from_csv(\"output/hgr_test_set_5.csv\")"
     ],
     "language": "python",
     "metadata": {},
     "outputs": [],
     "prompt_number": 3
    },
    {
     "cell_type": "code",
     "collapsed": false,
     "input": [
      "cond = htest.ru_featuretype.isin([\"\u0413\u0443\u0431\u0435\u0440\u043d\u0456\u044f\",\"\u041d\u0430\u043c\u0463\u0441\u0442\u043d\u0438\u0447\u0435\u0441\u0442\u0432\u043e\",\"\u041e\u0431\u043b\u0430\u0441\u0442\u044c\",\"\u0433\u043b\u0430\u0432\u043d\u044b\u0439 \u0433\u043e\u0440\u043e\u0434\u044a\"])\n",
      "prov_name_lookup = htest[cond][['partof_prov_name']].to_dict()"
     ],
     "language": "python",
     "metadata": {},
     "outputs": [],
     "prompt_number": 4
    },
    {
     "cell_type": "code",
     "collapsed": false,
     "input": [
      "prov_name_lookup"
     ],
     "language": "python",
     "metadata": {},
     "outputs": [
      {
       "metadata": {},
       "output_type": "pyout",
       "prompt_number": 5,
       "text": [
        "{'partof_prov_name': {1: '\u041c\u043e\u0441\u043a\u043e\u0432\u0441\u043a\u0430\u044f \u0413\u0443\u0431\u0435\u0440\u043d\u0456\u044f',\n",
        "  2: '\u0410\u0440\u0445\u0430\u043d\u0433\u0435\u043b\u044c\u0441\u043a\u043e\u0435 \u041d\u0430\u043c\u0463\u0441\u0442\u043d\u0438\u0447\u0435\u0441\u0442\u0432\u043e',\n",
        "  3: '\u0412\u043b\u0430\u0434\u0438\u043c\u0435\u0440\u0441\u043a\u043e\u0435 \u041d\u0430\u043c\u0463\u0441\u0442\u043d\u0438\u0447\u0435\u0441\u0442\u0432\u043e',\n",
        "  4: '\u0412\u043e\u043b\u043e\u0433\u043e\u0434\u0441\u043a\u043e\u0435 \u041d\u0430\u043c\u0463\u0441\u0442\u043d\u0438\u0447\u0435\u0441\u0442\u0432\u043e',\n",
        "  5: '\u0412\u043e\u0440\u043e\u043d\u0435\u0436\u0441\u043a\u043e\u0435 \u041d\u0430\u043c\u0463\u0441\u0442\u043d\u0438\u0447\u0435\u0441\u0442\u0432\u043e',\n",
        "  6: '\u0412\u044b\u0431\u043e\u0440\u0433\u0441\u043a\u043e\u0435 \u041d\u0430\u043c\u0463\u0441\u0442\u043d\u0438\u0447\u0435\u0441\u0442\u0432\u043e',\n",
        "  7: '\u0412\u044f\u0442\u0441\u043a\u043e\u0435 \u041d\u0430\u043c\u0463\u0441\u0442\u043d\u0438\u0447\u0435\u0441\u0442\u0432\u043e',\n",
        "  8: '\u0415\u043a\u0430\u0442\u0435\u0440\u0438\u043d\u043e\u0441\u043b\u0430\u0432\u0441\u043a\u043e\u0435 \u041d\u0430\u043c\u0463\u0441\u0442\u043d\u0438\u0447\u0435\u0441\u0442\u0432\u043e',\n",
        "  9: '\u0418\u0440\u043a\u0443\u0442\u0441\u043a\u043e\u0435 \u041d\u0430\u043c\u0463\u0441\u0442\u043d\u0438\u0447\u0435\u0441\u0442\u0432\u043e',\n",
        "  10: '\u041a\u0430\u0432\u043a\u0430\u0437\u0441\u043a\u043e\u0435 \u041d\u0430\u043c\u0463\u0441\u0442\u043d\u0438\u0447\u0435\u0441\u0442\u0432\u043e',\n",
        "  11: '\u041a\u0430\u0437\u0430\u043d\u0441\u043a\u043e\u0435 \u041d\u0430\u043c\u0463\u0441\u0442\u043d\u0438\u0447\u0435\u0441\u0442\u0432\u043e',\n",
        "  12: '\u041a\u0430\u043b\u0443\u0436\u0441\u043a\u043e\u0435 \u041d\u0430\u043c\u0463\u0441\u0442\u043d\u0438\u0447\u0435\u0441\u0442\u0432\u043e',\n",
        "  13: '\u041a\u0456\u0435\u0432\u0441\u043a\u043e\u0435 \u041d\u0430\u043c\u0463\u0441\u0442\u043d\u0438\u0447\u0435\u0441\u0442\u0432\u043e',\n",
        "  14: '\u041a\u043e\u0441\u0442\u0440\u043e\u043c\u0441\u043a\u043e\u0435 \u041d\u0430\u043c\u0463\u0441\u0442\u043d\u0438\u0447\u0435\u0441\u0442\u0432\u043e',\n",
        "  15: '\u041a\u0443\u0440\u0441\u043a\u043e\u0435 \u041d\u0430\u043c\u0463\u0441\u0442\u043d\u0438\u0447\u0435\u0441\u0442\u0432\u043e',\n",
        "  16: '\u041c\u043e\u0433\u0438\u043b\u0435\u0432\u0441\u043a\u043e\u0435 \u041d\u0430\u043c\u0463\u0441\u0442\u043d\u0438\u0447\u0435\u0441\u0442\u0432\u043e',\n",
        "  17: '\u041d\u0438\u0436\u0435\u0433\u043e\u0440\u043e\u0434\u0441\u043a\u043e\u0435 \u041d\u0430\u043c\u0463\u0441\u0442\u043d\u0438\u0447\u0435\u0441\u0442\u0432\u043e',\n",
        "  18: '\u041d\u043e\u0432\u043e\u0433\u043e\u0440\u043e\u0434\u0441\u043a\u043e\u0435 \u041d\u0430\u043c\u0463\u0441\u0442\u043d\u0438\u0447\u0435\u0441\u0442\u0432\u043e',\n",
        "  19: '\u041d\u043e\u0432\u043e\u0433\u043e\u0440\u043e\u0434 - \u0421\u0463\u0432\u0435\u0440\u0441\u043a\u043e\u0435 \u041d\u0430\u043c\u0463\u0441\u0442\u043d\u0438\u0447\u0435\u0441\u0442\u0432\u043e',\n",
        "  20: '\u041e\u043b\u043e\u043d\u0435\u0446\u043a\u043e\u0435 \u041d\u0430\u043c\u0463\u0441\u0442\u043d\u0438\u0447\u0435\u0441\u0442\u0432\u043e',\n",
        "  21: '\u041e\u0440\u043b\u043e\u0432\u0441\u043a\u043e\u0435 \u041d\u0430\u043c\u0463\u0441\u0442\u043d\u0438\u0447\u0435\u0441\u0442\u0432\u043e',\n",
        "  22: '\u041f\u0435\u043d\u0437\u0435\u043d\u0441\u043a\u043e\u0435 \u041d\u0430\u043c\u0463\u0441\u0442\u043d\u0438\u0447\u0435\u0441\u0442\u0432\u043e',\n",
        "  23: '\u041f\u0435\u0440\u043c\u0441\u043a\u043e\u0435 \u041d\u0430\u043c\u0463\u0441\u0442\u043d\u0438\u0447\u0435\u0441\u0442\u0432\u043e',\n",
        "  24: '\u041f\u043e\u043b\u043e\u0442\u0441\u043a\u043e\u0435 \u041d\u0430\u043c\u0463\u0441\u0442\u043d\u0438\u0447\u0435\u0441\u0442\u0432\u043e',\n",
        "  25: '\u041f\u0441\u043a\u043e\u0432\u0441\u043a\u043e\u0435 \u041d\u0430\u043c\u0463\u0441\u0442\u043d\u0438\u0447\u0435\u0441\u0442\u0432\u043e',\n",
        "  26: '\u0420\u0435\u0432\u0435\u043b\u044c\u0441\u043a\u043e\u0435 \u041d\u0430\u043c\u0463\u0441\u0442\u043d\u0438\u0447\u0435\u0441\u0442\u0432\u043e',\n",
        "  27: '\u0420\u0438\u0436\u0441\u043a\u043e\u0435 \u041d\u0430\u043c\u0463\u0441\u0442\u043d\u0438\u0447\u0435\u0441\u0442\u0432\u043e',\n",
        "  28: '\u0420\u044f\u0437\u0430\u043d\u0441\u043a\u043e\u0435 \u041d\u0430\u043c\u0463\u0441\u0442\u043d\u0438\u0447\u0435\u0441\u0442\u0432\u043e',\n",
        "  29: '\u0421\u0430\u0440\u0430\u0442\u043e\u0432\u0441\u043a\u043e\u0435 \u041d\u0430\u043c\u0463\u0441\u0442\u043d\u0438\u0447\u0435\u0441\u0442\u0432\u043e',\n",
        "  30: '\u0421\u0438\u043d\u0431\u0438\u0440\u0441\u043a\u043e\u0435 \u041d\u0430\u043c\u0463\u0441\u0442\u043d\u0438\u0447\u0435\u0441\u0442\u0432\u043e',\n",
        "  31: '\u0421\u043c\u043e\u043b\u0435\u043d\u0441\u043a\u043e\u0435 \u041d\u0430\u043c\u0463\u0441\u0442\u043d\u0438\u0447\u0435\u0441\u0442\u0432\u043e',\n",
        "  32: '\u0422\u0430\u043c\u0431\u043e\u0432\u0441\u043a\u043e\u0435 \u041d\u0430\u043c\u0463\u0441\u0442\u043d\u0438\u0447\u0435\u0441\u0442\u0432\u043e',\n",
        "  33: '\u0422\u0432\u0435\u0440\u0441\u043a\u043e\u0435 \u041d\u0430\u043c\u0463\u0441\u0442\u043d\u0438\u0447\u0435\u0441\u0442\u0432\u043e',\n",
        "  34: '\u0422\u043e\u0431\u043e\u043b\u044c\u0441\u043a\u043e\u0435 \u041d\u0430\u043c\u0463\u0441\u0442\u043d\u0438\u0447\u0435\u0441\u0442\u0432\u043e',\n",
        "  35: '\u0422\u0443\u043b\u044c\u0441\u043a\u043e\u0435 \u041d\u0430\u043c\u0463\u0441\u0442\u043d\u0438\u0447\u0435\u0441\u0442\u0432\u043e',\n",
        "  36: '\u0423\u0444\u0438\u043c\u0441\u043a\u043e\u0435 \u041d\u0430\u043c\u0463\u0441\u0442\u043d\u0438\u0447\u0435\u0441\u0442\u0432\u043e',\n",
        "  37: '\u0425\u0430\u0440\u044c\u043a\u043e\u0432\u0441\u043a\u043e\u0435 \u041d\u0430\u043c\u0463\u0441\u0442\u043d\u0438\u0447\u0435\u0441\u0442\u0432\u043e',\n",
        "  38: '\u0427\u0435\u0440\u043d\u0438\u0433\u043e\u0432\u0441\u043a\u043e\u0435 \u041d\u0430\u043c\u0463\u0441\u0442\u043d\u0438\u0447\u0435\u0441\u0442\u0432\u043e',\n",
        "  39: '\u042f\u0440\u043e\u0441\u043b\u0430\u0432\u0441\u043a\u043e\u0435 \u041d\u0430\u043c\u0463\u0441\u0442\u043d\u0438\u0447\u0435\u0441\u0442\u0432\u043e',\n",
        "  263: '\u0414\u043e\u043d\u0441\u043a\u0438\u0445\u044a \u041a\u043e\u0437\u0430\u043a\u043e\u0432\u044a \u041e\u0431\u043b\u0430\u0441\u0442\u044c',\n",
        "  413: '\u041a\u0430\u0432\u043a\u0430\u0437\u0441\u043a\u043e\u0435 \u041d\u0430\u043c\u0463\u0441\u0442\u043d\u0438\u0447\u0435\u0441\u0442\u0432\u043e'}}"
       ]
      }
     ],
     "prompt_number": 5
    },
    {
     "cell_type": "code",
     "collapsed": false,
     "input": [
      "def prov_lookup(i):\n",
      "    if not np.isnan(i):\n",
      "        i = int(i)\n",
      "        return prov_name_lookup['partof_prov_name'][i]\n",
      "    else:\n",
      "        return \"None\""
     ],
     "language": "python",
     "metadata": {},
     "outputs": [],
     "prompt_number": 6
    },
    {
     "cell_type": "code",
     "collapsed": false,
     "input": [
      "geodf['partof_prov_name'] = geodf.admin1_partof.apply(prov_lookup)"
     ],
     "language": "python",
     "metadata": {},
     "outputs": [],
     "prompt_number": 7
    },
    {
     "cell_type": "code",
     "collapsed": false,
     "input": [
      "test = json.loads(geodf.to_json(orient='index'))"
     ],
     "language": "python",
     "metadata": {},
     "outputs": [],
     "prompt_number": 8
    },
    {
     "cell_type": "code",
     "collapsed": false,
     "input": [
      "filelist = os.listdir(\"geonames_jsons/geojson/\")\n",
      "for i in test.keys():\n",
      "    if \"{}_{}.geojson\".format(test[i]['name'],i) in filelist:\n",
      "        mod_dict = {} #I want to indicate that the source of these properties is hgr, so I'm creating a new dict to modify keys.\n",
      "        for k in test[i]:\n",
      "            mod_dict[\"hgr_{}\".format(k.strip(\"_\"))] = test[i][k]\n",
      "        with open(\"geonames_jsons/geojson/{}_{}.geojson\".format(test[i]['name'],i),'r+',encoding='utf-8') as fp:\n",
      "            mod_json = json.load(fp)\n",
      "            for f in mod_json['features']:\n",
      "                f['properties'].update(mod_dict)\n",
      "        with open(\"geonames_jsons/geojson/{}_{}.geojson\".format(test[i]['name'],i),'w+',encoding='utf-8') as fp:\n",
      "            json.dump(mod_json,fp)"
     ],
     "language": "python",
     "metadata": {},
     "outputs": [],
     "prompt_number": 9
    },
    {
     "cell_type": "code",
     "collapsed": false,
     "input": [
      "agg_dict = {\"type\":\"FeatureCollection\",\"features\":[]}\n",
      "for f in filelist:\n",
      "    with open(\"geonames_jsons/geojson/{}\".format(f),\"r\") as fp:\n",
      "        temp_dict = json.load(fp)\n",
      "    agg_dict['features'].extend(temp_dict['features'])\n",
      "with open(\"geonames_jsons/geojson/aggregate.geojson\",\"w\") as fp:\n",
      "    json.dump(agg_dict,fp)"
     ],
     "language": "python",
     "metadata": {},
     "outputs": [],
     "prompt_number": 12
    }
   ],
   "metadata": {}
  }
 ]
}