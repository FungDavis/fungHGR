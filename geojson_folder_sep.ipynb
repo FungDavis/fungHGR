{
 "metadata": {
  "name": "",
  "signature": "sha256:915f5543a33536528d4fdc9635f47bb62977615484c06b9051b34b7f9b588d77"
 },
 "nbformat": 3,
 "nbformat_minor": 0,
 "worksheets": [
  {
   "cells": [
    {
     "cell_type": "code",
     "collapsed": false,
     "input": [
      "import os, json\n",
      "import pandas as pd\n",
      "import numpy as np\n",
      "import shutil"
     ],
     "language": "python",
     "metadata": {},
     "outputs": [],
     "prompt_number": 2
    },
    {
     "cell_type": "code",
     "collapsed": false,
     "input": [
      "geodf = pd.DataFrame.from_csv(\"output/no_geo.csv\")"
     ],
     "language": "python",
     "metadata": {},
     "outputs": [],
     "prompt_number": 3
    },
    {
     "cell_type": "code",
     "collapsed": false,
     "input": [
      "test = json.loads(geodf.to_json(orient='index'))"
     ],
     "language": "python",
     "metadata": {},
     "outputs": [],
     "prompt_number": 4
    },
    {
     "cell_type": "code",
     "collapsed": false,
     "input": [
      "filelist = os.listdir(\"geonames_jsons/geojson/\")\n",
      "for i in test.keys():\n",
      "    if \"{}_{}.geojson\".format(test[i]['name_modern_sp'],i) in filelist:\n",
      "        mod_dict = {} #I want to indicate that the source of these properties is hgr, so I'm creating a new dict to modify keys.\n",
      "        for k in test[i]:\n",
      "            mod_dict[\"hgr_{}\".format(k.strip(\"_\"))] = test[i][k]\n",
      "        filename = \"{}_{}.geojson\".format(test[i]['name_modern_sp'],i)\n",
      "        with open(\"geonames_jsons/geojson/{}\".format(filename),'r+',encoding='utf-8') as fp:\n",
      "            mod_json = json.load(fp)\n",
      "            for f in mod_json['features']:\n",
      "                f['properties'].update(mod_dict)\n",
      "                f['properties']['UPDATE_SCRIPT'] = \"python add_town_by_geoname_id.py {} {}\".format(filename,f['properties']['geonameId'])\n",
      "        with open(\"geonames_jsons/geojson/{}_{}.geojson\".format(test[i]['name_modern_sp'],i),'w+',encoding='utf-8') as fp:\n",
      "            json.dump(mod_json,fp,sort_keys=True)"
     ],
     "language": "python",
     "metadata": {},
     "outputs": [],
     "prompt_number": 8
    },
    {
     "cell_type": "code",
     "collapsed": false,
     "input": [
      "agg_dict = {\"type\":\"FeatureCollection\",\"features\":[]}\n",
      "for f in filelist:\n",
      "    with open(\"geonames_jsons/geojson/{}\".format(f),\"r\") as fp:\n",
      "        temp_dict = json.load(fp)\n",
      "    agg_dict['features'].extend(temp_dict['features'])\n",
      "with open(\"geonames_jsons/geojson/aggregate.geojson\",\"w\") as fp:\n",
      "    json.dump(agg_dict,fp,sort_keys=True)"
     ],
     "language": "python",
     "metadata": {},
     "outputs": [],
     "prompt_number": 12
    },
    {
     "cell_type": "code",
     "collapsed": false,
     "input": [
      "with open(\"test.json\",\"w\") as fp:\n",
      "    json.dump({'ru_old_orth':{},'alt_name':{},'partof_id':{},'x_coord':{},'y_coord':{},'ru_featuretype':{},'SOURCE':{},'description':{},'ru_new_orth':{},'lc_trans':{},'pres_loc':{},'pres_country':{},'country_code':{},'beg_yr':{},'end_yr':{},'lc_featuretype':{},'id_featuretype':{},'en_featuretype':{},'xy_type':{},'partof_prov':{},'partof_uezd':{},'partof_prov_name':{},'partof_uezd_name':{}},fp,sort_keys=True)"
     ],
     "language": "python",
     "metadata": {},
     "outputs": [],
     "prompt_number": 6
    }
   ],
   "metadata": {}
  }
 ]
}