{
 "metadata": {
  "name": "",
  "signature": "sha256:ff2dd75859d68638ad2c3fa3dd865e947344c783873da208496e18c58f27c4bf"
 },
 "nbformat": 3,
 "nbformat_minor": 0,
 "worksheets": [
  {
   "cells": [
    {
     "cell_type": "code",
     "collapsed": false,
     "input": [
      "import requests, re"
     ],
     "language": "python",
     "metadata": {},
     "outputs": [],
     "prompt_number": 1
    },
    {
     "cell_type": "code",
     "collapsed": false,
     "input": [
      "url = \"http://api.geonames.org/search?username=jaguillette&type=json&north=61.766667&west=36.933333&east=44.933333&name=%D0%BB%D1%83%D1%85&south=53.766667&featureClass=P\"\n",
      "R = requests.get(url)\n",
      "namesjson = R.json()\n",
      "result = namesjson['geonames'][0]\n",
      "res_placename = result['name']\n",
      "searched_placename = re.findall(r'[?&]name=(.*)&',url)[0]\n",
      "admin1 = result['adminName1']\n",
      "country_name = result['countryName']\n",
      "lat = result['lat']\n",
      "lng = result['lng']\n",
      "src_id = result['geonameId']\n",
      "country_code = result['countryCode']\n",
      "print('{}\\t{}\\t{}\\t{}\\t{}\\t{}\\t{}\\t{}\\t{}'.format(res_placename,searched_placename,admin1,country_name,lat,lng,src_id,country_code,url))"
     ],
     "language": "python",
     "metadata": {},
     "outputs": [
      {
       "output_type": "stream",
       "stream": "stdout",
       "text": [
        "Lukh\t%D0%BB%D1%83%D1%85&south=53.766667\tIvanovo\tRussia\t57.01242\t42.25838\t533555\tRU\thttp://api.geonames.org/search?username=jaguillette&type=json&north=61.766667&west=36.933333&east=44.933333&name=%D0%BB%D1%83%D1%85&south=53.766667&featureClass=P\n"
       ]
      }
     ],
     "prompt_number": 3
    }
   ],
   "metadata": {}
  }
 ]
}