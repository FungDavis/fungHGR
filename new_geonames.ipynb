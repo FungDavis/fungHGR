{
 "metadata": {
  "name": "",
  "signature": "sha256:1f21f610cf202c0e41bf7406d366fc4eb25ccad77069186b1f87555d87401c4d"
 },
 "nbformat": 3,
 "nbformat_minor": 0,
 "worksheets": [
  {
   "cells": [
    {
     "cell_type": "code",
     "collapsed": false,
     "input": [
      "import requests, re"
     ],
     "language": "python",
     "metadata": {},
     "outputs": [],
     "prompt_number": 2
    },
    {
     "cell_type": "code",
     "collapsed": false,
     "input": [
      "url = \"http://api.geonames.org/search?username=jaguillette&type=json&north=61.616667&west=35.85&east=43.85&name=\u043f\u043e\u0448\u0435\u0445\u043e\u043d&south=53.616667&featureClass=P\"\n",
      "R = requests.get(url)\n",
      "namesjson = R.json()\n",
      "result = namesjson['geonames'][0]\n",
      "res_placename = result['name']\n",
      "searched_placename = re.findall(r'[?&]name=(.*)&',url)[0]\n",
      "admin1 = result['adminName1']\n",
      "country_name = result['countryName']\n",
      "lat = result['lat']\n",
      "lng = result['lng']\n",
      "src_id = result['geonameId']\n",
      "country_code = result['countryCode']\n",
      "print('{}\\t{}\\t{}\\t{}\\t{}\\t{}\\t{}\\t{}\\t{}'.format(res_placename,searched_placename,admin1,country_name,lat,lng,src_id,country_code,url))"
     ],
     "language": "python",
     "metadata": {},
     "outputs": [
      {
       "output_type": "stream",
       "stream": "stdout",
       "text": [
        "Poshekhon'ye\t\u043f\u043e\u0448\u0435\u0445\u043e\u043d&south=53.616667\tJaroslavl\tRussia\t58.49928\t39.13531\t506029\tRU\thttp://api.geonames.org/search?username=jaguillette&type=json&north=61.616667&west=35.85&east=43.85&name=\u043f\u043e\u0448\u0435\u0445\u043e\u043d&south=53.616667&featureClass=P\n"
       ]
      }
     ],
     "prompt_number": 9
    }
   ],
   "metadata": {}
  }
 ]
}