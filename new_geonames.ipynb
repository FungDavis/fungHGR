{
 "metadata": {
  "name": "",
  "signature": "sha256:9d638e4693f0d32d1a3d7455d2310b4ce47270b66c703bfca7e067c8d3af3e09"
 },
 "nbformat": 3,
 "nbformat_minor": 0,
 "worksheets": [
  {
   "cells": [
    {
     "cell_type": "code",
     "collapsed": false,
     "input": [
      "import requests, re"
     ],
     "language": "python",
     "metadata": {},
     "outputs": [],
     "prompt_number": 2
    },
    {
     "cell_type": "code",
     "collapsed": false,
     "input": [
      "url = \"http://api.geonames.org/search?name=Kolychevo&username=jaguillette&type=json&adminCode1=47\"\n",
      "R = requests.get(url)\n",
      "namesjson = R.json()\n",
      "result = namesjson['geonames'][2]\n",
      "res_placename = result['name']\n",
      "searched_placename = re.findall(r'[?&]name=(.*)&',url)[0]\n",
      "admin1 = result['adminName1']\n",
      "country_name = result['countryName']\n",
      "lat = result['lat']\n",
      "lng = result['lng']\n",
      "src_id = result['geonameId']\n",
      "country_code = result['countryCode']\n",
      "print('{}\\t{}\\t{}\\t{}\\t{}\\t{}\\t{}\\t{}\\t{}'.format(res_placename,searched_placename,admin1,country_name,lat,lng,src_id,country_code,url))"
     ],
     "language": "python",
     "metadata": {},
     "outputs": [
      {
       "output_type": "stream",
       "stream": "stdout",
       "text": [
        "Kolych\u00ebvo\tKolychevo&username=jaguillette&type=json\tMoskovskaya\tRussia\t55.49177\t37.85811\t545999\tRU\thttp://api.geonames.org/search?name=Kolychevo&username=jaguillette&type=json&adminCode1=47\n"
       ]
      }
     ],
     "prompt_number": 3
    }
   ],
   "metadata": {}
  }
 ]
}