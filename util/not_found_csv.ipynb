{
 "metadata": {
  "name": "",
  "signature": "sha256:dfe2daabd8c393cde24ef9033d1754dea5b059c1368e3e69c97286a34c3018ff"
 },
 "nbformat": 3,
 "nbformat_minor": 0,
 "worksheets": [
  {
   "cells": [
    {
     "cell_type": "code",
     "collapsed": false,
     "input": [
      "import pandas as pd\n",
      "import json"
     ],
     "language": "python",
     "metadata": {},
     "outputs": [],
     "prompt_number": 19
    },
    {
     "cell_type": "code",
     "collapsed": false,
     "input": [
      "with open(\"../output/enhanced_dataset.json\",\"r\",encoding='utf-8') as fp:\n",
      "    db = json.load(fp)"
     ],
     "language": "python",
     "metadata": {},
     "outputs": [],
     "prompt_number": 20
    },
    {
     "cell_type": "code",
     "collapsed": false,
     "input": [
      "not_found = {}\n",
      "for k,v in db.items():\n",
      "    if 'geo' not in v:\n",
      "        not_found[k]=v"
     ],
     "language": "python",
     "metadata": {},
     "outputs": [],
     "prompt_number": 21
    },
    {
     "cell_type": "code",
     "collapsed": false,
     "input": [
      "nfdf = pd.DataFrame.from_dict(not_found,orient='index')[['name_new_orth','alt_name_new_orth','description_new_orth','admin1_new_orth','admin2_new_orth']]"
     ],
     "language": "python",
     "metadata": {},
     "outputs": [],
     "prompt_number": 26
    },
    {
     "cell_type": "code",
     "collapsed": false,
     "input": [
      "nfdf['desc_length'] = nfdf.description_new_orth.apply(lambda x: len(x))"
     ],
     "language": "python",
     "metadata": {},
     "outputs": [],
     "prompt_number": 27
    },
    {
     "cell_type": "code",
     "collapsed": false,
     "input": [
      "nfdf.sort(ascending=False,columns='desc_length').to_csv(\"../output/process/long_not_found.csv\",encoding='utf-8')"
     ],
     "language": "python",
     "metadata": {},
     "outputs": [],
     "prompt_number": 31
    }
   ],
   "metadata": {}
  }
 ]
}