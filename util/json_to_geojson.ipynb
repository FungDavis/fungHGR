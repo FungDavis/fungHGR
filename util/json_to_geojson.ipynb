{
 "metadata": {
  "name": "",
  "signature": "sha256:a2e86bd9599a453d9b6af4e657ad29e3a425eac14dfe47c764a3c78c0478de7b"
 },
 "nbformat": 3,
 "nbformat_minor": 0,
 "worksheets": [
  {
   "cells": [
    {
     "cell_type": "code",
     "collapsed": false,
     "input": [
      "import json"
     ],
     "language": "python",
     "metadata": {},
     "outputs": [],
     "prompt_number": 1
    },
    {
     "cell_type": "code",
     "collapsed": false,
     "input": [
      "with open(\"../output/enhanced_dataset.json\",\"r\",encoding='utf-8') as fp:\n",
      "    db = json.load(fp)"
     ],
     "language": "python",
     "metadata": {},
     "outputs": [],
     "prompt_number": 2
    },
    {
     "cell_type": "code",
     "collapsed": false,
     "input": [
      "geojson = {\"features\":[],\"type\":\"FeatureCollection\"}\n",
      "for k,v in db.items():\n",
      "    if 'geo' in v:\n",
      "        feature = {\"geometry\":{'coordinates':[v['geo']['x_coord'],v['geo']['y_coord']],\"type\":\"Point\"},\"type\":\"Feature\"}\n",
      "        feature['properties'] = v\n",
      "        geojson['features'].append(feature)"
     ],
     "language": "python",
     "metadata": {},
     "outputs": [],
     "prompt_number": 3
    },
    {
     "cell_type": "code",
     "collapsed": false,
     "input": [
      "with open(\"../output/enhanced_dataset.geojson\",\"w\",encoding='utf-8') as fp:\n",
      "    json.dump(geojson,fp,sort_keys=True,indent=1)"
     ],
     "language": "python",
     "metadata": {},
     "outputs": [],
     "prompt_number": 4
    }
   ],
   "metadata": {}
  }
 ]
}