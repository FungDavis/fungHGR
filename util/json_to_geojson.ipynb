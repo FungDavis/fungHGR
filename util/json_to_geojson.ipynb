{
 "cells": [
  {
   "cell_type": "code",
   "execution_count": 1,
   "metadata": {
    "collapsed": false
   },
   "outputs": [],
   "source": [
    "import json"
   ]
  },
  {
   "cell_type": "code",
   "execution_count": 2,
   "metadata": {
    "collapsed": false
   },
   "outputs": [],
   "source": [
    "with open(\"../output/enhanced_dataset.json\",\"r\",encoding='utf-8') as fp:\n",
    "    db = json.load(fp)"
   ]
  },
  {
   "cell_type": "code",
   "execution_count": 3,
   "metadata": {
    "collapsed": false
   },
   "outputs": [],
   "source": [
    "geojson = {\"features\":[],\"type\":\"FeatureCollection\"}\n",
    "for k,v in db.items():\n",
    "    if 'geo' in v:\n",
    "        feature = {\"geometry\":{'coordinates':[v['geo']['x_coord'],v['geo']['y_coord']],\"type\":\"Point\"},\"type\":\"Feature\"}\n",
    "        feature['properties'] = v\n",
    "        geojson['features'].append(feature)"
   ]
  },
  {
   "cell_type": "code",
   "execution_count": 4,
   "metadata": {
    "collapsed": false
   },
   "outputs": [],
   "source": [
    "with open(\"../output/enhanced_dataset.geojson\",\"w\",encoding='utf-8') as fp:\n",
    "    json.dump(geojson,fp,sort_keys=True,indent=1)"
   ]
  }
 ],
 "metadata": {
  "kernelspec": {
   "display_name": "Python 3",
   "language": "python",
   "name": "python3"
  },
  "language_info": {
   "codemirror_mode": {
    "name": "ipython",
    "version": 3
   },
   "file_extension": ".py",
   "mimetype": "text/x-python",
   "name": "python",
   "nbconvert_exporter": "python",
   "pygments_lexer": "ipython3",
   "version": "3.4.1"
  }
 },
 "nbformat": 4,
 "nbformat_minor": 0
}
