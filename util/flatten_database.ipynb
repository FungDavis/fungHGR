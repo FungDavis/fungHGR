{
 "metadata": {
  "name": "",
  "signature": "sha256:3d6c04a5da0f19a999251948d4a666497bd105298447ec3245651223b446a043"
 },
 "nbformat": 3,
 "nbformat_minor": 0,
 "worksheets": [
  {
   "cells": [
    {
     "cell_type": "code",
     "collapsed": false,
     "input": [
      "import json\n",
      "import pandas as pd"
     ],
     "language": "python",
     "metadata": {},
     "outputs": [],
     "prompt_number": 3
    },
    {
     "cell_type": "code",
     "collapsed": false,
     "input": [
      "with open(\"../output/enhanced_dataset.json\",\"r\",encoding='utf-8') as fp:\n",
      "    db = json.load(fp)"
     ],
     "language": "python",
     "metadata": {},
     "outputs": [],
     "prompt_number": 26
    },
    {
     "cell_type": "code",
     "collapsed": false,
     "input": [
      "flat_place = db"
     ],
     "language": "python",
     "metadata": {},
     "outputs": [],
     "prompt_number": 27
    },
    {
     "cell_type": "code",
     "collapsed": false,
     "input": [
      "for k,v in flat_place.items():\n",
      "    #flatten goods, creating key in main entry for each good\n",
      "    for gtype in ['specific_goods','general_goods']:\n",
      "        if gtype in v:\n",
      "            for good in v[gtype]:\n",
      "                flat_place[k][gtype[0:2]+\"_\"+good.replace(\" \",\"_\")] = 1\n",
      "            flat_place[k].pop(gtype)\n",
      "    #take out geo key, replace with top level keys, all prepended with 'geo_\n",
      "    if 'geo' in v:\n",
      "        for sk in v['geo']:\n",
      "            flat_place[k]['geo_'+sk] = v['geo'][sk]\n",
      "        flat_place[k].pop('geo')\n",
      "    #take out fair dates, replace with value for number of fairs.\n",
      "    if 'fair_dates' in v:\n",
      "        flat_place[k]['fairs'] = len(v['fair_dates'])\n",
      "        flat_place[k].pop('fair_dates')"
     ],
     "language": "python",
     "metadata": {},
     "outputs": [],
     "prompt_number": 28
    },
    {
     "cell_type": "code",
     "collapsed": false,
     "input": [
      "flat_place_df = pd.DataFrame.from_dict(new_db,orient='index')"
     ],
     "language": "python",
     "metadata": {},
     "outputs": [],
     "prompt_number": 29
    },
    {
     "cell_type": "code",
     "collapsed": false,
     "input": [
      "flat_place_df.to_csv(\"../output/flat_by_place.csv\",encoding='utf-8')\n",
      "flat_place_df.to_excel(\"../output/flat_by_place.xlsx\",encoding='utf-8')"
     ],
     "language": "python",
     "metadata": {},
     "outputs": [],
     "prompt_number": 30
    },
    {
     "cell_type": "code",
     "collapsed": false,
     "input": [
      "flat_fair = db"
     ],
     "language": "python",
     "metadata": {},
     "outputs": [],
     "prompt_number": 31
    },
    {
     "cell_type": "code",
     "collapsed": false,
     "input": [
      "for k,v in flat_fair.items():\n",
      "    #flatten goods, creating key in main entry for each good\n",
      "    for gtype in ['specific_goods','general_goods']:\n",
      "        if gtype in v:\n",
      "            for good in v[gtype]:\n",
      "                flat_place[k][gtype[0:2]+\"_\"+good.replace(\" \",\"_\")] = 1\n",
      "            flat_place[k].pop(gtype)\n",
      "    #take out geo key, replace with top level keys, all prepended with 'geo_'\n",
      "    if 'geo' in v:\n",
      "        for sk in v['geo']:\n",
      "            flat_place[k]['geo_'+sk] = v['geo'][sk]\n",
      "        flat_place[k].pop('geo')\n",
      "    "
     ],
     "language": "python",
     "metadata": {},
     "outputs": []
    }
   ],
   "metadata": {}
  }
 ]
}