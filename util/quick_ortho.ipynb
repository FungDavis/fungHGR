{
 "metadata": {
  "name": "",
  "signature": "sha256:a29a641e0ee7f750ec31940bf2d5627d4c8e2eecf59e891894828744b29a22fc"
 },
 "nbformat": 3,
 "nbformat_minor": 0,
 "worksheets": [
  {
   "cells": [
    {
     "cell_type": "code",
     "collapsed": false,
     "input": [
      "import re,json,nltk\n",
      "from lxml import html\n",
      "\n",
      "with open(\"resources/special_cases.json\",'r',encoding='utf-8') as fp:\n",
      "    lookup_dict = json.load(fp)\n",
      "\n",
      "def ortho_rules(text,lookup_dict):\n",
      "    \"\"\"\n",
      "    Takes a text string and a lookup dict as input\n",
      "    Removes any lingering html tags\n",
      "    Breaks the string down into component words with split\n",
      "    Uses replacements to modernize orthography\n",
      "    Returns re-assembled text with modern orthography\n",
      "    \"\"\"\n",
      "    if type(text)==str:\n",
      "        text = html.fromstring(text).text_content()\n",
      "        textlist = nltk.tokenize.wordpunct_tokenize(text)\n",
      "        out_list = []\n",
      "        for word in textlist:\n",
      "            if word in [',','.',';',':']:\n",
      "                out_list.append(word)\n",
      "                continue\n",
      "            punct = \"\"\n",
      "            if len(re.findall(r\"([,.;:])$\",word))!=0:\n",
      "                punct = re.findall(r\"([,.;:])$\",word)[0]\n",
      "            word = word.strip(',.;:')\n",
      "            if word in lookup_dict:\n",
      "                word = lookup_dict[word]\n",
      "                out_list.append(word)\n",
      "            else:\n",
      "                word = re.sub(\"[\u042a\u044a]$\",'',word)\n",
      "                word = re.sub(r\"^([\u0447\u0435]{0,2}[\u0447]?[\u0432\u0431\u043d\u0440]?[\u0432\u0435\u043e\u0430\u0438])\u0437([\u041f\u0424\u041a\u0422\u0428\u0421\u0427\u043f\u0444\u043a\u0442\u0448\u0441\u0447])\",r\"\\1\u0441\\2\",word,re.IGNORECASE)\n",
      "                word = re.sub(\"\u0430\u0433\u043e$\",\"\u043e\u0433\u043e\",word,re.IGNORECASE)\n",
      "                word = re.sub(\"\u044f\u0433\u043e$\",\"\u0435\u0433\u043e\",word,re.IGNORECASE)\n",
      "                word = re.sub(\"\u044b\u044f$\",\"\u044b\u0435\",word,re.IGNORECASE)\n",
      "                word = re.sub(\"i\u044f$\",\"\u0438\u0435\",word,re.IGNORECASE)\n",
      "                word = word.replace('i','\u0438') #english\n",
      "                word = word.replace('I','\u0418') #english\n",
      "                word = word.replace('\u0456','\u0438') #cyrillic\n",
      "                word = word.replace('\u0406','\u0418') #cyrillic\n",
      "                word = word.replace('\u0462','\u0415')\n",
      "                word = word.replace('\u0463','\u0435')\n",
      "                word = word.replace('\u0472','\u0424')\n",
      "                word = word.replace('\u0473','\u0444')\n",
      "                word += punct\n",
      "                out_list.append(word)\n",
      "        out_str = ' '.join(out_list)\n",
      "        return out_str\n",
      "    else:\n",
      "        return None"
     ],
     "language": "python",
     "metadata": {},
     "outputs": [],
     "prompt_number": 1
    },
    {
     "cell_type": "code",
     "collapsed": false,
     "input": [
      "text = \"\u0411\u0415\u0420\u0415\u0417\u0418\u041d\u042a, \u0438\u043b\u0438 \u0411\u0415\u0420\u0415\u0417\u041d\u0410, \u0433\u043e\u0440\u043e\u0434\u044a \u0427\u0435\u0440\u043d\u0438\u0433\u043e\u0432\u0441\u043a\u0430\u0433\u043e \u041d\u0430\u043c\u0463\u0441\u0442\u043d\u0438\u0447\u0435\u0441\u0442\u0432\u0430. \u0412\u042a \u043e\u043d\u043e\u043c\u042a \u0431\u044b\u0432\u0430\u044e\u0442\u044a \u0432\u042a \u0433\u043e\u0434\u0443 \u0434\u0432\u0463 \u044f\u0440\u043c\u0430\u0440\u043a\u0438: \u043f\u0435\u0440\u0432\u0430\u044f \u0432\u042a \u0434\u0435\u043d\u044c \u0412\u043e\u0437\u043d\u0435\u0441\u0435\u043d\u0456\u044f \u0413\u043e\u0441\u043f\u043e\u0434\u043d\u044f, \u0432\u0442\u043e\u0440\u0430\u044f \u0410\u0432\u0433\u0443\u0441\u0442\u0430 15, \u0432\u042a \u0434\u0435\u043d\u044c \u0423\u0441\u043f\u0435\u043d\u0456\u044f \u0411\u043e\u0433\u043e\u0440\u043e\u0434\u0438\u0446\u044b, \u043d\u0430 \u043a\u043e\u0438\u0445\u042a \u044f\u0440\u043c\u0430\u0440\u043a\u0430\u0445\u044a \u0438 \u0435\u0436\u0435\u043d\u0435\u0434\u0463\u043b\u044c\u043d\u044b\u0445\u044a \u0442\u043e\u0440\u0433\u0430\u0445\u044a \u0432\u042a \u043f\u0440\u043e\u0434\u0430\u0436\u0463 \u0431\u044b\u0432\u0430\u044e\u0442\u044a \u0438\u0437\u042a \u043e\u043a\u043e\u043b\u044c\u043d\u044b\u0445\u044a \u043c\u0463\u0441\u0442\u044a \u043f\u0440\u0438\u0432\u043e\u0437\u0438\u043c\u044b\u0435 \u0440\u0430\u0437\u043d\u044b\u0435 \u0441\u042a\u0463\u0441\u0442\u043d\u044b\u0435 \u0438 \u043f\u0438\u0442\u0435\u0439\u043d\u044b\u0435 \u043f\u0440\u0438\u043f\u0430\u0441\u044b, \u0442\u0430\u043a\u0436\u0435 \u0441\u043a\u043e\u0442\u042a \u0438 \u0434\u0435\u0440\u0435\u0432\u044f\u043d\u043d\u0430\u044f \u043f\u043e\u0441\u0443\u0434\u0430.\"\n",
      "ortho_rules(text,lookup_dict)"
     ],
     "language": "python",
     "metadata": {},
     "outputs": [
      {
       "metadata": {},
       "output_type": "pyout",
       "prompt_number": 12,
       "text": [
        "'\u0411\u0415\u0420\u0415\u0417\u0418\u041d , \u0438\u043b\u0438 \u0411\u0415\u0420\u0415\u0417\u041d\u0410 , \u0433\u043e\u0440\u043e\u0434 \u0427\u0435\u0440\u043d\u0438\u0433\u043e\u0432\u0441\u043a\u043e\u0433\u043e \u041d\u0430\u043c\u0435\u0441\u0442\u043d\u0438\u0447\u0435\u0441\u0442\u0432\u0430 . \u0412 \u043e\u043d\u043e\u043c \u0431\u044b\u0432\u0430\u044e\u0442 \u0432 \u0433\u043e\u0434\u0443 \u0434\u0432\u0435 \u044f\u0440\u043c\u0430\u0440\u043a\u0438 : \u043f\u0435\u0440\u0432\u0430\u044f \u0432 \u0434\u0435\u043d\u044c \u0412\u043e\u0437\u043d\u0435\u0441\u0435\u043d\u0438\u044f \u0413\u043e\u0441\u043f\u043e\u0434\u043d\u044f , \u0432\u0442\u043e\u0440\u0430\u044f \u0410\u0432\u0433\u0443\u0441\u0442\u0430 15 , \u0432 \u0434\u0435\u043d\u044c \u0423\u0441\u043f\u0435\u043d\u0438\u044f \u0411\u043e\u0433\u043e\u0440\u043e\u0434\u0438\u0446\u044b , \u043d\u0430 \u043a\u043e\u0438\u0445 \u044f\u0440\u043c\u0430\u0440\u043a\u0430\u0445 \u0438 \u0435\u0436\u0435\u043d\u0435\u0434\u0435\u043b\u044c\u043d\u044b\u0445 \u0442\u043e\u0440\u0433\u0430\u0445 \u0432 \u043f\u0440\u043e\u0434\u0430\u0436\u0435 \u0431\u044b\u0432\u0430\u044e\u0442 \u0438\u0437 \u043e\u043a\u043e\u043b\u044c\u043d\u044b\u0445 \u043c\u0435\u0441\u0442 \u043f\u0440\u0438\u0432\u043e\u0437\u0438\u043c\u044b\u0435 \u0440\u0430\u0437\u043d\u044b\u0435 \u0441\u042a\u0435\u0441\u0442\u043d\u044b\u0435 \u0438 \u043f\u0438\u0442\u0435\u0439\u043d\u044b\u0435 \u043f\u0440\u0438\u043f\u0430\u0441\u044b , \u0442\u0430\u043a\u0436\u0435 \u0441\u043a\u043e\u0442 \u0438 \u0434\u0435\u0440\u0435\u0432\u044f\u043d\u043d\u0430\u044f \u043f\u043e\u0441\u0443\u0434\u0430 .'"
       ]
      }
     ],
     "prompt_number": 12
    }
   ],
   "metadata": {}
  }
 ]
}