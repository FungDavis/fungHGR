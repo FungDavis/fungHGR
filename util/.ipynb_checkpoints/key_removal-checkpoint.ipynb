{
 "metadata": {
  "name": "",
  "signature": "sha256:af0035cc184e3d7c27a39e8e627a191b48575ccfaf0411c42373b6b891cb2be4"
 },
 "nbformat": 3,
 "nbformat_minor": 0,
 "worksheets": [
  {
   "cells": [
    {
     "cell_type": "markdown",
     "metadata": {},
     "source": [
      "This notebook opens the json dataset, and removes keys in `rem_list` in the third block."
     ]
    },
    {
     "cell_type": "code",
     "collapsed": false,
     "input": [
      "import json"
     ],
     "language": "python",
     "metadata": {},
     "outputs": [],
     "prompt_number": 2
    },
    {
     "cell_type": "code",
     "collapsed": false,
     "input": [
      "with open(\"../output/enhanced_dataset.json\",\"r\",encoding='utf-8') as fp:\n",
      "    db = json.load(fp)"
     ],
     "language": "python",
     "metadata": {},
     "outputs": [],
     "prompt_number": 7
    },
    {
     "cell_type": "code",
     "collapsed": false,
     "input": [
      "for k in db:\n",
      "    rem_list = ['kind_goods','merchants_from','spec_goods']\n",
      "    for i in rem_list:\n",
      "        if i in db[k]:\n",
      "            db[k].pop(i)"
     ],
     "language": "python",
     "metadata": {},
     "outputs": [],
     "prompt_number": 9
    },
    {
     "cell_type": "code",
     "collapsed": false,
     "input": [
      "with open(\"../output/enhanced_dataset.json\",\"w\",encoding='utf-8') as fp:\n",
      "    json.dump(db, fp)"
     ],
     "language": "python",
     "metadata": {},
     "outputs": [],
     "prompt_number": 10
    }
   ],
   "metadata": {}
  }
 ]
}