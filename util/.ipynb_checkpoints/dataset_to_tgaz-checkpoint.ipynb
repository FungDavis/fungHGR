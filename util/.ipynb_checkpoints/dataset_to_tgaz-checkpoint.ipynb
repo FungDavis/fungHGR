{
 "cells": [
  {
   "cell_type": "code",
   "execution_count": 16,
   "metadata": {
    "collapsed": false
   },
   "outputs": [],
   "source": [
    "import pandas as pd\n",
    "import json, datetime"
   ]
  },
  {
   "cell_type": "code",
   "execution_count": 17,
   "metadata": {
    "collapsed": false
   },
   "outputs": [],
   "source": [
    "with open(\"../output/enhanced_dataset.json\",\"r\",encoding=\"utf-8\") as fp:\n",
    "    dataset = json.load(fp)"
   ]
  },
  {
   "cell_type": "code",
   "execution_count": 18,
   "metadata": {
    "collapsed": false
   },
   "outputs": [],
   "source": [
    "tgaz_dataset = []"
   ]
  },
  {
   "cell_type": "code",
   "execution_count": 19,
   "metadata": {
    "collapsed": false
   },
   "outputs": [],
   "source": [
    "for k,v in dataset.items():\n",
    "    try:\n",
    "        print(v['query_datetime'])\n",
    "    except:\n",
    "        v['query_datetime'] = datetime.datetime.strftime(datetime.datetime.now(),\"%Y-%m-%dT%H:%M:%S\")"
   ]
  },
  {
   "cell_type": "code",
   "execution_count": 22,
   "metadata": {
    "collapsed": false
   },
   "outputs": [
    {
     "data": {
      "text/plain": [
       "{'SOURCE': 'http://babel.hathitrust.org/cgi/pt?id=uc1.b4583201;view=1up;seq=10',\n",
       " 'admin1_new_orth': 'Курского Наместничества',\n",
       " 'admin1_old_orth': 'Курскаго Намѣстничества',\n",
       " 'admin1_partofID': 15.0,\n",
       " 'admin1_std_name': 'Курское Наместничество',\n",
       " 'admin1_stem': 'курск',\n",
       " 'admin2_new_orth': 'Белогородском уезде',\n",
       " 'admin2_old_orth': 'Бѣлогородскомъ уѣздѣ',\n",
       " 'admin2_partofID': 89.0,\n",
       " 'admin2_stem': 'белогородск',\n",
       " 'admin_hierarchy': 'курск|белогородск',\n",
       " 'alt_name_new_orth': None,\n",
       " 'alt_name_old_orth': None,\n",
       " 'desc_machine_translated': 'Aleshnya, Sloboda Kursk governorship in the Belgorod district; thereof in the case of the year three fairs: the first on July 17, the second on September 6, the third of December 4. The merchants on these should come from nearby towns; trade cloth, silk, paper and naboychatymi goods, iron, linen, dishes and stuff.',\n",
       " 'description_new_orth': 'АЛЕШНЯ, слобода Курского Наместничества в Белогородском уезде; в оной бывает в году три ярмарки : первая Июля 17, вторая Сентября 6, третия Декабря 4. Купцы на оные приезжают из ближайших городов; торгуют сукнами, шелковыми , бумажными и набойчатыми товарами , железом, полотном , посудою и прочим.',\n",
       " 'description_old_orth': 'АЛЕШНЯ, слобода Курскаго Намѣстничества въ Бѣлогородскомъ уѣздѣ; въ оной бываетъ въ году три ярмарки : первая Іюля 17, вторая Сентября 6, третія Декабря 4. Купцы на оныя пріѣзжаютъ изъ ближайшихъ городовъ; торгуютъ сукнами, шелковыми , бумажными и набойчатыми товарами , желѣзомъ, полотномъ , посудою и прочимъ.',\n",
       " 'fair_dates': [{'beg': '1788-07-17',\n",
       "   'end': '1788-07-17',\n",
       "   'paschal': False,\n",
       "   'text': 'Июля 17'},\n",
       "  {'beg': '1788-09-06',\n",
       "   'end': '1788-09-06',\n",
       "   'paschal': False,\n",
       "   'text': 'Сентября 6'},\n",
       "  {'beg': '1788-12-04',\n",
       "   'end': '1788-12-04',\n",
       "   'paschal': False,\n",
       "   'text': 'Декабря 4'}],\n",
       " 'featuretype_new_orth': 'слобода',\n",
       " 'featuretype_new_orth_lc': 'sloboda',\n",
       " 'featuretype_old_orth': 'слобода',\n",
       " 'featuretype_old_orth_lc': 'sloboda',\n",
       " 'general_goods': ['бумажный товар', 'набойчатый товар', 'шелковый товар'],\n",
       " 'html_text': 'АЛЕШНЯ, </span><span class=\"font0\" style=\"font-style:italic;\">слобода</span><span class=\"font0\"> Курскаго Намѣстничества въ Бѣлогородскомъ уѣздѣ; въ оной бываетъ въ году три ярмарки : первая Іюля 17, вторая Сентября 6, третія Декабря 4. Купцы на оныя пріѣзжаютъ изъ ближайшихъ городовъ; торгуютъ сукнами, шелковыми , бумажными и набойчатыми товарами , желѣзомъ, полотномъ , посудою и прочимъ.</span>',\n",
       " 'name_new_orth': 'Алешня',\n",
       " 'name_new_orth_lc': 'Aleshnia',\n",
       " 'name_old_orth': 'Алешня',\n",
       " 'name_old_orth_lc': 'Aleshnia',\n",
       " 'page': 11,\n",
       " 'partof_id': 89.0,\n",
       " 'query_datetime': '2015-05-05T11:43:37',\n",
       " 'specific_goods': ['железо', 'полотно', 'сукно'],\n",
       " 'txt_id': 14}"
      ]
     },
     "execution_count": 22,
     "metadata": {},
     "output_type": "execute_result"
    }
   ],
   "source": [
    "dataset['14']"
   ]
  },
  {
   "cell_type": "code",
   "execution_count": null,
   "metadata": {
    "collapsed": false
   },
   "outputs": [],
   "source": [
    "for k,v in dataset.items():\n",
    "    entry['sys_id'] = \"hgr_{}\".format(k)\n",
    "    entry['roman'] = v['name_new_orth_lc']\n",
    "    entry['vern'] = v['name_new_orth']\n",
    "    entry['vern_alt'] = v['name_old_orth']\n",
    "    entry['other_id'] = k\n",
    "    entry['beg_yr'] = 1785\n",
    "    entry['end_yr'] = 1796\n",
    "    entry['xy_type'] = 'POINT'\n",
    "    try:\n",
    "        entry['x_coord'] = v['geo']['lng']\n",
    "        entry['y_coord'] = v['geo']['lat']\n",
    "        entry['pres_loc'] = v['geo']['pres_loc']\n",
    "    except:\n",
    "        entry['x_coord'] = None\n",
    "        entry['y_coord'] = None\n",
    "        entry['pres_loc'] = None\n",
    "    entry['partof_id'] = \"HGR_{}\".format(k)\n",
    "    entry['type_rom'] = v['featuretype_new_orth_lc']\n",
    "    entry['type_vern'] = v['featuretype_new_orth']\n",
    "    entry['type_id'] = None\n",
    "    entry['type_eng'] = ???\n",
    "    entry['lev_rank'] = v['']"
   ]
  },
  {
   "cell_type": "code",
   "execution_count": null,
   "metadata": {
    "collapsed": false
   },
   "outputs": [],
   "source": [
    "cols = [\"sys_id\",\"roman\",\"vern\",\"vern_alt\",\"other_id\",\"beg_yr\",\"end_yr\",\"xy_type\",\"x_coord\",\"y_coord\",\"partof_id\",\"pres_loc\",\"type_rom\",\"type_vern\",\"type_id\",\"type_eng\",\"lev_rank\",\"obj_type\",\"note_id\",\"note_id_orig\",\"attested_by\",\"SOURCE_URI\",\"note\",\"geonameId\"]"
   ]
  }
 ],
 "metadata": {
  "kernelspec": {
   "display_name": "Python 3",
   "language": "python",
   "name": "python3"
  },
  "language_info": {
   "codemirror_mode": {
    "name": "ipython",
    "version": 3
   },
   "file_extension": ".py",
   "mimetype": "text/x-python",
   "name": "python",
   "nbconvert_exporter": "python",
   "pygments_lexer": "ipython3",
   "version": "3.4.1"
  }
 },
 "nbformat": 4,
 "nbformat_minor": 0
}
