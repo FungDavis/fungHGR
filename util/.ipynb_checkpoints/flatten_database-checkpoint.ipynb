{
 "metadata": {
  "name": "",
  "signature": "sha256:165f7aa5495ad5b08fc90c57c6812adb6177c1971b6a64c721e1e043d4b74f7d"
 },
 "nbformat": 3,
 "nbformat_minor": 0,
 "worksheets": [
  {
   "cells": [
    {
     "cell_type": "code",
     "collapsed": false,
     "input": [
      "import json\n",
      "import pandas as pd"
     ],
     "language": "python",
     "metadata": {},
     "outputs": [],
     "prompt_number": 47
    },
    {
     "cell_type": "code",
     "collapsed": false,
     "input": [
      "with open(\"../output/enhanced_dataset.json\",\"r\",encoding='utf-8') as fp:\n",
      "    flat_place = json.load(fp)\n",
      "with open(\"../output/enhanced_dataset.json\",\"r\",encoding='utf-8') as fp:\n",
      "    flat_fair = json.load(fp)"
     ],
     "language": "python",
     "metadata": {},
     "outputs": [],
     "prompt_number": 48
    },
    {
     "cell_type": "code",
     "collapsed": false,
     "input": [
      "for k,v in flat_place.items():\n",
      "    #flatten goods, creating key in main entry for each good\n",
      "    for gtype in ['specific_goods','general_goods']:\n",
      "        if gtype in v:\n",
      "            flat_place[k][gtype+\"_count\"] = 0\n",
      "            for good in v[gtype]:\n",
      "                flat_place[k][gtype[0:2]+\"_\"+good.replace(\" \",\"_\")] = 1\n",
      "                flat_place[k][gtype+\"_count\"]+=1\n",
      "            flat_place[k].pop(gtype)\n",
      "    #take out geo key, replace with top level keys, all prepended with 'geo_\n",
      "    if 'geo' in v:\n",
      "        for sk in v['geo']:\n",
      "            flat_place[k]['geo_'+sk] = v['geo'][sk]\n",
      "        flat_place[k].pop('geo')\n",
      "    #take out fair dates, replace with value for number of fairs.\n",
      "    if 'fair_dates' in v:\n",
      "        flat_place[k]['fairs'] = len(v['fair_dates'])\n",
      "        flat_place[k].pop('fair_dates')"
     ],
     "language": "python",
     "metadata": {},
     "outputs": [],
     "prompt_number": 49
    },
    {
     "cell_type": "code",
     "collapsed": false,
     "input": [
      "flat_place_df = pd.DataFrame.from_dict(flat_place,orient='index')\n",
      "flat_place_df['all_goods_count'] = flat_place_df.general_goods_count + flat_place_df.specific_goods_count\n",
      "flat_place_df = flat_place_df.sort_index(axis=1)"
     ],
     "language": "python",
     "metadata": {},
     "outputs": [],
     "prompt_number": 50
    },
    {
     "cell_type": "code",
     "collapsed": false,
     "input": [
      "flat_place_df.to_csv(\"../output/flat_by_place.csv\",encoding='utf-8')\n",
      "flat_place_df.to_excel(\"../output/flat_by_place.xlsx\",encoding='utf-8')"
     ],
     "language": "python",
     "metadata": {},
     "outputs": [],
     "prompt_number": 51
    },
    {
     "cell_type": "code",
     "collapsed": false,
     "input": [
      "fair_list = []\n",
      "for k,v in flat_fair.items():\n",
      "    #flatten goods, creating key in main entry for each good\n",
      "    for gtype in ['specific_goods','general_goods']:\n",
      "        if gtype in v:\n",
      "            for good in v[gtype]:\n",
      "                flat_fair[k][gtype[0:2]+\"_\"+good.replace(\" \",\"_\")] = 1\n",
      "            flat_fair[k].pop(gtype)\n",
      "    #take out geo key, replace with top level keys, all prepended with 'geo_'\n",
      "    if 'geo' in v:\n",
      "        for sk in v['geo']:\n",
      "            flat_fair[k]['geo_'+sk] = v['geo'][sk]\n",
      "        flat_fair[k].pop('geo')\n",
      "    # flattening by fair dates\n",
      "    if 'fair_dates' in v:\n",
      "        for f in v['fair_dates']:\n",
      "            fair = {\"fair_date\":f['beg'],\"fair_text\":f['text'],\"fair_paschal\":f['paschal']}\n",
      "            fair.update(v)\n",
      "            fair.pop('fair_dates')\n",
      "            fair_list.append(fair)"
     ],
     "language": "python",
     "metadata": {},
     "outputs": [],
     "prompt_number": 52
    },
    {
     "cell_type": "code",
     "collapsed": false,
     "input": [
      "flat_fair_df = pd.DataFrame(fair_list)\n",
      "flat_fair_df = flat_fair_df.sort_index(axis=1)\n",
      "len(flat_fair_df.txt_id.unique())"
     ],
     "language": "python",
     "metadata": {},
     "outputs": [
      {
       "metadata": {},
       "output_type": "pyout",
       "prompt_number": 55,
       "text": [
        "525"
       ]
      }
     ],
     "prompt_number": 55
    },
    {
     "cell_type": "code",
     "collapsed": false,
     "input": [
      "len(flat_fair_df)"
     ],
     "language": "python",
     "metadata": {},
     "outputs": [
      {
       "metadata": {},
       "output_type": "pyout",
       "prompt_number": 58,
       "text": [
        "1079"
       ]
      }
     ],
     "prompt_number": 58
    },
    {
     "cell_type": "code",
     "collapsed": false,
     "input": [
      "flat_fair_df.to_csv(\"../output/process/flat_by_fair.csv\",encoding='utf-8')\n",
      "flat_fair_df.to_excel(\"../output/process/flat_by_fair.xlsx\",encoding='utf-8')"
     ],
     "language": "python",
     "metadata": {},
     "outputs": [],
     "prompt_number": 56
    }
   ],
   "metadata": {}
  }
 ]
}