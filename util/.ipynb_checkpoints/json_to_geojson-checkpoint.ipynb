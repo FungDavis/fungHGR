{
 "metadata": {
  "name": "",
  "signature": "sha256:dc83c317161405872528948041537a6549fcf659076b8480d50e7eb4c8db0157"
 },
 "nbformat": 3,
 "nbformat_minor": 0,
 "worksheets": [
  {
   "cells": [
    {
     "cell_type": "code",
     "collapsed": false,
     "input": [
      "import json"
     ],
     "language": "python",
     "metadata": {},
     "outputs": [],
     "prompt_number": 1
    },
    {
     "cell_type": "code",
     "collapsed": false,
     "input": [
      "with open(\"../output/enhanced_dataset.json\",\"r\",encoding='utf-8') as fp:\n",
      "    db = json.load(fp)"
     ],
     "language": "python",
     "metadata": {},
     "outputs": [],
     "prompt_number": 2
    },
    {
     "cell_type": "code",
     "collapsed": false,
     "input": [
      "geojson = {\"features\":[],\"type\":\"FeatureCollection\"}\n",
      "for k,v in db.items():\n",
      "    if 'geo' in v:\n",
      "        feature = {\"geometry\":{'coordinates':[v['geo']['x_coord'],v['geo']['y_coord']],\"type\":\"Point\"},\"type\":\"Feature\"}\n",
      "        feature['properties'] = v\n",
      "        geojson['features'].append(feature)"
     ],
     "language": "python",
     "metadata": {},
     "outputs": [],
     "prompt_number": 3
    },
    {
     "cell_type": "code",
     "collapsed": false,
     "input": [
      "with open(\"../output/enhanced_dataset.geojson\",\"w\",encoding='utf-8') as fp:\n",
      "    json.dump(geojson,fp,sort_keys=True)"
     ],
     "language": "python",
     "metadata": {},
     "outputs": [],
     "prompt_number": 4
    }
   ],
   "metadata": {}
  }
 ]
}