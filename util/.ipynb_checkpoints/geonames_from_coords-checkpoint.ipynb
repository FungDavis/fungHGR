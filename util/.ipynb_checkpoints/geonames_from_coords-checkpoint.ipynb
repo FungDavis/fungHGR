{
 "metadata": {
  "name": "",
  "signature": "sha256:1dd7aa02471315e1058a59613a80a35d5d5e9ec5bae9e8f7eb584128fba18c24"
 },
 "nbformat": 3,
 "nbformat_minor": 0,
 "worksheets": [
  {
   "cells": [
    {
     "cell_type": "code",
     "collapsed": false,
     "input": [
      "import json, requests, os, time"
     ],
     "language": "python",
     "metadata": {},
     "outputs": [],
     "prompt_number": 30
    },
    {
     "cell_type": "code",
     "collapsed": false,
     "input": [
      "\"test.geojson\"[:-8]"
     ],
     "language": "python",
     "metadata": {},
     "outputs": [
      {
       "metadata": {},
       "output_type": "pyout",
       "prompt_number": 17,
       "text": [
        "'test'"
       ]
      }
     ],
     "prompt_number": 17
    },
    {
     "cell_type": "code",
     "collapsed": false,
     "input": [
      "def geonames_save(geo_response,savelocation,convert_to_geojson=False):\n",
      "    \"\"\"\n",
      "    Saves `geo_response` as a json file at `save_location`\n",
      "    \"\"\"\n",
      "    if savelocation[-5:].lower() == '.json':\n",
      "        savelocation = savelocation[:-5]\n",
      "    elif savelocation[-8:].lower() == '.geojson':\n",
      "        savelocation = savelocation[:-8]\n",
      "    if convert_to_geojson:\n",
      "        save_json = {\"type\":\"FeatureCollection\",\"features\":[]}\n",
      "        for f in geo_response['geonames']:\n",
      "            feature = {\"type\":\"Feature\",\"geometry\":{'type':'Point'},\"properties\":{}}\n",
      "            feature['properties'] = f\n",
      "            feature['geometry']['coordinates']=[float(f['lng']),float(f['lat'])]\n",
      "            save_json['features'].append(feature)\n",
      "        savelocation = savelocation + '.geojson'\n",
      "    else:\n",
      "        save_json = geo_response\n",
      "        savelocation = savelocation + '.json'\n",
      "    with open(save_location,'w',encoding='utf-8') as fp:\n",
      "        json.dump(dict(save_json),fp,sort_keys=True)\n",
      "    return True"
     ],
     "language": "python",
     "metadata": {},
     "outputs": [],
     "prompt_number": 18
    },
    {
     "cell_type": "code",
     "collapsed": false,
     "input": [
      "def get_geonames_from_coord(lng,lat,name=\"\",fuzzy=1,step=0.2,limit=1):\n",
      "    \"\"\"\n",
      "    Attempts to get a geonameID from the area around the given coordinates. \n",
      "    name: name to be searched in area. Default is blank, and it will run with a blank name, but this is not recommended.\n",
      "    fuzzy: fuzziness with which to search for name. Use when unsure of spelling of placename.\n",
      "    step: the number of degrees by which the search box expands when a match cannot be found.\n",
      "    limit: the limit to the number of degrees to be added to or subtracted from the initial long/lat\n",
      "    \"\"\"\n",
      "    north = lat + step\n",
      "    south = lat - step\n",
      "    east = lng + step\n",
      "    west = lng - step\n",
      "    searching = True\n",
      "    while searching:\n",
      "        url = \"http://api.geonames.org/search\"\n",
      "        Q = {\"username\":\"jaguillette\",\"featureClass\":\"P\",\"type\":\"json\",\"north\":north,\"south\":south,\"east\":east,\"west\":west,\"name\":name,\"fuzzy\":fuzzy}\n",
      "        R = requests.get(url, params=Q)\n",
      "        response = R.json()\n",
      "        if response['totalResultsCount'] == 1:\n",
      "            return response['geonames'][0]['geonameId']\n",
      "            geonames_save(\"geojson/{}_{}-{}\".format(name,lng,lat),convert_to_geojson=True)\n",
      "            searching = False\n",
      "        elif response['totalResultsCount'] != 0:\n",
      "            print(\"several options, check json output.\")\n",
      "            geonames_save(\"geojson/{}_{}-{}\".format(name,lng,lat),convert_to_geojson=True)\n",
      "            searching = False\n",
      "            return None\n",
      "        else:\n",
      "            if north - lat >= limit:\n",
      "                fuzzy -= .1\n",
      "                north = lat + step\n",
      "                south = lat - step\n",
      "                east = lng + step\n",
      "                west = lng - step\n",
      "                print(\"increased fuzziness, reset bounding box.\")\n",
      "            else:\n",
      "                north += step\n",
      "                south -= step\n",
      "                east += step\n",
      "                west -= step\n",
      "                print(\"expanded search coordinates.\")\n",
      "            time.sleep(1)"
     ],
     "language": "python",
     "metadata": {},
     "outputs": [],
     "prompt_number": 31
    },
    {
     "cell_type": "code",
     "collapsed": false,
     "input": [
      "get_geonames_from_coord(55.115826,57.588161,name=\"Sredniaia Kazanka\")"
     ],
     "language": "python",
     "metadata": {},
     "outputs": [
      {
       "output_type": "stream",
       "stream": "stdout",
       "text": [
        "expanded search coordinates.\n",
        "expanded search coordinates."
       ]
      },
      {
       "output_type": "stream",
       "stream": "stdout",
       "text": [
        "\n",
        "expanded search coordinates."
       ]
      },
      {
       "output_type": "stream",
       "stream": "stdout",
       "text": [
        "\n",
        "expanded search coordinates."
       ]
      },
      {
       "output_type": "stream",
       "stream": "stdout",
       "text": [
        "\n",
        "increased fuzziness, reset bounding box."
       ]
      },
      {
       "output_type": "stream",
       "stream": "stdout",
       "text": [
        "\n",
        "expanded search coordinates."
       ]
      },
      {
       "output_type": "stream",
       "stream": "stdout",
       "text": [
        "\n",
        "expanded search coordinates."
       ]
      },
      {
       "output_type": "stream",
       "stream": "stdout",
       "text": [
        "\n",
        "expanded search coordinates."
       ]
      },
      {
       "output_type": "stream",
       "stream": "stdout",
       "text": [
        "\n",
        "expanded search coordinates."
       ]
      },
      {
       "output_type": "stream",
       "stream": "stdout",
       "text": [
        "\n",
        "increased fuzziness, reset bounding box."
       ]
      },
      {
       "output_type": "stream",
       "stream": "stdout",
       "text": [
        "\n",
        "expanded search coordinates."
       ]
      },
      {
       "output_type": "stream",
       "stream": "stdout",
       "text": [
        "\n"
       ]
      },
      {
       "metadata": {},
       "output_type": "pyout",
       "prompt_number": 32,
       "text": [
        "6267060"
       ]
      }
     ],
     "prompt_number": 32
    },
    {
     "cell_type": "code",
     "collapsed": false,
     "input": [],
     "language": "python",
     "metadata": {},
     "outputs": []
    }
   ],
   "metadata": {}
  }
 ]
}