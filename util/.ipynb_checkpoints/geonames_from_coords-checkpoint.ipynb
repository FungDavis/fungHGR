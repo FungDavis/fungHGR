{
 "metadata": {
  "name": "",
  "signature": "sha256:15bd87c7b02c2a2e288a1192f6b469812a6987ae0e95f43d05df759f703bc139"
 },
 "nbformat": 3,
 "nbformat_minor": 0,
 "worksheets": []
}