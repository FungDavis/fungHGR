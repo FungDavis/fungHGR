{
 "metadata": {
  "name": "",
  "signature": "sha256:065eea94c21cba15d20729ab1553f8476e94f9eccd0c982bb28b5961a49e6fc6"
 },
 "nbformat": 3,
 "nbformat_minor": 0,
 "worksheets": [
  {
   "cells": [
    {
     "cell_type": "code",
     "collapsed": false,
     "input": [
      "import os, json\n",
      "import pandas as pd\n",
      "import numpy as np\n",
      "import shutil"
     ],
     "language": "python",
     "metadata": {},
     "outputs": [],
     "prompt_number": 1
    },
    {
     "cell_type": "code",
     "collapsed": false,
     "input": [
      "geodf = pd.DataFrame.from_csv(\"output/process/no_geo.csv\")"
     ],
     "language": "python",
     "metadata": {},
     "outputs": [],
     "prompt_number": 2
    },
    {
     "cell_type": "code",
     "collapsed": false,
     "input": [
      "test = json.loads(geodf.to_json(orient='index'))"
     ],
     "language": "python",
     "metadata": {},
     "outputs": [],
     "prompt_number": 3
    },
    {
     "cell_type": "code",
     "collapsed": false,
     "input": [
      "filelist = os.listdir(\"geonames_jsons/geojson/\")"
     ],
     "language": "python",
     "metadata": {},
     "outputs": [],
     "prompt_number": 4
    },
    {
     "cell_type": "code",
     "collapsed": false,
     "input": [
      "fileabb = [x.split('_')[0].split('.')[0] for x in filelist]\n",
      "#fileabb"
     ],
     "language": "python",
     "metadata": {},
     "outputs": [],
     "prompt_number": 5
    },
    {
     "cell_type": "code",
     "collapsed": false,
     "input": [
      "filedict = {k:v for k,v in zip(fileabb,filelist)}\n",
      "#filedict"
     ],
     "language": "python",
     "metadata": {},
     "outputs": [],
     "prompt_number": 6
    },
    {
     "cell_type": "markdown",
     "metadata": {},
     "source": [
      "filelist = os.listdir(\"geonames_jsons/geojson/\")\n",
      "i = '51'\n",
      "if \"{}_{}.geojson\".format(test[i]['name_modern_sp'],i) in filelist:\n",
      "    mod_dict = {} #I want to indicate that the source of these properties is hgr, so I'm creating a new dict to modify keys.\n",
      "    for k in test[i]:\n",
      "        mod_dict[\"hgr_{}\".format(k.strip(\"_\"))] = test[i][k]\n",
      "    filename = \"{}_{}.geojson\".format(test[i]['name_modern_sp'],i)\n",
      "    with open(\"geonames_jsons/geojson/{}\".format(filename),'r+',encoding='utf-8') as fp:\n",
      "        mod_json = json.load(fp)\n",
      "        for f in mod_json['features']:\n",
      "            f['properties'].update(mod_dict)\n",
      "            f['properties']['UPDATE_SCRIPT'] = \"python add_town_by_geoname_id.py {} {}\".format(filename,f['properties']['geonameId'])\n",
      "    with open(\"geonames_jsons/geojson/{}_{}.geojson\".format(test[i]['name_modern_sp'],i),'w+',encoding='utf-8') as fp:\n",
      "        json.dump(mod_json,fp,sort_keys=True)"
     ]
    },
    {
     "cell_type": "code",
     "collapsed": false,
     "input": [
      "for i in test.keys():\n",
      "    if i in filedict:\n",
      "        mod_dict = {} #I want to indicate that the source of these properties is hgr, so I'm creating a new dict to modify keys.\n",
      "        for k in test[i]:\n",
      "            mod_dict[\"hgr_{}\".format(k.strip(\"_\"))] = test[i][k]\n",
      "        filename = filedict[i]\n",
      "        with open(\"geonames_jsons/geojson/{}\".format(filename),'r+',encoding='utf-8') as fp:\n",
      "            mod_json = json.load(fp)\n",
      "            for f in mod_json['features']:\n",
      "                f['properties'].update(mod_dict)\n",
      "                f['properties']['UPDATE_SCRIPT'] = \"python add_town_by_geoname_id.py {} {}\".format(filename,f['properties']['geonameId'])\n",
      "        with open(\"geonames_jsons/geojson/{}\".format(filename),'w+',encoding='utf-8') as fp:\n",
      "            json.dump(mod_json,fp,sort_keys=True)"
     ],
     "language": "python",
     "metadata": {},
     "outputs": [],
     "prompt_number": 7
    },
    {
     "cell_type": "code",
     "collapsed": false,
     "input": [
      "agg_dict = {\"type\":\"FeatureCollection\",\"features\":[]}\n",
      "for f in filelist:\n",
      "    with open(\"geonames_jsons/geojson/{}\".format(f),\"r\",encoding='utf-8') as fp:\n",
      "        temp_dict = json.load(fp)\n",
      "    agg_dict['features'].extend(temp_dict['features'])\n",
      "with open(\"geonames_jsons/geojson/aggregate.geojson\",\"w\") as fp:\n",
      "    json.dump(agg_dict,fp,sort_keys=True)"
     ],
     "language": "python",
     "metadata": {},
     "outputs": [],
     "prompt_number": 8
    }
   ],
   "metadata": {}
  }
 ]
}